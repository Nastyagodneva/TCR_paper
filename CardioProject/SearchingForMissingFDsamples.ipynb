{
 "cells": [
  {
   "cell_type": "markdown",
   "metadata": {},
   "source": [
    "# imports:"
   ]
  },
  {
   "cell_type": "code",
   "execution_count": null,
   "metadata": {},
   "outputs": [],
   "source": [
    "from os import listdir,mkdir,makedirs\n",
    "from os.path import isfile, join, isdir,exists\n",
    "import pandas as pd\n",
    "import numpy as np\n",
    "from scipy import stats\n",
    "import re\n",
    "import matplotlib.pyplot as plt\n",
    "from matplotlib.backends.backend_pdf import PdfPages\n",
    "from myplots import roundup, rounddown, find_decimal_fold, percentile_cut_off, rarefaction_calc, rarefaction_plot,draw_correlation_scatter\n",
    "from matplotlib.ticker import FormatStrFormatter\n",
    "import cPickle as pickle\n",
    "from Bio.SeqUtils import GC\n",
    "import seaborn as sns\n",
    "import random\n",
    "from scipy.stats import pearsonr\n",
    "from skbio.diversity.alpha import shannon, simpson, berger_parker_d\n",
    "\n",
    "from pop_organize import get_sample_data, get_sample_with_dfs\n",
    "from SufficientStatistics import *\n",
    "from MyFunctionsShani import *\n",
    "import math\n",
    "from myplots import roundup, rounddown, find_decimal_fold\n",
    "from skbio.stats.distance import mantel\n",
    "from scipy.spatial.distance import braycurtis, pdist\n",
    "from GeneralFeaturePhenotypeInteractions.Feature_phenotype_functions import * \n",
    "from TCR_microbiome_interactions.TCR_microbiome_interactions_functions import *\n",
    "from TCR_feature_generation.SubsamplingFunctions import *\n",
    "from TCR_feature_generation.TCR_feature_generation_functions import *\n",
    "\n",
    "MyPath='/net/mraid08/export/genie/Lab/Personal/ShaniBAF'"
   ]
  },
  {
   "cell_type": "markdown",
   "metadata": {},
   "source": [
    "# searches"
   ]
  },
  {
   "cell_type": "markdown",
   "metadata": {},
   "source": [
    "### folder: 2014-09-20-AS, FDNAS samples"
   ]
  },
  {
   "cell_type": "code",
   "execution_count": null,
   "metadata": {},
   "outputs": [],
   "source": [
    "folder='/net/mraid08/export/jafar/Microbiome/Data/InHouseSeqData/PNP/WGS/Participants/2014-09-20-AS'\n",
    "filesAndFolders = [f for f in listdir(folder)]\n",
    "#if isfile(join(sample_folder, f))]\n",
    "filesAndFolders"
   ]
  },
  {
   "cell_type": "code",
   "execution_count": null,
   "metadata": {},
   "outputs": [],
   "source": [
    "file1='/net/mraid08/export/jafar/Microbiome/Data/InHouseSeqData/PNP/WGS/Participants/2014-09-20-AS/sampleinfo.csv'\n",
    "sampleinfo=pd.read_csv(file1)\n",
    "sampleinfo"
   ]
  },
  {
   "cell_type": "markdown",
   "metadata": {},
   "source": [
    "conclusion1: samples with names FDNAS1-6 were sequenced but not analyzed - check why with Tal"
   ]
  },
  {
   "cell_type": "markdown",
   "metadata": {},
   "source": [
    "### folder 2014-10-05-Exp14 "
   ]
  },
  {
   "cell_type": "code",
   "execution_count": null,
   "metadata": {},
   "outputs": [],
   "source": [
    "folder='/net/mraid08/export/jafar/Microbiome/Data/InHouseSeqData/PNP/WGS/Participants/2014-10-05-Exp14'\n",
    "filesAndFolders = [f for f in listdir(folder)]\n",
    "#if isfile(join(sample_folder, f))]\n",
    "filesAndFolders"
   ]
  },
  {
   "cell_type": "code",
   "execution_count": null,
   "metadata": {},
   "outputs": [],
   "source": [
    "file1='%s/sampleinfo.csv' %folder\n",
    "sampleinfo=pd.read_csv(file1)\n",
    "sampleinfo"
   ]
  },
  {
   "cell_type": "markdown",
   "metadata": {},
   "source": [
    "conclusion2: there are 36 with FDs with 3 digits only. but non of them is in m missing samples list"
   ]
  },
  {
   "cell_type": "code",
   "execution_count": null,
   "metadata": {},
   "outputs": [],
   "source": []
  },
  {
   "cell_type": "markdown",
   "metadata": {},
   "source": [
    "### folder 2014-10-05-2014-11-10-Exp10-11-12 "
   ]
  },
  {
   "cell_type": "code",
   "execution_count": null,
   "metadata": {},
   "outputs": [],
   "source": [
    "folder='/net/mraid08/export/jafar/Microbiome/Data/InHouseSeqData/PNP/WGS/Participants/2014-11-10-Exp10-11-12'\n",
    "filesAndFolders = [f for f in listdir(folder)]\n",
    "#if isfile(join(sample_folder, f))]\n",
    "filesAndFolders"
   ]
  },
  {
   "cell_type": "code",
   "execution_count": null,
   "metadata": {},
   "outputs": [],
   "source": [
    "file1='%s/Exp10_11_12_PoolsInfo_Technion.xlsx' %folder\n",
    "sampleinfo=pd.read_excel(file1)\n",
    "sampleinfo"
   ]
  },
  {
   "cell_type": "markdown",
   "metadata": {},
   "source": [
    "conclusion2: there are 36 with FDs with 3 digits only. but non of them is in m missing samples list"
   ]
  },
  {
   "cell_type": "code",
   "execution_count": null,
   "metadata": {},
   "outputs": [],
   "source": [
    "sampleinfo['FD']=sampleinfo['Fasq_NAME'].str.split('_')\n",
    "sampleinfo"
   ]
  },
  {
   "cell_type": "code",
   "execution_count": null,
   "metadata": {},
   "outputs": [],
   "source": [
    "for n in sampleinfo.index:\n",
    "    if 'FD427' in sampleinfo.loc[n,'Fasq_NAME']:\n",
    "        print sampleinfo.loc[n,:]"
   ]
  },
  {
   "cell_type": "markdown",
   "metadata": {},
   "source": [
    "conclusion3: this folder contains 185 samples with FDs with 3 digits but again, non of them in my missing sample list"
   ]
  },
  {
   "cell_type": "code",
   "execution_count": null,
   "metadata": {},
   "outputs": [],
   "source": []
  },
  {
   "cell_type": "markdown",
   "metadata": {},
   "source": [
    "### folder2016-12-10-SingleFingSample "
   ]
  },
  {
   "cell_type": "code",
   "execution_count": null,
   "metadata": {},
   "outputs": [],
   "source": [
    "folder='/net/mraid08/export/jafar/Microbiome/Data/InHouseSeqData/PNP/WGS/Participants/'\n",
    "filesAndFolders = [f for f in listdir(folder)]\n",
    "#if isfile(join(sample_folder, f))]\n",
    "for f in filesAndFolders:\n",
    "    if '2016' in f:\n",
    "        print f"
   ]
  },
  {
   "cell_type": "markdown",
   "metadata": {},
   "source": [
    "conclusion 4: can't find this folder"
   ]
  },
  {
   "cell_type": "code",
   "execution_count": null,
   "metadata": {},
   "outputs": [],
   "source": []
  }
 ],
 "metadata": {
  "kernelspec": {
   "display_name": "Python 2",
   "language": "python",
   "name": "python2"
  },
  "language_info": {
   "codemirror_mode": {
    "name": "ipython",
    "version": 2
   },
   "file_extension": ".py",
   "mimetype": "text/x-python",
   "name": "python",
   "nbconvert_exporter": "python",
   "pygments_lexer": "ipython2",
   "version": "2.7.8"
  },
  "toc": {
   "nav_menu": {},
   "number_sections": true,
   "sideBar": true,
   "skip_h1_title": false,
   "toc_cell": false,
   "toc_position": {},
   "toc_section_display": "block",
   "toc_window_display": false
  }
 },
 "nbformat": 4,
 "nbformat_minor": 2
}
