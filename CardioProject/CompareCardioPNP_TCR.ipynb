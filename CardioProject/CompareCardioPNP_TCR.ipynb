{
 "cells": [
  {
   "cell_type": "markdown",
   "metadata": {},
   "source": [
    "# IMPORTS"
   ]
  },
  {
   "cell_type": "code",
   "execution_count": 1,
   "metadata": {
    "ExecuteTime": {
     "end_time": "2018-09-25T12:27:37.204238Z",
     "start_time": "2018-09-25T12:27:18.686663Z"
    }
   },
   "outputs": [
    {
     "name": "stdout",
     "output_type": "stream",
     "text": [
      "done1\n",
      "stop\n",
      "stop\n",
      "done1\n",
      "stop\n",
      "done\n",
      "done\n",
      "done\n",
      "done\n",
      "stop\n",
      "stop\n",
      "end of function!!!\n"
     ]
    },
    {
     "name": "stderr",
     "output_type": "stream",
     "text": [
      "/usr/wisdom/python/lib/python2.7/site-packages/h5py/__init__.py:36: FutureWarning: Conversion of the second argument of issubdtype from `float` to `np.floating` is deprecated. In future, it will be treated as `np.float64 == np.dtype(float).type`.\n",
      "  from ._conv import register_converters as _register_converters\n"
     ]
    }
   ],
   "source": [
    "from os import listdir,mkdir,makedirs\n",
    "from os.path import isfile, join, isdir,exists\n",
    "import pandas as pd\n",
    "import numpy as np\n",
    "from scipy import stats\n",
    "import re\n",
    "import matplotlib.pyplot as plt\n",
    "from matplotlib.backends.backend_pdf import PdfPages\n",
    "from myplots import roundup, rounddown, find_decimal_fold, percentile_cut_off, rarefaction_calc, rarefaction_plot,draw_correlation_scatter\n",
    "from matplotlib.ticker import FormatStrFormatter\n",
    "import cPickle as pickle\n",
    "from Bio.SeqUtils import GC\n",
    "import seaborn as sns\n",
    "import random\n",
    "from scipy.stats import pearsonr,fisher_exact\n",
    "from skbio.diversity.alpha import shannon, simpson, berger_parker_d\n",
    "\n",
    "from pop_organize import get_sample_data, get_sample_with_dfs\n",
    "from SufficientStatistics.SufficientStatistics import *\n",
    "from MyFunctionsShani import *\n",
    "import math\n",
    "from myplots import roundup, rounddown, find_decimal_fold\n",
    "from skbio.stats.distance import mantel\n",
    "from scipy.spatial.distance import braycurtis, pdist\n",
    "\n",
    "\n",
    "from GeneralFeaturePhenotypeInteractions.Feature_phenotype_functions import * \n",
    "from TCR_microbiome_interactions.TCR_microbiome_interactions_functions import *\n",
    "from TCR_microbiome_interactions.TCR_microbiome_interactions_functions2 import *\n",
    "from SampleLists.SampleFileFunctions import *\n",
    "from PhenotypicData.PhenotypeGenerationFunctions import *\n",
    "from ShaniBA.CardioProject.CardioFunctions import *\n",
    "from PredictionPipeline.PredictionFunctions import *\n",
    "\n",
    "import os\n",
    "from Utils import cacheOnDisk\n",
    "from SegalQueue.qp import qp,fakeqp\n",
    "from addloglevels import sethandlers\n",
    "\n",
    "MyPath='/net/mraid08/export/genie/Lab/Personal/ShaniBAF'"
   ]
  },
  {
   "cell_type": "code",
   "execution_count": 2,
   "metadata": {
    "ExecuteTime": {
     "end_time": "2018-09-25T12:27:37.214301Z",
     "start_time": "2018-09-25T12:27:37.206510Z"
    }
   },
   "outputs": [
    {
     "data": {
      "text/plain": [
       "'25092018'"
      ]
     },
     "execution_count": 2,
     "metadata": {},
     "output_type": "execute_result"
    }
   ],
   "source": [
    "import time\n",
    "cdate=str(time.strftime(\"%d%m%Y\"))\n",
    "cdate\n"
   ]
  },
  {
   "cell_type": "markdown",
   "metadata": {},
   "source": [
    "# arrange cardio phenotipic data:"
   ]
  },
  {
   "cell_type": "code",
   "execution_count": null,
   "metadata": {
    "ExecuteTime": {
     "end_time": "2018-08-21T09:05:16.906278Z",
     "start_time": "2018-08-21T09:05:11.129Z"
    }
   },
   "outputs": [],
   "source": [
    "#load the phenotype file for cardio samples:\n",
    "f1 = '/net/mraid08/export/genie/Lab/Personal/ShaniBAF/TCR_real_data/CardioSamples/phenotypicData/medical_relevant_features_156x7.csv'          \n",
    "CardioPhen = pd.read_csv(f1)\n",
    "CardioPhen.head()"
   ]
  },
  {
   "cell_type": "code",
   "execution_count": null,
   "metadata": {
    "ExecuteTime": {
     "end_time": "2018-08-21T09:05:16.908566Z",
     "start_time": "2018-08-21T09:05:11.135Z"
    }
   },
   "outputs": [],
   "source": [
    "#load Cardio126 sample list:\n",
    "with open('/net/mraid08/export/genie/Lab/Personal/ShaniBAF/Sample files/BD lists/Cardio126','rb') as fp:\n",
    "    Cardio126=pickle.load(fp)\n",
    "Cardio126 [:5]"
   ]
  },
  {
   "cell_type": "code",
   "execution_count": null,
   "metadata": {
    "ExecuteTime": {
     "end_time": "2018-08-21T09:05:16.910829Z",
     "start_time": "2018-08-21T09:05:11.142Z"
    }
   },
   "outputs": [],
   "source": [
    "#load BD SAMPLE FILE:\n",
    "f1 = '/net/mraid08/export/genie/Lab/Personal/ShaniBAF/Sample files/updatedBDandFDlists/BDfile_31052018.xlsx'          \n",
    "BDfile = pd.read_excel(f1)\n",
    "BDfile.head()"
   ]
  },
  {
   "cell_type": "code",
   "execution_count": null,
   "metadata": {
    "ExecuteTime": {
     "end_time": "2018-08-21T09:05:16.912950Z",
     "start_time": "2018-08-21T09:05:11.147Z"
    }
   },
   "outputs": [],
   "source": [
    "BDfile_small=BDfile[['DnaID','corrected_regCode']]\n",
    "print len(BDfile_small)\n",
    "BDfile_small=BDfile_small.drop_duplicates()\n",
    "BDfile_small=BDfile_small.rename(columns={'DnaID':'BD'})\n",
    "BDfile_small.head()\n",
    "print len(BDfile_small)"
   ]
  },
  {
   "cell_type": "code",
   "execution_count": null,
   "metadata": {
    "ExecuteTime": {
     "end_time": "2018-08-21T09:05:16.915047Z",
     "start_time": "2018-08-21T09:05:11.153Z"
    }
   },
   "outputs": [],
   "source": [
    "cardio126regs=BDfile_small[BDfile_small['BD'].isin(Cardio126)]\n",
    "print len(cardio126regs)"
   ]
  },
  {
   "cell_type": "code",
   "execution_count": null,
   "metadata": {
    "ExecuteTime": {
     "end_time": "2018-08-21T09:05:16.917418Z",
     "start_time": "2018-08-21T09:05:11.159Z"
    }
   },
   "outputs": [],
   "source": [
    "# get the phenotypic data only for Cardio126 samples and index by BD:\n",
    "Cardio126phen=pd.merge(cardio126regs,CardioPhen,how='left', left_on='corrected_regCode',right_on='RegistrationCode')\n",
    "print len(Cardio126phen)\n",
    "Cardio126phen.head()"
   ]
  },
  {
   "cell_type": "code",
   "execution_count": null,
   "metadata": {
    "ExecuteTime": {
     "end_time": "2018-08-21T09:05:16.919618Z",
     "start_time": "2018-08-21T09:05:11.165Z"
    }
   },
   "outputs": [],
   "source": [
    "# Cardio126phen=Cardio126phen.set_index('BD')\n",
    "Cardio126phen=Cardio126phen.drop('corrected_regCode',axis=1)\n",
    "Cardio126phen.head()"
   ]
  },
  {
   "cell_type": "code",
   "execution_count": null,
   "metadata": {
    "ExecuteTime": {
     "end_time": "2018-08-21T09:05:16.921787Z",
     "start_time": "2018-08-21T09:05:11.171Z"
    }
   },
   "outputs": [],
   "source": [
    "f1 = '/net/mraid08/export/genie/Lab/Personal/ShaniBAF/TCR_real_data/CardioSamples/phenotypicData/Cardio126phen'          \n",
    "Cardio126phen.to_pickle(f1)\n",
    "\n",
    "f2 = '/net/mraid08/export/genie/Lab/Personal/ShaniBAF/TCR_real_data/CardioSamples/phenotypicData/Cardio126phen.xlsx'          \n",
    "Cardio126phen.to_excel(f2)"
   ]
  },
  {
   "cell_type": "code",
   "execution_count": null,
   "metadata": {
    "ExecuteTime": {
     "end_time": "2018-08-21T09:05:16.923985Z",
     "start_time": "2018-08-21T09:05:11.176Z"
    }
   },
   "outputs": [],
   "source": [
    "# get phenotypic data only for cardio samples with at least 9000 sequences:\n",
    "dfs_folder='%s/TCR_real_data/CardioSamples/Cardio126_SubSampled9000data_rep1/SamplesForAnalysis_corrected' %MyPath\n",
    "filenames = [f for f in listdir(dfs_folder) if isfile(join(dfs_folder, f))]\n",
    "Cardio126ss9000list = [f.replace('_9000.tsv','') for f in filenames]\n",
    "print len(Cardio126ss9000list)\n",
    "Cardio126ss9000list[:5]"
   ]
  },
  {
   "cell_type": "code",
   "execution_count": null,
   "metadata": {
    "ExecuteTime": {
     "end_time": "2018-08-21T09:05:16.925897Z",
     "start_time": "2018-08-21T09:05:11.181Z"
    }
   },
   "outputs": [],
   "source": [
    "#take only Cardio126ss9000 samples:\n",
    "\n",
    "f2 = '/net/mraid08/export/genie/Lab/Personal/ShaniBAF/TCR_real_data/CardioSamples/phenotypicData/Cardio126phen.xlsx'          \n",
    "Cardio126phen=pd.read_excel(f2)\n",
    "Cardio126phen=Cardio126phen.set_index('BD')\n",
    "Cardio126phen.head()\n",
    "\n"
   ]
  },
  {
   "cell_type": "code",
   "execution_count": null,
   "metadata": {
    "ExecuteTime": {
     "end_time": "2018-08-21T09:05:16.928182Z",
     "start_time": "2018-08-21T09:05:11.187Z"
    }
   },
   "outputs": [],
   "source": [
    "Cardio126ss9000_AgeGenderBMIcreatSmoking=Cardio126phen.loc[Cardio126ss9000list,:]\n",
    "print len(Cardio126ss9000_AgeGenderBMIcreatSmoking)\n",
    "Cardio126ss9000_AgeGenderBMIcreatSmoking.head()"
   ]
  },
  {
   "cell_type": "code",
   "execution_count": null,
   "metadata": {
    "ExecuteTime": {
     "end_time": "2018-08-21T09:05:16.930574Z",
     "start_time": "2018-08-21T09:05:11.194Z"
    }
   },
   "outputs": [],
   "source": [
    "#save filtered file:\n",
    "f1='/net/mraid08/export/genie/Lab/Personal/ShaniBAF/TCR_real_data/CardioSamples/phenotypicData/Cardio126ss9000_AgeGenderBMIcreatSmoking.xlsx' \n",
    "Cardio126ss9000_AgeGenderBMIcreatSmoking.to_excel(f1)"
   ]
  },
  {
   "cell_type": "markdown",
   "metadata": {},
   "source": [
    "## Add new phenotypic data - 050918"
   ]
  },
  {
   "cell_type": "markdown",
   "metadata": {},
   "source": [
    "to add new phenotype data or update existing:\n",
    "1. edit Cardio126phen.xlsx file to include new samples if needed (BD, RegistrationCode are obligatory, Age is not obligatory but recommended to add manually as it won't be added by the code later.\n",
    "2. use a file in the format of 'Medical_database_20-08-2018.xlsx' for updating: update the file name in the following code.\n",
    "3. note the loop over the 'checklist' variables which update existing variables with info from the medical database if it is missing.\n"
   ]
  },
  {
   "cell_type": "code",
   "execution_count": null,
   "metadata": {},
   "outputs": [],
   "source": []
  },
  {
   "cell_type": "code",
   "execution_count": null,
   "metadata": {
    "ExecuteTime": {
     "end_time": "2018-09-05T11:03:32.165139Z",
     "start_time": "2018-09-05T11:03:32.075446Z"
    }
   },
   "outputs": [],
   "source": [
    "f1='/net/mraid08/export/genie/Lab/Personal/ShaniBAF/TCR_real_data/CardioSamples/phenotypicData/Cardio126phen.xlsx' \n",
    "Cardio126phen=pd.read_excel(f1)\n",
    "Cardio126phen.head()"
   ]
  },
  {
   "cell_type": "code",
   "execution_count": null,
   "metadata": {
    "ExecuteTime": {
     "end_time": "2018-09-05T11:03:33.423384Z",
     "start_time": "2018-09-05T11:03:32.648715Z"
    }
   },
   "outputs": [],
   "source": [
    "#load new phenotype data:\n",
    "f2='/net/mraid08/export/genie/Lab/Personal/ShaniBAF/TCR_real_data/CardioSamples/phenotypicData/Medical_database_20-08-2018.xlsx'\n",
    "Medical_database=pd.read_excel(f2)\n",
    "Medical_database.head()"
   ]
  },
  {
   "cell_type": "code",
   "execution_count": null,
   "metadata": {
    "ExecuteTime": {
     "end_time": "2018-09-05T11:03:35.172523Z",
     "start_time": "2018-09-05T11:03:35.163776Z"
    }
   },
   "outputs": [],
   "source": [
    "Medical_database['BMI']=Medical_database['Weight (kg)']/((Medical_database['Height (cm)']/100)**2)"
   ]
  },
  {
   "cell_type": "code",
   "execution_count": null,
   "metadata": {
    "ExecuteTime": {
     "end_time": "2018-09-05T11:03:36.241036Z",
     "start_time": "2018-09-05T11:03:35.980983Z"
    }
   },
   "outputs": [],
   "source": [
    "Medical_database['BMI'].hist()\n",
    "plt.show()"
   ]
  },
  {
   "cell_type": "code",
   "execution_count": null,
   "metadata": {
    "ExecuteTime": {
     "end_time": "2018-09-05T10:55:12.418624Z",
     "start_time": "2018-09-05T10:55:12.414101Z"
    }
   },
   "outputs": [],
   "source": [
    "import daytime \n",
    "import datetime"
   ]
  },
  {
   "cell_type": "code",
   "execution_count": null,
   "metadata": {
    "ExecuteTime": {
     "end_time": "2018-09-05T11:05:34.266344Z",
     "start_time": "2018-09-05T11:05:34.258911Z"
    }
   },
   "outputs": [],
   "source": [
    "Medical_database['Date of Birth'].head()"
   ]
  },
  {
   "cell_type": "code",
   "execution_count": null,
   "metadata": {
    "ExecuteTime": {
     "end_time": "2018-09-05T11:36:47.598584Z",
     "start_time": "2018-09-05T11:36:47.576959Z"
    }
   },
   "outputs": [],
   "source": [
    "#extract year of birth\n",
    "Medical_database['year of Birth']=((Medical_database['Date of Birth'].astype(str)).str.split('-')).str[0]\n",
    "Medical_database['year of Birth']=np.where(Medical_database['year of Birth'].str.contains('/'),\n",
    "                                          ((Medical_database['year of Birth'].astype(str)).str.split('/')).str[2],\n",
    "                                          Medical_database['year of Birth'])\n",
    "Medical_database['year of Birth']=pd.to_numeric(Medical_database['year of Birth'], errors='coerce')"
   ]
  },
  {
   "cell_type": "code",
   "execution_count": null,
   "metadata": {
    "ExecuteTime": {
     "end_time": "2018-09-05T11:38:58.184228Z",
     "start_time": "2018-09-05T11:38:58.162245Z"
    }
   },
   "outputs": [],
   "source": [
    "#extract year admission\n",
    "Medical_database['Admission Year']=((Medical_database['Admission Date'].astype(str)).str.split('-')).str[0]\n",
    "Medical_database['Admission Year']=np.where(Medical_database['Admission Year'].str.contains('/'),\n",
    "                                          ((Medical_database['Admission Year'].astype(str)).str.split('/')).str[2],\n",
    "                                          Medical_database['Admission Year'])\n",
    "Medical_database['Admission Year']=pd.to_numeric(Medical_database['Admission Year'], errors='coerce')\n",
    "print Medical_database['Admission Year'].describe()"
   ]
  },
  {
   "cell_type": "code",
   "execution_count": null,
   "metadata": {
    "ExecuteTime": {
     "end_time": "2018-09-05T11:39:44.731073Z",
     "start_time": "2018-09-05T11:39:44.720286Z"
    }
   },
   "outputs": [],
   "source": [
    "Medical_database['Age']=Medical_database['Admission Year']-Medical_database['year of Birth']\n",
    "print Medical_database['Age'].describe()"
   ]
  },
  {
   "cell_type": "code",
   "execution_count": null,
   "metadata": {
    "ExecuteTime": {
     "end_time": "2018-09-05T11:40:25.637897Z",
     "start_time": "2018-09-05T11:40:25.633869Z"
    }
   },
   "outputs": [],
   "source": [
    "print len(Medical_database)"
   ]
  },
  {
   "cell_type": "code",
   "execution_count": null,
   "metadata": {
    "ExecuteTime": {
     "end_time": "2018-09-05T10:40:19.856317Z",
     "start_time": "2018-09-05T10:40:19.831384Z"
    }
   },
   "outputs": [],
   "source": [
    "Medical_database.columns.values.tolist()"
   ]
  },
  {
   "cell_type": "code",
   "execution_count": null,
   "metadata": {
    "ExecuteTime": {
     "end_time": "2018-09-05T10:40:21.314941Z",
     "start_time": "2018-09-05T10:40:21.309304Z"
    }
   },
   "outputs": [],
   "source": [
    "interestingColumns=['RegistrationCode','Age','Creatinine','BMI','Smoking Status','Pack Years','eGFR by CKD-EPI','WBC','CRP','Known CAD','Previous PCI',\n",
    "                    'Previous CABG','LVEF','Initial Troponin','Maximal Troponin']"
   ]
  },
  {
   "cell_type": "code",
   "execution_count": null,
   "metadata": {
    "ExecuteTime": {
     "end_time": "2018-09-05T10:40:22.515455Z",
     "start_time": "2018-09-05T10:40:22.508779Z"
    }
   },
   "outputs": [],
   "source": [
    "Medical_database_short=Medical_database[interestingColumns]"
   ]
  },
  {
   "cell_type": "code",
   "execution_count": null,
   "metadata": {
    "ExecuteTime": {
     "end_time": "2018-09-05T10:41:43.641480Z",
     "start_time": "2018-09-05T10:41:43.622391Z"
    }
   },
   "outputs": [],
   "source": [
    "Cardio126phenNew=pd.merge(Cardio126phen,Medical_database_short,how='left', left_on='RegistrationCode', right_on='RegistrationCode')\n",
    "print len(Cardio126phen)\n",
    "print len(Cardio126phenNew)"
   ]
  },
  {
   "cell_type": "code",
   "execution_count": null,
   "metadata": {
    "ExecuteTime": {
     "end_time": "2018-09-05T10:41:45.100792Z",
     "start_time": "2018-09-05T10:41:45.084718Z"
    }
   },
   "outputs": [],
   "source": [
    "checkList=['Creatinine','BMI']\n",
    "for col in checkList:\n",
    "    print col\n",
    "    Cardio126phenNew[col+'_x']=np.where(Cardio126phenNew[col+'_x'].isnull(),Cardio126phenNew[col+'_y'],Cardio126phenNew[col+'_x'])\n",
    "    Cardio126phenNew=Cardio126phenNew.drop(col+'_y',axis=1)\n",
    "    Cardio126phenNew=Cardio126phenNew.rename(columns={col+'_x':col})"
   ]
  },
  {
   "cell_type": "code",
   "execution_count": null,
   "metadata": {
    "ExecuteTime": {
     "end_time": "2018-09-05T10:41:45.100792Z",
     "start_time": "2018-09-05T10:41:45.084718Z"
    }
   },
   "outputs": [],
   "source": [
    "checkList2=[('Smoking','Smoking Status',)]\n",
    "for col in checkList:\n",
    "    print col\n",
    "    Cardio126phenNew[col+'_x']=np.where(Cardio126phenNew[col+'_x'].isnull(),Cardio126phenNew[col+'_y'],Cardio126phenNew[col+'_x'])\n",
    "    Cardio126phenNew=Cardio126phenNew.drop(col+'_y',axis=1)\n",
    "    Cardio126phenNew=Cardio126phenNew.rename(columns={col+'_x':col})"
   ]
  },
  {
   "cell_type": "code",
   "execution_count": null,
   "metadata": {
    "ExecuteTime": {
     "end_time": "2018-09-05T10:27:12.265384Z",
     "start_time": "2018-09-05T10:27:12.252499Z"
    }
   },
   "outputs": [],
   "source": [
    "Cardio126phenNew=Cardio126phenNew.replace(9999,np.nan)"
   ]
  },
  {
   "cell_type": "code",
   "execution_count": null,
   "metadata": {
    "ExecuteTime": {
     "end_time": "2018-09-05T10:27:13.635713Z",
     "start_time": "2018-09-05T10:27:13.509798Z"
    }
   },
   "outputs": [],
   "source": [
    "Cardio126phenNew.describe()"
   ]
  },
  {
   "cell_type": "code",
   "execution_count": null,
   "metadata": {
    "ExecuteTime": {
     "end_time": "2018-08-21T09:05:16.953228Z",
     "start_time": "2018-08-21T09:05:11.262Z"
    }
   },
   "outputs": [],
   "source": [
    "Cardio126phenNew.head()"
   ]
  },
  {
   "cell_type": "code",
   "execution_count": null,
   "metadata": {
    "ExecuteTime": {
     "end_time": "2018-08-21T09:05:16.955550Z",
     "start_time": "2018-08-21T09:05:11.268Z"
    }
   },
   "outputs": [],
   "source": [
    "f2='/net/mraid08/export/genie/Lab/Personal/ShaniBAF/TCR_real_data/CardioSamples/phenotypicData/Cardio126phenNew.xlsx'\n",
    "Cardio126phenNew.to_excel(f2)"
   ]
  },
  {
   "cell_type": "markdown",
   "metadata": {},
   "source": [
    "### CALCULATE  eGFR by CKD-EPI"
   ]
  },
  {
   "cell_type": "code",
   "execution_count": null,
   "metadata": {
    "ExecuteTime": {
     "end_time": "2018-08-21T09:05:16.957815Z",
     "start_time": "2018-08-21T09:05:11.276Z"
    }
   },
   "outputs": [],
   "source": [
    "f2='/net/mraid08/export/genie/Lab/Personal/ShaniBAF/TCR_real_data/CardioSamples/phenotypicData/Cardio126phenNew.xlsx'\n",
    "Cardio126phenNew=pd.read_excel(f2).set_index('BD')\n",
    "Cardio126phenNew.head()"
   ]
  },
  {
   "cell_type": "code",
   "execution_count": null,
   "metadata": {
    "ExecuteTime": {
     "end_time": "2018-08-21T09:05:16.959781Z",
     "start_time": "2018-08-21T09:05:11.282Z"
    }
   },
   "outputs": [],
   "source": [
    "for BD in Cardio126phenNew.index:\n",
    "    Gender=Cardio126phenNew.loc[BD,'Gender']\n",
    "    Age=Cardio126phenNew.loc[BD,'Age']\n",
    "    Creatinine=Cardio126phenNew.loc[BD,'Creatinine']\n",
    "    if Gender=='Male':\n",
    "        k=0.9\n",
    "        alpha=-0.411\n",
    "        g=1\n",
    "    elif Gender=='Female':\n",
    "        k=0.7\n",
    "        alpha=-0.329\n",
    "        g=1.018\n",
    "    else:\n",
    "        k=np.nan\n",
    "        alpha=np.nan\n",
    "        g=np.nan\n",
    "        \n",
    "    Cardio126phenNew.loc[BD,'eGFR_CKD-EPI_new']=141*(np.min([float(Creatinine)/k,1]))**alpha*(np.max([float(Creatinine)/k,1]))**-1.209*0.993**Age*g\n",
    "Cardio126phenNew['eGFR_CKD-EPI_new']=Cardio126phenNew['eGFR_CKD-EPI_new'].astype('float').round(0)\n",
    "Cardio126phenNew[['eGFR_CKD-EPI_new','eGFR by CKD-EPI']].head()"
   ]
  },
  {
   "cell_type": "code",
   "execution_count": null,
   "metadata": {
    "ExecuteTime": {
     "end_time": "2018-08-21T09:05:16.962127Z",
     "start_time": "2018-08-21T09:05:11.287Z"
    }
   },
   "outputs": [],
   "source": [
    "Cardio126phenNew[['eGFR_CKD-EPI_new','eGFR by CKD-EPI']].describe()\n"
   ]
  },
  {
   "cell_type": "code",
   "execution_count": null,
   "metadata": {
    "ExecuteTime": {
     "end_time": "2018-08-21T09:05:16.964322Z",
     "start_time": "2018-08-21T09:05:11.293Z"
    }
   },
   "outputs": [],
   "source": [
    "f2='/net/mraid08/export/genie/Lab/Personal/ShaniBAF/TCR_real_data/CardioSamples/phenotypicData/Cardio126phenNew.xlsx'\n",
    "Cardio126phenNew.to_excel(f2)"
   ]
  },
  {
   "cell_type": "code",
   "execution_count": null,
   "metadata": {
    "ExecuteTime": {
     "end_time": "2018-08-21T09:05:16.966672Z",
     "start_time": "2018-08-21T09:05:11.300Z"
    }
   },
   "outputs": [],
   "source": [
    "# get dummy variable:\n",
    "f2='/net/mraid08/export/genie/Lab/Personal/ShaniBAF/TCR_real_data/CardioSamples/phenotypicData/Cardio126phenNew.xlsx'\n",
    "Cardio126_phen_new_dummies=pd.read_excel(f2)\n",
    "\n",
    "PCIdict={0:'0',1:'1',2:'2+',3:'2+',4:'2+',np.nan:np.nan}\n",
    "Cardio126_phen_new_dummies['PreviousPCImapped']=Cardio126_phen_new_dummies['Previous PCI'].map(PCIdict)\n",
    "\n",
    "LVEFdict={0:1,1:1,2:1,3:2,4:2,5:2,6:1,np.nan:np.nan}\n",
    "Cardio126_phen_new_dummies['LVEFmapped']=Cardio126_phen_new_dummies['LVEF'].map(LVEFdict) \n",
    "\n",
    "toDummyColList=['Gender','Smoking','PCRplate','DM','Diagnosis','Known CAD','Previous CABG','PreviousPCImapped','LVEFmapped']\n",
    "df=Cardio126_phen_new_dummies.copy()\n",
    "Cardio126_phen_new_dummies=gen_dummies(df,toDummyColList)\n",
    "Cardio126_phen_new_dummies.head()\n",
    "\n",
    "for col in Cardio126_phen_new_dummies.columns:\n",
    "    Cardio126_phen_new_dummies=Cardio126_phen_new_dummies.rename(columns={col:col.replace('.0','')})\n",
    "\n",
    "\n",
    "f1='/net/mraid08/export/genie/Lab/Personal/ShaniBAF/TCR_real_data/CardioSamples/phenotypicData/Cardio126_phen_new_dummies.xlsx'\n",
    "Cardio126_phen_new_dummies.to_excel(f1)\n",
    "\n",
    "print  Cardio126_phen_new_dummies.shape\n",
    "Cardio126_phen_new_dummies.head()\n"
   ]
  },
  {
   "cell_type": "code",
   "execution_count": null,
   "metadata": {},
   "outputs": [],
   "source": []
  },
  {
   "cell_type": "code",
   "execution_count": null,
   "metadata": {},
   "outputs": [],
   "source": []
  },
  {
   "cell_type": "code",
   "execution_count": null,
   "metadata": {},
   "outputs": [],
   "source": []
  },
  {
   "cell_type": "code",
   "execution_count": null,
   "metadata": {},
   "outputs": [],
   "source": []
  },
  {
   "cell_type": "code",
   "execution_count": null,
   "metadata": {},
   "outputs": [],
   "source": []
  },
  {
   "cell_type": "code",
   "execution_count": null,
   "metadata": {},
   "outputs": [],
   "source": []
  },
  {
   "cell_type": "code",
   "execution_count": null,
   "metadata": {
    "ExecuteTime": {
     "end_time": "2018-08-21T09:05:16.968786Z",
     "start_time": "2018-08-21T09:05:11.322Z"
    }
   },
   "outputs": [],
   "source": [
    "# get phenotypic data only for cardio samples with at least 9000 sequences:\n",
    "dfs_folder='%s/TCR_real_data/CardioSamples/Cardio126_SubSampled9000data_rep1/SamplesForAnalysis_corrected' %MyPath\n",
    "filenames = [f for f in listdir(dfs_folder) if isfile(join(dfs_folder, f))]\n",
    "Cardio126ss9000list = [f.replace('_9000.tsv','') for f in filenames]\n",
    "print len(Cardio126ss9000list)\n",
    "Cardio126ss9000list[:5]"
   ]
  },
  {
   "cell_type": "code",
   "execution_count": null,
   "metadata": {
    "ExecuteTime": {
     "end_time": "2018-08-21T09:05:16.970807Z",
     "start_time": "2018-08-21T09:05:11.328Z"
    }
   },
   "outputs": [],
   "source": [
    "#take only Cardio126ss9000 samples:\n",
    "\n",
    "f2 = '/net/mraid08/export/genie/Lab/Personal/ShaniBAF/TCR_real_data/CardioSamples/phenotypicData/Cardio126phenNew.xlsx'          \n",
    "Cardio126phenNew=pd.read_excel(f2)\n",
    "Cardio126phenNew=Cardio126phenNew.set_index('BD')\n",
    "Cardio126phenNew.head()\n",
    "\n"
   ]
  },
  {
   "cell_type": "code",
   "execution_count": null,
   "metadata": {
    "ExecuteTime": {
     "end_time": "2018-08-21T09:05:16.972629Z",
     "start_time": "2018-08-21T09:05:11.334Z"
    }
   },
   "outputs": [],
   "source": [
    "Cardio126ss9000_phen_new=Cardio126phenNew.loc[Cardio126ss9000list,:]\n",
    "print len(Cardio126ss9000_phen_new)\n",
    "Cardio126ss9000_phen_new.head()"
   ]
  },
  {
   "cell_type": "code",
   "execution_count": null,
   "metadata": {
    "ExecuteTime": {
     "end_time": "2018-08-21T09:05:16.974421Z",
     "start_time": "2018-08-21T09:05:11.338Z"
    }
   },
   "outputs": [],
   "source": [
    "#save filtered file:\n",
    "f1='/net/mraid08/export/genie/Lab/Personal/ShaniBAF/TCR_real_data/CardioSamples/phenotypicData/Cardio126ss9000_phen_new.xlsx' \n",
    "Cardio126ss9000_phen_new.to_excel(f1)"
   ]
  },
  {
   "cell_type": "code",
   "execution_count": null,
   "metadata": {
    "ExecuteTime": {
     "end_time": "2018-08-21T09:05:16.976338Z",
     "start_time": "2018-08-21T09:05:11.345Z"
    }
   },
   "outputs": [],
   "source": [
    "# get phenotypic data only for cardio samples with at least 5000 sequences:\n",
    "dfs_folder='%s/TCR_real_data/CardioSamples/Cardio126_SubSampled5000data_rep1/SamplesForAnalysis_corrected' %MyPath\n",
    "filenames = [f for f in listdir(dfs_folder) if isfile(join(dfs_folder, f))]\n",
    "Cardio126ss5000list = [f.replace('_5000.tsv','') for f in filenames]\n",
    "print len(Cardio126ss5000list)\n",
    "print Cardio126ss5000list[:5]\n",
    "#take only Cardio126ss5000 samples:\n",
    "\n",
    "f2 = '/net/mraid08/export/genie/Lab/Personal/ShaniBAF/TCR_real_data/CardioSamples/phenotypicData/Cardio126phenNew.xlsx'          \n",
    "Cardio126phenNew=pd.read_excel(f2)\n",
    "Cardio126phenNew=Cardio126phenNew.set_index('BD')\n",
    "print Cardio126phenNew.head()\n",
    "\n",
    "Cardio126ss5000_phen_new=Cardio126phenNew.loc[Cardio126ss5000list,:]\n",
    "print len(Cardio126ss5000_phen_new)\n",
    "print Cardio126ss5000_phen_new.head()\n",
    "\n",
    "#save filtered file:\n",
    "f1='/net/mraid08/export/genie/Lab/Personal/ShaniBAF/TCR_real_data/CardioSamples/phenotypicData/Cardio126ss5000_phen_new.xlsx' \n",
    "Cardio126ss5000_phen_new.to_excel(f1)\n",
    "\n"
   ]
  },
  {
   "cell_type": "markdown",
   "metadata": {},
   "source": [
    "# get similar phenotypic data for all PNP530 samples with >9000 sequences"
   ]
  },
  {
   "cell_type": "code",
   "execution_count": null,
   "metadata": {
    "ExecuteTime": {
     "end_time": "2018-08-21T09:05:16.978169Z",
     "start_time": "2018-08-21T09:05:11.351Z"
    }
   },
   "outputs": [],
   "source": [
    "# get age, gender, BMI, creatinine, smoking:"
   ]
  },
  {
   "cell_type": "code",
   "execution_count": null,
   "metadata": {
    "ExecuteTime": {
     "end_time": "2018-08-21T09:05:16.979947Z",
     "start_time": "2018-08-21T09:05:11.358Z"
    }
   },
   "outputs": [],
   "source": [
    "#Age:\n",
    "f1='/net/mraid08/export/genie/Lab/Personal/ShaniBAF/TCR_real_data/NewPhenotypicData/PNPage.xlsx'\n",
    "PNPage=pd.read_excel(f1)\n",
    "\n",
    "PNPage=PNPage.set_index('BD').drop('UserID',axis=1)\n",
    "print len(PNPage)\n",
    "PNPage.head()"
   ]
  },
  {
   "cell_type": "code",
   "execution_count": null,
   "metadata": {
    "ExecuteTime": {
     "end_time": "2018-08-21T09:05:16.982576Z",
     "start_time": "2018-08-21T09:05:11.363Z"
    }
   },
   "outputs": [],
   "source": [
    "#Gender:\n",
    "f1='/net/mraid08/export/genie/Lab/Personal/ShaniBAF/TCR_real_data/NewPhenotypicData/PNPgender.xlsx'\n",
    "PNPgender=pd.read_excel(f1)\n",
    "\n",
    "PNPgender=PNPgender.set_index('BD').drop('UserID',axis=1)\n",
    "print len(PNPgender)\n",
    "PNPgender.head()"
   ]
  },
  {
   "cell_type": "code",
   "execution_count": null,
   "metadata": {
    "ExecuteTime": {
     "end_time": "2018-08-21T09:05:16.985189Z",
     "start_time": "2018-08-21T09:05:11.368Z"
    }
   },
   "outputs": [],
   "source": [
    "#BMI:\n",
    "f1='/net/mraid08/export/genie/Lab/Personal/ShaniBAF/TCR_real_data/NewPhenotypicData/PNP_BMI_OL4removed.xlsx'\n",
    "PNP_BMI=pd.read_excel(f1)\n",
    "\n",
    "PNP_BMI=PNP_BMI[['BD','BMI']].set_index('BD')\n",
    "print len(PNP_BMI)\n",
    "PNP_BMI.head()"
   ]
  },
  {
   "cell_type": "code",
   "execution_count": null,
   "metadata": {
    "ExecuteTime": {
     "end_time": "2018-08-21T09:05:16.987847Z",
     "start_time": "2018-08-21T09:05:11.374Z"
    }
   },
   "outputs": [],
   "source": [
    "#CREATININE:\n",
    "f1='/net/mraid08/export/genie/Lab/Personal/ShaniBAF/TCR_real_data/NewPhenotypicData/PNP_Creatinine_OL4removed.xlsx'\n",
    "PNP_Creatinine=pd.read_excel(f1)\n",
    "\n",
    "PNP_Creatinine=PNP_Creatinine.set_index('BD')\n",
    "print len(PNP_Creatinine)\n",
    "PNP_Creatinine.head()\n"
   ]
  },
  {
   "cell_type": "code",
   "execution_count": null,
   "metadata": {
    "ExecuteTime": {
     "end_time": "2018-08-21T09:05:16.990499Z",
     "start_time": "2018-08-21T09:05:11.379Z"
    }
   },
   "outputs": [],
   "source": [
    "#PNPsmoking:\n",
    "f1='/net/mraid08/export/genie/Lab/Personal/ShaniBAF/TCR_real_data/NewPhenotypicData/PNP_NastyaSmokingInfo.xlsx'\n",
    "PNPsmoking=pd.read_excel(f1)\n",
    "\n",
    "PNPsmoking['Smoking']=np.where(PNPsmoking['Currently smokes']==1.0,'Yes',np.where(PNPsmoking['Ever smoked']==1.0,'Past','No'))\n",
    "\n",
    "PNPsmoking=PNPsmoking[['BD','Smoking']].set_index('BD')\n",
    "print len(PNPsmoking)\n",
    "PNPsmoking.head(15)"
   ]
  },
  {
   "cell_type": "code",
   "execution_count": null,
   "metadata": {
    "ExecuteTime": {
     "end_time": "2018-08-21T09:05:16.992319Z",
     "start_time": "2018-08-21T09:05:11.385Z"
    }
   },
   "outputs": [],
   "source": [
    "# merging:\n",
    "dfList=[PNPage,PNPgender,PNP_BMI,PNP_Creatinine, PNPsmoking]\n",
    "\n",
    "for n,df in enumerate(dfList):\n",
    "    print n, len(df)\n",
    "    if n==0:\n",
    "        merged=df\n",
    "    else:\n",
    "        merged=pd.merge(merged,df,how='outer', left_index=True,right_index=True)\n",
    "print len(merged)\n",
    "merged.head(10)\n",
    "    "
   ]
  },
  {
   "cell_type": "code",
   "execution_count": null,
   "metadata": {
    "ExecuteTime": {
     "end_time": "2018-08-21T09:05:16.994101Z",
     "start_time": "2018-08-21T09:05:11.392Z"
    }
   },
   "outputs": [],
   "source": [
    "#save merged file:\n",
    "f1='/net/mraid08/export/genie/Lab/Personal/ShaniBAF/TCR_real_data/NewPhenotypicData/PNP_AgeGenderBMIcreatSmoking.xlsx'\n",
    "merged.to_excel(f1)"
   ]
  },
  {
   "cell_type": "code",
   "execution_count": null,
   "metadata": {
    "ExecuteTime": {
     "end_time": "2018-08-21T09:05:16.995948Z",
     "start_time": "2018-08-21T09:05:11.398Z"
    }
   },
   "outputs": [],
   "source": [
    "#save merged file:\n",
    "f1='/net/mraid08/export/genie/Lab/Personal/ShaniBAF/TCR_real_data/NewPhenotypicData/PNP_AgeGenderBMIcreatSmoking.xlsx'\n",
    "merged=pd.read_excel(f1)\n",
    "merged=merged.set_index('BD')"
   ]
  },
  {
   "cell_type": "markdown",
   "metadata": {},
   "source": [
    "## add CRP, WBC, eGFR by CKD-EPI to PNP530 data"
   ]
  },
  {
   "cell_type": "code",
   "execution_count": null,
   "metadata": {
    "ExecuteTime": {
     "end_time": "2018-08-21T09:05:16.997728Z",
     "start_time": "2018-08-21T09:05:11.405Z"
    }
   },
   "outputs": [],
   "source": [
    "f1='/net/mraid08/export/genie/Lab/Personal/ShaniBAF/TCR_real_data/NewPhenotypicData/PNP530_AgeGenderBMIcreatSmoking.xlsx'\n",
    "PNP530_phen_old=pd.read_excel(f1)\n",
    "PNP530_phen_old.head()"
   ]
  },
  {
   "cell_type": "code",
   "execution_count": null,
   "metadata": {
    "ExecuteTime": {
     "end_time": "2018-08-21T09:05:16.999486Z",
     "start_time": "2018-08-21T09:05:11.411Z"
    }
   },
   "outputs": [],
   "source": [
    "f2='/net/mraid08/export/genie/Lab/Personal/ShaniBAF/TCR_real_data/NewPhenotypicData/PNP_WBC.xlsx'\n",
    "PNP_WBC=pd.read_excel(f2)\n",
    "PNP_WBC.head()"
   ]
  },
  {
   "cell_type": "code",
   "execution_count": null,
   "metadata": {
    "ExecuteTime": {
     "end_time": "2018-08-21T09:05:17.001234Z",
     "start_time": "2018-08-21T09:05:11.417Z"
    }
   },
   "outputs": [],
   "source": [
    "f3='/net/mraid08/export/genie/Lab/Personal/ShaniBAF/TCR_real_data/NewPhenotypicData/PNP_CRP_hs.xlsx'\n",
    "PNP_CRP_hs=pd.read_excel(f3)\n",
    "PNP_CRP_hs.head()"
   ]
  },
  {
   "cell_type": "code",
   "execution_count": null,
   "metadata": {
    "ExecuteTime": {
     "end_time": "2018-08-21T09:05:17.003052Z",
     "start_time": "2018-08-21T09:05:11.422Z"
    }
   },
   "outputs": [],
   "source": [
    "# merging:\n",
    "dfList=[PNP530_phen_old,PNP_WBC,PNP_CRP_hs]\n",
    "\n",
    "for n,df in enumerate(dfList):\n",
    "    df=df.set_index('BD')\n",
    "    print n, len(df)\n",
    "    if n==0:\n",
    "        merged=df\n",
    "    else:\n",
    "        merged=pd.merge(merged,df,how='left', left_index=True,right_index=True)\n",
    "print len(merged)\n",
    "merged.head(10)"
   ]
  },
  {
   "cell_type": "markdown",
   "metadata": {},
   "source": [
    "### CALCULATE  eGFR by CKD-EPI"
   ]
  },
  {
   "cell_type": "code",
   "execution_count": null,
   "metadata": {
    "ExecuteTime": {
     "end_time": "2018-08-21T09:05:17.004847Z",
     "start_time": "2018-08-21T09:05:11.430Z"
    }
   },
   "outputs": [],
   "source": [
    "for BD in merged.index:\n",
    "    Gender=merged.loc[BD,'Gender']\n",
    "    Age=merged.loc[BD,'Age']\n",
    "    Creatinine=merged.loc[BD,'Creatinine']\n",
    "    if Gender=='Male':\n",
    "        k=0.9\n",
    "        alpha=-0.411\n",
    "        g=1\n",
    "    elif Gender=='Female':\n",
    "        k=0.7\n",
    "        alpha=-0.329\n",
    "        g=1.018\n",
    "    else:\n",
    "        k=np.nan\n",
    "        alpha=np.nan\n",
    "        g=np.nan\n",
    "    merged.loc[BD,'eGFR_CKD-EPI_new']=141*(np.min([float(Creatinine)/k,1]))**alpha*(np.max([float(Creatinine)/k,1]))**-1.209*0.993**Age*g\n",
    "merged['eGFR_CKD-EPI_new']=merged['eGFR_CKD-EPI_new'].astype('float').round(0)\n",
    "merged['eGFR_CKD-EPI_new'].head()"
   ]
  },
  {
   "cell_type": "code",
   "execution_count": null,
   "metadata": {
    "ExecuteTime": {
     "end_time": "2018-08-21T09:05:17.006649Z",
     "start_time": "2018-08-21T09:05:11.435Z"
    }
   },
   "outputs": [],
   "source": [
    "merged['eGFR_CKD-EPI_new'].describe()"
   ]
  },
  {
   "cell_type": "code",
   "execution_count": null,
   "metadata": {
    "ExecuteTime": {
     "end_time": "2018-08-21T09:05:17.008435Z",
     "start_time": "2018-08-21T09:05:11.441Z"
    }
   },
   "outputs": [],
   "source": [
    "#save merged file:\n",
    "f1='/net/mraid08/export/genie/Lab/Personal/ShaniBAF/TCR_real_data/NewPhenotypicData/PNP530_phen_new.xlsx'\n",
    "merged.to_excel(f1)"
   ]
  },
  {
   "cell_type": "code",
   "execution_count": null,
   "metadata": {
    "ExecuteTime": {
     "end_time": "2018-08-21T09:05:17.010227Z",
     "start_time": "2018-08-21T09:05:11.445Z"
    }
   },
   "outputs": [],
   "source": [
    "# get dummy variables:\n",
    "\n",
    "#save merged file:\n",
    "f1='/net/mraid08/export/genie/Lab/Personal/ShaniBAF/TCR_real_data/NewPhenotypicData/PNP530_phen_new.xlsx'\n",
    "PNP530_phen_new=pd.read_excel(f1)\n",
    "\n",
    "toDummyColList=['Gender','Smoking','PCRplate']\n",
    "df=PNP530_phen_new.copy()\n",
    "PNP530_phen_new_dummies=gen_dummies(df,toDummyColList)\n",
    "\n",
    "f1='/net/mraid08/export/genie/Lab/Personal/ShaniBAF/TCR_real_data/NewPhenotypicData/PNP530_phen_new_dummies.xlsx'\n",
    "PNP530_phen_new_dummies.to_excel(f1)\n",
    "\n",
    "PNP530_phen_new_dummies.head()"
   ]
  },
  {
   "cell_type": "code",
   "execution_count": null,
   "metadata": {
    "ExecuteTime": {
     "end_time": "2018-08-21T09:05:17.012019Z",
     "start_time": "2018-08-21T09:05:11.451Z"
    }
   },
   "outputs": [],
   "source": [
    "PNP530_phen_new_dummies.shape"
   ]
  },
  {
   "cell_type": "code",
   "execution_count": null,
   "metadata": {},
   "outputs": [],
   "source": []
  },
  {
   "cell_type": "code",
   "execution_count": null,
   "metadata": {},
   "outputs": [],
   "source": []
  },
  {
   "cell_type": "code",
   "execution_count": null,
   "metadata": {
    "ExecuteTime": {
     "end_time": "2018-08-21T09:05:17.013798Z",
     "start_time": "2018-08-21T09:05:11.461Z"
    }
   },
   "outputs": [],
   "source": [
    "# list of PNP530 samples with 9000 sequences:\n",
    "dfs_folder='%s/TCR_real_data/PNP530_SubSampled9000data_rep1/SamplesForAnalysis_corrected' %MyPath\n",
    "filenames = [f for f in listdir(dfs_folder) if isfile(join(dfs_folder, f))]\n",
    "PNP530ss9000list = [f.replace('_9000.tsv','') for f in filenames]\n",
    "PNP530ss9000list=editSampleNamesList(PNP530ss9000list)\n",
    "PNP530ss9000list[:10]"
   ]
  },
  {
   "cell_type": "code",
   "execution_count": null,
   "metadata": {
    "ExecuteTime": {
     "end_time": "2018-08-21T09:05:17.015656Z",
     "start_time": "2018-08-21T09:05:11.467Z"
    }
   },
   "outputs": [],
   "source": [
    "#take only PNP530ss9000 samples:\n",
    "PNP530ss9000_phen_new=merged.loc[PNP530ss9000list,:]\n",
    "print len(PNP530ss9000_phen_new)"
   ]
  },
  {
   "cell_type": "code",
   "execution_count": null,
   "metadata": {
    "ExecuteTime": {
     "end_time": "2018-08-21T09:05:17.017446Z",
     "start_time": "2018-08-21T09:05:11.473Z"
    }
   },
   "outputs": [],
   "source": [
    "#save merged filtered file:\n",
    "f1='/net/mraid08/export/genie/Lab/Personal/ShaniBAF/TCR_real_data/NewPhenotypicData/PNP530ss9000_phen_new.xlsx'\n",
    "PNP530ss9000_phen_new.to_excel(f1)"
   ]
  },
  {
   "cell_type": "code",
   "execution_count": null,
   "metadata": {
    "ExecuteTime": {
     "end_time": "2018-08-21T09:05:17.019253Z",
     "start_time": "2018-08-21T09:05:11.477Z"
    }
   },
   "outputs": [],
   "source": [
    "# list of PNP530 samples with 5000 sequences:\n",
    "dfs_folder='%s/TCR_real_data/PNP530_SubSampled5000data_rep1/SamplesForAnalysis_corrected' %MyPath\n",
    "filenames = [f for f in listdir(dfs_folder) if isfile(join(dfs_folder, f))]\n",
    "PNP530ss5000list = [f.replace('_5000.tsv','') for f in filenames]\n",
    "PNP530ss5000list=editSampleNamesList(PNP530ss5000list)\n",
    "PNP530ss5000list[:10]\n",
    "#take only PNP530ss5000 samples:\n",
    "PNP530ss5000_phen_new=merged.loc[PNP530ss5000list,:]\n",
    "print len(PNP530ss5000_phen_new)\n",
    "#save merged filtered file:\n",
    "f1='/net/mraid08/export/genie/Lab/Personal/ShaniBAF/TCR_real_data/NewPhenotypicData/PNP530ss5000_phen_new.xlsx'\n",
    "PNP530ss5000_phen_new.to_excel(f1)"
   ]
  },
  {
   "cell_type": "code",
   "execution_count": null,
   "metadata": {},
   "outputs": [],
   "source": []
  },
  {
   "cell_type": "markdown",
   "metadata": {},
   "source": [
    "# compare Cardio126ss9000 and PNP530ss9000 phenotype distribution:"
   ]
  },
  {
   "cell_type": "markdown",
   "metadata": {},
   "source": [
    "## descriptive statistics"
   ]
  },
  {
   "cell_type": "code",
   "execution_count": null,
   "metadata": {
    "ExecuteTime": {
     "end_time": "2018-08-21T09:05:17.021013Z",
     "start_time": "2018-08-21T09:05:11.489Z"
    }
   },
   "outputs": [],
   "source": [
    "#load PNP530 phenotype file:\n",
    "f1='/net/mraid08/export/genie/Lab/Personal/ShaniBAF/TCR_real_data/NewPhenotypicData/PNP530_phen_new.xlsx'\n",
    "PNP530_phen_new=pd.read_excel(f1)"
   ]
  },
  {
   "cell_type": "code",
   "execution_count": null,
   "metadata": {
    "ExecuteTime": {
     "end_time": "2018-08-21T09:05:17.022675Z",
     "start_time": "2018-08-21T09:05:11.495Z"
    }
   },
   "outputs": [],
   "source": [
    "PNP530_phen_new.describe()"
   ]
  },
  {
   "cell_type": "code",
   "execution_count": null,
   "metadata": {
    "ExecuteTime": {
     "end_time": "2018-08-21T09:05:17.024516Z",
     "start_time": "2018-08-21T09:05:11.500Z"
    }
   },
   "outputs": [],
   "source": [
    "#load PNP530ss9000 phenotype file:\n",
    "f1='/net/mraid08/export/genie/Lab/Personal/ShaniBAF/TCR_real_data/NewPhenotypicData/PNP530ss9000_phen_new.xlsx'\n",
    "PNP530ss9000_phen_new=pd.read_excel(f1)\n",
    "print len(PNP530ss9000_phen_new)"
   ]
  },
  {
   "cell_type": "code",
   "execution_count": null,
   "metadata": {
    "ExecuteTime": {
     "end_time": "2018-08-21T09:05:17.026243Z",
     "start_time": "2018-08-21T09:05:11.505Z"
    }
   },
   "outputs": [],
   "source": [
    "PNP530ss9000_phen_new.describe()"
   ]
  },
  {
   "cell_type": "code",
   "execution_count": null,
   "metadata": {
    "ExecuteTime": {
     "end_time": "2018-08-21T09:05:17.028199Z",
     "start_time": "2018-08-21T09:05:11.511Z"
    }
   },
   "outputs": [],
   "source": [
    "PNP530ss9000_phen_new['Gender'].value_counts(normalize=True)"
   ]
  },
  {
   "cell_type": "code",
   "execution_count": null,
   "metadata": {
    "ExecuteTime": {
     "end_time": "2018-08-21T09:05:17.030066Z",
     "start_time": "2018-08-21T09:05:11.516Z"
    }
   },
   "outputs": [],
   "source": [
    "PNP530ss9000_phen_new['Smoking'].value_counts(normalize=True)"
   ]
  },
  {
   "cell_type": "code",
   "execution_count": null,
   "metadata": {
    "ExecuteTime": {
     "end_time": "2018-08-21T09:05:17.031748Z",
     "start_time": "2018-08-21T09:05:11.521Z"
    }
   },
   "outputs": [],
   "source": [
    "#load Cardio 126 phenotypes\n",
    "f2 = '/net/mraid08/export/genie/Lab/Personal/ShaniBAF/TCR_real_data/CardioSamples/phenotypicData/Cardio126phenNew.xlsx'          \n",
    "Cardio126phenNew=pd.read_excel(f2)"
   ]
  },
  {
   "cell_type": "code",
   "execution_count": null,
   "metadata": {
    "ExecuteTime": {
     "end_time": "2018-08-21T09:05:17.033539Z",
     "start_time": "2018-08-21T09:05:11.527Z"
    }
   },
   "outputs": [],
   "source": [
    "Cardio126phenNew.describe()"
   ]
  },
  {
   "cell_type": "code",
   "execution_count": null,
   "metadata": {
    "ExecuteTime": {
     "end_time": "2018-08-21T09:05:17.035253Z",
     "start_time": "2018-08-21T09:05:11.532Z"
    }
   },
   "outputs": [],
   "source": [
    "f1='/net/mraid08/export/genie/Lab/Personal/ShaniBAF/TCR_real_data/CardioSamples/phenotypicData/Cardio126ss9000_phen_new.xlsx'\n",
    "Cardio126ss9000_phen_new=pd.read_excel(f1)"
   ]
  },
  {
   "cell_type": "code",
   "execution_count": null,
   "metadata": {
    "ExecuteTime": {
     "end_time": "2018-08-21T09:05:17.037137Z",
     "start_time": "2018-08-21T09:05:11.538Z"
    }
   },
   "outputs": [],
   "source": [
    "Cardio126ss9000_phen_new.describe()"
   ]
  },
  {
   "cell_type": "code",
   "execution_count": null,
   "metadata": {
    "ExecuteTime": {
     "end_time": "2018-08-21T09:05:17.038828Z",
     "start_time": "2018-08-21T09:05:11.543Z"
    }
   },
   "outputs": [],
   "source": [
    "Cardio126ss9000_phen_new['Gender'].value_counts(normalize=True)"
   ]
  },
  {
   "cell_type": "code",
   "execution_count": null,
   "metadata": {
    "ExecuteTime": {
     "end_time": "2018-08-21T09:05:17.040606Z",
     "start_time": "2018-08-21T09:05:11.549Z"
    }
   },
   "outputs": [],
   "source": [
    "Cardio126ss9000_phen_new['Smoking'].value_counts(normalize=True)"
   ]
  },
  {
   "cell_type": "markdown",
   "metadata": {},
   "source": [
    "## plots:"
   ]
  },
  {
   "cell_type": "markdown",
   "metadata": {},
   "source": [
    "the functions compare_phenotypes and its helper roundup2 were copied to PhenotypeGenerationFunction.py"
   ]
  },
  {
   "cell_type": "code",
   "execution_count": null,
   "metadata": {
    "ExecuteTime": {
     "end_time": "2018-08-21T09:05:17.042517Z",
     "start_time": "2018-08-21T09:05:11.556Z"
    }
   },
   "outputs": [],
   "source": [
    "numericalphenotypes=['Age','BMI','Creatinine','WBC','eGFR_CKD-EPI_new']\n",
    "categoricalphenotypes=['Gender', 'Smoking']\n",
    "phenotypeDF1=PNP530ss9000_phen_new\n",
    "sampleList1=None\n",
    "datasetName1='PNP530ss9000'\n",
    "phenotypeDF2=Cardio126ss9000_phen_new\n",
    "sampleList2=None\n",
    "datasetName2='Cardio126ss9000'\n",
    "\n",
    "nBins=20\n",
    "\n",
    "fig1=compare_phenotypes(numericalphenotypes,categoricalphenotypes,nBins,phenotypeDF1,sampleList1,datasetName1,\n",
    "                       phenotypeDF2,sampleList2,datasetName2)"
   ]
  },
  {
   "cell_type": "code",
   "execution_count": null,
   "metadata": {},
   "outputs": [],
   "source": []
  },
  {
   "cell_type": "code",
   "execution_count": null,
   "metadata": {
    "ExecuteTime": {
     "end_time": "2018-08-21T09:05:17.044246Z",
     "start_time": "2018-08-21T09:05:11.565Z"
    }
   },
   "outputs": [],
   "source": [
    "numericalphenotypes=['Age','BMI','Creatinine']\n",
    "categoricalphenotypes=['Gender', 'Smoking']\n",
    "phenotypeDF1=PNP530ss9000_AgeGenderBMIcreatSmoking\n",
    "sampleList1=None\n",
    "datasetName1='PNP530ss9000'\n",
    "phenotypeDF2=None\n",
    "sampleList2=None\n",
    "datasetName2=None\n",
    "\n",
    "nBins=20\n",
    "\n",
    "fig1=compare_phenotypes(numericalphenotypes,categoricalphenotypes,nBins,phenotypeDF1,sampleList1,datasetName1,\n",
    "                       phenotypeDF2,sampleList2,datasetName2)"
   ]
  },
  {
   "cell_type": "markdown",
   "metadata": {},
   "source": [
    "# compare Cardio126ss9000 and PNP530ss9000 phenotype distribution:"
   ]
  },
  {
   "cell_type": "markdown",
   "metadata": {},
   "source": [
    "## descriptive statistics"
   ]
  },
  {
   "cell_type": "code",
   "execution_count": null,
   "metadata": {
    "ExecuteTime": {
     "end_time": "2018-08-21T09:05:17.046034Z",
     "start_time": "2018-08-21T09:05:11.575Z"
    }
   },
   "outputs": [],
   "source": [
    "#load PNP530 phenotype file:\n",
    "f1='/net/mraid08/export/genie/Lab/Personal/ShaniBAF/TCR_real_data/NewPhenotypicData/PNP530_phen_new.xlsx'\n",
    "PNP530_phen_new=pd.read_excel(f1)"
   ]
  },
  {
   "cell_type": "code",
   "execution_count": null,
   "metadata": {
    "ExecuteTime": {
     "end_time": "2018-08-21T09:05:17.047860Z",
     "start_time": "2018-08-21T09:05:11.581Z"
    }
   },
   "outputs": [],
   "source": [
    "PNP530_phen_new.describe()"
   ]
  },
  {
   "cell_type": "code",
   "execution_count": null,
   "metadata": {
    "ExecuteTime": {
     "end_time": "2018-08-21T09:05:17.049649Z",
     "start_time": "2018-08-21T09:05:11.588Z"
    }
   },
   "outputs": [],
   "source": [
    "#load PNP530ss5000 phenotype file:\n",
    "f1='/net/mraid08/export/genie/Lab/Personal/ShaniBAF/TCR_real_data/NewPhenotypicData/PNP530ss5000_phen_new.xlsx'\n",
    "PNP530ss5000_phen_new=pd.read_excel(f1)\n",
    "print len(PNP530ss5000_phen_new)"
   ]
  },
  {
   "cell_type": "code",
   "execution_count": null,
   "metadata": {
    "ExecuteTime": {
     "end_time": "2018-08-21T09:05:17.051381Z",
     "start_time": "2018-08-21T09:05:11.595Z"
    }
   },
   "outputs": [],
   "source": [
    "#load Cardio 126 phenotypes\n",
    "f2 = '/net/mraid08/export/genie/Lab/Personal/ShaniBAF/TCR_real_data/CardioSamples/phenotypicData/Cardio126phenNew.xlsx'          \n",
    "Cardio126phenNew=pd.read_excel(f2)"
   ]
  },
  {
   "cell_type": "code",
   "execution_count": null,
   "metadata": {
    "ExecuteTime": {
     "end_time": "2018-08-21T09:05:17.053149Z",
     "start_time": "2018-08-21T09:05:11.602Z"
    }
   },
   "outputs": [],
   "source": [
    "Cardio126phenNew.describe()"
   ]
  },
  {
   "cell_type": "code",
   "execution_count": null,
   "metadata": {
    "ExecuteTime": {
     "end_time": "2018-08-21T09:05:17.054911Z",
     "start_time": "2018-08-21T09:05:11.607Z"
    }
   },
   "outputs": [],
   "source": [
    "f1='/net/mraid08/export/genie/Lab/Personal/ShaniBAF/TCR_real_data/CardioSamples/phenotypicData/Cardio126ss5000_phen_new.xlsx'\n",
    "Cardio126ss5000_phen_new=pd.read_excel(f1)"
   ]
  },
  {
   "cell_type": "markdown",
   "metadata": {},
   "source": [
    "## plots:"
   ]
  },
  {
   "cell_type": "markdown",
   "metadata": {},
   "source": [
    "the functions compare_phenotypes and its helper roundup2 were copied to PhenotypeGenerationFunction.py"
   ]
  },
  {
   "cell_type": "code",
   "execution_count": null,
   "metadata": {
    "ExecuteTime": {
     "end_time": "2018-08-21T09:05:17.056806Z",
     "start_time": "2018-08-21T09:05:11.615Z"
    }
   },
   "outputs": [],
   "source": [
    "numericalphenotypes=['Age','BMI','Creatinine','WBC','eGFR_CKD-EPI_new']\n",
    "categoricalphenotypes=['Gender', 'Smoking']\n",
    "phenotypeDF1=PNP530ss5000_phen_new\n",
    "sampleList1=None\n",
    "datasetName1='PNP530ss5000'\n",
    "phenotypeDF2=Cardio126ss5000_phen_new\n",
    "sampleList2=None\n",
    "datasetName2='Cardio126ss5000'\n",
    "\n",
    "nBins=20\n",
    "\n",
    "fig1=compare_phenotypes(numericalphenotypes,categoricalphenotypes,nBins,phenotypeDF1,sampleList1,datasetName1,\n",
    "                       phenotypeDF2,sampleList2,datasetName2)"
   ]
  },
  {
   "cell_type": "code",
   "execution_count": null,
   "metadata": {},
   "outputs": [],
   "source": []
  },
  {
   "cell_type": "code",
   "execution_count": null,
   "metadata": {
    "ExecuteTime": {
     "end_time": "2018-08-21T09:05:17.058633Z",
     "start_time": "2018-08-21T09:05:11.624Z"
    }
   },
   "outputs": [],
   "source": [
    "numericalphenotypes=['Age','BMI','Creatinine']\n",
    "categoricalphenotypes=['Gender', 'Smoking']\n",
    "phenotypeDF1=PNP530ss9000_AgeGenderBMIcreatSmoking\n",
    "sampleList1=None\n",
    "datasetName1='PNP530ss9000'\n",
    "phenotypeDF2=None\n",
    "sampleList2=None\n",
    "datasetName2=None\n",
    "\n",
    "nBins=20\n",
    "\n",
    "fig1=compare_phenotypes(numericalphenotypes,categoricalphenotypes,nBins,phenotypeDF1,sampleList1,datasetName1,\n",
    "                       phenotypeDF2,sampleList2,datasetName2)"
   ]
  },
  {
   "cell_type": "markdown",
   "metadata": {},
   "source": [
    "### take only males ages 50-73 and compare phenotypes across datasets:"
   ]
  },
  {
   "cell_type": "code",
   "execution_count": null,
   "metadata": {
    "ExecuteTime": {
     "end_time": "2018-08-21T09:05:17.060491Z",
     "start_time": "2018-08-21T09:05:11.632Z"
    }
   },
   "outputs": [],
   "source": [
    "PNP530ss9000_AgeGenderBMIcreatSmoking.head()"
   ]
  },
  {
   "cell_type": "markdown",
   "metadata": {},
   "source": []
  },
  {
   "cell_type": "code",
   "execution_count": null,
   "metadata": {
    "ExecuteTime": {
     "end_time": "2018-08-21T09:05:17.062383Z",
     "start_time": "2018-08-21T09:05:11.638Z"
    }
   },
   "outputs": [],
   "source": [
    "#generate sub-cohort for the PNP cohort:\n",
    "df=PNP530ss9000_AgeGenderBMIcreatSmoking\n",
    "PNP_males5073=df[(df['Age']>=50)&(df['Age']<=73)&(df['Gender']=='Male')]\n",
    "print len(df)\n",
    "print len(PNP_males5073)\n",
    "PNP_males5073.head()"
   ]
  },
  {
   "cell_type": "code",
   "execution_count": null,
   "metadata": {
    "ExecuteTime": {
     "end_time": "2018-08-21T09:05:17.064330Z",
     "start_time": "2018-08-21T09:05:11.644Z"
    }
   },
   "outputs": [],
   "source": [
    "PNP_males5073.describe()"
   ]
  },
  {
   "cell_type": "code",
   "execution_count": null,
   "metadata": {
    "ExecuteTime": {
     "end_time": "2018-08-21T09:05:17.066254Z",
     "start_time": "2018-08-21T09:05:11.650Z"
    }
   },
   "outputs": [],
   "source": [
    "#generate sub-cohort for the Cardio cohort:\n",
    "df2=Cardio126ss9000_AgeGenderBMIcreatSmoking\n",
    "Cardio_males5073=df2[(df2['Age']>=50)&(df2['Age']<=73)&(df2['Gender']=='Male')]\n",
    "print len(df2)\n",
    "print len(Cardio_males5073)\n",
    "Cardio_males5073.head()"
   ]
  },
  {
   "cell_type": "code",
   "execution_count": null,
   "metadata": {
    "ExecuteTime": {
     "end_time": "2018-08-21T09:05:17.068103Z",
     "start_time": "2018-08-21T09:05:11.655Z"
    }
   },
   "outputs": [],
   "source": [
    "Cardio_males5073.describe()"
   ]
  },
  {
   "cell_type": "code",
   "execution_count": null,
   "metadata": {
    "ExecuteTime": {
     "end_time": "2018-08-21T09:05:17.069955Z",
     "start_time": "2018-08-21T09:05:11.661Z"
    }
   },
   "outputs": [],
   "source": [
    "numericalphenotypes=['Age','BMI','Creatinine']\n",
    "categoricalphenotypes=['Gender', 'Smoking']\n",
    "phenotypeDF1=PNP_males5073\n",
    "sampleList1=None\n",
    "datasetName1='PNP_males5073'\n",
    "phenotypeDF2=Cardio_males5073\n",
    "sampleList2=None\n",
    "datasetName2='Cardio_males5073'\n",
    "\n",
    "nBins=20\n",
    "\n",
    "fig1=compare_phenotypes(numericalphenotypes,categoricalphenotypes,nBins,phenotypeDF1,sampleList1,datasetName1,\n",
    "                       phenotypeDF2,sampleList2,datasetName2)"
   ]
  },
  {
   "cell_type": "code",
   "execution_count": null,
   "metadata": {},
   "outputs": [],
   "source": []
  },
  {
   "cell_type": "markdown",
   "metadata": {},
   "source": [
    "# generate age-matched sample sets:\n"
   ]
  },
  {
   "cell_type": "code",
   "execution_count": null,
   "metadata": {
    "ExecuteTime": {
     "end_time": "2018-08-21T09:05:17.071751Z",
     "start_time": "2018-08-21T09:05:11.671Z"
    }
   },
   "outputs": [],
   "source": [
    "#load PNP530 phenotype file:\n",
    "f1='/net/mraid08/export/genie/Lab/Personal/ShaniBAF/TCR_real_data/NewPhenotypicData/PNP530ss9000_AgeGenderBMIcreatSmoking.xlsx'\n",
    "PNP530ss9000_AgeGenderBMIcreatSmoking=pd.read_excel(f1)\n",
    "\n",
    "#load cardio126 phenotype file:\n",
    "f1='/net/mraid08/export/genie/Lab/Personal/ShaniBAF/TCR_real_data/CardioSamples/phenotypicData/Cardio126ss9000_AgeGenderBMIcreatSmoking.xlsx'\n",
    "Cardio126ss9000_AgeGenderBMIcreatSmoking=pd.read_excel(f1)\n",
    "\n"
   ]
  },
  {
   "cell_type": "markdown",
   "metadata": {},
   "source": [
    "## define function:"
   ]
  },
  {
   "cell_type": "code",
   "execution_count": null,
   "metadata": {
    "ExecuteTime": {
     "end_time": "2018-08-21T09:05:17.073551Z",
     "start_time": "2018-08-21T09:05:11.679Z"
    }
   },
   "outputs": [],
   "source": [
    "\n",
    "def find_matched_PNP530_Cardio126(maximalAgeDif,maximalBMIDif,maximalCreatDif,duplicateCardio=False):\n",
    "\n",
    "    #define dfs for sampling and new dfs for matched samples:\n",
    "    CardiomatchedSamples=pd.DataFrame()\n",
    "    PNPmatchedSamples=pd.DataFrame()\n",
    "    PNP=PNP530ss9000_AgeGenderBMIcreatSmoking.set_index('BD')\n",
    "    Cardio=Cardio126ss9000_AgeGenderBMIcreatSmoking.set_index('BD')\n",
    "\n",
    "    if duplicateCardio is not None:\n",
    "        Cardio=pd.concat([Cardio,Cardio])\n",
    "        duplicate='_dup'\n",
    "    else:\n",
    "        duplicate=''\n",
    "        \n",
    "    print Cardio.head()\n",
    "\n",
    "\n",
    "    #loop over all samples in cardio list to find matched PNP samples \n",
    "    for n,sample in enumerate(Cardio.index):\n",
    "    #     if n<3:\n",
    "            print n,sample\n",
    "\n",
    "            #get sample phenotypes:\n",
    "            cardioSample=sample\n",
    "            cardioAge=Cardio.loc[sample,'Age']\n",
    "            cardioGender=Cardio.loc[sample,'Gender']\n",
    "            cardioBMI=Cardio.loc[sample,'BMI']\n",
    "            cardioCreatinine=Cardio.loc[sample,'Creatinine']\n",
    "            cardioSmoking=Cardio.loc[sample,'Smoking']\n",
    "\n",
    "            CardioSample=pd.DataFrame(Cardio.loc[sample,:])\n",
    "            print CardioSample\n",
    "\n",
    "            #search for similar sample in cardio and add to 'matched Samples' df\n",
    "\n",
    "            ##same gender:\n",
    "#             print 'PNP length is %s' %len(PNP)\n",
    "            potentialPNP=PNP[PNP['Gender']==cardioGender]\n",
    "            if len(potentialPNP)<1:\n",
    "                print 'no more %s samples in PNP cohort' %cardioGender\n",
    "                continue\n",
    "\n",
    "            ## similar age:\n",
    "            minAgeDif=abs(cardioAge-potentialPNP['Age']).min()\n",
    "            print 'minAgeDif=%s' %minAgeDif\n",
    "            if (maximalAgeDif is not None) & (minAgeDif>maximalAgeDif):\n",
    "                print 'no more samples with similar age' \n",
    "                continue\n",
    "            if np.isnan(minAgeDif):\n",
    "                print 'no more samples with similar age' \n",
    "                continue\n",
    "\n",
    "            potPNPsimAge=potentialPNP[(potentialPNP['Age']==cardioAge-minAgeDif)|(potentialPNP['Age']==cardioAge+minAgeDif)]\n",
    "#             print potPNPsimAge\n",
    "\n",
    "            ## similar BMI:\n",
    "            minBMIdif=abs(cardioBMI-potPNPsimAge['BMI']).min()\n",
    "            print 'minBMIdif=%s' %minBMIdif\n",
    "            if (maximalBMIDif is not None) & (minBMIdif>maximalBMIDif):\n",
    "                print 'no more samples with similar BMI'\n",
    "                continue\n",
    "            elif (maximalBMIDif is None) & (np.isnan(minBMIdif)):\n",
    "                potPNPsimAgesimBMI=potPNPsimAge\n",
    "            elif (maximalBMIDif is not None) & (np.isnan(minBMIdif)):\n",
    "                print 'no more samples with similar age' \n",
    "                continue\n",
    "            elif len(potPNPsimAge)>1:\n",
    "                potPNPsimAgesimBMI=potPNPsimAge[(potPNPsimAge['BMI']==cardioBMI-minBMIdif)|(potPNPsimAge['BMI']==cardioBMI+minBMIdif)] #### CORRECT HERE!!!!\n",
    "            else:\n",
    "                potPNPsimAgesimBMI=potPNPsimAge\n",
    "\n",
    "            ## similar Creatinine:\n",
    "            minCreatdif=abs(cardioCreatinine-potPNPsimAgesimBMI['Creatinine']).min()\n",
    "            print 'minCreatdif=%s' %minCreatdif\n",
    "            if (maximalCreatDif is not None) & (minCreatdif>maximalCreatDif) :\n",
    "                print 'no more samples with similar Creatinine' \n",
    "                continue \n",
    "            \n",
    "            if np.isnan(minCreatdif):\n",
    "                potPNPsimAgesimBMIsimCreat=potPNPsimAgesimBMI \n",
    "\n",
    "            if len(potPNPsimAgesimBMI)>1:\n",
    "\n",
    "                potPNPsimAgesimBMIsimCreat=potPNPsimAgesimBMI[(potPNPsimAgesimBMI['Creatinine']==cardioCreatinine-minCreatdif)|(potPNPsimAgesimBMI['Creatinine']==cardioCreatinine+minCreatdif)] #### CORRECT HERE!!!!\n",
    "            else:\n",
    "                potPNPsimAgesimBMIsimCreat=potPNPsimAgesimBMI \n",
    "\n",
    "            print potPNPsimAgesimBMIsimCreat\n",
    "\n",
    "            # \n",
    "            takeSample=pd.DataFrame(potPNPsimAgesimBMIsimCreat.iloc[0,:])\n",
    "            sampleTaken=takeSample.columns[0]\n",
    "\n",
    "            if n==0:\n",
    "                PNPmatchedSamples=takeSample\n",
    "                CardiomatchedSamples=CardioSample\n",
    "            else:\n",
    "                PNPmatchedSamples=pd.merge(PNPmatchedSamples, takeSample,how='outer', left_index=True,right_index=True)\n",
    "                CardiomatchedSamples=pd.merge(CardiomatchedSamples, CardioSample,how='outer', left_index=True,right_index=True)\n",
    "\n",
    "           \n",
    "            print 'sample taken: %s' %sampleTaken\n",
    "\n",
    "            print 'selected sample:'\n",
    "            print takeSample\n",
    "\n",
    "    #         print 'matched samples so far:'\n",
    "    #         print PNPmatchedSamples\n",
    "\n",
    "            #remove selected sample from PNP df\n",
    "            PNP=PNP.drop(sampleTaken)\n",
    "\n",
    "\n",
    "#             print 'PNP length is now %s' %len(PNP)\n",
    "\n",
    "\n",
    "    print 'done matching'\n",
    "    print 'n PNP samples = %s' %len(PNPmatchedSamples.columns)\n",
    "    print 'n Cardio samples = %s' %len(CardiomatchedSamples.columns)\n",
    "\n",
    "    PNPmatchedSamples=PNPmatchedSamples.T\n",
    "    CardiomatchedSamples=CardiomatchedSamples.T\n",
    "\n",
    "    # save matched Lists:\n",
    "    f1='/net/mraid08/export/genie/Lab/Personal/ShaniBAF/TCR_real_data/NewPhenotypicData/\\\n",
    "PNPmatchedtoCardio_maxAgeDif%s_maxBMIDif%s%s.xlsx' %(maximalAgeDif,maximalBMIDif,duplicate)\n",
    "    PNPmatchedSamples.to_excel(f1)\n",
    "\n",
    "    f2='/net/mraid08/export/genie/Lab/Personal/ShaniBAF/TCR_real_data/NewPhenotypicData/\\\n",
    "CardiomatchedtoPNP_maxAgeDif%s_maxBMIDif%s%s.xlsx' %(maximalAgeDif,maximalBMIDif,duplicate)\n",
    "    CardiomatchedSamples.to_excel(f2)\n",
    "    \n",
    "    return PNPmatchedSamples,CardiomatchedSamples\n",
    "\n",
    "\n",
    "        \n",
    "        \n"
   ]
  },
  {
   "cell_type": "markdown",
   "metadata": {},
   "source": [
    "## run with age restriction (maximalAgeDif=7)"
   ]
  },
  {
   "cell_type": "code",
   "execution_count": null,
   "metadata": {
    "ExecuteTime": {
     "end_time": "2018-08-21T09:05:17.075396Z",
     "start_time": "2018-08-21T09:05:11.685Z"
    }
   },
   "outputs": [],
   "source": [
    "maximalAgeDif=7 #define threshold, if there is no matched sample with age difference smaller than that, don't include this sample\n",
    "maximalBMIDif=None #define threshold, if there is no matched sample with BMI difference smaller than that, don't include this sample\n",
    "maximalCreatDif=None\n",
    "\n",
    "\n",
    "PNPmatchedSamples7NoneNone,CardiomatchedSamples7NoneNone=find_matched_PNP530_Cardio126(maximalAgeDif,maximalBMIDif,maximalCreatDif)"
   ]
  },
  {
   "cell_type": "code",
   "execution_count": null,
   "metadata": {
    "ExecuteTime": {
     "end_time": "2018-08-21T09:05:17.077259Z",
     "start_time": "2018-08-21T09:05:11.692Z"
    }
   },
   "outputs": [],
   "source": [
    "numericalphenotypes=['Age','BMI','Creatinine']\n",
    "categoricalphenotypes=['Gender', 'Smoking']\n",
    "phenotypeDF1=PNPmatchedSamples7NoneNone\n",
    "sampleList1=None\n",
    "datasetName1='PNPmatchedSamples7NoneNone'\n",
    "phenotypeDF2=CardiomatchedSamples7NoneNone\n",
    "sampleList2=None\n",
    "datasetName2='CardiomatchedSamples7NoneNone'\n",
    "\n",
    "nBins=20\n",
    "\n",
    "fig1=compare_phenotypes(numericalphenotypes,categoricalphenotypes,nBins,phenotypeDF1,sampleList1,datasetName1,\n",
    "                       phenotypeDF2,sampleList2,datasetName2)"
   ]
  },
  {
   "cell_type": "markdown",
   "metadata": {},
   "source": [
    "## run with age restriction (maximalAgeDif=10) - this setting was chosen!!"
   ]
  },
  {
   "cell_type": "code",
   "execution_count": null,
   "metadata": {
    "ExecuteTime": {
     "end_time": "2018-08-21T09:05:17.079126Z",
     "start_time": "2018-08-21T09:05:11.699Z"
    }
   },
   "outputs": [],
   "source": [
    "maximalAgeDif=10 #define threshold, if there is no matched sample with age difference smaller than that, don't include this sample\n",
    "maximalBMIDif=None #define threshold, if there is no matched sample with BMI difference smaller than that, don't include this sample\n",
    "maximalCreatDif=None\n",
    "\n",
    "\n",
    "PNPmatchedSamples10NoneNone,CardiomatchedSamples10NoneNone=find_matched_PNP530_Cardio126(maximalAgeDif,maximalBMIDif,maximalCreatDif)"
   ]
  },
  {
   "cell_type": "code",
   "execution_count": null,
   "metadata": {
    "ExecuteTime": {
     "end_time": "2018-08-21T09:05:17.080914Z",
     "start_time": "2018-08-21T09:05:11.705Z"
    }
   },
   "outputs": [],
   "source": [
    "numericalphenotypes=['Age','BMI','Creatinine']\n",
    "categoricalphenotypes=['Gender', 'Smoking']\n",
    "phenotypeDF1=PNPmatchedSamples10NoneNone\n",
    "sampleList1=None\n",
    "datasetName1='PNPmatchedSamples10NoneNone'\n",
    "phenotypeDF2=CardiomatchedSamples10NoneNone\n",
    "sampleList2=None\n",
    "datasetName2='CardiomatchedSamples10NoneNone'\n",
    "\n",
    "nBins=20\n",
    "\n",
    "fig1=compare_phenotypes(numericalphenotypes,categoricalphenotypes,nBins,phenotypeDF1,sampleList1,datasetName1,\n",
    "                       phenotypeDF2,sampleList2,datasetName2)"
   ]
  },
  {
   "cell_type": "code",
   "execution_count": null,
   "metadata": {
    "ExecuteTime": {
     "end_time": "2018-08-21T09:05:17.082945Z",
     "start_time": "2018-08-21T09:05:11.710Z"
    }
   },
   "outputs": [],
   "source": [
    "#PNP:\n",
    "for column in ['Age','Creatinine','BMI']:\n",
    "    phenotypeDF1[column]=phenotypeDF1[column].astype(float)\n",
    "phenotypeDF1.groupby('Gender').mean()"
   ]
  },
  {
   "cell_type": "code",
   "execution_count": null,
   "metadata": {
    "ExecuteTime": {
     "end_time": "2018-08-21T09:05:17.085126Z",
     "start_time": "2018-08-21T09:05:11.716Z"
    }
   },
   "outputs": [],
   "source": [
    "#Cardio:\n",
    "for column in ['Age','Creatinine','BMI']:\n",
    "    phenotypeDF2[column]=phenotypeDF2[column].astype(float)\n",
    "phenotypeDF2.groupby('Gender').mean()"
   ]
  },
  {
   "cell_type": "markdown",
   "metadata": {},
   "source": [
    "### COMPARE MALES IN BOTH COHORTS:"
   ]
  },
  {
   "cell_type": "code",
   "execution_count": null,
   "metadata": {
    "ExecuteTime": {
     "end_time": "2018-08-21T09:05:17.087295Z",
     "start_time": "2018-08-21T09:05:11.722Z"
    }
   },
   "outputs": [],
   "source": [
    "numericalphenotypes=['Age','BMI','Creatinine']\n",
    "categoricalphenotypes=['Gender', 'Smoking']\n",
    "phenotypeDF1=PNPmatchedSamples10NoneNone[PNPmatchedSamples10NoneNone['Gender']=='Male']\n",
    "sampleList1=None\n",
    "datasetName1='PNPmatchedSamples10NoneNone_Males'\n",
    "phenotypeDF2=CardiomatchedSamples10NoneNone[CardiomatchedSamples10NoneNone['Gender']=='Male']\n",
    "sampleList2=None\n",
    "datasetName2='CardiomatchedSamples10NoneNone_Males'\n",
    "\n",
    "nBins=20\n",
    "\n",
    "fig1=compare_phenotypes(numericalphenotypes,categoricalphenotypes,nBins,phenotypeDF1,sampleList1,datasetName1,\n",
    "                       phenotypeDF2,sampleList2,datasetName2)"
   ]
  },
  {
   "cell_type": "markdown",
   "metadata": {},
   "source": [
    "### COMPARE FEMALES IN BOTH COHORTS:"
   ]
  },
  {
   "cell_type": "code",
   "execution_count": null,
   "metadata": {
    "ExecuteTime": {
     "end_time": "2018-08-21T09:05:17.089399Z",
     "start_time": "2018-08-21T09:05:11.730Z"
    }
   },
   "outputs": [],
   "source": [
    "\n",
    "\n",
    "numericalphenotypes=['Age','BMI','Creatinine']\n",
    "categoricalphenotypes=['Gender', 'Smoking']\n",
    "phenotypeDF1=PNPmatchedSamples10NoneNone[PNPmatchedSamples10NoneNone['Gender']=='Female']\n",
    "sampleList1=None\n",
    "datasetName1='PNPmatchedSamples10NoneNone_Females'\n",
    "phenotypeDF2=CardiomatchedSamples10NoneNone[CardiomatchedSamples10NoneNone['Gender']=='Female']\n",
    "sampleList2=None\n",
    "datasetName2='CardiomatchedSamples10NoneNone_Females'\n",
    "\n",
    "nBins=10\n",
    "\n",
    "fig1=compare_phenotypes(numericalphenotypes,categoricalphenotypes,nBins,phenotypeDF1,sampleList1,datasetName1,\n",
    "                       phenotypeDF2,sampleList2,datasetName2)"
   ]
  },
  {
   "cell_type": "markdown",
   "metadata": {},
   "source": [
    "### generate sample lists:"
   ]
  },
  {
   "cell_type": "code",
   "execution_count": null,
   "metadata": {
    "ExecuteTime": {
     "end_time": "2018-08-21T09:05:17.091508Z",
     "start_time": "2018-08-21T09:05:11.737Z"
    }
   },
   "outputs": [],
   "source": [
    "PNP530matchedToCardioSamples=list(PNPmatchedSamples10NoneNone.index.astype(str))\n",
    "print len(PNP530matchedToCardioSamples)\n",
    "print PNP530matchedToCardioSamples[:5]\n",
    "\n",
    "with open('/net/mraid08/export/genie/Lab/Personal/ShaniBAF/Sample files/BD lists/PNP530matchedToCardioSamples','wb') as fp:\n",
    "    pickle.dump(PNP530matchedToCardioSamples,fp)"
   ]
  },
  {
   "cell_type": "code",
   "execution_count": null,
   "metadata": {
    "ExecuteTime": {
     "end_time": "2018-08-21T09:05:17.093463Z",
     "start_time": "2018-08-21T09:05:11.742Z"
    }
   },
   "outputs": [],
   "source": [
    "Cardio126matchedToPNPSamples=list(CardiomatchedSamples10NoneNone.index.astype(str))\n",
    "print len(Cardio126matchedToPNPSamples)\n",
    "print Cardio126matchedToPNPSamples[:5]\n",
    "\n",
    "with open('/net/mraid08/export/genie/Lab/Personal/ShaniBAF/Sample files/BD lists/Cardio126matchedToPNPSamples','wb') as fp:\n",
    "    pickle.dump(Cardio126matchedToPNPSamples,fp)"
   ]
  },
  {
   "cell_type": "markdown",
   "metadata": {},
   "source": [
    "## run with age restriction (maximalAgeDif=10)+duplications!"
   ]
  },
  {
   "cell_type": "code",
   "execution_count": null,
   "metadata": {
    "ExecuteTime": {
     "end_time": "2018-08-21T09:05:17.095401Z",
     "start_time": "2018-08-21T09:05:11.750Z"
    }
   },
   "outputs": [],
   "source": [
    "maximalAgeDif=10 #define threshold, if there is no matched sample with age difference smaller than that, don't include this sample\n",
    "maximalBMIDif=None #define threshold, if there is no matched sample with BMI difference smaller than that, don't include this sample\n",
    "maximalCreatDif=None\n",
    "\n",
    "\n",
    "PNPmatchedSamples10NoneNoneDup,CardiomatchedSamples10NoneNoneDup=find_matched_PNP530_Cardio126(maximalAgeDif,\n",
    "                                                            maximalBMIDif,maximalCreatDif,duplicateCardio=True)"
   ]
  },
  {
   "cell_type": "markdown",
   "metadata": {},
   "source": [
    "## run with age+BMI dif restriction:"
   ]
  },
  {
   "cell_type": "code",
   "execution_count": null,
   "metadata": {
    "ExecuteTime": {
     "end_time": "2018-08-21T09:05:17.097360Z",
     "start_time": "2018-08-21T09:05:11.757Z"
    }
   },
   "outputs": [],
   "source": [
    "maximalAgeDif=7 #define threshold, if there is no matched sample with age difference smaller than that, don't include this sample\n",
    "maximalBMIDif=5 #define threshold, if there is no matched sample with BMI difference smaller than that, don't include this sample\n",
    "maximalCreatDif=None\n",
    "\n",
    "\n",
    "PNPmatchedSamples,CardiomatchedSamples=find_matched_PNP530_Cardio126(maximalAgeDif,maximalBMIDif,maximalCreatDif)"
   ]
  },
  {
   "cell_type": "markdown",
   "metadata": {},
   "source": [
    "## run with age+BMI+CREATININE dif restriction:"
   ]
  },
  {
   "cell_type": "code",
   "execution_count": null,
   "metadata": {
    "ExecuteTime": {
     "end_time": "2018-08-21T09:05:17.099315Z",
     "start_time": "2018-08-21T09:05:11.764Z"
    }
   },
   "outputs": [],
   "source": [
    "maximalAgeDif=7 #define threshold, if there is no matched sample with age difference smaller than that, don't include this sample\n",
    "maximalBMIDif=5 #define threshold, if there is no matched sample with BMI difference smaller than that, don't include this sample\n",
    "maximalCreatDif=0.3\n",
    "\n",
    "\n",
    "PNPmatchedSamples,CardiomatchedSamples=find_matched_PNP530_Cardio126(maximalAgeDif,maximalBMIDif,maximalCreatDif)"
   ]
  },
  {
   "cell_type": "code",
   "execution_count": null,
   "metadata": {},
   "outputs": [],
   "source": []
  },
  {
   "cell_type": "markdown",
   "metadata": {},
   "source": [
    "# compare features between matched sub-cohorts (n=86)"
   ]
  },
  {
   "cell_type": "code",
   "execution_count": null,
   "metadata": {
    "ExecuteTime": {
     "end_time": "2018-08-21T09:05:17.101296Z",
     "start_time": "2018-08-21T09:05:11.773Z"
    }
   },
   "outputs": [],
   "source": [
    "with open('/net/mraid08/export/genie/Lab/Personal/ShaniBAF/Sample files/BD lists/PNP530matchedToCardioSamples','rb') as fp:\n",
    "    PNP530matchedToCardioSamples=pickle.load(fp)\n",
    "\n",
    "with open('/net/mraid08/export/genie/Lab/Personal/ShaniBAF/Sample files/BD lists/Cardio126matchedToPNPSamples','rb') as fp:\n",
    "    Cardio126matchedToPNPSamples=pickle.load(fp)"
   ]
  },
  {
   "cell_type": "markdown",
   "metadata": {},
   "source": [
    "## compare feature statistics between datasets:"
   ]
  },
  {
   "cell_type": "code",
   "execution_count": null,
   "metadata": {
    "ExecuteTime": {
     "end_time": "2018-08-21T09:05:17.103291Z",
     "start_time": "2018-08-21T09:05:11.780Z"
    }
   },
   "outputs": [],
   "source": [
    "data_folder1='TCR_real_data/PNP530_SubSampled9000data_rep1'\n",
    "data_folder2='TCR_real_data/CardioSamples/Cardio126_SubSampled9000data_rep1'\n",
    "datasetName1='PNP530_ss9000_rep1'\n",
    "datasetName2='Cardio126_ss9000_rep1'\n",
    "\n",
    "TakeSameSamples=False\n",
    "filteringList1=PNP530matchedToCardioSamples\n",
    "filteringList2=Cardio126matchedToPNPSamples\n",
    "filteringList1Name='86matched'\n",
    "filteringList2Name='86matched'\n",
    "\n",
    "\n",
    "compare_features_between_datasets(data_folder1, datasetName1,  data_folder2, datasetName2,TakeSameSamples, \n",
    "                                  filteringList1,filteringList2,filteringList1Name,filteringList2Name)"
   ]
  },
  {
   "cell_type": "markdown",
   "metadata": {},
   "source": [
    "## compare gene usage"
   ]
  },
  {
   "cell_type": "code",
   "execution_count": null,
   "metadata": {
    "ExecuteTime": {
     "end_time": "2018-08-21T09:05:17.105187Z",
     "start_time": "2018-08-21T09:05:11.786Z"
    }
   },
   "outputs": [],
   "source": [
    "data_folder1='TCR_real_data/PNP530_SubSampled9000data_rep1'\n",
    "data_folder2='TCR_real_data/CardioSamples/Cardio126_SubSampled9000data_rep1'\n",
    "datasetName1='PNP530_ss9000_rep1'\n",
    "datasetName2='Cardio126_ss9000_rep1'\n",
    "\n",
    "TakeSameSamples=False\n",
    "filteringList1=PNP530matchedToCardioSamples\n",
    "filteringList2=Cardio126matchedToPNPSamples\n",
    "filteringList1Name='86matched'\n",
    "filteringList2Name='86matched'\n",
    "\n",
    "plotType='bar'\n",
    "\n",
    "plot_gene_usage_comparison(data_folder1, datasetName1,  data_folder2, datasetName2,plotType, TakeSameSamples, \n",
    "                           filteringList1,filteringList2,filteringList1Name,filteringList2Name)"
   ]
  },
  {
   "cell_type": "markdown",
   "metadata": {},
   "source": [
    "## check comparison results:"
   ]
  },
  {
   "cell_type": "code",
   "execution_count": null,
   "metadata": {
    "ExecuteTime": {
     "end_time": "2018-08-21T09:05:17.107165Z",
     "start_time": "2018-08-21T09:05:11.794Z"
    }
   },
   "outputs": [],
   "source": [
    "f1='%s/TCR_real_data/featureSummaryDFs/FeatureMeanSummary_PNP530_ss9000_rep186matched_Cardio126_ss9000_rep186matched' %MyPath\n",
    "matched86results=pd.read_pickle(f1)\n",
    "\n",
    "print len(matched86results)\n",
    "matched86results.head()"
   ]
  },
  {
   "cell_type": "code",
   "execution_count": null,
   "metadata": {
    "ExecuteTime": {
     "end_time": "2018-08-21T09:05:17.109206Z",
     "start_time": "2018-08-21T09:05:11.800Z"
    }
   },
   "outputs": [],
   "source": [
    "nTests=len(matched86results)\n",
    "matched86results2=matched86results.sort_values(by='ks_p')\n",
    "\n",
    "matched86results2=add_corrected_pValues(matched86results2,pValueColumn='ks_p',nTests=nTests,FDR=0.1)\n",
    "matched86results2=matched86results2.rename(columns={'Sig by bonferroni corrected pVal':'Sig by bonferroni corrected pVal_ks_p',\n",
    "                                                 'sig. by FDR=0.1':'sig. by FDR=0.1_ks_p'})\n",
    "\n",
    "matched86results2=add_corrected_pValues(matched86results2,pValueColumn='t_p',nTests=nTests,FDR=0.1)\n",
    "matched86results2=matched86results2.rename(columns={'Sig by bonferroni corrected pVal':'Sig by bonferroni corrected pVal_t_p',\n",
    "                                                 'sig. by FDR=0.1':'sig. by FDR=0.1_t_p'})\n",
    "\n",
    "matched86results2.head()\n",
    "\n",
    "f1='%s/TCR_real_data/featureSummaryDFs/FeatureMeanSummaryComparison_PNP530Cardio126matched86.xlsx' %MyPath\n",
    "matched86results2.to_excel(f1)"
   ]
  },
  {
   "cell_type": "markdown",
   "metadata": {},
   "source": [
    "### look only on 'total' features:"
   ]
  },
  {
   "cell_type": "code",
   "execution_count": null,
   "metadata": {
    "ExecuteTime": {
     "end_time": "2018-08-21T09:05:17.111011Z",
     "start_time": "2018-08-21T09:05:11.807Z"
    }
   },
   "outputs": [],
   "source": [
    "matched86resultsT=matched86results.loc[[f for f in matched86results.index if '_T' in f],:]\n",
    "print len(matched86resultsT)\n",
    "print matched86resultsT.head()"
   ]
  },
  {
   "cell_type": "code",
   "execution_count": null,
   "metadata": {
    "ExecuteTime": {
     "end_time": "2018-08-21T09:05:17.112769Z",
     "start_time": "2018-08-21T09:05:11.812Z"
    }
   },
   "outputs": [],
   "source": [
    "nTests=len(matched86resultsT)\n",
    "matched86resultsT=matched86resultsT.sort_values(by='ks_p')\n",
    "\n",
    "matched86resultsT=add_corrected_pValues(matched86resultsT,pValueColumn='ks_p',nTests=nTests,FDR=0.1)\n",
    "matched86resultsT=matched86resultsT.rename(columns={'Sig by bonferroni corrected pVal':'Sig by bonferroni corrected pVal_ks_p',\n",
    "                                                 'sig. by FDR=0.1':'sig. by FDR=0.1_ks_p'})\n",
    "\n",
    "matched86resultsT=add_corrected_pValues(matched86resultsT,pValueColumn='t_p',nTests=nTests,FDR=0.1)\n",
    "matched86resultsT=matched86resultsT.rename(columns={'Sig by bonferroni corrected pVal':'Sig by bonferroni corrected pVal_t_p',\n",
    "                                                 'sig. by FDR=0.1':'sig. by FDR=0.1_t_p'})\n",
    "\n",
    "f1='%s/TCR_real_data/featureSummaryDFs/FeatureMeanSummaryComparison_PNP530Cardio126matched86_onlyT.xlsx' %MyPath\n",
    "matched86resultsT.to_excel(f1)\n",
    "\n",
    "matched86resultsT.head()"
   ]
  },
  {
   "cell_type": "code",
   "execution_count": null,
   "metadata": {},
   "outputs": [],
   "source": []
  },
  {
   "cell_type": "markdown",
   "metadata": {},
   "source": [
    "### look only on 'productive' features:"
   ]
  },
  {
   "cell_type": "code",
   "execution_count": null,
   "metadata": {
    "ExecuteTime": {
     "end_time": "2018-08-21T09:05:17.114551Z",
     "start_time": "2018-08-21T09:05:11.822Z"
    }
   },
   "outputs": [],
   "source": [
    "matched86results1=matched86results.loc[[f for f in matched86results.index if '_1' in f],:]\n",
    "print len(matched86results1)\n",
    "print matched86results1.head()"
   ]
  },
  {
   "cell_type": "code",
   "execution_count": null,
   "metadata": {
    "ExecuteTime": {
     "end_time": "2018-08-21T09:05:17.116381Z",
     "start_time": "2018-08-21T09:05:11.829Z"
    }
   },
   "outputs": [],
   "source": [
    "nTests=len(matched86results1)\n",
    "matched86results1=matched86results1.sort_values(by='ks_p')\n",
    "\n",
    "matched86results1=add_corrected_pValues(matched86results1,pValueColumn='ks_p',nTests=nTests,FDR=0.1)\n",
    "matched86results1=matched86results1.rename(columns={'Sig by bonferroni corrected pVal':'Sig by bonferroni corrected pVal_ks_p',\n",
    "                                                 'sig. by FDR=0.1':'sig. by FDR=0.1_ks_p'})\n",
    "\n",
    "matched86results1=add_corrected_pValues(matched86results1,pValueColumn='t_p',nTests=nTests,FDR=0.1)\n",
    "matched86results1=matched86results1.rename(columns={'Sig by bonferroni corrected pVal':'Sig by bonferroni corrected pVal_t_p',\n",
    "                                                 'sig. by FDR=0.1':'sig. by FDR=0.1_t_p'})\n",
    "\n",
    "f1='%s/TCR_real_data/featureSummaryDFs/FeatureMeanSummaryComparison_PNP530Cardio126matched86_onlyProd.xlsx' %MyPath\n",
    "matched86results1.to_excel(f1)\n",
    "\n",
    "matched86results1.head()"
   ]
  },
  {
   "cell_type": "markdown",
   "metadata": {},
   "source": [
    "### LOOK ONLY ON SELECTED FEATURES:"
   ]
  },
  {
   "cell_type": "code",
   "execution_count": null,
   "metadata": {
    "ExecuteTime": {
     "end_time": "2018-08-21T09:05:17.118279Z",
     "start_time": "2018-08-21T09:05:11.836Z"
    }
   },
   "outputs": [],
   "source": [
    "FeatureList = ['prod_stat_mean_T', 'max_nt_per_aa_T', 'mean_nt_per_aa_T', 'normSeqNums_per200_AA_T', \n",
    "               'normSeqNums_per2000_NT_T', 'cdr3Length_mean_T', 'n1Insertion_mean_T', 'n2Insertion_mean_T', \n",
    "               'vDeletion_mean_T', 'd3Deletion_mean_T', 'd5Deletion_mean_T', 'jDeletion_mean_T','meanClonal_nt_T', \n",
    "               'meanClonal_aa_T', 'topClonal_nt_T', 'topClonal_aa_T', 'frequencyCount (%)_mean_T',\n",
    "                               'frequencyCount (%)_max_T', 'shannon_nt_T']"
   ]
  },
  {
   "cell_type": "code",
   "execution_count": null,
   "metadata": {
    "ExecuteTime": {
     "end_time": "2018-08-21T09:05:17.120015Z",
     "start_time": "2018-08-21T09:05:11.843Z"
    }
   },
   "outputs": [],
   "source": [
    "matched86results_selected=matched86results.loc[FeatureList,:]\n",
    "print len(matched86results_selected)\n",
    "print matched86results_selected.head()"
   ]
  },
  {
   "cell_type": "code",
   "execution_count": null,
   "metadata": {
    "ExecuteTime": {
     "end_time": "2018-08-21T09:05:17.121834Z",
     "start_time": "2018-08-21T09:05:11.849Z"
    }
   },
   "outputs": [],
   "source": [
    "nTests=len(matched86results_selected)\n",
    "matched86results_selected=matched86results_selected.sort_values(by='ks_p')\n",
    "\n",
    "matched86results_selected=add_corrected_pValues(matched86results_selected,pValueColumn='ks_p',nTests=nTests,FDR=0.1)\n",
    "matched86results_selected=matched86results_selected.rename(columns={'Sig by bonferroni corrected pVal':'Sig by bonferroni corrected pVal_ks_p',\n",
    "                                                 'sig. by FDR=0.1':'sig. by FDR=0.1_ks_p'})\n",
    "\n",
    "matched86results_selected=add_corrected_pValues(matched86results_selected,pValueColumn='t_p',nTests=nTests,FDR=0.1)\n",
    "matched86results_selected=matched86results_selected.rename(columns={'Sig by bonferroni corrected pVal':'Sig by bonferroni corrected pVal_t_p',\n",
    "                                                 'sig. by FDR=0.1':'sig. by FDR=0.1_t_p'})\n",
    "\n",
    "f1='%s/TCR_real_data/featureSummaryDFs/FeatureMeanSummaryComparison_PNP530Cardio126matched86_onlySelected.xlsx' %MyPath\n",
    "matched86results_selected.to_excel(f1)\n",
    "\n",
    "matched86results_selected"
   ]
  },
  {
   "cell_type": "markdown",
   "metadata": {},
   "source": [
    "### look only on gene usage results:"
   ]
  },
  {
   "cell_type": "code",
   "execution_count": null,
   "metadata": {
    "ExecuteTime": {
     "end_time": "2018-08-21T09:05:17.123530Z",
     "start_time": "2018-08-21T09:05:11.856Z"
    }
   },
   "outputs": [],
   "source": [
    "###### define sub-dfs for each gene usage type\n",
    "regex_vFamily = re.compile('V.._T')\n",
    "indices_vFamily = [n for n in matched86results.index if re.match(regex_vFamily, n) ]\n",
    "vFamily = matched86results.loc[indices_vFamily, :]\n",
    "\n",
    "regex_vGene = re.compile('V..-.._T')\n",
    "indices_vGene = [n for n in matched86results.index if re.match(regex_vGene, n) ]\n",
    "vGene = matched86results.loc[indices_vGene, :]\n",
    "\n",
    "regex_jGene = re.compile('J..-.._T')\n",
    "indices_jGene = [n for n in matched86results.index if re.match(regex_jGene, n) ]\n",
    "jGene = matched86results.loc[indices_jGene, :]\n",
    "\n",
    "regex_dFamily = re.compile('D.._T')\n",
    "indices_dFamily = [n for n in matched86results.index if re.match(regex_dFamily, n) ]\n",
    "dFamily = matched86results.loc[indices_dFamily, :]\n",
    "\n",
    "regex_VJ = re.compile('V.._J.._T')\n",
    "indices_VJ = [n for n in matched86results.index if re.match(regex_VJ, n) ]\n",
    "VJ = matched86results.loc[indices_VJ, :]\n",
    "\n",
    "regex_DJ = re.compile('D.._J..-.._T')\n",
    "indices_DJ = [n for n in matched86results.index if re.match(regex_DJ, n) ]\n",
    "DJ = matched86results.loc[indices_DJ, :]"
   ]
  },
  {
   "cell_type": "code",
   "execution_count": null,
   "metadata": {
    "ExecuteTime": {
     "end_time": "2018-08-21T09:05:17.125282Z",
     "start_time": "2018-08-21T09:05:11.863Z"
    }
   },
   "outputs": [],
   "source": [
    "geneUsageResults=pd.concat([vFamily,vGene,jGene,dFamily,VJ,DJ])\n",
    "print len(geneUsageResults)\n",
    "geneUsageResults.head()"
   ]
  },
  {
   "cell_type": "code",
   "execution_count": null,
   "metadata": {
    "ExecuteTime": {
     "end_time": "2018-08-21T09:05:17.126961Z",
     "start_time": "2018-08-21T09:05:11.868Z"
    }
   },
   "outputs": [],
   "source": [
    "nTests=len(geneUsageResults)\n",
    "geneUsageResults=geneUsageResults.sort_values(by='ks_p')\n",
    "\n",
    "geneUsageResults=add_corrected_pValues(geneUsageResults,pValueColumn='ks_p',nTests=nTests,FDR=0.1)\n",
    "geneUsageResults=geneUsageResults.rename(columns={'Sig by bonferroni corrected pVal':'Sig by bonferroni corrected pVal_ks_p',\n",
    "                                                 'sig. by FDR=0.1':'sig. by FDR=0.1_ks_p'})\n",
    "\n",
    "geneUsageResults=add_corrected_pValues(geneUsageResults,pValueColumn='t_p',nTests=nTests,FDR=0.1)\n",
    "geneUsageResults=geneUsageResults.rename(columns={'Sig by bonferroni corrected pVal':'Sig by bonferroni corrected pVal_t_p',\n",
    "                                                 'sig. by FDR=0.1':'sig. by FDR=0.1_t_p'})\n",
    "\n",
    "f1='%s/TCR_real_data/featureSummaryDFs/FeatureMeanSummaryComparison_PNP530Cardio126matched86_geneUsageResults.xlsx' %MyPath\n",
    "geneUsageResults.to_excel(f1)\n",
    "\n",
    "geneUsageResults.head()"
   ]
  },
  {
   "cell_type": "markdown",
   "metadata": {},
   "source": [
    "#### chi square tests:"
   ]
  },
  {
   "cell_type": "code",
   "execution_count": null,
   "metadata": {
    "ExecuteTime": {
     "end_time": "2018-08-21T09:05:17.128741Z",
     "start_time": "2018-08-21T09:05:11.875Z"
    }
   },
   "outputs": [],
   "source": [
    "GUlist=[vFamily,vGene,jGene,dFamily,VJ,DJ]\n",
    "GUlistName=['vFamily','vGene','jGene','dFamily','VJ','DJ']\n",
    "\n",
    "for n,table in enumerate(GUlist):\n",
    "    tableName=GUlistName[n]\n",
    "    print n,tableName\n",
    "    contg_table=table[['PNP530_ss9000_rep1','Cardio126_ss9000_rep1']]\n",
    "    norm_contg_table = contg_table.div(contg_table.sum(axis=0), axis=1)\n",
    "#     print norm_contg_table.sum(axis=0).head()\n",
    "    print norm_contg_table.min()\n",
    "    count_contg_table= norm_contg_table.multiply(1000000).round(0)\n",
    "    \n",
    "    print count_contg_table.sum()\n",
    "    chi,chi_p,dof,expected=chi2_contingency(count_contg_table)\n",
    "    print chi_p\n",
    "    \n",
    "    "
   ]
  },
  {
   "cell_type": "code",
   "execution_count": null,
   "metadata": {},
   "outputs": [],
   "source": []
  },
  {
   "cell_type": "code",
   "execution_count": null,
   "metadata": {},
   "outputs": [],
   "source": []
  },
  {
   "cell_type": "code",
   "execution_count": null,
   "metadata": {
    "ExecuteTime": {
     "end_time": "2018-08-21T09:05:17.130494Z",
     "start_time": "2018-08-21T09:05:11.885Z"
    }
   },
   "outputs": [],
   "source": [
    "vFamily_contg=vFamily[['PNP530_ss9000_rep1','Cardio126_ss9000_rep1']].multiply(10000).round(0)\n",
    "\n",
    "vFamily_contg"
   ]
  },
  {
   "cell_type": "code",
   "execution_count": null,
   "metadata": {
    "ExecuteTime": {
     "end_time": "2018-08-21T09:05:17.132273Z",
     "start_time": "2018-08-21T09:05:11.892Z"
    }
   },
   "outputs": [],
   "source": [
    "vFamily_contg.sum()"
   ]
  },
  {
   "cell_type": "code",
   "execution_count": null,
   "metadata": {
    "ExecuteTime": {
     "end_time": "2018-08-21T09:05:17.134064Z",
     "start_time": "2018-08-21T09:05:11.897Z"
    }
   },
   "outputs": [],
   "source": [
    "from scipy.stats import chi2_contingency\n",
    "chi,chi_p,dof,expected=chi2_contingency(vFamily_contg)"
   ]
  },
  {
   "cell_type": "code",
   "execution_count": null,
   "metadata": {
    "ExecuteTime": {
     "end_time": "2018-08-21T09:05:17.135832Z",
     "start_time": "2018-08-21T09:05:11.903Z"
    }
   },
   "outputs": [],
   "source": [
    "print chi_p"
   ]
  },
  {
   "cell_type": "code",
   "execution_count": null,
   "metadata": {},
   "outputs": [],
   "source": []
  },
  {
   "cell_type": "markdown",
   "metadata": {},
   "source": [
    "# generate New matched samples using ss5000 datasets:\n"
   ]
  },
  {
   "cell_type": "code",
   "execution_count": null,
   "metadata": {
    "ExecuteTime": {
     "end_time": "2018-08-21T09:05:17.137734Z",
     "start_time": "2018-08-21T09:05:11.914Z"
    }
   },
   "outputs": [],
   "source": [
    "#load PNP530 phenotype file:\n",
    "f1='/net/mraid08/export/genie/Lab/Personal/ShaniBAF/TCR_real_data/NewPhenotypicData/PNP530ss5000_phen_new_dummies.xlsx'\n",
    "PNP530ss5000_phen_new_dummies=pd.read_excel(f1)\n",
    "print  PNP530ss5000_phen_new_dummies.columns.values\n",
    "\n",
    "#load cardio126 phenotype file:\n",
    "f1='/net/mraid08/export/genie/Lab/Personal/ShaniBAF/TCR_real_data/CardioSamples/phenotypicData/Cardio126ss5000_phen_new_dummies.xlsx'\n",
    "Cardio126ss5000_phen_new_dummies=pd.read_excel(f1)\n",
    "\n"
   ]
  },
  {
   "cell_type": "code",
   "execution_count": null,
   "metadata": {},
   "outputs": [],
   "source": []
  },
  {
   "cell_type": "markdown",
   "metadata": {},
   "source": [
    "## define function:"
   ]
  },
  {
   "cell_type": "code",
   "execution_count": null,
   "metadata": {
    "ExecuteTime": {
     "end_time": "2018-08-21T09:05:17.139542Z",
     "start_time": "2018-08-21T09:05:11.924Z"
    }
   },
   "outputs": [],
   "source": [
    "\n",
    "def find_matched_PNP530_Cardio126_gen(PNPdf,Cardiodf,ss,maximalAgeDif,maximalBMIDif,maximalCreatDif,random_state=None,\n",
    "                                      duplicateCardio=False):\n",
    "\n",
    "    #define dfs for sampling and new dfs for matched samples:\n",
    "    CardiomatchedSamples=pd.DataFrame()\n",
    "    PNPmatchedSamples=pd.DataFrame()\n",
    "    PNP=PNPdf\n",
    "    Cardio=Cardiodf.sample(frac=1,random_state=random_state)\n",
    "    try:\n",
    "        Cardio=Cardio.set_index('BD')\n",
    "    except:\n",
    "        print 'Cardio index is already bd'\n",
    "#     print Cardio.Gender_Male.head()\n",
    "\n",
    "    \n",
    "    for col in ['Age','Gender_Male','BMI','Creatinine','eGFR_CKD-EPI_new','Smoking_Yes','Smoking_Past']:\n",
    "        PNP[col]=PNP[col].fillna(PNP[col].median())\n",
    "        Cardio[col]=Cardio[col].fillna(Cardio[col].median())\n",
    "        \n",
    "        if col=='Gender_Male':\n",
    "            PNP[col]=PNP[col].astype(int)\n",
    "            Cardio[col]=Cardio[col].astype(int)\n",
    "    if duplicateCardio:\n",
    "        Cardio=pd.concat([Cardio,Cardio])\n",
    "        duplicate='_dup'\n",
    "    else:\n",
    "        duplicate=''\n",
    "        \n",
    "    print Cardio.head()\n",
    "\n",
    "\n",
    "    #loop over all samples in cardio list to find matched PNP samples \n",
    "    for n,sample in enumerate(Cardio.index):\n",
    "        PNP=PNP.sample(frac=1)\n",
    "        \n",
    "        try:\n",
    "            PNP=PNP.set_index('BD')\n",
    "        except:\n",
    "            print 'PNP index is already bd'\n",
    "     #     if n<3:\n",
    "        print n,sample\n",
    "\n",
    "        #get sample phenotypes:\n",
    "        cardioSample=sample\n",
    "        cardioAge=Cardio.loc[sample,'Age']\n",
    "        cardioGenderMale=Cardio.loc[sample,'Gender_Male']\n",
    "        cardioBMI=Cardio.loc[sample,'BMI']\n",
    "        cardioCreatinine=Cardio.loc[sample,'Creatinine']\n",
    "        cardioSmokingYes=Cardio.loc[sample,'Smoking_Yes']\n",
    "        cardioSmokingPast=Cardio.loc[sample,'Smoking_Past']\n",
    "        cardioEGFR=Cardio.loc[sample,'eGFR_CKD-EPI_new']\n",
    "\n",
    "        CardioSample=pd.DataFrame(Cardio.loc[sample,:])\n",
    "#         print CardioSample\n",
    "        print 'Gender_Male=%s' %cardioGenderMale\n",
    "\n",
    "        #search for similar sample in cardio and add to 'matched Samples' df\n",
    "\n",
    "        ##same gender:\n",
    "#             print 'PNP length is %s' %len(PNP)\n",
    "        potentialPNP=PNP[PNP['Gender_Male']==cardioGenderMale]\n",
    "        if len(potentialPNP)<1:\n",
    "            print 'no more %s samples in PNP cohort' %cardioGenderMale\n",
    "            continue\n",
    "\n",
    "        ## similar age:\n",
    "        minAgeDif=abs(cardioAge-potentialPNP['Age']).min()\n",
    "#         print 'minAgeDif=%s' %minAgeDif\n",
    "        if (maximalAgeDif is not None) & (minAgeDif>maximalAgeDif):\n",
    "            print 'no more samples with similar age' \n",
    "            continue\n",
    "        if np.isnan(minAgeDif):\n",
    "            print 'no more samples with similar age' \n",
    "            continue\n",
    "\n",
    "        potPNPsimAge=potentialPNP[(potentialPNP['Age']==cardioAge-minAgeDif)|(potentialPNP['Age']==cardioAge+minAgeDif)]\n",
    "#             print potPNPsimAge\n",
    "\n",
    "        ## similar BMI:\n",
    "        minBMIdif=abs(cardioBMI-potPNPsimAge['BMI']).min()\n",
    "#         print 'minBMIdif=%s' %minBMIdif\n",
    "        if (maximalBMIDif is not None) & (minBMIdif>maximalBMIDif):\n",
    "            print 'no more samples with similar BMI'\n",
    "            continue\n",
    "        elif (maximalBMIDif is None) & (np.isnan(minBMIdif)):\n",
    "            potPNPsimAgesimBMI=potPNPsimAge\n",
    "        elif (maximalBMIDif is not None) & (np.isnan(minBMIdif)):\n",
    "            print 'no more samples with similar age' \n",
    "            continue\n",
    "        elif len(potPNPsimAge)>1:\n",
    "            potPNPsimAgesimBMI=potPNPsimAge[(potPNPsimAge['BMI']==cardioBMI-minBMIdif)|(potPNPsimAge['BMI']==cardioBMI+minBMIdif)] #### CORRECT HERE!!!!\n",
    "        else:\n",
    "            potPNPsimAgesimBMI=potPNPsimAge\n",
    "\n",
    "        ## similar Creatinine:\n",
    "        minCreatdif=abs(cardioCreatinine-potPNPsimAgesimBMI['Creatinine']).min()\n",
    "        print 'minCreatdif=%s' %minCreatdif\n",
    "        if (maximalCreatDif is not None) & (minCreatdif>maximalCreatDif) :\n",
    "            print 'no more samples with similar Creatinine' \n",
    "            continue \n",
    "\n",
    "        if np.isnan(minCreatdif):\n",
    "            potPNPsimAgesimBMIsimCreat=potPNPsimAgesimBMI \n",
    "\n",
    "        if len(potPNPsimAgesimBMI)>1:\n",
    "\n",
    "            potPNPsimAgesimBMIsimCreat=potPNPsimAgesimBMI[(potPNPsimAgesimBMI['Creatinine']==cardioCreatinine-minCreatdif)|(potPNPsimAgesimBMI['Creatinine']==cardioCreatinine+minCreatdif)] #### CORRECT HERE!!!!\n",
    "        else:\n",
    "            potPNPsimAgesimBMIsimCreat=potPNPsimAgesimBMI \n",
    "\n",
    "        print potPNPsimAgesimBMIsimCreat\n",
    "\n",
    "        # \n",
    "        takeSample=pd.DataFrame(potPNPsimAgesimBMIsimCreat.iloc[0,:])\n",
    "        sampleTaken=takeSample.columns[0]\n",
    "\n",
    "        if n==0:\n",
    "            PNPmatchedSamples=takeSample\n",
    "            CardiomatchedSamples=CardioSample\n",
    "        else:\n",
    "            PNPmatchedSamples=pd.merge(PNPmatchedSamples, takeSample,how='outer', left_index=True,right_index=True)\n",
    "            CardiomatchedSamples=pd.merge(CardiomatchedSamples, CardioSample,how='outer', left_index=True,right_index=True)\n",
    "\n",
    "\n",
    "        print 'sample taken: %s' %sampleTaken\n",
    "\n",
    "#         print 'selected sample:'\n",
    "#         print takeSample\n",
    "\n",
    "#         print 'matched samples so far:'\n",
    "#         print PNPmatchedSamples\n",
    "\n",
    "        #remove selected sample from PNP df\n",
    "        PNP=PNP.drop(sampleTaken)\n",
    "\n",
    "\n",
    "#             print 'PNP length is now %s' %len(PNP)\n",
    "\n",
    "\n",
    "    print 'done matching'\n",
    "    print 'n PNP samples = %s' %len(PNPmatchedSamples.columns)\n",
    "    print 'n Cardio samples = %s' %len(CardiomatchedSamples.columns)\n",
    "\n",
    "    PNPmatchedSamples=PNPmatchedSamples.T\n",
    "    CardiomatchedSamples=CardiomatchedSamples.T\n",
    "\n",
    "    # save matched Lists:\n",
    "    f1='/net/mraid08/export/genie/Lab/Personal/ShaniBAF/TCR_real_data/NewPhenotypicData/\\\n",
    "PNPmatchedtoCardio%s_maxAgeDif%s_maxBMIDif%s%s.xlsx' %(ss,maximalAgeDif,maximalBMIDif,duplicate)\n",
    "    PNPmatchedSamples.to_excel(f1)\n",
    "\n",
    "    f2='/net/mraid08/export/genie/Lab/Personal/ShaniBAF/TCR_real_data/NewPhenotypicData/\\\n",
    "CardiomatchedtoPNP%s_maxAgeDif%s_maxBMIDif%s%s.xlsx' %(ss,maximalAgeDif,maximalBMIDif,duplicate)\n",
    "    CardiomatchedSamples.to_excel(f2)\n",
    "    \n",
    "    return PNPmatchedSamples,CardiomatchedSamples\n",
    "\n",
    "\n",
    "        \n",
    "        \n"
   ]
  },
  {
   "cell_type": "markdown",
   "metadata": {},
   "source": [
    "## run with age restriction (maximalAgeDif=10) - this setting was chosen!!"
   ]
  },
  {
   "cell_type": "code",
   "execution_count": null,
   "metadata": {
    "ExecuteTime": {
     "end_time": "2018-08-21T09:05:17.141353Z",
     "start_time": "2018-08-21T09:05:11.930Z"
    }
   },
   "outputs": [],
   "source": [
    "maximalAgeDif=10 #define threshold, if there is no matched sample with age difference smaller than that, don't include this sample\n",
    "maximalBMIDif=None #define threshold, if there is no matched sample with BMI difference smaller than that, don't include this sample\n",
    "maximalCreatDif=None\n",
    "\n",
    "PNPdf=PNP530ss5000_phen_new_dummies.set_index('BD')\n",
    "Cardiodf=Cardio126ss5000_phen_new_dummies.set_index('BD')\n",
    "ss=5000\n",
    "random_state=10\n",
    "\n",
    "PNPmatchedSamples10NoneNone,CardiomatchedSamples10NoneNone=find_matched_PNP530_Cardio126_gen(PNPdf,Cardiodf,ss,\n",
    "                                                        maximalAgeDif,maximalBMIDif,maximalCreatDif,\n",
    "                                                        random_state)"
   ]
  },
  {
   "cell_type": "code",
   "execution_count": null,
   "metadata": {
    "ExecuteTime": {
     "end_time": "2018-08-21T09:05:17.143089Z",
     "start_time": "2018-08-21T09:05:11.936Z"
    }
   },
   "outputs": [],
   "source": [
    "numericalphenotypes=['Age','BMI','Creatinine','WBC','eGFR_CKD-EPI_new']\n",
    "categoricalphenotypes=['Gender', 'Smoking']\n",
    "phenotypeDF1=PNPmatchedSamples10NoneNone\n",
    "sampleList1=None\n",
    "datasetName1='PNPmatchedSamples10NoneNone'\n",
    "phenotypeDF2=CardiomatchedSamples10NoneNone\n",
    "sampleList2=None\n",
    "datasetName2='CardiomatchedSamples10NoneNone'\n",
    "\n",
    "nBins=20\n",
    "\n",
    "fig1=compare_phenotypes(numericalphenotypes,categoricalphenotypes,nBins,phenotypeDF1,sampleList1,datasetName1,\n",
    "                       phenotypeDF2,sampleList2,datasetName2)"
   ]
  },
  {
   "cell_type": "code",
   "execution_count": null,
   "metadata": {
    "ExecuteTime": {
     "end_time": "2018-08-21T09:05:17.144840Z",
     "start_time": "2018-08-21T09:05:11.942Z"
    }
   },
   "outputs": [],
   "source": [
    "#PNP:\n",
    "for column in ['Age','Creatinine','BMI']:\n",
    "    phenotypeDF1[column]=phenotypeDF1[column].astype(float)\n",
    "phenotypeDF1.groupby('Gender').mean()"
   ]
  },
  {
   "cell_type": "code",
   "execution_count": null,
   "metadata": {
    "ExecuteTime": {
     "end_time": "2018-08-21T09:05:17.146678Z",
     "start_time": "2018-08-21T09:05:11.948Z"
    }
   },
   "outputs": [],
   "source": [
    "#Cardio:\n",
    "for column in ['Age','Creatinine','BMI']:\n",
    "    phenotypeDF2[column]=phenotypeDF2[column].astype(float)\n",
    "phenotypeDF2.groupby('Gender').mean()"
   ]
  },
  {
   "cell_type": "markdown",
   "metadata": {},
   "source": [
    "### COMPARE MALES IN BOTH COHORTS:"
   ]
  },
  {
   "cell_type": "code",
   "execution_count": null,
   "metadata": {
    "ExecuteTime": {
     "end_time": "2018-08-21T09:05:17.148443Z",
     "start_time": "2018-08-21T09:05:11.955Z"
    }
   },
   "outputs": [],
   "source": [
    "numericalphenotypes=['Age','BMI','Creatinine','WBC','eGFR_CKD-EPI_new']\n",
    "categoricalphenotypes=['Gender', 'Smoking']\n",
    "phenotypeDF1=PNPmatchedSamples10NoneNone[PNPmatchedSamples10NoneNone['Gender']=='Male']\n",
    "sampleList1=None\n",
    "datasetName1='PNPmatchedSamples10NoneNone_Males'\n",
    "phenotypeDF2=CardiomatchedSamples10NoneNone[CardiomatchedSamples10NoneNone['Gender']=='Male']\n",
    "sampleList2=None\n",
    "datasetName2='CardiomatchedSamples10NoneNone_Males'\n",
    "\n",
    "nBins=20\n",
    "\n",
    "fig1=compare_phenotypes(numericalphenotypes,categoricalphenotypes,nBins,phenotypeDF1,sampleList1,datasetName1,\n",
    "                       phenotypeDF2,sampleList2,datasetName2)"
   ]
  },
  {
   "cell_type": "markdown",
   "metadata": {},
   "source": [
    "### COMPARE FEMALES IN BOTH COHORTS:"
   ]
  },
  {
   "cell_type": "code",
   "execution_count": null,
   "metadata": {
    "ExecuteTime": {
     "end_time": "2018-08-21T09:05:17.150295Z",
     "start_time": "2018-08-21T09:05:11.961Z"
    },
    "scrolled": true
   },
   "outputs": [],
   "source": [
    "\n",
    "\n",
    "numericalphenotypes=['Age','BMI','Creatinine','WBC','eGFR_CKD-EPI_new']\n",
    "categoricalphenotypes=['Gender', 'Smoking']\n",
    "phenotypeDF1=PNPmatchedSamples10NoneNone[PNPmatchedSamples10NoneNone['Gender']=='Female']\n",
    "sampleList1=None\n",
    "datasetName1='PNPmatchedSamples10NoneNone_Females'\n",
    "phenotypeDF2=CardiomatchedSamples10NoneNone[CardiomatchedSamples10NoneNone['Gender']=='Female']\n",
    "sampleList2=None\n",
    "datasetName2='CardiomatchedSamples10NoneNone_Females'\n",
    "\n",
    "nBins=10\n",
    "\n",
    "fig1=compare_phenotypes(numericalphenotypes,categoricalphenotypes,nBins,phenotypeDF1,sampleList1,datasetName1,\n",
    "                       phenotypeDF2,sampleList2,datasetName2)"
   ]
  },
  {
   "cell_type": "markdown",
   "metadata": {},
   "source": [
    "### generate sample lists:"
   ]
  },
  {
   "cell_type": "code",
   "execution_count": null,
   "metadata": {
    "ExecuteTime": {
     "end_time": "2018-08-21T09:05:17.152123Z",
     "start_time": "2018-08-21T09:05:11.969Z"
    }
   },
   "outputs": [],
   "source": [
    "PNP530matchedToCardioSamples5000=list(PNPmatchedSamples10NoneNone.index.astype(str))\n",
    "print len(PNP530matchedToCardioSamples5000)\n",
    "print PNP530matchedToCardioSamples5000[:5]\n",
    "\n",
    "with open('/net/mraid08/export/genie/Lab/Personal/ShaniBAF/Sample files/BD lists/PNP530matchedToCardioSamples_98_5000','wb') as fp:\n",
    "    pickle.dump(PNP530matchedToCardioSamples5000,fp)"
   ]
  },
  {
   "cell_type": "code",
   "execution_count": null,
   "metadata": {
    "ExecuteTime": {
     "end_time": "2018-08-21T09:05:17.154989Z",
     "start_time": "2018-08-21T09:05:11.974Z"
    }
   },
   "outputs": [],
   "source": [
    "Cardio126matchedToPNPSamples5000=list(CardiomatchedSamples10NoneNone.index.astype(str))\n",
    "print len(Cardio126matchedToPNPSamples5000)\n",
    "print Cardio126matchedToPNPSamples5000[:5]\n",
    "\n",
    "with open('/net/mraid08/export/genie/Lab/Personal/ShaniBAF/Sample files/BD lists/Cardio126matchedToPNPSamples_98_5000','wb') as fp:\n",
    "    pickle.dump(Cardio126matchedToPNPSamples5000,fp)"
   ]
  },
  {
   "cell_type": "markdown",
   "metadata": {},
   "source": [
    "### compare TCRfeatures in the MatchedSamples98 cohort:"
   ]
  },
  {
   "cell_type": "code",
   "execution_count": null,
   "metadata": {
    "ExecuteTime": {
     "end_time": "2018-08-21T09:05:17.157765Z",
     "start_time": "2018-08-21T09:05:11.982Z"
    }
   },
   "outputs": [],
   "source": [
    "data_folder1='TCR_real_data/PNP530_SubSampled5000data_rep1'\n",
    "data_folder2='TCR_real_data/CardioSamples/Cardio126_SubSampled5000data_rep1'\n",
    "datasetName1='PNP530_ss5000_rep1'\n",
    "datasetName2='Cardio126_ss5000_rep1'\n",
    "\n",
    "TakeSameSamples=False\n",
    "filteringList1=PNP530matchedToCardioSamples5000\n",
    "filteringList2=Cardio126matchedToPNPSamples5000\n",
    "filteringList1Name='98matched'\n",
    "filteringList2Name='98matched'\n",
    "\n",
    "\n",
    "compare_features_between_datasets(data_folder1, datasetName1,  data_folder2, datasetName2,TakeSameSamples, \n",
    "                                  filteringList1,filteringList2,filteringList1Name,filteringList2Name)"
   ]
  },
  {
   "cell_type": "code",
   "execution_count": null,
   "metadata": {
    "ExecuteTime": {
     "end_time": "2018-08-21T09:05:17.159545Z",
     "start_time": "2018-08-21T09:05:11.987Z"
    }
   },
   "outputs": [],
   "source": [
    "data_folder1='TCR_real_data/PNP530_SubSampled5000data_rep1'\n",
    "data_folder2='TCR_real_data/CardioSamples/Cardio126_SubSampled5000data_rep1'\n",
    "datasetName1='PNP530_ss5000_rep1'\n",
    "datasetName2='Cardio126_ss5000_rep1'\n",
    "\n",
    "TakeSameSamples=False\n",
    "filteringList1=PNP530matchedToCardioSamples5000\n",
    "filteringList2=Cardio126matchedToPNPSamples5000\n",
    "filteringList1Name='98matched'\n",
    "filteringList2Name='98matched'\n",
    "\n",
    "plotType='bar'\n",
    "\n",
    "plot_gene_usage_comparison(data_folder1, datasetName1,  data_folder2, datasetName2,plotType, TakeSameSamples, \n",
    "                           filteringList1,filteringList2,filteringList1Name,filteringList2Name)"
   ]
  },
  {
   "cell_type": "code",
   "execution_count": null,
   "metadata": {},
   "outputs": [],
   "source": []
  },
  {
   "cell_type": "code",
   "execution_count": null,
   "metadata": {},
   "outputs": [],
   "source": []
  },
  {
   "cell_type": "code",
   "execution_count": null,
   "metadata": {},
   "outputs": [],
   "source": []
  },
  {
   "cell_type": "code",
   "execution_count": null,
   "metadata": {},
   "outputs": [],
   "source": []
  },
  {
   "cell_type": "markdown",
   "metadata": {},
   "source": [
    "# search for cohort-specific sequences"
   ]
  },
  {
   "cell_type": "markdown",
   "metadata": {},
   "source": [
    "## use the full PNP530 and Cardio126 cohorts"
   ]
  },
  {
   "cell_type": "markdown",
   "metadata": {},
   "source": [
    "* for each cohort, get all sequences that appear in at least 4% (?) of the samples\n",
    "* count presence/absence for each cohort\n",
    "* generate contingency table and execute fisher test"
   ]
  },
  {
   "cell_type": "markdown",
   "metadata": {},
   "source": [
    "### define function:"
   ]
  },
  {
   "cell_type": "code",
   "execution_count": null,
   "metadata": {
    "ExecuteTime": {
     "end_time": "2018-08-21T09:05:17.161329Z",
     "start_time": "2018-08-21T09:05:12.008Z"
    }
   },
   "outputs": [],
   "source": [
    "the function calc_permFisher_twoCohorts was copied to CardioFunctions.py"
   ]
  },
  {
   "cell_type": "markdown",
   "metadata": {},
   "source": [
    "### get results from 99 permutation experiment"
   ]
  },
  {
   "cell_type": "code",
   "execution_count": null,
   "metadata": {
    "ExecuteTime": {
     "end_time": "2018-08-21T09:05:17.163190Z",
     "start_time": "2018-08-21T09:05:12.014Z"
    }
   },
   "outputs": [],
   "source": [
    "folderToSave='%s/TCR_real_data/CardioSamples/PNP_Cardio_seq_comparison/fisherSeqComparisonDFs' %MyPath\n",
    "filenames = [f for f in listdir(folderToSave) if isfile(join(folderToSave, f))]\n",
    "print len(filenames)\n",
    "toConcat=[f for f in filenames if 'permFisher_' in f]\n",
    "print len(toConcat)\n",
    "\n",
    "df_list=[]\n",
    "for file_name in toConcat:\n",
    "    with open('%s/%s' %(folderToSave, file_name), 'rb') as f:\n",
    "        current_df=pd.read_pickle(f)\n",
    "    f.close()\n",
    "    df_list.append(current_df)\n",
    "print ('the length of df list is %s' %len(df_list))\n",
    "\n",
    "df_all=pd.concat(df_list)"
   ]
  },
  {
   "cell_type": "code",
   "execution_count": null,
   "metadata": {
    "ExecuteTime": {
     "end_time": "2018-08-21T09:05:17.164988Z",
     "start_time": "2018-08-21T09:05:12.020Z"
    }
   },
   "outputs": [],
   "source": [
    "FisherPerms99=df_all[df_all['nPerm']==99].sort_values(by='permP')\n",
    "print len(FisherPerms99)\n",
    "print len(FisherPerms99[FisherPerms99['permP']<0.02])\n",
    "FisherPerms99.head(10)"
   ]
  },
  {
   "cell_type": "code",
   "execution_count": null,
   "metadata": {
    "ExecuteTime": {
     "end_time": "2018-08-21T09:05:17.166780Z",
     "start_time": "2018-08-21T09:05:12.026Z"
    }
   },
   "outputs": [],
   "source": [
    "nTests = len(FisherPerms99)\n",
    "FisherPerms99 = add_corrected_pValues(FisherPerms99, pValueColumn='permP', nTests=nTests, FDR=0.1)\n",
    "FisherPerms99=FisherPerms99.sort_values(by='permP')\n",
    "FisherPerms99.head(20)"
   ]
  },
  {
   "cell_type": "code",
   "execution_count": null,
   "metadata": {
    "ExecuteTime": {
     "end_time": "2018-08-21T09:05:17.168526Z",
     "start_time": "2018-08-21T09:05:12.032Z"
    }
   },
   "outputs": [],
   "source": [
    "f1='%s/TCR_real_data/CardioSamples/PNP_Cardio_seq_comparison/FisherSeqComparison_99PERMUTATIONS_PNP530_Cardio126.xlsx' %MyPath\n",
    "FisherPerms99.to_excel(f1)"
   ]
  },
  {
   "cell_type": "code",
   "execution_count": null,
   "metadata": {},
   "outputs": [],
   "source": []
  },
  {
   "cell_type": "code",
   "execution_count": null,
   "metadata": {},
   "outputs": [],
   "source": []
  },
  {
   "cell_type": "code",
   "execution_count": null,
   "metadata": {},
   "outputs": [],
   "source": []
  },
  {
   "cell_type": "code",
   "execution_count": null,
   "metadata": {},
   "outputs": [],
   "source": []
  },
  {
   "cell_type": "code",
   "execution_count": null,
   "metadata": {
    "ExecuteTime": {
     "end_time": "2018-08-21T09:05:17.170374Z",
     "start_time": "2018-08-21T09:05:12.047Z"
    }
   },
   "outputs": [],
   "source": [
    "datasetFolder1='%s/TCR_real_data' %MyPath\n",
    "datasetName1='PNP530'\n",
    "minNshared1=5\n",
    "datasetFolder2='%s/TCR_real_data/CardioSamples' %MyPath\n",
    "datasetName2='Cardio126'\n",
    "minNshared2=2\n",
    "\n",
    "\n",
    "### get relevant PNP sequences:\n",
    "f1='%s/sharingAnalysis/sharingMatrix_%s_minNshared%s_RA_onlyProductiveTrue__percShared5_OLtrimmed_binary' %(datasetFolder1,\n",
    "                                                                                          datasetName1,minNshared1)                 \n",
    "tcrDF_binary1=pd.read_pickle(f1)\n",
    "\n",
    "tcrDF_binary1['cohort']=datasetName1\n",
    "\n",
    "print 'tcrDF_binary1 shape is %s_%s' %(tcrDF_binary1.shape[0],tcrDF_binary1.shape[1])\n",
    "\n",
    "f2='%s/sharingAnalysis/sharingMatrix_%s_minNshared%s_RA_onlyProductiveTrue__percShared5_OLtrimmed_binary' %(datasetFolder2,\n",
    "                                                                                          datasetName2,minNshared2)                 \n",
    "tcrDF_binary2=pd.read_pickle(f2)\n",
    "tcrDF_binary2['cohort']=datasetName2\n",
    "\n",
    "print 'tcrDF_binary2 shape is %s_%s' %(tcrDF_binary2.shape[0],tcrDF_binary2.shape[1])\n",
    "\n",
    "twoCohortsDF=pd.concat([tcrDF_binary1,tcrDF_binary2])\n",
    "twoCohortsDF=twoCohortsDF.fillna(0)\n",
    "print twoCohortsDF.shape\n",
    "\n",
    "nPerm=99\n",
    "minSeq=0\n",
    "maxSeq=len(twoCohortsDF.columns)\n",
    "folderToSave='%s/TCR_real_data/CardioSamples/PNP_Cardio_seq_comparison/fisherSeqComparisonDFs' %MyPath\n",
    "\n",
    "df=calc_permFisher_twoCohorts(minSeq,maxSeq,twoCohortsDF,datasetName1,datasetName2,nPerm,folderToSave)\n",
    "\n",
    "# minSeq=20\n",
    "# maxSeq=minSeq+20\n",
    "# df=pd.DataFrame()\n",
    "\n",
    "# for n, seq in enumerate(twoCohortsDF.columns.values[minSeq:maxSeq]):\n",
    "#     print minSeq+n\n",
    "#     df=calc_permFisher_twoCohorts(seq,twoCohortsDF,datasetName1,datasetName2,nPerm)\n",
    "# print 'done'   "
   ]
  },
  {
   "cell_type": "code",
   "execution_count": null,
   "metadata": {
    "ExecuteTime": {
     "end_time": "2018-08-21T09:05:17.172081Z",
     "start_time": "2018-08-21T09:05:12.053Z"
    }
   },
   "outputs": [],
   "source": [
    "df.sort_values(by='permP')"
   ]
  },
  {
   "cell_type": "code",
   "execution_count": null,
   "metadata": {
    "ExecuteTime": {
     "end_time": "2018-08-21T09:05:17.173839Z",
     "start_time": "2018-08-21T09:05:12.058Z"
    }
   },
   "outputs": [],
   "source": [
    "nTests = len(df)\n",
    "df = add_corrected_pValues(df, pValueColumn='permP', nTests=nTests, FDR=0.1)\n",
    "df.sort_values(by='permP')"
   ]
  },
  {
   "cell_type": "code",
   "execution_count": null,
   "metadata": {
    "ExecuteTime": {
     "end_time": "2018-08-21T09:05:17.175639Z",
     "start_time": "2018-08-21T09:05:12.064Z"
    }
   },
   "outputs": [],
   "source": [
    "f1='%s/TCR_real_data/CardioSamples/PNP_Cardio_seq_comparison/FisherSeqComparison_PNP530_cARDIO126.xlsx' %MyPath\n",
    "merged.to_excel(f1)"
   ]
  },
  {
   "cell_type": "markdown",
   "metadata": {},
   "source": [
    "# PCA on shared TCR sequences using the matched cohorts:"
   ]
  },
  {
   "cell_type": "markdown",
   "metadata": {},
   "source": [
    "## generate a folder with all ss9000 from matched cohort samples"
   ]
  },
  {
   "cell_type": "code",
   "execution_count": null,
   "metadata": {
    "ExecuteTime": {
     "end_time": "2018-08-21T09:05:17.177394Z",
     "start_time": "2018-08-21T09:05:12.072Z"
    }
   },
   "outputs": [],
   "source": [
    "# open PNP and cardio matched sample lists:\n",
    "with open('/net/mraid08/export/genie/Lab/Personal/ShaniBAF/Sample files/BD lists/PNP530matchedToCardioSamples','rb') as fp:\n",
    "    PNP530matchedToCardioSamples=pickle.load(fp)\n",
    "\n",
    "with open('/net/mraid08/export/genie/Lab/Personal/ShaniBAF/Sample files/BD lists/Cardio126matchedToPNPSamples','rb') as fp:\n",
    "    Cardio126matchedToPNPSamples=pickle.load(fp)"
   ]
  },
  {
   "cell_type": "markdown",
   "metadata": {},
   "source": [
    "### copy matched sample files from PNP530ss9000 folder"
   ]
  },
  {
   "cell_type": "code",
   "execution_count": null,
   "metadata": {
    "ExecuteTime": {
     "end_time": "2018-08-21T09:05:17.179230Z",
     "start_time": "2018-08-21T09:05:12.082Z"
    }
   },
   "outputs": [],
   "source": [
    "matched_ss9000_samples_folder='%s/TCR_real_data/PNP530Cardio126Combined/MatchedSamples/SamplesForAnalysis_corrected'  %MyPath\n",
    "if not isdir(matched_ss9000_samples_folder):\n",
    "    makedirs(matched_ss9000_samples_folder)"
   ]
  },
  {
   "cell_type": "code",
   "execution_count": null,
   "metadata": {
    "ExecuteTime": {
     "end_time": "2018-08-21T09:05:17.180913Z",
     "start_time": "2018-08-21T09:05:12.087Z"
    }
   },
   "outputs": [],
   "source": [
    "PNP530ss9000folder='%s/TCR_real_data/PNP530_SubSampled9000data_rep1/SamplesForAnalysis_corrected' %MyPath\n",
    "PNP530ss9000files=[f for f in listdir(PNP530ss9000folder) if isfile(join(PNP530ss9000folder,f))]\n",
    "print len(PNP530ss9000files)"
   ]
  },
  {
   "cell_type": "code",
   "execution_count": null,
   "metadata": {
    "ExecuteTime": {
     "end_time": "2018-08-21T09:05:17.182692Z",
     "start_time": "2018-08-21T09:05:12.093Z"
    }
   },
   "outputs": [],
   "source": [
    "print PNP530ss9000files[:5]"
   ]
  },
  {
   "cell_type": "code",
   "execution_count": null,
   "metadata": {
    "ExecuteTime": {
     "end_time": "2018-08-21T09:05:17.184461Z",
     "start_time": "2018-08-21T09:05:12.099Z"
    }
   },
   "outputs": [],
   "source": [
    "print  PNP530matchedToCardioSamples[:5]"
   ]
  },
  {
   "cell_type": "code",
   "execution_count": null,
   "metadata": {
    "ExecuteTime": {
     "end_time": "2018-08-21T09:05:17.186211Z",
     "start_time": "2018-08-21T09:05:12.105Z"
    }
   },
   "outputs": [],
   "source": [
    "from shutil import copyfile\n",
    "\n",
    "for f in PNP530ss9000files:\n",
    "        f1=f.replace('b','')\n",
    "        f1=f1.replace('a','')\n",
    "        f1=f1.split('_')[0]\n",
    "#         print f1\n",
    "\n",
    "        if f1 in PNP530matchedToCardioSamples:\n",
    "            src='%s/%s' %(PNP530ss9000folder,f)\n",
    "            dst='%s/%s' %(matched_ss9000_samples_folder,f)\n",
    "            copyfile(src, dst)\n",
    "        else:\n",
    "            print 'file %s is not in the matched samples list' %f\n",
    "            "
   ]
  },
  {
   "cell_type": "markdown",
   "metadata": {},
   "source": [
    "### copy matched sample files from Cardio126ss9000 folder"
   ]
  },
  {
   "cell_type": "code",
   "execution_count": null,
   "metadata": {
    "ExecuteTime": {
     "end_time": "2018-08-21T09:05:17.188036Z",
     "start_time": "2018-08-21T09:05:12.112Z"
    }
   },
   "outputs": [],
   "source": [
    "matched_ss9000_samples_folder='%s/TCR_real_data/PNP530Cardio126Combined/MatchedSamples/SamplesForAnalysis_corrected'  %MyPath\n",
    "if not isdir(matched_ss9000_samples_folder):\n",
    "    makedirs(matched_ss9000_samples_folder)"
   ]
  },
  {
   "cell_type": "code",
   "execution_count": null,
   "metadata": {
    "ExecuteTime": {
     "end_time": "2018-08-21T09:05:17.189854Z",
     "start_time": "2018-08-21T09:05:12.118Z"
    }
   },
   "outputs": [],
   "source": [
    "Cardio126ss9000folder='%s/TCR_real_data/CardioSamples/Cardio126_SubSampled9000data_rep1/SamplesForAnalysis_corrected' %MyPath\n",
    "Cardio126ss9000files=[f for f in listdir(Cardio126ss9000folder) if isfile(join(Cardio126ss9000folder,f))]\n",
    "print len(Cardio126ss9000files)"
   ]
  },
  {
   "cell_type": "code",
   "execution_count": null,
   "metadata": {
    "ExecuteTime": {
     "end_time": "2018-08-21T09:05:17.191745Z",
     "start_time": "2018-08-21T09:05:12.124Z"
    }
   },
   "outputs": [],
   "source": [
    "print Cardio126ss9000files[:5]"
   ]
  },
  {
   "cell_type": "code",
   "execution_count": null,
   "metadata": {
    "ExecuteTime": {
     "end_time": "2018-08-21T09:05:17.193557Z",
     "start_time": "2018-08-21T09:05:12.130Z"
    }
   },
   "outputs": [],
   "source": [
    "print  Cardio126matchedToPNPSamples[:5]"
   ]
  },
  {
   "cell_type": "code",
   "execution_count": null,
   "metadata": {
    "ExecuteTime": {
     "end_time": "2018-08-21T09:05:17.195307Z",
     "start_time": "2018-08-21T09:05:12.136Z"
    }
   },
   "outputs": [],
   "source": [
    "from shutil import copyfile\n",
    "\n",
    "for f in Cardio126ss9000files:\n",
    "        f1=f.replace('b','')\n",
    "        f1=f1.replace('a','')\n",
    "        f1=f1.split('_')[0]\n",
    "#         print f1\n",
    "\n",
    "        if f1 in Cardio126matchedToPNPSamples:\n",
    "            src='%s/%s' %(Cardio126ss9000folder,f)\n",
    "            dst='%s/%s' %(matched_ss9000_samples_folder,f)\n",
    "            copyfile(src, dst)\n",
    "        else:\n",
    "            print 'file %s is not in the matched samples list' %f\n",
    "            "
   ]
  },
  {
   "cell_type": "markdown",
   "metadata": {},
   "source": [
    "## generate shared TCR matrix for this samples"
   ]
  },
  {
   "cell_type": "code",
   "execution_count": null,
   "metadata": {
    "ExecuteTime": {
     "end_time": "2018-08-21T09:05:17.197074Z",
     "start_time": "2018-08-21T09:05:12.142Z"
    }
   },
   "outputs": [],
   "source": [
    "## get all sequnces that are shared among two samples or more:\n",
    "\n",
    "\n",
    "\n",
    "# parameters to change:\n",
    "#general parameters:\n",
    "DFtype='TCR'\n",
    "genDF=False #False=generate new df\n",
    "toBinary=True\n",
    "\n",
    "#basic prameters for generating df:\n",
    "mbLevel='g'\n",
    "useShortName=True\n",
    "\n",
    "datasetFolder='%s/TCR_real_data/PNP530Cardio126Combined/MatchedSamples' %MyPath\n",
    "datasetName='PNP530Cardio126MatchedSamples'\n",
    "\n",
    "#parameters for manipulations on df \n",
    "minVal=None    #minVal can be None,0, float, or 'dfMinVal' or dfMinVal2:\n",
    "minSharedT=2 #minimal number of samples shared by seq/species required to leave sample in the database (int or None)\n",
    "percShared=None #minimal number of samples shared by seq/species required to leave sample in the database (int [ percentage]\n",
    "                #or None)\n",
    "removeOutliers=False\n",
    "normData=True\n",
    "logTransform=True\n",
    "\n",
    "\n",
    "\n",
    "\n",
    "#constant parameters:\n",
    "extractUniqueAA=True # use True when this is the first time to analyze this dataset, otherwise, use False\n",
    "minNshared=2\n",
    "onlyProductive=True\n",
    "\n",
    "mbDataFolder='AllSeqProjects'\n",
    "\n",
    "\n",
    "with open('/net/mraid08/export/genie/Lab/Personal/ShaniBAF/Sample files/BD lists/PNP530matchedToCardioSamples','rb') as fp:\n",
    "    PNP530matchedToCardioSamples=pickle.load(fp)\n",
    "with open('/net/mraid08/export/genie/Lab/Personal/ShaniBAF/Sample files/BD lists/Cardio126matchedToPNPSamples','rb') as fp:\n",
    "    Cardio126matchedToPNPSamples=pickle.load(fp)\n",
    "    \n",
    "PNP530Cardio126listMatched=PNP530matchedToCardioSamples+Cardio126matchedToPNPSamples\n",
    "SampleList=PNP530Cardio126listMatched\n",
    "SampleListName='PNP530Cardio126listMatched'\n",
    "libPrepMethod=None\n",
    "filterGenotek=True\n",
    "filterMinimalReads=9000000\n",
    "filterlibPrepMethod=libPrepMethod\n",
    "groupFunction='noOutlierMean'\n",
    "nSTD=5\n",
    "nMinSamples=3\n",
    "ignoreNotSameYear=True\n",
    "removeSamePerson=False\n",
    "\n",
    "\n",
    "df=genTCRorMBdfWithManipulations(DFtype,genDF,toBinary,removeOutliers,normData,logTransform,\n",
    "                                 minVal,minSharedT,percShared,\n",
    "                                 mbLevel,useShortName,datasetFolder,datasetName,extractUniqueAA,\n",
    "                                minNshared,onlyProductive,mbDataFolder,SampleList,\n",
    "                                  SampleListName,filterlibPrepMethod,filterGenotek, \n",
    "                                  groupFunction, nSTD, nMinSamples, ignoreNotSameYear, removeSamePerson)"
   ]
  },
  {
   "cell_type": "code",
   "execution_count": null,
   "metadata": {
    "ExecuteTime": {
     "end_time": "2018-08-21T09:05:17.198915Z",
     "start_time": "2018-08-21T09:05:12.148Z"
    }
   },
   "outputs": [],
   "source": [
    "## get all sequnces that are shared among 5% of the samples or more:\n",
    "\n",
    "\n",
    "DFtype='TCR'\n",
    "genDF=False #False=generate new df\n",
    "toBinary=True\n",
    "minSharedT=None #minimal number of samples shared by seq/species required to leave sample in the database (int or None)\n",
    "percShared=10 \n",
    "removeOutliers=False\n",
    "normData=True\n",
    "logTransform=True\n",
    "\n",
    "\n",
    "df=genTCRorMBdfWithManipulations(DFtype,genDF,toBinary,removeOutliers,normData,logTransform,\n",
    "                                 minVal,minSharedT,percShared,\n",
    "                                 mbLevel,useShortName,datasetFolder,datasetName,extractUniqueAA,\n",
    "                                minNshared,onlyProductive,mbDataFolder,SampleList,\n",
    "                                  SampleListName,filterlibPrepMethod,filterGenotek, \n",
    "                                  groupFunction, nSTD, nMinSamples, ignoreNotSameYear, removeSamePerson)"
   ]
  },
  {
   "cell_type": "markdown",
   "metadata": {},
   "source": [
    "## calculate PCA"
   ]
  },
  {
   "cell_type": "code",
   "execution_count": null,
   "metadata": {
    "ExecuteTime": {
     "end_time": "2018-08-21T09:05:17.200599Z",
     "start_time": "2018-08-21T09:05:12.155Z"
    }
   },
   "outputs": [],
   "source": [
    "the function PCAfunc was copied to Feature_phenotype_functions.py"
   ]
  },
  {
   "cell_type": "code",
   "execution_count": null,
   "metadata": {
    "ExecuteTime": {
     "end_time": "2018-08-21T09:05:17.202387Z",
     "start_time": "2018-08-21T09:05:12.162Z"
    }
   },
   "outputs": [],
   "source": [
    "def PCAfunc(TCRdf,n_comp,isSparse):\n",
    "    from sklearn.decomposition import PCA\n",
    "    from sklearn.decomposition import TruncatedSVD\n",
    "    print 'TCRdf shape is %s_%s' %(TCRdf.shape[0],TCRdf.shape[1])\n",
    "    if isSparse:\n",
    "        pca= TruncatedSVD(n_comp, random_state=42)\n",
    "    else:\n",
    "        pca = PCA(n_comp)\n",
    "    pca.fit(TCRdf.T)\n",
    "    print 'PCA explained variance:'\n",
    "    print pca.explained_variance_[:10]\n",
    "    expVar=(pca.explained_variance_)[:10]\n",
    "    print expVar\n",
    "    PCAdf=pd.DataFrame(pca.components_).T\n",
    "    PCAdf.index=TCRdf.index\n",
    "    \n",
    "    for column in PCAdf.columns:\n",
    "        PCAdf=PCAdf.rename(columns={column:'PC'+str(column+1)})\n",
    "    PCAdf['BDindex']=PCAdf.index.str.replace('BD','').astype(int)\n",
    "    PCAdf['isCardio']=np.where(PCAdf['BDindex']>949,1,0)\n",
    "    for column in PCAdf.columns:\n",
    "        if 'PC' in column:\n",
    "            data={}\n",
    "            for name, group in PCAdf.groupby('isCardio'):\n",
    "                data[name] =  list(group[column])\n",
    "            s_t, p_t = stats.ttest_ind(data[0], data[1])\n",
    "            s_k, p_k = stats.ks_2samp(data[0], data[1])\n",
    "            print 'p_value ttest for %s is %s' %(column, round(p_t,6))\n",
    "            print 'p_value kstest for %s is %s' %(column, round(p_k,6))\n",
    "    print PCAdf.head()\n",
    "          \n",
    "    plt.scatter(PCAdf.PC1,PCAdf.PC2,s=100,alpha=0.3)\n",
    "    for n,ind in enumerate(PCAdf.index):\n",
    "        BDind=int(ind.replace('BD',''))\n",
    "        if BDind>949:\n",
    "            xpoint = PCAdf.loc[ind,'PC1']\n",
    "            ypoint = PCAdf.loc[ind,'PC2']\n",
    "            plt.scatter(xpoint,ypoint, color='red',s=100,alpha=0.3)\n",
    "#             plt.annotate(ind,xy=(xpoint,ypoint),xytext=(xpoint*1.05,ypoint*1.05),fontsize=8)\n",
    "    plt.show()\n",
    "    \n",
    "    return PCAdf\n",
    "\n"
   ]
  },
  {
   "cell_type": "code",
   "execution_count": null,
   "metadata": {
    "ExecuteTime": {
     "end_time": "2018-08-21T09:05:17.204168Z",
     "start_time": "2018-08-21T09:05:12.168Z"
    }
   },
   "outputs": [],
   "source": [
    "datasetFolder='%s/TCR_real_data/PNP530Cardio126Combined/MatchedSamples' %MyPath\n",
    "datasetName='PNP530Cardio126MatchedSamples'\n",
    "\n",
    "binaryNamelist=['','_binary']\n",
    "sharingDefList=['minSharedT2_','percShared5_','percShared10_']\n",
    "OLtrimmedList=['','OLtrimmed']\n",
    "isSparseList=[True,False]\n",
    "            \n",
    "count=0\n",
    "df=pd.DataFrame()\n",
    "for binaryName in binaryNamelist:\n",
    "    for sharingDef in sharingDefList:\n",
    "        for OLtrimmed in OLtrimmedList:\n",
    "            for isSparse in isSparseList:\n",
    "                TCRdfName='sharingMatrix_PNP530Cardio126MatchedSamples_minNshared2_RA_onlyProductiveTrue__%s%s%s' %(sharingDef,\n",
    "                                                                                               OLtrimmed,binaryName)\n",
    "                print count, TCRdfName, isSparse\n",
    "                f1='%s/sharingAnalysis/%s' %(datasetFolder, TCRdfName)\n",
    "                TCRdf=pd.read_pickle(f1)\n",
    "              \n",
    "\n",
    "                n_comp=5\n",
    "                PC1,PC2=PCAfunc(TCRdf,n_comp,isSparse)\n",
    "\n",
    "                df.loc[count,'TCRdfName']=TCRdfName\n",
    "                df.loc[count,'isSparse']=isSparse\n",
    "                df.loc[count,'PC1']=PC1\n",
    "                df.loc[count,'PC2']=PC2\n",
    "\n",
    "                count=count+1\n",
    "            \n"
   ]
  },
  {
   "cell_type": "code",
   "execution_count": null,
   "metadata": {
    "ExecuteTime": {
     "end_time": "2018-08-21T09:05:17.205909Z",
     "start_time": "2018-08-21T09:05:12.174Z"
    }
   },
   "outputs": [],
   "source": [
    "df.sort_values(by='PC1',ascending=False)"
   ]
  },
  {
   "cell_type": "code",
   "execution_count": null,
   "metadata": {
    "ExecuteTime": {
     "end_time": "2018-08-21T09:05:17.207682Z",
     "start_time": "2018-08-21T09:05:12.180Z"
    }
   },
   "outputs": [],
   "source": [
    "f1='%s/PCA/PCAtrialsummary.xlsx' %datasetFolder\n",
    "df.to_excel(f1)"
   ]
  },
  {
   "cell_type": "code",
   "execution_count": null,
   "metadata": {
    "ExecuteTime": {
     "end_time": "2018-08-21T09:05:17.209426Z",
     "start_time": "2018-08-21T09:05:12.186Z"
    }
   },
   "outputs": [],
   "source": [
    "datasetFolder='%s/TCR_real_data/PNP530Cardio126Combined/MatchedSamples' %MyPath\n",
    "datasetName='PNP530Cardio126MatchedSamples'\n",
    "\n",
    "binaryName='_binary'\n",
    "sharingDef='percShared10_'\n",
    "OLtrimmed=''\n",
    "isSparse=False\n",
    "\n",
    "TCRdfName='sharingMatrix_PNP530Cardio126MatchedSamples_minNshared2_RA_onlyProductiveTrue__%s%s%s' %(sharingDef,\n",
    "                                                                               OLtrimmed,binaryName)\n",
    "print count, TCRdfName, isSparse\n",
    "f1='%s/sharingAnalysis/%s' %(datasetFolder, TCRdfName)\n",
    "TCRdf=pd.read_pickle(f1)\n",
    "\n",
    "n_comp=5\n",
    "PC1,PC2=PCAfunc(TCRdf,n_comp,isSparse)"
   ]
  },
  {
   "cell_type": "code",
   "execution_count": null,
   "metadata": {},
   "outputs": [],
   "source": []
  },
  {
   "cell_type": "code",
   "execution_count": null,
   "metadata": {},
   "outputs": [],
   "source": []
  },
  {
   "cell_type": "code",
   "execution_count": null,
   "metadata": {},
   "outputs": [],
   "source": []
  },
  {
   "cell_type": "code",
   "execution_count": null,
   "metadata": {},
   "outputs": [],
   "source": []
  },
  {
   "cell_type": "markdown",
   "metadata": {},
   "source": [
    "## plot PC1 and PC2 and color by disease state"
   ]
  },
  {
   "cell_type": "markdown",
   "metadata": {},
   "source": [
    "## calculate permanova for samples distances between and within disease state categories"
   ]
  },
  {
   "cell_type": "markdown",
   "metadata": {},
   "source": [
    "# compare PNP530 and Cardio126 phenotypes and save"
   ]
  },
  {
   "cell_type": "code",
   "execution_count": 10,
   "metadata": {
    "ExecuteTime": {
     "end_time": "2018-10-14T17:27:48.725569Z",
     "start_time": "2018-10-14T17:27:45.018694Z"
    }
   },
   "outputs": [
    {
     "name": "stdout",
     "output_type": "stream",
     "text": [
      "0 Age\n",
      "1 eGFR by CKD-EPI\n",
      "0 Gender\n",
      "1 Smoking Status\n"
     ]
    },
    {
     "data": {
      "image/png": "[encoded data removed]",
      "text/plain": [
       "<matplotlib.figure.Figure at 0x7f9346b2e6d0>"
      ]
     },
     "metadata": {},
     "output_type": "display_data"
    },
    {
     "name": "stdout",
     "output_type": "stream",
     "text": [
      "figure was saved in folder TCR_real_data/realAnalysis\n",
      "done\n"
     ]
    }
   ],
   "source": [
    "numericalphenotypes=['Age','eGFR by CKD-EPI']\n",
    "categoricalphenotypes=['Gender', 'Smoking Status']\n",
    "\n",
    "f1='%s/TCR_real_data/NewPhenotypicData/newPhenotypesPNPAllInfo_withDummies.xlsx' %MyPath\n",
    "PNP530_phen_new_dummies=pd.read_excel(f1)\n",
    "phenotypeDF1=PNP530_phen_new_dummies.set_index('BD')\n",
    "\n",
    "f2='%s/TCR_real_data/CardioSamples/phenotypicData/Cardio126phenAllInfo_withDummies.xlsx' %MyPath\n",
    "Cardio126_phen_new_dummies=pd.read_excel(f2)\n",
    "phenotypeDF2=Cardio126_phen_new_dummies.set_index('BD')\n",
    "sampleList1=None\n",
    "sampleList2=None\n",
    "sampleListName1=None\n",
    "sampleListName2=None\n",
    "\n",
    "datasetName1='PNP530'\n",
    "datasetName2='Cardio126'\n",
    "nBins=20\n",
    "\n",
    "fig1=compare_phenotypes(numericalphenotypes,categoricalphenotypes,nBins,phenotypeDF1,sampleList1,sampleListName1,datasetName1,\n",
    "                       phenotypeDF2,sampleList2,sampleListName2,datasetName2)\n",
    "\n",
    "folderToSave='%s/TCR_real_data/NewPhenotypicData/phenotypeComparisons' %MyPath\n",
    "phenotypes=''.join(numericalphenotypes+categoricalphenotypes)\n",
    "if not isdir(folderToSave):\n",
    "    makedirs(folderToSave)\n",
    "fig1.savefig('%s/%s_%s_%s' %(folderToSave,phenotypes,datasetName1,datasetName2),dpi=300)"
   ]
  },
  {
   "cell_type": "markdown",
   "metadata": {},
   "source": [
    "# compare public sequence identities between the full cohorts:"
   ]
  },
  {
   "cell_type": "markdown",
   "metadata": {},
   "source": [
    "function comparePublicSeqIdentities and its helper function addSeqIdentitiesAndPlotPie were copied to publicSeqAnalysis.py"
   ]
  },
  {
   "cell_type": "markdown",
   "metadata": {},
   "source": [
    "## new run - 190918 - with popped files"
   ]
  },
  {
   "cell_type": "code",
   "execution_count": 4,
   "metadata": {
    "ExecuteTime": {
     "end_time": "2018-09-25T12:33:10.721155Z",
     "start_time": "2018-09-25T12:30:57.405162Z"
    }
   },
   "outputs": [
    {
     "name": "stdout",
     "output_type": "stream",
     "text": [
      "step 1: collecting public sequence rates per sample in each dataset...\n",
      "0\n",
      "dataset Name=PNP530\n",
      "dataset file=/net/mraid08/export/genie/Lab/Personal/ShaniBAF/TCR_real_data\n",
      "dataset sampleList=None\n",
      "TCRdf percent shared is 5\n",
      "removing samples that have relatives in PNP530\n",
      "n samples before removal=530\n",
      "n samples after removal=434\n",
      "step 2: generating merged public DF...\n",
      "sharing analysis folder is called *sharing analysis*\n",
      "555801\n",
      "step 1: collecting public sequence rates per sample in each dataset...\n",
      "1\n",
      "dataset Name=Cardio126\n",
      "dataset file=/net/mraid08/export/genie/Lab/Personal/ShaniBAF/TCR_real_data/CardioSamples\n",
      "dataset sampleList=None\n",
      "TCRdf percent shared is 5\n",
      "removing samples that have relatives in PNP530\n",
      "n samples before removal=126\n",
      "n samples after removal=126\n",
      "step 2: generating merged public DF...\n",
      "sharing analysis folder is called *sharing analysis*\n",
      "63118\n",
      "merged public list length length=570462\n",
      "step 3: plotting public rates per samples for all datasets...\n"
     ]
    },
    {
     "data": {
      "image/png": "[encoded data removed]",
      "text/plain": [
       "<matplotlib.figure.Figure at 0x7f932f5b5d90>"
      ]
     },
     "metadata": {},
     "output_type": "display_data"
    },
    {
     "name": "stdout",
     "output_type": "stream",
     "text": [
      "step 4: find  sequences that are public in all datasets, add identities and plot pie diagram...\n",
      "number of sequence shared by 2 or more samples in publicAll: 48457 (8.49434318149 perc)\n",
      "thresholdToOther is 0.04, total counts=48635, final threshold for chi square is 1945.4\n",
      "step 5: find sequences that are public only in one dataset, add identities, save files and plot pie diagram...\n",
      "number of sequence shared by 2 or more samples in publicOnlyInPNP530: 507344 (88.935634626 perc)\n",
      "thresholdToOther is 0.04, total counts=507406, final threshold for chi square is 20296.24\n",
      "calculating chi square test comparing publicOnlyInPNP530 to public sequence common to all datasets\n",
      "        combined annotation_list_clean_x  combined annotation_list_clean_y\n",
      "count2                                                                    \n",
      "Other                               1941                              2716\n",
      "nan                                46694                            504690\n",
      "number of sequence shared by 2 or more samples in publicOnlyInCardio126: 14661 (2.57002219254 perc)\n",
      "thresholdToOther is 0.04, total counts=14662, final threshold for chi square is 586.48\n",
      "calculating chi square test comparing publicOnlyInCardio126 to public sequence common to all datasets\n",
      "        combined annotation_list_clean_x  combined annotation_list_clean_y\n",
      "count2                                                                    \n",
      "Other                               1941                                45\n",
      "nan                                46694                             14617\n",
      "step 6: finish pie diagram figure and chi_df generation...\n"
     ]
    },
    {
     "data": {
      "image/png": "[encoded data removed]",
      "text/plain": [
       "<matplotlib.figure.Figure at 0x7f934801a210>"
      ]
     },
     "metadata": {},
     "output_type": "display_data"
    },
    {
     "name": "stdout",
     "output_type": "stream",
     "text": [
      "step 7: plotting venn diagrams...\n",
      "plotting venn diagram for two groups:\n"
     ]
    },
    {
     "data": {
      "image/png": "[encoded data removed]",
      "text/plain": [
       "<matplotlib.figure.Figure at 0x7f93476bc910>"
      ]
     },
     "metadata": {},
     "output_type": "display_data"
    },
    {
     "name": "stdout",
     "output_type": "stream",
     "text": [
      "end of function!!\n"
     ]
    }
   ],
   "source": [
    "plt.show()\n",
    "datasetName1='PNP530'\n",
    "datasetName2='Cardio126'\n",
    "datasetFolder1='%s/TCR_real_data' %MyPath\n",
    "datasetFolder2='%s/TCR_real_data/CardioSamples' %MyPath\n",
    "TCRdfPercShared1=5\n",
    "TCRdfPercShared2=5\n",
    "identityColumnForPie='combined annotation_list_clean'\n",
    "dropnaFromIdentitiesPie=False\n",
    "\n",
    "identityFile='%s/TCR CDR3 sequence databases/combined annotation_list_clean_popped.xlsx' %MyPath\n",
    "identityDF=pd.read_excel(identityFile)\n",
    "identityDFname='popped'\n",
    "thresholdToOther=0.04\n",
    "nSharedMin=2\n",
    "RemoveSamplesWithRelative=True\n",
    "\n",
    "\n",
    "datasetList=[(datasetName1, datasetFolder1,TCRdfPercShared1,None),(datasetName2, datasetFolder2,TCRdfPercShared2,None)]\n",
    "\n",
    "comparePublicSeqIdentities(datasetList,identityColumnForPie,identityDF=identityDF,identityDFname=identityDFname,\n",
    "               thresholdToOther=thresholdToOther,nSharedMin=nSharedMin,dropnaFromIdentitiesPie=dropnaFromIdentitiesPie,RemoveSamplesWithRelative=RemoveSamplesWithRelative)"
   ]
  },
  {
   "cell_type": "code",
   "execution_count": null,
   "metadata": {
    "ExecuteTime": {
     "end_time": "2018-09-20T06:38:30.775114Z",
     "start_time": "2018-09-20T06:38:30.628376Z"
    }
   },
   "outputs": [],
   "source": [
    "#### fig = plt.figure(1, figsize=(6,6))\n",
    "ax = fig.add_axes([0.1, 0.1, 0.8, 0.8])\n",
    "plt.title('Raining Hogs and Dogs')\n",
    "\n",
    "labels = 'Frogs', 'Hogs', 'Dogs', 'Logs'\n",
    "fracs = [15,30,45, 10]\n",
    "\n",
    "patches, texts, autotexts = ax.pie(fracs, labels=labels, autopct='%1.1f%%')\n",
    "# for a in autotexts:\n",
    "#         a.set_size('xx-large')\n",
    "for t in texts:\n",
    "    t.set_size('xx-large')\n",
    "plt.show()"
   ]
  },
  {
   "cell_type": "code",
   "execution_count": null,
   "metadata": {
    "ExecuteTime": {
     "end_time": "2018-09-19T21:21:41.143451Z",
     "start_time": "2018-09-19T21:21:29.705490Z"
    }
   },
   "outputs": [],
   "source": [
    "plt.show()\n",
    "datasetName1='PNP530'\n",
    "datasetName2='Cardio126'\n",
    "datasetFolder1='%s/TCR_real_data' %MyPath\n",
    "datasetFolder2='%s/TCR_real_data/CardioSamples' %MyPath\n",
    "TCRdfPercShared1=5\n",
    "TCRdfPercShared2=5\n",
    "identityColumnForPie='Epitopespecies_VDJDB'\n",
    "dropnaFromIdentitiesPie=True\n",
    "\n",
    "\n",
    "\n",
    "datasetList=[(datasetName1, datasetFolder1,TCRdfPercShared1,None),(datasetName2, datasetFolder2,TCRdfPercShared2,None)]\n",
    "\n",
    "\n",
    "comparePublicSeqIdentities(datasetList,identityColumnForPie)"
   ]
  },
  {
   "cell_type": "code",
   "execution_count": null,
   "metadata": {
    "ExecuteTime": {
     "end_time": "2018-08-21T09:05:17.216526Z",
     "start_time": "2018-08-21T09:05:12.228Z"
    }
   },
   "outputs": [],
   "source": [
    "d1={'a':1,'b':2}\n",
    "for k,v in d1.items():\n",
    "    print k,v"
   ]
  },
  {
   "cell_type": "markdown",
   "metadata": {},
   "source": [
    "# predictions in the full cohort:"
   ]
  },
  {
   "cell_type": "markdown",
   "metadata": {},
   "source": [
    "### Generate TCRfeatureDF without completely correlated columns:"
   ]
  },
  {
   "cell_type": "code",
   "execution_count": null,
   "metadata": {
    "ExecuteTime": {
     "end_time": "2018-08-21T16:45:34.221765Z",
     "start_time": "2018-08-21T16:24:00.692837Z"
    }
   },
   "outputs": [],
   "source": [
    "filterFeaturesByCorr=1\n",
    "\n",
    "ss=None\n",
    "repeat=None\n",
    "genFeatureDF=True\n",
    "with open('/net/mraid08/export/genie/Lab/Personal/ShaniBAF/Sample files/BD lists/PNP530','rb') as fp:\n",
    "    PNP530=pickle.load(fp)\n",
    "with open('/net/mraid08/export/genie/Lab/Personal/ShaniBAF/Sample files/BD lists/Cardio126','rb') as fp:\n",
    "    Cardio126=pickle.load(fp)\n",
    "sampleList=PNP530+Cardio126\n",
    "sampleListName='PNP530Cardio126'\n",
    "print len(sampleList)\n",
    "\n",
    "\n",
    "TCRfeatureDF3=removeRedundantFeatures(ss,repeat,filterFeaturesByCorr,sampleList,sampleListName,genFeatureDF)\n",
    " "
   ]
  },
  {
   "cell_type": "markdown",
   "metadata": {},
   "source": [
    "### get DFs:"
   ]
  },
  {
   "cell_type": "code",
   "execution_count": null,
   "metadata": {
    "ExecuteTime": {
     "end_time": "2018-08-25T18:49:56.062594Z",
     "start_time": "2018-08-25T18:49:54.367804Z"
    }
   },
   "outputs": [],
   "source": [
    "with open('/net/mraid08/export/genie/Lab/Personal/ShaniBAF/Sample files/BD lists/PNP530','rb') as fp:\n",
    "    PNP530=pickle.load(fp)\n",
    "with open('/net/mraid08/export/genie/Lab/Personal/ShaniBAF/Sample files/BD lists/Cardio126','rb') as fp:\n",
    "    Cardio126=pickle.load(fp)\n",
    "sampleList=PNP530+Cardio126\n",
    "sampleListName='PNP530Cardio126'\n",
    "percShared=10\n",
    "\n",
    "# phenotype df:\n",
    "PNPphenotypeFile='%s/TCR_real_data/NewPhenotypicData/PNP530_phen_new_dummies.xlsx' %MyPath\n",
    "PNPphenotypeDF=pd.read_excel(PNPphenotypeFile)\n",
    "\n",
    "CardiophenotypeFile='%s/TCR_real_data/CardioSamples/phenotypicData/Cardio126_phen_new_dummies_extended.xlsx' %MyPath\n",
    "CardiophenotypeDF=pd.read_excel(CardiophenotypeFile)\n",
    "\n",
    "PNP530Cardio126PhenotypeFile='%s/TCR_real_data/PNP530Cardio126Combined/Phenotypes/PNP530Cardio126_phen_new_withDummies.xlsx' %MyPath\n",
    "combinedPhenotypeDF=pd.concat([PNPphenotypeDF,CardiophenotypeDF])\n",
    "combinedPhenotypeDF=combinedPhenotypeDF.set_index('BD')\n",
    "print len(combinedPhenotypeDF)\n",
    "print combinedPhenotypeDF.iloc[:4,:4]\n",
    "combinedPhenotypeDF.to_excel(PNP530Cardio126PhenotypeFile)\n",
    "\n",
    "#TCRdf:\n",
    "print 'getting TCRdf...'\n",
    "\n",
    "sharingFolder='%s/TCR_real_data/PNP530Cardio126Combined/sharingAnalysis' %MyPath\n",
    "TCRdfName='sharingMatrix_PNP530Cardio126_minNshared5_RA_onlyProductiveTrue__percShared%s_OLtrimmed_binary' %percShared\n",
    "TCRdfFile='%s/%s' %(sharingFolder,TCRdfName )\n",
    "print TCRdfFile\n",
    "TCRdf=pd.read_pickle(TCRdfFile)\n",
    "print 'TCRdf shape is %s_%s' %(TCRdf.shape[0],TCRdf.shape[1])\n",
    "print TCRdf.iloc[:4,:4]\n",
    "\n",
    "#Features\n",
    "print 'getting TCRfeatureDF - without highly correlated columns...'\n",
    "featureFilePickle2='%s/TCR_real_data/PNP530Cardio126Combined/featureSummaryDFs/PNP530Cardio126_filteredByPNP530Cardio126_allFeatures_\\\n",
    "noCorrelated' %MyPath\n",
    "TCRfeatureDF2=pd.read_pickle(featureFilePickle2)\n",
    "print 'TCRfeatureDF shape is %s_%s' %(TCRfeatureDF2.shape[0],TCRfeatureDF2.shape[1])\n",
    "TCRfeatureDF2.iloc[:4,:4]\n"
   ]
  },
  {
   "cell_type": "markdown",
   "metadata": {},
   "source": [
    "### run predictions:"
   ]
  },
  {
   "cell_type": "code",
   "execution_count": null,
   "metadata": {
    "ExecuteTime": {
     "end_time": "2018-08-25T21:06:27.663580Z",
     "start_time": "2018-08-25T18:49:57.770186Z"
    }
   },
   "outputs": [],
   "source": [
    "datasetName='PNP530Cardio126'\n",
    "\n",
    "featureComposition_list=['phenotypesOnly','phenotypes&PCA&TCRfeatures','phenotypes&TCRdf&PCA&TCRfeatures']\n",
    "# featureComposition_list=['phenotypesOnly']\n",
    "for featureComposition in featureComposition_list:\n",
    "    \n",
    "    if featureComposition=='phenotypesOnly':\n",
    "        kList=[10]\n",
    "    else:\n",
    "        kList=[10,25,40,50,60,70,100,120,150,170,250,300]    \n",
    "    for k in kList:\n",
    "\n",
    "        modelAndParams_list=[(LogisticRegression,'LogisticRegression',{'C':10,'penalty':'l1'}),\n",
    "                   (lgb.LGBMClassifier,'LGBMClassifier',{'learning_rate': 0.05, 'n_estimators': 100,'max_depth': 6,'num_threads':2,\n",
    "             'bagging_fraction':0.5,'bagging_freq':1, 'bagging_seed':3}),\n",
    "                   (XGBClassifier,'XGBClassifier',{'learning_rate': 0.05, 'n_estimators': 100,'max_depth': 6,'num_threads':2,\n",
    "             'bagging_fraction':0.5,'bagging_freq':1, 'bagging_seed':3})]\n",
    "\n",
    "        for modelAndParams in modelAndParams_list:\n",
    "            model=modelAndParams[0]\n",
    "            modelName=modelAndParams[1]\n",
    "            model_params=modelAndParams[2] \n",
    "\n",
    "            if model==LogisticRegression:\n",
    "                featureSelectionMethod_list=[f_classif,'random']\n",
    "            else:\n",
    "                featureSelectionMethod_list=[f_classif,'random','usingModel']\n",
    "            if featureComposition=='phenotypesOnly':\n",
    "                featureSelectionMethod_list=[None]\n",
    "            for featureSelectionMethod in featureSelectionMethod_list:\n",
    "\n",
    "                XName='%s_%s' %(datasetName,featureComposition)\n",
    "                if featureComposition=='phenotypesOnly':\n",
    "                    useTCRfeatures=False #True/False\n",
    "                    usePCAdf=False #True/False\n",
    "                    useTCRdf=False #True/False   \n",
    "                elif featureComposition=='phenotypes&PCA&TCRfeatures':\n",
    "                    useTCRfeatures=True #True/False\n",
    "                    usePCAdf=True #True/False\n",
    "                    useTCRdf=False #True/False\n",
    "                elif featureComposition=='phenotypes&TCRdf&PCA&TCRfeatures':\n",
    "                    useTCRfeatures=True #True/False\n",
    "                    usePCAdf=True #True/False\n",
    "                    useTCRdf=True #True/False\n",
    "                print '******featureComposition=%s, k=%s,modelAndParams=%s,featureSelectionMethod=%s********' %(featureComposition,\n",
    "                                                        k,modelAndParams,featureSelectionMethod)\n",
    "\n",
    "                # (1) general definitions:\n",
    "                datasetType='PNP_Cardio' #PNP/PNP_Cardio\n",
    "\n",
    "                #(2) model definitions:\n",
    "                ResultFolder='%s/TCR_real_data/CardioSamples/Predictions3' %MyPath\n",
    "                if not isdir(ResultFolder):\n",
    "                    makedirs(ResultFolder)\n",
    "\n",
    "                n_splits=20\n",
    "                useCV=True\n",
    "                stratifiedCV=True\n",
    "\n",
    "                # (5) phenotypeDF:\n",
    "\n",
    "                genPhenotypeDF=False #True/False. no sense for 'True'  if usePhenotype=False\n",
    "                phenotypeDF=combinedPhenotypeDF\n",
    "                phenotypeDFname='newSmall' #('small','allNum and more- see step #6.2\n",
    "\n",
    "                #(3) target definition:\n",
    "                targetDF=pd.DataFrame(index=['BD'+str(x) for x in range(1,1100)])\n",
    "                targetDF['isCardio']=np.where(targetDF.index.str.replace('BD','').astype(int)>949,1,0)\n",
    "                targetName='isCardio'\n",
    "                YName=targetName\n",
    "                print 'target value counts:'\n",
    "                print targetDF[targetName].value_counts(dropna=False)\n",
    "\n",
    "                #  (4) feature composition:\n",
    "                usePhenotype=True #True/False\n",
    "\n",
    "                # (6) TCRdf:\n",
    "                datasetFolder='%s/TCR_real_data/CardioSamples' %MyPath\n",
    "                datasetNameTCRdf=datasetName  \n",
    "                TCRdfName='sharingMatrix_Cardio126_minNshared2_RA_onlyProductiveTrue__percShared10_OLtrimmed_binary'\n",
    "                TCRdf=TCRdf\n",
    "\n",
    "                #(7) PCAdf (based on the TCRdf selected)\n",
    "                n_comp=100 # int or None \n",
    "                isSparse=True #True/False\n",
    "\n",
    "                #(8) TCRfeatures:\n",
    "                getTCRfeatures=False #True/False. do not use True when useTCRfeatures=False\n",
    "                TCRfeatureDF=TCRfeatureDF2\n",
    "\n",
    "                sampleList=sampleList\n",
    "                sampleListName='Cardio126'\n",
    "\n",
    "                filterFeaturesByCorr=None #None or float between 0 and 1\n",
    "                featureSelectionUsingModel=False # True/False\n",
    "        #                     C=0.5 #None (if none, C will be set to 0.1) or float between 0 and 1\n",
    "        #                     filterFeaturesByUnivariate=f_classif    # None/chi2/f_classif/mutual_info_classif\n",
    "        #             k=150 #None (will be set to 50 / int - defines number of k best))\n",
    "                scale=True\n",
    "\n",
    "                predictionPipeline(datasetType,ResultFolder,model,modelName,model_params,n_splits, useCV,\n",
    "                                      stratifiedCV, XName,usePhenotype,useTCRdf,useTCRfeatures,usePCAdf,\n",
    "                                      YName,targetDF,\n",
    "                                      genPhenotypeDF,phenotypeDF,phenotypeDFname,\n",
    "                                      datasetFolder,datasetNameTCRdf,TCRdf,TCRdfName,n_comp,isSparse,\n",
    "                                      getTCRfeatures,TCRfeatureDF,sampleListName,sampleList,\n",
    "                                      filterFeaturesByCorr,featureSelectionMethod,scale,\n",
    "                                      k,cdate=cdate,overwriteResults=True)\n",
    "\n",
    "\n",
    "print 'done with all iterations...'"
   ]
  },
  {
   "cell_type": "markdown",
   "metadata": {},
   "source": [
    "### explore prediction results:"
   ]
  },
  {
   "cell_type": "markdown",
   "metadata": {},
   "source": [
    "#### get results:"
   ]
  },
  {
   "cell_type": "code",
   "execution_count": null,
   "metadata": {
    "ExecuteTime": {
     "end_time": "2018-08-25T21:14:38.148277Z",
     "start_time": "2018-08-25T21:14:35.168350Z"
    }
   },
   "outputs": [],
   "source": [
    "modelNameList=['LogisticRegression','LGBMClassifier','XGBClassifier']\n",
    "YName='isCardio'\n",
    "\n",
    "for modelName in modelNameList:\n",
    "    print modelName\n",
    "    folder='%s/TCR_real_data/CardioSamples/Predictions3/%s_predictions/%s' %(MyPath,YName,modelName)\n",
    "    df_folder='%s/predictionDFs' %folder\n",
    "    print folder\n",
    "    results=concat_summarizing_dfs_excel(df_folder)\n",
    "    results=results.sort_values(by='roc_auc', ascending=False)\n",
    "    f1='%s/resultSummary_%s.xlsx' %(folder,cdate)\n",
    "    results.to_excel(f1)\n",
    "    results.head(20)\n",
    "    \n",
    "    \n"
   ]
  },
  {
   "cell_type": "markdown",
   "metadata": {},
   "source": [
    "#### plot results:"
   ]
  },
  {
   "cell_type": "code",
   "execution_count": null,
   "metadata": {
    "ExecuteTime": {
     "end_time": "2018-08-25T21:36:39.308788Z",
     "start_time": "2018-08-25T21:36:21.310805Z"
    }
   },
   "outputs": [],
   "source": [
    "YName='isCardio'\n",
    "datasetName='PNP530Cardio126'\n",
    "ss=None\n",
    "repeat=None\n",
    "\n",
    "\n",
    "# figure for each feature selection method, for ROC/PR:\n",
    "\n",
    "featureSelectionMethod_list=['random','usingModel',' f_classif'] \n",
    "filterColumn='featureSelectionMethod' \n",
    "\n",
    "resultFolder='%s/TCR_real_data/CardioSamples/Predictions2' %MyPath\n",
    "\n",
    "colorList=['blue','deepskyblue','darkgreen','lime','red','coral']\n",
    "colList=[('roc_auc',(0.7,1)),('pr_auc_corrected',(0.4,0.6))]\n",
    "withTCRdf='both'\n",
    "title=''\n",
    "count=1\n",
    "# filedate='14082018'\n",
    "\n",
    "for featureSelectionMethod in featureSelectionMethod_list:\n",
    "    for dataColumnInfo in colList:\n",
    "        \n",
    "        filedate='25082018'\n",
    "#         filedate=cdate ##### DONT FORGET TO CHANGE!!!!!!!\n",
    "    \n",
    "        dataColumn=dataColumnInfo[0]\n",
    "        ylim=dataColumnInfo[1]\n",
    "        fig,ax1=plt.subplots(figsize=(16,9))\n",
    "    #     \n",
    "        print count\n",
    "        count=count+1\n",
    "        ss=None\n",
    "        repeat=None\n",
    "#         title='%s_%s_%s' %(YName,datasetName,featureSelectionMethod)\n",
    "        title=''\n",
    "        filterCrit=featureSelectionMethod\n",
    "        ax=plot_prediction_results(ss,repeat,colorList,dataColumn,ax1,withTCRdf=withTCRdf,title=title,\n",
    "                                   xlim=(0,300),ylim=ylim,filedate=filedate,resultFolder=resultFolder,\n",
    "                                  filterColumn=filterColumn,filterCrit=filterCrit,datasetName=datasetName,YName=YName)\n",
    "\n",
    "        ax1.legend(fontsize=14,bbox_to_anchor=(-0.05, 1))\n",
    "\n",
    "        fig.suptitle('Feature Selection Method=%s' % featureSelectionMethod)\n",
    "        fig.subplots_adjust(left=0.35)\n",
    "        figName='predPerformance_compareDatasetFeaturenumFeaturetype_%s_withTCRdf%s_%s%s_%s' %(dataColumn,withTCRdf,\n",
    "                                                                        filterColumn,filterCrit,cdate)\n",
    "        folder='%s/%s_predictions' %(resultFolder,YName)\n",
    "        figFile='%s/%s' %(folder,figName)\n",
    "        fig.savefig(figFile,dpi=300)\n",
    "        plt.show()\n",
    "            \n",
    "print 'done'\n",
    "\n",
    "\n"
   ]
  },
  {
   "cell_type": "markdown",
   "metadata": {},
   "source": [
    "# run permanova and mantel for phenotypes vs. other features not just TCRdf"
   ]
  },
  {
   "cell_type": "code",
   "execution_count": null,
   "metadata": {
    "ExecuteTime": {
     "end_time": "2018-09-20T10:32:43.835971Z",
     "start_time": "2018-09-20T10:32:42.042788Z"
    }
   },
   "outputs": [],
   "source": [
    "def testPhenotypeAffectsOnsubsampledCohorts(ss,repeat,ssPNP,ssCardio,genTCRdfPNP,genTCRdfCardio,compareTCRfeatures=True,\n",
    "                                           genPhenDistMat=True,genFeatDistMat=True,genTCRdfDistMat=True):\n",
    "\n",
    "    \n",
    "    # (0) definitions:\n",
    "    #load sample lists:\n",
    "    with open('/net/mraid08/export/genie/Lab/Personal/ShaniBAF/Sample files/BD lists/PNP530','rb') as fp:\n",
    "        PNP530=pickle.load(fp)\n",
    "    with open('/net/mraid08/export/genie/Lab/Personal/ShaniBAF/Sample files/BD lists/Cardio126','rb') as fp:\n",
    "        Cardio126=pickle.load(fp)\n",
    "        \n",
    "    if ss is None:\n",
    "        partialDatasetFolderPNP='TCR_real_data' \n",
    "        datasetNamePNP='PNP530'\n",
    "        partialDatasetFolderCardio='TCR_real_data/CardioSamples' \n",
    "        datasetNameCardio='Cardio126'\n",
    "    else:\n",
    "        partialDatasetFolderPNP='TCR_real_data/PNP530_SubSampled%sdata_rep%s' %(ss,repeat)\n",
    "        datasetNamePNP='PNP530_ss%s_rep%s' %(ss,repeat)\n",
    "        partialDatasetFolderCardio='TCR_real_data/CardioSamples/Cardio126_SubSampled%sdata_rep%s' %(ss,repeat) \n",
    "        datasetNameCardio='Cardio126_ss%s_rep%s' %(ss,repeat)\n",
    "\n",
    "    datasetFolderPNP='%s/%s' %(MyPath,partialDatasetFolderPNP)\n",
    "    datasetFolderCardio='%s/%s' %(MyPath,partialDatasetFolderCardio)\n",
    "    data_folder1=partialDatasetFolderPNP\n",
    "    data_folder2=partialDatasetFolderCardio\n",
    "    datasetName1=datasetNamePNP\n",
    "    datasetName2=datasetNameCardio\n",
    "    TakeSameSamples=False\n",
    "    filteringList1=None\n",
    "    filteringList2=None\n",
    "    filteringList1Name=None\n",
    "    filteringList2Name=None\n",
    "    plotType='bar'\n",
    "    featureList=['normSeqNums_per2000_NT_T','frequencyCount (%)_max_T','frequencyCount (%)_mean_T','shannon_nt_T',\n",
    "                 'cdr3Length_mean_T','n1Insertion_mean_T','n2Insertion_mean_T']\n",
    "    \n",
    "    # (1) subsample PNP and Cardio:\n",
    "    if ssPNP: \n",
    "        print '********subsampling PNP530 cohort with %s sequences per sample:***********'\n",
    "        nTemplates=ss\n",
    "        repeat=repeat \n",
    "        datasetName='PNP530' \n",
    "        fullSamplesFolder='%s/TCR_real_data/SamplesForAnalysis_corrected' %MyPath \n",
    "        data_folder_full='TCR_real_data' #change if necessary\n",
    "        TakeSameSamples=True\n",
    "        subsampling_and_featureExtraction(fullSamplesFolder,nTemplates,repeat,datasetName,data_folder_full,\n",
    "                                          TakeSameSamples=TakeSameSamples)\n",
    "    if ssCardio: \n",
    "        print '*********subsampling Cardio cohort with %s sequences per sample:***************'\n",
    "        nTemplates=ss\n",
    "        repeat=repeat \n",
    "        datasetName='Cardio126' \n",
    "        fullSamplesFolder='%s/TCR_real_data/CardioSamples/SamplesForAnalysis_corrected' %MyPath \n",
    "        data_folder_full='TCR_real_data/CardioSamples' #change if necessary\n",
    "        TakeSameSamples=True\n",
    "        subsampling_and_featureExtraction(fullSamplesFolder,nTemplates,repeat,datasetName,data_folder_full,\n",
    "                                          TakeSameSamples=TakeSameSamples)\n",
    "        \n",
    "\n",
    "    \n",
    "\n",
    "    # compare TCRfeatures between ss cohorts:\n",
    "    if compareTCRfeatures:\n",
    "        print '************comparing TCRfeatures between cohorts (not matched!):*************'\n",
    "        compare_features_between_datasets(data_folder1, datasetName1,  data_folder2, datasetName2,TakeSameSamples, \n",
    "                                      filteringList1,filteringList2,filteringList1Name,filteringList2Name)\n",
    "        plot_gene_usage_comparison(data_folder1, datasetName1,  data_folder2, datasetName2,plotType,TakeSameSamples, \n",
    "                                          filteringList1,filteringList2,filteringList1Name,filteringList2Name)\n",
    "\n",
    "    \n",
    "    # (2) produce TCRdfs to use with permanova/mantel:\n",
    "    if genTCRdfPNP:\n",
    "        print '*****generating 10perc TCRdfs******'\n",
    "        DFtype='TCR'\n",
    "        genDF=True #False=generate new df\n",
    "        toBinary=True\n",
    "        mbLevel='g'\n",
    "        useShortName=True\n",
    "        datasetFolder='%s/%s' %(MyPath,data_folder1)\n",
    "        datasetName=datasetName1\n",
    "        minVal=None    #minVal can be None,0, float, or 'dfMinVal' or dfMinVal2:\n",
    "        minSharedT=None #minimal number of samples shared by seq/species required to leave sample in the database (int or None)\n",
    "        percShared=10 #minimal number of samples shared by seq/species required to leave sample in the database (int [ percentage]\n",
    "                        #or None)\n",
    "        removeOutliers=True\n",
    "        normData=True\n",
    "        logTransform=True\n",
    "        extractUniqueAA=True # use True when this is the first time to analyze this dataset, otherwise, use False\n",
    "        minNshared=2\n",
    "        onlyProductive=True\n",
    "        mbDataFolder='AllSeqProjects'\n",
    "        PNP530Cardio126list=PNP530+Cardio126\n",
    "        SampleList=PNP530\n",
    "        SampleListName='PNP530'\n",
    "        libPrepMethod=None\n",
    "        filterGenotek=True\n",
    "        filterMinimalReads=9000000\n",
    "        filterlibPrepMethod=libPrepMethod\n",
    "        groupFunction='noOutlierMean'\n",
    "        nSTD=5\n",
    "        nMinSamples=3\n",
    "        ignoreNotSameYear=True\n",
    "        removeSamePerson=False\n",
    "    \n",
    "        df=genTCRorMBdfWithManipulations(DFtype,genDF,toBinary,removeOutliers,normData,logTransform,\n",
    "                                         minVal,minSharedT,percShared,\n",
    "                                         mbLevel,useShortName,datasetFolder,datasetName,extractUniqueAA,\n",
    "                                        minNshared,onlyProductive,mbDataFolder,SampleList,\n",
    "                                          SampleListName,filterlibPrepMethod,filterGenotek, \n",
    "                                          groupFunction, nSTD, nMinSamples, ignoreNotSameYear, removeSamePerson)\n",
    "    if genTCRdfCardio:\n",
    "        print '***********generating 10perc TCRdfs for Cardio************'\n",
    "        datasetFolder='%s/%s' %(MyPath,data_folder2)\n",
    "        datasetName=datasetName2\n",
    "        SampleList=Cardio126\n",
    "        SampleListName='Cardio126'\n",
    "    \n",
    "        df=genTCRorMBdfWithManipulations(DFtype,genDF,toBinary,removeOutliers,normData,logTransform,\n",
    "                                         minVal,minSharedT,percShared,\n",
    "                                         mbLevel,useShortName,datasetFolder,datasetName,extractUniqueAA,\n",
    "                                        minNshared,onlyProductive,mbDataFolder,SampleList,\n",
    "                                          SampleListName,filterlibPrepMethod,filterGenotek, \n",
    "                                          groupFunction, nSTD, nMinSamples, ignoreNotSameYear, removeSamePerson)\n",
    "        \n",
    "    #(3) run permanova and mantel to test which phenotype are associated with TCRdf structure\n",
    "    #load PNP phenotypeDF:\n",
    "    f1='/net/mraid08/export/genie/Lab/Personal/ShaniBAF/TCR_real_data/NewPhenotypicData/newPhenotypesPNPAllInfo_withDummies.xlsx'\n",
    "    PNP530_phen_new_dummies=pd.read_excel(f1).set_index('BD')\n",
    "    \n",
    "    #load Cardio phenotypeDF:\n",
    "    f1='/net/mraid08/export/genie/Lab/Personal/ShaniBAF/TCR_real_data/CardioSamples/phenotypicData/Cardio126phenAllInfo_withDummies.xlsx'\n",
    "    Cardio126_phen_new_dummies=pd.read_excel(f1).set_index('BD')\n",
    "    \n",
    "    numericalphenotypesPNP=['Age','BMI','WBC','eGFR by CKD-EPI','HbA1C','Glucose','HDL','Hemoglobin','AST',\n",
    "                            'Total Cholesterol']\n",
    "    numericalphenotypesCardio=['Age','BMI','eGFR by CKD-EPI','WBC','LDL','HDL','Triglycerides','CRP','HbA1C','PLT',\n",
    "                               'Hemoglobin','Initial CPK','Maximal CPK','LDH','AST','Glucose','Initial Troponin',\n",
    "                               'Maximal Troponin','Total Cholesterol','GRACE Score','Admission Systolic BP',\n",
    "                               'Admission Diastolic BP','Admission Pulse Rate','Admission Saturation Value',\n",
    "                               'Admission Temperature']\n",
    "    categoricalphenotypesPNP=['Gender_Male','Smoking Status_Past','Smoking Status_Yes']\n",
    "    categoricalphenotypesCardio=['Gender_Male','Smoking Status_Past','Smoking Status_Yes','LVEFmapped','PreviousPCImapped_1',\n",
    "            'PreviousPCImapped_2+','Hypertension','Dyslipidemia',\n",
    "           'Microvascular Complications','Previous CABG','Known CAD','PCI_binary','Religion','PVD',\n",
    "           'Glucose Disorder_DM2','Glucose Disorder_No','Glucose Disorder_PreDM','Admission Diagnosis_NSTEMI',\n",
    "           'Admission Diagnosis_STEMI',\n",
    "           'Admission Statins','Chief Complaint_anginal pain','Chief Complaint_atypical pain','Chief Complaint_dyspnea']\n",
    "  \n",
    "    \n",
    "    \n",
    "    numMetric='euclidean'\n",
    "    catMetric='jaccard'\n",
    "    \n",
    "    #define parameters:\n",
    "    \n",
    "    featureDFfile='%s/TCR_real_data/PNP530Cardio126Combined/featureSummaryDFs/PNP530Cardio126_filteredByPNP530Cardio126\\\n",
    "_allFeatures_noCorrelated_noConsts_filledna' %MyPath\n",
    "    TCRfeatureDF2=pd.read_pickle(featureDFfile)\n",
    "\n",
    "    PNP530featureDF=TCRfeatureDF2.loc[PNP530,:]\n",
    "    Cardio126featureDF=TCRfeatureDF2.loc[Cardio126,:]\n",
    "    datasetList=['PNP530','Cardio126']\n",
    "    for dataset in datasetList: \n",
    "        if 'PNP' in dataset: #DEFINE RELEVANT DATASET FOLDER, NAME AND PHENOTYPE DF FILE\n",
    "            print 'generating distmats for PNP'\n",
    "            datasetFolder='%s/%s' %(MyPath,data_folder1)\n",
    "            datasetName=datasetName1\n",
    "            phenotypeDF=PNP530_phen_new_dummies\n",
    "            categoricalphenotypes=categoricalphenotypesPNP\n",
    "            numericalphenotypes=numericalphenotypesPNP\n",
    "            SampleListName='PNP530'\n",
    "            featureDF=PNP530featureDF\n",
    "        elif 'Cardio' in dataset: #DEFINE RELEVANT DATASET FOLDER, NAME AND PHENOTYPE DF FILE\n",
    "            print 'generating distmats for Cardio'\n",
    "            datasetFolder='%s/%s' %(MyPath,data_folder2)\n",
    "            datasetName=datasetName2\n",
    "            phenotypeDF=Cardio126_phen_new_dummies\n",
    "            categoricalphenotypes=categoricalphenotypesCardio\n",
    "            numericalphenotypes=numericalphenotypesCardio\n",
    "            SampleListName='Cardio126'\n",
    "            featureDF=Cardio126featureDF\n",
    "            \n",
    "        print '****************generating phenotype distMats*******************'\n",
    "        if genPhenDistMat:\n",
    "            distMatFolder='%s/phenDistMats' %datasetFolder\n",
    "            if not isdir(distMatFolder):\n",
    "                makedirs(distMatFolder)\n",
    "            for n,phenotype in enumerate(numericalphenotypes):\n",
    "                metric='euclidean'\n",
    "                print 'generating distMat for phenotype %s' %phenotype\n",
    "\n",
    "                df=pd.DataFrame(phenotypeDF[phenotype])\n",
    "                df_condensed_org, distMat_square=genDistMat(df,metric)\n",
    "\n",
    "                if ss is None:\n",
    "                    distMatFileSquare='%s/%s_%s_%s_distMat' %(distMatFolder,dataset,phenotype,metric)\n",
    "                    distMatFileCondensed='%s/%s_%s_%s_distMat_CONDENSED' %(distMatFolder,dataset,phenotype,metric)\n",
    "                else:\n",
    "                    distMatFileSquare='%s/%sss%s_rep%s_%s_%s_distMat' %(distMatFolder,dataset,ss,repeat,phenotype,metric)\n",
    "                    distMatFileCondensed='%s/%sss%s_rep%s_%s_%s_distMat_CONDENSED' %(distMatFolder,dataset,ss,repeat,phenotype,metric)                 \n",
    "                distMat_square.to_pickle(distMatFileSquare)\n",
    "                df_condensed_org.to_pickle(distMatFileCondensed)\n",
    "            \n",
    "        print '****************generating feature distMats*******************'\n",
    "        if genFeatDistMat:\n",
    "            distMatFolder='%s/featureDistMats' %datasetFolder\n",
    "            if not isdir(distMatFolder):\n",
    "                makedirs(distMatFolder)\n",
    "            for n,feature in enumerate(featureList):\n",
    "                metric='euclidean'\n",
    "                print 'generating distMat for feature %s' %feature\n",
    "\n",
    "                df=pd.DataFrame(featureDF[feature])\n",
    "                df=df[df[feature].notnull()]\n",
    "                df_condensed_org, distMat_square=genDistMat(df,metric)\n",
    "\n",
    "                if ss is None:\n",
    "                    distMatFileSquare='%s/%s_%s_%s_distMat' %(distMatFolder,dataset,feature,metric)\n",
    "                    distMatFileCondensed='%s/%s_%s_%s_distMat_CONDENSED' %(distMatFolder,dataset,feature,metric)\n",
    "                else:\n",
    "                    distMatFileSquare='%s/%sss%s_rep%s_%s_%s_distMat' %(distMatFolder,dataset,ss,repeat,feature,metric)\n",
    "                    distMatFileCondensed='%s/%sss%s_rep%s_%s_%s_distMat_CONDENSED' %(distMatFolder,dataset,ss,repeat,feature,metric)                 \n",
    "                distMat_square.to_pickle(distMatFileSquare)\n",
    "                df_condensed_org.to_pickle(distMatFileCondensed)\n",
    "        \n",
    "        \n",
    "        ### generating TCRdf \n",
    "        if ss is None:\n",
    "            if dataset=='PNP':\n",
    "                TCRdfName='sharingMatrix_%s_minNshared5_RA_onlyProductiveTrue__percShared10_OLtrimmed' %dataset\n",
    "            else:\n",
    "                TCRdfName='sharingMatrix_%s_minNshared2_RA_onlyProductiveTrue__percShared10_OLtrimmed' %dataset                \n",
    "        else:  \n",
    "            TCRdfName='sharingMatrix_%s_ss%s_rep%s_minNshared2_RA_onlyProductiveTrue__percShared10_OLtrimmed' %(dataset,ss,repeat)\n",
    "        \n",
    "        \n",
    "        print '******generating distMat for TCRdfs:**********'  \n",
    "        if genTCRdfDistMat:\n",
    "            distMatFolder='%s/distanceMatrices' %datasetFolder\n",
    "            if not isdir(distMatFolder):\n",
    "                makedirs(distMatFolder)\n",
    "            TCRdfnewName=TCRdfName.replace('sharingMatrix_','TCRdf')\n",
    "            TCRdfnewName=TCRdfnewName.replace(datasetName,'')\n",
    "            TCRdfnewName=TCRdfnewName.replace('_','')\n",
    "            print (TCRdfnewName)\n",
    "            print 'generating distance matrix for RA data:'\n",
    "            print 'sampleListName=%s' %SampleListName\n",
    "            try:\n",
    "                file1='%s/%s_sharingAnalysis/%s' %(datasetFolder, SampleListName,TCRdfName)\n",
    "                print 'file name=%s' %file1\n",
    "                TCRdf=pd.read_pickle(file1)\n",
    "            except:\n",
    "                try:\n",
    "                    file1='%s/sharingAnalysis/%s' %(datasetFolder, TCRdfName)\n",
    "                    print 'still trying...'\n",
    "                    print 'file name=%s' %file1\n",
    "                    TCRdf=pd.read_pickle(file1)\n",
    "                except:\n",
    "                    print 'couldnt load TCRdf'\n",
    "\n",
    "            metric1='braycurtis'\n",
    "            print 'TCRdf sum is %s' %TCRdf.sum().sum()\n",
    "            distMatFileSquare='%s/%s_%s_distMat' %(distMatFolder,TCRdfnewName,metric1)\n",
    "            distMatFileCondensed='%s/%s_%s_distMat_CONDENSED' %(distMatFolder,TCRdfnewName,metric1)\n",
    "            df_condensed_org, distMat_square=genDistMat(TCRdf,metric1)\n",
    "            print 'distMat_square sum is %s' %distMat_square.sum().sum()\n",
    "            distMat_square.to_pickle(distMatFileSquare)\n",
    "            df_condensed_org.to_pickle(distMatFileCondensed)  \n",
    "\n",
    "            print 'generating distance matrix for binary data:'\n",
    "            TCRdfName_binary=TCRdfName+'_binary'\n",
    "            TCRdfnewName_binary=TCRdfnewName+'_binary'\n",
    "\n",
    "            try:\n",
    "                file2='%s/%s_sharingAnalysis/%s' %(datasetFolder, SampleListName,TCRdfName_binary)\n",
    "                print 'file name=%s' %file2\n",
    "                TCRdf_binary=pd.read_pickle(file2)\n",
    "            except:\n",
    "                try:\n",
    "    #                 print 'still trying...'\n",
    "    #                 print 'sampleListName=%s' %SampleListName\n",
    "                    file2='%s/sharingAnalysis/%s' %(datasetFolder, TCRdfName_binary)\n",
    "                    print 'still trying...'\n",
    "                    print 'file name=%s' %file2\n",
    "                    TCRdf_binary=pd.read_pickle(file2)\n",
    "                except:\n",
    "                    print 'couldnt load TCRdf'\n",
    "\n",
    "            metric2='jaccard'\n",
    "            distMatFileSquare_binary='%s/%s_%s_distMat' %(distMatFolder,TCRdfnewName_binary,metric2)\n",
    "            distMatFileCondensed_binary='%s/%s_%s_distMat_CONDENSED' %(distMatFolder,TCRdfnewName_binary,metric2)\n",
    "            df_condensed_org_binary, distMat_square_binary=genDistMat(TCRdf_binary,metric2)\n",
    "            distMat_square_binary.to_pickle(distMatFileSquare_binary)\n",
    "            df_condensed_org_binary.to_pickle(distMatFileCondensed_binary) \n",
    "    \n",
    "        print '******done with distance matrices******'\n",
    "    \n",
    "        permanovaDFfolder='%s/TCR_phenotype_relations/permanovaDFs' %datasetFolder\n",
    "        if not isdir(permanovaDFfolder):\n",
    "            makedirs(permanovaDFfolder)\n",
    "                                                                                                            \n",
    "        TCRdistMatFolder='%s/distanceMatrices' %datasetFolder\n",
    "#         TCRdistMatNameList=[f for f in listdir(TCRdistMatFolder) if isfile(join(TCRdistMatFolder,f))]\n",
    "#         TCRdistMatNameList=[f for f in TCRdistMatNameList if '_CONDENSED' not in f]\n",
    "#         print 'number of distMats to analyze in folder is %s' %len(TCRdistMatNameList)\n",
    "        TCRdistMatNameList=['TCRdfminNshared2RAonlyProductiveTruepercShared10OLtrimmed_binary_jaccard_distMat',\n",
    "                            'TCRdfminNshared2RAonlyProductiveTruepercShared10OLtrimmed_braycurtis_distMat']\n",
    "        for phenotype in categoricalphenotypes:\n",
    "            print phenotype\n",
    "            for TCRdistMatName in TCRdistMatNameList:\n",
    "                nPerm=99\n",
    "                removeSameUser=True\n",
    "                print TCRdistMatName\n",
    "                TCRdistMat=pd.read_pickle(join(TCRdistMatFolder,TCRdistMatName))\n",
    "    \n",
    "                print 'TCRdistMat head:'\n",
    "                print TCRdistMat.iloc[:5,:5]\n",
    "                newName=TCRdistMatName.replace('minNshared2RAonlyProductiveTrue','')\n",
    "                phenotypeDF=phenotypeDF[phenotypeDF[phenotype].notnull()]\n",
    "                print 'phenotype head:'\n",
    "                print phenotypeDF[phenotype].head()\n",
    "                print 'conducting permanova'\n",
    "                permAnovaResDF=permanova_withWrapper(TCRdistMat,newName,phenotypeDF,phenotype, \n",
    "                                             nPerm,removeSameUser,permanovaDFfolder)\n",
    "                try:\n",
    "                    if permAnovaResDF.loc[0,'p']<0.05:\n",
    "                        print 'repeating permanova for phenotype %s with 9999 permutations' %phenotype\n",
    "                        nPerm=9999\n",
    "                        permAnovaResDF=permanova_withWrapper(TCRdistMat,newName,phenotypeDF,phenotype, \n",
    "                                                 nPerm,removeSameUser,permanovaDFfolder)\n",
    "                      \n",
    "                except:\n",
    "                    pass\n",
    "                \n",
    "            for feature in featureList:\n",
    "                nPerm=99\n",
    "                removeSameUser=True\n",
    "#                 print feature\n",
    "                metric='euclidean'\n",
    "                distMatFolder='%s/featureDistMats' %datasetFolder\n",
    "                distMatFileSquare='%s/%s_%s_%s_distMat' %(distMatFolder,dataset,feature,metric)\n",
    "                featuredistMat=pd.read_pickle(distMatFileSquare)\n",
    "    \n",
    "                print 'featuredistMat head:'\n",
    "                print featuredistMat.iloc[:5,:5]\n",
    "                print 'conducting permanova for feature %s and phenotype %s' %(feature, phenotype)\n",
    "                permAnovaResDF=permanova_withWrapper(featuredistMat,feature,phenotypeDF,phenotype, \n",
    "                                             nPerm,removeSameUser,permanovaDFfolder)\n",
    "                try:\n",
    "                    if permAnovaResDF.loc[0,'p']<0.05:\n",
    "                        print 'repeating permanova for feature %s and feature %s with 9999 permutations' %(phenotype,\n",
    "                                                                                                           feature)\n",
    "                        nPerm=9999\n",
    "                        permAnovaResDF=permanova_withWrapper(featuredistMat,feature,phenotypeDF,phenotype,\n",
    "                                             nPerm,removeSameUser,permanovaDFfolder)\n",
    "                except:\n",
    "                    pass\n",
    "                \n",
    "    \n",
    "        print '****get PERMANOVA RESULTS FOR %s*****' %dataset                                                                                            \n",
    "        dfs_folder=permanovaDFfolder\n",
    "        PermanovaResults1=concat_summarizing_dfs(dfs_folder)\n",
    "        nTests=len(PermanovaResults1)\n",
    "        PermanovaResults1=PermanovaResults1.sort_values(by='p')\n",
    "        PermanovaResults1=add_corrected_pValues(PermanovaResults1,pValueColumn='p',nTests=nTests,FDR=0.1)\n",
    "        PermanovaResults1['cohort']=dataset\n",
    "        print PermanovaResults1\n",
    "        permanovaResultFile='%s/TCR_phenotype_relations/phenotype_TCRdf_permanovaResults.xlsx' %datasetFolder\n",
    "        PermanovaResults1.to_excel(permanovaResultFile)   \n",
    "                                                                                                            \n",
    "        print '******performing mantel test now, still with dataset %s******' %dataset\n",
    "        mantelDFfolder='%s/TCR_phenotype_relations/mantelDFs' %datasetFolder\n",
    "        if not isdir(mantelDFfolder):\n",
    "            makedirs(mantelDFfolder)\n",
    "        for phenotype in numericalphenotypes:\n",
    "            nPerm=99\n",
    "            method='spearman'\n",
    "            alternative='greater'\n",
    "            removeSameUser=True\n",
    "                                                                                                            \n",
    "            phenotypedistMatFolder='%s/phenDistMats' %datasetFolder\n",
    "            if ss is None:\n",
    "                phenotypedistMatName='%s_%s_euclidean_distMat' %(dataset,phenotype)\n",
    "            else:\n",
    "                phenotypedistMatName='%sss%s_%s_rep%s_euclidean_distMat' %(dataset,ss,repeat,phenotype)\n",
    "            phenotype_distMat=pd.read_pickle('%s/%s' %(phenotypedistMatFolder,phenotypedistMatName))\n",
    "    \n",
    "            TCRdistMatFolder='%s/distanceMatrices' %datasetFolder\n",
    "            TCRdistMatNameList=[f for f in listdir(TCRdistMatFolder) if isfile(join(TCRdistMatFolder,f))]\n",
    "            TCRdistMatNameList=[f for f in TCRdistMatNameList if '_CONDENSED' not in f]\n",
    "    \n",
    "            print 'number of TCR distMats to analyze in folder is %s' %len(TCRdistMatNameList)\n",
    "            for TCRdistMatName in TCRdistMatNameList:\n",
    "                nPerm=99\n",
    "                print 'conducting mantel test for %s in %s' %(phenotype,dataset) \n",
    "                TCR_distMat=pd.read_pickle(join(TCRdistMatFolder,TCRdistMatName))\n",
    "                newName=TCRdistMatName.replace('minNshared2RAonlyProductiveTrue','')\n",
    "                feature_distMat=TCR_distMat\n",
    "                feature_name=newName\n",
    "                phenotype_name=phenotypedistMatName\n",
    "                mantelResDF=mantel_withWrapper(feature_distMat,feature_name,phenotype_distMat,phenotype_name, mantelDFfolder, \n",
    "                                       nPerm,method,alternative, removeSameUser, i=None,j=None)                                                                                            \n",
    "                try:\n",
    "                    if mantelResDF.loc[0,'p']<0.05:\n",
    "                        print 'repeating mantel for phenotype %s with 9999 permutations' %phenotype\n",
    "                        nPerm=9999\n",
    "                        mantel_withWrapper(feature_distMat,feature_name,phenotype_distMat,phenotype_name, mantelDFfolder, \n",
    "                                           nPerm,method,alternative, removeSameUser, i=None,j=None)\n",
    "                except:\n",
    "                    pass\n",
    "                \n",
    "                \n",
    "            for feature in featureList:\n",
    "                print 'conducting mantel test for phenotype %s and feature %s in %s' %(phenotype,feature,dataset) \n",
    "                distMatFolder='%s/featureDistMats' %datasetFolder\n",
    "                distMatFileSquare='%s/%s_%s_%s_distMat' %(distMatFolder,dataset,feature,metric)\n",
    "                featuredistMat=pd.read_pickle(distMatFileSquare)\n",
    "                phenotype_name=phenotypedistMatName\n",
    "                mantelResDF=mantel_withWrapper(featuredistMat,feature,phenotype_distMat,phenotype_name, mantelDFfolder, \n",
    "                                       nPerm,method,alternative, removeSameUser, i=None,j=None)                                                                                            \n",
    "                try:\n",
    "                    if mantelResDF.loc[0,'p']<0.05:\n",
    "                        print 'repeating mantel for phenotype %s and feature %s in %s with 9999 permutations' %(phenotype,feature,dataset)\n",
    "                        nPerm=9999\n",
    "                        mantel_withWrapper(featuredistMat,feature,phenotype_distMat,phenotype_name, mantelDFfolder, \n",
    "                                       nPerm,method,alternative, removeSameUser, i=None,j=None)\n",
    "                except:\n",
    "                    pass\n",
    "    \n",
    "        print 'getting results for mantel tests:'    \n",
    "        mantelResults1=concat_summarizing_dfs(mantelDFfolder)\n",
    "        nTests=len(mantelResults1)\n",
    "        mantelResults1=mantelResults1.sort_values(by='p')\n",
    "        mantelResults1=add_corrected_pValues(mantelResults1,pValueColumn='p',nTests=nTests,FDR=0.1)\n",
    "        f1='%s/TCR_phenotype_relations/phenotype_TCRdf_mantelResults.xlsx' %datasetFolder\n",
    "        mantelResults1.to_excel(f1)\n",
    "        print mantelResults1\n",
    "\n",
    "\n",
    "print 'end of function!!!' "
   ]
  },
  {
   "cell_type": "code",
   "execution_count": null,
   "metadata": {
    "ExecuteTime": {
     "end_time": "2018-09-20T10:34:09.690839Z",
     "start_time": "2018-09-20T10:33:28.522282Z"
    }
   },
   "outputs": [],
   "source": [
    "ss=None\n",
    "repeat=None\n",
    "ssPNP=False #True/False. subsample only if not exist\n",
    "ssCardio=False #True/False. subsample only if not exist\n",
    "genTCRdfPNP=False #True/False. \n",
    "genTCRdfCardio=False #True/False. \n",
    "\n",
    "\n",
    "testPhenotypeAffectsOnsubsampledCohorts(ss,repeat,ssPNP,ssCardio,genTCRdfPNP,genTCRdfCardio,compareTCRfeatures=True,\n",
    "                                           genPhenDistMat=False,genFeatDistMat=True,genTCRdfDistMat=False)"
   ]
  },
  {
   "cell_type": "markdown",
   "metadata": {},
   "source": [
    "## plotting correlations:"
   ]
  },
  {
   "cell_type": "code",
   "execution_count": null,
   "metadata": {
    "ExecuteTime": {
     "end_time": "2018-09-20T10:41:14.211397Z",
     "start_time": "2018-09-20T10:41:13.746517Z"
    }
   },
   "outputs": [],
   "source": [
    "#get relevant phenotypes:\n",
    "f1='/net/mraid08/export/genie/Lab/Personal/ShaniBAF/TCR_real_data/NewPhenotypicData/newPhenotypesPNPAllInfo_withDummies.xlsx'\n",
    "PNP530_phen_new_dummies=pd.read_excel(f1).set_index('BD')\n",
    "corr_phens=PNP530_phen_new_dummies[['Age','BMI','Total Cholesterol','HbA1C','Glucose']]\n",
    "print corr_phens.head()\n",
    "\n",
    "#get relevant features:\n",
    "featureDFfile='%s/TCR_real_data/PNP530Cardio126Combined/featureSummaryDFs/PNP530Cardio126_filteredByPNP530Cardio126\\\n",
    "_allFeatures_noCorrelated_noConsts_filledna' %MyPath\n",
    "TCRfeatureDF2=pd.read_pickle(featureDFfile)\n",
    "with open('/net/mraid08/export/genie/Lab/Personal/ShaniBAF/Sample files/BD lists/PNP530','rb') as fp:\n",
    "        PNP530=pickle.load(fp)\n",
    "PNP530featureDF=TCRfeatureDF2.loc[PNP530,:]\n",
    "corr_feats=PNP530featureDF[['normSeqNums_per2000_NT_T','frequencyCount (%)_max_T','frequencyCount (%)_mean_T',\n",
    "                            'shannon_nt_T','cdr3Length_mean_T','n1Insertion_mean_T']]\n",
    "print corr_feats.head()\n",
    "\n",
    "#merge:\n",
    "corr_phens_feats=pd.merge(corr_phens,corr_feats,how='inner',left_index=True,right_index=True)\n",
    "print corr_phens_feats.head()\n",
    "print len(corr_phens_feats)\n",
    "print len(corr_phens)\n",
    "print len(corr_feats)"
   ]
  },
  {
   "cell_type": "code",
   "execution_count": null,
   "metadata": {
    "ExecuteTime": {
     "end_time": "2018-09-17T20:31:56.520151Z",
     "start_time": "2018-09-17T20:31:56.460560Z"
    }
   },
   "outputs": [],
   "source": [
    "corr_phens_feats.corr()"
   ]
  },
  {
   "cell_type": "code",
   "execution_count": null,
   "metadata": {
    "ExecuteTime": {
     "end_time": "2018-09-17T20:56:57.542274Z",
     "start_time": "2018-09-17T20:56:57.424394Z"
    }
   },
   "outputs": [],
   "source": [
    "def calculate_pvalues(df):\n",
    "    df = df.dropna()._get_numeric_data()\n",
    "    dfcols = pd.DataFrame(columns=df.columns)\n",
    "    pvalues = dfcols.transpose().join(dfcols, how='outer')\n",
    "    for r in df.columns:\n",
    "        for c in df.columns:\n",
    "            pvalues[r][c] = round(pearsonr(df[r], df[c])[1], 4)\n",
    "    return pvalues\n",
    "\n",
    "p_vals=calculate_pvalues(corr_phens_feats)\n",
    "p_vals"
   ]
  },
  {
   "cell_type": "code",
   "execution_count": null,
   "metadata": {
    "ExecuteTime": {
     "end_time": "2018-09-17T21:06:56.798982Z",
     "start_time": "2018-09-17T21:06:56.740343Z"
    }
   },
   "outputs": [],
   "source": [
    "#find sig with bonferroni corrections:\n",
    "nTests=10+9+8+7+7+5+4+3+2+1\n",
    "print nTests\n",
    "pCut=0.05/56\n",
    "bonff_corr_phens_feats=p_vals.where(p_vals<pCut)\n",
    "bonff_corr_phens_feats"
   ]
  },
  {
   "cell_type": "code",
   "execution_count": null,
   "metadata": {
    "ExecuteTime": {
     "end_time": "2018-09-17T21:15:17.247648Z",
     "start_time": "2018-09-17T21:14:56.781415Z"
    }
   },
   "outputs": [],
   "source": [
    "sns.pairplot(corr_phens_feats,dropna=True,diag_kind='kde')\n",
    "plt.show()"
   ]
  },
  {
   "cell_type": "code",
   "execution_count": null,
   "metadata": {},
   "outputs": [],
   "source": []
  }
 ],
 "metadata": {
  "kernelspec": {
   "display_name": "Python 2",
   "language": "python",
   "name": "python2"
  },
  "language_info": {
   "codemirror_mode": {
    "name": "ipython",
    "version": 2
   },
   "file_extension": ".py",
   "mimetype": "text/x-python",
   "name": "python",
   "nbconvert_exporter": "python",
   "pygments_lexer": "ipython2",
   "version": "2.7.8"
  },
  "toc": {
   "nav_menu": {},
   "number_sections": true,
   "sideBar": true,
   "skip_h1_title": false,
   "toc_cell": false,
   "toc_position": {
    "height": "451px",
    "left": "0px",
    "right": "1260.23px",
    "top": "134px",
    "width": "274px"
   },
   "toc_section_display": "block",
   "toc_window_display": true
  },
  "varInspector": {
   "cols": {
    "lenName": 16.0,
    "lenType": 16.0,
    "lenVar": 40.0
   },
   "kernels_config": {
    "python": {
     "delete_cmd_postfix": "",
     "delete_cmd_prefix": "del ",
     "library": "var_list.py",
     "varRefreshCmd": "print(var_dic_list())"
    },
    "r": {
     "delete_cmd_postfix": ") ",
     "delete_cmd_prefix": "rm(",
     "library": "var_list.r",
     "varRefreshCmd": "cat(var_dic_list()) "
    }
   },
   "types_to_exclude": [
    "module",
    "function",
    "builtin_function_or_method",
    "instance",
    "_Feature"
   ],
   "window_display": false
  }
 },
 "nbformat": 4,
 "nbformat_minor": 2
}
