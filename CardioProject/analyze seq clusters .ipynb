{
 "cells": [
  {
   "cell_type": "markdown",
   "metadata": {},
   "source": [
    "# import:"
   ]
  },
  {
   "cell_type": "code",
   "execution_count": 1,
   "metadata": {
    "ExecuteTime": {
     "end_time": "2019-01-12T20:23:22.063128Z",
     "start_time": "2019-01-12T20:23:18.881679Z"
    }
   },
   "outputs": [
    {
     "name": "stdout",
     "output_type": "stream",
     "text": [
      "done1\n",
      "stop\n",
      "stop\n",
      "done1\n",
      "stop\n",
      "done\n",
      "done\n",
      "done\n",
      "done\n",
      "stop\n",
      "stop\n",
      "end of function!!!\n",
      "end of function!!!\n"
     ]
    }
   ],
   "source": [
    "from __future__ import print_function\n",
    "from os import listdir,mkdir,makedirs\n",
    "from os.path import isfile, join, isdir,exists\n",
    "import pandas as pd\n",
    "import numpy as np\n",
    "from scipy import stats\n",
    "import re\n",
    "import matplotlib.pyplot as plt\n",
    "from matplotlib.backends.backend_pdf import PdfPages\n",
    "from myplots import roundup, rounddown, find_decimal_fold, percentile_cut_off, rarefaction_calc, rarefaction_plot,draw_correlation_scatter\n",
    "from matplotlib.ticker import FormatStrFormatter\n",
    "import cPickle as pickle\n",
    "from Bio.SeqUtils import GC\n",
    "import seaborn as sns\n",
    "import random\n",
    "from scipy.stats import pearsonr,fisher_exact\n",
    "from skbio.diversity.alpha import shannon, simpson, berger_parker_d\n",
    "\n",
    "from pop_organize import get_sample_data, get_sample_with_dfs\n",
    "from SufficientStatistics import *\n",
    "from MyFunctionsShani import *\n",
    "import math\n",
    "from myplots import roundup, rounddown, find_decimal_fold\n",
    "from skbio.stats.distance import mantel\n",
    "from scipy.spatial.distance import braycurtis, pdist, euclidean\n",
    "\n",
    "\n",
    "from GeneralFeaturePhenotypeInteractions.Feature_phenotype_functions import * \n",
    "from TCR_microbiome_interactions.TCR_microbiome_interactions_functions import *\n",
    "from TCR_microbiome_interactions.TCR_microbiome_interactions_functions2 import *\n",
    "from SampleLists.SampleFileFunctions import *\n",
    "from PhenotypicData.PhenotypeGenerationFunctions import *\n",
    "from CardioProject.CardioFunctions import *\n",
    "from PredictionPipeline.PredictionFunctions import *\n",
    "from TCR_feature_generation.SubsamplingFunctions import *\n",
    "from TCR_feature_generation.SequenceClusteringModule import *\n",
    "\n",
    "import os\n",
    "from Utils import cacheOnDisk\n",
    "from SegalQueue.qp import qp,fakeqp\n",
    "from addloglevels import sethandlers\n",
    "\n",
    "#ML imports:\n",
    "from xgboost import XGBClassifier\n",
    "import lightgbm as lgb\n",
    "from collections import OrderedDict, Counter\n",
    "from sklearn.model_selection import GroupKFold,StratifiedKFold, KFold\n",
    "import statsmodels.formula.api as sm\n",
    "from sklearn.linear_model import LogisticRegression, LinearRegression\n",
    "import shap\n",
    "from sklearn import metrics, preprocessing\n",
    "from sklearn.svm import LinearSVC\n",
    "from sklearn.feature_selection import SelectFromModel,SelectKBest,chi2,mutual_info_classif,f_classif\n",
    "from sklearn.naive_bayes import GaussianNB\n",
    "from sklearn.metrics import *\n",
    "\n",
    "from Levenshtein import distance as levdist\n",
    "from scipy.spatial.distance import pdist, squareform\n",
    "\n",
    "MyPath='/net/mraid08/export/genie/Lab/Personal/ShaniBAF'\n",
    "\n",
    "with open('/net/mraid08/export/genie/Lab/Personal/ShaniBAF/Sample files/BD lists/PNP530','rb') as fp:\n",
    "    PNP530=pickle.load(fp)\n",
    "with open('/net/mraid08/export/genie/Lab/Personal/ShaniBAF/Sample files/BD lists/Cardio126','rb') as fp:\n",
    "    Cardio126=pickle.load(fp)\n",
    "PNP530Cardio126=PNP530+Cardio126\n"
   ]
  },
  {
   "cell_type": "code",
   "execution_count": 2,
   "metadata": {
    "ExecuteTime": {
     "end_time": "2019-01-12T20:23:22.075611Z",
     "start_time": "2019-01-12T20:23:22.066122Z"
    }
   },
   "outputs": [
    {
     "data": {
      "text/plain": [
       "'12012019'"
      ]
     },
     "execution_count": 2,
     "metadata": {},
     "output_type": "execute_result"
    }
   ],
   "source": [
    "import time\n",
    "cdate=str(time.strftime(\"%d%m%Y\"))\n",
    "cdate"
   ]
  },
  {
   "cell_type": "markdown",
   "metadata": {},
   "source": [
    "# generate interesting samplelists:"
   ]
  },
  {
   "cell_type": "markdown",
   "metadata": {},
   "source": [
    "## old males"
   ]
  },
  {
   "cell_type": "code",
   "execution_count": null,
   "metadata": {
    "ExecuteTime": {
     "end_time": "2018-12-30T14:38:49.596440Z",
     "start_time": "2018-12-30T14:38:49.493585Z"
    }
   },
   "outputs": [],
   "source": [
    "f1='%s/TCR_real_data/predictions2/TargetDFs/PNP530Cardio126_AgeGender.xlsx' %MyPath\n",
    "PNP530Cardio126_AgeGender=pd.read_excel(f1).set_index('BD')\n",
    "\n",
    "print (PNP530Cardio126_AgeGender.shape)\n",
    "PNP530Cardio126_AgeGender.head()\n"
   ]
  },
  {
   "cell_type": "code",
   "execution_count": null,
   "metadata": {
    "ExecuteTime": {
     "end_time": "2018-12-30T14:41:20.334489Z",
     "start_time": "2018-12-30T14:41:20.304587Z"
    }
   },
   "outputs": [],
   "source": [
    "PNP530Cardio126_AgeGender['cohort']=np.where((PNP530Cardio126_AgeGender.index.str.replace('BD','').astype(int)) > 949,1,0)\n",
    "PNP530Cardio126_AgeGender.tail()"
   ]
  },
  {
   "cell_type": "markdown",
   "metadata": {},
   "source": [
    "### check the desired age range to find groups with balanced age"
   ]
  },
  {
   "cell_type": "code",
   "execution_count": null,
   "metadata": {
    "ExecuteTime": {
     "end_time": "2018-12-30T14:48:09.738613Z",
     "start_time": "2018-12-30T14:48:09.338646Z"
    }
   },
   "outputs": [],
   "source": [
    "fig,ax=plt.subplots()\n",
    "dataList=[]\n",
    "groups= PNP530Cardio126_AgeGender.groupby('cohort')\n",
    "for name,group in groups:\n",
    "    tup=tuple([name,group['Age'].dropna().tolist() ])\n",
    "    dataList.append(tup)\n",
    "# print (dataList)\n",
    "title=''\n",
    "\n",
    "plotHistComprison(dataList,ax,title,showLegend=True,nBins=20,toAnnotate=True,alpha=None,plotType='hist')\n",
    "\n",
    "plt.show()"
   ]
  },
  {
   "cell_type": "code",
   "execution_count": null,
   "metadata": {
    "ExecuteTime": {
     "end_time": "2018-12-30T14:52:39.240838Z",
     "start_time": "2018-12-30T14:52:39.229401Z"
    }
   },
   "outputs": [],
   "source": [
    "PNP530Cardio126_AgeGender_oldMales=PNP530Cardio126_AgeGender[(PNP530Cardio126_AgeGender['Gender_Male']==1) & (PNP530Cardio126_AgeGender['Age']>45) & (PNP530Cardio126_AgeGender['Age']<70)]"
   ]
  },
  {
   "cell_type": "code",
   "execution_count": null,
   "metadata": {
    "ExecuteTime": {
     "end_time": "2018-12-30T14:52:40.622656Z",
     "start_time": "2018-12-30T14:52:40.221853Z"
    }
   },
   "outputs": [],
   "source": [
    "fig,ax=plt.subplots()\n",
    "dataList=[]\n",
    "groups= PNP530Cardio126_AgeGender_oldMales.groupby('cohort')\n",
    "for name,group in groups:\n",
    "    tup=tuple([name,group['Age'].dropna().tolist() ])\n",
    "    print (name, len(group['Age'].dropna().tolist()))\n",
    "    dataList.append(tup)\n",
    "# print (dataList)\n",
    "title=''\n",
    "\n",
    "plotHistComprison(dataList,ax,title,showLegend=True,nBins=20,toAnnotate=True,alpha=None,plotType='hist')\n",
    "\n",
    "plt.show()"
   ]
  },
  {
   "cell_type": "markdown",
   "metadata": {},
   "source": [
    "*** conclusion ***\n",
    "\n",
    "when taking only males aged 45-70 (not including) - the age distributions are balanced according to ttest and KS test (57 samples for controls, 93 samples for patients, mean age controls=57.6\n",
    "mean age patients= 59.4"
   ]
  },
  {
   "cell_type": "markdown",
   "metadata": {},
   "source": [
    "### take out relatives:"
   ]
  },
  {
   "cell_type": "code",
   "execution_count": null,
   "metadata": {
    "ExecuteTime": {
     "end_time": "2018-12-30T15:08:25.347058Z",
     "start_time": "2018-12-30T15:08:25.263612Z"
    }
   },
   "outputs": [],
   "source": [
    "# get relative info:\n",
    "f2='%s/Sample files/PNP530-relationships.xlsx' %MyPath\n",
    "PNP530_relationships=pd.read_excel(f2)\n",
    "print (PNP530_relationships.shape)\n",
    "PNP530_relationships.head()"
   ]
  },
  {
   "cell_type": "code",
   "execution_count": null,
   "metadata": {
    "ExecuteTime": {
     "end_time": "2018-12-30T15:15:50.460109Z",
     "start_time": "2018-12-30T15:15:50.451747Z"
    }
   },
   "outputs": [],
   "source": [
    "#get all relatives (blood or household)\n",
    "RelativeTable=PNP530_relationships[PNP530_relationships['is relative in PNP515?']==1].set_index('BD')\n",
    "print (RelativeTable.shape)"
   ]
  },
  {
   "cell_type": "code",
   "execution_count": null,
   "metadata": {
    "ExecuteTime": {
     "end_time": "2018-12-30T15:14:05.611806Z",
     "start_time": "2018-12-30T15:14:05.602217Z"
    }
   },
   "outputs": [],
   "source": [
    "' BD121' in RelativeTable.Relative"
   ]
  },
  {
   "cell_type": "markdown",
   "metadata": {},
   "source": [
    "#### define function:"
   ]
  },
  {
   "cell_type": "markdown",
   "metadata": {},
   "source": [
    "the function drop_relatives was copied to SampleFileFunctions.py"
   ]
  },
  {
   "cell_type": "code",
   "execution_count": null,
   "metadata": {
    "ExecuteTime": {
     "end_time": "2018-12-30T15:26:40.536871Z",
     "start_time": "2018-12-30T15:26:40.520616Z"
    }
   },
   "outputs": [],
   "source": [
    "def drop_relatives(df,onlyBloodRels=False):\n",
    "    \n",
    "    #df index should be BD numbers!\n",
    "    \n",
    "    f2='%s/Sample files/PNP530-relationships.xlsx' %MyPath\n",
    "    PNP530_relationships=pd.read_excel(f2)\n",
    "    samplesToDrop=[]\n",
    "    \n",
    "    if onlyBloodRels:\n",
    "        RelativeTable=PNP530_relationships[(PNP530_relationships['is relative in PNP515?']==1) & (PNP530_relationships['BloodGroup'].notnull())].set_index('BD')\n",
    "    else:\n",
    "        RelativeTable=PNP530_relationships[PNP530_relationships['is relative in PNP515?']==1].set_index('BD')\n",
    "\n",
    "    for sample in df.index:\n",
    "    #     print (sample[0])\n",
    "        if sample in RelativeTable.index.tolist() and sample not in samplesToDrop:\n",
    "            sample2=RelativeTable.loc[sample,'Relative']\n",
    "            if sample2 in df.index.tolist():\n",
    "#                 print ('dropping' , sample, sample2)\n",
    "                samplesToDrop.append(sample2)\n",
    "\n",
    "#     print (samplesToDrop)\n",
    "    return samplesToDrop"
   ]
  },
  {
   "cell_type": "markdown",
   "metadata": {},
   "source": [
    "#### check function on all samples:"
   ]
  },
  {
   "cell_type": "code",
   "execution_count": null,
   "metadata": {
    "ExecuteTime": {
     "end_time": "2018-12-30T15:26:42.661677Z",
     "start_time": "2018-12-30T15:26:42.598978Z"
    }
   },
   "outputs": [],
   "source": [
    "df=PNP530Cardio126_AgeGender\n",
    "onlyBloodRels=False\n",
    "\n",
    "print (len(PNP530Cardio126_AgeGender[PNP530Cardio126_AgeGender['cohort']==0]))\n",
    "\n",
    "samplesToDrop=drop_relatives(df,onlyBloodRels)\n",
    "          \n",
    "print (len(samplesToDrop))"
   ]
  },
  {
   "cell_type": "code",
   "execution_count": null,
   "metadata": {
    "ExecuteTime": {
     "end_time": "2018-12-30T15:26:55.519781Z",
     "start_time": "2018-12-30T15:26:55.433802Z"
    }
   },
   "outputs": [],
   "source": [
    "df=PNP530Cardio126_AgeGender\n",
    "onlyBloodRels=True\n",
    "\n",
    "print (len(PNP530Cardio126_AgeGender[PNP530Cardio126_AgeGender['cohort']==0]))\n",
    "\n",
    "samplesToDrop=drop_relatives(df,onlyBloodRels)\n",
    "          \n",
    "print (len(samplesToDrop))"
   ]
  },
  {
   "cell_type": "markdown",
   "metadata": {},
   "source": [
    "#### check if there are relatives amond 'old_male' samples:\n",
    "couldn't find relatives. no sample to drop!"
   ]
  },
  {
   "cell_type": "code",
   "execution_count": null,
   "metadata": {
    "ExecuteTime": {
     "end_time": "2018-12-30T15:26:41.837083Z",
     "start_time": "2018-12-30T15:26:41.792555Z"
    }
   },
   "outputs": [],
   "source": [
    "df=PNP530Cardio126_AgeGender_oldMales\n",
    "onlyBloodRels=False\n",
    "\n",
    "drop_relatives(df,onlyBloodRels)"
   ]
  },
  {
   "cell_type": "markdown",
   "metadata": {},
   "source": [
    "### save old male samples:"
   ]
  },
  {
   "cell_type": "code",
   "execution_count": null,
   "metadata": {
    "ExecuteTime": {
     "end_time": "2018-12-30T15:36:50.305127Z",
     "start_time": "2018-12-30T15:36:50.288197Z"
    }
   },
   "outputs": [],
   "source": [
    "\n",
    "\n",
    "PNP530_balancedAge_males=PNP530Cardio126_AgeGender_oldMales[PNP530Cardio126_AgeGender_oldMales['cohort']==0].index.tolist()\n",
    "print (len(PNP530_balancedAge_males))\n",
    "print (PNP530_balancedAge_males[:5])\n",
    "\n",
    "with open('/net/mraid08/export/genie/Lab/Personal/ShaniBAF/Sample files/BD lists/PNP530_balancedAge_males','wb') as fp:\n",
    "    pickle.dump(PNP530_balancedAge_males,fp)\n"
   ]
  },
  {
   "cell_type": "code",
   "execution_count": null,
   "metadata": {
    "ExecuteTime": {
     "end_time": "2018-12-30T15:38:00.464968Z",
     "start_time": "2018-12-30T15:38:00.448855Z"
    }
   },
   "outputs": [],
   "source": [
    "Cardio126_balancedAge_males=PNP530Cardio126_AgeGender_oldMales[PNP530Cardio126_AgeGender_oldMales['cohort']==1].index.tolist()\n",
    "print (len(Cardio126_balancedAge_males))\n",
    "print (Cardio126_balancedAge_males[:5])\n",
    "\n",
    "with open('/net/mraid08/export/genie/Lab/Personal/ShaniBAF/Sample files/BD lists/Cardio126_balancedAge_males','wb') as fp:\n",
    "    pickle.dump(Cardio126_balancedAge_males,fp)"
   ]
  },
  {
   "cell_type": "markdown",
   "metadata": {},
   "source": [
    "## top20 vs bottom20 for interesting continous phenotypes:"
   ]
  },
  {
   "cell_type": "code",
   "execution_count": null,
   "metadata": {
    "ExecuteTime": {
     "end_time": "2018-12-31T22:02:09.273846Z",
     "start_time": "2018-12-31T22:02:09.138612Z"
    }
   },
   "outputs": [],
   "source": [
    "phen_list=['GRACEScore','MaximalTroponin','Age']\n",
    "\n",
    "for phen in phen_list:\n",
    "    f1='/net/mraid08/export/genie/Lab/Personal/ShaniBAF/TCR_real_data/CardioSamples/phenotypicData/%s.xlsx' %phen\n",
    "    phenDF=pd.read_excel(f1).set_index('BD').sort_values(by=phen)\n",
    "    bottom20samples=phenDF[:20].index.tolist()\n",
    "    top20samples=phenDF[-20:].index.tolist()\n",
    "    \n",
    "    with open('/net/mraid08/export/genie/Lab/Personal/ShaniBAF/Sample files/BD lists/Cardio126_bottom20%s' %phen,'wb') as fp:\n",
    "        pickle.dump(bottom20samples,fp)\n",
    "    with open('/net/mraid08/export/genie/Lab/Personal/ShaniBAF/Sample files/BD lists/Cardio126_top20%s' %phen,'wb') as fp:\n",
    "        pickle.dump(top20samples,fp)\n",
    "    \n",
    "    print (phen)\n",
    "    print (len(bottom20samples))\n",
    "    print ('max value of bottom group: ',phenDF.iloc[20,0] )\n",
    "    print (len(top20samples))\n",
    "    print ('min value of top group: ',phenDF.iloc[-20,0] )\n"
   ]
  },
  {
   "cell_type": "markdown",
   "metadata": {},
   "source": [
    "## top30 vs bottom30 for interesting continous phenotypes:"
   ]
  },
  {
   "cell_type": "code",
   "execution_count": null,
   "metadata": {
    "ExecuteTime": {
     "end_time": "2019-01-09T07:35:53.072760Z",
     "start_time": "2019-01-09T07:35:52.953314Z"
    }
   },
   "outputs": [],
   "source": [
    "phen_list=['GRACEScore','MaximalTroponin','Age']\n",
    "\n",
    "for phen in phen_list:\n",
    "    f1='/net/mraid08/export/genie/Lab/Personal/ShaniBAF/TCR_real_data/CardioSamples/phenotypicData/%s.xlsx' %phen\n",
    "    phenDF=pd.read_excel(f1).set_index('BD').sort_values(by=phen)\n",
    "    bottom30samples=phenDF[:30].index.tolist()\n",
    "    top30samples=phenDF[-30:].index.tolist()\n",
    "    \n",
    "    with open('/net/mraid08/export/genie/Lab/Personal/ShaniBAF/Sample files/BD lists/Cardio126_bottom30%s' %phen,'wb') as fp:\n",
    "        pickle.dump(bottom30samples,fp)\n",
    "    with open('/net/mraid08/export/genie/Lab/Personal/ShaniBAF/Sample files/BD lists/Cardio126_top30%s' %phen,'wb') as fp:\n",
    "        pickle.dump(top30samples,fp)\n",
    "    \n",
    "    print (phen)\n",
    "    print (len(bottom30samples))\n",
    "    print ('max value of bottom group: ',phenDF.iloc[30,0] )\n",
    "    print (len(top30samples))\n",
    "    print ('min value of top group: ',phenDF.iloc[-30,0] )\n"
   ]
  },
  {
   "cell_type": "markdown",
   "metadata": {},
   "source": [
    "## ostial cx disease:"
   ]
  },
  {
   "cell_type": "code",
   "execution_count": null,
   "metadata": {
    "ExecuteTime": {
     "end_time": "2018-12-30T17:05:31.621068Z",
     "start_time": "2018-12-30T17:05:31.375338Z"
    }
   },
   "outputs": [],
   "source": [
    "f1='/net/mraid08/export/genie/Lab/Personal/ShaniBAF/TCR_real_data/CardioSamples/phenotypicData/OstialCXDisease.xlsx'\n",
    "OstialCXDisease=pd.read_excel(f1).set_index('BD')\n",
    "\n",
    "OstialCXDisease.head()\n",
    "\n",
    "ostial0samples=OstialCXDisease[OstialCXDisease['OstialCXDisease']==0].index.tolist()\n",
    "ostial234samples=OstialCXDisease[OstialCXDisease['OstialCXDisease']>1].index.tolist()\n",
    "\n",
    "with open('/net/mraid08/export/genie/Lab/Personal/ShaniBAF/Sample files/BD lists/ostial0samples','wb') as fp:\n",
    "    pickle.dump(ostial0samples,fp)\n",
    "with open('/net/mraid08/export/genie/Lab/Personal/ShaniBAF/Sample files/BD lists/ostial234samples' ,'wb') as fp:\n",
    "    pickle.dump(ostial234samples,fp)\n",
    "\n",
    "# print (len(ostial0samples))\n",
    "# print (ostial0samples[:5])\n",
    "\n",
    "# print (len(ostial234samples))\n",
    "# print (ostial234samples[:5])"
   ]
  },
  {
   "cell_type": "markdown",
   "metadata": {},
   "source": [
    "## binary phenotypes:"
   ]
  },
  {
   "cell_type": "code",
   "execution_count": null,
   "metadata": {
    "ExecuteTime": {
     "end_time": "2019-01-03T09:19:11.743201Z",
     "start_time": "2019-01-03T09:19:11.481207Z"
    }
   },
   "outputs": [],
   "source": [
    "f1='/net/mraid08/export/genie/Lab/Personal/ShaniBAF/TCR_real_data/CardioSamples/phenotypicData/Cardio126phenAllInfo.xlsx'\n",
    "phenDF=pd.read_excel(f1).set_index('BD')\n",
    "\n",
    "phenDF.columns.tolist()"
   ]
  },
  {
   "cell_type": "code",
   "execution_count": null,
   "metadata": {
    "ExecuteTime": {
     "end_time": "2019-01-03T15:03:49.242631Z",
     "start_time": "2019-01-03T15:03:48.653794Z"
    }
   },
   "outputs": [],
   "source": [
    "f2='/net/mraid08/export/genie/Lab/Personal/ShaniBAF/TCR_real_data/CardioSamples/phenotypicData/Gender_Male.xlsx'\n",
    "phenDF=phenDF.rename(columns={'Gender':'Gender_Male'})\n",
    "phenDF['Gender_Male'].to_excel(f2)"
   ]
  },
  {
   "cell_type": "code",
   "execution_count": null,
   "metadata": {
    "ExecuteTime": {
     "end_time": "2019-01-10T15:41:23.183021Z",
     "start_time": "2019-01-10T15:41:22.979297Z"
    }
   },
   "outputs": [],
   "source": [
    "phen_list=['AdmissionDiagnosismapped_STEMI','ChiefComplaintmapped_anginalpain','DischargeClopidogrel','ChiefComplaintmapped_anginalpain','KnownCAD','Gender_Male']\n",
    "\n",
    "for phen in phen_list:\n",
    "    print (phen)\n",
    "\n",
    "    f1='/net/mraid08/export/genie/Lab/Personal/ShaniBAF/TCR_real_data/CardioSamples/phenotypicData/%s.xlsx' %phen\n",
    "    df=pd.read_excel(f1).set_index('BD')\n",
    "\n",
    "    df.head()\n",
    "    \n",
    "    if phen=='Gender_Male':\n",
    "        df0samples=df[df[phen]==2].index.tolist()\n",
    "    else:\n",
    "        df0samples=df[df[phen]==0].index.tolist()\n",
    "    df1samples=df[df[phen]==1].index.tolist()\n",
    "\n",
    "    with open('/net/mraid08/export/genie/Lab/Personal/ShaniBAF/Sample files/BD lists/%s0samples' %phen,'wb') as fp:\n",
    "        pickle.dump(df0samples,fp)\n",
    "    with open('/net/mraid08/export/genie/Lab/Personal/ShaniBAF/Sample files/BD lists/%s1samples' %phen ,'wb') as fp:\n",
    "        pickle.dump(df1samples,fp)\n",
    "\n",
    "    print (len(df0samples))\n",
    "    print (df0samples[:5])\n",
    "\n",
    "    print (len(df1samples))\n",
    "    print (df1samples[:5])"
   ]
  },
  {
   "cell_type": "code",
   "execution_count": null,
   "metadata": {},
   "outputs": [],
   "source": []
  },
  {
   "cell_type": "markdown",
   "metadata": {},
   "source": [
    "## PCI_LVEF_CVA_CABG phenotypes:"
   ]
  },
  {
   "cell_type": "code",
   "execution_count": null,
   "metadata": {
    "ExecuteTime": {
     "end_time": "2019-01-07T11:25:27.739617Z",
     "start_time": "2019-01-07T11:25:27.675676Z"
    }
   },
   "outputs": [],
   "source": [
    "f1='/net/mraid08/export/genie/Lab/Personal/ShaniBAF/TCR_real_data/CardioSamples/phenotypicData/PCI_LVEF_CVA_CABG.xlsx'\n",
    "PCI_LVEF_CVA_CABG=pd.read_excel(f1).set_index('BD')\n",
    "\n",
    "PCI_LVEF_CVA_CABG.columns.tolist()"
   ]
  },
  {
   "cell_type": "code",
   "execution_count": null,
   "metadata": {
    "ExecuteTime": {
     "end_time": "2019-01-07T11:14:34.655953Z",
     "start_time": "2019-01-07T11:14:34.558824Z"
    }
   },
   "outputs": [],
   "source": [
    "for phen in PCI_LVEF_CVA_CABG.columns.tolist():\n",
    "    print (phen)\n",
    "\n",
    "    df=pd.DataFrame(PCI_LVEF_CVA_CABG[phen])\n",
    "\n",
    "    df.head()\n",
    "    \n",
    "    df0samples=df[df[phen]==0].index.tolist()\n",
    "    df1samples=df[df[phen]==1].index.tolist()\n",
    "\n",
    "    with open('/net/mraid08/export/genie/Lab/Personal/ShaniBAF/Sample files/BD lists/%s0samples' %phen,'wb') as fp:\n",
    "        pickle.dump(df0samples,fp)\n",
    "    with open('/net/mraid08/export/genie/Lab/Personal/ShaniBAF/Sample files/BD lists/%s1samples' %phen ,'wb') as fp:\n",
    "        pickle.dump(df1samples,fp)\n",
    "\n",
    "    print (len(df0samples))\n",
    "    print (df0samples[:5])\n",
    "\n",
    "    print (len(df1samples))\n",
    "    print (df1samples[:5])"
   ]
  },
  {
   "cell_type": "markdown",
   "metadata": {},
   "source": [
    "## PCI:"
   ]
  },
  {
   "cell_type": "code",
   "execution_count": null,
   "metadata": {
    "ExecuteTime": {
     "end_time": "2019-01-07T18:51:27.237439Z",
     "start_time": "2019-01-07T18:51:27.205448Z"
    }
   },
   "outputs": [],
   "source": [
    "PCI=pd.DataFrame(PCI_LVEF_CVA_CABG['PCI1_CABG_cont'])\n",
    "\n",
    "\n",
    "PCI0samples=PCI[PCI['PCI1_CABG_cont']==0].index.tolist()\n",
    "PCI2345samples=PCI[PCI['PCI1_CABG_cont']>1].index.tolist()\n",
    "\n",
    "with open('/net/mraid08/export/genie/Lab/Personal/ShaniBAF/Sample files/BD lists/PCI0samples','wb') as fp:\n",
    "    pickle.dump(PCI0samples,fp)\n",
    "with open('/net/mraid08/export/genie/Lab/Personal/ShaniBAF/Sample files/BD lists/PCI2345samples' ,'wb') as fp:\n",
    "    pickle.dump(PCI2345samples,fp)\n",
    "\n",
    "print (len(PCI0samples))\n",
    "print (PCI0samples[:5])\n",
    "\n",
    "print (len(PCI2345samples))\n",
    "print (PCI2345samples[:5])"
   ]
  },
  {
   "cell_type": "markdown",
   "metadata": {},
   "source": [
    "## LVEF:"
   ]
  },
  {
   "cell_type": "code",
   "execution_count": null,
   "metadata": {
    "ExecuteTime": {
     "end_time": "2018-12-30T17:30:37.960805Z",
     "start_time": "2018-12-30T17:30:37.915073Z"
    }
   },
   "outputs": [],
   "source": [
    "f1='/net/mraid08/export/genie/Lab/Personal/ShaniBAF/TCR_real_data/CardioSamples/phenotypicData/LVEF.xlsx'\n",
    "LVEF=pd.read_excel(f1).set_index('BD')\n",
    "\n",
    "LVEF.head()\n",
    "\n",
    "LVEF0samples=LVEF[LVEF['LVEF']==0].index.tolist()\n",
    "LVEF23samples=LVEF[(LVEF['LVEF']==2) |(LVEF['LVEF']==3) ].index.tolist()\n",
    "\n",
    "with open('/net/mraid08/export/genie/Lab/Personal/ShaniBAF/Sample files/BD lists/LVEF0samples','wb') as fp:\n",
    "    pickle.dump(LVEF0samples,fp)\n",
    "with open('/net/mraid08/export/genie/Lab/Personal/ShaniBAF/Sample files/BD lists/LVEF23samples' ,'wb') as fp:\n",
    "    pickle.dump(LVEF23samples,fp)\n",
    "\n",
    "print (len(LVEF0samples))\n",
    "print (LVEF0samples[:5])\n",
    "\n",
    "print (len(LVEF23samples))\n",
    "print (LVEF23samples[:5])"
   ]
  },
  {
   "cell_type": "markdown",
   "metadata": {},
   "source": [
    "## GLUCOSE DISORDER"
   ]
  },
  {
   "cell_type": "code",
   "execution_count": null,
   "metadata": {
    "ExecuteTime": {
     "end_time": "2018-12-30T17:32:22.616921Z",
     "start_time": "2018-12-30T17:32:18.781987Z"
    }
   },
   "outputs": [],
   "source": [
    "f1='/net/mraid08/export/genie/Lab/Personal/ShaniBAF/TCR_real_data/CardioSamples/phenotypicData/GlucoseDisorder.xlsx'\n",
    "GlucoseDisorder=pd.read_excel(f1).set_index('BD')\n",
    "\n",
    "GlucoseDisorder.head()\n",
    "\n",
    "GlucoseDisorder0samples=GlucoseDisorder[GlucoseDisorder['GlucoseDisorder']==0].index.tolist()\n",
    "GlucoseDisorder2samples=GlucoseDisorder[GlucoseDisorder['GlucoseDisorder']==2].index.tolist()\n",
    "\n",
    "with open('/net/mraid08/export/genie/Lab/Personal/ShaniBAF/Sample files/BD lists/GlucoseDisorder0samples','wb') as fp:\n",
    "    pickle.dump(GlucoseDisorder0samples,fp)\n",
    "with open('/net/mraid08/export/genie/Lab/Personal/ShaniBAF/Sample files/BD lists/GlucoseDisorder2samples' ,'wb') as fp:\n",
    "    pickle.dump(GlucoseDisorder2samples,fp)\n",
    "\n",
    "print (len(GlucoseDisorder0samples))\n",
    "print (GlucoseDisorder0samples[:5])\n",
    "\n",
    "print (len(GlucoseDisorder2samples))\n",
    "print (GlucoseDisorder2samples[:5])"
   ]
  },
  {
   "cell_type": "markdown",
   "metadata": {},
   "source": [
    "## random sample list for the paper phenotypes:"
   ]
  },
  {
   "cell_type": "markdown",
   "metadata": {},
   "source": [
    "### binary:"
   ]
  },
  {
   "cell_type": "code",
   "execution_count": null,
   "metadata": {
    "ExecuteTime": {
     "end_time": "2019-01-10T15:52:00.078370Z",
     "start_time": "2019-01-10T15:51:59.973152Z"
    }
   },
   "outputs": [],
   "source": [
    "phen_list=['ChiefComplaintmapped_anginalpain','DischargeClopidogrel','PCI1_CABG']\n",
    "for phen in phen_list:\n",
    "    print (phen)\n",
    "\n",
    "    f1='/net/mraid08/export/genie/Lab/Personal/ShaniBAF/TCR_real_data/CardioSamples/phenotypicData/%s.xlsx' %phen\n",
    "    df=pd.read_excel(f1).set_index('BD')\n",
    "\n",
    "    df.head()\n",
    "    \n",
    "    if phen=='Gender_Male':\n",
    "        df0samples=df[df[phen]==2].index.tolist()\n",
    "    else:\n",
    "        df0samples=df[df[phen]==0].index.tolist()\n",
    "    df1samples=df[df[phen]==1].index.tolist()\n",
    "\n",
    "    print ('df0 length:',len(df0samples))\n",
    "#     print (df0samples[:5])\n",
    "\n",
    "    print ('df1 length:',len(df1samples))\n",
    "#     print (df1samples[:5])\n",
    "    \n",
    "    if len(df0samples)>len(df1samples):\n",
    "        df0samples=random.sample(df0samples,len(df1samples))\n",
    "    else:\n",
    "        df1samples=random.sample(df1samples,len(df0samples))\n",
    "        \n",
    "    print ('new length if df0 samples:',len(df0samples) )\n",
    "    print ('new length if df1 samples:',len(df1samples) )   \n",
    "    \n",
    "    with open('/net/mraid08/export/genie/Lab/Personal/ShaniBAF/Sample files/BD lists/%s0samples_reSampled2' %phen,'wb') as fp:\n",
    "        pickle.dump(df0samples,fp)\n",
    "    with open('/net/mraid08/export/genie/Lab/Personal/ShaniBAF/Sample files/BD lists/%s1samples_reSampled2' %phen ,'wb') as fp:\n",
    "        pickle.dump(df1samples,fp)\n",
    "    "
   ]
  },
  {
   "cell_type": "markdown",
   "metadata": {},
   "source": [
    "### ostial:"
   ]
  },
  {
   "cell_type": "code",
   "execution_count": null,
   "metadata": {
    "ExecuteTime": {
     "end_time": "2019-01-10T15:52:16.183106Z",
     "start_time": "2019-01-10T15:52:16.130089Z"
    }
   },
   "outputs": [],
   "source": [
    "phen_list=['OstialCXDisease']\n",
    "for phen in phen_list:\n",
    "    print (phen)\n",
    "\n",
    "    f1='/net/mraid08/export/genie/Lab/Personal/ShaniBAF/TCR_real_data/CardioSamples/phenotypicData/%s.xlsx' %phen\n",
    "    df=pd.read_excel(f1).set_index('BD')\n",
    "\n",
    "    df.head()\n",
    "    \n",
    "    if phen=='Gender_Male':\n",
    "        df0samples=df[df[phen]==2].index.tolist()\n",
    "    else:\n",
    "        df0samples=df[df[phen]==0].index.tolist()\n",
    "    df1samples=df[df[phen]==1].index.tolist()\n",
    "\n",
    "    print ('df0 length:',len(df0samples))\n",
    "#     print (df0samples[:5])\n",
    "\n",
    "    print ('df1 length:',len(df1samples))\n",
    "#     print (df1samples[:5])\n",
    "    \n",
    "    if len(df0samples)>len(df1samples):\n",
    "        df0samples=random.sample(df0samples,len(df1samples))\n",
    "    else:\n",
    "        df1samples=random.sample(df1samples,len(df0samples))\n",
    "        \n",
    "    print ('new length if df0 samples:',len(df0samples) )\n",
    "    print ('new length if df1 samples:',len(df1samples) )   \n",
    "    \n",
    "    with open('/net/mraid08/export/genie/Lab/Personal/ShaniBAF/Sample files/BD lists/ostial0samples_reSampled2','wb') as fp:\n",
    "        pickle.dump(df0samples,fp)\n",
    "    with open('/net/mraid08/export/genie/Lab/Personal/ShaniBAF/Sample files/BD lists/ostial234samples_reSampled2','wb') as fp:\n",
    "        pickle.dump(df1samples,fp)\n",
    "    "
   ]
  },
  {
   "cell_type": "markdown",
   "metadata": {},
   "source": [
    "# use fisher test to compare non-productive sequence cluster frequencies in patients and controls"
   ]
  },
  {
   "cell_type": "markdown",
   "metadata": {},
   "source": [
    "## get non-productive clusters and check them:"
   ]
  },
  {
   "cell_type": "code",
   "execution_count": null,
   "metadata": {
    "ExecuteTime": {
     "end_time": "2018-12-30T17:35:31.817835Z",
     "start_time": "2018-12-30T17:35:31.150084Z"
    }
   },
   "outputs": [],
   "source": [
    "f1='/net/mraid08/export/genie/Lab/Personal/ShaniBAF/TCR_real_data/PNP530Cardio126Combined/sharingAnalysis/seqClusters_allNonProd_maxdist1/sampleByClusterDF.dat'\n",
    "sampleByClusterDF_nonProd=pd.read_pickle(f1)\n",
    "print (sampleByClusterDF_nonProd.shape)\n",
    "print (sampleByClusterDF_nonProd.iloc[:4,:4])"
   ]
  },
  {
   "cell_type": "code",
   "execution_count": null,
   "metadata": {
    "ExecuteTime": {
     "end_time": "2018-12-30T17:35:34.521476Z",
     "start_time": "2018-12-30T17:35:34.229650Z"
    }
   },
   "outputs": [],
   "source": [
    "print (sampleByClusterDF_nonProd.count().min())\n",
    "print (sampleByClusterDF_nonProd.count().max())"
   ]
  },
  {
   "cell_type": "code",
   "execution_count": null,
   "metadata": {
    "ExecuteTime": {
     "end_time": "2018-12-30T17:35:36.024780Z",
     "start_time": "2018-12-30T17:35:35.869193Z"
    }
   },
   "outputs": [],
   "source": [
    "sampleByClusterDF_nonProd.loc[:,(sampleByClusterDF_nonProd.count()==65)].columns.tolist()"
   ]
  },
  {
   "cell_type": "markdown",
   "metadata": {},
   "source": [
    "### get all sequences in a cluster for a cluster head"
   ]
  },
  {
   "cell_type": "code",
   "execution_count": null,
   "metadata": {
    "ExecuteTime": {
     "end_time": "2018-12-30T17:35:37.439431Z",
     "start_time": "2018-12-30T17:35:37.378070Z"
    }
   },
   "outputs": [],
   "source": [
    "# get all sequences in a cluster for a cluster head\n",
    "levDistMatTotalNonProdFile='/net/mraid08/export/genie/Lab/Personal/ShaniBAF/TCR_real_data/PNP530Cardio126Combined/sharingAnalysis/seqClusters_allNonProd_maxdist1/levDistMatTotal.dat'\n",
    "levDistMatTotalNonProd=pd.read_pickle(levDistMatTotalNonProdFile)\n",
    "levDistMatTotalNonProd.head()"
   ]
  },
  {
   "cell_type": "code",
   "execution_count": null,
   "metadata": {
    "ExecuteTime": {
     "end_time": "2018-12-30T17:35:39.022118Z",
     "start_time": "2018-12-30T17:35:38.988503Z"
    }
   },
   "outputs": [],
   "source": [
    "clusterMatrix=levDistMatTotalNonProd.groupby(['seq1id','seq2id']).count()\n",
    "clusterMatrix.head()"
   ]
  },
  {
   "cell_type": "code",
   "execution_count": null,
   "metadata": {
    "ExecuteTime": {
     "end_time": "2018-12-30T17:35:40.788156Z",
     "start_time": "2018-12-30T17:35:40.615102Z"
    }
   },
   "outputs": [],
   "source": [
    "#get seqID matrix:\n",
    "f3='/net/mraid08/export/genie/Lab/Personal/ShaniBAF/TCR_real_data/PNP530Cardio126Combined/sharingAnalysis/seqClusters_allNonProd_maxdist1/seqID_nonProd.dat'\n",
    "seqID=pd.read_pickle(f3)\n",
    "seqID.head()"
   ]
  },
  {
   "cell_type": "code",
   "execution_count": null,
   "metadata": {
    "ExecuteTime": {
     "end_time": "2018-12-30T17:35:42.496149Z",
     "start_time": "2018-12-30T17:35:42.376768Z"
    }
   },
   "outputs": [],
   "source": [
    "print ('replacing seqIDs with real sequences...')\n",
    "clusterMatrix_2=clusterMatrix.reset_index()\n",
    "clusterMatrix_seqs=pd.merge(clusterMatrix_2,pd.DataFrame(seqID),how='left',left_on='seq2id',right_index=True).rename(columns={'seq':'seq2'})\n",
    "clusterMatrix_seqs=pd.merge(clusterMatrix_seqs,pd.DataFrame(seqID),how='left',left_on='seq1id',right_index=True).rename(columns={'seq':'seq1'})\n",
    "# clusterMatrix_seqs=clusterMatrix_seqs.drop(['seq1id','seq2id'],axis=1)\n",
    "clusterMatrix_seqs.head()"
   ]
  },
  {
   "cell_type": "code",
   "execution_count": null,
   "metadata": {
    "ExecuteTime": {
     "end_time": "2018-12-30T17:35:44.323501Z",
     "start_time": "2018-12-30T17:35:44.232309Z"
    }
   },
   "outputs": [],
   "source": [
    "clusterMatrix_seqs_groupByHeadID=clusterMatrix_seqs.groupby(['seq1id','seq1','seq2']).count()\n",
    "clusterMatrix_seqs_groupByHeadID.head()"
   ]
  },
  {
   "cell_type": "code",
   "execution_count": null,
   "metadata": {
    "ExecuteTime": {
     "end_time": "2018-12-30T17:40:52.346401Z",
     "start_time": "2018-12-30T17:40:52.337138Z"
    }
   },
   "outputs": [],
   "source": [
    "def get_cluster_seqeunces_per_clusterheadID(head,isSeq=True):\n",
    "    \n",
    "    if isSeq: \n",
    "        level='seq1id'\n",
    "        clusterMatrix_seqs_groupByHeadID=clusterMatrix_seqs.groupby(['seq1','seq1id','seq2']).count()\n",
    "    else:\n",
    "        level='seq1'\n",
    "        clusterMatrix_seqs_groupByHeadID=clusterMatrix_seqs.groupby(['seq1id','seq1','seq2']).count()\n",
    "        \n",
    "    clusterhead=clusterMatrix_seqs_groupByHeadID.loc[head,:].index.get_level_values(level)[0]\n",
    "    seqs=clusterMatrix_seqs_groupByHeadID.loc[head,:].index.get_level_values('seq2').tolist()\n",
    "    \n",
    "    return clusterhead, seqs"
   ]
  },
  {
   "cell_type": "code",
   "execution_count": null,
   "metadata": {
    "ExecuteTime": {
     "end_time": "2018-12-30T17:35:49.006136Z",
     "start_time": "2018-12-30T17:35:48.924218Z"
    }
   },
   "outputs": [],
   "source": [
    "print (get_cluster_seqeunces_per_clusterheadID(12.0,False))"
   ]
  },
  {
   "cell_type": "code",
   "execution_count": null,
   "metadata": {
    "ExecuteTime": {
     "end_time": "2018-12-30T17:35:50.862952Z",
     "start_time": "2018-12-30T17:35:50.778870Z"
    }
   },
   "outputs": [],
   "source": [
    "print (get_cluster_seqeunces_per_clusterheadID('CASS**ETQYF'))"
   ]
  },
  {
   "cell_type": "code",
   "execution_count": null,
   "metadata": {
    "ExecuteTime": {
     "end_time": "2018-12-30T17:35:52.514044Z",
     "start_time": "2018-12-30T17:35:52.442810Z"
    }
   },
   "outputs": [],
   "source": [
    "print (get_cluster_seqeunces_per_clusterheadID(81155.0,False))"
   ]
  },
  {
   "cell_type": "markdown",
   "metadata": {},
   "source": [
    "## fisher test to compare nonProd clusters between patients and controls"
   ]
  },
  {
   "cell_type": "code",
   "execution_count": null,
   "metadata": {},
   "outputs": [],
   "source": [
    "the function compare_seq_clusters_between_populations was copied to SequenceClusteringModule.py"
   ]
  },
  {
   "cell_type": "code",
   "execution_count": null,
   "metadata": {},
   "outputs": [],
   "source": []
  },
  {
   "cell_type": "markdown",
   "metadata": {},
   "source": [
    "### run for all PNP vs cardio - non prod clusters"
   ]
  },
  {
   "cell_type": "code",
   "execution_count": null,
   "metadata": {
    "ExecuteTime": {
     "end_time": "2018-12-28T21:38:26.043590Z",
     "start_time": "2018-12-28T21:38:24.776440Z"
    }
   },
   "outputs": [],
   "source": [
    "sampleByClusterDF=sampleByClusterDF_nonProd\n",
    "sampleGroup1=PNP530\n",
    "sampleGroup1name='PNP530'\n",
    "sampleGroup2=Cardio126\n",
    "sampleGroup2name='Cardio126'\n",
    "output_dir='/net/mraid08/export/genie/Lab/Personal/ShaniBAF/TCR_real_data/PNP530Cardio126Combined/sharingAnalysis/seqClusters_allNonProd_maxdist1/Fisher_MW_comparisons/'\n",
    "\n",
    "results=compare_seq_clusters_between_populations(sampleByClusterDF,sampleGroup1,sampleGroup1name,sampleGroup2,sampleGroup2name,output_dir,percShared=0.05)"
   ]
  },
  {
   "cell_type": "markdown",
   "metadata": {},
   "source": [
    "### run for old males - non prod clusters"
   ]
  },
  {
   "cell_type": "code",
   "execution_count": null,
   "metadata": {
    "ExecuteTime": {
     "end_time": "2018-12-30T17:42:57.044377Z",
     "start_time": "2018-12-30T17:42:46.807978Z"
    }
   },
   "outputs": [],
   "source": [
    "with open('/net/mraid08/export/genie/Lab/Personal/ShaniBAF/Sample files/BD lists/PNP530_balancedAge_males','rb') as fp:\n",
    "    PNP530_balancedAge_males=pickle.load(fp)\n",
    "with open('/net/mraid08/export/genie/Lab/Personal/ShaniBAF/Sample files/BD lists/Cardio126_balancedAge_males','rb') as fp:\n",
    "    Cardio126_balancedAge_males=pickle.load(fp)\n",
    "\n",
    "sampleByClusterDF=sampleByClusterDF_nonProd\n",
    "sampleGroup1=PNP530_balancedAge_males\n",
    "sampleGroup1name='PNP530_balancedAge_males'\n",
    "sampleGroup2=Cardio126_balancedAge_males\n",
    "sampleGroup2name='Cardio126_balancedAge_males'\n",
    "output_dir='/net/mraid08/export/genie/Lab/Personal/ShaniBAF/TCR_real_data/PNP530Cardio126Combined/sharingAnalysis/seqClusters_allNonProd_maxdist1/Fisher_MW_comparisons/'\n",
    "\n",
    "results=compare_seq_clusters_between_populations(sampleByClusterDF,sampleGroup1,sampleGroup1name,sampleGroup2,sampleGroup2name,output_dir,percShared=0.05)"
   ]
  },
  {
   "cell_type": "markdown",
   "metadata": {},
   "source": [
    "### generate non-productive sequence matrix and run the analysis on it as well:"
   ]
  },
  {
   "cell_type": "code",
   "execution_count": null,
   "metadata": {
    "ExecuteTime": {
     "end_time": "2019-01-02T21:13:37.150913Z",
     "start_time": "2019-01-02T21:13:27.323738Z"
    }
   },
   "outputs": [],
   "source": [
    "f1='/net/mraid08/export/genie/Lab/Personal/ShaniBAF/TCR_real_data/PNP530Cardio126Combined/sharingAnalysis/AllUniqueWithCounts'\n",
    "AllUniqueWithCounts=pd.read_pickle(f1)\n",
    "AllUniqueWithCounts_nonProd=AllUniqueWithCounts[AllUniqueWithCounts['prod_stat']==0]\n",
    "sampleBySeqs_nonProd=AllUniqueWithCounts_nonProd[['prod_stat','Sample']].reset_index().rename(columns={'index':'seqeunce'}).groupby(['Sample','seqeunce'])['prod_stat'].count().unstack()\n",
    "print (sampleBySeqs_nonProd.shape)\n",
    "print (sampleBySeqs_nonProd.count().sort_values(ascending=False).head())"
   ]
  },
  {
   "cell_type": "code",
   "execution_count": null,
   "metadata": {
    "ExecuteTime": {
     "end_time": "2018-12-28T21:46:09.505997Z",
     "start_time": "2018-12-28T21:46:07.587940Z"
    }
   },
   "outputs": [],
   "source": [
    "print (sampleBySeqs_nonProd.count().sort_values(ascending=False).tail())"
   ]
  },
  {
   "cell_type": "code",
   "execution_count": null,
   "metadata": {
    "ExecuteTime": {
     "end_time": "2018-12-28T21:46:16.461464Z",
     "start_time": "2018-12-28T21:46:14.451351Z"
    }
   },
   "outputs": [],
   "source": [
    "sampleBySeqs_nonProd.info(memory_usage='deep')"
   ]
  },
  {
   "cell_type": "markdown",
   "metadata": {},
   "source": [
    "#### run for all PNP vs all Cardio"
   ]
  },
  {
   "cell_type": "code",
   "execution_count": null,
   "metadata": {},
   "outputs": [],
   "source": [
    "sampleByClusterDF=sampleBySeqs_nonProd\n",
    "\n",
    "print \n",
    "nShared_all=math.ceil(len(sampleByClusterDF) * percShared)\n",
    "print ('nShared_all= ',nShared_all)\n",
    "all_percClusters=sampleByClusterDF.loc[:,sampleByClusterDF.count()>=nShared_all].columns.tolist()"
   ]
  },
  {
   "cell_type": "code",
   "execution_count": null,
   "metadata": {
    "ExecuteTime": {
     "end_time": "2018-12-28T21:47:05.623247Z",
     "start_time": "2018-12-28T21:47:01.119925Z"
    }
   },
   "outputs": [],
   "source": [
    "sampleByClusterDF=sampleBySeqs_nonProd\n",
    "sampleGroup1=PNP530\n",
    "sampleGroup1name='PNP530_seqs'\n",
    "sampleGroup2=Cardio126\n",
    "sampleGroup2name='Cardio126_seqs'\n",
    "output_dir='/net/mraid08/export/genie/Lab/Personal/ShaniBAF/TCR_real_data/PNP530Cardio126Combined/sharingAnalysis/seqClusters_allNonProd_maxdist1/Fisher_MW_comparisons/'\n",
    "percShared=0.02\n",
    "\n",
    "results=compare_seq_clusters_between_populations(sampleByClusterDF,sampleGroup1,sampleGroup1name,sampleGroup2,sampleGroup2name,output_dir,percShared)"
   ]
  },
  {
   "cell_type": "markdown",
   "metadata": {},
   "source": [
    "# compare productive single sequences:"
   ]
  },
  {
   "cell_type": "markdown",
   "metadata": {},
   "source": [
    "## define wrapper function:"
   ]
  },
  {
   "cell_type": "code",
   "execution_count": null,
   "metadata": {
    "ExecuteTime": {
     "end_time": "2019-01-04T20:15:56.374061Z",
     "start_time": "2019-01-04T20:15:56.339377Z"
    }
   },
   "outputs": [],
   "source": [
    "def compare_seq_clusters_wrapper(sampleByClusterDF,sampleGroup1,sampleGroup1name,sampleGroup2,sampleGroup2name,output_dir,\n",
    "                                 percShared=0.05):\n",
    "    f1='%s/TCR_real_data/predictions2/TargetDFs/PNP530Cardio126_AgeGender.xlsx' %MyPath\n",
    "    PNP530Cardio126_AgeGender=pd.read_excel(f1).set_index('BD')\n",
    "\n",
    "    All=sampleGroup1+sampleGroup2\n",
    "\n",
    "    #calculate fisher and man-whitnney:\n",
    "    sampleByClusterDF=sampleByClusterDF.loc[All,:]\n",
    "\n",
    "    print ('starting...')\n",
    "    results=compare_seq_clusters_between_populations(sampleByClusterDF,sampleGroup1,sampleGroup1name,sampleGroup2,sampleGroup2name,output_dir,percShared=0.25)\n",
    "\n",
    "\\\n",
    "\n",
    "    # compare age distributions:\n",
    "    Age_sampleGroup1=PNP530Cardio126_AgeGender.loc[sampleGroup1,'Age'].dropna().tolist()\n",
    "    Age_sampleGroup2=PNP530Cardio126_AgeGender.loc[sampleGroup2,'Age'].dropna().tolist()\n",
    "    dataList=[(sampleGroup1name,Age_sampleGroup1),(sampleGroup2name,Age_sampleGroup2)]\n",
    "    \n",
    "    \n",
    "    fig,ax=plt.subplots()\n",
    "    # print (dataList)\n",
    "    title='%s vs. %s - Age distribution' %(sampleGroup1name,sampleGroup2name)\n",
    "    plotHistComprison(dataList,ax,title,showLegend=True,nBins=20,toAnnotate=True,alpha=None,plotType='hist')\n",
    "    plt.show()\n",
    "\n",
    "    #compare gender distribution:\n",
    "    Gender_sampleGroup1=Counter(PNP530Cardio126_AgeGender.loc[sampleGroup1,'Gender_Male'].dropna().tolist())\n",
    "    Gender_sampleGroup2=Counter(PNP530Cardio126_AgeGender.loc[sampleGroup2,'Gender_Male'].dropna().tolist())\n",
    "    \n",
    "    GenderDF=pd.concat([pd.DataFrame(index=[sampleGroup1name],data=Gender_sampleGroup1),\n",
    "                        pd.DataFrame(index=[sampleGroup2name],data=Gender_sampleGroup2)]).fillna(0)\n",
    "    print (GenderDF)\n",
    "    \n",
    "    try:\n",
    "        R_f, p_f = fisher_exact(GenderDF, alternative='two-sided')\n",
    "        print ('Fisher r,p = ',R_f,p_f)  \n",
    "    except:\n",
    "        print ('couldnt execute fisher test for gender distributions')\n",
    "    \n",
    "    return\n"
   ]
  },
  {
   "cell_type": "markdown",
   "metadata": {},
   "source": [
    "## generate productive sequence matrix and run the analysis on it as well:"
   ]
  },
  {
   "cell_type": "code",
   "execution_count": null,
   "metadata": {
    "ExecuteTime": {
     "end_time": "2019-01-12T19:58:38.176229Z",
     "start_time": "2019-01-12T19:54:20.495887Z"
    }
   },
   "outputs": [],
   "source": [
    "f1='/net/mraid08/export/jafar/Microbiome/Analyses/ShaniBAF/sharingAnalysis/AllUniqueWithCounts'\n",
    "AllUniqueWithCounts=pd.read_pickle(f1)\n",
    "AllUniqueWithCounts_prod=AllUniqueWithCounts[AllUniqueWithCounts['prod_stat']==1]\n",
    "sampleBySeqs_prod=AllUniqueWithCounts_prod[['prod_stat','Sample']].reset_index().rename(columns={'index':'seqeunce'}).groupby(['Sample','seqeunce'])['prod_stat'].count().unstack()\n",
    "print (sampleBySeqs_prod.shape)\n",
    "print (sampleBySeqs_prod.count().sort_values(ascending=False).head())"
   ]
  },
  {
   "cell_type": "code",
   "execution_count": null,
   "metadata": {
    "ExecuteTime": {
     "end_time": "2019-01-12T20:04:24.978233Z",
     "start_time": "2019-01-12T20:04:24.857074Z"
    }
   },
   "outputs": [],
   "source": [
    "sampleBySeqs_prod.iloc[:4,:4]"
   ]
  },
  {
   "cell_type": "code",
   "execution_count": null,
   "metadata": {
    "ExecuteTime": {
     "end_time": "2019-01-12T20:18:35.509665Z",
     "start_time": "2019-01-12T20:14:08.686085Z"
    }
   },
   "outputs": [],
   "source": [
    "# sort to include only sequences shared by at least 5% of samples in each cohort or together:\n",
    "print ('starting')\n",
    "perc=0.05\n",
    "percTooMany=0.85\n",
    "# get clusters that appear in Xperc of samples in sampleGroup1:\n",
    "sampleBySeqs_prod_group1 = sampleBySeqs_prod.loc[PNP530, :]\n",
    "nShared_group1 = math.ceil(len(sampleBySeqs_prod_group1) * perc)\n",
    "print ('nShared_group1= ', nShared_group1)\n",
    "group1_percClusters = sampleBySeqs_prod_group1.loc[:, sampleBySeqs_prod_group1.count() >= nShared_group1].columns.tolist()\n",
    "print ('n clusters shared by %s or more samples in group1= ' % nShared_group1, len(group1_percClusters))\n",
    "\n",
    "# get clusters that appear in Xperc of samples in sampleGroup2:\n",
    "sampleBySeqs_prod_group2 = sampleBySeqs_prod.loc[Cardio126, :]\n",
    "nShared_group2 = math.ceil(len(sampleBySeqs_prod_group2) * perc)\n",
    "print ('nShared_group2= ', nShared_group2)\n",
    "group2_percClusters = sampleBySeqs_prod_group2.loc[:, sampleBySeqs_prod_group2.count() >= nShared_group2].columns.tolist()\n",
    "print ('n clusters shared by %s or more samples in group2= ' % nShared_group2, len(group2_percClusters))\n",
    "\n",
    "# get clusters that appear in Xperc of All samples:\n",
    "nShared_all = math.ceil(len(sampleBySeqs_prod) * perc)\n",
    "print ('nShared_all= ', nShared_all)\n",
    "all_percClusters = sampleBySeqs_prod.loc[:, sampleBySeqs_prod.count() >= nShared_all].columns.tolist()\n",
    "print ('n clusters shared by %s or more samples in all samples= ' % nShared_all, len(all_percClusters))\n",
    "    \n",
    "# concatenate lists:\n",
    "ClusterListShared = list(set(group1_percClusters + group2_percClusters + all_percClusters))\n",
    "print ('final number of clusters to use= ', len(ClusterListShared))\n",
    "\n",
    "# filter table to have only those sequences\n",
    "sampleBySeqs_prod_perc = sampleBySeqs_prod.loc[:, ClusterListShared]\n",
    "print ('final sampleBySeqs_prod_perc shape is: ', sampleBySeqs_prod_perc.shape)\n",
    "# filter table to not include clusters that appear in more than percTooMany of samples:\n",
    "nTooMany = math.ceil(len(sampleBySeqs_prod) * percTooMany)\n",
    "print ('filtering out clusters that appear in more than %s (%s) samples' % (nTooMany, percTooMany))\n",
    "sampleBySeqs_prod_perc = sampleBySeqs_prod_perc.loc[:, sampleBySeqs_prod_perc.count() < nTooMany]\n",
    "print ('final sampleBySeqs_prod_perc shape is: ', sampleBySeqs_prod_perc.shape)\n",
    "\n",
    "\n",
    "f6 = '/net/mraid08/export/genie/Lab/Personal/ShaniBAF/TCR_real_data/CardioSamples/sharingAnalysis/prod_sharedBy5-85percPerCohort.dat'\n",
    "sampleBySeqs_prod_perc.to_pickle(f6)"
   ]
  },
  {
   "cell_type": "code",
   "execution_count": null,
   "metadata": {
    "ExecuteTime": {
     "end_time": "2019-01-12T20:21:34.142834Z",
     "start_time": "2019-01-12T20:21:33.654702Z"
    }
   },
   "outputs": [],
   "source": [
    "\n",
    "f6 = '/net/mraid08/export/genie/Lab/Personal/ShaniBAF/TCR_real_data/PNP530Cardio126Combined/sharingAnalysis/prod_sharedBy5-85percPerCohort.dat'\n",
    "sampleBySeqs_prod_perc.to_pickle(f6)"
   ]
  },
  {
   "cell_type": "code",
   "execution_count": null,
   "metadata": {
    "ExecuteTime": {
     "end_time": "2019-01-02T20:53:58.815694Z",
     "start_time": "2019-01-02T20:47:55.291Z"
    }
   },
   "outputs": [],
   "source": [
    "print (sampleBySeqs_prod.count().sort_values(ascending=False).tail())"
   ]
  },
  {
   "cell_type": "code",
   "execution_count": null,
   "metadata": {
    "ExecuteTime": {
     "end_time": "2019-01-02T20:53:58.829920Z",
     "start_time": "2019-01-02T20:47:55.825Z"
    }
   },
   "outputs": [],
   "source": [
    "sampleBySeqs_prod.info(memory_usage='deep')"
   ]
  },
  {
   "cell_type": "markdown",
   "metadata": {},
   "source": [
    "## run for old males pnp vs old males cardio - prod sequences"
   ]
  },
  {
   "cell_type": "code",
   "execution_count": null,
   "metadata": {
    "ExecuteTime": {
     "end_time": "2019-01-04T12:06:11.099195Z",
     "start_time": "2019-01-04T12:05:21.144151Z"
    }
   },
   "outputs": [],
   "source": [
    "# get samples lists:\n",
    "with open('/net/mraid08/export/genie/Lab/Personal/ShaniBAF/Sample files/BD lists/PNP530_balancedAge_males') as fp:\n",
    "    PNP530_balancedAge_males=pickle.load(fp)\n",
    "with open('/net/mraid08/export/genie/Lab/Personal/ShaniBAF/Sample files/BD lists/Cardio126_balancedAge_males') as fp:\n",
    "    Cardio126_balancedAge_males=pickle.load(fp)\n",
    "\n",
    "sampleGroup1=PNP530_balancedAge_males\n",
    "sampleGroup1name='PNP530_balancedAge_males_prodSeqs'\n",
    "sampleGroup2=Cardio126_balancedAge_males\n",
    "sampleGroup2name='Cardio126_balancedAge_males_prodSeqs'\n",
    "output_dir='/net/mraid08/export/jafar/Microbiome/Analyses/ShaniBAF/\\\n",
    "sharingAnalysis/seqClusters_allProd_maxdist1/Fisher_MW_comparisons/'\n",
    "sampleByClusterDF=sampleBySeqs_prod\n",
    "percShared=0.1\n",
    "\n",
    "compare_seq_clusters_wrapper(sampleByClusterDF,sampleGroup1,sampleGroup1name,sampleGroup2,sampleGroup2name,output_dir,\n",
    "                             percShared)"
   ]
  },
  {
   "cell_type": "markdown",
   "metadata": {},
   "source": [
    "## run for continuous phenotypes:"
   ]
  },
  {
   "cell_type": "code",
   "execution_count": null,
   "metadata": {
    "ExecuteTime": {
     "end_time": "2019-01-02T21:33:17.849313Z",
     "start_time": "2019-01-02T21:32:07.124467Z"
    }
   },
   "outputs": [],
   "source": [
    "phen_list=['GRACEScore','MaximalTroponin','Age']\n",
    "\n",
    "for phen in phen_list:\n",
    "    print ('')\n",
    "    print (phen)\n",
    "\n",
    "    # get samples lists:\n",
    "    with open('/net/mraid08/export/genie/Lab/Personal/ShaniBAF/Sample files/BD lists/Cardio126_bottom20%s' %phen,'rb') as fp:\n",
    "        Cardio126_bottom20=pickle.load(fp)\n",
    "    with open('/net/mraid08/export/genie/Lab/Personal/ShaniBAF/Sample files/BD lists/Cardio126_top20%s' %phen,'rb') as fp:\n",
    "        Cardio126_top20=pickle.load(fp)\n",
    "\n",
    "        sampleGroup1=Cardio126_bottom20\n",
    "        sampleGroup1name='Cardio126_bottom20%s' %phen\n",
    "        sampleGroup2=Cardio126_top20\n",
    "        sampleGroup2name='Cardio126_top20%s' %phen\n",
    "        output_dir='/net/mraid08/export/jafar/Microbiome/Analyses/ShaniBAF/\\\n",
    "sharingAnalysis/seqClusters_allProd_maxdist1/Fisher_MW_comparisons/'\n",
    "        sampleByClusterDF=sampleBySeqs_prod\n",
    "        percShared=0.25\n",
    "\n",
    "        compare_seq_clusters_wrapper(sampleByClusterDF,sampleGroup1,sampleGroup1name,sampleGroup2,sampleGroup2name,output_dir,\n",
    "                                     percShared)"
   ]
  },
  {
   "cell_type": "markdown",
   "metadata": {},
   "source": [
    "## run for binary phenotypes:"
   ]
  },
  {
   "cell_type": "code",
   "execution_count": null,
   "metadata": {
    "ExecuteTime": {
     "end_time": "2019-01-05T19:40:42.888473Z",
     "start_time": "2019-01-05T19:37:47.656175Z"
    }
   },
   "outputs": [],
   "source": [
    "phen_list=['DischargeClopidogrel','ChiefComplaintmapped_anginalpain','KnownCAD','Gender_Male']\n",
    "\n",
    "for phen in phen_list:\n",
    "    print ('')\n",
    "    print (phen)\n",
    "\n",
    "    # get samples lists:\n",
    "    with open('/net/mraid08/export/genie/Lab/Personal/ShaniBAF/Sample files/BD lists/%s0samples' %phen,'rb') as fp:\n",
    "        Cardio126_0samples=pickle.load(fp)\n",
    "    with open('/net/mraid08/export/genie/Lab/Personal/ShaniBAF/Sample files/BD lists/%s1samples' %phen,'rb') as fp:\n",
    "        Cardio126_1samples=pickle.load(fp)\n",
    "\n",
    "        sampleGroup1=Cardio126_0samples\n",
    "        sampleGroup1name='%s0samples' %phen\n",
    "        sampleGroup2=Cardio126_1samples\n",
    "        sampleGroup2name='%s1samples' %phen\n",
    "        output_dir='/net/mraid08/export/jafar/Microbiome/Analyses/ShaniBAF/\\\n",
    "sharingAnalysis/seqClusters_allProd_maxdist1/Fisher_MW_comparisons/'\n",
    "        sampleByClusterDF=sampleBySeqs_prod\n",
    "        percShared=0.25\n",
    "\n",
    "        compare_seq_clusters_wrapper(sampleByClusterDF,sampleGroup1,sampleGroup1name,sampleGroup2,sampleGroup2name,output_dir,\n",
    "                                     percShared)"
   ]
  },
  {
   "cell_type": "code",
   "execution_count": null,
   "metadata": {},
   "outputs": [],
   "source": []
  },
  {
   "cell_type": "code",
   "execution_count": null,
   "metadata": {},
   "outputs": [],
   "source": []
  },
  {
   "cell_type": "code",
   "execution_count": null,
   "metadata": {},
   "outputs": [],
   "source": []
  },
  {
   "cell_type": "markdown",
   "metadata": {},
   "source": [
    "## other phenotyps:"
   ]
  },
  {
   "cell_type": "code",
   "execution_count": null,
   "metadata": {
    "ExecuteTime": {
     "end_time": "2019-01-04T12:11:52.373410Z",
     "start_time": "2019-01-04T12:09:57.226828Z"
    }
   },
   "outputs": [],
   "source": [
    "phen_list=[('GlucoseDisorder',0,2),('LVEF',0,23),('ostial',0,234)]\n",
    "\n",
    "for item in phen_list:\n",
    "    phen=item[0]\n",
    "    group1=str(item[1])\n",
    "    group2=str(item[2])\n",
    "    \n",
    "    print ('')\n",
    "    print (phen)\n",
    "\n",
    "    # get samples lists:\n",
    "    with open('/net/mraid08/export/genie/Lab/Personal/ShaniBAF/Sample files/BD lists/%s%ssamples' %(phen,group1),'rb') as fp:\n",
    "        group1data=pickle.load(fp)\n",
    "    with open('/net/mraid08/export/genie/Lab/Personal/ShaniBAF/Sample files/BD lists/%s%ssamples' %(phen,group2),'rb') as fp:\n",
    "        group2data=pickle.load(fp)\n",
    "\n",
    "        sampleGroup1=group1data\n",
    "        sampleGroup1name='%s%ssamples' %(phen,group1)\n",
    "        sampleGroup2=group2data\n",
    "        sampleGroup2name='%s%ssamples' %(phen,group2)\n",
    "        output_dir='/net/mraid08/export/jafar/Microbiome/Analyses/ShaniBAF/\\\n",
    "sharingAnalysis/seqClusters_allProd_maxdist1/Fisher_MW_comparisons/'\n",
    "        sampleByClusterDF=sampleBySeqs_prod\n",
    "        percShared=0.25\n",
    "\n",
    "        compare_seq_clusters_wrapper(sampleByClusterDF,sampleGroup1,sampleGroup1name,sampleGroup2,sampleGroup2name,output_dir,\n",
    "                                     percShared)"
   ]
  },
  {
   "cell_type": "markdown",
   "metadata": {},
   "source": [
    "# Use productive clusters (redundant!)"
   ]
  },
  {
   "cell_type": "markdown",
   "metadata": {},
   "source": [
    "## get productive clusters dataframe:\n"
   ]
  },
  {
   "cell_type": "code",
   "execution_count": null,
   "metadata": {
    "ExecuteTime": {
     "end_time": "2019-01-10T15:11:34.907093Z",
     "start_time": "2019-01-10T15:11:33.226842Z"
    }
   },
   "outputs": [],
   "source": [
    "sampleByClusterDF=pd.read_pickle('/net/mraid08/export/jafar/Microbiome/Analyses/ShaniBAF/\\\n",
    "sharingAnalysis/seqClusters_allProd_maxdist1/sampleByClusterDF_cohortfiltering005-09perc_dropped.dat')"
   ]
  },
  {
   "cell_type": "markdown",
   "metadata": {},
   "source": [
    "## PNP530 vs Cardio126"
   ]
  },
  {
   "cell_type": "code",
   "execution_count": null,
   "metadata": {
    "ExecuteTime": {
     "end_time": "2019-01-04T20:44:32.002647Z",
     "start_time": "2019-01-04T20:44:25.287Z"
    }
   },
   "outputs": [],
   "source": [
    "# get samples lists:\n",
    "with open('/net/mraid08/export/genie/Lab/Personal/ShaniBAF/Sample files/BD lists/PNP530') as fp:\n",
    "    PNP530=pickle.load(fp)\n",
    "with open('/net/mraid08/export/genie/Lab/Personal/ShaniBAF/Sample files/BD lists/Cardio126') as fp:\n",
    "    Cardio126=pickle.load(fp)\n",
    "\n",
    "sampleGroup1=PNP530\n",
    "sampleGroup1name='PNP530_prodClusRed'\n",
    "sampleGroup2=Cardio126\n",
    "sampleGroup2name='Cardio126_prodClusRed'\n",
    "output_dir='/net/mraid08/export/jafar/Microbiome/Analyses/ShaniBAF/\\\n",
    "sharingAnalysis/seqClusters_allProd_maxdist1/Fisher_MW_comparisons/'\n",
    "sampleByClusterDF=sampleByClusterDF\n",
    "percShared=0.05\n",
    "percTooMany=0.85\n",
    "\n",
    "compare_seq_clusters_wrapper(sampleByClusterDF,sampleGroup1,sampleGroup1name,sampleGroup2,sampleGroup2name,output_dir,\n",
    "                             percShared,percTooMany)"
   ]
  },
  {
   "cell_type": "markdown",
   "metadata": {},
   "source": [
    "## balanced old males: PNP530 vs Cardio126"
   ]
  },
  {
   "cell_type": "code",
   "execution_count": null,
   "metadata": {
    "ExecuteTime": {
     "end_time": "2019-01-04T21:22:58.085165Z",
     "start_time": "2019-01-04T20:44:33.646046Z"
    }
   },
   "outputs": [],
   "source": [
    "# get samples lists:\n",
    "with open('/net/mraid08/export/genie/Lab/Personal/ShaniBAF/Sample files/BD lists/PNP530_balancedAge_males') as fp:\n",
    "    PNP530_balancedAge_males=pickle.load(fp)\n",
    "with open('/net/mraid08/export/genie/Lab/Personal/ShaniBAF/Sample files/BD lists/Cardio126_balancedAge_males') as fp:\n",
    "    Cardio126_balancedAge_males=pickle.load(fp)\n",
    "\n",
    "sampleGroup1=PNP530_balancedAge_males\n",
    "sampleGroup1name='PNP530_balancedAge_males_prodClusRed'\n",
    "sampleGroup2=Cardio126_balancedAge_males\n",
    "sampleGroup2name='Cardio126_balancedAge_males_prodClusRed'\n",
    "output_dir='/net/mraid08/export/jafar/Microbiome/Analyses/ShaniBAF/\\\n",
    "sharingAnalysis/seqClusters_allProd_maxdist1/Fisher_MW_comparisons/'\n",
    "sampleByClusterDF=sampleByClusterDF\n",
    "percShared=0.1\n",
    "percTooMany=0.85\n",
    "\n",
    "compare_seq_clusters_wrapper(sampleByClusterDF,sampleGroup1,sampleGroup1name,sampleGroup2,sampleGroup2name,output_dir,\n",
    "                             percShared,percTooMany)"
   ]
  },
  {
   "cell_type": "code",
   "execution_count": null,
   "metadata": {},
   "outputs": [],
   "source": []
  },
  {
   "cell_type": "markdown",
   "metadata": {},
   "source": [
    "## run for continuous phenotypes - bottom/top 20"
   ]
  },
  {
   "cell_type": "code",
   "execution_count": null,
   "metadata": {
    "ExecuteTime": {
     "end_time": "2019-01-06T20:43:28.252794Z",
     "start_time": "2019-01-06T18:34:45.407578Z"
    }
   },
   "outputs": [],
   "source": [
    "# phen_list=['GRACEScore','MaximalTroponin','Age']\n",
    "phen_list=['MaximalTroponin']\n",
    "\n",
    "for phen in phen_list:\n",
    "    print ('')\n",
    "    print (phen)\n",
    "\n",
    "    # get samples lists:\n",
    "    with open('/net/mraid08/export/genie/Lab/Personal/ShaniBAF/Sample files/BD lists/Cardio126_bottom20%s' %phen,'rb') as fp:\n",
    "        Cardio126_bottom20=pickle.load(fp)\n",
    "    with open('/net/mraid08/export/genie/Lab/Personal/ShaniBAF/Sample files/BD lists/Cardio126_top20%s' %phen,'rb') as fp:\n",
    "        Cardio126_top20=pickle.load(fp)\n",
    "\n",
    "        sampleGroup1=Cardio126_bottom20\n",
    "        sampleGroup1name='Cardio126_bottom20%s' %phen\n",
    "        sampleGroup2=Cardio126_top20\n",
    "        sampleGroup2name='Cardio126_top20%s' %phen\n",
    "        output_dir='/net/mraid08/export/jafar/Microbiome/Analyses/ShaniBAF/\\\n",
    "sharingAnalysis/seqClusters_allProd_maxdist1/Fisher_MW_comparisons/'\n",
    "        sampleByClusterDF=sampleByClusterDF\n",
    "        percShared=0.25\n",
    "        \n",
    "\n",
    "        compare_seq_clusters_wrapper(sampleByClusterDF,sampleGroup1,sampleGroup1name,sampleGroup2,sampleGroup2name,output_dir,\n",
    "                                     percShared)"
   ]
  },
  {
   "cell_type": "markdown",
   "metadata": {},
   "source": [
    "## run for continuous phenotypes - bottom/top 30"
   ]
  },
  {
   "cell_type": "code",
   "execution_count": null,
   "metadata": {
    "ExecuteTime": {
     "end_time": "2019-01-09T08:06:39.203656Z",
     "start_time": "2019-01-09T07:40:12.163426Z"
    }
   },
   "outputs": [],
   "source": [
    "# phen_list=['GRACEScore','MaximalTroponin','Age']\n",
    "phen_list=['MaximalTroponin']\n",
    "\n",
    "for phen in phen_list:\n",
    "    print ('')\n",
    "    print (phen)\n",
    "\n",
    "    # get samples lists:\n",
    "    with open('/net/mraid08/export/genie/Lab/Personal/ShaniBAF/Sample files/BD lists/Cardio126_bottom30%s' %phen,'rb') as fp:\n",
    "        Cardio126_bottom30=pickle.load(fp)\n",
    "    with open('/net/mraid08/export/genie/Lab/Personal/ShaniBAF/Sample files/BD lists/Cardio126_top30%s' %phen,'rb') as fp:\n",
    "        Cardio126_top30=pickle.load(fp)\n",
    "\n",
    "        sampleGroup1=Cardio126_bottom30\n",
    "        sampleGroup1name='Cardio126_bottom30%s' %phen\n",
    "        sampleGroup2=Cardio126_top30\n",
    "        sampleGroup2name='Cardio126_top30%s' %phen\n",
    "        output_dir='/net/mraid08/export/jafar/Microbiome/Analyses/ShaniBAF/\\\n",
    "sharingAnalysis/seqClusters_allProd_maxdist1/Fisher_MW_comparisons/'\n",
    "        sampleByClusterDF=sampleByClusterDF\n",
    "        percShared=0.25\n",
    "        \n",
    "\n",
    "        compare_seq_clusters_wrapper(sampleByClusterDF,sampleGroup1,sampleGroup1name,sampleGroup2,sampleGroup2name,output_dir,\n",
    "                                     percShared)"
   ]
  },
  {
   "cell_type": "markdown",
   "metadata": {},
   "source": [
    "## run for binary phenotypes:"
   ]
  },
  {
   "cell_type": "code",
   "execution_count": null,
   "metadata": {
    "ExecuteTime": {
     "end_time": "2019-01-03T16:01:12.216824Z",
     "start_time": "2019-01-03T15:58:34.638318Z"
    }
   },
   "outputs": [],
   "source": [
    "phen_list=['DischargeClopidogrel','ChiefComplaintmapped_anginalpain','KnownCAD','Gender_Male']\n",
    "\n",
    "for phen in phen_list:\n",
    "    print ('')\n",
    "    print (phen)\n",
    "\n",
    "    # get samples lists:\n",
    "    with open('/net/mraid08/export/genie/Lab/Personal/ShaniBAF/Sample files/BD lists/%s0samples' %phen,'rb') as fp:\n",
    "        Cardio126_0samples=pickle.load(fp)\n",
    "    with open('/net/mraid08/export/genie/Lab/Personal/ShaniBAF/Sample files/BD lists/%s1samples' %phen,'rb') as fp:\n",
    "        Cardio126_1samples=pickle.load(fp)\n",
    "\n",
    "        sampleGroup1=Cardio126_0samples\n",
    "        sampleGroup1name='%s0samples' %phen\n",
    "        sampleGroup2=Cardio126_1samples\n",
    "        sampleGroup2name='%s1samples' %phen\n",
    "        output_dir='/net/mraid08/export/jafar/Microbiome/Analyses/ShaniBAF/\\\n",
    "sharingAnalysis/seqClusters_allProd_maxdist1/Fisher_MW_comparisons/'\n",
    "        sampleByClusterDF=sampleByClusterDF\n",
    "        percShared=0.25\n",
    "\n",
    "        compare_seq_clusters_wrapper(sampleByClusterDF,sampleGroup1,sampleGroup1name,sampleGroup2,sampleGroup2name,output_dir,\n",
    "                                     percShared)"
   ]
  },
  {
   "cell_type": "markdown",
   "metadata": {},
   "source": [
    "## run for  more binary phenotypes:"
   ]
  },
  {
   "cell_type": "code",
   "execution_count": null,
   "metadata": {
    "ExecuteTime": {
     "end_time": "2019-01-07T21:20:24.341357Z",
     "start_time": "2019-01-07T20:30:27.763071Z"
    }
   },
   "outputs": [],
   "source": [
    "phen_list=['AdmissionDiagnosismapped_STEMI','ChiefComplaintmapped_anginalpain']\n",
    "for phen in phen_list:\n",
    "    print ('')\n",
    "    print (phen)\n",
    "\n",
    "    # get samples lists:\n",
    "    with open('/net/mraid08/export/genie/Lab/Personal/ShaniBAF/Sample files/BD lists/%s0samples' %phen,'rb') as fp:\n",
    "        Cardio126_0samples=pickle.load(fp)\n",
    "    with open('/net/mraid08/export/genie/Lab/Personal/ShaniBAF/Sample files/BD lists/%s1samples' %phen,'rb') as fp:\n",
    "        Cardio126_1samples=pickle.load(fp)\n",
    "\n",
    "        sampleGroup1=Cardio126_0samples\n",
    "        sampleGroup1name='%s0samples' %phen\n",
    "        sampleGroup2=Cardio126_1samples\n",
    "        sampleGroup2name='%s1samples' %phen\n",
    "        output_dir='/net/mraid08/export/jafar/Microbiome/Analyses/ShaniBAF/\\\n",
    "sharingAnalysis/seqClusters_allProd_maxdist1/Fisher_MW_comparisons/'\n",
    "        sampleByClusterDF=sampleByClusterDF\n",
    "        percShared=0.25\n",
    "\n",
    "        compare_seq_clusters_wrapper(sampleByClusterDF,sampleGroup1,sampleGroup1name,sampleGroup2,sampleGroup2name,output_dir,\n",
    "                                     percShared)"
   ]
  },
  {
   "cell_type": "code",
   "execution_count": null,
   "metadata": {
    "ExecuteTime": {
     "end_time": "2019-01-10T18:20:25.669124Z",
     "start_time": "2019-01-10T18:17:20.210690Z"
    }
   },
   "outputs": [],
   "source": [
    "phen='ChiefComplaintmapped_anginalpain'\n",
    "\n",
    "\n",
    "with open('/net/mraid08/export/genie/Lab/Personal/ShaniBAF/Sample files/BD lists/%s0samples' %phen,'rb') as fp:\n",
    "    Cardio126_0samples=pickle.load(fp)\n",
    "with open('/net/mraid08/export/genie/Lab/Personal/ShaniBAF/Sample files/BD lists/%s1samples' %phen,'rb') as fp:\n",
    "    Cardio126_1samples=pickle.load(fp)\n",
    "    \n",
    "sampleGroup1=Cardio126_0samples\n",
    "sampleGroup1name='%s0samples' %phen\n",
    "sampleGroup2=Cardio126_1samples\n",
    "sampleGroup2name='%s1samples' %phen\n",
    "        \n",
    "MyPath = '/net/mraid08/export/genie/Lab/Personal/ShaniBAF'   \n",
    "f1 = '/net/mraid08/export/jafar/Microbiome/Analyses/ShaniBAF/predictions2/TargetDFs/PNP530Cardio126_AgeGender.xlsx' \n",
    "PNP530Cardio126_AgeGender = pd.read_excel(f1).set_index('BD')\n",
    "\n",
    "Age_sampleGroup1 = PNP530Cardio126_AgeGender.loc[sampleGroup1, 'Age'].dropna().tolist()\n",
    "Age_sampleGroup2 = PNP530Cardio126_AgeGender.loc[sampleGroup2, 'Age'].dropna().tolist()\n",
    "dataList = [(sampleGroup1name, Age_sampleGroup1), (sampleGroup2name, Age_sampleGroup2)]\n",
    "\n",
    "try:\n",
    "    fig, ax = plt.subplots()\n",
    "    # print (dataList)\n",
    "    title = '%s vs. %s - Age distribution' % (sampleGroup1name, sampleGroup2name)\n",
    "    plotHistComprison(dataList, ax, title, showLegend=True, nBins=20, toAnnotate=True, alpha=None, plotType='hist')\n",
    "    plt.show()\n",
    "except:\n",
    "    print ('cant do plots, sorry')\n",
    "\n",
    "# compare gender distribution:\n",
    "Gender_sampleGroup1 = Counter(PNP530Cardio126_AgeGender.loc[sampleGroup1, 'Gender_Male'].dropna().tolist())\n",
    "Gender_sampleGroup2 = Counter(PNP530Cardio126_AgeGender.loc[sampleGroup2, 'Gender_Male'].dropna().tolist())\n",
    "\n",
    "GenderDF = pd.concat([pd.DataFrame(index=[sampleGroup1name], data=Gender_sampleGroup1),\n",
    "                    pd.DataFrame(index=[sampleGroup2name], data=Gender_sampleGroup2)]).fillna(0)\n",
    "print (GenderDF)\n",
    "\n",
    "try:\n",
    "    R_f, p_f = fisher_exact(GenderDF, alternative='two-sided')\n",
    "    print ('Fisher r,p = ', R_f, p_f)  \n",
    "except:\n",
    "    print ('couldnt execute fisher test for gender distributions')"
   ]
  },
  {
   "cell_type": "markdown",
   "metadata": {},
   "source": [
    "## run for PCI_LVEF_CVA_CABG binary phenotypes"
   ]
  },
  {
   "cell_type": "code",
   "execution_count": null,
   "metadata": {
    "ExecuteTime": {
     "end_time": "2019-01-09T08:12:32.360161Z",
     "start_time": "2019-01-09T08:12:31.814901Z"
    }
   },
   "outputs": [],
   "source": [
    "phen='PCI1_CABG'\n",
    "\n",
    "\n",
    "with open('/net/mraid08/export/genie/Lab/Personal/ShaniBAF/Sample files/BD lists/%s0samples' %phen,'rb') as fp:\n",
    "    Cardio126_0samples=pickle.load(fp)\n",
    "with open('/net/mraid08/export/genie/Lab/Personal/ShaniBAF/Sample files/BD lists/%s1samples' %phen,'rb') as fp:\n",
    "    Cardio126_1samples=pickle.load(fp)\n",
    "    \n",
    "sampleGroup1=Cardio126_0samples\n",
    "sampleGroup1name='%s0samples' %phen\n",
    "sampleGroup2=Cardio126_1samples\n",
    "sampleGroup2name='%s1samples' %phen\n",
    "        \n",
    "MyPath = '/net/mraid08/export/genie/Lab/Personal/ShaniBAF'   \n",
    "f1 = '/net/mraid08/export/jafar/Microbiome/Analyses/ShaniBAF/predictions2/TargetDFs/PNP530Cardio126_AgeGender.xlsx' \n",
    "PNP530Cardio126_AgeGender = pd.read_excel(f1).set_index('BD')\n",
    "\n",
    "Age_sampleGroup1 = PNP530Cardio126_AgeGender.loc[sampleGroup1, 'Age'].dropna().tolist()\n",
    "Age_sampleGroup2 = PNP530Cardio126_AgeGender.loc[sampleGroup2, 'Age'].dropna().tolist()\n",
    "dataList = [(sampleGroup1name, Age_sampleGroup1), (sampleGroup2name, Age_sampleGroup2)]\n",
    "\n",
    "try:\n",
    "    fig, ax = plt.subplots()\n",
    "    # print (dataList)\n",
    "    title = '%s vs. %s - Age distribution' % (sampleGroup1name, sampleGroup2name)\n",
    "    plotHistComprison(dataList, ax, title, showLegend=True, nBins=20, toAnnotate=True, alpha=None, plotType='hist')\n",
    "    plt.show()\n",
    "except:\n",
    "    print ('cant do plots, sorry')\n",
    "\n",
    "# compare gender distribution:\n",
    "Gender_sampleGroup1 = Counter(PNP530Cardio126_AgeGender.loc[sampleGroup1, 'Gender_Male'].dropna().tolist())\n",
    "Gender_sampleGroup2 = Counter(PNP530Cardio126_AgeGender.loc[sampleGroup2, 'Gender_Male'].dropna().tolist())\n",
    "\n",
    "GenderDF = pd.concat([pd.DataFrame(index=[sampleGroup1name], data=Gender_sampleGroup1),\n",
    "                    pd.DataFrame(index=[sampleGroup2name], data=Gender_sampleGroup2)]).fillna(0)\n",
    "print (GenderDF)\n",
    "\n",
    "try:\n",
    "    R_f, p_f = fisher_exact(GenderDF, alternative='two-sided')\n",
    "    print ('Fisher r,p = ', R_f, p_f)  \n",
    "except:\n",
    "    print ('couldnt execute fisher test for gender distributions')"
   ]
  },
  {
   "cell_type": "code",
   "execution_count": null,
   "metadata": {
    "ExecuteTime": {
     "end_time": "2019-01-07T15:58:44.103112Z",
     "start_time": "2019-01-07T11:28:52.974145Z"
    }
   },
   "outputs": [],
   "source": [
    "for phen in PCI_LVEF_CVA_CABG.columns.tolist():\n",
    "    print ('')\n",
    "    print (phen)\n",
    "\n",
    "    # get samples lists:\n",
    "    with open('/net/mraid08/export/genie/Lab/Personal/ShaniBAF/Sample files/BD lists/%s0samples' %phen,'rb') as fp:\n",
    "        Cardio126_0samples=pickle.load(fp)\n",
    "    with open('/net/mraid08/export/genie/Lab/Personal/ShaniBAF/Sample files/BD lists/%s1samples' %phen,'rb') as fp:\n",
    "        Cardio126_1samples=pickle.load(fp)\n",
    "\n",
    "        sampleGroup1=Cardio126_0samples\n",
    "        sampleGroup1name='%s0samples' %phen\n",
    "        sampleGroup2=Cardio126_1samples\n",
    "        sampleGroup2name='%s1samples' %phen\n",
    "        output_dir='/net/mraid08/export/jafar/Microbiome/Analyses/ShaniBAF/\\\n",
    "sharingAnalysis/seqClusters_allProd_maxdist1/Fisher_MW_comparisons/'\n",
    "        sampleByClusterDF=sampleByClusterDF\n",
    "        percShared=0.25\n",
    "\n",
    "        compare_seq_clusters_wrapper(sampleByClusterDF,sampleGroup1,sampleGroup1name,sampleGroup2,sampleGroup2name,output_dir,\n",
    "                                     percShared)\n"
   ]
  },
  {
   "cell_type": "code",
   "execution_count": null,
   "metadata": {},
   "outputs": [],
   "source": []
  },
  {
   "cell_type": "markdown",
   "metadata": {},
   "source": [
    "## PCI_cont:"
   ]
  },
  {
   "cell_type": "code",
   "execution_count": null,
   "metadata": {
    "ExecuteTime": {
     "end_time": "2019-01-07T19:15:30.441303Z",
     "start_time": "2019-01-07T18:51:52.733186Z"
    },
    "scrolled": false
   },
   "outputs": [],
   "source": [
    "phen_list=[('PCI',0,2345)]\n",
    "\n",
    "for item in phen_list:\n",
    "    phen=item[0]\n",
    "    group1=str(item[1])\n",
    "    group2=str(item[2])\n",
    "    \n",
    "    print ('')\n",
    "    print (phen)\n",
    "\n",
    "    # get samples lists:\n",
    "    with open('/net/mraid08/export/genie/Lab/Personal/ShaniBAF/Sample files/BD lists/%s%ssamples' %(phen,group1),'rb') as fp:\n",
    "        group1data=pickle.load(fp)\n",
    "    with open('/net/mraid08/export/genie/Lab/Personal/ShaniBAF/Sample files/BD lists/%s%ssamples' %(phen,group2),'rb') as fp:\n",
    "        group2data=pickle.load(fp)\n",
    "\n",
    "        sampleGroup1=group1data\n",
    "        sampleGroup1name='%s%ssamples' %(phen,group1)\n",
    "        sampleGroup2=group2data\n",
    "        sampleGroup2name='%s%ssamples' %(phen,group2)\n",
    "        output_dir='/net/mraid08/export/jafar/Microbiome/Analyses/ShaniBAF/\\\n",
    "sharingAnalysis/seqClusters_allProd_maxdist1/Fisher_MW_comparisons/'\n",
    "        sampleByClusterDF=sampleByClusterDF\n",
    "        percShared=0.25\n",
    "        percTooMany=0.9\n",
    "\n",
    "        compare_seq_clusters_wrapper(sampleByClusterDF,sampleGroup1,sampleGroup1name,sampleGroup2,sampleGroup2name,output_dir,\n",
    "                                     percShared,percTooMany)"
   ]
  },
  {
   "cell_type": "markdown",
   "metadata": {},
   "source": [
    "## other phenotyps:"
   ]
  },
  {
   "cell_type": "code",
   "execution_count": null,
   "metadata": {
    "ExecuteTime": {
     "end_time": "2019-01-06T22:12:52.647700Z",
     "start_time": "2019-01-06T20:43:52.118002Z"
    },
    "scrolled": false
   },
   "outputs": [],
   "source": [
    "phen_list=[('GlucoseDisorder',0,2),('LVEF',0,23),('ostial',0,234)]\n",
    "\n",
    "for item in phen_list:\n",
    "    phen=item[0]\n",
    "    group1=str(item[1])\n",
    "    group2=str(item[2])\n",
    "    \n",
    "    print ('')\n",
    "    print (phen)\n",
    "\n",
    "    # get samples lists:\n",
    "    with open('/net/mraid08/export/genie/Lab/Personal/ShaniBAF/Sample files/BD lists/%s%ssamples' %(phen,group1),'rb') as fp:\n",
    "        group1data=pickle.load(fp)\n",
    "    with open('/net/mraid08/export/genie/Lab/Personal/ShaniBAF/Sample files/BD lists/%s%ssamples' %(phen,group2),'rb') as fp:\n",
    "        group2data=pickle.load(fp)\n",
    "\n",
    "        sampleGroup1=group1data\n",
    "        sampleGroup1name='%s%ssamples' %(phen,group1)\n",
    "        sampleGroup2=group2data\n",
    "        sampleGroup2name='%s%ssamples' %(phen,group2)\n",
    "        output_dir='/net/mraid08/export/jafar/Microbiome/Analyses/ShaniBAF/\\\n",
    "sharingAnalysis/seqClusters_allProd_maxdist1/Fisher_MW_comparisons/'\n",
    "        sampleByClusterDF=sampleByClusterDF\n",
    "        percShared=0.25\n",
    "        percTooMany=0.9\n",
    "\n",
    "        compare_seq_clusters_wrapper(sampleByClusterDF,sampleGroup1,sampleGroup1name,sampleGroup2,sampleGroup2name,output_dir,\n",
    "                                     percShared,percTooMany)"
   ]
  },
  {
   "cell_type": "code",
   "execution_count": null,
   "metadata": {
    "ExecuteTime": {
     "end_time": "2019-01-10T18:20:25.669124Z",
     "start_time": "2019-01-10T18:17:20.210690Z"
    }
   },
   "outputs": [],
   "source": [
    "phen='PCI1_CABG'\n",
    "\n",
    "\n",
    "with open('/net/mraid08/export/genie/Lab/Personal/ShaniBAF/Sample files/BD lists/%s0samples' %phen,'rb') as fp:\n",
    "    Cardio126_0samples=pickle.load(fp)\n",
    "with open('/net/mraid08/export/genie/Lab/Personal/ShaniBAF/Sample files/BD lists/%s1samples' %phen,'rb') as fp:\n",
    "    Cardio126_1samples=pickle.load(fp)\n",
    "    \n",
    "sampleGroup1=Cardio126_0samples\n",
    "sampleGroup1name='%s0samples' %phen\n",
    "sampleGroup2=Cardio126_1samples\n",
    "sampleGroup2name='%s1samples' %phen\n",
    "        \n",
    "MyPath = '/net/mraid08/export/genie/Lab/Personal/ShaniBAF'   \n",
    "f1 = '/net/mraid08/export/jafar/Microbiome/Analyses/ShaniBAF/predictions2/TargetDFs/PNP530Cardio126_AgeGender.xlsx' \n",
    "PNP530Cardio126_AgeGender = pd.read_excel(f1).set_index('BD')\n",
    "\n",
    "Age_sampleGroup1 = PNP530Cardio126_AgeGender.loc[sampleGroup1, 'Age'].dropna().tolist()\n",
    "Age_sampleGroup2 = PNP530Cardio126_AgeGender.loc[sampleGroup2, 'Age'].dropna().tolist()\n",
    "dataList = [(sampleGroup1name, Age_sampleGroup1), (sampleGroup2name, Age_sampleGroup2)]\n",
    "\n",
    "try:\n",
    "    fig, ax = plt.subplots()\n",
    "    # print (dataList)\n",
    "    title = '%s vs. %s - Age distribution' % (sampleGroup1name, sampleGroup2name)\n",
    "    plotHistComprison(dataList, ax, title, showLegend=True, nBins=20, toAnnotate=True, alpha=None, plotType='hist')\n",
    "    plt.show()\n",
    "except:\n",
    "    print ('cant do plots, sorry')\n",
    "\n",
    "# compare gender distribution:\n",
    "Gender_sampleGroup1 = Counter(PNP530Cardio126_AgeGender.loc[sampleGroup1, 'Gender_Male'].dropna().tolist())\n",
    "Gender_sampleGroup2 = Counter(PNP530Cardio126_AgeGender.loc[sampleGroup2, 'Gender_Male'].dropna().tolist())\n",
    "\n",
    "GenderDF = pd.concat([pd.DataFrame(index=[sampleGroup1name], data=Gender_sampleGroup1),\n",
    "                    pd.DataFrame(index=[sampleGroup2name], data=Gender_sampleGroup2)]).fillna(0)\n",
    "print (GenderDF)\n",
    "\n",
    "try:\n",
    "    R_f, p_f = fisher_exact(GenderDF, alternative='two-sided')\n",
    "    print ('Fisher r,p = ', R_f, p_f)  \n",
    "except:\n",
    "    print ('couldnt execute fisher test for gender distributions')"
   ]
  },
  {
   "cell_type": "markdown",
   "metadata": {},
   "source": [
    "## run for paper phenotypes with resampled groupes"
   ]
  },
  {
   "cell_type": "markdown",
   "metadata": {},
   "source": [
    "### binary:"
   ]
  },
  {
   "cell_type": "code",
   "execution_count": null,
   "metadata": {
    "ExecuteTime": {
     "end_time": "2019-01-10T18:20:25.669124Z",
     "start_time": "2019-01-10T18:17:20.210690Z"
    },
    "scrolled": true
   },
   "outputs": [],
   "source": [
    "phen_list=['ChiefComplaintmapped_anginalpain','DischargeClopidogrel','PCI1_CABG']\n",
    "# phen_list=['OstialCXDisease','DischargeClopidogrel','PCI1_CABG','MaximalTroponin','ChiefComplaintmapped_anginalpain']\n",
    "\n",
    "for phen in phen_list:\n",
    "    print ('')\n",
    "    print (phen)\n",
    "\n",
    "    # get samples lists:\n",
    "    with open('/net/mraid08/export/genie/Lab/Personal/ShaniBAF/Sample files/BD lists/%s0samples_reSampled2' %phen,'rb') as fp:\n",
    "        Cardio126_0samples=pickle.load(fp)\n",
    "    with open('/net/mraid08/export/genie/Lab/Personal/ShaniBAF/Sample files/BD lists/%s1samples_reSampled2' %phen,'rb') as fp:\n",
    "        Cardio126_1samples=pickle.load(fp)\n",
    "        \n",
    "    sampleGroup1=Cardio126_0samples\n",
    "    sampleGroup1name='%s0samples_reSampled2' %phen\n",
    "    sampleGroup2=Cardio126_1samples\n",
    "    sampleGroup2name='%s1samples_reSampled2' %phen\n",
    "    output_dir='/net/mraid08/export/jafar/Microbiome/Analyses/ShaniBAF/\\\n",
    "sharingAnalysis/seqClusters_allProd_maxdist1/Fisher_MW_comparisons/'\n",
    "    sampleByClusterDF=sampleByClusterDF\n",
    "    percShared=0.5\n",
    "    nShared=None\n",
    "\n",
    "    compare_seq_clusters_wrapper(sampleByClusterDF,sampleGroup1,sampleGroup1name,sampleGroup2,sampleGroup2name,output_dir,\n",
    "                                     percShared,nShared=nShared)"
   ]
  },
  {
   "cell_type": "markdown",
   "metadata": {},
   "source": [
    "### OSTIAL:"
   ]
  },
  {
   "cell_type": "code",
   "execution_count": null,
   "metadata": {
    "ExecuteTime": {
     "end_time": "2019-01-10T15:32:52.910381Z",
     "start_time": "2019-01-10T15:32:20.861048Z"
    }
   },
   "outputs": [],
   "source": [
    "# phen_list=['DischargeClopidogrel','PCI1_CABG','ChiefComplaintmapped_anginalpain']\n",
    "phen_list=['OstialCXDisease']\n",
    "\n",
    "for phen in phen_list:\n",
    "    print ('')\n",
    "    print (phen)\n",
    "\n",
    "    # get samples lists:\n",
    "    with open('/net/mraid08/export/genie/Lab/Personal/ShaniBAF/Sample files/BD lists/ostial0samples_reSampled','rb') as fp:\n",
    "        Cardio126_0samples=pickle.load(fp)\n",
    "    with open('/net/mraid08/export/genie/Lab/Personal/ShaniBAF/Sample files/BD lists/ostial234samples_reSampled','rb') as fp:\n",
    "        Cardio126_1samples=pickle.load(fp)\n",
    "        \n",
    "    nShared=math.ceil(min(len(Cardio126_0samples),len(Cardio126_1samples))*0.6)\n",
    "    print ('nShared=',nShared)\n",
    "\n",
    "    sampleGroup1=Cardio126_0samples\n",
    "    sampleGroup1name='%s0samples' %phen\n",
    "    sampleGroup2=Cardio126_1samples\n",
    "    sampleGroup2name='%s1samples' %phen\n",
    "    output_dir='/net/mraid08/export/jafar/Microbiome/Analyses/ShaniBAF/\\\n",
    "sharingAnalysis/seqClusters_allProd_maxdist1/Fisher_MW_comparisons/'\n",
    "    sampleByClusterDF=sampleByClusterDF\n",
    "    percShared=0.25\n",
    "\n",
    "    compare_seq_clusters_wrapper(sampleByClusterDF,sampleGroup1,sampleGroup1name,sampleGroup2,sampleGroup2name,output_dir,\n",
    "                                     percShared,nShared=nShared)"
   ]
  },
  {
   "cell_type": "code",
   "execution_count": null,
   "metadata": {},
   "outputs": [],
   "source": []
  },
  {
   "cell_type": "markdown",
   "metadata": {},
   "source": [
    "# investigate MW-Fisher results:"
   ]
  },
  {
   "cell_type": "markdown",
   "metadata": {},
   "source": [
    "## def function:"
   ]
  },
  {
   "cell_type": "code",
   "execution_count": 62,
   "metadata": {
    "ExecuteTime": {
     "end_time": "2019-01-12T22:47:48.874737Z",
     "start_time": "2019-01-12T22:47:48.564715Z"
    }
   },
   "outputs": [],
   "source": [
    "def gen_string_from_dict(dict1):\n",
    "    a=''  \n",
    "    for k,v in dict1.items():\n",
    "        i=':'.join([str(k),str(v)])\n",
    "        a=','.join([a,i])\n",
    "        \n",
    "    return a\n",
    "\n",
    "\n",
    "def explore_MW_Fisher_results(phen, result_name, output_dir,limitTo=None,result_sig_thresh_p=0.05,\n",
    "                              resultsToCompare=None,resultsToCompare_sig_thresh_p=0.1,getIdentities=True,sig_clusters_list=None):\n",
    "    from scipy.stats import chi2_contingency\n",
    "    #get result df:\n",
    "#     test_results=[x for x in listdir(results_dir) if ((phen in x) & ('Clusters' in x))]\n",
    "#     print (len(test_results))\n",
    "#     if len(test_results)>1: \n",
    "#         print ('more than one relevant file')\n",
    "#         return\n",
    "#     else: \n",
    "#         for result_file in test_results:\n",
    "#             print ('loading file: ',result_file)\n",
    "#             result=pd.read_excel(results_dir+result_file\n",
    "    results_folder=output_dir+'Fisher_MW_comparisons/'\n",
    "    result=pd.read_excel(results_folder+result_name+'.xlsx')\n",
    "            \n",
    "    #get significant results:\n",
    "    print ('getting significant results:')\n",
    "    result_sig=result[(result['corr p_values by FDR=0.1_Fisher']<result_sig_thresh_p) | (result['corr p_values by FDR=0.1_MW']<result_sig_thresh_p)]\n",
    "    \n",
    "    if limitTo is not None:\n",
    "        print ('using only top %s results' %limitTo)\n",
    "        result_sig=result_sig[:limitTo]\n",
    "        \n",
    "    #get general sequence info:\n",
    "    print ('getting general sequence info...')\n",
    "    from collections import Counter\n",
    "    \n",
    "    levDistMatTotalFile=output_dir+'levDistMatTotal.dat'\n",
    "    levDistMatTotal=pd.read_pickle(levDistMatTotalFile)\n",
    "    \n",
    "    #get seqID matrix:\n",
    "    print ('getting seqID info')\n",
    "    for f in listdir(output_dir):\n",
    "        if 'seqID' in f: seq_ID_file=f\n",
    "    f3=output_dir+seq_ID_file\n",
    "    seqID=pd.read_pickle(f3)\n",
    "    \n",
    "    #get results from other result files:\n",
    "    if resultsToCompare is not None:\n",
    "        if sig_clusters_list is None:\n",
    "            sig_clusters_list=[]\n",
    "            print ('getting results from other files...')\n",
    "            for res_name in resultsToCompare:\n",
    "                if (res_name!=result_name) and ('analyzed' not in res_name):\n",
    "                    try:\n",
    "                        res=pd.read_excel(results_folder+res_name)\n",
    "                    except:\n",
    "                        res=pd.read_excel(results_folder+res_name+'.xlsx')\n",
    "                    sig_clusters=res[(res['corr p_values by FDR=0.1_Fisher']<resultsToCompare_sig_thresh_p) | (res['corr p_values by FDR=0.1_MW']<resultsToCompare_sig_thresh_p)]['cluster_head'].tolist()\n",
    "                    res_name=res_name.replace('Fisher_MW_results_','')\n",
    "                    sig_clusters_list.append(tuple([res_name,sig_clusters]))\n",
    "                    print ('number of sig. clusters in %s is %s' %(res_name,len(sig_clusters)))\n",
    "                \n",
    "    if getIdentities:\n",
    "        CDR3_identity=pd.read_excel('/net/mraid08/export/genie/Lab/Personal/ShaniBAF/TCR CDR3 sequence databases/combined annotation_list_clean_popped.xlsx')\n",
    "        all_identities= CDR3_identity['combined annotation_list_clean'].dropna().tolist()\n",
    "        all_indentities_counter=Counter(all_identities)\n",
    "        print (\"all_indentities_counter: \", all_indentities_counter)\n",
    "        \n",
    "    #get sequences in cluster and their identities:\n",
    "    print ('getting info for each cluster...')\n",
    "    phen_related_identities={};\n",
    "    \n",
    "    print ('number of sig results to analyze: ', len(result_sig.index))\n",
    "    \n",
    "    for row in result_sig.index:\n",
    "        print (row)\n",
    "        cluster_head=result_sig.loc[row,'cluster_head']\n",
    "        \n",
    "       \n",
    "        #get seqID for cluster head:\n",
    "        try:\n",
    "            head_ID=list(np.where(seqID == cluster_head)[0])[0]\n",
    "        except: \n",
    "            print ('this row is repeated more than once?')\n",
    "            head_ID=list(np.where(seqID == cluster_head.tolist()[0])[0])[0]\n",
    "        #get IDs for all sequences in the cluster:\n",
    "        cluster_seq_IDs=levDistMatTotal[levDistMatTotal['seq1id']==head_ID]['seq2id'].tolist()\n",
    "\n",
    "        #get sequences for all sequences in the cluster:\n",
    "        cluster_seq_sequences=[seqID.loc[x] for x in cluster_seq_IDs]\n",
    "\n",
    "    #   if get identities:\n",
    "        if getIdentities:\n",
    "            annot_list=[]\n",
    "            for seq in cluster_seq_sequences:\n",
    "                try:\n",
    "                    annot=CDR3_identity.loc[seq,'combined annotation_list_clean']\n",
    "                    try:\n",
    "                        print (annot.shape) #a way to detect whether a sequence has more than 1 annotation (then it will become a series here)\n",
    "                        print ('sequence %s has more than 1 annotations' %seq)\n",
    "                        print (annot)\n",
    "                        for a1 in list(annot):\n",
    "                            annot_list.append(a1)\n",
    "                    except:\n",
    "                        annot_list.append(annot)\n",
    "                except:\n",
    "                    annot_list.append(None)\n",
    "\n",
    "            identities_count=Counter(annot_list)\n",
    "            for k,v in identities_count.items():\n",
    "                try:\n",
    "                    phen_related_identities[k]=phen_related_identities[k]+v\n",
    "                except:\n",
    "                    phen_related_identities[k]=v\n",
    "\n",
    "            result_sig.loc[row,'n sequences in cluster']=len(cluster_seq_sequences)+1\n",
    "            result_sig.loc[row,'cluster sequences']=','.join(cluster_seq_sequences)\n",
    "                        \n",
    "            a=gen_string_from_dict(identities_count)\n",
    "            result_sig.loc[row,'annotation summary']=a\n",
    "           \n",
    "        if resultsToCompare is not None:\n",
    "            alsoAppear_list=[]\n",
    "            for item in sig_clusters_list:\n",
    "                if (cluster_head in item[1]) & (item[0] not in result_name): alsoAppear_list.append(item[0])\n",
    "            result_sig.loc[row,'Also sig. in']=','.join(alsoAppear_list)\n",
    "            \n",
    "    #compare annotation distributions:\n",
    "    print ('comparing annotation distributions...')\n",
    "    phen_related_identities={i:phen_related_identities[i] for i in phen_related_identities if i!=None}\n",
    "    print ('phen_related_identities:')\n",
    "    print (phen_related_identities)\n",
    "    annot_table=pd.concat([pd.DataFrame(index=['all_indentities_counter'],data=all_indentities_counter),\n",
    "                        pd.DataFrame(index=['phen_related_identities'],data=phen_related_identities)]).fillna(0)\n",
    "#     print ('annot_table:')\n",
    "#     print (annot_table)\n",
    "    result_sig.loc['all_indentities_counter','annotation summary']=gen_string_from_dict(all_indentities_counter)\n",
    "    result_sig.loc['phen_related_identities','annotation summary']=gen_string_from_dict(phen_related_identities)\n",
    "       \n",
    "    try:\n",
    "        chi2,p,dof,expected = chi2_contingency(annot_table)\n",
    "        print ('chi2 p = ',p)  \n",
    "        result_sig.loc['chi_test_p','annotation summary']=p\n",
    "    except:\n",
    "        print ('couldnt execute fisher test for this phenotype')\n",
    "        \n",
    "    \n",
    "    print ('saving results...')\n",
    "    f1=(results_folder+result_name+'_top%sp%s_analyzed.xlsx' %(limitTo,result_sig_thresh_p))\n",
    "    result_sig.to_excel(f1)\n",
    "    \n",
    "    print ('analyzed results saved')\n",
    "    \n",
    "\n",
    "    return result_sig\n",
    "    "
   ]
  },
  {
   "cell_type": "markdown",
   "metadata": {},
   "source": [
    "## generate sig_clusters_list"
   ]
  },
  {
   "cell_type": "code",
   "execution_count": null,
   "metadata": {
    "ExecuteTime": {
     "end_time": "2019-01-09T08:52:40.133337Z",
     "start_time": "2019-01-09T08:52:40.128002Z"
    }
   },
   "outputs": [],
   "source": [
    "'abc' in 'abcd'"
   ]
  },
  {
   "cell_type": "code",
   "execution_count": 63,
   "metadata": {
    "ExecuteTime": {
     "end_time": "2019-01-12T22:50:08.885602Z",
     "start_time": "2019-01-12T22:50:08.820176Z"
    }
   },
   "outputs": [
    {
     "ename": "NameError",
     "evalue": "name 'sig_clusters_list' is not defined",
     "output_type": "error",
     "traceback": [
      "\u001b[0;31m---------------------------------------------------------------------------\u001b[0m",
      "\u001b[0;31mNameError\u001b[0m                                 Traceback (most recent call last)",
      "\u001b[0;32m<ipython-input-63-018684366982>\u001b[0m in \u001b[0;36m<module>\u001b[0;34m()\u001b[0m\n\u001b[1;32m      4\u001b[0m \u001b[0mresultsToCompare_sig_thresh_p\u001b[0m\u001b[0;34m=\u001b[0m\u001b[0;36m0.1\u001b[0m\u001b[0;34m\u001b[0m\u001b[0m\n\u001b[1;32m      5\u001b[0m \u001b[0mgetIdentities\u001b[0m\u001b[0;34m=\u001b[0m\u001b[0mTrue\u001b[0m\u001b[0;34m\u001b[0m\u001b[0m\n\u001b[0;32m----> 6\u001b[0;31m \u001b[0msig_clusters_list\u001b[0m\u001b[0;34m=\u001b[0m\u001b[0msig_clusters_list\u001b[0m\u001b[0;34m\u001b[0m\u001b[0m\n\u001b[0m\u001b[1;32m      7\u001b[0m \u001b[0;34m\u001b[0m\u001b[0m\n\u001b[1;32m      8\u001b[0m \u001b[0mresultsToCompare\u001b[0m\u001b[0;34m=\u001b[0m\u001b[0;34m[\u001b[0m\u001b[0mf\u001b[0m \u001b[0;32mfor\u001b[0m \u001b[0mf\u001b[0m \u001b[0;32min\u001b[0m \u001b[0mlistdir\u001b[0m\u001b[0;34m(\u001b[0m\u001b[0moutput_dir\u001b[0m\u001b[0;34m+\u001b[0m\u001b[0;34m'Fisher_MW_comparisons/'\u001b[0m\u001b[0;34m)\u001b[0m \u001b[0;32mif\u001b[0m \u001b[0misfile\u001b[0m\u001b[0;34m(\u001b[0m\u001b[0moutput_dir\u001b[0m\u001b[0;34m+\u001b[0m\u001b[0;34m'Fisher_MW_comparisons/'\u001b[0m\u001b[0;34m+\u001b[0m\u001b[0mf\u001b[0m\u001b[0;34m)\u001b[0m\u001b[0;34m]\u001b[0m\u001b[0;34m\u001b[0m\u001b[0m\n",
      "\u001b[0;31mNameError\u001b[0m: name 'sig_clusters_list' is not defined"
     ]
    }
   ],
   "source": [
    "output_dir='/net/mraid08/export/jafar/Microbiome/Analyses/ShaniBAF/\\\n",
    "sharingAnalysis/seqClusters_allProd_maxdist1/'\n",
    "results_folder=output_dir+'Fisher_MW_comparisons/'\n",
    "result_sig_thresh_p=0.05\n",
    "resultsToCompare_sig_thresh_p=0.1\n",
    "getIdentities=True\n",
    "sig_clusters_list=sig_clusters_list\n",
    "\n",
    "resultsToCompare=[f for f in listdir(output_dir+'Fisher_MW_comparisons/') if isfile(output_dir+'Fisher_MW_comparisons/'+f)]\n",
    "sig_clusters_list=[]\n",
    "print ('getting results from other files...')\n",
    "for res_name in resultsToCompare:\n",
    "#     if (res_name!=result_name) and ('analyzed' not in res_name):\n",
    "    if 'analyzed' not in res_name:\n",
    "        try:\n",
    "            res=pd.read_excel(results_folder+res_name)\n",
    "        except:\n",
    "            res=pd.read_excel(results_folder+res_name+'.xlsx')\n",
    "        sig_clusters=res[(res['corr p_values by FDR=0.1_Fisher']<resultsToCompare_sig_thresh_p) | (res['corr p_values by FDR=0.1_MW']<resultsToCompare_sig_thresh_p)]['cluster_head'].tolist()\n",
    "        res_name=res_name.replace('Fisher_MW_results_','')\n",
    "        sig_clusters_list.append(tuple([res_name,sig_clusters]))\n",
    "        print ('number of sig. clusters in %s is %s' %(res_name,len(sig_clusters)))"
   ]
  },
  {
   "cell_type": "markdown",
   "metadata": {},
   "source": [
    "## run for all phenotypes in figure 3:"
   ]
  },
  {
   "cell_type": "code",
   "execution_count": null,
   "metadata": {
    "ExecuteTime": {
     "end_time": "2019-01-10T14:23:30.231748Z",
     "start_time": "2019-01-10T14:20:38.225293Z"
    }
   },
   "outputs": [],
   "source": [
    "phen_list=[('DischargeClopidogrel','Fisher_MW_results_DischargeClopidogrel0samples_DischargeClopidogrel1samples_percShared025_percTooMany095'),\n",
    "            ('OstialCXDisease','Fisher_MW_results_ostial0samples_ostial234samples_percShared025_percTooMany09'),\n",
    "            ('MaximalTroponin','Fisher_MW_results_Cardio126_bottom20MaximalTroponin_Cardio126_top20MaximalTroponin_percShared025_percTooMany095'),\n",
    "            ('PCI1_CABG','Fisher_MW_results_PCI1_CABG0samples_PCI1_CABG1samples_percShared025_percTooMany095'),\n",
    "            ('ChiefComplaintmapped_anginalpain','Fisher_MW_results_ChiefComplaintmapped_anginalpain0samples_ChiefComplaintmapped_anginalpain1samples_percShared025_percTooMany095')]\n",
    "\n",
    "for item in phen_list:\n",
    "    print ('************'+item[0]+'***********')\n",
    "    print ('')\n",
    "    phen=item[0]\n",
    "    result_name=item[1]\n",
    "    output_dir='/net/mraid08/export/jafar/Microbiome/Analyses/ShaniBAF/\\\n",
    "sharingAnalysis/seqClusters_allProd_maxdist1/'\n",
    "    limitTo=10\n",
    "    resultsToCompare=[f for f in listdir(output_dir+'Fisher_MW_comparisons/') if isfile(output_dir+'Fisher_MW_comparisons/'+f)]\n",
    "    # ['Fisher_MW_results_Cardio126_bottom20Age_Cardio126_top20Age_percShared025_percTooMany095',\n",
    "    # 'Fisher_MW_results_Gender_Male0samples_Gender_Male1samples_percShared025_percTooMany095',\n",
    "    # 'Fisher_MW_results_Cardio126_bottom20MaximalTroponin_Cardio126_top20MaximalTroponin_percShared025_percTooMany095',\n",
    "    # '']\n",
    "    result_sig_thresh_p=0.05\n",
    "    resultsToCompare_sig_thresh_p=0.1\n",
    "    getIdentities=True\n",
    "    sig_clusters_list=sig_clusters_list\n",
    "\n",
    "    result_sig=explore_MW_Fisher_results(phen, result_name, output_dir,limitTo,result_sig_thresh_p,\n",
    "                                  resultsToCompare,resultsToCompare_sig_thresh_p,getIdentities,sig_clusters_list)\n",
    "\n",
    "\n",
    "    "
   ]
  },
  {
   "cell_type": "code",
   "execution_count": null,
   "metadata": {
    "ExecuteTime": {
     "end_time": "2019-01-08T11:03:30.626129Z",
     "start_time": "2019-01-08T11:03:30.488647Z"
    }
   },
   "outputs": [],
   "source": [
    "result_sig"
   ]
  },
  {
   "cell_type": "code",
   "execution_count": null,
   "metadata": {},
   "outputs": [],
   "source": []
  },
  {
   "cell_type": "code",
   "execution_count": null,
   "metadata": {},
   "outputs": [],
   "source": []
  },
  {
   "cell_type": "code",
   "execution_count": null,
   "metadata": {},
   "outputs": [],
   "source": []
  },
  {
   "cell_type": "markdown",
   "metadata": {},
   "source": [
    "# genertate x matrix with clusters, singelton sequences, annot, top features"
   ]
  },
  {
   "cell_type": "markdown",
   "metadata": {},
   "source": [
    "## filter sequence matrix for those who are not in any clusters:"
   ]
  },
  {
   "cell_type": "code",
   "execution_count": 3,
   "metadata": {
    "ExecuteTime": {
     "end_time": "2019-01-12T20:23:24.997528Z",
     "start_time": "2019-01-12T20:23:24.911390Z"
    }
   },
   "outputs": [],
   "source": [
    "# load seqeunce df:\n",
    "f6 = '/net/mraid08/export/genie/Lab/Personal/ShaniBAF/TCR_real_data/PNP530Cardio126Combined/sharingAnalysis/prod_sharedBy5-85percPerCohort.dat'\n",
    "sampleBySeqs_prod_perc=pd.read_pickle(f6)"
   ]
  },
  {
   "cell_type": "code",
   "execution_count": 4,
   "metadata": {
    "ExecuteTime": {
     "end_time": "2019-01-12T20:23:34.903671Z",
     "start_time": "2019-01-12T20:23:34.894658Z"
    }
   },
   "outputs": [
    {
     "data": {
      "text/plain": [
       "(656, 6145)"
      ]
     },
     "execution_count": 4,
     "metadata": {},
     "output_type": "execute_result"
    }
   ],
   "source": [
    "sampleBySeqs_prod_perc.shape"
   ]
  },
  {
   "cell_type": "code",
   "execution_count": 23,
   "metadata": {
    "ExecuteTime": {
     "end_time": "2019-01-12T20:51:36.341724Z",
     "start_time": "2019-01-12T20:51:35.501984Z"
    }
   },
   "outputs": [
    {
     "data": {
      "text/html": [
       "<div>\n",
       "<style scoped>\n",
       "    .dataframe tbody tr th:only-of-type {\n",
       "        vertical-align: middle;\n",
       "    }\n",
       "\n",
       "    .dataframe tbody tr th {\n",
       "        vertical-align: top;\n",
       "    }\n",
       "\n",
       "    .dataframe thead th {\n",
       "        text-align: right;\n",
       "    }\n",
       "</style>\n",
       "<table border=\"1\" class=\"dataframe\">\n",
       "  <thead>\n",
       "    <tr style=\"text-align: right;\">\n",
       "      <th></th>\n",
       "      <th>seq1id</th>\n",
       "      <th>seq2id</th>\n",
       "      <th>dist</th>\n",
       "    </tr>\n",
       "  </thead>\n",
       "  <tbody>\n",
       "    <tr>\n",
       "      <th>0</th>\n",
       "      <td>728000.0</td>\n",
       "      <td>3171972.0</td>\n",
       "      <td>1.0</td>\n",
       "    </tr>\n",
       "    <tr>\n",
       "      <th>1</th>\n",
       "      <td>728001.0</td>\n",
       "      <td>1408394.0</td>\n",
       "      <td>1.0</td>\n",
       "    </tr>\n",
       "    <tr>\n",
       "      <th>2</th>\n",
       "      <td>728001.0</td>\n",
       "      <td>2027439.0</td>\n",
       "      <td>1.0</td>\n",
       "    </tr>\n",
       "    <tr>\n",
       "      <th>3</th>\n",
       "      <td>728002.0</td>\n",
       "      <td>2600393.0</td>\n",
       "      <td>1.0</td>\n",
       "    </tr>\n",
       "    <tr>\n",
       "      <th>4</th>\n",
       "      <td>728002.0</td>\n",
       "      <td>3162984.0</td>\n",
       "      <td>1.0</td>\n",
       "    </tr>\n",
       "  </tbody>\n",
       "</table>\n",
       "</div>"
      ],
      "text/plain": [
       "     seq1id     seq2id  dist\n",
       "0  728000.0  3171972.0   1.0\n",
       "1  728001.0  1408394.0   1.0\n",
       "2  728001.0  2027439.0   1.0\n",
       "3  728002.0  2600393.0   1.0\n",
       "4  728002.0  3162984.0   1.0"
      ]
     },
     "execution_count": 23,
     "metadata": {},
     "output_type": "execute_result"
    }
   ],
   "source": [
    "# get all sequences that are in a cluster:\n",
    "\n",
    "levDistMatTotalProdFile='/net/mraid08/export/genie/Lab/Personal/ShaniBAF/TCR_real_data/PNP530Cardio126Combined/sharingAnalysis/seqClusters_allProd_maxdist1/levDistMatTotal.dat'\n",
    "levDistMatTotalProd=pd.read_pickle(levDistMatTotalProdFile)\n",
    "levDistMatTotalProd.head()"
   ]
  },
  {
   "cell_type": "code",
   "execution_count": 28,
   "metadata": {
    "ExecuteTime": {
     "end_time": "2019-01-12T20:59:07.491493Z",
     "start_time": "2019-01-12T20:59:02.712049Z"
    }
   },
   "outputs": [
    {
     "name": "stdout",
     "output_type": "stream",
     "text": [
      "3648851\n"
     ]
    }
   ],
   "source": [
    "seqs_in_clusters=list(set(levDistMatTotalProd['seq1id'].unique().tolist()+levDistMatTotalProd['seq2id'].unique().tolist()))\n",
    "print (len(seqs_in_clusters))"
   ]
  },
  {
   "cell_type": "code",
   "execution_count": 27,
   "metadata": {
    "ExecuteTime": {
     "end_time": "2019-01-12T20:56:29.044485Z",
     "start_time": "2019-01-12T20:56:26.898900Z"
    }
   },
   "outputs": [
    {
     "name": "stdout",
     "output_type": "stream",
     "text": [
      "2942935\n",
      "2940635\n"
     ]
    }
   ],
   "source": [
    "print (levDistMatTotalProd['seq1id'].nunique())\n",
    "print (levDistMatTotalProd['seq2id'].nunique())"
   ]
  },
  {
   "cell_type": "code",
   "execution_count": 31,
   "metadata": {
    "ExecuteTime": {
     "end_time": "2019-01-12T21:04:24.725461Z",
     "start_time": "2019-01-12T21:04:20.954825Z"
    }
   },
   "outputs": [
    {
     "data": {
      "text/plain": [
       "0        CASSQDLTQGRGYTF\n",
       "1    CASSYSYYELANSYNEQFF\n",
       "2        CASSQRTGVSRTQYF\n",
       "3             CSGKDRSYTF\n",
       "4         CASVRGRALATAFF\n",
       "Name: seq, dtype: object"
      ]
     },
     "execution_count": 31,
     "metadata": {},
     "output_type": "execute_result"
    }
   ],
   "source": [
    "f3='/net/mraid08/export/jafar/Microbiome/Analyses/ShaniBAF/sharingAnalysis/seqClusters_allProd_maxdist1/seqID_prod.dat'\n",
    "seqID=pd.read_pickle(f3)\n",
    "seqID.head()"
   ]
  },
  {
   "cell_type": "code",
   "execution_count": 32,
   "metadata": {
    "ExecuteTime": {
     "end_time": "2019-01-12T21:06:02.643274Z",
     "start_time": "2019-01-12T21:05:56.991110Z"
    }
   },
   "outputs": [
    {
     "name": "stdout",
     "output_type": "stream",
     "text": [
      "['CASSQDLTQGRGYTF', 'CASSQRTGVSRTQYF', 'CSARLVAETQYF', 'CASSLDGTGIPGELFF', 'CASTPLLAGVYNEQFF']\n",
      "3648851\n"
     ]
    }
   ],
   "source": [
    "seqs_in_clusters_2=seqID.loc[seqs_in_clusters].tolist()\n",
    "print (seqs_in_clusters_2[:5])\n",
    "print (len(seqs_in_clusters_2))"
   ]
  },
  {
   "cell_type": "code",
   "execution_count": 33,
   "metadata": {
    "ExecuteTime": {
     "end_time": "2019-01-12T21:07:04.222336Z",
     "start_time": "2019-01-12T21:07:04.218535Z"
    }
   },
   "outputs": [
    {
     "name": "stdout",
     "output_type": "stream",
     "text": [
      "5721875\n"
     ]
    }
   ],
   "source": [
    "print (len(seqID))"
   ]
  },
  {
   "cell_type": "code",
   "execution_count": 34,
   "metadata": {
    "ExecuteTime": {
     "end_time": "2019-01-12T21:13:04.049666Z",
     "start_time": "2019-01-12T21:08:05.584398Z"
    }
   },
   "outputs": [
    {
     "name": "stdout",
     "output_type": "stream",
     "text": [
      "1\n"
     ]
    }
   ],
   "source": [
    "cols_to_include=[x for x in sampleBySeqs_prod_perc.columns.tolist() if x not in seqs_in_clusters_2]\n",
    "print (len(cols_to_include))"
   ]
  },
  {
   "cell_type": "code",
   "execution_count": 35,
   "metadata": {
    "ExecuteTime": {
     "end_time": "2019-01-12T21:14:07.516334Z",
     "start_time": "2019-01-12T21:14:07.510528Z"
    }
   },
   "outputs": [
    {
     "data": {
      "text/html": [
       "['CASSSTSGQYNEQFF', 'CASSLTVQETQYF', 'CASSPGTEETQYF', 'CASSRGTGELFF', 'CASSLGQGREKLFF']"
      ],
      "text/plain": [
       "['CASSSTSGQYNEQFF',\n",
       " 'CASSLTVQETQYF',\n",
       " 'CASSPGTEETQYF',\n",
       " 'CASSRGTGELFF',\n",
       " 'CASSLGQGREKLFF']"
      ]
     },
     "execution_count": 35,
     "metadata": {},
     "output_type": "execute_result"
    }
   ],
   "source": [
    "sampleBySeqs_prod_perc.columns.tolist()[:5]"
   ]
  },
  {
   "cell_type": "code",
   "execution_count": 36,
   "metadata": {
    "ExecuteTime": {
     "end_time": "2019-01-12T21:15:10.610308Z",
     "start_time": "2019-01-12T21:15:10.604660Z"
    }
   },
   "outputs": [
    {
     "data": {
      "text/html": [
       "['CASSQDLTQGRGYTF', 'CASSQRTGVSRTQYF', 'CSARLVAETQYF', 'CASSLDGTGIPGELFF', 'CASTPLLAGVYNEQFF']"
      ],
      "text/plain": [
       "['CASSQDLTQGRGYTF',\n",
       " 'CASSQRTGVSRTQYF',\n",
       " 'CSARLVAETQYF',\n",
       " 'CASSLDGTGIPGELFF',\n",
       " 'CASTPLLAGVYNEQFF']"
      ]
     },
     "execution_count": 36,
     "metadata": {},
     "output_type": "execute_result"
    }
   ],
   "source": [
    "seqs_in_clusters_2[:5]"
   ]
  },
  {
   "cell_type": "code",
   "execution_count": 37,
   "metadata": {
    "ExecuteTime": {
     "end_time": "2019-01-12T21:16:14.054195Z",
     "start_time": "2019-01-12T21:16:14.047170Z"
    }
   },
   "outputs": [
    {
     "data": {
      "text/html": [
       "['F']"
      ],
      "text/plain": [
       "['F']"
      ]
     },
     "execution_count": 37,
     "metadata": {},
     "output_type": "execute_result"
    }
   ],
   "source": [
    "cols_to_include"
   ]
  },
  {
   "cell_type": "markdown",
   "metadata": {},
   "source": [
    "Conclusion: there is no real sequence that is not in clusters among seqeunces that are shared by 5-85 percent of samples!!"
   ]
  },
  {
   "cell_type": "markdown",
   "metadata": {},
   "source": [
    "## get clsuter df and filter to 0.05-0.85%:"
   ]
  },
  {
   "cell_type": "code",
   "execution_count": 16,
   "metadata": {
    "ExecuteTime": {
     "end_time": "2019-01-12T20:39:12.212998Z",
     "start_time": "2019-01-12T20:38:55.513438Z"
    }
   },
   "outputs": [
    {
     "name": "stdout",
     "output_type": "stream",
     "text": [
      "filtering out clusters that appear in more than 558.0 (0.85) samples\n",
      "final sampleByClusterDF_perc shape is:  (656, 536761)\n"
     ]
    }
   ],
   "source": [
    "# get clsuter df and filter to 0.05-0.85%:\n",
    "percTooMany=0.85\n",
    "sampleByClusterDF=pd.read_pickle('/net/mraid08/export/jafar/Microbiome/Analyses/ShaniBAF/\\\n",
    "sharingAnalysis/seqClusters_allProd_maxdist1/sampleByClusterDF_cohortfiltering005-09perc_dropped.dat')\n",
    "\n",
    "nTooMany = math.ceil(len(sampleByClusterDF) * percTooMany)\n",
    "print ('filtering out clusters that appear in more than %s (%s) samples' % (nTooMany, percTooMany))\n",
    "sampleByClusterDF_perc = sampleByClusterDF.loc[:, sampleByClusterDF.count() < nTooMany]\n",
    "print ('final sampleByClusterDF_perc shape is: ', sampleByClusterDF_perc.shape)"
   ]
  },
  {
   "cell_type": "code",
   "execution_count": 17,
   "metadata": {
    "ExecuteTime": {
     "end_time": "2019-01-12T20:41:40.223434Z",
     "start_time": "2019-01-12T20:41:25.790304Z"
    }
   },
   "outputs": [
    {
     "data": {
      "text/plain": [
       "8"
      ]
     },
     "execution_count": 17,
     "metadata": {},
     "output_type": "execute_result"
    }
   ],
   "source": [
    "sampleByClusterDF_perc.count().min()"
   ]
  },
  {
   "cell_type": "code",
   "execution_count": 19,
   "metadata": {
    "ExecuteTime": {
     "end_time": "2019-01-12T20:42:56.201237Z",
     "start_time": "2019-01-12T20:42:41.540382Z"
    }
   },
   "outputs": [
    {
     "data": {
      "text/plain": [
       "557"
      ]
     },
     "execution_count": 19,
     "metadata": {},
     "output_type": "execute_result"
    }
   ],
   "source": [
    "sampleByClusterDF_perc.count().max()"
   ]
  },
  {
   "cell_type": "code",
   "execution_count": 20,
   "metadata": {
    "ExecuteTime": {
     "end_time": "2019-01-12T20:43:57.357733Z",
     "start_time": "2019-01-12T20:43:57.347108Z"
    }
   },
   "outputs": [
    {
     "data": {
      "text/plain": [
       "(656, 536984)"
      ]
     },
     "execution_count": 20,
     "metadata": {},
     "output_type": "execute_result"
    }
   ],
   "source": [
    "sampleByClusterDF.shape"
   ]
  },
  {
   "cell_type": "code",
   "execution_count": 21,
   "metadata": {
    "ExecuteTime": {
     "end_time": "2019-01-12T20:44:51.310436Z",
     "start_time": "2019-01-12T20:44:51.301413Z"
    }
   },
   "outputs": [
    {
     "data": {
      "text/plain": [
       "(656, 536761)"
      ]
     },
     "execution_count": 21,
     "metadata": {},
     "output_type": "execute_result"
    }
   ],
   "source": [
    "sampleByClusterDF_perc.shape"
   ]
  },
  {
   "cell_type": "code",
   "execution_count": 38,
   "metadata": {
    "ExecuteTime": {
     "end_time": "2019-01-12T21:22:31.756087Z",
     "start_time": "2019-01-12T21:22:14.153474Z"
    }
   },
   "outputs": [],
   "source": [
    "f3='/net/mraid08/export/jafar/Microbiome/Analyses/ShaniBAF/sharingAnalysis/seqClusters_allProd_maxdist1/sampleByClusterDF_cohortfiltering005-085perc_dropped.dat'\n",
    "sampleByClusterDF_perc.to_pickle(f3)"
   ]
  },
  {
   "cell_type": "markdown",
   "metadata": {},
   "source": [
    "## merge sequences and clusters and save:"
   ]
  },
  {
   "cell_type": "markdown",
   "metadata": {},
   "source": [
    "no need to merge!"
   ]
  },
  {
   "cell_type": "markdown",
   "metadata": {},
   "source": [
    "## merge clsuters with annot features and top other features:\n",
    "\n"
   ]
  },
  {
   "cell_type": "code",
   "execution_count": 53,
   "metadata": {
    "ExecuteTime": {
     "end_time": "2019-01-12T21:59:21.839136Z",
     "start_time": "2019-01-12T21:59:21.768878Z"
    }
   },
   "outputs": [],
   "source": [
    "# get olf X matrix:\n",
    "f4='/net/mraid08/export/genie/Lab/Personal/ShaniBAF/TCR_real_data/Predictions/featureDFs/X_withPredictedAgeGender.dat'\n",
    "X_withPredictedAgeGender=pd.read_pickle(f4)"
   ]
  },
  {
   "cell_type": "code",
   "execution_count": 54,
   "metadata": {
    "ExecuteTime": {
     "end_time": "2019-01-12T22:00:28.544341Z",
     "start_time": "2019-01-12T22:00:27.747650Z"
    }
   },
   "outputs": [],
   "source": [
    "# get only annot and top features out of it:\n",
    "annotDF=pd.read_excel('/net/mraid08/export/genie/Lab/Personal/ShaniBAF/TCR_real_data/PNP530Cardio126Combined/\\\n",
    "annotationFeatures/PNP530Cardio126_PNP530Cardio126_annotationFeatures_withRels_noCorr0-99_nanFilled_noConsts.xlsx')\n",
    "\n",
    "annot_cols=annotDF.columns.tolist()"
   ]
  },
  {
   "cell_type": "code",
   "execution_count": 49,
   "metadata": {
    "ExecuteTime": {
     "end_time": "2019-01-12T21:51:56.701956Z",
     "start_time": "2019-01-12T21:51:56.687640Z"
    }
   },
   "outputs": [],
   "source": [
    "topFeatures=['AA count_0','AA count_1','NT count_0','NT count_1','cdr3Length_max_0','cdr3Length_max_1','cdr3Length_mean_0',\n",
    "'cdr3Length_mean_1','cdr3Length_std_0','cdr3Length_std_1','frequencyCount (%)_max_0','frequencyCount (%)_max_1',\n",
    "'frequencyCount (%)_mean_0','frequencyCount (%)_mean_1','frequencyCount (%)_std_0','frequencyCount (%)_std_1',\n",
    "'gc_content_0','gc_content_1','max_nt_per_aa_0','max_nt_per_aa_1','mean_nt_per_aa_0','mean_nt_per_aa_1',\n",
    "'n1Insertion_mean_0','n1Insertion_mean_1','n2Insertion_mean_0','n2Insertion_mean_1','normSeqNums_per2000_NT_0',\n",
    "'normSeqNums_per2000_NT_1','normSeqNums_per200_AA_0','normSeqNums_per200_AA_1','shannon_aa_0','shannon_aa_1',\n",
    "'shannon_nt_0','shannon_nt_1','top1000clonal_aa_1','top1000clonal_nt_0','top1000clonal_nt_1','top10clonal_aa_0',\n",
    "'top10clonal_aa_1','top10clonal_nt_0']\n"
   ]
  },
  {
   "cell_type": "code",
   "execution_count": 55,
   "metadata": {
    "ExecuteTime": {
     "end_time": "2019-01-12T22:01:34.641985Z",
     "start_time": "2019-01-12T22:01:34.630387Z"
    }
   },
   "outputs": [
    {
     "data": {
      "text/plain": [
       "(656, 94)"
      ]
     },
     "execution_count": 55,
     "metadata": {},
     "output_type": "execute_result"
    }
   ],
   "source": [
    "newX_withPredictedAgeGender=X_withPredictedAgeGender[annot_cols+topFeatures]\n",
    "newX_withPredictedAgeGender.shape"
   ]
  },
  {
   "cell_type": "code",
   "execution_count": 56,
   "metadata": {
    "ExecuteTime": {
     "end_time": "2019-01-12T22:02:41.263474Z",
     "start_time": "2019-01-12T22:02:40.157278Z"
    }
   },
   "outputs": [
    {
     "data": {
      "text/plain": [
       "(656, 536855)"
      ]
     },
     "execution_count": 56,
     "metadata": {},
     "output_type": "execute_result"
    }
   ],
   "source": [
    "#merge with clusters and save:\n",
    "newX_withPredictedAgeGender=pd.merge(newX_withPredictedAgeGender,sampleByClusterDF_perc,how='outer',left_index=True,right_index=True)\n",
    "newX_withPredictedAgeGender.shape\n"
   ]
  },
  {
   "cell_type": "code",
   "execution_count": 58,
   "metadata": {
    "ExecuteTime": {
     "end_time": "2019-01-12T22:05:29.387962Z",
     "start_time": "2019-01-12T22:05:12.431584Z"
    }
   },
   "outputs": [],
   "source": [
    "f4='/net/mraid08/export/genie/Lab/Personal/ShaniBAF/TCR_real_data/Predictions/featureDFs/newX_withPredictedAgeGender.dat'\n",
    "newX_withPredictedAgeGender.to_pickle(f4)"
   ]
  },
  {
   "cell_type": "code",
   "execution_count": 59,
   "metadata": {
    "ExecuteTime": {
     "end_time": "2019-01-12T22:09:41.433269Z",
     "start_time": "2019-01-12T22:09:41.155417Z"
    }
   },
   "outputs": [
    {
     "data": {
      "text/plain": [
       "(126, 536855)"
      ]
     },
     "execution_count": 59,
     "metadata": {},
     "output_type": "execute_result"
    }
   ],
   "source": [
    "newX_withPredictedAgeGender_Cardio126=newX_withPredictedAgeGender.loc[Cardio126,:]\n",
    "newX_withPredictedAgeGender_Cardio126.shape"
   ]
  },
  {
   "cell_type": "code",
   "execution_count": 60,
   "metadata": {
    "ExecuteTime": {
     "end_time": "2019-01-12T22:12:12.562198Z",
     "start_time": "2019-01-12T22:12:08.736905Z"
    }
   },
   "outputs": [],
   "source": [
    "f4='/net/mraid08/export/genie/Lab/Personal/ShaniBAF/TCR_real_data/Predictions/featureDFs/newX_withPredictedAgeGender_Cardio126.dat'\n",
    "newX_withPredictedAgeGender_Cardio126.to_pickle(f4)"
   ]
  },
  {
   "cell_type": "code",
   "execution_count": 61,
   "metadata": {
    "ExecuteTime": {
     "end_time": "2019-01-12T22:29:13.023133Z",
     "start_time": "2019-01-12T22:29:08.578107Z"
    }
   },
   "outputs": [],
   "source": [
    "newX_withPredictedAgeGender_noNans_Cardio126=newX_withPredictedAgeGender_Cardio126.fillna(0)\n",
    "f5='/net/mraid08/export/genie/Lab/Personal/ShaniBAF/TCR_real_data/Predictions/featureDFs/newX_withPredictedAgeGender_noNans_Cardio126.dat'\n",
    "newX_withPredictedAgeGender_noNans_Cardio126.to_pickle(f5)"
   ]
  },
  {
   "cell_type": "markdown",
   "metadata": {},
   "source": [
    "# predict isCardio using the new x matrix"
   ]
  },
  {
   "cell_type": "markdown",
   "metadata": {},
   "source": [
    "# predict isCardio using seqclusters only\n",
    "1. maybe compare to prediction by non-productive?\n",
    "2. shap values--> investigate the clusters"
   ]
  }
 ],
 "metadata": {
  "kernelspec": {
   "display_name": "Python 2",
   "language": "python",
   "name": "python2"
  },
  "language_info": {
   "codemirror_mode": {
    "name": "ipython",
    "version": 2
   },
   "file_extension": ".py",
   "mimetype": "text/x-python",
   "name": "python",
   "nbconvert_exporter": "python",
   "pygments_lexer": "ipython2",
   "version": "2.7.8"
  },
  "toc": {
   "nav_menu": {},
   "number_sections": true,
   "sideBar": true,
   "skip_h1_title": false,
   "toc_cell": false,
   "toc_position": {
    "height": "571px",
    "left": "0px",
    "right": "20px",
    "top": "135px",
    "width": "250px"
   },
   "toc_section_display": "block",
   "toc_window_display": true
  },
  "varInspector": {
   "cols": {
    "lenName": 16,
    "lenType": 16,
    "lenVar": 40
   },
   "kernels_config": {
    "python": {
     "delete_cmd_postfix": "",
     "delete_cmd_prefix": "del ",
     "library": "var_list.py",
     "varRefreshCmd": "print(var_dic_list())"
    },
    "r": {
     "delete_cmd_postfix": ") ",
     "delete_cmd_prefix": "rm(",
     "library": "var_list.r",
     "varRefreshCmd": "cat(var_dic_list()) "
    }
   },
   "types_to_exclude": [
    "module",
    "function",
    "builtin_function_or_method",
    "instance",
    "_Feature"
   ],
   "window_display": false
  }
 },
 "nbformat": 4,
 "nbformat_minor": 2
}
