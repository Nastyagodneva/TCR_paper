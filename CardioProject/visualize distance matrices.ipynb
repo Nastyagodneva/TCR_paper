{
 "cells": [
  {
   "cell_type": "code",
   "execution_count": 1,
   "metadata": {},
   "outputs": [
    {
     "name": "stdout",
     "output_type": "stream",
     "text": [
      "done1\n"
     ]
    }
   ],
   "source": [
    "from os import listdir,mkdir\n",
    "from os.path import isfile, join, isdir,exists\n",
    "import pandas as pd\n",
    "import numpy as np\n",
    "from scipy import stats\n",
    "import re\n",
    "import matplotlib.pyplot as plt\n",
    "from matplotlib.backends.backend_pdf import PdfPages\n",
    "from myplots import roundup, rounddown, find_decimal_fold, percentile_cut_off, rarefaction_calc, rarefaction_plot,draw_correlation_scatter\n",
    "from matplotlib.ticker import FormatStrFormatter\n",
    "import cPickle as pickle\n",
    "from Bio.SeqUtils import GC\n",
    "import seaborn as sns\n",
    "import random\n",
    "from scipy.stats import pearsonr\n",
    "from skbio.diversity.alpha import shannon, simpson, berger_parker_d\n",
    "\n",
    "from pop_organize import get_sample_data, get_sample_with_dfs\n",
    "from SufficientStatistics.SufficientStatistics import *\n",
    "from MyFunctionsShani import *\n",
    "import math\n",
    "from myplots import roundup, rounddown, find_decimal_fold\n",
    "from skbio.stats.distance import mantel\n",
    "from scipy.spatial.distance import braycurtis, pdist\n",
    "from Feature_phenotype_functions import common_processing_feature_phenotype_matrices, editSampleNames,process_sample_matrix,order_sample_pairs_by_distance\n"
   ]
  },
  {
   "cell_type": "code",
   "execution_count": 2,
   "metadata": {},
   "outputs": [
    {
     "data": {
      "text/plain": [
       "'01022018'"
      ]
     },
     "execution_count": 2,
     "metadata": {},
     "output_type": "execute_result"
    }
   ],
   "source": [
    "import time\n",
    "cdate=str(time.strftime(\"%d%m%Y\"))\n",
    "cdate"
   ]
  },
  {
   "cell_type": "code",
   "execution_count": null,
   "metadata": {},
   "outputs": [],
   "source": [
    "#load the binary shared sequence table:\n",
    "\n",
    "file1='/net/mraid08/export/genie/Lab/Personal/ShaniBAF/TCR_real_data/PublicSeqAnalysis/sharingMatrix_moreThan10_434Samples'\n",
    "sharingMatrix_moreThan10_434Samples=pd.read_pickle(file1)"
   ]
  },
  {
   "cell_type": "code",
   "execution_count": null,
   "metadata": {},
   "outputs": [],
   "source": [
    "sharingMatrix_moreThan10_434Samples.head()"
   ]
  },
  {
   "cell_type": "code",
   "execution_count": null,
   "metadata": {},
   "outputs": [],
   "source": [
    "434*19477"
   ]
  },
  {
   "cell_type": "code",
   "execution_count": null,
   "metadata": {},
   "outputs": [],
   "source": [
    "sharingMatrix_moreThan10_434Samples.sum().sum()"
   ]
  },
  {
   "cell_type": "code",
   "execution_count": null,
   "metadata": {},
   "outputs": [],
   "source": [
    "416268./8453018"
   ]
  },
  {
   "cell_type": "code",
   "execution_count": null,
   "metadata": {},
   "outputs": [],
   "source": [
    "sharingMatrix_moreThan10_434Samples['nSharedSeqsPerPerson']=sharingMatrix_moreThan10_434Samples.sum(axis=1)\n",
    "sharingMatrix_moreThan10_434Samples.head()"
   ]
  },
  {
   "cell_type": "code",
   "execution_count": null,
   "metadata": {},
   "outputs": [],
   "source": [
    "sharingMatrix_moreThan10_434Samples.loc['nSamplesSharingSeq',:]=sharingMatrix_moreThan10_434Samples.sum(axis=0)\n",
    "sharingMatrix_moreThan10_434Samples.tail()"
   ]
  },
  {
   "cell_type": "code",
   "execution_count": null,
   "metadata": {},
   "outputs": [],
   "source": [
    "sharingMatrix_moreThan10_434Samples.iloc[:-1,:]"
   ]
  },
  {
   "cell_type": "code",
   "execution_count": null,
   "metadata": {},
   "outputs": [],
   "source": [
    "sharingMatrix_moreThan10_434Samples=sharingMatrix_moreThan10_434Samples.sort_values(by='nSharedSeqsPerPerson',\n",
    "                                                                                ascending=False)\n",
    "sharingMatrix_moreThan10_434Samples.head()"
   ]
  },
  {
   "cell_type": "code",
   "execution_count": null,
   "metadata": {},
   "outputs": [],
   "source": [
    "sharingMatrix_moreThan10_434Samples=sharingMatrix_moreThan10_434Samples.sort_values(by='nSamplesSharingSeq',\n",
    "                                                                                ascending=False,axis=1)\n",
    "sharingMatrix_moreThan10_434Samples.head()"
   ]
  },
  {
   "cell_type": "code",
   "execution_count": null,
   "metadata": {},
   "outputs": [],
   "source": [
    "sharingMatrix_moreThan10_434Samples.tail()"
   ]
  },
  {
   "cell_type": "code",
   "execution_count": null,
   "metadata": {},
   "outputs": [],
   "source": []
  },
  {
   "cell_type": "code",
   "execution_count": null,
   "metadata": {},
   "outputs": [],
   "source": []
  },
  {
   "cell_type": "code",
   "execution_count": null,
   "metadata": {},
   "outputs": [],
   "source": []
  },
  {
   "cell_type": "code",
   "execution_count": null,
   "metadata": {},
   "outputs": [],
   "source": [
    "plt.figure(figsize=(3,3))\n",
    "plt.hist(sharingMatrix_moreThan10_434Samples.iloc[1:,0])\n",
    "plt.title('sharing statistics-moreThan10binaryTable')\n",
    "plt.xlabel('nSharedSeqsPerPerson')\n",
    "plt.ylabel('Frequency')\n",
    "plt.show()"
   ]
  },
  {
   "cell_type": "code",
   "execution_count": null,
   "metadata": {},
   "outputs": [],
   "source": [
    "plt.figure(figsize=(3,3))\n",
    "plt.hist(sharingMatrix_moreThan10_434Samples.iloc[0,1:],bins=20)\n",
    "plt.title('sharing statistics-moreThan10binaryTable')\n",
    "plt.xlabel('nSamplesSharingSeq')\n",
    "plt.ylabel('Frequency')\n",
    "plt.show()"
   ]
  },
  {
   "cell_type": "code",
   "execution_count": null,
   "metadata": {},
   "outputs": [],
   "source": [
    "tmp=sharingMatrix_moreThan10_434Samples"
   ]
  },
  {
   "cell_type": "code",
   "execution_count": null,
   "metadata": {},
   "outputs": [],
   "source": [
    "sharingMatrix_moreThan10_434Samples_sorted=sharingMatrix_moreThan10_434Samples.iloc[1:,1:]\n",
    "sharingMatrix_moreThan10_434Samples_sorted_SHORT=sharingMatrix_moreThan10_434Samples_sorted.iloc[:,:1000]"
   ]
  },
  {
   "cell_type": "code",
   "execution_count": null,
   "metadata": {},
   "outputs": [],
   "source": [
    "fig, axes = plt.subplots(figsize=(20,20))\n",
    "axes.imshow(sharingMatrix_moreThan10_434Samples_sorted_SHORT, interpolation=None)\n",
    "plt.show()"
   ]
  },
  {
   "cell_type": "code",
   "execution_count": null,
   "metadata": {},
   "outputs": [],
   "source": [
    "sharingMatrix_moreThan10_434Samples_sorted_SHORT.head()"
   ]
  },
  {
   "cell_type": "code",
   "execution_count": null,
   "metadata": {},
   "outputs": [],
   "source": []
  },
  {
   "cell_type": "code",
   "execution_count": null,
   "metadata": {},
   "outputs": [],
   "source": [
    "#load the RA shared sequence table:\n",
    "\n",
    "file1='/net/mraid08/export/genie/Lab/Personal/ShaniBAF/TCR_real_data/PublicSeqAnalysis/sharingMatrix_moreThan10_434Samples_RA'\n",
    "sharingMatrix_moreThan10_434Samples_RA=pd.read_pickle(file1)"
   ]
  },
  {
   "cell_type": "code",
   "execution_count": null,
   "metadata": {},
   "outputs": [],
   "source": [
    "sharingMatrix_moreThan10_434Samples_RA.head()"
   ]
  },
  {
   "cell_type": "code",
   "execution_count": null,
   "metadata": {},
   "outputs": [],
   "source": [
    "sharingMatrix_moreThan10_434Samples_RA['TotalFreqOfAllSharedSeqsPerSample']=sharingMatrix_moreThan10_434Samples_RA.sum(axis=1)\n",
    "sharingMatrix_moreThan10_434Samples_RA.head()"
   ]
  },
  {
   "cell_type": "code",
   "execution_count": null,
   "metadata": {},
   "outputs": [],
   "source": [
    "sharingMatrix_moreThan10_434Samples_RA.loc['TotalFreqOfSeqOverAllSamples']=sharingMatrix_moreThan10_434Samples_RA.sum(axis=0)\n",
    "sharingMatrix_moreThan10_434Samples_RA.tail()"
   ]
  },
  {
   "cell_type": "code",
   "execution_count": null,
   "metadata": {},
   "outputs": [],
   "source": [
    "sharingMatrix_moreThan10_434Samples_RA=sharingMatrix_moreThan10_434Samples_RA.sort_values(by='TotalFreqOfAllSharedSeqsPerSample',\n",
    "                                                                                ascending=False)\n",
    "sharingMatrix_moreThan10_434Samples_RA.head()"
   ]
  },
  {
   "cell_type": "code",
   "execution_count": null,
   "metadata": {},
   "outputs": [],
   "source": [
    "sharingMatrix_moreThan10_434Samples_RA=sharingMatrix_moreThan10_434Samples_RA.sort_values(by='TotalFreqOfSeqOverAllSamples',\n",
    "                                                                                ascending=False,axis=1)\n",
    "sharingMatrix_moreThan10_434Samples_RA.head()"
   ]
  },
  {
   "cell_type": "code",
   "execution_count": null,
   "metadata": {},
   "outputs": [],
   "source": [
    "sharingMatrix_moreThan10_434Samples_RA.tail()"
   ]
  },
  {
   "cell_type": "code",
   "execution_count": null,
   "metadata": {},
   "outputs": [],
   "source": []
  },
  {
   "cell_type": "code",
   "execution_count": null,
   "metadata": {},
   "outputs": [],
   "source": []
  },
  {
   "cell_type": "code",
   "execution_count": null,
   "metadata": {},
   "outputs": [],
   "source": []
  },
  {
   "cell_type": "code",
   "execution_count": null,
   "metadata": {},
   "outputs": [],
   "source": [
    "plt.figure(figsize=(3,3))\n",
    "plt.hist(sharingMatrix_moreThan10_434Samples_RA.iloc[1:,0])\n",
    "plt.title('sharing statistics-moreThan10RATable')\n",
    "plt.xlabel('TotalFreqOfAllSharedSeqsPerSample')\n",
    "plt.ylabel('Frequency')\n",
    "plt.show()"
   ]
  },
  {
   "cell_type": "code",
   "execution_count": null,
   "metadata": {},
   "outputs": [],
   "source": [
    "plt.figure(figsize=(3,3))\n",
    "plt.hist(sharingMatrix_moreThan10_434Samples_RA.iloc[0,1:],bins=50)\n",
    "plt.title('sharing statistics-moreThan10binaryTable')\n",
    "plt.xlabel('TotalFreqOfSeqOverAllSamples')\n",
    "plt.ylabel('Frequency')\n",
    "plt.show()"
   ]
  },
  {
   "cell_type": "code",
   "execution_count": null,
   "metadata": {},
   "outputs": [],
   "source": [
    "sharingMatrix_moreThan10_434Samples_RA_head=sharingMatrix_moreThan10_434Samples_RA.iloc[1:,1:500]"
   ]
  },
  {
   "cell_type": "code",
   "execution_count": null,
   "metadata": {},
   "outputs": [],
   "source": [
    "sharingMatrix_moreThan10_434Samples_RA_head.head()"
   ]
  },
  {
   "cell_type": "code",
   "execution_count": null,
   "metadata": {},
   "outputs": [],
   "source": [
    "fig, axes = plt.subplots(figsize=(8,8))\n",
    "axes.imshow(sharingMatrix_moreThan10_434Samples_RA_head, interpolation=None, vmin=0, vmax=0.01, cmap='PuRd')\n",
    "plt.show()"
   ]
  },
  {
   "cell_type": "markdown",
   "metadata": {},
   "source": [
    "# view distance matrix:"
   ]
  },
  {
   "cell_type": "markdown",
   "metadata": {},
   "source": [
    "## binary:"
   ]
  },
  {
   "cell_type": "code",
   "execution_count": null,
   "metadata": {},
   "outputs": [],
   "source": [
    "file1='/net/mraid08/export/genie/Lab/Personal/ShaniBAF/TCR_real_data/Distance Matrices/Features/distMat_PNP434_sharingMatrixMoreThan10_euclidean'\n",
    "distMat_PNP434_sharingMatrixMoreThan10_euclidean=pd.read_pickle(file1)"
   ]
  },
  {
   "cell_type": "code",
   "execution_count": null,
   "metadata": {},
   "outputs": [],
   "source": [
    "distMat_PNP434_sharingMatrixMoreThan10_euclidean.head()"
   ]
  },
  {
   "cell_type": "code",
   "execution_count": null,
   "metadata": {},
   "outputs": [],
   "source": [
    "from skbio.stats.distance import DistanceMatrix\n"
   ]
  },
  {
   "cell_type": "code",
   "execution_count": null,
   "metadata": {},
   "outputs": [],
   "source": [
    "import pandas as pd\n",
    "from scipy.spatial import distance_matrix"
   ]
  },
  {
   "cell_type": "code",
   "execution_count": null,
   "metadata": {},
   "outputs": [],
   "source": [
    "df=sharingMatrix_moreThan10_434Samples\n",
    "newDistMat10binaryEuc=pd.DataFrame(distance_matrix(df.values, df.values), index=df.index, columns=df.index)\n"
   ]
  },
  {
   "cell_type": "code",
   "execution_count": null,
   "metadata": {},
   "outputs": [],
   "source": [
    "newDistMat10binaryEuc.shape"
   ]
  },
  {
   "cell_type": "code",
   "execution_count": null,
   "metadata": {},
   "outputs": [],
   "source": [
    "newDistMat10binaryEuc=newDistMat10binaryEuc.reindex_axis(newDistMat10binaryEuc.sum().sort_values().index, axis=1)\n",
    "newDistMat10binaryEuc=newDistMat10binaryEuc.reindex_axis(newDistMat10binaryEuc.sum().sort_values().index, axis=0)\n",
    "newDistMat10binaryEuc.head()"
   ]
  },
  {
   "cell_type": "code",
   "execution_count": null,
   "metadata": {},
   "outputs": [],
   "source": [
    "from Feature_phenotype_functions import common_processing_feature_phenotype_matrices, editSampleNames\n"
   ]
  },
  {
   "cell_type": "code",
   "execution_count": null,
   "metadata": {},
   "outputs": [],
   "source": [
    "newDistMat10binaryEuc=editSampleNames(newDistMat10binaryEuc)\n",
    "newDistMat10binaryEuc.head()"
   ]
  },
  {
   "cell_type": "code",
   "execution_count": null,
   "metadata": {},
   "outputs": [],
   "source": [
    "distanceVector=pd.DataFrame()\n",
    "df=distMat_PNP434_sharingMatrixMoreThan10_euclidean\n",
    "for i in range(434):\n",
    "    if i%10==0:\n",
    "        print i\n",
    "    for j in range(i+1,434):\n",
    "        sample1=df.index[i]\n",
    "        sample2=df.columns.values[j]\n",
    "        distance=df.iloc[i,j]\n",
    "        distanceVector.loc[i,'sample1']=sample1\n",
    "        distanceVector.loc[i,'sample2']=sample2\n",
    "        distanceVector.loc[i,'distance']=distance\n",
    "distanceVector.sort_values(by='distance')"
   ]
  },
  {
   "cell_type": "code",
   "execution_count": null,
   "metadata": {},
   "outputs": [],
   "source": [
    "fig, axes = plt.subplots(figsize=(5,5))\n",
    "axes.imshow(newDistMat10binaryEuc,cmap='PiYG')\n",
    "#interpolation=None, vmin=0, vmax=0.01, cmap='PuRd'\n",
    "plt.show()"
   ]
  },
  {
   "cell_type": "markdown",
   "metadata": {},
   "source": [
    "## RA:"
   ]
  },
  {
   "cell_type": "code",
   "execution_count": null,
   "metadata": {},
   "outputs": [],
   "source": [
    "file1='/net/mraid08/export/genie/Lab/Personal/ShaniBAF/TCR_real_data/Distance Matrices/Features/distMat_PNP434_sharingMatrixMoreThan10RA_braycurtis'\n",
    "distMat_PNP434_sharingMatrixMoreThan10RA_braycurtis=pd.read_pickle(file1)"
   ]
  },
  {
   "cell_type": "code",
   "execution_count": null,
   "metadata": {},
   "outputs": [],
   "source": [
    "distMat_PNP434_sharingMatrixMoreThan10RA_braycurtis.head()"
   ]
  },
  {
   "cell_type": "code",
   "execution_count": null,
   "metadata": {},
   "outputs": [],
   "source": [
    "distMat_PNP434_sharingMatrixMoreThan10RA_braycurtis.shape"
   ]
  },
  {
   "cell_type": "code",
   "execution_count": null,
   "metadata": {},
   "outputs": [],
   "source": [
    "distMat_PNP434_sharingMatrixMoreThan10RA_braycurtis=distMat_PNP434_sharingMatrixMoreThan10RA_braycurtis.reindex_axis(distMat_PNP434_sharingMatrixMoreThan10RA_braycurtis.sum().sort_values().index, axis=1)\n",
    "distMat_PNP434_sharingMatrixMoreThan10RA_braycurtis=distMat_PNP434_sharingMatrixMoreThan10RA_braycurtis.reindex_axis(distMat_PNP434_sharingMatrixMoreThan10RA_braycurtis.sum().sort_values().index, axis=0)\n",
    "distMat_PNP434_sharingMatrixMoreThan10RA_braycurtis.head()"
   ]
  },
  {
   "cell_type": "code",
   "execution_count": null,
   "metadata": {},
   "outputs": [],
   "source": [
    "from Feature_phenotype_functions import common_processing_feature_phenotype_matrices, editSampleNames\n"
   ]
  },
  {
   "cell_type": "code",
   "execution_count": null,
   "metadata": {},
   "outputs": [],
   "source": [
    "distMat_PNP434_sharingMatrixMoreThan10RA_braycurtis=editSampleNames(distMat_PNP434_sharingMatrixMoreThan10RA_braycurtis)\n",
    "distMat_PNP434_sharingMatrixMoreThan10RA_braycurtis.head()"
   ]
  },
  {
   "cell_type": "code",
   "execution_count": null,
   "metadata": {},
   "outputs": [],
   "source": [
    "distanceVector=pd.DataFrame()\n",
    "df=distMat_PNP434_sharingMatrixMoreThan10RA_braycurtis\n",
    "for i in range(434):\n",
    "    if i%10==0:\n",
    "        print i\n",
    "    for j in range(i+1,434):\n",
    "        sample1=df.index[i]\n",
    "        sample2=df.columns.values[j]\n",
    "        distance=df.iloc[i,j]\n",
    "        distanceVector.loc[i,'sample1']=sample1\n",
    "        distanceVector.loc[i,'sample2']=sample2\n",
    "        distanceVector.loc[i,'distance']=distance\n",
    "distanceVector.sort_values(by='distance')"
   ]
  },
  {
   "cell_type": "code",
   "execution_count": null,
   "metadata": {},
   "outputs": [],
   "source": [
    "fig, axes = plt.subplots(figsize=(5,5))\n",
    "axes.imshow(distMat_PNP434_sharingMatrixMoreThan10RA_braycurtis,cmap='PiYG',vmin=0.88,vmax=1)\n",
    "#interpolation=None, vmin=0, vmax=0.01, cmap='PuRd'\n",
    "plt.show()"
   ]
  },
  {
   "cell_type": "markdown",
   "metadata": {},
   "source": [
    "# more than 50"
   ]
  },
  {
   "cell_type": "markdown",
   "metadata": {},
   "source": [
    "## binary:"
   ]
  },
  {
   "cell_type": "code",
   "execution_count": null,
   "metadata": {},
   "outputs": [],
   "source": [
    "file1='/net/mraid08/export/genie/Lab/Personal/ShaniBAF/TCR_real_data/Distance Matrices/Features/distMat_PNP434_sharingMatrixMoreThan50_euclidean'\n",
    "distMat_PNP434_sharingMatrixMoreThan50_euclidean=pd.read_pickle(file1)\n"
   ]
  },
  {
   "cell_type": "code",
   "execution_count": null,
   "metadata": {},
   "outputs": [],
   "source": [
    "distMat_PNP434_sharingMatrixMoreThan50_euclidean.head()"
   ]
  },
  {
   "cell_type": "code",
   "execution_count": null,
   "metadata": {},
   "outputs": [],
   "source": [
    "from skbio.stats.distance import DistanceMatrix\n"
   ]
  },
  {
   "cell_type": "code",
   "execution_count": null,
   "metadata": {},
   "outputs": [],
   "source": [
    "import pandas as pd\n",
    "from scipy.spatial import distance_matrix"
   ]
  },
  {
   "cell_type": "code",
   "execution_count": null,
   "metadata": {},
   "outputs": [],
   "source": [
    "df=distMat_PNP434_sharingMatrixMoreThan50_euclidean\n",
    "newDistMat50binaryEuc=pd.DataFrame(distance_matrix(df.values, df.values), index=df.index, columns=df.index)\n"
   ]
  },
  {
   "cell_type": "code",
   "execution_count": null,
   "metadata": {},
   "outputs": [],
   "source": [
    "newDistMat50binaryEuc.shape"
   ]
  },
  {
   "cell_type": "code",
   "execution_count": null,
   "metadata": {},
   "outputs": [],
   "source": [
    "newDistMat50binaryEuc=newDistMat50binaryEuc.reindex_axis(newDistMat50binaryEuc.sum().sort_values().index, axis=1)\n",
    "newDistMat50binaryEuc=newDistMat50binaryEuc.reindex_axis(newDistMat50binaryEuc.sum().sort_values().index, axis=0)\n",
    "newDistMat50binaryEuc.head()"
   ]
  },
  {
   "cell_type": "code",
   "execution_count": null,
   "metadata": {},
   "outputs": [],
   "source": [
    "from Feature_phenotype_functions import common_processing_feature_phenotype_matrices, editSampleNames\n"
   ]
  },
  {
   "cell_type": "code",
   "execution_count": null,
   "metadata": {},
   "outputs": [],
   "source": [
    "newDistMat50binaryEuc=editSampleNames(newDistMat50binaryEuc)\n",
    "newDistMat50binaryEuc.head()"
   ]
  },
  {
   "cell_type": "code",
   "execution_count": null,
   "metadata": {},
   "outputs": [],
   "source": [
    "distanceVector=pd.DataFrame()\n",
    "df=distMat_PNP434_sharingMatrixMoreThan50_euclidean\n",
    "for i in range(434):\n",
    "    if i%10==0:\n",
    "        print i\n",
    "    for j in range(i+1,434):\n",
    "        sample1=df.index[i]\n",
    "        sample2=df.columns.values[j]\n",
    "        distance=df.iloc[i,j]\n",
    "        distanceVector.loc[i,'sample1']=sample1\n",
    "        distanceVector.loc[i,'sample2']=sample2\n",
    "        distanceVector.loc[i,'distance']=distance\n",
    "distanceVector.sort_values(by='distance')"
   ]
  },
  {
   "cell_type": "code",
   "execution_count": null,
   "metadata": {},
   "outputs": [],
   "source": [
    "fig, axes = plt.subplots(figsize=(5,5))\n",
    "axes.imshow(newDistMat50binaryEuc,cmap='PiYG')\n",
    "#interpolation=None, vmin=0, vmax=0.01, cmap='PuRd'\n",
    "plt.show()"
   ]
  },
  {
   "cell_type": "markdown",
   "metadata": {},
   "source": [
    "## RA:"
   ]
  },
  {
   "cell_type": "code",
   "execution_count": null,
   "metadata": {},
   "outputs": [],
   "source": [
    "file1='/net/mraid08/export/genie/Lab/Personal/ShaniBAF/TCR_real_data/Distance Matrices/Features/distMat_PNP434_sharingMatrixMoreThan50RA_braycurtis'\n",
    "distMat_PNP434_sharingMatrixMoreThan50RA_braycurtis=pd.read_pickle(file1)\n"
   ]
  },
  {
   "cell_type": "code",
   "execution_count": null,
   "metadata": {},
   "outputs": [],
   "source": [
    "distMat_PNP434_sharingMatrixMoreThan50RA_braycurtis.head()"
   ]
  },
  {
   "cell_type": "code",
   "execution_count": null,
   "metadata": {},
   "outputs": [],
   "source": [
    "distMat_PNP434_sharingMatrixMoreThan50RA_braycurtis.shape"
   ]
  },
  {
   "cell_type": "code",
   "execution_count": null,
   "metadata": {},
   "outputs": [],
   "source": [
    "distMat_PNP434_sharingMatrixMoreThan50RA_braycurtis=distMat_PNP434_sharingMatrixMoreThan50RA_braycurtis.reindex_axis(distMat_PNP434_sharingMatrixMoreThan10RA_braycurtis.sum(axis=1).sort_values().index, axis=1)\n",
    "distMat_PNP434_sharingMatrixMoreThan50RA_braycurtis=distMat_PNP434_sharingMatrixMoreThan50RA_braycurtis.reindex_axis(distMat_PNP434_sharingMatrixMoreThan10RA_braycurtis.sum(axis=0).sort_values().index, axis=0)\n",
    "distMat_PNP434_sharingMatrixMoreThan50RA_braycurtis.head()"
   ]
  },
  {
   "cell_type": "code",
   "execution_count": null,
   "metadata": {},
   "outputs": [],
   "source": [
    "from Feature_phenotype_functions import common_processing_feature_phenotype_matrices, editSampleNames\n"
   ]
  },
  {
   "cell_type": "code",
   "execution_count": null,
   "metadata": {},
   "outputs": [],
   "source": [
    "distMat_PNP434_sharingMatrixMoreThan50RA_braycurtis=editSampleNames(distMat_PNP434_sharingMatrixMoreThan50RA_braycurtis)\n",
    "distMat_PNP434_sharingMatrixMoreThan50RA_braycurtis.head()"
   ]
  },
  {
   "cell_type": "code",
   "execution_count": null,
   "metadata": {},
   "outputs": [],
   "source": [
    "distanceVector=pd.DataFrame()\n",
    "df=distMat_PNP434_sharingMatrixMoreThan50RA_braycurtis\n",
    "count=0\n",
    "for i in range(434):\n",
    "    if i%10==0:\n",
    "        print i\n",
    "    for j in range(i+1,434):\n",
    "#         print i,j\n",
    "        sample1=df.index[i]\n",
    "        sample2=df.columns.values[j]\n",
    "        distance=df.iloc[i,j]\n",
    "#         print sample1,sample2,distance\n",
    "        distanceVector.loc[count,'sample1']=sample1\n",
    "        distanceVector.loc[count,'sample2']=sample2\n",
    "        distanceVector.loc[count,'distance']=distance\n",
    "        count=count+1\n",
    "distanceVector.sort_values(by='distance')"
   ]
  },
  {
   "cell_type": "code",
   "execution_count": null,
   "metadata": {},
   "outputs": [],
   "source": [
    "fig, axes = plt.subplots(figsize=(5,5))\n",
    "axes.imshow(distMat_PNP434_sharingMatrixMoreThan50RA_braycurtis,cmap='PiYG',vmin=0.75,vmax=1)\n",
    "#interpolation=None, vmin=0, vmax=0.01, cmap='PuRd'\n",
    "plt.show()"
   ]
  },
  {
   "cell_type": "markdown",
   "metadata": {},
   "source": [
    "## define a function that order sample pairs according to distance in a distance matrix:"
   ]
  },
  {
   "cell_type": "code",
   "execution_count": null,
   "metadata": {},
   "outputs": [],
   "source": [
    "distMatNameList=['50_euclidean','50RA_braycurtis','1Binary_euclidean','1RA_braycurtis',\n",
    "                '10_euclidean','10RA_braycurtis']\n",
    "\n",
    "for n, distMatName in enumerate(distMatNameList):\n",
    "    distMatFile='/net/mraid08/export/genie/Lab/Personal/ShaniBAF/TCR_real_data/Distance Matrices/Features/distMat_PNP434_sharingMatrixMoreThan%s' %distMatName  \n",
    "    distMat=pd.read_pickle(distMatFile)\n",
    "    \n",
    "    print n, distMatName\n",
    "    order_sample_pairs_by_distance(distMat,distMatName)"
   ]
  },
  {
   "cell_type": "code",
   "execution_count": null,
   "metadata": {},
   "outputs": [],
   "source": [
    "distMatNameList=['50_euclidean','50RA_braycurtis','1Binary_euclidean','1RA_braycurtis',\n",
    "                '10_euclidean','10RA_braycurtis']\n",
    "\n",
    "for n, distMatName in enumerate(distMatNameList):\n",
    "    file1='/net/mraid08/export/genie/Lab/Personal/ShaniBAF/TCR_real_data/Distance Matrices/samplePairOrderByDistance/distOrder_%s' %distMatName\n",
    "    distanceVector=pd.read_pickle(file1)\n",
    "    print distMatName\n",
    "    distanceVector=distanceVector.sort_values(by='distance')\n",
    "    print 'distanceVector shape is %s_%s' %(distanceVector.shape[0],distanceVector.shape[1])\n",
    "    print distanceVector.head()\n",
    "    print distanceVector.tail()"
   ]
  },
  {
   "cell_type": "markdown",
   "metadata": {},
   "source": [
    "### order jaccard distMats - 1.2.18:"
   ]
  },
  {
   "cell_type": "code",
   "execution_count": 3,
   "metadata": {},
   "outputs": [
    {
     "name": "stdout",
     "output_type": "stream",
     "text": [
      "0 50_jaccard\n",
      "0\n",
      "10\n",
      "20\n",
      "30\n",
      "40\n",
      "50\n",
      "60\n",
      "70\n",
      "80\n",
      "90\n",
      "100\n",
      "110\n",
      "120\n",
      "130\n",
      "140\n",
      "150\n",
      "160\n",
      "170\n",
      "180\n",
      "190\n",
      "200\n",
      "210\n",
      "220\n",
      "230\n",
      "240\n",
      "250\n",
      "260\n",
      "270\n",
      "280\n",
      "290\n",
      "300\n",
      "310\n",
      "320\n",
      "330\n",
      "340\n",
      "350\n",
      "360\n",
      "370\n",
      "380\n",
      "390\n",
      "400\n",
      "410\n",
      "420\n",
      "430\n",
      "distanceVector shape is 93961_3\n",
      "      sample1 sample2  distance\n",
      "84143   BD136   BD146  0.630042\n",
      "77037   BD160   BD146  0.649930\n",
      "27443    BD13   BD146  0.665284\n",
      "90160   BD146   BD145  0.667614\n",
      "4620    BD153   BD146  0.689900\n",
      "      sample1 sample2  distance\n",
      "55861   BD453   BD801     0.995\n",
      "36130   BD484   BD328     1.000\n",
      "54085   BD322   BD319     1.000\n",
      "7024    BD640   BD328     1.000\n",
      "7053    BD640   BD631     1.000\n",
      "1 10_jaccard\n",
      "0\n",
      "10\n",
      "20\n",
      "30\n",
      "40\n",
      "50\n",
      "60\n",
      "70\n",
      "80\n",
      "90\n",
      "100\n",
      "110\n",
      "120\n",
      "130\n",
      "140\n",
      "150\n",
      "160\n",
      "170\n",
      "180\n",
      "190\n",
      "200\n",
      "210\n",
      "220\n",
      "230\n",
      "240\n",
      "250\n",
      "260\n",
      "270\n",
      "280\n",
      "290\n",
      "300\n",
      "310\n",
      "320\n",
      "330\n",
      "340\n",
      "350\n",
      "360\n",
      "370\n",
      "380\n",
      "390\n",
      "400\n",
      "410\n",
      "420\n",
      "430\n",
      "distanceVector shape is 93961_3\n",
      "      sample1 sample2  distance\n",
      "6341    BD431   BD440  0.802136\n",
      "34259   BD788   BD809  0.856856\n",
      "83064   BD699   BD706  0.860415\n",
      "84143   BD136   BD146  0.875674\n",
      "11492   BD838   BD617  0.876740\n",
      "      sample1 sample2  distance\n",
      "55976   BD453   BD896  0.996416\n",
      "55779   BD453   BD481  0.996429\n",
      "38814   BD802   BD328  0.996845\n",
      "54139   BD322   BD328  0.998182\n",
      "36130   BD484   BD328  1.000000\n",
      "2 1_jaccard\n",
      "0\n",
      "10\n",
      "20\n",
      "30\n",
      "40\n",
      "50\n",
      "60\n",
      "70\n",
      "80\n",
      "90\n",
      "100\n",
      "110\n",
      "120\n",
      "130\n",
      "140\n",
      "150\n",
      "160\n",
      "170\n",
      "180\n",
      "190\n",
      "200\n",
      "210\n",
      "220\n",
      "230\n",
      "240\n",
      "250\n",
      "260\n",
      "270\n",
      "280\n",
      "290\n",
      "300\n",
      "310\n",
      "320\n",
      "330\n",
      "340\n",
      "350\n",
      "360\n",
      "370\n",
      "380\n",
      "390\n",
      "400\n",
      "410\n",
      "420\n",
      "430\n",
      "distanceVector shape is 93961_3\n",
      "      sample1 sample2  distance\n",
      "6341    BD431   BD440  0.602088\n",
      "83064   BD699   BD706  0.713429\n",
      "34259   BD788   BD809  0.753596\n",
      "11492   BD838   BD617  0.819518\n",
      "60335   BD714   BD705  0.879110\n",
      "      sample1 sample2  distance\n",
      "73889   BD328   BD631  0.998527\n",
      "54139   BD322   BD328  0.998554\n",
      "2382    BD831   BD328  0.998722\n",
      "38814   BD802   BD328  0.999193\n",
      "36130   BD484   BD328  0.999508\n",
      "3 501PCsUsed_euclidean\n",
      "0\n",
      "10\n",
      "20\n",
      "30\n",
      "40\n",
      "50\n",
      "60\n",
      "70\n",
      "80\n",
      "90\n",
      "100\n",
      "110\n",
      "120\n",
      "130\n",
      "140\n",
      "150\n",
      "160\n",
      "170\n",
      "180\n",
      "190\n",
      "200\n",
      "210\n",
      "220\n",
      "230\n",
      "240\n",
      "250\n",
      "260\n",
      "270\n",
      "280\n",
      "290\n",
      "300\n",
      "310\n",
      "320\n",
      "330\n",
      "340\n",
      "350\n",
      "360\n",
      "370\n",
      "380\n",
      "390\n",
      "400\n",
      "410\n",
      "420\n",
      "430\n",
      "distanceVector shape is 93961_3\n",
      "      sample1 sample2      distance\n",
      "2074    BD443   BD650  8.065152e-07\n",
      "83233   BD137   BD668  1.341560e-06\n",
      "55666   BD482   BD383  1.348508e-06\n",
      "29250   BD855   BD292  1.734342e-06\n",
      "8425    BD844   BD849  1.826721e-06\n",
      "      sample1 sample2  distance\n",
      "52144   BD902   BD328  0.080626\n",
      "55814   BD453   BD111  0.080795\n",
      "55921   BD453   BD535  0.080966\n",
      "52142   BD902   BD606  0.083552\n",
      "52068   BD902   BD453  0.086078\n",
      "4 101PCsUsed_euclidean\n",
      "0\n",
      "10\n",
      "20\n",
      "30\n",
      "40\n",
      "50\n",
      "60\n",
      "70\n",
      "80\n",
      "90\n",
      "100\n",
      "110\n",
      "120\n",
      "130\n",
      "140\n",
      "150\n",
      "160\n",
      "170\n",
      "180\n",
      "190\n",
      "200\n",
      "210\n",
      "220\n",
      "230\n",
      "240\n",
      "250\n",
      "260\n",
      "270\n",
      "280\n",
      "290\n",
      "300\n",
      "310\n",
      "320\n",
      "330\n",
      "340\n",
      "350\n",
      "360\n",
      "370\n",
      "380\n",
      "390\n",
      "400\n",
      "410\n",
      "420\n",
      "430\n",
      "distanceVector shape is 93961_3\n",
      "      sample1 sample2      distance\n",
      "69049   BD698   BD729  2.665545e-07\n",
      "88846    BD22   BD276  8.333940e-07\n",
      "6368    BD431   BD432  8.970319e-07\n",
      "81726   BD550   BD401  9.209392e-07\n",
      "21565   BD603   BD800  1.460133e-06\n",
      "      sample1 sample2  distance\n",
      "67308   BD481   BD146  0.143699\n",
      "61233   BD537   BD146  0.144633\n",
      "61742   BD319   BD146  0.145862\n",
      "73973   BD328   BD146  0.148663\n",
      "55923   BD453   BD146  0.149836\n",
      "5 11PCsUsed_euclidean\n",
      "0\n",
      "10\n",
      "20\n",
      "30\n",
      "40\n",
      "50\n",
      "60\n",
      "70\n",
      "80\n",
      "90\n",
      "100\n",
      "110\n",
      "120\n",
      "130\n",
      "140\n",
      "150\n",
      "160\n",
      "170\n",
      "180\n",
      "190\n",
      "200\n",
      "210\n",
      "220\n",
      "230\n",
      "240\n",
      "250\n",
      "260\n",
      "270\n",
      "280\n",
      "290\n",
      "300\n",
      "310\n",
      "320\n",
      "330\n",
      "340\n",
      "350\n",
      "360\n",
      "370\n",
      "380\n",
      "390\n",
      "400\n",
      "410\n",
      "420\n",
      "430\n",
      "distanceVector shape is 93961_3\n",
      "      sample1 sample2      distance\n",
      "8080    BD844   BD677  5.177585e-07\n",
      "90650   BD507   BD352  9.770365e-07\n",
      "45326   BD845   BD586  1.172134e-06\n",
      "65411   BD674   BD147  1.295416e-06\n",
      "15806   BD876    BD28  1.704542e-06\n",
      "      sample1 sample2  distance\n",
      "2495    BD831   BD146  0.239955\n",
      "61233   BD537   BD146  0.241070\n",
      "55923   BD453   BD146  0.243315\n",
      "61742   BD319   BD146  0.243380\n",
      "73973   BD328   BD146  0.245360\n"
     ]
    }
   ],
   "source": [
    "distMatNameList=['50_jaccard','10_jaccard','1_jaccard','501PCsUsed_euclidean','101PCsUsed_euclidean','11PCsUsed_euclidean']\n",
    "\n",
    "for n, distMatName in enumerate(distMatNameList):\n",
    "    distMatFile='/net/mraid08/export/genie/Lab/Personal/ShaniBAF/TCR_real_data/Distance Matrices/Features/distMat_PNP434_sharingMatrixMoreThan%s' %distMatName  \n",
    "    distMat=pd.read_pickle(distMatFile)\n",
    "    \n",
    "    print n, distMatName\n",
    "    distanceVector=order_sample_pairs_by_distance(distMat,distMatName)\n",
    "                 \n",
    "\n",
    "    distanceVector=distanceVector.sort_values(by='distance')\n",
    "    print 'distanceVector shape is %s_%s' %(distanceVector.shape[0],distanceVector.shape[1])\n",
    "    print distanceVector.head()\n",
    "    print distanceVector.tail()"
   ]
  },
  {
   "cell_type": "markdown",
   "metadata": {},
   "source": [
    "### order microbiome distMats - 1.2.18:"
   ]
  },
  {
   "cell_type": "code",
   "execution_count": null,
   "metadata": {},
   "outputs": [
    {
     "name": "stdout",
     "output_type": "stream",
     "text": [
      "0 50_jaccard\n",
      "0\n",
      "10\n",
      "20\n",
      "30\n",
      "40\n",
      "50\n",
      "60\n",
      "70\n",
      "80\n",
      "90\n",
      "100\n",
      "110\n",
      "120\n",
      "130\n",
      "140\n",
      "150\n",
      "160\n",
      "170\n",
      "180\n",
      "190\n",
      "200\n",
      "210\n",
      "220\n",
      "230\n",
      "240\n",
      "250\n",
      "260\n",
      "270\n",
      "280\n",
      "290\n",
      "300\n",
      "310\n",
      "320\n",
      "330\n",
      "340\n",
      "350\n",
      "360\n",
      "370\n",
      "380\n",
      "390\n",
      "400\n",
      "410\n",
      "420\n",
      "430\n",
      "distanceVector shape is 93961_3\n",
      "      sample1 sample2  distance\n",
      "84143   BD136   BD146  0.630042\n",
      "77037   BD160   BD146  0.649930\n",
      "27443    BD13   BD146  0.665284\n",
      "90160   BD146   BD145  0.667614\n",
      "4620    BD153   BD146  0.689900\n",
      "      sample1 sample2  distance\n",
      "55861   BD453   BD801     0.995\n",
      "36130   BD484   BD328     1.000\n",
      "54085   BD322   BD319     1.000\n",
      "7024    BD640   BD328     1.000\n",
      "7053    BD640   BD631     1.000\n",
      "1 10_jaccard\n",
      "0\n",
      "10\n",
      "20\n",
      "30\n",
      "40\n",
      "50\n",
      "60\n",
      "70\n",
      "80\n",
      "90\n",
      "100\n",
      "110\n",
      "120\n",
      "130\n",
      "140\n",
      "150\n",
      "160\n",
      "170\n",
      "180\n",
      "190\n",
      "200\n",
      "210\n",
      "220\n",
      "230\n",
      "240\n",
      "250\n",
      "260\n",
      "270\n",
      "280\n",
      "290\n",
      "300\n",
      "310\n",
      "320\n",
      "330\n",
      "340\n",
      "350\n",
      "360\n",
      "370\n",
      "380\n",
      "390\n",
      "400\n",
      "410\n",
      "420\n",
      "430\n",
      "distanceVector shape is 93961_3\n",
      "      sample1 sample2  distance\n",
      "6341    BD431   BD440  0.802136\n",
      "34259   BD788   BD809  0.856856\n",
      "83064   BD699   BD706  0.860415\n",
      "84143   BD136   BD146  0.875674\n",
      "11492   BD838   BD617  0.876740\n",
      "      sample1 sample2  distance\n",
      "55976   BD453   BD896  0.996416\n",
      "55779   BD453   BD481  0.996429\n",
      "38814   BD802   BD328  0.996845\n",
      "54139   BD322   BD328  0.998182\n",
      "36130   BD484   BD328  1.000000\n",
      "2 1_jaccard\n",
      "0\n",
      "10\n",
      "20\n",
      "30\n",
      "40\n",
      "50\n",
      "60\n",
      "70\n",
      "80\n",
      "90\n",
      "100\n",
      "110\n",
      "120\n",
      "130\n",
      "140\n",
      "150\n",
      "160\n",
      "170\n",
      "180\n",
      "190\n",
      "200\n",
      "210\n",
      "220\n",
      "230\n",
      "240\n",
      "250\n",
      "260\n",
      "270\n",
      "280\n",
      "290\n",
      "300\n",
      "310\n",
      "320\n",
      "330\n",
      "340\n",
      "350\n",
      "360\n",
      "370\n",
      "380\n",
      "390\n",
      "400\n",
      "410\n",
      "420\n",
      "430\n",
      "distanceVector shape is 93961_3\n",
      "      sample1 sample2  distance\n",
      "6341    BD431   BD440  0.602088\n",
      "83064   BD699   BD706  0.713429\n",
      "34259   BD788   BD809  0.753596\n",
      "11492   BD838   BD617  0.819518\n",
      "60335   BD714   BD705  0.879110\n",
      "      sample1 sample2  distance\n",
      "73889   BD328   BD631  0.998527\n",
      "54139   BD322   BD328  0.998554\n",
      "2382    BD831   BD328  0.998722\n",
      "38814   BD802   BD328  0.999193\n",
      "36130   BD484   BD328  0.999508\n",
      "3 501PCsUsed_euclidean\n",
      "0\n",
      "10\n",
      "20\n",
      "30\n",
      "40\n",
      "50\n",
      "60\n",
      "70\n",
      "80\n",
      "90\n",
      "100\n",
      "110\n",
      "120\n",
      "130\n",
      "140\n",
      "150\n",
      "160\n",
      "170\n",
      "180\n",
      "190\n",
      "200\n",
      "210\n",
      "220\n",
      "230\n",
      "240\n",
      "250\n",
      "260\n",
      "270\n",
      "280\n",
      "290\n",
      "300\n"
     ]
    }
   ],
   "source": [
    "mb_distMat_list=['RA_braycurtis','binary_euclidean']\n",
    "\n",
    "for n, distMatName in enumerate(mb_distMat_list):\n",
    "    distMatFile='/net/mraid08/export/genie/Lab/Personal/ShaniBAF/TCR_real_data/Distance Matrices/newPhenotypes/distMat_PNP434_Microbiome%s' %distMatName   \n",
    "    distMat=pd.read_pickle(distMatFile)\n",
    "    \n",
    "    print n, distMatName\n",
    "    distanceVector=order_sample_pairs_by_distance(distMat,distMatName)\n",
    "                 \n",
    "\n",
    "    distanceVector=distanceVector.sort_values(by='distance')\n",
    "    print 'distanceVector shape is %s_%s' %(distanceVector.shape[0],distanceVector.shape[1])\n",
    "    print distanceVector.head()\n",
    "    print distanceVector.tail()"
   ]
  },
  {
   "cell_type": "code",
   "execution_count": null,
   "metadata": {},
   "outputs": [],
   "source": []
  },
  {
   "cell_type": "code",
   "execution_count": null,
   "metadata": {},
   "outputs": [],
   "source": []
  },
  {
   "cell_type": "code",
   "execution_count": null,
   "metadata": {},
   "outputs": [],
   "source": [
    "def count_common_seqs(sharedMat,nCutOff):\n",
    "#     from Feature_phenotype_functions import common_processing_feature_phenotype_matrices, editSampleNames,process_sample_matrix\n",
    "    \n",
    "    nSamples=len(sharedMat.index)\n",
    "    sharedMat=editSampleNames(sharedMat)\n",
    "\n",
    "    commonSeqsCountDF=pd.DataFrame()\n",
    "    count=0\n",
    "    for i in range(nSamples):\n",
    "#             if i%10==0:\n",
    "#                 print i\n",
    "            for j in range(i+1,nSamples):\n",
    "                print i,j\n",
    "                df=sharedMat.iloc[[i,j],:]\n",
    "                dfSum=df.sum(axis=0)\n",
    "\n",
    "                sample1=sharedMat.index[i]\n",
    "                sample2=sharedMat.index[j]\n",
    "\n",
    "                if 2 in dfSum.value_counts():\n",
    "                    nCommonSeqs=dfSum.value_counts()[2]\n",
    "                else:\n",
    "                    nCommonSeqs=0\n",
    "                commonSeqsCountDF.loc[count,'sample1']=sample1\n",
    "                commonSeqsCountDF.loc[count,'sample2']=sample2\n",
    "                commonSeqsCountDF.loc[count,'nCommonSeqs']=nCommonSeqs\n",
    "                count=count+1\n",
    "    commonSeqsCountDF=commonSeqsCountDF.sort_values(by='nCommonSeqs')\n",
    "    \n",
    "    file1='/net/mraid08/export/genie/Lab/Personal/ShaniBAF/TCR_real_data/Distance Matrices/commonSeqsCountDFs/commonSeqsCount_%s' %nCutOff\n",
    "    commonSeqsCountDF.to_pickle(file1)\n",
    "    \n",
    "    return commonSeqsCountDF"
   ]
  },
  {
   "cell_type": "code",
   "execution_count": null,
   "metadata": {},
   "outputs": [],
   "source": [
    "nCutOffList=[50,10,1]\n",
    "# nCutOffList=[50]\n",
    "for n, nCutOff in enumerate(nCutOffList):\n",
    "    sharedMatFile='/net/mraid08/export/genie/Lab/Personal/ShaniBAF/TCR_real_data/PublicSeqAnalysis/sharingMatrix_moreThan%s_434Samples' %nCutOff\n",
    "    sharedMat=pd.read_pickle(sharedMatFile)\n",
    "    \n",
    "    print n, nCutOff\n",
    "    count_common_seqs(sharedMat,nCutOff)"
   ]
  },
  {
   "cell_type": "code",
   "execution_count": null,
   "metadata": {},
   "outputs": [],
   "source": [
    "def count_NonCommon_seqs(sharedMat,nCutOff):\n",
    "#     from Feature_phenotype_functions import common_processing_feature_phenotype_matrices, editSampleNames,process_sample_matrix\n",
    "    \n",
    "    nSamples=len(sharedMat.index)\n",
    "    sharedMat=editSampleNames(sharedMat)\n",
    "\n",
    "    NonCommonSeqsCountDF=pd.DataFrame()\n",
    "    count=0\n",
    "    for i in range(nSamples):\n",
    "#             if i%10==0:\n",
    "#                 print i\n",
    "            for j in range(i+1,nSamples):\n",
    "                print i,j\n",
    "                df=sharedMat.iloc[[i,j],:]\n",
    "                dfSum=df.sum(axis=0)\n",
    "\n",
    "                sample1=sharedMat.index[i]\n",
    "                sample2=sharedMat.index[j]\n",
    "\n",
    "                if 2 in dfSum.value_counts():\n",
    "                    NonCommonSeqs=dfSum.value_counts()[1]\n",
    "                else:\n",
    "                    NonCommonSeqs=0\n",
    "                NonCommonSeqsCountDF.loc[count,'sample1']=sample1\n",
    "                NonCommonSeqsCountDF.loc[count,'sample2']=sample2\n",
    "                NonCommonSeqsCountDF.loc[count,'NonCommonSeqs']=NonCommonSeqs\n",
    "                count=count+1\n",
    "    NonCommonSeqsCountDF=NonCommonSeqsCountDF.sort_values(by='NonCommonSeqs')\n",
    "    \n",
    "    file1='/net/mraid08/export/genie/Lab/Personal/ShaniBAF/TCR_real_data/Distance Matrices/commonSeqsCountDFs/NonCommonSeqsCount_%s' %nCutOff\n",
    "    NonCommonSeqsCountDF.to_pickle(file1)\n",
    "    \n",
    "    return NonCommonSeqsCountDF"
   ]
  },
  {
   "cell_type": "code",
   "execution_count": null,
   "metadata": {},
   "outputs": [],
   "source": [
    "nCutOffList=[50,10,1]\n",
    "# nCutOffList=[50]\n",
    "for n, nCutOff in enumerate(nCutOffList):\n",
    "    sharedMatFile='/net/mraid08/export/genie/Lab/Personal/ShaniBAF/TCR_real_data/PublicSeqAnalysis/sharingMatrix_moreThan%s_434Samples' %nCutOff\n",
    "    sharedMat=pd.read_pickle(sharedMatFile)\n",
    "    \n",
    "    print n, nCutOff\n",
    "    NonCommonSeqsCountDF=count_NonCommon_seqs(sharedMat,nCutOff)"
   ]
  },
  {
   "cell_type": "code",
   "execution_count": null,
   "metadata": {},
   "outputs": [],
   "source": [
    "NonCommonSeqsCountDF"
   ]
  },
  {
   "cell_type": "code",
   "execution_count": null,
   "metadata": {},
   "outputs": [],
   "source": []
  }
 ],
 "metadata": {
  "kernelspec": {
   "display_name": "Python 2",
   "language": "python",
   "name": "python2"
  },
  "language_info": {
   "codemirror_mode": {
    "name": "ipython",
    "version": 2
   },
   "file_extension": ".py",
   "mimetype": "text/x-python",
   "name": "python",
   "nbconvert_exporter": "python",
   "pygments_lexer": "ipython2",
   "version": "2.7.8"
  },
  "toc": {
   "nav_menu": {},
   "number_sections": true,
   "sideBar": true,
   "skip_h1_title": false,
   "toc_cell": false,
   "toc_position": {},
   "toc_section_display": "block",
   "toc_window_display": true
  }
 },
 "nbformat": 4,
 "nbformat_minor": 2
}
