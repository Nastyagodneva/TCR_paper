{
 "cells": [
  {
   "cell_type": "code",
   "execution_count": 26,
   "metadata": {},
   "outputs": [],
   "source": [
    "from os import listdir, path\n",
    "import subprocess\n",
    "from os.path import isfile, join\n",
    "import pandas as pd\n",
    "import numpy as np\n",
    "from scipy import stats\n",
    "import re\n",
    "import matplotlib.pyplot as plt\n",
    "from matplotlib.backends.backend_pdf import PdfPages\n",
    "from myplots import roundup, rounddown, find_decimal_fold, percentile_cut_off, rarefaction_calc, rarefaction_plot,draw_correlation_scatter\n",
    "from matplotlib.ticker import FormatStrFormatter\n",
    "import cPickle as pickle\n",
    "from Bio.SeqUtils import GC\n",
    "import seaborn as sns\n",
    "import random\n",
    "from scipy.stats import pearsonr\n",
    "\n",
    "from pop_organize import get_sample_data, get_sample_with_dfs\n",
    "from SufficientStatistics import *\n",
    "from MyFunctionsShani import *\n"
   ]
  },
  {
   "cell_type": "code",
   "execution_count": 30,
   "metadata": {
    "collapsed": true
   },
   "outputs": [],
   "source": [
    "mypath='/net/mraid08/export/genie/Lab/Personal/ShaniBAF/igor_1-0-0-2/igor_src'"
   ]
  },
  {
   "cell_type": "code",
   "execution_count": 195,
   "metadata": {
    "collapsed": true
   },
   "outputs": [],
   "source": [
    "WDPATH='/home/sbenari/Lab/Personal/ShaniBAF/igor_1-0-0-2/workingDir'\n",
    "SEQFILE2='/home/sbenari/Lab/Personal/ShaniBAF/igor_1-0-0-2/workingDir/HIP00110nonProdOnly100.txt'"
   ]
  },
  {
   "cell_type": "code",
   "execution_count": 196,
   "metadata": {
    "collapsed": true
   },
   "outputs": [],
   "source": [
    "command_5='./igor -set_wd '+WDPATH+' -stdout_f '+WDPATH+'/HIP00110nonProdOnly100op -batch HIP00110nonProdOnly100 -chain beta -species human -read_seqs '+SEQFILE2\n",
    "command_6='/home/sbenari/Lab/Personal/ShaniBAF/igor_1-0-0-2/igor_src/igor -set_wd $WDPATH -stdout_f $WDPATH/HIP00110nonProdOnly100op -batch HIP00110nonProdOnly100 -chain beta -species human -read_seqs $SEQFILE2'\n",
    "command_6='/net/mraid08/export/genie/Lab/Personal/ShaniBAF/igor_1-0-0-2/igor_src/igor -set_wd $WDPATH -stdout_f $WDPATH/HIP00110nonProdOnly100op -batch HIP00110nonProdOnly100 -chain beta -species human -read_seqs $SEQFILE2'\n"
   ]
  },
  {
   "cell_type": "code",
   "execution_count": 197,
   "metadata": {},
   "outputs": [
    {
     "data": {
      "text/plain": [
       "'./igor -set_wd /home/sbenari/Lab/Personal/ShaniBAF/igor_1-0-0-2/workingDir -stdout_f /home/sbenari/Lab/Personal/ShaniBAF/igor_1-0-0-2/workingDir/HIP00110nonProdOnly100op -batch HIP00110nonProdOnly100 -chain beta -species human -read_seqs /home/sbenari/Lab/Personal/ShaniBAF/igor_1-0-0-2/workingDir/HIP00110nonProdOnly100.txt'"
      ]
     },
     "execution_count": 197,
     "metadata": {},
     "output_type": "execute_result"
    }
   ],
   "source": [
    "command_5"
   ]
  },
  {
   "cell_type": "code",
   "execution_count": 199,
   "metadata": {},
   "outputs": [
    {
     "name": "stdout",
     "output_type": "stream",
     "text": [
      "\n"
     ]
    }
   ],
   "source": [
    "#not working:\n",
    "\n",
    "import subprocess\n",
    "\n",
    "\n",
    "proc = subprocess.Popen('command_5', shell=True, stdout=subprocess.PIPE)\n",
    "print proc.communicate()[0]"
   ]
  },
  {
   "cell_type": "code",
   "execution_count": 201,
   "metadata": {},
   "outputs": [
    {
     "data": {
      "text/plain": [
       "('Redirecting output to file: /home/sbenari/Lab/Personal/ShaniBAF/igor_1-0-0-2/workingDir/HIP00110nonProdOnly100op\\n',\n",
       " None)"
      ]
     },
     "execution_count": 201,
     "metadata": {},
     "output_type": "execute_result"
    }
   ],
   "source": [
    "# worked!!:\n",
    "\n",
    "p = subprocess.Popen(command_5,shell=True,stdout=subprocess.PIPE,cwd=mypath)\n",
    "p.wait()\n",
    "p.wait()\n",
    "p.communicate()"
   ]
  },
  {
   "cell_type": "code",
   "execution_count": null,
   "metadata": {
    "collapsed": true
   },
   "outputs": [],
   "source": []
  }
 ],
 "metadata": {
  "kernelspec": {
   "display_name": "Python 2",
   "language": "python",
   "name": "python2"
  },
  "language_info": {
   "codemirror_mode": {
    "name": "ipython",
    "version": 2
   },
   "file_extension": ".py",
   "mimetype": "text/x-python",
   "name": "python",
   "nbconvert_exporter": "python",
   "pygments_lexer": "ipython2",
   "version": "2.7.8"
  }
 },
 "nbformat": 4,
 "nbformat_minor": 2
}
