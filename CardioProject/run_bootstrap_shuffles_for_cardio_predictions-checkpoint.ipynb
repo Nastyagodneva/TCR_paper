{
 "cells": [
  {
   "cell_type": "markdown",
   "metadata": {},
   "source": [
    "# Imports:"
   ]
  },
  {
   "cell_type": "code",
   "execution_count": 93,
   "metadata": {
    "ExecuteTime": {
     "end_time": "2018-12-18T10:44:50.229030Z",
     "start_time": "2018-12-18T10:44:50.149207Z"
    }
   },
   "outputs": [],
   "source": [
    "from os import listdir,mkdir,makedirs\n",
    "from os.path import isfile, join, isdir,exists\n",
    "import pandas as pd\n",
    "import numpy as np\n",
    "from scipy import stats\n",
    "import re\n",
    "import matplotlib.pyplot as plt\n",
    "from matplotlib.backends.backend_pdf import PdfPages\n",
    "from myplots import roundup, rounddown, find_decimal_fold, percentile_cut_off, rarefaction_calc, rarefaction_plot,draw_correlation_scatter\n",
    "from matplotlib.ticker import FormatStrFormatter\n",
    "import cPickle as pickle\n",
    "from Bio.SeqUtils import GC\n",
    "import seaborn as sns\n",
    "import random\n",
    "from scipy.stats import pearsonr,fisher_exact\n",
    "from skbio.diversity.alpha import shannon, simpson, berger_parker_d\n",
    "\n",
    "from pop_organize import get_sample_data, get_sample_with_dfs\n",
    "from SufficientStatistics import *\n",
    "from MyFunctionsShani import *\n",
    "import math\n",
    "from myplots import roundup, rounddown, find_decimal_fold\n",
    "from skbio.stats.distance import mantel\n",
    "from scipy.spatial.distance import braycurtis, pdist, euclidean\n",
    "\n",
    "\n",
    "from GeneralFeaturePhenotypeInteractions.Feature_phenotype_functions import * \n",
    "from TCR_microbiome_interactions.TCR_microbiome_interactions_functions import *\n",
    "from TCR_microbiome_interactions.TCR_microbiome_interactions_functions2 import *\n",
    "from SampleLists.SampleFileFunctions import *\n",
    "from PhenotypicData.PhenotypeGenerationFunctions import *\n",
    "from CardioProject.CardioFunctions import *\n",
    "from PredictionPipeline.PredictionFunctions import *\n",
    "from TCR_feature_generation.SubsamplingFunctions import *\n",
    "\n",
    "import os\n",
    "from Utils import cacheOnDisk, Load\n",
    "from queue.qp import qp,fakeqp\n",
    "from addloglevels import sethandlers\n",
    "\n",
    "#ML imports:\n",
    "from xgboost import XGBClassifier\n",
    "import lightgbm as lgb\n",
    "from collections import OrderedDict\n",
    "from sklearn.model_selection import GroupKFold,StratifiedKFold, KFold\n",
    "import statsmodels.formula.api as sm\n",
    "from sklearn.linear_model import LogisticRegression, LinearRegression\n",
    "import shap\n",
    "from sklearn import metrics, preprocessing\n",
    "from sklearn.svm import LinearSVC\n",
    "from sklearn.feature_selection import SelectFromModel,SelectKBest,chi2,mutual_info_classif,f_classif\n",
    "from sklearn.naive_bayes import GaussianNB\n",
    "from sklearn.metrics import *\n",
    "\n",
    "MyPath='/net/mraid08/export/genie/Lab/Personal/ShaniBAF'\n",
    "\n",
    "with open('/net/mraid08/export/genie/Lab/Personal/ShaniBAF/Sample files/BD lists/PNP530','rb') as fp:\n",
    "    PNP530=pickle.load(fp)\n",
    "with open('/net/mraid08/export/genie/Lab/Personal/ShaniBAF/Sample files/BD lists/Cardio126','rb') as fp:\n",
    "    Cardio126=pickle.load(fp)\n",
    "PNP530Cardio126=PNP530+Cardio126\n",
    "\n",
    "pd.set_option('display.expand_frame_repr', False)\n"
   ]
  },
  {
   "cell_type": "code",
   "execution_count": 2,
   "metadata": {
    "ExecuteTime": {
     "end_time": "2018-12-17T13:01:41.394158Z",
     "start_time": "2018-12-17T13:01:41.382636Z"
    }
   },
   "outputs": [
    {
     "data": {
      "text/plain": [
       "'17122018'"
      ]
     },
     "execution_count": 2,
     "metadata": {},
     "output_type": "execute_result"
    }
   ],
   "source": [
    "import time\n",
    "cdate=str(time.strftime(\"%d%m%Y\"))\n",
    "cdate"
   ]
  },
  {
   "cell_type": "markdown",
   "metadata": {},
   "source": [
    "# shuffled X matrices:"
   ]
  },
  {
   "cell_type": "code",
   "execution_count": null,
   "metadata": {},
   "outputs": [],
   "source": [
    "the function gen_shuffled_x_matrices was copied to PredictionWrapper2.py"
   ]
  },
  {
   "cell_type": "code",
   "execution_count": null,
   "metadata": {
    "ExecuteTime": {
     "end_time": "2018-12-10T19:05:48.746923Z",
     "start_time": "2018-12-10T19:05:48.354156Z"
    }
   },
   "outputs": [],
   "source": [
    "Xfile='/net/mraid08/export/genie/Lab/Personal/ShaniBAF/TCR_real_data/Predictions/featureDFs/X_withPredictedAgeGender_Cardio126.dat'\n",
    "shuf_dir='/net/mraid08/export/genie/Lab/Personal/ShaniBAF/TCR_real_data/Predictions/featureDFs/X_withPredictedAgeGender_Cardio126_shuffling/'\n",
    "n_shuf=20\n",
    "shuf_size=120\n",
    "\n",
    "gen_shuffled_x_matrices(Xfile,shuf_dir,n_shuf,shuf_size)\n"
   ]
  },
  {
   "cell_type": "markdown",
   "metadata": {},
   "source": [
    "# First analysis - not generalized:"
   ]
  },
  {
   "cell_type": "markdown",
   "metadata": {},
   "source": [
    "## generate 10 bootstrap file:"
   ]
  },
  {
   "cell_type": "code",
   "execution_count": null,
   "metadata": {
    "ExecuteTime": {
     "end_time": "2018-12-09T14:36:25.355973Z",
     "start_time": "2018-12-09T14:36:25.188087Z"
    }
   },
   "outputs": [],
   "source": [
    "Xfile='/net/mraid08/export/genie/Lab/Personal/ShaniBAF/TCR_real_data/Predictions/featureDFs/X_withPredictedAgeGender_Cardio126.dat'\n",
    "X=pd.read_pickle(Xfile)\n",
    "\n",
    "shuf_dir='/net/mraid08/export/genie/Lab/Personal/ShaniBAF/TCR_real_data/Predictions/featureDFs/X_withPredictedAgeGender_Cardio126_shuffling/'\n",
    "\n",
    "print ('X shape is: ',X.shape)\n",
    "for i in range(10):\n",
    "    print i\n",
    "    x_shuf=pd.DataFrame(index=X.index, data=X.sample(frac=1).values)\n",
    "    x_shuf=x_shuf.iloc[:120,:]\n",
    "    print ('x_shuf shape is: ',x_shuf.shape)\n",
    "    x_shuf_name=shuf_dir+'shuf%s.dat' %i\n",
    "    x_shuf.to_pickle(x_shuf_name)\n",
    "    "
   ]
  },
  {
   "cell_type": "markdown",
   "metadata": {},
   "source": [
    "## generate Y_bs files:"
   ]
  },
  {
   "cell_type": "code",
   "execution_count": null,
   "metadata": {
    "ExecuteTime": {
     "end_time": "2018-12-09T13:22:23.062785Z",
     "start_time": "2018-12-09T13:22:23.014830Z"
    }
   },
   "outputs": [],
   "source": [
    "Yname='Maximal Troponin'\n",
    "Yfolder='/net/mraid08/export/genie/Lab/Personal/ShaniBAF/TCR_real_data/CardioSamples/phenotypicData'\n",
    "\n",
    "\n",
    "\n",
    "Y_file='%s/%s.xlsx' %(Yfolder,Yname)\n",
    "Y_file= Y_file.replace(' ','')\n",
    "target=pd.read_excel(Y_file).set_index('BD')\n",
    "#     print target.head()\n",
    "# target=target[Yname]\n",
    "\n",
    "# target=target.dropna()"
   ]
  },
  {
   "cell_type": "code",
   "execution_count": null,
   "metadata": {
    "ExecuteTime": {
     "end_time": "2018-12-09T13:22:33.751897Z",
     "start_time": "2018-12-09T13:22:33.387854Z"
    }
   },
   "outputs": [],
   "source": [
    "Y_bs_folder='%s/%s_bsFiles' %(Yfolder,Yname)\n",
    "Y_bs_folder=Y_bs_folder.replace(' ','')\n",
    "if not isdir(Y_bs_folder):\n",
    "    makedirs(Y_bs_folder)\n",
    "\n",
    "for i in range(10):\n",
    "    target_b=target.sample(frac=0.95)\n",
    "    target_b=target_b.sort_index()\n",
    "    f1='%s/bs_%s.xlsx' %(Y_bs_folder,i)\n",
    "    target_b.to_excel(f1)\n",
    "    \n",
    "    print target_b.shape\n",
    "    print target_b.index.nunique()\n",
    "#     print target_b.head()\n",
    "    \n"
   ]
  },
  {
   "cell_type": "code",
   "execution_count": null,
   "metadata": {},
   "outputs": [],
   "source": [
    "the function generate_bsYs was copied to predictionWrapper.py"
   ]
  },
  {
   "cell_type": "markdown",
   "metadata": {},
   "source": [
    "## predict bs_y's with normal X (positive controls):"
   ]
  },
  {
   "cell_type": "code",
   "execution_count": null,
   "metadata": {},
   "outputs": [],
   "source": [
    "#I ran the following code from the terminal:\n",
    "# ran it manually for each bs - each time changed manually the bs number in the code...\n",
    "\n",
    "!python /home/sbenari/workspace/Microbiome/ShaniBA/PredictionPipeline/PredictionModuleShani.py  /net/mraid08/export/genie/Lab/Personal/ShaniBAF/TCR_real_data/predictions2/Cardio126_diseasePhenotypes/MaximalTroponin/bs9_XGBreg20LOO_randomSearch_25_byRepFeatPCA10percVDJ0999PredictedAgeGender_expVar/ -path_to_X /net/mraid08/export/genie/Lab/Personal/ShaniBAF/TCR_real_data/Predictions/featureDFs/X_withPredictedAgeGender_Cardio126.dat -path_to_Y /net/mraid08/export/genie/Lab/Personal/ShaniBAF/TCR_real_data/CardioSamples/phenotypicData/MaximalTroponin_bsFiles/bs_9.xlsx -parameter_search_type randomSearch -n_random 25 -model XGB -predictor_params '{\"learning_rate\":[0.1,0.05,0.01,0.005],\"n_estimators\": [200,600,1000,1400],\"reg_alpha\":[0,1,5,10],\"gamma\":[0,1,5,10],\"subsample\":[0.5,0.7],\"max_depth\":[1,3,5,7,9]}' -mem_def 1 -n_cols_per_job 1 –nPreSelectedFeatures 20 -k_folds 0"
   ]
  },
  {
   "cell_type": "markdown",
   "metadata": {},
   "source": [
    "## predict y with shuffled X (neg controls):"
   ]
  },
  {
   "cell_type": "code",
   "execution_count": null,
   "metadata": {},
   "outputs": [],
   "source": [
    "# the following code is running from the terminal:\n",
    "# this is not efficient, couldnt find a way to parallelize the loop:\n",
    "!python /home/sbenari/workspace/Microbiome/ShaniBA/PredictionPipeline/PredictionWrapper"
   ]
  },
  {
   "cell_type": "markdown",
   "metadata": {},
   "source": [
    "## plot correlation between y_pred and y in original prediction:"
   ]
  },
  {
   "cell_type": "code",
   "execution_count": null,
   "metadata": {},
   "outputs": [],
   "source": [
    " the function adjusted_roundup was copied to myplots.py and the function plot_ypred_y_corr was copied to predictionWrapper2.py"
   ]
  },
  {
   "cell_type": "code",
   "execution_count": null,
   "metadata": {
    "ExecuteTime": {
     "end_time": "2018-12-10T19:35:10.101089Z",
     "start_time": "2018-12-10T19:35:09.681765Z"
    }
   },
   "outputs": [],
   "source": [
    "Yname='Maximal CPK'\n",
    "Y_file='/net/mraid08/export/genie/Lab/Personal/ShaniBAF/TCR_real_data/CardioSamples/phenotypicData/%s.xlsx' %Yname\n",
    "pred_dir='/net/mraid08/export/genie/Lab/Personal/ShaniBAF/TCR_real_data/predictions2/Cardio126_diseasePhenotypes/XGBreg20LOO\\\n",
    "_randomSearch_25_byRepFeatPCA10percVDJ0999PredictedAgeGender_expVar/'\n",
    "output_dir='/net/mraid08/export/genie/Lab/Personal/ShaniBAF/TCR_real_data/predictions2/Cardio126_diseasePhenotypes/%s/' %Yname\n",
    "\n",
    "plot_ypred_y_corr(Y_file,Yname,pred_dir,output_dir)"
   ]
  },
  {
   "cell_type": "code",
   "execution_count": null,
   "metadata": {
    "ExecuteTime": {
     "end_time": "2018-12-12T10:12:56.155897Z",
     "start_time": "2018-12-12T10:12:56.148835Z"
    }
   },
   "outputs": [],
   "source": [
    "pred_dir='/net/mraid08/export/genie/Lab/Personal/ShaniBAF/TCR_real_data/predictions2/Cardio126_diseasePhenotypes/XGBreg20LOO_randomSearch_25_byRepFeatPCA10percVDJ0999PredictedAgeGender_expVar/'\n",
    "pred_dir.split('/')[-2]"
   ]
  },
  {
   "cell_type": "markdown",
   "metadata": {},
   "source": [
    "## collect pearson_r and expVar from all predictions (21) and plot"
   ]
  },
  {
   "cell_type": "code",
   "execution_count": null,
   "metadata": {
    "ExecuteTime": {
     "end_time": "2018-12-09T20:58:03.676669Z",
     "start_time": "2018-12-09T20:58:03.619282Z"
    }
   },
   "outputs": [],
   "source": [
    "#real experiment:\n",
    "real_file='/net/mraid08/export/genie/Lab/Personal/ShaniBAF/TCR_real_data/predictions2/Cardio126_diseasePhenotypes/XGBreg20LOO\\\n",
    "_randomSearch_25_byRepFeatPCA10percVDJ0999PredictedAgeGender_expVar/results_df.pkl'\n",
    "real=pd.read_pickle(real_file)\n",
    "real.head()"
   ]
  },
  {
   "cell_type": "code",
   "execution_count": null,
   "metadata": {
    "ExecuteTime": {
     "end_time": "2018-12-09T22:02:18.773782Z",
     "start_time": "2018-12-09T22:02:18.448929Z"
    }
   },
   "outputs": [],
   "source": [
    "sum_df=pd.DataFrame()\n",
    "row=0\n",
    "# shuffled data-negative controls:\n",
    "shuf_dir='/net/mraid08/export/genie/Lab/Personal/ShaniBAF/TCR_real_data/Predictions/featureDFs/X_withPredictedAgeGender_Cardio126_shuffling/'\n",
    "for i in range(10):\n",
    "    shuf_res_file='/net/mraid08/export/genie/Lab/Personal/ShaniBAF/TCR_real_data/predictions2/Cardio126_diseasePhenotypes/MaximalTroponin/\\\n",
    "shuff%s_XGBreg20LOO_randomSearch_25_byRepFeatPCA10percVDJ0999PredictedAgeGender_expVar/results_df.pkl' %i\n",
    "    try:\n",
    "        shuf_res=pd.read_pickle(shuf_res_file)\n",
    "        sum_df.loc['shuf%s' %i,'pearson_r']=shuf_res.loc['Maximal Troponin','pearson_r']\n",
    "        sum_df.loc['shuf%s' %i,'expVar']=shuf_res.loc['Maximal Troponin','explained_variance_score']\n",
    "        sum_df.loc['shuf%s' %i,'color']=0  \n",
    "        if i==0: sum_df.loc['shuf%s' %i,'label']=True\n",
    "        else: sum_df.loc['shuf%s' %i,'label']=False\n",
    "#         print shuf_res.head()\n",
    "    except:\n",
    "            print 'the file doesnt exist'\n",
    "#positive controls:            \n",
    "for j in range(10):\n",
    "    bs_res_file='/net/mraid08/export/genie/Lab/Personal/ShaniBAF/TCR_real_data/predictions2/Cardio126_diseasePhenotypes/MaximalTroponin/\\\n",
    "bs%s_XGBreg20LOO_randomSearch_25_byRepFeatPCA10percVDJ0999PredictedAgeGender_expVar/results_df.pkl' %j\n",
    "    try:\n",
    "        bs_res=pd.read_pickle(bs_res_file)\n",
    "        sum_df.loc['bs%s' %j,'pearson_r']=bs_res.loc['Maximal Troponin','pearson_r']\n",
    "        sum_df.loc['bs%s' %j,'expVar']=bs_res.loc['Maximal Troponin','explained_variance_score']\n",
    "        sum_df.loc['bs%s' %j,'color']=1      \n",
    "        if j==0: sum_df.loc['bs%s' %j,'label']=True\n",
    "        else: sum_df.loc['bs%s' %j,'label']=False\n",
    "#         print shuf_res.head()\n",
    "    except:\n",
    "            print 'the file doesnt exist'\n",
    "\n",
    "#real experiment:\n",
    "real_file='/net/mraid08/export/genie/Lab/Personal/ShaniBAF/TCR_real_data/predictions2/Cardio126_diseasePhenotypes/XGBreg20LOO\\\n",
    "_randomSearch_25_byRepFeatPCA10percVDJ0999PredictedAgeGender_expVar/results_df.pkl'\n",
    "real=pd.read_pickle(real_file)\n",
    "sum_df.loc['real' ,'pearson_r']=real.loc['Maximal Troponin','pearson_r']\n",
    "sum_df.loc['real' ,'expVar']=real.loc['Maximal Troponin','explained_variance_score']\n",
    "sum_df.loc['real' ,'color']=2\n",
    "sum_df.loc['real','label']=True\n",
    "\n",
    "            \n",
    "sum_df\n",
    "    "
   ]
  },
  {
   "cell_type": "code",
   "execution_count": null,
   "metadata": {
    "ExecuteTime": {
     "end_time": "2018-12-09T22:02:32.713678Z",
     "start_time": "2018-12-09T22:02:32.359303Z"
    }
   },
   "outputs": [],
   "source": [
    "sum_df=sum_df.dropna(how='any')\n",
    "fig2,ax2=plt.subplots(figsize=(7,7))\n",
    "colorList=['red','green','navy']\n",
    "labelList=['neg control (shuffled X)','pos control (bootstrapped y)','real data']\n",
    "for i in range(sum_df.shape[0]):\n",
    "    if sum_df.iloc[i,3]:\n",
    "        ax2.scatter(x=sum_df.iloc[i,0],y=sum_df.iloc[i,1],color=colorList[int(sum_df.iloc[i,2])],label=labelList[int(sum_df.iloc[i,2])],s=100)\n",
    "    else:\n",
    "        ax2.scatter(x=sum_df.iloc[i,0],y=sum_df.iloc[i,1],color=colorList[int(sum_df.iloc[i,2])],s=100)\n",
    "ax2.set_xlabel('pearson_r',fontsize='large')\n",
    "ax2.set_ylabel('explained variance',fontsize='large')\n",
    "ax2.set_title('Model performance - Maximal Troponin')\n",
    "ax2.legend()\n",
    "plt.show()"
   ]
  },
  {
   "cell_type": "code",
   "execution_count": null,
   "metadata": {},
   "outputs": [],
   "source": []
  },
  {
   "cell_type": "code",
   "execution_count": null,
   "metadata": {},
   "outputs": [],
   "source": []
  },
  {
   "cell_type": "code",
   "execution_count": null,
   "metadata": {},
   "outputs": [],
   "source": []
  },
  {
   "cell_type": "markdown",
   "metadata": {},
   "source": [
    "## predict noral y with predicted Age and Gender as X"
   ]
  },
  {
   "cell_type": "code",
   "execution_count": null,
   "metadata": {
    "ExecuteTime": {
     "end_time": "2018-12-12T10:24:32.343748Z",
     "start_time": "2018-12-12T10:24:32.338096Z"
    }
   },
   "outputs": [],
   "source": [
    "outputname='XGBreg20LOO_randomSearch_25_byRepFeatPCA10percVDJ0999PredictedAgeGender_expVar'\n",
    "'_'.join(outputname.split('_')[:-2])+'_byPredictedAgeGender'"
   ]
  },
  {
   "cell_type": "markdown",
   "metadata": {},
   "source": [
    "## find a way to generalize the process!!!"
   ]
  },
  {
   "cell_type": "markdown",
   "metadata": {},
   "source": [
    "1. repeat for maximal_CPK, AST, ostial CX disease, D1 DISEASE\n",
    "2. repeat for major classification results\n",
    "3. repeat for major multiclass results? (optimize by kappa and not f1)"
   ]
  },
  {
   "cell_type": "code",
   "execution_count": null,
   "metadata": {
    "ExecuteTime": {
     "end_time": "2018-12-09T21:49:57.926295Z",
     "start_time": "2018-12-09T21:49:57.288448Z"
    }
   },
   "outputs": [],
   "source": [
    "Yname='Maximal CPK'\n",
    "generate_bsYs(Yname)"
   ]
  },
  {
   "cell_type": "code",
   "execution_count": null,
   "metadata": {
    "ExecuteTime": {
     "end_time": "2018-12-10T19:00:25.777352Z",
     "start_time": "2018-12-10T19:00:25.674084Z"
    }
   },
   "outputs": [],
   "source": [
    "def gen_pos_neg_controls_plot(Yname,shuf_dir,n_permut,output_dir_Y):\n",
    "    \n",
    "    YnameNoSpace=Yname.replace(' ','')\n",
    "    sum_df=pd.DataFrame()\n",
    "    \n",
    "    # shuffled data-negative controls:\n",
    "    for i in range(n_permut):\n",
    "        shuf_res_file=output_dir_Yshuf_dir+'results_df.pkl' %(YnameNoSpace,i)\n",
    "        try:\n",
    "            shuf_res=pd.read_pickle(shuf_res_file)\n",
    "            sum_df.loc['shuf%s' %i,'pearson_r']=shuf_res.loc[Yname,'pearson_r']\n",
    "            sum_df.loc['shuf%s' %i,'expVar']=shuf_res.loc[Yname,'explained_variance_score']\n",
    "            sum_df.loc['shuf%s' %i,'color']=0  \n",
    "            if i==0: sum_df.loc['shuf%s' %i,'label']=True\n",
    "            else: sum_df.loc['shuf%s' %i,'label']=False\n",
    "    #         print shuf_res.head()\n",
    "        except:\n",
    "                print 'the file  %s doesnt exist' %shuf_res_file\n",
    "   \n",
    "    #positive controls:            \n",
    "    for j in range(n_permut):\n",
    "        bs_res_file='/net/mraid08/export/genie/Lab/Personal/ShaniBAF/TCR_real_data/predictions2/Cardio126_diseasePhenotypes/%s/\\\n",
    "bs%s_XGBreg20LOO_randomSearch_25_byRepFeatPCA10percVDJ0999PredictedAgeGender_expVar/results_df.pkl' %(YnameNoSpace,j)\n",
    "        try:\n",
    "            bs_res=pd.read_pickle(bs_res_file)\n",
    "            sum_df.loc['bs%s' %j,'pearson_r']=bs_res.loc[Yname,'pearson_r']\n",
    "            sum_df.loc['bs%s' %j,'expVar']=bs_res.loc[Yname,'explained_variance_score']\n",
    "            sum_df.loc['bs%s' %j,'color']=1      \n",
    "            if j==0: sum_df.loc['bs%s' %j,'label']=True\n",
    "            else: sum_df.loc['bs%s' %j,'label']=False\n",
    "    #         print shuf_res.head()\n",
    "        except:\n",
    "                print 'the file doesnt exist'\n",
    "\n",
    "    #real experiment:\n",
    "    real_file='/net/mraid08/export/genie/Lab/Personal/ShaniBAF/TCR_real_data/predictions2/Cardio126_diseasePhenotypes/XGBreg20LOO\\\n",
    "_randomSearch_25_byRepFeatPCA10percVDJ0999PredictedAgeGender_expVar/results_df.pkl'\n",
    "    real=pd.read_pickle(real_file)\n",
    "#     print real\n",
    "    sum_df.loc['real' ,'pearson_r']=real.loc[Yname,'pearson_r']\n",
    "    sum_df.loc['real' ,'expVar']=real.loc[Yname,'explained_variance_score']\n",
    "    sum_df.loc['real' ,'color']=2\n",
    "    sum_df.loc['real','label']=True\n",
    "    \n",
    "    \n",
    "    #X=predictedAgeGenderOnly:\n",
    "#     try:\n",
    "    AgeGender_file='/net/mraid08/export/genie/Lab/Personal/ShaniBAF/TCR_real_data/predictions2/Cardio126_diseasePhenotypes/%s/\\\n",
    "XGBreg20LOO_randomSearch_25_byPredictedAgeGender_expVar/results_df.pkl' %YnameNoSpace\n",
    "    AgeGender=pd.read_pickle(AgeGender_file)\n",
    "    sum_df.loc['predAgeGender' ,'pearson_r']=AgeGender.loc[Yname,'pearson_r']\n",
    "    sum_df.loc['predAgeGender' ,'expVar']=AgeGender.loc[Yname,'explained_variance_score']\n",
    "    sum_df.loc['predAgeGender' ,'color']=3\n",
    "    sum_df.loc['predAgeGender','label']=True\n",
    "#     except:\n",
    "#         print 'no predAgeGender file'\n",
    "    print sum_df\n",
    "    \n",
    "    sum_df=sum_df.dropna(how='any')\n",
    "    fig2,ax2=plt.subplots(figsize=(7,7))\n",
    "    colorList=['red','green','navy','orange']\n",
    "    labelList=['neg control (shuffled X)','pos control (bootstrapped y)','real data','onlyByPredAgeGender']\n",
    "    for i in range(sum_df.shape[0]):\n",
    "        if sum_df.iloc[i,3]:\n",
    "            ax2.scatter(x=sum_df.iloc[i,0],y=sum_df.iloc[i,1],color=colorList[int(sum_df.iloc[i,2])],label=labelList[int(sum_df.iloc[i,2])],s=100)\n",
    "        else:\n",
    "            ax2.scatter(x=sum_df.iloc[i,0],y=sum_df.iloc[i,1],color=colorList[int(sum_df.iloc[i,2])],s=100)\n",
    "    ax2.set_xlabel('pearson_r',fontsize='large')\n",
    "    ax2.set_ylabel('explained variance',fontsize='large')\n",
    "    ax2.set_title('Model performance - %s' %Yname)\n",
    "    ax2.legend()\n",
    "    plt.show()\n",
    "\n"
   ]
  },
  {
   "cell_type": "code",
   "execution_count": null,
   "metadata": {
    "ExecuteTime": {
     "end_time": "2018-12-10T19:00:31.794034Z",
     "start_time": "2018-12-10T19:00:31.011724Z"
    }
   },
   "outputs": [],
   "source": [
    "Yname='Maximal CPK'\n",
    "shuf_dir='/net/mraid08/export/genie/Lab/Personal/ShaniBAF/TCR_real_data/Predictions/featureDFs/X_withPredictedAgeGender_Cardio126_shuffling/'\n",
    "gen_pos_neg_controls_plot(Yname,shuf_dir)"
   ]
  },
  {
   "cell_type": "markdown",
   "metadata": {},
   "source": [
    "## run for GRACE score"
   ]
  },
  {
   "cell_type": "code",
   "execution_count": null,
   "metadata": {
    "ExecuteTime": {
     "end_time": "2018-12-09T22:39:47.691487Z",
     "start_time": "2018-12-09T22:39:47.302989Z"
    }
   },
   "outputs": [],
   "source": [
    "Yname='GRACE Score'\n",
    "generate_bsYs(Yname)"
   ]
  },
  {
   "cell_type": "code",
   "execution_count": null,
   "metadata": {},
   "outputs": [],
   "source": [
    "# run prediction for 10 bootstrapped and 10 shuffled\n",
    "# plot pearson r and exaplined variance for all and compare\n",
    "# repeat for other targets"
   ]
  },
  {
   "cell_type": "code",
   "execution_count": null,
   "metadata": {
    "ExecuteTime": {
     "end_time": "2018-12-10T13:00:48.573320Z",
     "start_time": "2018-12-10T13:00:48.003208Z"
    }
   },
   "outputs": [],
   "source": [
    "Yname='GRACE Score'\n",
    "gen_pos_neg_controls_plot(Yname)"
   ]
  },
  {
   "cell_type": "code",
   "execution_count": null,
   "metadata": {
    "ExecuteTime": {
     "end_time": "2018-12-10T12:40:25.670853Z",
     "start_time": "2018-12-10T12:40:25.599535Z"
    }
   },
   "outputs": [],
   "source": [
    "Xpath = '/net/mraid08/export/genie/Lab/Personal/ShaniBAF/TCR_real_data/Predictions/featureDFs/PredictedAgeGender.dat' \n",
    "XpredAgeGender=pd.read_pickle(Xpath)\n",
    "XpredAgeGender.shape"
   ]
  },
  {
   "cell_type": "code",
   "execution_count": null,
   "metadata": {
    "ExecuteTime": {
     "end_time": "2018-12-10T12:40:31.107617Z",
     "start_time": "2018-12-10T12:40:31.088231Z"
    }
   },
   "outputs": [],
   "source": [
    "XpredAgeGender.head()"
   ]
  },
  {
   "cell_type": "markdown",
   "metadata": {},
   "source": [
    "## repeat for maximal_CPK, AST, ostial CX disease, D1 DISEASE"
   ]
  },
  {
   "cell_type": "code",
   "execution_count": null,
   "metadata": {
    "ExecuteTime": {
     "end_time": "2018-12-10T12:40:59.270377Z",
     "start_time": "2018-12-10T12:40:59.262667Z"
    }
   },
   "outputs": [],
   "source": [
    "XpredAgeGender_Cardio126=XpredAgeGender.loc[Cardio126,:]\n",
    "XpredAgeGender_Cardio126.shape"
   ]
  },
  {
   "cell_type": "code",
   "execution_count": null,
   "metadata": {
    "ExecuteTime": {
     "end_time": "2018-12-10T12:41:33.699566Z",
     "start_time": "2018-12-10T12:41:33.681202Z"
    }
   },
   "outputs": [],
   "source": [
    "XCardio_path='/net/mraid08/export/genie/Lab/Personal/ShaniBAF/TCR_real_data/Predictions/featureDFs/PredictedAgeGender_Cardio126.dat'\n",
    "XpredAgeGender_Cardio126.to_pickle(XCardio_path)"
   ]
  },
  {
   "cell_type": "markdown",
   "metadata": {},
   "source": [
    "# automated run of all phenotypes using 20 permutations:\n",
    "multi predictions didn't work\n",
    "\n",
    "used the scripts i folder '/net/mraid08/export/genie/Lab/Personal/ShaniBAF/TCR_real_data/predictions2/Cardio126_diseasePhenotypes/pyFiles_runBinary_predictions/'"
   ]
  },
  {
   "cell_type": "markdown",
   "metadata": {},
   "source": [
    "## get p-values from all runs:"
   ]
  },
  {
   "cell_type": "code",
   "execution_count": 90,
   "metadata": {
    "ExecuteTime": {
     "end_time": "2018-12-18T09:50:32.646721Z",
     "start_time": "2018-12-18T09:50:32.581412Z"
    }
   },
   "outputs": [],
   "source": [
    "def get_p_values_from_all_runs(result_dir,dirNameList,pCut):\n",
    "    \n",
    "    allPredSumDF=pd.DataFrame()\n",
    "    folder_list=listdir(result_dir)\n",
    "    print ('number of folders withing directory is: ',len(folder_list))\n",
    "    foldersToUse=[]\n",
    "    for n,f in enumerate(folder_list):\n",
    "#         print 'extracting shuffling results...'\n",
    "#         if n%20==0: print n\n",
    "        for d in dirNameList:\n",
    "            if d in f:\n",
    "                foldersToUse.append(f)\n",
    "                if 'mapped' in f:\n",
    "                    Yname=''.join([f.split('_')[0],f.split('_')[1]])\n",
    "                else:\n",
    "                    Yname=f.split('_')[0]\n",
    "\n",
    "                for name in glob.glob(result_dir+f+'/sum_df_*'):       \n",
    "                    sumDFfile=name\n",
    "                    sumDF=pd.read_excel(sumDFfile)\n",
    "                    shufList=[x for x in sumDF.index if ('shuf' in x) and ('mean' not in x)]\n",
    "                    eval_metric1=sumDF.columns[0]\n",
    "                    eval_metric2=sumDF.columns[1]\n",
    "                    eval_metric_list=[eval_metric1, eval_metric2]\n",
    "                    for em in eval_metric_list:\n",
    "\n",
    "                        real_metric=sumDF.loc['real',em]\n",
    "                        rowname=Yname+'_'+em\n",
    "                        allPredSumDF.loc[rowname,'real']=real_metric\n",
    "                        for shuf in shufList:\n",
    "                            allPredSumDF.loc[rowname,shuf]=sumDF.loc[shuf,em]\n",
    "    print ('number of predictions with result summary is: ',len(foldersToUse))\n",
    "    print ('required p-value according to bonferroni: ',0.05/len(foldersToUse))\n",
    "    \n",
    "    f1=result_dir+'predSum_%s.xlsx' %cdate\n",
    "    allPredSumDF.to_excel(f1)\n",
    "    \n",
    "    def calc_obs_p(x):\n",
    "        real=x[0]\n",
    "        shufs=x[1:]\n",
    "        sigs=[x for x in shufs if x>=real]\n",
    "        p_obs=(float(1+len(sigs)))/(1+len(shufs))\n",
    "\n",
    "        return p_obs\n",
    "\n",
    "    allPredSumDF['p_obs']=allPredSumDF.apply(lambda x:calc_obs_p(x),axis=1)\n",
    "    print ('minimal p_obs: ',allPredSumDF['p_obs'].min())\n",
    "    print ('maximal p_obs: ',allPredSumDF['p_obs'].max())\n",
    "    \n",
    "    sigResults=allPredSumDF[allPredSumDF['p_obs']<=pCut]['p_obs']\n",
    "    print sigResults.sort_values()\n",
    "    \n",
    "    phenotypesToPredict=[x.split('_')[0] for x in sigResults.index.tolist()]\n",
    "    \n",
    "    phenotypesToPredict=list(set(phenotypesToPredict))\n",
    "    \n",
    "    return phenotypesToPredict"
   ]
  },
  {
   "cell_type": "code",
   "execution_count": 91,
   "metadata": {
    "ExecuteTime": {
     "end_time": "2018-12-18T09:50:44.615566Z",
     "start_time": "2018-12-18T09:50:40.849032Z"
    }
   },
   "outputs": [
    {
     "name": "stdout",
     "output_type": "stream",
     "text": [
      "('number of folders withing directory is: ', 142)\n",
      "('number of predictions with result summary is: ', 89)\n",
      "('required p-value according to bonferroni: ', 0.0005617977528089888)\n",
      "('minimal p_obs: ', 0.05)\n",
      "('maximal p_obs: ', 1.0)\n",
      "MaximalTroponin_pearson_r                           0.05\n",
      "Age_explained_variance_score                        0.05\n",
      "Age_pearson_r                                       0.05\n",
      "MitralRegurgitation_explained_variance_score        0.05\n",
      "MitralRegurgitation_pearson_r                       0.05\n",
      "DischargeMerformin_Precision_Recall                 0.05\n",
      "OstialCXDisease_explained_variance_score            0.05\n",
      "OstialCXDisease_pearson_r                           0.05\n",
      "Religion_Precision_Recall                           0.05\n",
      "nTemplates_pearson_r                                0.05\n",
      "ChiefComplaintmappedanginalpain_kappa               0.05\n",
      "ChiefComplaintmappedanginalpain_Precision_Recall    0.05\n",
      "nTemplates_explained_variance_score                 0.05\n",
      "MaximalCPK_explained_variance_score                 0.05\n",
      "MaximalTroponin_explained_variance_score            0.05\n",
      "D1Disease_pearson_r                                 0.05\n",
      "D1Disease_explained_variance_score                  0.05\n",
      "MaximalCPK_pearson_r                                0.05\n",
      "AdmissionDiagnosismappedSTEMI_kappa                 0.05\n",
      "AdmissionDiagnosis_pearson_r                        0.10\n",
      "DischargeClopidogrel_kappa                          0.10\n",
      "SmokingStatusmappedPast_Precision_Recall            0.10\n",
      "DiastolicFuncion_explained_variance_score           0.10\n",
      "Religion_kappa                                      0.10\n",
      "Marginal1Disease_explained_variance_score           0.10\n",
      "Marginal1Disease_pearson_r                          0.10\n",
      "SmokingStatusmappedYes_kappa                        0.10\n",
      "DischargeClopidogrel_Precision_Recall               0.10\n",
      "AST_pearson_r                                       0.10\n",
      "Name: p_obs, dtype: float64\n",
      "[u'Marginal1Disease', u'AdmissionDiagnosismappedSTEMI', u'OstialCXDisease', u'DiastolicFuncion', u'AST', u'ChiefComplaintmappedanginalpain', u'DischargeClopidogrel', u'AdmissionDiagnosis', u'MitralRegurgitation', u'SmokingStatusmappedYes', u'Religion', u'nTemplates', u'MaximalTroponin', u'SmokingStatusmappedPast', u'MaximalCPK', u'D1Disease', u'Age', u'DischargeMerformin']\n",
      "18\n"
     ]
    }
   ],
   "source": [
    "result_dir='%s/TCR_real_data/predictions2/Cardio126_diseasePhenotypes/' %MyPath\n",
    "dirNameList=['XGB20LOO_19perms_cont','logReg50_19perms','LR_19perms_MULTI','XGB20_19perms_multi']\n",
    "pCut=0.1\n",
    "\n",
    "phenotypesToPredict_01=get_p_values_from_all_runs(result_dir,dirNameList,pCut)\n",
    "print phenotypesToPredict_01\n",
    "print len(phenotypesToPredict_01)"
   ]
  },
  {
   "cell_type": "code",
   "execution_count": 92,
   "metadata": {
    "ExecuteTime": {
     "end_time": "2018-12-18T09:51:31.311878Z",
     "start_time": "2018-12-18T09:51:28.000121Z"
    }
   },
   "outputs": [
    {
     "name": "stdout",
     "output_type": "stream",
     "text": [
      "('number of folders withing directory is: ', 143)\n",
      "('number of predictions with result summary is: ', 89)\n",
      "('required p-value according to bonferroni: ', 0.0005617977528089888)\n",
      "('minimal p_obs: ', 0.05)\n",
      "('maximal p_obs: ', 1.0)\n",
      "MaximalTroponin_pearson_r                           0.05\n",
      "Age_explained_variance_score                        0.05\n",
      "Age_pearson_r                                       0.05\n",
      "MitralRegurgitation_explained_variance_score        0.05\n",
      "MitralRegurgitation_pearson_r                       0.05\n",
      "DischargeMerformin_Precision_Recall                 0.05\n",
      "OstialCXDisease_explained_variance_score            0.05\n",
      "OstialCXDisease_pearson_r                           0.05\n",
      "nTemplates_pearson_r                                0.05\n",
      "Religion_Precision_Recall                           0.05\n",
      "ChiefComplaintmappedanginalpain_kappa               0.05\n",
      "AdmissionDiagnosismappedSTEMI_kappa                 0.05\n",
      "MaximalCPK_explained_variance_score                 0.05\n",
      "MaximalCPK_pearson_r                                0.05\n",
      "D1Disease_explained_variance_score                  0.05\n",
      "D1Disease_pearson_r                                 0.05\n",
      "MaximalTroponin_explained_variance_score            0.05\n",
      "ChiefComplaintmappedanginalpain_Precision_Recall    0.05\n",
      "nTemplates_explained_variance_score                 0.05\n",
      "Name: p_obs, dtype: float64\n",
      "[u'AdmissionDiagnosismappedSTEMI', u'MitralRegurgitation', u'ChiefComplaintmappedanginalpain', u'Age', u'Religion', u'MaximalTroponin', u'OstialCXDisease', u'MaximalCPK', u'D1Disease', u'nTemplates', u'DischargeMerformin']\n",
      "11\n"
     ]
    }
   ],
   "source": [
    "pCut=0.05\n",
    "\n",
    "phenotypesToPredict_005=get_p_values_from_all_runs(result_dir,dirNameList,pCut)\n",
    "print phenotypesToPredict_005\n",
    "print len(phenotypesToPredict_005)"
   ]
  },
  {
   "cell_type": "code",
   "execution_count": 89,
   "metadata": {
    "ExecuteTime": {
     "end_time": "2018-12-18T08:31:16.751853Z",
     "start_time": "2018-12-18T08:31:16.743569Z"
    }
   },
   "outputs": [
    {
     "data": {
      "text/plain": [
       "0.0005"
      ]
     },
     "execution_count": 89,
     "metadata": {},
     "output_type": "execute_result"
    }
   ],
   "source": [
    "1.0/2000"
   ]
  },
  {
   "cell_type": "code",
   "execution_count": 94,
   "metadata": {
    "ExecuteTime": {
     "end_time": "2018-12-18T10:47:45.955964Z",
     "start_time": "2018-12-18T10:47:45.941199Z"
    }
   },
   "outputs": [],
   "source": [
    "df=Load('/net/mraid08/export/genie/Lab/Personal/ShaniBAF/TCR_real_data/predictions2/Cardio126_diseasePhenotypes/GlucoseDisorder_XGB20_19perms_multi/shuf10_XGBmulticlass20_gridSearch_byRepFeatPCA10percVDJ0999PredictedAgeGender_optByF1macro/results_df.pkl')\n"
   ]
  },
  {
   "cell_type": "code",
   "execution_count": 95,
   "metadata": {
    "ExecuteTime": {
     "end_time": "2018-12-18T10:47:47.957923Z",
     "start_time": "2018-12-18T10:47:47.933002Z"
    }
   },
   "outputs": [
    {
     "data": {
      "text/html": [
       "<div>\n",
       "<style scoped>\n",
       "    .dataframe tbody tr th:only-of-type {\n",
       "        vertical-align: middle;\n",
       "    }\n",
       "\n",
       "    .dataframe tbody tr th {\n",
       "        vertical-align: top;\n",
       "    }\n",
       "\n",
       "    .dataframe thead th {\n",
       "        text-align: right;\n",
       "    }\n",
       "</style>\n",
       "<table border=\"1\" class=\"dataframe\">\n",
       "  <thead>\n",
       "    <tr style=\"text-align: right;\">\n",
       "      <th></th>\n",
       "      <th>Size</th>\n",
       "      <th>Coefficient_of_determination</th>\n",
       "      <th>pearson_r</th>\n",
       "      <th>pearson_p</th>\n",
       "      <th>spearman_r</th>\n",
       "      <th>spearman_p</th>\n",
       "      <th>explained_variance_score</th>\n",
       "    </tr>\n",
       "  </thead>\n",
       "  <tbody>\n",
       "    <tr>\n",
       "      <th>GlucoseDisorder</th>\n",
       "      <td>126</td>\n",
       "      <td>-0.120696</td>\n",
       "      <td>0.108501</td>\n",
       "      <td>0.226525</td>\n",
       "      <td>0.111897</td>\n",
       "      <td>0.212235</td>\n",
       "      <td>-0.120232</td>\n",
       "    </tr>\n",
       "  </tbody>\n",
       "</table>\n",
       "</div>"
      ],
      "text/plain": [
       "                Size Coefficient_of_determination pearson_r pearson_p spearman_r spearman_p  explained_variance_score\n",
       "GlucoseDisorder  126                    -0.120696  0.108501  0.226525   0.111897   0.212235                 -0.120232"
      ]
     },
     "execution_count": 95,
     "metadata": {},
     "output_type": "execute_result"
    }
   ],
   "source": [
    "df"
   ]
  },
  {
   "cell_type": "code",
   "execution_count": null,
   "metadata": {},
   "outputs": [],
   "source": []
  }
 ],
 "metadata": {
  "kernelspec": {
   "display_name": "Python 2",
   "language": "python",
   "name": "python2"
  },
  "language_info": {
   "codemirror_mode": {
    "name": "ipython",
    "version": 2
   },
   "file_extension": ".py",
   "mimetype": "text/x-python",
   "name": "python",
   "nbconvert_exporter": "python",
   "pygments_lexer": "ipython2",
   "version": "2.7.8"
  },
  "toc": {
   "nav_menu": {},
   "number_sections": true,
   "sideBar": true,
   "skip_h1_title": false,
   "toc_cell": false,
   "toc_position": {},
   "toc_section_display": "block",
   "toc_window_display": true
  },
  "varInspector": {
   "cols": {
    "lenName": 16,
    "lenType": 16,
    "lenVar": 40
   },
   "kernels_config": {
    "python": {
     "delete_cmd_postfix": "",
     "delete_cmd_prefix": "del ",
     "library": "var_list.py",
     "varRefreshCmd": "print(var_dic_list())"
    },
    "r": {
     "delete_cmd_postfix": ") ",
     "delete_cmd_prefix": "rm(",
     "library": "var_list.r",
     "varRefreshCmd": "cat(var_dic_list()) "
    }
   },
   "types_to_exclude": [
    "module",
    "function",
    "builtin_function_or_method",
    "instance",
    "_Feature"
   ],
   "window_display": false
  }
 },
 "nbformat": 4,
 "nbformat_minor": 2
}
