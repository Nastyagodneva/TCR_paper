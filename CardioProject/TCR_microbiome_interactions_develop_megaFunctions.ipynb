{
 "cells": [
  {
   "cell_type": "markdown",
   "metadata": {},
   "source": [
    "# imports"
   ]
  },
  {
   "cell_type": "code",
   "execution_count": 1,
   "metadata": {},
   "outputs": [
    {
     "name": "stdout",
     "output_type": "stream",
     "text": [
      "done1\n",
      "stop\n",
      "stop\n",
      "done1\n",
      "stop\n",
      "done\n",
      "done\n"
     ]
    }
   ],
   "source": [
    "from os import listdir,mkdir,makedirs\n",
    "from os.path import isfile, join, isdir,exists\n",
    "import pandas as pd\n",
    "import numpy as np\n",
    "from scipy import stats\n",
    "import re\n",
    "import matplotlib.pyplot as plt\n",
    "from matplotlib.backends.backend_pdf import PdfPages\n",
    "from myplots import roundup, rounddown, find_decimal_fold, percentile_cut_off, rarefaction_calc, rarefaction_plot,draw_correlation_scatter\n",
    "from matplotlib.ticker import FormatStrFormatter\n",
    "import cPickle as pickle\n",
    "from Bio.SeqUtils import GC\n",
    "import seaborn as sns\n",
    "import random\n",
    "from scipy.stats import pearsonr\n",
    "from skbio.diversity.alpha import shannon, simpson, berger_parker_d\n",
    "\n",
    "from pop_organize import get_sample_data, get_sample_with_dfs\n",
    "from SufficientStatistics import *\n",
    "from MyFunctionsShani import *\n",
    "import math\n",
    "from myplots import roundup, rounddown, find_decimal_fold\n",
    "from skbio.stats.distance import mantel\n",
    "from scipy.spatial.distance import braycurtis, pdist\n",
    "from GeneralFeaturePhenotypeInteractions.Feature_phenotype_functions import * \n",
    "from TCR_microbiome_interactions.TCR_microbiome_interactions_functions import *\n",
    "from SampleLists.SampleFileFunctions import *\n",
    "\n",
    "MyPath='/net/mraid08/export/genie/Lab/Personal/ShaniBAF'"
   ]
  },
  {
   "cell_type": "code",
   "execution_count": 2,
   "metadata": {},
   "outputs": [
    {
     "data": {
      "text/plain": [
       "'29042018'"
      ]
     },
     "execution_count": 2,
     "metadata": {},
     "output_type": "execute_result"
    }
   ],
   "source": [
    "import time\n",
    "cdate=str(time.strftime(\"%d%m%Y\"))\n",
    "cdate"
   ]
  },
  {
   "cell_type": "markdown",
   "metadata": {},
   "source": [
    "# generate microbiome data:\n"
   ]
  },
  {
   "cell_type": "code",
   "execution_count": null,
   "metadata": {},
   "outputs": [],
   "source": [
    "level='s'\n",
    "dataFolder='AllSeqProjects'\n",
    "\n",
    "\n",
    "MPAlevel,MPAlevelBinary=gen_mb_df(level,dataFolder)"
   ]
  },
  {
   "cell_type": "code",
   "execution_count": null,
   "metadata": {},
   "outputs": [],
   "source": [
    "MPAlevel.head()"
   ]
  },
  {
   "cell_type": "markdown",
   "metadata": {},
   "source": [
    "# filter microbiome data:"
   ]
  },
  {
   "cell_type": "markdown",
   "metadata": {},
   "source": [
    "## generate updated bd_fd converter based on 'AllSeqProjects' folder"
   ]
  },
  {
   "cell_type": "code",
   "execution_count": null,
   "metadata": {},
   "outputs": [],
   "source": [
    "mergeOn='Year'\n",
    "readCountFolder='AllSeqProjects'\n",
    "\n",
    "final_BD_FD_converter=gen_BD_FD_conversion_file(mergeOn,readCountFolder)"
   ]
  },
  {
   "cell_type": "markdown",
   "metadata": {},
   "source": [
    "## filter Mb data:"
   ]
  },
  {
   "cell_type": "code",
   "execution_count": null,
   "metadata": {},
   "outputs": [],
   "source": [
    "#loading Mb file (RA, based on AllSeqProjects):\n",
    "\n",
    "file1='%s/MicrobiomeDataTables/MPA_s_AllSeqProjects_RA' %MyPath\n",
    "MPA_s_AllSeqProjects_RA=pd.read_pickle(file1)"
   ]
  },
  {
   "cell_type": "code",
   "execution_count": null,
   "metadata": {},
   "outputs": [],
   "source": [
    "#load PNP515 sample list:\n",
    "with open('/net/mraid08/export/genie/Lab/Personal/ShaniBAF/Sample files/BD lists/PNP515','rb') as fp:\n",
    "    PNP515=pickle.load(fp)\n",
    "print len(PNP515)\n",
    "PNP515[:5]"
   ]
  },
  {
   "cell_type": "markdown",
   "metadata": {},
   "source": [
    "### filter PNP515 samples, no additional filtering:"
   ]
  },
  {
   "cell_type": "code",
   "execution_count": null,
   "metadata": {},
   "outputs": [],
   "source": [
    "dataDF=MPA_s_AllSeqProjects_RA.reset_index()\n",
    "dataDFname='MPA_s_AllSeqProjects'\n",
    "dataMergeOn='FD'\n",
    "BDFDMergeOn='FD'\n",
    "SampleList=PNP515\n",
    "SampleListName='PNP515'\n",
    "filterGenotek=False\n",
    "filterMinimalReads=None\n",
    "folderToSave='/net/mraid08/export/genie/Lab/Personal/ShaniBAF/MicrobiomeDataTables/Filtered'\n",
    "\n",
    "\n",
    "\n",
    "filter_data_on_FDproperties(dataDF,dataDFname,dataMergeOn,BDFDMergeOn,SampleList,SampleListName,\n",
    "                            filterGenotek, filterMinimalReads, folderToSave,BD_FD=None)"
   ]
  },
  {
   "cell_type": "markdown",
   "metadata": {},
   "source": [
    "### filter PNP515 samples, only swabs, minimal reads=9000000"
   ]
  },
  {
   "cell_type": "code",
   "execution_count": null,
   "metadata": {},
   "outputs": [],
   "source": [
    "dataDF=MPA_s_AllSeqProjects_RA.reset_index()\n",
    "dataDFname='MPA_s_AllSeqProjects'\n",
    "dataMergeOn='FD'\n",
    "BDFDMergeOn='FD'\n",
    "SampleList=PNP515\n",
    "SampleListName='PNP515'\n",
    "filterGenotek=True\n",
    "filterMinimalReads=9000000\n",
    "folderToSave='/net/mraid08/export/genie/Lab/Personal/ShaniBAF/MicrobiomeDataTables/Filtered'\n",
    "\n",
    "\n",
    "\n",
    "filter_data_on_FDproperties(dataDF,dataDFname,dataMergeOn,BDFDMergeOn,SampleList,SampleListName,\n",
    "                            filterGenotek, filterMinimalReads, folderToSave,BD_FD=None)"
   ]
  },
  {
   "cell_type": "markdown",
   "metadata": {},
   "source": [
    "# merge on BDs:"
   ]
  },
  {
   "cell_type": "markdown",
   "metadata": {},
   "source": [
    "no need to filter outliers and same person, as this is done in subsequent functions"
   ]
  },
  {
   "cell_type": "code",
   "execution_count": null,
   "metadata": {},
   "outputs": [],
   "source": [
    "#non filtered file:\n",
    "\n",
    "f1='/net/mraid08/export/genie/Lab/Personal/ShaniBAF/MicrobiomeDataTables/Filtered/MPA_s_AllSeqProjects_SampleListPNP515_filterGenotekFalse_filterMinimalReadNone'\n",
    "MPA515notfiltered=pd.read_pickle(f1)\n",
    "\n",
    "\n",
    "DFtoGroup=MPA515notfiltered\n",
    "DFtoGroupName='MPA515notfiltered'\n",
    "groupFunction='mean'\n",
    "filterOutlierSamples=False\n",
    "filterSamePerson=False\n",
    "folderToSave='/net/mraid08/export/genie/Lab/Personal/ShaniBAF/MicrobiomeDataTables/FilteredAndMergedOnBD'\n",
    "nSTD=None,\n",
    "nMinSamples=None\n",
    "\n",
    "\n",
    "groupedDF=mergeOnBD(DFtoGroup,DFtoGroupName,groupFunction,filterOutlierSamples,filterSamePerson,folderToSave,nSTD=None,\n",
    "              nMinSamples=None)"
   ]
  },
  {
   "cell_type": "code",
   "execution_count": null,
   "metadata": {},
   "outputs": [],
   "source": [
    "#swabs only,min9k reads filtered file:\n",
    "\n",
    "f1='/net/mraid08/export/genie/Lab/Personal/ShaniBAF/MicrobiomeDataTables/Filtered/MPA_s_AllSeqProjects_SampleListPNP515_filterGenotekTrue_filterMinimalRead9000000'\n",
    "MPA515swabsMin9k=pd.read_pickle(f1)\n",
    "\n",
    "\n",
    "DFtoGroup=MPA515swabsMin9k\n",
    "DFtoGroupName='MPA515swabsMin9k'\n",
    "groupFunction='mean'\n",
    "filterOutlierSamples=False\n",
    "filterSamePerson=False\n",
    "folderToSave='/net/mraid08/export/genie/Lab/Personal/ShaniBAF/MicrobiomeDataTables/FilteredAndMergedOnBD'\n",
    "nSTD=None,\n",
    "nMinSamples=None\n",
    "\n",
    "\n",
    "groupedDF=mergeOnBD(DFtoGroup,DFtoGroupName,groupFunction,filterOutlierSamples,filterSamePerson,folderToSave,nSTD=None,\n",
    "              nMinSamples=None)"
   ]
  },
  {
   "cell_type": "markdown",
   "metadata": {},
   "source": [
    "# TCR-mb interaction tests:"
   ]
  },
  {
   "cell_type": "markdown",
   "metadata": {},
   "source": [
    "## load and prepare files for analysis:"
   ]
  },
  {
   "cell_type": "markdown",
   "metadata": {},
   "source": [
    "### load and edit Mb files"
   ]
  },
  {
   "cell_type": "code",
   "execution_count": null,
   "metadata": {},
   "outputs": [],
   "source": [
    "#load BD_FD converter, to make sure we remove BD_FD columns from the MB file:\n",
    "f1='%s/Sample files/updatedBDandFDlists/final_BD_FD_converter_mergedOnYear_RCfolderAllSeqProjects_17042018' %MyPath\n",
    "BD_FD=pd.read_pickle(f1)"
   ]
  },
  {
   "cell_type": "code",
   "execution_count": null,
   "metadata": {},
   "outputs": [],
   "source": [
    "def edit_MbDF_temp(MbDF):\n",
    "    try:\n",
    "        MbDF=MbDF.set_index('BD') #### very important!!\n",
    "    except KeyError:\n",
    "        print 'couldnt reset index to BD,probably BD is already the index'\n",
    "\n",
    "    #remove unnecessary columns:\n",
    "    for column in BD_FD.columns.values:\n",
    "        if column in MbDF.columns.values:\n",
    "            print 'dropping %s column' %column\n",
    "            MbDF=MbDF.drop(column,axis=1)\n",
    "            \n",
    "    return MbDF"
   ]
  },
  {
   "cell_type": "code",
   "execution_count": null,
   "metadata": {},
   "outputs": [],
   "source": [
    "# load non-filtered file and edit:\n",
    "f1='%s/MicrobiomeDataTables/FilteredAndMergedOnBD/MPA515notfiltered_meannSTDNonenMinSamplesNone_filterOutlierSampleFalse_filterSamePersonFalse' %MyPath\n",
    "Mb_PNP515_notFiltered=pd.read_pickle(f1)\n",
    "\n",
    "Mb_PNP515_notFiltered=edit_MbDF_temp(Mb_PNP515_notFiltered)"
   ]
  },
  {
   "cell_type": "code",
   "execution_count": null,
   "metadata": {},
   "outputs": [],
   "source": [
    "# load filtered file and edit:\n",
    "f1='%s/MicrobiomeDataTables/FilteredAndMergedOnBD/MPA515swabsMin9k_meannSTDNonenMinSamplesNone_filterOutlierSampleFalse_filterSamePersonFalse' %MyPath\n",
    "Mb_PNP515_swabsMin9k=pd.read_pickle(f1)\n",
    "\n",
    "Mb_PNP515_swabsMin9k=edit_MbDF_temp(Mb_PNP515_swabsMin9k)"
   ]
  },
  {
   "cell_type": "markdown",
   "metadata": {},
   "source": [
    "### load and edit TCR file:"
   ]
  },
  {
   "cell_type": "code",
   "execution_count": null,
   "metadata": {},
   "outputs": [],
   "source": [
    "#load PNP515, \n",
    "file1 = '%s/TCR_real_data/sharingAnalysis/sharingMatrix_PNP515_minNshared50_RA' %MyPath\n",
    "sharingMatrix_PNP515_minNshared50_RA = pd.read_pickle(file1)\n",
    "sharingMatrix_PNP515_minNshared50_RA.head()"
   ]
  },
  {
   "cell_type": "markdown",
   "metadata": {},
   "source": [
    "## run RA correlation test:"
   ]
  },
  {
   "cell_type": "markdown",
   "metadata": {},
   "source": [
    "### run trial:"
   ]
  },
  {
   "cell_type": "code",
   "execution_count": null,
   "metadata": {},
   "outputs": [],
   "source": [
    "datasetFolder='%s/TCR_real_data' %MyPath\n",
    "\n",
    "\n",
    "MbDF_RA=Mb_PNP515_swabsMin9k\n",
    "MbDFName='MbPNP515swabsMin9k'\n",
    "TCRdf_RA=sharingMatrix_PNP515_minNshared50_RA\n",
    "TCRdfName='sharingMatrixPNP515minNshared50'\n",
    "NsharedSamplesForSpecies=None\n",
    "NsharedSamplesForSeqs=None\n",
    "topNspecies=10\n",
    "topNseqs=10\n",
    "outlierSTD=3\n",
    "completePearson=True\n",
    "pearsonForHeatMap=False\n",
    "\n",
    "\n",
    "\n",
    "\n",
    "\n",
    "PearsonResults_full=find_associations_TCR_RA_MBspecies_RA(MbDF_RA, MbDFName,TCRdf_RA, TCRdfName, datasetFolder,NsharedSamplesForSpecies,NsharedSamplesForSeqs,\n",
    "                                          topNspecies, topNseqs,outlierSTD,completePearson,pearsonForHeatMap)"
   ]
  },
  {
   "cell_type": "markdown",
   "metadata": {},
   "source": [
    "### run for top 250 seqs and species:"
   ]
  },
  {
   "cell_type": "code",
   "execution_count": null,
   "metadata": {},
   "outputs": [],
   "source": [
    "datasetFolder='%s/TCR_real_data' %MyPath\n",
    "\n",
    "\n",
    "MbDF_RA=Mb_PNP515_swabsMin9k\n",
    "MbDFName='MbPNP515swabsMin9k'\n",
    "TCRdf_RA=sharingMatrix_PNP515_minNshared50_RA\n",
    "TCRdfName='sharingMatrixPNP515minNshared50'\n",
    "NsharedSamplesForSpecies=None\n",
    "NsharedSamplesForSeqs=None\n",
    "topNspecies=250\n",
    "topNseqs=250\n",
    "outlierSTD=3\n",
    "completePearson=True\n",
    "pearsonForHeatMap=False\n",
    "\n",
    "\n",
    "\n",
    "\n",
    "\n",
    "PearsonResults_full=find_associations_TCR_RA_MBspecies_RA(MbDF_RA, MbDFName,TCRdf_RA, TCRdfName, datasetFolder,NsharedSamplesForSpecies,NsharedSamplesForSeqs,\n",
    "                                          topNspecies, topNseqs,outlierSTD,completePearson,pearsonForHeatMap)"
   ]
  },
  {
   "cell_type": "code",
   "execution_count": null,
   "metadata": {},
   "outputs": [],
   "source": [
    "datasetFolder='%s/TCR_real_data' %MyPath\n",
    "\n",
    "\n",
    "MbDF_RA=Mb_PNP515_swabsMin9k\n",
    "MbDFName='MbPNP515swabsMin9k'\n",
    "TCRdf_RA=sharingMatrix_PNP515_minNshared50_RA\n",
    "TCRdfName='sharingMatrixPNP515minNshared50'\n",
    "NsharedSamplesForSpecies=None\n",
    "NsharedSamplesForSeqs=None\n",
    "topNspecies=400\n",
    "topNseqs=250\n",
    "outlierSTD=3\n",
    "completePearson=True\n",
    "pearsonForHeatMap=False\n",
    "\n",
    "\n",
    "\n",
    "\n",
    "\n",
    "PearsonResults_full=find_associations_TCR_RA_MBspecies_RA(MbDF_RA, MbDFName,TCRdf_RA, TCRdfName, datasetFolder,NsharedSamplesForSpecies,NsharedSamplesForSeqs,\n",
    "                                          topNspecies, topNseqs,outlierSTD,completePearson,pearsonForHeatMap)"
   ]
  },
  {
   "cell_type": "markdown",
   "metadata": {},
   "source": [
    "## run binary fisher test:"
   ]
  },
  {
   "cell_type": "markdown",
   "metadata": {},
   "source": [
    "### run trial:"
   ]
  },
  {
   "cell_type": "code",
   "execution_count": null,
   "metadata": {},
   "outputs": [],
   "source": [
    "datasetFolder='%s/TCR_real_data' %MyPath\n",
    "\n",
    "MbDF_RA=Mb_PNP515_swabsMin9k\n",
    "MbDFName='MbPNP515swabsMin9k'\n",
    "TCRdf_RA=sharingMatrix_PNP515_minNshared50_RA\n",
    "TCRdfName='sharingMatrixPNP515minNshared50'\n",
    "NsharedSamplesForSpecies=None\n",
    "NsharedSamplesForSeqs=None\n",
    "topNspecies=50\n",
    "topNseqs=50\n",
    "\n",
    "\n",
    "\n",
    "find_associations_binaryTCR_binaryMBspecies(MbDF_RA, MbDFName,TCRdf_RA, TCRdfName, datasetFolder,NsharedSamplesForSpecies,NsharedSamplesForSeqs,\n",
    "                                          topNspecies, topNseqs)"
   ]
  },
  {
   "cell_type": "markdown",
   "metadata": {},
   "source": [
    "### runfor top 250 seq and species"
   ]
  },
  {
   "cell_type": "code",
   "execution_count": null,
   "metadata": {},
   "outputs": [],
   "source": [
    "datasetFolder='%s/TCR_real_data' %MyPath\n",
    "\n",
    "MbDF_RA=Mb_PNP515_swabsMin9k\n",
    "MbDFName='MbPNP515swabsMin9k'\n",
    "TCRdf_RA=sharingMatrix_PNP515_minNshared50_RA\n",
    "TCRdfName='sharingMatrixPNP515minNshared50'\n",
    "NsharedSamplesForSpecies=None\n",
    "NsharedSamplesForSeqs=None\n",
    "topNspecies=250\n",
    "topNseqs=250\n",
    "\n",
    "\n",
    "\n",
    "find_associations_binaryTCR_binaryMBspecies(MbDF_RA, MbDFName,TCRdf_RA, TCRdfName, datasetFolder,NsharedSamplesForSpecies,NsharedSamplesForSeqs,\n",
    "                                          topNspecies, topNseqs)"
   ]
  },
  {
   "cell_type": "code",
   "execution_count": null,
   "metadata": {},
   "outputs": [],
   "source": []
  },
  {
   "cell_type": "markdown",
   "metadata": {},
   "source": [
    "## merge pearson and fisher results:"
   ]
  },
  {
   "cell_type": "code",
   "execution_count": null,
   "metadata": {},
   "outputs": [],
   "source": [
    "#load pearson results:\n",
    "\n",
    "datasetFolder='%s/TCR_real_data' %MyPath\n",
    "MbDFName='MbPNP515swabsMin9k'\n",
    "TCRdfName='sharingMatrixPNP515minNshared50'\n",
    "NsharedSamplesForSpecies=None\n",
    "NsharedSamplesForSeqs=None\n",
    "topNspecies=250\n",
    "topNseqs=250\n",
    "outlierSTD=3\n",
    "\n",
    "\n",
    "resultName='%s_%s_NsharedSpecies%s_Nsharedseqs%s_topSpecies%s_topSeqs%s_outlierSTD%s' \\\n",
    "%(MbDFName,TCRdfName,NsharedSamplesForSpecies,NsharedSamplesForSeqs,topNspecies,topNseqs,outlierSTD)\n",
    "\n",
    "resultFolder='%s/TCR_mb_results/PearsonResults_%s' %(datasetFolder,resultName)\n",
    "resultFile='%s/PearsonResults.xlsx' %resultFolder\n",
    "Pearson_results=pd.read_excel(resultFile)\n",
    "print len(Pearson_results)\n",
    "Pearson_results.head()"
   ]
  },
  {
   "cell_type": "code",
   "execution_count": null,
   "metadata": {},
   "outputs": [],
   "source": []
  },
  {
   "cell_type": "code",
   "execution_count": null,
   "metadata": {},
   "outputs": [],
   "source": [
    "#load Fisher results:\n",
    "\n",
    "datasetFolder='%s/TCR_real_data' %MyPath\n",
    "MbDFName='MbPNP515swabsMin9k'\n",
    "TCRdfName='sharingMatrixPNP515minNshared50'\n",
    "NsharedSamplesForSpecies=None\n",
    "NsharedSamplesForSeqs=None\n",
    "topNspecies=250\n",
    "topNseqs=250\n",
    "outlierSTD=3\n",
    "\n",
    "\n",
    "resultName='%s_%s_NsharedSpecies%s_Nsharedseqs%s_topSpecies%s_topSeqs%s' \\\n",
    "%(MbDFName,TCRdfName,NsharedSamplesForSpecies,NsharedSamplesForSeqs,topNspecies,topNseqs)\n",
    "\n",
    "resultFolder='%s/TCR_mb_results/FisherResults_%s' %(datasetFolder,resultName)\n",
    "resultFile='%s/FisherResults.xlsx' %resultFolder\n",
    "Fisher_results=pd.read_excel(resultFile)\n",
    "print len(Fisher_results)\n",
    "Fisher_results.head()"
   ]
  },
  {
   "cell_type": "code",
   "execution_count": null,
   "metadata": {},
   "outputs": [],
   "source": [
    "#merge:\n",
    "merged_fisher_pearson=pd.merge(Pearson_results,\n",
    "                               Fisher_results,how='inner',\n",
    "                              left_on=('species','seq'),right_on=('species','seq'))\n",
    "print len(merged_fisher_pearson)\n",
    "for column in merged_fisher_pearson:\n",
    "    newColumn=column.replace('_x','_pearson')\n",
    "    newColumn=newColumn.replace('_y','_Fisher')\n",
    "    merged_fisher_pearson=merged_fisher_pearson.rename(columns={column:newColumn})\n",
    "merged_fisher_pearson=merged_fisher_pearson.sort_values(by='p_pearson')\n",
    "merged_fisher_pearson.head()"
   ]
  },
  {
   "cell_type": "markdown",
   "metadata": {},
   "source": [
    "## add identity information to the table:"
   ]
  },
  {
   "cell_type": "code",
   "execution_count": null,
   "metadata": {},
   "outputs": [],
   "source": [
    "#load TCR identity table:\n",
    "file1= '/net/mraid08/export/genie/Lab/Personal/ShaniBAF/TCR CDR3 sequence databases/CDR3identityTable_22022018'\n",
    "CDR3identityTable=pd.read_pickle(file1)\n",
    "CDR3identityTable.head()"
   ]
  },
  {
   "cell_type": "code",
   "execution_count": null,
   "metadata": {},
   "outputs": [],
   "source": [
    "merged_fisher_pearson_withIdentity=pd.merge(merged_fisher_pearson,CDR3identityTable,how='left',\n",
    "                                           left_on='seq',right_index=True)\n",
    "print len(merged_fisher_pearson)\n",
    "print len(CDR3identityTable)\n",
    "print len(merged_fisher_pearson_withIdentity)\n",
    "merged_fisher_pearson_withIdentity.head()"
   ]
  },
  {
   "cell_type": "code",
   "execution_count": null,
   "metadata": {},
   "outputs": [],
   "source": [
    "merged_fisher_pearson_withIdentity[merged_fisher_pearson_withIdentity['Epitope species_VDJDB'].notnull()].head()"
   ]
  },
  {
   "cell_type": "code",
   "execution_count": null,
   "metadata": {},
   "outputs": [],
   "source": [
    "\n",
    "\n",
    "file1='%s/TCR_mb_results/mergedFisherPearsonWithIdentity_%s' %(datasetFolder,resultName)\n",
    "merged_fisher_pearson_withIdentity.to_pickle(file1)\n",
    "\n",
    "file2='%s/TCR_mb_results/mergedFisherPearsonWithIdentity_%s.xlsx' %(datasetFolder,resultName)\n",
    "merged_fisher_pearson_withIdentity.to_excel(file2)\n",
    "\n"
   ]
  },
  {
   "cell_type": "markdown",
   "metadata": {},
   "source": [
    "# mega function:"
   ]
  },
  {
   "cell_type": "markdown",
   "metadata": {},
   "source": [
    "the function TCR_Mb_interactions_for_dataset was copied to TCR_microbiome_interactions_functions.py"
   ]
  },
  {
   "cell_type": "markdown",
   "metadata": {},
   "source": [
    "### run for PNP515"
   ]
  },
  {
   "cell_type": "code",
   "execution_count": null,
   "metadata": {},
   "outputs": [],
   "source": [
    "#load PNP515 sample list:\n",
    "with open('/net/mraid08/export/genie/Lab/Personal/ShaniBAF/Sample files/BD lists/PNP515','rb') as fp:\n",
    "    PNP515=pickle.load(fp)\n",
    "print len(PNP515)\n",
    "print PNP515[:5]\n",
    "\n",
    "\n",
    "datasetFolder='%s/TCR_real_data' %MyPath\n",
    "datasetName='PNP515'\n",
    "\n",
    "gen_mb=False\n",
    "mbLevel='s'\n",
    "mbDataFolder='AllSeqProjects'\n",
    "SampleList=PNP515\n",
    "SampleListName='PNP515'\n",
    "filterGenotek=True\n",
    "filterMinimalReads=9000000\n",
    "\n",
    "# (NsharedSamplesForSpecies,NsharedSamplesForSeqs,topNspecies,topNseqs):\n",
    "thresholdList=[(None,None,250,250)]\n",
    "outlierSTD=3\n",
    "completePearson=True\n",
    "pearsonForHeatMap=False\n",
    "corrTest='pearson'\n",
    "\n",
    "merged_fisher_pearson_withIdentity=TCR_Mb_interactions_for_dataset(datasetFolder,datasetName,gen_mb,mbLevel,mbDataFolder,SampleList,\n",
    "                                    SampleListName, filterGenotek,filterMinimalReads,\n",
    "                                    thresholdList,outlierSTD,corrTest,completePearson,\n",
    "                                    pearsonForHeatMap)\n",
    "\n",
    "\n"
   ]
  },
  {
   "cell_type": "code",
   "execution_count": null,
   "metadata": {},
   "outputs": [],
   "source": []
  },
  {
   "cell_type": "markdown",
   "metadata": {},
   "source": [
    "##### run for PNP515_ss15000_rep2 ***with spearman correlation test***"
   ]
  },
  {
   "cell_type": "code",
   "execution_count": null,
   "metadata": {},
   "outputs": [],
   "source": [
    "#load PNP515 sample list:\n",
    "with open('/net/mraid08/export/genie/Lab/Personal/ShaniBAF/Sample files/BD lists/PNP515','rb') as fp:\n",
    "    PNP515=pickle.load(fp)\n",
    "print len(PNP515)\n",
    "print PNP515[:5]\n",
    "\n",
    "\n",
    "datasetFolder='%s/TCR_real_data/SubSampled15000data_rep2' %MyPath\n",
    "datasetName='PNP515_ss15000_rep2'\n",
    "\n",
    "gen_mb=False\n",
    "mbLevel='s'\n",
    "mbDataFolder='AllSeqProjects'\n",
    "SampleList=PNP515\n",
    "SampleListName='PNP515'\n",
    "filterGenotek=True\n",
    "filterMinimalReads=9000000\n",
    "\n",
    "# (NsharedSamplesForSpecies,NsharedSamplesForSeqs,topNspecies,topNseqs):\n",
    "thresholdList=[(None,None,250,250)]\n",
    "outlierSTD=3\n",
    "completePearson=True\n",
    "pearsonForHeatMap=False\n",
    "corrTest='spearman'\n",
    "\n",
    "merged_fisher_pearson_withIdentity=TCR_Mb_interactions_for_dataset(datasetFolder,datasetName,gen_mb,mbLevel,mbDataFolder,SampleList,\n",
    "                                    SampleListName, filterGenotek,filterMinimalReads,\n",
    "                                    thresholdList,outlierSTD,corrTest,completePearson,\n",
    "                                    pearsonForHeatMap)\n"
   ]
  },
  {
   "cell_type": "markdown",
   "metadata": {},
   "source": [
    "### run for PNP515_ss18000_rep2 ***with pearson correlation test***"
   ]
  },
  {
   "cell_type": "code",
   "execution_count": null,
   "metadata": {},
   "outputs": [],
   "source": [
    "#load PNP515 sample list:\n",
    "with open('/net/mraid08/export/genie/Lab/Personal/ShaniBAF/Sample files/BD lists/PNP515','rb') as fp:\n",
    "    PNP515=pickle.load(fp)\n",
    "print len(PNP515)\n",
    "print PNP515[:5]\n",
    "\n",
    "\n",
    "datasetFolder='%s/TCR_real_data/SubSampled18000data_rep2' %MyPath\n",
    "datasetName='PNP515_ss18000_rep2'\n",
    "\n",
    "gen_mb=False\n",
    "mbLevel='s'\n",
    "mbDataFolder='AllSeqProjects'\n",
    "SampleList=PNP515\n",
    "SampleListName='PNP515'\n",
    "filterGenotek=True\n",
    "filterMinimalReads=9000000\n",
    "\n",
    "# (NsharedSamplesForSpecies,NsharedSamplesForSeqs,topNspecies,topNseqs):\n",
    "thresholdList=[(None,None,50,50)]\n",
    "outlierSTD=3\n",
    "completePearson=True\n",
    "pearsonForHeatMap=False\n",
    "corrTest='pearson'\n",
    "\n",
    "merged_fisher_pearson_withIdentity=TCR_Mb_interactions_for_dataset(datasetFolder,datasetName,gen_mb,mbLevel,mbDataFolder,SampleList,\n",
    "                                    SampleListName, filterGenotek,filterMinimalReads,\n",
    "                                    thresholdList,outlierSTD,corrTest,completePearson,\n",
    "                                    pearsonForHeatMap)\n"
   ]
  },
  {
   "cell_type": "code",
   "execution_count": null,
   "metadata": {},
   "outputs": [],
   "source": []
  },
  {
   "cell_type": "markdown",
   "metadata": {},
   "source": [
    "# develop permutation corr analysis"
   ]
  },
  {
   "cell_type": "code",
   "execution_count": null,
   "metadata": {},
   "outputs": [],
   "source": [
    "#load mb file:\n",
    "print 'loading most updated Mb file...'\n",
    "f1 = '%s/MicrobiomeDataTables/FilteredAndMergedOnBD/MPA_s_AllSeqProjects_SampleListPNP515_filterGenotekTrue_filterMinimalRead9000000_meannSTDNonenMinSamplesNone_filterOutlierSampleFalse_filterSamePersonFalse' % MyPath\n",
    "groupedFilteredMB = pd.read_pickle(f1)\n",
    "filterGenotek = True\n",
    "filterMinimalReads = 9000000"
   ]
  },
  {
   "cell_type": "code",
   "execution_count": null,
   "metadata": {},
   "outputs": [],
   "source": [
    "# (2) prepare MB and TCR files for analysis:\n",
    "print 'preparing mb and TCR files for analysis:...'\n",
    "\n",
    "# prepare MB file:\n",
    "# load BD_FD converter, to make sure we remove BD_FD columns from the MB file:\n",
    "f1 = '%s/Sample files/updatedBDandFDlists/final_BD_FD_converter_mergedOnYear_RCfolderAllSeqProjects_17042018' % MyPath\n",
    "BD_FD = pd.read_pickle(f1)\n",
    "\n",
    "try:\n",
    "    MbDF_RA = groupedFilteredMB.set_index('BD')  #### very important!!\n",
    "except KeyError:\n",
    "    print 'couldnt reset index to BD,probably BD is already the index'\n",
    "    MbDF_RA = groupedFilteredMB\n",
    "\n",
    "\n",
    "# remove unnecessary columns:\n",
    "for column in BD_FD.columns.values:\n",
    "    if column in MbDF_RA.columns.values:\n",
    "        print 'dropping %s column' % column\n",
    "        MbDF_RA = MbDF_RA.drop(column, axis=1)\n",
    "\n",
    "# prepare TCR file:\n",
    "minNshared = 50  # add to function variables if necessary\n",
    "file1 = '%s/sharingAnalysis/sharingMatrix_%s_minNshared%s_RA' % (datasetFolder, datasetName, minNshared)\n",
    "TCRdf_RA = pd.read_pickle(file1)"
   ]
  },
  {
   "cell_type": "code",
   "execution_count": null,
   "metadata": {},
   "outputs": [],
   "source": [
    "# (3) run tests and merge results:\n",
    "print 'running interaction tests...'\n",
    "\n",
    "MbDFName = 'Mb_Swabs%sMinReads%s' % (filterGenotek, filterMinimalReads)\n",
    "TCRdfName = 'TCRminNshared%s' % minNshared\n",
    "\n",
    "# load TCR identity table:\n",
    "file1 = '/net/mraid08/export/genie/Lab/Personal/ShaniBAF/TCR CDR3 sequence databases/CDR3identityTable_22022018'\n",
    "CDR3identityTable = pd.read_pickle(file1)\n",
    "CDR3identityTable.head()"
   ]
  },
  {
   "cell_type": "code",
   "execution_count": null,
   "metadata": {},
   "outputs": [],
   "source": [
    "NsharedSamplesForSpecies = None\n",
    "NsharedSamplesForSeqs =None\n",
    "topNspecies = 50\n",
    "topNseqs = 50\n",
    "\n"
   ]
  },
  {
   "cell_type": "code",
   "execution_count": null,
   "metadata": {},
   "outputs": [],
   "source": [
    "#get seq-species df:\n",
    "# get combined df of seqs and species according to the requested thresholds:\n",
    "print 'preparing combined seq and species file...'\n",
    "species_sequences_df, speciesList, sequenceList = prepare_MbDF_and_TCRdf_for_analysis(MbDF_RA, MbDFName, TCRdf_RA, TCRdfName, NsharedSamplesForSpecies, NsharedSamplesForSeqs,\n",
    "                                      topNspecies, topNseqs)"
   ]
  },
  {
   "cell_type": "code",
   "execution_count": null,
   "metadata": {},
   "outputs": [],
   "source": [
    "### shuffle this df, and run correlation for heatmap on each permutation:\n",
    "\n"
   ]
  },
  {
   "cell_type": "code",
   "execution_count": null,
   "metadata": {},
   "outputs": [],
   "source": []
  },
  {
   "cell_type": "code",
   "execution_count": null,
   "metadata": {},
   "outputs": [],
   "source": []
  },
  {
   "cell_type": "markdown",
   "metadata": {},
   "source": [
    "binary analysis-fisher : correct function in py file (use the new sub-function)\n",
    "merging data\n",
    "add TCR identity\n",
    "look at results\n",
    "mega function: (specific dataset, generate sharing matrix-yes/no (if not,use full dataset, min50), generate Mb table-yes/no(if not, load 's',RA,AllSeqProjects),define filtering, define thresholds for analysis)"
   ]
  },
  {
   "cell_type": "code",
   "execution_count": null,
   "metadata": {},
   "outputs": [],
   "source": []
  },
  {
   "cell_type": "code",
   "execution_count": 6,
   "metadata": {},
   "outputs": [
    {
     "data": {
      "text/html": [
       "<div>\n",
       "<style>\n",
       "    .dataframe thead tr:only-child th {\n",
       "        text-align: right;\n",
       "    }\n",
       "\n",
       "    .dataframe thead th {\n",
       "        text-align: left;\n",
       "    }\n",
       "\n",
       "    .dataframe tbody tr th {\n",
       "        vertical-align: top;\n",
       "    }\n",
       "</style>\n",
       "<table border=\"1\" class=\"dataframe\">\n",
       "  <thead>\n",
       "    <tr style=\"text-align: right;\">\n",
       "      <th></th>\n",
       "      <th>species</th>\n",
       "      <th>seq</th>\n",
       "      <th>r_real</th>\n",
       "      <th>nSamplesSeq</th>\n",
       "      <th>nSamplesSpecies</th>\n",
       "      <th>nComSeqSpecies</th>\n",
       "      <th>real_p_Corr9998Perms</th>\n",
       "      <th>Sig by bonferroni corrected pVal</th>\n",
       "      <th>sig. by FDR=0.01</th>\n",
       "      <th>sig. by FDR=0.1</th>\n",
       "      <th>Unnamed: 10</th>\n",
       "      <th>Unnamed: 11</th>\n",
       "      <th>Unnamed: 12</th>\n",
       "    </tr>\n",
       "  </thead>\n",
       "  <tbody>\n",
       "    <tr>\n",
       "      <th>12998</th>\n",
       "      <td>Prevotella_copri</td>\n",
       "      <td>CASSLSGYEQYF</td>\n",
       "      <td>-0.208157</td>\n",
       "      <td>50</td>\n",
       "      <td>220</td>\n",
       "      <td>24</td>\n",
       "      <td>0.0002</td>\n",
       "      <td>0</td>\n",
       "      <td>0</td>\n",
       "      <td>0</td>\n",
       "      <td>NaN</td>\n",
       "      <td>NaN</td>\n",
       "      <td>NaN</td>\n",
       "    </tr>\n",
       "    <tr>\n",
       "      <th>1007</th>\n",
       "      <td>Eubacterium_hallii</td>\n",
       "      <td>CASSDRDTGELFF</td>\n",
       "      <td>-0.206572</td>\n",
       "      <td>132</td>\n",
       "      <td>333</td>\n",
       "      <td>132</td>\n",
       "      <td>0.0002</td>\n",
       "      <td>0</td>\n",
       "      <td>0</td>\n",
       "      <td>0</td>\n",
       "      <td>NaN</td>\n",
       "      <td>NaN</td>\n",
       "      <td>NaN</td>\n",
       "    </tr>\n",
       "    <tr>\n",
       "      <th>11943</th>\n",
       "      <td>Akkermansia_muciniphila</td>\n",
       "      <td>CASSLGTGSYEQYF</td>\n",
       "      <td>-0.197068</td>\n",
       "      <td>57</td>\n",
       "      <td>227</td>\n",
       "      <td>28</td>\n",
       "      <td>0.0003</td>\n",
       "      <td>0</td>\n",
       "      <td>0</td>\n",
       "      <td>0</td>\n",
       "      <td>NaN</td>\n",
       "      <td>NaN</td>\n",
       "      <td>NaN</td>\n",
       "    </tr>\n",
       "    <tr>\n",
       "      <th>18505</th>\n",
       "      <td>Lachnospiraceae_bacterium_8_1_57FAA</td>\n",
       "      <td>CASSLGGNTEAFF</td>\n",
       "      <td>-0.196836</td>\n",
       "      <td>136</td>\n",
       "      <td>154</td>\n",
       "      <td>50</td>\n",
       "      <td>0.0005</td>\n",
       "      <td>0</td>\n",
       "      <td>0</td>\n",
       "      <td>0</td>\n",
       "      <td>NaN</td>\n",
       "      <td>NaN</td>\n",
       "      <td>NaN</td>\n",
       "    </tr>\n",
       "    <tr>\n",
       "      <th>16283</th>\n",
       "      <td>Escherichia_unclassified</td>\n",
       "      <td>CASSLGGTEAFF</td>\n",
       "      <td>-0.194766</td>\n",
       "      <td>91</td>\n",
       "      <td>176</td>\n",
       "      <td>33</td>\n",
       "      <td>0.0004</td>\n",
       "      <td>0</td>\n",
       "      <td>0</td>\n",
       "      <td>0</td>\n",
       "      <td>NaN</td>\n",
       "      <td>NaN</td>\n",
       "      <td>NaN</td>\n",
       "    </tr>\n",
       "  </tbody>\n",
       "</table>\n",
       "</div>"
      ],
      "text/plain": [
       "                                   species             seq    r_real  \\\n",
       "12998                     Prevotella_copri    CASSLSGYEQYF -0.208157   \n",
       "1007                    Eubacterium_hallii   CASSDRDTGELFF -0.206572   \n",
       "11943              Akkermansia_muciniphila  CASSLGTGSYEQYF -0.197068   \n",
       "18505  Lachnospiraceae_bacterium_8_1_57FAA   CASSLGGNTEAFF -0.196836   \n",
       "16283             Escherichia_unclassified    CASSLGGTEAFF -0.194766   \n",
       "\n",
       "       nSamplesSeq  nSamplesSpecies  nComSeqSpecies  real_p_Corr9998Perms  \\\n",
       "12998           50              220              24                0.0002   \n",
       "1007           132              333             132                0.0002   \n",
       "11943           57              227              28                0.0003   \n",
       "18505          136              154              50                0.0005   \n",
       "16283           91              176              33                0.0004   \n",
       "\n",
       "       Sig by bonferroni corrected pVal  sig. by FDR=0.01  sig. by FDR=0.1  \\\n",
       "12998                                 0                 0                0   \n",
       "1007                                  0                 0                0   \n",
       "11943                                 0                 0                0   \n",
       "18505                                 0                 0                0   \n",
       "16283                                 0                 0                0   \n",
       "\n",
       "       Unnamed: 10  Unnamed: 11  Unnamed: 12  \n",
       "12998          NaN          NaN          NaN  \n",
       "1007           NaN          NaN          NaN  \n",
       "11943          NaN          NaN          NaN  \n",
       "18505          NaN          NaN          NaN  \n",
       "16283          NaN          NaN          NaN  "
      ]
     },
     "execution_count": 6,
     "metadata": {},
     "output_type": "execute_result"
    }
   ],
   "source": [
    "file1='%s/TCR_real_data/SubSampled15000data_rep2/TCR_mb_results/\\\n",
    "permCorrTest_NoneNone250250_stdNone/Final_permCorrResults_9998Perms_df.xlsx' %MyPath\n",
    "df=pd.read_excel(file1)\n",
    "df.head()"
   ]
  },
  {
   "cell_type": "code",
   "execution_count": 10,
   "metadata": {},
   "outputs": [
    {
     "data": {
      "text/html": [
       "<div>\n",
       "<style>\n",
       "    .dataframe thead tr:only-child th {\n",
       "        text-align: right;\n",
       "    }\n",
       "\n",
       "    .dataframe thead th {\n",
       "        text-align: left;\n",
       "    }\n",
       "\n",
       "    .dataframe tbody tr th {\n",
       "        vertical-align: top;\n",
       "    }\n",
       "</style>\n",
       "<table border=\"1\" class=\"dataframe\">\n",
       "  <thead>\n",
       "    <tr style=\"text-align: right;\">\n",
       "      <th></th>\n",
       "      <th>species</th>\n",
       "      <th>seq</th>\n",
       "      <th>r_real</th>\n",
       "      <th>nSamplesSeq</th>\n",
       "      <th>nSamplesSpecies</th>\n",
       "      <th>nComSeqSpecies</th>\n",
       "      <th>real_p_Corr9998Perms</th>\n",
       "      <th>Sig by bonferroni corrected pVal</th>\n",
       "      <th>sig. by FDR=0.01</th>\n",
       "      <th>sig. by FDR=0.1</th>\n",
       "      <th>Unnamed: 10</th>\n",
       "      <th>Unnamed: 11</th>\n",
       "      <th>Unnamed: 12</th>\n",
       "      <th>sig. by FDR=0.25</th>\n",
       "    </tr>\n",
       "  </thead>\n",
       "  <tbody>\n",
       "    <tr>\n",
       "      <th>12998</th>\n",
       "      <td>Prevotella_copri</td>\n",
       "      <td>CASSLSGYEQYF</td>\n",
       "      <td>-0.208157</td>\n",
       "      <td>50</td>\n",
       "      <td>220</td>\n",
       "      <td>24</td>\n",
       "      <td>0.0002</td>\n",
       "      <td>0</td>\n",
       "      <td>0</td>\n",
       "      <td>0</td>\n",
       "      <td>NaN</td>\n",
       "      <td>NaN</td>\n",
       "      <td>NaN</td>\n",
       "      <td>0</td>\n",
       "    </tr>\n",
       "    <tr>\n",
       "      <th>1007</th>\n",
       "      <td>Eubacterium_hallii</td>\n",
       "      <td>CASSDRDTGELFF</td>\n",
       "      <td>-0.206572</td>\n",
       "      <td>132</td>\n",
       "      <td>333</td>\n",
       "      <td>132</td>\n",
       "      <td>0.0002</td>\n",
       "      <td>0</td>\n",
       "      <td>0</td>\n",
       "      <td>0</td>\n",
       "      <td>NaN</td>\n",
       "      <td>NaN</td>\n",
       "      <td>NaN</td>\n",
       "      <td>0</td>\n",
       "    </tr>\n",
       "    <tr>\n",
       "      <th>11943</th>\n",
       "      <td>Akkermansia_muciniphila</td>\n",
       "      <td>CASSLGTGSYEQYF</td>\n",
       "      <td>-0.197068</td>\n",
       "      <td>57</td>\n",
       "      <td>227</td>\n",
       "      <td>28</td>\n",
       "      <td>0.0003</td>\n",
       "      <td>0</td>\n",
       "      <td>0</td>\n",
       "      <td>0</td>\n",
       "      <td>NaN</td>\n",
       "      <td>NaN</td>\n",
       "      <td>NaN</td>\n",
       "      <td>0</td>\n",
       "    </tr>\n",
       "    <tr>\n",
       "      <th>18505</th>\n",
       "      <td>Lachnospiraceae_bacterium_8_1_57FAA</td>\n",
       "      <td>CASSLGGNTEAFF</td>\n",
       "      <td>-0.196836</td>\n",
       "      <td>136</td>\n",
       "      <td>154</td>\n",
       "      <td>50</td>\n",
       "      <td>0.0005</td>\n",
       "      <td>0</td>\n",
       "      <td>0</td>\n",
       "      <td>0</td>\n",
       "      <td>NaN</td>\n",
       "      <td>NaN</td>\n",
       "      <td>NaN</td>\n",
       "      <td>0</td>\n",
       "    </tr>\n",
       "    <tr>\n",
       "      <th>16283</th>\n",
       "      <td>Escherichia_unclassified</td>\n",
       "      <td>CASSLGGTEAFF</td>\n",
       "      <td>-0.194766</td>\n",
       "      <td>91</td>\n",
       "      <td>176</td>\n",
       "      <td>33</td>\n",
       "      <td>0.0004</td>\n",
       "      <td>0</td>\n",
       "      <td>0</td>\n",
       "      <td>0</td>\n",
       "      <td>NaN</td>\n",
       "      <td>NaN</td>\n",
       "      <td>NaN</td>\n",
       "      <td>0</td>\n",
       "    </tr>\n",
       "  </tbody>\n",
       "</table>\n",
       "</div>"
      ],
      "text/plain": [
       "                                   species             seq    r_real  \\\n",
       "12998                     Prevotella_copri    CASSLSGYEQYF -0.208157   \n",
       "1007                    Eubacterium_hallii   CASSDRDTGELFF -0.206572   \n",
       "11943              Akkermansia_muciniphila  CASSLGTGSYEQYF -0.197068   \n",
       "18505  Lachnospiraceae_bacterium_8_1_57FAA   CASSLGGNTEAFF -0.196836   \n",
       "16283             Escherichia_unclassified    CASSLGGTEAFF -0.194766   \n",
       "\n",
       "       nSamplesSeq  nSamplesSpecies  nComSeqSpecies  real_p_Corr9998Perms  \\\n",
       "12998           50              220              24                0.0002   \n",
       "1007           132              333             132                0.0002   \n",
       "11943           57              227              28                0.0003   \n",
       "18505          136              154              50                0.0005   \n",
       "16283           91              176              33                0.0004   \n",
       "\n",
       "       Sig by bonferroni corrected pVal  sig. by FDR=0.01  sig. by FDR=0.1  \\\n",
       "12998                                 0                 0                0   \n",
       "1007                                  0                 0                0   \n",
       "11943                                 0                 0                0   \n",
       "18505                                 0                 0                0   \n",
       "16283                                 0                 0                0   \n",
       "\n",
       "       Unnamed: 10  Unnamed: 11  Unnamed: 12  sig. by FDR=0.25  \n",
       "12998          NaN          NaN          NaN                 0  \n",
       "1007           NaN          NaN          NaN                 0  \n",
       "11943          NaN          NaN          NaN                 0  \n",
       "18505          NaN          NaN          NaN                 0  \n",
       "16283          NaN          NaN          NaN                 0  "
      ]
     },
     "execution_count": 10,
     "metadata": {},
     "output_type": "execute_result"
    }
   ],
   "source": [
    "df=add_corrected_pValues(df,\n",
    "        pValueColumn='real_p_Corr9998Perms',nTests=62500,FDR=0.25)\n",
    "df.head()"
   ]
  },
  {
   "cell_type": "code",
   "execution_count": 13,
   "metadata": {},
   "outputs": [
    {
     "data": {
      "text/html": [
       "<div>\n",
       "<style>\n",
       "    .dataframe thead tr:only-child th {\n",
       "        text-align: right;\n",
       "    }\n",
       "\n",
       "    .dataframe thead th {\n",
       "        text-align: left;\n",
       "    }\n",
       "\n",
       "    .dataframe tbody tr th {\n",
       "        vertical-align: top;\n",
       "    }\n",
       "</style>\n",
       "<table border=\"1\" class=\"dataframe\">\n",
       "  <thead>\n",
       "    <tr style=\"text-align: right;\">\n",
       "      <th></th>\n",
       "      <th>species</th>\n",
       "      <th>seq</th>\n",
       "      <th>r_real</th>\n",
       "      <th>nSamplesSeq</th>\n",
       "      <th>nSamplesSpecies</th>\n",
       "      <th>nComSeqSpecies</th>\n",
       "      <th>real_p_Corr9998Perms</th>\n",
       "      <th>Sig by bonferroni corrected pVal</th>\n",
       "      <th>sig. by FDR=0.01</th>\n",
       "      <th>sig. by FDR=0.1</th>\n",
       "      <th>Unnamed: 10</th>\n",
       "      <th>Unnamed: 11</th>\n",
       "      <th>Unnamed: 12</th>\n",
       "      <th>sig. by FDR=0.25</th>\n",
       "    </tr>\n",
       "  </thead>\n",
       "  <tbody>\n",
       "    <tr>\n",
       "      <th>7084</th>\n",
       "      <td>Alistipes_putredinis</td>\n",
       "      <td>CASSLKETQYF</td>\n",
       "      <td>0.200318</td>\n",
       "      <td>80</td>\n",
       "      <td>291</td>\n",
       "      <td>75</td>\n",
       "      <td>0.0001</td>\n",
       "      <td>0</td>\n",
       "      <td>0</td>\n",
       "      <td>0</td>\n",
       "      <td>NaN</td>\n",
       "      <td>NaN</td>\n",
       "      <td>0.0001</td>\n",
       "      <td>0</td>\n",
       "    </tr>\n",
       "    <tr>\n",
       "      <th>12998</th>\n",
       "      <td>Prevotella_copri</td>\n",
       "      <td>CASSLSGYEQYF</td>\n",
       "      <td>-0.208157</td>\n",
       "      <td>50</td>\n",
       "      <td>220</td>\n",
       "      <td>24</td>\n",
       "      <td>0.0002</td>\n",
       "      <td>0</td>\n",
       "      <td>0</td>\n",
       "      <td>0</td>\n",
       "      <td>NaN</td>\n",
       "      <td>NaN</td>\n",
       "      <td>NaN</td>\n",
       "      <td>0</td>\n",
       "    </tr>\n",
       "    <tr>\n",
       "      <th>58108</th>\n",
       "      <td>Peptostreptococcus_anaerobius</td>\n",
       "      <td>CASSPGQGYGYTF</td>\n",
       "      <td>0.232935</td>\n",
       "      <td>67</td>\n",
       "      <td>8</td>\n",
       "      <td>6</td>\n",
       "      <td>0.0002</td>\n",
       "      <td>0</td>\n",
       "      <td>0</td>\n",
       "      <td>0</td>\n",
       "      <td>NaN</td>\n",
       "      <td>NaN</td>\n",
       "      <td>NaN</td>\n",
       "      <td>0</td>\n",
       "    </tr>\n",
       "    <tr>\n",
       "      <th>61559</th>\n",
       "      <td>Eubacterium_sp_3_1_31</td>\n",
       "      <td>CASSFGETQYF</td>\n",
       "      <td>0.229159</td>\n",
       "      <td>82</td>\n",
       "      <td>7</td>\n",
       "      <td>6</td>\n",
       "      <td>0.0002</td>\n",
       "      <td>0</td>\n",
       "      <td>0</td>\n",
       "      <td>0</td>\n",
       "      <td>NaN</td>\n",
       "      <td>NaN</td>\n",
       "      <td>NaN</td>\n",
       "      <td>0</td>\n",
       "    </tr>\n",
       "    <tr>\n",
       "      <th>49616</th>\n",
       "      <td>Eubacterium_cylindroides</td>\n",
       "      <td>CASSLDRNYGYTF</td>\n",
       "      <td>0.224770</td>\n",
       "      <td>69</td>\n",
       "      <td>15</td>\n",
       "      <td>9</td>\n",
       "      <td>0.0002</td>\n",
       "      <td>0</td>\n",
       "      <td>0</td>\n",
       "      <td>0</td>\n",
       "      <td>NaN</td>\n",
       "      <td>NaN</td>\n",
       "      <td>NaN</td>\n",
       "      <td>0</td>\n",
       "    </tr>\n",
       "    <tr>\n",
       "      <th>52612</th>\n",
       "      <td>Lachnospiraceae_bacterium_9_1_43BFAA</td>\n",
       "      <td>CASSLGQGTDTQYF</td>\n",
       "      <td>0.222659</td>\n",
       "      <td>70</td>\n",
       "      <td>17</td>\n",
       "      <td>10</td>\n",
       "      <td>0.0002</td>\n",
       "      <td>0</td>\n",
       "      <td>0</td>\n",
       "      <td>0</td>\n",
       "      <td>NaN</td>\n",
       "      <td>NaN</td>\n",
       "      <td>NaN</td>\n",
       "      <td>0</td>\n",
       "    </tr>\n",
       "    <tr>\n",
       "      <th>2624</th>\n",
       "      <td>Bacteroides_vulgatus</td>\n",
       "      <td>CASSEASGGADTQYF</td>\n",
       "      <td>0.201354</td>\n",
       "      <td>70</td>\n",
       "      <td>324</td>\n",
       "      <td>70</td>\n",
       "      <td>0.0002</td>\n",
       "      <td>0</td>\n",
       "      <td>0</td>\n",
       "      <td>0</td>\n",
       "      <td>NaN</td>\n",
       "      <td>NaN</td>\n",
       "      <td>NaN</td>\n",
       "      <td>0</td>\n",
       "    </tr>\n",
       "    <tr>\n",
       "      <th>25176</th>\n",
       "      <td>Bacteroides_intestinalis</td>\n",
       "      <td>CASSLGAYEQYF</td>\n",
       "      <td>0.199070</td>\n",
       "      <td>60</td>\n",
       "      <td>96</td>\n",
       "      <td>29</td>\n",
       "      <td>0.0002</td>\n",
       "      <td>0</td>\n",
       "      <td>0</td>\n",
       "      <td>0</td>\n",
       "      <td>NaN</td>\n",
       "      <td>NaN</td>\n",
       "      <td>NaN</td>\n",
       "      <td>0</td>\n",
       "    </tr>\n",
       "    <tr>\n",
       "      <th>56957</th>\n",
       "      <td>Porphyromonas_bennonis</td>\n",
       "      <td>CASSLGATNEKLFF</td>\n",
       "      <td>0.240927</td>\n",
       "      <td>57</td>\n",
       "      <td>10</td>\n",
       "      <td>7</td>\n",
       "      <td>0.0002</td>\n",
       "      <td>0</td>\n",
       "      <td>0</td>\n",
       "      <td>0</td>\n",
       "      <td>NaN</td>\n",
       "      <td>NaN</td>\n",
       "      <td>NaN</td>\n",
       "      <td>0</td>\n",
       "    </tr>\n",
       "    <tr>\n",
       "      <th>61463</th>\n",
       "      <td>Collinsella_tanakaei</td>\n",
       "      <td>CASSLGQGNEKLFF</td>\n",
       "      <td>0.257031</td>\n",
       "      <td>52</td>\n",
       "      <td>8</td>\n",
       "      <td>6</td>\n",
       "      <td>0.0002</td>\n",
       "      <td>0</td>\n",
       "      <td>0</td>\n",
       "      <td>0</td>\n",
       "      <td>NaN</td>\n",
       "      <td>NaN</td>\n",
       "      <td>NaN</td>\n",
       "      <td>0</td>\n",
       "    </tr>\n",
       "  </tbody>\n",
       "</table>\n",
       "</div>"
      ],
      "text/plain": [
       "                                    species              seq    r_real  \\\n",
       "7084                   Alistipes_putredinis      CASSLKETQYF  0.200318   \n",
       "12998                      Prevotella_copri     CASSLSGYEQYF -0.208157   \n",
       "58108         Peptostreptococcus_anaerobius    CASSPGQGYGYTF  0.232935   \n",
       "61559                 Eubacterium_sp_3_1_31      CASSFGETQYF  0.229159   \n",
       "49616              Eubacterium_cylindroides    CASSLDRNYGYTF  0.224770   \n",
       "52612  Lachnospiraceae_bacterium_9_1_43BFAA   CASSLGQGTDTQYF  0.222659   \n",
       "2624                   Bacteroides_vulgatus  CASSEASGGADTQYF  0.201354   \n",
       "25176              Bacteroides_intestinalis     CASSLGAYEQYF  0.199070   \n",
       "56957                Porphyromonas_bennonis   CASSLGATNEKLFF  0.240927   \n",
       "61463                  Collinsella_tanakaei   CASSLGQGNEKLFF  0.257031   \n",
       "\n",
       "       nSamplesSeq  nSamplesSpecies  nComSeqSpecies  real_p_Corr9998Perms  \\\n",
       "7084            80              291              75                0.0001   \n",
       "12998           50              220              24                0.0002   \n",
       "58108           67                8               6                0.0002   \n",
       "61559           82                7               6                0.0002   \n",
       "49616           69               15               9                0.0002   \n",
       "52612           70               17              10                0.0002   \n",
       "2624            70              324              70                0.0002   \n",
       "25176           60               96              29                0.0002   \n",
       "56957           57               10               7                0.0002   \n",
       "61463           52                8               6                0.0002   \n",
       "\n",
       "       Sig by bonferroni corrected pVal  sig. by FDR=0.01  sig. by FDR=0.1  \\\n",
       "7084                                  0                 0                0   \n",
       "12998                                 0                 0                0   \n",
       "58108                                 0                 0                0   \n",
       "61559                                 0                 0                0   \n",
       "49616                                 0                 0                0   \n",
       "52612                                 0                 0                0   \n",
       "2624                                  0                 0                0   \n",
       "25176                                 0                 0                0   \n",
       "56957                                 0                 0                0   \n",
       "61463                                 0                 0                0   \n",
       "\n",
       "       Unnamed: 10  Unnamed: 11  Unnamed: 12  sig. by FDR=0.25  \n",
       "7084           NaN          NaN       0.0001                 0  \n",
       "12998          NaN          NaN          NaN                 0  \n",
       "58108          NaN          NaN          NaN                 0  \n",
       "61559          NaN          NaN          NaN                 0  \n",
       "49616          NaN          NaN          NaN                 0  \n",
       "52612          NaN          NaN          NaN                 0  \n",
       "2624           NaN          NaN          NaN                 0  \n",
       "25176          NaN          NaN          NaN                 0  \n",
       "56957          NaN          NaN          NaN                 0  \n",
       "61463          NaN          NaN          NaN                 0  "
      ]
     },
     "execution_count": 13,
     "metadata": {},
     "output_type": "execute_result"
    }
   ],
   "source": [
    "df.sort_values(by='real_p_Corr9998Perms').head(10)"
   ]
  },
  {
   "cell_type": "code",
   "execution_count": 14,
   "metadata": {},
   "outputs": [],
   "source": [
    "df=df.drop(['Unnamed: 10','Unnamed: 11','Unnamed: 12'],axis=1)"
   ]
  },
  {
   "cell_type": "code",
   "execution_count": 15,
   "metadata": {},
   "outputs": [],
   "source": [
    "df.to_excel(file1)"
   ]
  },
  {
   "cell_type": "code",
   "execution_count": 16,
   "metadata": {},
   "outputs": [
    {
     "data": {
      "text/html": [
       "<div>\n",
       "<style>\n",
       "    .dataframe thead tr:only-child th {\n",
       "        text-align: right;\n",
       "    }\n",
       "\n",
       "    .dataframe thead th {\n",
       "        text-align: left;\n",
       "    }\n",
       "\n",
       "    .dataframe tbody tr th {\n",
       "        vertical-align: top;\n",
       "    }\n",
       "</style>\n",
       "<table border=\"1\" class=\"dataframe\">\n",
       "  <thead>\n",
       "    <tr style=\"text-align: right;\">\n",
       "      <th></th>\n",
       "      <th>species</th>\n",
       "      <th>seq</th>\n",
       "      <th>r_real</th>\n",
       "      <th>nSamplesSeq</th>\n",
       "      <th>nSamplesSpecies</th>\n",
       "      <th>nComSeqSpecies</th>\n",
       "      <th>real_p_Corr9998Perms</th>\n",
       "      <th>Sig by bonferroni corrected pVal</th>\n",
       "      <th>sig. by FDR=0.01</th>\n",
       "      <th>sig. by FDR=0.1</th>\n",
       "      <th>sig. by FDR=0.25</th>\n",
       "    </tr>\n",
       "  </thead>\n",
       "  <tbody>\n",
       "    <tr>\n",
       "      <th>12998</th>\n",
       "      <td>Prevotella_copri</td>\n",
       "      <td>CASSLSGYEQYF</td>\n",
       "      <td>-0.208157</td>\n",
       "      <td>50</td>\n",
       "      <td>220</td>\n",
       "      <td>24</td>\n",
       "      <td>0.0002</td>\n",
       "      <td>0</td>\n",
       "      <td>0</td>\n",
       "      <td>0</td>\n",
       "      <td>0</td>\n",
       "    </tr>\n",
       "    <tr>\n",
       "      <th>1007</th>\n",
       "      <td>Eubacterium_hallii</td>\n",
       "      <td>CASSDRDTGELFF</td>\n",
       "      <td>-0.206572</td>\n",
       "      <td>132</td>\n",
       "      <td>333</td>\n",
       "      <td>132</td>\n",
       "      <td>0.0002</td>\n",
       "      <td>0</td>\n",
       "      <td>0</td>\n",
       "      <td>0</td>\n",
       "      <td>0</td>\n",
       "    </tr>\n",
       "    <tr>\n",
       "      <th>11943</th>\n",
       "      <td>Akkermansia_muciniphila</td>\n",
       "      <td>CASSLGTGSYEQYF</td>\n",
       "      <td>-0.197068</td>\n",
       "      <td>57</td>\n",
       "      <td>227</td>\n",
       "      <td>28</td>\n",
       "      <td>0.0003</td>\n",
       "      <td>0</td>\n",
       "      <td>0</td>\n",
       "      <td>0</td>\n",
       "      <td>0</td>\n",
       "    </tr>\n",
       "    <tr>\n",
       "      <th>18505</th>\n",
       "      <td>Lachnospiraceae_bacterium_8_1_57FAA</td>\n",
       "      <td>CASSLGGNTEAFF</td>\n",
       "      <td>-0.196836</td>\n",
       "      <td>136</td>\n",
       "      <td>154</td>\n",
       "      <td>50</td>\n",
       "      <td>0.0005</td>\n",
       "      <td>0</td>\n",
       "      <td>0</td>\n",
       "      <td>0</td>\n",
       "      <td>0</td>\n",
       "    </tr>\n",
       "    <tr>\n",
       "      <th>16283</th>\n",
       "      <td>Escherichia_unclassified</td>\n",
       "      <td>CASSLGGTEAFF</td>\n",
       "      <td>-0.194766</td>\n",
       "      <td>91</td>\n",
       "      <td>176</td>\n",
       "      <td>33</td>\n",
       "      <td>0.0004</td>\n",
       "      <td>0</td>\n",
       "      <td>0</td>\n",
       "      <td>0</td>\n",
       "      <td>0</td>\n",
       "    </tr>\n",
       "  </tbody>\n",
       "</table>\n",
       "</div>"
      ],
      "text/plain": [
       "                                   species             seq    r_real  \\\n",
       "12998                     Prevotella_copri    CASSLSGYEQYF -0.208157   \n",
       "1007                    Eubacterium_hallii   CASSDRDTGELFF -0.206572   \n",
       "11943              Akkermansia_muciniphila  CASSLGTGSYEQYF -0.197068   \n",
       "18505  Lachnospiraceae_bacterium_8_1_57FAA   CASSLGGNTEAFF -0.196836   \n",
       "16283             Escherichia_unclassified    CASSLGGTEAFF -0.194766   \n",
       "\n",
       "       nSamplesSeq  nSamplesSpecies  nComSeqSpecies  real_p_Corr9998Perms  \\\n",
       "12998           50              220              24                0.0002   \n",
       "1007           132              333             132                0.0002   \n",
       "11943           57              227              28                0.0003   \n",
       "18505          136              154              50                0.0005   \n",
       "16283           91              176              33                0.0004   \n",
       "\n",
       "       Sig by bonferroni corrected pVal  sig. by FDR=0.01  sig. by FDR=0.1  \\\n",
       "12998                                 0                 0                0   \n",
       "1007                                  0                 0                0   \n",
       "11943                                 0                 0                0   \n",
       "18505                                 0                 0                0   \n",
       "16283                                 0                 0                0   \n",
       "\n",
       "       sig. by FDR=0.25  \n",
       "12998                 0  \n",
       "1007                  0  \n",
       "11943                 0  \n",
       "18505                 0  \n",
       "16283                 0  "
      ]
     },
     "execution_count": 16,
     "metadata": {},
     "output_type": "execute_result"
    }
   ],
   "source": [
    "df.head()"
   ]
  },
  {
   "cell_type": "code",
   "execution_count": null,
   "metadata": {},
   "outputs": [],
   "source": []
  }
 ],
 "metadata": {
  "kernelspec": {
   "display_name": "Python 2",
   "language": "python",
   "name": "python2"
  },
  "language_info": {
   "codemirror_mode": {
    "name": "ipython",
    "version": 2
   },
   "file_extension": ".py",
   "mimetype": "text/x-python",
   "name": "python",
   "nbconvert_exporter": "python",
   "pygments_lexer": "ipython2",
   "version": "2.7.8"
  },
  "toc": {
   "nav_menu": {},
   "number_sections": true,
   "sideBar": false,
   "skip_h1_title": false,
   "toc_cell": false,
   "toc_position": {
    "height": "475px",
    "left": "1.98864px",
    "right": "20px",
    "top": "109.943px",
    "width": "105px"
   },
   "toc_section_display": "block",
   "toc_window_display": true
  }
 },
 "nbformat": 4,
 "nbformat_minor": 2
}
