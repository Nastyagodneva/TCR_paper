{
 "cells": [
  {
   "cell_type": "code",
   "execution_count": null,
   "metadata": {
    "scrolled": true
   },
   "outputs": [],
   "source": [
    "from os import listdir,mkdir\n",
    "from os.path import isfile, join, isdir,exists\n",
    "import pandas as pd\n",
    "import numpy as np\n",
    "from scipy import stats\n",
    "import re\n",
    "import matplotlib.pyplot as plt\n",
    "from matplotlib.backends.backend_pdf import PdfPages\n",
    "from myplots import roundup, rounddown, find_decimal_fold, percentile_cut_off, rarefaction_calc, rarefaction_plot,draw_correlation_scatter\n",
    "from matplotlib.ticker import FormatStrFormatter\n",
    "import cPickle as pickle\n",
    "from Bio.SeqUtils import GC\n",
    "import seaborn as sns\n",
    "import random\n",
    "from scipy.stats import pearsonr\n",
    "from skbio.diversity.alpha import shannon, simpson, berger_parker_d\n",
    "\n",
    "from pop_organize import get_sample_data, get_sample_with_dfs\n",
    "from SufficientStatistics import *\n",
    "from MyFunctionsShani import *\n"
   ]
  },
  {
   "cell_type": "code",
   "execution_count": null,
   "metadata": {
    "scrolled": true
   },
   "outputs": [],
   "source": [
    "import time\n",
    "cdate=str(time.strftime(\"%d%m%Y\"))\n",
    "cdate"
   ]
  },
  {
   "cell_type": "code",
   "execution_count": null,
   "metadata": {
    "scrolled": true
   },
   "outputs": [],
   "source": []
  },
  {
   "cell_type": "markdown",
   "metadata": {},
   "source": [
    "# Find public sequences in the PNP cohort"
   ]
  },
  {
   "cell_type": "markdown",
   "metadata": {},
   "source": [
    "## all public sequences in the cohort:"
   ]
  },
  {
   "cell_type": "markdown",
   "metadata": {},
   "source": [
    "### generate unique aa lists for each sample in the cohort:"
   ]
  },
  {
   "cell_type": "code",
   "execution_count": null,
   "metadata": {
    "scrolled": true
   },
   "outputs": [],
   "source": [
    "def gen_uniqueAAdf(sample_name,data_folder):\n",
    "    file1='/net/mraid08/export/genie/Lab/Personal/ShaniBAF/%s/uniqueAAdfs/%s' %(data_folder,sample_name) \n",
    "    files=[f for f in listdir(uniqueAAdfs_folder) if isfile(join(uniqueAAdfs_folder, f))]\n",
    "\n",
    "\n",
    "    if sample_name not in files:\n",
    "        data_folder='TCR_real_data'\n",
    "        sample_df=pd.read_table(\"/net/mraid08/export/genie/Lab/Personal/ShaniBAF/%s/SamplesForAnalysis/%s.tsv\" %(data_folder,sample_name))\n",
    "        sample_df=sample_df.rename(columns={'count (templates/reads)':'count (templates)','count (reads)':'count (templates)'})\n",
    "        sample_df['prod_stat']=np.where(sample_df['sequenceStatus'] == 'In',1,0)\n",
    "        f={'count (templates)':['sum','count'],'prod_stat':'mean'}\n",
    "        uniqAA=sample_df.groupby('aminoAcid').agg(f)\n",
    "        uniqAA=uniqAA.drop(('count (templates)','count'),axis=1)\n",
    "        uniqAA['Sample']=sample_name\n",
    "        uniqAA.to_pickle(file1)\n",
    "    else:\n",
    "        print('found uniqueAAdf for this sample...')\n",
    "\n"
   ]
  },
  {
   "cell_type": "code",
   "execution_count": null,
   "metadata": {
    "scrolled": true
   },
   "outputs": [],
   "source": [
    "data_folder='TCR_real_data'\n",
    "sample_dfs_folder='/net/mraid08/export/genie/Lab/Personal/ShaniBAF/%s/SamplesForAnalysis' %data_folder\n",
    "sample_filenames = [f for f in listdir(sample_dfs_folder) if isfile(join(sample_dfs_folder, f))]\n",
    "sample_filenames=[f.strip('.tsv') for f in sample_filenames]\n",
    "print len(sample_filenames)\n"
   ]
  },
  {
   "cell_type": "code",
   "execution_count": null,
   "metadata": {
    "scrolled": false
   },
   "outputs": [],
   "source": [
    "uniqueAAdfs_folder='/net/mraid08/export/genie/Lab/Personal/ShaniBAF/%s/uniqueAAdfs/' %data_folder\n",
    "if not isdir(uniqueAAdfs_folder):\n",
    "    mkdir(uniqueAAdfs_folder)\n",
    "\n",
    "for n,sample_name in enumerate(sample_filenames):    \n",
    "        print  n,sample_name\n",
    "        gen_uniqueAAdf(sample_name,data_folder)"
   ]
  },
  {
   "cell_type": "markdown",
   "metadata": {},
   "source": [
    "### count how many samples are shared by each sequence:"
   ]
  },
  {
   "cell_type": "code",
   "execution_count": null,
   "metadata": {
    "scrolled": true
   },
   "outputs": [],
   "source": [
    "#concatenate all uniqueAA lists from all samples:\n",
    "uniqueAAdfs_folder='/net/mraid08/export/genie/Lab/Personal/ShaniBAF/TCR_real_data/PublicSeqAnalysis/uniqueAAdfs/' \n",
    "All434samples_UniqueAAdfs=concat_summarizing_dfs(uniqueAAdfs_folder)"
   ]
  },
  {
   "cell_type": "code",
   "execution_count": null,
   "metadata": {
    "scrolled": true
   },
   "outputs": [],
   "source": [
    "All434samples_UniqueAAdfs.head()"
   ]
  },
  {
   "cell_type": "code",
   "execution_count": null,
   "metadata": {
    "scrolled": true
   },
   "outputs": [],
   "source": [
    "#get sub-dataframe to enable merging with counting DF:\n",
    "All434samples_UniqueAAdfs_toMerge=All434samples_UniqueAAdfs\n",
    "All434samples_UniqueAAdfs_toMerge.columns = All434samples_UniqueAAdfs_toMerge.columns.get_level_values(0)\n",
    "All434samples_UniqueAAdfs_toMerge.head()"
   ]
  },
  {
   "cell_type": "code",
   "execution_count": null,
   "metadata": {
    "scrolled": true
   },
   "outputs": [],
   "source": [
    "# count in how many samples each sequence appears?\n",
    "countSharedPNP434samples= All434samples_UniqueAAdfs.index.value_counts()"
   ]
  },
  {
   "cell_type": "code",
   "execution_count": null,
   "metadata": {
    "scrolled": true
   },
   "outputs": [],
   "source": [
    "#save counting to file:\n",
    "file2='/net/mraid08/export/genie/Lab/Personal/ShaniBAF/%s/PublicSeqAnalysis/countSharedPNP434samples' %data_folder\n",
    "countSharedPNP434samples.to_pickle(file2)"
   ]
  },
  {
   "cell_type": "code",
   "execution_count": null,
   "metadata": {
    "scrolled": true
   },
   "outputs": [],
   "source": [
    "# load counting:\n",
    "file2='/net/mraid08/export/genie/Lab/Personal/ShaniBAF/TCR_real_data/PublicSeqAnalysis/countSharedPNP434samples' \n",
    "countSharedPNP434samples=pd.read_pickle(file2)"
   ]
  },
  {
   "cell_type": "code",
   "execution_count": null,
   "metadata": {
    "scrolled": true
   },
   "outputs": [],
   "source": [
    "# the most shared sequence is shared among 278 samples:\n",
    "countSharedPNP434samples.head()"
   ]
  },
  {
   "cell_type": "code",
   "execution_count": null,
   "metadata": {
    "scrolled": true
   },
   "outputs": [],
   "source": [
    "countSharedPNP434samples=pd.DataFrame(countSharedPNP434samples)\n",
    "countSharedPNP434samples=countSharedPNP434samples.rename(columns={'aminoAcid':'n_shared_samples'})\n",
    "countSharedPNP434samples.head()"
   ]
  },
  {
   "cell_type": "markdown",
   "metadata": {},
   "source": [
    "#### calculate the percentage of public sequences in the cohort:"
   ]
  },
  {
   "cell_type": "code",
   "execution_count": null,
   "metadata": {
    "scrolled": true
   },
   "outputs": [],
   "source": [
    "public=countSharedPNP434samples[countSharedPNP434samples['n_shared_samples']>1]"
   ]
  },
  {
   "cell_type": "code",
   "execution_count": null,
   "metadata": {
    "scrolled": true
   },
   "outputs": [],
   "source": [
    "print len(public)"
   ]
  },
  {
   "cell_type": "code",
   "execution_count": null,
   "metadata": {
    "scrolled": true
   },
   "outputs": [],
   "source": [
    "private=countSharedPNP434samples[countSharedPNP434samples['n_shared_samples']==1]"
   ]
  },
  {
   "cell_type": "code",
   "execution_count": null,
   "metadata": {
    "scrolled": true
   },
   "outputs": [],
   "source": [
    "print len(private)"
   ]
  },
  {
   "cell_type": "code",
   "execution_count": null,
   "metadata": {
    "scrolled": true
   },
   "outputs": [],
   "source": [
    "# the percent of public sequences in the cohort is 10.3%:\n",
    "float(len(public)*100)/(len(private)+len(public))"
   ]
  },
  {
   "cell_type": "code",
   "execution_count": null,
   "metadata": {
    "scrolled": true
   },
   "outputs": [],
   "source": [
    "countSharedPNP434samples['n_shared_samples'].describe()"
   ]
  },
  {
   "cell_type": "markdown",
   "metadata": {},
   "source": [
    "## Find public sequences allowing 1 aa change:"
   ]
  },
  {
   "cell_type": "code",
   "execution_count": null,
   "metadata": {
    "scrolled": true
   },
   "outputs": [],
   "source": [
    "#make a list of all uniqueAA sequences in the cohort:\n",
    "uniqueAAseqList_PNP434=countSharedPNP434samples.index"
   ]
  },
  {
   "cell_type": "code",
   "execution_count": null,
   "metadata": {
    "scrolled": true
   },
   "outputs": [],
   "source": [
    "seq1=uniqueAAseqList_PNP434[0]\n",
    "others=list(uniqueAAseqList_PNP434[1:])"
   ]
  },
  {
   "cell_type": "code",
   "execution_count": null,
   "metadata": {
    "scrolled": true
   },
   "outputs": [],
   "source": [
    "from Bio import pairwise2\n",
    "\n"
   ]
  },
  {
   "cell_type": "code",
   "execution_count": null,
   "metadata": {
    "scrolled": true
   },
   "outputs": [],
   "source": [
    "%%time\n",
    "for seq2 in others:\n",
    "#     print pairwise2.align.globalxx(seq1, seq)\n",
    "    seq1len=len(seq1)\n",
    "    seq2len=len(seq2)\n",
    "    lenDiff=abs(seq1len-seq2len)\n",
    "    if lenDiff<2:\n",
    "        mm=sum(seq1!=seq2 for seq1,seq2 in zip(seq1,seq2))\n",
    "        if mm<2:\n",
    "            print seq1,seq2,mm"
   ]
  },
  {
   "cell_type": "markdown",
   "metadata": {},
   "source": [
    "the number of matched aa seqeunces allowing 1 aa replacement is very high, so I skip this strategy meanwhile"
   ]
  },
  {
   "cell_type": "code",
   "execution_count": null,
   "metadata": {
    "scrolled": true
   },
   "outputs": [],
   "source": []
  },
  {
   "cell_type": "markdown",
   "metadata": {},
   "source": [
    "## find shared sequences among lists of top 100 clonal sequences. "
   ]
  },
  {
   "cell_type": "code",
   "execution_count": null,
   "metadata": {
    "scrolled": true
   },
   "outputs": [],
   "source": [
    "def findCutoff(countValues):\n",
    "    if len(countValues)>99:\n",
    "        for n in range(99,len(countValues)):\n",
    "            if not countValues[n]==countValues[n-1]:\n",
    "                break\n",
    "        \n",
    "    else:\n",
    "        n=len(countValues)\n",
    "    return n\n",
    "    "
   ]
  },
  {
   "cell_type": "code",
   "execution_count": null,
   "metadata": {
    "scrolled": true
   },
   "outputs": [],
   "source": [
    "def gen_uniqueAAdf_top100(sample_name,data_folder):\n",
    "    file1='/net/mraid08/export/genie/Lab/Personal/ShaniBAF/%s/PublicSeqAnalysis/uniqueAAdfs/%s' %(data_folder,sample_name)\n",
    "    file2='/net/mraid08/export/genie/Lab/Personal/ShaniBAF/%s/PublicSeqAnalysis/uniqueAAdfstop100/%s' %(data_folder,sample_name)\n",
    "    uniqueAAdf_top=pd.read_pickle(file1)\n",
    "    uniqueAAdf_top=uniqueAAdf_top.sort_values(by=('count (templates)','sum'),ascending=False)\n",
    "    countValues=list(uniqueAAdf_top[('count (templates)','sum')])\n",
    "    nCut=findCutoff(countValues)\n",
    "    print (nCut,countValues[nCut])\n",
    "    uniqueAAdf_top=uniqueAAdf_top[:nCut]\n",
    "    uniqueAAdf_top.to_pickle(file2)\n",
    "    \n",
    "    return uniqueAAdf_top\n",
    "\n",
    "#     if sample_name not in files:\n",
    "#         data_folder='TCR_real_data'\n",
    "#         sample_df=pd.read_table(\"/net/mraid08/export/genie/Lab/Personal/ShaniBAF/%s/SamplesForAnalysis/%s.tsv\" %(data_folder,sample_name))\n",
    "#         sample_df=sample_df.rename(columns={'count (templates/reads)':'count (templates)','count (reads)':'count (templates)'})\n",
    "#         sample_df['prod_stat']=np.where(sample_df['sequenceStatus'] == 'In',1,0)\n",
    "#         f={'count (templates)':['sum','count'],'prod_stat':'mean'}\n",
    "#         uniqAA=sample_df.groupby('aminoAcid').agg(f)\n",
    "#         uniqAA=uniqAA.drop(('count (templates)','count'),axis=1)\n",
    "#         uniqAA['Sample']=sample_name\n",
    "#         uniqAA.to_pickle(file1)\n",
    "#     else:\n",
    "#         print('found uniqueAAdf for this sample...')\n",
    "    "
   ]
  },
  {
   "cell_type": "code",
   "execution_count": null,
   "metadata": {
    "scrolled": false
   },
   "outputs": [],
   "source": [
    "for n,sample_name in enumerate(sample_filenames):\n",
    "        print  n,sample_name\n",
    "        gen_uniqueAAdf_top100(sample_name,data_folder)"
   ]
  },
  {
   "cell_type": "code",
   "execution_count": null,
   "metadata": {
    "scrolled": true
   },
   "outputs": [],
   "source": []
  },
  {
   "cell_type": "code",
   "execution_count": null,
   "metadata": {
    "scrolled": true
   },
   "outputs": [],
   "source": [
    "#concatenate all uniqueAAdf_top100 lists from all samples:\n",
    "uniqueAAdfs_top100_folder='/net/mraid08/export/genie/Lab/Personal/ShaniBAF/TCR_real_data/PublicSeqAnalysis/uniqueAAdfstop100/'\n",
    "All434samples_UniqueAAdfs_top100=concat_summarizing_dfs(uniqueAAdfs_top100_folder)"
   ]
  },
  {
   "cell_type": "code",
   "execution_count": null,
   "metadata": {
    "scrolled": true
   },
   "outputs": [],
   "source": [
    "All434samples_UniqueAAdfs_top100.head()"
   ]
  },
  {
   "cell_type": "code",
   "execution_count": null,
   "metadata": {
    "scrolled": true
   },
   "outputs": [],
   "source": [
    "# count in how many samples each sequence appears?\n",
    "countSharedPNP434samples_top100= All434samples_UniqueAAdfs_top100.index.value_counts()"
   ]
  },
  {
   "cell_type": "code",
   "execution_count": null,
   "metadata": {
    "scrolled": true
   },
   "outputs": [],
   "source": [
    "#save counting to file:\n",
    "file2='/net/mraid08/export/genie/Lab/Personal/ShaniBAF/TCR_real_data/PublicSeqAnalysis/countSharedPNP434samples_top100' \n",
    "countSharedPNP434samples_top100.to_pickle(file2)"
   ]
  },
  {
   "cell_type": "code",
   "execution_count": null,
   "metadata": {
    "scrolled": true
   },
   "outputs": [],
   "source": [
    "# the most shared sequence is shared among 49 samples:\n",
    "countSharedPNP434samples_top100.head()"
   ]
  },
  {
   "cell_type": "code",
   "execution_count": null,
   "metadata": {
    "scrolled": true
   },
   "outputs": [],
   "source": [
    "countSharedPNP434samples_top100=pd.DataFrame(countSharedPNP434samples_top100)\n",
    "countSharedPNP434samples_top100=countSharedPNP434samples_top100.rename(columns={'aminoAcid':'n_shared_samples'})\n",
    "countSharedPNP434samples_top100.head()"
   ]
  },
  {
   "cell_type": "markdown",
   "metadata": {},
   "source": [
    "#### calculate the percentage of public sequences among the top100 sequences lists in the cohort:"
   ]
  },
  {
   "cell_type": "code",
   "execution_count": null,
   "metadata": {
    "scrolled": true
   },
   "outputs": [],
   "source": [
    "public_top100=countSharedPNP434samples_top100[countSharedPNP434samples_top100['n_shared_samples']>1]"
   ]
  },
  {
   "cell_type": "code",
   "execution_count": null,
   "metadata": {
    "scrolled": true
   },
   "outputs": [],
   "source": [
    "print len(public_top100)"
   ]
  },
  {
   "cell_type": "code",
   "execution_count": null,
   "metadata": {
    "scrolled": true
   },
   "outputs": [],
   "source": [
    "private_top100=countSharedPNP434samples_top100[countSharedPNP434samples_top100['n_shared_samples']==1]"
   ]
  },
  {
   "cell_type": "code",
   "execution_count": null,
   "metadata": {
    "scrolled": true
   },
   "outputs": [],
   "source": [
    "print len(private_top100)"
   ]
  },
  {
   "cell_type": "code",
   "execution_count": null,
   "metadata": {
    "scrolled": true
   },
   "outputs": [],
   "source": [
    "# the percent of public sequences in the cohort is 10.3%:\n",
    "float(len(public_top100)*100)/(len(private_top100)+len(public_top100))"
   ]
  },
  {
   "cell_type": "code",
   "execution_count": null,
   "metadata": {
    "scrolled": true
   },
   "outputs": [],
   "source": []
  },
  {
   "cell_type": "markdown",
   "metadata": {},
   "source": [
    "# public feature calculations:"
   ]
  },
  {
   "cell_type": "markdown",
   "metadata": {},
   "source": [
    "## add number of shared samples to each uniqueAA sequence:"
   ]
  },
  {
   "cell_type": "code",
   "execution_count": null,
   "metadata": {
    "scrolled": true
   },
   "outputs": [],
   "source": [
    "public.head()"
   ]
  },
  {
   "cell_type": "code",
   "execution_count": null,
   "metadata": {
    "scrolled": true
   },
   "outputs": [],
   "source": [
    "countSharedPNP434samples['IsPublic']=np.where(countSharedPNP434samples['n_shared_samples']>1,1,0)"
   ]
  },
  {
   "cell_type": "code",
   "execution_count": null,
   "metadata": {
    "scrolled": true
   },
   "outputs": [],
   "source": [
    "All434samples_UniqueAAdfs_withCounting=pd.merge(All434samples_UniqueAAdfs_toMerge,countSharedPNP434samples,how='left', left_index=True, right_index=True)"
   ]
  },
  {
   "cell_type": "code",
   "execution_count": null,
   "metadata": {
    "scrolled": true
   },
   "outputs": [],
   "source": [
    "All434samples_UniqueAAdfs_withCounting.head()"
   ]
  },
  {
   "cell_type": "code",
   "execution_count": null,
   "metadata": {
    "scrolled": true
   },
   "outputs": [],
   "source": [
    "#save merged df to file:\n",
    "file1='/net/mraid08/export/genie/Lab/Personal/ShaniBAF/TCR_real_data/PublicSeqAnalysis/All434samples_UniqueAAdfs_withCounting' \n",
    "All434samples_UniqueAAdfs_withCounting.to_pickle(file1)\n"
   ]
  },
  {
   "cell_type": "markdown",
   "metadata": {},
   "source": [
    "## development of public feature calculations:"
   ]
  },
  {
   "cell_type": "code",
   "execution_count": null,
   "metadata": {
    "scrolled": true
   },
   "outputs": [],
   "source": [
    "sample_name='BD1'\n",
    "\n",
    "sampleSequences=All434samples_UniqueAAdfs_withCounting[All434samples_UniqueAAdfs_withCounting['Sample']==sample_name]"
   ]
  },
  {
   "cell_type": "code",
   "execution_count": null,
   "metadata": {
    "scrolled": true
   },
   "outputs": [],
   "source": [
    "nTotal=len(sampleSequences)\n",
    "nPublic=len(sampleSequences[sampleSequences['n_shared_samples']>1])\n",
    "nSahredMore5=len(sampleSequences[sampleSequences['n_shared_samples']>5])\n",
    "nSahredMore100=len(sampleSequences[sampleSequences['n_shared_samples']>100])\n",
    "\n",
    "percPublic=round(float(nPublic)*100/nTotal,2)\n",
    "percPublic5=round(float(nSahredMore5)*100/nTotal,2)\n",
    "percPublic100=round(float(nSahredMore100)*100/nTotal,2)\n",
    "\n",
    "print percPublic,percPublic5,percPublic100"
   ]
  },
  {
   "cell_type": "markdown",
   "metadata": {},
   "source": [
    "## functions to calculate sharingFeatures for a cohort"
   ]
  },
  {
   "cell_type": "code",
   "execution_count": null,
   "metadata": {
    "scrolled": true
   },
   "outputs": [],
   "source": [
    "def gen_uniqueAAlists_forcohort(data_folder,cohortName):\n",
    "    #get samples filenames:\n",
    "    print 'getting samples names...'\n",
    "    sample_dfs_folder='/net/mraid08/export/genie/Lab/Personal/ShaniBAF/%s/SamplesForAnalysis' %data_folder\n",
    "    sample_filenames = [f for f in listdir(sample_dfs_folder) if isfile(join(sample_dfs_folder, f))]\n",
    "    sample_filenames=[f.strip('.tsv') for f in sample_filenames]\n",
    "    \n",
    "    \n",
    "    #generate uniqueAA lists for each sample:\n",
    "    print 'generating uniqueAA lists for each sample...'\n",
    "    uniqueAAdfs_folder='/net/mraid08/export/genie/Lab/Personal/ShaniBAF/%s/PublicSeqAnalysis/uniqueAAdfs/' %data_folder\n",
    "    if not isdir(uniqueAAdfs_folder):\n",
    "        mkdir(uniqueAAdfs_folder)\n",
    "\n",
    "    for n,sample_name in enumerate(sample_filenames):    \n",
    "            print  n,sample_name\n",
    "            gen_uniqueAAdf(sample_name,data_folder)\n",
    "            \n",
    "    #concatenate all lists into one list for the wholecohort:\n",
    "    print 'concatenating all uniqueAA lists...'\n",
    "    uniqueAAdfs_folder='/net/mraid08/export/genie/Lab/Personal/ShaniBAF/%s/PublicSeqAnalysis/uniqueAAdfs/' %data_folder\n",
    "    AllSamples_UniqueAAdfs=concat_summarizing_dfs(uniqueAAdfs_folder)\n",
    "    \n",
    "    #get sub-dataframe to enable merging with counting DF:\n",
    "    AllSamples_UniqueAAdfs_toMerge= AllSamples_UniqueAAdfs\n",
    "    AllSamples_UniqueAAdfs_toMerge.columns =  AllSamples_UniqueAAdfs_toMerge.columns.get_level_values(0)\n",
    "    AllSamples_UniqueAAdfs_toMerge.head()\n",
    "    \n",
    "    # count in how many samples each sequence appears?\n",
    "    print 'counting in how many samples each sequence appears... (long!)'\n",
    "    countSharedSamples= AllSamples_UniqueAAdfs_toMerge.index.value_counts()\n",
    "    \n",
    "    #save counting to file:\n",
    "    print 'saving counting into file'\n",
    "    file1='/net/mraid08/export/genie/Lab/Personal/ShaniBAF/%s/PublicSeqAnalysis/countSharedSamples_%s' %(data_folder,cohortName) \n",
    "    countSharedSamples.to_pickle(file1)\n",
    "    \n",
    "    #merging counting information into the list of uniqueAA sequence of the cohort:\n",
    "    print 'merging counting information into the list of uniqueAA sequence of the cohort...'\n",
    "    \n",
    "    countSharedSamples['IsPublic']=np.where(countSharedSamples['n_shared_samples']>1,1,0)\n",
    "    AllSamples_UniqueAAdfs_withCounting=pd.merge(AllSamples_UniqueAAdfs_toMerge,countSharedSamples,how='left', left_index=True, right_index=True)\n",
    "    \n",
    "    #save merged df to file:\n",
    "    print 'saving cohort uniqueAA list with counting information into file...'\n",
    "    file2='/net/mraid08/export/genie/Lab/Personal/ShaniBAF/%s/PublicSeqAnalysis/AllSamples_UniqueAAdfs_withCounting_%s' %(data_folder,cohortName)\n",
    "    AllSamples_UniqueAAdfs_withCounting.to_pickle(file2)\n",
    "\n",
    "    \n",
    "    "
   ]
  },
  {
   "cell_type": "code",
   "execution_count": null,
   "metadata": {
    "scrolled": true
   },
   "outputs": [],
   "source": [
    "#this function calculates sharing features per sample, based on a 'uniqueAAdfWithCounting' dataframe.\n",
    "#to calculate this required df, use 'gen_uniqueAAlists_forcohort'\n",
    "\n",
    "def gen_SharingFeatures(data_folder,sample_name):\n",
    "\n",
    "# make sure that uniqueAAdfWithCounting was called before the function is called. it is possible to add it as an input to the function)\n",
    "    \n",
    "    \n",
    "    file1='/net/mraid08/export/genie/Lab/Personal/ShaniBAF/%s/descriptiveStatsSamplesForAnalysis/Total/SharingFeatures/%s' %(data_folder,sample_name) \n",
    "    dfs_folder='/net/mraid08/export/genie/Lab/Personal/ShaniBAF/%s/descriptiveStatsSamplesForAnalysis/Total/SharingFeatures' %data_folder\n",
    "    if not isdir(dfs_folder):\n",
    "        mkdir(dfs_folder) \n",
    "    files=[f for f in listdir(dfs_folder) if isfile(join(dfs_folder, f))]\n",
    "    \n",
    "    if sample_name not in files:\n",
    "        print('calculating sharing features...')\n",
    "    \n",
    "        sampleSequences=uniqueAAdfWithCounting[uniqueAAdfWithCounting['Sample']==sample_name]\n",
    "        nTotal=len(sampleSequences)\n",
    "        nPublic=len(sampleSequences[sampleSequences['n_shared_samples']>1])\n",
    "        nSahredMore5=len(sampleSequences[sampleSequences['n_shared_samples']>5])\n",
    "        nSahredMore100=len(sampleSequences[sampleSequences['n_shared_samples']>100])\n",
    "\n",
    "        percPublic=round(float(nPublic)*100/nTotal,2)\n",
    "        percPublic5=round(float(nSahredMore5)*100/nTotal,2)\n",
    "        percPublic100=round(float(nSahredMore100)*100/nTotal,2)\n",
    "\n",
    "        SharingFeaturesDF=pd.DataFrame() #generate empty dataframe\n",
    "        SharingFeaturesDF.loc[0,'Sample']=sample_name\n",
    "        SharingFeaturesDF.loc[0,'percPublic']=percPublic\n",
    "        SharingFeaturesDF.loc[0,'percPublic5']=percPublic5\n",
    "        SharingFeaturesDF.loc[0,'percPublic100']=percPublic100\n",
    "\n",
    "        SharingFeaturesDF.to_pickle(file1)\n",
    "    else:\n",
    "        print('found sharing features for this sample...')\n",
    "    \n",
    "    \n",
    "    \n",
    "    \n"
   ]
  },
  {
   "cell_type": "markdown",
   "metadata": {},
   "source": [
    "## calculate sharing features:"
   ]
  },
  {
   "cell_type": "code",
   "execution_count": null,
   "metadata": {
    "scrolled": true
   },
   "outputs": [],
   "source": [
    "data_folder='TCR_real_data'\n",
    "dfs_folder='/net/mraid08/export/genie/Lab/Personal/ShaniBAF/%s/SamplesForAnalysis' %data_folder\n",
    "filenames = [f for f in listdir(dfs_folder) if isfile(join(dfs_folder, f))]\n",
    "filenames=[f.strip('.tsv') for f in filenames]\n",
    "print len(filenames)"
   ]
  },
  {
   "cell_type": "code",
   "execution_count": null,
   "metadata": {
    "scrolled": true
   },
   "outputs": [],
   "source": [
    "uniqueAAdfWithCounting=All434samples_UniqueAAdfs_withCounting\n",
    "\n",
    "for n,sample_name in enumerate(filenames):    \n",
    "    print  n,sample_name\n",
    "    gen_SharingFeatures(data_folder,sample_name)"
   ]
  },
  {
   "cell_type": "code",
   "execution_count": null,
   "metadata": {
    "scrolled": true
   },
   "outputs": [],
   "source": [
    "sharing_folder='/net/mraid08/export/genie/Lab/Personal/ShaniBAF/%s/descriptiveStatsSamplesForAnalysis/Total/SharingFeatures' %data_folder\n",
    "SharingFeatures=concat_summarizing_dfs(sharing_folder)\n",
    "SharingFeatures.describe()"
   ]
  },
  {
   "cell_type": "markdown",
   "metadata": {},
   "source": [
    "# generate publicNmore matrices"
   ]
  },
  {
   "cell_type": "markdown",
   "metadata": {},
   "source": [
    "## load files:"
   ]
  },
  {
   "cell_type": "code",
   "execution_count": null,
   "metadata": {},
   "outputs": [],
   "source": [
    "\n",
    "file2='/net/mraid08/export/genie/Lab/Personal/ShaniBAF/TCR_real_data/PublicSeqAnalysis/All434samples_UniqueAAdfs_withCounting'\n",
    "AllSamples_UniqueAAdfs_withCounting=pd.read_pickle(file2)"
   ]
  },
  {
   "cell_type": "code",
   "execution_count": null,
   "metadata": {},
   "outputs": [],
   "source": [
    "file1='/net/mraid08/export/genie/Lab/Personal/ShaniBAF/TCR_real_data/PublicSeqAnalysis/countSharedPNP434samples'\n",
    "countSharedPNP434samples=pd.read_pickle(file1)"
   ]
  },
  {
   "cell_type": "markdown",
   "metadata": {},
   "source": [
    "## merge the list of uniqueAA sequences per sample with the total list of shared seqeunces"
   ]
  },
  {
   "cell_type": "code",
   "execution_count": null,
   "metadata": {},
   "outputs": [],
   "source": [
    "AllSamples_UniqueAAdfs_withCounting.sort_values(by='n_shared_samples',ascending=False).head()"
   ]
  },
  {
   "cell_type": "code",
   "execution_count": null,
   "metadata": {
    "scrolled": true
   },
   "outputs": [],
   "source": [
    "# this function merge the list of uniqueAA sequences per sample with the total list of shared seqeunces (which are shared among\n",
    "# more than a threshold number of samples, defined below as 'nShared_cutoff'):\n",
    "\n",
    "def gen_addPublicInfo_forSample(sample_name,publicNmoreDF):\n",
    "    sampleSequences=AllSamples_UniqueAAdfs_withCounting[AllSamples_UniqueAAdfs_withCounting['Sample']==sample_name]\n",
    "    sampleSequences=sampleSequences['count (templates)']\n",
    "    sampleSequences=pd.DataFrame(sampleSequences)\n",
    "    \n",
    "    publicNmoreDF=pd.merge(publicNmoreDF,sampleSequences,how='left',left_index=True,right_index=True)\n",
    "    publicNmoreDF=publicNmoreDF.rename(columns={'count (templates)':sample_name})\n",
    "    \n",
    "    return publicNmoreDF\n"
   ]
  },
  {
   "cell_type": "markdown",
   "metadata": {},
   "source": [
    "## generate binary matrix for public sequence presence in each sample\n",
    "'public' defintion depends on the number of required minimal number of samples sharing the same sequence (nShared_cutoff)"
   ]
  },
  {
   "cell_type": "code",
   "execution_count": null,
   "metadata": {
    "scrolled": true
   },
   "outputs": [],
   "source": [
    "#get the relevant samples for the cohort:\n",
    "\n",
    "data_folder='TCR_real_data'\n",
    "dfs_folder='/net/mraid08/export/genie/Lab/Personal/ShaniBAF/%s/SamplesForAnalysis' %data_folder\n",
    "filenames = [f for f in listdir(dfs_folder) if isfile(join(dfs_folder, f))]\n",
    "filenames=[f.strip('.tsv') for f in filenames]\n",
    "print len(filenames)"
   ]
  },
  {
   "cell_type": "code",
   "execution_count": null,
   "metadata": {
    "scrolled": true
   },
   "outputs": [],
   "source": [
    "#for each sample, add column to the matrix indicating presence/ansence of the shared sequence in the sample:\n",
    "\n",
    "countSharedSamples=countSharedPNP434samples                                 #define counting df\n",
    "# AllSamples_UniqueAAdfs_withCounting=All434samples_UniqueAAdfs_withCounting    #define uniqueAA df\n",
    "\n",
    "nShared_cutoff=50 #define the lower thereshold of shared samples per sequence to generate the public matrix:\n",
    "\n",
    "publicNmoreDF=countSharedSamples[countSharedSamples['n_shared_samples']>nShared_cutoff] #define the list of shared sequences in the\n",
    "                                                                                        #cohort, based on the nShared_cutoff value\n",
    "# publicNmoreDF=publicNmoreDF.drop('IsPublic',axis=1)\n",
    "print 'the number of uniqueAA sequences shared by more than %s samples is %s' %(nShared_cutoff,len(publicNmoreDF))\n",
    "\n",
    "for n,sample_name in enumerate(filenames):  \n",
    "#     if n<4:\n",
    "        print  n,sample_name\n",
    "        publicNmoreDF=gen_addPublicInfo_forSample(sample_name,publicNmoreDF)\n",
    "\n",
    "\n",
    "print 'now converting counts to binary indications...'\n",
    "for column in publicNmoreDF.columns.values[1:]:\n",
    "    publicNmoreDF[column]=np.where(publicNmoreDF[column]>0,1,0)\n",
    "print 'DONE!'"
   ]
  },
  {
   "cell_type": "code",
   "execution_count": null,
   "metadata": {
    "scrolled": true
   },
   "outputs": [],
   "source": [
    "#check the correctness of the matrix: if the sum of all columns except for the n_shared_samples is similar to the n_shared_samples\n",
    "#then the matrix is correct:\n",
    "\n",
    "columnsToSum=[column for column in publicNmoreDF.columns.values if 'BD' in column]\n",
    "publicNmoreDF['sum']=publicNmoreDF[columnsToSum].sum(axis=1)\n",
    "publicNmoreDF['ratio']=publicNmoreDF['n_shared_samples']/publicNmoreDF['sum']\n",
    "\n",
    "problem=publicNmoreDF[publicNmoreDF['ratio']!=1]\n",
    "problem\n"
   ]
  },
  {
   "cell_type": "code",
   "execution_count": null,
   "metadata": {
    "scrolled": true
   },
   "outputs": [],
   "source": [
    "#drop unecessary columns,transform and save:\n",
    "publicNmoreDF_toSave=publicNmoreDF.drop(['n_shared_samples','sum','ratio'],axis=1)\n",
    "publicNmoreDF_toSave=publicNmoreDF_toSave.T\n",
    "file3='/net/mraid08/export/genie/Lab/Personal/ShaniBAF/%s/PublicSeqAnalysis/sharingMatrix_moreThan%s_%sSamples' %(data_folder,\n",
    "                                                                                                                  nShared_cutoff,\n",
    "                                                                                                                 len(filenames))\n",
    "publicNmoreDF_toSave.to_pickle(file3)"
   ]
  },
  {
   "cell_type": "code",
   "execution_count": null,
   "metadata": {
    "scrolled": true
   },
   "outputs": [],
   "source": [
    "publicNmoreDF_toSave.head()"
   ]
  },
  {
   "cell_type": "code",
   "execution_count": null,
   "metadata": {
    "scrolled": true
   },
   "outputs": [],
   "source": [
    "publicNmoreDF_toSave.shape"
   ]
  },
  {
   "cell_type": "code",
   "execution_count": null,
   "metadata": {
    "scrolled": true
   },
   "outputs": [],
   "source": [
    "publicNmoreDF_toSave.sum()[-5:]"
   ]
  },
  {
   "cell_type": "code",
   "execution_count": null,
   "metadata": {
    "scrolled": true
   },
   "outputs": [],
   "source": []
  },
  {
   "cell_type": "markdown",
   "metadata": {},
   "source": [
    "## generate relative abundance matrix for public sequence presence in each sample\n",
    "'public' defintion depends on the number of required minimal number of samples sharing the same sequence (nShared_cutoff)\n",
    "\n",
    "*** this section is a repat of the former one, but this time without the binary transformation! ***"
   ]
  },
  {
   "cell_type": "markdown",
   "metadata": {},
   "source": [
    "### loading files:"
   ]
  },
  {
   "cell_type": "code",
   "execution_count": null,
   "metadata": {},
   "outputs": [],
   "source": [
    "# load counting:\n",
    "file2='/net/mraid08/export/genie/Lab/Personal/ShaniBAF/TCR_real_data/PublicSeqAnalysis/countSharedPNP434samples' \n",
    "countSharedPNP434samples=pd.read_pickle(file2)"
   ]
  },
  {
   "cell_type": "code",
   "execution_count": null,
   "metadata": {},
   "outputs": [],
   "source": [
    "#load:\n",
    "file1='/net/mraid08/export/genie/Lab/Personal/ShaniBAF/TCR_real_data/PublicSeqAnalysis/All434samples_UniqueAAdfs_withCounting' \n",
    "All434samples_UniqueAAdfs_withCounting=pd.read_pickle(file1)"
   ]
  },
  {
   "cell_type": "code",
   "execution_count": null,
   "metadata": {
    "scrolled": true
   },
   "outputs": [],
   "source": [
    "#get the relevant samples for the cohort:\n",
    "\n",
    "data_folder='TCR_real_data'\n",
    "dfs_folder='/net/mraid08/export/genie/Lab/Personal/ShaniBAF/%s/SamplesForAnalysis' %data_folder\n",
    "filenames = [f for f in listdir(dfs_folder) if isfile(join(dfs_folder, f))]\n",
    "filenames=[f.strip('.tsv') for f in filenames]\n",
    "print len(filenames)"
   ]
  },
  {
   "cell_type": "code",
   "execution_count": null,
   "metadata": {},
   "outputs": [],
   "source": []
  },
  {
   "cell_type": "code",
   "execution_count": null,
   "metadata": {},
   "outputs": [],
   "source": [
    "# this function merge the list of uniqueAA sequences per sample with the total list of shared seqeunces (which are shared among\n",
    "# more than a threshold number of samples, defined below as 'nShared_cutoff')\n",
    "\n",
    "##### this function includes transformation of the template counts into relative abundance ####\n",
    "\n",
    "def gen_addPublicInfo_forSample_withRAcalc(sample_name,publicNmoreDF_RA):\n",
    "    sampleSequences=AllSamples_UniqueAAdfs_withCounting[AllSamples_UniqueAAdfs_withCounting['Sample']==sample_name]\n",
    "    sampleSequences=pd.DataFrame(sampleSequences['count (templates)'])\n",
    "    sampleSequences['RA']=sampleSequences['count (templates)']/sampleSequences['count (templates)'].sum()\n",
    "    sampleSequences=sampleSequences.drop('count (templates)',axis=1)\n",
    "    print 'sanity check: sample RA total is %s' %sampleSequences['RA'].sum()\n",
    "    \n",
    "    publicNmoreDF_RA=pd.merge(publicNmoreDF_RA,sampleSequences,how='left',left_index=True,right_index=True)\n",
    "    publicNmoreDF_RA=publicNmoreDF_RA.rename(columns={'RA':sample_name})\n",
    "    \n",
    "    return publicNmoreDF_RA\n"
   ]
  },
  {
   "cell_type": "markdown",
   "metadata": {},
   "source": [
    "### generate relative  abundance matrix for public sequence presence in each sample\n",
    "'public' defintion depends on the number of required minimal number of samples sharing the same sequence (nShared_cutoff)"
   ]
  },
  {
   "cell_type": "code",
   "execution_count": null,
   "metadata": {
    "scrolled": true
   },
   "outputs": [],
   "source": [
    "#get the relevant samples for the cohort:\n",
    "\n",
    "data_folder='TCR_real_data'\n",
    "dfs_folder='/net/mraid08/export/genie/Lab/Personal/ShaniBAF/%s/SamplesForAnalysis' %data_folder\n",
    "filenames = [f for f in listdir(dfs_folder) if isfile(join(dfs_folder, f))]\n",
    "filenames=[f.strip('.tsv') for f in filenames]\n",
    "print len(filenames)"
   ]
  },
  {
   "cell_type": "code",
   "execution_count": null,
   "metadata": {
    "scrolled": true
   },
   "outputs": [],
   "source": [
    "#for each sample, add column to the matrix indicating presence/ansence of the shared sequence in the sample:\n",
    "\n",
    "countSharedSamples=countSharedPNP434samples                                 #define counting df\n",
    "AllSamples_UniqueAAdfs_withCounting=All434samples_UniqueAAdfs_withCounting    #define uniqueAA df\n",
    "\n",
    "nShared_cutoff=50 #define the lower thereshold of shared samples per sequence to generate the public matrix:\n",
    "\n",
    "publicNmoreDF_RA=countSharedSamples[countSharedSamples['n_shared_samples']>nShared_cutoff] #define the list of shared sequences in the\n",
    "                                                                                        #cohort, based on the nShared_cutoff value\n",
    "# publicNmoreDF_RA=publicNmoreDF_RA.drop('IsPublic',axis=1)\n",
    "print 'the number of uniqueAA sequences shared by more than %s samples is %s' %(nShared_cutoff,len(publicNmoreDF_RA))\n",
    "\n",
    "for n,sample_name in enumerate(filenames):  \n",
    "#     if n<4:\n",
    "        print  n,sample_name\n",
    "        publicNmoreDF_RA=gen_addPublicInfo_forSample_withRAcalc(sample_name,publicNmoreDF_RA)\n",
    "\n",
    "print 'DONE!'"
   ]
  },
  {
   "cell_type": "code",
   "execution_count": null,
   "metadata": {},
   "outputs": [],
   "source": [
    "publicNmoreDF_RA"
   ]
  },
  {
   "cell_type": "code",
   "execution_count": null,
   "metadata": {
    "scrolled": true
   },
   "outputs": [],
   "source": [
    "#drop unecessary columns,transform and save:\n",
    "publicNmoreDF_RA_toSave=publicNmoreDF_RA.drop('n_shared_samples',axis=1)\n",
    "publicNmoreDF_RA_toSave=publicNmoreDF_RA_toSave.T\n",
    "publicNmoreDF_RA_toSave=publicNmoreDF_RA_toSave.fillna(0)\n",
    "file3='/net/mraid08/export/genie/Lab/Personal/ShaniBAF/%s/PublicSeqAnalysis/sharingMatrix_moreThan%s_%sSamples_RA' %(data_folder,\n",
    "                                                                                                                  nShared_cutoff,\n",
    "                                                                                                                 len(filenames))\n",
    "publicNmoreDF_RA_toSave.to_pickle(file3)"
   ]
  },
  {
   "cell_type": "code",
   "execution_count": null,
   "metadata": {
    "scrolled": true
   },
   "outputs": [],
   "source": [
    "publicNmoreDF_RA_toSave.head()"
   ]
  },
  {
   "cell_type": "markdown",
   "metadata": {},
   "source": [
    "### transform publicNmoreDF_RA to log2 scale and save:"
   ]
  },
  {
   "cell_type": "code",
   "execution_count": null,
   "metadata": {},
   "outputs": [],
   "source": [
    "short=publicNmoreDF_RA_toSave.iloc[0:5,0:5]\n",
    "short"
   ]
  },
  {
   "cell_type": "markdown",
   "metadata": {},
   "source": [
    "replace -inf values with -1000:"
   ]
  },
  {
   "cell_type": "code",
   "execution_count": null,
   "metadata": {},
   "outputs": [],
   "source": [
    "inf=short_log2scale.iloc['BD438','CASSLGETQYF']"
   ]
  },
  {
   "cell_type": "code",
   "execution_count": null,
   "metadata": {},
   "outputs": [],
   "source": [
    "short_log2scale = short.applymap(np.log2)\n",
    "short_log2scale=short_log2scale.replace(inf,-1000)\n",
    "short_log2scale.head()"
   ]
  },
  {
   "cell_type": "code",
   "execution_count": null,
   "metadata": {},
   "outputs": [],
   "source": [
    "publicNmoreDF_RA_toSave_log2scale = publicNmoreDF_RA_toSave.applymap(np.log2)"
   ]
  },
  {
   "cell_type": "code",
   "execution_count": null,
   "metadata": {},
   "outputs": [],
   "source": [
    "publicNmoreDF_RA_toSave_log2scale.head()"
   ]
  },
  {
   "cell_type": "markdown",
   "metadata": {},
   "source": [
    "change from here:"
   ]
  },
  {
   "cell_type": "code",
   "execution_count": null,
   "metadata": {},
   "outputs": [],
   "source": [
    "publicNmoreDF_RA_toSave_log2scale=publicNmoreDF_RA_toSave_log2scale.replace(inf,-1000)\n",
    "publicNmoreDF_RA_toSave_log2scale.head()"
   ]
  },
  {
   "cell_type": "code",
   "execution_count": null,
   "metadata": {},
   "outputs": [],
   "source": [
    "file1='/net/mraid08/export/genie/Lab/Personal/ShaniBAF/%s/PublicSeqAnalysis/sharingMatrix_moreThan%s_%sSamples_RA_log2scale' %(data_folder,\n",
    "                                                                                                                  nShared_cutoff,\n",
    "                                                                                                                 len(filenames))\n",
    "publicNmoreDF_RA_toSave_log2scale.to_pickle(file1)"
   ]
  },
  {
   "cell_type": "markdown",
   "metadata": {},
   "source": [
    "## generate binary matrix for public sequence presence in each sample\n",
    "'public' defintion depends on the number of required minimal number of samples sharing the same sequence (nShared_cutoff)"
   ]
  },
  {
   "cell_type": "code",
   "execution_count": null,
   "metadata": {
    "scrolled": true
   },
   "outputs": [],
   "source": [
    "#get the relevant samples for the cohort:\n",
    "\n",
    "data_folder='TCR_real_data'\n",
    "dfs_folder='/net/mraid08/export/genie/Lab/Personal/ShaniBAF/%s/SamplesForAnalysis' %data_folder\n",
    "filenames = [f for f in listdir(dfs_folder) if isfile(join(dfs_folder, f))]\n",
    "filenames=[f.strip('.tsv') for f in filenames]\n",
    "print len(filenames)"
   ]
  },
  {
   "cell_type": "code",
   "execution_count": null,
   "metadata": {
    "scrolled": true
   },
   "outputs": [],
   "source": [
    "#for each sample, add column to the matrix indicating presence/ansence of the shared sequence in the sample:\n",
    "\n",
    "countSharedSamples=countSharedPNP434samples                                 #define counting df\n",
    "AllSamples_UniqueAAdfs_withCounting=All434samples_UniqueAAdfs_withCounting    #define uniqueAA df\n",
    "\n",
    "nShared_cutoff=2 #define the lower thereshold of shared samples per sequence to generate the public matrix:\n",
    "\n",
    "publicNmoreDF=countSharedSamples[countSharedSamples['n_shared_samples']>nShared_cutoff] #define the list of shared sequences in the\n",
    "                                                                                        #cohort, based on the nShared_cutoff value\n",
    "publicNmoreDF=publicNmoreDF.drop('IsPublic',axis=1)\n",
    "print 'the number of uniqueAA sequences shared by more than %s samples is %s' %(nShared_cutoff,len(publicNmoreDF))\n",
    "\n",
    "for n,sample_name in enumerate(filenames):  \n",
    "#     if n<4:\n",
    "        print  n,sample_name\n",
    "        publicNmoreDF=gen_addPublicInfo_forSample(sample_name,publicNmoreDF)\n",
    "\n",
    "\n",
    "print 'now converting counts to binary indications...'\n",
    "for column in publicNmoreDF.columns.values[1:]:\n",
    "    publicNmoreDF[column]=np.where(publicNmoreDF[column]>0,1,0)\n",
    "print 'DONE!'"
   ]
  },
  {
   "cell_type": "code",
   "execution_count": null,
   "metadata": {
    "scrolled": true
   },
   "outputs": [],
   "source": [
    "#check the correctness of the matrix: if the sum of all columns except for the n_shared_samples is similar to the n_shared_samples\n",
    "#then the matrix is correct:\n",
    "\n",
    "columnsToSum=[column for column in publicNmoreDF.columns.values if 'BD' in column]\n",
    "publicNmoreDF['sum']=publicNmoreDF[columnsToSum].sum(axis=1)\n",
    "publicNmoreDF['ratio']=publicNmoreDF['n_shared_samples']/publicNmoreDF['sum']\n",
    "\n",
    "problem=publicNmoreDF[publicNmoreDF['ratio']!=1]\n",
    "problem\n"
   ]
  },
  {
   "cell_type": "code",
   "execution_count": null,
   "metadata": {
    "scrolled": true
   },
   "outputs": [],
   "source": [
    "#drop unecessary columns,transform and save:\n",
    "publicNmoreDF_toSave=publicNmoreDF.drop(['n_shared_samples','sum','ratio'],axis=1)\n",
    "publicNmoreDF_toSave=publicNmoreDF_toSave.T\n",
    "file3='/net/mraid08/export/genie/Lab/Personal/ShaniBAF/%s/PublicSeqAnalysis/sharingMatrix_moreThan%s_%sSamples' %(data_folder,\n",
    "                                                                                                                  nShared_cutoff,\n",
    "                                                                                                                 len(filenames))\n",
    "publicNmoreDF_toSave.to_pickle(file3)"
   ]
  },
  {
   "cell_type": "code",
   "execution_count": null,
   "metadata": {
    "scrolled": true
   },
   "outputs": [],
   "source": [
    "publicNmoreDF_toSave.head()"
   ]
  },
  {
   "cell_type": "code",
   "execution_count": null,
   "metadata": {
    "scrolled": true
   },
   "outputs": [],
   "source": [
    "publicNmoreDF_toSave.shape"
   ]
  },
  {
   "cell_type": "code",
   "execution_count": null,
   "metadata": {
    "scrolled": true
   },
   "outputs": [],
   "source": [
    "publicNmoreDF_toSave.sum()[:5]"
   ]
  },
  {
   "cell_type": "markdown",
   "metadata": {},
   "source": [
    "# generate PC matrices as features:"
   ]
  },
  {
   "cell_type": "markdown",
   "metadata": {},
   "source": [
    "## PCA to shared by more than 1 sample-RA file:"
   ]
  },
  {
   "cell_type": "code",
   "execution_count": null,
   "metadata": {},
   "outputs": [],
   "source": [
    "nShared_cutoff=50  \n",
    "file3='/net/mraid08/export/genie/Lab/Personal/ShaniBAF/TCR_real_data/PublicSeqAnalysis/sharingMatrix_moreThan1_434Samples_RA'\n",
    "sharingMatrix_moreThan1_434Samples_RA=pd.read_pickle(file3)\n",
    "sharingMatrix_moreThan1_434Samples_RA.head()"
   ]
  },
  {
   "cell_type": "code",
   "execution_count": null,
   "metadata": {},
   "outputs": [],
   "source": [
    "from sklearn.decomposition import PCA\n",
    "pca = PCA(n_components=100)\n",
    "pca.fit(sharingMatrix_moreThan1_434Samples_RA)"
   ]
  },
  {
   "cell_type": "code",
   "execution_count": null,
   "metadata": {},
   "outputs": [],
   "source": [
    "print(pca.components_)"
   ]
  },
  {
   "cell_type": "code",
   "execution_count": null,
   "metadata": {},
   "outputs": [],
   "source": [
    "print(pca.explained_variance_)"
   ]
  },
  {
   "cell_type": "code",
   "execution_count": null,
   "metadata": {},
   "outputs": [],
   "source": [
    "# plot principal components\n",
    "X_pca = pca.transform(sharingMatrix_moreThan1_434Samples_RA)\n",
    "plt.scatter(X_pca[:, 0], X_pca[:, 1], alpha=0.2)\n",
    "# plt.axis('equal')\n",
    "# plt.xlabel('component 1')\n",
    "# plt.ylabel('component 2')\n",
    "plt.title('principal components')\n",
    "# plt.xlim(-20,20)\n",
    "# plt.ylim(-20,20)\n",
    "\n",
    "\n",
    "plt.show()\n",
    "\n",
    "# fig.savefig('figures/05.09-PCA-rotation.png')"
   ]
  },
  {
   "cell_type": "code",
   "execution_count": null,
   "metadata": {},
   "outputs": [],
   "source": []
  },
  {
   "cell_type": "markdown",
   "metadata": {},
   "source": [
    "## PCA to shared by more than 10 sample:"
   ]
  },
  {
   "cell_type": "code",
   "execution_count": null,
   "metadata": {},
   "outputs": [],
   "source": [
    "file3='/net/mraid08/export/genie/Lab/Personal/ShaniBAF/TCR_real_data/PublicSeqAnalysis/sharingMatrix_moreThan10_434Samples'\n",
    "sharingMatrix_moreThan10_434Samples=pd.read_pickle(file3)\n",
    "sharingMatrix_moreThan10_434Samples.head()"
   ]
  },
  {
   "cell_type": "code",
   "execution_count": null,
   "metadata": {},
   "outputs": [],
   "source": [
    "from sklearn.decomposition import PCA\n",
    "pca = PCA(n_components=100)\n",
    "pca.fit(sharingMatrix_moreThan10_434Samples.T)"
   ]
  },
  {
   "cell_type": "code",
   "execution_count": null,
   "metadata": {},
   "outputs": [],
   "source": [
    "print(pca.components_)"
   ]
  },
  {
   "cell_type": "code",
   "execution_count": null,
   "metadata": {},
   "outputs": [],
   "source": [
    "print len(pca.components_[0])"
   ]
  },
  {
   "cell_type": "code",
   "execution_count": null,
   "metadata": {},
   "outputs": [],
   "source": [
    "print(pca.explained_variance_)"
   ]
  },
  {
   "cell_type": "code",
   "execution_count": null,
   "metadata": {},
   "outputs": [],
   "source": [
    "# plot principal components\n",
    "X_pca = pca.transform(sharingMatrix_moreThan10_434Samples.T)\n",
    "plt.scatter(X_pca[:, 0], X_pca[:, 1], alpha=0.2)\n",
    "# plt.axis('equal')\n",
    "# plt.xlabel('component 1')\n",
    "# plt.ylabel('component 2')\n",
    "plt.title('principal components')\n",
    "# plt.xlim(-20,20)\n",
    "# plt.ylim(-20,20)\n",
    "\n",
    "\n",
    "plt.show()"
   ]
  },
  {
   "cell_type": "markdown",
   "metadata": {},
   "source": [
    "### generate PCA df as a feature DF"
   ]
  },
  {
   "cell_type": "code",
   "execution_count": null,
   "metadata": {},
   "outputs": [],
   "source": [
    "PCAdf=pd.DataFrame()\n",
    "for n,PC in enumerate(pca.components_):\n",
    "    colName='PC'+str(n)\n",
    "#     print colName\n",
    "    PCAdf[colName]=PC\n",
    "    PCAdf=PCAdf.set_index(sharingMatrix_moreThan10_434Samples.index)\n",
    "    "
   ]
  },
  {
   "cell_type": "code",
   "execution_count": null,
   "metadata": {},
   "outputs": [],
   "source": [
    "PCAdf"
   ]
  },
  {
   "cell_type": "markdown",
   "metadata": {},
   "source": [
    "## define general function for PCA analysis of sharing matrices:"
   ]
  },
  {
   "cell_type": "code",
   "execution_count": null,
   "metadata": {},
   "outputs": [],
   "source": [
    "'''\n",
    "this function performs PCA analysis to a specific sequence matrix defined by nSharedCutoff and isRA\n",
    "it outputs a PC1+PC2 plot, the percentage explained by the first PCs, and a df detailing the first 100PCs which can then be used\n",
    "a feature\n",
    "\n",
    "input:\n",
    "nSharedCutoff-1/2/5/10\n",
    "isRA- True/False\n",
    "nPCs - the number of PCs requested\n",
    "\n",
    "\n",
    "\n",
    "'''\n",
    "\n",
    "def PCAtoSharedSequenceMatrix(nSharedCutoff, isRA,nPCs):\n",
    "\n",
    "    #load sharing matrix:\n",
    "\n",
    "    if isRA:\n",
    "        RA='_RA'\n",
    "    else:\n",
    "        RA=''\n",
    "\n",
    "    file1='/net/mraid08/export/genie/Lab/Personal/ShaniBAF/TCR_real_data/PublicSeqAnalysis/sharingMatrix_moreThan%s_434Samples%s' %(nSharedCutoff,RA)\n",
    "    sharingMatrix=pd.read_pickle(file1)\n",
    "    pd.read_pickle(file1)\n",
    "    \n",
    "    # perform PCA\n",
    "\n",
    "    from sklearn.decomposition import PCA\n",
    "    pca = PCA(n_components=100)\n",
    "    pca.fit(sharingMatrix.T) #it is very important to transform the matrix!\n",
    "    print 'percent explained by PC1 is %s' %pca.explained_variance_[0]\n",
    "    print 'percent explained by PC2 is %s' %pca.explained_variance_[1]\n",
    "    \n",
    "    # plot principal components\n",
    "    fig1=plt.figure (figsize=(6,6))\n",
    "    X_pca = pca.transform(sharingMatrix.T)\n",
    "    plt.scatter(X_pca[:, 0], X_pca[:, 1], alpha=0.2)\n",
    "    plt.axis('equal')\n",
    "    plt.xlabel('PC0')\n",
    "    plt.ylabel('PC1')\n",
    "    plt.title('first2PCs_sharingMatrix_moreThan%s_434Samples%s' %(nSharedCutoff,RA),fontsize=12)\n",
    "    \n",
    "    file1='/net/mraid08/export/genie/Lab/Personal/ShaniBAF/TCR_real_data/PublicSeqAnalysis/PCAplots/first2PCs_of%sPCs_sharingMatrix_moreThan%s_434Samples%s' %(nPCs,nSharedCutoff,RA)\n",
    "    fig1.savefig(file1, dpi=200)\n",
    "    \n",
    "    # generate PCA df as a feature DF\n",
    "\n",
    "    PCAdf=pd.DataFrame()\n",
    "    for n,PC in enumerate(pca.components_):\n",
    "        colName='PC'+str(n)\n",
    "    #     print colName\n",
    "        PCAdf[colName]=PC\n",
    "        PCAdf=PCAdf.set_index(sharingMatrix.index)\n",
    "        \n",
    "    file1='/net/mraid08/export/genie/Lab/Personal/ShaniBAF/TCR_real_data/PublicSeqAnalysis/sharingMatrix_moreThan%s_434Samples%s_%sPCs' %(nSharedCutoff,RA,nPCs)\n",
    "    PCAdf.to_pickle(file1)\n",
    "\n",
    "\n"
   ]
  },
  {
   "cell_type": "markdown",
   "metadata": {},
   "source": [
    "# run PCA analysis on different sharing sequence matrices"
   ]
  },
  {
   "cell_type": "code",
   "execution_count": null,
   "metadata": {},
   "outputs": [],
   "source": [
    "nList=[1,2,5,10]\n",
    "isRAlist=[True] # it seems that the PCA analysis on the RA matrix is less efficient\n",
    "# isRAlist=[True,False]\n",
    "nPCsList=[5,100]\n",
    "\n",
    "for nSharedCutoff in nList:\n",
    "    for isRA in isRAlist:\n",
    "        for nPCs in nPCsList:\n",
    "            print nSharedCutoff, isRA, nPCs\n",
    "            PCAtoSharedSequenceMatrix(nSharedCutoff, isRA,nPCs)"
   ]
  },
  {
   "cell_type": "markdown",
   "metadata": {},
   "source": [
    "conclusiongs:\n",
    "nPCs has no meaning\n",
    "PCA analysis for RA matrices is much worse than the binary matrices\n",
    "PCA analysis is better for low Ns\n",
    "\n",
    "chose binay matrices for 1 and 10"
   ]
  },
  {
   "cell_type": "markdown",
   "metadata": {},
   "source": [
    "## 1.2.18: run PCA analysis on moreThan50:"
   ]
  },
  {
   "cell_type": "code",
   "execution_count": null,
   "metadata": {},
   "outputs": [],
   "source": [
    "nList=[50]\n",
    "isRAlist=[False] # it seems that the PCA analysis on the RA matrix is less efficient\n",
    "# isRAlist=[True,False]\n",
    "nPCsList=[1,5,100]\n",
    "\n",
    "for nSharedCutoff in nList:\n",
    "    for isRA in isRAlist:\n",
    "        for nPCs in nPCsList:\n",
    "            print nSharedCutoff, isRA, nPCs\n",
    "            PCAtoSharedSequenceMatrix(nSharedCutoff, isRA,nPCs)"
   ]
  },
  {
   "cell_type": "code",
   "execution_count": null,
   "metadata": {},
   "outputs": [],
   "source": []
  }
 ],
 "metadata": {
  "kernelspec": {
   "display_name": "Python 2",
   "language": "python",
   "name": "python2"
  },
  "language_info": {
   "codemirror_mode": {
    "name": "ipython",
    "version": 2
   },
   "file_extension": ".py",
   "mimetype": "text/x-python",
   "name": "python",
   "nbconvert_exporter": "python",
   "pygments_lexer": "ipython2",
   "version": "2.7.8"
  },
  "toc": {
   "nav_menu": {},
   "number_sections": true,
   "sideBar": false,
   "skip_h1_title": false,
   "toc_cell": false,
   "toc_position": {
    "height": "463px",
    "left": "0.980114px",
    "right": "1066px",
    "top": "111.989px",
    "width": "85px"
   },
   "toc_section_display": "block",
   "toc_window_display": true
  }
 },
 "nbformat": 4,
 "nbformat_minor": 2
}
