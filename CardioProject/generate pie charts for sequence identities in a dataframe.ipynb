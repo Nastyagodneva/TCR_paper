{
 "cells": [
  {
   "cell_type": "markdown",
   "metadata": {},
   "source": [
    "# imports"
   ]
  },
  {
   "cell_type": "code",
   "execution_count": null,
   "metadata": {
    "ExecuteTime": {
     "end_time": "2018-05-22T15:44:59.356051Z",
     "start_time": "2018-05-22T15:44:50.262520Z"
    },
    "scrolled": true
   },
   "outputs": [],
   "source": [
    "from os import listdir,mkdir,makedirs\n",
    "from os.path import isfile, join, isdir,exists\n",
    "import pandas as pd\n",
    "import numpy as np\n",
    "from scipy import stats\n",
    "import re\n",
    "import matplotlib.pyplot as plt\n",
    "from matplotlib.backends.backend_pdf import PdfPages\n",
    "from myplots import roundup, rounddown, find_decimal_fold, percentile_cut_off, rarefaction_calc, rarefaction_plot,draw_correlation_scatter\n",
    "from matplotlib.ticker import FormatStrFormatter\n",
    "import cPickle as pickle\n",
    "from Bio.SeqUtils import GC\n",
    "import seaborn as sns\n",
    "import random\n",
    "from scipy.stats import pearsonr\n",
    "from skbio.diversity.alpha import shannon, simpson, berger_parker_d\n",
    "\n",
    "from pop_organize import get_sample_data, get_sample_with_dfs\n",
    "from SufficientStatistics.SufficientStatistics import *\n",
    "from MyFunctionsShani import *\n",
    "import math\n",
    "from myplots import roundup, rounddown, find_decimal_fold\n",
    "from skbio.stats.distance import mantel\n",
    "from scipy.spatial.distance import braycurtis, pdist\n",
    "from GeneralFeaturePhenotypeInteractions.Feature_phenotype_functions import * \n",
    "from TCR_microbiome_interactions.TCR_microbiome_interactions_functions import *\n",
    "from TCR_feature_generation.SubsamplingFunctions import *\n",
    "from TCR_feature_generation.TCR_feature_generation_functions import *\n",
    "from TCR_feature_generation.publicSeqAnalysis import *\n",
    "\n",
    "MyPath='/net/mraid08/export/genie/Lab/Personal/ShaniBAF'"
   ]
  },
  {
   "cell_type": "code",
   "execution_count": null,
   "metadata": {
    "ExecuteTime": {
     "end_time": "2018-05-22T15:44:59.528184Z",
     "start_time": "2018-05-22T15:44:59.518744Z"
    },
    "scrolled": true
   },
   "outputs": [],
   "source": [
    "import time\n",
    "cdate=str(time.strftime(\"%d%m%Y\"))\n",
    "cdate"
   ]
  },
  {
   "cell_type": "markdown",
   "metadata": {},
   "source": [
    "# generate shared sequence lists with identities"
   ]
  },
  {
   "cell_type": "code",
   "execution_count": null,
   "metadata": {
    "ExecuteTime": {
     "end_time": "2018-05-22T15:48:26.193120Z",
     "start_time": "2018-05-22T15:48:12.040188Z"
    },
    "scrolled": true
   },
   "outputs": [],
   "source": [
    "file1='%s/TCR_real_data/SubSampled15000data_rep2/sharingAnalysis/AllUniqueWithCounts' %MyPath\n",
    "AllUniqueWithCounts=pd.read_pickle(file1)"
   ]
  },
  {
   "cell_type": "code",
   "execution_count": null,
   "metadata": {
    "ExecuteTime": {
     "end_time": "2018-05-22T15:48:26.754300Z",
     "start_time": "2018-05-22T15:48:26.729190Z"
    },
    "scrolled": true
   },
   "outputs": [],
   "source": [
    "AllUniqueWithCounts.head()"
   ]
  },
  {
   "cell_type": "code",
   "execution_count": null,
   "metadata": {
    "ExecuteTime": {
     "end_time": "2018-05-22T15:55:05.784411Z",
     "start_time": "2018-05-22T15:55:05.728439Z"
    },
    "scrolled": true
   },
   "outputs": [],
   "source": [
    "UniqueSequencesWithCounts=AllUniqueWithCounts.drop(['Sample','frequencyCount (%)'], axis=1)\n",
    "print len(AllUniqueWithCounts)\n",
    "print len(UniqueSequencesWithCounts)"
   ]
  },
  {
   "cell_type": "code",
   "execution_count": null,
   "metadata": {
    "ExecuteTime": {
     "end_time": "2018-05-22T15:55:10.835947Z",
     "start_time": "2018-05-22T15:55:07.608835Z"
    },
    "scrolled": true
   },
   "outputs": [],
   "source": [
    "UniqueSequencesWithCounts= UniqueSequencesWithCounts[~UniqueSequencesWithCounts.index.duplicated(keep='first')]"
   ]
  },
  {
   "cell_type": "code",
   "execution_count": null,
   "metadata": {
    "ExecuteTime": {
     "end_time": "2018-05-22T15:56:37.002211Z",
     "start_time": "2018-05-22T15:56:36.595989Z"
    },
    "scrolled": true
   },
   "outputs": [],
   "source": [
    "UniqueSequencesWithCounts=UniqueSequencesWithCounts.sort_values(by='nShared', ascending=False)\n",
    "UniqueSequencesWithCounts.head()"
   ]
  },
  {
   "cell_type": "code",
   "execution_count": null,
   "metadata": {
    "ExecuteTime": {
     "end_time": "2018-05-22T16:03:05.684963Z",
     "start_time": "2018-05-22T16:03:05.631812Z"
    },
    "scrolled": true
   },
   "outputs": [],
   "source": [
    "UniqueSharedSequences=UniqueSequencesWithCounts[UniqueSequencesWithCounts['isPublic']==1]"
   ]
  },
  {
   "cell_type": "code",
   "execution_count": null,
   "metadata": {
    "ExecuteTime": {
     "end_time": "2018-05-22T16:26:11.985961Z",
     "start_time": "2018-05-22T16:26:07.826170Z"
    },
    "scrolled": true
   },
   "outputs": [],
   "source": [
    "file2='%s/TCR CDR3 sequence databases/CDR3identityTable_23042018_processed.xlsx' %MyPath\n",
    "CDR3identityTable_23042018=pd.read_excel(file2)"
   ]
  },
  {
   "cell_type": "code",
   "execution_count": null,
   "metadata": {
    "ExecuteTime": {
     "end_time": "2018-05-22T16:26:18.465215Z",
     "start_time": "2018-05-22T16:26:18.423304Z"
    },
    "scrolled": true
   },
   "outputs": [],
   "source": [
    "CDR3identityTable_23042018.head()"
   ]
  },
  {
   "cell_type": "code",
   "execution_count": null,
   "metadata": {
    "ExecuteTime": {
     "end_time": "2018-05-22T16:26:28.768553Z",
     "start_time": "2018-05-22T16:26:26.953741Z"
    },
    "scrolled": true
   },
   "outputs": [],
   "source": [
    "UniqueSharedSequencesWithIdentities=pd.merge(UniqueSharedSequences,CDR3identityTable_23042018,how='left',\n",
    "                                              left_index=True,right_index=True)\n",
    "UniqueSharedSequencesWithIdentities.head()\n",
    "                                              "
   ]
  },
  {
   "cell_type": "code",
   "execution_count": null,
   "metadata": {
    "ExecuteTime": {
     "end_time": "2018-05-22T16:26:31.654189Z",
     "start_time": "2018-05-22T16:26:31.647869Z"
    },
    "scrolled": true
   },
   "outputs": [],
   "source": [
    "print len(UniqueSharedSequences)\n",
    "print len(CDR3identityTable_23042018)\n",
    "print len(UniqueSharedSequencesWithIdentities)"
   ]
  },
  {
   "cell_type": "code",
   "execution_count": null,
   "metadata": {
    "ExecuteTime": {
     "end_time": "2018-05-22T16:28:51.994223Z",
     "start_time": "2018-05-22T16:26:33.896602Z"
    },
    "scrolled": true
   },
   "outputs": [],
   "source": [
    "file3='%s/TCR_real_data/SubSampled15000data_rep2/sharingAnalysis/UniqueSharedSequencesWithIdentities.xlsx' %MyPath\n",
    "UniqueSharedSequencesWithIdentities.to_excel(file3)"
   ]
  },
  {
   "cell_type": "markdown",
   "metadata": {},
   "source": [
    "# define a function to generate the pie plot:"
   ]
  },
  {
   "cell_type": "code",
   "execution_count": null,
   "metadata": {},
   "outputs": [],
   "source": [
    "the function plot_identity_pie_plot was copied to PublicSeqAnalysis.py"
   ]
  },
  {
   "cell_type": "markdown",
   "metadata": {},
   "source": [
    "# run for different cutoffs"
   ]
  },
  {
   "cell_type": "code",
   "execution_count": null,
   "metadata": {},
   "outputs": [],
   "source": []
  },
  {
   "cell_type": "code",
   "execution_count": null,
   "metadata": {
    "ExecuteTime": {
     "end_time": "2018-05-22T17:46:11.936954Z",
     "start_time": "2018-05-22T17:46:10.584435Z"
    }
   },
   "outputs": [],
   "source": [
    "df=UniqueSharedSequencesWithIdentities\n",
    "useMore=True\n",
    "column='Pathology_McPAS'\n",
    "dropna=False\n",
    "nSharedThresholdList=[100,80,40,2]\n",
    "fig,axes=plt.subplots(nrows=1,ncols=len(nSharedThresholdList),figsize=(24,6))\n",
    "size=None\n",
    "\n",
    "\n",
    "\n",
    "\n",
    "\n",
    "for n,nSharedThreshold in enumerate(nSharedThresholdList):\n",
    "    ax=axes[n]\n",
    "    print ax\n",
    "    print n\n",
    "    plot_identity_pie_plot(ax,df,nSharedThreshold,useMore,column,dropna,size)\n",
    "plt.show()"
   ]
  },
  {
   "cell_type": "code",
   "execution_count": null,
   "metadata": {
    "ExecuteTime": {
     "end_time": "2018-05-22T17:47:42.409557Z",
     "start_time": "2018-05-22T17:47:41.100948Z"
    }
   },
   "outputs": [],
   "source": [
    "df=UniqueSharedSequencesWithIdentities\n",
    "useMore=False\n",
    "column='Pathology_McPAS'\n",
    "dropna=True\n",
    "nSharedThresholdList=[2,3,10]\n",
    "fig,axes=plt.subplots(nrows=1,ncols=len(nSharedThresholdList),figsize=(19,4))\n",
    "size=None\n",
    "\n",
    "\n",
    "\n",
    "\n",
    "\n",
    "for n,nSharedThreshold in enumerate(nSharedThresholdList):\n",
    "    ax=axes[n]\n",
    "    print ax\n",
    "    print n\n",
    "    plot_identity_pie_plot(ax,df,nSharedThreshold,useMore,column,dropna,size)\n",
    "fig.subplots_adjust(left=0.04, bottom=None, right=0.99, top=0.95,\n",
    "    wspace=0.9, hspace=None)\n",
    "plt.show()"
   ]
  },
  {
   "cell_type": "code",
   "execution_count": null,
   "metadata": {
    "ExecuteTime": {
     "end_time": "2018-05-24T07:08:24.226553Z",
     "start_time": "2018-05-24T07:08:24.021306Z"
    },
    "scrolled": true
   },
   "outputs": [],
   "source": [
    "df=UniqueSharedSequencesWithIdentities\n",
    "nSharedThreshold=80\n",
    "useMore=True\n",
    "column='Pathology_McPAS'\n",
    "dropna=False\n",
    "fig,ax=plt.subplots()\n",
    "size=10\n",
    "\n",
    "\n",
    "plot_identity_pie_plot(ax,df,nSharedThreshold,useMore,column,dropna,size)\n",
    "fig.subplots_adjust(left=0.04, bottom=None, right=0.99, top=0.95,\n",
    "    wspace=0.9, hspace=None)\n",
    "plt.show()"
   ]
  },
  {
   "cell_type": "code",
   "execution_count": null,
   "metadata": {},
   "outputs": [],
   "source": []
  },
  {
   "cell_type": "code",
   "execution_count": null,
   "metadata": {},
   "outputs": [],
   "source": []
  },
  {
   "cell_type": "code",
   "execution_count": null,
   "metadata": {},
   "outputs": [],
   "source": []
  },
  {
   "cell_type": "code",
   "execution_count": null,
   "metadata": {
    "ExecuteTime": {
     "end_time": "2018-05-22T17:15:17.843955Z",
     "start_time": "2018-05-22T17:15:17.339105Z"
    },
    "scrolled": true
   },
   "outputs": [],
   "source": [
    "df=UniqueSharedSequencesWithIdentities\n",
    "nSharedThreshold=2\n",
    "useMore=False\n",
    "column='Pathology_McPAS'\n",
    "dropna=False\n",
    "\n",
    "\n",
    "plot_identity_pie_plot(df,nSharedThreshold,useMore,column,dropna)"
   ]
  },
  {
   "cell_type": "code",
   "execution_count": null,
   "metadata": {
    "scrolled": true
   },
   "outputs": [],
   "source": []
  }
 ],
 "metadata": {
  "kernelspec": {
   "display_name": "Python 2",
   "language": "python",
   "name": "python2"
  },
  "language_info": {
   "codemirror_mode": {
    "name": "ipython",
    "version": 2
   },
   "file_extension": ".py",
   "mimetype": "text/x-python",
   "name": "python",
   "nbconvert_exporter": "python",
   "pygments_lexer": "ipython2",
   "version": "2.7.8"
  },
  "toc": {
   "nav_menu": {},
   "number_sections": true,
   "sideBar": true,
   "skip_h1_title": false,
   "toc_cell": false,
   "toc_position": {},
   "toc_section_display": "block",
   "toc_window_display": true
  },
  "varInspector": {
   "cols": {
    "lenName": 16,
    "lenType": 16,
    "lenVar": 40
   },
   "kernels_config": {
    "python": {
     "delete_cmd_postfix": "",
     "delete_cmd_prefix": "del ",
     "library": "var_list.py",
     "varRefreshCmd": "print(var_dic_list())"
    },
    "r": {
     "delete_cmd_postfix": ") ",
     "delete_cmd_prefix": "rm(",
     "library": "var_list.r",
     "varRefreshCmd": "cat(var_dic_list()) "
    }
   },
   "types_to_exclude": [
    "module",
    "function",
    "builtin_function_or_method",
    "instance",
    "_Feature"
   ],
   "window_display": false
  }
 },
 "nbformat": 4,
 "nbformat_minor": 2
}
