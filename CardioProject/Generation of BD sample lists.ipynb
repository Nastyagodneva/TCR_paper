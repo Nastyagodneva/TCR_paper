{
 "cells": [
  {
   "cell_type": "markdown",
   "metadata": {},
   "source": [
    "# imports:"
   ]
  },
  {
   "cell_type": "code",
   "execution_count": null,
   "metadata": {
    "ExecuteTime": {
     "end_time": "2018-06-13T11:49:37.198071Z",
     "start_time": "2018-06-13T11:49:29.677222Z"
    }
   },
   "outputs": [],
   "source": [
    "from os import listdir,mkdir\n",
    "from os.path import isfile, join, isdir,exists\n",
    "import pandas as pd\n",
    "import numpy as np\n",
    "from scipy import stats\n",
    "import re\n",
    "import matplotlib.pyplot as plt\n",
    "from matplotlib.backends.backend_pdf import PdfPages\n",
    "from myplots import roundup, rounddown, find_decimal_fold, percentile_cut_off, rarefaction_calc, rarefaction_plot,draw_correlation_scatter\n",
    "from matplotlib.ticker import FormatStrFormatter\n",
    "import cPickle as pickle\n",
    "from Bio.SeqUtils import GC\n",
    "import seaborn as sns\n",
    "import random\n",
    "from scipy.stats import pearsonr\n",
    "from skbio.diversity.alpha import shannon, simpson, berger_parker_d\n",
    "\n",
    "from pop_organize import get_sample_data, get_sample_with_dfs\n",
    "from SufficientStatistics import *\n",
    "from MyFunctionsShani import *\n",
    "import math\n",
    "from myplots import roundup, rounddown, find_decimal_fold\n",
    "from skbio.stats.distance import mantel\n",
    "from scipy.spatial.distance import braycurtis, pdist\n",
    "from GeneralFeaturePhenotypeInteractions.Feature_phenotype_functions import *\n",
    "from SampleFileFunctions import *\n",
    "from tunneltoamazondb import getengine\n",
    "from pandas import concat, read_csv, Series, read_sql\n",
    "\n",
    "MyPath='/net/mraid08/export/genie/Lab/Personal/ShaniBAF'"
   ]
  },
  {
   "cell_type": "code",
   "execution_count": null,
   "metadata": {
    "ExecuteTime": {
     "end_time": "2018-06-13T11:49:37.210563Z",
     "start_time": "2018-06-13T11:49:37.201036Z"
    }
   },
   "outputs": [],
   "source": [
    "import time\n",
    "cdate=str(time.strftime(\"%d%m%Y\"))\n",
    "cdate"
   ]
  },
  {
   "cell_type": "markdown",
   "metadata": {},
   "source": [
    "# generate sample lists:"
   ]
  },
  {
   "cell_type": "markdown",
   "metadata": {},
   "source": [
    "## currently used lists:"
   ]
  },
  {
   "cell_type": "markdown",
   "metadata": {},
   "source": [
    "### PNP530list"
   ]
  },
  {
   "cell_type": "code",
   "execution_count": null,
   "metadata": {
    "ExecuteTime": {
     "end_time": "2018-06-13T12:02:41.958568Z",
     "start_time": "2018-06-13T12:02:41.830070Z"
    }
   },
   "outputs": [],
   "source": [
    "folder='/net/mraid08/export/genie/Lab/Personal/ShaniBAF/TCR_real_data/SamplesForAnalysis_corrected'\n",
    "PNP530= [f for f in listdir(folder) if isfile(join(folder, f))]\n",
    "PNP530=[sample.replace('.tsv','') for sample in PNP530]\n",
    "print len(PNP530)\n",
    "PNP530[:5]"
   ]
  },
  {
   "cell_type": "code",
   "execution_count": null,
   "metadata": {
    "ExecuteTime": {
     "end_time": "2018-06-13T12:02:42.290698Z",
     "start_time": "2018-06-13T12:02:42.282905Z"
    }
   },
   "outputs": [],
   "source": [
    "PNP530edited=editSampleNamesList(PNP530)\n",
    "PNP530edited[:20]"
   ]
  },
  {
   "cell_type": "code",
   "execution_count": null,
   "metadata": {
    "ExecuteTime": {
     "end_time": "2018-06-13T12:02:42.566992Z",
     "start_time": "2018-06-13T12:02:42.549212Z"
    }
   },
   "outputs": [],
   "source": [
    "# check whether there are two replicates of the same sample in the list:\n",
    "for n,sample in enumerate(PNP530):\n",
    "            if '_' in sample:\n",
    "                NewName=sample.split('_')[0]\n",
    "                PNP530[n]=NewName\n",
    "            else:\n",
    "                NewName=sample\n",
    "            if 'b' in NewName:\n",
    "                NewName=NewName.split('b')[0]\n",
    "                PNP530[n]=NewName\n",
    "PNP530[:5]    \n",
    "    "
   ]
  },
  {
   "cell_type": "code",
   "execution_count": null,
   "metadata": {
    "ExecuteTime": {
     "end_time": "2018-06-13T12:02:42.897741Z",
     "start_time": "2018-06-13T12:02:42.892760Z"
    }
   },
   "outputs": [],
   "source": [
    "print len(PNP530)\n",
    "print len(set(PNP530))"
   ]
  },
  {
   "cell_type": "markdown",
   "metadata": {},
   "source": [
    "CONCLUSION: there are no two replicates of the same sample in the list!"
   ]
  },
  {
   "cell_type": "code",
   "execution_count": null,
   "metadata": {
    "ExecuteTime": {
     "end_time": "2018-06-13T12:02:43.941039Z",
     "start_time": "2018-06-13T12:02:43.934604Z"
    }
   },
   "outputs": [],
   "source": [
    "with open('/net/mraid08/export/genie/Lab/Personal/ShaniBAF/Sample files/BD lists/PNP530','wb') as fp:\n",
    "    pickle.dump(PNP530,fp)"
   ]
  },
  {
   "cell_type": "code",
   "execution_count": null,
   "metadata": {
    "ExecuteTime": {
     "end_time": "2018-06-13T12:02:44.302623Z",
     "start_time": "2018-06-13T12:02:44.293744Z"
    }
   },
   "outputs": [],
   "source": [
    "with open('/net/mraid08/export/genie/Lab/Personal/ShaniBAF/Sample files/BD lists/PNP530','rb') as fp:\n",
    "    PNP530=pickle.load(fp)\n",
    "print len(PNP530)\n",
    "PNP530[:5]"
   ]
  },
  {
   "cell_type": "raw",
   "metadata": {},
   "source": []
  },
  {
   "cell_type": "markdown",
   "metadata": {},
   "source": [
    "### Cardio126list"
   ]
  },
  {
   "cell_type": "code",
   "execution_count": null,
   "metadata": {
    "ExecuteTime": {
     "end_time": "2018-06-13T12:02:49.234319Z",
     "start_time": "2018-06-13T12:02:49.198637Z"
    }
   },
   "outputs": [],
   "source": [
    "folder='/net/mraid08/export/genie/Lab/Personal/ShaniBAF/TCR_real_data/CardioSamples/SamplesForAnalysis_corrected'\n",
    "Cardio126= [f for f in listdir(folder) if isfile(join(folder, f))]\n",
    "Cardio126=[sample.replace('.tsv','') for sample in Cardio126]\n",
    "print len(Cardio126)\n",
    "Cardio126[:5]"
   ]
  },
  {
   "cell_type": "code",
   "execution_count": null,
   "metadata": {
    "ExecuteTime": {
     "end_time": "2018-06-13T11:56:24.383522Z",
     "start_time": "2018-06-13T11:56:24.366268Z"
    },
    "scrolled": true
   },
   "outputs": [],
   "source": [
    "# check whether there are two replicates of the same sample in the list:\n",
    "for n,sample in enumerate(Cardio126):\n",
    "            if '_' in sample:\n",
    "                NewName=sample.split('_')[0]\n",
    "                Cardio126[n]=NewName\n",
    "            else:\n",
    "                NewName=sample\n",
    "            if 'b' in NewName:\n",
    "                NewName=NewName.split('b')[0]\n",
    "                Cardio126[n]=NewName\n",
    "Cardio126[:5]    \n",
    "    "
   ]
  },
  {
   "cell_type": "code",
   "execution_count": null,
   "metadata": {
    "ExecuteTime": {
     "end_time": "2018-06-13T11:56:25.364763Z",
     "start_time": "2018-06-13T11:56:25.357453Z"
    }
   },
   "outputs": [],
   "source": [
    "print len(Cardio126)\n",
    "print len(set(Cardio126))"
   ]
  },
  {
   "cell_type": "markdown",
   "metadata": {},
   "source": [
    "CONCLUSION: there are no two replicates of the same sample in the list!"
   ]
  },
  {
   "cell_type": "code",
   "execution_count": null,
   "metadata": {
    "ExecuteTime": {
     "end_time": "2018-06-13T11:56:35.423851Z",
     "start_time": "2018-06-13T11:56:35.414586Z"
    }
   },
   "outputs": [],
   "source": [
    "with open('/net/mraid08/export/genie/Lab/Personal/ShaniBAF/Sample files/BD lists/Cardio126','wb') as fp:\n",
    "    pickle.dump(Cardio126,fp)"
   ]
  },
  {
   "cell_type": "code",
   "execution_count": null,
   "metadata": {
    "ExecuteTime": {
     "end_time": "2018-06-13T11:56:45.720631Z",
     "start_time": "2018-06-13T11:56:45.704494Z"
    }
   },
   "outputs": [],
   "source": [
    "with open('/net/mraid08/export/genie/Lab/Personal/ShaniBAF/Sample files/BD lists/Cardio126','rb') as fp:\n",
    "    Cardio126=pickle.load(fp)\n",
    "print len(Cardio126)\n",
    "Cardio126[:5]"
   ]
  },
  {
   "cell_type": "markdown",
   "metadata": {},
   "source": [
    "### reseq plate2:"
   ]
  },
  {
   "cell_type": "code",
   "execution_count": null,
   "metadata": {
    "ExecuteTime": {
     "end_time": "2018-06-13T12:22:59.281615Z",
     "start_time": "2018-06-13T12:22:59.177717Z"
    }
   },
   "outputs": [],
   "source": [
    "file_fullPath='%s/Sample files/reseqPlate2samples.xlsx' %MyPath\n",
    "reseqPlate2=gen_py_BD_list(file_fullPath)\n",
    "reseqPlate2[:5]"
   ]
  },
  {
   "cell_type": "code",
   "execution_count": null,
   "metadata": {
    "ExecuteTime": {
     "end_time": "2018-06-13T12:22:59.430163Z",
     "start_time": "2018-06-13T12:22:59.421304Z"
    }
   },
   "outputs": [],
   "source": [
    "with open('%s/Sample files/BD lists/reseqPlate2' %MyPath,'wb') as fp:\n",
    "    pickle.dump(reseqPlate2,fp)"
   ]
  },
  {
   "cell_type": "markdown",
   "metadata": {},
   "source": [
    "### reseq plate3:"
   ]
  },
  {
   "cell_type": "code",
   "execution_count": null,
   "metadata": {
    "ExecuteTime": {
     "end_time": "2018-06-13T12:22:59.906071Z",
     "start_time": "2018-06-13T12:22:59.869438Z"
    }
   },
   "outputs": [],
   "source": [
    "file_fullPath='%s/Sample files/reseqPlate3samples.xlsx' %MyPath\n",
    "reseqPlate3=gen_py_BD_list(file_fullPath)\n",
    "reseqPlate3[:5]"
   ]
  },
  {
   "cell_type": "code",
   "execution_count": null,
   "metadata": {
    "ExecuteTime": {
     "end_time": "2018-06-13T12:23:00.234856Z",
     "start_time": "2018-06-13T12:23:00.229393Z"
    }
   },
   "outputs": [],
   "source": [
    "with open('%s/Sample files/BD lists/reseqPlate3' %MyPath,'wb') as fp:\n",
    "    pickle.dump(reseqPlate3,fp)"
   ]
  },
  {
   "cell_type": "markdown",
   "metadata": {},
   "source": [
    "## lists currently not in use:"
   ]
  },
  {
   "cell_type": "markdown",
   "metadata": {},
   "source": [
    "### plate8:"
   ]
  },
  {
   "cell_type": "code",
   "execution_count": null,
   "metadata": {},
   "outputs": [],
   "source": [
    "file1='/net/mraid08/export/genie/Lab/Personal/ShaniBAF/Sample files/Plate8 samples.xlsx'\n",
    "Plate8samples=pd.read_excel(file1)\n",
    "Plate8samples['Samples']=Plate8samples['Samples'].astype(str)\n",
    "Plate8samples['Samples'].dtype"
   ]
  },
  {
   "cell_type": "code",
   "execution_count": null,
   "metadata": {},
   "outputs": [],
   "source": []
  },
  {
   "cell_type": "code",
   "execution_count": null,
   "metadata": {},
   "outputs": [],
   "source": [
    "Plate8samples_list=list(Plate8samples['Samples'])\n",
    "with open('/net/mraid08/export/genie/Lab/Personal/ShaniBAF/Sample files/BD lists/Plate8samples_list','wb') as fp:\n",
    "    pickle.dump(Plate8samples_list,fp)"
   ]
  },
  {
   "cell_type": "code",
   "execution_count": null,
   "metadata": {},
   "outputs": [],
   "source": [
    "print len(Plate8samples_list)"
   ]
  },
  {
   "cell_type": "markdown",
   "metadata": {},
   "source": [
    "### wait for cleaning"
   ]
  },
  {
   "cell_type": "code",
   "execution_count": null,
   "metadata": {},
   "outputs": [],
   "source": [
    "file1='/net/mraid08/export/genie/Lab/Personal/ShaniBAF/Sample files/samplesToClean_010218.xlsx'\n",
    "samplesToClean_010218=pd.read_excel(file1)\n",
    "samplesToClean_010218['DnaID']=samplesToClean_010218['DnaID'].astype(str)\n",
    "samplesToClean_010218['DnaID'].dtype"
   ]
  },
  {
   "cell_type": "code",
   "execution_count": null,
   "metadata": {},
   "outputs": [],
   "source": [
    "samplesToClean_010218_list=list(samplesToClean_010218['DnaID'])\n",
    "with open('/net/mraid08/export/genie/Lab/Personal/ShaniBAF/Sample files/BD lists/samplesToClean_010218_list','wb') as fp:\n",
    "    pickle.dump(samplesToClean_010218_list,fp)"
   ]
  },
  {
   "cell_type": "markdown",
   "metadata": {},
   "source": [
    "### wait for cleaning including the samples with comments:"
   ]
  },
  {
   "cell_type": "code",
   "execution_count": null,
   "metadata": {},
   "outputs": [],
   "source": [
    "file1='/net/mraid08/export/genie/Lab/Personal/ShaniBAF/Sample files/samplesToClean_withComments.xlsx'\n",
    "samplesToClean_withComments=pd.read_excel(file1)"
   ]
  },
  {
   "cell_type": "code",
   "execution_count": null,
   "metadata": {},
   "outputs": [],
   "source": [
    "samplesToClean_withComments.head()"
   ]
  },
  {
   "cell_type": "code",
   "execution_count": null,
   "metadata": {},
   "outputs": [],
   "source": [
    "samplesToClean_withComments_list=list(samplesToClean_withComments['DnaID'])"
   ]
  },
  {
   "cell_type": "code",
   "execution_count": null,
   "metadata": {},
   "outputs": [],
   "source": [
    "with open('/net/mraid08/export/genie/Lab/Personal/ShaniBAF/Sample files/BD lists/samplesToClean_withComments_list','wb') as fp:\n",
    "    pickle.dump(samplesToClean_withComments_list,fp)"
   ]
  },
  {
   "cell_type": "code",
   "execution_count": null,
   "metadata": {},
   "outputs": [],
   "source": []
  },
  {
   "cell_type": "markdown",
   "metadata": {},
   "source": [
    "### cardio list:"
   ]
  },
  {
   "cell_type": "code",
   "execution_count": null,
   "metadata": {},
   "outputs": [],
   "source": [
    "cardioList=[\"BD950\",\"BD951\",\"BD952\",\"BD953\",\"BD955\",\"BD956\",\"BD957\",\"BD958\",\"BD959\",\"BD962\",\"BD963\",\"BD964\",\"BD965\",\"BD967\",\n",
    "                           \"BD971\",\"BD973\",\"BD974\",\"BD978\",\"BD979\",\"BD980\",\"BD982\",\"BD983\",\"BD984\",\"BD985\",\"BD986\"]"
   ]
  },
  {
   "cell_type": "code",
   "execution_count": null,
   "metadata": {},
   "outputs": [],
   "source": [
    "print len(cardioList)"
   ]
  },
  {
   "cell_type": "code",
   "execution_count": null,
   "metadata": {},
   "outputs": [],
   "source": [
    "with open('/net/mraid08/export/genie/Lab/Personal/ShaniBAF/Sample files/BD lists/cardioList','wb') as fp:\n",
    "    pickle.dump(cardioList,fp)"
   ]
  },
  {
   "cell_type": "markdown",
   "metadata": {},
   "source": [
    "### plate9:"
   ]
  },
  {
   "cell_type": "markdown",
   "metadata": {},
   "source": [
    "!!!!!Add pnp samples to plate9 list and update all files!!!!"
   ]
  },
  {
   "cell_type": "code",
   "execution_count": null,
   "metadata": {},
   "outputs": [],
   "source": [
    "plate9_file_fullPath='/net/mraid08/export/genie/Lab/Personal/ShaniBAF/Sample files/plate9BDs.xlsx'"
   ]
  },
  {
   "cell_type": "code",
   "execution_count": null,
   "metadata": {},
   "outputs": [],
   "source": [
    "plate9_allCardio=gen_py_BD_list(plate9_file_fullPath)"
   ]
  },
  {
   "cell_type": "markdown",
   "metadata": {},
   "source": [
    "### all PNp samples"
   ]
  },
  {
   "cell_type": "code",
   "execution_count": null,
   "metadata": {},
   "outputs": [],
   "source": [
    "allPNPlist=['BD'+str(x) for x in range(1,951)]"
   ]
  },
  {
   "cell_type": "code",
   "execution_count": null,
   "metadata": {},
   "outputs": [],
   "source": [
    "with open('/net/mraid08/export/genie/Lab/Personal/ShaniBAF/Sample files/BD lists/allPNPlist','wb') as fp:\n",
    "    pickle.dump(allPNPlist,fp)"
   ]
  },
  {
   "cell_type": "code",
   "execution_count": null,
   "metadata": {},
   "outputs": [],
   "source": []
  },
  {
   "cell_type": "markdown",
   "metadata": {},
   "source": [
    "### comment df:"
   ]
  },
  {
   "cell_type": "markdown",
   "metadata": {},
   "source": [
    "this df is intended to include all sample information I acheive and is not organized well:"
   ]
  },
  {
   "cell_type": "code",
   "execution_count": null,
   "metadata": {},
   "outputs": [],
   "source": [
    "#generate dictionary - ADD SAMPLE:COMMENTS PAIRS HERE###\n",
    "commentDict={'BD105':'was cleaned in plate3 but from unknown reason was not PCR-ed and sequenced',\n",
    "            'BD106':'was cleaned in plate3 but from unknown reason was not PCR-ed and sequenced',\n",
    "            'BD109': 'cleaned in plate3, not enough DNA after cleanup','BD114': 'cleaned in plate3, not enough DNA after cleanup',\n",
    "            'BD115': 'cleaned in plate3, not enough DNA after cleanup','BD117': 'cleaned in plate3, not enough DNA after cleanup',\n",
    "            'BD152': 'cleaned in plate3, not enough DNA after cleanup','BD169': 'cleaned in plate3, not enough DNA after cleanup',\n",
    "            'BD174': 'cleaned in plate3, not enough DNA after cleanup','BD152':'cleaned in plate3, not enough DNA after cleanup',\n",
    "             'BD155':'cleaned in plate3, not enough DNA after cleanup','BD189':'cleaned in plate3, not enough DNA after cleanup',\n",
    "             'BD199':'not enough DNA left for cleanup','BD214':'not enough DNA left for cleanup',\n",
    "             'BD216': 'not enough DNA left for cleanup','BD217':'not enough DNA left for cleanup',\n",
    "             'BD223': 'not enough DNA after cleanup','BD224':'not enough DNA after cleanup',\n",
    "             'BD270': 'doesnt appear in the cleanup file', 'BD278': 'doesnt appear in the cleanup file',\n",
    "             'BD281': 'doesnt appear in the cleanup file','BD287': 'doesnt appear in the cleanup file',\n",
    "             'BD291': 'doesnt appear in the cleanup file',  'BD296': 'doesnt appear in the cleanup file',\n",
    "             'BD300': 'doesnt appear in the cleanup file','BD318': 'doesnt appear in the cleanup file',\n",
    "             'BD320': 'doesnt appear in the cleanup file','BD324': 'doesnt appear in the cleanup file',\n",
    "             'BD176': 'cleaned in plate3, not enough DNA after cleanup',\n",
    "             'BD182': 'cleaned in plate3, not enough DNA after cleanup',\n",
    "             'BD187': 'cleaned in plate3, not enough DNA after cleanup',\n",
    "            'BD813':'cleaned in plate12, not enough DNA after cleanup','BD814':'cleaned in plate12, not enough DNA after cleanup',\n",
    "            'BD815':'cleaned in plate12, not enough DNA after cleanup','BD818':'cleaned in plate12, not enough DNA after cleanup',\n",
    "            'BD819':'cleaned in plate12, not enough DNA after cleanup','BD824':'cleaned in plate12, not enough DNA after cleanup',\n",
    "            'BD827':'cleaned in plate15, not enough DNA after cleanup','BD853':'cleaned in plate15, not enough DNA after cleanup',\n",
    "            'BD866':'cleaned in plate12, not enough DNA after cleanup'}"
   ]
  },
  {
   "cell_type": "code",
   "execution_count": null,
   "metadata": {},
   "outputs": [],
   "source": [
    "commentDF=pd.DataFrame({'BD':commentDict.keys(),'Sample Comments':commentDict.values()})"
   ]
  },
  {
   "cell_type": "code",
   "execution_count": null,
   "metadata": {},
   "outputs": [],
   "source": [
    "f1='/net/mraid08/export/genie/Lab/Personal/ShaniBAF/Sample files/BD lists/commentDF'\n",
    "commentDF.to_pickle(f1)"
   ]
  },
  {
   "cell_type": "markdown",
   "metadata": {},
   "source": [
    "### pnp434 list:"
   ]
  },
  {
   "cell_type": "code",
   "execution_count": null,
   "metadata": {
    "ExecuteTime": {
     "end_time": "2018-06-13T12:02:39.578955Z",
     "start_time": "2018-06-13T12:02:39.529187Z"
    }
   },
   "outputs": [],
   "source": [
    "with open('/net/mraid08/export/genie/Lab/Personal/ShaniBAF/Sample files/BD lists/PNP434samples','rb') as fp:\n",
    "    PNP434samples=pickle.load(fp)\n",
    "print len(PNP434samples)\n",
    "PNP434samples[:5]"
   ]
  },
  {
   "cell_type": "code",
   "execution_count": null,
   "metadata": {
    "ExecuteTime": {
     "end_time": "2018-06-13T12:02:39.725555Z",
     "start_time": "2018-06-13T12:02:39.716061Z"
    }
   },
   "outputs": [],
   "source": [
    "'BD438' in PNP434samples"
   ]
  },
  {
   "cell_type": "markdown",
   "metadata": {},
   "source": [
    "### pnp490 list:"
   ]
  },
  {
   "cell_type": "code",
   "execution_count": null,
   "metadata": {
    "ExecuteTime": {
     "end_time": "2018-06-13T12:02:40.166891Z",
     "start_time": "2018-06-13T12:02:40.128201Z"
    }
   },
   "outputs": [],
   "source": [
    "with open('/net/mraid08/export/genie/Lab/Personal/ShaniBAF/Sample files/BD lists/PNP490','rb') as fp:\n",
    "    PNP490=pickle.load(fp)\n",
    "print len(PNP490)\n",
    "PNP490[:5]"
   ]
  },
  {
   "cell_type": "markdown",
   "metadata": {},
   "source": [
    "### PNP515list"
   ]
  },
  {
   "cell_type": "code",
   "execution_count": null,
   "metadata": {
    "ExecuteTime": {
     "end_time": "2018-06-13T12:17:28.550884Z",
     "start_time": "2018-06-13T12:17:28.542295Z"
    }
   },
   "outputs": [],
   "source": [
    "file1='/net/mraid08/export/genie/Lab/Personal/ShaniBAF/TCR_real_data/SamplesForAnalysis/BD760.tsv'\n",
    "file2='/net/mraid08/export/genie/Lab/Personal/ShaniBAF/TCR_real_data/SamplesForAnalysis/BD1.tsv'\n",
    "t1=time.ctime(os.path.getmtime(file1))\n",
    "t2=time.ctime(os.path.getmtime(file2))\n",
    "print t1,t2"
   ]
  },
  {
   "cell_type": "code",
   "execution_count": null,
   "metadata": {
    "ExecuteTime": {
     "end_time": "2018-06-13T12:17:43.623070Z",
     "start_time": "2018-06-13T12:17:43.615518Z"
    }
   },
   "outputs": [],
   "source": [
    "t1<t2"
   ]
  },
  {
   "cell_type": "code",
   "execution_count": null,
   "metadata": {
    "ExecuteTime": {
     "end_time": "2018-06-13T12:20:24.099268Z",
     "start_time": "2018-06-13T12:20:24.091467Z"
    }
   },
   "outputs": [],
   "source": [
    "print t1\n"
   ]
  },
  {
   "cell_type": "code",
   "execution_count": null,
   "metadata": {
    "ExecuteTime": {
     "end_time": "2018-06-13T12:19:00.060356Z",
     "start_time": "2018-06-13T12:18:59.919947Z"
    }
   },
   "outputs": [],
   "source": [
    "folder='/net/mraid08/export/genie/Lab/Personal/ShaniBAF/TCR_real_data/SamplesForAnalysis'\n",
    "PNP515= [f for f in listdir(folder) if (isfile(join(folder, f)))&(time.ctime(os.path.getmtime(join(folder, f)))<t1)]\n",
    "PNP515=[sample.replace('.tsv','') for sample in PNP515]\n",
    "print len(PNP515)\n",
    "PNP515[:5]"
   ]
  },
  {
   "cell_type": "code",
   "execution_count": null,
   "metadata": {
    "ExecuteTime": {
     "end_time": "2018-06-13T12:02:40.533241Z",
     "start_time": "2018-06-13T12:02:40.524098Z"
    }
   },
   "outputs": [],
   "source": [
    "PNP515edited=editSampleNamesList(PNP515)\n",
    "PNP515edited[:20]"
   ]
  },
  {
   "cell_type": "code",
   "execution_count": null,
   "metadata": {
    "ExecuteTime": {
     "end_time": "2018-06-13T12:02:40.772166Z",
     "start_time": "2018-06-13T12:02:40.761231Z"
    }
   },
   "outputs": [],
   "source": [
    "# check whether there are two replicates of the same sample in the list:\n",
    "for n,sample in enumerate(PNP515):\n",
    "            if '_' in sample:\n",
    "                NewName=sample.split('_')[0]\n",
    "                PNP515[n]=NewName\n",
    "            else:\n",
    "                NewName=sample\n",
    "            if 'b' in NewName:\n",
    "                NewName=NewName.split('b')[0]\n",
    "                PNP515[n]=NewName\n",
    "PNP515[:5]    \n",
    "    "
   ]
  },
  {
   "cell_type": "code",
   "execution_count": null,
   "metadata": {
    "ExecuteTime": {
     "end_time": "2018-06-13T12:02:41.102378Z",
     "start_time": "2018-06-13T12:02:41.097761Z"
    }
   },
   "outputs": [],
   "source": [
    "print len(PNP515)\n",
    "print len(set(PNP515))"
   ]
  },
  {
   "cell_type": "markdown",
   "metadata": {},
   "source": [
    "CONCLUSION: there are no two replicates of the same sample in the list!"
   ]
  },
  {
   "cell_type": "code",
   "execution_count": null,
   "metadata": {
    "ExecuteTime": {
     "end_time": "2018-06-13T12:02:41.276073Z",
     "start_time": "2018-06-13T12:02:41.269356Z"
    }
   },
   "outputs": [],
   "source": [
    "with open('/net/mraid08/export/genie/Lab/Personal/ShaniBAF/Sample files/BD lists/PNP515','wb') as fp:\n",
    "    pickle.dump(PNP515,fp)"
   ]
  },
  {
   "cell_type": "code",
   "execution_count": null,
   "metadata": {
    "ExecuteTime": {
     "end_time": "2018-06-13T12:02:41.443839Z",
     "start_time": "2018-06-13T12:02:41.435084Z"
    }
   },
   "outputs": [],
   "source": [
    "with open('/net/mraid08/export/genie/Lab/Personal/ShaniBAF/Sample files/BD lists/PNP515','rb') as fp:\n",
    "    PNP515=pickle.load(fp)\n",
    "print len(PNP515)\n",
    "PNP490[:5]"
   ]
  },
  {
   "cell_type": "markdown",
   "metadata": {},
   "source": [
    "### Cardio91list"
   ]
  },
  {
   "cell_type": "code",
   "execution_count": null,
   "metadata": {
    "ExecuteTime": {
     "end_time": "2018-06-13T12:02:45.305005Z",
     "start_time": "2018-06-13T12:02:45.254976Z"
    }
   },
   "outputs": [],
   "source": [
    "folder='/net/mraid08/export/genie/Lab/Personal/ShaniBAF/TCR_real_data/CardioSamples/SamplesForAnalysis'\n",
    "Cardio91= [f for f in listdir(folder) if isfile(join(folder, f))]\n",
    "Cardio91=[sample.replace('.tsv','') for sample in Cardio91]\n",
    "print len(Cardio91)\n",
    "Cardio91[:5]"
   ]
  },
  {
   "cell_type": "code",
   "execution_count": null,
   "metadata": {
    "ExecuteTime": {
     "end_time": "2018-06-13T12:02:45.627636Z",
     "start_time": "2018-06-13T12:02:45.611576Z"
    },
    "scrolled": true
   },
   "outputs": [],
   "source": [
    "# check whether there are two replicates of the same sample in the list:\n",
    "for n,sample in enumerate(Cardio91):\n",
    "            if '_' in sample:\n",
    "                NewName=sample.split('_')[0]\n",
    "                Cardio91[n]=NewName\n",
    "            else:\n",
    "                NewName=sample\n",
    "            if 'b' in NewName:\n",
    "                NewName=NewName.split('b')[0]\n",
    "                Cardio91[n]=NewName\n",
    "Cardio91[:5]    \n",
    "    "
   ]
  },
  {
   "cell_type": "code",
   "execution_count": null,
   "metadata": {
    "ExecuteTime": {
     "end_time": "2018-06-13T12:02:45.892021Z",
     "start_time": "2018-06-13T12:02:45.883478Z"
    }
   },
   "outputs": [],
   "source": [
    "print len(Cardio91)\n",
    "print len(set(Cardio91))"
   ]
  },
  {
   "cell_type": "markdown",
   "metadata": {},
   "source": [
    "CONCLUSION: there are no two replicates of the same sample in the list!"
   ]
  },
  {
   "cell_type": "code",
   "execution_count": null,
   "metadata": {
    "ExecuteTime": {
     "end_time": "2018-06-13T12:02:46.471621Z",
     "start_time": "2018-06-13T12:02:46.463490Z"
    }
   },
   "outputs": [],
   "source": [
    "with open('/net/mraid08/export/genie/Lab/Personal/ShaniBAF/Sample files/BD lists/Cardio91','wb') as fp:\n",
    "    pickle.dump(Cardio91,fp)"
   ]
  },
  {
   "cell_type": "code",
   "execution_count": null,
   "metadata": {
    "ExecuteTime": {
     "end_time": "2018-06-13T12:02:47.109695Z",
     "start_time": "2018-06-13T12:02:47.096203Z"
    }
   },
   "outputs": [],
   "source": [
    "with open('/net/mraid08/export/genie/Lab/Personal/ShaniBAF/Sample files/BD lists/Cardio91','rb') as fp:\n",
    "    Cardio91=pickle.load(fp)\n",
    "print len(Cardio91)\n",
    "Cardio91[:5]"
   ]
  },
  {
   "cell_type": "markdown",
   "metadata": {},
   "source": [
    "### add here more lists if necessary:"
   ]
  },
  {
   "cell_type": "code",
   "execution_count": null,
   "metadata": {},
   "outputs": [],
   "source": []
  },
  {
   "cell_type": "markdown",
   "metadata": {},
   "source": [
    "# generate table that sort all samples to their curent state:"
   ]
  },
  {
   "cell_type": "code",
   "execution_count": null,
   "metadata": {
    "ExecuteTime": {
     "end_time": "2018-06-13T12:01:14.597565Z",
     "start_time": "2018-06-13T12:01:14.590812Z"
    }
   },
   "outputs": [],
   "source": [
    "from tunneltoamazondb import getengine\n",
    "from pandas import concat, read_csv, Series, read_sql"
   ]
  },
  {
   "cell_type": "code",
   "execution_count": null,
   "metadata": {
    "ExecuteTime": {
     "end_time": "2018-06-13T12:01:21.396406Z",
     "start_time": "2018-06-13T12:01:15.503710Z"
    }
   },
   "outputs": [],
   "source": [
    "allBDnames = read_sql('select  DnaID from Lab.hostdna', getengine())\n",
    "allBDnames.head()"
   ]
  },
  {
   "cell_type": "code",
   "execution_count": null,
   "metadata": {
    "ExecuteTime": {
     "end_time": "2018-06-13T12:01:21.544050Z",
     "start_time": "2018-06-13T12:01:21.531644Z"
    }
   },
   "outputs": [],
   "source": [
    "print len(allBDnames)\n",
    "print allBDnames.nunique()"
   ]
  },
  {
   "cell_type": "code",
   "execution_count": null,
   "metadata": {
    "ExecuteTime": {
     "end_time": "2018-06-13T12:01:21.791220Z",
     "start_time": "2018-06-13T12:01:21.675465Z"
    }
   },
   "outputs": [],
   "source": [
    "#remove None's and nan's:\n",
    "from numpy import nan\n",
    "allBDnames_noDups=allBDnames.drop_duplicates()\n",
    "allBDnames_noDups['DnaID']=allBDnames_noDups['DnaID'].replace('None',np.nan)\n",
    "allBDnames_noDups=allBDnames_noDups.dropna()\n",
    "print len(allBDnames_noDups)"
   ]
  },
  {
   "cell_type": "code",
   "execution_count": null,
   "metadata": {
    "ExecuteTime": {
     "end_time": "2018-06-13T12:01:21.952909Z",
     "start_time": "2018-06-13T12:01:21.940598Z"
    }
   },
   "outputs": [],
   "source": [
    "allBDnames_noDups.sort_values(by='DnaID')[-5:]"
   ]
  },
  {
   "cell_type": "markdown",
   "metadata": {},
   "source": [
    "### generate the table itself:"
   ]
  },
  {
   "cell_type": "code",
   "execution_count": null,
   "metadata": {
    "ExecuteTime": {
     "end_time": "2018-06-13T12:01:27.009794Z",
     "start_time": "2018-06-13T12:01:26.983670Z"
    }
   },
   "outputs": [],
   "source": [
    "# generate the df and its index:\n",
    "AllBDsamplesSummary=pd.DataFrame(index=allBDnames_noDups['DnaID'])\n",
    "AllBDsamplesSummary.head()"
   ]
  },
  {
   "cell_type": "code",
   "execution_count": null,
   "metadata": {
    "ExecuteTime": {
     "end_time": "2018-06-13T12:23:10.025170Z",
     "start_time": "2018-06-13T12:23:08.753608Z"
    }
   },
   "outputs": [],
   "source": [
    "#addd columns dictating sample status:\n",
    "### add new lists if necessary!!###\n",
    "for n in AllBDsamplesSummary.index:\n",
    "#     if n in PNP434samples:\n",
    "#         AllBDsamplesSummary.loc[n,'exist in PNP434']=1\n",
    "#     else:\n",
    "#         AllBDsamplesSummary.loc[n,'exist in PNP434']=0\n",
    "#     if n in PNP490:\n",
    "#         AllBDsamplesSummary.loc[n,'PNP490']=1\n",
    "#     else:\n",
    "#         AllBDsamplesSummary.loc[n,'PNP490']=0\n",
    "#     if n in PNP515:\n",
    "#         AllBDsamplesSummary.loc[n,'PNP515']=1\n",
    "#     else:\n",
    "#         AllBDsamplesSummary.loc[n,'PNP515']=0\n",
    "    if n in PNP530:\n",
    "        AllBDsamplesSummary.loc[n,'PNP530']=1\n",
    "    else:\n",
    "        AllBDsamplesSummary.loc[n,'PNP530']=0\n",
    "#     if n in Cardio91:\n",
    "#         AllBDsamplesSummary.loc[n,'Cardio91']=1\n",
    "#     else:\n",
    "#         AllBDsamplesSummary.loc[n,'Cardio91']=0\n",
    "    if n in Cardio126:\n",
    "        AllBDsamplesSummary.loc[n,'Cardio126']=1\n",
    "    else:\n",
    "        AllBDsamplesSummary.loc[n,'Cardio126']=0\n",
    "    if n in reseqPlate2:\n",
    "        AllBDsamplesSummary.loc[n,'reseqPlate2']=1\n",
    "    else:\n",
    "        AllBDsamplesSummary.loc[n,'reseqPlate2']=0\n",
    "    if n in reseqPlate3:\n",
    "        AllBDsamplesSummary.loc[n,'reseqPlate3']=1\n",
    "    else:\n",
    "        AllBDsamplesSummary.loc[n,'reseqPlate3']=0\n",
    "#     if n in samplesToResequence_010218_list:\n",
    "#         AllBDsamplesSummary.loc[n,'awaits resequencing']=1\n",
    "#     else:\n",
    "#         AllBDsamplesSummary.loc[n,'awaits resequencing']=0\n",
    "#     if n in samplesToClean_010218_list:\n",
    "#         AllBDsamplesSummary.loc[n,'awaits recleaning']=1\n",
    "#     else:\n",
    "#         AllBDsamplesSummary.loc[n,'awaits recleaning']=0\n",
    "#     if n in Plate8samples_list:\n",
    "#         AllBDsamplesSummary.loc[n,'Plate8']=1\n",
    "#     else:\n",
    "#         AllBDsamplesSummary.loc[n,'Plate8']=0\n",
    "#     if n in cardioList:\n",
    "#         AllBDsamplesSummary.loc[n,'cardioList']=1\n",
    "#     else:\n",
    "#         AllBDsamplesSummary.loc[n,'cardioList']=0\n",
    "#     if n in plate9_allCardio:\n",
    "#         AllBDsamplesSummary.loc[n,'plate9_allCardio']=1\n",
    "#     else:\n",
    "#         AllBDsamplesSummary.loc[n,'plate9_allCardio']=0\n",
    "\n",
    "# AllBDsamplesSummary=pd.merge(AllBDsamplesSummary,samplesToClean_withComments,how='left',\n",
    "#                             left_index=True,right_on='DnaID')\n",
    "\n",
    "# AllBDsamplesSummary=AllBDsamplesSummary.set_index('DnaID').sort_index(axis=0)\n",
    "\n",
    "print len(AllBDsamplesSummary)\n",
    "AllBDsamplesSummary.head(10)\n",
    "    \n",
    "    "
   ]
  },
  {
   "cell_type": "code",
   "execution_count": null,
   "metadata": {
    "ExecuteTime": {
     "end_time": "2018-06-13T12:23:26.849842Z",
     "start_time": "2018-06-13T12:23:26.795139Z"
    }
   },
   "outputs": [],
   "source": [
    "AllBDsamplesSummary.tail(20)"
   ]
  },
  {
   "cell_type": "code",
   "execution_count": null,
   "metadata": {
    "ExecuteTime": {
     "end_time": "2018-06-13T12:23:29.742791Z",
     "start_time": "2018-06-13T12:23:29.738298Z"
    }
   },
   "outputs": [],
   "source": [
    "# AllBDsamplesSummary[AllBDsamplesSummary['Comments'].notnull()].head()"
   ]
  },
  {
   "cell_type": "code",
   "execution_count": null,
   "metadata": {
    "ExecuteTime": {
     "end_time": "2018-06-13T12:23:31.657256Z",
     "start_time": "2018-06-13T12:23:31.266722Z"
    }
   },
   "outputs": [],
   "source": [
    "file6='/net/mraid08/export/genie/Lab/Personal/ShaniBAF/Sample files/AllBDsamplesSummary.xlsx'\n",
    "AllBDsamplesSummary.to_excel(file6)"
   ]
  },
  {
   "cell_type": "markdown",
   "metadata": {},
   "source": [
    "# get studyTypeID for each BD sample:"
   ]
  },
  {
   "cell_type": "markdown",
   "metadata": {},
   "source": [
    "1. generate a table with UserIDs and an studyTypeID for each - look which users have more than one study and if they have BDs.\n",
    "2.if there are BDs linked to userIDs with more than one study, assign study manually to the BD. \n",
    "3.merge studyID with the total BD summary table and see whether there are missing samples in PNP1\n",
    "4.summarize everything\n",
    "\n",
    "5.prepare a summarizing table for the cardio samples\n"
   ]
  },
  {
   "cell_type": "code",
   "execution_count": null,
   "metadata": {
    "ExecuteTime": {
     "end_time": "2018-06-13T12:23:33.419284Z",
     "start_time": "2018-06-13T12:23:33.217217Z"
    }
   },
   "outputs": [],
   "source": [
    "#load BD summary file\n",
    "file6='/net/mraid08/export/genie/Lab/Personal/ShaniBAF/Sample files/AllBDsamplesSummary.xlsx'\n",
    "AllBDsamplesSummary=pd.read_excel(file6)\n",
    "AllBDsamplesSummary.head()"
   ]
  },
  {
   "cell_type": "code",
   "execution_count": null,
   "metadata": {
    "ExecuteTime": {
     "end_time": "2018-06-13T12:23:34.232480Z",
     "start_time": "2018-06-13T12:23:33.595707Z"
    }
   },
   "outputs": [],
   "source": [
    "#load BD-FD-userID table:\n",
    "file1='/net/mraid08/export/genie/Lab/Personal/ShaniBAF/Sample files/BD_FD_sample_conversion_withSPIDs.xlsx'\n",
    "BD_FD_sample_conversion_withSPIDs=pd.read_excel(file1)\n",
    "BD_FD_sample_conversion_withSPIDs.head()"
   ]
  },
  {
   "cell_type": "code",
   "execution_count": null,
   "metadata": {
    "ExecuteTime": {
     "end_time": "2018-06-13T12:23:34.491387Z",
     "start_time": "2018-06-13T12:23:34.473772Z"
    }
   },
   "outputs": [],
   "source": [
    "#generate a table with BD numbers and their respective studyType. if not integer, it means that there \n",
    "# were several study types per BD number. probably 1 &2:\n",
    "BDstudyType=BD_FD_sample_conversion_withSPIDs.groupby('BD').StudyTypeID.mean()\n",
    "BDstudyType=pd.DataFrame(BDstudyType)\n",
    "print len(BDstudyType)\n",
    "BDstudyType.head()"
   ]
  },
  {
   "cell_type": "code",
   "execution_count": null,
   "metadata": {
    "ExecuteTime": {
     "end_time": "2018-06-13T12:23:34.760237Z",
     "start_time": "2018-06-13T12:23:34.746221Z"
    }
   },
   "outputs": [],
   "source": [
    "BDstudyType.tail()"
   ]
  },
  {
   "cell_type": "code",
   "execution_count": null,
   "metadata": {
    "ExecuteTime": {
     "end_time": "2018-06-13T12:23:35.058558Z",
     "start_time": "2018-06-13T12:23:35.011339Z"
    }
   },
   "outputs": [],
   "source": [
    "#merge the summarizing BD table with the studyType:\n",
    "AllBDsamplesSummary_withStudyType=pd.merge(AllBDsamplesSummary,BDstudyType,how='left',\n",
    "                                          left_on='DnaID',right_index=True)\n",
    "AllBDsamplesSummary_withStudyType.head(20)\n"
   ]
  },
  {
   "cell_type": "code",
   "execution_count": null,
   "metadata": {
    "ExecuteTime": {
     "end_time": "2018-06-13T12:23:35.352158Z",
     "start_time": "2018-06-13T12:23:35.341085Z"
    }
   },
   "outputs": [],
   "source": [
    "AllBDsamplesSummary_withStudyType.groupby('StudyTypeID').DnaID.nunique()"
   ]
  },
  {
   "cell_type": "code",
   "execution_count": null,
   "metadata": {
    "ExecuteTime": {
     "end_time": "2018-06-13T12:23:36.014389Z",
     "start_time": "2018-06-13T12:23:35.635353Z"
    }
   },
   "outputs": [],
   "source": [
    "file1='/net/mraid08/export/genie/Lab/Personal/ShaniBAF/Sample files/AllBDsamplesSummary_withStudyType.xlsx'\n",
    "AllBDsamplesSummary_withStudyType.to_excel(file1)"
   ]
  },
  {
   "cell_type": "markdown",
   "metadata": {},
   "source": [
    "# merge with relationship information:"
   ]
  },
  {
   "cell_type": "code",
   "execution_count": null,
   "metadata": {
    "ExecuteTime": {
     "end_time": "2018-06-13T12:23:36.552519Z",
     "start_time": "2018-06-13T12:23:36.306444Z"
    }
   },
   "outputs": [],
   "source": [
    "#load BD list:\n",
    "file1='/net/mraid08/export/genie/Lab/Personal/ShaniBAF/Sample files/AllBDsamplesSummary_withStudyType.xlsx'\n",
    "AllBDsamplesSummary_withStudyType=pd.read_excel(file1)\n",
    "print len(AllBDsamplesSummary_withStudyType)\n",
    "AllBDsamplesSummary_withStudyType.head()\n"
   ]
  },
  {
   "cell_type": "code",
   "execution_count": null,
   "metadata": {
    "ExecuteTime": {
     "end_time": "2018-06-13T12:23:52.080914Z",
     "start_time": "2018-06-13T12:23:51.923377Z"
    }
   },
   "outputs": [],
   "source": [
    "#load relationship information:\n",
    "file6='/net/mraid08/export/genie/Lab/Personal/ShaniBAF/Sample files/GenRelationsWithBDs_moreBDs3.xlsx'\n",
    "GenRelationsWithBDs_moreBDs3=pd.read_excel(file6)\n",
    "print len(GenRelationsWithBDs_moreBDs3)\n",
    "GenRelationsWithBDs_moreBDs3.head()"
   ]
  },
  {
   "cell_type": "markdown",
   "metadata": {},
   "source": [
    "### add relationship information to BD list:"
   ]
  },
  {
   "cell_type": "code",
   "execution_count": null,
   "metadata": {
    "ExecuteTime": {
     "end_time": "2018-06-13T12:23:56.224052Z",
     "start_time": "2018-06-13T12:23:56.161569Z"
    }
   },
   "outputs": [],
   "source": [
    "#add relationship information to BD list:\n",
    "AllBDsamplesSummary_withRelationInfo=pd.merge(AllBDsamplesSummary_withStudyType,GenRelationsWithBDs_moreBDs3,how='left',\n",
    "                                             left_on='DnaID',right_on='DnaID')\n",
    "print len(AllBDsamplesSummary_withRelationInfo)\n",
    "AllBDsamplesSummary_withRelationInfo.head()\n"
   ]
  },
  {
   "cell_type": "code",
   "execution_count": null,
   "metadata": {
    "ExecuteTime": {
     "end_time": "2018-06-13T12:23:56.759377Z",
     "start_time": "2018-06-13T12:23:56.751680Z"
    }
   },
   "outputs": [],
   "source": [
    "#drop duplicate BDs:\n",
    "AllBDsamplesSummary_withRelationInfo2=AllBDsamplesSummary_withRelationInfo.drop_duplicates(subset=['DnaID'])\n",
    "print len(AllBDsamplesSummary_withRelationInfo2)"
   ]
  },
  {
   "cell_type": "code",
   "execution_count": null,
   "metadata": {
    "ExecuteTime": {
     "end_time": "2018-06-13T12:23:59.656839Z",
     "start_time": "2018-06-13T12:23:59.130239Z"
    }
   },
   "outputs": [],
   "source": [
    "file1='/net/mraid08/export/genie/Lab/Personal/ShaniBAF/Sample files/AllBDsamplesSummary_withRelationInfo.xlsx'\n",
    "AllBDsamplesSummary_withRelationInfo2.to_excel(file1)"
   ]
  },
  {
   "cell_type": "markdown",
   "metadata": {},
   "source": [
    "### add BD status to relationship info:"
   ]
  },
  {
   "cell_type": "code",
   "execution_count": null,
   "metadata": {
    "ExecuteTime": {
     "end_time": "2018-06-13T12:24:00.115639Z",
     "start_time": "2018-06-13T12:24:00.075771Z"
    }
   },
   "outputs": [],
   "source": [
    "GenRelationsWithBDs_SampleStatus=pd.merge(GenRelationsWithBDs_moreBDs3,AllBDsamplesSummary_withStudyType,how='left',\n",
    "                                             left_on='DnaID',right_on='DnaID')\n",
    "print len(GenRelationsWithBDs_SampleStatus)\n",
    "GenRelationsWithBDs_SampleStatus.head()"
   ]
  },
  {
   "cell_type": "code",
   "execution_count": null,
   "metadata": {
    "ExecuteTime": {
     "end_time": "2018-06-13T12:24:00.600938Z",
     "start_time": "2018-06-13T12:24:00.593661Z"
    }
   },
   "outputs": [],
   "source": [
    "#drop duplicate BDs:\n",
    "GenRelationsWithBDs_SampleStatus2=GenRelationsWithBDs_SampleStatus.drop_duplicates(subset=['DnaID','correctRegNum'])\n",
    "print len(GenRelationsWithBDs_SampleStatus2)"
   ]
  },
  {
   "cell_type": "code",
   "execution_count": null,
   "metadata": {
    "ExecuteTime": {
     "end_time": "2018-06-13T12:24:01.214891Z",
     "start_time": "2018-06-13T12:24:01.061044Z"
    }
   },
   "outputs": [],
   "source": [
    "file1='/net/mraid08/export/genie/Lab/Personal/ShaniBAF/Sample files/GenRelationsWithBDs_SampleStatus.xlsx'\n",
    "GenRelationsWithBDs_SampleStatus2.to_excel(file1)"
   ]
  },
  {
   "cell_type": "markdown",
   "metadata": {},
   "source": [
    "# merge with comments DF:"
   ]
  },
  {
   "cell_type": "code",
   "execution_count": null,
   "metadata": {
    "ExecuteTime": {
     "end_time": "2018-06-13T12:24:01.872049Z",
     "start_time": "2018-06-13T12:24:01.682198Z"
    }
   },
   "outputs": [],
   "source": [
    "#load BD file:\n",
    "file1='/net/mraid08/export/genie/Lab/Personal/ShaniBAF/Sample files/AllBDsamplesSummary_withRelationInfo.xlsx'\n",
    "AllBDsamplesSummary_withRelationInfo2=pd.read_excel(file1)"
   ]
  },
  {
   "cell_type": "code",
   "execution_count": null,
   "metadata": {
    "ExecuteTime": {
     "end_time": "2018-06-13T12:24:04.565194Z",
     "start_time": "2018-06-13T12:24:04.529959Z"
    }
   },
   "outputs": [],
   "source": [
    "#load comments:\n",
    "file1='/net/mraid08/export/genie/Lab/Personal/ShaniBAF/Sample files/BD lists/commentDF'\n",
    "commentDF=pd.read_pickle(file1)"
   ]
  },
  {
   "cell_type": "code",
   "execution_count": null,
   "metadata": {
    "ExecuteTime": {
     "end_time": "2018-06-13T12:24:05.305203Z",
     "start_time": "2018-06-13T12:24:05.265714Z"
    }
   },
   "outputs": [],
   "source": [
    "AllBDsamplesSummary_withRelation_withComments=pd.merge(AllBDsamplesSummary_withRelationInfo2,commentDF,\n",
    "                                                      how='left',left_on='DnaID', right_on='BD')\n",
    "AllBDsamplesSummary_withRelation_withComments.head()"
   ]
  },
  {
   "cell_type": "code",
   "execution_count": null,
   "metadata": {
    "ExecuteTime": {
     "end_time": "2018-06-13T12:24:05.909162Z",
     "start_time": "2018-06-13T12:24:05.902042Z"
    }
   },
   "outputs": [],
   "source": [
    "AllBDsamplesSummary_withRelation_withComments[AllBDsamplesSummary_withRelation_withComments['Sample Comments'].notnull()]\n",
    "AllBDsamplesSummary_withRelation_withComments=AllBDsamplesSummary_withRelation_withComments.drop('BD', axis=1)"
   ]
  },
  {
   "cell_type": "code",
   "execution_count": null,
   "metadata": {
    "ExecuteTime": {
     "end_time": "2018-06-13T12:24:07.121116Z",
     "start_time": "2018-06-13T12:24:06.497043Z"
    }
   },
   "outputs": [],
   "source": [
    "file1='/net/mraid08/export/genie/Lab/Personal/ShaniBAF/Sample files/AllBDsamplesSummary_withRelation_withComments.xlsx'\n",
    "AllBDsamplesSummary_withRelation_withComments.to_excel(file1)"
   ]
  },
  {
   "cell_type": "markdown",
   "metadata": {},
   "source": [
    "# generate comprehensive PNP BD summary\n",
    "inclusing wet lab information and sequencing information"
   ]
  },
  {
   "cell_type": "markdown",
   "metadata": {},
   "source": [
    "### generate df with all existing BD numbers:"
   ]
  },
  {
   "cell_type": "code",
   "execution_count": null,
   "metadata": {
    "ExecuteTime": {
     "end_time": "2018-06-13T12:44:30.281214Z",
     "start_time": "2018-06-13T12:44:24.202212Z"
    }
   },
   "outputs": [],
   "source": [
    "#check duplicated BD numbers:\n",
    "allBDnamesCheck = read_sql('select  * from Lab.hostdna', getengine())\n",
    "allBD_duplicated=allBDnamesCheck[allBDnamesCheck.duplicated(subset='DnaID',keep=False)]\n",
    "allBD_duplicated"
   ]
  },
  {
   "cell_type": "code",
   "execution_count": null,
   "metadata": {
    "ExecuteTime": {
     "end_time": "2018-06-13T12:44:33.099093Z",
     "start_time": "2018-06-13T12:44:31.395083Z"
    }
   },
   "outputs": [],
   "source": [
    "#check which BD is the last in the database:\n",
    "allBDnames = read_sql('select  DnaID from Lab.hostdna', getengine())\n",
    "allBDnames['index']=allBDnames['DnaID'].str.replace('BD','')\n",
    "allBDnames['index']=allBDnames['index'].astype('float64')\n",
    "allBDnames=allBDnames.sort_values(by='index',ascending=False)\n",
    "print len(allBDnames)\n",
    "allBDnames.head()\n",
    "\n",
    "# (the length of DB is longer than the number of BDs due to several 'None' rows in the db.\n",
    "# see former cell)"
   ]
  },
  {
   "cell_type": "code",
   "execution_count": null,
   "metadata": {
    "ExecuteTime": {
     "end_time": "2018-06-13T12:44:34.236475Z",
     "start_time": "2018-06-13T12:44:34.232177Z"
    }
   },
   "outputs": [],
   "source": [
    "#generate list of all BDs from 1 to 1099:\n",
    "BDlist=['BD'+str(x) for x in range(1,1100)]"
   ]
  },
  {
   "cell_type": "code",
   "execution_count": null,
   "metadata": {
    "ExecuteTime": {
     "end_time": "2018-06-13T12:44:35.403507Z",
     "start_time": "2018-06-13T12:44:35.376995Z"
    }
   },
   "outputs": [],
   "source": [
    "#generate df from this list:\n",
    "BDdfIndex=pd.DataFrame({'BD':BDlist,'BDindex':range(1,1100)})\n",
    "print len(BDdfIndex)\n",
    "BDdfIndex.head()"
   ]
  },
  {
   "cell_type": "code",
   "execution_count": null,
   "metadata": {
    "ExecuteTime": {
     "end_time": "2018-06-13T12:44:36.431031Z",
     "start_time": "2018-06-13T12:44:36.425682Z"
    }
   },
   "outputs": [],
   "source": [
    "#add 'study type'indication:\n",
    "BDdfIndex['Study']=np.where(BDdfIndex['BDindex']<950,'PNP','Cardio')"
   ]
  },
  {
   "cell_type": "markdown",
   "metadata": {},
   "source": [
    "### add wetlab summary information:"
   ]
  },
  {
   "cell_type": "code",
   "execution_count": null,
   "metadata": {
    "ExecuteTime": {
     "end_time": "2018-06-13T12:45:28.973075Z",
     "start_time": "2018-06-13T12:45:28.606124Z"
    }
   },
   "outputs": [],
   "source": [
    "#load existing wet lab summary:\n",
    "f1='/net/mraid08/export/genie/Lab/ImmunologyProject/BD samples summary files/CleanUpAndPCRplateSummary.xlsx'\n",
    "CleanUpAndPCRplateSummary=pd.read_excel(f1)\n",
    "print len(CleanUpAndPCRplateSummary)\n",
    "CleanUpAndPCRplateSummary.head()"
   ]
  },
  {
   "cell_type": "code",
   "execution_count": null,
   "metadata": {
    "ExecuteTime": {
     "end_time": "2018-06-13T12:45:30.172275Z",
     "start_time": "2018-06-13T12:45:30.147332Z"
    }
   },
   "outputs": [],
   "source": [
    "# check for complete duplicates:\n",
    "CleanUpAndPCRplateSummary[CleanUpAndPCRplateSummary.duplicated()]"
   ]
  },
  {
   "cell_type": "code",
   "execution_count": null,
   "metadata": {
    "ExecuteTime": {
     "end_time": "2018-06-13T12:45:31.500836Z",
     "start_time": "2018-06-13T12:45:31.493627Z"
    }
   },
   "outputs": [],
   "source": [
    "#drop nan rows:\n",
    "CleanUpAndPCRplateSummary=CleanUpAndPCRplateSummary[CleanUpAndPCRplateSummary['BD'].notnull()]\n",
    "print len(CleanUpAndPCRplateSummary)"
   ]
  },
  {
   "cell_type": "code",
   "execution_count": null,
   "metadata": {
    "ExecuteTime": {
     "end_time": "2018-06-13T12:46:19.610728Z",
     "start_time": "2018-06-13T12:46:19.365626Z"
    }
   },
   "outputs": [],
   "source": [
    "#look for samples that appear more than once in the file:\n",
    "print len(CleanUpAndPCRplateSummary[CleanUpAndPCRplateSummary.duplicated(subset='BD',keep=False)].sort_values(by='BDindex'))\n",
    "CleanUpAndPCRplateSummary[CleanUpAndPCRplateSummary.duplicated(subset='BD',keep=False)].sort_values(by='BDindex')"
   ]
  },
  {
   "cell_type": "code",
   "execution_count": null,
   "metadata": {
    "ExecuteTime": {
     "end_time": "2018-06-13T12:46:21.048352Z",
     "start_time": "2018-06-13T12:46:21.039745Z"
    }
   },
   "outputs": [],
   "source": [
    "#add indication for existing in this file:\n",
    "CleanUpAndPCRplateSummary['inOriginalFile']=1"
   ]
  },
  {
   "cell_type": "code",
   "execution_count": null,
   "metadata": {
    "ExecuteTime": {
     "end_time": "2018-06-13T12:47:40.254739Z",
     "start_time": "2018-06-13T12:47:40.191666Z"
    }
   },
   "outputs": [],
   "source": [
    "#merge the existing file with the list of all BDs from 1 to 1099, to find BDs that do not appear in this list:\n",
    "#use how=outer to enable samples that were cleaned more than once. \n",
    "allBDnumbersWetLab=pd.merge(BDdfIndex,CleanUpAndPCRplateSummary,how='outer',left_on='BD',right_on='BD')\n",
    "print allBDnumbersWetLab.head()\n",
    "allBDnumbersWetLab=allBDnumbersWetLab.sort_values(by='BDindex_x')"
   ]
  },
  {
   "cell_type": "code",
   "execution_count": null,
   "metadata": {
    "ExecuteTime": {
     "end_time": "2018-06-13T12:47:50.172108Z",
     "start_time": "2018-06-13T12:47:50.158121Z"
    }
   },
   "outputs": [],
   "source": [
    "print len(BDdfIndex)\n",
    "print len(CleanUpAndPCRplateSummary)\n",
    "print CleanUpAndPCRplateSummary['BD'].nunique()\n",
    "print len(allBDnumbersWetLab)"
   ]
  },
  {
   "cell_type": "code",
   "execution_count": null,
   "metadata": {
    "ExecuteTime": {
     "end_time": "2018-06-13T12:48:09.510864Z",
     "start_time": "2018-06-13T12:48:09.495593Z"
    }
   },
   "outputs": [],
   "source": [
    "#how many duplicated rows in the merged file:\n",
    "print len(allBDnumbersWetLab[allBDnumbersWetLab.duplicated(subset='BD',keep=False)].sort_values(by='BDindex_x'))\n",
    "#no duplicate were added during merging!"
   ]
  },
  {
   "cell_type": "markdown",
   "metadata": {},
   "source": [
    "### add cleaning indications, comments and generate need-to-clean file:"
   ]
  },
  {
   "cell_type": "code",
   "execution_count": null,
   "metadata": {
    "ExecuteTime": {
     "end_time": "2018-06-13T12:48:14.305631Z",
     "start_time": "2018-06-13T12:48:14.221767Z"
    }
   },
   "outputs": [],
   "source": [
    "#add indications for samples that were cleaned or not\n",
    "allBDnumbersWetLab['Cleaned']=np.where(allBDnumbersWetLab['CleanUp plate'].notnull(),1,0)\n",
    "allBDnumbersWetLab.head()"
   ]
  },
  {
   "cell_type": "code",
   "execution_count": null,
   "metadata": {
    "ExecuteTime": {
     "end_time": "2018-06-13T12:50:55.261360Z",
     "start_time": "2018-06-13T12:50:55.166895Z"
    }
   },
   "outputs": [],
   "source": [
    "# add comments why not cleaned from Michal's file: ###check if there is a newer file to use here!\n",
    "f1='/net/mraid08/export/genie/Lab/ImmunologyProject/BD samples summary files/notCleaned_08042018.xlsx'\n",
    "notCleaned_08042018=pd.read_excel(f1)\n",
    "notCleaned_08042018.head()"
   ]
  },
  {
   "cell_type": "code",
   "execution_count": null,
   "metadata": {
    "ExecuteTime": {
     "end_time": "2018-06-13T12:51:01.624290Z",
     "start_time": "2018-06-13T12:51:01.537262Z"
    }
   },
   "outputs": [],
   "source": [
    "#merge reason for not cleaning into the main file:\n",
    "print len(allBDnumbersWetLab)\n",
    "notCleaned_small=notCleaned_08042018[['BD','Why not cleaned?']]\n",
    "allBDnumbersWetLab=pd.merge(allBDnumbersWetLab,notCleaned_small,how='left', \n",
    "                           left_on='BD', right_on='BD')\n",
    "print len(allBDnumbersWetLab)\n",
    "allBDnumbersWetLab.head()"
   ]
  },
  {
   "cell_type": "code",
   "execution_count": null,
   "metadata": {
    "ExecuteTime": {
     "end_time": "2018-06-13T12:51:11.755666Z",
     "start_time": "2018-06-13T12:51:11.743391Z"
    }
   },
   "outputs": [],
   "source": [
    "notCleaned=allBDnumbersWetLab[allBDnumbersWetLab['Cleaned']==0]\n",
    "print len(notCleaned)"
   ]
  },
  {
   "cell_type": "code",
   "execution_count": null,
   "metadata": {
    "ExecuteTime": {
     "end_time": "2018-06-13T12:51:19.959708Z",
     "start_time": "2018-06-13T12:51:19.783041Z"
    }
   },
   "outputs": [],
   "source": [
    "#save samples that were not cleaned:\n",
    "f1='/net/mraid08/export/genie/Lab/ImmunologyProject/BD samples summary files/notCleaned_%s.xlsx' %cdate\n",
    "notCleaned.to_excel(f1)"
   ]
  },
  {
   "cell_type": "code",
   "execution_count": null,
   "metadata": {
    "ExecuteTime": {
     "end_time": "2018-06-13T12:51:21.367818Z",
     "start_time": "2018-06-13T12:51:21.324718Z"
    }
   },
   "outputs": [],
   "source": [
    "allBDnumbersWetLab[allBDnumbersWetLab['BD']=='BD109']"
   ]
  },
  {
   "cell_type": "markdown",
   "metadata": {},
   "source": [
    "### generate PCR indications and lists:"
   ]
  },
  {
   "cell_type": "code",
   "execution_count": null,
   "metadata": {
    "ExecuteTime": {
     "end_time": "2018-06-13T12:51:26.746348Z",
     "start_time": "2018-06-13T12:51:26.662355Z"
    }
   },
   "outputs": [],
   "source": [
    "#add indications for samples that were taken for PCR:\n",
    "allBDnumbersWetLab['takenForPCR']=np.where(allBDnumbersWetLab['PCR Plate'].notnull(),1,0)\n",
    "allBDnumbersWetLab.head()"
   ]
  },
  {
   "cell_type": "code",
   "execution_count": null,
   "metadata": {
    "ExecuteTime": {
     "end_time": "2018-06-13T12:51:28.376632Z",
     "start_time": "2018-06-13T12:51:28.368499Z"
    }
   },
   "outputs": [],
   "source": [
    "#test how many samples were cleaned but not taken for PCR:\n",
    "print len(allBDnumbersWetLab[(allBDnumbersWetLab['Cleaned']==1)&(allBDnumbersWetLab['takenForPCR']==0)])\n",
    "# currently 292 samples"
   ]
  },
  {
   "cell_type": "code",
   "execution_count": null,
   "metadata": {
    "ExecuteTime": {
     "end_time": "2018-06-13T12:51:33.802314Z",
     "start_time": "2018-06-13T12:51:33.789451Z"
    }
   },
   "outputs": [],
   "source": [
    "#check how many and which samples were clean with resulting concentratio of above 27ng/ul and were not taken for PCR:\n",
    "\n",
    "notTakenEnoughConc=allBDnumbersWetLab[(allBDnumbersWetLab['Cleaned']==1)&(allBDnumbersWetLab['takenForPCR']==0)&(allBDnumbersWetLab['ng/ul after cleanUp']>27)]\n",
    "print len(notTakenEnoughConc)\n",
    "notTakenEnoughConc['BD'].unique()\n"
   ]
  },
  {
   "cell_type": "code",
   "execution_count": null,
   "metadata": {
    "ExecuteTime": {
     "end_time": "2018-06-13T12:51:42.152197Z",
     "start_time": "2018-06-13T12:51:42.080050Z"
    }
   },
   "outputs": [],
   "source": [
    "#check if any of this sample has duplicate that was taken:\n",
    "needToPCR=[]\n",
    "for sample in list(notTakenEnoughConc['BD']):\n",
    "    sampleDF=allBDnumbersWetLab[allBDnumbersWetLab['BD']==sample]\n",
    "    PCR_DF=sampleDF[sampleDF['PCR Plate'].notnull()]\n",
    "#     print sample, len(sampleDF),len(PCR_DF)\n",
    "    if len(PCR_DF)==0:\n",
    "        print sample\n",
    "        needToPCR.append(sample)\n",
    "allBDnumbersWetLab['needToPCR']=np.where(allBDnumbersWetLab['BD'].isin(needToPCR),1,0)"
   ]
  },
  {
   "cell_type": "code",
   "execution_count": null,
   "metadata": {
    "ExecuteTime": {
     "end_time": "2018-06-13T12:51:58.615402Z",
     "start_time": "2018-06-13T12:51:58.544289Z"
    }
   },
   "outputs": [],
   "source": [
    "needToPCRdf=allBDnumbersWetLab[allBDnumbersWetLab['needToPCR']==1]\n",
    "needToPCRdf"
   ]
  },
  {
   "cell_type": "code",
   "execution_count": null,
   "metadata": {
    "ExecuteTime": {
     "end_time": "2018-06-13T12:52:00.597874Z",
     "start_time": "2018-06-13T12:52:00.559245Z"
    }
   },
   "outputs": [],
   "source": [
    "#save need to PCR samples:\n",
    "f1='/net/mraid08/export/genie/Lab/ImmunologyProject/BD samples summary files/needToPCRdf_%s.xlsx' %cdate\n",
    "needToPCRdf.to_excel(f1)"
   ]
  },
  {
   "cell_type": "code",
   "execution_count": null,
   "metadata": {},
   "outputs": [],
   "source": []
  },
  {
   "cell_type": "markdown",
   "metadata": {},
   "source": [
    "### merge with sequencing information"
   ]
  },
  {
   "cell_type": "code",
   "execution_count": null,
   "metadata": {
    "ExecuteTime": {
     "end_time": "2018-06-13T12:52:05.076039Z",
     "start_time": "2018-06-13T12:52:04.805904Z"
    }
   },
   "outputs": [],
   "source": [
    "#load sequencing information:\n",
    "file1='/net/mraid08/export/genie/Lab/Personal/ShaniBAF/Sample files/AllBDsamplesSummary_withRelation_withComments.xlsx'\n",
    "AllBDsamplesSummary_withComments=pd.read_excel(file1)\n",
    "AllBDsamplesSummary_withComments.head()\n"
   ]
  },
  {
   "cell_type": "code",
   "execution_count": null,
   "metadata": {
    "ExecuteTime": {
     "end_time": "2018-06-13T12:52:44.496970Z",
     "start_time": "2018-06-13T12:52:44.487708Z"
    }
   },
   "outputs": [],
   "source": [
    "#take only relevant columns:\n",
    "AllBDsamplesSummary_withComments_small=AllBDsamplesSummary_withComments[['DnaID','PNP530',\n",
    "                                                                         'Cardio126','reseqPlate2',\n",
    "                                                                         'reseqPlate3','StudyTypeID','Relations',\n",
    "                                                                         'Sample Comments']]"
   ]
  },
  {
   "cell_type": "markdown",
   "metadata": {},
   "source": [
    "### merge wet lab and sequencing lab info:"
   ]
  },
  {
   "cell_type": "code",
   "execution_count": null,
   "metadata": {
    "ExecuteTime": {
     "end_time": "2018-06-13T12:52:47.629648Z",
     "start_time": "2018-06-13T12:52:47.548197Z"
    }
   },
   "outputs": [],
   "source": [
    "\n",
    "allBDnumbersWetAndSeqInfo=pd.merge(allBDnumbersWetLab,AllBDsamplesSummary_withComments_small,how='left',\n",
    "                                  left_on='BD',right_on='DnaID')\n",
    "allBDnumbersWetAndSeqInfo.head()\n"
   ]
  },
  {
   "cell_type": "code",
   "execution_count": null,
   "metadata": {
    "ExecuteTime": {
     "end_time": "2018-06-13T12:52:49.376968Z",
     "start_time": "2018-06-13T12:52:49.372178Z"
    }
   },
   "outputs": [],
   "source": [
    "print len(allBDnumbersWetLab)\n",
    "print len(AllBDsamplesSummary_withComments_small)\n",
    "print len(allBDnumbersWetAndSeqInfo)"
   ]
  },
  {
   "cell_type": "markdown",
   "metadata": {},
   "source": [
    "# check which samples are not in pnp530 or awaits reseq but were PCRed:"
   ]
  },
  {
   "cell_type": "code",
   "execution_count": null,
   "metadata": {
    "ExecuteTime": {
     "end_time": "2018-06-13T12:53:05.945310Z",
     "start_time": "2018-06-13T12:53:05.855626Z"
    }
   },
   "outputs": [],
   "source": [
    "\n",
    "allBDnumbersWetAndSeqInfo['inSeqPipeline']=allBDnumbersWetAndSeqInfo['PNP530']+\\\n",
    "allBDnumbersWetAndSeqInfo['reseqPlate2']+allBDnumbersWetAndSeqInfo['reseqPlate3']\n",
    "allBDnumbersWetAndSeqInfo.head()"
   ]
  },
  {
   "cell_type": "code",
   "execution_count": null,
   "metadata": {
    "ExecuteTime": {
     "end_time": "2018-06-13T12:53:22.141277Z",
     "start_time": "2018-06-13T12:53:22.127901Z"
    }
   },
   "outputs": [],
   "source": [
    "PNPnotFinishedPipeline=allBDnumbersWetAndSeqInfo[(allBDnumbersWetAndSeqInfo['inSeqPipeline']\\\n",
    "==0)&(allBDnumbersWetAndSeqInfo['takenForPCR']==1)&(allBDnumbersWetAndSeqInfo['BDindex_x']<950)]"
   ]
  },
  {
   "cell_type": "code",
   "execution_count": null,
   "metadata": {
    "ExecuteTime": {
     "end_time": "2018-06-13T12:53:24.234244Z",
     "start_time": "2018-06-13T12:53:24.222093Z"
    }
   },
   "outputs": [],
   "source": [
    "PNPnotFinishedPipeline['PCR Plate'].value_counts()"
   ]
  },
  {
   "cell_type": "code",
   "execution_count": null,
   "metadata": {
    "ExecuteTime": {
     "end_time": "2018-06-13T12:53:43.694856Z",
     "start_time": "2018-06-13T12:53:43.659088Z"
    }
   },
   "outputs": [],
   "source": [
    "PNPnotFinishedPipeline[['BD','PCR Plate','PNP530','reseqPlate2','reseqPlate3','inSeqPipeline']]"
   ]
  },
  {
   "cell_type": "markdown",
   "metadata": {},
   "source": [
    "### add analysis comments for problematic samples"
   ]
  },
  {
   "cell_type": "code",
   "execution_count": null,
   "metadata": {
    "ExecuteTime": {
     "end_time": "2018-06-13T12:53:48.576772Z",
     "start_time": "2018-06-13T12:53:48.559208Z"
    }
   },
   "outputs": [],
   "source": [
    "for n in PNPnotFinishedPipeline.index:\n",
    "    allBDnumbersWetAndSeqInfo.loc[n,'data analysis comments']='sequenced and analyzed but\\\n",
    "    not included in cohort due to data problems'\n",
    "    "
   ]
  },
  {
   "cell_type": "code",
   "execution_count": null,
   "metadata": {
    "ExecuteTime": {
     "end_time": "2018-06-13T12:53:50.513438Z",
     "start_time": "2018-06-13T12:53:50.461126Z"
    }
   },
   "outputs": [],
   "source": [
    "allBDnumbersWetAndSeqInfo.tail()"
   ]
  },
  {
   "cell_type": "markdown",
   "metadata": {},
   "source": [
    "### clean file:"
   ]
  },
  {
   "cell_type": "code",
   "execution_count": null,
   "metadata": {
    "ExecuteTime": {
     "end_time": "2018-06-13T12:53:53.535726Z",
     "start_time": "2018-06-13T12:53:51.933711Z"
    }
   },
   "outputs": [],
   "source": [
    "# correct '#rows per BD' column:\n",
    "\n",
    "allBDnumbersWetAndSeqInfo['#rows per BD'] = allBDnumbersWetAndSeqInfo['BD']\\\n",
    ".apply(lambda x: allBDnumbersWetAndSeqInfo['BD'].value_counts()[x])\n",
    "\n",
    "# for n in allBDnumbersWetAndSeqInfo.index:\n",
    "#     BD=allBDnumbersWetAndSeqInfo.loc[n,'BD']\n",
    "#     rowsPerBD=\n",
    "#     allBDnumbersWetAndSeqInfo['#rows per BD']"
   ]
  },
  {
   "cell_type": "code",
   "execution_count": null,
   "metadata": {
    "ExecuteTime": {
     "end_time": "2018-06-13T12:53:54.973744Z",
     "start_time": "2018-06-13T12:53:54.968748Z"
    }
   },
   "outputs": [],
   "source": [
    "allBDnumbersWetAndSeqInfo.columns.values"
   ]
  },
  {
   "cell_type": "code",
   "execution_count": null,
   "metadata": {
    "ExecuteTime": {
     "end_time": "2018-06-13T12:54:52.890126Z",
     "start_time": "2018-06-13T12:54:52.879748Z"
    }
   },
   "outputs": [],
   "source": [
    "columns_to_keep=['BD', 'BDindex_x', 'Study_x','#rows per BD','reg num',\n",
    "        'DNA extraction kit','Cleaned', 'Why not cleaned?','CleanUp plate', \n",
    "        'Well in CleanUp Plate', 'CleanUpKit', u'ng/ul after cleanUp',\n",
    "        'Comments during cleanUp', 'Is more than 31ng/ul?','take for PCR',\n",
    "        'takenForPCR', 'needToPCR','PCR Plate','PCRComments', 'sequencing comments',\n",
    "        'inOriginalFile', 'PNP530','Cardio126','reseqPlate2', 'reseqPlate3',\n",
    "        'StudyTypeID', 'Relations', 'Sample Comments', 'inSeqPipeline',\n",
    "       'data analysis comments']"
   ]
  },
  {
   "cell_type": "code",
   "execution_count": null,
   "metadata": {
    "ExecuteTime": {
     "end_time": "2018-06-13T12:54:54.741053Z",
     "start_time": "2018-06-13T12:54:54.734400Z"
    }
   },
   "outputs": [],
   "source": [
    "allBDnumbersWetAndSeqInfo=allBDnumbersWetAndSeqInfo[columns_to_keep]"
   ]
  },
  {
   "cell_type": "code",
   "execution_count": null,
   "metadata": {
    "ExecuteTime": {
     "end_time": "2018-06-13T12:55:00.447263Z",
     "start_time": "2018-06-13T12:55:00.439221Z"
    }
   },
   "outputs": [],
   "source": [
    "allBDnumbersWetAndSeqInfo=allBDnumbersWetAndSeqInfo.sort_values(by='BDindex_x')"
   ]
  },
  {
   "cell_type": "markdown",
   "metadata": {},
   "source": [
    "### save combined file:"
   ]
  },
  {
   "cell_type": "code",
   "execution_count": null,
   "metadata": {
    "ExecuteTime": {
     "end_time": "2018-06-13T12:55:05.023060Z",
     "start_time": "2018-06-13T12:55:03.510687Z"
    }
   },
   "outputs": [],
   "source": [
    "\n",
    "f1='/net/mraid08/export/genie/Lab/ImmunologyProject/BD samples summary files/allBDnumbersWetAndSeqInfo_%s.xlsx' %cdate\n",
    "allBDnumbersWetAndSeqInfo.to_excel(f1)\n"
   ]
  },
  {
   "cell_type": "code",
   "execution_count": null,
   "metadata": {},
   "outputs": [],
   "source": []
  },
  {
   "cell_type": "code",
   "execution_count": null,
   "metadata": {},
   "outputs": [],
   "source": []
  },
  {
   "cell_type": "code",
   "execution_count": null,
   "metadata": {},
   "outputs": [],
   "source": []
  },
  {
   "cell_type": "markdown",
   "metadata": {},
   "source": [
    "# get some 'suspected pairs' for Noa"
   ]
  },
  {
   "cell_type": "code",
   "execution_count": null,
   "metadata": {},
   "outputs": [],
   "source": [
    "sample1List=['BD146','BD481','BD113','BD481','BD328','BD328','BD788','BD505','BD431','BD699','BD788','BD431']\n",
    "sample2List=['BD145','BD314','BD317','BD800','BD319','BD453','BD245','BD547','BD440','BD706','BD808','BD440']\n",
    "\n",
    "SuspectedPairs=pd.DataFrame({'sample1BD':sample1List,'sample2BD': sample2List})\n",
    "SuspectedPairs\n"
   ]
  },
  {
   "cell_type": "code",
   "execution_count": null,
   "metadata": {},
   "outputs": [],
   "source": [
    "file6='/net/mraid08/export/genie/Lab/Personal/ShaniBAF/Sample files/BD_date_correctReg_userID'\n",
    "BD_date_correctReg_userID=pd.read_pickle(file6)\n",
    "BD_date_correctReg_userID.head()"
   ]
  },
  {
   "cell_type": "code",
   "execution_count": null,
   "metadata": {},
   "outputs": [],
   "source": [
    "SuspectedPairs_withRegNums=pd.merge(SuspectedPairs,BD_date_correctReg_userID[['correct registration code','DnaID']],how='left',\n",
    "                                   left_on='sample1BD',right_on='DnaID')\n",
    "SuspectedPairs_withRegNums=SuspectedPairs_withRegNums.drop('DnaID',axis=1)\n",
    "SuspectedPairs_withRegNums=SuspectedPairs_withRegNums.rename(columns={'correct registration code':'sample1RegNum'})\n",
    "SuspectedPairs_withRegNums=pd.merge(SuspectedPairs_withRegNums,BD_date_correctReg_userID[['correct registration code','DnaID']],how='left',\n",
    "                                   left_on='sample2BD',right_on='DnaID')\n",
    "SuspectedPairs_withRegNums=SuspectedPairs_withRegNums.drop('DnaID',axis=1)\n",
    "SuspectedPairs_withRegNums=SuspectedPairs_withRegNums.rename(columns={'correct registration code':'sample2RegNum'})\n",
    "SuspectedPairs_withRegNums.head()"
   ]
  },
  {
   "cell_type": "code",
   "execution_count": null,
   "metadata": {},
   "outputs": [],
   "source": [
    "file6='/net/mraid08/export/genie/Lab/Personal/ShaniBAF/Sample files/SuspectedPairs_withRegNums.xlsx'\n",
    "SuspectedPairs_withRegNums.to_excel(file6)"
   ]
  },
  {
   "cell_type": "code",
   "execution_count": null,
   "metadata": {},
   "outputs": [],
   "source": []
  },
  {
   "cell_type": "markdown",
   "metadata": {},
   "source": [
    "# look for cardio samples that are not in plate8 or plate9:"
   ]
  },
  {
   "cell_type": "code",
   "execution_count": null,
   "metadata": {},
   "outputs": [],
   "source": [
    "df=AllBDsamplesSummary_withStudyType\n",
    "df['id']=df['DnaID'].str.replace('BD','').astype(int)\n",
    "df2=df[(df['id']>949)&(df['Plate8']==0)&(df['plate9_allCardio']==0)]\n",
    "print len(df2)"
   ]
  },
  {
   "cell_type": "code",
   "execution_count": null,
   "metadata": {},
   "outputs": [],
   "source": [
    "cardio_remaining=list(df2['DnaID'].sort_values())\n",
    "cardio_remaining"
   ]
  },
  {
   "cell_type": "code",
   "execution_count": null,
   "metadata": {},
   "outputs": [],
   "source": []
  },
  {
   "cell_type": "markdown",
   "metadata": {},
   "source": [
    "# develop: generate pythonic sample name list (string) from excel file"
   ]
  },
  {
   "cell_type": "code",
   "execution_count": null,
   "metadata": {},
   "outputs": [],
   "source": [
    "l=['3849571BD985','3137757BD986','3068162BD987']\n",
    "l\n"
   ]
  },
  {
   "cell_type": "code",
   "execution_count": null,
   "metadata": {},
   "outputs": [],
   "source": [
    "regex_BD=re.compile('..BD')"
   ]
  },
  {
   "cell_type": "code",
   "execution_count": null,
   "metadata": {},
   "outputs": [],
   "source": [
    "regex_BD"
   ]
  },
  {
   "cell_type": "code",
   "execution_count": null,
   "metadata": {},
   "outputs": [],
   "source": [
    "new=['BD'+x.split('BD')[1] for x in l if re.search(regex_BD,x)]\n",
    "new"
   ]
  },
  {
   "cell_type": "code",
   "execution_count": null,
   "metadata": {},
   "outputs": [],
   "source": [
    "## this function was copied to 'SampleFileFunctions.py' - use and update there!!##\n",
    "\n",
    "def gen_py_BD_list(file_fullPath):\n",
    "    BDdf=pd.read_excel(file_fullPath)\n",
    "    BDlist=list(BDdf.iloc[:,0])\n",
    "    regex_BD=re.compile('..BD')\n",
    "    BDlist_clean=['BD'+x.split('BD')[1] for x in BDlist if re.search(regex_BD,x)]\n",
    "    \n",
    "    return BDlist_clean\n",
    "    "
   ]
  },
  {
   "cell_type": "code",
   "execution_count": null,
   "metadata": {},
   "outputs": [],
   "source": [
    "file_fullPath='/net/mraid08/export/genie/Lab/Personal/ShaniBAF/Sample files/plate9BDs.xlsx'"
   ]
  },
  {
   "cell_type": "code",
   "execution_count": null,
   "metadata": {},
   "outputs": [],
   "source": [
    "BDlist_clean=gen_py_BD_list(file_fullPath)"
   ]
  },
  {
   "cell_type": "code",
   "execution_count": null,
   "metadata": {},
   "outputs": [],
   "source": [
    "BDlist_clean[2]"
   ]
  }
 ],
 "metadata": {
  "kernelspec": {
   "display_name": "Python 2",
   "language": "python",
   "name": "python2"
  },
  "language_info": {
   "codemirror_mode": {
    "name": "ipython",
    "version": 2
   },
   "file_extension": ".py",
   "mimetype": "text/x-python",
   "name": "python",
   "nbconvert_exporter": "python",
   "pygments_lexer": "ipython2",
   "version": "2.7.8"
  },
  "toc": {
   "nav_menu": {
    "height": "12px",
    "width": "160px"
   },
   "number_sections": true,
   "sideBar": false,
   "skip_h1_title": false,
   "toc_cell": false,
   "toc_position": {
    "height": "781px",
    "left": "6.93056px",
    "right": "979.83px",
    "top": "136.931px",
    "width": "21px"
   },
   "toc_section_display": "block",
   "toc_window_display": true
  },
  "varInspector": {
   "cols": {
    "lenName": 16,
    "lenType": 16,
    "lenVar": 40
   },
   "kernels_config": {
    "python": {
     "delete_cmd_postfix": "",
     "delete_cmd_prefix": "del ",
     "library": "var_list.py",
     "varRefreshCmd": "print(var_dic_list())"
    },
    "r": {
     "delete_cmd_postfix": ") ",
     "delete_cmd_prefix": "rm(",
     "library": "var_list.r",
     "varRefreshCmd": "cat(var_dic_list()) "
    }
   },
   "types_to_exclude": [
    "module",
    "function",
    "builtin_function_or_method",
    "instance",
    "_Feature"
   ],
   "window_display": false
  }
 },
 "nbformat": 4,
 "nbformat_minor": 2
}
