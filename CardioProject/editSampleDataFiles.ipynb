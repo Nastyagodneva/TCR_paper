{
 "cells": [
  {
   "cell_type": "markdown",
   "metadata": {},
   "source": [
    "# imports"
   ]
  },
  {
   "cell_type": "code",
   "execution_count": 1,
   "metadata": {
    "ExecuteTime": {
     "end_time": "2018-06-13T11:13:12.476622Z",
     "start_time": "2018-06-13T11:12:30.679467Z"
    }
   },
   "outputs": [
    {
     "name": "stdout",
     "output_type": "stream",
     "text": [
      "done1\n",
      "stop\n",
      "stop\n",
      "done1\n",
      "stop\n",
      "done\n",
      "done\n",
      "done\n"
     ]
    }
   ],
   "source": [
    "from os import listdir,mkdir,makedirs\n",
    "from os.path import isfile, join, isdir,exists\n",
    "import pandas as pd\n",
    "import numpy as np\n",
    "from scipy import stats\n",
    "import re\n",
    "import matplotlib.pyplot as plt\n",
    "from matplotlib.backends.backend_pdf import PdfPages\n",
    "from myplots import roundup, rounddown, find_decimal_fold, percentile_cut_off, rarefaction_calc, rarefaction_plot,draw_correlation_scatter\n",
    "from matplotlib.ticker import FormatStrFormatter\n",
    "import cPickle as pickle\n",
    "from Bio.SeqUtils import GC\n",
    "import seaborn as sns\n",
    "import random\n",
    "from scipy.stats import pearsonr\n",
    "from skbio.diversity.alpha import shannon, simpson, berger_parker_d\n",
    "\n",
    "from pop_organize import get_sample_data, get_sample_with_dfs\n",
    "from SufficientStatistics import *\n",
    "from MyFunctionsShani import *\n",
    "import math\n",
    "from myplots import roundup, rounddown, find_decimal_fold\n",
    "from skbio.stats.distance import mantel\n",
    "from scipy.spatial.distance import braycurtis, pdist\n",
    "from GeneralFeaturePhenotypeInteractions.Feature_phenotype_functions import * \n",
    "from TCR_microbiome_interactions.TCR_microbiome_interactions_functions import *\n",
    "from SampleLists.SampleFileFunctions import *\n",
    "\n",
    "MyPath='/net/mraid08/export/genie/Lab/Personal/ShaniBAF'"
   ]
  },
  {
   "cell_type": "code",
   "execution_count": 2,
   "metadata": {
    "ExecuteTime": {
     "end_time": "2018-06-13T11:13:13.147791Z",
     "start_time": "2018-06-13T11:13:13.138811Z"
    }
   },
   "outputs": [
    {
     "data": {
      "text/plain": [
       "'13062018'"
      ]
     },
     "execution_count": 2,
     "metadata": {},
     "output_type": "execute_result"
    }
   ],
   "source": [
    "import time\n",
    "cdate=str(time.strftime(\"%d%m%Y\"))\n",
    "cdate"
   ]
  },
  {
   "cell_type": "markdown",
   "metadata": {},
   "source": [
    "# function development and correction of PNP samples:"
   ]
  },
  {
   "cell_type": "markdown",
   "metadata": {},
   "source": [
    "samples analyzed on 25/2/18 and on, have errors in their column errors. \n",
    "therefore I take the correct column header from a correct sample (BD438), and check each sample to have the same column headers. if not, I correct them. in anycase, I save the sample in a folder called SamplesForAnalysis_corrected"
   ]
  },
  {
   "cell_type": "code",
   "execution_count": null,
   "metadata": {
    "ExecuteTime": {
     "end_time": "2018-06-13T10:51:13.207006Z",
     "start_time": "2018-06-13T10:51:12.975847Z"
    }
   },
   "outputs": [],
   "source": [
    "#get correct column headers:\n",
    "f='/net/mraid08/export/genie/Lab/Personal/ShaniBAF/TCR_real_data/SamplesForAnalysis/BD438.tsv'\n",
    "BD438=pd.read_table(f)\n",
    "right_column_names=BD438.columns.values\n",
    "newColumnList=right_column_names[:-3]"
   ]
  },
  {
   "cell_type": "code",
   "execution_count": null,
   "metadata": {
    "ExecuteTime": {
     "end_time": "2018-06-13T10:51:14.171151Z",
     "start_time": "2018-06-13T10:51:14.143589Z"
    }
   },
   "outputs": [],
   "source": [
    "#get file names to be checked:\n",
    "fullSamplesFolder='%s/TCR_real_data/SamplesForAnalysis' %MyPath\n",
    "files = [f for f in listdir(fullSamplesFolder) if isfile(join(fullSamplesFolder, f))]\n",
    "print 'number of samples in folder is %s' %len(files)"
   ]
  },
  {
   "cell_type": "code",
   "execution_count": null,
   "metadata": {
    "ExecuteTime": {
     "end_time": "2018-06-13T10:51:16.472143Z",
     "start_time": "2018-06-13T10:51:16.464216Z"
    }
   },
   "outputs": [],
   "source": [
    "#define the folder to save the corrected samples:\n",
    "newSamplesFolder='%s/TCR_real_data/SamplesForAnalysis_corrected' %MyPath"
   ]
  },
  {
   "cell_type": "code",
   "execution_count": null,
   "metadata": {
    "ExecuteTime": {
     "end_time": "2018-06-13T10:51:21.829271Z",
     "start_time": "2018-06-13T10:51:21.801033Z"
    }
   },
   "outputs": [],
   "source": [
    "correctedFiles=[f for f in listdir(newSamplesFolder) if isfile(join(newSamplesFolder, f))]\n",
    "print 'number of samples in the corrected folder is %s' %len(correctedFiles)"
   ]
  },
  {
   "cell_type": "code",
   "execution_count": null,
   "metadata": {
    "ExecuteTime": {
     "end_time": "2018-06-13T10:51:35.733368Z",
     "start_time": "2018-06-13T10:51:25.810321Z"
    }
   },
   "outputs": [],
   "source": [
    "#looping over all samples and correct them:\n",
    "\n",
    "for n,f in enumerate(files):\n",
    "#     if n<10:\n",
    "        print n,f\n",
    "        if f not in correctedFiles:\n",
    "            df=pd.read_table('%s/%s' %(fullSamplesFolder,f))\n",
    "            columns=df.columns.values\n",
    "            if set(columns)==set(right_column_names):\n",
    "                print 'correct column headers'\n",
    "                print df['sequenceStatus'].head()\n",
    "            else:\n",
    "                print 'before correction:'\n",
    "                print df['sequenceStatus'].head()\n",
    "                df=df.iloc[:,:44]\n",
    "                df.columns=newColumnList\n",
    "                df=df.rename(columns={'count (templates/reads)':'count (templates)','count (reads)':'count (templates)'})\n",
    "                print 'after correction:'\n",
    "                print df['sequenceStatus'].head()\n",
    "\n",
    "            file1='%s/%s' %(newSamplesFolder,f)\n",
    "            df.to_csv(file1,sep='\\t')\n",
    "        else:\n",
    "            print 'sample %s already exist in corrected file folder'\n"
   ]
  },
  {
   "cell_type": "code",
   "execution_count": null,
   "metadata": {
    "ExecuteTime": {
     "end_time": "2018-06-13T10:52:15.250073Z",
     "start_time": "2018-06-13T10:52:15.220086Z"
    }
   },
   "outputs": [],
   "source": [
    "correctedFiles=[f for f in listdir(newSamplesFolder) if isfile(join(newSamplesFolder, f))]\n",
    "print 'number of samples in the corrected folder is %s' %len(correctedFiles)"
   ]
  },
  {
   "cell_type": "code",
   "execution_count": null,
   "metadata": {},
   "outputs": [],
   "source": []
  },
  {
   "cell_type": "markdown",
   "metadata": {},
   "source": [
    "# define function:"
   ]
  },
  {
   "cell_type": "markdown",
   "metadata": {
    "ExecuteTime": {
     "end_time": "2018-06-13T11:10:47.868514Z",
     "start_time": "2018-06-13T11:10:47.863421Z"
    }
   },
   "source": [
    "the function correctSampleDataFiles was copied to sampleFileFunctions.py\n"
   ]
  },
  {
   "cell_type": "code",
   "execution_count": null,
   "metadata": {
    "ExecuteTime": {
     "end_time": "2018-06-13T11:03:29.586336Z",
     "start_time": "2018-06-13T11:03:29.526740Z"
    }
   },
   "outputs": [],
   "source": [
    "def correctSampleDataFiles(datasetFolder):\n",
    "    #get correct column headers:\n",
    "    f='/net/mraid08/export/genie/Lab/Personal/ShaniBAF/TCR_real_data/SamplesForAnalysis/BD438.tsv'\n",
    "    BD438=pd.read_table(f)\n",
    "    right_column_names=BD438.columns.values\n",
    "    newColumnList=right_column_names[:-3]\n",
    "\n",
    "    #get file names to be checked:\n",
    "    fullSamplesFolder='%s/SamplesForAnalysis' %datasetFolder\n",
    "    files = [f for f in listdir(fullSamplesFolder) if isfile(join(fullSamplesFolder, f))]\n",
    "    print 'number of samples in folder is %s' %len(files)\n",
    "\n",
    "    #define the folder to save the corrected samples:\n",
    "    newSamplesFolder='%s/SamplesForAnalysis_corrected' %datasetFolder\n",
    "\n",
    "    correctedFiles=[f for f in listdir(newSamplesFolder) if isfile(join(newSamplesFolder, f))]\n",
    "    print 'number of samples in the corrected folder is %s' %len(correctedFiles)\n",
    "\n",
    "    #looping over all samples and correct them:\n",
    "\n",
    "    for n,f in enumerate(files):\n",
    "    #     if n<10:\n",
    "            print n,f\n",
    "            if f not in correctedFiles:\n",
    "                df=pd.read_table('%s/%s' %(fullSamplesFolder,f))\n",
    "                columns=df.columns.values\n",
    "                if set(columns)==set(right_column_names):\n",
    "                    print 'correct column headers'\n",
    "                    print df['sequenceStatus'].head()\n",
    "                else:\n",
    "                    print 'before correction:'\n",
    "                    print df['sequenceStatus'].head()\n",
    "                    df=df.iloc[:,:44]\n",
    "                    df.columns=newColumnList\n",
    "                    df=df.rename(columns={'count (templates/reads)':'count (templates)','count (reads)':'count (templates)'})\n",
    "                    print 'after correction:'\n",
    "                    print df['sequenceStatus'].head()\n",
    "\n",
    "                file1='%s/%s' %(newSamplesFolder,f)\n",
    "                df.to_csv(file1,sep='\\t')\n",
    "            else:\n",
    "                print 'sample %s already exist in corrected file folder'\n",
    "\n",
    "    #check that the correct number of samples exist in the corrected folder:\n",
    "    correctedFiles=[f for f in listdir(newSamplesFolder) if isfile(join(newSamplesFolder, f))]\n",
    "    print 'number of samples in the corrected folder is %s' %len(correctedFiles)\n"
   ]
  },
  {
   "cell_type": "markdown",
   "metadata": {},
   "source": [
    "# run for Ravid's samples:"
   ]
  },
  {
   "cell_type": "code",
   "execution_count": 3,
   "metadata": {
    "ExecuteTime": {
     "end_time": "2018-06-13T11:13:13.960018Z",
     "start_time": "2018-06-13T11:13:13.830347Z"
    }
   },
   "outputs": [
    {
     "name": "stdout",
     "output_type": "stream",
     "text": [
      "number of samples in folder is 4\n",
      "number of samples in the corrected folder is 4\n",
      "0 Ravid1_1ug.tsv\n",
      "sample Ravid1_1ug.tsv already exist in corrected file folder\n",
      "1 Ravid2_05ug.tsv\n",
      "sample Ravid2_05ug.tsv already exist in corrected file folder\n",
      "2 Ravid1_05ug.tsv\n",
      "sample Ravid1_05ug.tsv already exist in corrected file folder\n",
      "3 Ravid2_1ug.tsv\n",
      "sample Ravid2_1ug.tsv already exist in corrected file folder\n",
      "number of samples in the corrected folder is 4\n"
     ]
    }
   ],
   "source": [
    "datasetFolder='%s/TCR_real_data/RavidSamples' %MyPath\n",
    "correctSampleDataFiles(datasetFolder)"
   ]
  },
  {
   "cell_type": "code",
   "execution_count": null,
   "metadata": {},
   "outputs": [],
   "source": []
  }
 ],
 "metadata": {
  "kernelspec": {
   "display_name": "Python 2",
   "language": "python",
   "name": "python2"
  },
  "language_info": {
   "codemirror_mode": {
    "name": "ipython",
    "version": 2
   },
   "file_extension": ".py",
   "mimetype": "text/x-python",
   "name": "python",
   "nbconvert_exporter": "python",
   "pygments_lexer": "ipython2",
   "version": "2.7.8"
  },
  "toc": {
   "nav_menu": {},
   "number_sections": true,
   "sideBar": true,
   "skip_h1_title": false,
   "toc_cell": false,
   "toc_position": {},
   "toc_section_display": "block",
   "toc_window_display": true
  },
  "varInspector": {
   "cols": {
    "lenName": 16,
    "lenType": 16,
    "lenVar": 40
   },
   "kernels_config": {
    "python": {
     "delete_cmd_postfix": "",
     "delete_cmd_prefix": "del ",
     "library": "var_list.py",
     "varRefreshCmd": "print(var_dic_list())"
    },
    "r": {
     "delete_cmd_postfix": ") ",
     "delete_cmd_prefix": "rm(",
     "library": "var_list.r",
     "varRefreshCmd": "cat(var_dic_list()) "
    }
   },
   "types_to_exclude": [
    "module",
    "function",
    "builtin_function_or_method",
    "instance",
    "_Feature"
   ],
   "window_display": false
  }
 },
 "nbformat": 4,
 "nbformat_minor": 2
}
