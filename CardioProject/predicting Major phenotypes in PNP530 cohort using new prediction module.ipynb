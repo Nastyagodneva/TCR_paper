{
 "cells": [
  {
   "cell_type": "markdown",
   "metadata": {},
   "source": [
    "# imports"
   ]
  },
  {
   "cell_type": "code",
   "execution_count": 1,
   "metadata": {
    "ExecuteTime": {
     "end_time": "2018-11-12T22:28:05.192104Z",
     "start_time": "2018-11-12T22:27:58.150334Z"
    }
   },
   "outputs": [
    {
     "name": "stdout",
     "output_type": "stream",
     "text": [
      "done1\n",
      "stop\n",
      "stop\n",
      "done1\n",
      "stop\n",
      "done\n",
      "done\n",
      "done\n",
      "done\n",
      "stop\n",
      "stop\n",
      "end of function!!!\n"
     ]
    },
    {
     "name": "stderr",
     "output_type": "stream",
     "text": [
      "/usr/wisdom/python/lib/python2.7/site-packages/h5py/__init__.py:36: FutureWarning: Conversion of the second argument of issubdtype from `float` to `np.floating` is deprecated. In future, it will be treated as `np.float64 == np.dtype(float).type`.\n",
      "  from ._conv import register_converters as _register_converters\n"
     ]
    },
    {
     "name": "stdout",
     "output_type": "stream",
     "text": [
      "end of function!!!\n"
     ]
    }
   ],
   "source": [
    "from os import listdir,mkdir,makedirs\n",
    "from os.path import isfile, join, isdir,exists\n",
    "import pandas as pd\n",
    "import numpy as np\n",
    "from scipy import stats\n",
    "import re\n",
    "import matplotlib.pyplot as plt\n",
    "from matplotlib.backends.backend_pdf import PdfPages\n",
    "from myplots import roundup, rounddown, find_decimal_fold, percentile_cut_off, rarefaction_calc, rarefaction_plot,draw_correlation_scatter\n",
    "from matplotlib.ticker import FormatStrFormatter\n",
    "import cPickle as pickle\n",
    "from Bio.SeqUtils import GC\n",
    "import seaborn as sns\n",
    "import random\n",
    "from scipy.stats import pearsonr,fisher_exact\n",
    "from skbio.diversity.alpha import shannon, simpson, berger_parker_d\n",
    "\n",
    "from pop_organize import get_sample_data, get_sample_with_dfs\n",
    "from SufficientStatistics.SufficientStatistics import *\n",
    "from MyFunctionsShani import *\n",
    "import math\n",
    "from myplots import roundup, rounddown, find_decimal_fold\n",
    "from skbio.stats.distance import mantel\n",
    "from scipy.spatial.distance import braycurtis, pdist, euclidean\n",
    "\n",
    "\n",
    "from GeneralFeaturePhenotypeInteractions.Feature_phenotype_functions import * \n",
    "from TCR_microbiome_interactions.TCR_microbiome_interactions_functions import *\n",
    "from TCR_microbiome_interactions.TCR_microbiome_interactions_functions2 import *\n",
    "from SampleLists.SampleFileFunctions import *\n",
    "from PhenotypicData.PhenotypeGenerationFunctions import *\n",
    "from CardioProject.CardioFunctions import *\n",
    "from PredictionPipeline.PredictionFunctions import *\n",
    "from TCR_feature_generation.SubsamplingFunctions import *\n",
    "\n",
    "import os\n",
    "from Utils import cacheOnDisk\n",
    "from SegalQueue.qp import qp,fakeqp\n",
    "from addloglevels import sethandlers\n",
    "\n",
    "#ML imports:\n",
    "from xgboost import XGBClassifier,XGBRegressor\n",
    "import lightgbm as lgb\n",
    "from collections import OrderedDict\n",
    "from sklearn.model_selection import GroupKFold,StratifiedKFold, KFold\n",
    "import statsmodels.formula.api as sm\n",
    "from sklearn.linear_model import LogisticRegression, LinearRegression\n",
    "import shap\n",
    "from sklearn import metrics, preprocessing\n",
    "from sklearn.svm import LinearSVC\n",
    "from sklearn.feature_selection import SelectFromModel,SelectKBest,chi2,mutual_info_classif,f_classif\n",
    "from sklearn.naive_bayes import GaussianNB\n",
    "\n",
    "MyPath='/net/mraid08/export/genie/Lab/Personal/ShaniBAF'\n",
    "\n",
    "with open('/net/mraid08/export/genie/Lab/Personal/ShaniBAF/Sample files/BD lists/PNP530','rb') as fp:\n",
    "    PNP530=pickle.load(fp)\n",
    "with open('/net/mraid08/export/genie/Lab/Personal/ShaniBAF/Sample files/BD lists/Cardio126','rb') as fp:\n",
    "    Cardio126=pickle.load(fp)\n",
    "PNP530Cardio126=PNP530+Cardio126\n"
   ]
  },
  {
   "cell_type": "code",
   "execution_count": 2,
   "metadata": {
    "ExecuteTime": {
     "end_time": "2018-11-12T22:28:05.548968Z",
     "start_time": "2018-11-12T22:28:05.540320Z"
    }
   },
   "outputs": [
    {
     "data": {
      "text/plain": [
       "'13112018'"
      ]
     },
     "execution_count": 2,
     "metadata": {},
     "output_type": "execute_result"
    }
   ],
   "source": [
    "import time\n",
    "cdate=str(time.strftime(\"%d%m%Y\"))\n",
    "cdate"
   ]
  },
  {
   "cell_type": "markdown",
   "metadata": {},
   "source": [
    "# correcting (again) TCR features for major phenotypes using regression"
   ]
  },
  {
   "cell_type": "markdown",
   "metadata": {},
   "source": [
    "1. write new module for that\n",
    "2. test this module for age\n",
    "3. compare results to old resuls and see if there is a problem (correcting features which should be corrected)\n",
    "4. if exerything is ok, correct for age, age+gender, age+gender+eGFR\n",
    "5. if #4, repeat major phenotype prediction using the corrected features"
   ]
  },
  {
   "cell_type": "markdown",
   "metadata": {},
   "source": [
    "## test new correction module"
   ]
  },
  {
   "cell_type": "code",
   "execution_count": null,
   "metadata": {
    "ExecuteTime": {
     "end_time": "2018-11-11T17:44:45.718005Z",
     "start_time": "2018-11-11T17:44:01.064739Z"
    }
   },
   "outputs": [],
   "source": [
    "!python /home/sbenari/workspace/Microbiome/ShaniBA/TCR_feature_generation/FeatureCorrection_byLinReg.py \\\n",
    "/net/mraid08/export/genie/Lab/Personal/ShaniBAF/TCR_real_data/Predictions/featureDFs/allTCRfeatures_percShared10__withRels_noT.dat \\\n",
    "-path_to_phenotype_DF /net/mraid08/export/genie/Lab/Personal/ShaniBAF/TCR_real_data/PNP530Cardio126Combined/Phenotypes/PNP530Cardio126_AllInfo_withDummies.xlsx \\\n",
    "-phen_list '[\"Age\",\"Gender_Male\",\"eGFR by CKD-EPI\"]' \n"
   ]
  },
  {
   "cell_type": "markdown",
   "metadata": {},
   "source": [
    "### check age prediction paradox\n"
   ]
  },
  {
   "cell_type": "markdown",
   "metadata": {},
   "source": [
    "#### check dataframes"
   ]
  },
  {
   "cell_type": "code",
   "execution_count": null,
   "metadata": {
    "ExecuteTime": {
     "end_time": "2018-11-11T18:22:05.772514Z",
     "start_time": "2018-11-11T18:22:05.698542Z"
    },
    "scrolled": true
   },
   "outputs": [],
   "source": [
    "f1='/net/mraid08/export/genie/Lab/Personal/ShaniBAF/TCR_real_data/Predictions/featureDFs/allTCRfeatures_percShared10__withRels_noT_AgeCorr.dat'\n",
    "allTCRfeatures_percShared10__withRels_noT_AgeCorr=pd.read_pickle(f1)\n",
    "allTCRfeatures_percShared10__withRels_noT_AgeCorr.head()"
   ]
  },
  {
   "cell_type": "code",
   "execution_count": null,
   "metadata": {
    "ExecuteTime": {
     "end_time": "2018-11-12T08:37:38.188584Z",
     "start_time": "2018-11-12T08:37:38.177810Z"
    }
   },
   "outputs": [],
   "source": [
    "allTCRfeatures_percShared10__withRels_noT_AgeCorr.shape"
   ]
  },
  {
   "cell_type": "code",
   "execution_count": null,
   "metadata": {
    "ExecuteTime": {
     "end_time": "2018-11-12T08:38:25.039449Z",
     "start_time": "2018-11-12T08:38:25.025699Z"
    }
   },
   "outputs": [],
   "source": [
    "allTCRfeatures_percShared10__withRels_noT_AgeCorr.columns.tolist()"
   ]
  },
  {
   "cell_type": "code",
   "execution_count": null,
   "metadata": {
    "ExecuteTime": {
     "end_time": "2018-11-12T08:42:52.174511Z",
     "start_time": "2018-11-12T08:42:51.956887Z"
    }
   },
   "outputs": [],
   "source": [
    "f2='/net/mraid08/export/genie/Lab/Personal/ShaniBAF/TCR_real_data/predictions2/\\\n",
    "TargetDFs/PNP530_majorPhenotypes_contOnly.xlsx'\n",
    "phenDF=pd.read_excel(f2).set_index('BD')\n",
    "phenDF.head()"
   ]
  },
  {
   "cell_type": "code",
   "execution_count": null,
   "metadata": {
    "ExecuteTime": {
     "end_time": "2018-11-12T08:43:05.153269Z",
     "start_time": "2018-11-12T08:43:05.145372Z"
    }
   },
   "outputs": [],
   "source": [
    "phenDF.shape"
   ]
  },
  {
   "cell_type": "code",
   "execution_count": null,
   "metadata": {
    "ExecuteTime": {
     "end_time": "2018-11-12T08:43:46.966449Z",
     "start_time": "2018-11-12T08:43:46.957481Z"
    }
   },
   "outputs": [],
   "source": [
    "phenDF[phenDF['Age'].notnull()].shape"
   ]
  },
  {
   "cell_type": "code",
   "execution_count": null,
   "metadata": {
    "ExecuteTime": {
     "end_time": "2018-11-12T08:46:10.002351Z",
     "start_time": "2018-11-12T08:46:09.684742Z"
    }
   },
   "outputs": [],
   "source": [
    "for col in allTCRfeatures_percShared10__withRels_noT_AgeCorr.columns:\n",
    "    r,p=MyPearsonr(phenDF['Age'].loc[allTCRfeatures_percShared10__withRels_noT_AgeCorr.index],\n",
    "                   allTCRfeatures_percShared10__withRels_noT_AgeCorr[col])\n",
    "    if p<0.05:\n",
    "        print col,round(r,2),round(p,6)"
   ]
  },
  {
   "cell_type": "code",
   "execution_count": null,
   "metadata": {
    "ExecuteTime": {
     "end_time": "2018-11-12T08:47:30.450149Z",
     "start_time": "2018-11-12T08:47:30.418807Z"
    }
   },
   "outputs": [],
   "source": [
    "for col in allTCRfeatures_percShared10__withRels_noT_AgeCorr.columns:\n",
    "    print col"
   ]
  },
  {
   "cell_type": "markdown",
   "metadata": {},
   "source": [
    "#### use old prediction functions and see if the problem exist:"
   ]
  },
  {
   "cell_type": "code",
   "execution_count": null,
   "metadata": {
    "ExecuteTime": {
     "end_time": "2018-11-12T10:58:39.633567Z",
     "start_time": "2018-11-12T10:56:52.252445Z"
    }
   },
   "outputs": [],
   "source": [
    "#get dfs:\n",
    "#phen:\n",
    "f1='/net/mraid08/export/genie/Lab/Personal/ShaniBAF/TCR_real_data/PNP530Cardio126Combined/Phenotypes/\\\n",
    "PNP530Cardio126_AllInfo_withDummies.xlsx'\n",
    "phenDF=pd.read_excel(f1).set_index('BD')\n",
    "phenDF=phenDF['Age']\n",
    "\n",
    "#features:\n",
    "folder='/net/mraid08/export/genie/Lab/Personal/ShaniBAF/TCR_real_data/Predictions/featureDFs/'\n",
    "X_file_list=['allTCRfeatures_percShared10__withRels_noT_AgeCorr.dat','allTCRfeatures_percShared10__withRels_noT.dat']\n",
    "\n",
    "#result folder:\n",
    "resultFolder='%s/TCR_real_data/predictions2/PNP530_majorPhenotypes/oldPredictionTrial/' %MyPath\n",
    "\n",
    "with open('/net/mraid08/export/genie/Lab/Personal/ShaniBAF/Sample files/BD lists/PNP530','rb') as fp:\n",
    "    PNP530=pickle.load(fp)\n",
    "# with open('/net/mraid08/export/genie/Lab/Personal/ShaniBAF/Sample files/BD lists/Cardio126','rb') as fp:\n",
    "#     Cardio126=pickle.load(fp)\n",
    "# PNP530Cardio126=PNP530+Cardio126\n",
    "\n",
    "\n",
    "model=XGBRegressor\n",
    "modelName='XGBRegressor'\n",
    "featureSelectionMethod_list=[None]         \n",
    "k_list=[10]\n",
    "task='reg'\n",
    "\n",
    "for X_file in X_file_list:\n",
    "    X=pd.read_pickle(folder+X_file).loc[PNP530,:]\n",
    "\n",
    "    targetDF=phenDF                     \n",
    " \n",
    "    Xname=X_file\n",
    "    Y=targetDF\n",
    "    Y=Y.loc[PNP530].dropna()\n",
    "    X=X.loc[Y.index,:]\n",
    "    \n",
    "    print ('X shape: ', X.shape)\n",
    "    print ('Y shape: ', Y.shape)\n",
    "\n",
    "    max_depth_list=[3]\n",
    "    learninglist=[(0.01,1000)]\n",
    "    gamma_list=[1]\n",
    "    subsample_list=[0.7]\n",
    "    reg_alpha_list=[10]\n",
    "    for learning in learninglist:\n",
    "        learning_rate=learning[0]\n",
    "        n_estimators=learning[1]\n",
    "        \n",
    "        \n",
    "        for max_depth in max_depth_list:\n",
    "            for gamma in gamma_list:\n",
    "                for reg_alpha in reg_alpha_list:\n",
    "                    for subsample in subsample_list:\n",
    "            \n",
    "                        model_params={'learning_rate': learning_rate, 'n_estimators': n_estimators,\n",
    "                        'max_depth': max_depth,'num_threads':2,'bagging_fraction':0.5,'bagging_freq':1,\n",
    "                        'bagging_seed':3,'gamma':gamma,'reg_alpha':reg_alpha,'subsample':subsample}\n",
    "\n",
    "\n",
    "                        run_old_classification(X,Xname, Y, k_list,model, modelName,model_params,task,\n",
    "                                           resultFolder,featureSelectionMethod_list)\n",
    "    "
   ]
  },
  {
   "cell_type": "code",
   "execution_count": null,
   "metadata": {
    "ExecuteTime": {
     "end_time": "2018-11-12T11:41:30.767916Z",
     "start_time": "2018-11-12T11:41:05.060790Z"
    }
   },
   "outputs": [],
   "source": [
    "folder='%s/TCR_real_data/predictions2/PNP530_majorPhenotypes/oldPredictionTrial/Age' %MyPath\n",
    "df_folder='%s/resultDFs' %folder\n",
    "\n",
    "results=concat_summarizing_dfs_excel(df_folder)\n",
    "results=results.sort_values(by='p_pear')\n",
    "nTests=len(results) \n",
    "FDR=0.1\n",
    "results=add_corrected_pValues(results,'p_pear',nTests,FDR)\n",
    "f1='%s/resultSummary_%s.xlsx' %(folder,cdate)\n",
    "results.to_excel(f1)\n"
   ]
  },
  {
   "cell_type": "markdown",
   "metadata": {},
   "source": [
    "### implement Noam's function:"
   ]
  },
  {
   "cell_type": "code",
   "execution_count": null,
   "metadata": {
    "ExecuteTime": {
     "end_time": "2018-11-12T19:51:56.818324Z",
     "start_time": "2018-11-12T19:51:56.772797Z"
    }
   },
   "outputs": [],
   "source": [
    "def compute_linear_regression(X, Y):\n",
    "    from tqdm import tnrange, tqdm_notebook\n",
    "    res = pd.DataFrame(index=Y.columns, columns=['Number of samples', 'intercept', 'MSE', 'r2_Score',\n",
    "                                                 'real-predicted pearson_r', 'real-predicted pearson_p',\n",
    "                                                 'coefficient of determination'] + [str(c) for c in X.columns])\n",
    "    residuals = pd.DataFrame(columns=X.index)\n",
    "    for i in tqdm_notebook(range(Y.shape[1]), desc='LR'):\n",
    "        y = Y.iloc[:, i].copy()\n",
    "        xy = pd.concat((X, y), axis=1).dropna()\n",
    "        y = y.loc[xy.index]\n",
    "        X_temp = X.loc[xy.index].copy()\n",
    " \n",
    "        regr = LinearRegression()\n",
    "        regr.fit(X_temp, y)\n",
    "        y_pred = regr.predict(X_temp)\n",
    "        res.loc[Y.columns[i], 'Number of samples'] = xy.shape[0]\n",
    "        for c in range(X.shape[1]):\n",
    "            res.loc[Y.columns[i], X.columns[c]] = regr.coef_[c]\n",
    "        res.loc[Y.columns[i], 'intercept'] = regr.intercept_\n",
    "        res.loc[Y.columns[i], 'MSE'] = metrics.mean_squared_error(y_pred, y)\n",
    "        res.loc[Y.columns[i], 'r2_Score'] = metrics.r2_score(y_pred, y)\n",
    "        r, p = pearsonr(y, y_pred)\n",
    "        res.loc[Y.columns[i], 'real-predicted pearson_r'] = r\n",
    "        res.loc[Y.columns[i], 'real-predicted pearson_p'] = p\n",
    "        res.loc[Y.columns[i], 'coefficient of determination'] = regr.score(X_temp, y)\n",
    "        residuals = pd.concat((residuals, pd.DataFrame(y - y_pred).T))\n",
    "        \n",
    "    residuals.columns.name = Y.index.name\n",
    "    residuals.index.name = Y.columns.name\n",
    "    return res, residuals"
   ]
  },
  {
   "cell_type": "code",
   "execution_count": null,
   "metadata": {
    "ExecuteTime": {
     "end_time": "2018-11-12T19:57:13.725581Z",
     "start_time": "2018-11-12T19:57:07.456986Z"
    }
   },
   "outputs": [],
   "source": [
    "f1='/net/mraid08/export/genie/Lab/Personal/ShaniBAF/TCR_real_data/PNP530Cardio126Combined/Phenotypes/\\\n",
    "PNP530Cardio126_AllInfo_withDummies.xlsx'\n",
    "phenDF=pd.read_excel(f1).set_index('BD')\n",
    "AgePNP530=pd.DataFrame(phenDF.loc[PNP530,'Age'])\n",
    "AgePNP530=AgePNP530.fillna(AgePNP530['Age'].median())\n",
    "\n",
    "f2='/net/mraid08/export/genie/Lab/Personal/ShaniBAF/TCR_real_data/Predictions/featureDFs/allTCRfeatures_percShared10__withRels_noT.dat'\n",
    "featureDF=pd.read_pickle(f2)\n",
    "featureDF=featureDF.loc[PNP530,:]\n",
    "for col in featureDF.columns:\n",
    "    if 'norm' in col:\n",
    "        featureDF[col]=featureDF[col].fillna(featureDF[col].median())\n",
    "    else:\n",
    "        featureDF[col]=featureDF[col].fillna(0)\n",
    "\n",
    "X=AgePNP530\n",
    "Y=featureDF\n",
    "\n",
    "res, residuals=compute_linear_regression(X, Y)"
   ]
  },
  {
   "cell_type": "code",
   "execution_count": null,
   "metadata": {
    "ExecuteTime": {
     "end_time": "2018-11-12T19:57:16.432191Z",
     "start_time": "2018-11-12T19:57:16.312747Z"
    }
   },
   "outputs": [],
   "source": [
    "res"
   ]
  },
  {
   "cell_type": "code",
   "execution_count": null,
   "metadata": {
    "ExecuteTime": {
     "end_time": "2018-11-12T19:57:18.973611Z",
     "start_time": "2018-11-12T19:57:18.749194Z"
    }
   },
   "outputs": [],
   "source": [
    "residuals"
   ]
  },
  {
   "cell_type": "code",
   "execution_count": null,
   "metadata": {
    "ExecuteTime": {
     "end_time": "2018-11-12T20:19:47.064629Z",
     "start_time": "2018-11-12T20:19:47.037744Z"
    }
   },
   "outputs": [],
   "source": [
    "f1='/net/mraid08/export/genie/Lab/Personal/ShaniBAF/TCR_real_data/Predictions/featureDFs/residuals_Age.dat'\n",
    "residuals.T.to_pickle(f1)"
   ]
  },
  {
   "cell_type": "code",
   "execution_count": null,
   "metadata": {},
   "outputs": [],
   "source": []
  },
  {
   "cell_type": "markdown",
   "metadata": {},
   "source": [
    "#### compare noam's resdiual's to mine:"
   ]
  },
  {
   "cell_type": "code",
   "execution_count": null,
   "metadata": {
    "ExecuteTime": {
     "end_time": "2018-11-12T20:07:36.967676Z",
     "start_time": "2018-11-12T20:07:36.234350Z"
    }
   },
   "outputs": [],
   "source": [
    "# get dfs:\n",
    "#phen:\n",
    "f1='/net/mraid08/export/genie/Lab/Personal/ShaniBAF/TCR_real_data/PNP530Cardio126Combined/Phenotypes/\\\n",
    "PNP530Cardio126_AllInfo_withDummies.xlsx'\n",
    "phenDF=pd.read_excel(f1).set_index('BD').loc[PNP530,:]\n",
    "phenDF=phenDF['Age']\n",
    "\n",
    "#features:\n",
    "folder='/net/mraid08/export/genie/Lab/Personal/ShaniBAF/TCR_real_data/Predictions/featureDFs/'\n",
    "X_corr_file='allTCRfeatures_percShared10__withRels_noT_AgeCorr.dat'\n",
    "X_corr=pd.read_pickle(folder+X_corr_file).loc[PNP530,:]\n",
    "# X_corr=X_corr.loc[PNP530,:]\n",
    "\n",
    "X_file='allTCRfeatures_percShared10__withRels_noT.dat'\n",
    "X=pd.read_pickle(folder+X_file).loc[PNP530,:]"
   ]
  },
  {
   "cell_type": "code",
   "execution_count": null,
   "metadata": {
    "ExecuteTime": {
     "end_time": "2018-11-12T21:27:43.371421Z",
     "start_time": "2018-11-12T21:27:41.840202Z"
    }
   },
   "outputs": [],
   "source": [
    "col='simpson_nt_1'\n",
    "data1=phenDF.loc[X.index]\n",
    "data1name='Age'\n",
    "\n",
    "fig,axes=plt.subplots(nrows=2,ncols=3,figsize=(12,8))\n",
    "plt.suptitle(col,fontsize='xx-large')\n",
    "\n",
    "for n in range(6):\n",
    "    print n\n",
    "    ax=axes.flatten()[n]\n",
    "    if n%3==0:\n",
    "        data2name=col\n",
    "        data2=X[data2name]\n",
    "        print len(data2)\n",
    "        title='Not corrected'\n",
    "       \n",
    "        \n",
    "    elif n%3==1:\n",
    "        data2name=col+'_AgeCorrRes'\n",
    "        data2=X_corr[data2name]\n",
    "        print len(data2)\n",
    "        title='Corrected'\n",
    "      \n",
    "    elif n%3==2:\n",
    "        data2name=col\n",
    "        data2=residuals.T[data2name]\n",
    "        print len(data2)\n",
    "        title='Corrected-Noam'\n",
    "    \n",
    "    if n<3:\n",
    "        corrType='pearson'\n",
    "    else:\n",
    "        corrType='spearman'\n",
    "        title='' \n",
    "        \n",
    "    ax, nsamples,r,p,text=plot_corr(data1,data2,data1name,data2name,ax,title,corrType=corrType)\n",
    "    ax.set_ylabel('')\n",
    "    if n<3:\n",
    "        ax.set_xlabel('')\n",
    "        \n",
    "plt.show()"
   ]
  },
  {
   "cell_type": "code",
   "execution_count": null,
   "metadata": {
    "ExecuteTime": {
     "end_time": "2018-11-12T21:30:31.972029Z",
     "start_time": "2018-11-12T21:30:30.393391Z"
    }
   },
   "outputs": [],
   "source": [
    "col='top10clonal_aa_1'\n",
    "data1=phenDF.loc[X.index]\n",
    "data1name='Age'\n",
    "\n",
    "fig,axes=plt.subplots(nrows=2,ncols=3,figsize=(12,8))\n",
    "plt.suptitle(col,fontsize='xx-large')\n",
    "\n",
    "for n in range(6):\n",
    "    print n\n",
    "    ax=axes.flatten()[n]\n",
    "    if n%3==0:\n",
    "        data2name=col\n",
    "        data2=X[data2name]\n",
    "        print len(data2)\n",
    "        title='Not corrected'\n",
    "       \n",
    "        \n",
    "    elif n%3==1:\n",
    "        data2name=col+'_AgeCorrRes'\n",
    "        data2=X_corr[data2name]\n",
    "        print len(data2)\n",
    "        title='Corrected'\n",
    "      \n",
    "    elif n%3==2:\n",
    "        data2name=col\n",
    "        data2=residuals.T[data2name]\n",
    "        print len(data2)\n",
    "        title='Corrected-Noam'\n",
    "    \n",
    "    if n<3:\n",
    "        corrType='pearson'\n",
    "    else:\n",
    "        corrType='spearman'\n",
    "        title='' \n",
    "        \n",
    "    ax, nsamples,r,p,text=plot_corr(data1,data2,data1name,data2name,ax,title,corrType=corrType)\n",
    "    ax.set_ylabel('')\n",
    "    if n<3:\n",
    "        ax.set_xlabel('')\n",
    "        \n",
    "plt.show()"
   ]
  },
  {
   "cell_type": "code",
   "execution_count": null,
   "metadata": {
    "ExecuteTime": {
     "end_time": "2018-11-12T21:40:48.635434Z",
     "start_time": "2018-11-12T21:40:47.044973Z"
    },
    "scrolled": true
   },
   "outputs": [],
   "source": [
    "col='HSV_rel_cum_freq(perc)'\n",
    "data1=phenDF.loc[X.index]\n",
    "data1name='Age'\n",
    "\n",
    "fig,axes=plt.subplots(nrows=2,ncols=3,figsize=(12,8))\n",
    "plt.suptitle(col,fontsize='xx-large')\n",
    "\n",
    "for n in range(6):\n",
    "    print n\n",
    "    ax=axes.flatten()[n]\n",
    "    if n%3==0:\n",
    "        data2name=col\n",
    "        data2=X[data2name]\n",
    "        print len(data2)\n",
    "        title='Not corrected'\n",
    "       \n",
    "        \n",
    "    elif n%3==1:\n",
    "        try:\n",
    "            data2name=col+'_AgeCorrRes'\n",
    "            data2=X_corr[data2name]\n",
    "            print len(data2)\n",
    "            title='Corrected'\n",
    "        except:\n",
    "            print 'no corrected column'\n",
    "      \n",
    "    elif n%3==2:\n",
    "        data2name=col\n",
    "        data2=residuals.T[data2name]\n",
    "        print len(data2)\n",
    "        title='Corrected-Noam'\n",
    "    \n",
    "    if n<3:\n",
    "        corrType='pearson'\n",
    "    else:\n",
    "        corrType='spearman'\n",
    "        title='' \n",
    "        \n",
    "    ax, nsamples,r,p,text=plot_corr(data1,data2,data1name,data2name,ax,title,corrType=corrType,alpha=0.5)\n",
    "    ax.set_ylabel('')\n",
    "    if n<3:\n",
    "        ax.set_xlabel('')\n",
    "        \n",
    "plt.show()"
   ]
  },
  {
   "cell_type": "code",
   "execution_count": null,
   "metadata": {},
   "outputs": [],
   "source": []
  },
  {
   "cell_type": "code",
   "execution_count": null,
   "metadata": {},
   "outputs": [],
   "source": []
  },
  {
   "cell_type": "code",
   "execution_count": null,
   "metadata": {},
   "outputs": [],
   "source": []
  },
  {
   "cell_type": "markdown",
   "metadata": {},
   "source": [
    "# predicting age using different X matrices:"
   ]
  },
  {
   "cell_type": "markdown",
   "metadata": {},
   "source": [
    "matrices used:\n",
    "1. all seqs present in >10% samples\n",
    "2. all seqs present in >10% samples+repertoire and annotation features\n",
    "3. repertoire and annotation features\n",
    "4. baseline - WBC and nTemplates only\n",
    "5. control - repertoire and annotation features corrected for age\n",
    "6. control - repertoire and annotation features corrected for age,gender and eGFR"
   ]
  },
  {
   "cell_type": "markdown",
   "metadata": {},
   "source": [
    "## get r and p values from each X:"
   ]
  },
  {
   "cell_type": "code",
   "execution_count": 31,
   "metadata": {
    "ExecuteTime": {
     "end_time": "2018-11-13T11:57:58.123463Z",
     "start_time": "2018-11-13T11:57:58.110284Z"
    }
   },
   "outputs": [
    {
     "data": {
      "text/html": [
       "['lin_cont_gridSearch_25_byRepFeatRelsSmall_AgeCorr', 'XGB_randomSearch_25_byVDJonly_ageCorr', 'lin_cont_randomSearch_25_byVDJ', 'XGB_randomSearch_25_byVDJ', 'oldPredictionTrial', 'XGB_randomSearch_25_byseqs10only', 'XGB_randomSearch_25_byRepFeatRelsSmall', 'XGB_randomSearch_25_byAgeResiduals', 'lin_cont_gridSearch_25_byRepFeatRelsSmall', 'lin_cont_gridSearch_25_byRepFeatRelsSmall_GenderCorr', 'XGB_randomSearch_25_byRepFeatRelsSeqs', 'XGB_randomSearch_25_byRepFeatRelsCorrected', 'XGB_randomSearch_25_byRepFeatSmall_ageCorr01', 'XGB_randomSearch_25_byWBCnTemplates', 'XGB_randomSearch_25_byRepFeatRels', 'XGB_randomSearch_25_byRepFeatRelsSmall_GenderCorr', 'XGB_randomSearch_25_byRepFeatRelsAgeCorrected', 'XGB_randomSearch_25_byRepFeatRelsSmall_AgeCorr', 'XGB_randomSearch_25_byVDJ_ageCorr', 'LGBM_randomSearch_20_byVDJ_ageCorr']"
      ],
      "text/plain": [
       "['lin_cont_gridSearch_25_byRepFeatRelsSmall_AgeCorr',\n",
       " 'XGB_randomSearch_25_byVDJonly_ageCorr',\n",
       " 'lin_cont_randomSearch_25_byVDJ',\n",
       " 'XGB_randomSearch_25_byVDJ',\n",
       " 'oldPredictionTrial',\n",
       " 'XGB_randomSearch_25_byseqs10only',\n",
       " 'XGB_randomSearch_25_byRepFeatRelsSmall',\n",
       " 'XGB_randomSearch_25_byAgeResiduals',\n",
       " 'lin_cont_gridSearch_25_byRepFeatRelsSmall',\n",
       " 'lin_cont_gridSearch_25_byRepFeatRelsSmall_GenderCorr',\n",
       " 'XGB_randomSearch_25_byRepFeatRelsSeqs',\n",
       " 'XGB_randomSearch_25_byRepFeatRelsCorrected',\n",
       " 'XGB_randomSearch_25_byRepFeatSmall_ageCorr01',\n",
       " 'XGB_randomSearch_25_byWBCnTemplates',\n",
       " 'XGB_randomSearch_25_byRepFeatRels',\n",
       " 'XGB_randomSearch_25_byRepFeatRelsSmall_GenderCorr',\n",
       " 'XGB_randomSearch_25_byRepFeatRelsAgeCorrected',\n",
       " 'XGB_randomSearch_25_byRepFeatRelsSmall_AgeCorr',\n",
       " 'XGB_randomSearch_25_byVDJ_ageCorr',\n",
       " 'LGBM_randomSearch_20_byVDJ_ageCorr']"
      ]
     },
     "execution_count": 31,
     "metadata": {},
     "output_type": "execute_result"
    }
   ],
   "source": [
    "result_folder='%s/TCR_real_data/predictions2/PNP530_majorPhenotypes' %MyPath\n",
    "dirs=os.listdir(result_folder)\n",
    "dirs"
   ]
  },
  {
   "cell_type": "code",
   "execution_count": 52,
   "metadata": {
    "ExecuteTime": {
     "end_time": "2018-11-13T13:17:38.057059Z",
     "start_time": "2018-11-13T13:17:16.970204Z"
    }
   },
   "outputs": [
    {
     "name": "stdout",
     "output_type": "stream",
     "text": [
      "**********************\n",
      "*  Age\n",
      "**********************\n",
      "\n",
      "*******XGB_randomSearch_25_byRepFeatRelsSmall*******\n",
      "\n",
      "--------\n",
      "PERFORMANCE\n",
      "--------\n",
      "                                       Coefficient_of_determination  \\\n",
      "XGB_randomSearch_25_byRepFeatRelsSmall                     0.305796   \n",
      "\n",
      "                                          pearson_p pearson_r   spearman_p  \\\n",
      "XGB_randomSearch_25_byRepFeatRelsSmall  1.52042e-43  0.553018  3.17731e-42   \n",
      "\n",
      "                                       spearman_r  \n",
      "XGB_randomSearch_25_byRepFeatRelsSmall   0.545692  \n",
      "--------\n",
      "SHAP_VALUES\n",
      "--------\n",
      "PC2                         2100.252704\n",
      "cdr3Length_std_1             350.039978\n",
      "top1000clonal_aa_1           315.755721\n",
      "jDeletion_mean_1             311.178757\n",
      "d3Deletion_mean_1            295.383730\n",
      "normSeqNums_per2000_NT_1     291.384995\n",
      "n2Insertion_std_1            270.513503\n",
      "PC1                          269.840390\n",
      "totalAnnotatefreqs           227.591533\n",
      "d3Deletion_std_0             220.384746\n",
      "PC3                          202.812147\n",
      "DENV_rel_seq_count           200.862304\n",
      "normSeqNums_per200_AA_1      199.228814\n",
      "EBV_rel_cum_freq(perc)       197.120284\n",
      "top1000clonal_nt_1           194.551231\n",
      "d3Deletion_std_1             188.491658\n",
      "shannon_aa_1                 167.716629\n",
      "DENV_rel_cum_freq(perc)      149.582714\n",
      "d5Deletion_std_1             138.920534\n",
      "shannon_aa_0                 138.534829\n",
      "dtype: float64\n",
      "                                       Coefficient_of_determination  \\\n",
      "XGB_randomSearch_25_byRepFeatRelsSmall                     0.305796   \n",
      "\n",
      "                                          pearson_p pearson_r   spearman_p  \\\n",
      "XGB_randomSearch_25_byRepFeatRelsSmall  1.52042e-43  0.553018  3.17731e-42   \n",
      "\n",
      "                                       spearman_r  \n",
      "XGB_randomSearch_25_byRepFeatRelsSmall   0.545692  \n",
      "*******XGB_randomSearch_25_byAgeResiduals*******\n",
      "\n",
      "--------\n",
      "PERFORMANCE\n",
      "--------\n",
      "                                   Coefficient_of_determination pearson_p  \\\n",
      "XGB_randomSearch_25_byAgeResiduals                     0.995744         0   \n",
      "\n",
      "                                   pearson_r spearman_p spearman_r  \n",
      "XGB_randomSearch_25_byAgeResiduals  0.997926          0   0.998261  \n",
      "--------\n",
      "SHAP_VALUES\n",
      "--------\n",
      "GraftVsHostDisease_rel_cum_freq(perc)                3285.338801\n",
      "HSV_rel_cum_freq(perc)                               1571.142491\n",
      "Leukemia_rel_cum_freq(perc)                           821.922238\n",
      "Lungcancer_rel_cum_freq(perc)                         348.244816\n",
      "Plasmodiumberghei_rel_cum_freq(perc)                   84.754019\n",
      "CalcifiedAorticStenosisdisease_rel_cum_freq(perc)      84.662688\n",
      "RSV_rel_cum_freq(perc)                                 72.422514\n",
      "Lupus_rel_cum_freq(perc)                               45.296487\n",
      "simpson_aa_1                                           10.051862\n",
      "WestNilevirus_rel_cum_freq(perc)                        9.112865\n",
      "simpson_nt_0                                            9.044632\n",
      "simpson_aa_0                                            7.529499\n",
      "HTLV_rel_seq_count                                      6.233502\n",
      "SIV_rel_cum_freq(perc)                                  5.521946\n",
      "BreastCancer_rel_seq_count                              5.421134\n",
      "BreastCancer_rel_cum_freq(perc)                         4.796460\n",
      "jDeletion_max_0                                         3.225249\n",
      "max_nt_per_aa_0                                         2.955091\n",
      "normSeqNums_per200_AA_0                                 2.896150\n",
      "vDeletion_max_0                                         2.371144\n",
      "dtype: float64\n",
      "                                       Coefficient_of_determination  \\\n",
      "XGB_randomSearch_25_byAgeResiduals                         0.995744   \n",
      "XGB_randomSearch_25_byRepFeatRelsSmall                     0.305796   \n",
      "\n",
      "                                          pearson_p pearson_r   spearman_p  \\\n",
      "XGB_randomSearch_25_byAgeResiduals                0  0.997926            0   \n",
      "XGB_randomSearch_25_byRepFeatRelsSmall  1.52042e-43  0.553018  3.17731e-42   \n",
      "\n",
      "                                       spearman_r  \n",
      "XGB_randomSearch_25_byAgeResiduals       0.998261  \n",
      "XGB_randomSearch_25_byRepFeatRelsSmall   0.545692  \n",
      "*******XGB_randomSearch_25_byRepFeatSmall_AgeGenderEGFRCorr01*******\n",
      "\n",
      "--------\n",
      "PERFORMANCE\n",
      "--------\n",
      "                                                   Coefficient_of_determination  \\\n",
      "XGB_randomSearch_25_byRepFeatSmall_AgeGenderEGF...                     0.701838   \n",
      "\n",
      "                                                       pearson_p pearson_r  \\\n",
      "XGB_randomSearch_25_byRepFeatSmall_AgeGenderEGF...  2.33598e-141  0.839761   \n",
      "\n",
      "                                                      spearman_p spearman_r  \n",
      "XGB_randomSearch_25_byRepFeatSmall_AgeGenderEGF...  1.09892e-147   0.849178  \n",
      "--------\n",
      "SHAP_VALUES\n",
      "--------\n",
      "simpson_nt_1_AgeCorrRes                                   2518.483415\n",
      "simpson_aa_1_AgeCorrRes                                   1458.836774\n",
      "simpson_nt_0_Gender_MaleCorrRes                           1076.304195\n",
      "frequencyCount (%)_max_1_AgeCorrRes                        613.049962\n",
      "simpson_aa_0                                               445.625728\n",
      "normSeqNums_per2000_NT_1_AgeCorrRes_Gender_MaleCorrRes     438.005807\n",
      "totalAnnotatefreqs                                         401.385172\n",
      "frequencyCount (%)_std_0_AgeCorrRes_Gender_MaleCorrRes     380.659814\n",
      "frequencyCount (%)_std_1_AgeCorrRes_Gender_MaleCorrRes     292.507564\n",
      "normSeqNums_per200_AA_1_AgeCorrRes_Gender_MaleCorrRes      280.340491\n",
      "berger_nt_0_AgeCorrRes_Gender_MaleCorrRes                  254.268928\n",
      "cdr3Length_max_1_AgeCorrRes                                222.625627\n",
      "top10clonal_aa_1_AgeCorrRes_Gender_MaleCorrRes             188.100295\n",
      "count (templates)_std_0_Gender_MaleCorrRes                 174.653296\n",
      "vDeletion_std_1                                            148.213315\n",
      "frequencyCount (%)_mean_0_Gender_MaleCorrRes               143.582882\n",
      "shannon_nt_0_AgeCorrRes_Gender_MaleCorrRes                 136.803087\n",
      "frequencyCount (%)_max_0_Gender_MaleCorrRes                125.122052\n",
      "top10clonal_nt_1_AgeCorrRes_Gender_MaleCorrRes             118.047132\n",
      "n2Insertion_std_1                                          113.351689\n",
      "dtype: float64\n",
      "                                                   Coefficient_of_determination  \\\n",
      "XGB_randomSearch_25_byAgeResiduals                                     0.995744   \n",
      "XGB_randomSearch_25_byRepFeatSmall_AgeGenderEGF...                     0.701838   \n",
      "XGB_randomSearch_25_byRepFeatRelsSmall                                 0.305796   \n",
      "\n",
      "                                                       pearson_p pearson_r  \\\n",
      "XGB_randomSearch_25_byAgeResiduals                             0  0.997926   \n",
      "XGB_randomSearch_25_byRepFeatSmall_AgeGenderEGF...  2.33598e-141  0.839761   \n",
      "XGB_randomSearch_25_byRepFeatRelsSmall               1.52042e-43  0.553018   \n",
      "\n",
      "                                                      spearman_p spearman_r  \n",
      "XGB_randomSearch_25_byAgeResiduals                             0   0.998261  \n",
      "XGB_randomSearch_25_byRepFeatSmall_AgeGenderEGF...  1.09892e-147   0.849178  \n",
      "XGB_randomSearch_25_byRepFeatRelsSmall               3.17731e-42   0.545692  \n",
      "*******XGB_randomSearch_25_byRepFeatSmall_AgeGenderEGFRCorr001*******\n",
      "\n",
      "--------\n",
      "PERFORMANCE\n",
      "--------\n",
      "                                                   Coefficient_of_determination  \\\n",
      "XGB_randomSearch_25_byRepFeatSmall_AgeGenderEGF...                     0.696491   \n",
      "\n",
      "                                                       pearson_p pearson_r  \\\n",
      "XGB_randomSearch_25_byRepFeatSmall_AgeGenderEGF...  9.31129e-140  0.837278   \n",
      "\n",
      "                                                      spearman_p spearman_r  \n",
      "XGB_randomSearch_25_byRepFeatSmall_AgeGenderEGF...  7.97686e-146   0.846474  \n",
      "--------\n",
      "SHAP_VALUES\n",
      "--------\n",
      "simpson_nt_1_AgeCorrRes                                   2492.320777\n",
      "simpson_aa_1_AgeCorrRes                                   1617.278650\n",
      "simpson_nt_0                                               750.711957\n",
      "totalAnnotatefreqs                                         472.202514\n",
      "frequencyCount (%)_max_1_AgeCorrRes                        399.522348\n",
      "frequencyCount (%)_std_1_AgeCorrRes_Gender_MaleCorrRes     396.980817\n",
      "normSeqNums_per200_AA_1_AgeCorrRes_Gender_MaleCorrRes      347.600097\n",
      "normSeqNums_per2000_NT_1_AgeCorrRes_Gender_MaleCorrRes     314.419935\n",
      "frequencyCount (%)_std_0_AgeCorrRes_Gender_MaleCorrRes     266.058505\n",
      "top10clonal_aa_1_AgeCorrRes_Gender_MaleCorrRes             236.728252\n",
      "cdr3Length_max_1_AgeCorrRes                                207.673644\n",
      "berger_nt_0                                                189.053917\n",
      "DENV_rel_cum_freq(perc)                                    179.438402\n",
      "berger_aa_1_AgeCorrRes                                     178.455572\n",
      "PC3                                                        164.354262\n",
      "frequencyCount (%)_mean_1                                  159.227515\n",
      "top10clonal_nt_1_AgeCorrRes_Gender_MaleCorrRes             147.145498\n",
      "simpson_aa_0                                               145.920909\n",
      "normSeqNums_per200_AA_0_Gender_MaleCorrRes                 137.366022\n",
      "count (templates)_std_1_AgeCorrRes                         133.161034\n",
      "dtype: float64\n",
      "                                                   Coefficient_of_determination  \\\n",
      "XGB_randomSearch_25_byAgeResiduals                                     0.995744   \n",
      "XGB_randomSearch_25_byRepFeatSmall_AgeGenderEGF...                     0.701838   \n",
      "XGB_randomSearch_25_byRepFeatSmall_AgeGenderEGF...                     0.696491   \n",
      "XGB_randomSearch_25_byRepFeatRelsSmall                                 0.305796   \n",
      "\n",
      "                                                       pearson_p pearson_r  \\\n",
      "XGB_randomSearch_25_byAgeResiduals                             0  0.997926   \n",
      "XGB_randomSearch_25_byRepFeatSmall_AgeGenderEGF...  2.33598e-141  0.839761   \n",
      "XGB_randomSearch_25_byRepFeatSmall_AgeGenderEGF...  9.31129e-140  0.837278   \n",
      "XGB_randomSearch_25_byRepFeatRelsSmall               1.52042e-43  0.553018   \n",
      "\n",
      "                                                      spearman_p spearman_r  \n",
      "XGB_randomSearch_25_byAgeResiduals                             0   0.998261  \n",
      "XGB_randomSearch_25_byRepFeatSmall_AgeGenderEGF...  1.09892e-147   0.849178  \n",
      "XGB_randomSearch_25_byRepFeatSmall_AgeGenderEGF...  7.97686e-146   0.846474  \n",
      "XGB_randomSearch_25_byRepFeatRelsSmall               3.17731e-42   0.545692  \n",
      "*******XGB_randomSearch_25_byVDJ*******\n",
      "\n",
      "--------\n",
      "PERFORMANCE\n",
      "--------\n",
      "                          Coefficient_of_determination    pearson_p pearson_r  \\\n",
      "XGB_randomSearch_25_byVDJ                     0.344894  1.71133e-50  0.588831   \n",
      "\n",
      "                            spearman_p spearman_r  \n",
      "XGB_randomSearch_25_byVDJ  1.27839e-45   0.564181  \n",
      "--------\n",
      "SHAP_VALUES\n",
      "--------\n"
     ]
    },
    {
     "name": "stdout",
     "output_type": "stream",
     "text": [
      "V06-04_1        1854.774971\n",
      "V05_1            462.105748\n",
      "V25_J02_1        427.123452\n",
      "V13-01_1         373.589864\n",
      "V19-01_1         368.954268\n",
      "V05-01_1         314.775764\n",
      "V18_J02_1        275.925598\n",
      "V27-01_1         272.018582\n",
      "V07-09_1         258.055013\n",
      "V02_J02_0        253.294241\n",
      "V05-05_1         252.618110\n",
      "V25_1            212.832319\n",
      "D01_J02-04_0     183.694499\n",
      "V05_J02_1        168.946608\n",
      "V13_J02_1        168.148675\n",
      "V05-08_1         165.160187\n",
      "D01_J01-05_1     135.295944\n",
      "V13_J02_0        118.116085\n",
      "J02-05_1         115.407927\n",
      "D02_J02-02_0     115.002347\n",
      "dtype: float64\n",
      "                                                   Coefficient_of_determination  \\\n",
      "XGB_randomSearch_25_byAgeResiduals                                     0.995744   \n",
      "XGB_randomSearch_25_byRepFeatSmall_AgeGenderEGF...                     0.701838   \n",
      "XGB_randomSearch_25_byRepFeatSmall_AgeGenderEGF...                     0.696491   \n",
      "XGB_randomSearch_25_byVDJ                                              0.344894   \n",
      "XGB_randomSearch_25_byRepFeatRelsSmall                                 0.305796   \n",
      "\n",
      "                                                       pearson_p pearson_r  \\\n",
      "XGB_randomSearch_25_byAgeResiduals                             0  0.997926   \n",
      "XGB_randomSearch_25_byRepFeatSmall_AgeGenderEGF...  2.33598e-141  0.839761   \n",
      "XGB_randomSearch_25_byRepFeatSmall_AgeGenderEGF...  9.31129e-140  0.837278   \n",
      "XGB_randomSearch_25_byVDJ                            1.71133e-50  0.588831   \n",
      "XGB_randomSearch_25_byRepFeatRelsSmall               1.52042e-43  0.553018   \n",
      "\n",
      "                                                      spearman_p spearman_r  \n",
      "XGB_randomSearch_25_byAgeResiduals                             0   0.998261  \n",
      "XGB_randomSearch_25_byRepFeatSmall_AgeGenderEGF...  1.09892e-147   0.849178  \n",
      "XGB_randomSearch_25_byRepFeatSmall_AgeGenderEGF...  7.97686e-146   0.846474  \n",
      "XGB_randomSearch_25_byVDJ                            1.27839e-45   0.564181  \n",
      "XGB_randomSearch_25_byRepFeatRelsSmall               3.17731e-42   0.545692  \n",
      "*******XGB_randomSearch_25_byVDJ_ageCorr*******\n",
      "\n",
      "--------\n",
      "PERFORMANCE\n",
      "--------\n",
      "                                  Coefficient_of_determination    pearson_p  \\\n",
      "XGB_randomSearch_25_byVDJ_ageCorr                     0.126048  3.65054e-17   \n",
      "\n",
      "                                  pearson_r   spearman_p spearman_r  \n",
      "XGB_randomSearch_25_byVDJ_ageCorr  0.355714  1.38968e-16   0.349471  \n",
      "--------\n",
      "SHAP_VALUES\n",
      "--------\n",
      "V06-04_1_AgeCorrRes     573.154133\n",
      "V27_J01_1               459.615253\n",
      "V04-03_1                351.412375\n",
      "V07-09_1                291.393851\n",
      "V25_J02_1_AgeCorrRes    280.754493\n",
      "V06-05_1                275.713095\n",
      "V12_J02_0               257.945969\n",
      "V04_J02_1_AgeCorrRes    253.055243\n",
      "D01_J02-07_1            249.475220\n",
      "V20-01_0                221.616368\n",
      "D02_J02-02_0            208.619717\n",
      "V05-05_1_AgeCorrRes     206.577583\n",
      "V10_J01_1               197.141626\n",
      "V25_J02_0               186.277843\n",
      "D02_J02-06_1            182.674187\n",
      "J02-07_1_AgeCorrRes     176.250212\n",
      "V07-03_1                171.965455\n",
      "D01_J01-05_1            171.102498\n",
      "V13-01_1_AgeCorrRes     168.110474\n",
      "V11-01_1                165.800523\n",
      "dtype: float64\n",
      "                                                   Coefficient_of_determination  \\\n",
      "XGB_randomSearch_25_byAgeResiduals                                     0.995744   \n",
      "XGB_randomSearch_25_byRepFeatSmall_AgeGenderEGF...                     0.701838   \n",
      "XGB_randomSearch_25_byRepFeatSmall_AgeGenderEGF...                     0.696491   \n",
      "XGB_randomSearch_25_byVDJ                                              0.344894   \n",
      "XGB_randomSearch_25_byRepFeatRelsSmall                                 0.305796   \n",
      "XGB_randomSearch_25_byVDJ_ageCorr                                      0.126048   \n",
      "\n",
      "                                                       pearson_p pearson_r  \\\n",
      "XGB_randomSearch_25_byAgeResiduals                             0  0.997926   \n",
      "XGB_randomSearch_25_byRepFeatSmall_AgeGenderEGF...  2.33598e-141  0.839761   \n",
      "XGB_randomSearch_25_byRepFeatSmall_AgeGenderEGF...  9.31129e-140  0.837278   \n",
      "XGB_randomSearch_25_byVDJ                            1.71133e-50  0.588831   \n",
      "XGB_randomSearch_25_byRepFeatRelsSmall               1.52042e-43  0.553018   \n",
      "XGB_randomSearch_25_byVDJ_ageCorr                    3.65054e-17  0.355714   \n",
      "\n",
      "                                                      spearman_p spearman_r  \n",
      "XGB_randomSearch_25_byAgeResiduals                             0   0.998261  \n",
      "XGB_randomSearch_25_byRepFeatSmall_AgeGenderEGF...  1.09892e-147   0.849178  \n",
      "XGB_randomSearch_25_byRepFeatSmall_AgeGenderEGF...  7.97686e-146   0.846474  \n",
      "XGB_randomSearch_25_byVDJ                            1.27839e-45   0.564181  \n",
      "XGB_randomSearch_25_byRepFeatRelsSmall               3.17731e-42   0.545692  \n",
      "XGB_randomSearch_25_byVDJ_ageCorr                    1.38968e-16   0.349471  \n",
      "*******XGB_randomSearch_25_byseqs10only*******\n",
      "\n",
      "--------\n",
      "PERFORMANCE\n",
      "--------\n",
      "                                 Coefficient_of_determination   pearson_p  \\\n",
      "XGB_randomSearch_25_byseqs10only                      0.23308  3.7511e-32   \n",
      "\n",
      "                                 pearson_r   spearman_p spearman_r  \n",
      "XGB_randomSearch_25_byseqs10only  0.482977  1.09673e-29   0.465414  \n",
      "--------\n",
      "SHAP_VALUES\n",
      "--------\n",
      "CASSGTSGSTDTQYF    467.242726\n",
      "CASSELAGGTDTQYF    399.454629\n",
      "CASSDSSGSTDTQYF    394.078879\n",
      "CASSDSSGANVLTF     260.300177\n",
      "CASSDSSGGYNEQFF    224.053316\n",
      "CASSDSSGGANEQFF    210.778208\n",
      "CASSDSDTGELFF      205.467621\n",
      "CASSDSNTGELFF      170.748226\n",
      "CASSRDRGETQYF      168.081555\n",
      "CASSDGGATDTQYF     161.090447\n",
      "CASSDSSGSYNEQFF    150.471735\n",
      "CASSDGSTDTQYF      149.292110\n",
      "CASSLGGAGANVLTF    138.175347\n",
      "CASSDSSTDTQYF      119.582944\n",
      "CASSLSGSYEQYF      117.577830\n",
      "CASSEAGGSYNEQFF    114.558575\n",
      "CASSDRDTGELFF      112.059961\n",
      "CASSYSSGANVLTF     110.417629\n",
      "CASSFRETQYF        108.071195\n",
      "CASSFTGNTEAFF      103.973198\n",
      "dtype: float64\n",
      "                                                   Coefficient_of_determination  \\\n",
      "XGB_randomSearch_25_byAgeResiduals                                     0.995744   \n",
      "XGB_randomSearch_25_byRepFeatSmall_AgeGenderEGF...                     0.701838   \n",
      "XGB_randomSearch_25_byRepFeatSmall_AgeGenderEGF...                     0.696491   \n",
      "XGB_randomSearch_25_byVDJ                                              0.344894   \n",
      "XGB_randomSearch_25_byRepFeatRelsSmall                                 0.305796   \n",
      "XGB_randomSearch_25_byseqs10only                                        0.23308   \n",
      "XGB_randomSearch_25_byVDJ_ageCorr                                      0.126048   \n",
      "\n",
      "                                                       pearson_p pearson_r  \\\n",
      "XGB_randomSearch_25_byAgeResiduals                             0  0.997926   \n",
      "XGB_randomSearch_25_byRepFeatSmall_AgeGenderEGF...  2.33598e-141  0.839761   \n",
      "XGB_randomSearch_25_byRepFeatSmall_AgeGenderEGF...  9.31129e-140  0.837278   \n",
      "XGB_randomSearch_25_byVDJ                            1.71133e-50  0.588831   \n",
      "XGB_randomSearch_25_byRepFeatRelsSmall               1.52042e-43  0.553018   \n",
      "XGB_randomSearch_25_byseqs10only                      3.7511e-32  0.482977   \n",
      "XGB_randomSearch_25_byVDJ_ageCorr                    3.65054e-17  0.355714   \n",
      "\n",
      "                                                      spearman_p spearman_r  \n",
      "XGB_randomSearch_25_byAgeResiduals                             0   0.998261  \n",
      "XGB_randomSearch_25_byRepFeatSmall_AgeGenderEGF...  1.09892e-147   0.849178  \n",
      "XGB_randomSearch_25_byRepFeatSmall_AgeGenderEGF...  7.97686e-146   0.846474  \n",
      "XGB_randomSearch_25_byVDJ                            1.27839e-45   0.564181  \n",
      "XGB_randomSearch_25_byRepFeatRelsSmall               3.17731e-42   0.545692  \n",
      "XGB_randomSearch_25_byseqs10only                     1.09673e-29   0.465414  \n",
      "XGB_randomSearch_25_byVDJ_ageCorr                    1.38968e-16   0.349471  \n",
      "*******XGB_randomSearch_25_byWBCnTemplates*******\n",
      "\n",
      "--------\n",
      "PERFORMANCE\n",
      "--------\n",
      "                                    Coefficient_of_determination pearson_p  \\\n",
      "XGB_randomSearch_25_byWBCnTemplates                   -0.0188756   0.36219   \n",
      "\n",
      "                                     pearson_r spearman_p spearman_r  \n",
      "XGB_randomSearch_25_byWBCnTemplates  0.0297056   0.323736  0.0321693  \n",
      "--------\n",
      "SHAP_VALUES\n",
      "--------\n",
      "nTemplates    1143.543022\n",
      "WBC            760.484562\n",
      "dtype: float64\n",
      "                                                   Coefficient_of_determination  \\\n",
      "XGB_randomSearch_25_byAgeResiduals                                     0.995744   \n",
      "XGB_randomSearch_25_byRepFeatSmall_AgeGenderEGF...                     0.701838   \n",
      "XGB_randomSearch_25_byRepFeatSmall_AgeGenderEGF...                     0.696491   \n",
      "XGB_randomSearch_25_byVDJ                                              0.344894   \n",
      "XGB_randomSearch_25_byRepFeatRelsSmall                                 0.305796   \n",
      "XGB_randomSearch_25_byseqs10only                                        0.23308   \n",
      "XGB_randomSearch_25_byVDJ_ageCorr                                      0.126048   \n",
      "XGB_randomSearch_25_byWBCnTemplates                                  -0.0188756   \n",
      "\n",
      "                                                       pearson_p  pearson_r  \\\n",
      "XGB_randomSearch_25_byAgeResiduals                             0   0.997926   \n",
      "XGB_randomSearch_25_byRepFeatSmall_AgeGenderEGF...  2.33598e-141   0.839761   \n",
      "XGB_randomSearch_25_byRepFeatSmall_AgeGenderEGF...  9.31129e-140   0.837278   \n",
      "XGB_randomSearch_25_byVDJ                            1.71133e-50   0.588831   \n",
      "XGB_randomSearch_25_byRepFeatRelsSmall               1.52042e-43   0.553018   \n",
      "XGB_randomSearch_25_byseqs10only                      3.7511e-32   0.482977   \n",
      "XGB_randomSearch_25_byVDJ_ageCorr                    3.65054e-17   0.355714   \n",
      "XGB_randomSearch_25_byWBCnTemplates                      0.36219  0.0297056   \n",
      "\n",
      "                                                      spearman_p spearman_r  \n",
      "XGB_randomSearch_25_byAgeResiduals                             0   0.998261  \n",
      "XGB_randomSearch_25_byRepFeatSmall_AgeGenderEGF...  1.09892e-147   0.849178  \n",
      "XGB_randomSearch_25_byRepFeatSmall_AgeGenderEGF...  7.97686e-146   0.846474  \n",
      "XGB_randomSearch_25_byVDJ                            1.27839e-45   0.564181  \n",
      "XGB_randomSearch_25_byRepFeatRelsSmall               3.17731e-42   0.545692  \n",
      "XGB_randomSearch_25_byseqs10only                     1.09673e-29   0.465414  \n",
      "XGB_randomSearch_25_byVDJ_ageCorr                    1.38968e-16   0.349471  \n",
      "XGB_randomSearch_25_byWBCnTemplates                     0.323736  0.0321693  \n"
     ]
    }
   ],
   "source": [
    "dirs=['XGB_randomSearch_25_byRepFeatRelsSmall','XGB_randomSearch_25_byAgeResiduals',\n",
    "      'XGB_randomSearch_25_byRepFeatSmall_AgeGenderEGFRCorr01','XGB_randomSearch_25_byRepFeatSmall_AgeGenderEGFRCorr001',\n",
    "      'XGB_randomSearch_25_byVDJ', 'XGB_randomSearch_25_byVDJ_ageCorr',\n",
    "      'XGB_randomSearch_25_byseqs10only','XGB_randomSearch_25_byWBCnTemplates']\n",
    "# phen_list=[('Age',['Coefficient_of_determination','pearson_p','pearson_r','spearman_p','spearman_r']),('Gender_Male',['prevalence','AUC','Precision_Recall'])]\n",
    "phen_list=[('Age',['Coefficient_of_determination','pearson_p','pearson_r','spearman_p','spearman_r'])]\n",
    "for item in phen_list:\n",
    "    phen=item[0]\n",
    "    colList=item[1]\n",
    "    print '**********************'\n",
    "    print '*  '+phen\n",
    "    print '**********************'\n",
    "    print ''\n",
    "\n",
    "    phen_df_list=[]\n",
    "    for d in dirs:\n",
    "        print '*******'+d+'*******'\n",
    "        print ''\n",
    "        print '--------'\n",
    "        print 'PERFORMANCE'\n",
    "        print '--------'\n",
    "        f1='%s/%s/results_df.pkl' %(result_folder,d)\n",
    "        results_df=pd.read_pickle(f1)\n",
    "        phen_result=pd.DataFrame(results_df.loc[phen,colList])\n",
    "        phen_result=phen_result.rename(columns={phen:d}).T\n",
    "        phen_df_list.append(phen_result)\n",
    "        print phen_result\n",
    "\n",
    "        print '--------'\n",
    "        print 'SHAP_VALUES'\n",
    "        print '--------'\n",
    "        f2='%s/%s/shap_values.pkl' %(result_folder,d)\n",
    "        shap_values=pd.read_pickle(f2)\n",
    "\n",
    "        for k,v in shap_values.items():\n",
    "            if k ==phen:\n",
    "    #         print k\n",
    "    #         print '------------------------'\n",
    "                print v.abs().sum().sort_values(ascending=False).head(20)\n",
    "                impFeatures=v.abs().sum().sort_values(ascending=False).head(20)\n",
    "            \n",
    "        if phen == 'Age':\n",
    "            sorting='pearson_r'\n",
    "        else:\n",
    "            sorting='AUC'\n",
    "        phen_result_sum=pd.concat(phen_df_list).sort_values(by=sorting,ascending=False)\n",
    "        print phen_result_sum\n",
    "        \n",
    "        \n",
    "\n",
    "\n"
   ]
  },
  {
   "cell_type": "code",
   "execution_count": 53,
   "metadata": {
    "ExecuteTime": {
     "end_time": "2018-11-13T13:17:40.379150Z",
     "start_time": "2018-11-13T13:17:40.350668Z"
    }
   },
   "outputs": [
    {
     "data": {
      "text/html": [
       "<div>\n",
       "<style scoped>\n",
       "    .dataframe tbody tr th:only-of-type {\n",
       "        vertical-align: middle;\n",
       "    }\n",
       "\n",
       "    .dataframe tbody tr th {\n",
       "        vertical-align: top;\n",
       "    }\n",
       "\n",
       "    .dataframe thead th {\n",
       "        text-align: right;\n",
       "    }\n",
       "</style>\n",
       "<table border=\"1\" class=\"dataframe\">\n",
       "  <thead>\n",
       "    <tr style=\"text-align: right;\">\n",
       "      <th></th>\n",
       "      <th>Coefficient_of_determination</th>\n",
       "      <th>pearson_p</th>\n",
       "      <th>pearson_r</th>\n",
       "      <th>spearman_p</th>\n",
       "      <th>spearman_r</th>\n",
       "    </tr>\n",
       "  </thead>\n",
       "  <tbody>\n",
       "    <tr>\n",
       "      <th>XGB_randomSearch_25_byAgeResiduals</th>\n",
       "      <td>0.995744</td>\n",
       "      <td>0</td>\n",
       "      <td>0.997926</td>\n",
       "      <td>0</td>\n",
       "      <td>0.998261</td>\n",
       "    </tr>\n",
       "    <tr>\n",
       "      <th>XGB_randomSearch_25_byRepFeatSmall_AgeGenderEGFRCorr01</th>\n",
       "      <td>0.701838</td>\n",
       "      <td>2.33598e-141</td>\n",
       "      <td>0.839761</td>\n",
       "      <td>1.09892e-147</td>\n",
       "      <td>0.849178</td>\n",
       "    </tr>\n",
       "    <tr>\n",
       "      <th>XGB_randomSearch_25_byRepFeatSmall_AgeGenderEGFRCorr001</th>\n",
       "      <td>0.696491</td>\n",
       "      <td>9.31129e-140</td>\n",
       "      <td>0.837278</td>\n",
       "      <td>7.97686e-146</td>\n",
       "      <td>0.846474</td>\n",
       "    </tr>\n",
       "    <tr>\n",
       "      <th>XGB_randomSearch_25_byVDJ</th>\n",
       "      <td>0.344894</td>\n",
       "      <td>1.71133e-50</td>\n",
       "      <td>0.588831</td>\n",
       "      <td>1.27839e-45</td>\n",
       "      <td>0.564181</td>\n",
       "    </tr>\n",
       "    <tr>\n",
       "      <th>XGB_randomSearch_25_byRepFeatRelsSmall</th>\n",
       "      <td>0.305796</td>\n",
       "      <td>1.52042e-43</td>\n",
       "      <td>0.553018</td>\n",
       "      <td>3.17731e-42</td>\n",
       "      <td>0.545692</td>\n",
       "    </tr>\n",
       "    <tr>\n",
       "      <th>XGB_randomSearch_25_byseqs10only</th>\n",
       "      <td>0.23308</td>\n",
       "      <td>3.7511e-32</td>\n",
       "      <td>0.482977</td>\n",
       "      <td>1.09673e-29</td>\n",
       "      <td>0.465414</td>\n",
       "    </tr>\n",
       "    <tr>\n",
       "      <th>XGB_randomSearch_25_byVDJ_ageCorr</th>\n",
       "      <td>0.126048</td>\n",
       "      <td>3.65054e-17</td>\n",
       "      <td>0.355714</td>\n",
       "      <td>1.38968e-16</td>\n",
       "      <td>0.349471</td>\n",
       "    </tr>\n",
       "    <tr>\n",
       "      <th>XGB_randomSearch_25_byWBCnTemplates</th>\n",
       "      <td>-0.0188756</td>\n",
       "      <td>0.36219</td>\n",
       "      <td>0.0297056</td>\n",
       "      <td>0.323736</td>\n",
       "      <td>0.0321693</td>\n",
       "    </tr>\n",
       "  </tbody>\n",
       "</table>\n",
       "</div>"
      ],
      "text/plain": [
       "                                                   Coefficient_of_determination  \\\n",
       "XGB_randomSearch_25_byAgeResiduals                                     0.995744   \n",
       "XGB_randomSearch_25_byRepFeatSmall_AgeGenderEGF...                     0.701838   \n",
       "XGB_randomSearch_25_byRepFeatSmall_AgeGenderEGF...                     0.696491   \n",
       "XGB_randomSearch_25_byVDJ                                              0.344894   \n",
       "XGB_randomSearch_25_byRepFeatRelsSmall                                 0.305796   \n",
       "XGB_randomSearch_25_byseqs10only                                        0.23308   \n",
       "XGB_randomSearch_25_byVDJ_ageCorr                                      0.126048   \n",
       "XGB_randomSearch_25_byWBCnTemplates                                  -0.0188756   \n",
       "\n",
       "                                                       pearson_p  pearson_r  \\\n",
       "XGB_randomSearch_25_byAgeResiduals                             0   0.997926   \n",
       "XGB_randomSearch_25_byRepFeatSmall_AgeGenderEGF...  2.33598e-141   0.839761   \n",
       "XGB_randomSearch_25_byRepFeatSmall_AgeGenderEGF...  9.31129e-140   0.837278   \n",
       "XGB_randomSearch_25_byVDJ                            1.71133e-50   0.588831   \n",
       "XGB_randomSearch_25_byRepFeatRelsSmall               1.52042e-43   0.553018   \n",
       "XGB_randomSearch_25_byseqs10only                      3.7511e-32   0.482977   \n",
       "XGB_randomSearch_25_byVDJ_ageCorr                    3.65054e-17   0.355714   \n",
       "XGB_randomSearch_25_byWBCnTemplates                      0.36219  0.0297056   \n",
       "\n",
       "                                                      spearman_p spearman_r  \n",
       "XGB_randomSearch_25_byAgeResiduals                             0   0.998261  \n",
       "XGB_randomSearch_25_byRepFeatSmall_AgeGenderEGF...  1.09892e-147   0.849178  \n",
       "XGB_randomSearch_25_byRepFeatSmall_AgeGenderEGF...  7.97686e-146   0.846474  \n",
       "XGB_randomSearch_25_byVDJ                            1.27839e-45   0.564181  \n",
       "XGB_randomSearch_25_byRepFeatRelsSmall               3.17731e-42   0.545692  \n",
       "XGB_randomSearch_25_byseqs10only                     1.09673e-29   0.465414  \n",
       "XGB_randomSearch_25_byVDJ_ageCorr                    1.38968e-16   0.349471  \n",
       "XGB_randomSearch_25_byWBCnTemplates                     0.323736  0.0321693  "
      ]
     },
     "execution_count": 53,
     "metadata": {},
     "output_type": "execute_result"
    }
   ],
   "source": [
    "phen_result_sum=pd.concat(phen_df_list).sort_values(by='pearson_r',ascending=False)\n",
    "phen_result_sum"
   ]
  },
  {
   "cell_type": "code",
   "execution_count": 54,
   "metadata": {
    "ExecuteTime": {
     "end_time": "2018-11-13T13:51:27.072261Z",
     "start_time": "2018-11-13T13:51:27.043911Z"
    }
   },
   "outputs": [],
   "source": [
    "folder='/net/mraid08/export/genie/Lab/Personal/ShaniBAF/TCR_real_data/Predictions/featureDFs/'\n",
    "corr001file='allTCRfeatures_percShared10__withRels_noT_AgeCorr001.dat'\n",
    "corr01file='allTCRfeatures_percShared10__withRels_noT_AgeCorr01.dat'\n",
    "corr001=pd.read_pickle(folder+corr001file)\n",
    "corr01=pd.read_pickle(folder+corr01file)"
   ]
  },
  {
   "cell_type": "code",
   "execution_count": 55,
   "metadata": {
    "ExecuteTime": {
     "end_time": "2018-11-13T13:51:33.476292Z",
     "start_time": "2018-11-13T13:51:33.413234Z"
    }
   },
   "outputs": [
    {
     "data": {
      "text/html": [
       "<div>\n",
       "<style scoped>\n",
       "    .dataframe tbody tr th:only-of-type {\n",
       "        vertical-align: middle;\n",
       "    }\n",
       "\n",
       "    .dataframe tbody tr th {\n",
       "        vertical-align: top;\n",
       "    }\n",
       "\n",
       "    .dataframe thead th {\n",
       "        text-align: right;\n",
       "    }\n",
       "</style>\n",
       "<table border=\"1\" class=\"dataframe\">\n",
       "  <thead>\n",
       "    <tr style=\"text-align: right;\">\n",
       "      <th></th>\n",
       "      <th>berger_aa_0</th>\n",
       "      <th>berger_nt_0</th>\n",
       "      <th>cdr3Length_max_0</th>\n",
       "      <th>cdr3Length_mean_0</th>\n",
       "      <th>cdr3Length_mean_1</th>\n",
       "      <th>cdr3Length_std_0</th>\n",
       "      <th>count (templates)_max_0</th>\n",
       "      <th>count (templates)_std_0</th>\n",
       "      <th>d3Deletion_mean_0</th>\n",
       "      <th>d3Deletion_std_0</th>\n",
       "      <th>...</th>\n",
       "      <th>top1000clonal_nt_1_AgeCorrRes</th>\n",
       "      <th>top10clonal_aa_0_AgeCorrRes</th>\n",
       "      <th>top10clonal_aa_1_AgeCorrRes</th>\n",
       "      <th>top10clonal_nt_0_AgeCorrRes</th>\n",
       "      <th>top10clonal_nt_1_AgeCorrRes</th>\n",
       "      <th>vDeletion_mean_1_AgeCorrRes</th>\n",
       "      <th>DENV_rel_seq_count_AgeCorrRes</th>\n",
       "      <th>totalAnnotateSeqs_AgeCorrRes</th>\n",
       "      <th>PC1_AgeCorrRes</th>\n",
       "      <th>PC2_AgeCorrRes</th>\n",
       "    </tr>\n",
       "  </thead>\n",
       "  <tbody>\n",
       "    <tr>\n",
       "      <th>BD406</th>\n",
       "      <td>0.047619</td>\n",
       "      <td>0.005882</td>\n",
       "      <td>76.0</td>\n",
       "      <td>46.414634</td>\n",
       "      <td>43.849290</td>\n",
       "      <td>7.354225</td>\n",
       "      <td>15.0</td>\n",
       "      <td>0.565283</td>\n",
       "      <td>3.252313</td>\n",
       "      <td>2.687372</td>\n",
       "      <td>...</td>\n",
       "      <td>-0.144717</td>\n",
       "      <td>-0.082968</td>\n",
       "      <td>-0.097109</td>\n",
       "      <td>-0.116696</td>\n",
       "      <td>-0.094733</td>\n",
       "      <td>-0.056378</td>\n",
       "      <td>0.311464</td>\n",
       "      <td>-21.651816</td>\n",
       "      <td>-0.009961</td>\n",
       "      <td>0.006823</td>\n",
       "    </tr>\n",
       "    <tr>\n",
       "      <th>BD228</th>\n",
       "      <td>0.019465</td>\n",
       "      <td>0.006371</td>\n",
       "      <td>80.0</td>\n",
       "      <td>47.004652</td>\n",
       "      <td>43.906318</td>\n",
       "      <td>7.885490</td>\n",
       "      <td>28.0</td>\n",
       "      <td>0.904500</td>\n",
       "      <td>3.388731</td>\n",
       "      <td>2.668487</td>\n",
       "      <td>...</td>\n",
       "      <td>-0.078484</td>\n",
       "      <td>-0.081897</td>\n",
       "      <td>-0.049502</td>\n",
       "      <td>-0.059765</td>\n",
       "      <td>-0.047450</td>\n",
       "      <td>-0.026403</td>\n",
       "      <td>1.601166</td>\n",
       "      <td>19.607149</td>\n",
       "      <td>-0.003222</td>\n",
       "      <td>-0.033301</td>\n",
       "    </tr>\n",
       "    <tr>\n",
       "      <th>BD714</th>\n",
       "      <td>0.108108</td>\n",
       "      <td>0.096562</td>\n",
       "      <td>74.0</td>\n",
       "      <td>45.232720</td>\n",
       "      <td>43.485130</td>\n",
       "      <td>7.563116</td>\n",
       "      <td>382.0</td>\n",
       "      <td>9.150792</td>\n",
       "      <td>3.278937</td>\n",
       "      <td>2.692033</td>\n",
       "      <td>...</td>\n",
       "      <td>0.069605</td>\n",
       "      <td>0.018427</td>\n",
       "      <td>0.051463</td>\n",
       "      <td>0.151535</td>\n",
       "      <td>0.045553</td>\n",
       "      <td>-0.022286</td>\n",
       "      <td>-0.896652</td>\n",
       "      <td>-62.053844</td>\n",
       "      <td>-0.003876</td>\n",
       "      <td>0.051476</td>\n",
       "    </tr>\n",
       "    <tr>\n",
       "      <th>BD808</th>\n",
       "      <td>0.053691</td>\n",
       "      <td>0.004317</td>\n",
       "      <td>80.0</td>\n",
       "      <td>46.155560</td>\n",
       "      <td>43.812114</td>\n",
       "      <td>7.391590</td>\n",
       "      <td>24.0</td>\n",
       "      <td>0.745621</td>\n",
       "      <td>3.363263</td>\n",
       "      <td>2.723223</td>\n",
       "      <td>...</td>\n",
       "      <td>-0.044716</td>\n",
       "      <td>-0.046655</td>\n",
       "      <td>0.003230</td>\n",
       "      <td>-0.063838</td>\n",
       "      <td>0.003107</td>\n",
       "      <td>-0.048722</td>\n",
       "      <td>0.727577</td>\n",
       "      <td>56.745143</td>\n",
       "      <td>0.009281</td>\n",
       "      <td>0.016281</td>\n",
       "    </tr>\n",
       "    <tr>\n",
       "      <th>BD144</th>\n",
       "      <td>0.031320</td>\n",
       "      <td>0.027792</td>\n",
       "      <td>81.0</td>\n",
       "      <td>46.254953</td>\n",
       "      <td>43.639412</td>\n",
       "      <td>7.390437</td>\n",
       "      <td>164.0</td>\n",
       "      <td>3.190097</td>\n",
       "      <td>3.219682</td>\n",
       "      <td>2.726473</td>\n",
       "      <td>...</td>\n",
       "      <td>0.004739</td>\n",
       "      <td>-0.054835</td>\n",
       "      <td>0.006861</td>\n",
       "      <td>-0.013157</td>\n",
       "      <td>0.005799</td>\n",
       "      <td>-0.100580</td>\n",
       "      <td>-0.720251</td>\n",
       "      <td>74.515153</td>\n",
       "      <td>0.014334</td>\n",
       "      <td>0.058647</td>\n",
       "    </tr>\n",
       "  </tbody>\n",
       "</table>\n",
       "<p>5 rows × 147 columns</p>\n",
       "</div>"
      ],
      "text/plain": [
       "       berger_aa_0  berger_nt_0  cdr3Length_max_0  cdr3Length_mean_0  \\\n",
       "BD406     0.047619     0.005882              76.0          46.414634   \n",
       "BD228     0.019465     0.006371              80.0          47.004652   \n",
       "BD714     0.108108     0.096562              74.0          45.232720   \n",
       "BD808     0.053691     0.004317              80.0          46.155560   \n",
       "BD144     0.031320     0.027792              81.0          46.254953   \n",
       "\n",
       "       cdr3Length_mean_1  cdr3Length_std_0  count (templates)_max_0  \\\n",
       "BD406          43.849290          7.354225                     15.0   \n",
       "BD228          43.906318          7.885490                     28.0   \n",
       "BD714          43.485130          7.563116                    382.0   \n",
       "BD808          43.812114          7.391590                     24.0   \n",
       "BD144          43.639412          7.390437                    164.0   \n",
       "\n",
       "       count (templates)_std_0  d3Deletion_mean_0  d3Deletion_std_0  \\\n",
       "BD406                 0.565283           3.252313          2.687372   \n",
       "BD228                 0.904500           3.388731          2.668487   \n",
       "BD714                 9.150792           3.278937          2.692033   \n",
       "BD808                 0.745621           3.363263          2.723223   \n",
       "BD144                 3.190097           3.219682          2.726473   \n",
       "\n",
       "            ...        top1000clonal_nt_1_AgeCorrRes  \\\n",
       "BD406       ...                            -0.144717   \n",
       "BD228       ...                            -0.078484   \n",
       "BD714       ...                             0.069605   \n",
       "BD808       ...                            -0.044716   \n",
       "BD144       ...                             0.004739   \n",
       "\n",
       "       top10clonal_aa_0_AgeCorrRes  top10clonal_aa_1_AgeCorrRes  \\\n",
       "BD406                    -0.082968                    -0.097109   \n",
       "BD228                    -0.081897                    -0.049502   \n",
       "BD714                     0.018427                     0.051463   \n",
       "BD808                    -0.046655                     0.003230   \n",
       "BD144                    -0.054835                     0.006861   \n",
       "\n",
       "       top10clonal_nt_0_AgeCorrRes  top10clonal_nt_1_AgeCorrRes  \\\n",
       "BD406                    -0.116696                    -0.094733   \n",
       "BD228                    -0.059765                    -0.047450   \n",
       "BD714                     0.151535                     0.045553   \n",
       "BD808                    -0.063838                     0.003107   \n",
       "BD144                    -0.013157                     0.005799   \n",
       "\n",
       "       vDeletion_mean_1_AgeCorrRes  DENV_rel_seq_count_AgeCorrRes  \\\n",
       "BD406                    -0.056378                       0.311464   \n",
       "BD228                    -0.026403                       1.601166   \n",
       "BD714                    -0.022286                      -0.896652   \n",
       "BD808                    -0.048722                       0.727577   \n",
       "BD144                    -0.100580                      -0.720251   \n",
       "\n",
       "       totalAnnotateSeqs_AgeCorrRes  PC1_AgeCorrRes  PC2_AgeCorrRes  \n",
       "BD406                    -21.651816       -0.009961        0.006823  \n",
       "BD228                     19.607149       -0.003222       -0.033301  \n",
       "BD714                    -62.053844       -0.003876        0.051476  \n",
       "BD808                     56.745143        0.009281        0.016281  \n",
       "BD144                     74.515153        0.014334        0.058647  \n",
       "\n",
       "[5 rows x 147 columns]"
      ]
     },
     "execution_count": 55,
     "metadata": {},
     "output_type": "execute_result"
    }
   ],
   "source": [
    "corr001.head()"
   ]
  },
  {
   "cell_type": "code",
   "execution_count": 56,
   "metadata": {
    "ExecuteTime": {
     "end_time": "2018-11-13T13:51:50.803710Z",
     "start_time": "2018-11-13T13:51:50.792486Z"
    }
   },
   "outputs": [
    {
     "name": "stdout",
     "output_type": "stream",
     "text": [
      "41\n",
      "56\n"
     ]
    }
   ],
   "source": [
    "corr001cols=[x for x in corr001.columns if '_Age' in x]\n",
    "print len(corr001cols)\n",
    "corr01cols=[x for x in corr01.columns if '_Age' in x]\n",
    "print len(corr01cols)"
   ]
  },
  {
   "cell_type": "markdown",
   "metadata": {},
   "source": [
    "## get selected params:"
   ]
  },
  {
   "cell_type": "code",
   "execution_count": null,
   "metadata": {
    "ExecuteTime": {
     "end_time": "2018-11-12T09:18:06.288729Z",
     "start_time": "2018-11-12T09:18:06.010003Z"
    }
   },
   "outputs": [],
   "source": [
    "dirs=['XGB_randomSearch_25_byRepFeatRelsSmall','XGB_randomSearch_25_byRepFeatRelsSmall_GenderCorr','XGB_randomSearch_25_byRepFeatRelsSmall_AgeCorr',\n",
    "     'XGB_randomSearch_25_byVDJ','XGB_randomSearch_25_byseqs10only','XGB_randomSearch_25_byWBCnTemplates']\n",
    "phen_list=[('Age',['Coefficient_of_determination','pearson_p','pearson_r','spearman_p','spearman_r']),('Gender_Male',['prevalence','AUC','Precision_Recall'])]\n",
    "\n",
    "for item in phen_list:\n",
    "    phen=item[0]\n",
    "    colList=item[1]\n",
    "    print '**********************'\n",
    "    print '*  '+phen\n",
    "    print '**********************'\n",
    "    print ''\n",
    "\n",
    "    phen_df_list=[]\n",
    "    for d in dirs:\n",
    "        print '*******'+d+'*******'\n",
    "        print ''\n",
    "        print '--------'\n",
    "        print 'selected prarams'\n",
    "        print '--------'\n",
    "        f1='%s/%s/selected_model_params.pkl' %(result_folder,d)\n",
    "        selected_model_params=pd.read_pickle(f1)\n",
    "        print selected_model_params['Age']"
   ]
  },
  {
   "cell_type": "markdown",
   "metadata": {},
   "source": [
    "# using more stringent cutoff for correcting features"
   ]
  },
  {
   "cell_type": "markdown",
   "metadata": {},
   "source": [
    "## correcting "
   ]
  },
  {
   "cell_type": "code",
   "execution_count": 51,
   "metadata": {
    "ExecuteTime": {
     "end_time": "2018-11-13T12:56:24.197149Z",
     "start_time": "2018-11-13T12:55:42.391357Z"
    }
   },
   "outputs": [
    {
     "name": "stdout",
     "output_type": "stream",
     "text": [
      "stop\n",
      "stop\n",
      "done1\n",
      "done\n",
      "done\n",
      "main\n",
      "('Xfile: ', '/net/mraid08/export/genie/Lab/Personal/ShaniBAF/TCR_real_data/Predictions/featureDFs/VDJ_no0-01rare.dat')\n",
      "('Xdir: ', '/net/mraid08/export/genie/Lab/Personal/ShaniBAF/TCR_real_data/Predictions/featureDFs/')\n",
      "('Xname: ', 'VDJ_no0-01rare')\n",
      "X Index is already \"bd\" or no such column exist\n",
      "('phenotypes to correct for are:', [u'Age', u'Gender_Male', u'eGFR by CKD-EPI'])\n",
      "correcting VDJ_no0-01rare for Age\n",
      "        Age\n",
      "BD         \n",
      "BD1     NaN\n",
      "BD10   45.0\n",
      "BD100  57.0\n",
      "BD101  64.0\n",
      "BD102  40.0\n",
      "        Age\n",
      "BD         \n",
      "BD406  65.0\n",
      "BD228  32.0\n",
      "BD714  39.0\n",
      "BD808  26.0\n",
      "BD144  36.0\n",
      "(u'Age series type:', dtype('float64'))\n",
      "checking associations between Age and all TCR features:\n",
      "number of phenotype unique values is Age    50\n",
      "dtype: int64 and useCorrForBinary=Truetherefore correlation test is used\n",
      "('number of features to correct is:', 60)\n",
      "('the most significantly associated features are:', ['V06-04_1', 'V06_J02_1', 'V05_1', 'V25_J02_1', 'V25-01_1'])\n",
      "0 V04_0\n",
      "100 V18_J01_0\n",
      "200 J02-04_1\n",
      "('X_Corr shape after correcting all features is', (656, 268))\n",
      "checking which features are still associated with Age:\n",
      "        Age\n",
      "BD         \n",
      "BD406  65.0\n",
      "BD228  32.0\n",
      "BD714  39.0\n",
      "BD808  26.0\n",
      "BD144  36.0\n",
      "(u'Age series type:', dtype('float64'))\n",
      "checking associations between Age and all TCR features:\n",
      "number of phenotype unique values is Age    50\n",
      "dtype: int64 and useCorrForBinary=Truetherefore correlation test is used\n",
      "('number of features to correct is:', 0)\n",
      "('the most significantly associated features are:', [])\n",
      "correcting VDJ_no0-01rare_AgeCorr for Gender_Male\n",
      "       Gender_Male\n",
      "BD                \n",
      "BD1              0\n",
      "BD10             1\n",
      "BD100            1\n",
      "BD101            1\n",
      "BD102            0\n",
      "       Gender_Male\n",
      "BD                \n",
      "BD406            0\n",
      "BD228            1\n",
      "BD714            1\n",
      "BD808            0\n",
      "BD144            0\n",
      "(u'Gender_Male series type:', dtype('int64'))\n",
      "checking associations between Gender_Male and all TCR features:\n",
      "number of phenotype unique values is Gender_Male    2\n",
      "dtype: int64 and useCorrForBinary=Truetherefore correlation test is used\n",
      "('number of features to correct is:', 88)\n",
      "('the most significantly associated features are:', ['D01_J02-02_1', u'V06_J02_1_AgeCorrRes', u'D01_J02-07_1_AgeCorrRes', 'J02-02_0', 'J02-02_1'])\n",
      "0 V04_0\n",
      "100 V21_J02_0\n",
      "200 D02_J01-01_1\n",
      "('X_Corr shape after correcting all features is', (656, 268))\n",
      "checking which features are still associated with Age:\n",
      "        Age\n",
      "BD         \n",
      "BD406  65.0\n",
      "BD228  32.0\n",
      "BD714  39.0\n",
      "BD808  26.0\n",
      "BD144  36.0\n",
      "(u'Age series type:', dtype('float64'))\n",
      "checking associations between Age and all TCR features:\n",
      "number of phenotype unique values is Age    50\n",
      "dtype: int64 and useCorrForBinary=Truetherefore correlation test is used\n",
      "('number of features to correct is:', 0)\n",
      "('the most significantly associated features are:', [])\n",
      "checking which features are still associated with Gender_Male:\n",
      "       Gender_Male\n",
      "BD                \n",
      "BD406            0\n",
      "BD228            1\n",
      "BD714            1\n",
      "BD808            0\n",
      "BD144            0\n",
      "(u'Gender_Male series type:', dtype('int64'))\n",
      "checking associations between Gender_Male and all TCR features:\n",
      "number of phenotype unique values is Gender_Male    2\n",
      "dtype: int64 and useCorrForBinary=Truetherefore correlation test is used\n",
      "('number of features to correct is:', 0)\n",
      "('the most significantly associated features are:', [])\n",
      "correcting VDJ_no0-01rare_AgeCorr_Gender_MaleCorr for eGFR by CKD-EPI\n",
      "       eGFR by CKD-EPI\n",
      "BD                    \n",
      "BD1                NaN\n",
      "BD10              87.0\n",
      "BD100             75.0\n",
      "BD101             60.0\n",
      "BD102             88.0\n",
      "       eGFR by CKD-EPI\n",
      "BD                    \n",
      "BD406             54.0\n",
      "BD228             90.0\n",
      "BD714             93.0\n",
      "BD808             87.0\n",
      "BD144             83.0\n",
      "(u'eGFR by CKD-EPI series type:', dtype('float64'))\n",
      "checking associations between eGFR by CKD-EPI and all TCR features:\n",
      "number of phenotype unique values is eGFR by CKD-EPI    79\n",
      "dtype: int64 and useCorrForBinary=Truetherefore correlation test is used\n",
      "('number of features to correct is:', 53)\n",
      "('the most significantly associated features are:', [u'D02_J02-02_1_Gender_MaleCorrRes', 'D01_J01-04_0', 'J01-04_0', 'J02-01_0', 'V10_J02_0'])\n",
      "0 V04_0\n",
      "100 D02_J02-07_0\n",
      "200 V19_J01_0_Gender_MaleCorrRes\n",
      "('X_Corr shape after correcting all features is', (656, 268))\n",
      "checking which features are still associated with Age:\n",
      "        Age\n",
      "BD         \n",
      "BD406  65.0\n",
      "BD228  32.0\n",
      "BD714  39.0\n",
      "BD808  26.0\n",
      "BD144  36.0\n",
      "(u'Age series type:', dtype('float64'))\n",
      "checking associations between Age and all TCR features:\n",
      "number of phenotype unique values is Age    50\n",
      "dtype: int64 and useCorrForBinary=Truetherefore correlation test is used\n",
      "('number of features to correct is:', 0)\n",
      "('the most significantly associated features are:', [])\n",
      "checking which features are still associated with Gender_Male:\n",
      "       Gender_Male\n",
      "BD                \n",
      "BD406            0\n",
      "BD228            1\n",
      "BD714            1\n",
      "BD808            0\n",
      "BD144            0\n",
      "(u'Gender_Male series type:', dtype('int64'))\n",
      "checking associations between Gender_Male and all TCR features:\n",
      "number of phenotype unique values is Gender_Male    2\n",
      "dtype: int64 and useCorrForBinary=Truetherefore correlation test is used\n",
      "('number of features to correct is:', 0)\n",
      "('the most significantly associated features are:', [])\n",
      "checking which features are still associated with eGFR by CKD-EPI:\n",
      "       eGFR by CKD-EPI\n",
      "BD                    \n",
      "BD406             54.0\n",
      "BD228             90.0\n",
      "BD714             93.0\n",
      "BD808             87.0\n",
      "BD144             83.0\n",
      "(u'eGFR by CKD-EPI series type:', dtype('float64'))\n",
      "checking associations between eGFR by CKD-EPI and all TCR features:\n",
      "number of phenotype unique values is eGFR by CKD-EPI    79\n",
      "dtype: int64 and useCorrForBinary=Truetherefore correlation test is used\n",
      "('number of features to correct is:', 0)\n",
      "('the most significantly associated features are:', [])\n"
     ]
    }
   ],
   "source": [
    "!python /home/sbenari/workspace/Microbiome/ShaniBA/TCR_feature_generation/FeatureCorrection_byLinReg.py \\\n",
    "/net/mraid08/export/genie/Lab/Personal/ShaniBAF/TCR_real_data/Predictions/featureDFs/VDJ_no0-01rare.dat \\\n",
    "-path_to_phenotype_DF /net/mraid08/export/genie/Lab/Personal/ShaniBAF/TCR_real_data/PNP530Cardio126Combined/Phenotypes/PNP530Cardio126_AllInfo_withDummies.xlsx \\\n",
    "-FDR 0.1 -phen_list '[\"Age\",\"Gender_Male\",\"eGFR by CKD-EPI\"]' "
   ]
  },
  {
   "cell_type": "markdown",
   "metadata": {},
   "source": [
    "### an example for feature before and after correction for gender:"
   ]
  },
  {
   "cell_type": "code",
   "execution_count": 17,
   "metadata": {
    "ExecuteTime": {
     "end_time": "2018-11-13T07:01:22.638622Z",
     "start_time": "2018-11-13T07:01:21.894523Z"
    }
   },
   "outputs": [],
   "source": [
    "# get dfs:\n",
    "#phen:\n",
    "f1='/net/mraid08/export/genie/Lab/Personal/ShaniBAF/TCR_real_data/PNP530Cardio126Combined/Phenotypes/\\\n",
    "PNP530Cardio126_AllInfo_withDummies.xlsx'\n",
    "phenDF=pd.read_excel(f1).set_index('BD').loc[PNP530,:]\n",
    "phenDF=phenDF['Gender_Male']\n",
    "\n",
    "#features:\n",
    "\n",
    "folder='/net/mraid08/export/genie/Lab/Personal/ShaniBAF/TCR_real_data/Predictions/featureDFs/'\n",
    "X_corr_gender_file='allTCRfeatures_percShared10__withRels_noT_Gender_MaleCorr.dat'\n",
    "X_corr_gender=pd.read_pickle(folder+X_corr_gender_file).loc[PNP530,:]\n",
    "# X_corr=X_corr.loc[PNP530,:]\n",
    "\n",
    "X_file='allTCRfeatures_percShared10__withRels_noT.dat'\n",
    "X=pd.read_pickle(folder+X_file).loc[PNP530,:]"
   ]
  },
  {
   "cell_type": "code",
   "execution_count": 20,
   "metadata": {
    "ExecuteTime": {
     "end_time": "2018-11-13T07:06:06.907741Z",
     "start_time": "2018-11-13T07:06:05.358838Z"
    }
   },
   "outputs": [
    {
     "name": "stdout",
     "output_type": "stream",
     "text": [
      "0\n",
      "530\n",
      "530\n",
      "530\n",
      "1\n",
      "530\n",
      "530\n",
      "530\n",
      "2\n",
      "no residuals file\n",
      "530\n",
      "530\n",
      "3\n",
      "530\n",
      "530\n",
      "530\n",
      "4\n",
      "530\n",
      "530\n",
      "530\n",
      "5\n",
      "no residuals file\n",
      "530\n",
      "530\n"
     ]
    },
    {
     "data": {
      "image/png": "[encoded data removed]",
      "text/plain": [
       "<matplotlib.figure.Figure at 0x7f9a3420d550>"
      ]
     },
     "metadata": {},
     "output_type": "display_data"
    }
   ],
   "source": [
    "col='max_nt_per_aa_1'\n",
    "data1=phenDF.loc[X.index]\n",
    "data1name='Age'\n",
    "\n",
    "fig,axes=plt.subplots(nrows=2,ncols=3,figsize=(12,8))\n",
    "plt.suptitle(col,fontsize='xx-large')\n",
    "\n",
    "for n in range(6):\n",
    "    print n\n",
    "    ax=axes.flatten()[n]\n",
    "    if n%3==0:\n",
    "        data2name=col\n",
    "        data2=X[data2name]\n",
    "        print len(data2)\n",
    "        title='Not corrected'\n",
    "       \n",
    "        \n",
    "    elif n%3==1:\n",
    "        data2name=col+'_Gender_MaleCorrRes'\n",
    "        data2=X_corr_gender[data2name]\n",
    "        print len(data2)\n",
    "        title='Corrected'\n",
    "      \n",
    "    elif n%3==2:\n",
    "        try:\n",
    "            data2name=col\n",
    "            data2=residuals.T[data2name]\n",
    "            print len(data2)\n",
    "            title='Corrected-Noam'\n",
    "        except:\n",
    "            print 'no residuals file'\n",
    "    \n",
    "    if n<3:\n",
    "        corrType='pearson'\n",
    "    else:\n",
    "        corrType='spearman'\n",
    "        title='' \n",
    "        \n",
    "    ax, nsamples,r,p,text=plot_corr(data1,data2,data1name,data2name,ax,title,corrType=corrType)\n",
    "    ax.set_ylabel('')\n",
    "    if n<3:\n",
    "        ax.set_xlabel('')\n",
    "        \n",
    "plt.show()"
   ]
  },
  {
   "cell_type": "markdown",
   "metadata": {},
   "source": [
    "### comparing age distributions between women and man in the pnp530 cohort:"
   ]
  },
  {
   "cell_type": "markdown",
   "metadata": {},
   "source": [
    "women are slightly but significantly older than men"
   ]
  },
  {
   "cell_type": "code",
   "execution_count": 26,
   "metadata": {
    "ExecuteTime": {
     "end_time": "2018-11-13T07:13:24.055239Z",
     "start_time": "2018-11-13T07:13:22.950710Z"
    }
   },
   "outputs": [
    {
     "data": {
      "image/png": "[encoded data removed]",
      "text/plain": [
       "<matplotlib.figure.Figure at 0x7f9a3414bad0>"
      ]
     },
     "metadata": {},
     "output_type": "display_data"
    }
   ],
   "source": [
    "f1='/net/mraid08/export/genie/Lab/Personal/ShaniBAF/TCR_real_data/PNP530Cardio126Combined/Phenotypes/\\\n",
    "PNP530Cardio126_AllInfo_withDummies.xlsx'\n",
    "phenDF=pd.read_excel(f1).set_index('BD').loc[PNP530,:]\n",
    "\n",
    "phenDFsmall=phenDF[['Age','Gender_Male']]\n",
    "groups=phenDFsmall.groupby('Gender_Male')\n",
    "dataList=[]\n",
    "for name,group in groups:\n",
    "    data[name]=group['Age'].dropna().tolist()\n",
    "    tup=tuple([name, data[name]])\n",
    "    dataList.append(tup)\n",
    "#     print name, data[name]\n",
    "\n",
    "fig,ax=plt.subplots()\n",
    "title=''\n",
    "plotHistComprison(dataList,ax,title,showLegend=True,nBins=20,toAnnotate=True,alpha=None,plotType='hist')\n",
    "plt.show()"
   ]
  },
  {
   "cell_type": "code",
   "execution_count": null,
   "metadata": {},
   "outputs": [],
   "source": []
  },
  {
   "cell_type": "code",
   "execution_count": null,
   "metadata": {},
   "outputs": [],
   "source": []
  },
  {
   "cell_type": "code",
   "execution_count": null,
   "metadata": {},
   "outputs": [],
   "source": []
  },
  {
   "cell_type": "markdown",
   "metadata": {},
   "source": [
    "# use combined VDJ+rep features"
   ]
  },
  {
   "cell_type": "markdown",
   "metadata": {},
   "source": [
    "regress for age using more stringent cut-off (q=0.01)"
   ]
  },
  {
   "cell_type": "markdown",
   "metadata": {},
   "source": [
    "## combine VDJ+rep features"
   ]
  },
  {
   "cell_type": "markdown",
   "metadata": {},
   "source": [
    "## regress using stringent cutoff for corrections"
   ]
  },
  {
   "cell_type": "markdown",
   "metadata": {},
   "source": [
    "## predict age (and gender) using the corrected and the non-corrected features"
   ]
  },
  {
   "cell_type": "code",
   "execution_count": null,
   "metadata": {},
   "outputs": [],
   "source": []
  }
 ],
 "metadata": {
  "kernelspec": {
   "display_name": "Python 2",
   "language": "python",
   "name": "python2"
  },
  "language_info": {
   "codemirror_mode": {
    "name": "ipython",
    "version": 2
   },
   "file_extension": ".py",
   "mimetype": "text/x-python",
   "name": "python",
   "nbconvert_exporter": "python",
   "pygments_lexer": "ipython2",
   "version": "2.7.8"
  },
  "toc": {
   "nav_menu": {},
   "number_sections": true,
   "sideBar": true,
   "skip_h1_title": false,
   "toc_cell": false,
   "toc_position": {
    "height": "451px",
    "left": "0px",
    "right": "1110px",
    "top": "134px",
    "width": "212px"
   },
   "toc_section_display": "block",
   "toc_window_display": true
  },
  "varInspector": {
   "cols": {
    "lenName": 16,
    "lenType": 16,
    "lenVar": 40
   },
   "kernels_config": {
    "python": {
     "delete_cmd_postfix": "",
     "delete_cmd_prefix": "del ",
     "library": "var_list.py",
     "varRefreshCmd": "print(var_dic_list())"
    },
    "r": {
     "delete_cmd_postfix": ") ",
     "delete_cmd_prefix": "rm(",
     "library": "var_list.r",
     "varRefreshCmd": "cat(var_dic_list()) "
    }
   },
   "types_to_exclude": [
    "module",
    "function",
    "builtin_function_or_method",
    "instance",
    "_Feature"
   ],
   "window_display": false
  }
 },
 "nbformat": 4,
 "nbformat_minor": 2
}
