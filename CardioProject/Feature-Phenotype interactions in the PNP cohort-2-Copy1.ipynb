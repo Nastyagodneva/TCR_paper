{
 "cells": [
  {
   "cell_type": "code",
   "execution_count": null,
   "metadata": {},
   "outputs": [],
   "source": [
    "from os import listdir,mkdir\n",
    "from os.path import isfile, join, isdir,exists\n",
    "import pandas as pd\n",
    "import numpy as np\n",
    "from scipy import stats\n",
    "import re\n",
    "import matplotlib.pyplot as plt\n",
    "from matplotlib.backends.backend_pdf import PdfPages\n",
    "from myplots import roundup, rounddown, find_decimal_fold, percentile_cut_off, rarefaction_calc, rarefaction_plot,draw_correlation_scatter\n",
    "from matplotlib.ticker import FormatStrFormatter\n",
    "import cPickle as pickle\n",
    "from Bio.SeqUtils import GC\n",
    "import seaborn as sns\n",
    "import random\n",
    "from scipy.stats import pearsonr\n",
    "from skbio.diversity.alpha import shannon, simpson, berger_parker_d\n",
    "\n",
    "from pop_organize import get_sample_data, get_sample_with_dfs\n",
    "from SufficientStatistics import *\n",
    "from MyFunctionsShani import *\n",
    "import math\n",
    "from myplots import roundup, rounddown, find_decimal_fold\n",
    "from skbio.stats.distance import mantel\n",
    "from scipy.spatial.distance import braycurtis, pdist\n"
   ]
  },
  {
   "cell_type": "code",
   "execution_count": null,
   "metadata": {},
   "outputs": [],
   "source": [
    "import time\n",
    "cdate=str(time.strftime(\"%d%m%Y\"))\n",
    "cdate"
   ]
  },
  {
   "cell_type": "code",
   "execution_count": null,
   "metadata": {},
   "outputs": [],
   "source": [
    "file1='%s/TCR_real_data/SubSampled15000data_rep2/TCR_mb_results/permFisherTest_NoneNone5050/real_result_df' %MyPath\n",
    "df=pd.read_pickle(file1)\n",
    "df"
   ]
  },
  {
   "cell_type": "markdown",
   "metadata": {},
   "source": [
    "# def general function to calculate diversity correlations between a sharing sequence matrix and a microbiome matrix:"
   ]
  },
  {
   "cell_type": "code",
   "execution_count": null,
   "metadata": {},
   "outputs": [],
   "source": [
    "def reject_outliers(data, m):\n",
    "    outlier_ind=abs(data - np.mean(data)) < m * np.std(data)\n",
    "    return outlier_ind\n",
    "\n",
    "\n",
    "def plot_corr_diversity(measure,ax,stdToReject,divDF_seqs,divDF_mb):\n",
    "\n",
    "    x=divDF_seqs[measure]\n",
    "    y=divDF_mb[measure]\n",
    "    \n",
    "    print 'checking TCR and MB df order...'\n",
    "    print x.head()\n",
    "    print y.head()\n",
    "    \n",
    "    #clean data: remove nans and outliers:\n",
    "    nx=np.isnan(x)\n",
    "    ny=np.isnan(y)\n",
    "    n=nx+ny\n",
    "    newx=x[~n]\n",
    "    newy=y[~n]\n",
    "    \n",
    "    \n",
    "    if stdToReject is not None:\n",
    "        nx_outliers=reject_outliers(newx, m=stdToReject)\n",
    "        ny_outliers=reject_outliers(newy, m=stdToReject)\n",
    "        n_outliers=nx_outliers+ny_outliers\n",
    "        finalx=newx[~n_outliers]\n",
    "        finaly=newy[~n_outliers]\n",
    "    else:\n",
    "        finalx=newx\n",
    "        finaly=newy\n",
    "        \n",
    "        \n",
    "    ymean=np.mean(finaly)\n",
    "    nsamples=len(finalx)\n",
    "\n",
    "    ax.scatter(finalx,finaly, alpha=0.4)\n",
    "    ax.set_xlabel('TCR sequences')\n",
    "    ax.set_ylabel('Microbiome Species')\n",
    "    ax.plot(np.unique(finalx), np.poly1d(np.polyfit(finalx, finaly, 1))(np.unique(finalx)),c='blue',linewidth=1)\n",
    "    ax.set_title('%s' %measure,fontsize=16)\n",
    "\n",
    "    from scipy.stats import pearsonr\n",
    "    r,p = pearsonr(finalx,finaly)\n",
    "\n",
    "    ax.annotate(\"r=%.4f p=%.6f,n=%s\" %(r,p,nsamples),  xy=(0.02, 0.96), xycoords='axes fraction', fontsize=11,\n",
    "        horizontalalignment='left', verticalalignment='top')\n",
    "\n",
    "    # if minPhenotypeValue is not None:\n",
    "    #     plt.ylim(minPhenotypeValue,np.max(y)*1.1)\n",
    "    #         plt.margins(0.2)\n",
    "\n",
    "    #     file1='/net/mraid08/export/genie/Lab/Personal/ShaniBAF/TCR_real_data/PhenotypicData/DistMat_correlation_plots/'\n",
    "    #     fig1.savefig(file1,dpi=200)\n",
    "    \n",
    "    return nsamples\n",
    "\n"
   ]
  },
  {
   "cell_type": "code",
   "execution_count": null,
   "metadata": {},
   "outputs": [],
   "source": [
    "def calc_corr_between_TCR_and_microbiome_preprocessing(TCRfile,microbiomeFile):\n",
    "\n",
    "    \n",
    "    #(1)process sample names:\n",
    "    \n",
    "    \n",
    "    for dfFile in [TCRfile,microbiomeFile]:\n",
    "        print 'processing sample names...'\n",
    "        for n,sample in enumerate(dfFile.index):\n",
    "            print n\n",
    "            if '_' in sample:\n",
    "                NewName=sample.split('_')[0]\n",
    "            else:\n",
    "                NewName=sample\n",
    "            if 'b' in NewName:\n",
    "                NewName=NewName.split('b')[0]\n",
    "            dfFile.rename(index={sample:NewName},inplace=True)\n",
    "            dfFile.rename(columns={sample:NewName},inplace=True)\n",
    "    \n",
    "    #(2)transform RA files to binary:\n",
    "    \n",
    "    print 'now converting TCR counts to binary indications...'          \n",
    "    TCRfile_binary=pd.DataFrame()\n",
    "    for column in TCRfile.columns.values:\n",
    "        TCRfile_binary[column]=np.where(TCRfile[column]>0,1,0)\n",
    "        TCRfile_binary.index=TCRfile.index\n",
    "\n",
    "    print 'now converting mb counts to binary indications...'          \n",
    "    microbiomeFile_binary=pd.DataFrame()\n",
    "    for column in microbiomeFile.columns.values:\n",
    "        microbiomeFile_binary[column]=np.where(microbiomeFile[column]>0,1,0)\n",
    "        microbiomeFile_binary.index=microbiomeFile.index\n",
    "        \n",
    "    return TCRfile_binary,TCRfile,microbiomeFile_binary,microbiomeFile\n",
    "\n",
    "\n",
    "def calc_corr_between_TCR_and_microbiome(TCRfile_binary,TCRfile,microbiomeFile_binary,microbiomeFile,TCRcutoff,mbCutoff):\n",
    "            \n",
    "    #(3)truncate files to include only sequences/species shared by more than a cutoff number of samples:\n",
    "    if 'FD' in TCRfile_binary.columns.values:\n",
    "            TCRfile_binary=TCRfile_binary.drop('FD',axis=1)\n",
    "            print 'FD column was dropped from TCR file'\n",
    "    if 'FD' in microbiomeFile_binary.columns.values:\n",
    "            microbiomeFile_binary=microbiomeFile_binary.drop('FD',axis=1)\n",
    "            print 'FD column was dropped from MB file'\n",
    "    \n",
    "    if TCRcutoff is not None:\n",
    "        print 'truncating TCR File to include only sequences shared by more than %s' %TCRcutoff\n",
    "        nSeqsBefore=len(TCRfile_binary.columns.values)\n",
    "        print 'number of sequences before truncation=%s' %nSeqsBefore\n",
    "        columnList=[]\n",
    "        for n, column in enumerate(TCRfile_binary.columns.values):\n",
    "            if n%1000==0:\n",
    "                print n\n",
    "            nSamples=TCRfile_binary[column].sum()\n",
    "            if nSamples>TCRcutoff:\n",
    "                columnList.append(column)\n",
    "        \n",
    "        print 'number of sequences after truncation=%s' %len(columnList)\n",
    "\n",
    "        TCRfile_binary_truncated=TCRfile_binary[columnList]\n",
    "        TCRfile_RA_truncated=TCRfile[columnList]\n",
    "    else:\n",
    "        print 'TCR files doesnt need truncation...'\n",
    "        TCRfile_binary_truncated=TCRfile_binary\n",
    "        TCRfile_RA_truncated=TCRfile\n",
    "        \n",
    "        \n",
    "    if mbCutoff is not None:\n",
    "        print 'truncating MB File to include only sequences shared by more than %s' %mbCutoff\n",
    "        nSeqsBefore=len(microbiomeFile_binary.columns.values)\n",
    "        print 'number of sequences before truncation=%s' %nSeqsBefore\n",
    "        columnList=[]\n",
    "        for n, column in enumerate(microbiomeFile_binary.columns.values):\n",
    "            if n%1000==0:\n",
    "                print n\n",
    "            nSamples=microbiomeFile_binary[column].sum()\n",
    "            if nSamples>mbCutoff:\n",
    "                columnList.append(column)\n",
    "        if 'FD' in columnList:\n",
    "            columnList.remove('FD')\n",
    "        print 'number of sequences after truncation=%s' %len(columnList)\n",
    "\n",
    "        microbiomeFile_binary_truncated=microbiomeFile_binary[columnList]\n",
    "        microbiomeFile_RA_truncated=microbiomeFile[columnList]\n",
    "    else:\n",
    "        print 'MB files doesnt need truncation...'\n",
    "        microbiomeFile_binary_truncated=microbiomeFile_binary\n",
    "        microbiomeFile_RA_truncated=microbiomeFile\n",
    "        \n",
    "        \n",
    "    #(4)calculate diversity measures for TCRs:\n",
    "    \n",
    "    print 'calculating diversity measures for TCR...'\n",
    "    \n",
    "    dfList=[TCRfile_binary_truncated,TCRfile_RA_truncated]\n",
    "    dfName='TCR_moreThan%s' %TCRcutoff\n",
    "    isRAList=[False,True]\n",
    "\n",
    "    divDF_seqs=pd.DataFrame(index=TCRfile_binary_truncated.index)\n",
    "\n",
    "    for n,df in enumerate(dfList):\n",
    "        print \n",
    "\n",
    "#         if 'FD' in df.columns.values:\n",
    "#             df=df.drop('FD',axis=1)\n",
    "\n",
    "        isRA=isRAList[n]\n",
    "        if isRA:\n",
    "            RA='RA'\n",
    "            df=df.round(5)*100000\n",
    "            df=df.astype(int,errors='ignore')      \n",
    "        else:\n",
    "            RA='binary'\n",
    "\n",
    "        for sample in df.index:\n",
    "    #         print sample\n",
    "            divDF_seqs.loc[sample, 'shannon_%s' %RA]=shannon(df.loc[sample,:],base=2)\n",
    "            divDF_seqs.loc[sample, 'simpson_%s' %RA]=simpson(df.loc[sample,:])\n",
    "            divDF_seqs.loc[sample, 'berger_parker_d_%s' %RA]=berger_parker_d(df.loc[sample,:])\n",
    "            if isRA:\n",
    "                divDF_seqs.loc[sample, 'maxFreq_%s' %RA]=np.max(df.loc[sample,:])\n",
    "                divDF_seqs.loc[sample, 'meanFreq_%s' %RA]=np.mean(df.loc[sample,:])\n",
    "            else:\n",
    "                divDF_seqs.loc[sample, 'nUnique']=np.sum(df.loc[sample,:])\n",
    "                \n",
    "    print 'calculating diversity measures for MB...'\n",
    "    \n",
    "    dfList=[microbiomeFile_binary_truncated,microbiomeFile_RA_truncated]\n",
    "    dfName='microbiome_moreThan%s' %TCRcutoff\n",
    "    isRAList=[False,True]\n",
    "\n",
    "    divDF_mb=pd.DataFrame(index=microbiomeFile_binary_truncated.index)\n",
    "\n",
    "    for n,df in enumerate(dfList):\n",
    "        print 'df number=%s' %n\n",
    "\n",
    "#         if 'FD' in df.columns.values:\n",
    "#             df=df.drop('FD',axis=1)\n",
    "\n",
    "        isRA=isRAList[n]\n",
    "        if isRA:\n",
    "            RA='RA'\n",
    "            df=df.round(5)*100000\n",
    "            df=df.astype(int,errors='ignore')      \n",
    "        else:\n",
    "            RA='binary'\n",
    "\n",
    "        for sample in df.index:\n",
    "    #         print sample\n",
    "            divDF_mb.loc[sample, 'shannon_%s' %RA]=shannon(df.loc[sample,:],base=2)\n",
    "            divDF_mb.loc[sample, 'simpson_%s' %RA]=simpson(df.loc[sample,:])\n",
    "            divDF_mb.loc[sample, 'berger_parker_d_%s' %RA]=berger_parker_d(df.loc[sample,:])\n",
    "            if isRA:\n",
    "                divDF_mb.loc[sample, 'maxFreq_%s' %RA]=np.max(df.loc[sample,:])\n",
    "                divDF_mb.loc[sample, 'meanFreq_%s' %RA]=np.mean(df.loc[sample,:])\n",
    "            else:\n",
    "                divDF_mb.loc[sample, 'nUnique']=np.sum(df.loc[sample,:])\n",
    "                \n",
    "    #plotting correlation scatters between TCR and microbiome, with different stdToReject:\n",
    "    \n",
    "    print'plotting correlation scatter for stdToRejectList=...'\n",
    "    stdToRejectList=[None,0.25,0.5]\n",
    "    \n",
    "    for stdToReject in stdToRejectList:\n",
    "        print stdToReject\n",
    "\n",
    "        fig1=plt.figure(figsize=(12,12))\n",
    "        fig1.suptitle('Correlations between TCR and microbiome diversities\\nRemoved outliers=%s' %stdToReject,\n",
    "                     fontsize=18)\n",
    "        sumDF=pd.DataFrame()\n",
    "\n",
    "\n",
    "\n",
    "        for n, measure in enumerate(divDF_seqs.columns.values):\n",
    "            print n, measure\n",
    "            ax=fig1.add_subplot(3,3,n+1)\n",
    "            nsamples,r,p=plot_corr_diversity(measure,ax,stdToReject,divDF_seqs,divDF_mb)\n",
    "            sumDF.loc[n,'TCRcutoff']=TCRcutoff\n",
    "            sumDF.loc[n,'mbCutoff']=mbCutoff\n",
    "            sumDF.loc[n,'stdToReject']=stdToReject\n",
    "            sumDF.loc[n,'measure']=measure\n",
    "            sumDF.loc[n,'nsamples']=nsamples\n",
    "            sumDF.loc[n,'r']=r\n",
    "            sumDF.loc[n,'p']=p\n",
    "            \n",
    "        file1='/net/mraid08/export/genie/Lab/Personal/ShaniBAF/TCR_real_data/PhenotypicData/Diversity analysis/sumDFs/DF_sharedSeqMoreThan%s_mbMoreThan%s_rejectMoreThan%s'%(TCRcutoff,mbCutoff,stdToReject)        \n",
    "        sumDF.to_pickle(file1)  \n",
    "            \n",
    "            \n",
    "\n",
    "        fig1.subplots_adjust(left=0.09, right=0.98, top=0.9, bottom=0.02, wspace=0.25,hspace=0.30)\n",
    "      \n",
    "        stdToRejectNameList=str(stdToReject).split('.')\n",
    "        if len(stdToRejectNameList)==1:\n",
    "            stdToRejectName=stdToRejectNameList[0]\n",
    "        else:\n",
    "            stdToRejectName=stdToRejectNameList[0]+stdToRejectNameList[1]\n",
    "      \n",
    "        file2='/net/mraid08/export/genie/Lab/Personal/ShaniBAF/TCR_real_data/PhenotypicData/Diversity analysis/sharedSeqMoreThan%s_mbMoreThan%s_rejectMoreThan%s' %(TCRcutoff,mbCutoff,stdToRejectName)\n",
    "        fig1.savefig(file2, dpi=200) \n",
    "\n",
    "        \n",
    "        \n",
    "        \n",
    "        \n",
    "    \n",
    "    \n",
    "  \n",
    "    \n",
    "\n",
    "    \n",
    "        "
   ]
  },
  {
   "cell_type": "markdown",
   "metadata": {},
   "source": [
    "### load files:"
   ]
  },
  {
   "cell_type": "code",
   "execution_count": null,
   "metadata": {},
   "outputs": [],
   "source": [
    "#load TCR file ***NOTE THAT IT IS THE RA file!***:\n",
    "print 'loading TCR file'\n",
    "file1='/net/mraid08/export/genie/Lab/Personal/ShaniBAF/TCR_real_data/PublicSeqAnalysis/sharingMatrix_moreThan1_434Samples_RA'\n",
    "TCRfile=pd.read_pickle(file1)\n",
    "\n",
    "#load MB file ***NOTE THAT IT IS THE RA file!***:\n",
    "\n",
    "print 'loading MB file'\n",
    "file2='/net/mraid08/export/genie/Lab/Personal/ShaniBAF/TCR_real_data/PhenotypicData/SampleSpeciesDFgroupedByBD_only434'\n",
    "microbiomeFile=pd.read_pickle(file2)"
   ]
  },
  {
   "cell_type": "markdown",
   "metadata": {},
   "source": [
    "### run preprocessing:"
   ]
  },
  {
   "cell_type": "code",
   "execution_count": null,
   "metadata": {
    "scrolled": true
   },
   "outputs": [],
   "source": [
    "TCRfile_binary,TCRfile,microbiomeFile_binary,microbiomeFile=calc_corr_between_TCR_and_microbiome_preprocessing(TCRfile,microbiomeFile)"
   ]
  },
  {
   "cell_type": "markdown",
   "metadata": {},
   "source": [
    "### save results:"
   ]
  },
  {
   "cell_type": "code",
   "execution_count": null,
   "metadata": {},
   "outputs": [],
   "source": [
    "file1='/net/mraid08/export/genie/Lab/Personal/ShaniBAF/TCR_real_data/PublicSeqAnalysis/organized_TCR_and_mb_files_for434samples/TCRfile_binary'\n",
    "TCRfile_binary.to_pickle(file1)\n",
    "\n",
    "file2='/net/mraid08/export/genie/Lab/Personal/ShaniBAF/TCR_real_data/PublicSeqAnalysis/organized_TCR_and_mb_files_for434samples/TCRfile'\n",
    "TCRfile.to_pickle(file2)\n",
    "\n",
    "file3='/net/mraid08/export/genie/Lab/Personal/ShaniBAF/TCR_real_data/PublicSeqAnalysis/organized_TCR_and_mb_files_for434samples/microbiomeFile_binary'\n",
    "microbiomeFile_binary.to_pickle(file3)\n",
    "\n",
    "file4='/net/mraid08/export/genie/Lab/Personal/ShaniBAF/TCR_real_data/PublicSeqAnalysis/organized_TCR_and_mb_files_for434samples/microbiomeFile'\n",
    "microbiomeFile.to_pickle(file4)\n",
    "\n"
   ]
  },
  {
   "cell_type": "markdown",
   "metadata": {},
   "source": [
    "### load results:"
   ]
  },
  {
   "cell_type": "code",
   "execution_count": null,
   "metadata": {},
   "outputs": [],
   "source": [
    "file1='/net/mraid08/export/genie/Lab/Personal/ShaniBAF/TCR_real_data/PublicSeqAnalysis/organized_TCR_and_mb_files_for434samples/TCRfile_binary'\n",
    "TCRfile_binary=pd.read_pickle(file1)\n",
    "\n",
    "file2='/net/mraid08/export/genie/Lab/Personal/ShaniBAF/TCR_real_data/PublicSeqAnalysis/organized_TCR_and_mb_files_for434samples/TCRfile'\n",
    "TCRfile=pd.read_pickle(file2)\n",
    "\n",
    "file3='/net/mraid08/export/genie/Lab/Personal/ShaniBAF/TCR_real_data/PublicSeqAnalysis/organized_TCR_and_mb_files_for434samples/microbiomeFile_binary'\n",
    "microbiomeFile_binary=pd.read_pickle(file3)\n",
    "\n",
    "file4='/net/mraid08/export/genie/Lab/Personal/ShaniBAF/TCR_real_data/PublicSeqAnalysis/organized_TCR_and_mb_files_for434samples/microbiomeFile'\n",
    "microbiomeFile=pd.read_pickle(file4)\n",
    "\n"
   ]
  },
  {
   "cell_type": "markdown",
   "metadata": {},
   "source": [
    "### run with different cutoffs:"
   ]
  },
  {
   "cell_type": "code",
   "execution_count": null,
   "metadata": {
    "scrolled": true
   },
   "outputs": [],
   "source": [
    "TCRcutoff=50\n",
    "mbCutoff=50\n",
    "\n",
    "\n",
    "calc_corr_between_TCR_and_microbiome(TCRfile_binary,TCRfile,microbiomeFile_binary,microbiomeFile,TCRcutoff,mbCutoff)\n"
   ]
  },
  {
   "cell_type": "code",
   "execution_count": null,
   "metadata": {},
   "outputs": [],
   "source": [
    "TCRcutoff=10\n",
    "mbCutoff=10\n",
    "\n",
    "\n",
    "calc_corr_between_TCR_and_microbiome(TCRfile_binary,TCRfile,microbiomeFile_binary,microbiomeFile,TCRcutoff,mbCutoff)\n"
   ]
  },
  {
   "cell_type": "code",
   "execution_count": null,
   "metadata": {},
   "outputs": [],
   "source": [
    "TCRcutoff=10\n",
    "mbCutoff=1\n",
    "\n",
    "\n",
    "calc_corr_between_TCR_and_microbiome(TCRfile_binary,TCRfile,microbiomeFile_binary,microbiomeFile,TCRcutoff,mbCutoff)\n"
   ]
  },
  {
   "cell_type": "code",
   "execution_count": null,
   "metadata": {},
   "outputs": [],
   "source": [
    "TCRcutoff=1\n",
    "mbCutoff=1\n",
    "\n",
    "\n",
    "calc_corr_between_TCR_and_microbiome(TCRfile_binary,TCRfile,microbiomeFile_binary,microbiomeFile,TCRcutoff,mbCutoff)\n"
   ]
  },
  {
   "cell_type": "code",
   "execution_count": null,
   "metadata": {
    "scrolled": true
   },
   "outputs": [],
   "source": [
    "TCRcutoff=100\n",
    "mbCutoff=100\n",
    "\n",
    "\n",
    "calc_corr_between_TCR_and_microbiome(TCRfile_binary,TCRfile,microbiomeFile_binary,microbiomeFile,TCRcutoff,mbCutoff)\n"
   ]
  },
  {
   "cell_type": "code",
   "execution_count": null,
   "metadata": {},
   "outputs": [],
   "source": []
  },
  {
   "cell_type": "code",
   "execution_count": null,
   "metadata": {},
   "outputs": [],
   "source": []
  },
  {
   "cell_type": "markdown",
   "metadata": {},
   "source": [
    "# view results:"
   ]
  },
  {
   "cell_type": "code",
   "execution_count": null,
   "metadata": {},
   "outputs": [],
   "source": [
    "diversityFolder='/net/mraid08/export/genie/Lab/Personal/ShaniBAF/TCR_real_data/PhenotypicData/Diversity analysis/sumDFs'\n",
    "diversityResults=concat_summarizing_dfs(diversityFolder)"
   ]
  },
  {
   "cell_type": "code",
   "execution_count": null,
   "metadata": {},
   "outputs": [],
   "source": [
    "diversityResults"
   ]
  },
  {
   "cell_type": "code",
   "execution_count": null,
   "metadata": {},
   "outputs": [],
   "source": []
  },
  {
   "cell_type": "code",
   "execution_count": null,
   "metadata": {},
   "outputs": [],
   "source": []
  },
  {
   "cell_type": "markdown",
   "metadata": {},
   "source": [
    "# Exploring the relation between binary phenotypes and shared sequences:"
   ]
  },
  {
   "cell_type": "markdown",
   "metadata": {},
   "source": [
    "## load files:"
   ]
  },
  {
   "cell_type": "markdown",
   "metadata": {},
   "source": [
    "### MoreThan10_binary"
   ]
  },
  {
   "cell_type": "code",
   "execution_count": null,
   "metadata": {},
   "outputs": [],
   "source": [
    "#load the binary shared sequence table:\n",
    "\n",
    "file1='/net/mraid08/export/genie/Lab/Personal/ShaniBAF/TCR_real_data/PublicSeqAnalysis/sharingMatrix_moreThan10_434Samples'\n",
    "sharingMatrix_moreThan10_434Samples=pd.read_pickle(file1)\n",
    "\n",
    "sharingMatrix_moreThan10_434Samples.head()"
   ]
  },
  {
   "cell_type": "code",
   "execution_count": null,
   "metadata": {
    "scrolled": true
   },
   "outputs": [],
   "source": [
    "#process sample names:\n",
    "    # (1) edit sample names to match those in the phenotype files\n",
    "    # (2) remove rows and columns with nan values:\n",
    "    \n",
    "for n,sample in enumerate(sharingMatrix_moreThan10_434Samples.index):\n",
    "    print n\n",
    "    if '_' in sample:\n",
    "        NewName=sample.split('_')[0]\n",
    "    else:\n",
    "        NewName=sample\n",
    "    if 'b' in NewName:\n",
    "        NewName=NewName.split('b')[0]\n",
    "    sharingMatrix_moreThan10_434Samples.rename(index={sample:NewName},inplace=True)\n",
    "    sharingMatrix_moreThan10_434Samples.rename(columns={sample:NewName},inplace=True)\n",
    "        \n",
    "sharingMatrix_moreThan10_434Samples.head()"
   ]
  },
  {
   "cell_type": "code",
   "execution_count": null,
   "metadata": {},
   "outputs": [],
   "source": []
  },
  {
   "cell_type": "markdown",
   "metadata": {},
   "source": [
    "### MoreThan10_RA"
   ]
  },
  {
   "cell_type": "code",
   "execution_count": null,
   "metadata": {},
   "outputs": [],
   "source": [
    "file1='/net/mraid08/export/genie/Lab/Personal/ShaniBAF/TCR_real_data/PublicSeqAnalysis/sharingMatrix_moreThan10_434Samples_RA'\n",
    "sharingMatrix_moreThan10_434Samples_RA=pd.read_pickle(file1)\n",
    "\n",
    "sharingMatrix_moreThan10_434Samples_RA.head()"
   ]
  },
  {
   "cell_type": "code",
   "execution_count": null,
   "metadata": {
    "scrolled": true
   },
   "outputs": [],
   "source": [
    "#process sample names:\n",
    "    # (1) edit sample names to match those in the phenotype files\n",
    "    # (2) remove rows and columns with nan values:\n",
    "    \n",
    "for n,sample in enumerate(sharingMatrix_moreThan10_434Samples_RA.index):\n",
    "    print n\n",
    "    if '_' in sample:\n",
    "        NewName=sample.split('_')[0]\n",
    "    else:\n",
    "        NewName=sample\n",
    "    if 'b' in NewName:\n",
    "        NewName=NewName.split('b')[0]\n",
    "    sharingMatrix_moreThan10_434Samples_RA.rename(index={sample:NewName},inplace=True)\n",
    "    sharingMatrix_moreThan10_434Samples_RA.rename(columns={sample:NewName},inplace=True)\n",
    "        \n",
    "sharingMatrix_moreThan10_434Samples_RA.head()"
   ]
  },
  {
   "cell_type": "markdown",
   "metadata": {},
   "source": [
    "### MicrobiomeSpecies_RA"
   ]
  },
  {
   "cell_type": "code",
   "execution_count": null,
   "metadata": {},
   "outputs": [],
   "source": [
    "file1='/net/mraid08/export/genie/Lab/Personal/ShaniBAF/TCR_real_data/PhenotypicData/SampleSpeciesDFgroupedByBD_only434'\n",
    "SampleSpeciesDFgroupedByBD_only434_RA=pd.read_pickle(file1)\n",
    "\n",
    "SampleSpeciesDFgroupedByBD_only434_RA.head()"
   ]
  },
  {
   "cell_type": "markdown",
   "metadata": {},
   "source": [
    "### MicrobiomeSpecies_binary:"
   ]
  },
  {
   "cell_type": "code",
   "execution_count": null,
   "metadata": {},
   "outputs": [],
   "source": [
    "SampleSpeciesDFgroupedByBD_only434_binary=pd.DataFrame()\n",
    "print 'now converting counts to binary indications...'\n",
    "for column in SampleSpeciesDFgroupedByBD_only434_RA.columns.values:\n",
    "    SampleSpeciesDFgroupedByBD_only434_binary[column]=np.where(SampleSpeciesDFgroupedByBD_only434_RA[column]>0,1,0)\n",
    "    SampleSpeciesDFgroupedByBD_only434_binary.index=SampleSpeciesDFgroupedByBD_only434_RA.index\n",
    "print 'DONE!'\n",
    "SampleSpeciesDFgroupedByBD_only434_binary.head()"
   ]
  },
  {
   "cell_type": "markdown",
   "metadata": {},
   "source": [
    "### drop species that appear in less than 10 samples:"
   ]
  },
  {
   "cell_type": "code",
   "execution_count": null,
   "metadata": {},
   "outputs": [],
   "source": [
    "print len(SampleSpeciesDFgroupedByBD_only434_binary.columns.values)\n",
    "columnList10=[]\n",
    "for n, column in enumerate(SampleSpeciesDFgroupedByBD_only434_binary.columns.values):\n",
    "    if n%1000==0:\n",
    "        print n\n",
    "    nSamples=SampleSpeciesDFgroupedByBD_only434_binary[column].sum()\n",
    "    if nSamples>10:\n",
    "        columnList10.append(column)\n",
    "columnList10.remove('FD')\n",
    "print len(columnList10)\n"
   ]
  },
  {
   "cell_type": "code",
   "execution_count": null,
   "metadata": {},
   "outputs": [],
   "source": [
    "SampleSpeciesDFgroupedByBD_only434_binary_more10=SampleSpeciesDFgroupedByBD_only434_binary[columnList10]\n",
    "SampleSpeciesDFgroupedByBD_only434_RA_more10=SampleSpeciesDFgroupedByBD_only434_RA[columnList10]"
   ]
  },
  {
   "cell_type": "code",
   "execution_count": null,
   "metadata": {},
   "outputs": [],
   "source": [
    "file1='/net/mraid08/export/genie/Lab/Personal/ShaniBAF/TCR_real_data/PhenotypicData/SampleSpeciesDFgroupedByBD_only434_binary_more10'\n",
    "SampleSpeciesDFgroupedByBD_only434_binary_more10.to_pickle(file1)\n",
    "\n",
    "file2='/net/mraid08/export/genie/Lab/Personal/ShaniBAF/TCR_real_data/PhenotypicData/SampleSpeciesDFgroupedByBD_only434_binary_more10.xlsx'\n",
    "SampleSpeciesDFgroupedByBD_only434_binary_more10.to_excel(file2)\n",
    "\n",
    "file3='/net/mraid08/export/genie/Lab/Personal/ShaniBAF/TCR_real_data/PhenotypicData/SampleSpeciesDFgroupedByBD_only434_RA_more10'\n",
    "SampleSpeciesDFgroupedByBD_only434_RA_more10.to_pickle(file3)\n",
    "\n",
    "file4='/net/mraid08/export/genie/Lab/Personal/ShaniBAF/TCR_real_data/PhenotypicData/SampleSpeciesDFgroupedByBD_only434_RA_more10.xlsx'\n",
    "SampleSpeciesDFgroupedByBD_only434_RA_more10.to_excel(file4)"
   ]
  },
  {
   "cell_type": "code",
   "execution_count": null,
   "metadata": {},
   "outputs": [],
   "source": []
  },
  {
   "cell_type": "code",
   "execution_count": null,
   "metadata": {},
   "outputs": [],
   "source": []
  },
  {
   "cell_type": "markdown",
   "metadata": {},
   "source": [
    "# calculate diversity measures for shared sequences and microbiome species:"
   ]
  },
  {
   "cell_type": "markdown",
   "metadata": {},
   "source": [
    "## calculate diversity measures for sharing sequence matrix (moreThan10-binary+RA): "
   ]
  },
  {
   "cell_type": "code",
   "execution_count": null,
   "metadata": {},
   "outputs": [],
   "source": [
    "dfList=[sharingMatrix_moreThan10_434Samples,sharingMatrix_moreThan10_434Samples_RA]\n",
    "dfName='microbiomeSpecies'\n",
    "isRAList=[False,True]\n",
    "\n",
    "\n",
    "\n",
    "divDF_seqs=pd.DataFrame(index=df.index)\n",
    "\n",
    "for n,df in enumerate(dfList):\n",
    "    \n",
    "    if 'FD' in df.columns.values:\n",
    "        df=df.drop('FD',axis=1)\n",
    "    \n",
    "    isRA=isRAList[n]\n",
    "    if isRA:\n",
    "        RA='RA'\n",
    "        df=df.round(5)*100000\n",
    "        df=df.astype(int,errors='ignore')      \n",
    "    else:\n",
    "        RA='binary'\n",
    "       \n",
    "    for sample in df.index:\n",
    "#         print sample\n",
    "        divDF_seqs.loc[sample, 'shannon_%s' %RA]=shannon(df.loc[sample,:],base=2)\n",
    "        divDF_seqs.loc[sample, 'simpson_%s' %RA]=simpson(df.loc[sample,:])\n",
    "        divDF_seqs.loc[sample, 'berger_parker_d_%s' %RA]=berger_parker_d(df.loc[sample,:])\n",
    "        if isRA:\n",
    "            divDF_seqs.loc[sample, 'maxFreq_%s' %RA]=np.max(df.loc[sample,:])\n",
    "            divDF_seqs.loc[sample, 'meanFreq_%s' %RA]=np.mean(df.loc[sample,:])\n",
    "        else:\n",
    "            divDF_seqs.loc[sample, 'nUnique']=np.sum(df.loc[sample,:])\n",
    "\n",
    "            \n",
    "\n",
    "divDF_seqs.head()\n",
    "    \n",
    "    "
   ]
  },
  {
   "cell_type": "markdown",
   "metadata": {},
   "source": [
    "### calculate correlations between measures to reduce number of measures to correlate with microbiome diversity measures:"
   ]
  },
  {
   "cell_type": "code",
   "execution_count": null,
   "metadata": {},
   "outputs": [],
   "source": [
    "for i in range(len(divDF_seqs.columns.values)):\n",
    "    for j in range(i,len(divDF_seqs.columns.values)):\n",
    "        column1=divDF_seqs.columns.values[i]\n",
    "        column2=divDF_seqs.columns.values[j]\n",
    "        if column1!=column2:\n",
    "            r,p=MyPearsonr(divDF_seqs[column1],divDF_seqs[column2])\n",
    "            print column1,column2,r,p\n",
    "    "
   ]
  },
  {
   "cell_type": "code",
   "execution_count": null,
   "metadata": {},
   "outputs": [],
   "source": []
  },
  {
   "cell_type": "markdown",
   "metadata": {},
   "source": [
    "## calculate diversity measures for sharing sequence matrix (moreThan10-binary+RA): "
   ]
  },
  {
   "cell_type": "code",
   "execution_count": null,
   "metadata": {},
   "outputs": [],
   "source": [
    "dfList=[SampleSpeciesDFgroupedByBD_only434_binary_more10,SampleSpeciesDFgroupedByBD_only434_RA_more10]\n",
    "dfName='microbiomeSpecies'\n",
    "isRAList=[False,True]\n",
    "\n",
    "\n",
    "\n",
    "divDF_mb=pd.DataFrame(index=df.index)\n",
    "\n",
    "for n,df in enumerate(dfList):\n",
    "    \n",
    "    if 'FD' in df.columns.values:\n",
    "        df=df.drop('FD',axis=1)\n",
    "    \n",
    "    isRA=isRAList[n]\n",
    "    if isRA:\n",
    "        RA='RA'\n",
    "        df=df.round(5)*100000\n",
    "        df=df.astype(int,errors='ignore')      \n",
    "    else:\n",
    "        RA='binary'\n",
    "       \n",
    "    for sample in df.index:\n",
    "#         print sample\n",
    "        divDF_mb.loc[sample, 'shannon_%s' %RA]=shannon(df.loc[sample,:],base=2)\n",
    "        divDF_mb.loc[sample, 'simpson_%s' %RA]=simpson(df.loc[sample,:])\n",
    "        divDF_mb.loc[sample, 'berger_parker_d_%s' %RA]=berger_parker_d(df.loc[sample,:])\n",
    "        if isRA:\n",
    "            divDF_mb.loc[sample, 'maxFreq_%s' %RA]=np.max(df.loc[sample,:])\n",
    "            divDF_mb.loc[sample, 'meanFreq_%s' %RA]=np.mean(df.loc[sample,:])\n",
    "        else:\n",
    "            divDF_mb.loc[sample, 'nUnique']=np.sum(df.loc[sample,:])\n",
    "\n",
    "            \n",
    "\n",
    "divDF_mb.head()\n",
    "    "
   ]
  },
  {
   "cell_type": "markdown",
   "metadata": {},
   "source": [
    "### calculate correlations between measures to reduce number of measures to correlate with shared sequences diversity measures:"
   ]
  },
  {
   "cell_type": "code",
   "execution_count": null,
   "metadata": {},
   "outputs": [],
   "source": [
    "for i in range(len(divDF_mb.columns.values)):\n",
    "    for j in range(i,len(divDF_mb.columns.values)):\n",
    "        column1=divDF_mb.columns.values[i]\n",
    "        column2=divDF_mb.columns.values[j]\n",
    "        if column1!=column2:\n",
    "            r,p=MyPearsonr(divDF_mb[column1],divDF_mb[column2])\n",
    "            print column1,column2,r,p\n",
    "    "
   ]
  },
  {
   "cell_type": "markdown",
   "metadata": {},
   "source": [
    "# explore associations between TCR and microbiome diversity:"
   ]
  },
  {
   "cell_type": "markdown",
   "metadata": {},
   "source": [
    "1. calculate diversity measures for the microbiome species\n",
    "2. correlate with TCR diversity measures (including plots, p value corrections)\n",
    "\n",
    "consider analysing adaptive cohort for age, gender"
   ]
  },
  {
   "cell_type": "code",
   "execution_count": null,
   "metadata": {},
   "outputs": [],
   "source": [
    "print len(divDF_seqs.columns.values)"
   ]
  },
  {
   "cell_type": "code",
   "execution_count": null,
   "metadata": {},
   "outputs": [],
   "source": [
    "stdToReject=None\n",
    "\n",
    "fig1=plt.figure(figsize=(12,12))\n",
    "fig1.suptitle('Correlations between TCR and microbiome diversities\\nRemoved outliers=%s' %stdToReject,\n",
    "             fontsize=18)\n",
    "\n",
    "\n",
    "\n",
    "for n, measure in enumerate(divDF_seqs.columns.values):\n",
    "    print n, measure\n",
    "    ax=fig1.add_subplot(3,3,n+1)\n",
    "    plot_corr_diversity(measure,ax,stdToReject)\n",
    "    \n",
    "fig1.subplots_adjust(left=0.09, right=0.98, top=0.9, bottom=0.02, wspace=0.25,hspace=0.30)\n",
    "\n",
    "plt.show()"
   ]
  },
  {
   "cell_type": "code",
   "execution_count": null,
   "metadata": {},
   "outputs": [],
   "source": [
    "stdToReject=0.25\n",
    "\n",
    "fig1=plt.figure(figsize=(12,12))\n",
    "fig1.suptitle('Correlations between TCR and microbiome diversities\\nRemoved outliers=%s' %stdToReject,\n",
    "             fontsize=18)\n",
    "\n",
    "\n",
    "\n",
    "for n, measure in enumerate(divDF_seqs.columns.values):\n",
    "    print n, measure\n",
    "    ax=fig1.add_subplot(3,3,n+1)\n",
    "    plot_corr_diversity(measure,ax,stdToReject)\n",
    "    \n",
    "fig1.subplots_adjust(left=0.09, right=0.98, top=0.9, bottom=0.02, wspace=0.25,hspace=0.30)\n",
    "\n",
    "plt.show()"
   ]
  },
  {
   "cell_type": "code",
   "execution_count": null,
   "metadata": {},
   "outputs": [],
   "source": []
  },
  {
   "cell_type": "code",
   "execution_count": null,
   "metadata": {},
   "outputs": [],
   "source": []
  },
  {
   "cell_type": "code",
   "execution_count": null,
   "metadata": {},
   "outputs": [],
   "source": []
  }
 ],
 "metadata": {
  "kernelspec": {
   "display_name": "Python 2",
   "language": "python",
   "name": "python2"
  },
  "language_info": {
   "codemirror_mode": {
    "name": "ipython",
    "version": 2
   },
   "file_extension": ".py",
   "mimetype": "text/x-python",
   "name": "python",
   "nbconvert_exporter": "python",
   "pygments_lexer": "ipython2",
   "version": "2.7.8"
  },
  "toc": {
   "nav_menu": {},
   "number_sections": true,
   "sideBar": true,
   "skip_h1_title": false,
   "toc_cell": false,
   "toc_position": {
    "height": "384px",
    "left": "0px",
    "right": "1077px",
    "top": "111px",
    "width": "249px"
   },
   "toc_section_display": "block",
   "toc_window_display": true
  }
 },
 "nbformat": 4,
 "nbformat_minor": 2
}
