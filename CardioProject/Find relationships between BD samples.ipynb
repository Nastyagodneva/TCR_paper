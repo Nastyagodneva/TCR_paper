{
 "cells": [
  {
   "cell_type": "markdown",
   "metadata": {},
   "source": [
    "# imports:"
   ]
  },
  {
   "cell_type": "code",
   "execution_count": null,
   "metadata": {},
   "outputs": [],
   "source": [
    "from os import listdir,mkdir\n",
    "from os.path import isfile, join, isdir,exists\n",
    "import pandas as pd\n",
    "import numpy as np\n",
    "from scipy import stats\n",
    "import re\n",
    "import matplotlib.pyplot as plt\n",
    "from matplotlib.backends.backend_pdf import PdfPages\n",
    "from myplots import roundup, rounddown, find_decimal_fold, percentile_cut_off, rarefaction_calc, rarefaction_plot,draw_correlation_scatter\n",
    "from matplotlib.ticker import FormatStrFormatter\n",
    "import cPickle as pickle\n",
    "from Bio.SeqUtils import GC\n",
    "import seaborn as sns\n",
    "import random\n",
    "from scipy.stats import pearsonr\n",
    "from skbio.diversity.alpha import shannon, simpson, berger_parker_d\n",
    "\n",
    "from pop_organize import get_sample_data, get_sample_with_dfs\n",
    "from SufficientStatistics import *\n",
    "from MyFunctionsShani import *\n",
    "import math\n",
    "from myplots import roundup, rounddown, find_decimal_fold\n",
    "from skbio.stats.distance import mantel\n",
    "from scipy.spatial.distance import braycurtis, pdist\n",
    "from Feature_phenotype_functions import common_processing_feature_phenotype_matrices, \\\n",
    "          editSampleNames,process_sample_matrix,compute_distance_matrix_general\n"
   ]
  },
  {
   "cell_type": "code",
   "execution_count": null,
   "metadata": {},
   "outputs": [],
   "source": [
    "import time\n",
    "cdate=str(time.strftime(\"%d%m%Y\"))\n",
    "cdate"
   ]
  },
  {
   "cell_type": "markdown",
   "metadata": {},
   "source": [
    "# load files:\n"
   ]
  },
  {
   "cell_type": "code",
   "execution_count": null,
   "metadata": {},
   "outputs": [],
   "source": [
    "#load BD-reg num file\n",
    "file1='/net/mraid08/export/genie/Lab/Personal/ShaniBAF/Sample files/BD_date_correctReg_userID'\n",
    "BD_date_correctReg_userID=pd.read_pickle(file1)"
   ]
  },
  {
   "cell_type": "code",
   "execution_count": null,
   "metadata": {},
   "outputs": [],
   "source": [
    "#load relationship file from Noa:\n",
    "file1='/net/mraid08/export/genie/Lab/Personal/ShaniBAF/Sample files/participant genetic relations.xlsx'\n",
    "participantGeneticRelations=pd.read_excel(file1)"
   ]
  },
  {
   "cell_type": "code",
   "execution_count": null,
   "metadata": {},
   "outputs": [],
   "source": [
    "participantGeneticRelations.head()"
   ]
  },
  {
   "cell_type": "code",
   "execution_count": null,
   "metadata": {},
   "outputs": [],
   "source": [
    "BD_date_correctReg_userID.head()"
   ]
  },
  {
   "cell_type": "markdown",
   "metadata": {},
   "source": [
    "# add correct BD numbers"
   ]
  },
  {
   "cell_type": "code",
   "execution_count": null,
   "metadata": {},
   "outputs": [],
   "source": [
    "BD_REG= BD_date_correctReg_userID[['DnaID','correct registration code']]"
   ]
  },
  {
   "cell_type": "code",
   "execution_count": null,
   "metadata": {},
   "outputs": [],
   "source": [
    "GenRelationsWithBDs=pd.merge(participantGeneticRelations,BD_REG,how='left',left_on='Female',right_on='correct registration code')\n",
    "GenRelationsWithBDs.head()"
   ]
  },
  {
   "cell_type": "code",
   "execution_count": null,
   "metadata": {},
   "outputs": [],
   "source": [
    "GenRelationsWithBDs=GenRelationsWithBDs.rename(columns={'DnaID':'Female_BD'})"
   ]
  },
  {
   "cell_type": "code",
   "execution_count": null,
   "metadata": {},
   "outputs": [],
   "source": [
    "GenRelationsWithBDs=pd.merge(GenRelationsWithBDs,BD_REG,how='left',left_on='Male',right_on='correct registration code')\n",
    "GenRelationsWithBDs.head()"
   ]
  },
  {
   "cell_type": "code",
   "execution_count": null,
   "metadata": {},
   "outputs": [],
   "source": [
    "GenRelationsWithBDs=GenRelationsWithBDs.rename(columns={'DnaID':'Male_BD'})"
   ]
  },
  {
   "cell_type": "code",
   "execution_count": null,
   "metadata": {},
   "outputs": [],
   "source": [
    "file2='/net/mraid08/export/genie/Lab/Personal/ShaniBAF/Sample files/GenRelationsWithBDs.xlsx'\n",
    "GenRelationsWithBDs.to_excel(file2)"
   ]
  },
  {
   "cell_type": "markdown",
   "metadata": {},
   "source": [
    "# after manuall editing with excel, add more BD numbers to unidentified regNums:"
   ]
  },
  {
   "cell_type": "code",
   "execution_count": null,
   "metadata": {},
   "outputs": [],
   "source": [
    "#load GenRelation file:\n",
    "file1='/net/mraid08/export/genie/Lab/Personal/ShaniBAF/Sample files/GenRelationsWithBDs_final.xlsx'\n",
    "GenRelationsWithBDs_final=pd.read_excel(file1)\n",
    "GenRelationsWithBDs_final.head()"
   ]
  },
  {
   "cell_type": "code",
   "execution_count": null,
   "metadata": {},
   "outputs": [],
   "source": [
    "#load BD-FD converter file:\n",
    "file1='/net/mraid08/export/genie/Lab/Personal/ShaniBAF/Sample files/updatedBDandFDlists/final_BD_FD_converter_mergedOnYear_11032018'\n",
    "final_BD_FD_converter_mergedOnYear_11032018=pd.read_pickle(file1)\n",
    "final_BD_FD_converter_mergedOnYear_11032018.head()"
   ]
  },
  {
   "cell_type": "code",
   "execution_count": null,
   "metadata": {},
   "outputs": [],
   "source": [
    "onlyBDandRegNums=final_BD_FD_converter_mergedOnYear_11032018[['BD','correct registration code']]\n",
    "print len(onlyBDandRegNums)\n",
    "onlyBDandRegNums2=onlyBDandRegNums.drop_duplicates(onlyBDandRegNums)\n",
    "print len(onlyBDandRegNums2)"
   ]
  },
  {
   "cell_type": "code",
   "execution_count": null,
   "metadata": {},
   "outputs": [],
   "source": [
    "GenRelationsWithBDs_moreBDs=pd.merge(GenRelationsWithBDs_final,onlyBDandRegNums2,how='left',\n",
    "                                     left_on='correctRegNum',right_on='correct registration code')\n",
    "GenRelationsWithBDs_moreBDs.head()"
   ]
  },
  {
   "cell_type": "code",
   "execution_count": null,
   "metadata": {},
   "outputs": [],
   "source": [
    "GenRelationsWithBDs_moreBDs.tail()"
   ]
  },
  {
   "cell_type": "code",
   "execution_count": null,
   "metadata": {},
   "outputs": [],
   "source": [
    "GenRelationsWithBDs_moreBDs[GenRelationsWithBDs_moreBDs['DnaID']=='BD551']"
   ]
  },
  {
   "cell_type": "code",
   "execution_count": null,
   "metadata": {},
   "outputs": [],
   "source": [
    "print len(GenRelationsWithBDs_moreBDs[GenRelationsWithBDs_moreBDs['DnaID'].isnull()])\n",
    "GenRelationsWithBDs_moreBDs[GenRelationsWithBDs_moreBDs['DnaID'].isnull()]"
   ]
  },
  {
   "cell_type": "code",
   "execution_count": null,
   "metadata": {},
   "outputs": [],
   "source": [
    "GenRelationsWithBDs_moreBDs[GenRelationsWithBDs_moreBDs['DnaID']=='BD551']"
   ]
  },
  {
   "cell_type": "code",
   "execution_count": null,
   "metadata": {},
   "outputs": [],
   "source": [
    "GenRelationsWithBDs_moreBDs2=GenRelationsWithBDs_moreBDs\n",
    "GenRelationsWithBDs_moreBDs2['DnaID']=np.where(GenRelationsWithBDs_moreBDs2['DnaID'].isnull(),GenRelationsWithBDs_moreBDs2['BD'],\n",
    "                                                      GenRelationsWithBDs_moreBDs2['DnaID'])"
   ]
  },
  {
   "cell_type": "code",
   "execution_count": null,
   "metadata": {},
   "outputs": [],
   "source": [
    "print len(GenRelationsWithBDs_moreBDs[GenRelationsWithBDs_moreBDs['DnaID'].isnull()])\n",
    "print len(GenRelationsWithBDs_moreBDs2[GenRelationsWithBDs_moreBDs2['DnaID'].isnull()])"
   ]
  },
  {
   "cell_type": "code",
   "execution_count": null,
   "metadata": {},
   "outputs": [],
   "source": [
    "GenRelationsWithBDs_moreBDs[GenRelationsWithBDs_moreBDs['DnaID']=='BD551']"
   ]
  },
  {
   "cell_type": "code",
   "execution_count": null,
   "metadata": {},
   "outputs": [],
   "source": [
    "GenRelationsWithBDs_moreBDs2[GenRelationsWithBDs_moreBDs2['DnaID']=='BD551']"
   ]
  },
  {
   "cell_type": "code",
   "execution_count": null,
   "metadata": {},
   "outputs": [],
   "source": [
    "GenRelationsWithBDs_moreBDs2=GenRelationsWithBDs_moreBDs2[['correctRegNum','DnaID','Relations','Gender']]"
   ]
  },
  {
   "cell_type": "code",
   "execution_count": null,
   "metadata": {},
   "outputs": [],
   "source": [
    "#Save updated GenRelation file:\n",
    "file1='/net/mraid08/export/genie/Lab/Personal/ShaniBAF/Sample files/GenRelationsWithBDs_moreBDs2.xlsx'\n",
    "GenRelationsWithBDs_moreBDs2.to_excel(file1)"
   ]
  },
  {
   "cell_type": "code",
   "execution_count": null,
   "metadata": {},
   "outputs": [],
   "source": []
  }
 ],
 "metadata": {
  "kernelspec": {
   "display_name": "Python 2",
   "language": "python",
   "name": "python2"
  },
  "language_info": {
   "codemirror_mode": {
    "name": "ipython",
    "version": 2
   },
   "file_extension": ".py",
   "mimetype": "text/x-python",
   "name": "python",
   "nbconvert_exporter": "python",
   "pygments_lexer": "ipython2",
   "version": "2.7.8"
  },
  "toc": {
   "nav_menu": {},
   "number_sections": true,
   "sideBar": true,
   "skip_h1_title": false,
   "toc_cell": false,
   "toc_position": {},
   "toc_section_display": "block",
   "toc_window_display": true
  }
 },
 "nbformat": 4,
 "nbformat_minor": 2
}
