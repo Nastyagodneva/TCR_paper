{
 "cells": [
  {
   "cell_type": "markdown",
   "metadata": {},
   "source": [
    "# imports:"
   ]
  },
  {
   "cell_type": "code",
   "execution_count": 1,
   "metadata": {
    "ExecuteTime": {
     "end_time": "2018-07-11T13:42:04.407873Z",
     "start_time": "2018-07-11T13:42:01.905971Z"
    }
   },
   "outputs": [
    {
     "name": "stdout",
     "output_type": "stream",
     "text": [
      "done1\n",
      "stop\n",
      "stop\n",
      "done1\n",
      "stop\n",
      "done\n",
      "done\n",
      "done\n",
      "done\n",
      "stop\n"
     ]
    }
   ],
   "source": [
    "from os import listdir,mkdir,makedirs\n",
    "from os.path import isfile, join, isdir,exists\n",
    "import pandas as pd\n",
    "import numpy as np\n",
    "from scipy import stats\n",
    "import re\n",
    "import matplotlib.pyplot as plt\n",
    "from matplotlib.backends.backend_pdf import PdfPages\n",
    "from myplots import roundup, rounddown, find_decimal_fold, percentile_cut_off, rarefaction_calc, rarefaction_plot,draw_correlation_scatter\n",
    "from matplotlib.ticker import FormatStrFormatter\n",
    "import cPickle as pickle\n",
    "from Bio.SeqUtils import GC\n",
    "import seaborn as sns\n",
    "import random\n",
    "from scipy.stats import pearsonr,fisher_exact\n",
    "from skbio.diversity.alpha import shannon, simpson, berger_parker_d\n",
    "\n",
    "from pop_organize import get_sample_data, get_sample_with_dfs\n",
    "from SufficientStatistics.SufficientStatistics import *\n",
    "from MyFunctionsShani import *\n",
    "import math\n",
    "from myplots import roundup, rounddown, find_decimal_fold\n",
    "from skbio.stats.distance import mantel\n",
    "from scipy.spatial.distance import braycurtis, pdist\n",
    "\n",
    "\n",
    "from GeneralFeaturePhenotypeInteractions.Feature_phenotype_functions import * \n",
    "from TCR_microbiome_interactions.TCR_microbiome_interactions_functions import *\n",
    "from TCR_microbiome_interactions.TCR_microbiome_interactions_functions2 import *\n",
    "from SampleLists.SampleFileFunctions import *\n",
    "from PhenotypicData.PhenotypeGenerationFunctions import *\n",
    "from CardioProject.CardioFunctions import *\n",
    "\n",
    "import os\n",
    "from Utils import cacheOnDisk\n",
    "from SegalQueue.qp import qp,fakeqp\n",
    "from addloglevels import sethandlers\n",
    "\n",
    "MyPath='/net/mraid08/export/genie/Lab/Personal/ShaniBAF'"
   ]
  },
  {
   "cell_type": "code",
   "execution_count": 2,
   "metadata": {
    "ExecuteTime": {
     "end_time": "2018-07-11T13:42:05.593080Z",
     "start_time": "2018-07-11T13:42:05.585252Z"
    }
   },
   "outputs": [
    {
     "data": {
      "text/plain": [
       "'11072018'"
      ]
     },
     "execution_count": 2,
     "metadata": {},
     "output_type": "execute_result"
    }
   ],
   "source": [
    "import time\n",
    "cdate=str(time.strftime(\"%d%m%Y\"))\n",
    "cdate\n"
   ]
  },
  {
   "cell_type": "markdown",
   "metadata": {},
   "source": [
    "# generate common sharing matrix"
   ]
  },
  {
   "cell_type": "code",
   "execution_count": null,
   "metadata": {},
   "outputs": [],
   "source": []
  },
  {
   "cell_type": "code",
   "execution_count": null,
   "metadata": {},
   "outputs": [],
   "source": []
  },
  {
   "cell_type": "markdown",
   "metadata": {},
   "source": [
    "# generate merged phenotype table:"
   ]
  },
  {
   "cell_type": "markdown",
   "metadata": {},
   "source": [
    "*generate merged phenotype table with indication for disease yes/no\n",
    "*generate targets dataframe\n",
    "*loop over "
   ]
  },
  {
   "cell_type": "markdown",
   "metadata": {},
   "source": [
    "## load seperate phenotype files:"
   ]
  },
  {
   "cell_type": "code",
   "execution_count": null,
   "metadata": {
    "ExecuteTime": {
     "end_time": "2018-07-01T07:21:47.213723Z",
     "start_time": "2018-07-01T07:21:47.041429Z"
    }
   },
   "outputs": [],
   "source": [
    "f1='%s/TCR_real_data/NewPhenotypicData/PNP530_AgeGenderBMIcreatSmoking.xlsx' %MyPath\n",
    "PNP530_AgeGenderBMIcreatSmoking=pd.read_excel(f1).set_index('BD')\n",
    "print len(PNP530_AgeGenderBMIcreatSmoking)\n",
    "PNP530_AgeGenderBMIcreatSmoking.head()"
   ]
  },
  {
   "cell_type": "code",
   "execution_count": null,
   "metadata": {
    "ExecuteTime": {
     "end_time": "2018-07-01T07:21:48.473492Z",
     "start_time": "2018-07-01T07:21:48.368115Z"
    }
   },
   "outputs": [],
   "source": [
    "f2='%s/TCR_real_data/CardioSamples/phenotypicData/Cardio126phen.xlsx' %MyPath\n",
    "Cardio126_AgeGenderBMIcreatSmoking=pd.read_excel(f2).set_index('BD')\n",
    "print len(Cardio126_AgeGenderBMIcreatSmoking)\n",
    "Cardio126_AgeGenderBMIcreatSmoking.head()"
   ]
  },
  {
   "cell_type": "markdown",
   "metadata": {},
   "source": [
    "## merge phenotype files and add dummy variables:"
   ]
  },
  {
   "cell_type": "code",
   "execution_count": null,
   "metadata": {
    "ExecuteTime": {
     "end_time": "2018-07-01T07:21:50.135639Z",
     "start_time": "2018-07-01T07:21:50.096514Z"
    }
   },
   "outputs": [],
   "source": [
    "# combined phenotype table:\n",
    "PNP530Cardio126_phen=pd.concat([PNP530_AgeGenderBMIcreatSmoking,Cardio126_AgeGenderBMIcreatSmoking])\n",
    "PNP530Cardio126_phen=PNP530Cardio126_phen.drop(['RegistrationCode','DM','Diagnosis'], axis=1)\n",
    "print PNP530Cardio126_phen.shape\n",
    "print PNP530_AgeGenderBMIcreatSmoking.shape\n",
    "print Cardio126_AgeGenderBMIcreatSmoking.shape"
   ]
  },
  {
   "cell_type": "code",
   "execution_count": null,
   "metadata": {
    "ExecuteTime": {
     "end_time": "2018-07-01T07:21:51.841871Z",
     "start_time": "2018-07-01T07:21:51.832576Z"
    }
   },
   "outputs": [],
   "source": [
    "PNP530Cardio126_phen['Female'] = PNP530Cardio126_phen.Gender.map({'Female':1, 'Male':0})"
   ]
  },
  {
   "cell_type": "code",
   "execution_count": null,
   "metadata": {
    "ExecuteTime": {
     "end_time": "2018-07-01T07:21:53.057834Z",
     "start_time": "2018-07-01T07:21:53.042820Z"
    }
   },
   "outputs": [],
   "source": [
    "smokingDum=pd.get_dummies(PNP530Cardio126_phen.Smoking, prefix='Smoking').iloc[:, 1:]\n",
    "smokingDum.head()"
   ]
  },
  {
   "cell_type": "code",
   "execution_count": null,
   "metadata": {
    "ExecuteTime": {
     "end_time": "2018-07-01T07:21:54.245902Z",
     "start_time": "2018-07-01T07:21:54.208560Z"
    }
   },
   "outputs": [],
   "source": [
    "PNP530Cardio126_phen=pd.merge(PNP530Cardio126_phen,smokingDum,how='left',left_index=True, right_index=True)\n",
    "PNP530Cardio126_phen.head()"
   ]
  },
  {
   "cell_type": "code",
   "execution_count": null,
   "metadata": {
    "ExecuteTime": {
     "end_time": "2018-07-01T07:21:55.438070Z",
     "start_time": "2018-07-01T07:21:55.425963Z"
    }
   },
   "outputs": [],
   "source": [
    "PNP530Cardio126_phen.PCRplate.value_counts(dropna=False)"
   ]
  },
  {
   "cell_type": "code",
   "execution_count": null,
   "metadata": {
    "ExecuteTime": {
     "end_time": "2018-07-01T07:21:56.666861Z",
     "start_time": "2018-07-01T07:21:56.640591Z"
    }
   },
   "outputs": [],
   "source": [
    "PlateDum=pd.get_dummies(PNP530Cardio126_phen.PCRplate, prefix='PCR')\n",
    "PlateDum.head()"
   ]
  },
  {
   "cell_type": "code",
   "execution_count": null,
   "metadata": {
    "ExecuteTime": {
     "end_time": "2018-07-01T07:21:57.943104Z",
     "start_time": "2018-07-01T07:21:57.893408Z"
    },
    "scrolled": true
   },
   "outputs": [],
   "source": [
    "PNP530Cardio126_phen=pd.merge(PNP530Cardio126_phen,PlateDum,how='left',left_index=True, right_index=True)\n",
    "PNP530Cardio126_phen.head()"
   ]
  },
  {
   "cell_type": "code",
   "execution_count": null,
   "metadata": {},
   "outputs": [],
   "source": []
  },
  {
   "cell_type": "code",
   "execution_count": null,
   "metadata": {
    "ExecuteTime": {
     "end_time": "2018-06-26T07:37:38.445426Z",
     "start_time": "2018-06-26T07:37:37.933641Z"
    }
   },
   "outputs": [],
   "source": [
    "f2='%s/TCR_real_data/PNP530Cardio126Combined/Phenotypes/PNP530Cardio126_phen.xlsx' %MyPath\n",
    "PNP530Cardio126_phen.to_excel(f2)"
   ]
  },
  {
   "cell_type": "markdown",
   "metadata": {},
   "source": [
    "# logistic regression - seq presence/absence"
   ]
  },
  {
   "cell_type": "markdown",
   "metadata": {},
   "source": [
    "## explore coefficient p-values"
   ]
  },
  {
   "cell_type": "markdown",
   "metadata": {},
   "source": [
    "### load common binary TCR file:"
   ]
  },
  {
   "cell_type": "code",
   "execution_count": null,
   "metadata": {
    "ExecuteTime": {
     "end_time": "2018-07-01T08:29:18.096813Z",
     "start_time": "2018-07-01T08:29:06.196852Z"
    }
   },
   "outputs": [],
   "source": [
    "datasetFolder='%s/TCR_real_data/PNP530Cardio126Combined' %MyPath\n",
    "datasetName='PNP530Cardio126'\n",
    "\n",
    "f1='%s/sharingAnalysis/sharingMatrix_PNP530Cardio126_minNshared5_RA_onlyProductiveTrue__minSharedT5_OLtrimmed_binary' %datasetFolder\n",
    "combTCRdfmin5=pd.read_pickle(f1)\n",
    "print combTCRdfmin5.shape\n",
    "\n"
   ]
  },
  {
   "cell_type": "code",
   "execution_count": null,
   "metadata": {
    "ExecuteTime": {
     "end_time": "2018-07-01T08:29:32.743680Z",
     "start_time": "2018-07-01T08:29:32.705862Z"
    }
   },
   "outputs": [],
   "source": [
    "list(combTCRdfmin5.index)"
   ]
  },
  {
   "cell_type": "markdown",
   "metadata": {},
   "source": [
    "### define X"
   ]
  },
  {
   "cell_type": "code",
   "execution_count": null,
   "metadata": {
    "ExecuteTime": {
     "end_time": "2018-06-26T11:43:28.103468Z",
     "start_time": "2018-06-26T11:43:27.782024Z"
    }
   },
   "outputs": [],
   "source": [
    "f2='%s/TCR_real_data/PNP530Cardio126Combined/Phenotypes/PNP530Cardio126_phen.xlsx' %MyPath\n",
    "PNP530Cardio126_phen=pd.read_excel(f2)\n",
    "PNP530Cardio126_phen.head()"
   ]
  },
  {
   "cell_type": "code",
   "execution_count": null,
   "metadata": {
    "ExecuteTime": {
     "end_time": "2018-06-26T11:43:35.939618Z",
     "start_time": "2018-06-26T11:43:35.933180Z"
    }
   },
   "outputs": [],
   "source": [
    "# Xtypes:\n",
    "allNum=['BD', 'Age', 'BMI', 'Creatinine', 'isCardio', 'nTemplates', 'Female', 'Smoking_Past', 'Smoking_Yes',\n",
    "       'PCR_Plate1', 'PCR_Plate10', 'PCR_Plate2', 'PCR_Plate3',\n",
    "       'PCR_Plate4', 'PCR_Plate5', 'PCR_Plate6', 'PCR_Plate7',\n",
    "       'PCR_Plate8', 'PCR_Plate9']\n",
    "small=['BD', 'Age', 'BMI', 'Creatinine', 'isCardio', 'Female']\n",
    "smallNoCardio=['BD', 'Age', 'BMI', 'Creatinine', 'Female']\n",
    "allNumNoPlate=['BD', 'Age', 'BMI', 'Creatinine', 'isCardio', 'nTemplates', 'Female', 'Smoking_Past', 'Smoking_Yes']"
   ]
  },
  {
   "cell_type": "code",
   "execution_count": null,
   "metadata": {
    "ExecuteTime": {
     "end_time": "2018-06-26T11:43:43.608164Z",
     "start_time": "2018-06-26T11:43:43.600120Z"
    }
   },
   "outputs": [],
   "source": [
    "#DEFINE WHICH FEATURES TO USE:\n",
    "\n",
    "X=PNP530Cardio126_phen[allNum].set_index('BD')"
   ]
  },
  {
   "cell_type": "code",
   "execution_count": null,
   "metadata": {
    "ExecuteTime": {
     "end_time": "2018-06-26T11:43:52.083303Z",
     "start_time": "2018-06-26T11:43:52.038419Z"
    }
   },
   "outputs": [],
   "source": [
    "#drop all samples that don't have all feature info. check how many samples were lost\n",
    "print 'X shape before na removal=%s_%s' %(X.shape[0],X.shape[1])\n",
    "X=X.dropna(how='any')\n",
    "print 'X shape before na removal=%s_%s' %(X.shape[0],X.shape[1])\n",
    "xsamples=X.index.astype(str).tolist() # get list of samples to use\n",
    "\n",
    "X.head()"
   ]
  },
  {
   "cell_type": "markdown",
   "metadata": {},
   "source": [
    "### define function:"
   ]
  },
  {
   "cell_type": "code",
   "execution_count": null,
   "metadata": {},
   "outputs": [],
   "source": [
    "the function logReg_withWrappe was copied to cardioFunctions.py"
   ]
  },
  {
   "cell_type": "markdown",
   "metadata": {},
   "source": [
    "### run over all sequences and get p-values"
   ]
  },
  {
   "cell_type": "code",
   "execution_count": null,
   "metadata": {
    "ExecuteTime": {
     "end_time": "2018-06-26T11:44:00.530325Z",
     "start_time": "2018-06-26T11:44:00.526065Z"
    }
   },
   "outputs": [],
   "source": [
    "print len(combTCRdfmin5.columns.values)"
   ]
  },
  {
   "cell_type": "markdown",
   "metadata": {},
   "source": [
    "the function was run over all sequences using eclipse (paralleled in the cluster, 500 seqs/job)"
   ]
  },
  {
   "cell_type": "markdown",
   "metadata": {},
   "source": [
    "### get results:"
   ]
  },
  {
   "cell_type": "code",
   "execution_count": null,
   "metadata": {
    "ExecuteTime": {
     "end_time": "2018-07-02T19:13:36.673331Z",
     "start_time": "2018-07-02T19:12:56.729587Z"
    }
   },
   "outputs": [],
   "source": [
    "allNum=['BD', 'Age', 'BMI', 'Creatinine', 'isCardio', 'nTemplates', 'Female', 'Smoking_Past', 'Smoking_Yes',\n",
    "       'PCR_Plate1', 'PCR_Plate10', 'PCR_Plate2', 'PCR_Plate3',\n",
    "       'PCR_Plate4', 'PCR_Plate5', 'PCR_Plate6', 'PCR_Plate7',\n",
    "       'PCR_Plate8', 'PCR_Plate9']\n",
    "small=['BD', 'Age', 'BMI', 'Creatinine', 'isCardio', 'Female','Smoking_Past', 'Smoking_Yes']\n",
    "smallNoCardio=['BD', 'Age', 'BMI', 'Creatinine', 'Female']\n",
    "allNumNoPlate=['BD', 'Age', 'BMI', 'Creatinine', 'isCardio', 'nTemplates', 'Female', 'Smoking_Past', 'Smoking_Yes']\n",
    "\n",
    "Xcols=small\n",
    "Xname='small'\n",
    "\n",
    "resultFolder='%s/TCR_real_data/PNP530Cardio126Combined/seqPredictions/%s/DFs' %(MyPath, Xname)\n",
    "filenames = [f for f in listdir(resultFolder) if isfile(join(resultFolder, f))]\n",
    "dfs=[f for f in filenames if 'resultDF' in f]\n",
    "print len(dfs)\n",
    "print dfs[:5]\n",
    "\n",
    "df_list=[]\n",
    "for file_name in dfs:\n",
    "    with open('%s/%s' %(resultFolder, file_name), 'rb') as f:\n",
    "        current_df=pd.read_excel(f)\n",
    "    f.close()\n",
    "    df_list.append(current_df)\n",
    "print ('the length of df list is %s' %len(df_list))\n",
    "\n",
    "logRegResults=pd.concat(df_list)\n",
    "logRegResults.head()"
   ]
  },
  {
   "cell_type": "code",
   "execution_count": null,
   "metadata": {
    "ExecuteTime": {
     "end_time": "2018-07-02T19:14:40.180177Z",
     "start_time": "2018-07-02T19:14:40.174332Z"
    }
   },
   "outputs": [],
   "source": [
    "# #define p-values columns\n",
    "\n",
    "# p_value_columns=['Age', 'BMI', 'Creatinine', 'isCardio', 'nTemplates', 'Female', 'Smoking_Past', 'Smoking_Yes',\n",
    "#        'PCR_Plate1', 'PCR_Plate10', 'PCR_Plate2', 'PCR_Plate3',\n",
    "#        'PCR_Plate4', 'PCR_Plate5', 'PCR_Plate6', 'PCR_Plate7',\n",
    "#        'PCR_Plate8', 'PCR_Plate9']\n",
    "\n",
    "p_value_columns=[x for x in Xcols if x!='BD']\n",
    "print p_value_columns\n"
   ]
  },
  {
   "cell_type": "code",
   "execution_count": null,
   "metadata": {
    "ExecuteTime": {
     "end_time": "2018-07-02T19:15:43.445316Z",
     "start_time": "2018-07-02T19:15:43.124365Z"
    }
   },
   "outputs": [],
   "source": [
    "# add corrected p-values:\n",
    "nTests=len(logRegResults)\n",
    "logRegResults=logRegResults.sort_values(by='isCardio')\n",
    "logRegResults['minP']=logRegResults[p_value_columns].min(axis=1)\n",
    "logRegResults=add_corrected_pValues(logRegResults,pValueColumn='isCardio',nTests=nTests,FDR=0.1)\n",
    "logRegResults"
   ]
  },
  {
   "cell_type": "code",
   "execution_count": null,
   "metadata": {
    "ExecuteTime": {
     "end_time": "2018-07-02T19:16:47.442838Z",
     "start_time": "2018-07-02T19:16:47.222582Z"
    }
   },
   "outputs": [],
   "source": [
    "# add column indicate sequences in which the 'isCardio' is the best p-value\n",
    "logRegResults['isCardioisBest']=np.where(logRegResults['isCardio']==logRegResults[p_value_columns].min(axis=1),1,0)\n",
    "logRegResults"
   ]
  },
  {
   "cell_type": "code",
   "execution_count": null,
   "metadata": {
    "ExecuteTime": {
     "end_time": "2018-07-02T19:19:12.262259Z",
     "start_time": "2018-07-02T19:17:51.140113Z"
    }
   },
   "outputs": [],
   "source": [
    "#save file:\n",
    "f1='%s/TCR_real_data/PNP530Cardio126Combined/seqPredictions/resultDFlogReg_%s_TCRbinaryMin5.xlsx' %(MyPath,Xname)\n",
    "logRegResults.to_excel(f1)"
   ]
  },
  {
   "cell_type": "code",
   "execution_count": null,
   "metadata": {
    "ExecuteTime": {
     "end_time": "2018-07-02T19:20:16.861286Z",
     "start_time": "2018-07-02T19:20:16.610168Z"
    }
   },
   "outputs": [],
   "source": [
    "#get descriptive statistics and save:\n",
    "logRegResultsStats=logRegResults.describe()\n",
    "logRegResultsStats\n",
    "f1='%s/TCR_real_data/PNP530Cardio126Combined/seqPredictions/logRegResultsStats_%s_TCRbinaryMin5.xlsx' %(MyPath,Xname)\n",
    "logRegResultsStats.to_excel(f1)"
   ]
  },
  {
   "cell_type": "code",
   "execution_count": null,
   "metadata": {
    "ExecuteTime": {
     "end_time": "2018-07-02T19:21:22.318042Z",
     "start_time": "2018-07-02T19:21:21.963289Z"
    }
   },
   "outputs": [],
   "source": [
    "#calculate how many times the 'is Cardio' was significnat with bonferroni correction\n",
    "\n",
    "resultLen=len(logRegResults)\n",
    "print 'result list length is %s' %resultLen\n",
    "resultsStatSum=pd.DataFrame(logRegResults[p_value_columns].mean())\n",
    "resultsStatSum=resultsStatSum.rename(columns={0:'mean_p_value'})\n",
    "resultsStatSum['nSigBonf']=logRegResults[p_value_columns].apply(lambda x: len([n for n in x if n<(0.05/resultLen)]))\n",
    "resultsStatSum['nBest']=logRegResults[p_value_columns].idxmin(axis=1).value_counts()\n",
    "print resultsStatSum.sort_values(by='nSigBonf',ascending=False)\n",
    "\n",
    "f1='%s/TCR_real_data/PNP530Cardio126Combined/seqPredictions/resultsStatSum_%s_TCRbinaryMin5.xlsx' %(MyPath,Xname)\n",
    "resultsStatSum.to_excel(f1)"
   ]
  },
  {
   "cell_type": "code",
   "execution_count": null,
   "metadata": {},
   "outputs": [],
   "source": []
  },
  {
   "cell_type": "markdown",
   "metadata": {},
   "source": [
    "### plot r2 distribution"
   ]
  },
  {
   "cell_type": "code",
   "execution_count": null,
   "metadata": {
    "ExecuteTime": {
     "end_time": "2018-07-02T19:22:26.639498Z",
     "start_time": "2018-07-02T19:22:26.352790Z"
    }
   },
   "outputs": [],
   "source": [
    "prsquared=pd.to_numeric(logRegResults.prsquared,errors='coerce')\n",
    "prsquared=prsquared.replace([np.inf, -np.inf], np.nan)\n",
    "prsquared.sort_values(ascending=False)\n",
    "prsquared=prsquared[prsquared.notnull()]\n",
    "print prsquared.max()\n",
    "print prsquared.min()\n",
    "print len(prsquared[prsquared<0])\n",
    "print float(len(prsquared[prsquared<0]))/len(prsquared)\n",
    "plt.hist(prsquared[prsquared>0], bins=20)\n",
    "plt.show()"
   ]
  },
  {
   "cell_type": "code",
   "execution_count": null,
   "metadata": {
    "ExecuteTime": {
     "end_time": "2018-07-02T20:07:29.652371Z",
     "start_time": "2018-07-02T20:07:29.143494Z"
    }
   },
   "outputs": [],
   "source": [
    "#compare r2 distribution in isCardioBest to the rest:\n",
    "logRegResults['prsquared']=logRegResults['prsquared'].replace([np.inf, -np.inf], np.nan)\n",
    "logRegResults=logRegResults[logRegResults['prsquared'].notnull()]\n",
    "logRegResults=logRegResults[logRegResults['prsquared']>0]\n",
    "data={}\n",
    "for name, group in logRegResults.groupby('isCardioisBest'):\n",
    "    data[name] =  list(group['prsquared'])\n",
    "data0=data[0]\n",
    "data1=data[1]\n",
    "print len(data0)\n",
    "print len(data1)\n",
    "print len(data0)+len(data1)\n",
    "s_t, p_t = stats.ttest_ind(data[0], data[1])\n",
    "s_k, p_k = stats.ks_2samp(data[0], data[1])\n",
    "print 'mean for group 0=%s' %np.mean(data[0])\n",
    "print 'mean for group 1=%s' %np.mean(data[1])\n",
    "print 'p_value ttest= %s' %round(p_t,10)\n",
    "print 'p_value kstest= %s' %round(p_k,10)\n",
    "data0weights=np.ones_like(data0) / len(data0)\n",
    "data1weights=np.ones_like(data1) / len(data1)\n",
    "plt.hist([data0,data1],bins=20,weights=[data0weights,data1weights],label=['isCardio not the best','isCardio the best'])\n",
    "plt.legend()\n",
    "plt.show()"
   ]
  },
  {
   "cell_type": "markdown",
   "metadata": {},
   "source": [
    "# linear regression - TCR feature prediction"
   ]
  },
  {
   "cell_type": "markdown",
   "metadata": {},
   "source": [
    "### generate common feature file:"
   ]
  },
  {
   "cell_type": "code",
   "execution_count": null,
   "metadata": {
    "ExecuteTime": {
     "end_time": "2018-06-28T11:23:41.882231Z",
     "start_time": "2018-06-28T11:23:41.790944Z"
    }
   },
   "outputs": [],
   "source": [
    "#load PNP530:\n",
    "f1='%s/TCR_real_data/featureSummaryDFs/PNP530_allFeatures' %MyPath\n",
    "PNP530_allFeatures=pd.read_pickle(f1)\n",
    "print PNP530_allFeatures.shape\n",
    "# print PNP530_allFeatures.head()"
   ]
  },
  {
   "cell_type": "code",
   "execution_count": null,
   "metadata": {
    "ExecuteTime": {
     "end_time": "2018-06-28T11:23:45.551816Z",
     "start_time": "2018-06-28T11:23:45.540071Z"
    }
   },
   "outputs": [],
   "source": [
    "#load Cardio:\n",
    "f1='%s/TCR_real_data/CardioSamples/featureSummaryDFs/Cardio126_allFeatures' %MyPath\n",
    "Cardio126_allFeatures=pd.read_pickle(f1)\n",
    "print Cardio126_allFeatures.shape\n",
    "# print Cardio126_allFeatures.head()"
   ]
  },
  {
   "cell_type": "code",
   "execution_count": null,
   "metadata": {
    "ExecuteTime": {
     "end_time": "2018-06-28T11:23:49.283513Z",
     "start_time": "2018-06-28T11:23:49.256831Z"
    }
   },
   "outputs": [],
   "source": [
    "PNP530Cardio126_allFeatures=pd.concat([PNP530_allFeatures,Cardio126_allFeatures])\n",
    "print PNP530Cardio126_allFeatures.shape\n",
    "# print PNP530Cardio126_allFeatures.head()"
   ]
  },
  {
   "cell_type": "code",
   "execution_count": null,
   "metadata": {
    "ExecuteTime": {
     "end_time": "2018-06-28T11:26:20.359048Z",
     "start_time": "2018-06-28T11:26:02.404728Z"
    }
   },
   "outputs": [],
   "source": [
    "# makedirs('%s/TCR_real_data/PNP530Cardio126Combined/featureSummaryDFs' %MyPath)\n",
    "\n",
    "f1='%s/TCR_real_data/PNP530Cardio126Combined/featureSummaryDFs/PNP530Cardio126_allFeatures' %MyPath\n",
    "PNP530Cardio126_allFeatures.to_pickle(f1)\n",
    "\n",
    "f2='%s/TCR_real_data/PNP530Cardio126Combined/featureSummaryDFs/PNP530Cardio126_allFeatures.xlsx' %MyPath\n",
    "PNP530Cardio126_allFeatures.to_excel(f2)"
   ]
  },
  {
   "cell_type": "markdown",
   "metadata": {},
   "source": [
    "### change function:"
   ]
  },
  {
   "cell_type": "code",
   "execution_count": null,
   "metadata": {},
   "outputs": [],
   "source": [
    "the function linReg_withWrapper was copied to  cardioFunctions.py"
   ]
  },
  {
   "cell_type": "code",
   "execution_count": null,
   "metadata": {
    "ExecuteTime": {
     "end_time": "2018-07-01T08:37:23.371257Z",
     "start_time": "2018-07-01T08:36:57.799082Z"
    }
   },
   "outputs": [],
   "source": [
    "datasetFolder='%s/TCR_real_data/PNP530Cardio126Combined' %MyPath\n",
    "datasetName='PNP530Cardio126'\n",
    "\n",
    "f1='%s/TCR_real_data/PNP530Cardio126Combined/featureSummaryDFs/PNP530Cardio126_allFeatures' %MyPath\n",
    "PNP530Cardio126_allFeatures=pd.read_pickle(f1)\n",
    "print PNP530Cardio126_allFeatures.shape\n",
    "\n",
    "\n",
    "\n",
    "f2='%s/TCR_real_data/PNP530Cardio126Combined/Phenotypes/PNP530Cardio126_phen.xlsx' %MyPath\n",
    "PNP530Cardio126_phen=pd.read_excel(f2)\n",
    "PNP530Cardio126_phen.head()\n",
    "\n",
    "# Xtypes:\n",
    "allNum=['BD', 'Age', 'BMI', 'Creatinine', 'isCardio', 'nTemplates', 'Female', 'Smoking_Past', 'Smoking_Yes',\n",
    "       'PCR_Plate1', 'PCR_Plate10', 'PCR_Plate2', 'PCR_Plate3',\n",
    "       'PCR_Plate4', 'PCR_Plate5', 'PCR_Plate6', 'PCR_Plate7',\n",
    "       'PCR_Plate8', 'PCR_Plate9']\n",
    "small=['BD', 'Age', 'BMI', 'Creatinine', 'isCardio', 'Female','Smoking_Past', 'Smoking_Yes']\n",
    "smallNoCardio=['BD', 'Age', 'BMI', 'Creatinine', 'Female']\n",
    "allNumNoPlate=['BD', 'Age', 'BMI', 'Creatinine', 'isCardio', 'nTemplates', 'Female', 'Smoking_Past', 'Smoking_Yes']\n",
    "\n",
    "#DEFINE WHICH FEATURES TO USE:\n",
    "\n",
    "Xcols=small\n",
    "Xname='small'\n",
    "\n",
    "X=PNP530Cardio126_phen[Xcols].set_index('BD')\n",
    "#drop all samples that don't have all feature info. check how many samples were lost\n",
    "print 'X shape before na removal=%s_%s' %(X.shape[0],X.shape[1])\n",
    "X=X.dropna(how='any')\n",
    "print 'X shape before na removal=%s_%s' %(X.shape[0],X.shape[1])\n",
    "xsamples=X.index.astype(str).tolist() # get list of samples to use\n",
    "\n",
    "modelType='ols'\n",
    "yDF=PNP530Cardio126_allFeatures\n",
    "yname='PNP530Cardio126_allFeatures'\n",
    "resultFolder='%s/TCR_real_data/PNP530Cardio126Combined/FeaturePredictions/%s/%s_%s_DFs' %(MyPath,modelType,Xname,yname)\n",
    "if not isdir(resultFolder):\n",
    "    makedirs(resultFolder)\n",
    "yMinCol=None\n",
    "yMaxCol=None\n",
    "maxiter=1000\n",
    "\n",
    "\n",
    "df=linearOrlogistic_reg_withWrapper(X,Xname,yDF,yname,resultFolder,modelType,yMinCol,yMaxCol,maxiter)"
   ]
  },
  {
   "cell_type": "markdown",
   "metadata": {
    "ExecuteTime": {
     "end_time": "2018-06-28T13:19:50.858895Z",
     "start_time": "2018-06-28T13:19:50.706415Z"
    }
   },
   "source": [
    "### get results:"
   ]
  },
  {
   "cell_type": "code",
   "execution_count": null,
   "metadata": {
    "ExecuteTime": {
     "end_time": "2018-07-01T08:37:25.381936Z",
     "start_time": "2018-07-01T08:37:25.114049Z"
    }
   },
   "outputs": [],
   "source": [
    "f1='%s/resultDF_regType%s_%s_%s_ycol0_ycol746_mi%s.xlsx'   %(resultFolder,modelType,Xname,yname,maxiter)\n",
    "linRegResults=pd.read_excel(f1)"
   ]
  },
  {
   "cell_type": "code",
   "execution_count": null,
   "metadata": {
    "ExecuteTime": {
     "end_time": "2018-07-01T08:37:27.305620Z",
     "start_time": "2018-07-01T08:37:27.300901Z"
    }
   },
   "outputs": [],
   "source": [
    "#define p-values columns\n",
    "p_value_columns=[x for x in Xcols if x!='BD']\n",
    "print p_value_columns"
   ]
  },
  {
   "cell_type": "code",
   "execution_count": null,
   "metadata": {
    "ExecuteTime": {
     "end_time": "2018-07-01T08:37:29.392893Z",
     "start_time": "2018-07-01T08:37:29.230747Z"
    }
   },
   "outputs": [],
   "source": [
    "# add corrected p-values:\n",
    "nTests=len(linRegResults)\n",
    "linRegResults=linRegResults.sort_values(by='isCardio')\n",
    "# linRegResults['minP']=linRegResults[p_value_columns].min(axis=1)\n",
    "linRegResults=add_corrected_pValues(linRegResults,pValueColumn='isCardio',nTests=nTests,FDR=0.1)\n",
    "linRegResults"
   ]
  },
  {
   "cell_type": "code",
   "execution_count": null,
   "metadata": {
    "ExecuteTime": {
     "end_time": "2018-07-01T08:37:31.571487Z",
     "start_time": "2018-07-01T08:37:31.393550Z"
    }
   },
   "outputs": [],
   "source": [
    "# add column indicate sequences in which the 'isCardio' is the best p-value\n",
    "linRegResults['isCardioisBest']=np.where(linRegResults['isCardio']==linRegResults[p_value_columns].min(axis=1),1,0)\n",
    "linRegResults"
   ]
  },
  {
   "cell_type": "code",
   "execution_count": null,
   "metadata": {
    "ExecuteTime": {
     "end_time": "2018-07-01T08:37:34.084428Z",
     "start_time": "2018-07-01T08:37:33.553556Z"
    }
   },
   "outputs": [],
   "source": [
    "#save file:\n",
    "f1='%s/resultDF_regType%s_%s_%s_ycol0_ycol746_mi%s.xlsx'   %(resultFolder,modelType,Xname,yname,maxiter)\n",
    "linRegResults.to_excel(f1)"
   ]
  },
  {
   "cell_type": "code",
   "execution_count": null,
   "metadata": {
    "ExecuteTime": {
     "end_time": "2018-07-01T08:37:36.138424Z",
     "start_time": "2018-07-01T08:37:36.057242Z"
    }
   },
   "outputs": [],
   "source": [
    "#get descriptive statistics and save:\n",
    "linRegResultsStats=linRegResults.describe()\n",
    "linRegResultsStats\n",
    "f1='%s/linRegResultsStats_%s_%s_ycol0_ycol746_mi%s.xlsx'   %(resultFolder,Xname,yname,maxiter)\n",
    "linRegResultsStats.to_excel(f1)"
   ]
  },
  {
   "cell_type": "code",
   "execution_count": null,
   "metadata": {
    "ExecuteTime": {
     "end_time": "2018-07-01T08:37:38.244040Z",
     "start_time": "2018-07-01T08:37:38.201343Z"
    }
   },
   "outputs": [],
   "source": [
    "#calculate how many times the 'is Cardio' was significnat with bonferroni correction\n",
    "\n",
    "resultLen=len(linRegResults)\n",
    "print 'result list length is %s' %resultLen\n",
    "resultsStatSum=pd.DataFrame(linRegResults[p_value_columns].mean())\n",
    "resultsStatSum=resultsStatSum.rename(columns={0:'mean_p_value'})\n",
    "resultsStatSum['nSigBonf']=linRegResults[p_value_columns].apply(lambda x: len([n for n in x if n<(0.05/resultLen)]))\n",
    "resultsStatSum['nBest']=linRegResults[p_value_columns].idxmin(axis=1).value_counts()\n",
    "print resultsStatSum.sort_values(by='nSigBonf',ascending=False)\n",
    "f1='%s/linRegResultsStatSum_%s_%s_ycol0_ycol746_mi%s.xlsx'   %(resultFolder,Xname,yname,maxiter)\n",
    "resultsStatSum.to_excel(f1)"
   ]
  },
  {
   "cell_type": "code",
   "execution_count": null,
   "metadata": {
    "ExecuteTime": {
     "end_time": "2018-07-01T08:37:40.353014Z",
     "start_time": "2018-07-01T08:37:40.338962Z"
    }
   },
   "outputs": [],
   "source": [
    "resultsStatSum"
   ]
  },
  {
   "cell_type": "markdown",
   "metadata": {},
   "source": [
    "### plot r2 distribution"
   ]
  },
  {
   "cell_type": "code",
   "execution_count": null,
   "metadata": {
    "ExecuteTime": {
     "end_time": "2018-07-01T08:37:42.799519Z",
     "start_time": "2018-07-01T08:37:42.431322Z"
    }
   },
   "outputs": [],
   "source": [
    "rsquared_adj=pd.to_numeric(linRegResults.rsquared_adj,errors='coerce')\n",
    "rsquared_adj=rsquared_adj.replace([np.inf, -np.inf], np.nan)\n",
    "rsquared_adj.sort_values(ascending=False)\n",
    "rsquared_adj=rsquared_adj[rsquared_adj.notnull()]\n",
    "print rsquared_adj.max()\n",
    "print rsquared_adj.min()\n",
    "plt.hist(rsquared_adj, bins=20)\n",
    "plt.show()"
   ]
  },
  {
   "cell_type": "code",
   "execution_count": null,
   "metadata": {},
   "outputs": [],
   "source": []
  },
  {
   "cell_type": "markdown",
   "metadata": {},
   "source": [
    "# logistic regression - predict healthy/sick using TCR seq or features"
   ]
  },
  {
   "cell_type": "code",
   "execution_count": null,
   "metadata": {
    "ExecuteTime": {
     "end_time": "2018-07-04T10:22:47.102545Z",
     "start_time": "2018-07-04T10:22:47.095029Z"
    }
   },
   "outputs": [],
   "source": [
    "#the function  predictBinaryPhenotype_logReg_TCRfeatures was copied to CardioFunctions.py"
   ]
  },
  {
   "cell_type": "markdown",
   "metadata": {},
   "source": [
    "## run for all PNP530cARDIO126 samples - TCR features"
   ]
  },
  {
   "cell_type": "code",
   "execution_count": null,
   "metadata": {
    "ExecuteTime": {
     "end_time": "2018-07-04T10:23:31.503429Z",
     "start_time": "2018-07-04T10:22:47.256414Z"
    }
   },
   "outputs": [],
   "source": [
    "datasetFolder='%s/TCR_real_data/PNP530Cardio126Combined' %MyPath\n",
    "datasetName='PNP530Cardio126'\n",
    "\n",
    "#get feature df:\n",
    "f1='%s/TCR_real_data/PNP530Cardio126Combined/featureSummaryDFs/PNP530Cardio126_allFeatures' %MyPath\n",
    "PNP530Cardio126_allFeatures=pd.read_pickle(f1)\n",
    "print PNP530Cardio126_allFeatures.shape\n",
    "\n",
    "#get phenotype df:\n",
    "\n",
    "## full phenotype df:\n",
    "f2='%s/TCR_real_data/PNP530Cardio126Combined/Phenotypes/PNP530Cardio126_phen.xlsx' %MyPath\n",
    "PNP530Cardio126_phen=pd.read_excel(f2)\n",
    "PNP530Cardio126_phen.head()\n",
    "\n",
    "###\n",
    "\n",
    "# Xtypes:\n",
    "allNum=['BD', 'Age', 'BMI', 'Creatinine', 'isCardio', 'nTemplates', 'Female', 'Smoking_Past', 'Smoking_Yes',\n",
    "       'PCR_Plate1', 'PCR_Plate10', 'PCR_Plate2', 'PCR_Plate3',\n",
    "       'PCR_Plate4', 'PCR_Plate5', 'PCR_Plate6', 'PCR_Plate7',\n",
    "       'PCR_Plate8', 'PCR_Plate9']\n",
    "small=['BD', 'Age', 'BMI', 'Creatinine', 'isCardio', 'Female','Smoking_Past', 'Smoking_Yes']\n",
    "smallNoCardio=['BD', 'Age', 'BMI', 'Creatinine', 'Female']\n",
    "allNumNoPlate=['BD', 'Age', 'BMI', 'Creatinine', 'isCardio', 'nTemplates', 'Female', 'Smoking_Past', 'Smoking_Yes']\n",
    "\n",
    "#DEFINE WHICH FEATURES TO USE:\n",
    "\n",
    "Xcols=small\n",
    "phenotypeDFname='small'\n",
    "Xname=phenotypeDFname\n",
    "phenotypeDF=PNP530Cardio126_phen[Xcols].set_index('BD')\n",
    "TCRvariableDF=PNP530Cardio126_allFeatures\n",
    "TCRvariableName='PNP530Cardio126_allFeatures'\n",
    "targetDF=phenotypeDF['isCardio']\n",
    "phenotypeDF=phenotypeDF.drop('isCardio',axis=1)\n",
    "targetName='isCardio'\n",
    "modelType='logit'\n",
    "# print 'target original:'\n",
    "# print targetDF.head(10)\n",
    "# print targetDF.value_counts(dropna=False)\n",
    "\n",
    "\n",
    "\n",
    "resultFolder='%s/TCR_real_data/PNP530Cardio126Combined/%s_Predictions/%s/%s_%s_DFs' %(MyPath,targetName,modelType,\n",
    "                                                                                      phenotypeDFname,TCRvariableName)\n",
    "if not isdir(resultFolder):\n",
    "    makedirs(resultFolder)\n",
    "    \n",
    "    \n",
    "TCRdfMinCol=None\n",
    "TCRdfMaxCol=None\n",
    "maxiter=1000\n",
    "\n",
    "\n",
    "\n",
    "df=predictBinaryPhenotype_logReg_TCRfeatures(phenotypeDF, phenotypeDFname, TCRvariableDF, TCRvariableName, targetDF, \n",
    "                                               targetName, resultFolder, modelType, TCRdfMinCol, TCRdfMaxCol, \n",
    "                                               maxiter)"
   ]
  },
  {
   "cell_type": "code",
   "execution_count": null,
   "metadata": {
    "ExecuteTime": {
     "end_time": "2018-07-04T10:23:39.021567Z",
     "start_time": "2018-07-04T10:23:38.937004Z"
    }
   },
   "outputs": [],
   "source": [
    "df.head()"
   ]
  },
  {
   "cell_type": "markdown",
   "metadata": {},
   "source": [
    "### get results:"
   ]
  },
  {
   "cell_type": "code",
   "execution_count": null,
   "metadata": {
    "ExecuteTime": {
     "end_time": "2018-07-04T10:23:42.940094Z",
     "start_time": "2018-07-04T10:23:42.633684Z"
    }
   },
   "outputs": [],
   "source": [
    "f1 = '%s/resultDF_regType%s_%s_%s_ycol0_ycol746_mi%s.xlsx' % (resultFolder, modelType, phenotypeDFname, TCRvariableName, \n",
    "                                                               maxiter)\n",
    "logRegResults=pd.read_excel(f1)\n",
    "logRegResults.head()"
   ]
  },
  {
   "cell_type": "code",
   "execution_count": null,
   "metadata": {
    "ExecuteTime": {
     "end_time": "2018-07-04T10:23:47.259251Z",
     "start_time": "2018-07-04T10:23:47.253084Z"
    }
   },
   "outputs": [],
   "source": [
    "# #define p-values columns\n",
    "\n",
    "p_value_columns=[x for x in Xcols if (x!='BD') and (x!='isCardio')]\n",
    "p_value_columns=p_value_columns+['variable_p']\n",
    "print p_value_columns\n"
   ]
  },
  {
   "cell_type": "code",
   "execution_count": null,
   "metadata": {
    "ExecuteTime": {
     "end_time": "2018-07-04T10:23:51.692805Z",
     "start_time": "2018-07-04T10:23:51.476954Z"
    }
   },
   "outputs": [],
   "source": [
    "# add corrected p-values:\n",
    "nTests=len(logRegResults)\n",
    "logRegResults=logRegResults.sort_values(by='variable_p')\n",
    "logRegResults['minP']=logRegResults[p_value_columns].min(axis=1)\n",
    "logRegResults=add_corrected_pValues(logRegResults,pValueColumn='variable_p',nTests=nTests,FDR=0.1)\n",
    "logRegResults"
   ]
  },
  {
   "cell_type": "code",
   "execution_count": null,
   "metadata": {
    "ExecuteTime": {
     "end_time": "2018-07-04T10:23:56.187392Z",
     "start_time": "2018-07-04T10:23:55.994602Z"
    }
   },
   "outputs": [],
   "source": [
    "# add column indicate sequences in which the 'isCardio' is the best p-value\n",
    "logRegResults['isVariableBest']=np.where(logRegResults['variable_p']==logRegResults[p_value_columns].min(axis=1),1,0)\n",
    "logRegResults"
   ]
  },
  {
   "cell_type": "code",
   "execution_count": null,
   "metadata": {
    "ExecuteTime": {
     "end_time": "2018-07-04T10:24:01.001986Z",
     "start_time": "2018-07-04T10:24:00.370996Z"
    }
   },
   "outputs": [],
   "source": [
    "#save file:\n",
    "f1 = '%s/resultDF_regType%s_%s_%s_ycol0_ycol746_mi%s_processed.xlsx' % (resultFolder, modelType, phenotypeDFname, TCRvariableName, \n",
    "                                                               maxiter)\n",
    "logRegResults.to_excel(f1)"
   ]
  },
  {
   "cell_type": "code",
   "execution_count": null,
   "metadata": {
    "ExecuteTime": {
     "end_time": "2018-07-04T10:24:05.260936Z",
     "start_time": "2018-07-04T10:24:05.254966Z"
    }
   },
   "outputs": [],
   "source": [
    "logRegResults.columns.values"
   ]
  },
  {
   "cell_type": "code",
   "execution_count": null,
   "metadata": {
    "ExecuteTime": {
     "end_time": "2018-07-04T10:24:09.704625Z",
     "start_time": "2018-07-04T10:24:09.597595Z"
    }
   },
   "outputs": [],
   "source": [
    "#get descriptive statistics and save:\n",
    "Xname=phenotypeDFname\n",
    "logRegResultsStats=logRegResults.describe()\n",
    "logRegResultsStats\n",
    "f1='%s/logRegResultsStats_%s_%s.xlsx' %(resultFolder,Xname,TCRvariableName)\n",
    "logRegResultsStats.to_excel(f1)"
   ]
  },
  {
   "cell_type": "code",
   "execution_count": null,
   "metadata": {
    "ExecuteTime": {
     "end_time": "2018-07-04T10:24:14.387645Z",
     "start_time": "2018-07-04T10:24:14.339911Z"
    }
   },
   "outputs": [],
   "source": [
    "#calculate how many times the 'is Cardio' was significnat with bonferroni correction\n",
    "\n",
    "resultLen=len(logRegResults)\n",
    "print 'result list length is %s' %resultLen\n",
    "resultsStatSum=pd.DataFrame(logRegResults[p_value_columns].mean())\n",
    "resultsStatSum=resultsStatSum.rename(columns={0:'mean_p_value'})\n",
    "resultsStatSum['nSigBonf']=logRegResults[p_value_columns].apply(lambda x: len([n for n in x if n<(0.05/resultLen)]))\n",
    "resultsStatSum['nBest']=logRegResults[p_value_columns].idxmin(axis=1).value_counts()\n",
    "print resultsStatSum.sort_values(by='nSigBonf',ascending=False)\n",
    "\n",
    "f1='%s/resultsStatSum_%s_%s.xlsx' %(resultFolder,Xname,TCRvariableName)\n",
    "resultsStatSum.to_excel(f1)"
   ]
  },
  {
   "cell_type": "code",
   "execution_count": null,
   "metadata": {},
   "outputs": [],
   "source": []
  },
  {
   "cell_type": "markdown",
   "metadata": {},
   "source": [
    "### plot r2 distribution"
   ]
  },
  {
   "cell_type": "code",
   "execution_count": null,
   "metadata": {
    "ExecuteTime": {
     "end_time": "2018-07-04T10:24:19.254274Z",
     "start_time": "2018-07-04T10:24:18.977408Z"
    }
   },
   "outputs": [],
   "source": [
    "adj_prsquared=pd.to_numeric(logRegResults.adj_prsquared,errors='coerce')\n",
    "adj_prsquared=adj_prsquared.replace([np.inf, -np.inf], np.nan)\n",
    "adj_prsquared.sort_values(ascending=False)\n",
    "adj_prsquared=adj_prsquared[adj_prsquared.notnull()]\n",
    "print adj_prsquared.max()\n",
    "print adj_prsquared.min()\n",
    "print len(adj_prsquared[adj_prsquared<0])\n",
    "print float(len(adj_prsquared[adj_prsquared<0]))/len(adj_prsquared)\n",
    "plt.hist(adj_prsquared[adj_prsquared>0], bins=20)\n",
    "plt.show()"
   ]
  },
  {
   "cell_type": "code",
   "execution_count": null,
   "metadata": {
    "ExecuteTime": {
     "end_time": "2018-07-04T10:24:23.792351Z",
     "start_time": "2018-07-04T10:24:23.783414Z"
    }
   },
   "outputs": [],
   "source": [
    "logRegResults['isVariableBest'].value_counts()"
   ]
  },
  {
   "cell_type": "code",
   "execution_count": null,
   "metadata": {
    "ExecuteTime": {
     "end_time": "2018-07-04T10:24:29.139559Z",
     "start_time": "2018-07-04T10:24:28.780895Z"
    }
   },
   "outputs": [],
   "source": [
    "#compare r2 distribution in isCardioBest to the rest:\n",
    "logRegResults['adj_prsquared']=logRegResults['adj_prsquared'].replace([np.inf, -np.inf], np.nan)\n",
    "logRegResults=logRegResults[logRegResults['adj_prsquared'].notnull()]\n",
    "logRegResults=logRegResults[logRegResults['adj_prsquared']>0]\n",
    "data={}\n",
    "for name, group in logRegResults.groupby('isVariableBest'):\n",
    "    data[name] =  list(group['adj_prsquared'])\n",
    "data0=data[0]\n",
    "data1=data[1]\n",
    "print len(data0)\n",
    "print len(data1)\n",
    "print len(data0)+len(data1)\n",
    "s_t, p_t = stats.ttest_ind(data[0], data[1])\n",
    "s_k, p_k = stats.ks_2samp(data[0], data[1])\n",
    "print 'mean for group 0=%s' %np.mean(data[0])\n",
    "print 'mean for group 1=%s' %np.mean(data[1])\n",
    "print 'p_value ttest= %s' %round(p_t,10)\n",
    "print 'p_value kstest= %s' %round(p_k,10)\n",
    "data0weights=np.ones_like(data0) / len(data0)\n",
    "data1weights=np.ones_like(data1) / len(data1)\n",
    "plt.hist([data0,data1],bins=20,weights=[data0weights,data1weights],label=['isVariable not the best','isVariable the best'])\n",
    "plt.legend()\n",
    "plt.show()"
   ]
  },
  {
   "cell_type": "markdown",
   "metadata": {},
   "source": [
    "### compare result to feature selection option:"
   ]
  },
  {
   "cell_type": "markdown",
   "metadata": {},
   "source": [
    "#### univariate feature selection:"
   ]
  },
  {
   "cell_type": "code",
   "execution_count": null,
   "metadata": {
    "ExecuteTime": {
     "end_time": "2018-07-04T11:07:21.646554Z",
     "start_time": "2018-07-04T11:07:21.640665Z"
    }
   },
   "outputs": [],
   "source": [
    "from sklearn.feature_selection import SelectKBest\n",
    "from sklearn.feature_selection import chi2,mutual_info_classif,f_classif\n"
   ]
  },
  {
   "cell_type": "code",
   "execution_count": null,
   "metadata": {
    "ExecuteTime": {
     "end_time": "2018-07-04T11:07:28.035663Z",
     "start_time": "2018-07-04T11:07:28.031076Z"
    }
   },
   "outputs": [],
   "source": [
    "nNans=50"
   ]
  },
  {
   "cell_type": "code",
   "execution_count": null,
   "metadata": {
    "ExecuteTime": {
     "end_time": "2018-07-04T11:07:34.333970Z",
     "start_time": "2018-07-04T11:07:34.300547Z"
    }
   },
   "outputs": [],
   "source": [
    "X=pd.merge(phenotypeDF,TCRvariableDF,how='outer',left_index=True,right_index=True)\n",
    "print X.shape\n",
    "nullSum=X.isnull().sum()\n",
    "print nullSum.sort_values(ascending=False).head()\n",
    "print len(nullSum[nullSum>nNans])\n"
   ]
  },
  {
   "cell_type": "code",
   "execution_count": null,
   "metadata": {
    "ExecuteTime": {
     "end_time": "2018-07-04T11:07:40.492980Z",
     "start_time": "2018-07-04T11:07:40.481286Z"
    }
   },
   "outputs": [],
   "source": [
    "ignoreCollumns=nullSum[nullSum>nNans].index.tolist()\n",
    "print ignoreCollumns[:5]"
   ]
  },
  {
   "cell_type": "code",
   "execution_count": null,
   "metadata": {
    "ExecuteTime": {
     "end_time": "2018-07-04T11:07:46.810102Z",
     "start_time": "2018-07-04T11:07:46.801377Z"
    }
   },
   "outputs": [],
   "source": [
    "X=X.drop(ignoreCollumns,axis=1)"
   ]
  },
  {
   "cell_type": "code",
   "execution_count": null,
   "metadata": {
    "ExecuteTime": {
     "end_time": "2018-07-04T11:07:53.174051Z",
     "start_time": "2018-07-04T11:07:53.154485Z"
    }
   },
   "outputs": [],
   "source": [
    "print X.shape\n",
    "X=X.dropna(how='any')\n",
    "print X.shape"
   ]
  },
  {
   "cell_type": "code",
   "execution_count": null,
   "metadata": {
    "ExecuteTime": {
     "end_time": "2018-07-04T11:07:59.264732Z",
     "start_time": "2018-07-04T11:07:59.257400Z"
    }
   },
   "outputs": [],
   "source": [
    "targetName='isCardio'\n",
    "y=targetDF\n",
    "y=y.rename(targetName)\n",
    "      \n",
    "xsamples = X.index.astype(str).tolist()  # get list of samples to use\n",
    "y = y.dropna(how='any')\n",
    "y = y.loc[xsamples]"
   ]
  },
  {
   "cell_type": "code",
   "execution_count": null,
   "metadata": {
    "ExecuteTime": {
     "end_time": "2018-07-04T11:08:05.299350Z",
     "start_time": "2018-07-04T11:08:05.293312Z"
    }
   },
   "outputs": [],
   "source": [
    "print X.shape\n",
    "print y.shape\n"
   ]
  },
  {
   "cell_type": "code",
   "execution_count": null,
   "metadata": {
    "ExecuteTime": {
     "end_time": "2018-07-04T11:08:11.361214Z",
     "start_time": "2018-07-04T11:08:11.357472Z"
    }
   },
   "outputs": [],
   "source": [
    "f_classif=mutual_info_classif\n",
    "k=20"
   ]
  },
  {
   "cell_type": "code",
   "execution_count": null,
   "metadata": {
    "ExecuteTime": {
     "end_time": "2018-07-04T11:08:22.344670Z",
     "start_time": "2018-07-04T11:08:17.490462Z"
    }
   },
   "outputs": [],
   "source": [
    "X_new = SelectKBest(f_classif, k).fit_transform(X, y)\n",
    "X_new.shape\n"
   ]
  },
  {
   "cell_type": "code",
   "execution_count": null,
   "metadata": {
    "ExecuteTime": {
     "end_time": "2018-07-04T11:08:32.599415Z",
     "start_time": "2018-07-04T11:08:27.949645Z"
    }
   },
   "outputs": [],
   "source": [
    "selector = SelectKBest(f_classif, k)\n",
    "selector.fit(X,y)\n",
    "\n",
    "idxs_selected = selector.get_support(indices=True)\n",
    "# Create new dataframe with only desired columns, or overwrite existing\n",
    "X_new = X.iloc[:,idxs_selected]"
   ]
  },
  {
   "cell_type": "code",
   "execution_count": null,
   "metadata": {
    "ExecuteTime": {
     "end_time": "2018-07-04T11:08:38.755525Z",
     "start_time": "2018-07-04T11:08:38.749920Z"
    }
   },
   "outputs": [],
   "source": [
    "print X_new.columns.values"
   ]
  },
  {
   "cell_type": "code",
   "execution_count": null,
   "metadata": {
    "ExecuteTime": {
     "end_time": "2018-07-04T11:00:26.178400Z",
     "start_time": "2018-07-04T11:00:26.172821Z"
    }
   },
   "outputs": [],
   "source": [
    "print pd.DataFrame(X_new).columns.values"
   ]
  },
  {
   "cell_type": "code",
   "execution_count": null,
   "metadata": {},
   "outputs": [],
   "source": []
  },
  {
   "cell_type": "markdown",
   "metadata": {},
   "source": [
    "## run for the matched dataset (86) - TCR features"
   ]
  },
  {
   "cell_type": "code",
   "execution_count": null,
   "metadata": {
    "ExecuteTime": {
     "end_time": "2018-07-05T05:55:11.547014Z",
     "start_time": "2018-07-05T05:54:18.138302Z"
    }
   },
   "outputs": [],
   "source": [
    "datasetFolder='%s/TCR_real_data/PNP530Cardio126Combined/MatchedSamples/ss9000rep1' %MyPath\n",
    "datasetName='PNP530Cardio126Matched_ss9000'\n",
    "\n",
    "#get sample list:\n",
    "folder='%s/SamplesForAnalysis_corrected' %datasetFolder\n",
    "matched86List=gen_sampleList_from_Folder(folder,'PNP530Cardio126Matched86')\n",
    "\n",
    "#get feature df:\n",
    "f1='%s/TCR_real_data/PNP530Cardio126Combined/featureSummaryDFs/PNP530Cardio126_allFeatures' %MyPath\n",
    "PNP530Cardio126_allFeatures=pd.read_pickle(f1)\n",
    "print PNP530Cardio126_allFeatures.shape\n",
    "PNP530Cardio126_allFeatures=editSampleNames(PNP530Cardio126_allFeatures)\n",
    "PNP530Cardio126matched86_allFeatures=PNP530Cardio126_allFeatures.loc[matched86List,:]\n",
    "print PNP530Cardio126matched86_allFeatures.shape\n",
    "\n",
    "#get phenotype df:\n",
    "\n",
    "## full phenotype df:\n",
    "f2='%s/TCR_real_data/PNP530Cardio126Combined/Phenotypes/PNP530Cardio126_phen.xlsx' %MyPath\n",
    "PNP530Cardio126_phen=pd.read_excel(f2).set_index('BD')\n",
    "PNP530Cardio126_phen.head()\n",
    "PNP530Cardio126_phen=editSampleNames(PNP530Cardio126_phen)\n",
    "PNP530Cardio126matched86_phen=PNP530Cardio126_phen.loc[matched86List,:]\n",
    "print PNP530Cardio126matched86_phen.shape\n",
    "\n",
    "\n",
    "\n",
    "###\n",
    "\n",
    "# Xtypes:\n",
    "allNum=['Age', 'BMI', 'Creatinine', 'isCardio', 'nTemplates', 'Female', 'Smoking_Past', 'Smoking_Yes',\n",
    "       'PCR_Plate1', 'PCR_Plate10', 'PCR_Plate2', 'PCR_Plate3',\n",
    "       'PCR_Plate4', 'PCR_Plate5', 'PCR_Plate6', 'PCR_Plate7',\n",
    "       'PCR_Plate8', 'PCR_Plate9']\n",
    "small=['Age', 'BMI', 'Creatinine', 'isCardio', 'Female','Smoking_Past', 'Smoking_Yes']\n",
    "smallNoCardio=['Age', 'BMI', 'Creatinine', 'Female']\n",
    "allNumNoPlate=['Age', 'BMI', 'Creatinine', 'isCardio', 'nTemplates', 'Female', 'Smoking_Past', 'Smoking_Yes']\n",
    "\n",
    "#DEFINE WHICH FEATURES TO USE:\n",
    "\n",
    "Xcols=small\n",
    "phenotypeDFname='small'\n",
    "Xname=phenotypeDFname\n",
    "phenotypeDF=PNP530Cardio126matched86_phen[Xcols]\n",
    "TCRvariableDF=PNP530Cardio126matched86_allFeatures\n",
    "TCRvariableName='PNP530Cardio126matched86_allFeatures'\n",
    "targetDF=phenotypeDF['isCardio']\n",
    "phenotypeDF=phenotypeDF.drop('isCardio',axis=1)\n",
    "targetName='isCardio'\n",
    "modelType='logit'\n",
    "# print 'target original:'\n",
    "# print targetDF.head(10)\n",
    "# print targetDF.value_counts(dropna=False)\n",
    "\n",
    "\n",
    "\n",
    "resultFolder='%s/%s_Predictions/%s/%s_%s_DFs' %(datasetFolder,targetName,modelType,phenotypeDFname,TCRvariableName)\n",
    "if not isdir(resultFolder):\n",
    "    makedirs(resultFolder)\n",
    "    \n",
    "    \n",
    "TCRdfMinCol=None\n",
    "TCRdfMaxCol=None\n",
    "maxiter=1000\n",
    "\n",
    "\n",
    "\n",
    "df=predictBinaryPhenotype_logReg_TCRfeatures(phenotypeDF, phenotypeDFname, TCRvariableDF, TCRvariableName, targetDF, \n",
    "                                               targetName, resultFolder, modelType, TCRdfMinCol, TCRdfMaxCol, \n",
    "                                               maxiter)"
   ]
  },
  {
   "cell_type": "code",
   "execution_count": null,
   "metadata": {
    "ExecuteTime": {
     "end_time": "2018-07-04T10:23:39.021567Z",
     "start_time": "2018-07-04T10:23:38.937004Z"
    }
   },
   "outputs": [],
   "source": [
    "df.head()"
   ]
  },
  {
   "cell_type": "markdown",
   "metadata": {},
   "source": [
    "### get results:"
   ]
  },
  {
   "cell_type": "code",
   "execution_count": null,
   "metadata": {
    "ExecuteTime": {
     "end_time": "2018-07-05T05:57:20.414458Z",
     "start_time": "2018-07-05T05:57:20.047632Z"
    }
   },
   "outputs": [],
   "source": [
    "f1 = '%s/resultDF_regType%s_%s_%s_ycol0_ycol746_mi%s.xlsx' % (resultFolder, modelType, phenotypeDFname, TCRvariableName, \n",
    "                                                               maxiter)\n",
    "logRegResults=pd.read_excel(f1)\n",
    "logRegResults.head()"
   ]
  },
  {
   "cell_type": "code",
   "execution_count": null,
   "metadata": {
    "ExecuteTime": {
     "end_time": "2018-07-05T05:57:28.591134Z",
     "start_time": "2018-07-05T05:57:28.583773Z"
    }
   },
   "outputs": [],
   "source": [
    "# #define p-values columns\n",
    "\n",
    "p_value_columns=[x for x in Xcols if (x!='BD') and (x!='isCardio')]\n",
    "p_value_columns=p_value_columns+['variable_p']\n",
    "print p_value_columns\n"
   ]
  },
  {
   "cell_type": "code",
   "execution_count": null,
   "metadata": {
    "ExecuteTime": {
     "end_time": "2018-07-05T05:57:47.053627Z",
     "start_time": "2018-07-05T05:57:46.992937Z"
    }
   },
   "outputs": [],
   "source": [
    "# add corrected p-values:\n",
    "nTests=len(logRegResults)\n",
    "logRegResults=logRegResults.sort_values(by='variable_p')\n",
    "logRegResults['minP']=logRegResults[p_value_columns].min(axis=1)\n",
    "logRegResults=add_corrected_pValues(logRegResults,pValueColumn='variable_p',nTests=nTests,FDR=0.1)\n",
    "logRegResults.head()"
   ]
  },
  {
   "cell_type": "code",
   "execution_count": null,
   "metadata": {
    "ExecuteTime": {
     "end_time": "2018-07-05T05:57:59.671146Z",
     "start_time": "2018-07-05T05:57:59.620283Z"
    }
   },
   "outputs": [],
   "source": [
    "# add column indicate sequences in which the 'isCardio' is the best p-value\n",
    "logRegResults['isVariableBest']=np.where(logRegResults['variable_p']==logRegResults[p_value_columns].min(axis=1),1,0)\n",
    "logRegResults.head()"
   ]
  },
  {
   "cell_type": "code",
   "execution_count": null,
   "metadata": {
    "ExecuteTime": {
     "end_time": "2018-07-05T05:58:06.204087Z",
     "start_time": "2018-07-05T05:58:05.522475Z"
    }
   },
   "outputs": [],
   "source": [
    "#save file:\n",
    "f1 = '%s/resultDF_regType%s_%s_%s_ycol0_ycol746_mi%s_processed.xlsx' % (resultFolder, modelType, phenotypeDFname, TCRvariableName, \n",
    "                                                               maxiter)\n",
    "logRegResults.to_excel(f1)"
   ]
  },
  {
   "cell_type": "code",
   "execution_count": null,
   "metadata": {
    "ExecuteTime": {
     "end_time": "2018-07-05T05:58:12.040952Z",
     "start_time": "2018-07-05T05:58:12.036211Z"
    }
   },
   "outputs": [],
   "source": [
    "logRegResults.columns.values"
   ]
  },
  {
   "cell_type": "code",
   "execution_count": null,
   "metadata": {
    "ExecuteTime": {
     "end_time": "2018-07-05T05:58:17.954364Z",
     "start_time": "2018-07-05T05:58:17.857893Z"
    }
   },
   "outputs": [],
   "source": [
    "#get descriptive statistics and save:\n",
    "Xname=phenotypeDFname\n",
    "logRegResultsStats=logRegResults.describe()\n",
    "logRegResultsStats\n",
    "f1='%s/logRegResultsStats_%s_%s.xlsx' %(resultFolder,Xname,TCRvariableName)\n",
    "logRegResultsStats.to_excel(f1)"
   ]
  },
  {
   "cell_type": "code",
   "execution_count": null,
   "metadata": {
    "ExecuteTime": {
     "end_time": "2018-07-05T05:58:24.242209Z",
     "start_time": "2018-07-05T05:58:24.197220Z"
    }
   },
   "outputs": [],
   "source": [
    "#calculate how many times the 'is Cardio' was significnat with bonferroni correction\n",
    "\n",
    "resultLen=len(logRegResults)\n",
    "print 'result list length is %s' %resultLen\n",
    "resultsStatSum=pd.DataFrame(logRegResults[p_value_columns].mean())\n",
    "resultsStatSum=resultsStatSum.rename(columns={0:'mean_p_value'})\n",
    "resultsStatSum['nSigBonf']=logRegResults[p_value_columns].apply(lambda x: len([n for n in x if n<(0.05/resultLen)]))\n",
    "resultsStatSum['nBest']=logRegResults[p_value_columns].idxmin(axis=1).value_counts()\n",
    "print resultsStatSum.sort_values(by='nSigBonf',ascending=False)\n",
    "\n",
    "f1='%s/resultsStatSum_%s_%s.xlsx' %(resultFolder,Xname,TCRvariableName)\n",
    "resultsStatSum.to_excel(f1)"
   ]
  },
  {
   "cell_type": "code",
   "execution_count": null,
   "metadata": {},
   "outputs": [],
   "source": []
  },
  {
   "cell_type": "markdown",
   "metadata": {},
   "source": [
    "## run for the all PNP530Cardio samples - seq pres/abs"
   ]
  },
  {
   "cell_type": "markdown",
   "metadata": {},
   "source": [
    "ran on eclipse using parallel jobs:"
   ]
  },
  {
   "cell_type": "markdown",
   "metadata": {},
   "source": [
    "### get results:"
   ]
  },
  {
   "cell_type": "code",
   "execution_count": null,
   "metadata": {
    "ExecuteTime": {
     "end_time": "2018-07-05T07:47:40.260432Z",
     "start_time": "2018-07-05T07:47:38.478267Z"
    }
   },
   "outputs": [],
   "source": [
    "datasetFolder='%s/TCR_real_data/PNP530Cardio126Combined' %MyPath\n",
    "datasetName='PNP530Cardio126'\n",
    "\n",
    "f1='%s/sharingAnalysis/sharingMatrix_PNP530Cardio126_minNshared5_RA_onlyProductiveTrue__minSharedT5_OLtrimmed_binary' %datasetFolder\n",
    "combTCRdfmin5=pd.read_pickle(f1)\n",
    "print combTCRdfmin5.shape\n",
    "\n",
    "#get phenotype df:\n",
    "f2='%s/TCR_real_data/PNP530Cardio126Combined/Phenotypes/PNP530Cardio126_phen.xlsx' %MyPath\n",
    "PNP530Cardio126_phen=pd.read_excel(f2)\n",
    "PNP530Cardio126_phen.head()\n",
    "\n",
    "# Xtypes:\n",
    "allNum=['BD', 'Age', 'BMI', 'Creatinine', 'isCardio', 'nTemplates', 'Female', 'Smoking_Past', 'Smoking_Yes',\n",
    "       'PCR_Plate1', 'PCR_Plate10', 'PCR_Plate2', 'PCR_Plate3',\n",
    "       'PCR_Plate4', 'PCR_Plate5', 'PCR_Plate6', 'PCR_Plate7',\n",
    "       'PCR_Plate8', 'PCR_Plate9']\n",
    "small=['BD', 'Age', 'BMI', 'Creatinine', 'isCardio', 'Female','Smoking_Past', 'Smoking_Yes']\n",
    "smallNoCardio=['BD', 'Age', 'BMI', 'Creatinine', 'Female']\n",
    "allNumNoPlate=['BD', 'Age', 'BMI', 'Creatinine', 'isCardio', 'nTemplates', 'Female', 'Smoking_Past', 'Smoking_Yes']\n",
    "\n",
    "#DEFINE WHICH FEATURES TO USE:\n",
    "\n",
    "Xcols=small\n",
    "phenotypeDFname='small'\n",
    "Xname=phenotypeDFname\n",
    "phenotypeDF=PNP530Cardio126_phen[Xcols].set_index('BD')\n",
    "TCRvariableDF=combTCRdfmin5\n",
    "TCRvariableName='combTCRdfmin5'\n",
    "targetDF=phenotypeDF['isCardio']\n",
    "phenotypeDF=phenotypeDF.drop('isCardio',axis=1)\n",
    "targetName='isCardio'\n",
    "modelType='logit'\n",
    "# print 'target original:'\n",
    "# print targetDF.head(10)\n",
    "# print targetDF.value_counts(dropna=False)\n",
    "\n",
    "\n",
    "\n",
    "resultFolder='%s/TCR_real_data/PNP530Cardio126Combined/%s_Predictions/%s/%s_%s_DFs' %(MyPath,targetName,modelType,\n",
    "                                                                                      phenotypeDFname,TCRvariableName)\n"
   ]
  },
  {
   "cell_type": "code",
   "execution_count": null,
   "metadata": {
    "ExecuteTime": {
     "end_time": "2018-07-05T07:48:59.764058Z",
     "start_time": "2018-07-05T07:48:12.858097Z"
    }
   },
   "outputs": [],
   "source": [
    "filenames = [f for f in listdir(resultFolder) if isfile(join(resultFolder, f))]\n",
    "dfs=[f for f in filenames if 'resultDF' in f]\n",
    "print len(dfs)\n",
    "print dfs[:5]\n",
    "\n",
    "df_list=[]\n",
    "for file_name in dfs:\n",
    "    with open('%s/%s' %(resultFolder, file_name), 'rb') as f:\n",
    "        current_df=pd.read_excel(f)\n",
    "    f.close()\n",
    "    df_list.append(current_df)\n",
    "print ('the length of df list is %s' %len(df_list))\n",
    "\n",
    "logRegResults=pd.concat(df_list)\n",
    "logRegResults.head()"
   ]
  },
  {
   "cell_type": "code",
   "execution_count": null,
   "metadata": {
    "ExecuteTime": {
     "end_time": "2018-07-05T07:52:14.190271Z",
     "start_time": "2018-07-05T07:52:14.183773Z"
    }
   },
   "outputs": [],
   "source": [
    "# #define p-values columns\n",
    "\n",
    "p_value_columns=[x for x in Xcols if (x!='BD') and (x!='isCardio')]\n",
    "p_value_columns=p_value_columns+['variable_p']\n",
    "print p_value_columns\n"
   ]
  },
  {
   "cell_type": "code",
   "execution_count": null,
   "metadata": {
    "ExecuteTime": {
     "end_time": "2018-07-05T07:55:21.662049Z",
     "start_time": "2018-07-05T07:55:21.451891Z"
    }
   },
   "outputs": [],
   "source": [
    "# add corrected p-values:\n",
    "nTests=len(logRegResults)\n",
    "logRegResults=logRegResults.sort_values(by='variable_p')\n",
    "logRegResults['minP']=logRegResults[p_value_columns].min(axis=1)\n",
    "logRegResults=add_corrected_pValues(logRegResults,pValueColumn='variable_p',nTests=nTests,FDR=0.1)\n",
    "logRegResults.head()"
   ]
  },
  {
   "cell_type": "code",
   "execution_count": null,
   "metadata": {
    "ExecuteTime": {
     "end_time": "2018-07-05T07:58:29.692734Z",
     "start_time": "2018-07-05T07:58:29.598595Z"
    }
   },
   "outputs": [],
   "source": [
    "# add column indicate sequences in which the 'isCardio' is the best p-value\n",
    "logRegResults['isVariableBest']=np.where(logRegResults['variable_p']==logRegResults[p_value_columns].min(axis=1),1,0)\n",
    "logRegResults.head()"
   ]
  },
  {
   "cell_type": "code",
   "execution_count": null,
   "metadata": {
    "ExecuteTime": {
     "end_time": "2018-07-05T08:03:06.688336Z",
     "start_time": "2018-07-05T08:01:38.872928Z"
    }
   },
   "outputs": [],
   "source": [
    "#save file:\n",
    "maxiter=1000\n",
    "f1 = '%s/resultDF_regType%s_%s_%s_ycol0_ycol746_mi%s_processed.xlsx' % (resultFolder, modelType, phenotypeDFname, TCRvariableName, \n",
    "                                                               maxiter)\n",
    "logRegResults.to_excel(f1)"
   ]
  },
  {
   "cell_type": "code",
   "execution_count": null,
   "metadata": {
    "ExecuteTime": {
     "end_time": "2018-07-05T08:06:16.623973Z",
     "start_time": "2018-07-05T08:06:16.618015Z"
    }
   },
   "outputs": [],
   "source": [
    "logRegResults.columns.values"
   ]
  },
  {
   "cell_type": "code",
   "execution_count": null,
   "metadata": {
    "ExecuteTime": {
     "end_time": "2018-07-05T08:09:24.315345Z",
     "start_time": "2018-07-05T08:09:24.024347Z"
    }
   },
   "outputs": [],
   "source": [
    "#get descriptive statistics and save:\n",
    "Xname=phenotypeDFname\n",
    "logRegResultsStats=logRegResults.describe()\n",
    "logRegResultsStats\n",
    "f1='%s/logRegResultsStats_%s_%s.xlsx' %(resultFolder,Xname,TCRvariableName)\n",
    "logRegResultsStats.to_excel(f1)"
   ]
  },
  {
   "cell_type": "code",
   "execution_count": null,
   "metadata": {
    "ExecuteTime": {
     "end_time": "2018-07-05T08:12:27.567338Z",
     "start_time": "2018-07-05T08:12:27.160981Z"
    }
   },
   "outputs": [],
   "source": [
    "#calculate how many times the 'is Cardio' was significnat with bonferroni correction\n",
    "\n",
    "resultLen=len(logRegResults)\n",
    "print 'result list length is %s' %resultLen\n",
    "resultsStatSum=pd.DataFrame(logRegResults[p_value_columns].mean())\n",
    "resultsStatSum=resultsStatSum.rename(columns={0:'mean_p_value'})\n",
    "resultsStatSum['nSigBonf']=logRegResults[p_value_columns].apply(lambda x: len([n for n in x if n<(0.05/resultLen)]))\n",
    "resultsStatSum['nBest']=logRegResults[p_value_columns].idxmin(axis=1).value_counts()\n",
    "print resultsStatSum.sort_values(by='nSigBonf',ascending=False)\n",
    "\n",
    "f1='%s/resultsStatSum_%s_%s.xlsx' %(resultFolder,Xname,TCRvariableName)\n",
    "resultsStatSum.to_excel(f1)"
   ]
  },
  {
   "cell_type": "code",
   "execution_count": null,
   "metadata": {},
   "outputs": [],
   "source": []
  },
  {
   "cell_type": "markdown",
   "metadata": {},
   "source": [
    "### plot r2 distribution"
   ]
  },
  {
   "cell_type": "code",
   "execution_count": null,
   "metadata": {
    "ExecuteTime": {
     "end_time": "2018-07-05T08:15:30.871495Z",
     "start_time": "2018-07-05T08:15:30.568681Z"
    }
   },
   "outputs": [],
   "source": [
    "adj_prsquared=pd.to_numeric(logRegResults.adj_prsquared,errors='coerce')\n",
    "adj_prsquared=adj_prsquared.replace([np.inf, -np.inf], np.nan)\n",
    "adj_prsquared.sort_values(ascending=False)\n",
    "adj_prsquared=adj_prsquared[adj_prsquared.notnull()]\n",
    "print adj_prsquared.max()\n",
    "print adj_prsquared.min()\n",
    "print len(adj_prsquared[adj_prsquared<0])\n",
    "print float(len(adj_prsquared[adj_prsquared<0]))/len(adj_prsquared)\n",
    "plt.hist(adj_prsquared[adj_prsquared>0], bins=20)\n",
    "plt.show()"
   ]
  },
  {
   "cell_type": "code",
   "execution_count": null,
   "metadata": {
    "ExecuteTime": {
     "end_time": "2018-07-05T08:18:33.437578Z",
     "start_time": "2018-07-05T08:18:33.428561Z"
    }
   },
   "outputs": [],
   "source": [
    "logRegResults['isVariableBest'].value_counts()"
   ]
  },
  {
   "cell_type": "code",
   "execution_count": null,
   "metadata": {
    "ExecuteTime": {
     "end_time": "2018-07-05T08:21:36.291718Z",
     "start_time": "2018-07-05T08:21:35.868680Z"
    }
   },
   "outputs": [],
   "source": [
    "#compare r2 distribution in isCardioBest to the rest:\n",
    "logRegResults['adj_prsquared']=logRegResults['adj_prsquared'].replace([np.inf, -np.inf], np.nan)\n",
    "logRegResults=logRegResults[logRegResults['adj_prsquared'].notnull()]\n",
    "logRegResults=logRegResults[logRegResults['adj_prsquared']>0]\n",
    "data={}\n",
    "for name, group in logRegResults.groupby('isVariableBest'):\n",
    "    data[name] =  list(group['adj_prsquared'])\n",
    "data0=data[0]\n",
    "data1=data[1]\n",
    "print len(data0)\n",
    "print len(data1)\n",
    "print len(data0)+len(data1)\n",
    "s_t, p_t = stats.ttest_ind(data[0], data[1])\n",
    "s_k, p_k = stats.ks_2samp(data[0], data[1])\n",
    "print 'mean for group 0=%s' %np.mean(data[0])\n",
    "print 'mean for group 1=%s' %np.mean(data[1])\n",
    "print 'p_value ttest= %s' %round(p_t,10)\n",
    "print 'p_value kstest= %s' %round(p_k,10)\n",
    "data0weights=np.ones_like(data0) / len(data0)\n",
    "data1weights=np.ones_like(data1) / len(data1)\n",
    "plt.hist([data0,data1],bins=20,weights=[data0weights,data1weights],label=['isVariable not the best','isVariable the best'])\n",
    "plt.legend()\n",
    "plt.show()"
   ]
  },
  {
   "cell_type": "code",
   "execution_count": null,
   "metadata": {},
   "outputs": [],
   "source": []
  },
  {
   "cell_type": "code",
   "execution_count": null,
   "metadata": {},
   "outputs": [],
   "source": []
  },
  {
   "cell_type": "code",
   "execution_count": null,
   "metadata": {},
   "outputs": [],
   "source": []
  }
 ],
 "metadata": {
  "kernelspec": {
   "display_name": "Python 2",
   "language": "python",
   "name": "python2"
  },
  "language_info": {
   "codemirror_mode": {
    "name": "ipython",
    "version": 2
   },
   "file_extension": ".py",
   "mimetype": "text/x-python",
   "name": "python",
   "nbconvert_exporter": "python",
   "pygments_lexer": "ipython2",
   "version": "2.7.8"
  },
  "toc": {
   "nav_menu": {},
   "number_sections": true,
   "sideBar": true,
   "skip_h1_title": false,
   "toc_cell": false,
   "toc_position": {
    "height": "431px",
    "left": "0px",
    "right": "1263.56px",
    "top": "135px",
    "width": "281px"
   },
   "toc_section_display": "block",
   "toc_window_display": true
  },
  "varInspector": {
   "cols": {
    "lenName": 16,
    "lenType": 16,
    "lenVar": 40
   },
   "kernels_config": {
    "python": {
     "delete_cmd_postfix": "",
     "delete_cmd_prefix": "del ",
     "library": "var_list.py",
     "varRefreshCmd": "print(var_dic_list())"
    },
    "r": {
     "delete_cmd_postfix": ") ",
     "delete_cmd_prefix": "rm(",
     "library": "var_list.r",
     "varRefreshCmd": "cat(var_dic_list()) "
    }
   },
   "types_to_exclude": [
    "module",
    "function",
    "builtin_function_or_method",
    "instance",
    "_Feature"
   ],
   "window_display": false
  }
 },
 "nbformat": 4,
 "nbformat_minor": 2
}
