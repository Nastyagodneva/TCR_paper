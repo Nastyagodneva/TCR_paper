{
 "cells": [
  {
   "cell_type": "markdown",
   "metadata": {},
   "source": [
    "# imports:"
   ]
  },
  {
   "cell_type": "code",
   "execution_count": 1,
   "metadata": {
    "ExecuteTime": {
     "end_time": "2019-04-22T15:37:24.188138Z",
     "start_time": "2019-04-22T15:36:48.521242Z"
    }
   },
   "outputs": [
    {
     "name": "stdout",
     "output_type": "stream",
     "text": [
      "done1\n",
      "stop\n",
      "stop\n",
      "done1\n",
      "stop\n",
      "done\n",
      "done\n",
      "done\n",
      "done\n",
      "stop\n",
      "stop\n",
      "end of function!!!\n",
      "end of function!!!\n"
     ]
    }
   ],
   "source": [
    "from os import listdir,mkdir,makedirs\n",
    "from os.path import isfile, join, isdir,exists\n",
    "import pandas as pd\n",
    "import numpy as np\n",
    "from scipy import stats\n",
    "import re\n",
    "import time\n",
    "import matplotlib.pyplot as plt\n",
    "from matplotlib.backends.backend_pdf import PdfPages\n",
    "from myplots import roundup, rounddown, find_decimal_fold, percentile_cut_off, rarefaction_calc, rarefaction_plot,draw_correlation_scatter\n",
    "from matplotlib.ticker import FormatStrFormatter\n",
    "import cPickle as pickle\n",
    "from Bio.SeqUtils import GC\n",
    "import seaborn as sns\n",
    "import random\n",
    "from scipy.stats import pearsonr,fisher_exact,ttest_ind,mannwhitneyu, sem\n",
    "from skbio.diversity.alpha import shannon, simpson, berger_parker_d\n",
    "\n",
    "from pop_organize import get_sample_data, get_sample_with_dfs\n",
    "from SufficientStatistics import *\n",
    "from MyFunctionsShani import *\n",
    "import math\n",
    "from myplots import roundup, rounddown, find_decimal_fold\n",
    "from skbio.stats.distance import mantel\n",
    "from scipy.spatial.distance import braycurtis, pdist, euclidean\n",
    "\n",
    "\n",
    "from GeneralFeaturePhenotypeInteractions.Feature_phenotype_functions import * \n",
    "from TCR_microbiome_interactions.TCR_microbiome_interactions_functions import *\n",
    "from TCR_microbiome_interactions.TCR_microbiome_interactions_functions2 import *\n",
    "from SampleLists.SampleFileFunctions import *\n",
    "from PhenotypicData.PhenotypeGenerationFunctions import *\n",
    "from CardioProject.CardioFunctions import *\n",
    "from PredictionPipeline.PredictionFunctions import *\n",
    "from TCR_feature_generation.SubsamplingFunctions import *\n",
    "\n",
    "import os\n",
    "from Utils import cacheOnDisk, Load\n",
    "from queue.qp import qp,fakeqp\n",
    "from addloglevels import sethandlers\n",
    "\n",
    "#ML imports:\n",
    "from xgboost import XGBClassifier\n",
    "import lightgbm as lgb\n",
    "from collections import OrderedDict\n",
    "from sklearn.model_selection import GroupKFold,StratifiedKFold, KFold\n",
    "import statsmodels.formula.api as sm\n",
    "from sklearn.linear_model import LogisticRegression, LinearRegression\n",
    "import shap\n",
    "from sklearn import metrics, preprocessing\n",
    "from sklearn.svm import LinearSVC\n",
    "from sklearn.feature_selection import SelectFromModel,SelectKBest,chi2,mutual_info_classif,f_classif\n",
    "from sklearn.naive_bayes import GaussianNB\n",
    "from sklearn.metrics import *\n",
    "\n",
    "MyPath='/net/mraid08/export/genie/Lab/Personal/ShaniBAF'\n",
    "\n",
    "with open('/net/mraid08/export/genie/Lab/Personal/ShaniBAF/Sample files/BD lists/PNP530','rb') as fp:\n",
    "    PNP530=pickle.load(fp)\n",
    "with open('/net/mraid08/export/genie/Lab/Personal/ShaniBAF/Sample files/BD lists/Cardio126','rb') as fp:\n",
    "    Cardio126=pickle.load(fp)\n",
    "PNP530Cardio126=PNP530+Cardio126\n",
    "\n",
    "pd.set_option('display.expand_frame_repr', False)\n"
   ]
  },
  {
   "cell_type": "markdown",
   "metadata": {},
   "source": [
    "# definitions:"
   ]
  },
  {
   "cell_type": "code",
   "execution_count": 2,
   "metadata": {
    "ExecuteTime": {
     "end_time": "2019-04-22T15:37:24.508347Z",
     "start_time": "2019-04-22T15:37:24.484439Z"
    }
   },
   "outputs": [
    {
     "data": {
      "text/plain": [
       "'22042019'"
      ]
     },
     "execution_count": 2,
     "metadata": {},
     "output_type": "execute_result"
    }
   ],
   "source": [
    "#####path definitions:\n",
    "MyPath = '/net/mraid08/export/genie/Lab/Personal/ShaniBAF'\n",
    "\n",
    "with open('/net/mraid08/export/genie/Lab/Personal/ShaniBAF/Sample files/BD lists/PNP530', 'rb') as fp:\n",
    "    PNP530 = pickle.load(fp)\n",
    "with open('/net/mraid08/export/genie/Lab/Personal/ShaniBAF/Sample files/BD lists/Cardio126', 'rb') as fp:\n",
    "    Cardio126 = pickle.load(fp)\n",
    "PNP530Cardio126 = PNP530 + Cardio126\n",
    "\n",
    "PRED_RESULTS_DIR='/net/mraid08/export/jafar/Microbiome/Analyses/ShaniBAF/predictions2/'\n",
    "FEATURES_DIR='/net/mraid08/export/genie/Lab/Personal/ShaniBAF/TCR_real_data/Predictions/featureDFs/'\n",
    "SAMPLE_LIST_DIR='/net/mraid08/export/genie/Lab/Personal/ShaniBAF/Sample files/BD lists/'\n",
    "CARDIO_PHEN_DIR='/net/mraid08/export/genie/Lab/Personal/ShaniBAF/TCR_real_data/CardioSamples/phenotypicData/'\n",
    "CLUSTER_ANALYSIS_DIR='/net/mraid08/export/jafar/Microbiome/Analyses/ShaniBAF/sharingAnalysis/seqClusters_allProd_maxdist1/'\n",
    "\n",
    "NEW_FEATURES_DIR='/net/mraid08/export/jafar/Microbiome/Analyses/TCR/'\n",
    "SEASON_DIR='%s/TCR_real_data/seasonality/' %MyPath\n",
    "\n",
    "##### general definitions:\n",
    "pd.set_option('display.expand_frame_repr', False)\n",
    "pd.set_option('display.width', 1000)\n",
    "np.set_printoptions(precision=4, linewidth=200)\n",
    "\n",
    "cdate = str(time.strftime(\"%d%m%Y\"))\n",
    "cdate"
   ]
  },
  {
   "cell_type": "markdown",
   "metadata": {},
   "source": [
    "# extract dates for patients and controls:"
   ]
  },
  {
   "cell_type": "markdown",
   "metadata": {},
   "source": [
    "## pnp530:"
   ]
  },
  {
   "cell_type": "markdown",
   "metadata": {},
   "source": [
    "### generate table with months and weeks"
   ]
  },
  {
   "cell_type": "code",
   "execution_count": null,
   "metadata": {
    "ExecuteTime": {
     "end_time": "2019-04-22T13:53:12.715875Z",
     "start_time": "2019-04-22T13:53:11.945444Z"
    }
   },
   "outputs": [],
   "source": [
    "BDtable=pd.read_excel('%s/Sample files/updatedBDandFDlists/BDfile_31052018.xlsx' %MyPath)\n",
    "dates=BDtable[['DnaID','Blood_Date']].set_index('DnaID').loc[PNP530,:].dropna()\n",
    "print dates.shape\n",
    "dates['Blood_Date']=pd.to_datetime(dates['Blood_Date'])\n",
    "# dates['Blood_Date']=dates['Blood_Date']\n",
    "dates.head()"
   ]
  },
  {
   "cell_type": "code",
   "execution_count": null,
   "metadata": {
    "ExecuteTime": {
     "end_time": "2019-04-22T13:59:48.938855Z",
     "start_time": "2019-04-22T13:59:47.397982Z"
    }
   },
   "outputs": [],
   "source": [
    "dates['Month']=dates['Blood_Date'].apply(lambda x: x.month).astype(int)\n",
    "dates['Year']=dates['Blood_Date'].apply(lambda x: x.year).astype(int)\n",
    "dates['Season']=dates['Month'].map({1:'winter',2:'winter',12:'winter',3:'spring',4:'spring',5:'spring',\n",
    "                                    6:'summer',7:'summer',8:'summer',9:'automn',4:'automn',5:'automn'})\n",
    "dates['Month_year']=dates[['Month','Year']].astype(str).apply(lambda x: '_'.join(x), axis=1)\n",
    "dates['Season_year']=dates[['Season','Year']].astype(str).apply(lambda x: '_'.join(x), axis=1)\n",
    "dates=dates[dates['Year']!=1990]\n",
    "dates=dates.dropna()\n",
    "# dates[week]\n",
    "print dates.shape\n",
    "\n",
    "dates.to_excel(SEASON_DIR+'AdmissionDates_PNP530.xlsx')\n",
    "dates.head()\n",
    "\n",
    "# for col in dates.columns:\n",
    "#     print dates[col].value_counts(dropna=False)"
   ]
  },
  {
   "cell_type": "code",
   "execution_count": null,
   "metadata": {
    "ExecuteTime": {
     "end_time": "2019-04-22T13:59:57.390384Z",
     "start_time": "2019-04-22T13:59:57.367457Z"
    }
   },
   "outputs": [],
   "source": [
    "for col in dates.columns[1:]:\n",
    "    print col\n",
    "    print dates[col].value_counts(dropna=False)\n",
    "    \n",
    "    print ''"
   ]
  },
  {
   "cell_type": "markdown",
   "metadata": {},
   "source": [
    "### generate tables of dates as targets for predictions (dummy variables)"
   ]
  },
  {
   "cell_type": "code",
   "execution_count": null,
   "metadata": {
    "ExecuteTime": {
     "end_time": "2019-04-22T14:45:11.626148Z",
     "start_time": "2019-04-22T14:45:10.901647Z"
    }
   },
   "outputs": [],
   "source": [
    "dates2=dates.iloc[:,1:]\n",
    "print dates2.shape\n",
    "print dates2.head()\n",
    "print dates2.columns\n",
    "dates_targets=pd.get_dummies(dates2, columns=dates2.columns,prefix=dates2.columns)\n",
    "dates_targets=dates_targets.loc[:,dates_targets.sum()[dates_targets.sum()>19].index.tolist()]\n",
    "print dates_targets.shape\n",
    "dates_targets.index=dates_targets.index.rename('BD')\n",
    "dates_targets.to_excel(SEASON_DIR+'dates_targets.xlsx')\n",
    "dates_targets.head()\n"
   ]
  },
  {
   "cell_type": "code",
   "execution_count": null,
   "metadata": {
    "ExecuteTime": {
     "end_time": "2019-04-22T14:08:28.914551Z",
     "start_time": "2019-04-22T14:08:28.897320Z"
    }
   },
   "outputs": [],
   "source": []
  },
  {
   "cell_type": "code",
   "execution_count": null,
   "metadata": {
    "ExecuteTime": {
     "end_time": "2019-04-22T14:09:30.006068Z",
     "start_time": "2019-04-22T14:09:29.990966Z"
    }
   },
   "outputs": [],
   "source": [
    "#check filtering: expect no results here:\n",
    "for col in dates_targets.columns:\n",
    "    if dates_targets[col].sum()<20: print col"
   ]
  },
  {
   "cell_type": "code",
   "execution_count": null,
   "metadata": {},
   "outputs": [],
   "source": []
  },
  {
   "cell_type": "code",
   "execution_count": null,
   "metadata": {
    "ExecuteTime": {
     "end_time": "2019-04-18T08:09:51.031418Z",
     "start_time": "2019-04-18T08:09:51.021488Z"
    }
   },
   "outputs": [],
   "source": [
    "dates.loc['BD406','Blood_Date']-dates.loc['BD228','Blood_Date']"
   ]
  },
  {
   "cell_type": "markdown",
   "metadata": {},
   "source": [
    "## generate distance table in days"
   ]
  },
  {
   "cell_type": "code",
   "execution_count": null,
   "metadata": {
    "ExecuteTime": {
     "end_time": "2019-04-18T08:51:43.934885Z",
     "start_time": "2019-04-18T08:10:05.150222Z"
    }
   },
   "outputs": [],
   "source": [
    "dates_distMat=pd.DataFrame()\n",
    "count=0\n",
    "for i in range(len(dates)):\n",
    "    if i%10==0:print i\n",
    "    for j in range(i+1,len(dates)):\n",
    "        dates_distMat.loc[count,'Sample1']=dates.index[i]\n",
    "        dates_distMat.loc[count,'Sample2']=dates.index[j]\n",
    "        dates_distMat.loc[count,'dist']=dates.loc[dates.index[i],'Blood_Date']-dates.loc[dates.index[j],'Blood_Date']\n",
    "        \n",
    "        count=count+1\n",
    "        \n",
    "dates_distMat['dist2']=np.abs(dates_distMat['dist'] / np.timedelta64(1, 'D'))\n",
    "\n",
    "            "
   ]
  },
  {
   "cell_type": "code",
   "execution_count": null,
   "metadata": {
    "ExecuteTime": {
     "end_time": "2019-04-18T08:51:44.735373Z",
     "start_time": "2019-04-18T08:51:44.628723Z"
    }
   },
   "outputs": [],
   "source": [
    "dates_distMat.to_pickle(SEASON_DIR+'dates_distMat_PNP530.dat')"
   ]
  },
  {
   "cell_type": "markdown",
   "metadata": {},
   "source": [
    "### take only balanced old males:"
   ]
  },
  {
   "cell_type": "code",
   "execution_count": null,
   "metadata": {
    "ExecuteTime": {
     "end_time": "2019-04-18T08:51:45.421728Z",
     "start_time": "2019-04-18T08:51:45.415171Z"
    }
   },
   "outputs": [],
   "source": [
    "#get balanced sample lists\n",
    "with open(SAMPLE_LIST_DIR+'PNP530_balancedAge_males','rb') as fp:\n",
    "    PNP530_balanced=pickle.load(fp)\n",
    "with open(SAMPLE_LIST_DIR+'Cardio126_balancedAge_males','rb') as fp:\n",
    "    Cardio126_balanced=pickle.load(fp)"
   ]
  },
  {
   "cell_type": "code",
   "execution_count": null,
   "metadata": {
    "ExecuteTime": {
     "end_time": "2019-04-18T08:51:46.111042Z",
     "start_time": "2019-04-18T08:51:46.063463Z"
    }
   },
   "outputs": [],
   "source": [
    "dates_distMat=dates_distMat[(dates_distMat['Sample1'].isin(PNP530_balanced))&(dates_distMat['Sample2'].isin(PNP530_balanced))]\n",
    "print dates_distMat.shape"
   ]
  },
  {
   "cell_type": "code",
   "execution_count": null,
   "metadata": {
    "ExecuteTime": {
     "end_time": "2019-04-18T08:51:46.766274Z",
     "start_time": "2019-04-18T08:51:46.750575Z"
    }
   },
   "outputs": [],
   "source": [
    "dates_distMat.head()"
   ]
  },
  {
   "cell_type": "code",
   "execution_count": null,
   "metadata": {
    "ExecuteTime": {
     "end_time": "2019-04-18T08:51:47.434834Z",
     "start_time": "2019-04-18T08:51:47.429945Z"
    }
   },
   "outputs": [],
   "source": [
    "print len(PNP530_balanced)"
   ]
  },
  {
   "cell_type": "code",
   "execution_count": null,
   "metadata": {
    "ExecuteTime": {
     "end_time": "2019-04-18T08:51:48.140923Z",
     "start_time": "2019-04-18T08:51:48.135541Z"
    }
   },
   "outputs": [],
   "source": [
    "print np.sum(range(57))"
   ]
  },
  {
   "cell_type": "code",
   "execution_count": null,
   "metadata": {
    "ExecuteTime": {
     "end_time": "2019-04-18T08:51:48.816471Z",
     "start_time": "2019-04-18T08:51:48.806447Z"
    }
   },
   "outputs": [],
   "source": [
    "dates_distMat.to_pickle(SEASON_DIR+'dates_distMat_PNP530_balancedOldMales.dat')"
   ]
  },
  {
   "cell_type": "code",
   "execution_count": null,
   "metadata": {
    "ExecuteTime": {
     "end_time": "2019-04-18T12:10:12.173187Z",
     "start_time": "2019-04-18T12:10:11.932901Z"
    }
   },
   "outputs": [],
   "source": [
    "dates_distMat['dist2'].hist()\n",
    "plt.show()"
   ]
  },
  {
   "cell_type": "code",
   "execution_count": null,
   "metadata": {},
   "outputs": [],
   "source": []
  },
  {
   "cell_type": "markdown",
   "metadata": {},
   "source": [
    "## cardio126:"
   ]
  },
  {
   "cell_type": "markdown",
   "metadata": {},
   "source": [
    "### generate table with months and weeks"
   ]
  },
  {
   "cell_type": "code",
   "execution_count": null,
   "metadata": {
    "ExecuteTime": {
     "end_time": "2019-04-22T14:56:00.738863Z",
     "start_time": "2019-04-22T14:56:00.317595Z"
    }
   },
   "outputs": [],
   "source": [
    "dates_cardio=pd.read_excel('%s/TCR_real_data/CardioSamples/phenotypicData/TimeToBlood2_Manual.xlsx' %MyPath).set_index('BD')\n",
    "dates_cardio=pd.DataFrame(dates_cardio['Admission Date'].dropna())\n",
    "dates_cardio['Admission Date']==pd.to_datetime(dates_cardio['Admission Date'])\n",
    "\n",
    "dates_cardio.head(5)"
   ]
  },
  {
   "cell_type": "code",
   "execution_count": null,
   "metadata": {
    "ExecuteTime": {
     "end_time": "2019-04-22T14:56:32.787124Z",
     "start_time": "2019-04-22T14:56:32.606220Z"
    }
   },
   "outputs": [],
   "source": [
    "dates_cardio['Month']=dates_cardio['Admission Date'].apply(lambda x: x.month).astype(int)\n",
    "dates_cardio['Year']=dates_cardio['Admission Date'].apply(lambda x: x.year).astype(int)\n",
    "dates_cardio['Season']=dates_cardio['Month'].map({1:'winter',2:'winter',12:'winter',3:'spring',4:'spring',5:'spring',\n",
    "                                    6:'summer',7:'summer',8:'summer',9:'automn',4:'automn',5:'automn'})\n",
    "dates_cardio['Month_year']=dates_cardio[['Month','Year']].astype(str).apply(lambda x: '_'.join(x), axis=1)\n",
    "dates_cardio['Season_year']=dates_cardio[['Season','Year']].astype(str).apply(lambda x: '_'.join(x), axis=1)\n",
    "dates_cardio=dates_cardio[dates_cardio['Year']!=1990]\n",
    "dates_cardio=dates_cardio.dropna()\n",
    "# dates_cardio[week]\n",
    "print dates_cardio.shape\n",
    "\n",
    "dates_cardio.to_excel(SEASON_DIR+'Admissiondates_cardio_PNP530.xlsx')\n",
    "dates_cardio.head()\n",
    "\n",
    "# for col in dates_cardio.columns:\n",
    "#     print dates_cardio[col].value_counts(dropna=False)"
   ]
  },
  {
   "cell_type": "code",
   "execution_count": null,
   "metadata": {
    "ExecuteTime": {
     "end_time": "2019-04-22T14:54:44.768392Z",
     "start_time": "2019-04-22T14:54:44.763487Z"
    }
   },
   "outputs": [],
   "source": [
    "dates_cardio['Admission Date'].dtype"
   ]
  },
  {
   "cell_type": "code",
   "execution_count": null,
   "metadata": {
    "ExecuteTime": {
     "end_time": "2019-04-22T14:57:15.107066Z",
     "start_time": "2019-04-22T14:57:15.071927Z"
    }
   },
   "outputs": [],
   "source": [
    "for col in dates_cardio.columns[1:]:\n",
    "    print col\n",
    "    print dates_cardio[col].value_counts(dropna=False)\n",
    "    \n",
    "    print ''"
   ]
  },
  {
   "cell_type": "markdown",
   "metadata": {},
   "source": [
    "### generate table with dummy varaibles as target"
   ]
  },
  {
   "cell_type": "code",
   "execution_count": null,
   "metadata": {
    "ExecuteTime": {
     "end_time": "2019-04-22T14:58:44.768332Z",
     "start_time": "2019-04-22T14:58:44.501057Z"
    }
   },
   "outputs": [],
   "source": [
    "dates_cardio2=dates_cardio.iloc[:,1:]\n",
    "print dates_cardio2.shape\n",
    "print dates_cardio2.head()\n",
    "print dates_cardio2.columns\n",
    "dates_targets_cardio=pd.get_dummies(dates_cardio2, columns=dates_cardio2.columns,prefix=dates_cardio2.columns)\n",
    "dates_targets_cardio=dates_targets_cardio.loc[:,dates_targets_cardio.sum()[dates_targets_cardio.sum()>6].index.tolist()]\n",
    "print dates_targets_cardio.shape\n",
    "dates_targets_cardio.index=dates_targets_cardio.index.rename('BD')\n",
    "dates_targets_cardio.to_excel(SEASON_DIR+'dates_targets_cardio.xlsx')\n",
    "dates_targets_cardio.head()\n"
   ]
  },
  {
   "cell_type": "code",
   "execution_count": null,
   "metadata": {
    "ExecuteTime": {
     "end_time": "2019-04-22T14:08:28.914551Z",
     "start_time": "2019-04-22T14:08:28.897320Z"
    }
   },
   "outputs": [],
   "source": []
  },
  {
   "cell_type": "code",
   "execution_count": null,
   "metadata": {
    "ExecuteTime": {
     "end_time": "2019-04-22T14:09:30.006068Z",
     "start_time": "2019-04-22T14:09:29.990966Z"
    }
   },
   "outputs": [],
   "source": [
    "#check filtering: expect no results here:\n",
    "for col in dates_targets.columns:\n",
    "    if dates_targets[col].sum()<20: print col"
   ]
  },
  {
   "cell_type": "code",
   "execution_count": null,
   "metadata": {},
   "outputs": [],
   "source": []
  },
  {
   "cell_type": "markdown",
   "metadata": {},
   "source": [
    "### generate distance table in days"
   ]
  },
  {
   "cell_type": "code",
   "execution_count": null,
   "metadata": {
    "ExecuteTime": {
     "end_time": "2019-04-18T12:10:34.593743Z",
     "start_time": "2019-04-18T12:10:34.588395Z"
    }
   },
   "outputs": [],
   "source": [
    "dates_cardio.loc['BD950','Admission Date']-dates_cardio.loc['BD951','Admission Date']"
   ]
  },
  {
   "cell_type": "code",
   "execution_count": null,
   "metadata": {
    "ExecuteTime": {
     "end_time": "2019-04-18T12:11:04.966323Z",
     "start_time": "2019-04-18T12:10:35.288007Z"
    }
   },
   "outputs": [],
   "source": [
    "dates_cardio_distMat=pd.DataFrame()\n",
    "count=0\n",
    "for i in range(len(dates_cardio)):\n",
    "    if i%10==0: print i\n",
    "    for j in range(i+1,len(dates_cardio)):\n",
    "        dates_cardio_distMat.loc[count,'Sample1']=dates_cardio.index[i]\n",
    "        dates_cardio_distMat.loc[count,'Sample2']=dates_cardio.index[j]\n",
    "        dates_cardio_distMat.loc[count,'dist']=dates_cardio.loc[dates_cardio.index[i],'Admission Date']-dates_cardio.loc[dates_cardio.index[j],'Admission Date']\n",
    "        \n",
    "        count=count+1\n",
    "        \n",
    "dates_cardio_distMat['dist2']=np.abs(dates_cardio_distMat['dist'] / np.timedelta64(1, 'D'))\n",
    "dates_cardio_distMat "
   ]
  },
  {
   "cell_type": "code",
   "execution_count": null,
   "metadata": {
    "ExecuteTime": {
     "end_time": "2019-04-18T12:50:17.110897Z",
     "start_time": "2019-04-18T12:50:17.089176Z"
    }
   },
   "outputs": [],
   "source": [
    "dates_cardio_distMat.to_pickle(SEASON_DIR+'dates_distMat_Cardio126.dat')"
   ]
  },
  {
   "cell_type": "code",
   "execution_count": null,
   "metadata": {
    "ExecuteTime": {
     "end_time": "2019-04-18T12:50:18.107240Z",
     "start_time": "2019-04-18T12:50:18.097654Z"
    }
   },
   "outputs": [],
   "source": [
    "dates_cardio_distMat_balanced=dates_cardio_distMat[(dates_cardio_distMat['Sample1'].isin(Cardio126_balanced))&(dates_cardio_distMat['Sample2'].isin(Cardio126_balanced))]\n",
    "print dates_cardio_distMat_balanced.shape"
   ]
  },
  {
   "cell_type": "code",
   "execution_count": null,
   "metadata": {
    "ExecuteTime": {
     "end_time": "2019-04-18T12:50:19.015078Z",
     "start_time": "2019-04-18T12:50:19.005925Z"
    }
   },
   "outputs": [],
   "source": [
    "dates_cardio_distMat_balanced.to_pickle(SEASON_DIR+'dates_distMat_Cardio126_balancedOldMales.dat')"
   ]
  },
  {
   "cell_type": "markdown",
   "metadata": {},
   "source": [
    "# generate jaccard distance matrix"
   ]
  },
  {
   "cell_type": "code",
   "execution_count": null,
   "metadata": {
    "ExecuteTime": {
     "end_time": "2019-04-18T12:57:39.956366Z",
     "start_time": "2019-04-18T12:57:39.661384Z"
    }
   },
   "outputs": [],
   "source": [
    "clusterDF=pd.read_pickle('/net/mraid08/export/jafar/Microbiome/Analyses/TCR/TCR_seqs_clusters/newX_onlySeqs_025_085_noNans.dat')\n",
    "print clusterDF.shape\n",
    "clusterDF.head()"
   ]
  },
  {
   "cell_type": "code",
   "execution_count": null,
   "metadata": {
    "ExecuteTime": {
     "end_time": "2019-04-18T12:57:46.987278Z",
     "start_time": "2019-04-18T12:57:46.820365Z"
    }
   },
   "outputs": [],
   "source": [
    "clusterDF_binary=(clusterDF>0).astype(int)"
   ]
  },
  {
   "cell_type": "markdown",
   "metadata": {},
   "source": [
    "## PNP530"
   ]
  },
  {
   "cell_type": "code",
   "execution_count": null,
   "metadata": {
    "ExecuteTime": {
     "end_time": "2019-04-18T12:57:54.686750Z",
     "start_time": "2019-04-18T12:57:54.496145Z"
    }
   },
   "outputs": [],
   "source": [
    "clusterDF_binary_PNP530=clusterDF_binary.loc[PNP530,:]\n",
    "print clusterDF_binary_PNP530.shape\n",
    "clusterDF_binary_PNP530.head()"
   ]
  },
  {
   "cell_type": "code",
   "execution_count": null,
   "metadata": {
    "ExecuteTime": {
     "end_time": "2019-04-18T12:58:30.762113Z",
     "start_time": "2019-04-18T12:58:02.911826Z"
    }
   },
   "outputs": [],
   "source": [
    "df=clusterDF_binary_PNP530\n",
    "metric='jaccard'\n",
    "generateSquareform=False\n",
    "\n",
    "clusterDF_jaccard_distMat_PNP530,sqaure=genDistMat(df, metric,generateSquareform)"
   ]
  },
  {
   "cell_type": "code",
   "execution_count": null,
   "metadata": {
    "ExecuteTime": {
     "end_time": "2019-04-18T12:58:37.944245Z",
     "start_time": "2019-04-18T12:58:37.862819Z"
    }
   },
   "outputs": [],
   "source": [
    "clusterDF_jaccard_distMat_PNP530.to_pickle(SEASON_DIR+'clusterDF_jaccard_distMat_PNP530.dat')"
   ]
  },
  {
   "cell_type": "code",
   "execution_count": null,
   "metadata": {
    "ExecuteTime": {
     "end_time": "2019-04-18T12:58:44.266970Z",
     "start_time": "2019-04-18T12:58:44.203862Z"
    }
   },
   "outputs": [],
   "source": [
    "clusterDF_jaccard_distMat_PNP530balancedOldMales=clusterDF_jaccard_distMat_PNP530[(clusterDF_jaccard_distMat_PNP530['sample1'].isin(PNP530_balanced))&(clusterDF_jaccard_distMat_PNP530['sample2'].isin(PNP530_balanced))]\n",
    "print clusterDF_jaccard_distMat_PNP530balancedOldMales.shape\n",
    "print clusterDF_jaccard_distMat_PNP530balancedOldMales.head()\n",
    "clusterDF_jaccard_distMat_PNP530balancedOldMales.to_pickle(SEASON_DIR+'clusterDF_jaccard_distMat_PNP530balancedOldMales.dat')"
   ]
  },
  {
   "cell_type": "code",
   "execution_count": null,
   "metadata": {
    "ExecuteTime": {
     "end_time": "2019-04-18T12:58:50.369276Z",
     "start_time": "2019-04-18T12:58:50.344291Z"
    }
   },
   "outputs": [],
   "source": [
    "clusterDF_jaccard_distMat_PNP530balancedOldMales.sort_values(by='dist').head(20)"
   ]
  },
  {
   "cell_type": "code",
   "execution_count": null,
   "metadata": {
    "ExecuteTime": {
     "end_time": "2019-04-18T12:58:56.805031Z",
     "start_time": "2019-04-18T12:58:56.780087Z"
    }
   },
   "outputs": [],
   "source": [
    "clusterDF_jaccard_distMat_PNP530balancedOldMales.sort_values(by='dist').tail(20)"
   ]
  },
  {
   "cell_type": "code",
   "execution_count": null,
   "metadata": {
    "ExecuteTime": {
     "end_time": "2019-04-18T12:59:03.326183Z",
     "start_time": "2019-04-18T12:59:03.071699Z"
    }
   },
   "outputs": [],
   "source": [
    "\n",
    "clusterDF_jaccard_distMat_PNP530balancedOldMales['dist'].hist(bins=20)\n",
    "plt.show()"
   ]
  },
  {
   "cell_type": "markdown",
   "metadata": {},
   "source": []
  },
  {
   "cell_type": "code",
   "execution_count": null,
   "metadata": {},
   "outputs": [],
   "source": []
  },
  {
   "cell_type": "markdown",
   "metadata": {},
   "source": [
    "## Cardio126"
   ]
  },
  {
   "cell_type": "code",
   "execution_count": null,
   "metadata": {
    "ExecuteTime": {
     "end_time": "2019-04-18T12:59:09.507355Z",
     "start_time": "2019-04-18T12:59:09.390166Z"
    }
   },
   "outputs": [],
   "source": [
    "clusterDF_binary_Cardio126=clusterDF_binary.loc[Cardio126,:]\n",
    "print clusterDF_binary_Cardio126.shape\n",
    "clusterDF_binary_Cardio126.head()"
   ]
  },
  {
   "cell_type": "code",
   "execution_count": null,
   "metadata": {
    "ExecuteTime": {
     "end_time": "2019-04-18T12:59:22.602661Z",
     "start_time": "2019-04-18T12:59:21.038373Z"
    }
   },
   "outputs": [],
   "source": [
    "df=clusterDF_binary_Cardio126\n",
    "metric='jaccard'\n",
    "generateSquareform=False\n",
    "\n",
    "clusterDF_jaccard_distMat_Cardio126,sqaure=genDistMat(df, metric,generateSquareform)"
   ]
  },
  {
   "cell_type": "code",
   "execution_count": null,
   "metadata": {
    "ExecuteTime": {
     "end_time": "2019-04-18T12:59:29.720387Z",
     "start_time": "2019-04-18T12:59:29.707478Z"
    }
   },
   "outputs": [],
   "source": [
    "clusterDF_jaccard_distMat_Cardio126.to_pickle(SEASON_DIR+'clusterDF_jaccard_distMat_NP530.dat')"
   ]
  },
  {
   "cell_type": "code",
   "execution_count": null,
   "metadata": {
    "ExecuteTime": {
     "end_time": "2019-04-18T13:10:33.480471Z",
     "start_time": "2019-04-18T13:10:33.444888Z"
    }
   },
   "outputs": [],
   "source": [
    "clusterDF_jaccard_distMat_Cardio126balancedOldMales=clusterDF_jaccard_distMat_Cardio126[(clusterDF_jaccard_distMat_Cardio126['sample1'].isin(Cardio126_balanced))&(clusterDF_jaccard_distMat_Cardio126['sample2'].isin(Cardio126_balanced))]\n",
    "clusterDF_jaccard_distMat_Cardio126balancedOldMales.to_pickle(SEASON_DIR+'clusterDF_jaccard_distMat_Cardio126balancedOldMales.dat')"
   ]
  },
  {
   "cell_type": "markdown",
   "metadata": {},
   "source": [
    "# generate pairwise-sharing matrix"
   ]
  },
  {
   "cell_type": "code",
   "execution_count": null,
   "metadata": {
    "ExecuteTime": {
     "end_time": "2019-04-22T15:13:09.163209Z",
     "start_time": "2019-04-22T15:13:08.763154Z"
    }
   },
   "outputs": [],
   "source": [
    "clusterDF=pd.read_pickle('/net/mraid08/export/jafar/Microbiome/Analyses/TCR/TCR_seqs_clusters/newX_onlySeqs_025_085_noNans.dat')\n",
    "print clusterDF.shape\n",
    "clusterDF.head()"
   ]
  },
  {
   "cell_type": "code",
   "execution_count": null,
   "metadata": {
    "ExecuteTime": {
     "end_time": "2019-04-22T15:13:20.799160Z",
     "start_time": "2019-04-22T15:13:20.592817Z"
    }
   },
   "outputs": [],
   "source": [
    "clusterDF_binary=(clusterDF>0).astype(int)"
   ]
  },
  {
   "cell_type": "markdown",
   "metadata": {},
   "source": [
    "## PNP530"
   ]
  },
  {
   "cell_type": "code",
   "execution_count": null,
   "metadata": {
    "ExecuteTime": {
     "end_time": "2019-04-18T12:57:54.686750Z",
     "start_time": "2019-04-18T12:57:54.496145Z"
    }
   },
   "outputs": [],
   "source": [
    "clusterDF_binary_PNP530=clusterDF_binary.loc[PNP530,:]\n",
    "print clusterDF_binary_PNP530.shape\n",
    "clusterDF_binary_PNP530.head()"
   ]
  },
  {
   "cell_type": "code",
   "execution_count": null,
   "metadata": {
    "ExecuteTime": {
     "start_time": "2019-04-22T15:21:50.616Z"
    }
   },
   "outputs": [],
   "source": [
    "clusterDF_binary=clusterDF_binary_PNP530\n",
    "\n",
    "\n",
    "sharing_simMatrix=pd.DataFrame()\n",
    "count=0\n",
    "for i in range(len(clusterDF_binary)):\n",
    "    if i%10==0:print i\n",
    "    for j in range(i+1,len(clusterDF_binary)):\n",
    "        sharing_simMatrix.loc[count,'Sample1']=clusterDF_binary.index[i]\n",
    "        sharing_simMatrix.loc[count,'Sample2']=clusterDF_binary.index[j]\n",
    "        sharing_sum=clusterDF_binary.iloc[[i,j],:].sum()\n",
    "        identical_num=len(sharing_sum[sharing_sum==2])\n",
    "        sharing_simMatrix.loc[count,'sharing']=identical_num\n",
    "        \n",
    "        count=count+1\n",
    "        \n",
    "sharing_simMatrix\n",
    "\n",
    "            "
   ]
  },
  {
   "cell_type": "code",
   "execution_count": null,
   "metadata": {},
   "outputs": [],
   "source": [
    "sharing_simMatrix.to_pickle(SEASON_DIR+'sharing_simMatrix_PNP530.dat')"
   ]
  },
  {
   "cell_type": "code",
   "execution_count": null,
   "metadata": {
    "ExecuteTime": {
     "end_time": "2019-04-18T12:58:44.266970Z",
     "start_time": "2019-04-18T12:58:44.203862Z"
    }
   },
   "outputs": [],
   "source": [
    "sharing_simMatrixbalancedOldMales_PNP530=sharing_simMatrix[(sharing_simMatrix['sample1'].isin(PNP530_balanced))&(sharing_simMatrix['sample2'].isin(PNP530_balanced))]\n",
    "print sharing_simMatrixbalancedOldMales_PNP530.shape\n",
    "print sharing_simMatrixbalancedOldMales_PNP530.head()\n",
    "sharing_simMatrixbalancedOldMales_PNP530.to_pickle(SEASON_DIR+'sharing_simMatrixbalancedOldMales_PNP530.dat')"
   ]
  },
  {
   "cell_type": "code",
   "execution_count": null,
   "metadata": {
    "ExecuteTime": {
     "end_time": "2019-04-18T12:58:50.369276Z",
     "start_time": "2019-04-18T12:58:50.344291Z"
    }
   },
   "outputs": [],
   "source": [
    "sharing_simMatrixbalancedOldMales_PNP530balancedOldMales.sort_values(by='dist').head(20)"
   ]
  },
  {
   "cell_type": "code",
   "execution_count": null,
   "metadata": {
    "ExecuteTime": {
     "end_time": "2019-04-18T12:58:56.805031Z",
     "start_time": "2019-04-18T12:58:56.780087Z"
    }
   },
   "outputs": [],
   "source": [
    "sharing_simMatrixbalancedOldMales_PNP530balancedOldMales.sort_values(by='dist').tail(20)"
   ]
  },
  {
   "cell_type": "code",
   "execution_count": null,
   "metadata": {
    "ExecuteTime": {
     "end_time": "2019-04-18T12:59:03.326183Z",
     "start_time": "2019-04-18T12:59:03.071699Z"
    }
   },
   "outputs": [],
   "source": [
    "\n",
    "sharing_simMatrixbalancedOldMales_PNP530balancedOldMales['sharing'].hist(bins=20)\n",
    "plt.show()"
   ]
  },
  {
   "cell_type": "markdown",
   "metadata": {},
   "source": []
  },
  {
   "cell_type": "code",
   "execution_count": null,
   "metadata": {},
   "outputs": [],
   "source": []
  },
  {
   "cell_type": "markdown",
   "metadata": {},
   "source": [
    "## Cardio126"
   ]
  },
  {
   "cell_type": "code",
   "execution_count": null,
   "metadata": {
    "ExecuteTime": {
     "end_time": "2019-04-18T12:59:09.507355Z",
     "start_time": "2019-04-18T12:59:09.390166Z"
    }
   },
   "outputs": [],
   "source": [
    "clusterDF_binary_Cardio126=clusterDF_binary.loc[Cardio126,:]\n",
    "print clusterDF_binary_Cardio126.shape\n",
    "clusterDF_binary_Cardio126.head()"
   ]
  },
  {
   "cell_type": "code",
   "execution_count": null,
   "metadata": {
    "ExecuteTime": {
     "end_time": "2019-04-18T12:59:22.602661Z",
     "start_time": "2019-04-18T12:59:21.038373Z"
    }
   },
   "outputs": [],
   "source": [
    "df=clusterDF_binary_Cardio126\n",
    "metric='jaccard'\n",
    "generateSquareform=False\n",
    "\n",
    "clusterDF_jaccard_distMat_Cardio126,sqaure=genDistMat(df, metric,generateSquareform)"
   ]
  },
  {
   "cell_type": "code",
   "execution_count": null,
   "metadata": {
    "ExecuteTime": {
     "end_time": "2019-04-18T12:59:29.720387Z",
     "start_time": "2019-04-18T12:59:29.707478Z"
    }
   },
   "outputs": [],
   "source": [
    "clusterDF_jaccard_distMat_Cardio126.to_pickle(SEASON_DIR+'clusterDF_jaccard_distMat_NP530.dat')"
   ]
  },
  {
   "cell_type": "code",
   "execution_count": null,
   "metadata": {
    "ExecuteTime": {
     "end_time": "2019-04-18T13:10:33.480471Z",
     "start_time": "2019-04-18T13:10:33.444888Z"
    }
   },
   "outputs": [],
   "source": [
    "clusterDF_jaccard_distMat_Cardio126balancedOldMales=clusterDF_jaccard_distMat_Cardio126[(clusterDF_jaccard_distMat_Cardio126['sample1'].isin(Cardio126_balanced))&(clusterDF_jaccard_distMat_Cardio126['sample2'].isin(Cardio126_balanced))]\n",
    "clusterDF_jaccard_distMat_Cardio126balancedOldMales.to_pickle(SEASON_DIR+'clusterDF_jaccard_distMat_Cardio126balancedOldMales.dat')"
   ]
  },
  {
   "cell_type": "markdown",
   "metadata": {},
   "source": [
    "# calculate correlations between date distances and TCRdf distances:"
   ]
  },
  {
   "cell_type": "markdown",
   "metadata": {},
   "source": [
    "## PNP530:"
   ]
  },
  {
   "cell_type": "markdown",
   "metadata": {},
   "source": [
    "### GET DATA:"
   ]
  },
  {
   "cell_type": "code",
   "execution_count": null,
   "metadata": {
    "ExecuteTime": {
     "end_time": "2019-04-18T12:51:16.522643Z",
     "start_time": "2019-04-18T12:51:16.480970Z"
    }
   },
   "outputs": [],
   "source": [
    "dates_distMat_balancedPNP530=pd.read_pickle(SEASON_DIR+'dates_distMat_PNP530_balancedOldMales.dat')\n",
    "dates_distMat_balancedPNP530=dates_distMat_balancedPNP530.sort_values(by=['Sample1','Sample2'])\n",
    "dates_distMat_balancedPNP530=dates_distMat_balancedPNP530.rename(columns={'dist2':'days_dist'})\n",
    "print dates_distMat_balancedPNP530.shape\n",
    "dates_distMat_balancedPNP530.head()\n"
   ]
  },
  {
   "cell_type": "code",
   "execution_count": null,
   "metadata": {
    "ExecuteTime": {
     "end_time": "2019-04-18T12:51:21.412044Z",
     "start_time": "2019-04-18T12:51:21.089882Z"
    }
   },
   "outputs": [],
   "source": [
    "dates_distMat_balancedPNP530['days_dist'].hist(bins=20)\n",
    "plt.show()"
   ]
  },
  {
   "cell_type": "code",
   "execution_count": null,
   "metadata": {
    "ExecuteTime": {
     "end_time": "2019-04-18T12:51:40.093648Z",
     "start_time": "2019-04-18T12:51:40.073345Z"
    }
   },
   "outputs": [],
   "source": [
    "clusterDF_jaccard_distMat_PNP530balancedOldMales=pd.read_pickle(SEASON_DIR+'clusterDF_jaccard_distMat_PNP530balancedOldMales.dat')\n",
    "# clusterDF_jaccard_distMat_PNP530balancedOldMales=clusterDF_jaccard_distMat_PNP530balancedOldMales.sort_values(by=['sample1','sample2'])\n",
    "clusterDF_jaccard_distMat_PNP530balancedOldMales=clusterDF_jaccard_distMat_PNP530balancedOldMales.rename(columns={'dist':'TCRjaccard_dist'})\n",
    "print clusterDF_jaccard_distMat_PNP530balancedOldMales.shape\n",
    "print clusterDF_jaccard_distMat_PNP530balancedOldMales.head()"
   ]
  },
  {
   "cell_type": "code",
   "execution_count": null,
   "metadata": {
    "ExecuteTime": {
     "end_time": "2019-04-18T12:51:42.173981Z",
     "start_time": "2019-04-18T12:51:41.907083Z"
    }
   },
   "outputs": [],
   "source": [
    "clusterDF_jaccard_distMat_PNP530balancedOldMales.hist()\n",
    "plt.show()"
   ]
  },
  {
   "cell_type": "code",
   "execution_count": null,
   "metadata": {},
   "outputs": [],
   "source": []
  },
  {
   "cell_type": "code",
   "execution_count": null,
   "metadata": {
    "ExecuteTime": {
     "end_time": "2019-04-18T12:51:49.363260Z",
     "start_time": "2019-04-18T12:51:49.314536Z"
    }
   },
   "outputs": [],
   "source": [
    "merged_PNP530=pd.merge(dates_distMat_balancedPNP530,clusterDF_jaccard_distMat_PNP530balancedOldMales,how='inner',left_on=('Sample1','Sample2'),right_on=('sample1','sample2'))\n",
    "print merged_PNP530.shape\n",
    "merged_PNP530.head()"
   ]
  },
  {
   "cell_type": "markdown",
   "metadata": {},
   "source": [
    "### correlation:"
   ]
  },
  {
   "cell_type": "markdown",
   "metadata": {},
   "source": [
    "#### all"
   ]
  },
  {
   "cell_type": "code",
   "execution_count": null,
   "metadata": {
    "ExecuteTime": {
     "end_time": "2019-04-18T12:51:55.081096Z",
     "start_time": "2019-04-18T12:51:55.071767Z"
    }
   },
   "outputs": [],
   "source": [
    "r,p=MyPearsonr(merged_PNP530['days_dist'],merged_PNP530['TCRjaccard_dist'])\n",
    "print r,p"
   ]
  },
  {
   "cell_type": "code",
   "execution_count": null,
   "metadata": {
    "ExecuteTime": {
     "end_time": "2019-04-18T12:52:08.675055Z",
     "start_time": "2019-04-18T12:52:08.193560Z"
    }
   },
   "outputs": [],
   "source": [
    "fig,ax=plt.subplots()\n",
    "data1=merged_PNP530['days_dist']\n",
    "data2=merged_PNP530['TCRjaccard_dist']\n",
    "data1name='Days Distance'\n",
    "data2name='TCR seq. distance (Jaccard)'\n",
    "\n",
    "\n",
    "\n",
    "ax, nsamples,r,p,text, handles, labels=plot_corr(data1,data2,data1name,data2name,ax,title=None,corrType='pearson',\n",
    "              toAnnotate=True,plotTrendLine=True,scatter_kws={'alpha':0.4,'s':100},\n",
    "               text_kws={'fontsize':'x-large'},linecolor='black')\n",
    "\n",
    "plt.show()\n"
   ]
  },
  {
   "cell_type": "markdown",
   "metadata": {},
   "source": [
    "#### only pairs with less than 2000 days appart"
   ]
  },
  {
   "cell_type": "code",
   "execution_count": null,
   "metadata": {
    "ExecuteTime": {
     "end_time": "2019-04-18T12:54:01.238319Z",
     "start_time": "2019-04-18T12:54:01.210875Z"
    }
   },
   "outputs": [],
   "source": [
    "def plot_corr_days_TCR_dist(mergedDF, max_days_diff,max_jaccard_dist,title):\n",
    "    \n",
    "    mergedDF=mergedDF[mergedDF['days_dist']<max_days_diff]\n",
    "    mergedDF=mergedDF[mergedDF['TCRjaccard_dist']<max_jaccard_dist]\n",
    "    mergedDF['new_index']=range(len(mergedDF))\n",
    "    mergedDF=mergedDF.set_index('new_index')\n",
    "    print mergedDF.shape\n",
    "    print mergedDF.head()\n",
    "    \n",
    "    r,p=MyPearsonr(mergedDF['days_dist'],mergedDF['TCRjaccard_dist'])\n",
    "    print r,p\n",
    "    \n",
    "    fig,ax=plt.subplots()\n",
    "    data1=mergedDF['days_dist']\n",
    "    data2=mergedDF['TCRjaccard_dist']\n",
    "    data1name='Days Distance'\n",
    "    data2name='TCR seq. distance (Jaccard)'\n",
    "\n",
    "\n",
    "\n",
    "    ax, nsamples,r,p,text, handles, labels=plot_corr(data1,data2,data1name,data2name,ax,title,corrType='pearson',\n",
    "                  toAnnotate=True,plotTrendLine=True,scatter_kws={'alpha':0.4,'s':100},\n",
    "                   text_kws={'fontsize':'x-large'},linecolor='black')\n",
    "\n",
    "    plt.show()\n",
    "    \n",
    "    return\n",
    "\n",
    "    \n",
    "    "
   ]
  },
  {
   "cell_type": "code",
   "execution_count": null,
   "metadata": {
    "ExecuteTime": {
     "end_time": "2019-04-18T12:55:13.259882Z",
     "start_time": "2019-04-18T12:55:12.909252Z"
    }
   },
   "outputs": [],
   "source": [
    "mergedDF=merged_PNP530\n",
    "max_days_diff=100\n",
    "max_jaccard_dist=0.7\n",
    "title='PNP530 (max days diff =%s,max_jaccard_dist=%s)' %(max_days_diff,max_jaccard_dist)\n",
    "\n",
    "plot_corr_days_TCR_dist(mergedDF, max_days_diff,max_jaccard_dist,title)"
   ]
  },
  {
   "cell_type": "code",
   "execution_count": null,
   "metadata": {
    "ExecuteTime": {
     "end_time": "2019-04-18T12:56:27.037610Z",
     "start_time": "2019-04-18T12:56:26.746423Z"
    }
   },
   "outputs": [],
   "source": [
    "mergedDF=merged_PNP530\n",
    "max_days_diff=1400\n",
    "max_jaccard_dist=0.62\n",
    "title='PNP530 (max days diff =%s,max_jaccard_dist=%s)' %(max_days_diff,max_jaccard_dist)\n",
    "\n",
    "plot_corr_days_TCR_dist(mergedDF, max_days_diff,max_jaccard_dist,title)"
   ]
  },
  {
   "cell_type": "markdown",
   "metadata": {},
   "source": [
    "## Cardio126:"
   ]
  },
  {
   "cell_type": "markdown",
   "metadata": {},
   "source": [
    "### GET DATA:"
   ]
  },
  {
   "cell_type": "code",
   "execution_count": null,
   "metadata": {
    "ExecuteTime": {
     "end_time": "2019-04-18T13:10:40.979793Z",
     "start_time": "2019-04-18T13:10:40.948558Z"
    }
   },
   "outputs": [],
   "source": [
    "dates_distMat_balancedCardio126=pd.read_pickle(SEASON_DIR+'dates_distMat_Cardio126_balancedOldMales.dat')\n",
    "dates_distMat_balancedCardio126=dates_distMat_balancedCardio126.sort_values(by=['Sample1','Sample2'])\n",
    "dates_distMat_balancedCardio126=dates_distMat_balancedCardio126.rename(columns={'dist2':'days_dist'})\n",
    "print dates_distMat_balancedCardio126.shape\n",
    "dates_distMat_balancedCardio126.head()\n"
   ]
  },
  {
   "cell_type": "code",
   "execution_count": null,
   "metadata": {
    "ExecuteTime": {
     "end_time": "2019-04-18T13:10:48.953459Z",
     "start_time": "2019-04-18T13:10:48.714221Z"
    }
   },
   "outputs": [],
   "source": [
    "dates_distMat_balancedCardio126['days_dist'].hist(bins=20)\n",
    "plt.show()"
   ]
  },
  {
   "cell_type": "code",
   "execution_count": null,
   "metadata": {
    "ExecuteTime": {
     "end_time": "2019-04-18T13:11:22.942006Z",
     "start_time": "2019-04-18T13:11:22.909422Z"
    }
   },
   "outputs": [],
   "source": [
    "clusterDF_jaccard_distMat_Cardio126balancedOldMales=pd.read_pickle(SEASON_DIR+'clusterDF_jaccard_distMat_Cardio126balancedOldMales.dat')\n",
    "# clusterDF_jaccard_distMat_Cardio126balancedOldMales=clusterDF_jaccard_distMat_Cardio126balancedOldMales.sort_values(by=['sample1','sample2'])\n",
    "clusterDF_jaccard_distMat_Cardio126balancedOldMales=clusterDF_jaccard_distMat_Cardio126balancedOldMales.rename(columns={'dist':'TCRjaccard_dist'})\n",
    "print clusterDF_jaccard_distMat_Cardio126balancedOldMales.shape\n",
    "print clusterDF_jaccard_distMat_Cardio126balancedOldMales.head()"
   ]
  },
  {
   "cell_type": "code",
   "execution_count": null,
   "metadata": {
    "ExecuteTime": {
     "end_time": "2019-04-18T13:11:30.503460Z",
     "start_time": "2019-04-18T13:11:30.271148Z"
    }
   },
   "outputs": [],
   "source": [
    "clusterDF_jaccard_distMat_Cardio126balancedOldMales.hist()\n",
    "plt.show()"
   ]
  },
  {
   "cell_type": "code",
   "execution_count": null,
   "metadata": {},
   "outputs": [],
   "source": []
  },
  {
   "cell_type": "code",
   "execution_count": null,
   "metadata": {
    "ExecuteTime": {
     "end_time": "2019-04-18T13:11:37.907207Z",
     "start_time": "2019-04-18T13:11:37.875561Z"
    }
   },
   "outputs": [],
   "source": [
    "merged_Cardio126=pd.merge(dates_distMat_balancedCardio126,clusterDF_jaccard_distMat_Cardio126balancedOldMales,how='inner',left_on=('Sample1','Sample2'),right_on=('sample1','sample2'))\n",
    "print merged_Cardio126.shape\n",
    "merged_Cardio126.head()"
   ]
  },
  {
   "cell_type": "markdown",
   "metadata": {},
   "source": [
    "### correlation:"
   ]
  },
  {
   "cell_type": "code",
   "execution_count": null,
   "metadata": {
    "ExecuteTime": {
     "end_time": "2019-04-18T13:12:48.622146Z",
     "start_time": "2019-04-18T13:12:48.119895Z"
    }
   },
   "outputs": [],
   "source": [
    "mergedDF=merged_Cardio126\n",
    "max_days_diff=600\n",
    "max_jaccard_dist=1\n",
    "title='Cardio126 (max days diff =%s,max_jaccard_dist=%s)' %(max_days_diff,max_jaccard_dist)\n",
    "\n",
    "plot_corr_days_TCR_dist(mergedDF, max_days_diff,max_jaccard_dist,title)"
   ]
  },
  {
   "cell_type": "code",
   "execution_count": null,
   "metadata": {
    "ExecuteTime": {
     "end_time": "2019-04-18T13:13:42.095099Z",
     "start_time": "2019-04-18T13:13:41.254232Z"
    }
   },
   "outputs": [],
   "source": [
    "mergedDF=merged_Cardio126\n",
    "max_days_diff=600\n",
    "max_jaccard_dist=0.75\n",
    "title='Cardio126 (max days diff =%s,max_jaccard_dist=%s)' %(max_days_diff,max_jaccard_dist)\n",
    "\n",
    "plot_corr_days_TCR_dist(mergedDF, max_days_diff,max_jaccard_dist,title)"
   ]
  },
  {
   "cell_type": "code",
   "execution_count": null,
   "metadata": {},
   "outputs": [],
   "source": []
  },
  {
   "cell_type": "code",
   "execution_count": null,
   "metadata": {},
   "outputs": [],
   "source": []
  },
  {
   "cell_type": "markdown",
   "metadata": {},
   "source": [
    "# review seasonality prediction results:"
   ]
  },
  {
   "cell_type": "markdown",
   "metadata": {},
   "source": [
    "## PNP530-by features:"
   ]
  },
  {
   "cell_type": "code",
   "execution_count": 7,
   "metadata": {
    "ExecuteTime": {
     "end_time": "2019-04-22T15:47:51.354268Z",
     "start_time": "2019-04-22T15:47:51.063406Z"
    }
   },
   "outputs": [
    {
     "name": "stdout",
     "output_type": "stream",
     "text": [
      "seasonality_XGB50_byTCRfeatures_optByAUC/\n",
      "('results_df.shape: ', (34, 14))\n",
      "seasonality_XGB_byTCRfeatures_optByAUC\n",
      "('results_df.shape: ', (34, 14))\n",
      "('number of problematic dirs=', 0)\n"
     ]
    },
    {
     "data": {
      "text/html": [
       "<div>\n",
       "<style scoped>\n",
       "    .dataframe tbody tr th:only-of-type {\n",
       "        vertical-align: middle;\n",
       "    }\n",
       "\n",
       "    .dataframe tbody tr th {\n",
       "        vertical-align: top;\n",
       "    }\n",
       "\n",
       "    .dataframe thead th {\n",
       "        text-align: right;\n",
       "    }\n",
       "</style>\n",
       "<table border=\"1\" class=\"dataframe\">\n",
       "  <thead>\n",
       "    <tr style=\"text-align: right;\">\n",
       "      <th></th>\n",
       "      <th>dir</th>\n",
       "      <th>AUC</th>\n",
       "      <th>prevalence</th>\n",
       "      <th>Precision_Recall</th>\n",
       "      <th>kappa</th>\n",
       "    </tr>\n",
       "    <tr>\n",
       "      <th>index</th>\n",
       "      <th></th>\n",
       "      <th></th>\n",
       "      <th></th>\n",
       "      <th></th>\n",
       "      <th></th>\n",
       "    </tr>\n",
       "  </thead>\n",
       "  <tbody>\n",
       "    <tr>\n",
       "      <th>Month_year_3_2015</th>\n",
       "      <td>seasonality_XGB_byTCRfeatures_optByAUC</td>\n",
       "      <td>0.822211</td>\n",
       "      <td>0.063781</td>\n",
       "      <td>0.210682</td>\n",
       "      <td>0.000000</td>\n",
       "    </tr>\n",
       "    <tr>\n",
       "      <th>Month_year_3_2015</th>\n",
       "      <td>seasonality_XGB50_byTCRfeatures_optByAUC/</td>\n",
       "      <td>0.800400</td>\n",
       "      <td>0.063781</td>\n",
       "      <td>0.189469</td>\n",
       "      <td>0.110822</td>\n",
       "    </tr>\n",
       "    <tr>\n",
       "      <th>Season_year_spring_2015</th>\n",
       "      <td>seasonality_XGB50_byTCRfeatures_optByAUC/</td>\n",
       "      <td>0.768074</td>\n",
       "      <td>0.063781</td>\n",
       "      <td>0.152737</td>\n",
       "      <td>0.047309</td>\n",
       "    </tr>\n",
       "    <tr>\n",
       "      <th>Season_year_spring_2015</th>\n",
       "      <td>seasonality_XGB_byTCRfeatures_optByAUC</td>\n",
       "      <td>0.750782</td>\n",
       "      <td>0.063781</td>\n",
       "      <td>0.178473</td>\n",
       "      <td>0.000000</td>\n",
       "    </tr>\n",
       "    <tr>\n",
       "      <th>Month_year_2_2014</th>\n",
       "      <td>seasonality_XGB50_byTCRfeatures_optByAUC/</td>\n",
       "      <td>0.722554</td>\n",
       "      <td>0.045558</td>\n",
       "      <td>0.089936</td>\n",
       "      <td>-0.004358</td>\n",
       "    </tr>\n",
       "    <tr>\n",
       "      <th>Year_2015</th>\n",
       "      <td>seasonality_XGB_byTCRfeatures_optByAUC</td>\n",
       "      <td>0.719015</td>\n",
       "      <td>0.389522</td>\n",
       "      <td>0.654118</td>\n",
       "      <td>0.306010</td>\n",
       "    </tr>\n",
       "    <tr>\n",
       "      <th>Year_2015</th>\n",
       "      <td>seasonality_XGB50_byTCRfeatures_optByAUC/</td>\n",
       "      <td>0.701820</td>\n",
       "      <td>0.389522</td>\n",
       "      <td>0.629934</td>\n",
       "      <td>0.335552</td>\n",
       "    </tr>\n",
       "    <tr>\n",
       "      <th>Month_year_4_2015</th>\n",
       "      <td>seasonality_XGB_byTCRfeatures_optByAUC</td>\n",
       "      <td>0.701256</td>\n",
       "      <td>0.056948</td>\n",
       "      <td>0.092880</td>\n",
       "      <td>0.000000</td>\n",
       "    </tr>\n",
       "    <tr>\n",
       "      <th>Year_2014</th>\n",
       "      <td>seasonality_XGB_byTCRfeatures_optByAUC</td>\n",
       "      <td>0.643585</td>\n",
       "      <td>0.432802</td>\n",
       "      <td>0.549335</td>\n",
       "      <td>0.159315</td>\n",
       "    </tr>\n",
       "    <tr>\n",
       "      <th>Season_year_automn_2014</th>\n",
       "      <td>seasonality_XGB50_byTCRfeatures_optByAUC/</td>\n",
       "      <td>0.636935</td>\n",
       "      <td>0.109339</td>\n",
       "      <td>0.197784</td>\n",
       "      <td>0.026696</td>\n",
       "    </tr>\n",
       "    <tr>\n",
       "      <th>Year_2014</th>\n",
       "      <td>seasonality_XGB50_byTCRfeatures_optByAUC/</td>\n",
       "      <td>0.624857</td>\n",
       "      <td>0.432802</td>\n",
       "      <td>0.542955</td>\n",
       "      <td>0.144765</td>\n",
       "    </tr>\n",
       "    <tr>\n",
       "      <th>Month_year_2_2014</th>\n",
       "      <td>seasonality_XGB_byTCRfeatures_optByAUC</td>\n",
       "      <td>0.623389</td>\n",
       "      <td>0.045558</td>\n",
       "      <td>0.073164</td>\n",
       "      <td>0.000000</td>\n",
       "    </tr>\n",
       "    <tr>\n",
       "      <th>Month_year_12_2013</th>\n",
       "      <td>seasonality_XGB50_byTCRfeatures_optByAUC/</td>\n",
       "      <td>0.620721</td>\n",
       "      <td>0.079727</td>\n",
       "      <td>0.183866</td>\n",
       "      <td>0.093856</td>\n",
       "    </tr>\n",
       "    <tr>\n",
       "      <th>Season_year_automn_2015</th>\n",
       "      <td>seasonality_XGB_byTCRfeatures_optByAUC</td>\n",
       "      <td>0.612015</td>\n",
       "      <td>0.127563</td>\n",
       "      <td>0.174663</td>\n",
       "      <td>0.000000</td>\n",
       "    </tr>\n",
       "    <tr>\n",
       "      <th>Month_3</th>\n",
       "      <td>seasonality_XGB_byTCRfeatures_optByAUC</td>\n",
       "      <td>0.607604</td>\n",
       "      <td>0.150342</td>\n",
       "      <td>0.229641</td>\n",
       "      <td>-0.004508</td>\n",
       "    </tr>\n",
       "    <tr>\n",
       "      <th>Season_spring</th>\n",
       "      <td>seasonality_XGB_byTCRfeatures_optByAUC</td>\n",
       "      <td>0.604781</td>\n",
       "      <td>0.150342</td>\n",
       "      <td>0.213706</td>\n",
       "      <td>-0.004508</td>\n",
       "    </tr>\n",
       "    <tr>\n",
       "      <th>Month_year_4_2015</th>\n",
       "      <td>seasonality_XGB50_byTCRfeatures_optByAUC/</td>\n",
       "      <td>0.603527</td>\n",
       "      <td>0.056948</td>\n",
       "      <td>0.083216</td>\n",
       "      <td>-0.004400</td>\n",
       "    </tr>\n",
       "    <tr>\n",
       "      <th>Season_year_automn_2014</th>\n",
       "      <td>seasonality_XGB_byTCRfeatures_optByAUC</td>\n",
       "      <td>0.599371</td>\n",
       "      <td>0.109339</td>\n",
       "      <td>0.179081</td>\n",
       "      <td>0.000000</td>\n",
       "    </tr>\n",
       "    <tr>\n",
       "      <th>Season_year_winter_2013</th>\n",
       "      <td>seasonality_XGB50_byTCRfeatures_optByAUC/</td>\n",
       "      <td>0.593989</td>\n",
       "      <td>0.079727</td>\n",
       "      <td>0.179484</td>\n",
       "      <td>0.093856</td>\n",
       "    </tr>\n",
       "    <tr>\n",
       "      <th>Season_year_summer_2014</th>\n",
       "      <td>seasonality_XGB_byTCRfeatures_optByAUC</td>\n",
       "      <td>0.582048</td>\n",
       "      <td>0.175399</td>\n",
       "      <td>0.293434</td>\n",
       "      <td>0.057751</td>\n",
       "    </tr>\n",
       "    <tr>\n",
       "      <th>Month_7</th>\n",
       "      <td>seasonality_XGB50_byTCRfeatures_optByAUC/</td>\n",
       "      <td>0.579562</td>\n",
       "      <td>0.152620</td>\n",
       "      <td>0.224600</td>\n",
       "      <td>0.093953</td>\n",
       "    </tr>\n",
       "    <tr>\n",
       "      <th>Season_year_summer_2014</th>\n",
       "      <td>seasonality_XGB50_byTCRfeatures_optByAUC/</td>\n",
       "      <td>0.578747</td>\n",
       "      <td>0.175399</td>\n",
       "      <td>0.251569</td>\n",
       "      <td>0.122067</td>\n",
       "    </tr>\n",
       "    <tr>\n",
       "      <th>Season_spring</th>\n",
       "      <td>seasonality_XGB50_byTCRfeatures_optByAUC/</td>\n",
       "      <td>0.576611</td>\n",
       "      <td>0.150342</td>\n",
       "      <td>0.206280</td>\n",
       "      <td>0.068406</td>\n",
       "    </tr>\n",
       "    <tr>\n",
       "      <th>Month_3</th>\n",
       "      <td>seasonality_XGB50_byTCRfeatures_optByAUC/</td>\n",
       "      <td>0.574945</td>\n",
       "      <td>0.150342</td>\n",
       "      <td>0.194853</td>\n",
       "      <td>0.036537</td>\n",
       "    </tr>\n",
       "    <tr>\n",
       "      <th>Season_year_winter_2014</th>\n",
       "      <td>seasonality_XGB_byTCRfeatures_optByAUC</td>\n",
       "      <td>0.572224</td>\n",
       "      <td>0.109339</td>\n",
       "      <td>0.169597</td>\n",
       "      <td>0.100250</td>\n",
       "    </tr>\n",
       "    <tr>\n",
       "      <th>Season_summer</th>\n",
       "      <td>seasonality_XGB_byTCRfeatures_optByAUC</td>\n",
       "      <td>0.571658</td>\n",
       "      <td>0.346241</td>\n",
       "      <td>0.416484</td>\n",
       "      <td>0.051281</td>\n",
       "    </tr>\n",
       "    <tr>\n",
       "      <th>Month_year_5_2015</th>\n",
       "      <td>seasonality_XGB50_byTCRfeatures_optByAUC/</td>\n",
       "      <td>0.571157</td>\n",
       "      <td>0.070615</td>\n",
       "      <td>0.097562</td>\n",
       "      <td>-0.012619</td>\n",
       "    </tr>\n",
       "    <tr>\n",
       "      <th>Season_year_automn_2015</th>\n",
       "      <td>seasonality_XGB50_byTCRfeatures_optByAUC/</td>\n",
       "      <td>0.568165</td>\n",
       "      <td>0.127563</td>\n",
       "      <td>0.154874</td>\n",
       "      <td>-0.025315</td>\n",
       "    </tr>\n",
       "    <tr>\n",
       "      <th>Month_year_6_2014</th>\n",
       "      <td>seasonality_XGB50_byTCRfeatures_optByAUC/</td>\n",
       "      <td>0.567871</td>\n",
       "      <td>0.061503</td>\n",
       "      <td>0.074605</td>\n",
       "      <td>0.000000</td>\n",
       "    </tr>\n",
       "    <tr>\n",
       "      <th>Month_year_5_2015</th>\n",
       "      <td>seasonality_XGB_byTCRfeatures_optByAUC</td>\n",
       "      <td>0.566532</td>\n",
       "      <td>0.070615</td>\n",
       "      <td>0.090175</td>\n",
       "      <td>0.000000</td>\n",
       "    </tr>\n",
       "    <tr>\n",
       "      <th>...</th>\n",
       "      <td>...</td>\n",
       "      <td>...</td>\n",
       "      <td>...</td>\n",
       "      <td>...</td>\n",
       "      <td>...</td>\n",
       "    </tr>\n",
       "    <tr>\n",
       "      <th>Month_8</th>\n",
       "      <td>seasonality_XGB50_byTCRfeatures_optByAUC/</td>\n",
       "      <td>0.547836</td>\n",
       "      <td>0.082005</td>\n",
       "      <td>0.088489</td>\n",
       "      <td>-0.012777</td>\n",
       "    </tr>\n",
       "    <tr>\n",
       "      <th>Season_automn</th>\n",
       "      <td>seasonality_XGB50_byTCRfeatures_optByAUC/</td>\n",
       "      <td>0.546755</td>\n",
       "      <td>0.268793</td>\n",
       "      <td>0.327276</td>\n",
       "      <td>0.104429</td>\n",
       "    </tr>\n",
       "    <tr>\n",
       "      <th>Month_year_7_2015</th>\n",
       "      <td>seasonality_XGB50_byTCRfeatures_optByAUC/</td>\n",
       "      <td>0.542941</td>\n",
       "      <td>0.095672</td>\n",
       "      <td>0.119711</td>\n",
       "      <td>0.066096</td>\n",
       "    </tr>\n",
       "    <tr>\n",
       "      <th>Month_year_7_2014</th>\n",
       "      <td>seasonality_XGB_byTCRfeatures_optByAUC</td>\n",
       "      <td>0.538986</td>\n",
       "      <td>0.056948</td>\n",
       "      <td>0.066469</td>\n",
       "      <td>0.000000</td>\n",
       "    </tr>\n",
       "    <tr>\n",
       "      <th>Month_year_8_2014</th>\n",
       "      <td>seasonality_XGB_byTCRfeatures_optByAUC</td>\n",
       "      <td>0.537295</td>\n",
       "      <td>0.056948</td>\n",
       "      <td>0.059745</td>\n",
       "      <td>0.000000</td>\n",
       "    </tr>\n",
       "    <tr>\n",
       "      <th>Year_2013</th>\n",
       "      <td>seasonality_XGB_byTCRfeatures_optByAUC</td>\n",
       "      <td>0.529614</td>\n",
       "      <td>0.113895</td>\n",
       "      <td>0.141218</td>\n",
       "      <td>0.000000</td>\n",
       "    </tr>\n",
       "    <tr>\n",
       "      <th>Month_4</th>\n",
       "      <td>seasonality_XGB_byTCRfeatures_optByAUC</td>\n",
       "      <td>0.527411</td>\n",
       "      <td>0.072893</td>\n",
       "      <td>0.085382</td>\n",
       "      <td>0.000000</td>\n",
       "    </tr>\n",
       "    <tr>\n",
       "      <th>Month_year_7_2015</th>\n",
       "      <td>seasonality_XGB_byTCRfeatures_optByAUC</td>\n",
       "      <td>0.527288</td>\n",
       "      <td>0.095672</td>\n",
       "      <td>0.105600</td>\n",
       "      <td>-0.004470</td>\n",
       "    </tr>\n",
       "    <tr>\n",
       "      <th>Season_year_winter_2014</th>\n",
       "      <td>seasonality_XGB50_byTCRfeatures_optByAUC/</td>\n",
       "      <td>0.515292</td>\n",
       "      <td>0.109339</td>\n",
       "      <td>0.108845</td>\n",
       "      <td>-0.010878</td>\n",
       "    </tr>\n",
       "    <tr>\n",
       "      <th>Month_year_7_2014</th>\n",
       "      <td>seasonality_XGB50_byTCRfeatures_optByAUC/</td>\n",
       "      <td>0.513333</td>\n",
       "      <td>0.056948</td>\n",
       "      <td>0.056559</td>\n",
       "      <td>0.000000</td>\n",
       "    </tr>\n",
       "    <tr>\n",
       "      <th>Season_year_summer_2015</th>\n",
       "      <td>seasonality_XGB_byTCRfeatures_optByAUC</td>\n",
       "      <td>0.512328</td>\n",
       "      <td>0.154897</td>\n",
       "      <td>0.152552</td>\n",
       "      <td>0.000000</td>\n",
       "    </tr>\n",
       "    <tr>\n",
       "      <th>Month_12</th>\n",
       "      <td>seasonality_XGB50_byTCRfeatures_optByAUC/</td>\n",
       "      <td>0.506494</td>\n",
       "      <td>0.123007</td>\n",
       "      <td>0.143750</td>\n",
       "      <td>0.033847</td>\n",
       "    </tr>\n",
       "    <tr>\n",
       "      <th>Year_2013</th>\n",
       "      <td>seasonality_XGB50_byTCRfeatures_optByAUC/</td>\n",
       "      <td>0.505990</td>\n",
       "      <td>0.113895</td>\n",
       "      <td>0.140663</td>\n",
       "      <td>0.038764</td>\n",
       "    </tr>\n",
       "    <tr>\n",
       "      <th>Month_year_6_2015</th>\n",
       "      <td>seasonality_XGB50_byTCRfeatures_optByAUC/</td>\n",
       "      <td>0.505178</td>\n",
       "      <td>0.050114</td>\n",
       "      <td>0.049755</td>\n",
       "      <td>0.000000</td>\n",
       "    </tr>\n",
       "    <tr>\n",
       "      <th>Month_12</th>\n",
       "      <td>seasonality_XGB_byTCRfeatures_optByAUC</td>\n",
       "      <td>0.503704</td>\n",
       "      <td>0.123007</td>\n",
       "      <td>0.140535</td>\n",
       "      <td>-0.004493</td>\n",
       "    </tr>\n",
       "    <tr>\n",
       "      <th>Season_year_winter_2013</th>\n",
       "      <td>seasonality_XGB_byTCRfeatures_optByAUC</td>\n",
       "      <td>0.503253</td>\n",
       "      <td>0.079727</td>\n",
       "      <td>0.117855</td>\n",
       "      <td>0.000000</td>\n",
       "    </tr>\n",
       "    <tr>\n",
       "      <th>Month_8</th>\n",
       "      <td>seasonality_XGB_byTCRfeatures_optByAUC</td>\n",
       "      <td>0.500069</td>\n",
       "      <td>0.082005</td>\n",
       "      <td>0.078893</td>\n",
       "      <td>0.000000</td>\n",
       "    </tr>\n",
       "    <tr>\n",
       "      <th>Month_year_5_2014</th>\n",
       "      <td>seasonality_XGB50_byTCRfeatures_optByAUC/</td>\n",
       "      <td>0.497874</td>\n",
       "      <td>0.056948</td>\n",
       "      <td>0.104685</td>\n",
       "      <td>0.059957</td>\n",
       "    </tr>\n",
       "    <tr>\n",
       "      <th>Month_5</th>\n",
       "      <td>seasonality_XGB_byTCRfeatures_optByAUC</td>\n",
       "      <td>0.491358</td>\n",
       "      <td>0.141230</td>\n",
       "      <td>0.130173</td>\n",
       "      <td>0.000000</td>\n",
       "    </tr>\n",
       "    <tr>\n",
       "      <th>Month_year_12_2013</th>\n",
       "      <td>seasonality_XGB_byTCRfeatures_optByAUC</td>\n",
       "      <td>0.489356</td>\n",
       "      <td>0.079727</td>\n",
       "      <td>0.092701</td>\n",
       "      <td>0.000000</td>\n",
       "    </tr>\n",
       "    <tr>\n",
       "      <th>Month_6</th>\n",
       "      <td>seasonality_XGB_byTCRfeatures_optByAUC</td>\n",
       "      <td>0.489246</td>\n",
       "      <td>0.111617</td>\n",
       "      <td>0.105073</td>\n",
       "      <td>0.000000</td>\n",
       "    </tr>\n",
       "    <tr>\n",
       "      <th>Month_2</th>\n",
       "      <td>seasonality_XGB_byTCRfeatures_optByAUC</td>\n",
       "      <td>0.489103</td>\n",
       "      <td>0.075171</td>\n",
       "      <td>0.077670</td>\n",
       "      <td>0.000000</td>\n",
       "    </tr>\n",
       "    <tr>\n",
       "      <th>Month_year_5_2014</th>\n",
       "      <td>seasonality_XGB_byTCRfeatures_optByAUC</td>\n",
       "      <td>0.488792</td>\n",
       "      <td>0.056948</td>\n",
       "      <td>0.097868</td>\n",
       "      <td>0.000000</td>\n",
       "    </tr>\n",
       "    <tr>\n",
       "      <th>Month_4</th>\n",
       "      <td>seasonality_XGB50_byTCRfeatures_optByAUC/</td>\n",
       "      <td>0.482264</td>\n",
       "      <td>0.072893</td>\n",
       "      <td>0.067824</td>\n",
       "      <td>-0.023561</td>\n",
       "    </tr>\n",
       "    <tr>\n",
       "      <th>Season_year_summer_2015</th>\n",
       "      <td>seasonality_XGB50_byTCRfeatures_optByAUC/</td>\n",
       "      <td>0.473680</td>\n",
       "      <td>0.154897</td>\n",
       "      <td>0.144576</td>\n",
       "      <td>-0.002314</td>\n",
       "    </tr>\n",
       "    <tr>\n",
       "      <th>Season_winter</th>\n",
       "      <td>seasonality_XGB50_byTCRfeatures_optByAUC/</td>\n",
       "      <td>0.472665</td>\n",
       "      <td>0.234624</td>\n",
       "      <td>0.224443</td>\n",
       "      <td>0.010479</td>\n",
       "    </tr>\n",
       "    <tr>\n",
       "      <th>Month_5</th>\n",
       "      <td>seasonality_XGB50_byTCRfeatures_optByAUC/</td>\n",
       "      <td>0.469667</td>\n",
       "      <td>0.141230</td>\n",
       "      <td>0.132049</td>\n",
       "      <td>0.000340</td>\n",
       "    </tr>\n",
       "    <tr>\n",
       "      <th>Season_winter</th>\n",
       "      <td>seasonality_XGB_byTCRfeatures_optByAUC</td>\n",
       "      <td>0.463231</td>\n",
       "      <td>0.234624</td>\n",
       "      <td>0.207835</td>\n",
       "      <td>-0.025784</td>\n",
       "    </tr>\n",
       "    <tr>\n",
       "      <th>Month_2</th>\n",
       "      <td>seasonality_XGB50_byTCRfeatures_optByAUC/</td>\n",
       "      <td>0.447156</td>\n",
       "      <td>0.075171</td>\n",
       "      <td>0.064278</td>\n",
       "      <td>-0.020181</td>\n",
       "    </tr>\n",
       "    <tr>\n",
       "      <th>Month_6</th>\n",
       "      <td>seasonality_XGB50_byTCRfeatures_optByAUC/</td>\n",
       "      <td>0.434485</td>\n",
       "      <td>0.111617</td>\n",
       "      <td>0.090781</td>\n",
       "      <td>-0.008832</td>\n",
       "    </tr>\n",
       "  </tbody>\n",
       "</table>\n",
       "<p>68 rows × 5 columns</p>\n",
       "</div>"
      ],
      "text/plain": [
       "                                                               dir       AUC  prevalence  Precision_Recall     kappa\n",
       "index                                                                                                               \n",
       "Month_year_3_2015        seasonality_XGB_byTCRfeatures_optByAUC     0.822211  0.063781    0.210682          0.000000\n",
       "Month_year_3_2015        seasonality_XGB50_byTCRfeatures_optByAUC/  0.800400  0.063781    0.189469          0.110822\n",
       "Season_year_spring_2015  seasonality_XGB50_byTCRfeatures_optByAUC/  0.768074  0.063781    0.152737          0.047309\n",
       "Season_year_spring_2015  seasonality_XGB_byTCRfeatures_optByAUC     0.750782  0.063781    0.178473          0.000000\n",
       "Month_year_2_2014        seasonality_XGB50_byTCRfeatures_optByAUC/  0.722554  0.045558    0.089936         -0.004358\n",
       "Year_2015                seasonality_XGB_byTCRfeatures_optByAUC     0.719015  0.389522    0.654118          0.306010\n",
       "Year_2015                seasonality_XGB50_byTCRfeatures_optByAUC/  0.701820  0.389522    0.629934          0.335552\n",
       "Month_year_4_2015        seasonality_XGB_byTCRfeatures_optByAUC     0.701256  0.056948    0.092880          0.000000\n",
       "Year_2014                seasonality_XGB_byTCRfeatures_optByAUC     0.643585  0.432802    0.549335          0.159315\n",
       "Season_year_automn_2014  seasonality_XGB50_byTCRfeatures_optByAUC/  0.636935  0.109339    0.197784          0.026696\n",
       "Year_2014                seasonality_XGB50_byTCRfeatures_optByAUC/  0.624857  0.432802    0.542955          0.144765\n",
       "Month_year_2_2014        seasonality_XGB_byTCRfeatures_optByAUC     0.623389  0.045558    0.073164          0.000000\n",
       "Month_year_12_2013       seasonality_XGB50_byTCRfeatures_optByAUC/  0.620721  0.079727    0.183866          0.093856\n",
       "Season_year_automn_2015  seasonality_XGB_byTCRfeatures_optByAUC     0.612015  0.127563    0.174663          0.000000\n",
       "Month_3                  seasonality_XGB_byTCRfeatures_optByAUC     0.607604  0.150342    0.229641         -0.004508\n",
       "Season_spring            seasonality_XGB_byTCRfeatures_optByAUC     0.604781  0.150342    0.213706         -0.004508\n",
       "Month_year_4_2015        seasonality_XGB50_byTCRfeatures_optByAUC/  0.603527  0.056948    0.083216         -0.004400\n",
       "Season_year_automn_2014  seasonality_XGB_byTCRfeatures_optByAUC     0.599371  0.109339    0.179081          0.000000\n",
       "Season_year_winter_2013  seasonality_XGB50_byTCRfeatures_optByAUC/  0.593989  0.079727    0.179484          0.093856\n",
       "Season_year_summer_2014  seasonality_XGB_byTCRfeatures_optByAUC     0.582048  0.175399    0.293434          0.057751\n",
       "Month_7                  seasonality_XGB50_byTCRfeatures_optByAUC/  0.579562  0.152620    0.224600          0.093953\n",
       "Season_year_summer_2014  seasonality_XGB50_byTCRfeatures_optByAUC/  0.578747  0.175399    0.251569          0.122067\n",
       "Season_spring            seasonality_XGB50_byTCRfeatures_optByAUC/  0.576611  0.150342    0.206280          0.068406\n",
       "Month_3                  seasonality_XGB50_byTCRfeatures_optByAUC/  0.574945  0.150342    0.194853          0.036537\n",
       "Season_year_winter_2014  seasonality_XGB_byTCRfeatures_optByAUC     0.572224  0.109339    0.169597          0.100250\n",
       "Season_summer            seasonality_XGB_byTCRfeatures_optByAUC     0.571658  0.346241    0.416484          0.051281\n",
       "Month_year_5_2015        seasonality_XGB50_byTCRfeatures_optByAUC/  0.571157  0.070615    0.097562         -0.012619\n",
       "Season_year_automn_2015  seasonality_XGB50_byTCRfeatures_optByAUC/  0.568165  0.127563    0.154874         -0.025315\n",
       "Month_year_6_2014        seasonality_XGB50_byTCRfeatures_optByAUC/  0.567871  0.061503    0.074605          0.000000\n",
       "Month_year_5_2015        seasonality_XGB_byTCRfeatures_optByAUC     0.566532  0.070615    0.090175          0.000000\n",
       "...                                                            ...       ...       ...         ...               ...\n",
       "Month_8                  seasonality_XGB50_byTCRfeatures_optByAUC/  0.547836  0.082005    0.088489         -0.012777\n",
       "Season_automn            seasonality_XGB50_byTCRfeatures_optByAUC/  0.546755  0.268793    0.327276          0.104429\n",
       "Month_year_7_2015        seasonality_XGB50_byTCRfeatures_optByAUC/  0.542941  0.095672    0.119711          0.066096\n",
       "Month_year_7_2014        seasonality_XGB_byTCRfeatures_optByAUC     0.538986  0.056948    0.066469          0.000000\n",
       "Month_year_8_2014        seasonality_XGB_byTCRfeatures_optByAUC     0.537295  0.056948    0.059745          0.000000\n",
       "Year_2013                seasonality_XGB_byTCRfeatures_optByAUC     0.529614  0.113895    0.141218          0.000000\n",
       "Month_4                  seasonality_XGB_byTCRfeatures_optByAUC     0.527411  0.072893    0.085382          0.000000\n",
       "Month_year_7_2015        seasonality_XGB_byTCRfeatures_optByAUC     0.527288  0.095672    0.105600         -0.004470\n",
       "Season_year_winter_2014  seasonality_XGB50_byTCRfeatures_optByAUC/  0.515292  0.109339    0.108845         -0.010878\n",
       "Month_year_7_2014        seasonality_XGB50_byTCRfeatures_optByAUC/  0.513333  0.056948    0.056559          0.000000\n",
       "Season_year_summer_2015  seasonality_XGB_byTCRfeatures_optByAUC     0.512328  0.154897    0.152552          0.000000\n",
       "Month_12                 seasonality_XGB50_byTCRfeatures_optByAUC/  0.506494  0.123007    0.143750          0.033847\n",
       "Year_2013                seasonality_XGB50_byTCRfeatures_optByAUC/  0.505990  0.113895    0.140663          0.038764\n",
       "Month_year_6_2015        seasonality_XGB50_byTCRfeatures_optByAUC/  0.505178  0.050114    0.049755          0.000000\n",
       "Month_12                 seasonality_XGB_byTCRfeatures_optByAUC     0.503704  0.123007    0.140535         -0.004493\n",
       "Season_year_winter_2013  seasonality_XGB_byTCRfeatures_optByAUC     0.503253  0.079727    0.117855          0.000000\n",
       "Month_8                  seasonality_XGB_byTCRfeatures_optByAUC     0.500069  0.082005    0.078893          0.000000\n",
       "Month_year_5_2014        seasonality_XGB50_byTCRfeatures_optByAUC/  0.497874  0.056948    0.104685          0.059957\n",
       "Month_5                  seasonality_XGB_byTCRfeatures_optByAUC     0.491358  0.141230    0.130173          0.000000\n",
       "Month_year_12_2013       seasonality_XGB_byTCRfeatures_optByAUC     0.489356  0.079727    0.092701          0.000000\n",
       "Month_6                  seasonality_XGB_byTCRfeatures_optByAUC     0.489246  0.111617    0.105073          0.000000\n",
       "Month_2                  seasonality_XGB_byTCRfeatures_optByAUC     0.489103  0.075171    0.077670          0.000000\n",
       "Month_year_5_2014        seasonality_XGB_byTCRfeatures_optByAUC     0.488792  0.056948    0.097868          0.000000\n",
       "Month_4                  seasonality_XGB50_byTCRfeatures_optByAUC/  0.482264  0.072893    0.067824         -0.023561\n",
       "Season_year_summer_2015  seasonality_XGB50_byTCRfeatures_optByAUC/  0.473680  0.154897    0.144576         -0.002314\n",
       "Season_winter            seasonality_XGB50_byTCRfeatures_optByAUC/  0.472665  0.234624    0.224443          0.010479\n",
       "Month_5                  seasonality_XGB50_byTCRfeatures_optByAUC/  0.469667  0.141230    0.132049          0.000340\n",
       "Season_winter            seasonality_XGB_byTCRfeatures_optByAUC     0.463231  0.234624    0.207835         -0.025784\n",
       "Month_2                  seasonality_XGB50_byTCRfeatures_optByAUC/  0.447156  0.075171    0.064278         -0.020181\n",
       "Month_6                  seasonality_XGB50_byTCRfeatures_optByAUC/  0.434485  0.111617    0.090781         -0.008832\n",
       "\n",
       "[68 rows x 5 columns]"
      ]
     },
     "execution_count": 7,
     "metadata": {},
     "output_type": "execute_result"
    }
   ],
   "source": [
    "AUC_threshold=0.6\n",
    "kappa_threshold=0.2\n",
    "r_threshold=0\n",
    "p_r_threshold=0.05\n",
    "\n",
    "pd.set_option('display.max_colwidth', -1)\n",
    "\n",
    "dir1='/net/mraid08/export/jafar/Microbiome/Analyses/ShaniBAF/predictions2/seasonality/'\n",
    "prediction_dirs=['seasonality_XGB50_byTCRfeatures_optByAUC/',\n",
    "                 'seasonality_XGB_byTCRfeatures_optByAUC']\n",
    "\n",
    "summaryDF=pd.DataFrame()\n",
    "problematic_dirs=[]\n",
    "for pred_dir in prediction_dirs:\n",
    "#     f2=dir1+pred_dir+'/predictions_df.pkl'\n",
    "#     predDF=pd.read_pickle(f2)\n",
    "#     print ('predDF shape=',predDF.shape)\n",
    "#     print predDF.tail(10)\n",
    "    \n",
    "    f1=dir1+pred_dir+'/results_df.pkl'\n",
    "#     print d\n",
    "    try:\n",
    "        df= pd.read_pickle(f1)\n",
    "        df['dir']=pred_dir.replace('Acute_medication_phenotypes_','')\n",
    "        summaryDF=pd.concat([summaryDF,df])\n",
    "    except:\n",
    "        print ' couldnt get results from %s' %pred_dir\n",
    "        problematic_dirs.append(pred_dir)\n",
    "    print pred_dir\n",
    "    print ('results_df.shape: ',df.shape)\n",
    "#     print df.head()\n",
    "        \n",
    "print ('number of problematic dirs=',len(problematic_dirs))\n",
    "\n",
    "interesting_cols=['dir','AUC','prevalence','Precision_Recall','kappa']\n",
    "summaryDF=summaryDF.reset_index().sort_values(by=['AUC'],ascending=False).set_index('index')[interesting_cols]\n",
    "\n",
    "summaryDF"
   ]
  },
  {
   "cell_type": "markdown",
   "metadata": {},
   "source": [
    "## PNP530-by clusters:"
   ]
  },
  {
   "cell_type": "code",
   "execution_count": 4,
   "metadata": {
    "ExecuteTime": {
     "end_time": "2019-04-22T15:37:30.877306Z",
     "start_time": "2019-04-22T15:37:30.807016Z"
    }
   },
   "outputs": [
    {
     "name": "stdout",
     "output_type": "stream",
     "text": [
      "seasonality_XGB500_byTCRclusters_optByAUC/\n",
      "('results_df.shape: ', (34, 14))\n",
      "('number of problematic dirs=', 0)\n"
     ]
    },
    {
     "data": {
      "text/html": [
       "<div>\n",
       "<style scoped>\n",
       "    .dataframe tbody tr th:only-of-type {\n",
       "        vertical-align: middle;\n",
       "    }\n",
       "\n",
       "    .dataframe tbody tr th {\n",
       "        vertical-align: top;\n",
       "    }\n",
       "\n",
       "    .dataframe thead th {\n",
       "        text-align: right;\n",
       "    }\n",
       "</style>\n",
       "<table border=\"1\" class=\"dataframe\">\n",
       "  <thead>\n",
       "    <tr style=\"text-align: right;\">\n",
       "      <th></th>\n",
       "      <th>dir</th>\n",
       "      <th>AUC</th>\n",
       "      <th>prevalence</th>\n",
       "      <th>Precision_Recall</th>\n",
       "      <th>kappa</th>\n",
       "    </tr>\n",
       "    <tr>\n",
       "      <th>index</th>\n",
       "      <th></th>\n",
       "      <th></th>\n",
       "      <th></th>\n",
       "      <th></th>\n",
       "      <th></th>\n",
       "    </tr>\n",
       "  </thead>\n",
       "  <tbody>\n",
       "    <tr>\n",
       "      <th>Year_2013</th>\n",
       "      <td>seasonality_XGB500_byTCRclusters_optByAUC/</td>\n",
       "      <td>0.640206</td>\n",
       "      <td>0.113895</td>\n",
       "      <td>0.197829</td>\n",
       "      <td>0.058182</td>\n",
       "    </tr>\n",
       "    <tr>\n",
       "      <th>Month_year_6_2014</th>\n",
       "      <td>seasonality_XGB500_byTCRclusters_optByAUC/</td>\n",
       "      <td>0.611561</td>\n",
       "      <td>0.061503</td>\n",
       "      <td>0.208530</td>\n",
       "      <td>0.130555</td>\n",
       "    </tr>\n",
       "    <tr>\n",
       "      <th>Season_year_spring_2015</th>\n",
       "      <td>seasonality_XGB500_byTCRclusters_optByAUC/</td>\n",
       "      <td>0.605057</td>\n",
       "      <td>0.063781</td>\n",
       "      <td>0.089872</td>\n",
       "      <td>0.000000</td>\n",
       "    </tr>\n",
       "    <tr>\n",
       "      <th>Month_year_3_2015</th>\n",
       "      <td>seasonality_XGB500_byTCRclusters_optByAUC/</td>\n",
       "      <td>0.597410</td>\n",
       "      <td>0.063781</td>\n",
       "      <td>0.087316</td>\n",
       "      <td>0.000000</td>\n",
       "    </tr>\n",
       "    <tr>\n",
       "      <th>Month_7</th>\n",
       "      <td>seasonality_XGB500_byTCRclusters_optByAUC/</td>\n",
       "      <td>0.586222</td>\n",
       "      <td>0.152620</td>\n",
       "      <td>0.195107</td>\n",
       "      <td>0.012815</td>\n",
       "    </tr>\n",
       "    <tr>\n",
       "      <th>Month_8</th>\n",
       "      <td>seasonality_XGB500_byTCRclusters_optByAUC/</td>\n",
       "      <td>0.584919</td>\n",
       "      <td>0.082005</td>\n",
       "      <td>0.125147</td>\n",
       "      <td>-0.004452</td>\n",
       "    </tr>\n",
       "    <tr>\n",
       "      <th>Season_year_summer_2014</th>\n",
       "      <td>seasonality_XGB500_byTCRclusters_optByAUC/</td>\n",
       "      <td>0.584344</td>\n",
       "      <td>0.175399</td>\n",
       "      <td>0.278283</td>\n",
       "      <td>0.048151</td>\n",
       "    </tr>\n",
       "    <tr>\n",
       "      <th>Month_year_8_2014</th>\n",
       "      <td>seasonality_XGB500_byTCRclusters_optByAUC/</td>\n",
       "      <td>0.567923</td>\n",
       "      <td>0.056948</td>\n",
       "      <td>0.064203</td>\n",
       "      <td>0.000000</td>\n",
       "    </tr>\n",
       "    <tr>\n",
       "      <th>Month_year_2_2014</th>\n",
       "      <td>seasonality_XGB500_byTCRclusters_optByAUC/</td>\n",
       "      <td>0.562888</td>\n",
       "      <td>0.045558</td>\n",
       "      <td>0.063905</td>\n",
       "      <td>-0.004358</td>\n",
       "    </tr>\n",
       "    <tr>\n",
       "      <th>Month_year_7_2014</th>\n",
       "      <td>seasonality_XGB500_byTCRclusters_optByAUC/</td>\n",
       "      <td>0.550725</td>\n",
       "      <td>0.056948</td>\n",
       "      <td>0.065807</td>\n",
       "      <td>0.054106</td>\n",
       "    </tr>\n",
       "    <tr>\n",
       "      <th>Season_year_automn_2014</th>\n",
       "      <td>seasonality_XGB500_byTCRclusters_optByAUC/</td>\n",
       "      <td>0.550405</td>\n",
       "      <td>0.109339</td>\n",
       "      <td>0.119901</td>\n",
       "      <td>-0.035763</td>\n",
       "    </tr>\n",
       "    <tr>\n",
       "      <th>Season_summer</th>\n",
       "      <td>seasonality_XGB500_byTCRclusters_optByAUC/</td>\n",
       "      <td>0.549308</td>\n",
       "      <td>0.346241</td>\n",
       "      <td>0.448092</td>\n",
       "      <td>0.109511</td>\n",
       "    </tr>\n",
       "    <tr>\n",
       "      <th>Month_year_5_2015</th>\n",
       "      <td>seasonality_XGB500_byTCRclusters_optByAUC/</td>\n",
       "      <td>0.540481</td>\n",
       "      <td>0.070615</td>\n",
       "      <td>0.071408</td>\n",
       "      <td>0.000000</td>\n",
       "    </tr>\n",
       "    <tr>\n",
       "      <th>Month_4</th>\n",
       "      <td>seasonality_XGB500_byTCRclusters_optByAUC/</td>\n",
       "      <td>0.536394</td>\n",
       "      <td>0.072893</td>\n",
       "      <td>0.080431</td>\n",
       "      <td>0.000000</td>\n",
       "    </tr>\n",
       "    <tr>\n",
       "      <th>Season_year_automn_2015</th>\n",
       "      <td>seasonality_XGB500_byTCRclusters_optByAUC/</td>\n",
       "      <td>0.527602</td>\n",
       "      <td>0.127563</td>\n",
       "      <td>0.139706</td>\n",
       "      <td>0.021201</td>\n",
       "    </tr>\n",
       "    <tr>\n",
       "      <th>Month_year_7_2015</th>\n",
       "      <td>seasonality_XGB500_byTCRclusters_optByAUC/</td>\n",
       "      <td>0.514034</td>\n",
       "      <td>0.095672</td>\n",
       "      <td>0.095925</td>\n",
       "      <td>-0.004470</td>\n",
       "    </tr>\n",
       "    <tr>\n",
       "      <th>Month_2</th>\n",
       "      <td>seasonality_XGB500_byTCRclusters_optByAUC/</td>\n",
       "      <td>0.513435</td>\n",
       "      <td>0.075171</td>\n",
       "      <td>0.080405</td>\n",
       "      <td>0.000000</td>\n",
       "    </tr>\n",
       "    <tr>\n",
       "      <th>Year_2014</th>\n",
       "      <td>seasonality_XGB500_byTCRclusters_optByAUC/</td>\n",
       "      <td>0.508434</td>\n",
       "      <td>0.432802</td>\n",
       "      <td>0.475859</td>\n",
       "      <td>0.033071</td>\n",
       "    </tr>\n",
       "    <tr>\n",
       "      <th>Season_winter</th>\n",
       "      <td>seasonality_XGB500_byTCRclusters_optByAUC/</td>\n",
       "      <td>0.502918</td>\n",
       "      <td>0.234624</td>\n",
       "      <td>0.260315</td>\n",
       "      <td>0.006966</td>\n",
       "    </tr>\n",
       "    <tr>\n",
       "      <th>Year_2015</th>\n",
       "      <td>seasonality_XGB500_byTCRclusters_optByAUC/</td>\n",
       "      <td>0.502182</td>\n",
       "      <td>0.389522</td>\n",
       "      <td>0.378222</td>\n",
       "      <td>-0.054265</td>\n",
       "    </tr>\n",
       "    <tr>\n",
       "      <th>Month_3</th>\n",
       "      <td>seasonality_XGB500_byTCRclusters_optByAUC/</td>\n",
       "      <td>0.501300</td>\n",
       "      <td>0.150342</td>\n",
       "      <td>0.157624</td>\n",
       "      <td>-0.004508</td>\n",
       "    </tr>\n",
       "    <tr>\n",
       "      <th>Month_5</th>\n",
       "      <td>seasonality_XGB500_byTCRclusters_optByAUC/</td>\n",
       "      <td>0.496150</td>\n",
       "      <td>0.141230</td>\n",
       "      <td>0.144298</td>\n",
       "      <td>-0.008905</td>\n",
       "    </tr>\n",
       "    <tr>\n",
       "      <th>Month_9</th>\n",
       "      <td>seasonality_XGB500_byTCRclusters_optByAUC/</td>\n",
       "      <td>0.493976</td>\n",
       "      <td>0.054670</td>\n",
       "      <td>0.056071</td>\n",
       "      <td>-0.004393</td>\n",
       "    </tr>\n",
       "    <tr>\n",
       "      <th>Season_spring</th>\n",
       "      <td>seasonality_XGB500_byTCRclusters_optByAUC/</td>\n",
       "      <td>0.485214</td>\n",
       "      <td>0.150342</td>\n",
       "      <td>0.146687</td>\n",
       "      <td>0.000000</td>\n",
       "    </tr>\n",
       "    <tr>\n",
       "      <th>Month_6</th>\n",
       "      <td>seasonality_XGB500_byTCRclusters_optByAUC/</td>\n",
       "      <td>0.474202</td>\n",
       "      <td>0.111617</td>\n",
       "      <td>0.148417</td>\n",
       "      <td>0.030730</td>\n",
       "    </tr>\n",
       "    <tr>\n",
       "      <th>Month_12</th>\n",
       "      <td>seasonality_XGB500_byTCRclusters_optByAUC/</td>\n",
       "      <td>0.471236</td>\n",
       "      <td>0.123007</td>\n",
       "      <td>0.136173</td>\n",
       "      <td>-0.004493</td>\n",
       "    </tr>\n",
       "    <tr>\n",
       "      <th>Season_automn</th>\n",
       "      <td>seasonality_XGB500_byTCRclusters_optByAUC/</td>\n",
       "      <td>0.468874</td>\n",
       "      <td>0.268793</td>\n",
       "      <td>0.263873</td>\n",
       "      <td>0.025527</td>\n",
       "    </tr>\n",
       "    <tr>\n",
       "      <th>Season_year_winter_2014</th>\n",
       "      <td>seasonality_XGB500_byTCRclusters_optByAUC/</td>\n",
       "      <td>0.458706</td>\n",
       "      <td>0.109339</td>\n",
       "      <td>0.097296</td>\n",
       "      <td>0.000000</td>\n",
       "    </tr>\n",
       "    <tr>\n",
       "      <th>Season_year_winter_2013</th>\n",
       "      <td>seasonality_XGB500_byTCRclusters_optByAUC/</td>\n",
       "      <td>0.457214</td>\n",
       "      <td>0.079727</td>\n",
       "      <td>0.085821</td>\n",
       "      <td>-0.008694</td>\n",
       "    </tr>\n",
       "    <tr>\n",
       "      <th>Month_year_6_2015</th>\n",
       "      <td>seasonality_XGB500_byTCRclusters_optByAUC/</td>\n",
       "      <td>0.442555</td>\n",
       "      <td>0.050114</td>\n",
       "      <td>0.042628</td>\n",
       "      <td>0.000000</td>\n",
       "    </tr>\n",
       "    <tr>\n",
       "      <th>Month_year_12_2013</th>\n",
       "      <td>seasonality_XGB500_byTCRclusters_optByAUC/</td>\n",
       "      <td>0.405233</td>\n",
       "      <td>0.079727</td>\n",
       "      <td>0.102202</td>\n",
       "      <td>0.051354</td>\n",
       "    </tr>\n",
       "    <tr>\n",
       "      <th>Month_year_4_2015</th>\n",
       "      <td>seasonality_XGB500_byTCRclusters_optByAUC/</td>\n",
       "      <td>0.403188</td>\n",
       "      <td>0.056948</td>\n",
       "      <td>0.044768</td>\n",
       "      <td>-0.004400</td>\n",
       "    </tr>\n",
       "    <tr>\n",
       "      <th>Month_year_5_2014</th>\n",
       "      <td>seasonality_XGB500_byTCRclusters_optByAUC/</td>\n",
       "      <td>0.391498</td>\n",
       "      <td>0.056948</td>\n",
       "      <td>0.045402</td>\n",
       "      <td>-0.004400</td>\n",
       "    </tr>\n",
       "    <tr>\n",
       "      <th>Season_year_summer_2015</th>\n",
       "      <td>seasonality_XGB500_byTCRclusters_optByAUC/</td>\n",
       "      <td>0.374425</td>\n",
       "      <td>0.154897</td>\n",
       "      <td>0.118291</td>\n",
       "      <td>0.000000</td>\n",
       "    </tr>\n",
       "  </tbody>\n",
       "</table>\n",
       "</div>"
      ],
      "text/plain": [
       "                                                                dir       AUC  prevalence  Precision_Recall     kappa\n",
       "index                                                                                                                \n",
       "Year_2013                seasonality_XGB500_byTCRclusters_optByAUC/  0.640206  0.113895    0.197829          0.058182\n",
       "Month_year_6_2014        seasonality_XGB500_byTCRclusters_optByAUC/  0.611561  0.061503    0.208530          0.130555\n",
       "Season_year_spring_2015  seasonality_XGB500_byTCRclusters_optByAUC/  0.605057  0.063781    0.089872          0.000000\n",
       "Month_year_3_2015        seasonality_XGB500_byTCRclusters_optByAUC/  0.597410  0.063781    0.087316          0.000000\n",
       "Month_7                  seasonality_XGB500_byTCRclusters_optByAUC/  0.586222  0.152620    0.195107          0.012815\n",
       "Month_8                  seasonality_XGB500_byTCRclusters_optByAUC/  0.584919  0.082005    0.125147         -0.004452\n",
       "Season_year_summer_2014  seasonality_XGB500_byTCRclusters_optByAUC/  0.584344  0.175399    0.278283          0.048151\n",
       "Month_year_8_2014        seasonality_XGB500_byTCRclusters_optByAUC/  0.567923  0.056948    0.064203          0.000000\n",
       "Month_year_2_2014        seasonality_XGB500_byTCRclusters_optByAUC/  0.562888  0.045558    0.063905         -0.004358\n",
       "Month_year_7_2014        seasonality_XGB500_byTCRclusters_optByAUC/  0.550725  0.056948    0.065807          0.054106\n",
       "Season_year_automn_2014  seasonality_XGB500_byTCRclusters_optByAUC/  0.550405  0.109339    0.119901         -0.035763\n",
       "Season_summer            seasonality_XGB500_byTCRclusters_optByAUC/  0.549308  0.346241    0.448092          0.109511\n",
       "Month_year_5_2015        seasonality_XGB500_byTCRclusters_optByAUC/  0.540481  0.070615    0.071408          0.000000\n",
       "Month_4                  seasonality_XGB500_byTCRclusters_optByAUC/  0.536394  0.072893    0.080431          0.000000\n",
       "Season_year_automn_2015  seasonality_XGB500_byTCRclusters_optByAUC/  0.527602  0.127563    0.139706          0.021201\n",
       "Month_year_7_2015        seasonality_XGB500_byTCRclusters_optByAUC/  0.514034  0.095672    0.095925         -0.004470\n",
       "Month_2                  seasonality_XGB500_byTCRclusters_optByAUC/  0.513435  0.075171    0.080405          0.000000\n",
       "Year_2014                seasonality_XGB500_byTCRclusters_optByAUC/  0.508434  0.432802    0.475859          0.033071\n",
       "Season_winter            seasonality_XGB500_byTCRclusters_optByAUC/  0.502918  0.234624    0.260315          0.006966\n",
       "Year_2015                seasonality_XGB500_byTCRclusters_optByAUC/  0.502182  0.389522    0.378222         -0.054265\n",
       "Month_3                  seasonality_XGB500_byTCRclusters_optByAUC/  0.501300  0.150342    0.157624         -0.004508\n",
       "Month_5                  seasonality_XGB500_byTCRclusters_optByAUC/  0.496150  0.141230    0.144298         -0.008905\n",
       "Month_9                  seasonality_XGB500_byTCRclusters_optByAUC/  0.493976  0.054670    0.056071         -0.004393\n",
       "Season_spring            seasonality_XGB500_byTCRclusters_optByAUC/  0.485214  0.150342    0.146687          0.000000\n",
       "Month_6                  seasonality_XGB500_byTCRclusters_optByAUC/  0.474202  0.111617    0.148417          0.030730\n",
       "Month_12                 seasonality_XGB500_byTCRclusters_optByAUC/  0.471236  0.123007    0.136173         -0.004493\n",
       "Season_automn            seasonality_XGB500_byTCRclusters_optByAUC/  0.468874  0.268793    0.263873          0.025527\n",
       "Season_year_winter_2014  seasonality_XGB500_byTCRclusters_optByAUC/  0.458706  0.109339    0.097296          0.000000\n",
       "Season_year_winter_2013  seasonality_XGB500_byTCRclusters_optByAUC/  0.457214  0.079727    0.085821         -0.008694\n",
       "Month_year_6_2015        seasonality_XGB500_byTCRclusters_optByAUC/  0.442555  0.050114    0.042628          0.000000\n",
       "Month_year_12_2013       seasonality_XGB500_byTCRclusters_optByAUC/  0.405233  0.079727    0.102202          0.051354\n",
       "Month_year_4_2015        seasonality_XGB500_byTCRclusters_optByAUC/  0.403188  0.056948    0.044768         -0.004400\n",
       "Month_year_5_2014        seasonality_XGB500_byTCRclusters_optByAUC/  0.391498  0.056948    0.045402         -0.004400\n",
       "Season_year_summer_2015  seasonality_XGB500_byTCRclusters_optByAUC/  0.374425  0.154897    0.118291          0.000000"
      ]
     },
     "execution_count": 4,
     "metadata": {},
     "output_type": "execute_result"
    }
   ],
   "source": [
    "AUC_threshold=0.6\n",
    "kappa_threshold=0.2\n",
    "r_threshold=0\n",
    "p_r_threshold=0.05\n",
    "\n",
    "pd.set_option('display.max_colwidth', -1)\n",
    "\n",
    "dir1='/net/mraid08/export/jafar/Microbiome/Analyses/ShaniBAF/predictions2/seasonality/'\n",
    "prediction_dirs=['seasonality_XGB500_byTCRclusters_optByAUC/',\n",
    "                ]\n",
    "\n",
    "summaryDF=pd.DataFrame()\n",
    "problematic_dirs=[]\n",
    "for pred_dir in prediction_dirs:\n",
    "#     f2=dir1+pred_dir+'/predictions_df.pkl'\n",
    "#     predDF=pd.read_pickle(f2)\n",
    "#     print ('predDF shape=',predDF.shape)\n",
    "#     print predDF.tail(10)\n",
    "    \n",
    "    f1=dir1+pred_dir+'/results_df.pkl'\n",
    "#     print d\n",
    "    try:\n",
    "        df= pd.read_pickle(f1)\n",
    "        df['dir']=pred_dir.replace('Acute_medication_phenotypes_','')\n",
    "        summaryDF=pd.concat([summaryDF,df])\n",
    "    except:\n",
    "        print ' couldnt get results from %s' %pred_dir\n",
    "        problematic_dirs.append(pred_dir)\n",
    "    print pred_dir\n",
    "    print ('results_df.shape: ',df.shape)\n",
    "#     print df.head()\n",
    "        \n",
    "print ('number of problematic dirs=',len(problematic_dirs))\n",
    "\n",
    "interesting_cols=['dir','AUC','prevalence','Precision_Recall','kappa']\n",
    "summaryDF=summaryDF.reset_index().sort_values(by=['AUC'],ascending=False).set_index('index')[interesting_cols]\n",
    "\n",
    "summaryDF"
   ]
  },
  {
   "cell_type": "markdown",
   "metadata": {},
   "source": [
    "## PNP530-by phenotypes:"
   ]
  },
  {
   "cell_type": "code",
   "execution_count": 8,
   "metadata": {
    "ExecuteTime": {
     "end_time": "2019-04-22T16:03:41.506917Z",
     "start_time": "2019-04-22T16:02:31.954188Z"
    }
   },
   "outputs": [
    {
     "name": "stdout",
     "output_type": "stream",
     "text": [
      " couldnt get results from seasonality_XGB_byMajorPhenotypes_optByAUC/\n",
      "seasonality_XGB_byMajorPhenotypes_optByAUC/\n",
      "('results_df.shape: ', (34, 14))\n",
      "('number of problematic dirs=', 1)\n"
     ]
    },
    {
     "ename": "KeyError",
     "evalue": "'AUC'",
     "output_type": "error",
     "traceback": [
      "\u001b[0;31m---------------------------------------------------------------------------\u001b[0m",
      "\u001b[0;31mKeyError\u001b[0m                                  Traceback (most recent call last)",
      "\u001b[0;32m<ipython-input-8-8bf46f28539a>\u001b[0m in \u001b[0;36m<module>\u001b[0;34m()\u001b[0m\n\u001b[1;32m     34\u001b[0m \u001b[0;34m\u001b[0m\u001b[0m\n\u001b[1;32m     35\u001b[0m \u001b[0minteresting_cols\u001b[0m\u001b[0;34m=\u001b[0m\u001b[0;34m[\u001b[0m\u001b[0;34m'dir'\u001b[0m\u001b[0;34m,\u001b[0m\u001b[0;34m'AUC'\u001b[0m\u001b[0;34m,\u001b[0m\u001b[0;34m'prevalence'\u001b[0m\u001b[0;34m,\u001b[0m\u001b[0;34m'Precision_Recall'\u001b[0m\u001b[0;34m,\u001b[0m\u001b[0;34m'kappa'\u001b[0m\u001b[0;34m]\u001b[0m\u001b[0;34m\u001b[0m\u001b[0m\n\u001b[0;32m---> 36\u001b[0;31m \u001b[0msummaryDF\u001b[0m\u001b[0;34m=\u001b[0m\u001b[0msummaryDF\u001b[0m\u001b[0;34m.\u001b[0m\u001b[0mreset_index\u001b[0m\u001b[0;34m(\u001b[0m\u001b[0;34m)\u001b[0m\u001b[0;34m.\u001b[0m\u001b[0msort_values\u001b[0m\u001b[0;34m(\u001b[0m\u001b[0mby\u001b[0m\u001b[0;34m=\u001b[0m\u001b[0;34m[\u001b[0m\u001b[0;34m'AUC'\u001b[0m\u001b[0;34m]\u001b[0m\u001b[0;34m,\u001b[0m\u001b[0mascending\u001b[0m\u001b[0;34m=\u001b[0m\u001b[0mFalse\u001b[0m\u001b[0;34m)\u001b[0m\u001b[0;34m.\u001b[0m\u001b[0mset_index\u001b[0m\u001b[0;34m(\u001b[0m\u001b[0;34m'index'\u001b[0m\u001b[0;34m)\u001b[0m\u001b[0;34m[\u001b[0m\u001b[0minteresting_cols\u001b[0m\u001b[0;34m]\u001b[0m\u001b[0;34m\u001b[0m\u001b[0m\n\u001b[0m\u001b[1;32m     37\u001b[0m \u001b[0;34m\u001b[0m\u001b[0m\n\u001b[1;32m     38\u001b[0m \u001b[0msummaryDF\u001b[0m\u001b[0;34m\u001b[0m\u001b[0m\n",
      "\u001b[0;32m/usr/wisdom/python/lib/python2.7/site-packages/pandas/core/frame.pyc\u001b[0m in \u001b[0;36msort_values\u001b[0;34m(self, by, axis, ascending, inplace, kind, na_position)\u001b[0m\n\u001b[1;32m   4419\u001b[0m             \u001b[0mby\u001b[0m \u001b[0;34m=\u001b[0m \u001b[0mby\u001b[0m\u001b[0;34m[\u001b[0m\u001b[0;36m0\u001b[0m\u001b[0;34m]\u001b[0m\u001b[0;34m\u001b[0m\u001b[0m\n\u001b[1;32m   4420\u001b[0m             k = self._get_label_or_level_values(by, axis=axis,\n\u001b[0;32m-> 4421\u001b[0;31m                                                 stacklevel=stacklevel)\n\u001b[0m\u001b[1;32m   4422\u001b[0m \u001b[0;34m\u001b[0m\u001b[0m\n\u001b[1;32m   4423\u001b[0m             \u001b[0;32mif\u001b[0m \u001b[0misinstance\u001b[0m\u001b[0;34m(\u001b[0m\u001b[0mascending\u001b[0m\u001b[0;34m,\u001b[0m \u001b[0;34m(\u001b[0m\u001b[0mtuple\u001b[0m\u001b[0;34m,\u001b[0m \u001b[0mlist\u001b[0m\u001b[0;34m)\u001b[0m\u001b[0;34m)\u001b[0m\u001b[0;34m:\u001b[0m\u001b[0;34m\u001b[0m\u001b[0m\n",
      "\u001b[0;32m/usr/wisdom/python/lib/python2.7/site-packages/pandas/core/generic.pyc\u001b[0m in \u001b[0;36m_get_label_or_level_values\u001b[0;34m(self, key, axis, stacklevel)\u001b[0m\n\u001b[1;32m   1380\u001b[0m             \u001b[0mvalues\u001b[0m \u001b[0;34m=\u001b[0m \u001b[0mself\u001b[0m\u001b[0;34m.\u001b[0m\u001b[0maxes\u001b[0m\u001b[0;34m[\u001b[0m\u001b[0maxis\u001b[0m\u001b[0;34m]\u001b[0m\u001b[0;34m.\u001b[0m\u001b[0mget_level_values\u001b[0m\u001b[0;34m(\u001b[0m\u001b[0mkey\u001b[0m\u001b[0;34m)\u001b[0m\u001b[0;34m.\u001b[0m\u001b[0m_values\u001b[0m\u001b[0;34m\u001b[0m\u001b[0m\n\u001b[1;32m   1381\u001b[0m         \u001b[0;32melse\u001b[0m\u001b[0;34m:\u001b[0m\u001b[0;34m\u001b[0m\u001b[0m\n\u001b[0;32m-> 1382\u001b[0;31m             \u001b[0;32mraise\u001b[0m \u001b[0mKeyError\u001b[0m\u001b[0;34m(\u001b[0m\u001b[0mkey\u001b[0m\u001b[0;34m)\u001b[0m\u001b[0;34m\u001b[0m\u001b[0m\n\u001b[0m\u001b[1;32m   1383\u001b[0m \u001b[0;34m\u001b[0m\u001b[0m\n\u001b[1;32m   1384\u001b[0m         \u001b[0;31m# Check for duplicates\u001b[0m\u001b[0;34m\u001b[0m\u001b[0;34m\u001b[0m\u001b[0m\n",
      "\u001b[0;31mKeyError\u001b[0m: 'AUC'"
     ]
    }
   ],
   "source": [
    "AUC_threshold=0.6\n",
    "kappa_threshold=0.2\n",
    "r_threshold=0\n",
    "p_r_threshold=0.05\n",
    "\n",
    "pd.set_option('display.max_colwidth', -1)\n",
    "\n",
    "dir1='/net/mraid08/export/jafar/Microbiome/Analyses/ShaniBAF/predictions2/seasonality/'\n",
    "prediction_dirs=['seasonality_XGB_byMajorPhenotypes_optByAUC/',\n",
    "                ]\n",
    "\n",
    "summaryDF=pd.DataFrame()\n",
    "problematic_dirs=[]\n",
    "for pred_dir in prediction_dirs:\n",
    "#     f2=dir1+pred_dir+'/predictions_df.pkl'\n",
    "#     predDF=pd.read_pickle(f2)\n",
    "#     print ('predDF shape=',predDF.shape)\n",
    "#     print predDF.tail(10)\n",
    "    \n",
    "    f1=dir1+pred_dir+'/results_df.pkl'\n",
    "#     print d\n",
    "    try:\n",
    "        df= pd.read_pickle(f1)\n",
    "        df['dir']=pred_dir.replace('Acute_medication_phenotypes_','')\n",
    "        summaryDF=pd.concat([summaryDF,df])\n",
    "    except:\n",
    "        print ' couldnt get results from %s' %pred_dir\n",
    "        problematic_dirs.append(pred_dir)\n",
    "    print pred_dir\n",
    "    print ('results_df.shape: ',df.shape)\n",
    "#     print df.head()\n",
    "        \n",
    "print ('number of problematic dirs=',len(problematic_dirs))\n",
    "\n",
    "interesting_cols=['dir','AUC','prevalence','Precision_Recall','kappa']\n",
    "summaryDF=summaryDF.reset_index().sort_values(by=['AUC'],ascending=False).set_index('index')[interesting_cols]\n",
    "\n",
    "summaryDF"
   ]
  },
  {
   "cell_type": "markdown",
   "metadata": {},
   "source": [
    "## Cardio126-by features:"
   ]
  },
  {
   "cell_type": "code",
   "execution_count": 5,
   "metadata": {
    "ExecuteTime": {
     "end_time": "2019-04-22T15:37:31.491274Z",
     "start_time": "2019-04-22T15:37:31.377780Z"
    }
   },
   "outputs": [
    {
     "name": "stdout",
     "output_type": "stream",
     "text": [
      "seasonality_XGB50_byTCRfeatures_optByAUC_Cardio126/\n",
      "('results_df.shape: ', (25, 14))\n",
      "seasonality_XGB_byTCRfeatures_optByAUC_Cardio126\n",
      "('results_df.shape: ', (25, 14))\n",
      "('number of problematic dirs=', 0)\n"
     ]
    },
    {
     "data": {
      "text/html": [
       "<div>\n",
       "<style scoped>\n",
       "    .dataframe tbody tr th:only-of-type {\n",
       "        vertical-align: middle;\n",
       "    }\n",
       "\n",
       "    .dataframe tbody tr th {\n",
       "        vertical-align: top;\n",
       "    }\n",
       "\n",
       "    .dataframe thead th {\n",
       "        text-align: right;\n",
       "    }\n",
       "</style>\n",
       "<table border=\"1\" class=\"dataframe\">\n",
       "  <thead>\n",
       "    <tr style=\"text-align: right;\">\n",
       "      <th></th>\n",
       "      <th>dir</th>\n",
       "      <th>AUC</th>\n",
       "      <th>prevalence</th>\n",
       "      <th>Precision_Recall</th>\n",
       "      <th>kappa</th>\n",
       "    </tr>\n",
       "    <tr>\n",
       "      <th>index</th>\n",
       "      <th></th>\n",
       "      <th></th>\n",
       "      <th></th>\n",
       "      <th></th>\n",
       "      <th></th>\n",
       "    </tr>\n",
       "  </thead>\n",
       "  <tbody>\n",
       "    <tr>\n",
       "      <th>Year_2018</th>\n",
       "      <td>seasonality_XGB_byTCRfeatures_optByAUC_Cardio126</td>\n",
       "      <td>0.733848</td>\n",
       "      <td>0.082474</td>\n",
       "      <td>0.165842</td>\n",
       "      <td>0.000000</td>\n",
       "    </tr>\n",
       "    <tr>\n",
       "      <th>Year_2018</th>\n",
       "      <td>seasonality_XGB50_byTCRfeatures_optByAUC_Cardio126/</td>\n",
       "      <td>0.699438</td>\n",
       "      <td>0.082474</td>\n",
       "      <td>0.169439</td>\n",
       "      <td>0.000000</td>\n",
       "    </tr>\n",
       "    <tr>\n",
       "      <th>Month_4</th>\n",
       "      <td>seasonality_XGB_byTCRfeatures_optByAUC_Cardio126</td>\n",
       "      <td>0.697674</td>\n",
       "      <td>0.113402</td>\n",
       "      <td>0.265998</td>\n",
       "      <td>0.000000</td>\n",
       "    </tr>\n",
       "    <tr>\n",
       "      <th>Month_1</th>\n",
       "      <td>seasonality_XGB_byTCRfeatures_optByAUC_Cardio126</td>\n",
       "      <td>0.696032</td>\n",
       "      <td>0.072165</td>\n",
       "      <td>0.245548</td>\n",
       "      <td>0.000000</td>\n",
       "    </tr>\n",
       "    <tr>\n",
       "      <th>Year_2017</th>\n",
       "      <td>seasonality_XGB50_byTCRfeatures_optByAUC_Cardio126/</td>\n",
       "      <td>0.693820</td>\n",
       "      <td>0.917526</td>\n",
       "      <td>0.956151</td>\n",
       "      <td>0.000000</td>\n",
       "    </tr>\n",
       "    <tr>\n",
       "      <th>Month_year_4_2017</th>\n",
       "      <td>seasonality_XGB_byTCRfeatures_optByAUC_Cardio126</td>\n",
       "      <td>0.690805</td>\n",
       "      <td>0.103093</td>\n",
       "      <td>0.421803</td>\n",
       "      <td>0.000000</td>\n",
       "    </tr>\n",
       "    <tr>\n",
       "      <th>Year_2017</th>\n",
       "      <td>seasonality_XGB_byTCRfeatures_optByAUC_Cardio126</td>\n",
       "      <td>0.663624</td>\n",
       "      <td>0.917526</td>\n",
       "      <td>0.960782</td>\n",
       "      <td>0.000000</td>\n",
       "    </tr>\n",
       "    <tr>\n",
       "      <th>Season_year_automn_2017</th>\n",
       "      <td>seasonality_XGB_byTCRfeatures_optByAUC_Cardio126</td>\n",
       "      <td>0.649425</td>\n",
       "      <td>0.402062</td>\n",
       "      <td>0.504354</td>\n",
       "      <td>0.061807</td>\n",
       "    </tr>\n",
       "    <tr>\n",
       "      <th>Month_5</th>\n",
       "      <td>seasonality_XGB50_byTCRfeatures_optByAUC_Cardio126/</td>\n",
       "      <td>0.636275</td>\n",
       "      <td>0.123711</td>\n",
       "      <td>0.173012</td>\n",
       "      <td>0.000000</td>\n",
       "    </tr>\n",
       "    <tr>\n",
       "      <th>Season_automn</th>\n",
       "      <td>seasonality_XGB_byTCRfeatures_optByAUC_Cardio126</td>\n",
       "      <td>0.634146</td>\n",
       "      <td>0.422680</td>\n",
       "      <td>0.492498</td>\n",
       "      <td>0.300634</td>\n",
       "    </tr>\n",
       "    <tr>\n",
       "      <th>Season_automn</th>\n",
       "      <td>seasonality_XGB50_byTCRfeatures_optByAUC_Cardio126/</td>\n",
       "      <td>0.630662</td>\n",
       "      <td>0.422680</td>\n",
       "      <td>0.486398</td>\n",
       "      <td>0.234546</td>\n",
       "    </tr>\n",
       "    <tr>\n",
       "      <th>Month_4</th>\n",
       "      <td>seasonality_XGB50_byTCRfeatures_optByAUC_Cardio126/</td>\n",
       "      <td>0.630021</td>\n",
       "      <td>0.113402</td>\n",
       "      <td>0.137263</td>\n",
       "      <td>-0.019264</td>\n",
       "    </tr>\n",
       "    <tr>\n",
       "      <th>Month_1</th>\n",
       "      <td>seasonality_XGB50_byTCRfeatures_optByAUC_Cardio126/</td>\n",
       "      <td>0.628571</td>\n",
       "      <td>0.072165</td>\n",
       "      <td>0.187973</td>\n",
       "      <td>0.000000</td>\n",
       "    </tr>\n",
       "    <tr>\n",
       "      <th>Month_year_4_2017</th>\n",
       "      <td>seasonality_XGB50_byTCRfeatures_optByAUC_Cardio126/</td>\n",
       "      <td>0.619540</td>\n",
       "      <td>0.103093</td>\n",
       "      <td>0.154939</td>\n",
       "      <td>0.000000</td>\n",
       "    </tr>\n",
       "    <tr>\n",
       "      <th>Month_year_5_2017</th>\n",
       "      <td>seasonality_XGB50_byTCRfeatures_optByAUC_Cardio126/</td>\n",
       "      <td>0.612051</td>\n",
       "      <td>0.113402</td>\n",
       "      <td>0.164063</td>\n",
       "      <td>0.000000</td>\n",
       "    </tr>\n",
       "    <tr>\n",
       "      <th>Season_year_summer_2017</th>\n",
       "      <td>seasonality_XGB_byTCRfeatures_optByAUC_Cardio126</td>\n",
       "      <td>0.611284</td>\n",
       "      <td>0.288660</td>\n",
       "      <td>0.388089</td>\n",
       "      <td>0.151053</td>\n",
       "    </tr>\n",
       "    <tr>\n",
       "      <th>Month_7</th>\n",
       "      <td>seasonality_XGB50_byTCRfeatures_optByAUC_Cardio126/</td>\n",
       "      <td>0.608059</td>\n",
       "      <td>0.134021</td>\n",
       "      <td>0.164954</td>\n",
       "      <td>-0.019520</td>\n",
       "    </tr>\n",
       "    <tr>\n",
       "      <th>Season_winter</th>\n",
       "      <td>seasonality_XGB_byTCRfeatures_optByAUC_Cardio126</td>\n",
       "      <td>0.604926</td>\n",
       "      <td>0.195876</td>\n",
       "      <td>0.296592</td>\n",
       "      <td>0.082019</td>\n",
       "    </tr>\n",
       "    <tr>\n",
       "      <th>Season_summer</th>\n",
       "      <td>seasonality_XGB_byTCRfeatures_optByAUC_Cardio126</td>\n",
       "      <td>0.600406</td>\n",
       "      <td>0.298969</td>\n",
       "      <td>0.356710</td>\n",
       "      <td>0.099840</td>\n",
       "    </tr>\n",
       "    <tr>\n",
       "      <th>Season_winter</th>\n",
       "      <td>seasonality_XGB50_byTCRfeatures_optByAUC_Cardio126/</td>\n",
       "      <td>0.593117</td>\n",
       "      <td>0.195876</td>\n",
       "      <td>0.264591</td>\n",
       "      <td>0.054078</td>\n",
       "    </tr>\n",
       "    <tr>\n",
       "      <th>Season_year_automn_2017</th>\n",
       "      <td>seasonality_XGB50_byTCRfeatures_optByAUC_Cardio126/</td>\n",
       "      <td>0.580902</td>\n",
       "      <td>0.402062</td>\n",
       "      <td>0.435066</td>\n",
       "      <td>0.086377</td>\n",
       "    </tr>\n",
       "    <tr>\n",
       "      <th>Month_year_3_2017</th>\n",
       "      <td>seasonality_XGB50_byTCRfeatures_optByAUC_Cardio126/</td>\n",
       "      <td>0.577247</td>\n",
       "      <td>0.082474</td>\n",
       "      <td>0.101146</td>\n",
       "      <td>0.000000</td>\n",
       "    </tr>\n",
       "    <tr>\n",
       "      <th>Season_year_summer_2017</th>\n",
       "      <td>seasonality_XGB50_byTCRfeatures_optByAUC_Cardio126/</td>\n",
       "      <td>0.571429</td>\n",
       "      <td>0.288660</td>\n",
       "      <td>0.318748</td>\n",
       "      <td>0.028612</td>\n",
       "    </tr>\n",
       "    <tr>\n",
       "      <th>Month_6</th>\n",
       "      <td>seasonality_XGB50_byTCRfeatures_optByAUC_Cardio126/</td>\n",
       "      <td>0.564103</td>\n",
       "      <td>0.134021</td>\n",
       "      <td>0.187775</td>\n",
       "      <td>-0.019520</td>\n",
       "    </tr>\n",
       "    <tr>\n",
       "      <th>Month_year_7_2017</th>\n",
       "      <td>seasonality_XGB_byTCRfeatures_optByAUC_Cardio126</td>\n",
       "      <td>0.562745</td>\n",
       "      <td>0.123711</td>\n",
       "      <td>0.148630</td>\n",
       "      <td>0.000000</td>\n",
       "    </tr>\n",
       "    <tr>\n",
       "      <th>Month_9</th>\n",
       "      <td>seasonality_XGB_byTCRfeatures_optByAUC_Cardio126</td>\n",
       "      <td>0.557665</td>\n",
       "      <td>0.185567</td>\n",
       "      <td>0.240451</td>\n",
       "      <td>0.000000</td>\n",
       "    </tr>\n",
       "    <tr>\n",
       "      <th>Season_summer</th>\n",
       "      <td>seasonality_XGB50_byTCRfeatures_optByAUC_Cardio126/</td>\n",
       "      <td>0.556795</td>\n",
       "      <td>0.298969</td>\n",
       "      <td>0.338204</td>\n",
       "      <td>0.055107</td>\n",
       "    </tr>\n",
       "    <tr>\n",
       "      <th>Month_year_5_2017</th>\n",
       "      <td>seasonality_XGB_byTCRfeatures_optByAUC_Cardio126</td>\n",
       "      <td>0.551797</td>\n",
       "      <td>0.113402</td>\n",
       "      <td>0.201540</td>\n",
       "      <td>0.000000</td>\n",
       "    </tr>\n",
       "    <tr>\n",
       "      <th>Month_6</th>\n",
       "      <td>seasonality_XGB_byTCRfeatures_optByAUC_Cardio126</td>\n",
       "      <td>0.543956</td>\n",
       "      <td>0.134021</td>\n",
       "      <td>0.142708</td>\n",
       "      <td>-0.019520</td>\n",
       "    </tr>\n",
       "    <tr>\n",
       "      <th>Month_5</th>\n",
       "      <td>seasonality_XGB_byTCRfeatures_optByAUC_Cardio126</td>\n",
       "      <td>0.543627</td>\n",
       "      <td>0.123711</td>\n",
       "      <td>0.174172</td>\n",
       "      <td>0.000000</td>\n",
       "    </tr>\n",
       "    <tr>\n",
       "      <th>Month_year_6_2017</th>\n",
       "      <td>seasonality_XGB50_byTCRfeatures_optByAUC_Cardio126/</td>\n",
       "      <td>0.543040</td>\n",
       "      <td>0.134021</td>\n",
       "      <td>0.147964</td>\n",
       "      <td>-0.037063</td>\n",
       "    </tr>\n",
       "    <tr>\n",
       "      <th>Month_7</th>\n",
       "      <td>seasonality_XGB_byTCRfeatures_optByAUC_Cardio126</td>\n",
       "      <td>0.543040</td>\n",
       "      <td>0.134021</td>\n",
       "      <td>0.137669</td>\n",
       "      <td>0.000000</td>\n",
       "    </tr>\n",
       "    <tr>\n",
       "      <th>Month_9</th>\n",
       "      <td>seasonality_XGB50_byTCRfeatures_optByAUC_Cardio126/</td>\n",
       "      <td>0.541491</td>\n",
       "      <td>0.185567</td>\n",
       "      <td>0.243837</td>\n",
       "      <td>0.062586</td>\n",
       "    </tr>\n",
       "    <tr>\n",
       "      <th>Month_year_9_2017</th>\n",
       "      <td>seasonality_XGB50_byTCRfeatures_optByAUC_Cardio126/</td>\n",
       "      <td>0.541491</td>\n",
       "      <td>0.185567</td>\n",
       "      <td>0.206813</td>\n",
       "      <td>0.044583</td>\n",
       "    </tr>\n",
       "    <tr>\n",
       "      <th>Month_year_9_2017</th>\n",
       "      <td>seasonality_XGB_byTCRfeatures_optByAUC_Cardio126</td>\n",
       "      <td>0.527426</td>\n",
       "      <td>0.185567</td>\n",
       "      <td>0.242903</td>\n",
       "      <td>0.000000</td>\n",
       "    </tr>\n",
       "    <tr>\n",
       "      <th>Month_3</th>\n",
       "      <td>seasonality_XGB50_byTCRfeatures_optByAUC_Cardio126/</td>\n",
       "      <td>0.526685</td>\n",
       "      <td>0.082474</td>\n",
       "      <td>0.079387</td>\n",
       "      <td>0.000000</td>\n",
       "    </tr>\n",
       "    <tr>\n",
       "      <th>Season_spring</th>\n",
       "      <td>seasonality_XGB50_byTCRfeatures_optByAUC_Cardio126/</td>\n",
       "      <td>0.505618</td>\n",
       "      <td>0.082474</td>\n",
       "      <td>0.197751</td>\n",
       "      <td>0.000000</td>\n",
       "    </tr>\n",
       "    <tr>\n",
       "      <th>Season_year_winter_2017</th>\n",
       "      <td>seasonality_XGB50_byTCRfeatures_optByAUC_Cardio126/</td>\n",
       "      <td>0.503442</td>\n",
       "      <td>0.144330</td>\n",
       "      <td>0.135332</td>\n",
       "      <td>-0.037433</td>\n",
       "    </tr>\n",
       "    <tr>\n",
       "      <th>Season_year_winter_2017</th>\n",
       "      <td>seasonality_XGB_byTCRfeatures_optByAUC_Cardio126</td>\n",
       "      <td>0.501291</td>\n",
       "      <td>0.144330</td>\n",
       "      <td>0.157825</td>\n",
       "      <td>0.000000</td>\n",
       "    </tr>\n",
       "    <tr>\n",
       "      <th>Month_3</th>\n",
       "      <td>seasonality_XGB_byTCRfeatures_optByAUC_Cardio126</td>\n",
       "      <td>0.495787</td>\n",
       "      <td>0.082474</td>\n",
       "      <td>0.101851</td>\n",
       "      <td>0.000000</td>\n",
       "    </tr>\n",
       "    <tr>\n",
       "      <th>Season_spring</th>\n",
       "      <td>seasonality_XGB_byTCRfeatures_optByAUC_Cardio126</td>\n",
       "      <td>0.476124</td>\n",
       "      <td>0.082474</td>\n",
       "      <td>0.108877</td>\n",
       "      <td>0.000000</td>\n",
       "    </tr>\n",
       "    <tr>\n",
       "      <th>Month_12</th>\n",
       "      <td>seasonality_XGB50_byTCRfeatures_optByAUC_Cardio126/</td>\n",
       "      <td>0.472612</td>\n",
       "      <td>0.082474</td>\n",
       "      <td>0.076853</td>\n",
       "      <td>0.000000</td>\n",
       "    </tr>\n",
       "    <tr>\n",
       "      <th>Month_year_7_2017</th>\n",
       "      <td>seasonality_XGB50_byTCRfeatures_optByAUC_Cardio126/</td>\n",
       "      <td>0.472549</td>\n",
       "      <td>0.123711</td>\n",
       "      <td>0.109691</td>\n",
       "      <td>0.000000</td>\n",
       "    </tr>\n",
       "    <tr>\n",
       "      <th>Season_year_spring_2017</th>\n",
       "      <td>seasonality_XGB50_byTCRfeatures_optByAUC_Cardio126/</td>\n",
       "      <td>0.462079</td>\n",
       "      <td>0.082474</td>\n",
       "      <td>0.070398</td>\n",
       "      <td>0.000000</td>\n",
       "    </tr>\n",
       "    <tr>\n",
       "      <th>Month_year_6_2017</th>\n",
       "      <td>seasonality_XGB_byTCRfeatures_optByAUC_Cardio126</td>\n",
       "      <td>0.452381</td>\n",
       "      <td>0.134021</td>\n",
       "      <td>0.114750</td>\n",
       "      <td>0.000000</td>\n",
       "    </tr>\n",
       "    <tr>\n",
       "      <th>Month_year_12_2017</th>\n",
       "      <td>seasonality_XGB50_byTCRfeatures_optByAUC_Cardio126/</td>\n",
       "      <td>0.450843</td>\n",
       "      <td>0.082474</td>\n",
       "      <td>0.073554</td>\n",
       "      <td>0.000000</td>\n",
       "    </tr>\n",
       "    <tr>\n",
       "      <th>Month_year_3_2017</th>\n",
       "      <td>seasonality_XGB_byTCRfeatures_optByAUC_Cardio126</td>\n",
       "      <td>0.443820</td>\n",
       "      <td>0.082474</td>\n",
       "      <td>0.069812</td>\n",
       "      <td>0.000000</td>\n",
       "    </tr>\n",
       "    <tr>\n",
       "      <th>Season_year_spring_2017</th>\n",
       "      <td>seasonality_XGB_byTCRfeatures_optByAUC_Cardio126</td>\n",
       "      <td>0.433989</td>\n",
       "      <td>0.082474</td>\n",
       "      <td>0.074105</td>\n",
       "      <td>0.000000</td>\n",
       "    </tr>\n",
       "    <tr>\n",
       "      <th>Month_year_12_2017</th>\n",
       "      <td>seasonality_XGB_byTCRfeatures_optByAUC_Cardio126</td>\n",
       "      <td>0.396770</td>\n",
       "      <td>0.082474</td>\n",
       "      <td>0.062049</td>\n",
       "      <td>0.000000</td>\n",
       "    </tr>\n",
       "    <tr>\n",
       "      <th>Month_12</th>\n",
       "      <td>seasonality_XGB_byTCRfeatures_optByAUC_Cardio126</td>\n",
       "      <td>0.347612</td>\n",
       "      <td>0.082474</td>\n",
       "      <td>0.058459</td>\n",
       "      <td>0.000000</td>\n",
       "    </tr>\n",
       "  </tbody>\n",
       "</table>\n",
       "</div>"
      ],
      "text/plain": [
       "                                                                         dir       AUC  prevalence  Precision_Recall     kappa\n",
       "index                                                                                                                         \n",
       "Year_2018                seasonality_XGB_byTCRfeatures_optByAUC_Cardio126     0.733848  0.082474    0.165842          0.000000\n",
       "Year_2018                seasonality_XGB50_byTCRfeatures_optByAUC_Cardio126/  0.699438  0.082474    0.169439          0.000000\n",
       "Month_4                  seasonality_XGB_byTCRfeatures_optByAUC_Cardio126     0.697674  0.113402    0.265998          0.000000\n",
       "Month_1                  seasonality_XGB_byTCRfeatures_optByAUC_Cardio126     0.696032  0.072165    0.245548          0.000000\n",
       "Year_2017                seasonality_XGB50_byTCRfeatures_optByAUC_Cardio126/  0.693820  0.917526    0.956151          0.000000\n",
       "Month_year_4_2017        seasonality_XGB_byTCRfeatures_optByAUC_Cardio126     0.690805  0.103093    0.421803          0.000000\n",
       "Year_2017                seasonality_XGB_byTCRfeatures_optByAUC_Cardio126     0.663624  0.917526    0.960782          0.000000\n",
       "Season_year_automn_2017  seasonality_XGB_byTCRfeatures_optByAUC_Cardio126     0.649425  0.402062    0.504354          0.061807\n",
       "Month_5                  seasonality_XGB50_byTCRfeatures_optByAUC_Cardio126/  0.636275  0.123711    0.173012          0.000000\n",
       "Season_automn            seasonality_XGB_byTCRfeatures_optByAUC_Cardio126     0.634146  0.422680    0.492498          0.300634\n",
       "Season_automn            seasonality_XGB50_byTCRfeatures_optByAUC_Cardio126/  0.630662  0.422680    0.486398          0.234546\n",
       "Month_4                  seasonality_XGB50_byTCRfeatures_optByAUC_Cardio126/  0.630021  0.113402    0.137263         -0.019264\n",
       "Month_1                  seasonality_XGB50_byTCRfeatures_optByAUC_Cardio126/  0.628571  0.072165    0.187973          0.000000\n",
       "Month_year_4_2017        seasonality_XGB50_byTCRfeatures_optByAUC_Cardio126/  0.619540  0.103093    0.154939          0.000000\n",
       "Month_year_5_2017        seasonality_XGB50_byTCRfeatures_optByAUC_Cardio126/  0.612051  0.113402    0.164063          0.000000\n",
       "Season_year_summer_2017  seasonality_XGB_byTCRfeatures_optByAUC_Cardio126     0.611284  0.288660    0.388089          0.151053\n",
       "Month_7                  seasonality_XGB50_byTCRfeatures_optByAUC_Cardio126/  0.608059  0.134021    0.164954         -0.019520\n",
       "Season_winter            seasonality_XGB_byTCRfeatures_optByAUC_Cardio126     0.604926  0.195876    0.296592          0.082019\n",
       "Season_summer            seasonality_XGB_byTCRfeatures_optByAUC_Cardio126     0.600406  0.298969    0.356710          0.099840\n",
       "Season_winter            seasonality_XGB50_byTCRfeatures_optByAUC_Cardio126/  0.593117  0.195876    0.264591          0.054078\n",
       "Season_year_automn_2017  seasonality_XGB50_byTCRfeatures_optByAUC_Cardio126/  0.580902  0.402062    0.435066          0.086377\n",
       "Month_year_3_2017        seasonality_XGB50_byTCRfeatures_optByAUC_Cardio126/  0.577247  0.082474    0.101146          0.000000\n",
       "Season_year_summer_2017  seasonality_XGB50_byTCRfeatures_optByAUC_Cardio126/  0.571429  0.288660    0.318748          0.028612\n",
       "Month_6                  seasonality_XGB50_byTCRfeatures_optByAUC_Cardio126/  0.564103  0.134021    0.187775         -0.019520\n",
       "Month_year_7_2017        seasonality_XGB_byTCRfeatures_optByAUC_Cardio126     0.562745  0.123711    0.148630          0.000000\n",
       "Month_9                  seasonality_XGB_byTCRfeatures_optByAUC_Cardio126     0.557665  0.185567    0.240451          0.000000\n",
       "Season_summer            seasonality_XGB50_byTCRfeatures_optByAUC_Cardio126/  0.556795  0.298969    0.338204          0.055107\n",
       "Month_year_5_2017        seasonality_XGB_byTCRfeatures_optByAUC_Cardio126     0.551797  0.113402    0.201540          0.000000\n",
       "Month_6                  seasonality_XGB_byTCRfeatures_optByAUC_Cardio126     0.543956  0.134021    0.142708         -0.019520\n",
       "Month_5                  seasonality_XGB_byTCRfeatures_optByAUC_Cardio126     0.543627  0.123711    0.174172          0.000000\n",
       "Month_year_6_2017        seasonality_XGB50_byTCRfeatures_optByAUC_Cardio126/  0.543040  0.134021    0.147964         -0.037063\n",
       "Month_7                  seasonality_XGB_byTCRfeatures_optByAUC_Cardio126     0.543040  0.134021    0.137669          0.000000\n",
       "Month_9                  seasonality_XGB50_byTCRfeatures_optByAUC_Cardio126/  0.541491  0.185567    0.243837          0.062586\n",
       "Month_year_9_2017        seasonality_XGB50_byTCRfeatures_optByAUC_Cardio126/  0.541491  0.185567    0.206813          0.044583\n",
       "Month_year_9_2017        seasonality_XGB_byTCRfeatures_optByAUC_Cardio126     0.527426  0.185567    0.242903          0.000000\n",
       "Month_3                  seasonality_XGB50_byTCRfeatures_optByAUC_Cardio126/  0.526685  0.082474    0.079387          0.000000\n",
       "Season_spring            seasonality_XGB50_byTCRfeatures_optByAUC_Cardio126/  0.505618  0.082474    0.197751          0.000000\n",
       "Season_year_winter_2017  seasonality_XGB50_byTCRfeatures_optByAUC_Cardio126/  0.503442  0.144330    0.135332         -0.037433\n",
       "Season_year_winter_2017  seasonality_XGB_byTCRfeatures_optByAUC_Cardio126     0.501291  0.144330    0.157825          0.000000\n",
       "Month_3                  seasonality_XGB_byTCRfeatures_optByAUC_Cardio126     0.495787  0.082474    0.101851          0.000000\n",
       "Season_spring            seasonality_XGB_byTCRfeatures_optByAUC_Cardio126     0.476124  0.082474    0.108877          0.000000\n",
       "Month_12                 seasonality_XGB50_byTCRfeatures_optByAUC_Cardio126/  0.472612  0.082474    0.076853          0.000000\n",
       "Month_year_7_2017        seasonality_XGB50_byTCRfeatures_optByAUC_Cardio126/  0.472549  0.123711    0.109691          0.000000\n",
       "Season_year_spring_2017  seasonality_XGB50_byTCRfeatures_optByAUC_Cardio126/  0.462079  0.082474    0.070398          0.000000\n",
       "Month_year_6_2017        seasonality_XGB_byTCRfeatures_optByAUC_Cardio126     0.452381  0.134021    0.114750          0.000000\n",
       "Month_year_12_2017       seasonality_XGB50_byTCRfeatures_optByAUC_Cardio126/  0.450843  0.082474    0.073554          0.000000\n",
       "Month_year_3_2017        seasonality_XGB_byTCRfeatures_optByAUC_Cardio126     0.443820  0.082474    0.069812          0.000000\n",
       "Season_year_spring_2017  seasonality_XGB_byTCRfeatures_optByAUC_Cardio126     0.433989  0.082474    0.074105          0.000000\n",
       "Month_year_12_2017       seasonality_XGB_byTCRfeatures_optByAUC_Cardio126     0.396770  0.082474    0.062049          0.000000\n",
       "Month_12                 seasonality_XGB_byTCRfeatures_optByAUC_Cardio126     0.347612  0.082474    0.058459          0.000000"
      ]
     },
     "execution_count": 5,
     "metadata": {},
     "output_type": "execute_result"
    }
   ],
   "source": [
    "AUC_threshold=0.6\n",
    "kappa_threshold=0.2\n",
    "r_threshold=0\n",
    "p_r_threshold=0.05\n",
    "\n",
    "pd.set_option('display.max_colwidth', -1)\n",
    "\n",
    "dir1='/net/mraid08/export/jafar/Microbiome/Analyses/ShaniBAF/predictions2/seasonality/'\n",
    "prediction_dirs=['seasonality_XGB50_byTCRfeatures_optByAUC_Cardio126/',\n",
    "                 'seasonality_XGB_byTCRfeatures_optByAUC_Cardio126']\n",
    "\n",
    "summaryDF=pd.DataFrame()\n",
    "problematic_dirs=[]\n",
    "for pred_dir in prediction_dirs:\n",
    "#     f2=dir1+pred_dir+'/predictions_df.pkl'\n",
    "#     predDF=pd.read_pickle(f2)\n",
    "#     print ('predDF shape=',predDF.shape)\n",
    "#     print predDF.tail(10)\n",
    "    \n",
    "    f1=dir1+pred_dir+'/results_df.pkl'\n",
    "#     print d\n",
    "    try:\n",
    "        df= pd.read_pickle(f1)\n",
    "        df['dir']=pred_dir.replace('Acute_medication_phenotypes_','')\n",
    "        summaryDF=pd.concat([summaryDF,df])\n",
    "    except:\n",
    "        print ' couldnt get results from %s' %pred_dir\n",
    "        problematic_dirs.append(pred_dir)\n",
    "    print pred_dir\n",
    "    print ('results_df.shape: ',df.shape)\n",
    "#     print df.head()\n",
    "        \n",
    "print ('number of problematic dirs=',len(problematic_dirs))\n",
    "\n",
    "interesting_cols=['dir','AUC','prevalence','Precision_Recall','kappa']\n",
    "summaryDF=summaryDF.reset_index().sort_values(by=['AUC'],ascending=False).set_index('index')[interesting_cols]\n",
    "\n",
    "summaryDF"
   ]
  },
  {
   "cell_type": "markdown",
   "metadata": {},
   "source": [
    "## Cardio126-by clusters:"
   ]
  },
  {
   "cell_type": "code",
   "execution_count": 6,
   "metadata": {
    "ExecuteTime": {
     "end_time": "2019-04-22T15:37:32.001526Z",
     "start_time": "2019-04-22T15:37:31.909143Z"
    }
   },
   "outputs": [
    {
     "name": "stdout",
     "output_type": "stream",
     "text": [
      "seasonality_XGB500_byTCRclusters_optByAUC_Cardio126/\n",
      "('results_df.shape: ', (25, 14))\n",
      "('number of problematic dirs=', 0)\n"
     ]
    },
    {
     "data": {
      "text/html": [
       "<div>\n",
       "<style scoped>\n",
       "    .dataframe tbody tr th:only-of-type {\n",
       "        vertical-align: middle;\n",
       "    }\n",
       "\n",
       "    .dataframe tbody tr th {\n",
       "        vertical-align: top;\n",
       "    }\n",
       "\n",
       "    .dataframe thead th {\n",
       "        text-align: right;\n",
       "    }\n",
       "</style>\n",
       "<table border=\"1\" class=\"dataframe\">\n",
       "  <thead>\n",
       "    <tr style=\"text-align: right;\">\n",
       "      <th></th>\n",
       "      <th>dir</th>\n",
       "      <th>AUC</th>\n",
       "      <th>prevalence</th>\n",
       "      <th>Precision_Recall</th>\n",
       "      <th>kappa</th>\n",
       "    </tr>\n",
       "    <tr>\n",
       "      <th>index</th>\n",
       "      <th></th>\n",
       "      <th></th>\n",
       "      <th></th>\n",
       "      <th></th>\n",
       "      <th></th>\n",
       "    </tr>\n",
       "  </thead>\n",
       "  <tbody>\n",
       "    <tr>\n",
       "      <th>Month_1</th>\n",
       "      <td>seasonality_XGB500_byTCRclusters_optByAUC_Cardio126/</td>\n",
       "      <td>0.673016</td>\n",
       "      <td>0.072165</td>\n",
       "      <td>0.096667</td>\n",
       "      <td>0.000000</td>\n",
       "    </tr>\n",
       "    <tr>\n",
       "      <th>Month_year_12_2017</th>\n",
       "      <td>seasonality_XGB500_byTCRclusters_optByAUC_Cardio126/</td>\n",
       "      <td>0.664326</td>\n",
       "      <td>0.082474</td>\n",
       "      <td>0.130112</td>\n",
       "      <td>0.000000</td>\n",
       "    </tr>\n",
       "    <tr>\n",
       "      <th>Season_summer</th>\n",
       "      <td>seasonality_XGB500_byTCRclusters_optByAUC_Cardio126/</td>\n",
       "      <td>0.617140</td>\n",
       "      <td>0.298969</td>\n",
       "      <td>0.383512</td>\n",
       "      <td>0.080278</td>\n",
       "    </tr>\n",
       "    <tr>\n",
       "      <th>Season_year_summer_2017</th>\n",
       "      <td>seasonality_XGB500_byTCRclusters_optByAUC_Cardio126/</td>\n",
       "      <td>0.614907</td>\n",
       "      <td>0.288660</td>\n",
       "      <td>0.416310</td>\n",
       "      <td>0.148548</td>\n",
       "    </tr>\n",
       "    <tr>\n",
       "      <th>Month_12</th>\n",
       "      <td>seasonality_XGB500_byTCRclusters_optByAUC_Cardio126/</td>\n",
       "      <td>0.606742</td>\n",
       "      <td>0.082474</td>\n",
       "      <td>0.127313</td>\n",
       "      <td>0.000000</td>\n",
       "    </tr>\n",
       "    <tr>\n",
       "      <th>Year_2017</th>\n",
       "      <td>seasonality_XGB500_byTCRclusters_optByAUC_Cardio126/</td>\n",
       "      <td>0.602528</td>\n",
       "      <td>0.917526</td>\n",
       "      <td>0.951342</td>\n",
       "      <td>0.000000</td>\n",
       "    </tr>\n",
       "    <tr>\n",
       "      <th>Month_6</th>\n",
       "      <td>seasonality_XGB500_byTCRclusters_optByAUC_Cardio126/</td>\n",
       "      <td>0.590659</td>\n",
       "      <td>0.134021</td>\n",
       "      <td>0.153947</td>\n",
       "      <td>0.000000</td>\n",
       "    </tr>\n",
       "    <tr>\n",
       "      <th>Year_2018</th>\n",
       "      <td>seasonality_XGB500_byTCRclusters_optByAUC_Cardio126/</td>\n",
       "      <td>0.577247</td>\n",
       "      <td>0.082474</td>\n",
       "      <td>0.113930</td>\n",
       "      <td>0.000000</td>\n",
       "    </tr>\n",
       "    <tr>\n",
       "      <th>Month_year_6_2017</th>\n",
       "      <td>seasonality_XGB500_byTCRclusters_optByAUC_Cardio126/</td>\n",
       "      <td>0.568681</td>\n",
       "      <td>0.134021</td>\n",
       "      <td>0.141714</td>\n",
       "      <td>0.000000</td>\n",
       "    </tr>\n",
       "    <tr>\n",
       "      <th>Month_7</th>\n",
       "      <td>seasonality_XGB500_byTCRclusters_optByAUC_Cardio126/</td>\n",
       "      <td>0.543040</td>\n",
       "      <td>0.134021</td>\n",
       "      <td>0.133983</td>\n",
       "      <td>0.000000</td>\n",
       "    </tr>\n",
       "    <tr>\n",
       "      <th>Month_year_7_2017</th>\n",
       "      <td>seasonality_XGB500_byTCRclusters_optByAUC_Cardio126/</td>\n",
       "      <td>0.506863</td>\n",
       "      <td>0.123711</td>\n",
       "      <td>0.122872</td>\n",
       "      <td>0.000000</td>\n",
       "    </tr>\n",
       "    <tr>\n",
       "      <th>Month_year_4_2017</th>\n",
       "      <td>seasonality_XGB500_byTCRclusters_optByAUC_Cardio126/</td>\n",
       "      <td>0.498851</td>\n",
       "      <td>0.103093</td>\n",
       "      <td>0.095601</td>\n",
       "      <td>-0.019102</td>\n",
       "    </tr>\n",
       "    <tr>\n",
       "      <th>Season_winter</th>\n",
       "      <td>seasonality_XGB500_byTCRclusters_optByAUC_Cardio126/</td>\n",
       "      <td>0.487179</td>\n",
       "      <td>0.195876</td>\n",
       "      <td>0.177792</td>\n",
       "      <td>-0.038756</td>\n",
       "    </tr>\n",
       "    <tr>\n",
       "      <th>Season_automn</th>\n",
       "      <td>seasonality_XGB500_byTCRclusters_optByAUC_Cardio126/</td>\n",
       "      <td>0.485627</td>\n",
       "      <td>0.422680</td>\n",
       "      <td>0.398423</td>\n",
       "      <td>0.064169</td>\n",
       "    </tr>\n",
       "    <tr>\n",
       "      <th>Season_year_automn_2017</th>\n",
       "      <td>seasonality_XGB500_byTCRclusters_optByAUC_Cardio126/</td>\n",
       "      <td>0.479664</td>\n",
       "      <td>0.402062</td>\n",
       "      <td>0.381233</td>\n",
       "      <td>0.014450</td>\n",
       "    </tr>\n",
       "    <tr>\n",
       "      <th>Month_4</th>\n",
       "      <td>seasonality_XGB500_byTCRclusters_optByAUC_Cardio126/</td>\n",
       "      <td>0.458774</td>\n",
       "      <td>0.113402</td>\n",
       "      <td>0.097785</td>\n",
       "      <td>0.000000</td>\n",
       "    </tr>\n",
       "    <tr>\n",
       "      <th>Month_3</th>\n",
       "      <td>seasonality_XGB500_byTCRclusters_optByAUC_Cardio126/</td>\n",
       "      <td>0.439607</td>\n",
       "      <td>0.082474</td>\n",
       "      <td>0.072667</td>\n",
       "      <td>0.000000</td>\n",
       "    </tr>\n",
       "    <tr>\n",
       "      <th>Season_year_winter_2017</th>\n",
       "      <td>seasonality_XGB500_byTCRclusters_optByAUC_Cardio126/</td>\n",
       "      <td>0.418244</td>\n",
       "      <td>0.144330</td>\n",
       "      <td>0.123422</td>\n",
       "      <td>-0.037433</td>\n",
       "    </tr>\n",
       "    <tr>\n",
       "      <th>Month_5</th>\n",
       "      <td>seasonality_XGB500_byTCRclusters_optByAUC_Cardio126/</td>\n",
       "      <td>0.412745</td>\n",
       "      <td>0.123711</td>\n",
       "      <td>0.178766</td>\n",
       "      <td>0.000000</td>\n",
       "    </tr>\n",
       "    <tr>\n",
       "      <th>Season_spring</th>\n",
       "      <td>seasonality_XGB500_byTCRclusters_optByAUC_Cardio126/</td>\n",
       "      <td>0.404494</td>\n",
       "      <td>0.082474</td>\n",
       "      <td>0.063972</td>\n",
       "      <td>0.000000</td>\n",
       "    </tr>\n",
       "    <tr>\n",
       "      <th>Month_year_3_2017</th>\n",
       "      <td>seasonality_XGB500_byTCRclusters_optByAUC_Cardio126/</td>\n",
       "      <td>0.398876</td>\n",
       "      <td>0.082474</td>\n",
       "      <td>0.062381</td>\n",
       "      <td>0.000000</td>\n",
       "    </tr>\n",
       "    <tr>\n",
       "      <th>Month_year_9_2017</th>\n",
       "      <td>seasonality_XGB500_byTCRclusters_optByAUC_Cardio126/</td>\n",
       "      <td>0.393108</td>\n",
       "      <td>0.185567</td>\n",
       "      <td>0.142799</td>\n",
       "      <td>0.000000</td>\n",
       "    </tr>\n",
       "    <tr>\n",
       "      <th>Month_9</th>\n",
       "      <td>seasonality_XGB500_byTCRclusters_optByAUC_Cardio126/</td>\n",
       "      <td>0.367089</td>\n",
       "      <td>0.185567</td>\n",
       "      <td>0.136696</td>\n",
       "      <td>0.000000</td>\n",
       "    </tr>\n",
       "    <tr>\n",
       "      <th>Season_year_spring_2017</th>\n",
       "      <td>seasonality_XGB500_byTCRclusters_optByAUC_Cardio126/</td>\n",
       "      <td>0.338483</td>\n",
       "      <td>0.082474</td>\n",
       "      <td>0.058336</td>\n",
       "      <td>0.000000</td>\n",
       "    </tr>\n",
       "    <tr>\n",
       "      <th>Month_year_5_2017</th>\n",
       "      <td>seasonality_XGB500_byTCRclusters_optByAUC_Cardio126/</td>\n",
       "      <td>0.279070</td>\n",
       "      <td>0.113402</td>\n",
       "      <td>0.081020</td>\n",
       "      <td>0.000000</td>\n",
       "    </tr>\n",
       "  </tbody>\n",
       "</table>\n",
       "</div>"
      ],
      "text/plain": [
       "                                                                          dir       AUC  prevalence  Precision_Recall     kappa\n",
       "index                                                                                                                          \n",
       "Month_1                  seasonality_XGB500_byTCRclusters_optByAUC_Cardio126/  0.673016  0.072165    0.096667          0.000000\n",
       "Month_year_12_2017       seasonality_XGB500_byTCRclusters_optByAUC_Cardio126/  0.664326  0.082474    0.130112          0.000000\n",
       "Season_summer            seasonality_XGB500_byTCRclusters_optByAUC_Cardio126/  0.617140  0.298969    0.383512          0.080278\n",
       "Season_year_summer_2017  seasonality_XGB500_byTCRclusters_optByAUC_Cardio126/  0.614907  0.288660    0.416310          0.148548\n",
       "Month_12                 seasonality_XGB500_byTCRclusters_optByAUC_Cardio126/  0.606742  0.082474    0.127313          0.000000\n",
       "Year_2017                seasonality_XGB500_byTCRclusters_optByAUC_Cardio126/  0.602528  0.917526    0.951342          0.000000\n",
       "Month_6                  seasonality_XGB500_byTCRclusters_optByAUC_Cardio126/  0.590659  0.134021    0.153947          0.000000\n",
       "Year_2018                seasonality_XGB500_byTCRclusters_optByAUC_Cardio126/  0.577247  0.082474    0.113930          0.000000\n",
       "Month_year_6_2017        seasonality_XGB500_byTCRclusters_optByAUC_Cardio126/  0.568681  0.134021    0.141714          0.000000\n",
       "Month_7                  seasonality_XGB500_byTCRclusters_optByAUC_Cardio126/  0.543040  0.134021    0.133983          0.000000\n",
       "Month_year_7_2017        seasonality_XGB500_byTCRclusters_optByAUC_Cardio126/  0.506863  0.123711    0.122872          0.000000\n",
       "Month_year_4_2017        seasonality_XGB500_byTCRclusters_optByAUC_Cardio126/  0.498851  0.103093    0.095601         -0.019102\n",
       "Season_winter            seasonality_XGB500_byTCRclusters_optByAUC_Cardio126/  0.487179  0.195876    0.177792         -0.038756\n",
       "Season_automn            seasonality_XGB500_byTCRclusters_optByAUC_Cardio126/  0.485627  0.422680    0.398423          0.064169\n",
       "Season_year_automn_2017  seasonality_XGB500_byTCRclusters_optByAUC_Cardio126/  0.479664  0.402062    0.381233          0.014450\n",
       "Month_4                  seasonality_XGB500_byTCRclusters_optByAUC_Cardio126/  0.458774  0.113402    0.097785          0.000000\n",
       "Month_3                  seasonality_XGB500_byTCRclusters_optByAUC_Cardio126/  0.439607  0.082474    0.072667          0.000000\n",
       "Season_year_winter_2017  seasonality_XGB500_byTCRclusters_optByAUC_Cardio126/  0.418244  0.144330    0.123422         -0.037433\n",
       "Month_5                  seasonality_XGB500_byTCRclusters_optByAUC_Cardio126/  0.412745  0.123711    0.178766          0.000000\n",
       "Season_spring            seasonality_XGB500_byTCRclusters_optByAUC_Cardio126/  0.404494  0.082474    0.063972          0.000000\n",
       "Month_year_3_2017        seasonality_XGB500_byTCRclusters_optByAUC_Cardio126/  0.398876  0.082474    0.062381          0.000000\n",
       "Month_year_9_2017        seasonality_XGB500_byTCRclusters_optByAUC_Cardio126/  0.393108  0.185567    0.142799          0.000000\n",
       "Month_9                  seasonality_XGB500_byTCRclusters_optByAUC_Cardio126/  0.367089  0.185567    0.136696          0.000000\n",
       "Season_year_spring_2017  seasonality_XGB500_byTCRclusters_optByAUC_Cardio126/  0.338483  0.082474    0.058336          0.000000\n",
       "Month_year_5_2017        seasonality_XGB500_byTCRclusters_optByAUC_Cardio126/  0.279070  0.113402    0.081020          0.000000"
      ]
     },
     "execution_count": 6,
     "metadata": {},
     "output_type": "execute_result"
    }
   ],
   "source": [
    "AUC_threshold=0.6\n",
    "kappa_threshold=0.2\n",
    "r_threshold=0\n",
    "p_r_threshold=0.05\n",
    "\n",
    "pd.set_option('display.max_colwidth', -1)\n",
    "\n",
    "dir1='/net/mraid08/export/jafar/Microbiome/Analyses/ShaniBAF/predictions2/seasonality/'\n",
    "prediction_dirs=['seasonality_XGB500_byTCRclusters_optByAUC_Cardio126/',\n",
    "                ]\n",
    "\n",
    "summaryDF=pd.DataFrame()\n",
    "problematic_dirs=[]\n",
    "for pred_dir in prediction_dirs:\n",
    "#     f2=dir1+pred_dir+'/predictions_df.pkl'\n",
    "#     predDF=pd.read_pickle(f2)\n",
    "#     print ('predDF shape=',predDF.shape)\n",
    "#     print predDF.tail(10)\n",
    "    \n",
    "    f1=dir1+pred_dir+'/results_df.pkl'\n",
    "#     print d\n",
    "    try:\n",
    "        df= pd.read_pickle(f1)\n",
    "        df['dir']=pred_dir.replace('Acute_medication_phenotypes_','')\n",
    "        summaryDF=pd.concat([summaryDF,df])\n",
    "    except:\n",
    "        print ' couldnt get results from %s' %pred_dir\n",
    "        problematic_dirs.append(pred_dir)\n",
    "    print pred_dir\n",
    "    print ('results_df.shape: ',df.shape)\n",
    "#     print df.head()\n",
    "        \n",
    "print ('number of problematic dirs=',len(problematic_dirs))\n",
    "\n",
    "interesting_cols=['dir','AUC','prevalence','Precision_Recall','kappa']\n",
    "summaryDF=summaryDF.reset_index().sort_values(by=['AUC'],ascending=False).set_index('index')[interesting_cols]\n",
    "\n",
    "summaryDF"
   ]
  },
  {
   "cell_type": "markdown",
   "metadata": {},
   "source": [
    "## Cardio126-by phenotypes:"
   ]
  },
  {
   "cell_type": "code",
   "execution_count": 9,
   "metadata": {
    "ExecuteTime": {
     "end_time": "2019-04-22T18:54:33.634329Z",
     "start_time": "2019-04-22T18:54:33.431018Z"
    }
   },
   "outputs": [
    {
     "name": "stdout",
     "output_type": "stream",
     "text": [
      "seasonality_XGB_byMajorPhenotypes_optByAUC_Cardio126/\n",
      "('results_df.shape: ', (25, 14))\n",
      "('number of problematic dirs=', 0)\n"
     ]
    },
    {
     "data": {
      "text/html": [
       "<div>\n",
       "<style scoped>\n",
       "    .dataframe tbody tr th:only-of-type {\n",
       "        vertical-align: middle;\n",
       "    }\n",
       "\n",
       "    .dataframe tbody tr th {\n",
       "        vertical-align: top;\n",
       "    }\n",
       "\n",
       "    .dataframe thead th {\n",
       "        text-align: right;\n",
       "    }\n",
       "</style>\n",
       "<table border=\"1\" class=\"dataframe\">\n",
       "  <thead>\n",
       "    <tr style=\"text-align: right;\">\n",
       "      <th></th>\n",
       "      <th>dir</th>\n",
       "      <th>AUC</th>\n",
       "      <th>prevalence</th>\n",
       "      <th>Precision_Recall</th>\n",
       "      <th>kappa</th>\n",
       "    </tr>\n",
       "    <tr>\n",
       "      <th>index</th>\n",
       "      <th></th>\n",
       "      <th></th>\n",
       "      <th></th>\n",
       "      <th></th>\n",
       "      <th></th>\n",
       "    </tr>\n",
       "  </thead>\n",
       "  <tbody>\n",
       "    <tr>\n",
       "      <th>Month_12</th>\n",
       "      <td>seasonality_XGB_byMajorPhenotypes_optByAUC_Cardio126/</td>\n",
       "      <td>0.702247</td>\n",
       "      <td>0.082474</td>\n",
       "      <td>0.151540</td>\n",
       "      <td>0.000000</td>\n",
       "    </tr>\n",
       "    <tr>\n",
       "      <th>Month_year_12_2017</th>\n",
       "      <td>seasonality_XGB_byMajorPhenotypes_optByAUC_Cardio126/</td>\n",
       "      <td>0.683989</td>\n",
       "      <td>0.082474</td>\n",
       "      <td>0.176668</td>\n",
       "      <td>0.000000</td>\n",
       "    </tr>\n",
       "    <tr>\n",
       "      <th>Month_year_7_2017</th>\n",
       "      <td>seasonality_XGB_byMajorPhenotypes_optByAUC_Cardio126/</td>\n",
       "      <td>0.632353</td>\n",
       "      <td>0.123711</td>\n",
       "      <td>0.153933</td>\n",
       "      <td>-0.036641</td>\n",
       "    </tr>\n",
       "    <tr>\n",
       "      <th>Month_1</th>\n",
       "      <td>seasonality_XGB_byMajorPhenotypes_optByAUC_Cardio126/</td>\n",
       "      <td>0.605556</td>\n",
       "      <td>0.072165</td>\n",
       "      <td>0.086155</td>\n",
       "      <td>-0.018373</td>\n",
       "    </tr>\n",
       "    <tr>\n",
       "      <th>Month_7</th>\n",
       "      <td>seasonality_XGB_byMajorPhenotypes_optByAUC_Cardio126/</td>\n",
       "      <td>0.559982</td>\n",
       "      <td>0.134021</td>\n",
       "      <td>0.141065</td>\n",
       "      <td>-0.019520</td>\n",
       "    </tr>\n",
       "    <tr>\n",
       "      <th>Month_9</th>\n",
       "      <td>seasonality_XGB_byMajorPhenotypes_optByAUC_Cardio126/</td>\n",
       "      <td>0.553446</td>\n",
       "      <td>0.185567</td>\n",
       "      <td>0.213155</td>\n",
       "      <td>-0.038544</td>\n",
       "    </tr>\n",
       "    <tr>\n",
       "      <th>Year_2017</th>\n",
       "      <td>seasonality_XGB_byMajorPhenotypes_optByAUC_Cardio126/</td>\n",
       "      <td>0.511236</td>\n",
       "      <td>0.917526</td>\n",
       "      <td>0.923907</td>\n",
       "      <td>0.000000</td>\n",
       "    </tr>\n",
       "    <tr>\n",
       "      <th>Month_year_5_2017</th>\n",
       "      <td>seasonality_XGB_byMajorPhenotypes_optByAUC_Cardio126/</td>\n",
       "      <td>0.506342</td>\n",
       "      <td>0.113402</td>\n",
       "      <td>0.161124</td>\n",
       "      <td>0.000000</td>\n",
       "    </tr>\n",
       "    <tr>\n",
       "      <th>Season_winter</th>\n",
       "      <td>seasonality_XGB_byMajorPhenotypes_optByAUC_Cardio126/</td>\n",
       "      <td>0.492240</td>\n",
       "      <td>0.195876</td>\n",
       "      <td>0.184229</td>\n",
       "      <td>0.000000</td>\n",
       "    </tr>\n",
       "    <tr>\n",
       "      <th>Month_4</th>\n",
       "      <td>seasonality_XGB_byMajorPhenotypes_optByAUC_Cardio126/</td>\n",
       "      <td>0.485201</td>\n",
       "      <td>0.113402</td>\n",
       "      <td>0.118405</td>\n",
       "      <td>0.000000</td>\n",
       "    </tr>\n",
       "    <tr>\n",
       "      <th>Month_year_9_2017</th>\n",
       "      <td>seasonality_XGB_byMajorPhenotypes_optByAUC_Cardio126/</td>\n",
       "      <td>0.480661</td>\n",
       "      <td>0.185567</td>\n",
       "      <td>0.177302</td>\n",
       "      <td>0.044583</td>\n",
       "    </tr>\n",
       "    <tr>\n",
       "      <th>Season_year_automn_2017</th>\n",
       "      <td>seasonality_XGB_byMajorPhenotypes_optByAUC_Cardio126/</td>\n",
       "      <td>0.479222</td>\n",
       "      <td>0.402062</td>\n",
       "      <td>0.374572</td>\n",
       "      <td>-0.020516</td>\n",
       "    </tr>\n",
       "    <tr>\n",
       "      <th>Month_year_4_2017</th>\n",
       "      <td>seasonality_XGB_byMajorPhenotypes_optByAUC_Cardio126/</td>\n",
       "      <td>0.471839</td>\n",
       "      <td>0.103093</td>\n",
       "      <td>0.111754</td>\n",
       "      <td>0.000000</td>\n",
       "    </tr>\n",
       "    <tr>\n",
       "      <th>Year_2018</th>\n",
       "      <td>seasonality_XGB_byMajorPhenotypes_optByAUC_Cardio126/</td>\n",
       "      <td>0.468399</td>\n",
       "      <td>0.082474</td>\n",
       "      <td>0.081788</td>\n",
       "      <td>0.000000</td>\n",
       "    </tr>\n",
       "    <tr>\n",
       "      <th>Month_3</th>\n",
       "      <td>seasonality_XGB_byMajorPhenotypes_optByAUC_Cardio126/</td>\n",
       "      <td>0.468399</td>\n",
       "      <td>0.082474</td>\n",
       "      <td>0.074183</td>\n",
       "      <td>0.000000</td>\n",
       "    </tr>\n",
       "    <tr>\n",
       "      <th>Season_year_summer_2017</th>\n",
       "      <td>seasonality_XGB_byMajorPhenotypes_optByAUC_Cardio126/</td>\n",
       "      <td>0.465839</td>\n",
       "      <td>0.288660</td>\n",
       "      <td>0.307751</td>\n",
       "      <td>0.009158</td>\n",
       "    </tr>\n",
       "    <tr>\n",
       "      <th>Month_5</th>\n",
       "      <td>seasonality_XGB_byMajorPhenotypes_optByAUC_Cardio126/</td>\n",
       "      <td>0.459314</td>\n",
       "      <td>0.123711</td>\n",
       "      <td>0.108802</td>\n",
       "      <td>0.000000</td>\n",
       "    </tr>\n",
       "    <tr>\n",
       "      <th>Month_6</th>\n",
       "      <td>seasonality_XGB_byMajorPhenotypes_optByAUC_Cardio126/</td>\n",
       "      <td>0.451923</td>\n",
       "      <td>0.134021</td>\n",
       "      <td>0.195527</td>\n",
       "      <td>0.000000</td>\n",
       "    </tr>\n",
       "    <tr>\n",
       "      <th>Season_summer</th>\n",
       "      <td>seasonality_XGB_byMajorPhenotypes_optByAUC_Cardio126/</td>\n",
       "      <td>0.445487</td>\n",
       "      <td>0.298969</td>\n",
       "      <td>0.257603</td>\n",
       "      <td>0.000000</td>\n",
       "    </tr>\n",
       "    <tr>\n",
       "      <th>Season_year_spring_2017</th>\n",
       "      <td>seasonality_XGB_byMajorPhenotypes_optByAUC_Cardio126/</td>\n",
       "      <td>0.433989</td>\n",
       "      <td>0.082474</td>\n",
       "      <td>0.070181</td>\n",
       "      <td>0.000000</td>\n",
       "    </tr>\n",
       "    <tr>\n",
       "      <th>Season_year_winter_2017</th>\n",
       "      <td>seasonality_XGB_byMajorPhenotypes_optByAUC_Cardio126/</td>\n",
       "      <td>0.415663</td>\n",
       "      <td>0.144330</td>\n",
       "      <td>0.117371</td>\n",
       "      <td>0.000000</td>\n",
       "    </tr>\n",
       "    <tr>\n",
       "      <th>Month_year_6_2017</th>\n",
       "      <td>seasonality_XGB_byMajorPhenotypes_optByAUC_Cardio126/</td>\n",
       "      <td>0.397894</td>\n",
       "      <td>0.134021</td>\n",
       "      <td>0.104120</td>\n",
       "      <td>-0.080446</td>\n",
       "    </tr>\n",
       "    <tr>\n",
       "      <th>Season_automn</th>\n",
       "      <td>seasonality_XGB_byMajorPhenotypes_optByAUC_Cardio126/</td>\n",
       "      <td>0.392204</td>\n",
       "      <td>0.422680</td>\n",
       "      <td>0.349280</td>\n",
       "      <td>-0.100189</td>\n",
       "    </tr>\n",
       "    <tr>\n",
       "      <th>Month_year_3_2017</th>\n",
       "      <td>seasonality_XGB_byMajorPhenotypes_optByAUC_Cardio126/</td>\n",
       "      <td>0.367275</td>\n",
       "      <td>0.082474</td>\n",
       "      <td>0.059814</td>\n",
       "      <td>0.000000</td>\n",
       "    </tr>\n",
       "    <tr>\n",
       "      <th>Season_spring</th>\n",
       "      <td>seasonality_XGB_byMajorPhenotypes_optByAUC_Cardio126/</td>\n",
       "      <td>0.304775</td>\n",
       "      <td>0.082474</td>\n",
       "      <td>0.054606</td>\n",
       "      <td>0.000000</td>\n",
       "    </tr>\n",
       "  </tbody>\n",
       "</table>\n",
       "</div>"
      ],
      "text/plain": [
       "                                                                           dir       AUC  prevalence  Precision_Recall     kappa\n",
       "index                                                                                                                           \n",
       "Month_12                 seasonality_XGB_byMajorPhenotypes_optByAUC_Cardio126/  0.702247  0.082474    0.151540          0.000000\n",
       "Month_year_12_2017       seasonality_XGB_byMajorPhenotypes_optByAUC_Cardio126/  0.683989  0.082474    0.176668          0.000000\n",
       "Month_year_7_2017        seasonality_XGB_byMajorPhenotypes_optByAUC_Cardio126/  0.632353  0.123711    0.153933         -0.036641\n",
       "Month_1                  seasonality_XGB_byMajorPhenotypes_optByAUC_Cardio126/  0.605556  0.072165    0.086155         -0.018373\n",
       "Month_7                  seasonality_XGB_byMajorPhenotypes_optByAUC_Cardio126/  0.559982  0.134021    0.141065         -0.019520\n",
       "Month_9                  seasonality_XGB_byMajorPhenotypes_optByAUC_Cardio126/  0.553446  0.185567    0.213155         -0.038544\n",
       "Year_2017                seasonality_XGB_byMajorPhenotypes_optByAUC_Cardio126/  0.511236  0.917526    0.923907          0.000000\n",
       "Month_year_5_2017        seasonality_XGB_byMajorPhenotypes_optByAUC_Cardio126/  0.506342  0.113402    0.161124          0.000000\n",
       "Season_winter            seasonality_XGB_byMajorPhenotypes_optByAUC_Cardio126/  0.492240  0.195876    0.184229          0.000000\n",
       "Month_4                  seasonality_XGB_byMajorPhenotypes_optByAUC_Cardio126/  0.485201  0.113402    0.118405          0.000000\n",
       "Month_year_9_2017        seasonality_XGB_byMajorPhenotypes_optByAUC_Cardio126/  0.480661  0.185567    0.177302          0.044583\n",
       "Season_year_automn_2017  seasonality_XGB_byMajorPhenotypes_optByAUC_Cardio126/  0.479222  0.402062    0.374572         -0.020516\n",
       "Month_year_4_2017        seasonality_XGB_byMajorPhenotypes_optByAUC_Cardio126/  0.471839  0.103093    0.111754          0.000000\n",
       "Year_2018                seasonality_XGB_byMajorPhenotypes_optByAUC_Cardio126/  0.468399  0.082474    0.081788          0.000000\n",
       "Month_3                  seasonality_XGB_byMajorPhenotypes_optByAUC_Cardio126/  0.468399  0.082474    0.074183          0.000000\n",
       "Season_year_summer_2017  seasonality_XGB_byMajorPhenotypes_optByAUC_Cardio126/  0.465839  0.288660    0.307751          0.009158\n",
       "Month_5                  seasonality_XGB_byMajorPhenotypes_optByAUC_Cardio126/  0.459314  0.123711    0.108802          0.000000\n",
       "Month_6                  seasonality_XGB_byMajorPhenotypes_optByAUC_Cardio126/  0.451923  0.134021    0.195527          0.000000\n",
       "Season_summer            seasonality_XGB_byMajorPhenotypes_optByAUC_Cardio126/  0.445487  0.298969    0.257603          0.000000\n",
       "Season_year_spring_2017  seasonality_XGB_byMajorPhenotypes_optByAUC_Cardio126/  0.433989  0.082474    0.070181          0.000000\n",
       "Season_year_winter_2017  seasonality_XGB_byMajorPhenotypes_optByAUC_Cardio126/  0.415663  0.144330    0.117371          0.000000\n",
       "Month_year_6_2017        seasonality_XGB_byMajorPhenotypes_optByAUC_Cardio126/  0.397894  0.134021    0.104120         -0.080446\n",
       "Season_automn            seasonality_XGB_byMajorPhenotypes_optByAUC_Cardio126/  0.392204  0.422680    0.349280         -0.100189\n",
       "Month_year_3_2017        seasonality_XGB_byMajorPhenotypes_optByAUC_Cardio126/  0.367275  0.082474    0.059814          0.000000\n",
       "Season_spring            seasonality_XGB_byMajorPhenotypes_optByAUC_Cardio126/  0.304775  0.082474    0.054606          0.000000"
      ]
     },
     "execution_count": 9,
     "metadata": {},
     "output_type": "execute_result"
    }
   ],
   "source": [
    "AUC_threshold=0.6\n",
    "kappa_threshold=0.2\n",
    "r_threshold=0\n",
    "p_r_threshold=0.05\n",
    "\n",
    "pd.set_option('display.max_colwidth', -1)\n",
    "\n",
    "dir1='/net/mraid08/export/jafar/Microbiome/Analyses/ShaniBAF/predictions2/seasonality/'\n",
    "prediction_dirs=['seasonality_XGB_byMajorPhenotypes_optByAUC_Cardio126/',\n",
    "                ]\n",
    "\n",
    "summaryDF=pd.DataFrame()\n",
    "problematic_dirs=[]\n",
    "for pred_dir in prediction_dirs:\n",
    "#     f2=dir1+pred_dir+'/predictions_df.pkl'\n",
    "#     predDF=pd.read_pickle(f2)\n",
    "#     print ('predDF shape=',predDF.shape)\n",
    "#     print predDF.tail(10)\n",
    "    \n",
    "    f1=dir1+pred_dir+'/results_df.pkl'\n",
    "#     print d\n",
    "    try:\n",
    "        df= pd.read_pickle(f1)\n",
    "        df['dir']=pred_dir.replace('Acute_medication_phenotypes_','')\n",
    "        summaryDF=pd.concat([summaryDF,df])\n",
    "    except:\n",
    "        print ' couldnt get results from %s' %pred_dir\n",
    "        problematic_dirs.append(pred_dir)\n",
    "    print pred_dir\n",
    "    print ('results_df.shape: ',df.shape)\n",
    "#     print df.head()\n",
    "        \n",
    "print ('number of problematic dirs=',len(problematic_dirs))\n",
    "\n",
    "interesting_cols=['dir','AUC','prevalence','Precision_Recall','kappa']\n",
    "summaryDF=summaryDF.reset_index().sort_values(by=['AUC'],ascending=False).set_index('index')[interesting_cols]\n",
    "\n",
    "summaryDF"
   ]
  },
  {
   "cell_type": "code",
   "execution_count": null,
   "metadata": {},
   "outputs": [],
   "source": []
  }
 ],
 "metadata": {
  "kernelspec": {
   "display_name": "Python 2",
   "language": "python",
   "name": "python2"
  },
  "language_info": {
   "codemirror_mode": {
    "name": "ipython",
    "version": 2
   },
   "file_extension": ".py",
   "mimetype": "text/x-python",
   "name": "python",
   "nbconvert_exporter": "python",
   "pygments_lexer": "ipython2",
   "version": "2.7.8"
  },
  "toc": {
   "nav_menu": {},
   "number_sections": true,
   "sideBar": false,
   "skip_h1_title": false,
   "toc_cell": false,
   "toc_position": {
    "height": "592px",
    "left": "2px",
    "right": "20px",
    "top": "132.969px",
    "width": "350px"
   },
   "toc_section_display": "block",
   "toc_window_display": true
  },
  "varInspector": {
   "cols": {
    "lenName": 16,
    "lenType": 16,
    "lenVar": 40
   },
   "kernels_config": {
    "python": {
     "delete_cmd_postfix": "",
     "delete_cmd_prefix": "del ",
     "library": "var_list.py",
     "varRefreshCmd": "print(var_dic_list())"
    },
    "r": {
     "delete_cmd_postfix": ") ",
     "delete_cmd_prefix": "rm(",
     "library": "var_list.r",
     "varRefreshCmd": "cat(var_dic_list()) "
    }
   },
   "types_to_exclude": [
    "module",
    "function",
    "builtin_function_or_method",
    "instance",
    "_Feature"
   ],
   "window_display": false
  }
 },
 "nbformat": 4,
 "nbformat_minor": 2
}
