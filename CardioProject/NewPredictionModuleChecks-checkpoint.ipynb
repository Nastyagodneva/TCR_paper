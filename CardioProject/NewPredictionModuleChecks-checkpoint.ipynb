{
 "cells": [
  {
   "cell_type": "markdown",
   "metadata": {},
   "source": [
    "# Imports:"
   ]
  },
  {
   "cell_type": "code",
   "execution_count": 1,
   "metadata": {
    "ExecuteTime": {
     "end_time": "2018-11-08T11:01:17.735954Z",
     "start_time": "2018-11-08T11:01:13.391534Z"
    }
   },
   "outputs": [
    {
     "name": "stdout",
     "output_type": "stream",
     "text": [
      "done1\n",
      "stop\n",
      "stop\n",
      "done1\n",
      "stop\n",
      "done\n",
      "done\n",
      "done\n",
      "done\n",
      "stop\n",
      "stop\n",
      "end of function!!!\n"
     ]
    },
    {
     "name": "stderr",
     "output_type": "stream",
     "text": [
      "/usr/wisdom/python/lib/python2.7/site-packages/h5py/__init__.py:36: FutureWarning: Conversion of the second argument of issubdtype from `float` to `np.floating` is deprecated. In future, it will be treated as `np.float64 == np.dtype(float).type`.\n",
      "  from ._conv import register_converters as _register_converters\n"
     ]
    },
    {
     "name": "stdout",
     "output_type": "stream",
     "text": [
      "end of function!!!\n"
     ]
    }
   ],
   "source": [
    "from os import listdir,mkdir,makedirs\n",
    "from os.path import isfile, join, isdir,exists\n",
    "import pandas as pd\n",
    "import numpy as np\n",
    "from scipy import stats\n",
    "import re\n",
    "import matplotlib.pyplot as plt\n",
    "from matplotlib.backends.backend_pdf import PdfPages\n",
    "from myplots import roundup, rounddown, find_decimal_fold, percentile_cut_off, rarefaction_calc, rarefaction_plot,draw_correlation_scatter\n",
    "from matplotlib.ticker import FormatStrFormatter\n",
    "import cPickle as pickle\n",
    "from Bio.SeqUtils import GC\n",
    "import seaborn as sns\n",
    "import random\n",
    "from scipy.stats import pearsonr,fisher_exact\n",
    "from skbio.diversity.alpha import shannon, simpson, berger_parker_d\n",
    "\n",
    "from pop_organize import get_sample_data, get_sample_with_dfs\n",
    "from SufficientStatistics import *\n",
    "from MyFunctionsShani import *\n",
    "import math\n",
    "from myplots import roundup, rounddown, find_decimal_fold\n",
    "from skbio.stats.distance import mantel\n",
    "from scipy.spatial.distance import braycurtis, pdist, euclidean\n",
    "\n",
    "\n",
    "from GeneralFeaturePhenotypeInteractions.Feature_phenotype_functions import * \n",
    "from TCR_microbiome_interactions.TCR_microbiome_interactions_functions import *\n",
    "from TCR_microbiome_interactions.TCR_microbiome_interactions_functions2 import *\n",
    "from SampleLists.SampleFileFunctions import *\n",
    "from PhenotypicData.PhenotypeGenerationFunctions import *\n",
    "from CardioProject.CardioFunctions import *\n",
    "from PredictionPipeline.PredictionFunctions import *\n",
    "from TCR_feature_generation.SubsamplingFunctions import *\n",
    "\n",
    "import os\n",
    "from Utils import cacheOnDisk\n",
    "from queue.qp import qp,fakeqp\n",
    "from addloglevels import sethandlers\n",
    "\n",
    "#ML imports:\n",
    "from xgboost import XGBClassifier\n",
    "import lightgbm as lgb\n",
    "from collections import OrderedDict\n",
    "from sklearn.model_selection import GroupKFold,StratifiedKFold, KFold\n",
    "import statsmodels.formula.api as sm\n",
    "from sklearn.linear_model import LogisticRegression, LinearRegression\n",
    "import shap\n",
    "from sklearn import metrics, preprocessing\n",
    "from sklearn.svm import LinearSVC\n",
    "from sklearn.feature_selection import SelectFromModel,SelectKBest,chi2,mutual_info_classif,f_classif\n",
    "from sklearn.naive_bayes import GaussianNB\n",
    "\n",
    "MyPath='/net/mraid08/export/genie/Lab/Personal/ShaniBAF'\n",
    "\n",
    "with open('/net/mraid08/export/genie/Lab/Personal/ShaniBAF/Sample files/BD lists/PNP530','rb') as fp:\n",
    "    PNP530=pickle.load(fp)\n",
    "with open('/net/mraid08/export/genie/Lab/Personal/ShaniBAF/Sample files/BD lists/Cardio126','rb') as fp:\n",
    "    Cardio126=pickle.load(fp)\n",
    "PNP530Cardio126=PNP530+Cardio126\n"
   ]
  },
  {
   "cell_type": "markdown",
   "metadata": {},
   "source": [
    "# understand shap_values data"
   ]
  },
  {
   "cell_type": "code",
   "execution_count": null,
   "metadata": {
    "ExecuteTime": {
     "end_time": "2018-11-08T08:38:17.185738Z",
     "start_time": "2018-11-08T08:37:20.316381Z"
    }
   },
   "outputs": [],
   "source": [
    "f1='%s/TCR_real_data/metabolomics/predictions_NoamMod/top20_bySeqs_nrandom20/shap_values.pkl' %MyPath\n",
    "shap_values=pd.read_pickle(f1)"
   ]
  },
  {
   "cell_type": "code",
   "execution_count": null,
   "metadata": {
    "ExecuteTime": {
     "end_time": "2018-11-06T11:52:58.573471Z",
     "start_time": "2018-11-06T11:52:58.089948Z"
    }
   },
   "outputs": [],
   "source": [
    "for k,v in shap_values.items():\n",
    "    print k\n",
    "    print '-------'\n",
    "    print v.head()"
   ]
  },
  {
   "cell_type": "markdown",
   "metadata": {},
   "source": [
    "# try to run new module:"
   ]
  },
  {
   "cell_type": "code",
   "execution_count": null,
   "metadata": {
    "ExecuteTime": {
     "end_time": "2018-11-06T12:59:58.636191Z",
     "start_time": "2018-11-06T12:59:58.550868Z"
    }
   },
   "outputs": [],
   "source": [
    "f2='/net/mraid08/export/genie/Lab/Personal/ShaniBAF/TCR_real_data/metabolomics/acs_top20_BD_PNP530.dat'\n",
    "acs_top20_BD_PNP530=pd.read_pickle(f2)\n",
    "acs_top20_BD_PNP530.head()"
   ]
  },
  {
   "cell_type": "code",
   "execution_count": null,
   "metadata": {
    "ExecuteTime": {
     "end_time": "2018-11-06T13:01:05.936811Z",
     "start_time": "2018-11-06T13:01:05.923029Z"
    }
   },
   "outputs": [],
   "source": [
    "f3='/net/mraid08/export/genie/Lab/Personal/ShaniBAF/TCR_real_data/metabolomics/acs_top20_BD_PNP530_only2.dat'\n",
    "only2=acs_top20_BD_PNP530.iloc[:,:2]\n",
    "only2.to_pickle(f3)"
   ]
  },
  {
   "cell_type": "markdown",
   "metadata": {},
   "source": [
    "## try inserting external model parameters+save selected parameters:"
   ]
  },
  {
   "cell_type": "code",
   "execution_count": 12,
   "metadata": {
    "ExecuteTime": {
     "end_time": "2018-11-08T12:46:20.334235Z",
     "start_time": "2018-11-08T12:46:20.324794Z"
    }
   },
   "outputs": [
    {
     "name": "stderr",
     "output_type": "stream",
     "text": [
      "UsageError: Cell magic `%%async_run` not found.\n"
     ]
    }
   ],
   "source": [
    "#ran by the terminal:\n",
    "\n",
    "\n",
    "!python /home/sbenari/workspace/Microbiome/ShaniBA/PredictionPipeline/PredictionModuleShani.py /net/mraid08/export/\\\n",
    "genie/Lab/Personal/ShaniBAF/TCR_real_data/predictions/Trials/documentingParams_10/ -path_to_X\\\n",
    " /net/mraid08/export/genie/Lab/Personal/ShaniBAF/TCR_real_data/Predictions/featureDFs/allTCRfeatures_percShared10__withRels_AgeGenderGFRCorr.dat\\\n",
    " -path_to_Y /net/mraid08/export/genie/Lab/Personal/ShaniBAF/TCR_real_data/metabolomics/acs_top20_BD_PNP530_only2.dat\\\n",
    " -n_random 10 -parameter_search_type randomSearch -predictor_params '{\"learning_rate\":[0.1,0.01],\"N_ESTIMATORS\": [200,400,600,800,1000,1200],\"MAX_DEPTH\":[-1, 2, 3, 4, 5, 10],\"FEATURE_FRACTION\":[0.4,0.6,0.8,1],\\\n",
    "\"BAGGING_FRACTION\":[0.6,0.8,1],\"BAGGING_FREQ\":[0, 1, 2, 3, 5, 8, 10],\"NUM_LEAVES\": [2,4,6,8,10,12,14], \"METRIC\": [\"l2\"],\"N_THREADS\":[1], \"VERBOSE\":[-1],\"EARLY_STOPPING_ROUNDS\":[\"None\"],\\\n",
    "\"SILENT\": [\"True\"]}'\n",
    "#     , ,,}'"
   ]
  },
  {
   "cell_type": "code",
   "execution_count": null,
   "metadata": {},
   "outputs": [],
   "source": []
  },
  {
   "cell_type": "markdown",
   "metadata": {},
   "source": [
    "## try grid search:"
   ]
  },
  {
   "cell_type": "code",
   "execution_count": null,
   "metadata": {
    "ExecuteTime": {
     "start_time": "2018-11-08T11:06:33.601Z"
    }
   },
   "outputs": [],
   "source": [
    "#ran by the terminal:\n",
    "\n",
    "!python -bg /home/sbenari/workspace/Microbiome/ShaniBA/PredictionPipeline/PredictionModuleShani.py /net/mraid08/export/\\\n",
    "genie/Lab/Personal/ShaniBAF/TCR_real_data/predictions/Trials/documentingParams_10/ -path_to_X\\\n",
    " /net/mraid08/export/genie/Lab/Personal/ShaniBAF/TCR_real_data/Predictions/featureDFs/allTCRfeatures_percShared10__withRels_AgeGenderGFRCorr.dat\\\n",
    " -path_to_Y /net/mraid08/export/genie/Lab/Personal/ShaniBAF/TCR_real_data/metabolomics/acs_top20_BD_PNP530_only2.dat\\\n",
    " -n_random 10 -parameter_search_type gridSearch -predictor_params '{\"learning_rate\":[0.1,0.01],\"N_ESTIMATORS\": [100,500,1000]}'\n"
   ]
  },
  {
   "cell_type": "markdown",
   "metadata": {},
   "source": [
    "## try XGB:"
   ]
  },
  {
   "cell_type": "markdown",
   "metadata": {
    "ExecuteTime": {
     "end_time": "2018-11-08T15:46:31.546925Z",
     "start_time": "2018-11-08T15:46:31.541082Z"
    }
   },
   "source": [
    "ran using the terminal, n_iter=2, random search trying n_estimators, learning rate and max_depth"
   ]
  },
  {
   "cell_type": "code",
   "execution_count": 25,
   "metadata": {
    "ExecuteTime": {
     "end_time": "2018-11-08T15:47:54.687323Z",
     "start_time": "2018-11-08T15:47:54.654618Z"
    }
   },
   "outputs": [
    {
     "name": "stdout",
     "output_type": "stream",
     "text": [
      "100001271\n",
      "----\n",
      "    learning_rate  max_depth  n_estimators\n",
      "1            0.10          0           800\n",
      "2            0.10          4           400\n",
      "3            0.10          0          1200\n",
      "4            0.10          3          1200\n",
      "5            0.01          2          1000\n",
      "6            0.01          5           800\n",
      "7            0.01          2           600\n",
      "8            0.10          3          1200\n",
      "9            0.10          0           400\n",
      "10           0.10          2           600\n",
      "100001272\n",
      "----\n",
      "    learning_rate  max_depth  n_estimators\n",
      "1            0.01          3          1200\n",
      "2            0.10          3           400\n",
      "3            0.01          2           800\n",
      "4            0.01          3          1000\n",
      "5            0.01          0          1200\n",
      "6            0.10          5          1200\n",
      "7            0.10          4           800\n",
      "8            0.10          3           200\n",
      "9            0.01          5          1200\n",
      "10           0.10          2           600\n"
     ]
    }
   ],
   "source": [
    "f1='%s/TCR_real_data/predictions/Trials/XGB_randomSearch_2/selected_model_params.pkl' %MyPath\n",
    "selected_model_params=pd.read_pickle(f1)\n",
    "\n",
    "for k,v in selected_model_params.items():\n",
    "    print k\n",
    "    print '----'\n",
    "    print v"
   ]
  },
  {
   "cell_type": "markdown",
   "metadata": {
    "ExecuteTime": {
     "end_time": "2018-11-08T13:42:45.549774Z",
     "start_time": "2018-11-08T13:42:45.532866Z"
    }
   },
   "source": [
    "conclusion: using n_iter=2 can't enable selecting the right parameters... too noisy"
   ]
  },
  {
   "cell_type": "code",
   "execution_count": 27,
   "metadata": {
    "ExecuteTime": {
     "end_time": "2018-11-08T15:50:25.342801Z",
     "start_time": "2018-11-08T15:50:25.318927Z"
    }
   },
   "outputs": [
    {
     "data": {
      "text/html": [
       "<div>\n",
       "<style scoped>\n",
       "    .dataframe tbody tr th:only-of-type {\n",
       "        vertical-align: middle;\n",
       "    }\n",
       "\n",
       "    .dataframe tbody tr th {\n",
       "        vertical-align: top;\n",
       "    }\n",
       "\n",
       "    .dataframe thead th {\n",
       "        text-align: right;\n",
       "    }\n",
       "</style>\n",
       "<table border=\"1\" class=\"dataframe\">\n",
       "  <thead>\n",
       "    <tr style=\"text-align: right;\">\n",
       "      <th></th>\n",
       "      <th>Size</th>\n",
       "      <th>Coefficient_of_determination</th>\n",
       "      <th>pearson_r</th>\n",
       "      <th>pearson_p</th>\n",
       "      <th>spearman_r</th>\n",
       "      <th>spearman_p</th>\n",
       "    </tr>\n",
       "  </thead>\n",
       "  <tbody>\n",
       "    <tr>\n",
       "      <th>100001271</th>\n",
       "      <td>270</td>\n",
       "      <td>-0.0954479</td>\n",
       "      <td>0.0321958</td>\n",
       "      <td>0.598393</td>\n",
       "      <td>0.0426409</td>\n",
       "      <td>0.485347</td>\n",
       "    </tr>\n",
       "    <tr>\n",
       "      <th>100001272</th>\n",
       "      <td>270</td>\n",
       "      <td>-0.117337</td>\n",
       "      <td>-0.0175251</td>\n",
       "      <td>0.774378</td>\n",
       "      <td>-0.0152866</td>\n",
       "      <td>0.802561</td>\n",
       "    </tr>\n",
       "  </tbody>\n",
       "</table>\n",
       "</div>"
      ],
      "text/plain": [
       "          Size Coefficient_of_determination  pearson_r pearson_p spearman_r  \\\n",
       "100001271  270                   -0.0954479  0.0321958  0.598393  0.0426409   \n",
       "100001272  270                    -0.117337 -0.0175251  0.774378 -0.0152866   \n",
       "\n",
       "          spearman_p  \n",
       "100001271   0.485347  \n",
       "100001272   0.802561  "
      ]
     },
     "execution_count": 27,
     "metadata": {},
     "output_type": "execute_result"
    }
   ],
   "source": [
    "f1='%s/TCR_real_data/predictions/Trials/XGB_randomSearch_2/results_df.pkl' %MyPath\n",
    "results_df=pd.read_pickle(f1)\n",
    "results_df\n"
   ]
  },
  {
   "cell_type": "markdown",
   "metadata": {},
   "source": [
    "## try linear models:"
   ]
  },
  {
   "cell_type": "markdown",
   "metadata": {
    "ExecuteTime": {
     "end_time": "2018-11-08T15:46:31.546925Z",
     "start_time": "2018-11-08T15:46:31.541082Z"
    }
   },
   "source": [
    "ran using the terminal, n_iter=2, random search trying n_estimators, learning rate and max_depth"
   ]
  },
  {
   "cell_type": "code",
   "execution_count": 39,
   "metadata": {
    "ExecuteTime": {
     "end_time": "2018-11-08T18:54:31.506959Z",
     "start_time": "2018-11-08T18:54:31.481543Z"
    }
   },
   "outputs": [
    {
     "name": "stdout",
     "output_type": "stream",
     "text": [
      "isCardio\n",
      "----\n",
      "       C penalty\n",
      "1   0.01      l2\n",
      "2   0.01      l2\n",
      "3   0.01      l2\n",
      "4   0.01      l2\n",
      "5   0.01      l2\n",
      "6   0.01      l2\n",
      "7   0.01      l2\n",
      "8   0.01      l2\n",
      "9   0.01      l2\n",
      "10  0.01      l2\n"
     ]
    }
   ],
   "source": [
    "f1='%s/TCR_real_data/predictions/isCardio/lin_gridSearch/selected_model_params.pkl' %MyPath\n",
    "selected_model_params=pd.read_pickle(f1)\n",
    "\n",
    "for k,v in selected_model_params.items():\n",
    "    print k\n",
    "    print '----'\n",
    "    print v"
   ]
  },
  {
   "cell_type": "code",
   "execution_count": 40,
   "metadata": {
    "ExecuteTime": {
     "end_time": "2018-11-08T18:54:47.235443Z",
     "start_time": "2018-11-08T18:54:47.185543Z"
    }
   },
   "outputs": [
    {
     "data": {
      "text/html": [
       "<div>\n",
       "<style scoped>\n",
       "    .dataframe tbody tr th:only-of-type {\n",
       "        vertical-align: middle;\n",
       "    }\n",
       "\n",
       "    .dataframe tbody tr th {\n",
       "        vertical-align: top;\n",
       "    }\n",
       "\n",
       "    .dataframe thead th {\n",
       "        text-align: right;\n",
       "    }\n",
       "</style>\n",
       "<table border=\"1\" class=\"dataframe\">\n",
       "  <thead>\n",
       "    <tr style=\"text-align: right;\">\n",
       "      <th></th>\n",
       "      <th>Size</th>\n",
       "      <th>Coefficient_of_determination</th>\n",
       "      <th>pearson_r</th>\n",
       "      <th>pearson_p</th>\n",
       "      <th>spearman_r</th>\n",
       "      <th>spearman_p</th>\n",
       "      <th>prevalence</th>\n",
       "      <th>AUC</th>\n",
       "      <th>Precision_Recall</th>\n",
       "    </tr>\n",
       "  </thead>\n",
       "  <tbody>\n",
       "    <tr>\n",
       "      <th>isCardio</th>\n",
       "      <td>656</td>\n",
       "      <td>NaN</td>\n",
       "      <td>NaN</td>\n",
       "      <td>NaN</td>\n",
       "      <td>NaN</td>\n",
       "      <td>NaN</td>\n",
       "      <td>0.192073</td>\n",
       "      <td>0.833004</td>\n",
       "      <td>0.601266</td>\n",
       "    </tr>\n",
       "  </tbody>\n",
       "</table>\n",
       "</div>"
      ],
      "text/plain": [
       "         Size Coefficient_of_determination pearson_r pearson_p spearman_r  \\\n",
       "isCardio  656                          NaN       NaN       NaN        NaN   \n",
       "\n",
       "         spearman_p  prevalence       AUC  Precision_Recall  \n",
       "isCardio        NaN    0.192073  0.833004          0.601266  "
      ]
     },
     "execution_count": 40,
     "metadata": {},
     "output_type": "execute_result"
    }
   ],
   "source": [
    "f1='%s/TCR_real_data/predictions/isCardio/lin_gridSearch/results_df.pkl' %MyPath\n",
    "results_df=pd.read_pickle(f1)\n",
    "results_df\n"
   ]
  },
  {
   "cell_type": "code",
   "execution_count": 22,
   "metadata": {
    "ExecuteTime": {
     "end_time": "2018-11-08T14:04:51.719448Z",
     "start_time": "2018-11-08T14:04:51.710071Z"
    }
   },
   "outputs": [
    {
     "data": {
      "text/plain": [
       "xgboost.sklearn.XGBClassifier"
      ]
     },
     "execution_count": 22,
     "metadata": {},
     "output_type": "execute_result"
    }
   ],
   "source": [
    "model=\"XGB\"\n",
    "if model=='XGB' : model=XGBClassifier\n",
    "XGBClassifier"
   ]
  },
  {
   "cell_type": "code",
   "execution_count": 30,
   "metadata": {
    "ExecuteTime": {
     "end_time": "2018-11-08T16:37:14.809518Z",
     "start_time": "2018-11-08T16:37:14.801044Z"
    }
   },
   "outputs": [],
   "source": [
    "new_file=open(\"%s/newfile.txt\" %MyPath,mode=\"w\")\n",
    "new_file.write(\"Writing to a new file\\n\")\n",
    "new_file.write(\"Writing to a new file\\n\")\n",
    "new_file.write(\"Writing to a new file\\n\")\n",
    "new_file.close()"
   ]
  },
  {
   "cell_type": "code",
   "execution_count": 33,
   "metadata": {
    "ExecuteTime": {
     "end_time": "2018-11-08T16:56:38.067717Z",
     "start_time": "2018-11-08T16:56:38.036141Z"
    }
   },
   "outputs": [],
   "source": [
    "targetDF=pd.DataFrame(index=['BD'+str(x) for x in range(1,1100)])\n",
    "targetDF['isCardio']=np.where(targetDF.index.str.replace('BD','').astype(int)>949,1,0)\n",
    "f1='%s/TCR_real_data/predictions/TargetDFs/isCardio.dat' %MyPath\n",
    "targetDF.to_pickle(f1)\n"
   ]
  },
  {
   "cell_type": "code",
   "execution_count": 34,
   "metadata": {
    "ExecuteTime": {
     "end_time": "2018-11-08T17:03:22.109543Z",
     "start_time": "2018-11-08T17:03:22.102781Z"
    }
   },
   "outputs": [
    {
     "data": {
      "text/plain": [
       "\"{'a': [1, 2, 3], 'b': [2, 3, 4]}\""
      ]
     },
     "execution_count": 34,
     "metadata": {},
     "output_type": "execute_result"
    }
   ],
   "source": [
    "d={'a':[1,2,3],'b':[2,3,4]}\n",
    "str(d)"
   ]
  },
  {
   "cell_type": "code",
   "execution_count": null,
   "metadata": {},
   "outputs": [],
   "source": []
  }
 ],
 "metadata": {
  "kernelspec": {
   "display_name": "Python 2",
   "language": "python",
   "name": "python2"
  },
  "language_info": {
   "codemirror_mode": {
    "name": "ipython",
    "version": 2
   },
   "file_extension": ".py",
   "mimetype": "text/x-python",
   "name": "python",
   "nbconvert_exporter": "python",
   "pygments_lexer": "ipython2",
   "version": "2.7.8"
  },
  "toc": {
   "nav_menu": {},
   "number_sections": true,
   "sideBar": true,
   "skip_h1_title": false,
   "toc_cell": false,
   "toc_position": {},
   "toc_section_display": "block",
   "toc_window_display": true
  },
  "varInspector": {
   "cols": {
    "lenName": 16,
    "lenType": 16,
    "lenVar": 40
   },
   "kernels_config": {
    "python": {
     "delete_cmd_postfix": "",
     "delete_cmd_prefix": "del ",
     "library": "var_list.py",
     "varRefreshCmd": "print(var_dic_list())"
    },
    "r": {
     "delete_cmd_postfix": ") ",
     "delete_cmd_prefix": "rm(",
     "library": "var_list.r",
     "varRefreshCmd": "cat(var_dic_list()) "
    }
   },
   "types_to_exclude": [
    "module",
    "function",
    "builtin_function_or_method",
    "instance",
    "_Feature"
   ],
   "window_display": false
  }
 },
 "nbformat": 4,
 "nbformat_minor": 2
}
