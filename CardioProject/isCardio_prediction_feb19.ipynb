{
 "cells": [
  {
   "cell_type": "markdown",
   "metadata": {},
   "source": [
    "# imports and definitions:"
   ]
  },
  {
   "cell_type": "markdown",
   "metadata": {},
   "source": [
    "## imports:"
   ]
  },
  {
   "cell_type": "code",
   "execution_count": 1,
   "metadata": {
    "ExecuteTime": {
     "end_time": "2019-03-30T23:01:07.713613Z",
     "start_time": "2019-03-30T23:01:04.359798Z"
    }
   },
   "outputs": [
    {
     "name": "stdout",
     "output_type": "stream",
     "text": [
      "stop\n",
      "done1\n",
      "stop\n",
      "done\n",
      "done\n",
      "stop\n",
      "end of function!!!\n"
     ]
    },
    {
     "name": "stderr",
     "output_type": "stream",
     "text": [
      "/usr/wisdom/python/lib/python2.7/site-packages/matplotlib/__init__.py:1357: UserWarning:  This call to matplotlib.use() has no effect\n",
      "because the backend has already been chosen;\n",
      "matplotlib.use() must be called *before* pylab, matplotlib.pyplot,\n",
      "or matplotlib.backends is imported for the first time.\n",
      "\n",
      "  warnings.warn(_use_error_msg)\n"
     ]
    }
   ],
   "source": [
    "# system & general:\n",
    "from os import listdir,mkdir,makedirs\n",
    "from os.path import isfile, join, isdir,exists\n",
    "import cPickle as pickle\n",
    "import os\n",
    "import re\n",
    "import time\n",
    "\n",
    "# data analysis and statistics:\n",
    "import pandas as pd\n",
    "import numpy as np\n",
    "from scipy import stats\n",
    "import random\n",
    "from scipy.stats import pearsonr,fisher_exact,mannwhitneyu,ttest_ind\n",
    "import math\n",
    "from scipy.spatial.distance import braycurtis, pdist, euclidean\n",
    "\n",
    "# figures:\n",
    "import matplotlib as mpl\n",
    "import matplotlib.pyplot as plt\n",
    "from matplotlib.backends.backend_pdf import PdfPages\n",
    "import seaborn as sns \n",
    "from matplotlib.ticker import FormatStrFormatter\n",
    "from matplotlib import gridspec\n",
    "# from PNPChip.ForPaper.Figures.nature_guidline_utils import m2inch\n",
    "import matplotlib.cm as cm\n",
    "from mpl_toolkits.axes_grid1 import make_axes_locatable\n",
    "\n",
    "#my functions:\n",
    "from ShaniBA.myplots import roundup, rounddown, find_decimal_fold, percentile_cut_off, rarefaction_calc, rarefaction_plot, adjusted_roundup\n",
    "from ShaniBA.MyFunctionsShani import *\n",
    "from ShaniBA.GeneralFeaturePhenotypeInteractions.Feature_phenotype_functions import * \n",
    "from ShaniBA.TCR_microbiome_interactions.TCR_microbiome_interactions_functions import *\n",
    "from ShaniBA.TCR_microbiome_interactions.TCR_microbiome_interactions_functions2 import *\n",
    "from ShaniBA.SampleLists.SampleFileFunctions import *\n",
    "from ShaniBA.PhenotypicData.PhenotypeGenerationFunctions import *\n",
    "from ShaniBA.CardioProject.CardioFunctions import *\n",
    "from ShaniBA.PredictionPipeline.PredictionFunctions import *\n",
    "from ShaniBA.TCR_feature_generation.SubsamplingFunctions import *\n",
    "from ShaniBA.CardioProject.Figures.GeneralFigureFunctions import *\n"
   ]
  },
  {
   "cell_type": "markdown",
   "metadata": {},
   "source": [
    "## definitions:"
   ]
  },
  {
   "cell_type": "code",
   "execution_count": 2,
   "metadata": {
    "ExecuteTime": {
     "end_time": "2019-03-30T23:01:09.015043Z",
     "start_time": "2019-03-30T23:01:08.976490Z"
    }
   },
   "outputs": [
    {
     "data": {
      "text/plain": [
       "'31032019'"
      ]
     },
     "execution_count": 2,
     "metadata": {},
     "output_type": "execute_result"
    }
   ],
   "source": [
    "#####path definitions:\n",
    "MyPath='/net/mraid08/export/genie/Lab/Personal/ShaniBAF'\n",
    "\n",
    "with open('/net/mraid08/export/genie/Lab/Personal/ShaniBAF/Sample files/BD lists/PNP530','rb') as fp:\n",
    "    PNP530=pickle.load(fp)\n",
    "with open('/net/mraid08/export/genie/Lab/Personal/ShaniBAF/Sample files/BD lists/Cardio126','rb') as fp:\n",
    "    Cardio126=pickle.load(fp)\n",
    "PNP530Cardio126=PNP530+Cardio126\n",
    "\n",
    "FIG1_DIR='/net/mraid08/export/genie/Lab/Personal/ShaniBAF/Presentations and Manuscripts/CardioTCR paper/FigureDraft_Jan19/\\\n",
    "Fig1_AgeGenderPrediction/'\n",
    "SUPP_FIG_DIR='/net/mraid08/export/genie/Lab/Personal/ShaniBAF/Presentations and Manuscripts/CardioTCR paper/FigureDraft_Jan19/\\\n",
    "supp_figs/'\n",
    "PRED_RESULTS_DIR='/net/mraid08/export/jafar/Microbiome/Analyses/ShaniBAF/predictions2/'\n",
    "FEATURES_DIR='/net/mraid08/export/genie/Lab/Personal/ShaniBAF/TCR_real_data/Predictions/featureDFs/'\n",
    "SAMPLE_LIST_DIR='/net/mraid08/export/genie/Lab/Personal/ShaniBAF/Sample files/BD lists/'\n",
    "CARDIO_PHEN_DIR='/net/mraid08/export/genie/Lab/Personal/ShaniBAF/TCR_real_data/CardioSamples/phenotypicData/'\n",
    "CLUSTER_ANALYSIS_DIR='/net/mraid08/export/jafar/Microbiome/Analyses/ShaniBAF/sharingAnalysis/seqClusters_allProd_maxdist1/'\n",
    "\n",
    "##### general definitions:\n",
    "pd.set_option('display.expand_frame_repr', False)\n",
    "pd.set_option('display.width', 1000)\n",
    "np.set_printoptions(precision=4, linewidth=200)\n",
    "\n",
    "cdate=str(time.strftime(\"%d%m%Y\"))\n",
    "cdate"
   ]
  },
  {
   "cell_type": "markdown",
   "metadata": {},
   "source": [
    "# Compare admission diagnosis:"
   ]
  },
  {
   "cell_type": "markdown",
   "metadata": {},
   "source": [
    "## get data:"
   ]
  },
  {
   "cell_type": "markdown",
   "metadata": {},
   "source": [
    "### get admission diagnosis:"
   ]
  },
  {
   "cell_type": "code",
   "execution_count": null,
   "metadata": {
    "ExecuteTime": {
     "end_time": "2019-02-18T14:04:00.060472Z",
     "start_time": "2019-02-18T14:04:00.020100Z"
    }
   },
   "outputs": [],
   "source": [
    "adm_diag=pd.read_excel(CARDIO_PHEN_DIR+'AdmissionDiagnosis.xlsx').set_index('BD')\n",
    "adm_diag.head()"
   ]
  },
  {
   "cell_type": "markdown",
   "metadata": {},
   "source": [
    "### get pred_proba from relevant prediction folder"
   ]
  },
  {
   "cell_type": "code",
   "execution_count": null,
   "metadata": {
    "ExecuteTime": {
     "end_time": "2019-02-18T14:04:00.588189Z",
     "start_time": "2019-02-18T14:04:00.551980Z"
    }
   },
   "outputs": [],
   "source": [
    "dir1='XGB_randomSearch_25_byRepFeatPCA10percVDJ0999PredictedAgeGender/'\n",
    "pred_proba=pd.read_pickle(PRED_RESULTS_DIR+'isCardio/'+dir1+'predictions_df.pkl').rename(columns={'isCardio':'pred_proba'})\n",
    "\n",
    "pred_proba.head()\n",
    "\n",
    "\n"
   ]
  },
  {
   "cell_type": "markdown",
   "metadata": {},
   "source": [
    "### get isCardio data:"
   ]
  },
  {
   "cell_type": "code",
   "execution_count": null,
   "metadata": {
    "ExecuteTime": {
     "end_time": "2019-02-18T14:04:01.216310Z",
     "start_time": "2019-02-18T14:04:00.985350Z"
    }
   },
   "outputs": [],
   "source": [
    "isCardio=pd.read_pickle(CARDIO_PHEN_DIR+'isCardio.dat')\n",
    "isCardio.head()"
   ]
  },
  {
   "cell_type": "markdown",
   "metadata": {},
   "source": [
    "### get Age and Gender real data:"
   ]
  },
  {
   "cell_type": "code",
   "execution_count": null,
   "metadata": {
    "ExecuteTime": {
     "end_time": "2019-02-18T14:04:01.805790Z",
     "start_time": "2019-02-18T14:04:01.634973Z"
    }
   },
   "outputs": [],
   "source": [
    "Age_cardio126=pd.read_excel(CARDIO_PHEN_DIR+'Age.xlsx').set_index('BD')\n",
    "Gender_cardio126=pd.read_excel(CARDIO_PHEN_DIR+'Gender_Male.xlsx').set_index('BD')\n",
    "Gender_cardio126['Gender_Male']=np.where(Gender_cardio126['Gender_Male']==1,1,np.where(Gender_cardio126['Gender_Male']==2,0,np.nan))\n",
    "Gender_cardio126.head()"
   ]
  },
  {
   "cell_type": "code",
   "execution_count": null,
   "metadata": {
    "ExecuteTime": {
     "end_time": "2019-02-18T14:04:02.290698Z",
     "start_time": "2019-02-18T14:04:02.282781Z"
    }
   },
   "outputs": [],
   "source": [
    "Gender_cardio126.sum() / Gender_cardio126.count()"
   ]
  },
  {
   "cell_type": "markdown",
   "metadata": {},
   "source": [
    "### get sample lists:"
   ]
  },
  {
   "cell_type": "code",
   "execution_count": null,
   "metadata": {
    "ExecuteTime": {
     "end_time": "2019-02-18T14:04:02.754647Z",
     "start_time": "2019-02-18T14:04:02.744452Z"
    }
   },
   "outputs": [],
   "source": [
    "with open(SAMPLE_LIST_DIR+'Cardio126_ua_diagnosis','rb') as fp:\n",
    "    UA=pickle.load(fp)\n",
    "    UAlist=UA+PNP530\n",
    "with open(SAMPLE_LIST_DIR+'Cardio126_NSTEMI_diagnosis','rb') as fp:\n",
    "    NSTEMI=pickle.load(fp)\n",
    "    NSTEMIlist=NSTEMI+PNP530\n",
    "with open(SAMPLE_LIST_DIR+'Cardio126_STEMI_diagnosis','rb') as fp:\n",
    "    STEMI=pickle.load(fp)\n",
    "    STEMIlist=STEMI+PNP530"
   ]
  },
  {
   "cell_type": "markdown",
   "metadata": {},
   "source": [
    "## plot ROC_AUC seperately for each admission diagnosis"
   ]
  },
  {
   "cell_type": "code",
   "execution_count": null,
   "metadata": {
    "ExecuteTime": {
     "end_time": "2019-02-18T14:04:06.813094Z",
     "start_time": "2019-02-18T14:04:04.522688Z"
    }
   },
   "outputs": [],
   "source": [
    "fig, axes = plt.subplots(nrows=1,ncols=3,figsize=(20,6))\n",
    "sample_list_name_list=['UA','NSTEMI','STEMI']\n",
    "sample_list_list=[UAlist,NSTEMIlist,STEMIlist]\n",
    "color_map_list=['Blues','Greens','Reds']\n",
    "\n",
    "for n in range(len(sample_list_list)):\n",
    "    ax,AUC_diff=plot_many_roc(ax=axes[n],sample_list=sample_list_list[n],color_map=color_map_list[n])\n",
    "    mean_age=Age_cardio126.loc[sample_list_list[n],:].mean()\n",
    "    perc_males=float(Gender_cardio126.loc[sample_list_list[n],:].sum()) / (Gender_cardio126.loc[sample_list_list[n],:]).count()\n",
    "    sample_list_name=sample_list_name_list[n]\n",
    "    print sample_list_name\n",
    "    ax.set_title(sample_list_name+'\\n(n=%s,Mean age=%s,perc males=%s)\\n(deltaAUC=%s)'\\\n",
    "%(len(sample_list_list[n])-530,round(mean_age,2),round(perc_males,2),AUC_diff),fontsize=14,fontweight='bold')\n",
    "fig.savefig(SUPP_FIG_DIR+'ROC for different admission diagnosis.png',bbox_inches='tight')\n",
    "plt.show()"
   ]
  },
  {
   "cell_type": "markdown",
   "metadata": {},
   "source": [
    "the function plot_many_roc was copied to ShaniBA.CardioProject.CardioFunctions.Figures.GeneralFigureFunctions"
   ]
  },
  {
   "cell_type": "markdown",
   "metadata": {},
   "source": [
    "## compare pred_proba distributions among admission diagnosis"
   ]
  },
  {
   "cell_type": "code",
   "execution_count": null,
   "metadata": {
    "ExecuteTime": {
     "end_time": "2019-02-05T15:07:05.946532Z",
     "start_time": "2019-02-05T15:07:05.938315Z"
    }
   },
   "outputs": [],
   "source": [
    "pred_proba.loc[UA,'pred_proba'].astype('float').tolist()"
   ]
  },
  {
   "cell_type": "code",
   "execution_count": null,
   "metadata": {
    "ExecuteTime": {
     "end_time": "2019-02-05T15:07:14.025636Z",
     "start_time": "2019-02-05T15:07:14.014704Z"
    }
   },
   "outputs": [],
   "source": [
    "pred_proba.loc[STEMI,'pred_proba'].astype('float').tolist()"
   ]
  },
  {
   "cell_type": "code",
   "execution_count": null,
   "metadata": {
    "ExecuteTime": {
     "end_time": "2019-02-05T15:07:14.025636Z",
     "start_time": "2019-02-05T15:07:14.014704Z"
    }
   },
   "outputs": [],
   "source": [
    "data=pred_proba.loc[NSTEMI,'pred_proba'].astype('float').tolist()\n",
    "mean1=round(np.mean(data),4)\n",
    "mean1"
   ]
  },
  {
   "cell_type": "code",
   "execution_count": null,
   "metadata": {
    "ExecuteTime": {
     "end_time": "2019-02-05T15:07:22.570862Z",
     "start_time": "2019-02-05T15:07:22.120684Z"
    }
   },
   "outputs": [],
   "source": [
    "dataList=[('UA',pred_proba.loc[UA,'pred_proba'].astype('float').tolist()),\n",
    "          ('NSTEMI',pred_proba.loc[NSTEMI,'pred_proba'].astype('float').tolist()),\n",
    "          ('STEMI',pred_proba.loc[STEMI,'pred_proba'].astype('float').tolist())]\n",
    "\n",
    "fig,ax=plt.subplots()\n",
    "title=''\n",
    "cmap=plt.get_cmap('Blues', 6)\n",
    "colorList=[cmap(1),cmap(3),cmap(5)]\n",
    "\n",
    "ax,ks_p_cohort1_cohort2,t_p_cohort1_cohort2,p_Anov,filename=plotHistComprison(dataList,ax,title,showLegend=True,nBins=20,toAnnotate=True,\n",
    "                      colorList=colorList,alpha=None,\n",
    "                      text_kws={'fontsize':'medium','fontweight':'bold','color':'black',\n",
    "                                'horizontalalignment':'left','verticalalignment':'top'},plotType='kde')\n",
    "handles, labels = ax.get_legend_handles_labels()\n",
    "ax.legend(handles, labels,loc='2',fontsize='large')\n",
    "\n",
    "\n",
    "fig.savefig(SUPP_FIG_DIR+'pred proba distribution for different admission diagnosis.png')\n",
    "plt.show()"
   ]
  },
  {
   "cell_type": "markdown",
   "metadata": {},
   "source": [
    "# compare timeToBlood"
   ]
  },
  {
   "cell_type": "markdown",
   "metadata": {},
   "source": [
    "## get data:"
   ]
  },
  {
   "cell_type": "markdown",
   "metadata": {},
   "source": [
    "### get timeToBlood:"
   ]
  },
  {
   "cell_type": "code",
   "execution_count": null,
   "metadata": {
    "ExecuteTime": {
     "end_time": "2019-02-06T11:35:38.371381Z",
     "start_time": "2019-02-06T11:35:38.338480Z"
    }
   },
   "outputs": [],
   "source": [
    "time2Blood=pd.read_excel(CARDIO_PHEN_DIR+'TimeToBlood2_Final.xlsx').set_index('BD')\n",
    "time2Blood.head()"
   ]
  },
  {
   "cell_type": "markdown",
   "metadata": {},
   "source": [
    "### get timeToBlood _ cat:"
   ]
  },
  {
   "cell_type": "code",
   "execution_count": null,
   "metadata": {
    "ExecuteTime": {
     "end_time": "2019-02-06T11:35:44.446066Z",
     "start_time": "2019-02-06T11:35:44.411145Z"
    }
   },
   "outputs": [],
   "source": [
    "time2Blood_cat=pd.read_excel(CARDIO_PHEN_DIR+'TimeToBlood2_cat.xlsx').set_index('BD')\n",
    "time2Blood_cat.head()\n",
    "\n",
    "\n"
   ]
  },
  {
   "cell_type": "markdown",
   "metadata": {},
   "source": [
    "### generate sample lists for timeToBlood:"
   ]
  },
  {
   "cell_type": "code",
   "execution_count": null,
   "metadata": {
    "ExecuteTime": {
     "end_time": "2019-02-06T11:35:50.375049Z",
     "start_time": "2019-02-06T11:35:50.352714Z"
    }
   },
   "outputs": [],
   "source": [
    "for n in time2Blood_cat['timeToBlood_cat'].dropna().unique().tolist():\n",
    "    l=time2Blood_cat[time2Blood_cat['timeToBlood_cat']==n].index.tolist()\n",
    "    print n\n",
    "    print l\n",
    "    with open(SAMPLE_LIST_DIR+'timeToBlood%s' %n,'wb') as fp:\n",
    "        pickle.dump(l,fp)"
   ]
  },
  {
   "cell_type": "code",
   "execution_count": null,
   "metadata": {
    "ExecuteTime": {
     "end_time": "2019-02-06T11:35:56.199839Z",
     "start_time": "2019-02-06T11:35:56.173142Z"
    }
   },
   "outputs": [],
   "source": [
    "l_0_23=time2Blood_cat[(time2Blood_cat['timeToBlood_cat']=='0_7') | (time2Blood_cat['timeToBlood_cat']=='8_23')].index.tolist()\n",
    "print l_0_23\n",
    "with open(SAMPLE_LIST_DIR+'timeToBlood0_23','wb') as fp:\n",
    "        pickle.dump(l_0_23,fp)\n",
    "        \n",
    "        \n",
    "l_24_71=time2Blood_cat[(time2Blood_cat['timeToBlood_cat']=='24_47') | (time2Blood_cat['timeToBlood_cat']=='48_71')].index.tolist()\n",
    "print l_24_71\n",
    "with open(SAMPLE_LIST_DIR+'timeToBlood24_71','wb') as fp:\n",
    "        pickle.dump(l_24_71,fp)\n",
    "        \n",
    "l_48_=time2Blood_cat[(time2Blood_cat['timeToBlood_cat']=='72+') | (time2Blood_cat['timeToBlood_cat']=='48_71')].index.tolist()\n",
    "print l_48_\n",
    "with open(SAMPLE_LIST_DIR+'timeToBlood48+','wb') as fp:\n",
    "        pickle.dump(l_48_,fp)\n"
   ]
  },
  {
   "cell_type": "markdown",
   "metadata": {},
   "source": [
    "### get sample lists:"
   ]
  },
  {
   "cell_type": "code",
   "execution_count": null,
   "metadata": {
    "ExecuteTime": {
     "end_time": "2019-02-06T11:36:02.310912Z",
     "start_time": "2019-02-06T11:36:02.286162Z"
    }
   },
   "outputs": [],
   "source": [
    "with open(SAMPLE_LIST_DIR+'timeToBlood0_23','rb') as fp:\n",
    "    t0_23=pickle.load(fp)\n",
    "    t0_23_PNP=t0_23+PNP530\n",
    "with open(SAMPLE_LIST_DIR+'timeToBlood24_47','rb') as fp:\n",
    "    t24_47=pickle.load(fp)\n",
    "    t24_47_PNP=t24_47+PNP530\n",
    "with open(SAMPLE_LIST_DIR+'timeToBlood48_71','rb') as fp:\n",
    "    t48_71=pickle.load(fp)\n",
    "    t48_71_PNP=t48_71+PNP530\n",
    "with open(SAMPLE_LIST_DIR+'timeToBlood72+','rb') as fp:\n",
    "    t72_=pickle.load(fp)\n",
    "    t72_PNP=t72_+PNP530\n",
    "with open(SAMPLE_LIST_DIR+'timeToBlood0_7','rb') as fp:\n",
    "    t0_7=pickle.load(fp)\n",
    "    t0_7_PNP=t0_7+PNP530\n",
    "with open(SAMPLE_LIST_DIR+'timeToBlood8_23','rb') as fp:\n",
    "    t8_23=pickle.load(fp)\n",
    "    t8_23_PNP=t8_23+PNP530\n",
    "with open(SAMPLE_LIST_DIR+'timeToBlood24_71','rb') as fp:\n",
    "    t24_71=pickle.load(fp)\n",
    "    t24_71_PNP=t24_71+PNP530\n",
    "with open(SAMPLE_LIST_DIR+'timeToBlood48+','rb') as fp:\n",
    "    t48_=pickle.load(fp)\n",
    "    t48_PNP=t48_+PNP530"
   ]
  },
  {
   "cell_type": "markdown",
   "metadata": {},
   "source": [
    "## plot ROC_AUC seperately for each admission diagnosis"
   ]
  },
  {
   "cell_type": "code",
   "execution_count": null,
   "metadata": {
    "ExecuteTime": {
     "end_time": "2019-02-06T11:36:08.074123Z",
     "start_time": "2019-02-06T11:36:08.066690Z"
    }
   },
   "outputs": [],
   "source": [
    "t0_23"
   ]
  },
  {
   "cell_type": "code",
   "execution_count": null,
   "metadata": {
    "ExecuteTime": {
     "end_time": "2019-02-06T11:36:13.968038Z",
     "start_time": "2019-02-06T11:36:13.935922Z"
    }
   },
   "outputs": [],
   "source": [
    "def plot_many_roc(ax,sample_list,color_map):\n",
    "    Y_file='/net/mraid08/export/jafar/Microbiome/Analyses/ShaniBAF/predictions2/TargetDFs/isCardio.dat'\n",
    "    Y=pd.read_pickle(Y_file).loc[sample_list,:]\n",
    "    # print Y.head()\n",
    "\n",
    "    #plot best prediction:\n",
    "    d1='/net/mraid08/export/jafar/Microbiome/Analyses/ShaniBAF/predictions2/isCardio/'\n",
    "    dirs_list=['XGB_randomSearch_25_byPredictedGender/', 'XGB_randomSearch_25_byPredictedAge/',\n",
    "               'XGB_randomSearch_25_byPredictedAgeGender/','XGB_randomSearch_25_byRepFeatPCA10percVDJ0999PredictedAgeGender/']\n",
    "    cmap=plt.get_cmap(color_map, 5)\n",
    "    color_list=[cmap(1),cmap(2),cmap(3),cmap(4)]\n",
    "    # print colorlist\n",
    "    dataset_name_list=['Pred. Gender','Pred. Age','Pred. Age+Gender','TCR features + Pred. Age+Gender']\n",
    "    for n in range(4):\n",
    "        d=dirs_list[n]\n",
    "        color=color_list[n]\n",
    "    #     print (\"color=\",color)\n",
    "\n",
    "        pred=pd.read_pickle(d1+d+'predictions_df.pkl')\n",
    "    #     print pred.head()\n",
    "        y_true=Y.isCardio\n",
    "        y_pred=pred.isCardio.loc[sample_list]\n",
    "        pos_label=1\n",
    "        dataset_name=dataset_name_list[n]\n",
    "\n",
    "        ax, roc_auc=plot_roc_curve(ax,y_true,y_pred,pos_label,dataset_name=dataset_name,color=color)\n",
    "        if n==2: auc_AgeGender=roc_auc\n",
    "        elif n==3: auc_TCR=roc_auc\n",
    "    AUC_diff=round(auc_TCR-auc_AgeGender,3)\n",
    "    handles, labels = ax.get_legend_handles_labels()\n",
    "    labels=[l.replace('area = ','') for l in labels]\n",
    "    ax.legend(handles, labels,loc='3',fontsize='small')\n",
    "    # ax.legend(loc='best',bbox_to_anchor=(1.05, 1))\n",
    "\n",
    "    return ax,AUC_diff"
   ]
  },
  {
   "cell_type": "code",
   "execution_count": null,
   "metadata": {
    "ExecuteTime": {
     "end_time": "2019-02-06T11:36:21.683908Z",
     "start_time": "2019-02-06T11:36:19.877061Z"
    }
   },
   "outputs": [],
   "source": [
    "fig, axes = plt.subplots(nrows=1,ncols=3,figsize=(20,6))\n",
    "sample_list_name_list=['0_23','24_47','48+']\n",
    "sample_list_list=[t0_23_PNP,t24_47_PNP,t48_PNP]\n",
    "color_map_list=['Blues','Greens','Reds']\n",
    "\n",
    "for n in range(len(sample_list_list)):\n",
    "    print sample_list_name_list[n]\n",
    "    print sample_list_list[n][:10]\n",
    "    ax,AUC_diff=plot_many_roc(ax=axes[n],sample_list=sample_list_list[n],color_map=color_map_list[n])\n",
    "    mean_age=Age_cardio126.loc[sample_list_list[n],:].mean()\n",
    "    perc_males=float(Gender_cardio126.loc[sample_list_list[n],:].sum()) / (Gender_cardio126.loc[sample_list_list[n],:]).count()\n",
    "    sample_list_name=sample_list_name_list[n]\n",
    "    print sample_list_name\n",
    "    ax.set_title(sample_list_name+'\\n(n=%s,Mean age=%s,perc males=%s)\\n(deltaAUC=%s)'\\\n",
    "%(len(sample_list_list[n])-530,round(mean_age,2),round(perc_males,2),AUC_diff),fontsize=14,fontweight='bold')\n",
    "\n",
    "fig.savefig(SUPP_FIG_DIR+'ROC for different time2blood groups 1.png',bbox_inches='tight')\n",
    "plt.show()"
   ]
  },
  {
   "cell_type": "code",
   "execution_count": null,
   "metadata": {
    "ExecuteTime": {
     "end_time": "2019-02-06T11:36:42.005861Z",
     "start_time": "2019-02-06T11:36:40.349221Z"
    }
   },
   "outputs": [],
   "source": [
    "fig, axes = plt.subplots(nrows=1,ncols=3,figsize=(20,6))\n",
    "sample_list_name_list=['0_23','24_71','72+']\n",
    "sample_list_list=[t0_23_PNP,t24_71_PNP,t72_PNP]\n",
    "color_map_list=['Blues','Greens','Reds']\n",
    "\n",
    "for n in range(len(sample_list_list)):\n",
    "    print sample_list_name_list[n]\n",
    "    print sample_list_list[n][:10]\n",
    "    ax,AUC_diff=plot_many_roc(ax=axes[n],sample_list=sample_list_list[n],color_map=color_map_list[n])\n",
    "    mean_age=Age_cardio126.loc[sample_list_list[n],:].mean()\n",
    "    perc_males=float(Gender_cardio126.loc[sample_list_list[n],:].sum()) / (Gender_cardio126.loc[sample_list_list[n],:]).count()\n",
    "    sample_list_name=sample_list_name_list[n]\n",
    "    print sample_list_name\n",
    "    ax.set_title(sample_list_name+'\\n(n=%s,Mean age=%s,perc males=%s)\\n(deltaAUC=%s)'\\\n",
    "%(len(sample_list_list[n])-530,round(mean_age,2),round(perc_males,2),AUC_diff),fontsize=14,fontweight='bold')\n",
    "\n",
    "fig.savefig(SUPP_FIG_DIR+'ROC for different time2blood groups 2.png',bbox_inches='tight')\n",
    "plt.show()"
   ]
  },
  {
   "cell_type": "code",
   "execution_count": null,
   "metadata": {
    "ExecuteTime": {
     "end_time": "2019-02-06T11:36:50.673872Z",
     "start_time": "2019-02-06T11:36:48.327856Z"
    }
   },
   "outputs": [],
   "source": [
    "fig, axes = plt.subplots(nrows=1,ncols=4,figsize=(24,6))\n",
    "sample_list_name_list=['0_23','24_47','48_71','72+']\n",
    "sample_list_list=[t0_23_PNP,t24_47_PNP,t48_71_PNP,t72_PNP]\n",
    "color_map_list=['Blues','Greens','Reds','Greys']\n",
    "\n",
    "for n in range(len(sample_list_list)):\n",
    "    print sample_list_name_list[n]\n",
    "    print sample_list_list[n][:10]\n",
    "    ax,AUC_diff=plot_many_roc(ax=axes[n],sample_list=sample_list_list[n],color_map=color_map_list[n])\n",
    "    mean_age=Age_cardio126.loc[sample_list_list[n],:].mean()\n",
    "    perc_males=float(Gender_cardio126.loc[sample_list_list[n],:].sum()) / (Gender_cardio126.loc[sample_list_list[n],:]).count()\n",
    "    sample_list_name=sample_list_name_list[n]\n",
    "    print sample_list_name\n",
    "    ax.set_title(sample_list_name+'\\n(n=%s,Mean age=%s,perc males=%s)\\n(deltaAUC=%s)'\\\n",
    "%(len(sample_list_list[n])-530,round(mean_age,2),round(perc_males,2),AUC_diff),fontsize=14,fontweight='bold')\n",
    "\n",
    "fig.savefig(SUPP_FIG_DIR+'ROC for different time2blood groups 3.png',bbox_inches='tight')\n",
    "plt.show()"
   ]
  },
  {
   "cell_type": "code",
   "execution_count": null,
   "metadata": {
    "ExecuteTime": {
     "end_time": "2019-02-06T11:36:59.812447Z",
     "start_time": "2019-02-06T11:36:56.543781Z"
    }
   },
   "outputs": [],
   "source": [
    "fig, axes = plt.subplots(nrows=1,ncols=5,figsize=(28,6))\n",
    "sample_list_name_list=['0_7','8_23','24_47','48_71','72+']\n",
    "sample_list_list=[t0_7_PNP,t8_23_PNP,t24_47_PNP,t48_71_PNP,t72_PNP]\n",
    "color_map_list=['Blues','Purples','Greens','Reds','Greys']\n",
    "\n",
    "for n in range(len(sample_list_list)):\n",
    "    print sample_list_name_list[n]\n",
    "    print sample_list_list[n][:10]\n",
    "    ax,AUC_diff=plot_many_roc(ax=axes[n],sample_list=sample_list_list[n],color_map=color_map_list[n])\n",
    "    mean_age=Age_cardio126.loc[sample_list_list[n],:].mean()\n",
    "    perc_males=float(Gender_cardio126.loc[sample_list_list[n],:].sum()) / (Gender_cardio126.loc[sample_list_list[n],:]).count()\n",
    "    sample_list_name=sample_list_name_list[n]\n",
    "    print sample_list_name\n",
    "    ax.set_title(sample_list_name+'\\n(Mean age=%s,perc males=%s)\\n(deltaAUC=%s)'\\\n",
    "%(round(mean_age,2),round(perc_males,2),AUC_diff),fontsize=14,fontweight='bold')\n",
    "fig.savefig(SUPP_FIG_DIR+'ROC for different time2blood groups 4.png',bbox_inches='tight')\n",
    "plt.show()"
   ]
  },
  {
   "cell_type": "markdown",
   "metadata": {},
   "source": [
    "## compare pred_proba distributions among admission diagnosis"
   ]
  },
  {
   "cell_type": "code",
   "execution_count": null,
   "metadata": {
    "ExecuteTime": {
     "end_time": "2019-02-06T11:37:06.577564Z",
     "start_time": "2019-02-06T11:37:06.014482Z"
    }
   },
   "outputs": [],
   "source": [
    "dataList=[('t0_23',pred_proba.loc[t0_23,'pred_proba'].astype('float').tolist()),\n",
    "          ('t24_47',pred_proba.loc[t24_47,'pred_proba'].astype('float').tolist()),\n",
    "          ('t48_71',pred_proba.loc[t48_71,'pred_proba'].astype('float').tolist()),\n",
    "         ('t72+',pred_proba.loc[t72_,'pred_proba'].astype('float').tolist()),\n",
    "         ]\n",
    "\n",
    "fig,ax=plt.subplots()\n",
    "title=''\n",
    "cmap=plt.get_cmap('Blues', 7)\n",
    "colorList=[cmap(1),cmap(3),cmap(5),cmap(7)]\n",
    "\n",
    "ax,ks_p_cohort1_cohort2,t_p_cohort1_cohort2,p_Anov,filename=plotHistComprison(dataList,ax,title,showLegend=True,nBins=20,toAnnotate=True,\n",
    "                      colorList=colorList,alpha=None,\n",
    "                      text_kws={'fontsize':'medium','fontweight':'bold','color':'black',\n",
    "                                'horizontalalignment':'left','verticalalignment':'top'},plotType='kde')\n",
    "handles, labels = ax.get_legend_handles_labels()\n",
    "ax.legend(handles, labels,loc='2',fontsize='large')\n",
    "\n",
    "\n",
    "fig.savefig(SUPP_FIG_DIR+'pred proba distribution for time post.png',bbox_inches='tight')\n",
    "plt.show()"
   ]
  },
  {
   "cell_type": "markdown",
   "metadata": {},
   "source": [
    "## Plot correlation between pred_proba and time2Blood:"
   ]
  },
  {
   "cell_type": "code",
   "execution_count": null,
   "metadata": {
    "ExecuteTime": {
     "end_time": "2019-02-06T11:37:12.966597Z",
     "start_time": "2019-02-06T11:37:12.594319Z"
    }
   },
   "outputs": [],
   "source": [
    "merged=pd.merge(pred_proba,time2Blood,how='inner',left_index=True,right_index=True)\n",
    "data2=merged['pred_proba'].tolist()\n",
    "data1=merged['timeToBlood(h)_corr'].tolist()\n",
    "data2name='Prediction Probability'\n",
    "data1name='Time to Blood Sampling (h)'\n",
    "\n",
    "fig,ax=plt.subplots()\n",
    "ax.set_xlim(0,150)\n",
    "ax.set_ylim(0,1)\n",
    "# ax.margins(0.8)\n",
    "ax, nsamples,r,p,text=plot_corr(data1,data2,data1name,data2name,ax,title=None,corrType='pearson',\n",
    "              toAnnotate=True,plotTrendLine=True,scatter_kws={'alpha':0.4,'s':100}, text_kws={'fontsize':'x-large'})\n",
    "\n",
    "fig.savefig(SUPP_FIG_DIR+'pred proba correlation with time2blood.png',bbox_inches='tight')\n",
    "plt.show()"
   ]
  },
  {
   "cell_type": "markdown",
   "metadata": {},
   "source": [
    "# calculate correlations between pred_proba and other parameters in patients:"
   ]
  },
  {
   "cell_type": "markdown",
   "metadata": {},
   "source": [
    "## Plot correlation between pred_proba and Age:"
   ]
  },
  {
   "cell_type": "code",
   "execution_count": null,
   "metadata": {
    "ExecuteTime": {
     "end_time": "2019-02-06T11:37:19.156558Z",
     "start_time": "2019-02-06T11:37:18.937601Z"
    }
   },
   "outputs": [],
   "source": [
    "merged=pd.merge(pred_proba,Age_cardio126,how='inner',left_index=True,right_index=True)\n",
    "data1=merged['pred_proba'].tolist()\n",
    "data2=merged['Age'].tolist()\n",
    "data1name='Prediction Probability'\n",
    "data2name='Age'\n",
    "\n",
    "fig,ax=plt.subplots()\n",
    "\n",
    "ax, nsamples,r,p,text=plot_corr(data1,data2,data1name,data2name,ax,title=None,corrType='pearson',\n",
    "              toAnnotate=True,plotTrendLine=True,scatter_kws={'alpha':0.4,'s':100}, text_kws={'fontsize':'x-large'})\n",
    "plt.show()"
   ]
  },
  {
   "cell_type": "markdown",
   "metadata": {},
   "source": [
    "## Plot correlation between pred_proba and Age, and color for PCI_binary:"
   ]
  },
  {
   "cell_type": "code",
   "execution_count": null,
   "metadata": {
    "ExecuteTime": {
     "end_time": "2019-02-06T11:37:25.362023Z",
     "start_time": "2019-02-06T11:37:24.965233Z"
    }
   },
   "outputs": [],
   "source": [
    "PCI_binary=pd.read_excel(CARDIO_PHEN_DIR+'PCI_binary.xlsx').set_index('BD')\n",
    "\n",
    "\n",
    "merged=pd.merge(pred_proba.dropna(),Age_cardio126.dropna(),how='inner',left_index=True,right_index=True)\n",
    "merged=pd.merge(merged,PCI_binary.dropna(),how='inner',left_index=True,right_index=True)\n",
    "# data1=merged['pred_proba'].astype('float')\n",
    "# data2=merged['Age'].astype('float')\n",
    "# color=merged['PCI_binary'].astype('float')\n",
    "merged=merged.astype('float')\n",
    "# print color\n",
    "cmap=plt.get_cmap('seismic', 2)\n",
    "# cmap=cm.seismic\n",
    "# colorList=[cmap(1),cmap(3),cmap(5)]\n",
    "data1name='Prediction Probability'\n",
    "data2name='Age'\n",
    "\n",
    "fig,ax=plt.subplots()\n",
    "merged.plot(kind='scatter',ax=ax,x='Age',y='pred_proba',c='PCI_binary',cmap=cmap,alpha=0.6,s=100)\n",
    "\n",
    "# ax, nsamples,r,p,text=plot_corr(data1,data2,data1name,data2name,ax,title=None,corrType='pearson',\n",
    "#               toAnnotate=True,plotTrendLine=True,scatter_kws={'alpha':0.4,'s':100,'c':color,'cmap':cmap}, text_kws={'fontsize':'x-large'})\n",
    "plt.show()"
   ]
  },
  {
   "cell_type": "markdown",
   "metadata": {},
   "source": [
    "## calculate correlation between pred_proba and disease phenotypes:"
   ]
  },
  {
   "cell_type": "code",
   "execution_count": null,
   "metadata": {
    "ExecuteTime": {
     "end_time": "2019-02-06T11:37:31.744931Z",
     "start_time": "2019-02-06T11:37:31.219697Z"
    }
   },
   "outputs": [],
   "source": [
    "phen_files=['PCI_LVEF_CVA_CABG','Cardio126phenAllInfo_Nov18_cont','Cardio126phenAllInfo_Nov18_binary','total_ostial_cont']\n",
    "\n",
    "df_list=[]\n",
    "for f in phen_files:\n",
    "    df=pd.read_excel('/net/mraid08/export/genie/Lab/Personal/ShaniBAF/TCR_real_data/\\\n",
    "CardioSamples/phenotypicData/%s.xlsx' %f).set_index('BD').T\n",
    "    \n",
    "    df_list.append(df)\n",
    "    \n",
    "all_cardio_phenotypes=pd.concat(df_list)\n",
    "all_cardio_phenotypes=all_cardio_phenotypes.T\n",
    "print all_cardio_phenotypes.shape\n",
    "all_cardio_phenotypes=all_cardio_phenotypes.fillna(0).astype(float)\n",
    "all_cardio_phenotypes.head()"
   ]
  },
  {
   "cell_type": "code",
   "execution_count": null,
   "metadata": {
    "ExecuteTime": {
     "end_time": "2019-02-06T11:37:37.611793Z",
     "start_time": "2019-02-06T11:37:35.973658Z"
    }
   },
   "outputs": [],
   "source": [
    "cols=all_cardio_phenotypes.columns.tolist()\n",
    "print ('number of columns: ',len(cols))\n",
    "\n",
    "df_list=[]\n",
    "\n",
    "for i in range(len(cols)):\n",
    "    if i%20==0: print i\n",
    "    \n",
    "    if all_cardio_phenotypes[cols[i]].dropna().nunique()==2:\n",
    "        merged=pd.merge(pd.DataFrame(all_cardio_phenotypes[cols[i]].loc[Cardio126]),pd.DataFrame(pred_proba['pred_proba'].loc[Cardio126]),\n",
    "                        how='inner',left_index=True,right_index=True)\n",
    "        groups = merged.groupby(cols[i])['pred_proba']\n",
    "        data = {}\n",
    "               \n",
    "        try:\n",
    "            for name, group in groups:\n",
    "                data[name] = group.tolist()\n",
    "            data0 = data[0]\n",
    "            data1 = data[1]\n",
    "            MW_s, p = mannwhitneyu(data0, data1)\n",
    "        except:\n",
    "            print 'couldnt execute for phenotype ' + cols[i]\n",
    "            MW_s=np.nan; p=np.nan\n",
    "        r=np.nan\n",
    "        \n",
    "    else:\n",
    "        x=all_cardio_phenotypes[cols[i]].loc[Cardio126]\n",
    "    #     print len(x)\n",
    "        y=pred_proba['pred_proba'].loc[Cardio126]\n",
    "    #     print len(y)\n",
    "        try:\n",
    "            r,p=MyPearsonr(x,y)\n",
    "        except:\n",
    "            print 'couldnt execute for phenotype ' + cols[i]\n",
    "            r=np.nan; p=np.nan\n",
    "        MW_s=np.nan\n",
    "    \n",
    "    \n",
    "    \n",
    "    \n",
    "    df=pd.DataFrame()\n",
    "    df.loc[0,'phen1']=cols[i]\n",
    "    df.loc[0,'phen2']='pred_proba'\n",
    "    df.loc[0,'size']=len(x)\n",
    "    df.loc[0,'pearson_r']=r\n",
    "    df.loc[0,'MW_s']=MW_s\n",
    "    df.loc[0,'p']=p\n",
    "\n",
    "    df_list.append(df)\n",
    "        \n",
    "sum_df=pd.concat(df_list)\n",
    "sum_df=sum_df.sort_values(by='p')\n",
    "nTests=len(sum_df)\n",
    "FDR=0.1\n",
    "sum_df=add_corrected_pValues(sum_df,pValueColumn='p' ,nTests=nTests,FDR=FDR)\n"
   ]
  },
  {
   "cell_type": "code",
   "execution_count": null,
   "metadata": {
    "ExecuteTime": {
     "end_time": "2019-02-06T11:37:43.565521Z",
     "start_time": "2019-02-06T11:37:43.477059Z"
    }
   },
   "outputs": [],
   "source": [
    "sum_df.to_excel(CARDIO_PHEN_DIR+'pred_proba_phens_correlations.xlsx')\n",
    "sum_df.head(10)"
   ]
  },
  {
   "cell_type": "markdown",
   "metadata": {},
   "source": [
    "# Plot correlation between pred_proba and Age in all samples, and color for isCardio:"
   ]
  },
  {
   "cell_type": "code",
   "execution_count": null,
   "metadata": {
    "ExecuteTime": {
     "end_time": "2019-02-12T12:20:09.473569Z",
     "start_time": "2019-02-12T12:20:09.081161Z"
    },
    "scrolled": true
   },
   "outputs": [],
   "source": [
    "from matplotlib.colors import ListedColormap, LinearSegmentedColormap\n",
    "\n",
    "#get isCardio data:\n",
    "isCardio=pd.read_pickle('/net/mraid08/export/jafar/Microbiome/Analyses/ShaniBAF/predictions2/TargetDFs/isCardio.dat')\n",
    "\n",
    "#get age data:\n",
    "Age=pd.read_excel('%s/TCR_real_data/PNP530Cardio126Combined/Phenotypes/\\\n",
    "PNP530Cardio126_Age.xlsx' %MyPath).set_index('BD')\n",
    "# print Age.shape\n",
    "# print Age.head()\n",
    "\n",
    "#get pred_proba data:\n",
    "dir1='XGB_randomSearch_25_byRepFeatPCA10percVDJ0999PredictedAgeGender/'\n",
    "pred_proba=pd.read_pickle(PRED_RESULTS_DIR+'isCardio/'+dir1+'predictions_df.pkl').rename(columns={'isCardio':'pred_proba'})\n",
    "# print pred_proba.shape\n",
    "# print pred_proba.head()\n",
    "\n",
    "merged=pd.merge(pred_proba.dropna(),Age.dropna(),how='inner',left_index=True,right_index=True)\n",
    "merged=pd.merge(merged,isCardio.dropna(),how='inner',left_index=True,right_index=True)\n",
    "# print merged.shape\n",
    "# print merged.head()\n",
    "\n",
    "merged=merged.astype('float')\n",
    "PNP=merged[merged['isCardio']==0]\n",
    "Cardio=merged[merged['isCardio']==1]\n",
    "\n",
    "\n",
    "#plot scatter:\n",
    "# cmap=plt.get_cmap('seismic', 2)\n",
    "# cmap=plt.get_cmap('blue','red')\n",
    "# colorlist=merged['isCardio'].tolist()\n",
    "# newcmp = ListedColormap(['blue','red'], name='bluered')\n",
    "# data1name='Prediction Probability'\n",
    "# data2name='Age'\n",
    "fig,ax=plt.subplots()\n",
    "\n",
    "PNP.plot(kind='scatter',ax=ax,x='Age',y='pred_proba',c='navy',alpha=0.6,s=100,label='Healthy')\n",
    "ax.plot(np.unique(PNP['Age']), np.poly1d(np.polyfit(PNP['Age'], PNP['pred_proba'], 1))(np.unique(PNP['Age'])),c='navy',\n",
    "        linewidth=3)\n",
    "Cardio.plot(kind='scatter',ax=ax,x='Age',y='pred_proba',c='darkred',alpha=0.6,s=100,label='Patients')\n",
    "ax.plot(np.unique(Cardio['Age']), np.poly1d(np.polyfit(Cardio['Age'], Cardio['pred_proba'], 1))(np.unique(Cardio['Age'])),\n",
    "        c='darkred', linewidth=3)\n",
    "\n",
    "ax.set_xlim(18,80)\n",
    "ax.set_ylim(0,1)\n",
    "\n",
    "#calculate correlations:\n",
    "\n",
    "#age-pred_proba in healthy:\n",
    "\n",
    "r_PNP,p_PNP=MyPearsonr(PNP['Age'],PNP['pred_proba'])\n",
    "r_Cardio,p_Cardio=MyPearsonr(Cardio['Age'],Cardio['pred_proba'])\n",
    "\n",
    "handles, labels = ax.get_legend_handles_labels()\n",
    "labels=['Healthy,r=%s (p=%s)' %(round(r_PNP,2),round(p_PNP,2)),\n",
    "        'Patients,r=%s (p=%s)' %(round(r_Cardio,2),round(p_Cardio,2))]\n",
    "ax.legend(handles,labels,loc='upper right',bbox_to_anchor=(0.4,0.98))\n",
    "# print handles\n",
    "# print labels\n",
    "# ax.legend(labels, bbox_to_anchor=(-0.2,0.95))\n",
    "\n",
    "\n",
    "# ax.text(0.01,0.97,'Healthytransform=ax.transAxes,ha='left',va='top')\n",
    "\n",
    "plt.show()"
   ]
  },
  {
   "cell_type": "markdown",
   "metadata": {},
   "source": [
    "# add isCardio predictions - real age, real gender, shuffled TCR+predAgeGender"
   ]
  },
  {
   "cell_type": "markdown",
   "metadata": {},
   "source": [
    "## get data"
   ]
  },
  {
   "cell_type": "markdown",
   "metadata": {},
   "source": [
    "### get real age and save in features"
   ]
  },
  {
   "cell_type": "code",
   "execution_count": null,
   "metadata": {
    "ExecuteTime": {
     "end_time": "2019-02-05T16:39:28.095848Z",
     "start_time": "2019-02-05T16:39:27.419486Z"
    }
   },
   "outputs": [],
   "source": [
    "phenDF=pd.read_excel('%s/TCR_real_data/PNP530Cardio126Combined/Phenotypes/\\\n",
    "PNP530Cardio126_AllInfo_withDummies.xlsx' %MyPath).set_index('BD')\n",
    "phenDF.head()"
   ]
  },
  {
   "cell_type": "code",
   "execution_count": null,
   "metadata": {
    "ExecuteTime": {
     "end_time": "2019-02-05T17:08:44.263105Z",
     "start_time": "2019-02-05T17:08:44.104000Z"
    }
   },
   "outputs": [],
   "source": [
    "Age=pd.DataFrame(phenDF['Age'].loc[PNP530+Cardio126])\n",
    "print Age.count()\n",
    "print Age.shape\n",
    "\n",
    "Age.to_excel('%s/TCR_real_data/PNP530Cardio126Combined/Phenotypes/\\\n",
    "PNP530Cardio126_Age.xlsx' %MyPath)\n",
    "\n",
    "Age.to_pickle(FEATURES_DIR+'PNP530Cardio126_Age.dat')"
   ]
  },
  {
   "cell_type": "code",
   "execution_count": null,
   "metadata": {
    "ExecuteTime": {
     "end_time": "2019-02-05T17:14:42.818157Z",
     "start_time": "2019-02-05T17:14:42.337650Z"
    }
   },
   "outputs": [],
   "source": [
    "Gender=pd.DataFrame(phenDF['Gender_Male'].loc[PNP530+Cardio126])\n",
    "print Gender.count()\n",
    "print Gender.shape\n",
    "print Gender.head()\n",
    "# print Gender.value_counts()\n",
    "\n",
    "Gender.to_excel('%s/TCR_real_data/PNP530Cardio126Combined/Phenotypes/\\\n",
    "PNP530Cardio126_Gender_Male.xlsx' %MyPath)\n",
    "\n",
    "Gender.to_pickle(FEATURES_DIR+'PNP530Cardio126_Gender_Male.dat')"
   ]
  },
  {
   "cell_type": "markdown",
   "metadata": {},
   "source": [
    "### get Xold"
   ]
  },
  {
   "cell_type": "code",
   "execution_count": null,
   "metadata": {
    "ExecuteTime": {
     "end_time": "2019-02-05T16:57:36.355704Z",
     "start_time": "2019-02-05T16:57:36.256132Z"
    }
   },
   "outputs": [],
   "source": [
    "Xold=pd.read_pickle(FEATURES_DIR+'X_withPredictedAgeGender.dat')\n",
    "Xold=Xold.drop(['Age','Gender_Male'],axis=1)\n",
    "\n",
    "print Xold.shape\n",
    "print Xold.sort_index().iloc[:4,:4]\n",
    "\n",
    "print Xold.iloc[:4,:4]"
   ]
  },
  {
   "cell_type": "markdown",
   "metadata": {},
   "source": [
    "### get predicted age and predicted gender"
   ]
  },
  {
   "cell_type": "code",
   "execution_count": null,
   "metadata": {
    "ExecuteTime": {
     "end_time": "2019-02-05T16:47:10.827185Z",
     "start_time": "2019-02-05T16:47:10.804476Z"
    }
   },
   "outputs": [],
   "source": [
    "predAgeGender=pd.read_pickle(FEATURES_DIR+'PredictedAgeGender.dat')\n",
    "print predAgeGender.shape\n",
    "print predAgeGender.head()"
   ]
  },
  {
   "cell_type": "markdown",
   "metadata": {},
   "source": [
    "## generate shuffled x with predicted Age and Gender"
   ]
  },
  {
   "cell_type": "code",
   "execution_count": null,
   "metadata": {
    "ExecuteTime": {
     "end_time": "2019-02-05T16:54:30.639291Z",
     "start_time": "2019-02-05T16:54:30.630819Z"
    }
   },
   "outputs": [],
   "source": [
    "Xold.values"
   ]
  },
  {
   "cell_type": "code",
   "execution_count": null,
   "metadata": {
    "ExecuteTime": {
     "end_time": "2019-02-05T16:55:35.978592Z",
     "start_time": "2019-02-05T16:55:35.959188Z"
    }
   },
   "outputs": [],
   "source": [
    "Xold_shuff= pd.DataFrame(index=Xold.index,columns=Xold.columns, data=(Xold.sample(frac=1).reset_index(drop=True)).values)\n",
    "# pd.DataFrame(index=Xold.index, columns=Xold.columns, data=\n",
    "print Xold_shuff.shape\n",
    "print Xold_shuff.sort_index().iloc[:4,:4]"
   ]
  },
  {
   "cell_type": "code",
   "execution_count": null,
   "metadata": {
    "ExecuteTime": {
     "end_time": "2019-02-05T16:58:23.941864Z",
     "start_time": "2019-02-05T16:58:23.809116Z"
    }
   },
   "outputs": [],
   "source": [
    "Xold_shuff_withPredAgeGender=pd.merge(Xold_shuff,predAgeGender,how='left',left_index=True,right_index=True)\n",
    "print Xold_shuff_withPredAgeGender.shape\n",
    "print Xold_shuff_withPredAgeGender.iloc[:4,:4]\n",
    "\n",
    "Xold_shuff_withPredAgeGender.to_pickle(FEATURES_DIR+'oldX_shuff_withPredictedAgeGender.dat')"
   ]
  },
  {
   "cell_type": "markdown",
   "metadata": {},
   "source": [
    "## run prediction"
   ]
  },
  {
   "cell_type": "markdown",
   "metadata": {},
   "source": [
    "## analyse results"
   ]
  },
  {
   "cell_type": "code",
   "execution_count": null,
   "metadata": {
    "ExecuteTime": {
     "end_time": "2019-02-06T08:21:29.960922Z",
     "start_time": "2019-02-06T08:21:29.819063Z"
    }
   },
   "outputs": [],
   "source": [
    "dir1=PRED_RESULTS_DIR+'isCardio/'\n",
    "d_list=['XGB_randomSearch_25_byPredictedAgeGender/','XGB_randomSearch_25_byPredictedAge/',\n",
    "        'XGB_randomSearch_25_byPredictedGender/','XGB_randomSearch_25_byRepFeatPCA10percVDJ0999PredictedAgeGender/',\n",
    "       'XGB_randomSearch_25_byOldXShuffleWithPredictedAgeGender/',\n",
    "        'XGB_randomSearch_25_byRealGender/','XGB_randomSearch_25_byRealAgeOnly/']\n",
    "summaryDF=pd.DataFrame()\n",
    "for d in d_list:\n",
    "    f1=dir1+d+'results_df.pkl'\n",
    "    print d\n",
    "    try:\n",
    "        df= pd.read_pickle(f1)\n",
    "        df['dir']=d\n",
    "        summaryDF=pd.concat([summaryDF,df])\n",
    "    except:\n",
    "        print ' couldnt get results from %s' %d\n",
    "\n",
    "interesting_cols=['AUC','Precision_Recall','binary_threshold','kappa','f1score','f1scoreMacro']\n",
    "summaryDF=summaryDF.set_index('dir')[interesting_cols].sort_values(by='AUC',ascending=False)\n",
    "summaryDF"
   ]
  },
  {
   "cell_type": "code",
   "execution_count": null,
   "metadata": {},
   "outputs": [],
   "source": []
  },
  {
   "cell_type": "markdown",
   "metadata": {},
   "source": [
    "# reduce age and gender shap from isCardio shap\n",
    "3D scatter"
   ]
  },
  {
   "cell_type": "markdown",
   "metadata": {},
   "source": [
    "# compare sharing rates between healthy and patients"
   ]
  },
  {
   "cell_type": "markdown",
   "metadata": {},
   "source": [
    "## functions:"
   ]
  },
  {
   "cell_type": "code",
   "execution_count": null,
   "metadata": {
    "ExecuteTime": {
     "end_time": "2019-02-21T11:25:13.106863Z",
     "start_time": "2019-02-21T11:25:13.070216Z"
    }
   },
   "outputs": [],
   "source": [
    "def get_data(AllUniqueWithCounts_path):\n",
    "    \n",
    "    ### this function gets all data required for sharing comparisons between PNP and Cardio\n",
    "    ### (Age, gender, isCardio, AllUniqueWithCounts)\n",
    "    \n",
    "    print 'age data'\n",
    "    Age=pd.read_excel('%s/TCR_real_data/PNP530Cardio126Combined/Phenotypes/\\\n",
    "PNP530Cardio126_Age.xlsx' %MyPath).set_index('BD')\n",
    "    print Age.shape\n",
    "    print Age.head()\n",
    "\n",
    "    print 'gender data'\n",
    "    Gender=pd.read_excel('%s/TCR_real_data/PNP530Cardio126Combined/Phenotypes/\\\n",
    "PNP530Cardio126_Gender_Male.xlsx' %MyPath).set_index('BD')\n",
    "    print Gender.shape\n",
    "    print Gender.head()\n",
    "    \n",
    "    print 'isCardio data'\n",
    "    isCardio=pd.read_pickle(PRED_RESULTS_DIR+'TargetDFs/isCardio.dat')\n",
    "\n",
    "    print 'merging all'\n",
    "    AgeGender=pd.merge(Age,Gender,how='inner',left_index=True,right_index=True).dropna()\n",
    "    AgeGenderIsCardio=pd.merge(AgeGender,isCardio,how='inner',left_index=True,right_index=True).dropna()\n",
    "    print AgeGenderIsCardio.shape\n",
    "    print AgeGenderIsCardio.head()\n",
    "    \n",
    "    print 'AllUniqueWithCounts'\n",
    "    if AllUniqueWithCounts_path is None:\n",
    "        AllUniqueWithCounts_path='/net/mraid08/export/jafar/Microbiome/Analyses/ShaniBAF/sharingAnalysis/\\\n",
    "AllUniqueWithCounts'\n",
    "    AllUniqueWithCounts=pd.read_pickle(AllUniqueWithCounts_path)\n",
    "\n",
    "    print AllUniqueWithCounts.shape\n",
    "    print AllUniqueWithCounts.head()\n",
    "    \n",
    "    print 'AllUniqueWithCounts_prod'\n",
    "    AllUniqueWithCounts_prod=AllUniqueWithCounts[AllUniqueWithCounts['prod_stat']==1]\n",
    "    print AllUniqueWithCounts_prod.shape\n",
    "    print AllUniqueWithCounts_prod.head()\n",
    "    \n",
    "    return AllUniqueWithCounts_prod,AgeGenderIsCardio"
   ]
  },
  {
   "cell_type": "code",
   "execution_count": null,
   "metadata": {
    "ExecuteTime": {
     "end_time": "2019-02-21T11:25:13.714935Z",
     "start_time": "2019-02-21T11:25:13.690617Z"
    }
   },
   "outputs": [],
   "source": [
    "def calc_seq_per_sample_stats(AllUniqueWithCounts_prod,nToSample):\n",
    "    \n",
    "    #this function prints the number of sequences in the 10t,20th and 30th sample in the df\n",
    "    ## it plots the distribution of number of sequences per sample\n",
    "    ## and returns a series with number of seqeunces per sample, ordered from highest to lowest\n",
    "    \n",
    "    \n",
    "    AllUniqueWithCounts_prod_count=AllUniqueWithCounts_prod.groupby('Sample').count()['isPublic']\n",
    "    \n",
    "    print AllUniqueWithCounts_prod_count.describe()\n",
    "    AllUniqueWithCounts_prod_count=AllUniqueWithCounts_prod_count.sort_values(ascending=False)\n",
    "    \n",
    "    for n in [10,20,30,nToSample]:\n",
    "        try:\n",
    "            print ('n seqs in %sth sample= ' %n,AllUniqueWithCounts_prod_count.iloc[n-1])\n",
    "        except:\n",
    "            print ('there are only %s samples' %len(AllUniqueWithCounts_prod_count))\n",
    "                \n",
    "    fig,ax=plt.subplots()\n",
    "    ax.hist(AllUniqueWithCounts_prod_count,bins=25)\n",
    "    plt.show()\n",
    "    \n",
    "    return AllUniqueWithCounts_prod_count"
   ]
  },
  {
   "cell_type": "code",
   "execution_count": null,
   "metadata": {
    "ExecuteTime": {
     "end_time": "2019-02-21T11:25:14.287524Z",
     "start_time": "2019-02-21T11:25:14.091790Z"
    }
   },
   "outputs": [],
   "source": [
    "def get_samples_for_age_decade(min_age,max_age,AgeGenderIsCardio,AllUniqueWithCounts_prod,nToSample=20,nSeqs=None,isRandom=True,random_state_PNP=1,random_state_Cardio=1):\n",
    "    \n",
    "    ### this function takes the age range, number of samples and number of sequences to subsample.\n",
    "    ### first it gets all PNP and Cardio samples in the age range.\n",
    "    ### than it checks how many sequences are in each of those samples\n",
    "    ### than it selects samples - if there are enough samples with the desired number of sequences, \n",
    "    ### it selects samples randomly, or the samples with the highest number of sequences (according to)\n",
    "    ### the isRandom parameter)\n",
    "    ### if there are not enough samples, it won't be able to return dataframes and an error will occure\n",
    "    \n",
    "    ###get all avaiable PNP and Cardio samples for the age range\n",
    "    #PNP:\n",
    "    df=AgeGenderIsCardio\n",
    "\n",
    "    print 'PNP samples'\n",
    "    PNP_males_ageDecade=df[(df['Age']>min_age) & (df['Age']<=max_age) & (df['Gender_Male']==1) & (df['isCardio']==0)]\n",
    "       \n",
    "    L=drop_relatives(PNP_males_ageDecade,onlyBloodRels=False)\n",
    "    print ('relatives in list: ',L)\n",
    "    if len(L)>0:\n",
    "        print ('dropping the following samples because they are relatives: ', L)\n",
    "        PNP_males_ageDecade=PNP_males_ageDecade.drop(L)\n",
    "        \n",
    "    print 'removing samples that are not in AllUniqueWithCounts_prod:'\n",
    "    PNP_males_ageDecade=PNP_males_ageDecade[PNP_males_ageDecade.index.isin(AllUniqueWithCounts_prod.Sample.unique())]\n",
    "    \n",
    "    print PNP_males_ageDecade.shape\n",
    "    print PNP_males_ageDecade.head()\n",
    "    \n",
    "    print 'getting stats on PNP samples:'\n",
    "    AllUniqueWithCounts_prod_count_PNP=\\\n",
    "calc_seq_per_sample_stats(AllUniqueWithCounts_prod[AllUniqueWithCounts_prod['Sample'].isin(PNP_males_ageDecade.index)],\n",
    "                         nToSample)\n",
    "\n",
    "    #Cardio\n",
    "    print 'cardio samples'\n",
    "    Cardio_males_ageDecade=df[(df['Age']>min_age) & (df['Age']<=max_age) & (df['Gender_Male']==1) & (df['isCardio']==1)]\n",
    "       \n",
    "    print 'removing samples that are not in AllUniqueWithCounts_prod:'\n",
    "    Cardio_males_ageDecade=Cardio_males_ageDecade[Cardio_males_ageDecade.index.isin(AllUniqueWithCounts_prod.Sample.unique())]\n",
    "    \n",
    "    print Cardio_males_ageDecade.shape\n",
    "    print Cardio_males_ageDecade.head()\n",
    "    \n",
    "    print 'getting stats on Cardio samples:'\n",
    "    AllUniqueWithCounts_prod_count_Cardio=\\\n",
    "calc_seq_per_sample_stats(AllUniqueWithCounts_prod[AllUniqueWithCounts_prod['Sample'].isin(Cardio_males_ageDecade.index)],\n",
    "                         nToSample)\n",
    "    \n",
    "    \n",
    "    ###check that there are enough samples with the desired nSeqs, and select samples:\n",
    "    \n",
    "    \n",
    "    \n",
    "    #PNP\n",
    "    if nSeqs is None:\n",
    "        if isRandom:\n",
    "            print 'randomly selecting %s samples from PNP samples' %nToSample\n",
    "            PNP_males_ageDecade_s=PNP_males_ageDecade.sample(n=nToSample,random_state=random_state_PNP)\n",
    "        else:\n",
    "            print 'selecting %s samples with the highest number of sequences' %nToSample\n",
    "            PNP_males_ageDecade_s=PNP_males_ageDecade.loc[ AllUniqueWithCounts_prod_count_PNP[:nToSample].index,:] \n",
    "    elif AllUniqueWithCounts_prod_count_PNP.iloc[nToSample-1]<nSeqs:\n",
    "        print ('nSeq= ', nSeqs)\n",
    "        print ('n seqs in %sth sample: ' %(nToSample-1), AllUniqueWithCounts_prod_count_PNP.iloc[nToSample-1])\n",
    "        print 'not enough samples with the desired number of seqs in PNP'\n",
    "    elif AllUniqueWithCounts_prod_count_PNP.iloc[nToSample-1]==nSeqs:\n",
    "        print 'number of samples with the desired number of seqs is equal to the number of desired samples (PNP)'\n",
    "        PNP_males_ageDecade_s=PNP_males_ageDecade\n",
    "    else:\n",
    "        print 'There are more samples with the desired number of seqs than the number of desired samples (PNP)'\n",
    "        if isRandom:\n",
    "            print 'randomly selecting %s samples from PNP samples' %nToSample\n",
    "            PNP_males_ageDecade_s=PNP_males_ageDecade.sample(n=nToSample,random_state=random_state_PNP)\n",
    "        else:\n",
    "            print 'selecting %s samples with the highest number of sequences' %nToSample\n",
    "            PNP_males_ageDecade_s=PNP_males_ageDecade.loc[ AllUniqueWithCounts_prod_count_PNP[:nToSample].index,:]\n",
    "    print PNP_males_ageDecade_s.shape\n",
    "    print PNP_males_ageDecade_s.head()\n",
    "    PNP_males_ageDecade_samples=PNP_males_ageDecade_s.index.tolist()\n",
    "    \n",
    "    #Cardio:\n",
    "    if nSeqs is None:\n",
    "        if isRandom:\n",
    "            print 'randomly selecting %s samples from Cardio samples' %nToSample\n",
    "            Cardio_males_ageDecade_s=Cardio_males_ageDecade.sample(n=nToSample,random_state=random_state_Cardio)\n",
    "        else:\n",
    "            print 'selecting %s samples with the highest number of sequences' %nToSample\n",
    "            Cardio_males_ageDecade_s=Cardio_males_ageDecade.loc[AllUniqueWithCounts_prod_count_Cardio[:nToSample].index,:]\n",
    "    elif AllUniqueWithCounts_prod_count_Cardio.iloc[nToSample-1]<nSeqs:\n",
    "        print 'not enough samples with the desired number of seqs in Cardio'\n",
    "    elif AllUniqueWithCounts_prod_count_Cardio.iloc[nToSample-1]==nSeqs:\n",
    "        print 'number of samples with the desired number of seqs is equal to the number of desired samples (Cardio)'\n",
    "        Cardio_males_ageDecade_s=Cardio_males_ageDecade\n",
    "    else:\n",
    "        print 'There are more samples with the desired number of seqs than the number of desired samples (Cardio)'\n",
    "        if isRandom:\n",
    "            print 'randomly selecting %s samples from Cardio samples' %nToSample\n",
    "            Cardio_males_ageDecade_s=Cardio_males_ageDecade.sample(n=nToSample,random_state=random_state_Cardio)\n",
    "        else:\n",
    "            print 'selecting %s samples with the highest number of sequences' %nToSample\n",
    "            Cardio_males_ageDecade_s=Cardio_males_ageDecade.loc[AllUniqueWithCounts_prod_count_Cardio[:nToSample].index,:]\n",
    " \n",
    "    print Cardio_males_ageDecade_s.shape\n",
    "    print Cardio_males_ageDecade_s.head()\n",
    "    Cardio_males_ageDecade_samples=Cardio_males_ageDecade_s.index.tolist()\n",
    "        \n",
    "    ###comparing age distributions:    \n",
    "    print 'comparing age distribution'\n",
    "    dataList=[('Healthy' ,PNP_males_ageDecade_s.Age.tolist()),('Patients' ,Cardio_males_ageDecade_s.Age.tolist())]\n",
    "    title=''\n",
    "\n",
    "    fig,ax=plt.subplots()\n",
    "    ax,ks_p_cohort1_cohort2,t_p_cohort1_cohort2,p_Anov,filename=plotHistComprison(dataList,ax,title,showLegend=True,nBins=5,\n",
    "                            toAnnotate=True, colorList=['Grey','darkred'],alpha=None, plotType='hist')\n",
    "\n",
    "    plt.show()\n",
    "    print ('n samples in PNP sample list: ', len(PNP_males_ageDecade_samples))\n",
    "    print ('n samples in Cardio sample list: ', len(Cardio_males_ageDecade_samples))\n",
    "    \n",
    "    return fig,PNP_males_ageDecade_samples,Cardio_males_ageDecade_samples\n",
    "    "
   ]
  },
  {
   "cell_type": "code",
   "execution_count": null,
   "metadata": {
    "ExecuteTime": {
     "end_time": "2019-02-21T11:25:14.526772Z",
     "start_time": "2019-02-21T11:25:14.494263Z"
    }
   },
   "outputs": [],
   "source": [
    "def subsample_sequences_for_samples(AllUniqueWithCounts_prod,PNP_males_ageDecade_samples,Cardio_males_ageDecade_samples,nSeqs=None):\n",
    "    \n",
    "    ### this function selects randomly the desired number of sequences from each sample in the PNP and Cardio dfs,\n",
    "    ### if there is a sample with not enough sequences, it will fail\n",
    "    print ('n samples in PNP sample list: ', len(PNP_males_ageDecade_samples))\n",
    "    print ('n samples in Cardio sample list: ', len(Cardio_males_ageDecade_samples))\n",
    "    \n",
    "    PNP_data=AllUniqueWithCounts_prod[AllUniqueWithCounts_prod['Sample'].isin(PNP_males_ageDecade_samples)]\n",
    "    Cardio_data=AllUniqueWithCounts_prod[AllUniqueWithCounts_prod['Sample'].isin(Cardio_males_ageDecade_samples)]\n",
    "    \n",
    "    print ('PNP_data.Sample.nunique(): ',PNP_data.Sample.nunique())\n",
    "    print ('Cardio_data.Sample.nunique(): ',Cardio_data.Sample.nunique())\n",
    "    \n",
    "    print 'generating df containing selected PNP and Cardio samples...'\n",
    "    df=pd.concat([PNP_data,Cardio_data])\n",
    "    print df.shape\n",
    "    print df.iloc[:5,:5]\n",
    "    \n",
    "    if nSeqs is None:\n",
    "        print 'nSeqs is None, no subsampling, all sequences are used'\n",
    "        subsampled_df=df\n",
    "    else:\n",
    "        subsampled_df_list=[]\n",
    "        print 'subsampling sequences...'\n",
    "        for n,sample in enumerate(df['Sample'].unique().tolist()):\n",
    "            if n%10==0: print n\n",
    "            df2=df[df['Sample']==sample]\n",
    "            df_s=df2.sample(n=nSeqs,random_state=1)\n",
    "            subsampled_df_list.append(df_s)\n",
    "\n",
    "        print 'concatenating subsampled dfs'\n",
    "        subsampled_df=pd.concat(subsampled_df_list)\n",
    "        print subsampled_df.shape\n",
    "        print subsampled_df.head()\n",
    "\n",
    "    return subsampled_df\n",
    "    \n",
    "    "
   ]
  },
  {
   "cell_type": "code",
   "execution_count": null,
   "metadata": {
    "ExecuteTime": {
     "end_time": "2019-02-21T11:25:14.791532Z",
     "start_time": "2019-02-21T11:25:14.736133Z"
    }
   },
   "outputs": [],
   "source": [
    "def calc_sharing_rate_per_sample(subsampled_df,PNP_males_ageDecade_samples,Cardio_males_ageDecade_samples,\n",
    "                                 nseqs,nSampledShared, toPlot=True):\n",
    "    subsampled_df=subsampled_df.reset_index()\n",
    "    \n",
    "    dataList=[]\n",
    "    for item in [('Healthy',PNP_males_ageDecade_samples),('Patients',Cardio_males_ageDecade_samples)]:\n",
    "        dataset_name=item[0]\n",
    "        sample_list=item[1]\n",
    "        \n",
    "        print ('******dataset: '+ dataset_name+'********')\n",
    "        \n",
    "        subsampled_df_dataset=subsampled_df[subsampled_df.Sample.isin(sample_list)]\n",
    "        sampleBySeq_ss=subsampled_df_dataset.pivot(index='Sample',columns='index',values='prod_stat').fillna(0)\n",
    "    \n",
    "        print sampleBySeq_ss.shape\n",
    "        print sampleBySeq_ss.iloc[:5,:5]\n",
    "        print sampleBySeq_ss.sum().min()\n",
    "        print sampleBySeq_ss.sum().max()\n",
    "    \n",
    "        public_seqs=sampleBySeq_ss.sum()[sampleBySeq_ss.sum() >= nSampledShared].index\n",
    "        sampleBySeq_ss_public=sampleBySeq_ss.loc[:,public_seqs]\n",
    "        print ('sampleBySeq_ss.shape:' ,sampleBySeq_ss.shape)\n",
    "        print ('sampleBySeq_ss_public.shape:' ,sampleBySeq_ss_public.shape)\n",
    "    \n",
    "        seqSum=sampleBySeq_ss.sum(axis=1).rename('seqSum')\n",
    "        publicSeqSum=sampleBySeq_ss_public.sum(axis=1).rename('publicSeqSum')\n",
    "        merged=pd.merge(pd.DataFrame(seqSum),pd.DataFrame(publicSeqSum),how='inner',left_index=True,right_index=True)\n",
    "        print ('merged.shape:' ,merged.shape)\n",
    "        merged['perc_public']=100*merged['publicSeqSum'].astype(float) / merged['seqSum']\n",
    "        print 'merged:'\n",
    "        print merged.head(10)\n",
    "    \n",
    "        perc_public_list=merged['perc_public'].tolist()\n",
    "        print ('perc_public_list[:10]: ',perc_public_list[:10])\n",
    "    \n",
    "        dataList.append(tuple([item[0],perc_public_list]))\n",
    "    s_MW,p_MW=mannwhitneyu(dataList[0][1],dataList[1][1])\n",
    "    mean_healthy=np.mean(dataList[0][1])\n",
    "    std_healthy=np.std(dataList[0][1])\n",
    "    mean_patients=np.mean(dataList[1][1])\n",
    "    std_patients=np.std(dataList[1][1])\n",
    "    \n",
    "    if toPlot:\n",
    "        fig,ax=plt.subplots()\n",
    "        title=''\n",
    "\n",
    "        ax,ks_p_cohort1_cohort2,t_p_cohort1_cohort2,p_Anov,filename=plotHistComprison(dataList,ax,\n",
    "                            title,showLegend=True,nBins=20,toAnnotate=True,alpha=None,plotType='kde',\n",
    "                            colorList=['grey','darkred'])\n",
    "        ax.text(0.02,0.05,'p-value=%s (MW)' %p_MW, transform=ax.transAxes,ha='left',va='top')\n",
    "        plt.show()\n",
    "    \n",
    "    return fig,ax,s_MW,p_MW,sampleBySeq_ss,mean_healthy,std_healthy,mean_patients,std_patients"
   ]
  },
  {
   "cell_type": "code",
   "execution_count": null,
   "metadata": {
    "ExecuteTime": {
     "end_time": "2019-02-21T11:25:15.023296Z",
     "start_time": "2019-02-21T11:25:15.006160Z"
    }
   },
   "outputs": [],
   "source": [
    "def sharing_rate_comparison_PNP_Cardio(AllUniqueWithCounts_path=None,min_age=50,max_age=60,nToSample=20,\n",
    "                                       nSeqs=2000,isRandom=True,nSampledShared=2,random_state_PNP=1,random_state_Cardio=1):\n",
    "    \n",
    "    ## get data:\n",
    "    \n",
    "    AllUniqueWithCounts_prod,AgeGenderIsCardio=get_data(AllUniqueWithCounts_path)\n",
    "        \n",
    "    ## select samples\n",
    "    fig,PNP_males_ageDecade_samples,Cardio_males_ageDecade_samples=get_samples_for_age_decade(min_age,max_age,AgeGenderIsCardio,\n",
    "                    AllUniqueWithCounts_prod,nToSample=nToSample,\n",
    "                    nSeqs=nSeqs,isRandom=isRandom,random_state_PNP=random_state_PNP,random_state_Cardio=random_state_Cardio)\n",
    "    \n",
    "    ##subsample sequences:\n",
    "    subsampled_df = subsample_sequences_for_samples(AllUniqueWithCounts_prod,PNP_males_ageDecade_samples,\n",
    "                                                    Cardio_males_ageDecade_samples,nSeqs=nSeqs)\n",
    "    \n",
    "    #compare sharing rates:\n",
    "    fig,ax,s_MW,p_MW,sampleBySeq_ss,mean_healthy,std_healthy,mean_patients,std_patients = calc_sharing_rate_per_sample(subsampled_df,PNP_males_ageDecade_samples,Cardio_males_ageDecade_samples,\n",
    "                                                    nSeqs,nSampledShared)\n",
    "    \n",
    "    #save figure:\n",
    "    \n",
    "    \n",
    "    return fig,ax,s_MW,p_MW,sampleBySeq_ss,mean_healthy,std_healthy,mean_patients,std_patients\n",
    "    "
   ]
  },
  {
   "cell_type": "markdown",
   "metadata": {},
   "source": [
    "## run for age 50-60:"
   ]
  },
  {
   "cell_type": "code",
   "execution_count": null,
   "metadata": {
    "ExecuteTime": {
     "end_time": "2019-02-21T11:26:30.369392Z",
     "start_time": "2019-02-21T11:26:06.099951Z"
    }
   },
   "outputs": [],
   "source": [
    "min_age=50\n",
    "max_age=60\n",
    "nToSample=20\n",
    "nSeqs=7500\n",
    "isRandom=False\n",
    "\n",
    "nSampledShared=2\n",
    "\n",
    "fig,ax,sampleBySeq_ss=sharing_rate_comparison_PNP_Cardio(AllUniqueWithCounts_path=None,min_age=min_age,max_age=max_age,nToSample=nToSample,\n",
    "                                       nSeqs=nSeqs,nSampledShared=nSampledShared,isRandom=isRandom,random_state_PNP=1,random_state_Cardio=1)"
   ]
  },
  {
   "cell_type": "code",
   "execution_count": null,
   "metadata": {
    "ExecuteTime": {
     "end_time": "2019-02-21T11:26:43.925696Z",
     "start_time": "2019-02-21T11:26:43.902618Z"
    }
   },
   "outputs": [],
   "source": [
    "sampleBySeq_ss.iloc[:5,:5]"
   ]
  },
  {
   "cell_type": "code",
   "execution_count": null,
   "metadata": {
    "ExecuteTime": {
     "end_time": "2019-02-24T08:59:55.047284Z",
     "start_time": "2019-02-24T08:42:32.090043Z"
    }
   },
   "outputs": [],
   "source": [
    "#plot clustermap:\n",
    "g = sns.clustermap(sampleBySeq_ss, method='average', metric='jaccard', figsize=None,\n",
    "                   cbar_kws=None, row_cluster=True, col_cluster=False, row_linkage=None,\n",
    "                   col_linkage=None, row_colors=None, col_colors=None, mask=None)\n",
    "plt.show()"
   ]
  },
  {
   "cell_type": "code",
   "execution_count": null,
   "metadata": {
    "ExecuteTime": {
     "end_time": "2019-02-13T16:28:17.332748Z",
     "start_time": "2019-02-13T16:28:00.531232Z"
    }
   },
   "outputs": [],
   "source": [
    "### n shared in 3 samples or more!\n",
    "\n",
    "min_age=50\n",
    "max_age=60\n",
    "nToSample=20\n",
    "nSeqs=7500\n",
    "isRandom=False\n",
    "\n",
    "nSampledShared=5\n",
    "\n",
    "sharing_rate_comparison_PNP_Cardio(AllUniqueWithCounts_path=None,min_age=min_age,max_age=max_age,nToSample=nToSample,\n",
    "                                       nSeqs=nSeqs,nSampledShared=nSampledShared,isRandom=isRandom,random_state_PNP=1,random_state_Cardio=1)"
   ]
  },
  {
   "cell_type": "code",
   "execution_count": null,
   "metadata": {
    "ExecuteTime": {
     "end_time": "2019-02-13T17:34:12.081475Z",
     "start_time": "2019-02-13T17:33:57.228586Z"
    }
   },
   "outputs": [],
   "source": [
    "min_age=50\n",
    "max_age=60\n",
    "nToSample=10\n",
    "nSeqs=12000\n",
    "isRandom=False\n",
    "\n",
    "nSampledShared=4\n",
    "\n",
    "sharing_rate_comparison_PNP_Cardio(AllUniqueWithCounts_path=None,min_age=min_age,max_age=max_age,nToSample=nToSample,\n",
    "                                       nSeqs=nSeqs,nSampledShared=nSampledShared,isRandom=isRandom,random_state_PNP=1,random_state_Cardio=1)"
   ]
  },
  {
   "cell_type": "code",
   "execution_count": null,
   "metadata": {
    "ExecuteTime": {
     "end_time": "2019-02-13T16:31:09.246022Z",
     "start_time": "2019-02-13T16:30:50.062058Z"
    }
   },
   "outputs": [],
   "source": [
    "min_age=50\n",
    "max_age=60\n",
    "nToSample=24\n",
    "nSeqs=4500\n",
    "isRandom=False\n",
    "\n",
    "nSampledShared=2\n",
    "\n",
    "sharing_rate_comparison_PNP_Cardio(AllUniqueWithCounts_path=None,min_age=min_age,max_age=max_age,nToSample=nToSample,\n",
    "                                       nSeqs=nSeqs,nSampledShared=nSampledShared,isRandom=isRandom,random_state_PNP=1,random_state_Cardio=1)"
   ]
  },
  {
   "cell_type": "markdown",
   "metadata": {},
   "source": [
    "## age 45-55"
   ]
  },
  {
   "cell_type": "code",
   "execution_count": null,
   "metadata": {
    "ExecuteTime": {
     "end_time": "2019-02-13T17:36:00.531707Z",
     "start_time": "2019-02-13T17:35:46.789939Z"
    }
   },
   "outputs": [],
   "source": [
    "min_age=45\n",
    "max_age=55\n",
    "nToSample=10\n",
    "nSeqs=9500\n",
    "isRandom=False\n",
    "\n",
    "nSampledShared=4\n",
    "\n",
    "sharing_rate_comparison_PNP_Cardio(AllUniqueWithCounts_path=None,min_age=min_age,max_age=max_age,nToSample=nToSample,\n",
    "                                       nSeqs=nSeqs,nSampledShared=nSampledShared,isRandom=isRandom,random_state_PNP=1,random_state_Cardio=1)"
   ]
  },
  {
   "cell_type": "code",
   "execution_count": null,
   "metadata": {
    "ExecuteTime": {
     "end_time": "2019-02-13T17:26:07.203065Z",
     "start_time": "2019-02-13T17:25:50.874541Z"
    }
   },
   "outputs": [],
   "source": [
    "min_age=45\n",
    "max_age=55\n",
    "nToSample=20\n",
    "nSeqs=6900\n",
    "isRandom=False\n",
    "\n",
    "nSampledShared=5\n",
    "\n",
    "sharing_rate_comparison_PNP_Cardio(AllUniqueWithCounts_path=None,min_age=min_age,max_age=max_age,nToSample=nToSample,\n",
    "                                       nSeqs=nSeqs,nSampledShared=nSampledShared,isRandom=isRandom,random_state_PNP=1,random_state_Cardio=1)"
   ]
  },
  {
   "cell_type": "code",
   "execution_count": null,
   "metadata": {
    "ExecuteTime": {
     "end_time": "2019-02-13T16:08:44.166594Z",
     "start_time": "2019-02-13T16:08:43.987472Z"
    }
   },
   "outputs": [],
   "source": [
    "min_age=45\n",
    "max_age=55\n",
    "nToSample=22\n",
    "nSeqs=2400\n",
    "isRandom=False\n",
    "\n",
    "sharing_rate_comparison_PNP_Cardio(AllUniqueWithCounts_prod=None,min_age=min_age,max_age=max_age,nToSample=nToSample,\n",
    "                                       nSeqs=nSeqs,isRandom=isRandom,random_state_PNP=1,random_state_Cardio=1)"
   ]
  },
  {
   "cell_type": "markdown",
   "metadata": {},
   "source": [
    "## 45-60"
   ]
  },
  {
   "cell_type": "code",
   "execution_count": null,
   "metadata": {
    "ExecuteTime": {
     "end_time": "2019-02-13T16:37:55.792052Z",
     "start_time": "2019-02-13T16:37:40.680047Z"
    }
   },
   "outputs": [],
   "source": [
    "min_age=45\n",
    "max_age=60\n",
    "nToSample=10\n",
    "nSeqs=12400\n",
    "isRandom=False\n",
    "\n",
    "nSampledShared=2\n",
    "\n",
    "sharing_rate_comparison_PNP_Cardio(AllUniqueWithCounts_path=None,min_age=min_age,max_age=max_age,nToSample=nToSample,\n",
    "                                       nSeqs=nSeqs,nSampledShared=nSampledShared,isRandom=isRandom,random_state_PNP=1,random_state_Cardio=1)"
   ]
  },
  {
   "cell_type": "code",
   "execution_count": null,
   "metadata": {
    "ExecuteTime": {
     "end_time": "2019-02-13T16:39:19.032146Z",
     "start_time": "2019-02-13T16:39:01.648871Z"
    }
   },
   "outputs": [],
   "source": [
    "min_age=45\n",
    "max_age=60\n",
    "nToSample=20\n",
    "nSeqs=9000\n",
    "isRandom=False\n",
    "\n",
    "nSampledShared=5\n",
    "\n",
    "sharing_rate_comparison_PNP_Cardio(AllUniqueWithCounts_path=None,min_age=min_age,max_age=max_age,nToSample=nToSample,\n",
    "                                       nSeqs=nSeqs,nSampledShared=nSampledShared,isRandom=isRandom,random_state_PNP=1,random_state_Cardio=1)"
   ]
  },
  {
   "cell_type": "code",
   "execution_count": null,
   "metadata": {
    "ExecuteTime": {
     "end_time": "2019-02-13T16:41:14.187870Z",
     "start_time": "2019-02-13T16:40:53.530370Z"
    }
   },
   "outputs": [],
   "source": [
    "min_age=45\n",
    "max_age=60\n",
    "nToSample=30\n",
    "nSeqs=7200\n",
    "isRandom=False\n",
    "\n",
    "nSampledShared=3\n",
    "\n",
    "sharing_rate_comparison_PNP_Cardio(AllUniqueWithCounts_path=None,min_age=min_age,max_age=max_age,nToSample=nToSample,\n",
    "                                       nSeqs=nSeqs,nSampledShared=nSampledShared,isRandom=isRandom,random_state_PNP=1,random_state_Cardio=1)"
   ]
  },
  {
   "cell_type": "code",
   "execution_count": null,
   "metadata": {
    "ExecuteTime": {
     "end_time": "2019-02-13T16:44:11.092115Z",
     "start_time": "2019-02-13T16:43:49.187942Z"
    }
   },
   "outputs": [],
   "source": [
    "min_age=45\n",
    "max_age=60\n",
    "nToSample=36\n",
    "nSeqs=4700\n",
    "isRandom=False\n",
    "\n",
    "nSampledShared=2\n",
    "\n",
    "sharing_rate_comparison_PNP_Cardio(AllUniqueWithCounts_path=None,min_age=min_age,max_age=max_age,nToSample=nToSample,\n",
    "                                       nSeqs=nSeqs,nSampledShared=nSampledShared,isRandom=isRandom,random_state_PNP=1,random_state_Cardio=1)"
   ]
  },
  {
   "cell_type": "markdown",
   "metadata": {},
   "source": [
    "## age 55-65"
   ]
  },
  {
   "cell_type": "code",
   "execution_count": null,
   "metadata": {
    "ExecuteTime": {
     "end_time": "2019-02-13T17:40:42.748479Z",
     "start_time": "2019-02-13T17:40:26.208702Z"
    }
   },
   "outputs": [],
   "source": [
    "min_age=55\n",
    "max_age=65\n",
    "nToSample=10\n",
    "nSeqs=11500\n",
    "isRandom=False\n",
    "\n",
    "nSampledShared=3\n",
    "\n",
    "sharing_rate_comparison_PNP_Cardio(AllUniqueWithCounts_path=None,min_age=min_age,max_age=max_age,nToSample=nToSample,\n",
    "                                       nSeqs=nSeqs,nSampledShared=nSampledShared,isRandom=isRandom,random_state_PNP=1,random_state_Cardio=1)"
   ]
  },
  {
   "cell_type": "code",
   "execution_count": null,
   "metadata": {
    "ExecuteTime": {
     "end_time": "2019-02-13T13:49:21.630842Z",
     "start_time": "2019-02-13T13:49:04.181315Z"
    }
   },
   "outputs": [],
   "source": [
    "min_age=55\n",
    "max_age=65\n",
    "nToSample=20\n",
    "nSeqs=6500\n",
    "isRandom=False\n",
    "\n",
    "sharing_rate_comparison_PNP_Cardio(AllUniqueWithCounts_prod=None,min_age=min_age,max_age=max_age,nToSample=nToSample,\n",
    "                                       nSeqs=nSeqs,isRandom=isRandom,random_state_PNP=1,random_state_Cardio=1)"
   ]
  },
  {
   "cell_type": "code",
   "execution_count": null,
   "metadata": {
    "ExecuteTime": {
     "end_time": "2019-02-13T13:49:42.563331Z",
     "start_time": "2019-02-13T13:49:25.025520Z"
    }
   },
   "outputs": [],
   "source": [
    "min_age=55\n",
    "max_age=65\n",
    "nToSample=26\n",
    "nSeqs=2700\n",
    "isRandom=False\n",
    "\n",
    "sharing_rate_comparison_PNP_Cardio(AllUniqueWithCounts_prod=None,min_age=min_age,max_age=max_age,nToSample=nToSample,\n",
    "                                       nSeqs=nSeqs,isRandom=isRandom,random_state_PNP=1,random_state_Cardio=1)"
   ]
  },
  {
   "cell_type": "markdown",
   "metadata": {},
   "source": [
    "## age 60-70"
   ]
  },
  {
   "cell_type": "code",
   "execution_count": null,
   "metadata": {
    "ExecuteTime": {
     "end_time": "2019-02-13T17:35:01.306785Z",
     "start_time": "2019-02-13T17:34:47.677001Z"
    }
   },
   "outputs": [],
   "source": [
    "min_age=60\n",
    "max_age=70\n",
    "nToSample=10\n",
    "nSeqs=8300\n",
    "isRandom=False\n",
    "\n",
    "nSampledShared=4\n",
    "\n",
    "sharing_rate_comparison_PNP_Cardio(AllUniqueWithCounts_path=None,min_age=min_age,max_age=max_age,nToSample=nToSample,\n",
    "                                       nSeqs=nSeqs,nSampledShared=nSampledShared,isRandom=isRandom,random_state_PNP=1,random_state_Cardio=1)"
   ]
  },
  {
   "cell_type": "code",
   "execution_count": null,
   "metadata": {
    "ExecuteTime": {
     "end_time": "2019-02-13T16:37:03.912377Z",
     "start_time": "2019-02-13T16:36:48.663757Z"
    }
   },
   "outputs": [],
   "source": [
    "min_age=60\n",
    "max_age=70\n",
    "nToSample=20\n",
    "nSeqs=3300\n",
    "isRandom=False\n",
    "\n",
    "nSampledShared=4\n",
    "\n",
    "sharing_rate_comparison_PNP_Cardio(AllUniqueWithCounts_path=None,min_age=min_age,max_age=max_age,nToSample=nToSample,\n",
    "                                       nSeqs=nSeqs,nSampledShared=nSampledShared,isRandom=isRandom,random_state_PNP=1,random_state_Cardio=1)"
   ]
  },
  {
   "cell_type": "markdown",
   "metadata": {},
   "source": [
    "## age 45-70"
   ]
  },
  {
   "cell_type": "code",
   "execution_count": null,
   "metadata": {
    "ExecuteTime": {
     "end_time": "2019-02-24T12:34:45.700116Z",
     "start_time": "2019-02-24T12:34:25.657487Z"
    }
   },
   "outputs": [],
   "source": [
    "min_age=45\n",
    "max_age=70\n",
    "nToSample=10\n",
    "nSeqs=13500\n",
    "isRandom=False\n",
    "\n",
    "nSampledShared=2\n",
    "\n",
    "sharing_rate_comparison_PNP_Cardio(AllUniqueWithCounts_path=None,min_age=min_age,max_age=max_age,nToSample=nToSample,\n",
    "                                       nSeqs=nSeqs,nSampledShared=nSampledShared,isRandom=isRandom,random_state_PNP=1,random_state_Cardio=1)"
   ]
  },
  {
   "cell_type": "code",
   "execution_count": null,
   "metadata": {
    "ExecuteTime": {
     "end_time": "2019-02-24T12:38:28.619797Z",
     "start_time": "2019-02-24T12:38:09.466754Z"
    }
   },
   "outputs": [],
   "source": [
    "min_age=45\n",
    "max_age=70\n",
    "nToSample=20\n",
    "nSeqs=11500\n",
    "isRandom=False\n",
    "\n",
    "nSampledShared=2\n",
    "\n",
    "sharing_rate_comparison_PNP_Cardio(AllUniqueWithCounts_path=None,min_age=min_age,max_age=max_age,nToSample=nToSample,\n",
    "                                       nSeqs=nSeqs,nSampledShared=nSampledShared,isRandom=isRandom,random_state_PNP=1,random_state_Cardio=1)"
   ]
  },
  {
   "cell_type": "code",
   "execution_count": null,
   "metadata": {
    "ExecuteTime": {
     "end_time": "2019-02-24T12:39:56.914191Z",
     "start_time": "2019-02-24T12:39:35.854113Z"
    }
   },
   "outputs": [],
   "source": [
    "min_age=45\n",
    "max_age=70\n",
    "nToSample=20\n",
    "nSeqs=11500\n",
    "isRandom=False\n",
    "\n",
    "nSampledShared=4\n",
    "\n",
    "sharing_rate_comparison_PNP_Cardio(AllUniqueWithCounts_path=None,min_age=min_age,max_age=max_age,nToSample=nToSample,\n",
    "                                       nSeqs=nSeqs,nSampledShared=nSampledShared,isRandom=isRandom,random_state_PNP=1,random_state_Cardio=1)"
   ]
  },
  {
   "cell_type": "code",
   "execution_count": null,
   "metadata": {
    "ExecuteTime": {
     "end_time": "2019-02-24T12:35:18.176552Z",
     "start_time": "2019-02-24T12:34:58.090568Z"
    }
   },
   "outputs": [],
   "source": [
    "min_age=45\n",
    "max_age=70\n",
    "nToSample=20\n",
    "nSeqs=11500\n",
    "isRandom=False\n",
    "\n",
    "nSampledShared=10\n",
    "\n",
    "sharing_rate_comparison_PNP_Cardio(AllUniqueWithCounts_path=None,min_age=min_age,max_age=max_age,nToSample=nToSample,\n",
    "                                       nSeqs=nSeqs,nSampledShared=nSampledShared,isRandom=isRandom,random_state_PNP=1,random_state_Cardio=1)"
   ]
  },
  {
   "cell_type": "code",
   "execution_count": null,
   "metadata": {
    "ExecuteTime": {
     "end_time": "2019-02-24T12:40:29.563809Z",
     "start_time": "2019-02-24T12:40:09.999007Z"
    }
   },
   "outputs": [],
   "source": [
    "min_age=45\n",
    "max_age=70\n",
    "nToSample=20\n",
    "nSeqs=11500\n",
    "isRandom=False\n",
    "\n",
    "nSampledShared=6\n",
    "\n",
    "sharing_rate_comparison_PNP_Cardio(AllUniqueWithCounts_path=None,min_age=min_age,max_age=max_age,nToSample=nToSample,\n",
    "                                       nSeqs=nSeqs,nSampledShared=nSampledShared,isRandom=isRandom,random_state_PNP=1,random_state_Cardio=1)"
   ]
  },
  {
   "cell_type": "code",
   "execution_count": null,
   "metadata": {
    "ExecuteTime": {
     "end_time": "2019-02-13T16:53:09.228037Z",
     "start_time": "2019-02-13T16:52:46.783303Z"
    }
   },
   "outputs": [],
   "source": [
    "min_age=45\n",
    "max_age=70\n",
    "nToSample=30\n",
    "nSeqs=9500\n",
    "isRandom=False\n",
    "\n",
    "nSampledShared=5\n",
    "\n",
    "sharing_rate_comparison_PNP_Cardio(AllUniqueWithCounts_path=None,min_age=min_age,max_age=max_age,nToSample=nToSample,\n",
    "                                       nSeqs=nSeqs,nSampledShared=nSampledShared,isRandom=isRandom,random_state_PNP=1,random_state_Cardio=1)"
   ]
  },
  {
   "cell_type": "code",
   "execution_count": null,
   "metadata": {
    "ExecuteTime": {
     "end_time": "2019-02-13T16:56:07.162435Z",
     "start_time": "2019-02-13T16:55:41.490470Z"
    }
   },
   "outputs": [],
   "source": [
    "min_age=45\n",
    "max_age=70\n",
    "nToSample=40\n",
    "nSeqs=6000\n",
    "isRandom=False\n",
    "\n",
    "nSampledShared=4\n",
    "\n",
    "sharing_rate_comparison_PNP_Cardio(AllUniqueWithCounts_path=None,min_age=min_age,max_age=max_age,nToSample=nToSample,\n",
    "                                       nSeqs=nSeqs,nSampledShared=nSampledShared,isRandom=isRandom,random_state_PNP=1,random_state_Cardio=1)"
   ]
  },
  {
   "cell_type": "code",
   "execution_count": null,
   "metadata": {},
   "outputs": [],
   "source": []
  },
  {
   "cell_type": "code",
   "execution_count": null,
   "metadata": {
    "ExecuteTime": {
     "end_time": "2019-02-13T14:03:59.382001Z",
     "start_time": "2019-02-13T14:03:43.531511Z"
    }
   },
   "outputs": [],
   "source": [
    "min_age=45\n",
    "max_age=70\n",
    "nToSample=10\n",
    "nSeqs=1800\n",
    "isRandom=True #### note!!!! ######\n",
    "random_state_PNP=1\n",
    "random_state_Cardio=1\n",
    "\n",
    "sharing_rate_comparison_PNP_Cardio(AllUniqueWithCounts_prod=None,min_age=min_age,max_age=max_age,nToSample=nToSample,\n",
    "                                       nSeqs=nSeqs,isRandom=isRandom,random_state_PNP=random_state_PNP,random_state_Cardio=random_state_Cardio)"
   ]
  },
  {
   "cell_type": "code",
   "execution_count": null,
   "metadata": {
    "ExecuteTime": {
     "end_time": "2019-02-13T16:57:39.998682Z",
     "start_time": "2019-02-13T16:57:25.099169Z"
    }
   },
   "outputs": [],
   "source": [
    "min_age=45\n",
    "max_age=70\n",
    "nToSample=20\n",
    "nSeqs=1800\n",
    "isRandom=True #### note!!!! ######\n",
    "\n",
    "nSampledShared=3\n",
    "\n",
    "sharing_rate_comparison_PNP_Cardio(AllUniqueWithCounts_path=None,min_age=min_age,max_age=max_age,nToSample=nToSample,\n",
    "                                       nSeqs=nSeqs,nSampledShared=nSampledShared,isRandom=isRandom,random_state_PNP=1,random_state_Cardio=1)"
   ]
  },
  {
   "cell_type": "markdown",
   "metadata": {},
   "source": [
    "## age 40-50"
   ]
  },
  {
   "cell_type": "code",
   "execution_count": null,
   "metadata": {
    "ExecuteTime": {
     "end_time": "2019-02-13T17:32:39.400585Z",
     "start_time": "2019-02-13T17:32:26.277551Z"
    }
   },
   "outputs": [],
   "source": [
    "min_age=40\n",
    "max_age=50\n",
    "nToSample=10\n",
    "nSeqs=3800\n",
    "isRandom=False \n",
    "\n",
    "nSampledShared=4\n",
    "\n",
    "sharing_rate_comparison_PNP_Cardio(AllUniqueWithCounts_path=None,min_age=min_age,max_age=max_age,nToSample=nToSample,\n",
    "                                       nSeqs=nSeqs,nSampledShared=nSampledShared,isRandom=isRandom,random_state_PNP=1,random_state_Cardio=1)"
   ]
  },
  {
   "cell_type": "markdown",
   "metadata": {},
   "source": [
    "## age 65-75"
   ]
  },
  {
   "cell_type": "code",
   "execution_count": null,
   "metadata": {
    "ExecuteTime": {
     "end_time": "2019-02-13T17:39:52.672287Z",
     "start_time": "2019-02-13T17:39:38.816653Z"
    }
   },
   "outputs": [],
   "source": [
    "min_age=65\n",
    "max_age=75\n",
    "nToSample=9\n",
    "nSeqs=3300\n",
    "isRandom=False \n",
    "\n",
    "nSampledShared=3\n",
    "\n",
    "sharing_rate_comparison_PNP_Cardio(AllUniqueWithCounts_path=None,min_age=min_age,max_age=max_age,nToSample=nToSample,\n",
    "                                       nSeqs=nSeqs,nSampledShared=nSampledShared,isRandom=isRandom,random_state_PNP=1,random_state_Cardio=1)"
   ]
  },
  {
   "cell_type": "markdown",
   "metadata": {},
   "source": [
    "## age 0-90"
   ]
  },
  {
   "cell_type": "code",
   "execution_count": null,
   "metadata": {
    "ExecuteTime": {
     "end_time": "2019-02-13T15:35:12.126784Z",
     "start_time": "2019-02-13T15:34:54.209294Z"
    }
   },
   "outputs": [],
   "source": [
    "min_age=0\n",
    "max_age=90\n",
    "nToSample=20\n",
    "nSeqs=5000\n",
    "isRandom=False #### note!!!! ######\n",
    "\n",
    "sharing_rate_comparison_PNP_Cardio(AllUniqueWithCounts_path=None,min_age=min_age,max_age=max_age,nToSample=nToSample,\n",
    "                                       nSeqs=nSeqs,isRandom=isRandom,random_state_PNP=1,random_state_Cardio=1)"
   ]
  },
  {
   "cell_type": "markdown",
   "metadata": {},
   "source": [
    "## use subsampled datasets\n",
    "no further subsampling is done!"
   ]
  },
  {
   "cell_type": "code",
   "execution_count": null,
   "metadata": {
    "ExecuteTime": {
     "end_time": "2019-02-13T17:08:55.600064Z",
     "start_time": "2019-02-13T17:08:50.704792Z"
    }
   },
   "outputs": [],
   "source": [
    "AllUniqueWithCounts_path='%s/TCR_real_data/PNP530Cardio126Combined/nonMatched/ss5000_rep3/sharingAnalysis/AllUniqueWithCounts' %MyPath\n",
    "min_age=45\n",
    "max_age=60\n",
    "nToSample=20\n",
    "nSeqs=None\n",
    "isRandom=True #### note!!!! ######\n",
    "random_state_PNP=3\n",
    "random_state_Cardio=3\n",
    "\n",
    "nSampledShared=2\n",
    "\n",
    "\n",
    "\n",
    "sharing_rate_comparison_PNP_Cardio(AllUniqueWithCounts_path=AllUniqueWithCounts_path,min_age=min_age,max_age=max_age,nToSample=nToSample,\n",
    "                                       nSeqs=nSeqs,nSampledShared=nSampledShared,isRandom=isRandom,random_state_PNP=random_state_PNP,random_state_Cardio=random_state_Cardio)"
   ]
  },
  {
   "cell_type": "code",
   "execution_count": null,
   "metadata": {
    "ExecuteTime": {
     "end_time": "2019-02-13T17:09:00.346131Z",
     "start_time": "2019-02-13T17:08:55.602628Z"
    }
   },
   "outputs": [],
   "source": [
    "AllUniqueWithCounts_path='%s/TCR_real_data/PNP530Cardio126Combined/nonMatched/ss5000_rep3/sharingAnalysis/AllUniqueWithCounts' %MyPath\n",
    "min_age=60\n",
    "max_age=75\n",
    "nToSample=20\n",
    "nSeqs=None\n",
    "isRandom=True #### note!!!! ######\n",
    "random_state_PNP=3\n",
    "random_state_Cardio=3\n",
    "\n",
    "nSampledShared=2\n",
    "\n",
    "\n",
    "\n",
    "sharing_rate_comparison_PNP_Cardio(AllUniqueWithCounts_path=AllUniqueWithCounts_path,min_age=min_age,max_age=max_age,nToSample=nToSample,\n",
    "                                       nSeqs=nSeqs,nSampledShared=nSampledShared,isRandom=isRandom,random_state_PNP=random_state_PNP,random_state_Cardio=random_state_Cardio)"
   ]
  },
  {
   "cell_type": "code",
   "execution_count": null,
   "metadata": {
    "ExecuteTime": {
     "end_time": "2019-02-13T17:08:55.600064Z",
     "start_time": "2019-02-13T17:08:50.704792Z"
    }
   },
   "outputs": [],
   "source": [
    "AllUniqueWithCounts_path='%s/TCR_real_data/PNP530Cardio126Combined/nonMatched/ss5000_rep3/sharingAnalysis/AllUniqueWithCounts' %MyPath\n",
    "min_age=45\n",
    "max_age=60\n",
    "nToSample=20\n",
    "nSeqs=None\n",
    "isRandom=True #### note!!!! ######\n",
    "random_state_PNP=3\n",
    "random_state_Cardio=3\n",
    "\n",
    "nSampledShared=2\n",
    "\n",
    "\n",
    "\n",
    "sharing_rate_comparison_PNP_Cardio(AllUniqueWithCounts_path=AllUniqueWithCounts_path,min_age=min_age,max_age=max_age,nToSample=nToSample,\n",
    "                                       nSeqs=nSeqs,nSampledShared=nSampledShared,isRandom=isRandom,random_state_PNP=random_state_PNP,random_state_Cardio=random_state_Cardio)"
   ]
  },
  {
   "cell_type": "code",
   "execution_count": null,
   "metadata": {
    "ExecuteTime": {
     "end_time": "2019-02-13T17:09:57.317851Z",
     "start_time": "2019-02-13T17:09:48.545294Z"
    }
   },
   "outputs": [],
   "source": [
    "AllUniqueWithCounts_path='%s/TCR_real_data/PNP530Cardio126Combined/nonMatched/ss15000_rep3/sharingAnalysis/AllUniqueWithCounts' %MyPath\n",
    "min_age=45\n",
    "max_age=60\n",
    "nToSample=20\n",
    "nSeqs=None\n",
    "isRandom=True #### note!!!! ######\n",
    "random_state_PNP=1\n",
    "random_state_Cardio=1\n",
    "\n",
    "nSampledShared=2\n",
    "\n",
    "\n",
    "\n",
    "sharing_rate_comparison_PNP_Cardio(AllUniqueWithCounts_path=AllUniqueWithCounts_path,min_age=min_age,max_age=max_age,nToSample=nToSample,\n",
    "                                       nSeqs=nSeqs,nSampledShared=nSampledShared,isRandom=isRandom,random_state_PNP=random_state_PNP,random_state_Cardio=random_state_Cardio)"
   ]
  },
  {
   "cell_type": "code",
   "execution_count": null,
   "metadata": {
    "ExecuteTime": {
     "end_time": "2019-02-13T17:49:19.983743Z",
     "start_time": "2019-02-13T17:49:09.789039Z"
    }
   },
   "outputs": [],
   "source": [
    "AllUniqueWithCounts_path='%s/TCR_real_data/PNP530Cardio126Combined/nonMatched/ss15000_rep3/sharingAnalysis/AllUniqueWithCounts' %MyPath\n",
    "min_age=45\n",
    "max_age=70\n",
    "nToSample=20\n",
    "nSeqs=None\n",
    "isRandom=True #### note!!!! ######\n",
    "random_state_PNP=3\n",
    "random_state_Cardio=3\n",
    "\n",
    "nSampledShared=2\n",
    "\n",
    "\n",
    "\n",
    "sharing_rate_comparison_PNP_Cardio(AllUniqueWithCounts_path=AllUniqueWithCounts_path,min_age=min_age,max_age=max_age,nToSample=nToSample,\n",
    "                                       nSeqs=nSeqs,nSampledShared=nSampledShared,isRandom=isRandom,random_state_PNP=random_state_PNP,random_state_Cardio=random_state_Cardio)"
   ]
  },
  {
   "cell_type": "markdown",
   "metadata": {},
   "source": [
    "## conclusion:"
   ]
  },
  {
   "cell_type": "markdown",
   "metadata": {},
   "source": [
    "in the following comparisons, patients showed less sharing than controls:\n",
    "1. ages 45-70, 20 samples, nSahred>= 4/5/10 (also in 40 samples)\n",
    "note - ages 45-70, using pre-subsampled samples - not working!\n",
    "2. ages 45-60, on pre-subsampled samples. in this case, in age group 60-75 the trend is oppsite!\n",
    "3. ages 50-60, 20 samples nShared>=2. "
   ]
  },
  {
   "cell_type": "code",
   "execution_count": null,
   "metadata": {},
   "outputs": [],
   "source": []
  },
  {
   "cell_type": "code",
   "execution_count": null,
   "metadata": {},
   "outputs": [],
   "source": []
  },
  {
   "cell_type": "code",
   "execution_count": null,
   "metadata": {
    "ExecuteTime": {
     "end_time": "2019-02-13T15:43:59.809008Z",
     "start_time": "2019-02-13T15:43:59.804729Z"
    }
   },
   "outputs": [],
   "source": [
    "print 'sdasdf'"
   ]
  },
  {
   "cell_type": "markdown",
   "metadata": {},
   "source": [
    "# PCoA\n",
    "patients are more distinct from each other\n",
    "use sequence clusters or just sequences - presence/absence and jaccard"
   ]
  },
  {
   "cell_type": "markdown",
   "metadata": {},
   "source": [
    "see PCA-PCoA notebook"
   ]
  },
  {
   "cell_type": "markdown",
   "metadata": {},
   "source": [
    "# sequence cluster heatmap"
   ]
  },
  {
   "cell_type": "markdown",
   "metadata": {},
   "source": [
    "## get data:"
   ]
  },
  {
   "cell_type": "markdown",
   "metadata": {},
   "source": [
    "### get list of clusters to present:\n",
    "this list should be used to slice all further input dfs:"
   ]
  },
  {
   "cell_type": "code",
   "execution_count": null,
   "metadata": {
    "ExecuteTime": {
     "end_time": "2019-02-24T11:07:08.789443Z",
     "start_time": "2019-02-24T11:07:08.668169Z"
    }
   },
   "outputs": [],
   "source": [
    "top_diff_clusters=pd.read_excel(CLUSTER_ANALYSIS_DIR+'Fisher_MW_comparisons/PNP530_balancedAge_males_prodClusRed\\\n",
    "_Cardio126_balancedAge_males_prodClusRed_percShared01_percTooMany085_top100p05_analyzed.xlsx')\n",
    "\n",
    "cluster_list=top_diff_clusters['cluster_head'].dropna().tolist()\n",
    "print cluster_list[:20]\n",
    "top_diff_clusters.head()"
   ]
  },
  {
   "cell_type": "markdown",
   "metadata": {},
   "source": [
    "### get sampleByClusterDF - balanced"
   ]
  },
  {
   "cell_type": "code",
   "execution_count": null,
   "metadata": {
    "ExecuteTime": {
     "end_time": "2019-02-24T09:26:37.761213Z",
     "start_time": "2019-02-24T09:26:35.862248Z"
    }
   },
   "outputs": [],
   "source": [
    "sampleByClusterDF=pd.read_pickle('/net/mraid08/export/jafar/Microbiome/Analyses/ShaniBAF/\\\n",
    "sharingAnalysis/seqClusters_allProd_maxdist1/sampleByClusterDF_cohortfiltering005-085perc_dropped.dat')"
   ]
  },
  {
   "cell_type": "code",
   "execution_count": null,
   "metadata": {
    "ExecuteTime": {
     "end_time": "2019-02-24T09:27:45.948177Z",
     "start_time": "2019-02-24T09:27:45.937730Z"
    }
   },
   "outputs": [],
   "source": [
    "# get samples lists:\n",
    "with open('/net/mraid08/export/genie/Lab/Personal/ShaniBAF/Sample files/BD lists/PNP530_balancedAge_males') as fp:\n",
    "    PNP530_balancedAge_males=pickle.load(fp)\n",
    "with open('/net/mraid08/export/genie/Lab/Personal/ShaniBAF/Sample files/BD lists/Cardio126_balancedAge_males') as fp:\n",
    "    Cardio126_balancedAge_males=pickle.load(fp)"
   ]
  },
  {
   "cell_type": "code",
   "execution_count": null,
   "metadata": {
    "ExecuteTime": {
     "end_time": "2019-02-24T11:07:28.830382Z",
     "start_time": "2019-02-24T11:07:28.806427Z"
    }
   },
   "outputs": [],
   "source": [
    "sampleByClusterDF_balanced_clusterList=sampleByClusterDF.\\\n",
    "loc[PNP530_balancedAge_males+Cardio126_balancedAge_males,cluster_list].fillna(0)\n",
    "print sampleByClusterDF_balanced_clusterList.shape\n",
    "sampleByClusterDF_balanced_clusterList.iloc[:5,:5]"
   ]
  },
  {
   "cell_type": "markdown",
   "metadata": {},
   "source": [
    "### get sum of relevant clusters per clusterlist"
   ]
  },
  {
   "cell_type": "code",
   "execution_count": null,
   "metadata": {
    "ExecuteTime": {
     "end_time": "2019-02-24T12:09:28.409413Z",
     "start_time": "2019-02-24T12:09:28.384180Z"
    }
   },
   "outputs": [],
   "source": [
    "cluster_sum=sampleByClusterDF_balanced_clusterList.sum(axis=1)\n",
    "print cluster_sum.shape\n",
    "cluster_sum.sort_values(ascending=False)\n"
   ]
  },
  {
   "cell_type": "markdown",
   "metadata": {},
   "source": [
    "### get targetDF:"
   ]
  },
  {
   "cell_type": "code",
   "execution_count": null,
   "metadata": {
    "ExecuteTime": {
     "end_time": "2019-02-24T11:09:38.301639Z",
     "start_time": "2019-02-24T11:09:38.278646Z"
    }
   },
   "outputs": [],
   "source": [
    "PRED_RESULTS_DIR='/net/mraid08/export/jafar/Microbiome/Analyses/ShaniBAF/predictions2/'\n",
    "isCardio=pd.read_pickle(PRED_RESULTS_DIR+'TargetDFs/isCardio.dat')\n",
    "iscardio_balanced=isCardio.loc[PNP530_balancedAge_males+Cardio126_balancedAge_males]\n",
    "print iscardio_balanced.shape\n",
    "print iscardio_balanced.head()"
   ]
  },
  {
   "cell_type": "markdown",
   "metadata": {},
   "source": [
    "### get y_pred"
   ]
  },
  {
   "cell_type": "code",
   "execution_count": null,
   "metadata": {
    "ExecuteTime": {
     "end_time": "2019-02-24T11:09:58.942590Z",
     "start_time": "2019-02-24T11:09:58.923434Z"
    }
   },
   "outputs": [],
   "source": [
    "Y_pred=pd.read_pickle(PRED_RESULTS_DIR+'isCardio/XGB_randomSearch_25_byRepFeatPCA10RelsVDJnocorr0999AgeGender/\\\n",
    "predictions_df.pkl')\n",
    "Y_pred=Y_pred.loc[PNP530_balancedAge_males+Cardio126_balancedAge_males]\n",
    "print Y_pred.shape\n",
    "print Y_pred.head()"
   ]
  },
  {
   "cell_type": "markdown",
   "metadata": {},
   "source": [
    "## define function"
   ]
  },
  {
   "cell_type": "code",
   "execution_count": null,
   "metadata": {
    "ExecuteTime": {
     "end_time": "2019-02-24T11:04:51.710948Z",
     "start_time": "2019-02-24T11:04:51.703838Z"
    }
   },
   "outputs": [],
   "source": [
    "plt.show()"
   ]
  },
  {
   "cell_type": "code",
   "execution_count": null,
   "metadata": {
    "ExecuteTime": {
     "end_time": "2019-02-24T12:25:28.742297Z",
     "start_time": "2019-02-24T12:25:28.594216Z"
    }
   },
   "outputs": [],
   "source": [
    "def plot_sequence_cluster_heatmap(targetDF,Y_pred,sampleByClusterDF,cluster_sum,ax1,ax2,ax3,showPredCbar=True,\n",
    "                                 max_val=6,binary=True):\n",
    "    \n",
    "    ### inputs are: targetDF = (Y_true), Y_pred, sampleByClusterDF, cluster_sum (summary of number of \n",
    "    ### seqeunces in clusters that are includesd in the cluster-list presnted, per sample)\n",
    "    ### make sure all of the above 4 dfs include the same clusters (cluster list) and do not include nans\n",
    "    ### Y_pred should be astype 'float'\n",
    "\n",
    "    ##max_val can be None and then will be set to the maximal value if the data\n",
    "    \n",
    "    print 'get data...'\n",
    "    Yname=targetDF.columns.tolist()[0]\n",
    "    \n",
    "    # get Y_pred data:\n",
    "    Y_pred=Y_pred.rename(columns={Y_pred.columns[0]:'pred_proba'}).astype('float')\n",
    "    Y_pred=pd.DataFrame(Y_pred)\n",
    "    \n",
    "    cluster_sum=pd.DataFrame(cluster_sum)\n",
    "    cluster_sum=cluster_sum.rename(columns={cluster_sum.columns[0]:'cluster_sum'})\n",
    "    print cluster_sum.head()\n",
    "       \n",
    "    print 'merging info...'\n",
    "    #merge all and sort by Y and Y_pred:\n",
    "    merged=pd.merge(targetDF,Y_pred,how='inner',left_index=True,right_index=True)\n",
    "    merged=pd.merge(merged,cluster_sum,how='inner',left_index=True,right_index=True)\n",
    "    merged=pd.merge(merged,sampleByClusterDF,how='inner',left_index=True,right_index=True)\n",
    "    merged=merged.sort_values(by=[Yname,'pred_proba'],ascending=False)\n",
    "    print ('merged.shape: ',merged.shape)\n",
    "    print merged.head()\n",
    "#     print merged[merged.isnull().any(axis=1)]\n",
    "    \n",
    "    df =  merged[[Yname,'pred_proba']]\n",
    "#     df =  pd.DataFrame(merged['pred_proba'])\n",
    "#     df =  pd.DataFrame(merged[Yname])\n",
    "    print 'df:'\n",
    "    print df.head()\n",
    "    df2 = merged.iloc[:,4:]\n",
    "    print 'df2:'\n",
    "    print df2.head()\n",
    "    df3=pd.DataFrame(merged['cluster_sum'])\n",
    "    print df3.head()\n",
    "\n",
    "        #generate figure:\n",
    "    print 'generating figure...'\n",
    "    print ('max val is: ',df2.max().max())\n",
    "    if max_val is None:\n",
    "        max_val=int(df2.max().max())\n",
    "    min_val=0\n",
    "    dif=max_val-min_val\n",
    "#     print dif\n",
    "\n",
    "    cmap_2 = plt.get_cmap('Reds', dif+1)\n",
    "    cmap_3='Blues'\n",
    "    \n",
    "#     fig.subplots_adjust(hspace=0.02)\n",
    "# ,vmin=min_val,vmax=max_val\n",
    "    print 'generating heat map1'\n",
    "    hp1=sns.heatmap(df.T, cmap=\"Greys\", ax=ax1, cbar=False,linewidth=0.05)\n",
    "    if showPredCbar:\n",
    "        cbar_1=fig.colorbar(ax1.collections[0],ax=ax1,location=\"top\", use_gridspec=False, pad=0.08,fraction=0.3,aspect=10)\n",
    "        if binary:\n",
    "            cbar_1.set_ticks([0,0.5,1])\n",
    "        else:\n",
    "            cbar_1.set_ticklabels(range(dif+1))\n",
    "    print 'generating heat map2...'\n",
    "    hp2=sns.heatmap(df2.T, cmap=cmap_2, ax=ax2, cbar=False,linewidth=0.05,vmin = min_val, vmax = max_val)\n",
    "    cbar_2=fig.colorbar(ax2.collections[0], ax=ax2,location=\"right\", use_gridspec=False, pad=0.08, fraction=0.05, aspect=10)\n",
    "    cbar_2.set_ticks([float(dif)/12 + float(dif)*x/(dif+1) for x in range(dif+1)])\n",
    "    cbar_2.set_ticklabels(range(dif+1))\n",
    "    print 'generating heat map 3...'\n",
    "    hp3=sns.heatmap(df3.T, cmap=cmap_3, ax=ax3, cbar=False,linewidth=0.05)\n",
    "\n",
    "    ax1.tick_params(axis='both', which='both', bottom=False, top=False, labelbottom=False, labelleft=False) \n",
    "    ax2.tick_params(axis='both', which='both', bottom=False, top=False, labelbottom=False, labelleft=False)\n",
    "    ax3.tick_params(axis='both', which='both', bottom=False, top=False, labelbottom=False, labelleft=False)\n",
    "    cbar_3=fig.colorbar(ax3.collections[0], ax=ax3,location=\"bottom\", use_gridspec=False, pad=0.08, fraction=0.5, aspect=10)\n",
    "   \n",
    "    return ax1,ax2,ax3\n",
    "    "
   ]
  },
  {
   "cell_type": "markdown",
   "metadata": {},
   "source": [
    "## generate heat map"
   ]
  },
  {
   "cell_type": "code",
   "execution_count": null,
   "metadata": {
    "ExecuteTime": {
     "end_time": "2019-02-24T12:25:45.074942Z",
     "start_time": "2019-02-24T12:25:40.129750Z"
    }
   },
   "outputs": [],
   "source": [
    "from matplotlib import gridspec\n",
    "\n",
    "cluster_list=top_diff_clusters['cluster_head'].tolist()[:100]\n",
    "\n",
    "\n",
    "targetDF=iscardio_balanced\n",
    "Y_pred=Y_pred\n",
    "sampleByClusterDF=sampleByClusterDF_balanced_clusterList\n",
    "cluster_sum=cluster_sum\n",
    "\n",
    "showPredCbar=True\n",
    "max_val=None\n",
    "binary=True\n",
    "\n",
    "f=plt.figure(figsize=(15,15))\n",
    "gs00=gridspec.GridSpec(106,1)\n",
    "\n",
    "ax1=plt.Subplot(f,gs00[:2,:])\n",
    "f.add_subplot(ax1)\n",
    "ax2=plt.Subplot(f,gs00[2:102,:])\n",
    "f.add_subplot(ax2)\n",
    "ax3=plt.Subplot(f,gs00[102:,:])\n",
    "f.add_subplot(ax3)\n",
    "\n",
    "plot_sequence_cluster_heatmap(targetDF,Y_pred,sampleByClusterDF,cluster_sum,ax1,ax2,ax3,showPredCbar=showPredCbar,\n",
    "                             max_val=max_val,binary=binary)\n",
    "plt.show()"
   ]
  },
  {
   "cell_type": "markdown",
   "metadata": {},
   "source": [
    "# new feature comparison between balanced groups:"
   ]
  },
  {
   "cell_type": "markdown",
   "metadata": {},
   "source": [
    "1. get feature table and add isCardio column\n",
    "2. filter to have only balanced samples\n",
    "3. for each feature, groupby isCardio and compare between groups\n",
    "4. look for annotation features and the geatures I showed in figure 2\n"
   ]
  },
  {
   "cell_type": "markdown",
   "metadata": {},
   "source": [
    "## get feature table and add isCardio column"
   ]
  },
  {
   "cell_type": "code",
   "execution_count": 105,
   "metadata": {
    "ExecuteTime": {
     "end_time": "2019-03-31T00:56:27.617006Z",
     "start_time": "2019-03-31T00:56:27.609160Z"
    }
   },
   "outputs": [],
   "source": [
    "# get samples lists:\n",
    "with open('/net/mraid08/export/genie/Lab/Personal/ShaniBAF/Sample files/BD lists/PNP530_balancedAge_males') as fp:\n",
    "    PNP530_balancedAge_males=pickle.load(fp)\n",
    "with open('/net/mraid08/export/genie/Lab/Personal/ShaniBAF/Sample files/BD lists/Cardio126_balancedAge_males') as fp:\n",
    "    Cardio126_balancedAge_males=pickle.load(fp)"
   ]
  },
  {
   "cell_type": "code",
   "execution_count": 107,
   "metadata": {
    "ExecuteTime": {
     "end_time": "2019-03-31T00:57:24.241843Z",
     "start_time": "2019-03-31T00:57:24.141699Z"
    }
   },
   "outputs": [
    {
     "name": "stdout",
     "output_type": "stream",
     "text": [
      "(150, 410)\n"
     ]
    },
    {
     "data": {
      "text/html": [
       "<div>\n",
       "<style scoped>\n",
       "    .dataframe tbody tr th:only-of-type {\n",
       "        vertical-align: middle;\n",
       "    }\n",
       "\n",
       "    .dataframe tbody tr th {\n",
       "        vertical-align: top;\n",
       "    }\n",
       "\n",
       "    .dataframe thead th {\n",
       "        text-align: right;\n",
       "    }\n",
       "</style>\n",
       "<table border=\"1\" class=\"dataframe\">\n",
       "  <thead>\n",
       "    <tr style=\"text-align: right;\">\n",
       "      <th></th>\n",
       "      <th>AA count_0</th>\n",
       "      <th>AA count_1</th>\n",
       "      <th>NT count_0</th>\n",
       "      <th>NT count_1</th>\n",
       "      <th>berger_aa_0</th>\n",
       "      <th>berger_aa_1</th>\n",
       "      <th>berger_nt_0</th>\n",
       "      <th>cdr3Length_max_0</th>\n",
       "      <th>cdr3Length_max_1</th>\n",
       "      <th>cdr3Length_mean_0</th>\n",
       "      <th>...</th>\n",
       "      <th>D02_J02-02_1</th>\n",
       "      <th>D02_J02-03_1</th>\n",
       "      <th>D02_J02-04_1</th>\n",
       "      <th>D02_J02-05_1</th>\n",
       "      <th>D02_J02-06_1</th>\n",
       "      <th>D02_J02-07_1</th>\n",
       "      <th>Age</th>\n",
       "      <th>Gender_Male</th>\n",
       "      <th>isCardio</th>\n",
       "      <th>norm_nAnnotated</th>\n",
       "    </tr>\n",
       "  </thead>\n",
       "  <tbody>\n",
       "    <tr>\n",
       "      <th>BD801</th>\n",
       "      <td>277.0</td>\n",
       "      <td>12558.0</td>\n",
       "      <td>3376.0</td>\n",
       "      <td>13148.0</td>\n",
       "      <td>0.022436</td>\n",
       "      <td>0.012120</td>\n",
       "      <td>0.048196</td>\n",
       "      <td>81.0</td>\n",
       "      <td>72.0</td>\n",
       "      <td>46.369372</td>\n",
       "      <td>...</td>\n",
       "      <td>0.046702</td>\n",
       "      <td>0.087815</td>\n",
       "      <td>0.012421</td>\n",
       "      <td>0.067693</td>\n",
       "      <td>0.007328</td>\n",
       "      <td>0.099367</td>\n",
       "      <td>54.601147</td>\n",
       "      <td>0.383048</td>\n",
       "      <td>0</td>\n",
       "      <td>0.011308</td>\n",
       "    </tr>\n",
       "    <tr>\n",
       "      <th>BD221</th>\n",
       "      <td>290.0</td>\n",
       "      <td>14387.0</td>\n",
       "      <td>3649.0</td>\n",
       "      <td>15187.0</td>\n",
       "      <td>0.243028</td>\n",
       "      <td>0.022691</td>\n",
       "      <td>0.022034</td>\n",
       "      <td>76.0</td>\n",
       "      <td>69.0</td>\n",
       "      <td>45.318169</td>\n",
       "      <td>...</td>\n",
       "      <td>0.043010</td>\n",
       "      <td>0.089541</td>\n",
       "      <td>0.009498</td>\n",
       "      <td>0.064141</td>\n",
       "      <td>0.008645</td>\n",
       "      <td>0.110459</td>\n",
       "      <td>42.332043</td>\n",
       "      <td>0.992922</td>\n",
       "      <td>0</td>\n",
       "      <td>0.014457</td>\n",
       "    </tr>\n",
       "    <tr>\n",
       "      <th>BD631</th>\n",
       "      <td>99.0</td>\n",
       "      <td>4792.0</td>\n",
       "      <td>1442.0</td>\n",
       "      <td>4998.0</td>\n",
       "      <td>0.018868</td>\n",
       "      <td>0.012813</td>\n",
       "      <td>0.087052</td>\n",
       "      <td>78.0</td>\n",
       "      <td>72.0</td>\n",
       "      <td>45.395978</td>\n",
       "      <td>...</td>\n",
       "      <td>0.046370</td>\n",
       "      <td>0.073873</td>\n",
       "      <td>0.008954</td>\n",
       "      <td>0.065558</td>\n",
       "      <td>0.008315</td>\n",
       "      <td>0.074832</td>\n",
       "      <td>53.347969</td>\n",
       "      <td>0.409627</td>\n",
       "      <td>0</td>\n",
       "      <td>0.021285</td>\n",
       "    </tr>\n",
       "    <tr>\n",
       "      <th>BD441</th>\n",
       "      <td>158.0</td>\n",
       "      <td>10335.0</td>\n",
       "      <td>2346.0</td>\n",
       "      <td>10845.0</td>\n",
       "      <td>0.111675</td>\n",
       "      <td>0.004866</td>\n",
       "      <td>0.010150</td>\n",
       "      <td>78.0</td>\n",
       "      <td>72.0</td>\n",
       "      <td>45.895993</td>\n",
       "      <td>...</td>\n",
       "      <td>0.032784</td>\n",
       "      <td>0.069346</td>\n",
       "      <td>0.006950</td>\n",
       "      <td>0.054842</td>\n",
       "      <td>0.005892</td>\n",
       "      <td>0.064058</td>\n",
       "      <td>46.327400</td>\n",
       "      <td>0.042794</td>\n",
       "      <td>0</td>\n",
       "      <td>0.010643</td>\n",
       "    </tr>\n",
       "    <tr>\n",
       "      <th>BD834</th>\n",
       "      <td>299.0</td>\n",
       "      <td>10651.0</td>\n",
       "      <td>2914.0</td>\n",
       "      <td>11158.0</td>\n",
       "      <td>0.026627</td>\n",
       "      <td>0.027973</td>\n",
       "      <td>0.009746</td>\n",
       "      <td>77.0</td>\n",
       "      <td>78.0</td>\n",
       "      <td>46.650652</td>\n",
       "      <td>...</td>\n",
       "      <td>0.052095</td>\n",
       "      <td>0.097678</td>\n",
       "      <td>0.009626</td>\n",
       "      <td>0.068092</td>\n",
       "      <td>0.008494</td>\n",
       "      <td>0.110985</td>\n",
       "      <td>59.299126</td>\n",
       "      <td>0.470024</td>\n",
       "      <td>0</td>\n",
       "      <td>0.013426</td>\n",
       "    </tr>\n",
       "  </tbody>\n",
       "</table>\n",
       "<p>5 rows × 410 columns</p>\n",
       "</div>"
      ],
      "text/plain": [
       "       AA count_0  AA count_1  NT count_0  NT count_1  berger_aa_0  berger_aa_1  berger_nt_0  cdr3Length_max_0  cdr3Length_max_1  cdr3Length_mean_0       ...         D02_J02-02_1  D02_J02-03_1  D02_J02-04_1  D02_J02-05_1  D02_J02-06_1  D02_J02-07_1        Age  Gender_Male  isCardio  norm_nAnnotated\n",
       "BD801       277.0     12558.0      3376.0     13148.0     0.022436     0.012120     0.048196              81.0              72.0          46.369372       ...             0.046702      0.087815      0.012421      0.067693      0.007328      0.099367  54.601147     0.383048         0         0.011308\n",
       "BD221       290.0     14387.0      3649.0     15187.0     0.243028     0.022691     0.022034              76.0              69.0          45.318169       ...             0.043010      0.089541      0.009498      0.064141      0.008645      0.110459  42.332043     0.992922         0         0.014457\n",
       "BD631        99.0      4792.0      1442.0      4998.0     0.018868     0.012813     0.087052              78.0              72.0          45.395978       ...             0.046370      0.073873      0.008954      0.065558      0.008315      0.074832  53.347969     0.409627         0         0.021285\n",
       "BD441       158.0     10335.0      2346.0     10845.0     0.111675     0.004866     0.010150              78.0              72.0          45.895993       ...             0.032784      0.069346      0.006950      0.054842      0.005892      0.064058  46.327400     0.042794         0         0.010643\n",
       "BD834       299.0     10651.0      2914.0     11158.0     0.026627     0.027973     0.009746              77.0              78.0          46.650652       ...             0.052095      0.097678      0.009626      0.068092      0.008494      0.110985  59.299126     0.470024         0         0.013426\n",
       "\n",
       "[5 rows x 410 columns]"
      ]
     },
     "execution_count": 107,
     "metadata": {},
     "output_type": "execute_result"
    }
   ],
   "source": [
    "featureDF=pd.read_pickle('/net/mraid08/export/genie/Lab/Personal/ShaniBAF/TCR_real_data/Predictions/featureDFs/X_withPredictedAgeGender.dat')\n",
    "featureDF['index']=featureDF.index.str.replace('BD','').astype(int)\n",
    "featureDF['isCardio']=np.where(featureDF['index']>949,1,0)\n",
    "featureDF=featureDF.drop('index',axis=1)\n",
    "\n",
    "\n",
    "### add new feature:\n",
    "featureDF['norm_nAnnotated']=featureDF['totalAnnotateSeqs'] / featureDF['AA count_1']\n",
    "featureDF['norm_nAnnotated']=featureDF['norm_nAnnotated'].fillna(featureDF['norm_nAnnotated'].median())\n",
    "featureDF_balanced=featureDF.loc[PNP530_balancedAge_males+Cardio126_balancedAge_males,:]\n",
    "print featureDF_balanced.shape\n",
    "featureDF_balanced.head()"
   ]
  },
  {
   "cell_type": "code",
   "execution_count": 108,
   "metadata": {
    "ExecuteTime": {
     "end_time": "2019-03-31T00:57:26.596756Z",
     "start_time": "2019-03-31T00:57:26.587267Z"
    }
   },
   "outputs": [
    {
     "name": "stdout",
     "output_type": "stream",
     "text": [
      "251\n",
      "410\n"
     ]
    }
   ],
   "source": [
    "# remove too high resolution VDJ features:\n",
    "cols=[col for col in featureDF_balanced.columns if '-' not in col]\n",
    "print len(cols)\n",
    "print len(featureDF_balanced.columns)\n",
    "\n",
    "featureDF_balanced2=featureDF_balanced[cols]\n"
   ]
  },
  {
   "cell_type": "code",
   "execution_count": 96,
   "metadata": {
    "ExecuteTime": {
     "end_time": "2019-03-31T00:36:41.779409Z",
     "start_time": "2019-03-31T00:36:41.726845Z"
    }
   },
   "outputs": [
    {
     "name": "stdout",
     "output_type": "stream",
     "text": [
      "[u'Allergy_rel_cum_freq(perc)', u'BreastCancer_rel_cum_freq(perc)', u'CMV_rel_cum_freq(perc)', u'CalcifiedAorticStenosisdisease_rel_cum_freq(perc)', u'Carcinoma_rel_cum_freq(perc)', u'Celiacdisease_rel_cum_freq(perc)', u'Colorectalcancer_rel_cum_freq(perc)', u'DENV_rel_cum_freq(perc)', u'DiabetesType1_rel_cum_freq(perc)', u'EBV_rel_cum_freq(perc)', u'GraftVsHostDisease_rel_cum_freq(perc)', u'HCV_rel_cum_freq(perc)', u'HIV_rel_cum_freq(perc)', u'HSV_rel_cum_freq(perc)', u'HomoSapiens_rel_cum_freq(perc)', u'Influenza_rel_cum_freq(perc)', u'LCMV_rel_cum_freq(perc)', u'Leukemia_rel_cum_freq(perc)', u'Lungcancer_rel_cum_freq(perc)', u'Lupus_rel_cum_freq(perc)', u'M.tuberculosis_rel_cum_freq(perc)', u'Melanoma_rel_cum_freq(perc)', u'Multiplesclerosis_rel_cum_freq(perc)', u'Plasmodiumberghei_rel_cum_freq(perc)', u'RSV_rel_cum_freq(perc)', u'RheumatoidArthritis_rel_cum_freq(perc)', u'SIV_rel_cum_freq(perc)', u'WestNilevirus_rel_cum_freq(perc)', u'YellowFeverVirus_rel_cum_freq(perc)', 'isCardio']\n"
     ]
    },
    {
     "data": {
      "text/html": [
       "<div>\n",
       "<style scoped>\n",
       "    .dataframe tbody tr th:only-of-type {\n",
       "        vertical-align: middle;\n",
       "    }\n",
       "\n",
       "    .dataframe tbody tr th {\n",
       "        vertical-align: top;\n",
       "    }\n",
       "\n",
       "    .dataframe thead th {\n",
       "        text-align: right;\n",
       "    }\n",
       "</style>\n",
       "<table border=\"1\" class=\"dataframe\">\n",
       "  <thead>\n",
       "    <tr style=\"text-align: right;\">\n",
       "      <th></th>\n",
       "      <th>index</th>\n",
       "      <th>isCardio</th>\n",
       "      <th>Feature</th>\n",
       "      <th>value</th>\n",
       "    </tr>\n",
       "  </thead>\n",
       "  <tbody>\n",
       "    <tr>\n",
       "      <th>0</th>\n",
       "      <td>BD801</td>\n",
       "      <td>0</td>\n",
       "      <td>Allergy_rel_cum_freq(perc)</td>\n",
       "      <td>2.504489</td>\n",
       "    </tr>\n",
       "    <tr>\n",
       "      <th>1</th>\n",
       "      <td>BD221</td>\n",
       "      <td>0</td>\n",
       "      <td>Allergy_rel_cum_freq(perc)</td>\n",
       "      <td>1.104264</td>\n",
       "    </tr>\n",
       "    <tr>\n",
       "      <th>2</th>\n",
       "      <td>BD631</td>\n",
       "      <td>0</td>\n",
       "      <td>Allergy_rel_cum_freq(perc)</td>\n",
       "      <td>0.300374</td>\n",
       "    </tr>\n",
       "    <tr>\n",
       "      <th>3</th>\n",
       "      <td>BD441</td>\n",
       "      <td>0</td>\n",
       "      <td>Allergy_rel_cum_freq(perc)</td>\n",
       "      <td>2.164360</td>\n",
       "    </tr>\n",
       "    <tr>\n",
       "      <th>4</th>\n",
       "      <td>BD834</td>\n",
       "      <td>0</td>\n",
       "      <td>Allergy_rel_cum_freq(perc)</td>\n",
       "      <td>1.435746</td>\n",
       "    </tr>\n",
       "  </tbody>\n",
       "</table>\n",
       "</div>"
      ],
      "text/plain": [
       "   index  isCardio                     Feature     value\n",
       "0  BD801         0  Allergy_rel_cum_freq(perc)  2.504489\n",
       "1  BD221         0  Allergy_rel_cum_freq(perc)  1.104264\n",
       "2  BD631         0  Allergy_rel_cum_freq(perc)  0.300374\n",
       "3  BD441         0  Allergy_rel_cum_freq(perc)  2.164360\n",
       "4  BD834         0  Allergy_rel_cum_freq(perc)  1.435746"
      ]
     },
     "execution_count": 96,
     "metadata": {},
     "output_type": "execute_result"
    }
   ],
   "source": [
    "cols=[col for col in featureDF_balanced.columns if 'cum' in col or 'isCardio' in col]\n",
    "print cols\n",
    "df=featureDF_balanced[cols]\n",
    "order=df.mean().sort_values().drop('isCardio').index.tolist()\n",
    "featureDF_balanced_melt=pd.melt(df.reset_index(), id_vars=['index', 'isCardio'], var_name='Feature', value_name='value')\n",
    "featureDF_balanced_melt.head()"
   ]
  },
  {
   "cell_type": "code",
   "execution_count": 128,
   "metadata": {
    "ExecuteTime": {
     "end_time": "2019-03-31T07:58:31.142856Z",
     "start_time": "2019-03-31T07:58:27.869628Z"
    }
   },
   "outputs": [
    {
     "name": "stdout",
     "output_type": "stream",
     "text": [
      "[u'Allergy_rel_cum_freq(perc)', u'BreastCancer_rel_cum_freq(perc)', u'CMV_rel_cum_freq(perc)', u'CalcifiedAorticStenosisdisease_rel_cum_freq(perc)', u'Carcinoma_rel_cum_freq(perc)', u'Celiacdisease_rel_cum_freq(perc)', u'Colorectalcancer_rel_cum_freq(perc)', u'DENV_rel_cum_freq(perc)', u'DiabetesType1_rel_cum_freq(perc)', u'EBV_rel_cum_freq(perc)', u'GraftVsHostDisease_rel_cum_freq(perc)', u'HCV_rel_cum_freq(perc)', u'HIV_rel_cum_freq(perc)', u'HSV_rel_cum_freq(perc)', u'HomoSapiens_rel_cum_freq(perc)', u'Influenza_rel_cum_freq(perc)', u'LCMV_rel_cum_freq(perc)', u'Leukemia_rel_cum_freq(perc)', u'Lungcancer_rel_cum_freq(perc)', u'Lupus_rel_cum_freq(perc)', u'M.tuberculosis_rel_cum_freq(perc)', u'Melanoma_rel_cum_freq(perc)', u'Multiplesclerosis_rel_cum_freq(perc)', u'Plasmodiumberghei_rel_cum_freq(perc)', u'RSV_rel_cum_freq(perc)', u'RheumatoidArthritis_rel_cum_freq(perc)', u'SIV_rel_cum_freq(perc)', u'WestNilevirus_rel_cum_freq(perc)', u'YellowFeverVirus_rel_cum_freq(perc)', 'isCardio']\n"
     ]
    },
    {
     "data": {
      "image/png": "[encoded data removed]",
      "text/plain": [
       "<matplotlib.figure.Figure at 0x7f7c961c0910>"
      ]
     },
     "metadata": {},
     "output_type": "display_data"
    }
   ],
   "source": [
    "fig,ax=plt.subplots(figsize=(30,8))\n",
    "cols=[col for col in featureDF_balanced.columns if 'cum' in col or 'isCardio' in col]\n",
    "col_names=[col.replace('_rel_cum_freq(perc)','') for col in order]\n",
    "print cols\n",
    "df=featureDF_balanced[cols]\n",
    "\n",
    "sns.boxplot(x=\"Feature\", y=\"value\", hue=\"isCardio\",data=featureDF_balanced_melt,order=order,palette='Reds',whis=2)\n",
    "ax.set_xticklabels(col_names,rotation=90,fontsize='large',alpha=7)\n",
    "\n",
    "\n",
    "for i,artist in enumerate(ax.artists):\n",
    "    # Set the linecolor on the artist to the facecolor, and set the facecolor to None\n",
    "    col = artist.get_facecolor()\n",
    "    artist.set_edgecolor(col)\n",
    "    artist.set_facecolor('None')\n",
    "\n",
    "    # Each box has 6 associated Line2D objects (to make the whiskers, fliers, etc.)\n",
    "    # Loop over them here, and use the same colour as above\n",
    "    for j in range(i*6,i*6+6):\n",
    "        line = ax.lines[j]\n",
    "        line.set_color(col)\n",
    "        line.set_mfc(col)\n",
    "        line.set_mec(col)\n",
    "        \n",
    "ax.set_ylim(0,5)\n",
    "# ax.set_yscale('log')\n",
    "\n",
    "plt.show()\n",
    "\n",
    "\n",
    "# sns.boxplot(x=\"featureDF_balanced2\", y=\"total_bill\", hue=\"smoker\",\n",
    "#              data=tips, palette=\"Set3\")"
   ]
  },
  {
   "cell_type": "code",
   "execution_count": 117,
   "metadata": {
    "ExecuteTime": {
     "end_time": "2019-03-31T01:03:18.440382Z",
     "start_time": "2019-03-31T01:03:16.663704Z"
    }
   },
   "outputs": [
    {
     "name": "stdout",
     "output_type": "stream",
     "text": [
      "['AA count_0', 'AA count_1', 'NT count_0', 'NT count_1', 'berger_aa_0', 'berger_aa_1', 'berger_nt_0', 'cdr3Length_max_0', 'cdr3Length_max_1', 'cdr3Length_mean_0', 'cdr3Length_mean_1', 'cdr3Length_std_0', 'cdr3Length_std_1', 'count (templates)_max_0', 'count (templates)_max_1', 'count (templates)_mean_0', 'count (templates)_mean_1', 'count (templates)_std_0', 'count (templates)_std_1', 'd3Deletion_mean_0', 'd3Deletion_mean_1', 'd3Deletion_std_0', 'd3Deletion_std_1', 'd5Deletion_mean_0', 'd5Deletion_mean_1', 'd5Deletion_std_0', 'd5Deletion_std_1', 'frequencyCount (%)_max_0', 'frequencyCount (%)_max_1', 'frequencyCount (%)_mean_0', 'frequencyCount (%)_mean_1', 'frequencyCount (%)_std_0', 'frequencyCount (%)_std_1', 'gc_content_0', 'gc_content_1', 'jDeletion_max_0', 'jDeletion_max_1', 'jDeletion_mean_0', 'jDeletion_mean_1', 'jDeletion_std_0', 'jDeletion_std_1', 'max_nt_per_aa_0', 'max_nt_per_aa_1', 'mean_nt_per_aa_0', 'mean_nt_per_aa_1', 'n1Insertion_max_0', 'n1Insertion_max_1', 'n1Insertion_mean_0', 'n1Insertion_mean_1', 'n1Insertion_std_0', 'n1Insertion_std_1', 'n2Insertion_max_0', 'n2Insertion_max_1', 'n2Insertion_mean_0', 'n2Insertion_mean_1', 'n2Insertion_std_0', 'n2Insertion_std_1', 'normSeqNums_per2000_NT_0', 'normSeqNums_per2000_NT_1', 'normSeqNums_per200_AA_0', 'normSeqNums_per200_AA_1', 'shannon_aa_0', 'shannon_aa_1', 'shannon_nt_0', 'shannon_nt_1', 'simpson_aa_0', 'simpson_aa_1', 'simpson_nt_0', 'top1000clonal_aa_1', 'top1000clonal_nt_0', 'top1000clonal_nt_1', 'top10clonal_aa_0', 'top10clonal_aa_1', 'top10clonal_nt_0', 'vDeletion_max_0', 'vDeletion_max_1', 'vDeletion_mean_0', 'vDeletion_mean_1', 'vDeletion_std_0', 'vDeletion_std_1', u'Allergy_rel_cum_freq(perc)', u'Allergy_rel_seq_count', u'BreastCancer_rel_cum_freq(perc)', u'BreastCancer_rel_seq_count', u'CMV_rel_cum_freq(perc)', u'CMV_rel_seq_count', u'CalcifiedAorticStenosisdisease_rel_cum_freq(perc)', u'CalcifiedAorticStenosisdisease_rel_seq_count', u'Carcinoma_rel_cum_freq(perc)', u'Carcinoma_rel_seq_count', u'Celiacdisease_rel_cum_freq(perc)', u'Celiacdisease_rel_seq_count', u'Colorectalcancer_rel_cum_freq(perc)', u'Colorectalcancer_rel_seq_count', u'DENV_rel_cum_freq(perc)', u'DENV_rel_seq_count', u'DiabetesType1_rel_cum_freq(perc)', u'DiabetesType1_rel_seq_count', u'EBV_rel_cum_freq(perc)', u'EBV_rel_seq_count', u'GraftVsHostDisease_rel_cum_freq(perc)', u'HCV_rel_cum_freq(perc)', u'HCV_rel_seq_count', u'HIV_rel_cum_freq(perc)', u'HIV_rel_seq_count', u'HSV_rel_cum_freq(perc)', u'HTLV_rel_seq_count', u'HomoSapiens_rel_cum_freq(perc)', u'HomoSapiens_rel_seq_count', u'Influenza_rel_cum_freq(perc)', u'Influenza_rel_seq_count', u'LCMV_rel_cum_freq(perc)', u'LCMV_rel_seq_count', u'Leukemia_rel_cum_freq(perc)', u'Lungcancer_rel_cum_freq(perc)', u'Lupus_rel_cum_freq(perc)', u'M.tuberculosis_rel_cum_freq(perc)', u'M.tuberculosis_rel_seq_count', u'Melanoma_rel_cum_freq(perc)', u'Melanoma_rel_seq_count', u'Multiplesclerosis_rel_cum_freq(perc)', u'Multiplesclerosis_rel_seq_count', u'Plasmodiumberghei_rel_cum_freq(perc)', u'RSV_rel_cum_freq(perc)', u'RheumatoidArthritis_rel_cum_freq(perc)', u'RheumatoidArthritis_rel_seq_count', u'SIV_rel_cum_freq(perc)', u'SIV_rel_seq_count', u'WestNilevirus_rel_cum_freq(perc)', u'WestNilevirus_rel_seq_count', u'YellowFeverVirus_rel_cum_freq(perc)', u'YellowFeverVirus_rel_seq_count', u'totalAnnotateSeqs', u'totalAnnotatefreqs', 'PC1', 'PC2', 'PC3', 'PC4', 'PC5', 'PC6', 'PC7', 'PC8', 'PC9', 'PC10', 'V04_0', 'V05_0', 'V06_0', 'V07_0', 'V10_0', 'V11_0', 'V12_0', 'V21_0', 'V23_0', 'V25_0', 'V29_0', 'D01_0', 'D02_0', 'V01_J02_0', 'V02_J01_0', 'V02_J02_0', 'V04_J01_0', 'V04_J02_0', 'V05_J01_0', 'V05_J02_0', 'V06_J01_0', 'V06_J02_0', 'V07_J01_0', 'V07_J02_0', 'V09_J01_0', 'V09_J02_0', 'V10_J01_0', 'V10_J02_0', 'V11_J01_0', 'V11_J02_0', 'V12_J01_0', 'V12_J02_0', 'V13_J01_0', 'V13_J02_0', 'V14_J01_0', 'V14_J02_0', 'V15_J01_0', 'V15_J02_0', 'V18_J01_0', 'V18_J02_0', 'V19_J01_0', 'V19_J02_0', 'V21_J01_0', 'V21_J02_0', 'V23_J01_0', 'V23_J02_0', 'V25_J01_0', 'V25_J02_0', 'V27_J01_0', 'V27_J02_0', 'V28_J01_0', 'V28_J02_0', 'V29_J01_0', 'V29_J02_0', 'V30_J01_0', 'V30_J02_0', 'V04_1', 'V05_1', 'V06_1', 'V07_1', 'V10_1', 'V11_1', 'V12_1', 'V20_1', 'V25_1', 'D01_1', 'D02_1', 'V02_J01_1', 'V02_J02_1', 'V04_J01_1', 'V04_J02_1', 'V05_J01_1', 'V05_J02_1', 'V06_J01_1', 'V06_J02_1', 'V07_J01_1', 'V07_J02_1', 'V09_J01_1', 'V09_J02_1', 'V10_J01_1', 'V10_J02_1', 'V11_J01_1', 'V11_J02_1', 'V12_J02_1', 'V13_J02_1', 'V14_J01_1', 'V14_J02_1', 'V15_J01_1', 'V15_J02_1', 'V18_J01_1', 'V18_J02_1', 'V19_J01_1', 'V19_J02_1', 'V21_J02_1', 'V25_J02_1', 'V27_J01_1', 'V27_J02_1', 'V28_J01_1', 'V28_J02_1', 'V29_J01_1', 'V29_J02_1', 'V30_J01_1', 'V30_J02_1', 'Age', 'Gender_Male', 'norm_nAnnotated']\n",
      "0\n",
      "50\n",
      "100\n",
      "150\n",
      "200\n",
      "(250, 7)\n"
     ]
    },
    {
     "data": {
      "text/html": [
       "<div>\n",
       "<style scoped>\n",
       "    .dataframe tbody tr th:only-of-type {\n",
       "        vertical-align: middle;\n",
       "    }\n",
       "\n",
       "    .dataframe tbody tr th {\n",
       "        vertical-align: top;\n",
       "    }\n",
       "\n",
       "    .dataframe thead th {\n",
       "        text-align: right;\n",
       "    }\n",
       "</style>\n",
       "<table border=\"1\" class=\"dataframe\">\n",
       "  <thead>\n",
       "    <tr style=\"text-align: right;\">\n",
       "      <th></th>\n",
       "      <th>mean_healthy</th>\n",
       "      <th>mean_patients</th>\n",
       "      <th>s</th>\n",
       "      <th>p</th>\n",
       "      <th>p_Sig_Bonferroni</th>\n",
       "      <th>p_sigFDR=0.1</th>\n",
       "      <th>p_corrPval_DR0.1</th>\n",
       "    </tr>\n",
       "  </thead>\n",
       "  <tbody>\n",
       "    <tr>\n",
       "      <th>n2Insertion_mean_1</th>\n",
       "      <td>3.710617</td>\n",
       "      <td>3.805442</td>\n",
       "      <td>1673.0</td>\n",
       "      <td>0.000078</td>\n",
       "      <td>1</td>\n",
       "      <td>1</td>\n",
       "      <td>0.019381</td>\n",
       "    </tr>\n",
       "    <tr>\n",
       "      <th>NT count_0</th>\n",
       "      <td>2715.964912</td>\n",
       "      <td>2145.978495</td>\n",
       "      <td>1855.0</td>\n",
       "      <td>0.001041</td>\n",
       "      <td>0</td>\n",
       "      <td>1</td>\n",
       "      <td>0.095823</td>\n",
       "    </tr>\n",
       "    <tr>\n",
       "      <th>CMV_rel_seq_count</th>\n",
       "      <td>23.184179</td>\n",
       "      <td>24.964434</td>\n",
       "      <td>1919.5</td>\n",
       "      <td>0.002339</td>\n",
       "      <td>0</td>\n",
       "      <td>1</td>\n",
       "      <td>0.095823</td>\n",
       "    </tr>\n",
       "    <tr>\n",
       "      <th>max_nt_per_aa_0</th>\n",
       "      <td>2.789474</td>\n",
       "      <td>2.731183</td>\n",
       "      <td>2053.5</td>\n",
       "      <td>0.002426</td>\n",
       "      <td>0</td>\n",
       "      <td>1</td>\n",
       "      <td>0.095823</td>\n",
       "    </tr>\n",
       "    <tr>\n",
       "      <th>SIV_rel_cum_freq(perc)</th>\n",
       "      <td>0.347037</td>\n",
       "      <td>0.201890</td>\n",
       "      <td>2036.0</td>\n",
       "      <td>0.002691</td>\n",
       "      <td>0</td>\n",
       "      <td>1</td>\n",
       "      <td>0.095823</td>\n",
       "    </tr>\n",
       "    <tr>\n",
       "      <th>V12_J02_1</th>\n",
       "      <td>0.005556</td>\n",
       "      <td>0.004766</td>\n",
       "      <td>1952.0</td>\n",
       "      <td>0.003440</td>\n",
       "      <td>0</td>\n",
       "      <td>1</td>\n",
       "      <td>0.095823</td>\n",
       "    </tr>\n",
       "    <tr>\n",
       "      <th>V25_1</th>\n",
       "      <td>0.011691</td>\n",
       "      <td>0.010582</td>\n",
       "      <td>1963.0</td>\n",
       "      <td>0.003907</td>\n",
       "      <td>0</td>\n",
       "      <td>1</td>\n",
       "      <td>0.095823</td>\n",
       "    </tr>\n",
       "    <tr>\n",
       "      <th>V09_J02_0</th>\n",
       "      <td>0.032774</td>\n",
       "      <td>0.029306</td>\n",
       "      <td>1964.5</td>\n",
       "      <td>0.003975</td>\n",
       "      <td>0</td>\n",
       "      <td>1</td>\n",
       "      <td>0.095823</td>\n",
       "    </tr>\n",
       "    <tr>\n",
       "      <th>SIV_rel_seq_count</th>\n",
       "      <td>0.471255</td>\n",
       "      <td>0.269455</td>\n",
       "      <td>2065.0</td>\n",
       "      <td>0.004003</td>\n",
       "      <td>0</td>\n",
       "      <td>1</td>\n",
       "      <td>0.095823</td>\n",
       "    </tr>\n",
       "    <tr>\n",
       "      <th>AA count_1</th>\n",
       "      <td>10425.614035</td>\n",
       "      <td>8412.204301</td>\n",
       "      <td>1973.0</td>\n",
       "      <td>0.004380</td>\n",
       "      <td>0</td>\n",
       "      <td>1</td>\n",
       "      <td>0.095823</td>\n",
       "    </tr>\n",
       "    <tr>\n",
       "      <th>NT count_1</th>\n",
       "      <td>11022.105263</td>\n",
       "      <td>8876.075269</td>\n",
       "      <td>1975.0</td>\n",
       "      <td>0.004481</td>\n",
       "      <td>0</td>\n",
       "      <td>1</td>\n",
       "      <td>0.095823</td>\n",
       "    </tr>\n",
       "    <tr>\n",
       "      <th>PC1</th>\n",
       "      <td>0.031977</td>\n",
       "      <td>0.026164</td>\n",
       "      <td>1983.0</td>\n",
       "      <td>0.004904</td>\n",
       "      <td>0</td>\n",
       "      <td>1</td>\n",
       "      <td>0.095823</td>\n",
       "    </tr>\n",
       "    <tr>\n",
       "      <th>CalcifiedAorticStenosisdisease_rel_cum_freq(perc)</th>\n",
       "      <td>0.129480</td>\n",
       "      <td>0.054360</td>\n",
       "      <td>2263.0</td>\n",
       "      <td>0.005602</td>\n",
       "      <td>0</td>\n",
       "      <td>1</td>\n",
       "      <td>0.095823</td>\n",
       "    </tr>\n",
       "    <tr>\n",
       "      <th>CalcifiedAorticStenosisdisease_rel_seq_count</th>\n",
       "      <td>0.162062</td>\n",
       "      <td>0.074466</td>\n",
       "      <td>2263.5</td>\n",
       "      <td>0.005655</td>\n",
       "      <td>0</td>\n",
       "      <td>1</td>\n",
       "      <td>0.095823</td>\n",
       "    </tr>\n",
       "    <tr>\n",
       "      <th>Melanoma_rel_cum_freq(perc)</th>\n",
       "      <td>1.423969</td>\n",
       "      <td>0.887454</td>\n",
       "      <td>2004.0</td>\n",
       "      <td>0.005749</td>\n",
       "      <td>0</td>\n",
       "      <td>1</td>\n",
       "      <td>0.095823</td>\n",
       "    </tr>\n",
       "    <tr>\n",
       "      <th>AA count_0</th>\n",
       "      <td>218.333333</td>\n",
       "      <td>177.892473</td>\n",
       "      <td>2005.5</td>\n",
       "      <td>0.006289</td>\n",
       "      <td>0</td>\n",
       "      <td>1</td>\n",
       "      <td>0.098059</td>\n",
       "    </tr>\n",
       "    <tr>\n",
       "      <th>shannon_nt_1</th>\n",
       "      <td>12.259219</td>\n",
       "      <td>11.848675</td>\n",
       "      <td>2017.0</td>\n",
       "      <td>0.007125</td>\n",
       "      <td>0</td>\n",
       "      <td>1</td>\n",
       "      <td>0.098059</td>\n",
       "    </tr>\n",
       "    <tr>\n",
       "      <th>jDeletion_max_0</th>\n",
       "      <td>23.456140</td>\n",
       "      <td>22.709677</td>\n",
       "      <td>2033.0</td>\n",
       "      <td>0.007259</td>\n",
       "      <td>0</td>\n",
       "      <td>1</td>\n",
       "      <td>0.098059</td>\n",
       "    </tr>\n",
       "    <tr>\n",
       "      <th>shannon_aa_1</th>\n",
       "      <td>12.139409</td>\n",
       "      <td>11.736929</td>\n",
       "      <td>2023.0</td>\n",
       "      <td>0.007598</td>\n",
       "      <td>0</td>\n",
       "      <td>1</td>\n",
       "      <td>0.098059</td>\n",
       "    </tr>\n",
       "    <tr>\n",
       "      <th>n2Insertion_mean_0</th>\n",
       "      <td>5.230059</td>\n",
       "      <td>5.259865</td>\n",
       "      <td>2026.0</td>\n",
       "      <td>0.007845</td>\n",
       "      <td>0</td>\n",
       "      <td>1</td>\n",
       "      <td>0.098059</td>\n",
       "    </tr>\n",
       "    <tr>\n",
       "      <th>totalAnnotateSeqs</th>\n",
       "      <td>141.964912</td>\n",
       "      <td>117.591398</td>\n",
       "      <td>2033.0</td>\n",
       "      <td>0.008445</td>\n",
       "      <td>0</td>\n",
       "      <td>1</td>\n",
       "      <td>0.099079</td>\n",
       "    </tr>\n",
       "    <tr>\n",
       "      <th>top1000clonal_nt_1</th>\n",
       "      <td>0.340225</td>\n",
       "      <td>0.387458</td>\n",
       "      <td>2036.0</td>\n",
       "      <td>0.008719</td>\n",
       "      <td>0</td>\n",
       "      <td>1</td>\n",
       "      <td>0.099079</td>\n",
       "    </tr>\n",
       "    <tr>\n",
       "      <th>V25_J02_1</th>\n",
       "      <td>0.007625</td>\n",
       "      <td>0.006880</td>\n",
       "      <td>2051.0</td>\n",
       "      <td>0.010190</td>\n",
       "      <td>0</td>\n",
       "      <td>0</td>\n",
       "      <td>0.110765</td>\n",
       "    </tr>\n",
       "    <tr>\n",
       "      <th>V04_J02_0</th>\n",
       "      <td>0.041891</td>\n",
       "      <td>0.038838</td>\n",
       "      <td>2060.0</td>\n",
       "      <td>0.011173</td>\n",
       "      <td>0</td>\n",
       "      <td>0</td>\n",
       "      <td>0.116390</td>\n",
       "    </tr>\n",
       "    <tr>\n",
       "      <th>V12_1</th>\n",
       "      <td>0.007491</td>\n",
       "      <td>0.006590</td>\n",
       "      <td>2067.0</td>\n",
       "      <td>0.011994</td>\n",
       "      <td>0</td>\n",
       "      <td>0</td>\n",
       "      <td>0.119943</td>\n",
       "    </tr>\n",
       "    <tr>\n",
       "      <th>top1000clonal_aa_1</th>\n",
       "      <td>0.362838</td>\n",
       "      <td>0.406957</td>\n",
       "      <td>2073.0</td>\n",
       "      <td>0.012739</td>\n",
       "      <td>0</td>\n",
       "      <td>0</td>\n",
       "      <td>0.122489</td>\n",
       "    </tr>\n",
       "    <tr>\n",
       "      <th>V29_0</th>\n",
       "      <td>0.026207</td>\n",
       "      <td>0.024174</td>\n",
       "      <td>2083.0</td>\n",
       "      <td>0.014069</td>\n",
       "      <td>0</td>\n",
       "      <td>0</td>\n",
       "      <td>0.130267</td>\n",
       "    </tr>\n",
       "    <tr>\n",
       "      <th>V04_0</th>\n",
       "      <td>0.052408</td>\n",
       "      <td>0.048454</td>\n",
       "      <td>2099.0</td>\n",
       "      <td>0.016445</td>\n",
       "      <td>0</td>\n",
       "      <td>0</td>\n",
       "      <td>0.138730</td>\n",
       "    </tr>\n",
       "    <tr>\n",
       "      <th>V21_0</th>\n",
       "      <td>0.082251</td>\n",
       "      <td>0.077603</td>\n",
       "      <td>2099.0</td>\n",
       "      <td>0.016445</td>\n",
       "      <td>0</td>\n",
       "      <td>0</td>\n",
       "      <td>0.138730</td>\n",
       "    </tr>\n",
       "    <tr>\n",
       "      <th>vDeletion_max_1</th>\n",
       "      <td>27.736842</td>\n",
       "      <td>25.817204</td>\n",
       "      <td>2105.0</td>\n",
       "      <td>0.017256</td>\n",
       "      <td>0</td>\n",
       "      <td>0</td>\n",
       "      <td>0.138730</td>\n",
       "    </tr>\n",
       "  </tbody>\n",
       "</table>\n",
       "</div>"
      ],
      "text/plain": [
       "                                                   mean_healthy  mean_patients       s         p  p_Sig_Bonferroni  p_sigFDR=0.1  p_corrPval_DR0.1\n",
       "n2Insertion_mean_1                                     3.710617       3.805442  1673.0  0.000078                 1             1          0.019381\n",
       "NT count_0                                          2715.964912    2145.978495  1855.0  0.001041                 0             1          0.095823\n",
       "CMV_rel_seq_count                                     23.184179      24.964434  1919.5  0.002339                 0             1          0.095823\n",
       "max_nt_per_aa_0                                        2.789474       2.731183  2053.5  0.002426                 0             1          0.095823\n",
       "SIV_rel_cum_freq(perc)                                 0.347037       0.201890  2036.0  0.002691                 0             1          0.095823\n",
       "V12_J02_1                                              0.005556       0.004766  1952.0  0.003440                 0             1          0.095823\n",
       "V25_1                                                  0.011691       0.010582  1963.0  0.003907                 0             1          0.095823\n",
       "V09_J02_0                                              0.032774       0.029306  1964.5  0.003975                 0             1          0.095823\n",
       "SIV_rel_seq_count                                      0.471255       0.269455  2065.0  0.004003                 0             1          0.095823\n",
       "AA count_1                                         10425.614035    8412.204301  1973.0  0.004380                 0             1          0.095823\n",
       "NT count_1                                         11022.105263    8876.075269  1975.0  0.004481                 0             1          0.095823\n",
       "PC1                                                    0.031977       0.026164  1983.0  0.004904                 0             1          0.095823\n",
       "CalcifiedAorticStenosisdisease_rel_cum_freq(perc)      0.129480       0.054360  2263.0  0.005602                 0             1          0.095823\n",
       "CalcifiedAorticStenosisdisease_rel_seq_count           0.162062       0.074466  2263.5  0.005655                 0             1          0.095823\n",
       "Melanoma_rel_cum_freq(perc)                            1.423969       0.887454  2004.0  0.005749                 0             1          0.095823\n",
       "AA count_0                                           218.333333     177.892473  2005.5  0.006289                 0             1          0.098059\n",
       "shannon_nt_1                                          12.259219      11.848675  2017.0  0.007125                 0             1          0.098059\n",
       "jDeletion_max_0                                       23.456140      22.709677  2033.0  0.007259                 0             1          0.098059\n",
       "shannon_aa_1                                          12.139409      11.736929  2023.0  0.007598                 0             1          0.098059\n",
       "n2Insertion_mean_0                                     5.230059       5.259865  2026.0  0.007845                 0             1          0.098059\n",
       "totalAnnotateSeqs                                    141.964912     117.591398  2033.0  0.008445                 0             1          0.099079\n",
       "top1000clonal_nt_1                                     0.340225       0.387458  2036.0  0.008719                 0             1          0.099079\n",
       "V25_J02_1                                              0.007625       0.006880  2051.0  0.010190                 0             0          0.110765\n",
       "V04_J02_0                                              0.041891       0.038838  2060.0  0.011173                 0             0          0.116390\n",
       "V12_1                                                  0.007491       0.006590  2067.0  0.011994                 0             0          0.119943\n",
       "top1000clonal_aa_1                                     0.362838       0.406957  2073.0  0.012739                 0             0          0.122489\n",
       "V29_0                                                  0.026207       0.024174  2083.0  0.014069                 0             0          0.130267\n",
       "V04_0                                                  0.052408       0.048454  2099.0  0.016445                 0             0          0.138730\n",
       "V21_0                                                  0.082251       0.077603  2099.0  0.016445                 0             0          0.138730\n",
       "vDeletion_max_1                                       27.736842      25.817204  2105.0  0.017256                 0             0          0.138730"
      ]
     },
     "execution_count": 117,
     "metadata": {},
     "output_type": "execute_result"
    }
   ],
   "source": [
    "\n",
    "feature_comparison_balanced_new=pd.DataFrame()\n",
    "cols=featureDF_balanced2.columns.tolist()\n",
    "cols.remove('isCardio')\n",
    "print cols\n",
    "for n,col in enumerate(cols):\n",
    "    if n%50==0: print n\n",
    "    merged=featureDF_balanced2[[col,'isCardio']]\n",
    "    data={}\n",
    "    for name,group in merged.groupby('isCardio'):\n",
    "        data[name]=group[col].dropna().tolist()\n",
    "    mean_healthy=np.mean(data[0])\n",
    "    mean_patients=np.mean(data[1])\n",
    "    s,p=mannwhitneyu(data[0],data[1])\n",
    "    \n",
    "    feature_comparison_balanced_new.loc[col,'mean_healthy']=mean_healthy\n",
    "    feature_comparison_balanced_new.loc[col,'mean_patients']=mean_patients\n",
    "    feature_comparison_balanced_new.loc[col,'s']=s\n",
    "    feature_comparison_balanced_new.loc[col,'p']=p\n",
    "\n",
    "feature_comparison_balanced_new=add_corrected_pValues(feature_comparison_balanced_new,pValueColumn='p' ,\n",
    "                                                      nTests=len(feature_comparison_balanced_new),FDR=0.1)\n",
    "feature_comparison_balanced_new=feature_comparison_balanced_new.sort_values(by='p')\n",
    "print feature_comparison_balanced_new.shape\n",
    "feature_comparison_balanced_new.head(30)"
   ]
  },
  {
   "cell_type": "code",
   "execution_count": 118,
   "metadata": {
    "ExecuteTime": {
     "end_time": "2019-03-31T01:03:41.533009Z",
     "start_time": "2019-03-31T01:03:41.523591Z"
    }
   },
   "outputs": [
    {
     "data": {
      "text/plain": [
       "mean_healthy           0.013903\n",
       "mean_patients          0.014266\n",
       "s                   2415.000000\n",
       "p                      0.181439\n",
       "p_Sig_Bonferroni       0.000000\n",
       "p_sigFDR=0.1           0.000000\n",
       "p_corrPval_DR0.1       0.359998\n",
       "Name: norm_nAnnotated, dtype: float64"
      ]
     },
     "execution_count": 118,
     "metadata": {},
     "output_type": "execute_result"
    }
   ],
   "source": [
    "feature_comparison_balanced_new.loc['norm_nAnnotated',:]"
   ]
  },
  {
   "cell_type": "code",
   "execution_count": 56,
   "metadata": {
    "ExecuteTime": {
     "end_time": "2019-03-30T23:40:50.853138Z",
     "start_time": "2019-03-30T23:40:50.287814Z"
    }
   },
   "outputs": [
    {
     "name": "stderr",
     "output_type": "stream",
     "text": [
      "/usr/wisdom/python/lib/python2.7/site-packages/ipykernel_launcher.py:3: SettingWithCopyWarning: \n",
      "A value is trying to be set on a copy of a slice from a DataFrame.\n",
      "Try using .loc[row_indexer,col_indexer] = value instead\n",
      "\n",
      "See the caveats in the documentation: http://pandas.pydata.org/pandas-docs/stable/indexing.html#indexing-view-versus-copy\n",
      "  This is separate from the ipykernel package so we can avoid doing imports until\n",
      "/home/sbenari/workspace/Microbiome/ShaniBA/GeneralFeaturePhenotypeInteractions/Feature_phenotype_functions.py:1053: SettingWithCopyWarning: \n",
      "A value is trying to be set on a copy of a slice from a DataFrame.\n",
      "Try using .loc[row_indexer,col_indexer] = value instead\n",
      "\n",
      "See the caveats in the documentation: http://pandas.pydata.org/pandas-docs/stable/indexing.html#indexing-view-versus-copy\n",
      "  resultsDF['%s_Sig_Bonferroni' % pValueColumn] = np.where(resultsDF[pValueColumn] < bon_correct_p, 1, 0)\n",
      "/home/sbenari/workspace/Microbiome/ShaniBA/GeneralFeaturePhenotypeInteractions/Feature_phenotype_functions.py:1063: SettingWithCopyWarning: \n",
      "A value is trying to be set on a copy of a slice from a DataFrame.\n",
      "Try using .loc[row_indexer,col_indexer] = value instead\n",
      "\n",
      "See the caveats in the documentation: http://pandas.pydata.org/pandas-docs/stable/indexing.html#indexing-view-versus-copy\n",
      "  resultsDF['%s_sigFDR=%s' % (pValueColumn, FDR)] = sigList\n",
      "/home/sbenari/workspace/Microbiome/ShaniBA/GeneralFeaturePhenotypeInteractions/Feature_phenotype_functions.py:1064: SettingWithCopyWarning: \n",
      "A value is trying to be set on a copy of a slice from a DataFrame.\n",
      "Try using .loc[row_indexer,col_indexer] = value instead\n",
      "\n",
      "See the caveats in the documentation: http://pandas.pydata.org/pandas-docs/stable/indexing.html#indexing-view-versus-copy\n",
      "  resultsDF['%s_corrPval_DR%s' % (pValueColumn, FDR)] = p\n"
     ]
    },
    {
     "data": {
      "text/html": [
       "<div>\n",
       "<style scoped>\n",
       "    .dataframe tbody tr th:only-of-type {\n",
       "        vertical-align: middle;\n",
       "    }\n",
       "\n",
       "    .dataframe tbody tr th {\n",
       "        vertical-align: top;\n",
       "    }\n",
       "\n",
       "    .dataframe thead th {\n",
       "        text-align: right;\n",
       "    }\n",
       "</style>\n",
       "<table border=\"1\" class=\"dataframe\">\n",
       "  <thead>\n",
       "    <tr style=\"text-align: right;\">\n",
       "      <th></th>\n",
       "      <th>mean_healthy</th>\n",
       "      <th>mean_patients</th>\n",
       "      <th>s</th>\n",
       "      <th>p</th>\n",
       "      <th>p_Sig_Bonferroni</th>\n",
       "      <th>p_sigFDR=0.1</th>\n",
       "      <th>p_corrPval_DR0.1</th>\n",
       "      <th>same p</th>\n",
       "      <th>same p_Sig_Bonferroni</th>\n",
       "      <th>same p_sigFDR=0.1</th>\n",
       "      <th>same p_corrPval_DR0.1</th>\n",
       "    </tr>\n",
       "  </thead>\n",
       "  <tbody>\n",
       "    <tr>\n",
       "      <th>CMV_rel_seq_count</th>\n",
       "      <td>23.184179</td>\n",
       "      <td>24.964434</td>\n",
       "      <td>1919.5</td>\n",
       "      <td>0.002339</td>\n",
       "      <td>0</td>\n",
       "      <td>1</td>\n",
       "      <td>0.095440</td>\n",
       "      <td>0.002339</td>\n",
       "      <td>0</td>\n",
       "      <td>1</td>\n",
       "      <td>0.043352</td>\n",
       "    </tr>\n",
       "    <tr>\n",
       "      <th>SIV_rel_seq_count</th>\n",
       "      <td>0.471255</td>\n",
       "      <td>0.269455</td>\n",
       "      <td>2065.0</td>\n",
       "      <td>0.004003</td>\n",
       "      <td>0</td>\n",
       "      <td>1</td>\n",
       "      <td>0.095440</td>\n",
       "      <td>0.004003</td>\n",
       "      <td>0</td>\n",
       "      <td>1</td>\n",
       "      <td>0.043352</td>\n",
       "    </tr>\n",
       "    <tr>\n",
       "      <th>CalcifiedAorticStenosisdisease_rel_seq_count</th>\n",
       "      <td>0.162062</td>\n",
       "      <td>0.074466</td>\n",
       "      <td>2263.5</td>\n",
       "      <td>0.005655</td>\n",
       "      <td>0</td>\n",
       "      <td>1</td>\n",
       "      <td>0.095440</td>\n",
       "      <td>0.005655</td>\n",
       "      <td>0</td>\n",
       "      <td>1</td>\n",
       "      <td>0.043352</td>\n",
       "    </tr>\n",
       "    <tr>\n",
       "      <th>HTLV_rel_seq_count</th>\n",
       "      <td>0.307629</td>\n",
       "      <td>0.216688</td>\n",
       "      <td>2304.5</td>\n",
       "      <td>0.041409</td>\n",
       "      <td>0</td>\n",
       "      <td>0</td>\n",
       "      <td>0.201575</td>\n",
       "      <td>0.041409</td>\n",
       "      <td>0</td>\n",
       "      <td>0</td>\n",
       "      <td>0.238100</td>\n",
       "    </tr>\n",
       "    <tr>\n",
       "      <th>Melanoma_rel_seq_count</th>\n",
       "      <td>1.238109</td>\n",
       "      <td>1.046362</td>\n",
       "      <td>2278.0</td>\n",
       "      <td>0.072794</td>\n",
       "      <td>0</td>\n",
       "      <td>0</td>\n",
       "      <td>0.266555</td>\n",
       "      <td>0.072794</td>\n",
       "      <td>0</td>\n",
       "      <td>0</td>\n",
       "      <td>0.255641</td>\n",
       "    </tr>\n",
       "    <tr>\n",
       "      <th>LCMV_rel_seq_count</th>\n",
       "      <td>0.422440</td>\n",
       "      <td>0.335241</td>\n",
       "      <td>2317.5</td>\n",
       "      <td>0.076489</td>\n",
       "      <td>0</td>\n",
       "      <td>0</td>\n",
       "      <td>0.268433</td>\n",
       "      <td>0.076489</td>\n",
       "      <td>0</td>\n",
       "      <td>0</td>\n",
       "      <td>0.255641</td>\n",
       "    </tr>\n",
       "    <tr>\n",
       "      <th>Celiacdisease_rel_seq_count</th>\n",
       "      <td>4.208671</td>\n",
       "      <td>4.613582</td>\n",
       "      <td>2295.5</td>\n",
       "      <td>0.084934</td>\n",
       "      <td>0</td>\n",
       "      <td>0</td>\n",
       "      <td>0.277308</td>\n",
       "      <td>0.084934</td>\n",
       "      <td>0</td>\n",
       "      <td>0</td>\n",
       "      <td>0.255641</td>\n",
       "    </tr>\n",
       "    <tr>\n",
       "      <th>HomoSapiens_rel_seq_count</th>\n",
       "      <td>8.033418</td>\n",
       "      <td>7.586516</td>\n",
       "      <td>2302.0</td>\n",
       "      <td>0.088919</td>\n",
       "      <td>0</td>\n",
       "      <td>0</td>\n",
       "      <td>0.277308</td>\n",
       "      <td>0.088919</td>\n",
       "      <td>0</td>\n",
       "      <td>0</td>\n",
       "      <td>0.255641</td>\n",
       "    </tr>\n",
       "    <tr>\n",
       "      <th>Multiplesclerosis_rel_seq_count</th>\n",
       "      <td>0.488170</td>\n",
       "      <td>0.536364</td>\n",
       "      <td>2370.0</td>\n",
       "      <td>0.117958</td>\n",
       "      <td>0</td>\n",
       "      <td>0</td>\n",
       "      <td>0.312462</td>\n",
       "      <td>0.117958</td>\n",
       "      <td>0</td>\n",
       "      <td>0</td>\n",
       "      <td>0.301447</td>\n",
       "    </tr>\n",
       "    <tr>\n",
       "      <th>RheumatoidArthritis_rel_seq_count</th>\n",
       "      <td>0.722806</td>\n",
       "      <td>0.586406</td>\n",
       "      <td>2372.5</td>\n",
       "      <td>0.132079</td>\n",
       "      <td>0</td>\n",
       "      <td>0</td>\n",
       "      <td>0.314935</td>\n",
       "      <td>0.132079</td>\n",
       "      <td>0</td>\n",
       "      <td>0</td>\n",
       "      <td>0.303783</td>\n",
       "    </tr>\n",
       "    <tr>\n",
       "      <th>WestNilevirus_rel_seq_count</th>\n",
       "      <td>0.130559</td>\n",
       "      <td>0.209504</td>\n",
       "      <td>2483.0</td>\n",
       "      <td>0.180411</td>\n",
       "      <td>0</td>\n",
       "      <td>0</td>\n",
       "      <td>0.359380</td>\n",
       "      <td>0.180411</td>\n",
       "      <td>0</td>\n",
       "      <td>0</td>\n",
       "      <td>0.373587</td>\n",
       "    </tr>\n",
       "    <tr>\n",
       "      <th>HIV_rel_seq_count</th>\n",
       "      <td>7.037145</td>\n",
       "      <td>6.713122</td>\n",
       "      <td>2438.5</td>\n",
       "      <td>0.206413</td>\n",
       "      <td>0</td>\n",
       "      <td>0</td>\n",
       "      <td>0.377918</td>\n",
       "      <td>0.206413</td>\n",
       "      <td>0</td>\n",
       "      <td>0</td>\n",
       "      <td>0.373587</td>\n",
       "    </tr>\n",
       "    <tr>\n",
       "      <th>DiabetesType1_rel_seq_count</th>\n",
       "      <td>5.271021</td>\n",
       "      <td>5.464728</td>\n",
       "      <td>2446.0</td>\n",
       "      <td>0.214788</td>\n",
       "      <td>0</td>\n",
       "      <td>0</td>\n",
       "      <td>0.382103</td>\n",
       "      <td>0.214788</td>\n",
       "      <td>0</td>\n",
       "      <td>0</td>\n",
       "      <td>0.373587</td>\n",
       "    </tr>\n",
       "    <tr>\n",
       "      <th>DENV_rel_seq_count</th>\n",
       "      <td>2.321601</td>\n",
       "      <td>2.657753</td>\n",
       "      <td>2457.0</td>\n",
       "      <td>0.227401</td>\n",
       "      <td>0</td>\n",
       "      <td>0</td>\n",
       "      <td>0.382587</td>\n",
       "      <td>0.227401</td>\n",
       "      <td>0</td>\n",
       "      <td>0</td>\n",
       "      <td>0.373587</td>\n",
       "    </tr>\n",
       "    <tr>\n",
       "      <th>Influenza_rel_seq_count</th>\n",
       "      <td>28.535096</td>\n",
       "      <td>27.984130</td>\n",
       "      <td>2485.0</td>\n",
       "      <td>0.261452</td>\n",
       "      <td>0</td>\n",
       "      <td>0</td>\n",
       "      <td>0.402836</td>\n",
       "      <td>0.261452</td>\n",
       "      <td>0</td>\n",
       "      <td>0</td>\n",
       "      <td>0.400894</td>\n",
       "    </tr>\n",
       "    <tr>\n",
       "      <th>YellowFeverVirus_rel_seq_count</th>\n",
       "      <td>2.569099</td>\n",
       "      <td>2.379134</td>\n",
       "      <td>2506.5</td>\n",
       "      <td>0.289095</td>\n",
       "      <td>0</td>\n",
       "      <td>0</td>\n",
       "      <td>0.420962</td>\n",
       "      <td>0.289095</td>\n",
       "      <td>0</td>\n",
       "      <td>0</td>\n",
       "      <td>0.415574</td>\n",
       "    </tr>\n",
       "    <tr>\n",
       "      <th>M.tuberculosis_rel_seq_count</th>\n",
       "      <td>0.375291</td>\n",
       "      <td>0.356191</td>\n",
       "      <td>2537.5</td>\n",
       "      <td>0.313653</td>\n",
       "      <td>0</td>\n",
       "      <td>0</td>\n",
       "      <td>0.436311</td>\n",
       "      <td>0.313653</td>\n",
       "      <td>0</td>\n",
       "      <td>0</td>\n",
       "      <td>0.418293</td>\n",
       "    </tr>\n",
       "    <tr>\n",
       "      <th>EBV_rel_seq_count</th>\n",
       "      <td>6.865878</td>\n",
       "      <td>6.418637</td>\n",
       "      <td>2534.5</td>\n",
       "      <td>0.327360</td>\n",
       "      <td>0</td>\n",
       "      <td>0</td>\n",
       "      <td>0.443955</td>\n",
       "      <td>0.327360</td>\n",
       "      <td>0</td>\n",
       "      <td>0</td>\n",
       "      <td>0.418293</td>\n",
       "    </tr>\n",
       "    <tr>\n",
       "      <th>HCV_rel_seq_count</th>\n",
       "      <td>1.530985</td>\n",
       "      <td>1.567313</td>\n",
       "      <td>2554.5</td>\n",
       "      <td>0.355373</td>\n",
       "      <td>0</td>\n",
       "      <td>0</td>\n",
       "      <td>0.464757</td>\n",
       "      <td>0.355373</td>\n",
       "      <td>0</td>\n",
       "      <td>0</td>\n",
       "      <td>0.427498</td>\n",
       "    </tr>\n",
       "    <tr>\n",
       "      <th>BreastCancer_rel_seq_count</th>\n",
       "      <td>0.261387</td>\n",
       "      <td>0.340427</td>\n",
       "      <td>2577.0</td>\n",
       "      <td>0.371737</td>\n",
       "      <td>0</td>\n",
       "      <td>0</td>\n",
       "      <td>0.464839</td>\n",
       "      <td>0.371737</td>\n",
       "      <td>0</td>\n",
       "      <td>0</td>\n",
       "      <td>0.427498</td>\n",
       "    </tr>\n",
       "    <tr>\n",
       "      <th>Colorectalcancer_rel_seq_count</th>\n",
       "      <td>2.106043</td>\n",
       "      <td>2.051398</td>\n",
       "      <td>2593.0</td>\n",
       "      <td>0.412626</td>\n",
       "      <td>0</td>\n",
       "      <td>0</td>\n",
       "      <td>0.473857</td>\n",
       "      <td>0.412626</td>\n",
       "      <td>0</td>\n",
       "      <td>0</td>\n",
       "      <td>0.450870</td>\n",
       "    </tr>\n",
       "    <tr>\n",
       "      <th>Allergy_rel_seq_count</th>\n",
       "      <td>1.931409</td>\n",
       "      <td>1.830319</td>\n",
       "      <td>2612.5</td>\n",
       "      <td>0.442242</td>\n",
       "      <td>0</td>\n",
       "      <td>0</td>\n",
       "      <td>0.475100</td>\n",
       "      <td>0.442242</td>\n",
       "      <td>0</td>\n",
       "      <td>0</td>\n",
       "      <td>0.450870</td>\n",
       "    </tr>\n",
       "    <tr>\n",
       "      <th>Carcinoma_rel_seq_count</th>\n",
       "      <td>0.851904</td>\n",
       "      <td>0.804207</td>\n",
       "      <td>2619.0</td>\n",
       "      <td>0.450870</td>\n",
       "      <td>0</td>\n",
       "      <td>0</td>\n",
       "      <td>0.479772</td>\n",
       "      <td>0.450870</td>\n",
       "      <td>0</td>\n",
       "      <td>0</td>\n",
       "      <td>0.450870</td>\n",
       "    </tr>\n",
       "  </tbody>\n",
       "</table>\n",
       "</div>"
      ],
      "text/plain": [
       "                                              mean_healthy  mean_patients       s         p  p_Sig_Bonferroni  p_sigFDR=0.1  p_corrPval_DR0.1    same p  same p_Sig_Bonferroni  same p_sigFDR=0.1  same p_corrPval_DR0.1\n",
       "CMV_rel_seq_count                                23.184179      24.964434  1919.5  0.002339                 0             1          0.095440  0.002339                      0                  1               0.043352\n",
       "SIV_rel_seq_count                                 0.471255       0.269455  2065.0  0.004003                 0             1          0.095440  0.004003                      0                  1               0.043352\n",
       "CalcifiedAorticStenosisdisease_rel_seq_count      0.162062       0.074466  2263.5  0.005655                 0             1          0.095440  0.005655                      0                  1               0.043352\n",
       "HTLV_rel_seq_count                                0.307629       0.216688  2304.5  0.041409                 0             0          0.201575  0.041409                      0                  0               0.238100\n",
       "Melanoma_rel_seq_count                            1.238109       1.046362  2278.0  0.072794                 0             0          0.266555  0.072794                      0                  0               0.255641\n",
       "LCMV_rel_seq_count                                0.422440       0.335241  2317.5  0.076489                 0             0          0.268433  0.076489                      0                  0               0.255641\n",
       "Celiacdisease_rel_seq_count                       4.208671       4.613582  2295.5  0.084934                 0             0          0.277308  0.084934                      0                  0               0.255641\n",
       "HomoSapiens_rel_seq_count                         8.033418       7.586516  2302.0  0.088919                 0             0          0.277308  0.088919                      0                  0               0.255641\n",
       "Multiplesclerosis_rel_seq_count                   0.488170       0.536364  2370.0  0.117958                 0             0          0.312462  0.117958                      0                  0               0.301447\n",
       "RheumatoidArthritis_rel_seq_count                 0.722806       0.586406  2372.5  0.132079                 0             0          0.314935  0.132079                      0                  0               0.303783\n",
       "WestNilevirus_rel_seq_count                       0.130559       0.209504  2483.0  0.180411                 0             0          0.359380  0.180411                      0                  0               0.373587\n",
       "HIV_rel_seq_count                                 7.037145       6.713122  2438.5  0.206413                 0             0          0.377918  0.206413                      0                  0               0.373587\n",
       "DiabetesType1_rel_seq_count                       5.271021       5.464728  2446.0  0.214788                 0             0          0.382103  0.214788                      0                  0               0.373587\n",
       "DENV_rel_seq_count                                2.321601       2.657753  2457.0  0.227401                 0             0          0.382587  0.227401                      0                  0               0.373587\n",
       "Influenza_rel_seq_count                          28.535096      27.984130  2485.0  0.261452                 0             0          0.402836  0.261452                      0                  0               0.400894\n",
       "YellowFeverVirus_rel_seq_count                    2.569099       2.379134  2506.5  0.289095                 0             0          0.420962  0.289095                      0                  0               0.415574\n",
       "M.tuberculosis_rel_seq_count                      0.375291       0.356191  2537.5  0.313653                 0             0          0.436311  0.313653                      0                  0               0.418293\n",
       "EBV_rel_seq_count                                 6.865878       6.418637  2534.5  0.327360                 0             0          0.443955  0.327360                      0                  0               0.418293\n",
       "HCV_rel_seq_count                                 1.530985       1.567313  2554.5  0.355373                 0             0          0.464757  0.355373                      0                  0               0.427498\n",
       "BreastCancer_rel_seq_count                        0.261387       0.340427  2577.0  0.371737                 0             0          0.464839  0.371737                      0                  0               0.427498\n",
       "Colorectalcancer_rel_seq_count                    2.106043       2.051398  2593.0  0.412626                 0             0          0.473857  0.412626                      0                  0               0.450870\n",
       "Allergy_rel_seq_count                             1.931409       1.830319  2612.5  0.442242                 0             0          0.475100  0.442242                      0                  0               0.450870\n",
       "Carcinoma_rel_seq_count                           0.851904       0.804207  2619.0  0.450870                 0             0          0.479772  0.450870                      0                  0               0.450870"
      ]
     },
     "execution_count": 56,
     "metadata": {},
     "output_type": "execute_result"
    }
   ],
   "source": [
    "feature_comparison_balanced_new_seq_count=feature_comparison_balanced_new[feature_comparison_balanced_new.index.str.contains('seq_count')]\n",
    "# print feature_comparison_balanced_new_seq_count.sum()\n",
    "feature_comparison_balanced_new_seq_count['same p']=feature_comparison_balanced_new_seq_count['p']\n",
    "feature_comparison_balanced_new_seq_count=add_corrected_pValues(feature_comparison_balanced_new_seq_count,pValueColumn='same p' ,\n",
    "                                                      nTests=len(feature_comparison_balanced_new_seq_count),FDR=0.1)\n",
    "feature_comparison_balanced_new_seq_count\n"
   ]
  },
  {
   "cell_type": "code",
   "execution_count": 57,
   "metadata": {
    "ExecuteTime": {
     "end_time": "2019-03-30T23:42:14.978607Z",
     "start_time": "2019-03-30T23:42:14.528930Z"
    }
   },
   "outputs": [
    {
     "name": "stderr",
     "output_type": "stream",
     "text": [
      "/usr/wisdom/python/lib/python2.7/site-packages/ipykernel_launcher.py:3: SettingWithCopyWarning: \n",
      "A value is trying to be set on a copy of a slice from a DataFrame.\n",
      "Try using .loc[row_indexer,col_indexer] = value instead\n",
      "\n",
      "See the caveats in the documentation: http://pandas.pydata.org/pandas-docs/stable/indexing.html#indexing-view-versus-copy\n",
      "  This is separate from the ipykernel package so we can avoid doing imports until\n"
     ]
    },
    {
     "data": {
      "text/html": [
       "<div>\n",
       "<style scoped>\n",
       "    .dataframe tbody tr th:only-of-type {\n",
       "        vertical-align: middle;\n",
       "    }\n",
       "\n",
       "    .dataframe tbody tr th {\n",
       "        vertical-align: top;\n",
       "    }\n",
       "\n",
       "    .dataframe thead th {\n",
       "        text-align: right;\n",
       "    }\n",
       "</style>\n",
       "<table border=\"1\" class=\"dataframe\">\n",
       "  <thead>\n",
       "    <tr style=\"text-align: right;\">\n",
       "      <th></th>\n",
       "      <th>mean_healthy</th>\n",
       "      <th>mean_patients</th>\n",
       "      <th>s</th>\n",
       "      <th>p</th>\n",
       "      <th>p_Sig_Bonferroni</th>\n",
       "      <th>p_sigFDR=0.1</th>\n",
       "      <th>p_corrPval_DR0.1</th>\n",
       "      <th>same p</th>\n",
       "      <th>same p_Sig_Bonferroni</th>\n",
       "      <th>same p_sigFDR=0.1</th>\n",
       "      <th>same p_corrPval_DR0.1</th>\n",
       "    </tr>\n",
       "  </thead>\n",
       "  <tbody>\n",
       "    <tr>\n",
       "      <th>SIV_rel_cum_freq(perc)</th>\n",
       "      <td>0.347037</td>\n",
       "      <td>0.201890</td>\n",
       "      <td>2036.0</td>\n",
       "      <td>0.002691</td>\n",
       "      <td>0</td>\n",
       "      <td>1</td>\n",
       "      <td>0.095440</td>\n",
       "      <td>0.002691</td>\n",
       "      <td>0</td>\n",
       "      <td>1</td>\n",
       "      <td>0.055577</td>\n",
       "    </tr>\n",
       "    <tr>\n",
       "      <th>CalcifiedAorticStenosisdisease_rel_cum_freq(perc)</th>\n",
       "      <td>0.129480</td>\n",
       "      <td>0.054360</td>\n",
       "      <td>2263.0</td>\n",
       "      <td>0.005602</td>\n",
       "      <td>0</td>\n",
       "      <td>1</td>\n",
       "      <td>0.095440</td>\n",
       "      <td>0.005602</td>\n",
       "      <td>0</td>\n",
       "      <td>1</td>\n",
       "      <td>0.055577</td>\n",
       "    </tr>\n",
       "    <tr>\n",
       "      <th>Melanoma_rel_cum_freq(perc)</th>\n",
       "      <td>1.423969</td>\n",
       "      <td>0.887454</td>\n",
       "      <td>2004.0</td>\n",
       "      <td>0.005749</td>\n",
       "      <td>0</td>\n",
       "      <td>1</td>\n",
       "      <td>0.095440</td>\n",
       "      <td>0.005749</td>\n",
       "      <td>0</td>\n",
       "      <td>1</td>\n",
       "      <td>0.055577</td>\n",
       "    </tr>\n",
       "    <tr>\n",
       "      <th>CMV_rel_cum_freq(perc)</th>\n",
       "      <td>22.751219</td>\n",
       "      <td>26.684056</td>\n",
       "      <td>2107.0</td>\n",
       "      <td>0.017757</td>\n",
       "      <td>0</td>\n",
       "      <td>0</td>\n",
       "      <td>0.138175</td>\n",
       "      <td>0.017757</td>\n",
       "      <td>0</td>\n",
       "      <td>0</td>\n",
       "      <td>0.128742</td>\n",
       "    </tr>\n",
       "    <tr>\n",
       "      <th>LCMV_rel_cum_freq(perc)</th>\n",
       "      <td>0.541508</td>\n",
       "      <td>0.359325</td>\n",
       "      <td>2279.5</td>\n",
       "      <td>0.055647</td>\n",
       "      <td>0</td>\n",
       "      <td>0</td>\n",
       "      <td>0.230937</td>\n",
       "      <td>0.055647</td>\n",
       "      <td>0</td>\n",
       "      <td>0</td>\n",
       "      <td>0.279864</td>\n",
       "    </tr>\n",
       "    <tr>\n",
       "      <th>Colorectalcancer_rel_cum_freq(perc)</th>\n",
       "      <td>2.108495</td>\n",
       "      <td>1.947650</td>\n",
       "      <td>2244.0</td>\n",
       "      <td>0.057903</td>\n",
       "      <td>0</td>\n",
       "      <td>0</td>\n",
       "      <td>0.232546</td>\n",
       "      <td>0.057903</td>\n",
       "      <td>0</td>\n",
       "      <td>0</td>\n",
       "      <td>0.279864</td>\n",
       "    </tr>\n",
       "    <tr>\n",
       "      <th>RSV_rel_cum_freq(perc)</th>\n",
       "      <td>0.152052</td>\n",
       "      <td>0.099813</td>\n",
       "      <td>2452.5</td>\n",
       "      <td>0.115420</td>\n",
       "      <td>0</td>\n",
       "      <td>0</td>\n",
       "      <td>0.312462</td>\n",
       "      <td>0.115420</td>\n",
       "      <td>0</td>\n",
       "      <td>0</td>\n",
       "      <td>0.406972</td>\n",
       "    </tr>\n",
       "    <tr>\n",
       "      <th>RheumatoidArthritis_rel_cum_freq(perc)</th>\n",
       "      <td>0.890150</td>\n",
       "      <td>0.506666</td>\n",
       "      <td>2374.0</td>\n",
       "      <td>0.133378</td>\n",
       "      <td>0</td>\n",
       "      <td>0</td>\n",
       "      <td>0.314935</td>\n",
       "      <td>0.133378</td>\n",
       "      <td>0</td>\n",
       "      <td>0</td>\n",
       "      <td>0.406972</td>\n",
       "    </tr>\n",
       "    <tr>\n",
       "      <th>HSV_rel_cum_freq(perc)</th>\n",
       "      <td>0.007646</td>\n",
       "      <td>0.005733</td>\n",
       "      <td>2587.0</td>\n",
       "      <td>0.157241</td>\n",
       "      <td>0</td>\n",
       "      <td>0</td>\n",
       "      <td>0.337120</td>\n",
       "      <td>0.157241</td>\n",
       "      <td>0</td>\n",
       "      <td>0</td>\n",
       "      <td>0.406972</td>\n",
       "    </tr>\n",
       "    <tr>\n",
       "      <th>EBV_rel_cum_freq(perc)</th>\n",
       "      <td>8.315678</td>\n",
       "      <td>7.343662</td>\n",
       "      <td>2397.0</td>\n",
       "      <td>0.163644</td>\n",
       "      <td>0</td>\n",
       "      <td>0</td>\n",
       "      <td>0.337120</td>\n",
       "      <td>0.163644</td>\n",
       "      <td>0</td>\n",
       "      <td>0</td>\n",
       "      <td>0.406972</td>\n",
       "    </tr>\n",
       "    <tr>\n",
       "      <th>YellowFeverVirus_rel_cum_freq(perc)</th>\n",
       "      <td>2.149655</td>\n",
       "      <td>1.905027</td>\n",
       "      <td>2402.0</td>\n",
       "      <td>0.168295</td>\n",
       "      <td>0</td>\n",
       "      <td>0</td>\n",
       "      <td>0.337946</td>\n",
       "      <td>0.168295</td>\n",
       "      <td>0</td>\n",
       "      <td>0</td>\n",
       "      <td>0.406972</td>\n",
       "    </tr>\n",
       "    <tr>\n",
       "      <th>HomoSapiens_rel_cum_freq(perc)</th>\n",
       "      <td>8.462741</td>\n",
       "      <td>7.767143</td>\n",
       "      <td>2427.0</td>\n",
       "      <td>0.193950</td>\n",
       "      <td>0</td>\n",
       "      <td>0</td>\n",
       "      <td>0.374751</td>\n",
       "      <td>0.193950</td>\n",
       "      <td>0</td>\n",
       "      <td>0</td>\n",
       "      <td>0.406972</td>\n",
       "    </tr>\n",
       "    <tr>\n",
       "      <th>WestNilevirus_rel_cum_freq(perc)</th>\n",
       "      <td>0.109067</td>\n",
       "      <td>0.169873</td>\n",
       "      <td>2499.0</td>\n",
       "      <td>0.204333</td>\n",
       "      <td>0</td>\n",
       "      <td>0</td>\n",
       "      <td>0.376880</td>\n",
       "      <td>0.204333</td>\n",
       "      <td>0</td>\n",
       "      <td>0</td>\n",
       "      <td>0.406972</td>\n",
       "    </tr>\n",
       "    <tr>\n",
       "      <th>DENV_rel_cum_freq(perc)</th>\n",
       "      <td>2.094601</td>\n",
       "      <td>2.699401</td>\n",
       "      <td>2448.0</td>\n",
       "      <td>0.217026</td>\n",
       "      <td>0</td>\n",
       "      <td>0</td>\n",
       "      <td>0.382103</td>\n",
       "      <td>0.217026</td>\n",
       "      <td>0</td>\n",
       "      <td>0</td>\n",
       "      <td>0.406972</td>\n",
       "    </tr>\n",
       "    <tr>\n",
       "      <th>Multiplesclerosis_rel_cum_freq(perc)</th>\n",
       "      <td>0.452659</td>\n",
       "      <td>0.449494</td>\n",
       "      <td>2468.0</td>\n",
       "      <td>0.220528</td>\n",
       "      <td>0</td>\n",
       "      <td>0</td>\n",
       "      <td>0.382587</td>\n",
       "      <td>0.220528</td>\n",
       "      <td>0</td>\n",
       "      <td>0</td>\n",
       "      <td>0.406972</td>\n",
       "    </tr>\n",
       "    <tr>\n",
       "      <th>HIV_rel_cum_freq(perc)</th>\n",
       "      <td>7.366913</td>\n",
       "      <td>6.600285</td>\n",
       "      <td>2454.5</td>\n",
       "      <td>0.224536</td>\n",
       "      <td>0</td>\n",
       "      <td>0</td>\n",
       "      <td>0.382587</td>\n",
       "      <td>0.224536</td>\n",
       "      <td>0</td>\n",
       "      <td>0</td>\n",
       "      <td>0.406972</td>\n",
       "    </tr>\n",
       "    <tr>\n",
       "      <th>Plasmodiumberghei_rel_cum_freq(perc)</th>\n",
       "      <td>0.086100</td>\n",
       "      <td>0.164059</td>\n",
       "      <td>2547.0</td>\n",
       "      <td>0.245048</td>\n",
       "      <td>0</td>\n",
       "      <td>0</td>\n",
       "      <td>0.394142</td>\n",
       "      <td>0.245048</td>\n",
       "      <td>0</td>\n",
       "      <td>0</td>\n",
       "      <td>0.418023</td>\n",
       "    </tr>\n",
       "    <tr>\n",
       "      <th>DiabetesType1_rel_cum_freq(perc)</th>\n",
       "      <td>4.951847</td>\n",
       "      <td>5.385335</td>\n",
       "      <td>2485.5</td>\n",
       "      <td>0.262086</td>\n",
       "      <td>0</td>\n",
       "      <td>0</td>\n",
       "      <td>0.402836</td>\n",
       "      <td>0.262086</td>\n",
       "      <td>0</td>\n",
       "      <td>0</td>\n",
       "      <td>0.422250</td>\n",
       "    </tr>\n",
       "    <tr>\n",
       "      <th>GraftVsHostDisease_rel_cum_freq(perc)</th>\n",
       "      <td>0.018958</td>\n",
       "      <td>0.013455</td>\n",
       "      <td>2613.0</td>\n",
       "      <td>0.303863</td>\n",
       "      <td>0</td>\n",
       "      <td>0</td>\n",
       "      <td>0.429834</td>\n",
       "      <td>0.303863</td>\n",
       "      <td>0</td>\n",
       "      <td>0</td>\n",
       "      <td>0.443040</td>\n",
       "    </tr>\n",
       "    <tr>\n",
       "      <th>Leukemia_rel_cum_freq(perc)</th>\n",
       "      <td>0.021774</td>\n",
       "      <td>0.234295</td>\n",
       "      <td>2602.0</td>\n",
       "      <td>0.305545</td>\n",
       "      <td>0</td>\n",
       "      <td>0</td>\n",
       "      <td>0.429834</td>\n",
       "      <td>0.305545</td>\n",
       "      <td>0</td>\n",
       "      <td>0</td>\n",
       "      <td>0.443040</td>\n",
       "    </tr>\n",
       "    <tr>\n",
       "      <th>Celiacdisease_rel_cum_freq(perc)</th>\n",
       "      <td>4.641366</td>\n",
       "      <td>4.287015</td>\n",
       "      <td>2544.0</td>\n",
       "      <td>0.340749</td>\n",
       "      <td>0</td>\n",
       "      <td>0</td>\n",
       "      <td>0.453193</td>\n",
       "      <td>0.340749</td>\n",
       "      <td>0</td>\n",
       "      <td>0</td>\n",
       "      <td>0.453981</td>\n",
       "    </tr>\n",
       "    <tr>\n",
       "      <th>Lungcancer_rel_cum_freq(perc)</th>\n",
       "      <td>0.071579</td>\n",
       "      <td>0.239988</td>\n",
       "      <td>2594.0</td>\n",
       "      <td>0.373078</td>\n",
       "      <td>0</td>\n",
       "      <td>0</td>\n",
       "      <td>0.464839</td>\n",
       "      <td>0.373078</td>\n",
       "      <td>0</td>\n",
       "      <td>0</td>\n",
       "      <td>0.453981</td>\n",
       "    </tr>\n",
       "    <tr>\n",
       "      <th>M.tuberculosis_rel_cum_freq(perc)</th>\n",
       "      <td>0.291558</td>\n",
       "      <td>0.307299</td>\n",
       "      <td>2582.0</td>\n",
       "      <td>0.384582</td>\n",
       "      <td>0</td>\n",
       "      <td>0</td>\n",
       "      <td>0.464839</td>\n",
       "      <td>0.384582</td>\n",
       "      <td>0</td>\n",
       "      <td>0</td>\n",
       "      <td>0.453981</td>\n",
       "    </tr>\n",
       "    <tr>\n",
       "      <th>Allergy_rel_cum_freq(perc)</th>\n",
       "      <td>1.803789</td>\n",
       "      <td>2.065212</td>\n",
       "      <td>2575.5</td>\n",
       "      <td>0.386432</td>\n",
       "      <td>0</td>\n",
       "      <td>0</td>\n",
       "      <td>0.464839</td>\n",
       "      <td>0.386432</td>\n",
       "      <td>0</td>\n",
       "      <td>0</td>\n",
       "      <td>0.453981</td>\n",
       "    </tr>\n",
       "    <tr>\n",
       "      <th>HCV_rel_cum_freq(perc)</th>\n",
       "      <td>1.266117</td>\n",
       "      <td>1.436475</td>\n",
       "      <td>2594.0</td>\n",
       "      <td>0.413925</td>\n",
       "      <td>0</td>\n",
       "      <td>0</td>\n",
       "      <td>0.473857</td>\n",
       "      <td>0.413925</td>\n",
       "      <td>0</td>\n",
       "      <td>0</td>\n",
       "      <td>0.453981</td>\n",
       "    </tr>\n",
       "    <tr>\n",
       "      <th>Influenza_rel_cum_freq(perc)</th>\n",
       "      <td>27.618968</td>\n",
       "      <td>29.482355</td>\n",
       "      <td>2596.0</td>\n",
       "      <td>0.417192</td>\n",
       "      <td>0</td>\n",
       "      <td>0</td>\n",
       "      <td>0.473857</td>\n",
       "      <td>0.417192</td>\n",
       "      <td>0</td>\n",
       "      <td>0</td>\n",
       "      <td>0.453981</td>\n",
       "    </tr>\n",
       "    <tr>\n",
       "      <th>Lupus_rel_cum_freq(perc)</th>\n",
       "      <td>0.082378</td>\n",
       "      <td>0.138708</td>\n",
       "      <td>2619.0</td>\n",
       "      <td>0.422672</td>\n",
       "      <td>0</td>\n",
       "      <td>0</td>\n",
       "      <td>0.473857</td>\n",
       "      <td>0.422672</td>\n",
       "      <td>0</td>\n",
       "      <td>0</td>\n",
       "      <td>0.453981</td>\n",
       "    </tr>\n",
       "    <tr>\n",
       "      <th>BreastCancer_rel_cum_freq(perc)</th>\n",
       "      <td>0.247747</td>\n",
       "      <td>0.310460</td>\n",
       "      <td>2618.0</td>\n",
       "      <td>0.442966</td>\n",
       "      <td>0</td>\n",
       "      <td>0</td>\n",
       "      <td>0.475100</td>\n",
       "      <td>0.442966</td>\n",
       "      <td>0</td>\n",
       "      <td>0</td>\n",
       "      <td>0.458786</td>\n",
       "    </tr>\n",
       "    <tr>\n",
       "      <th>Carcinoma_rel_cum_freq(perc)</th>\n",
       "      <td>1.103738</td>\n",
       "      <td>0.708789</td>\n",
       "      <td>2636.0</td>\n",
       "      <td>0.477768</td>\n",
       "      <td>0</td>\n",
       "      <td>0</td>\n",
       "      <td>0.489564</td>\n",
       "      <td>0.477768</td>\n",
       "      <td>0</td>\n",
       "      <td>0</td>\n",
       "      <td>0.477768</td>\n",
       "    </tr>\n",
       "  </tbody>\n",
       "</table>\n",
       "</div>"
      ],
      "text/plain": [
       "                                                   mean_healthy  mean_patients       s         p  p_Sig_Bonferroni  p_sigFDR=0.1  p_corrPval_DR0.1    same p  same p_Sig_Bonferroni  same p_sigFDR=0.1  same p_corrPval_DR0.1\n",
       "SIV_rel_cum_freq(perc)                                 0.347037       0.201890  2036.0  0.002691                 0             1          0.095440  0.002691                      0                  1               0.055577\n",
       "CalcifiedAorticStenosisdisease_rel_cum_freq(perc)      0.129480       0.054360  2263.0  0.005602                 0             1          0.095440  0.005602                      0                  1               0.055577\n",
       "Melanoma_rel_cum_freq(perc)                            1.423969       0.887454  2004.0  0.005749                 0             1          0.095440  0.005749                      0                  1               0.055577\n",
       "CMV_rel_cum_freq(perc)                                22.751219      26.684056  2107.0  0.017757                 0             0          0.138175  0.017757                      0                  0               0.128742\n",
       "LCMV_rel_cum_freq(perc)                                0.541508       0.359325  2279.5  0.055647                 0             0          0.230937  0.055647                      0                  0               0.279864\n",
       "Colorectalcancer_rel_cum_freq(perc)                    2.108495       1.947650  2244.0  0.057903                 0             0          0.232546  0.057903                      0                  0               0.279864\n",
       "RSV_rel_cum_freq(perc)                                 0.152052       0.099813  2452.5  0.115420                 0             0          0.312462  0.115420                      0                  0               0.406972\n",
       "RheumatoidArthritis_rel_cum_freq(perc)                 0.890150       0.506666  2374.0  0.133378                 0             0          0.314935  0.133378                      0                  0               0.406972\n",
       "HSV_rel_cum_freq(perc)                                 0.007646       0.005733  2587.0  0.157241                 0             0          0.337120  0.157241                      0                  0               0.406972\n",
       "EBV_rel_cum_freq(perc)                                 8.315678       7.343662  2397.0  0.163644                 0             0          0.337120  0.163644                      0                  0               0.406972\n",
       "YellowFeverVirus_rel_cum_freq(perc)                    2.149655       1.905027  2402.0  0.168295                 0             0          0.337946  0.168295                      0                  0               0.406972\n",
       "HomoSapiens_rel_cum_freq(perc)                         8.462741       7.767143  2427.0  0.193950                 0             0          0.374751  0.193950                      0                  0               0.406972\n",
       "WestNilevirus_rel_cum_freq(perc)                       0.109067       0.169873  2499.0  0.204333                 0             0          0.376880  0.204333                      0                  0               0.406972\n",
       "DENV_rel_cum_freq(perc)                                2.094601       2.699401  2448.0  0.217026                 0             0          0.382103  0.217026                      0                  0               0.406972\n",
       "Multiplesclerosis_rel_cum_freq(perc)                   0.452659       0.449494  2468.0  0.220528                 0             0          0.382587  0.220528                      0                  0               0.406972\n",
       "HIV_rel_cum_freq(perc)                                 7.366913       6.600285  2454.5  0.224536                 0             0          0.382587  0.224536                      0                  0               0.406972\n",
       "Plasmodiumberghei_rel_cum_freq(perc)                   0.086100       0.164059  2547.0  0.245048                 0             0          0.394142  0.245048                      0                  0               0.418023\n",
       "DiabetesType1_rel_cum_freq(perc)                       4.951847       5.385335  2485.5  0.262086                 0             0          0.402836  0.262086                      0                  0               0.422250\n",
       "GraftVsHostDisease_rel_cum_freq(perc)                  0.018958       0.013455  2613.0  0.303863                 0             0          0.429834  0.303863                      0                  0               0.443040\n",
       "Leukemia_rel_cum_freq(perc)                            0.021774       0.234295  2602.0  0.305545                 0             0          0.429834  0.305545                      0                  0               0.443040\n",
       "Celiacdisease_rel_cum_freq(perc)                       4.641366       4.287015  2544.0  0.340749                 0             0          0.453193  0.340749                      0                  0               0.453981\n",
       "Lungcancer_rel_cum_freq(perc)                          0.071579       0.239988  2594.0  0.373078                 0             0          0.464839  0.373078                      0                  0               0.453981\n",
       "M.tuberculosis_rel_cum_freq(perc)                      0.291558       0.307299  2582.0  0.384582                 0             0          0.464839  0.384582                      0                  0               0.453981\n",
       "Allergy_rel_cum_freq(perc)                             1.803789       2.065212  2575.5  0.386432                 0             0          0.464839  0.386432                      0                  0               0.453981\n",
       "HCV_rel_cum_freq(perc)                                 1.266117       1.436475  2594.0  0.413925                 0             0          0.473857  0.413925                      0                  0               0.453981\n",
       "Influenza_rel_cum_freq(perc)                          27.618968      29.482355  2596.0  0.417192                 0             0          0.473857  0.417192                      0                  0               0.453981\n",
       "Lupus_rel_cum_freq(perc)                               0.082378       0.138708  2619.0  0.422672                 0             0          0.473857  0.422672                      0                  0               0.453981\n",
       "BreastCancer_rel_cum_freq(perc)                        0.247747       0.310460  2618.0  0.442966                 0             0          0.475100  0.442966                      0                  0               0.458786\n",
       "Carcinoma_rel_cum_freq(perc)                           1.103738       0.708789  2636.0  0.477768                 0             0          0.489564  0.477768                      0                  0               0.477768"
      ]
     },
     "execution_count": 57,
     "metadata": {},
     "output_type": "execute_result"
    }
   ],
   "source": [
    "feature_comparison_balanced_new_cum_=feature_comparison_balanced_new[feature_comparison_balanced_new.index.str.contains('cum_')]\n",
    "# print feature_comparison_balanced_new_cum_.sum()\n",
    "feature_comparison_balanced_new_cum_['same p']=feature_comparison_balanced_new_cum_['p']\n",
    "feature_comparison_balanced_new_cum_=add_corrected_pValues(feature_comparison_balanced_new_cum_,pValueColumn='same p' ,\n",
    "                                                      nTests=len(feature_comparison_balanced_new_cum_),FDR=0.1)\n",
    "feature_comparison_balanced_new_cum_\n"
   ]
  },
  {
   "cell_type": "code",
   "execution_count": 12,
   "metadata": {
    "ExecuteTime": {
     "end_time": "2019-03-30T23:07:30.399393Z",
     "start_time": "2019-03-30T23:07:30.373089Z"
    }
   },
   "outputs": [
    {
     "name": "stdout",
     "output_type": "stream",
     "text": [
      "mean_healthy           99.508787\n",
      "mean_patients         102.455278\n",
      "s                   71048.500000\n",
      "p                       6.719606\n",
      "p_Sig_Bonferroni        0.000000\n",
      "p_sigFDR=0.1            0.000000\n",
      "p_corrPval_DR0.1       11.009207\n",
      "dtype: float64\n"
     ]
    },
    {
     "data": {
      "text/html": [
       "<div>\n",
       "<style scoped>\n",
       "    .dataframe tbody tr th:only-of-type {\n",
       "        vertical-align: middle;\n",
       "    }\n",
       "\n",
       "    .dataframe tbody tr th {\n",
       "        vertical-align: top;\n",
       "    }\n",
       "\n",
       "    .dataframe thead th {\n",
       "        text-align: right;\n",
       "    }\n",
       "</style>\n",
       "<table border=\"1\" class=\"dataframe\">\n",
       "  <thead>\n",
       "    <tr style=\"text-align: right;\">\n",
       "      <th></th>\n",
       "      <th>mean_healthy</th>\n",
       "      <th>mean_patients</th>\n",
       "      <th>s</th>\n",
       "      <th>p</th>\n",
       "      <th>p_Sig_Bonferroni</th>\n",
       "      <th>p_sigFDR=0.1</th>\n",
       "      <th>p_corrPval_DR0.1</th>\n",
       "    </tr>\n",
       "  </thead>\n",
       "  <tbody>\n",
       "    <tr>\n",
       "      <th>SIV_rel_cum_freq(perc)</th>\n",
       "      <td>0.347037</td>\n",
       "      <td>0.201890</td>\n",
       "      <td>2036.0</td>\n",
       "      <td>0.002691</td>\n",
       "      <td>0</td>\n",
       "      <td>0</td>\n",
       "      <td>0.146609</td>\n",
       "    </tr>\n",
       "    <tr>\n",
       "      <th>CalcifiedAorticStenosisdisease_rel_cum_freq(perc)</th>\n",
       "      <td>0.129480</td>\n",
       "      <td>0.054360</td>\n",
       "      <td>2263.0</td>\n",
       "      <td>0.005602</td>\n",
       "      <td>0</td>\n",
       "      <td>0</td>\n",
       "      <td>0.146609</td>\n",
       "    </tr>\n",
       "    <tr>\n",
       "      <th>Melanoma_rel_cum_freq(perc)</th>\n",
       "      <td>1.423969</td>\n",
       "      <td>0.887454</td>\n",
       "      <td>2004.0</td>\n",
       "      <td>0.005749</td>\n",
       "      <td>0</td>\n",
       "      <td>0</td>\n",
       "      <td>0.146609</td>\n",
       "    </tr>\n",
       "    <tr>\n",
       "      <th>CMV_rel_cum_freq(perc)</th>\n",
       "      <td>22.751219</td>\n",
       "      <td>26.684056</td>\n",
       "      <td>2107.0</td>\n",
       "      <td>0.017757</td>\n",
       "      <td>0</td>\n",
       "      <td>0</td>\n",
       "      <td>0.185771</td>\n",
       "    </tr>\n",
       "    <tr>\n",
       "      <th>LCMV_rel_cum_freq(perc)</th>\n",
       "      <td>0.541508</td>\n",
       "      <td>0.359325</td>\n",
       "      <td>2279.5</td>\n",
       "      <td>0.055647</td>\n",
       "      <td>0</td>\n",
       "      <td>0</td>\n",
       "      <td>0.291079</td>\n",
       "    </tr>\n",
       "  </tbody>\n",
       "</table>\n",
       "</div>"
      ],
      "text/plain": [
       "                                                   mean_healthy  mean_patients       s         p  p_Sig_Bonferroni  p_sigFDR=0.1  p_corrPval_DR0.1\n",
       "SIV_rel_cum_freq(perc)                                 0.347037       0.201890  2036.0  0.002691                 0             0          0.146609\n",
       "CalcifiedAorticStenosisdisease_rel_cum_freq(perc)      0.129480       0.054360  2263.0  0.005602                 0             0          0.146609\n",
       "Melanoma_rel_cum_freq(perc)                            1.423969       0.887454  2004.0  0.005749                 0             0          0.146609\n",
       "CMV_rel_cum_freq(perc)                                22.751219      26.684056  2107.0  0.017757                 0             0          0.185771\n",
       "LCMV_rel_cum_freq(perc)                                0.541508       0.359325  2279.5  0.055647                 0             0          0.291079"
      ]
     },
     "execution_count": 12,
     "metadata": {},
     "output_type": "execute_result"
    }
   ],
   "source": [
    "feature_comparison_balanced_new_cum=feature_comparison_balanced_new[feature_comparison_balanced_new.index.str.contains('cum_')]\n",
    "print feature_comparison_balanced_new_cum.sum()\n",
    "feature_comparison_balanced_new_cum.head()"
   ]
  },
  {
   "cell_type": "markdown",
   "metadata": {},
   "source": [
    "## compare distribution of top 5 annotations:"
   ]
  },
  {
   "cell_type": "code",
   "execution_count": 6,
   "metadata": {
    "ExecuteTime": {
     "end_time": "2019-03-30T23:02:58.549311Z",
     "start_time": "2019-03-30T23:02:58.530554Z"
    }
   },
   "outputs": [
    {
     "data": {
      "text/html": [
       "[u'Allergy_rel_cum_freq(perc)', u'BreastCancer_rel_cum_freq(perc)', u'CMV_rel_cum_freq(perc)', u'CalcifiedAorticStenosisdisease_rel_cum_freq(perc)', u'Carcinoma_rel_cum_freq(perc)', u'Celiacdisease_rel_cum_freq(perc)', u'Colorectalcancer_rel_cum_freq(perc)', u'DENV_rel_cum_freq(perc)', u'DiabetesType1_rel_cum_freq(perc)', u'EBV_rel_cum_freq(perc)', u'GraftVsHostDisease_rel_cum_freq(perc)', u'HCV_rel_cum_freq(perc)', u'HIV_rel_cum_freq(perc)', u'HSV_rel_cum_freq(perc)', u'HomoSapiens_rel_cum_freq(perc)', u'Influenza_rel_cum_freq(perc)', u'LCMV_rel_cum_freq(perc)', u'Leukemia_rel_cum_freq(perc)', u'Lungcancer_rel_cum_freq(perc)', u'Lupus_rel_cum_freq(perc)', u'M.tuberculosis_rel_cum_freq(perc)', u'Melanoma_rel_cum_freq(perc)', u'Multiplesclerosis_rel_cum_freq(perc)', u'Plasmodiumberghei_rel_cum_freq(perc)', u'RSV_rel_cum_freq(perc)', u'RheumatoidArthritis_rel_cum_freq(perc)', u'SIV_rel_cum_freq(perc)', u'WestNilevirus_rel_cum_freq(perc)', u'YellowFeverVirus_rel_cum_freq(perc)']"
      ],
      "text/plain": [
       "[u'Allergy_rel_cum_freq(perc)',\n",
       " u'BreastCancer_rel_cum_freq(perc)',\n",
       " u'CMV_rel_cum_freq(perc)',\n",
       " u'CalcifiedAorticStenosisdisease_rel_cum_freq(perc)',\n",
       " u'Carcinoma_rel_cum_freq(perc)',\n",
       " u'Celiacdisease_rel_cum_freq(perc)',\n",
       " u'Colorectalcancer_rel_cum_freq(perc)',\n",
       " u'DENV_rel_cum_freq(perc)',\n",
       " u'DiabetesType1_rel_cum_freq(perc)',\n",
       " u'EBV_rel_cum_freq(perc)',\n",
       " u'GraftVsHostDisease_rel_cum_freq(perc)',\n",
       " u'HCV_rel_cum_freq(perc)',\n",
       " u'HIV_rel_cum_freq(perc)',\n",
       " u'HSV_rel_cum_freq(perc)',\n",
       " u'HomoSapiens_rel_cum_freq(perc)',\n",
       " u'Influenza_rel_cum_freq(perc)',\n",
       " u'LCMV_rel_cum_freq(perc)',\n",
       " u'Leukemia_rel_cum_freq(perc)',\n",
       " u'Lungcancer_rel_cum_freq(perc)',\n",
       " u'Lupus_rel_cum_freq(perc)',\n",
       " u'M.tuberculosis_rel_cum_freq(perc)',\n",
       " u'Melanoma_rel_cum_freq(perc)',\n",
       " u'Multiplesclerosis_rel_cum_freq(perc)',\n",
       " u'Plasmodiumberghei_rel_cum_freq(perc)',\n",
       " u'RSV_rel_cum_freq(perc)',\n",
       " u'RheumatoidArthritis_rel_cum_freq(perc)',\n",
       " u'SIV_rel_cum_freq(perc)',\n",
       " u'WestNilevirus_rel_cum_freq(perc)',\n",
       " u'YellowFeverVirus_rel_cum_freq(perc)']"
      ]
     },
     "execution_count": 6,
     "metadata": {},
     "output_type": "execute_result"
    }
   ],
   "source": [
    "cols=[x for x in featureDF_balanced.columns if 'cum_' in x]\n",
    "cols"
   ]
  },
  {
   "cell_type": "code",
   "execution_count": 8,
   "metadata": {
    "ExecuteTime": {
     "end_time": "2019-03-30T23:04:32.840951Z",
     "start_time": "2019-03-30T23:04:32.824216Z"
    }
   },
   "outputs": [],
   "source": [
    "cum_freq_balanced=featureDF_balanced[cols]\n",
    "cum_freq_balanced_PNP=cum_freq_balanced.loc[PNP530_balancedAge_males,:]\n",
    "cum_freq_balanced_Cardio=cum_freq_balanced.loc[Cardio126_balancedAge_males,:]"
   ]
  },
  {
   "cell_type": "code",
   "execution_count": 52,
   "metadata": {
    "ExecuteTime": {
     "end_time": "2019-03-30T23:35:31.289690Z",
     "start_time": "2019-03-30T23:35:31.227806Z"
    }
   },
   "outputs": [
    {
     "name": "stdout",
     "output_type": "stream",
     "text": [
      "**********0***********\n",
      "97.49075307568678\n",
      "**********1***********\n",
      "99.70652547247576\n",
      "0.9996977442025536\n"
     ]
    }
   ],
   "source": [
    "word='cum_'\n",
    "threshold=0.5\n",
    "\n",
    "\n",
    "cols=[x for x in featureDF_balanced.columns if word in x]\n",
    "cum_freq_balanced=featureDF_balanced[cols]\n",
    "cum_freq_balanced_PNP=cum_freq_balanced.loc[PNP530_balancedAge_males,:]\n",
    "cum_freq_balanced_Cardio=cum_freq_balanced.loc[Cardio126_balancedAge_males,:]\n",
    "\n",
    "\n",
    "\n",
    "sum_df=pd.DataFrame()\n",
    "from scipy.stats import chi2_contingency\n",
    "\n",
    "for n,item in enumerate([('PNP',cum_freq_balanced_PNP),('Cardio126',cum_freq_balanced_Cardio)]):\n",
    "    print '**********%s***********' %n\n",
    "    df=item[1]\n",
    "    name=item[0]\n",
    "    topFeatures= pd.DataFrame(df.mean()[df.mean()>threshold].rename(name))\n",
    "    sum_df=pd.merge(sum_df,topFeatures,how='outer',left_index=True,right_index=True)\n",
    "    print topFeatures.sum().sum()\n",
    "    sum_df.loc['other',name]=100 - topFeatures.sum().sum()\n",
    "    sum_df= sum_df.fillna(0)\n",
    "chi2,p,dof,expected = chi2_contingency(sum_df.T)\n",
    "sum_df\n",
    "\n",
    "print p\n",
    "    "
   ]
  },
  {
   "cell_type": "code",
   "execution_count": 53,
   "metadata": {
    "ExecuteTime": {
     "end_time": "2019-03-30T23:35:36.773649Z",
     "start_time": "2019-03-30T23:35:36.713750Z"
    }
   },
   "outputs": [
    {
     "name": "stdout",
     "output_type": "stream",
     "text": [
      "**********0***********\n",
      "96.40736491241687\n",
      "**********1***********\n",
      "97.20440525947662\n",
      "0.9999999848859716\n"
     ]
    }
   ],
   "source": [
    "word='seq_count'\n",
    "threshold=0.5\n",
    "\n",
    "cols=[x for x in featureDF_balanced.columns if word in x]\n",
    "cum_freq_balanced=featureDF_balanced[cols]\n",
    "cum_freq_balanced_PNP=cum_freq_balanced.loc[PNP530_balancedAge_males,:]\n",
    "cum_freq_balanced_Cardio=cum_freq_balanced.loc[Cardio126_balancedAge_males,:]\n",
    "\n",
    "\n",
    "\n",
    "sum_df=pd.DataFrame()\n",
    "from scipy.stats import chi2_contingency\n",
    "\n",
    "for n,item in enumerate([('PNP',cum_freq_balanced_PNP),('Cardio126',cum_freq_balanced_Cardio)]):\n",
    "    print '**********%s***********' %n\n",
    "    df=item[1]\n",
    "    name=item[0]\n",
    "    topFeatures= pd.DataFrame(df.mean()[df.mean()>threshold].rename(name))\n",
    "    sum_df=pd.merge(sum_df,topFeatures,how='outer',left_index=True,right_index=True)\n",
    "    print topFeatures.sum().sum()\n",
    "    sum_df.loc['other',name]=100 - topFeatures.sum().sum()\n",
    "    sum_df= sum_df.fillna(0)\n",
    "chi2,p,dof,expected = chi2_contingency(sum_df.T)\n",
    "sum_df\n",
    "\n",
    "print p\n",
    "    "
   ]
  },
  {
   "cell_type": "code",
   "execution_count": null,
   "metadata": {},
   "outputs": [],
   "source": []
  }
 ],
 "metadata": {
  "kernelspec": {
   "display_name": "Python 2",
   "language": "python",
   "name": "python2"
  },
  "language_info": {
   "codemirror_mode": {
    "name": "ipython",
    "version": 2
   },
   "file_extension": ".py",
   "mimetype": "text/x-python",
   "name": "python",
   "nbconvert_exporter": "python",
   "pygments_lexer": "ipython2",
   "version": "2.7.8"
  },
  "toc": {
   "nav_menu": {},
   "number_sections": true,
   "sideBar": true,
   "skip_h1_title": false,
   "toc_cell": false,
   "toc_position": {
    "height": "521px",
    "left": "0px",
    "right": "20px",
    "top": "135px",
    "width": "287px"
   },
   "toc_section_display": "block",
   "toc_window_display": true
  },
  "varInspector": {
   "cols": {
    "lenName": 16,
    "lenType": 16,
    "lenVar": 40
   },
   "kernels_config": {
    "python": {
     "delete_cmd_postfix": "",
     "delete_cmd_prefix": "del ",
     "library": "var_list.py",
     "varRefreshCmd": "print(var_dic_list())"
    },
    "r": {
     "delete_cmd_postfix": ") ",
     "delete_cmd_prefix": "rm(",
     "library": "var_list.r",
     "varRefreshCmd": "cat(var_dic_list()) "
    }
   },
   "types_to_exclude": [
    "module",
    "function",
    "builtin_function_or_method",
    "instance",
    "_Feature"
   ],
   "window_display": false
  }
 },
 "nbformat": 4,
 "nbformat_minor": 2
}
