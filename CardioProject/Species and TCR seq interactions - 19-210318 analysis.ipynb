{
 "cells": [
  {
   "cell_type": "markdown",
   "metadata": {},
   "source": [
    "# Imports:"
   ]
  },
  {
   "cell_type": "code",
   "execution_count": null,
   "metadata": {},
   "outputs": [],
   "source": [
    "from os import listdir,mkdir,makedirs\n",
    "from os.path import isfile, join, isdir,exists\n",
    "import pandas as pd\n",
    "import numpy as np\n",
    "from scipy import stats\n",
    "import re\n",
    "import matplotlib.pyplot as plt\n",
    "from matplotlib.backends.backend_pdf import PdfPages\n",
    "from myplots import roundup, rounddown, find_decimal_fold, percentile_cut_off, rarefaction_calc, rarefaction_plot,draw_correlation_scatter\n",
    "from matplotlib.ticker import FormatStrFormatter\n",
    "import cPickle as pickle\n",
    "from Bio.SeqUtils import GC\n",
    "import seaborn as sns\n",
    "import random\n",
    "from scipy.stats import pearsonr\n",
    "from skbio.diversity.alpha import shannon, simpson, berger_parker_d\n",
    "\n",
    "from pop_organize import get_sample_data, get_sample_with_dfs\n",
    "from SufficientStatistics import *\n",
    "from MyFunctionsShani import *\n",
    "import math\n",
    "from myplots import roundup, rounddown, find_decimal_fold\n",
    "from skbio.stats.distance import mantel\n",
    "from scipy.spatial.distance import braycurtis, pdist\n",
    "from GeneralFeaturePhenotypeInteractions.Feature_phenotype_functions import * \n",
    "from TCR_microbiome_interactions.TCR_microbiome_interactions_functions import *\n",
    "\n",
    "\n",
    "MyPath='/net/mraid08/export/genie/Lab/Personal/ShaniBAF'"
   ]
  },
  {
   "cell_type": "code",
   "execution_count": null,
   "metadata": {},
   "outputs": [],
   "source": [
    "import time\n",
    "cdate=str(time.strftime(\"%d%m%Y\"))\n",
    "cdate"
   ]
  },
  {
   "cell_type": "markdown",
   "metadata": {},
   "source": [
    "# files in use:"
   ]
  },
  {
   "cell_type": "markdown",
   "metadata": {},
   "source": [
    "microbiome data:\n",
    "MPA files from the folder 'Z:\\Lab\\Personal\\ShaniBAF\\MicrobiomeDataTables\\FilteredAndMergedOnBD'\n",
    "*PNP434 samples, not filtered on swabs/Genotek and on read counts. merged on BD using mean,\n",
    "and sample outlier removal. no removal of same person!! total 423 samples\n",
    "*PNP434 samples, Only swab samples, only samples with >9000000 reads postHGF. merged on BD using noOutlierMean,\n",
    "and sample outlier removal. no removal of same person!! total 276 samples\n",
    "\n",
    "in both binary and RA analysis, the input file is RA file, and then it is converted to binary within the function\n",
    "\n",
    "TCR data:\n",
    "\n",
    "binary analysis - sharingMatrix_moreThan50_434Samples\n",
    "RA analysis -sharingMatrix_moreThan50_434Samples_RA \n",
    "\n",
    "\n",
    "\n"
   ]
  },
  {
   "cell_type": "markdown",
   "metadata": {},
   "source": [
    "### load and edit Mb file:\n"
   ]
  },
  {
   "cell_type": "code",
   "execution_count": null,
   "metadata": {},
   "outputs": [],
   "source": [
    "#load BD_FD converter, to make sure we remove BD_FD columns from the MB file:\n",
    "f1='%s/Sample files/updatedBDandFDlists/final_BD_FD_converter_mergedOnYear_RCfolderAllSeqProjects_17042018'\n",
    "BD_FD=pd.read_pickle(f1)"
   ]
  },
  {
   "cell_type": "code",
   "execution_count": null,
   "metadata": {},
   "outputs": [],
   "source": [
    "# not filtered file:\n",
    "f1='/net/mraid08/export/genie/Lab/Personal/ShaniBAF/MicrobiomeDataTables/FilteredAndMergedOnBD/MPA_s_Metabolon2_PNP434_notfiltered_meannSTD(3,)nMinSamples3_filterOutlierSampleFalse_filterSamePersonTrue'\n",
    "\n",
    "Mb_PNP434_notFiltered=pd.read_pickle(f1)\n",
    "Mb_PNP434_notFiltered=Mb_PNP434_notFiltered.set_index('BD') #### very important!!"
   ]
  },
  {
   "cell_type": "code",
   "execution_count": null,
   "metadata": {},
   "outputs": [],
   "source": [
    "# filtered file:\n",
    "f2='/net/mraid08/export/genie/Lab/Personal/ShaniBAF/MicrobiomeDataTables/FilteredAndMergedOnBD/MPA_s_Metabolon2_PNP434_filGenotek_fil9000000reads_meannSTD(3,)nMinSamples3_filterOutlierSampleFalse_filterSamePersonTrue'\n",
    "\n",
    "Mb_PNP434_onlySwabs_only9Mreads=pd.read_pickle(f2)\n",
    "Mb_PNP434_onlySwabs_only9Mreads=Mb_PNP434_onlySwabs_only9Mreads.set_index('BD') #### very important!!"
   ]
  },
  {
   "cell_type": "code",
   "execution_count": null,
   "metadata": {},
   "outputs": [],
   "source": [
    "Mb_PNP434_notFiltered.head()"
   ]
  },
  {
   "cell_type": "code",
   "execution_count": null,
   "metadata": {},
   "outputs": [],
   "source": [
    "Mb_PNP434_onlySwabs_only9Mreads.head()"
   ]
  },
  {
   "cell_type": "code",
   "execution_count": null,
   "metadata": {},
   "outputs": [],
   "source": [
    "Mb_PNP434_notFiltered.columns.values[:5]"
   ]
  },
  {
   "cell_type": "markdown",
   "metadata": {},
   "source": [
    "#### remove all columns that belong to BD_FD file:\n"
   ]
  },
  {
   "cell_type": "code",
   "execution_count": null,
   "metadata": {},
   "outputs": [],
   "source": [
    "f1='/net/mraid08/export/genie/Lab/Personal/ShaniBAF/Sample files/updatedBDandFDlists/final_BD_FD_converter_mergedOnYear_RCfolderMetabolon2_18032018'\n",
    "BD_FD=pd.read_pickle(f1)"
   ]
  },
  {
   "cell_type": "code",
   "execution_count": null,
   "metadata": {},
   "outputs": [],
   "source": [
    "#remove from non filtered file:\n",
    "for column in BD_FD.columns.values:\n",
    "    if column in Mb_PNP434_notFiltered.columns.values:\n",
    "        print 'dropping %s column' %column\n",
    "        Mb_PNP434_notFiltered=Mb_PNP434_notFiltered.drop(column,axis=1)"
   ]
  },
  {
   "cell_type": "code",
   "execution_count": null,
   "metadata": {},
   "outputs": [],
   "source": [
    "#remove from filtered file:\n",
    "for column in BD_FD.columns.values:\n",
    "    if column in Mb_PNP434_onlySwabs_only9Mreads.columns.values:\n",
    "        print 'dropping %s column' %column\n",
    "        Mb_PNP434_onlySwabs_only9Mreads=Mb_PNP434_onlySwabs_only9Mreads.drop(column,axis=1)"
   ]
  },
  {
   "cell_type": "markdown",
   "metadata": {},
   "source": [
    "### load and edit TCR file:"
   ]
  },
  {
   "cell_type": "code",
   "execution_count": null,
   "metadata": {},
   "outputs": [],
   "source": [
    "# #load binary file::\n",
    "file1 = '/net/mraid08/export/genie/Lab/Personal/ShaniBAF/TCR_real_data/PublicSeqAnalysis/sharingMatrix_moreThan50_434Samples'\n",
    "sharingMatrix_moreThan50_434Samples = pd.read_pickle(file1)"
   ]
  },
  {
   "cell_type": "code",
   "execution_count": null,
   "metadata": {},
   "outputs": [],
   "source": [
    "sharingMatrix_moreThan50_434Samples.head()"
   ]
  },
  {
   "cell_type": "code",
   "execution_count": null,
   "metadata": {},
   "outputs": [],
   "source": [
    "#load RA file:\n",
    "file1 = '/net/mraid08/export/genie/Lab/Personal/ShaniBAF/TCR_real_data/PublicSeqAnalysis/sharingMatrix_moreThan50_434Samples_RA'\n",
    "sharingMatrix_moreThan50_434Samples_RA = pd.read_pickle(file1)"
   ]
  },
  {
   "cell_type": "code",
   "execution_count": null,
   "metadata": {},
   "outputs": [],
   "source": [
    "sharingMatrix_moreThan50_434Samples_RA.head()"
   ]
  },
  {
   "cell_type": "code",
   "execution_count": null,
   "metadata": {},
   "outputs": [],
   "source": []
  },
  {
   "cell_type": "markdown",
   "metadata": {},
   "source": [
    "# binary TCR x binary mb species:"
   ]
  },
  {
   "cell_type": "markdown",
   "metadata": {},
   "source": [
    "## run test for non-filtered Mb file -high thresholds just to test:"
   ]
  },
  {
   "cell_type": "code",
   "execution_count": null,
   "metadata": {
    "scrolled": true
   },
   "outputs": [],
   "source": [
    "MbDF=Mb_PNP434_notFiltered\n",
    "MbDFName='Mb_PNP434_notFiltered'\n",
    "TCRdf=sharingMatrix_moreThan50_434Samples\n",
    "TCRdfName='TCRdf_pnp434_more50'\n",
    "NsharedSamplesForSeqs=200\n",
    "topNspecies=50\n",
    "\n",
    "FisherResults_full=find_associations_binaryTCR_binaryMBspecies(MbDF, MbDFName,TCRdf, TCRdfName,NsharedSamplesForSeqs, topNspecies)"
   ]
  },
  {
   "cell_type": "markdown",
   "metadata": {},
   "source": [
    "## run test for non-filtered Mb file:"
   ]
  },
  {
   "cell_type": "code",
   "execution_count": null,
   "metadata": {
    "scrolled": true
   },
   "outputs": [],
   "source": [
    "MbDF=Mb_PNP434_notFiltered\n",
    "MbDFName='Mb_PNP434_metabolon2_notFiltered'\n",
    "TCRdf=sharingMatrix_moreThan50_434Samples\n",
    "TCRdfName='TCRdf_pnp434_more50'\n",
    "NsharedSamplesForSeqs=50\n",
    "topNspecies=100\n",
    "\n",
    "FisherResults_full=find_associations_binaryTCR_binaryMBspecies(MbDF, MbDFName,TCRdf, TCRdfName,NsharedSamplesForSeqs, topNspecies)"
   ]
  },
  {
   "cell_type": "markdown",
   "metadata": {},
   "source": [
    "## run test for swab and minimal reads filtered file:"
   ]
  },
  {
   "cell_type": "code",
   "execution_count": null,
   "metadata": {
    "scrolled": true
   },
   "outputs": [],
   "source": [
    "MbDF=Mb_PNP434_onlySwabs_only9Mreads\n",
    "MbDFName='Mb_PNP434_metabolon2_onlySwabs_only9Mreads'\n",
    "TCRdf=sharingMatrix_moreThan50_434Samples\n",
    "TCRdfName='TCRdf_pnp434_more50'\n",
    "NsharedSamplesForSeqs=50\n",
    "topNspecies=100\n",
    "\n",
    "FisherResults_full=find_associations_binaryTCR_binaryMBspecies(MbDF, MbDFName,TCRdf, TCRdfName, NsharedSamplesForSeqs, topNspecies)"
   ]
  },
  {
   "cell_type": "markdown",
   "metadata": {},
   "source": [
    "## explore result file:"
   ]
  },
  {
   "cell_type": "markdown",
   "metadata": {},
   "source": [
    "### filtered mb file:"
   ]
  },
  {
   "cell_type": "code",
   "execution_count": null,
   "metadata": {},
   "outputs": [],
   "source": [
    "#check number of tests with filtered file:\n",
    "with open('/net/mraid08/export/genie/Lab/Personal/ShaniBAF/TCR_real_data/PhenotypicData/Microbiome-TCR interactions/countTests_fisher_Mb_PNP434_metabolon2_onlySwabs_only9Mreads_TCRdf_pnp434_more50_50_100','rb') as fp:\n",
    "    countTestFiltered=pickle.load(fp)\n",
    "countTestFiltered    "
   ]
  },
  {
   "cell_type": "code",
   "execution_count": null,
   "metadata": {},
   "outputs": [],
   "source": [
    "file1='/net/mraid08/export/genie/Lab/Personal/ShaniBAF/TCR_real_data/PhenotypicData/Microbiome-TCR interactions/FisherResults_full_Mb_PNP434_metabolon2_onlySwabs_only9Mreads_TCRdf_pnp434_more50_seqsSharedMoreThan50_top100Species.xlsx'\n",
    "FisherResults_full_filtered=pd.read_excel(file1)"
   ]
  },
  {
   "cell_type": "code",
   "execution_count": null,
   "metadata": {},
   "outputs": [],
   "source": [
    "FisherResults_full_filtered.head()"
   ]
  },
  {
   "cell_type": "code",
   "execution_count": null,
   "metadata": {},
   "outputs": [],
   "source": [
    "print float(len(FisherResults_full_filtered))/countTestFiltered  "
   ]
  },
  {
   "cell_type": "code",
   "execution_count": null,
   "metadata": {},
   "outputs": [],
   "source": [
    "# look for species with the highest number of associated TCR sequences:\n",
    "FisherResults_full_filtered.groupby('species').seq.nunique().sort_values(ascending=False).head(10)"
   ]
  },
  {
   "cell_type": "code",
   "execution_count": null,
   "metadata": {},
   "outputs": [],
   "source": [
    "# look for TCR sequences with the highest number of associated species :\n",
    "FisherResults_full_filtered.groupby('seq').species.nunique().sort_values(ascending=False).head(10)"
   ]
  },
  {
   "cell_type": "markdown",
   "metadata": {},
   "source": [
    "#### add ratio columns:"
   ]
  },
  {
   "cell_type": "code",
   "execution_count": null,
   "metadata": {},
   "outputs": [],
   "source": [
    "FisherResults_full_filtered['sp0seq1/sp1seq1']=FisherResults_full_filtered['speciesNegSeqPos']/FisherResults_full_filtered['speciesPosSeqPos']"
   ]
  },
  {
   "cell_type": "code",
   "execution_count": null,
   "metadata": {},
   "outputs": [],
   "source": [
    "FisherResults_full_filtered['sp0seq0/sp1seq0']=FisherResults_full_filtered['speciesNegSeqNeg']/FisherResults_full_filtered['speciesPosSeqNeg']"
   ]
  },
  {
   "cell_type": "code",
   "execution_count": null,
   "metadata": {},
   "outputs": [],
   "source": [
    "file1='/net/mraid08/export/genie/Lab/Personal/ShaniBAF/TCR_real_data/PhenotypicData/Microbiome-TCR interactions/FisherResults_full.xlsx'\n",
    "FisherResults_full_filtered.to_excel(file1)"
   ]
  },
  {
   "cell_type": "markdown",
   "metadata": {},
   "source": [
    "#### 'type 1 associations' - sequence prevents species:\n",
    "sp0seq1 is high, sp1seq0 might be high, sp1seq0 is indifferent, sp1seq1 should be very low\n",
    "\n",
    "OR<1"
   ]
  },
  {
   "cell_type": "code",
   "execution_count": null,
   "metadata": {},
   "outputs": [],
   "source": [
    "\n",
    "FisherResults_full_filtered[FisherResults_full_filtered['speciesPosSeqPos']<8]"
   ]
  },
  {
   "cell_type": "code",
   "execution_count": null,
   "metadata": {},
   "outputs": [],
   "source": [
    "\n",
    "FisherResults_full_filtered[(FisherResults_full_filtered['speciesPosSeqPos']<10)&(FisherResults_full_filtered['OR']<0.3)]"
   ]
  },
  {
   "cell_type": "code",
   "execution_count": null,
   "metadata": {},
   "outputs": [],
   "source": [
    "FisherResults_full_filtered[FisherResults_full_filtered['OR']!=0].sort_values(by='OR').head(10)"
   ]
  },
  {
   "cell_type": "code",
   "execution_count": null,
   "metadata": {},
   "outputs": [],
   "source": [
    "FisherResults_full_filtered[(FisherResults_full_filtered['OR']>0)&(FisherResults_full_filtered['OR']<1)].sort_values(by='p').head(10)"
   ]
  },
  {
   "cell_type": "code",
   "execution_count": null,
   "metadata": {},
   "outputs": [],
   "source": [
    "FisherResults_full_filtered[FisherResults_full_filtered['OR']<1000].sort_values(by='OR',ascending=False).head(10)"
   ]
  },
  {
   "cell_type": "code",
   "execution_count": null,
   "metadata": {},
   "outputs": [],
   "source": [
    "FisherResults_full_filtered[FisherResults_full_filtered['OR']<1000].sort_values(by='p').head(10)"
   ]
  },
  {
   "cell_type": "code",
   "execution_count": null,
   "metadata": {},
   "outputs": [],
   "source": [
    "FisherResults_full_filtered.sort_values(by='OR').tail(10)"
   ]
  },
  {
   "cell_type": "markdown",
   "metadata": {},
   "source": [
    "#### 'type 2 associations' - species presence leads to sequence presence:\n",
    "no species, no sequence\n",
    "sp0seq0 is high, sp1seq1 might be high, sp1seq0 and sp0seq1 are rare\n",
    "\n",
    "OR>1\n",
    "\n"
   ]
  },
  {
   "cell_type": "code",
   "execution_count": null,
   "metadata": {},
   "outputs": [],
   "source": [
    "\n",
    "FisherResults_full_filtered[FisherResults_full_filtered['speciesPosSeqNeg']<40]"
   ]
  },
  {
   "cell_type": "code",
   "execution_count": null,
   "metadata": {},
   "outputs": [],
   "source": [
    "# look for associations in which there are no cases of sequences present when there is no species. sort them to show those cases\n",
    "# in which there are more seq-neg,species neg cases in comparison to seq-neg, spe-pos cases:\n",
    "FisherResults_full_filtered[(FisherResults_full_filtered['speciesNegSeqPos']==0)].sort_values(by='sp0seq0/sp1seq0', ascending=False).head(10)"
   ]
  },
  {
   "cell_type": "code",
   "execution_count": null,
   "metadata": {},
   "outputs": [],
   "source": [
    "print len(FisherResults_full_filtered[(FisherResults_full_filtered['speciesNegSeqPos']==0)])"
   ]
  },
  {
   "cell_type": "code",
   "execution_count": null,
   "metadata": {},
   "outputs": [],
   "source": [
    "#look for associations in which there are no cases of spe-pos,seq-neg:\n",
    "#there are no such cases\n",
    "FisherResults_full_filtered[(FisherResults_full_filtered['speciesPosSeqNeg']==0)]"
   ]
  },
  {
   "cell_type": "code",
   "execution_count": null,
   "metadata": {},
   "outputs": [],
   "source": [
    "# what is the maximal OR?\n",
    "pd.DataFrame(FisherResults_full_filtered['OR'].unique()).sort_values(by=0,ascending=False).head()"
   ]
  },
  {
   "cell_type": "code",
   "execution_count": null,
   "metadata": {},
   "outputs": [],
   "source": [
    "#look for assocaition with highest OR which is not inf:\n",
    "FisherResults_full_filtered[(FisherResults_full_filtered['OR']<14)&(FisherResults_full_filtered['OR']>10)]"
   ]
  },
  {
   "cell_type": "markdown",
   "metadata": {},
   "source": [
    "#### calculate the ratio between the two types:\n"
   ]
  },
  {
   "cell_type": "code",
   "execution_count": null,
   "metadata": {},
   "outputs": [],
   "source": [
    "type1_filtered= len(FisherResults_full_filtered[FisherResults_full_filtered['OR']<1])\n",
    "type1_filtered"
   ]
  },
  {
   "cell_type": "code",
   "execution_count": null,
   "metadata": {},
   "outputs": [],
   "source": [
    "type2_filtered= len(FisherResults_full_filtered[FisherResults_full_filtered['OR']>1])\n",
    "type2_filtered"
   ]
  },
  {
   "cell_type": "code",
   "execution_count": null,
   "metadata": {},
   "outputs": [],
   "source": [
    "ratio1_filtered=float(type1_filtered)*100/(type1_filtered+type2_filtered)\n",
    "ratio1_filtered"
   ]
  },
  {
   "cell_type": "code",
   "execution_count": null,
   "metadata": {},
   "outputs": [],
   "source": [
    "ratio2_filtered=float(type2_filtered)*100/(type1_filtered+type2_filtered)\n",
    "ratio2_filtered"
   ]
  },
  {
   "cell_type": "code",
   "execution_count": null,
   "metadata": {},
   "outputs": [],
   "source": [
    "FisherResults_full_filtered[FisherResults_full_filtered['OR']<1]['p'].mean()"
   ]
  },
  {
   "cell_type": "code",
   "execution_count": null,
   "metadata": {},
   "outputs": [],
   "source": [
    "FisherResults_full_filtered[FisherResults_full_filtered['OR']>1]['p'].mean()"
   ]
  },
  {
   "cell_type": "code",
   "execution_count": null,
   "metadata": {},
   "outputs": [],
   "source": []
  },
  {
   "cell_type": "markdown",
   "metadata": {},
   "source": [
    "### non filtered mb file:"
   ]
  },
  {
   "cell_type": "code",
   "execution_count": null,
   "metadata": {},
   "outputs": [],
   "source": [
    "#check number of tests with filtered file:\n",
    "with open('/net/mraid08/export/genie/Lab/Personal/ShaniBAF/TCR_real_data/PhenotypicData/Microbiome-TCR interactions/countTests_fisher_Mb_PNP434_metabolon2_notFiltered_TCRdf_pnp434_more50_50_100','rb') as fp:\n",
    "    countTestNotFiltered=pickle.load(fp)\n",
    "countTestNotFiltered    "
   ]
  },
  {
   "cell_type": "code",
   "execution_count": null,
   "metadata": {},
   "outputs": [],
   "source": [
    "file1='/net/mraid08/export/genie/Lab/Personal/ShaniBAF/TCR_real_data/PhenotypicData/Microbiome-TCR interactions/FisherResults_full_Mb_PNP434_metabolon2_notFiltered_TCRdf_pnp434_more50_seqsSharedMoreThan50_top100Species.xlsx'\n",
    "FisherResults_full_notFiltered=pd.read_excel(file1)"
   ]
  },
  {
   "cell_type": "code",
   "execution_count": null,
   "metadata": {},
   "outputs": [],
   "source": [
    "FisherResults_full_notFiltered.head()"
   ]
  },
  {
   "cell_type": "code",
   "execution_count": null,
   "metadata": {},
   "outputs": [],
   "source": [
    "print float(len(FisherResults_full_notFiltered))/countTestNotFiltered   "
   ]
  },
  {
   "cell_type": "code",
   "execution_count": null,
   "metadata": {},
   "outputs": [],
   "source": [
    "# look for species with the highest number of associated TCR sequences:\n",
    "FisherResults_full_notFiltered.groupby('species').seq.nunique().sort_values(ascending=False).head(10)"
   ]
  },
  {
   "cell_type": "code",
   "execution_count": null,
   "metadata": {},
   "outputs": [],
   "source": [
    "# look for TCR sequences with the highest number of associated species :\n",
    "FisherResults_full_notFiltered.groupby('seq').species.nunique().sort_values(ascending=False).head(10)"
   ]
  },
  {
   "cell_type": "markdown",
   "metadata": {},
   "source": [
    "#### add ratio columns:"
   ]
  },
  {
   "cell_type": "code",
   "execution_count": null,
   "metadata": {},
   "outputs": [],
   "source": [
    "FisherResults_full_notFiltered['sp0seq1/sp1seq1']=FisherResults_full_notFiltered['speciesNegSeqPos']/FisherResults_full_notFiltered['speciesPosSeqPos']"
   ]
  },
  {
   "cell_type": "code",
   "execution_count": null,
   "metadata": {},
   "outputs": [],
   "source": [
    "FisherResults_full_notFiltered['sp0seq0/sp1seq0']=FisherResults_full_notFiltered['speciesNegSeqNeg']/FisherResults_full_notFiltered['speciesPosSeqNeg']"
   ]
  },
  {
   "cell_type": "code",
   "execution_count": null,
   "metadata": {},
   "outputs": [],
   "source": [
    "file1='/net/mraid08/export/genie/Lab/Personal/ShaniBAF/TCR_real_data/PhenotypicData/Microbiome-TCR interactions/FisherResults_full_notFiltered.xlsx'\n",
    "FisherResults_full_notFiltered.to_excel(file1)"
   ]
  },
  {
   "cell_type": "markdown",
   "metadata": {},
   "source": [
    "#### 'type 1 associations' - sequence prevents species:\n",
    "sp0seq1 is high, sp1seq0 might be high, sp1seq0 is indifferent, sp1seq1 should be very low\n",
    "\n",
    "OR<1"
   ]
  },
  {
   "cell_type": "code",
   "execution_count": null,
   "metadata": {},
   "outputs": [],
   "source": [
    "\n",
    "FisherResults_full_notFiltered[FisherResults_full_notFiltered['speciesPosSeqPos']<8]"
   ]
  },
  {
   "cell_type": "code",
   "execution_count": null,
   "metadata": {},
   "outputs": [],
   "source": [
    "\n",
    "FisherResults_full_notFiltered[(FisherResults_full_notFiltered['speciesPosSeqPos']<10)&(FisherResults_full_notFiltered['OR']<0.3)]"
   ]
  },
  {
   "cell_type": "code",
   "execution_count": null,
   "metadata": {},
   "outputs": [],
   "source": [
    "FisherResults_full_notFiltered.sort_values(by='OR').head(10)"
   ]
  },
  {
   "cell_type": "code",
   "execution_count": null,
   "metadata": {},
   "outputs": [],
   "source": [
    "FisherResults_full_notFiltered.sort_values(by='OR').tail()"
   ]
  },
  {
   "cell_type": "code",
   "execution_count": null,
   "metadata": {},
   "outputs": [],
   "source": [
    "FisherResults_full_notFiltered[FisherResults_full_notFiltered['OR']<1].sort_values(by='p').head(10)"
   ]
  },
  {
   "cell_type": "markdown",
   "metadata": {},
   "source": [
    "#### 'type 2 associations' - species presence leads to sequence presence:\n",
    "no species, no sequence\n",
    "sp0seq0 is high, sp1seq1 might be high, sp1seq0 and sp0seq1 are rare\n",
    "\n",
    "OR>1\n",
    "\n"
   ]
  },
  {
   "cell_type": "code",
   "execution_count": null,
   "metadata": {},
   "outputs": [],
   "source": [
    "\n",
    "FisherResults_full_notFiltered[FisherResults_full_notFiltered['speciesPosSeqNeg']<40]"
   ]
  },
  {
   "cell_type": "code",
   "execution_count": null,
   "metadata": {},
   "outputs": [],
   "source": [
    "# look for associations in which there are no cases of sequences present when there is no species. sort them to show those cases\n",
    "# in which there are more seq-neg,species neg cases in comparison to seq-neg, spe-pos cases:\n",
    "FisherResults_full_notFiltered[(FisherResults_full_notFiltered['speciesNegSeqPos']==0)].sort_values(by='sp0seq0/sp1seq0', ascending=False).head(10)"
   ]
  },
  {
   "cell_type": "code",
   "execution_count": null,
   "metadata": {},
   "outputs": [],
   "source": [
    "print len(FisherResults_full_notFiltered[(FisherResults_full_notFiltered['speciesNegSeqPos']==0)])"
   ]
  },
  {
   "cell_type": "code",
   "execution_count": null,
   "metadata": {},
   "outputs": [],
   "source": [
    "#look for associations in which there are no cases of spe-pos,seq-neg:\n",
    "#there are no such cases\n",
    "FisherResults_full_notFiltered[(FisherResults_full_notFiltered['speciesPosSeqNeg']==0)]"
   ]
  },
  {
   "cell_type": "code",
   "execution_count": null,
   "metadata": {},
   "outputs": [],
   "source": [
    "# what is the maximal OR?\n",
    "pd.DataFrame(FisherResults_full_notFiltered['OR'].unique()).sort_values(by=0,ascending=False).head()"
   ]
  },
  {
   "cell_type": "code",
   "execution_count": null,
   "metadata": {},
   "outputs": [],
   "source": [
    "#look for assocaition with highest OR which is not inf:\n",
    "FisherResults_full_notFiltered[(FisherResults_full_notFiltered['OR']<14)&(FisherResults_full_notFiltered['OR']>10)]"
   ]
  },
  {
   "cell_type": "code",
   "execution_count": null,
   "metadata": {},
   "outputs": [],
   "source": [
    "FisherResults_full_notFiltered[FisherResults_full_notFiltered['OR']>1].sort_values(by='p').head(10)"
   ]
  },
  {
   "cell_type": "markdown",
   "metadata": {},
   "source": [
    "#### calculate the ratio between the two types:\n"
   ]
  },
  {
   "cell_type": "code",
   "execution_count": null,
   "metadata": {},
   "outputs": [],
   "source": [
    "type1_notFiltered= len(FisherResults_full_notFiltered[FisherResults_full_notFiltered['OR']<1])\n",
    "type1_notFiltered"
   ]
  },
  {
   "cell_type": "code",
   "execution_count": null,
   "metadata": {},
   "outputs": [],
   "source": [
    "type2_notFiltered= len(FisherResults_full_notFiltered[FisherResults_full_notFiltered['OR']>1])\n",
    "type2_notFiltered"
   ]
  },
  {
   "cell_type": "code",
   "execution_count": null,
   "metadata": {},
   "outputs": [],
   "source": [
    "ratio1_notFiltered=float(type1_notFiltered)*100/(type1_notFiltered+type2_notFiltered)\n",
    "ratio1_notFiltered"
   ]
  },
  {
   "cell_type": "code",
   "execution_count": null,
   "metadata": {},
   "outputs": [],
   "source": [
    "ratio2_notFiltered=float(type2_notFiltered)*100/(type1_notFiltered+type2_notFiltered)\n",
    "ratio2_notFiltered"
   ]
  },
  {
   "cell_type": "code",
   "execution_count": null,
   "metadata": {},
   "outputs": [],
   "source": [
    "FisherResults_full_notFiltered[FisherResults_full_notFiltered['OR']<1]['p'].mean()"
   ]
  },
  {
   "cell_type": "code",
   "execution_count": null,
   "metadata": {},
   "outputs": [],
   "source": [
    "FisherResults_full_notFiltered[FisherResults_full_notFiltered['OR']>1]['p'].mean()"
   ]
  },
  {
   "cell_type": "code",
   "execution_count": null,
   "metadata": {},
   "outputs": [],
   "source": []
  },
  {
   "cell_type": "code",
   "execution_count": null,
   "metadata": {},
   "outputs": [],
   "source": []
  },
  {
   "cell_type": "markdown",
   "metadata": {},
   "source": [
    "# RA TCR x RA mb species"
   ]
  },
  {
   "cell_type": "markdown",
   "metadata": {},
   "source": [
    "## run test for non-filtered Mb file:"
   ]
  },
  {
   "cell_type": "code",
   "execution_count": null,
   "metadata": {
    "scrolled": true
   },
   "outputs": [],
   "source": [
    "###use the TCRdf_RA file this time!\n",
    "\n",
    "MbDF=Mb_PNP434_notFiltered\n",
    "MbDFName='Mb_PNP434_metabolon2_notFiltered'\n",
    "TCRdf_RA=sharingMatrix_moreThan50_434Samples_RA\n",
    "TCRdfName='TCRdf_pnp434_more50_RA'\n",
    "NsharedSamplesForSeqs=50\n",
    "topNspecies=100\n",
    "\n",
    "find_associations_TCR_RA_MBspecies_RA(MbDF, MbDFName,TCRdf_RA, TCRdfName,NsharedSamplesForSeqs=50,topNspecies=100,outlierSTD=3)\n"
   ]
  },
  {
   "cell_type": "markdown",
   "metadata": {},
   "source": [
    "## run test for for swab and minimal reads filtered file:"
   ]
  },
  {
   "cell_type": "code",
   "execution_count": null,
   "metadata": {
    "scrolled": true
   },
   "outputs": [],
   "source": [
    "###use the TCRdf_RA file this time!\n",
    "\n",
    "MbDF=Mb_PNP434_onlySwabs_only9Mreads\n",
    "MbDFName='Mb_PNP434_metabolon2_onlySwabs_only9Mreads'\n",
    "TCRdf_RA=sharingMatrix_moreThan50_434Samples_RA\n",
    "TCRdfName='TCRdf_pnp434_more50_RA'\n",
    "NsharedSamplesForSeqs=50\n",
    "topNspecies=100\n",
    "\n",
    "find_associations_TCR_RA_MBspecies_RA(MbDF, MbDFName,TCRdf_RA, TCRdfName,NsharedSamplesForSeqs=50,topNspecies=100,outlierSTD=3)\n"
   ]
  },
  {
   "cell_type": "markdown",
   "metadata": {},
   "source": [
    "## explore results:"
   ]
  },
  {
   "cell_type": "markdown",
   "metadata": {},
   "source": [
    "## filtered Mb:"
   ]
  },
  {
   "cell_type": "code",
   "execution_count": null,
   "metadata": {},
   "outputs": [],
   "source": [
    "\n",
    "file1='/net/mraid08/export/genie/Lab/Personal/ShaniBAF/TCR_real_data/PhenotypicData/Microbiome-TCR interactions/PearsonResults_full_Mb_PNP434_metabolon2_onlySwabs_only9Mreads_TCRdf_pnp434_more50_RA_seqsSharedMoreThan50_top100Species_outlierSTD3.xlsx'\n",
    "Pearson_filtered=pd.read_excel(file1)"
   ]
  },
  {
   "cell_type": "code",
   "execution_count": null,
   "metadata": {},
   "outputs": [],
   "source": [
    "#check number of tests with filtered file:\n",
    "with open('/net/mraid08/export/genie/Lab/Personal/ShaniBAF/TCR_real_data/PhenotypicData/Microbiome-TCR interactions/countTests_pearson_Mb_PNP434_metabolon2_onlySwabs_only9Mreads_TCRdf_pnp434_more50_RA_50_100_3' , 'rb') as fp:\n",
    "    countTestPearsonFiltered=pickle.load(fp)\n",
    "countTestPearsonFiltered    "
   ]
  },
  {
   "cell_type": "code",
   "execution_count": null,
   "metadata": {},
   "outputs": [],
   "source": [
    "df=Pearson_filtered\n",
    "df.head()"
   ]
  },
  {
   "cell_type": "code",
   "execution_count": null,
   "metadata": {},
   "outputs": [],
   "source": [
    "print len(df[df['Sig by bonferroni corrected pVal']==1])"
   ]
  },
  {
   "cell_type": "code",
   "execution_count": null,
   "metadata": {},
   "outputs": [],
   "source": [
    "print len(df[df['sig. by FDR=0.00022']==1])"
   ]
  },
  {
   "cell_type": "code",
   "execution_count": null,
   "metadata": {},
   "outputs": [],
   "source": [
    "print len(df[df['sig. by FDR=0.01']==1])"
   ]
  },
  {
   "cell_type": "code",
   "execution_count": null,
   "metadata": {},
   "outputs": [],
   "source": [
    "# look for species with the highest number of associated TCR sequences:\n",
    "df.groupby('species').seq.nunique().sort_values(ascending=False).head(10)"
   ]
  },
  {
   "cell_type": "code",
   "execution_count": null,
   "metadata": {},
   "outputs": [],
   "source": [
    "# look for TCR sequences with the highest number of associated species :\n",
    "df.groupby('seq').species.nunique().sort_values(ascending=False).head(10)"
   ]
  },
  {
   "cell_type": "markdown",
   "metadata": {},
   "source": [
    "### type 1 and type 2 associations:"
   ]
  },
  {
   "cell_type": "code",
   "execution_count": null,
   "metadata": {},
   "outputs": [],
   "source": [
    "type1= len(df[df['r']<0])\n",
    "type1"
   ]
  },
  {
   "cell_type": "code",
   "execution_count": null,
   "metadata": {},
   "outputs": [],
   "source": [
    "type2= len(df[df['r']>0])\n",
    "type2"
   ]
  },
  {
   "cell_type": "code",
   "execution_count": null,
   "metadata": {},
   "outputs": [],
   "source": [
    "ratio1=float(type1)*100/(type1+type2)\n",
    "ratio1"
   ]
  },
  {
   "cell_type": "code",
   "execution_count": null,
   "metadata": {},
   "outputs": [],
   "source": [
    "ratio2=float(type2)*100/(type1+type2)\n",
    "ratio2"
   ]
  },
  {
   "cell_type": "code",
   "execution_count": null,
   "metadata": {},
   "outputs": [],
   "source": [
    "df[df['r']<0]['p'].mean()"
   ]
  },
  {
   "cell_type": "code",
   "execution_count": null,
   "metadata": {},
   "outputs": [],
   "source": [
    "df[df['r']>0]['p'].mean()"
   ]
  },
  {
   "cell_type": "markdown",
   "metadata": {},
   "source": [
    "### most significant 'p's and 'r's:"
   ]
  },
  {
   "cell_type": "code",
   "execution_count": null,
   "metadata": {},
   "outputs": [],
   "source": [
    "df[df['r']>0].sort_values(by='p').head(10)"
   ]
  },
  {
   "cell_type": "code",
   "execution_count": null,
   "metadata": {},
   "outputs": [],
   "source": [
    "df[df['r']<0].sort_values(by='p').head(10)"
   ]
  },
  {
   "cell_type": "code",
   "execution_count": null,
   "metadata": {},
   "outputs": [],
   "source": [
    "df.sort_values(by='r').head(10)"
   ]
  },
  {
   "cell_type": "code",
   "execution_count": null,
   "metadata": {},
   "outputs": [],
   "source": [
    "df.sort_values(by='r',ascending=False).head(10)"
   ]
  },
  {
   "cell_type": "code",
   "execution_count": null,
   "metadata": {},
   "outputs": [],
   "source": []
  },
  {
   "cell_type": "markdown",
   "metadata": {},
   "source": [
    "### check manually some results:\n"
   ]
  },
  {
   "cell_type": "code",
   "execution_count": null,
   "metadata": {},
   "outputs": [],
   "source": [
    "seq='CASSVGQGAYEQYF'\n",
    "species='Lachnospiraceae_bacterium_5_1_63FAA'\n",
    "\n",
    "\n",
    "MbDF=Mb_PNP434_onlySwabs_only9Mreads\n",
    "TCRdfRA=sharingMatrix_moreThan50_434Samples_RA\n",
    "\n",
    "check_seq_species_relations_sns(TCRdfRA,MbDF,seq, species, color_binary=True)\n"
   ]
  },
  {
   "cell_type": "code",
   "execution_count": null,
   "metadata": {},
   "outputs": [],
   "source": [
    "seq='CASSLQVNTEAFF'\n",
    "species='Clostridium_bolteae'\n",
    "\n",
    "\n",
    "MbDF=Mb_PNP434_onlySwabs_only9Mreads\n",
    "TCRdfRA=sharingMatrix_moreThan50_434Samples_RA\n",
    "\n",
    "check_seq_species_relations_sns(TCRdfRA,MbDF,seq, species, color_binary=True)\n"
   ]
  },
  {
   "cell_type": "code",
   "execution_count": null,
   "metadata": {},
   "outputs": [],
   "source": [
    "seq='CSAREREYEQYF'\n",
    "species='Clostridium_bartlettii'\n",
    "\n",
    "\n",
    "MbDF=Mb_PNP434_onlySwabs_only9Mreads\n",
    "TCRdfRA=sharingMatrix_moreThan50_434Samples_RA\n",
    "\n",
    "check_seq_species_relations_sns(TCRdfRA,MbDF,seq, species, color_binary=True)\n"
   ]
  },
  {
   "cell_type": "code",
   "execution_count": null,
   "metadata": {},
   "outputs": [],
   "source": [
    "seq='CASSLTSGSTDTQYF'\n",
    "species='Sutterella_wadsworthensis'\n",
    "\n",
    "\n",
    "MbDF=Mb_PNP434_onlySwabs_only9Mreads\n",
    "TCRdfRA=sharingMatrix_moreThan50_434Samples_RA\n",
    "\n",
    "check_seq_species_relations_sns(TCRdfRA,MbDF,seq, species, color_binary=True)\n"
   ]
  },
  {
   "cell_type": "code",
   "execution_count": null,
   "metadata": {},
   "outputs": [],
   "source": [
    "seq='CASSLRGNEQFF'\n",
    "species='Streptococcus_salivarius'\n",
    "\n",
    "\n",
    "MbDF=Mb_PNP434_onlySwabs_only9Mreads\n",
    "TCRdfRA=sharingMatrix_moreThan50_434Samples_RA\n",
    "\n",
    "check_seq_species_relations_sns(TCRdfRA,MbDF,seq, species, color_binary=True)\n"
   ]
  },
  {
   "cell_type": "code",
   "execution_count": null,
   "metadata": {},
   "outputs": [],
   "source": [
    "seq='CASSPSGANVLTF'\n",
    "species='Bifidobacterium_longum'\n",
    "\n",
    "\n",
    "MbDF=Mb_PNP434_onlySwabs_only9Mreads\n",
    "TCRdfRA=sharingMatrix_moreThan50_434Samples_RA\n",
    "\n",
    "check_seq_species_relations_sns(TCRdfRA,MbDF,seq, species, color_binary=True)\n"
   ]
  },
  {
   "cell_type": "code",
   "execution_count": null,
   "metadata": {},
   "outputs": [],
   "source": [
    "seq='CASSPSGANVLTF'\n",
    "species='Bifidobacterium_longum'\n",
    "\n",
    "\n",
    "MbDF=Mb_PNP434_onlySwabs_only9Mreads\n",
    "TCRdfRA=sharingMatrix_moreThan50_434Samples_RA\n",
    "\n",
    "check_seq_species_relations_sns(TCRdfRA,MbDF,seq, species, color_binary=True)\n"
   ]
  },
  {
   "cell_type": "code",
   "execution_count": null,
   "metadata": {},
   "outputs": [],
   "source": [
    "seq='CASSLGGGYNEQFF'\n",
    "species='Parabacteroides_merdae'\n",
    "\n",
    "\n",
    "MbDF=Mb_PNP434_onlySwabs_only9Mreads\n",
    "TCRdfRA=sharingMatrix_moreThan50_434Samples_RA\n",
    "\n",
    "check_seq_species_relations_sns(TCRdfRA,MbDF,seq, species, color_binary=True)\n"
   ]
  },
  {
   "cell_type": "code",
   "execution_count": null,
   "metadata": {},
   "outputs": [],
   "source": [
    "seq='CASSPGGNYGYTF'\n",
    "species='Collinsella_aerofaciens'\n",
    "\n",
    "\n",
    "MbDF=Mb_PNP434_onlySwabs_only9Mreads\n",
    "TCRdfRA=sharingMatrix_moreThan50_434Samples_RA\n",
    "\n",
    "check_seq_species_relations_sns(TCRdfRA,MbDF,seq, species, color_binary=True)\n"
   ]
  },
  {
   "cell_type": "code",
   "execution_count": null,
   "metadata": {},
   "outputs": [],
   "source": [
    "seq='CASSFGGTEAFF'\n",
    "species='Roseburia_inulinivorans'\n",
    "\n",
    "\n",
    "MbDF=Mb_PNP434_onlySwabs_only9Mreads\n",
    "TCRdfRA=sharingMatrix_moreThan50_434Samples_RA\n",
    "\n",
    "check_seq_species_relations_sns(TCRdfRA,MbDF,seq, species, color_binary=True)\n"
   ]
  },
  {
   "cell_type": "code",
   "execution_count": null,
   "metadata": {},
   "outputs": [],
   "source": [
    "seq='CASSRGNTEAFF'\n",
    "species='Dorea_formicigenerans'\n",
    "\n",
    "\n",
    "MbDF=Mb_PNP434_onlySwabs_only9Mreads\n",
    "TCRdfRA=sharingMatrix_moreThan50_434Samples_RA\n",
    "\n",
    "check_seq_species_relations_sns(TCRdfRA,MbDF,seq, species, color_binary=True)\n"
   ]
  },
  {
   "cell_type": "code",
   "execution_count": null,
   "metadata": {},
   "outputs": [],
   "source": [
    "seq='CASSSGDTQYF'\n",
    "species='Dorea_formicigenerans'\n",
    "\n",
    "\n",
    "MbDF=Mb_PNP434_onlySwabs_only9Mreads\n",
    "TCRdfRA=sharingMatrix_moreThan50_434Samples_RA\n",
    "\n",
    "check_seq_species_relations_sns(TCRdfRA,MbDF,seq, species, color_binary=True)\n"
   ]
  },
  {
   "cell_type": "code",
   "execution_count": null,
   "metadata": {},
   "outputs": [],
   "source": [
    "seq='CASSQSYEQYF'\n",
    "species='Eubacterium_hallii'\n",
    "\n",
    "\n",
    "MbDF=Mb_PNP434_onlySwabs_only9Mreads\n",
    "TCRdfRA=sharingMatrix_moreThan50_434Samples_RA\n",
    "\n",
    "check_seq_species_relations_sns(TCRdfRA,MbDF,seq, species, color_binary=True)\n"
   ]
  },
  {
   "cell_type": "code",
   "execution_count": null,
   "metadata": {},
   "outputs": [],
   "source": [
    "seq='CASSLGQGYGYTF'\n",
    "species='Alistipes_shahii'\n",
    "\n",
    "\n",
    "MbDF=Mb_PNP434_onlySwabs_only9Mreads\n",
    "TCRdfRA=sharingMatrix_moreThan50_434Samples_RA\n",
    "\n",
    "check_seq_species_relations_sns(TCRdfRA,MbDF,seq, species, color_binary=True)\n"
   ]
  },
  {
   "cell_type": "code",
   "execution_count": null,
   "metadata": {},
   "outputs": [],
   "source": [
    "seq='CASSPYQETQYF'\n",
    "species='Erysipelotrichaceae_bacterium_6_1_45'\n",
    "\n",
    "\n",
    "MbDF=Mb_PNP434_onlySwabs_only9Mreads\n",
    "TCRdfRA=sharingMatrix_moreThan50_434Samples_RA\n",
    "\n",
    "check_seq_species_relations_sns(TCRdfRA,MbDF,seq, species, color_binary=True)\n"
   ]
  },
  {
   "cell_type": "code",
   "execution_count": null,
   "metadata": {},
   "outputs": [],
   "source": [
    "seq='CASSPYQETQYF'\n",
    "species='Bacteroides_intestinalis'\n",
    "\n",
    "\n",
    "MbDF=Mb_PNP434_onlySwabs_only9Mreads\n",
    "TCRdfRA=sharingMatrix_moreThan50_434Samples_RA\n",
    "\n",
    "check_seq_species_relations_sns(TCRdfRA,MbDF,seq, species, color_binary=True)\n"
   ]
  },
  {
   "cell_type": "markdown",
   "metadata": {},
   "source": [
    "# merge result files:"
   ]
  },
  {
   "cell_type": "code",
   "execution_count": null,
   "metadata": {},
   "outputs": [],
   "source": [
    "#load pearson results:\n",
    "file1='/net/mraid08/export/genie/Lab/Personal/ShaniBAF/TCR_real_data/PhenotypicData/Microbiome-TCR interactions/PearsonResults_full_Mb_PNP434_metabolon2_onlySwabs_only9Mreads_TCRdf_pnp434_more50_RA_seqsSharedMoreThan50_top100Species_outlierSTD3.xlsx'\n",
    "Pearson_filtered=pd.read_excel(file1)\n",
    "print len(Pearson_filtered)\n",
    "Pearson_filtered.head()"
   ]
  },
  {
   "cell_type": "code",
   "execution_count": null,
   "metadata": {},
   "outputs": [],
   "source": [
    "#load fisher results:\n",
    "file1='/net/mraid08/export/genie/Lab/Personal/ShaniBAF/TCR_real_data/PhenotypicData/Microbiome-TCR interactions/FisherResults_full_Mb_PNP434_metabolon2_onlySwabs_only9Mreads_TCRdf_pnp434_more50_seqsSharedMoreThan50_top100Species.xlsx'\n",
    "FisherResults_full_filtered=pd.read_excel(file1)\n",
    "print len(FisherResults_full_filtered)\n",
    "FisherResults_full_filtered.head()"
   ]
  },
  {
   "cell_type": "code",
   "execution_count": null,
   "metadata": {},
   "outputs": [],
   "source": [
    "#merge:\n",
    "merged_fisher_pearson=pd.merge(Pearson_filtered,\n",
    "                               FisherResults_full_filtered,how='inner',\n",
    "                              left_on=('species','seq'),right_on=('species','seq'))\n",
    "print len(merged_fisher_pearson)\n",
    "for column in merged_fisher_pearson:\n",
    "    newColumn=column.replace('_x','_pearson')\n",
    "    newColumn=newColumn.replace('_y','_Fisher')\n",
    "    merged_fisher_pearson=merged_fisher_pearson.rename(columns={column:newColumn})\n",
    "merged_fisher_pearson=merged_fisher_pearson.sort_values(by='p_pearson')\n",
    "merged_fisher_pearson.head()"
   ]
  },
  {
   "cell_type": "code",
   "execution_count": null,
   "metadata": {},
   "outputs": [],
   "source": [
    "file1='/net/mraid08/export/genie/Lab/Personal/ShaniBAF/TCR_real_data/PhenotypicData/Microbiome-TCR interactions/merged_fisher_pearson_seqMoreThan50_top100speciesFiltered_.xlsx'\n",
    "merged_fisher_pearson.to_excel(file1)"
   ]
  },
  {
   "cell_type": "markdown",
   "metadata": {},
   "source": [
    "## generate a figure with result examples:\n",
    "2 for negative correlations (sig. in both pearson and Fisher)\n",
    "2 for positive correlations (sig. in both pearson and Fisher)\n",
    "two for non-significant correlations"
   ]
  },
  {
   "cell_type": "code",
   "execution_count": null,
   "metadata": {},
   "outputs": [],
   "source": [
    "color_binary=True\n",
    "posSeqList=['CASSLTSGSTDTQYF','CASSLEDTQYF']\n",
    "posSpeciesList=['Sutterella_wadsworthensis','Bacteroides_salyersiae']\n",
    "negSeqList=['CASSPGGNYGYTF','CASSITDTQYF']\n",
    "negSpeciesList=['Collinsella_aerofaciens','Barnesiella_intestinihominis']\n",
    "uncorrelatedSeqList=['CASSSDSYEQYF','CASSSDSYEQYF']\n",
    "uncorrelatedSpeciesList=['Alistipes_finegoldii','Parabacteroides_distasonis']\n",
    "\n",
    "MbDF=Mb_PNP434_onlySwabs_only9Mreads\n",
    "TCRdf_RA=sharingMatrix_moreThan50_434Samples_RA\n",
    "\n",
    "fig, axes=plt.subplots(nrows=2, ncols=3,figsize=(20,10))\n",
    "\n",
    "ax=axes[0,0]\n",
    "seq=posSeqList[0]\n",
    "species=posSpeciesList[0]\n",
    "plot_seq_species_scatter(MbDF,TCRdf_RA,ax, seq, species, color_binary)\n",
    "ax.set_title('Positive correlation', fontsize=20)\n",
    "                         \n",
    "ax=axes[1,0]\n",
    "seq=posSeqList[1]\n",
    "species=posSpeciesList[1]\n",
    "plot_seq_species_scatter(MbDF,TCRdf_RA,ax, seq, species, color_binary)\n",
    "\n",
    "ax=axes[0,1]\n",
    "seq=negSeqList[0]\n",
    "species=negSpeciesList[0]\n",
    "plot_seq_species_scatter(MbDF,TCRdf_RA,ax, seq, species, color_binary)\n",
    "ax.set_title('Negative correlation', fontsize=20)\n",
    "\n",
    "ax=axes[1,1]\n",
    "seq=negSeqList[1]\n",
    "species=negSpeciesList[1]\n",
    "plot_seq_species_scatter(MbDF,TCRdf_RA,ax, seq, species, color_binary)\n",
    "                         \n",
    "ax=axes[0,2]\n",
    "seq=uncorrelatedSeqList[0]\n",
    "species=uncorrelatedSpeciesList[0]\n",
    "plot_seq_species_scatter(MbDF,TCRdf_RA,ax, seq, species, color_binary)\n",
    "ax.set_title('No correlation', fontsize=20)\n",
    "\n",
    "ax=axes[1,2]\n",
    "seq=uncorrelatedSeqList[1]\n",
    "species=uncorrelatedSpeciesList[1]\n",
    "plot_seq_species_scatter(MbDF,TCRdf_RA,ax, seq, species, color_binary)\n",
    "\n",
    "plt.subplots_adjust(left=0.02, bottom=None, right=0.99, top=0.84,\n",
    "                wspace=0.2, hspace=0.25)\n",
    "plt.show()\n"
   ]
  },
  {
   "cell_type": "code",
   "execution_count": null,
   "metadata": {},
   "outputs": [],
   "source": [
    "color_binary=True\n",
    "posSeqList=['CASSLTSGSTDTQYF','CASSLEDTQYF']\n",
    "posSpeciesList=['Sutterella_wadsworthensis','Bacteroides_salyersiae']\n",
    "negSeqList=['CASSPGGNYGYTF','CASSITDTQYF']\n",
    "negSpeciesList=['Collinsella_aerofaciens','Barnesiella_intestinihominis']\n",
    "\n",
    "\n",
    "MbDF=Mb_PNP434_onlySwabs_only9Mreads\n",
    "TCRdf_RA=sharingMatrix_moreThan50_434Samples_RA\n",
    "\n",
    "fig, axes=plt.subplots(nrows=2, ncols=2,figsize=(14,10))\n",
    "\n",
    "ax=axes[0,0]\n",
    "seq=posSeqList[0]\n",
    "species=posSpeciesList[0]\n",
    "plot_seq_species_scatter(MbDF,TCRdf_RA,ax, seq, species, color_binary)\n",
    "ax.set_title('Positive correlation', fontsize=26)\n",
    "ax.yaxis.label.set_size(18)\n",
    "ax.xaxis.label.set_size(18)\n",
    "                         \n",
    "ax=axes[1,0]\n",
    "seq=posSeqList[1]\n",
    "species=posSpeciesList[1]\n",
    "plot_seq_species_scatter(MbDF,TCRdf_RA,ax, seq, species, color_binary)\n",
    "ax.yaxis.label.set_size(18)\n",
    "ax.xaxis.label.set_size(18)\n",
    "\n",
    "ax=axes[0,1]\n",
    "seq=negSeqList[0]\n",
    "species=negSpeciesList[0]\n",
    "plot_seq_species_scatter(MbDF,TCRdf_RA,ax, seq, species, color_binary)\n",
    "ax.set_title('Negative correlation', fontsize=26)\n",
    "ax.yaxis.label.set_size(18)\n",
    "ax.xaxis.label.set_size(18)\n",
    "\n",
    "ax=axes[1,1]\n",
    "seq=negSeqList[1]\n",
    "species=negSpeciesList[1]\n",
    "plot_seq_species_scatter(MbDF,TCRdf_RA,ax, seq, species, color_binary)\n",
    "ax.yaxis.label.set_size(18)\n",
    "ax.xaxis.label.set_size(18)\n",
    "                         \n",
    "\n",
    "plt.subplots_adjust(left=0.02, bottom=None, right=0.99, top=0.8,\n",
    "                wspace=0.22, hspace=0.3)\n",
    "plt.show()\n"
   ]
  },
  {
   "cell_type": "markdown",
   "metadata": {},
   "source": [
    "## add identity information to the table:"
   ]
  },
  {
   "cell_type": "code",
   "execution_count": null,
   "metadata": {},
   "outputs": [],
   "source": [
    "file1='/net/mraid08/export/genie/Lab/Personal/ShaniBAF/TCR_real_data/PhenotypicData/Microbiome-TCR interactions/merged_fisher_pearson_seqMoreThan50_top100speciesFiltered_.xlsx'\n",
    "merged_fisher_pearson=pd.read_excel(file1)\n",
    "merged_fisher_pearson.head()"
   ]
  },
  {
   "cell_type": "code",
   "execution_count": null,
   "metadata": {},
   "outputs": [],
   "source": [
    "file1= '/net/mraid08/export/genie/Lab/Personal/ShaniBAF/TCR CDR3 sequence databases/CDR3identityTable_22022018'\n",
    "CDR3identityTable=pd.read_pickle(file1)\n",
    "CDR3identityTable.head()"
   ]
  },
  {
   "cell_type": "code",
   "execution_count": null,
   "metadata": {},
   "outputs": [],
   "source": [
    "merged_fisher_pearson_withIdentity=pd.merge(merged_fisher_pearson,CDR3identityTable,how='left',\n",
    "                                           left_on='seq',right_index=True)\n",
    "print len(merged_fisher_pearson)\n",
    "print len(CDR3identityTable)\n",
    "print len(merged_fisher_pearson_withIdentity)\n",
    "merged_fisher_pearson_withIdentity.head()"
   ]
  },
  {
   "cell_type": "code",
   "execution_count": null,
   "metadata": {},
   "outputs": [],
   "source": [
    "merged_fisher_pearson_withIdentity[merged_fisher_pearson_withIdentity['Epitope species_VDJDB'].notnull()].head()"
   ]
  },
  {
   "cell_type": "code",
   "execution_count": null,
   "metadata": {},
   "outputs": [],
   "source": [
    "file1='/net/mraid08/export/genie/Lab/Personal/ShaniBAF/TCR_real_data/PhenotypicData/Microbiome-TCR interactions/merged_fisher_pearson_withIdentity_filteredMb'\n",
    "merged_fisher_pearson_withIdentity.to_pickle(file1)\n",
    "\n",
    "file2='/net/mraid08/export/genie/Lab/Personal/ShaniBAF/TCR_real_data/PhenotypicData/Microbiome-TCR interactions/merged_fisher_pearson_withIdentity_filteredMb.xlsx'\n",
    "merged_fisher_pearson_withIdentity.to_excel(file2)\n",
    "\n"
   ]
  },
  {
   "cell_type": "markdown",
   "metadata": {},
   "source": [
    "### figures for pairs identified by the merged analysis and TCR identity:"
   ]
  },
  {
   "cell_type": "code",
   "execution_count": null,
   "metadata": {},
   "outputs": [],
   "source": [
    "seq='CASSRLAGGTDTQYF'\n",
    "species='Clostridium_leptum'\n",
    "\n",
    "\n",
    "MbDF=Mb_PNP434_onlySwabs_only9Mreads\n",
    "TCRdfRA=sharingMatrix_moreThan50_434Samples_RA\n",
    "\n",
    "check_seq_species_relations_sns(TCRdfRA,MbDF,seq, species, color_binary=True)\n"
   ]
  },
  {
   "cell_type": "code",
   "execution_count": null,
   "metadata": {},
   "outputs": [],
   "source": [
    "seq='CASSRLAGGTDTQYF'\n",
    "species='Clostridium_leptum'\n",
    "MbDF=Mb_PNP434_onlySwabs_only9Mreads\n",
    "TCRdf_RA=sharingMatrix_moreThan50_434Samples_RA\n",
    "fig,ax=plt.subplots()\n",
    "\n",
    "plot_seq_species_scatter(MbDF,TCRdf_RA,ax, seq, species, color_binary)\n",
    "ax.yaxis.label.set_size(18)\n",
    "ax.xaxis.label.set_size(18)\n",
    "plt.show()"
   ]
  },
  {
   "cell_type": "code",
   "execution_count": null,
   "metadata": {
    "scrolled": true
   },
   "outputs": [],
   "source": [
    "seq='CASSPYQETQYF'\n",
    "species='Streptococcus_salivarius'\n",
    "\n",
    "\n",
    "MbDF=Mb_PNP434_onlySwabs_only9Mreads\n",
    "TCRdfRA=sharingMatrix_moreThan50_434Samples_RA\n",
    "\n",
    "check_seq_species_relations_sns(TCRdfRA,MbDF,seq, species, color_binary=True)\n",
    "ax.yaxis.label.set_size(18)\n",
    "ax.xaxis.label.set_size(18)\n"
   ]
  },
  {
   "cell_type": "code",
   "execution_count": null,
   "metadata": {},
   "outputs": [],
   "source": [
    "seq='CASSPYQETQYF'\n",
    "species='Streptococcus_salivarius'\n",
    "MbDF=Mb_PNP434_onlySwabs_only9Mreads\n",
    "TCRdf_RA=sharingMatrix_moreThan50_434Samples_RA\n",
    "fig,ax=plt.subplots()\n",
    "\n",
    "plot_seq_species_scatter(MbDF,TCRdf_RA,ax, seq, species, color_binary)\n",
    "ax.yaxis.label.set_size(22)\n",
    "ax.xaxis.label.set_size(22)\n",
    "plt.show()"
   ]
  },
  {
   "cell_type": "code",
   "execution_count": null,
   "metadata": {
    "scrolled": true
   },
   "outputs": [],
   "source": [
    "seq='CASSPGTGELFF'\n",
    "species='Veillonella_unclassified'\n",
    "\n",
    "\n",
    "MbDF=Mb_PNP434_onlySwabs_only9Mreads\n",
    "TCRdfRA=sharingMatrix_moreThan50_434Samples_RA\n",
    "\n",
    "check_seq_species_relations_sns(TCRdfRA,MbDF,seq, species, color_binary=True)\n"
   ]
  },
  {
   "cell_type": "code",
   "execution_count": null,
   "metadata": {},
   "outputs": [],
   "source": [
    "seq='CASSPGTGELFF'\n",
    "species='Veillonella_unclassified'\n",
    "MbDF=Mb_PNP434_onlySwabs_only9Mreads\n",
    "TCRdf_RA=sharingMatrix_moreThan50_434Samples_RA\n",
    "fig,ax=plt.subplots()\n",
    "\n",
    "plot_seq_species_scatter(MbDF,TCRdf_RA,ax, seq, species, color_binary)\n",
    "ax.yaxis.label.set_size(22)\n",
    "ax.xaxis.label.set_size(22)\n",
    "plt.show()"
   ]
  },
  {
   "cell_type": "code",
   "execution_count": null,
   "metadata": {},
   "outputs": [],
   "source": [
    "seq='CASSETSGGTDTQYF'\n",
    "species='Alistipes_senegalensis'\n",
    "MbDF=Mb_PNP434_onlySwabs_only9Mreads\n",
    "TCRdf_RA=sharingMatrix_moreThan50_434Samples_RA\n",
    "fig,ax=plt.subplots()\n",
    "\n",
    "plot_seq_species_scatter(MbDF,TCRdf_RA,ax, seq, species, color_binary)\n",
    "ax.yaxis.label.set_size(22)\n",
    "ax.xaxis.label.set_size(22)\n",
    "plt.show()"
   ]
  },
  {
   "cell_type": "code",
   "execution_count": null,
   "metadata": {},
   "outputs": [],
   "source": [
    "seq='CASSLGGGSYEQYF'\n",
    "species='Alistipes_senegalensis'\n",
    "MbDF=Mb_PNP434_onlySwabs_only9Mreads\n",
    "TCRdf_RA=sharingMatrix_moreThan50_434Samples_RA\n",
    "fig,ax=plt.subplots()\n",
    "\n",
    "plot_seq_species_scatter(MbDF,TCRdf_RA,ax, seq, species, color_binary)\n",
    "ax.yaxis.label.set_size(22)\n",
    "ax.xaxis.label.set_size(22)\n",
    "plt.show()"
   ]
  },
  {
   "cell_type": "markdown",
   "metadata": {},
   "source": [
    "# try to updated pearson function \n",
    "from TCR_microbiome_interactions_functions.py 22.3.18"
   ]
  },
  {
   "cell_type": "code",
   "execution_count": null,
   "metadata": {},
   "outputs": [],
   "source": [
    "MbDF_RA=Mb_PNP434_notFiltered\n",
    "MbDFName='Mb_PNP434_notFiltered'\n",
    "TCRdf_RA=sharingMatrix_moreThan50_434Samples\n",
    "TCRdfName='TCRdf_pnp434_more50'\n",
    "NsharedSamplesForSpecies=None\n",
    "NsharedSamplesForSeqs=None\n",
    "topNspecies=10\n",
    "topNseqs=10\n",
    "outlierSTD=None\n",
    "completePearson=True\n",
    "pearsonForHeatMap=False\n",
    "resultFolder='%s/TCR_real_data/PhenotypicData/Microbiome-TCR interactions/CorrelResults_%s_%s_NsharedSpecies%s_Nsharedseqs%s_topSpecies%s\\\n",
    "_topSeqs%s_outlierSTD%s' %(MyPath,MbDFName,TCRdfName,NsharedSamplesForSpecies,NsharedSamplesForSeqs,\n",
    "                                          topNspecies, topNseqs,outlierSTD)\n",
    "\n",
    "\n",
    "find_associations_TCR_RA_MBspecies_RA(MbDF_RA, MbDFName,TCRdf_RA, TCRdfName, NsharedSamplesForSpecies,NsharedSamplesForSeqs,\n",
    "                                          topNspecies, topNseqs,outlierSTD,resultFolder,completePearson,pearsonForHeatMap)\n",
    "\n"
   ]
  },
  {
   "cell_type": "code",
   "execution_count": null,
   "metadata": {},
   "outputs": [],
   "source": [
    "MbDF_RA=Mb_PNP434_notFiltered\n",
    "MbDFName='MbPNP434notFiltered'\n",
    "TCRdf_RA=sharingMatrix_moreThan50_434Samples\n",
    "TCRdfName='TCRdfPNP434more50'\n",
    "NsharedSamplesForSpecies=200\n",
    "NsharedSamplesForSeqs=200\n",
    "topNspecies=None\n",
    "topNseqs=None\n",
    "outlierSTD=None\n",
    "completePearson=False\n",
    "pearsonForHeatMap=True\n",
    "resultFolder='%s/TCR_real_data/PhenotypicData/Microbiome-TCR interactions/CorrelResults_%s_%s_NsharedSpecies%s_Nsharedseqs%s_topSpecies%s\\\n",
    "_topSeqs%s_outlierSTD%s' %(MyPath,MbDFName,TCRdfName,NsharedSamplesForSpecies,NsharedSamplesForSeqs,\n",
    "                                          topNspecies, topNseqs,outlierSTD)\n",
    "\n",
    "\n",
    "find_associations_TCR_RA_MBspecies_RA(MbDF_RA, MbDFName,TCRdf_RA, TCRdfName, NsharedSamplesForSpecies,NsharedSamplesForSeqs,\n",
    "                                          topNspecies, topNseqs,outlierSTD,resultFolder,completePearson,pearsonForHeatMap)\n",
    "\n"
   ]
  },
  {
   "cell_type": "code",
   "execution_count": null,
   "metadata": {},
   "outputs": [],
   "source": []
  }
 ],
 "metadata": {
  "kernelspec": {
   "display_name": "Python 2",
   "language": "python",
   "name": "python2"
  },
  "language_info": {
   "codemirror_mode": {
    "name": "ipython",
    "version": 2
   },
   "file_extension": ".py",
   "mimetype": "text/x-python",
   "name": "python",
   "nbconvert_exporter": "python",
   "pygments_lexer": "ipython2",
   "version": "2.7.8"
  },
  "toc": {
   "nav_menu": {},
   "number_sections": true,
   "sideBar": true,
   "skip_h1_title": false,
   "toc_cell": false,
   "toc_position": {
    "height": "374px",
    "left": "0px",
    "right": "892.188px",
    "top": "111px",
    "width": "346px"
   },
   "toc_section_display": "block",
   "toc_window_display": true
  },
  "varInspector": {
   "cols": {
    "lenName": 16,
    "lenType": 16,
    "lenVar": 40
   },
   "kernels_config": {
    "python": {
     "delete_cmd_postfix": "",
     "delete_cmd_prefix": "del ",
     "library": "var_list.py",
     "varRefreshCmd": "print(var_dic_list())"
    },
    "r": {
     "delete_cmd_postfix": ") ",
     "delete_cmd_prefix": "rm(",
     "library": "var_list.r",
     "varRefreshCmd": "cat(var_dic_list()) "
    }
   },
   "types_to_exclude": [
    "module",
    "function",
    "builtin_function_or_method",
    "instance",
    "_Feature"
   ],
   "window_display": false
  }
 },
 "nbformat": 4,
 "nbformat_minor": 2
}
