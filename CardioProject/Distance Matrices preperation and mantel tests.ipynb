{
 "cells": [
  {
   "cell_type": "code",
   "execution_count": 1,
   "metadata": {
    "scrolled": true
   },
   "outputs": [
    {
     "name": "stdout",
     "output_type": "stream",
     "text": [
      "done1\n"
     ]
    }
   ],
   "source": [
    "from os import listdir,mkdir,rename\n",
    "from os.path import isfile, join, isdir,exists,splitext\n",
    "import pandas as pd\n",
    "import numpy as np\n",
    "from scipy import stats\n",
    "import re\n",
    "import matplotlib.pyplot as plt\n",
    "from matplotlib.backends.backend_pdf import PdfPages\n",
    "from myplots import roundup, rounddown, find_decimal_fold, percentile_cut_off, rarefaction_calc, rarefaction_plot,draw_correlation_scatter\n",
    "from matplotlib.ticker import FormatStrFormatter\n",
    "import cPickle as pickle\n",
    "from Bio.SeqUtils import GC\n",
    "import seaborn as sns\n",
    "import random\n",
    "from scipy.stats import pearsonr\n",
    "from skbio.diversity.alpha import shannon, simpson, berger_parker_d\n",
    "\n",
    "from pop_organize import get_sample_data, get_sample_with_dfs\n",
    "from SufficientStatistics import *\n",
    "from MyFunctionsShani import *\n",
    "import math\n",
    "from myplots import roundup, rounddown, find_decimal_fold\n",
    "from skbio.stats.distance import mantel\n",
    "from scipy.spatial.distance import braycurtis, pdist\n",
    "from Feature_phenotype_functions import common_processing_feature_phenotype_matrices, editSampleNames,process_sample_matrix,compute_distance_matrix_general\n"
   ]
  },
  {
   "cell_type": "code",
   "execution_count": 2,
   "metadata": {
    "scrolled": true
   },
   "outputs": [
    {
     "data": {
      "text/plain": [
       "'01022018'"
      ]
     },
     "execution_count": 2,
     "metadata": {},
     "output_type": "execute_result"
    }
   ],
   "source": [
    "import time\n",
    "cdate=str(time.strftime(\"%d%m%Y\"))\n",
    "cdate"
   ]
  },
  {
   "cell_type": "code",
   "execution_count": null,
   "metadata": {
    "scrolled": true
   },
   "outputs": [],
   "source": []
  },
  {
   "cell_type": "markdown",
   "metadata": {},
   "source": [
    "# load files:"
   ]
  },
  {
   "cell_type": "code",
   "execution_count": null,
   "metadata": {},
   "outputs": [],
   "source": [
    "file1='/net/mraid08/export/genie/Lab/Personal/ShaniBAF/TCR_real_data/PhenotypicData/SampleSpeciesDFwithBDs'\n",
    "SampleSpeciesDFwithBDs=pd.read_pickle(file1)\n"
   ]
  },
  {
   "cell_type": "code",
   "execution_count": null,
   "metadata": {},
   "outputs": [],
   "source": [
    "file2='/net/mraid08/export/genie/Lab/Personal/ShaniBAF/TCR_real_data/PhenotypicData/SampleSpeciesDFgroupedByBD'\n",
    "SampleSpeciesDFgroupedByBD=pd.read_pickle(file2)"
   ]
  },
  {
   "cell_type": "code",
   "execution_count": null,
   "metadata": {},
   "outputs": [],
   "source": [
    "file3='/net/mraid08/export/genie/Lab/Personal/ShaniBAF/TCR_real_data/PhenotypicData/SampleSpeciesDFgroupedByBD_only434'\n",
    "SampleSpeciesDFgroupedByBD_only434=pd.read_pickle(file3)"
   ]
  },
  {
   "cell_type": "code",
   "execution_count": null,
   "metadata": {},
   "outputs": [],
   "source": [
    "file4='/net/mraid08/export/genie/Lab/Personal/ShaniBAF/TCR_real_data/PhenotypicData/fullXgroupbyBD'\n",
    "fullXgroupbyBD=pd.read_pickle(file4)"
   ]
  },
  {
   "cell_type": "code",
   "execution_count": null,
   "metadata": {},
   "outputs": [],
   "source": [
    "file5='/net/mraid08/export/genie/Lab/Personal/ShaniBAF//TCR_real_data/PhenotypicData/fullXwithBDs'\n",
    "fullXwithBDs=pd.read_pickle(file5)"
   ]
  },
  {
   "cell_type": "code",
   "execution_count": null,
   "metadata": {},
   "outputs": [],
   "source": [
    "file6='/net/mraid08/export/genie/Lab/Personal/ShaniBAF/TCR_real_data/PhenotypicData/fullXgroupbyBD_only434'\n",
    "fullXgroupbyBD_only434=pd.read_pickle(file6)"
   ]
  },
  {
   "cell_type": "code",
   "execution_count": null,
   "metadata": {},
   "outputs": [],
   "source": [
    "file7='/net/mraid08/export/genie/Lab/Personal/ShaniBAF/TCR_real_data/PhenotypicData/binaryVariableList.txt'\n",
    "with open(file7,'rb') as fp:\n",
    "    binaryVariableList=pickle.load(fp)\n"
   ]
  },
  {
   "cell_type": "markdown",
   "metadata": {},
   "source": [
    "# generate specific distance metrices"
   ]
  },
  {
   "cell_type": "markdown",
   "metadata": {},
   "source": [
    "## distance matrix calculation function from Noam"
   ]
  },
  {
   "cell_type": "code",
   "execution_count": null,
   "metadata": {
    "scrolled": true
   },
   "outputs": [],
   "source": [
    "from scipy.spatial.distance import braycurtis, pdist"
   ]
  },
  {
   "cell_type": "code",
   "execution_count": null,
   "metadata": {
    "scrolled": true
   },
   "outputs": [],
   "source": [
    "def compute_distance_matrix(samps_by_features, distance_measure, do_binary = False):\n",
    "    from scipy.spatial.distance import braycurtis, pdist\n",
    "    A = samps_by_features.T.copy()\n",
    "    temp_res = pd.DataFrame(1, index=A.columns, columns=A.columns, dtype=np.float64)\n",
    "    A = A.values\n",
    "    if do_binary:\n",
    "        A[A>0] = 1\n",
    "    for i in range(A.shape[1]):\n",
    "        a = A[:,i]\n",
    "        vals = []\n",
    "        if i % 50 == 0:\n",
    "            print i\n",
    "        for j in range(A.shape[1]):\n",
    "            b = A[:,j]\n",
    "            val = None\n",
    "            val = distance_measure(np.stack((a,b),axis=1).T)\n",
    "            vals.append(val)\n",
    "        temp_res.iloc[i,:] = vals\n",
    "    return temp_res"
   ]
  },
  {
   "cell_type": "markdown",
   "metadata": {},
   "source": [
    "## generate public sequence distance matrices"
   ]
  },
  {
   "cell_type": "code",
   "execution_count": null,
   "metadata": {
    "scrolled": true
   },
   "outputs": [],
   "source": [
    "# load the publicMore10 file:\n",
    "\n",
    "file3='/net/mraid08/export/genie/Lab/Personal/ShaniBAF/TCR_real_data/PublicSeqAnalysis/sharingMatrix_moreThan10_434Samples'\n",
    "sharingMatrix_moreThan10_434Samples=pd.read_pickle(file3)"
   ]
  },
  {
   "cell_type": "code",
   "execution_count": null,
   "metadata": {
    "scrolled": false
   },
   "outputs": [],
   "source": [
    "#calculate distance matrix for the publicMore10 data:\n",
    "\n",
    "temp_res=compute_distance_matrix(samps_by_features=sharingMatrix_moreThan10_434Samples, distance_measure=pdist, do_binary = False)"
   ]
  },
  {
   "cell_type": "code",
   "execution_count": null,
   "metadata": {
    "scrolled": true
   },
   "outputs": [],
   "source": [
    "PNP434_publicMore10_EucDistMat=temp_res"
   ]
  },
  {
   "cell_type": "code",
   "execution_count": null,
   "metadata": {
    "scrolled": true
   },
   "outputs": [],
   "source": [
    "# edit the sample names to match those in the phenotype files:\n",
    "\n",
    "for n,sample in enumerate(PNP434_publicMore10_EucDistMat.index):\n",
    "    if '_' in sample:\n",
    "        NewName=sample.split('_')[0]\n",
    "    else:\n",
    "        NewName=sample\n",
    "    if 'b' in NewName:\n",
    "        print NewName\n",
    "        NewName=NewName.split('b')[0]\n",
    "        print NewName \n",
    "    PNP434_publicMore10_EucDistMat.rename(index={sample:NewName},inplace=True)\n",
    "    PNP434_publicMore10_EucDistMat.rename(columns={sample:NewName},inplace=True)"
   ]
  },
  {
   "cell_type": "code",
   "execution_count": null,
   "metadata": {
    "scrolled": true
   },
   "outputs": [],
   "source": [
    "PNP434_publicMore10_EucDistMat.head()"
   ]
  },
  {
   "cell_type": "code",
   "execution_count": null,
   "metadata": {
    "scrolled": true
   },
   "outputs": [],
   "source": [
    "PNP434_publicMore10_EucDistMat=PNP434_publicMore10_EucDistMat.dropna(axis=(0,1),how='any')"
   ]
  },
  {
   "cell_type": "code",
   "execution_count": null,
   "metadata": {
    "scrolled": true
   },
   "outputs": [],
   "source": [
    "PNP434_publicMore10_EucDistMat"
   ]
  },
  {
   "cell_type": "code",
   "execution_count": null,
   "metadata": {
    "scrolled": true
   },
   "outputs": [],
   "source": [
    "file1='/net/mraid08/export/genie/Lab/Personal/ShaniBAF/TCR_real_data/Distance Matrices/PNP434_publicMore10_EucDistMat'\n",
    "PNP434_publicMore10_EucDistMat.to_pickle(file1)"
   ]
  },
  {
   "cell_type": "markdown",
   "metadata": {},
   "source": [
    "## generate age distance matrix:"
   ]
  },
  {
   "cell_type": "code",
   "execution_count": null,
   "metadata": {
    "scrolled": true
   },
   "outputs": [],
   "source": [
    "fullXgroupbyBD_only434.head()"
   ]
  },
  {
   "cell_type": "code",
   "execution_count": null,
   "metadata": {
    "scrolled": false
   },
   "outputs": [],
   "source": [
    "# calculate the distance matrix for age:\n",
    "\n",
    "samps_by_features=pd.DataFrame(fullXgroupbyBD_only434['Age'])\n",
    "distance_measure=pdist\n",
    "do_binary=False\n",
    "tempres=compute_distance_matrix(samps_by_features, distance_measure, do_binary = False)"
   ]
  },
  {
   "cell_type": "code",
   "execution_count": null,
   "metadata": {
    "scrolled": true
   },
   "outputs": [],
   "source": [
    "PNP434_Age_EucDistMat=tempres\n",
    "PNP434_Age_EucDistMat.head()"
   ]
  },
  {
   "cell_type": "code",
   "execution_count": null,
   "metadata": {
    "scrolled": true
   },
   "outputs": [],
   "source": [
    "# remove nan rows/columns\n",
    "\n",
    "PNP434_Age_EucDistMat=PNP434_Age_EucDistMat.dropna(axis=(0,1),how='all')"
   ]
  },
  {
   "cell_type": "code",
   "execution_count": null,
   "metadata": {
    "scrolled": true
   },
   "outputs": [],
   "source": [
    "PNP434_Age_EucDistMat"
   ]
  },
  {
   "cell_type": "code",
   "execution_count": null,
   "metadata": {
    "scrolled": true
   },
   "outputs": [],
   "source": []
  },
  {
   "cell_type": "code",
   "execution_count": null,
   "metadata": {
    "scrolled": true
   },
   "outputs": [],
   "source": [
    "file1='/net/mraid08/export/genie/Lab/Personal/ShaniBAF/TCR_real_data/Distance Matrices/PNP434_Age_EucDistMat'\n",
    "PNP434_Age_EucDistMat.to_pickle(file1)"
   ]
  },
  {
   "cell_type": "markdown",
   "metadata": {},
   "source": [
    "## Mantel test between age and publicMore10:"
   ]
  },
  {
   "cell_type": "code",
   "execution_count": null,
   "metadata": {
    "scrolled": true
   },
   "outputs": [],
   "source": [
    "from skbio.stats.distance import mantel"
   ]
  },
  {
   "cell_type": "code",
   "execution_count": null,
   "metadata": {
    "scrolled": true
   },
   "outputs": [],
   "source": [
    "x=PNP434_publicMore10_EucDistMat\n",
    "y=PNP434_Age_EucDistMat\n"
   ]
  },
  {
   "cell_type": "code",
   "execution_count": null,
   "metadata": {
    "scrolled": true
   },
   "outputs": [],
   "source": [
    "print x.shape\n",
    "print y.shape\n",
    "\n",
    "for sample in x.index:\n",
    "    if sample not in y.index:\n",
    "        x=x.drop(sample,axis=0)\n",
    "        x=x.drop(sample,axis=1)\n",
    "for sample in y.index:\n",
    "    if sample not in x.index:\n",
    "        y=y.drop(sample,axis=0)\n",
    "        y=y.drop(sample,axis=1)\n",
    "        \n",
    "print x.shape\n",
    "print y.shape"
   ]
  },
  {
   "cell_type": "code",
   "execution_count": null,
   "metadata": {
    "scrolled": true
   },
   "outputs": [],
   "source": [
    "\n",
    "mantel(x, y, method='pearson', permutations=999, alternative='greater', strict=True, lookup=None)"
   ]
  },
  {
   "cell_type": "code",
   "execution_count": null,
   "metadata": {
    "scrolled": true
   },
   "outputs": [],
   "source": [
    "    "
   ]
  },
  {
   "cell_type": "markdown",
   "metadata": {},
   "source": [
    "## generate CRP distance matrix:"
   ]
  },
  {
   "cell_type": "code",
   "execution_count": null,
   "metadata": {
    "scrolled": true
   },
   "outputs": [],
   "source": [
    "# calculate the distance matrix for CRP:\n",
    "\n",
    "samps_by_features=pd.DataFrame(fullXgroupbyBD_only434['CRP (WIDE RANGE)'])\n",
    "distance_measure=pdist\n",
    "do_binary=False\n",
    "tempres=compute_distance_matrix(samps_by_features, distance_measure, do_binary = False)"
   ]
  },
  {
   "cell_type": "code",
   "execution_count": null,
   "metadata": {
    "scrolled": true
   },
   "outputs": [],
   "source": [
    "PNP434_CRPwide_EucDistMat=tempres\n",
    "PNP434_CRPwide_EucDistMat.head()"
   ]
  },
  {
   "cell_type": "code",
   "execution_count": null,
   "metadata": {
    "scrolled": true
   },
   "outputs": [],
   "source": [
    "# remove nan rows/columns\n",
    "\n",
    "PNP434_CRPwide_EucDistMat=PNP434_CRPwide_EucDistMat.dropna(axis=(0,1),how='all')"
   ]
  },
  {
   "cell_type": "code",
   "execution_count": null,
   "metadata": {
    "scrolled": true
   },
   "outputs": [],
   "source": [
    "PNP434_CRPwide_EucDistMat"
   ]
  },
  {
   "cell_type": "code",
   "execution_count": null,
   "metadata": {
    "scrolled": true
   },
   "outputs": [],
   "source": [
    "file1='/net/mraid08/export/genie/Lab/Personal/ShaniBAF/TCR_real_data/Distance Matrices/PNP434_CRPwide_EucDistMat'\n",
    "PNP434_CRPwide_EucDistMat.to_pickle(file1)"
   ]
  },
  {
   "cell_type": "markdown",
   "metadata": {},
   "source": [
    "## Mantel test between CRP and publicMore10:"
   ]
  },
  {
   "cell_type": "code",
   "execution_count": null,
   "metadata": {
    "scrolled": true
   },
   "outputs": [],
   "source": [
    "from skbio.stats.distance import mantel"
   ]
  },
  {
   "cell_type": "code",
   "execution_count": null,
   "metadata": {
    "scrolled": true
   },
   "outputs": [],
   "source": [
    "x=PNP434_publicMore10_EucDistMat\n",
    "y=PNP434_CRPwide_EucDistMat\n"
   ]
  },
  {
   "cell_type": "code",
   "execution_count": null,
   "metadata": {
    "scrolled": true
   },
   "outputs": [],
   "source": [
    "print x.shape\n",
    "print y.shape\n",
    "\n",
    "for sample in x.index:\n",
    "    if sample not in y.index:\n",
    "        x=x.drop(sample,axis=0)\n",
    "        x=x.drop(sample,axis=1)\n",
    "for sample in y.index:\n",
    "    if sample not in x.index:\n",
    "        y=y.drop(sample,axis=0)\n",
    "        y=y.drop(sample,axis=1)\n",
    "        \n",
    "print x.shape\n",
    "print y.shape"
   ]
  },
  {
   "cell_type": "code",
   "execution_count": null,
   "metadata": {
    "scrolled": true
   },
   "outputs": [],
   "source": [
    "\n",
    "mantel(x, y, method='pearson', permutations=999, alternative='greater', strict=True, lookup=None)"
   ]
  },
  {
   "cell_type": "markdown",
   "metadata": {},
   "source": [
    "## distance matrices for public sequence matrices:"
   ]
  },
  {
   "cell_type": "code",
   "execution_count": null,
   "metadata": {
    "scrolled": true
   },
   "outputs": [],
   "source": [
    "def gen_publicSeqMatrix(nShared_cutoff):\n",
    "    \n",
    "    # load  file:\n",
    "    print 'loading data...'\n",
    "    file1='/net/mraid08/export/genie/Lab/Personal/ShaniBAF/TCR_real_data/PublicSeqAnalysis/sharingMatrix_moreThan%s_434Samples' %nShared_cutoff\n",
    "    sharingMatrix_moreThanN_434Samples=pd.read_pickle(file1)\n",
    "    \n",
    "    #calculate distance matrix for the publicMoreN data:\n",
    "    print 'calculating distance matrix...'\n",
    "    temp_res=compute_distance_matrix(samps_by_features=sharingMatrix_moreThanN_434Samples, distance_measure=pdist, do_binary = False)\n",
    "    \n",
    "    PNP434_publicMoreN_EucDistMat=temp_res\n",
    "    \n",
    "    # edit the sample names to match those in the phenotype files:\n",
    "    print 'edit distance matrix...'\n",
    "    for n,sample in enumerate(PNP434_publicMoreN_EucDistMat.index):\n",
    "        if '_' in sample:\n",
    "            NewName=sample.split('_')[0]\n",
    "        else:\n",
    "            NewName=sample\n",
    "        if 'b' in NewName:\n",
    "            NewName=NewName.split('b')[0]\n",
    "        PNP434_publicMoreN_EucDistMat.rename(index={sample:NewName},inplace=True)\n",
    "        PNP434_publicMoreN_EucDistMat.rename(columns={sample:NewName},inplace=True)\n",
    "        \n",
    "    PNP434_publicMoreN_EucDistMat=PNP434_publicMoreN_EucDistMat.dropna(axis=(0,1),how='any')\n",
    "    \n",
    "    # save resulting distance matrix to file:\n",
    "    print 'saving to file...'\n",
    "    file2='/net/mraid08/export/genie/Lab/Personal/ShaniBAF/TCR_real_data/Distance Matrices/PNP434_publicMore%s_EucDistMat' %nShared_cutoff\n",
    "    PNP434_publicMoreN_EucDistMat.to_pickle(file2)"
   ]
  },
  {
   "cell_type": "markdown",
   "metadata": {},
   "source": [
    "### calculate distance matrix for publicMoreN:\n",
    "N=2/5/10"
   ]
  },
  {
   "cell_type": "code",
   "execution_count": null,
   "metadata": {
    "scrolled": true
   },
   "outputs": [],
   "source": [
    "gen_publicSeqMatrix(5)"
   ]
  },
  {
   "cell_type": "code",
   "execution_count": null,
   "metadata": {},
   "outputs": [],
   "source": [
    "gen_publicSeqMatrix(10)"
   ]
  },
  {
   "cell_type": "code",
   "execution_count": null,
   "metadata": {
    "scrolled": false
   },
   "outputs": [],
   "source": [
    "gen_publicSeqMatrix(2)"
   ]
  },
  {
   "cell_type": "markdown",
   "metadata": {},
   "source": [
    "### Calculate distance matrix for publicMoreN_relativeAbundance \n",
    "n=2/5/10"
   ]
  },
  {
   "cell_type": "code",
   "execution_count": null,
   "metadata": {},
   "outputs": [],
   "source": [
    "def gen_publicSeqMatrix_RA(nShared_cutoff):\n",
    "    \n",
    "    # load  file:\n",
    "    print 'loading data...'\n",
    "    file1='/net/mraid08/export/genie/Lab/Personal/ShaniBAF/TCR_real_data/PublicSeqAnalysis/sharingMatrix_moreThan%s_434Samples_RA' %nShared_cutoff\n",
    "    sharingMatrix_moreThanN_434Samples=pd.read_pickle(file1)\n",
    "    \n",
    "    #calculate distance matrix for the publicMoreN data:\n",
    "    print 'calculating distance matrix...'\n",
    "    temp_res=compute_distance_matrix(samps_by_features=sharingMatrix_moreThanN_434Samples, distance_measure=pdist, do_binary = False)\n",
    "    \n",
    "    PNP434_publicMoreN_EucDistMat=temp_res\n",
    "    \n",
    "    # edit the sample names to match those in the phenotype files:\n",
    "    print 'edit distance matrix...'\n",
    "    for n,sample in enumerate(PNP434_publicMoreN_EucDistMat.index):\n",
    "        if '_' in sample:\n",
    "            NewName=sample.split('_')[0]\n",
    "        else:a\n",
    "            NewName=sample\n",
    "        if 'b' in NewName:\n",
    "            NewName=NewName.split('b')[0]\n",
    "        PNP434_publicMoreN_EucDistMat.rename(index={sample:NewName},inplace=True)\n",
    "        PNP434_publicMoreN_EucDistMat.rename(columns={sample:NewName},inplace=True)\n",
    "        \n",
    "    PNP434_publicMoreN_EucDistMat=PNP434_publicMoreN_EucDistMat.dropna(axis=(0,1),how='any')\n",
    "    \n",
    "    # save resulting distance matrix to file:\n",
    "    print 'saving to file...'\n",
    "    file2='/net/mraid08/export/genie/Lab/Personal/ShaniBAF/TCR_real_data/Distance Matrices/PNP434_publicMore%s_RA_EucDistMat' %nShared_cutoff\n",
    "    PNP434_publicMoreN_EucDistMat.to_pickle(file2)"
   ]
  },
  {
   "cell_type": "code",
   "execution_count": null,
   "metadata": {},
   "outputs": [],
   "source": [
    "gen_publicSeqMatrix_RA(2)"
   ]
  },
  {
   "cell_type": "code",
   "execution_count": null,
   "metadata": {},
   "outputs": [],
   "source": [
    "file1='/net/mraid08/export/genie/Lab/Personal/ShaniBAF/TCR_real_data/Distance Matrices/PNP434_publicMore10_RA_EucDistMat' \n",
    "PNP434_publicMore10_RA_EucDistMat=pd.read_pickle(file1)\n",
    "PNP434_publicMore10_RA_EucDistMat.head()"
   ]
  },
  {
   "cell_type": "code",
   "execution_count": null,
   "metadata": {},
   "outputs": [],
   "source": [
    "file2='/net/mraid08/export/genie/Lab/Personal/ShaniBAF/TCR_real_data/Distance Matrices/PNP434_publicMore10_EucDistMat' \n",
    "PNP434_publicMore10_EucDistMat=pd.read_pickle(file2)\n",
    "PNP434_publicMore10_EucDistMat.head()"
   ]
  },
  {
   "cell_type": "markdown",
   "metadata": {},
   "source": [
    "# general function for generating distance matrices"
   ]
  },
  {
   "cell_type": "code",
   "execution_count": null,
   "metadata": {},
   "outputs": [],
   "source": [
    "'''\n",
    "this function generates distance matrix for feature/phenotype matrices\n",
    "\n",
    "matrix_name - free text to describe the feature/phenotype matrix (String)\n",
    "matrix_df - matrix df. in the former version of the function I used the matrix_file as input and the function downloaded the matrix from the file\n",
    "distance_measure = 'euclidean' for most cases, 'braycurtis' for 'ecological' matrices such as microbiome\n",
    "species relative abundance or public TCR relative abundance\n",
    "do_binary - True if necessary to convert the original matrix into a binary form\n",
    "'''\n",
    "\n",
    "\n",
    "def compute_distance_matrix_general(matrix_name,matrix_df, distance_measure, do_binary):\n",
    "    \n",
    "    from scipy.spatial.distance import braycurtis, pdist\n",
    "    \n",
    "#     #load and process matrix file: ### I updated the function and now it gets as input the df itself and doesn't load it###\n",
    "#     samps_by_features=pd.read_pickle(matrix_file)\n",
    "    samps_by_features=matrix_df\n",
    "    \n",
    "    \n",
    "    print 'original df shape is %s_%s' %(samps_by_features.shape[0],samps_by_features.shape[1])\n",
    "    for column in samps_by_features.columns.values:    #remove nonnumeric columns\n",
    "        if samps_by_features[column].dtype=='object':\n",
    "            samps_by_features=samps_by_features.drop(column,axis=1)\n",
    "            print '%s column was dropped from df' %column\n",
    "    samps_by_features=samps_by_features.dropna(axis=(0,1),how='all')\n",
    "    print 'df shape after processing is %s_%s' %(samps_by_features.shape[0],samps_by_features.shape[1])\n",
    "    \n",
    "    if do_binary:\n",
    "        isBinary='binary'\n",
    "    else:\n",
    "        isBinary=''\n",
    "    \n",
    "    \n",
    "    #calculate the distance matrix:\n",
    "    print 'calculating distance matrix...'\n",
    "    A = samps_by_features.T.copy()\n",
    "    temp_res = pd.DataFrame(1, index=A.columns, columns=A.columns, dtype=np.float64)\n",
    "    A = A.values\n",
    "    if do_binary:\n",
    "        A[A>0] = 1\n",
    "    for i in range(A.shape[1]):\n",
    "        a = A[:,i]\n",
    "        vals = []\n",
    "        if i % 50 == 0:\n",
    "            print i\n",
    "        for j in range(A.shape[1]):\n",
    "            b = A[:,j]\n",
    "            val = None\n",
    "            val = pdist(np.stack((a,b),axis=1).T,distance_measure)\n",
    "            vals.append(val)\n",
    "        temp_res.iloc[i,:] = vals\n",
    "        \n",
    "    # edit the distance matrix:\n",
    "    # (1) edit sample names to match those in the phenotype files\n",
    "    # (2) remove rows and columns with nan values:\n",
    "    print 'edit distance matrix...'\n",
    "    for n,sample in enumerate(temp_res.index):\n",
    "        if '_' in sample:\n",
    "            NewName=sample.split('_')[0]\n",
    "        else:\n",
    "            NewName=sample\n",
    "        if 'b' in NewName:\n",
    "            NewName=NewName.split('b')[0]\n",
    "        temp_res.rename(index={sample:NewName},inplace=True)\n",
    "        temp_res.rename(columns={sample:NewName},inplace=True)\n",
    "        \n",
    "    print 'original distMat shape is %s_%s' %(temp_res.shape[0],temp_res.shape[1])\n",
    "    bool_row_idx = temp_res.isnull().any(axis=0)\n",
    "    row_idx_list=temp_res[bool_row_idx].index\n",
    "    bool_col_idx = temp_res.isnull().any(axis=1)\n",
    "    col_idx_list=temp_res[bool_col_idx].index\n",
    "    for row_idx in row_idx_list:\n",
    "        for col_idx in col_idx_list:\n",
    "            print row_idx,col_idx\n",
    "            print '%s row was dropped from distMat' %row_idx\n",
    "            temp_res=temp_res.drop(row_idx,axis=0)\n",
    "            print '%s column was dropped from distMat' %col_idx\n",
    "            temp_res=temp_res.drop(col_idx,axis=1)\n",
    "    print 'distMat shape after processing is %s_%s' %(temp_res.shape[0],temp_res.shape[1])\n",
    "    \n",
    "    # save resulting distance matrix to file:\n",
    "    print 'saving to file...'\n",
    "    file2='/net/mraid08/export/genie/Lab/Personal/ShaniBAF/TCR_real_data/Distance Matrices/%s%s' %(matrix_name, \n",
    "                                                          isBinary)  \n",
    "    temp_res.to_pickle(file2)\n",
    "        \n",
    "    return temp_res"
   ]
  },
  {
   "cell_type": "markdown",
   "metadata": {},
   "source": [
    "## Distance matrices for microbiome species matrices: "
   ]
  },
  {
   "cell_type": "markdown",
   "metadata": {},
   "source": [
    "### microbiomeSpecies_relativeAbndance bray curtis"
   ]
  },
  {
   "cell_type": "code",
   "execution_count": null,
   "metadata": {},
   "outputs": [],
   "source": [
    "matrix_name='MicrobiomeSpeciesRA'\n",
    "matrix_file='/net/mraid08/export/genie/Lab/Personal/ShaniBAF/TCR_real_data/PhenotypicData/SampleSpeciesDFgroupedByBD_only434'\n",
    "matrix_df=pd.read_pickle(matrix_file)\n",
    "distance_measure='braycurtis'\n",
    "do_binary = False\n",
    "\n",
    "compute_distance_matrix_general(matrix_name,matrix_df, distance_measure, do_binary = False)"
   ]
  },
  {
   "cell_type": "markdown",
   "metadata": {},
   "source": [
    "### microbiomeSpecies_relativeAbndance euclidean"
   ]
  },
  {
   "cell_type": "code",
   "execution_count": null,
   "metadata": {},
   "outputs": [],
   "source": [
    "matrix_name='MicrobiomeSpeciesRA'\n",
    "matrix_file='/net/mraid08/export/genie/Lab/Personal/ShaniBAF/TCR_real_data/PhenotypicData/SampleSpeciesDFgroupedByBD_only434'\n",
    "matrix_df=pd.read_pickle(matrix_file)\n",
    "distance_measure='euclidean'\n",
    "do_binary = False\n",
    "\n",
    "compute_distance_matrix_general(matrix_name,matrix_df, distance_measure, do_binary = False)"
   ]
  },
  {
   "cell_type": "markdown",
   "metadata": {},
   "source": [
    "### microbiomeSpecies_binary"
   ]
  },
  {
   "cell_type": "code",
   "execution_count": null,
   "metadata": {
    "scrolled": false
   },
   "outputs": [],
   "source": [
    "matrix_name='MicrobiomeSpecies'\n",
    "matrix_file='/net/mraid08/export/genie/Lab/Personal/ShaniBAF/TCR_real_data/PhenotypicData/SampleSpeciesDFgroupedByBD_only434'\n",
    "matrix_df=pd.read_pickle(matrix_file)\n",
    "distance_measure='euclidean'\n",
    "do_binary = True\n",
    "\n",
    "compute_distance_matrix_general(matrix_name,matrix_df, distance_measure, do_binary = do_binary)"
   ]
  },
  {
   "cell_type": "markdown",
   "metadata": {},
   "source": [
    "### microbiomeSpecies_log2RA matrix:"
   ]
  },
  {
   "cell_type": "code",
   "execution_count": null,
   "metadata": {},
   "outputs": [],
   "source": [
    "matrix_file='/net/mraid08/export/genie/Lab/Personal/ShaniBAF/TCR_real_data/PhenotypicData/SampleSpeciesDFgroupedByBD_only434_log2scale'\n",
    "matrix_name='MicrobiomeSpeciesRAlog2scale'\n",
    "matrix_df=pd.read_pickle(matrix_file)\n",
    "distance_measure='euclidean'\n",
    "do_binary = False\n",
    "\n",
    "compute_distance_matrix_general(matrix_name,matrix_df, distance_measure, do_binary)\n"
   ]
  },
  {
   "cell_type": "markdown",
   "metadata": {},
   "source": [
    "## generate distance matrix for shared sequence matrices:"
   ]
  },
  {
   "cell_type": "markdown",
   "metadata": {},
   "source": [
    "### RA matrices:"
   ]
  },
  {
   "cell_type": "code",
   "execution_count": null,
   "metadata": {},
   "outputs": [],
   "source": [
    "n_cuttoff_list=[2,5,10]\n",
    "\n",
    "for n,nShared_cutoff in enumerate(n_cuttoff_list):\n",
    "    print n,nShared_cutoff\n",
    "    matrix_file='/net/mraid08/export/genie/Lab/Personal/ShaniBAF/TCR_real_data/PublicSeqAnalysis/sharingMatrix_moreThan%s_434Samples_RA' %nShared_cutoff\n",
    "    matrix_df=pd.read_pickle(matrix_file)\n",
    "    matrix_name='PNP434_sharingMatrix_moreThan%s_RA' %nShared_cutoff\n",
    "    distance_measure='braycurtis'\n",
    "    do_binary = False\n",
    "\n",
    "    compute_distance_matrix_general(matrix_name,matrix_df, distance_measure, do_binary = do_binary)\n",
    "    "
   ]
  },
  {
   "cell_type": "code",
   "execution_count": null,
   "metadata": {},
   "outputs": [],
   "source": [
    "n_cuttoff_list=[50]\n",
    "\n",
    "for n,nShared_cutoff in enumerate(n_cuttoff_list):\n",
    "    print n,nShared_cutoff\n",
    "    matrix_file='/net/mraid08/export/genie/Lab/Personal/ShaniBAF/TCR_real_data/PublicSeqAnalysis/sharingMatrix_moreThan%s_434Samples_RA' %nShared_cutoff\n",
    "    matrix_df=pd.read_pickle(matrix_file)\n",
    "    matrix_name='PNP434_sharingMatrix_moreThan%s_RA' %nShared_cutoff\n",
    "    distance_measure='braycurtis'\n",
    "    do_binary = False\n",
    "\n",
    "    compute_distance_matrix_general(matrix_name,matrix_df, distance_measure, do_binary = do_binary)\n",
    "    "
   ]
  },
  {
   "cell_type": "markdown",
   "metadata": {},
   "source": [
    "### shared sequences more than 1:"
   ]
  },
  {
   "cell_type": "code",
   "execution_count": null,
   "metadata": {},
   "outputs": [],
   "source": [
    "#shared more than 1, RA, bray curtis:\n",
    "matrix_file='/net/mraid08/export/genie/Lab/Personal/ShaniBAF/TCR_real_data/PublicSeqAnalysis/sharingMatrix_moreThan1_434Samples_RA'\n",
    "matrix_df=pd.read_pickle(matrix_file)\n",
    "matrix_name='PNP434_sharingMatrix_moreThan1_RA'\n",
    "distance_measure='braycurtis'\n",
    "do_binary = False\n",
    "\n",
    "compute_distance_matrix_general(matrix_name,matrix_df, distance_measure, do_binary)\n"
   ]
  },
  {
   "cell_type": "code",
   "execution_count": null,
   "metadata": {},
   "outputs": [],
   "source": [
    "#shared more than 1, binary, bray curtis:\n",
    "matrix_file='/net/mraid08/export/genie/Lab/Personal/ShaniBAF/TCR_real_data/PublicSeqAnalysis/sharingMatrix_moreThan1_434Samples_RA'\n",
    "matrix_df=pd.read_pickle(matrix_file)\n",
    "matrix_name='PNP434_sharingMatrix_moreThan1'\n",
    "distance_measure='braycurtis'\n",
    "do_binary = True\n",
    "\n",
    "compute_distance_matrix_general(matrix_name,matrix_df, distance_measure, do_binary)\n"
   ]
  },
  {
   "cell_type": "code",
   "execution_count": null,
   "metadata": {},
   "outputs": [],
   "source": [
    "#shared more than 1, binary, euclidean:\n",
    "matrix_file='/net/mraid08/export/genie/Lab/Personal/ShaniBAF/TCR_real_data/PublicSeqAnalysis/sharingMatrix_moreThan1_434Samples_RA'\n",
    "matrix_df=pd.read_pickle(matrix_file)\n",
    "matrix_name='PNP434_sharingMatrix_moreThan1'\n",
    "distance_measure='euclidean'\n",
    "do_binary = True\n",
    "\n",
    "compute_distance_matrix_general(matrix_name,matrix_df, distance_measure, do_binary)\n"
   ]
  },
  {
   "cell_type": "code",
   "execution_count": null,
   "metadata": {},
   "outputs": [],
   "source": [
    "#shared more than 1, log2scale RA, euclidean:\n",
    "matrix_file='/net/mraid08/export/genie/Lab/Personal/ShaniBAF/TCR_real_data/PublicSeqAnalysis/sharingMatrix_moreThan1_434Samples_RA_log2scale'\n",
    "matrix_df=pd.read_pickle(matrix_file)\n",
    "matrix_name='PNP434_sharingMatrix_moreThan1_RA_log2scale'\n",
    "distance_measure='euclidean'\n",
    "do_binary = False\n",
    "\n",
    "compute_distance_matrix_general(matrix_name,matrix_df, distance_measure, do_binary)\n"
   ]
  },
  {
   "cell_type": "markdown",
   "metadata": {},
   "source": [
    "### more than 50, binary"
   ]
  },
  {
   "cell_type": "code",
   "execution_count": null,
   "metadata": {},
   "outputs": [],
   "source": [
    "#shared more than 50, binary, euclidean:\n",
    "matrix_file='/net/mraid08/export/genie/Lab/Personal/ShaniBAF/TCR_real_data/PublicSeqAnalysis/sharingMatrix_moreThan50_434Samples_RA'\n",
    "matrix_df=pd.read_pickle(matrix_file)\n",
    "matrix_name='distMat_PNP434_sharingMatrix_moreThan50'\n",
    "distance_measure='euclidean'\n",
    "do_binary = True\n",
    "\n",
    "compute_distance_matrix_general(matrix_name,matrix_df, distance_measure, do_binary)\n"
   ]
  },
  {
   "cell_type": "markdown",
   "metadata": {},
   "source": [
    "### jaccard distances:"
   ]
  },
  {
   "cell_type": "code",
   "execution_count": 4,
   "metadata": {},
   "outputs": [
    {
     "name": "stdout",
     "output_type": "stream",
     "text": [
      "50\n",
      "original df shape is 434_968\n",
      "df shape after processing is 434_968\n",
      "calculating distance matrix...\n",
      "0\n",
      "50\n",
      "100\n",
      "150\n",
      "200\n",
      "250\n",
      "300\n",
      "350\n",
      "400\n",
      "edit distance matrix...\n",
      "original distMat shape is 434_434\n",
      "distMat shape after processing is 434_434\n",
      "saving to file...\n",
      "10\n",
      "original df shape is 434_19477\n",
      "df shape after processing is 434_19477\n",
      "calculating distance matrix...\n",
      "0\n",
      "50\n",
      "100\n",
      "150\n",
      "200\n",
      "250\n",
      "300\n",
      "350\n",
      "400\n",
      "edit distance matrix...\n",
      "original distMat shape is 434_434\n",
      "distMat shape after processing is 434_434\n",
      "saving to file...\n",
      "1\n",
      "original df shape is 434_437132\n",
      "df shape after processing is 434_437132\n",
      "calculating distance matrix...\n",
      "0\n",
      "50\n",
      "100\n",
      "150\n",
      "200\n",
      "250\n",
      "300\n",
      "350\n",
      "400\n",
      "edit distance matrix...\n",
      "original distMat shape is 434_434\n",
      "distMat shape after processing is 434_434\n",
      "saving to file...\n"
     ]
    }
   ],
   "source": [
    "nCutOffList=[50,10,1]\n",
    "\n",
    "for nCutOff in nCutOffList:\n",
    "    print nCutOff\n",
    "    matrix_file='/net/mraid08/export/genie/Lab/Personal/ShaniBAF/TCR_real_data/PublicSeqAnalysis/sharingMatrix_moreThan%s_434Samples' %nCutOff\n",
    "    matrix_df=pd.read_pickle(matrix_file)\n",
    "    matrix_name='sharingMatrixMoreThan50%s' %nCutOff\n",
    "    distance_measure='jaccard'\n",
    "    do_binary = False\n",
    "\n",
    "    compute_distance_matrix_general(matrix_name,matrix_df, distance_measure, do_binary)\n"
   ]
  },
  {
   "cell_type": "markdown",
   "metadata": {},
   "source": [
    "## generate distance matrices for shared sequences PCs matrices:"
   ]
  },
  {
   "cell_type": "markdown",
   "metadata": {},
   "source": [
    "### more than 1, use different numbers of PCs:"
   ]
  },
  {
   "cell_type": "code",
   "execution_count": null,
   "metadata": {},
   "outputs": [],
   "source": [
    "nSharedCutoff=1\n",
    "nPClist=[1,5,50,100]\n",
    "matrix_file='/net/mraid08/export/genie/Lab/Personal/ShaniBAF/TCR_real_data/PublicSeqAnalysis/sharingMatrix_moreThan%s_434Samples_100PCs' %nSharedCutoff\n",
    "for n in nPClist:\n",
    "    print n\n",
    "    \n",
    "    matrix_df=pd.read_pickle(matrix_file)\n",
    "    matrix_df=matrix_df.iloc[:,:n]\n",
    "    print matrix_df.shape\n",
    "    matrix_name='sharingMatrixMoreThan%s%sPCsUsed' %(nSharedCutoff,n)\n",
    "    distance_measure='euclidean'\n",
    "    do_binary = False\n",
    "\n",
    "    compute_distance_matrix_general(matrix_name,matrix_df, distance_measure, do_binary)"
   ]
  },
  {
   "cell_type": "markdown",
   "metadata": {},
   "source": [
    "### more than 10, use different numbers of PCs:"
   ]
  },
  {
   "cell_type": "code",
   "execution_count": null,
   "metadata": {},
   "outputs": [],
   "source": [
    "nSharedCutoff=10\n",
    "nPClist=[1,5,50,100]\n",
    "matrix_file='/net/mraid08/export/genie/Lab/Personal/ShaniBAF/TCR_real_data/PublicSeqAnalysis/sharingMatrix_moreThan%s_434Samples_100PCs' %nSharedCutoff\n",
    "for n in nPClist:\n",
    "    print n\n",
    "    \n",
    "    matrix_df=pd.read_pickle(matrix_file)\n",
    "    matrix_df=matrix_df.iloc[:,:n]\n",
    "    print matrix_df.shape\n",
    "    matrix_name='sharingMatrixMoreThan%s%sPCsUsed' %(nSharedCutoff,n)\n",
    "    distance_measure='euclidean'\n",
    "    do_binary = False\n",
    "\n",
    "    compute_distance_matrix_general(matrix_name,matrix_df, distance_measure, do_binary)"
   ]
  },
  {
   "cell_type": "markdown",
   "metadata": {},
   "source": [
    "### more than 50, use different numbers of PCs:"
   ]
  },
  {
   "cell_type": "code",
   "execution_count": 5,
   "metadata": {},
   "outputs": [
    {
     "name": "stdout",
     "output_type": "stream",
     "text": [
      "1\n",
      "(434, 1)\n",
      "original df shape is 434_1\n",
      "df shape after processing is 434_1\n",
      "calculating distance matrix...\n",
      "0\n",
      "50\n",
      "100\n",
      "150\n",
      "200\n",
      "250\n",
      "300\n",
      "350\n",
      "400\n",
      "edit distance matrix...\n",
      "original distMat shape is 434_434\n",
      "distMat shape after processing is 434_434\n",
      "saving to file...\n",
      "5\n",
      "(434, 5)\n",
      "original df shape is 434_5\n",
      "df shape after processing is 434_5\n",
      "calculating distance matrix...\n",
      "0\n",
      "50\n",
      "100\n",
      "150\n",
      "200\n",
      "250\n",
      "300\n",
      "350\n",
      "400\n",
      "edit distance matrix...\n",
      "original distMat shape is 434_434\n",
      "distMat shape after processing is 434_434\n",
      "saving to file...\n",
      "50\n",
      "(434, 50)\n",
      "original df shape is 434_50\n",
      "df shape after processing is 434_50\n",
      "calculating distance matrix...\n",
      "0\n",
      "50\n",
      "100\n",
      "150\n",
      "200\n",
      "250\n",
      "300\n",
      "350\n",
      "400\n",
      "edit distance matrix...\n",
      "original distMat shape is 434_434\n",
      "distMat shape after processing is 434_434\n",
      "saving to file...\n",
      "100\n",
      "(434, 100)\n",
      "original df shape is 434_100\n",
      "df shape after processing is 434_100\n",
      "calculating distance matrix...\n",
      "0\n",
      "50\n",
      "100\n",
      "150\n",
      "200\n",
      "250\n",
      "300\n",
      "350\n",
      "400\n",
      "edit distance matrix...\n",
      "original distMat shape is 434_434\n",
      "distMat shape after processing is 434_434\n",
      "saving to file...\n"
     ]
    }
   ],
   "source": [
    "nSharedCutoff=50\n",
    "nPClist=[1,5,50,100]\n",
    "matrix_file='/net/mraid08/export/genie/Lab/Personal/ShaniBAF/TCR_real_data/PublicSeqAnalysis/sharingMatrix_moreThan%s_434Samples_100PCs' %nSharedCutoff\n",
    "for n in nPClist:\n",
    "    print n\n",
    "    \n",
    "    matrix_df=pd.read_pickle(matrix_file)\n",
    "    matrix_df=matrix_df.iloc[:,:n]\n",
    "    print matrix_df.shape\n",
    "    matrix_name='sharingMatrixMoreThan%s%sPCsUsed' %(nSharedCutoff,n)\n",
    "    distance_measure='euclidean'\n",
    "    do_binary = False\n",
    "\n",
    "    compute_distance_matrix_general(matrix_name,matrix_df, distance_measure, do_binary)"
   ]
  },
  {
   "cell_type": "code",
   "execution_count": null,
   "metadata": {},
   "outputs": [],
   "source": []
  },
  {
   "cell_type": "markdown",
   "metadata": {},
   "source": [
    "## generate distance matrices for variuos phenotypes from the newPhenotypeTable_groupedByBD file:\n",
    "\n"
   ]
  },
  {
   "cell_type": "code",
   "execution_count": null,
   "metadata": {},
   "outputs": [],
   "source": [
    "file1='/net/mraid08/export/genie/Lab/Personal/ShaniBAF/TCR_real_data/PhenotypicData/columnsToAnalyzeFromNewFile'\n",
    "with open(file1,'rb') as fp:\n",
    "    columnsToAnalyzeFromNewFile=pickle.load(fp)"
   ]
  },
  {
   "cell_type": "code",
   "execution_count": null,
   "metadata": {},
   "outputs": [],
   "source": [
    "file2='/net/mraid08/export/genie/Lab/Personal/ShaniBAF/TCR_real_data/PhenotypicData/newPhenotypeTable_groupedByBD_only434'\n",
    "newPhenotypeTable_groupedByBD_only434=pd.read_pickle(file2)"
   ]
  },
  {
   "cell_type": "code",
   "execution_count": null,
   "metadata": {
    "scrolled": true
   },
   "outputs": [],
   "source": [
    "distance_measure='euclidean'\n",
    "do_binary=False\n",
    "\n",
    "for n,column in enumerate(columnsToAnalyzeFromNewFile):\n",
    "    print n,column\n",
    "    matrix_df=pd.DataFrame(newPhenotypeTable_groupedByBD_only434[column])\n",
    "#     print matrix_df\n",
    "    matrix_name='PNP434_%s_EucDistMat' %column\n",
    "    compute_distance_matrix_general(matrix_name,matrix_df, distance_measure, do_binary)\n",
    "    "
   ]
  },
  {
   "cell_type": "markdown",
   "metadata": {},
   "source": [
    "## generate distance matrix for binary phenotype:"
   ]
  },
  {
   "cell_type": "code",
   "execution_count": null,
   "metadata": {},
   "outputs": [],
   "source": [
    "distance_measure='euclidean'\n",
    "do_binary=False\n",
    "\n",
    "column='Gender'\n",
    "matrix_df=pd.DataFrame(fullXgroupbyBD[column])\n",
    "matrix_name='distMat_PNP434_%s_euclidean' %column\n",
    "temp_res=compute_distance_matrix_general(matrix_name,matrix_df, distance_measure, do_binary)\n"
   ]
  },
  {
   "cell_type": "code",
   "execution_count": null,
   "metadata": {},
   "outputs": [],
   "source": [
    "temp_res.head()"
   ]
  },
  {
   "cell_type": "code",
   "execution_count": null,
   "metadata": {},
   "outputs": [],
   "source": [
    "#get binary variable list:\n",
    "file1='/net/mraid08/export/genie/Lab/Personal/ShaniBAF/TCR_real_data/PhenotypicData/binaryVariableList.txt'\n",
    "\n",
    "with open(file1,'rb') as fp:\n",
    "    binaryVariableList=pickle.load(fp)\n"
   ]
  },
  {
   "cell_type": "code",
   "execution_count": null,
   "metadata": {},
   "outputs": [],
   "source": [
    "distance_measure='euclidean'\n",
    "do_binary=False\n",
    "\n",
    "for n,phenotype in enumerate(binaryVariableList):\n",
    "    print n,phenotype\n",
    "    matrix_df=pd.DataFrame(fullXgroupbyBD[phenotype])\n",
    "    matrix_name= phenotype\n",
    "    temp_res=compute_distance_matrix_general(matrix_name,matrix_df, distance_measure, do_binary)\n",
    "\n",
    "\n"
   ]
  },
  {
   "cell_type": "code",
   "execution_count": null,
   "metadata": {},
   "outputs": [],
   "source": []
  },
  {
   "cell_type": "code",
   "execution_count": null,
   "metadata": {},
   "outputs": [],
   "source": []
  },
  {
   "cell_type": "code",
   "execution_count": null,
   "metadata": {},
   "outputs": [],
   "source": []
  },
  {
   "cell_type": "markdown",
   "metadata": {},
   "source": [
    "### rename newPhenotype distance files:"
   ]
  },
  {
   "cell_type": "code",
   "execution_count": null,
   "metadata": {},
   "outputs": [],
   "source": [
    "##### USE WITH CAUTIUOS! ####\n",
    "\n",
    "\n",
    "path =  '/net/mraid08/export/genie/Lab/Personal/ShaniBAF/TCR_real_data/Distance Matrices/newPhenotypes'\n",
    "filenames = os.listdir(path)\n",
    "\n",
    "for f in filenames:\n",
    "    filename, file_extension = os.path.splitext(f)\n",
    "    phenotype=filename.split('_')[1]\n",
    "    newFileName='distMat_PNP434_%s' %phenotype\n",
    "#     print newFileName\n",
    "#     print phenotype\n",
    "    os.rename(os.path.join(path, f),os.path.join(path, newFileName))\n"
   ]
  },
  {
   "cell_type": "code",
   "execution_count": null,
   "metadata": {},
   "outputs": [],
   "source": [
    "##### USE WITH CAUTIUOS! ####\n",
    "\n",
    "path =  '/net/mraid08/export/genie/Lab/Personal/ShaniBAF/TCR_real_data/Distance Matrices/newPhenotypes'\n",
    "filenames = os.listdir(path)\n",
    "\n",
    "for f in filenames:\n",
    "    filename, file_extension = os.path.splitext(f)\n",
    "    if '_euclidean' in filename:\n",
    "        newFileName=filename\n",
    "    else:\n",
    "        newFileName=filename+'_euclidean'\n",
    "#     print newFileName\n",
    "#     print phenotype\n",
    "    os.rename(os.path.join(path, f),os.path.join(path, newFileName))\n"
   ]
  },
  {
   "cell_type": "code",
   "execution_count": null,
   "metadata": {},
   "outputs": [],
   "source": [
    "##### USE WITH CAUTIUOS! ####\n",
    "\n",
    "\n",
    "path =  '/net/mraid08/export/genie/Lab/Personal/ShaniBAF/TCR_real_data/Distance Matrices/Phenotypes'\n",
    "filenames = os.listdir(path)\n",
    "\n",
    "for f in filenames:\n",
    "    filename, file_extension = os.path.splitext(f)\n",
    "    phenotype=filename.split('_')[1]\n",
    "    newFileName='distMat_PNP434_%s_euclidean' %phenotype\n",
    "#     print filename\n",
    "#     print newFileName\n",
    "\n",
    "    os.rename(os.path.join(path, f),os.path.join(path, newFileName))\n"
   ]
  },
  {
   "cell_type": "code",
   "execution_count": null,
   "metadata": {},
   "outputs": [],
   "source": [
    "##### USE WITH CAUTIUOS! ####\n",
    "\n",
    "\n",
    "path =  '/net/mraid08/export/genie/Lab/Personal/ShaniBAF/TCR_real_data/Distance Matrices/NewFeatures'\n",
    "filenames = listdir(path)\n",
    "\n",
    "for n,f in enumerate(filenames):\n",
    "#     if n<10:\n",
    "    \n",
    "        filename, file_extension = splitext(f)\n",
    "        splitted=filename.split('_')\n",
    "        newName=splitted[2:-1]\n",
    "        myString = \"_\".join(newName)\n",
    "\n",
    "#         print splitted, myString\n",
    "    \n",
    "#     newFileName='distMat_PNP434_%s_euclidean' %phenotype\n",
    "#     print filename\n",
    "#     print newFileName\n",
    "\n",
    "#         rename(join(path, f),join(path, myString))\n"
   ]
  },
  {
   "cell_type": "markdown",
   "metadata": {},
   "source": [
    "## generate distance matrices for more features:"
   ]
  },
  {
   "cell_type": "markdown",
   "metadata": {},
   "source": [
    "### prepare the files:"
   ]
  },
  {
   "cell_type": "code",
   "execution_count": null,
   "metadata": {},
   "outputs": [],
   "source": [
    "file1='/net/mraid08/export/genie/Lab/Personal/ShaniBAF/TCR_real_data/featureSummaryDFs/PNPsamples_434_allFeatures'\n",
    "PNPsamples_434_allFeatures=pd.read_pickle(file1)\n",
    "PNPsamples_434_allFeatures.head()"
   ]
  },
  {
   "cell_type": "code",
   "execution_count": null,
   "metadata": {},
   "outputs": [],
   "source": [
    "from Feature_phenotype_functions import editSampleNames"
   ]
  },
  {
   "cell_type": "code",
   "execution_count": null,
   "metadata": {},
   "outputs": [],
   "source": [
    "PNPsamples_434_allFeatures_edited=editSampleNames(PNPsamples_434_allFeatures)\n",
    "PNPsamples_434_allFeatures_edited.head()"
   ]
  },
  {
   "cell_type": "markdown",
   "metadata": {},
   "source": [
    "### check which features are highly correlated"
   ]
  },
  {
   "cell_type": "code",
   "execution_count": null,
   "metadata": {},
   "outputs": [],
   "source": [
    "generalFeatureNames=[]\n",
    "for column in PNPsamples_434_allFeatures_edited.columns.values:\n",
    "    if not 'percPublic' in column:\n",
    "        general=column.replace('_T','')\n",
    "        general=general.replace('_0','')\n",
    "        general=general.replace('_1','')\n",
    "        generalFeatureNames.append(general)\n",
    "print len(generalFeatureNames)\n",
    "\n",
    "# from collections import Counter\n",
    "# Counter(generalFeatureNames)\n",
    "\n",
    "    "
   ]
  },
  {
   "cell_type": "code",
   "execution_count": null,
   "metadata": {},
   "outputs": [],
   "source": [
    "generalFeatureNames=list(set(generalFeatureNames))\n",
    "print len(generalFeatureNames)\n"
   ]
  },
  {
   "cell_type": "code",
   "execution_count": null,
   "metadata": {
    "scrolled": true
   },
   "outputs": [],
   "source": [
    "corrDF=pd.DataFrame()\n",
    "for i in range(len(generalFeatureNames)):\n",
    "    print i\n",
    "    colT=generalFeatureNames[i]+'_T'\n",
    "    col0=generalFeatureNames[i]+'_0'\n",
    "    col1=generalFeatureNames[i]+'_1'\n",
    "    \n",
    "    if (colT in PNPsamples_434_allFeatures_edited.columns.values) and (col0 in PNPsamples_434_allFeatures_edited.columns.values) and (col1 in PNPsamples_434_allFeatures_edited.columns.values):  \n",
    "        r_T0,p_T0=MyPearsonr(PNPsamples_434_allFeatures_edited[colT],PNPsamples_434_allFeatures_edited[col0])\n",
    "        r_T1,p_T1=MyPearsonr(PNPsamples_434_allFeatures_edited[colT],PNPsamples_434_allFeatures_edited[col1])\n",
    "        r_10,p_10=MyPearsonr(PNPsamples_434_allFeatures_edited[col0],PNPsamples_434_allFeatures_edited[col1])\n",
    "        corrDF.loc[generalFeatureNames[i],'r_T0']=r_T0\n",
    "        corrDF.loc[generalFeatureNames[i],'r_T1']=r_T1\n",
    "        corrDF.loc[generalFeatureNames[i],'r_10']=r_10\n",
    "    #     print colT\n",
    "    #     print r_T0,r_T1,r_10\n",
    "    \n",
    "    for j in range(i,len(generalFeatureNames)):\n",
    "        colJ=generalFeatureNames[j]+'_T'\n",
    "        if (colT in PNPsamples_434_allFeatures_edited.columns.values) and (colJ in PNPsamples_434_allFeatures_edited.columns.values):\n",
    "            r_TJ,p_TJ=MyPearsonr(PNPsamples_434_allFeatures_edited[colT],PNPsamples_434_allFeatures_edited[colJ])\n",
    "            corrDF.loc[generalFeatureNames[i],generalFeatureNames[j]]=r_TJ\n",
    "#         print colJ, r_TJ\n",
    "        \n",
    "        "
   ]
  },
  {
   "cell_type": "code",
   "execution_count": null,
   "metadata": {},
   "outputs": [],
   "source": [
    "file1='/net/mraid08/export/genie/Lab/Personal/ShaniBAF/TCR_real_data/featureSummaryDFs/PNPsamples_434_allFeatures_correlations'\n",
    "corrDF.to_pickle(file1)"
   ]
  },
  {
   "cell_type": "code",
   "execution_count": null,
   "metadata": {},
   "outputs": [],
   "source": [
    "corrDF.sort_values(by='r_T0').head()"
   ]
  },
  {
   "cell_type": "markdown",
   "metadata": {},
   "source": [
    "### generate a list of features for which I need to calculate distance matrices:"
   ]
  },
  {
   "cell_type": "code",
   "execution_count": null,
   "metadata": {},
   "outputs": [],
   "source": [
    "# prod and non prod features which are needed in addition to their corresponding total feature:\n",
    "prodFeaturesToAdd=[]\n",
    "nonProdFeaturesToAdd=[]\n",
    "\n",
    "for n in corrDF.index:\n",
    "    if corrDF.loc[n,'r_T0']<0.5:\n",
    "        nonProdFeature=n+'_0'\n",
    "        nonProdFeaturesToAdd.append(nonProdFeature)\n",
    "    if corrDF.loc[n,'r_T1']<0.5:\n",
    "        prodFeature=n+'_1'\n",
    "        prodFeaturesToAdd.append(prodFeature)\n",
    "\n",
    "print len(prodFeaturesToAdd)\n",
    "print len(nonProdFeaturesToAdd)\n",
    "        \n",
    "        \n",
    "    "
   ]
  },
  {
   "cell_type": "code",
   "execution_count": null,
   "metadata": {},
   "outputs": [],
   "source": [
    "#total features that should be removed as they are highly correlated with another total feature:\n",
    "\n",
    "columnList=corrDF.columns.values[3:]\n",
    "\n",
    "totalFeaturesToRemove=[]\n",
    "\n",
    "for n in corrDF.index:\n",
    "    for col in columnList:\n",
    "        if (corrDF.loc[n,col]>0.9) and (n!=col) and (n not in totalFeaturesToRemove) :\n",
    "            totalFeaturesToRemove.append(col)\n",
    "            print n,col, corrDF.loc[n,col]\n",
    "\n"
   ]
  },
  {
   "cell_type": "code",
   "execution_count": null,
   "metadata": {},
   "outputs": [],
   "source": [
    "print len(generalFeatureNames)\n",
    "print len(totalFeaturesToRemove)\n",
    "print len(generalFeatureNames)-len(totalFeaturesToRemove)\n",
    "totalFeatures=[x+'_T' for x in generalFeatureNames if x not in totalFeaturesToRemove]\n",
    "print len(totalFeatures)"
   ]
  },
  {
   "cell_type": "code",
   "execution_count": null,
   "metadata": {},
   "outputs": [],
   "source": [
    "print totalFeatures[:5]"
   ]
  },
  {
   "cell_type": "code",
   "execution_count": null,
   "metadata": {},
   "outputs": [],
   "source": [
    "totalFeatures=totalFeatures+prodFeaturesToAdd+nonProdFeaturesToAdd\n",
    "print len(totalFeatures)"
   ]
  },
  {
   "cell_type": "code",
   "execution_count": null,
   "metadata": {},
   "outputs": [],
   "source": [
    "'cdr3Length_mean_T' in totalFeatures"
   ]
  },
  {
   "cell_type": "code",
   "execution_count": null,
   "metadata": {},
   "outputs": [],
   "source": [
    "totalFeatures"
   ]
  },
  {
   "cell_type": "code",
   "execution_count": null,
   "metadata": {},
   "outputs": [],
   "source": [
    "with open('/net/mraid08/export/genie/Lab/Personal/ShaniBAF/TCR_real_data/featureSummaryDFs/totalFeatures','wb') as fp:\n",
    "    pickle.dump(totalFeatures,fp)"
   ]
  },
  {
   "cell_type": "markdown",
   "metadata": {},
   "source": [
    "### generate distance matrices for all features in the TotalFeatures list:"
   ]
  },
  {
   "cell_type": "code",
   "execution_count": null,
   "metadata": {
    "scrolled": true
   },
   "outputs": [],
   "source": [
    "distance_measure='euclidean'\n",
    "do_binary=False\n",
    "\n",
    "for n,column in enumerate(totalFeatures):\n",
    "    if n>142:\n",
    "        print n,column\n",
    "        matrix_df=pd.DataFrame(PNPsamples_434_allFeatures_edited[column])\n",
    "        matrix_name='distMat_PNP434_%s_%s' %(column, distance_measure)\n",
    "        compute_distance_matrix_general(matrix_name,matrix_df, distance_measure, do_binary)\n",
    "    "
   ]
  },
  {
   "cell_type": "markdown",
   "metadata": {},
   "source": [
    "features from the list that generated an error:\n",
    "n=52, 75,94,100,141,142"
   ]
  },
  {
   "cell_type": "markdown",
   "metadata": {},
   "source": [
    "### generate lists for featureCombinationDistanceMatrices:"
   ]
  },
  {
   "cell_type": "code",
   "execution_count": null,
   "metadata": {},
   "outputs": [],
   "source": [
    "\n"
   ]
  },
  {
   "cell_type": "code",
   "execution_count": null,
   "metadata": {},
   "outputs": [],
   "source": [
    "LengthFeatures=['n1Insertion','n2Insertion','vDeletion','d3Deletion','d5Deletion','jDeletion','cdr3Length']\n",
    "LengthFeaturesToUse=[]\n",
    "\n",
    "for f in LengthFeatures:\n",
    "    for feature in totalFeatures:\n",
    "        if f in feature:\n",
    "            LengthFeaturesToUse.append(feature)\n",
    "\n",
    "print len(LengthFeaturesToUse)\n",
    "print LengthFeaturesToUse\n",
    "            "
   ]
  },
  {
   "cell_type": "code",
   "execution_count": null,
   "metadata": {},
   "outputs": [],
   "source": [
    "ClonalityFeatures=['meanClonal_nt_T','meanClonal_aa_T','topClonal_nt_T','topClonal_aa_T','frequencyCount (%)_mean_T',\n",
    "                         'frequencyCount (%)_max_T','shannon_nt_T','simpson_nt_T','berger_nt_T','shannon_aa_T','simpson_aa_T','berger_aa_T']\n",
    "\n",
    "ClonalityFeaturesToUse=[]\n",
    "\n",
    "for f in ClonalityFeatures:\n",
    "    for feature in totalFeatures:\n",
    "        if f in feature:\n",
    "            ClonalityFeaturesToUse.append(feature)\n",
    "\n",
    "print len(ClonalityFeaturesToUse)\n",
    "print ClonalityFeaturesToUse[:5]\n",
    "\n",
    "\n"
   ]
  },
  {
   "cell_type": "code",
   "execution_count": null,
   "metadata": {},
   "outputs": [],
   "source": [
    "regex_vFamily=re.compile('V.._.')\n",
    "vFamily=[n for n in PNPsamples_434_allFeatures_edited.columns.values if re.match(regex_vFamily,n) ]\n",
    "\n",
    "regex_vGene=re.compile('V..-.._.')\n",
    "vGene=[n for n in PNPsamples_434_allFeatures_edited.columns.values if re.match(regex_vGene,n) ]\n",
    "\n",
    "regex_jGene=re.compile('J..-.._.')\n",
    "jGene=[n for n in PNPsamples_434_allFeatures_edited.columns.values if re.match(regex_jGene,n) ]\n",
    "\n",
    "regex_dFamily=re.compile('D.._.')\n",
    "dFamily=[n for n in PNPsamples_434_allFeatures_edited.columns.values if re.match(regex_dFamily,n) ]\n",
    "\n",
    "regex_VJ=re.compile('V.._J.._.')\n",
    "VJ=[n for n in PNPsamples_434_allFeatures_edited.columns.values if re.match(regex_VJ,n) ]\n",
    "\n",
    "regex_DJ=re.compile('D.._J..-.._.')\n",
    "DJ=[n for n in PNPsamples_434_allFeatures_edited.columns.values if re.match(regex_DJ,n) ]\n",
    "\n",
    "usageFeatures=vFamily+vGene+jGene+dFamily+VJ+DJ\n",
    "print len(usageFeatures)\n",
    "\n",
    "usageFeaturesToUse=[]\n",
    "\n",
    "for f in usageFeatures:\n",
    "    for feature in totalFeatures:\n",
    "        if f in feature:\n",
    "            usageFeaturesToUse.append(feature)\n",
    "            usageFeaturesToUse=list(set(usageFeaturesToUse))\n",
    "\n",
    "print len(usageFeaturesToUse)\n",
    "print usageFeaturesToUse\n"
   ]
  },
  {
   "cell_type": "code",
   "execution_count": null,
   "metadata": {},
   "outputs": [],
   "source": [
    "with open('/net/mraid08/export/genie/Lab/Personal/ShaniBAF/TCR_real_data/featureSummaryDFs/LengthFeaturesToUse','wb') as fp:\n",
    "    pickle.dump(LengthFeaturesToUse,fp)\n",
    "    \n",
    "with open('/net/mraid08/export/genie/Lab/Personal/ShaniBAF/TCR_real_data/featureSummaryDFs/ClonalityFeatures','wb') as fp:\n",
    "    pickle.dump(ClonalityFeaturesToUse,fp)\n",
    "\n",
    "with open('/net/mraid08/export/genie/Lab/Personal/ShaniBAF/TCR_real_data/featureSummaryDFs/usageFeaturesToUse','wb') as fp:\n",
    "    pickle.dump(usageFeaturesToUse,fp)"
   ]
  },
  {
   "cell_type": "code",
   "execution_count": null,
   "metadata": {},
   "outputs": [],
   "source": []
  },
  {
   "cell_type": "markdown",
   "metadata": {},
   "source": [
    "### generate distance matrices for feature Combination:"
   ]
  },
  {
   "cell_type": "code",
   "execution_count": null,
   "metadata": {},
   "outputs": [],
   "source": [
    "featureCombinations=[LengthFeaturesToUse,ClonalityFeaturesToUse,usageFeaturesToUse]\n",
    "featureCombinationsNames=['LengthFeatures','ClonalityFeatures','usageFeatures']\n",
    "distance_measure='euclidean'\n",
    "do_binary=False\n",
    "\n",
    "for n,combination in enumerate(featureCombinations):\n",
    "    if n==2:\n",
    "        n,combination\n",
    "        combinationName=featureCombinationsNames[n]\n",
    "        matrix_df=PNPsamples_434_allFeatures_edited[combination]\n",
    "        if combination==usageFeaturesToUse:\n",
    "            matrix_df=matrix_df.fillna(0)\n",
    "        matrix_name='distMat_PNP434_%s_%s' %(combinationName, distance_measure)\n",
    "        compute_distance_matrix_general(matrix_name,matrix_df, distance_measure, do_binary)"
   ]
  },
  {
   "cell_type": "code",
   "execution_count": null,
   "metadata": {},
   "outputs": [],
   "source": []
  },
  {
   "cell_type": "code",
   "execution_count": null,
   "metadata": {
    "scrolled": true
   },
   "outputs": [],
   "source": [
    "file1='/net/mraid08/export/genie/Lab/Personal/ShaniBAF/TCR_real_data/Distance Matrices/distMat_PNP434_distMat_PNP434_ClonalityFeatures_euclidean_euclidean'\n",
    "distMat_PNP434_distMat_PNP434_ClonalityFeatures_euclidean_euclidean=pd.read_pickle(file1)\n",
    "distMat_PNP434_distMat_PNP434_ClonalityFeatures_euclidean_euclidean.head()"
   ]
  },
  {
   "cell_type": "code",
   "execution_count": null,
   "metadata": {},
   "outputs": [],
   "source": [
    "file1='/net/mraid08/export/genie/Lab/Personal/ShaniBAF/TCR_real_data/Distance Matrices/distMat_PNP434_distMat_PNP434_usageFeatures_euclidean_euclidean'\n",
    "distMat_PNP434_distMat_PNP434_usageFeatures_euclidean_euclidean=pd.read_pickle(file1)\n",
    "distMat_PNP434_distMat_PNP434_usageFeatures_euclidean_euclidean.head()"
   ]
  },
  {
   "cell_type": "markdown",
   "metadata": {},
   "source": [
    "# run mantel test for different combinations of features and phenotypes and summarize the results:"
   ]
  },
  {
   "cell_type": "markdown",
   "metadata": {},
   "source": [
    "## define function to run matel test for different distance matrix combinations:"
   ]
  },
  {
   "cell_type": "code",
   "execution_count": null,
   "metadata": {},
   "outputs": [],
   "source": [
    "def reject_outliers(data, m):\n",
    "    outlier_ind=abs(data - np.mean(data)) < m * np.std(data)\n",
    "    return outlier_ind"
   ]
  },
  {
   "cell_type": "code",
   "execution_count": null,
   "metadata": {},
   "outputs": [],
   "source": [
    "'''\n",
    "genPlot - True/False\n",
    "\n",
    "\n",
    "\n",
    "'''\n",
    "\n",
    "\n",
    "def mantelTest_feature_phenotype(feature_dist_file, phenotype_dist_file,feature_name,phenotype_name, method,n_permut,alternative,removeSameUser):\n",
    "    \n",
    "    from skbio.stats.distance import mantel\n",
    "    \n",
    "    MantelFolder='/net/mraid08/export/genie/Lab/Personal/ShaniBAF/TCR_real_data/PhenotypicData/MantelTestResults'\n",
    "    MantelName='MantelDF_%s_%s_%s_%s_%s_removeSameUser%s' %(feature_name,phenotype_name, method,n_permut,alternative,removeSameUser)\n",
    "    MantelFile='%s/%s' %(MantelFolder,MantelName)\n",
    "    existingMantels=[f for f in listdir( MantelFolder) if isfile(join(MantelFolder, f))]\n",
    "    \n",
    "    if MantelName not in existingMantels:\n",
    "    \n",
    "        #(1)load and process distance matrix files:\n",
    "        print 'loading and processing distance matrix files...'\n",
    "        feature_dist_mat=pd.read_pickle(feature_dist_file)\n",
    "        phenotype_dist_mat=pd.read_pickle(phenotype_dist_file)\n",
    "\n",
    "        x=feature_dist_mat\n",
    "        y=phenotype_dist_mat\n",
    "\n",
    "        print 'original x array shape is %s_%s' %(x.shape[0],x.shape[1])\n",
    "        print 'original y array shape is %s_%s' %(y.shape[0],y.shape[1])\n",
    "\n",
    "        for sample in x.index:\n",
    "            if sample not in y.index:\n",
    "                x=x.drop(sample,axis=0)\n",
    "                x=x.drop(sample,axis=1)\n",
    "        for sample in y.index:\n",
    "            if sample not in x.index:\n",
    "                y=y.drop(sample,axis=0)\n",
    "                y=y.drop(sample,axis=1)\n",
    "                \n",
    "        for column in x:    #remove nonnumeric columns\n",
    "            if x[column].dtype=='object':\n",
    "                x=x.drop(column,axis=1)\n",
    "                print '%s column was dropped from x' %column\n",
    "        x=x.dropna(axis=(0,1),how='all') #remove empty rows\n",
    "        \n",
    "        for column in y:    #remove nonnumeric columns\n",
    "            if y[column].dtype=='object':\n",
    "                y=y.drop(column,axis=1)\n",
    "                print '%s column was dropped from y' %column\n",
    "        y=y.dropna(axis=(0,1),how='all') #remove empty rows\n",
    "\n",
    "        \n",
    "        #make sure both matrices have the same order:\n",
    "        x=x.sort_index(axis=0)\n",
    "        x=x.sort_index(axis=1)\n",
    "        y=y.sort_index(axis=0)\n",
    "        y=y.sort_index(axis=1)\n",
    "        \n",
    "        print x.head()\n",
    "        print y.head()\n",
    "        \n",
    "        if removeSameUser: #Remove second sample from the same user:\n",
    "            print 'removing second sample from the same user...'\n",
    "            removedSampleList=['BD714','BD838'] #UPDATE LIST WITH MORE SAMPLES COMING FROM AN ALREADY EXIST USER\n",
    "            for removedSample in removedSampleList:\n",
    "                x=x.drop(removedSample,axis=0)\n",
    "                x=x.drop(removedSample,axis=1)\n",
    "                y=y.drop(removedSample,axis=0)\n",
    "                y=y.drop(removedSample,axis=1)\n",
    "        \n",
    "        print 'new x array shape is %s_%s' %(x.shape[0],x.shape[1])\n",
    "        print 'new y array shape is %s_%s' %(y.shape[0],y.shape[1])\n",
    "        print x.head()\n",
    "        print y.head()\n",
    "            \n",
    "#         # to reject outliers, fix the following lines, add stdToReject as input variable and uncomment:\n",
    "#         if stdToReject is not None:\n",
    "#             nx_outliers=reject_outliers(newx, m=stdToReject)\n",
    "#             ny_outliers=reject_outliers(newy, m=stdToReject)\n",
    "#             n_outliers=nx_outliers+ny_outliers\n",
    "#             finalx=newx[~n_outliers]\n",
    "#             finaly=newy[~n_outliers]\n",
    "#         else:\n",
    "#             finalx=newx\n",
    "#             finaly=newy\n",
    "        \n",
    "        \n",
    "        #(2) run mantel:\n",
    "        print 'running mantel test...'\n",
    "        corr_coeff,p_value,N = mantel(x, y, method=method, permutations=n_permut, alternative=alternative, strict=True, lookup=None)\n",
    "\n",
    "        mantelDF=pd.DataFrame()\n",
    "        mantelDF.loc[0,'feature_name']=feature_name\n",
    "        mantelDF.loc[0,'phenotype_name']=phenotype_name\n",
    "        mantelDF.loc[0,'method']=method\n",
    "        mantelDF.loc[0,'n_permut']=n_permut\n",
    "        mantelDF.loc[0,'alternative']=alternative\n",
    "        mantelDF.loc[0,'corr_coeff']=corr_coeff\n",
    "        mantelDF.loc[0,'p_value']=p_value\n",
    "        mantelDF.loc[0,'feature_name']=feature_name\n",
    "        mantelDF.loc[0,'N']=N\n",
    "        \n",
    "#         mantelDF.to_pickle(MantelFile)\n",
    "        print p_value\n",
    "        \n",
    "        \n",
    "#         #generate correlation plot if desired:\n",
    "#         if p_value<0.05 or corr_coeff>0.15:\n",
    "#             fig1=plot_corr_for_distMats(x,y,feature_name,phenotype_name)\n",
    "#             file1='/net/mraid08/export/genie/Lab/Personal/ShaniBAF/TCR_real_data/PhenotypicData/DistMat_correlation_plots/%s_%s' %(feature_name,phenotype_name)\n",
    "#             fig1.savefig(file1,dpi=200)\n",
    "            \n",
    "        \n",
    "        \n",
    "        print 'DONE!'\n",
    "    \n",
    "    else:\n",
    "        print 'This Mantel Test result already exist in folder'\n",
    "    "
   ]
  },
  {
   "cell_type": "markdown",
   "metadata": {},
   "source": [
    "## check distance matrices order and the effect on the mantel test:"
   ]
  },
  {
   "cell_type": "markdown",
   "metadata": {},
   "source": [
    "### Run without ordering the distance matrices:"
   ]
  },
  {
   "cell_type": "code",
   "execution_count": null,
   "metadata": {
    "scrolled": true
   },
   "outputs": [],
   "source": [
    "method='spearman'\n",
    "n_permut=9999\n",
    "alternative='two-sided'\n",
    "\n",
    "fileNameP='distMat_PNP434_Age_euclidean'\n",
    "fileNameF='distMat_PNP434_sharingMatrixMoreThan1RA_braycurtis'\n",
    "\n",
    "feature_dist_file='/net/mraid08/export/genie/Lab/Personal/ShaniBAF/TCR_real_data/Distance Matrices/Features/%s' %fileNameF\n",
    "feature_name=fileNameF.split('_')[-2]+'_'+fileNameF.split('_')[-1]\n",
    "\n",
    "phenotype_dist_file='/net/mraid08/export/genie/Lab/Personal/ShaniBAF/TCR_real_data/Distance Matrices/newPhenotypes/%s' %fileNameP\n",
    "phenotype_name=fileNameP.split('_')[-2]+'_'+fileNameP.split('_')[-1]\n",
    "\n",
    "\n",
    "               \n",
    "\n",
    "mantelTest_feature_phenotype(feature_dist_file, phenotype_dist_file,feature_name,phenotype_name, method,n_permut,alternative)"
   ]
  },
  {
   "cell_type": "code",
   "execution_count": null,
   "metadata": {
    "scrolled": true
   },
   "outputs": [],
   "source": [
    "method='spearman'\n",
    "n_permut=9999\n",
    "alternative='two-sided'\n",
    "\n",
    "fileNameP='distMat_PNP434_Albumin_euclidean'\n",
    "fileNameF='distMat_PNP434_sharingMatrixMoreThan1RA_braycurtis'\n",
    "\n",
    "feature_dist_file='/net/mraid08/export/genie/Lab/Personal/ShaniBAF/TCR_real_data/Distance Matrices/Features/%s' %fileNameF\n",
    "feature_name=fileNameF.split('_')[-2]+'_'+fileNameF.split('_')[-1]\n",
    "\n",
    "phenotype_dist_file='/net/mraid08/export/genie/Lab/Personal/ShaniBAF/TCR_real_data/Distance Matrices/newPhenotypes/%s' %fileNameP\n",
    "phenotype_name=fileNameP.split('_')[-2]+'_'+fileNameP.split('_')[-1]\n",
    "\n",
    "\n",
    "               \n",
    "\n",
    "mantelTest_feature_phenotype(feature_dist_file, phenotype_dist_file,feature_name,phenotype_name, method,n_permut,alternative)"
   ]
  },
  {
   "cell_type": "markdown",
   "metadata": {},
   "source": [
    "### run with ordering the distance matrix"
   ]
  },
  {
   "cell_type": "code",
   "execution_count": null,
   "metadata": {
    "scrolled": true
   },
   "outputs": [],
   "source": [
    "method='spearman'\n",
    "n_permut=9999\n",
    "alternative='two-sided'\n",
    "\n",
    "fileNameP='distMat_PNP434_Age_euclidean'\n",
    "fileNameF='distMat_PNP434_sharingMatrixMoreThan1RA_braycurtis'\n",
    "\n",
    "feature_dist_file='/net/mraid08/export/genie/Lab/Personal/ShaniBAF/TCR_real_data/Distance Matrices/Features/%s' %fileNameF\n",
    "feature_name=fileNameF.split('_')[-2]+'_'+fileNameF.split('_')[-1]\n",
    "\n",
    "phenotype_dist_file='/net/mraid08/export/genie/Lab/Personal/ShaniBAF/TCR_real_data/Distance Matrices/newPhenotypes/%s' %fileNameP\n",
    "phenotype_name=fileNameP.split('_')[-2]+'_'+fileNameP.split('_')[-1]\n",
    "\n",
    "\n",
    "               \n",
    "\n",
    "mantelTest_feature_phenotype(feature_dist_file, phenotype_dist_file,feature_name,phenotype_name, method,n_permut,alternative)"
   ]
  },
  {
   "cell_type": "code",
   "execution_count": null,
   "metadata": {
    "scrolled": true
   },
   "outputs": [],
   "source": [
    "method='spearman'\n",
    "n_permut=9999\n",
    "alternative='two-sided'\n",
    "\n",
    "fileNameP='distMat_PNP434_Albumin_euclidean'\n",
    "fileNameF='distMat_PNP434_sharingMatrixMoreThan1RA_braycurtis'\n",
    "\n",
    "feature_dist_file='/net/mraid08/export/genie/Lab/Personal/ShaniBAF/TCR_real_data/Distance Matrices/Features/%s' %fileNameF\n",
    "feature_name=fileNameF.split('_')[-2]+'_'+fileNameF.split('_')[-1]\n",
    "\n",
    "phenotype_dist_file='/net/mraid08/export/genie/Lab/Personal/ShaniBAF/TCR_real_data/Distance Matrices/newPhenotypes/%s' %fileNameP\n",
    "phenotype_name=fileNameP.split('_')[-2]+'_'+fileNameP.split('_')[-1]\n",
    "\n",
    "\n",
    "               \n",
    "\n",
    "mantelTest_feature_phenotype(feature_dist_file, phenotype_dist_file,feature_name,phenotype_name, method,n_permut,alternative)"
   ]
  },
  {
   "cell_type": "markdown",
   "metadata": {},
   "source": [
    "### remove samples from the same user:"
   ]
  },
  {
   "cell_type": "code",
   "execution_count": null,
   "metadata": {
    "scrolled": true
   },
   "outputs": [],
   "source": [
    "method='spearman'\n",
    "n_permut=9999\n",
    "alternative='two-sided'\n",
    "\n",
    "fileNameP='distMat_PNP434_Age_euclidean'\n",
    "fileNameF='distMat_PNP434_sharingMatrixMoreThan1RA_braycurtis'\n",
    "\n",
    "feature_dist_file='/net/mraid08/export/genie/Lab/Personal/ShaniBAF/TCR_real_data/Distance Matrices/Features/%s' %fileNameF\n",
    "feature_name=fileNameF.split('_')[-2]+'_'+fileNameF.split('_')[-1]\n",
    "\n",
    "phenotype_dist_file='/net/mraid08/export/genie/Lab/Personal/ShaniBAF/TCR_real_data/Distance Matrices/newPhenotypes/%s' %fileNameP\n",
    "phenotype_name=fileNameP.split('_')[-2]+'_'+fileNameP.split('_')[-1]\n",
    "\n",
    "\n",
    "               \n",
    "\n",
    "mantelTest_feature_phenotype(feature_dist_file, phenotype_dist_file,feature_name,phenotype_name, method,n_permut,alternative,removeSameUser=True)"
   ]
  },
  {
   "cell_type": "code",
   "execution_count": null,
   "metadata": {
    "scrolled": true
   },
   "outputs": [],
   "source": [
    "method='spearman'\n",
    "n_permut=9999\n",
    "alternative='two-sided'\n",
    "\n",
    "fileNameP='distMat_PNP434_Albumin_euclidean'\n",
    "fileNameF='distMat_PNP434_sharingMatrixMoreThan1RA_braycurtis'\n",
    "\n",
    "feature_dist_file='/net/mraid08/export/genie/Lab/Personal/ShaniBAF/TCR_real_data/Distance Matrices/Features/%s' %fileNameF\n",
    "feature_name=fileNameF.split('_')[-2]+'_'+fileNameF.split('_')[-1]\n",
    "\n",
    "phenotype_dist_file='/net/mraid08/export/genie/Lab/Personal/ShaniBAF/TCR_real_data/Distance Matrices/newPhenotypes/%s' %fileNameP\n",
    "phenotype_name=fileNameP.split('_')[-2]+'_'+fileNameP.split('_')[-1]\n",
    "\n",
    "\n",
    "               \n",
    "\n",
    "mantelTest_feature_phenotype(feature_dist_file, phenotype_dist_file,feature_name,phenotype_name, method,n_permut,alternative,removeSameUser=True)"
   ]
  },
  {
   "cell_type": "code",
   "execution_count": null,
   "metadata": {},
   "outputs": [],
   "source": []
  },
  {
   "cell_type": "markdown",
   "metadata": {},
   "source": [
    "## running tests:"
   ]
  },
  {
   "cell_type": "code",
   "execution_count": null,
   "metadata": {},
   "outputs": [],
   "source": [
    "PhenotypeDistFolder='/net/mraid08/export/genie/Lab/Personal/ShaniBAF/TCR_real_data/Distance Matrices/Phenotypes'\n",
    "phenotypeFiles = [f for f in listdir(PhenotypeDistFolder) if isfile(join(PhenotypeDistFolder, f))]\n",
    "FeatureDistFolder='/net/mraid08/export/genie/Lab/Personal/ShaniBAF/TCR_real_data/Distance Matrices/Features'\n",
    "featureFiles = [f for f in listdir(FeatureDistFolder) if isfile(join(FeatureDistFolder, f))]"
   ]
  },
  {
   "cell_type": "code",
   "execution_count": null,
   "metadata": {},
   "outputs": [],
   "source": [
    "featureFiles"
   ]
  },
  {
   "cell_type": "code",
   "execution_count": null,
   "metadata": {},
   "outputs": [],
   "source": [
    "phenotypeFiles"
   ]
  },
  {
   "cell_type": "code",
   "execution_count": null,
   "metadata": {},
   "outputs": [],
   "source": [
    "method='spearman'\n",
    "n_permut=9999\n",
    "alternative='two-sided'\n",
    "\n",
    "\n",
    "for i,fileNameF in enumerate(featureFiles):\n",
    "    if i<2:\n",
    "        feature_dist_file='/net/mraid08/export/genie/Lab/Personal/ShaniBAF/TCR_real_data/Distance Matrices/Features/%s' %fileNameF\n",
    "### update name and uncomment!!        feature_name=fileNameF.split('_')[1]+fileNameF.split('_')[2]+fileNameF.split('_')[3]\n",
    "#         print i,feature_name\n",
    "\n",
    "        for j,fileNameP in enumerate(phenotypeFiles):\n",
    "#             if j<4:\n",
    "                phenotype_dist_file='/net/mraid08/export/genie/Lab/Personal/ShaniBAF/TCR_real_data/Distance Matrices/Phenotypes/%s' %fileNameP\n",
    "### update name and uncomment!!                phenotype_name=fileNameP.split('_')[1]+fileNameP.split('_')[2]\n",
    "                print i, j, feature_name, phenotype_name\n",
    "               \n",
    "\n",
    "                mantelTest_feature_phenotype(feature_dist_file, phenotype_dist_file,feature_name,phenotype_name, method,n_permut,alternative)\n",
    "    "
   ]
  },
  {
   "cell_type": "markdown",
   "metadata": {},
   "source": [
    "### run again for new phenotypes and new features - 070118\n",
    "\n",
    "on eclipse!!"
   ]
  },
  {
   "cell_type": "markdown",
   "metadata": {},
   "source": [
    "### check which old phenotypes should I ran:"
   ]
  },
  {
   "cell_type": "code",
   "execution_count": null,
   "metadata": {},
   "outputs": [],
   "source": [
    "pathOLD =  '/net/mraid08/export/genie/Lab/Personal/ShaniBAF/TCR_real_data/Distance Matrices/Phenotypes'\n",
    "filenamesOLD = os.listdir(pathOLD)"
   ]
  },
  {
   "cell_type": "code",
   "execution_count": null,
   "metadata": {},
   "outputs": [],
   "source": [
    "pathNEW =  '/net/mraid08/export/genie/Lab/Personal/ShaniBAF/TCR_real_data/Distance Matrices/newPhenotypes'\n",
    "filenamesNEW = os.listdir(pathNEW)"
   ]
  },
  {
   "cell_type": "code",
   "execution_count": null,
   "metadata": {},
   "outputs": [],
   "source": [
    "for f in filenamesOLD:\n",
    "    if f not in filenamesNEW:\n",
    "        print f"
   ]
  },
  {
   "cell_type": "code",
   "execution_count": null,
   "metadata": {},
   "outputs": [],
   "source": [
    "for f in filenamesNEW:\n",
    "    if 'TSH' in f:\n",
    "        print f"
   ]
  },
  {
   "cell_type": "markdown",
   "metadata": {},
   "source": [
    "*** CONCLUSIONS: ***\n",
    "the only phenotypes that exist in the old phenotype folder and not in the new one are:\n",
    "MPV, WHR, BPdia, BPsys, Platelets\n",
    "\n",
    "I moved them to the new phenotype folder  - 7/1/18"
   ]
  },
  {
   "cell_type": "code",
   "execution_count": null,
   "metadata": {},
   "outputs": [],
   "source": [
    "# number of mantel tests - 7.1.18 = 1260\n",
    "70*18"
   ]
  },
  {
   "cell_type": "code",
   "execution_count": null,
   "metadata": {},
   "outputs": [],
   "source": [
    "# corrected p-value - 7.1.18 - 0.00004\n",
    "0.05/1260"
   ]
  },
  {
   "cell_type": "markdown",
   "metadata": {},
   "source": [
    "## view mantel tests results - 'two sided:"
   ]
  },
  {
   "cell_type": "code",
   "execution_count": null,
   "metadata": {},
   "outputs": [],
   "source": [
    "MantelFolder='/net/mraid08/export/genie/Lab/Personal/ShaniBAF/TCR_real_data/PhenotypicData/NewMantelTestResults'\n",
    "Mantels=concat_summarizing_dfs(MantelFolder)"
   ]
  },
  {
   "cell_type": "code",
   "execution_count": null,
   "metadata": {},
   "outputs": [],
   "source": [
    "Mantels.sort_values(by='p_value')"
   ]
  },
  {
   "cell_type": "code",
   "execution_count": null,
   "metadata": {},
   "outputs": [],
   "source": [
    "Mantels.sort_values(by='corr_coeff',ascending=False)"
   ]
  },
  {
   "cell_type": "code",
   "execution_count": null,
   "metadata": {},
   "outputs": [],
   "source": [
    "Mantels[Mantels['phenotype_name'].str.contains('Mic')].sort_values(by='p_value')"
   ]
  },
  {
   "cell_type": "code",
   "execution_count": null,
   "metadata": {},
   "outputs": [],
   "source": [
    "Mantels['feature_name'].unique()"
   ]
  },
  {
   "cell_type": "code",
   "execution_count": null,
   "metadata": {},
   "outputs": [],
   "source": []
  },
  {
   "cell_type": "code",
   "execution_count": null,
   "metadata": {},
   "outputs": [],
   "source": [
    "featureList=Mantels['feature_name'].unique()\n",
    "print len(featuresList)"
   ]
  },
  {
   "cell_type": "code",
   "execution_count": null,
   "metadata": {},
   "outputs": [],
   "source": [
    "for i, feature in enumerate(featureList):\n",
    "    if i==0:\n",
    "#         print i\n",
    "        MantelOrganizedResults=Mantels[Mantels['feature_name']==feature]\n",
    "#         print len(MantelOrganizedDF)\n",
    "    else:\n",
    "        MantelOrganizedResults=pd.merge(MantelOrganizedResults,Mantels[Mantels['feature_name']==feature],\n",
    "                                  how='outer', left_on=['phenotype_name','method','n_permut', 'alternative'],\n",
    "                                               right_on=['phenotype_name','method','n_permut', 'alternative'],\n",
    "                                    suffixes=('','_%s' %feature))\n",
    "#         print len(MantelOrganizedDF) \n",
    "\n",
    "MantelOrganizedResults=MantelOrganizedResults.rename(columns={'corr_coeff':'corr_coeff_sharingMatrixMoreThan101PCsUsed_euclidean',\n",
    "                                                    'p_value':'p_value_sharingMatrixMoreThan101PCsUsed_euclidean',\n",
    "                                                    'N':'N_sharingMatrixMoreThan101PCsUsed_euclidean'})\n",
    "for column in MantelOrganizedResults.columns.values:\n",
    "        if 'feature_name' in column:\n",
    "            MantelOrganizedResults=MantelOrganizedResults.drop(column,axis=1)\n",
    "        newColName=column.replace('sharingMatrixMoreThan','')\n",
    "#         newColName=newColName.replace('_euclidean','')\n",
    "#         newColName=newColName.replace('_braycurtis','')\n",
    "        MantelOrganizedResults=MantelOrganizedResults.rename(columns={column:newColName})\n",
    "                                                    \n",
    "MantelOrganizedResults.head()       \n",
    "    "
   ]
  },
  {
   "cell_type": "code",
   "execution_count": null,
   "metadata": {},
   "outputs": [],
   "source": [
    "pList=[]\n",
    "rList=[]\n",
    "\n",
    "for column in MantelOrganizedResults.columns.values:\n",
    "    if 'p_value' in column:\n",
    "        pList.append(column)\n",
    "    if 'corr_coeff' in column:\n",
    "        rList.append(column)\n",
    "\n",
    "MantelOrganizedResults['Mean p_value']=MantelOrganizedResults[pList].mean(axis=1)\n",
    "MantelOrganizedResults['Mean corr_coeff']=MantelOrganizedResults[rList].mean(axis=1)\n",
    "MantelOrganizedResults.head()"
   ]
  },
  {
   "cell_type": "code",
   "execution_count": null,
   "metadata": {},
   "outputs": [],
   "source": [
    "file1='/net/mraid08/export/genie/Lab/Personal/ShaniBAF/TCR_real_data/PhenotypicData/MantelOrganizedResults'\n",
    "MantelOrganizedResults.to_pickle(file1)\n",
    "\n",
    "file1='/net/mraid08/export/genie/Lab/Personal/ShaniBAF/TCR_real_data/PhenotypicData/MantelOrganizedResults.xlsx'\n",
    "MantelOrganizedResults.to_excel(file1)"
   ]
  },
  {
   "cell_type": "code",
   "execution_count": null,
   "metadata": {},
   "outputs": [],
   "source": [
    "MantelOrganizedResults.columns.values"
   ]
  },
  {
   "cell_type": "code",
   "execution_count": null,
   "metadata": {},
   "outputs": [],
   "source": [
    "for column in MantelOrganizedResults.columns.values:\n",
    "    if 'Binary' in column:\n",
    "        print column"
   ]
  },
  {
   "cell_type": "markdown",
   "metadata": {},
   "source": [
    "## view mantel tests results - 'greater:"
   ]
  },
  {
   "cell_type": "code",
   "execution_count": null,
   "metadata": {},
   "outputs": [],
   "source": [
    "MantelFolder='/net/mraid08/export/genie/Lab/Personal/ShaniBAF/TCR_real_data/PhenotypicData/NewMantelTestResults_greater'\n",
    "Mantels_greater=concat_summarizing_dfs(MantelFolder)"
   ]
  },
  {
   "cell_type": "code",
   "execution_count": null,
   "metadata": {},
   "outputs": [],
   "source": [
    "Mantels_greater.sort_values(by='p_value')"
   ]
  },
  {
   "cell_type": "code",
   "execution_count": null,
   "metadata": {},
   "outputs": [],
   "source": [
    "Mantels_greater.sort_values(by='corr_coeff',ascending=False)"
   ]
  },
  {
   "cell_type": "code",
   "execution_count": null,
   "metadata": {},
   "outputs": [],
   "source": [
    "Mantels_greater[Mantels_greater['phenotype_name'].str.contains('Mic')].sort_values(by='p_value')"
   ]
  },
  {
   "cell_type": "code",
   "execution_count": null,
   "metadata": {},
   "outputs": [],
   "source": [
    "Mantels_greater['feature_name'].unique()"
   ]
  },
  {
   "cell_type": "code",
   "execution_count": null,
   "metadata": {},
   "outputs": [],
   "source": []
  },
  {
   "cell_type": "code",
   "execution_count": null,
   "metadata": {},
   "outputs": [],
   "source": [
    "featureList=Mantels_greater['feature_name'].unique()\n",
    "print len(featuresList)"
   ]
  },
  {
   "cell_type": "code",
   "execution_count": null,
   "metadata": {},
   "outputs": [],
   "source": [
    "for i, feature in enumerate(featureList):\n",
    "    if i==0:\n",
    "#         print i\n",
    "        MantelOrganizedResults_greater=Mantels_greater[Mantels_greater['feature_name']==feature]\n",
    "#         print len(MantelOrganizedDF)\n",
    "    else:\n",
    "        MantelOrganizedResults_greater=pd.merge(MantelOrganizedResults_greater,Mantels_greater[Mantels_greater['feature_name']==feature],\n",
    "                                  how='outer', left_on=['phenotype_name','method','n_permut', 'alternative'],\n",
    "                                               right_on=['phenotype_name','method','n_permut', 'alternative'],\n",
    "                                    suffixes=('','_%s' %feature))\n",
    "#         print len(MantelOrganizedResults_greater) \n",
    "\n",
    "MantelOrganizedResults_greater=MantelOrganizedResults_greater.rename(columns={'corr_coeff':'corr_coeff_sharingMatrixMoreThan101PCsUsed_euclidean',\n",
    "                                                    'p_value':'p_value_sharingMatrixMoreThan101PCsUsed_euclidean',\n",
    "                                                    'N':'N_sharingMatrixMoreThan101PCsUsed_euclidean'})\n",
    "for column in MantelOrganizedResults_greater.columns.values:\n",
    "        if 'feature_name' in column:\n",
    "            MantelOrganizedResults_greater=MantelOrganizedResults_greater.drop(column,axis=1)\n",
    "        newColName=column.replace('sharingMatrixMoreThan','')\n",
    "#         newColName=newColName.replace('_euclidean','')\n",
    "#         newColName=newColName.replace('_braycurtis','')\n",
    "        MantelOrganizedResults_greater=MantelOrganizedResults_greater.rename(columns={column:newColName})\n",
    "                                                    \n",
    "MantelOrganizedResults_greater.head()       \n",
    "    "
   ]
  },
  {
   "cell_type": "code",
   "execution_count": null,
   "metadata": {},
   "outputs": [],
   "source": [
    "pList=[]\n",
    "rList=[]\n",
    "\n",
    "for column in MantelOrganizedResults_greater.columns.values:\n",
    "    if 'p_value' in column:\n",
    "        pList.append(column)\n",
    "    if 'corr_coeff' in column:\n",
    "        rList.append(column)\n",
    "\n",
    "MantelOrganizedResults_greater['Mean p_value']=MantelOrganizedResults_greater[pList].mean(axis=1)\n",
    "MantelOrganizedResults_greater['Mean corr_coeff']=MantelOrganizedResults_greater[rList].mean(axis=1)\n",
    "MantelOrganizedResults_greater['Min p_value']=MantelOrganizedResults_greater[pList].min(axis=1)\n",
    "MantelOrganizedResults_greater['Max corr_coeff']=MantelOrganizedResults_greater[rList].max(axis=1)\n",
    "MantelOrganizedResults_greater.head()"
   ]
  },
  {
   "cell_type": "code",
   "execution_count": null,
   "metadata": {},
   "outputs": [],
   "source": [
    "file1='/net/mraid08/export/genie/Lab/Personal/ShaniBAF/TCR_real_data/PhenotypicData/MantelOrganizedResults_greater'\n",
    "MantelOrganizedResults_greater.to_pickle(file1)\n",
    "\n",
    "file1='/net/mraid08/export/genie/Lab/Personal/ShaniBAF/TCR_real_data/PhenotypicData/MantelOrganizedResults_greater.xlsx'\n",
    "MantelOrganizedResults_greater.to_excel(file1)"
   ]
  },
  {
   "cell_type": "code",
   "execution_count": null,
   "metadata": {},
   "outputs": [],
   "source": [
    "MantelOrganizedResults.columns.values"
   ]
  },
  {
   "cell_type": "code",
   "execution_count": null,
   "metadata": {},
   "outputs": [],
   "source": [
    "for column in MantelOrganizedResults.columns.values:\n",
    "    if 'Binary' in column:\n",
    "        print column"
   ]
  },
  {
   "cell_type": "markdown",
   "metadata": {},
   "source": [
    "## view mantel tests results - 'greater_100000:"
   ]
  },
  {
   "cell_type": "code",
   "execution_count": null,
   "metadata": {},
   "outputs": [],
   "source": [
    "MantelFolder='/net/mraid08/export/genie/Lab/Personal/ShaniBAF/TCR_real_data/PhenotypicData/NewMantelTestResults_greater_100000'\n",
    "Mantels_greater_100000=concat_summarizing_dfs(MantelFolder)"
   ]
  },
  {
   "cell_type": "code",
   "execution_count": null,
   "metadata": {},
   "outputs": [],
   "source": [
    "0.05/1260"
   ]
  },
  {
   "cell_type": "code",
   "execution_count": null,
   "metadata": {},
   "outputs": [],
   "source": [
    "Mantels_greater_100000.sort_values(by='p_value')"
   ]
  },
  {
   "cell_type": "code",
   "execution_count": null,
   "metadata": {},
   "outputs": [],
   "source": [
    "Mantels_greater_100000.sort_values(by='corr_coeff',ascending=False)"
   ]
  },
  {
   "cell_type": "code",
   "execution_count": null,
   "metadata": {},
   "outputs": [],
   "source": [
    "Mantels_greater_100000[Mantels_greater_100000['phenotype_name'].str.contains('Mic')].sort_values(by='p_value')"
   ]
  },
  {
   "cell_type": "code",
   "execution_count": null,
   "metadata": {},
   "outputs": [],
   "source": [
    "Mantels_greater_100000['feature_name'].unique()"
   ]
  },
  {
   "cell_type": "code",
   "execution_count": null,
   "metadata": {},
   "outputs": [],
   "source": [
    "print len(Mantels_greater_100000['feature_name'].unique())"
   ]
  },
  {
   "cell_type": "code",
   "execution_count": null,
   "metadata": {},
   "outputs": [],
   "source": [
    "featureList=Mantels_greater_100000['feature_name'].unique()"
   ]
  },
  {
   "cell_type": "code",
   "execution_count": null,
   "metadata": {},
   "outputs": [],
   "source": [
    "for i, feature in enumerate(featureList):\n",
    "    print i, feature\n",
    "    if i==0:\n",
    "\n",
    "        MantelOrganizedResults_greater100000=Mantels_greater_100000[Mantels_greater_100000['feature_name']==feature]\n",
    "\n",
    "    else:\n",
    "        MantelOrganizedResults_greater100000=pd.merge(MantelOrganizedResults_greater100000,Mantels_greater_100000[Mantels_greater_100000['feature_name']==feature],\n",
    "                                  how='outer', left_on=['phenotype_name','method','n_permut', 'alternative'],\n",
    "                                               right_on=['phenotype_name','method','n_permut', 'alternative'],\n",
    "                                    suffixes=('','_%s' %feature))\n",
    "\n",
    "\n",
    "MantelOrganizedResults_greater100000=MantelOrganizedResults_greater100000.rename(columns={'corr_coeff':'corr_coeff_sharingMatrixMoreThan150PCsUsed_euclidean',\n",
    "                                                    'p_value':'p_value_sharingMatrixMoreThan150PCsUsed_euclidean',\n",
    "                                                    'N':'N_sharingMatrixMoreThan150PCsUsed_euclidean'})\n",
    "for column in MantelOrganizedResults_greater100000.columns.values:\n",
    "        if 'feature_name' in column:\n",
    "            MantelOrganizedResults_greater100000=MantelOrganizedResults_greater100000.drop(column,axis=1)\n",
    "        newColName=column.replace('sharingMatrixMoreThan','')\n",
    "        MantelOrganizedResults_greater100000=MantelOrganizedResults_greater100000.rename(columns={column:newColName})\n",
    "                                                    \n",
    "MantelOrganizedResults_greater100000.head()       \n",
    "    "
   ]
  },
  {
   "cell_type": "code",
   "execution_count": null,
   "metadata": {},
   "outputs": [],
   "source": [
    "pList=[]\n",
    "rList=[]\n",
    "\n",
    "for column in MantelOrganizedResults_greater100000.columns.values:\n",
    "    if 'p_value' in column:\n",
    "        pList.append(column)\n",
    "    if 'corr_coeff' in column:\n",
    "        rList.append(column)\n",
    "\n",
    "MantelOrganizedResults_greater100000['Mean p_value']=MantelOrganizedResults_greater100000[pList].mean(axis=1)\n",
    "MantelOrganizedResults_greater100000['Mean corr_coeff']=MantelOrganizedResults_greater100000[rList].mean(axis=1)\n",
    "MantelOrganizedResults_greater100000['Min p_value']=MantelOrganizedResults_greater100000[pList].min(axis=1)\n",
    "MantelOrganizedResults_greater100000['Max corr_coeff']=MantelOrganizedResults_greater100000[rList].max(axis=1)\n",
    "MantelOrganizedResults_greater100000.head()"
   ]
  },
  {
   "cell_type": "code",
   "execution_count": null,
   "metadata": {},
   "outputs": [],
   "source": []
  },
  {
   "cell_type": "code",
   "execution_count": null,
   "metadata": {},
   "outputs": [],
   "source": [
    "file1='/net/mraid08/export/genie/Lab/Personal/ShaniBAF/TCR_real_data/PhenotypicData/MantelOrganizedResults_greater100000'\n",
    "MantelOrganizedResults_greater100000.to_pickle(file1)\n",
    "\n",
    "file1='/net/mraid08/export/genie/Lab/Personal/ShaniBAF/TCR_real_data/PhenotypicData/MantelOrganizedResults_greater100000.xlsx'\n",
    "MantelOrganizedResults_greater100000.to_excel(file1)"
   ]
  },
  {
   "cell_type": "code",
   "execution_count": null,
   "metadata": {},
   "outputs": [],
   "source": []
  },
  {
   "cell_type": "markdown",
   "metadata": {},
   "source": [
    "## running again mantel tests: for new features - 24.1.18"
   ]
  },
  {
   "cell_type": "markdown",
   "metadata": {},
   "source": [
    "This was ran in eclipse using runMantel2:\n",
    "129 feature distance matrices and 70 phenotype distance matrices\n",
    "in total: 9030 tests\n",
    "required p-value=5.5*10-6\n",
    "minimal p-value with 99999 permutations=10-5"
   ]
  },
  {
   "cell_type": "code",
   "execution_count": null,
   "metadata": {},
   "outputs": [],
   "source": [
    "MantelFolder='/net/mraid08/export/genie/Lab/Personal/ShaniBAF/TCR_real_data/PhenotypicData/NewMantelTestResults_newFeatures'\n",
    "Mantels_newFeatures=concat_summarizing_dfs(MantelFolder)"
   ]
  },
  {
   "cell_type": "code",
   "execution_count": null,
   "metadata": {},
   "outputs": [],
   "source": [
    "Mantels_newFeatures.sort_values(by='p_value')"
   ]
  },
  {
   "cell_type": "code",
   "execution_count": null,
   "metadata": {},
   "outputs": [],
   "source": [
    "Mantels_newFeatures.sort_values(by='corr_coeff',ascending=False)"
   ]
  },
  {
   "cell_type": "code",
   "execution_count": null,
   "metadata": {},
   "outputs": [],
   "source": [
    "Mantels_newFeatures[Mantels_newFeatures['phenotype_name'].str.contains('Mic')].sort_values(by='p_value')"
   ]
  },
  {
   "cell_type": "code",
   "execution_count": null,
   "metadata": {},
   "outputs": [],
   "source": [
    "Mantels_newFeatures['feature_name'].unique()"
   ]
  },
  {
   "cell_type": "code",
   "execution_count": null,
   "metadata": {},
   "outputs": [],
   "source": [
    "print len(Mantels_newFeatures['feature_name'].unique())"
   ]
  },
  {
   "cell_type": "code",
   "execution_count": null,
   "metadata": {},
   "outputs": [],
   "source": [
    "featureList=Mantels_newFeatures['feature_name'].unique()"
   ]
  },
  {
   "cell_type": "code",
   "execution_count": null,
   "metadata": {},
   "outputs": [],
   "source": [
    "for i, feature in enumerate(featureList):\n",
    "    print i, feature\n",
    "    if i==0:\n",
    "\n",
    "        MantelOrganizedResults_newFeatures=Mantels_newFeatures[Mantels_newFeatures['feature_name']==feature]\n",
    "\n",
    "    else:\n",
    "        MantelOrganizedResults_newFeatures=pd.merge(MantelOrganizedResults_newFeatures,Mantels_newFeatures[Mantels_newFeatures['feature_name']==feature],\n",
    "                                  how='outer', left_on=['phenotype_name','method','n_permut', 'alternative'],\n",
    "                                               right_on=['phenotype_name','method','n_permut', 'alternative'],\n",
    "                                    suffixes=('','_%s' %feature))\n",
    "\n",
    "\n",
    "MantelOrganizedResults_newFeatures=MantelOrganizedResults_newFeatures.rename(columns={'corr_coeff':'corr_coeff_sharingMatrixMoreThan150PCsUsed_euclidean',\n",
    "                                                    'p_value':'p_value_sharingMatrixMoreThan150PCsUsed_euclidean',\n",
    "                                                    'N':'N_sharingMatrixMoreThan150PCsUsed_euclidean'})\n",
    "for column in MantelOrganizedResults_newFeatures.columns.values:\n",
    "        if 'feature_name' in column:\n",
    "            MantelOrganizedResults_newFeatures=MantelOrganizedResults_newFeatures.drop(column,axis=1)\n",
    "        newColName=column.replace('sharingMatrixMoreThan','')\n",
    "        MantelOrganizedResults_newFeatures=MantelOrganizedResults_newFeatures.rename(columns={column:newColName})\n",
    "                                                    \n",
    "MantelOrganizedResults_newFeatures.head()       \n",
    "    "
   ]
  },
  {
   "cell_type": "code",
   "execution_count": null,
   "metadata": {},
   "outputs": [],
   "source": [
    "pList=[]\n",
    "rList=[]\n",
    "\n",
    "for column in MantelOrganizedResults_newFeatures.columns.values:\n",
    "    if 'p_value' in column:\n",
    "        pList.append(column)\n",
    "    if 'corr_coeff' in column:\n",
    "        rList.append(column)\n",
    "\n",
    "MantelOrganizedResults_newFeatures['Mean p_value']=MantelOrganizedResults_newFeatures[pList].mean(axis=1)\n",
    "MantelOrganizedResults_newFeatures['Mean corr_coeff']=MantelOrganizedResults_newFeatures[rList].mean(axis=1)\n",
    "MantelOrganizedResults_newFeatures['Min p_value']=MantelOrganizedResults_newFeatures[pList].min(axis=1)\n",
    "MantelOrganizedResults_newFeatures['Max corr_coeff']=MantelOrganizedResults_newFeatures[rList].max(axis=1)\n",
    "MantelOrganizedResults_newFeatures.head()"
   ]
  },
  {
   "cell_type": "code",
   "execution_count": null,
   "metadata": {},
   "outputs": [],
   "source": []
  },
  {
   "cell_type": "code",
   "execution_count": null,
   "metadata": {},
   "outputs": [],
   "source": [
    "file1='/net/mraid08/export/genie/Lab/Personal/ShaniBAF/TCR_real_data/PhenotypicData/MantelOrganizedResults_newFeatures'\n",
    "MantelOrganizedResults_newFeatures.to_pickle(file1)\n",
    "\n",
    "file1='/net/mraid08/export/genie/Lab/Personal/ShaniBAF/TCR_real_data/PhenotypicData/MantelOrganizedResults_newFeatures.xlsx'\n",
    "MantelOrganizedResults_newFeatures.to_excel(file1)"
   ]
  },
  {
   "cell_type": "code",
   "execution_count": null,
   "metadata": {},
   "outputs": [],
   "source": []
  },
  {
   "cell_type": "code",
   "execution_count": null,
   "metadata": {},
   "outputs": [],
   "source": []
  },
  {
   "cell_type": "code",
   "execution_count": null,
   "metadata": {},
   "outputs": [],
   "source": []
  },
  {
   "cell_type": "code",
   "execution_count": null,
   "metadata": {},
   "outputs": [],
   "source": []
  },
  {
   "cell_type": "code",
   "execution_count": null,
   "metadata": {},
   "outputs": [],
   "source": []
  },
  {
   "cell_type": "markdown",
   "metadata": {},
   "source": [
    "# correlation plots"
   ]
  },
  {
   "cell_type": "markdown",
   "metadata": {},
   "source": [
    "## develop correlation plot function to be incorporated into the mantel test function:"
   ]
  },
  {
   "cell_type": "code",
   "execution_count": null,
   "metadata": {},
   "outputs": [],
   "source": [
    "\n",
    "file1='/net/mraid08/export/genie/Lab/Personal/ShaniBAF/TCR_real_data/Distance Matrices/Phenotypes/PNP434_Age_EucDistMat'\n",
    "AgeDF=pd.read_pickle(file1)\n",
    "file2='/net/mraid08/export/genie/Lab/Personal/ShaniBAF/TCR_real_data/Distance Matrices/Features/PNP434_sharingMatrix_moreThan5_RA__braycurtis_distMat'\n",
    "featureDF=pd.read_pickle(file2)"
   ]
  },
  {
   "cell_type": "markdown",
   "metadata": {},
   "source": [
    "### process distance matrices:"
   ]
  },
  {
   "cell_type": "code",
   "execution_count": null,
   "metadata": {},
   "outputs": [],
   "source": [
    "x=AgeDF\n",
    "y=featureDF\n",
    "\n",
    "print 'original x array shape is %s_%s' %(x.shape[0],x.shape[1])\n",
    "print 'original y array shape is %s_%s' %(y.shape[0],y.shape[1])\n",
    "\n",
    "for sample in x.index:\n",
    "    if sample not in y.index:\n",
    "        x=x.drop(sample,axis=0)\n",
    "        x=x.drop(sample,axis=1)\n",
    "for sample in y.index:\n",
    "    if sample not in x.index:\n",
    "        y=y.drop(sample,axis=0)\n",
    "        y=y.drop(sample,axis=1)\n",
    "\n",
    "for column in x:    #remove nonnumeric columns\n",
    "    if x[column].dtype=='object':\n",
    "        x=x.drop(column,axis=1)\n",
    "        print '%s column was dropped from x' %column\n",
    "x=x.dropna(axis=(0,1),how='all') #remove empty rows\n",
    "\n",
    "for column in y:    #remove nonnumeric columns\n",
    "    if y[column].dtype=='object':\n",
    "        y=y.drop(column,axis=1)\n",
    "        print '%s column was dropped from y' %column\n",
    "y=y.dropna(axis=(0,1),how='all') #remove empty rows\n",
    "\n",
    "print 'new x array shape is %s_%s' %(x.shape[0],x.shape[1])\n",
    "print 'new y array shape is %s_%s' %(y.shape[0],y.shape[1])"
   ]
  },
  {
   "cell_type": "code",
   "execution_count": null,
   "metadata": {},
   "outputs": [],
   "source": [
    "x=xValueList\n",
    "y=yValueList\n",
    "\n",
    "fig1=plt.figure(figsize=(6,6))\n",
    "\n",
    "ymean=np.mean(y)                                                                                                                      \n",
    "\n",
    "plt.scatter(x,y, alpha=0.1)\n",
    "plt.xlabel('Age')\n",
    "plt.ylabel('sharingMatrix_moreThan5_RA__braycurtis_distMat')\n",
    "\n",
    "\n",
    "\n",
    "# #fit with np.polyfit\n",
    "# nx=np.isnan(x)\n",
    "# ny=np.isnan(y)\n",
    "# n=nx+ny\n",
    "# newx=list(x[~n])\n",
    "# newy=list(y[~n])\n",
    "\n",
    "# print newx\n",
    "# print newy\n",
    "plt.plot(np.unique(x), np.poly1d(np.polyfit(x, y, 1))(np.unique(x)),c='blue',linewidth=1)\n",
    "# plt.plot(x=x,c='black', linewidth=4)\n",
    "plt.title('Age to sharing_5RA distance matrix correlation')\n",
    "\n",
    "\n",
    "from scipy.stats import pearsonr\n",
    "r,p = pearsonr(x,y)\n",
    "\n",
    "\n",
    "plt.annotate(\"r=%.4f p=%.6f\" %(r,p),  xy=(0.02, 0.96), xycoords='axes fraction', fontsize=12,\n",
    "    horizontalalignment='left', verticalalignment='top', fontweight='bold')\n",
    "\n",
    "\n",
    "\n",
    "plt.show()"
   ]
  },
  {
   "cell_type": "markdown",
   "metadata": {},
   "source": [
    "## The function: plot correlation scatter from two distance matrices:"
   ]
  },
  {
   "cell_type": "code",
   "execution_count": null,
   "metadata": {},
   "outputs": [],
   "source": [
    "'''\n",
    "x=feature matrix\n",
    "y=phenotype matrix\n",
    "\n",
    "x and y should be preprocessed to be at the same shape!\n",
    "\n",
    "'''\n",
    "\n",
    "\n",
    "def plot_corr_for_distMats(featureDistMat,PhenotypeDistMat,FeatureName,PhenotypeName,minPhenotypeValue):\n",
    "    \n",
    "    \n",
    "    \n",
    "    # generate lists of feature and phenotype distances for each sample combination:\n",
    "    indList=[]\n",
    "    xValueList=[]\n",
    "    yValueList=[]\n",
    "\n",
    "    for i,row in enumerate(featureDistMat.index):\n",
    "        for j,column in enumerate(featureDistMat.columns.values):\n",
    "            if row!=column:\n",
    "                ind=row+'_'+column\n",
    "                indList.append(ind)\n",
    "                xValue=featureDistMat.loc[row,column]\n",
    "                xValueList.append(xValue)\n",
    "                yValue=PhenotypeDistMat.loc[row,column]\n",
    "                yValueList.append(yValue)\n",
    "\n",
    "    x=xValueList\n",
    "    y=yValueList\n",
    "\n",
    "    fig1=plt.figure(figsize=(8,8))\n",
    "\n",
    "    ymean=np.mean(y)                                                                                                                      \n",
    "\n",
    "    plt.scatter(x,y, alpha=0.1)\n",
    "    plt.xlabel(FeatureName,fontsize=14)\n",
    "    plt.ylabel(PhenotypeName,fontsize=14)\n",
    "    plt.plot(np.unique(x), np.poly1d(np.polyfit(x, y, 1))(np.unique(x)),c='blue',linewidth=1)\n",
    "    plt.title('Distance matrix correlation',fontsize=16)\n",
    "    \n",
    "    from scipy.stats import pearsonr\n",
    "    r,p = pearsonr(x,y)\n",
    "    \n",
    "    nSamples=len(featureDistMat)\n",
    "\n",
    "\n",
    "    plt.annotate(\"r=%.4f p=%.6f, nSamples=%s\" %(r,p,nSamples),  xy=(0.02, 0.96), xycoords='axes fraction', fontsize=14,\n",
    "        horizontalalignment='left', verticalalignment='top', fontweight='bold')\n",
    "    \n",
    "    if minPhenotypeValue is not None:\n",
    "        plt.ylim(minPhenotypeValue,np.max(y)*1.1)\n",
    "#         plt.margins(0.2)\n",
    "    \n",
    "#     file1='/net/mraid08/export/genie/Lab/Personal/ShaniBAF/TCR_real_data/PhenotypicData/DistMat_correlation_plots/'\n",
    "#     fig1.savefig(file1,dpi=200)\n",
    "\n",
    "\n",
    "    return fig1\n",
    "\n",
    "\n",
    "    \n",
    "    \n",
    "\n",
    "    "
   ]
  },
  {
   "cell_type": "code",
   "execution_count": null,
   "metadata": {},
   "outputs": [],
   "source": [
    "18*41"
   ]
  },
  {
   "cell_type": "code",
   "execution_count": null,
   "metadata": {},
   "outputs": [],
   "source": [
    "file1='/net/mraid08/export/genie/Lab/Personal/ShaniBAF/TCR_real_data/Distance Matrices/Phenotypes/PNP434_Total Protein_EucDistMat'\n",
    "TotalProtDF=pd.read_pickle(file1)\n",
    "file2='/net/mraid08/export/genie/Lab/Personal/ShaniBAF/TCR_real_data/Distance Matrices/Features/PNP434_sharingMatrix_moreThan2_RA__braycurtis_distMat'\n",
    "featureDF=pd.read_pickle(file2)"
   ]
  },
  {
   "cell_type": "code",
   "execution_count": null,
   "metadata": {},
   "outputs": [],
   "source": [
    "x=TotalProtDF\n",
    "y=featureDF\n",
    "\n",
    "print 'original x array shape is %s_%s' %(x.shape[0],x.shape[1])\n",
    "print 'original y array shape is %s_%s' %(y.shape[0],y.shape[1])\n",
    "\n",
    "for sample in x.index:\n",
    "    if sample not in y.index:\n",
    "        x=x.drop(sample,axis=0)\n",
    "        x=x.drop(sample,axis=1)\n",
    "for sample in y.index:\n",
    "    if sample not in x.index:\n",
    "        y=y.drop(sample,axis=0)\n",
    "        y=y.drop(sample,axis=1)\n",
    "\n",
    "for column in x:    #remove nonnumeric columns\n",
    "    if x[column].dtype=='object':\n",
    "        x=x.drop(column,axis=1)\n",
    "        print '%s column was dropped from x' %column\n",
    "x=x.dropna(axis=(0,1),how='all') #remove empty rows\n",
    "\n",
    "for column in y:    #remove nonnumeric columns\n",
    "    if y[column].dtype=='object':\n",
    "        y=y.drop(column,axis=1)\n",
    "        print '%s column was dropped from y' %column\n",
    "y=y.dropna(axis=(0,1),how='all') #remove empty rows\n",
    "\n",
    "print 'new x array shape is %s_%s' %(x.shape[0],x.shape[1])\n",
    "print 'new y array shape is %s_%s' %(y.shape[0],y.shape[1])"
   ]
  },
  {
   "cell_type": "code",
   "execution_count": null,
   "metadata": {},
   "outputs": [],
   "source": [
    "FeatureName='sharingMatrix_moreThan2_RA'\n",
    "PhenotypeName='TotalProtein'\n",
    "fig1=plot_corr_for_distMats(y,x,FeatureName,PhenotypeName,minPhenotypeValue=0)\n",
    "plt.show()"
   ]
  },
  {
   "cell_type": "code",
   "execution_count": null,
   "metadata": {},
   "outputs": [],
   "source": [
    "file1='/net/mraid08/export/genie/Lab/Personal/ShaniBAF/TCR_real_data/PhenotypicData/DistMat_correlation_plots/%s_%s' %(FeatureName,PhenotypeName)\n",
    "fig1.savefig(file1,dpi=200)"
   ]
  },
  {
   "cell_type": "code",
   "execution_count": null,
   "metadata": {},
   "outputs": [],
   "source": [
    "file1='/net/mraid08/export/genie/Lab/Personal/ShaniBAF/TCR_real_data/Distance Matrices/Phenotypes/PNP434_Age_EucDistMat'\n",
    "TotalProtDF=pd.read_pickle(file1)\n",
    "file2='/net/mraid08/export/genie/Lab/Personal/ShaniBAF/TCR_real_data/Distance Matrices/Features/PNP434_sharingMatrix_moreThan5_RA__braycurtis_distMat'\n",
    "featureDF=pd.read_pickle(file2)"
   ]
  },
  {
   "cell_type": "code",
   "execution_count": null,
   "metadata": {},
   "outputs": [],
   "source": [
    "x=TotalProtDF\n",
    "y=featureDF\n",
    "\n",
    "print 'original x array shape is %s_%s' %(x.shape[0],x.shape[1])\n",
    "print 'original y array shape is %s_%s' %(y.shape[0],y.shape[1])\n",
    "\n",
    "for sample in x.index:\n",
    "    if sample not in y.index:\n",
    "        x=x.drop(sample,axis=0)\n",
    "        x=x.drop(sample,axis=1)\n",
    "for sample in y.index:\n",
    "    if sample not in x.index:\n",
    "        y=y.drop(sample,axis=0)\n",
    "        y=y.drop(sample,axis=1)\n",
    "\n",
    "for column in x:    #remove nonnumeric columns\n",
    "    if x[column].dtype=='object':\n",
    "        x=x.drop(column,axis=1)\n",
    "        print '%s column was dropped from x' %column\n",
    "x=x.dropna(axis=(0,1),how='all') #remove empty rows\n",
    "\n",
    "for column in y:    #remove nonnumeric columns\n",
    "    if y[column].dtype=='object':\n",
    "        y=y.drop(column,axis=1)\n",
    "        print '%s column was dropped from y' %column\n",
    "y=y.dropna(axis=(0,1),how='all') #remove empty rows\n",
    "\n",
    "print 'new x array shape is %s_%s' %(x.shape[0],x.shape[1])\n",
    "print 'new y array shape is %s_%s' %(y.shape[0],y.shape[1])"
   ]
  },
  {
   "cell_type": "code",
   "execution_count": null,
   "metadata": {},
   "outputs": [],
   "source": [
    "FeatureName='sharingMatrix_moreThan5_RA'\n",
    "PhenotypeName='Age'\n",
    "fig1=plot_corr_for_distMats(y,x,FeatureName,PhenotypeName,minPhenotypeValue=0)\n",
    "plt.show()"
   ]
  },
  {
   "cell_type": "code",
   "execution_count": null,
   "metadata": {},
   "outputs": [],
   "source": [
    "file1='/net/mraid08/export/genie/Lab/Personal/ShaniBAF/TCR_real_data/PhenotypicData/DistMat_correlation_plots/%s_%s' %(FeatureName,PhenotypeName)\n",
    "fig1.savefig(file1,dpi=200)"
   ]
  },
  {
   "cell_type": "code",
   "execution_count": null,
   "metadata": {},
   "outputs": [],
   "source": []
  },
  {
   "cell_type": "code",
   "execution_count": null,
   "metadata": {},
   "outputs": [],
   "source": []
  },
  {
   "cell_type": "code",
   "execution_count": null,
   "metadata": {},
   "outputs": [],
   "source": []
  }
 ],
 "metadata": {
  "kernelspec": {
   "display_name": "Python 2",
   "language": "python",
   "name": "python2"
  },
  "language_info": {
   "codemirror_mode": {
    "name": "ipython",
    "version": 2
   },
   "file_extension": ".py",
   "mimetype": "text/x-python",
   "name": "python",
   "nbconvert_exporter": "python",
   "pygments_lexer": "ipython2",
   "version": "2.7.8"
  },
  "toc": {
   "nav_menu": {},
   "number_sections": true,
   "sideBar": false,
   "skip_h1_title": false,
   "toc_cell": false,
   "toc_position": {
    "height": "666px",
    "left": "1.97917px",
    "right": "1027px",
    "top": "110.955px",
    "width": "430px"
   },
   "toc_section_display": "block",
   "toc_window_display": true
  },
  "varInspector": {
   "cols": {
    "lenName": 16,
    "lenType": 16,
    "lenVar": 40
   },
   "kernels_config": {
    "python": {
     "delete_cmd_postfix": "",
     "delete_cmd_prefix": "del ",
     "library": "var_list.py",
     "varRefreshCmd": "print(var_dic_list())"
    },
    "r": {
     "delete_cmd_postfix": ") ",
     "delete_cmd_prefix": "rm(",
     "library": "var_list.r",
     "varRefreshCmd": "cat(var_dic_list()) "
    }
   },
   "types_to_exclude": [
    "module",
    "function",
    "builtin_function_or_method",
    "instance",
    "_Feature"
   ],
   "window_display": false
  }
 },
 "nbformat": 4,
 "nbformat_minor": 2
}
