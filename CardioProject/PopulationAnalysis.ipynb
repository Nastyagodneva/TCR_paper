{
 "cells": [
  {
   "cell_type": "code",
   "execution_count": 2,
   "metadata": {
    "collapsed": true
   },
   "outputs": [],
   "source": [
    "from os import listdir\n",
    "from os.path import isfile, join\n",
    "# from Utils import Load, Write\n",
    "import pandas as pd\n",
    "import numpy as np\n",
    "from scipy import stats\n",
    "# import math\n",
    "import re\n",
    "import matplotlib.pyplot as plt\n",
    "from matplotlib.backends.backend_pdf import PdfPages\n",
    "# from matplotlib import cm\n",
    "# import plotly.plotly as py\n",
    "from myplots import roundup, rounddown, find_decimal_fold, percentile_cut_off, rarefaction_calc, rarefaction_plot\n",
    "from matplotlib.ticker import FormatStrFormatter\n",
    "import cPickle as pickle\n",
    "from Bio.SeqUtils import GC"
   ]
  },
  {
   "cell_type": "code",
   "execution_count": 5,
   "metadata": {
    "collapsed": false
   },
   "outputs": [],
   "source": [
    "def ReadAllFiles():\n",
    "    onlyfiles = [f for f in listdir(\"/net/mraid08/export/genie/Lab/Personal/ShaniBAF/TCR_demo_data/CSVfiles\") if isfile(join(\"/net/mraid08/export/genie/Lab/Personal/ShaniBAF/TCR_demo_data/CSVfiles\", f))]\n",
    "    onlyfiles = [datafile for datafile in onlyfiles if datafile.startswith ('HIP') and datafile.endswith('.csv')]\n",
    "    countfiles=0\n",
    "    for datafile in onlyfiles[12:]:\n",
    "        print datafile\n",
    "        countfiles=countfiles+1\n",
    "        sample_name=re.sub('.csv', '', datafile)\n",
    "        get_sample_data(sample_name)\n",
    "   \n",
    "        "
   ]
  },
  {
   "cell_type": "code",
   "execution_count": 4,
   "metadata": {
    "collapsed": true
   },
   "outputs": [],
   "source": [
    "onlyfiles = [f for f in listdir(\"/net/mraid08/export/genie/Lab/Personal/ShaniBAF/TCR_demo_data/CSVfiles\") if isfile(join(\"/net/mraid08/export/genie/Lab/Personal/ShaniBAF/TCR_demo_data/CSVfiles\", f))]\n",
    "onlyfiles = [datafile for datafile in onlyfiles if datafile.startswith ('HIP') and datafile.endswith('.csv')]\n",
    "countfiles=0"
   ]
  },
  {
   "cell_type": "code",
   "execution_count": null,
   "metadata": {
    "collapsed": false
   },
   "outputs": [],
   "source": [
    "print onlyfiles.index('HIP13554.csv')"
   ]
  },
  {
   "cell_type": "code",
   "execution_count": 6,
   "metadata": {
    "collapsed": true
   },
   "outputs": [],
   "source": [
    "def get_sample_data(sample_name, generate_dfs): \n",
    "## this function generates dfs (general, only productive and only non productive) for each sample, and save\n",
    "## as pickles. alternatively, it loads these dfs from pickles. \n",
    "    \n",
    "    print 'getting sample data...'\n",
    "    \n",
    "    if generate_dfs:\n",
    "        print 'generating'\n",
    "        sample_df=pd.read_table(\"/net/mraid08/export/genie/Lab/Personal/ShaniBAF/TCR_demo_data/%s.tsv\" %sample_name)  \n",
    "        sample_df_prod = sample_df[sample_df['sequenceStatus'] == 'In']\n",
    "        sample_df_non_prod = sample_df[sample_df['sequenceStatus'] != 'In']\n",
    "        \n",
    "        pickle.dump(sample_df, open('/net/mraid08/export/genie/Lab/Personal/ShaniBAF/TCR_demo_data/Pickles/sample_df_%s' %sample_name, \"wb\"))\n",
    "        pickle.dump(sample_df_prod, open('/net/mraid08/export/genie/Lab/Personal/ShaniBAF/TCR_demo_data/Pickles/sample_df_prod_%s' %sample_name, \"wb\"))\n",
    "        pickle.dump(sample_df_non_prod, open('/net/mraid08/export/genie/Lab/Personal/ShaniBAF/TCR_demo_data/Pickles/sample_df_non_prod_%s' %sample_name, \"wb\"))\n",
    "    else:\n",
    "        print 'loading'\n",
    "        sample_df= pickle.load( open('/net/mraid08/export/genie/Lab/Personal/ShaniBAF/TCR_demo_data/Pickles/sample_df_%s' %sample_name,\"rb\" ))\n",
    "        sample_df_prod= pickle.load( open('/net/mraid08/export/genie/Lab/Personal/ShaniBAF/TCR_demo_data/Pickles/sample_df_prod_%s' %sample_name,\"rb\" ))\n",
    "        sample_df_non_prod= pickle.load( open('/net/mraid08/export/genie/Lab/Personal/ShaniBAF/TCR_demo_data/Pickles/sample_df_non_prod_%s' %sample_name,\"rb\" ))\n",
    "    \n",
    "    print 'finished getting sample data'\n",
    "    return sample_df, sample_df_prod, sample_df_non_prod\n"
   ]
  },
  {
   "cell_type": "code",
   "execution_count": null,
   "metadata": {
    "collapsed": false
   },
   "outputs": [],
   "source": [
    "def unique_seq_n(df): \n",
    "    n_seqs=len(list(df['nucleotide']))\n",
    "    return n_seqs\n",
    "\n",
    "def unique_aa_n(df):\n",
    "    list_aa=list(df['aminoAcid'])\n",
    "    list_aa_new=[i for i in list_aa if isinstance(i, str)]\n",
    "    n_seq_aa=len(set(list_aa_new))\n",
    "    return n_seq_aa\n",
    "\n",
    "\n",
    "def max_nt_per_aa(df):\n",
    "    nt_per_aa = df.groupby(['aminoAcid'])[['nucleotide']].count()\n",
    "    max_nt_per_aa=max(nt_per_aa['nucleotide'])\n",
    "    return max_nt_per_aa\n",
    "\n",
    "def mean_nt_per_aa(df):\n",
    "    nt_per_aa = df.groupby(['aminoAcid'])[['nucleotide']].count()\n",
    "    mean_nt_per_aa=round(np.mean(nt_per_aa['nucleotide']),3)\n",
    "    return mean_nt_per_aa\n",
    "\n",
    "def generate_col_dict(df_n, function_list):\n",
    "    function_names=[f.__name__ for f in function_list]\n",
    "    ind=0\n",
    "    col_dict={}\n",
    "    for i in range(df_n):\n",
    "        for j in range(len(function_names)):\n",
    "            col_dict[ind]='func-%s_df#%s' %(j, i)\n",
    "            ind+=1\n",
    "    return col_dict\n",
    "    \n",
    "\n",
    "\n",
    "\n",
    "def calculate_general(results_gen_df,function_list, sample_name, sample_df, sample_df_prod, sample_df_non_prod):\n",
    "    print 'calculating general features...'\n",
    "    ind=0\n",
    "    df_list=[sample_df_prod, sample_df_non_prod]\n",
    "    for i, df in enumerate(df_list):\n",
    "        for j, func in enumerate(function_list):\n",
    "            result=func(df)\n",
    "            results_gen_df.loc[sample_name,[ind]]=result\n",
    "            ind+=1\n",
    "    print 'finished calculating general features...'\n",
    "    return results_gen_df\n",
    "\n",
    "def calculate_clonality(results_clon_df,top_n_list, sample_name, sample_df, sample_df_prod, sample_df_non_prod):\n",
    "    print 'calculating clonality features...'\n",
    "    ind=0\n",
    "    df_list=[sample_df_prod, sample_df_non_prod]\n",
    "    for i, df in enumerate(df_list):\n",
    "        for j, n in enumerate(top_n_list):\n",
    "            result=top_clonal(gen_clonality_list(df), n)\n",
    "            results_clon_df.loc[sample_name,[ind]]=result\n",
    "            ind+=1\n",
    "    print 'finished calculating clonality features...'\n",
    "    return results_clon_df\n",
    "\n",
    "top1=top_clonal(gen_clonality_list(sample_df_prod),1)\n",
    "\n",
    "def get_sample_with_dfs():\n",
    "    df_file_names = [f for f in listdir(\"/net/mraid08/export/genie/Lab/Personal/ShaniBAF/TCR_demo_data/Pickles\") if isfile(join(\"/net/mraid08/export/genie/Lab/Personal/ShaniBAF/TCR_demo_data/Pickles\", f))]\n",
    "    df_file_names = [df_file for df_file in df_file_names if df_file.startswith ('sample_df_HIP')]\n",
    "    samples_with_df=[s.replace(\"sample_df_\", \"\") for s in df_file_names]\n",
    "    return df_file_names,samples_with_df\n",
    "\n",
    "def general_plot(function_list, results_gen_df,yscale):\n",
    "    print 'generating general features plot...'\n",
    "    gen_fig=plt.figure(figsize=(10,8))\n",
    "    plt.suptitle('General population features', fontsize=16)\n",
    "    function_names=[f.__name__ for f in function_list]\n",
    "    n_plots=len(function_list)\n",
    "    for p in range(n_plots):\n",
    "        title=function_names[p]\n",
    "        prod_col=p\n",
    "        non_prod_col=p+4\n",
    "        ax= plt.subplot2grid((n_plots,1), (p,0))\n",
    "        print('ax is %s' %ax)\n",
    "        plot=plot_population_view(ax,results_gen_df, prod_col,non_prod_col, title,yscale) \n",
    "    plt.subplots_adjust(left=0.12,bottom=0.04, right=0.97, top=0.90, wspace=0.28,hspace=0.60)      \n",
    "    plt.show()\n",
    "    #with PdfPages('/net/mraid08/export/genie/Lab/Personal/ShaniBAF/TCR_demo_data/Images/Population_View_general_features') as pdf:\n",
    "    #    pdf.savefig(gen_fig)\n",
    "    #pdf.close\n",
    "    \n",
    "\n",
    "    \n",
    "\n",
    "def plot_population_view(ax,results_gen_df, prod_col,non_prod_col,title,yscale):\n",
    "    n_bins=50\n",
    "    print('prod_col is %s' %str(prod_col))\n",
    "    print('non_prod_col is %s' %str(non_prod_col))\n",
    "    prod_l=list(results_gen_df[prod_col])\n",
    "    while 0 in prod_l: prod_l.remove(0)\n",
    "    print prod_l[:10]\n",
    "    non_prod_l=list(results_gen_df[non_prod_col])\n",
    "    while 0 in non_prod_l: non_prod_l.remove(0)\n",
    "    print non_prod_l[:10]\n",
    "    plot=ax.hist((prod_l,non_prod_l), color=('black', 'red'), label=('Productive','Non-Productive'),bins=n_bins)\n",
    "    ax.set_title(title, fontsize=14)\n",
    "    ax.set_ylabel('Frequency')\n",
    "    ax.set_yscale(yscale)\n",
    "    if prod_col==0:\n",
    "        ax.legend(loc='upper right', fontsize=9)\n",
    "    return plot\n",
    "    \n",
    "    \n",
    "    \n"
   ]
  },
  {
   "cell_type": "code",
   "execution_count": 14,
   "metadata": {
    "collapsed": false
   },
   "outputs": [],
   "source": [
    "def unique_seq_n(df): \n",
    "    n_seqs=len(list(df['nucleotide']))\n",
    "    return n_seqs\n",
    "\n",
    "def unique_aa_n(df):\n",
    "    list_aa=list(df['aminoAcid'])\n",
    "    list_aa_new=[i for i in list_aa if isinstance(i, str)]\n",
    "    n_seq_aa=len(set(list_aa_new))\n",
    "    return n_seq_aa\n",
    "\n",
    "\n",
    "def max_nt_per_aa(df):\n",
    "    nt_per_aa = df.groupby(['aminoAcid'])[['nucleotide']].count()\n",
    "    max_nt_per_aa=max(nt_per_aa['nucleotide'])\n",
    "    return max_nt_per_aa\n",
    "\n",
    "def mean_nt_per_aa(df):\n",
    "    nt_per_aa = df.groupby(['aminoAcid'])[['nucleotide']].count()\n",
    "    mean_nt_per_aa=round(np.mean(nt_per_aa['nucleotide']),3)\n",
    "    return mean_nt_per_aa\n",
    "\n"
   ]
  },
  {
   "cell_type": "code",
   "execution_count": null,
   "metadata": {
    "collapsed": false
   },
   "outputs": [],
   "source": [
    "def generate_col_dict(df_n, function_list):\n",
    "    function_names=[f.__name__ for f in function_list]\n",
    "    ind=0\n",
    "    col_dict={}\n",
    "    for i in range(df_n):\n",
    "        for j in range(len(function_names)):\n",
    "            col_dict[ind]='func-%s_df#%s' %(j, i)\n",
    "            ind+=1\n",
    "    return col_dict\n",
    "    \n"
   ]
  },
  {
   "cell_type": "code",
   "execution_count": null,
   "metadata": {
    "collapsed": false
   },
   "outputs": [],
   "source": [
    "def calculate_general(results_gen_df,function_list, sample_name, sample_df, sample_df_prod, sample_df_non_prod):\n",
    "    print 'calculating general features...'\n",
    "    ind=0\n",
    "    df_list=[sample_df_prod, sample_df_non_prod]\n",
    "    for i, df in enumerate(df_list):\n",
    "        for j, func in enumerate(function_list):\n",
    "            result=func(df)\n",
    "            results_gen_df.loc[sample_name,[ind]]=result\n",
    "            ind+=1\n",
    "    print 'finished calculating general features...'\n",
    "    return results_gen_df\n",
    "\n",
    "def general_plot(function_list, results_gen_df,yscale):\n",
    "    print 'generating general features plot...'\n",
    "    gen_fig=plt.figure(figsize=(10,8))\n",
    "    plt.suptitle('General population features', fontsize=16)\n",
    "    function_names=[f.__name__ for f in function_list]\n",
    "    n_plots=len(function_list)\n",
    "    for p in range(n_plots):\n",
    "        title=function_names[p]\n",
    "        prod_col=p\n",
    "        non_prod_col=p+4\n",
    "        ax= plt.subplot2grid((n_plots,1), (p,0))\n",
    "        print('ax is %s' %ax)\n",
    "        plot=plot_population_view(ax,results_gen_df, prod_col,non_prod_col, title,yscale) \n",
    "    plt.subplots_adjust(left=0.12,bottom=0.04, right=0.97, top=0.90, wspace=0.28,hspace=0.60)      \n",
    "    plt.show()\n",
    "    #with PdfPages('/net/mraid08/export/genie/Lab/Personal/ShaniBAF/TCR_demo_data/Images/Population_View_general_features') as pdf:\n",
    "    #    pdf.savefig(gen_fig)\n",
    "    #pdf.close\n",
    "    \n",
    "    \n",
    "\n",
    "def plot_population_view(ax,results_gen_df, prod_col,non_prod_col,title,yscale):\n",
    "    n_bins=50\n",
    "    print('prod_col is %s' %str(prod_col))\n",
    "    print('non_prod_col is %s' %str(non_prod_col))\n",
    "    prod_l=list(results_gen_df[prod_col])\n",
    "    while 0 in prod_l: prod_l.remove(0)\n",
    "    print prod_l[:10]\n",
    "    non_prod_l=list(results_gen_df[non_prod_col])\n",
    "    while 0 in non_prod_l: non_prod_l.remove(0)\n",
    "    print non_prod_l[:10]\n",
    "    plot=ax.hist((prod_l,non_prod_l), color=('black', 'red'), label=('Productive','Non-Productive'),bins=n_bins)\n",
    "    ax.set_title(title, fontsize=14)\n",
    "    ax.set_ylabel('Frequency')\n",
    "    ax.set_yscale(yscale)\n",
    "    if prod_col==0:\n",
    "        ax.legend(loc='upper right', fontsize=9)\n",
    "    return plot\n"
   ]
  },
  {
   "cell_type": "code",
   "execution_count": 7,
   "metadata": {
    "collapsed": false
   },
   "outputs": [],
   "source": [
    "def get_sample_with_dfs():\n",
    "    df_file_names = [f for f in listdir(\"/net/mraid08/export/genie/Lab/Personal/ShaniBAF/TCR_demo_data/Pickles\") if isfile(join(\"/net/mraid08/export/genie/Lab/Personal/ShaniBAF/TCR_demo_data/Pickles\", f))]\n",
    "    df_file_names = [df_file for df_file in df_file_names if df_file.startswith ('sample_df_HIP')]\n",
    "    samples_with_df=[s.replace(\"sample_df_\", \"\") for s in df_file_names]\n",
    "    return df_file_names,samples_with_df\n"
   ]
  },
  {
   "cell_type": "code",
   "execution_count": null,
   "metadata": {
    "collapsed": false
   },
   "outputs": [],
   "source": [
    "def calculate_clonality(results_clon_df,top_n_list, sample_name, sample_df, sample_df_prod, sample_df_non_prod):\n",
    "    print 'calculating clonality features...'\n",
    "    ind=0\n",
    "    df_list=[sample_df_prod, sample_df_non_prod]\n",
    "    for i, df in enumerate(df_list):\n",
    "        for j, n in enumerate(top_n_list):\n",
    "            result=top_clonal(gen_clonality_list(df), n)\n",
    "            results_clon_df.loc[sample_name,[ind]]=result\n",
    "            ind+=1\n",
    "    print 'finished calculating clonality features...'\n",
    "    return results_clon_df\n",
    "\n",
    "top1=top_clonal(gen_clonality_list(sample_df_prod),1)\n",
    "\n",
    "\n",
    "\n",
    "\n",
    "def maximal_clonality(df):\n",
    "    max_freq=df['frequencyCount (%)'].max()\n",
    "    total_freq=df['frequencyCount (%)'].sum()\n",
    "    max_clonality_normed=max_freq/total_freq*100\n",
    "    return max_clonality_normed, total_freq\n",
    "\n",
    "def gen_clonality_list(df):\n",
    "    clonality_list=list(df['frequencyCount (%)'])\n",
    "    clonality_total=sum(clonality_list)\n",
    "    normed_clonality_list=[(i/clonality_total)*100 for i in clonality_list]\n",
    "    return normed_clonality_list\n",
    "\n",
    "def top_clonal(normed_clonality_list,n):\n",
    "    sorted_clon_list=sorted(normed_clonality_list, reverse=True)\n",
    "    print sorted_clon_list[:10]\n",
    "    fraction=0\n",
    "    for i in range(n):\n",
    "        print i\n",
    "        fraction+=sorted_clon_list[i]\n",
    "        print fraction\n",
    "    for j in range(n,len(sorted_clon_list)):\n",
    "        print j\n",
    "        while sorted_clon_list[j]==sorted_clon_list[j-1]:\n",
    "            fraction+=sorted_clon_list[j] \n",
    "            print fraction\n",
    "    return fraction\n",
    "    \n",
    "    \n",
    "    \n",
    "    \n"
   ]
  },
  {
   "cell_type": "code",
   "execution_count": 8,
   "metadata": {
    "collapsed": true
   },
   "outputs": [],
   "source": [
    "df_file_names,samples_with_df=get_sample_with_dfs()\n",
    "#get list of samples that have df"
   ]
  },
  {
   "cell_type": "code",
   "execution_count": 9,
   "metadata": {
    "collapsed": false
   },
   "outputs": [
    {
     "data": {
      "text/plain": [
       "True"
      ]
     },
     "execution_count": 9,
     "metadata": {},
     "output_type": "execute_result"
    }
   ],
   "source": [
    "'HIP13554'in samples_with_df\n",
    "#check whether the desired sample has df"
   ]
  },
  {
   "cell_type": "code",
   "execution_count": 13,
   "metadata": {
    "collapsed": false
   },
   "outputs": [
    {
     "name": "stdout",
     "output_type": "stream",
     "text": [
      "getting sample data...\n",
      "loading\n",
      "finished getting sample data\n"
     ]
    }
   ],
   "source": [
    "sample_df, sample_df_prod, sample_df_non_prod=get_sample_data('HIP13554', False)"
   ]
  },
  {
   "cell_type": "code",
   "execution_count": 14,
   "metadata": {
    "collapsed": false
   },
   "outputs": [
    {
     "data": {
      "text/html": [
       "<div>\n",
       "<table border=\"1\" class=\"dataframe\">\n",
       "  <thead>\n",
       "    <tr style=\"text-align: right;\">\n",
       "      <th></th>\n",
       "      <th>nucleotide</th>\n",
       "      <th>aminoAcid</th>\n",
       "      <th>count (reads)</th>\n",
       "      <th>frequencyCount (%)</th>\n",
       "      <th>cdr3Length</th>\n",
       "      <th>vMaxResolved</th>\n",
       "      <th>vFamilyName</th>\n",
       "      <th>vGeneName</th>\n",
       "      <th>vGeneAllele</th>\n",
       "      <th>vFamilyTies</th>\n",
       "      <th>...</th>\n",
       "      <th>estimatedNumberGenomes</th>\n",
       "      <th>sequenceStatus</th>\n",
       "      <th>cloneResolved</th>\n",
       "      <th>vOrphon</th>\n",
       "      <th>dOrphon</th>\n",
       "      <th>jOrphon</th>\n",
       "      <th>vFunction</th>\n",
       "      <th>dFunction</th>\n",
       "      <th>jFunction</th>\n",
       "      <th>fractionNucleated</th>\n",
       "    </tr>\n",
       "  </thead>\n",
       "  <tbody>\n",
       "    <tr>\n",
       "      <th>0</th>\n",
       "      <td>AGGCTGCTGTCGGCTGCTCCCTCCCAGACATCTGTGTACTTCTGTG...</td>\n",
       "      <td>CASSLLARDTQYF</td>\n",
       "      <td>670863</td>\n",
       "      <td>8.992874</td>\n",
       "      <td>39</td>\n",
       "      <td>TCRBV06-05*01</td>\n",
       "      <td>TCRBV06</td>\n",
       "      <td>TCRBV06-05</td>\n",
       "      <td>1.0</td>\n",
       "      <td>NaN</td>\n",
       "      <td>...</td>\n",
       "      <td>21880</td>\n",
       "      <td>In</td>\n",
       "      <td>VDJ</td>\n",
       "      <td>NaN</td>\n",
       "      <td>NaN</td>\n",
       "      <td>NaN</td>\n",
       "      <td>NaN</td>\n",
       "      <td>NaN</td>\n",
       "      <td>NaN</td>\n",
       "      <td>0.230093</td>\n",
       "    </tr>\n",
       "    <tr>\n",
       "      <th>1</th>\n",
       "      <td>TCGGCTGCTCCCTCCCAAACATCTGTGTACTTCTGTGCCAGCAGTT...</td>\n",
       "      <td>CASSYPSGTGWIEQFF</td>\n",
       "      <td>132753</td>\n",
       "      <td>1.779545</td>\n",
       "      <td>48</td>\n",
       "      <td>TCRBV06</td>\n",
       "      <td>TCRBV06</td>\n",
       "      <td>unresolved</td>\n",
       "      <td>NaN</td>\n",
       "      <td>NaN</td>\n",
       "      <td>...</td>\n",
       "      <td>4315</td>\n",
       "      <td>In</td>\n",
       "      <td>VDJ</td>\n",
       "      <td>NaN</td>\n",
       "      <td>NaN</td>\n",
       "      <td>NaN</td>\n",
       "      <td>NaN</td>\n",
       "      <td>NaN</td>\n",
       "      <td>NaN</td>\n",
       "      <td>0.045532</td>\n",
       "    </tr>\n",
       "    <tr>\n",
       "      <th>3</th>\n",
       "      <td>ATCCAGCGCACAGAGCAGGGGGACTCGGCCATGTATCTCTGTGCCA...</td>\n",
       "      <td>CASSPPTGSYEQYF</td>\n",
       "      <td>63804</td>\n",
       "      <td>0.855288</td>\n",
       "      <td>42</td>\n",
       "      <td>TCRBV07-09</td>\n",
       "      <td>TCRBV07</td>\n",
       "      <td>TCRBV07-09</td>\n",
       "      <td>NaN</td>\n",
       "      <td>NaN</td>\n",
       "      <td>...</td>\n",
       "      <td>2070</td>\n",
       "      <td>In</td>\n",
       "      <td>VDJ</td>\n",
       "      <td>NaN</td>\n",
       "      <td>NaN</td>\n",
       "      <td>NaN</td>\n",
       "      <td>NaN</td>\n",
       "      <td>NaN</td>\n",
       "      <td>NaN</td>\n",
       "      <td>0.021884</td>\n",
       "    </tr>\n",
       "    <tr>\n",
       "      <th>4</th>\n",
       "      <td>AGCACCTTGGAGCTGGGGGACTCGGCCCTTTATCTTTGCGCCAGCA...</td>\n",
       "      <td>CASSDDRGQGETQYF</td>\n",
       "      <td>63007</td>\n",
       "      <td>0.844605</td>\n",
       "      <td>45</td>\n",
       "      <td>TCRBV05-01*01</td>\n",
       "      <td>TCRBV05</td>\n",
       "      <td>TCRBV05-01</td>\n",
       "      <td>1.0</td>\n",
       "      <td>NaN</td>\n",
       "      <td>...</td>\n",
       "      <td>2050</td>\n",
       "      <td>In</td>\n",
       "      <td>VDJ</td>\n",
       "      <td>NaN</td>\n",
       "      <td>NaN</td>\n",
       "      <td>NaN</td>\n",
       "      <td>NaN</td>\n",
       "      <td>NaN</td>\n",
       "      <td>NaN</td>\n",
       "      <td>0.021610</td>\n",
       "    </tr>\n",
       "    <tr>\n",
       "      <th>5</th>\n",
       "      <td>GCAAAGCTTGAGGACTCGGCCGTGTATCTCTGTGCCAGCAGCTTAG...</td>\n",
       "      <td>CASSLDREPQSNQPQHF</td>\n",
       "      <td>62751</td>\n",
       "      <td>0.841173</td>\n",
       "      <td>51</td>\n",
       "      <td>TCRBV11-02*02</td>\n",
       "      <td>TCRBV11</td>\n",
       "      <td>TCRBV11-02</td>\n",
       "      <td>2.0</td>\n",
       "      <td>NaN</td>\n",
       "      <td>...</td>\n",
       "      <td>2044</td>\n",
       "      <td>In</td>\n",
       "      <td>VDJ</td>\n",
       "      <td>NaN</td>\n",
       "      <td>NaN</td>\n",
       "      <td>NaN</td>\n",
       "      <td>NaN</td>\n",
       "      <td>NaN</td>\n",
       "      <td>NaN</td>\n",
       "      <td>0.021522</td>\n",
       "    </tr>\n",
       "  </tbody>\n",
       "</table>\n",
       "<p>5 rows × 47 columns</p>\n",
       "</div>"
      ],
      "text/plain": [
       "                                          nucleotide          aminoAcid  \\\n",
       "0  AGGCTGCTGTCGGCTGCTCCCTCCCAGACATCTGTGTACTTCTGTG...      CASSLLARDTQYF   \n",
       "1  TCGGCTGCTCCCTCCCAAACATCTGTGTACTTCTGTGCCAGCAGTT...   CASSYPSGTGWIEQFF   \n",
       "3  ATCCAGCGCACAGAGCAGGGGGACTCGGCCATGTATCTCTGTGCCA...     CASSPPTGSYEQYF   \n",
       "4  AGCACCTTGGAGCTGGGGGACTCGGCCCTTTATCTTTGCGCCAGCA...    CASSDDRGQGETQYF   \n",
       "5  GCAAAGCTTGAGGACTCGGCCGTGTATCTCTGTGCCAGCAGCTTAG...  CASSLDREPQSNQPQHF   \n",
       "\n",
       "   count (reads)  frequencyCount (%)  cdr3Length   vMaxResolved vFamilyName  \\\n",
       "0         670863            8.992874          39  TCRBV06-05*01     TCRBV06   \n",
       "1         132753            1.779545          48        TCRBV06     TCRBV06   \n",
       "3          63804            0.855288          42     TCRBV07-09     TCRBV07   \n",
       "4          63007            0.844605          45  TCRBV05-01*01     TCRBV05   \n",
       "5          62751            0.841173          51  TCRBV11-02*02     TCRBV11   \n",
       "\n",
       "    vGeneName  vGeneAllele vFamilyTies        ...         \\\n",
       "0  TCRBV06-05          1.0         NaN        ...          \n",
       "1  unresolved          NaN         NaN        ...          \n",
       "3  TCRBV07-09          NaN         NaN        ...          \n",
       "4  TCRBV05-01          1.0         NaN        ...          \n",
       "5  TCRBV11-02          2.0         NaN        ...          \n",
       "\n",
       "  estimatedNumberGenomes sequenceStatus cloneResolved vOrphon dOrphon  \\\n",
       "0                  21880             In           VDJ     NaN     NaN   \n",
       "1                   4315             In           VDJ     NaN     NaN   \n",
       "3                   2070             In           VDJ     NaN     NaN   \n",
       "4                   2050             In           VDJ     NaN     NaN   \n",
       "5                   2044             In           VDJ     NaN     NaN   \n",
       "\n",
       "   jOrphon vFunction dFunction jFunction fractionNucleated  \n",
       "0      NaN       NaN       NaN       NaN          0.230093  \n",
       "1      NaN       NaN       NaN       NaN          0.045532  \n",
       "3      NaN       NaN       NaN       NaN          0.021884  \n",
       "4      NaN       NaN       NaN       NaN          0.021610  \n",
       "5      NaN       NaN       NaN       NaN          0.021522  \n",
       "\n",
       "[5 rows x 47 columns]"
      ]
     },
     "execution_count": 14,
     "metadata": {},
     "output_type": "execute_result"
    }
   ],
   "source": [
    "sample_df_prod.head()"
   ]
  },
  {
   "cell_type": "code",
   "execution_count": 16,
   "metadata": {
    "collapsed": false
   },
   "outputs": [
    {
     "data": {
      "text/plain": [
       "'nucleotide'"
      ]
     },
     "execution_count": 16,
     "metadata": {},
     "output_type": "execute_result"
    }
   ],
   "source": [
    "sample_df_prod.columns[0]"
   ]
  },
  {
   "cell_type": "code",
   "execution_count": null,
   "metadata": {
    "collapsed": false
   },
   "outputs": [],
   "source": [
    "top1=top_clonal(gen_clonality_list(sample_df_prod),1)\n",
    "top10=top_clonal(gen_clonality_list(sample_df_prod),10)\n",
    "top50=top_clonal(gen_clonality_list(sample_df_prod),50)\n",
    "top99=top_clonal(gen_clonality_list(sample_df_prod),99)\n",
    "print top1\n",
    "print top10\n",
    "print top50\n",
    "print top99\n"
   ]
  },
  {
   "cell_type": "code",
   "execution_count": null,
   "metadata": {
    "collapsed": true
   },
   "outputs": [],
   "source": [
    "top_n_list=[1,10,50,99]\n",
    "calculate_clonality(results_clon_df,top_n_list, sample_name, sample_df, sample_df_prod, sample_df_non_prod)"
   ]
  },
  {
   "cell_type": "code",
   "execution_count": null,
   "metadata": {
    "collapsed": false
   },
   "outputs": [],
   "source": [
    "\n",
    "#########################\n",
    "#    main function      #\n",
    "#########################\n",
    "\n",
    "##generate list of sample file names:\n",
    "onlyfiles = [f for f in listdir(\"/net/mraid08/export/genie/Lab/Personal/ShaniBAF/TCR_demo_data/CSVfiles\") if isfile(join(\"/net/mraid08/export/genie/Lab/Personal/ShaniBAF/TCR_demo_data/CSVfiles\", f))]\n",
    "onlyfiles = [datafile for datafile in onlyfiles if datafile.startswith ('HIP') and datafile.endswith('.csv')]\n",
    "countfiles=0\n",
    "sample_names=[re.sub('.csv', '', datafile) for datafile in onlyfiles] ## generate list of \n",
    "                                                                      ## sample names out \n",
    "                                                                      ##of the sample file names\n",
    "\n",
    "generate_dfs=False ##False=load them from pickles, True=generate them. \n",
    "\n",
    "df_n=2 ## define number of dfs (prod, non-prod) *** check for update!***\n",
    "function_list=[unique_seq_n, unique_aa_n,max_nt_per_aa,mean_nt_per_aa] ##*** check for update!***\n",
    "col_dict=generate_col_dict(df_n, function_list)\n",
    "\n",
    "##define the dataframe for collecting the general feature data over all samples:\n",
    "results_gen_df=pd.DataFrame({'Sample': sample_names})\n",
    "results_gen_df=results_gen_df.set_index('Sample')\n",
    "## generate columns for each expected feature and fill them with 0's:\n",
    "c=len(function_list)*df_n\n",
    "for ind in range(c):\n",
    "    results_gen_df[ind]=0\n",
    "\n",
    "df_file_names,samples_with_df=get_sample_with_dfs() ## check which samples have df\n",
    "no_df_samples=[]\n",
    "for d in range(len(samples_with_df)): ##***change here for more sample!***\n",
    "    countfiles=countfiles+1\n",
    "    print countfiles\n",
    "    sample_name=samples_with_df[d]\n",
    "    print sample_name\n",
    "## extract prod and non-prod dfs and calculate general parameters only for samples that\n",
    "## have dfs:\n",
    "    if sample_name not in samples_with_df:\n",
    "        print('sample %s has no df' %sample_name)\n",
    "        no_df_samples.append(sample_name)\n",
    "    else:\n",
    "        print('sample %s has df' %sample_name)\n",
    "        sample_df, sample_df_prod, sample_df_non_prod=get_sample_data(sample_name, generate_dfs)\n",
    "        results_gen_df=calculate_general(results_gen_df,function_list, sample_name, sample_df, sample_df_prod, sample_df_non_prod)\n",
    "print results_gen_df\n",
    "pickle.dump(results_gen_df, open('/net/mraid08/export/genie/Lab/Personal/ShaniBAF/TCR_demo_data/Pickles/results_gen_df', \"wb\"))\n",
    "pickle.dump(no_df_samples, open('/net/mraid08/export/genie/Lab/Personal/ShaniBAF/TCR_demo_data/Pickles/no_df_samples', \"wb\"))\n",
    "\n",
    "general_plot()\n",
    "\n",
    "   \n",
    "\n",
    "\n",
    "\n",
    "\n",
    "    \n",
    "    "
   ]
  },
  {
   "cell_type": "code",
   "execution_count": null,
   "metadata": {
    "collapsed": false
   },
   "outputs": [],
   "source": [
    "sample_names=[re.sub('.csv', '', datafile) for datafile in onlyfiles]\n",
    "results_gen_df=pd.DataFrame({'Sample': sample_names})\n",
    "results_gen_df=results_gen_df.set_index('Sample')\n",
    "print results_gen_df"
   ]
  },
  {
   "cell_type": "code",
   "execution_count": null,
   "metadata": {
    "collapsed": false
   },
   "outputs": [],
   "source": [
    "results_gen_df['trial']=0\n",
    "for d in onlyfiles[:10]:\n",
    "    results_gen_df.loc[d,['trial']]=5\n",
    "    \n",
    "    "
   ]
  },
  {
   "cell_type": "code",
   "execution_count": null,
   "metadata": {
    "collapsed": false
   },
   "outputs": [],
   "source": [
    "df_file_names = [f for f in listdir(\"/net/mraid08/export/genie/Lab/Personal/ShaniBAF/TCR_demo_data/Pickles\") if isfile(join(\"/net/mraid08/export/genie/Lab/Personal/ShaniBAF/TCR_demo_data/Pickles\", f))]\n",
    "df_file_names = [df_file for df_file in df_file_names if df_file.startswith ('sample_df_HIP')]\n",
    "samples_with_df=[s.replace(\"sample_df_\", \"\") for s in df_file_names]\n",
    "print len(df_file_names)\n",
    "print len(samples_with_df)"
   ]
  },
  {
   "cell_type": "code",
   "execution_count": null,
   "metadata": {
    "collapsed": false
   },
   "outputs": [],
   "source": [
    "exist=0\n",
    "total=0\n",
    "for sample in sample_names:\n",
    "    if sample not in samples_with_df:\n",
    "        pass\n",
    "    else:\n",
    "        exist+=1\n",
    "print exist\n",
    "print total"
   ]
  },
  {
   "cell_type": "code",
   "execution_count": null,
   "metadata": {
    "collapsed": false
   },
   "outputs": [],
   "source": [
    "function_list"
   ]
  },
  {
   "cell_type": "code",
   "execution_count": null,
   "metadata": {
    "collapsed": false
   },
   "outputs": [],
   "source": [
    "results_gen_df=pickle.load( open('/net/mraid08/export/genie/Lab/Personal/ShaniBAF/TCR_demo_data/Pickles/results_gen_df', \"rb\"))"
   ]
  },
  {
   "cell_type": "code",
   "execution_count": null,
   "metadata": {
    "collapsed": false
   },
   "outputs": [],
   "source": [
    "results_gen_df"
   ]
  },
  {
   "cell_type": "code",
   "execution_count": null,
   "metadata": {
    "collapsed": false
   },
   "outputs": [],
   "source": [
    "general_plot(function_list, results_gen_df)"
   ]
  },
  {
   "cell_type": "code",
   "execution_count": null,
   "metadata": {
    "collapsed": true
   },
   "outputs": [],
   "source": [
    "results_gen_df=results_gen_df.replace(0, np.nan)"
   ]
  },
  {
   "cell_type": "code",
   "execution_count": null,
   "metadata": {
    "collapsed": true
   },
   "outputs": [],
   "source": [
    "results_gen_df=results_gen_df.replace(np.nan,0)"
   ]
  },
  {
   "cell_type": "code",
   "execution_count": 1,
   "metadata": {
    "collapsed": false
   },
   "outputs": [
    {
     "ename": "NameError",
     "evalue": "name 'results_gen_df' is not defined",
     "output_type": "error",
     "traceback": [
      "\u001b[1;31m---------------------------------------------------------------------------\u001b[0m",
      "\u001b[1;31mNameError\u001b[0m                                 Traceback (most recent call last)",
      "\u001b[1;32m<ipython-input-1-12408e6fbfd3>\u001b[0m in \u001b[0;36m<module>\u001b[1;34m()\u001b[0m\n\u001b[1;32m----> 1\u001b[1;33m \u001b[1;32mprint\u001b[0m \u001b[0mresults_gen_df\u001b[0m\u001b[1;33m\u001b[0m\u001b[0m\n\u001b[0m",
      "\u001b[1;31mNameError\u001b[0m: name 'results_gen_df' is not defined"
     ]
    }
   ],
   "source": [
    "print results_gen_df"
   ]
  },
  {
   "cell_type": "code",
   "execution_count": null,
   "metadata": {
    "collapsed": false
   },
   "outputs": [],
   "source": [
    "a=list(results_gen_df['0'])\n",
    "b=list(results_gen_df['4'])\n",
    "while 0 in a:\n",
    "    a.remove(0)\n",
    "while 0 in b:\n",
    "    b.remove(0)\n",
    "print a\n",
    "print b"
   ]
  },
  {
   "cell_type": "code",
   "execution_count": null,
   "metadata": {
    "collapsed": false
   },
   "outputs": [],
   "source": [
    "plt.hist((a,b))\n",
    "plt.show()"
   ]
  },
  {
   "cell_type": "code",
   "execution_count": null,
   "metadata": {
    "collapsed": false
   },
   "outputs": [],
   "source": [
    "plt.hist((a,b),label=('Prod', 'Non-Prod'))\n",
    "plt.legend()\n",
    "plt.yscale('log')\n",
    "plt.show()"
   ]
  },
  {
   "cell_type": "code",
   "execution_count": null,
   "metadata": {
    "collapsed": false
   },
   "outputs": [],
   "source": [
    "plt.hist((a,b),label=('Prod', 'Non-Prod'))\n",
    "plt.legend()\n",
    "plt.show()"
   ]
  },
  {
   "cell_type": "code",
   "execution_count": null,
   "metadata": {
    "collapsed": false
   },
   "outputs": [],
   "source": [
    "plt.hist((a,b),label=('Prod', 'Non-Prod'), bins=100)\n",
    "plt.legend()\n",
    "plt.show()"
   ]
  },
  {
   "cell_type": "code",
   "execution_count": null,
   "metadata": {
    "collapsed": false
   },
   "outputs": [],
   "source": [
    "plt.hist((a,b),label=('Prod', 'Non-Prod'), bins=40)\n",
    "plt.legend()\n",
    "plt.show()"
   ]
  },
  {
   "cell_type": "code",
   "execution_count": null,
   "metadata": {
    "collapsed": false
   },
   "outputs": [],
   "source": [
    "general_plot(function_list, results_gen_df)"
   ]
  },
  {
   "cell_type": "code",
   "execution_count": null,
   "metadata": {
    "collapsed": false
   },
   "outputs": [],
   "source": [
    "general_plot(function_list, results_gen_df)"
   ]
  },
  {
   "cell_type": "code",
   "execution_count": null,
   "metadata": {
    "collapsed": false
   },
   "outputs": [],
   "source": [
    "general_plot(function_list, results_gen_df, 'log')"
   ]
  },
  {
   "cell_type": "code",
   "execution_count": null,
   "metadata": {
    "collapsed": false
   },
   "outputs": [],
   "source": [
    "general_plot(function_list, results_gen_df, 'log')"
   ]
  },
  {
   "cell_type": "code",
   "execution_count": null,
   "metadata": {
    "collapsed": false
   },
   "outputs": [],
   "source": [
    "print sample_name"
   ]
  },
  {
   "cell_type": "code",
   "execution_count": null,
   "metadata": {
    "collapsed": false
   },
   "outputs": [],
   "source": [
    "print sample_df_prod[:5]"
   ]
  },
  {
   "cell_type": "code",
   "execution_count": null,
   "metadata": {
    "collapsed": false
   },
   "outputs": [],
   "source": [
    "print maximal_clonality(sample_df_prod)"
   ]
  },
  {
   "cell_type": "code",
   "execution_count": null,
   "metadata": {
    "collapsed": false
   },
   "outputs": [],
   "source": [
    "print maximal_clonality(sample_df_non_prod)"
   ]
  },
  {
   "cell_type": "code",
   "execution_count": null,
   "metadata": {
    "collapsed": false
   },
   "outputs": [],
   "source": [
    "general_plot(function_list, results_gen_df, 'log')"
   ]
  },
  {
   "cell_type": "code",
   "execution_count": null,
   "metadata": {
    "collapsed": false
   },
   "outputs": [],
   "source": [
    "maximal_clonality(sample_df_non_prod)"
   ]
  },
  {
   "cell_type": "code",
   "execution_count": null,
   "metadata": {
    "collapsed": true
   },
   "outputs": [],
   "source": [
    "l=[1,1,1,2,4,2,5]"
   ]
  },
  {
   "cell_type": "code",
   "execution_count": null,
   "metadata": {
    "collapsed": true
   },
   "outputs": [],
   "source": [
    "sortedl=l.sort(reverse=True)"
   ]
  },
  {
   "cell_type": "code",
   "execution_count": 34,
   "metadata": {
    "collapsed": false
   },
   "outputs": [],
   "source": [
    "def generate_res_DF(sample_names, function_list, df_n):\n",
    "    result_df=pd.DataFrame({'Sample': sample_names})\n",
    "    result_df=result_df.set_index('Sample')\n",
    "    function_names=[f.__name__ for f in function_list]\n",
    "    print result_df.head()\n",
    "    c=len(function_list)*df_n\n",
    "    for function in function_names:\n",
    "        for i in range(df_n):\n",
    "            col_title=function+'_df_%s' %str(i)\n",
    "            result_df[col_title]=0\n",
    "    print result_df.head()\n",
    "    return result_df"
   ]
  },
  {
   "cell_type": "code",
   "execution_count": 12,
   "metadata": {
    "collapsed": true
   },
   "outputs": [],
   "source": [
    "sample_names=samples_with_df[0:20]"
   ]
  },
  {
   "cell_type": "code",
   "execution_count": 15,
   "metadata": {
    "collapsed": false
   },
   "outputs": [],
   "source": [
    "function_list=[unique_seq_n, unique_aa_n,max_nt_per_aa,mean_nt_per_aa]"
   ]
  },
  {
   "cell_type": "code",
   "execution_count": 16,
   "metadata": {
    "collapsed": true
   },
   "outputs": [],
   "source": [
    "df_n=2"
   ]
  },
  {
   "cell_type": "code",
   "execution_count": 35,
   "metadata": {
    "collapsed": false
   },
   "outputs": [
    {
     "name": "stdout",
     "output_type": "stream",
     "text": [
      "Empty DataFrame\n",
      "Columns: []\n",
      "Index: [HIP11513, HIP08200, HIP00769, HIP09122, HIP12091]\n",
      "          unique_seq_n_df_0  unique_seq_n_df_1  unique_aa_n_df_0  \\\n",
      "Sample                                                             \n",
      "HIP11513                  0                  0                 0   \n",
      "HIP08200                  0                  0                 0   \n",
      "HIP00769                  0                  0                 0   \n",
      "HIP09122                  0                  0                 0   \n",
      "HIP12091                  0                  0                 0   \n",
      "\n",
      "          unique_aa_n_df_1  max_nt_per_aa_df_0  max_nt_per_aa_df_1  \\\n",
      "Sample                                                               \n",
      "HIP11513                 0                   0                   0   \n",
      "HIP08200                 0                   0                   0   \n",
      "HIP00769                 0                   0                   0   \n",
      "HIP09122                 0                   0                   0   \n",
      "HIP12091                 0                   0                   0   \n",
      "\n",
      "          mean_nt_per_aa_df_0  mean_nt_per_aa_df_1  \n",
      "Sample                                              \n",
      "HIP11513                    0                    0  \n",
      "HIP08200                    0                    0  \n",
      "HIP00769                    0                    0  \n",
      "HIP09122                    0                    0  \n",
      "HIP12091                    0                    0  \n"
     ]
    }
   ],
   "source": [
    "trial_df=generate_res_DF(sample_names, function_list, df_n)"
   ]
  },
  {
   "cell_type": "code",
   "execution_count": 3,
   "metadata": {
    "collapsed": false
   },
   "outputs": [
    {
     "data": {
      "text/html": [
       "<div>\n",
       "<table border=\"1\" class=\"dataframe\">\n",
       "  <thead>\n",
       "    <tr style=\"text-align: right;\">\n",
       "      <th></th>\n",
       "      <th>perc_public_df_0</th>\n",
       "      <th>perc_public_df_1</th>\n",
       "      <th>public10perc_df_0</th>\n",
       "      <th>public10perc_df_1</th>\n",
       "      <th>public50perc_df_0</th>\n",
       "      <th>public50perc_df_1</th>\n",
       "      <th>public95perc_df_0</th>\n",
       "      <th>public95perc_df_1</th>\n",
       "      <th>meanSharedSamples_df_0</th>\n",
       "      <th>meanSharedSamples_df_1</th>\n",
       "      <th>cdr3PriToPub_df_0</th>\n",
       "      <th>cdr3PriToPub_df_1</th>\n",
       "      <th>cdr3PriToPub95_df_0</th>\n",
       "      <th>cdr3PriToPub95_df_1</th>\n",
       "      <th>Age</th>\n",
       "      <th>Gender</th>\n",
       "      <th>_merge</th>\n",
       "    </tr>\n",
       "    <tr>\n",
       "      <th>Sample</th>\n",
       "      <th></th>\n",
       "      <th></th>\n",
       "      <th></th>\n",
       "      <th></th>\n",
       "      <th></th>\n",
       "      <th></th>\n",
       "      <th></th>\n",
       "      <th></th>\n",
       "      <th></th>\n",
       "      <th></th>\n",
       "      <th></th>\n",
       "      <th></th>\n",
       "      <th></th>\n",
       "      <th></th>\n",
       "      <th></th>\n",
       "      <th></th>\n",
       "      <th></th>\n",
       "    </tr>\n",
       "  </thead>\n",
       "  <tbody>\n",
       "    <tr>\n",
       "      <th>HIP09365</th>\n",
       "      <td>54.980117</td>\n",
       "      <td>7.120045</td>\n",
       "      <td>12.120690</td>\n",
       "      <td>0.037573</td>\n",
       "      <td>1.746403</td>\n",
       "      <td>0.0</td>\n",
       "      <td>0.024597</td>\n",
       "      <td>0.0</td>\n",
       "      <td>26.243074</td>\n",
       "      <td>1.291941</td>\n",
       "      <td>1.093374</td>\n",
       "      <td>1.170739</td>\n",
       "      <td>1.265726</td>\n",
       "      <td>NaN</td>\n",
       "      <td>43.0</td>\n",
       "      <td>Female</td>\n",
       "      <td>both</td>\n",
       "    </tr>\n",
       "    <tr>\n",
       "      <th>HIP05533</th>\n",
       "      <td>54.014608</td>\n",
       "      <td>5.991516</td>\n",
       "      <td>11.947385</td>\n",
       "      <td>0.026511</td>\n",
       "      <td>1.766843</td>\n",
       "      <td>0.0</td>\n",
       "      <td>0.025434</td>\n",
       "      <td>0.0</td>\n",
       "      <td>25.909560</td>\n",
       "      <td>1.274920</td>\n",
       "      <td>1.105388</td>\n",
       "      <td>1.180347</td>\n",
       "      <td>1.282926</td>\n",
       "      <td>NaN</td>\n",
       "      <td>22.0</td>\n",
       "      <td>Female</td>\n",
       "      <td>both</td>\n",
       "    </tr>\n",
       "    <tr>\n",
       "      <th>HIP13893</th>\n",
       "      <td>52.052226</td>\n",
       "      <td>5.884371</td>\n",
       "      <td>10.844156</td>\n",
       "      <td>0.017156</td>\n",
       "      <td>1.509827</td>\n",
       "      <td>0.0</td>\n",
       "      <td>0.020835</td>\n",
       "      <td>0.0</td>\n",
       "      <td>23.578078</td>\n",
       "      <td>1.244124</td>\n",
       "      <td>1.105201</td>\n",
       "      <td>1.197626</td>\n",
       "      <td>1.286461</td>\n",
       "      <td>NaN</td>\n",
       "      <td>33.0</td>\n",
       "      <td>Female</td>\n",
       "      <td>both</td>\n",
       "    </tr>\n",
       "    <tr>\n",
       "      <th>HIP13427</th>\n",
       "      <td>53.886438</td>\n",
       "      <td>7.218632</td>\n",
       "      <td>10.402663</td>\n",
       "      <td>0.036581</td>\n",
       "      <td>1.177351</td>\n",
       "      <td>0.0</td>\n",
       "      <td>0.014440</td>\n",
       "      <td>0.0</td>\n",
       "      <td>22.125660</td>\n",
       "      <td>1.280332</td>\n",
       "      <td>1.099480</td>\n",
       "      <td>1.175638</td>\n",
       "      <td>1.283347</td>\n",
       "      <td>NaN</td>\n",
       "      <td>42.0</td>\n",
       "      <td>Male</td>\n",
       "      <td>both</td>\n",
       "    </tr>\n",
       "    <tr>\n",
       "      <th>HIP01798</th>\n",
       "      <td>52.861126</td>\n",
       "      <td>6.713781</td>\n",
       "      <td>11.729311</td>\n",
       "      <td>0.110424</td>\n",
       "      <td>1.889867</td>\n",
       "      <td>0.0</td>\n",
       "      <td>0.030085</td>\n",
       "      <td>0.0</td>\n",
       "      <td>25.947240</td>\n",
       "      <td>1.353578</td>\n",
       "      <td>1.107016</td>\n",
       "      <td>1.186070</td>\n",
       "      <td>1.286112</td>\n",
       "      <td>NaN</td>\n",
       "      <td>NaN</td>\n",
       "      <td>Male</td>\n",
       "      <td>both</td>\n",
       "    </tr>\n",
       "  </tbody>\n",
       "</table>\n",
       "</div>"
      ],
      "text/plain": [
       "          perc_public_df_0  perc_public_df_1  public10perc_df_0  \\\n",
       "Sample                                                            \n",
       "HIP09365         54.980117          7.120045          12.120690   \n",
       "HIP05533         54.014608          5.991516          11.947385   \n",
       "HIP13893         52.052226          5.884371          10.844156   \n",
       "HIP13427         53.886438          7.218632          10.402663   \n",
       "HIP01798         52.861126          6.713781          11.729311   \n",
       "\n",
       "          public10perc_df_1  public50perc_df_0  public50perc_df_1  \\\n",
       "Sample                                                              \n",
       "HIP09365           0.037573           1.746403                0.0   \n",
       "HIP05533           0.026511           1.766843                0.0   \n",
       "HIP13893           0.017156           1.509827                0.0   \n",
       "HIP13427           0.036581           1.177351                0.0   \n",
       "HIP01798           0.110424           1.889867                0.0   \n",
       "\n",
       "          public95perc_df_0  public95perc_df_1  meanSharedSamples_df_0  \\\n",
       "Sample                                                                   \n",
       "HIP09365           0.024597                0.0               26.243074   \n",
       "HIP05533           0.025434                0.0               25.909560   \n",
       "HIP13893           0.020835                0.0               23.578078   \n",
       "HIP13427           0.014440                0.0               22.125660   \n",
       "HIP01798           0.030085                0.0               25.947240   \n",
       "\n",
       "          meanSharedSamples_df_1  cdr3PriToPub_df_0  cdr3PriToPub_df_1  \\\n",
       "Sample                                                                   \n",
       "HIP09365                1.291941           1.093374           1.170739   \n",
       "HIP05533                1.274920           1.105388           1.180347   \n",
       "HIP13893                1.244124           1.105201           1.197626   \n",
       "HIP13427                1.280332           1.099480           1.175638   \n",
       "HIP01798                1.353578           1.107016           1.186070   \n",
       "\n",
       "          cdr3PriToPub95_df_0  cdr3PriToPub95_df_1   Age   Gender _merge  \n",
       "Sample                                                                    \n",
       "HIP09365             1.265726                  NaN  43.0   Female   both  \n",
       "HIP05533             1.282926                  NaN  22.0   Female   both  \n",
       "HIP13893             1.286461                  NaN  33.0   Female   both  \n",
       "HIP13427             1.283347                  NaN  42.0     Male   both  \n",
       "HIP01798             1.286112                  NaN   NaN     Male   both  "
      ]
     },
     "execution_count": 3,
     "metadata": {},
     "output_type": "execute_result"
    }
   ],
   "source": [
    "public_result_with_tags_df=pickle.load( open('/net/mraid08/export/genie/Lab/Personal/ShaniBAF/TCR_demo_data/Pickles/public_result_with_tags_df', \"rb\"))\n",
    "public_result_with_tags_df.head()"
   ]
  },
  {
   "cell_type": "code",
   "execution_count": 4,
   "metadata": {
    "collapsed": true
   },
   "outputs": [],
   "source": [
    "length_res_df_573_samples=pickle.load( open('/net/mraid08/export/genie/Lab/Personal/ShaniBAF/TCR_demo_data/Pickles/length_res_df_573_samples', \"rb\"))\n",
    "clonality_res_df_573_samples=pickle.load( open('/net/mraid08/export/genie/Lab/Personal/ShaniBAF/TCR_demo_data/Pickles/clonality_res_df_573_samples', \"rb\"))\n",
    "perProd_res_df_573_samples=pickle.load( open('/net/mraid08/export/genie/Lab/Personal/ShaniBAF/TCR_demo_data/Pickles/perProd_res_df_573_samples', \"rb\"))\n",
    "general_res_df_573_samples=pickle.load( open('/net/mraid08/export/genie/Lab/Personal/ShaniBAF/TCR_demo_data/Pickles/general_res_df_573_samples', \"rb\"))\n",
    "diversity_res_df_573_samples=pickle.load( open('/net/mraid08/export/genie/Lab/Personal/ShaniBAF/TCR_demo_data/Pickles/diversity_res_df_573_samples', \"rb\"))\n",
    "\n",
    "\n",
    "\n",
    "\n"
   ]
  },
  {
   "cell_type": "code",
   "execution_count": 6,
   "metadata": {
    "collapsed": false
   },
   "outputs": [],
   "source": [
    "combined_res_with_tags_df=pd.merge(pd.merge(pd.merge(pd.merge(pd.merge(general_res_df_573_samples,perProd_res_df_573_samples,how='outer', \n",
    "                                                     right_index=True,left_index=True), clonality_res_df_573_samples,how='outer',\n",
    "                                                      right_index=True,left_index=True),length_res_df_573_samples, how='outer',\n",
    "                                                      right_index=True,left_index=True),diversity_res_df_573_samples, how='outer',\n",
    "                                                      right_index=True,left_index=True),public_result_with_tags_df,how='outer',\n",
    "                                                      right_index=True,left_index=True)"
   ]
  },
  {
   "cell_type": "code",
   "execution_count": 7,
   "metadata": {
    "collapsed": false
   },
   "outputs": [
    {
     "data": {
      "text/html": [
       "<div>\n",
       "<table border=\"1\" class=\"dataframe\">\n",
       "  <thead>\n",
       "    <tr style=\"text-align: right;\">\n",
       "      <th></th>\n",
       "      <th>unique_seq_n_df_0</th>\n",
       "      <th>unique_seq_n_df_1</th>\n",
       "      <th>unique_aa_n_df_0</th>\n",
       "      <th>unique_aa_n_df_1</th>\n",
       "      <th>norm_uniqe_nt_sequences_df_0</th>\n",
       "      <th>norm_uniqe_nt_sequences_df_1</th>\n",
       "      <th>norm_uniqe_aa_sequences_df_0</th>\n",
       "      <th>norm_uniqe_aa_sequences_df_1</th>\n",
       "      <th>max_nt_per_aa_df_0</th>\n",
       "      <th>max_nt_per_aa_df_1</th>\n",
       "      <th>...</th>\n",
       "      <th>public95perc_df_1</th>\n",
       "      <th>meanSharedSamples_df_0</th>\n",
       "      <th>meanSharedSamples_df_1</th>\n",
       "      <th>cdr3PriToPub_df_0</th>\n",
       "      <th>cdr3PriToPub_df_1</th>\n",
       "      <th>cdr3PriToPub95_df_0</th>\n",
       "      <th>cdr3PriToPub95_df_1</th>\n",
       "      <th>Age</th>\n",
       "      <th>Gender</th>\n",
       "      <th>_merge</th>\n",
       "    </tr>\n",
       "    <tr>\n",
       "      <th>Sample</th>\n",
       "      <th></th>\n",
       "      <th></th>\n",
       "      <th></th>\n",
       "      <th></th>\n",
       "      <th></th>\n",
       "      <th></th>\n",
       "      <th></th>\n",
       "      <th></th>\n",
       "      <th></th>\n",
       "      <th></th>\n",
       "      <th></th>\n",
       "      <th></th>\n",
       "      <th></th>\n",
       "      <th></th>\n",
       "      <th></th>\n",
       "      <th></th>\n",
       "      <th></th>\n",
       "      <th></th>\n",
       "      <th></th>\n",
       "      <th></th>\n",
       "      <th></th>\n",
       "    </tr>\n",
       "  </thead>\n",
       "  <tbody>\n",
       "    <tr>\n",
       "      <th>HIP00110</th>\n",
       "      <td>104850.0</td>\n",
       "      <td>26090.0</td>\n",
       "      <td>96992.0</td>\n",
       "      <td>1884.0</td>\n",
       "      <td>44010.8</td>\n",
       "      <td>19067.0</td>\n",
       "      <td>4115.7</td>\n",
       "      <td>1152.9</td>\n",
       "      <td>31.0</td>\n",
       "      <td>7.0</td>\n",
       "      <td>...</td>\n",
       "      <td>0.0</td>\n",
       "      <td>28.901652</td>\n",
       "      <td>1.419321</td>\n",
       "      <td>1.103519</td>\n",
       "      <td>1.189689</td>\n",
       "      <td>1.270805</td>\n",
       "      <td>NaN</td>\n",
       "      <td>55.0</td>\n",
       "      <td>Male</td>\n",
       "      <td>both</td>\n",
       "    </tr>\n",
       "    <tr>\n",
       "      <th>HIP00169</th>\n",
       "      <td>96869.0</td>\n",
       "      <td>19050.0</td>\n",
       "      <td>92688.0</td>\n",
       "      <td>1545.0</td>\n",
       "      <td>50087.9</td>\n",
       "      <td>17846.4</td>\n",
       "      <td>4377.9</td>\n",
       "      <td>1332.3</td>\n",
       "      <td>12.0</td>\n",
       "      <td>2.0</td>\n",
       "      <td>...</td>\n",
       "      <td>0.0</td>\n",
       "      <td>27.809619</td>\n",
       "      <td>1.201294</td>\n",
       "      <td>1.107394</td>\n",
       "      <td>1.206712</td>\n",
       "      <td>1.280204</td>\n",
       "      <td>NaN</td>\n",
       "      <td>41.0</td>\n",
       "      <td>Male</td>\n",
       "      <td>both</td>\n",
       "    </tr>\n",
       "    <tr>\n",
       "      <th>HIP00594</th>\n",
       "      <td>161024.0</td>\n",
       "      <td>37806.0</td>\n",
       "      <td>150179.0</td>\n",
       "      <td>3002.0</td>\n",
       "      <td>48188.9</td>\n",
       "      <td>26489.6</td>\n",
       "      <td>3499.6</td>\n",
       "      <td>1174.5</td>\n",
       "      <td>27.0</td>\n",
       "      <td>7.0</td>\n",
       "      <td>...</td>\n",
       "      <td>0.0</td>\n",
       "      <td>28.911925</td>\n",
       "      <td>1.360093</td>\n",
       "      <td>1.102562</td>\n",
       "      <td>1.188030</td>\n",
       "      <td>1.270186</td>\n",
       "      <td>NaN</td>\n",
       "      <td>21.0</td>\n",
       "      <td>Male</td>\n",
       "      <td>both</td>\n",
       "    </tr>\n",
       "    <tr>\n",
       "      <th>HIP00602</th>\n",
       "      <td>197856.0</td>\n",
       "      <td>51103.0</td>\n",
       "      <td>180093.0</td>\n",
       "      <td>4216.0</td>\n",
       "      <td>52734.3</td>\n",
       "      <td>28421.6</td>\n",
       "      <td>4094.2</td>\n",
       "      <td>2085.0</td>\n",
       "      <td>36.0</td>\n",
       "      <td>6.0</td>\n",
       "      <td>...</td>\n",
       "      <td>0.0</td>\n",
       "      <td>26.791208</td>\n",
       "      <td>1.243121</td>\n",
       "      <td>1.103480</td>\n",
       "      <td>1.186119</td>\n",
       "      <td>1.287587</td>\n",
       "      <td>NaN</td>\n",
       "      <td>45.0</td>\n",
       "      <td>Female</td>\n",
       "      <td>both</td>\n",
       "    </tr>\n",
       "    <tr>\n",
       "      <th>HIP00614</th>\n",
       "      <td>105597.0</td>\n",
       "      <td>22677.0</td>\n",
       "      <td>96052.0</td>\n",
       "      <td>2070.0</td>\n",
       "      <td>46725.4</td>\n",
       "      <td>19452.8</td>\n",
       "      <td>4054.3</td>\n",
       "      <td>1431.1</td>\n",
       "      <td>147.0</td>\n",
       "      <td>17.0</td>\n",
       "      <td>...</td>\n",
       "      <td>0.0</td>\n",
       "      <td>28.050389</td>\n",
       "      <td>1.319324</td>\n",
       "      <td>1.105066</td>\n",
       "      <td>1.194228</td>\n",
       "      <td>1.278647</td>\n",
       "      <td>NaN</td>\n",
       "      <td>27.0</td>\n",
       "      <td>Male</td>\n",
       "      <td>both</td>\n",
       "    </tr>\n",
       "  </tbody>\n",
       "</table>\n",
       "<p>5 rows × 100 columns</p>\n",
       "</div>"
      ],
      "text/plain": [
       "          unique_seq_n_df_0  unique_seq_n_df_1  unique_aa_n_df_0  \\\n",
       "Sample                                                             \n",
       "HIP00110           104850.0            26090.0           96992.0   \n",
       "HIP00169            96869.0            19050.0           92688.0   \n",
       "HIP00594           161024.0            37806.0          150179.0   \n",
       "HIP00602           197856.0            51103.0          180093.0   \n",
       "HIP00614           105597.0            22677.0           96052.0   \n",
       "\n",
       "          unique_aa_n_df_1  norm_uniqe_nt_sequences_df_0  \\\n",
       "Sample                                                     \n",
       "HIP00110            1884.0                       44010.8   \n",
       "HIP00169            1545.0                       50087.9   \n",
       "HIP00594            3002.0                       48188.9   \n",
       "HIP00602            4216.0                       52734.3   \n",
       "HIP00614            2070.0                       46725.4   \n",
       "\n",
       "          norm_uniqe_nt_sequences_df_1  norm_uniqe_aa_sequences_df_0  \\\n",
       "Sample                                                                 \n",
       "HIP00110                       19067.0                        4115.7   \n",
       "HIP00169                       17846.4                        4377.9   \n",
       "HIP00594                       26489.6                        3499.6   \n",
       "HIP00602                       28421.6                        4094.2   \n",
       "HIP00614                       19452.8                        4054.3   \n",
       "\n",
       "          norm_uniqe_aa_sequences_df_1  max_nt_per_aa_df_0  \\\n",
       "Sample                                                       \n",
       "HIP00110                        1152.9                31.0   \n",
       "HIP00169                        1332.3                12.0   \n",
       "HIP00594                        1174.5                27.0   \n",
       "HIP00602                        2085.0                36.0   \n",
       "HIP00614                        1431.1               147.0   \n",
       "\n",
       "          max_nt_per_aa_df_1   ...    public95perc_df_1  \\\n",
       "Sample                         ...                        \n",
       "HIP00110                 7.0   ...                  0.0   \n",
       "HIP00169                 2.0   ...                  0.0   \n",
       "HIP00594                 7.0   ...                  0.0   \n",
       "HIP00602                 6.0   ...                  0.0   \n",
       "HIP00614                17.0   ...                  0.0   \n",
       "\n",
       "          meanSharedSamples_df_0  meanSharedSamples_df_1  cdr3PriToPub_df_0  \\\n",
       "Sample                                                                        \n",
       "HIP00110               28.901652                1.419321           1.103519   \n",
       "HIP00169               27.809619                1.201294           1.107394   \n",
       "HIP00594               28.911925                1.360093           1.102562   \n",
       "HIP00602               26.791208                1.243121           1.103480   \n",
       "HIP00614               28.050389                1.319324           1.105066   \n",
       "\n",
       "          cdr3PriToPub_df_1  cdr3PriToPub95_df_0  cdr3PriToPub95_df_1   Age  \\\n",
       "Sample                                                                        \n",
       "HIP00110           1.189689             1.270805                  NaN  55.0   \n",
       "HIP00169           1.206712             1.280204                  NaN  41.0   \n",
       "HIP00594           1.188030             1.270186                  NaN  21.0   \n",
       "HIP00602           1.186119             1.287587                  NaN  45.0   \n",
       "HIP00614           1.194228             1.278647                  NaN  27.0   \n",
       "\n",
       "           Gender  _merge  \n",
       "Sample                     \n",
       "HIP00110     Male    both  \n",
       "HIP00169     Male    both  \n",
       "HIP00594     Male    both  \n",
       "HIP00602   Female    both  \n",
       "HIP00614     Male    both  \n",
       "\n",
       "[5 rows x 100 columns]"
      ]
     },
     "execution_count": 7,
     "metadata": {},
     "output_type": "execute_result"
    }
   ],
   "source": [
    "combined_res_with_tags_df.head()"
   ]
  },
  {
   "cell_type": "code",
   "execution_count": 8,
   "metadata": {
    "collapsed": false
   },
   "outputs": [
    {
     "data": {
      "text/html": [
       "<div>\n",
       "<table border=\"1\" class=\"dataframe\">\n",
       "  <thead>\n",
       "    <tr style=\"text-align: right;\">\n",
       "      <th></th>\n",
       "      <th>unique_seq_n_df_0</th>\n",
       "      <th>unique_seq_n_df_1</th>\n",
       "      <th>unique_aa_n_df_0</th>\n",
       "      <th>unique_aa_n_df_1</th>\n",
       "      <th>norm_uniqe_nt_sequences_df_0</th>\n",
       "      <th>norm_uniqe_nt_sequences_df_1</th>\n",
       "      <th>norm_uniqe_aa_sequences_df_0</th>\n",
       "      <th>norm_uniqe_aa_sequences_df_1</th>\n",
       "      <th>max_nt_per_aa_df_0</th>\n",
       "      <th>max_nt_per_aa_df_1</th>\n",
       "      <th>...</th>\n",
       "      <th>public50perc_df_1</th>\n",
       "      <th>public95perc_df_0</th>\n",
       "      <th>public95perc_df_1</th>\n",
       "      <th>meanSharedSamples_df_0</th>\n",
       "      <th>meanSharedSamples_df_1</th>\n",
       "      <th>cdr3PriToPub_df_0</th>\n",
       "      <th>cdr3PriToPub_df_1</th>\n",
       "      <th>cdr3PriToPub95_df_0</th>\n",
       "      <th>cdr3PriToPub95_df_1</th>\n",
       "      <th>Age</th>\n",
       "    </tr>\n",
       "  </thead>\n",
       "  <tbody>\n",
       "    <tr>\n",
       "      <th>count</th>\n",
       "      <td>573.000000</td>\n",
       "      <td>573.000000</td>\n",
       "      <td>573.000000</td>\n",
       "      <td>573.000000</td>\n",
       "      <td>573.000000</td>\n",
       "      <td>573.000000</td>\n",
       "      <td>573.000000</td>\n",
       "      <td>573.000000</td>\n",
       "      <td>573.000000</td>\n",
       "      <td>573.000000</td>\n",
       "      <td>...</td>\n",
       "      <td>573.0</td>\n",
       "      <td>573.000000</td>\n",
       "      <td>573.0</td>\n",
       "      <td>573.000000</td>\n",
       "      <td>573.000000</td>\n",
       "      <td>573.000000</td>\n",
       "      <td>573.000000</td>\n",
       "      <td>573.000000</td>\n",
       "      <td>0.0</td>\n",
       "      <td>478.000000</td>\n",
       "    </tr>\n",
       "    <tr>\n",
       "      <th>mean</th>\n",
       "      <td>208440.048866</td>\n",
       "      <td>46224.511344</td>\n",
       "      <td>190153.650960</td>\n",
       "      <td>3819.968586</td>\n",
       "      <td>58042.258290</td>\n",
       "      <td>30092.395113</td>\n",
       "      <td>4254.177138</td>\n",
       "      <td>2009.649913</td>\n",
       "      <td>34.851658</td>\n",
       "      <td>5.432810</td>\n",
       "      <td>...</td>\n",
       "      <td>0.0</td>\n",
       "      <td>0.037685</td>\n",
       "      <td>0.0</td>\n",
       "      <td>27.939816</td>\n",
       "      <td>1.352501</td>\n",
       "      <td>1.098237</td>\n",
       "      <td>1.173858</td>\n",
       "      <td>1.268857</td>\n",
       "      <td>NaN</td>\n",
       "      <td>39.629707</td>\n",
       "    </tr>\n",
       "    <tr>\n",
       "      <th>std</th>\n",
       "      <td>80000.746462</td>\n",
       "      <td>19186.358571</td>\n",
       "      <td>71224.376475</td>\n",
       "      <td>1627.118109</td>\n",
       "      <td>11165.503936</td>\n",
       "      <td>9084.370591</td>\n",
       "      <td>460.388052</td>\n",
       "      <td>554.076114</td>\n",
       "      <td>44.401781</td>\n",
       "      <td>4.514286</td>\n",
       "      <td>...</td>\n",
       "      <td>0.0</td>\n",
       "      <td>0.018887</td>\n",
       "      <td>0.0</td>\n",
       "      <td>4.145224</td>\n",
       "      <td>0.469001</td>\n",
       "      <td>0.009979</td>\n",
       "      <td>0.026533</td>\n",
       "      <td>0.014638</td>\n",
       "      <td>NaN</td>\n",
       "      <td>14.200235</td>\n",
       "    </tr>\n",
       "    <tr>\n",
       "      <th>min</th>\n",
       "      <td>35144.000000</td>\n",
       "      <td>9287.000000</td>\n",
       "      <td>32555.000000</td>\n",
       "      <td>761.000000</td>\n",
       "      <td>24961.500000</td>\n",
       "      <td>8647.500000</td>\n",
       "      <td>2383.600000</td>\n",
       "      <td>531.000000</td>\n",
       "      <td>8.000000</td>\n",
       "      <td>2.000000</td>\n",
       "      <td>...</td>\n",
       "      <td>0.0</td>\n",
       "      <td>0.014440</td>\n",
       "      <td>0.0</td>\n",
       "      <td>20.848741</td>\n",
       "      <td>1.144513</td>\n",
       "      <td>1.040958</td>\n",
       "      <td>0.987952</td>\n",
       "      <td>1.190459</td>\n",
       "      <td>NaN</td>\n",
       "      <td>1.000000</td>\n",
       "    </tr>\n",
       "    <tr>\n",
       "      <th>25%</th>\n",
       "      <td>152274.000000</td>\n",
       "      <td>32069.000000</td>\n",
       "      <td>142200.000000</td>\n",
       "      <td>2667.000000</td>\n",
       "      <td>50270.500000</td>\n",
       "      <td>23766.300000</td>\n",
       "      <td>4009.400000</td>\n",
       "      <td>1655.300000</td>\n",
       "      <td>21.000000</td>\n",
       "      <td>3.000000</td>\n",
       "      <td>...</td>\n",
       "      <td>0.0</td>\n",
       "      <td>0.024956</td>\n",
       "      <td>0.0</td>\n",
       "      <td>25.496782</td>\n",
       "      <td>1.244866</td>\n",
       "      <td>1.095757</td>\n",
       "      <td>1.166037</td>\n",
       "      <td>1.264703</td>\n",
       "      <td>NaN</td>\n",
       "      <td>32.000000</td>\n",
       "    </tr>\n",
       "    <tr>\n",
       "      <th>50%</th>\n",
       "      <td>207174.000000</td>\n",
       "      <td>45158.000000</td>\n",
       "      <td>188920.000000</td>\n",
       "      <td>3700.000000</td>\n",
       "      <td>59331.600000</td>\n",
       "      <td>30364.700000</td>\n",
       "      <td>4363.500000</td>\n",
       "      <td>2031.700000</td>\n",
       "      <td>27.000000</td>\n",
       "      <td>4.000000</td>\n",
       "      <td>...</td>\n",
       "      <td>0.0</td>\n",
       "      <td>0.031913</td>\n",
       "      <td>0.0</td>\n",
       "      <td>27.238741</td>\n",
       "      <td>1.275382</td>\n",
       "      <td>1.099796</td>\n",
       "      <td>1.176864</td>\n",
       "      <td>1.270668</td>\n",
       "      <td>NaN</td>\n",
       "      <td>41.000000</td>\n",
       "    </tr>\n",
       "    <tr>\n",
       "      <th>75%</th>\n",
       "      <td>265181.000000</td>\n",
       "      <td>57121.000000</td>\n",
       "      <td>240657.000000</td>\n",
       "      <td>4746.000000</td>\n",
       "      <td>66334.100000</td>\n",
       "      <td>36064.600000</td>\n",
       "      <td>4587.200000</td>\n",
       "      <td>2390.100000</td>\n",
       "      <td>36.000000</td>\n",
       "      <td>6.000000</td>\n",
       "      <td>...</td>\n",
       "      <td>0.0</td>\n",
       "      <td>0.043516</td>\n",
       "      <td>0.0</td>\n",
       "      <td>29.233246</td>\n",
       "      <td>1.314836</td>\n",
       "      <td>1.103098</td>\n",
       "      <td>1.186908</td>\n",
       "      <td>1.276860</td>\n",
       "      <td>NaN</td>\n",
       "      <td>49.000000</td>\n",
       "    </tr>\n",
       "    <tr>\n",
       "      <th>max</th>\n",
       "      <td>471962.000000</td>\n",
       "      <td>114990.000000</td>\n",
       "      <td>415509.000000</td>\n",
       "      <td>10252.000000</td>\n",
       "      <td>83325.900000</td>\n",
       "      <td>56444.400000</td>\n",
       "      <td>4925.200000</td>\n",
       "      <td>3416.300000</td>\n",
       "      <td>593.000000</td>\n",
       "      <td>40.000000</td>\n",
       "      <td>...</td>\n",
       "      <td>0.0</td>\n",
       "      <td>0.181559</td>\n",
       "      <td>0.0</td>\n",
       "      <td>57.729121</td>\n",
       "      <td>5.703971</td>\n",
       "      <td>1.114193</td>\n",
       "      <td>1.231082</td>\n",
       "      <td>1.306098</td>\n",
       "      <td>NaN</td>\n",
       "      <td>74.000000</td>\n",
       "    </tr>\n",
       "  </tbody>\n",
       "</table>\n",
       "<p>8 rows × 98 columns</p>\n",
       "</div>"
      ],
      "text/plain": [
       "       unique_seq_n_df_0  unique_seq_n_df_1  unique_aa_n_df_0  \\\n",
       "count         573.000000         573.000000        573.000000   \n",
       "mean       208440.048866       46224.511344     190153.650960   \n",
       "std         80000.746462       19186.358571      71224.376475   \n",
       "min         35144.000000        9287.000000      32555.000000   \n",
       "25%        152274.000000       32069.000000     142200.000000   \n",
       "50%        207174.000000       45158.000000     188920.000000   \n",
       "75%        265181.000000       57121.000000     240657.000000   \n",
       "max        471962.000000      114990.000000     415509.000000   \n",
       "\n",
       "       unique_aa_n_df_1  norm_uniqe_nt_sequences_df_0  \\\n",
       "count        573.000000                    573.000000   \n",
       "mean        3819.968586                  58042.258290   \n",
       "std         1627.118109                  11165.503936   \n",
       "min          761.000000                  24961.500000   \n",
       "25%         2667.000000                  50270.500000   \n",
       "50%         3700.000000                  59331.600000   \n",
       "75%         4746.000000                  66334.100000   \n",
       "max        10252.000000                  83325.900000   \n",
       "\n",
       "       norm_uniqe_nt_sequences_df_1  norm_uniqe_aa_sequences_df_0  \\\n",
       "count                    573.000000                    573.000000   \n",
       "mean                   30092.395113                   4254.177138   \n",
       "std                     9084.370591                    460.388052   \n",
       "min                     8647.500000                   2383.600000   \n",
       "25%                    23766.300000                   4009.400000   \n",
       "50%                    30364.700000                   4363.500000   \n",
       "75%                    36064.600000                   4587.200000   \n",
       "max                    56444.400000                   4925.200000   \n",
       "\n",
       "       norm_uniqe_aa_sequences_df_1  max_nt_per_aa_df_0  max_nt_per_aa_df_1  \\\n",
       "count                    573.000000          573.000000          573.000000   \n",
       "mean                    2009.649913           34.851658            5.432810   \n",
       "std                      554.076114           44.401781            4.514286   \n",
       "min                      531.000000            8.000000            2.000000   \n",
       "25%                     1655.300000           21.000000            3.000000   \n",
       "50%                     2031.700000           27.000000            4.000000   \n",
       "75%                     2390.100000           36.000000            6.000000   \n",
       "max                     3416.300000          593.000000           40.000000   \n",
       "\n",
       "          ...      public50perc_df_1  public95perc_df_0  public95perc_df_1  \\\n",
       "count     ...                  573.0         573.000000              573.0   \n",
       "mean      ...                    0.0           0.037685                0.0   \n",
       "std       ...                    0.0           0.018887                0.0   \n",
       "min       ...                    0.0           0.014440                0.0   \n",
       "25%       ...                    0.0           0.024956                0.0   \n",
       "50%       ...                    0.0           0.031913                0.0   \n",
       "75%       ...                    0.0           0.043516                0.0   \n",
       "max       ...                    0.0           0.181559                0.0   \n",
       "\n",
       "       meanSharedSamples_df_0  meanSharedSamples_df_1  cdr3PriToPub_df_0  \\\n",
       "count              573.000000              573.000000         573.000000   \n",
       "mean                27.939816                1.352501           1.098237   \n",
       "std                  4.145224                0.469001           0.009979   \n",
       "min                 20.848741                1.144513           1.040958   \n",
       "25%                 25.496782                1.244866           1.095757   \n",
       "50%                 27.238741                1.275382           1.099796   \n",
       "75%                 29.233246                1.314836           1.103098   \n",
       "max                 57.729121                5.703971           1.114193   \n",
       "\n",
       "       cdr3PriToPub_df_1  cdr3PriToPub95_df_0  cdr3PriToPub95_df_1         Age  \n",
       "count         573.000000           573.000000                  0.0  478.000000  \n",
       "mean            1.173858             1.268857                  NaN   39.629707  \n",
       "std             0.026533             0.014638                  NaN   14.200235  \n",
       "min             0.987952             1.190459                  NaN    1.000000  \n",
       "25%             1.166037             1.264703                  NaN   32.000000  \n",
       "50%             1.176864             1.270668                  NaN   41.000000  \n",
       "75%             1.186908             1.276860                  NaN   49.000000  \n",
       "max             1.231082             1.306098                  NaN   74.000000  \n",
       "\n",
       "[8 rows x 98 columns]"
      ]
     },
     "execution_count": 8,
     "metadata": {},
     "output_type": "execute_result"
    }
   ],
   "source": [
    "combined_res_with_tags_df.describe()"
   ]
  },
  {
   "cell_type": "code",
   "execution_count": 12,
   "metadata": {
    "collapsed": true
   },
   "outputs": [],
   "source": [
    "import time\n",
    "cdate=str(time.strftime(\"%d%m%Y\"))"
   ]
  },
  {
   "cell_type": "code",
   "execution_count": 13,
   "metadata": {
    "collapsed": false
   },
   "outputs": [],
   "source": [
    "with open('/net/mraid08/export/genie/Lab/Personal/ShaniBAF/TCR_demo_data/Pickles/combined_res_with_tags_df_%s' %cdate, 'wb') as f:\n",
    "        pickle.dump(combined_res_with_tags_df,f)\n",
    "f.close()"
   ]
  },
  {
   "cell_type": "code",
   "execution_count": null,
   "metadata": {
    "collapsed": true
   },
   "outputs": [],
   "source": []
  }
 ],
 "metadata": {
  "kernelspec": {
   "display_name": "Python 2",
   "language": "python",
   "name": "python2"
  },
  "language_info": {
   "codemirror_mode": {
    "name": "ipython",
    "version": 2
   },
   "file_extension": ".py",
   "mimetype": "text/x-python",
   "name": "python",
   "nbconvert_exporter": "python",
   "pygments_lexer": "ipython2",
   "version": "2.7.8"
  }
 },
 "nbformat": 4,
 "nbformat_minor": 1
}
