{
 "cells": [
  {
   "cell_type": "markdown",
   "metadata": {},
   "source": [
    "# import:"
   ]
  },
  {
   "cell_type": "code",
   "execution_count": 1,
   "metadata": {
    "ExecuteTime": {
     "end_time": "2019-01-15T21:50:57.075255Z",
     "start_time": "2019-01-15T21:50:53.832639Z"
    }
   },
   "outputs": [
    {
     "name": "stdout",
     "output_type": "stream",
     "text": [
      "done1\n",
      "stop\n",
      "stop\n",
      "done1\n",
      "stop\n",
      "done\n",
      "done\n",
      "done\n",
      "done\n",
      "stop\n",
      "stop\n",
      "end of function!!!\n",
      "end of function!!!\n"
     ]
    }
   ],
   "source": [
    "from __future__ import print_function\n",
    "from os import listdir,mkdir,makedirs\n",
    "from os.path import isfile, join, isdir,exists\n",
    "import pandas as pd\n",
    "import numpy as np\n",
    "from scipy import stats\n",
    "import re\n",
    "import matplotlib.pyplot as plt\n",
    "from matplotlib.backends.backend_pdf import PdfPages\n",
    "from myplots import roundup, rounddown, find_decimal_fold, percentile_cut_off, rarefaction_calc, rarefaction_plot,draw_correlation_scatter\n",
    "from matplotlib.ticker import FormatStrFormatter\n",
    "import cPickle as pickle\n",
    "from Bio.SeqUtils import GC\n",
    "import seaborn as sns\n",
    "import random\n",
    "from scipy.stats import pearsonr,fisher_exact\n",
    "from skbio.diversity.alpha import shannon, simpson, berger_parker_d\n",
    "\n",
    "from pop_organize import get_sample_data, get_sample_with_dfs\n",
    "from SufficientStatistics import *\n",
    "from MyFunctionsShani import *\n",
    "import math\n",
    "from myplots import roundup, rounddown, find_decimal_fold\n",
    "from skbio.stats.distance import mantel\n",
    "from scipy.spatial.distance import braycurtis, pdist, euclidean\n",
    "\n",
    "\n",
    "from GeneralFeaturePhenotypeInteractions.Feature_phenotype_functions import * \n",
    "from TCR_microbiome_interactions.TCR_microbiome_interactions_functions import *\n",
    "from TCR_microbiome_interactions.TCR_microbiome_interactions_functions2 import *\n",
    "from SampleLists.SampleFileFunctions import *\n",
    "from PhenotypicData.PhenotypeGenerationFunctions import *\n",
    "from CardioProject.CardioFunctions import *\n",
    "from PredictionPipeline.PredictionFunctions import *\n",
    "from TCR_feature_generation.SubsamplingFunctions import *\n",
    "from TCR_feature_generation.SequenceClusteringModule import *\n",
    "\n",
    "import os\n",
    "from Utils import cacheOnDisk\n",
    "from queue.qp import qp,fakeqp\n",
    "from addloglevels import sethandlers\n",
    "\n",
    "#ML imports:\n",
    "from xgboost import XGBClassifier\n",
    "import lightgbm as lgb\n",
    "from collections import OrderedDict, Counter\n",
    "from sklearn.model_selection import GroupKFold,StratifiedKFold, KFold\n",
    "import statsmodels.formula.api as sm\n",
    "from sklearn.linear_model import LogisticRegression, LinearRegression\n",
    "import shap\n",
    "from sklearn import metrics, preprocessing\n",
    "from sklearn.svm import LinearSVC\n",
    "from sklearn.feature_selection import SelectFromModel,SelectKBest,chi2,mutual_info_classif,f_classif\n",
    "from sklearn.naive_bayes import GaussianNB\n",
    "from sklearn.metrics import *\n",
    "\n",
    "from Levenshtein import distance as levdist\n",
    "from scipy.spatial.distance import pdist, squareform\n",
    "\n",
    "MyPath='/net/mraid08/export/genie/Lab/Personal/ShaniBAF'\n",
    "\n",
    "with open('/net/mraid08/export/genie/Lab/Personal/ShaniBAF/Sample files/BD lists/PNP530','rb') as fp:\n",
    "    PNP530=pickle.load(fp)\n",
    "with open('/net/mraid08/export/genie/Lab/Personal/ShaniBAF/Sample files/BD lists/Cardio126','rb') as fp:\n",
    "    Cardio126=pickle.load(fp)\n",
    "PNP530Cardio126=PNP530+Cardio126\n"
   ]
  },
  {
   "cell_type": "code",
   "execution_count": 2,
   "metadata": {
    "ExecuteTime": {
     "end_time": "2019-01-15T21:50:57.086439Z",
     "start_time": "2019-01-15T21:50:57.078116Z"
    }
   },
   "outputs": [
    {
     "data": {
      "text/plain": [
       "'15012019'"
      ]
     },
     "execution_count": 2,
     "metadata": {},
     "output_type": "execute_result"
    }
   ],
   "source": [
    "import time\n",
    "cdate=str(time.strftime(\"%d%m%Y\"))\n",
    "cdate"
   ]
  },
  {
   "cell_type": "markdown",
   "metadata": {},
   "source": [
    "# generate interesting samplelists:"
   ]
  },
  {
   "cell_type": "markdown",
   "metadata": {},
   "source": [
    "## old males"
   ]
  },
  {
   "cell_type": "code",
   "execution_count": 16,
   "metadata": {
    "ExecuteTime": {
     "end_time": "2019-01-16T19:54:06.428781Z",
     "start_time": "2019-01-16T19:54:06.239028Z"
    }
   },
   "outputs": [
    {
     "name": "stdout",
     "output_type": "stream",
     "text": [
      "(656, 2)\n"
     ]
    },
    {
     "data": {
      "text/html": [
       "<div>\n",
       "<style scoped>\n",
       "    .dataframe tbody tr th:only-of-type {\n",
       "        vertical-align: middle;\n",
       "    }\n",
       "\n",
       "    .dataframe tbody tr th {\n",
       "        vertical-align: top;\n",
       "    }\n",
       "\n",
       "    .dataframe thead th {\n",
       "        text-align: right;\n",
       "    }\n",
       "</style>\n",
       "<table border=\"1\" class=\"dataframe\">\n",
       "  <thead>\n",
       "    <tr style=\"text-align: right;\">\n",
       "      <th></th>\n",
       "      <th>Gender_Male</th>\n",
       "      <th>Age</th>\n",
       "    </tr>\n",
       "    <tr>\n",
       "      <th>BD</th>\n",
       "      <th></th>\n",
       "      <th></th>\n",
       "    </tr>\n",
       "  </thead>\n",
       "  <tbody>\n",
       "    <tr>\n",
       "      <th>BD406</th>\n",
       "      <td>0</td>\n",
       "      <td>65.0</td>\n",
       "    </tr>\n",
       "    <tr>\n",
       "      <th>BD228</th>\n",
       "      <td>1</td>\n",
       "      <td>32.0</td>\n",
       "    </tr>\n",
       "    <tr>\n",
       "      <th>BD714</th>\n",
       "      <td>1</td>\n",
       "      <td>39.0</td>\n",
       "    </tr>\n",
       "    <tr>\n",
       "      <th>BD808</th>\n",
       "      <td>0</td>\n",
       "      <td>26.0</td>\n",
       "    </tr>\n",
       "    <tr>\n",
       "      <th>BD144</th>\n",
       "      <td>0</td>\n",
       "      <td>36.0</td>\n",
       "    </tr>\n",
       "  </tbody>\n",
       "</table>\n",
       "</div>"
      ],
      "text/plain": [
       "       Gender_Male   Age\n",
       "BD                      \n",
       "BD406            0  65.0\n",
       "BD228            1  32.0\n",
       "BD714            1  39.0\n",
       "BD808            0  26.0\n",
       "BD144            0  36.0"
      ]
     },
     "execution_count": 16,
     "metadata": {},
     "output_type": "execute_result"
    }
   ],
   "source": [
    "f1='/net/mraid08/export/jafar/Microbiome/Analyses/ShaniBAF/predictions2/TargetDFs/PNP530Cardio126_AgeGender.xlsx'\n",
    "PNP530Cardio126_AgeGender=pd.read_excel(f1).set_index('BD')\n",
    "\n",
    "print (PNP530Cardio126_AgeGender.shape)\n",
    "PNP530Cardio126_AgeGender.head()\n"
   ]
  },
  {
   "cell_type": "code",
   "execution_count": 17,
   "metadata": {
    "ExecuteTime": {
     "end_time": "2019-01-16T19:54:09.745596Z",
     "start_time": "2019-01-16T19:54:09.717207Z"
    }
   },
   "outputs": [
    {
     "data": {
      "text/html": [
       "<div>\n",
       "<style scoped>\n",
       "    .dataframe tbody tr th:only-of-type {\n",
       "        vertical-align: middle;\n",
       "    }\n",
       "\n",
       "    .dataframe tbody tr th {\n",
       "        vertical-align: top;\n",
       "    }\n",
       "\n",
       "    .dataframe thead th {\n",
       "        text-align: right;\n",
       "    }\n",
       "</style>\n",
       "<table border=\"1\" class=\"dataframe\">\n",
       "  <thead>\n",
       "    <tr style=\"text-align: right;\">\n",
       "      <th></th>\n",
       "      <th>Gender_Male</th>\n",
       "      <th>Age</th>\n",
       "      <th>cohort</th>\n",
       "    </tr>\n",
       "    <tr>\n",
       "      <th>BD</th>\n",
       "      <th></th>\n",
       "      <th></th>\n",
       "      <th></th>\n",
       "    </tr>\n",
       "  </thead>\n",
       "  <tbody>\n",
       "    <tr>\n",
       "      <th>BD1086</th>\n",
       "      <td>1</td>\n",
       "      <td>51.0</td>\n",
       "      <td>1</td>\n",
       "    </tr>\n",
       "    <tr>\n",
       "      <th>BD995</th>\n",
       "      <td>1</td>\n",
       "      <td>50.0</td>\n",
       "      <td>1</td>\n",
       "    </tr>\n",
       "    <tr>\n",
       "      <th>BD1050</th>\n",
       "      <td>1</td>\n",
       "      <td>55.0</td>\n",
       "      <td>1</td>\n",
       "    </tr>\n",
       "    <tr>\n",
       "      <th>BD1081</th>\n",
       "      <td>1</td>\n",
       "      <td>52.0</td>\n",
       "      <td>1</td>\n",
       "    </tr>\n",
       "    <tr>\n",
       "      <th>BD1088</th>\n",
       "      <td>1</td>\n",
       "      <td>53.0</td>\n",
       "      <td>1</td>\n",
       "    </tr>\n",
       "  </tbody>\n",
       "</table>\n",
       "</div>"
      ],
      "text/plain": [
       "        Gender_Male   Age  cohort\n",
       "BD                               \n",
       "BD1086            1  51.0       1\n",
       "BD995             1  50.0       1\n",
       "BD1050            1  55.0       1\n",
       "BD1081            1  52.0       1\n",
       "BD1088            1  53.0       1"
      ]
     },
     "execution_count": 17,
     "metadata": {},
     "output_type": "execute_result"
    }
   ],
   "source": [
    "PNP530Cardio126_AgeGender['cohort']=np.where((PNP530Cardio126_AgeGender.index.str.replace('BD','').astype(int)) > 949,1,0)\n",
    "PNP530Cardio126_AgeGender.tail()"
   ]
  },
  {
   "cell_type": "markdown",
   "metadata": {},
   "source": [
    "### check the desired age range to find groups with balanced age"
   ]
  },
  {
   "cell_type": "code",
   "execution_count": 18,
   "metadata": {
    "ExecuteTime": {
     "end_time": "2019-01-16T19:54:12.427046Z",
     "start_time": "2019-01-16T19:54:11.985710Z"
    }
   },
   "outputs": [
    {
     "data": {
      "image/png": "[encoded data removed]",
      "text/plain": [
       "<matplotlib.figure.Figure at 0x7f51e105b890>"
      ]
     },
     "metadata": {},
     "output_type": "display_data"
    }
   ],
   "source": [
    "fig,ax=plt.subplots()\n",
    "dataList=[]\n",
    "groups= PNP530Cardio126_AgeGender.groupby('cohort')\n",
    "for name,group in groups:\n",
    "    tup=tuple([name,group['Age'].dropna().tolist() ])\n",
    "    dataList.append(tup)\n",
    "# print (dataList)\n",
    "title=''\n",
    "\n",
    "plotHistComprison(dataList,ax,title,showLegend=True,nBins=20,toAnnotate=True,alpha=None,plotType='hist')\n",
    "\n",
    "plt.show()"
   ]
  },
  {
   "cell_type": "code",
   "execution_count": 19,
   "metadata": {
    "ExecuteTime": {
     "end_time": "2019-01-16T19:54:19.427748Z",
     "start_time": "2019-01-16T19:54:19.418084Z"
    }
   },
   "outputs": [],
   "source": [
    "PNP530Cardio126_AgeGender_oldMales=PNP530Cardio126_AgeGender[(PNP530Cardio126_AgeGender['Gender_Male']==1) & (PNP530Cardio126_AgeGender['Age']>45) & (PNP530Cardio126_AgeGender['Age']<70)]"
   ]
  },
  {
   "cell_type": "code",
   "execution_count": 30,
   "metadata": {
    "ExecuteTime": {
     "end_time": "2019-01-16T22:14:15.850351Z",
     "start_time": "2019-01-16T22:14:15.520252Z"
    }
   },
   "outputs": [
    {
     "name": "stdout",
     "output_type": "stream",
     "text": [
      "Healthy 57\n",
      "Patients 93\n"
     ]
    },
    {
     "data": {
      "image/png": "[encoded data removed]",
      "text/plain": [
       "<matplotlib.figure.Figure at 0x7f51e2a482d0>"
      ]
     },
     "metadata": {},
     "output_type": "display_data"
    }
   ],
   "source": [
    "fig,ax=plt.subplots()\n",
    "dataList=[]\n",
    "groups= PNP530Cardio126_AgeGender_oldMales.groupby('cohort')\n",
    "for name,group in groups:\n",
    "    if name==0: name='Healthy'\n",
    "    else: name='Patients'\n",
    "    tup=tuple([name,group['Age'].dropna().tolist() ])\n",
    "    print (name, len(group['Age'].dropna().tolist()))\n",
    "    dataList.append(tup)\n",
    "# print (dataList)\n",
    "title=''\n",
    "\n",
    "plotHistComprison(dataList,ax,title,showLegend=True,nBins=20,toAnnotate=True,alpha=None,plotType='hist')\n",
    "\n",
    "plt.show()"
   ]
  },
  {
   "cell_type": "markdown",
   "metadata": {},
   "source": [
    "*** conclusion ***\n",
    "\n",
    "when taking only males aged 45-70 (not including) - the age distributions are balanced according to ttest and KS test (57 samples for controls, 93 samples for patients, mean age controls=57.6\n",
    "mean age patients= 59.4"
   ]
  },
  {
   "cell_type": "markdown",
   "metadata": {},
   "source": [
    "### take out relatives:"
   ]
  },
  {
   "cell_type": "code",
   "execution_count": 21,
   "metadata": {
    "ExecuteTime": {
     "end_time": "2019-01-16T22:12:01.628238Z",
     "start_time": "2019-01-16T22:12:01.568240Z"
    }
   },
   "outputs": [
    {
     "name": "stdout",
     "output_type": "stream",
     "text": [
      "(135, 8)\n"
     ]
    },
    {
     "data": {
      "text/html": [
       "<div>\n",
       "<style scoped>\n",
       "    .dataframe tbody tr th:only-of-type {\n",
       "        vertical-align: middle;\n",
       "    }\n",
       "\n",
       "    .dataframe tbody tr th {\n",
       "        vertical-align: top;\n",
       "    }\n",
       "\n",
       "    .dataframe thead th {\n",
       "        text-align: right;\n",
       "    }\n",
       "</style>\n",
       "<table border=\"1\" class=\"dataframe\">\n",
       "  <thead>\n",
       "    <tr style=\"text-align: right;\">\n",
       "      <th></th>\n",
       "      <th>BD</th>\n",
       "      <th>Relations</th>\n",
       "      <th>Relative</th>\n",
       "      <th>is relative in PNP515?</th>\n",
       "      <th>comments</th>\n",
       "      <th>RelGroup</th>\n",
       "      <th>SameGroup</th>\n",
       "      <th>BloodGroup</th>\n",
       "    </tr>\n",
       "  </thead>\n",
       "  <tbody>\n",
       "    <tr>\n",
       "      <th>0</th>\n",
       "      <td>BD12</td>\n",
       "      <td>husband of BD121(568087)</td>\n",
       "      <td>BD121</td>\n",
       "      <td>1</td>\n",
       "      <td>NaN</td>\n",
       "      <td>2.0</td>\n",
       "      <td>NaN</td>\n",
       "      <td>NaN</td>\n",
       "    </tr>\n",
       "    <tr>\n",
       "      <th>1</th>\n",
       "      <td>BD121</td>\n",
       "      <td>wife of BD12(388380)</td>\n",
       "      <td>BD12</td>\n",
       "      <td>1</td>\n",
       "      <td>NaN</td>\n",
       "      <td>2.0</td>\n",
       "      <td>NaN</td>\n",
       "      <td>NaN</td>\n",
       "    </tr>\n",
       "    <tr>\n",
       "      <th>2</th>\n",
       "      <td>BD124</td>\n",
       "      <td>husband of BD127(225255)</td>\n",
       "      <td>BD127</td>\n",
       "      <td>1</td>\n",
       "      <td>NaN</td>\n",
       "      <td>3.0</td>\n",
       "      <td>NaN</td>\n",
       "      <td>NaN</td>\n",
       "    </tr>\n",
       "    <tr>\n",
       "      <th>3</th>\n",
       "      <td>BD127</td>\n",
       "      <td>wife of BD124(345928)</td>\n",
       "      <td>BD124</td>\n",
       "      <td>1</td>\n",
       "      <td>NaN</td>\n",
       "      <td>3.0</td>\n",
       "      <td>NaN</td>\n",
       "      <td>NaN</td>\n",
       "    </tr>\n",
       "    <tr>\n",
       "      <th>4</th>\n",
       "      <td>BD146</td>\n",
       "      <td>wife of BD881(595162)</td>\n",
       "      <td>BD881</td>\n",
       "      <td>1</td>\n",
       "      <td>NaN</td>\n",
       "      <td>4.0</td>\n",
       "      <td>NaN</td>\n",
       "      <td>NaN</td>\n",
       "    </tr>\n",
       "  </tbody>\n",
       "</table>\n",
       "</div>"
      ],
      "text/plain": [
       "      BD                 Relations Relative  is relative in PNP515? comments  \\\n",
       "0   BD12  husband of BD121(568087)    BD121                       1      NaN   \n",
       "1  BD121      wife of BD12(388380)     BD12                       1      NaN   \n",
       "2  BD124  husband of BD127(225255)    BD127                       1      NaN   \n",
       "3  BD127     wife of BD124(345928)    BD124                       1      NaN   \n",
       "4  BD146     wife of BD881(595162)    BD881                       1      NaN   \n",
       "\n",
       "   RelGroup  SameGroup  BloodGroup  \n",
       "0       2.0        NaN         NaN  \n",
       "1       2.0        NaN         NaN  \n",
       "2       3.0        NaN         NaN  \n",
       "3       3.0        NaN         NaN  \n",
       "4       4.0        NaN         NaN  "
      ]
     },
     "execution_count": 21,
     "metadata": {},
     "output_type": "execute_result"
    }
   ],
   "source": [
    "# get relative info:\n",
    "f2='%s/Sample files/PNP530-relationships.xlsx' %MyPath\n",
    "PNP530_relationships=pd.read_excel(f2)\n",
    "print (PNP530_relationships.shape)\n",
    "PNP530_relationships.head()"
   ]
  },
  {
   "cell_type": "code",
   "execution_count": 22,
   "metadata": {
    "ExecuteTime": {
     "end_time": "2019-01-16T22:12:02.549933Z",
     "start_time": "2019-01-16T22:12:02.541544Z"
    }
   },
   "outputs": [
    {
     "name": "stdout",
     "output_type": "stream",
     "text": [
      "(96, 7)\n"
     ]
    }
   ],
   "source": [
    "#get all relatives (blood or household)\n",
    "RelativeTable=PNP530_relationships[PNP530_relationships['is relative in PNP515?']==1].set_index('BD')\n",
    "print (RelativeTable.shape)"
   ]
  },
  {
   "cell_type": "code",
   "execution_count": 23,
   "metadata": {
    "ExecuteTime": {
     "end_time": "2019-01-16T22:12:03.361326Z",
     "start_time": "2019-01-16T22:12:03.356069Z"
    }
   },
   "outputs": [
    {
     "data": {
      "text/plain": [
       "False"
      ]
     },
     "execution_count": 23,
     "metadata": {},
     "output_type": "execute_result"
    }
   ],
   "source": [
    "' BD121' in RelativeTable.Relative"
   ]
  },
  {
   "cell_type": "markdown",
   "metadata": {},
   "source": [
    "#### define function:"
   ]
  },
  {
   "cell_type": "markdown",
   "metadata": {},
   "source": [
    "the function drop_relatives was copied to SampleFileFunctions.py"
   ]
  },
  {
   "cell_type": "code",
   "execution_count": 24,
   "metadata": {
    "ExecuteTime": {
     "end_time": "2019-01-16T22:12:04.801028Z",
     "start_time": "2019-01-16T22:12:04.785648Z"
    }
   },
   "outputs": [],
   "source": [
    "def drop_relatives(sampleList,onlyBloodRels=False):\n",
    "    \n",
    "    #df index should be BD numbers!\n",
    "    \n",
    "    f2='%s/Sample files/PNP530-relationships.xlsx' %MyPath\n",
    "    PNP530_relationships=pd.read_excel(f2)\n",
    "    samplesToDrop=[]\n",
    "    \n",
    "    if onlyBloodRels:\n",
    "        RelativeTable=PNP530_relationships[(PNP530_relationships['is relative in PNP515?']==1) & (PNP530_relationships['BloodGroup'].notnull())].set_index('BD')\n",
    "    else:\n",
    "        RelativeTable=PNP530_relationships[PNP530_relationships['is relative in PNP515?']==1].set_index('BD')\n",
    "\n",
    "    for sample in sampleList:\n",
    "    #     print (sample[0])\n",
    "        if sample in RelativeTable.index.tolist() and sample not in samplesToDrop:\n",
    "            sample2=RelativeTable.loc[sample,'Relative']\n",
    "            if sample2 in df.index.tolist():\n",
    "#                 print ('dropping' , sample, sample2)\n",
    "                samplesToDrop.append(sample2)\n",
    "\n",
    "#     print (samplesToDrop)\n",
    "    return samplesToDrop"
   ]
  },
  {
   "cell_type": "markdown",
   "metadata": {},
   "source": [
    "#### check function on all samples:"
   ]
  },
  {
   "cell_type": "code",
   "execution_count": 25,
   "metadata": {
    "ExecuteTime": {
     "end_time": "2019-01-16T22:12:06.158067Z",
     "start_time": "2019-01-16T22:12:06.104806Z"
    }
   },
   "outputs": [
    {
     "name": "stdout",
     "output_type": "stream",
     "text": [
      "530\n",
      "0\n"
     ]
    }
   ],
   "source": [
    "df=PNP530Cardio126_AgeGender\n",
    "onlyBloodRels=False\n",
    "\n",
    "print (len(PNP530Cardio126_AgeGender[PNP530Cardio126_AgeGender['cohort']==0]))\n",
    "\n",
    "samplesToDrop=drop_relatives(df,onlyBloodRels)\n",
    "          \n",
    "print (len(samplesToDrop))"
   ]
  },
  {
   "cell_type": "code",
   "execution_count": 26,
   "metadata": {
    "ExecuteTime": {
     "end_time": "2019-01-16T22:12:07.329953Z",
     "start_time": "2019-01-16T22:12:07.283870Z"
    }
   },
   "outputs": [
    {
     "name": "stdout",
     "output_type": "stream",
     "text": [
      "530\n",
      "0\n"
     ]
    }
   ],
   "source": [
    "df=PNP530Cardio126_AgeGender\n",
    "onlyBloodRels=True\n",
    "\n",
    "print (len(PNP530Cardio126_AgeGender[PNP530Cardio126_AgeGender['cohort']==0]))\n",
    "\n",
    "samplesToDrop=drop_relatives(df,onlyBloodRels)\n",
    "          \n",
    "print (len(samplesToDrop))"
   ]
  },
  {
   "cell_type": "markdown",
   "metadata": {},
   "source": [
    "#### check if there are relatives amond 'old_male' samples:\n",
    "couldn't find relatives. no sample to drop!"
   ]
  },
  {
   "cell_type": "code",
   "execution_count": 27,
   "metadata": {
    "ExecuteTime": {
     "end_time": "2019-01-16T22:12:09.171259Z",
     "start_time": "2019-01-16T22:12:09.132771Z"
    }
   },
   "outputs": [
    {
     "data": {
      "text/html": [
       "[]"
      ],
      "text/plain": [
       "[]"
      ]
     },
     "execution_count": 27,
     "metadata": {},
     "output_type": "execute_result"
    }
   ],
   "source": [
    "df=PNP530Cardio126_AgeGender_oldMales\n",
    "onlyBloodRels=False\n",
    "\n",
    "drop_relatives(df,onlyBloodRels)"
   ]
  },
  {
   "cell_type": "markdown",
   "metadata": {},
   "source": [
    "### save old male samples:"
   ]
  },
  {
   "cell_type": "code",
   "execution_count": 28,
   "metadata": {
    "ExecuteTime": {
     "end_time": "2019-01-16T22:12:14.879926Z",
     "start_time": "2019-01-16T22:12:14.865048Z"
    }
   },
   "outputs": [
    {
     "name": "stdout",
     "output_type": "stream",
     "text": [
      "57\n",
      "[u'BD801', u'BD221', u'BD631', u'BD441', u'BD834']\n"
     ]
    }
   ],
   "source": [
    "\n",
    "\n",
    "PNP530_balancedAge_males=PNP530Cardio126_AgeGender_oldMales[PNP530Cardio126_AgeGender_oldMales['cohort']==0].index.tolist()\n",
    "print (len(PNP530_balancedAge_males))\n",
    "print (PNP530_balancedAge_males[:5])\n",
    "\n",
    "with open('/net/mraid08/export/genie/Lab/Personal/ShaniBAF/Sample files/BD lists/PNP530_balancedAge_males','wb') as fp:\n",
    "    pickle.dump(PNP530_balancedAge_males,fp)\n"
   ]
  },
  {
   "cell_type": "code",
   "execution_count": 29,
   "metadata": {
    "ExecuteTime": {
     "end_time": "2019-01-16T22:12:21.322865Z",
     "start_time": "2019-01-16T22:12:21.285836Z"
    }
   },
   "outputs": [
    {
     "name": "stdout",
     "output_type": "stream",
     "text": [
      "93\n",
      "[u'BD1014', u'BD1068', u'BD1061', u'BD996', u'BD1053']\n"
     ]
    }
   ],
   "source": [
    "Cardio126_balancedAge_males=PNP530Cardio126_AgeGender_oldMales[PNP530Cardio126_AgeGender_oldMales['cohort']==1].index.tolist()\n",
    "print (len(Cardio126_balancedAge_males))\n",
    "print (Cardio126_balancedAge_males[:5])\n",
    "\n",
    "with open('/net/mraid08/export/genie/Lab/Personal/ShaniBAF/Sample files/BD lists/Cardio126_balancedAge_males','wb') as fp:\n",
    "    pickle.dump(Cardio126_balancedAge_males,fp)"
   ]
  },
  {
   "cell_type": "markdown",
   "metadata": {},
   "source": [
    "## top20 vs bottom20 for interesting continous phenotypes:"
   ]
  },
  {
   "cell_type": "code",
   "execution_count": 38,
   "metadata": {
    "ExecuteTime": {
     "end_time": "2019-01-17T07:27:14.618826Z",
     "start_time": "2019-01-17T07:27:14.575983Z"
    }
   },
   "outputs": [
    {
     "name": "stdout",
     "output_type": "stream",
     "text": [
      "total_ostial_cont\n",
      "20\n",
      "max value of bottom group:  0.0\n",
      "20\n",
      "min value of top group:  3.0\n"
     ]
    }
   ],
   "source": [
    "# phen_list=['GRACEScore','MaximalTroponin','Age']\n",
    "phen_list=['total_ostial_cont']\n",
    "for phen in phen_list:\n",
    "    f1='/net/mraid08/export/genie/Lab/Personal/ShaniBAF/TCR_real_data/CardioSamples/phenotypicData/%s.xlsx' %phen\n",
    "    phenDF=pd.read_excel(f1).set_index('BD').sort_values(by=phen)\n",
    "    bottom20samples=phenDF[:20].index.tolist()\n",
    "    top20samples=phenDF[-20:].index.tolist()\n",
    "    \n",
    "    with open('/net/mraid08/export/genie/Lab/Personal/ShaniBAF/Sample files/BD lists/Cardio126_bottom20%s' %phen,'wb') as fp:\n",
    "        pickle.dump(bottom20samples,fp)\n",
    "    with open('/net/mraid08/export/genie/Lab/Personal/ShaniBAF/Sample files/BD lists/Cardio126_top20%s' %phen,'wb') as fp:\n",
    "        pickle.dump(top20samples,fp)\n",
    "    \n",
    "    print (phen)\n",
    "    print (len(bottom20samples))\n",
    "    print ('max value of bottom group: ',phenDF.iloc[20,0] )\n",
    "    print (len(top20samples))\n",
    "    print ('min value of top group: ',phenDF.iloc[-20,0] )\n"
   ]
  },
  {
   "cell_type": "markdown",
   "metadata": {},
   "source": [
    "## top30 vs bottom30 for interesting continous phenotypes:"
   ]
  },
  {
   "cell_type": "code",
   "execution_count": null,
   "metadata": {
    "ExecuteTime": {
     "end_time": "2019-01-09T07:35:53.072760Z",
     "start_time": "2019-01-09T07:35:52.953314Z"
    }
   },
   "outputs": [],
   "source": [
    "phen_list=['GRACEScore','MaximalTroponin','Age']\n",
    "\n",
    "for phen in phen_list:\n",
    "    f1='/net/mraid08/export/genie/Lab/Personal/ShaniBAF/TCR_real_data/CardioSamples/phenotypicData/%s.xlsx' %phen\n",
    "    phenDF=pd.read_excel(f1).set_index('BD').sort_values(by=phen)\n",
    "    bottom30samples=phenDF[:30].index.tolist()\n",
    "    top30samples=phenDF[-30:].index.tolist()\n",
    "    \n",
    "    with open('/net/mraid08/export/genie/Lab/Personal/ShaniBAF/Sample files/BD lists/Cardio126_bottom30%s' %phen,'wb') as fp:\n",
    "        pickle.dump(bottom30samples,fp)\n",
    "    with open('/net/mraid08/export/genie/Lab/Personal/ShaniBAF/Sample files/BD lists/Cardio126_top30%s' %phen,'wb') as fp:\n",
    "        pickle.dump(top30samples,fp)\n",
    "    \n",
    "    print (phen)\n",
    "    print (len(bottom30samples))\n",
    "    print ('max value of bottom group: ',phenDF.iloc[30,0] )\n",
    "    print (len(top30samples))\n",
    "    print ('min value of top group: ',phenDF.iloc[-30,0] )\n"
   ]
  },
  {
   "cell_type": "markdown",
   "metadata": {},
   "source": [
    "## ostial cx disease:"
   ]
  },
  {
   "cell_type": "code",
   "execution_count": null,
   "metadata": {
    "ExecuteTime": {
     "end_time": "2018-12-30T17:05:31.621068Z",
     "start_time": "2018-12-30T17:05:31.375338Z"
    }
   },
   "outputs": [],
   "source": [
    "f1='/net/mraid08/export/genie/Lab/Personal/ShaniBAF/TCR_real_data/CardioSamples/phenotypicData/OstialCXDisease.xlsx'\n",
    "OstialCXDisease=pd.read_excel(f1).set_index('BD')\n",
    "\n",
    "OstialCXDisease.head()\n",
    "\n",
    "ostial0samples=OstialCXDisease[OstialCXDisease['OstialCXDisease']==0].index.tolist()\n",
    "ostial234samples=OstialCXDisease[OstialCXDisease['OstialCXDisease']>1].index.tolist()\n",
    "\n",
    "with open('/net/mraid08/export/genie/Lab/Personal/ShaniBAF/Sample files/BD lists/ostial0samples','wb') as fp:\n",
    "    pickle.dump(ostial0samples,fp)\n",
    "with open('/net/mraid08/export/genie/Lab/Personal/ShaniBAF/Sample files/BD lists/ostial234samples' ,'wb') as fp:\n",
    "    pickle.dump(ostial234samples,fp)\n",
    "\n",
    "# print (len(ostial0samples))\n",
    "# print (ostial0samples[:5])\n",
    "\n",
    "# print (len(ostial234samples))\n",
    "# print (ostial234samples[:5])"
   ]
  },
  {
   "cell_type": "markdown",
   "metadata": {},
   "source": [
    "## binary phenotypes:"
   ]
  },
  {
   "cell_type": "code",
   "execution_count": null,
   "metadata": {
    "ExecuteTime": {
     "end_time": "2019-01-03T09:19:11.743201Z",
     "start_time": "2019-01-03T09:19:11.481207Z"
    }
   },
   "outputs": [],
   "source": [
    "f1='/net/mraid08/export/genie/Lab/Personal/ShaniBAF/TCR_real_data/CardioSamples/phenotypicData/Cardio126phenAllInfo.xlsx'\n",
    "phenDF=pd.read_excel(f1).set_index('BD')\n",
    "\n",
    "phenDF.columns.tolist()"
   ]
  },
  {
   "cell_type": "code",
   "execution_count": null,
   "metadata": {
    "ExecuteTime": {
     "end_time": "2019-01-03T15:03:49.242631Z",
     "start_time": "2019-01-03T15:03:48.653794Z"
    }
   },
   "outputs": [],
   "source": [
    "f2='/net/mraid08/export/genie/Lab/Personal/ShaniBAF/TCR_real_data/CardioSamples/phenotypicData/Gender_Male.xlsx'\n",
    "phenDF=phenDF.rename(columns={'Gender':'Gender_Male'})\n",
    "phenDF['Gender_Male'].to_excel(f2)"
   ]
  },
  {
   "cell_type": "code",
   "execution_count": 31,
   "metadata": {
    "ExecuteTime": {
     "end_time": "2019-01-17T00:01:21.594691Z",
     "start_time": "2019-01-17T00:01:21.313068Z"
    }
   },
   "outputs": [
    {
     "name": "stdout",
     "output_type": "stream",
     "text": [
      "AdmissionDiagnosismapped_STEMI\n",
      "63\n",
      "[u'BD950', u'BD952', u'BD953', u'BD955', u'BD956']\n",
      "63\n",
      "[u'BD951', u'BD958', u'BD960', u'BD961', u'BD962']\n",
      "ChiefComplaintmapped_anginalpain\n",
      "20\n",
      "[u'BD950', u'BD953', u'BD955', u'BD957', u'BD958']\n",
      "106\n",
      "[u'BD951', u'BD952', u'BD956', u'BD959', u'BD960']\n",
      "DischargeClopidogrel\n",
      "107\n",
      "[u'BD950', u'BD951', u'BD952', u'BD953', u'BD955']\n",
      "18\n",
      "[u'BD973', u'BD984', u'BD985', u'BD987', u'BD998']\n",
      "ChiefComplaintmapped_anginalpain\n",
      "20\n",
      "[u'BD950', u'BD953', u'BD955', u'BD957', u'BD958']\n",
      "106\n",
      "[u'BD951', u'BD952', u'BD956', u'BD959', u'BD960']\n",
      "KnownCAD\n",
      "84\n",
      "[u'BD950', u'BD951', u'BD952', u'BD953', u'BD955']\n",
      "41\n",
      "[u'BD956', u'BD958', u'BD960', u'BD963', u'BD968']\n",
      "Gender_Male\n",
      "11\n",
      "[u'BD952', u'BD978', u'BD993', u'BD1008', u'BD1009']\n",
      "114\n",
      "[u'BD950', u'BD951', u'BD953', u'BD955', u'BD956']\n",
      "AdmissionBetaBlockers\n",
      "89\n",
      "[u'BD951', u'BD952', u'BD953', u'BD957', u'BD961']\n",
      "36\n",
      "[u'BD950', u'BD955', u'BD956', u'BD958', u'BD959']\n",
      "AdmissionAspirin\n",
      "74\n",
      "[u'BD950', u'BD951', u'BD953', u'BD955', u'BD957']\n",
      "51\n",
      "[u'BD952', u'BD956', u'BD958', u'BD960', u'BD961']\n",
      "DischargeMerformin\n",
      "93\n",
      "[u'BD951', u'BD952', u'BD953', u'BD955', u'BD956']\n",
      "32\n",
      "[u'BD950', u'BD958', u'BD961', u'BD971', u'BD978']\n",
      "total_ostial_binary\n",
      "67\n",
      "[u'BD950', u'BD951', u'BD953', u'BD955', u'BD957']\n",
      "59\n",
      "[u'BD952', u'BD956', u'BD961', u'BD969', u'BD974']\n"
     ]
    }
   ],
   "source": [
    "phen_list=['AdmissionDiagnosismapped_STEMI','ChiefComplaintmapped_anginalpain','DischargeClopidogrel',\n",
    "           'ChiefComplaintmapped_anginalpain','KnownCAD','Gender_Male',\n",
    "            'AdmissionBetaBlockers','AdmissionAspirin','DischargeMerformin','total_ostial_binary']\n",
    "for phen in phen_list:\n",
    "    print (phen)\n",
    "\n",
    "    f1='/net/mraid08/export/genie/Lab/Personal/ShaniBAF/TCR_real_data/CardioSamples/phenotypicData/%s.xlsx' %phen\n",
    "    df=pd.read_excel(f1).set_index('BD')\n",
    "\n",
    "    df.head()\n",
    "    \n",
    "    if phen=='Gender_Male':\n",
    "        df0samples=df[df[phen]==2].index.tolist()\n",
    "    else:\n",
    "        df0samples=df[df[phen]==0].index.tolist()\n",
    "    df1samples=df[df[phen]==1].index.tolist()\n",
    "\n",
    "    with open('/net/mraid08/export/genie/Lab/Personal/ShaniBAF/Sample files/BD lists/%s0samples' %phen,'wb') as fp:\n",
    "        pickle.dump(df0samples,fp)\n",
    "    with open('/net/mraid08/export/genie/Lab/Personal/ShaniBAF/Sample files/BD lists/%s1samples' %phen ,'wb') as fp:\n",
    "        pickle.dump(df1samples,fp)\n",
    "\n",
    "    print (len(df0samples))\n",
    "    print (df0samples[:5])\n",
    "\n",
    "    print (len(df1samples))\n",
    "    print (df1samples[:5])"
   ]
  },
  {
   "cell_type": "code",
   "execution_count": null,
   "metadata": {},
   "outputs": [],
   "source": []
  },
  {
   "cell_type": "markdown",
   "metadata": {},
   "source": [
    "## PCI_LVEF_CVA_CABG phenotypes:"
   ]
  },
  {
   "cell_type": "code",
   "execution_count": null,
   "metadata": {
    "ExecuteTime": {
     "end_time": "2019-01-07T11:25:27.739617Z",
     "start_time": "2019-01-07T11:25:27.675676Z"
    }
   },
   "outputs": [],
   "source": [
    "f1='/net/mraid08/export/genie/Lab/Personal/ShaniBAF/TCR_real_data/CardioSamples/phenotypicData/PCI_LVEF_CVA_CABG.xlsx'\n",
    "PCI_LVEF_CVA_CABG=pd.read_excel(f1).set_index('BD')\n",
    "\n",
    "PCI_LVEF_CVA_CABG.columns.tolist()"
   ]
  },
  {
   "cell_type": "code",
   "execution_count": null,
   "metadata": {
    "ExecuteTime": {
     "end_time": "2019-01-07T11:14:34.655953Z",
     "start_time": "2019-01-07T11:14:34.558824Z"
    }
   },
   "outputs": [],
   "source": [
    "for phen in PCI_LVEF_CVA_CABG.columns.tolist():\n",
    "    print (phen)\n",
    "\n",
    "    df=pd.DataFrame(PCI_LVEF_CVA_CABG[phen])\n",
    "\n",
    "    df.head()\n",
    "    \n",
    "    df0samples=df[df[phen]==0].index.tolist()\n",
    "    df1samples=df[df[phen]==1].index.tolist()\n",
    "\n",
    "    with open('/net/mraid08/export/genie/Lab/Personal/ShaniBAF/Sample files/BD lists/%s0samples' %phen,'wb') as fp:\n",
    "        pickle.dump(df0samples,fp)\n",
    "    with open('/net/mraid08/export/genie/Lab/Personal/ShaniBAF/Sample files/BD lists/%s1samples' %phen ,'wb') as fp:\n",
    "        pickle.dump(df1samples,fp)\n",
    "\n",
    "    print (len(df0samples))\n",
    "    print (df0samples[:5])\n",
    "\n",
    "    print (len(df1samples))\n",
    "    print (df1samples[:5])"
   ]
  },
  {
   "cell_type": "markdown",
   "metadata": {},
   "source": [
    "## PCI:"
   ]
  },
  {
   "cell_type": "code",
   "execution_count": null,
   "metadata": {
    "ExecuteTime": {
     "end_time": "2019-01-07T18:51:27.237439Z",
     "start_time": "2019-01-07T18:51:27.205448Z"
    }
   },
   "outputs": [],
   "source": [
    "PCI=pd.DataFrame(PCI_LVEF_CVA_CABG['PCI1_CABG_cont'])\n",
    "\n",
    "\n",
    "PCI0samples=PCI[PCI['PCI1_CABG_cont']==0].index.tolist()\n",
    "PCI2345samples=PCI[PCI['PCI1_CABG_cont']>1].index.tolist()\n",
    "\n",
    "with open('/net/mraid08/export/genie/Lab/Personal/ShaniBAF/Sample files/BD lists/PCI0samples','wb') as fp:\n",
    "    pickle.dump(PCI0samples,fp)\n",
    "with open('/net/mraid08/export/genie/Lab/Personal/ShaniBAF/Sample files/BD lists/PCI2345samples' ,'wb') as fp:\n",
    "    pickle.dump(PCI2345samples,fp)\n",
    "\n",
    "print (len(PCI0samples))\n",
    "print (PCI0samples[:5])\n",
    "\n",
    "print (len(PCI2345samples))\n",
    "print (PCI2345samples[:5])"
   ]
  },
  {
   "cell_type": "markdown",
   "metadata": {},
   "source": [
    "## LVEF:"
   ]
  },
  {
   "cell_type": "code",
   "execution_count": null,
   "metadata": {
    "ExecuteTime": {
     "end_time": "2018-12-30T17:30:37.960805Z",
     "start_time": "2018-12-30T17:30:37.915073Z"
    }
   },
   "outputs": [],
   "source": [
    "f1='/net/mraid08/export/genie/Lab/Personal/ShaniBAF/TCR_real_data/CardioSamples/phenotypicData/LVEF.xlsx'\n",
    "LVEF=pd.read_excel(f1).set_index('BD')\n",
    "\n",
    "LVEF.head()\n",
    "\n",
    "LVEF0samples=LVEF[LVEF['LVEF']==0].index.tolist()\n",
    "LVEF23samples=LVEF[(LVEF['LVEF']==2) |(LVEF['LVEF']==3) ].index.tolist()\n",
    "\n",
    "with open('/net/mraid08/export/genie/Lab/Personal/ShaniBAF/Sample files/BD lists/LVEF0samples','wb') as fp:\n",
    "    pickle.dump(LVEF0samples,fp)\n",
    "with open('/net/mraid08/export/genie/Lab/Personal/ShaniBAF/Sample files/BD lists/LVEF23samples' ,'wb') as fp:\n",
    "    pickle.dump(LVEF23samples,fp)\n",
    "\n",
    "print (len(LVEF0samples))\n",
    "print (LVEF0samples[:5])\n",
    "\n",
    "print (len(LVEF23samples))\n",
    "print (LVEF23samples[:5])"
   ]
  },
  {
   "cell_type": "markdown",
   "metadata": {},
   "source": [
    "## GLUCOSE DISORDER"
   ]
  },
  {
   "cell_type": "code",
   "execution_count": null,
   "metadata": {
    "ExecuteTime": {
     "end_time": "2018-12-30T17:32:22.616921Z",
     "start_time": "2018-12-30T17:32:18.781987Z"
    }
   },
   "outputs": [],
   "source": [
    "f1='/net/mraid08/export/genie/Lab/Personal/ShaniBAF/TCR_real_data/CardioSamples/phenotypicData/GlucoseDisorder.xlsx'\n",
    "GlucoseDisorder=pd.read_excel(f1).set_index('BD')\n",
    "\n",
    "GlucoseDisorder.head()\n",
    "\n",
    "GlucoseDisorder0samples=GlucoseDisorder[GlucoseDisorder['GlucoseDisorder']==0].index.tolist()\n",
    "GlucoseDisorder2samples=GlucoseDisorder[GlucoseDisorder['GlucoseDisorder']==2].index.tolist()\n",
    "\n",
    "with open('/net/mraid08/export/genie/Lab/Personal/ShaniBAF/Sample files/BD lists/GlucoseDisorder0samples','wb') as fp:\n",
    "    pickle.dump(GlucoseDisorder0samples,fp)\n",
    "with open('/net/mraid08/export/genie/Lab/Personal/ShaniBAF/Sample files/BD lists/GlucoseDisorder2samples' ,'wb') as fp:\n",
    "    pickle.dump(GlucoseDisorder2samples,fp)\n",
    "\n",
    "print (len(GlucoseDisorder0samples))\n",
    "print (GlucoseDisorder0samples[:5])\n",
    "\n",
    "print (len(GlucoseDisorder2samples))\n",
    "print (GlucoseDisorder2samples[:5])"
   ]
  },
  {
   "cell_type": "markdown",
   "metadata": {},
   "source": [
    "## random sample list for the paper phenotypes:"
   ]
  },
  {
   "cell_type": "markdown",
   "metadata": {},
   "source": [
    "### binary:"
   ]
  },
  {
   "cell_type": "code",
   "execution_count": null,
   "metadata": {
    "ExecuteTime": {
     "end_time": "2019-01-10T15:52:00.078370Z",
     "start_time": "2019-01-10T15:51:59.973152Z"
    }
   },
   "outputs": [],
   "source": [
    "phen_list=['ChiefComplaintmapped_anginalpain','DischargeClopidogrel','PCI1_CABG']\n",
    "for phen in phen_list:\n",
    "    print (phen)\n",
    "\n",
    "    f1='/net/mraid08/export/genie/Lab/Personal/ShaniBAF/TCR_real_data/CardioSamples/phenotypicData/%s.xlsx' %phen\n",
    "    df=pd.read_excel(f1).set_index('BD')\n",
    "\n",
    "    df.head()\n",
    "    \n",
    "    if phen=='Gender_Male':\n",
    "        df0samples=df[df[phen]==2].index.tolist()\n",
    "    else:\n",
    "        df0samples=df[df[phen]==0].index.tolist()\n",
    "    df1samples=df[df[phen]==1].index.tolist()\n",
    "\n",
    "    print ('df0 length:',len(df0samples))\n",
    "#     print (df0samples[:5])\n",
    "\n",
    "    print ('df1 length:',len(df1samples))\n",
    "#     print (df1samples[:5])\n",
    "    \n",
    "    if len(df0samples)>len(df1samples):\n",
    "        df0samples=random.sample(df0samples,len(df1samples))\n",
    "        print df0samples[:10]\n",
    "    else:\n",
    "        df1samples=random.sample(df1samples,len(df0samples))\n",
    "        print df1samples[:10]\n",
    "        \n",
    "    print ('new length if df0 samples:',len(df0samples) )\n",
    "    print ('new length if df1 samples:',len(df1samples) )   \n",
    "    \n",
    "    with open('/net/mraid08/export/genie/Lab/Personal/ShaniBAF/Sample files/BD lists/%s0samples_reSampled2' %phen,'wb') as fp:\n",
    "        pickle.dump(df0samples,fp)\n",
    "    with open('/net/mraid08/export/genie/Lab/Personal/ShaniBAF/Sample files/BD lists/%s1samples_reSampled2' %phen ,'wb') as fp:\n",
    "        pickle.dump(df1samples,fp)\n",
    "    "
   ]
  },
  {
   "cell_type": "markdown",
   "metadata": {},
   "source": [
    "### ostial:"
   ]
  },
  {
   "cell_type": "code",
   "execution_count": null,
   "metadata": {
    "ExecuteTime": {
     "end_time": "2019-01-10T16:09:46.087898Z",
     "start_time": "2019-01-10T16:09:46.001984Z"
    }
   },
   "outputs": [],
   "source": [
    "phen_list=['OstialCXDisease']\n",
    "for phen in phen_list:\n",
    "    print (phen)\n",
    "\n",
    "    f1='/net/mraid08/export/genie/Lab/Personal/ShaniBAF/TCR_real_data/CardioSamples/phenotypicData/%s.xlsx' %phen\n",
    "    df=pd.read_excel(f1).set_index('BD')\n",
    "\n",
    "    df.head()\n",
    "    \n",
    "    if phen=='Gender_Male':\n",
    "        df0samples=df[df[phen]==2].index.tolist()\n",
    "    else:\n",
    "        df0samples=df[df[phen]==0].index.tolist()\n",
    "    df1samples=df[df[phen]==1].index.tolist()\n",
    "\n",
    "    print ('df0 length:',len(df0samples))\n",
    "#     print (df0samples[:5])\n",
    "\n",
    "    print ('df1 length:',len(df1samples))\n",
    "#     print (df1samples[:5])\n",
    "    \n",
    "    if len(df0samples)>len(df1samples):\n",
    "        df0samples=random.sample(df0samples,len(df1samples))\n",
    "    else:\n",
    "        df1samples=random.sample(df1samples,len(df0samples))\n",
    "        \n",
    "    print ('new length if df0 samples:',len(df0samples) )\n",
    "    print ('new length if df1 samples:',len(df1samples) )   \n",
    "    \n",
    "    with open('/net/mraid08/export/genie/Lab/Personal/ShaniBAF/Sample files/BD lists/ostial0samples_reSampled','wb') as fp:\n",
    "        pickle.dump(df0samples,fp)\n",
    "    with open('/net/mraid08/export/genie/Lab/Personal/ShaniBAF/Sample files/BD lists/ostial234samples_reSampled','wb') as fp:\n",
    "        pickle.dump(df1samples,fp)\n",
    "    "
   ]
  },
  {
   "cell_type": "markdown",
   "metadata": {},
   "source": [
    "## make equal number sample lists of PNP530 and Cardio126 with no relatives:"
   ]
  },
  {
   "cell_type": "code",
   "execution_count": null,
   "metadata": {
    "ExecuteTime": {
     "end_time": "2019-01-10T16:07:17.419593Z",
     "start_time": "2019-01-10T16:07:17.408754Z"
    }
   },
   "outputs": [],
   "source": [
    "with open('/net/mraid08/export/genie/Lab/Personal/ShaniBAF/Sample files/BD lists/PNP530_balancedAge_males','rb') as fp:\n",
    "    PNP530_balancedAge_males=pickle.load(fp)\n",
    "with open('/net/mraid08/export/genie/Lab/Personal/ShaniBAF/Sample files/BD lists/Cardio126_balancedAge_males','rb') as fp:\n",
    "    Cardio126_balancedAge_males=pickle.load(fp)"
   ]
  },
  {
   "cell_type": "code",
   "execution_count": null,
   "metadata": {
    "ExecuteTime": {
     "end_time": "2019-01-10T17:11:04.049574Z",
     "start_time": "2019-01-10T17:11:04.007256Z"
    }
   },
   "outputs": [],
   "source": [
    "print ('PNP530_balancedAge_males length:',len(PNP530_balancedAge_males))\n",
    "#     print (PNP530_balancedAge_males[:5])\n",
    "\n",
    "print ('Cardio126_balancedAge_males length:',len(Cardio126_balancedAge_males))\n",
    "#     print (Cardio126_balancedAge_males[:5])\n",
    "\n",
    "if len(PNP530_balancedAge_males)>len(Cardio126_balancedAge_males):\n",
    "    PNP530_balancedAge_males=random.sample(PNP530_balancedAge_males,len(Cardio126_balancedAge_males))\n",
    "else:\n",
    "    Cardio126_balancedAge_males=random.sample(Cardio126_balancedAge_males,len(PNP530_balancedAge_males))\n",
    "\n",
    "print ('new length if df0 samples:',len(PNP530_balancedAge_males) )\n",
    "print (PNP530_balancedAge_males[:10])\n",
    "print ('new length if df1 samples:',len(Cardio126_balancedAge_males) )   \n",
    "print (Cardio126_balancedAge_males[:10])\n",
    "with open('/net/mraid08/export/genie/Lab/Personal/ShaniBAF/Sample files/BD lists/PNP530_balancedAge_males_reSampled','wb') as fp:\n",
    "    pickle.dump(PNP530_balancedAge_males,fp)\n",
    "with open('/net/mraid08/export/genie/Lab/Personal/ShaniBAF/Sample files/BD lists/Cardio126_balancedAge_males_reSampled','wb') as fp:\n",
    "    pickle.dump(Cardio126_balancedAge_males,fp)\n"
   ]
  },
  {
   "cell_type": "code",
   "execution_count": null,
   "metadata": {},
   "outputs": [],
   "source": []
  },
  {
   "cell_type": "code",
   "execution_count": null,
   "metadata": {
    "ExecuteTime": {
     "end_time": "2019-01-10T17:11:16.621554Z",
     "start_time": "2019-01-10T17:11:16.603384Z"
    }
   },
   "outputs": [],
   "source": [
    "print ('PNP530_balancedAge_males length:',len(PNP530_balancedAge_males))\n",
    "#     print (PNP530_balancedAge_males[:5])\n",
    "\n",
    "print ('Cardio126_balancedAge_males length:',len(Cardio126_balancedAge_males))\n",
    "#     print (Cardio126_balancedAge_males[:5])\n",
    "\n",
    "if len(PNP530_balancedAge_males)>len(Cardio126_balancedAge_males):\n",
    "    PNP530_balancedAge_males=random.sample(PNP530_balancedAge_males,len(Cardio126_balancedAge_males))\n",
    "else:\n",
    "    Cardio126_balancedAge_males=random.sample(Cardio126_balancedAge_males,len(PNP530_balancedAge_males))\n",
    "\n",
    "print ('new length if df0 samples:',len(PNP530_balancedAge_males) )\n",
    "print (PNP530_balancedAge_males[:10])\n",
    "print ('new length if df1 samples:',len(Cardio126_balancedAge_males) )   \n",
    "print (Cardio126_balancedAge_males[:10])\n",
    "with open('/net/mraid08/export/genie/Lab/Personal/ShaniBAF/Sample files/BD lists/PNP530_balancedAge_males_reSampled','wb') as fp:\n",
    "    pickle.dump(PNP530_balancedAge_males,fp)\n",
    "with open('/net/mraid08/export/genie/Lab/Personal/ShaniBAF/Sample files/BD lists/Cardio126_balancedAge_males_reSampled','wb') as fp:\n",
    "    pickle.dump(Cardio126_balancedAge_males,fp)\n"
   ]
  },
  {
   "cell_type": "markdown",
   "metadata": {},
   "source": [
    "# use fisher test to compare non-productive sequence cluster frequencies in patients and controls"
   ]
  },
  {
   "cell_type": "markdown",
   "metadata": {},
   "source": [
    "## get non-productive clusters and check them:"
   ]
  },
  {
   "cell_type": "code",
   "execution_count": null,
   "metadata": {
    "ExecuteTime": {
     "end_time": "2018-12-30T17:35:31.817835Z",
     "start_time": "2018-12-30T17:35:31.150084Z"
    }
   },
   "outputs": [],
   "source": [
    "f1='/net/mraid08/export/genie/Lab/Personal/ShaniBAF/TCR_real_data/PNP530Cardio126Combined/sharingAnalysis/seqClusters_allNonProd_maxdist1/sampleByClusterDF.dat'\n",
    "sampleByClusterDF_nonProd=pd.read_pickle(f1)\n",
    "print (sampleByClusterDF_nonProd.shape)\n",
    "print (sampleByClusterDF_nonProd.iloc[:4,:4])"
   ]
  },
  {
   "cell_type": "code",
   "execution_count": null,
   "metadata": {
    "ExecuteTime": {
     "end_time": "2018-12-30T17:35:34.521476Z",
     "start_time": "2018-12-30T17:35:34.229650Z"
    }
   },
   "outputs": [],
   "source": [
    "print (sampleByClusterDF_nonProd.count().min())\n",
    "print (sampleByClusterDF_nonProd.count().max())"
   ]
  },
  {
   "cell_type": "code",
   "execution_count": null,
   "metadata": {
    "ExecuteTime": {
     "end_time": "2018-12-30T17:35:36.024780Z",
     "start_time": "2018-12-30T17:35:35.869193Z"
    }
   },
   "outputs": [],
   "source": [
    "sampleByClusterDF_nonProd.loc[:,(sampleByClusterDF_nonProd.count()==65)].columns.tolist()"
   ]
  },
  {
   "cell_type": "markdown",
   "metadata": {},
   "source": [
    "### get all sequences in a cluster for a cluster head"
   ]
  },
  {
   "cell_type": "code",
   "execution_count": null,
   "metadata": {
    "ExecuteTime": {
     "end_time": "2018-12-30T17:35:37.439431Z",
     "start_time": "2018-12-30T17:35:37.378070Z"
    }
   },
   "outputs": [],
   "source": [
    "# get all sequences in a cluster for a cluster head\n",
    "levDistMatTotalNonProdFile='/net/mraid08/export/genie/Lab/Personal/ShaniBAF/TCR_real_data/PNP530Cardio126Combined/sharingAnalysis/seqClusters_allNonProd_maxdist1/levDistMatTotal.dat'\n",
    "levDistMatTotalNonProd=pd.read_pickle(levDistMatTotalNonProdFile)\n",
    "levDistMatTotalNonProd.head()"
   ]
  },
  {
   "cell_type": "code",
   "execution_count": null,
   "metadata": {
    "ExecuteTime": {
     "end_time": "2018-12-30T17:35:39.022118Z",
     "start_time": "2018-12-30T17:35:38.988503Z"
    }
   },
   "outputs": [],
   "source": [
    "clusterMatrix=levDistMatTotalNonProd.groupby(['seq1id','seq2id']).count()\n",
    "clusterMatrix.head()"
   ]
  },
  {
   "cell_type": "code",
   "execution_count": null,
   "metadata": {
    "ExecuteTime": {
     "end_time": "2018-12-30T17:35:40.788156Z",
     "start_time": "2018-12-30T17:35:40.615102Z"
    }
   },
   "outputs": [],
   "source": [
    "#get seqID matrix:\n",
    "f3='/net/mraid08/export/genie/Lab/Personal/ShaniBAF/TCR_real_data/PNP530Cardio126Combined/sharingAnalysis/seqClusters_allNonProd_maxdist1/seqID_nonProd.dat'\n",
    "seqID=pd.read_pickle(f3)\n",
    "seqID.head()"
   ]
  },
  {
   "cell_type": "code",
   "execution_count": null,
   "metadata": {
    "ExecuteTime": {
     "end_time": "2018-12-30T17:35:42.496149Z",
     "start_time": "2018-12-30T17:35:42.376768Z"
    }
   },
   "outputs": [],
   "source": [
    "print ('replacing seqIDs with real sequences...')\n",
    "clusterMatrix_2=clusterMatrix.reset_index()\n",
    "clusterMatrix_seqs=pd.merge(clusterMatrix_2,pd.DataFrame(seqID),how='left',left_on='seq2id',right_index=True).rename(columns={'seq':'seq2'})\n",
    "clusterMatrix_seqs=pd.merge(clusterMatrix_seqs,pd.DataFrame(seqID),how='left',left_on='seq1id',right_index=True).rename(columns={'seq':'seq1'})\n",
    "# clusterMatrix_seqs=clusterMatrix_seqs.drop(['seq1id','seq2id'],axis=1)\n",
    "clusterMatrix_seqs.head()"
   ]
  },
  {
   "cell_type": "code",
   "execution_count": null,
   "metadata": {
    "ExecuteTime": {
     "end_time": "2018-12-30T17:35:44.323501Z",
     "start_time": "2018-12-30T17:35:44.232309Z"
    }
   },
   "outputs": [],
   "source": [
    "clusterMatrix_seqs_groupByHeadID=clusterMatrix_seqs.groupby(['seq1id','seq1','seq2']).count()\n",
    "clusterMatrix_seqs_groupByHeadID.head()"
   ]
  },
  {
   "cell_type": "code",
   "execution_count": null,
   "metadata": {
    "ExecuteTime": {
     "end_time": "2018-12-30T17:40:52.346401Z",
     "start_time": "2018-12-30T17:40:52.337138Z"
    }
   },
   "outputs": [],
   "source": [
    "def get_cluster_seqeunces_per_clusterheadID(head,isSeq=True):\n",
    "    \n",
    "    if isSeq: \n",
    "        level='seq1id'\n",
    "        clusterMatrix_seqs_groupByHeadID=clusterMatrix_seqs.groupby(['seq1','seq1id','seq2']).count()\n",
    "    else:\n",
    "        level='seq1'\n",
    "        clusterMatrix_seqs_groupByHeadID=clusterMatrix_seqs.groupby(['seq1id','seq1','seq2']).count()\n",
    "        \n",
    "    clusterhead=clusterMatrix_seqs_groupByHeadID.loc[head,:].index.get_level_values(level)[0]\n",
    "    seqs=clusterMatrix_seqs_groupByHeadID.loc[head,:].index.get_level_values('seq2').tolist()\n",
    "    \n",
    "    return clusterhead, seqs"
   ]
  },
  {
   "cell_type": "code",
   "execution_count": null,
   "metadata": {
    "ExecuteTime": {
     "end_time": "2018-12-30T17:35:49.006136Z",
     "start_time": "2018-12-30T17:35:48.924218Z"
    }
   },
   "outputs": [],
   "source": [
    "print (get_cluster_seqeunces_per_clusterheadID(12.0,False))"
   ]
  },
  {
   "cell_type": "code",
   "execution_count": null,
   "metadata": {
    "ExecuteTime": {
     "end_time": "2018-12-30T17:35:50.862952Z",
     "start_time": "2018-12-30T17:35:50.778870Z"
    }
   },
   "outputs": [],
   "source": [
    "print (get_cluster_seqeunces_per_clusterheadID('CASS**ETQYF'))"
   ]
  },
  {
   "cell_type": "code",
   "execution_count": null,
   "metadata": {
    "ExecuteTime": {
     "end_time": "2018-12-30T17:35:52.514044Z",
     "start_time": "2018-12-30T17:35:52.442810Z"
    }
   },
   "outputs": [],
   "source": [
    "print (get_cluster_seqeunces_per_clusterheadID(81155.0,False))"
   ]
  },
  {
   "cell_type": "markdown",
   "metadata": {},
   "source": [
    "## fisher test to compare nonProd clusters between patients and controls"
   ]
  },
  {
   "cell_type": "code",
   "execution_count": null,
   "metadata": {},
   "outputs": [],
   "source": [
    "the function compare_seq_clusters_between_populations was copied to SequenceClusteringModule.py"
   ]
  },
  {
   "cell_type": "code",
   "execution_count": null,
   "metadata": {},
   "outputs": [],
   "source": []
  },
  {
   "cell_type": "markdown",
   "metadata": {},
   "source": [
    "### run for all PNP vs cardio - non prod clusters"
   ]
  },
  {
   "cell_type": "code",
   "execution_count": null,
   "metadata": {
    "ExecuteTime": {
     "end_time": "2018-12-28T21:38:26.043590Z",
     "start_time": "2018-12-28T21:38:24.776440Z"
    }
   },
   "outputs": [],
   "source": [
    "sampleByClusterDF=sampleByClusterDF_nonProd\n",
    "sampleGroup1=PNP530\n",
    "sampleGroup1name='PNP530'\n",
    "sampleGroup2=Cardio126\n",
    "sampleGroup2name='Cardio126'\n",
    "output_dir='/net/mraid08/export/genie/Lab/Personal/ShaniBAF/TCR_real_data/PNP530Cardio126Combined/sharingAnalysis/seqClusters_allNonProd_maxdist1/Fisher_MW_comparisons/'\n",
    "\n",
    "results=compare_seq_clusters_between_populations(sampleByClusterDF,sampleGroup1,sampleGroup1name,sampleGroup2,sampleGroup2name,output_dir,percShared=0.05)"
   ]
  },
  {
   "cell_type": "markdown",
   "metadata": {},
   "source": [
    "### run for old males - non prod clusters"
   ]
  },
  {
   "cell_type": "code",
   "execution_count": null,
   "metadata": {
    "ExecuteTime": {
     "end_time": "2018-12-30T17:42:57.044377Z",
     "start_time": "2018-12-30T17:42:46.807978Z"
    }
   },
   "outputs": [],
   "source": [
    "with open('/net/mraid08/export/genie/Lab/Personal/ShaniBAF/Sample files/BD lists/PNP530_balancedAge_males','rb') as fp:\n",
    "    PNP530_balancedAge_males=pickle.load(fp)\n",
    "with open('/net/mraid08/export/genie/Lab/Personal/ShaniBAF/Sample files/BD lists/Cardio126_balancedAge_males','rb') as fp:\n",
    "    Cardio126_balancedAge_males=pickle.load(fp)\n",
    "\n",
    "sampleByClusterDF=sampleByClusterDF_nonProd\n",
    "sampleGroup1=PNP530_balancedAge_males\n",
    "sampleGroup1name='PNP530_balancedAge_males'\n",
    "sampleGroup2=Cardio126_balancedAge_males\n",
    "sampleGroup2name='Cardio126_balancedAge_males'\n",
    "output_dir='/net/mraid08/export/genie/Lab/Personal/ShaniBAF/TCR_real_data/PNP530Cardio126Combined/sharingAnalysis/seqClusters_allNonProd_maxdist1/Fisher_MW_comparisons/'\n",
    "\n",
    "results=compare_seq_clusters_between_populations(sampleByClusterDF,sampleGroup1,sampleGroup1name,sampleGroup2,sampleGroup2name,output_dir,percShared=0.05)"
   ]
  },
  {
   "cell_type": "markdown",
   "metadata": {},
   "source": [
    "### generate non-productive sequence matrix and run the analysis on it as well:"
   ]
  },
  {
   "cell_type": "code",
   "execution_count": null,
   "metadata": {
    "ExecuteTime": {
     "end_time": "2019-01-02T21:13:37.150913Z",
     "start_time": "2019-01-02T21:13:27.323738Z"
    }
   },
   "outputs": [],
   "source": [
    "f1='/net/mraid08/export/genie/Lab/Personal/ShaniBAF/TCR_real_data/PNP530Cardio126Combined/sharingAnalysis/AllUniqueWithCounts'\n",
    "AllUniqueWithCounts=pd.read_pickle(f1)\n",
    "AllUniqueWithCounts_nonProd=AllUniqueWithCounts[AllUniqueWithCounts['prod_stat']==0]\n",
    "sampleBySeqs_nonProd=AllUniqueWithCounts_nonProd[['prod_stat','Sample']].reset_index().rename(columns={'index':'seqeunce'}).groupby(['Sample','seqeunce'])['prod_stat'].count().unstack()\n",
    "print (sampleBySeqs_nonProd.shape)\n",
    "print (sampleBySeqs_nonProd.count().sort_values(ascending=False).head())"
   ]
  },
  {
   "cell_type": "code",
   "execution_count": null,
   "metadata": {
    "ExecuteTime": {
     "end_time": "2018-12-28T21:46:09.505997Z",
     "start_time": "2018-12-28T21:46:07.587940Z"
    }
   },
   "outputs": [],
   "source": [
    "print (sampleBySeqs_nonProd.count().sort_values(ascending=False).tail())"
   ]
  },
  {
   "cell_type": "code",
   "execution_count": null,
   "metadata": {
    "ExecuteTime": {
     "end_time": "2018-12-28T21:46:16.461464Z",
     "start_time": "2018-12-28T21:46:14.451351Z"
    }
   },
   "outputs": [],
   "source": [
    "sampleBySeqs_nonProd.info(memory_usage='deep')"
   ]
  },
  {
   "cell_type": "markdown",
   "metadata": {},
   "source": [
    "#### run for all PNP vs all Cardio"
   ]
  },
  {
   "cell_type": "code",
   "execution_count": null,
   "metadata": {},
   "outputs": [],
   "source": [
    "sampleByClusterDF=sampleBySeqs_nonProd\n",
    "\n",
    "print \n",
    "nShared_all=math.ceil(len(sampleByClusterDF) * percShared)\n",
    "print ('nShared_all= ',nShared_all)\n",
    "all_percClusters=sampleByClusterDF.loc[:,sampleByClusterDF.count()>=nShared_all].columns.tolist()"
   ]
  },
  {
   "cell_type": "code",
   "execution_count": null,
   "metadata": {
    "ExecuteTime": {
     "end_time": "2018-12-28T21:47:05.623247Z",
     "start_time": "2018-12-28T21:47:01.119925Z"
    }
   },
   "outputs": [],
   "source": [
    "sampleByClusterDF=sampleBySeqs_nonProd\n",
    "sampleGroup1=PNP530\n",
    "sampleGroup1name='PNP530_seqs'\n",
    "sampleGroup2=Cardio126\n",
    "sampleGroup2name='Cardio126_seqs'\n",
    "output_dir='/net/mraid08/export/genie/Lab/Personal/ShaniBAF/TCR_real_data/PNP530Cardio126Combined/sharingAnalysis/seqClusters_allNonProd_maxdist1/Fisher_MW_comparisons/'\n",
    "percShared=0.02\n",
    "\n",
    "results=compare_seq_clusters_between_populations(sampleByClusterDF,sampleGroup1,sampleGroup1name,sampleGroup2,sampleGroup2name,output_dir,percShared)"
   ]
  },
  {
   "cell_type": "markdown",
   "metadata": {},
   "source": [
    "# compare productive single sequences:"
   ]
  },
  {
   "cell_type": "markdown",
   "metadata": {},
   "source": [
    "## define wrapper function:"
   ]
  },
  {
   "cell_type": "code",
   "execution_count": null,
   "metadata": {
    "ExecuteTime": {
     "end_time": "2019-01-04T20:15:56.374061Z",
     "start_time": "2019-01-04T20:15:56.339377Z"
    }
   },
   "outputs": [],
   "source": [
    "def compare_seq_clusters_wrapper(sampleByClusterDF,sampleGroup1,sampleGroup1name,sampleGroup2,sampleGroup2name,output_dir,\n",
    "                                 percShared=0.05):\n",
    "    f1='%s/TCR_real_data/predictions2/TargetDFs/PNP530Cardio126_AgeGender.xlsx' %MyPath\n",
    "    PNP530Cardio126_AgeGender=pd.read_excel(f1).set_index('BD')\n",
    "\n",
    "    All=sampleGroup1+sampleGroup2\n",
    "\n",
    "    #calculate fisher and man-whitnney:\n",
    "    sampleByClusterDF=sampleByClusterDF.loc[All,:]\n",
    "\n",
    "    print ('starting...')\n",
    "    results=compare_seq_clusters_between_populations(sampleByClusterDF,sampleGroup1,sampleGroup1name,sampleGroup2,sampleGroup2name,output_dir,percShared=0.25)\n",
    "\n",
    "\\\n",
    "\n",
    "    # compare age distributions:\n",
    "    Age_sampleGroup1=PNP530Cardio126_AgeGender.loc[sampleGroup1,'Age'].dropna().tolist()\n",
    "    Age_sampleGroup2=PNP530Cardio126_AgeGender.loc[sampleGroup2,'Age'].dropna().tolist()\n",
    "    dataList=[(sampleGroup1name,Age_sampleGroup1),(sampleGroup2name,Age_sampleGroup2)]\n",
    "    \n",
    "    \n",
    "    fig,ax=plt.subplots()\n",
    "    # print (dataList)\n",
    "    title='%s vs. %s - Age distribution' %(sampleGroup1name,sampleGroup2name)\n",
    "    plotHistComprison(dataList,ax,title,showLegend=True,nBins=20,toAnnotate=True,alpha=None,plotType='hist')\n",
    "    plt.show()\n",
    "\n",
    "    #compare gender distribution:\n",
    "    Gender_sampleGroup1=Counter(PNP530Cardio126_AgeGender.loc[sampleGroup1,'Gender_Male'].dropna().tolist())\n",
    "    Gender_sampleGroup2=Counter(PNP530Cardio126_AgeGender.loc[sampleGroup2,'Gender_Male'].dropna().tolist())\n",
    "    \n",
    "    GenderDF=pd.concat([pd.DataFrame(index=[sampleGroup1name],data=Gender_sampleGroup1),\n",
    "                        pd.DataFrame(index=[sampleGroup2name],data=Gender_sampleGroup2)]).fillna(0)\n",
    "    print (GenderDF)\n",
    "    \n",
    "    try:\n",
    "        R_f, p_f = fisher_exact(GenderDF, alternative='two-sided')\n",
    "        print ('Fisher r,p = ',R_f,p_f)  \n",
    "    except:\n",
    "        print ('couldnt execute fisher test for gender distributions')\n",
    "    \n",
    "    return\n"
   ]
  },
  {
   "cell_type": "markdown",
   "metadata": {},
   "source": [
    "## generate productive sequence matrix and run the analysis on it as well:"
   ]
  },
  {
   "cell_type": "code",
   "execution_count": null,
   "metadata": {
    "ExecuteTime": {
     "end_time": "2019-01-05T19:33:03.873431Z",
     "start_time": "2019-01-05T19:31:01.934297Z"
    }
   },
   "outputs": [],
   "source": [
    "f1='/net/mraid08/export/jafar/Microbiome/Analyses/ShaniBAF/sharingAnalysis/AllUniqueWithCounts'\n",
    "AllUniqueWithCounts=pd.read_pickle(f1)\n",
    "AllUniqueWithCounts_prod=AllUniqueWithCounts[AllUniqueWithCounts['prod_stat']==1]\n",
    "sampleBySeqs_prod=AllUniqueWithCounts_prod[['prod_stat','Sample']].reset_index().rename(columns={'index':'seqeunce'}).groupby(['Sample','seqeunce'])['prod_stat'].count().unstack()\n",
    "print (sampleBySeqs_prod.shape)\n",
    "print (sampleBySeqs_prod.count().sort_values(ascending=False).head())"
   ]
  },
  {
   "cell_type": "code",
   "execution_count": null,
   "metadata": {
    "ExecuteTime": {
     "end_time": "2019-01-02T20:53:58.815694Z",
     "start_time": "2019-01-02T20:47:55.291Z"
    }
   },
   "outputs": [],
   "source": [
    "print (sampleBySeqs_prod.count().sort_values(ascending=False).tail())"
   ]
  },
  {
   "cell_type": "code",
   "execution_count": null,
   "metadata": {
    "ExecuteTime": {
     "end_time": "2019-01-02T20:53:58.829920Z",
     "start_time": "2019-01-02T20:47:55.825Z"
    }
   },
   "outputs": [],
   "source": [
    "sampleBySeqs_prod.info(memory_usage='deep')"
   ]
  },
  {
   "cell_type": "markdown",
   "metadata": {},
   "source": [
    "## run for old males pnp vs old males cardio - prod sequences"
   ]
  },
  {
   "cell_type": "code",
   "execution_count": null,
   "metadata": {
    "ExecuteTime": {
     "end_time": "2019-01-04T12:06:11.099195Z",
     "start_time": "2019-01-04T12:05:21.144151Z"
    }
   },
   "outputs": [],
   "source": [
    "# get samples lists:\n",
    "with open('/net/mraid08/export/genie/Lab/Personal/ShaniBAF/Sample files/BD lists/PNP530_balancedAge_males') as fp:\n",
    "    PNP530_balancedAge_males=pickle.load(fp)\n",
    "with open('/net/mraid08/export/genie/Lab/Personal/ShaniBAF/Sample files/BD lists/Cardio126_balancedAge_males') as fp:\n",
    "    Cardio126_balancedAge_males=pickle.load(fp)\n",
    "\n",
    "sampleGroup1=PNP530_balancedAge_males\n",
    "sampleGroup1name='PNP530_balancedAge_males_prodSeqs'\n",
    "sampleGroup2=Cardio126_balancedAge_males\n",
    "sampleGroup2name='Cardio126_balancedAge_males_prodSeqs'\n",
    "output_dir='/net/mraid08/export/jafar/Microbiome/Analyses/ShaniBAF/\\\n",
    "sharingAnalysis/seqClusters_allProd_maxdist1/Fisher_MW_comparisons/'\n",
    "sampleByClusterDF=sampleBySeqs_prod\n",
    "percShared=0.1\n",
    "\n",
    "compare_seq_clusters_wrapper(sampleByClusterDF,sampleGroup1,sampleGroup1name,sampleGroup2,sampleGroup2name,output_dir,\n",
    "                             percShared)"
   ]
  },
  {
   "cell_type": "markdown",
   "metadata": {},
   "source": [
    "## run for continuous phenotypes:"
   ]
  },
  {
   "cell_type": "code",
   "execution_count": null,
   "metadata": {
    "ExecuteTime": {
     "end_time": "2019-01-02T21:33:17.849313Z",
     "start_time": "2019-01-02T21:32:07.124467Z"
    }
   },
   "outputs": [],
   "source": [
    "phen_list=['GRACEScore','MaximalTroponin','Age']\n",
    "\n",
    "for phen in phen_list:\n",
    "    print ('')\n",
    "    print (phen)\n",
    "\n",
    "    # get samples lists:\n",
    "    with open('/net/mraid08/export/genie/Lab/Personal/ShaniBAF/Sample files/BD lists/Cardio126_bottom20%s' %phen,'rb') as fp:\n",
    "        Cardio126_bottom20=pickle.load(fp)\n",
    "    with open('/net/mraid08/export/genie/Lab/Personal/ShaniBAF/Sample files/BD lists/Cardio126_top20%s' %phen,'rb') as fp:\n",
    "        Cardio126_top20=pickle.load(fp)\n",
    "\n",
    "        sampleGroup1=Cardio126_bottom20\n",
    "        sampleGroup1name='Cardio126_bottom20%s' %phen\n",
    "        sampleGroup2=Cardio126_top20\n",
    "        sampleGroup2name='Cardio126_top20%s' %phen\n",
    "        output_dir='/net/mraid08/export/jafar/Microbiome/Analyses/ShaniBAF/\\\n",
    "sharingAnalysis/seqClusters_allProd_maxdist1/Fisher_MW_comparisons/'\n",
    "        sampleByClusterDF=sampleBySeqs_prod\n",
    "        percShared=0.25\n",
    "\n",
    "        compare_seq_clusters_wrapper(sampleByClusterDF,sampleGroup1,sampleGroup1name,sampleGroup2,sampleGroup2name,output_dir,\n",
    "                                     percShared)"
   ]
  },
  {
   "cell_type": "markdown",
   "metadata": {},
   "source": [
    "## run for binary phenotypes:"
   ]
  },
  {
   "cell_type": "code",
   "execution_count": null,
   "metadata": {
    "ExecuteTime": {
     "end_time": "2019-01-05T19:40:42.888473Z",
     "start_time": "2019-01-05T19:37:47.656175Z"
    }
   },
   "outputs": [],
   "source": [
    "phen_list=['DischargeClopidogrel','ChiefComplaintmapped_anginalpain','KnownCAD','Gender_Male']\n",
    "\n",
    "for phen in phen_list:\n",
    "    print ('')\n",
    "    print (phen)\n",
    "\n",
    "    # get samples lists:\n",
    "    with open('/net/mraid08/export/genie/Lab/Personal/ShaniBAF/Sample files/BD lists/%s0samples' %phen,'rb') as fp:\n",
    "        Cardio126_0samples=pickle.load(fp)\n",
    "    with open('/net/mraid08/export/genie/Lab/Personal/ShaniBAF/Sample files/BD lists/%s1samples' %phen,'rb') as fp:\n",
    "        Cardio126_1samples=pickle.load(fp)\n",
    "\n",
    "        sampleGroup1=Cardio126_0samples\n",
    "        sampleGroup1name='%s0samples' %phen\n",
    "        sampleGroup2=Cardio126_1samples\n",
    "        sampleGroup2name='%s1samples' %phen\n",
    "        output_dir='/net/mraid08/export/jafar/Microbiome/Analyses/ShaniBAF/\\\n",
    "sharingAnalysis/seqClusters_allProd_maxdist1/Fisher_MW_comparisons/'\n",
    "        sampleByClusterDF=sampleBySeqs_prod\n",
    "        percShared=0.25\n",
    "\n",
    "        compare_seq_clusters_wrapper(sampleByClusterDF,sampleGroup1,sampleGroup1name,sampleGroup2,sampleGroup2name,output_dir,\n",
    "                                     percShared)"
   ]
  },
  {
   "cell_type": "code",
   "execution_count": null,
   "metadata": {},
   "outputs": [],
   "source": []
  },
  {
   "cell_type": "code",
   "execution_count": null,
   "metadata": {},
   "outputs": [],
   "source": []
  },
  {
   "cell_type": "code",
   "execution_count": null,
   "metadata": {},
   "outputs": [],
   "source": []
  },
  {
   "cell_type": "markdown",
   "metadata": {},
   "source": [
    "## other phenotyps:"
   ]
  },
  {
   "cell_type": "code",
   "execution_count": null,
   "metadata": {
    "ExecuteTime": {
     "end_time": "2019-01-04T12:11:52.373410Z",
     "start_time": "2019-01-04T12:09:57.226828Z"
    }
   },
   "outputs": [],
   "source": [
    "phen_list=[('GlucoseDisorder',0,2),('LVEF',0,23),('ostial',0,234)]\n",
    "\n",
    "for item in phen_list:\n",
    "    phen=item[0]\n",
    "    group1=str(item[1])\n",
    "    group2=str(item[2])\n",
    "    \n",
    "    print ('')\n",
    "    print (phen)\n",
    "\n",
    "    # get samples lists:\n",
    "    with open('/net/mraid08/export/genie/Lab/Personal/ShaniBAF/Sample files/BD lists/%s%ssamples' %(phen,group1),'rb') as fp:\n",
    "        group1data=pickle.load(fp)\n",
    "    with open('/net/mraid08/export/genie/Lab/Personal/ShaniBAF/Sample files/BD lists/%s%ssamples' %(phen,group2),'rb') as fp:\n",
    "        group2data=pickle.load(fp)\n",
    "\n",
    "        sampleGroup1=group1data\n",
    "        sampleGroup1name='%s%ssamples' %(phen,group1)\n",
    "        sampleGroup2=group2data\n",
    "        sampleGroup2name='%s%ssamples' %(phen,group2)\n",
    "        output_dir='/net/mraid08/export/jafar/Microbiome/Analyses/ShaniBAF/\\\n",
    "sharingAnalysis/seqClusters_allProd_maxdist1/Fisher_MW_comparisons/'\n",
    "        sampleByClusterDF=sampleBySeqs_prod\n",
    "        percShared=0.25\n",
    "\n",
    "        compare_seq_clusters_wrapper(sampleByClusterDF,sampleGroup1,sampleGroup1name,sampleGroup2,sampleGroup2name,output_dir,\n",
    "                                     percShared)"
   ]
  },
  {
   "cell_type": "markdown",
   "metadata": {},
   "source": [
    "# Use productive clusters (redundant!)"
   ]
  },
  {
   "cell_type": "markdown",
   "metadata": {},
   "source": [
    "## get productive clusters dataframe:\n"
   ]
  },
  {
   "cell_type": "code",
   "execution_count": 33,
   "metadata": {
    "ExecuteTime": {
     "end_time": "2019-01-17T00:01:54.924902Z",
     "start_time": "2019-01-17T00:01:53.219906Z"
    }
   },
   "outputs": [],
   "source": [
    "sampleByClusterDF=pd.read_pickle('/net/mraid08/export/jafar/Microbiome/Analyses/ShaniBAF/\\\n",
    "sharingAnalysis/seqClusters_allProd_maxdist1/sampleByClusterDF_cohortfiltering005-09perc_dropped.dat')"
   ]
  },
  {
   "cell_type": "markdown",
   "metadata": {},
   "source": [
    "## PNP530 vs Cardio126"
   ]
  },
  {
   "cell_type": "code",
   "execution_count": null,
   "metadata": {
    "ExecuteTime": {
     "end_time": "2019-01-04T20:44:32.002647Z",
     "start_time": "2019-01-04T20:44:25.287Z"
    }
   },
   "outputs": [],
   "source": [
    "# get samples lists:\n",
    "with open('/net/mraid08/export/genie/Lab/Personal/ShaniBAF/Sample files/BD lists/PNP530') as fp:\n",
    "    PNP530=pickle.load(fp)\n",
    "with open('/net/mraid08/export/genie/Lab/Personal/ShaniBAF/Sample files/BD lists/Cardio126') as fp:\n",
    "    Cardio126=pickle.load(fp)\n",
    "\n",
    "sampleGroup1=PNP530\n",
    "sampleGroup1name='PNP530_prodClusRed'\n",
    "sampleGroup2=Cardio126\n",
    "sampleGroup2name='Cardio126_prodClusRed'\n",
    "output_dir='/net/mraid08/export/jafar/Microbiome/Analyses/ShaniBAF/\\\n",
    "sharingAnalysis/seqClusters_allProd_maxdist1/Fisher_MW_comparisons/'\n",
    "sampleByClusterDF=sampleByClusterDF\n",
    "percShared=0.05\n",
    "percTooMany=0.85\n",
    "\n",
    "compare_seq_clusters_wrapper(sampleByClusterDF,sampleGroup1,sampleGroup1name,sampleGroup2,sampleGroup2name,output_dir,\n",
    "                             percShared,percTooMany)"
   ]
  },
  {
   "cell_type": "markdown",
   "metadata": {},
   "source": [
    "## balanced old males: PNP530 vs Cardio126"
   ]
  },
  {
   "cell_type": "code",
   "execution_count": null,
   "metadata": {
    "ExecuteTime": {
     "end_time": "2019-01-04T21:22:58.085165Z",
     "start_time": "2019-01-04T20:44:33.646046Z"
    }
   },
   "outputs": [],
   "source": [
    "# get samples lists:\n",
    "with open('/net/mraid08/export/genie/Lab/Personal/ShaniBAF/Sample files/BD lists/PNP530_balancedAge_males') as fp:\n",
    "    PNP530_balancedAge_males=pickle.load(fp)\n",
    "with open('/net/mraid08/export/genie/Lab/Personal/ShaniBAF/Sample files/BD lists/Cardio126_balancedAge_males') as fp:\n",
    "    Cardio126_balancedAge_males=pickle.load(fp)\n",
    "\n",
    "sampleGroup1=PNP530_balancedAge_males\n",
    "sampleGroup1name='PNP530_balancedAge_males_prodClusRed'\n",
    "sampleGroup2=Cardio126_balancedAge_males\n",
    "sampleGroup2name='Cardio126_balancedAge_males_prodClusRed'\n",
    "output_dir='/net/mraid08/export/jafar/Microbiome/Analyses/ShaniBAF/\\\n",
    "sharingAnalysis/seqClusters_allProd_maxdist1/Fisher_MW_comparisons/'\n",
    "sampleByClusterDF=sampleByClusterDF\n",
    "percShared=0.1\n",
    "percTooMany=0.85\n",
    "\n",
    "compare_seq_clusters_wrapper(sampleByClusterDF,sampleGroup1,sampleGroup1name,sampleGroup2,sampleGroup2name,output_dir,\n",
    "                             percShared,percTooMany)"
   ]
  },
  {
   "cell_type": "code",
   "execution_count": null,
   "metadata": {},
   "outputs": [],
   "source": []
  },
  {
   "cell_type": "markdown",
   "metadata": {},
   "source": [
    "## run for continuous phenotypes - bottom/top 20"
   ]
  },
  {
   "cell_type": "code",
   "execution_count": 39,
   "metadata": {
    "ExecuteTime": {
     "end_time": "2019-01-17T08:03:14.389982Z",
     "start_time": "2019-01-17T07:28:05.881836Z"
    }
   },
   "outputs": [
    {
     "name": "stdout",
     "output_type": "stream",
     "text": [
      "\n",
      "total_ostial_cont\n",
      "starting...\n",
      "('nShared=', None)\n",
      "('perc Shared is ', 0.25)\n",
      "('nShared_group1= ', 5.0)\n",
      "('n clusters shared by 5.0 or more samples in group1= ', 39793)\n",
      "('nShared_group2= ', 5.0)\n",
      "('n clusters shared by 5.0 or more samples in group2= ', 51286)\n",
      "('nShared_all= ', 10.0)\n",
      "('n clusters shared by 10.0 or more samples in all samples= ', 0)\n",
      "('total number of clusters shared by more than 0.25 ', 66602)\n",
      "filtering out clusters that appear in more than 38.0 (0.95) samples\n",
      "('final sampleByClusterDF_perc shape is: ', (40, 66601))\n",
      "('n samples in group1= ', 20.0)\n",
      "('n samples in group2= ', 20.0)\n",
      "('start comparing, time is:', datetime.datetime(2019, 1, 17, 9, 28, 7, 704905))\n",
      "0\n",
      "500\n",
      "1000\n",
      "1500\n",
      "2000\n",
      "2500\n",
      "3000\n",
      "3500\n",
      "4000\n",
      "4500\n",
      "5000\n",
      "5500\n",
      "6000\n",
      "6500\n",
      "7000\n",
      "7500\n",
      "8000\n",
      "8500\n",
      "9000\n",
      "9500\n",
      "10000\n",
      "10500\n",
      "11000\n",
      "11500\n",
      "12000\n",
      "12500\n",
      "13000\n",
      "13500\n",
      "14000\n",
      "14500\n",
      "15000\n",
      "15500\n",
      "16000\n",
      "16500\n",
      "17000\n",
      "17500\n",
      "18000\n",
      "18500\n",
      "19000\n",
      "19500\n",
      "20000\n",
      "20500\n",
      "21000\n",
      "21500\n",
      "22000\n",
      "22500\n",
      "23000\n",
      "23500\n",
      "24000\n",
      "24500\n",
      "25000\n",
      "25500\n",
      "26000\n",
      "26500\n",
      "27000\n",
      "27500\n",
      "28000\n",
      "28500\n",
      "29000\n",
      "29500\n",
      "30000\n",
      "30500\n",
      "31000\n",
      "31500\n",
      "32000\n",
      "32500\n",
      "33000\n",
      "33500\n",
      "34000\n",
      "34500\n",
      "35000\n",
      "35500\n",
      "36000\n",
      "36500\n",
      "37000\n",
      "37500\n",
      "38000\n",
      "38500\n",
      "39000\n",
      "39500\n",
      "40000\n",
      "40500\n",
      "41000\n",
      "41500\n",
      "42000\n",
      "42500\n",
      "43000\n",
      "43500\n",
      "44000\n",
      "44500\n",
      "45000\n",
      "45500\n",
      "46000\n",
      "46500\n",
      "47000\n",
      "47500\n",
      "48000\n",
      "48500\n",
      "49000\n",
      "49500\n",
      "50000\n",
      "50500\n",
      "51000\n",
      "51500\n",
      "52000\n",
      "52500\n",
      "53000\n",
      "53500\n",
      "54000\n",
      "54500\n",
      "55000\n",
      "55500\n",
      "56000\n",
      "56500\n",
      "57000\n",
      "57500\n",
      "58000\n",
      "58500\n",
      "59000\n",
      "59500\n",
      "60000\n",
      "60500\n",
      "61000\n",
      "61500\n",
      "62000\n",
      "62500\n",
      "63000\n",
      "63500\n",
      "64000\n",
      "64500\n",
      "65000\n",
      "65500\n",
      "66000\n",
      "66500\n",
      "('finished comparing, time is:', datetime.datetime(2019, 1, 17, 10, 2, 36, 268925))\n",
      "comparison df was saved...\n"
     ]
    },
    {
     "data": {
      "image/png": "[encoded data removed]",
      "text/plain": [
       "<matplotlib.figure.Figure at 0x7f51a9241250>"
      ]
     },
     "metadata": {},
     "output_type": "display_data"
    },
    {
     "name": "stdout",
     "output_type": "stream",
     "text": [
      "                                     0   1\n",
      "Cardio126_bottom20total_ostial_cont  2  18\n",
      "Cardio126_top20total_ostial_cont     3  17\n",
      "('Fisher r,p = ', 0.6296296296296297, 1.0)\n"
     ]
    }
   ],
   "source": [
    "# phen_list=['GRACEScore','MaximalTroponin','Age']\n",
    "# phen_list=['MaximalTroponin']\n",
    "phen_list=['total_ostial_cont']\n",
    "\n",
    "for phen in phen_list:\n",
    "    print ('')\n",
    "    print (phen)\n",
    "\n",
    "    # get samples lists:\n",
    "    with open('/net/mraid08/export/genie/Lab/Personal/ShaniBAF/Sample files/BD lists/Cardio126_bottom20%s' %phen,'rb') as fp:\n",
    "        Cardio126_bottom20=pickle.load(fp)\n",
    "    with open('/net/mraid08/export/genie/Lab/Personal/ShaniBAF/Sample files/BD lists/Cardio126_top20%s' %phen,'rb') as fp:\n",
    "        Cardio126_top20=pickle.load(fp)\n",
    "\n",
    "        sampleGroup1=Cardio126_bottom20\n",
    "        sampleGroup1name='Cardio126_bottom20%s' %phen\n",
    "        sampleGroup2=Cardio126_top20\n",
    "        sampleGroup2name='Cardio126_top20%s' %phen\n",
    "        output_dir='/net/mraid08/export/jafar/Microbiome/Analyses/ShaniBAF/\\\n",
    "sharingAnalysis/seqClusters_allProd_maxdist1/Fisher_MW_comparisons/'\n",
    "        sampleByClusterDF=sampleByClusterDF\n",
    "        percShared=0.25\n",
    "        \n",
    "\n",
    "        compare_seq_clusters_wrapper(sampleByClusterDF,sampleGroup1,sampleGroup1name,sampleGroup2,sampleGroup2name,output_dir,\n",
    "                                     percShared)"
   ]
  },
  {
   "cell_type": "markdown",
   "metadata": {},
   "source": [
    "## run for continuous phenotypes - bottom/top 30"
   ]
  },
  {
   "cell_type": "code",
   "execution_count": null,
   "metadata": {
    "ExecuteTime": {
     "end_time": "2019-01-09T08:06:39.203656Z",
     "start_time": "2019-01-09T07:40:12.163426Z"
    }
   },
   "outputs": [],
   "source": [
    "# phen_list=['GRACEScore','MaximalTroponin','Age']\n",
    "phen_list=['MaximalTroponin']\n",
    "\n",
    "\n",
    "for phen in phen_list:\n",
    "    print ('')\n",
    "    print (phen)\n",
    "\n",
    "    # get samples lists:\n",
    "    with open('/net/mraid08/export/genie/Lab/Personal/ShaniBAF/Sample files/BD lists/Cardio126_bottom30%s' %phen,'rb') as fp:\n",
    "        Cardio126_bottom30=pickle.load(fp)\n",
    "    with open('/net/mraid08/export/genie/Lab/Personal/ShaniBAF/Sample files/BD lists/Cardio126_top30%s' %phen,'rb') as fp:\n",
    "        Cardio126_top30=pickle.load(fp)\n",
    "\n",
    "        sampleGroup1=Cardio126_bottom30\n",
    "        sampleGroup1name='Cardio126_bottom30%s' %phen\n",
    "        sampleGroup2=Cardio126_top30\n",
    "        sampleGroup2name='Cardio126_top30%s' %phen\n",
    "        output_dir='/net/mraid08/export/jafar/Microbiome/Analyses/ShaniBAF/\\\n",
    "sharingAnalysis/seqClusters_allProd_maxdist1/Fisher_MW_comparisons/'\n",
    "        sampleByClusterDF=sampleByClusterDF\n",
    "        percShared=0.25\n",
    "        \n",
    "\n",
    "        compare_seq_clusters_wrapper(sampleByClusterDF,sampleGroup1,sampleGroup1name,sampleGroup2,sampleGroup2name,output_dir,\n",
    "                                     percShared)"
   ]
  },
  {
   "cell_type": "markdown",
   "metadata": {},
   "source": [
    "## run for binary phenotypes:"
   ]
  },
  {
   "cell_type": "code",
   "execution_count": null,
   "metadata": {
    "ExecuteTime": {
     "end_time": "2019-01-03T16:01:12.216824Z",
     "start_time": "2019-01-03T15:58:34.638318Z"
    }
   },
   "outputs": [],
   "source": [
    "phen_list=['DischargeClopidogrel','ChiefComplaintmapped_anginalpain','KnownCAD','Gender_Male']\n",
    "\n",
    "for phen in phen_list:\n",
    "    print ('')\n",
    "    print (phen)\n",
    "\n",
    "    # get samples lists:\n",
    "    with open('/net/mraid08/export/genie/Lab/Personal/ShaniBAF/Sample files/BD lists/%s0samples' %phen,'rb') as fp:\n",
    "        Cardio126_0samples=pickle.load(fp)\n",
    "    with open('/net/mraid08/export/genie/Lab/Personal/ShaniBAF/Sample files/BD lists/%s1samples' %phen,'rb') as fp:\n",
    "        Cardio126_1samples=pickle.load(fp)\n",
    "\n",
    "        sampleGroup1=Cardio126_0samples\n",
    "        sampleGroup1name='%s0samples' %phen\n",
    "        sampleGroup2=Cardio126_1samples\n",
    "        sampleGroup2name='%s1samples' %phen\n",
    "        output_dir='/net/mraid08/export/jafar/Microbiome/Analyses/ShaniBAF/\\\n",
    "sharingAnalysis/seqClusters_allProd_maxdist1/Fisher_MW_comparisons/'\n",
    "        sampleByClusterDF=sampleByClusterDF\n",
    "        percShared=0.25\n",
    "\n",
    "        compare_seq_clusters_wrapper(sampleByClusterDF,sampleGroup1,sampleGroup1name,sampleGroup2,sampleGroup2name,output_dir,\n",
    "                                     percShared)"
   ]
  },
  {
   "cell_type": "markdown",
   "metadata": {},
   "source": [
    "## run for  more binary phenotypes:"
   ]
  },
  {
   "cell_type": "code",
   "execution_count": null,
   "metadata": {
    "ExecuteTime": {
     "end_time": "2019-01-07T21:20:24.341357Z",
     "start_time": "2019-01-07T20:30:27.763071Z"
    }
   },
   "outputs": [],
   "source": [
    "phen_list=['AdmissionDiagnosismapped_STEMI','ChiefComplaintmapped_anginalpain']\n",
    "for phen in phen_list:\n",
    "    print ('')\n",
    "    print (phen)\n",
    "\n",
    "    # get samples lists:\n",
    "    with open('/net/mraid08/export/genie/Lab/Personal/ShaniBAF/Sample files/BD lists/%s0samples' %phen,'rb') as fp:\n",
    "        Cardio126_0samples=pickle.load(fp)\n",
    "    with open('/net/mraid08/export/genie/Lab/Personal/ShaniBAF/Sample files/BD lists/%s1samples' %phen,'rb') as fp:\n",
    "        Cardio126_1samples=pickle.load(fp)\n",
    "\n",
    "        sampleGroup1=Cardio126_0samples\n",
    "        sampleGroup1name='%s0samples' %phen\n",
    "        sampleGroup2=Cardio126_1samples\n",
    "        sampleGroup2name='%s1samples' %phen\n",
    "        output_dir='/net/mraid08/export/jafar/Microbiome/Analyses/ShaniBAF/\\\n",
    "sharingAnalysis/seqClusters_allProd_maxdist1/Fisher_MW_comparisons/'\n",
    "        sampleByClusterDF=sampleByClusterDF\n",
    "        percShared=0.25\n",
    "\n",
    "        compare_seq_clusters_wrapper(sampleByClusterDF,sampleGroup1,sampleGroup1name,sampleGroup2,sampleGroup2name,output_dir,\n",
    "                                     percShared)"
   ]
  },
  {
   "cell_type": "code",
   "execution_count": null,
   "metadata": {
    "ExecuteTime": {
     "start_time": "2019-01-10T15:59:52.739Z"
    }
   },
   "outputs": [],
   "source": [
    "phen='ChiefComplaintmapped_anginalpain'\n",
    "\n",
    "\n",
    "with open('/net/mraid08/export/genie/Lab/Personal/ShaniBAF/Sample files/BD lists/%s0samples' %phen,'rb') as fp:\n",
    "    Cardio126_0samples=pickle.load(fp)\n",
    "with open('/net/mraid08/export/genie/Lab/Personal/ShaniBAF/Sample files/BD lists/%s1samples' %phen,'rb') as fp:\n",
    "    Cardio126_1samples=pickle.load(fp)\n",
    "    \n",
    "sampleGroup1=Cardio126_0samples\n",
    "sampleGroup1name='%s0samples' %phen\n",
    "sampleGroup2=Cardio126_1samples\n",
    "sampleGroup2name='%s1samples' %phen\n",
    "        \n",
    "MyPath = '/net/mraid08/export/genie/Lab/Personal/ShaniBAF'   \n",
    "f1 = '/net/mraid08/export/jafar/Microbiome/Analyses/ShaniBAF/predictions2/TargetDFs/PNP530Cardio126_AgeGender.xlsx' \n",
    "PNP530Cardio126_AgeGender = pd.read_excel(f1).set_index('BD')\n",
    "\n",
    "Age_sampleGroup1 = PNP530Cardio126_AgeGender.loc[sampleGroup1, 'Age'].dropna().tolist()\n",
    "Age_sampleGroup2 = PNP530Cardio126_AgeGender.loc[sampleGroup2, 'Age'].dropna().tolist()\n",
    "dataList = [(sampleGroup1name, Age_sampleGroup1), (sampleGroup2name, Age_sampleGroup2)]\n",
    "\n",
    "try:\n",
    "    fig, ax = plt.subplots()\n",
    "    # print (dataList)\n",
    "    title = '%s vs. %s - Age distribution' % (sampleGroup1name, sampleGroup2name)\n",
    "    plotHistComprison(dataList, ax, title, showLegend=True, nBins=20, toAnnotate=True, alpha=None, plotType='hist')\n",
    "    plt.show()\n",
    "except:\n",
    "    print ('cant do plots, sorry')\n",
    "\n",
    "# compare gender distribution:\n",
    "Gender_sampleGroup1 = Counter(PNP530Cardio126_AgeGender.loc[sampleGroup1, 'Gender_Male'].dropna().tolist())\n",
    "Gender_sampleGroup2 = Counter(PNP530Cardio126_AgeGender.loc[sampleGroup2, 'Gender_Male'].dropna().tolist())\n",
    "\n",
    "GenderDF = pd.concat([pd.DataFrame(index=[sampleGroup1name], data=Gender_sampleGroup1),\n",
    "                    pd.DataFrame(index=[sampleGroup2name], data=Gender_sampleGroup2)]).fillna(0)\n",
    "print (GenderDF)\n",
    "\n",
    "try:\n",
    "    R_f, p_f = fisher_exact(GenderDF, alternative='two-sided')\n",
    "    print ('Fisher r,p = ', R_f, p_f)  \n",
    "except:\n",
    "    print ('couldnt execute fisher test for gender distributions')"
   ]
  },
  {
   "cell_type": "markdown",
   "metadata": {},
   "source": [
    "## run for PCI_LVEF_CVA_CABG binary phenotypes"
   ]
  },
  {
   "cell_type": "code",
   "execution_count": null,
   "metadata": {
    "ExecuteTime": {
     "end_time": "2019-01-09T08:12:32.360161Z",
     "start_time": "2019-01-09T08:12:31.814901Z"
    }
   },
   "outputs": [],
   "source": [
    "phen='PCI1_CABG'\n",
    "\n",
    "\n",
    "with open('/net/mraid08/export/genie/Lab/Personal/ShaniBAF/Sample files/BD lists/%s0samples' %phen,'rb') as fp:\n",
    "    Cardio126_0samples=pickle.load(fp)\n",
    "with open('/net/mraid08/export/genie/Lab/Personal/ShaniBAF/Sample files/BD lists/%s1samples' %phen,'rb') as fp:\n",
    "    Cardio126_1samples=pickle.load(fp)\n",
    "    \n",
    "sampleGroup1=Cardio126_0samples\n",
    "sampleGroup1name='%s0samples' %phen\n",
    "sampleGroup2=Cardio126_1samples\n",
    "sampleGroup2name='%s1samples' %phen\n",
    "        \n",
    "MyPath = '/net/mraid08/export/genie/Lab/Personal/ShaniBAF'   \n",
    "f1 = '/net/mraid08/export/jafar/Microbiome/Analyses/ShaniBAF/predictions2/TargetDFs/PNP530Cardio126_AgeGender.xlsx' \n",
    "PNP530Cardio126_AgeGender = pd.read_excel(f1).set_index('BD')\n",
    "\n",
    "Age_sampleGroup1 = PNP530Cardio126_AgeGender.loc[sampleGroup1, 'Age'].dropna().tolist()\n",
    "Age_sampleGroup2 = PNP530Cardio126_AgeGender.loc[sampleGroup2, 'Age'].dropna().tolist()\n",
    "dataList = [(sampleGroup1name, Age_sampleGroup1), (sampleGroup2name, Age_sampleGroup2)]\n",
    "\n",
    "try:\n",
    "    fig, ax = plt.subplots()\n",
    "    # print (dataList)\n",
    "    title = '%s vs. %s - Age distribution' % (sampleGroup1name, sampleGroup2name)\n",
    "    plotHistComprison(dataList, ax, title, showLegend=True, nBins=20, toAnnotate=True, alpha=None, plotType='hist')\n",
    "    plt.show()\n",
    "except:\n",
    "    print ('cant do plots, sorry')\n",
    "\n",
    "# compare gender distribution:\n",
    "Gender_sampleGroup1 = Counter(PNP530Cardio126_AgeGender.loc[sampleGroup1, 'Gender_Male'].dropna().tolist())\n",
    "Gender_sampleGroup2 = Counter(PNP530Cardio126_AgeGender.loc[sampleGroup2, 'Gender_Male'].dropna().tolist())\n",
    "\n",
    "GenderDF = pd.concat([pd.DataFrame(index=[sampleGroup1name], data=Gender_sampleGroup1),\n",
    "                    pd.DataFrame(index=[sampleGroup2name], data=Gender_sampleGroup2)]).fillna(0)\n",
    "print (GenderDF)\n",
    "\n",
    "try:\n",
    "    R_f, p_f = fisher_exact(GenderDF, alternative='two-sided')\n",
    "    print ('Fisher r,p = ', R_f, p_f)  \n",
    "except:\n",
    "    print ('couldnt execute fisher test for gender distributions')"
   ]
  },
  {
   "cell_type": "code",
   "execution_count": null,
   "metadata": {
    "ExecuteTime": {
     "end_time": "2019-01-07T15:58:44.103112Z",
     "start_time": "2019-01-07T11:28:52.974145Z"
    }
   },
   "outputs": [],
   "source": [
    "for phen in PCI_LVEF_CVA_CABG.columns.tolist():\n",
    "    print ('')\n",
    "    print (phen)\n",
    "\n",
    "    # get samples lists:\n",
    "    with open('/net/mraid08/export/genie/Lab/Personal/ShaniBAF/Sample files/BD lists/%s0samples' %phen,'rb') as fp:\n",
    "        Cardio126_0samples=pickle.load(fp)\n",
    "    with open('/net/mraid08/export/genie/Lab/Personal/ShaniBAF/Sample files/BD lists/%s1samples' %phen,'rb') as fp:\n",
    "        Cardio126_1samples=pickle.load(fp)\n",
    "\n",
    "        sampleGroup1=Cardio126_0samples\n",
    "        sampleGroup1name='%s0samples' %phen\n",
    "        sampleGroup2=Cardio126_1samples\n",
    "        sampleGroup2name='%s1samples' %phen\n",
    "        output_dir='/net/mraid08/export/jafar/Microbiome/Analyses/ShaniBAF/\\\n",
    "sharingAnalysis/seqClusters_allProd_maxdist1/Fisher_MW_comparisons/'\n",
    "        sampleByClusterDF=sampleByClusterDF\n",
    "        percShared=0.25\n",
    "\n",
    "        compare_seq_clusters_wrapper(sampleByClusterDF,sampleGroup1,sampleGroup1name,sampleGroup2,sampleGroup2name,output_dir,\n",
    "                                     percShared)\n"
   ]
  },
  {
   "cell_type": "code",
   "execution_count": null,
   "metadata": {},
   "outputs": [],
   "source": []
  },
  {
   "cell_type": "markdown",
   "metadata": {},
   "source": [
    "## PCI_cont:"
   ]
  },
  {
   "cell_type": "code",
   "execution_count": null,
   "metadata": {
    "ExecuteTime": {
     "end_time": "2019-01-07T19:15:30.441303Z",
     "start_time": "2019-01-07T18:51:52.733186Z"
    },
    "scrolled": false
   },
   "outputs": [],
   "source": [
    "phen_list=[('PCI',0,2345)]\n",
    "\n",
    "for item in phen_list:\n",
    "    phen=item[0]\n",
    "    group1=str(item[1])\n",
    "    group2=str(item[2])\n",
    "    \n",
    "    print ('')\n",
    "    print (phen)\n",
    "\n",
    "    # get samples lists:\n",
    "    with open('/net/mraid08/export/genie/Lab/Personal/ShaniBAF/Sample files/BD lists/%s%ssamples' %(phen,group1),'rb') as fp:\n",
    "        group1data=pickle.load(fp)\n",
    "    with open('/net/mraid08/export/genie/Lab/Personal/ShaniBAF/Sample files/BD lists/%s%ssamples' %(phen,group2),'rb') as fp:\n",
    "        group2data=pickle.load(fp)\n",
    "\n",
    "        sampleGroup1=group1data\n",
    "        sampleGroup1name='%s%ssamples' %(phen,group1)\n",
    "        sampleGroup2=group2data\n",
    "        sampleGroup2name='%s%ssamples' %(phen,group2)\n",
    "        output_dir='/net/mraid08/export/jafar/Microbiome/Analyses/ShaniBAF/\\\n",
    "sharingAnalysis/seqClusters_allProd_maxdist1/Fisher_MW_comparisons/'\n",
    "        sampleByClusterDF=sampleByClusterDF\n",
    "        percShared=0.25\n",
    "        percTooMany=0.9\n",
    "\n",
    "        compare_seq_clusters_wrapper(sampleByClusterDF,sampleGroup1,sampleGroup1name,sampleGroup2,sampleGroup2name,output_dir,\n",
    "                                     percShared,percTooMany)"
   ]
  },
  {
   "cell_type": "markdown",
   "metadata": {},
   "source": [
    "## other phenotyps:"
   ]
  },
  {
   "cell_type": "code",
   "execution_count": null,
   "metadata": {
    "ExecuteTime": {
     "end_time": "2019-01-06T22:12:52.647700Z",
     "start_time": "2019-01-06T20:43:52.118002Z"
    },
    "scrolled": false
   },
   "outputs": [],
   "source": [
    "phen_list=[('GlucoseDisorder',0,2),('LVEF',0,23),('ostial',0,234)]\n",
    "\n",
    "for item in phen_list:\n",
    "    phen=item[0]\n",
    "    group1=str(item[1])\n",
    "    group2=str(item[2])\n",
    "    \n",
    "    print ('')\n",
    "    print (phen)\n",
    "\n",
    "    # get samples lists:\n",
    "    with open('/net/mraid08/export/genie/Lab/Personal/ShaniBAF/Sample files/BD lists/%s%ssamples' %(phen,group1),'rb') as fp:\n",
    "        group1data=pickle.load(fp)\n",
    "    with open('/net/mraid08/export/genie/Lab/Personal/ShaniBAF/Sample files/BD lists/%s%ssamples' %(phen,group2),'rb') as fp:\n",
    "        group2data=pickle.load(fp)\n",
    "\n",
    "        sampleGroup1=group1data\n",
    "        sampleGroup1name='%s%ssamples' %(phen,group1)\n",
    "        sampleGroup2=group2data\n",
    "        sampleGroup2name='%s%ssamples' %(phen,group2)\n",
    "        output_dir='/net/mraid08/export/jafar/Microbiome/Analyses/ShaniBAF/\\\n",
    "sharingAnalysis/seqClusters_allProd_maxdist1/Fisher_MW_comparisons/'\n",
    "        sampleByClusterDF=sampleByClusterDF\n",
    "        percShared=0.25\n",
    "        percTooMany=0.9\n",
    "\n",
    "        compare_seq_clusters_wrapper(sampleByClusterDF,sampleGroup1,sampleGroup1name,sampleGroup2,sampleGroup2name,output_dir,\n",
    "                                     percShared,percTooMany)"
   ]
  },
  {
   "cell_type": "code",
   "execution_count": null,
   "metadata": {
    "ExecuteTime": {
     "start_time": "2019-01-10T15:59:52.739Z"
    }
   },
   "outputs": [],
   "source": [
    "phen='PCI1_CABG'\n",
    "\n",
    "\n",
    "with open('/net/mraid08/export/genie/Lab/Personal/ShaniBAF/Sample files/BD lists/%s0samples' %phen,'rb') as fp:\n",
    "    Cardio126_0samples=pickle.load(fp)\n",
    "with open('/net/mraid08/export/genie/Lab/Personal/ShaniBAF/Sample files/BD lists/%s1samples' %phen,'rb') as fp:\n",
    "    Cardio126_1samples=pickle.load(fp)\n",
    "    \n",
    "sampleGroup1=Cardio126_0samples\n",
    "sampleGroup1name='%s0samples' %phen\n",
    "sampleGroup2=Cardio126_1samples\n",
    "sampleGroup2name='%s1samples' %phen\n",
    "        \n",
    "MyPath = '/net/mraid08/export/genie/Lab/Personal/ShaniBAF'   \n",
    "f1 = '/net/mraid08/export/jafar/Microbiome/Analyses/ShaniBAF/predictions2/TargetDFs/PNP530Cardio126_AgeGender.xlsx' \n",
    "PNP530Cardio126_AgeGender = pd.read_excel(f1).set_index('BD')\n",
    "\n",
    "Age_sampleGroup1 = PNP530Cardio126_AgeGender.loc[sampleGroup1, 'Age'].dropna().tolist()\n",
    "Age_sampleGroup2 = PNP530Cardio126_AgeGender.loc[sampleGroup2, 'Age'].dropna().tolist()\n",
    "dataList = [(sampleGroup1name, Age_sampleGroup1), (sampleGroup2name, Age_sampleGroup2)]\n",
    "\n",
    "try:\n",
    "    fig, ax = plt.subplots()\n",
    "    # print (dataList)\n",
    "    title = '%s vs. %s - Age distribution' % (sampleGroup1name, sampleGroup2name)\n",
    "    plotHistComprison(dataList, ax, title, showLegend=True, nBins=20, toAnnotate=True, alpha=None, plotType='hist')\n",
    "    plt.show()\n",
    "except:\n",
    "    print ('cant do plots, sorry')\n",
    "\n",
    "# compare gender distribution:\n",
    "Gender_sampleGroup1 = Counter(PNP530Cardio126_AgeGender.loc[sampleGroup1, 'Gender_Male'].dropna().tolist())\n",
    "Gender_sampleGroup2 = Counter(PNP530Cardio126_AgeGender.loc[sampleGroup2, 'Gender_Male'].dropna().tolist())\n",
    "\n",
    "GenderDF = pd.concat([pd.DataFrame(index=[sampleGroup1name], data=Gender_sampleGroup1),\n",
    "                    pd.DataFrame(index=[sampleGroup2name], data=Gender_sampleGroup2)]).fillna(0)\n",
    "print (GenderDF)\n",
    "\n",
    "try:\n",
    "    R_f, p_f = fisher_exact(GenderDF, alternative='two-sided')\n",
    "    print ('Fisher r,p = ', R_f, p_f)  \n",
    "except:\n",
    "    print ('couldnt execute fisher test for gender distributions')"
   ]
  },
  {
   "cell_type": "markdown",
   "metadata": {},
   "source": [
    "## run for paper phenotypes with resampled groupes"
   ]
  },
  {
   "cell_type": "markdown",
   "metadata": {},
   "source": [
    "### binary:"
   ]
  },
  {
   "cell_type": "code",
   "execution_count": null,
   "metadata": {
    "ExecuteTime": {
     "end_time": "2019-01-10T17:02:12.035249Z",
     "start_time": "2019-01-10T16:50:38.590695Z"
    }
   },
   "outputs": [],
   "source": [
    "phen_list=['ChiefComplaintmapped_anginalpain','DischargeClopidogrel','PCI1_CABG']\n",
    "# phen_list=['OstialCXDisease','DischargeClopidogrel','PCI1_CABG','MaximalTroponin','ChiefComplaintmapped_anginalpain']\n",
    "\n",
    "for phen in phen_list:\n",
    "    print ('')\n",
    "    print (phen)\n",
    "\n",
    "    # get samples lists:\n",
    "    with open('/net/mraid08/export/genie/Lab/Personal/ShaniBAF/Sample files/BD lists/%s0samples_reSampled' %phen,'rb') as fp:\n",
    "        Cardio126_0samples=pickle.load(fp)\n",
    "    with open('/net/mraid08/export/genie/Lab/Personal/ShaniBAF/Sample files/BD lists/%s1samples_reSampled' %phen,'rb') as fp:\n",
    "        Cardio126_1samples=pickle.load(fp)\n",
    "        \n",
    "    sampleGroup1=Cardio126_0samples\n",
    "    sampleGroup1name='%s0samples_reSampled' %phen\n",
    "    sampleGroup2=Cardio126_1samples\n",
    "    sampleGroup2name='%s1samples_reSampled' %phen\n",
    "    output_dir='/net/mraid08/export/jafar/Microbiome/Analyses/ShaniBAF/\\\n",
    "sharingAnalysis/seqClusters_allProd_maxdist1/Fisher_MW_comparisons/'\n",
    "    sampleByClusterDF=sampleByClusterDF\n",
    "    percShared=0.5\n",
    "    percTooMany=0.85\n",
    "    nShared=None\n",
    "\n",
    "    compare_seq_clusters_wrapper(sampleByClusterDF,sampleGroup1,sampleGroup1name,sampleGroup2,sampleGroup2name,output_dir,\n",
    "                                     percShared,percTooMany,nShared=nShared)"
   ]
  },
  {
   "cell_type": "markdown",
   "metadata": {},
   "source": [
    "### more binary:"
   ]
  },
  {
   "cell_type": "code",
   "execution_count": 34,
   "metadata": {
    "ExecuteTime": {
     "end_time": "2019-01-17T00:24:53.199114Z",
     "start_time": "2019-01-17T00:02:44.525844Z"
    }
   },
   "outputs": [
    {
     "name": "stdout",
     "output_type": "stream",
     "text": [
      "\n",
      "total_ostial_binary\n",
      "starting...\n",
      "('nShared=', None)\n",
      "('perc Shared is ', 0.25)\n",
      "('nShared_group1= ', 17.0)\n",
      "('n clusters shared by 17.0 or more samples in group1= ', 29555)\n",
      "('nShared_group2= ', 15.0)\n",
      "('n clusters shared by 15.0 or more samples in group2= ', 33052)\n",
      "('nShared_all= ', 32.0)\n",
      "('n clusters shared by 32.0 or more samples in all samples= ', 0)\n",
      "('total number of clusters shared by more than 0.25 ', 39824)\n",
      "filtering out clusters that appear in more than 120.0 (0.95) samples\n",
      "('final sampleByClusterDF_perc shape is: ', (126, 39824))\n",
      "('n samples in group1= ', 67.0)\n",
      "('n samples in group2= ', 59.0)\n",
      "('start comparing, time is:', datetime.datetime(2019, 1, 17, 2, 2, 50, 189935))\n",
      "0\n",
      "500\n",
      "1000\n",
      "1500\n",
      "2000\n",
      "2500\n",
      "3000\n",
      "3500\n",
      "4000\n",
      "4500\n",
      "5000\n",
      "5500\n",
      "6000\n",
      "6500\n",
      "7000\n",
      "7500\n",
      "8000\n",
      "8500\n",
      "9000\n",
      "9500\n",
      "10000\n",
      "10500\n",
      "11000\n",
      "11500\n",
      "12000\n",
      "12500\n",
      "13000\n",
      "13500\n",
      "14000\n",
      "14500\n",
      "15000\n",
      "15500\n",
      "16000\n",
      "16500\n",
      "17000\n",
      "17500\n",
      "18000\n",
      "18500\n",
      "19000\n",
      "19500\n",
      "20000\n",
      "20500\n",
      "21000\n",
      "21500\n",
      "22000\n",
      "22500\n",
      "23000\n",
      "23500\n",
      "24000\n",
      "24500\n",
      "25000\n",
      "25500\n",
      "26000\n",
      "26500\n",
      "27000\n",
      "27500\n",
      "28000\n",
      "28500\n",
      "29000\n",
      "29500\n",
      "30000\n",
      "30500\n",
      "31000\n",
      "31500\n",
      "32000\n",
      "32500\n",
      "33000\n",
      "33500\n",
      "34000\n",
      "34500\n",
      "35000\n",
      "35500\n",
      "36000\n",
      "36500\n",
      "37000\n",
      "37500\n",
      "38000\n",
      "38500\n",
      "39000\n",
      "39500\n",
      "('finished comparing, time is:', datetime.datetime(2019, 1, 17, 2, 24, 27, 56334))\n",
      "comparison df was saved...\n"
     ]
    },
    {
     "data": {
      "image/png": "[encoded data removed]",
      "text/plain": [
       "<matplotlib.figure.Figure at 0x7f518e905fd0>"
      ]
     },
     "metadata": {},
     "output_type": "display_data"
    },
    {
     "name": "stdout",
     "output_type": "stream",
     "text": [
      "                             0   1\n",
      "total_ostial_binary0samples  5  62\n",
      "total_ostial_binary1samples  7  52\n",
      "('Fisher r,p = ', 0.5990783410138248, 0.54543887611196)\n"
     ]
    }
   ],
   "source": [
    "# phen_list=['AdmissionBetaBlockers','AdmissionStatins','DischargeMerformin']\n",
    "phen_list=['total_ostial_binary']\n",
    "for phen in phen_list:\n",
    "    print ('')\n",
    "    print (phen)\n",
    "\n",
    "    # get samples lists:\n",
    "    with open('/net/mraid08/export/genie/Lab/Personal/ShaniBAF/Sample files/BD lists/%s0samples' %phen,'rb') as fp:\n",
    "        Cardio126_0samples=pickle.load(fp)\n",
    "    with open('/net/mraid08/export/genie/Lab/Personal/ShaniBAF/Sample files/BD lists/%s1samples' %phen,'rb') as fp:\n",
    "        Cardio126_1samples=pickle.load(fp)\n",
    "        \n",
    "    sampleGroup1=Cardio126_0samples\n",
    "    sampleGroup1name='%s0samples' %phen\n",
    "    sampleGroup2=Cardio126_1samples\n",
    "    sampleGroup2name='%s1samples' %phen\n",
    "    output_dir='/net/mraid08/export/jafar/Microbiome/Analyses/ShaniBAF/\\\n",
    "sharingAnalysis/seqClusters_allProd_maxdist1/Fisher_MW_comparisons/'\n",
    "    sampleByClusterDF=sampleByClusterDF\n",
    "    percShared=0.25\n",
    "    percTooMany=0.95\n",
    "    nShared=None\n",
    "\n",
    "    compare_seq_clusters_wrapper(sampleByClusterDF,sampleGroup1,sampleGroup1name,sampleGroup2,sampleGroup2name,output_dir,\n",
    "                                     percShared,percTooMany,nShared=nShared)"
   ]
  },
  {
   "cell_type": "markdown",
   "metadata": {},
   "source": [
    "### OSTIAL:"
   ]
  },
  {
   "cell_type": "code",
   "execution_count": null,
   "metadata": {
    "ExecuteTime": {
     "end_time": "2019-01-10T19:20:41.180308Z",
     "start_time": "2019-01-10T18:48:03.698589Z"
    }
   },
   "outputs": [],
   "source": [
    "# phen_list=['DischargeClopidogrel','PCI1_CABG','ChiefComplaintmapped_anginalpain']\n",
    "phen_list=['OstialCXDisease']\n",
    "\n",
    "for phen in phen_list:\n",
    "    print ('')\n",
    "    print (phen)\n",
    "\n",
    "    # get samples lists:\n",
    "    with open('/net/mraid08/export/genie/Lab/Personal/ShaniBAF/Sample files/BD lists/ostial0samples_reSampled2','rb') as fp:\n",
    "        Cardio126_0samples=pickle.load(fp)\n",
    "    with open('/net/mraid08/export/genie/Lab/Personal/ShaniBAF/Sample files/BD lists/ostial234samples_reSampled2','rb') as fp:\n",
    "        Cardio126_1samples=pickle.load(fp)\n",
    "        \n",
    "    sampleGroup1=Cardio126_0samples\n",
    "    sampleGroup1name='%s0samples_reSampled2' %phen\n",
    "    sampleGroup2=Cardio126_1samples\n",
    "    sampleGroup2name='%s1samples_reSampled2' %phen\n",
    "    output_dir='/net/mraid08/export/jafar/Microbiome/Analyses/ShaniBAF/\\\n",
    "sharingAnalysis/seqClusters_allProd_maxdist1/Fisher_MW_comparisons/'\n",
    "    sampleByClusterDF=sampleByClusterDF\n",
    "    percShared=0.25\n",
    "    percTooMany=0.85\n",
    "    nShared=None\n",
    "\n",
    "    compare_seq_clusters_wrapper(sampleByClusterDF,sampleGroup1,sampleGroup1name,sampleGroup2,sampleGroup2name,output_dir,\n",
    "                                     percShared,percTooMany,nShared=nShared)"
   ]
  },
  {
   "cell_type": "markdown",
   "metadata": {},
   "source": [
    "### balanced :"
   ]
  },
  {
   "cell_type": "code",
   "execution_count": null,
   "metadata": {
    "ExecuteTime": {
     "end_time": "2019-01-10T17:47:49.234628Z",
     "start_time": "2019-01-10T17:22:54.778649Z"
    }
   },
   "outputs": [],
   "source": [
    "with open('/net/mraid08/export/genie/Lab/Personal/ShaniBAF/Sample files/BD lists/PNP530_balancedAge_males_reSampled2','rb') as fp:\n",
    "    Cardio126_0samples=pickle.load(fp)\n",
    "with open('/net/mraid08/export/genie/Lab/Personal/ShaniBAF/Sample files/BD lists/Cardio126_balancedAge_males_reSampled2','rb') as fp:\n",
    "    Cardio126_1samples=pickle.load(fp)\n",
    "\n",
    "sampleGroup1=Cardio126_0samples\n",
    "sampleGroup1name='PNP530_balancedAge_males_reSampled2'\n",
    "sampleGroup2=Cardio126_1samples\n",
    "sampleGroup2name='Cardio126_balancedAge_males_reSampled2'\n",
    "output_dir='/net/mraid08/export/jafar/Microbiome/Analyses/ShaniBAF/\\\n",
    "sharingAnalysis/seqClusters_allProd_maxdist1/Fisher_MW_comparisons/'\n",
    "sampleByClusterDF=sampleByClusterDF\n",
    "percShared=0.25\n",
    "nShared=None\n",
    "percTooMany=0.85\n",
    "\n",
    "compare_seq_clusters_wrapper(sampleByClusterDF,sampleGroup1,sampleGroup1name,sampleGroup2,sampleGroup2name,output_dir,\n",
    "                                 percShared,percTooMany,nShared=nShared)"
   ]
  },
  {
   "cell_type": "code",
   "execution_count": null,
   "metadata": {},
   "outputs": [],
   "source": []
  },
  {
   "cell_type": "markdown",
   "metadata": {},
   "source": [
    "# investigate MW-Fisher results:"
   ]
  },
  {
   "cell_type": "markdown",
   "metadata": {},
   "source": [
    "## def function:"
   ]
  },
  {
   "cell_type": "code",
   "execution_count": 3,
   "metadata": {
    "ExecuteTime": {
     "end_time": "2019-01-15T21:51:07.042557Z",
     "start_time": "2019-01-15T21:51:06.717636Z"
    }
   },
   "outputs": [],
   "source": [
    "def gen_string_from_dict(dict1):\n",
    "    a=''  \n",
    "    for k,v in dict1.items():\n",
    "        i=':'.join([str(k),str(v)])\n",
    "        a=','.join([a,i])\n",
    "        \n",
    "    return a\n",
    "\n",
    "\n",
    "def explore_MW_Fisher_results(phen, result_name, output_dir,limitTo=None,result_sig_thresh_p=0.05,\n",
    "                              resultsToCompare=None,resultsToCompare_sig_thresh_p=0.1,getIdentities=True,sig_clusters_list=None):\n",
    "    from scipy.stats import chi2_contingency\n",
    "    #get result df:\n",
    "#     test_results=[x for x in listdir(results_dir) if ((phen in x) & ('Clusters' in x))]\n",
    "#     print (len(test_results))\n",
    "#     if len(test_results)>1: \n",
    "#         print ('more than one relevant file')\n",
    "#         return\n",
    "#     else: \n",
    "#         for result_file in test_results:\n",
    "#             print ('loading file: ',result_file)\n",
    "#             result=pd.read_excel(results_dir+result_file\n",
    "    results_folder=output_dir+'Fisher_MW_comparisons/'\n",
    "    result=pd.read_excel(results_folder+result_name+'.xlsx')\n",
    "            \n",
    "    #get significant results:\n",
    "    print ('getting significant results:')\n",
    "    result_sig=result[(result['corr p_values by FDR=0.1_Fisher']<result_sig_thresh_p) | (result['corr p_values by FDR=0.1_MW']<result_sig_thresh_p)]\n",
    "    result_sig=result_sig.sort_values(by='p_MW')\n",
    "    \n",
    "    if limitTo is not None:\n",
    "        print ('using only top %s results' %limitTo)\n",
    "        result_sig=result_sig[:limitTo]\n",
    "        \n",
    "    #get general sequence info:\n",
    "    print ('getting general sequence info...')\n",
    "    from collections import Counter\n",
    "    \n",
    "    levDistMatTotalFile=output_dir+'levDistMatTotal.dat'\n",
    "    levDistMatTotal=pd.read_pickle(levDistMatTotalFile)\n",
    "    \n",
    "    #get seqID matrix:\n",
    "    print ('getting seqID info')\n",
    "    for f in listdir(output_dir):\n",
    "        if 'seqID' in f: seq_ID_file=f\n",
    "    f3=output_dir+seq_ID_file\n",
    "    seqID=pd.read_pickle(f3)\n",
    "    \n",
    "    #get results from other result files:\n",
    "    if resultsToCompare is not None:\n",
    "        if sig_clusters_list is None:\n",
    "            sig_clusters_list=[]\n",
    "            print ('getting results from other files...')\n",
    "            for res_name in resultsToCompare:\n",
    "                if (res_name!=result_name) and ('analyzed' not in res_name):\n",
    "                    try:\n",
    "                        res=pd.read_excel(results_folder+res_name)\n",
    "                    except:\n",
    "                        res=pd.read_excel(results_folder+res_name+'.xlsx')\n",
    "                    sig_clusters=res[(res['corr p_values by FDR=0.1_Fisher']<resultsToCompare_sig_thresh_p) | (res['corr p_values by FDR=0.1_MW']<resultsToCompare_sig_thresh_p)]['cluster_head'].tolist()\n",
    "                    res_name=res_name.replace('Fisher_MW_results_','')\n",
    "                    sig_clusters_list.append(tuple([res_name,sig_clusters]))\n",
    "                    print ('number of sig. clusters in %s is %s' %(res_name,len(sig_clusters)))\n",
    "                \n",
    "    if getIdentities:\n",
    "        CDR3_identity=pd.read_excel('/net/mraid08/export/genie/Lab/Personal/ShaniBAF/TCR CDR3 sequence databases/combined annotation_list_clean_popped.xlsx')\n",
    "        all_identities= CDR3_identity['combined annotation_list_clean'].dropna().tolist()\n",
    "        all_indentities_counter=Counter(all_identities)\n",
    "        print (\"all_indentities_counter: \", all_indentities_counter)\n",
    "        \n",
    "    #get sequences in cluster and their identities:\n",
    "    print ('getting info for each cluster...')\n",
    "    phen_related_identities={};\n",
    "    \n",
    "    print ('number of sig results to analyze: ', len(result_sig.index))\n",
    "    \n",
    "    for row in result_sig.index:\n",
    "        print (row)\n",
    "        cluster_head=result_sig.loc[row,'cluster_head']\n",
    "        \n",
    "       \n",
    "        #get seqID for cluster head:\n",
    "        try:\n",
    "            head_ID=list(np.where(seqID == cluster_head)[0])[0]\n",
    "        except: \n",
    "            print ('this row is repeated more than once?')\n",
    "            head_ID=list(np.where(seqID == cluster_head.tolist()[0])[0])[0]\n",
    "        #get IDs for all sequences in the cluster:\n",
    "        cluster_seq_IDs=levDistMatTotal[levDistMatTotal['seq1id']==head_ID]['seq2id'].tolist()\n",
    "\n",
    "        #get sequences for all sequences in the cluster:\n",
    "        cluster_seq_sequences=[seqID.loc[x] for x in cluster_seq_IDs]\n",
    "\n",
    "    #   if get identities:\n",
    "        if getIdentities:\n",
    "            annot_list=[]\n",
    "            for seq in cluster_seq_sequences:\n",
    "                try:\n",
    "                    annot=CDR3_identity.loc[seq,'combined annotation_list_clean']\n",
    "                    try:\n",
    "                        print (annot.shape) #a way to detect whether a sequence has more than 1 annotation (then it will become a series here)\n",
    "                        print ('sequence %s has more than 1 annotations' %seq)\n",
    "                        print (annot)\n",
    "                        for a1 in list(annot):\n",
    "                            annot_list.append(a1)\n",
    "                    except:\n",
    "                        annot_list.append(annot)\n",
    "                except:\n",
    "                    annot_list.append(None)\n",
    "\n",
    "            identities_count=Counter(annot_list)\n",
    "            for k,v in identities_count.items():\n",
    "                try:\n",
    "                    phen_related_identities[k]=phen_related_identities[k]+v\n",
    "                except:\n",
    "                    phen_related_identities[k]=v\n",
    "\n",
    "            result_sig.loc[row,'n sequences in cluster']=len(cluster_seq_sequences)+1\n",
    "            result_sig.loc[row,'cluster sequences']=','.join(cluster_seq_sequences)\n",
    "                        \n",
    "            a=gen_string_from_dict(identities_count)\n",
    "            result_sig.loc[row,'annotation summary']=a\n",
    "           \n",
    "        if resultsToCompare is not None:\n",
    "            alsoAppear_list=[]\n",
    "            for item in sig_clusters_list:\n",
    "                if (cluster_head in item[1]) & (item[0] not in result_name): alsoAppear_list.append(item[0])\n",
    "            result_sig.loc[row,'Also sig. in']=','.join(alsoAppear_list)\n",
    "            \n",
    "    #compare annotation distributions:\n",
    "    print ('comparing annotation distributions...')\n",
    "    phen_related_identities={i:phen_related_identities[i] for i in phen_related_identities if i!=None}\n",
    "    print ('phen_related_identities:')\n",
    "    print (phen_related_identities)\n",
    "    annot_table=pd.concat([pd.DataFrame(index=['all_indentities_counter'],data=all_indentities_counter),\n",
    "                        pd.DataFrame(index=['phen_related_identities'],data=phen_related_identities)]).fillna(0)\n",
    "#     print ('annot_table:')\n",
    "#     print (annot_table)\n",
    "    result_sig.loc['all_indentities_counter','annotation summary']=gen_string_from_dict(all_indentities_counter)\n",
    "    result_sig.loc['phen_related_identities','annotation summary']=gen_string_from_dict(phen_related_identities)\n",
    "       \n",
    "    try:\n",
    "        chi2,p,dof,expected = chi2_contingency(annot_table)\n",
    "        print ('chi2 p = ',p)  \n",
    "        result_sig.loc['chi_test_p','annotation summary']=p\n",
    "    except:\n",
    "        print ('couldnt execute fisher test for this phenotype')\n",
    "        \n",
    "    \n",
    "    print ('saving results...')\n",
    "    f1=(results_folder+result_name+'_top%sp%s_analyzed.xlsx' %(limitTo,result_sig_thresh_p))\n",
    "    result_sig.to_excel(f1)\n",
    "    \n",
    "    print ('analyzed results saved')\n",
    "    \n",
    "\n",
    "    return result_sig\n",
    "    "
   ]
  },
  {
   "cell_type": "code",
   "execution_count": 4,
   "metadata": {
    "ExecuteTime": {
     "end_time": "2019-01-15T21:51:08.068519Z",
     "start_time": "2019-01-15T21:51:07.810242Z"
    }
   },
   "outputs": [],
   "source": [
    "def gen_string_from_dict(dict1):\n",
    "    a=''  \n",
    "    for k,v in dict1.items():\n",
    "        i=':'.join([str(k),str(v)])\n",
    "        a=','.join([a,i])\n",
    "        \n",
    "    return a\n",
    "\n",
    "\n",
    "def analyze_cluster_list_dfs(df,dfName,cluster_column, output_dir,resultsToCompare=None,\n",
    "                             resultsToCompare_sig_thresh_p=0.1,getIdentities=True,sig_clusters_list=None):\n",
    "    from scipy.stats import chi2_contingency\n",
    "    \n",
    "    df2=df.copy()\n",
    "    results_folder=output_dir+'Fisher_MW_comparisons/'\n",
    "    #get general sequence info:\n",
    "    print ('getting general sequence info...')\n",
    "    from collections import Counter\n",
    "    \n",
    "    levDistMatTotalFile=output_dir+'levDistMatTotal.dat'\n",
    "    levDistMatTotal=pd.read_pickle(levDistMatTotalFile)\n",
    "    \n",
    "    #get seqID matrix:\n",
    "    print ('getting seqID info')\n",
    "    for f in listdir(output_dir):\n",
    "        if 'seqID' in f: seq_ID_file=f\n",
    "    f3=output_dir+seq_ID_file\n",
    "    seqID=pd.read_pickle(f3)\n",
    "    \n",
    "    #get results from other result files:\n",
    "    if resultsToCompare is not None:\n",
    "        if sig_clusters_list is None:\n",
    "            sig_clusters_list=[]\n",
    "            print ('getting results from other files...')\n",
    "            for res_name in resultsToCompare:\n",
    "                if (res_name!=result_name) and ('analyzed' not in res_name):\n",
    "                    try:\n",
    "                        res=pd.read_excel(results_folder+res_name)\n",
    "                    except:\n",
    "                        res=pd.read_excel(results_folder+res_name+'.xlsx')\n",
    "                    sig_clusters=res[(res['corr p_values by FDR=0.1_Fisher']<resultsToCompare_sig_thresh_p) | (res['corr p_values by FDR=0.1_MW']<resultsToCompare_sig_thresh_p)]['cluster_head'].tolist()\n",
    "                    res_name=res_name.replace('Fisher_MW_results_','')\n",
    "                    sig_clusters_list.append(tuple([res_name,sig_clusters]))\n",
    "                    print ('number of sig. clusters in %s is %s' %(res_name,len(sig_clusters)))\n",
    "                \n",
    "    if getIdentities:\n",
    "        CDR3_identity=pd.read_excel('/net/mraid08/export/genie/Lab/Personal/ShaniBAF/TCR CDR3 sequence databases/combined annotation_list_clean_popped.xlsx')\n",
    "        all_identities= CDR3_identity['combined annotation_list_clean'].dropna().tolist()\n",
    "        all_indentities_counter=Counter(all_identities)\n",
    "        print (\"all_indentities_counter: \", all_indentities_counter)\n",
    "        \n",
    "    #get sequences in cluster and their identities:\n",
    "    print ('getting info for each cluster...')\n",
    "    phen_related_identities={};\n",
    "    \n",
    "    print ('number of sig results to analyze: ', len(df2.index))\n",
    "    \n",
    "    for row in df2.index:\n",
    "        print (row)\n",
    "        cluster_head=df2.loc[row,'cluster_head']\n",
    "        \n",
    "       \n",
    "        #get seqID for cluster head:\n",
    "        try:\n",
    "            head_ID=list(np.where(seqID == cluster_head)[0])[0]\n",
    "        except: \n",
    "            print ('this row is repeated more than once?')\n",
    "            head_ID=list(np.where(seqID == cluster_head.tolist()[0])[0])[0]\n",
    "        #get IDs for all sequences in the cluster:\n",
    "        cluster_seq_IDs=levDistMatTotal[levDistMatTotal['seq1id']==head_ID]['seq2id'].tolist()\n",
    "\n",
    "        #get sequences for all sequences in the cluster:\n",
    "        cluster_seq_sequences=[seqID.loc[x] for x in cluster_seq_IDs]\n",
    "\n",
    "    #   if get identities:\n",
    "        if getIdentities:\n",
    "            annot_list=[]\n",
    "            for seq in cluster_seq_sequences:\n",
    "                try:\n",
    "                    annot=CDR3_identity.loc[seq,'combined annotation_list_clean']\n",
    "                    try:\n",
    "                        print (annot.shape) #a way to detect whether a sequence has more than 1 annotation (then it will become a series here)\n",
    "                        print ('sequence %s has more than 1 annotations' %seq)\n",
    "                        print (annot)\n",
    "                        for a1 in list(annot):\n",
    "                            annot_list.append(a1)\n",
    "                    except:\n",
    "                        annot_list.append(annot)\n",
    "                except:\n",
    "                    annot_list.append(None)\n",
    "\n",
    "            identities_count=Counter(annot_list)\n",
    "            for k,v in identities_count.items():\n",
    "                try:\n",
    "                    phen_related_identities[k]=phen_related_identities[k]+v\n",
    "                except:\n",
    "                    phen_related_identities[k]=v\n",
    "\n",
    "            df2.loc[row,'n sequences in cluster']=len(cluster_seq_sequences)+1\n",
    "            df2.loc[row,'cluster sequences']=','.join(cluster_seq_sequences)\n",
    "                        \n",
    "            a=gen_string_from_dict(identities_count)\n",
    "            df2.loc[row,'annotation summary']=a\n",
    "           \n",
    "        if resultsToCompare is not None:\n",
    "            alsoAppear_list=[]\n",
    "            for item in sig_clusters_list:\n",
    "                if (cluster_head in item[1]) & (item[0] not in result_name): alsoAppear_list.append(item[0])\n",
    "            df2.loc[row,'Also sig. in']=','.join(alsoAppear_list)\n",
    "            \n",
    "    #compare annotation distributions:\n",
    "    print ('comparing annotation distributions...')\n",
    "    phen_related_identities={i:phen_related_identities[i] for i in phen_related_identities if i!=None}\n",
    "    print ('phen_related_identities:')\n",
    "    print (phen_related_identities)\n",
    "    annot_table=pd.concat([pd.DataFrame(index=['all_indentities_counter'],data=all_indentities_counter),\n",
    "                        pd.DataFrame(index=['phen_related_identities'],data=phen_related_identities)]).fillna(0)\n",
    "#     print ('annot_table:')\n",
    "#     print (annot_table)\n",
    "    df2.loc['all_indentities_counter','annotation summary']=gen_string_from_dict(all_indentities_counter)\n",
    "    df2.loc['phen_related_identities','annotation summary']=gen_string_from_dict(phen_related_identities)\n",
    "       \n",
    "    try:\n",
    "        chi2,p,dof,expected = chi2_contingency(annot_table)\n",
    "        print ('chi2 p = ',p)  \n",
    "        df2.loc['chi_test_p','annotation summary']=p\n",
    "    except:\n",
    "        print ('couldnt execute fisher test for this phenotype')\n",
    "        \n",
    "    \n",
    "#     print ('saving results...')\n",
    "#     f1=(results_folder+result_name+'_top%sp%s_analyzed.xlsx' %(limitTo,df2_thresh_p))\n",
    "#     df2.to_excel(f1)\n",
    "#     print ('analyzed results saved')\n",
    "    \n",
    "\n",
    "    return df2\n",
    "    "
   ]
  },
  {
   "cell_type": "markdown",
   "metadata": {},
   "source": [
    "## generate sig_clusters_list"
   ]
  },
  {
   "cell_type": "code",
   "execution_count": null,
   "metadata": {
    "ExecuteTime": {
     "end_time": "2019-01-09T08:52:40.133337Z",
     "start_time": "2019-01-09T08:52:40.128002Z"
    }
   },
   "outputs": [],
   "source": [
    "'abc' in 'abcd'"
   ]
  },
  {
   "cell_type": "code",
   "execution_count": 35,
   "metadata": {
    "ExecuteTime": {
     "end_time": "2019-01-17T06:45:06.710742Z",
     "start_time": "2019-01-17T06:34:42.544583Z"
    }
   },
   "outputs": [
    {
     "name": "stdout",
     "output_type": "stream",
     "text": [
      "getting results from other files...\n",
      "number of sig. clusters in ChiefComplaintmapped_anginalpain0samples_ChiefComplaintmapped_anginalpain1samples_percShared025_percTooMany095.xlsx is 785\n",
      "number of sig. clusters in ChiefComplaintmapped_anginalpain0samples_reSampled2_ChiefComplaintmapped_anginalpain1samples_reSampled2_percShared05_percTooMany095.xlsx is 0\n",
      "number of sig. clusters in ChiefComplaintmapped_anginalpain0samples_reSampled_ChiefComplaintmapped_anginalpain1samples_reSampled_percShared05_percTooMany095.xlsx is 0\n",
      "number of sig. clusters in AdmissionAspirin0samples_AdmissionAspirin1samples_percShared025_percTooMany095.xlsx is 0\n",
      "number of sig. clusters in AdmissionBetaBlockers0samples_AdmissionBetaBlockers1samples_percShared025_percTooMany095.xlsx is 0\n",
      "number of sig. clusters in AdmissionDiagnosismapped_STEMI0samples_AdmissionDiagnosismapped_STEMI1samples_percShared025_percTooMany095.xlsx is 0\n",
      "number of sig. clusters in AdmissionStatins0samples_AdmissionStatins1samples_percShared025_percTooMany095.xlsx is 0\n",
      "number of sig. clusters in Cardio126_bottom20Age_Cardio126_top20Age_percShared025_percTooMany095.xlsx is 0\n",
      "number of sig. clusters in Cardio126_bottom20GRACEScore_Cardio126_top20GRACEScore_percShared025_percTooMany095.xlsx is 0\n",
      "number of sig. clusters in Cardio126_bottom20MaximalTroponin_Cardio126_top20MaximalTroponin_percShared025_percTooMany095.xlsx is 0\n",
      "number of sig. clusters in Cardio126_bottom30Age_Cardio126_top30Age_percShared025_percTooMany095.xlsx is 0\n",
      "number of sig. clusters in Cardio126_bottom30GRACEScore_Cardio126_top30GRACEScore_percShared025_percTooMany095.xlsx is 0\n",
      "number of sig. clusters in Cardio126_bottom30MaximalTroponin_Cardio126_top30MaximalTroponin_percShared025_percTooMany095.xlsx is 0\n",
      "number of sig. clusters in DischargeClopidogrel0samples_DischargeClopidogrel1samples_percShared025_percTooMany095.xlsx is 841\n",
      "number of sig. clusters in DischargeClopidogrel0samples_reSampled2_DischargeClopidogrel1samples_reSampled2_percShared05_percTooMany095.xlsx is 0\n",
      "number of sig. clusters in DischargeClopidogrel0samples_reSampled_DischargeClopidogrel1samples_reSampled_percShared05_percTooMany095.xlsx is 0\n",
      "number of sig. clusters in DischargeMerformin0samples_DischargeMerformin1samples_percShared025_percTooMany095.xlsx is 76\n",
      "number of sig. clusters in Gender_Male0samples_Gender_Male1samples_percShared025_percTooMany095.xlsx is 204\n",
      "number of sig. clusters in KnownCAD0samples_KnownCAD1samples_percShared025_percTooMany095.xlsx is 6\n",
      "number of sig. clusters in LVEF0samples_LVEF23samples_percShared025_percTooMany09.xlsx is 2\n",
      "number of sig. clusters in LVEF30samples_LVEF31samples_percShared025_percTooMany095.xlsx is 120\n",
      "number of sig. clusters in OstialCXDisease0samples_reSampled2_OstialCXDisease1samples_reSampled2_percShared05_percTooMany095.xlsx is 1\n",
      "number of sig. clusters in OstialCXDisease0samples_reSampled_OstialCXDisease1samples_reSampled_percShared05_percTooMany095.xlsx is 1\n",
      "number of sig. clusters in PCI0samples_PCI2345samples_percShared025_percTooMany09.xlsx is 97\n",
      "number of sig. clusters in PCI1_CABG0samples_PCI1_CABG1samples_percShared025_percTooMany095.xlsx is 0\n",
      "number of sig. clusters in PCI1_CABG0samples_reSampled2_PCI1_CABG1samples_reSampled2_percShared05_percTooMany095.xlsx is 520\n",
      "number of sig. clusters in PCI1_CABG0samples_reSampled_PCI1_CABG1samples_reSampled_percShared05_percTooMany095.xlsx is 963\n",
      "number of sig. clusters in PNP530_balancedAge_males_prodClusRed_Cardio126_balancedAge_males_prodClusRed_percShared01_percTooMany085.xlsx is 2\n",
      "number of sig. clusters in PNP530_balancedAge_males_reSampled2_Cardio126_balancedAge_males_reSampled2_percShared025_percTooMany085.xlsx is 0\n",
      "number of sig. clusters in PNP530_balancedAge_males_reSampled_Cardio126_balancedAge_males_reSampled_percShared025_percTooMany085.xlsx is 0\n",
      "number of sig. clusters in PNP530_prodClusRed_Cardio126_prodClusRed_percShared005_percTooMany085.xlsx is 101747\n",
      "number of sig. clusters in PastCVATIA10samples_PastCVATIA11samples_percShared025_percTooMany095.xlsx is 3912\n",
      "number of sig. clusters in Previous CABG0samples_Previous CABG1samples_percShared025_percTooMany095.xlsx is 19770\n",
      "number of sig. clusters in PreviousPCI10samples_PreviousPCI11samples_percShared025_percTooMany095.xlsx is 3\n",
      "number of sig. clusters in PreviousPCI20samples_PreviousPCI21samples_percShared025_percTooMany095.xlsx is 574\n",
      "number of sig. clusters in ostial0samples_ostial234samples_percShared025_percTooMany09.xlsx is 20719\n",
      "number of sig. clusters in total_ostial_binary0samples_total_ostial_binary1samples_percShared025_percTooMany095.xlsx is 0\n"
     ]
    }
   ],
   "source": [
    "output_dir='/net/mraid08/export/jafar/Microbiome/Analyses/ShaniBAF/\\\n",
    "sharingAnalysis/seqClusters_allProd_maxdist1/'\n",
    "results_folder=output_dir+'Fisher_MW_comparisons/'\n",
    "result_sig_thresh_p=0.05\n",
    "resultsToCompare_sig_thresh_p=0.1\n",
    "getIdentities=True\n",
    "\n",
    "\n",
    "resultsToCompare=[f for f in listdir(output_dir+'Fisher_MW_comparisons/') if isfile(output_dir+'Fisher_MW_comparisons/'+f)]\n",
    "resultsToCompare=sorted(resultsToCompare)\n",
    "sig_clusters_list=[]\n",
    "print ('getting results from other files...')\n",
    "for res_name in resultsToCompare:\n",
    "#     if (res_name!=result_name) and ('analyzed' not in res_name):\n",
    "    if 'analyzed' not in res_name:\n",
    "        try:\n",
    "            res=pd.read_excel(results_folder+res_name)\n",
    "        except:\n",
    "            res=pd.read_excel(results_folder+res_name+'.xlsx')\n",
    "        sig_clusters=res[(res['corr p_values by FDR=0.1_Fisher']<resultsToCompare_sig_thresh_p) | (res['corr p_values by FDR=0.1_MW']<resultsToCompare_sig_thresh_p)]['cluster_head'].tolist()\n",
    "        res_name=res_name.replace('Fisher_MW_results_','')\n",
    "        sig_clusters_list.append(tuple([res_name,sig_clusters]))\n",
    "        print ('number of sig. clusters in %s is %s' %(res_name,len(sig_clusters)))"
   ]
  },
  {
   "cell_type": "markdown",
   "metadata": {},
   "source": [
    "## run for drug phenotypes:"
   ]
  },
  {
   "cell_type": "code",
   "execution_count": 7,
   "metadata": {
    "ExecuteTime": {
     "end_time": "2019-01-15T22:06:30.269863Z",
     "start_time": "2019-01-15T22:06:30.265329Z"
    }
   },
   "outputs": [],
   "source": [
    "dir2='/net/mraid08/export/jafar/Microbiome/Analyses/ShaniBAF/\\\n",
    "sharingAnalysis/seqClusters_allProd_maxdist1/Cluster_list_analysis/'"
   ]
  },
  {
   "cell_type": "code",
   "execution_count": 11,
   "metadata": {
    "ExecuteTime": {
     "end_time": "2019-01-16T13:52:29.560675Z",
     "start_time": "2019-01-16T13:52:02.623234Z"
    }
   },
   "outputs": [
    {
     "name": "stdout",
     "output_type": "stream",
     "text": [
      "getting general sequence info...\n",
      "getting seqID info\n",
      "all_indentities_counter:  Counter({u'Influenza': 7732, u'CMV': 6341, u'HIV': 2746, u'EBV': 1870, u'HomoSapiens': 1632, u'SIV': 902, u'DiabetesType1': 885, u'HCV': 632, u'YellowFeverVirus': 615, u'Melanoma': 504, u'DENV': 278, u'RheumatoidArthritis': 270, u'Allergy': 259, u'HTLV': 136, u'LCMV': 135, u'RSV': 124, u'PbA': 119, u'Multiplesclerosis': 116, u'HSV': 106, u'Carcinoma': 85, u'Lupus': 77, u'Celiacdisease': 70, u'Lymphoma': 50, u'Experimentalautoimmuneencephalomyelitis': 48, u'Tumor': 41, u'GraftVsHostDisease': 40, u'Colorectalcancer': 39, u'VSV': 38, u'WestNilevirus': 35, u'Plasmodiumberghei': 27, u'CalcifiedAorticStenosisdisease': 26, u'Leukemia': 20, u'PsoriaticArthritis': 18, u'BreastCancer': 17, u'Lungcancer': 16, u'TriticumAestivum': 16, u'ChronicObstructiveLungDisease': 15, u'Cardiacvalveallograftchronicrejection': 15, u'CollagentypeII-inducedarthritis': 12, u'GallusGallus': 11, u'M.tuberculosis': 11, u'MusMusculus': 11, u'Vesicularstomatitisvirus': 10, u'Tick-borneencephalitis': 6, u'Allograftrejection': 4, u'synthetic': 4, u'MuLV': 4, u'Myastheniagravis': 3, u'ChurgStrausssyndrome': 3, u'SaccharomycesCerevisiae': 2, u'S.mansoni': 2, u'ManducaSexta': 2, u'VSIV': 2, u'Japaneseencephalitis': 2, u'Oncoprotein': 1, u'Trypanosomacruzi': 1, u'Ovariancancer': 1})\n",
      "getting info for each cluster...\n",
      "number of sig results to analyze:  10\n",
      "60153\n",
      "1658\n",
      "4762\n",
      "41128\n",
      "33403\n",
      "25206\n",
      "1870\n",
      "16329\n",
      "(2,)\n",
      "sequence CASSLGTGEQYF has more than 1 annotations\n",
      "CASSLGTGEQYF          EBV\n",
      "CASSLGTGEQYF    Influenza\n",
      "Name: combined annotation_list_clean, dtype: object\n",
      "815\n",
      "45065\n",
      "comparing annotation distributions...\n",
      "phen_related_identities:\n",
      "{u'CMV': 3, u'EBV': 1, u'Influenza': 2, u'DENV': 1, u'HomoSapiens': 1}\n",
      "chi2 p =  0.9999999985981484\n"
     ]
    },
    {
     "name": "stderr",
     "output_type": "stream",
     "text": [
      "/usr/wisdom/python/lib/python2.7/site-packages/ipykernel_launcher.py:117: FutureWarning: Sorting because non-concatenation axis is not aligned. A future version\n",
      "of pandas will change to not sort by default.\n",
      "\n",
      "To accept the future behavior, pass 'sort=False'.\n",
      "\n",
      "To retain the current behavior and silence the warning, pass 'sort=True'.\n",
      "\n"
     ]
    }
   ],
   "source": [
    "df=pd.read_excel(dir2+'OstialCXDisease_manual.xlsx')\n",
    "dfName='DischargeClopidogrel_manual'\n",
    "cluster_column='cluster_head'\n",
    "output_dir='/net/mraid08/export/jafar/Microbiome/Analyses/ShaniBAF/\\\n",
    "sharingAnalysis/seqClusters_allProd_maxdist1/'\n",
    "# resultsToCompare=sig_clusters_list\n",
    "results_folder=output_dir+'Fisher_MW_comparisons/'\n",
    "result_sig_thresh_p=0.05\n",
    "resultsToCompare_sig_thresh_p=0.1\n",
    "getIdentities=True\n",
    "\n",
    "df2=analyze_cluster_list_dfs(df,dfName,cluster_column, output_dir,resultsToCompare=None,\n",
    "                             resultsToCompare_sig_thresh_p=0.1,getIdentities=True,sig_clusters_list=sig_clusters_list)\n",
    "\n",
    "df2.to_excel(dir2+dfName+'_analyzed.xlsx')"
   ]
  },
  {
   "cell_type": "code",
   "execution_count": 8,
   "metadata": {
    "ExecuteTime": {
     "end_time": "2019-01-15T22:06:56.820767Z",
     "start_time": "2019-01-15T22:06:32.188117Z"
    }
   },
   "outputs": [
    {
     "name": "stdout",
     "output_type": "stream",
     "text": [
      "getting general sequence info...\n",
      "getting seqID info\n",
      "all_indentities_counter:  Counter({u'Influenza': 7732, u'CMV': 6341, u'HIV': 2746, u'EBV': 1870, u'HomoSapiens': 1632, u'SIV': 902, u'DiabetesType1': 885, u'HCV': 632, u'YellowFeverVirus': 615, u'Melanoma': 504, u'DENV': 278, u'RheumatoidArthritis': 270, u'Allergy': 259, u'HTLV': 136, u'LCMV': 135, u'RSV': 124, u'PbA': 119, u'Multiplesclerosis': 116, u'HSV': 106, u'Carcinoma': 85, u'Lupus': 77, u'Celiacdisease': 70, u'Lymphoma': 50, u'Experimentalautoimmuneencephalomyelitis': 48, u'Tumor': 41, u'GraftVsHostDisease': 40, u'Colorectalcancer': 39, u'VSV': 38, u'WestNilevirus': 35, u'Plasmodiumberghei': 27, u'CalcifiedAorticStenosisdisease': 26, u'Leukemia': 20, u'PsoriaticArthritis': 18, u'BreastCancer': 17, u'Lungcancer': 16, u'TriticumAestivum': 16, u'ChronicObstructiveLungDisease': 15, u'Cardiacvalveallograftchronicrejection': 15, u'CollagentypeII-inducedarthritis': 12, u'GallusGallus': 11, u'M.tuberculosis': 11, u'MusMusculus': 11, u'Vesicularstomatitisvirus': 10, u'Tick-borneencephalitis': 6, u'Allograftrejection': 4, u'synthetic': 4, u'MuLV': 4, u'Myastheniagravis': 3, u'ChurgStrausssyndrome': 3, u'SaccharomycesCerevisiae': 2, u'S.mansoni': 2, u'ManducaSexta': 2, u'VSIV': 2, u'Japaneseencephalitis': 2, u'Oncoprotein': 1, u'Trypanosomacruzi': 1, u'Ovariancancer': 1})\n",
      "getting info for each cluster...\n",
      "number of sig results to analyze:  10\n",
      "0\n",
      "1\n",
      "2\n",
      "3\n",
      "4\n",
      "5\n",
      "6\n",
      "7\n",
      "8\n",
      "9\n",
      "comparing annotation distributions...\n",
      "phen_related_identities:\n",
      "{u'CMV': 2, u'EBV': 2, u'Influenza': 2, u'HCV': 2, u'HomoSapiens': 1}\n",
      "chi2 p =  0.9999957138605268"
     ]
    },
    {
     "name": "stderr",
     "output_type": "stream",
     "text": [
      "/usr/wisdom/python/lib/python2.7/site-packages/ipykernel_launcher.py:117: FutureWarning: Sorting because non-concatenation axis is not aligned. A future version\n",
      "of pandas will change to not sort by default.\n",
      "\n",
      "To accept the future behavior, pass 'sort=False'.\n",
      "\n",
      "To retain the current behavior and silence the warning, pass 'sort=True'.\n",
      "\n"
     ]
    },
    {
     "name": "stdout",
     "output_type": "stream",
     "text": [
      "\n"
     ]
    }
   ],
   "source": [
    "df=pd.read_excel(dir2+'AdmissionAspirin_topFeatures.xlsx')\n",
    "dfName='AdmissionAspirin_topFeatures'\n",
    "cluster_column='cluster_head'\n",
    "output_dir='/net/mraid08/export/jafar/Microbiome/Analyses/ShaniBAF/\\\n",
    "sharingAnalysis/seqClusters_allProd_maxdist1/'\n",
    "# resultsToCompare=sig_clusters_list\n",
    "results_folder=output_dir+'Fisher_MW_comparisons/'\n",
    "result_sig_thresh_p=0.05\n",
    "resultsToCompare_sig_thresh_p=0.1\n",
    "getIdentities=True\n",
    "\n",
    "df2=analyze_cluster_list_dfs(df,dfName,cluster_column, output_dir,resultsToCompare=None,\n",
    "                             resultsToCompare_sig_thresh_p=0.1,getIdentities=True,sig_clusters_list=sig_clusters_list)\n",
    "\n",
    "df2.to_excel(dir2+dfName+'_analyzed.xlsx')"
   ]
  },
  {
   "cell_type": "markdown",
   "metadata": {},
   "source": [
    "# genertate x matrix with top sequence clusters instead of sequences"
   ]
  },
  {
   "cell_type": "markdown",
   "metadata": {},
   "source": [
    "# predict isCardio using the new x matrix"
   ]
  },
  {
   "cell_type": "markdown",
   "metadata": {},
   "source": [
    "# predict isCardio using seqclusters only\n",
    "1. maybe compare to prediction by non-productive?\n",
    "2. shap values--> investigate the clusters"
   ]
  }
 ],
 "metadata": {
  "kernelspec": {
   "display_name": "Python 2",
   "language": "python",
   "name": "python2"
  },
  "language_info": {
   "codemirror_mode": {
    "name": "ipython",
    "version": 2
   },
   "file_extension": ".py",
   "mimetype": "text/x-python",
   "name": "python",
   "nbconvert_exporter": "python",
   "pygments_lexer": "ipython2",
   "version": "2.7.8"
  },
  "toc": {
   "nav_menu": {},
   "number_sections": true,
   "sideBar": false,
   "skip_h1_title": false,
   "toc_cell": false,
   "toc_position": {
    "height": "628px",
    "left": "1px",
    "right": "20px",
    "top": "135px",
    "width": "265px"
   },
   "toc_section_display": "block",
   "toc_window_display": true
  },
  "varInspector": {
   "cols": {
    "lenName": 16,
    "lenType": 16,
    "lenVar": 40
   },
   "kernels_config": {
    "python": {
     "delete_cmd_postfix": "",
     "delete_cmd_prefix": "del ",
     "library": "var_list.py",
     "varRefreshCmd": "print(var_dic_list())"
    },
    "r": {
     "delete_cmd_postfix": ") ",
     "delete_cmd_prefix": "rm(",
     "library": "var_list.r",
     "varRefreshCmd": "cat(var_dic_list()) "
    }
   },
   "types_to_exclude": [
    "module",
    "function",
    "builtin_function_or_method",
    "instance",
    "_Feature"
   ],
   "window_display": false
  }
 },
 "nbformat": 4,
 "nbformat_minor": 2
}
