{
 "cells": [
  {
   "cell_type": "markdown",
   "metadata": {},
   "source": [
    "# imports"
   ]
  },
  {
   "cell_type": "code",
   "execution_count": 36,
   "metadata": {
    "ExecuteTime": {
     "end_time": "2019-03-30T22:05:04.215281Z",
     "start_time": "2019-03-30T22:05:04.141976Z"
    }
   },
   "outputs": [],
   "source": [
    "# system & general:\n",
    "from os import listdir, mkdir, makedirs\n",
    "from os.path import isfile, join, isdir, exists\n",
    "import cPickle as pickle\n",
    "import os\n",
    "import re\n",
    "import time\n",
    "\n",
    "# data analysis and statistics:\n",
    "import pandas as pd\n",
    "import numpy as np\n",
    "from scipy import stats\n",
    "import random\n",
    "from scipy.stats import pearsonr, fisher_exact, mannwhitneyu, sem\n",
    "import math\n",
    "from scipy.spatial.distance import braycurtis, pdist, euclidean\n",
    "\n",
    "# figures:\n",
    "import matplotlib as mpl\n",
    "# mpl.use('Agg')\n",
    "\n",
    "import matplotlib.pyplot as plt\n",
    "from matplotlib.backends.backend_pdf import PdfPages\n",
    "import seaborn as sns \n",
    "from matplotlib.ticker import FormatStrFormatter\n",
    "from matplotlib import gridspec\n",
    "# from PNPChip.ForPaper.Figures.nature_guidline_utils import m2inch\n",
    "import matplotlib.cm as cm\n",
    "from mpl_toolkits.axes_grid1 import make_axes_locatable\n",
    "\n",
    "# my functions:\n",
    "from ShaniBA.myplots import roundup, rounddown, find_decimal_fold, percentile_cut_off, rarefaction_calc, rarefaction_plot, adjusted_roundup\n",
    "from ShaniBA.MyFunctionsShani import *\n",
    "from ShaniBA.GeneralFeaturePhenotypeInteractions.Feature_phenotype_functions import * \n",
    "from ShaniBA.TCR_microbiome_interactions.TCR_microbiome_interactions_functions import *\n",
    "from ShaniBA.TCR_microbiome_interactions.TCR_microbiome_interactions_functions2 import *\n",
    "from ShaniBA.SampleLists.SampleFileFunctions import *\n",
    "from ShaniBA.PhenotypicData.PhenotypeGenerationFunctions import *\n",
    "from ShaniBA.CardioProject.CardioFunctions import *\n",
    "from ShaniBA.PredictionPipeline.PredictionFunctions import *\n",
    "from ShaniBA.TCR_feature_generation.SubsamplingFunctions import *\n",
    "from ShaniBA.TCR_feature_generation.SequenceClusteringModule import *\n",
    "from ShaniBA.CardioProject.Figures.GeneralFigureFunctions import *\n",
    "from ShaniBA.CardioProject.Figures.Figure1 import *\n",
    "\n",
    "#ML:\n",
    "from sklearn.linear_model import LogisticRegression, LinearRegression\n"
   ]
  },
  {
   "cell_type": "markdown",
   "metadata": {},
   "source": [
    "# Definitions"
   ]
  },
  {
   "cell_type": "code",
   "execution_count": 2,
   "metadata": {
    "ExecuteTime": {
     "end_time": "2019-03-30T21:51:50.474807Z",
     "start_time": "2019-03-30T21:51:50.451256Z"
    }
   },
   "outputs": [
    {
     "data": {
      "text/plain": [
       "'31032019'"
      ]
     },
     "execution_count": 2,
     "metadata": {},
     "output_type": "execute_result"
    }
   ],
   "source": [
    "#####path definitions:\n",
    "MyPath = '/net/mraid08/export/genie/Lab/Personal/ShaniBAF'\n",
    "\n",
    "with open('/net/mraid08/export/genie/Lab/Personal/ShaniBAF/Sample files/BD lists/PNP530', 'rb') as fp:\n",
    "    PNP530 = pickle.load(fp)\n",
    "with open('/net/mraid08/export/genie/Lab/Personal/ShaniBAF/Sample files/BD lists/Cardio126', 'rb') as fp:\n",
    "    Cardio126 = pickle.load(fp)\n",
    "PNP530Cardio126 = PNP530 + Cardio126\n",
    "\n",
    "FIG3_DIR = '/net/mraid08/export/genie/Lab/Personal/ShaniBAF/Presentations and Manuscripts/CardioTCR paper/FigureDraft_Jan19/\\\n",
    "Fig3_AgeGenderPrediction/'\n",
    "PRED_RESULTS_DIR='/net/mraid08/export/jafar/Microbiome/Analyses/ShaniBAF/predictions2/'\n",
    "FEATURES_DIR='/net/mraid08/export/genie/Lab/Personal/ShaniBAF/TCR_real_data/Predictions/featureDFs/'\n",
    "SAMPLE_LIST_DIR='/net/mraid08/export/genie/Lab/Personal/ShaniBAF/Sample files/BD lists/'\n",
    "CARDIO_PHEN_DIR='/net/mraid08/export/genie/Lab/Personal/ShaniBAF/TCR_real_data/CardioSamples/phenotypicData/'\n",
    "CLUSTER_ANALYSIS_DIR='/net/mraid08/export/jafar/Microbiome/Analyses/ShaniBAF/sharingAnalysis/seqClusters_allProd_maxdist1/'\n",
    "\n",
    "##### general definitions:\n",
    "pd.set_option('display.expand_frame_repr', False)\n",
    "pd.set_option('display.width', 1000)\n",
    "np.set_printoptions(precision=4, linewidth=200)\n",
    "\n",
    "cdate = str(time.strftime(\"%d%m%Y\"))\n",
    "cdate"
   ]
  },
  {
   "cell_type": "code",
   "execution_count": 27,
   "metadata": {
    "ExecuteTime": {
     "end_time": "2019-03-30T22:02:27.179049Z",
     "start_time": "2019-03-30T22:02:27.174130Z"
    }
   },
   "outputs": [
    {
     "data": {
      "text/plain": [
       "'/net/mraid08/export/jafar/Microbiome/Analyses/ShaniBAF/predictions2/'"
      ]
     },
     "execution_count": 27,
     "metadata": {},
     "output_type": "execute_result"
    }
   ],
   "source": [
    "PRED_RESULTS_DIR"
   ]
  },
  {
   "cell_type": "markdown",
   "metadata": {},
   "source": [
    "# general functions:"
   ]
  },
  {
   "cell_type": "markdown",
   "metadata": {
    "ExecuteTime": {
     "end_time": "2019-03-27T12:16:46.538454Z",
     "start_time": "2019-03-27T12:16:46.533905Z"
    }
   },
   "source": [
    "the function remove_spines was copied to GenderalFigureFunctions.py"
   ]
  },
  {
   "cell_type": "markdown",
   "metadata": {},
   "source": [
    "# general settings"
   ]
  },
  {
   "cell_type": "markdown",
   "metadata": {},
   "source": [
    "## figure definitions"
   ]
  },
  {
   "cell_type": "code",
   "execution_count": 4,
   "metadata": {
    "ExecuteTime": {
     "end_time": "2019-03-30T21:51:50.497493Z",
     "start_time": "2019-03-30T21:51:50.485006Z"
    }
   },
   "outputs": [],
   "source": [
    "def set_fig3_definitions():\n",
    "    params = {\n",
    "   'axes.labelsize': 16,\n",
    "   'font.size': 12,\n",
    "   'legend.fontsize': 14,\n",
    "    'axes.titlesize':16,\n",
    "    'axes.titleweight':'bold',\n",
    "   'xtick.labelsize': 14,\n",
    "   'ytick.labelsize': 14,\n",
    "   'text.usetex': False,\n",
    "#    'figure.figsize': [m2inch(183), m2inch(247)],#[4.5, 4.5]\n",
    "#    'figure.dpi': 300,\n",
    "   'xtick.direction':'out'}\n",
    "\n",
    "\n",
    "    mpl.rcParams.update(params)\n",
    "    mpl.rcParams['axes.linewidth'] = 0.5\n",
    "    mpl.rcParams['axes.edgecolor'] = 'black'\n",
    "    mpl.rcParams['axes.facecolor'] = 'white'\n",
    "    mpl.rcParams['xtick.direction'] = 'out'\n",
    "    mpl.rcParams['xtick.minor.pad'] = 4\n",
    "\n",
    "    return"
   ]
  },
  {
   "cell_type": "code",
   "execution_count": 5,
   "metadata": {
    "ExecuteTime": {
     "end_time": "2019-03-30T21:51:50.522019Z",
     "start_time": "2019-03-30T21:51:50.500438Z"
    }
   },
   "outputs": [
    {
     "data": {
      "text/html": [
       "[u'agg.path.chunksize', u'animation.avconv_args', u'animation.avconv_path', u'animation.bitrate', u'animation.codec', u'animation.convert_args', u'animation.convert_path', u'animation.ffmpeg_args', u'animation.ffmpeg_path', u'animation.frame_format', u'animation.html', u'animation.mencoder_args', u'animation.mencoder_path', u'animation.writer', u'axes.axisbelow', u'axes.edgecolor', u'axes.facecolor', u'axes.formatter.limits', u'axes.formatter.use_locale', u'axes.formatter.use_mathtext', u'axes.formatter.useoffset', u'axes.grid', u'axes.grid.axis', u'axes.grid.which', u'axes.hold', u'axes.labelcolor', u'axes.labelpad', u'axes.labelsize', u'axes.labelweight', u'axes.linewidth', u'axes.prop_cycle', u'axes.spines.bottom', u'axes.spines.left', u'axes.spines.right', u'axes.spines.top', u'axes.titlesize', u'axes.titleweight', u'axes.unicode_minus', u'axes.xmargin', u'axes.ymargin', u'axes3d.grid', u'backend', u'backend.qt4', u'backend.qt5', u'backend_fallback', u'boxplot.bootstrap', u'boxplot.boxprops.color', u'boxplot.boxprops.linestyle', u'boxplot.boxprops.linewidth', u'boxplot.capprops.color', u'boxplot.capprops.linestyle', u'boxplot.capprops.linewidth', u'boxplot.flierprops.color', u'boxplot.flierprops.linestyle', u'boxplot.flierprops.linewidth', u'boxplot.flierprops.marker', u'boxplot.flierprops.markeredgecolor', u'boxplot.flierprops.markerfacecolor', u'boxplot.flierprops.markersize', u'boxplot.meanline', u'boxplot.meanprops.color', u'boxplot.meanprops.linestyle', u'boxplot.meanprops.linewidth', u'boxplot.medianprops.color', u'boxplot.medianprops.linestyle', u'boxplot.medianprops.linewidth', u'boxplot.notch', u'boxplot.patchartist', u'boxplot.showbox', u'boxplot.showcaps', u'boxplot.showfliers', u'boxplot.showmeans', u'boxplot.vertical', u'boxplot.whiskerprops.color', u'boxplot.whiskerprops.linestyle', u'boxplot.whiskerprops.linewidth', u'boxplot.whiskers', u'contour.corner_mask', u'contour.negative_linestyle', u'datapath', u'docstring.hardcopy', u'errorbar.capsize', u'examples.directory', u'figure.autolayout', u'figure.dpi', u'figure.edgecolor', u'figure.facecolor', u'figure.figsize', u'figure.frameon', u'figure.max_open_warning', u'figure.subplot.bottom', u'figure.subplot.hspace', u'figure.subplot.left', u'figure.subplot.right', u'figure.subplot.top', u'figure.subplot.wspace', u'figure.titlesize', u'figure.titleweight', u'font.cursive', u'font.family', u'font.fantasy', u'font.monospace', u'font.sans-serif', u'font.serif', u'font.size', u'font.stretch', u'font.style', u'font.variant', u'font.weight', u'grid.alpha', u'grid.color', u'grid.linestyle', u'grid.linewidth', u'image.aspect', u'image.cmap', u'image.composite_image', u'image.interpolation', u'image.lut', u'image.origin', u'image.resample', u'interactive', u'keymap.all_axes', u'keymap.back', u'keymap.forward', u'keymap.fullscreen', u'keymap.grid', u'keymap.home', u'keymap.pan', u'keymap.quit', u'keymap.save', u'keymap.xscale', u'keymap.yscale', u'keymap.zoom', u'legend.borderaxespad', u'legend.borderpad', u'legend.columnspacing', u'legend.edgecolor', u'legend.facecolor', u'legend.fancybox', u'legend.fontsize', u'legend.framealpha', u'legend.frameon', u'legend.handleheight', u'legend.handlelength', u'legend.handletextpad', u'legend.isaxes', u'legend.labelspacing', u'legend.loc', u'legend.markerscale', u'legend.numpoints', u'legend.scatterpoints', u'legend.shadow', u'lines.antialiased', u'lines.color', u'lines.dash_capstyle', u'lines.dash_joinstyle', u'lines.linestyle', u'lines.linewidth', u'lines.marker', u'lines.markeredgewidth', u'lines.markersize', u'lines.solid_capstyle', u'lines.solid_joinstyle', u'markers.fillstyle', u'mathtext.bf', u'mathtext.cal', u'mathtext.default', u'mathtext.fallback_to_cm', u'mathtext.fontset', u'mathtext.it', u'mathtext.rm', u'mathtext.sf', u'mathtext.tt', u'nbagg.transparent', u'patch.antialiased', u'patch.edgecolor', u'patch.facecolor', u'patch.linewidth', u'path.effects', u'path.simplify', u'path.simplify_threshold', u'path.sketch', u'path.snap', u'pdf.compression', u'pdf.fonttype', u'pdf.inheritcolor', u'pdf.use14corefonts', u'pgf.debug', u'pgf.preamble', u'pgf.rcfonts', u'pgf.texsystem', u'plugins.directory', u'polaraxes.grid', u'ps.distiller.res', u'ps.fonttype', u'ps.papersize', u'ps.useafm', u'ps.usedistiller', u'savefig.bbox', u'savefig.directory', u'savefig.dpi', u'savefig.edgecolor', u'savefig.facecolor', u'savefig.format', u'savefig.frameon', u'savefig.jpeg_quality', u'savefig.orientation', u'savefig.pad_inches', u'savefig.transparent', u'svg.fonttype', u'svg.image_inline', u'svg.image_noscale', u'text.antialiased', u'text.color', u'text.dvipnghack', u'text.hinting', u'text.hinting_factor', u'text.latex.preamble', u'text.latex.preview', u'text.latex.unicode', u'text.usetex', u'timezone', u'tk.window_focus', u'toolbar', u'verbose.fileo', u'verbose.level', u'webagg.open_in_browser', u'webagg.port', u'webagg.port_retries', u'xtick.color', u'xtick.direction', u'xtick.labelsize', u'xtick.major.pad', u'xtick.major.size', u'xtick.major.width', u'xtick.minor.pad', u'xtick.minor.size', u'xtick.minor.visible', u'xtick.minor.width', u'ytick.color', u'ytick.direction', u'ytick.labelsize', u'ytick.major.pad', u'ytick.major.size', u'ytick.major.width', u'ytick.minor.pad', u'ytick.minor.size', u'ytick.minor.visible', u'ytick.minor.width']"
      ],
      "text/plain": [
       "[u'agg.path.chunksize',\n",
       " u'animation.avconv_args',\n",
       " u'animation.avconv_path',\n",
       " u'animation.bitrate',\n",
       " u'animation.codec',\n",
       " u'animation.convert_args',\n",
       " u'animation.convert_path',\n",
       " u'animation.ffmpeg_args',\n",
       " u'animation.ffmpeg_path',\n",
       " u'animation.frame_format',\n",
       " u'animation.html',\n",
       " u'animation.mencoder_args',\n",
       " u'animation.mencoder_path',\n",
       " u'animation.writer',\n",
       " u'axes.axisbelow',\n",
       " u'axes.edgecolor',\n",
       " u'axes.facecolor',\n",
       " u'axes.formatter.limits',\n",
       " u'axes.formatter.use_locale',\n",
       " u'axes.formatter.use_mathtext',\n",
       " u'axes.formatter.useoffset',\n",
       " u'axes.grid',\n",
       " u'axes.grid.axis',\n",
       " u'axes.grid.which',\n",
       " u'axes.hold',\n",
       " u'axes.labelcolor',\n",
       " u'axes.labelpad',\n",
       " u'axes.labelsize',\n",
       " u'axes.labelweight',\n",
       " u'axes.linewidth',\n",
       " u'axes.prop_cycle',\n",
       " u'axes.spines.bottom',\n",
       " u'axes.spines.left',\n",
       " u'axes.spines.right',\n",
       " u'axes.spines.top',\n",
       " u'axes.titlesize',\n",
       " u'axes.titleweight',\n",
       " u'axes.unicode_minus',\n",
       " u'axes.xmargin',\n",
       " u'axes.ymargin',\n",
       " u'axes3d.grid',\n",
       " u'backend',\n",
       " u'backend.qt4',\n",
       " u'backend.qt5',\n",
       " u'backend_fallback',\n",
       " u'boxplot.bootstrap',\n",
       " u'boxplot.boxprops.color',\n",
       " u'boxplot.boxprops.linestyle',\n",
       " u'boxplot.boxprops.linewidth',\n",
       " u'boxplot.capprops.color',\n",
       " u'boxplot.capprops.linestyle',\n",
       " u'boxplot.capprops.linewidth',\n",
       " u'boxplot.flierprops.color',\n",
       " u'boxplot.flierprops.linestyle',\n",
       " u'boxplot.flierprops.linewidth',\n",
       " u'boxplot.flierprops.marker',\n",
       " u'boxplot.flierprops.markeredgecolor',\n",
       " u'boxplot.flierprops.markerfacecolor',\n",
       " u'boxplot.flierprops.markersize',\n",
       " u'boxplot.meanline',\n",
       " u'boxplot.meanprops.color',\n",
       " u'boxplot.meanprops.linestyle',\n",
       " u'boxplot.meanprops.linewidth',\n",
       " u'boxplot.medianprops.color',\n",
       " u'boxplot.medianprops.linestyle',\n",
       " u'boxplot.medianprops.linewidth',\n",
       " u'boxplot.notch',\n",
       " u'boxplot.patchartist',\n",
       " u'boxplot.showbox',\n",
       " u'boxplot.showcaps',\n",
       " u'boxplot.showfliers',\n",
       " u'boxplot.showmeans',\n",
       " u'boxplot.vertical',\n",
       " u'boxplot.whiskerprops.color',\n",
       " u'boxplot.whiskerprops.linestyle',\n",
       " u'boxplot.whiskerprops.linewidth',\n",
       " u'boxplot.whiskers',\n",
       " u'contour.corner_mask',\n",
       " u'contour.negative_linestyle',\n",
       " u'datapath',\n",
       " u'docstring.hardcopy',\n",
       " u'errorbar.capsize',\n",
       " u'examples.directory',\n",
       " u'figure.autolayout',\n",
       " u'figure.dpi',\n",
       " u'figure.edgecolor',\n",
       " u'figure.facecolor',\n",
       " u'figure.figsize',\n",
       " u'figure.frameon',\n",
       " u'figure.max_open_warning',\n",
       " u'figure.subplot.bottom',\n",
       " u'figure.subplot.hspace',\n",
       " u'figure.subplot.left',\n",
       " u'figure.subplot.right',\n",
       " u'figure.subplot.top',\n",
       " u'figure.subplot.wspace',\n",
       " u'figure.titlesize',\n",
       " u'figure.titleweight',\n",
       " u'font.cursive',\n",
       " u'font.family',\n",
       " u'font.fantasy',\n",
       " u'font.monospace',\n",
       " u'font.sans-serif',\n",
       " u'font.serif',\n",
       " u'font.size',\n",
       " u'font.stretch',\n",
       " u'font.style',\n",
       " u'font.variant',\n",
       " u'font.weight',\n",
       " u'grid.alpha',\n",
       " u'grid.color',\n",
       " u'grid.linestyle',\n",
       " u'grid.linewidth',\n",
       " u'image.aspect',\n",
       " u'image.cmap',\n",
       " u'image.composite_image',\n",
       " u'image.interpolation',\n",
       " u'image.lut',\n",
       " u'image.origin',\n",
       " u'image.resample',\n",
       " u'interactive',\n",
       " u'keymap.all_axes',\n",
       " u'keymap.back',\n",
       " u'keymap.forward',\n",
       " u'keymap.fullscreen',\n",
       " u'keymap.grid',\n",
       " u'keymap.home',\n",
       " u'keymap.pan',\n",
       " u'keymap.quit',\n",
       " u'keymap.save',\n",
       " u'keymap.xscale',\n",
       " u'keymap.yscale',\n",
       " u'keymap.zoom',\n",
       " u'legend.borderaxespad',\n",
       " u'legend.borderpad',\n",
       " u'legend.columnspacing',\n",
       " u'legend.edgecolor',\n",
       " u'legend.facecolor',\n",
       " u'legend.fancybox',\n",
       " u'legend.fontsize',\n",
       " u'legend.framealpha',\n",
       " u'legend.frameon',\n",
       " u'legend.handleheight',\n",
       " u'legend.handlelength',\n",
       " u'legend.handletextpad',\n",
       " u'legend.isaxes',\n",
       " u'legend.labelspacing',\n",
       " u'legend.loc',\n",
       " u'legend.markerscale',\n",
       " u'legend.numpoints',\n",
       " u'legend.scatterpoints',\n",
       " u'legend.shadow',\n",
       " u'lines.antialiased',\n",
       " u'lines.color',\n",
       " u'lines.dash_capstyle',\n",
       " u'lines.dash_joinstyle',\n",
       " u'lines.linestyle',\n",
       " u'lines.linewidth',\n",
       " u'lines.marker',\n",
       " u'lines.markeredgewidth',\n",
       " u'lines.markersize',\n",
       " u'lines.solid_capstyle',\n",
       " u'lines.solid_joinstyle',\n",
       " u'markers.fillstyle',\n",
       " u'mathtext.bf',\n",
       " u'mathtext.cal',\n",
       " u'mathtext.default',\n",
       " u'mathtext.fallback_to_cm',\n",
       " u'mathtext.fontset',\n",
       " u'mathtext.it',\n",
       " u'mathtext.rm',\n",
       " u'mathtext.sf',\n",
       " u'mathtext.tt',\n",
       " u'nbagg.transparent',\n",
       " u'patch.antialiased',\n",
       " u'patch.edgecolor',\n",
       " u'patch.facecolor',\n",
       " u'patch.linewidth',\n",
       " u'path.effects',\n",
       " u'path.simplify',\n",
       " u'path.simplify_threshold',\n",
       " u'path.sketch',\n",
       " u'path.snap',\n",
       " u'pdf.compression',\n",
       " u'pdf.fonttype',\n",
       " u'pdf.inheritcolor',\n",
       " u'pdf.use14corefonts',\n",
       " u'pgf.debug',\n",
       " u'pgf.preamble',\n",
       " u'pgf.rcfonts',\n",
       " u'pgf.texsystem',\n",
       " u'plugins.directory',\n",
       " u'polaraxes.grid',\n",
       " u'ps.distiller.res',\n",
       " u'ps.fonttype',\n",
       " u'ps.papersize',\n",
       " u'ps.useafm',\n",
       " u'ps.usedistiller',\n",
       " u'savefig.bbox',\n",
       " u'savefig.directory',\n",
       " u'savefig.dpi',\n",
       " u'savefig.edgecolor',\n",
       " u'savefig.facecolor',\n",
       " u'savefig.format',\n",
       " u'savefig.frameon',\n",
       " u'savefig.jpeg_quality',\n",
       " u'savefig.orientation',\n",
       " u'savefig.pad_inches',\n",
       " u'savefig.transparent',\n",
       " u'svg.fonttype',\n",
       " u'svg.image_inline',\n",
       " u'svg.image_noscale',\n",
       " u'text.antialiased',\n",
       " u'text.color',\n",
       " u'text.dvipnghack',\n",
       " u'text.hinting',\n",
       " u'text.hinting_factor',\n",
       " u'text.latex.preamble',\n",
       " u'text.latex.preview',\n",
       " u'text.latex.unicode',\n",
       " u'text.usetex',\n",
       " u'timezone',\n",
       " u'tk.window_focus',\n",
       " u'toolbar',\n",
       " u'verbose.fileo',\n",
       " u'verbose.level',\n",
       " u'webagg.open_in_browser',\n",
       " u'webagg.port',\n",
       " u'webagg.port_retries',\n",
       " u'xtick.color',\n",
       " u'xtick.direction',\n",
       " u'xtick.labelsize',\n",
       " u'xtick.major.pad',\n",
       " u'xtick.major.size',\n",
       " u'xtick.major.width',\n",
       " u'xtick.minor.pad',\n",
       " u'xtick.minor.size',\n",
       " u'xtick.minor.visible',\n",
       " u'xtick.minor.width',\n",
       " u'ytick.color',\n",
       " u'ytick.direction',\n",
       " u'ytick.labelsize',\n",
       " u'ytick.major.pad',\n",
       " u'ytick.major.size',\n",
       " u'ytick.major.width',\n",
       " u'ytick.minor.pad',\n",
       " u'ytick.minor.size',\n",
       " u'ytick.minor.visible',\n",
       " u'ytick.minor.width']"
      ]
     },
     "execution_count": 5,
     "metadata": {},
     "output_type": "execute_result"
    }
   ],
   "source": [
    "mpl.rcParams.keys()"
   ]
  },
  {
   "cell_type": "code",
   "execution_count": 6,
   "metadata": {
    "ExecuteTime": {
     "end_time": "2019-03-30T21:51:50.528144Z",
     "start_time": "2019-03-30T21:51:50.524977Z"
    }
   },
   "outputs": [],
   "source": [
    "set_fig3_definitions()"
   ]
  },
  {
   "cell_type": "markdown",
   "metadata": {},
   "source": [
    "## figure design"
   ]
  },
  {
   "cell_type": "code",
   "execution_count": 7,
   "metadata": {
    "ExecuteTime": {
     "end_time": "2019-03-30T21:51:52.327163Z",
     "start_time": "2019-03-30T21:51:50.530858Z"
    }
   },
   "outputs": [
    {
     "data": {
      "image/png": "[encoded data removed]",
      "text/plain": [
       "<matplotlib.figure.Figure at 0x7f6a811b3c10>"
      ]
     },
     "metadata": {},
     "output_type": "display_data"
    }
   ],
   "source": [
    "fig = plt.figure(figsize=(25, 16))\n",
    "gs0 = gridspec.GridSpec(6, 5, wspace=0.5, hspace=0.5)\n",
    "\n",
    "### A:\n",
    "ax1 = plt.Subplot(fig, gs0[:2, :2])\n",
    "fig.add_subplot(ax1)\n",
    "\n",
    "### B:\n",
    "ax2 = plt.Subplot(fig, gs0[2:, :2])\n",
    "fig.add_subplot(ax2)\n",
    "\n",
    "# divide subplot into sub-subplots\n",
    "gs00 = gridspec.GridSpecFromSubplotSpec(3, 1, subplot_spec=gs0[2:, :2],wspace=0, hspace=0)\n",
    "ax21=plt.Subplot(fig,gs00[:2,:]) ## isCardio heatmap\n",
    "fig.add_subplot(ax21)\n",
    "ax22=plt.Subplot(fig,gs00[2,:]) ## clusters heatmap\n",
    "fig.add_subplot(ax22)\n",
    "\n",
    "### C:\n",
    "ax3 = plt.Subplot(fig, gs0[:, 2:])\n",
    "fig.add_subplot(ax3)\n",
    "\n",
    "# divide subplot into sub-subplots\n",
    "gs01 = gridspec.GridSpecFromSubplotSpec(116, 3, subplot_spec=gs0[:, 2:],wspace=0, hspace=0)\n",
    "ax4=plt.Subplot(fig,gs01[:4,:]) ## isCardio heatmap\n",
    "fig.add_subplot(ax4)\n",
    "ax5=plt.Subplot(fig,gs01[4:104,:]) ## clusters heatmap\n",
    "fig.add_subplot(ax5)\n",
    "ax6=plt.Subplot(fig,gs01[104:108,:]) ## clustersummary heatmap\n",
    "fig.add_subplot(ax6)\n",
    "\n",
    "ax7=plt.Subplot(fig,gs01[108:,0]) ## isCardio colorbar\n",
    "fig.add_subplot(ax7)\n",
    "ax8=plt.Subplot(fig,gs01[108:,1]) ## cluaters colorbar\n",
    "fig.add_subplot(ax8)\n",
    "ax9=plt.Subplot(fig,gs01[108:,2]) ## cluaters sum colorbar\n",
    "fig.add_subplot(ax9)\n",
    "\n",
    "plt.show()"
   ]
  },
  {
   "cell_type": "markdown",
   "metadata": {},
   "source": [
    "# plot functions"
   ]
  },
  {
   "cell_type": "markdown",
   "metadata": {},
   "source": [
    "## sharing rate analysis"
   ]
  },
  {
   "cell_type": "markdown",
   "metadata": {},
   "source": [
    "### sharing calculation  helper functions:"
   ]
  },
  {
   "cell_type": "code",
   "execution_count": 8,
   "metadata": {
    "ExecuteTime": {
     "end_time": "2019-03-30T21:51:52.352471Z",
     "start_time": "2019-03-30T21:51:52.329765Z"
    }
   },
   "outputs": [],
   "source": [
    "def get_data(AllUniqueWithCounts_path):\n",
    "    \n",
    "    ### this function gets all data required for sharing comparisons between PNP and Cardio\n",
    "    ### (Age, gender, isCardio, AllUniqueWithCounts)\n",
    "    \n",
    "    print 'age data'\n",
    "    Age=pd.read_excel('%s/TCR_real_data/PNP530Cardio126Combined/Phenotypes/\\\n",
    "PNP530Cardio126_Age.xlsx' %MyPath).set_index('BD')\n",
    "#     print Age.shape\n",
    "#     print Age.head()\n",
    "\n",
    "    print 'gender data'\n",
    "    Gender=pd.read_excel('%s/TCR_real_data/PNP530Cardio126Combined/Phenotypes/\\\n",
    "PNP530Cardio126_Gender_Male.xlsx' %MyPath).set_index('BD')\n",
    "#     print Gender.shape\n",
    "#     print Gender.head()\n",
    "    \n",
    "    print 'isCardio data'\n",
    "    isCardio=pd.read_pickle(PRED_RESULTS_DIR+'TargetDFs/isCardio.dat')\n",
    "\n",
    "    print 'merging all'\n",
    "    AgeGender=pd.merge(Age,Gender,how='inner',left_index=True,right_index=True).dropna()\n",
    "    AgeGenderIsCardio=pd.merge(AgeGender,isCardio,how='inner',left_index=True,right_index=True).dropna()\n",
    "#     print AgeGenderIsCardio.shape\n",
    "#     print AgeGenderIsCardio.head()\n",
    "    \n",
    "    print 'AllUniqueWithCounts'\n",
    "    if AllUniqueWithCounts_path is None:\n",
    "        AllUniqueWithCounts_path='/net/mraid08/export/jafar/Microbiome/Analyses/ShaniBAF/sharingAnalysis/\\\n",
    "AllUniqueWithCounts'\n",
    "    AllUniqueWithCounts=pd.read_pickle(AllUniqueWithCounts_path)\n",
    "\n",
    "#     print AllUniqueWithCounts.shape\n",
    "#     print AllUniqueWithCounts.head()\n",
    "    \n",
    "    print 'AllUniqueWithCounts_prod'\n",
    "    AllUniqueWithCounts_prod=AllUniqueWithCounts[AllUniqueWithCounts['prod_stat']==1]\n",
    "#     print AllUniqueWithCounts_prod.shape\n",
    "#     print AllUniqueWithCounts_prod.head()\n",
    "    \n",
    "    return AllUniqueWithCounts_prod,AgeGenderIsCardio"
   ]
  },
  {
   "cell_type": "code",
   "execution_count": 9,
   "metadata": {
    "ExecuteTime": {
     "end_time": "2019-03-30T21:51:52.366240Z",
     "start_time": "2019-03-30T21:51:52.354840Z"
    }
   },
   "outputs": [],
   "source": [
    "def calc_seq_per_sample_stats(AllUniqueWithCounts_prod,nToSample):\n",
    "    \n",
    "    #this function prints the number of sequences in the 10t,20th and 30th sample in the df\n",
    "    ## it plots the distribution of number of sequences per sample\n",
    "    ## and returns a series with number of seqeunces per sample, ordered from highest to lowest\n",
    "    \n",
    "    \n",
    "    AllUniqueWithCounts_prod_count=AllUniqueWithCounts_prod.groupby('Sample').count()['isPublic']\n",
    "    \n",
    "#     print AllUniqueWithCounts_prod_count.describe()\n",
    "    AllUniqueWithCounts_prod_count=AllUniqueWithCounts_prod_count.sort_values(ascending=False)\n",
    "    \n",
    "    for n in [10,20,30,nToSample]:\n",
    "        try:\n",
    "            print ('n seqs in %sth sample= ' %n,AllUniqueWithCounts_prod_count.iloc[n-1])\n",
    "        except:\n",
    "            print ('there are only %s samples' %len(AllUniqueWithCounts_prod_count))\n",
    "                \n",
    "    fig,ax=plt.subplots()\n",
    "    ax.hist(AllUniqueWithCounts_prod_count,bins=25)\n",
    "#     plt.show()\n",
    "    \n",
    "    return AllUniqueWithCounts_prod_count"
   ]
  },
  {
   "cell_type": "code",
   "execution_count": 10,
   "metadata": {
    "ExecuteTime": {
     "end_time": "2019-03-30T21:51:52.380029Z",
     "start_time": "2019-03-30T21:51:52.368658Z"
    }
   },
   "outputs": [],
   "source": [
    "def calc_seq_per_sample_stats(AllUniqueWithCounts_prod,nToSample):\n",
    "    \n",
    "    #this function prints the number of sequences in the 10t,20th and 30th sample in the df\n",
    "    ## it plots the distribution of number of sequences per sample\n",
    "    ## and returns a series with number of seqeunces per sample, ordered from highest to lowest\n",
    "    \n",
    "    \n",
    "    AllUniqueWithCounts_prod_count=AllUniqueWithCounts_prod.groupby('Sample').count()['isPublic']\n",
    "    \n",
    "#     print AllUniqueWithCounts_prod_count.describe()\n",
    "    AllUniqueWithCounts_prod_count=AllUniqueWithCounts_prod_count.sort_values(ascending=False)\n",
    "    \n",
    "    for n in [10,20,30,nToSample]:\n",
    "        try:\n",
    "            print ('n seqs in %sth sample= ' %n,AllUniqueWithCounts_prod_count.iloc[n-1])\n",
    "        except:\n",
    "            print ('there are only %s samples' %len(AllUniqueWithCounts_prod_count))\n",
    "                \n",
    "    fig,ax=plt.subplots()\n",
    "    ax.hist(AllUniqueWithCounts_prod_count,bins=25)\n",
    "#     plt.show()\n",
    "    \n",
    "    return AllUniqueWithCounts_prod_count"
   ]
  },
  {
   "cell_type": "code",
   "execution_count": 11,
   "metadata": {
    "ExecuteTime": {
     "end_time": "2019-03-30T21:51:52.533968Z",
     "start_time": "2019-03-30T21:51:52.382596Z"
    }
   },
   "outputs": [],
   "source": [
    "def get_samples_for_age_decade(min_age,max_age,AgeGenderIsCardio,AllUniqueWithCounts_prod,nToSample=20,nSeqs=None,isRandom=True,random_state_PNP=1,random_state_Cardio=1):\n",
    "    \n",
    "    ### this function takes the age range, number of samples and number of sequences to subsample.\n",
    "    ### first it gets all PNP and Cardio samples in the age range.\n",
    "    ### than it checks how many sequences are in each of those samples\n",
    "    ### than it selects samples - if there are enough samples with the desired number of sequences, \n",
    "    ### it selects samples randomly, or the samples with the highest number of sequences (according to)\n",
    "    ### the isRandom parameter)\n",
    "    ### if there are not enough samples, it won't be able to return dataframes and an error will occure\n",
    "    \n",
    "    ###get all avaiable PNP and Cardio samples for the age range\n",
    "    #PNP:\n",
    "    df=AgeGenderIsCardio\n",
    "\n",
    "    print 'PNP samples'\n",
    "    PNP_males_ageDecade=df[(df['Age']>min_age) & (df['Age']<=max_age) & (df['Gender_Male']==1) & (df['isCardio']==0)]\n",
    "       \n",
    "    L=drop_relatives(PNP_males_ageDecade,onlyBloodRels=False)\n",
    "#     print ('relatives in list: ',L)\n",
    "    if len(L)>0:\n",
    "        print ('dropping the following samples because they are relatives: ', L)\n",
    "        PNP_males_ageDecade=PNP_males_ageDecade.drop(L)\n",
    "        \n",
    "    print 'removing samples that are not in AllUniqueWithCounts_prod:'\n",
    "    PNP_males_ageDecade=PNP_males_ageDecade[PNP_males_ageDecade.index.isin(AllUniqueWithCounts_prod.Sample.unique())]\n",
    "    \n",
    "#     print PNP_males_ageDecade.shape\n",
    "#     print PNP_males_ageDecade.head()\n",
    "    \n",
    "    print 'getting stats on PNP samples:'\n",
    "    AllUniqueWithCounts_prod_count_PNP=\\\n",
    "calc_seq_per_sample_stats(AllUniqueWithCounts_prod[AllUniqueWithCounts_prod['Sample'].isin(PNP_males_ageDecade.index)],\n",
    "                         nToSample)\n",
    "\n",
    "    #Cardio\n",
    "    print 'cardio samples'\n",
    "    Cardio_males_ageDecade=df[(df['Age']>min_age) & (df['Age']<=max_age) & (df['Gender_Male']==1) & (df['isCardio']==1)]\n",
    "       \n",
    "    print 'removing samples that are not in AllUniqueWithCounts_prod:'\n",
    "    Cardio_males_ageDecade=Cardio_males_ageDecade[Cardio_males_ageDecade.index.isin(AllUniqueWithCounts_prod.Sample.unique())]\n",
    "    \n",
    "#     print Cardio_males_ageDecade.shape\n",
    "#     print Cardio_males_ageDecade.head()\n",
    "    \n",
    "    print 'getting stats on Cardio samples:'\n",
    "    AllUniqueWithCounts_prod_count_Cardio=\\\n",
    "calc_seq_per_sample_stats(AllUniqueWithCounts_prod[AllUniqueWithCounts_prod['Sample'].isin(Cardio_males_ageDecade.index)],\n",
    "                         nToSample)\n",
    "    \n",
    "    \n",
    "    ###check that there are enough samples with the desired nSeqs, and select samples:\n",
    "    \n",
    "    \n",
    "    \n",
    "    #PNP\n",
    "    if nSeqs is None:\n",
    "        if isRandom:\n",
    "            print 'randomly selecting %s samples from PNP samples' %nToSample\n",
    "            PNP_males_ageDecade_s=PNP_males_ageDecade.sample(n=nToSample,random_state=random_state_PNP)\n",
    "        else:\n",
    "            print 'selecting %s samples with the highest number of sequences' %nToSample\n",
    "            PNP_males_ageDecade_s=PNP_males_ageDecade.loc[ AllUniqueWithCounts_prod_count_PNP[:nToSample].index,:] \n",
    "    elif AllUniqueWithCounts_prod_count_PNP.iloc[nToSample-1]<nSeqs:\n",
    "        print ('nSeq= ', nSeqs)\n",
    "        print ('n seqs in %sth sample: ' %(nToSample-1), AllUniqueWithCounts_prod_count_PNP.iloc[nToSample-1])\n",
    "        print 'not enough samples with the desired number of seqs in PNP'\n",
    "    elif AllUniqueWithCounts_prod_count_PNP.iloc[nToSample-1]==nSeqs:\n",
    "        print 'number of samples with the desired number of seqs is equal to the number of desired samples (PNP)'\n",
    "        PNP_males_ageDecade_s=PNP_males_ageDecade\n",
    "    else:\n",
    "        print 'There are more samples with the desired number of seqs than the number of desired samples (PNP)'\n",
    "        if isRandom:\n",
    "            print 'randomly selecting %s samples from PNP samples' %nToSample\n",
    "            PNP_males_ageDecade_s=PNP_males_ageDecade.sample(n=nToSample,random_state=random_state_PNP)\n",
    "        else:\n",
    "            print 'selecting %s samples with the highest number of sequences' %nToSample\n",
    "            PNP_males_ageDecade_s=PNP_males_ageDecade.loc[ AllUniqueWithCounts_prod_count_PNP[:nToSample].index,:]\n",
    "#     print PNP_males_ageDecade_s.shape\n",
    "#     print PNP_males_ageDecade_s.head()\n",
    "    PNP_males_ageDecade_samples=PNP_males_ageDecade_s.index.tolist()\n",
    "    \n",
    "    #Cardio:\n",
    "    if nSeqs is None:\n",
    "        if isRandom:\n",
    "            print 'randomly selecting %s samples from Cardio samples' %nToSample\n",
    "            Cardio_males_ageDecade_s=Cardio_males_ageDecade.sample(n=nToSample,random_state=random_state_Cardio)\n",
    "        else:\n",
    "            print 'selecting %s samples with the highest number of sequences' %nToSample\n",
    "            Cardio_males_ageDecade_s=Cardio_males_ageDecade.loc[AllUniqueWithCounts_prod_count_Cardio[:nToSample].index,:]\n",
    "    elif AllUniqueWithCounts_prod_count_Cardio.iloc[nToSample-1]<nSeqs:\n",
    "        print 'not enough samples with the desired number of seqs in Cardio'\n",
    "    elif AllUniqueWithCounts_prod_count_Cardio.iloc[nToSample-1]==nSeqs:\n",
    "        print 'number of samples with the desired number of seqs is equal to the number of desired samples (Cardio)'\n",
    "        Cardio_males_ageDecade_s=Cardio_males_ageDecade\n",
    "    else:\n",
    "        print 'There are more samples with the desired number of seqs than the number of desired samples (Cardio)'\n",
    "        if isRandom:\n",
    "            print 'randomly selecting %s samples from Cardio samples' %nToSample\n",
    "            Cardio_males_ageDecade_s=Cardio_males_ageDecade.sample(n=nToSample,random_state=random_state_Cardio)\n",
    "        else:\n",
    "            print 'selecting %s samples with the highest number of sequences' %nToSample\n",
    "            Cardio_males_ageDecade_s=Cardio_males_ageDecade.loc[AllUniqueWithCounts_prod_count_Cardio[:nToSample].index,:]\n",
    " \n",
    "#     print Cardio_males_ageDecade_s.shape\n",
    "#     print Cardio_males_ageDecade_s.head()\n",
    "    Cardio_males_ageDecade_samples=Cardio_males_ageDecade_s.index.tolist()\n",
    "        \n",
    "    ###comparing age distributions:    \n",
    "#     print 'comparing age distribution'\n",
    "    dataList=[('Healthy' ,PNP_males_ageDecade_s.Age.tolist()),('Patients' ,Cardio_males_ageDecade_s.Age.tolist())]\n",
    "    title=''\n",
    "\n",
    "    fig,ax=plt.subplots()\n",
    "    ax,ks_p_cohort1_cohort2,t_p_cohort1_cohort2,p_Anov,filename=plotHistComprison(dataList,ax,title,showLegend=True,nBins=5,\n",
    "                            toAnnotate=True, colorList=['Grey','darkred'],alpha=None, plotType='hist')\n",
    "\n",
    "#     plt.show()\n",
    "#     print ('n samples in PNP sample list: ', len(PNP_males_ageDecade_samples))\n",
    "#     print ('n samples in Cardio sample list: ', len(Cardio_males_ageDecade_samples))\n",
    "    \n",
    "    return fig,PNP_males_ageDecade_samples,Cardio_males_ageDecade_samples\n",
    "    "
   ]
  },
  {
   "cell_type": "code",
   "execution_count": 12,
   "metadata": {
    "ExecuteTime": {
     "end_time": "2019-03-30T21:51:52.558501Z",
     "start_time": "2019-03-30T21:51:52.537013Z"
    }
   },
   "outputs": [],
   "source": [
    "def subsample_sequences_for_samples(AllUniqueWithCounts_prod,PNP_males_ageDecade_samples,Cardio_males_ageDecade_samples,nSeqs=None):\n",
    "    \n",
    "    ### this function selects randomly the desired number of sequences from each sample in the PNP and Cardio dfs,\n",
    "    ### if there is a sample with not enough sequences, it will fail\n",
    "#     print ('n samples in PNP sample list: ', len(PNP_males_ageDecade_samples))\n",
    "#     print ('n samples in Cardio sample list: ', len(Cardio_males_ageDecade_samples))\n",
    "    \n",
    "    PNP_data=AllUniqueWithCounts_prod[AllUniqueWithCounts_prod['Sample'].isin(PNP_males_ageDecade_samples)]\n",
    "    Cardio_data=AllUniqueWithCounts_prod[AllUniqueWithCounts_prod['Sample'].isin(Cardio_males_ageDecade_samples)]\n",
    "    \n",
    "#     print ('PNP_data.Sample.nunique(): ',PNP_data.Sample.nunique())\n",
    "#     print ('Cardio_data.Sample.nunique(): ',Cardio_data.Sample.nunique())\n",
    "    \n",
    "#     print 'generating df containing selected PNP and Cardio samples...'\n",
    "    df=pd.concat([PNP_data,Cardio_data])\n",
    "#     print df.shape\n",
    "#     print df.iloc[:5,:5]\n",
    "    \n",
    "    if nSeqs is None:\n",
    "#         print 'nSeqs is None, no subsampling, all sequences are used'\n",
    "        subsampled_df=df\n",
    "    else:\n",
    "        subsampled_df_list=[]\n",
    "#         print 'subsampling sequences...'\n",
    "        for n,sample in enumerate(df['Sample'].unique().tolist()):\n",
    "            if n%10==0: print n\n",
    "            df2=df[df['Sample']==sample]\n",
    "            df_s=df2.sample(n=nSeqs,random_state=1)\n",
    "            subsampled_df_list.append(df_s)\n",
    "\n",
    "#         print 'concatenating subsampled dfs'\n",
    "        subsampled_df=pd.concat(subsampled_df_list)\n",
    "#         print subsampled_df.shape\n",
    "#         print subsampled_df.head()\n",
    "\n",
    "    return subsampled_df\n",
    "    \n",
    "    "
   ]
  },
  {
   "cell_type": "code",
   "execution_count": 13,
   "metadata": {
    "ExecuteTime": {
     "end_time": "2019-03-30T21:51:52.610919Z",
     "start_time": "2019-03-30T21:51:52.561069Z"
    }
   },
   "outputs": [],
   "source": [
    "def calc_sharing_rate_per_sample(ax,subsampled_df,PNP_males_ageDecade_samples,Cardio_males_ageDecade_samples,\n",
    "                                 nseqs,nSampledShared, toPlot=True):\n",
    "    subsampled_df=subsampled_df.reset_index()\n",
    "    \n",
    "    dataList=[]\n",
    "    for item in [('Healthy',PNP_males_ageDecade_samples),('Patients',Cardio_males_ageDecade_samples)]:\n",
    "        dataset_name=item[0]\n",
    "        sample_list=item[1]\n",
    "        \n",
    "#         print ('******dataset: '+ dataset_name+'********')\n",
    "        \n",
    "        subsampled_df_dataset=subsampled_df[subsampled_df.Sample.isin(sample_list)]\n",
    "        sampleBySeq_ss=subsampled_df_dataset.pivot(index='Sample',columns='index',values='prod_stat').fillna(0)\n",
    "    \n",
    "#         print sampleBySeq_ss.shape\n",
    "#         print sampleBySeq_ss.iloc[:5,:5]\n",
    "#         print sampleBySeq_ss.sum().min()\n",
    "#         print sampleBySeq_ss.sum().max()\n",
    "    \n",
    "        public_seqs=sampleBySeq_ss.sum()[sampleBySeq_ss.sum() >= nSampledShared].index\n",
    "        sampleBySeq_ss_public=sampleBySeq_ss.loc[:,public_seqs]\n",
    "#         print ('sampleBySeq_ss.shape:' ,sampleBySeq_ss.shape)\n",
    "#         print ('sampleBySeq_ss_public.shape:' ,sampleBySeq_ss_public.shape)\n",
    "    \n",
    "        seqSum=sampleBySeq_ss.sum(axis=1).rename('seqSum')\n",
    "        publicSeqSum=sampleBySeq_ss_public.sum(axis=1).rename('publicSeqSum')\n",
    "        merged=pd.merge(pd.DataFrame(seqSum),pd.DataFrame(publicSeqSum),how='inner',left_index=True,right_index=True)\n",
    "#         print ('merged.shape:' ,merged.shape)\n",
    "        merged['perc_public']=100*merged['publicSeqSum'].astype(float) / merged['seqSum']\n",
    "#         print 'merged:'\n",
    "#         print merged.head(10)\n",
    "    \n",
    "        perc_public_list=merged['perc_public'].tolist()\n",
    "#         print ('perc_public_list[:10]: ',perc_public_list[:10])\n",
    "    \n",
    "        dataList.append(tuple([item[0],perc_public_list]))\n",
    "    s_MW,p_MW=mannwhitneyu(dataList[0][1],dataList[1][1])\n",
    "    mean_healthy=np.mean(dataList[0][1])\n",
    "    sem_healthy=sem(dataList[0][1])\n",
    "    mean_patients=np.mean(dataList[1][1])\n",
    "    sem_patients=sem(dataList[1][1])\n",
    "    \n",
    "#     fig,ax=plt.subplots()\n",
    "    if toPlot:\n",
    "        title=''\n",
    "\n",
    "        ax,ks_p_cohort1_cohort2,t_p_cohort1_cohort2,p_Anov,filename=plotHistComprison(dataList,ax,\n",
    "                            title,showLegend=True,nBins=20,toAnnotate=True,alpha=None,plotType='kde',\n",
    "                            colorList=['grey','darkred'])\n",
    "        ax.text(0.02,0.05,'p-value=%s (MW)' %p_MW, transform=ax.transAxes,ha='left',va='top')\n",
    "#         plt.show()\n",
    "    \n",
    "    return fig,ax,s_MW,p_MW,sampleBySeq_ss,mean_healthy,sem_healthy,mean_patients,sem_patients"
   ]
  },
  {
   "cell_type": "code",
   "execution_count": 14,
   "metadata": {
    "ExecuteTime": {
     "end_time": "2019-03-30T21:51:52.622529Z",
     "start_time": "2019-03-30T21:51:52.613274Z"
    }
   },
   "outputs": [
    {
     "data": {
      "text/plain": [
       "0.0"
      ]
     },
     "execution_count": 14,
     "metadata": {},
     "output_type": "execute_result"
    }
   ],
   "source": [
    "sem([1,1,1,1])"
   ]
  },
  {
   "cell_type": "code",
   "execution_count": 15,
   "metadata": {
    "ExecuteTime": {
     "end_time": "2019-03-30T21:51:52.641095Z",
     "start_time": "2019-03-30T21:51:52.625021Z"
    }
   },
   "outputs": [],
   "source": [
    "def sharing_rate_comparison_PNP_Cardio(ax,AllUniqueWithCounts_path=None,min_age=50,m_age=60,nToSample=20,\n",
    "                                       nSeqs=2000,isRandom=True,nSampledShared=2,random_state_PNP=1,random_state_Cardio=1):\n",
    "    \n",
    "    ## get data:\n",
    "    \n",
    "    AllUniqueWithCounts_prod,AgeGenderIsCardio=get_data(AllUniqueWithCounts_path)\n",
    "        \n",
    "    ## select samples\n",
    "    fig,PNP_males_ageDecade_samples,Cardio_males_ageDecade_samples=get_samples_for_age_decade(min_age,m_age,AgeGenderIsCardio,\n",
    "                    AllUniqueWithCounts_prod,nToSample=nToSample,\n",
    "                    nSeqs=nSeqs,isRandom=isRandom,random_state_PNP=random_state_PNP,random_state_Cardio=random_state_Cardio)\n",
    "    \n",
    "    ##subsample sequences:\n",
    "    subsampled_df = subsample_sequences_for_samples(AllUniqueWithCounts_prod,PNP_males_ageDecade_samples,\n",
    "                                                    Cardio_males_ageDecade_samples,nSeqs=nSeqs)\n",
    "    \n",
    "    #compare sharing rates:\n",
    "    fig,ax,s_MW,p_MW,sampleBySeq_ss,mean_healthy,sem_healthy,mean_patients,sem_patients = calc_sharing_rate_per_sample(ax,subsampled_df,PNP_males_ageDecade_samples,Cardio_males_ageDecade_samples,\n",
    "                                                    nSeqs,nSampledShared,toPlot=False)\n",
    "    \n",
    "    #save figure:\n",
    "    \n",
    "    \n",
    "    return fig,ax,s_MW,p_MW,sampleBySeq_ss,mean_healthy,sem_healthy,mean_patients,sem_patients\n",
    "    "
   ]
  },
  {
   "cell_type": "markdown",
   "metadata": {},
   "source": [
    "### fig 3A function (compare sharing rates):"
   ]
  },
  {
   "cell_type": "code",
   "execution_count": 16,
   "metadata": {
    "ExecuteTime": {
     "end_time": "2019-03-30T21:51:52.715332Z",
     "start_time": "2019-03-30T21:51:52.643496Z"
    }
   },
   "outputs": [],
   "source": [
    "#wrap the previous function with definition of input variables (include shuffled)\n",
    "\n",
    "def compare_sharing_rate(ax,useExistingDF=True):\n",
    "    \n",
    "    if not useExistingDF:\n",
    "        min_age=45\n",
    "        max_age=70\n",
    "        nToSample=20\n",
    "        nSeqs=11500\n",
    "        isRandom=False\n",
    "\n",
    "        df=pd.DataFrame()\n",
    "        nShared_list=[2,4,6,8,10]\n",
    "\n",
    "\n",
    "        for n in nShared_list:\n",
    "\n",
    "            nSampledShared=n\n",
    "\n",
    "            fig,ax,s_MW,p_MW,sampleBySeq_ss,mean_healthy,sem_healthy,mean_patients,sem_patients=\\\n",
    "    sharing_rate_comparison_PNP_Cardio(ax,AllUniqueWithCounts_path=None,min_age=min_age,max_age=max_age,nToSample=nToSample,\n",
    "            nSeqs=nSeqs,nSampledShared=nSampledShared,isRandom=isRandom,random_state_PNP=1,random_state_Cardio=1)\n",
    "\n",
    "\n",
    "            print '#####################################'\n",
    "            print n\n",
    "            print mean_healthy,sem_healthy,mean_patients,sem_patients,p_MW,sampleBySeq_ss\n",
    "            print '#####################################'\n",
    "            print ''\n",
    "\n",
    "            df.loc[n,'mean_healthy']=mean_healthy\n",
    "            df.loc[n,'sem_healthy']=sem_healthy\n",
    "            df.loc[n,'mean_patients']=mean_patients\n",
    "            df.loc[n,'sem_patients']=sem_patients\n",
    "            df.loc[n,'p_MW']=p_MW\n",
    "            \n",
    "        df.to_excel(FIG3_DIR+'3Adf_sharing_comparison.xlsx')\n",
    "        print 'saved df to excel'\n",
    "            \n",
    "    df=pd.read_excel(FIG3_DIR+'3Adf_sharing_comparison.xlsx')\n",
    "    \n",
    "    print df\n",
    "\n",
    "    ax.plot(df['mean_healthy'],color='grey',marker='o',label='Healthy')\n",
    "    # ax.plot(df['mean_healthy'],color='grey')\n",
    "    ax.plot(df['mean_healthy']-df['sem_healthy'],color='grey',alpha=0.5)\n",
    "    ax.plot(df['mean_healthy']+df['sem_healthy'],color='grey',alpha=0.5)\n",
    "    ax.plot(df['mean_patients'],color='darkred',marker='o',label='Patients')\n",
    "    ax.plot(df['mean_patients']-df['sem_patients'],color='darkred',alpha=0.5)\n",
    "    ax.plot(df['mean_patients']+df['sem_patients'],color='darkred',alpha=0.5)\n",
    "\n",
    "\n",
    "    for n in df.index:\n",
    "        if n in [4,6,10]:\n",
    "            ax.text(n,(df.loc[n,'mean_healthy']) +0.03,'*',color='black',fontsize='large',fontweight='bold',ha='center')\n",
    "        elif n == 8:\n",
    "            ax.text(n,(df.loc[n,'mean_healthy']) +0.03,'**',color='black',fontsize='large',fontweight='bold',ha='center')\n",
    "    ax.set_xlim(1,11)\n",
    "    ax.set_xticks(df.index)\n",
    "    ax.set_xlabel('# Shared Samples')\n",
    "    ax.set_ylabel('Shared Sequence Rate\\n(Percentage,Log Scale)')\n",
    "\n",
    "    ax.legend(loc='lower left')\n",
    "\n",
    "    ax.set_yscale('log')\n",
    "\n",
    "   \n",
    "    return ax,df"
   ]
  },
  {
   "cell_type": "code",
   "execution_count": 17,
   "metadata": {
    "ExecuteTime": {
     "end_time": "2019-03-30T21:51:52.726592Z",
     "start_time": "2019-03-30T21:51:52.717609Z"
    }
   },
   "outputs": [],
   "source": [
    "plt.show()"
   ]
  },
  {
   "cell_type": "code",
   "execution_count": 18,
   "metadata": {
    "ExecuteTime": {
     "end_time": "2019-03-30T21:51:53.578535Z",
     "start_time": "2019-03-30T21:51:52.728893Z"
    }
   },
   "outputs": [
    {
     "name": "stdout",
     "output_type": "stream",
     "text": [
      "    mean_healthy  sem_healthy  mean_patients  sem_patients      p_MW\n",
      "2       7.478261     0.080781       7.543043      0.078305  0.224351\n",
      "4       1.359565     0.022001       1.247826      0.023600  0.001059\n",
      "6       0.445217     0.013815       0.367391      0.010815  0.000372\n",
      "8       0.166087     0.007568       0.115652      0.004809  0.000007\n",
      "10      0.067391     0.004082       0.054783      0.002369  0.004217\n"
     ]
    },
    {
     "data": {
      "image/png": "[encoded data removed]",
      "text/plain": [
       "<matplotlib.figure.Figure at 0x7f6a811b36d0>"
      ]
     },
     "metadata": {},
     "output_type": "display_data"
    }
   ],
   "source": [
    "fig3,ax3=plt.subplots()\n",
    "ax3,df=compare_sharing_rate(ax3,useExistingDF=True)\n",
    "plt.show()"
   ]
  },
  {
   "cell_type": "markdown",
   "metadata": {},
   "source": [
    "### plot 3A inside figure 3:"
   ]
  },
  {
   "cell_type": "code",
   "execution_count": 19,
   "metadata": {
    "ExecuteTime": {
     "end_time": "2019-03-30T21:51:55.781632Z",
     "start_time": "2019-03-30T21:51:53.581263Z"
    }
   },
   "outputs": [
    {
     "name": "stdout",
     "output_type": "stream",
     "text": [
      "    mean_healthy  sem_healthy  mean_patients  sem_patients      p_MW\n",
      "2       7.478261     0.080781       7.543043      0.078305  0.224351\n",
      "4       1.359565     0.022001       1.247826      0.023600  0.001059\n",
      "6       0.445217     0.013815       0.367391      0.010815  0.000372\n",
      "8       0.166087     0.007568       0.115652      0.004809  0.000007\n",
      "10      0.067391     0.004082       0.054783      0.002369  0.004217\n"
     ]
    },
    {
     "data": {
      "image/png": "[encoded data removed]",
      "text/plain": [
       "<matplotlib.figure.Figure at 0x7f6a804a9b10>"
      ]
     },
     "metadata": {},
     "output_type": "display_data"
    }
   ],
   "source": [
    "fig = plt.figure(figsize=(25, 16))\n",
    "gs0 = gridspec.GridSpec(6, 5, wspace=0.5, hspace=0.5)\n",
    "\n",
    "### A:\n",
    "ax1 = plt.Subplot(fig, gs0[:2, :2])\n",
    "fig.add_subplot(ax1)\n",
    "ax1,df=compare_sharing_rate(ax1,useExistingDF=True)\n",
    "\n",
    "### B:\n",
    "ax2 = plt.Subplot(fig, gs0[2:, :2])\n",
    "fig.add_subplot(ax2)\n",
    "\n",
    "# divide subplot into sub-subplots\n",
    "gs00 = gridspec.GridSpecFromSubplotSpec(3, 1, subplot_spec=gs0[2:, :2],wspace=0, hspace=0)\n",
    "ax21=plt.Subplot(fig,gs00[:2,:]) ## isCardio heatmap\n",
    "fig.add_subplot(ax21)\n",
    "ax22=plt.Subplot(fig,gs00[2,:]) ## clusters heatmap\n",
    "fig.add_subplot(ax22)\n",
    "\n",
    "### C:\n",
    "ax3 = plt.Subplot(fig, gs0[:, 2:])\n",
    "fig.add_subplot(ax3)\n",
    "\n",
    "# divide subplot into sub-subplots\n",
    "gs01 = gridspec.GridSpecFromSubplotSpec(116, 3, subplot_spec=gs0[:, 2:],wspace=0, hspace=0)\n",
    "ax4=plt.Subplot(fig,gs01[:4,:]) ## isCardio heatmap\n",
    "fig.add_subplot(ax4)\n",
    "ax5=plt.Subplot(fig,gs01[4:104,:]) ## clusters heatmap\n",
    "fig.add_subplot(ax5)\n",
    "ax6=plt.Subplot(fig,gs01[104:108,:]) ## clustersummary heatmap\n",
    "fig.add_subplot(ax6)\n",
    "\n",
    "ax7=plt.Subplot(fig,gs01[108:,0]) ## isCardio colorbar\n",
    "fig.add_subplot(ax7)\n",
    "ax8=plt.Subplot(fig,gs01[108:,1]) ## cluaters colorbar\n",
    "fig.add_subplot(ax8)\n",
    "ax9=plt.Subplot(fig,gs01[108:,2]) ## cluaters sum colorbar\n",
    "fig.add_subplot(ax9)\n",
    "\n",
    "plt.show()"
   ]
  },
  {
   "cell_type": "markdown",
   "metadata": {},
   "source": [
    "## 3B: PCOA ANALYSIS"
   ]
  },
  {
   "cell_type": "markdown",
   "metadata": {},
   "source": [
    "### functions:"
   ]
  },
  {
   "cell_type": "markdown",
   "metadata": {
    "ExecuteTime": {
     "end_time": "2019-03-27T16:07:28.969885Z",
     "start_time": "2019-03-27T16:07:28.965181Z"
    }
   },
   "source": [
    "the function calc_PCoA to Feature_Phenotype_Functions.py"
   ]
  },
  {
   "cell_type": "code",
   "execution_count": 20,
   "metadata": {
    "ExecuteTime": {
     "end_time": "2019-03-30T21:51:55.817694Z",
     "start_time": "2019-03-30T21:51:55.784487Z"
    }
   },
   "outputs": [],
   "source": [
    "def fig3b_plotPairWiseDistance(df_condensed_org,ax):\n",
    "    df_condensed_org['sample1_isPatient']=np.where(df_condensed_org['sample1'].isin(Cardio126),1,0)\n",
    "    df_condensed_org['sample2_isPatient']=np.where(df_condensed_org['sample2'].isin(Cardio126),1,0)\n",
    "    df_condensed_org['samples_isPatient_sum']=df_condensed_org[['sample1_isPatient','sample2_isPatient']].sum(axis=1)\n",
    "    df_condensed_org['samples_isPatient_mapped']=df_condensed_org['samples_isPatient_sum'].map({0:'Both healthy',\n",
    "                                           1:'1 patient',2:'Both patients' })\n",
    "    \n",
    "    dataList=[('Both healthy',df_condensed_org[df_condensed_org['samples_isPatient_mapped']=='Both healthy']['dist']),\n",
    "          ('Both patients',df_condensed_org[df_condensed_org['samples_isPatient_mapped']=='Both patients']['dist'])]\n",
    "\n",
    "    title=''\n",
    "    colorList=['grey','darkred']\n",
    "    alpha=1\n",
    "    text_kws={'fontsize':'large','fontweight':'bold','color':'red',\n",
    "                                    'horizontalalignment':'left','verticalalignment':'top'}\n",
    "    plotType='kde'\n",
    "\n",
    "\n",
    "\n",
    "    ax,ks_p_cohort1_cohort2,t_p_cohort1_cohort2,p_Anov,filename=plotHistComprison(dataList,ax,title,showLegend=False,nBins=20,toAnnotate=False,\n",
    "                          colorList=colorList,alpha=alpha,\n",
    "                          text_kws=text_kws,plotType=plotType)\n",
    "    ax.text(0.02,0.95,'p=%.0E (t-test)' %t_p_cohort1_cohort2,transform=ax.transAxes,ha='left',va='top',\n",
    "               fontsize='medium')\n",
    "   \n",
    "    ax.set_ylabel('Density'); ax.set_xlabel('Pair-wise sample distances')\n",
    "    return ax\n",
    "    "
   ]
  },
  {
   "cell_type": "code",
   "execution_count": 21,
   "metadata": {
    "ExecuteTime": {
     "end_time": "2019-03-30T21:51:55.925129Z",
     "start_time": "2019-03-30T21:51:55.820274Z"
    }
   },
   "outputs": [],
   "source": [
    "def fig3B_plot_PCoA_balancedMales(ax_PCoA,ax_PCoA_dist):\n",
    "    \n",
    "    print 'reading cluster matrix...'\n",
    "    sampleByClusterDF=pd.read_pickle('/net/mraid08/export/jafar/Microbiome/Analyses/ShaniBAF/\\\n",
    "sharingAnalysis/seqClusters_allProd_maxdist1/sampleByClusterDF_cohortfiltering005-085perc_dropped.dat')\n",
    "    print 'binarizing matrix...'\n",
    "    sampleByClusterDF_binary=(sampleByClusterDF>0).astype(int)\n",
    "    # get samples lists:\n",
    "    with open('/net/mraid08/export/genie/Lab/Personal/ShaniBAF/Sample files/BD lists/PNP530_balancedAge_males') as fp:\n",
    "        PNP530_balancedAge_males=pickle.load(fp)\n",
    "    with open('/net/mraid08/export/genie/Lab/Personal/ShaniBAF/Sample files/BD lists/Cardio126_balancedAge_males') as fp:\n",
    "        Cardio126_balancedAge_males=pickle.load(fp)\n",
    "    sampleByClusterDF_binary_balanced=sampleByClusterDF_binary.loc[PNP530_balancedAge_males+Cardio126_balancedAge_males,:].fillna(0)\n",
    "    print ('sampleByClusterDF_binary_balanced shape: ',sampleByClusterDF_binary_balanced.shape)\n",
    "    \n",
    "    \n",
    "    #calculate PCoA and plot:\n",
    "    df=sampleByClusterDF_binary_balanced\n",
    "    metric='jaccard'\n",
    "    sample_list_list=[('Healthy',PNP530_balancedAge_males),('Patients',Cardio126_balancedAge_males)]\n",
    "    color_list=['grey','darkred']\n",
    "    pcoa_n1_toplot=0\n",
    "    pcoa_n2_toplot=1\n",
    "    toScale=False,\n",
    "    toAnnotate=False\n",
    "\n",
    "    pcoa_df,fig,ax,df_condensed_org=calc_PCoA(df,metric,sample_list_list,color_list,pcoa_n1_toplot=0,pcoa_n2_toplot=1,toScale=False,\n",
    "                 toAnnotate=False,ax=ax_PCoA,calculateSeperation=False)\n",
    "    replacement_list=[(\"Text(0.5,0,u'\",\"\"),(\"Text(0,0.5,u'\",\"\"),(\"')\",\"\"),(\"PC0\",\"PC1\")]\n",
    "    Xlabel= ax_PCoA.xaxis.get_label()\n",
    "    Ylabel= ax_PCoA.yaxis.get_label()\n",
    "    print ('original Xlabel is ',Xlabel)\n",
    "    print ('original Ylabel is ',Ylabel)\n",
    "    for item in replacement_list:\n",
    "        Xlabel= str(Xlabel).replace(item[0],item[1])\n",
    "        Ylabel= str(Ylabel).replace(item[0],item[1])\n",
    "        Ylabel= str(Ylabel).replace(\"PC1\",\"PC2\")\n",
    "    \n",
    "    dist_pcoa_toplot=0\n",
    "    \n",
    "    dataList=[('Healthy',pcoa_df.loc[PNP530_balancedAge_males, pcoa_n1_toplot]),\n",
    "         ('Patients',pcoa_df.loc[Cardio126_balancedAge_males, pcoa_n1_toplot])]\n",
    "    title=''\n",
    "    colorList=['grey','darkred']\n",
    "    alpha=1\n",
    "    text_kws={'fontsize':'large','fontweight':'bold','color':'red',\n",
    "                                    'horizontalalignment':'left','verticalalignment':'top'}\n",
    "    plotType='kde'\n",
    "\n",
    "#     ax_PCoA_dist,ks_p_cohort1_cohort2,t_p_cohort1_cohort2,p_Anov,filename=plotHistComprison(dataList,ax_PCoA_dist,\n",
    "#                     title,showLegend=False,nBins=20,toAnnotate=False,colorList=colorList,alpha=alpha,\n",
    "#                           text_kws=text_kws,plotType=plotType)\n",
    "\n",
    "    ax_PCoA_dist=fig3b_plotPairWiseDistance(df_condensed_org,ax_PCoA_dist)\n",
    "    \n",
    "    \n",
    "    #some more edits:\n",
    "    ax_PCoA.set_xticklabels('')\n",
    "    ax_PCoA.set_title('')\n",
    "    ax_PCoA.set_yticks([-0.2,-0.1,0,0.1,0.2])\n",
    "#     ax_PCoA.yaxis.set_major_locator(plt.MaxNLocator(5))\n",
    "    t_p_cohort1_cohort2=0.01\n",
    "    ax_PCoA.text(0.02,0.95,'p=%s (PCo%s,t-test)' %(round(t_p_cohort1_cohort2,2),dist_pcoa_toplot+1),horizontalalignment='left',\n",
    "          verticalalignment='top', transform=ax_PCoA.transAxes,fontsize='x-large')\n",
    "#     fontsize=mpl.rcParams['axes.labelsize']-4\n",
    "    ax_PCoA.set_ylabel(Ylabel,fontsize=mpl.rcParams['axes.labelsize'])\n",
    "    handles, labels = ax_PCoA.get_legend_handles_labels()\n",
    "    ax_PCoA.legend(loc='lower left',labels=labels,fontsize=14)\n",
    "    \n",
    "    ax_PCoA.set_xlabel(Xlabel)\n",
    "    ax_PCoA_dist.set_ylabel('Density',labelpad=25,fontsize=mpl.rcParams['axes.labelsize'])\n",
    "    ax_PCoA_dist.set_yticks([0,5,10])\n",
    "    \n",
    "    # fig.align_ylabels(axes=[ax_PCoA,ax_PCoA_dist])\n",
    "    ax_PCoA.yaxis.set_label_coords(-0.1, 0.5)\n",
    "    ax_PCoA_dist.yaxis.set_label_coords(-0.1, 0.5)\n",
    "    \n",
    "    return ax_PCoA,ax_PCoA_dist\n",
    "\n",
    "\n"
   ]
  },
  {
   "cell_type": "markdown",
   "metadata": {},
   "source": [
    "### run seperately"
   ]
  },
  {
   "cell_type": "code",
   "execution_count": 22,
   "metadata": {
    "ExecuteTime": {
     "end_time": "2019-03-30T21:53:03.642386Z",
     "start_time": "2019-03-30T21:51:55.927876Z"
    }
   },
   "outputs": [
    {
     "name": "stdout",
     "output_type": "stream",
     "text": [
      "reading cluster matrix...\n",
      "binarizing matrix...\n",
      "('sampleByClusterDF_binary_balanced shape: ', (150, 536761))\n",
      "generating distance matrix...\n",
      "generating condensed distance matrix using jaccard\n",
      "top similar pairs:\n",
      "          dist sample1 sample2\n",
      "763   0.798177    BD27   BD124\n",
      "814   0.800100    BD27  BD1083\n",
      "769   0.813734    BD27   BD106\n",
      "4510  0.815050   BD124   BD106\n",
      "4555  0.816545   BD124  BD1083\n",
      "776   0.819343    BD27   BD150\n",
      "856   0.819679    BD27   BD984\n",
      "9136  0.823167  BD1083   BD984\n",
      "5224  0.824113   BD106  BD1083\n",
      "5959  0.824178   BD150  BD1083\n",
      "generating squareform distance matrix using jaccard\n",
      "calculate PCoA\n",
      "             0         1         2         3         4         5         6         7         8         9   ...        140       141       142       143       144       145       146       147       148  149\n",
      "BD801  -0.084166 -0.018515  0.004126 -0.010947  0.052520 -0.004264 -0.032504  0.015681 -0.000561  0.016503 ...   0.052695 -0.020790  0.005890 -0.063313  0.006901 -0.005874 -0.026643  0.028642 -0.005200 -0.0\n",
      "BD221  -0.119322 -0.001487  0.026497 -0.026498  0.035686 -0.012056 -0.025276  0.000241  0.004264 -0.011048 ...   0.019194 -0.094484  0.044772 -0.096070  0.162971  0.014707  0.046064  0.010922  0.012869 -0.0\n",
      "BD631   0.094230  0.080540 -0.024428  0.028280  0.006155 -0.030294 -0.144339  0.066039 -0.079760 -0.059380 ...   0.016634  0.013048 -0.016050  0.007537  0.006011  0.018608 -0.017460 -0.003814  0.010317 -0.0\n",
      "BD441  -0.023516  0.085471 -0.002834  0.033421  0.013378  0.038440  0.013606 -0.041852 -0.016782  0.028365 ...   0.050420  0.003626 -0.017165  0.015844 -0.030714 -0.011666  0.030536  0.015570 -0.012951 -0.0\n",
      "BD834  -0.062587 -0.090468 -0.008679 -0.004084 -0.035985 -0.061990 -0.015979 -0.013307  0.029693 -0.009026 ...  -0.067978 -0.005749  0.009721  0.004245  0.032581  0.003254 -0.000395 -0.004060 -0.004152 -0.0\n",
      "BD27   -0.214686 -0.057852  0.067573 -0.057665  0.001272  0.021112 -0.010364 -0.007297  0.022266  0.024233 ...   0.047087  0.028451 -0.021422  0.002195  0.002244 -0.025870 -0.223859 -0.073920  0.459516 -0.0\n",
      "BD339  -0.058237  0.035370  0.025839  0.005855 -0.011600  0.020158  0.002439  0.022352  0.031540  0.019628 ...   0.024730 -0.026864  0.013949  0.001903  0.011621 -0.036454  0.008446  0.009935  0.015123 -0.0\n",
      "BD600  -0.056669 -0.074659 -0.021182 -0.007287 -0.039515 -0.002842 -0.053792  0.014500 -0.025895 -0.005847 ...  -0.006376 -0.031747  0.060068 -0.035542  0.003051 -0.011114 -0.003381 -0.009535 -0.014992 -0.0\n",
      "BD908  -0.106393 -0.018588  0.019395 -0.018524  0.037914 -0.036979 -0.030765  0.000388 -0.004223  0.014099 ...   0.004038  0.032168 -0.105475  0.113742 -0.017603  0.032888  0.037789  0.045872 -0.004658 -0.0\n",
      "BD422  -0.086319 -0.087830 -0.007100 -0.009309 -0.018571 -0.029904 -0.001632 -0.008292 -0.000051  0.019545 ...   0.059090 -0.029017  0.000375  0.039517  0.048742 -0.039702 -0.012883  0.021756 -0.022279 -0.0\n",
      "BD488  -0.008018  0.035419 -0.040681 -0.011398 -0.060063 -0.041298  0.015399  0.029566 -0.047173 -0.054920 ...  -0.000901  0.005511  0.009181  0.010855 -0.018113 -0.004308 -0.017809  0.005367 -0.025131 -0.0\n",
      "BD859  -0.134474 -0.020642  0.030412 -0.005391 -0.001176  0.015352 -0.000690 -0.008540 -0.003345 -0.008679 ...  -0.053534 -0.062602  0.146012 -0.111150 -0.006544  0.061517  0.052175  0.014065  0.004786 -0.0\n",
      "BD810  -0.109426 -0.089925  0.009350  0.007802 -0.006668  0.021701  0.006028 -0.002546 -0.004373  0.011165 ...   0.033168 -0.097730 -0.057595  0.037102 -0.038569 -0.004130  0.016219  0.004068  0.003110 -0.0\n",
      "BD649   0.010793  0.033522 -0.024571  0.054963  0.001054 -0.035278 -0.005977  0.009955 -0.013468  0.006379 ...   0.001761  0.001457  0.005630 -0.002230 -0.000515  0.012206 -0.013690  0.001419  0.001892 -0.0\n",
      "BD71   -0.092926 -0.078185  0.010852 -0.000891 -0.009213 -0.015498 -0.019392  0.001142 -0.013057  0.021058 ...  -0.020473 -0.014894  0.027260  0.040705 -0.015147 -0.006814  0.016887 -0.027142  0.025372 -0.0\n",
      "BD865  -0.116817  0.071348  0.030845 -0.022906  0.012153  0.017921  0.010587 -0.007481 -0.001888 -0.016903 ...  -0.097374  0.097873  0.076809 -0.083588  0.030803  0.061792  0.024973 -0.038458  0.024774 -0.0\n",
      "BD432  -0.023305  0.094780  0.000499  0.006589  0.003343  0.047966  0.035620 -0.019918  0.010839 -0.006222 ...   0.021420  0.029646  0.002850  0.065851  0.003126 -0.029507 -0.014295  0.006098  0.006516 -0.0\n",
      "BD574  -0.113392 -0.012616  0.027880 -0.022937  0.028094 -0.003232 -0.015283  0.011361 -0.006891  0.013969 ...  -0.042107  0.057066  0.038215  0.022794  0.013838  0.064638  0.002698 -0.025159  0.009088 -0.0\n",
      "BD847  -0.024888  0.001201 -0.013388  0.026287 -0.016594 -0.001304 -0.011362  0.041733 -0.002430 -0.030960 ...   0.016781 -0.022175 -0.020876 -0.005365 -0.000709 -0.010705 -0.009173 -0.024284  0.001389 -0.0\n",
      "BD149  -0.106039  0.007442  0.007273 -0.032951  0.004483 -0.001647  0.015206 -0.012504  0.010928 -0.015796 ...   0.008984 -0.089868 -0.047303  0.025235  0.014661  0.017224 -0.005185 -0.022901 -0.017110 -0.0\n",
      "BD400  -0.052166  0.016587 -0.000126 -0.007815 -0.018660  0.009448 -0.016711 -0.011870  0.038638  0.005310 ...  -0.028469  0.026444 -0.028426  0.023021  0.045754  0.021113 -0.010185 -0.043774  0.019819 -0.0\n",
      "BD66    0.102316  0.083890  0.008448 -0.002715 -0.046653 -0.051970  0.102499  0.125506  0.045934  0.024729 ...  -0.018050  0.022445 -0.002000 -0.006641  0.004756  0.008935 -0.011119 -0.000793  0.003928 -0.0\n",
      "BD863   0.057716  0.089240  0.021440 -0.001542  0.166026 -0.078262 -0.004272  0.029621  0.011969  0.023068 ...  -0.014459  0.009823  0.004192 -0.014148  0.009055 -0.001277 -0.001855  0.000361  0.006165 -0.0\n",
      "BD579   0.101504 -0.042832 -0.040453  0.082149 -0.072373  0.046864  0.020009  0.020883 -0.035410 -0.100724 ...  -0.003732  0.000271  0.013935 -0.003066  0.002731 -0.009496  0.003409 -0.009395  0.010315 -0.0\n",
      "BD811   0.014470 -0.007748 -0.016018 -0.005699  0.004258  0.040903  0.025843  0.021502 -0.005260 -0.004246 ...  -0.017255  0.000280  0.036145 -0.017442  0.009270  0.001647  0.001609 -0.011934  0.010755 -0.0\n",
      "BD935  -0.141352  0.004289  0.036027 -0.032821 -0.011456  0.022843  0.002016  0.007509 -0.000540 -0.021021 ...   0.055812  0.055965 -0.228551  0.221379  0.031692  0.037880  0.063210 -0.014756 -0.006908 -0.0\n",
      "BD369  -0.126246  0.085020  0.026092 -0.042880  0.033912  0.017979 -0.023266 -0.002271 -0.014003 -0.012834 ...  -0.237307 -0.106849 -0.116388 -0.135799 -0.065422  0.077034 -0.037945 -0.008162 -0.007389 -0.0\n",
      "BD591   0.142896 -0.052384 -0.012452 -0.076185  0.093799 -0.103869 -0.085464  0.103781 -0.160873 -0.052386 ...   0.005291  0.015609 -0.008378  0.012252  0.001280 -0.008857  0.010086 -0.005924  0.003979 -0.0\n",
      "BD909  -0.129982 -0.003468  0.023800 -0.033987  0.019467  0.029069 -0.002006 -0.024279 -0.000452  0.025094 ...   0.153403 -0.073565  0.044114 -0.110261 -0.046301  0.145749  0.039364  0.001636 -0.036735 -0.0\n",
      "BD860   0.016502  0.138961 -0.015394 -0.073665 -0.006323 -0.057681 -0.008610 -0.010161 -0.067188 -0.055090 ...   0.011324 -0.010238  0.010239  0.004720  0.007426  0.007978 -0.019826  0.008334  0.006067 -0.0\n",
      "...          ...       ...       ...       ...       ...       ...       ...       ...       ...       ... ...        ...       ...       ...       ...       ...       ...       ...       ...       ...  ...\n",
      "BD1016  0.035514  0.062599 -0.003157  0.075074  0.067576  0.053443 -0.006091 -0.035827  0.063341  0.035671 ...   0.012169 -0.018019  0.022675 -0.012714 -0.034365  0.000614 -0.013738  0.005370 -0.014577 -0.0\n",
      "BD979  -0.023638  0.068605  0.033634  0.010410  0.010617  0.001509 -0.023173  0.015443 -0.000148 -0.022006 ...  -0.019454 -0.010374 -0.006144 -0.012562  0.002135 -0.006513  0.002059  0.005164 -0.003375 -0.0\n",
      "BD1011 -0.140092  0.027193  0.028347 -0.025830  0.039810  0.006764 -0.002550 -0.016338 -0.005473  0.022106 ...  -0.115472  0.171317  0.106210 -0.029370  0.249454 -0.033628  0.032327  0.005935  0.005482 -0.0\n",
      "BD1099 -0.150006 -0.019351  0.018519 -0.052573  0.036951 -0.015244 -0.024447  0.006624  0.003845  0.003127 ...  -0.089014 -0.013515 -0.005666 -0.016360 -0.378744  0.023437 -0.005927 -0.001480  0.003978 -0.0\n",
      "BD1048  0.090974 -0.024679  0.017221  0.120827  0.019455 -0.003062  0.042531  0.055159  0.093443  0.065426 ...   0.012354 -0.001250  0.008859 -0.014154 -0.006055  0.003641 -0.000561 -0.012646 -0.000115 -0.0\n",
      "BD1033  0.035296  0.052316 -0.018873  0.033922 -0.023703  0.062370  0.013329 -0.002823  0.004705 -0.000049 ...  -0.008947  0.049761 -0.026558  0.021677  0.009884  0.013312 -0.017202 -0.001861  0.001359 -0.0\n",
      "BD1090  0.004570 -0.057565 -0.042230  0.057009 -0.026341 -0.030698  0.018974 -0.009589 -0.011908 -0.032230 ...   0.000694 -0.018571  0.005410  0.008152  0.004053 -0.000773 -0.002956  0.004138  0.007248 -0.0\n",
      "BD984  -0.152489 -0.096669  0.030082 -0.015686 -0.021838  0.021643 -0.011691 -0.012661  0.014930  0.010604 ...   0.140058  0.261568 -0.241343 -0.293909 -0.010828  0.041026  0.124604 -0.022181 -0.019934 -0.0\n",
      "BD955   0.209176 -0.075115  0.056560 -0.178854  0.092883  0.000967  0.105981 -0.171300  0.154871 -0.205055 ...   0.008267 -0.014867 -0.006528  0.005650  0.010035 -0.000561 -0.002751  0.003699 -0.003875 -0.0\n",
      "BD1097 -0.105581  0.014131  0.001868 -0.016555  0.024606  0.027871 -0.010325 -0.005612 -0.006324 -0.014093 ...   0.063590 -0.002713  0.021790  0.091312 -0.002117 -0.030940  0.030064  0.038469  0.019173 -0.0\n",
      "BD983  -0.033346  0.111946 -0.014395 -0.019093  0.018725 -0.053357 -0.022932  0.000687 -0.011817 -0.022293 ...   0.014838  0.016105 -0.003718 -0.027554  0.007431  0.017573 -0.026257  0.001500  0.012722 -0.0\n",
      "BD1073 -0.031232 -0.073759 -0.037816  0.016785 -0.011292  0.006361 -0.011397 -0.021184 -0.009371 -0.008281 ...   0.004194 -0.012177  0.019353 -0.017785 -0.022468 -0.036308 -0.004560  0.018746 -0.003221 -0.0\n",
      "BD967  -0.015940 -0.032985  0.000601  0.063666 -0.008587  0.049151 -0.018822 -0.013710  0.000870  0.027083 ...  -0.025593 -0.041120 -0.007242 -0.024059 -0.003526 -0.019012 -0.013969 -0.002792  0.014247 -0.0\n",
      "BD1074 -0.004677  0.100286  0.011032  0.020384 -0.006519  0.009563 -0.012209 -0.000514 -0.003702 -0.069701 ...   0.019207  0.038788 -0.020194 -0.001448  0.006718 -0.014630  0.008589 -0.004276  0.002879 -0.0\n",
      "BD960  -0.094738  0.088645  0.033045 -0.009798 -0.009806  0.039904  0.018949 -0.037813  0.004189 -0.023163 ...   0.007512 -0.077431 -0.097418  0.004289  0.025997  0.015964  0.004890  0.028897 -0.030785 -0.0\n",
      "BD1006  0.025053 -0.055754 -0.037861 -0.016035 -0.032861 -0.019681 -0.085291  0.007494 -0.037471  0.010159 ...  -0.011606 -0.005676 -0.009036 -0.009308 -0.009182  0.008144 -0.000268 -0.017435  0.011395 -0.0\n",
      "BD1001  0.011498 -0.038289 -0.041829  0.001654 -0.024459  0.004726  0.024475 -0.040337  0.018207 -0.029909 ...   0.010809  0.018143  0.001672 -0.003991 -0.009696 -0.004015 -0.019470  0.004156  0.013363 -0.0\n",
      "BD1010  0.159296 -0.131217 -0.036034  0.064830  0.030704  0.198126  0.019194  0.084964  0.014841  0.175125 ...  -0.009281  0.005575 -0.002081 -0.002056  0.010480  0.014085  0.007459 -0.007132 -0.002282 -0.0\n",
      "BD1017  0.090831 -0.090131 -0.038307  0.081997  0.039257 -0.029978  0.079620 -0.009077  0.048048  0.075249 ...   0.007344  0.010072 -0.001066 -0.032303 -0.010180  0.005958  0.005046 -0.007157 -0.008813 -0.0\n",
      "BD1019  0.045663 -0.017491 -0.022866  0.067937 -0.019109  0.017046 -0.035030  0.025803 -0.002777 -0.055110 ...   0.005728  0.004728 -0.001964 -0.006835  0.011544 -0.006515 -0.006039 -0.001942  0.000210 -0.0\n",
      "BD971  -0.026549  0.038404  0.038349  0.010094 -0.000443  0.002890 -0.019105 -0.001299 -0.016353  0.015331 ...   0.004464  0.046460  0.010388  0.011132  0.026776 -0.028460 -0.025246 -0.002444  0.007619 -0.0\n",
      "BD1065  0.047339  0.080102 -0.015319  0.043791  0.035214 -0.021012 -0.024316 -0.038217  0.066556  0.043683 ...  -0.002066  0.002256  0.031207  0.016522  0.014582  0.002746  0.001385  0.001112  0.002219 -0.0\n",
      "BD976   0.002144  0.051151 -0.012771 -0.005027 -0.059390 -0.004089  0.051761  0.076730 -0.009706 -0.028270 ...   0.011795  0.000873  0.026875 -0.035990 -0.005300  0.011466 -0.019623 -0.000930 -0.017267 -0.0\n",
      "BD1062  0.001967 -0.059474 -0.012166  0.055112  0.001226  0.018209  0.033842  0.026634 -0.014703 -0.005361 ...  -0.016727  0.008746  0.002216 -0.005326  0.015587 -0.028754 -0.011057  0.014044 -0.005251 -0.0\n",
      "BD992   0.016974 -0.041371 -0.020636  0.059688 -0.029034 -0.041753  0.028387 -0.023639 -0.029707 -0.016234 ...   0.009902  0.007091 -0.007903  0.011378 -0.002011 -0.000369 -0.010280 -0.014612 -0.002140 -0.0\n",
      "BD1086 -0.096254  0.004649  0.026497 -0.026547 -0.015098 -0.012676  0.000743 -0.009386  0.004692 -0.022949 ...  -0.023054  0.093055  0.017381  0.010145  0.022903 -0.002109  0.002510 -0.003126 -0.001845 -0.0\n",
      "BD995   0.024443  0.021233 -0.023619  0.049233 -0.048688  0.000031 -0.008361 -0.036098  0.003883  0.009141 ...  -0.009330  0.012650  0.002565 -0.013792 -0.001414 -0.024026 -0.003908  0.004277  0.007481 -0.0\n",
      "BD1050  0.017406 -0.064006 -0.063696  0.053814 -0.034424 -0.020142  0.037733 -0.041576  0.010606  0.000296 ...  -0.015923 -0.015371 -0.034992 -0.019669  0.001229  0.009770 -0.002902 -0.018939  0.016778 -0.0\n",
      "BD1081 -0.139805 -0.082167  0.015175 -0.037975 -0.001965 -0.014992 -0.015037  0.007878 -0.009911  0.022877 ...   0.186439 -0.168352  0.104585 -0.042432  0.086004  0.037111  0.067196  0.059660  0.016641 -0.0\n",
      "BD1088 -0.072428  0.028144  0.009634  0.013352  0.008187  0.002319  0.010595 -0.014463 -0.002049  0.009629 ...   0.005328 -0.026599 -0.000202  0.016726 -0.028133  0.011112  0.003547  0.000676  0.010959 -0.0\n",
      "\n",
      "[150 rows x 150 columns]\n",
      "plotting\n",
      "('original Xlabel is ', <matplotlib.text.Text object at 0x7f6a79501790>)\n",
      "('original Ylabel is ', <matplotlib.text.Text object at 0x7f6a794b9390>)\n",
      "generating kde plot\n",
      "generating kde plot\n"
     ]
    },
    {
     "data": {
      "image/png": "[encoded data removed]",
      "text/plain": [
       "<matplotlib.figure.Figure at 0x7f6a79501dd0>"
      ]
     },
     "metadata": {},
     "output_type": "display_data"
    }
   ],
   "source": [
    "fig = plt.figure(figsize=(6, 4))\n",
    "gs0 = gridspec.GridSpec(3, 1, wspace=0, hspace=0.2)\n",
    "ax1=plt.Subplot(fig,gs0[:2,:])\n",
    "fig.add_subplot(ax1)\n",
    "ax2=plt.Subplot(fig,gs0[2,:]) \n",
    "fig.add_subplot(ax2)\n",
    "\n",
    "ax_PCoA=ax1\n",
    "ax_PCoA_dist=ax2\n",
    "\n",
    "ax_PCoA,ax_PCoA_dist=fig3B_plot_PCoA_balancedMales(ax_PCoA,ax_PCoA_dist)\n",
    "\n",
    "# ax1.set_xticklabels('')\n",
    "# ax1.set_yticks([0,0.5,1])\n",
    "# ax2.set_yticks([0.5])\n",
    "# t_p_cohort1_cohort2=0.02\n",
    "# dist_pcoa_toplot=1\n",
    "# ax1.text(0.02,0.95,'p=%s (PCo%s,t-test)' %(t_p_cohort1_cohort2,dist_pcoa_toplot),horizontalalignment='left',\n",
    "#     verticalalignment='top', transform=ax1.transAxes,fontsize='large')\n",
    "\n",
    "plt.show()"
   ]
  },
  {
   "cell_type": "markdown",
   "metadata": {},
   "source": [
    "        ## 3C:  sequence cluster heat map for top differntial clusters"
   ]
  },
  {
   "cell_type": "markdown",
   "metadata": {},
   "source": [
    "### function:"
   ]
  },
  {
   "cell_type": "code",
   "execution_count": 23,
   "metadata": {
    "ExecuteTime": {
     "end_time": "2019-03-30T21:53:03.731221Z",
     "start_time": "2019-03-30T21:53:03.644985Z"
    }
   },
   "outputs": [],
   "source": [
    "def plot_sequence_cluster_heatmap_fig3(targetDF,Y_pred,sampleByClusterDF,cluster_sum,\n",
    "                                ax_heatmap1,ax_heatmap2,ax_heatmap3,\n",
    "                                ax_colorbar1,ax_colorbar2,ax_colorbar3,\n",
    "                                  showPredCbar=True,max_val=6,binary=True):\n",
    "    \n",
    "    ### inputs are: targetDF = (Y_true), Y_pred, sampleByClusterDF, cluster_sum (summary of number of \n",
    "    ### seqeunces in clusters that are includesd in the cluster-list presnted, per sample)\n",
    "    ### make sure all of the above 4 dfs include the same clusters (cluster list) and do not include nans\n",
    "    ### Y_pred should be astype 'float'\n",
    "\n",
    "    ##max_val can be None and then will be set to the maximal value if the data\n",
    "    \n",
    "    print 'get data...'\n",
    "    Yname=targetDF.columns.tolist()[0]\n",
    "    \n",
    "    # get Y_pred data:\n",
    "    Y_pred=Y_pred.rename(columns={Y_pred.columns[0]:'pred_proba'}).astype('float')\n",
    "    Y_pred=pd.DataFrame(Y_pred)\n",
    "    \n",
    "    #edit cluster_sum info\n",
    "    cluster_sum=pd.DataFrame(cluster_sum)\n",
    "    cluster_sum=cluster_sum.rename(columns={cluster_sum.columns[0]:'cluster_sum'})\n",
    "#     print cluster_sum.head()\n",
    "       \n",
    "    print 'merging info...'\n",
    "    #merge all and sort by Y and Y_pred:\n",
    "    merged=pd.merge(targetDF,Y_pred,how='inner',left_index=True,right_index=True)\n",
    "    merged=pd.merge(merged,cluster_sum,how='inner',left_index=True,right_index=True)\n",
    "    merged=pd.merge(merged,sampleByClusterDF,how='inner',left_index=True,right_index=True)\n",
    "    merged=merged.sort_values(by=[Yname,'pred_proba'],ascending=False)\n",
    "#     print ('merged.shape: ',merged.shape)\n",
    "#     print merged.head()   \n",
    "    df =  merged[[Yname,'pred_proba']]\n",
    "\n",
    "    #generate seperate df for each part of the image:\n",
    "#     print 'df:'\n",
    "#     print df.head()\n",
    "    df2 = merged.iloc[:,4:]\n",
    "#     print 'df2:'\n",
    "#     print df2.head()\n",
    "    df3=pd.DataFrame(merged['cluster_sum'])\n",
    "#     print df3.head()\n",
    "\n",
    "    #generate figure:\n",
    "    print 'generating figure...'\n",
    "    print ('max val is: ',df2.max().max())\n",
    "    if max_val is None:\n",
    "        max_val=int(df2.max().max())\n",
    "    min_val=0\n",
    "    dif=max_val-min_val\n",
    "#     print dif\n",
    "    \n",
    "    print 'generating heat map1'\n",
    "    hp1=sns.heatmap(df.T, cmap=\"Greys\", ax=ax_heatmap1, cbar=False,linewidth=0.05)\n",
    "    if showPredCbar:\n",
    "        cbar_1=fig.colorbar(ax_heatmap1.collections[0],ax=ax_colorbar1,use_gridspec=False,location='bottom', pad=0.08,fraction=0.4,aspect=10)\n",
    "        if binary:\n",
    "            cbar_1.set_ticks([0,0.5,1])\n",
    "        else:\n",
    "            cbar_1.set_ticklabels(range(dif+1))\n",
    "    \n",
    "    print 'generating heat map2...'\n",
    "    cmap_2 = plt.get_cmap('Reds', dif+1)\n",
    "    hp2=sns.heatmap(df2.T, cmap=cmap_2, ax=ax_heatmap2, cbar=False,linewidth=0.05,vmin = min_val, vmax = max_val)\n",
    "    cbar_2=fig.colorbar(ax_heatmap2.collections[0], ax=ax_colorbar2, use_gridspec=False,location='bottom', pad=0.08, fraction=0.4, aspect=10)\n",
    "    cbar_2.set_ticks([float(dif)/12 + float(dif)*x/(dif+1) for x in range(dif+1)])\n",
    "    cbar_2.set_ticklabels(range(dif+1))\n",
    "    \n",
    "    print 'generating heat map 3...'\n",
    "    cmap_3='Blues'\n",
    "    hp3=sns.heatmap(df3.T, cmap=cmap_3, ax=ax_heatmap3, cbar=False,linewidth=0.05)\n",
    "    cbar_3=fig.colorbar(ax_heatmap3.collections[0], ax=ax_colorbar3, use_gridspec=False,location='bottom', pad=0.08, fraction=0.4, aspect=10)\n",
    "    cbar_3.set_ticks([0,40,80])\n",
    "    \n",
    "    for ax in [ax_heatmap1,ax_heatmap2,ax_heatmap3,ax_colorbar1,ax_colorbar2,ax_colorbar3]:\n",
    "        ax= remove_spines(ax)  \n",
    "              \n",
    "    return ax_heatmap1,ax_heatmap2,ax_heatmap3,ax_colorbar1,ax_colorbar2,ax_colorbar3\n",
    "    "
   ]
  },
  {
   "cell_type": "code",
   "execution_count": 40,
   "metadata": {
    "ExecuteTime": {
     "end_time": "2019-03-30T22:06:21.865168Z",
     "start_time": "2019-03-30T22:06:21.756740Z"
    }
   },
   "outputs": [],
   "source": [
    "def fig3C_topClusters_heatmap(ax_heatmap1,ax_heatmap2,ax_heatmap3,ax_colorbar1,ax_colorbar2,ax_colorbar3):\n",
    "    PRED_RESULTS_DIR='/net/mraid08/export/jafar/Microbiome/Analyses/ShaniBAF/predictions2/'\n",
    "    #get top 100 clusters:\n",
    "    top_diff_clusters=pd.read_excel(CLUSTER_ANALYSIS_DIR+'Fisher_MW_comparisons/PNP530_balancedAge_males_prodClusRed\\\n",
    "_Cardio126_balancedAge_males_prodClusRed_percShared01_percTooMany085_top100p05_analyzed.xlsx')\n",
    "    cluster_list=top_diff_clusters['cluster_head'].dropna().tolist()\n",
    "    print ('begning of cluster list: ',cluster_list[:10])\n",
    "    \n",
    "    #get data:\n",
    "    print 'getting data...'\n",
    "    sampleByClusterDF=pd.read_pickle('/net/mraid08/export/jafar/Microbiome/Analyses/ShaniBAF/\\\n",
    "sharingAnalysis/seqClusters_allProd_maxdist1/sampleByClusterDF_cohortfiltering005-085perc_dropped.dat')\n",
    "    # get samples lists:\n",
    "    with open('/net/mraid08/export/genie/Lab/Personal/ShaniBAF/Sample files/BD lists/PNP530_balancedAge_males') as fp:\n",
    "        PNP530_balancedAge_males=pickle.load(fp)\n",
    "    with open('/net/mraid08/export/genie/Lab/Personal/ShaniBAF/Sample files/BD lists/Cardio126_balancedAge_males') as fp:\n",
    "        Cardio126_balancedAge_males=pickle.load(fp)\n",
    "        sampleByClusterDF_balanced_clusterList=sampleByClusterDF.\\\n",
    "    loc[PNP530_balancedAge_males+Cardio126_balancedAge_males,cluster_list].fillna(0)\n",
    "    print ('sampleByClusterDF_balanced_clusterList.shape: ',sampleByClusterDF_balanced_clusterList.shape)\n",
    "    \n",
    "    #calculate sum of relevant clusters in a sample:\n",
    "    print 'calculating sum of relevant clusters in a sample'\n",
    "    cluster_sum=sampleByClusterDF_balanced_clusterList.sum(axis=1)\n",
    "    \n",
    "    #get target data:\n",
    "    isCardio=pd.read_pickle(PRED_RESULTS_DIR+'TargetDFs/isCardio.dat')\n",
    "    iscardio_balanced=isCardio.loc[PNP530_balancedAge_males+Cardio126_balancedAge_males]\n",
    "    print ('iscardio_balanced.shape: ',iscardio_balanced.shape)\n",
    "    \n",
    "    Y_pred=pd.read_pickle(PRED_RESULTS_DIR+'isCardio/XGB_randomSearch_25_byRepFeatPCA10RelsVDJnocorr0999AgeGender/\\\n",
    "predictions_df.pkl')\n",
    "    Y_pred=Y_pred.loc[PNP530_balancedAge_males+Cardio126_balancedAge_males]\n",
    "    print ('Y_pred.shape: ',Y_pred.shape)\n",
    "    \n",
    "    #plot basic heatmap:\n",
    "    print 'plotting...'\n",
    "    cluster_list=top_diff_clusters['cluster_head'].tolist()[:100]\n",
    "    \n",
    "    ###check identities for cluster list:\n",
    "    PRED_RESULTS_DIR='/net/mraid08/export/jafar/Microbiome/Analyses/ShaniBAF/predictions2/'\n",
    "    output_dir='/net/mraid08/export/jafar/Microbiome/Analyses/ShaniBAF/sharingAnalysis/seqClusters_allProd_maxdist1/'\n",
    "    identities=pd.read_excel('%s/TCR CDR3 sequence databases/combined annotation_list_clean_popped.xlsx' %MyPath)\n",
    "    summaryDF=pd.DataFrame()\n",
    "    df2,phen_related_identities=get_annot_for_seqs_in_cluster(df=None,cluster_head_col=None,output_dir=output_dir,getIdentities=True,cluster_head_list=cluster_list)\n",
    "    df2.to_excel(FIG3_DIR+'top100seqs_identities.xlsx')\n",
    "\n",
    "    \n",
    "    targetDF=iscardio_balanced\n",
    "    sampleByClusterDF=sampleByClusterDF_balanced_clusterList\n",
    "\n",
    "    showPredCbar=True\n",
    "    max_val=None\n",
    "    binary=True\n",
    "    \n",
    "    ax_heatmap1,ax_heatmap2,ax_heatmap3,ax_colorbar1,ax_colorbar2,ax_colorbar3=plot_sequence_cluster_heatmap_fig3(targetDF,\n",
    "                                Y_pred,sampleByClusterDF,cluster_sum,\n",
    "                                ax_heatmap1,ax_heatmap2,ax_heatmap3,\n",
    "                                ax_colorbar1,ax_colorbar2,ax_colorbar3,\n",
    "                                showPredCbar,max_val,binary)\n",
    "    \n",
    "    ###some edits:\n",
    "    \n",
    "    # add vertical lines for all 3 heatmaps and titles for heatmap 1\n",
    "    for ax in [ax_heatmap1,ax_heatmap2,ax_heatmap3]:\n",
    "        ax.axvline(x=len(Cardio126_balancedAge_males),color='red')\n",
    "        \n",
    "        if ax==ax_heatmap1:\n",
    "            x_patients=len(Cardio126_balancedAge_males)/2\n",
    "            x_healthy=len(Cardio126_balancedAge_males)+len(PNP530_balancedAge_males)/2\n",
    "            ax.text(x_patients,5,'Patients',ha='center',va='top',fontsize='x-large')\n",
    "            ax.text(x_healthy,5,'Healthy',ha='center',va='top',fontsize='x-large')\n",
    "            \n",
    "    # add titles for colorbars and for the different heatmaps:\n",
    "    heatmap_item_list=[(ax_heatmap1,ax_colorbar1,'Healthy (0) / Patient (1)'),\n",
    "                       (ax_heatmap2,ax_colorbar2,'# present sequences per cluster'),\n",
    "                       (ax_heatmap3,ax_colorbar3,'Total # of clusters per sample')]\n",
    "    \n",
    "    for item in heatmap_item_list:\n",
    "        ax_heatmap=item[0]; ax_cb=item[1]; text=item[2]\n",
    "        ax_cb.text(0.5,0.65,text, transform=ax_cb.transAxes,ha='center',va='top')\n",
    "        ax_heatmap.text(0,1,text,transform=ax_heatmap.transAxes,ha='left',va='bottom')\n",
    "    \n",
    "    ax_heatmap1.text(-0.075,0.75,'Real',transform=ax_heatmap1.transAxes,ha='left',va='center')\n",
    "    ax_heatmap1.text(-0.075,0.25,'Predicted',transform=ax_heatmap1.transAxes,ha='left',va='center')\n",
    "    ax_heatmap2.text(-0.03,0.5,'Top 100 differentiating sequence clusters',transform=ax_heatmap2.transAxes,\n",
    "                     ha='left',va='center',rotation=90,fontsize='large')\n",
    "    \n",
    "    \n",
    "    \n",
    "    return ax_heatmap1,ax_heatmap2,ax_heatmap3,ax_colorbar1,ax_colorbar2,ax_colorbar3\n",
    "    "
   ]
  },
  {
   "cell_type": "markdown",
   "metadata": {},
   "source": [
    "### run seperately:"
   ]
  },
  {
   "cell_type": "code",
   "execution_count": 42,
   "metadata": {
    "ExecuteTime": {
     "end_time": "2019-03-30T22:06:26.277266Z",
     "start_time": "2019-03-30T22:06:26.273682Z"
    }
   },
   "outputs": [],
   "source": [
    "plt.show()"
   ]
  },
  {
   "cell_type": "code",
   "execution_count": 43,
   "metadata": {
    "ExecuteTime": {
     "end_time": "2019-03-30T22:09:37.616951Z",
     "start_time": "2019-03-30T22:06:27.154803Z"
    }
   },
   "outputs": [
    {
     "name": "stdout",
     "output_type": "stream",
     "text": [
      "('begning of cluster list: ', [u'CASSADGSSYNEQFF', u'CASSLRGQANEKLFF', u'CASSWTGWNSPLHF', u'CASSRTGEQETQYF', u'CASSWTGINSPLHF', u'CATSRDTGYEQYF', u'CASSIRGTYEQYF', u'CASSLGGVGEKLFF', u'CASSWGAGETQYF', u'CASSRTGRQETQYF'])\n",
      "getting data...\n",
      "('sampleByClusterDF_balanced_clusterList.shape: ', (150, 100))\n",
      "calculating sum of relevant clusters in a sample\n",
      "('iscardio_balanced.shape: ', (150, 1))\n",
      "('Y_pred.shape: ', (150, 1))\n",
      "plotting...\n",
      "        cluster_head\n",
      "0    CASSADGSSYNEQFF\n",
      "1    CASSLRGQANEKLFF\n",
      "2     CASSWTGWNSPLHF\n",
      "3     CASSRTGEQETQYF\n",
      "4     CASSWTGINSPLHF\n",
      "5      CATSRDTGYEQYF\n",
      "6      CASSIRGTYEQYF\n",
      "7     CASSLGGVGEKLFF\n",
      "8      CASSWGAGETQYF\n",
      "9     CASSRTGRQETQYF\n",
      "10     CASSDRYTGELFF\n",
      "11     CASSHDRGYEQYF\n",
      "12      CSASGGRDTQYF\n",
      "13    CASRDGQGNYGYTF\n",
      "14     CASSLSWTDTQYF\n",
      "15    CASSGQGGSDTQYF\n",
      "16    CASSYGRSTDTQYF\n",
      "17     CASSYGTLETQYF\n",
      "18    CASSPFLAKNIQYF\n",
      "19      CSVGGKNTEAFF\n",
      "20    CASSIPTSTDTQYF\n",
      "21     CASSDWTGETQYF\n",
      "22    CASSQTQGTYEQYF\n",
      "23    CASSVQGFQETQYF\n",
      "24   CASSPPSGGYNEQFF\n",
      "25   CASSGGLATYNEQFF\n",
      "26   CASSPTSFSTDTQYF\n",
      "27    CASSLARGGYGYTF\n",
      "28     CASSVDRGYEQYF\n",
      "29       CASGQGYEQYF\n",
      "..               ...\n",
      "70     CASSQARPGELFF\n",
      "71   CASSTTGGPQETQYF\n",
      "72   CASSPRDGFSYEQYF\n",
      "73    CASSQGGQTDTQYF\n",
      "74   CASSSGGAPYNEQFF\n",
      "75    CASSITGNSYEQYF\n",
      "76   CASSVFGGSTDTQYF\n",
      "77     CASSFTENTEAFF\n",
      "78   CASSLGALSYNEQFF\n",
      "79     CASRLGFQETQYF\n",
      "80   CASSQVQGGTGELFF\n",
      "81    CASSITGTSYEQYF\n",
      "82    CASSNGGDTDTQYF\n",
      "83    CASSSGAGRETQYF\n",
      "84     CASSLERAGEQYF\n",
      "85    CASSLGHATDTQYF\n",
      "86   CASSLEGSGANVLTF\n",
      "87    CASSFSQGGYEQYF\n",
      "88   CASSGWGSGANVLTF\n",
      "89     CASSLRVNSPLHF\n",
      "90    CASSLAGGGSPLHF\n",
      "91   CASRGGGANTGELFF\n",
      "92        CASGVDTQYF\n",
      "93    CASSPALAKNIQYF\n",
      "94     CASSQVGDYGYTF\n",
      "95       CASSYGVEQYF\n",
      "96       CSVVLGYEQYF\n",
      "97    CASSPSGISYEQYF\n",
      "98  CASSPSSGGSTDTQYF\n",
      "99      CASSLRSHEQYF\n",
      "\n",
      "[100 rows x 1 columns]\n",
      "getting seqID info\n",
      "getting info for each cluster...\n",
      "0\n",
      "1\n",
      "2\n",
      "3\n",
      "4\n",
      "5\n",
      "6\n",
      "7\n",
      "8\n",
      "9\n",
      "10\n",
      "11\n",
      "12\n",
      "13\n",
      "14\n",
      "15\n",
      "16\n",
      "17\n",
      "18\n",
      "19\n",
      "20\n",
      "21\n",
      "22\n",
      "23\n",
      "24\n",
      "25\n",
      "26\n",
      "27\n",
      "28\n",
      "29\n",
      "30\n",
      "31\n",
      "32\n",
      "33\n",
      "34\n",
      "35\n",
      "36\n",
      "37\n",
      "(2,)\n",
      "sequence CASSPRDGQETQYF has more than 1 annotations\n",
      "CASSPRDGQETQYF          CMV\n",
      "CASSPRDGQETQYF    Influenza\n",
      "Name: combined annotation_list_clean, dtype: object\n",
      "38\n",
      "39\n",
      "40\n",
      "41\n",
      "42\n",
      "43\n",
      "44\n",
      "45\n",
      "46\n",
      "47\n",
      "48\n",
      "49\n",
      "50\n",
      "51\n",
      "52\n",
      "53\n",
      "54\n",
      "55\n",
      "56\n",
      "57\n",
      "58\n",
      "59\n",
      "60\n",
      "61\n",
      "62\n",
      "63\n",
      "64\n",
      "65\n",
      "66\n",
      "67\n",
      "68\n",
      "69\n",
      "70\n",
      "71\n",
      "72\n",
      "73\n",
      "74\n",
      "75\n",
      "76\n",
      "77\n",
      "78\n",
      "79\n",
      "80\n",
      "81\n",
      "82\n",
      "83\n",
      "84\n",
      "85\n",
      "86\n",
      "87\n",
      "88\n",
      "89\n",
      "90\n",
      "91\n",
      "92\n",
      "93\n",
      "94\n",
      "95\n",
      "96\n",
      "97\n",
      "98\n",
      "99\n",
      "get data...\n",
      "merging info...\n",
      "generating figure...\n",
      "('max val is: ', 6.0)\n",
      "generating heat map1\n",
      "generating heat map2...\n",
      "generating heat map 3...\n"
     ]
    },
    {
     "data": {
      "image/png": "[encoded data removed]",
      "text/plain": [
       "<matplotlib.figure.Figure at 0x7f6a71abf910>"
      ]
     },
     "metadata": {},
     "output_type": "display_data"
    }
   ],
   "source": [
    "### C:\n",
    "fig = plt.figure(figsize=(20, 12))\n",
    "gs01 = gridspec.GridSpec(126, 3, wspace=0, hspace=0)\n",
    "\n",
    "ax1=plt.Subplot(fig,gs01[:4,:]) ## isCardio heatmap\n",
    "fig.add_subplot(ax1)\n",
    "ax2=plt.Subplot(fig,gs01[10:110,:]) ## clusters heatmap\n",
    "fig.add_subplot(ax2)\n",
    "ax3=plt.Subplot(fig,gs01[116:118,:]) ## clustersummary heatmap\n",
    "fig.add_subplot(ax3)\n",
    "\n",
    "ax4=plt.Subplot(fig,gs01[120:,0]) ## isCardio colorbar\n",
    "fig.add_subplot(ax4)\n",
    "ax5=plt.Subplot(fig,gs01[120:,1]) ## cluaters colorbar\n",
    "fig.add_subplot(ax5)\n",
    "ax6=plt.Subplot(fig,gs01[120:,2]) ## cluaters sum colorbar\n",
    "fig.add_subplot(ax6)\n",
    "\n",
    "ax1,ax2,ax3,ax4,ax5,ax6 = fig3C_topClusters_heatmap(ax_heatmap1 = ax1, ax_heatmap2 = ax2, ax_heatmap3 = ax3,\n",
    "                          ax_colorbar1 = ax4, ax_colorbar2 = ax5, ax_colorbar3 = ax6)\n",
    "\n",
    "plt.show()\n",
    "\n"
   ]
  },
  {
   "cell_type": "markdown",
   "metadata": {},
   "source": [
    "### plot 3C inside figure 3:"
   ]
  },
  {
   "cell_type": "code",
   "execution_count": null,
   "metadata": {
    "ExecuteTime": {
     "end_time": "2019-03-30T21:53:07.466024Z",
     "start_time": "2019-03-30T21:51:47.284Z"
    }
   },
   "outputs": [],
   "source": [
    "plt.show()"
   ]
  },
  {
   "cell_type": "markdown",
   "metadata": {},
   "source": [
    "the function remove_spines was copied to generalFiguresFunctions.py"
   ]
  },
  {
   "cell_type": "code",
   "execution_count": null,
   "metadata": {
    "ExecuteTime": {
     "end_time": "2019-03-30T21:53:07.468133Z",
     "start_time": "2019-03-30T21:51:47.289Z"
    }
   },
   "outputs": [],
   "source": [
    "fig = plt.figure(figsize=(25, 16))\n",
    "gs0 = gridspec.GridSpec(6, 5, wspace=0.5, hspace=0.6)\n",
    "\n",
    "#add sub-figure letters and remove spines:\n",
    "ax = plt.gca()\n",
    "plt.text(0,1.02,'A',ha='right',va='bottom',transform=ax.transAxes,fontsize='xx-large',fontweight='bold')\n",
    "plt.text(0,0.66,'B',ha='right',va='bottom',transform=ax.transAxes,fontsize='xx-large',fontweight='bold')\n",
    "plt.text(0.42,1.02,'C',ha='right',va='bottom',transform=ax.transAxes,fontsize='xx-large',fontweight='bold')\n",
    "\n",
    "remove_spines(removeFigBorders=True)\n",
    "\n",
    "### A:\n",
    "ax1 = plt.Subplot(fig, gs0[:2, :2])\n",
    "fig.add_subplot(ax1)\n",
    "ax1,df=compare_sharing_rate(ax1,useExistingDF=True)\n",
    "\n",
    "## B:\n",
    "# divide subplot into sub-subplots\n",
    "gs00 = gridspec.GridSpecFromSubplotSpec(3, 1, subplot_spec=gs0[2:, :2],wspace=0, hspace=0.2)\n",
    "ax21=plt.Subplot(fig,gs00[:2,:]) ## isCardio heatmap\n",
    "fig.add_subplot(ax21)\n",
    "ax22=plt.Subplot(fig,gs00[2,:]) ## clusters heatmap\n",
    "fig.add_subplot(ax22)\n",
    "\n",
    "ax_PCoA=ax21\n",
    "ax_PCoA_dist=ax22\n",
    "\n",
    "ax_PCoA,ax_PCoA_dist=fig3B_plot_PCoA_balancedMales(ax_PCoA,ax_PCoA_dist)\n",
    "\n",
    "\n",
    "\n",
    "# ### C:\n",
    "# ax3 = plt.Subplot(fig, gs0[:, 2:])\n",
    "# fig.add_subplot(ax3)\n",
    "\n",
    "# divide subplot into sub-subplots\n",
    "gs01 = gridspec.GridSpecFromSubplotSpec(126, 3, subplot_spec=gs0[:, 2:],wspace=0, hspace=0)\n",
    "ax4=plt.Subplot(fig,gs01[:4,:]) ## isCardio heatmap\n",
    "fig.add_subplot(ax4)\n",
    "ax5=plt.Subplot(fig,gs01[10:110,:]) ## clusters heatmap\n",
    "fig.add_subplot(ax5)\n",
    "ax6=plt.Subplot(fig,gs01[116:118,:]) ## clustersummary heatmap\n",
    "fig.add_subplot(ax6)\n",
    "\n",
    "ax7=plt.Subplot(fig,gs01[120:,0]) ## isCardio colorbar\n",
    "fig.add_subplot(ax7)\n",
    "ax8=plt.Subplot(fig,gs01[120:,1]) ## clusters colorbar\n",
    "fig.add_subplot(ax8)\n",
    "ax9=plt.Subplot(fig,gs01[120:,2]) ## clusters sum colorbar\n",
    "fig.add_subplot(ax9)\n",
    "\n",
    "ax4,ax5,ax6,ax7,ax8,ax9 = fig3C_topClusters_heatmap(ax_heatmap1 = ax4, ax_heatmap2 = ax5, ax_heatmap3 = ax6,\n",
    "                          ax_colorbar1 = ax7, ax_colorbar2 = ax8, ax_colorbar3 = ax9)\n",
    "\n",
    "for ax in [ax1,ax21,ax22]:\n",
    "    ax=remove_spines(ax=ax)\n",
    "    \n",
    "for ax in [ax4,ax5,ax6,ax7,ax8,ax9]:\n",
    "    ax=remove_spines(ax=ax,removeFigBorders=True)\n",
    "\n",
    "# ## save figure:\n",
    "# plt.subplots_adjust(left=None, bottom=None, right=None, top=None, wspace=0.45, hspace=0.5)\n",
    "fig.savefig(FIG3_DIR + 'figure3_%s.png' % cdate, dpi=300)\n",
    "\n",
    "print 'Finished figure 3!!'\n",
    "\n",
    "\n",
    "\n",
    "\n",
    "plt.show()"
   ]
  },
  {
   "cell_type": "code",
   "execution_count": null,
   "metadata": {},
   "outputs": [],
   "source": []
  },
  {
   "cell_type": "code",
   "execution_count": null,
   "metadata": {},
   "outputs": [],
   "source": []
  },
  {
   "cell_type": "markdown",
   "metadata": {},
   "source": [
    "#  copy all necessary functions to .py files! generate .py file for figure 2 and execute!!!!!"
   ]
  },
  {
   "cell_type": "markdown",
   "metadata": {},
   "source": [
    "# old stuff"
   ]
  },
  {
   "cell_type": "markdown",
   "metadata": {},
   "source": [
    "## 3C: Fisher manhattan plot"
   ]
  },
  {
   "cell_type": "markdown",
   "metadata": {},
   "source": [
    "### generate manahhatn plot"
   ]
  },
  {
   "cell_type": "code",
   "execution_count": null,
   "metadata": {
    "ExecuteTime": {
     "end_time": "2019-03-30T21:53:07.470190Z",
     "start_time": "2019-03-30T21:51:47.297Z"
    }
   },
   "outputs": [],
   "source": [
    "# get fisher results:\n",
    "Fisher_res=pd.read_excel(CLUSTER_DATA_DIR+'Fisher_MW_comparisons/\\\n",
    "Fisher_MW_results_PNP530_balancedAge_males_prodClusRed_Cardio126_balancedAge_males_prodClusRed_percShared01_percTooMany085.xlsx')\n",
    "\n",
    "Fisher_res.head()"
   ]
  },
  {
   "cell_type": "code",
   "execution_count": null,
   "metadata": {
    "ExecuteTime": {
     "end_time": "2019-03-30T21:53:07.472234Z",
     "start_time": "2019-03-30T21:51:47.300Z"
    }
   },
   "outputs": [],
   "source": [
    "# calculate -log10\n",
    "Fisher_res_small=Fisher_res[['cluster_head','p_MW']]\n",
    "Fisher_res_small['-log10p']=-np.log10(Fisher_res_small['p_MW'])\n",
    "Fisher_res_small=Fisher_res_small.set_index('cluster_head').sort_index()\n",
    "Fisher_res_small.head()"
   ]
  },
  {
   "cell_type": "code",
   "execution_count": null,
   "metadata": {
    "ExecuteTime": {
     "end_time": "2019-03-30T21:53:07.474241Z",
     "start_time": "2019-03-30T21:51:47.303Z"
    }
   },
   "outputs": [],
   "source": [
    "-np.log10(0.0000012)"
   ]
  },
  {
   "cell_type": "code",
   "execution_count": null,
   "metadata": {
    "ExecuteTime": {
     "end_time": "2019-03-30T21:53:07.476356Z",
     "start_time": "2019-03-30T21:51:47.306Z"
    }
   },
   "outputs": [],
   "source": [
    "# sort by ab and plot\n",
    "fig,ax=plt.subplots()\n",
    "\n",
    "\n",
    "\n",
    "ax.scatter(range(Fisher_res_small.shape[0]),Fisher_res_small['-log10p'],color='black',alpha=0.4,s=3)\n",
    "ax.set_xlim(0,Fisher_res_small.shape[0])\n",
    "ax.set_ylim(0,Fisher_res_small['-log10p'].max()+1)\n",
    "# ax.plot(range(Fisher_res_small.shape[0]),-np.log10(0.0000012),color='black', linewidth=3,linestyle='--')\n",
    "ax.axhline(y=-np.log10(0.0000012))\n",
    "plt.show()"
   ]
  },
  {
   "cell_type": "markdown",
   "metadata": {},
   "source": [
    "### cluster the clusters by similarity (correlation matrix)\n",
    "use healthy people data"
   ]
  },
  {
   "cell_type": "code",
   "execution_count": null,
   "metadata": {
    "ExecuteTime": {
     "end_time": "2019-03-30T21:53:07.478363Z",
     "start_time": "2019-03-30T21:51:47.309Z"
    }
   },
   "outputs": [],
   "source": [
    "sampleByClusterDF_small"
   ]
  },
  {
   "cell_type": "code",
   "execution_count": null,
   "metadata": {
    "ExecuteTime": {
     "end_time": "2019-03-30T21:53:07.480362Z",
     "start_time": "2019-03-30T21:51:47.313Z"
    }
   },
   "outputs": [],
   "source": [
    "sampleByClusterDF_small.corr()"
   ]
  },
  {
   "cell_type": "code",
   "execution_count": null,
   "metadata": {
    "ExecuteTime": {
     "end_time": "2019-03-30T21:53:07.482383Z",
     "start_time": "2019-03-30T21:51:47.315Z"
    }
   },
   "outputs": [],
   "source": [
    "sampleByClusterDF=pd.read_pickle('/net/mraid08/export/jafar/Microbiome/Analyses/ShaniBAF/\\\n",
    "sharingAnalysis/seqClusters_allProd_maxdist1/sampleByClusterDF_cohortfiltering005-085perc_dropped.dat')\n",
    "sampleByClusterDF_small=sampleByClusterDF.iloc[:10,:10]\n",
    "g=sns.clustermap(sampleByClusterDF_small.corr(), center=0, cmap=\"vlag\",\n",
    "               linewidths=.75, figsize=(13, 13))\n",
    "\n",
    "plt.show()"
   ]
  },
  {
   "cell_type": "markdown",
   "metadata": {},
   "source": [
    "### plot again manhattan plot, this time the clusters are orderd by similarity clusters"
   ]
  },
  {
   "cell_type": "code",
   "execution_count": null,
   "metadata": {},
   "outputs": [],
   "source": []
  },
  {
   "cell_type": "code",
   "execution_count": null,
   "metadata": {},
   "outputs": [],
   "source": []
  }
 ],
 "metadata": {
  "kernelspec": {
   "display_name": "Python 2",
   "language": "python",
   "name": "python2"
  },
  "language_info": {
   "codemirror_mode": {
    "name": "ipython",
    "version": 2
   },
   "file_extension": ".py",
   "mimetype": "text/x-python",
   "name": "python",
   "nbconvert_exporter": "python",
   "pygments_lexer": "ipython2",
   "version": "2.7.8"
  },
  "toc": {
   "nav_menu": {},
   "number_sections": false,
   "sideBar": true,
   "skip_h1_title": false,
   "toc_cell": false,
   "toc_position": {
    "height": "573px",
    "left": "0px",
    "right": "20px",
    "top": "135px",
    "width": "250px"
   },
   "toc_section_display": "block",
   "toc_window_display": true
  },
  "varInspector": {
   "cols": {
    "lenName": 16,
    "lenType": 16,
    "lenVar": 40
   },
   "kernels_config": {
    "python": {
     "delete_cmd_postfix": "",
     "delete_cmd_prefix": "del ",
     "library": "var_list.py",
     "varRefreshCmd": "print(var_dic_list())"
    },
    "r": {
     "delete_cmd_postfix": ") ",
     "delete_cmd_prefix": "rm(",
     "library": "var_list.r",
     "varRefreshCmd": "cat(var_dic_list()) "
    }
   },
   "types_to_exclude": [
    "module",
    "function",
    "builtin_function_or_method",
    "instance",
    "_Feature"
   ],
   "window_display": false
  }
 },
 "nbformat": 4,
 "nbformat_minor": 2
}
