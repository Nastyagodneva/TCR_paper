{
 "cells": [
  {
   "cell_type": "markdown",
   "metadata": {},
   "source": [
    "# imports:"
   ]
  },
  {
   "cell_type": "code",
   "execution_count": 1,
   "metadata": {
    "ExecuteTime": {
     "end_time": "2018-10-06T22:54:58.370151Z",
     "start_time": "2018-10-06T22:54:53.864895Z"
    }
   },
   "outputs": [
    {
     "name": "stdout",
     "output_type": "stream",
     "text": [
      "done1\n",
      "stop\n",
      "stop\n",
      "done1\n",
      "stop\n",
      "done\n",
      "done\n",
      "done\n",
      "done\n",
      "stop\n",
      "stop\n",
      "end of function!!!\n"
     ]
    },
    {
     "name": "stderr",
     "output_type": "stream",
     "text": [
      "/usr/wisdom/python/lib/python2.7/site-packages/h5py/__init__.py:36: FutureWarning: Conversion of the second argument of issubdtype from `float` to `np.floating` is deprecated. In future, it will be treated as `np.float64 == np.dtype(float).type`.\n",
      "  from ._conv import register_converters as _register_converters\n"
     ]
    },
    {
     "name": "stdout",
     "output_type": "stream",
     "text": [
      "end of function!!!\n"
     ]
    }
   ],
   "source": [
    "from os import listdir,mkdir,makedirs\n",
    "from os.path import isfile, join, isdir,exists\n",
    "import pandas as pd\n",
    "import numpy as np\n",
    "from scipy import stats\n",
    "import re\n",
    "import matplotlib.pyplot as plt\n",
    "from matplotlib.backends.backend_pdf import PdfPages\n",
    "from myplots import roundup, rounddown, find_decimal_fold, percentile_cut_off, rarefaction_calc, rarefaction_plot,draw_correlation_scatter\n",
    "from matplotlib.ticker import FormatStrFormatter\n",
    "import cPickle as pickle\n",
    "from Bio.SeqUtils import GC\n",
    "import seaborn as sns\n",
    "import random\n",
    "from scipy.stats import pearsonr,fisher_exact\n",
    "from skbio.diversity.alpha import shannon, simpson, berger_parker_d\n",
    "\n",
    "from pop_organize import get_sample_data, get_sample_with_dfs\n",
    "from SufficientStatistics import *\n",
    "from MyFunctionsShani import *\n",
    "import math\n",
    "from myplots import roundup, rounddown, find_decimal_fold\n",
    "from skbio.stats.distance import mantel\n",
    "from scipy.spatial.distance import braycurtis, pdist, euclidean\n",
    "\n",
    "\n",
    "from GeneralFeaturePhenotypeInteractions.Feature_phenotype_functions import * \n",
    "from TCR_microbiome_interactions.TCR_microbiome_interactions_functions import *\n",
    "from TCR_microbiome_interactions.TCR_microbiome_interactions_functions2 import *\n",
    "from SampleLists.SampleFileFunctions import *\n",
    "from PhenotypicData.PhenotypeGenerationFunctions import *\n",
    "from CardioProject.CardioFunctions import *\n",
    "from PredictionPipeline.PredictionFunctions import *\n",
    "from TCR_feature_generation.SubsamplingFunctions import *\n",
    "\n",
    "import os\n",
    "from Utils import cacheOnDisk\n",
    "from SegalQueue.qp import qp,fakeqp\n",
    "from addloglevels import sethandlers\n",
    "\n",
    "#ML imports:\n",
    "from xgboost import XGBClassifier\n",
    "import lightgbm as lgb\n",
    "from collections import OrderedDict\n",
    "from sklearn.model_selection import GroupKFold,StratifiedKFold, KFold\n",
    "import statsmodels.formula.api as sm\n",
    "from sklearn.linear_model import LogisticRegression\n",
    "import shap\n",
    "from sklearn import metrics, preprocessing\n",
    "from sklearn.svm import LinearSVC\n",
    "from sklearn.feature_selection import SelectFromModel,SelectKBest,chi2,mutual_info_classif,f_classif\n",
    "from sklearn.naive_bayes import GaussianNB\n",
    "\n",
    "MyPath='/net/mraid08/export/genie/Lab/Personal/ShaniBAF'"
   ]
  },
  {
   "cell_type": "code",
   "execution_count": 2,
   "metadata": {
    "ExecuteTime": {
     "end_time": "2018-10-06T22:55:00.534186Z",
     "start_time": "2018-10-06T22:55:00.526538Z"
    }
   },
   "outputs": [
    {
     "data": {
      "text/plain": [
       "'07102018'"
      ]
     },
     "execution_count": 2,
     "metadata": {},
     "output_type": "execute_result"
    }
   ],
   "source": [
    "import time\n",
    "cdate=str(time.strftime(\"%d%m%Y\"))\n",
    "cdate"
   ]
  },
  {
   "cell_type": "markdown",
   "metadata": {},
   "source": [
    "# Figure 1:"
   ]
  },
  {
   "cell_type": "markdown",
   "metadata": {},
   "source": [
    "## B. feature distribution"
   ]
  },
  {
   "cell_type": "markdown",
   "metadata": {},
   "source": [
    "1. load feature files\n",
    "2. choose 9 features to compare\n",
    "3. generate plot with subplots\n",
    "4. plot each subplot with the distribution plotting funcion (add p-values etc.) - try to plot KDE!"
   ]
  },
  {
   "cell_type": "markdown",
   "metadata": {},
   "source": [
    "### generate new feature file:"
   ]
  },
  {
   "cell_type": "markdown",
   "metadata": {
    "ExecuteTime": {
     "end_time": "2018-09-20T08:23:26.232375Z",
     "start_time": "2018-09-20T08:23:26.195441Z"
    }
   },
   "source": [
    "the function complete_TCRfeatureExtractionForDataset was copied to TCR_feature_generation.py"
   ]
  },
  {
   "cell_type": "code",
   "execution_count": null,
   "metadata": {
    "ExecuteTime": {
     "start_time": "2018-09-20T08:05:32.791Z"
    }
   },
   "outputs": [],
   "source": [
    "# GENERATE FEATURE DF FOR PNP530:\n",
    "datasetFolder='%s/TCR_real_data' %MyPath\n",
    "print datasetFolder\n",
    "datasetName='PNP530'\n",
    "\n",
    "complete_TCRfeatureExtractionForDataset(datasetFolder,datasetName)"
   ]
  },
  {
   "cell_type": "code",
   "execution_count": null,
   "metadata": {
    "ExecuteTime": {
     "end_time": "2018-09-20T08:03:39.291152Z",
     "start_time": "2018-09-20T08:03:00.099588Z"
    }
   },
   "outputs": [],
   "source": [
    "# GENERATE FEATURE DF FOR Cardio126:\n",
    "datasetFolder='%s/TCR_real_data/CardioSamples' %MyPath\n",
    "print datasetFolder\n",
    "datasetName='Cardio126'\n",
    "\n",
    "complete_TCRfeatureExtractionForDataset(datasetFolder,datasetName)"
   ]
  },
  {
   "cell_type": "code",
   "execution_count": null,
   "metadata": {},
   "outputs": [],
   "source": [
    "f1='%s/TCR_real_data/featureSummaryDFs/PNP530_allFeatures' %MyPath\n",
    "PNP530_allFeatures=pd.read_pickle(f1)\n",
    "\n",
    "print PNP530_allFeatures.shape\n",
    "\n",
    "f2='%s/TCR_real_data/CardioSamples/featureSummaryDFs/Cardio126_allFeatures' %MyPath\n",
    "Cardio126_allFeatures=pd.read_pickle(f2)\n",
    "\n",
    "print Cardio126_allFeatures.shape"
   ]
  },
  {
   "cell_type": "markdown",
   "metadata": {},
   "source": [
    "### remove correlated, constant and fillnas:"
   ]
  },
  {
   "cell_type": "code",
   "execution_count": null,
   "metadata": {
    "ExecuteTime": {
     "end_time": "2018-09-20T10:50:16.406286Z",
     "start_time": "2018-09-20T10:29:36.314012Z"
    }
   },
   "outputs": [],
   "source": [
    "# remove correlated:\n",
    "filterFeaturesByCorr=1\n",
    "\n",
    "ss=None\n",
    "repeat=None\n",
    "genFeatureDF=True\n",
    "with open('/net/mraid08/export/genie/Lab/Personal/ShaniBAF/Sample files/BD lists/PNP530','rb') as fp:\n",
    "    PNP530=pickle.load(fp)\n",
    "with open('/net/mraid08/export/genie/Lab/Personal/ShaniBAF/Sample files/BD lists/Cardio126','rb') as fp:\n",
    "    Cardio126=pickle.load(fp)\n",
    "sampleList=PNP530+Cardio126\n",
    "sampleListName='PNP530Cardio126'\n",
    "print len(sampleList)\n",
    "\n",
    "\n",
    "TCRfeatureDF3=removeRedundantFeatures(ss,repeat,filterFeaturesByCorr,sampleList,sampleListName,genFeatureDF)\n",
    " "
   ]
  },
  {
   "cell_type": "code",
   "execution_count": null,
   "metadata": {
    "ExecuteTime": {
     "end_time": "2018-09-20T11:00:22.853565Z",
     "start_time": "2018-09-20T11:00:18.731949Z"
    },
    "scrolled": true
   },
   "outputs": [],
   "source": [
    "# explore file:\n",
    "f1='%s/TCR_real_data/PNP530Cardio126Combined/featureSummaryDFs/PNP530Cardio126_filteredByPNP530Cardio126_allFeatures_noCorrelated' %MyPath\n",
    "featureDF=pd.read_pickle(f1)\n",
    "df=explore_feature_table(featureDF)\n",
    "\n",
    "f3='%s/TCR_real_data/PNP530Cardio126Combined/featureSummaryDFs/PNP530Cardio126_filteredByPNP530Cardio126_allFeatures_\\\n",
    "noCorrelated_ANALYSIS.xlsx' %MyPath\n",
    "df.to_excel(f3)"
   ]
  },
  {
   "cell_type": "code",
   "execution_count": null,
   "metadata": {
    "ExecuteTime": {
     "end_time": "2018-09-20T11:02:07.942887Z",
     "start_time": "2018-09-20T11:02:07.927883Z"
    }
   },
   "outputs": [],
   "source": [
    "# remove constant:\n",
    "# remove constant columns - there are no such columns now\n",
    "constantdf=df[df['Type']=='constant']\n",
    "constantVars=constantdf['columns'].tolist()\n",
    "print constantVars\n",
    "print featureDF.shape\n",
    "featureDF=featureDF.drop(constantVars,axis=1)\n",
    "print featureDF.shape"
   ]
  },
  {
   "cell_type": "code",
   "execution_count": null,
   "metadata": {
    "ExecuteTime": {
     "end_time": "2018-09-20T11:02:34.079612Z",
     "start_time": "2018-09-20T11:02:33.947833Z"
    }
   },
   "outputs": [],
   "source": [
    "#fillna all gene usage features:\n",
    "colsTofill=[x for x in featureDF.columns.values if 'norm' not in x]\n",
    "print len(colsTofill)\n",
    "print len(featureDF.columns)\n",
    "\n",
    "featureDF[colsTofill]=featureDF[colsTofill].fillna(0)"
   ]
  },
  {
   "cell_type": "code",
   "execution_count": null,
   "metadata": {
    "ExecuteTime": {
     "end_time": "2018-09-20T11:03:37.825974Z",
     "start_time": "2018-09-20T11:03:24.773793Z"
    }
   },
   "outputs": [],
   "source": [
    "f3='%s/TCR_real_data/PNP530Cardio126Combined/featureSummaryDFs/PNP530Cardio126_filteredByPNP530Cardio126_allFeatures_\\\n",
    "noCorrelated_noConsts_filledna.xlsx' %MyPath\n",
    "\n",
    "featureDF.to_excel(f3)\n",
    "\n",
    "f4='%s/TCR_real_data/PNP530Cardio126Combined/featureSummaryDFs/PNP530Cardio126_filteredByPNP530Cardio126_allFeatures_\\\n",
    "noCorrelated_noConsts_filledna' %MyPath\n",
    "\n",
    "featureDF.to_pickle(f4)"
   ]
  },
  {
   "cell_type": "markdown",
   "metadata": {},
   "source": [
    "### generate feature comparison figure:"
   ]
  },
  {
   "cell_type": "code",
   "execution_count": null,
   "metadata": {
    "ExecuteTime": {
     "end_time": "2018-09-20T12:48:55.886150Z",
     "start_time": "2018-09-20T12:48:55.829349Z"
    }
   },
   "outputs": [],
   "source": [
    "# LOAD FEATURE FILE AND DIVIDE INTO PNP AND CARDIO:\n",
    "\n",
    "f1='%s/TCR_real_data/PNP530Cardio126Combined/featureSummaryDFs/PNP530Cardio126_filteredByPNP530Cardio126_\\\n",
    "allFeatures_noCorrelated_noConsts_filledna' %MyPath\n",
    "featureDF=pd.read_pickle(f1)\n",
    "\n",
    "# LOAD SAMPLE LISTS:\n",
    "with open('/net/mraid08/export/genie/Lab/Personal/ShaniBAF/Sample files/BD lists/PNP530','rb') as fp:\n",
    "    PNP530=pickle.load(fp)\n",
    "with open('/net/mraid08/export/genie/Lab/Personal/ShaniBAF/Sample files/BD lists/Cardio126','rb') as fp:\n",
    "    Cardio126=pickle.load(fp)\n",
    "    \n",
    "#GENERATE pnp feature file:\n",
    "PNPfeatureDF=featureDF.loc[PNP530,:]\n",
    "print 'PNP feature df shape is %s_%s' %(PNPfeatureDF.shape[0],PNPfeatureDF.shape[1])\n",
    "print PNPfeatureDF.iloc[:4,:4]\n",
    "print PNPfeatureDF['V18-01_T'].head()\n",
    "\n",
    "#GENERATE cardio feature file:\n",
    "CardiofeatureDF=featureDF.loc[Cardio126,:]\n",
    "print 'Cardio feature df shape is %s_%s' %(CardiofeatureDF.shape[0],CardiofeatureDF.shape[1])\n",
    "print CardiofeatureDF.iloc[:4,:4]\n",
    "print CardiofeatureDF['V18-01_T'].head()\n",
    "    \n"
   ]
  },
  {
   "cell_type": "code",
   "execution_count": null,
   "metadata": {
    "ExecuteTime": {
     "end_time": "2018-09-20T12:49:04.334435Z",
     "start_time": "2018-09-20T12:48:59.251346Z"
    },
    "scrolled": true
   },
   "outputs": [],
   "source": [
    "# choose most interesting features to present:\n",
    "\n",
    "#clonality and diversity:  meanClonal_nt_T, topClonal_nt_T, shannon_nt_T, normSeqNums_per2000_NT_T\n",
    "# length: n1Insertion_mean_T,n2Insertion_mean_T, cdr3Length_mean_T\n",
    "#gene usage: V05_J02_T,V18_T,V25_T\n",
    "\n",
    "interestingFeatures=['frequencyCount (%)_mean_T','top10clonal_nt_T','shannon_nt_T','n1Insertion_mean_T','n2Insertion_mean_T',\n",
    "                    'cdr3Length_mean_T','V05_J02_T','V18_J02_T','V25_T']\n",
    "\n",
    "fig1,axes=plt.subplots(nrows=3, ncols=3,figsize=(16,12),sharey=True)\n",
    "\n",
    "for n,feature in enumerate(interestingFeatures):\n",
    "    print n,feature\n",
    "    ax=axes.flatten()[n]\n",
    "    dataList=[('Healthy',PNPfeatureDF[feature]),('Patients',CardiofeatureDF[feature])]\n",
    "    title=feature\n",
    "    ax,ks_p_cohort1_cohort2,t_p_cohort1_cohort2,p_Anov,filename=plotHistComprison(dataList,ax,title)\n",
    "    if n!=0:\n",
    "        ax.legend('')\n",
    "    else:\n",
    "        ax.legend(bbox_to_anchor=(0.5,1.5),fontsize=22)\n",
    "              \n",
    "fig1.suptitle('TCR Feature Comparison: Healthy vs. Controls', fontsize=22)\n",
    "fig1.subplots_adjust(left=0.01,right=0.99,bottom=0.02, hspace=0.3,top=0.85)\n",
    "figName='1B-TCR feature comparison Healthy vs controls'\n",
    "folder='%s/Presentations and Manuscripts/ImmunoRepertoire conference - Paris2018/Poster' %MyPath\n",
    "figFile='%s/%s' %(folder,figName)\n",
    "fig1.savefig(figFile,dpi=300)\n",
    "plt.show()"
   ]
  },
  {
   "cell_type": "code",
   "execution_count": null,
   "metadata": {},
   "outputs": [],
   "source": []
  },
  {
   "cell_type": "code",
   "execution_count": null,
   "metadata": {
    "ExecuteTime": {
     "end_time": "2018-09-20T09:05:39.067187Z",
     "start_time": "2018-09-20T09:05:39.040913Z"
    }
   },
   "outputs": [],
   "source": [
    "f1='%s/TCR_real_data/CardioSamples/descriptiveStatsSamplesForAnalysis/Total/ClonalityFeatures/BD1061' %MyPath\n",
    "df=pd.read_pickle(f1)\n",
    "df.head()"
   ]
  },
  {
   "cell_type": "markdown",
   "metadata": {},
   "source": [
    "## C. phenotype-TCR feature correlations"
   ]
  },
  {
   "cell_type": "markdown",
   "metadata": {},
   "source": [
    "1. generate a matrix of phenotype by feature figures - correlation or histogram comparisons, depnding on datatype\n",
    "2. calculate nTest and pCut off according to bonferroni correction\n",
    "3. mark all subplots with sig p value after correction\n",
    "4. decide which columns/rows to delete and repeat all\n",
    "5. make nicer plot and save.\n",
    "6. copy functions to .py and delete from notebook"
   ]
  },
  {
   "cell_type": "markdown",
   "metadata": {},
   "source": [
    "### collect relvenat phenotypes and features:"
   ]
  },
  {
   "cell_type": "code",
   "execution_count": null,
   "metadata": {
    "ExecuteTime": {
     "end_time": "2018-09-25T11:09:44.275859Z",
     "start_time": "2018-09-25T11:09:43.691920Z"
    }
   },
   "outputs": [],
   "source": [
    "with open('/net/mraid08/export/genie/Lab/Personal/ShaniBAF/Sample files/BD lists/PNP530','rb') as fp:\n",
    "        PNP530=pickle.load(fp)\n",
    "\n",
    "#get relevant phenotypes:\n",
    "f1='/net/mraid08/export/genie/Lab/Personal/ShaniBAF/TCR_real_data/NewPhenotypicData/newPhenotypesPNPAllInfo_withDummies.xlsx'\n",
    "PNP530_phen_new_dummies=pd.read_excel(f1).set_index('BD')\n",
    "PNP530_phen_new_dummies=PNP530_phen_new_dummies.loc[PNP530,:]\n",
    "corr_phens=PNP530_phen_new_dummies[['Age','BMI','Total Cholesterol','HbA1C','Glucose','Gender','Smoking Status']]\n",
    "print corr_phens.head()\n",
    "\n",
    "#get relevant features:\n",
    "featureDFfile='%s/TCR_real_data/PNP530Cardio126Combined/featureSummaryDFs/PNP530Cardio126_filteredByPNP530Cardio126\\\n",
    "_allFeatures_noCorrelated_noConsts_filledna' %MyPath\n",
    "TCRfeatureDF2=pd.read_pickle(featureDFfile)\n",
    "\n",
    "PNP530featureDF=TCRfeatureDF2.loc[PNP530,:]\n",
    "corr_feats=PNP530featureDF[['normSeqNums_per2000_NT_T','top10clonal_nt_T','frequencyCount (%)_mean_T',\n",
    "                            'shannon_nt_T','cdr3Length_mean_T','n1Insertion_mean_T']]\n",
    "print corr_feats.head()\n",
    "\n",
    "#merge:\n",
    "corr_phens_feats=pd.merge(corr_phens,corr_feats,how='inner',left_index=True,right_index=True)\n",
    "print corr_phens_feats.head()\n",
    "print len(corr_phens_feats)\n",
    "print len(corr_phens)\n",
    "print len(corr_feats)"
   ]
  },
  {
   "cell_type": "markdown",
   "metadata": {},
   "source": [
    "### generate correlation plot"
   ]
  },
  {
   "cell_type": "markdown",
   "metadata": {},
   "source": [
    "the function plot_corr was copied to MyFunctionsShani.py"
   ]
  },
  {
   "cell_type": "code",
   "execution_count": null,
   "metadata": {
    "ExecuteTime": {
     "end_time": "2018-09-25T11:09:53.351768Z",
     "start_time": "2018-09-25T11:09:53.093638Z"
    }
   },
   "outputs": [],
   "source": [
    "data1=PNP530_phen_new_dummies['Age'].tolist()\n",
    "data1name='Age'\n",
    "data2=PNP530featureDF['normSeqNums_per2000_NT_T'].tolist()\n",
    "data2name='normSeqNums_per2000_NT_T'\n",
    "stdToReject=None\n",
    "title=data1name+' vs. '+data2name\n",
    "\n",
    "fig,ax=plt.subplots()\n",
    "\n",
    "plot_corr(data1,data2,data1name,data2name,ax,stdToReject,title)\n",
    "\n",
    "plt.show()"
   ]
  },
  {
   "cell_type": "markdown",
   "metadata": {
    "ExecuteTime": {
     "end_time": "2018-09-25T11:10:01.715961Z",
     "start_time": "2018-09-25T11:10:01.711370Z"
    }
   },
   "source": [
    "the function  plotHistComprison was copied to MyFunctionsShani"
   ]
  },
  {
   "cell_type": "code",
   "execution_count": null,
   "metadata": {
    "ExecuteTime": {
     "end_time": "2018-09-25T11:11:34.236164Z",
     "start_time": "2018-09-25T11:10:15.696108Z"
    }
   },
   "outputs": [],
   "source": [
    "featCols=corr_feats.columns  #define figure columns. additional column of TCRdf distMat will be added\n",
    "phenCols=corr_phens.columns #define figure rows\n",
    "\n",
    "#define figure design according to the number of features and phenotype used:\n",
    "fig1, axes=plt.subplots(nrows=len(phenCols),ncols=(len(featCols)+1),figsize=(4*(len(featCols)+1),3*len(phenCols)))\n",
    "\n",
    "#load TCRdf distMats:\n",
    "f2='%s/TCR_real_data/distanceMatrices/TCRdfminNshared2RAonlyProductiveTruepercShared10OLtrimmed_binary_jaccard_distMat_CONDENSED'  %MyPath\n",
    "binaryTCRdfdistMat_CONDENSED=pd.read_pickle(f2)\n",
    "\n",
    "fig1.text(-0.012+6*0.147,0.92-(0.13*5)/2,'TCR public seq repertoire Jaccard distance',fontsize=20,fontweight='bold',verticalalignment='center',rotation=90 )\n",
    "for i,phenotype in enumerate(phenCols):\n",
    "    fig1.text (0.5,0.93-(i*0.136),phenotype,fontsize=20,fontweight='bold',horizontalalignment='center')\n",
    "    \n",
    "    for j,feature in enumerate(featCols):\n",
    "        fig1.text(-0.012+j*0.147,0.92-(0.13*5)/2,feature,fontsize=20,fontweight='bold',verticalalignment='center',rotation=90 )\n",
    "        fig1.text(-0.012+j*0.147,0.92-(0.13*6),'%s freq' %feature,fontsize=20,fontweight='bold',verticalalignment='center',rotation=90 )\n",
    "        print phenotype\n",
    "        ax=axes[i,j]\n",
    "        if i<5: # generate all subplots with simple correlation:\n",
    "            data1=corr_phens_feats[phenotype].tolist()\n",
    "            data1name=phenotype\n",
    "            data2=corr_phens_feats[feature].tolist()\n",
    "            data2name=feature\n",
    "\n",
    "            ax, nsamples,r,p=plot_corr(data1,data2,data1name,data2name,ax)\n",
    "            ax.set_xlabel('')\n",
    "            ax.set_ylabel('')\n",
    "        else: # generate all subplots that compare histograms between phenotype categories\n",
    "            data=corr_phens_feats[[phenotype,feature]] #generate df that contains one feature and one phenotype\n",
    "            groups=data.groupby(phenotype) #group the df by the phenotype cateogries\n",
    "            dataList=[] #generate datalist constitutes of tuples, each tuple contain a category name and its relevent feature data\n",
    "            print '-groups- length is %s' %len(groups)\n",
    "            for name,group in groups:\n",
    "                tupList=[]\n",
    "                tupList.append(name)\n",
    "                groupData=[x for x in group[feature].tolist() if not np.isnan(x)]\n",
    "                tupList.append(groupData)\n",
    "                tup=tuple(tupList)\n",
    "                dataList.append(tup)\n",
    "\n",
    "            title=None\n",
    "            ax,ks_p_cohort1_cohort2,t_p_cohort1_cohort2,p_Anov,filename=plotHistComprison(dataList,ax,title,\n",
    "                                                        showLegend=True,nBins=10,toAnnotate=False,alpha=0.5,\n",
    "                                                            plotType='kde')  #plot kde histogram for each phen category\n",
    "#             ax.set_ylabel('%s - frequency' %feature,fontsize='medium')\n",
    "            #delete existing text and add another one instead:\n",
    "            if not np.isnan(p_Anov):\n",
    "                ax.annotate('p_Anov=%s' %round(p_Anov,4),xy=(0.02, 0.96), xycoords='axes fraction', \n",
    "    fontsize='x-large', horizontalalignment='left', verticalalignment='top', fontweight='bold',color='red')\n",
    "            else:\n",
    "                ax.annotate('ttest_p=%s' %round(t_p_cohort1_cohort2,4),xy=(0.02, 0.96), xycoords='axes fraction', \n",
    "            fontsize='x-large', horizontalalignment='left', verticalalignment='top', fontweight='bold',color='red')\n",
    "\n",
    "            if j!=0: #add legend only for the left-most subplot\n",
    "                ax.legend('')\n",
    "            else:\n",
    "                ax.legend(bbox_to_anchor=(0.05, 0.95), fontsize='large',loc='upper left')\n",
    "#         if j==3: # add row title:\n",
    "#                 ax.set_title(phenotype, fontsize=24, fontweight='bold')\n",
    "\n",
    "        \n",
    "        ax=axes[i,len(featCols)]\n",
    "        ax.set_xlabel('')\n",
    "        ax.set_ylabel('')\n",
    "    if i<5: #generate the subplots that contains correlation plot for diistmats:\n",
    "        \n",
    "        #load phenDistMat:\n",
    "        f1='%s/TCR_real_data/phenDistMats/PNP530_%s_euclidean_distMat_CONDENSED' %(MyPath,phenotype)\n",
    "        phenDistMat_CONDENSED=pd.read_pickle(f1)\n",
    "        phenDistMat_CONDENSED=phenDistMat_CONDENSED.set_index(['sample1','sample2']).loc[binaryTCRdfdistMat_CONDENSED\\\n",
    ".set_index(['sample1','sample2']).index,:].reset_index() #make sure the data in the phenDistMat is matched\n",
    "                                                                 # to the one in the TCRdf distMat\n",
    "\n",
    "        data2=binaryTCRdfdistMat_CONDENSED['dist'].tolist()\n",
    "        data1=phenDistMat_CONDENSED['dist'].tolist()\n",
    "        data2name='TCR public seq repertoire distance'\n",
    "        data1name='%s distance' %phenotype\n",
    "        ax, nsamples,r,p=plot_corr(data1,data2,data1name,data2name,ax)\n",
    "        ax.set_xlabel('Euclidean distance between samples')\n",
    "        ax.set_ylabel('')\n",
    "    else:\n",
    "        fig1.delaxes(ax)\n",
    "\n",
    "\n",
    "\n",
    "\n",
    "                \n",
    "                      \n",
    "            \n",
    "fig1.suptitle(\"Phenotype-TCR feature interaction in the healthy cohort\", fontsize=26, fontweight='bold')\n",
    "fig1.subplots_adjust(left=0.02,right=0.99,bottom=0.02, wspace=0.5, hspace=0.6,top=0.92)\n",
    "figName='1C-PNP530-Phenotype-TCR feature interaction'\n",
    "folder='%s/Presentations and Manuscripts/ImmunoRepertoire conference - Paris2018/Poster' %MyPath\n",
    "figFile='%s/%s' %(folder,figName)\n",
    "fig1.savefig(figFile,dpi=300,bbox_inches='tight')\n",
    "plt.show()\n",
    "        "
   ]
  },
  {
   "cell_type": "markdown",
   "metadata": {},
   "source": [
    "### calculate p-cut with bonferroni correction:"
   ]
  },
  {
   "cell_type": "code",
   "execution_count": null,
   "metadata": {
    "ExecuteTime": {
     "end_time": "2018-09-25T11:10:01.782412Z",
     "start_time": "2018-09-25T11:09:16.765Z"
    }
   },
   "outputs": [],
   "source": [
    "nTests=47\n",
    "pCut=0.05/47\n",
    "print pCut"
   ]
  },
  {
   "cell_type": "markdown",
   "metadata": {},
   "source": [
    "# figure 2:"
   ]
  },
  {
   "cell_type": "markdown",
   "metadata": {},
   "source": [
    "## A - feature comparison  - p value jitter plot"
   ]
  },
  {
   "cell_type": "markdown",
   "metadata": {},
   "source": [
    "### generate summarizing file:\n",
    "a file containing features,ttest_pvalues,ttest_FDR,ttest_bonferroni for each dataset"
   ]
  },
  {
   "cell_type": "code",
   "execution_count": 18,
   "metadata": {
    "ExecuteTime": {
     "end_time": "2018-10-07T06:08:09.612168Z",
     "start_time": "2018-10-07T06:08:06.242990Z"
    }
   },
   "outputs": [
    {
     "name": "stdout",
     "output_type": "stream",
     "text": [
      "0 (5000, 3)\n",
      "(714, 7)\n",
      "1 (9000, 3)\n",
      "(1434, 7)\n",
      "2 (12500, 3)\n",
      "(2150, 7)\n",
      "(34, 7)\n",
      "['ss5000rep3' 'ss9000rep3' 'ss12500rep3']\n",
      "['ss5000rep3' 'ss9000rep3' 'ss12500rep3']\n",
      "['ss5000rep3' 'ss9000rep3' 'ss12500rep3']\n"
     ]
    },
    {
     "name": "stderr",
     "output_type": "stream",
     "text": [
      "/usr/wisdom/python/lib/python2.7/site-packages/ipykernel_launcher.py:16: FutureWarning: Sorting because non-concatenation axis is not aligned. A future version\n",
      "of pandas will change to not sort by default.\n",
      "\n",
      "To accept the future behavior, pass 'sort=False'.\n",
      "\n",
      "To retain the current behavior and silence the warning, pass 'sort=True'.\n",
      "\n",
      "  app.launch_new_instance()\n"
     ]
    },
    {
     "name": "stdout",
     "output_type": "stream",
     "text": [
      "(2150, 7)\n"
     ]
    },
    {
     "data": {
      "image/png": "[encoded data removed]",
      "text/plain": [
       "<matplotlib.figure.Figure at 0x7f7ae67b1d10>"
      ]
     },
     "metadata": {},
     "output_type": "display_data"
    }
   ],
   "source": [
    "datasetList=[(5000,3),(9000,3),(12500,3)]\n",
    "stat='ks' #'t'/'ks'\n",
    "\n",
    "for n,dataset in enumerate(datasetList):\n",
    "    print n, dataset\n",
    "    ss=dataset[0]\n",
    "    repeat=dataset[1]\n",
    "    \n",
    "    datasetFolder='%s/TCR_real_data/PNP530Cardio126Combined/MatchedSamples/ss%srep%s' %(MyPath,ss,repeat)\n",
    "    featureCompFile='%s/featureSummaryDFs/FeatureMeanSummary_Cardio126_ss%s_rep%s\\\n",
    "CardioMatchedss%srep%s_PNP530_ss%s_rep%sPNPMatchedss%srep%s' %(datasetFolder,ss,repeat,ss,repeat,ss,repeat,ss,repeat)\n",
    "    featureCompDF=pd.read_pickle(featureCompFile)\n",
    "    short=featureCompDF[['%s_p' %stat,'Sig by bonferroni corrected pVal_%s' %stat,'sig. by FDR=0.1_%s' %stat]]\n",
    "    short=short.reset_index().rename(columns={'index':'feature'})\n",
    "    \n",
    "    toadd=pd.DataFrame({'feature':['',''],'%s_p' %stat: [np.nan,np.nan],'Sig by bonferroni corrected pVal_%s' %stat : [0,1],'sig. by FDR=0.1_%s' %stat : [1,1]})\n",
    "    short=pd.concat([short,toadd], ignore_index=True)\n",
    "    \n",
    "    short['dataset']='ss%srep%s' %(dataset[0],dataset[1])\n",
    "    short['dataset_xloc']=n+1/len(datasetList)\n",
    "    short['color1']=short['sig. by FDR=0.1_%s' %stat]+short['Sig by bonferroni corrected pVal_%s' %stat]   \n",
    "    \n",
    "    if n==0:\n",
    "        sumDF=short\n",
    "    else:\n",
    "        sumDF=pd.concat([sumDF,short], ignore_index=True)\n",
    "        \n",
    "    print sumDF.shape\n",
    "\n",
    "\n",
    "\n",
    "noSig=sumDF[(sumDF['sig. by FDR=0.1_%s' %stat]!=1)&(sumDF['Sig by bonferroni corrected pVal_%s' %stat]!=1)]\n",
    "FDRsig=sumDF[(sumDF['sig. by FDR=0.1_%s' %stat]==1)&(sumDF['Sig by bonferroni corrected pVal_%s' %stat]!=1)]\n",
    "bonfSig=sumDF[sumDF['Sig by bonferroni corrected pVal_%s' %stat]==1]\n",
    "print FDRsig.shape\n",
    "\n",
    "print noSig['dataset'].unique()\n",
    "print FDRsig['dataset'].unique()\n",
    "print bonfSig['dataset'].unique()\n",
    "\n",
    "    \n",
    "f1='%s/TCR_real_data/PNP530Cardio126Combined/MatchedSamples/featureComparisonSummary_concat_%s.xlsx' %(MyPath,stat)\n",
    "sumDF.to_excel(f1)\n",
    "    \n",
    "print sumDF.shape\n",
    "\n",
    "fig,ax=plt.subplots()\n",
    "# sns.stripplot(x='dataset',y='%s_p' %stat, data=sumDF, jitter=True, edgecolor='none', alpha=.30,\n",
    "#               hue='color1')\n",
    "\n",
    "try:\n",
    "    sns.stripplot(x='dataset',y='%s_p' %stat, data=bonfSig, jitter=True, edgecolor='none', alpha=.70,\n",
    "              color='red')\n",
    "except:\n",
    "    print \"couldn't plot Bonfsig\"\n",
    "    \n",
    "try:\n",
    "    sns.stripplot(x='dataset',y='%s_p' %stat, data=FDRsig, jitter=True, edgecolor='none', alpha=.70,\n",
    "              color='orange')\n",
    "except:\n",
    "    print \"couldn't plot FDRsig\"\n",
    "\n",
    "\n",
    "sns.stripplot(x='dataset',y='%s_p' %stat, data=noSig, jitter=True, edgecolor='none', alpha=.30,\n",
    "              color='black')\n",
    "\n",
    "\n",
    "    \n",
    "# for point in bonfSig.index:\n",
    "#     print bonfSig.loc[point,'feature']\n",
    "#     ax.annotate(bonfSig.loc[point,'feature'],xy=(bonfSig.loc[point,'dataset_xloc']+0.00001,\n",
    "#                 bonfSig.loc[point,'%s_p' %stat]+0.00001),xycoords='data',\n",
    "#                fontsize='xx-small',horizontalalignment='left', verticalalignment='top',color='red')\n",
    "sns.despine()\n",
    "ax.legend(loc='best')\n",
    "ax.set_ylim(0.00001,1)\n",
    "ax.set_yscale('log')\n",
    "ax.set_title('TCR feature comparison between patients and controls\\n%s test' %stat, fontsize='large')\n",
    "ax.set_ylabel('%s_test p-value' %stat, fontsize='large')\n",
    "plt.show()  \n",
    "\n",
    "figName='2B_featureComparisonJitter_%s' %stat\n",
    "folder='%s/Presentations and Manuscripts/ImmunoRepertoire conference - Paris2018/Poster' %MyPath\n",
    "figFile='%s/%s' %(folder,figName)\n",
    "fig.savefig(figFile,dpi=300,bbox_inches='tight')\n",
    "    \n",
    "    "
   ]
  },
  {
   "cell_type": "markdown",
   "metadata": {},
   "source": [
    "# figure 3"
   ]
  },
  {
   "cell_type": "markdown",
   "metadata": {},
   "source": [
    "## A. phenotype-TCR feature correlations"
   ]
  },
  {
   "cell_type": "markdown",
   "metadata": {},
   "source": [
    "1. generate a matrix of phenotype by feature figures - correlation or histogram comparisons, depnding on datatype\n",
    "2. calculate nTest and pCut off according to bonferroni correction\n",
    "3. mark all subplots with sig p value after correction\n",
    "4. decide which columns/rows to delete and repeat all\n",
    "5. make nicer plot and save.\n",
    "6. copy functions to .py and delete from notebook"
   ]
  },
  {
   "cell_type": "markdown",
   "metadata": {},
   "source": [
    "### collect relvenat phenotypes and features:"
   ]
  },
  {
   "cell_type": "code",
   "execution_count": null,
   "metadata": {
    "ExecuteTime": {
     "end_time": "2018-10-05T22:01:08.374378Z",
     "start_time": "2018-10-05T22:01:08.096986Z"
    }
   },
   "outputs": [],
   "source": [
    "with open('/net/mraid08/export/genie/Lab/Personal/ShaniBAF/Sample files/BD lists/Cardio126','rb') as fp:\n",
    "        Cardio126=pickle.load(fp)\n",
    "\n",
    "#get relevant phenotypes:\n",
    "f1='/net/mraid08/export/genie/Lab/Personal/ShaniBAF/TCR_real_data/CardioSamples/phenotypicData/Cardio126phenAllInfo_withDummies.xlsx'\n",
    "Cardio126_phen_new_dummies=pd.read_excel(f1).set_index('BD')\n",
    "Cardio126_phen_new_dummies=Cardio126_phen_new_dummies.loc[Cardio126,:]\n",
    "corr_phens=Cardio126_phen_new_dummies[['Age','Initial CPK','Maximal CPK','AST','Hemoglobin','HbA1C','Gender',\n",
    "                'Admission Statins','PreviousPCImapped_2+','Hypertension']]\n",
    "print corr_phens.head()\n",
    "\n",
    "#get relevant features:\n",
    "featureDFfile='%s/TCR_real_data/PNP530Cardio126Combined/featureSummaryDFs/PNP530Cardio126_filteredByPNP530Cardio126\\\n",
    "_allFeatures_noCorrelated_noConsts_filledna' %MyPath\n",
    "TCRfeatureDF2=pd.read_pickle(featureDFfile)\n",
    "\n",
    "Cardio126featureDF=TCRfeatureDF2.loc[Cardio126,:]\n",
    "corr_feats=Cardio126featureDF[['normSeqNums_per2000_NT_T','top10clonal_nt_T','frequencyCount (%)_mean_T',\n",
    "                            'shannon_nt_T','cdr3Length_mean_T','n1Insertion_mean_T']]\n",
    "print corr_feats.head()\n",
    "\n",
    "#merge:\n",
    "corr_phens_feats=pd.merge(corr_phens,corr_feats,how='inner',left_index=True,right_index=True)\n",
    "print corr_phens_feats.head()\n",
    "print len(corr_phens_feats)\n",
    "print len(corr_phens)\n",
    "print len(corr_feats)"
   ]
  },
  {
   "cell_type": "markdown",
   "metadata": {},
   "source": [
    "### generate correlation plot"
   ]
  },
  {
   "cell_type": "markdown",
   "metadata": {},
   "source": [
    "the function plot_corr was copied to MyFunctionsShani.py"
   ]
  },
  {
   "cell_type": "code",
   "execution_count": null,
   "metadata": {
    "ExecuteTime": {
     "end_time": "2018-10-05T22:01:21.295466Z",
     "start_time": "2018-10-05T22:01:21.087600Z"
    }
   },
   "outputs": [],
   "source": [
    "data1=Cardio126_phen_new_dummies['Age'].tolist()\n",
    "data1name='Age'\n",
    "data2=Cardio126featureDF['normSeqNums_per2000_NT_T'].tolist()\n",
    "data2name='normSeqNums_per2000_NT_T'\n",
    "stdToReject=None\n",
    "title=data1name+' vs. '+data2name\n",
    "\n",
    "fig,ax=plt.subplots()\n",
    "\n",
    "plot_corr(data1,data2,data1name,data2name,ax,stdToReject,title)\n",
    "\n",
    "plt.show()"
   ]
  },
  {
   "cell_type": "markdown",
   "metadata": {
    "ExecuteTime": {
     "end_time": "2018-09-25T11:10:01.715961Z",
     "start_time": "2018-09-25T11:10:01.711370Z"
    }
   },
   "source": [
    "the function  plotHistComprison was copied to MyFunctionsShani"
   ]
  },
  {
   "cell_type": "code",
   "execution_count": null,
   "metadata": {
    "ExecuteTime": {
     "end_time": "2018-10-05T22:11:03.019258Z",
     "start_time": "2018-10-05T22:10:24.177610Z"
    }
   },
   "outputs": [],
   "source": [
    "featCols=corr_feats.columns  #define figure columns. additional column of TCRdf distMat will be added\n",
    "phenCols=corr_phens.columns #define figure rows\n",
    "\n",
    "#define figure design according to the number of features and phenotype used:\n",
    "fig1, axes=plt.subplots(nrows=len(phenCols),ncols=(len(featCols)+1),figsize=(4*(len(featCols)+1),3*len(phenCols)))\n",
    "\n",
    "#load TCRdf distMats:\n",
    "f2='%s/TCR_real_data/CardioSamples/distanceMatrices/TCRdfminNshared2RAonlyProductiveTruepercShared10OLtrimmed_binary_jaccard_distMat_CONDENSED'  %MyPath\n",
    "binaryTCRdfdistMat_CONDENSED=pd.read_pickle(f2)\n",
    "\n",
    "fig1.text(-0.012+6*0.147,0.92-(0.13*5)/2,'TCR public seq repertoire Jaccard distance',fontsize=20,fontweight='bold',verticalalignment='center',rotation=90 )\n",
    "for i,phenotype in enumerate(phenCols):\n",
    "    fig1.text (0.5,0.925-(i*0.0935),phenotype,fontsize=20,fontweight='bold',horizontalalignment='center')\n",
    "    \n",
    "    for j,feature in enumerate(featCols):\n",
    "        fig1.text(-0.012+j*0.147,0.92-(0.13*5)/2,feature,fontsize=20,fontweight='bold',verticalalignment='center',rotation=90 )\n",
    "        fig1.text(-0.012+j*0.147,0.92-(0.13*6),'%s freq' %feature,fontsize=20,fontweight='bold',verticalalignment='center',rotation=90 )\n",
    "        print phenotype\n",
    "        ax=axes[i,j]\n",
    "        if i<6: # generate all subplots with simple correlation:\n",
    "            data1=corr_phens_feats[phenotype].tolist()\n",
    "            data1name=phenotype\n",
    "            data2=corr_phens_feats[feature].tolist()\n",
    "            data2name=feature\n",
    "\n",
    "            ax, nsamples,r,p=plot_corr(data1,data2,data1name,data2name,ax)\n",
    "            ax.set_xlabel('')\n",
    "            ax.set_ylabel('')\n",
    "        else: # generate all subplots that compare histograms between phenotype categories\n",
    "            data=corr_phens_feats[[phenotype,feature]] #generate df that contains one feature and one phenotype\n",
    "            groups=data.groupby(phenotype) #group the df by the phenotype cateogries\n",
    "            dataList=[] #generate datalist constitutes of tuples, each tuple contain a category name and its relevent feature data\n",
    "            print '-groups- length is %s' %len(groups)\n",
    "            for name,group in groups:\n",
    "                tupList=[]\n",
    "                tupList.append(name)\n",
    "                groupData=[x for x in group[feature].tolist() if not np.isnan(x)]\n",
    "                tupList.append(groupData)\n",
    "                tup=tuple(tupList)\n",
    "                dataList.append(tup)\n",
    "\n",
    "            title=None\n",
    "            ax,ks_p_cohort1_cohort2,t_p_cohort1_cohort2,p_Anov,filename=plotHistComprison(dataList,ax,title,\n",
    "                                                        showLegend=True,nBins=10,toAnnotate=False,alpha=0.5,\n",
    "                                                            plotType='kde')  #plot kde histogram for each phen category\n",
    "#             ax.set_ylabel('%s - frequency' %feature,fontsize='medium')\n",
    "            #delete existing text and add another one instead:\n",
    "            if not np.isnan(p_Anov):\n",
    "                ax.annotate('p_Anov=%s' %round(p_Anov,4),xy=(0.02, 0.96), xycoords='axes fraction', \n",
    "    fontsize='x-large', horizontalalignment='left', verticalalignment='top', fontweight='bold',color='red')\n",
    "            else:\n",
    "                ax.annotate('ttest_p=%s' %round(t_p_cohort1_cohort2,4),xy=(0.02, 0.96), xycoords='axes fraction', \n",
    "            fontsize='x-large', horizontalalignment='left', verticalalignment='top', fontweight='bold',color='red')\n",
    "\n",
    "            if j!=0: #add legend only for the left-most subplot\n",
    "                ax.legend('')\n",
    "            else:\n",
    "                ax.legend(bbox_to_anchor=(0.05, 0.95), fontsize='large',loc='upper left')\n",
    "#         if j==3: # add row title:\n",
    "#                 ax.set_title(phenotype, fontsize=24, fontweight='bold')\n",
    "\n",
    "        \n",
    "        ax=axes[i,len(featCols)]\n",
    "        ax.set_xlabel('')\n",
    "        ax.set_ylabel('')\n",
    "    if i<6: #generate the subplots that contains correlation plot for diistmats:\n",
    "        \n",
    "        #load phenDistMat:\n",
    "        f1='%s/TCR_real_data/CardioSamples/phenDistMats/Cardio126_%s_euclidean_distMat_CONDENSED' %(MyPath,phenotype)\n",
    "        phenDistMat_CONDENSED=pd.read_pickle(f1)\n",
    "        phenDistMat_CONDENSED=phenDistMat_CONDENSED.set_index(['sample1','sample2']).loc[binaryTCRdfdistMat_CONDENSED\\\n",
    ".set_index(['sample1','sample2']).index,:].reset_index() #make sure the data in the phenDistMat is matched\n",
    "                                                                 # to the one in the TCRdf distMat\n",
    "\n",
    "        data2=binaryTCRdfdistMat_CONDENSED['dist'].tolist()\n",
    "        data1=phenDistMat_CONDENSED['dist'].tolist()\n",
    "        data2name='TCR public seq repertoire distance'\n",
    "        data1name='%s distance' %phenotype\n",
    "        ax, nsamples,r,p=plot_corr(data1,data2,data1name,data2name,ax)\n",
    "        ax.set_xlabel('Euclidean distance between samples')\n",
    "        ax.set_ylabel('')\n",
    "    else:\n",
    "        fig1.delaxes(ax)\n",
    "\n",
    "\n",
    "\n",
    "\n",
    "                \n",
    "                      \n",
    "            \n",
    "fig1.suptitle(\"Phenotype-TCR feature interaction in the healthy cohort\", fontsize=26, fontweight='bold')\n",
    "fig1.subplots_adjust(left=0.02,right=0.99,bottom=0.02, wspace=0.5, hspace=0.6,top=0.92)\n",
    "figName='3a-Cardio126-Phenotype-TCR feature interaction'\n",
    "folder='%s/Presentations and Manuscripts/ImmunoRepertoire conference - Paris2018/Poster' %MyPath\n",
    "figFile='%s/%s' %(folder,figName)\n",
    "fig1.savefig(figFile,dpi=300,bbox_inches='tight')\n",
    "plt.show()\n",
    "        "
   ]
  },
  {
   "cell_type": "code",
   "execution_count": null,
   "metadata": {
    "ExecuteTime": {
     "end_time": "2018-10-05T22:09:34.291790Z",
     "start_time": "2018-10-05T22:09:23.963776Z"
    }
   },
   "outputs": [],
   "source": [
    "fig1, axes=plt.subplots(nrows=len(phenCols),ncols=(len(featCols)+1),figsize=(4*(len(featCols)+1),3*len(phenCols)))\n",
    "\n",
    "fig1.text(-0.012+6*0.147,0.92-(0.13*5)/2,'TCR public seq repertoire Jaccard distance',fontsize=20,fontweight='bold',verticalalignment='center',rotation=90 )\n",
    "for i,phenotype in enumerate(phenCols):\n",
    "    fig1.text (0.5,0.925-(i*0.0935),phenotype,fontsize=20,fontweight='bold',horizontalalignment='center')\n",
    "    \n",
    "    for j,feature in enumerate(featCols):\n",
    "        fig1.text(-0.012+j*0.147,0.92-(0.13*5)/2,feature,fontsize=20,fontweight='bold',verticalalignment='center',rotation=90 )\n",
    "        fig1.text(-0.012+j*0.147,0.92-(0.13*6),'%s freq' %feature,fontsize=20,fontweight='bold',verticalalignment='center',rotation=90 )\n",
    "\n",
    "fig1.subplots_adjust(left=0.02,right=0.99,bottom=0.02, wspace=0.5, hspace=0.6,top=0.92)        \n",
    "plt.show()"
   ]
  },
  {
   "cell_type": "markdown",
   "metadata": {},
   "source": [
    "### calculate p-cut with bonferroni correction:"
   ]
  },
  {
   "cell_type": "code",
   "execution_count": null,
   "metadata": {
    "ExecuteTime": {
     "end_time": "2018-10-05T22:02:25.874696Z",
     "start_time": "2018-10-05T22:02:25.869625Z"
    }
   },
   "outputs": [],
   "source": [
    "10*7-4"
   ]
  },
  {
   "cell_type": "code",
   "execution_count": null,
   "metadata": {
    "ExecuteTime": {
     "end_time": "2018-09-25T11:10:01.782412Z",
     "start_time": "2018-09-25T11:09:16.765Z"
    }
   },
   "outputs": [],
   "source": [
    "nTests==10*7-\n",
    "pCut=0.05/47\n",
    "print pCut"
   ]
  }
 ],
 "metadata": {
  "kernelspec": {
   "display_name": "Python 2",
   "language": "python",
   "name": "python2"
  },
  "language_info": {
   "codemirror_mode": {
    "name": "ipython",
    "version": 2
   },
   "file_extension": ".py",
   "mimetype": "text/x-python",
   "name": "python",
   "nbconvert_exporter": "python",
   "pygments_lexer": "ipython2",
   "version": "2.7.8"
  },
  "toc": {
   "nav_menu": {},
   "number_sections": true,
   "sideBar": false,
   "skip_h1_title": false,
   "toc_cell": false,
   "toc_position": {
    "height": "402px",
    "left": "1px",
    "right": "1110px",
    "top": "134px",
    "width": "212px"
   },
   "toc_section_display": "block",
   "toc_window_display": true
  },
  "varInspector": {
   "cols": {
    "lenName": 16,
    "lenType": 16,
    "lenVar": 40
   },
   "kernels_config": {
    "python": {
     "delete_cmd_postfix": "",
     "delete_cmd_prefix": "del ",
     "library": "var_list.py",
     "varRefreshCmd": "print(var_dic_list())"
    },
    "r": {
     "delete_cmd_postfix": ") ",
     "delete_cmd_prefix": "rm(",
     "library": "var_list.r",
     "varRefreshCmd": "cat(var_dic_list()) "
    }
   },
   "types_to_exclude": [
    "module",
    "function",
    "builtin_function_or_method",
    "instance",
    "_Feature"
   ],
   "window_display": false
  }
 },
 "nbformat": 4,
 "nbformat_minor": 2
}
