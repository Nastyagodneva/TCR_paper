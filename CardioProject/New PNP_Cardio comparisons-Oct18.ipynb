{
 "cells": [
  {
   "cell_type": "markdown",
   "metadata": {},
   "source": [
    "# imports:"
   ]
  },
  {
   "cell_type": "code",
   "execution_count": 3,
   "metadata": {
    "ExecuteTime": {
     "end_time": "2019-02-18T11:33:15.709811Z",
     "start_time": "2019-02-18T11:33:08.512328Z"
    }
   },
   "outputs": [
    {
     "name": "stdout",
     "output_type": "stream",
     "text": [
      "done1\n",
      "stop\n",
      "stop\n",
      "done1\n",
      "stop\n",
      "done\n",
      "done\n",
      "done\n",
      "done\n",
      "stop\n",
      "stop\n",
      "end of function!!!\n",
      "end of function!!!\n"
     ]
    }
   ],
   "source": [
    "from os import listdir,mkdir,makedirs\n",
    "from os.path import isfile, join, isdir,exists\n",
    "import pandas as pd\n",
    "import numpy as np\n",
    "from scipy import stats\n",
    "import re\n",
    "import matplotlib.pyplot as plt\n",
    "from matplotlib.backends.backend_pdf import PdfPages\n",
    "from myplots import roundup, rounddown, find_decimal_fold, percentile_cut_off, rarefaction_calc, rarefaction_plot,draw_correlation_scatter\n",
    "from matplotlib.ticker import FormatStrFormatter\n",
    "import cPickle as pickle\n",
    "from Bio.SeqUtils import GC\n",
    "import seaborn as sns\n",
    "import random\n",
    "from scipy.stats import pearsonr,fisher_exact\n",
    "from skbio.diversity.alpha import shannon, simpson, berger_parker_d\n",
    "\n",
    "from pop_organize import get_sample_data, get_sample_with_dfs\n",
    "from SufficientStatistics.SufficientStatistics import *\n",
    "from MyFunctionsShani import *\n",
    "import math\n",
    "from myplots import roundup, rounddown, find_decimal_fold\n",
    "from skbio.stats.distance import mantel\n",
    "from scipy.spatial.distance import braycurtis, pdist, euclidean\n",
    "\n",
    "\n",
    "from GeneralFeaturePhenotypeInteractions.Feature_phenotype_functions import * \n",
    "from TCR_microbiome_interactions.TCR_microbiome_interactions_functions import *\n",
    "from TCR_microbiome_interactions.TCR_microbiome_interactions_functions2 import *\n",
    "from SampleLists.SampleFileFunctions import *\n",
    "from PhenotypicData.PhenotypeGenerationFunctions import *\n",
    "from CardioProject.CardioFunctions import *\n",
    "from PredictionPipeline.PredictionFunctions import *\n",
    "from TCR_feature_generation.SubsamplingFunctions import *\n",
    "\n",
    "import os\n",
    "from Utils import cacheOnDisk\n",
    "from SegalQueue.qp import qp,fakeqp\n",
    "from addloglevels import sethandlers\n",
    "\n",
    "#ML imports:\n",
    "from xgboost import XGBClassifier\n",
    "import lightgbm as lgb\n",
    "from collections import OrderedDict\n",
    "from sklearn.model_selection import GroupKFold,StratifiedKFold, KFold\n",
    "import statsmodels.formula.api as sm\n",
    "from sklearn.linear_model import LogisticRegression, LinearRegression\n",
    "import shap\n",
    "from sklearn import metrics, preprocessing\n",
    "from sklearn.svm import LinearSVC\n",
    "from sklearn.feature_selection import SelectFromModel,SelectKBest,chi2,mutual_info_classif,f_classif\n",
    "from sklearn.naive_bayes import GaussianNB\n",
    "\n",
    "MyPath='/net/mraid08/export/genie/Lab/Personal/ShaniBAF'\n",
    "\n",
    "with open('/net/mraid08/export/genie/Lab/Personal/ShaniBAF/Sample files/BD lists/PNP530','rb') as fp:\n",
    "    PNP530=pickle.load(fp)\n",
    "with open('/net/mraid08/export/genie/Lab/Personal/ShaniBAF/Sample files/BD lists/Cardio126','rb') as fp:\n",
    "    Cardio126=pickle.load(fp)\n",
    "PNP530Cardio126=PNP530+Cardio126\n"
   ]
  },
  {
   "cell_type": "code",
   "execution_count": 4,
   "metadata": {
    "ExecuteTime": {
     "end_time": "2019-02-18T11:33:15.840163Z",
     "start_time": "2019-02-18T11:33:15.832509Z"
    }
   },
   "outputs": [
    {
     "data": {
      "text/plain": [
       "'18022019'"
      ]
     },
     "execution_count": 4,
     "metadata": {},
     "output_type": "execute_result"
    }
   ],
   "source": [
    "import time\n",
    "cdate=str(time.strftime(\"%d%m%Y\"))\n",
    "cdate"
   ]
  },
  {
   "cell_type": "markdown",
   "metadata": {},
   "source": [
    "# notebook content:\n",
    "1. generate annotation features\n",
    "2. generate new X table containing traditional TCR features, annotation features, 10 PCs over all shared by >10% (w/o sequences themselves)\n",
    "3. "
   ]
  },
  {
   "cell_type": "markdown",
   "metadata": {},
   "source": [
    "# generate new features - ran again on 191018 using the new relative annotation features:"
   ]
  },
  {
   "cell_type": "markdown",
   "metadata": {
    "ExecuteTime": {
     "end_time": "2018-10-10T11:10:34.145783Z",
     "start_time": "2018-10-10T11:10:34.091730Z"
    }
   },
   "source": [
    "the function gen_annotation_features_for_dataset was copied to TCR_feature_generation.py\n",
    "    "
   ]
  },
  {
   "cell_type": "code",
   "execution_count": null,
   "metadata": {
    "ExecuteTime": {
     "end_time": "2018-10-19T15:24:46.093107Z",
     "start_time": "2018-10-19T15:15:53.784778Z"
    }
   },
   "outputs": [],
   "source": [
    "#run for PNP530\n",
    "datasetFolder='%s/TCR_real_data' %MyPath\n",
    "datasetName='PNP530'\n",
    "with open('/net/mraid08/export/genie/Lab/Personal/ShaniBAF/Sample files/BD lists/PNP530','rb') as fp:\n",
    "    PNP530=pickle.load(fp)\n",
    "sampleList=PNP530\n",
    "sampleListName='PNP530'\n",
    "\n",
    "annotationFeatureDF,annotationFeatureDF_processed=gen_annotation_features_for_dataset(datasetFolder,datasetName,\n",
    "                                                                    sampleList,sampleListName)"
   ]
  },
  {
   "cell_type": "code",
   "execution_count": null,
   "metadata": {
    "ExecuteTime": {
     "end_time": "2018-10-19T19:59:51.344327Z",
     "start_time": "2018-10-19T19:59:12.878024Z"
    }
   },
   "outputs": [],
   "source": [
    "#run for Cardio126\n",
    "datasetFolder='%s/TCR_real_data/CardioSamples' %MyPath\n",
    "datasetName='Cardio126'\n",
    "with open('/net/mraid08/export/genie/Lab/Personal/ShaniBAF/Sample files/BD lists/Cardio126','rb') as fp:\n",
    "    Cardio126=pickle.load(fp)\n",
    "sampleList=Cardio126\n",
    "sampleListName='Cardio126'\n",
    "\n",
    "annotationFeatureDF,annotationFeatureDF_processed=gen_annotation_features_for_dataset(datasetFolder,datasetName,\n",
    "                                                                    sampleList,sampleListName)"
   ]
  },
  {
   "cell_type": "markdown",
   "metadata": {},
   "source": [
    "# generate new X:"
   ]
  },
  {
   "cell_type": "markdown",
   "metadata": {},
   "source": [
    "1. get PCs\n",
    "2. merge classic features, PCs and annotation features\n",
    "3. save\n",
    "4. correct features for association with age, gender and HbA1c\n",
    "5. save"
   ]
  },
  {
   "cell_type": "markdown",
   "metadata": {},
   "source": [
    "## generate all components in the combined folder:"
   ]
  },
  {
   "cell_type": "markdown",
   "metadata": {},
   "source": [
    "### TCR feature df:"
   ]
  },
  {
   "cell_type": "markdown",
   "metadata": {},
   "source": [
    "already exist"
   ]
  },
  {
   "cell_type": "markdown",
   "metadata": {},
   "source": [
    "### annot_features:"
   ]
  },
  {
   "cell_type": "code",
   "execution_count": null,
   "metadata": {
    "ExecuteTime": {
     "end_time": "2018-10-19T19:36:07.595332Z",
     "start_time": "2018-10-19T19:36:04.258544Z"
    }
   },
   "outputs": [],
   "source": [
    "print 'getting annot_features'\n",
    "f1='%s/TCR_real_data/annotationFeatures/PNP530_PNP530_annotationFeatures.xlsx' %MyPath\n",
    "PNP_annotFeat=pd.read_excel(f1)\n",
    "\n",
    "f2='%s/TCR_real_data/CardioSamples/annotationFeatures/Cardio126_Cardio126_annotationFeatures.xlsx'  %MyPath\n",
    "Cardio_annotFeat=pd.read_excel(f2)\n",
    "\n",
    "#**************************\n",
    "annotFeat=pd.concat([PNP_annotFeat,Cardio_annotFeat])\n",
    "print 'removing non-normalized seq_count and cum_freq columns'\n",
    "dropList=[]\n",
    "\n",
    "for col in annotFeat.columns:\n",
    "    if ('seq_count' in col) and ('rel' not in col):\n",
    "        dropList.append(col)\n",
    "    elif ('cum_freq' in col) and ('rel' not in col):\n",
    "        dropList.append(col)\n",
    "print ('drop list length is:', len(dropList))\n",
    "annotFeat=annotFeat.drop(dropList,axis=1)\n",
    "#**************************\n",
    "\n",
    "print ('combined annotation feature df shape:',annotFeat.shape )\n",
    "\n",
    "annotFeat_processed,analysisDF,annotFeatnameAddition=process_featureDF(annotFeat,corrThreshold=0.99,\n",
    "                                        removeCorr=True,exploreDF=True,deleteConsts=True,fillnans=True)\n"
   ]
  },
  {
   "cell_type": "code",
   "execution_count": null,
   "metadata": {
    "ExecuteTime": {
     "end_time": "2018-10-19T19:36:37.620578Z",
     "start_time": "2018-10-19T19:36:34.914086Z"
    }
   },
   "outputs": [],
   "source": [
    "annotationFolder='%s/TCR_real_data/PNP530Cardio126Combined/annotationFeatures' %MyPath\n",
    "if not isdir(annotationFolder):\n",
    "    makedirs(annotationFolder)\n",
    "    \n",
    "datasetName='PNP530Cardio126'\n",
    "sampleListName='PNP530Cardio126'\n",
    "    \n",
    "f4='%s/%s_%s_annotationFeatures_withRels.xlsx' %(annotationFolder,datasetName,sampleListName)\n",
    "annotFeat.to_excel(f4)\n",
    "\n",
    "\n",
    "f5='%s/%s_%s_annotationFeatures_withRels_ANALYSIS.xlsx' %(annotationFolder,datasetName,sampleListName)\n",
    "analysisDF.to_excel(f5)\n",
    "\n",
    "f6='%s/%s_%s_annotationFeatures_withRels' %(annotationFolder,datasetName,sampleListName) + annotFeatnameAddition +'.xlsx'\n",
    "annotFeat_processed.to_excel(f6)"
   ]
  },
  {
   "cell_type": "markdown",
   "metadata": {},
   "source": [
    "### TCRdf 10%"
   ]
  },
  {
   "cell_type": "markdown",
   "metadata": {
    "ExecuteTime": {
     "end_time": "2018-10-11T08:23:23.995612Z",
     "start_time": "2018-10-11T08:23:23.964379Z"
    }
   },
   "source": [
    "ALREADY EXIST"
   ]
  },
  {
   "cell_type": "markdown",
   "metadata": {},
   "source": [
    "### get PCAdf for PNP530+Cardio126"
   ]
  },
  {
   "cell_type": "code",
   "execution_count": null,
   "metadata": {
    "ExecuteTime": {
     "end_time": "2018-10-11T08:37:37.377903Z",
     "start_time": "2018-10-11T08:37:36.496664Z"
    }
   },
   "outputs": [],
   "source": [
    "datasetFolder='%s/TCR_real_data/PNP530Cardio126Combined' %MyPath\n",
    "with open('/net/mraid08/export/genie/Lab/Personal/ShaniBAF/Sample files/BD lists/PNP530','rb') as fp:\n",
    "    PNP530=pickle.load(fp)\n",
    "with open('/net/mraid08/export/genie/Lab/Personal/ShaniBAF/Sample files/BD lists/Cardio126','rb') as fp:\n",
    "    Cardio126=pickle.load(fp)\n",
    "sampleList=PNP530+Cardio126\n",
    "\n",
    "#targetDF\n",
    "targetDF=pd.DataFrame(index=['BD'+str(x) for x in range(1,1100)])\n",
    "targetDF['isCardio']=np.where(targetDF.index.str.replace('BD','').astype(int)>949,1,0)\n",
    "targetDF=targetDF.loc[sampleList,:]\n",
    "\n",
    "\n",
    "#TCRdf:\n",
    "print 'getting TCRdf...'\n",
    "percShared=10\n",
    "\n",
    "sharingFolder='%s/sharingAnalysis' %datasetFolder\n",
    "TCRdfName='sharingMatrix_PNP530Cardio126_minNshared5_RA_onlyProductiveTrue__percShared%s_OLtrimmed_binary' %percShared\n",
    "TCRdfFile='%s/%s' %(sharingFolder,TCRdfName )\n",
    "print TCRdfFile\n",
    "TCRdf=pd.read_pickle(TCRdfFile)\n",
    "print 'TCRdf shape is %s_%s' %(TCRdf.shape[0],TCRdf.shape[1])\n",
    "print TCRdf.iloc[:4,:4]\n",
    "\n",
    "#PCA:\n",
    "y=targetDF\n",
    "YName='isCardio'\n",
    "n_comp=10\n",
    "isSparse=True\n",
    "fig,ax=plt.subplots()\n",
    "TCRdf=editSampleNames(TCRdf)\n",
    "TCRdf = TCRdf.loc[[str(x) for x in TCRdf.index.tolist() if x in y.index], :]\n",
    "PCAdf,ax,p_ttest_PC1,p_ttest_PC2 = PCAfunc(TCRdf,n_comp,isSparse,ax,groupingByDF=y, groupbyName=YName)\n",
    "for c in ['BDindex', YName]:\n",
    "    try:\n",
    "        PCAdf = PCAdf.drop(c, axis=1)\n",
    "    except:\n",
    "        print 'PCAdf doesnt include %s column' % c\n",
    "print 'PCAdf shape is %s_%s' % (PCAdf.shape[0], PCAdf.shape[1])\n",
    "\n",
    "\n",
    "f3='%s/sharingAnalysis/PCAdf_%spercShared' %(datasetFolder,percShared)\n",
    "PCAdf.to_pickle(f3)"
   ]
  },
  {
   "cell_type": "markdown",
   "metadata": {},
   "source": [
    "## merge X and name it"
   ]
  },
  {
   "cell_type": "code",
   "execution_count": null,
   "metadata": {},
   "outputs": [],
   "source": [
    "the function gen_TCRfeatureX was copied to TCR_feature_generation_functions.py"
   ]
  },
  {
   "cell_type": "code",
   "execution_count": null,
   "metadata": {
    "ExecuteTime": {
     "end_time": "2018-10-19T19:42:32.710929Z",
     "start_time": "2018-10-19T19:42:31.080267Z"
    }
   },
   "outputs": [],
   "source": [
    "withRels=True\n",
    "\n",
    "datasetFolder='%s/TCR_real_data/PNP530Cardio126Combined' %MyPath\n",
    "datasetName='PNP530Cardio126'\n",
    "\n",
    "incSingleSeqs=True\n",
    "TCRfeatureX=gen_TCRfeatureX(datasetFolder,datasetName,incSingleSeqs,withRels=withRels)\n",
    "\n",
    "incSingleSeqs=False\n",
    "TCRfeatureX=gen_TCRfeatureX(datasetFolder,datasetName,incSingleSeqs,withRels=withRels)\n",
    "\n",
    "print TCRfeatureX.columns.tolist()\n",
    "print len(TCRfeatureX.columns)"
   ]
  },
  {
   "cell_type": "markdown",
   "metadata": {},
   "source": [
    "# correct X for confounders:"
   ]
  },
  {
   "cell_type": "markdown",
   "metadata": {},
   "source": [
    "1. correct all x components for age\n",
    "2. run again correlation calculation and see if there are still correlations with gender\n",
    "3. if so, correct for gender and test again for age\n",
    "4. if ok, check again correlations and see if there are still correlations with HbA1C\n",
    "5. if so, correct for HbA1C and check again age and gender.\n",
    "6. if everything is ok, consider correcting for one more phenotype-BMi probbaly"
   ]
  },
  {
   "cell_type": "markdown",
   "metadata": {},
   "source": [
    "## functions:"
   ]
  },
  {
   "cell_type": "code",
   "execution_count": null,
   "metadata": {
    "ExecuteTime": {
     "end_time": "2018-10-19T19:38:09.501013Z",
     "start_time": "2018-10-19T19:38:09.439332Z"
    }
   },
   "outputs": [],
   "source": [
    "#check which feature needs correction:\n",
    "def check_features_to_correct(X,phenotypeDF,phen,featureDFname=None,sampleSubset=None,calcAssociations=True,FDR=0.25):\n",
    "    \n",
    "    #definitions:\n",
    "    featureDF=X.copy()\n",
    "    phenotypeDF = pd.DataFrame(phenotypeDF[phen])\n",
    "    if sampleSubset is not None:\n",
    "        featureDF=featureDF.loc[sampleSubset,:]\n",
    "        phenotypeDF = phenotypeDF.loc[sampleSubset,:]\n",
    "    if featureDFname is None:\n",
    "        featureDFname='all'\n",
    "    phenDFname=phen\n",
    "    testType='pearson'\n",
    "    \n",
    "    print ('phenotype series type:',phenotypeDF[phen].dtype)\n",
    "    \n",
    "    if phenotypeDF[phen].nunique()==2:\n",
    "        f1='%s/TCR_real_data/TCR_phenotype_relations/%sTCRfeatures_%s_ttest.xlsx' %(MyPath,featureDFname,phenDFname)\n",
    "    elif phenotypeDF[phen].nunique()>2:\n",
    "        f1='%s/TCR_real_data/TCR_phenotype_relations/%sTCRfeatures_%s_%sTest.xlsx' %(MyPath,featureDFname,phenDFname,testType)       \n",
    "      \n",
    "    if calcAssociations:\n",
    "        print 'checking associations between %s and all TCR features:' %phen\n",
    "        if phenotypeDF[phen].nunique()==2:\n",
    "            print 'number of phenotype unique values is %s and therefore ttest is used' %phenotypeDF[phen].nunique()\n",
    "            feature_phen_assoc=calc_catPhens_TCRfeatures_associations_ttest(featureDF,featureDFname,phenotypeDF,phenDFname,FDR)\n",
    "        elif phenotypeDF[phen].nunique()>2:\n",
    "            print 'number of phenotype unique values is %s and therefore correlation test is used' %phenotypeDF[phen].nunique()\n",
    "            feature_phen_assoc=calc_numPhens_TCRfeatures_associations_correlation(featureDF,featureDFname,phenotypeDF,phenDFname,testType,FDR)\n",
    "        feature_phen_assoc.to_excel(f1)\n",
    "    else:\n",
    "        feature_phen_assoc=pd.read_excel(f1)\n",
    "        \n",
    "    #CHECK WHICH FEATURES TO CORRECT:\n",
    "    sigDF=feature_phen_assoc[feature_phen_assoc['sig. by FDR=%s' %FDR]==1]\n",
    "    featToCorrect=sigDF['Feature'].unique().tolist()\n",
    "    print ('number of features to correct is:',len(featToCorrect))\n",
    "    print ('the most significantly associated features are:',sigDF['Feature'].unique().tolist()[:5])\n",
    "    \n",
    "    return featToCorrect\n",
    "\n",
    "# regress feature using phenotype data and generate the resulting residuals:\n",
    "# the function should take feature data and phenotype data for PNP530+Cardio126!!!!\n",
    "\n",
    "def calc_residuals(feature_data,phen_data,featureName,sampleSubset):\n",
    "    lm=LinearRegression()\n",
    "    lm.fit(phen_data.loc[sampleSubset,:],feature_data.loc[sampleSubset,:])\n",
    "    y_pred=pd.DataFrame(index=phen_data.index.tolist(),data=lm.predict(phen_data))\n",
    "    \n",
    "    merged=pd.merge(feature_data,y_pred,how='inner',left_index=True, right_index=True)\n",
    "    merged['res']=merged[featureName]-merged[0]\n",
    "    print ('sum of residuals for the fitted data only:', merged.loc[sampleSubset,'res'].sum())\n",
    "    \n",
    "#     print merged.head(10)\n",
    "    print merged[featureName].median()\n",
    "    return merged['res']\n",
    "        \n",
    "    "
   ]
  },
  {
   "cell_type": "markdown",
   "metadata": {},
   "source": [
    "## correct X for age,gender eGFR by CKD-EPI, and check resulting correlations with age,gender,HbA1C and Glucose:"
   ]
  },
  {
   "cell_type": "code",
   "execution_count": null,
   "metadata": {
    "ExecuteTime": {
     "end_time": "2018-10-19T19:46:48.257730Z",
     "start_time": "2018-10-19T19:43:52.082103Z"
    }
   },
   "outputs": [],
   "source": [
    "withRels=False\n",
    "\n",
    "\n",
    "#PNP530 and Cardio126 samples:\n",
    "with open('/net/mraid08/export/genie/Lab/Personal/ShaniBAF/Sample files/BD lists/PNP530','rb') as fp:\n",
    "    PNP530=pickle.load(fp)\n",
    "with open('/net/mraid08/export/genie/Lab/Personal/ShaniBAF/Sample files/BD lists/Cardio126','rb') as fp:\n",
    "    Cardio126=pickle.load(fp)\n",
    "PNP530Cardio126=PNP530+Cardio126\n",
    "\n",
    "\n",
    "#load original X:\n",
    "if withRels:\n",
    "    f1='%s/TCR_real_data/Predictions/featureDFs/allTCRfeatures_percShared10__withRels.dat' %MyPath\n",
    "else:\n",
    "    f1='%s/TCR_real_data/Predictions/featureDFs/allTCRfeatures_percShared10_.dat' %MyPath\n",
    "allFeatures=pd.read_pickle(f1).loc[PNP530Cardio126,:]\n",
    "print ('original X shape is:', allFeatures.shape)\n",
    "print allFeatures.iloc[:4,:4]\n",
    "\n",
    "#load phenotypeDF:\n",
    "f2='%s/TCR_real_data/PNP530Cardio126Combined/Phenotypes/PNP530Cardio126_AllInfo_withDummies.xlsx' %MyPath\n",
    "phenotypeDF=pd.read_excel(f2).set_index('BD').loc[PNP530Cardio126,:]\n",
    "print ('phenotype DF shape is:', phenotypeDF.shape)\n",
    "print phenotypeDF.iloc[:4,:4]\n",
    "\n",
    "#check which features need correction for age:\n",
    "print 'checking which features need correction for age:'\n",
    "X=allFeatures\n",
    "phen='Age'\n",
    "sampleSubset=PNP530\n",
    "\n",
    "featToCorrect=check_features_to_correct(X,phenotypeDF,phen,sampleSubset=sampleSubset)\n",
    "\n",
    "\n",
    "#correct all featues for age and generate new X:\n",
    "X_ageCorr=pd.DataFrame(index=X.index, columns=X.columns,data=np.nan)\n",
    "X_ageCorr=X_ageCorr.loc[PNP530Cardio126,:] #ensure sample order\n",
    "for n,feature in enumerate(X_ageCorr.columns):\n",
    "    print n,feature\n",
    "    if feature in featToCorrect:\n",
    "        \n",
    "        phen_data=pd.DataFrame(phenotypeDF['Age'].fillna(phenotypeDF['Age'].median())).loc[PNP530Cardio126,:]\n",
    "        feature_data=pd.DataFrame(X[feature].fillna(0)) \n",
    "        featureName=feature\n",
    "        \n",
    "        res=calc_residuals(feature_data,phen_data,featureName,PNP530) #use only PNP530 samples to study\n",
    "        X_ageCorr=pd.merge(X_ageCorr,pd.DataFrame(res),how='inner',left_index=True, right_index=True)\n",
    "        X_ageCorr=X_ageCorr.rename(columns={'res':feature+'_AgeCorrRes'})\n",
    "        X_ageCorr=X_ageCorr.drop(feature,axis=1)\n",
    "    else:\n",
    "        X_ageCorr[feature]=X[feature]\n",
    "print ('X_ageCorr shape after correcting all features is',X_ageCorr.shape)\n",
    "\n",
    "f3=f1.replace('.dat','_%sCorrRes.dat' %phen)\n",
    "X_ageCorr.to_pickle(f3)\n",
    "\n",
    "#check again correlation with age and make sure there are nothing:\n",
    "print 'checking which features are still corrected for age:'\n",
    "X=X_ageCorr\n",
    "phen='Age'\n",
    "sampleSubset=PNP530\n",
    "featureDFname='AgeCorrRes'\n",
    "stillcorrelated=check_features_to_correct(X,phenotypeDF,phen,sampleSubset=sampleSubset,featureDFname=featureDFname)\n",
    "\n",
    "#check association with gender:\n",
    "print 'checking which features are now associated with gender:'\n",
    "X=X_ageCorr\n",
    "phen='Gender_Male'\n",
    "sampleSubset=PNP530\n",
    "featureDFname='AgeCorrRes'\n",
    "GenderCorrrelated=check_features_to_correct(X,phenotypeDF,phen,sampleSubset=sampleSubset,featureDFname=featureDFname)\n",
    "\n",
    "#correct all featues for gender and generate new X:\n",
    "X_AgeGenderCorr=pd.DataFrame(index=X.index, columns=X.columns,data=np.nan)\n",
    "X_AgeGenderCorr=X_AgeGenderCorr.loc[PNP530Cardio126,:] #ensure sample order\n",
    "for n,feature in enumerate(X_AgeGenderCorr.columns):\n",
    "    print n,feature\n",
    "    if feature in GenderCorrrelated:\n",
    "        \n",
    "        phen_data=pd.DataFrame(phenotypeDF['Gender_Male'].fillna(phenotypeDF['Gender_Male'].median())).loc[PNP530Cardio126,:]\n",
    "        feature_data=pd.DataFrame(X[feature].fillna(0)) \n",
    "        featureName=feature\n",
    "        \n",
    "        res=calc_residuals(feature_data,phen_data,featureName,PNP530) #use only PNP530 samples to study\n",
    "        X_AgeGenderCorr=pd.merge(X_AgeGenderCorr,pd.DataFrame(res),how='inner',left_index=True, right_index=True)\n",
    "        X_AgeGenderCorr=X_AgeGenderCorr.rename(columns={'res':feature+'_GenderCorrRes'})\n",
    "        X_AgeGenderCorr=X_AgeGenderCorr.drop(feature,axis=1)\n",
    "    else:\n",
    "        X_AgeGenderCorr[feature]=X[feature]\n",
    "print ('X_AgeGenderCorr shape after correcting all features is',X_AgeGenderCorr.shape)\n",
    "\n",
    "f4=f1.replace('.dat','_AgeGenderCorr.dat')\n",
    "X_AgeGenderCorr.to_pickle(f4)\n",
    "\n",
    "#check again correlation with age and make sure there are nothing:\n",
    "print 'checking which features are correlated with age after gender correction:'\n",
    "X=X_AgeGenderCorr\n",
    "phen='Age'\n",
    "sampleSubset=PNP530\n",
    "featureDFname='AgeGenderCorrRes'\n",
    "stillcorrelated=check_features_to_correct(X,phenotypeDF,phen,sampleSubset=sampleSubset,featureDFname=featureDFname)\n",
    "\n",
    "#check association with gender:\n",
    "print 'checking which features are associated with gender after correction for gender:'\n",
    "X=X_AgeGenderCorr\n",
    "phen='Gender_Male'\n",
    "sampleSubset=PNP530\n",
    "featureDFname='AgeGenderCorrRes'\n",
    "GenderCorrrelated=check_features_to_correct(X,phenotypeDF,phen,sampleSubset=sampleSubset,featureDFname=featureDFname)\n",
    "\n",
    "#check association with HbA1C:\n",
    "print 'checking which features are associated with HbA1C after correction for gender:'\n",
    "X=X_AgeGenderCorr\n",
    "phen='HbA1C'\n",
    "sampleSubset=PNP530\n",
    "featureDFname='AgeGenderCorrRes'\n",
    "GenderCorrrelated=check_features_to_correct(X,phenotypeDF,phen,sampleSubset=sampleSubset,featureDFname=featureDFname)\n",
    "\n",
    "#check association with Glucose:\n",
    "print 'checking which features are associated with Glucose after correction for gender:'\n",
    "X=X_AgeGenderCorr\n",
    "phen='Glucose'\n",
    "sampleSubset=PNP530\n",
    "featureDFname='AgeGenderCorrRes'\n",
    "GenderCorrrelated=check_features_to_correct(X,phenotypeDF,phen,sampleSubset=sampleSubset,featureDFname=featureDFname)\n",
    "\n",
    "#check association with WakeupGlucose:\n",
    "print 'checking which features are associated with WakeupGlucose after correction for gender:'\n",
    "X=X_AgeGenderCorr\n",
    "phen='WakeupGlucose'\n",
    "sampleSubset=PNP530\n",
    "featureDFname='AgeGenderCorrRes'\n",
    "GlucoseCorrrelated=check_features_to_correct(X,phenotypeDF,phen,sampleSubset=sampleSubset,featureDFname=featureDFname)\n",
    "\n",
    "#check association with eGFR by CKD-EPI:\n",
    "print 'checking which features are associated with eGFR by CKD-EPI after correction for gender:'\n",
    "X=X_AgeGenderCorr\n",
    "phen='eGFR by CKD-EPI'\n",
    "sampleSubset=PNP530\n",
    "featureDFname='AgeGenderCorrRes'\n",
    "GFRCorrrelated=check_features_to_correct(X,phenotypeDF,phen,sampleSubset=sampleSubset,featureDFname=featureDFname)\n",
    "\n",
    "#correct all featues for eGFR by CKD-EPI and generate new X:\n",
    "X_AgeGenderGFRCorr=pd.DataFrame(index=X.index, columns=X.columns,data=np.nan)\n",
    "X_AgeGenderGFRCorr=X_AgeGenderGFRCorr.loc[PNP530Cardio126,:] #ensure sample order\n",
    "for n,feature in enumerate(X_AgeGenderGFRCorr.columns):\n",
    "    print n,feature\n",
    "    if feature in GFRCorrrelated:\n",
    "        \n",
    "        phen_data=pd.DataFrame(phenotypeDF['eGFR by CKD-EPI'].fillna(phenotypeDF['eGFR by CKD-EPI'].median())).loc[PNP530Cardio126,:]\n",
    "        feature_data=pd.DataFrame(X[feature].fillna(0)) \n",
    "        featureName=feature\n",
    "        \n",
    "        res=calc_residuals(feature_data,phen_data,featureName,PNP530) #use only PNP530 samples to study\n",
    "        X_AgeGenderGFRCorr=pd.merge(X_AgeGenderGFRCorr,pd.DataFrame(res),how='inner',left_index=True, right_index=True)\n",
    "        X_AgeGenderGFRCorr=X_AgeGenderGFRCorr.rename(columns={'res':feature+'_GFRCorrRes'})\n",
    "        X_AgeGenderGFRCorr=X_AgeGenderGFRCorr.drop(feature,axis=1)\n",
    "    else:\n",
    "        X_AgeGenderGFRCorr[feature]=X[feature]\n",
    "print ('X_AgeGenderGFRCorr shape after correcting all features is',X_AgeGenderCorr.shape)\n",
    "\n",
    "f5=f1.replace('.dat','_AgeGenderGFRCorr.dat')\n",
    "X_AgeGenderGFRCorr.to_pickle(f5)\n",
    "\n",
    "#check again correlation with age and make sure there are nothing:\n",
    "print 'checking which features are correlated with age after GFR correction:'\n",
    "X=X_AgeGenderGFRCorr\n",
    "phen='Age'\n",
    "sampleSubset=PNP530\n",
    "featureDFname='AgeGenderGFRCorrRes'\n",
    "stillcorrelated=check_features_to_correct(X,phenotypeDF,phen,sampleSubset=sampleSubset,featureDFname=featureDFname)\n",
    "\n",
    "#check association with gender:\n",
    "print 'checking which features are associated with gender after correction for gender:'\n",
    "X=X_AgeGenderGFRCorr\n",
    "phen='Gender_Male'\n",
    "sampleSubset=PNP530\n",
    "featureDFname='AgeGenderGFRCorrRes'\n",
    "GenderCorrrelated=check_features_to_correct(X,phenotypeDF,phen,sampleSubset=sampleSubset,featureDFname=featureDFname)\n",
    "\n",
    "#check association with HbA1C:\n",
    "print 'checking which features are associated with HbA1C after correction for gender:'\n",
    "X=X_AgeGenderGFRCorr\n",
    "phen='HbA1C'\n",
    "sampleSubset=PNP530\n",
    "featureDFname='AgeGenderGFRCorrRes'\n",
    "GenderCorrrelated=check_features_to_correct(X,phenotypeDF,phen,sampleSubset=sampleSubset,featureDFname=featureDFname)\n",
    "\n",
    "#check association with Glucose:\n",
    "print 'checking which features are associated with Glucose after correction for gender:'\n",
    "X=X_AgeGenderGFRCorr\n",
    "phen='Glucose'\n",
    "sampleSubset=PNP530\n",
    "featureDFname='AgeGenderGFRCorrRes'\n",
    "GenderCorrrelated=check_features_to_correct(X,phenotypeDF,phen,sampleSubset=sampleSubset,featureDFname=featureDFname)\n",
    "\n",
    "#check association with GFR:\n",
    "print 'checking which features are associated with Glucose after correction for gender:'\n",
    "X=X_AgeGenderGFRCorr\n",
    "phen='eGFR by CKD-EPI'\n",
    "sampleSubset=PNP530\n",
    "featureDFname='AgeGenderGFRCorrRes'\n",
    "GenderCorrrelated=check_features_to_correct(X,phenotypeDF,phen,sampleSubset=sampleSubset,featureDFname=featureDFname)\n",
    "\n",
    "#use old X and new X for predictions:\n",
    "print 'done'\n",
    "\n"
   ]
  },
  {
   "cell_type": "code",
   "execution_count": null,
   "metadata": {
    "ExecuteTime": {
     "end_time": "2018-10-14T17:03:25.192932Z",
     "start_time": "2018-10-14T17:03:25.186994Z"
    }
   },
   "outputs": [],
   "source": [
    "325./671"
   ]
  },
  {
   "cell_type": "markdown",
   "metadata": {},
   "source": [
    "## check associations of corrected features with all other phenotypes \n",
    "to decide whether additional correction is needed and to show relationships between features and phenotypes:"
   ]
  },
  {
   "cell_type": "code",
   "execution_count": null,
   "metadata": {
    "ExecuteTime": {
     "end_time": "2018-10-21T12:07:58.064484Z",
     "start_time": "2018-10-21T12:07:57.149119Z"
    }
   },
   "outputs": [],
   "source": [
    "#PNP530 and Cardio126 samples:\n",
    "with open('/net/mraid08/export/genie/Lab/Personal/ShaniBAF/Sample files/BD lists/PNP530','rb') as fp:\n",
    "    PNP530=pickle.load(fp)\n",
    "with open('/net/mraid08/export/genie/Lab/Personal/ShaniBAF/Sample files/BD lists/Cardio126','rb') as fp:\n",
    "    Cardio126=pickle.load(fp)\n",
    "PNP530Cardio126=PNP530+Cardio126\n",
    "\n",
    "\n",
    "#load corrected X:\n",
    "f1='%s/TCR_real_data/Predictions/featureDFs/allTCRfeatures_percShared10__withRels_AgeGenderGFRCorr.dat' %MyPath\n",
    "X_corrected=pd.read_pickle(f1).loc[PNP530,:]\n",
    "print ('X_corrected shape is:', X_corrected.shape)\n",
    "print allFeatures.iloc[:4,:4]\n",
    "\n",
    "#load phenotypeDF:\n",
    "f2='%s/TCR_real_data/PNP530Cardio126Combined/Phenotypes/PNP530Cardio126_AllInfo_withDummies.xlsx' %MyPath\n",
    "phenotypeDF=pd.read_excel(f2).set_index('BD').loc[PNP530,:]\n",
    "print ('phenotype DF shape is:', phenotypeDF.shape)\n",
    "print phenotypeDF.iloc[:4,:4]\n",
    "\n",
    "#phenotypes with information for more than 520 samples:\n",
    "phenList_num=['AST', 'Age', 'BMI','Glucose', 'HDL', 'HbA1C','Hemoglobin', 'Total Cholesterol', 'WBC', 'eGFR by CKD-EPI']\n",
    "phenList_cat=['Gender_Male','Smoking Status_Yes','Smoking Status_Past']\n",
    "\n",
    "#check pearson correlation with numerical phenotypes:\n",
    "featureDF=X_corrected.copy()\n",
    "featureDFname='PNP530AgeGenderCorrResTCRfeatures'\n",
    "phenDF = phenotypeDF[phenList_num].copy()\n",
    "phenDFname='num_phens'\n",
    "testType='pearson'\n",
    "FDR=0.1\n",
    "\n",
    "\n",
    "feature_phen_pearson=calc_numPhens_TCRfeatures_associations_correlation(featureDF,featureDFname,phenDF,phenDFname,testType,FDR=0.1)\n",
    "\n",
    "f3='%s/TCR_real_data/TCR_phenotype_relations/%sTCRfeatures_%s_%sTest.xlsx' %(MyPath,featureDFname,phenDFname,testType)\n",
    "feature_phen_pearson.to_excel(f3)\n",
    "\n",
    "#check ttest with binary phenotypes:\n",
    "\n",
    "phenDF = phenotypeDF[phenList_cat].copy()\n",
    "phenDFname='cat_phens'\n",
    "\n",
    "feature_phen_ttest=calc_catPhens_TCRfeatures_associations_ttest(featureDF,featureDFname,phenDF,phenDFname,FDR)\n",
    "\n",
    "f4='%s/TCR_real_data/TCR_phenotype_relations/%sTCRfeatures_%s_ttest.xlsx' %(MyPath,featureDFname,phenDFname)\n",
    "feature_phen_ttest.to_excel(f4)"
   ]
  },
  {
   "cell_type": "code",
   "execution_count": null,
   "metadata": {
    "ExecuteTime": {
     "end_time": "2018-10-14T13:46:41.727639Z",
     "start_time": "2018-10-14T13:46:41.710459Z"
    }
   },
   "outputs": [],
   "source": [
    "phenotypeList=[]\n",
    "for phen in phenotypeDF.columns:\n",
    "    count=phenotypeDF[phen].count()\n",
    "#     print phen,count\n",
    "    if count>520:\n",
    "        phenotypeList.append(phen)\n",
    "phenotypeList"
   ]
  },
  {
   "cell_type": "markdown",
   "metadata": {},
   "source": [
    "## generate complete function for X correction for confounders"
   ]
  },
  {
   "cell_type": "markdown",
   "metadata": {},
   "source": [
    "develop a module in .py"
   ]
  },
  {
   "cell_type": "markdown",
   "metadata": {},
   "source": [
    "# is cardio prediction using my old function"
   ]
  },
  {
   "cell_type": "markdown",
   "metadata": {},
   "source": [
    "## explore feature DF:"
   ]
  },
  {
   "cell_type": "markdown",
   "metadata": {},
   "source": [
    "### EXPLORE IB BOTH DATASET TOGETHER:"
   ]
  },
  {
   "cell_type": "code",
   "execution_count": null,
   "metadata": {
    "ExecuteTime": {
     "end_time": "2018-10-19T19:56:03.279479Z",
     "start_time": "2018-10-19T19:55:57.808264Z"
    }
   },
   "outputs": [],
   "source": [
    "withRels=True\n",
    "\n",
    "if withRels:\n",
    "    f1='%s/TCR_real_data/Predictions/featureDFs/allTCRfeatures_percShared10__withRels.dat' %MyPath\n",
    "    f2='%s/TCR_real_data/Predictions/featureDFs/allTCRfeatures_percShared10__withRels_ANALYSIS.xlsx' %MyPath\n",
    "else:\n",
    "    f1='%s/TCR_real_data/Predictions/featureDFs/allTCRfeatures_percShared10_.dat' %MyPath\n",
    "    f2='%s/TCR_real_data/Predictions/featureDFs/allTCRfeatures_percShared10_ANALYSIS.xlsx' %MyPath\n",
    "\n",
    "    \n",
    "X_PNP530Cardio126=pd.read_pickle(f1).loc[PNP530Cardio126,:]\n",
    "\n",
    "print ('X shape:',X_PNP530Cardio126.shape )\n",
    "\n",
    "X_PNP530Cardio126_ANALYSIS=explore_feature_table(X_PNP530Cardio126)\n",
    "\n",
    "\n",
    "X_PNP530Cardio126_ANALYSIS.to_excel(f2)"
   ]
  },
  {
   "cell_type": "markdown",
   "metadata": {},
   "source": [
    "### plot annotation features distributions in patients vs. controls"
   ]
  },
  {
   "cell_type": "code",
   "execution_count": null,
   "metadata": {
    "ExecuteTime": {
     "end_time": "2018-10-19T20:02:01.029613Z",
     "start_time": "2018-10-19T20:01:51.226741Z"
    }
   },
   "outputs": [],
   "source": [
    "#compare seq_count to cum_freq:\n",
    "\n",
    "epitopelist=['Allergy','BreastCancer','CMV','Celiacdisease','Colorectalcancer','DiabetesType1','EBV','HCV',\n",
    "            'HIV','HomoSapiens','Influenza','DENV','M.tuberculosis','YellowFeverVirus','WestNilevirus',\n",
    "            'RSV','LCMV','Multiplesclerosis','RheumatoidArthritis',\n",
    "             'SIV','Leukemia','CalcifiedAorticStenosisdisease','HSV']\n",
    "\n",
    "fig,axes=plt.subplots(nrows=len(epitopelist),ncols=2,figsize=(8,3*len(epitopelist)))\n",
    "\n",
    "for n,e in enumerate(epitopelist):\n",
    "    count='%s_rel_seq_count' %e\n",
    "    freq='%s_rel_cum_freq(perc)' %e\n",
    "    \n",
    "    ax=axes[n,0]\n",
    "    feat=count\n",
    "    try:\n",
    "        merged=pd.merge(pd.DataFrame(X_PNP530Cardio126[feat]),targetDF,how='inner',left_index=True,right_index=True)\n",
    "        data={}\n",
    "        dataList=[]\n",
    "        groups=merged.groupby('isCardio')\n",
    "        for name,group in groups:\n",
    "            data[name]=group[feat].tolist()\n",
    "            dataList.append((name,group[feat].tolist()))\n",
    "            title=feat\n",
    "        ax,ks_p_cohort1_cohort2,t_p_cohort1_cohort2,p_Anov,filename=plotHistComprison(dataList,ax,title,\n",
    "                                                    showLegend=True,nBins=3,toAnnotate=True,alpha=0.5,\n",
    "                                                        plotType='kde')\n",
    "\n",
    "        ax=axes[n,1]\n",
    "        feat=freq\n",
    "        merged=pd.merge(pd.DataFrame(X_PNP530Cardio126[feat]),targetDF,how='inner',left_index=True,right_index=True)\n",
    "        data={}\n",
    "        dataList=[]\n",
    "        groups=merged.groupby('isCardio')\n",
    "        for name,group in groups:\n",
    "            data[name]=group[feat].tolist()\n",
    "            dataList.append((name,group[feat].tolist()))\n",
    "            title=feat\n",
    "        ax,ks_p_cohort1_cohort2,t_p_cohort1_cohort2,p_Anov,filename=plotHistComprison(dataList,ax,title,\n",
    "                                                    showLegend=True,nBins=3,toAnnotate=True,alpha=0.5,\n",
    "                                                        plotType='kde')\n",
    "    except:\n",
    "        print 'the feature %s doesnt exist' %feat\n",
    "\n",
    "fig.subplots_adjust(hspace=0.3)      \n",
    "plt.show()   "
   ]
  },
  {
   "cell_type": "markdown",
   "metadata": {},
   "source": [
    "### explore corrected annotation feature distributions in patients vs. controls"
   ]
  },
  {
   "cell_type": "markdown",
   "metadata": {},
   "source": [
    "#### hist:"
   ]
  },
  {
   "cell_type": "code",
   "execution_count": null,
   "metadata": {
    "ExecuteTime": {
     "end_time": "2018-10-19T20:10:42.817306Z",
     "start_time": "2018-10-19T20:10:21.155091Z"
    }
   },
   "outputs": [],
   "source": [
    "f1='%s/TCR_real_data/Predictions/featureDFs/allTCRfeatures_percShared10__withRels_AgeGenderGFRCorr.dat' %MyPath\n",
    "X_corr_PNP530Cardio126=pd.read_pickle(f1).loc[PNP530Cardio126,:]\n",
    "\n",
    "\n",
    "\n",
    "#compare seq_count to cum_freq:\n",
    "\n",
    "epitopelist=['Allergy','BreastCancer','CMV','Celiacdisease','Colorectalcancer','DiabetesType1','EBV','HCV',\n",
    "            'HIV','HomoSapiens','Influenza','Lupus','DENV','M.tuberculosis','YellowFeverVirus','WestNilevirus',\n",
    "            'Lungcancer','Plasmodiumberghei','RSV','Multiplesclerosis','RheumatoidArthritis',\n",
    "             'SIV','Leukemia','CalcifiedAorticStenosisdisease','HSV','Melanoma','totalAnnotateSeqs','totalAnnotateFreqs']\n",
    "\n",
    "fig,axes=plt.subplots(nrows=len(epitopelist),ncols=2,figsize=(8,3*len(epitopelist)))\n",
    "\n",
    "for n,e in enumerate(epitopelist):\n",
    "    if (e=='totalAnnotateSeqs') or (e=='totalAnnotateSeqs'):\n",
    "        count=e\n",
    "        freq=''\n",
    "    else:\n",
    "        count='%s_rel_seq_count' %e\n",
    "        freq='%s_rel_cum_freq(perc)' %e\n",
    "    \n",
    "    for col in X_corr_PNP530Cardio126.columns:\n",
    "        if count in col:\n",
    "            count=col\n",
    "        if freq in col:\n",
    "            freq=col\n",
    "        \n",
    "    ax=axes[n,0]\n",
    "    feat=count\n",
    "    try:\n",
    "        merged=pd.merge(pd.DataFrame(X_corr_PNP530Cardio126[feat]),targetDF,how='inner',left_index=True,right_index=True)\n",
    "        data={}\n",
    "        dataList=[]\n",
    "        groups=merged.groupby('isCardio')\n",
    "        for name,group in groups:\n",
    "            data[name]=group[feat].tolist()\n",
    "            dataList.append((name,group[feat].tolist()))\n",
    "            title=feat\n",
    "        ax,ks_p_cohort1_cohort2,t_p_cohort1_cohort2,p_Anov,filename=plotHistComprison(dataList,ax,title,\n",
    "                                                    showLegend=True,nBins=10,toAnnotate=True,alpha=0.5,\n",
    "                                                        plotType='hist')\n",
    "        ax.set_yscale('log')\n",
    "    except:\n",
    "        print 'the feature %s doesnt exist' %feat\n",
    "\n",
    "    ax=axes[n,1]\n",
    "    feat=freq\n",
    "    \n",
    "    try:\n",
    "        merged=pd.merge(pd.DataFrame(X_corr_PNP530Cardio126[feat]),targetDF,how='inner',left_index=True,right_index=True)\n",
    "        data={}\n",
    "        dataList=[]\n",
    "        groups=merged.groupby('isCardio')\n",
    "        for name,group in groups:\n",
    "            data[name]=group[feat].tolist()\n",
    "            dataList.append((name,group[feat].tolist()))\n",
    "            title=feat\n",
    "        ax,ks_p_cohort1_cohort2,t_p_cohort1_cohort2,p_Anov,filename=plotHistComprison(dataList,ax,title,\n",
    "                                                    showLegend=True,nBins=10,toAnnotate=True,alpha=0.5,\n",
    "                                                        plotType='hist')\n",
    "        ax.set_yscale('log')\n",
    "    except:\n",
    "        print 'the feature %s doesnt exist' %feat\n",
    "\n",
    "fig.subplots_adjust(hspace=0.3)      \n",
    "plt.show()   "
   ]
  },
  {
   "cell_type": "markdown",
   "metadata": {},
   "source": [
    "#### kde:"
   ]
  },
  {
   "cell_type": "code",
   "execution_count": null,
   "metadata": {
    "ExecuteTime": {
     "end_time": "2018-10-19T20:17:58.748116Z",
     "start_time": "2018-10-19T20:17:58.151702Z"
    }
   },
   "outputs": [],
   "source": [
    "f1='%s/TCR_real_data/Predictions/featureDFs/allTCRfeatures_percShared10__withRels_AgeGenderGFRCorr.dat' %MyPath\n",
    "X_corr_PNP530Cardio126=pd.read_pickle(f1).loc[PNP530Cardio126,:]\n",
    "\n",
    "targetDF=pd.DataFrame(index=['BD'+str(x) for x in range(1,1100)])\n",
    "targetDF['isCardio']=np.where(targetDF.index.str.replace('BD','').astype(int)>949,1,0)\n",
    "targetDF=targetDF.loc[X_corr_PNP530Cardio126.index,:]\n",
    "\n",
    "\n",
    "\n",
    "\n",
    "featToExplore=['CMV_rel_seq_count_GenderCorrRes','CMV_cum_freq(perc)_count_AgeCorrRes_GenderCorrRes']\n",
    "for feat in featToExplore:\n",
    "    print feat\n",
    "    merged=pd.merge(pd.DataFrame(X_corr_PNP530Cardio126[feat]),targetDF,how='inner',left_index=True,right_index=True)\n",
    "    data={}\n",
    "    dataList=[]\n",
    "    groups=merged.groupby('isCardio')\n",
    "    fig,ax=plt.subplots()\n",
    "    for name,group in groups:\n",
    "        data[name]=group[feat].tolist()\n",
    "        dataList.append((name,group[feat].tolist()))\n",
    "        title=feat\n",
    "    ax,ks_p_cohort1_cohort2,t_p_cohort1_cohort2,p_Anov,filename=plotHistComprison(dataList,ax,title,\n",
    "                                                showLegend=True,nBins=3,toAnnotate=True,alpha=0.5,\n",
    "                                                    plotType='kde')\n",
    "    plt.show()\n",
    "    \n",
    "    "
   ]
  },
  {
   "cell_type": "code",
   "execution_count": null,
   "metadata": {},
   "outputs": [],
   "source": []
  },
  {
   "cell_type": "markdown",
   "metadata": {},
   "source": [
    "# run prediction models:"
   ]
  },
  {
   "cell_type": "markdown",
   "metadata": {},
   "source": [
    "### run XGBoost:"
   ]
  },
  {
   "cell_type": "code",
   "execution_count": null,
   "metadata": {
    "ExecuteTime": {
     "end_time": "2018-10-20T13:01:16.822536Z",
     "start_time": "2018-10-19T20:19:47.645320Z"
    }
   },
   "outputs": [],
   "source": [
    "#get dfs:\n",
    "#new X: includes all TCR features, corrected for age and Gender\n",
    "datasetFolder='%s/TCR_real_data/PNP530Cardio126Combined' %MyPath\n",
    "with open('/net/mraid08/export/genie/Lab/Personal/ShaniBAF/Sample files/BD lists/PNP530','rb') as fp:\n",
    "    PNP530=pickle.load(fp)\n",
    "with open('/net/mraid08/export/genie/Lab/Personal/ShaniBAF/Sample files/BD lists/Cardio126','rb') as fp:\n",
    "    Cardio126=pickle.load(fp)\n",
    "PNP530Cardio126=PNP530+Cardio126\n",
    "\n",
    "f1='%s/TCR_real_data/Predictions/featureDFs/allTCRfeatures_percShared10__withRels_AgeGenderGFRCorr.dat' %MyPath\n",
    "X_corrected=pd.read_pickle(f1).loc[PNP530Cardio126,:]\n",
    "\n",
    "targetDF=pd.DataFrame(index=['BD'+str(x) for x in range(1,1100)])\n",
    "targetDF['isCardio']=np.where(targetDF.index.str.replace('BD','').astype(int)>949,1,0)\n",
    "targetDF=targetDF.loc[X_corrected.index,:]\n",
    "\n",
    "#classification parameters:\n",
    "model=XGBClassifier\n",
    "modelName='XGBClassifier'\n",
    "task='class'\n",
    "\n",
    "\n",
    "k_list=[20,100]\n",
    "featureSelectionMethod_list=['usingModel',None]\n",
    "# featureSelectionMethod_list=[None]\n",
    "X=X_corrected.copy()\n",
    "Xname='X_AgeGenderGFRCorrected_withRels'\n",
    "Y=targetDF.iloc[:,0]\n",
    "\n",
    "gammaList=[0,1,10]\n",
    "reg_lambda_list=[1,10]\n",
    "reg_alpha_list=[0,1,10]\n",
    "featureSelectionMethod_list=['usingModel',None]\n",
    "max_depth_list=[0,1,3,5,10]\n",
    "learninglist=[(0.05,100),(0.01,500)]\n",
    "\n",
    "for gamma in gammaList:\n",
    "    for reg_alpha in reg_alpha_list:\n",
    "        for reg_lambda in reg_lambda_list:\n",
    "            for max_depth in max_depth_list:\n",
    "                for learning in learninglist:\n",
    "                    learning_rate=learning[0]\n",
    "                    n_estimators=learning[1]\n",
    "                    model_params={'learning_rate': learning_rate, 'n_estimators': n_estimators,'max_depth': max_depth,\n",
    "                                  'num_threads':2,'bagging_fraction':0.5,'bagging_freq':1, 'bagging_seed':3,'gamma':gamma,'reg_alpha':reg_alpha,\n",
    "                                'reg_lambda':reg_lambda}\n",
    "\n",
    "                    resultFolder='%s/TCR_real_data/CardioSamples/Predictions/isCardio_predictions/newFeatures_withRels' %MyPath\n",
    "\n",
    "                    run_old_classification(X,Xname, Y, k_list,model, modelName,model_params,task,resultFolder,featureSelectionMethod_list)"
   ]
  },
  {
   "cell_type": "markdown",
   "metadata": {},
   "source": [
    "### run logReg:"
   ]
  },
  {
   "cell_type": "code",
   "execution_count": null,
   "metadata": {
    "ExecuteTime": {
     "end_time": "2018-10-17T11:26:48.983135Z",
     "start_time": "2018-10-17T11:17:46.178097Z"
    }
   },
   "outputs": [],
   "source": [
    "#get dfs:\n",
    "#new X: includes all TCR features, corrected for age and Gender\n",
    "datasetFolder='%s/TCR_real_data/PNP530Cardio126Combined' %MyPath\n",
    "with open('/net/mraid08/export/genie/Lab/Personal/ShaniBAF/Sample files/BD lists/PNP530','rb') as fp:\n",
    "    PNP530=pickle.load(fp)\n",
    "with open('/net/mraid08/export/genie/Lab/Personal/ShaniBAF/Sample files/BD lists/Cardio126','rb') as fp:\n",
    "    Cardio126=pickle.load(fp)\n",
    "PNP530Cardio126=PNP530+Cardio126\n",
    "\n",
    "f1='%s/TCR_real_data/Predictions/featureDFs/allTCRfeatures_percShared10__withRels_AgeGenderGFRCorr.dat' %MyPath\n",
    "X_corrected=pd.read_pickle(f1).loc[PNP530Cardio126,:]\n",
    "\n",
    "targetDF=pd.DataFrame(index=['BD'+str(x) for x in range(1,1100)])\n",
    "targetDF['isCardio']=np.where(targetDF.index.str.replace('BD','').astype(int)>949,1,0)\n",
    "targetDF=targetDF.loc[X_corrected.index,:]\n",
    "\n",
    "\n",
    "task='class'\n",
    "k_list=[10,20,100,200]\n",
    "featureSelectionMethod_list=[f_classif,None]\n",
    "X=X_corrected.copy()\n",
    "Xname='X_AgeGenderGFRCorrected_withRels'\n",
    "Y=targetDF.iloc[:,0]\n",
    "\n",
    "resultFolder='%s/TCR_real_data/CardioSamples/Predictions/isCardio_predictions/newFeatures' %MyPath\n",
    "\n",
    "C_list=[0.1,0.5,1,5]\n",
    "penalty_list=['l1','l2']\n",
    "for C in C_list:\n",
    "    for penalty in penalty_list:\n",
    "\n",
    "                model_params={'C':C,'penalty':penalty,'class_weight':{0:0.808,1:0.192}                                   \n",
    "                run_old_classification(X,Xname, Y, k_list,model, modelName,model_params,task,resultFolder,featureSelectionMethod_list)\n",
    "    "
   ]
  },
  {
   "cell_type": "markdown",
   "metadata": {},
   "source": [
    "### get results:"
   ]
  },
  {
   "cell_type": "code",
   "execution_count": null,
   "metadata": {
    "ExecuteTime": {
     "end_time": "2018-10-17T13:09:15.818885Z",
     "start_time": "2018-10-17T13:09:14.902163Z"
    }
   },
   "outputs": [],
   "source": [
    "folder='%s/TCR_real_data/CardioSamples/Predictions/isCardio_predictions/newFeatures/isCardio' %MyPath\n",
    "df_folder='%s/resultDFs' %folder\n",
    "results=concat_summarizing_dfs_excel(df_folder)\n",
    "results=results.sort_values(by='roc_auc', ascending=False)\n",
    "f1='%s/resultSummary_%s.xlsx' %(folder,cdate)\n",
    "results.to_excel(f1)\n",
    "results.head(20)\n",
    "    "
   ]
  },
  {
   "cell_type": "markdown",
   "metadata": {},
   "source": [
    "### run again logReg with calibration:"
   ]
  },
  {
   "cell_type": "code",
   "execution_count": 3,
   "metadata": {
    "ExecuteTime": {
     "end_time": "2018-10-24T16:38:33.616559Z",
     "start_time": "2018-10-24T16:38:33.574871Z"
    }
   },
   "outputs": [],
   "source": [
    "from sklearn.model_selection import GridSearchCV\n",
    "from sklearn.preprocessing import StandardScaler\n",
    "\n",
    "\n",
    "#get dfs:\n",
    "#new X: includes all TCR features, corrected for age and Gender\n",
    "datasetFolder='%s/TCR_real_data/PNP530Cardio126Combined' %MyPath\n",
    "with open('/net/mraid08/export/genie/Lab/Personal/ShaniBAF/Sample files/BD lists/PNP530','rb') as fp:\n",
    "    PNP530=pickle.load(fp)\n",
    "with open('/net/mraid08/export/genie/Lab/Personal/ShaniBAF/Sample files/BD lists/Cardio126','rb') as fp:\n",
    "    Cardio126=pickle.load(fp)\n",
    "PNP530Cardio126=PNP530+Cardio126\n",
    "\n",
    "f1='%s/TCR_real_data/Predictions/featureDFs/allTCRfeatures_percShared10__withRels_AgeGenderGFRCorr.dat' %MyPath\n",
    "X_corrected=pd.read_pickle(f1).loc[PNP530Cardio126,:]\n",
    "\n",
    "targetDF=pd.DataFrame(index=['BD'+str(x) for x in range(1,1100)])\n",
    "targetDF['isCardio']=np.where(targetDF.index.str.replace('BD','').astype(int)>949,1,0)\n",
    "targetDF=targetDF.loc[X_corrected.index,:]\n",
    "\n",
    "\n",
    "X=X_corrected.copy()\n",
    "Xname='X_AgeGenderGFRCorrected_withRels'\n",
    "scaler = StandardScaler()\n",
    "scaler.fit(X) \n",
    "X_scaled = pd.DataFrame(scaler.transform(X),columns = X.columns)\n",
    "Xname=Xname+'_scaled'\n",
    "Y=targetDF.iloc[:,0]"
   ]
  },
  {
   "cell_type": "code",
   "execution_count": 5,
   "metadata": {
    "ExecuteTime": {
     "end_time": "2018-10-24T16:56:41.440766Z",
     "start_time": "2018-10-24T16:40:34.904769Z"
    }
   },
   "outputs": [
    {
     "name": "stdout",
     "output_type": "stream",
     "text": [
      "precision\n",
      "Fitting 10 folds for each of 10 candidates, totalling 100 fits\n"
     ]
    },
    {
     "name": "stderr",
     "output_type": "stream",
     "text": [
      "[Parallel(n_jobs=2)]: Done  46 tasks      | elapsed:  2.2min\n",
      "[Parallel(n_jobs=2)]: Done 100 out of 100 | elapsed:  5.3min finished\n"
     ]
    },
    {
     "name": "stdout",
     "output_type": "stream",
     "text": [
      "Best parameters set found on development set:\n",
      "()\n",
      "{'penalty': 'l1', 'C': 10}\n",
      "()\n",
      "Grid scores on development set:\n",
      "()\n"
     ]
    },
    {
     "data": {
      "image/png": "[encoded data removed]",
      "text/plain": [
       "<matplotlib.figure.Figure at 0x7f8e92ac19d0>"
      ]
     },
     "metadata": {},
     "output_type": "display_data"
    },
    {
     "name": "stdout",
     "output_type": "stream",
     "text": [
      "recall\n",
      "Fitting 10 folds for each of 10 candidates, totalling 100 fits\n"
     ]
    },
    {
     "name": "stderr",
     "output_type": "stream",
     "text": [
      "[Parallel(n_jobs=2)]: Done  46 tasks      | elapsed:  2.1min\n",
      "[Parallel(n_jobs=2)]: Done 100 out of 100 | elapsed:  5.3min finished\n"
     ]
    },
    {
     "name": "stdout",
     "output_type": "stream",
     "text": [
      "Best parameters set found on development set:\n",
      "()\n",
      "{'penalty': 'l1', 'C': 50}\n",
      "()\n",
      "Grid scores on development set:\n",
      "()\n"
     ]
    },
    {
     "data": {
      "image/png": "[encoded data removed]",
      "text/plain": [
       "<matplotlib.figure.Figure at 0x7f8e8202b350>"
      ]
     },
     "metadata": {},
     "output_type": "display_data"
    },
    {
     "name": "stdout",
     "output_type": "stream",
     "text": [
      "roc_auc\n",
      "Fitting 10 folds for each of 10 candidates, totalling 100 fits\n"
     ]
    },
    {
     "name": "stderr",
     "output_type": "stream",
     "text": [
      "[Parallel(n_jobs=2)]: Done  46 tasks      | elapsed:  2.2min\n",
      "[Parallel(n_jobs=2)]: Done 100 out of 100 | elapsed:  5.0min finished\n"
     ]
    },
    {
     "name": "stdout",
     "output_type": "stream",
     "text": [
      "Best parameters set found on development set:\n",
      "()\n",
      "{'penalty': 'l1', 'C': 10}\n",
      "()\n",
      "Grid scores on development set:\n",
      "()\n"
     ]
    },
    {
     "data": {
      "image/png": "[encoded data removed]",
      "text/plain": [
       "<matplotlib.figure.Figure at 0x7f8e31dfe7d0>"
      ]
     },
     "metadata": {},
     "output_type": "display_data"
    }
   ],
   "source": [
    "\n",
    "\n",
    "\n",
    "\n",
    "\n",
    "\n",
    "# scores = ['precision', 'recall','roc_auc']\n",
    "scores = ['roc_auc']\n",
    "Cs=[1,5,10,50,100]\n",
    "# Cs=[0.001,0.01,0.1,1,10,100]\n",
    "# Cs=[0.001,100]\n",
    "penalties=['l1','l2']\n",
    "# penalties=['l1']\n",
    "\n",
    "#generating the cv object:\n",
    "group_kfold = StratifiedKFold(n_splits=n_splits)\n",
    "groups = None\n",
    "\n",
    "# LOOP OVER CV FOLDS:\n",
    "for train_index, val_index in group_kfold.split(X, Y, groups):\n",
    "    \n",
    "    print i\n",
    "    i += 1\n",
    "    X_train, X_val = X.iloc[train_index], X.iloc[val_index]\n",
    "    y_train, y_val = Y.loc[X_train.index], Y.loc[X_val.index]\n",
    "\n",
    "\n",
    "    clf = GridSearchCV(LogisticRegression(), param_grid={'C':Cs,'penalty':penalties}, cv=10,\n",
    "                       scoring=score,n_jobs=2,verbose=1)\n",
    "    clf.fit(X_train, y_train)\n",
    "\n",
    "    print(\"Best parameters set found on development set:\")\n",
    "    print()\n",
    "    print(clf.best_params_)\n",
    "    print()\n",
    "    print(\"Grid scores on development set:\")\n",
    "    print()\n",
    "    means = clf.cv_results_['mean_test_score']\n",
    "    stds = clf.cv_results_['std_test_score']\n",
    "    Xs=[]\n",
    "    for i in range(len(Cs)):\n",
    "        for j in range(len(penalties)):\n",
    "            x='C=%s_p=%s' %(Cs[i],penalties[j])\n",
    "            Xs.append(x)\n",
    "\n",
    "    fig,ax=plt.subplots()\n",
    "    ax.plot(range(len(Xs)),means)\n",
    "    ax.set_xticks(range(len(Xs)))\n",
    "    ax.set_xticklabels(Xs,rotation=90)\n",
    "#     ax.set_xscale('log')\n",
    "    ax.set_xlabel('C value')\n",
    "    ax.set_ylabel(score)\n",
    "\n",
    "    plt.show()\n",
    "    \n",
    "    y_pred_proba = m.predict_proba(X_val)\n",
    "    y_pred_df.loc[y_val.index, :] = np.expand_dims(y_pred_proba[:, 1], 1)\n",
    "\n"
   ]
  },
  {
   "cell_type": "markdown",
   "metadata": {},
   "source": [
    "#### FIND THE BEST FEATURES:"
   ]
  },
  {
   "cell_type": "code",
   "execution_count": 15,
   "metadata": {
    "ExecuteTime": {
     "end_time": "2018-10-24T17:16:57.734285Z",
     "start_time": "2018-10-24T17:16:33.575592Z"
    }
   },
   "outputs": [
    {
     "name": "stdout",
     "output_type": "stream",
     "text": [
      "0\n"
     ]
    },
    {
     "data": {
      "image/png": "[encoded data removed]",
      "text/plain": [
       "<matplotlib.figure.Figure at 0x7f8e1648d610>"
      ]
     },
     "metadata": {},
     "output_type": "display_data"
    },
    {
     "name": "stdout",
     "output_type": "stream",
     "text": [
      "1\n"
     ]
    },
    {
     "data": {
      "image/png": "[encoded data removed]",
      "text/plain": [
       "<matplotlib.figure.Figure at 0x7f8e1648dc50>"
      ]
     },
     "metadata": {},
     "output_type": "display_data"
    },
    {
     "name": "stdout",
     "output_type": "stream",
     "text": [
      "2\n"
     ]
    },
    {
     "data": {
      "image/png": "[encoded data removed]",
      "text/plain": [
       "<matplotlib.figure.Figure at 0x7f8e31cac190>"
      ]
     },
     "metadata": {},
     "output_type": "display_data"
    }
   ],
   "source": [
    "model_params={'C': 10, 'penalty':'l1'}\n",
    "n_splits=3\n",
    "\n",
    "#get dfs:\n",
    "#new X: includes all TCR features, corrected for age and Gender\n",
    "datasetFolder='%s/TCR_real_data/PNP530Cardio126Combined' %MyPath\n",
    "with open('/net/mraid08/export/genie/Lab/Personal/ShaniBAF/Sample files/BD lists/PNP530','rb') as fp:\n",
    "    PNP530=pickle.load(fp)\n",
    "with open('/net/mraid08/export/genie/Lab/Personal/ShaniBAF/Sample files/BD lists/Cardio126','rb') as fp:\n",
    "    Cardio126=pickle.load(fp)\n",
    "PNP530Cardio126=PNP530+Cardio126\n",
    "\n",
    "f1='%s/TCR_real_data/Predictions/featureDFs/allTCRfeatures_percShared10__withRels_AgeGenderGFRCorr.dat' %MyPath\n",
    "X_corrected=pd.read_pickle(f1).loc[PNP530Cardio126,:]\n",
    "\n",
    "targetDF=pd.DataFrame(index=['BD'+str(x) for x in range(1,1100)])\n",
    "targetDF['isCardio']=np.where(targetDF.index.str.replace('BD','').astype(int)>949,1,0)\n",
    "targetDF=targetDF.loc[X_corrected.index,:]\n",
    "\n",
    "\n",
    "X=X_corrected.copy()\n",
    "Xname='X_AgeGenderGFRCorrected_withRels'\n",
    "scaler = StandardScaler()\n",
    "scaler.fit(X) \n",
    "X_scaled = pd.DataFrame(scaler.transform(X),columns = X.columns)\n",
    "Xname=Xname+'_scaled'\n",
    "Y=targetDF.iloc[:,0]\n",
    "\n",
    "group_kfold = StratifiedKFold(n_splits=n_splits)\n",
    "groups = None\n",
    "y_pred_df = pd.DataFrame(index=Y.index, columns=['pred_proba'])\n",
    "i = 0\n",
    "\n",
    "for train_index, val_index in group_kfold.split(X_scaled, Y, groups):\n",
    "    print i\n",
    "    i += 1\n",
    "    X_train, X_val = X.iloc[train_index], X.iloc[val_index]\n",
    "    y_train, y_val = Y.loc[X_train.index], Y.loc[X_val.index]\n",
    "\n",
    "    clf = LogisticRegression(**model_params)\n",
    "    clf.fit( X_train,y_train)\n",
    "\n",
    "    feature_importance = abs(clf.coef_[0])\n",
    "    feature_importance = 100.0 * (feature_importance / feature_importance.max())\n",
    "    sorted_idx = np.argsort(feature_importance)\n",
    "    pos = np.arange(sorted_idx.shape[0]) + .5\n",
    "\n",
    "    featfig = plt.figure()\n",
    "    featax = featfig.add_subplot(1, 1, 1)\n",
    "    featax.barh(pos[:10], feature_importance[sorted_idx][:10], align='center')\n",
    "    featax.set_yticks(pos[:10])\n",
    "    featax.set_yticklabels(np.array(X.columns)[sorted_idx][:10], fontsize=8)\n",
    "    featax.set_xlabel('Relative Feature Importance')\n",
    "\n",
    "    plt.tight_layout()   \n",
    "    plt.show()\n",
    "    \n",
    "    y_pred_proba = clf.predict_proba(X_val)\n",
    "    y_pred_df.loc[y_val.index, :] = np.expand_dims(y_pred_proba[:, 1], 1)"
   ]
  },
  {
   "cell_type": "markdown",
   "metadata": {},
   "source": [
    "### random search on XGB\n",
    "\n"
   ]
  },
  {
   "cell_type": "code",
   "execution_count": 26,
   "metadata": {
    "ExecuteTime": {
     "end_time": "2018-11-06T12:27:59.415643Z",
     "start_time": "2018-11-06T12:27:38.577523Z"
    }
   },
   "outputs": [
    {
     "name": "stdout",
     "output_type": "stream",
     "text": [
      "X\n",
      "       D01_J01-03_0  D01_J01-03_1  D01_J01-03_T  D01_J02-06_0  D02_J01-03_0  \\\n",
      "BD406           0.0      0.000000      0.000000      0.010760           0.0   \n",
      "BD228           0.0      0.000122      0.000094      0.015108           0.0   \n",
      "BD714           0.0      0.000000      0.000000      0.008874           0.0   \n",
      "BD808           0.0      0.000000      0.000000      0.010067           0.0   \n",
      "BD144           0.0      0.000094      0.000074      0.009427           0.0   \n",
      "\n",
      "       D02_J01-03_1  D02_J01-03_T  D02_J01-05_0  D02_J01-05_T  D02_J02-04_1  \\\n",
      "BD406      0.000000      0.000000      0.000672      0.000153      0.010322   \n",
      "BD228      0.000000      0.000000      0.000000      0.000188      0.007829   \n",
      "BD714      0.000000      0.000000      0.000000      0.000124      0.006996   \n",
      "BD808      0.000000      0.000000      0.000000      0.000068      0.005911   \n",
      "BD144      0.000094      0.000074      0.000000      0.000592      0.007417   \n",
      "\n",
      "                        ...                     \\\n",
      "BD406                   ...                      \n",
      "BD228                   ...                      \n",
      "BD714                   ...                      \n",
      "BD808                   ...                      \n",
      "BD144                   ...                      \n",
      "\n",
      "       d5Deletion_std_1_AgeCorrRes_GenderCorrRes_GFRCorrRes  \\\n",
      "BD406                                           0.018207      \n",
      "BD228                                          -0.058727      \n",
      "BD714                                           0.018794      \n",
      "BD808                                          -0.010393      \n",
      "BD144                                          -0.024008      \n",
      "\n",
      "       d5Deletion_std_T_AgeCorrRes_GenderCorrRes_GFRCorrRes  \\\n",
      "BD406                                          -0.000842      \n",
      "BD228                                          -0.057736      \n",
      "BD714                                           0.015167      \n",
      "BD808                                          -0.011216      \n",
      "BD144                                          -0.014811      \n",
      "\n",
      "       max_nt_per_aa_1_AgeCorrRes_GenderCorrRes_GFRCorrRes  \\\n",
      "BD406                                          -9.288666     \n",
      "BD228                                         -10.133151     \n",
      "BD714                                           6.167248     \n",
      "BD808                                           2.766510     \n",
      "BD144                                           4.407513     \n",
      "\n",
      "       mean_nt_per_aa_1_AgeCorrRes_GenderCorrRes_GFRCorrRes  \\\n",
      "BD406                                          -0.038192      \n",
      "BD228                                          -0.013459      \n",
      "BD714                                          -0.014486      \n",
      "BD808                                          -0.011766      \n",
      "BD144                                           0.052482      \n",
      "\n",
      "       mean_nt_per_aa_T_AgeCorrRes_GenderCorrRes_GFRCorrRes  \\\n",
      "BD406                                          -0.037714      \n",
      "BD228                                          -0.013050      \n",
      "BD714                                          -0.014080      \n",
      "BD808                                          -0.011432      \n",
      "BD144                                           0.051839      \n",
      "\n",
      "       shannon_nt_1_AgeCorrRes_GenderCorrRes_GFRCorrRes  \\\n",
      "BD406                                          0.263770   \n",
      "BD228                                          0.712507   \n",
      "BD714                                         -0.243113   \n",
      "BD808                                          0.356159   \n",
      "BD144                                          0.058484   \n",
      "\n",
      "       shannon_nt_T_AgeCorrRes_GenderCorrRes_GFRCorrRes  \\\n",
      "BD406                                          0.297889   \n",
      "BD228                                          0.784537   \n",
      "BD714                                         -0.356397   \n",
      "BD808                                          0.407649   \n",
      "BD144                                          0.135719   \n",
      "\n",
      "       vDeletion_std_0_AgeCorrRes_GenderCorrRes_GFRCorrRes  \\\n",
      "BD406                                          -0.193407     \n",
      "BD228                                          -0.163607     \n",
      "BD714                                          -0.025032     \n",
      "BD808                                          -0.102511     \n",
      "BD144                                          -0.121625     \n",
      "\n",
      "       totalAnnotateSeqs_AgeCorrRes_GenderCorrRes_GFRCorrRes  \\\n",
      "BD406                                         -48.020024       \n",
      "BD228                                          30.160679       \n",
      "BD714                                         -50.156692       \n",
      "BD808                                          45.362004       \n",
      "BD144                                          61.306314       \n",
      "\n",
      "       PC1_AgeCorrRes_GenderCorrRes_GFRCorrRes  \n",
      "BD406                                -0.014907  \n",
      "BD228                                -0.001242  \n",
      "BD714                                -0.001644  \n",
      "BD808                                 0.007147  \n",
      "BD144                                 0.011857  \n",
      "\n",
      "[5 rows x 658 columns]\n",
      "Y\n",
      "BD406    0\n",
      "BD228    0\n",
      "BD714    0\n",
      "BD808    0\n",
      "BD144    0\n",
      "Name: isCardio, dtype: int64\n",
      "# Tuning hyper-parameters for roc_auc\n",
      "()\n",
      "roc_auc\n",
      "Fitting 3 folds for each of 2 candidates, totalling 6 fits\n"
     ]
    },
    {
     "name": "stderr",
     "output_type": "stream",
     "text": [
      "[Parallel(n_jobs=2)]: Done   6 out of   6 | elapsed:   10.6s finished\n"
     ]
    },
    {
     "name": "stdout",
     "output_type": "stream",
     "text": [
      "Best parameters set found on development set:\n",
      "()\n",
      "{'reg_alpha': 10, 'learning_rate': 0.1, 'n_estimators': 100, 'reg_lambda': 10, 'max_depth': 10, 'gamma': 5}\n",
      "()\n"
     ]
    }
   ],
   "source": [
    "from sklearn.model_selection import RandomizedSearchCV\n",
    "\n",
    "#get dfs:\n",
    "#new X: includes all TCR features, corrected for age and Gender\n",
    "datasetFolder='%s/TCR_real_data/PNP530Cardio126Combined' %MyPath\n",
    "with open('/net/mraid08/export/genie/Lab/Personal/ShaniBAF/Sample files/BD lists/PNP530','rb') as fp:\n",
    "    PNP530=pickle.load(fp)\n",
    "with open('/net/mraid08/export/genie/Lab/Personal/ShaniBAF/Sample files/BD lists/Cardio126','rb') as fp:\n",
    "    Cardio126=pickle.load(fp)\n",
    "PNP530Cardio126=PNP530+Cardio126\n",
    "\n",
    "f1='%s/TCR_real_data/Predictions/featureDFs/allTCRfeatures_percShared10__withRels_AgeGenderGFRCorr.dat' %MyPath\n",
    "X_corrected=pd.read_pickle(f1).loc[PNP530Cardio126,:]\n",
    "\n",
    "targetDF=pd.DataFrame(index=['BD'+str(x) for x in range(1,1100)])\n",
    "targetDF['isCardio']=np.where(targetDF.index.str.replace('BD','').astype(int)>949,1,0)\n",
    "targetDF=targetDF.loc[X_corrected.index,:]\n",
    "\n",
    "\n",
    "X=X_corrected.copy()\n",
    "Xname='X_AgeGenderGFRCorrected_withRels'\n",
    "Y=targetDF.iloc[:,0]\n",
    "\n",
    "print 'X'\n",
    "print X.head()\n",
    "\n",
    "print 'Y'\n",
    "print Y.head()\n",
    "\n",
    "from sklearn.model_selection import GridSearchCV\n",
    "from sklearn.preprocessing import StandardScaler\n",
    "\n",
    "# scores = ['precision', 'recall','roc_auc']\n",
    "scores = ['roc_auc']\n",
    "# Cs=[0.01,0.05,0.1,0.5,1,5,10,50,100]\n",
    "Cs=[0.001,0.01,0.1,1,10,100]\n",
    "penalties=['l1','l2']\n",
    "\n",
    "print(\"# Tuning hyper-parameters for %s\" % score)\n",
    "print()\n",
    "\n",
    "for score in scores:\n",
    "    print score\n",
    "    clf = RandomizedSearchCV(XGBClassifier(), {'learning_rate': [0.001,0.005,0.01,0.05,0.1], 'n_estimators': [50,100,500,1000,5000],'max_depth': [0,1,3,5,10],\n",
    "                                  'gamma':[0,1,5,10],'reg_alpha':[0,1,5,10],\n",
    "                                'reg_lambda':[1,5,10]},n_iter=2,scoring=score,n_jobs=2,verbose=1)\n",
    "    \n",
    "    clf.fit(X, Y)\n",
    "    \n",
    "    print(\"Best parameters set found on development set:\")\n",
    "    print()\n",
    "    print(clf.best_params_)\n",
    "    print()\n",
    "#     print(\"Grid scores on development set:\")\n",
    "#     print()\n",
    "#     means = clf.cv_results_['mean_test_score']\n",
    "#     stds = clf.cv_results_['std_test_score']\n",
    "#     Xs=[]\n",
    "#     for i in range(len(Cs)):\n",
    "#         for j in range(len(penalties)):\n",
    "#             x='C=%s_p=%s' %(Cs[i],penalties[j])\n",
    "#             Xs.append(x)\n",
    "\n",
    "#     fig,ax=plt.subplots()\n",
    "#     ax.plot(range(len(Xs)),means)\n",
    "#     ax.set_xticks(range(len(Xs)))\n",
    "#     ax.set_xticklabels(Xs)\n",
    "# #     ax.set_xscale('log')\n",
    "#     ax.set_xlabel('C value')\n",
    "#     ax.set_ylabel(score)\n",
    "\n",
    "#     plt.show()\n"
   ]
  },
  {
   "cell_type": "code",
   "execution_count": 29,
   "metadata": {
    "ExecuteTime": {
     "end_time": "2018-11-06T12:32:53.679028Z",
     "start_time": "2018-11-06T12:32:53.644663Z"
    }
   },
   "outputs": [
    {
     "data": {
      "text/html": [
       "<div>\n",
       "<style scoped>\n",
       "    .dataframe tbody tr th:only-of-type {\n",
       "        vertical-align: middle;\n",
       "    }\n",
       "\n",
       "    .dataframe tbody tr th {\n",
       "        vertical-align: top;\n",
       "    }\n",
       "\n",
       "    .dataframe thead th {\n",
       "        text-align: right;\n",
       "    }\n",
       "</style>\n",
       "<table border=\"1\" class=\"dataframe\">\n",
       "  <thead>\n",
       "    <tr style=\"text-align: right;\">\n",
       "      <th></th>\n",
       "      <th>gamma</th>\n",
       "      <th>learning_rate</th>\n",
       "      <th>max_depth</th>\n",
       "      <th>n_estimators</th>\n",
       "      <th>reg_alpha</th>\n",
       "      <th>reg_lambda</th>\n",
       "    </tr>\n",
       "  </thead>\n",
       "  <tbody>\n",
       "    <tr>\n",
       "      <th>0</th>\n",
       "      <td>5</td>\n",
       "      <td>0.1</td>\n",
       "      <td>10</td>\n",
       "      <td>100</td>\n",
       "      <td>10</td>\n",
       "      <td>10</td>\n",
       "    </tr>\n",
       "  </tbody>\n",
       "</table>\n",
       "</div>"
      ],
      "text/plain": [
       "   gamma  learning_rate  max_depth  n_estimators  reg_alpha  reg_lambda\n",
       "0      5            0.1         10           100         10          10"
      ]
     },
     "execution_count": 29,
     "metadata": {},
     "output_type": "execute_result"
    }
   ],
   "source": [
    "df=pd.DataFrame(index=[0], data=clf.best_params_)\n",
    "df"
   ]
  },
  {
   "cell_type": "code",
   "execution_count": null,
   "metadata": {},
   "outputs": [],
   "source": []
  },
  {
   "cell_type": "code",
   "execution_count": null,
   "metadata": {},
   "outputs": [],
   "source": []
  },
  {
   "cell_type": "markdown",
   "metadata": {},
   "source": [
    "# old stuff:"
   ]
  },
  {
   "cell_type": "markdown",
   "metadata": {},
   "source": [
    "## plot the association of best ROC-AUC features with isCardio:"
   ]
  },
  {
   "cell_type": "code",
   "execution_count": 5,
   "metadata": {
    "ExecuteTime": {
     "end_time": "2019-02-18T11:33:19.816916Z",
     "start_time": "2019-02-18T11:33:19.802584Z"
    }
   },
   "outputs": [],
   "source": [
    "bestROCfeats=['HSV_seq_count_AgeCorrRes','Plasmodiumberghei_seq_count_AgeCorrRes_GenderCorrRes','Lungcancer_seq_count_AgeCorrRes_GenderCorrRes','CMV_cum_freq(perc)_GenderCorrRes',\n",
    "              'HCV_cum_freq(perc)_GenderCorrRes','HTLV_cum_freq(perc)_GenderCorrRes','HIV_cum_freq(perc)','V05-02_1_GenderCorrRes','WestNilevirus_seq_count_AgeCorrRes_GenderCorrRes',\n",
    "              'EBV_cum_freq(perc)','V05-02_T_GenderCorrRes','frequencyCount (%)_max_0_AgeCorrRes_GenderCorrRes','Influenza_cum_freq(perc)','n2Insertion_mean_1']\n",
    "\n",
    "\n",
    "# Lupus_seq_count_GenderCorrRes\n",
    "# Lupus_cum_freq(perc)_GenderCorrRes\n",
    "# Lungcancer_cum_freq(perc)_GenderCorrRes\n",
    "# count (templates)_std_0_AgeCorrRes_GenderCorrRes\n",
    "# n2Insertion_mean_T\n",
    "# frequencyCount (%)_std_0_AgeCorrRes_GenderCorrRes\n",
    "\n"
   ]
  },
  {
   "cell_type": "code",
   "execution_count": 6,
   "metadata": {
    "ExecuteTime": {
     "end_time": "2019-02-18T11:33:20.887545Z",
     "start_time": "2019-02-18T11:33:20.361468Z"
    }
   },
   "outputs": [
    {
     "ename": "IOError",
     "evalue": "[Errno 2] No such file or directory: '/net/mraid08/export/genie/Lab/Personal/ShaniBAF/TCR_real_data/Predictions/featureDFs/allTCRfeatures_percShared10__AgeGenderCorr.dat'",
     "traceback": [
      "\u001b[0;31m---------------------------------------------------------------------------\u001b[0m",
      "\u001b[0;31mIOError\u001b[0m                                   Traceback (most recent call last)",
      "\u001b[0;32m<ipython-input-6-fa4020e325de>\u001b[0m in \u001b[0;36m<module>\u001b[0;34m()\u001b[0m\n\u001b[1;32m      8\u001b[0m \u001b[0;34m\u001b[0m\u001b[0m\n\u001b[1;32m      9\u001b[0m \u001b[0mf1\u001b[0m\u001b[0;34m=\u001b[0m\u001b[0;34m'%s/TCR_real_data/Predictions/featureDFs/allTCRfeatures_percShared10__AgeGenderCorr.dat'\u001b[0m \u001b[0;34m%\u001b[0m\u001b[0mMyPath\u001b[0m\u001b[0;34m\u001b[0m\u001b[0m\n\u001b[0;32m---> 10\u001b[0;31m \u001b[0mX_corrected\u001b[0m\u001b[0;34m=\u001b[0m\u001b[0mpd\u001b[0m\u001b[0;34m.\u001b[0m\u001b[0mread_pickle\u001b[0m\u001b[0;34m(\u001b[0m\u001b[0mf1\u001b[0m\u001b[0;34m)\u001b[0m\u001b[0;34m.\u001b[0m\u001b[0mloc\u001b[0m\u001b[0;34m[\u001b[0m\u001b[0mPNP530Cardio126\u001b[0m\u001b[0;34m,\u001b[0m\u001b[0;34m:\u001b[0m\u001b[0;34m]\u001b[0m\u001b[0;34m\u001b[0m\u001b[0m\n\u001b[0m\u001b[1;32m     11\u001b[0m \u001b[0;32mprint\u001b[0m \u001b[0;34m(\u001b[0m\u001b[0;34m'X_corrected shape is:'\u001b[0m\u001b[0;34m,\u001b[0m \u001b[0mX_corrected\u001b[0m\u001b[0;34m.\u001b[0m\u001b[0mshape\u001b[0m\u001b[0;34m)\u001b[0m\u001b[0;34m\u001b[0m\u001b[0m\n\u001b[1;32m     12\u001b[0m \u001b[0;34m\u001b[0m\u001b[0m\n",
      "\u001b[0;32m/usr/wisdom/python/lib/python2.7/site-packages/pandas/io/pickle.pyc\u001b[0m in \u001b[0;36mread_pickle\u001b[0;34m(path, compression)\u001b[0m\n\u001b[1;32m    175\u001b[0m                     lambda f: pc.load(f, encoding=encoding, compat=True))\n\u001b[1;32m    176\u001b[0m     \u001b[0;32mtry\u001b[0m\u001b[0;34m:\u001b[0m\u001b[0;34m\u001b[0m\u001b[0m\n\u001b[0;32m--> 177\u001b[0;31m         \u001b[0;32mreturn\u001b[0m \u001b[0mtry_read\u001b[0m\u001b[0;34m(\u001b[0m\u001b[0mpath\u001b[0m\u001b[0;34m)\u001b[0m\u001b[0;34m\u001b[0m\u001b[0m\n\u001b[0m\u001b[1;32m    178\u001b[0m     \u001b[0;32mexcept\u001b[0m\u001b[0;34m:\u001b[0m\u001b[0;34m\u001b[0m\u001b[0m\n\u001b[1;32m    179\u001b[0m         \u001b[0;32mif\u001b[0m \u001b[0mPY3\u001b[0m\u001b[0;34m:\u001b[0m\u001b[0;34m\u001b[0m\u001b[0m\n",
      "\u001b[0;32m/usr/wisdom/python/lib/python2.7/site-packages/pandas/io/pickle.pyc\u001b[0m in \u001b[0;36mtry_read\u001b[0;34m(path, encoding)\u001b[0m\n\u001b[1;32m    173\u001b[0m             \u001b[0;32mexcept\u001b[0m\u001b[0;34m:\u001b[0m\u001b[0;34m\u001b[0m\u001b[0m\n\u001b[1;32m    174\u001b[0m                 return read_wrapper(\n\u001b[0;32m--> 175\u001b[0;31m                     lambda f: pc.load(f, encoding=encoding, compat=True))\n\u001b[0m\u001b[1;32m    176\u001b[0m     \u001b[0;32mtry\u001b[0m\u001b[0;34m:\u001b[0m\u001b[0;34m\u001b[0m\u001b[0m\n\u001b[1;32m    177\u001b[0m         \u001b[0;32mreturn\u001b[0m \u001b[0mtry_read\u001b[0m\u001b[0;34m(\u001b[0m\u001b[0mpath\u001b[0m\u001b[0;34m)\u001b[0m\u001b[0;34m\u001b[0m\u001b[0m\n",
      "\u001b[0;32m/usr/wisdom/python/lib/python2.7/site-packages/pandas/io/pickle.pyc\u001b[0m in \u001b[0;36mread_wrapper\u001b[0;34m(func)\u001b[0m\n\u001b[1;32m    145\u001b[0m         f, fh = _get_handle(path, 'rb',\n\u001b[1;32m    146\u001b[0m                             \u001b[0mcompression\u001b[0m\u001b[0;34m=\u001b[0m\u001b[0minferred_compression\u001b[0m\u001b[0;34m,\u001b[0m\u001b[0;34m\u001b[0m\u001b[0m\n\u001b[0;32m--> 147\u001b[0;31m                             is_text=False)\n\u001b[0m\u001b[1;32m    148\u001b[0m         \u001b[0;32mtry\u001b[0m\u001b[0;34m:\u001b[0m\u001b[0;34m\u001b[0m\u001b[0m\n\u001b[1;32m    149\u001b[0m             \u001b[0;32mreturn\u001b[0m \u001b[0mfunc\u001b[0m\u001b[0;34m(\u001b[0m\u001b[0mf\u001b[0m\u001b[0;34m)\u001b[0m\u001b[0;34m\u001b[0m\u001b[0m\n",
      "\u001b[0;32m/usr/wisdom/python/lib/python2.7/site-packages/pandas/io/common.pyc\u001b[0m in \u001b[0;36m_get_handle\u001b[0;34m(path_or_buf, mode, encoding, compression, memory_map, is_text)\u001b[0m\n\u001b[1;32m    395\u001b[0m         \u001b[0;32mif\u001b[0m \u001b[0mcompat\u001b[0m\u001b[0;34m.\u001b[0m\u001b[0mPY2\u001b[0m\u001b[0;34m:\u001b[0m\u001b[0;34m\u001b[0m\u001b[0m\n\u001b[1;32m    396\u001b[0m             \u001b[0;31m# Python 2\u001b[0m\u001b[0;34m\u001b[0m\u001b[0;34m\u001b[0m\u001b[0m\n\u001b[0;32m--> 397\u001b[0;31m             \u001b[0mf\u001b[0m \u001b[0;34m=\u001b[0m \u001b[0mopen\u001b[0m\u001b[0;34m(\u001b[0m\u001b[0mpath_or_buf\u001b[0m\u001b[0;34m,\u001b[0m \u001b[0mmode\u001b[0m\u001b[0;34m)\u001b[0m\u001b[0;34m\u001b[0m\u001b[0m\n\u001b[0m\u001b[1;32m    398\u001b[0m         \u001b[0;32melif\u001b[0m \u001b[0mencoding\u001b[0m\u001b[0;34m:\u001b[0m\u001b[0;34m\u001b[0m\u001b[0m\n\u001b[1;32m    399\u001b[0m             \u001b[0;31m# Python 3 and encoding\u001b[0m\u001b[0;34m\u001b[0m\u001b[0;34m\u001b[0m\u001b[0m\n",
      "\u001b[0;31mIOError\u001b[0m: [Errno 2] No such file or directory: '/net/mraid08/export/genie/Lab/Personal/ShaniBAF/TCR_real_data/Predictions/featureDFs/allTCRfeatures_percShared10__AgeGenderCorr.dat'"
     ],
     "output_type": "error"
    }
   ],
   "source": [
    "#new X: includes all TCR features, corrected for age and Gender\n",
    "datasetFolder='%s/TCR_real_data/PNP530Cardio126Combined' %MyPath\n",
    "with open('/net/mraid08/export/genie/Lab/Personal/ShaniBAF/Sample files/BD lists/PNP530','rb') as fp:\n",
    "    PNP530=pickle.load(fp)\n",
    "with open('/net/mraid08/export/genie/Lab/Personal/ShaniBAF/Sample files/BD lists/Cardio126','rb') as fp:\n",
    "    Cardio126=pickle.load(fp)\n",
    "PNP530Cardio126=PNP530+Cardio126\n",
    "\n",
    "f1='%s/TCR_real_data/Predictions/featureDFs/allTCRfeatures_percShared10__AgeGenderCorr.dat' %MyPath\n",
    "X_corrected=pd.read_pickle(f1).loc[PNP530Cardio126,:]\n",
    "print ('X_corrected shape is:', X_corrected.shape)\n",
    "\n",
    "targetDF=pd.DataFrame(index=['BD'+str(x) for x in range(1,1100)])\n",
    "targetDF['isCardio']=np.where(targetDF.index.str.replace('BD','').astype(int)>949,1,0)\n",
    "targetDF=targetDF.loc[X_corrected.index,:]\n",
    "print ('targetDF shape is:', targetDF.shape)"
   ]
  },
  {
   "cell_type": "code",
   "execution_count": null,
   "metadata": {
    "ExecuteTime": {
     "end_time": "2018-10-14T09:12:04.570301Z",
     "start_time": "2018-10-14T09:11:59.674963Z"
    }
   },
   "outputs": [],
   "source": [
    "for feature in bestROCfeats:\n",
    "    print feature\n",
    "    feat_data=pd.DataFrame(X_corrected[feature])\n",
    "    target_Data=pd.DataFrame(targetDF)\n",
    "    \n",
    "    merged=pd.merge(feat_data,target_Data,how='inner',left_index=True,right_index=True)\n",
    "    print ('merged shape:',merged.shape)\n",
    "    \n",
    "    data={}\n",
    "    for name,groups in merged.groupby('isCardio'):\n",
    "        data[name]=groups[feature].tolist()\n",
    "    \n",
    "    dataList=[('healthy',data[0]),('patients',data[1])]\n",
    "    fig,ax=plt.subplots(figsize=(4,3))\n",
    "    title=feature\n",
    "    plotHistComprison(dataList,ax,title)\n",
    "#     ,showLegend=True,nBins=20,toAnnotate=True,alpha=None,plotType='hist')\n",
    "    plt.show()"
   ]
  },
  {
   "cell_type": "markdown",
   "metadata": {},
   "source": [
    "ROC doesn't seem to reflect true relationships between features and class!"
   ]
  },
  {
   "cell_type": "markdown",
   "metadata": {},
   "source": [
    "## calculate associations between all corrected features and isCardio:"
   ]
  },
  {
   "cell_type": "code",
   "execution_count": null,
   "metadata": {
    "ExecuteTime": {
     "end_time": "2018-10-14T15:39:03.040612Z",
     "start_time": "2018-10-14T15:39:02.202842Z"
    }
   },
   "outputs": [],
   "source": [
    "featureDF=X_corrected\n",
    "featureDFname='X_AgeGenderCorr'\n",
    "phenDF=targetDF\n",
    "phenDFname='isCardio'\n",
    "FDR=0.1\n",
    "\n",
    "\n",
    "\n",
    "feature_phen_ttest=calc_catPhens_TCRfeatures_associations_ttest(featureDF,featureDFname,phenDF,phenDFname,FDR)"
   ]
  },
  {
   "cell_type": "code",
   "execution_count": null,
   "metadata": {
    "ExecuteTime": {
     "end_time": "2018-10-14T15:39:03.067263Z",
     "start_time": "2018-10-14T15:36:20.756Z"
    }
   },
   "outputs": [],
   "source": [
    "feature_phen_ttest[feature_phen_ttest['sig. by FDR=0.1']==1]"
   ]
  },
  {
   "cell_type": "markdown",
   "metadata": {},
   "source": [
    "## calculate association between all corrected features and nTemplates:"
   ]
  },
  {
   "cell_type": "code",
   "execution_count": null,
   "metadata": {},
   "outputs": [],
   "source": []
  },
  {
   "cell_type": "markdown",
   "metadata": {},
   "source": [
    "# plot important feature distributions:\n",
    "important are the one that distinguised patients and controls the most. plotting shoes this features before correction to age, gender and eGFR to enable understaning"
   ]
  },
  {
   "cell_type": "code",
   "execution_count": null,
   "metadata": {
    "ExecuteTime": {
     "end_time": "2018-10-18T20:45:24.625404Z",
     "start_time": "2018-10-18T20:45:23.475854Z"
    }
   },
   "outputs": [],
   "source": [
    "# featurelist=['Plasmodiumberghei_seq_count','HSV_seq_count','Lungcancer_seq_count','HIV_cum_freq(perc)']\n",
    "\n",
    "featurelist=['d3Deletion_std_0','V05-06_1','vDeletion_max_T']\n",
    "#get data:\n",
    "datasetFolder='%s/TCR_real_data/PNP530Cardio126Combined' %MyPath\n",
    "with open('/net/mraid08/export/genie/Lab/Personal/ShaniBAF/Sample files/BD lists/PNP530','rb') as fp:\n",
    "    PNP530=pickle.load(fp)\n",
    "with open('/net/mraid08/export/genie/Lab/Personal/ShaniBAF/Sample files/BD lists/Cardio126','rb') as fp:\n",
    "    Cardio126=pickle.load(fp)\n",
    "PNP530Cardio126=PNP530+Cardio126\n",
    "\n",
    "f1='%s/TCR_real_data/Predictions/featureDFs/allTCRfeatures_percShared10_.dat' %MyPath\n",
    "X=pd.read_pickle(f1).loc[PNP530Cardio126,:]\n",
    "\n",
    "targetDF=pd.DataFrame(index=['BD'+str(x) for x in range(1,1100)])\n",
    "targetDF['isCardio']=np.where(targetDF.index.str.replace('BD','').astype(int)>949,1,0)\n",
    "targetDF=targetDF.loc[X.index,:]\n",
    "\n",
    "#generate comparisons:\n",
    "\n",
    "fig3,axes3=plt.subplots(nrows=1,ncols=4,figsize=(20,4))\n",
    "\n",
    "for n,feature in enumerate(featurelist):\n",
    "    print n,feature\n",
    "    ax=axes3.flatten()[n]\n",
    "    try:\n",
    "        featureData=pd.DataFrame(X[feature])\n",
    "    except:\n",
    "        try:\n",
    "            featureData=pd.DataFrame(X[feature+'_AgeCorrRes']) \n",
    "        except:\n",
    "            print 'couldnt find feature data'\n",
    "    featureName=featureData.columns[0]\n",
    "                \n",
    "    data=pd.merge(featureData,targetDF,how='inner',\n",
    "                  left_index=True,right_index=True)\n",
    "    groups=data.groupby('isCardio') #group the df by the phenotype cateogries\n",
    "    dataList=[] #generate datalist constitutes of tuples, each tuple contain a category name and its relevent feature data\n",
    "    print '-groups- length is %s' %len(groups)\n",
    "    for name,group in groups:\n",
    "        tupList=[]\n",
    "        tupList.append(name)\n",
    "        groupData=[x for x in group[featureName].tolist() if not np.isnan(x)]\n",
    "        tupList.append(groupData)\n",
    "        tup=tuple(tupList)\n",
    "        dataList.append(tup)\n",
    "\n",
    "    title=None\n",
    "    ax,ks_p_cohort1_cohort2,t_p_cohort1_cohort2,p_Anov,filename=plotHistComprison(dataList,ax,title,\n",
    "                                                showLegend=True,nBins=20,toAnnotate=False,alpha=0.5,\n",
    "                                                    plotType='hist')\n",
    "     \n",
    "    ax.locator_params(axis='x', nbins=4,fontsize='xx-large')\n",
    "    ax.set_title(feature,fontsize='xx-large',y=1.04)\n",
    "    \n",
    "    if n==0:\n",
    "        ax.set_ylabel('Density',fontsize='x-large')\n",
    "        L=ax.legend()\n",
    "        L.get_texts()[0].set_text('Controls')\n",
    "        L.get_texts()[1].set_text('Patients')\n",
    "       \n",
    "    else:\n",
    "        ax.legend('')\n",
    "#                  ,fontsize='large')\n",
    "#     if not np.isnan(p_Anov):\n",
    "#                 ax.annotate('p_Anov=%s' %round(p_Anov,4),xy=(0.02, 0.96), xycoords='axes fraction', \n",
    "#                 fontsize='x-large', horizontalalignment='left', verticalalignment='top', fontweight='bold',color='red')\n",
    "#     else:\n",
    "#         ax.annotate('ttest_p=%s' %round(t_p_cohort1_cohort2,4),xy=(0.02, 0.96), xycoords='axes fraction', \n",
    "#     fontsize='x-large', horizontalalignment='left', verticalalignment='top', fontweight='bold',color='red')\n",
    "plt.rcParams.update({'legend.fontsize': 20})\n",
    "fig3.subplots_adjust(wspace=0.3,top=0.95)       \n",
    "\n",
    "# figName='3-PNP-Cardio feature comparison'\n",
    "# figFile='%s/%s' %(posterFolder,figName)\n",
    "# fig3.savefig(figFile,dpi=300,bbox_inches='tight')\n",
    "plt.show()\n",
    "    "
   ]
  },
  {
   "cell_type": "code",
   "execution_count": null,
   "metadata": {},
   "outputs": [],
   "source": []
  },
  {
   "cell_type": "code",
   "execution_count": null,
   "metadata": {},
   "outputs": [],
   "source": []
  },
  {
   "cell_type": "code",
   "execution_count": null,
   "metadata": {},
   "outputs": [],
   "source": []
  }
 ],
 "metadata": {
  "kernelspec": {
   "display_name": "Python 2",
   "language": "python",
   "name": "python2"
  },
  "language_info": {
   "codemirror_mode": {
    "name": "ipython",
    "version": 2
   },
   "file_extension": ".py",
   "mimetype": "text/x-python",
   "name": "python",
   "nbconvert_exporter": "python",
   "pygments_lexer": "ipython2",
   "version": "2.7.8"
  },
  "toc": {
   "nav_menu": {},
   "number_sections": true,
   "sideBar": true,
   "skip_h1_title": false,
   "toc_cell": false,
   "toc_position": {
    "height": "780px",
    "left": "0px",
    "right": "1067px",
    "top": "158px",
    "width": "255px"
   },
   "toc_section_display": "block",
   "toc_window_display": true
  },
  "varInspector": {
   "cols": {
    "lenName": 16.0,
    "lenType": 16.0,
    "lenVar": 40.0
   },
   "kernels_config": {
    "python": {
     "delete_cmd_postfix": "",
     "delete_cmd_prefix": "del ",
     "library": "var_list.py",
     "varRefreshCmd": "print(var_dic_list())"
    },
    "r": {
     "delete_cmd_postfix": ") ",
     "delete_cmd_prefix": "rm(",
     "library": "var_list.r",
     "varRefreshCmd": "cat(var_dic_list()) "
    }
   },
   "types_to_exclude": [
    "module",
    "function",
    "builtin_function_or_method",
    "instance",
    "_Feature"
   ],
   "window_display": false
  }
 },
 "nbformat": 4,
 "nbformat_minor": 2
}
