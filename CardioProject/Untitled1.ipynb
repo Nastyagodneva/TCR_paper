{
 "cells": [
  {
   "cell_type": "code",
   "execution_count": 5,
   "metadata": {
    "ExecuteTime": {
     "end_time": "2019-03-05T09:23:03.922438Z",
     "start_time": "2019-03-05T09:22:59.469111Z"
    }
   },
   "outputs": [
    {
     "name": "stdout",
     "output_type": "stream",
     "text": [
      "stop\n",
      "done1\n",
      "stop\n",
      "done\n",
      "done\n",
      "stop\n",
      "end of function!!!\n"
     ]
    },
    {
     "name": "stderr",
     "output_type": "stream",
     "text": [
      "/usr/wisdom/python/lib/python2.7/site-packages/matplotlib/__init__.py:1357: UserWarning:  This call to matplotlib.use() has no effect\n",
      "because the backend has already been chosen;\n",
      "matplotlib.use() must be called *before* pylab, matplotlib.pyplot,\n",
      "or matplotlib.backends is imported for the first time.\n",
      "\n",
      "  warnings.warn(_use_error_msg)\n"
     ]
    }
   ],
   "source": [
    "# system & general:\n",
    "from os import listdir,mkdir,makedirs\n",
    "from os.path import isfile, join, isdir,exists\n",
    "import cPickle as pickle\n",
    "import os\n",
    "import re\n",
    "import time\n",
    "\n",
    "# data analysis and statistics:\n",
    "import pandas as pd\n",
    "import numpy as np\n",
    "from scipy import stats\n",
    "import random\n",
    "from scipy.stats import pearsonr,fisher_exact,mannwhitneyu\n",
    "import math\n",
    "from scipy.spatial.distance import braycurtis, pdist, euclidean\n",
    "\n",
    "# figures:\n",
    "import matplotlib as mpl\n",
    "import matplotlib.pyplot as plt\n",
    "from matplotlib.backends.backend_pdf import PdfPages\n",
    "import seaborn as sns \n",
    "from matplotlib.ticker import FormatStrFormatter\n",
    "from matplotlib import gridspec\n",
    "# from PNPChip.ForPaper.Figures.nature_guidline_utils import m2inch\n",
    "import matplotlib.cm as cm\n",
    "from mpl_toolkits.axes_grid1 import make_axes_locatable\n",
    "\n",
    "#my functions:\n",
    "from ShaniBA.myplots import roundup, rounddown, find_decimal_fold, percentile_cut_off, rarefaction_calc, rarefaction_plot, adjusted_roundup\n",
    "from ShaniBA.MyFunctionsShani import *\n",
    "from ShaniBA.GeneralFeaturePhenotypeInteractions.Feature_phenotype_functions import * \n",
    "from ShaniBA.TCR_microbiome_interactions.TCR_microbiome_interactions_functions import *\n",
    "from ShaniBA.TCR_microbiome_interactions.TCR_microbiome_interactions_functions2 import *\n",
    "from ShaniBA.SampleLists.SampleFileFunctions import *\n",
    "from ShaniBA.PhenotypicData.PhenotypeGenerationFunctions import *\n",
    "from ShaniBA.CardioProject.CardioFunctions import *\n",
    "from ShaniBA.PredictionPipeline.PredictionFunctions import *\n",
    "from ShaniBA.TCR_feature_generation.SubsamplingFunctions import *\n",
    "from ShaniBA.CardioProject.Figures.GeneralFigureFunctions import *\n"
   ]
  },
  {
   "cell_type": "code",
   "execution_count": null,
   "metadata": {},
   "outputs": [],
   "source": []
  },
  {
   "cell_type": "code",
   "execution_count": null,
   "metadata": {},
   "outputs": [],
   "source": []
  },
  {
   "cell_type": "code",
   "execution_count": 6,
   "metadata": {
    "ExecuteTime": {
     "end_time": "2019-03-05T09:23:06.567917Z",
     "start_time": "2019-03-05T09:23:06.240122Z"
    }
   },
   "outputs": [
    {
     "name": "stdout",
     "output_type": "stream",
     "text": [
      "age data\n",
      "(656, 1)\n",
      "        Age\n",
      "BD         \n",
      "BD406  65.0\n",
      "BD228  32.0\n",
      "BD714  39.0\n",
      "BD808  26.0\n",
      "BD144  36.0\n",
      "gender data\n",
      "(656, 1)\n",
      "       Gender_Male\n",
      "BD                \n",
      "BD406            0\n",
      "BD228            1\n",
      "BD714            1\n",
      "BD808            0\n",
      "BD144            0\n",
      "isCardio data\n",
      "merging all\n",
      "(652, 3)\n",
      "        Age  Gender_Male  isCardio\n",
      "BD406  65.0            0         0\n",
      "BD228  32.0            1         0\n",
      "BD714  39.0            1         0\n",
      "BD808  26.0            0         0\n",
      "BD144  36.0            0         0\n"
     ]
    }
   ],
   "source": [
    "print 'age data'\n",
    "Age=pd.read_excel('%s/TCR_real_data/PNP530Cardio126Combined/Phenotypes/\\\n",
    "PNP530Cardio126_Age.xlsx' %MyPath).set_index('BD')\n",
    "print Age.shape\n",
    "print Age.head()\n",
    "\n",
    "print 'gender data'\n",
    "Gender=pd.read_excel('%s/TCR_real_data/PNP530Cardio126Combined/Phenotypes/\\\n",
    "PNP530Cardio126_Gender_Male.xlsx' %MyPath).set_index('BD')\n",
    "print Gender.shape\n",
    "print Gender.head()\n",
    "\n",
    "print 'isCardio data'\n",
    "isCardio=pd.read_pickle(PRED_RESULTS_DIR+'TargetDFs/isCardio.dat')\n",
    "\n",
    "print 'merging all'\n",
    "AgeGender=pd.merge(Age,Gender,how='inner',left_index=True,right_index=True).dropna()\n",
    "AgeGenderIsCardio=pd.merge(AgeGender,isCardio,how='inner',left_index=True,right_index=True).dropna()\n",
    "print AgeGenderIsCardio.shape\n",
    "print AgeGenderIsCardio.head()\n"
   ]
  },
  {
   "cell_type": "code",
   "execution_count": 7,
   "metadata": {
    "ExecuteTime": {
     "end_time": "2019-03-05T09:23:47.724191Z",
     "start_time": "2019-03-05T09:23:47.713942Z"
    }
   },
   "outputs": [],
   "source": [
    "X=AgeGenderIsCardio[['Age','Gender_Male']]\n",
    "y=AgeGenderIsCardio['isCardio']"
   ]
  },
  {
   "cell_type": "code",
   "execution_count": 8,
   "metadata": {
    "ExecuteTime": {
     "end_time": "2019-03-05T09:24:32.954419Z",
     "start_time": "2019-03-05T09:24:32.108329Z"
    }
   },
   "outputs": [
    {
     "name": "stderr",
     "output_type": "stream",
     "text": [
      "/usr/wisdom/python/lib/python2.7/site-packages/ipykernel_launcher.py:2: FutureWarning: pandas.scatter_matrix is deprecated, use pandas.plotting.scatter_matrix instead\n",
      "  \n"
     ]
    },
    {
     "data": {
      "image/png": "[encoded data removed]",
      "text/plain": [
       "<matplotlib.figure.Figure at 0x7f29448f66d0>"
      ]
     },
     "metadata": {},
     "output_type": "display_data"
    }
   ],
   "source": [
    "cmap = cm.get_cmap('gnuplot')\n",
    "scatter = pd.scatter_matrix(X, c= y, marker = 'o', s=40, hist_kwds={'bins':15}, figsize=(9,9), cmap=cmap)\n",
    "plt.show()\n"
   ]
  },
  {
   "cell_type": "code",
   "execution_count": null,
   "metadata": {},
   "outputs": [],
   "source": []
  }
 ],
 "metadata": {
  "kernelspec": {
   "display_name": "Python 2",
   "language": "python",
   "name": "python2"
  },
  "language_info": {
   "codemirror_mode": {
    "name": "ipython",
    "version": 2
   },
   "file_extension": ".py",
   "mimetype": "text/x-python",
   "name": "python",
   "nbconvert_exporter": "python",
   "pygments_lexer": "ipython2",
   "version": "2.7.8"
  },
  "toc": {
   "nav_menu": {},
   "number_sections": true,
   "sideBar": true,
   "skip_h1_title": false,
   "toc_cell": false,
   "toc_position": {},
   "toc_section_display": "block",
   "toc_window_display": false
  },
  "varInspector": {
   "cols": {
    "lenName": 16,
    "lenType": 16,
    "lenVar": 40
   },
   "kernels_config": {
    "python": {
     "delete_cmd_postfix": "",
     "delete_cmd_prefix": "del ",
     "library": "var_list.py",
     "varRefreshCmd": "print(var_dic_list())"
    },
    "r": {
     "delete_cmd_postfix": ") ",
     "delete_cmd_prefix": "rm(",
     "library": "var_list.r",
     "varRefreshCmd": "cat(var_dic_list()) "
    }
   },
   "types_to_exclude": [
    "module",
    "function",
    "builtin_function_or_method",
    "instance",
    "_Feature"
   ],
   "window_display": false
  }
 },
 "nbformat": 4,
 "nbformat_minor": 2
}
