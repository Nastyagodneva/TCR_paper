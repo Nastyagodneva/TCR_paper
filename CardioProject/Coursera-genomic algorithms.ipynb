{
 "cells": [
  {
   "cell_type": "markdown",
   "metadata": {},
   "source": [
    "## week 1:"
   ]
  },
  {
   "cell_type": "code",
   "execution_count": null,
   "metadata": {
    "collapsed": true
   },
   "outputs": [],
   "source": [
    "def naive(p, t):\n",
    "    occurrences = []\n",
    "    for i in range(len(t) - len(p) + 1):  # loop over alignments\n",
    "        match = True\n",
    "        for j in range(len(p)):  # loop over characters\n",
    "            if t[i+j] != p[j]:  # compare characters\n",
    "                match = False\n",
    "                break\n",
    "        if match:\n",
    "            occurrences.append(i)  # all chars matched; record\n",
    "    return occurrences\n"
   ]
  },
  {
   "cell_type": "code",
   "execution_count": null,
   "metadata": {
    "collapsed": true
   },
   "outputs": [],
   "source": [
    "def reverseComplement(s):\n",
    "    complement = {'A': 'T', 'C': 'G', 'G': 'C', 'T': 'A', 'N': 'N'}\n",
    "    t = ''\n",
    "    for base in s:\n",
    "        t = complement[base] + t\n",
    "    return t"
   ]
  },
  {
   "cell_type": "code",
   "execution_count": 23,
   "metadata": {
    "collapsed": true
   },
   "outputs": [],
   "source": [
    "def readGenome(filename):\n",
    "    genome = ''\n",
    "    with open(filename, 'r') as f:\n",
    "        for line in f:\n",
    "            # ignore header line with genome information\n",
    "            if not line[0] == '>':\n",
    "                genome += line.rstrip()\n",
    "    return genome"
   ]
  },
  {
   "cell_type": "code",
   "execution_count": null,
   "metadata": {
    "collapsed": true
   },
   "outputs": [],
   "source": [
    "def readFastq(filename):\n",
    "    sequences = []\n",
    "    qualities = []\n",
    "    with open(filename) as fh:\n",
    "        while True:\n",
    "            fh.readline()  # skip name line\n",
    "            seq = fh.readline().rstrip()  # read base sequence\n",
    "            fh.readline()  # skip placeholder line\n",
    "            qual = fh.readline().rstrip() # base quality line\n",
    "            if len(seq) == 0:\n",
    "                break\n",
    "            sequences.append(seq)\n",
    "            qualities.append(qual)\n",
    "    return sequences, qualities"
   ]
  },
  {
   "cell_type": "code",
   "execution_count": null,
   "metadata": {
    "collapsed": true
   },
   "outputs": [],
   "source": [
    "def naive_with_rc(p, t):\n",
    "    p_rev=reverseComplement(p)\n",
    "    ocurrences=naive(p,t)\n",
    "    ocurrences_rev=naive(p_rev,t)\n",
    "    total_ocurrences=sorted(list(set(ocurrences+ocurrences_rev)))\n",
    "    return total_ocurrences\n"
   ]
  },
  {
   "cell_type": "code",
   "execution_count": null,
   "metadata": {
    "collapsed": false
   },
   "outputs": [],
   "source": [
    "p = 'CCC'\n",
    "ten_as = 'AAAAAAAAAA'\n",
    "t = ten_as + 'CCC' + ten_as + 'GGG' + ten_as\n",
    "occurrences = naive_with_rc(p, t)\n",
    "print(occurrences)"
   ]
  },
  {
   "cell_type": "code",
   "execution_count": null,
   "metadata": {
    "collapsed": false
   },
   "outputs": [],
   "source": [
    "p = 'CGCG'\n",
    "t = ten_as + 'CGCG' + ten_as + 'CGCG' + ten_as\n",
    "occurrences = naive_with_rc(p, t)\n",
    "print(occurrences)"
   ]
  },
  {
   "cell_type": "code",
   "execution_count": null,
   "metadata": {
    "collapsed": false
   },
   "outputs": [],
   "source": [
    "# Phi-X genome\n",
    "!wget http://d396qusza40orc.cloudfront.net/ads1/data/phix.fa"
   ]
  },
  {
   "cell_type": "code",
   "execution_count": null,
   "metadata": {
    "collapsed": true
   },
   "outputs": [],
   "source": [
    "phix_genome = readGenome('phix.fa')"
   ]
  },
  {
   "cell_type": "code",
   "execution_count": null,
   "metadata": {
    "collapsed": true
   },
   "outputs": [],
   "source": [
    "occurrences = naive_with_rc('ATTA', phix_genome)"
   ]
  },
  {
   "cell_type": "code",
   "execution_count": null,
   "metadata": {
    "collapsed": false
   },
   "outputs": [],
   "source": [
    "print('offset of leftmost occurrence: %d' % min(occurrences))"
   ]
  },
  {
   "cell_type": "code",
   "execution_count": null,
   "metadata": {
    "collapsed": false
   },
   "outputs": [],
   "source": [
    "print('# occurrences: %d' % len(occurrences))"
   ]
  },
  {
   "cell_type": "code",
   "execution_count": null,
   "metadata": {
    "collapsed": false
   },
   "outputs": [],
   "source": [
    "!wget https://d28rh4a8wq0iu5.cloudfront.net/ads1/data/lambda_virus.fa"
   ]
  },
  {
   "cell_type": "code",
   "execution_count": null,
   "metadata": {
    "collapsed": false
   },
   "outputs": [],
   "source": [
    "lambda_genome=readGenome('lambda_virus.fa')"
   ]
  },
  {
   "cell_type": "code",
   "execution_count": null,
   "metadata": {
    "collapsed": true
   },
   "outputs": [],
   "source": [
    "occurrences = naive_with_rc('AGGT', lambda_genome)"
   ]
  },
  {
   "cell_type": "code",
   "execution_count": null,
   "metadata": {
    "collapsed": false
   },
   "outputs": [],
   "source": [
    "print('# occurrences: %d' % len(occurrences))"
   ]
  },
  {
   "cell_type": "code",
   "execution_count": null,
   "metadata": {
    "collapsed": true
   },
   "outputs": [],
   "source": [
    "occurrences = naive_with_rc('TTAA', lambda_genome)"
   ]
  },
  {
   "cell_type": "code",
   "execution_count": null,
   "metadata": {
    "collapsed": false
   },
   "outputs": [],
   "source": [
    "print('# occurrences: %d' % len(occurrences))"
   ]
  },
  {
   "cell_type": "code",
   "execution_count": null,
   "metadata": {
    "collapsed": true
   },
   "outputs": [],
   "source": [
    "occurrences = naive_with_rc('ACTAAGT', lambda_genome)"
   ]
  },
  {
   "cell_type": "code",
   "execution_count": null,
   "metadata": {
    "collapsed": false
   },
   "outputs": [],
   "source": [
    "print('offset of leftmost occurrence: %d' % min(occurrences))"
   ]
  },
  {
   "cell_type": "code",
   "execution_count": null,
   "metadata": {
    "collapsed": true
   },
   "outputs": [],
   "source": [
    "occurrences = naive_with_rc('AGTCGA', lambda_genome)"
   ]
  },
  {
   "cell_type": "code",
   "execution_count": null,
   "metadata": {
    "collapsed": false
   },
   "outputs": [],
   "source": [
    "print('offset of leftmost occurrence: %d' % min(occurrences))"
   ]
  },
  {
   "cell_type": "code",
   "execution_count": 70,
   "metadata": {
    "collapsed": true
   },
   "outputs": [],
   "source": [
    "def naive_2mm(p, t):\n",
    "    occurrences = []\n",
    "    for i in range(len(t) - len(p) + 1):  # loop over alignments\n",
    "        mm_count=0\n",
    "        match = True\n",
    "        for j in range(len(p)):  # loop over characters\n",
    "            if t[i+j] != p[j]:  # compare characters\n",
    "                mm_count+=1\n",
    "            if mm_count>2:\n",
    "                match = False\n",
    "                break\n",
    "        if match:\n",
    "            occurrences.append(i)  # all chars matched; record\n",
    "    return occurrences"
   ]
  },
  {
   "cell_type": "code",
   "execution_count": null,
   "metadata": {
    "collapsed": false
   },
   "outputs": [],
   "source": [
    "occurrences=naive_2mm('ACTTTA','ACTTACTTGATAAAGT')"
   ]
  },
  {
   "cell_type": "code",
   "execution_count": null,
   "metadata": {
    "collapsed": false
   },
   "outputs": [],
   "source": [
    "occurrences\n"
   ]
  },
  {
   "cell_type": "code",
   "execution_count": null,
   "metadata": {
    "collapsed": false
   },
   "outputs": [],
   "source": [
    "p = 'CTGT'\n",
    "ten_as = 'AAAAAAAAAA'\n",
    "t = ten_as + 'CTGT' + ten_as + 'CTTT' + ten_as + 'CGGG' + ten_as\n",
    "occurrences = naive_2mm(p, t)\n",
    "print(occurrences)"
   ]
  },
  {
   "cell_type": "code",
   "execution_count": null,
   "metadata": {
    "collapsed": true
   },
   "outputs": [],
   "source": [
    "occurrences = naive_2mm('GATTACA', phix_genome)"
   ]
  },
  {
   "cell_type": "code",
   "execution_count": null,
   "metadata": {
    "collapsed": false
   },
   "outputs": [],
   "source": [
    "print('offset of leftmost occurrence: %d' % min(occurrences))"
   ]
  },
  {
   "cell_type": "code",
   "execution_count": null,
   "metadata": {
    "collapsed": false
   },
   "outputs": [],
   "source": [
    "print('# occurrences: %d' % len(occurrences))"
   ]
  },
  {
   "cell_type": "code",
   "execution_count": null,
   "metadata": {
    "collapsed": true
   },
   "outputs": [],
   "source": [
    "occurrences = naive_2mm('TTCAAGCC', lambda_genome)"
   ]
  },
  {
   "cell_type": "code",
   "execution_count": null,
   "metadata": {
    "collapsed": false
   },
   "outputs": [],
   "source": [
    "print('# occurrences: %d' % len(occurrences))"
   ]
  },
  {
   "cell_type": "code",
   "execution_count": null,
   "metadata": {
    "collapsed": true
   },
   "outputs": [],
   "source": [
    "occurrences = naive_2mm('AGGAGGTT', lambda_genome)"
   ]
  },
  {
   "cell_type": "code",
   "execution_count": null,
   "metadata": {
    "collapsed": false
   },
   "outputs": [],
   "source": [
    "print('# occurrences: %d' % len(occurrences))"
   ]
  },
  {
   "cell_type": "code",
   "execution_count": null,
   "metadata": {
    "collapsed": false
   },
   "outputs": [],
   "source": [
    "print('offset of leftmost occurrence: %d' % min(occurrences))"
   ]
  },
  {
   "cell_type": "code",
   "execution_count": null,
   "metadata": {
    "collapsed": false
   },
   "outputs": [],
   "source": [
    "!wget https://d28rh4a8wq0iu5.cloudfront.net/ads1/data/ERR037900_1.first1000.fastq"
   ]
  },
  {
   "cell_type": "code",
   "execution_count": null,
   "metadata": {
    "collapsed": true
   },
   "outputs": [],
   "source": []
  },
  {
   "cell_type": "code",
   "execution_count": null,
   "metadata": {
    "collapsed": true
   },
   "outputs": [],
   "source": [
    "seqs,quals=readFastq('ERR037900_1.first1000.fastq')"
   ]
  },
  {
   "cell_type": "code",
   "execution_count": null,
   "metadata": {
    "collapsed": false
   },
   "outputs": [],
   "source": [
    "len_list=[]\n",
    "for q in quals:\n",
    "    length=len(q)\n",
    "    len_list.append(length)\n",
    "max_len=max(len_list)\n",
    "print max_len"
   ]
  },
  {
   "cell_type": "code",
   "execution_count": null,
   "metadata": {
    "collapsed": true
   },
   "outputs": [],
   "source": [
    "score_list=[0]*100"
   ]
  },
  {
   "cell_type": "code",
   "execution_count": null,
   "metadata": {
    "collapsed": true
   },
   "outputs": [],
   "source": [
    "def phred33ToQ(qual):\n",
    "    return ord(qual)-33"
   ]
  },
  {
   "cell_type": "code",
   "execution_count": null,
   "metadata": {
    "collapsed": false
   },
   "outputs": [],
   "source": [
    "phred33ToQ('H')"
   ]
  },
  {
   "cell_type": "code",
   "execution_count": null,
   "metadata": {
    "collapsed": false,
    "scrolled": true
   },
   "outputs": [],
   "source": [
    "print score_list"
   ]
  },
  {
   "cell_type": "code",
   "execution_count": null,
   "metadata": {
    "collapsed": true
   },
   "outputs": [],
   "source": [
    "track_list=[0]*100"
   ]
  },
  {
   "cell_type": "code",
   "execution_count": null,
   "metadata": {
    "collapsed": false
   },
   "outputs": [],
   "source": [
    "for q in quals:\n",
    "    for i in range(len(q)):\n",
    "        score_list[i]+=phred33ToQ(q[i])\n",
    "        track_list[i]+=1\n",
    "final_score=[float(score_list[i])/track_list[i] for i in range(len(score_list))]\n",
    "\n",
    "    "
   ]
  },
  {
   "cell_type": "code",
   "execution_count": null,
   "metadata": {
    "collapsed": false
   },
   "outputs": [],
   "source": [
    "print final_score"
   ]
  },
  {
   "cell_type": "code",
   "execution_count": null,
   "metadata": {
    "collapsed": true
   },
   "outputs": [],
   "source": [
    "import matplotlib.pyplot as plt"
   ]
  },
  {
   "cell_type": "code",
   "execution_count": null,
   "metadata": {
    "collapsed": false
   },
   "outputs": [],
   "source": [
    "plt.plot(range(100),final_score)\n",
    "plt.show()"
   ]
  },
  {
   "cell_type": "markdown",
   "metadata": {},
   "source": [
    "min_score=min(final_score)\n"
   ]
  },
  {
   "cell_type": "code",
   "execution_count": null,
   "metadata": {
    "collapsed": false
   },
   "outputs": [],
   "source": [
    "min_score=min(final_score)"
   ]
  },
  {
   "cell_type": "code",
   "execution_count": null,
   "metadata": {
    "collapsed": false
   },
   "outputs": [],
   "source": [
    "print min_score"
   ]
  },
  {
   "cell_type": "code",
   "execution_count": null,
   "metadata": {
    "collapsed": false
   },
   "outputs": [],
   "source": [
    "for i in range(len(final_score)):\n",
    "    if final_score[i]==min_score:\n",
    "        print i"
   ]
  },
  {
   "cell_type": "code",
   "execution_count": null,
   "metadata": {
    "collapsed": false
   },
   "outputs": [],
   "source": [
    "def naive_mm_plus(p, t,m):\n",
    "##m=number of mismatches allowed\n",
    "    occurrences = []\n",
    "    mm_pos=[]\n",
    "    for i in range(len(t) - len(p) + 1):  # loop over alignments\n",
    "        mm_count=0\n",
    "        match = True\n",
    "        for j in range(len(p)):  # loop over characters\n",
    "            if t[i+j] != p[j]:  # compare characters\n",
    "                mm_count+=1\n",
    "                if j!=0:\n",
    "                    mm_pos.append(j)\n",
    "                print mm_pos\n",
    "            if mm_count>m:\n",
    "                match = False\n",
    "                break\n",
    "        if match:\n",
    "            occurrences.append(i)  # all chars matched; record\n",
    "        if len(occurrences)>50:\n",
    "            break\n",
    "    return occurrences, mm_pos"
   ]
  },
  {
   "cell_type": "code",
   "execution_count": null,
   "metadata": {
    "collapsed": false
   },
   "outputs": [],
   "source": [
    "occurrences, mm_pos=naive_3mm_plus('TTCAAGCC', lambda_genome)"
   ]
  },
  {
   "cell_type": "markdown",
   "metadata": {
    "collapsed": true
   },
   "source": [
    "## week 2:"
   ]
  },
  {
   "cell_type": "markdown",
   "metadata": {},
   "source": [
    "#### Boyer-Moore Preprocessing:"
   ]
  },
  {
   "cell_type": "code",
   "execution_count": 2,
   "metadata": {
    "collapsed": false
   },
   "outputs": [],
   "source": [
    "\"\"\"bm_preproc.py: Boyer-Moore preprocessing.\"\"\"\n",
    "\n",
    "__author__ = \"Ben Langmead\"\n",
    "\n",
    "import unittest\n",
    "\n",
    "\n",
    "def z_array(s):\n",
    "    \"\"\" Use Z algorithm (Gusfield theorem 1.4.1) to preprocess s \"\"\"\n",
    "    assert len(s) > 1\n",
    "    z = [len(s)] + [0] * (len(s)-1)\n",
    "\n",
    "    # Initial comparison of s[1:] with prefix\n",
    "    for i in range(1, len(s)):\n",
    "        if s[i] == s[i-1]:\n",
    "            z[1] += 1\n",
    "        else:\n",
    "            break\n",
    "\n",
    "    r, l = 0, 0\n",
    "    if z[1] > 0:\n",
    "        r, l = z[1], 1\n",
    "\n",
    "    for k in range(2, len(s)):\n",
    "        assert z[k] == 0\n",
    "        if k > r:\n",
    "            # Case 1\n",
    "            for i in range(k, len(s)):\n",
    "                if s[i] == s[i-k]:\n",
    "                    z[k] += 1\n",
    "                else:\n",
    "                    break\n",
    "            r, l = k + z[k] - 1, k\n",
    "        else:\n",
    "            # Case 2\n",
    "            # Calculate length of beta\n",
    "            nbeta = r - k + 1\n",
    "            zkp = z[k - l]\n",
    "            if nbeta > zkp:\n",
    "                # Case 2a: zkp wins\n",
    "                z[k] = zkp\n",
    "            else:\n",
    "                # Case 2b: Compare characters just past r\n",
    "                nmatch = 0\n",
    "                for i in range(r+1, len(s)):\n",
    "                    if s[i] == s[i - k]:\n",
    "                        nmatch += 1\n",
    "                    else:\n",
    "                        break\n",
    "                l, r = k, r + nmatch\n",
    "                z[k] = r - k + 1\n",
    "    return z\n",
    "\n",
    "\n",
    "def n_array(s):\n",
    "    \"\"\" Compile the N array (Gusfield theorem 2.2.2) from the Z array \"\"\"\n",
    "    return z_array(s[::-1])[::-1]\n",
    "\n",
    "\n",
    "def big_l_prime_array(p, n):\n",
    "    \"\"\" Compile L' array (Gusfield theorem 2.2.2) using p and N array.\n",
    "        L'[i] = largest index j less than n such that N[j] = |P[i:]| \"\"\"\n",
    "    lp = [0] * len(p)\n",
    "    for j in range(len(p)-1):\n",
    "        i = len(p) - n[j]\n",
    "        if i < len(p):\n",
    "            lp[i] = j + 1\n",
    "    return lp\n",
    "\n",
    "\n",
    "def big_l_array(p, lp):\n",
    "    \"\"\" Compile L array (Gusfield theorem 2.2.2) using p and L' array.\n",
    "        L[i] = largest index j less than n such that N[j] >= |P[i:]| \"\"\"\n",
    "    l = [0] * len(p)\n",
    "    l[1] = lp[1]\n",
    "    for i in range(2, len(p)):\n",
    "        l[i] = max(l[i-1], lp[i])\n",
    "    return l\n",
    "\n",
    "\n",
    "def small_l_prime_array(n):\n",
    "    \"\"\" Compile lp' array (Gusfield theorem 2.2.4) using N array. \"\"\"\n",
    "    small_lp = [0] * len(n)\n",
    "    for i in range(len(n)):\n",
    "        if n[i] == i+1:  # prefix matching a suffix\n",
    "            small_lp[len(n)-i-1] = i+1\n",
    "    for i in range(len(n)-2, -1, -1):  # \"smear\" them out to the left\n",
    "        if small_lp[i] == 0:\n",
    "            small_lp[i] = small_lp[i+1]\n",
    "    return small_lp\n",
    "\n",
    "\n",
    "def good_suffix_table(p):\n",
    "    \"\"\" Return tables needed to apply good suffix rule. \"\"\"\n",
    "    n = n_array(p)\n",
    "    lp = big_l_prime_array(p, n)\n",
    "    return lp, big_l_array(p, lp), small_l_prime_array(n)\n",
    "\n",
    "\n",
    "def good_suffix_mismatch(i, big_l_prime, small_l_prime):\n",
    "    \"\"\" Given a mismatch at offset i, and given L/L' and l' arrays,\n",
    "        return amount to shift as determined by good suffix rule. \"\"\"\n",
    "    length = len(big_l_prime)\n",
    "    assert i < length\n",
    "    if i == length - 1:\n",
    "        return 0\n",
    "    i += 1  # i points to leftmost matching position of P\n",
    "    if big_l_prime[i] > 0:\n",
    "        return length - big_l_prime[i]\n",
    "    return length - small_l_prime[i]\n",
    "\n",
    "\n",
    "def good_suffix_match(small_l_prime):\n",
    "    \"\"\" Given a full match of P to T, return amount to shift as\n",
    "        determined by good suffix rule. \"\"\"\n",
    "    return len(small_l_prime) - small_l_prime[1]\n",
    "\n",
    "\n",
    "def dense_bad_char_tab(p, amap):\n",
    "    \"\"\" Given pattern string and list with ordered alphabet characters, create\n",
    "        and return a dense bad character table.  Table is indexed by offset\n",
    "        then by character. \"\"\"\n",
    "    tab = []\n",
    "    nxt = [0] * len(amap)\n",
    "    for i in range(0, len(p)):\n",
    "        c = p[i]\n",
    "        assert c in amap\n",
    "        tab.append(nxt[:])\n",
    "        nxt[amap[c]] = i+1\n",
    "    return tab\n",
    "\n",
    "\n",
    "class BoyerMoore(object):\n",
    "    \"\"\" Encapsulates pattern and associated Boyer-Moore preprocessing. \"\"\"\n",
    "\n",
    "    def __init__(self, p, alphabet='ACGT'):\n",
    "        # Create map from alphabet characters to integers\n",
    "        self.amap = {alphabet[i]: i for i in range(len(alphabet))}\n",
    "        # Make bad character rule table\n",
    "        self.bad_char = dense_bad_char_tab(p, self.amap)\n",
    "        # Create good suffix rule table\n",
    "        _, self.big_l, self.small_l_prime = good_suffix_table(p)\n",
    "\n",
    "    def bad_character_rule(self, i, c):\n",
    "        \"\"\" Return # skips given by bad character rule at offset i \"\"\"\n",
    "        assert c in self.amap\n",
    "        assert i < len(self.bad_char)\n",
    "        ci = self.amap[c]\n",
    "        return i - (self.bad_char[i][ci]-1)\n",
    "\n",
    "    def good_suffix_rule(self, i):\n",
    "        \"\"\" Given a mismatch at offset i, return amount to shift\n",
    "            as determined by (weak) good suffix rule. \"\"\"\n",
    "        length = len(self.big_l)\n",
    "        assert i < length\n",
    "        if i == length - 1:\n",
    "            return 0\n",
    "        i += 1  # i points to leftmost matching position of P\n",
    "        if self.big_l[i] > 0:\n",
    "            return length - self.big_l[i]\n",
    "        return length - self.small_l_prime[i]\n",
    "\n",
    "    def match_skip(self):\n",
    "        \"\"\" Return amount to shift in case where P matches T \"\"\"\n",
    "        return len(self.small_l_prime) - self.small_l_prime[1]\n",
    "\n",
    "\n",
    "class TestBoyerMoorePreproc(unittest.TestCase):\n",
    "\n",
    "    def test_z_1(self):\n",
    "        s = 'abb'\n",
    "        #    -00\n",
    "        z = z_array(s)\n",
    "        self.assertEqual([3, 0, 0], z)\n",
    "\n",
    "    def test_z_2(self):\n",
    "        s = 'abababab'\n",
    "        #    00604020\n",
    "        z = z_array(s)\n",
    "        self.assertEqual([8, 0, 6, 0, 4, 0, 2, 0], z)\n",
    "\n",
    "    def test_z_3(self):\n",
    "        s = 'abababab'\n",
    "        #    00604020\n",
    "        z = z_array(s)\n",
    "        self.assertEqual([8, 0, 6, 0, 4, 0, 2, 0], z)\n",
    "\n",
    "    def test_n_1(self):\n",
    "        s = 'abb'\n",
    "        #    01-\n",
    "        n = n_array(s)\n",
    "        self.assertEqual([0, 1, 3], n)\n",
    "\n",
    "    def test_n_2(self):\n",
    "        s = 'abracadabra'\n",
    "        #    1004010100-\n",
    "        n = n_array(s)\n",
    "        self.assertEqual([1, 0, 0, 4, 0, 1, 0, 1, 0, 0, 11], n)\n",
    "\n",
    "    def test_n_3(self):\n",
    "        s = 'abababab'\n",
    "        #    0204060-\n",
    "        n = n_array(s)\n",
    "        self.assertEqual([0, 2, 0, 4, 0, 6, 0, 8], n)\n",
    "\n",
    "    def test_big_l_prime_1(self):\n",
    "        s = 'abb'\n",
    "        #    001\n",
    "        big_l_prime = big_l_prime_array(s, n_array(s))\n",
    "        self.assertEqual([0, 0, 2], big_l_prime)\n",
    "\n",
    "    def test_big_l_prime_2(self):\n",
    "        s = 'abracadabra'\n",
    "        #    01234567890\n",
    "        # L' 00000003007\n",
    "        # L  00000003337\n",
    "        big_l_prime = big_l_prime_array(s, n_array(s))\n",
    "        self.assertEqual([0, 0, 0, 0, 0, 0, 0, 4, 0, 0, 8], big_l_prime)\n",
    "\n",
    "    def test_small_l_prime_1(self):\n",
    "        s = 'abracadabra'\n",
    "        # N  1004010100-\n",
    "        # l'           1\n",
    "        # l'        4\n",
    "        # l' 44444444111\n",
    "        small_l_prime = small_l_prime_array(n_array(s))\n",
    "        self.assertEqual([11, 4, 4, 4, 4, 4, 4, 4, 1, 1, 1], small_l_prime)\n",
    "\n",
    "    def test_good_suffix_match_mismatch_1(self):\n",
    "        p = 'GGTAGGT'\n",
    "        big_l_prime, big_l, small_l_prime = good_suffix_table(p)\n",
    "        self.assertEqual([0, 0, 0, 0, 3, 0, 0], big_l_prime)\n",
    "        self.assertEqual([0, 0, 0, 0, 3, 3, 3], big_l)\n",
    "        self.assertEqual([7, 3, 3, 3, 3, 0, 0], small_l_prime)\n",
    "        self.assertEqual(0, good_suffix_mismatch(6, big_l_prime, small_l_prime))\n",
    "        self.assertEqual(0, good_suffix_mismatch(6, big_l, small_l_prime))\n",
    "        #  t:      xT\n",
    "        #  p: GGTAGGT\n",
    "        # L': -000300\n",
    "        #  L: -000333\n",
    "        self.assertEqual(7, good_suffix_mismatch(5, big_l_prime, small_l_prime))\n",
    "        self.assertEqual(4, good_suffix_mismatch(5, big_l, small_l_prime))\n",
    "        #  t:     xGT\n",
    "        #  p: GGTAGGT\n",
    "        # L': -000300\n",
    "        #  L: -000333\n",
    "        self.assertEqual(7, good_suffix_mismatch(4, big_l_prime, small_l_prime))\n",
    "        self.assertEqual(4, good_suffix_mismatch(4, big_l, small_l_prime))\n",
    "        #  t:    xGGT\n",
    "        #  p: GGTAGGT\n",
    "        # L': -000300\n",
    "        #  L: -000333\n",
    "        self.assertEqual(4, good_suffix_mismatch(3, big_l_prime, small_l_prime))\n",
    "        self.assertEqual(4, good_suffix_mismatch(3, big_l, small_l_prime))\n",
    "        #  t:   xAGGT\n",
    "        #  p: GGTAGGT\n",
    "        # L': -000300\n",
    "        #  L: -000333\n",
    "        self.assertEqual(4, good_suffix_mismatch(2, big_l_prime, small_l_prime))\n",
    "        self.assertEqual(4, good_suffix_mismatch(2, big_l, small_l_prime))\n",
    "        #  t:  xTAGGT\n",
    "        #  p: GGTAGGT\n",
    "        # L': -000300\n",
    "        #  L: -000333\n",
    "        self.assertEqual(4, good_suffix_mismatch(1, big_l_prime, small_l_prime))\n",
    "        self.assertEqual(4, good_suffix_mismatch(1, big_l, small_l_prime))\n",
    "        #  t: xGTAGGT\n",
    "        #  p: GGTAGGT\n",
    "        # L': -000300\n",
    "        #  L: -000333\n",
    "        self.assertEqual(4, good_suffix_mismatch(0, big_l_prime, small_l_prime))\n",
    "        self.assertEqual(4, good_suffix_mismatch(0, big_l, small_l_prime))\n",
    "\n",
    "    def test_good_suffix_table_1(self):\n",
    "        s = 'abb'\n",
    "        #    001\n",
    "        big_l_prime, big_l, small_l_prime = good_suffix_table(s)\n",
    "        self.assertEqual([0, 0, 2], big_l_prime)\n",
    "        self.assertEqual([0, 0, 2], big_l)\n",
    "        self.assertEqual([3, 0, 0], small_l_prime)\n",
    "\n",
    "    def test_good_suffix_table_2(self):\n",
    "        s = 'abracadabra'\n",
    "        #    01234567890\n",
    "        # L' 00000003007\n",
    "        # L  00000003337\n",
    "        # l' -4444444111\n",
    "        big_l_prime, big_l, small_l_prime = good_suffix_table(s)\n",
    "        self.assertEqual([0, 0, 0, 0, 0, 0, 0, 4, 0, 0, 8], big_l_prime)\n",
    "        self.assertEqual([0, 0, 0, 0, 0, 0, 0, 4, 4, 4, 8], big_l)\n",
    "        self.assertEqual([11, 4, 4, 4, 4, 4, 4, 4, 1, 1, 1], small_l_prime)\n",
    "\n",
    "#if __name__ == '__main__':\n",
    "#    unittest.main()\n"
   ]
  },
  {
   "cell_type": "markdown",
   "metadata": {},
   "source": [
    "#### Boyer-moore function:"
   ]
  },
  {
   "cell_type": "code",
   "execution_count": null,
   "metadata": {
    "collapsed": true
   },
   "outputs": [],
   "source": [
    "def boyer_moore(p, p_bm, t):\n",
    "    \"\"\" Do Boyer-Moore matching. p=pattern, t=text,\n",
    "        p_bm=BoyerMoore object for p \"\"\"\n",
    "    i = 0\n",
    "    occurrences = []\n",
    "    while i < len(t) - len(p) + 1:\n",
    "        shift = 1\n",
    "        mismatched = False\n",
    "        for j in range(len(p)-1, -1, -1):\n",
    "            if p[j] != t[i+j]:\n",
    "                skip_bc = p_bm.bad_character_rule(j, t[i+j])\n",
    "                skip_gs = p_bm.good_suffix_rule(j)\n",
    "                shift = max(shift, skip_bc, skip_gs)\n",
    "                mismatched = True\n",
    "                break\n",
    "        if not mismatched:\n",
    "            occurrences.append(i)\n",
    "            skip_gs = p_bm.match_skip()\n",
    "            shift = max(shift, skip_gs)\n",
    "        i += shift\n",
    "    return occurrences"
   ]
  },
  {
   "cell_type": "code",
   "execution_count": 3,
   "metadata": {
    "collapsed": true
   },
   "outputs": [],
   "source": [
    "t= 'GGCTATAATGCGTA'\n",
    "p=  'TAATAAA'\n"
   ]
  },
  {
   "cell_type": "code",
   "execution_count": 6,
   "metadata": {
    "collapsed": true
   },
   "outputs": [],
   "source": [
    "p_bm=BoyerMoore(p)"
   ]
  },
  {
   "cell_type": "code",
   "execution_count": 11,
   "metadata": {
    "collapsed": false
   },
   "outputs": [
    {
     "data": {
      "text/plain": [
       "3"
      ]
     },
     "execution_count": 11,
     "metadata": {},
     "output_type": "execute_result"
    }
   ],
   "source": [
    "p_bm.bad_character_rule(3,'T')"
   ]
  },
  {
   "cell_type": "code",
   "execution_count": 10,
   "metadata": {
    "collapsed": false
   },
   "outputs": [
    {
     "data": {
      "text/plain": [
       "7"
      ]
     },
     "execution_count": 10,
     "metadata": {},
     "output_type": "execute_result"
    }
   ],
   "source": [
    "p_bm.good_suffix_rule(2)"
   ]
  },
  {
   "cell_type": "code",
   "execution_count": 15,
   "metadata": {
    "collapsed": false
   },
   "outputs": [],
   "source": [
    "def naive_with_counts(p, t):\n",
    "    occurrences = []\n",
    "    num_character_comparisons=0\n",
    "    num_alignments=0\n",
    "    for i in range(len(t) - len(p) + 1):  # loop over alignments\n",
    "        num_alignments+=1\n",
    "        match = True\n",
    "        for j in range(len(p)):  # loop over characters\n",
    "            num_character_comparisons+=1\n",
    "            if t[i+j] != p[j]:  # compare characters\n",
    "                match = False\n",
    "                break\n",
    "        if match:\n",
    "            occurrences.append(i)  # all chars matched; record\n",
    "\n",
    "    return occurrences, num_alignments, num_character_comparisons"
   ]
  },
  {
   "cell_type": "code",
   "execution_count": 18,
   "metadata": {
    "collapsed": true
   },
   "outputs": [],
   "source": [
    "p = 'needle'\n",
    "t = 'needle need noodle needle'"
   ]
  },
  {
   "cell_type": "code",
   "execution_count": 19,
   "metadata": {
    "collapsed": false
   },
   "outputs": [
    {
     "name": "stdout",
     "output_type": "stream",
     "text": [
      "[0, 19] 20 35\n"
     ]
    }
   ],
   "source": [
    "occurrences, num_alignments, num_character_comparisons=naive_with_counts(p, t)\n",
    "print occurrences, num_alignments, num_character_comparisons"
   ]
  },
  {
   "cell_type": "code",
   "execution_count": 20,
   "metadata": {
    "collapsed": true
   },
   "outputs": [],
   "source": [
    "def boyer_moore_with_counts(p, p_bm, t):\n",
    "    i = 0\n",
    "    occurrences = []\n",
    "    num_character_comparisons=0\n",
    "    num_alignments=0\n",
    "    while i < len(t) - len(p) + 1:\n",
    "        num_alignments+=1\n",
    "        shift = 1\n",
    "        mismatched = False\n",
    "        for j in range(len(p)-1, -1, -1):\n",
    "            num_character_comparisons+=1\n",
    "            if p[j] != t[i+j]:\n",
    "                skip_bc = p_bm.bad_character_rule(j, t[i+j])\n",
    "                skip_gs = p_bm.good_suffix_rule(j)\n",
    "                shift = max(shift, skip_bc, skip_gs)\n",
    "                mismatched = True\n",
    "                break\n",
    "        if not mismatched:\n",
    "            occurrences.append(i)\n",
    "            skip_gs = p_bm.match_skip()\n",
    "            shift = max(shift, skip_gs)\n",
    "        i += shift\n",
    "    \n",
    "    return occurrences, num_alignments, num_character_comparisons"
   ]
  },
  {
   "cell_type": "code",
   "execution_count": null,
   "metadata": {
    "collapsed": true
   },
   "outputs": [],
   "source": []
  },
  {
   "cell_type": "code",
   "execution_count": 21,
   "metadata": {
    "collapsed": false
   },
   "outputs": [
    {
     "name": "stdout",
     "output_type": "stream",
     "text": [
      "([40], 12, 15)\n"
     ]
    }
   ],
   "source": [
    "p = 'word'\n",
    "t = 'there would have been a time for such a word'\n",
    "lowercase_alphabet = 'abcdefghijklmnopqrstuvwxyz '\n",
    "p_bm = BoyerMoore(p, lowercase_alphabet)\n",
    "occurrences, num_alignments, num_character_comparisons = boyer_moore_with_counts(p, p_bm, t)\n",
    "print(occurrences, num_alignments, num_character_comparisons)"
   ]
  },
  {
   "cell_type": "code",
   "execution_count": 22,
   "metadata": {
    "collapsed": false
   },
   "outputs": [
    {
     "name": "stdout",
     "output_type": "stream",
     "text": [
      "([0, 19], 5, 18)\n"
     ]
    }
   ],
   "source": [
    "p = 'needle'\n",
    "t = 'needle need noodle needle'\n",
    "p_bm = BoyerMoore(p, lowercase_alphabet)\n",
    "occurrences, num_alignments, num_character_comparisons = boyer_moore_with_counts(p, p_bm, t)\n",
    "print(occurrences, num_alignments, num_character_comparisons)"
   ]
  },
  {
   "cell_type": "code",
   "execution_count": 27,
   "metadata": {
    "collapsed": false
   },
   "outputs": [],
   "source": [
    "HumChr1 = readGenome('/net/mraid08/export/genie/Lab/Personal/ShaniBAF/Coursera/PythonAlgoGenomics/chr1.GRCh38.excerpt.fasta')"
   ]
  },
  {
   "cell_type": "code",
   "execution_count": 145,
   "metadata": {
    "collapsed": false
   },
   "outputs": [],
   "source": [
    "p='GGCGCGGTGGCTCACGCCTGTAATCCCAGCACTTTGGGAGGCCGAGG'"
   ]
  },
  {
   "cell_type": "code",
   "execution_count": 146,
   "metadata": {
    "collapsed": true
   },
   "outputs": [],
   "source": [
    "t=HumChr1"
   ]
  },
  {
   "cell_type": "code",
   "execution_count": 147,
   "metadata": {
    "collapsed": false
   },
   "outputs": [
    {
     "name": "stdout",
     "output_type": "stream",
     "text": [
      "([56922], 799954, 984143)\n"
     ]
    }
   ],
   "source": [
    "occurrences, num_alignments, num_character_comparisons = naive_with_counts(p, t)\n",
    "print(occurrences, num_alignments, num_character_comparisons)"
   ]
  },
  {
   "cell_type": "code",
   "execution_count": 148,
   "metadata": {
    "collapsed": true
   },
   "outputs": [],
   "source": [
    "ab='ACTG'"
   ]
  },
  {
   "cell_type": "code",
   "execution_count": 39,
   "metadata": {
    "collapsed": false
   },
   "outputs": [
    {
     "name": "stdout",
     "output_type": "stream",
     "text": [
      "([56922], 127974, 165191)\n"
     ]
    }
   ],
   "source": [
    "p_bm = BoyerMoore(p, ab)\n",
    "occurrences, num_alignments, num_character_comparisons = boyer_moore_with_counts(p, p_bm, t)\n",
    "print(occurrences, num_alignments, num_character_comparisons)"
   ]
  },
  {
   "cell_type": "code",
   "execution_count": 40,
   "metadata": {
    "collapsed": true
   },
   "outputs": [],
   "source": [
    "ab2='ACTGN'"
   ]
  },
  {
   "cell_type": "code",
   "execution_count": 41,
   "metadata": {
    "collapsed": false
   },
   "outputs": [
    {
     "name": "stdout",
     "output_type": "stream",
     "text": [
      "([56922], 127974, 165191)\n"
     ]
    }
   ],
   "source": [
    "p_bm = BoyerMoore(p, ab2)\n",
    "occurrences, num_alignments, num_character_comparisons = boyer_moore_with_counts(p, p_bm, t)\n",
    "print(occurrences, num_alignments, num_character_comparisons)"
   ]
  },
  {
   "cell_type": "markdown",
   "metadata": {},
   "source": [
    "#### Python module for building k-mer index:"
   ]
  },
  {
   "cell_type": "code",
   "execution_count": 93,
   "metadata": {
    "collapsed": true
   },
   "outputs": [],
   "source": [
    "class Index(object):\n",
    "    \"\"\" Holds a substring index for a text T \"\"\"\n",
    "\n",
    "    def __init__(self, t, k):\n",
    "        \"\"\" Create index from all substrings of t of length k \"\"\"\n",
    "        self.k = k  # k-mer length (k)\n",
    "        self.index = []\n",
    "        for i in range(len(t) - k + 1):  # for each k-mer\n",
    "            self.index.append((t[i:i+k], i))  # add (k-mer, offset) pair\n",
    "        self.index.sort()  # alphabetize by k-mer\n",
    "\n",
    "    def query(self, p): #find hits of kmers in the index\n",
    "        import bisect\n",
    "        Kstart=0\n",
    "        Kend=Kstart+self.k\n",
    "        hits = []\n",
    "        while Kend<=len(p): #loop over k-mers in p until the end of p\n",
    "            \n",
    "            kmer = p[Kstart:Kend]  \n",
    "            i = bisect.bisect_left(self.index, (kmer, -1))  # binary search\n",
    "            \n",
    "            while i < len(self.index):  # collect matching index entries\n",
    "                if self.index[i][0] != kmer:\n",
    "                    break\n",
    "                hits.append(self.index[i][1])\n",
    "                i += 1\n",
    "            Kstart=Kstart+1\n",
    "            Kend=Kend+1\n",
    "        return hits\n"
   ]
  },
  {
   "cell_type": "markdown",
   "metadata": {},
   "source": [
    "#### approximate matching function using the pigenhole principle and indexing:"
   ]
  },
  {
   "cell_type": "code",
   "execution_count": 98,
   "metadata": {
    "collapsed": true
   },
   "outputs": [],
   "source": [
    "def approximate_match (p,t,n,k):\n",
    "    #n-max number of mismatches allowed, k-k-mer length\n",
    "    \n",
    "    segment_length=round(len(p)/(n+1))\n",
    "    all_matches=set()\n",
    "    for i in range(n+1): # loop over partitions\n",
    "        start=int(i*segment_length) #define start and end site for each partition\n",
    "        end=int(min((i+1)*segment_length,len(p)))\n",
    "        indexT=Index(t,k) ## index the text using the index class and the length k\n",
    "        matches=Index.query(indexT,p) # generate a list of index hits for the first kmer of p\n",
    "                         ## need to loop over kmers???\n",
    "        \n",
    "        for m in matches: #verify match outside the partition, taking into account\n",
    "                          #the allowed number of mismatches n\n",
    "            if m<start or m-start+len(p) >len(t):\n",
    "                continue\n",
    "                \n",
    "            mismatches=0\n",
    "            for j in range(0,start):\n",
    "                if not p[j] == t[m-start+j]:\n",
    "                    mismatches+=1\n",
    "                    if mismatches>n:\n",
    "                        break\n",
    "                        \n",
    "            for j in range(end, len(p)):\n",
    "                if not p[j] == t[m-start+j]:\n",
    "                    mismatches+=1\n",
    "                    if mismatches>n:\n",
    "                        break\n",
    "                        \n",
    "            if mismatches <=n:\n",
    "                all_matches.add(m-start)\n",
    "    return list(all_matches), matches"
   ]
  },
  {
   "cell_type": "code",
   "execution_count": 95,
   "metadata": {
    "collapsed": false
   },
   "outputs": [],
   "source": [
    "p='GGCGCGGTGGCTCACGCCTGTAAT'\n",
    "n=2\n",
    "k=8"
   ]
  },
  {
   "cell_type": "code",
   "execution_count": 96,
   "metadata": {
    "collapsed": false
   },
   "outputs": [
    {
     "name": "stdout",
     "output_type": "stream",
     "text": [
      "[84641, 160162, 635931, 747359, 273669, 147558, 364263, 681737, 717706, 465647, 429299, 657496, 160729, 56922, 724927, 191452, 262042, 551134, 421221]\n"
     ]
    }
   ],
   "source": [
    "all_matches=approximate_match (p,t,n,k)\n",
    "print all_matches"
   ]
  },
  {
   "cell_type": "code",
   "execution_count": 71,
   "metadata": {
    "collapsed": true
   },
   "outputs": [],
   "source": [
    "all_matches2=naive_2mm(p, t)"
   ]
  },
  {
   "cell_type": "code",
   "execution_count": 72,
   "metadata": {
    "collapsed": false
   },
   "outputs": [
    {
     "name": "stdout",
     "output_type": "stream",
     "text": [
      "[56922, 84641, 147558, 160162, 160729, 191452, 262042, 273669, 364263, 421221, 429299, 465647, 551134, 635931, 657496, 681737, 717706, 724927, 747359]\n"
     ]
    }
   ],
   "source": [
    "print all_matches2"
   ]
  },
  {
   "cell_type": "code",
   "execution_count": 97,
   "metadata": {
    "collapsed": false
   },
   "outputs": [
    {
     "name": "stdout",
     "output_type": "stream",
     "text": [
      "19\n",
      "19\n"
     ]
    }
   ],
   "source": [
    "print len(all_matches)\n",
    "print len(all_matches2)"
   ]
  },
  {
   "cell_type": "code",
   "execution_count": 87,
   "metadata": {
    "collapsed": false
   },
   "outputs": [
    {
     "name": "stdout",
     "output_type": "stream",
     "text": [
      "19\n"
     ]
    }
   ],
   "source": [
    "print len(set(all_matches2))"
   ]
  },
  {
   "cell_type": "code",
   "execution_count": 90,
   "metadata": {
    "collapsed": false
   },
   "outputs": [
    {
     "name": "stdout",
     "output_type": "stream",
     "text": [
      "set([84641, 160162, 421221, 147558, 364263, 681737, 717706, 465647, 429299, 657496, 160729, 56922, 724927, 191452, 262042, 551134, 273669])\n"
     ]
    }
   ],
   "source": [
    "U=set(all_matches)&set(all_matches2)\n",
    "print U\n",
    "\n",
    "#U=set(all_matches2).intersect(set(all_matches))"
   ]
  },
  {
   "cell_type": "code",
   "execution_count": 92,
   "metadata": {
    "collapsed": false
   },
   "outputs": [
    {
     "name": "stdout",
     "output_type": "stream",
     "text": [
      "set([635931, 747359])\n"
     ]
    }
   ],
   "source": [
    "dif=set(all_matches2)-U\n",
    "print dif"
   ]
  },
  {
   "cell_type": "code",
   "execution_count": 149,
   "metadata": {
    "collapsed": false
   },
   "outputs": [
    {
     "name": "stdout",
     "output_type": "stream",
     "text": [
      "[56922, 57056, 83720, 84641, 147558, 160729, 191452, 262042, 364263, 657496, 681737, 717706, 725061, 56923, 57057, 83721, 84642, 147559, 160730, 191453, 262043, 364264, 429300, 657497, 681738, 717707, 725062, 56924, 57058, 84643, 147560, 160731, 191454, 262044, 359294, 364265, 429301, 657498, 681739, 717708, 725063, 56925, 57059, 84644, 147561, 160732, 262045, 273672, 290046, 359295, 364266, 429302, 471969, 472637, 635934, 657499, 681740, 717709, 725064, 734759, 56926, 84645, 147562, 160166, 160733, 262046, 273673, 364267, 429303, 471970, 472638, 551138, 635935, 657500, 681741, 717710, 724931, 18738, 18875, 56927, 67368, 84646, 95407, 126935, 147563, 160167, 160734, 199474, 251095, 262047, 273674, 278780, 364268, 417366, 429304, 471971, 472639, 480371, 522095, 551139, 571203, 635936, 651528, 657501, 681742, 684179, 704736, 712454, 717711, 719423, 724932, 730170, 5040, 18739, 18876, 22403, 56928, 67369, 84647, 94403, 97005, 108116, 126936, 147564, 160168, 160735, 186675, 199475, 207660, 251096, 262048, 273675, 364269, 429305, 465653, 471972, 472640, 480372, 522096, 551140, 580585, 621368, 635937, 651529, 657502, 681743, 704737, 717712, 719424, 724933, 730171, 731675, 762402, 783352, 1633, 18877, 56929, 65088, 67370, 80155, 88163, 94404, 108117, 120604, 149478, 160169, 160736, 166657, 182636, 199476, 207661, 242119, 256632, 262049, 273676, 282011, 364270, 408057, 421228, 424269, 429306, 465654, 472641, 480373, 489445, 505684, 551141, 557531, 571798, 580586, 587434, 621369, 657503, 660949, 704738, 717713, 724934, 735661, 762403, 783353, 18878, 56930, 160170, 262050, 273677, 282012, 364271, 421229, 429307, 465655, 472642, 489446, 551142, 621370, 657504, 717714, 724935, 18879, 56931, 160171, 262051, 273678, 282013, 317302, 364272, 421230, 429308, 465656, 551143, 588487, 657505, 717715, 724936, 779290, 18880, 56932, 141056, 262052, 273679, 282014, 364273, 421231, 429309, 465657, 551144, 588488, 657506, 717716, 724937, 18881, 23014, 56933, 141057, 191463, 262053, 273680, 282015, 364274, 421232, 429310, 465658, 551145, 588489, 657507, 717717, 724938, 747370, 18882, 23015, 56934, 108257, 191464, 262054, 273681, 282016, 364275, 421233, 429311, 465659, 551146, 581180, 588490, 657508, 717718, 724939, 747371, 784044, 18883, 23016, 30462, 56935, 108258, 166877, 191465, 262055, 273682, 282017, 364276, 421234, 429312, 465660, 551147, 588491, 657509, 717719, 724940, 747372, 18884, 23017, 56936, 57070, 147706, 191466, 191602, 262056, 268731, 273683, 282018, 364277, 364410, 421235, 429313, 465661, 472783, 551148, 551282, 588492, 621505, 657510, 712598, 717720, 724941, 725075, 747373, 18748, 18885, 22412, 23018, 23153, 39362, 43142, 56937, 83735, 83878, 84656, 84790, 127081, 147573, 187670, 191467, 196896, 205396, 251105, 251239, 259949, 262057, 273684, 282019, 322750, 327617, 364278, 364411, 421236, 429314, 454347, 465662, 471981, 480516, 523100, 551149, 588493, 621506, 635946, 651538, 657511, 658781, 681752, 707166, 717721, 719433, 724714, 724942, 746635, 746769, 747374, 760504, 18749, 19182, 22413, 22548, 23019, 23154, 43143, 56938, 67379, 83736, 83879, 84657, 84791, 108126, 129010, 147574, 160745, 175326, 186012, 187671, 191468, 205397, 251106, 251240, 262058, 273685, 282020, 322751, 364279, 364412, 421237, 429315, 454348, 465663, 471982, 480517, 480658, 523101, 551150, 551843, 572212, 588494, 595557, 613475, 621507, 632321, 635947, 646504, 651539, 657512, 674072, 681753, 707167, 717722, 719434, 724943, 746636, 747375, 747511, 760505]\n"
     ]
    }
   ],
   "source": [
    "p='GGCGCGGTGGCTCACGCCTGTAAT'\n",
    "all_matches, matches=approximate_match (p,t,n,k)\n",
    "print matches"
   ]
  },
  {
   "cell_type": "code",
   "execution_count": 150,
   "metadata": {
    "collapsed": false
   },
   "outputs": [
    {
     "name": "stdout",
     "output_type": "stream",
     "text": [
      "446\n"
     ]
    }
   ],
   "source": [
    "print len(matches)"
   ]
  },
  {
   "cell_type": "markdown",
   "metadata": {},
   "source": [
    "#### index that handles subsequences:"
   ]
  },
  {
   "cell_type": "code",
   "execution_count": 133,
   "metadata": {
    "collapsed": true
   },
   "outputs": [],
   "source": [
    "import bisect\n",
    "   \n",
    "class SubseqIndex(object):\n",
    "    \"\"\" Holds a subsequence index for a text T \"\"\"\n",
    "    \n",
    "    def __init__(self, t, k, ival):\n",
    "        \"\"\" Create index from all subsequences consisting of k characters\n",
    "            spaced ival positions apart.  E.g., SubseqIndex(\"ATAT\", 2, 2)\n",
    "            extracts (\"AA\", 0) and (\"TT\", 1). \"\"\"\n",
    "        self.k = k  # num characters per subsequence extracted\n",
    "        self.ival = ival  # space between them; 1=adjacent, 2=every other, etc\n",
    "        self.index = []\n",
    "        self.span = 1 + ival * (k - 1)\n",
    "        for i in range(len(t) - self.span + 1):  # for each subseq\n",
    "            self.index.append((t[i:i+self.span:ival], i))  # add (subseq, offset)\n",
    "        self.index.sort()  # alphabetize by subseq\n",
    "    \n",
    "    def query(self, p): #find hits of subsequences in the index\n",
    "        Kstart=0\n",
    "        Kend=Kstart+self.span\n",
    "        hits = []\n",
    "        while Kend<=len(p): #loop over subsequences in p until the end of p\n",
    "            subseq = p[Kstart:Kend:self.ival]  # query with first subseq\n",
    "            i = bisect.bisect_left(self.index, (subseq, -1))  # binary search\n",
    "\n",
    "            while i < len(self.index):  # collect matching index entries\n",
    "                if self.index[i][0] != subseq:\n",
    "                    break\n",
    "                hits.append(self.index[i][1])\n",
    "                i += 1\n",
    "            Kstart=Kstart+1\n",
    "            Kend=Kend+1\n",
    "        return hits\n"
   ]
  },
  {
   "cell_type": "code",
   "execution_count": 134,
   "metadata": {
    "collapsed": true
   },
   "outputs": [],
   "source": [
    "def approximate_match_with_subseqs (p,t,n,k,ival):\n",
    "    #n-max number of mismatches allowed, k-k-mer length, ival=space between characters\n",
    "    \n",
    "    segment_length=round(len(p)/(n+1))\n",
    "    all_matches=set()\n",
    "    for i in range(n+1): # loop over partitions\n",
    "        start=int(i*segment_length) #define start and end site for each partition\n",
    "        end=int(min((i+1)*segment_length,len(p)))\n",
    "        indexTS=SubseqIndex(t,k,ival) ## index the text using the index class and the length k\n",
    "        matches=SubseqIndex.query(indexTS,p) # generate a list of index hits for the first kmer of p\n",
    "                         ## need to loop over kmers???\n",
    "        \n",
    "        for m in matches: #verify match outside the partition, taking into account\n",
    "                          #the allowed number of mismatches n\n",
    "            if m<start or m-start+len(p) >len(t):\n",
    "                continue\n",
    "                \n",
    "            mismatches=0\n",
    "            for j in range(0,start):\n",
    "                if not p[j] == t[m-start+j]:\n",
    "                    mismatches+=1\n",
    "                    if mismatches>n:\n",
    "                        break\n",
    "                        \n",
    "            for j in range(end, len(p)):\n",
    "                if not p[j] == t[m-start+j]:\n",
    "                    mismatches+=1\n",
    "                    if mismatches>n:\n",
    "                        break\n",
    "                        \n",
    "            if mismatches <=n:\n",
    "                all_matches.add(m-start)\n",
    "    return list(all_matches), matches"
   ]
  },
  {
   "cell_type": "code",
   "execution_count": 135,
   "metadata": {
    "collapsed": true
   },
   "outputs": [],
   "source": [
    "t = 'to-morrow and to-morrow and to-morrow creeps in this petty pace'\n",
    "p = 'to-morrow and to-morrow '"
   ]
  },
  {
   "cell_type": "code",
   "execution_count": null,
   "metadata": {
    "collapsed": true
   },
   "outputs": [],
   "source": []
  },
  {
   "cell_type": "code",
   "execution_count": 136,
   "metadata": {
    "collapsed": true
   },
   "outputs": [],
   "source": [
    "all_matches, matches=approximate_match_with_subseqs (p,t,2,8,3)"
   ]
  },
  {
   "cell_type": "code",
   "execution_count": 137,
   "metadata": {
    "collapsed": false
   },
   "outputs": [
    {
     "name": "stdout",
     "output_type": "stream",
     "text": [
      "[0, 14, 1, 15, 2, 16]\n"
     ]
    }
   ],
   "source": [
    "print matches"
   ]
  },
  {
   "cell_type": "code",
   "execution_count": 138,
   "metadata": {
    "collapsed": false
   },
   "outputs": [
    {
     "name": "stdout",
     "output_type": "stream",
     "text": [
      "[0, 14]\n"
     ]
    }
   ],
   "source": [
    "print all_matches"
   ]
  },
  {
   "cell_type": "code",
   "execution_count": 139,
   "metadata": {
    "collapsed": true
   },
   "outputs": [],
   "source": [
    "t= HumChr1"
   ]
  },
  {
   "cell_type": "code",
   "execution_count": 140,
   "metadata": {
    "collapsed": true
   },
   "outputs": [],
   "source": [
    "p='GGCGCGGTGGCTCACGCCTGTAAT'"
   ]
  },
  {
   "cell_type": "code",
   "execution_count": 141,
   "metadata": {
    "collapsed": true
   },
   "outputs": [],
   "source": [
    "n=2"
   ]
  },
  {
   "cell_type": "code",
   "execution_count": 142,
   "metadata": {
    "collapsed": true
   },
   "outputs": [],
   "source": [
    "k=8\n",
    "ival=3"
   ]
  },
  {
   "cell_type": "code",
   "execution_count": 143,
   "metadata": {
    "collapsed": true
   },
   "outputs": [],
   "source": [
    "all_matches, matches=approximate_match_with_subseqs (p,t,n,k,ival)"
   ]
  },
  {
   "cell_type": "code",
   "execution_count": 144,
   "metadata": {
    "collapsed": false
   },
   "outputs": [
    {
     "name": "stdout",
     "output_type": "stream",
     "text": [
      "79\n"
     ]
    }
   ],
   "source": [
    "print len(matches)"
   ]
  },
  {
   "cell_type": "code",
   "execution_count": 1,
   "metadata": {
    "collapsed": false
   },
   "outputs": [
    {
     "ename": "ApplicationError",
     "evalue": "Non-zero return code 127 from 'blastp -outfmt 5 -query seq1.fasta -subject seq2.fasta', message '/bin/sh: blastp: command not found'",
     "output_type": "error",
     "traceback": [
      "\u001b[0;31m---------------------------------------------------------------------------\u001b[0m",
      "\u001b[0;31mApplicationError\u001b[0m                          Traceback (most recent call last)",
      "\u001b[0;32m<ipython-input-1-70831b3a0de4>\u001b[0m in \u001b[0;36m<module>\u001b[0;34m()\u001b[0m\n\u001b[1;32m     15\u001b[0m \u001b[0;34m\u001b[0m\u001b[0m\n\u001b[1;32m     16\u001b[0m \u001b[0;31m# Run BLAST and parse the output as XML\u001b[0m\u001b[0;34m\u001b[0m\u001b[0;34m\u001b[0m\u001b[0m\n\u001b[0;32m---> 17\u001b[0;31m \u001b[0moutput\u001b[0m \u001b[0;34m=\u001b[0m \u001b[0mNcbiblastpCommandline\u001b[0m\u001b[0;34m(\u001b[0m\u001b[0mquery\u001b[0m\u001b[0;34m=\u001b[0m\u001b[0;34m\"seq1.fasta\"\u001b[0m\u001b[0;34m,\u001b[0m \u001b[0msubject\u001b[0m\u001b[0;34m=\u001b[0m\u001b[0;34m\"seq2.fasta\"\u001b[0m\u001b[0;34m,\u001b[0m \u001b[0moutfmt\u001b[0m\u001b[0;34m=\u001b[0m\u001b[0;36m5\u001b[0m\u001b[0;34m)\u001b[0m\u001b[0;34m(\u001b[0m\u001b[0;34m)\u001b[0m\u001b[0;34m[\u001b[0m\u001b[0;36m0\u001b[0m\u001b[0;34m]\u001b[0m\u001b[0;34m\u001b[0m\u001b[0m\n\u001b[0m\u001b[1;32m     18\u001b[0m \u001b[0mblast_result_record\u001b[0m \u001b[0;34m=\u001b[0m \u001b[0mNCBIXML\u001b[0m\u001b[0;34m.\u001b[0m\u001b[0mread\u001b[0m\u001b[0;34m(\u001b[0m\u001b[0mStringIO\u001b[0m\u001b[0;34m(\u001b[0m\u001b[0moutput\u001b[0m\u001b[0;34m)\u001b[0m\u001b[0;34m)\u001b[0m\u001b[0;34m\u001b[0m\u001b[0m\n\u001b[1;32m     19\u001b[0m \u001b[0;34m\u001b[0m\u001b[0m\n",
      "\u001b[0;32m/usr/wisdom/python/lib/python2.7/site-packages/Bio/Application/__init__.pyc\u001b[0m in \u001b[0;36m__call__\u001b[0;34m(self, stdin, stdout, stderr, cwd, env)\u001b[0m\n\u001b[1;32m    514\u001b[0m         \u001b[0;32mif\u001b[0m \u001b[0mreturn_code\u001b[0m\u001b[0;34m:\u001b[0m\u001b[0;34m\u001b[0m\u001b[0m\n\u001b[1;32m    515\u001b[0m             raise ApplicationError(return_code, str(self),\n\u001b[0;32m--> 516\u001b[0;31m                                    stdout_str, stderr_str)\n\u001b[0m\u001b[1;32m    517\u001b[0m         \u001b[0;32mreturn\u001b[0m \u001b[0mstdout_str\u001b[0m\u001b[0;34m,\u001b[0m \u001b[0mstderr_str\u001b[0m\u001b[0;34m\u001b[0m\u001b[0m\n\u001b[1;32m    518\u001b[0m \u001b[0;34m\u001b[0m\u001b[0m\n",
      "\u001b[0;31mApplicationError\u001b[0m: Non-zero return code 127 from 'blastp -outfmt 5 -query seq1.fasta -subject seq2.fasta', message '/bin/sh: blastp: command not found'"
     ]
    }
   ],
   "source": [
    "from Bio.Blast.Applications import NcbiblastpCommandline\n",
    "from StringIO import StringIO\n",
    "from Bio.Blast import NCBIXML\n",
    "from Bio.Seq import Seq\n",
    "from Bio.SeqRecord import SeqRecord\n",
    "from Bio import SeqIO\n",
    "\n",
    "# Create two sequence files\n",
    "seq1 = SeqRecord(Seq(\"FQTWEEFSRAAEKLYLADPMKVRVVLKYRHVDGNLCIKVTDDLVCLVYRTDQAQDVKKIEKF\"),\n",
    "                   id=\"seq1\")\n",
    "seq2 = SeqRecord(Seq(\"FQTWEEFSRAEKLYLADPMKVRVVLRYRHVDGNLCIKVTDDLICLVYRTDQAQDVKKIEKF\"),\n",
    "                   id=\"seq2\")\n",
    "SeqIO.write(seq1, \"seq1.fasta\", \"fasta\")\n",
    "SeqIO.write(seq2, \"seq2.fasta\", \"fasta\")\n",
    "\n",
    "# Run BLAST and parse the output as XML\n",
    "output = NcbiblastpCommandline(query=\"seq1.fasta\", subject=\"seq2.fasta\", outfmt=5)()[0]\n",
    "blast_result_record = NCBIXML.read(StringIO(output))\n",
    "\n",
    "# Print some information on the result\n",
    "for alignment in blast_result_record.alignments:\n",
    "    for hsp in alignment.hsps:\n",
    "        print '****Alignment****'\n",
    "        print 'sequence:', alignment.title\n",
    "        print 'length:', alignment.length\n",
    "        print 'e value:', hsp.expect\n",
    "        print hsp.query\n",
    "        print hsp.match\n",
    "        print hsp.sbjct"
   ]
  },
  {
   "cell_type": "code",
   "execution_count": null,
   "metadata": {
    "collapsed": true
   },
   "outputs": [],
   "source": []
  }
 ],
 "metadata": {
  "kernelspec": {
   "display_name": "Python 2",
   "language": "python",
   "name": "python2"
  },
  "language_info": {
   "codemirror_mode": {
    "name": "ipython",
    "version": 2
   },
   "file_extension": ".py",
   "mimetype": "text/x-python",
   "name": "python",
   "nbconvert_exporter": "python",
   "pygments_lexer": "ipython2",
   "version": "2.7.8"
  }
 },
 "nbformat": 4,
 "nbformat_minor": 1
}
