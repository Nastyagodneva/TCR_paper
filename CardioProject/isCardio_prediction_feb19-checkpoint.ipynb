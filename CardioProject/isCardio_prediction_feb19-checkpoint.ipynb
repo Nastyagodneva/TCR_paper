{
 "cells": [
  {
   "cell_type": "markdown",
   "metadata": {},
   "source": [
    "# imports and definitions:"
   ]
  },
  {
   "cell_type": "markdown",
   "metadata": {},
   "source": [
    "## imports:"
   ]
  },
  {
   "cell_type": "code",
   "execution_count": 1,
   "metadata": {
    "ExecuteTime": {
     "end_time": "2019-02-21T09:57:04.170556Z",
     "start_time": "2019-02-21T09:57:01.216198Z"
    }
   },
   "outputs": [
    {
     "name": "stdout",
     "output_type": "stream",
     "text": [
      "stop\n",
      "done1\n",
      "stop\n",
      "done\n",
      "done\n",
      "stop\n",
      "end of function!!!\n"
     ]
    },
    {
     "name": "stderr",
     "output_type": "stream",
     "text": [
      "/usr/wisdom/python/lib/python2.7/site-packages/matplotlib/__init__.py:1357: UserWarning:  This call to matplotlib.use() has no effect\n",
      "because the backend has already been chosen;\n",
      "matplotlib.use() must be called *before* pylab, matplotlib.pyplot,\n",
      "or matplotlib.backends is imported for the first time.\n",
      "\n",
      "  warnings.warn(_use_error_msg)\n"
     ]
    }
   ],
   "source": [
    "# system & general:\n",
    "from os import listdir,mkdir,makedirs\n",
    "from os.path import isfile, join, isdir,exists\n",
    "import cPickle as pickle\n",
    "import os\n",
    "import re\n",
    "import time\n",
    "\n",
    "# data analysis and statistics:\n",
    "import pandas as pd\n",
    "import numpy as np\n",
    "from scipy import stats\n",
    "import random\n",
    "from scipy.stats import pearsonr,fisher_exact,mannwhitneyu\n",
    "import math\n",
    "from scipy.spatial.distance import braycurtis, pdist, euclidean\n",
    "\n",
    "# figures:\n",
    "import matplotlib as mpl\n",
    "import matplotlib.pyplot as plt\n",
    "from matplotlib.backends.backend_pdf import PdfPages\n",
    "import seaborn as sns \n",
    "from matplotlib.ticker import FormatStrFormatter\n",
    "from matplotlib import gridspec\n",
    "# from PNPChip.ForPaper.Figures.nature_guidline_utils import m2inch\n",
    "import matplotlib.cm as cm\n",
    "from mpl_toolkits.axes_grid1 import make_axes_locatable\n",
    "\n",
    "#my functions:\n",
    "from ShaniBA.myplots import roundup, rounddown, find_decimal_fold, percentile_cut_off, rarefaction_calc, rarefaction_plot, adjusted_roundup\n",
    "from ShaniBA.MyFunctionsShani import *\n",
    "from ShaniBA.GeneralFeaturePhenotypeInteractions.Feature_phenotype_functions import * \n",
    "from ShaniBA.TCR_microbiome_interactions.TCR_microbiome_interactions_functions import *\n",
    "from ShaniBA.TCR_microbiome_interactions.TCR_microbiome_interactions_functions2 import *\n",
    "from ShaniBA.SampleLists.SampleFileFunctions import *\n",
    "from ShaniBA.PhenotypicData.PhenotypeGenerationFunctions import *\n",
    "from ShaniBA.CardioProject.CardioFunctions import *\n",
    "from ShaniBA.PredictionPipeline.PredictionFunctions import *\n",
    "from ShaniBA.TCR_feature_generation.SubsamplingFunctions import *\n",
    "from ShaniBA.CardioProject.Figures.GeneralFigureFunctions import *\n"
   ]
  },
  {
   "cell_type": "markdown",
   "metadata": {},
   "source": [
    "## definitions:"
   ]
  },
  {
   "cell_type": "code",
   "execution_count": 16,
   "metadata": {
    "ExecuteTime": {
     "end_time": "2019-02-24T09:10:47.632681Z",
     "start_time": "2019-02-24T09:10:47.574370Z"
    }
   },
   "outputs": [
    {
     "data": {
      "text/plain": [
       "'24022019'"
      ]
     },
     "execution_count": 16,
     "metadata": {},
     "output_type": "execute_result"
    }
   ],
   "source": [
    "#####path definitions:\n",
    "MyPath='/net/mraid08/export/genie/Lab/Personal/ShaniBAF'\n",
    "\n",
    "with open('/net/mraid08/export/genie/Lab/Personal/ShaniBAF/Sample files/BD lists/PNP530','rb') as fp:\n",
    "    PNP530=pickle.load(fp)\n",
    "with open('/net/mraid08/export/genie/Lab/Personal/ShaniBAF/Sample files/BD lists/Cardio126','rb') as fp:\n",
    "    Cardio126=pickle.load(fp)\n",
    "PNP530Cardio126=PNP530+Cardio126\n",
    "\n",
    "FIG1_DIR='/net/mraid08/export/genie/Lab/Personal/ShaniBAF/Presentations and Manuscripts/CardioTCR paper/FigureDraft_Jan19/\\\n",
    "Fig1_AgeGenderPrediction/'\n",
    "SUPP_FIG_DIR='/net/mraid08/export/genie/Lab/Personal/ShaniBAF/Presentations and Manuscripts/CardioTCR paper/FigureDraft_Jan19/\\\n",
    "supp_figs/'\n",
    "PRED_RESULTS_DIR='/net/mraid08/export/jafar/Microbiome/Analyses/ShaniBAF/predictions2/'\n",
    "FEATURES_DIR='/net/mraid08/export/genie/Lab/Personal/ShaniBAF/TCR_real_data/Predictions/featureDFs/'\n",
    "SAMPLE_LIST_DIR='/net/mraid08/export/genie/Lab/Personal/ShaniBAF/Sample files/BD lists/'\n",
    "CARDIO_PHEN_DIR='/net/mraid08/export/genie/Lab/Personal/ShaniBAF/TCR_real_data/CardioSamples/phenotypicData/'\n",
    "CLUSTER_ANALYSIS_DIR='/net/mraid08/export/jafar/Microbiome/Analyses/ShaniBAF/sharingAnalysis/seqClusters_allProd_maxdist1/'\n",
    "\n",
    "##### general definitions:\n",
    "pd.set_option('display.expand_frame_repr', False)\n",
    "pd.set_option('display.width', 1000)\n",
    "np.set_printoptions(precision=4, linewidth=200)\n",
    "\n",
    "cdate=str(time.strftime(\"%d%m%Y\"))\n",
    "cdate"
   ]
  },
  {
   "cell_type": "markdown",
   "metadata": {},
   "source": [
    "# Compare admission diagnosis:"
   ]
  },
  {
   "cell_type": "markdown",
   "metadata": {},
   "source": [
    "## get data:"
   ]
  },
  {
   "cell_type": "markdown",
   "metadata": {},
   "source": [
    "### get admission diagnosis:"
   ]
  },
  {
   "cell_type": "code",
   "execution_count": null,
   "metadata": {
    "ExecuteTime": {
     "end_time": "2019-02-18T14:04:00.060472Z",
     "start_time": "2019-02-18T14:04:00.020100Z"
    }
   },
   "outputs": [],
   "source": [
    "adm_diag=pd.read_excel(CARDIO_PHEN_DIR+'AdmissionDiagnosis.xlsx').set_index('BD')\n",
    "adm_diag.head()"
   ]
  },
  {
   "cell_type": "markdown",
   "metadata": {},
   "source": [
    "### get pred_proba from relevant prediction folder"
   ]
  },
  {
   "cell_type": "code",
   "execution_count": null,
   "metadata": {
    "ExecuteTime": {
     "end_time": "2019-02-18T14:04:00.588189Z",
     "start_time": "2019-02-18T14:04:00.551980Z"
    }
   },
   "outputs": [],
   "source": [
    "dir1='XGB_randomSearch_25_byRepFeatPCA10percVDJ0999PredictedAgeGender/'\n",
    "pred_proba=pd.read_pickle(PRED_RESULTS_DIR+'isCardio/'+dir1+'predictions_df.pkl').rename(columns={'isCardio':'pred_proba'})\n",
    "\n",
    "pred_proba.head()\n",
    "\n",
    "\n"
   ]
  },
  {
   "cell_type": "markdown",
   "metadata": {},
   "source": [
    "### get isCardio data:"
   ]
  },
  {
   "cell_type": "code",
   "execution_count": null,
   "metadata": {
    "ExecuteTime": {
     "end_time": "2019-02-18T14:04:01.216310Z",
     "start_time": "2019-02-18T14:04:00.985350Z"
    }
   },
   "outputs": [],
   "source": [
    "isCardio=pd.read_pickle(CARDIO_PHEN_DIR+'isCardio.dat')\n",
    "isCardio.head()"
   ]
  },
  {
   "cell_type": "markdown",
   "metadata": {},
   "source": [
    "### get Age and Gender real data:"
   ]
  },
  {
   "cell_type": "code",
   "execution_count": null,
   "metadata": {
    "ExecuteTime": {
     "end_time": "2019-02-18T14:04:01.805790Z",
     "start_time": "2019-02-18T14:04:01.634973Z"
    }
   },
   "outputs": [],
   "source": [
    "Age_cardio126=pd.read_excel(CARDIO_PHEN_DIR+'Age.xlsx').set_index('BD')\n",
    "Gender_cardio126=pd.read_excel(CARDIO_PHEN_DIR+'Gender_Male.xlsx').set_index('BD')\n",
    "Gender_cardio126['Gender_Male']=np.where(Gender_cardio126['Gender_Male']==1,1,np.where(Gender_cardio126['Gender_Male']==2,0,np.nan))\n",
    "Gender_cardio126.head()"
   ]
  },
  {
   "cell_type": "code",
   "execution_count": null,
   "metadata": {
    "ExecuteTime": {
     "end_time": "2019-02-18T14:04:02.290698Z",
     "start_time": "2019-02-18T14:04:02.282781Z"
    }
   },
   "outputs": [],
   "source": [
    "Gender_cardio126.sum() / Gender_cardio126.count()"
   ]
  },
  {
   "cell_type": "markdown",
   "metadata": {},
   "source": [
    "### get sample lists:"
   ]
  },
  {
   "cell_type": "code",
   "execution_count": null,
   "metadata": {
    "ExecuteTime": {
     "end_time": "2019-02-18T14:04:02.754647Z",
     "start_time": "2019-02-18T14:04:02.744452Z"
    }
   },
   "outputs": [],
   "source": [
    "with open(SAMPLE_LIST_DIR+'Cardio126_ua_diagnosis','rb') as fp:\n",
    "    UA=pickle.load(fp)\n",
    "    UAlist=UA+PNP530\n",
    "with open(SAMPLE_LIST_DIR+'Cardio126_NSTEMI_diagnosis','rb') as fp:\n",
    "    NSTEMI=pickle.load(fp)\n",
    "    NSTEMIlist=NSTEMI+PNP530\n",
    "with open(SAMPLE_LIST_DIR+'Cardio126_STEMI_diagnosis','rb') as fp:\n",
    "    STEMI=pickle.load(fp)\n",
    "    STEMIlist=STEMI+PNP530"
   ]
  },
  {
   "cell_type": "markdown",
   "metadata": {},
   "source": [
    "## plot ROC_AUC seperately for each admission diagnosis"
   ]
  },
  {
   "cell_type": "code",
   "execution_count": null,
   "metadata": {
    "ExecuteTime": {
     "end_time": "2019-02-18T14:04:06.813094Z",
     "start_time": "2019-02-18T14:04:04.522688Z"
    }
   },
   "outputs": [],
   "source": [
    "fig, axes = plt.subplots(nrows=1,ncols=3,figsize=(20,6))\n",
    "sample_list_name_list=['UA','NSTEMI','STEMI']\n",
    "sample_list_list=[UAlist,NSTEMIlist,STEMIlist]\n",
    "color_map_list=['Blues','Greens','Reds']\n",
    "\n",
    "for n in range(len(sample_list_list)):\n",
    "    ax,AUC_diff=plot_many_roc(ax=axes[n],sample_list=sample_list_list[n],color_map=color_map_list[n])\n",
    "    mean_age=Age_cardio126.loc[sample_list_list[n],:].mean()\n",
    "    perc_males=float(Gender_cardio126.loc[sample_list_list[n],:].sum()) / (Gender_cardio126.loc[sample_list_list[n],:]).count()\n",
    "    sample_list_name=sample_list_name_list[n]\n",
    "    print sample_list_name\n",
    "    ax.set_title(sample_list_name+'\\n(n=%s,Mean age=%s,perc males=%s)\\n(deltaAUC=%s)'\\\n",
    "%(len(sample_list_list[n])-530,round(mean_age,2),round(perc_males,2),AUC_diff),fontsize=14,fontweight='bold')\n",
    "fig.savefig(SUPP_FIG_DIR+'ROC for different admission diagnosis.png',bbox_inches='tight')\n",
    "plt.show()"
   ]
  },
  {
   "cell_type": "markdown",
   "metadata": {},
   "source": [
    "the function plot_many_roc was copied to ShaniBA.CardioProject.CardioFunctions.Figures.GeneralFigureFunctions"
   ]
  },
  {
   "cell_type": "markdown",
   "metadata": {},
   "source": [
    "## compare pred_proba distributions among admission diagnosis"
   ]
  },
  {
   "cell_type": "code",
   "execution_count": null,
   "metadata": {
    "ExecuteTime": {
     "end_time": "2019-02-05T15:07:05.946532Z",
     "start_time": "2019-02-05T15:07:05.938315Z"
    }
   },
   "outputs": [],
   "source": [
    "pred_proba.loc[UA,'pred_proba'].astype('float').tolist()"
   ]
  },
  {
   "cell_type": "code",
   "execution_count": null,
   "metadata": {
    "ExecuteTime": {
     "end_time": "2019-02-05T15:07:14.025636Z",
     "start_time": "2019-02-05T15:07:14.014704Z"
    }
   },
   "outputs": [],
   "source": [
    "pred_proba.loc[STEMI,'pred_proba'].astype('float').tolist()"
   ]
  },
  {
   "cell_type": "code",
   "execution_count": null,
   "metadata": {
    "ExecuteTime": {
     "end_time": "2019-02-05T15:07:14.025636Z",
     "start_time": "2019-02-05T15:07:14.014704Z"
    }
   },
   "outputs": [],
   "source": [
    "data=pred_proba.loc[NSTEMI,'pred_proba'].astype('float').tolist()\n",
    "mean1=round(np.mean(data),4)\n",
    "mean1"
   ]
  },
  {
   "cell_type": "code",
   "execution_count": null,
   "metadata": {
    "ExecuteTime": {
     "end_time": "2019-02-05T15:07:22.570862Z",
     "start_time": "2019-02-05T15:07:22.120684Z"
    }
   },
   "outputs": [],
   "source": [
    "dataList=[('UA',pred_proba.loc[UA,'pred_proba'].astype('float').tolist()),\n",
    "          ('NSTEMI',pred_proba.loc[NSTEMI,'pred_proba'].astype('float').tolist()),\n",
    "          ('STEMI',pred_proba.loc[STEMI,'pred_proba'].astype('float').tolist())]\n",
    "\n",
    "fig,ax=plt.subplots()\n",
    "title=''\n",
    "cmap=plt.get_cmap('Blues', 6)\n",
    "colorList=[cmap(1),cmap(3),cmap(5)]\n",
    "\n",
    "ax,ks_p_cohort1_cohort2,t_p_cohort1_cohort2,p_Anov,filename=plotHistComprison(dataList,ax,title,showLegend=True,nBins=20,toAnnotate=True,\n",
    "                      colorList=colorList,alpha=None,\n",
    "                      text_kws={'fontsize':'medium','fontweight':'bold','color':'black',\n",
    "                                'horizontalalignment':'left','verticalalignment':'top'},plotType='kde')\n",
    "handles, labels = ax.get_legend_handles_labels()\n",
    "ax.legend(handles, labels,loc='2',fontsize='large')\n",
    "\n",
    "\n",
    "fig.savefig(SUPP_FIG_DIR+'pred proba distribution for different admission diagnosis.png')\n",
    "plt.show()"
   ]
  },
  {
   "cell_type": "markdown",
   "metadata": {},
   "source": [
    "# compare timeToBlood"
   ]
  },
  {
   "cell_type": "markdown",
   "metadata": {},
   "source": [
    "## get data:"
   ]
  },
  {
   "cell_type": "markdown",
   "metadata": {},
   "source": [
    "### get timeToBlood:"
   ]
  },
  {
   "cell_type": "code",
   "execution_count": null,
   "metadata": {
    "ExecuteTime": {
     "end_time": "2019-02-06T11:35:38.371381Z",
     "start_time": "2019-02-06T11:35:38.338480Z"
    }
   },
   "outputs": [],
   "source": [
    "time2Blood=pd.read_excel(CARDIO_PHEN_DIR+'TimeToBlood2_Final.xlsx').set_index('BD')\n",
    "time2Blood.head()"
   ]
  },
  {
   "cell_type": "markdown",
   "metadata": {},
   "source": [
    "### get timeToBlood _ cat:"
   ]
  },
  {
   "cell_type": "code",
   "execution_count": null,
   "metadata": {
    "ExecuteTime": {
     "end_time": "2019-02-06T11:35:44.446066Z",
     "start_time": "2019-02-06T11:35:44.411145Z"
    }
   },
   "outputs": [],
   "source": [
    "time2Blood_cat=pd.read_excel(CARDIO_PHEN_DIR+'TimeToBlood2_cat.xlsx').set_index('BD')\n",
    "time2Blood_cat.head()\n",
    "\n",
    "\n"
   ]
  },
  {
   "cell_type": "markdown",
   "metadata": {},
   "source": [
    "### generate sample lists for timeToBlood:"
   ]
  },
  {
   "cell_type": "code",
   "execution_count": null,
   "metadata": {
    "ExecuteTime": {
     "end_time": "2019-02-06T11:35:50.375049Z",
     "start_time": "2019-02-06T11:35:50.352714Z"
    }
   },
   "outputs": [],
   "source": [
    "for n in time2Blood_cat['timeToBlood_cat'].dropna().unique().tolist():\n",
    "    l=time2Blood_cat[time2Blood_cat['timeToBlood_cat']==n].index.tolist()\n",
    "    print n\n",
    "    print l\n",
    "    with open(SAMPLE_LIST_DIR+'timeToBlood%s' %n,'wb') as fp:\n",
    "        pickle.dump(l,fp)"
   ]
  },
  {
   "cell_type": "code",
   "execution_count": null,
   "metadata": {
    "ExecuteTime": {
     "end_time": "2019-02-06T11:35:56.199839Z",
     "start_time": "2019-02-06T11:35:56.173142Z"
    }
   },
   "outputs": [],
   "source": [
    "l_0_23=time2Blood_cat[(time2Blood_cat['timeToBlood_cat']=='0_7') | (time2Blood_cat['timeToBlood_cat']=='8_23')].index.tolist()\n",
    "print l_0_23\n",
    "with open(SAMPLE_LIST_DIR+'timeToBlood0_23','wb') as fp:\n",
    "        pickle.dump(l_0_23,fp)\n",
    "        \n",
    "        \n",
    "l_24_71=time2Blood_cat[(time2Blood_cat['timeToBlood_cat']=='24_47') | (time2Blood_cat['timeToBlood_cat']=='48_71')].index.tolist()\n",
    "print l_24_71\n",
    "with open(SAMPLE_LIST_DIR+'timeToBlood24_71','wb') as fp:\n",
    "        pickle.dump(l_24_71,fp)\n",
    "        \n",
    "l_48_=time2Blood_cat[(time2Blood_cat['timeToBlood_cat']=='72+') | (time2Blood_cat['timeToBlood_cat']=='48_71')].index.tolist()\n",
    "print l_48_\n",
    "with open(SAMPLE_LIST_DIR+'timeToBlood48+','wb') as fp:\n",
    "        pickle.dump(l_48_,fp)\n"
   ]
  },
  {
   "cell_type": "markdown",
   "metadata": {},
   "source": [
    "### get sample lists:"
   ]
  },
  {
   "cell_type": "code",
   "execution_count": null,
   "metadata": {
    "ExecuteTime": {
     "end_time": "2019-02-06T11:36:02.310912Z",
     "start_time": "2019-02-06T11:36:02.286162Z"
    }
   },
   "outputs": [],
   "source": [
    "with open(SAMPLE_LIST_DIR+'timeToBlood0_23','rb') as fp:\n",
    "    t0_23=pickle.load(fp)\n",
    "    t0_23_PNP=t0_23+PNP530\n",
    "with open(SAMPLE_LIST_DIR+'timeToBlood24_47','rb') as fp:\n",
    "    t24_47=pickle.load(fp)\n",
    "    t24_47_PNP=t24_47+PNP530\n",
    "with open(SAMPLE_LIST_DIR+'timeToBlood48_71','rb') as fp:\n",
    "    t48_71=pickle.load(fp)\n",
    "    t48_71_PNP=t48_71+PNP530\n",
    "with open(SAMPLE_LIST_DIR+'timeToBlood72+','rb') as fp:\n",
    "    t72_=pickle.load(fp)\n",
    "    t72_PNP=t72_+PNP530\n",
    "with open(SAMPLE_LIST_DIR+'timeToBlood0_7','rb') as fp:\n",
    "    t0_7=pickle.load(fp)\n",
    "    t0_7_PNP=t0_7+PNP530\n",
    "with open(SAMPLE_LIST_DIR+'timeToBlood8_23','rb') as fp:\n",
    "    t8_23=pickle.load(fp)\n",
    "    t8_23_PNP=t8_23+PNP530\n",
    "with open(SAMPLE_LIST_DIR+'timeToBlood24_71','rb') as fp:\n",
    "    t24_71=pickle.load(fp)\n",
    "    t24_71_PNP=t24_71+PNP530\n",
    "with open(SAMPLE_LIST_DIR+'timeToBlood48+','rb') as fp:\n",
    "    t48_=pickle.load(fp)\n",
    "    t48_PNP=t48_+PNP530"
   ]
  },
  {
   "cell_type": "markdown",
   "metadata": {},
   "source": [
    "## plot ROC_AUC seperately for each admission diagnosis"
   ]
  },
  {
   "cell_type": "code",
   "execution_count": null,
   "metadata": {
    "ExecuteTime": {
     "end_time": "2019-02-06T11:36:08.074123Z",
     "start_time": "2019-02-06T11:36:08.066690Z"
    }
   },
   "outputs": [],
   "source": [
    "t0_23"
   ]
  },
  {
   "cell_type": "code",
   "execution_count": null,
   "metadata": {
    "ExecuteTime": {
     "end_time": "2019-02-06T11:36:13.968038Z",
     "start_time": "2019-02-06T11:36:13.935922Z"
    }
   },
   "outputs": [],
   "source": [
    "def plot_many_roc(ax,sample_list,color_map):\n",
    "    Y_file='/net/mraid08/export/jafar/Microbiome/Analyses/ShaniBAF/predictions2/TargetDFs/isCardio.dat'\n",
    "    Y=pd.read_pickle(Y_file).loc[sample_list,:]\n",
    "    # print Y.head()\n",
    "\n",
    "    #plot best prediction:\n",
    "    d1='/net/mraid08/export/jafar/Microbiome/Analyses/ShaniBAF/predictions2/isCardio/'\n",
    "    dirs_list=['XGB_randomSearch_25_byPredictedGender/', 'XGB_randomSearch_25_byPredictedAge/',\n",
    "               'XGB_randomSearch_25_byPredictedAgeGender/','XGB_randomSearch_25_byRepFeatPCA10percVDJ0999PredictedAgeGender/']\n",
    "    cmap=plt.get_cmap(color_map, 5)\n",
    "    color_list=[cmap(1),cmap(2),cmap(3),cmap(4)]\n",
    "    # print colorlist\n",
    "    dataset_name_list=['Pred. Gender','Pred. Age','Pred. Age+Gender','TCR features + Pred. Age+Gender']\n",
    "    for n in range(4):\n",
    "        d=dirs_list[n]\n",
    "        color=color_list[n]\n",
    "    #     print (\"color=\",color)\n",
    "\n",
    "        pred=pd.read_pickle(d1+d+'predictions_df.pkl')\n",
    "    #     print pred.head()\n",
    "        y_true=Y.isCardio\n",
    "        y_pred=pred.isCardio.loc[sample_list]\n",
    "        pos_label=1\n",
    "        dataset_name=dataset_name_list[n]\n",
    "\n",
    "        ax, roc_auc=plot_roc_curve(ax,y_true,y_pred,pos_label,dataset_name=dataset_name,color=color)\n",
    "        if n==2: auc_AgeGender=roc_auc\n",
    "        elif n==3: auc_TCR=roc_auc\n",
    "    AUC_diff=round(auc_TCR-auc_AgeGender,3)\n",
    "    handles, labels = ax.get_legend_handles_labels()\n",
    "    labels=[l.replace('area = ','') for l in labels]\n",
    "    ax.legend(handles, labels,loc='3',fontsize='small')\n",
    "    # ax.legend(loc='best',bbox_to_anchor=(1.05, 1))\n",
    "\n",
    "    return ax,AUC_diff"
   ]
  },
  {
   "cell_type": "code",
   "execution_count": null,
   "metadata": {
    "ExecuteTime": {
     "end_time": "2019-02-06T11:36:21.683908Z",
     "start_time": "2019-02-06T11:36:19.877061Z"
    }
   },
   "outputs": [],
   "source": [
    "fig, axes = plt.subplots(nrows=1,ncols=3,figsize=(20,6))\n",
    "sample_list_name_list=['0_23','24_47','48+']\n",
    "sample_list_list=[t0_23_PNP,t24_47_PNP,t48_PNP]\n",
    "color_map_list=['Blues','Greens','Reds']\n",
    "\n",
    "for n in range(len(sample_list_list)):\n",
    "    print sample_list_name_list[n]\n",
    "    print sample_list_list[n][:10]\n",
    "    ax,AUC_diff=plot_many_roc(ax=axes[n],sample_list=sample_list_list[n],color_map=color_map_list[n])\n",
    "    mean_age=Age_cardio126.loc[sample_list_list[n],:].mean()\n",
    "    perc_males=float(Gender_cardio126.loc[sample_list_list[n],:].sum()) / (Gender_cardio126.loc[sample_list_list[n],:]).count()\n",
    "    sample_list_name=sample_list_name_list[n]\n",
    "    print sample_list_name\n",
    "    ax.set_title(sample_list_name+'\\n(n=%s,Mean age=%s,perc males=%s)\\n(deltaAUC=%s)'\\\n",
    "%(len(sample_list_list[n])-530,round(mean_age,2),round(perc_males,2),AUC_diff),fontsize=14,fontweight='bold')\n",
    "\n",
    "fig.savefig(SUPP_FIG_DIR+'ROC for different time2blood groups 1.png',bbox_inches='tight')\n",
    "plt.show()"
   ]
  },
  {
   "cell_type": "code",
   "execution_count": null,
   "metadata": {
    "ExecuteTime": {
     "end_time": "2019-02-06T11:36:42.005861Z",
     "start_time": "2019-02-06T11:36:40.349221Z"
    }
   },
   "outputs": [],
   "source": [
    "fig, axes = plt.subplots(nrows=1,ncols=3,figsize=(20,6))\n",
    "sample_list_name_list=['0_23','24_71','72+']\n",
    "sample_list_list=[t0_23_PNP,t24_71_PNP,t72_PNP]\n",
    "color_map_list=['Blues','Greens','Reds']\n",
    "\n",
    "for n in range(len(sample_list_list)):\n",
    "    print sample_list_name_list[n]\n",
    "    print sample_list_list[n][:10]\n",
    "    ax,AUC_diff=plot_many_roc(ax=axes[n],sample_list=sample_list_list[n],color_map=color_map_list[n])\n",
    "    mean_age=Age_cardio126.loc[sample_list_list[n],:].mean()\n",
    "    perc_males=float(Gender_cardio126.loc[sample_list_list[n],:].sum()) / (Gender_cardio126.loc[sample_list_list[n],:]).count()\n",
    "    sample_list_name=sample_list_name_list[n]\n",
    "    print sample_list_name\n",
    "    ax.set_title(sample_list_name+'\\n(n=%s,Mean age=%s,perc males=%s)\\n(deltaAUC=%s)'\\\n",
    "%(len(sample_list_list[n])-530,round(mean_age,2),round(perc_males,2),AUC_diff),fontsize=14,fontweight='bold')\n",
    "\n",
    "fig.savefig(SUPP_FIG_DIR+'ROC for different time2blood groups 2.png',bbox_inches='tight')\n",
    "plt.show()"
   ]
  },
  {
   "cell_type": "code",
   "execution_count": null,
   "metadata": {
    "ExecuteTime": {
     "end_time": "2019-02-06T11:36:50.673872Z",
     "start_time": "2019-02-06T11:36:48.327856Z"
    }
   },
   "outputs": [],
   "source": [
    "fig, axes = plt.subplots(nrows=1,ncols=4,figsize=(24,6))\n",
    "sample_list_name_list=['0_23','24_47','48_71','72+']\n",
    "sample_list_list=[t0_23_PNP,t24_47_PNP,t48_71_PNP,t72_PNP]\n",
    "color_map_list=['Blues','Greens','Reds','Greys']\n",
    "\n",
    "for n in range(len(sample_list_list)):\n",
    "    print sample_list_name_list[n]\n",
    "    print sample_list_list[n][:10]\n",
    "    ax,AUC_diff=plot_many_roc(ax=axes[n],sample_list=sample_list_list[n],color_map=color_map_list[n])\n",
    "    mean_age=Age_cardio126.loc[sample_list_list[n],:].mean()\n",
    "    perc_males=float(Gender_cardio126.loc[sample_list_list[n],:].sum()) / (Gender_cardio126.loc[sample_list_list[n],:]).count()\n",
    "    sample_list_name=sample_list_name_list[n]\n",
    "    print sample_list_name\n",
    "    ax.set_title(sample_list_name+'\\n(n=%s,Mean age=%s,perc males=%s)\\n(deltaAUC=%s)'\\\n",
    "%(len(sample_list_list[n])-530,round(mean_age,2),round(perc_males,2),AUC_diff),fontsize=14,fontweight='bold')\n",
    "\n",
    "fig.savefig(SUPP_FIG_DIR+'ROC for different time2blood groups 3.png',bbox_inches='tight')\n",
    "plt.show()"
   ]
  },
  {
   "cell_type": "code",
   "execution_count": null,
   "metadata": {
    "ExecuteTime": {
     "end_time": "2019-02-06T11:36:59.812447Z",
     "start_time": "2019-02-06T11:36:56.543781Z"
    }
   },
   "outputs": [],
   "source": [
    "fig, axes = plt.subplots(nrows=1,ncols=5,figsize=(28,6))\n",
    "sample_list_name_list=['0_7','8_23','24_47','48_71','72+']\n",
    "sample_list_list=[t0_7_PNP,t8_23_PNP,t24_47_PNP,t48_71_PNP,t72_PNP]\n",
    "color_map_list=['Blues','Purples','Greens','Reds','Greys']\n",
    "\n",
    "for n in range(len(sample_list_list)):\n",
    "    print sample_list_name_list[n]\n",
    "    print sample_list_list[n][:10]\n",
    "    ax,AUC_diff=plot_many_roc(ax=axes[n],sample_list=sample_list_list[n],color_map=color_map_list[n])\n",
    "    mean_age=Age_cardio126.loc[sample_list_list[n],:].mean()\n",
    "    perc_males=float(Gender_cardio126.loc[sample_list_list[n],:].sum()) / (Gender_cardio126.loc[sample_list_list[n],:]).count()\n",
    "    sample_list_name=sample_list_name_list[n]\n",
    "    print sample_list_name\n",
    "    ax.set_title(sample_list_name+'\\n(Mean age=%s,perc males=%s)\\n(deltaAUC=%s)'\\\n",
    "%(round(mean_age,2),round(perc_males,2),AUC_diff),fontsize=14,fontweight='bold')\n",
    "fig.savefig(SUPP_FIG_DIR+'ROC for different time2blood groups 4.png',bbox_inches='tight')\n",
    "plt.show()"
   ]
  },
  {
   "cell_type": "markdown",
   "metadata": {},
   "source": [
    "## compare pred_proba distributions among admission diagnosis"
   ]
  },
  {
   "cell_type": "code",
   "execution_count": null,
   "metadata": {
    "ExecuteTime": {
     "end_time": "2019-02-06T11:37:06.577564Z",
     "start_time": "2019-02-06T11:37:06.014482Z"
    }
   },
   "outputs": [],
   "source": [
    "dataList=[('t0_23',pred_proba.loc[t0_23,'pred_proba'].astype('float').tolist()),\n",
    "          ('t24_47',pred_proba.loc[t24_47,'pred_proba'].astype('float').tolist()),\n",
    "          ('t48_71',pred_proba.loc[t48_71,'pred_proba'].astype('float').tolist()),\n",
    "         ('t72+',pred_proba.loc[t72_,'pred_proba'].astype('float').tolist()),\n",
    "         ]\n",
    "\n",
    "fig,ax=plt.subplots()\n",
    "title=''\n",
    "cmap=plt.get_cmap('Blues', 7)\n",
    "colorList=[cmap(1),cmap(3),cmap(5),cmap(7)]\n",
    "\n",
    "ax,ks_p_cohort1_cohort2,t_p_cohort1_cohort2,p_Anov,filename=plotHistComprison(dataList,ax,title,showLegend=True,nBins=20,toAnnotate=True,\n",
    "                      colorList=colorList,alpha=None,\n",
    "                      text_kws={'fontsize':'medium','fontweight':'bold','color':'black',\n",
    "                                'horizontalalignment':'left','verticalalignment':'top'},plotType='kde')\n",
    "handles, labels = ax.get_legend_handles_labels()\n",
    "ax.legend(handles, labels,loc='2',fontsize='large')\n",
    "\n",
    "\n",
    "fig.savefig(SUPP_FIG_DIR+'pred proba distribution for time post.png',bbox_inches='tight')\n",
    "plt.show()"
   ]
  },
  {
   "cell_type": "markdown",
   "metadata": {},
   "source": [
    "## Plot correlation between pred_proba and time2Blood:"
   ]
  },
  {
   "cell_type": "code",
   "execution_count": null,
   "metadata": {
    "ExecuteTime": {
     "end_time": "2019-02-06T11:37:12.966597Z",
     "start_time": "2019-02-06T11:37:12.594319Z"
    }
   },
   "outputs": [],
   "source": [
    "merged=pd.merge(pred_proba,time2Blood,how='inner',left_index=True,right_index=True)\n",
    "data2=merged['pred_proba'].tolist()\n",
    "data1=merged['timeToBlood(h)_corr'].tolist()\n",
    "data2name='Prediction Probability'\n",
    "data1name='Time to Blood Sampling (h)'\n",
    "\n",
    "fig,ax=plt.subplots()\n",
    "ax.set_xlim(0,150)\n",
    "ax.set_ylim(0,1)\n",
    "# ax.margins(0.8)\n",
    "ax, nsamples,r,p,text=plot_corr(data1,data2,data1name,data2name,ax,title=None,corrType='pearson',\n",
    "              toAnnotate=True,plotTrendLine=True,scatter_kws={'alpha':0.4,'s':100}, text_kws={'fontsize':'x-large'})\n",
    "\n",
    "fig.savefig(SUPP_FIG_DIR+'pred proba correlation with time2blood.png',bbox_inches='tight')\n",
    "plt.show()"
   ]
  },
  {
   "cell_type": "markdown",
   "metadata": {},
   "source": [
    "# calculate correlations between pred_proba and other parameters in patients:"
   ]
  },
  {
   "cell_type": "markdown",
   "metadata": {},
   "source": [
    "## Plot correlation between pred_proba and Age:"
   ]
  },
  {
   "cell_type": "code",
   "execution_count": null,
   "metadata": {
    "ExecuteTime": {
     "end_time": "2019-02-06T11:37:19.156558Z",
     "start_time": "2019-02-06T11:37:18.937601Z"
    }
   },
   "outputs": [],
   "source": [
    "merged=pd.merge(pred_proba,Age_cardio126,how='inner',left_index=True,right_index=True)\n",
    "data1=merged['pred_proba'].tolist()\n",
    "data2=merged['Age'].tolist()\n",
    "data1name='Prediction Probability'\n",
    "data2name='Age'\n",
    "\n",
    "fig,ax=plt.subplots()\n",
    "\n",
    "ax, nsamples,r,p,text=plot_corr(data1,data2,data1name,data2name,ax,title=None,corrType='pearson',\n",
    "              toAnnotate=True,plotTrendLine=True,scatter_kws={'alpha':0.4,'s':100}, text_kws={'fontsize':'x-large'})\n",
    "plt.show()"
   ]
  },
  {
   "cell_type": "markdown",
   "metadata": {},
   "source": [
    "## Plot correlation between pred_proba and Age, and color for PCI_binary:"
   ]
  },
  {
   "cell_type": "code",
   "execution_count": null,
   "metadata": {
    "ExecuteTime": {
     "end_time": "2019-02-06T11:37:25.362023Z",
     "start_time": "2019-02-06T11:37:24.965233Z"
    }
   },
   "outputs": [],
   "source": [
    "PCI_binary=pd.read_excel(CARDIO_PHEN_DIR+'PCI_binary.xlsx').set_index('BD')\n",
    "\n",
    "\n",
    "merged=pd.merge(pred_proba.dropna(),Age_cardio126.dropna(),how='inner',left_index=True,right_index=True)\n",
    "merged=pd.merge(merged,PCI_binary.dropna(),how='inner',left_index=True,right_index=True)\n",
    "# data1=merged['pred_proba'].astype('float')\n",
    "# data2=merged['Age'].astype('float')\n",
    "# color=merged['PCI_binary'].astype('float')\n",
    "merged=merged.astype('float')\n",
    "# print color\n",
    "cmap=plt.get_cmap('seismic', 2)\n",
    "# cmap=cm.seismic\n",
    "# colorList=[cmap(1),cmap(3),cmap(5)]\n",
    "data1name='Prediction Probability'\n",
    "data2name='Age'\n",
    "\n",
    "fig,ax=plt.subplots()\n",
    "merged.plot(kind='scatter',ax=ax,x='Age',y='pred_proba',c='PCI_binary',cmap=cmap,alpha=0.6,s=100)\n",
    "\n",
    "# ax, nsamples,r,p,text=plot_corr(data1,data2,data1name,data2name,ax,title=None,corrType='pearson',\n",
    "#               toAnnotate=True,plotTrendLine=True,scatter_kws={'alpha':0.4,'s':100,'c':color,'cmap':cmap}, text_kws={'fontsize':'x-large'})\n",
    "plt.show()"
   ]
  },
  {
   "cell_type": "markdown",
   "metadata": {},
   "source": [
    "## calculate correlation between pred_proba and disease phenotypes:"
   ]
  },
  {
   "cell_type": "code",
   "execution_count": null,
   "metadata": {
    "ExecuteTime": {
     "end_time": "2019-02-06T11:37:31.744931Z",
     "start_time": "2019-02-06T11:37:31.219697Z"
    }
   },
   "outputs": [],
   "source": [
    "phen_files=['PCI_LVEF_CVA_CABG','Cardio126phenAllInfo_Nov18_cont','Cardio126phenAllInfo_Nov18_binary','total_ostial_cont']\n",
    "\n",
    "df_list=[]\n",
    "for f in phen_files:\n",
    "    df=pd.read_excel('/net/mraid08/export/genie/Lab/Personal/ShaniBAF/TCR_real_data/\\\n",
    "CardioSamples/phenotypicData/%s.xlsx' %f).set_index('BD').T\n",
    "    \n",
    "    df_list.append(df)\n",
    "    \n",
    "all_cardio_phenotypes=pd.concat(df_list)\n",
    "all_cardio_phenotypes=all_cardio_phenotypes.T\n",
    "print all_cardio_phenotypes.shape\n",
    "all_cardio_phenotypes=all_cardio_phenotypes.fillna(0).astype(float)\n",
    "all_cardio_phenotypes.head()"
   ]
  },
  {
   "cell_type": "code",
   "execution_count": null,
   "metadata": {
    "ExecuteTime": {
     "end_time": "2019-02-06T11:37:37.611793Z",
     "start_time": "2019-02-06T11:37:35.973658Z"
    }
   },
   "outputs": [],
   "source": [
    "cols=all_cardio_phenotypes.columns.tolist()\n",
    "print ('number of columns: ',len(cols))\n",
    "\n",
    "df_list=[]\n",
    "\n",
    "for i in range(len(cols)):\n",
    "    if i%20==0: print i\n",
    "    \n",
    "    if all_cardio_phenotypes[cols[i]].dropna().nunique()==2:\n",
    "        merged=pd.merge(pd.DataFrame(all_cardio_phenotypes[cols[i]].loc[Cardio126]),pd.DataFrame(pred_proba['pred_proba'].loc[Cardio126]),\n",
    "                        how='inner',left_index=True,right_index=True)\n",
    "        groups = merged.groupby(cols[i])['pred_proba']\n",
    "        data = {}\n",
    "               \n",
    "        try:\n",
    "            for name, group in groups:\n",
    "                data[name] = group.tolist()\n",
    "            data0 = data[0]\n",
    "            data1 = data[1]\n",
    "            MW_s, p = mannwhitneyu(data0, data1)\n",
    "        except:\n",
    "            print 'couldnt execute for phenotype ' + cols[i]\n",
    "            MW_s=np.nan; p=np.nan\n",
    "        r=np.nan\n",
    "        \n",
    "    else:\n",
    "        x=all_cardio_phenotypes[cols[i]].loc[Cardio126]\n",
    "    #     print len(x)\n",
    "        y=pred_proba['pred_proba'].loc[Cardio126]\n",
    "    #     print len(y)\n",
    "        try:\n",
    "            r,p=MyPearsonr(x,y)\n",
    "        except:\n",
    "            print 'couldnt execute for phenotype ' + cols[i]\n",
    "            r=np.nan; p=np.nan\n",
    "        MW_s=np.nan\n",
    "    \n",
    "    \n",
    "    \n",
    "    \n",
    "    df=pd.DataFrame()\n",
    "    df.loc[0,'phen1']=cols[i]\n",
    "    df.loc[0,'phen2']='pred_proba'\n",
    "    df.loc[0,'size']=len(x)\n",
    "    df.loc[0,'pearson_r']=r\n",
    "    df.loc[0,'MW_s']=MW_s\n",
    "    df.loc[0,'p']=p\n",
    "\n",
    "    df_list.append(df)\n",
    "        \n",
    "sum_df=pd.concat(df_list)\n",
    "sum_df=sum_df.sort_values(by='p')\n",
    "nTests=len(sum_df)\n",
    "FDR=0.1\n",
    "sum_df=add_corrected_pValues(sum_df,pValueColumn='p' ,nTests=nTests,FDR=FDR)\n"
   ]
  },
  {
   "cell_type": "code",
   "execution_count": null,
   "metadata": {
    "ExecuteTime": {
     "end_time": "2019-02-06T11:37:43.565521Z",
     "start_time": "2019-02-06T11:37:43.477059Z"
    }
   },
   "outputs": [],
   "source": [
    "sum_df.to_excel(CARDIO_PHEN_DIR+'pred_proba_phens_correlations.xlsx')\n",
    "sum_df.head(10)"
   ]
  },
  {
   "cell_type": "markdown",
   "metadata": {},
   "source": [
    "# Plot correlation between pred_proba and Age in all samples, and color for isCardio:"
   ]
  },
  {
   "cell_type": "code",
   "execution_count": null,
   "metadata": {
    "ExecuteTime": {
     "end_time": "2019-02-12T12:20:09.473569Z",
     "start_time": "2019-02-12T12:20:09.081161Z"
    },
    "scrolled": true
   },
   "outputs": [],
   "source": [
    "from matplotlib.colors import ListedColormap, LinearSegmentedColormap\n",
    "\n",
    "#get isCardio data:\n",
    "isCardio=pd.read_pickle('/net/mraid08/export/jafar/Microbiome/Analyses/ShaniBAF/predictions2/TargetDFs/isCardio.dat')\n",
    "\n",
    "#get age data:\n",
    "Age=pd.read_excel('%s/TCR_real_data/PNP530Cardio126Combined/Phenotypes/\\\n",
    "PNP530Cardio126_Age.xlsx' %MyPath).set_index('BD')\n",
    "# print Age.shape\n",
    "# print Age.head()\n",
    "\n",
    "#get pred_proba data:\n",
    "dir1='XGB_randomSearch_25_byRepFeatPCA10percVDJ0999PredictedAgeGender/'\n",
    "pred_proba=pd.read_pickle(PRED_RESULTS_DIR+'isCardio/'+dir1+'predictions_df.pkl').rename(columns={'isCardio':'pred_proba'})\n",
    "# print pred_proba.shape\n",
    "# print pred_proba.head()\n",
    "\n",
    "merged=pd.merge(pred_proba.dropna(),Age.dropna(),how='inner',left_index=True,right_index=True)\n",
    "merged=pd.merge(merged,isCardio.dropna(),how='inner',left_index=True,right_index=True)\n",
    "# print merged.shape\n",
    "# print merged.head()\n",
    "\n",
    "merged=merged.astype('float')\n",
    "PNP=merged[merged['isCardio']==0]\n",
    "Cardio=merged[merged['isCardio']==1]\n",
    "\n",
    "\n",
    "#plot scatter:\n",
    "# cmap=plt.get_cmap('seismic', 2)\n",
    "# cmap=plt.get_cmap('blue','red')\n",
    "# colorlist=merged['isCardio'].tolist()\n",
    "# newcmp = ListedColormap(['blue','red'], name='bluered')\n",
    "# data1name='Prediction Probability'\n",
    "# data2name='Age'\n",
    "fig,ax=plt.subplots()\n",
    "\n",
    "PNP.plot(kind='scatter',ax=ax,x='Age',y='pred_proba',c='navy',alpha=0.6,s=100,label='Healthy')\n",
    "ax.plot(np.unique(PNP['Age']), np.poly1d(np.polyfit(PNP['Age'], PNP['pred_proba'], 1))(np.unique(PNP['Age'])),c='navy',\n",
    "        linewidth=3)\n",
    "Cardio.plot(kind='scatter',ax=ax,x='Age',y='pred_proba',c='darkred',alpha=0.6,s=100,label='Patients')\n",
    "ax.plot(np.unique(Cardio['Age']), np.poly1d(np.polyfit(Cardio['Age'], Cardio['pred_proba'], 1))(np.unique(Cardio['Age'])),\n",
    "        c='darkred', linewidth=3)\n",
    "\n",
    "ax.set_xlim(18,80)\n",
    "ax.set_ylim(0,1)\n",
    "\n",
    "#calculate correlations:\n",
    "\n",
    "#age-pred_proba in healthy:\n",
    "\n",
    "r_PNP,p_PNP=MyPearsonr(PNP['Age'],PNP['pred_proba'])\n",
    "r_Cardio,p_Cardio=MyPearsonr(Cardio['Age'],Cardio['pred_proba'])\n",
    "\n",
    "handles, labels = ax.get_legend_handles_labels()\n",
    "labels=['Healthy,r=%s (p=%s)' %(round(r_PNP,2),round(p_PNP,2)),\n",
    "        'Patients,r=%s (p=%s)' %(round(r_Cardio,2),round(p_Cardio,2))]\n",
    "ax.legend(handles,labels,loc='upper right',bbox_to_anchor=(0.4,0.98))\n",
    "# print handles\n",
    "# print labels\n",
    "# ax.legend(labels, bbox_to_anchor=(-0.2,0.95))\n",
    "\n",
    "\n",
    "# ax.text(0.01,0.97,'Healthytransform=ax.transAxes,ha='left',va='top')\n",
    "\n",
    "plt.show()"
   ]
  },
  {
   "cell_type": "markdown",
   "metadata": {},
   "source": [
    "# add isCardio predictions - real age, real gender, shuffled TCR+predAgeGender"
   ]
  },
  {
   "cell_type": "markdown",
   "metadata": {},
   "source": [
    "## get data"
   ]
  },
  {
   "cell_type": "markdown",
   "metadata": {},
   "source": [
    "### get real age and save in features"
   ]
  },
  {
   "cell_type": "code",
   "execution_count": null,
   "metadata": {
    "ExecuteTime": {
     "end_time": "2019-02-05T16:39:28.095848Z",
     "start_time": "2019-02-05T16:39:27.419486Z"
    }
   },
   "outputs": [],
   "source": [
    "phenDF=pd.read_excel('%s/TCR_real_data/PNP530Cardio126Combined/Phenotypes/\\\n",
    "PNP530Cardio126_AllInfo_withDummies.xlsx' %MyPath).set_index('BD')\n",
    "phenDF.head()"
   ]
  },
  {
   "cell_type": "code",
   "execution_count": null,
   "metadata": {
    "ExecuteTime": {
     "end_time": "2019-02-05T17:08:44.263105Z",
     "start_time": "2019-02-05T17:08:44.104000Z"
    }
   },
   "outputs": [],
   "source": [
    "Age=pd.DataFrame(phenDF['Age'].loc[PNP530+Cardio126])\n",
    "print Age.count()\n",
    "print Age.shape\n",
    "\n",
    "Age.to_excel('%s/TCR_real_data/PNP530Cardio126Combined/Phenotypes/\\\n",
    "PNP530Cardio126_Age.xlsx' %MyPath)\n",
    "\n",
    "Age.to_pickle(FEATURES_DIR+'PNP530Cardio126_Age.dat')"
   ]
  },
  {
   "cell_type": "code",
   "execution_count": null,
   "metadata": {
    "ExecuteTime": {
     "end_time": "2019-02-05T17:14:42.818157Z",
     "start_time": "2019-02-05T17:14:42.337650Z"
    }
   },
   "outputs": [],
   "source": [
    "Gender=pd.DataFrame(phenDF['Gender_Male'].loc[PNP530+Cardio126])\n",
    "print Gender.count()\n",
    "print Gender.shape\n",
    "print Gender.head()\n",
    "# print Gender.value_counts()\n",
    "\n",
    "Gender.to_excel('%s/TCR_real_data/PNP530Cardio126Combined/Phenotypes/\\\n",
    "PNP530Cardio126_Gender_Male.xlsx' %MyPath)\n",
    "\n",
    "Gender.to_pickle(FEATURES_DIR+'PNP530Cardio126_Gender_Male.dat')"
   ]
  },
  {
   "cell_type": "markdown",
   "metadata": {},
   "source": [
    "### get Xold"
   ]
  },
  {
   "cell_type": "code",
   "execution_count": null,
   "metadata": {
    "ExecuteTime": {
     "end_time": "2019-02-05T16:57:36.355704Z",
     "start_time": "2019-02-05T16:57:36.256132Z"
    }
   },
   "outputs": [],
   "source": [
    "Xold=pd.read_pickle(FEATURES_DIR+'X_withPredictedAgeGender.dat')\n",
    "Xold=Xold.drop(['Age','Gender_Male'],axis=1)\n",
    "\n",
    "print Xold.shape\n",
    "print Xold.sort_index().iloc[:4,:4]\n",
    "\n",
    "print Xold.iloc[:4,:4]"
   ]
  },
  {
   "cell_type": "markdown",
   "metadata": {},
   "source": [
    "### get predicted age and predicted gender"
   ]
  },
  {
   "cell_type": "code",
   "execution_count": null,
   "metadata": {
    "ExecuteTime": {
     "end_time": "2019-02-05T16:47:10.827185Z",
     "start_time": "2019-02-05T16:47:10.804476Z"
    }
   },
   "outputs": [],
   "source": [
    "predAgeGender=pd.read_pickle(FEATURES_DIR+'PredictedAgeGender.dat')\n",
    "print predAgeGender.shape\n",
    "print predAgeGender.head()"
   ]
  },
  {
   "cell_type": "markdown",
   "metadata": {},
   "source": [
    "## generate shuffled x with predicted Age and Gender"
   ]
  },
  {
   "cell_type": "code",
   "execution_count": null,
   "metadata": {
    "ExecuteTime": {
     "end_time": "2019-02-05T16:54:30.639291Z",
     "start_time": "2019-02-05T16:54:30.630819Z"
    }
   },
   "outputs": [],
   "source": [
    "Xold.values"
   ]
  },
  {
   "cell_type": "code",
   "execution_count": null,
   "metadata": {
    "ExecuteTime": {
     "end_time": "2019-02-05T16:55:35.978592Z",
     "start_time": "2019-02-05T16:55:35.959188Z"
    }
   },
   "outputs": [],
   "source": [
    "Xold_shuff= pd.DataFrame(index=Xold.index,columns=Xold.columns, data=(Xold.sample(frac=1).reset_index(drop=True)).values)\n",
    "# pd.DataFrame(index=Xold.index, columns=Xold.columns, data=\n",
    "print Xold_shuff.shape\n",
    "print Xold_shuff.sort_index().iloc[:4,:4]"
   ]
  },
  {
   "cell_type": "code",
   "execution_count": null,
   "metadata": {
    "ExecuteTime": {
     "end_time": "2019-02-05T16:58:23.941864Z",
     "start_time": "2019-02-05T16:58:23.809116Z"
    }
   },
   "outputs": [],
   "source": [
    "Xold_shuff_withPredAgeGender=pd.merge(Xold_shuff,predAgeGender,how='left',left_index=True,right_index=True)\n",
    "print Xold_shuff_withPredAgeGender.shape\n",
    "print Xold_shuff_withPredAgeGender.iloc[:4,:4]\n",
    "\n",
    "Xold_shuff_withPredAgeGender.to_pickle(FEATURES_DIR+'oldX_shuff_withPredictedAgeGender.dat')"
   ]
  },
  {
   "cell_type": "markdown",
   "metadata": {},
   "source": [
    "## run prediction"
   ]
  },
  {
   "cell_type": "markdown",
   "metadata": {},
   "source": [
    "## analyse results"
   ]
  },
  {
   "cell_type": "code",
   "execution_count": null,
   "metadata": {
    "ExecuteTime": {
     "end_time": "2019-02-06T08:21:29.960922Z",
     "start_time": "2019-02-06T08:21:29.819063Z"
    }
   },
   "outputs": [],
   "source": [
    "dir1=PRED_RESULTS_DIR+'isCardio/'\n",
    "d_list=['XGB_randomSearch_25_byPredictedAgeGender/','XGB_randomSearch_25_byPredictedAge/',\n",
    "        'XGB_randomSearch_25_byPredictedGender/','XGB_randomSearch_25_byRepFeatPCA10percVDJ0999PredictedAgeGender/',\n",
    "       'XGB_randomSearch_25_byOldXShuffleWithPredictedAgeGender/',\n",
    "        'XGB_randomSearch_25_byRealGender/','XGB_randomSearch_25_byRealAgeOnly/']\n",
    "summaryDF=pd.DataFrame()\n",
    "for d in d_list:\n",
    "    f1=dir1+d+'results_df.pkl'\n",
    "    print d\n",
    "    try:\n",
    "        df= pd.read_pickle(f1)\n",
    "        df['dir']=d\n",
    "        summaryDF=pd.concat([summaryDF,df])\n",
    "    except:\n",
    "        print ' couldnt get results from %s' %d\n",
    "\n",
    "interesting_cols=['AUC','Precision_Recall','binary_threshold','kappa','f1score','f1scoreMacro']\n",
    "summaryDF=summaryDF.set_index('dir')[interesting_cols].sort_values(by='AUC',ascending=False)\n",
    "summaryDF"
   ]
  },
  {
   "cell_type": "code",
   "execution_count": null,
   "metadata": {},
   "outputs": [],
   "source": []
  },
  {
   "cell_type": "markdown",
   "metadata": {},
   "source": [
    "# reduce age and gender shap from isCardio shap\n",
    "3D scatter"
   ]
  },
  {
   "cell_type": "markdown",
   "metadata": {},
   "source": [
    "# compare sharing rates between healthy and patients"
   ]
  },
  {
   "cell_type": "markdown",
   "metadata": {},
   "source": [
    "## functions:"
   ]
  },
  {
   "cell_type": "code",
   "execution_count": 3,
   "metadata": {
    "ExecuteTime": {
     "end_time": "2019-02-21T11:25:13.106863Z",
     "start_time": "2019-02-21T11:25:13.070216Z"
    }
   },
   "outputs": [],
   "source": [
    "def get_data(AllUniqueWithCounts_path):\n",
    "    \n",
    "    ### this function gets all data required for sharing comparisons between PNP and Cardio\n",
    "    ### (Age, gender, isCardio, AllUniqueWithCounts)\n",
    "    \n",
    "    print 'age data'\n",
    "    Age=pd.read_excel('%s/TCR_real_data/PNP530Cardio126Combined/Phenotypes/\\\n",
    "PNP530Cardio126_Age.xlsx' %MyPath).set_index('BD')\n",
    "    print Age.shape\n",
    "    print Age.head()\n",
    "\n",
    "    print 'gender data'\n",
    "    Gender=pd.read_excel('%s/TCR_real_data/PNP530Cardio126Combined/Phenotypes/\\\n",
    "PNP530Cardio126_Gender_Male.xlsx' %MyPath).set_index('BD')\n",
    "    print Gender.shape\n",
    "    print Gender.head()\n",
    "    \n",
    "    print 'isCardio data'\n",
    "    isCardio=pd.read_pickle(PRED_RESULTS_DIR+'TargetDFs/isCardio.dat')\n",
    "\n",
    "    print 'merging all'\n",
    "    AgeGender=pd.merge(Age,Gender,how='inner',left_index=True,right_index=True).dropna()\n",
    "    AgeGenderIsCardio=pd.merge(AgeGender,isCardio,how='inner',left_index=True,right_index=True).dropna()\n",
    "    print AgeGenderIsCardio.shape\n",
    "    print AgeGenderIsCardio.head()\n",
    "    \n",
    "    print 'AllUniqueWithCounts'\n",
    "    if AllUniqueWithCounts_path is None:\n",
    "        AllUniqueWithCounts_path='/net/mraid08/export/jafar/Microbiome/Analyses/ShaniBAF/sharingAnalysis/\\\n",
    "AllUniqueWithCounts'\n",
    "    AllUniqueWithCounts=pd.read_pickle(AllUniqueWithCounts_path)\n",
    "\n",
    "    print AllUniqueWithCounts.shape\n",
    "    print AllUniqueWithCounts.head()\n",
    "    \n",
    "    print 'AllUniqueWithCounts_prod'\n",
    "    AllUniqueWithCounts_prod=AllUniqueWithCounts[AllUniqueWithCounts['prod_stat']==1]\n",
    "    print AllUniqueWithCounts_prod.shape\n",
    "    print AllUniqueWithCounts_prod.head()\n",
    "    \n",
    "    return AllUniqueWithCounts_prod,AgeGenderIsCardio"
   ]
  },
  {
   "cell_type": "code",
   "execution_count": 4,
   "metadata": {
    "ExecuteTime": {
     "end_time": "2019-02-21T11:25:13.714935Z",
     "start_time": "2019-02-21T11:25:13.690617Z"
    }
   },
   "outputs": [],
   "source": [
    "def calc_seq_per_sample_stats(AllUniqueWithCounts_prod,nToSample):\n",
    "    \n",
    "    #this function prints the number of sequences in the 10t,20th and 30th sample in the df\n",
    "    ## it plots the distribution of number of sequences per sample\n",
    "    ## and returns a series with number of seqeunces per sample, ordered from highest to lowest\n",
    "    \n",
    "    \n",
    "    AllUniqueWithCounts_prod_count=AllUniqueWithCounts_prod.groupby('Sample').count()['isPublic']\n",
    "    \n",
    "    print AllUniqueWithCounts_prod_count.describe()\n",
    "    AllUniqueWithCounts_prod_count=AllUniqueWithCounts_prod_count.sort_values(ascending=False)\n",
    "    \n",
    "    for n in [10,20,30,nToSample]:\n",
    "        try:\n",
    "            print ('n seqs in %sth sample= ' %n,AllUniqueWithCounts_prod_count.iloc[n-1])\n",
    "        except:\n",
    "            print ('there are only %s samples' %len(AllUniqueWithCounts_prod_count))\n",
    "                \n",
    "    fig,ax=plt.subplots()\n",
    "    ax.hist(AllUniqueWithCounts_prod_count,bins=25)\n",
    "    plt.show()\n",
    "    \n",
    "    return AllUniqueWithCounts_prod_count"
   ]
  },
  {
   "cell_type": "code",
   "execution_count": 5,
   "metadata": {
    "ExecuteTime": {
     "end_time": "2019-02-21T11:25:14.287524Z",
     "start_time": "2019-02-21T11:25:14.091790Z"
    }
   },
   "outputs": [],
   "source": [
    "def get_samples_for_age_decade(min_age,max_age,AgeGenderIsCardio,AllUniqueWithCounts_prod,nToSample=20,nSeqs=None,isRandom=True,random_state_PNP=1,random_state_Cardio=1):\n",
    "    \n",
    "    ### this function takes the age range, number of samples and number of sequences to subsample.\n",
    "    ### first it gets all PNP and Cardio samples in the age range.\n",
    "    ### than it checks how many sequences are in each of those samples\n",
    "    ### than it selects samples - if there are enough samples with the desired number of sequences, \n",
    "    ### it selects samples randomly, or the samples with the highest number of sequences (according to)\n",
    "    ### the isRandom parameter)\n",
    "    ### if there are not enough samples, it won't be able to return dataframes and an error will occure\n",
    "    \n",
    "    ###get all avaiable PNP and Cardio samples for the age range\n",
    "    #PNP:\n",
    "    df=AgeGenderIsCardio\n",
    "\n",
    "    print 'PNP samples'\n",
    "    PNP_males_ageDecade=df[(df['Age']>min_age) & (df['Age']<=max_age) & (df['Gender_Male']==1) & (df['isCardio']==0)]\n",
    "       \n",
    "    L=drop_relatives(PNP_males_ageDecade,onlyBloodRels=False)\n",
    "    print ('relatives in list: ',L)\n",
    "    if len(L)>0:\n",
    "        print ('dropping the following samples because they are relatives: ', L)\n",
    "        PNP_males_ageDecade=PNP_males_ageDecade.drop(L)\n",
    "        \n",
    "    print 'removing samples that are not in AllUniqueWithCounts_prod:'\n",
    "    PNP_males_ageDecade=PNP_males_ageDecade[PNP_males_ageDecade.index.isin(AllUniqueWithCounts_prod.Sample.unique())]\n",
    "    \n",
    "    print PNP_males_ageDecade.shape\n",
    "    print PNP_males_ageDecade.head()\n",
    "    \n",
    "    print 'getting stats on PNP samples:'\n",
    "    AllUniqueWithCounts_prod_count_PNP=\\\n",
    "calc_seq_per_sample_stats(AllUniqueWithCounts_prod[AllUniqueWithCounts_prod['Sample'].isin(PNP_males_ageDecade.index)],\n",
    "                         nToSample)\n",
    "\n",
    "    #Cardio\n",
    "    print 'cardio samples'\n",
    "    Cardio_males_ageDecade=df[(df['Age']>min_age) & (df['Age']<=max_age) & (df['Gender_Male']==1) & (df['isCardio']==1)]\n",
    "       \n",
    "    print 'removing samples that are not in AllUniqueWithCounts_prod:'\n",
    "    Cardio_males_ageDecade=Cardio_males_ageDecade[Cardio_males_ageDecade.index.isin(AllUniqueWithCounts_prod.Sample.unique())]\n",
    "    \n",
    "    print Cardio_males_ageDecade.shape\n",
    "    print Cardio_males_ageDecade.head()\n",
    "    \n",
    "    print 'getting stats on Cardio samples:'\n",
    "    AllUniqueWithCounts_prod_count_Cardio=\\\n",
    "calc_seq_per_sample_stats(AllUniqueWithCounts_prod[AllUniqueWithCounts_prod['Sample'].isin(Cardio_males_ageDecade.index)],\n",
    "                         nToSample)\n",
    "    \n",
    "    \n",
    "    ###check that there are enough samples with the desired nSeqs, and select samples:\n",
    "    \n",
    "    \n",
    "    \n",
    "    #PNP\n",
    "    if nSeqs is None:\n",
    "        if isRandom:\n",
    "            print 'randomly selecting %s samples from PNP samples' %nToSample\n",
    "            PNP_males_ageDecade_s=PNP_males_ageDecade.sample(n=nToSample,random_state=random_state_PNP)\n",
    "        else:\n",
    "            print 'selecting %s samples with the highest number of sequences' %nToSample\n",
    "            PNP_males_ageDecade_s=PNP_males_ageDecade.loc[ AllUniqueWithCounts_prod_count_PNP[:nToSample].index,:] \n",
    "    elif AllUniqueWithCounts_prod_count_PNP.iloc[nToSample-1]<nSeqs:\n",
    "        print ('nSeq= ', nSeqs)\n",
    "        print ('n seqs in %sth sample: ' %(nToSample-1), AllUniqueWithCounts_prod_count_PNP.iloc[nToSample-1])\n",
    "        print 'not enough samples with the desired number of seqs in PNP'\n",
    "    elif AllUniqueWithCounts_prod_count_PNP.iloc[nToSample-1]==nSeqs:\n",
    "        print 'number of samples with the desired number of seqs is equal to the number of desired samples (PNP)'\n",
    "        PNP_males_ageDecade_s=PNP_males_ageDecade\n",
    "    else:\n",
    "        print 'There are more samples with the desired number of seqs than the number of desired samples (PNP)'\n",
    "        if isRandom:\n",
    "            print 'randomly selecting %s samples from PNP samples' %nToSample\n",
    "            PNP_males_ageDecade_s=PNP_males_ageDecade.sample(n=nToSample,random_state=random_state_PNP)\n",
    "        else:\n",
    "            print 'selecting %s samples with the highest number of sequences' %nToSample\n",
    "            PNP_males_ageDecade_s=PNP_males_ageDecade.loc[ AllUniqueWithCounts_prod_count_PNP[:nToSample].index,:]\n",
    "    print PNP_males_ageDecade_s.shape\n",
    "    print PNP_males_ageDecade_s.head()\n",
    "    PNP_males_ageDecade_samples=PNP_males_ageDecade_s.index.tolist()\n",
    "    \n",
    "    #Cardio:\n",
    "    if nSeqs is None:\n",
    "        if isRandom:\n",
    "            print 'randomly selecting %s samples from Cardio samples' %nToSample\n",
    "            Cardio_males_ageDecade_s=Cardio_males_ageDecade.sample(n=nToSample,random_state=random_state_Cardio)\n",
    "        else:\n",
    "            print 'selecting %s samples with the highest number of sequences' %nToSample\n",
    "            Cardio_males_ageDecade_s=Cardio_males_ageDecade.loc[AllUniqueWithCounts_prod_count_Cardio[:nToSample].index,:]\n",
    "    elif AllUniqueWithCounts_prod_count_Cardio.iloc[nToSample-1]<nSeqs:\n",
    "        print 'not enough samples with the desired number of seqs in Cardio'\n",
    "    elif AllUniqueWithCounts_prod_count_Cardio.iloc[nToSample-1]==nSeqs:\n",
    "        print 'number of samples with the desired number of seqs is equal to the number of desired samples (Cardio)'\n",
    "        Cardio_males_ageDecade_s=Cardio_males_ageDecade\n",
    "    else:\n",
    "        print 'There are more samples with the desired number of seqs than the number of desired samples (Cardio)'\n",
    "        if isRandom:\n",
    "            print 'randomly selecting %s samples from Cardio samples' %nToSample\n",
    "            Cardio_males_ageDecade_s=Cardio_males_ageDecade.sample(n=nToSample,random_state=random_state_Cardio)\n",
    "        else:\n",
    "            print 'selecting %s samples with the highest number of sequences' %nToSample\n",
    "            Cardio_males_ageDecade_s=Cardio_males_ageDecade.loc[AllUniqueWithCounts_prod_count_Cardio[:nToSample].index,:]\n",
    " \n",
    "    print Cardio_males_ageDecade_s.shape\n",
    "    print Cardio_males_ageDecade_s.head()\n",
    "    Cardio_males_ageDecade_samples=Cardio_males_ageDecade_s.index.tolist()\n",
    "        \n",
    "    ###comparing age distributions:    \n",
    "    print 'comparing age distribution'\n",
    "    dataList=[('Healthy' ,PNP_males_ageDecade_s.Age.tolist()),('Patients' ,Cardio_males_ageDecade_s.Age.tolist())]\n",
    "    title=''\n",
    "\n",
    "    fig,ax=plt.subplots()\n",
    "    ax,ks_p_cohort1_cohort2,t_p_cohort1_cohort2,p_Anov,filename=plotHistComprison(dataList,ax,title,showLegend=True,nBins=5,\n",
    "                            toAnnotate=True, colorList=['Grey','darkred'],alpha=None, plotType='hist')\n",
    "\n",
    "    plt.show()\n",
    "    print ('n samples in PNP sample list: ', len(PNP_males_ageDecade_samples))\n",
    "    print ('n samples in Cardio sample list: ', len(Cardio_males_ageDecade_samples))\n",
    "    \n",
    "    return fig,PNP_males_ageDecade_samples,Cardio_males_ageDecade_samples\n",
    "    "
   ]
  },
  {
   "cell_type": "code",
   "execution_count": 6,
   "metadata": {
    "ExecuteTime": {
     "end_time": "2019-02-21T11:25:14.526772Z",
     "start_time": "2019-02-21T11:25:14.494263Z"
    }
   },
   "outputs": [],
   "source": [
    "def subsample_sequences_for_samples(AllUniqueWithCounts_prod,PNP_males_ageDecade_samples,Cardio_males_ageDecade_samples,nSeqs=None):\n",
    "    \n",
    "    ### this function selects randomly the desired number of sequences from each sample in the PNP and Cardio dfs,\n",
    "    ### if there is a sample with not enough sequences, it will fail\n",
    "    print ('n samples in PNP sample list: ', len(PNP_males_ageDecade_samples))\n",
    "    print ('n samples in Cardio sample list: ', len(Cardio_males_ageDecade_samples))\n",
    "    \n",
    "    PNP_data=AllUniqueWithCounts_prod[AllUniqueWithCounts_prod['Sample'].isin(PNP_males_ageDecade_samples)]\n",
    "    Cardio_data=AllUniqueWithCounts_prod[AllUniqueWithCounts_prod['Sample'].isin(Cardio_males_ageDecade_samples)]\n",
    "    \n",
    "    print ('PNP_data.Sample.nunique(): ',PNP_data.Sample.nunique())\n",
    "    print ('Cardio_data.Sample.nunique(): ',Cardio_data.Sample.nunique())\n",
    "    \n",
    "    print 'generating df containing selected PNP and Cardio samples...'\n",
    "    df=pd.concat([PNP_data,Cardio_data])\n",
    "    print df.shape\n",
    "    print df.iloc[:5,:5]\n",
    "    \n",
    "    if nSeqs is None:\n",
    "        print 'nSeqs is None, no subsampling, all sequences are used'\n",
    "        subsampled_df=df\n",
    "    else:\n",
    "        subsampled_df_list=[]\n",
    "        print 'subsampling sequences...'\n",
    "        for n,sample in enumerate(df['Sample'].unique().tolist()):\n",
    "            if n%10==0: print n\n",
    "            df2=df[df['Sample']==sample]\n",
    "            df_s=df2.sample(n=nSeqs,random_state=1)\n",
    "            subsampled_df_list.append(df_s)\n",
    "\n",
    "        print 'concatenating subsampled dfs'\n",
    "        subsampled_df=pd.concat(subsampled_df_list)\n",
    "        print subsampled_df.shape\n",
    "        print subsampled_df.head()\n",
    "\n",
    "    return subsampled_df\n",
    "    \n",
    "    "
   ]
  },
  {
   "cell_type": "code",
   "execution_count": 7,
   "metadata": {
    "ExecuteTime": {
     "end_time": "2019-02-21T11:25:14.791532Z",
     "start_time": "2019-02-21T11:25:14.736133Z"
    }
   },
   "outputs": [],
   "source": [
    "def calc_sharing_rate_per_sample(subsampled_df,PNP_males_ageDecade_samples,Cardio_males_ageDecade_samples,\n",
    "                                 nseqs,nSampledShared, toPlot=True):\n",
    "    subsampled_df=subsampled_df.reset_index()\n",
    "    \n",
    "    dataList=[]\n",
    "    for item in [('Healthy',PNP_males_ageDecade_samples),('Patients',Cardio_males_ageDecade_samples)]:\n",
    "        dataset_name=item[0]\n",
    "        sample_list=item[1]\n",
    "        \n",
    "        print ('******dataset: '+ dataset_name+'********')\n",
    "        \n",
    "        subsampled_df_dataset=subsampled_df[subsampled_df.Sample.isin(sample_list)]\n",
    "        sampleBySeq_ss=subsampled_df_dataset.pivot(index='Sample',columns='index',values='prod_stat').fillna(0)\n",
    "    \n",
    "        print sampleBySeq_ss.shape\n",
    "        print sampleBySeq_ss.iloc[:5,:5]\n",
    "        print sampleBySeq_ss.sum().min()\n",
    "        print sampleBySeq_ss.sum().max()\n",
    "    \n",
    "        public_seqs=sampleBySeq_ss.sum()[sampleBySeq_ss.sum() >= nSampledShared].index\n",
    "        sampleBySeq_ss_public=sampleBySeq_ss.loc[:,public_seqs]\n",
    "        print ('sampleBySeq_ss.shape:' ,sampleBySeq_ss.shape)\n",
    "        print ('sampleBySeq_ss_public.shape:' ,sampleBySeq_ss_public.shape)\n",
    "    \n",
    "        seqSum=sampleBySeq_ss.sum(axis=1).rename('seqSum')\n",
    "        publicSeqSum=sampleBySeq_ss_public.sum(axis=1).rename('publicSeqSum')\n",
    "        merged=pd.merge(pd.DataFrame(seqSum),pd.DataFrame(publicSeqSum),how='inner',left_index=True,right_index=True)\n",
    "        print ('merged.shape:' ,merged.shape)\n",
    "        merged['perc_public']=100*merged['publicSeqSum'].astype(float) / merged['seqSum']\n",
    "        print 'merged:'\n",
    "        print merged.head(10)\n",
    "    \n",
    "        perc_public_list=merged['perc_public'].tolist()\n",
    "        print ('perc_public_list[:10]: ',perc_public_list[:10])\n",
    "    \n",
    "        dataList.append(tuple([item[0],perc_public_list]))\n",
    "    s_MW,p_MW=mannwhitneyu(dataList[0][1],dataList[1][1])\n",
    "    mean_healthy=np.mean(dataList[0][1])\n",
    "    std_healthy=np.std(dataList[0][1])\n",
    "    mean_patients=np.mean(dataList[1][1])\n",
    "    std_patients=np.std(dataList[1][1])\n",
    "    \n",
    "    if toPlot:\n",
    "        fig,ax=plt.subplots()\n",
    "        title=''\n",
    "\n",
    "        ax,ks_p_cohort1_cohort2,t_p_cohort1_cohort2,p_Anov,filename=plotHistComprison(dataList,ax,\n",
    "                            title,showLegend=True,nBins=20,toAnnotate=True,alpha=None,plotType='kde',\n",
    "                            colorList=['grey','darkred'])\n",
    "        ax.text(0.02,0.05,'p-value=%s (MW)' %p_MW, transform=ax.transAxes,ha='left',va='top')\n",
    "        plt.show()\n",
    "    \n",
    "    return fig,ax,s_MW,p_MW,sampleBySeq_ss,mean_healthy,std_healthy,mean_patients,std_patients"
   ]
  },
  {
   "cell_type": "code",
   "execution_count": 8,
   "metadata": {
    "ExecuteTime": {
     "end_time": "2019-02-21T11:25:15.023296Z",
     "start_time": "2019-02-21T11:25:15.006160Z"
    }
   },
   "outputs": [],
   "source": [
    "def sharing_rate_comparison_PNP_Cardio(AllUniqueWithCounts_path=None,min_age=50,max_age=60,nToSample=20,\n",
    "                                       nSeqs=2000,isRandom=True,nSampledShared=2,random_state_PNP=1,random_state_Cardio=1):\n",
    "    \n",
    "    ## get data:\n",
    "    \n",
    "    AllUniqueWithCounts_prod,AgeGenderIsCardio=get_data(AllUniqueWithCounts_path)\n",
    "        \n",
    "    ## select samples\n",
    "    fig,PNP_males_ageDecade_samples,Cardio_males_ageDecade_samples=get_samples_for_age_decade(min_age,max_age,AgeGenderIsCardio,\n",
    "                    AllUniqueWithCounts_prod,nToSample=nToSample,\n",
    "                    nSeqs=nSeqs,isRandom=isRandom,random_state_PNP=random_state_PNP,random_state_Cardio=random_state_Cardio)\n",
    "    \n",
    "    ##subsample sequences:\n",
    "    subsampled_df = subsample_sequences_for_samples(AllUniqueWithCounts_prod,PNP_males_ageDecade_samples,\n",
    "                                                    Cardio_males_ageDecade_samples,nSeqs=nSeqs)\n",
    "    \n",
    "    #compare sharing rates:\n",
    "    fig,ax,s_MW,p_MW,sampleBySeq_ss,mean_healthy,std_healthy,mean_patients,std_patients = calc_sharing_rate_per_sample(subsampled_df,PNP_males_ageDecade_samples,Cardio_males_ageDecade_samples,\n",
    "                                                    nSeqs,nSampledShared)\n",
    "    \n",
    "    #save figure:\n",
    "    \n",
    "    \n",
    "    return fig,ax,s_MW,p_MW,sampleBySeq_ss,mean_healthy,std_healthy,mean_patients,std_patients\n",
    "    "
   ]
  },
  {
   "cell_type": "markdown",
   "metadata": {},
   "source": [
    "## run for age 50-60:"
   ]
  },
  {
   "cell_type": "code",
   "execution_count": 11,
   "metadata": {
    "ExecuteTime": {
     "end_time": "2019-02-21T11:26:30.369392Z",
     "start_time": "2019-02-21T11:26:06.099951Z"
    }
   },
   "outputs": [
    {
     "name": "stdout",
     "output_type": "stream",
     "text": [
      "age data\n",
      "(656, 1)\n",
      "        Age\n",
      "BD         \n",
      "BD406  65.0\n",
      "BD228  32.0\n",
      "BD714  39.0\n",
      "BD808  26.0\n",
      "BD144  36.0\n",
      "gender data\n",
      "(656, 1)\n",
      "       Gender_Male\n",
      "BD                \n",
      "BD406            0\n",
      "BD228            1\n",
      "BD714            1\n",
      "BD808            0\n",
      "BD144            0\n",
      "isCardio data\n",
      "merging all\n",
      "(652, 3)\n",
      "        Age  Gender_Male  isCardio\n",
      "BD406  65.0            0         0\n",
      "BD228  32.0            1         0\n",
      "BD714  39.0            1         0\n",
      "BD808  26.0            0         0\n",
      "BD144  36.0            0         0\n",
      "AllUniqueWithCounts\n",
      "(7864153, 5)\n",
      "              frequencyCount (%)  prod_stat Sample  nShared  isPublic\n",
      "***ADGPYEQYV            0.009748          0  BD463        1         0\n",
      "**AGGEQYF               0.003249          0  BD856        1         0\n",
      "**EDKSGPQYF             0.003275          0  BD944        1         0\n",
      "**EQFF                  0.003405          0  BD845        1         0\n",
      "**ERWVPDTQYF            0.003868          0  BD565        1         0\n",
      "AllUniqueWithCounts_prod\n",
      "(7700449, 5)\n",
      "               frequencyCount (%)  prod_stat Sample  nShared  isPublic\n",
      "AAAWYYSYEQYF             0.006903          1  BD543        1         0\n",
      "AAGQRSGDTQYF             0.005533          1  BD487        1         0\n",
      "AARERKETQYF              0.006866          1  BD432        1         0\n",
      "AARQTSTDTQYF             0.006999          1  BD939        1         0\n",
      "AASGQDQFHEQYF            0.002622          1   BD30        1         0\n",
      "PNP samples\n",
      "('relatives in list: ', [])\n",
      "removing samples that are not in AllUniqueWithCounts_prod:\n",
      "(24, 3)\n",
      "        Age  Gender_Male  isCardio\n",
      "BD801  58.0            1         0\n",
      "BD221  55.0            1         0\n",
      "BD631  59.0            1         0\n",
      "BD27   53.0            1         0\n",
      "BD422  52.0            1         0\n",
      "getting stats on PNP samples:\n",
      "count       24.000000\n",
      "mean     12155.958333\n",
      "std       5265.500154\n",
      "min       4792.000000\n",
      "25%       8264.000000\n",
      "50%      12616.000000\n",
      "75%      14296.250000\n",
      "max      25577.000000\n",
      "Name: isPublic, dtype: float64\n",
      "('n seqs in 10th sample= ', 12740)\n",
      "('n seqs in 20th sample= ', 7519)\n",
      "there are only 24 samples\n",
      "('n seqs in 20th sample= ', 7519)\n"
     ]
    },
    {
     "data": {
      "image/png": "[encoded data removed]",
      "text/plain": [
       "<matplotlib.figure.Figure at 0x7f5501d98610>"
      ]
     },
     "metadata": {},
     "output_type": "display_data"
    },
    {
     "name": "stdout",
     "output_type": "stream",
     "text": [
      "cardio samples\n",
      "removing samples that are not in AllUniqueWithCounts_prod:\n",
      "(43, 3)\n",
      "         Age  Gender_Male  isCardio\n",
      "BD1068  57.0            1         1\n",
      "BD1061  54.0            1         1\n",
      "BD1026  51.0            1         1\n",
      "BD998   59.0            1         1\n",
      "BD1045  53.0            1         1\n",
      "getting stats on Cardio samples:\n",
      "count       43.000000\n",
      "mean      8792.604651\n",
      "std       3888.692528\n",
      "min       2705.000000\n",
      "25%       6550.000000\n",
      "50%       7932.000000\n",
      "75%      10638.500000\n",
      "max      21023.000000\n",
      "Name: isPublic, dtype: float64\n",
      "('n seqs in 10th sample= ', 12260)\n",
      "('n seqs in 20th sample= ', 8068)\n",
      "('n seqs in 30th sample= ', 7103)\n",
      "('n seqs in 20th sample= ', 8068)\n"
     ]
    },
    {
     "data": {
      "image/png": "[encoded data removed]",
      "text/plain": [
       "<matplotlib.figure.Figure at 0x7f5511f65d50>"
      ]
     },
     "metadata": {},
     "output_type": "display_data"
    },
    {
     "name": "stdout",
     "output_type": "stream",
     "text": [
      "There are more samples with the desired number of seqs than the number of desired samples (PNP)\n",
      "selecting 20 samples with the highest number of sequences\n",
      "(20, 3)\n",
      "         Age  Gender_Male  isCardio\n",
      "Sample                             \n",
      "BD27    53.0            1         0\n",
      "BD124   59.0            1         0\n",
      "BD19    55.0            1         0\n",
      "BD150   53.0            1         0\n",
      "BD909   56.0            1         0\n",
      "There are more samples with the desired number of seqs than the number of desired samples (Cardio)\n",
      "selecting 20 samples with the highest number of sequences\n",
      "(20, 3)\n",
      "         Age  Gender_Male  isCardio\n",
      "Sample                             \n",
      "BD1083  52.0            1         1\n",
      "BD1081  52.0            1         1\n",
      "BD1099  56.0            1         1\n",
      "BD1075  58.0            1         1\n",
      "BD982   54.0            1         1\n",
      "comparing age distribution\n"
     ]
    },
    {
     "data": {
      "image/png": "[encoded data removed]",
      "text/plain": [
       "<matplotlib.figure.Figure at 0x7f551c59e810>"
      ]
     },
     "metadata": {},
     "output_type": "display_data"
    },
    {
     "name": "stdout",
     "output_type": "stream",
     "text": [
      "('n samples in PNP sample list: ', 20)\n",
      "('n samples in Cardio sample list: ', 20)\n",
      "('n samples in PNP sample list: ', 20)\n",
      "('n samples in Cardio sample list: ', 20)\n",
      "('PNP_data.Sample.nunique(): ', 20)\n",
      "('Cardio_data.Sample.nunique(): ', 20)\n",
      "generating df containing selected PNP and Cardio samples...\n",
      "(506863, 5)\n",
      "               frequencyCount (%)  prod_stat Sample  nShared  isPublic\n",
      "AENTEAFF                 0.007245          1  BD847        2         1\n",
      "AGELFF                   0.005939          1  BD124        1         0\n",
      "AGTQGTTNEKLFF            0.004809          1  BD801        1         0\n",
      "AGVSPYEQYF               0.003224          1  BD221        1         0\n",
      "AGYYEQYF                 0.002414          1   BD27        1         0\n",
      "subsampling sequences...\n",
      "0\n",
      "10\n",
      "20\n",
      "30\n",
      "concatenating subsampled dfs\n",
      "(300000, 5)\n",
      "                  frequencyCount (%)  prod_stat Sample  nShared  isPublic\n",
      "CASSYDRNYEQYF               0.007245          1  BD847        2         1\n",
      "CASSPPGAGANVLTF             0.007245          1  BD847       24         1\n",
      "CSVFPLAHSYNEQFF             0.014490          1  BD847        1         0\n",
      "CASSRLGVSYTGELFF            0.007245          1  BD847        1         0\n",
      "CAISEGTGDHEKLFF             0.007245          1  BD847        1         0\n",
      "******dataset: Healthy********\n",
      "(20, 145287)\n",
      "index   AGELFF  AGYYEQYF  ANRSMAGLSYSEAFF  APREAACLPSTDTQYF  AYEQYF\n",
      "Sample                                                             \n",
      "BD124      1.0       0.0              0.0               0.0     0.0\n",
      "BD149      0.0       0.0              0.0               0.0     0.0\n",
      "BD150      0.0       0.0              0.0               0.0     0.0\n",
      "BD19       0.0       0.0              0.0               0.0     0.0\n",
      "BD221      0.0       0.0              0.0               0.0     0.0\n",
      "1.0\n",
      "12.0\n",
      "('sampleBySeq_ss.shape:', (20, 145287))\n",
      "('sampleBySeq_ss_public.shape:', (20, 3641))\n",
      "('merged.shape:', (20, 2))\n",
      "merged:\n",
      "        seqSum  publicSeqSum  perc_public\n",
      "Sample                                   \n",
      "BD124   7500.0         387.0     5.160000\n",
      "BD149   7500.0         438.0     5.840000\n",
      "BD150   7500.0         392.0     5.226667\n",
      "BD19    7500.0         393.0     5.240000\n",
      "BD221   7500.0         443.0     5.906667\n",
      "BD27    7500.0         411.0     5.480000\n",
      "BD275   7500.0         436.0     5.813333\n",
      "BD369   7500.0         435.0     5.800000\n",
      "BD422   7500.0         410.0     5.466667\n",
      "BD495   7500.0         439.0     5.853333\n",
      "('perc_public_list[:10]: ', [5.16, 5.84, 5.226666666666667, 5.24, 5.906666666666666, 5.48, 5.8133333333333335, 5.8, 5.466666666666667, 5.8533333333333335])\n",
      "******dataset: Patients********\n",
      "(20, 145456)\n",
      "index   APAAQVSLGTDTQYF  ASGRAGASSTDTQYF  AWNNYGYTF  CAAAGGSYEQYF  CAAAGQGSSPLHF\n",
      "Sample                                                                          \n",
      "BD1000              0.0              0.0        0.0           0.0            0.0\n",
      "BD1004              0.0              0.0        0.0           0.0            0.0\n",
      "BD1031              0.0              0.0        0.0           0.0            0.0\n",
      "BD1042              0.0              0.0        0.0           0.0            1.0\n",
      "BD1074              0.0              0.0        0.0           0.0            0.0\n",
      "1.0\n",
      "10.0\n",
      "('sampleBySeq_ss.shape:', (20, 145456))\n",
      "('sampleBySeq_ss_public.shape:', (20, 3486))\n",
      "('merged.shape:', (20, 2))\n",
      "merged:\n",
      "        seqSum  publicSeqSum  perc_public\n",
      "Sample                                   \n",
      "BD1000  7500.0         414.0     5.520000\n",
      "BD1004  7500.0         388.0     5.173333\n",
      "BD1031  7500.0         419.0     5.586667\n",
      "BD1042  7500.0         368.0     4.906667\n",
      "BD1074  7500.0         406.0     5.413333\n",
      "BD1075  7500.0         385.0     5.133333\n",
      "BD1081  7500.0         370.0     4.933333\n",
      "BD1083  7500.0         418.0     5.573333\n",
      "BD1084  7500.0         410.0     5.466667\n",
      "BD1086  7500.0         443.0     5.906667\n",
      "('perc_public_list[:10]: ', [5.52, 5.173333333333333, 5.586666666666667, 4.906666666666666, 5.413333333333333, 5.133333333333334, 4.933333333333334, 5.573333333333333, 5.466666666666667, 5.906666666666666])\n",
      "generating kde plot\n",
      "generating kde plot\n"
     ]
    },
    {
     "data": {
      "image/png": "[encoded data removed]",
      "text/plain": [
       "<matplotlib.figure.Figure at 0x7f551197a250>"
      ]
     },
     "metadata": {},
     "output_type": "display_data"
    }
   ],
   "source": [
    "min_age=50\n",
    "max_age=60\n",
    "nToSample=20\n",
    "nSeqs=7500\n",
    "isRandom=False\n",
    "\n",
    "nSampledShared=2\n",
    "\n",
    "fig,ax,sampleBySeq_ss=sharing_rate_comparison_PNP_Cardio(AllUniqueWithCounts_path=None,min_age=min_age,max_age=max_age,nToSample=nToSample,\n",
    "                                       nSeqs=nSeqs,nSampledShared=nSampledShared,isRandom=isRandom,random_state_PNP=1,random_state_Cardio=1)"
   ]
  },
  {
   "cell_type": "code",
   "execution_count": 12,
   "metadata": {
    "ExecuteTime": {
     "end_time": "2019-02-21T11:26:43.925696Z",
     "start_time": "2019-02-21T11:26:43.902618Z"
    }
   },
   "outputs": [
    {
     "data": {
      "text/html": [
       "<div>\n",
       "<style scoped>\n",
       "    .dataframe tbody tr th:only-of-type {\n",
       "        vertical-align: middle;\n",
       "    }\n",
       "\n",
       "    .dataframe tbody tr th {\n",
       "        vertical-align: top;\n",
       "    }\n",
       "\n",
       "    .dataframe thead th {\n",
       "        text-align: right;\n",
       "    }\n",
       "</style>\n",
       "<table border=\"1\" class=\"dataframe\">\n",
       "  <thead>\n",
       "    <tr style=\"text-align: right;\">\n",
       "      <th>index</th>\n",
       "      <th>APAAQVSLGTDTQYF</th>\n",
       "      <th>ASGRAGASSTDTQYF</th>\n",
       "      <th>AWNNYGYTF</th>\n",
       "      <th>CAAAGGSYEQYF</th>\n",
       "      <th>CAAAGQGSSPLHF</th>\n",
       "    </tr>\n",
       "    <tr>\n",
       "      <th>Sample</th>\n",
       "      <th></th>\n",
       "      <th></th>\n",
       "      <th></th>\n",
       "      <th></th>\n",
       "      <th></th>\n",
       "    </tr>\n",
       "  </thead>\n",
       "  <tbody>\n",
       "    <tr>\n",
       "      <th>BD1000</th>\n",
       "      <td>0.0</td>\n",
       "      <td>0.0</td>\n",
       "      <td>0.0</td>\n",
       "      <td>0.0</td>\n",
       "      <td>0.0</td>\n",
       "    </tr>\n",
       "    <tr>\n",
       "      <th>BD1004</th>\n",
       "      <td>0.0</td>\n",
       "      <td>0.0</td>\n",
       "      <td>0.0</td>\n",
       "      <td>0.0</td>\n",
       "      <td>0.0</td>\n",
       "    </tr>\n",
       "    <tr>\n",
       "      <th>BD1031</th>\n",
       "      <td>0.0</td>\n",
       "      <td>0.0</td>\n",
       "      <td>0.0</td>\n",
       "      <td>0.0</td>\n",
       "      <td>0.0</td>\n",
       "    </tr>\n",
       "    <tr>\n",
       "      <th>BD1042</th>\n",
       "      <td>0.0</td>\n",
       "      <td>0.0</td>\n",
       "      <td>0.0</td>\n",
       "      <td>0.0</td>\n",
       "      <td>1.0</td>\n",
       "    </tr>\n",
       "    <tr>\n",
       "      <th>BD1074</th>\n",
       "      <td>0.0</td>\n",
       "      <td>0.0</td>\n",
       "      <td>0.0</td>\n",
       "      <td>0.0</td>\n",
       "      <td>0.0</td>\n",
       "    </tr>\n",
       "  </tbody>\n",
       "</table>\n",
       "</div>"
      ],
      "text/plain": [
       "index   APAAQVSLGTDTQYF  ASGRAGASSTDTQYF  AWNNYGYTF  CAAAGGSYEQYF  CAAAGQGSSPLHF\n",
       "Sample                                                                          \n",
       "BD1000              0.0              0.0        0.0           0.0            0.0\n",
       "BD1004              0.0              0.0        0.0           0.0            0.0\n",
       "BD1031              0.0              0.0        0.0           0.0            0.0\n",
       "BD1042              0.0              0.0        0.0           0.0            1.0\n",
       "BD1074              0.0              0.0        0.0           0.0            0.0"
      ]
     },
     "execution_count": 12,
     "metadata": {},
     "output_type": "execute_result"
    }
   ],
   "source": [
    "sampleBySeq_ss.iloc[:5,:5]"
   ]
  },
  {
   "cell_type": "code",
   "execution_count": 14,
   "metadata": {
    "ExecuteTime": {
     "end_time": "2019-02-24T08:59:55.047284Z",
     "start_time": "2019-02-24T08:42:32.090043Z"
    }
   },
   "outputs": [
    {
     "ename": "KeyboardInterrupt",
     "evalue": "",
     "output_type": "error",
     "traceback": [
      "\u001b[0;31m---------------------------------------------------------------------------\u001b[0m",
      "\u001b[0;31mKeyboardInterrupt\u001b[0m                         Traceback (most recent call last)",
      "\u001b[0;32m<ipython-input-14-13f16c927d17>\u001b[0m in \u001b[0;36m<module>\u001b[0;34m()\u001b[0m\n\u001b[1;32m      2\u001b[0m g = sns.clustermap(sampleBySeq_ss, method='average', metric='jaccard', figsize=None,\n\u001b[1;32m      3\u001b[0m                    \u001b[0mcbar_kws\u001b[0m\u001b[0;34m=\u001b[0m\u001b[0mNone\u001b[0m\u001b[0;34m,\u001b[0m \u001b[0mrow_cluster\u001b[0m\u001b[0;34m=\u001b[0m\u001b[0mTrue\u001b[0m\u001b[0;34m,\u001b[0m \u001b[0mcol_cluster\u001b[0m\u001b[0;34m=\u001b[0m\u001b[0mFalse\u001b[0m\u001b[0;34m,\u001b[0m \u001b[0mrow_linkage\u001b[0m\u001b[0;34m=\u001b[0m\u001b[0mNone\u001b[0m\u001b[0;34m,\u001b[0m\u001b[0;34m\u001b[0m\u001b[0m\n\u001b[0;32m----> 4\u001b[0;31m                    col_linkage=None, row_colors=None, col_colors=None, mask=None)\n\u001b[0m\u001b[1;32m      5\u001b[0m \u001b[0mplt\u001b[0m\u001b[0;34m.\u001b[0m\u001b[0mshow\u001b[0m\u001b[0;34m(\u001b[0m\u001b[0;34m)\u001b[0m\u001b[0;34m\u001b[0m\u001b[0m\n",
      "\u001b[0;32m/usr/wisdom/python/lib/python2.7/site-packages/seaborn/matrix.pyc\u001b[0m in \u001b[0;36mclustermap\u001b[0;34m(data, pivot_kws, method, metric, z_score, standard_scale, figsize, cbar_kws, row_cluster, col_cluster, row_linkage, col_linkage, row_colors, col_colors, mask, **kwargs)\u001b[0m\n\u001b[1;32m   1250\u001b[0m                         \u001b[0mrow_cluster\u001b[0m\u001b[0;34m=\u001b[0m\u001b[0mrow_cluster\u001b[0m\u001b[0;34m,\u001b[0m \u001b[0mcol_cluster\u001b[0m\u001b[0;34m=\u001b[0m\u001b[0mcol_cluster\u001b[0m\u001b[0;34m,\u001b[0m\u001b[0;34m\u001b[0m\u001b[0m\n\u001b[1;32m   1251\u001b[0m                         \u001b[0mrow_linkage\u001b[0m\u001b[0;34m=\u001b[0m\u001b[0mrow_linkage\u001b[0m\u001b[0;34m,\u001b[0m \u001b[0mcol_linkage\u001b[0m\u001b[0;34m=\u001b[0m\u001b[0mcol_linkage\u001b[0m\u001b[0;34m,\u001b[0m\u001b[0;34m\u001b[0m\u001b[0m\n\u001b[0;32m-> 1252\u001b[0;31m                         **kwargs)\n\u001b[0m",
      "\u001b[0;32m/usr/wisdom/python/lib/python2.7/site-packages/seaborn/matrix.pyc\u001b[0m in \u001b[0;36mplot\u001b[0;34m(self, metric, method, colorbar_kws, row_cluster, col_cluster, row_linkage, col_linkage, **kws)\u001b[0m\n\u001b[1;32m   1096\u001b[0m \u001b[0;34m\u001b[0m\u001b[0m\n\u001b[1;32m   1097\u001b[0m         \u001b[0mself\u001b[0m\u001b[0;34m.\u001b[0m\u001b[0mplot_colors\u001b[0m\u001b[0;34m(\u001b[0m\u001b[0mxind\u001b[0m\u001b[0;34m,\u001b[0m \u001b[0myind\u001b[0m\u001b[0;34m,\u001b[0m \u001b[0;34m**\u001b[0m\u001b[0mkws\u001b[0m\u001b[0;34m)\u001b[0m\u001b[0;34m\u001b[0m\u001b[0m\n\u001b[0;32m-> 1098\u001b[0;31m         \u001b[0mself\u001b[0m\u001b[0;34m.\u001b[0m\u001b[0mplot_matrix\u001b[0m\u001b[0;34m(\u001b[0m\u001b[0mcolorbar_kws\u001b[0m\u001b[0;34m,\u001b[0m \u001b[0mxind\u001b[0m\u001b[0;34m,\u001b[0m \u001b[0myind\u001b[0m\u001b[0;34m,\u001b[0m \u001b[0;34m**\u001b[0m\u001b[0mkws\u001b[0m\u001b[0;34m)\u001b[0m\u001b[0;34m\u001b[0m\u001b[0m\n\u001b[0m\u001b[1;32m   1099\u001b[0m         \u001b[0;32mreturn\u001b[0m \u001b[0mself\u001b[0m\u001b[0;34m\u001b[0m\u001b[0m\n\u001b[1;32m   1100\u001b[0m \u001b[0;34m\u001b[0m\u001b[0m\n",
      "\u001b[0;32m/usr/wisdom/python/lib/python2.7/site-packages/seaborn/matrix.pyc\u001b[0m in \u001b[0;36mplot_matrix\u001b[0;34m(self, colorbar_kws, xind, yind, **kws)\u001b[0m\n\u001b[1;32m   1077\u001b[0m         heatmap(self.data2d, ax=self.ax_heatmap, cbar_ax=self.cax,\n\u001b[1;32m   1078\u001b[0m                 \u001b[0mcbar_kws\u001b[0m\u001b[0;34m=\u001b[0m\u001b[0mcolorbar_kws\u001b[0m\u001b[0;34m,\u001b[0m \u001b[0mmask\u001b[0m\u001b[0;34m=\u001b[0m\u001b[0mself\u001b[0m\u001b[0;34m.\u001b[0m\u001b[0mmask\u001b[0m\u001b[0;34m,\u001b[0m\u001b[0;34m\u001b[0m\u001b[0m\n\u001b[0;32m-> 1079\u001b[0;31m                 xticklabels=xtl, yticklabels=ytl, **kws)\n\u001b[0m\u001b[1;32m   1080\u001b[0m         \u001b[0mself\u001b[0m\u001b[0;34m.\u001b[0m\u001b[0max_heatmap\u001b[0m\u001b[0;34m.\u001b[0m\u001b[0myaxis\u001b[0m\u001b[0;34m.\u001b[0m\u001b[0mset_ticks_position\u001b[0m\u001b[0;34m(\u001b[0m\u001b[0;34m'right'\u001b[0m\u001b[0;34m)\u001b[0m\u001b[0;34m\u001b[0m\u001b[0m\n\u001b[1;32m   1081\u001b[0m         \u001b[0mself\u001b[0m\u001b[0;34m.\u001b[0m\u001b[0max_heatmap\u001b[0m\u001b[0;34m.\u001b[0m\u001b[0myaxis\u001b[0m\u001b[0;34m.\u001b[0m\u001b[0mset_label_position\u001b[0m\u001b[0;34m(\u001b[0m\u001b[0;34m'right'\u001b[0m\u001b[0;34m)\u001b[0m\u001b[0;34m\u001b[0m\u001b[0m\n",
      "\u001b[0;32m/usr/wisdom/python/lib/python2.7/site-packages/seaborn/matrix.pyc\u001b[0m in \u001b[0;36mheatmap\u001b[0;34m(data, vmin, vmax, cmap, center, robust, annot, fmt, annot_kws, linewidths, linecolor, cbar, cbar_kws, cbar_ax, square, ax, xticklabels, yticklabels, mask, **kwargs)\u001b[0m\n\u001b[1;32m    494\u001b[0m     \u001b[0;32mif\u001b[0m \u001b[0msquare\u001b[0m\u001b[0;34m:\u001b[0m\u001b[0;34m\u001b[0m\u001b[0m\n\u001b[1;32m    495\u001b[0m         \u001b[0max\u001b[0m\u001b[0;34m.\u001b[0m\u001b[0mset_aspect\u001b[0m\u001b[0;34m(\u001b[0m\u001b[0;34m\"equal\"\u001b[0m\u001b[0;34m)\u001b[0m\u001b[0;34m\u001b[0m\u001b[0m\n\u001b[0;32m--> 496\u001b[0;31m     \u001b[0mplotter\u001b[0m\u001b[0;34m.\u001b[0m\u001b[0mplot\u001b[0m\u001b[0;34m(\u001b[0m\u001b[0max\u001b[0m\u001b[0;34m,\u001b[0m \u001b[0mcbar_ax\u001b[0m\u001b[0;34m,\u001b[0m \u001b[0mkwargs\u001b[0m\u001b[0;34m)\u001b[0m\u001b[0;34m\u001b[0m\u001b[0m\n\u001b[0m\u001b[1;32m    497\u001b[0m     \u001b[0;32mreturn\u001b[0m \u001b[0max\u001b[0m\u001b[0;34m\u001b[0m\u001b[0m\n\u001b[1;32m    498\u001b[0m \u001b[0;34m\u001b[0m\u001b[0m\n",
      "\u001b[0;32m/usr/wisdom/python/lib/python2.7/site-packages/seaborn/matrix.pyc\u001b[0m in \u001b[0;36mplot\u001b[0;34m(self, ax, cax, kws)\u001b[0m\n\u001b[1;32m    270\u001b[0m         \u001b[0;31m# Possibly rotate them if they overlap\u001b[0m\u001b[0;34m\u001b[0m\u001b[0;34m\u001b[0m\u001b[0m\n\u001b[1;32m    271\u001b[0m         \u001b[0mplt\u001b[0m\u001b[0;34m.\u001b[0m\u001b[0mdraw\u001b[0m\u001b[0;34m(\u001b[0m\u001b[0;34m)\u001b[0m\u001b[0;34m\u001b[0m\u001b[0m\n\u001b[0;32m--> 272\u001b[0;31m         \u001b[0;32mif\u001b[0m \u001b[0maxis_ticklabels_overlap\u001b[0m\u001b[0;34m(\u001b[0m\u001b[0mxtl\u001b[0m\u001b[0;34m)\u001b[0m\u001b[0;34m:\u001b[0m\u001b[0;34m\u001b[0m\u001b[0m\n\u001b[0m\u001b[1;32m    273\u001b[0m             \u001b[0mplt\u001b[0m\u001b[0;34m.\u001b[0m\u001b[0msetp\u001b[0m\u001b[0;34m(\u001b[0m\u001b[0mxtl\u001b[0m\u001b[0;34m,\u001b[0m \u001b[0mrotation\u001b[0m\u001b[0;34m=\u001b[0m\u001b[0;34m\"vertical\"\u001b[0m\u001b[0;34m)\u001b[0m\u001b[0;34m\u001b[0m\u001b[0m\n\u001b[1;32m    274\u001b[0m         \u001b[0;32mif\u001b[0m \u001b[0maxis_ticklabels_overlap\u001b[0m\u001b[0;34m(\u001b[0m\u001b[0mytl\u001b[0m\u001b[0;34m)\u001b[0m\u001b[0;34m:\u001b[0m\u001b[0;34m\u001b[0m\u001b[0m\n",
      "\u001b[0;32m/usr/wisdom/python/lib/python2.7/site-packages/seaborn/utils.pyc\u001b[0m in \u001b[0;36maxis_ticklabels_overlap\u001b[0;34m(labels)\u001b[0m\n\u001b[1;32m    472\u001b[0m     \u001b[0;32mtry\u001b[0m\u001b[0;34m:\u001b[0m\u001b[0;34m\u001b[0m\u001b[0m\n\u001b[1;32m    473\u001b[0m         \u001b[0mbboxes\u001b[0m \u001b[0;34m=\u001b[0m \u001b[0;34m[\u001b[0m\u001b[0ml\u001b[0m\u001b[0;34m.\u001b[0m\u001b[0mget_window_extent\u001b[0m\u001b[0;34m(\u001b[0m\u001b[0;34m)\u001b[0m \u001b[0;32mfor\u001b[0m \u001b[0ml\u001b[0m \u001b[0;32min\u001b[0m \u001b[0mlabels\u001b[0m\u001b[0;34m]\u001b[0m\u001b[0;34m\u001b[0m\u001b[0m\n\u001b[0;32m--> 474\u001b[0;31m         \u001b[0moverlaps\u001b[0m \u001b[0;34m=\u001b[0m \u001b[0;34m[\u001b[0m\u001b[0mb\u001b[0m\u001b[0;34m.\u001b[0m\u001b[0mcount_overlaps\u001b[0m\u001b[0;34m(\u001b[0m\u001b[0mbboxes\u001b[0m\u001b[0;34m)\u001b[0m \u001b[0;32mfor\u001b[0m \u001b[0mb\u001b[0m \u001b[0;32min\u001b[0m \u001b[0mbboxes\u001b[0m\u001b[0;34m]\u001b[0m\u001b[0;34m\u001b[0m\u001b[0m\n\u001b[0m\u001b[1;32m    475\u001b[0m         \u001b[0;32mreturn\u001b[0m \u001b[0mmax\u001b[0m\u001b[0;34m(\u001b[0m\u001b[0moverlaps\u001b[0m\u001b[0;34m)\u001b[0m \u001b[0;34m>\u001b[0m \u001b[0;36m1\u001b[0m\u001b[0;34m\u001b[0m\u001b[0m\n\u001b[1;32m    476\u001b[0m     \u001b[0;32mexcept\u001b[0m \u001b[0mRuntimeError\u001b[0m\u001b[0;34m:\u001b[0m\u001b[0;34m\u001b[0m\u001b[0m\n",
      "\u001b[0;32m/usr/wisdom/python/lib/python2.7/site-packages/matplotlib/transforms.pyc\u001b[0m in \u001b[0;36mcount_overlaps\u001b[0;34m(self, bboxes)\u001b[0m\n\u001b[1;32m    668\u001b[0m         \"\"\"\n\u001b[1;32m    669\u001b[0m         return count_bboxes_overlapping_bbox(\n\u001b[0;32m--> 670\u001b[0;31m             self, np.atleast_3d([np.array(x) for x in bboxes]))\n\u001b[0m\u001b[1;32m    671\u001b[0m \u001b[0;34m\u001b[0m\u001b[0m\n\u001b[1;32m    672\u001b[0m     \u001b[0;32mdef\u001b[0m \u001b[0mexpanded\u001b[0m\u001b[0;34m(\u001b[0m\u001b[0mself\u001b[0m\u001b[0;34m,\u001b[0m \u001b[0msw\u001b[0m\u001b[0;34m,\u001b[0m \u001b[0msh\u001b[0m\u001b[0;34m)\u001b[0m\u001b[0;34m:\u001b[0m\u001b[0;34m\u001b[0m\u001b[0m\n",
      "\u001b[0;32m/usr/wisdom/python/lib/python2.7/site-packages/matplotlib/transforms.pyc\u001b[0m in \u001b[0;36m__array__\u001b[0;34m(self, *args, **kwargs)\u001b[0m\n\u001b[1;32m    279\u001b[0m     \u001b[0mfrozen\u001b[0m\u001b[0;34m.\u001b[0m\u001b[0m__doc__\u001b[0m \u001b[0;34m=\u001b[0m \u001b[0mTransformNode\u001b[0m\u001b[0;34m.\u001b[0m\u001b[0m__doc__\u001b[0m\u001b[0;34m\u001b[0m\u001b[0m\n\u001b[1;32m    280\u001b[0m \u001b[0;34m\u001b[0m\u001b[0m\n\u001b[0;32m--> 281\u001b[0;31m     \u001b[0;32mdef\u001b[0m \u001b[0m__array__\u001b[0m\u001b[0;34m(\u001b[0m\u001b[0mself\u001b[0m\u001b[0;34m,\u001b[0m \u001b[0;34m*\u001b[0m\u001b[0margs\u001b[0m\u001b[0;34m,\u001b[0m \u001b[0;34m**\u001b[0m\u001b[0mkwargs\u001b[0m\u001b[0;34m)\u001b[0m\u001b[0;34m:\u001b[0m\u001b[0;34m\u001b[0m\u001b[0m\n\u001b[0m\u001b[1;32m    282\u001b[0m         \u001b[0;32mreturn\u001b[0m \u001b[0mself\u001b[0m\u001b[0;34m.\u001b[0m\u001b[0mget_points\u001b[0m\u001b[0;34m(\u001b[0m\u001b[0;34m)\u001b[0m\u001b[0;34m\u001b[0m\u001b[0m\n\u001b[1;32m    283\u001b[0m \u001b[0;34m\u001b[0m\u001b[0m\n",
      "\u001b[0;31mKeyboardInterrupt\u001b[0m: "
     ]
    }
   ],
   "source": [
    "#plot clustermap:\n",
    "g = sns.clustermap(sampleBySeq_ss, method='average', metric='jaccard', figsize=None,\n",
    "                   cbar_kws=None, row_cluster=True, col_cluster=False, row_linkage=None,\n",
    "                   col_linkage=None, row_colors=None, col_colors=None, mask=None)\n",
    "plt.show()"
   ]
  },
  {
   "cell_type": "code",
   "execution_count": null,
   "metadata": {
    "ExecuteTime": {
     "end_time": "2019-02-13T16:28:17.332748Z",
     "start_time": "2019-02-13T16:28:00.531232Z"
    }
   },
   "outputs": [],
   "source": [
    "### n shared in 3 samples or more!\n",
    "\n",
    "min_age=50\n",
    "max_age=60\n",
    "nToSample=20\n",
    "nSeqs=7500\n",
    "isRandom=False\n",
    "\n",
    "nSampledShared=5\n",
    "\n",
    "sharing_rate_comparison_PNP_Cardio(AllUniqueWithCounts_path=None,min_age=min_age,max_age=max_age,nToSample=nToSample,\n",
    "                                       nSeqs=nSeqs,nSampledShared=nSampledShared,isRandom=isRandom,random_state_PNP=1,random_state_Cardio=1)"
   ]
  },
  {
   "cell_type": "code",
   "execution_count": null,
   "metadata": {
    "ExecuteTime": {
     "end_time": "2019-02-13T17:34:12.081475Z",
     "start_time": "2019-02-13T17:33:57.228586Z"
    }
   },
   "outputs": [],
   "source": [
    "min_age=50\n",
    "max_age=60\n",
    "nToSample=10\n",
    "nSeqs=12000\n",
    "isRandom=False\n",
    "\n",
    "nSampledShared=4\n",
    "\n",
    "sharing_rate_comparison_PNP_Cardio(AllUniqueWithCounts_path=None,min_age=min_age,max_age=max_age,nToSample=nToSample,\n",
    "                                       nSeqs=nSeqs,nSampledShared=nSampledShared,isRandom=isRandom,random_state_PNP=1,random_state_Cardio=1)"
   ]
  },
  {
   "cell_type": "code",
   "execution_count": null,
   "metadata": {
    "ExecuteTime": {
     "end_time": "2019-02-13T16:31:09.246022Z",
     "start_time": "2019-02-13T16:30:50.062058Z"
    }
   },
   "outputs": [],
   "source": [
    "min_age=50\n",
    "max_age=60\n",
    "nToSample=24\n",
    "nSeqs=4500\n",
    "isRandom=False\n",
    "\n",
    "nSampledShared=2\n",
    "\n",
    "sharing_rate_comparison_PNP_Cardio(AllUniqueWithCounts_path=None,min_age=min_age,max_age=max_age,nToSample=nToSample,\n",
    "                                       nSeqs=nSeqs,nSampledShared=nSampledShared,isRandom=isRandom,random_state_PNP=1,random_state_Cardio=1)"
   ]
  },
  {
   "cell_type": "markdown",
   "metadata": {},
   "source": [
    "## age 45-55"
   ]
  },
  {
   "cell_type": "code",
   "execution_count": null,
   "metadata": {
    "ExecuteTime": {
     "end_time": "2019-02-13T17:36:00.531707Z",
     "start_time": "2019-02-13T17:35:46.789939Z"
    }
   },
   "outputs": [],
   "source": [
    "min_age=45\n",
    "max_age=55\n",
    "nToSample=10\n",
    "nSeqs=9500\n",
    "isRandom=False\n",
    "\n",
    "nSampledShared=4\n",
    "\n",
    "sharing_rate_comparison_PNP_Cardio(AllUniqueWithCounts_path=None,min_age=min_age,max_age=max_age,nToSample=nToSample,\n",
    "                                       nSeqs=nSeqs,nSampledShared=nSampledShared,isRandom=isRandom,random_state_PNP=1,random_state_Cardio=1)"
   ]
  },
  {
   "cell_type": "code",
   "execution_count": null,
   "metadata": {
    "ExecuteTime": {
     "end_time": "2019-02-13T17:26:07.203065Z",
     "start_time": "2019-02-13T17:25:50.874541Z"
    }
   },
   "outputs": [],
   "source": [
    "min_age=45\n",
    "max_age=55\n",
    "nToSample=20\n",
    "nSeqs=6900\n",
    "isRandom=False\n",
    "\n",
    "nSampledShared=5\n",
    "\n",
    "sharing_rate_comparison_PNP_Cardio(AllUniqueWithCounts_path=None,min_age=min_age,max_age=max_age,nToSample=nToSample,\n",
    "                                       nSeqs=nSeqs,nSampledShared=nSampledShared,isRandom=isRandom,random_state_PNP=1,random_state_Cardio=1)"
   ]
  },
  {
   "cell_type": "code",
   "execution_count": null,
   "metadata": {
    "ExecuteTime": {
     "end_time": "2019-02-13T16:08:44.166594Z",
     "start_time": "2019-02-13T16:08:43.987472Z"
    }
   },
   "outputs": [],
   "source": [
    "min_age=45\n",
    "max_age=55\n",
    "nToSample=22\n",
    "nSeqs=2400\n",
    "isRandom=False\n",
    "\n",
    "sharing_rate_comparison_PNP_Cardio(AllUniqueWithCounts_prod=None,min_age=min_age,max_age=max_age,nToSample=nToSample,\n",
    "                                       nSeqs=nSeqs,isRandom=isRandom,random_state_PNP=1,random_state_Cardio=1)"
   ]
  },
  {
   "cell_type": "markdown",
   "metadata": {},
   "source": [
    "## 45-60"
   ]
  },
  {
   "cell_type": "code",
   "execution_count": null,
   "metadata": {
    "ExecuteTime": {
     "end_time": "2019-02-13T16:37:55.792052Z",
     "start_time": "2019-02-13T16:37:40.680047Z"
    }
   },
   "outputs": [],
   "source": [
    "min_age=45\n",
    "max_age=60\n",
    "nToSample=10\n",
    "nSeqs=12400\n",
    "isRandom=False\n",
    "\n",
    "nSampledShared=2\n",
    "\n",
    "sharing_rate_comparison_PNP_Cardio(AllUniqueWithCounts_path=None,min_age=min_age,max_age=max_age,nToSample=nToSample,\n",
    "                                       nSeqs=nSeqs,nSampledShared=nSampledShared,isRandom=isRandom,random_state_PNP=1,random_state_Cardio=1)"
   ]
  },
  {
   "cell_type": "code",
   "execution_count": null,
   "metadata": {
    "ExecuteTime": {
     "end_time": "2019-02-13T16:39:19.032146Z",
     "start_time": "2019-02-13T16:39:01.648871Z"
    }
   },
   "outputs": [],
   "source": [
    "min_age=45\n",
    "max_age=60\n",
    "nToSample=20\n",
    "nSeqs=9000\n",
    "isRandom=False\n",
    "\n",
    "nSampledShared=5\n",
    "\n",
    "sharing_rate_comparison_PNP_Cardio(AllUniqueWithCounts_path=None,min_age=min_age,max_age=max_age,nToSample=nToSample,\n",
    "                                       nSeqs=nSeqs,nSampledShared=nSampledShared,isRandom=isRandom,random_state_PNP=1,random_state_Cardio=1)"
   ]
  },
  {
   "cell_type": "code",
   "execution_count": null,
   "metadata": {
    "ExecuteTime": {
     "end_time": "2019-02-13T16:41:14.187870Z",
     "start_time": "2019-02-13T16:40:53.530370Z"
    }
   },
   "outputs": [],
   "source": [
    "min_age=45\n",
    "max_age=60\n",
    "nToSample=30\n",
    "nSeqs=7200\n",
    "isRandom=False\n",
    "\n",
    "nSampledShared=3\n",
    "\n",
    "sharing_rate_comparison_PNP_Cardio(AllUniqueWithCounts_path=None,min_age=min_age,max_age=max_age,nToSample=nToSample,\n",
    "                                       nSeqs=nSeqs,nSampledShared=nSampledShared,isRandom=isRandom,random_state_PNP=1,random_state_Cardio=1)"
   ]
  },
  {
   "cell_type": "code",
   "execution_count": null,
   "metadata": {
    "ExecuteTime": {
     "end_time": "2019-02-13T16:44:11.092115Z",
     "start_time": "2019-02-13T16:43:49.187942Z"
    }
   },
   "outputs": [],
   "source": [
    "min_age=45\n",
    "max_age=60\n",
    "nToSample=36\n",
    "nSeqs=4700\n",
    "isRandom=False\n",
    "\n",
    "nSampledShared=2\n",
    "\n",
    "sharing_rate_comparison_PNP_Cardio(AllUniqueWithCounts_path=None,min_age=min_age,max_age=max_age,nToSample=nToSample,\n",
    "                                       nSeqs=nSeqs,nSampledShared=nSampledShared,isRandom=isRandom,random_state_PNP=1,random_state_Cardio=1)"
   ]
  },
  {
   "cell_type": "markdown",
   "metadata": {},
   "source": [
    "## age 55-65"
   ]
  },
  {
   "cell_type": "code",
   "execution_count": null,
   "metadata": {
    "ExecuteTime": {
     "end_time": "2019-02-13T17:40:42.748479Z",
     "start_time": "2019-02-13T17:40:26.208702Z"
    }
   },
   "outputs": [],
   "source": [
    "min_age=55\n",
    "max_age=65\n",
    "nToSample=10\n",
    "nSeqs=11500\n",
    "isRandom=False\n",
    "\n",
    "nSampledShared=3\n",
    "\n",
    "sharing_rate_comparison_PNP_Cardio(AllUniqueWithCounts_path=None,min_age=min_age,max_age=max_age,nToSample=nToSample,\n",
    "                                       nSeqs=nSeqs,nSampledShared=nSampledShared,isRandom=isRandom,random_state_PNP=1,random_state_Cardio=1)"
   ]
  },
  {
   "cell_type": "code",
   "execution_count": null,
   "metadata": {
    "ExecuteTime": {
     "end_time": "2019-02-13T13:49:21.630842Z",
     "start_time": "2019-02-13T13:49:04.181315Z"
    }
   },
   "outputs": [],
   "source": [
    "min_age=55\n",
    "max_age=65\n",
    "nToSample=20\n",
    "nSeqs=6500\n",
    "isRandom=False\n",
    "\n",
    "sharing_rate_comparison_PNP_Cardio(AllUniqueWithCounts_prod=None,min_age=min_age,max_age=max_age,nToSample=nToSample,\n",
    "                                       nSeqs=nSeqs,isRandom=isRandom,random_state_PNP=1,random_state_Cardio=1)"
   ]
  },
  {
   "cell_type": "code",
   "execution_count": null,
   "metadata": {
    "ExecuteTime": {
     "end_time": "2019-02-13T13:49:42.563331Z",
     "start_time": "2019-02-13T13:49:25.025520Z"
    }
   },
   "outputs": [],
   "source": [
    "min_age=55\n",
    "max_age=65\n",
    "nToSample=26\n",
    "nSeqs=2700\n",
    "isRandom=False\n",
    "\n",
    "sharing_rate_comparison_PNP_Cardio(AllUniqueWithCounts_prod=None,min_age=min_age,max_age=max_age,nToSample=nToSample,\n",
    "                                       nSeqs=nSeqs,isRandom=isRandom,random_state_PNP=1,random_state_Cardio=1)"
   ]
  },
  {
   "cell_type": "markdown",
   "metadata": {},
   "source": [
    "## age 60-70"
   ]
  },
  {
   "cell_type": "code",
   "execution_count": null,
   "metadata": {
    "ExecuteTime": {
     "end_time": "2019-02-13T17:35:01.306785Z",
     "start_time": "2019-02-13T17:34:47.677001Z"
    }
   },
   "outputs": [],
   "source": [
    "min_age=60\n",
    "max_age=70\n",
    "nToSample=10\n",
    "nSeqs=8300\n",
    "isRandom=False\n",
    "\n",
    "nSampledShared=4\n",
    "\n",
    "sharing_rate_comparison_PNP_Cardio(AllUniqueWithCounts_path=None,min_age=min_age,max_age=max_age,nToSample=nToSample,\n",
    "                                       nSeqs=nSeqs,nSampledShared=nSampledShared,isRandom=isRandom,random_state_PNP=1,random_state_Cardio=1)"
   ]
  },
  {
   "cell_type": "code",
   "execution_count": null,
   "metadata": {
    "ExecuteTime": {
     "end_time": "2019-02-13T16:37:03.912377Z",
     "start_time": "2019-02-13T16:36:48.663757Z"
    }
   },
   "outputs": [],
   "source": [
    "min_age=60\n",
    "max_age=70\n",
    "nToSample=20\n",
    "nSeqs=3300\n",
    "isRandom=False\n",
    "\n",
    "nSampledShared=4\n",
    "\n",
    "sharing_rate_comparison_PNP_Cardio(AllUniqueWithCounts_path=None,min_age=min_age,max_age=max_age,nToSample=nToSample,\n",
    "                                       nSeqs=nSeqs,nSampledShared=nSampledShared,isRandom=isRandom,random_state_PNP=1,random_state_Cardio=1)"
   ]
  },
  {
   "cell_type": "markdown",
   "metadata": {},
   "source": [
    "## age 45-70"
   ]
  },
  {
   "cell_type": "code",
   "execution_count": 115,
   "metadata": {
    "ExecuteTime": {
     "end_time": "2019-02-24T12:34:45.700116Z",
     "start_time": "2019-02-24T12:34:25.657487Z"
    }
   },
   "outputs": [
    {
     "name": "stdout",
     "output_type": "stream",
     "text": [
      "age data\n",
      "(656, 1)\n",
      "        Age\n",
      "BD         \n",
      "BD406  65.0\n",
      "BD228  32.0\n",
      "BD714  39.0\n",
      "BD808  26.0\n",
      "BD144  36.0\n",
      "gender data\n",
      "(656, 1)\n",
      "       Gender_Male\n",
      "BD                \n",
      "BD406            0\n",
      "BD228            1\n",
      "BD714            1\n",
      "BD808            0\n",
      "BD144            0\n",
      "isCardio data\n",
      "merging all\n",
      "(652, 3)\n",
      "        Age  Gender_Male  isCardio\n",
      "BD406  65.0            0         0\n",
      "BD228  32.0            1         0\n",
      "BD714  39.0            1         0\n",
      "BD808  26.0            0         0\n",
      "BD144  36.0            0         0\n",
      "AllUniqueWithCounts\n",
      "(7864153, 5)\n",
      "              frequencyCount (%)  prod_stat Sample  nShared  isPublic\n",
      "***ADGPYEQYV            0.009748          0  BD463        1         0\n",
      "**AGGEQYF               0.003249          0  BD856        1         0\n",
      "**EDKSGPQYF             0.003275          0  BD944        1         0\n",
      "**EQFF                  0.003405          0  BD845        1         0\n",
      "**ERWVPDTQYF            0.003868          0  BD565        1         0\n",
      "AllUniqueWithCounts_prod\n",
      "(7700449, 5)\n",
      "               frequencyCount (%)  prod_stat Sample  nShared  isPublic\n",
      "AAAWYYSYEQYF             0.006903          1  BD543        1         0\n",
      "AAGQRSGDTQYF             0.005533          1  BD487        1         0\n",
      "AARERKETQYF              0.006866          1  BD432        1         0\n",
      "AARQTSTDTQYF             0.006999          1  BD939        1         0\n",
      "AASGQDQFHEQYF            0.002622          1   BD30        1         0\n",
      "PNP samples\n",
      "('relatives in list: ', [])\n",
      "removing samples that are not in AllUniqueWithCounts_prod:\n",
      "(57, 3)\n",
      "        Age  Gender_Male  isCardio\n",
      "BD801  58.0            1         0\n",
      "BD221  55.0            1         0\n",
      "BD631  59.0            1         0\n",
      "BD441  50.0            1         0\n",
      "BD834  65.0            1         0\n",
      "getting stats on PNP samples:\n",
      "count       57.000000\n",
      "mean     10425.614035\n",
      "std       4880.671510\n",
      "min       2729.000000\n",
      "25%       6788.000000\n",
      "50%       9856.000000\n",
      "75%      13380.000000\n",
      "max      25577.000000\n",
      "Name: isPublic, dtype: float64\n",
      "('n seqs in 10th sample= ', 14266)\n",
      "('n seqs in 20th sample= ', 12674)\n",
      "('n seqs in 30th sample= ', 9604)\n",
      "('n seqs in 10th sample= ', 14266)\n"
     ]
    },
    {
     "data": {
      "image/png": "[encoded data removed]",
      "text/plain": [
       "<matplotlib.figure.Figure at 0x7f54bd64ca50>"
      ]
     },
     "metadata": {},
     "output_type": "display_data"
    },
    {
     "name": "stdout",
     "output_type": "stream",
     "text": [
      "cardio samples\n",
      "removing samples that are not in AllUniqueWithCounts_prod:\n",
      "(96, 3)\n",
      "         Age  Gender_Male  isCardio\n",
      "BD1014  65.0            1         1\n",
      "BD1068  57.0            1         1\n",
      "BD1061  54.0            1         1\n",
      "BD996   61.0            1         1\n",
      "BD1053  63.0            1         1\n",
      "getting stats on Cardio samples:\n",
      "count       96.000000\n",
      "mean      8326.437500\n",
      "std       3902.313888\n",
      "min       1894.000000\n",
      "25%       5592.500000\n",
      "50%       7831.000000\n",
      "75%       9927.750000\n",
      "max      21023.000000\n",
      "Name: isPublic, dtype: float64\n",
      "('n seqs in 10th sample= ', 13821)\n",
      "('n seqs in 20th sample= ', 11630)\n",
      "('n seqs in 30th sample= ', 9548)\n",
      "('n seqs in 10th sample= ', 13821)\n"
     ]
    },
    {
     "data": {
      "image/png": "[encoded data removed]",
      "text/plain": [
       "<matplotlib.figure.Figure at 0x7f54c0b0f390>"
      ]
     },
     "metadata": {},
     "output_type": "display_data"
    },
    {
     "name": "stdout",
     "output_type": "stream",
     "text": [
      "There are more samples with the desired number of seqs than the number of desired samples (PNP)\n",
      "selecting 10 samples with the highest number of sequences\n",
      "(10, 3)\n",
      "         Age  Gender_Male  isCardio\n",
      "Sample                             \n",
      "BD27    53.0            1         0\n",
      "BD124   59.0            1         0\n",
      "BD106   63.0            1         0\n",
      "BD19    55.0            1         0\n",
      "BD935   47.0            1         0\n",
      "There are more samples with the desired number of seqs than the number of desired samples (Cardio)\n",
      "selecting 10 samples with the highest number of sequences\n",
      "(10, 3)\n",
      "         Age  Gender_Male  isCardio\n",
      "Sample                             \n",
      "BD1083  52.0            1         1\n",
      "BD984   62.0            1         1\n",
      "BD1081  52.0            1         1\n",
      "BD1076  66.0            1         1\n",
      "BD1099  56.0            1         1\n",
      "comparing age distribution\n"
     ]
    },
    {
     "data": {
      "image/png": "[encoded data removed]",
      "text/plain": [
       "<matplotlib.figure.Figure at 0x7f54c3080450>"
      ]
     },
     "metadata": {},
     "output_type": "display_data"
    },
    {
     "name": "stdout",
     "output_type": "stream",
     "text": [
      "('n samples in PNP sample list: ', 10)\n",
      "('n samples in Cardio sample list: ', 10)\n",
      "('n samples in PNP sample list: ', 10)\n",
      "('n samples in Cardio sample list: ', 10)\n",
      "('PNP_data.Sample.nunique(): ', 10)\n",
      "('Cardio_data.Sample.nunique(): ', 10)\n",
      "generating df containing selected PNP and Cardio samples...\n",
      "(341391, 5)\n",
      "                frequencyCount (%)  prod_stat Sample  nShared  isPublic\n",
      "AGELFF                    0.005939          1  BD124        1         0\n",
      "AGVSPYEQYF                0.003224          1  BD221        1         0\n",
      "AGYYEQYF                  0.002414          1   BD27        1         0\n",
      "APPRGGSYYGYTF             0.002650          1   BD19        1         0\n",
      "CAAAAAGGTYEQYF            0.002414          1   BD27        1         0\n",
      "subsampling sequences...\n",
      "0\n",
      "10\n",
      "concatenating subsampled dfs\n",
      "(270000, 5)\n",
      "                  frequencyCount (%)  prod_stat Sample  nShared  isPublic\n",
      "CASTTGTSEYEQYF              0.001980          1  BD124        1         0\n",
      "CASSRAGGGTGELFF             0.003959          1  BD124        4         1\n",
      "CASSFLAGRDTGELFF            0.001980          1  BD124        1         0\n",
      "CASSQQGEKLFF                0.003959          1  BD124       13         1\n",
      "CASSPMGLGYGYTF              0.001980          1  BD124        2         1\n",
      "******dataset: Healthy********\n",
      "(10, 131338)\n",
      "index   AGELFF  AGVSPYEQYF  AGYYEQYF  CAAADRVPFARKNIQYF  CAAAEGPETEAFF\n",
      "Sample                                                                \n",
      "BD106      0.0         0.0       0.0                0.0            0.0\n",
      "BD124      1.0         0.0       0.0                0.0            0.0\n",
      "BD150      0.0         0.0       0.0                0.0            0.0\n",
      "BD19       0.0         0.0       0.0                0.0            1.0\n",
      "BD221      0.0         1.0       0.0                1.0            0.0\n",
      "1.0\n",
      "8.0\n",
      "('sampleBySeq_ss.shape:', (10, 131338))\n",
      "('sampleBySeq_ss_public.shape:', (10, 2923))\n",
      "('merged.shape:', (10, 2))\n",
      "merged:\n",
      "         seqSum  publicSeqSum  perc_public\n",
      "Sample                                    \n",
      "BD106   13500.0         693.0     5.133333\n",
      "BD124   13500.0         622.0     4.607407\n",
      "BD150   13500.0         668.0     4.948148\n",
      "BD19    13500.0         651.0     4.822222\n",
      "BD221   13500.0         678.0     5.022222\n",
      "BD27    13500.0         649.0     4.807407\n",
      "BD369   13500.0         698.0     5.170370\n",
      "BD859   13500.0         617.0     4.570370\n",
      "BD909   13500.0         634.0     4.696296\n",
      "BD935   13500.0         675.0     5.000000\n",
      "('perc_public_list[:10]: ', [5.133333333333334, 4.607407407407408, 4.948148148148148, 4.822222222222222, 5.022222222222222, 4.807407407407408, 5.17037037037037, 4.57037037037037, 4.696296296296296, 5.0])\n",
      "******dataset: Patients********\n",
      "(10, 131224)\n",
      "index   ANRGLQETQYF  APAAQVSLGTDTQYF  ATTDRVGETQYF  CAAAKRWSPNYGYTF  CAAALSGGKQFF\n",
      "Sample                                                                           \n",
      "BD1011          0.0              0.0           0.0              0.0           1.0\n",
      "BD1037          0.0              0.0           0.0              0.0           0.0\n",
      "BD1053          0.0              0.0           0.0              0.0           0.0\n",
      "BD1075          0.0              0.0           0.0              0.0           0.0\n",
      "BD1076          0.0              0.0           1.0              0.0           0.0\n",
      "1.0\n",
      "8.0\n",
      "('sampleBySeq_ss.shape:', (10, 131224))\n",
      "('sampleBySeq_ss_public.shape:', (10, 3010))\n",
      "('merged.shape:', (10, 2))\n",
      "merged:\n",
      "         seqSum  publicSeqSum  perc_public\n",
      "Sample                                    \n",
      "BD1011  13500.0         683.0     5.059259\n",
      "BD1037  13500.0         699.0     5.177778\n",
      "BD1053  13500.0         695.0     5.148148\n",
      "BD1075  13500.0         650.0     4.814815\n",
      "BD1076  13500.0         654.0     4.844444\n",
      "BD1081  13500.0         633.0     4.688889\n",
      "BD1083  13500.0         694.0     5.140741\n",
      "BD1099  13500.0         745.0     5.518519\n",
      "BD982   13500.0         673.0     4.985185\n",
      "BD984   13500.0         660.0     4.888889\n",
      "('perc_public_list[:10]: ', [5.059259259259259, 5.177777777777778, 5.148148148148148, 4.814814814814815, 4.844444444444444, 4.688888888888889, 5.140740740740741, 5.518518518518518, 4.985185185185185, 4.888888888888889])\n",
      "generating kde plot\n",
      "generating kde plot\n"
     ]
    },
    {
     "data": {
      "image/png": "[encoded data removed]",
      "text/plain": [
       "<matplotlib.figure.Figure at 0x7f54c33c1cd0>"
      ]
     },
     "metadata": {},
     "output_type": "display_data"
    },
    {
     "data": {
      "text/plain": [
       "(<matplotlib.figure.Figure at 0x7f54c33c1cd0>,\n",
       " <matplotlib.axes._subplots.AxesSubplot at 0x7f54c31b2a90>,\n",
       " index   ANRGLQETQYF  APAAQVSLGTDTQYF  ATTDRVGETQYF  CAAAKRWSPNYGYTF  CAAALSGGKQFF  CAAAPGQNNEQFF  CAAAREVQNTEAFF  CAAARGVATDTQYF  CAAASGRYNEQFF  CAAASLDTQYF      ...        YPF  YPFSGDGYEQYF  YPSSGRRYYGPDTQYF  YSAPPRGVGEQFF  YSARDVNGLAGNEQFF  YSARSGSQLTSYNEQFF  YSARTYGETQYF  YSSAGPEKLFF  YSSEVLMGKTYGYTF  YSSLLGKTYGYTF\n",
       " Sample                                                                                                                                                            ...                                                                                                                                                          \n",
       " BD1011          0.0              0.0           0.0              0.0           1.0            0.0             0.0             0.0            0.0          0.0      ...        0.0           0.0               0.0            0.0               0.0                0.0           1.0          0.0              1.0            0.0\n",
       " BD1037          0.0              0.0           0.0              0.0           0.0            0.0             0.0             0.0            0.0          0.0      ...        0.0           1.0               0.0            0.0               0.0                1.0           0.0          0.0              0.0            1.0\n",
       " BD1053          0.0              0.0           0.0              0.0           0.0            0.0             0.0             0.0            0.0          1.0      ...        0.0           0.0               0.0            0.0               0.0                0.0           0.0          0.0              0.0            0.0\n",
       " BD1075          0.0              0.0           0.0              0.0           0.0            0.0             0.0             0.0            0.0          0.0      ...        0.0           0.0               1.0            0.0               0.0                0.0           0.0          1.0              0.0            0.0\n",
       " BD1076          0.0              0.0           1.0              0.0           0.0            0.0             0.0             0.0            0.0          0.0      ...        0.0           0.0               0.0            1.0               0.0                0.0           0.0          0.0              0.0            0.0\n",
       " BD1081          0.0              0.0           0.0              0.0           0.0            0.0             0.0             0.0            0.0          0.0      ...        0.0           0.0               0.0            0.0               0.0                0.0           0.0          0.0              0.0            0.0\n",
       " BD1083          0.0              1.0           0.0              0.0           0.0            0.0             0.0             0.0            0.0          0.0      ...        0.0           0.0               0.0            0.0               1.0                0.0           0.0          0.0              0.0            0.0\n",
       " BD1099          0.0              0.0           0.0              0.0           0.0            0.0             1.0             0.0            0.0          0.0      ...        0.0           0.0               0.0            0.0               0.0                0.0           0.0          0.0              0.0            0.0\n",
       " BD982           0.0              0.0           0.0              1.0           0.0            0.0             0.0             1.0            0.0          0.0      ...        1.0           0.0               0.0            0.0               0.0                0.0           0.0          0.0              0.0            0.0\n",
       " BD984           1.0              0.0           0.0              0.0           0.0            1.0             0.0             0.0            1.0          0.0      ...        0.0           0.0               0.0            0.0               0.0                0.0           0.0          0.0              0.0            0.0\n",
       " \n",
       " [10 rows x 131224 columns])"
      ]
     },
     "execution_count": 115,
     "metadata": {},
     "output_type": "execute_result"
    }
   ],
   "source": [
    "min_age=45\n",
    "max_age=70\n",
    "nToSample=10\n",
    "nSeqs=13500\n",
    "isRandom=False\n",
    "\n",
    "nSampledShared=2\n",
    "\n",
    "sharing_rate_comparison_PNP_Cardio(AllUniqueWithCounts_path=None,min_age=min_age,max_age=max_age,nToSample=nToSample,\n",
    "                                       nSeqs=nSeqs,nSampledShared=nSampledShared,isRandom=isRandom,random_state_PNP=1,random_state_Cardio=1)"
   ]
  },
  {
   "cell_type": "code",
   "execution_count": 117,
   "metadata": {
    "ExecuteTime": {
     "end_time": "2019-02-24T12:38:28.619797Z",
     "start_time": "2019-02-24T12:38:09.466754Z"
    }
   },
   "outputs": [
    {
     "name": "stdout",
     "output_type": "stream",
     "text": [
      "age data\n",
      "(656, 1)\n",
      "        Age\n",
      "BD         \n",
      "BD406  65.0\n",
      "BD228  32.0\n",
      "BD714  39.0\n",
      "BD808  26.0\n",
      "BD144  36.0\n",
      "gender data\n",
      "(656, 1)\n",
      "       Gender_Male\n",
      "BD                \n",
      "BD406            0\n",
      "BD228            1\n",
      "BD714            1\n",
      "BD808            0\n",
      "BD144            0\n",
      "isCardio data\n",
      "merging all\n",
      "(652, 3)\n",
      "        Age  Gender_Male  isCardio\n",
      "BD406  65.0            0         0\n",
      "BD228  32.0            1         0\n",
      "BD714  39.0            1         0\n",
      "BD808  26.0            0         0\n",
      "BD144  36.0            0         0\n",
      "AllUniqueWithCounts\n",
      "(7864153, 5)\n",
      "              frequencyCount (%)  prod_stat Sample  nShared  isPublic\n",
      "***ADGPYEQYV            0.009748          0  BD463        1         0\n",
      "**AGGEQYF               0.003249          0  BD856        1         0\n",
      "**EDKSGPQYF             0.003275          0  BD944        1         0\n",
      "**EQFF                  0.003405          0  BD845        1         0\n",
      "**ERWVPDTQYF            0.003868          0  BD565        1         0\n",
      "AllUniqueWithCounts_prod\n",
      "(7700449, 5)\n",
      "               frequencyCount (%)  prod_stat Sample  nShared  isPublic\n",
      "AAAWYYSYEQYF             0.006903          1  BD543        1         0\n",
      "AAGQRSGDTQYF             0.005533          1  BD487        1         0\n",
      "AARERKETQYF              0.006866          1  BD432        1         0\n",
      "AARQTSTDTQYF             0.006999          1  BD939        1         0\n",
      "AASGQDQFHEQYF            0.002622          1   BD30        1         0\n",
      "PNP samples\n",
      "('relatives in list: ', [])\n",
      "removing samples that are not in AllUniqueWithCounts_prod:\n",
      "(57, 3)\n",
      "        Age  Gender_Male  isCardio\n",
      "BD801  58.0            1         0\n",
      "BD221  55.0            1         0\n",
      "BD631  59.0            1         0\n",
      "BD441  50.0            1         0\n",
      "BD834  65.0            1         0\n",
      "getting stats on PNP samples:\n",
      "count       57.000000\n",
      "mean     10425.614035\n",
      "std       4880.671510\n",
      "min       2729.000000\n",
      "25%       6788.000000\n",
      "50%       9856.000000\n",
      "75%      13380.000000\n",
      "max      25577.000000\n",
      "Name: isPublic, dtype: float64\n",
      "('n seqs in 10th sample= ', 14266)\n",
      "('n seqs in 20th sample= ', 12674)\n",
      "('n seqs in 30th sample= ', 9604)\n",
      "('n seqs in 20th sample= ', 12674)\n"
     ]
    },
    {
     "data": {
      "image/png": "[encoded data removed]",
      "text/plain": [
       "<matplotlib.figure.Figure at 0x7f54badab8d0>"
      ]
     },
     "metadata": {},
     "output_type": "display_data"
    },
    {
     "name": "stdout",
     "output_type": "stream",
     "text": [
      "cardio samples\n",
      "removing samples that are not in AllUniqueWithCounts_prod:\n",
      "(96, 3)\n",
      "         Age  Gender_Male  isCardio\n",
      "BD1014  65.0            1         1\n",
      "BD1068  57.0            1         1\n",
      "BD1061  54.0            1         1\n",
      "BD996   61.0            1         1\n",
      "BD1053  63.0            1         1\n",
      "getting stats on Cardio samples:\n",
      "count       96.000000\n",
      "mean      8326.437500\n",
      "std       3902.313888\n",
      "min       1894.000000\n",
      "25%       5592.500000\n",
      "50%       7831.000000\n",
      "75%       9927.750000\n",
      "max      21023.000000\n",
      "Name: isPublic, dtype: float64\n",
      "('n seqs in 10th sample= ', 13821)\n",
      "('n seqs in 20th sample= ', 11630)\n",
      "('n seqs in 30th sample= ', 9548)\n",
      "('n seqs in 20th sample= ', 11630)\n"
     ]
    },
    {
     "data": {
      "image/png": "[encoded data removed]",
      "text/plain": [
       "<matplotlib.figure.Figure at 0x7f54bad49550>"
      ]
     },
     "metadata": {},
     "output_type": "display_data"
    },
    {
     "name": "stdout",
     "output_type": "stream",
     "text": [
      "There are more samples with the desired number of seqs than the number of desired samples (PNP)\n",
      "selecting 20 samples with the highest number of sequences\n",
      "(20, 3)\n",
      "         Age  Gender_Male  isCardio\n",
      "Sample                             \n",
      "BD27    53.0            1         0\n",
      "BD124   59.0            1         0\n",
      "BD106   63.0            1         0\n",
      "BD19    55.0            1         0\n",
      "BD935   47.0            1         0\n",
      "There are more samples with the desired number of seqs than the number of desired samples (Cardio)\n",
      "selecting 20 samples with the highest number of sequences\n",
      "(20, 3)\n",
      "         Age  Gender_Male  isCardio\n",
      "Sample                             \n",
      "BD1083  52.0            1         1\n",
      "BD984   62.0            1         1\n",
      "BD1081  52.0            1         1\n",
      "BD1076  66.0            1         1\n",
      "BD1099  56.0            1         1\n",
      "comparing age distribution\n"
     ]
    },
    {
     "data": {
      "image/png": "[encoded data removed]",
      "text/plain": [
       "<matplotlib.figure.Figure at 0x7f54c0bfad10>"
      ]
     },
     "metadata": {},
     "output_type": "display_data"
    },
    {
     "name": "stdout",
     "output_type": "stream",
     "text": [
      "('n samples in PNP sample list: ', 20)\n",
      "('n samples in Cardio sample list: ', 20)\n",
      "('n samples in PNP sample list: ', 20)\n",
      "('n samples in Cardio sample list: ', 20)\n",
      "('PNP_data.Sample.nunique(): ', 20)\n",
      "('Cardio_data.Sample.nunique(): ', 20)\n",
      "generating df containing selected PNP and Cardio samples...\n",
      "(600472, 5)\n",
      "             frequencyCount (%)  prod_stat Sample  nShared  isPublic\n",
      "ADTQYF                 0.003792          1  BD810        3         1\n",
      "AGELFF                 0.005939          1  BD124        1         0\n",
      "AGGPSDGEQFF            0.003201          1  BD908        1         0\n",
      "AGVSPYEQYF             0.003224          1  BD221        1         0\n",
      "AGYYEQYF               0.002414          1   BD27        1         0\n",
      "subsampling sequences...\n",
      "0\n",
      "10\n",
      "20\n",
      "30\n",
      "concatenating subsampled dfs\n",
      "(460000, 5)\n",
      "                   frequencyCount (%)  prod_stat Sample  nShared  isPublic\n",
      "CASSLALRASGRNEQYF            0.015167          1  BD810        1         0\n",
      "CASIRGRDTGELFF               0.003792          1  BD810        5         1\n",
      "CASSPPSGSNSNEQFF             0.003792          1  BD810        1         0\n",
      "CASSLAAENTEAFF               0.003792          1  BD810        7         1\n",
      "CASSLLGTDTQYF                0.003792          1  BD810       82         1\n",
      "******dataset: Healthy********\n",
      "(20, 219955)\n",
      "index   AGELFF  AGYYEQYF  APAACGPDSGRLIGQYF  APVGWDNTYEQYF  AQGAGGTEAFF\n",
      "Sample                                                                 \n",
      "BD106      0.0       0.0                0.0            0.0          0.0\n",
      "BD124      1.0       0.0                0.0            0.0          0.0\n",
      "BD149      0.0       0.0                0.0            0.0          0.0\n",
      "BD150      0.0       0.0                0.0            0.0          0.0\n",
      "BD19       0.0       0.0                0.0            0.0          0.0\n",
      "1.0\n",
      "13.0\n",
      "('sampleBySeq_ss.shape:', (20, 219955))\n",
      "('sampleBySeq_ss_public.shape:', (20, 7155))\n",
      "('merged.shape:', (20, 2))\n",
      "merged:\n",
      "         seqSum  publicSeqSum  perc_public\n",
      "Sample                                    \n",
      "BD106   11500.0         882.0     7.669565\n",
      "BD124   11500.0         834.0     7.252174\n",
      "BD149   11500.0         839.0     7.295652\n",
      "BD150   11500.0         836.0     7.269565\n",
      "BD19    11500.0         816.0     7.095652\n",
      "BD221   11500.0         916.0     7.965217\n",
      "BD27    11500.0         833.0     7.243478\n",
      "BD273   11500.0         829.0     7.208696\n",
      "BD369   11500.0         909.0     7.904348\n",
      "BD422   11500.0         822.0     7.147826\n",
      "('perc_public_list[:10]: ', [7.6695652173913045, 7.252173913043478, 7.2956521739130435, 7.269565217391304, 7.095652173913043, 7.965217391304348, 7.243478260869566, 7.208695652173913, 7.904347826086957, 7.147826086956521])\n",
      "******dataset: Patients********\n",
      "(20, 219908)\n",
      "index   AEGEKRADTQYF  ALGYTF  ANRGLQETQYF  ANYGYTF  APAAPTPPYCGYTF\n",
      "Sample                                                            \n",
      "BD1011           0.0     0.0          0.0      0.0             0.0\n",
      "BD1031           0.0     1.0          0.0      0.0             0.0\n",
      "BD1037           0.0     0.0          0.0      0.0             0.0\n",
      "BD1053           0.0     0.0          0.0      0.0             0.0\n",
      "BD1075           0.0     0.0          0.0      0.0             0.0\n",
      "1.0\n",
      "13.0\n",
      "('sampleBySeq_ss.shape:', (20, 219908))\n",
      "('sampleBySeq_ss_public.shape:', (20, 7257))\n",
      "('merged.shape:', (20, 2))\n",
      "merged:\n",
      "         seqSum  publicSeqSum  perc_public\n",
      "Sample                                    \n",
      "BD1011  11500.0         878.0     7.634783\n",
      "BD1031  11500.0         875.0     7.608696\n",
      "BD1037  11500.0         909.0     7.904348\n",
      "BD1053  11500.0         897.0     7.800000\n",
      "BD1075  11500.0         849.0     7.382609\n",
      "BD1076  11500.0         832.0     7.234783\n",
      "BD1081  11500.0         838.0     7.286957\n",
      "BD1083  11500.0         874.0     7.600000\n",
      "BD1084  11500.0         835.0     7.260870\n",
      "BD1086  11500.0         915.0     7.956522\n",
      "('perc_public_list[:10]: ', [7.6347826086956525, 7.608695652173913, 7.904347826086957, 7.8, 7.3826086956521735, 7.234782608695652, 7.28695652173913, 7.6, 7.260869565217392, 7.956521739130435])\n",
      "generating kde plot\n",
      "generating kde plot\n"
     ]
    },
    {
     "data": {
      "image/png": "[encoded data removed]",
      "text/plain": [
       "<matplotlib.figure.Figure at 0x7f54c331a990>"
      ]
     },
     "metadata": {},
     "output_type": "display_data"
    },
    {
     "data": {
      "text/plain": [
       "(<matplotlib.figure.Figure at 0x7f54c331a990>,\n",
       " <matplotlib.axes._subplots.AxesSubplot at 0x7f54c30a6950>,\n",
       " index   AEGEKRADTQYF  ALGYTF  ANRGLQETQYF  ANYGYTF  APAAPTPPYCGYTF  APAAQVSLGTDTQYF  APAAWNLGGAGYTF  APEQYF  APTRTCPYEQYF  ASGRAGASSTDTQYF          ...            YSAQVQGIPDTQYF  YSARQTSGGDTQYF  YSARSGSQLTSYNEQFF  YSARTYGETQYF  YSSAGPEKLFF  YSSEVLMGKTYGYTF  YSSKLYIGQSRANVLTF  YSSLLGKTYGYTF  YSSVNFSGQSRANVLTF  YSVPPSRIQGTIQSGANVLTF\n",
       " Sample                                                                                                                                              ...                                                                                                                                                                                     \n",
       " BD1011           0.0     0.0          0.0      0.0             0.0              0.0             0.0     0.0           0.0              0.0          ...                       0.0             0.0                0.0           1.0          0.0              1.0                0.0            0.0                0.0                    0.0\n",
       " BD1031           0.0     1.0          0.0      0.0             0.0              0.0             0.0     0.0           0.0              0.0          ...                       0.0             0.0                0.0           0.0          0.0              0.0                0.0            0.0                0.0                    0.0\n",
       " BD1037           0.0     0.0          0.0      0.0             0.0              0.0             0.0     0.0           0.0              0.0          ...                       0.0             0.0                1.0           0.0          0.0              0.0                0.0            1.0                0.0                    0.0\n",
       " BD1053           0.0     0.0          0.0      0.0             0.0              0.0             0.0     0.0           0.0              0.0          ...                       0.0             0.0                0.0           0.0          0.0              0.0                0.0            0.0                0.0                    0.0\n",
       " BD1075           0.0     0.0          0.0      0.0             0.0              0.0             0.0     0.0           0.0              0.0          ...                       0.0             0.0                0.0           0.0          1.0              0.0                0.0            0.0                0.0                    0.0\n",
       " BD1076           0.0     0.0          0.0      0.0             0.0              0.0             0.0     0.0           0.0              0.0          ...                       0.0             0.0                0.0           0.0          0.0              0.0                0.0            0.0                0.0                    0.0\n",
       " BD1081           0.0     0.0          0.0      0.0             0.0              0.0             0.0     0.0           0.0              0.0          ...                       0.0             0.0                0.0           0.0          0.0              0.0                0.0            0.0                0.0                    0.0\n",
       " BD1083           0.0     0.0          0.0      0.0             0.0              1.0             0.0     0.0           0.0              0.0          ...                       0.0             0.0                0.0           0.0          0.0              0.0                0.0            0.0                0.0                    0.0\n",
       " BD1084           0.0     0.0          0.0      0.0             0.0              0.0             0.0     0.0           1.0              0.0          ...                       0.0             0.0                0.0           0.0          0.0              0.0                0.0            0.0                0.0                    0.0\n",
       " BD1086           1.0     0.0          0.0      0.0             0.0              0.0             0.0     0.0           0.0              0.0          ...                       0.0             0.0                0.0           0.0          0.0              0.0                0.0            0.0                0.0                    0.0\n",
       " BD1088           0.0     0.0          0.0      0.0             0.0              0.0             1.0     0.0           0.0              1.0          ...                       0.0             0.0                0.0           0.0          0.0              0.0                0.0            0.0                1.0                    1.0\n",
       " BD1089           0.0     0.0          0.0      0.0             1.0              0.0             0.0     1.0           0.0              0.0          ...                       0.0             1.0                0.0           0.0          0.0              0.0                0.0            0.0                0.0                    0.0\n",
       " BD1097           0.0     0.0          0.0      0.0             0.0              0.0             0.0     0.0           0.0              0.0          ...                       0.0             0.0                0.0           0.0          0.0              0.0                0.0            0.0                0.0                    0.0\n",
       " BD1099           0.0     0.0          0.0      0.0             0.0              0.0             0.0     0.0           0.0              0.0          ...                       0.0             0.0                0.0           0.0          0.0              0.0                0.0            0.0                0.0                    0.0\n",
       " BD960            0.0     0.0          0.0      0.0             0.0              0.0             0.0     0.0           0.0              0.0          ...                       0.0             0.0                0.0           0.0          0.0              0.0                0.0            0.0                0.0                    0.0\n",
       " BD965            0.0     0.0          0.0      0.0             0.0              0.0             0.0     0.0           0.0              0.0          ...                       1.0             0.0                0.0           0.0          0.0              0.0                0.0            0.0                0.0                    0.0\n",
       " BD982            0.0     0.0          0.0      0.0             0.0              0.0             0.0     0.0           0.0              0.0          ...                       0.0             0.0                0.0           0.0          0.0              0.0                0.0            0.0                0.0                    0.0\n",
       " BD984            0.0     0.0          1.0      0.0             0.0              0.0             0.0     0.0           0.0              0.0          ...                       0.0             0.0                0.0           0.0          0.0              0.0                0.0            0.0                0.0                    0.0\n",
       " BD985            0.0     0.0          0.0      0.0             0.0              0.0             0.0     0.0           0.0              0.0          ...                       0.0             0.0                0.0           0.0          0.0              0.0                0.0            0.0                0.0                    0.0\n",
       " BD998            0.0     0.0          0.0      1.0             0.0              0.0             0.0     0.0           0.0              0.0          ...                       0.0             0.0                0.0           0.0          0.0              0.0                1.0            0.0                0.0                    0.0\n",
       " \n",
       " [20 rows x 219908 columns])"
      ]
     },
     "execution_count": 117,
     "metadata": {},
     "output_type": "execute_result"
    }
   ],
   "source": [
    "min_age=45\n",
    "max_age=70\n",
    "nToSample=20\n",
    "nSeqs=11500\n",
    "isRandom=False\n",
    "\n",
    "nSampledShared=2\n",
    "\n",
    "sharing_rate_comparison_PNP_Cardio(AllUniqueWithCounts_path=None,min_age=min_age,max_age=max_age,nToSample=nToSample,\n",
    "                                       nSeqs=nSeqs,nSampledShared=nSampledShared,isRandom=isRandom,random_state_PNP=1,random_state_Cardio=1)"
   ]
  },
  {
   "cell_type": "code",
   "execution_count": 118,
   "metadata": {
    "ExecuteTime": {
     "end_time": "2019-02-24T12:39:56.914191Z",
     "start_time": "2019-02-24T12:39:35.854113Z"
    }
   },
   "outputs": [
    {
     "name": "stdout",
     "output_type": "stream",
     "text": [
      "age data\n",
      "(656, 1)\n",
      "        Age\n",
      "BD         \n",
      "BD406  65.0\n",
      "BD228  32.0\n",
      "BD714  39.0\n",
      "BD808  26.0\n",
      "BD144  36.0\n",
      "gender data\n",
      "(656, 1)\n",
      "       Gender_Male\n",
      "BD                \n",
      "BD406            0\n",
      "BD228            1\n",
      "BD714            1\n",
      "BD808            0\n",
      "BD144            0\n",
      "isCardio data\n",
      "merging all\n",
      "(652, 3)\n",
      "        Age  Gender_Male  isCardio\n",
      "BD406  65.0            0         0\n",
      "BD228  32.0            1         0\n",
      "BD714  39.0            1         0\n",
      "BD808  26.0            0         0\n",
      "BD144  36.0            0         0\n",
      "AllUniqueWithCounts\n",
      "(7864153, 5)\n",
      "              frequencyCount (%)  prod_stat Sample  nShared  isPublic\n",
      "***ADGPYEQYV            0.009748          0  BD463        1         0\n",
      "**AGGEQYF               0.003249          0  BD856        1         0\n",
      "**EDKSGPQYF             0.003275          0  BD944        1         0\n",
      "**EQFF                  0.003405          0  BD845        1         0\n",
      "**ERWVPDTQYF            0.003868          0  BD565        1         0\n",
      "AllUniqueWithCounts_prod\n",
      "(7700449, 5)\n",
      "               frequencyCount (%)  prod_stat Sample  nShared  isPublic\n",
      "AAAWYYSYEQYF             0.006903          1  BD543        1         0\n",
      "AAGQRSGDTQYF             0.005533          1  BD487        1         0\n",
      "AARERKETQYF              0.006866          1  BD432        1         0\n",
      "AARQTSTDTQYF             0.006999          1  BD939        1         0\n",
      "AASGQDQFHEQYF            0.002622          1   BD30        1         0\n",
      "PNP samples\n",
      "('relatives in list: ', [])\n",
      "removing samples that are not in AllUniqueWithCounts_prod:\n",
      "(57, 3)\n",
      "        Age  Gender_Male  isCardio\n",
      "BD801  58.0            1         0\n",
      "BD221  55.0            1         0\n",
      "BD631  59.0            1         0\n",
      "BD441  50.0            1         0\n",
      "BD834  65.0            1         0\n",
      "getting stats on PNP samples:\n",
      "count       57.000000\n",
      "mean     10425.614035\n",
      "std       4880.671510\n",
      "min       2729.000000\n",
      "25%       6788.000000\n",
      "50%       9856.000000\n",
      "75%      13380.000000\n",
      "max      25577.000000\n",
      "Name: isPublic, dtype: float64\n",
      "('n seqs in 10th sample= ', 14266)\n",
      "('n seqs in 20th sample= ', 12674)\n",
      "('n seqs in 30th sample= ', 9604)\n",
      "('n seqs in 20th sample= ', 12674)\n"
     ]
    },
    {
     "data": {
      "image/png": "[encoded data removed]",
      "text/plain": [
       "<matplotlib.figure.Figure at 0x7f54b9907910>"
      ]
     },
     "metadata": {},
     "output_type": "display_data"
    },
    {
     "name": "stdout",
     "output_type": "stream",
     "text": [
      "cardio samples\n",
      "removing samples that are not in AllUniqueWithCounts_prod:\n",
      "(96, 3)\n",
      "         Age  Gender_Male  isCardio\n",
      "BD1014  65.0            1         1\n",
      "BD1068  57.0            1         1\n",
      "BD1061  54.0            1         1\n",
      "BD996   61.0            1         1\n",
      "BD1053  63.0            1         1\n",
      "getting stats on Cardio samples:\n",
      "count       96.000000\n",
      "mean      8326.437500\n",
      "std       3902.313888\n",
      "min       1894.000000\n",
      "25%       5592.500000\n",
      "50%       7831.000000\n",
      "75%       9927.750000\n",
      "max      21023.000000\n",
      "Name: isPublic, dtype: float64\n",
      "('n seqs in 10th sample= ', 13821)\n",
      "('n seqs in 20th sample= ', 11630)\n",
      "('n seqs in 30th sample= ', 9548)\n",
      "('n seqs in 20th sample= ', 11630)\n"
     ]
    },
    {
     "data": {
      "image/png": "[encoded data removed]",
      "text/plain": [
       "<matplotlib.figure.Figure at 0x7f54bc4c9490>"
      ]
     },
     "metadata": {},
     "output_type": "display_data"
    },
    {
     "name": "stdout",
     "output_type": "stream",
     "text": [
      "There are more samples with the desired number of seqs than the number of desired samples (PNP)\n",
      "selecting 20 samples with the highest number of sequences\n",
      "(20, 3)\n",
      "         Age  Gender_Male  isCardio\n",
      "Sample                             \n",
      "BD27    53.0            1         0\n",
      "BD124   59.0            1         0\n",
      "BD106   63.0            1         0\n",
      "BD19    55.0            1         0\n",
      "BD935   47.0            1         0\n",
      "There are more samples with the desired number of seqs than the number of desired samples (Cardio)\n",
      "selecting 20 samples with the highest number of sequences\n",
      "(20, 3)\n",
      "         Age  Gender_Male  isCardio\n",
      "Sample                             \n",
      "BD1083  52.0            1         1\n",
      "BD984   62.0            1         1\n",
      "BD1081  52.0            1         1\n",
      "BD1076  66.0            1         1\n",
      "BD1099  56.0            1         1\n",
      "comparing age distribution\n"
     ]
    },
    {
     "data": {
      "image/png": "[encoded data removed]",
      "text/plain": [
       "<matplotlib.figure.Figure at 0x7f54c13aff50>"
      ]
     },
     "metadata": {},
     "output_type": "display_data"
    },
    {
     "name": "stdout",
     "output_type": "stream",
     "text": [
      "('n samples in PNP sample list: ', 20)\n",
      "('n samples in Cardio sample list: ', 20)\n",
      "('n samples in PNP sample list: ', 20)\n",
      "('n samples in Cardio sample list: ', 20)\n",
      "('PNP_data.Sample.nunique(): ', 20)\n",
      "('Cardio_data.Sample.nunique(): ', 20)\n",
      "generating df containing selected PNP and Cardio samples...\n",
      "(600472, 5)\n",
      "             frequencyCount (%)  prod_stat Sample  nShared  isPublic\n",
      "ADTQYF                 0.003792          1  BD810        3         1\n",
      "AGELFF                 0.005939          1  BD124        1         0\n",
      "AGGPSDGEQFF            0.003201          1  BD908        1         0\n",
      "AGVSPYEQYF             0.003224          1  BD221        1         0\n",
      "AGYYEQYF               0.002414          1   BD27        1         0\n",
      "subsampling sequences...\n",
      "0\n",
      "10\n",
      "20\n",
      "30\n",
      "concatenating subsampled dfs\n",
      "(460000, 5)\n",
      "                   frequencyCount (%)  prod_stat Sample  nShared  isPublic\n",
      "CASSLALRASGRNEQYF            0.015167          1  BD810        1         0\n",
      "CASIRGRDTGELFF               0.003792          1  BD810        5         1\n",
      "CASSPPSGSNSNEQFF             0.003792          1  BD810        1         0\n",
      "CASSLAAENTEAFF               0.003792          1  BD810        7         1\n",
      "CASSLLGTDTQYF                0.003792          1  BD810       82         1\n",
      "******dataset: Healthy********\n",
      "(20, 219955)\n",
      "index   AGELFF  AGYYEQYF  APAACGPDSGRLIGQYF  APVGWDNTYEQYF  AQGAGGTEAFF\n",
      "Sample                                                                 \n",
      "BD106      0.0       0.0                0.0            0.0          0.0\n",
      "BD124      1.0       0.0                0.0            0.0          0.0\n",
      "BD149      0.0       0.0                0.0            0.0          0.0\n",
      "BD150      0.0       0.0                0.0            0.0          0.0\n",
      "BD19       0.0       0.0                0.0            0.0          0.0\n",
      "1.0\n",
      "13.0\n",
      "('sampleBySeq_ss.shape:', (20, 219955))\n",
      "('sampleBySeq_ss_public.shape:', (20, 632))\n",
      "('merged.shape:', (20, 2))\n",
      "merged:\n",
      "         seqSum  publicSeqSum  perc_public\n",
      "Sample                                    \n",
      "BD106   11500.0         169.0     1.469565\n",
      "BD124   11500.0         136.0     1.182609\n",
      "BD149   11500.0         165.0     1.434783\n",
      "BD150   11500.0         161.0     1.400000\n",
      "BD19    11500.0         138.0     1.200000\n",
      "BD221   11500.0         153.0     1.330435\n",
      "BD27    11500.0         142.0     1.234783\n",
      "BD273   11500.0         143.0     1.243478\n",
      "BD369   11500.0         163.0     1.417391\n",
      "BD422   11500.0         158.0     1.373913\n",
      "('perc_public_list[:10]: ', [1.4695652173913043, 1.182608695652174, 1.434782608695652, 1.4, 1.2, 1.3304347826086957, 1.2347826086956522, 1.2434782608695651, 1.4173913043478261, 1.373913043478261])\n",
      "******dataset: Patients********\n",
      "(20, 219908)\n",
      "index   AEGEKRADTQYF  ALGYTF  ANRGLQETQYF  ANYGYTF  APAAPTPPYCGYTF\n",
      "Sample                                                            \n",
      "BD1011           0.0     0.0          0.0      0.0             0.0\n",
      "BD1031           0.0     1.0          0.0      0.0             0.0\n",
      "BD1037           0.0     0.0          0.0      0.0             0.0\n",
      "BD1053           0.0     0.0          0.0      0.0             0.0\n",
      "BD1075           0.0     0.0          0.0      0.0             0.0\n",
      "1.0\n",
      "13.0\n",
      "('sampleBySeq_ss.shape:', (20, 219908))\n",
      "('sampleBySeq_ss_public.shape:', (20, 594))\n",
      "('merged.shape:', (20, 2))\n",
      "merged:\n",
      "         seqSum  publicSeqSum  perc_public\n",
      "Sample                                    \n",
      "BD1011  11500.0         157.0     1.365217\n",
      "BD1031  11500.0         148.0     1.286957\n",
      "BD1037  11500.0         146.0     1.269565\n",
      "BD1053  11500.0         136.0     1.182609\n",
      "BD1075  11500.0         137.0     1.191304\n",
      "BD1076  11500.0         133.0     1.156522\n",
      "BD1081  11500.0         131.0     1.139130\n",
      "BD1083  11500.0         134.0     1.165217\n",
      "BD1084  11500.0         141.0     1.226087\n",
      "BD1086  11500.0         158.0     1.373913\n",
      "('perc_public_list[:10]: ', [1.3652173913043477, 1.2869565217391303, 1.2695652173913043, 1.182608695652174, 1.191304347826087, 1.1565217391304348, 1.1391304347826088, 1.1652173913043478, 1.2260869565217392, 1.373913043478261])\n",
      "generating kde plot\n",
      "generating kde plot\n"
     ]
    },
    {
     "data": {
      "image/png": "[encoded data removed]",
      "text/plain": [
       "<matplotlib.figure.Figure at 0x7f54c33f2d10>"
      ]
     },
     "metadata": {},
     "output_type": "display_data"
    },
    {
     "data": {
      "text/plain": [
       "(<matplotlib.figure.Figure at 0x7f54c33f2d10>,\n",
       " <matplotlib.axes._subplots.AxesSubplot at 0x7f54c1430bd0>,\n",
       " index   AEGEKRADTQYF  ALGYTF  ANRGLQETQYF  ANYGYTF  APAAPTPPYCGYTF  APAAQVSLGTDTQYF  APAAWNLGGAGYTF  APEQYF  APTRTCPYEQYF  ASGRAGASSTDTQYF          ...            YSAQVQGIPDTQYF  YSARQTSGGDTQYF  YSARSGSQLTSYNEQFF  YSARTYGETQYF  YSSAGPEKLFF  YSSEVLMGKTYGYTF  YSSKLYIGQSRANVLTF  YSSLLGKTYGYTF  YSSVNFSGQSRANVLTF  YSVPPSRIQGTIQSGANVLTF\n",
       " Sample                                                                                                                                              ...                                                                                                                                                                                     \n",
       " BD1011           0.0     0.0          0.0      0.0             0.0              0.0             0.0     0.0           0.0              0.0          ...                       0.0             0.0                0.0           1.0          0.0              1.0                0.0            0.0                0.0                    0.0\n",
       " BD1031           0.0     1.0          0.0      0.0             0.0              0.0             0.0     0.0           0.0              0.0          ...                       0.0             0.0                0.0           0.0          0.0              0.0                0.0            0.0                0.0                    0.0\n",
       " BD1037           0.0     0.0          0.0      0.0             0.0              0.0             0.0     0.0           0.0              0.0          ...                       0.0             0.0                1.0           0.0          0.0              0.0                0.0            1.0                0.0                    0.0\n",
       " BD1053           0.0     0.0          0.0      0.0             0.0              0.0             0.0     0.0           0.0              0.0          ...                       0.0             0.0                0.0           0.0          0.0              0.0                0.0            0.0                0.0                    0.0\n",
       " BD1075           0.0     0.0          0.0      0.0             0.0              0.0             0.0     0.0           0.0              0.0          ...                       0.0             0.0                0.0           0.0          1.0              0.0                0.0            0.0                0.0                    0.0\n",
       " BD1076           0.0     0.0          0.0      0.0             0.0              0.0             0.0     0.0           0.0              0.0          ...                       0.0             0.0                0.0           0.0          0.0              0.0                0.0            0.0                0.0                    0.0\n",
       " BD1081           0.0     0.0          0.0      0.0             0.0              0.0             0.0     0.0           0.0              0.0          ...                       0.0             0.0                0.0           0.0          0.0              0.0                0.0            0.0                0.0                    0.0\n",
       " BD1083           0.0     0.0          0.0      0.0             0.0              1.0             0.0     0.0           0.0              0.0          ...                       0.0             0.0                0.0           0.0          0.0              0.0                0.0            0.0                0.0                    0.0\n",
       " BD1084           0.0     0.0          0.0      0.0             0.0              0.0             0.0     0.0           1.0              0.0          ...                       0.0             0.0                0.0           0.0          0.0              0.0                0.0            0.0                0.0                    0.0\n",
       " BD1086           1.0     0.0          0.0      0.0             0.0              0.0             0.0     0.0           0.0              0.0          ...                       0.0             0.0                0.0           0.0          0.0              0.0                0.0            0.0                0.0                    0.0\n",
       " BD1088           0.0     0.0          0.0      0.0             0.0              0.0             1.0     0.0           0.0              1.0          ...                       0.0             0.0                0.0           0.0          0.0              0.0                0.0            0.0                1.0                    1.0\n",
       " BD1089           0.0     0.0          0.0      0.0             1.0              0.0             0.0     1.0           0.0              0.0          ...                       0.0             1.0                0.0           0.0          0.0              0.0                0.0            0.0                0.0                    0.0\n",
       " BD1097           0.0     0.0          0.0      0.0             0.0              0.0             0.0     0.0           0.0              0.0          ...                       0.0             0.0                0.0           0.0          0.0              0.0                0.0            0.0                0.0                    0.0\n",
       " BD1099           0.0     0.0          0.0      0.0             0.0              0.0             0.0     0.0           0.0              0.0          ...                       0.0             0.0                0.0           0.0          0.0              0.0                0.0            0.0                0.0                    0.0\n",
       " BD960            0.0     0.0          0.0      0.0             0.0              0.0             0.0     0.0           0.0              0.0          ...                       0.0             0.0                0.0           0.0          0.0              0.0                0.0            0.0                0.0                    0.0\n",
       " BD965            0.0     0.0          0.0      0.0             0.0              0.0             0.0     0.0           0.0              0.0          ...                       1.0             0.0                0.0           0.0          0.0              0.0                0.0            0.0                0.0                    0.0\n",
       " BD982            0.0     0.0          0.0      0.0             0.0              0.0             0.0     0.0           0.0              0.0          ...                       0.0             0.0                0.0           0.0          0.0              0.0                0.0            0.0                0.0                    0.0\n",
       " BD984            0.0     0.0          1.0      0.0             0.0              0.0             0.0     0.0           0.0              0.0          ...                       0.0             0.0                0.0           0.0          0.0              0.0                0.0            0.0                0.0                    0.0\n",
       " BD985            0.0     0.0          0.0      0.0             0.0              0.0             0.0     0.0           0.0              0.0          ...                       0.0             0.0                0.0           0.0          0.0              0.0                0.0            0.0                0.0                    0.0\n",
       " BD998            0.0     0.0          0.0      1.0             0.0              0.0             0.0     0.0           0.0              0.0          ...                       0.0             0.0                0.0           0.0          0.0              0.0                1.0            0.0                0.0                    0.0\n",
       " \n",
       " [20 rows x 219908 columns])"
      ]
     },
     "execution_count": 118,
     "metadata": {},
     "output_type": "execute_result"
    }
   ],
   "source": [
    "min_age=45\n",
    "max_age=70\n",
    "nToSample=20\n",
    "nSeqs=11500\n",
    "isRandom=False\n",
    "\n",
    "nSampledShared=4\n",
    "\n",
    "sharing_rate_comparison_PNP_Cardio(AllUniqueWithCounts_path=None,min_age=min_age,max_age=max_age,nToSample=nToSample,\n",
    "                                       nSeqs=nSeqs,nSampledShared=nSampledShared,isRandom=isRandom,random_state_PNP=1,random_state_Cardio=1)"
   ]
  },
  {
   "cell_type": "code",
   "execution_count": 116,
   "metadata": {
    "ExecuteTime": {
     "end_time": "2019-02-24T12:35:18.176552Z",
     "start_time": "2019-02-24T12:34:58.090568Z"
    }
   },
   "outputs": [
    {
     "name": "stdout",
     "output_type": "stream",
     "text": [
      "age data\n",
      "(656, 1)\n",
      "        Age\n",
      "BD         \n",
      "BD406  65.0\n",
      "BD228  32.0\n",
      "BD714  39.0\n",
      "BD808  26.0\n",
      "BD144  36.0\n",
      "gender data\n",
      "(656, 1)\n",
      "       Gender_Male\n",
      "BD                \n",
      "BD406            0\n",
      "BD228            1\n",
      "BD714            1\n",
      "BD808            0\n",
      "BD144            0\n",
      "isCardio data\n",
      "merging all\n",
      "(652, 3)\n",
      "        Age  Gender_Male  isCardio\n",
      "BD406  65.0            0         0\n",
      "BD228  32.0            1         0\n",
      "BD714  39.0            1         0\n",
      "BD808  26.0            0         0\n",
      "BD144  36.0            0         0\n",
      "AllUniqueWithCounts\n",
      "(7864153, 5)\n",
      "              frequencyCount (%)  prod_stat Sample  nShared  isPublic\n",
      "***ADGPYEQYV            0.009748          0  BD463        1         0\n",
      "**AGGEQYF               0.003249          0  BD856        1         0\n",
      "**EDKSGPQYF             0.003275          0  BD944        1         0\n",
      "**EQFF                  0.003405          0  BD845        1         0\n",
      "**ERWVPDTQYF            0.003868          0  BD565        1         0\n",
      "AllUniqueWithCounts_prod\n",
      "(7700449, 5)\n",
      "               frequencyCount (%)  prod_stat Sample  nShared  isPublic\n",
      "AAAWYYSYEQYF             0.006903          1  BD543        1         0\n",
      "AAGQRSGDTQYF             0.005533          1  BD487        1         0\n",
      "AARERKETQYF              0.006866          1  BD432        1         0\n",
      "AARQTSTDTQYF             0.006999          1  BD939        1         0\n",
      "AASGQDQFHEQYF            0.002622          1   BD30        1         0\n",
      "PNP samples\n",
      "('relatives in list: ', [])\n",
      "removing samples that are not in AllUniqueWithCounts_prod:\n",
      "(57, 3)\n",
      "        Age  Gender_Male  isCardio\n",
      "BD801  58.0            1         0\n",
      "BD221  55.0            1         0\n",
      "BD631  59.0            1         0\n",
      "BD441  50.0            1         0\n",
      "BD834  65.0            1         0\n",
      "getting stats on PNP samples:\n",
      "count       57.000000\n",
      "mean     10425.614035\n",
      "std       4880.671510\n",
      "min       2729.000000\n",
      "25%       6788.000000\n",
      "50%       9856.000000\n",
      "75%      13380.000000\n",
      "max      25577.000000\n",
      "Name: isPublic, dtype: float64\n",
      "('n seqs in 10th sample= ', 14266)\n",
      "('n seqs in 20th sample= ', 12674)\n",
      "('n seqs in 30th sample= ', 9604)\n",
      "('n seqs in 20th sample= ', 12674)\n"
     ]
    },
    {
     "data": {
      "image/png": "[encoded data removed]",
      "text/plain": [
       "<matplotlib.figure.Figure at 0x7f54bc46aa50>"
      ]
     },
     "metadata": {},
     "output_type": "display_data"
    },
    {
     "name": "stdout",
     "output_type": "stream",
     "text": [
      "cardio samples\n",
      "removing samples that are not in AllUniqueWithCounts_prod:\n",
      "(96, 3)\n",
      "         Age  Gender_Male  isCardio\n",
      "BD1014  65.0            1         1\n",
      "BD1068  57.0            1         1\n",
      "BD1061  54.0            1         1\n",
      "BD996   61.0            1         1\n",
      "BD1053  63.0            1         1\n",
      "getting stats on Cardio samples:\n",
      "count       96.000000\n",
      "mean      8326.437500\n",
      "std       3902.313888\n",
      "min       1894.000000\n",
      "25%       5592.500000\n",
      "50%       7831.000000\n",
      "75%       9927.750000\n",
      "max      21023.000000\n",
      "Name: isPublic, dtype: float64\n",
      "('n seqs in 10th sample= ', 13821)\n",
      "('n seqs in 20th sample= ', 11630)\n",
      "('n seqs in 30th sample= ', 9548)\n",
      "('n seqs in 20th sample= ', 11630)\n"
     ]
    },
    {
     "data": {
      "image/png": "[encoded data removed]",
      "text/plain": [
       "<matplotlib.figure.Figure at 0x7f54be119fd0>"
      ]
     },
     "metadata": {},
     "output_type": "display_data"
    },
    {
     "name": "stdout",
     "output_type": "stream",
     "text": [
      "There are more samples with the desired number of seqs than the number of desired samples (PNP)\n",
      "selecting 20 samples with the highest number of sequences\n",
      "(20, 3)\n",
      "         Age  Gender_Male  isCardio\n",
      "Sample                             \n",
      "BD27    53.0            1         0\n",
      "BD124   59.0            1         0\n",
      "BD106   63.0            1         0\n",
      "BD19    55.0            1         0\n",
      "BD935   47.0            1         0\n",
      "There are more samples with the desired number of seqs than the number of desired samples (Cardio)\n",
      "selecting 20 samples with the highest number of sequences\n",
      "(20, 3)\n",
      "         Age  Gender_Male  isCardio\n",
      "Sample                             \n",
      "BD1083  52.0            1         1\n",
      "BD984   62.0            1         1\n",
      "BD1081  52.0            1         1\n",
      "BD1076  66.0            1         1\n",
      "BD1099  56.0            1         1\n",
      "comparing age distribution\n"
     ]
    },
    {
     "data": {
      "image/png": "[encoded data removed]",
      "text/plain": [
       "<matplotlib.figure.Figure at 0x7f54c3226d50>"
      ]
     },
     "metadata": {},
     "output_type": "display_data"
    },
    {
     "name": "stdout",
     "output_type": "stream",
     "text": [
      "('n samples in PNP sample list: ', 20)\n",
      "('n samples in Cardio sample list: ', 20)\n",
      "('n samples in PNP sample list: ', 20)\n",
      "('n samples in Cardio sample list: ', 20)\n",
      "('PNP_data.Sample.nunique(): ', 20)\n",
      "('Cardio_data.Sample.nunique(): ', 20)\n",
      "generating df containing selected PNP and Cardio samples...\n",
      "(600472, 5)\n",
      "             frequencyCount (%)  prod_stat Sample  nShared  isPublic\n",
      "ADTQYF                 0.003792          1  BD810        3         1\n",
      "AGELFF                 0.005939          1  BD124        1         0\n",
      "AGGPSDGEQFF            0.003201          1  BD908        1         0\n",
      "AGVSPYEQYF             0.003224          1  BD221        1         0\n",
      "AGYYEQYF               0.002414          1   BD27        1         0\n",
      "subsampling sequences...\n",
      "0\n",
      "10\n",
      "20\n",
      "30\n",
      "concatenating subsampled dfs\n",
      "(460000, 5)\n",
      "                   frequencyCount (%)  prod_stat Sample  nShared  isPublic\n",
      "CASSLALRASGRNEQYF            0.015167          1  BD810        1         0\n",
      "CASIRGRDTGELFF               0.003792          1  BD810        5         1\n",
      "CASSPPSGSNSNEQFF             0.003792          1  BD810        1         0\n",
      "CASSLAAENTEAFF               0.003792          1  BD810        7         1\n",
      "CASSLLGTDTQYF                0.003792          1  BD810       82         1\n",
      "******dataset: Healthy********\n",
      "(20, 219955)\n",
      "index   AGELFF  AGYYEQYF  APAACGPDSGRLIGQYF  APVGWDNTYEQYF  AQGAGGTEAFF\n",
      "Sample                                                                 \n",
      "BD106      0.0       0.0                0.0            0.0          0.0\n",
      "BD124      1.0       0.0                0.0            0.0          0.0\n",
      "BD149      0.0       0.0                0.0            0.0          0.0\n",
      "BD150      0.0       0.0                0.0            0.0          0.0\n",
      "BD19       0.0       0.0                0.0            0.0          0.0\n",
      "1.0\n",
      "13.0\n",
      "('sampleBySeq_ss.shape:', (20, 219955))\n",
      "('sampleBySeq_ss_public.shape:', (20, 14))\n",
      "('merged.shape:', (20, 2))\n",
      "merged:\n",
      "         seqSum  publicSeqSum  perc_public\n",
      "Sample                                    \n",
      "BD106   11500.0          12.0     0.104348\n",
      "BD124   11500.0           5.0     0.043478\n",
      "BD149   11500.0           9.0     0.078261\n",
      "BD150   11500.0           5.0     0.043478\n",
      "BD19    11500.0           8.0     0.069565\n",
      "BD221   11500.0           9.0     0.078261\n",
      "BD27    11500.0           8.0     0.069565\n",
      "BD273   11500.0           7.0     0.060870\n",
      "BD369   11500.0           7.0     0.060870\n",
      "BD422   11500.0           6.0     0.052174\n",
      "('perc_public_list[:10]: ', [0.10434782608695652, 0.043478260869565216, 0.0782608695652174, 0.043478260869565216, 0.06956521739130435, 0.0782608695652174, 0.06956521739130435, 0.06086956521739131, 0.06086956521739131, 0.05217391304347826])\n",
      "******dataset: Patients********\n",
      "(20, 219908)\n",
      "index   AEGEKRADTQYF  ALGYTF  ANRGLQETQYF  ANYGYTF  APAAPTPPYCGYTF\n",
      "Sample                                                            \n",
      "BD1011           0.0     0.0          0.0      0.0             0.0\n",
      "BD1031           0.0     1.0          0.0      0.0             0.0\n",
      "BD1037           0.0     0.0          0.0      0.0             0.0\n",
      "BD1053           0.0     0.0          0.0      0.0             0.0\n",
      "BD1075           0.0     0.0          0.0      0.0             0.0\n",
      "1.0\n",
      "13.0\n",
      "('sampleBySeq_ss.shape:', (20, 219908))\n",
      "('sampleBySeq_ss_public.shape:', (20, 12))\n",
      "('merged.shape:', (20, 2))\n",
      "merged:\n",
      "         seqSum  publicSeqSum  perc_public\n",
      "Sample                                    \n",
      "BD1011  11500.0           7.0     0.060870\n",
      "BD1031  11500.0           8.0     0.069565\n",
      "BD1037  11500.0           7.0     0.060870\n",
      "BD1053  11500.0           8.0     0.069565\n",
      "BD1075  11500.0           7.0     0.060870\n",
      "BD1076  11500.0           5.0     0.043478\n",
      "BD1081  11500.0           4.0     0.034783\n",
      "BD1083  11500.0           6.0     0.052174\n",
      "BD1084  11500.0           6.0     0.052174\n",
      "BD1086  11500.0           7.0     0.060870\n",
      "('perc_public_list[:10]: ', [0.06086956521739131, 0.06956521739130435, 0.06086956521739131, 0.06956521739130435, 0.06086956521739131, 0.043478260869565216, 0.034782608695652174, 0.05217391304347826, 0.05217391304347826, 0.06086956521739131])\n",
      "generating kde plot\n",
      "generating kde plot\n"
     ]
    },
    {
     "data": {
      "image/png": "[encoded data removed]",
      "text/plain": [
       "<matplotlib.figure.Figure at 0x7f54c3b1f550>"
      ]
     },
     "metadata": {},
     "output_type": "display_data"
    },
    {
     "data": {
      "text/plain": [
       "(<matplotlib.figure.Figure at 0x7f54c3b1f550>,\n",
       " <matplotlib.axes._subplots.AxesSubplot at 0x7f54c2c2cf90>,\n",
       " index   AEGEKRADTQYF  ALGYTF  ANRGLQETQYF  ANYGYTF  APAAPTPPYCGYTF  APAAQVSLGTDTQYF  APAAWNLGGAGYTF  APEQYF  APTRTCPYEQYF  ASGRAGASSTDTQYF          ...            YSAQVQGIPDTQYF  YSARQTSGGDTQYF  YSARSGSQLTSYNEQFF  YSARTYGETQYF  YSSAGPEKLFF  YSSEVLMGKTYGYTF  YSSKLYIGQSRANVLTF  YSSLLGKTYGYTF  YSSVNFSGQSRANVLTF  YSVPPSRIQGTIQSGANVLTF\n",
       " Sample                                                                                                                                              ...                                                                                                                                                                                     \n",
       " BD1011           0.0     0.0          0.0      0.0             0.0              0.0             0.0     0.0           0.0              0.0          ...                       0.0             0.0                0.0           1.0          0.0              1.0                0.0            0.0                0.0                    0.0\n",
       " BD1031           0.0     1.0          0.0      0.0             0.0              0.0             0.0     0.0           0.0              0.0          ...                       0.0             0.0                0.0           0.0          0.0              0.0                0.0            0.0                0.0                    0.0\n",
       " BD1037           0.0     0.0          0.0      0.0             0.0              0.0             0.0     0.0           0.0              0.0          ...                       0.0             0.0                1.0           0.0          0.0              0.0                0.0            1.0                0.0                    0.0\n",
       " BD1053           0.0     0.0          0.0      0.0             0.0              0.0             0.0     0.0           0.0              0.0          ...                       0.0             0.0                0.0           0.0          0.0              0.0                0.0            0.0                0.0                    0.0\n",
       " BD1075           0.0     0.0          0.0      0.0             0.0              0.0             0.0     0.0           0.0              0.0          ...                       0.0             0.0                0.0           0.0          1.0              0.0                0.0            0.0                0.0                    0.0\n",
       " BD1076           0.0     0.0          0.0      0.0             0.0              0.0             0.0     0.0           0.0              0.0          ...                       0.0             0.0                0.0           0.0          0.0              0.0                0.0            0.0                0.0                    0.0\n",
       " BD1081           0.0     0.0          0.0      0.0             0.0              0.0             0.0     0.0           0.0              0.0          ...                       0.0             0.0                0.0           0.0          0.0              0.0                0.0            0.0                0.0                    0.0\n",
       " BD1083           0.0     0.0          0.0      0.0             0.0              1.0             0.0     0.0           0.0              0.0          ...                       0.0             0.0                0.0           0.0          0.0              0.0                0.0            0.0                0.0                    0.0\n",
       " BD1084           0.0     0.0          0.0      0.0             0.0              0.0             0.0     0.0           1.0              0.0          ...                       0.0             0.0                0.0           0.0          0.0              0.0                0.0            0.0                0.0                    0.0\n",
       " BD1086           1.0     0.0          0.0      0.0             0.0              0.0             0.0     0.0           0.0              0.0          ...                       0.0             0.0                0.0           0.0          0.0              0.0                0.0            0.0                0.0                    0.0\n",
       " BD1088           0.0     0.0          0.0      0.0             0.0              0.0             1.0     0.0           0.0              1.0          ...                       0.0             0.0                0.0           0.0          0.0              0.0                0.0            0.0                1.0                    1.0\n",
       " BD1089           0.0     0.0          0.0      0.0             1.0              0.0             0.0     1.0           0.0              0.0          ...                       0.0             1.0                0.0           0.0          0.0              0.0                0.0            0.0                0.0                    0.0\n",
       " BD1097           0.0     0.0          0.0      0.0             0.0              0.0             0.0     0.0           0.0              0.0          ...                       0.0             0.0                0.0           0.0          0.0              0.0                0.0            0.0                0.0                    0.0\n",
       " BD1099           0.0     0.0          0.0      0.0             0.0              0.0             0.0     0.0           0.0              0.0          ...                       0.0             0.0                0.0           0.0          0.0              0.0                0.0            0.0                0.0                    0.0\n",
       " BD960            0.0     0.0          0.0      0.0             0.0              0.0             0.0     0.0           0.0              0.0          ...                       0.0             0.0                0.0           0.0          0.0              0.0                0.0            0.0                0.0                    0.0\n",
       " BD965            0.0     0.0          0.0      0.0             0.0              0.0             0.0     0.0           0.0              0.0          ...                       1.0             0.0                0.0           0.0          0.0              0.0                0.0            0.0                0.0                    0.0\n",
       " BD982            0.0     0.0          0.0      0.0             0.0              0.0             0.0     0.0           0.0              0.0          ...                       0.0             0.0                0.0           0.0          0.0              0.0                0.0            0.0                0.0                    0.0\n",
       " BD984            0.0     0.0          1.0      0.0             0.0              0.0             0.0     0.0           0.0              0.0          ...                       0.0             0.0                0.0           0.0          0.0              0.0                0.0            0.0                0.0                    0.0\n",
       " BD985            0.0     0.0          0.0      0.0             0.0              0.0             0.0     0.0           0.0              0.0          ...                       0.0             0.0                0.0           0.0          0.0              0.0                0.0            0.0                0.0                    0.0\n",
       " BD998            0.0     0.0          0.0      1.0             0.0              0.0             0.0     0.0           0.0              0.0          ...                       0.0             0.0                0.0           0.0          0.0              0.0                1.0            0.0                0.0                    0.0\n",
       " \n",
       " [20 rows x 219908 columns])"
      ]
     },
     "execution_count": 116,
     "metadata": {},
     "output_type": "execute_result"
    }
   ],
   "source": [
    "min_age=45\n",
    "max_age=70\n",
    "nToSample=20\n",
    "nSeqs=11500\n",
    "isRandom=False\n",
    "\n",
    "nSampledShared=10\n",
    "\n",
    "sharing_rate_comparison_PNP_Cardio(AllUniqueWithCounts_path=None,min_age=min_age,max_age=max_age,nToSample=nToSample,\n",
    "                                       nSeqs=nSeqs,nSampledShared=nSampledShared,isRandom=isRandom,random_state_PNP=1,random_state_Cardio=1)"
   ]
  },
  {
   "cell_type": "code",
   "execution_count": 119,
   "metadata": {
    "ExecuteTime": {
     "end_time": "2019-02-24T12:40:29.563809Z",
     "start_time": "2019-02-24T12:40:09.999007Z"
    }
   },
   "outputs": [
    {
     "name": "stdout",
     "output_type": "stream",
     "text": [
      "age data\n",
      "(656, 1)\n",
      "        Age\n",
      "BD         \n",
      "BD406  65.0\n",
      "BD228  32.0\n",
      "BD714  39.0\n",
      "BD808  26.0\n",
      "BD144  36.0\n",
      "gender data\n",
      "(656, 1)\n",
      "       Gender_Male\n",
      "BD                \n",
      "BD406            0\n",
      "BD228            1\n",
      "BD714            1\n",
      "BD808            0\n",
      "BD144            0\n",
      "isCardio data\n",
      "merging all\n",
      "(652, 3)\n",
      "        Age  Gender_Male  isCardio\n",
      "BD406  65.0            0         0\n",
      "BD228  32.0            1         0\n",
      "BD714  39.0            1         0\n",
      "BD808  26.0            0         0\n",
      "BD144  36.0            0         0\n",
      "AllUniqueWithCounts\n",
      "(7864153, 5)\n",
      "              frequencyCount (%)  prod_stat Sample  nShared  isPublic\n",
      "***ADGPYEQYV            0.009748          0  BD463        1         0\n",
      "**AGGEQYF               0.003249          0  BD856        1         0\n",
      "**EDKSGPQYF             0.003275          0  BD944        1         0\n",
      "**EQFF                  0.003405          0  BD845        1         0\n",
      "**ERWVPDTQYF            0.003868          0  BD565        1         0\n",
      "AllUniqueWithCounts_prod\n",
      "(7700449, 5)\n",
      "               frequencyCount (%)  prod_stat Sample  nShared  isPublic\n",
      "AAAWYYSYEQYF             0.006903          1  BD543        1         0\n",
      "AAGQRSGDTQYF             0.005533          1  BD487        1         0\n",
      "AARERKETQYF              0.006866          1  BD432        1         0\n",
      "AARQTSTDTQYF             0.006999          1  BD939        1         0\n",
      "AASGQDQFHEQYF            0.002622          1   BD30        1         0\n",
      "PNP samples\n",
      "('relatives in list: ', [])\n",
      "removing samples that are not in AllUniqueWithCounts_prod:\n",
      "(57, 3)\n",
      "        Age  Gender_Male  isCardio\n",
      "BD801  58.0            1         0\n",
      "BD221  55.0            1         0\n",
      "BD631  59.0            1         0\n",
      "BD441  50.0            1         0\n",
      "BD834  65.0            1         0\n",
      "getting stats on PNP samples:\n",
      "count       57.000000\n",
      "mean     10425.614035\n",
      "std       4880.671510\n",
      "min       2729.000000\n",
      "25%       6788.000000\n",
      "50%       9856.000000\n",
      "75%      13380.000000\n",
      "max      25577.000000\n",
      "Name: isPublic, dtype: float64\n",
      "('n seqs in 10th sample= ', 14266)\n",
      "('n seqs in 20th sample= ', 12674)\n",
      "('n seqs in 30th sample= ', 9604)\n",
      "('n seqs in 20th sample= ', 12674)\n"
     ]
    },
    {
     "data": {
      "image/png": "[encoded data removed]",
      "text/plain": [
       "<matplotlib.figure.Figure at 0x7f54b845d9d0>"
      ]
     },
     "metadata": {},
     "output_type": "display_data"
    },
    {
     "name": "stdout",
     "output_type": "stream",
     "text": [
      "cardio samples\n",
      "removing samples that are not in AllUniqueWithCounts_prod:\n",
      "(96, 3)\n",
      "         Age  Gender_Male  isCardio\n",
      "BD1014  65.0            1         1\n",
      "BD1068  57.0            1         1\n",
      "BD1061  54.0            1         1\n",
      "BD996   61.0            1         1\n",
      "BD1053  63.0            1         1\n",
      "getting stats on Cardio samples:\n",
      "count       96.000000\n",
      "mean      8326.437500\n",
      "std       3902.313888\n",
      "min       1894.000000\n",
      "25%       5592.500000\n",
      "50%       7831.000000\n",
      "75%       9927.750000\n",
      "max      21023.000000\n",
      "Name: isPublic, dtype: float64\n",
      "('n seqs in 10th sample= ', 13821)\n",
      "('n seqs in 20th sample= ', 11630)\n",
      "('n seqs in 30th sample= ', 9548)\n",
      "('n seqs in 20th sample= ', 11630)\n"
     ]
    },
    {
     "data": {
      "image/png": "[encoded data removed]",
      "text/plain": [
       "<matplotlib.figure.Figure at 0x7f54bae06450>"
      ]
     },
     "metadata": {},
     "output_type": "display_data"
    },
    {
     "name": "stdout",
     "output_type": "stream",
     "text": [
      "There are more samples with the desired number of seqs than the number of desired samples (PNP)\n",
      "selecting 20 samples with the highest number of sequences\n",
      "(20, 3)\n",
      "         Age  Gender_Male  isCardio\n",
      "Sample                             \n",
      "BD27    53.0            1         0\n",
      "BD124   59.0            1         0\n",
      "BD106   63.0            1         0\n",
      "BD19    55.0            1         0\n",
      "BD935   47.0            1         0\n",
      "There are more samples with the desired number of seqs than the number of desired samples (Cardio)\n",
      "selecting 20 samples with the highest number of sequences\n",
      "(20, 3)\n",
      "         Age  Gender_Male  isCardio\n",
      "Sample                             \n",
      "BD1083  52.0            1         1\n",
      "BD984   62.0            1         1\n",
      "BD1081  52.0            1         1\n",
      "BD1076  66.0            1         1\n",
      "BD1099  56.0            1         1\n",
      "comparing age distribution\n"
     ]
    },
    {
     "data": {
      "image/png": "[encoded data removed]",
      "text/plain": [
       "<matplotlib.figure.Figure at 0x7f54c0d224d0>"
      ]
     },
     "metadata": {},
     "output_type": "display_data"
    },
    {
     "name": "stdout",
     "output_type": "stream",
     "text": [
      "('n samples in PNP sample list: ', 20)\n",
      "('n samples in Cardio sample list: ', 20)\n",
      "('n samples in PNP sample list: ', 20)\n",
      "('n samples in Cardio sample list: ', 20)\n",
      "('PNP_data.Sample.nunique(): ', 20)\n",
      "('Cardio_data.Sample.nunique(): ', 20)\n",
      "generating df containing selected PNP and Cardio samples...\n",
      "(600472, 5)\n",
      "             frequencyCount (%)  prod_stat Sample  nShared  isPublic\n",
      "ADTQYF                 0.003792          1  BD810        3         1\n",
      "AGELFF                 0.005939          1  BD124        1         0\n",
      "AGGPSDGEQFF            0.003201          1  BD908        1         0\n",
      "AGVSPYEQYF             0.003224          1  BD221        1         0\n",
      "AGYYEQYF               0.002414          1   BD27        1         0\n",
      "subsampling sequences...\n",
      "0\n",
      "10\n",
      "20\n",
      "30\n",
      "concatenating subsampled dfs\n",
      "(460000, 5)\n",
      "                   frequencyCount (%)  prod_stat Sample  nShared  isPublic\n",
      "CASSLALRASGRNEQYF            0.015167          1  BD810        1         0\n",
      "CASIRGRDTGELFF               0.003792          1  BD810        5         1\n",
      "CASSPPSGSNSNEQFF             0.003792          1  BD810        1         0\n",
      "CASSLAAENTEAFF               0.003792          1  BD810        7         1\n",
      "CASSLLGTDTQYF                0.003792          1  BD810       82         1\n",
      "******dataset: Healthy********\n",
      "(20, 219955)\n",
      "index   AGELFF  AGYYEQYF  APAACGPDSGRLIGQYF  APVGWDNTYEQYF  AQGAGGTEAFF\n",
      "Sample                                                                 \n",
      "BD106      0.0       0.0                0.0            0.0          0.0\n",
      "BD124      1.0       0.0                0.0            0.0          0.0\n",
      "BD149      0.0       0.0                0.0            0.0          0.0\n",
      "BD150      0.0       0.0                0.0            0.0          0.0\n",
      "BD19       0.0       0.0                0.0            0.0          0.0\n",
      "1.0\n",
      "13.0\n",
      "('sampleBySeq_ss.shape:', (20, 219955))\n",
      "('sampleBySeq_ss_public.shape:', (20, 143))\n",
      "('merged.shape:', (20, 2))\n",
      "merged:\n",
      "         seqSum  publicSeqSum  perc_public\n",
      "Sample                                    \n",
      "BD106   11500.0          52.0     0.452174\n",
      "BD124   11500.0          45.0     0.391304\n",
      "BD149   11500.0          55.0     0.478261\n",
      "BD150   11500.0          44.0     0.382609\n",
      "BD19    11500.0          45.0     0.391304\n",
      "BD221   11500.0          54.0     0.469565\n",
      "BD27    11500.0          49.0     0.426087\n",
      "BD273   11500.0          39.0     0.339130\n",
      "BD369   11500.0          59.0     0.513043\n",
      "BD422   11500.0          43.0     0.373913\n",
      "('perc_public_list[:10]: ', [0.45217391304347826, 0.391304347826087, 0.4782608695652174, 0.3826086956521739, 0.391304347826087, 0.46956521739130436, 0.4260869565217391, 0.3391304347826087, 0.5130434782608696, 0.3739130434782609])\n",
      "******dataset: Patients********\n",
      "(20, 219908)\n",
      "index   AEGEKRADTQYF  ALGYTF  ANRGLQETQYF  ANYGYTF  APAAPTPPYCGYTF\n",
      "Sample                                                            \n",
      "BD1011           0.0     0.0          0.0      0.0             0.0\n",
      "BD1031           0.0     1.0          0.0      0.0             0.0\n",
      "BD1037           0.0     0.0          0.0      0.0             0.0\n",
      "BD1053           0.0     0.0          0.0      0.0             0.0\n",
      "BD1075           0.0     0.0          0.0      0.0             0.0\n",
      "1.0\n",
      "13.0\n",
      "('sampleBySeq_ss.shape:', (20, 219908))\n",
      "('sampleBySeq_ss_public.shape:', (20, 120))\n",
      "('merged.shape:', (20, 2))\n",
      "merged:\n",
      "         seqSum  publicSeqSum  perc_public\n",
      "Sample                                    \n",
      "BD1011  11500.0          46.0     0.400000\n",
      "BD1031  11500.0          41.0     0.356522\n",
      "BD1037  11500.0          47.0     0.408696\n",
      "BD1053  11500.0          36.0     0.313043\n",
      "BD1075  11500.0          47.0     0.408696\n",
      "BD1076  11500.0          33.0     0.286957\n",
      "BD1081  11500.0          34.0     0.295652\n",
      "BD1083  11500.0          42.0     0.365217\n",
      "BD1084  11500.0          43.0     0.373913\n",
      "BD1086  11500.0          47.0     0.408696\n",
      "('perc_public_list[:10]: ', [0.4, 0.3565217391304348, 0.40869565217391307, 0.3130434782608696, 0.40869565217391307, 0.28695652173913044, 0.2956521739130435, 0.3652173913043478, 0.3739130434782609, 0.40869565217391307])\n",
      "generating kde plot\n",
      "generating kde plot\n"
     ]
    },
    {
     "data": {
      "image/png": "[encoded data removed]",
      "text/plain": [
       "<matplotlib.figure.Figure at 0x7f54c332f910>"
      ]
     },
     "metadata": {},
     "output_type": "display_data"
    },
    {
     "data": {
      "text/plain": [
       "(<matplotlib.figure.Figure at 0x7f54c332f910>,\n",
       " <matplotlib.axes._subplots.AxesSubplot at 0x7f54c2f56d90>,\n",
       " index   AEGEKRADTQYF  ALGYTF  ANRGLQETQYF  ANYGYTF  APAAPTPPYCGYTF  APAAQVSLGTDTQYF  APAAWNLGGAGYTF  APEQYF  APTRTCPYEQYF  ASGRAGASSTDTQYF          ...            YSAQVQGIPDTQYF  YSARQTSGGDTQYF  YSARSGSQLTSYNEQFF  YSARTYGETQYF  YSSAGPEKLFF  YSSEVLMGKTYGYTF  YSSKLYIGQSRANVLTF  YSSLLGKTYGYTF  YSSVNFSGQSRANVLTF  YSVPPSRIQGTIQSGANVLTF\n",
       " Sample                                                                                                                                              ...                                                                                                                                                                                     \n",
       " BD1011           0.0     0.0          0.0      0.0             0.0              0.0             0.0     0.0           0.0              0.0          ...                       0.0             0.0                0.0           1.0          0.0              1.0                0.0            0.0                0.0                    0.0\n",
       " BD1031           0.0     1.0          0.0      0.0             0.0              0.0             0.0     0.0           0.0              0.0          ...                       0.0             0.0                0.0           0.0          0.0              0.0                0.0            0.0                0.0                    0.0\n",
       " BD1037           0.0     0.0          0.0      0.0             0.0              0.0             0.0     0.0           0.0              0.0          ...                       0.0             0.0                1.0           0.0          0.0              0.0                0.0            1.0                0.0                    0.0\n",
       " BD1053           0.0     0.0          0.0      0.0             0.0              0.0             0.0     0.0           0.0              0.0          ...                       0.0             0.0                0.0           0.0          0.0              0.0                0.0            0.0                0.0                    0.0\n",
       " BD1075           0.0     0.0          0.0      0.0             0.0              0.0             0.0     0.0           0.0              0.0          ...                       0.0             0.0                0.0           0.0          1.0              0.0                0.0            0.0                0.0                    0.0\n",
       " BD1076           0.0     0.0          0.0      0.0             0.0              0.0             0.0     0.0           0.0              0.0          ...                       0.0             0.0                0.0           0.0          0.0              0.0                0.0            0.0                0.0                    0.0\n",
       " BD1081           0.0     0.0          0.0      0.0             0.0              0.0             0.0     0.0           0.0              0.0          ...                       0.0             0.0                0.0           0.0          0.0              0.0                0.0            0.0                0.0                    0.0\n",
       " BD1083           0.0     0.0          0.0      0.0             0.0              1.0             0.0     0.0           0.0              0.0          ...                       0.0             0.0                0.0           0.0          0.0              0.0                0.0            0.0                0.0                    0.0\n",
       " BD1084           0.0     0.0          0.0      0.0             0.0              0.0             0.0     0.0           1.0              0.0          ...                       0.0             0.0                0.0           0.0          0.0              0.0                0.0            0.0                0.0                    0.0\n",
       " BD1086           1.0     0.0          0.0      0.0             0.0              0.0             0.0     0.0           0.0              0.0          ...                       0.0             0.0                0.0           0.0          0.0              0.0                0.0            0.0                0.0                    0.0\n",
       " BD1088           0.0     0.0          0.0      0.0             0.0              0.0             1.0     0.0           0.0              1.0          ...                       0.0             0.0                0.0           0.0          0.0              0.0                0.0            0.0                1.0                    1.0\n",
       " BD1089           0.0     0.0          0.0      0.0             1.0              0.0             0.0     1.0           0.0              0.0          ...                       0.0             1.0                0.0           0.0          0.0              0.0                0.0            0.0                0.0                    0.0\n",
       " BD1097           0.0     0.0          0.0      0.0             0.0              0.0             0.0     0.0           0.0              0.0          ...                       0.0             0.0                0.0           0.0          0.0              0.0                0.0            0.0                0.0                    0.0\n",
       " BD1099           0.0     0.0          0.0      0.0             0.0              0.0             0.0     0.0           0.0              0.0          ...                       0.0             0.0                0.0           0.0          0.0              0.0                0.0            0.0                0.0                    0.0\n",
       " BD960            0.0     0.0          0.0      0.0             0.0              0.0             0.0     0.0           0.0              0.0          ...                       0.0             0.0                0.0           0.0          0.0              0.0                0.0            0.0                0.0                    0.0\n",
       " BD965            0.0     0.0          0.0      0.0             0.0              0.0             0.0     0.0           0.0              0.0          ...                       1.0             0.0                0.0           0.0          0.0              0.0                0.0            0.0                0.0                    0.0\n",
       " BD982            0.0     0.0          0.0      0.0             0.0              0.0             0.0     0.0           0.0              0.0          ...                       0.0             0.0                0.0           0.0          0.0              0.0                0.0            0.0                0.0                    0.0\n",
       " BD984            0.0     0.0          1.0      0.0             0.0              0.0             0.0     0.0           0.0              0.0          ...                       0.0             0.0                0.0           0.0          0.0              0.0                0.0            0.0                0.0                    0.0\n",
       " BD985            0.0     0.0          0.0      0.0             0.0              0.0             0.0     0.0           0.0              0.0          ...                       0.0             0.0                0.0           0.0          0.0              0.0                0.0            0.0                0.0                    0.0\n",
       " BD998            0.0     0.0          0.0      1.0             0.0              0.0             0.0     0.0           0.0              0.0          ...                       0.0             0.0                0.0           0.0          0.0              0.0                1.0            0.0                0.0                    0.0\n",
       " \n",
       " [20 rows x 219908 columns])"
      ]
     },
     "execution_count": 119,
     "metadata": {},
     "output_type": "execute_result"
    }
   ],
   "source": [
    "min_age=45\n",
    "max_age=70\n",
    "nToSample=20\n",
    "nSeqs=11500\n",
    "isRandom=False\n",
    "\n",
    "nSampledShared=6\n",
    "\n",
    "sharing_rate_comparison_PNP_Cardio(AllUniqueWithCounts_path=None,min_age=min_age,max_age=max_age,nToSample=nToSample,\n",
    "                                       nSeqs=nSeqs,nSampledShared=nSampledShared,isRandom=isRandom,random_state_PNP=1,random_state_Cardio=1)"
   ]
  },
  {
   "cell_type": "code",
   "execution_count": null,
   "metadata": {
    "ExecuteTime": {
     "end_time": "2019-02-13T16:53:09.228037Z",
     "start_time": "2019-02-13T16:52:46.783303Z"
    }
   },
   "outputs": [],
   "source": [
    "min_age=45\n",
    "max_age=70\n",
    "nToSample=30\n",
    "nSeqs=9500\n",
    "isRandom=False\n",
    "\n",
    "nSampledShared=5\n",
    "\n",
    "sharing_rate_comparison_PNP_Cardio(AllUniqueWithCounts_path=None,min_age=min_age,max_age=max_age,nToSample=nToSample,\n",
    "                                       nSeqs=nSeqs,nSampledShared=nSampledShared,isRandom=isRandom,random_state_PNP=1,random_state_Cardio=1)"
   ]
  },
  {
   "cell_type": "code",
   "execution_count": null,
   "metadata": {
    "ExecuteTime": {
     "end_time": "2019-02-13T16:56:07.162435Z",
     "start_time": "2019-02-13T16:55:41.490470Z"
    }
   },
   "outputs": [],
   "source": [
    "min_age=45\n",
    "max_age=70\n",
    "nToSample=40\n",
    "nSeqs=6000\n",
    "isRandom=False\n",
    "\n",
    "nSampledShared=4\n",
    "\n",
    "sharing_rate_comparison_PNP_Cardio(AllUniqueWithCounts_path=None,min_age=min_age,max_age=max_age,nToSample=nToSample,\n",
    "                                       nSeqs=nSeqs,nSampledShared=nSampledShared,isRandom=isRandom,random_state_PNP=1,random_state_Cardio=1)"
   ]
  },
  {
   "cell_type": "code",
   "execution_count": null,
   "metadata": {},
   "outputs": [],
   "source": []
  },
  {
   "cell_type": "code",
   "execution_count": null,
   "metadata": {
    "ExecuteTime": {
     "end_time": "2019-02-13T14:03:59.382001Z",
     "start_time": "2019-02-13T14:03:43.531511Z"
    }
   },
   "outputs": [],
   "source": [
    "min_age=45\n",
    "max_age=70\n",
    "nToSample=10\n",
    "nSeqs=1800\n",
    "isRandom=True #### note!!!! ######\n",
    "random_state_PNP=1\n",
    "random_state_Cardio=1\n",
    "\n",
    "sharing_rate_comparison_PNP_Cardio(AllUniqueWithCounts_prod=None,min_age=min_age,max_age=max_age,nToSample=nToSample,\n",
    "                                       nSeqs=nSeqs,isRandom=isRandom,random_state_PNP=random_state_PNP,random_state_Cardio=random_state_Cardio)"
   ]
  },
  {
   "cell_type": "code",
   "execution_count": null,
   "metadata": {
    "ExecuteTime": {
     "end_time": "2019-02-13T16:57:39.998682Z",
     "start_time": "2019-02-13T16:57:25.099169Z"
    }
   },
   "outputs": [],
   "source": [
    "min_age=45\n",
    "max_age=70\n",
    "nToSample=20\n",
    "nSeqs=1800\n",
    "isRandom=True #### note!!!! ######\n",
    "\n",
    "nSampledShared=3\n",
    "\n",
    "sharing_rate_comparison_PNP_Cardio(AllUniqueWithCounts_path=None,min_age=min_age,max_age=max_age,nToSample=nToSample,\n",
    "                                       nSeqs=nSeqs,nSampledShared=nSampledShared,isRandom=isRandom,random_state_PNP=1,random_state_Cardio=1)"
   ]
  },
  {
   "cell_type": "markdown",
   "metadata": {},
   "source": [
    "## age 40-50"
   ]
  },
  {
   "cell_type": "code",
   "execution_count": null,
   "metadata": {
    "ExecuteTime": {
     "end_time": "2019-02-13T17:32:39.400585Z",
     "start_time": "2019-02-13T17:32:26.277551Z"
    }
   },
   "outputs": [],
   "source": [
    "min_age=40\n",
    "max_age=50\n",
    "nToSample=10\n",
    "nSeqs=3800\n",
    "isRandom=False \n",
    "\n",
    "nSampledShared=4\n",
    "\n",
    "sharing_rate_comparison_PNP_Cardio(AllUniqueWithCounts_path=None,min_age=min_age,max_age=max_age,nToSample=nToSample,\n",
    "                                       nSeqs=nSeqs,nSampledShared=nSampledShared,isRandom=isRandom,random_state_PNP=1,random_state_Cardio=1)"
   ]
  },
  {
   "cell_type": "markdown",
   "metadata": {},
   "source": [
    "## age 65-75"
   ]
  },
  {
   "cell_type": "code",
   "execution_count": null,
   "metadata": {
    "ExecuteTime": {
     "end_time": "2019-02-13T17:39:52.672287Z",
     "start_time": "2019-02-13T17:39:38.816653Z"
    }
   },
   "outputs": [],
   "source": [
    "min_age=65\n",
    "max_age=75\n",
    "nToSample=9\n",
    "nSeqs=3300\n",
    "isRandom=False \n",
    "\n",
    "nSampledShared=3\n",
    "\n",
    "sharing_rate_comparison_PNP_Cardio(AllUniqueWithCounts_path=None,min_age=min_age,max_age=max_age,nToSample=nToSample,\n",
    "                                       nSeqs=nSeqs,nSampledShared=nSampledShared,isRandom=isRandom,random_state_PNP=1,random_state_Cardio=1)"
   ]
  },
  {
   "cell_type": "markdown",
   "metadata": {},
   "source": [
    "## age 0-90"
   ]
  },
  {
   "cell_type": "code",
   "execution_count": null,
   "metadata": {
    "ExecuteTime": {
     "end_time": "2019-02-13T15:35:12.126784Z",
     "start_time": "2019-02-13T15:34:54.209294Z"
    }
   },
   "outputs": [],
   "source": [
    "min_age=0\n",
    "max_age=90\n",
    "nToSample=20\n",
    "nSeqs=5000\n",
    "isRandom=False #### note!!!! ######\n",
    "\n",
    "sharing_rate_comparison_PNP_Cardio(AllUniqueWithCounts_path=None,min_age=min_age,max_age=max_age,nToSample=nToSample,\n",
    "                                       nSeqs=nSeqs,isRandom=isRandom,random_state_PNP=1,random_state_Cardio=1)"
   ]
  },
  {
   "cell_type": "markdown",
   "metadata": {},
   "source": [
    "## use subsampled datasets\n",
    "no further subsampling is done!"
   ]
  },
  {
   "cell_type": "code",
   "execution_count": null,
   "metadata": {
    "ExecuteTime": {
     "end_time": "2019-02-13T17:08:55.600064Z",
     "start_time": "2019-02-13T17:08:50.704792Z"
    }
   },
   "outputs": [],
   "source": [
    "AllUniqueWithCounts_path='%s/TCR_real_data/PNP530Cardio126Combined/nonMatched/ss5000_rep3/sharingAnalysis/AllUniqueWithCounts' %MyPath\n",
    "min_age=45\n",
    "max_age=60\n",
    "nToSample=20\n",
    "nSeqs=None\n",
    "isRandom=True #### note!!!! ######\n",
    "random_state_PNP=3\n",
    "random_state_Cardio=3\n",
    "\n",
    "nSampledShared=2\n",
    "\n",
    "\n",
    "\n",
    "sharing_rate_comparison_PNP_Cardio(AllUniqueWithCounts_path=AllUniqueWithCounts_path,min_age=min_age,max_age=max_age,nToSample=nToSample,\n",
    "                                       nSeqs=nSeqs,nSampledShared=nSampledShared,isRandom=isRandom,random_state_PNP=random_state_PNP,random_state_Cardio=random_state_Cardio)"
   ]
  },
  {
   "cell_type": "code",
   "execution_count": null,
   "metadata": {
    "ExecuteTime": {
     "end_time": "2019-02-13T17:09:00.346131Z",
     "start_time": "2019-02-13T17:08:55.602628Z"
    }
   },
   "outputs": [],
   "source": [
    "AllUniqueWithCounts_path='%s/TCR_real_data/PNP530Cardio126Combined/nonMatched/ss5000_rep3/sharingAnalysis/AllUniqueWithCounts' %MyPath\n",
    "min_age=60\n",
    "max_age=75\n",
    "nToSample=20\n",
    "nSeqs=None\n",
    "isRandom=True #### note!!!! ######\n",
    "random_state_PNP=3\n",
    "random_state_Cardio=3\n",
    "\n",
    "nSampledShared=2\n",
    "\n",
    "\n",
    "\n",
    "sharing_rate_comparison_PNP_Cardio(AllUniqueWithCounts_path=AllUniqueWithCounts_path,min_age=min_age,max_age=max_age,nToSample=nToSample,\n",
    "                                       nSeqs=nSeqs,nSampledShared=nSampledShared,isRandom=isRandom,random_state_PNP=random_state_PNP,random_state_Cardio=random_state_Cardio)"
   ]
  },
  {
   "cell_type": "code",
   "execution_count": null,
   "metadata": {
    "ExecuteTime": {
     "end_time": "2019-02-13T17:08:55.600064Z",
     "start_time": "2019-02-13T17:08:50.704792Z"
    }
   },
   "outputs": [],
   "source": [
    "AllUniqueWithCounts_path='%s/TCR_real_data/PNP530Cardio126Combined/nonMatched/ss5000_rep3/sharingAnalysis/AllUniqueWithCounts' %MyPath\n",
    "min_age=45\n",
    "max_age=60\n",
    "nToSample=20\n",
    "nSeqs=None\n",
    "isRandom=True #### note!!!! ######\n",
    "random_state_PNP=3\n",
    "random_state_Cardio=3\n",
    "\n",
    "nSampledShared=2\n",
    "\n",
    "\n",
    "\n",
    "sharing_rate_comparison_PNP_Cardio(AllUniqueWithCounts_path=AllUniqueWithCounts_path,min_age=min_age,max_age=max_age,nToSample=nToSample,\n",
    "                                       nSeqs=nSeqs,nSampledShared=nSampledShared,isRandom=isRandom,random_state_PNP=random_state_PNP,random_state_Cardio=random_state_Cardio)"
   ]
  },
  {
   "cell_type": "code",
   "execution_count": null,
   "metadata": {
    "ExecuteTime": {
     "end_time": "2019-02-13T17:09:57.317851Z",
     "start_time": "2019-02-13T17:09:48.545294Z"
    }
   },
   "outputs": [],
   "source": [
    "AllUniqueWithCounts_path='%s/TCR_real_data/PNP530Cardio126Combined/nonMatched/ss15000_rep3/sharingAnalysis/AllUniqueWithCounts' %MyPath\n",
    "min_age=45\n",
    "max_age=60\n",
    "nToSample=20\n",
    "nSeqs=None\n",
    "isRandom=True #### note!!!! ######\n",
    "random_state_PNP=1\n",
    "random_state_Cardio=1\n",
    "\n",
    "nSampledShared=2\n",
    "\n",
    "\n",
    "\n",
    "sharing_rate_comparison_PNP_Cardio(AllUniqueWithCounts_path=AllUniqueWithCounts_path,min_age=min_age,max_age=max_age,nToSample=nToSample,\n",
    "                                       nSeqs=nSeqs,nSampledShared=nSampledShared,isRandom=isRandom,random_state_PNP=random_state_PNP,random_state_Cardio=random_state_Cardio)"
   ]
  },
  {
   "cell_type": "code",
   "execution_count": null,
   "metadata": {
    "ExecuteTime": {
     "end_time": "2019-02-13T17:49:19.983743Z",
     "start_time": "2019-02-13T17:49:09.789039Z"
    }
   },
   "outputs": [],
   "source": [
    "AllUniqueWithCounts_path='%s/TCR_real_data/PNP530Cardio126Combined/nonMatched/ss15000_rep3/sharingAnalysis/AllUniqueWithCounts' %MyPath\n",
    "min_age=45\n",
    "max_age=70\n",
    "nToSample=20\n",
    "nSeqs=None\n",
    "isRandom=True #### note!!!! ######\n",
    "random_state_PNP=3\n",
    "random_state_Cardio=3\n",
    "\n",
    "nSampledShared=2\n",
    "\n",
    "\n",
    "\n",
    "sharing_rate_comparison_PNP_Cardio(AllUniqueWithCounts_path=AllUniqueWithCounts_path,min_age=min_age,max_age=max_age,nToSample=nToSample,\n",
    "                                       nSeqs=nSeqs,nSampledShared=nSampledShared,isRandom=isRandom,random_state_PNP=random_state_PNP,random_state_Cardio=random_state_Cardio)"
   ]
  },
  {
   "cell_type": "markdown",
   "metadata": {},
   "source": [
    "## conclusion:"
   ]
  },
  {
   "cell_type": "markdown",
   "metadata": {},
   "source": [
    "in the following comparisons, patients showed less sharing than controls:\n",
    "1. ages 45-70, 20 samples, nSahred>= 4/5/10 (also in 40 samples)\n",
    "note - ages 45-70, using pre-subsampled samples - not working!\n",
    "2. ages 45-60, on pre-subsampled samples. in this case, in age group 60-75 the trend is oppsite!\n",
    "3. ages 50-60, 20 samples nShared>=2. "
   ]
  },
  {
   "cell_type": "code",
   "execution_count": null,
   "metadata": {},
   "outputs": [],
   "source": []
  },
  {
   "cell_type": "code",
   "execution_count": null,
   "metadata": {},
   "outputs": [],
   "source": []
  },
  {
   "cell_type": "code",
   "execution_count": null,
   "metadata": {
    "ExecuteTime": {
     "end_time": "2019-02-13T15:43:59.809008Z",
     "start_time": "2019-02-13T15:43:59.804729Z"
    }
   },
   "outputs": [],
   "source": [
    "print 'sdasdf'"
   ]
  },
  {
   "cell_type": "markdown",
   "metadata": {},
   "source": [
    "# PCoA\n",
    "patients are more distinct from each other\n",
    "use sequence clusters or just sequences - presence/absence and jaccard"
   ]
  },
  {
   "cell_type": "markdown",
   "metadata": {},
   "source": [
    "see PCA-PCoA notebook"
   ]
  },
  {
   "cell_type": "markdown",
   "metadata": {},
   "source": [
    "# sequence cluster heatmap"
   ]
  },
  {
   "cell_type": "markdown",
   "metadata": {},
   "source": [
    "## get data:"
   ]
  },
  {
   "cell_type": "markdown",
   "metadata": {},
   "source": [
    "### get list of clusters to present:\n",
    "this list should be used to slice all further input dfs:"
   ]
  },
  {
   "cell_type": "code",
   "execution_count": 84,
   "metadata": {
    "ExecuteTime": {
     "end_time": "2019-02-24T11:07:08.789443Z",
     "start_time": "2019-02-24T11:07:08.668169Z"
    }
   },
   "outputs": [
    {
     "name": "stdout",
     "output_type": "stream",
     "text": [
      "[u'CASSADGSSYNEQFF', u'CASSLRGQANEKLFF', u'CASSWTGWNSPLHF', u'CASSRTGEQETQYF', u'CASSWTGINSPLHF', u'CATSRDTGYEQYF', u'CASSIRGTYEQYF', u'CASSLGGVGEKLFF', u'CASSWGAGETQYF', u'CASSRTGRQETQYF', u'CASSDRYTGELFF', u'CASSHDRGYEQYF', u'CSASGGRDTQYF', u'CASRDGQGNYGYTF', u'CASSLSWTDTQYF', u'CASSGQGGSDTQYF', u'CASSYGRSTDTQYF', u'CASSYGTLETQYF', u'CASSPFLAKNIQYF', u'CSVGGKNTEAFF']\n"
     ]
    },
    {
     "data": {
      "text/html": [
       "<div>\n",
       "<style scoped>\n",
       "    .dataframe tbody tr th:only-of-type {\n",
       "        vertical-align: middle;\n",
       "    }\n",
       "\n",
       "    .dataframe tbody tr th {\n",
       "        vertical-align: top;\n",
       "    }\n",
       "\n",
       "    .dataframe thead th {\n",
       "        text-align: right;\n",
       "    }\n",
       "</style>\n",
       "<table border=\"1\" class=\"dataframe\">\n",
       "  <thead>\n",
       "    <tr style=\"text-align: right;\">\n",
       "      <th></th>\n",
       "      <th>cluster_head</th>\n",
       "      <th>OR_Fisher</th>\n",
       "      <th>p_Fisher</th>\n",
       "      <th>absent_PNP530_balancedAge_males_prodClusRed</th>\n",
       "      <th>absent_Cardio126_balancedAge_males_prodClusRed</th>\n",
       "      <th>present_PNP530_balancedAge_males_prodClusRed</th>\n",
       "      <th>present_Cardio126_balancedAge_males_prodClusRed</th>\n",
       "      <th>s_MW</th>\n",
       "      <th>p_MW</th>\n",
       "      <th>Sig by bonferroni corrected pVal_Fisher</th>\n",
       "      <th>sig. by FDR=0.1_Fisher</th>\n",
       "      <th>corr p_values by FDR=0.1_Fisher</th>\n",
       "      <th>Sig by bonferroni corrected pVal_MW</th>\n",
       "      <th>sig. by FDR=0.1_MW</th>\n",
       "      <th>corr p_values by FDR=0.1_MW</th>\n",
       "      <th>combined annotation_list_clean</th>\n",
       "      <th>n sequences in cluster</th>\n",
       "      <th>cluster sequences</th>\n",
       "      <th>annotation summary</th>\n",
       "      <th>Also sig. in</th>\n",
       "    </tr>\n",
       "  </thead>\n",
       "  <tbody>\n",
       "    <tr>\n",
       "      <th>6268</th>\n",
       "      <td>CASSADGSSYNEQFF</td>\n",
       "      <td>0.129412</td>\n",
       "      <td>0.000002</td>\n",
       "      <td>33.0</td>\n",
       "      <td>85.0</td>\n",
       "      <td>24.0</td>\n",
       "      <td>8.0</td>\n",
       "      <td>1750.5</td>\n",
       "      <td>4.884472e-07</td>\n",
       "      <td>0.0</td>\n",
       "      <td>0.0</td>\n",
       "      <td>0.281373</td>\n",
       "      <td>0.0</td>\n",
       "      <td>1.0</td>\n",
       "      <td>0.076124</td>\n",
       "      <td>NaN</td>\n",
       "      <td>13.0</td>\n",
       "      <td>CASSADYSSYNEQFF,CASSATGSSYNEQFF,CASSADGSRYNEQF...</td>\n",
       "      <td>,None:12</td>\n",
       "      <td>PNP530_balancedAge_males_prodClusRed_Cardio126...</td>\n",
       "    </tr>\n",
       "    <tr>\n",
       "      <th>66681</th>\n",
       "      <td>CASSLRGQANEKLFF</td>\n",
       "      <td>0.072222</td>\n",
       "      <td>0.000002</td>\n",
       "      <td>39.0</td>\n",
       "      <td>90.0</td>\n",
       "      <td>18.0</td>\n",
       "      <td>3.0</td>\n",
       "      <td>1897.5</td>\n",
       "      <td>6.320588e-07</td>\n",
       "      <td>0.0</td>\n",
       "      <td>0.0</td>\n",
       "      <td>0.281373</td>\n",
       "      <td>0.0</td>\n",
       "      <td>1.0</td>\n",
       "      <td>0.076124</td>\n",
       "      <td>NaN</td>\n",
       "      <td>42.0</td>\n",
       "      <td>CASSPRGQANEKLFF,CASSLRGTANEKLFF,CASSLRGMANEKLF...</td>\n",
       "      <td>,None:41</td>\n",
       "      <td>PNP530_balancedAge_males_prodClusRed_Cardio126...</td>\n",
       "    </tr>\n",
       "    <tr>\n",
       "      <th>122895</th>\n",
       "      <td>CASSWTGWNSPLHF</td>\n",
       "      <td>0.033385</td>\n",
       "      <td>0.000005</td>\n",
       "      <td>43.0</td>\n",
       "      <td>92.0</td>\n",
       "      <td>14.0</td>\n",
       "      <td>1.0</td>\n",
       "      <td>2027.5</td>\n",
       "      <td>1.768982e-06</td>\n",
       "      <td>0.0</td>\n",
       "      <td>0.0</td>\n",
       "      <td>0.281373</td>\n",
       "      <td>0.0</td>\n",
       "      <td>0.0</td>\n",
       "      <td>0.102628</td>\n",
       "      <td>NaN</td>\n",
       "      <td>23.0</td>\n",
       "      <td>CASSWTGINSPLHF,CASSWTGGNSPLHF,CASSWTGMNSPLHF,C...</td>\n",
       "      <td>,None:22</td>\n",
       "      <td>PNP530_prodClusRed_Cardio126_prodClusRed_percS...</td>\n",
       "    </tr>\n",
       "    <tr>\n",
       "      <th>199799</th>\n",
       "      <td>CASSRTGEQETQYF</td>\n",
       "      <td>0.118227</td>\n",
       "      <td>0.000005</td>\n",
       "      <td>36.0</td>\n",
       "      <td>87.0</td>\n",
       "      <td>21.0</td>\n",
       "      <td>6.0</td>\n",
       "      <td>1861.5</td>\n",
       "      <td>2.449215e-06</td>\n",
       "      <td>0.0</td>\n",
       "      <td>0.0</td>\n",
       "      <td>0.281373</td>\n",
       "      <td>0.0</td>\n",
       "      <td>0.0</td>\n",
       "      <td>0.102628</td>\n",
       "      <td>NaN</td>\n",
       "      <td>36.0</td>\n",
       "      <td>CASSVTGEQETQYF,CASSRTGEEETQYF,CASSRTWEQETQYF,C...</td>\n",
       "      <td>,None:35</td>\n",
       "      <td>PNP530_prodClusRed_Cardio126_prodClusRed_percS...</td>\n",
       "    </tr>\n",
       "    <tr>\n",
       "      <th>70254</th>\n",
       "      <td>CASSWTGINSPLHF</td>\n",
       "      <td>0.085417</td>\n",
       "      <td>0.000015</td>\n",
       "      <td>41.0</td>\n",
       "      <td>90.0</td>\n",
       "      <td>16.0</td>\n",
       "      <td>3.0</td>\n",
       "      <td>1990.5</td>\n",
       "      <td>4.701851e-06</td>\n",
       "      <td>0.0</td>\n",
       "      <td>0.0</td>\n",
       "      <td>0.326295</td>\n",
       "      <td>0.0</td>\n",
       "      <td>0.0</td>\n",
       "      <td>0.102628</td>\n",
       "      <td>NaN</td>\n",
       "      <td>29.0</td>\n",
       "      <td>CASSETGINSPLHF,CASSFTGINSPLHF,CASSWTGGNSPLHF,C...</td>\n",
       "      <td>,None:28</td>\n",
       "      <td>PNP530_prodClusRed_Cardio126_prodClusRed_percS...</td>\n",
       "    </tr>\n",
       "  </tbody>\n",
       "</table>\n",
       "</div>"
      ],
      "text/plain": [
       "           cluster_head  OR_Fisher  p_Fisher  absent_PNP530_balancedAge_males_prodClusRed  absent_Cardio126_balancedAge_males_prodClusRed  present_PNP530_balancedAge_males_prodClusRed  present_Cardio126_balancedAge_males_prodClusRed    s_MW          p_MW  Sig by bonferroni corrected pVal_Fisher  sig. by FDR=0.1_Fisher  corr p_values by FDR=0.1_Fisher  Sig by bonferroni corrected pVal_MW  sig. by FDR=0.1_MW  corr p_values by FDR=0.1_MW combined annotation_list_clean  n sequences in cluster                                  cluster sequences annotation summary                                       Also sig. in\n",
       "6268    CASSADGSSYNEQFF   0.129412  0.000002                                         33.0                                            85.0                                          24.0                                              8.0  1750.5  4.884472e-07                                      0.0                     0.0                         0.281373                                  0.0                 1.0                     0.076124                            NaN                    13.0  CASSADYSSYNEQFF,CASSATGSSYNEQFF,CASSADGSRYNEQF...           ,None:12  PNP530_balancedAge_males_prodClusRed_Cardio126...\n",
       "66681   CASSLRGQANEKLFF   0.072222  0.000002                                         39.0                                            90.0                                          18.0                                              3.0  1897.5  6.320588e-07                                      0.0                     0.0                         0.281373                                  0.0                 1.0                     0.076124                            NaN                    42.0  CASSPRGQANEKLFF,CASSLRGTANEKLFF,CASSLRGMANEKLF...           ,None:41  PNP530_balancedAge_males_prodClusRed_Cardio126...\n",
       "122895   CASSWTGWNSPLHF   0.033385  0.000005                                         43.0                                            92.0                                          14.0                                              1.0  2027.5  1.768982e-06                                      0.0                     0.0                         0.281373                                  0.0                 0.0                     0.102628                            NaN                    23.0  CASSWTGINSPLHF,CASSWTGGNSPLHF,CASSWTGMNSPLHF,C...           ,None:22  PNP530_prodClusRed_Cardio126_prodClusRed_percS...\n",
       "199799   CASSRTGEQETQYF   0.118227  0.000005                                         36.0                                            87.0                                          21.0                                              6.0  1861.5  2.449215e-06                                      0.0                     0.0                         0.281373                                  0.0                 0.0                     0.102628                            NaN                    36.0  CASSVTGEQETQYF,CASSRTGEEETQYF,CASSRTWEQETQYF,C...           ,None:35  PNP530_prodClusRed_Cardio126_prodClusRed_percS...\n",
       "70254    CASSWTGINSPLHF   0.085417  0.000015                                         41.0                                            90.0                                          16.0                                              3.0  1990.5  4.701851e-06                                      0.0                     0.0                         0.326295                                  0.0                 0.0                     0.102628                            NaN                    29.0  CASSETGINSPLHF,CASSFTGINSPLHF,CASSWTGGNSPLHF,C...           ,None:28  PNP530_prodClusRed_Cardio126_prodClusRed_percS..."
      ]
     },
     "execution_count": 84,
     "metadata": {},
     "output_type": "execute_result"
    }
   ],
   "source": [
    "top_diff_clusters=pd.read_excel(CLUSTER_ANALYSIS_DIR+'Fisher_MW_comparisons/PNP530_balancedAge_males_prodClusRed\\\n",
    "_Cardio126_balancedAge_males_prodClusRed_percShared01_percTooMany085_top100p05_analyzed.xlsx')\n",
    "\n",
    "cluster_list=top_diff_clusters['cluster_head'].dropna().tolist()\n",
    "print cluster_list[:20]\n",
    "top_diff_clusters.head()"
   ]
  },
  {
   "cell_type": "markdown",
   "metadata": {},
   "source": [
    "### get sampleByClusterDF - balanced"
   ]
  },
  {
   "cell_type": "code",
   "execution_count": 18,
   "metadata": {
    "ExecuteTime": {
     "end_time": "2019-02-24T09:26:37.761213Z",
     "start_time": "2019-02-24T09:26:35.862248Z"
    }
   },
   "outputs": [],
   "source": [
    "sampleByClusterDF=pd.read_pickle('/net/mraid08/export/jafar/Microbiome/Analyses/ShaniBAF/\\\n",
    "sharingAnalysis/seqClusters_allProd_maxdist1/sampleByClusterDF_cohortfiltering005-085perc_dropped.dat')"
   ]
  },
  {
   "cell_type": "code",
   "execution_count": 19,
   "metadata": {
    "ExecuteTime": {
     "end_time": "2019-02-24T09:27:45.948177Z",
     "start_time": "2019-02-24T09:27:45.937730Z"
    }
   },
   "outputs": [],
   "source": [
    "# get samples lists:\n",
    "with open('/net/mraid08/export/genie/Lab/Personal/ShaniBAF/Sample files/BD lists/PNP530_balancedAge_males') as fp:\n",
    "    PNP530_balancedAge_males=pickle.load(fp)\n",
    "with open('/net/mraid08/export/genie/Lab/Personal/ShaniBAF/Sample files/BD lists/Cardio126_balancedAge_males') as fp:\n",
    "    Cardio126_balancedAge_males=pickle.load(fp)"
   ]
  },
  {
   "cell_type": "code",
   "execution_count": 85,
   "metadata": {
    "ExecuteTime": {
     "end_time": "2019-02-24T11:07:28.830382Z",
     "start_time": "2019-02-24T11:07:28.806427Z"
    }
   },
   "outputs": [
    {
     "name": "stdout",
     "output_type": "stream",
     "text": [
      "(150, 100)\n"
     ]
    },
    {
     "data": {
      "text/html": [
       "<div>\n",
       "<style scoped>\n",
       "    .dataframe tbody tr th:only-of-type {\n",
       "        vertical-align: middle;\n",
       "    }\n",
       "\n",
       "    .dataframe tbody tr th {\n",
       "        vertical-align: top;\n",
       "    }\n",
       "\n",
       "    .dataframe thead th {\n",
       "        text-align: right;\n",
       "    }\n",
       "</style>\n",
       "<table border=\"1\" class=\"dataframe\">\n",
       "  <thead>\n",
       "    <tr style=\"text-align: right;\">\n",
       "      <th></th>\n",
       "      <th>CASSADGSSYNEQFF</th>\n",
       "      <th>CASSLRGQANEKLFF</th>\n",
       "      <th>CASSWTGWNSPLHF</th>\n",
       "      <th>CASSRTGEQETQYF</th>\n",
       "      <th>CASSWTGINSPLHF</th>\n",
       "    </tr>\n",
       "  </thead>\n",
       "  <tbody>\n",
       "    <tr>\n",
       "      <th>BD801</th>\n",
       "      <td>0.0</td>\n",
       "      <td>1.0</td>\n",
       "      <td>1.0</td>\n",
       "      <td>2.0</td>\n",
       "      <td>1.0</td>\n",
       "    </tr>\n",
       "    <tr>\n",
       "      <th>BD221</th>\n",
       "      <td>0.0</td>\n",
       "      <td>1.0</td>\n",
       "      <td>1.0</td>\n",
       "      <td>1.0</td>\n",
       "      <td>1.0</td>\n",
       "    </tr>\n",
       "    <tr>\n",
       "      <th>BD631</th>\n",
       "      <td>0.0</td>\n",
       "      <td>0.0</td>\n",
       "      <td>0.0</td>\n",
       "      <td>0.0</td>\n",
       "      <td>0.0</td>\n",
       "    </tr>\n",
       "    <tr>\n",
       "      <th>BD441</th>\n",
       "      <td>0.0</td>\n",
       "      <td>1.0</td>\n",
       "      <td>0.0</td>\n",
       "      <td>0.0</td>\n",
       "      <td>0.0</td>\n",
       "    </tr>\n",
       "    <tr>\n",
       "      <th>BD834</th>\n",
       "      <td>0.0</td>\n",
       "      <td>0.0</td>\n",
       "      <td>0.0</td>\n",
       "      <td>0.0</td>\n",
       "      <td>0.0</td>\n",
       "    </tr>\n",
       "  </tbody>\n",
       "</table>\n",
       "</div>"
      ],
      "text/plain": [
       "       CASSADGSSYNEQFF  CASSLRGQANEKLFF  CASSWTGWNSPLHF  CASSRTGEQETQYF  CASSWTGINSPLHF\n",
       "BD801              0.0              1.0             1.0             2.0             1.0\n",
       "BD221              0.0              1.0             1.0             1.0             1.0\n",
       "BD631              0.0              0.0             0.0             0.0             0.0\n",
       "BD441              0.0              1.0             0.0             0.0             0.0\n",
       "BD834              0.0              0.0             0.0             0.0             0.0"
      ]
     },
     "execution_count": 85,
     "metadata": {},
     "output_type": "execute_result"
    }
   ],
   "source": [
    "sampleByClusterDF_balanced_clusterList=sampleByClusterDF.\\\n",
    "loc[PNP530_balancedAge_males+Cardio126_balancedAge_males,cluster_list].fillna(0)\n",
    "print sampleByClusterDF_balanced_clusterList.shape\n",
    "sampleByClusterDF_balanced_clusterList.iloc[:5,:5]"
   ]
  },
  {
   "cell_type": "markdown",
   "metadata": {},
   "source": [
    "### get sum of relevant clusters per clusterlist"
   ]
  },
  {
   "cell_type": "code",
   "execution_count": 104,
   "metadata": {
    "ExecuteTime": {
     "end_time": "2019-02-24T12:09:28.409413Z",
     "start_time": "2019-02-24T12:09:28.384180Z"
    }
   },
   "outputs": [
    {
     "name": "stdout",
     "output_type": "stream",
     "text": [
      "(150,)\n"
     ]
    },
    {
     "data": {
      "text/plain": [
       "BD27      89.0\n",
       "BD124     87.0\n",
       "BD106     83.0\n",
       "BD19      64.0\n",
       "BD909     63.0\n",
       "BD908     63.0\n",
       "BD221     63.0\n",
       "BD935     62.0\n",
       "BD442     59.0\n",
       "BD801     58.0\n",
       "BD793     57.0\n",
       "BD574     57.0\n",
       "BD273     56.0\n",
       "BD150     56.0\n",
       "BD369     55.0\n",
       "BD847     54.0\n",
       "BD859     52.0\n",
       "BD810     52.0\n",
       "BD865     52.0\n",
       "BD149     51.0\n",
       "BD839     51.0\n",
       "BD339     50.0\n",
       "BD422     50.0\n",
       "BD432     49.0\n",
       "BD495     49.0\n",
       "BD412     48.0\n",
       "BD71      46.0\n",
       "BD543     45.0\n",
       "BD834     45.0\n",
       "BD570     44.0\n",
       "          ... \n",
       "BD1093     9.0\n",
       "BD1003     9.0\n",
       "BD956      9.0\n",
       "BD973      9.0\n",
       "BD959      9.0\n",
       "BD1069     9.0\n",
       "BD1050     8.0\n",
       "BD1010     8.0\n",
       "BD1004     8.0\n",
       "BD453      8.0\n",
       "BD1049     8.0\n",
       "BD1012     7.0\n",
       "BD963      7.0\n",
       "BD1000     7.0\n",
       "BD1021     6.0\n",
       "BD1048     6.0\n",
       "BD1068     6.0\n",
       "BD996      6.0\n",
       "BD1014     4.0\n",
       "BD962      4.0\n",
       "BD999      4.0\n",
       "BD951      3.0\n",
       "BD955      3.0\n",
       "BD1002     2.0\n",
       "BD1051     2.0\n",
       "BD957      2.0\n",
       "BD1070     2.0\n",
       "BD953      2.0\n",
       "BD968      2.0\n",
       "BD991      0.0\n",
       "Length: 150, dtype: float32"
      ]
     },
     "execution_count": 104,
     "metadata": {},
     "output_type": "execute_result"
    }
   ],
   "source": [
    "cluster_sum=sampleByClusterDF_balanced_clusterList.sum(axis=1)\n",
    "print cluster_sum.shape\n",
    "cluster_sum.sort_values(ascending=False)\n"
   ]
  },
  {
   "cell_type": "markdown",
   "metadata": {},
   "source": [
    "### get targetDF:"
   ]
  },
  {
   "cell_type": "code",
   "execution_count": 90,
   "metadata": {
    "ExecuteTime": {
     "end_time": "2019-02-24T11:09:38.301639Z",
     "start_time": "2019-02-24T11:09:38.278646Z"
    }
   },
   "outputs": [
    {
     "name": "stdout",
     "output_type": "stream",
     "text": [
      "(150, 1)\n",
      "       isCardio\n",
      "BD801         0\n",
      "BD221         0\n",
      "BD631         0\n",
      "BD441         0\n",
      "BD834         0\n"
     ]
    }
   ],
   "source": [
    "PRED_RESULTS_DIR='/net/mraid08/export/jafar/Microbiome/Analyses/ShaniBAF/predictions2/'\n",
    "isCardio=pd.read_pickle(PRED_RESULTS_DIR+'TargetDFs/isCardio.dat')\n",
    "iscardio_balanced=isCardio.loc[PNP530_balancedAge_males+Cardio126_balancedAge_males]\n",
    "print iscardio_balanced.shape\n",
    "print iscardio_balanced.head()"
   ]
  },
  {
   "cell_type": "markdown",
   "metadata": {},
   "source": [
    "### get y_pred"
   ]
  },
  {
   "cell_type": "code",
   "execution_count": 91,
   "metadata": {
    "ExecuteTime": {
     "end_time": "2019-02-24T11:09:58.942590Z",
     "start_time": "2019-02-24T11:09:58.923434Z"
    }
   },
   "outputs": [
    {
     "name": "stdout",
     "output_type": "stream",
     "text": [
      "(150, 1)\n",
      "       isCardio\n",
      "BD801  0.338149\n",
      "BD221  0.333643\n",
      "BD631  0.531076\n",
      "BD441  0.183674\n",
      "BD834  0.309735\n"
     ]
    }
   ],
   "source": [
    "Y_pred=pd.read_pickle(PRED_RESULTS_DIR+'isCardio/XGB_randomSearch_25_byRepFeatPCA10RelsVDJnocorr0999AgeGender/\\\n",
    "predictions_df.pkl')\n",
    "Y_pred=Y_pred.loc[PNP530_balancedAge_males+Cardio126_balancedAge_males]\n",
    "print Y_pred.shape\n",
    "print Y_pred.head()"
   ]
  },
  {
   "cell_type": "markdown",
   "metadata": {},
   "source": [
    "## define function"
   ]
  },
  {
   "cell_type": "code",
   "execution_count": 81,
   "metadata": {
    "ExecuteTime": {
     "end_time": "2019-02-24T11:04:51.710948Z",
     "start_time": "2019-02-24T11:04:51.703838Z"
    }
   },
   "outputs": [],
   "source": [
    "plt.show()"
   ]
  },
  {
   "cell_type": "code",
   "execution_count": 113,
   "metadata": {
    "ExecuteTime": {
     "end_time": "2019-02-24T12:25:28.742297Z",
     "start_time": "2019-02-24T12:25:28.594216Z"
    }
   },
   "outputs": [],
   "source": [
    "def plot_sequence_cluster_heatmap(targetDF,Y_pred,sampleByClusterDF,cluster_sum,ax1,ax2,ax3,showPredCbar=True,\n",
    "                                 max_val=6,binary=True):\n",
    "    \n",
    "    ### inputs are: targetDF = (Y_true), Y_pred, sampleByClusterDF, cluster_sum (summary of number of \n",
    "    ### seqeunces in clusters that are includesd in the cluster-list presnted, per sample)\n",
    "    ### make sure all of the above 4 dfs include the same clusters (cluster list) and do not include nans\n",
    "    ### Y_pred should be astype 'float'\n",
    "\n",
    "    ##max_val can be None and then will be set to the maximal value if the data\n",
    "    \n",
    "    print 'get data...'\n",
    "    Yname=targetDF.columns.tolist()[0]\n",
    "    \n",
    "    # get Y_pred data:\n",
    "    Y_pred=Y_pred.rename(columns={Y_pred.columns[0]:'pred_proba'}).astype('float')\n",
    "    Y_pred=pd.DataFrame(Y_pred)\n",
    "    \n",
    "    cluster_sum=pd.DataFrame(cluster_sum)\n",
    "    cluster_sum=cluster_sum.rename(columns={cluster_sum.columns[0]:'cluster_sum'})\n",
    "    print cluster_sum.head()\n",
    "       \n",
    "    print 'merging info...'\n",
    "    #merge all and sort by Y and Y_pred:\n",
    "    merged=pd.merge(targetDF,Y_pred,how='inner',left_index=True,right_index=True)\n",
    "    merged=pd.merge(merged,cluster_sum,how='inner',left_index=True,right_index=True)\n",
    "    merged=pd.merge(merged,sampleByClusterDF,how='inner',left_index=True,right_index=True)\n",
    "    merged=merged.sort_values(by=[Yname,'pred_proba'],ascending=False)\n",
    "    print ('merged.shape: ',merged.shape)\n",
    "    print merged.head()\n",
    "#     print merged[merged.isnull().any(axis=1)]\n",
    "    \n",
    "    df =  merged[[Yname,'pred_proba']]\n",
    "#     df =  pd.DataFrame(merged['pred_proba'])\n",
    "#     df =  pd.DataFrame(merged[Yname])\n",
    "    print 'df:'\n",
    "    print df.head()\n",
    "    df2 = merged.iloc[:,4:]\n",
    "    print 'df2:'\n",
    "    print df2.head()\n",
    "    df3=pd.DataFrame(merged['cluster_sum'])\n",
    "    print df3.head()\n",
    "\n",
    "        #generate figure:\n",
    "    print 'generating figure...'\n",
    "    print ('max val is: ',df2.max().max())\n",
    "    if max_val is None:\n",
    "        max_val=int(df2.max().max())\n",
    "    min_val=0\n",
    "    dif=max_val-min_val\n",
    "#     print dif\n",
    "\n",
    "    cmap_2 = plt.get_cmap('Reds', dif+1)\n",
    "    cmap_3='Blues'\n",
    "    \n",
    "#     fig.subplots_adjust(hspace=0.02)\n",
    "# ,vmin=min_val,vmax=max_val\n",
    "    print 'generating heat map1'\n",
    "    hp1=sns.heatmap(df.T, cmap=\"Greys\", ax=ax1, cbar=False,linewidth=0.05)\n",
    "    if showPredCbar:\n",
    "        cbar_1=fig.colorbar(ax1.collections[0],ax=ax1,location=\"top\", use_gridspec=False, pad=0.08,fraction=0.3,aspect=10)\n",
    "        if binary:\n",
    "            cbar_1.set_ticks([0,0.5,1])\n",
    "        else:\n",
    "            cbar_1.set_ticklabels(range(dif+1))\n",
    "    print 'generating heat map2...'\n",
    "    hp2=sns.heatmap(df2.T, cmap=cmap_2, ax=ax2, cbar=False,linewidth=0.05,vmin = min_val, vmax = max_val)\n",
    "    cbar_2=fig.colorbar(ax2.collections[0], ax=ax2,location=\"right\", use_gridspec=False, pad=0.08, fraction=0.05, aspect=10)\n",
    "    cbar_2.set_ticks([float(dif)/12 + float(dif)*x/(dif+1) for x in range(dif+1)])\n",
    "    cbar_2.set_ticklabels(range(dif+1))\n",
    "    print 'generating heat map 3...'\n",
    "    hp3=sns.heatmap(df3.T, cmap=cmap_3, ax=ax3, cbar=False,linewidth=0.05)\n",
    "\n",
    "    ax1.tick_params(axis='both', which='both', bottom=False, top=False, labelbottom=False, labelleft=False) \n",
    "    ax2.tick_params(axis='both', which='both', bottom=False, top=False, labelbottom=False, labelleft=False)\n",
    "    ax3.tick_params(axis='both', which='both', bottom=False, top=False, labelbottom=False, labelleft=False)\n",
    "    cbar_3=fig.colorbar(ax3.collections[0], ax=ax3,location=\"bottom\", use_gridspec=False, pad=0.08, fraction=0.5, aspect=10)\n",
    "   \n",
    "    return ax1,ax2,ax3\n",
    "    "
   ]
  },
  {
   "cell_type": "markdown",
   "metadata": {},
   "source": [
    "## generate heat map"
   ]
  },
  {
   "cell_type": "code",
   "execution_count": 114,
   "metadata": {
    "ExecuteTime": {
     "end_time": "2019-02-24T12:25:45.074942Z",
     "start_time": "2019-02-24T12:25:40.129750Z"
    }
   },
   "outputs": [
    {
     "name": "stdout",
     "output_type": "stream",
     "text": [
      "get data...\n",
      "       cluster_sum\n",
      "BD801         58.0\n",
      "BD221         63.0\n",
      "BD631         23.0\n",
      "BD441         39.0\n",
      "BD834         45.0\n",
      "merging info...\n",
      "('merged.shape: ', (150, 103))\n",
      "        isCardio  pred_proba  cluster_sum  CASSADGSSYNEQFF  CASSLRGQANEKLFF  CASSWTGWNSPLHF  CASSRTGEQETQYF  CASSWTGINSPLHF  CATSRDTGYEQYF  CASSIRGTYEQYF      ...       CASSLAGGGSPLHF  CASRGGGANTGELFF  CASGVDTQYF  CASSPALAKNIQYF  CASSQVGDYGYTF  CASSYGVEQYF  CSVVLGYEQYF  CASSPSGISYEQYF  CASSPSSGGSTDTQYF  CASSLRSHEQYF\n",
      "BD1001         1    0.932069          9.0              0.0              0.0             0.0             0.0             0.0            0.0            0.0      ...                  0.0              0.0         1.0             0.0            0.0          0.0          0.0             0.0               0.0           0.0\n",
      "BD1097         1    0.929464         25.0              0.0              0.0             0.0             0.0             0.0            0.0            0.0      ...                  0.0              0.0         0.0             0.0            0.0          1.0          0.0             0.0               0.0           0.0\n",
      "BD1087         1    0.918309         22.0              0.0              0.0             0.0             2.0             0.0            0.0            0.0      ...                  0.0              0.0         0.0             0.0            0.0          0.0          0.0             0.0               0.0           0.0\n",
      "BD1096         1    0.908588         24.0              0.0              0.0             0.0             1.0             0.0            0.0            0.0      ...                  0.0              0.0         1.0             0.0            0.0          0.0          0.0             0.0               1.0           0.0\n",
      "BD1082         1    0.875240         25.0              1.0              0.0             0.0             0.0             0.0            0.0            0.0      ...                  1.0              0.0         0.0             0.0            0.0          0.0          0.0             0.0               0.0           0.0\n",
      "\n",
      "[5 rows x 103 columns]\n",
      "df:\n",
      "        isCardio  pred_proba\n",
      "BD1001         1    0.932069\n",
      "BD1097         1    0.929464\n",
      "BD1087         1    0.918309\n",
      "BD1096         1    0.908588\n",
      "BD1082         1    0.875240\n",
      "df2:\n",
      "        CASSLRGQANEKLFF  CASSWTGWNSPLHF  CASSRTGEQETQYF  CASSWTGINSPLHF  CATSRDTGYEQYF  CASSIRGTYEQYF  CASSLGGVGEKLFF  CASSWGAGETQYF  CASSRTGRQETQYF  CASSDRYTGELFF      ...       CASSLAGGGSPLHF  CASRGGGANTGELFF  CASGVDTQYF  CASSPALAKNIQYF  CASSQVGDYGYTF  CASSYGVEQYF  CSVVLGYEQYF  CASSPSGISYEQYF  CASSPSSGGSTDTQYF  CASSLRSHEQYF\n",
      "BD1001              0.0             0.0             0.0             0.0            0.0            0.0             0.0            0.0             0.0            0.0      ...                  0.0              0.0         1.0             0.0            0.0          0.0          0.0             0.0               0.0           0.0\n",
      "BD1097              0.0             0.0             0.0             0.0            0.0            0.0             1.0            0.0             0.0            1.0      ...                  0.0              0.0         0.0             0.0            0.0          1.0          0.0             0.0               0.0           0.0\n",
      "BD1087              0.0             0.0             2.0             0.0            0.0            0.0             0.0            1.0             2.0            2.0      ...                  0.0              0.0         0.0             0.0            0.0          0.0          0.0             0.0               0.0           0.0\n",
      "BD1096              0.0             0.0             1.0             0.0            0.0            0.0             0.0            1.0             1.0            0.0      ...                  0.0              0.0         1.0             0.0            0.0          0.0          0.0             0.0               1.0           0.0\n",
      "BD1082              0.0             0.0             0.0             0.0            0.0            0.0             0.0            0.0             0.0            0.0      ...                  1.0              0.0         0.0             0.0            0.0          0.0          0.0             0.0               0.0           0.0\n",
      "\n",
      "[5 rows x 99 columns]\n",
      "        cluster_sum\n",
      "BD1001          9.0\n",
      "BD1097         25.0\n",
      "BD1087         22.0\n",
      "BD1096         24.0\n",
      "BD1082         25.0\n",
      "generating figure...\n",
      "('max val is: ', 6.0)\n",
      "generating heat map1\n",
      "generating heat map2...\n",
      "generating heat map 3...\n"
     ]
    },
    {
     "data": {
      "image/png": "[encoded data removed]",
      "text/plain": [
       "<matplotlib.figure.Figure at 0x7f54c8f00290>"
      ]
     },
     "metadata": {},
     "output_type": "display_data"
    }
   ],
   "source": [
    "from matplotlib import gridspec\n",
    "\n",
    "cluster_list=top_diff_clusters['cluster_head'].tolist()[:100]\n",
    "\n",
    "\n",
    "targetDF=iscardio_balanced\n",
    "Y_pred=Y_pred\n",
    "sampleByClusterDF=sampleByClusterDF_balanced_clusterList\n",
    "cluster_sum=cluster_sum\n",
    "\n",
    "showPredCbar=True\n",
    "max_val=None\n",
    "binary=True\n",
    "\n",
    "f=plt.figure(figsize=(15,15))\n",
    "gs00=gridspec.GridSpec(106,1)\n",
    "\n",
    "ax1=plt.Subplot(f,gs00[:2,:])\n",
    "f.add_subplot(ax1)\n",
    "ax2=plt.Subplot(f,gs00[2:102,:])\n",
    "f.add_subplot(ax2)\n",
    "ax3=plt.Subplot(f,gs00[102:,:])\n",
    "f.add_subplot(ax3)\n",
    "\n",
    "plot_sequence_cluster_heatmap(targetDF,Y_pred,sampleByClusterDF,cluster_sum,ax1,ax2,ax3,showPredCbar=showPredCbar,\n",
    "                             max_val=max_val,binary=binary)\n",
    "plt.show()"
   ]
  },
  {
   "cell_type": "code",
   "execution_count": null,
   "metadata": {},
   "outputs": [],
   "source": []
  },
  {
   "cell_type": "code",
   "execution_count": null,
   "metadata": {},
   "outputs": [],
   "source": []
  }
 ],
 "metadata": {
  "kernelspec": {
   "display_name": "Python 2",
   "language": "python",
   "name": "python2"
  },
  "language_info": {
   "codemirror_mode": {
    "name": "ipython",
    "version": 2
   },
   "file_extension": ".py",
   "mimetype": "text/x-python",
   "name": "python",
   "nbconvert_exporter": "python",
   "pygments_lexer": "ipython2",
   "version": "2.7.8"
  },
  "toc": {
   "nav_menu": {},
   "number_sections": true,
   "sideBar": true,
   "skip_h1_title": false,
   "toc_cell": false,
   "toc_position": {
    "height": "521px",
    "left": "0px",
    "right": "20px",
    "top": "135px",
    "width": "287px"
   },
   "toc_section_display": "block",
   "toc_window_display": true
  },
  "varInspector": {
   "cols": {
    "lenName": 16,
    "lenType": 16,
    "lenVar": 40
   },
   "kernels_config": {
    "python": {
     "delete_cmd_postfix": "",
     "delete_cmd_prefix": "del ",
     "library": "var_list.py",
     "varRefreshCmd": "print(var_dic_list())"
    },
    "r": {
     "delete_cmd_postfix": ") ",
     "delete_cmd_prefix": "rm(",
     "library": "var_list.r",
     "varRefreshCmd": "cat(var_dic_list()) "
    }
   },
   "types_to_exclude": [
    "module",
    "function",
    "builtin_function_or_method",
    "instance",
    "_Feature"
   ],
   "window_display": false
  }
 },
 "nbformat": 4,
 "nbformat_minor": 2
}
