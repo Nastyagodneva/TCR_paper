{
 "cells": [
  {
   "cell_type": "markdown",
   "metadata": {},
   "source": [
    "# imports:"
   ]
  },
  {
   "cell_type": "code",
   "execution_count": 1,
   "metadata": {
    "ExecuteTime": {
     "end_time": "2019-01-16T23:09:29.628105Z",
     "start_time": "2019-01-16T23:09:26.232637Z"
    }
   },
   "outputs": [
    {
     "name": "stdout",
     "output_type": "stream",
     "text": [
      "done1\n",
      "stop\n",
      "stop\n",
      "done1\n",
      "stop\n",
      "done\n",
      "done\n",
      "done\n",
      "done\n",
      "stop\n",
      "stop\n",
      "end of function!!!\n",
      "end of function!!!\n"
     ]
    }
   ],
   "source": [
    "from os import listdir,mkdir,makedirs\n",
    "from os.path import isfile, join, isdir,exists\n",
    "import pandas as pd\n",
    "import numpy as np\n",
    "from scipy import stats\n",
    "import re\n",
    "import matplotlib.pyplot as plt\n",
    "from matplotlib.backends.backend_pdf import PdfPages\n",
    "from myplots import roundup, rounddown, find_decimal_fold, percentile_cut_off, rarefaction_calc, rarefaction_plot,draw_correlation_scatter\n",
    "from matplotlib.ticker import FormatStrFormatter\n",
    "import cPickle as pickle\n",
    "from Bio.SeqUtils import GC\n",
    "import seaborn as sns\n",
    "import random\n",
    "from scipy.stats import pearsonr,fisher_exact, mannwhitneyu\n",
    "from skbio.diversity.alpha import shannon, simpson, berger_parker_d\n",
    "\n",
    "from pop_organize import get_sample_data, get_sample_with_dfs\n",
    "from SufficientStatistics.SufficientStatistics import *\n",
    "from MyFunctionsShani import *\n",
    "import math\n",
    "from myplots import roundup, rounddown, find_decimal_fold, adjusted_roundup\n",
    "from skbio.stats.distance import mantel\n",
    "from scipy.spatial.distance import braycurtis, pdist, euclidean\n",
    "\n",
    "\n",
    "from GeneralFeaturePhenotypeInteractions.Feature_phenotype_functions import * \n",
    "from TCR_microbiome_interactions.TCR_microbiome_interactions_functions import *\n",
    "from TCR_microbiome_interactions.TCR_microbiome_interactions_functions2 import *\n",
    "from SampleLists.SampleFileFunctions import *\n",
    "from PhenotypicData.PhenotypeGenerationFunctions import *\n",
    "from CardioProject.CardioFunctions import *\n",
    "from PredictionPipeline.PredictionFunctions import *\n",
    "from TCR_feature_generation.SubsamplingFunctions import *\n",
    "\n",
    "import os\n",
    "from Utils import cacheOnDisk, Load\n",
    "from SegalQueue.qp import qp,fakeqp\n",
    "from addloglevels import sethandlers\n",
    "\n",
    "#ML imports:\n",
    "from xgboost import XGBClassifier\n",
    "import lightgbm as lgb\n",
    "from collections import OrderedDict\n",
    "from sklearn.model_selection import GroupKFold,StratifiedKFold, KFold\n",
    "import statsmodels.formula.api as sm\n",
    "from sklearn.linear_model import LogisticRegression, LinearRegression\n",
    "import shap\n",
    "from sklearn import metrics, preprocessing\n",
    "from sklearn.svm import LinearSVC\n",
    "from sklearn.feature_selection import SelectFromModel,SelectKBest,chi2,mutual_info_classif,f_classif\n",
    "from sklearn.naive_bayes import GaussianNB\n",
    "from sklearn.metrics import *\n",
    "\n",
    "MyPath='/net/mraid08/export/genie/Lab/Personal/ShaniBAF'\n",
    "\n",
    "with open('/net/mraid08/export/genie/Lab/Personal/ShaniBAF/Sample files/BD lists/PNP530','rb') as fp:\n",
    "    PNP530=pickle.load(fp)\n",
    "with open('/net/mraid08/export/genie/Lab/Personal/ShaniBAF/Sample files/BD lists/Cardio126','rb') as fp:\n",
    "    Cardio126=pickle.load(fp)\n",
    "PNP530Cardio126=PNP530+Cardio126\n",
    "\n",
    "pd.set_option('display.expand_frame_repr', False)\n"
   ]
  },
  {
   "cell_type": "code",
   "execution_count": 2,
   "metadata": {
    "ExecuteTime": {
     "end_time": "2019-01-16T23:09:29.951420Z",
     "start_time": "2019-01-16T23:09:29.936596Z"
    }
   },
   "outputs": [
    {
     "data": {
      "text/plain": [
       "'17012019'"
      ]
     },
     "execution_count": 2,
     "metadata": {},
     "output_type": "execute_result"
    }
   ],
   "source": [
    "import time\n",
    "cdate=str(time.strftime(\"%d%m%Y\"))\n",
    "cdate"
   ]
  },
  {
   "cell_type": "markdown",
   "metadata": {},
   "source": [
    "# calculate MW test for all features in \"top features file\""
   ]
  },
  {
   "cell_type": "markdown",
   "metadata": {},
   "source": [
    "## top 40 features"
   ]
  },
  {
   "cell_type": "code",
   "execution_count": 3,
   "metadata": {
    "ExecuteTime": {
     "end_time": "2019-01-16T23:09:30.757940Z",
     "start_time": "2019-01-16T23:09:30.259796Z"
    }
   },
   "outputs": [],
   "source": [
    "featuresFD=pd.read_excel('%s/TCR_real_data/PNP530Cardio126Combined/featureSummaryDFs/PNP530Cardio126_featureDF_topFeatures.xlsx' %MyPath)"
   ]
  },
  {
   "cell_type": "code",
   "execution_count": 4,
   "metadata": {
    "ExecuteTime": {
     "end_time": "2019-01-16T23:09:31.233240Z",
     "start_time": "2019-01-16T23:09:31.227361Z"
    }
   },
   "outputs": [],
   "source": [
    "# get samples lists:\n",
    "with open('/net/mraid08/export/genie/Lab/Personal/ShaniBAF/Sample files/BD lists/PNP530_balancedAge_males') as fp:\n",
    "    PNP530_balancedAge_males=pickle.load(fp)\n",
    "with open('/net/mraid08/export/genie/Lab/Personal/ShaniBAF/Sample files/BD lists/Cardio126_balancedAge_males') as fp:\n",
    "    Cardio126_balancedAge_males=pickle.load(fp)"
   ]
  },
  {
   "cell_type": "code",
   "execution_count": 5,
   "metadata": {
    "ExecuteTime": {
     "end_time": "2019-01-16T23:09:31.722667Z",
     "start_time": "2019-01-16T23:09:31.713388Z"
    }
   },
   "outputs": [
    {
     "name": "stdout",
     "output_type": "stream",
     "text": [
      "(57, 40)\n",
      "(93, 40)\n"
     ]
    }
   ],
   "source": [
    "feat_PNP=featuresFD.loc[PNP530_balancedAge_males,:]\n",
    "print feat_PNP.shape\n",
    "feat_cardio=featuresFD.loc[Cardio126_balancedAge_males,:]\n",
    "print feat_cardio.shape"
   ]
  },
  {
   "cell_type": "code",
   "execution_count": 6,
   "metadata": {
    "ExecuteTime": {
     "end_time": "2019-01-16T23:09:33.001068Z",
     "start_time": "2019-01-16T23:09:32.733532Z"
    }
   },
   "outputs": [],
   "source": [
    "MWdf=pd.DataFrame()\n",
    "\n",
    "for n,col in enumerate(featuresFD.columns):\n",
    "    pnp_data=feat_PNP[col].dropna().tolist()\n",
    "    cardio_data=feat_cardio[col].dropna().tolist()\n",
    "    \n",
    "    mean_pnp=np.mean(pnp_data)\n",
    "    mean_cardio=np.mean(cardio_data)\n",
    "    \n",
    "    s_MW, p_MW = mannwhitneyu(pnp_data, cardio_data)\n",
    "    MWdf.loc[col,'mean_pnp']=mean_pnp\n",
    "    MWdf.loc[col,'mean_cardio']=mean_cardio\n",
    "    MWdf.loc[col,'s_MW']=s_MW\n",
    "    MWdf.loc[col,'p_MW']=p_MW\n",
    "    \n",
    "nTests = len(MWdf)\n",
    "FDR = 0.1\n",
    "MWdf = MWdf.sort_values(by='p_MW')\n",
    "MWdf = add_corrected_pValues(MWdf, pValueColumn='p_MW', nTests=nTests, FDR=FDR)\n",
    "MWdf.head()\n",
    "\n",
    "MWdf.to_excel('%s/TCR_real_data/PNP530Cardio126Combined/featureSummaryDFs/feature_comparison_MW_PNP530Cardio126_balancedAge_males.xlsx' %MyPath)"
   ]
  },
  {
   "cell_type": "code",
   "execution_count": null,
   "metadata": {},
   "outputs": [],
   "source": []
  },
  {
   "cell_type": "markdown",
   "metadata": {},
   "source": [
    "## repeat with top 40 features+annotation features"
   ]
  },
  {
   "cell_type": "code",
   "execution_count": 7,
   "metadata": {
    "ExecuteTime": {
     "end_time": "2019-01-16T23:09:34.422114Z",
     "start_time": "2019-01-16T23:09:33.929329Z"
    }
   },
   "outputs": [],
   "source": [
    "annotFD=pd.read_excel('%s/TCR_real_data/PNP530Cardio126Combined/annotationFeatures/PNP530Cardio126_PNP530Cardio126_annotationFeatures.xlsx' %MyPath)"
   ]
  },
  {
   "cell_type": "code",
   "execution_count": 8,
   "metadata": {
    "ExecuteTime": {
     "end_time": "2019-01-16T23:09:35.673525Z",
     "start_time": "2019-01-16T23:09:35.662311Z"
    }
   },
   "outputs": [
    {
     "data": {
      "text/plain": [
       "(656, 124)"
      ]
     },
     "execution_count": 8,
     "metadata": {},
     "output_type": "execute_result"
    }
   ],
   "source": [
    "feat_annot=pd.merge(featuresFD,annotFD,how='outer',left_index=True,right_index=True)\n",
    "feat_annot.shape"
   ]
  },
  {
   "cell_type": "code",
   "execution_count": 9,
   "metadata": {
    "ExecuteTime": {
     "end_time": "2019-01-16T23:09:37.122068Z",
     "start_time": "2019-01-16T23:09:37.109046Z"
    }
   },
   "outputs": [
    {
     "name": "stdout",
     "output_type": "stream",
     "text": [
      "(57, 124)\n",
      "(93, 124)\n"
     ]
    }
   ],
   "source": [
    "feat_annot_PNP=feat_annot.loc[PNP530_balancedAge_males,:]\n",
    "print feat_annot_PNP.shape\n",
    "feat_annot_cardio=feat_annot.loc[Cardio126_balancedAge_males,:]\n",
    "print feat_annot_cardio.shape"
   ]
  },
  {
   "cell_type": "code",
   "execution_count": 10,
   "metadata": {
    "ExecuteTime": {
     "end_time": "2019-01-16T23:09:39.751118Z",
     "start_time": "2019-01-16T23:09:39.259043Z"
    }
   },
   "outputs": [
    {
     "name": "stdout",
     "output_type": "stream",
     "text": [
      "('couldnt execute MW for col:', u'CalcifiedAorticStenosisdisease_seq_count')\n",
      "('couldnt execute MW for col:', u'Experimentalautoimmuneencephalomyelitis_seq_count')\n",
      "('couldnt execute MW for col:', u'GraftVsHostDisease_seq_count')\n",
      "('couldnt execute MW for col:', u'HSV_seq_count')\n",
      "('couldnt execute MW for col:', u'Leukemia_seq_count')\n",
      "('couldnt execute MW for col:', u'Lungcancer_seq_count')\n",
      "('couldnt execute MW for col:', u'Lymphoma_seq_count')\n",
      "('couldnt execute MW for col:', u'PbA_seq_count')\n",
      "('couldnt execute MW for col:', u'Plasmodiumberghei_seq_count')\n"
     ]
    },
    {
     "name": "stderr",
     "output_type": "stream",
     "text": [
      "/usr/wisdom/python/lib/python2.7/site-packages/numpy/core/fromnumeric.py:2957: RuntimeWarning: Mean of empty slice.\n",
      "  out=out, **kwargs)\n",
      "/usr/wisdom/python/lib/python2.7/site-packages/numpy/core/_methods.py:80: RuntimeWarning: invalid value encountered in double_scalars\n",
      "  ret = ret.dtype.type(ret / rcount)\n",
      "/usr/wisdom/python/lib/python2.7/site-packages/scipy/stats/stats.py:4911: RuntimeWarning: divide by zero encountered in double_scalars\n",
      "  z = (bigu - meanrank) / sd\n"
     ]
    },
    {
     "name": "stdout",
     "output_type": "stream",
     "text": [
      "('couldnt execute MW for col:', u'Tick-borneencephalitis_seq_count')\n",
      "('couldnt execute MW for col:', u'TriticumAestivum_seq_count')\n",
      "('couldnt execute MW for col:', u'VSV_seq_count')\n"
     ]
    },
    {
     "name": "stderr",
     "output_type": "stream",
     "text": [
      "/usr/wisdom/python/lib/python2.7/site-packages/statsmodels/stats/multitest.py:320: RuntimeWarning: invalid value encountered in less_equal\n",
      "  reject = pvals_sorted <= ecdffactor*alpha\n"
     ]
    }
   ],
   "source": [
    "MWdf2=pd.DataFrame()\n",
    "\n",
    "for n,col in enumerate(feat_annot.columns):\n",
    "    pnp_data=feat_annot_PNP[col].dropna().tolist()\n",
    "    cardio_data=feat_annot_cardio[col].dropna().tolist()\n",
    "    \n",
    "    mean_pnp=np.mean(pnp_data)\n",
    "    mean_cardio=np.mean(cardio_data)\n",
    "    \n",
    "    try:\n",
    "        s_MW, p_MW = mannwhitneyu(pnp_data, cardio_data)\n",
    "    except:\n",
    "        print ('couldnt execute MW for col:' ,col)\n",
    "        s_MW=np.nan; p_MW=np.nan\n",
    "    MWdf2.loc[col,'mean_pnp']=mean_pnp\n",
    "    MWdf2.loc[col,'mean_cardio']=mean_cardio\n",
    "    MWdf2.loc[col,'s_MW']=s_MW\n",
    "    MWdf2.loc[col,'p_MW']=p_MW\n",
    "\n",
    "MWdf2=MWdf2[(MWdf2['mean_pnp'].notnull())& (MWdf2['mean_cardio'].notnull())]  \n",
    "nTests = len(MWdf2)\n",
    "FDR = 0.1\n",
    "MWdf2 = MWdf2.sort_values(by='p_MW')\n",
    "MWdf2 = add_corrected_pValues(MWdf2, pValueColumn='p_MW', nTests=nTests, FDR=FDR)\n",
    "MWdf2.head()\n",
    "\n",
    "MWdf2.to_excel('%s/TCR_real_data/PNP530Cardio126Combined/featureSummaryDFs/feature_comparison_MW_PNP530Cardio126_balancedAge_males_incAnnot.xlsx' %MyPath)"
   ]
  },
  {
   "cell_type": "markdown",
   "metadata": {},
   "source": [
    "# plot selected feature comparison:"
   ]
  },
  {
   "cell_type": "code",
   "execution_count": 13,
   "metadata": {
    "ExecuteTime": {
     "end_time": "2019-01-16T23:10:59.230845Z",
     "start_time": "2019-01-16T23:10:58.394548Z"
    }
   },
   "outputs": [
    {
     "name": "stdout",
     "output_type": "stream",
     "text": [
      "generating kde plot\n",
      "generating kde plot\n",
      "generating kde plot\n",
      "generating kde plot\n",
      "generating kde plot\n",
      "generating kde plot\n",
      "generating kde plot\n",
      "generating kde plot\n"
     ]
    },
    {
     "data": {
      "image/png": "[encoded data removed]",
      "text/plain": [
       "<matplotlib.figure.Figure at 0x7f930b57f610>"
      ]
     },
     "metadata": {},
     "output_type": "display_data"
    }
   ],
   "source": [
    "feature_list=['n2Insertion_mean_1','top1000clonal_nt_1','Influenza_seq_count','Influenza_cum_freq(perc)']\n",
    "fig,axes=plt.subplots(ncols=2,nrows=2,figsize=(9,7))\n",
    "\n",
    "\n",
    "for n,feature in enumerate(feature_list):\n",
    "    ax=axes.flatten()[n]\n",
    "    pnp_data=feat_annot_PNP[feature].dropna().tolist()\n",
    "    cardio_data=feat_annot_cardio[feature].dropna().tolist()\n",
    "    pnp_data_name='Healthy'\n",
    "    cardio_data_name='Patients'\n",
    "    \n",
    "    dataList=[(pnp_data_name,pnp_data),(cardio_data_name,cardio_data)]\n",
    "    title=feature\n",
    "    if n==0: \n",
    "        showLegend=True\n",
    "        handles, labels = ax.get_legend_handles_labels()\n",
    "        handles\n",
    "        ax.legend(labels, bbox_to_anchor=(-0.2,0.95))\n",
    "    else: showLegend=False\n",
    "        \n",
    "    ax,ks_p_cohort1_cohort2,t_p_cohort1_cohort2,p_Anov,filename=plotHistComprison(dataList,ax,\n",
    "                                title,showLegend=showLegend,nBins=20,toAnnotate=False,alpha=None,plotType='kde',\n",
    "                                colorList=['grey','darkred'])\n",
    "    if n==0: \n",
    "        handles, labels = ax.get_legend_handles_labels()\n",
    "        ax.legend(labels, fontsize='x-large',bbox_to_anchor=(-0.1,0.95))\n",
    "fig.subplots_adjust(top=0.99,hspace=0.25,wspace=0.25)    \n",
    "plt.show()\n",
    "    "
   ]
  },
  {
   "cell_type": "code",
   "execution_count": null,
   "metadata": {},
   "outputs": [],
   "source": []
  }
 ],
 "metadata": {
  "kernelspec": {
   "display_name": "Python 2",
   "language": "python",
   "name": "python2"
  },
  "language_info": {
   "codemirror_mode": {
    "name": "ipython",
    "version": 2
   },
   "file_extension": ".py",
   "mimetype": "text/x-python",
   "name": "python",
   "nbconvert_exporter": "python",
   "pygments_lexer": "ipython2",
   "version": "2.7.8"
  },
  "toc": {
   "nav_menu": {},
   "number_sections": true,
   "sideBar": true,
   "skip_h1_title": false,
   "toc_cell": false,
   "toc_position": {},
   "toc_section_display": "block",
   "toc_window_display": true
  },
  "varInspector": {
   "cols": {
    "lenName": 16,
    "lenType": 16,
    "lenVar": 40
   },
   "kernels_config": {
    "python": {
     "delete_cmd_postfix": "",
     "delete_cmd_prefix": "del ",
     "library": "var_list.py",
     "varRefreshCmd": "print(var_dic_list())"
    },
    "r": {
     "delete_cmd_postfix": ") ",
     "delete_cmd_prefix": "rm(",
     "library": "var_list.r",
     "varRefreshCmd": "cat(var_dic_list()) "
    }
   },
   "types_to_exclude": [
    "module",
    "function",
    "builtin_function_or_method",
    "instance",
    "_Feature"
   ],
   "window_display": false
  }
 },
 "nbformat": 4,
 "nbformat_minor": 2
}
