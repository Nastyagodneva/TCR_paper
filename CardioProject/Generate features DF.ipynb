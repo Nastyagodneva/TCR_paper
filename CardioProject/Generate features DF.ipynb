{
 "cells": [
  {
   "cell_type": "markdown",
   "metadata": {},
   "source": [
    "# imports"
   ]
  },
  {
   "cell_type": "code",
   "execution_count": 1,
   "metadata": {
    "ExecuteTime": {
     "end_time": "2019-01-27T12:21:26.754517Z",
     "start_time": "2019-01-27T12:21:24.266933Z"
    }
   },
   "outputs": [
    {
     "name": "stdout",
     "output_type": "stream",
     "text": [
      "done1\n",
      "stop\n",
      "done1\n",
      "stop\n",
      "done\n",
      "done\n"
     ]
    }
   ],
   "source": [
    "from os import listdir,mkdir, makedirs,remove\n",
    "from os.path import isfile, join, isdir,exists\n",
    "import pandas as pd\n",
    "import numpy as np\n",
    "from scipy import stats\n",
    "import re\n",
    "import matplotlib.pyplot as plt\n",
    "from matplotlib.backends.backend_pdf import PdfPages\n",
    "from myplots import roundup, rounddown, find_decimal_fold, percentile_cut_off, rarefaction_calc, rarefaction_plot,draw_correlation_scatter\n",
    "from matplotlib.ticker import FormatStrFormatter\n",
    "import cPickle as pickle\n",
    "from Bio.SeqUtils import GC\n",
    "import seaborn as sns\n",
    "import random\n",
    "from scipy.stats import pearsonr\n",
    "from skbio.diversity.alpha import shannon, simpson, berger_parker_d\n",
    "\n",
    "from pop_organize import get_sample_data, get_sample_with_dfs\n",
    "from SufficientStatistics import *\n",
    "from MyFunctionsShani import *\n",
    "\n",
    "from TCR_feature_generation_functions import *\n",
    "\n",
    "MyPath='/net/mraid08/export/genie/Lab/Personal/ShaniBAF'\n"
   ]
  },
  {
   "cell_type": "code",
   "execution_count": 2,
   "metadata": {
    "ExecuteTime": {
     "end_time": "2019-01-27T12:21:27.106053Z",
     "start_time": "2019-01-27T12:21:27.096866Z"
    }
   },
   "outputs": [
    {
     "data": {
      "text/plain": [
       "'27012019'"
      ]
     },
     "execution_count": 2,
     "metadata": {},
     "output_type": "execute_result"
    }
   ],
   "source": [
    "import time\n",
    "cdate=str(time.strftime(\"%d%m%Y\"))\n",
    "cdate"
   ]
  },
  {
   "cell_type": "markdown",
   "metadata": {},
   "source": [
    "# Generate a feature DF for a cohort:"
   ]
  },
  {
   "cell_type": "markdown",
   "metadata": {},
   "source": [
    "the following functions were copied to 'TCR_feature_generation_functions.py' - USE FROM THERE AND UPDATE THERE!:\n",
    "* gen_featureSummaryDF_forSeqType\n",
    "* gen_merged_feature_df_for_dataset\n"
   ]
  },
  {
   "cell_type": "markdown",
   "metadata": {},
   "source": [
    "## run for dataset 'pnp530':"
   ]
  },
  {
   "cell_type": "markdown",
   "metadata": {},
   "source": [
    "### seperate df for total,prod and nonProd:"
   ]
  },
  {
   "cell_type": "code",
   "execution_count": null,
   "metadata": {
    "ExecuteTime": {
     "end_time": "2018-06-13T13:56:19.412557Z",
     "start_time": "2018-06-13T13:52:06.450333Z"
    },
    "scrolled": true
   },
   "outputs": [],
   "source": [
    "# the resulting df will be in folder '\\featureSummaryDFs'\n",
    "seqTypeList = ['Total', 'Prod','nonProd']\n",
    "datasetName='PNP530'\n",
    "data_folder='TCR_real_data'\n",
    "dfs_folder='/net/mraid08/export/genie/Lab/Personal/ShaniBAF/%s/descriptiveStatsSamplesForAnalysis/Total' %data_folder\n",
    "FeatureGroups=listdir(dfs_folder)\n",
    "for seqType in seqTypeList:\n",
    "    print seqType\n",
    "    gen_featureSummaryDF_forSeqType(seqType,data_folder,datasetName,FeatureGroups)\n",
    "\n"
   ]
  },
  {
   "cell_type": "markdown",
   "metadata": {},
   "source": [
    "### generate merged feature df:"
   ]
  },
  {
   "cell_type": "code",
   "execution_count": null,
   "metadata": {
    "ExecuteTime": {
     "end_time": "2018-06-13T13:56:33.605629Z",
     "start_time": "2018-06-13T13:56:19.740336Z"
    }
   },
   "outputs": [],
   "source": [
    "# the resulting df will be in folder '\\featureSummaryDFs'\n",
    "datasetName='PNP530'\n",
    "data_folder='TCR_real_data'\n",
    "gen_merged_feature_df_for_dataset(data_folder,datasetName)"
   ]
  },
  {
   "cell_type": "markdown",
   "metadata": {},
   "source": [
    "## run for dataset 'Cardio126':"
   ]
  },
  {
   "cell_type": "markdown",
   "metadata": {},
   "source": [
    "### seperate df for total,prod and nonProd:"
   ]
  },
  {
   "cell_type": "code",
   "execution_count": null,
   "metadata": {
    "ExecuteTime": {
     "end_time": "2018-06-13T13:57:24.322317Z",
     "start_time": "2018-06-13T13:56:33.926248Z"
    }
   },
   "outputs": [],
   "source": [
    "seqTypeList = ['Total', 'Prod','nonProd']\n",
    "datasetName='Cardio126'\n",
    "data_folder='TCR_real_data/CardioSamples'\n",
    "dfs_folder='/net/mraid08/export/genie/Lab/Personal/ShaniBAF/%s/descriptiveStatsSamplesForAnalysis/Total' %data_folder\n",
    "FeatureGroups=listdir(dfs_folder)\n",
    "for seqType in seqTypeList:\n",
    "    print seqType\n",
    "    gen_featureSummaryDF_forSeqType(seqType,data_folder,datasetName,FeatureGroups)\n",
    "\n"
   ]
  },
  {
   "cell_type": "markdown",
   "metadata": {},
   "source": [
    "### generate merged feature df:"
   ]
  },
  {
   "cell_type": "code",
   "execution_count": null,
   "metadata": {
    "ExecuteTime": {
     "end_time": "2018-06-13T13:57:28.262929Z",
     "start_time": "2018-06-13T13:57:24.664454Z"
    }
   },
   "outputs": [],
   "source": [
    "datasetName='Cardio126'\n",
    "data_folder='TCR_real_data/CardioSamples'\n",
    "gen_merged_feature_df_for_dataset(data_folder,datasetName)"
   ]
  },
  {
   "cell_type": "code",
   "execution_count": null,
   "metadata": {},
   "outputs": [],
   "source": []
  },
  {
   "cell_type": "markdown",
   "metadata": {},
   "source": [
    "## run for dataset 'PNP530Cardio126_SS9000rep1':"
   ]
  },
  {
   "cell_type": "markdown",
   "metadata": {},
   "source": [
    "### seperate df for total,prod and nonProd:"
   ]
  },
  {
   "cell_type": "code",
   "execution_count": null,
   "metadata": {
    "ExecuteTime": {
     "end_time": "2018-07-04T13:08:22.252150Z",
     "start_time": "2018-07-04T13:08:22.215180Z"
    }
   },
   "outputs": [],
   "source": [
    "seqTypeList = ['Total', 'Prod','nonProd']\n",
    "datasetName='PNP530Cardio126_ss9000rep1'\n",
    "data_folder='TCR_real_data/PNP530Cardio126Combined/MatchedSamples/ss9000rep1' \n",
    "dfs_folder='/net/mraid08/export/genie/Lab/Personal/ShaniBAF/%s/descriptiveStatsSamplesForAnalysis/Total' %data_folder\n",
    "FeatureGroups=listdir(dfs_folder)\n",
    "for seqType in seqTypeList:\n",
    "    print seqType\n",
    "    gen_featureSummaryDF_forSeqType(seqType,data_folder,datasetName,FeatureGroups)\n",
    "\n"
   ]
  },
  {
   "cell_type": "markdown",
   "metadata": {},
   "source": [
    "### generate merged feature df:"
   ]
  },
  {
   "cell_type": "code",
   "execution_count": null,
   "metadata": {
    "ExecuteTime": {
     "end_time": "2018-06-13T13:57:28.262929Z",
     "start_time": "2018-06-13T13:57:24.664454Z"
    }
   },
   "outputs": [],
   "source": [
    "datasetName='PNP530Cardio126_ss9000rep1'\n",
    "data_folder='%s/TCR_real_data/PNP530Cardio126Combined/MatchedSamples/ss9000rep1' %MyPath\n",
    "gen_merged_feature_df_for_dataset(data_folder,datasetName)"
   ]
  },
  {
   "cell_type": "code",
   "execution_count": null,
   "metadata": {},
   "outputs": [],
   "source": []
  },
  {
   "cell_type": "markdown",
   "metadata": {},
   "source": [
    "## run for dataset 'RavidSamples':"
   ]
  },
  {
   "cell_type": "markdown",
   "metadata": {},
   "source": [
    "### seperate df for total,prod and nonProd:"
   ]
  },
  {
   "cell_type": "code",
   "execution_count": null,
   "metadata": {
    "ExecuteTime": {
     "end_time": "2018-06-13T13:57:29.555069Z",
     "start_time": "2018-06-13T13:57:28.616341Z"
    }
   },
   "outputs": [],
   "source": [
    "seqTypeList = ['Total', 'Prod','nonProd']\n",
    "datasetName='RavidSamples'\n",
    "data_folder='TCR_real_data/RavidSamples'\n",
    "dfs_folder='/net/mraid08/export/genie/Lab/Personal/ShaniBAF/%s/descriptiveStatsSamplesForAnalysis/Total' %data_folder\n",
    "FeatureGroups=listdir(dfs_folder)\n",
    "for seqType in seqTypeList:\n",
    "    print seqType\n",
    "    gen_featureSummaryDF_forSeqType(seqType,data_folder,datasetName,FeatureGroups)\n",
    "\n"
   ]
  },
  {
   "cell_type": "markdown",
   "metadata": {},
   "source": [
    "### generate merged feature df:"
   ]
  },
  {
   "cell_type": "code",
   "execution_count": null,
   "metadata": {
    "ExecuteTime": {
     "end_time": "2018-06-13T13:57:30.421096Z",
     "start_time": "2018-06-13T13:57:29.943486Z"
    }
   },
   "outputs": [],
   "source": [
    "datasetName='RavidSamples'\n",
    "data_folder='TCR_real_data/RavidSamples'\n",
    "gen_merged_feature_df_for_dataset(data_folder,datasetName)"
   ]
  },
  {
   "cell_type": "markdown",
   "metadata": {},
   "source": [
    "## run for dataset 'RavidSamples':"
   ]
  },
  {
   "cell_type": "markdown",
   "metadata": {},
   "source": [
    "### seperate df for total,prod and nonProd:"
   ]
  },
  {
   "cell_type": "code",
   "execution_count": null,
   "metadata": {
    "ExecuteTime": {
     "end_time": "2018-06-13T13:56:19.412557Z",
     "start_time": "2018-06-13T13:52:06.450333Z"
    },
    "scrolled": true
   },
   "outputs": [],
   "source": [
    "# the resulting df will be in folder '\\featureSummaryDFs'\n",
    "seqTypeList = ['Total', 'Prod','nonProd']\n",
    "datasetName='PNP530'\n",
    "data_folder='TCR_real_data'\n",
    "dfs_folder='/net/mraid08/export/genie/Lab/Personal/ShaniBAF/%s/descriptiveStatsSamplesForAnalysis/Total' %data_folder\n",
    "FeatureGroups=listdir(dfs_folder)\n",
    "for seqType in seqTypeList:\n",
    "    print seqType\n",
    "    gen_featureSummaryDF_forSeqType(seqType,data_folder,datasetName,FeatureGroups)\n",
    "\n"
   ]
  },
  {
   "cell_type": "markdown",
   "metadata": {},
   "source": [
    "### generate merged feature df:"
   ]
  },
  {
   "cell_type": "code",
   "execution_count": null,
   "metadata": {
    "ExecuteTime": {
     "end_time": "2018-06-13T13:56:33.605629Z",
     "start_time": "2018-06-13T13:56:19.740336Z"
    }
   },
   "outputs": [],
   "source": [
    "# the resulting df will be in folder '\\featureSummaryDFs'\n",
    "datasetName='PNP530'\n",
    "data_folder='TCR_real_data'\n",
    "gen_merged_feature_df_for_dataset(data_folder,datasetName)"
   ]
  },
  {
   "cell_type": "markdown",
   "metadata": {},
   "source": [
    "# Compare feature statistics across datasets:"
   ]
  },
  {
   "cell_type": "markdown",
   "metadata": {},
   "source": [
    "the following functions were copied to 'TCR_feature_generation_functions.py' - USE FROM THERE AND UPDATE THERE!:\n",
    "* plot_feature_comparison\n",
    "* compare_feature_statistics\n",
    "* compare_features_between_datasets\n",
    "* plot_gene_usage_comparison"
   ]
  },
  {
   "cell_type": "markdown",
   "metadata": {},
   "source": [
    "## run comparison between PNP530 and RavidSamples:"
   ]
  },
  {
   "cell_type": "markdown",
   "metadata": {},
   "source": [
    "### compare feature statistics between datasets:"
   ]
  },
  {
   "cell_type": "code",
   "execution_count": null,
   "metadata": {
    "ExecuteTime": {
     "end_time": "2018-06-13T16:05:09.790844Z",
     "start_time": "2018-06-13T16:04:48.192724Z"
    }
   },
   "outputs": [],
   "source": [
    "data_folder1='TCR_real_data'\n",
    "data_folder2='TCR_real_data/RavidSamples'\n",
    "datasetName1='PNP530'\n",
    "datasetName2='RavidSamples'\n",
    "\n",
    "\n",
    "compare_features_between_datasets(data_folder1,datasetName1,data_folder2,datasetName2,TakeSameSamples=False)"
   ]
  },
  {
   "cell_type": "markdown",
   "metadata": {},
   "source": [
    "### compare gene usage between datasets:"
   ]
  },
  {
   "cell_type": "code",
   "execution_count": null,
   "metadata": {
    "ExecuteTime": {
     "end_time": "2018-06-13T16:09:04.769381Z",
     "start_time": "2018-06-13T16:08:56.003825Z"
    },
    "scrolled": true
   },
   "outputs": [],
   "source": [
    "data_folder1='TCR_real_data'\n",
    "data_folder2='TCR_real_data/RavidSamples'\n",
    "datasetName1='PNP530'\n",
    "datasetName2='RavidSamples'\n",
    "\n",
    "plot_gene_usage_comparison(data_folder1,data_folder2,datasetName1,datasetName2,TakeSameSamples=False)"
   ]
  },
  {
   "cell_type": "markdown",
   "metadata": {},
   "source": [
    "## run comparison between PNP530_ss5000 and RavidSamples_ss5000:"
   ]
  },
  {
   "cell_type": "markdown",
   "metadata": {},
   "source": [
    "### compare feature statistics between datasets:"
   ]
  },
  {
   "cell_type": "code",
   "execution_count": null,
   "metadata": {
    "ExecuteTime": {
     "end_time": "2018-06-13T16:40:28.701438Z",
     "start_time": "2018-06-13T16:40:08.346584Z"
    }
   },
   "outputs": [],
   "source": [
    "data_folder1='TCR_real_data/PNP530_SubSampled5000data_rep1'\n",
    "data_folder2='TCR_real_data/RavidSamples/RavidSamples_SubSampled5000data_rep1'\n",
    "datasetName1='PNP530_ss5000_rep1'\n",
    "datasetName2='RavidSamples_ss5000_rep1'\n",
    "\n",
    "\n",
    "compare_features_between_datasets(data_folder1,datasetName1,data_folder2,datasetName2,TakeSameSamples=False)"
   ]
  },
  {
   "cell_type": "markdown",
   "metadata": {},
   "source": [
    "### compare gene usage between datasets:"
   ]
  },
  {
   "cell_type": "code",
   "execution_count": null,
   "metadata": {
    "ExecuteTime": {
     "end_time": "2018-06-13T16:40:37.674498Z",
     "start_time": "2018-06-13T16:40:29.141392Z"
    },
    "scrolled": true
   },
   "outputs": [],
   "source": [
    "data_folder1='TCR_real_data/PNP530_SubSampled5000data_rep1'\n",
    "data_folder2='TCR_real_data/RavidSamples/RavidSamples_SubSampled5000data_rep1'\n",
    "datasetName1='PNP530_ss5000_rep1'\n",
    "datasetName2='RavidSamples_ss5000_rep1'\n",
    "\n",
    "plot_gene_usage_comparison(data_folder1,data_folder2,datasetName1,datasetName2,TakeSameSamples=False)"
   ]
  },
  {
   "cell_type": "markdown",
   "metadata": {},
   "source": [
    "## run comparison between PNP530_ss9000 and Cardio126_ss9000:"
   ]
  },
  {
   "cell_type": "markdown",
   "metadata": {},
   "source": [
    "### compare feature statistics between datasets:"
   ]
  },
  {
   "cell_type": "code",
   "execution_count": null,
   "metadata": {
    "ExecuteTime": {
     "end_time": "2018-06-21T15:45:15.239517Z",
     "start_time": "2018-06-21T15:44:53.719073Z"
    }
   },
   "outputs": [],
   "source": [
    "data_folder1='TCR_real_data/PNP530_SubSampled9000data_rep1'\n",
    "data_folder2='TCR_real_data/CardioSamples/Cardio126_SubSampled9000data_rep1'\n",
    "datasetName1='PNP530_ss9000_rep1'\n",
    "datasetName2='Cardio126_ss9000_rep1'\n",
    "\n",
    "\n",
    "compare_features_between_datasets(data_folder1,datasetName1,data_folder2,datasetName2,TakeSameSamples=False)"
   ]
  },
  {
   "cell_type": "markdown",
   "metadata": {},
   "source": [
    "### compare gene usage between datasets:"
   ]
  },
  {
   "cell_type": "code",
   "execution_count": null,
   "metadata": {
    "ExecuteTime": {
     "end_time": "2018-06-21T15:46:18.641726Z",
     "start_time": "2018-06-21T15:46:09.821400Z"
    }
   },
   "outputs": [],
   "source": [
    "data_folder1='TCR_real_data/PNP530_SubSampled9000data_rep1'\n",
    "data_folder2='TCR_real_data/CardioSamples/Cardio126_SubSampled9000data_rep1'\n",
    "datasetName1='PNP530_ss9000_rep1'\n",
    "datasetName2='Cardio126_ss9000_rep1'\n",
    "\n",
    "plot_gene_usage_comparison(data_folder1,datasetName1,data_folder2,datasetName2,TakeSameSamples=False)"
   ]
  },
  {
   "cell_type": "markdown",
   "metadata": {},
   "source": [
    "## run comparison between Samuels4 and Ravid4"
   ]
  },
  {
   "cell_type": "markdown",
   "metadata": {},
   "source": [
    "### compare feature statistics between datasets:"
   ]
  },
  {
   "cell_type": "code",
   "execution_count": null,
   "metadata": {
    "ExecuteTime": {
     "end_time": "2018-06-17T05:17:21.055855Z",
     "start_time": "2018-06-17T05:17:03.919819Z"
    }
   },
   "outputs": [],
   "source": [
    "data_folder1='TCR_real_data/SamuelsSamples'\n",
    "data_folder2='TCR_real_data/RavidSamples'\n",
    "datasetName1='Samuelssamples_4'\n",
    "datasetName2='RavidSamples'\n",
    "\n",
    "\n",
    "compare_features_between_datasets(data_folder1,datasetName1,data_folder2,datasetName2,TakeSameSamples=False)"
   ]
  },
  {
   "cell_type": "markdown",
   "metadata": {},
   "source": [
    "### compare gene usage between datasets:"
   ]
  },
  {
   "cell_type": "code",
   "execution_count": null,
   "metadata": {
    "ExecuteTime": {
     "end_time": "2018-06-13T16:09:04.769381Z",
     "start_time": "2018-06-13T16:08:56.003825Z"
    }
   },
   "outputs": [],
   "source": [
    "data_folder1='TCR_real_data/SamuelsSamples'\n",
    "data_folder2='TCR_real_data/RavidSamples'\n",
    "datasetName1='Samuelssamples_4'\n",
    "datasetName2='RavidSamples'\n",
    "\n",
    "\n",
    "\n",
    "plot_gene_usage_comparison(data_folder1,data_folder2,datasetName1,datasetName2,TakeSameSamples=False)"
   ]
  },
  {
   "cell_type": "markdown",
   "metadata": {},
   "source": [
    "## run comparison between PNP530ss9000 and Cardio126ss9000 matched samples!"
   ]
  },
  {
   "cell_type": "code",
   "execution_count": null,
   "metadata": {
    "ExecuteTime": {
     "end_time": "2018-06-21T15:39:40.091112Z",
     "start_time": "2018-06-21T15:39:40.084949Z"
    }
   },
   "outputs": [],
   "source": [
    "with open('/net/mraid08/export/genie/Lab/Personal/ShaniBAF/Sample files/BD lists/PNP530matchedToCardioSamples','rb') as fp:\n",
    "    PNP530matchedToCardioSamples=pickle.load(fp)\n",
    "\n",
    "with open('/net/mraid08/export/genie/Lab/Personal/ShaniBAF/Sample files/BD lists/Cardio126matchedToPNPSamples','rb') as fp:\n",
    "    Cardio126matchedToPNPSamples=pickle.load(fp)"
   ]
  },
  {
   "cell_type": "markdown",
   "metadata": {},
   "source": [
    "### compare feature statistics"
   ]
  },
  {
   "cell_type": "code",
   "execution_count": null,
   "metadata": {
    "ExecuteTime": {
     "end_time": "2018-06-21T15:43:50.899597Z",
     "start_time": "2018-06-21T15:43:29.756945Z"
    }
   },
   "outputs": [],
   "source": [
    "data_folder1='TCR_real_data/PNP530_SubSampled9000data_rep1'\n",
    "data_folder2='TCR_real_data/CardioSamples/Cardio126_SubSampled9000data_rep1'\n",
    "datasetName1='PNP530_ss9000_rep1'\n",
    "datasetName2='Cardio126_ss9000_rep1'\n",
    "\n",
    "TakeSameSamples=False\n",
    "filteringList1=PNP530matchedToCardioSamples\n",
    "filteringList2=Cardio126matchedToPNPSamples\n",
    "filteringList1Name='86matched'\n",
    "filteringList2Name='86matched'\n",
    "\n",
    "\n",
    "compare_features_between_datasets(data_folder1, datasetName1,  data_folder2, datasetName2,TakeSameSamples, \n",
    "                                  filteringList1,filteringList2,filteringList1Name,filteringList2Name)"
   ]
  },
  {
   "cell_type": "markdown",
   "metadata": {},
   "source": [
    "### compare gene usage"
   ]
  },
  {
   "cell_type": "code",
   "execution_count": null,
   "metadata": {
    "ExecuteTime": {
     "end_time": "2018-06-21T15:44:03.519883Z",
     "start_time": "2018-06-21T15:43:54.763912Z"
    }
   },
   "outputs": [],
   "source": [
    "data_folder1='TCR_real_data/PNP530_SubSampled9000data_rep1'\n",
    "data_folder2='TCR_real_data/CardioSamples/Cardio126_SubSampled9000data_rep1'\n",
    "datasetName1='PNP530_ss9000_rep1'\n",
    "datasetName2='Cardio126_ss9000_rep1'\n",
    "\n",
    "TakeSameSamples=False\n",
    "filteringList1=PNP530matchedToCardioSamples\n",
    "filteringList2=Cardio126matchedToPNPSamples\n",
    "filteringList1Name='86matched'\n",
    "filteringList2Name='86matched'\n",
    "\n",
    "plotType='bar'\n",
    "\n",
    "plot_gene_usage_comparison(data_folder1, datasetName1,  data_folder2, datasetName2,plotType, TakeSameSamples, \n",
    "                           filteringList1,filteringList2,filteringList1Name,filteringList2Name)"
   ]
  },
  {
   "cell_type": "code",
   "execution_count": null,
   "metadata": {},
   "outputs": [],
   "source": []
  },
  {
   "cell_type": "code",
   "execution_count": null,
   "metadata": {},
   "outputs": [],
   "source": []
  },
  {
   "cell_type": "markdown",
   "metadata": {},
   "source": [
    "# compare main phenotypes between datasets:"
   ]
  },
  {
   "cell_type": "markdown",
   "metadata": {},
   "source": [
    "the function compare_mainPhenotypes_between_datasets and it supporting function roundup2\n",
    "based on the feature comparison functions, and on step 4 in the notebook: preparePhenotypeTables - old notebook\n",
    "copied to 'TCR_feature_generation_functions.py' - USE FROM THERE AND UPDATE THERE!:"
   ]
  },
  {
   "cell_type": "markdown",
   "metadata": {},
   "source": [
    "## function:"
   ]
  },
  {
   "cell_type": "code",
   "execution_count": null,
   "metadata": {
    "ExecuteTime": {
     "end_time": "2018-05-14T07:53:30.128499Z",
     "start_time": "2018-05-14T07:53:29.923942Z"
    }
   },
   "outputs": [],
   "source": [
    "def roundup2(a, digits=0):\n",
    "    n = 10**-digits\n",
    "    return round(math.ceil(a / n) * n, digits)\n",
    "\n",
    "\n",
    "def compare_mainPhenotypes_between_datasets(sampleList1,datasetName1,phenotypeDF,sampleList2=None,datasetName2=None):\n",
    "    \n",
    "    numericalFeatures=['Age','Hemoglobin','BMI','CRP (WIDE RANGE)']\n",
    "    binaryFeatures=['Gender','Ever smoked']\n",
    "\n",
    "    fig1=plt.figure(figsize=(6,18))\n",
    "    fig1.suptitle('Main Phenotype Distributions', fontsize=22)\n",
    "\n",
    "    #plotting numerical phenotypes:\n",
    "       \n",
    "    for n,feature in enumerate(numericalFeatures):\n",
    "        print n,feature\n",
    "        data1=phenotypeDF.loc[sampleList1,feature]\n",
    "        data1=data1[data1.notnull()]\n",
    "        data1=list(data1)\n",
    "        weights1=np.ones_like(data1)/len(data1)\n",
    "        mean1=round(np.mean(data1),2)\n",
    "        std1=round(np.std(data1),2)\n",
    "    #     print len(data1)\n",
    "        if sampleList2 is not None:\n",
    "            \n",
    "            filename='/net/mraid08/export/genie/Lab/Personal/ShaniBAF/TCR_real_data/realAnalysis/MainPhenotypecomparison_%s_%s' \\\n",
    "                %(datasetName1,datasetName2)\n",
    "    \n",
    "            data2=phenotypeDF.loc[sampleList2,feature]\n",
    "            data2=data2[data2.notnull()]\n",
    "            data2=list(data2)\n",
    "            weights2=np.ones_like(data2)/len(data2)\n",
    "            mean2=round(np.mean(data2),2)\n",
    "            std2=round(np.std(data2),2)\n",
    "            Alldata=data1+data2\n",
    "            Allweights=np.ones_like(Alldata)/len(Alldata)\n",
    "\n",
    "            ax= fig1.add_subplot(5,1,n+1)\n",
    "            plot=ax.hist((data1,data2), bins=50, color=('black', 'green'), weights=[weights1,weights2],\n",
    "                         label=(datasetName1,datasetName2), alpha=0.7)\n",
    "\n",
    "\n",
    "            ks_s_cohort1_cohort2, ks_p_cohort1_cohort2=stats.ks_2samp(data1,data2)\n",
    "            t_s_cohort1_cohort2, t_p_cohort1_cohort2=stats.ttest_ind(data1,data2)\n",
    "\n",
    "            ax.annotate('KS_p=%s\\nttest_p=%s\\n%s mean=%s\\n%s mean=%s' %(round(ks_p_cohort1_cohort2,6), round(t_p_cohort1_cohort2,6),\n",
    "                            datasetName1,round(mean1,3),datasetName2,round(mean2,3)),\n",
    "                            xy=(0.96, 0.95), xycoords='axes fraction', fontsize=9, horizontalalignment='right', verticalalignment='top', fontweight='bold')\n",
    "\n",
    "            ax.set_title(feature, fontsize=16,fontweight='bold')\n",
    "        #     ax.set_ylabel('Frequency',fontsize=9)\n",
    "            if n==0:\n",
    "                ax.legend(bbox_to_anchor=(1.01, 0.95), loc='upper left', borderaxespad=0.,fontsize=16)\n",
    "            else:\n",
    "                ax.legend().set_visible(False)\n",
    "                \n",
    "        else:\n",
    "            \n",
    "            filename='/net/mraid08/export/genie/Lab/Personal/ShaniBAF/TCR_real_data/realAnalysis/MainPhenotypeDist_%s' \\\n",
    "                %datasetName1\n",
    "                \n",
    "            ax= fig1.add_subplot(5,1,n+1)\n",
    "            plot=ax.hist(data1, bins=50, color='black', weights=weights1,\n",
    "                         label=datasetName1, alpha=0.7)\n",
    "            \n",
    "            ax.annotate('mean=%s' %round(mean1,3),xy=(0.96, 0.95), xycoords='axes fraction', fontsize=11,\n",
    "                        horizontalalignment='right', verticalalignment='top', fontweight='bold')\n",
    "\n",
    "            ax.set_title(feature, fontsize=16,fontweight='bold')\n",
    "           \n",
    "    \n",
    "    \n",
    "    #plotting binary phenotypes:\n",
    "    \n",
    "    for n,Bfeature in enumerate(binaryFeatures):\n",
    "        print n,Bfeature\n",
    "        if Bfeature=='Gender':\n",
    "            ticklabels=['Male','Female']\n",
    "        elif Bfeature=='Ever smoked':\n",
    "            ticklabels=['No','Yes']\n",
    "\n",
    "        ax= fig1.add_subplot(5,2,n+9)   \n",
    "        a1=phenotypeDF.loc[sampleList1,Bfeature].value_counts(normalize=True)\n",
    "        ax.bar([-0.15,0.85],a1,align='center',width=0.3,tick_label=ticklabels,color='black')\n",
    "        Ymax=roundup2(np.max(list(a1)), 1)\n",
    "        \n",
    "        \n",
    "        if sampleList2 is not None:\n",
    "            a2=phenotypeDF.loc[sampleList2,Bfeature].value_counts(normalize=True)\n",
    "            combined=list(a1)+list(a2)\n",
    "            Ymax=roundup2(np.max(combined), 1)\n",
    "            ax.bar([0.15,1.15],a2,align='center',width=0.3,tick_label=ticklabels,color='green')\n",
    "            \n",
    "        ax.set_xlabel(Bfeature,fontsize=16,fontweight='bold')    \n",
    "        ax.set_ylim(0,Ymax)\n",
    "        \n",
    "        \n",
    "    fig1.text(0,0.5,\"Frequency\",  ha = 'left',fontsize=18, rotation=90)\n",
    "    fig1.subplots_adjust(left=0.13, right=0.98, top=0.92, bottom=0.02, wspace=0.22,hspace=0.25)\n",
    "   \n",
    "    fig1.savefig(filename, bbox_inches='tight', dpi = 200) \n",
    "    \n",
    "    plt.show()\n",
    "    return fig1\n",
    "\n",
    "\n",
    "    "
   ]
  },
  {
   "cell_type": "markdown",
   "metadata": {},
   "source": [
    "## run for PNP515 only:"
   ]
  },
  {
   "cell_type": "code",
   "execution_count": null,
   "metadata": {
    "ExecuteTime": {
     "end_time": "2018-05-14T07:55:11.857079Z",
     "start_time": "2018-05-14T07:55:07.703519Z"
    }
   },
   "outputs": [],
   "source": [
    "with open('/net/mraid08/export/genie/Lab/Personal/ShaniBAF/Sample files/BD lists/PNP515','rb') as fp:\n",
    "    PNP515=pickle.load(fp)\n",
    "      \n",
    "file1='/net/mraid08/export/genie/Lab/Personal/ShaniBAF/TCR_real_data/PhenotypicData/fullXgroupbyBD'\n",
    "fullXgroupbyBD=pd.read_pickle(file1)\n",
    "\n",
    "\n",
    "sampleList1=PNP515\n",
    "phenotypeDF=fullXgroupbyBD\n",
    "datasetName1='PNPsamples_515'\n",
    "\n",
    "fig1=compare_mainPhenotypes_between_datasets(sampleList1,datasetName1,phenotypeDF)"
   ]
  },
  {
   "cell_type": "markdown",
   "metadata": {},
   "source": [
    "## run for PNP434 vs. PNP515:"
   ]
  },
  {
   "cell_type": "code",
   "execution_count": null,
   "metadata": {},
   "outputs": [],
   "source": [
    "with open('/net/mraid08/export/genie/Lab/Personal/ShaniBAF/Sample files/BD lists/PNP515','rb') as fp:\n",
    "    PNP515=pickle.load(fp)\n",
    "    \n",
    "with open('/net/mraid08/export/genie/Lab/Personal/ShaniBAF/Sample files/BD lists/PNP434samples','rb') as fp:\n",
    "    PNP434samples=pickle.load(fp)\n",
    "    \n",
    "file1='/net/mraid08/export/genie/Lab/Personal/ShaniBAF/TCR_real_data/PhenotypicData/fullXgroupbyBD'\n",
    "fullXgroupbyBD=pd.read_pickle(file1)\n",
    "\n",
    "\n",
    "sampleList1=PNP434samples\n",
    "sampleList2=PNP515\n",
    "phenotypeDF=fullXgroupbyBD\n",
    "datasetName1='PNPsamples_434'\n",
    "datasetName2='PNP515'\n",
    "\n",
    "fig1=compare_mainPhenotypes_between_datasets(sampleList1,datasetName1,sampleList2,datasetName2,phenotypeDF)"
   ]
  },
  {
   "cell_type": "code",
   "execution_count": null,
   "metadata": {},
   "outputs": [],
   "source": []
  },
  {
   "cell_type": "markdown",
   "metadata": {},
   "source": [
    "# old comparison functions: prod-non prod and sharing features\n",
    "need to go over, generalize, run for pnp90 vs. cardio_plate8 and save in py file"
   ]
  },
  {
   "cell_type": "markdown",
   "metadata": {},
   "source": [
    "### Compare productive and non productive:\n"
   ]
  },
  {
   "cell_type": "code",
   "execution_count": null,
   "metadata": {},
   "outputs": [],
   "source": [
    "def plot_feature_comparison_Prod_nonProd(feature,dataset,ax):\n",
    "    ProdFeature=feature+'_1'\n",
    "    nonProdFeature=feature+'_0'\n",
    "    if dataset=='PNP':\n",
    "        dataProd=PNPsamples_434_allFeatures[ProdFeature]\n",
    "        dataProd=list(dataProd[~np.isnan(dataProd)])\n",
    "        weightsProd=np.ones_like(dataProd)/len(dataProd)\n",
    "        datanonProd=PNPsamples_434_allFeatures[nonProdFeature]\n",
    "        datanonProd=list(datanonProd[~np.isnan(datanonProd)])\n",
    "        weightsnonProd=np.ones_like(datanonProd)/len(datanonProd)\n",
    "        colors=['black','grey']\n",
    "    elif dataset=='Adaptive':\n",
    "        dataProd=Adaptive_788_allFeatures[ProdFeature]\n",
    "        dataProd=list(dataProd[~np.isnan(dataProd)])\n",
    "        weightsProd=np.ones_like(dataProd)/len(dataProd)\n",
    "        datanonProd=Adaptive_788_allFeatures[nonProdFeature]\n",
    "        datanonProd=list(datanonProd[~np.isnan(datanonProd)])\n",
    "        weightsnonProd=np.ones_like(datanonProd)/len(datanonProd)\n",
    "        colors=['#3f9b0b','#c0fb2d']\n",
    "        \n",
    "\n",
    "#     fig = plt.figure()\n",
    "    if ax==None:\n",
    "        fig,ax=plt.subplots()\n",
    "\n",
    "    plot=ax.hist((dataProd,datanonProd), bins=50, color=colors, weights=[weightsProd,weightsnonProd],label=('Productive',\n",
    "                                                                                                            'Non Productive'), alpha=0.7)\n",
    "\n",
    "    ks_s_Prod_nonProd, ks_p_Prod_nonProd=stats.ks_2samp(dataProd,datanonProd)\n",
    "    t_s_Prod_nonProd, t_p_Prod_nonProd=stats.ttest_ind(dataProd,datanonProd)\n",
    "\n",
    "\n",
    "    ax.annotate('KS_p=%s\\nttest_p=%s' %(round(ks_p_Prod_nonProd,6), round(t_p_Prod_nonProd,6)), xy=(0.96, 0.95), xycoords='axes fraction', fontsize=12,\n",
    "    horizontalalignment='right', verticalalignment='top', fontweight='bold')\n",
    "\n",
    "#     ax.legend(loc='upper right', fontsize=9)\n",
    "    ax.set_title('%s - %s' %(feature,dataset) , fontsize=16,fontweight='bold')\n",
    "#     ax.set_ylabel('Frequency',fontsize=9)\n",
    "    \n",
    "    return ax"
   ]
  },
  {
   "cell_type": "code",
   "execution_count": null,
   "metadata": {},
   "outputs": [],
   "source": [
    "GeneralFeaturesToCompare=['max_nt_per_aa','mean_nt_per_aa',\n",
    "                          'normSeqNums_per200_AA','normSeqNums_per2000_NT','gc_content']\n",
    "# LengthFeaturesToCompare=['n1Insertion_mean_T','n2Insertion_mean_T','vDeletion_mean_T','d3Deletion_mean_T','d5Deletion_mean_T',\n",
    "#                         'jDeletion_mean_T']\n",
    "# ClonalityFeaturesToCompare=['meanClonal_nt_T','meanClonal_aa_T','topClonal_nt_T','topClonal_aa_T','frequencyCount (%)_mean_T',\n",
    "#                            'frequencyCount (%)_max_T','shannon_nt_T']\n",
    "\n",
    "\n",
    "\n",
    "fig1=plt.figure(figsize=(12,22))\n",
    "fig1.suptitle('General Feature Comparison - Productive vs. Non Productive sequences', fontsize=20)\n",
    "\n",
    "for n,feature in enumerate(GeneralFeaturesToCompare):\n",
    "    axPNP = plt.subplot2grid((5,5), (n,0), colspan=2)\n",
    "    axAdaptive = plt.subplot2grid((5,5), (n,3), colspan=2)\n",
    "    plot_feature_comparison_Prod_nonProd(feature,'PNP',axPNP)\n",
    "    if n==0:\n",
    "         axPNP.legend(bbox_to_anchor=(0.05, 1.23), loc='upper left', borderaxespad=0.,fontsize=14)\n",
    "    plot_feature_comparison_Prod_nonProd(feature,'Adaptive',axAdaptive)\n",
    "    if n==0:\n",
    "         axAdaptive.legend(bbox_to_anchor=(0.05, 1.23), loc='upper left', borderaxespad=0.,fontsize=14)\n",
    "\n",
    "fig1.text(0,0.5,\"Frequency\",  ha = 'left',fontsize=18, rotation=90)\n",
    "fig1.subplots_adjust(left=0.07, right=0.98, top=0.92, bottom=0.02, wspace=0.01,hspace=0.2)\n",
    "\n",
    "filename='/net/mraid08/export/genie/Lab/Personal/ShaniBAF/TCR_real_data/realAnalysis/GeneralFeature_Comparison_ProdNonProd_%s' %cdate\n",
    "fig1.savefig(filename, bbox_inches='tight', dpi = 200)    \n",
    "    \n",
    "\n",
    "plt.show()"
   ]
  },
  {
   "cell_type": "code",
   "execution_count": null,
   "metadata": {},
   "outputs": [],
   "source": [
    "GeneralFeaturesToCompare=['topClonal_nt','meanClonal_nt','stdClonal_nt',\n",
    "                          'berger_nt','simpson_nt']\n",
    "# LengthFeaturesToCompare=['n1Insertion_mean_T','n2Insertion_mean_T','vDeletion_mean_T','d3Deletion_mean_T','d5Deletion_mean_T',\n",
    "#                         'jDeletion_mean_T']\n",
    "# ClonalityFeaturesToCompare=['meanClonal_nt_T','meanClonal_aa_T','topClonal_nt_T','topClonal_aa_T','frequencyCount (%)_mean_T',\n",
    "#                            'frequencyCount (%)_max_T','shannon_nt_T']\n",
    "\n",
    "\n",
    "\n",
    "fig1=plt.figure(figsize=(12,22))\n",
    "fig1.suptitle('Clonality Feature Comparison - Productive vs. Non Productive sequences', fontsize=20)\n",
    "\n",
    "for n,feature in enumerate(GeneralFeaturesToCompare):\n",
    "    axPNP = plt.subplot2grid((5,5), (n,0), colspan=2)\n",
    "    axAdaptive = plt.subplot2grid((5,5), (n,3), colspan=2)\n",
    "    plot_feature_comparison_Prod_nonProd(feature,'PNP',axPNP)\n",
    "    axPNP.set_yscale('log')\n",
    "    if n==0:\n",
    "         axPNP.legend(bbox_to_anchor=(0.05, 1.23), loc='upper left', borderaxespad=0.,fontsize=14)\n",
    "    plot_feature_comparison_Prod_nonProd(feature,'Adaptive',axAdaptive)\n",
    "    axAdaptive.set_yscale('log')\n",
    "    if n==0:\n",
    "         axAdaptive.legend(bbox_to_anchor=(0.05, 1.23), loc='upper left', borderaxespad=0.,fontsize=14)\n",
    "\n",
    "fig1.text(0,0.5,\"Frequency (log scale)\",  ha = 'left',fontsize=18, rotation=90)\n",
    "fig1.subplots_adjust(left=0.07, right=0.98, top=0.92, bottom=0.02, wspace=0.01,hspace=0.2)\n",
    "\n",
    "filename='/net/mraid08/export/genie/Lab/Personal/ShaniBAF/TCR_real_data/realAnalysis/ClonalityFeature_Comparison_ProdNonProd_%s' %cdate\n",
    "fig1.savefig(filename, bbox_inches='tight', dpi = 200)    \n",
    "    \n",
    "\n",
    "plt.show()"
   ]
  },
  {
   "cell_type": "code",
   "execution_count": null,
   "metadata": {},
   "outputs": [],
   "source": [
    "GeneralFeaturesToCompare=['cdr3Length_mean','vDeletion_mean','jDeletion_mean', 'd3Deletion_mean','d5Deletion_mean',\n",
    "                          'n1Insertion_mean','n2Insertion_mean']\n",
    "# LengthFeaturesToCompare=['n1Insertion_mean_T','n2Insertion_mean_T','vDeletion_mean_T','d3Deletion_mean_T','d5Deletion_mean_T',\n",
    "#                         'jDeletion_mean_T']\n",
    "# ClonalityFeaturesToCompare=['meanClonal_nt_T','meanClonal_aa_T','topClonal_nt_T','topClonal_aa_T','frequencyCount (%)_mean_T',\n",
    "#                            'frequencyCount (%)_max_T','shannon_nt_T']\n",
    "\n",
    "\n",
    "\n",
    "fig1=plt.figure(figsize=(10,24))\n",
    "fig1.suptitle('Length Feature Comparison - Productive vs. Non Productive sequences', fontsize=20)\n",
    "\n",
    "for n,feature in enumerate(GeneralFeaturesToCompare):\n",
    "    axPNP = plt.subplot2grid((7,5), (n,0), colspan=2)\n",
    "    axAdaptive = plt.subplot2grid((7,5), (n,3), colspan=2)\n",
    "    plot_feature_comparison_Prod_nonProd(feature,'PNP',axPNP)\n",
    "#     axPNP.set_yscale('log')\n",
    "    if n==0:\n",
    "         axPNP.legend(bbox_to_anchor=(0.05, 1.3), loc='upper left', borderaxespad=0.,fontsize=14)\n",
    "    plot_feature_comparison_Prod_nonProd(feature,'Adaptive',axAdaptive)\n",
    "#     axAdaptive.set_yscale('log')\n",
    "    if n==0:\n",
    "         axAdaptive.legend(bbox_to_anchor=(0.05, 1.3), loc='upper left', borderaxespad=0.,fontsize=14)\n",
    "\n",
    "fig1.text(0,0.5,\"Frequency\",  ha = 'left',fontsize=18, rotation=90)\n",
    "fig1.subplots_adjust(left=0.07, right=0.98, top=0.92, bottom=0.02, wspace=0.01,hspace=0.22)\n",
    "\n",
    "filename='/net/mraid08/export/genie/Lab/Personal/ShaniBAF/TCR_real_data/realAnalysis/LengthFeature_Comparison_ProdNonProd_%s' %cdate\n",
    "fig1.savefig(filename, bbox_inches='tight', dpi = 200)    \n",
    "    \n",
    "\n",
    "plt.show()"
   ]
  },
  {
   "cell_type": "code",
   "execution_count": null,
   "metadata": {},
   "outputs": [],
   "source": []
  },
  {
   "cell_type": "markdown",
   "metadata": {
    "collapsed": true
   },
   "source": [
    "### plot public features"
   ]
  },
  {
   "cell_type": "code",
   "execution_count": null,
   "metadata": {},
   "outputs": [],
   "source": [
    "def plot_sharingFeatures(feature,ax):\n",
    "    dataPNP=PNPsamples_434_allFeatures[feature]\n",
    "    dataPNP=list(dataPNP[~np.isnan(dataPNP)])\n",
    "    weightsPNP=np.ones_like(dataPNP)/len(dataPNP)\n",
    "\n",
    "    fig = plt.figure()\n",
    "    if ax==None:\n",
    "        fig,ax=plt.subplots()\n",
    "\n",
    "    plot=ax.hist(dataPNP, bins=50, color='black', weights=weightsPNP,label='PNP cohort', alpha=0.7)\n",
    "\n",
    "#     ax.legend(loc='upper right', fontsize=9)\n",
    "    ax.set_title(feature, fontsize=12,fontweight='bold')\n",
    "#     ax.set_ylabel('Frequency',fontsize=9)\n",
    "    \n",
    "    return fig,ax\n",
    "    "
   ]
  },
  {
   "cell_type": "code",
   "execution_count": null,
   "metadata": {},
   "outputs": [],
   "source": [
    "PublicFeaturesToCompare=['percPublic_T','percPublic5_T','percPublic100_T']\n",
    "\n",
    "\n",
    "fig1=plt.figure(figsize=(12,4))\n",
    "fig1.suptitle('Sharing Features - PNP Cohort', fontsize=20)\n",
    "\n",
    "for n,feature in enumerate(PublicFeaturesToCompare):\n",
    "    ax= fig1.add_subplot(1,3,n+1)\n",
    "    plot_sharingFeatures(feature,ax)\n",
    "#     ax.legend(bbox_to_anchor=(0.05, -2.85), loc='lower left', borderaxespad=0.,fontsize=18)\n",
    "\n",
    "fig1.subplots_adjust(left=0.06, right=0.98, top=0.82, bottom=0.02, wspace=0.25,hspace=0.28)\n",
    "fig1.text(0,0.5,\"Frequency\",  ha = 'left',fontsize=16, rotation=90)\n",
    "\n",
    "filename='/net/mraid08/export/genie/Lab/Personal/ShaniBAF/TCR_real_data/realAnalysis/sharingFeatures-PNP_%s' %cdate\n",
    "fig1.savefig(filename, bbox_inches='tight', dpi = 200)    \n",
    "    \n",
    "\n",
    "plt.show()\n",
    "    "
   ]
  },
  {
   "cell_type": "code",
   "execution_count": null,
   "metadata": {},
   "outputs": [],
   "source": []
  },
  {
   "cell_type": "markdown",
   "metadata": {},
   "source": [
    "### generate comparative plots between PNP and adaptive data:\n"
   ]
  },
  {
   "cell_type": "markdown",
   "metadata": {},
   "source": [
    "##### histograms"
   ]
  },
  {
   "cell_type": "code",
   "execution_count": null,
   "metadata": {},
   "outputs": [],
   "source": [
    "def plot_feature_comparison_PNP_adaptive(feature,ax):\n",
    "    dataPNP=PNPsamples_434_allFeatures[feature]\n",
    "    dataPNP=list(dataPNP[~np.isnan(dataPNP)])\n",
    "    weightsPNP=np.ones_like(dataPNP)/len(dataPNP)\n",
    "    dataAdaptive=Adaptive_788_allFeatures[feature]\n",
    "    dataAdaptive=list(dataAdaptive[~np.isnan(dataAdaptive)])\n",
    "    weightsAdaptive=np.ones_like(dataAdaptive)/len(dataAdaptive)\n",
    "\n",
    "    fig = plt.figure()\n",
    "    if ax==None:\n",
    "        fig,ax=plt.subplots()\n",
    "\n",
    "    plot=ax.hist((dataPNP,dataAdaptive), bins=50, color=('black', 'green'), weights=[weightsPNP,weightsAdaptive],label=('PNP cohort','Adaptive cohort'), alpha=0.7)\n",
    "\n",
    "    ks_s_PNP_Adaptive, ks_p_PNP_Adaptive=stats.ks_2samp(dataPNP,dataAdaptive)\n",
    "    t_s_PNP_Adaptive, t_p_PNP_Adaptive=stats.ttest_ind(dataPNP,dataAdaptive)\n",
    "\n",
    "\n",
    "    ax.annotate('KS_p=%s\\nttest_p=%s' %(round(ks_p_PNP_Adaptive,6), round(t_p_PNP_Adaptive,6)), xy=(0.96, 0.95), xycoords='axes fraction', fontsize=12,\n",
    "    horizontalalignment='right', verticalalignment='top', fontweight='bold')\n",
    "\n",
    "#     ax.legend(loc='upper right', fontsize=9)\n",
    "    ax.set_title(feature, fontsize=16,fontweight='bold')\n",
    "    ax.set_ylabel('Frequency',fontsize=9)\n",
    "    \n",
    "    return fig,ax\n",
    "    "
   ]
  },
  {
   "cell_type": "code",
   "execution_count": null,
   "metadata": {},
   "outputs": [],
   "source": [
    "GeneralFeaturesToCompare=['prod_stat_mean_T','max_nt_per_aa_T','mean_nt_per_aa_T',\n",
    "                          'normSeqNums_per200_AA_T','normSeqNums_per2000_NT_T']\n",
    "LengthFeaturesToCompare=['n1Insertion_mean_T','n2Insertion_mean_T','vDeletion_mean_T','d3Deletion_mean_T','d5Deletion_mean_T',\n",
    "                        'jDeletion_mean_T']\n",
    "ClonalityFeaturesToCompare=['meanClonal_nt_T','meanClonal_aa_T','topClonal_nt_T','topClonal_aa_T','frequencyCount (%)_mean_T',\n",
    "                           'frequencyCount (%)_max_T','shannon_nt_T']\n",
    "\n",
    "\n",
    "\n",
    "fig1=plt.figure(figsize=(12,20))\n",
    "fig1.suptitle('Feature Comparison - PNP vs. Adaptive Cohorts', fontsize=20)\n",
    "\n",
    "for n,feature in enumerate(GeneralFeaturesToCompare):\n",
    "    ax= fig1.add_subplot(7,3,3*n+1)\n",
    "    plot_feature_comparison_PNP_adaptive(feature,ax)\n",
    "ax.legend(bbox_to_anchor=(0.05, -2.85), loc='lower left', borderaxespad=0.,fontsize=18)\n",
    "for n,feature in enumerate(LengthFeaturesToCompare):\n",
    "    ax= fig1.add_subplot(7,3,3*n+2)\n",
    "    plot_feature_comparison_PNP_adaptive(feature,ax)\n",
    "for n,feature in enumerate(ClonalityFeaturesToCompare):\n",
    "    ax= fig1.add_subplot(7,3,3*n+3)\n",
    "    plot_feature_comparison_PNP_adaptive(feature,ax)\n",
    "\n",
    "fig1.subplots_adjust(left=0.09, right=0.98, top=0.95, bottom=0.02, wspace=0.22,hspace=0.28)\n",
    "\n",
    "filename='/net/mraid08/export/genie/Lab/Personal/ShaniBAF/TCR_real_data/realAnalysis/Feature_Comparison_PNPvsAdaptive_%s_2' %cdate\n",
    "fig1.savefig(filename, bbox_inches='tight', dpi = 200)    \n",
    "    \n",
    "\n",
    "plt.show()\n",
    "    "
   ]
  },
  {
   "cell_type": "code",
   "execution_count": null,
   "metadata": {},
   "outputs": [],
   "source": []
  },
  {
   "cell_type": "markdown",
   "metadata": {},
   "source": [
    "##### gene usage bar graphs:"
   ]
  },
  {
   "cell_type": "markdown",
   "metadata": {},
   "source": [
    "###### define sub-dfs for each gene usage type"
   ]
  },
  {
   "cell_type": "code",
   "execution_count": null,
   "metadata": {},
   "outputs": [],
   "source": [
    "regex_vFamily=re.compile('V.._T')\n",
    "indices_vFamily=[n for n in FeatureMeanSummary_all_dataSets.index if re.match(regex_vFamily,n) ]\n",
    "vFamily=FeatureMeanSummary_all_dataSets.loc[indices_vFamily,['PNP_434','Adaptive_788']]\n",
    "\n",
    "regex_vGene=re.compile('V..-.._T')\n",
    "indices_vGene=[n for n in FeatureMeanSummary_all_dataSets.index if re.match(regex_vGene,n) ]\n",
    "vGene=FeatureMeanSummary_all_dataSets.loc[indices_vGene,['PNP_434','Adaptive_788']]\n",
    "\n",
    "regex_jGene=re.compile('J..-.._T')\n",
    "indices_jGene=[n for n in FeatureMeanSummary_all_dataSets.index if re.match(regex_jGene,n) ]\n",
    "jGene=FeatureMeanSummary_all_dataSets.loc[indices_jGene,['PNP_434','Adaptive_788']]\n",
    "\n",
    "regex_dFamily=re.compile('D.._T')\n",
    "indices_dFamily=[n for n in FeatureMeanSummary_all_dataSets.index if re.match(regex_dFamily,n) ]\n",
    "dFamily=FeatureMeanSummary_all_dataSets.loc[indices_dFamily,['PNP_434','Adaptive_788']]\n",
    "\n",
    "regex_VJ=re.compile('V.._J.._T')\n",
    "indices_VJ=[n for n in FeatureMeanSummary_all_dataSets.index if re.match(regex_VJ,n) ]\n",
    "VJ=FeatureMeanSummary_all_dataSets.loc[indices_VJ,['PNP_434','Adaptive_788']]\n",
    "\n",
    "regex_DJ=re.compile('D.._J..-.._T')\n",
    "indices_DJ=[n for n in FeatureMeanSummary_all_dataSets.index if re.match(regex_DJ,n) ]\n",
    "DJ=FeatureMeanSummary_all_dataSets.loc[indices_DJ,['PNP_434','Adaptive_788']]\n"
   ]
  },
  {
   "cell_type": "code",
   "execution_count": null,
   "metadata": {},
   "outputs": [],
   "source": [
    "print len(vFamily+vGene+jGene+dFamily+VJ+DJ)"
   ]
  },
  {
   "cell_type": "code",
   "execution_count": null,
   "metadata": {},
   "outputs": [],
   "source": [
    "usageFeatureList=[vFamily,vGene,jGene,dFamily,VJ,DJ]\n",
    "usageFeatureNameList=['vFamily','vGene','jGene','dFamily','VJ','DJ']\n",
    "colspanList=[3,3,2,1,3,3]\n",
    "\n",
    "fig1=plt.figure(figsize=(10,20))\n",
    "fig1.suptitle('Gene Usage Comparison - PNP vs. Adaptive Cohorts', fontsize=20)\n",
    "\n",
    "for n,feature in enumerate(usageFeatureList):\n",
    "    colspan=colspanList[n]\n",
    "    ax1 = plt.subplot2grid((6,3), (n,0), colspan=colspan)\n",
    "#     ax= fig1.add_subplot(6,1,n+1)\n",
    "    feature.plot.bar(ax=ax1,color=('black', 'green'), label=('PNP cohort','Adaptive cohort'), alpha=0.7)\n",
    "    ax1.set_title(usageFeatureNameList[n],fontsize=16, fontweight='bold')\n",
    "    if n==0:\n",
    "        ax1.legend(bbox_to_anchor=(1.01, 0.95), loc='upper left', borderaxespad=0.,fontsize=16)\n",
    "    else:\n",
    "        ax1.legend().set_visible(False)\n",
    "    \n",
    "fig1.subplots_adjust(left=0.09, right=0.98, top=0.94, bottom=0.01, wspace=0.22,hspace=0.54)\n",
    "\n",
    "filename='/net/mraid08/export/genie/Lab/Personal/ShaniBAF/TCR_real_data/realAnalysis/geneUsage_Comparison_PNPvsAdaptive_%s_2' %cdate\n",
    "fig1.savefig(filename, bbox_inches='tight', dpi = 200)  \n",
    "\n",
    "plt.show()"
   ]
  },
  {
   "cell_type": "code",
   "execution_count": null,
   "metadata": {},
   "outputs": [],
   "source": []
  },
  {
   "cell_type": "markdown",
   "metadata": {},
   "source": [
    "### generate comparative plots between PNP and samuels data:\n"
   ]
  },
  {
   "cell_type": "markdown",
   "metadata": {},
   "source": [
    "##### histograms"
   ]
  },
  {
   "cell_type": "code",
   "execution_count": null,
   "metadata": {},
   "outputs": [],
   "source": [
    "def plot_feature_comparison_PNP_Samuels(feature,ax):\n",
    "    dataPNP=PNPsamples_434_allFeatures[feature]\n",
    "    dataPNP=list(dataPNP[~np.isnan(dataPNP)])\n",
    "    weightsPNP=np.ones_like(dataPNP)/len(dataPNP)\n",
    "    dataSamuels=Samuelssamples_4_allFeatures[feature]\n",
    "    dataSamuels=list(dataSamuels[~np.isnan(dataSamuels)])\n",
    "    weightsAdaptive=np.ones_like(dataSamuels)/len(dataSamuels)\n",
    "\n",
    "    fig = plt.figure()\n",
    "    if ax==None:\n",
    "        fig,ax=plt.subplots()\n",
    "\n",
    "    flierprops = dict(marker='o', markerfacecolor='green', markersize=12,\n",
    "                  linestyle='none')\n",
    "    bp=ax.boxplot((dataPNP,dataSamuels),labels=('PNP','Samuels_4'))\n",
    "    \n",
    "    ## change outline color, fill color and linewidth of the boxes\n",
    "    for box in bp['boxes']:\n",
    "        # change outline color\n",
    "        box.set( color='#7570b3', linewidth=2)\n",
    "\n",
    "    ## change color and linewidth of the whiskers\n",
    "    for whisker in bp['whiskers']:\n",
    "        whisker.set(color='#7570b3', linewidth=2)\n",
    "\n",
    "    ## change color and linewidth of the caps\n",
    "    for cap in bp['caps']:\n",
    "        cap.set(color='#7570b3', linewidth=2)\n",
    "\n",
    "    ## change color and linewidth of the means\n",
    "    for median in bp['medians']:\n",
    "        median.set(color='#b2df8a', linewidth=2)\n",
    "\n",
    "#     ## change the style of fliers and their fill\n",
    "#     for flier in bp['fliers']:\n",
    "#         flier.set(marker='o', color='#e7298a', alpha=0.5)\n",
    "\n",
    "    ks_s_PNP_Adaptive, ks_p_PNP_Adaptive=stats.ks_2samp(dataPNP,dataAdaptive)\n",
    "    t_s_PNP_Adaptive, t_p_PNP_Adaptive=stats.ttest_ind(dataPNP,dataAdaptive)\n",
    "\n",
    "\n",
    "#     ax.annotate('KS_p=%s,ttest_p=%s' %(round(ks_p_PNP_Adaptive,6), round(t_p_PNP_Adaptive,6)), xy=(0.5, 0.95), xycoords='axes fraction', fontsize=11,\n",
    "#     horizontalalignment='center', verticalalignment='top')\n",
    "\n",
    "#     ax.legend(loc='upper right', fontsize=9)\n",
    "    ax.set_title('%s\\nKS_p=%s,ttest_p=%s' %(feature,round(ks_p_PNP_Adaptive,6), round(t_p_PNP_Adaptive,6)), fontsize=12,fontweight='bold')\n",
    "#     ax.set_ylabel('Frequency',fontsize=9)\n",
    "    \n",
    "    return fig,ax\n",
    "    "
   ]
  },
  {
   "cell_type": "code",
   "execution_count": null,
   "metadata": {},
   "outputs": [],
   "source": [
    "GeneralFeaturesToCompare=['prod_stat_mean_T','max_nt_per_aa_T','mean_nt_per_aa_T',\n",
    "                          'normSeqNums_per200_AA_T','normSeqNums_per2000_NT_T']\n",
    "LengthFeaturesToCompare=['cdr3Length_mean_T','n1Insertion_mean_T','n2Insertion_mean_T','vDeletion_mean_T','d3Deletion_mean_T','d5Deletion_mean_T',\n",
    "                        'jDeletion_mean_T']\n",
    "ClonalityFeaturesToCompare=['meanClonal_nt_T','meanClonal_aa_T','topClonal_nt_T','topClonal_aa_T','frequencyCount (%)_mean_T',\n",
    "                           'frequencyCount (%)_max_T','shannon_nt_T']\n",
    "\n",
    "\n",
    "\n",
    "fig1=plt.figure(figsize=(8,20))\n",
    "fig1.suptitle('Feature Comparison - PNP vs. Samuels Cohorts', fontsize=20)\n",
    "\n",
    "for n,feature in enumerate(GeneralFeaturesToCompare):\n",
    "    ax= fig1.add_subplot(7,3,3*n+1)\n",
    "    plot_feature_comparison_PNP_Samuels(feature,ax)\n",
    "ax.legend(bbox_to_anchor=(0.05, -2.85), loc='lower left', borderaxespad=0.,fontsize=18)\n",
    "for n,feature in enumerate(LengthFeaturesToCompare):\n",
    "    ax= fig1.add_subplot(7,3,3*n+2)\n",
    "    plot_feature_comparison_PNP_Samuels(feature,ax)\n",
    "for n,feature in enumerate(ClonalityFeaturesToCompare):\n",
    "    ax= fig1.add_subplot(7,3,3*n+3)\n",
    "    plot_feature_comparison_PNP_Samuels(feature,ax)\n",
    "\n",
    "fig1.subplots_adjust(left=0.09, right=0.98, top=0.93, bottom=0.02, wspace=0.28,hspace=0.42)\n",
    "\n",
    "filename='/net/mraid08/export/genie/Lab/Personal/ShaniBAF/TCR_real_data/SamuelsSamples/Samuels_analysis/Feature_Comparison_PNPvsSamuels_%s_2' %cdate\n",
    "fig1.savefig(filename, bbox_inches='tight', dpi = 200)    \n",
    "    \n",
    "\n",
    "plt.show()\n",
    "    "
   ]
  },
  {
   "cell_type": "code",
   "execution_count": null,
   "metadata": {},
   "outputs": [],
   "source": []
  },
  {
   "cell_type": "markdown",
   "metadata": {},
   "source": [
    "##### gene usage bar graphs:"
   ]
  },
  {
   "cell_type": "markdown",
   "metadata": {},
   "source": [
    "###### define sub-dfs for each gene usage type"
   ]
  },
  {
   "cell_type": "code",
   "execution_count": null,
   "metadata": {},
   "outputs": [],
   "source": [
    "regex_vFamily=re.compile('V.._T')\n",
    "indices_vFamily=[n for n in FeatureMeanSummary_all_dataSets.index if re.match(regex_vFamily,n) ]\n",
    "vFamily=FeatureMeanSummary_all_dataSets.loc[indices_vFamily,['PNP_434','Samuels_4']]\n",
    "\n",
    "regex_vGene=re.compile('V..-.._T')\n",
    "indices_vGene=[n for n in FeatureMeanSummary_all_dataSets.index if re.match(regex_vGene,n) ]\n",
    "vGene=FeatureMeanSummary_all_dataSets.loc[indices_vGene,['PNP_434','Samuels_4']]\n",
    "\n",
    "regex_jGene=re.compile('J..-.._T')\n",
    "indices_jGene=[n for n in FeatureMeanSummary_all_dataSets.index if re.match(regex_jGene,n) ]\n",
    "jGene=FeatureMeanSummary_all_dataSets.loc[indices_jGene,['PNP_434','Samuels_4']]\n",
    "\n",
    "regex_dFamily=re.compile('D.._T')\n",
    "indices_dFamily=[n for n in FeatureMeanSummary_all_dataSets.index if re.match(regex_dFamily,n) ]\n",
    "dFamily=FeatureMeanSummary_all_dataSets.loc[indices_dFamily,['PNP_434','Samuels_4']]\n",
    "\n",
    "regex_VJ=re.compile('V.._J.._T')\n",
    "indices_VJ=[n for n in FeatureMeanSummary_all_dataSets.index if re.match(regex_VJ,n) ]\n",
    "VJ=FeatureMeanSummary_all_dataSets.loc[indices_VJ,['PNP_434','Samuels_4']]\n",
    "\n",
    "regex_DJ=re.compile('D.._J..-.._T')\n",
    "indices_DJ=[n for n in FeatureMeanSummary_all_dataSets.index if re.match(regex_DJ,n) ]\n",
    "DJ=FeatureMeanSummary_all_dataSets.loc[indices_DJ,['PNP_434','Samuels_4']]\n"
   ]
  },
  {
   "cell_type": "code",
   "execution_count": null,
   "metadata": {},
   "outputs": [],
   "source": [
    "print len(vFamily+vGene+jGene+dFamily+VJ+DJ)"
   ]
  },
  {
   "cell_type": "code",
   "execution_count": null,
   "metadata": {},
   "outputs": [],
   "source": [
    "usageFeatureList=[vFamily,vGene,jGene,dFamily,VJ,DJ]\n",
    "usageFeatureNameList=['vFamily','vGene','jGene','dFamily','VJ','DJ']\n",
    "colspanList=[3,3,2,1,3,3]\n",
    "\n",
    "fig1=plt.figure(figsize=(10,20))\n",
    "fig1.suptitle('Gene Usage Comparison - PNP434 vs. Samuels4 Cohorts', fontsize=20)\n",
    "\n",
    "for n,feature in enumerate(usageFeatureList):\n",
    "    colspan=colspanList[n]\n",
    "    ax1 = plt.subplot2grid((6,3), (n,0), colspan=colspan)\n",
    "#     ax= fig1.add_subplot(6,1,n+1)\n",
    "    feature.plot.bar(ax=ax1,color=('black', 'purple'), label=('PNP434 cohort','Samuels4 cohort'), alpha=0.7)\n",
    "    ax1.set_title(usageFeatureNameList[n],fontsize=16, fontweight='bold')\n",
    "    if n==0:\n",
    "        ax1.legend(bbox_to_anchor=(1.01, 0.95), loc='upper left', borderaxespad=0.,fontsize=16)\n",
    "    else:\n",
    "        ax1.legend().set_visible(False)\n",
    "    \n",
    "fig1.subplots_adjust(left=0.09, right=0.98, top=0.94, bottom=0.01, wspace=0.22,hspace=0.54)\n",
    "\n",
    "filename='/net/mraid08/export/genie/Lab/Personal/ShaniBAF/TCR_real_data/SamuelsSamples/Samuels_analysis/geneUsage_Comparison_PNPvsSamuels_%s_2' %cdate\n",
    "fig1.savefig(filename, bbox_inches='tight', dpi = 200)  \n",
    "\n",
    "plt.show()"
   ]
  },
  {
   "cell_type": "code",
   "execution_count": null,
   "metadata": {},
   "outputs": [],
   "source": []
  }
 ],
 "metadata": {
  "kernelspec": {
   "display_name": "Python 2",
   "language": "python",
   "name": "python2"
  },
  "language_info": {
   "codemirror_mode": {
    "name": "ipython",
    "version": 2
   },
   "file_extension": ".py",
   "mimetype": "text/x-python",
   "name": "python",
   "nbconvert_exporter": "python",
   "pygments_lexer": "ipython2",
   "version": "2.7.8"
  },
  "toc": {
   "nav_menu": {},
   "number_sections": true,
   "sideBar": false,
   "skip_h1_title": false,
   "toc_cell": false,
   "toc_position": {
    "height": "556px",
    "left": "3.94886px",
    "right": "20px",
    "top": "131.918px",
    "width": "337px"
   },
   "toc_section_display": "block",
   "toc_window_display": true
  },
  "varInspector": {
   "cols": {
    "lenName": 16,
    "lenType": 16,
    "lenVar": 40
   },
   "kernels_config": {
    "python": {
     "delete_cmd_postfix": "",
     "delete_cmd_prefix": "del ",
     "library": "var_list.py",
     "varRefreshCmd": "print(var_dic_list())"
    },
    "r": {
     "delete_cmd_postfix": ") ",
     "delete_cmd_prefix": "rm(",
     "library": "var_list.r",
     "varRefreshCmd": "cat(var_dic_list()) "
    }
   },
   "types_to_exclude": [
    "module",
    "function",
    "builtin_function_or_method",
    "instance",
    "_Feature"
   ],
   "window_display": false
  }
 },
 "nbformat": 4,
 "nbformat_minor": 1
}
