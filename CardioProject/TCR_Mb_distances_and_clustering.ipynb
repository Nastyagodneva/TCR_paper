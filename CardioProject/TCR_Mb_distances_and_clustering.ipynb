{
 "cells": [
  {
   "cell_type": "markdown",
   "metadata": {},
   "source": [
    "this notebook include functions to calculate pair distances and sort accordingly"
   ]
  },
  {
   "cell_type": "markdown",
   "metadata": {},
   "source": [
    "# imports"
   ]
  },
  {
   "cell_type": "code",
   "execution_count": null,
   "metadata": {
    "ExecuteTime": {
     "start_time": "2018-05-12T18:43:07.610Z"
    }
   },
   "outputs": [],
   "source": [
    "from os import listdir,mkdir,makedirs\n",
    "from os.path import isfile, join, isdir,exists\n",
    "import pandas as pd\n",
    "import numpy as np\n",
    "from scipy import stats\n",
    "import re\n",
    "import matplotlib.pyplot as plt\n",
    "from matplotlib.backends.backend_pdf import PdfPages\n",
    "from myplots import roundup, rounddown, find_decimal_fold, percentile_cut_off, rarefaction_calc, rarefaction_plot,draw_correlation_scatter\n",
    "from matplotlib.ticker import FormatStrFormatter\n",
    "import cPickle as pickle\n",
    "from Bio.SeqUtils import GC\n",
    "import seaborn as sns\n",
    "import random\n",
    "from scipy.stats import pearsonr,fisher_exact\n",
    "from skbio.diversity.alpha import shannon, simpson, berger_parker_d\n",
    "\n",
    "from pop_organize import get_sample_data, get_sample_with_dfs\n",
    "from SufficientStatistics import *\n",
    "from MyFunctionsShani import *\n",
    "import math\n",
    "from myplots import roundup, rounddown, find_decimal_fold\n",
    "from skbio.stats.distance import mantel\n",
    "from scipy.spatial.distance import braycurtis, pdist\n",
    "from GeneralFeaturePhenotypeInteractions.Feature_phenotype_functions import * \n",
    "from TCR_microbiome_interactions.TCR_microbiome_interactions_functions import *\n",
    "from SampleLists.SampleFileFunctions import *\n",
    "\n",
    "import os\n",
    "from Utils import cacheOnDisk\n",
    "from queue.qp import qp,fakeqp\n",
    "from addloglevels import sethandlers\n",
    "\n",
    "MyPath='/net/mraid08/export/genie/Lab/Personal/ShaniBAF'"
   ]
  },
  {
   "cell_type": "code",
   "execution_count": 1,
   "metadata": {
    "ExecuteTime": {
     "end_time": "2018-05-12T18:43:04.459167Z",
     "start_time": "2018-05-12T18:43:04.441381Z"
    }
   },
   "outputs": [
    {
     "data": {
      "text/plain": [
       "'12052018'"
      ]
     },
     "execution_count": 1,
     "metadata": {},
     "output_type": "execute_result"
    }
   ],
   "source": [
    "import time\n",
    "cdate=str(time.strftime(\"%d%m%Y\"))\n",
    "cdate\n"
   ]
  },
  {
   "cell_type": "markdown",
   "metadata": {},
   "source": [
    "# prepare an example R table:"
   ]
  },
  {
   "cell_type": "code",
   "execution_count": null,
   "metadata": {
    "ExecuteTime": {
     "end_time": "2018-05-06T06:45:44.357643Z",
     "start_time": "2018-05-06T06:45:44.134064Z"
    }
   },
   "outputs": [],
   "source": [
    "# load top 250x250 from PNP515_ss15000_rep2:\n",
    "\n",
    "datasetFolder='%s/TCR_real_data/SubSampled15000data_rep2' %MyPath\n",
    "datasetName='PNP515_ss15000_rep2'\n",
    "\n",
    "realRtableFile='%s/TCR_mb_results/permCorrTest_NoneNone250250_stdNone/real_result_df' %datasetFolder\n",
    "Rtable250250=pd.read_pickle(realRtableFile)"
   ]
  },
  {
   "cell_type": "markdown",
   "metadata": {},
   "source": [
    "    the function cutSeqSpeciesRtable was developed here and copied to TCR_microbiome_interactions_functions"
   ]
  },
  {
   "cell_type": "code",
   "execution_count": null,
   "metadata": {
    "ExecuteTime": {
     "end_time": "2018-05-06T06:45:44.411294Z",
     "start_time": "2018-05-06T06:45:44.360698Z"
    }
   },
   "outputs": [],
   "source": [
    "# cut to top 100x100\n",
    "Rtable=Rtable250250\n",
    "topNseqs=251\n",
    "topNspecies=260\n",
    "\n",
    "Rtable100100,topNseqs,topNspecies=cutSeqSpeciesRtable(Rtable,topNseqs,topNspecies)"
   ]
  },
  {
   "cell_type": "markdown",
   "metadata": {},
   "source": [
    "# develop function to investigate pair distance:"
   ]
  },
  {
   "cell_type": "markdown",
   "metadata": {},
   "source": [
    "    the function calc_dist_Rtable was developed here and copied to TCR_microbiome_interactions_functions"
   ]
  },
  {
   "cell_type": "markdown",
   "metadata": {},
   "source": [
    "# check species distances according to correlations with sequences:"
   ]
  },
  {
   "cell_type": "markdown",
   "metadata": {},
   "source": [
    "## try different metrics:"
   ]
  },
  {
   "cell_type": "code",
   "execution_count": null,
   "metadata": {
    "ExecuteTime": {
     "end_time": "2018-05-06T06:45:44.912075Z",
     "start_time": "2018-05-06T06:45:44.414148Z"
    }
   },
   "outputs": [],
   "source": [
    "pd.set_option('display.width', 1000)\n",
    "distMetricList=['euclidean','sqeuclidean','canberra']\n",
    "\n",
    "\n",
    "Rtable=Rtable100100\n",
    "indexCol='species'\n",
    "columnsCol='seq'\n",
    "valueCol='r_real'\n",
    "\n",
    "for metric in distMetricList:\n",
    "    print metric\n",
    "    sortedDistMat=calc_dist_Rtable(Rtable,indexCol,columnsCol,valueCol,metric)\n",
    "    print sortedDistMat.head(12)"
   ]
  },
  {
   "cell_type": "markdown",
   "metadata": {},
   "source": [
    "!!! conclusion: 'euclidean' and 'sqeuclidean' are identical. no significant difference between them and 'canberra' in this case. will continue with euclidean. "
   ]
  },
  {
   "cell_type": "markdown",
   "metadata": {},
   "source": [
    "## score pairs:"
   ]
  },
  {
   "cell_type": "code",
   "execution_count": null,
   "metadata": {
    "ExecuteTime": {
     "end_time": "2018-05-06T06:45:44.929615Z",
     "start_time": "2018-05-06T06:45:44.914754Z"
    }
   },
   "outputs": [],
   "source": [
    "sortedDistMat.head()"
   ]
  },
  {
   "cell_type": "code",
   "execution_count": null,
   "metadata": {
    "ExecuteTime": {
     "end_time": "2018-05-06T06:45:45.049611Z",
     "start_time": "2018-05-06T06:45:44.932061Z"
    }
   },
   "outputs": [],
   "source": [
    "#score pairs according to being same genus or not:\n",
    "\n",
    "sortedDistMat['sameGenus']=np.where(sortedDistMat['sample1'].str.split('_').str[0]==sortedDistMat['sample2'].str.split('_').str[0],1,0)\n",
    "sortedDistMat.head(10)"
   ]
  },
  {
   "cell_type": "markdown",
   "metadata": {},
   "source": [
    "## compare distances between two scoring groups (binary scoring):"
   ]
  },
  {
   "cell_type": "markdown",
   "metadata": {},
   "source": [
    "### define the ploting and comparison function:"
   ]
  },
  {
   "cell_type": "markdown",
   "metadata": {
    "ExecuteTime": {
     "end_time": "2018-05-06T05:54:36.801966Z",
     "start_time": "2018-05-06T05:54:36.797593Z"
    }
   },
   "source": [
    "    the function plot_distribution_for_binary_scoring was developed here and copied to TCR_microbiome_interactions_functions"
   ]
  },
  {
   "cell_type": "markdown",
   "metadata": {},
   "source": [
    "### run for specific distMat:"
   ]
  },
  {
   "cell_type": "code",
   "execution_count": null,
   "metadata": {
    "ExecuteTime": {
     "end_time": "2018-05-06T06:45:45.316961Z",
     "start_time": "2018-05-06T06:45:45.052028Z"
    }
   },
   "outputs": [],
   "source": [
    "# the one generated in former steps:\n",
    "\n",
    "binaryScoreCol='sameGenus'\n",
    "sortedDistMat=sortedDistMat\n",
    "plotType='density'\n",
    "\n",
    "fig,ax=plt.subplots()\n",
    "ax=plot_distribution_for_binary_scoring(ax,sortedDistMat,binaryScoreCol,plotType)\n",
    "# ax=plot_density_for_binary_scoring(ax,sortedDistMat,binaryScoreCol)\n",
    "plt.show()"
   ]
  },
  {
   "cell_type": "markdown",
   "metadata": {},
   "source": [
    "## run for different data set and top pairs"
   ]
  },
  {
   "cell_type": "markdown",
   "metadata": {},
   "source": [
    "### use histograms:"
   ]
  },
  {
   "cell_type": "code",
   "execution_count": null,
   "metadata": {
    "ExecuteTime": {
     "end_time": "2018-05-06T10:12:33.066524Z",
     "start_time": "2018-05-06T10:12:24.380018Z"
    }
   },
   "outputs": [],
   "source": [
    "datasetFolderList=['%s/TCR_real_data/SubSampled15000data_rep2' %MyPath,\n",
    "                   '%s/TCR_real_data/SubSampled15000data_rep1' %MyPath,\n",
    "                  '%s/TCR_real_data/SubSampled9000data_rep2' %MyPath]\n",
    "datasetNameList=['PNP515_ss15000_rep2','PNP515_ss15000_rep1','PNP515_ss9000_rep2']\n",
    "\n",
    "topNlist=[20,100,250,400]\n",
    "metric='euclidean'\n",
    "plotType='hist'\n",
    "\n",
    "binaryScoreCol='sameGenus'\n",
    "sortedDistMat=sortedDistMat\n",
    "\n",
    "hsize=4*len(datasetNameList)\n",
    "vsize=3*len(topNlist)\n",
    "fig, axes=plt.subplots(nrows=len(topNlist), ncols=len(datasetFolderList),figsize=(hsize,vsize),sharey=True)\n",
    "\n",
    "\n",
    "count=0\n",
    "sumDF=pd.DataFrame()\n",
    "    \n",
    "for i in range(len(datasetFolderList)):\n",
    "    datasetFolder=datasetFolderList[i]\n",
    "    datasetName=datasetNameList[i]\n",
    "    \n",
    "    #load  r table:\n",
    "    if i==2:\n",
    "        realRtableFile='%s/TCR_mb_results/permCorrTest_NoneNone250250_stdNone/real_result_df' %datasetFolder\n",
    "    else:\n",
    "        realRtableFile='%s/TCR_mb_results/permCorrTest_NoneNone400400_stdNone/real_result_df' %datasetFolder\n",
    "    Rtable=pd.read_pickle(realRtableFile)\n",
    "    print Rtable.shape\n",
    "    \n",
    "    for j in range(len(topNlist)):\n",
    "        topN=topNlist[j]\n",
    "        \n",
    "        print count,datasetName, topN\n",
    "        \n",
    "        print 'cutting r table to include top %s sequence and species' %topN\n",
    "        RtableCut,topNseqsNew,topNspeciesNew=cutSeqSpeciesRtable(Rtable,topNseqs=topN,topNspecies=topN)\n",
    "        \n",
    "        ax=axes[j,i]\n",
    "        #GENERATE DISTANCE MATRIX:\n",
    "        sortedDistMat=calc_dist_Rtable(RtableCut,indexCol='species',columnsCol='seq',valueCol='r_real',distMetric=metric)\n",
    "        \n",
    "        #SCORE MATRIX ACCORDING TO SAME GENUS:\n",
    "        binaryScoreCol='sameGenus'\n",
    "        sortedDistMat[binaryScoreCol]=np.where(sortedDistMat['sample1'].str.split('_').str[0]==sortedDistMat['sample2'].str.split('_').str[0],1,0)\n",
    "        \n",
    "        #plot histogram for specific Rtable\n",
    "        print 'plotting histograms...'\n",
    "        ax1,mean1,mean2,ks_p_cohort1_cohort2,t_p_cohort1_cohort2,normDif=plot_distribution_for_binary_scoring\\\n",
    "        (ax,sortedDistMat,binaryScoreCol,plotType=plotType)\n",
    "        if i==1:\n",
    "            ax1.set_title('%s\\ntop%sx%s\\nOnly Nextera samples' %(datasetName,topNseqsNew,topNspeciesNew))\n",
    "        else:\n",
    "            ax1.set_title('%s\\ntop%sx%s' %(datasetName,topNseqsNew,topNspeciesNew))\n",
    "#         ax.set_yscale('log')\n",
    "        \n",
    "        \n",
    "        sumDF.loc[count,'metric']=metric\n",
    "        sumDF.loc[count,'datasetName']=datasetName\n",
    "        sumDF.loc[count,'topNseqs']=topNseqsNew\n",
    "        sumDF.loc[count,'topNspecies']=topNspeciesNew\n",
    "        sumDF.loc[count,'mean: %s=0' %binaryScoreCol]=mean1\n",
    "        sumDF.loc[count,'mean: %s=1' %binaryScoreCol]=mean2\n",
    "        sumDF.loc[count,'normDif']=normDif\n",
    "        sumDF.loc[count,'p_KS']=ks_p_cohort1_cohort2\n",
    "        sumDF.loc[count,'t_p']=t_p_cohort1_cohort2\n",
    "        sumDF.loc[count,'normDif']=normDif\n",
    "        \n",
    "        if count==len(datasetFolderList)*len(topNlist)-1:\n",
    "            ax.legend(bbox_to_anchor=(0.1, -0.2), loc='upper left', borderaxespad=0.,fontsize=16)\n",
    "        else:\n",
    "            ax.legend().set_visible(False)\n",
    "        count=count+1\n",
    "\n",
    "print 'saving files...'\n",
    "fig.subplots_adjust(left=0.1, bottom=None, right=0.99, top=0.95,\n",
    "    wspace=0.2, hspace=0.4)\n",
    "\n",
    "\n",
    "\n",
    "figFolder='%s/TCR_real_data/TCR_mb_results/DATA_SUMMARY_ALL_DATASETS/speciesClusterBySequence' %MyPath\n",
    "if not isdir(figFolder):\n",
    "    makedirs(figFolder)\n",
    "figFile='%s/same_notSame_genus_distance_hists_%s' %(figFolder,metric)\n",
    "fig.savefig(figFile,dpi=200)\n",
    "\n",
    "dfFile='%s/same_notSame_genus_distance_summary_%s.xlsx' %(figFolder,metric)\n",
    "sumDF.to_excel(dfFile)\n",
    "        \n"
   ]
  },
  {
   "cell_type": "code",
   "execution_count": null,
   "metadata": {
    "ExecuteTime": {
     "end_time": "2018-05-06T10:12:53.552090Z",
     "start_time": "2018-05-06T10:12:44.298561Z"
    }
   },
   "outputs": [],
   "source": [
    "plt.show()"
   ]
  },
  {
   "cell_type": "markdown",
   "metadata": {},
   "source": [
    "### use density plots:"
   ]
  },
  {
   "cell_type": "code",
   "execution_count": null,
   "metadata": {
    "ExecuteTime": {
     "end_time": "2018-05-06T06:47:42.005978Z",
     "start_time": "2018-05-06T06:47:35.602255Z"
    }
   },
   "outputs": [],
   "source": [
    "datasetFolderList=['%s/TCR_real_data/SubSampled15000data_rep2' %MyPath,\n",
    "                   '%s/TCR_real_data/SubSampled15000data_rep1' %MyPath,\n",
    "                  '%s/TCR_real_data/SubSampled9000data_rep2' %MyPath]\n",
    "datasetNameList=['PNP515_ss15000_rep2','PNP515_ss15000_rep1','PNP515_ss9000_rep2']\n",
    "\n",
    "topNlist=[20,100,250,400]\n",
    "metric='euclidean'\n",
    "plotType='density'\n",
    "\n",
    "hsize=4*len(datasetNameList)\n",
    "vsize=4*len(topNlist)\n",
    "fig, axes=plt.subplots(nrows=len(topNlist), ncols=len(datasetFolderList),figsize=(hsize,vsize),sharey=True)\n",
    "\n",
    "\n",
    "count=0\n",
    "sumDF=pd.DataFrame()\n",
    "    \n",
    "for i in range(len(datasetFolderList)):\n",
    "    datasetFolder=datasetFolderList[i]\n",
    "    datasetName=datasetNameList[i]\n",
    "    \n",
    "    #load  r table:\n",
    "    if i==2:\n",
    "        realRtableFile='%s/TCR_mb_results/permCorrTest_NoneNone250250_stdNone/real_result_df' %datasetFolder\n",
    "    else:\n",
    "        realRtableFile='%s/TCR_mb_results/permCorrTest_NoneNone400400_stdNone/real_result_df' %datasetFolder\n",
    "    Rtable=pd.read_pickle(realRtableFile)\n",
    "    print Rtable.shape\n",
    "    \n",
    "    for j in range(len(topNlist)):\n",
    "        topN=topNlist[j]\n",
    "        \n",
    "        print count,datasetName, topN\n",
    "        \n",
    "        print 'cutting r table to include top %s sequence and species' %topN\n",
    "        RtableCut,topNseqsNew,topNspeciesNew=cutSeqSpeciesRtable(Rtable,topNseqs=topN,topNspecies=topN)\n",
    "        \n",
    "        ax=axes[j,i]\n",
    "        #GENERATE DISTANCE MATRIX:\n",
    "        sortedDistMat=calc_dist_Rtable(RtableCut,indexCol='species',columnsCol='seq',valueCol='r_real',distMetric=metric)\n",
    "        \n",
    "        #SCORE MATRIX ACCORDING TO SAME GENUS:\n",
    "        binaryScoreCol='sameGenus'\n",
    "        sortedDistMat[binaryScoreCol]=np.where(sortedDistMat['sample1'].str.split('_').str[0]==sortedDistMat['sample2'].str.split('_').str[0],1,0)\n",
    "        \n",
    "        #plot histogram for specific Rtable\n",
    "        print 'plotting histograms...'\n",
    "        ax1,mean1,mean2,ks_p_cohort1_cohort2,t_p_cohort1_cohort2,normDif=plot_distribution_for_binary_scoring\\\n",
    "        (ax,sortedDistMat,binaryScoreCol,plotType)\n",
    "        if i==1:\n",
    "            ax1.set_title('%s\\ntop%sx%s\\nOnly Nextera samples' %(datasetName,topNseqsNew,topNspeciesNew))\n",
    "        else:\n",
    "            ax1.set_title('%s\\ntop%sx%s' %(datasetName,topNseqsNew,topNspeciesNew))\n",
    "#         ax.set_yscale('log')\n",
    "        \n",
    "        \n",
    "        sumDF.loc[count,'metric']=metric\n",
    "        sumDF.loc[count,'datasetName']=datasetName\n",
    "        sumDF.loc[count,'topNseqs']=topNseqsNew\n",
    "        sumDF.loc[count,'topNspecies']=topNspeciesNew\n",
    "        sumDF.loc[count,'mean: %s=0' %binaryScoreCol]=mean1\n",
    "        sumDF.loc[count,'mean: %s=1' %binaryScoreCol]=mean2\n",
    "        sumDF.loc[count,'normDif']=normDif\n",
    "        sumDF.loc[count,'p_KS']=ks_p_cohort1_cohort2\n",
    "        sumDF.loc[count,'t_p']=t_p_cohort1_cohort2      \n",
    "        \n",
    "        if count==len(datasetFolderList)*len(topNlist)-1:\n",
    "            ax1.legend(bbox_to_anchor=(0.1, -0.2), loc='upper left', borderaxespad=0.,fontsize=16)\n",
    "        else:\n",
    "            ax1.legend().set_visible(False)\n",
    "        count=count+1\n",
    "\n",
    "print 'saving files...'\n",
    "fig.subplots_adjust(left=0.1, bottom=None, right=0.99, top=0.95,\n",
    "    wspace=0.15, hspace=0.5)\n",
    "\n",
    "\n",
    "\n",
    "figFolder='%s/TCR_real_data/TCR_mb_results/DATA_SUMMARY_ALL_DATASETS/speciesClusterBySequence' %MyPath\n",
    "if not isdir(figFolder):\n",
    "    makedirs(figFolder)\n",
    "figFile='%s/same_notSame_genus_distance_%s_%s' %(figFolder,plotType,metric)\n",
    "fig.savefig(figFile,dpi=200)\n",
    "\n",
    "dfFile='%s/same_notSame_genus_distance_summary_%s.xlsx' %(figFolder,metric)\n",
    "sumDF.to_excel(dfFile)\n",
    "        \n"
   ]
  },
  {
   "cell_type": "code",
   "execution_count": null,
   "metadata": {
    "ExecuteTime": {
     "end_time": "2018-05-06T06:47:49.083970Z",
     "start_time": "2018-05-06T06:47:48.149029Z"
    }
   },
   "outputs": [],
   "source": [
    "plt.show()"
   ]
  },
  {
   "cell_type": "markdown",
   "metadata": {},
   "source": [
    "### calculate segregation for many different numbers of species and sequences and datasets, without plotting"
   ]
  },
  {
   "cell_type": "code",
   "execution_count": null,
   "metadata": {
    "ExecuteTime": {
     "end_time": "2018-05-06T06:48:25.270949Z",
     "start_time": "2018-05-06T06:47:55.891193Z"
    }
   },
   "outputs": [],
   "source": [
    "datasetFolderList=['%s/TCR_real_data/SubSampled15000data_rep2' %MyPath,\n",
    "                   '%s/TCR_real_data/SubSampled15000data_rep1' %MyPath,\n",
    "                  '%s/TCR_real_data/SubSampled9000data_rep2' %MyPath]\n",
    "datasetNameList=['PNP515_ss15000_rep2','PNP515_ss15000_rep1','PNP515_ss9000_rep2']\n",
    "topNseqsList=[20,50,100,250,400]\n",
    "topNspeciesList=[20,50,100,250,400]\n",
    "\n",
    "metric='euclidean'\n",
    "plotType='density'\n",
    "\n",
    "hsize=4*len(datasetNameList)\n",
    "vsize=4*len(topNlist)\n",
    "fig, axes=plt.subplots(nrows=len(datasetFolderList)*len(topNseqsList)*len(topNspeciesList),ncols=1,\n",
    "                       figsize=(hsize,vsize),sharey=True)\n",
    "\n",
    "\n",
    "count=0\n",
    "sumDF=pd.DataFrame()\n",
    "    \n",
    "for i in range(len(datasetFolderList)):\n",
    "    datasetFolder=datasetFolderList[i]\n",
    "    datasetName=datasetNameList[i]\n",
    "    \n",
    "    #load  r table:\n",
    "    if i==2:\n",
    "        realRtableFile='%s/TCR_mb_results/permCorrTest_NoneNone250250_stdNone/real_result_df' %datasetFolder\n",
    "    else:\n",
    "        realRtableFile='%s/TCR_mb_results/permCorrTest_NoneNone400400_stdNone/real_result_df' %datasetFolder\n",
    "    Rtable=pd.read_pickle(realRtableFile)\n",
    "    print Rtable.shape\n",
    "    \n",
    "    for j in range(len(topNseqsList)):\n",
    "        topNseqs=topNseqsList[j]\n",
    "        \n",
    "        for k in range(len(topNspeciesList)):\n",
    "            topNspecies=topNspeciesList[k]\n",
    "\n",
    "            print count,datasetName, topNseqs,topNspecies\n",
    "\n",
    "            print 'cutting r table to include top %s sequence and %s species' %(topNseqs,topNspecies)\n",
    "            RtableCut,topNseqsNew,topNspeciesNew=cutSeqSpeciesRtable(Rtable,topNseqs,topNspecies)\n",
    "\n",
    "            ax=axes.flatten()[count]\n",
    "            #GENERATE DISTANCE MATRIX:\n",
    "            sortedDistMat=calc_dist_Rtable(RtableCut,indexCol='species',columnsCol='seq',valueCol='r_real',distMetric=metric)\n",
    "\n",
    "            #SCORE MATRIX ACCORDING TO SAME GENUS:\n",
    "            binaryScoreCol='sameGenus'\n",
    "            sortedDistMat[binaryScoreCol]=np.where(sortedDistMat['sample1'].str.split('_').str[0]==sortedDistMat['sample2'].str.split('_').str[0],1,0)\n",
    "\n",
    "            #plot histogram for specific Rtable\n",
    "            print 'plotting histograms...'\n",
    "            ax1,mean1,mean2,ks_p_cohort1_cohort2,t_p_cohort1_cohort2,normDif=plot_distribution_for_binary_scoring\\\n",
    "            (ax,sortedDistMat,binaryScoreCol,plotType)\n",
    "            if i==1:\n",
    "                ax1.set_title('%s\\ntop%sx%s\\nOnly Nextera samples' %(datasetName,topNseqsNew,topNspeciesNew))\n",
    "            else:\n",
    "                ax1.set_title('%s\\ntop%sx%s' %(datasetName,topNseqsNew,topNspeciesNew))\n",
    "    #         ax.set_yscale('log')\n",
    "\n",
    "\n",
    "            sumDF.loc[count,'metric']=metric\n",
    "            sumDF.loc[count,'datasetName']=datasetName\n",
    "            sumDF.loc[count,'topNseqs']=topNseqsNew\n",
    "            sumDF.loc[count,'topNspecies']=topNspeciesNew\n",
    "            sumDF.loc[count,'mean: %s=0' %binaryScoreCol]=mean1\n",
    "            sumDF.loc[count,'mean: %s=1' %binaryScoreCol]=mean2\n",
    "            sumDF.loc[count,'normDif']=normDif\n",
    "            sumDF.loc[count,'p_KS']=ks_p_cohort1_cohort2\n",
    "            sumDF.loc[count,'t_p']=t_p_cohort1_cohort2      \n",
    "\n",
    "            if count==len(datasetFolderList)*len(topNlist)-1:\n",
    "                ax1.legend(bbox_to_anchor=(0.1, -0.2), loc='upper left', borderaxespad=0.,fontsize=16)\n",
    "            else:\n",
    "                ax1.legend().set_visible(False)\n",
    "            count=count+1\n",
    "\n",
    "print 'saving files...'\n",
    "fig.subplots_adjust(left=0.1, bottom=None, right=0.99, top=0.95,\n",
    "    wspace=0.15, hspace=0.5)\n",
    "\n",
    "\n",
    "\n",
    "# figFolder='%s/TCR_real_data/TCR_mb_results/DATA_SUMMARY_ALL_DATASETS/speciesClusterBySequence' %MyPath\n",
    "# if not isdir(figFolder):\n",
    "#     makedirs(figFolder)\n",
    "# figFile='%s/same_notSame_genus_distance_%s_%s' %(figFolder,plotType,metric)\n",
    "# fig.savefig(figFile,dpi=200)\n",
    "\n",
    "dfFile='%s/same_notSame_genus_distance_summary_%s_hugh.xlsx' %(figFolder,metric)\n",
    "sumDF.to_excel(dfFile)\n",
    "        \n"
   ]
  },
  {
   "cell_type": "markdown",
   "metadata": {},
   "source": [
    "!!! conclusion: Use top 250x250 from any dataset, or top 20 from rep1-only nextera set, for further analysis!"
   ]
  },
  {
   "cell_type": "markdown",
   "metadata": {},
   "source": [
    "# cluster species by correlations with sequences:"
   ]
  },
  {
   "cell_type": "code",
   "execution_count": null,
   "metadata": {
    "ExecuteTime": {
     "end_time": "2018-05-06T09:51:31.390254Z",
     "start_time": "2018-05-06T09:51:31.227290Z"
    }
   },
   "outputs": [],
   "source": [
    "#######\n",
    "\n",
    "##copy back to .py and delete from notebook!\n",
    "\n",
    "#####\n",
    "\n",
    "\n",
    "def gen_heatmap_and_clustermap(Rtable, RtableName, figFolder,indexCol,columnsCol,valueCol,metric='euclidean',\n",
    "                               method='average',sortMethod='max',cmapName='hsv'):\n",
    "                               \n",
    "#                                figsizeX, figsizeY, fontsizeX, fontsizeY, fontSizeLabel, sortMethod):\n",
    "    \n",
    "    nInd= Rtable[indexCol].nunique()  \n",
    "    nCol=Rtable[columnsCol].nunique()\n",
    "    if nInd<100:\n",
    "        figsizeY=float(nInd)/2\n",
    "    else:\n",
    "        figsizeY=float(nInd)/5\n",
    "    if nCol<100:\n",
    "        figsizeX=float(nCol)/2\n",
    "    else:\n",
    "        figsizeX=float(nCol)/5\n",
    "    \n",
    "       \n",
    "    print 'Rtable shape is %s_%s' % (Rtable.shape[0], Rtable.shape[1])\n",
    "    print 'number of unique %s=%s' % (indexCol,Rtable[indexCol].nunique())\n",
    "    print 'number of unique %s=%s' % (columnsCol,Rtable[columnsCol].nunique())  \n",
    "        \n",
    "    # generate pivot table:\n",
    "    print 'generating pivot table...'\n",
    "    pivot = Rtable.pivot(index=indexCol, columns=columnsCol, values=valueCol)\n",
    "    print pivot.shape\n",
    "    if sortMethod == 'max':\n",
    "        pivot[sortMethod] = pivot.max(axis=1)\n",
    "        pivot.loc[sortMethod, :] = pivot.max(axis=0)\n",
    "    elif sortMethod == 'mean':\n",
    "        pivot[sortMethod] = pivot.mean(axis=1)\n",
    "        pivot.loc[sortMethod, :] = pivot.mean(axis=0)\n",
    "    pivot = pivot.sort_values(by=sortMethod, axis=1)\n",
    "    pivot = pivot.sort_values(by=sortMethod, axis=0)\n",
    "    pivot = pivot.drop(sortMethod, axis=1)\n",
    "    pivot = pivot.drop(sortMethod, axis=0)\n",
    "    \n",
    "    \n",
    "    if indexCol=='species':\n",
    "        # generate genus color list:\n",
    "        uniqueSpecies = pivot.index.unique()\n",
    "        genus = [x.split('_')[0] for x in uniqueSpecies ]\n",
    "        genus2 = list(set(genus))\n",
    "        genus2n = len(genus2)\n",
    "        if genus2n < 10:\n",
    "            fact = 30\n",
    "        elif genus2n < 20:\n",
    "            fact = 20\n",
    "        elif genus2n < 50:\n",
    "            fact = 10\n",
    "        else:\n",
    "            fact = 10 \n",
    "        species_genus_df = pd.DataFrame({'species':uniqueSpecies, 'genus':genus})\n",
    "        genus2color = []\n",
    "        for n, g in enumerate(genus2):\n",
    "            color = plt.cm.get_cmap(cmapName)(fact * n)\n",
    "            genus2color.append(color)\n",
    "        genus2colorDF = pd.DataFrame({'genus':genus2, 'color':genus2color})\n",
    "        speciesGenusColorDF = pd.merge(species_genus_df, genus2colorDF, how='left', left_on='genus', right_on='genus')\n",
    "        cluster_colors = list(speciesGenusColorDF['color'])\n",
    "    \n",
    "    # generate heatmap:\n",
    "    print 'generate heatmap...'\n",
    "    heatMapFig, ax = plt.subplots(figsize=(figsizeX, figsizeY))  # Sample figsize in inches\n",
    "    sns.heatmap(pivot, ax=ax)\n",
    "#     ax.yaxis.label.set_size(fontSizeLabel)\n",
    "#     ax.tick_params(axis='y', labelsize=fontsizeY)\n",
    "#     ax.xaxis.label.set_size(fontSizeLabel)\n",
    "#     ax.tick_params(axis='x', labelsize=fontsizeX)\n",
    "    heatMapName = '%s_heatMap_%sBy%s_sortBy%s' % (RtableName, indexCol,columnsCol, sortMethod)\n",
    "    heatMapFile='%s/%s' %(figFolder,heatMapName)\n",
    "#     heatMapFig.savefig(heatMapFile, dpi=200)\n",
    "    \n",
    "    # generate clustermap\n",
    "    print 'generate clustermap...'\n",
    "    if indexCol=='species': \n",
    "        cg = sns.clustermap(pivot, figsize=(figsizeX, figsizeY), col_cluster=False, row_colors=cluster_colors,metric=metric,\n",
    "                            method=method)\n",
    "    else:\n",
    "        cg = sns.clustermap(pivot, figsize=(figsizeX, figsizeY), col_cluster=False,metric=metric,method=method)\n",
    "    \n",
    "    plt.setp(cg.ax_heatmap.yaxis.get_majorticklabels(), rotation=0)\n",
    "    plt.setp(cg.ax_heatmap.xaxis.get_majorticklabels())\n",
    "    plt.title(RtableName)\n",
    "    clusterMapName = '%s_clusterMap_%s_%s' % (RtableName, metric,method)\n",
    "    clusterMapFile='%s/%s' %(figFolder,clusterMapName)\n",
    "    cg.savefig(clusterMapFile, dpi=80)\n",
    "    \n",
    "    print 'done'\n",
    "    \n",
    "    return heatMapFig, cg"
   ]
  },
  {
   "cell_type": "code",
   "execution_count": null,
   "metadata": {
    "ExecuteTime": {
     "end_time": "2018-05-06T10:06:31.439733Z",
     "start_time": "2018-05-06T10:06:28.128443Z"
    }
   },
   "outputs": [],
   "source": [
    "# load top 250x250 from PNP515_ss15000_rep2:\n",
    "\n",
    "datasetFolder='%s/TCR_real_data/SubSampled9000data_rep2' %MyPath\n",
    "datasetName='PNP515_ss9000_rep2'\n",
    "realRtableFile='%s/TCR_mb_results/permCorrTest_NoneNone250250_stdNone/real_result_df' %datasetFolder\n",
    "Rtable400400=pd.read_pickle(realRtableFile)\n",
    "\n",
    "# cut:\n",
    "Rtable=Rtable250250\n",
    "topNseqs=100\n",
    "topNspecies=20\n",
    "\n",
    "RtableCut,topNseqs,topNspecies=cutSeqSpeciesRtable(Rtable,topNseqs,topNspecies)\n",
    "\n",
    "\n",
    "Rtable=RtableCut\n",
    "RtableName='%s_%sspeciesx%sseqs' %(datasetName,topNspecies,topNseqs)\n",
    "figFolder='%s/TCR_real_data/TCR_mb_results/DATA_SUMMARY_ALL_DATASETS/speciesClusterBySequence/clusterMap' %MyPath\n",
    "if not isdir(figFolder):\n",
    "    makedirs(figFolder)\n",
    "indexCol='species'\n",
    "columnsCol='seq'\n",
    "valueCol='r_real'\n",
    "metric='euclidean'\n",
    "method='complete'\n",
    "sortMethod='max'\n",
    "cmapName='gist_ncar'\n",
    "\n",
    "\n",
    "heatMapFig, cg=heatMapFig, cg=gen_heatmap_and_clustermap(Rtable, RtableName, figFolder,indexCol,columnsCol,\n",
    "                            valueCol,metric, method,sortMethod,cmapName)"
   ]
  },
  {
   "cell_type": "code",
   "execution_count": null,
   "metadata": {
    "ExecuteTime": {
     "end_time": "2018-05-06T10:06:44.035981Z",
     "start_time": "2018-05-06T10:06:42.512531Z"
    },
    "scrolled": false
   },
   "outputs": [],
   "source": [
    "plt.show()"
   ]
  },
  {
   "cell_type": "code",
   "execution_count": null,
   "metadata": {},
   "outputs": [],
   "source": []
  },
  {
   "cell_type": "markdown",
   "metadata": {},
   "source": [
    "# check sequence distances according to correlations with species:"
   ]
  },
  {
   "cell_type": "markdown",
   "metadata": {},
   "source": [
    "## generate distance table:"
   ]
  },
  {
   "cell_type": "code",
   "execution_count": null,
   "metadata": {
    "ExecuteTime": {
     "end_time": "2018-05-06T10:46:24.439969Z",
     "start_time": "2018-05-06T10:46:24.301841Z"
    }
   },
   "outputs": [],
   "source": [
    "#generate distance table for sequences:\n",
    "pd.set_option('display.width', 1000)\n",
    "distMetricList=['euclidean']\n",
    "\n",
    "\n",
    "Rtable=Rtable100100\n",
    "indexCol='seq'\n",
    "columnsCol='species'\n",
    "valueCol='r_real'\n",
    "\n",
    "for metric in distMetricList:\n",
    "    print metric\n",
    "    sortedDistMat=calc_dist_Rtable(Rtable,indexCol,columnsCol,valueCol,metric)\n",
    "    print sortedDistMat.head(12)"
   ]
  },
  {
   "cell_type": "markdown",
   "metadata": {},
   "source": [
    "## merge with identity:"
   ]
  },
  {
   "cell_type": "code",
   "execution_count": null,
   "metadata": {
    "ExecuteTime": {
     "end_time": "2018-05-06T10:46:37.601251Z",
     "start_time": "2018-05-06T10:46:34.442537Z"
    }
   },
   "outputs": [],
   "source": [
    "\n",
    "\n",
    "file1='%s/TCR CDR3 sequence databases/CDR3identityTable_23042018_processed.xlsx' %MyPath\n",
    "CDR3identityTable=pd.read_excel(file1)\n",
    "CDR3identityTable.head()"
   ]
  },
  {
   "cell_type": "code",
   "execution_count": null,
   "metadata": {
    "ExecuteTime": {
     "end_time": "2018-05-06T10:46:57.522880Z",
     "start_time": "2018-05-06T10:46:57.467957Z"
    }
   },
   "outputs": [],
   "source": [
    "identityColumn='Pathology_McPAS'\n",
    "# identityColumn='Category_McPAS'\n",
    "\n",
    "sortedDistMat_wIdentity=pd.merge(sortedDistMat,pd.DataFrame(CDR3identityTable[identityColumn]),\n",
    "                                 how='left',left_on='sample1', right_index=True)\n",
    "sortedDistMat_wIdentity=sortedDistMat_wIdentity.rename(columns={identityColumn:'sample1_%s' %identityColumn})\n",
    "sortedDistMat_wIdentity=pd.merge(sortedDistMat_wIdentity,pd.DataFrame(CDR3identityTable[identityColumn]),\n",
    "                                 how='left',left_on='sample2', right_index=True)\n",
    "sortedDistMat_wIdentity=sortedDistMat_wIdentity.rename(columns={identityColumn:'sample2_%s' %identityColumn})\n",
    "sortedDistMat_wIdentity.head(10)"
   ]
  },
  {
   "cell_type": "markdown",
   "metadata": {},
   "source": [
    "## score by identity"
   ]
  },
  {
   "cell_type": "code",
   "execution_count": null,
   "metadata": {
    "ExecuteTime": {
     "end_time": "2018-05-06T06:49:49.052388Z",
     "start_time": "2018-05-06T06:49:49.047346Z"
    }
   },
   "outputs": [],
   "source": [
    "#function that checks whether an item in list 1 is contained within list 2 and returns 1 if True\n",
    "def iden_score(list1,list2):\n",
    "    answer=0\n",
    "    for term in list1:\n",
    "        if term in list2:\n",
    "            answer=1\n",
    "    return answer\n",
    "        \n",
    "        "
   ]
  },
  {
   "cell_type": "code",
   "execution_count": null,
   "metadata": {
    "ExecuteTime": {
     "end_time": "2018-05-06T07:19:23.922371Z",
     "start_time": "2018-05-06T07:19:22.490788Z"
    }
   },
   "outputs": [],
   "source": [
    "#score the sequence pairs: if there are common identities between the two sequences, \n",
    "#they get score of 1, if not, they get score of 0\n",
    "\n",
    "\n",
    "scored=sortedDistMat_wIdentity.dropna()\n",
    "scored['sample1_%s' %identityColumn]=scored['sample1_%s' %identityColumn].str.replace(' ','')\n",
    "scored['sample2_%s' %identityColumn]=scored['sample2_%s' %identityColumn].str.replace(' ','')\n",
    "scored['sample1_%s_list'  %identityColumn]=scored['sample1_%s' %identityColumn].str.split(',')\n",
    "scored['sample2_%s_list'  %identityColumn]=scored['sample2_%s' %identityColumn].str.split(',')\n",
    "scored['sameIdentity']=scored.apply(lambda x:\\\n",
    "iden_score(x['sample1_%s_list'  %identityColumn],x['sample2_%s_list'  %identityColumn]),axis=1)\n",
    "\n",
    "scored.head(10)"
   ]
  },
  {
   "cell_type": "code",
   "execution_count": null,
   "metadata": {
    "ExecuteTime": {
     "end_time": "2018-05-06T07:21:10.516809Z",
     "start_time": "2018-05-06T07:21:10.480839Z"
    }
   },
   "outputs": [],
   "source": [
    "sortedDistMat_wIdentity_scored=pd.merge(sortedDistMat_wIdentity,scored[['sample1','sample2','sameIdentity']],\n",
    "                                       how='left',left_on=['sample1','sample2'],right_on=['sample1','sample2'])\n",
    "# sortedDistMat_wIdentity_scored['sameIdentity']=sortedDistMat_wIdentity_scored['sameIdentity'].fillna(0)\n",
    "sortedDistMat_wIdentity_scored[sortedDistMat_wIdentity_scored['sameIdentity']==1].sort_index().head()"
   ]
  },
  {
   "cell_type": "code",
   "execution_count": null,
   "metadata": {
    "ExecuteTime": {
     "end_time": "2018-05-06T07:21:22.407565Z",
     "start_time": "2018-05-06T07:21:22.385136Z"
    }
   },
   "outputs": [],
   "source": [
    "sortedDistMat_wIdentity_scored[sortedDistMat_wIdentity_scored['sameIdentity']==0].sort_index().head()"
   ]
  },
  {
   "cell_type": "code",
   "execution_count": null,
   "metadata": {
    "ExecuteTime": {
     "end_time": "2018-05-06T07:21:50.497190Z",
     "start_time": "2018-05-06T07:21:50.487939Z"
    }
   },
   "outputs": [],
   "source": [
    "sortedDistMat_wIdentity_scored['sameIdentity'].value_counts(dropna=False)"
   ]
  },
  {
   "cell_type": "markdown",
   "metadata": {},
   "source": [
    "### compare distances between scores:"
   ]
  },
  {
   "cell_type": "code",
   "execution_count": null,
   "metadata": {
    "ExecuteTime": {
     "end_time": "2018-05-06T10:41:06.981767Z",
     "start_time": "2018-05-06T10:41:06.687976Z"
    }
   },
   "outputs": [],
   "source": [
    "# the one generated in former steps:\n",
    "\n",
    "binaryScoreCol='sameIdentity'\n",
    "sortedDistMat=sortedDistMat_wIdentity_scored\n",
    "plotType='density'\n",
    "\n",
    "fig,ax=plt.subplots()\n",
    "ax=plot_distribution_for_binary_scoring(ax,sortedDistMat,binaryScoreCol,plotType)\n",
    "# ax=plot_density_for_binary_scoring(ax,sortedDistMat,binaryScoreCol)\n",
    "plt.show()"
   ]
  },
  {
   "cell_type": "code",
   "execution_count": null,
   "metadata": {
    "ExecuteTime": {
     "end_time": "2018-05-06T07:22:44.896759Z",
     "start_time": "2018-05-06T07:22:44.381808Z"
    }
   },
   "outputs": [],
   "source": [
    "# the one generated in former steps:\n",
    "\n",
    "binaryScoreCol='sameIdentity'\n",
    "sortedDistMat=sortedDistMat_wIdentity_scored\n",
    "plotType='hist'\n",
    "\n",
    "fig,ax=plt.subplots()\n",
    "ax=plot_distribution_for_binary_scoring(ax,sortedDistMat,binaryScoreCol,plotType)\n",
    "# ax=plot_density_for_binary_scoring(ax,sortedDistMat,binaryScoreCol)\n",
    "plt.show()"
   ]
  },
  {
   "cell_type": "markdown",
   "metadata": {},
   "source": [
    "### calculate segregation for many different numbers of species and sequences and datasets, without plotting"
   ]
  },
  {
   "cell_type": "code",
   "execution_count": null,
   "metadata": {
    "ExecuteTime": {
     "end_time": "2018-05-06T10:25:30.981656Z",
     "start_time": "2018-05-06T10:25:23.259500Z"
    }
   },
   "outputs": [],
   "source": [
    "file1='%s/TCR CDR3 sequence databases/CDR3identityTable_23042018_processed.xlsx' %MyPath\n",
    "CDR3identityTable=pd.read_excel(file1)\n",
    "\n",
    "\n",
    "datasetFolderList=['%s/TCR_real_data/SubSampled15000data_rep2' %MyPath,\n",
    "                   '%s/TCR_real_data/SubSampled15000data_rep1' %MyPath,\n",
    "                  '%s/TCR_real_data/SubSampled9000data_rep2' %MyPath]\n",
    "datasetNameList=['PNP515_ss15000_rep2','PNP515_ss15000_rep1','PNP515_ss9000_rep2']\n",
    "topNseqsList=[20,50,100,250,400]\n",
    "topNspeciesList=[20,50,100,250,400]\n",
    "\n",
    "metric='euclidean'\n",
    "plotType='density'\n",
    "# identityColumn='Pathology_McPAS' #('Pathology_McPAS' or 'Category_McPAS')\n",
    "# identityColumn='Category_McPAS'\n",
    "identityColumn='Epitope species_VDJDB'\n",
    "\n",
    "hsize=4*len(datasetNameList)\n",
    "vsize=4*len(topNlist)\n",
    "fig, axes=plt.subplots(nrows=len(datasetFolderList)*len(topNseqsList)*len(topNspeciesList),ncols=1,\n",
    "                       figsize=(hsize,vsize),sharey=True)\n",
    "\n",
    "\n",
    "count=0\n",
    "sumDF=pd.DataFrame()\n",
    "    \n",
    "for i in range(len(datasetFolderList)):\n",
    "    datasetFolder=datasetFolderList[i]\n",
    "    datasetName=datasetNameList[i]\n",
    "    \n",
    "    #load  r table:\n",
    "    if i==2:\n",
    "        realRtableFile='%s/TCR_mb_results/permCorrTest_NoneNone250250_stdNone/real_result_df' %datasetFolder\n",
    "    else:\n",
    "        realRtableFile='%s/TCR_mb_results/permCorrTest_NoneNone400400_stdNone/real_result_df' %datasetFolder\n",
    "    Rtable=pd.read_pickle(realRtableFile)\n",
    "    print Rtable.shape\n",
    "    \n",
    "    for j in range(len(topNseqsList)):\n",
    "        topNseqs=topNseqsList[j]\n",
    "        \n",
    "        for k in range(len(topNspeciesList)):\n",
    "            topNspecies=topNspeciesList[k]\n",
    "\n",
    "            print count,datasetName, topNseqs,topNspecies\n",
    "\n",
    "            print 'cutting r table to include top %s sequence and %s species' %(topNseqs,topNspecies)\n",
    "            RtableCut,topNseqsNew,topNspeciesNew=cutSeqSpeciesRtable(Rtable,topNseqs,topNspecies)\n",
    "\n",
    "            ax=axes.flatten()[count]\n",
    "            #GENERATE DISTANCE MATRIX:\n",
    "            sortedDistMat=calc_dist_Rtable(RtableCut,indexCol='seq',columnsCol='species',valueCol='r_real',distMetric=metric)\n",
    "\n",
    "            #SCORE MATRIX ACCORDING TO SAME IDENTITY:\n",
    "            \n",
    "            ##add identity:\n",
    "            sortedDistMat_wIdentity=pd.merge(sortedDistMat,pd.DataFrame(CDR3identityTable[identityColumn]),\n",
    "                                 how='left',left_on='sample1', right_index=True)\n",
    "            sortedDistMat_wIdentity=sortedDistMat_wIdentity.rename(columns={identityColumn:'sample1_%s' %identityColumn})\n",
    "            sortedDistMat_wIdentity=pd.merge(sortedDistMat_wIdentity,pd.DataFrame(CDR3identityTable[identityColumn]),\n",
    "                                             how='left',left_on='sample2', right_index=True)\n",
    "            sortedDistMat_wIdentity=sortedDistMat_wIdentity.rename(columns={identityColumn:'sample2_%s' %identityColumn})\n",
    "            \n",
    "            #score the sequence pairs: if there are common identities between the two sequences, \n",
    "            #they get score of 1, if not, they get score of 0\n",
    "\n",
    "\n",
    "            scored=sortedDistMat_wIdentity.dropna()\n",
    "            scored['sample1_%s' %identityColumn]=scored['sample1_%s' %identityColumn].str.replace(' ','')\n",
    "            scored['sample2_%s' %identityColumn]=scored['sample2_%s' %identityColumn].str.replace(' ','')\n",
    "            scored['sample1_%s_list'  %identityColumn]=scored['sample1_%s' %identityColumn].str.split(',')\n",
    "            scored['sample2_%s_list'  %identityColumn]=scored['sample2_%s' %identityColumn].str.split(',')\n",
    "            scored['sameIdentity']=scored.apply(lambda x:\\\n",
    "            iden_score(x['sample1_%s_list'  %identityColumn],x['sample2_%s_list'  %identityColumn]),axis=1)\n",
    "            sortedDistMat_wIdentity_scored=pd.merge(sortedDistMat_wIdentity,scored[['sample1','sample2','sameIdentity']],\n",
    "                                       how='left',left_on=['sample1','sample2'],right_on=['sample1','sample2'])\n",
    "#             sortedDistMat_wIdentity_scored['sameIdentity']=sortedDistMat_wIdentity_scored['sameIdentity'].fillna(0)\n",
    "            \n",
    "            \n",
    "            #plot histogram for specific Rtable\n",
    "            print 'plotting histograms...'\n",
    "            ax1,mean1,mean2,ks_p_cohort1_cohort2,t_p_cohort1_cohort2,normDif=plot_distribution_for_binary_scoring\\\n",
    "            (ax,sortedDistMat_wIdentity_scored,binaryScoreCol,plotType)\n",
    "            if i==1:\n",
    "                ax1.set_title('%s\\ntop%sx%s\\nOnly Nextera samples' %(datasetName,topNseqsNew,topNspeciesNew))\n",
    "            else:\n",
    "                ax1.set_title('%s\\ntop%sx%s' %(datasetName,topNseqsNew,topNspeciesNew))\n",
    "    #         ax.set_yscale('log')\n",
    "\n",
    "\n",
    "            sumDF.loc[count,'metric']=metric\n",
    "            sumDF.loc[count,'datasetName']=datasetName\n",
    "            sumDF.loc[count,'topNseqs']=topNseqsNew\n",
    "            sumDF.loc[count,'topNspecies']=topNspeciesNew\n",
    "            sumDF.loc[count,'mean: %s=0' %binaryScoreCol]=mean1\n",
    "            sumDF.loc[count,'mean: %s=1' %binaryScoreCol]=mean2\n",
    "            sumDF.loc[count,'normDif']=normDif\n",
    "            sumDF.loc[count,'p_KS']=ks_p_cohort1_cohort2\n",
    "            sumDF.loc[count,'t_p']=t_p_cohort1_cohort2      \n",
    "\n",
    "            if count==len(datasetFolderList)*len(topNlist)-1:\n",
    "                ax1.legend(bbox_to_anchor=(0.1, -0.2), loc='upper left', borderaxespad=0.,fontsize=16)\n",
    "            else:\n",
    "                ax1.legend().set_visible(False)\n",
    "            count=count+1\n",
    "\n",
    "print 'saving files...'\n",
    "fig.subplots_adjust(left=0.1, bottom=None, right=0.99, top=0.85,\n",
    "    wspace=0.15, hspace=0.5)\n",
    "\n",
    "\n",
    "\n",
    "figFolder='%s/TCR_real_data/TCR_mb_results/DATA_SUMMARY_ALL_DATASETS/seqsClusterBySpecies' %MyPath\n",
    "if not isdir(figFolder):\n",
    "    makedirs(figFolder)\n",
    "# figFile='%s/same_notSame_genus_distance_%s_%s' %(figFolder,plotType,metric)\n",
    "# fig.savefig(figFile,dpi=200)\n",
    "\n",
    "dfFile='%s/same_notSame_identity_sequence_distance_summary_%s_hugh_identityColumn%s.xlsx' %(figFolder,metric,identityColumn)\n",
    "sumDF.to_excel(dfFile)\n",
    "        \n"
   ]
  },
  {
   "cell_type": "markdown",
   "metadata": {},
   "source": [
    "### use plots:"
   ]
  },
  {
   "cell_type": "code",
   "execution_count": null,
   "metadata": {
    "ExecuteTime": {
     "end_time": "2018-05-06T10:26:32.921377Z",
     "start_time": "2018-05-06T10:25:51.425884Z"
    }
   },
   "outputs": [],
   "source": [
    "datasetFolderList=['%s/TCR_real_data/SubSampled15000data_rep2' %MyPath,\n",
    "                   '%s/TCR_real_data/SubSampled15000data_rep1' %MyPath,\n",
    "                  '%s/TCR_real_data/SubSampled9000data_rep2' %MyPath]\n",
    "datasetNameList=['PNP515_ss15000_rep2','PNP515_ss15000_rep1','PNP515_ss9000_rep2']\n",
    "\n",
    "topNlist=[20,100,250,400]\n",
    "metric='euclidean'\n",
    "plotType='density'\n",
    "\n",
    "binaryScoreCol='sameIdentity'\n",
    "sortedDistMat=sortedDistMat\n",
    "metric='euclidean'\n",
    "plotType='density'\n",
    "# identityColumn='Pathology_McPAS' #('Pathology_McPAS' or 'Category_McPAS')\n",
    "# identityColumn='Category_McPAS'\n",
    "identityColumn='Epitope species_VDJDB'\n",
    "\n",
    "\n",
    "hsize=4*len(datasetNameList)\n",
    "vsize=4*len(topNlist)\n",
    "fig, axes=plt.subplots(nrows=len(topNlist), ncols=len(datasetFolderList),figsize=(hsize,vsize),sharey=True)\n",
    "\n",
    "\n",
    "count=0\n",
    "sumDF=pd.DataFrame()\n",
    "    \n",
    "for i in range(len(datasetFolderList)):\n",
    "    datasetFolder=datasetFolderList[i]\n",
    "    datasetName=datasetNameList[i]\n",
    "    \n",
    "    #load  r table:\n",
    "    if i==2:\n",
    "        realRtableFile='%s/TCR_mb_results/permCorrTest_NoneNone250250_stdNone/real_result_df' %datasetFolder\n",
    "    else:\n",
    "        realRtableFile='%s/TCR_mb_results/permCorrTest_NoneNone400400_stdNone/real_result_df' %datasetFolder\n",
    "    Rtable=pd.read_pickle(realRtableFile)\n",
    "    print Rtable.shape\n",
    "    \n",
    "    for j in range(len(topNlist)):\n",
    "        topN=topNlist[j]\n",
    "        \n",
    "        print count,datasetName, topN\n",
    "        \n",
    "        print 'cutting r table to include top %s sequence and species' %topN\n",
    "        RtableCut,topNseqsNew,topNspeciesNew=cutSeqSpeciesRtable(Rtable,topNseqs=topN,topNspecies=topN)\n",
    "        \n",
    "        ax=axes[j,i]\n",
    "        #GENERATE DISTANCE MATRIX:\n",
    "        sortedDistMat=calc_dist_Rtable(RtableCut,indexCol='seq',columnsCol='species',valueCol='r_real',distMetric=metric)\n",
    "\n",
    "        #SCORE MATRIX ACCORDING TO SAME IDENTITY:\n",
    "\n",
    "        ##add identity:\n",
    "        sortedDistMat_wIdentity=pd.merge(sortedDistMat,pd.DataFrame(CDR3identityTable[identityColumn]),\n",
    "                             how='left',left_on='sample1', right_index=True)\n",
    "        sortedDistMat_wIdentity=sortedDistMat_wIdentity.rename(columns={identityColumn:'sample1_%s' %identityColumn})\n",
    "        sortedDistMat_wIdentity=pd.merge(sortedDistMat_wIdentity,pd.DataFrame(CDR3identityTable[identityColumn]),\n",
    "                                         how='left',left_on='sample2', right_index=True)\n",
    "        sortedDistMat_wIdentity=sortedDistMat_wIdentity.rename(columns={identityColumn:'sample2_%s' %identityColumn})\n",
    "\n",
    "        #score the sequence pairs: if there are common identities between the two sequences, \n",
    "        #they get score of 1, if not, they get score of 0\n",
    "\n",
    "\n",
    "        scored=sortedDistMat_wIdentity.dropna()\n",
    "        scored['sample1_%s' %identityColumn]=scored['sample1_%s' %identityColumn].str.replace(' ','')\n",
    "        scored['sample2_%s' %identityColumn]=scored['sample2_%s' %identityColumn].str.replace(' ','')\n",
    "        scored['sample1_%s_list'  %identityColumn]=scored['sample1_%s' %identityColumn].str.split(',')\n",
    "        scored['sample2_%s_list'  %identityColumn]=scored['sample2_%s' %identityColumn].str.split(',')\n",
    "        scored[binaryScoreCol]=scored.apply(lambda x:\\\n",
    "        iden_score(x['sample1_%s_list'  %identityColumn],x['sample2_%s_list'  %identityColumn]),axis=1)\n",
    "        sortedDistMat_wIdentity_scored=pd.merge(sortedDistMat_wIdentity,scored[['sample1','sample2',binaryScoreCol]],\n",
    "                                   how='left',left_on=['sample1','sample2'],right_on=['sample1','sample2'])\n",
    "#             sortedDistMat_wIdentity_scored['binaryScoreCol']=sortedDistMat_wIdentity_scored['binaryScoreCol'].fillna(0)\n",
    "\n",
    "    #plot histogram for specific Rtable\n",
    "        print 'plotting histograms...'\n",
    "        \n",
    "        fig.suptitle('sequence pair distance based on correlation with species\\n\\\n",
    "        comparison between same pairs and non-same identity pairs\\n\\\n",
    "        identityColumn=%s' %identityColumn)\n",
    "        \n",
    "        \n",
    "        ax1,mean1,mean2,ks_p_cohort1_cohort2,t_p_cohort1_cohort2,normDif=plot_distribution_for_binary_scoring\\\n",
    "        (ax,sortedDistMat_wIdentity_scored,binaryScoreCol,plotType=plotType)\n",
    "        if i==1:\n",
    "            ax1.set_title('%s\\ntop%sx%s\\nOnly Nextera samples' %(datasetName,topNseqsNew,topNspeciesNew))\n",
    "        else:\n",
    "            ax1.set_title('%s\\ntop%sx%s' %(datasetName,topNseqsNew,topNspeciesNew))\n",
    "#         ax.set_yscale('log')\n",
    "        \n",
    "        \n",
    "        sumDF.loc[count,'metric']=metric\n",
    "        sumDF.loc[count,'datasetName']=datasetName\n",
    "        sumDF.loc[count,'topNseqs']=topNseqsNew\n",
    "        sumDF.loc[count,'topNspecies']=topNspeciesNew\n",
    "        sumDF.loc[count,'mean: %s=0' %binaryScoreCol]=mean1\n",
    "        sumDF.loc[count,'mean: %s=1' %binaryScoreCol]=mean2\n",
    "        sumDF.loc[count,'normDif']=normDif\n",
    "        sumDF.loc[count,'p_KS']=ks_p_cohort1_cohort2\n",
    "        sumDF.loc[count,'t_p']=t_p_cohort1_cohort2\n",
    "        sumDF.loc[count,'normDif']=normDif\n",
    "        \n",
    "        if count==len(datasetFolderList)*len(topNlist)-1:\n",
    "            ax.legend(bbox_to_anchor=(0.1, -0.2), loc='upper left', borderaxespad=0.,fontsize=16)\n",
    "        else:\n",
    "            ax.legend().set_visible(False)\n",
    "        count=count+1\n",
    "\n",
    "print 'saving files...'\n",
    "fig.subplots_adjust(left=0.1, bottom=None, right=0.99, top=0.85,\n",
    "    wspace=0.2, hspace=0.4)\n",
    "\n",
    "\n",
    "\n",
    "figFolder='%s/TCR_real_data/TCR_mb_results/DATA_SUMMARY_ALL_DATASETS/seqsClusterBySpecies' %MyPath\n",
    "if not isdir(figFolder):\n",
    "    makedirs(figFolder)\n",
    "figFile='%s/same_notSame_identity_sequence_distance_%s_%s_identityColumn%s' %(figFolder,plotType,metric,identityColumn)\n",
    "fig.savefig(figFile,dpi=200)\n",
    "\n",
    "dfFile='%s/same_notSame_identity_sequence_distance_summary_%s_identityColumn%s.xlsx' %(figFolder,metric,identityColumn)\n",
    "sumDF.to_excel(dfFile)\n",
    "        \n"
   ]
  },
  {
   "cell_type": "markdown",
   "metadata": {},
   "source": [
    "## score by related-to diabetes"
   ]
  },
  {
   "cell_type": "code",
   "execution_count": null,
   "metadata": {
    "ExecuteTime": {
     "end_time": "2018-05-06T11:34:22.053059Z",
     "start_time": "2018-05-06T11:34:21.221772Z"
    }
   },
   "outputs": [],
   "source": [
    "#score the sequence pairs: if there are common identities between the two sequences, \n",
    "#they get score of 1, if not, they get score of 0\n",
    "\n",
    "print identityColumn\n",
    "scored=sortedDistMat_wIdentity.dropna()\n",
    "scored['sample1_%s' %identityColumn]=scored['sample1_%s' %identityColumn].str.replace(' ','')\n",
    "scored['sample2_%s' %identityColumn]=scored['sample2_%s' %identityColumn].str.replace(' ','')\n",
    "scored['sample1_%s_list'  %identityColumn]=scored['sample1_%s' %identityColumn].str.split(',')\n",
    "scored['sample2_%s_list'  %identityColumn]=scored['sample2_%s' %identityColumn].str.split(',')\n",
    "scored['sameIdentity']=scored.apply(lambda x:\\\n",
    "iden_score(x['sample1_%s_list'  %identityColumn],x['sample2_%s_list'  %identityColumn]),axis=1)\n",
    "scored.head()\n"
   ]
  },
  {
   "cell_type": "code",
   "execution_count": null,
   "metadata": {
    "ExecuteTime": {
     "end_time": "2018-05-06T11:42:43.324036Z",
     "start_time": "2018-05-06T11:42:42.879123Z"
    }
   },
   "outputs": [],
   "source": [
    "scored['sample1_diabetes']=scored['sample1_Pathology_McPAS_list'].apply(lambda x: 'DiabetesType1' in x)\n",
    "scored['sample2_diabetes']=scored['sample2_Pathology_McPAS_list'].apply(lambda x: 'DiabetesType1' in x)\n",
    "scored['combined_diabetes']=np.where(scored['sample1_diabetes']==scored['sample2_diabetes',1,0])\n",
    "# scored['sample1_diabetes']=np.where(scored['sample1_Pathology_McPAS_list'].str.contains('DiabetesType1'),1,0)\n",
    "scored.head()"
   ]
  },
  {
   "cell_type": "code",
   "execution_count": null,
   "metadata": {
    "ExecuteTime": {
     "end_time": "2018-05-06T11:40:15.083281Z",
     "start_time": "2018-05-06T11:40:15.078877Z"
    }
   },
   "outputs": [],
   "source": [
    "True+False"
   ]
  },
  {
   "cell_type": "code",
   "execution_count": null,
   "metadata": {
    "ExecuteTime": {
     "end_time": "2018-05-06T10:59:56.107745Z",
     "start_time": "2018-05-06T10:59:56.103260Z"
    }
   },
   "outputs": [],
   "source": [
    "#define all pathologies in the list:\n",
    "pathologies1=scored['sample1_Pathology_McPAS_list'].tolist()\n",
    "pathologies2=scored['sample2_Pathology_McPAS_list'].tolist()\n",
    "pathologies=pathologies1+pathologies2\n"
   ]
  },
  {
   "cell_type": "code",
   "execution_count": null,
   "metadata": {
    "ExecuteTime": {
     "end_time": "2018-05-06T11:00:07.464381Z",
     "start_time": "2018-05-06T11:00:07.450674Z"
    }
   },
   "outputs": [],
   "source": [
    "#generate a list of unique pathologies:\n",
    "patholgies_flatten=[]\n",
    "for a in pathologies:\n",
    "    for b in a:\n",
    "        patholgies_flatten.append(b)\n",
    "uniquePathologies=np.unique(patholgies_flatten)\n",
    "print len(uniquePathologies)"
   ]
  },
  {
   "cell_type": "code",
   "execution_count": null,
   "metadata": {
    "ExecuteTime": {
     "end_time": "2018-05-06T11:28:49.254134Z",
     "start_time": "2018-05-06T11:28:48.856757Z"
    }
   },
   "outputs": [],
   "source": [
    "for pathology in uniquePathologies:\n",
    "    print pathology\n",
    "    scored['sample1_%s' %pathology]=scored['sample1_Pathology_McPAS_list'].apply(lambda x: pathology in x)\n",
    "    scored['sample2_%s' %pathology]=scored['sample2_Pathology_McPAS_list'].apply(lambda x: pathology in x)\n",
    "    scored['combined_%s' %pathology]=scored.apply(lambda x: x['sample1_Pathology_McPAS_list']\\\n",
    "                                                  and x['sample2_Pathology_McPAS_list'])\n",
    "scored.head(20)\n",
    "    "
   ]
  },
  {
   "cell_type": "code",
   "execution_count": null,
   "metadata": {},
   "outputs": [],
   "source": []
  },
  {
   "cell_type": "code",
   "execution_count": null,
   "metadata": {},
   "outputs": [],
   "source": []
  },
  {
   "cell_type": "code",
   "execution_count": null,
   "metadata": {
    "ExecuteTime": {
     "end_time": "2018-05-06T10:53:10.301858Z",
     "start_time": "2018-05-06T10:53:10.298607Z"
    }
   },
   "outputs": [],
   "source": [
    "l=scored['sample2_Pathology_McPAS_list'].tolist()"
   ]
  },
  {
   "cell_type": "code",
   "execution_count": null,
   "metadata": {
    "ExecuteTime": {
     "end_time": "2018-05-06T10:53:21.593121Z",
     "start_time": "2018-05-06T10:53:21.584195Z"
    }
   },
   "outputs": [],
   "source": [
    "l2=[]\n",
    "for a in l:\n",
    "    for b in a:\n",
    "        l2.append(b)\n",
    "l2[:20]"
   ]
  },
  {
   "cell_type": "code",
   "execution_count": null,
   "metadata": {
    "ExecuteTime": {
     "end_time": "2018-05-06T10:53:32.613747Z",
     "start_time": "2018-05-06T10:53:32.606578Z"
    }
   },
   "outputs": [],
   "source": [
    "l3=np.unique(l2)\n",
    "l3"
   ]
  },
  {
   "cell_type": "code",
   "execution_count": null,
   "metadata": {
    "ExecuteTime": {
     "end_time": "2018-05-06T10:53:43.668162Z",
     "start_time": "2018-05-06T10:53:43.664543Z"
    }
   },
   "outputs": [],
   "source": [
    "print len(l3)"
   ]
  },
  {
   "cell_type": "code",
   "execution_count": null,
   "metadata": {},
   "outputs": [],
   "source": []
  }
 ],
 "metadata": {
  "kernelspec": {
   "display_name": "Python 2",
   "language": "python",
   "name": "python2"
  },
  "language_info": {
   "codemirror_mode": {
    "name": "ipython",
    "version": 2
   },
   "file_extension": ".py",
   "mimetype": "text/x-python",
   "name": "python",
   "nbconvert_exporter": "python",
   "pygments_lexer": "ipython2",
   "version": "2.7.8"
  },
  "toc": {
   "nav_menu": {},
   "number_sections": true,
   "sideBar": true,
   "skip_h1_title": false,
   "toc_cell": false,
   "toc_position": {
    "height": "573px",
    "left": "0px",
    "right": "1862.01px",
    "top": "134px",
    "width": "271px"
   },
   "toc_section_display": "block",
   "toc_window_display": true
  },
  "varInspector": {
   "cols": {
    "lenName": 16,
    "lenType": 16,
    "lenVar": 40
   },
   "kernels_config": {
    "python": {
     "delete_cmd_postfix": "",
     "delete_cmd_prefix": "del ",
     "library": "var_list.py",
     "varRefreshCmd": "print(var_dic_list())"
    },
    "r": {
     "delete_cmd_postfix": ") ",
     "delete_cmd_prefix": "rm(",
     "library": "var_list.r",
     "varRefreshCmd": "cat(var_dic_list()) "
    }
   },
   "types_to_exclude": [
    "module",
    "function",
    "builtin_function_or_method",
    "instance",
    "_Feature"
   ],
   "window_display": false
  }
 },
 "nbformat": 4,
 "nbformat_minor": 2
}
