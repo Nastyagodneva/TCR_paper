{
 "cells": [
  {
   "cell_type": "markdown",
   "metadata": {},
   "source": [
    "# imports:"
   ]
  },
  {
   "cell_type": "code",
   "execution_count": 1,
   "metadata": {
    "ExecuteTime": {
     "end_time": "2019-02-21T09:51:12.117949Z",
     "start_time": "2019-02-21T09:51:09.086122Z"
    }
   },
   "outputs": [
    {
     "name": "stdout",
     "output_type": "stream",
     "text": [
      "done1\n",
      "stop\n",
      "stop\n",
      "done1\n",
      "stop\n",
      "done\n",
      "done\n",
      "done\n",
      "done\n",
      "stop\n",
      "stop\n",
      "end of function!!!\n",
      "end of function!!!\n"
     ]
    }
   ],
   "source": [
    "from os import listdir,mkdir,makedirs\n",
    "from os.path import isfile, join, isdir,exists\n",
    "import pandas as pd\n",
    "import numpy as np\n",
    "from scipy import stats\n",
    "import re\n",
    "import matplotlib.pyplot as plt\n",
    "from matplotlib.backends.backend_pdf import PdfPages\n",
    "from myplots import roundup, rounddown, find_decimal_fold, percentile_cut_off, rarefaction_calc, rarefaction_plot,draw_correlation_scatter\n",
    "from matplotlib.ticker import FormatStrFormatter\n",
    "import cPickle as pickle\n",
    "from Bio.SeqUtils import GC\n",
    "import seaborn as sns\n",
    "import random\n",
    "from scipy.stats import pearsonr,fisher_exact,mannwhitneyu\n",
    "from skbio.diversity.alpha import shannon, simpson, berger_parker_d\n",
    "\n",
    "from pop_organize import get_sample_data, get_sample_with_dfs\n",
    "from SufficientStatistics import *\n",
    "from MyFunctionsShani import *\n",
    "import math\n",
    "from myplots import roundup, rounddown, find_decimal_fold, adjusted_roundup\n",
    "from skbio.stats.distance import mantel\n",
    "from scipy.spatial.distance import braycurtis, pdist, euclidean\n",
    "\n",
    "\n",
    "from GeneralFeaturePhenotypeInteractions.Feature_phenotype_functions import * \n",
    "from TCR_microbiome_interactions.TCR_microbiome_interactions_functions import *\n",
    "from TCR_microbiome_interactions.TCR_microbiome_interactions_functions2 import *\n",
    "from SampleLists.SampleFileFunctions import *\n",
    "from PhenotypicData.PhenotypeGenerationFunctions import *\n",
    "from CardioProject.CardioFunctions import *\n",
    "from PredictionPipeline.PredictionFunctions import *\n",
    "from TCR_feature_generation.SubsamplingFunctions import *\n",
    "\n",
    "import os\n",
    "from Utils import cacheOnDisk, Load\n",
    "from queue.qp import qp,fakeqp\n",
    "from addloglevels import sethandlers\n",
    "\n",
    "#ML imports:\n",
    "from xgboost import XGBClassifier\n",
    "import lightgbm as lgb\n",
    "from collections import OrderedDict\n",
    "from sklearn.model_selection import GroupKFold,StratifiedKFold, KFold\n",
    "import statsmodels.formula.api as sm\n",
    "from sklearn.linear_model import LogisticRegression, LinearRegression\n",
    "import shap\n",
    "from sklearn import metrics, preprocessing\n",
    "from sklearn.svm import LinearSVC\n",
    "from sklearn.feature_selection import SelectFromModel,SelectKBest,chi2,mutual_info_classif,f_classif\n",
    "from sklearn.naive_bayes import GaussianNB\n",
    "from sklearn.metrics import *\n",
    "\n",
    "MyPath='/net/mraid08/export/genie/Lab/Personal/ShaniBAF'\n",
    "\n",
    "with open('/net/mraid08/export/genie/Lab/Personal/ShaniBAF/Sample files/BD lists/PNP530','rb') as fp:\n",
    "    PNP530=pickle.load(fp)\n",
    "with open('/net/mraid08/export/genie/Lab/Personal/ShaniBAF/Sample files/BD lists/Cardio126','rb') as fp:\n",
    "    Cardio126=pickle.load(fp)\n",
    "PNP530Cardio126=PNP530+Cardio126\n",
    "\n",
    "pd.set_option('display.expand_frame_repr', False)\n"
   ]
  },
  {
   "cell_type": "code",
   "execution_count": 2,
   "metadata": {
    "ExecuteTime": {
     "end_time": "2019-02-21T09:51:12.128800Z",
     "start_time": "2019-02-21T09:51:12.120744Z"
    }
   },
   "outputs": [
    {
     "data": {
      "text/plain": [
       "'21022019'"
      ]
     },
     "execution_count": 2,
     "metadata": {},
     "output_type": "execute_result"
    }
   ],
   "source": [
    "import time\n",
    "cdate=str(time.strftime(\"%d%m%Y\"))\n",
    "cdate"
   ]
  },
  {
   "cell_type": "code",
   "execution_count": 3,
   "metadata": {
    "ExecuteTime": {
     "end_time": "2019-02-21T09:51:23.657952Z",
     "start_time": "2019-02-21T09:51:12.506996Z"
    }
   },
   "outputs": [
    {
     "name": "stderr",
     "output_type": "stream",
     "text": [
      "/usr/wisdom/python/lib/python2.7/site-packages/h5py/__init__.py:36: FutureWarning: Conversion of the second argument of issubdtype from `float` to `np.floating` is deprecated. In future, it will be treated as `np.float64 == np.dtype(float).type`.\n",
      "  from ._conv import register_converters as _register_converters\n"
     ]
    }
   ],
   "source": [
    "from DNN.dnn_utils import PCA as PCA_DNN\n"
   ]
  },
  {
   "cell_type": "markdown",
   "metadata": {},
   "source": [
    "# define functions:"
   ]
  },
  {
   "cell_type": "code",
   "execution_count": null,
   "metadata": {
    "ExecuteTime": {
     "end_time": "2019-01-20T15:15:01.808813Z",
     "start_time": "2019-01-20T15:15:01.794128Z"
    }
   },
   "outputs": [],
   "source": [
    "def newPCA(df,n_comp,isSparse=True):\n",
    "    from sklearn.decomposition import PCA\n",
    "    from sklearn.decomposition import TruncatedSVD\n",
    "    print 'df shape is %s_%s' %(df.shape[0],df.shape[1])\n",
    "    if isSparse:\n",
    "        pca= TruncatedSVD(n_comp, random_state=42)\n",
    "    else:\n",
    "        pca = PCA(n_comp)\n",
    "    pca.fit(df.T)\n",
    "    print 'PCA explained variance:'\n",
    "    expVar=(pca.explained_variance_)[:10]\n",
    "    print expVar\n",
    "    PCAdf=pd.DataFrame(pca.components_).T\n",
    "    PCAdf.index=df.index\n",
    "    \n",
    "    for column in PCAdf.columns:\n",
    "        PCAdf=PCAdf.rename(columns={column:'PC'+str(column+1)})\n",
    "    PCAdf['BDindex']=PCAdf.index.str.replace('BD','').astype(int)\n",
    "    \n",
    "    return PCAdf,expVar"
   ]
  },
  {
   "cell_type": "code",
   "execution_count": null,
   "metadata": {},
   "outputs": [],
   "source": []
  },
  {
   "cell_type": "code",
   "execution_count": null,
   "metadata": {
    "ExecuteTime": {
     "end_time": "2019-01-20T15:49:53.059886Z",
     "start_time": "2019-01-20T15:49:52.952776Z"
    }
   },
   "outputs": [],
   "source": [
    "def PCAwrapper(ax,df,n_comp,associatedVariableDF, associatedVariableName,isSparse=True,\n",
    "              scatter_kws={'s':100,'alpha':0.5},cmap=None,PCAdf=None):\n",
    "    if PCAdf is None:\n",
    "        print 'calculating PCA...'\n",
    "        PCAdf,expVar=newPCA(df,n_comp,isSparse=isSparse)\n",
    "    else:\n",
    "        print 'using existing PCAdf'\n",
    "        expVar=[]\n",
    "    vmax=associatedVariableDF[associatedVariableName].max()\n",
    "    vmin=associatedVariableDF[associatedVariableName].min()     \n",
    "    merged=pd.merge(PCAdf,pd.DataFrame(associatedVariableDF[associatedVariableName]),how='left',left_index=True,right_index=True)\n",
    "    \n",
    "    if associatedVariableDF[associatedVariableName].nunique()<2:\n",
    "        print 'not enough values to color'\n",
    "    elif associatedVariableDF[associatedVariableName].nunique()==2:\n",
    "        pearson_results=np.nan\n",
    "        varType='Binary'\n",
    "        print 'var is binary'\n",
    "        \n",
    "        merged['color']=np.where(merged[associatedVariableName]==merged[associatedVariableName].unique()[0],'white',\n",
    "                                np.where(merged[associatedVariableName]==merged[associatedVariableName].unique()[1],'black','grey'))\n",
    "        \n",
    "        x=merged.iloc[:,0] \n",
    "        y=merged.iloc[:,1] \n",
    "        \n",
    "        print 'plotting and calculating MW test...'\n",
    "#         ax.scatter(x,y,c=merged['color'],**scatter_kws)\n",
    "        ax.scatter(x,y,c=merged[associatedVariableName],cmap=cmap,**scatter_kws)  \n",
    "        \n",
    "        MW_results=[]\n",
    "        for col in merged.columns.tolist()[:2]:\n",
    "            names=[]; data={}\n",
    "            for name, group in merged.groupby(associatedVariableName):\n",
    "                data[name] =  list(group[col])\n",
    "                names.append(name)\n",
    "            s_mw,p_mw=stats.mannwhitneyu(data[names[0]], data[names[1]])\n",
    "            MW_results.append(tuple([col,s_mw,p_mw]))\n",
    "                \n",
    "    else:\n",
    "        MW_results=np.nan\n",
    "        varType='cont'                      \n",
    "        if cmap is None:\n",
    "            cmap=plt.get_cmap('Reds', (vmax-vmin)+1)\n",
    "        print 'vat is continuous'\n",
    "        x=merged.iloc[:,0] \n",
    "        y=merged.iloc[:,1] \n",
    "        print 'plotting and calculating pearson test...'\n",
    "        ax.scatter(x,y,c=merged[associatedVariableName],cmap=cmap,**scatter_kws)  \n",
    "        pearson_results=[]\n",
    "        for col in merged.columns.tolist()[:2]:\n",
    "            names=[]\n",
    "            r,p=MyPearsonr(merged[col],merged[associatedVariableName])\n",
    "            pearson_results.append(tuple([col,r,p]))\n",
    "    \n",
    "    return fig,ax, PCAdf,expVar,pearson_results,MW_results\n",
    "    "
   ]
  },
  {
   "cell_type": "code",
   "execution_count": null,
   "metadata": {
    "ExecuteTime": {
     "end_time": "2019-01-20T15:15:02.392962Z",
     "start_time": "2019-01-20T15:15:02.251064Z"
    }
   },
   "outputs": [],
   "source": [
    "## phen1 - categorial, such as isCardio, admission diagnosis\n",
    "## phen2 - categorial/continuous\n",
    "## phen3 - binary\n",
    "\n",
    "def colorPCA(ax,PCAdf,phen1DF,phen1name,phen2DF,phen2name,phen3DF,phen3name,cmap_names_list=None,marker_type_list=None,\n",
    "              scatter_kws={'s':100,'alpha':0.5}):\n",
    "    if cmap_names_list is None:\n",
    "        cmap_names_list=['Greys','Reds','Blues','Greens','Oranges']\n",
    "    if marker_type_list is None:\n",
    "        marker_type_list=[u'o',u'D',u'S',u'P',u'v',u'x']\n",
    "        \n",
    "    ###definitions:\n",
    "    pearson_results=[]\n",
    "    MW_results=[]\n",
    "    print 'merging info...'\n",
    "    merged=pd.merge(PCAdf,pd.DataFrame(phen1DF[phen1name]),how='left',left_index=True,right_index=True)\n",
    "    merged=pd.merge(merged,pd.DataFrame(phen2DF[phen2name]),how='left',left_index=True,right_index=True)\n",
    "    merged=pd.merge(merged,pd.DataFrame(phen3DF[phen3name]),how='left',left_index=True,right_index=True)\n",
    "       \n",
    "    marker_type_df=pd.DataFrame(index=phen3DF[phen3name].unique(),columns=['marker_type'],data=marker_type_list[:len(phen3DF[phen3name].unique())])\n",
    "    merged=pd.merge(merged,marker_type_df,how='left',left_on=phen3name,right_index=True)\n",
    "    \n",
    "    vmax=phen2DF[phen2name].max()\n",
    "    vmin=phen2DF[phen2name].min()\n",
    "    print ('vmin-vmax:', vmin, vmax)\n",
    "    \n",
    "    count=0\n",
    "    for name1,group1 in merged.groupby(phen1name):\n",
    "        cmap_name=cmap_names_list[count]\n",
    "        print ('cmap_name:',cmap_name)\n",
    "        cmap=plt.get_cmap(cmap_name, (vmax-vmin)+1)\n",
    "        \n",
    "        count3=0\n",
    "        for name3,group3 in merged.groupby(phen3name):\n",
    "            x=group3.iloc[:,0]\n",
    "            y=group3.iloc[:,1]\n",
    "            marker=marker_type_list[count3]\n",
    "            print ('marker=',marker)\n",
    "            ax=ax.scatter(x,y,c=group3[phen2name],cmap=cmap,marker=marker,**scatter_kws)  \n",
    "            count3=count3+1\n",
    "            \n",
    "            plt.show()\n",
    "        count=count+1\n",
    "    \n",
    "#     print 'merged head:'\n",
    "#     print merged.head()\n",
    "#     print ('merged.shape: ', merged.shape)\n",
    "    \n",
    "#     #define min,max values for cmap hues based on phen2\n",
    "    \n",
    "    \n",
    "#     # define number of different cmaps based on number of categories in phen1\n",
    "#     groups=phen1DF[phen1name].unique().tolist()\n",
    "    \n",
    "    \n",
    "#     ### loop over categories of phen1:\n",
    "#     print 'plotting scatter plots for all data groups:'\n",
    "#     for n,group in enumerate(groups):\n",
    "#         print group\n",
    "#         cmap_name=cmap_names_list[n]\n",
    "#         print ('cmap_name:',cmap_name)\n",
    "#         cmap=plt.get_cmap(cmap_name, (vmax-vmin)+1)\n",
    "#         print cmap\n",
    "        \n",
    "#         x=merged[merged[phen1name]==group].iloc[:,0] \n",
    "#         y=merged[merged[phen1name]==group].iloc[:,1] \n",
    "#         ax.scatter(x,y,c=merged[phen2name],cmap=cmap,**scatter_kws) \n",
    "#         ax.scatter(x,y,c=merged[associatedVariableName],cmap=cmap,**scatter_kws)  \n",
    "# #         for _s, c,l, _x, _y in zip(merged['marker_type'],merged[phen2name],merged[phen3name],x, y):\n",
    "# #             plt.scatter(_x, _y, marker=_s, c=c,cmap=cmap,label=l,**scatter_kws)\n",
    "#         ax.legend()\n",
    "        \n",
    "# #         if merged[phen2name].nunique()==2:\n",
    "# #             print 'var2 is binary'\n",
    "# #             for col in merged.columns.tolist()[:2]:\n",
    "# #                 names=[]; data={}\n",
    "# #                 for name, group in merged.groupby(phen2name):\n",
    "# #                     data[name] =  list(group[col])\n",
    "# #                     names.append(name)\n",
    "# #                 s_mw,p_mw=stats.mannwhitneyu(data[names[0]], data[names[1]])\n",
    "# #                 MW_results.append(tuple([col,s_mw,p_mw]))\n",
    "                \n",
    "                \n",
    "# #         else:\n",
    "# #             print 'var2 is cont'\n",
    "# #             for col in merged.columns.tolist()[:2]:\n",
    "# #                 names=[]\n",
    "# #                 r,p=MyPearsonr(merged[col],merged[associatedVariableName])\n",
    "# #                 pearson_results.append(tuple([col,r,p]))\n",
    "                \n",
    "    return fig,ax,MW_results,pearson_results\n",
    "                \n",
    "        \n",
    "            \n",
    "        \n",
    "        \n",
    "        \n",
    "    \n",
    "    \n",
    "    "
   ]
  },
  {
   "cell_type": "markdown",
   "metadata": {},
   "source": [
    "# calculate PCA"
   ]
  },
  {
   "cell_type": "markdown",
   "metadata": {},
   "source": [
    "## get cluster df"
   ]
  },
  {
   "cell_type": "code",
   "execution_count": null,
   "metadata": {
    "ExecuteTime": {
     "end_time": "2019-01-20T15:15:04.273755Z",
     "start_time": "2019-01-20T15:15:02.589683Z"
    }
   },
   "outputs": [],
   "source": [
    "sampleByClusterDF=pd.read_pickle('/net/mraid08/export/jafar/Microbiome/Analyses/ShaniBAF/\\\n",
    "sharingAnalysis/seqClusters_allProd_maxdist1/sampleByClusterDF_cohortfiltering005-09perc_dropped.dat')"
   ]
  },
  {
   "cell_type": "code",
   "execution_count": null,
   "metadata": {
    "ExecuteTime": {
     "end_time": "2019-01-20T09:15:07.090392Z",
     "start_time": "2019-01-20T09:15:07.084532Z"
    }
   },
   "outputs": [],
   "source": [
    "sampleByClusterDF.shape"
   ]
  },
  {
   "cell_type": "code",
   "execution_count": null,
   "metadata": {
    "ExecuteTime": {
     "end_time": "2019-01-20T09:21:28.904866Z",
     "start_time": "2019-01-20T09:21:19.697725Z"
    }
   },
   "outputs": [],
   "source": [
    "sampleByClusterDF.max().max()"
   ]
  },
  {
   "cell_type": "code",
   "execution_count": null,
   "metadata": {
    "ExecuteTime": {
     "end_time": "2019-01-20T15:19:03.900832Z",
     "start_time": "2019-01-20T15:19:02.150281Z"
    }
   },
   "outputs": [],
   "source": [
    "sampleByClusterDF=sampleByClusterDF.fillna(0)"
   ]
  },
  {
   "cell_type": "markdown",
   "metadata": {},
   "source": [
    "## binarize sampleByClusterDF and save"
   ]
  },
  {
   "cell_type": "code",
   "execution_count": null,
   "metadata": {
    "ExecuteTime": {
     "end_time": "2019-01-20T15:15:55.679681Z",
     "start_time": "2019-01-20T15:15:54.075887Z"
    }
   },
   "outputs": [],
   "source": [
    "sampleByClusterDF_binary=(sampleByClusterDF>0).astype(int)"
   ]
  },
  {
   "cell_type": "code",
   "execution_count": null,
   "metadata": {
    "ExecuteTime": {
     "end_time": "2019-01-20T15:16:51.268529Z",
     "start_time": "2019-01-20T15:16:51.209666Z"
    }
   },
   "outputs": [],
   "source": [
    "sampleByClusterDF_binary.head()"
   ]
  },
  {
   "cell_type": "code",
   "execution_count": null,
   "metadata": {
    "ExecuteTime": {
     "end_time": "2019-01-20T15:17:12.814839Z",
     "start_time": "2019-01-20T15:17:06.432170Z"
    }
   },
   "outputs": [],
   "source": [
    "sampleByClusterDF_binary.max().max()"
   ]
  },
  {
   "cell_type": "code",
   "execution_count": null,
   "metadata": {
    "ExecuteTime": {
     "end_time": "2019-01-20T15:17:30.123826Z",
     "start_time": "2019-01-20T15:17:28.010291Z"
    }
   },
   "outputs": [],
   "source": [
    "sampleByClusterDF_binary.to_pickle('/net/mraid08/export/jafar/Microbiome/Analyses/ShaniBAF/\\\n",
    "sharingAnalysis/seqClusters_allProd_maxdist1/sampleByClusterDF_005-09_dropped_binary.dat')"
   ]
  },
  {
   "cell_type": "markdown",
   "metadata": {},
   "source": [
    "## get phenotype dfs:"
   ]
  },
  {
   "cell_type": "code",
   "execution_count": null,
   "metadata": {
    "ExecuteTime": {
     "end_time": "2019-01-20T15:17:41.175816Z",
     "start_time": "2019-01-20T15:17:40.486162Z"
    }
   },
   "outputs": [],
   "source": [
    "# GET PHENOTYPES:\n",
    "phenDF=pd.read_excel('%s/TCR_real_data/PNP530Cardio126Combined/Phenotypes/PNP530Cardio126_AllInfo_withDummies.xlsx' %MyPath).set_index('BD')\n",
    "phenDF.head()                                                                                                                                "
   ]
  },
  {
   "cell_type": "code",
   "execution_count": null,
   "metadata": {
    "ExecuteTime": {
     "end_time": "2019-01-20T15:17:57.261123Z",
     "start_time": "2019-01-20T15:17:57.246052Z"
    }
   },
   "outputs": [],
   "source": [
    "# get isCardio:\n",
    "isCardio=pd.read_pickle('%s/TCR_real_data/CardioSamples/phenotypicData/isCardio.dat' %MyPath)\n",
    "isCardio.head()"
   ]
  },
  {
   "cell_type": "markdown",
   "metadata": {},
   "source": [
    "## plot PCA using continuous df"
   ]
  },
  {
   "cell_type": "code",
   "execution_count": null,
   "metadata": {
    "ExecuteTime": {
     "end_time": "2019-01-20T15:21:11.870535Z",
     "start_time": "2019-01-20T15:20:54.614010Z"
    }
   },
   "outputs": [],
   "source": [
    "df=sampleByClusterDF\n",
    "n_comp=10\n",
    "\n",
    "PCAdf_all,expVar=newPCA(df,n_comp,isSparse=True)"
   ]
  },
  {
   "cell_type": "markdown",
   "metadata": {},
   "source": [
    "### only healthy:"
   ]
  },
  {
   "cell_type": "code",
   "execution_count": null,
   "metadata": {
    "ExecuteTime": {
     "end_time": "2019-01-20T15:30:09.394808Z",
     "start_time": "2019-01-20T15:30:08.022330Z"
    }
   },
   "outputs": [],
   "source": [
    "associatedVariableName='Age'\n",
    "vmax=phenDF[associatedVariableName].max()\n",
    "vmin=phenDF[associatedVariableName].min()\n",
    "\n",
    "\n",
    "fig,ax=plt.subplots()\n",
    "df=sampleByClusterDF.loc[PNP530,:]\n",
    "n_comp=10\n",
    "PCAdf=PCAdf_all.loc[PNP530,:]\n",
    "cmap=plt.get_cmap('Greys', (vmax-vmin)+1)\n",
    "\n",
    "\n",
    "fig,ax, PCAdf,expVar,pearson_results,MW_results=PCAwrapper(ax,df,n_comp,associatedVariableDF, associatedVariableName,isSparse=True,\n",
    "              scatter_kws={'s':100,'alpha':1},cmap=cmap,PCAdf=PCAdf)\n",
    "\n",
    "print ('controls only:')\n",
    "print ('pearson results:',pearson_results)\n",
    "print ('MW_results:',MW_results)\n",
    "\n",
    "ax.set_xlim(0,0.12)\n",
    "ax.set_ylim(-0.2,0.2)\n",
    "\n",
    "plt.show()"
   ]
  },
  {
   "cell_type": "markdown",
   "metadata": {},
   "source": [
    "### only patients:"
   ]
  },
  {
   "cell_type": "code",
   "execution_count": null,
   "metadata": {
    "ExecuteTime": {
     "end_time": "2019-01-20T15:31:22.642689Z",
     "start_time": "2019-01-20T15:31:20.740227Z"
    }
   },
   "outputs": [],
   "source": [
    "associatedVariableName='Age'\n",
    "vmax=phenDF[associatedVariableName].max()\n",
    "vmin=phenDF[associatedVariableName].min()\n",
    "\n",
    "\n",
    "fig,ax=plt.subplots()\n",
    "df=sampleByClusterDF.loc[Cardio126,:]\n",
    "n_comp=10\n",
    "PCAdf=PCAdf_all.loc[Cardio126,:]\n",
    "cmap=plt.get_cmap('Reds', (vmax-vmin)+1)\n",
    "\n",
    "\n",
    "fig,ax, PCAdf,expVar,pearson_results,MW_results=PCAwrapper(ax,df,n_comp,associatedVariableDF, associatedVariableName,isSparse=True,\n",
    "              scatter_kws={'s':100,'alpha':1},cmap=cmap,PCAdf=PCAdf)\n",
    "\n",
    "print ('controls only:')\n",
    "print ('pearson results:',pearson_results)\n",
    "print ('MW_results:',MW_results)\n",
    "\n",
    "ax.set_xlim(0,0.12)\n",
    "ax.set_ylim(-0.2,0.2)\n",
    "\n",
    "plt.show()"
   ]
  },
  {
   "cell_type": "markdown",
   "metadata": {},
   "source": [
    "### combined:"
   ]
  },
  {
   "cell_type": "code",
   "execution_count": null,
   "metadata": {
    "ExecuteTime": {
     "end_time": "2019-01-20T15:32:31.022680Z",
     "start_time": "2019-01-20T15:32:28.057808Z"
    }
   },
   "outputs": [],
   "source": [
    "associatedVariableName='Age'\n",
    "vmax=phenDF[associatedVariableName].max()\n",
    "vmin=phenDF[associatedVariableName].min()\n",
    "\n",
    "\n",
    "fig,ax=plt.subplots()\n",
    "df=sampleByClusterDF.loc[PNP530,:]\n",
    "n_comp=10\n",
    "PCAdf=PCAdf_all.loc[PNP530,:]\n",
    "cmap=plt.get_cmap('Greys', (vmax-vmin)+1)\n",
    "\n",
    "\n",
    "fig,ax, PCAdf,expVar,pearson_results,MW_results=PCAwrapper(ax,df,n_comp,associatedVariableDF, associatedVariableName,isSparse=True,\n",
    "              scatter_kws={'s':100,'alpha':1},cmap=cmap,PCAdf=PCAdf)\n",
    "\n",
    "print ('controls only:')\n",
    "print ('pearson results:',pearson_results)\n",
    "print ('MW_results:',MW_results)\n",
    "\n",
    "df=sampleByClusterDF.loc[Cardio126,:]\n",
    "n_comp=10\n",
    "PCAdf=PCAdf_all.loc[Cardio126,:]\n",
    "cmap=plt.get_cmap('Reds', (vmax-vmin)+1)\n",
    "\n",
    "\n",
    "fig,ax, PCAdf,expVar,pearson_results,MW_results=PCAwrapper(ax,df,n_comp,associatedVariableDF, associatedVariableName,isSparse=True,\n",
    "              scatter_kws={'s':100,'alpha':1},cmap=cmap,PCAdf=PCAdf)\n",
    "\n",
    "print ('patients only:')\n",
    "print ('pearson results:',pearson_results)\n",
    "print ('MW_results:',MW_results)\n",
    "\n",
    "\n",
    "\n",
    "ax.set_xlim(0,0.12)\n",
    "ax.set_ylim(-0.2,0.2)\n",
    "\n",
    "plt.show()"
   ]
  },
  {
   "cell_type": "markdown",
   "metadata": {},
   "source": [
    "## plot PCA using binary df"
   ]
  },
  {
   "cell_type": "code",
   "execution_count": null,
   "metadata": {
    "ExecuteTime": {
     "end_time": "2019-01-20T15:33:54.933737Z",
     "start_time": "2019-01-20T15:33:35.891688Z"
    }
   },
   "outputs": [],
   "source": [
    "df=sampleByClusterDF_binary\n",
    "n_comp=10\n",
    "\n",
    "PCAdf_all_binary,expVar=newPCA(df,n_comp,isSparse=True)"
   ]
  },
  {
   "cell_type": "markdown",
   "metadata": {},
   "source": [
    "### only healthy:"
   ]
  },
  {
   "cell_type": "code",
   "execution_count": null,
   "metadata": {
    "ExecuteTime": {
     "end_time": "2019-01-20T15:34:24.146525Z",
     "start_time": "2019-01-20T15:34:23.110468Z"
    }
   },
   "outputs": [],
   "source": [
    "associatedVariableName='Age'\n",
    "vmax=phenDF[associatedVariableName].max()\n",
    "vmin=phenDF[associatedVariableName].min()\n",
    "\n",
    "\n",
    "fig,ax=plt.subplots()\n",
    "df=sampleByClusterDF.loc[PNP530,:]\n",
    "n_comp=10\n",
    "PCAdf=PCAdf_all_binary.loc[PNP530,:]\n",
    "cmap=plt.get_cmap('Greys', (vmax-vmin)+1)\n",
    "\n",
    "\n",
    "fig,ax, PCAdf,expVar,pearson_results,MW_results=PCAwrapper(ax,df,n_comp,associatedVariableDF, associatedVariableName,isSparse=True,\n",
    "              scatter_kws={'s':100,'alpha':1},cmap=cmap,PCAdf=PCAdf)\n",
    "\n",
    "print ('controls only:')\n",
    "print ('pearson results:',pearson_results)\n",
    "print ('MW_results:',MW_results)\n",
    "\n",
    "ax.set_xlim(0,0.12)\n",
    "ax.set_ylim(-0.2,0.2)\n",
    "\n",
    "plt.show()"
   ]
  },
  {
   "cell_type": "markdown",
   "metadata": {},
   "source": [
    "### only patients:"
   ]
  },
  {
   "cell_type": "code",
   "execution_count": null,
   "metadata": {
    "ExecuteTime": {
     "end_time": "2019-01-20T15:35:31.347844Z",
     "start_time": "2019-01-20T15:35:29.115656Z"
    }
   },
   "outputs": [],
   "source": [
    "associatedVariableName='Age'\n",
    "vmax=phenDF[associatedVariableName].max()\n",
    "vmin=phenDF[associatedVariableName].min()\n",
    "\n",
    "\n",
    "fig,ax=plt.subplots()\n",
    "df=sampleByClusterDF.loc[Cardio126,:]\n",
    "n_comp=10\n",
    "PCAdf=PCAdf_all_binary.loc[Cardio126,:]\n",
    "cmap=plt.get_cmap('Reds', (vmax-vmin)+1)\n",
    "\n",
    "\n",
    "fig,ax, PCAdf,expVar,pearson_results,MW_results=PCAwrapper(ax,df,n_comp,associatedVariableDF, associatedVariableName,isSparse=True,\n",
    "              scatter_kws={'s':100,'alpha':1},cmap=cmap,PCAdf=PCAdf)\n",
    "\n",
    "print ('controls only:')\n",
    "print ('pearson results:',pearson_results)\n",
    "print ('MW_results:',MW_results)\n",
    "\n",
    "ax.set_xlim(0,0.12)\n",
    "ax.set_ylim(-0.2,0.2)\n",
    "\n",
    "plt.show()"
   ]
  },
  {
   "cell_type": "markdown",
   "metadata": {},
   "source": [
    "### combined:"
   ]
  },
  {
   "cell_type": "code",
   "execution_count": null,
   "metadata": {
    "ExecuteTime": {
     "end_time": "2019-01-20T15:36:39.300858Z",
     "start_time": "2019-01-20T15:36:36.378999Z"
    }
   },
   "outputs": [],
   "source": [
    "associatedVariableName='Age'\n",
    "vmax=phenDF[associatedVariableName].max()\n",
    "vmin=phenDF[associatedVariableName].min()\n",
    "\n",
    "\n",
    "fig,ax=plt.subplots()\n",
    "df=sampleByClusterDF.loc[PNP530,:]\n",
    "n_comp=10\n",
    "PCAdf=PCAdf_all_binary.loc[PNP530,:]\n",
    "cmap=plt.get_cmap('Greys', (vmax-vmin)+1)\n",
    "\n",
    "\n",
    "fig,ax, PCAdf,expVar,pearson_results,MW_results=PCAwrapper(ax,df,n_comp,associatedVariableDF, associatedVariableName,isSparse=True,\n",
    "              scatter_kws={'s':100,'alpha':1},cmap=cmap,PCAdf=PCAdf)\n",
    "\n",
    "print ('controls only:')\n",
    "print ('pearson results:',pearson_results)\n",
    "print ('MW_results:',MW_results)\n",
    "\n",
    "df=sampleByClusterDF.loc[Cardio126,:]\n",
    "n_comp=10\n",
    "PCAdf=PCAdf_all_binary.loc[Cardio126,:]\n",
    "cmap=plt.get_cmap('Reds', (vmax-vmin)+1)\n",
    "\n",
    "\n",
    "fig,ax, PCAdf,expVar,pearson_results,MW_results=PCAwrapper(ax,df,n_comp,associatedVariableDF, associatedVariableName,isSparse=True,\n",
    "              scatter_kws={'s':100,'alpha':1},cmap=cmap,PCAdf=PCAdf)\n",
    "\n",
    "print ('patients only:')\n",
    "print ('pearson results:',pearson_results)\n",
    "print ('MW_results:',MW_results)\n",
    "\n",
    "\n",
    "\n",
    "ax.set_xlim(0,0.12)\n",
    "ax.set_ylim(-0.2,0.2)\n",
    "\n",
    "plt.show()"
   ]
  },
  {
   "cell_type": "markdown",
   "metadata": {},
   "source": [
    "## everything together:"
   ]
  },
  {
   "cell_type": "code",
   "execution_count": null,
   "metadata": {
    "ExecuteTime": {
     "end_time": "2019-01-20T15:55:13.061283Z",
     "start_time": "2019-01-20T15:55:08.835134Z"
    }
   },
   "outputs": [],
   "source": [
    "fig,axes=plt.subplots(nrows=3,ncols=2, figsize=(12,12),sharey=True,sharex=True)\n",
    "df=sampleByClusterDF.loc[PNP530,:]\n",
    "n_comp=10\n",
    "\n",
    "for n,phen in enumerate(['Age','Gender_Male']):\n",
    "    print phen\n",
    "    associatedVariableName=phen\n",
    "    vmax=phenDF[associatedVariableName].max()\n",
    "    vmin=phenDF[associatedVariableName].min()\n",
    "\n",
    "    ax=axes[0,n]\n",
    "    PCAdf=PCAdf_all.loc[PNP530,:]\n",
    "    cmap=plt.get_cmap('Greys', (vmax-vmin)+1)\n",
    "    fig,ax, PCAdf,expVar,pearson_results,MW_results=PCAwrapper(ax,df,n_comp,associatedVariableDF, associatedVariableName,isSparse=True,\n",
    "                  scatter_kws={'s':100,'alpha':1},cmap=cmap,PCAdf=PCAdf)\n",
    "    ax.set_xlim(0,0.12)\n",
    "    ax.set_ylim(-0.2,0.2)\n",
    "    ax.set_title(phen, fontsize='xx-large')\n",
    "    if n==0:\n",
    "        ax.set_ylabel ('Controls only',fontsize='xx-large' )\n",
    "    \n",
    "    ax=axes[1,n]\n",
    "    PCAdf=PCAdf_all.loc[Cardio126,:]\n",
    "    cmap=plt.get_cmap('Reds', (vmax-vmin)+1)\n",
    "    fig,ax, PCAdf,expVar,pearson_results,MW_results=PCAwrapper(ax,df,n_comp,associatedVariableDF, associatedVariableName,isSparse=True,\n",
    "              scatter_kws={'s':100,'alpha':1},cmap=cmap,PCAdf=PCAdf)\n",
    "    ax.set_xlim(0,0.12)\n",
    "    ax.set_ylim(-0.2,0.2)\n",
    "    if n==0:\n",
    "        ax.set_ylabel ('Patients only',fontsize='xx-large' )\n",
    "    \n",
    "    ax=axes[2,n]\n",
    "    \n",
    "    PCAdf=PCAdf_all.loc[PNP530,:]\n",
    "    cmap=plt.get_cmap('Greys', (vmax-vmin)+1)\n",
    "    fig,ax, PCAdf,expVar,pearson_results,MW_results=PCAwrapper(ax,df,n_comp,associatedVariableDF, associatedVariableName,isSparse=True,\n",
    "                  scatter_kws={'s':100,'alpha':1},cmap=cmap,PCAdf=PCAdf)\n",
    "    print ('controls only:')\n",
    "    print ('pearson results:',pearson_results)\n",
    "    print ('MW_results:',MW_results)\n",
    "\n",
    "    df=sampleByClusterDF.loc[Cardio126,:]\n",
    "    n_comp=10\n",
    "    PCAdf=PCAdf_all.loc[Cardio126,:]\n",
    "    cmap=plt.get_cmap('Reds', (vmax-vmin)+1)\n",
    "    fig,ax, PCAdf,expVar,pearson_results,MW_results=PCAwrapper(ax,df,n_comp,associatedVariableDF, associatedVariableName,isSparse=True,\n",
    "                  scatter_kws={'s':100,'alpha':1},cmap=cmap,PCAdf=PCAdf)\n",
    "    print ('patients only:')\n",
    "    print ('pearson results:',pearson_results)\n",
    "    print ('MW_results:',MW_results)\n",
    "    ax.set_xlim(0,0.12)\n",
    "    ax.set_ylim(-0.2,0.2)\n",
    "    if n==0:\n",
    "        ax.set_ylabel ('Controls and\\npatients combined',fontsize='xx-large' )\n",
    "    \n",
    "    \n",
    "    \n",
    "plt.show()\n",
    "    \n",
    "    "
   ]
  },
  {
   "cell_type": "markdown",
   "metadata": {},
   "source": [
    "## everything together for balanced males:"
   ]
  },
  {
   "cell_type": "code",
   "execution_count": null,
   "metadata": {
    "ExecuteTime": {
     "end_time": "2019-01-20T16:32:23.951970Z",
     "start_time": "2019-01-20T16:32:23.943696Z"
    }
   },
   "outputs": [],
   "source": [
    "# get samples lists:\n",
    "with open('/net/mraid08/export/genie/Lab/Personal/ShaniBAF/Sample files/BD lists/PNP530_balancedAge_males') as fp:\n",
    "    PNP530_balancedAge_males=pickle.load(fp)\n",
    "with open('/net/mraid08/export/genie/Lab/Personal/ShaniBAF/Sample files/BD lists/Cardio126_balancedAge_males') as fp:\n",
    "    Cardio126_balancedAge_males=pickle.load(fp)"
   ]
  },
  {
   "cell_type": "code",
   "execution_count": null,
   "metadata": {
    "ExecuteTime": {
     "end_time": "2019-01-20T16:33:50.495733Z",
     "start_time": "2019-01-20T16:33:42.850724Z"
    }
   },
   "outputs": [],
   "source": [
    "sampleByClusterDF_balanced=sampleByClusterDF.loc[PNP530_balancedAge_males+Cardio126_balancedAge_males,:]\n",
    "\n",
    "df=sampleByClusterDF_balanced\n",
    "n_comp=10\n",
    "\n",
    "PCAdf_all_balanced,expVar=newPCA(df,n_comp,isSparse=True)"
   ]
  },
  {
   "cell_type": "code",
   "execution_count": null,
   "metadata": {
    "ExecuteTime": {
     "end_time": "2019-01-20T16:39:06.507472Z",
     "start_time": "2019-01-20T16:39:06.503733Z"
    }
   },
   "outputs": [],
   "source": [
    "associatedVariableDF=phenDF"
   ]
  },
  {
   "cell_type": "code",
   "execution_count": null,
   "metadata": {
    "ExecuteTime": {
     "end_time": "2019-01-20T16:39:50.347400Z",
     "start_time": "2019-01-20T16:39:50.291393Z"
    }
   },
   "outputs": [],
   "source": [
    "associatedVariableDF.head()"
   ]
  },
  {
   "cell_type": "code",
   "execution_count": null,
   "metadata": {
    "ExecuteTime": {
     "end_time": "2019-01-27T16:54:48.800165Z",
     "start_time": "2019-01-27T16:54:48.444597Z"
    }
   },
   "outputs": [],
   "source": [
    "fig,axes=plt.subplots(nrows=3,ncols=1, figsize=(4,10),sharey=True,sharex=True)\n",
    "fig.suptitle('Balanced age_gender samples',fontsize='xx-large')\n",
    "df=sampleByClusterDF_balanced\n",
    "n_comp=10\n",
    "\n",
    "associatedVariableDF=phenDF\n",
    "associatedVariableName='Age'\n",
    "\n",
    "\n",
    "print phen\n",
    "associatedVariableName=phen\n",
    "vmax=phenDF[associatedVariableName].max()\n",
    "vmin=phenDF[associatedVariableName].min()\n",
    "\n",
    "ax=axes[0]\n",
    "PCAdf=PCAdf_all_balanced.loc[PNP530_balancedAge_males,:]\n",
    "cmap=plt.get_cmap('Greys', (vmax-vmin)+1)\n",
    "fig,ax, PCAdf,expVar,pearson_results,MW_results=PCAwrapper(ax,df,n_comp,associatedVariableDF, associatedVariableName,isSparse=True,\n",
    "              scatter_kws={'s':100,'alpha':1},cmap=cmap,PCAdf=PCAdf)\n",
    "ax.set_xlim(0,0.2)\n",
    "ax.set_ylim(-0.12,0.12)\n",
    "#     ax.set_title(phen, fontsize='xx-large')\n",
    "if n==0:\n",
    "    ax.set_ylabel ('Controls only',fontsize='xx-large' )\n",
    "\n",
    "ax=axes[1]\n",
    "PCAdf=PCAdf_all_balanced.loc[Cardio126_balancedAge_males,:]\n",
    "cmap=plt.get_cmap('Reds', (vmax-vmin)+1)\n",
    "fig,ax, PCAdf,expVar,pearson_results,MW_results=PCAwrapper(ax,df,n_comp,associatedVariableDF, associatedVariableName,isSparse=True,\n",
    "          scatter_kws={'s':100,'alpha':0.5},cmap=cmap,PCAdf=PCAdf)\n",
    "ax.set_xlim(0,0.2)\n",
    "ax.set_ylim(-0.12,0.12)\n",
    "if n==0:\n",
    "    ax.set_ylabel ('Patients only',fontsize='xx-large' )\n",
    "\n",
    "ax=axes[2]\n",
    "\n",
    "PCAdf=PCAdf_all_balanced\n",
    "cmap=plt.get_cmap('Greys', (vmax-vmin)+1)\n",
    "fig,ax, PCAdf,expVar,pearson_results,MW_results=PCAwrapper(ax,df,n_comp,associatedVariableDF, associatedVariableName,isSparse=True,\n",
    "              scatter_kws={'s':100,'alpha':1},cmap=cmap,PCAdf=PCAdf)\n",
    "print ('controls only:')\n",
    "print ('pearson results:',pearson_results)\n",
    "print ('MW_results:',MW_results)\n",
    "\n",
    "df=sampleByClusterDF.loc[Cardio126_balancedAge_males,:]\n",
    "n_comp=10\n",
    "PCAdf=PCAdf_all_balanced.loc[Cardio126_balancedAge_males,:]\n",
    "cmap=plt.get_cmap('Reds', (vmax-vmin)+1)\n",
    "fig,ax, PCAdf,expVar,pearson_results,MW_results=PCAwrapper(ax,df,n_comp,associatedVariableDF, associatedVariableName,isSparse=True,\n",
    "              scatter_kws={'s':100,'alpha':0.5},cmap=cmap,PCAdf=PCAdf)\n",
    "print ('patients only:')\n",
    "print ('pearson results:',pearson_results)\n",
    "print ('MW_results:',MW_results)\n",
    "ax.set_xlim(0,0.2)\n",
    "ax.set_ylim(-0.12,0.12)\n",
    "if n==0:\n",
    "    ax.set_ylabel ('Controls and\\npatients combined',fontsize='xx-large' )\n",
    "    \n",
    "    \n",
    "    \n",
    "plt.show()\n",
    "    \n",
    "    "
   ]
  },
  {
   "cell_type": "code",
   "execution_count": null,
   "metadata": {
    "ExecuteTime": {
     "end_time": "2019-01-20T16:51:52.323222Z",
     "start_time": "2019-01-20T16:51:52.305783Z"
    }
   },
   "outputs": [],
   "source": [
    "associatedVariableDF.head()"
   ]
  },
  {
   "cell_type": "code",
   "execution_count": null,
   "metadata": {
    "ExecuteTime": {
     "end_time": "2019-01-20T16:56:04.468749Z",
     "start_time": "2019-01-20T16:56:04.235176Z"
    }
   },
   "outputs": [],
   "source": [
    "fig,ax=plt.subplots()\n",
    "fig.suptitle('')\n",
    "df=sampleByClusterDF_balanced\n",
    "n_comp=10\n",
    "\n",
    "associatedVariableDF=isCardio\n",
    "associatedVariableName='isCardio'\n",
    "\n",
    "vmax=associatedVariableDF[associatedVariableName].max()\n",
    "vmin=associatedVariableDF[associatedVariableName].min()\n",
    "\n",
    "\n",
    "PCAdf=PCAdf_all_balanced\n",
    "cmap=plt.get_cmap('Blues', (vmax-vmin)+1)\n",
    "fig,ax, PCAdf,expVar,pearson_results,MW_results=PCAwrapper(ax,df,n_comp,associatedVariableDF, associatedVariableName,isSparse=True,\n",
    "              scatter_kws={'s':100,'alpha':0.5},cmap=cmap,PCAdf=PCAdf)\n",
    "ax.set_xlim(0,0.2)\n",
    "ax.set_ylim(-0.12,0.12)\n",
    "print ('pearson results:',pearson_results)\n",
    "print ('MW_results:',MW_results)\n",
    "\n",
    "plt.show()\n",
    "\n",
    "    "
   ]
  },
  {
   "cell_type": "markdown",
   "metadata": {},
   "source": [
    "## everything together for non Prod sequences!"
   ]
  },
  {
   "cell_type": "code",
   "execution_count": null,
   "metadata": {
    "ExecuteTime": {
     "end_time": "2019-01-20T17:35:20.762691Z",
     "start_time": "2019-01-20T17:35:20.692617Z"
    }
   },
   "outputs": [],
   "source": [
    "#get df:\n",
    "sampleByClusterDF_nonProd=pd.read_pickle('/net/mraid08/export/jafar/Microbiome/Analyses/ShaniBAF/\\\n",
    "sharingAnalysis/seqClusters_allNonProd_maxdist1/sampleByClusterDF_cohortfiltering001-09perc_dropped.dat')\n",
    "sampleByClusterDF_nonProd.head()"
   ]
  },
  {
   "cell_type": "code",
   "execution_count": null,
   "metadata": {
    "ExecuteTime": {
     "end_time": "2019-01-20T17:35:24.885444Z",
     "start_time": "2019-01-20T17:35:24.861556Z"
    }
   },
   "outputs": [],
   "source": [
    "sampleByClusterDF_nonProd=sampleByClusterDF_nonProd.fillna(0)"
   ]
  },
  {
   "cell_type": "code",
   "execution_count": null,
   "metadata": {
    "ExecuteTime": {
     "end_time": "2019-01-20T17:35:29.543342Z",
     "start_time": "2019-01-20T17:35:29.444602Z"
    }
   },
   "outputs": [],
   "source": [
    "df=sampleByClusterDF_nonProd\n",
    "n_comp=10\n",
    "\n",
    "PCAdf_all_nonProd,expVar=newPCA(df,n_comp,isSparse=True)"
   ]
  },
  {
   "cell_type": "code",
   "execution_count": null,
   "metadata": {
    "ExecuteTime": {
     "end_time": "2019-01-20T17:35:36.426775Z",
     "start_time": "2019-01-20T17:35:35.070305Z"
    }
   },
   "outputs": [],
   "source": [
    "fig,axes=plt.subplots(nrows=3,ncols=2, figsize=(12,12),sharey=True,sharex=True)\n",
    "df=sampleByClusterDF_nonProd\n",
    "n_comp=10\n",
    "associatedVariableDF=phenDF\n",
    "\n",
    "\n",
    "for n,phen in enumerate(['Age','Gender_Male']):\n",
    "    print phen\n",
    "    associatedVariableName=phen\n",
    "    vmax=associatedVariableDF[associatedVariableName].max()\n",
    "    vmin=associatedVariableDF[associatedVariableName].min()\n",
    "\n",
    "    ax=axes[0,n]\n",
    "    PCAdf=PCAdf_all_nonProd.loc[PNP530,:]\n",
    "    cmap=plt.get_cmap('Greys', (vmax-vmin)+1)\n",
    "    fig,ax, PCAdf,expVar,pearson_results,MW_results=PCAwrapper(ax,df,n_comp,associatedVariableDF, associatedVariableName,isSparse=True,\n",
    "                  scatter_kws={'s':100,'alpha':1},cmap=cmap,PCAdf=PCAdf)\n",
    "#     ax.set_xlim(-0.05,0.20)\n",
    "#     ax.set_ylim(-0.2,0.2)\n",
    "    ax.set_title(phen, fontsize='xx-large')\n",
    "    if n==0:\n",
    "        ax.set_ylabel ('Controls only',fontsize='xx-large' )\n",
    "    \n",
    "    ax=axes[1,n]\n",
    "    PCAdf=PCAdf_all_nonProd.loc[Cardio126,:]\n",
    "    cmap=plt.get_cmap('Reds', (vmax-vmin)+1)\n",
    "    fig,ax, PCAdf,expVar,pearson_results,MW_results=PCAwrapper(ax,df,n_comp,associatedVariableDF, associatedVariableName,isSparse=True,\n",
    "              scatter_kws={'s':100,'alpha':1},cmap=cmap,PCAdf=PCAdf)\n",
    "#     ax.set_xlim(-0.05,0.20)\n",
    "#     ax.set_ylim(-0.2,0.2)\n",
    "    if n==0:\n",
    "        ax.set_ylabel ('Patients only',fontsize='xx-large' )\n",
    "    \n",
    "    ax=axes[2,n]\n",
    "    \n",
    "    PCAdf=PCAdf_all_nonProd.loc[PNP530,:]\n",
    "    cmap=plt.get_cmap('Greys', (vmax-vmin)+1)\n",
    "    fig,ax, PCAdf,expVar,pearson_results,MW_results=PCAwrapper(ax,df,n_comp,associatedVariableDF, associatedVariableName,isSparse=True,\n",
    "                  scatter_kws={'s':100,'alpha':1},cmap=cmap,PCAdf=PCAdf)\n",
    "    print ('controls only:')\n",
    "    print ('pearson results:',pearson_results)\n",
    "    print ('MW_results:',MW_results)\n",
    "\n",
    "    df=sampleByClusterDF_nonProd.loc[Cardio126,:]\n",
    "    n_comp=10\n",
    "    PCAdf=PCAdf_all_nonProd.loc[Cardio126,:]\n",
    "    cmap=plt.get_cmap('Reds', (vmax-vmin)+1)\n",
    "    fig,ax, PCAdf,expVar,pearson_results,MW_results=PCAwrapper(ax,df,n_comp,associatedVariableDF, associatedVariableName,isSparse=True,\n",
    "                  scatter_kws={'s':100,'alpha':1},cmap=cmap,PCAdf=PCAdf)\n",
    "    print ('patients only:')\n",
    "    print ('pearson results:',pearson_results)\n",
    "    print ('MW_results:',MW_results)\n",
    "#     ax.set_xlim(-0.05,0.20)\n",
    "#     ax.set_ylim(-0.2,0.2)\n",
    "    if n==0:\n",
    "        ax.set_ylabel ('Controls and\\npatients combined',fontsize='xx-large' )\n",
    "    \n",
    "    \n",
    "    \n",
    "plt.show()\n",
    "    \n",
    "    "
   ]
  },
  {
   "cell_type": "code",
   "execution_count": null,
   "metadata": {
    "ExecuteTime": {
     "end_time": "2019-01-20T17:36:31.670703Z",
     "start_time": "2019-01-20T17:36:31.374408Z"
    }
   },
   "outputs": [],
   "source": [
    "fig,ax=plt.subplots()\n",
    "fig.suptitle('')\n",
    "df=df=sampleByClusterDF_nonProd\n",
    "n_comp=10\n",
    "\n",
    "associatedVariableDF=isCardio\n",
    "associatedVariableName='isCardio'\n",
    "\n",
    "vmax=associatedVariableDF[associatedVariableName].max()\n",
    "vmin=associatedVariableDF[associatedVariableName].min()\n",
    "\n",
    "\n",
    "PCAdf=PCAdf_all_nonProd\n",
    "cmap=plt.get_cmap('Blues', (vmax-vmin)+1)\n",
    "fig,ax, PCAdf,expVar,pearson_results,MW_results=PCAwrapper(ax,df,n_comp,associatedVariableDF, associatedVariableName,isSparse=True,\n",
    "              scatter_kws={'s':100,'alpha':0.8},cmap=cmap,PCAdf=PCAdf)\n",
    "# ax.set_xlim(-0.05,0.2)\n",
    "# ax.set_ylim(-0.2,0.2)\n",
    "print ('pearson results:',pearson_results)\n",
    "print ('MW_results:',MW_results)\n",
    "\n",
    "plt.show()\n",
    "\n",
    "    "
   ]
  },
  {
   "cell_type": "markdown",
   "metadata": {},
   "source": [
    "## compare PCA for STEMI/NSTEMI/NA patients:"
   ]
  },
  {
   "cell_type": "code",
   "execution_count": null,
   "metadata": {
    "ExecuteTime": {
     "end_time": "2019-01-20T16:00:18.670466Z",
     "start_time": "2019-01-20T16:00:11.556683Z"
    }
   },
   "outputs": [],
   "source": [
    "df=sampleByClusterDF.loc[Cardio126,:]\n",
    "n_comp=10\n",
    "\n",
    "\n",
    "PCAdf_Cardio126,expVar=newPCA(df,n_comp,isSparse=True)"
   ]
  },
  {
   "cell_type": "code",
   "execution_count": null,
   "metadata": {
    "ExecuteTime": {
     "end_time": "2019-01-20T16:08:55.611641Z",
     "start_time": "2019-01-20T16:08:55.591883Z"
    }
   },
   "outputs": [],
   "source": [
    "#get admission digsnosis info:\n",
    "AD_df=pd.DataFrame(phenDF['Admission Diagnosis'].loc[Cardio126])\n",
    "AD_df['Admission Diagnosis Mapped']=np.where(AD_df['Admission Diagnosis']=='STEMI',0,np.where(AD_df['Admission Diagnosis']=='NSTEMI',1,2))\n",
    "AD_df.head()"
   ]
  },
  {
   "cell_type": "code",
   "execution_count": null,
   "metadata": {
    "ExecuteTime": {
     "end_time": "2019-01-20T16:09:21.982493Z",
     "start_time": "2019-01-20T16:09:19.947612Z"
    }
   },
   "outputs": [],
   "source": [
    "associatedVariableName='Admission Diagnosis Mapped'\n",
    "associatedVariableDF=AD_df\n",
    "vmax=AD_df[associatedVariableName].max()\n",
    "vmin=AD_df[associatedVariableName].min()\n",
    "\n",
    "\n",
    "fig,ax=plt.subplots()\n",
    "df=sampleByClusterDF.loc[Cardio126,:]\n",
    "n_comp=10\n",
    "PCAdf=PCAdf_all_binary.loc[Cardio126,:]\n",
    "cmap=plt.get_cmap('Reds', (vmax-vmin)+1)\n",
    "\n",
    "\n",
    "fig,ax, PCAdf,expVar,pearson_results,MW_results=PCAwrapper(ax,df,n_comp,associatedVariableDF, associatedVariableName,isSparse=True,\n",
    "              scatter_kws={'s':100,'alpha':1},cmap=cmap,PCAdf=PCAdf)\n",
    "\n",
    "print ('controls only:')\n",
    "print ('pearson results:',pearson_results)\n",
    "print ('MW_results:',MW_results)\n",
    "\n",
    "ax.set_xlim(0,0.12)\n",
    "ax.set_ylim(-0.2,0.2)\n",
    "\n",
    "plt.show()"
   ]
  },
  {
   "cell_type": "code",
   "execution_count": null,
   "metadata": {
    "ExecuteTime": {
     "end_time": "2019-01-20T17:32:19.048700Z",
     "start_time": "2019-01-20T17:32:18.396040Z"
    }
   },
   "outputs": [],
   "source": [
    "associatedVariableName='Admission Diagnosis Mapped'\n",
    "associatedVariableDF=AD_df\n",
    "vmax=AD_df[associatedVariableName].max()\n",
    "vmin=AD_df[associatedVariableName].min()\n",
    "\n",
    "\n",
    "fig,ax=plt.subplots()\n",
    "df=sampleByClusterDF.loc[Cardio126,:]\n",
    "n_comp=10\n",
    "PCAdf=PCAdf=PCAdf_all_nonProd.loc[Cardio126,:]\n",
    "cmap=plt.get_cmap('Reds', (vmax-vmin)+1)\n",
    "\n",
    "\n",
    "fig,ax, PCAdf,expVar,pearson_results,MW_results=PCAwrapper(ax,df,n_comp,associatedVariableDF, associatedVariableName,isSparse=True,\n",
    "              scatter_kws={'s':100,'alpha':1},cmap=cmap,PCAdf=PCAdf)\n",
    "\n",
    "print ('controls only:')\n",
    "print ('pearson results:',pearson_results)\n",
    "print ('MW_results:',MW_results)\n",
    "\n",
    "ax.set_xlim(-0.05,0.15)\n",
    "ax.set_ylim(-0.2,0.2)\n",
    "\n",
    "plt.show()"
   ]
  },
  {
   "cell_type": "markdown",
   "metadata": {},
   "source": [
    "# PCoA analysis"
   ]
  },
  {
   "cell_type": "markdown",
   "metadata": {},
   "source": [
    "## get sample By Cluster data"
   ]
  },
  {
   "cell_type": "code",
   "execution_count": 26,
   "metadata": {
    "ExecuteTime": {
     "end_time": "2019-02-24T08:41:37.952307Z",
     "start_time": "2019-02-24T08:39:02.103400Z"
    }
   },
   "outputs": [],
   "source": [
    "sampleByClusterDF=pd.read_pickle('/net/mraid08/export/jafar/Microbiome/Analyses/ShaniBAF/\\\n",
    "sharingAnalysis/seqClusters_allProd_maxdist1/sampleByClusterDF_cohortfiltering005-085perc_dropped.dat')"
   ]
  },
  {
   "cell_type": "code",
   "execution_count": 27,
   "metadata": {
    "ExecuteTime": {
     "end_time": "2019-02-24T08:52:53.795035Z",
     "start_time": "2019-02-24T08:52:50.212723Z"
    }
   },
   "outputs": [],
   "source": [
    "sampleByClusterDF_binary=(sampleByClusterDF>0).astype(int)"
   ]
  },
  {
   "cell_type": "markdown",
   "metadata": {},
   "source": [
    "## get only data for balanced lists:"
   ]
  },
  {
   "cell_type": "code",
   "execution_count": 28,
   "metadata": {
    "ExecuteTime": {
     "end_time": "2019-02-24T08:55:24.014114Z",
     "start_time": "2019-02-24T08:55:23.932268Z"
    }
   },
   "outputs": [],
   "source": [
    "# get samples lists:\n",
    "with open('/net/mraid08/export/genie/Lab/Personal/ShaniBAF/Sample files/BD lists/PNP530_balancedAge_males') as fp:\n",
    "    PNP530_balancedAge_males=pickle.load(fp)\n",
    "with open('/net/mraid08/export/genie/Lab/Personal/ShaniBAF/Sample files/BD lists/Cardio126_balancedAge_males') as fp:\n",
    "    Cardio126_balancedAge_males=pickle.load(fp)"
   ]
  },
  {
   "cell_type": "code",
   "execution_count": 29,
   "metadata": {
    "ExecuteTime": {
     "end_time": "2019-02-24T08:57:01.290607Z",
     "start_time": "2019-02-24T08:57:00.268135Z"
    }
   },
   "outputs": [
    {
     "name": "stdout",
     "output_type": "stream",
     "text": [
      "(150, 536761)\n"
     ]
    },
    {
     "data": {
      "text/html": [
       "<div>\n",
       "<style scoped>\n",
       "    .dataframe tbody tr th:only-of-type {\n",
       "        vertical-align: middle;\n",
       "    }\n",
       "\n",
       "    .dataframe tbody tr th {\n",
       "        vertical-align: top;\n",
       "    }\n",
       "\n",
       "    .dataframe thead th {\n",
       "        text-align: right;\n",
       "    }\n",
       "</style>\n",
       "<table border=\"1\" class=\"dataframe\">\n",
       "  <thead>\n",
       "    <tr style=\"text-align: right;\">\n",
       "      <th></th>\n",
       "      <th>CSARLVAETQYF</th>\n",
       "      <th>CASSSSGVTGELFF</th>\n",
       "      <th>CASSDRGRDEQYF</th>\n",
       "      <th>CSVSGSQETQYF</th>\n",
       "      <th>CASSVTSGSSYEQYF</th>\n",
       "    </tr>\n",
       "  </thead>\n",
       "  <tbody>\n",
       "    <tr>\n",
       "      <th>BD801</th>\n",
       "      <td>1</td>\n",
       "      <td>0</td>\n",
       "      <td>0</td>\n",
       "      <td>1</td>\n",
       "      <td>0</td>\n",
       "    </tr>\n",
       "    <tr>\n",
       "      <th>BD221</th>\n",
       "      <td>0</td>\n",
       "      <td>1</td>\n",
       "      <td>0</td>\n",
       "      <td>0</td>\n",
       "      <td>1</td>\n",
       "    </tr>\n",
       "    <tr>\n",
       "      <th>BD631</th>\n",
       "      <td>0</td>\n",
       "      <td>0</td>\n",
       "      <td>0</td>\n",
       "      <td>0</td>\n",
       "      <td>0</td>\n",
       "    </tr>\n",
       "    <tr>\n",
       "      <th>BD441</th>\n",
       "      <td>0</td>\n",
       "      <td>0</td>\n",
       "      <td>1</td>\n",
       "      <td>0</td>\n",
       "      <td>0</td>\n",
       "    </tr>\n",
       "    <tr>\n",
       "      <th>BD834</th>\n",
       "      <td>0</td>\n",
       "      <td>0</td>\n",
       "      <td>0</td>\n",
       "      <td>0</td>\n",
       "      <td>0</td>\n",
       "    </tr>\n",
       "  </tbody>\n",
       "</table>\n",
       "</div>"
      ],
      "text/plain": [
       "       CSARLVAETQYF  CASSSSGVTGELFF  CASSDRGRDEQYF  CSVSGSQETQYF  CASSVTSGSSYEQYF\n",
       "BD801             1               0              0             1                0\n",
       "BD221             0               1              0             0                1\n",
       "BD631             0               0              0             0                0\n",
       "BD441             0               0              1             0                0\n",
       "BD834             0               0              0             0                0"
      ]
     },
     "execution_count": 29,
     "metadata": {},
     "output_type": "execute_result"
    }
   ],
   "source": [
    "sampleByClusterDF_binary_balanced=sampleByClusterDF_binary.loc[PNP530_balancedAge_males+Cardio126_balancedAge_males,:].fillna(0)\n",
    "print sampleByClusterDF_binary_balanced.shape\n",
    "sampleByClusterDF_binary_balanced.iloc[:5,:5]"
   ]
  },
  {
   "cell_type": "code",
   "execution_count": 30,
   "metadata": {
    "ExecuteTime": {
     "end_time": "2019-02-24T08:59:14.702397Z",
     "start_time": "2019-02-24T08:59:12.489268Z"
    }
   },
   "outputs": [
    {
     "name": "stdout",
     "output_type": "stream",
     "text": [
      "(150, 536761)\n"
     ]
    },
    {
     "data": {
      "text/html": [
       "<div>\n",
       "<style scoped>\n",
       "    .dataframe tbody tr th:only-of-type {\n",
       "        vertical-align: middle;\n",
       "    }\n",
       "\n",
       "    .dataframe tbody tr th {\n",
       "        vertical-align: top;\n",
       "    }\n",
       "\n",
       "    .dataframe thead th {\n",
       "        text-align: right;\n",
       "    }\n",
       "</style>\n",
       "<table border=\"1\" class=\"dataframe\">\n",
       "  <thead>\n",
       "    <tr style=\"text-align: right;\">\n",
       "      <th></th>\n",
       "      <th>CSARLVAETQYF</th>\n",
       "      <th>CASSSSGVTGELFF</th>\n",
       "      <th>CASSDRGRDEQYF</th>\n",
       "      <th>CSVSGSQETQYF</th>\n",
       "      <th>CASSVTSGSSYEQYF</th>\n",
       "    </tr>\n",
       "  </thead>\n",
       "  <tbody>\n",
       "    <tr>\n",
       "      <th>BD801</th>\n",
       "      <td>1.0</td>\n",
       "      <td>0.0</td>\n",
       "      <td>0.0</td>\n",
       "      <td>1.0</td>\n",
       "      <td>0.0</td>\n",
       "    </tr>\n",
       "    <tr>\n",
       "      <th>BD221</th>\n",
       "      <td>0.0</td>\n",
       "      <td>1.0</td>\n",
       "      <td>0.0</td>\n",
       "      <td>0.0</td>\n",
       "      <td>1.0</td>\n",
       "    </tr>\n",
       "    <tr>\n",
       "      <th>BD631</th>\n",
       "      <td>0.0</td>\n",
       "      <td>0.0</td>\n",
       "      <td>0.0</td>\n",
       "      <td>0.0</td>\n",
       "      <td>0.0</td>\n",
       "    </tr>\n",
       "    <tr>\n",
       "      <th>BD441</th>\n",
       "      <td>0.0</td>\n",
       "      <td>0.0</td>\n",
       "      <td>2.0</td>\n",
       "      <td>0.0</td>\n",
       "      <td>0.0</td>\n",
       "    </tr>\n",
       "    <tr>\n",
       "      <th>BD834</th>\n",
       "      <td>0.0</td>\n",
       "      <td>0.0</td>\n",
       "      <td>0.0</td>\n",
       "      <td>0.0</td>\n",
       "      <td>0.0</td>\n",
       "    </tr>\n",
       "  </tbody>\n",
       "</table>\n",
       "</div>"
      ],
      "text/plain": [
       "       CSARLVAETQYF  CASSSSGVTGELFF  CASSDRGRDEQYF  CSVSGSQETQYF  CASSVTSGSSYEQYF\n",
       "BD801           1.0             0.0            0.0           1.0              0.0\n",
       "BD221           0.0             1.0            0.0           0.0              1.0\n",
       "BD631           0.0             0.0            0.0           0.0              0.0\n",
       "BD441           0.0             0.0            2.0           0.0              0.0\n",
       "BD834           0.0             0.0            0.0           0.0              0.0"
      ]
     },
     "execution_count": 30,
     "metadata": {},
     "output_type": "execute_result"
    }
   ],
   "source": [
    "sampleByClusterDF_balanced=sampleByClusterDF.loc[PNP530_balancedAge_males+Cardio126_balancedAge_males,:].fillna(0)\n",
    "print sampleByClusterDF_balanced.shape\n",
    "sampleByClusterDF_balanced.iloc[:5,:5]"
   ]
  },
  {
   "cell_type": "markdown",
   "metadata": {},
   "source": [
    "## calculate distance matrix  and PCoA:"
   ]
  },
  {
   "cell_type": "code",
   "execution_count": 41,
   "metadata": {
    "ExecuteTime": {
     "end_time": "2019-03-03T16:09:21.129287Z",
     "start_time": "2019-03-03T16:09:20.881958Z"
    }
   },
   "outputs": [
    {
     "name": "stdout",
     "output_type": "stream",
     "text": [
      "fgd\n"
     ]
    }
   ],
   "source": [
    "print 'fgd'"
   ]
  },
  {
   "cell_type": "markdown",
   "metadata": {},
   "source": [
    "### define function:"
   ]
  },
  {
   "cell_type": "code",
   "execution_count": 42,
   "metadata": {
    "ExecuteTime": {
     "end_time": "2019-03-05T09:52:21.302548Z",
     "start_time": "2019-03-05T09:52:21.112850Z"
    }
   },
   "outputs": [],
   "source": [
    "def calc_PCoA(df,metric,sample_list1,sample_list2,pcoa_n1_toplot=0,pcoa_n2_toplot=1):\n",
    "    from skbio.stats.ordination import PCoA\n",
    "    from skbio.stats.distance import DistanceMatrix\n",
    "    \n",
    "    ### scale data:\n",
    "    print 'scaling data'\n",
    "    df=preprocessing.scale(df)\n",
    "    \n",
    "    ###generate distance matrix:\n",
    "    print 'generating distance matrix...'\n",
    "    df_condensed_org, distMat_square=genDistMat(df,metric)\n",
    "    distMat_square_distmat=DistanceMatrix(distMat_square.values,distMat_square.index)\n",
    "    \n",
    "    ###calcualte PCoA:\n",
    "    print 'calculate PCoA'\n",
    "    pcoa = PCoA(distMat_square_distmat)\n",
    "    pcoa_df = pd.DataFrame(pcoa.scores().site, index=distMat_square_distmat.ids, columns=range(pcoa.scores().site.shape[1]))\n",
    "    \n",
    "    ###plot PCoA:\n",
    "    print 'plotting'\n",
    "    fig,ax=plt.subplots()\n",
    "    ax.scatter(pcoa_df.loc[sample_list1, pcoa_n1_toplot], pcoa_df.loc[sample_list1, pcoa_n2_toplot], color='blue', alpha=0.5, s=100, label='Healthy')\n",
    "    ax.scatter(pcoa_df.loc[sample_list2, pcoa_n1_toplot], pcoa_df.loc[sample_list2, pcoa_n2_toplot], color='red', alpha=0.5, s=100, label='Patients')\n",
    "    ax.set_title('PCoA', fontsize=30)\n",
    "    ax.set_xlabel('PC%s - %0.2f' %(pcoa_n1_toplot, pcoa.scores().proportion_explained[pcoa_n1_toplot]), fontsize=20)\n",
    "    ax.set_ylabel('PC%s- %0.2f' %(pcoa_n2_toplot, pcoa.scores().proportion_explained[pcoa_n2_toplot]), fontsize=20)\n",
    "#     ax.set_xticks(fontsize=15)\n",
    "#     ax.set_yticks(fontsize=15)\n",
    "    ax.legend(loc='upper right', fontsize=20)\n",
    "    plt.show()\n",
    "    \n",
    "    ### calculate PCoA seperation:\n",
    "    for n in range(10):\n",
    "        healthy_data_1=pcoa_df.loc[sample_list1, n].tolist()\n",
    "        patients_data_1=pcoa_df.loc[sample_list2, n].tolist()\n",
    "        MW_s1, p1 = mannwhitneyu(healthy_data_1, patients_data_1)\n",
    "        print ('healthy mean (PCo%s):' %n, np.mean(healthy_data_1))\n",
    "        print ('patients mean (PCo%s):' %n, np.mean(patients_data_1))\n",
    "        print MW_s1, p1\n",
    "        print ('proportion explained: ',pcoa.scores().proportion_explained[n] )\n",
    "    \n",
    "    \n",
    "    return pcoa_df,fig,ax"
   ]
  },
  {
   "cell_type": "markdown",
   "metadata": {},
   "source": [
    "### calculate for binary matrix using jaccard:"
   ]
  },
  {
   "cell_type": "code",
   "execution_count": 32,
   "metadata": {
    "ExecuteTime": {
     "end_time": "2019-02-24T09:03:57.170795Z",
     "start_time": "2019-02-24T09:03:05.166001Z"
    }
   },
   "outputs": [
    {
     "name": "stdout",
     "output_type": "stream",
     "text": [
      "generating distance matrix...\n",
      "generating condensed distance matrix using jaccard\n",
      "top similar pairs:\n",
      "          dist sample1 sample2\n",
      "763   0.798177    BD27   BD124\n",
      "814   0.800100    BD27  BD1083\n",
      "769   0.813734    BD27   BD106\n",
      "4510  0.815050   BD124   BD106\n",
      "4555  0.816545   BD124  BD1083\n",
      "776   0.819343    BD27   BD150\n",
      "856   0.819679    BD27   BD984\n",
      "9136  0.823167  BD1083   BD984\n",
      "5224  0.824113   BD106  BD1083\n",
      "5959  0.824178   BD150  BD1083\n",
      "generating squareform distance matrix using jaccard\n",
      "calculate PCoA\n",
      "plotting\n"
     ]
    },
    {
     "data": {
      "image/png": "[encoded data removed]",
      "text/plain": [
       "<matplotlib.figure.Figure at 0x7f43c458a710>"
      ]
     },
     "metadata": {},
     "output_type": "display_data"
    },
    {
     "data": {
      "image/png": "[encoded data removed]",
      "text/plain": [
       "<matplotlib.figure.Figure at 0x7f423cb3eb10>"
      ]
     },
     "metadata": {},
     "output_type": "display_data"
    },
    {
     "data": {
      "image/png": "[encoded data removed]",
      "text/plain": [
       "<matplotlib.figure.Figure at 0x7f420a203bd0>"
      ]
     },
     "metadata": {},
     "output_type": "display_data"
    },
    {
     "data": {
      "image/png": "[encoded data removed]",
      "text/plain": [
       "<matplotlib.figure.Figure at 0x7f420c718a50>"
      ]
     },
     "metadata": {},
     "output_type": "display_data"
    },
    {
     "data": {
      "image/png": "[encoded data removed]",
      "text/plain": [
       "<matplotlib.figure.Figure at 0x7f42090a5dd0>"
      ]
     },
     "metadata": {},
     "output_type": "display_data"
    },
    {
     "data": {
      "image/png": "[encoded data removed]",
      "text/plain": [
       "<matplotlib.figure.Figure at 0x7f42fa3bee50>"
      ]
     },
     "metadata": {},
     "output_type": "display_data"
    },
    {
     "name": "stdout",
     "output_type": "stream",
     "text": [
      "('healthy mean (PCo0):', -0.025329975297258178)\n",
      "('patients mean (PCo0):', 0.015524823569287265)\n",
      "1995.0 0.005604906720804398\n",
      "('proportion explained: ', 0.02338312056676816)\n",
      "('healthy mean (PCo1):', 0.0051857481353621716)\n",
      "('patients mean (PCo1):', -0.0031783617603831525)\n",
      "2501.0 0.28199947741083725\n",
      "('proportion explained: ', 0.009154701328123209)\n",
      "('healthy mean (PCo2):', -0.003172258427642641)\n",
      "('patients mean (PCo2):', 0.001944287423393906)\n",
      "2500.0 0.280693081767475\n",
      "('proportion explained: ', 0.008192405257429366)\n",
      "('healthy mean (PCo3):', -0.010818472756887638)\n",
      "('patients mean (PCo3):', 0.006630676850995793)\n",
      "1863.0 0.0011550001745454061\n",
      "('proportion explained: ', 0.008098343038199165)\n",
      "('healthy mean (PCo4):', 0.0024060447724752786)\n",
      "('patients mean (PCo4):', -0.001474672602485045)\n",
      "2467.0 0.23929994505842322\n",
      "('proportion explained: ', 0.008026820778861637)\n",
      "('healthy mean (PCo5):', -0.004852398081289504)\n",
      "('patients mean (PCo5):', 0.002974050436919359)\n",
      "2415.0 0.18143903682866036\n",
      "('proportion explained: ', 0.007899868571016938)\n",
      "('healthy mean (PCo6):', -0.012422304385319981)\n",
      "('patients mean (PCo6):', 0.007613670429712378)\n",
      "2093.0 0.015516710393235069\n",
      "('proportion explained: ', 0.00781360059074899)\n",
      "('healthy mean (PCo7):', 0.010364067838615782)\n",
      "('patients mean (PCo7):', -0.006352170610764565)\n",
      "2258.0 0.06453471903185211\n",
      "('proportion explained: ', 0.007733026226646201)\n",
      "('healthy mean (PCo8):', -0.001205162766216812)\n",
      "('patients mean (PCo8):', 0.0007386481470359981)\n",
      "2294.0 0.08404090049540242\n",
      "('proportion explained: ', 0.007688927235502645)\n",
      "('healthy mean (PCo9):', -0.00338858134569358)\n",
      "('patients mean (PCo9):', 0.0020768724376830777)\n",
      "2593.0 0.4126638527059502\n",
      "('proportion explained: ', 0.007667539476646396)\n"
     ]
    }
   ],
   "source": [
    "df=sampleByClusterDF_binary_balanced\n",
    "metric='jaccard'\n",
    "\n",
    "sample_list1=PNP530_balancedAge_males\n",
    "sample_list2=Cardio126_balancedAge_males\n",
    "\n",
    "pcoa_df,fig,ax= calc_PCoA(df,metric,sample_list1,sample_list2)"
   ]
  },
  {
   "cell_type": "code",
   "execution_count": 33,
   "metadata": {
    "ExecuteTime": {
     "end_time": "2019-02-24T09:05:32.644337Z",
     "start_time": "2019-02-24T09:05:32.188804Z"
    }
   },
   "outputs": [
    {
     "data": {
      "image/png": "[encoded data removed]",
      "text/plain": [
       "<matplotlib.figure.Figure at 0x7f42fa258350>"
      ]
     },
     "metadata": {},
     "output_type": "display_data"
    }
   ],
   "source": [
    "#plot PCoA distributions:\n",
    "pcoa_n1_toplot=0\n",
    "sample_list1=PNP530_balancedAge_males\n",
    "sample_list2=Cardio126_balancedAge_males\n",
    "\n",
    "dataList=[('Healthy',pcoa_df.loc[sample_list1, pcoa_n1_toplot]),\n",
    "         ('Patients',pcoa_df.loc[sample_list2, pcoa_n1_toplot])]\n",
    "fig,ax=plt.subplots()\n",
    "title=''\n",
    "colorList=['grey','darkred']\n",
    "alpha=1\n",
    "text_kws={'fontsize':'large','fontweight':'bold','color':'red',\n",
    "                                'horizontalalignment':'left','verticalalignment':'top'}\n",
    "plotType='hist'\n",
    "\n",
    "\n",
    "\n",
    "ax,ks_p_cohort1_cohort2,t_p_cohort1_cohort2,p_Anov,filename=plotHistComprison(dataList,ax,title,showLegend=True,nBins=20,toAnnotate=True,\n",
    "                      colorList=colorList,alpha=alpha,\n",
    "                      text_kws=text_kws,plotType=plotType)\n",
    "\n",
    "plt.show()"
   ]
  },
  {
   "cell_type": "code",
   "execution_count": 34,
   "metadata": {
    "ExecuteTime": {
     "end_time": "2019-02-24T09:07:07.773728Z",
     "start_time": "2019-02-24T09:07:07.365658Z"
    }
   },
   "outputs": [
    {
     "name": "stdout",
     "output_type": "stream",
     "text": [
      "generating kde plot\n",
      "generating kde plot\n"
     ]
    },
    {
     "data": {
      "image/png": "[encoded data removed]",
      "text/plain": [
       "<matplotlib.figure.Figure at 0x7f42fa258510>"
      ]
     },
     "metadata": {},
     "output_type": "display_data"
    }
   ],
   "source": [
    "#plot PCoA distributions:\n",
    "pcoa_n1_toplot=0\n",
    "sample_list1=PNP530_balancedAge_males\n",
    "sample_list2=Cardio126_balancedAge_males\n",
    "\n",
    "dataList=[('Healthy',pcoa_df.loc[sample_list1, pcoa_n1_toplot]),\n",
    "         ('Patients',pcoa_df.loc[sample_list2, pcoa_n1_toplot])]\n",
    "fig,ax=plt.subplots()\n",
    "title=''\n",
    "colorList=['grey','darkred']\n",
    "alpha=1\n",
    "text_kws={'fontsize':'large','fontweight':'bold','color':'red',\n",
    "                                'horizontalalignment':'left','verticalalignment':'top'}\n",
    "plotType='kde'\n",
    "\n",
    "\n",
    "\n",
    "ax,ks_p_cohort1_cohort2,t_p_cohort1_cohort2,p_Anov,filename=plotHistComprison(dataList,ax,title,showLegend=True,nBins=20,toAnnotate=True,\n",
    "                      colorList=colorList,alpha=alpha,\n",
    "                      text_kws=text_kws,plotType=plotType)\n",
    "\n",
    "plt.show()"
   ]
  },
  {
   "cell_type": "markdown",
   "metadata": {},
   "source": [
    "### calculate for binary matrix using matching:"
   ]
  },
  {
   "cell_type": "code",
   "execution_count": 35,
   "metadata": {
    "ExecuteTime": {
     "end_time": "2019-02-24T09:08:57.260755Z",
     "start_time": "2019-02-24T09:08:39.551931Z"
    }
   },
   "outputs": [
    {
     "name": "stdout",
     "output_type": "stream",
     "text": [
      "generating distance matrix...\n",
      "generating condensed distance matrix using matching\n",
      "top similar pairs:\n",
      "           dist sample1 sample2\n",
      "6967   0.046065  BD1014   BD955\n",
      "6948   0.047142  BD1014   BD953\n",
      "6942   0.047643  BD1014   BD968\n",
      "6902   0.048903  BD1014   BD991\n",
      "10373  0.050190   BD953   BD955\n",
      "10118  0.050706   BD968   BD955\n",
      "6937   0.050859  BD1014   BD957\n",
      "6132   0.051542   BD453  BD1014\n",
      "10099  0.051556   BD968   BD953\n",
      "7498   0.052059   BD991   BD955\n",
      "generating squareform distance matrix using matching\n",
      "calculate PCoA\n",
      "plotting\n"
     ]
    },
    {
     "name": "stderr",
     "output_type": "stream",
     "text": [
      "/usr/wisdom/python/lib/python2.7/site-packages/skbio/stats/ordination/_principal_coordinate_analysis.py:109: RuntimeWarning: The result contains negative eigenvalues. Please compare their magnitude with the magnitude of some of the largest positive eigenvalues. If the negative ones are smaller, it's probably safe to ignore them, but if they are large in magnitude, the results won't be useful. See the Notes section for more details. The smallest eigenvalue is -0.00827837041239 and the largest is 0.0737152328789.\n",
      "  RuntimeWarning\n"
     ]
    },
    {
     "data": {
      "image/png": "[encoded data removed]",
      "text/plain": [
       "<matplotlib.figure.Figure at 0x7f42f9e53a10>"
      ]
     },
     "metadata": {},
     "output_type": "display_data"
    },
    {
     "name": "stdout",
     "output_type": "stream",
     "text": [
      "('healthy mean (PCo0):', -0.005250261130610112)\n",
      "('patients mean (PCo0):', 0.0032179019832771546)\n",
      "2188.0 0.03682237526260539\n",
      "('proportion explained: ', 0.034824129908198435)\n",
      "('healthy mean (PCo1):', 0.0016139498296616564)\n",
      "('patients mean (PCo1):', -0.000989195056889406)\n",
      "2254.0 0.06260476075429397\n",
      "('proportion explained: ', 0.022049850266256412)\n",
      "('healthy mean (PCo2):', -0.0023926954017285474)\n",
      "('patients mean (PCo2):', 0.0014664907300916542)\n",
      "2599.0 0.42173124813100304\n",
      "('proportion explained: ', 0.019760764008910765)\n",
      "('healthy mean (PCo3):', 0.0030478065084034605)\n",
      "('patients mean (PCo3):', -0.001868010440634399)\n",
      "2045.0 0.009577652332352868\n",
      "('proportion explained: ', 0.01775162046940677)\n",
      "('healthy mean (PCo4):', 0.001777126358716416)\n",
      "('patients mean (PCo4):', -0.001089206477922921)\n",
      "2482.0 0.2576917945099598\n",
      "('proportion explained: ', 0.015829679056141206)\n",
      "('healthy mean (PCo5):', -0.0006873138263623294)\n",
      "('patients mean (PCo5):', 0.00042125686131884893)\n",
      "2350.0 0.12270556791328074\n",
      "('proportion explained: ', 0.015097588687106709)\n",
      "('healthy mean (PCo6):', -0.00018608367746261094)\n",
      "('patients mean (PCo6):', 0.00011405128618673549)\n",
      "2491.0 0.26906909423799763\n",
      "('proportion explained: ', 0.014386861206587033)\n",
      "('healthy mean (PCo7):', -0.0006550418813380908)\n",
      "('patients mean (PCo7):', 0.0004014772821104617)\n",
      "2139.0 0.02393408682842115\n",
      "('proportion explained: ', 0.014315464155273246)\n",
      "('healthy mean (PCo8):', -0.002668270163993385)\n",
      "('patients mean (PCo8):', 0.0016353913908346723)\n",
      "1869.0 0.0012474976740135069\n",
      "('proportion explained: ', 0.014019802100281881)\n",
      "('healthy mean (PCo9):', -0.002529124980352523)\n",
      "('patients mean (PCo9):', 0.0015501088589258284)\n",
      "2620.0 0.453764151303603\n",
      "('proportion explained: ', 0.013990906087290065)\n"
     ]
    }
   ],
   "source": [
    "df=sampleByClusterDF_binary_balanced\n",
    "metric='matching'\n",
    "\n",
    "sample_list1=PNP530_balancedAge_males\n",
    "sample_list2=Cardio126_balancedAge_males\n",
    "\n",
    "pcoa_df,fig,ax= calc_PCoA(df,metric,sample_list1,sample_list2)"
   ]
  },
  {
   "cell_type": "code",
   "execution_count": 36,
   "metadata": {
    "ExecuteTime": {
     "end_time": "2019-02-24T09:10:46.604513Z",
     "start_time": "2019-02-24T09:10:31.685951Z"
    }
   },
   "outputs": [
    {
     "name": "stdout",
     "output_type": "stream",
     "text": [
      "generating distance matrix...\n",
      "generating condensed distance matrix using matching\n",
      "top similar pairs:\n",
      "           dist sample1 sample2\n",
      "6967   0.046065  BD1014   BD955\n",
      "6948   0.047142  BD1014   BD953\n",
      "6942   0.047643  BD1014   BD968\n",
      "6902   0.048903  BD1014   BD991\n",
      "10373  0.050190   BD953   BD955\n",
      "10118  0.050706   BD968   BD955\n",
      "6937   0.050859  BD1014   BD957\n",
      "6132   0.051542   BD453  BD1014\n",
      "10099  0.051556   BD968   BD953\n",
      "7498   0.052059   BD991   BD955\n",
      "generating squareform distance matrix using matching\n",
      "calculate PCoA\n",
      "plotting\n"
     ]
    },
    {
     "data": {
      "image/png": "[encoded data removed]",
      "text/plain": [
       "<matplotlib.figure.Figure at 0x7f42fa2448d0>"
      ]
     },
     "metadata": {},
     "output_type": "display_data"
    },
    {
     "name": "stdout",
     "output_type": "stream",
     "text": [
      "('healthy mean (PCo0):', -0.005250261130610112)\n",
      "('patients mean (PCo0):', 0.0032179019832771546)\n",
      "2188.0 0.03682237526260539\n",
      "('proportion explained: ', 0.034824129908198435)\n",
      "('healthy mean (PCo1):', 0.0016139498296616564)\n",
      "('patients mean (PCo1):', -0.000989195056889406)\n",
      "2254.0 0.06260476075429397\n",
      "('proportion explained: ', 0.022049850266256412)\n",
      "('healthy mean (PCo2):', -0.0023926954017285474)\n",
      "('patients mean (PCo2):', 0.0014664907300916542)\n",
      "2599.0 0.42173124813100304\n",
      "('proportion explained: ', 0.019760764008910765)\n",
      "('healthy mean (PCo3):', 0.0030478065084034605)\n",
      "('patients mean (PCo3):', -0.001868010440634399)\n",
      "2045.0 0.009577652332352868\n",
      "('proportion explained: ', 0.01775162046940677)\n",
      "('healthy mean (PCo4):', 0.001777126358716416)\n",
      "('patients mean (PCo4):', -0.001089206477922921)\n",
      "2482.0 0.2576917945099598\n",
      "('proportion explained: ', 0.015829679056141206)\n",
      "('healthy mean (PCo5):', -0.0006873138263623294)\n",
      "('patients mean (PCo5):', 0.00042125686131884893)\n",
      "2350.0 0.12270556791328074\n",
      "('proportion explained: ', 0.015097588687106709)\n",
      "('healthy mean (PCo6):', -0.00018608367746261094)\n",
      "('patients mean (PCo6):', 0.00011405128618673549)\n",
      "2491.0 0.26906909423799763\n",
      "('proportion explained: ', 0.014386861206587033)\n",
      "('healthy mean (PCo7):', -0.0006550418813380908)\n",
      "('patients mean (PCo7):', 0.0004014772821104617)\n",
      "2139.0 0.02393408682842115\n",
      "('proportion explained: ', 0.014315464155273246)\n",
      "('healthy mean (PCo8):', -0.002668270163993385)\n",
      "('patients mean (PCo8):', 0.0016353913908346723)\n",
      "1869.0 0.0012474976740135069\n",
      "('proportion explained: ', 0.014019802100281881)\n",
      "('healthy mean (PCo9):', -0.002529124980352523)\n",
      "('patients mean (PCo9):', 0.0015501088589258284)\n",
      "2620.0 0.453764151303603\n",
      "('proportion explained: ', 0.013990906087290065)\n"
     ]
    }
   ],
   "source": [
    "df=sampleByClusterDF_binary_balanced\n",
    "metric='matching'\n",
    "\n",
    "sample_list1=PNP530_balancedAge_males\n",
    "sample_list2=Cardio126_balancedAge_males\n",
    "\n",
    "pcoa_df,fig,ax= calc_PCoA(df,metric,sample_list1,sample_list2,pcoa_n1_toplot=0,pcoa_n2_toplot=3)"
   ]
  },
  {
   "cell_type": "markdown",
   "metadata": {},
   "source": [
    "### calculate for binary matrix using dice:"
   ]
  },
  {
   "cell_type": "code",
   "execution_count": 37,
   "metadata": {
    "ExecuteTime": {
     "end_time": "2019-02-24T09:12:43.642699Z",
     "start_time": "2019-02-24T09:12:19.614359Z"
    }
   },
   "outputs": [
    {
     "name": "stdout",
     "output_type": "stream",
     "text": [
      "generating distance matrix...\n",
      "generating condensed distance matrix using dice\n",
      "top similar pairs:\n",
      "          dist sample1 sample2\n",
      "763   0.664138    BD27   BD124\n",
      "814   0.666806    BD27  BD1083\n",
      "769   0.685963    BD27   BD106\n",
      "4510  0.687835   BD124   BD106\n",
      "4555  0.689968   BD124  BD1083\n",
      "776   0.693973    BD27   BD150\n",
      "856   0.694454    BD27   BD984\n",
      "9136  0.699476  BD1083   BD984\n",
      "5224  0.700843   BD106  BD1083\n",
      "5959  0.700938   BD150  BD1083\n",
      "generating squareform distance matrix using dice\n",
      "calculate PCoA\n",
      "plotting\n"
     ]
    },
    {
     "data": {
      "image/png": "[encoded data removed]",
      "text/plain": [
       "<matplotlib.figure.Figure at 0x7f42f9ceb8d0>"
      ]
     },
     "metadata": {},
     "output_type": "display_data"
    },
    {
     "name": "stdout",
     "output_type": "stream",
     "text": [
      "('healthy mean (PCo0):', 0.027938348877038492)\n",
      "('patients mean (PCo0):', -0.017123504150443013)\n",
      "1995.0 0.005604906720804398\n",
      "('proportion explained: ', 0.03472433478855327)\n",
      "('healthy mean (PCo1):', -0.005625902991705176)\n",
      "('patients mean (PCo1):', 0.0034481340916900868)\n",
      "2496.0 0.27549697195934086\n",
      "('proportion explained: ', 0.011193524642586772)\n",
      "('healthy mean (PCo2):', 0.00791965081046439)\n",
      "('patients mean (PCo2):', -0.004853979528994336)\n",
      "2386.0 0.15334797168881747\n",
      "('proportion explained: ', 0.009602939542631724)\n",
      "('healthy mean (PCo3):', 0.0010796835246824911)\n",
      "('patients mean (PCo3):', -0.0006617415151281357)\n",
      "2434.0 0.2014850069881351\n",
      "('proportion explained: ', 0.009281636420958257)\n",
      "('healthy mean (PCo4):', 0.005573446869077889)\n",
      "('patients mean (PCo4):', -0.003415983564918863)\n",
      "2064.0 0.011636328717495353\n",
      "('proportion explained: ', 0.009215416498550883)\n",
      "('healthy mean (PCo5):', 0.0037382208201379033)\n",
      "('patients mean (PCo5):', -0.00229116759943913)\n",
      "2611.0 0.4399863621885458\n",
      "('proportion explained: ', 0.008984849369911311)\n",
      "('healthy mean (PCo6):', 0.012671130191359178)\n",
      "('patients mean (PCo6):', -0.0077661765688975875)\n",
      "2057.0 0.010837025272174589\n",
      "('proportion explained: ', 0.008834241610828223)\n",
      "('healthy mean (PCo7):', 0.009541988219728818)\n",
      "('patients mean (PCo7):', -0.005848315360479066)\n",
      "2341.0 0.11576739121186808\n",
      "('proportion explained: ', 0.008694631205726977)\n",
      "('healthy mean (PCo8):', -0.0034559813903864674)\n",
      "('patients mean (PCo8):', 0.0021181821424948086)\n",
      "2221.0 0.04835253446590693\n",
      "('proportion explained: ', 0.008610901257385943)\n",
      "('healthy mean (PCo9):', -0.0066239204683887255)\n",
      "('patients mean (PCo9):', 0.004059822222560893)\n",
      "2400.0 0.16652892024684446\n",
      "('proportion explained: ', 0.008550398392481694)\n"
     ]
    }
   ],
   "source": [
    "df=sampleByClusterDF_binary_balanced\n",
    "metric='dice'\n",
    "\n",
    "sample_list1=PNP530_balancedAge_males\n",
    "sample_list2=Cardio126_balancedAge_males\n",
    "\n",
    "pcoa_df,fig,ax= calc_PCoA(df,metric,sample_list1,sample_list2)"
   ]
  },
  {
   "cell_type": "code",
   "execution_count": 38,
   "metadata": {
    "ExecuteTime": {
     "end_time": "2019-02-24T09:14:41.516217Z",
     "start_time": "2019-02-24T09:14:17.268514Z"
    }
   },
   "outputs": [
    {
     "name": "stdout",
     "output_type": "stream",
     "text": [
      "generating distance matrix...\n",
      "generating condensed distance matrix using dice\n",
      "top similar pairs:\n",
      "          dist sample1 sample2\n",
      "763   0.664138    BD27   BD124\n",
      "814   0.666806    BD27  BD1083\n",
      "769   0.685963    BD27   BD106\n",
      "4510  0.687835   BD124   BD106\n",
      "4555  0.689968   BD124  BD1083\n",
      "776   0.693973    BD27   BD150\n",
      "856   0.694454    BD27   BD984\n",
      "9136  0.699476  BD1083   BD984\n",
      "5224  0.700843   BD106  BD1083\n",
      "5959  0.700938   BD150  BD1083\n",
      "generating squareform distance matrix using dice\n",
      "calculate PCoA\n",
      "plotting\n"
     ]
    },
    {
     "data": {
      "image/png": "[encoded data removed]",
      "text/plain": [
       "<matplotlib.figure.Figure at 0x7f42f9c39410>"
      ]
     },
     "metadata": {},
     "output_type": "display_data"
    },
    {
     "name": "stdout",
     "output_type": "stream",
     "text": [
      "('healthy mean (PCo0):', 0.027938348877038492)\n",
      "('patients mean (PCo0):', -0.017123504150443013)\n",
      "1995.0 0.005604906720804398\n",
      "('proportion explained: ', 0.03472433478855327)\n",
      "('healthy mean (PCo1):', -0.005625902991705176)\n",
      "('patients mean (PCo1):', 0.0034481340916900868)\n",
      "2496.0 0.27549697195934086\n",
      "('proportion explained: ', 0.011193524642586772)\n",
      "('healthy mean (PCo2):', 0.00791965081046439)\n",
      "('patients mean (PCo2):', -0.004853979528994336)\n",
      "2386.0 0.15334797168881747\n",
      "('proportion explained: ', 0.009602939542631724)\n",
      "('healthy mean (PCo3):', 0.0010796835246824911)\n",
      "('patients mean (PCo3):', -0.0006617415151281357)\n",
      "2434.0 0.2014850069881351\n",
      "('proportion explained: ', 0.009281636420958257)\n",
      "('healthy mean (PCo4):', 0.005573446869077889)\n",
      "('patients mean (PCo4):', -0.003415983564918863)\n",
      "2064.0 0.011636328717495353\n",
      "('proportion explained: ', 0.009215416498550883)\n",
      "('healthy mean (PCo5):', 0.0037382208201379033)\n",
      "('patients mean (PCo5):', -0.00229116759943913)\n",
      "2611.0 0.4399863621885458\n",
      "('proportion explained: ', 0.008984849369911311)\n",
      "('healthy mean (PCo6):', 0.012671130191359178)\n",
      "('patients mean (PCo6):', -0.0077661765688975875)\n",
      "2057.0 0.010837025272174589\n",
      "('proportion explained: ', 0.008834241610828223)\n",
      "('healthy mean (PCo7):', 0.009541988219728818)\n",
      "('patients mean (PCo7):', -0.005848315360479066)\n",
      "2341.0 0.11576739121186808\n",
      "('proportion explained: ', 0.008694631205726977)\n",
      "('healthy mean (PCo8):', -0.0034559813903864674)\n",
      "('patients mean (PCo8):', 0.0021181821424948086)\n",
      "2221.0 0.04835253446590693\n",
      "('proportion explained: ', 0.008610901257385943)\n",
      "('healthy mean (PCo9):', -0.0066239204683887255)\n",
      "('patients mean (PCo9):', 0.004059822222560893)\n",
      "2400.0 0.16652892024684446\n",
      "('proportion explained: ', 0.008550398392481694)\n"
     ]
    }
   ],
   "source": [
    "df=sampleByClusterDF_binary_balanced\n",
    "metric='dice'\n",
    "\n",
    "sample_list1=PNP530_balancedAge_males\n",
    "sample_list2=Cardio126_balancedAge_males\n",
    "\n",
    "pcoa_df,fig,ax= calc_PCoA(df,metric,sample_list1,sample_list2,pcoa_n1_toplot=0,pcoa_n2_toplot=4)"
   ]
  },
  {
   "cell_type": "code",
   "execution_count": 39,
   "metadata": {
    "ExecuteTime": {
     "end_time": "2019-02-24T09:16:15.906470Z",
     "start_time": "2019-02-24T09:16:15.531083Z"
    }
   },
   "outputs": [
    {
     "data": {
      "image/png": "[encoded data removed]",
      "text/plain": [
       "<matplotlib.figure.Figure at 0x7f42fa24fb50>"
      ]
     },
     "metadata": {},
     "output_type": "display_data"
    }
   ],
   "source": [
    "#plot PCoA distributions:\n",
    "pcoa_n1_toplot=0\n",
    "sample_list1=PNP530_balancedAge_males\n",
    "sample_list2=Cardio126_balancedAge_males\n",
    "\n",
    "dataList=[('Healthy',pcoa_df.loc[sample_list1, pcoa_n1_toplot]),\n",
    "         ('Patients',pcoa_df.loc[sample_list2, pcoa_n1_toplot])]\n",
    "fig,ax=plt.subplots()\n",
    "title=''\n",
    "colorList=['grey','darkred']\n",
    "alpha=1\n",
    "text_kws={'fontsize':'large','fontweight':'bold','color':'red',\n",
    "                                'horizontalalignment':'left','verticalalignment':'top'}\n",
    "plotType='hist'\n",
    "\n",
    "\n",
    "\n",
    "ax,ks_p_cohort1_cohort2,t_p_cohort1_cohort2,p_Anov,filename=plotHistComprison(dataList,ax,title,showLegend=True,nBins=20,toAnnotate=True,\n",
    "                      colorList=colorList,alpha=alpha,\n",
    "                      text_kws=text_kws,plotType=plotType)\n",
    "\n",
    "plt.show()"
   ]
  },
  {
   "cell_type": "code",
   "execution_count": 40,
   "metadata": {
    "ExecuteTime": {
     "end_time": "2019-02-24T09:17:51.201154Z",
     "start_time": "2019-02-24T09:17:50.931545Z"
    }
   },
   "outputs": [
    {
     "name": "stdout",
     "output_type": "stream",
     "text": [
      "generating kde plot\n",
      "generating kde plot\n"
     ]
    },
    {
     "data": {
      "image/png": "[encoded data removed]",
      "text/plain": [
       "<matplotlib.figure.Figure at 0x7f42f9b7de50>"
      ]
     },
     "metadata": {},
     "output_type": "display_data"
    }
   ],
   "source": [
    "#plot PCoA distributions:\n",
    "pcoa_n1_toplot=0\n",
    "sample_list1=PNP530_balancedAge_males\n",
    "sample_list2=Cardio126_balancedAge_males\n",
    "\n",
    "dataList=[('Healthy',pcoa_df.loc[sample_list1, pcoa_n1_toplot]),\n",
    "         ('Patients',pcoa_df.loc[sample_list2, pcoa_n1_toplot])]\n",
    "fig,ax=plt.subplots()\n",
    "title=''\n",
    "colorList=['grey','darkred']\n",
    "alpha=1\n",
    "text_kws={'fontsize':'large','fontweight':'bold','color':'red',\n",
    "                                'horizontalalignment':'left','verticalalignment':'top'}\n",
    "plotType='kde'\n",
    "\n",
    "\n",
    "\n",
    "ax,ks_p_cohort1_cohort2,t_p_cohort1_cohort2,p_Anov,filename=plotHistComprison(dataList,ax,title,showLegend=True,nBins=20,toAnnotate=True,\n",
    "                      colorList=colorList,alpha=alpha,\n",
    "                      text_kws=text_kws,plotType=plotType)\n",
    "\n",
    "plt.show()"
   ]
  },
  {
   "cell_type": "code",
   "execution_count": null,
   "metadata": {},
   "outputs": [],
   "source": []
  },
  {
   "cell_type": "code",
   "execution_count": null,
   "metadata": {
    "ExecuteTime": {
     "end_time": "2019-02-21T08:00:46.852516Z",
     "start_time": "2019-02-21T07:59:59.173712Z"
    }
   },
   "outputs": [],
   "source": [
    "df=sampleByClusterDF_binary_balanced\n",
    "metric='jaccard'\n",
    "\n",
    "sample_list1=PNP530_balancedAge_males\n",
    "sample_list2=Cardio126_balancedAge_males\n",
    "\n",
    "pcoa_df,fig,ax= calc_PCoA(df,metric,sample_list1,sample_list2,pcoa_n1_toplot=0,pcoa_n2_toplot=3)"
   ]
  },
  {
   "cell_type": "markdown",
   "metadata": {},
   "source": [
    "# balanced group clustering:"
   ]
  },
  {
   "cell_type": "code",
   "execution_count": 4,
   "metadata": {
    "ExecuteTime": {
     "end_time": "2019-02-21T09:51:23.915217Z",
     "start_time": "2019-02-21T09:51:23.879705Z"
    }
   },
   "outputs": [],
   "source": [
    "def filter_matrix_by_sharing_perc(matrix, sample_list1,sample_list2,percShared=0.1,percTooMany=0.9):\n",
    "    # ##generate cluster list:\n",
    "    \n",
    "    # get clusters that appear in Xperc or nShared of samples in sample_list1:\n",
    "    print ('perc Shared is ', percShared)\n",
    "    matrix_group1 = matrix.loc[sample_list1, :]\n",
    "    nShared_group1 = math.ceil(len(matrix_group1) * percShared)\n",
    "\n",
    "    print ('nShared_group1= ', nShared_group1)\n",
    "    group1_percClusters = matrix_group1.loc[:, matrix_group1.count() >= nShared_group1].columns.tolist()\n",
    "    print ('n clusters shared by %s or more samples in group1= ' % nShared_group1, len(group1_percClusters))\n",
    "    \n",
    "    # get clusters that appear in Xperc of samples in sample_list2:\n",
    "    matrix_group2 = matrix.loc[sample_list2, :]\n",
    "    nShared_group2 = math.ceil(len(matrix_group2) * percShared)\n",
    "    print ('nShared_group2= ', nShared_group2)\n",
    "    group2_percClusters = matrix_group2.loc[:, matrix_group2.count() >= nShared_group2].columns.tolist()\n",
    "    print ('n clusters shared by %s or more samples in group2= ' % nShared_group2, len(group2_percClusters))\n",
    "    \n",
    "   \n",
    "    \n",
    "    # concatenate lists:\n",
    "    ClusterListShared = list(set(group1_percClusters + group2_percClusters))\n",
    "    print ('total number of clusters shared by more than %s ' % percShared, len(ClusterListShared))\n",
    "    \n",
    "    # filter table to have only those sequences\n",
    "    matrix_perc = matrix.loc[:, ClusterListShared]\n",
    "    # filter table to not include clusters that appear in more than percTooMany of samples:\n",
    "    nTooMany = math.ceil(len(matrix) * percTooMany)\n",
    "    print 'filtering out clusters that appear in more than %s (%s) samples' % (nTooMany, percTooMany)\n",
    "    matrix_perc = matrix_perc.loc[:, matrix_perc.count() < nTooMany]\n",
    "    print ('final matrix_perc shape is: ', matrix_perc.shape)\n",
    "                             \n",
    "                             \n",
    "    return matrix"
   ]
  },
  {
   "cell_type": "code",
   "execution_count": 5,
   "metadata": {
    "ExecuteTime": {
     "end_time": "2019-02-21T09:51:28.908736Z",
     "start_time": "2019-02-21T09:51:24.129213Z"
    }
   },
   "outputs": [],
   "source": [
    "#get cluster binary matrix\n",
    "sampleByClusterDF=pd.read_pickle('/net/mraid08/export/jafar/Microbiome/Analyses/ShaniBAF/\\\n",
    "sharingAnalysis/seqClusters_allProd_maxdist1/sampleByClusterDF_cohortfiltering005-085perc_dropped.dat')\n",
    "\n",
    "sampleByClusterDF_binary=(sampleByClusterDF>0).astype(int)"
   ]
  },
  {
   "cell_type": "code",
   "execution_count": 6,
   "metadata": {
    "ExecuteTime": {
     "end_time": "2019-02-21T09:53:09.916694Z",
     "start_time": "2019-02-21T09:53:09.909535Z"
    }
   },
   "outputs": [],
   "source": [
    "# get samples lists:\n",
    "with open('/net/mraid08/export/genie/Lab/Personal/ShaniBAF/Sample files/BD lists/PNP530_balancedAge_males') as fp:\n",
    "    PNP530_balancedAge_males=pickle.load(fp)\n",
    "with open('/net/mraid08/export/genie/Lab/Personal/ShaniBAF/Sample files/BD lists/Cardio126_balancedAge_males') as fp:\n",
    "    Cardio126_balancedAge_males=pickle.load(fp)"
   ]
  },
  {
   "cell_type": "code",
   "execution_count": 9,
   "metadata": {
    "ExecuteTime": {
     "end_time": "2019-02-21T09:57:24.438381Z",
     "start_time": "2019-02-21T09:55:35.639193Z"
    }
   },
   "outputs": [
    {
     "name": "stdout",
     "output_type": "stream",
     "text": [
      "(150, 536761)\n"
     ]
    },
    {
     "data": {
      "text/html": [
       "<div>\n",
       "<style scoped>\n",
       "    .dataframe tbody tr th:only-of-type {\n",
       "        vertical-align: middle;\n",
       "    }\n",
       "\n",
       "    .dataframe tbody tr th {\n",
       "        vertical-align: top;\n",
       "    }\n",
       "\n",
       "    .dataframe thead th {\n",
       "        text-align: right;\n",
       "    }\n",
       "</style>\n",
       "<table border=\"1\" class=\"dataframe\">\n",
       "  <thead>\n",
       "    <tr style=\"text-align: right;\">\n",
       "      <th></th>\n",
       "      <th>CSARLVAETQYF</th>\n",
       "      <th>CASSSSGVTGELFF</th>\n",
       "      <th>CASSDRGRDEQYF</th>\n",
       "      <th>CSVSGSQETQYF</th>\n",
       "      <th>CASSVTSGSSYEQYF</th>\n",
       "    </tr>\n",
       "  </thead>\n",
       "  <tbody>\n",
       "    <tr>\n",
       "      <th>BD801</th>\n",
       "      <td>1.0</td>\n",
       "      <td>NaN</td>\n",
       "      <td>NaN</td>\n",
       "      <td>1.0</td>\n",
       "      <td>NaN</td>\n",
       "    </tr>\n",
       "    <tr>\n",
       "      <th>BD221</th>\n",
       "      <td>NaN</td>\n",
       "      <td>1.0</td>\n",
       "      <td>NaN</td>\n",
       "      <td>NaN</td>\n",
       "      <td>1.0</td>\n",
       "    </tr>\n",
       "    <tr>\n",
       "      <th>BD631</th>\n",
       "      <td>NaN</td>\n",
       "      <td>NaN</td>\n",
       "      <td>NaN</td>\n",
       "      <td>NaN</td>\n",
       "      <td>NaN</td>\n",
       "    </tr>\n",
       "    <tr>\n",
       "      <th>BD441</th>\n",
       "      <td>NaN</td>\n",
       "      <td>NaN</td>\n",
       "      <td>1.0</td>\n",
       "      <td>NaN</td>\n",
       "      <td>NaN</td>\n",
       "    </tr>\n",
       "    <tr>\n",
       "      <th>BD834</th>\n",
       "      <td>NaN</td>\n",
       "      <td>NaN</td>\n",
       "      <td>NaN</td>\n",
       "      <td>NaN</td>\n",
       "      <td>NaN</td>\n",
       "    </tr>\n",
       "  </tbody>\n",
       "</table>\n",
       "</div>"
      ],
      "text/plain": [
       "       CSARLVAETQYF  CASSSSGVTGELFF  CASSDRGRDEQYF  CSVSGSQETQYF  CASSVTSGSSYEQYF\n",
       "BD801           1.0             NaN            NaN           1.0              NaN\n",
       "BD221           NaN             1.0            NaN           NaN              1.0\n",
       "BD631           NaN             NaN            NaN           NaN              NaN\n",
       "BD441           NaN             NaN            1.0           NaN              NaN\n",
       "BD834           NaN             NaN            NaN           NaN              NaN"
      ]
     },
     "execution_count": 9,
     "metadata": {},
     "output_type": "execute_result"
    }
   ],
   "source": [
    "sampleByClusterDF_binary_balanced=sampleByClusterDF_binary.loc[PNP530_balancedAge_males+Cardio126_balancedAge_males,:].replace(0,np.nan)\n",
    "print sampleByClusterDF_binary_balanced.shape\n",
    "sampleByClusterDF_binary_balanced.iloc[:5,:5]"
   ]
  },
  {
   "cell_type": "code",
   "execution_count": 10,
   "metadata": {
    "ExecuteTime": {
     "end_time": "2019-02-21T09:58:40.346553Z",
     "start_time": "2019-02-21T09:58:37.934809Z"
    }
   },
   "outputs": [
    {
     "name": "stdout",
     "output_type": "stream",
     "text": [
      "(150, 536761)\n",
      "(150, 536761)\n"
     ]
    },
    {
     "data": {
      "text/html": [
       "<div>\n",
       "<style scoped>\n",
       "    .dataframe tbody tr th:only-of-type {\n",
       "        vertical-align: middle;\n",
       "    }\n",
       "\n",
       "    .dataframe tbody tr th {\n",
       "        vertical-align: top;\n",
       "    }\n",
       "\n",
       "    .dataframe thead th {\n",
       "        text-align: right;\n",
       "    }\n",
       "</style>\n",
       "<table border=\"1\" class=\"dataframe\">\n",
       "  <thead>\n",
       "    <tr style=\"text-align: right;\">\n",
       "      <th></th>\n",
       "      <th>CSARLVAETQYF</th>\n",
       "      <th>CASSSSGVTGELFF</th>\n",
       "      <th>CASSDRGRDEQYF</th>\n",
       "      <th>CSVSGSQETQYF</th>\n",
       "      <th>CASSVTSGSSYEQYF</th>\n",
       "    </tr>\n",
       "  </thead>\n",
       "  <tbody>\n",
       "    <tr>\n",
       "      <th>BD801</th>\n",
       "      <td>1.0</td>\n",
       "      <td>NaN</td>\n",
       "      <td>NaN</td>\n",
       "      <td>1.0</td>\n",
       "      <td>NaN</td>\n",
       "    </tr>\n",
       "    <tr>\n",
       "      <th>BD221</th>\n",
       "      <td>NaN</td>\n",
       "      <td>1.0</td>\n",
       "      <td>NaN</td>\n",
       "      <td>NaN</td>\n",
       "      <td>1.0</td>\n",
       "    </tr>\n",
       "    <tr>\n",
       "      <th>BD631</th>\n",
       "      <td>NaN</td>\n",
       "      <td>NaN</td>\n",
       "      <td>NaN</td>\n",
       "      <td>NaN</td>\n",
       "      <td>NaN</td>\n",
       "    </tr>\n",
       "    <tr>\n",
       "      <th>BD441</th>\n",
       "      <td>NaN</td>\n",
       "      <td>NaN</td>\n",
       "      <td>2.0</td>\n",
       "      <td>NaN</td>\n",
       "      <td>NaN</td>\n",
       "    </tr>\n",
       "    <tr>\n",
       "      <th>BD834</th>\n",
       "      <td>NaN</td>\n",
       "      <td>NaN</td>\n",
       "      <td>NaN</td>\n",
       "      <td>NaN</td>\n",
       "      <td>NaN</td>\n",
       "    </tr>\n",
       "  </tbody>\n",
       "</table>\n",
       "</div>"
      ],
      "text/plain": [
       "       CSARLVAETQYF  CASSSSGVTGELFF  CASSDRGRDEQYF  CSVSGSQETQYF  CASSVTSGSSYEQYF\n",
       "BD801           1.0             NaN            NaN           1.0              NaN\n",
       "BD221           NaN             1.0            NaN           NaN              1.0\n",
       "BD631           NaN             NaN            NaN           NaN              NaN\n",
       "BD441           NaN             NaN            2.0           NaN              NaN\n",
       "BD834           NaN             NaN            NaN           NaN              NaN"
      ]
     },
     "execution_count": 10,
     "metadata": {},
     "output_type": "execute_result"
    }
   ],
   "source": [
    "sampleByClusterDF_balanced=sampleByClusterDF.loc[PNP530_balancedAge_males+Cardio126_balancedAge_males,:].replace(0,np.nan)\n",
    "print sampleByClusterDF_binary_balanced.shape\n",
    "print sampleByClusterDF_balanced.shape\n",
    "sampleByClusterDF_balanced.iloc[:5,:5]"
   ]
  },
  {
   "cell_type": "code",
   "execution_count": 11,
   "metadata": {
    "ExecuteTime": {
     "end_time": "2019-02-21T09:59:56.339019Z",
     "start_time": "2019-02-21T09:59:53.029819Z"
    }
   },
   "outputs": [
    {
     "name": "stdout",
     "output_type": "stream",
     "text": [
      "('perc Shared is ', 0.25)\n",
      "('nShared_group1= ', 15.0)\n",
      "('n clusters shared by 15.0 or more samples in group1= ', 42100)\n",
      "('nShared_group2= ', 24.0)\n",
      "('n clusters shared by 24.0 or more samples in group2= ', 27810)\n",
      "('total number of clusters shared by more than 0.25 ', 45308)\n",
      "filtering out clusters that appear in more than 128.0 (0.85) samples\n",
      "('final matrix_perc shape is: ', (150, 45308))\n"
     ]
    }
   ],
   "source": [
    "matrix=sampleByClusterDF_binary_balanced\n",
    "sample_list1=PNP530_balancedAge_males\n",
    "sample_list2=Cardio126_balancedAge_males\n",
    "\n",
    "#get iscardio\n",
    "PRED_RESULTS_DIR='/net/mraid08/export/jafar/Microbiome/Analyses/ShaniBAF/predictions2/'\n",
    "isCardio=pd.read_pickle(PRED_RESULTS_DIR+'TargetDFs/isCardio.dat')\n",
    "\n",
    "#extract only sequences shared by x percent in one of the groups:\n",
    "matrix_025_085=filter_matrix_by_sharing_perc(matrix, sample_list1,sample_list2,percShared=0.25,percTooMany=0.85)\n",
    "\n",
    "#clustermap"
   ]
  },
  {
   "cell_type": "code",
   "execution_count": 24,
   "metadata": {
    "ExecuteTime": {
     "end_time": "2019-02-21T10:26:29.981195Z",
     "start_time": "2019-02-21T10:26:25.967009Z"
    }
   },
   "outputs": [
    {
     "name": "stdout",
     "output_type": "stream",
     "text": [
      "('perc Shared is ', 0.8)\n",
      "('nShared_group1= ', 46.0)\n",
      "('n clusters shared by 46.0 or more samples in group1= ', 176)\n",
      "('nShared_group2= ', 75.0)\n",
      "('n clusters shared by 75.0 or more samples in group2= ', 10)\n",
      "('total number of clusters shared by more than 0.8 ', 178)\n",
      "filtering out clusters that appear in more than 128.0 (0.85) samples\n",
      "('final matrix_perc shape is: ', (150, 178))\n"
     ]
    }
   ],
   "source": [
    "matrix=sampleByClusterDF_binary_balanced\n",
    "sample_list1=PNP530_balancedAge_males\n",
    "sample_list2=Cardio126_balancedAge_males\n",
    "\n",
    "#get iscardio\n",
    "PRED_RESULTS_DIR='/net/mraid08/export/jafar/Microbiome/Analyses/ShaniBAF/predictions2/'\n",
    "isCardio=pd.read_pickle(PRED_RESULTS_DIR+'TargetDFs/isCardio.dat')\n",
    "\n",
    "#extract only sequences shared by x percent in one of the groups:\n",
    "matrix_08_085=filter_matrix_by_sharing_perc(matrix, sample_list1,sample_list2,percShared=0.8,percTooMany=0.85)\n",
    "\n",
    "#clustermap"
   ]
  },
  {
   "cell_type": "code",
   "execution_count": 20,
   "metadata": {
    "ExecuteTime": {
     "end_time": "2019-02-21T10:15:35.162019Z",
     "start_time": "2019-02-21T10:13:40.376321Z"
    }
   },
   "outputs": [],
   "source": [
    "matrix_06_085_dc = matrix_06_085.apply(pd.to_numeric,downcast='float')"
   ]
  },
  {
   "cell_type": "code",
   "execution_count": 18,
   "metadata": {
    "ExecuteTime": {
     "end_time": "2019-02-21T10:11:36.275937Z",
     "start_time": "2019-02-21T10:11:36.254447Z"
    }
   },
   "outputs": [
    {
     "data": {
      "text/html": [
       "<div>\n",
       "<style scoped>\n",
       "    .dataframe tbody tr th:only-of-type {\n",
       "        vertical-align: middle;\n",
       "    }\n",
       "\n",
       "    .dataframe tbody tr th {\n",
       "        vertical-align: top;\n",
       "    }\n",
       "\n",
       "    .dataframe thead th {\n",
       "        text-align: right;\n",
       "    }\n",
       "</style>\n",
       "<table border=\"1\" class=\"dataframe\">\n",
       "  <thead>\n",
       "    <tr style=\"text-align: right;\">\n",
       "      <th></th>\n",
       "      <th>CSARLVAETQYF</th>\n",
       "      <th>CASSSSGVTGELFF</th>\n",
       "      <th>CASSDRGRDEQYF</th>\n",
       "      <th>CSVSGSQETQYF</th>\n",
       "      <th>CASSVTSGSSYEQYF</th>\n",
       "    </tr>\n",
       "  </thead>\n",
       "  <tbody>\n",
       "    <tr>\n",
       "      <th>BD801</th>\n",
       "      <td>1.0</td>\n",
       "      <td>NaN</td>\n",
       "      <td>NaN</td>\n",
       "      <td>1.0</td>\n",
       "      <td>NaN</td>\n",
       "    </tr>\n",
       "    <tr>\n",
       "      <th>BD221</th>\n",
       "      <td>NaN</td>\n",
       "      <td>1.0</td>\n",
       "      <td>NaN</td>\n",
       "      <td>NaN</td>\n",
       "      <td>1.0</td>\n",
       "    </tr>\n",
       "    <tr>\n",
       "      <th>BD631</th>\n",
       "      <td>NaN</td>\n",
       "      <td>NaN</td>\n",
       "      <td>NaN</td>\n",
       "      <td>NaN</td>\n",
       "      <td>NaN</td>\n",
       "    </tr>\n",
       "    <tr>\n",
       "      <th>BD441</th>\n",
       "      <td>NaN</td>\n",
       "      <td>NaN</td>\n",
       "      <td>1.0</td>\n",
       "      <td>NaN</td>\n",
       "      <td>NaN</td>\n",
       "    </tr>\n",
       "    <tr>\n",
       "      <th>BD834</th>\n",
       "      <td>NaN</td>\n",
       "      <td>NaN</td>\n",
       "      <td>NaN</td>\n",
       "      <td>NaN</td>\n",
       "      <td>NaN</td>\n",
       "    </tr>\n",
       "  </tbody>\n",
       "</table>\n",
       "</div>"
      ],
      "text/plain": [
       "       CSARLVAETQYF  CASSSSGVTGELFF  CASSDRGRDEQYF  CSVSGSQETQYF  CASSVTSGSSYEQYF\n",
       "BD801           1.0             NaN            NaN           1.0              NaN\n",
       "BD221           NaN             1.0            NaN           NaN              1.0\n",
       "BD631           NaN             NaN            NaN           NaN              NaN\n",
       "BD441           NaN             NaN            1.0           NaN              NaN\n",
       "BD834           NaN             NaN            NaN           NaN              NaN"
      ]
     },
     "execution_count": 18,
     "metadata": {},
     "output_type": "execute_result"
    }
   ],
   "source": [
    "matrix_06_085_dc.iloc[:5,:5]"
   ]
  },
  {
   "cell_type": "code",
   "execution_count": 25,
   "metadata": {
    "ExecuteTime": {
     "end_time": "2019-02-21T10:28:35.661512Z",
     "start_time": "2019-02-21T10:28:04.374654Z"
    }
   },
   "outputs": [
    {
     "ename": "MemoryError",
     "evalue": "",
     "output_type": "error",
     "traceback": [
      "\u001b[0;31m---------------------------------------------------------------------------\u001b[0m",
      "\u001b[0;31mMemoryError\u001b[0m                               Traceback (most recent call last)",
      "\u001b[0;32m<ipython-input-25-183c1cc39802>\u001b[0m in \u001b[0;36m<module>\u001b[0;34m()\u001b[0m\n\u001b[1;32m      2\u001b[0m g = sns.clustermap(matrix_08_085, method='average', metric='jaccard', figsize=None,\n\u001b[1;32m      3\u001b[0m                    \u001b[0mcbar_kws\u001b[0m\u001b[0;34m=\u001b[0m\u001b[0mNone\u001b[0m\u001b[0;34m,\u001b[0m \u001b[0mrow_cluster\u001b[0m\u001b[0;34m=\u001b[0m\u001b[0mTrue\u001b[0m\u001b[0;34m,\u001b[0m \u001b[0mcol_cluster\u001b[0m\u001b[0;34m=\u001b[0m\u001b[0mTrue\u001b[0m\u001b[0;34m,\u001b[0m \u001b[0mrow_linkage\u001b[0m\u001b[0;34m=\u001b[0m\u001b[0mNone\u001b[0m\u001b[0;34m,\u001b[0m\u001b[0;34m\u001b[0m\u001b[0m\n\u001b[0;32m----> 4\u001b[0;31m                    col_linkage=None, row_colors=None, col_colors=None, mask=None)\n\u001b[0m\u001b[1;32m      5\u001b[0m \u001b[0mplt\u001b[0m\u001b[0;34m.\u001b[0m\u001b[0mshow\u001b[0m\u001b[0;34m(\u001b[0m\u001b[0;34m)\u001b[0m\u001b[0;34m\u001b[0m\u001b[0m\n",
      "\u001b[0;32m/usr/wisdom/python/lib/python2.7/site-packages/seaborn/matrix.pyc\u001b[0m in \u001b[0;36mclustermap\u001b[0;34m(data, pivot_kws, method, metric, z_score, standard_scale, figsize, cbar_kws, row_cluster, col_cluster, row_linkage, col_linkage, row_colors, col_colors, mask, **kwargs)\u001b[0m\n\u001b[1;32m   1250\u001b[0m                         \u001b[0mrow_cluster\u001b[0m\u001b[0;34m=\u001b[0m\u001b[0mrow_cluster\u001b[0m\u001b[0;34m,\u001b[0m \u001b[0mcol_cluster\u001b[0m\u001b[0;34m=\u001b[0m\u001b[0mcol_cluster\u001b[0m\u001b[0;34m,\u001b[0m\u001b[0;34m\u001b[0m\u001b[0m\n\u001b[1;32m   1251\u001b[0m                         \u001b[0mrow_linkage\u001b[0m\u001b[0;34m=\u001b[0m\u001b[0mrow_linkage\u001b[0m\u001b[0;34m,\u001b[0m \u001b[0mcol_linkage\u001b[0m\u001b[0;34m=\u001b[0m\u001b[0mcol_linkage\u001b[0m\u001b[0;34m,\u001b[0m\u001b[0;34m\u001b[0m\u001b[0m\n\u001b[0;32m-> 1252\u001b[0;31m                         **kwargs)\n\u001b[0m",
      "\u001b[0;32m/usr/wisdom/python/lib/python2.7/site-packages/seaborn/matrix.pyc\u001b[0m in \u001b[0;36mplot\u001b[0;34m(self, metric, method, colorbar_kws, row_cluster, col_cluster, row_linkage, col_linkage, **kws)\u001b[0m\n\u001b[1;32m   1085\u001b[0m         \u001b[0mcolorbar_kws\u001b[0m \u001b[0;34m=\u001b[0m \u001b[0;34m{\u001b[0m\u001b[0;34m}\u001b[0m \u001b[0;32mif\u001b[0m \u001b[0mcolorbar_kws\u001b[0m \u001b[0;32mis\u001b[0m \u001b[0mNone\u001b[0m \u001b[0;32melse\u001b[0m \u001b[0mcolorbar_kws\u001b[0m\u001b[0;34m\u001b[0m\u001b[0m\n\u001b[1;32m   1086\u001b[0m         self.plot_dendrograms(row_cluster, col_cluster, metric, method,\n\u001b[0;32m-> 1087\u001b[0;31m                               row_linkage=row_linkage, col_linkage=col_linkage)\n\u001b[0m\u001b[1;32m   1088\u001b[0m         \u001b[0;32mtry\u001b[0m\u001b[0;34m:\u001b[0m\u001b[0;34m\u001b[0m\u001b[0m\n\u001b[1;32m   1089\u001b[0m             \u001b[0mxind\u001b[0m \u001b[0;34m=\u001b[0m \u001b[0mself\u001b[0m\u001b[0;34m.\u001b[0m\u001b[0mdendrogram_col\u001b[0m\u001b[0;34m.\u001b[0m\u001b[0mreordered_ind\u001b[0m\u001b[0;34m\u001b[0m\u001b[0m\n",
      "\u001b[0;32m/usr/wisdom/python/lib/python2.7/site-packages/seaborn/matrix.pyc\u001b[0m in \u001b[0;36mplot_dendrograms\u001b[0;34m(self, row_cluster, col_cluster, metric, method, row_linkage, col_linkage)\u001b[0m\n\u001b[1;32m    997\u001b[0m             self.dendrogram_col = dendrogram(\n\u001b[1;32m    998\u001b[0m                 \u001b[0mself\u001b[0m\u001b[0;34m.\u001b[0m\u001b[0mdata2d\u001b[0m\u001b[0;34m,\u001b[0m \u001b[0mmetric\u001b[0m\u001b[0;34m=\u001b[0m\u001b[0mmetric\u001b[0m\u001b[0;34m,\u001b[0m \u001b[0mmethod\u001b[0m\u001b[0;34m=\u001b[0m\u001b[0mmethod\u001b[0m\u001b[0;34m,\u001b[0m \u001b[0mlabel\u001b[0m\u001b[0;34m=\u001b[0m\u001b[0mFalse\u001b[0m\u001b[0;34m,\u001b[0m\u001b[0;34m\u001b[0m\u001b[0m\n\u001b[0;32m--> 999\u001b[0;31m                 axis=1, ax=self.ax_col_dendrogram, linkage=col_linkage)\n\u001b[0m\u001b[1;32m   1000\u001b[0m         \u001b[0;32melse\u001b[0m\u001b[0;34m:\u001b[0m\u001b[0;34m\u001b[0m\u001b[0m\n\u001b[1;32m   1001\u001b[0m             \u001b[0mself\u001b[0m\u001b[0;34m.\u001b[0m\u001b[0max_col_dendrogram\u001b[0m\u001b[0;34m.\u001b[0m\u001b[0mset_xticks\u001b[0m\u001b[0;34m(\u001b[0m\u001b[0;34m[\u001b[0m\u001b[0;34m]\u001b[0m\u001b[0;34m)\u001b[0m\u001b[0;34m\u001b[0m\u001b[0m\n",
      "\u001b[0;32m/usr/wisdom/python/lib/python2.7/site-packages/seaborn/matrix.pyc\u001b[0m in \u001b[0;36mdendrogram\u001b[0;34m(data, linkage, axis, label, metric, method, rotate, ax)\u001b[0m\n\u001b[1;32m    715\u001b[0m     plotter = _DendrogramPlotter(data, linkage=linkage, axis=axis,\n\u001b[1;32m    716\u001b[0m                                  \u001b[0mmetric\u001b[0m\u001b[0;34m=\u001b[0m\u001b[0mmetric\u001b[0m\u001b[0;34m,\u001b[0m \u001b[0mmethod\u001b[0m\u001b[0;34m=\u001b[0m\u001b[0mmethod\u001b[0m\u001b[0;34m,\u001b[0m\u001b[0;34m\u001b[0m\u001b[0m\n\u001b[0;32m--> 717\u001b[0;31m                                  label=label, rotate=rotate)\n\u001b[0m\u001b[1;32m    718\u001b[0m     \u001b[0;32mif\u001b[0m \u001b[0max\u001b[0m \u001b[0;32mis\u001b[0m \u001b[0mNone\u001b[0m\u001b[0;34m:\u001b[0m\u001b[0;34m\u001b[0m\u001b[0m\n\u001b[1;32m    719\u001b[0m         \u001b[0max\u001b[0m \u001b[0;34m=\u001b[0m \u001b[0mplt\u001b[0m\u001b[0;34m.\u001b[0m\u001b[0mgca\u001b[0m\u001b[0;34m(\u001b[0m\u001b[0;34m)\u001b[0m\u001b[0;34m\u001b[0m\u001b[0m\n",
      "\u001b[0;32m/usr/wisdom/python/lib/python2.7/site-packages/seaborn/matrix.pyc\u001b[0m in \u001b[0;36m__init__\u001b[0;34m(self, data, linkage, metric, method, axis, label, rotate)\u001b[0m\n\u001b[1;32m    530\u001b[0m \u001b[0;34m\u001b[0m\u001b[0m\n\u001b[1;32m    531\u001b[0m         \u001b[0;32mif\u001b[0m \u001b[0mlinkage\u001b[0m \u001b[0;32mis\u001b[0m \u001b[0mNone\u001b[0m\u001b[0;34m:\u001b[0m\u001b[0;34m\u001b[0m\u001b[0m\n\u001b[0;32m--> 532\u001b[0;31m             \u001b[0mself\u001b[0m\u001b[0;34m.\u001b[0m\u001b[0mlinkage\u001b[0m \u001b[0;34m=\u001b[0m \u001b[0mself\u001b[0m\u001b[0;34m.\u001b[0m\u001b[0mcalculated_linkage\u001b[0m\u001b[0;34m\u001b[0m\u001b[0m\n\u001b[0m\u001b[1;32m    533\u001b[0m         \u001b[0;32melse\u001b[0m\u001b[0;34m:\u001b[0m\u001b[0;34m\u001b[0m\u001b[0m\n\u001b[1;32m    534\u001b[0m             \u001b[0mself\u001b[0m\u001b[0;34m.\u001b[0m\u001b[0mlinkage\u001b[0m \u001b[0;34m=\u001b[0m \u001b[0mlinkage\u001b[0m\u001b[0;34m\u001b[0m\u001b[0m\n",
      "\u001b[0;32m/usr/wisdom/python/lib/python2.7/site-packages/seaborn/matrix.pyc\u001b[0m in \u001b[0;36mcalculated_linkage\u001b[0;34m(self)\u001b[0m\n\u001b[1;32m    597\u001b[0m             \u001b[0;32mreturn\u001b[0m \u001b[0mself\u001b[0m\u001b[0;34m.\u001b[0m\u001b[0m_calculate_linkage_fastcluster\u001b[0m\u001b[0;34m(\u001b[0m\u001b[0;34m)\u001b[0m\u001b[0;34m\u001b[0m\u001b[0m\n\u001b[1;32m    598\u001b[0m         \u001b[0;32mexcept\u001b[0m \u001b[0mImportError\u001b[0m\u001b[0;34m:\u001b[0m\u001b[0;34m\u001b[0m\u001b[0m\n\u001b[0;32m--> 599\u001b[0;31m             \u001b[0;32mreturn\u001b[0m \u001b[0mself\u001b[0m\u001b[0;34m.\u001b[0m\u001b[0m_calculate_linkage_scipy\u001b[0m\u001b[0;34m(\u001b[0m\u001b[0;34m)\u001b[0m\u001b[0;34m\u001b[0m\u001b[0m\n\u001b[0m\u001b[1;32m    600\u001b[0m \u001b[0;34m\u001b[0m\u001b[0m\n\u001b[1;32m    601\u001b[0m     \u001b[0;32mdef\u001b[0m \u001b[0mcalculate_dendrogram\u001b[0m\u001b[0;34m(\u001b[0m\u001b[0mself\u001b[0m\u001b[0;34m)\u001b[0m\u001b[0;34m:\u001b[0m\u001b[0;34m\u001b[0m\u001b[0m\n",
      "\u001b[0;32m/usr/wisdom/python/lib/python2.7/site-packages/seaborn/matrix.pyc\u001b[0m in \u001b[0;36m_calculate_linkage_scipy\u001b[0;34m(self)\u001b[0m\n\u001b[1;32m    569\u001b[0m                         '\"pip install fastcluster\")')\n\u001b[1;32m    570\u001b[0m \u001b[0;34m\u001b[0m\u001b[0m\n\u001b[0;32m--> 571\u001b[0;31m         \u001b[0mpairwise_dists\u001b[0m \u001b[0;34m=\u001b[0m \u001b[0mdistance\u001b[0m\u001b[0;34m.\u001b[0m\u001b[0mpdist\u001b[0m\u001b[0;34m(\u001b[0m\u001b[0mself\u001b[0m\u001b[0;34m.\u001b[0m\u001b[0marray\u001b[0m\u001b[0;34m,\u001b[0m \u001b[0mmetric\u001b[0m\u001b[0;34m=\u001b[0m\u001b[0mself\u001b[0m\u001b[0;34m.\u001b[0m\u001b[0mmetric\u001b[0m\u001b[0;34m)\u001b[0m\u001b[0;34m\u001b[0m\u001b[0m\n\u001b[0m\u001b[1;32m    572\u001b[0m         \u001b[0mlinkage\u001b[0m \u001b[0;34m=\u001b[0m \u001b[0mhierarchy\u001b[0m\u001b[0;34m.\u001b[0m\u001b[0mlinkage\u001b[0m\u001b[0;34m(\u001b[0m\u001b[0mpairwise_dists\u001b[0m\u001b[0;34m,\u001b[0m \u001b[0mmethod\u001b[0m\u001b[0;34m=\u001b[0m\u001b[0mself\u001b[0m\u001b[0;34m.\u001b[0m\u001b[0mmethod\u001b[0m\u001b[0;34m)\u001b[0m\u001b[0;34m\u001b[0m\u001b[0m\n\u001b[1;32m    573\u001b[0m         \u001b[0;32mdel\u001b[0m \u001b[0mpairwise_dists\u001b[0m\u001b[0;34m\u001b[0m\u001b[0m\n",
      "\u001b[0;32m/usr/wisdom/python/lib/python2.7/site-packages/scipy/spatial/distance.pyc\u001b[0m in \u001b[0;36mpdist\u001b[0;34m(X, metric, *args, **kwargs)\u001b[0m\n\u001b[1;32m   1875\u001b[0m     \u001b[0mout\u001b[0m \u001b[0;34m=\u001b[0m \u001b[0mkwargs\u001b[0m\u001b[0;34m.\u001b[0m\u001b[0mpop\u001b[0m\u001b[0;34m(\u001b[0m\u001b[0;34m\"out\"\u001b[0m\u001b[0;34m,\u001b[0m \u001b[0mNone\u001b[0m\u001b[0;34m)\u001b[0m\u001b[0;34m\u001b[0m\u001b[0m\n\u001b[1;32m   1876\u001b[0m     \u001b[0;32mif\u001b[0m \u001b[0mout\u001b[0m \u001b[0;32mis\u001b[0m \u001b[0mNone\u001b[0m\u001b[0;34m:\u001b[0m\u001b[0;34m\u001b[0m\u001b[0m\n\u001b[0;32m-> 1877\u001b[0;31m         \u001b[0mdm\u001b[0m \u001b[0;34m=\u001b[0m \u001b[0mnp\u001b[0m\u001b[0;34m.\u001b[0m\u001b[0mempty\u001b[0m\u001b[0;34m(\u001b[0m\u001b[0;34m(\u001b[0m\u001b[0mm\u001b[0m \u001b[0;34m*\u001b[0m \u001b[0;34m(\u001b[0m\u001b[0mm\u001b[0m \u001b[0;34m-\u001b[0m \u001b[0;36m1\u001b[0m\u001b[0;34m)\u001b[0m\u001b[0;34m)\u001b[0m \u001b[0;34m//\u001b[0m \u001b[0;36m2\u001b[0m\u001b[0;34m,\u001b[0m \u001b[0mdtype\u001b[0m\u001b[0;34m=\u001b[0m\u001b[0mnp\u001b[0m\u001b[0;34m.\u001b[0m\u001b[0mdouble\u001b[0m\u001b[0;34m)\u001b[0m\u001b[0;34m\u001b[0m\u001b[0m\n\u001b[0m\u001b[1;32m   1878\u001b[0m     \u001b[0;32melse\u001b[0m\u001b[0;34m:\u001b[0m\u001b[0;34m\u001b[0m\u001b[0m\n\u001b[1;32m   1879\u001b[0m         \u001b[0;32mif\u001b[0m \u001b[0mout\u001b[0m\u001b[0;34m.\u001b[0m\u001b[0mshape\u001b[0m \u001b[0;34m!=\u001b[0m \u001b[0;34m(\u001b[0m\u001b[0mm\u001b[0m \u001b[0;34m*\u001b[0m \u001b[0;34m(\u001b[0m\u001b[0mm\u001b[0m \u001b[0;34m-\u001b[0m \u001b[0;36m1\u001b[0m\u001b[0;34m)\u001b[0m \u001b[0;34m//\u001b[0m \u001b[0;36m2\u001b[0m\u001b[0;34m,\u001b[0m\u001b[0;34m)\u001b[0m\u001b[0;34m:\u001b[0m\u001b[0;34m\u001b[0m\u001b[0m\n",
      "\u001b[0;31mMemoryError\u001b[0m: "
     ]
    }
   ],
   "source": [
    "#plot clustermap:\n",
    "g = sns.clustermap(matrix_08_085, method='average', metric='jaccard', figsize=None,\n",
    "                   cbar_kws=None, row_cluster=True, col_cluster=True, row_linkage=None,\n",
    "                   col_linkage=None, row_colors=None, col_colors=None, mask=None)\n",
    "plt.show()"
   ]
  },
  {
   "cell_type": "code",
   "execution_count": null,
   "metadata": {},
   "outputs": [],
   "source": []
  },
  {
   "cell_type": "code",
   "execution_count": null,
   "metadata": {
    "ExecuteTime": {
     "end_time": "2019-02-21T09:43:58.244319Z",
     "start_time": "2019-02-21T09:43:46.755356Z"
    }
   },
   "outputs": [],
   "source": [
    "#get cluster binary matrix\n",
    "matrix=sampleByClusterDF_binary_balanced\n",
    "sample_list1=PNP530_balancedAge_males\n",
    "sample_list2=Cardio126_balancedAge_males\n",
    "\n",
    "#get iscardio\n",
    "PRED_RESULTS_DIR='/net/mraid08/export/jafar/Microbiome/Analyses/ShaniBAF/predictions2/'\n",
    "isCardio=pd.read_pickle(PRED_RESULTS_DIR+'TargetDFs/isCardio.dat')\n",
    "\n",
    "#extract only sequences shared by x percent in one of the groups:\n",
    "matrix_01_09=filter_matrix_by_sharing_perc(matrix, sample_list1,sample_list2,percShared=0.1,percTooMany=0.9)\n",
    "\n",
    "#clustermap"
   ]
  },
  {
   "cell_type": "code",
   "execution_count": null,
   "metadata": {},
   "outputs": [],
   "source": []
  },
  {
   "cell_type": "markdown",
   "metadata": {},
   "source": [
    "# old stuff:"
   ]
  },
  {
   "cell_type": "markdown",
   "metadata": {},
   "source": [
    "## function from Noam:"
   ]
  },
  {
   "cell_type": "code",
   "execution_count": null,
   "metadata": {
    "ExecuteTime": {
     "end_time": "2019-02-13T18:30:14.012657Z",
     "start_time": "2019-02-13T18:30:09.534604Z"
    }
   },
   "outputs": [],
   "source": [
    "!pip install tqdm"
   ]
  },
  {
   "cell_type": "code",
   "execution_count": null,
   "metadata": {
    "ExecuteTime": {
     "end_time": "2019-01-20T16:26:51.953097Z",
     "start_time": "2019-01-20T16:26:51.893958Z"
    }
   },
   "outputs": [],
   "source": [
    "def PCoA_analysis(base_data, rest_data, save2path=None, distance_method='BrayCurtis', do_binary=False):\n",
    "    \n",
    "    from datetime import datetime\n",
    "    from skbio.stats.ordination._principal_coordinate_analysis import PCoA\n",
    "    from scipy.spatial.distance import braycurtis, pdist, squareform, euclidean, cdist,jaccard\n",
    "    \n",
    "    print (\"PCoA_analysis\", str(datetime.now()))\n",
    "    # add check for distance method\n",
    "    distance_dict = {'BrayCurtis':braycurtis, 'Euclidean':pdist,'jaccard':jaccard}\n",
    "    if distance_method not in distance_dict:\n",
    "        print (\"distance_method must be one of: \" + \", \".join(distance_method.keys()))\n",
    "        return\n",
    "    # concat dataframes\n",
    "    joined_data = pd.concat((base_data, rest_data), axis=1).dropna(how='all').fillna(0)\n",
    "    # compute distance matries\n",
    "    print (\"Computing \" + distance_method + \" distances between samples. For datasets with many elements this will take a while.\")\n",
    "    dis_mat = compute_distance_matrix(joined_data, distance_meausere=BrayCurtis, do_binary=do_binary, transpose=False)\n",
    "    temp_dis = DistanceMatrix(dis_mat.values, dis_mat.index)\n",
    "    pcoa = PCoA(temp_dis)\n",
    "    pcoa_df = pd.DataFrame(pcoa.scores().site, index=temp_dis.ids, columns=range(pcoa.scores().site.shape[1]))\n",
    "\n",
    "    plt.figure(figsize=(12,8))\n",
    "    plt.scatter(pcoa_df.loc[base_data.columns, 0], pcoa_df.loc[base_data.columns, 1], color='blue', alpha=0.5, s=50, label='base')\n",
    "    plt.scatter(pcoa_df.loc[rest_data.columns, 0], pcoa_df.loc[rest_data.columns, 1], color='red', alpha=0.5, s=50, label='rest')\n",
    "    plt.title('PCoA', fontsize=30)\n",
    "    plt.xlabel('PC1 - %0.2f' % pcoa.scores().proportion_explained[0], fontsize=20)\n",
    "    plt.ylabel('PC2 - %0.2f' % pcoa.scores().proportion_explained[1], fontsize=20)\n",
    "    plt.xticks(fontsize=15)\n",
    "    plt.yticks(fontsize=15)\n",
    "    plt.legend(loc='upper right', fontsize=20)\n",
    "    if save2path is not None:\n",
    "        plt.savefig(save2path + 'PCoA_pc1-pc2.png', bbox_inches='tight')\n",
    "    plt.show()\n",
    "\n",
    "    mw_p = []\n",
    "    for i in range(10):\n",
    "        mw_p.append(directed_mannwhitneyu(pcoa_df.loc[base_data.columns, i], pcoa_df.loc[rest_data.columns, i])[1])\n",
    "    mw_p= -np.log10(np.array(mw_p))\n",
    "    plt.plot(range(1,11), mw_p, 'o',  range(1,11), mw_p, 'k')\n",
    "    plt.xlabel('PC', fontsize=15)\n",
    "    plt.ylabel('Mann-Whitney p-value [-log10]', fontsize=15)\n",
    "    plt.title('PCoA - Association of PC to dataset', fontsize=20)\n",
    "    if save2path is not None:\n",
    "        plt.savefig(save2path + 'mann_whitney-pc.png', bbox_inches='tight')\n",
    "    plt.show()\n",
    "    return"
   ]
  },
  {
   "cell_type": "code",
   "execution_count": null,
   "metadata": {
    "ExecuteTime": {
     "end_time": "2019-02-21T07:47:35.707004Z",
     "start_time": "2019-02-21T07:47:35.685536Z"
    }
   },
   "outputs": [],
   "source": [
    "def compute_distance_matrix(samps_by_features, distance_meausere, do_binary = False, \n",
    "                            check_for_na=False, transpose=True):\n",
    "    if transpose:\n",
    "        A = samps_by_features.T.copy()\n",
    "    else:\n",
    "        A = samps_by_features.copy()\n",
    "    temp_res = pd.DataFrame(1, index=A.columns, columns=A.columns, dtype=np.float64)\n",
    "    A = A.values\n",
    "    if do_binary:\n",
    "        A[A>0] = 1\n",
    "  \n",
    "#     quants = A.shape[1] / 10\n",
    "        \n",
    "    for i in tnrange(A.shape[1], desc='distance matrix computation'):\n",
    "        a = A[:,i]\n",
    "        vals = []\n",
    "#         if i % quants == 0:\n",
    "#             print (str(10 * i/quants) + '%')\n",
    "        for j in range(A.shape[1]):\n",
    "            b = A[:,j]\n",
    "            val = None\n",
    "            if check_for_na:\n",
    "                c = ~np.isnan(a) & ~np.isnan(b)\n",
    "                val = distance_meausere(np.stack((a[c],b[c]),axis=1).T)\n",
    "            else:\n",
    "                val = distance_meausere(np.stack((a,b),axis=1).T)\n",
    "            vals.append(val)\n",
    "        temp_res.iloc[i,:] = vals\n",
    "    return temp_res"
   ]
  },
  {
   "cell_type": "code",
   "execution_count": null,
   "metadata": {
    "ExecuteTime": {
     "end_time": "2019-01-20T16:20:46.446419Z",
     "start_time": "2019-01-20T16:20:45.316770Z"
    }
   },
   "outputs": [],
   "source": [
    "base_data=sampleByClusterDF.loc[PNP530,:]\n",
    "rest_data=sampleByClusterDF.loc[Cardio126,:]\n",
    "\n"
   ]
  },
  {
   "cell_type": "code",
   "execution_count": null,
   "metadata": {
    "ExecuteTime": {
     "end_time": "2019-01-20T16:30:32.829555Z",
     "start_time": "2019-01-20T16:29:58.706746Z"
    }
   },
   "outputs": [],
   "source": [
    "PCoA_analysis(base_data, rest_data, save2path=None, distance_method='Euclidean', do_binary=False)"
   ]
  },
  {
   "cell_type": "code",
   "execution_count": null,
   "metadata": {},
   "outputs": [],
   "source": []
  }
 ],
 "metadata": {
  "kernelspec": {
   "display_name": "Python 2",
   "language": "python",
   "name": "python2"
  },
  "language_info": {
   "codemirror_mode": {
    "name": "ipython",
    "version": 2
   },
   "file_extension": ".py",
   "mimetype": "text/x-python",
   "name": "python",
   "nbconvert_exporter": "python",
   "pygments_lexer": "ipython2",
   "version": "2.7.8"
  },
  "toc": {
   "nav_menu": {},
   "number_sections": true,
   "sideBar": false,
   "skip_h1_title": false,
   "toc_cell": false,
   "toc_position": {
    "height": "585px",
    "left": "0.988636px",
    "right": "1533.47px",
    "top": "135px",
    "width": "192px"
   },
   "toc_section_display": "block",
   "toc_window_display": true
  },
  "varInspector": {
   "cols": {
    "lenName": 16,
    "lenType": 16,
    "lenVar": 40
   },
   "kernels_config": {
    "python": {
     "delete_cmd_postfix": "",
     "delete_cmd_prefix": "del ",
     "library": "var_list.py",
     "varRefreshCmd": "print(var_dic_list())"
    },
    "r": {
     "delete_cmd_postfix": ") ",
     "delete_cmd_prefix": "rm(",
     "library": "var_list.r",
     "varRefreshCmd": "cat(var_dic_list()) "
    }
   },
   "types_to_exclude": [
    "module",
    "function",
    "builtin_function_or_method",
    "instance",
    "_Feature"
   ],
   "window_display": false
  }
 },
 "nbformat": 4,
 "nbformat_minor": 2
}
