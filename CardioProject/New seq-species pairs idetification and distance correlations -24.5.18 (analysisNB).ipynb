{
 "cells": [
  {
   "cell_type": "markdown",
   "metadata": {},
   "source": [
    "# IMPORTS:"
   ]
  },
  {
   "cell_type": "code",
   "execution_count": 1,
   "metadata": {
    "ExecuteTime": {
     "end_time": "2018-05-30T20:36:43.678457Z",
     "start_time": "2018-05-30T20:36:38.190034Z"
    }
   },
   "outputs": [
    {
     "name": "stdout",
     "output_type": "stream",
     "text": [
      "done1\n",
      "stop\n",
      "stop\n",
      "done1\n",
      "stop\n",
      "done\n",
      "done\n"
     ]
    }
   ],
   "source": [
    "from os import listdir,mkdir,makedirs\n",
    "from os.path import isfile, join, isdir,exists\n",
    "import pandas as pd\n",
    "import numpy as np\n",
    "from scipy import stats\n",
    "import re\n",
    "import matplotlib.pyplot as plt\n",
    "from matplotlib.backends.backend_pdf import PdfPages\n",
    "from myplots import roundup, rounddown, find_decimal_fold, percentile_cut_off, rarefaction_calc, rarefaction_plot,draw_correlation_scatter\n",
    "from matplotlib.ticker import FormatStrFormatter\n",
    "import cPickle as pickle\n",
    "from Bio.SeqUtils import GC\n",
    "import seaborn as sns\n",
    "import random\n",
    "from scipy.stats import pearsonr,fisher_exact\n",
    "from skbio.diversity.alpha import shannon, simpson, berger_parker_d\n",
    "\n",
    "from pop_organize import get_sample_data, get_sample_with_dfs\n",
    "from SufficientStatistics import *\n",
    "from MyFunctionsShani import *\n",
    "import math\n",
    "from myplots import roundup, rounddown, find_decimal_fold\n",
    "from skbio.stats.distance import mantel\n",
    "from scipy.spatial.distance import braycurtis, pdist,squareform\n",
    "from GeneralFeaturePhenotypeInteractions.Feature_phenotype_functions import * \n",
    "from TCR_microbiome_interactions.TCR_microbiome_interactions_functions import *\n",
    "from SampleLists.SampleFileFunctions import *\n",
    "\n",
    "import os\n",
    "from Utils import cacheOnDisk\n",
    "from queue.qp import qp,fakeqp\n",
    "from addloglevels import sethandlers\n",
    "\n",
    "MyPath='/net/mraid08/export/genie/Lab/Personal/ShaniBAF'"
   ]
  },
  {
   "cell_type": "code",
   "execution_count": 2,
   "metadata": {
    "ExecuteTime": {
     "end_time": "2018-05-30T20:36:44.987031Z",
     "start_time": "2018-05-30T20:36:44.976689Z"
    }
   },
   "outputs": [
    {
     "data": {
      "text/plain": [
       "'30052018'"
      ]
     },
     "execution_count": 2,
     "metadata": {},
     "output_type": "execute_result"
    }
   ],
   "source": [
    "import time\n",
    "cdate=str(time.strftime(\"%d%m%Y\"))\n",
    "cdate"
   ]
  },
  {
   "cell_type": "code",
   "execution_count": null,
   "metadata": {},
   "outputs": [],
   "source": []
  },
  {
   "cell_type": "markdown",
   "metadata": {},
   "source": [
    "# PREPARE SEQUENCE MATRIX for distance correlation analysis:"
   ]
  },
  {
   "cell_type": "code",
   "execution_count": 6,
   "metadata": {
    "ExecuteTime": {
     "end_time": "2018-05-30T20:36:59.839442Z",
     "start_time": "2018-05-30T20:36:59.834232Z"
    }
   },
   "outputs": [],
   "source": [
    "#define parameters:\n",
    "\n",
    "datasetName='PNP515_ss15000_rep2'\n",
    "dataset_folder='%s/TCR_real_data/SubSampled15000data_rep2' %MyPath #change as necessary\n",
    "minNshared=2\n",
    "onlyProductive=True\n",
    "\n"
   ]
  },
  {
   "cell_type": "code",
   "execution_count": null,
   "metadata": {
    "ExecuteTime": {
     "end_time": "2018-05-27T16:34:16.006714Z",
     "start_time": "2018-05-27T16:34:14.598619Z"
    }
   },
   "outputs": [],
   "source": [
    "# check if the desired shared seq matrix exist and if not - generate it:\n",
    "\n",
    "file1='%s/sharingAnalysis/sharingMatrix_%s_minNshared%s_RA_onlyProductive%s' %(dataset_folder,datasetName,minNshared,\n",
    "                                                                               onlyProductive)\n",
    "                                                                                 \n",
    "\n",
    "if isfile(file1):\n",
    "    print 'loading TCRdfRA...'\n",
    "    TCRdfRA=pd.read_pickle(file1)\n",
    "else:\n",
    "    print 'generating TCRdfRA file...'\n",
    "    print 'minNshared=%s' %minNshared\n",
    "    print 'data set name = %s' %datasetName\n",
    "    print 'only Productive = %s' %onlyProductive  \n",
    "    minNsharedList=list(minNshared)\n",
    "    gen_sharingMatrix_perDataset(datasetName,dataset_folder,minNsharedList,extractUniqueAA=True,\n",
    "                                 getSharingStatistics=True,onlyProductive=onlyProductive)\n",
    "\n"
   ]
  },
  {
   "cell_type": "code",
   "execution_count": null,
   "metadata": {
    "ExecuteTime": {
     "end_time": "2018-05-27T16:34:16.123725Z",
     "start_time": "2018-05-27T16:34:16.009424Z"
    }
   },
   "outputs": [],
   "source": [
    "TCRdfRA.head()"
   ]
  },
  {
   "cell_type": "markdown",
   "metadata": {},
   "source": [
    "## divide by 100 to get relative abundances and not percentage:"
   ]
  },
  {
   "cell_type": "code",
   "execution_count": null,
   "metadata": {
    "ExecuteTime": {
     "end_time": "2018-05-27T16:34:18.865311Z",
     "start_time": "2018-05-27T16:34:16.126169Z"
    }
   },
   "outputs": [],
   "source": [
    "TCRdfRA.sum().sum()"
   ]
  },
  {
   "cell_type": "code",
   "execution_count": null,
   "metadata": {
    "ExecuteTime": {
     "end_time": "2018-05-27T16:34:19.017420Z",
     "start_time": "2018-05-27T16:34:18.868240Z"
    }
   },
   "outputs": [],
   "source": [
    "TCRdfRA=TCRdfRA.div(100)"
   ]
  },
  {
   "cell_type": "code",
   "execution_count": null,
   "metadata": {
    "ExecuteTime": {
     "end_time": "2018-05-27T16:34:22.775597Z",
     "start_time": "2018-05-27T16:34:19.020111Z"
    }
   },
   "outputs": [],
   "source": [
    "TCRdfRA.sum().sum()"
   ]
  },
  {
   "cell_type": "markdown",
   "metadata": {},
   "source": [
    "## normalize the TCRdf"
   ]
  },
  {
   "cell_type": "code",
   "execution_count": null,
   "metadata": {
    "ExecuteTime": {
     "end_time": "2018-05-28T11:30:24.824704Z",
     "start_time": "2018-05-28T11:30:21.326018Z"
    }
   },
   "outputs": [],
   "source": [
    "TCRdfRA.sum().sum()"
   ]
  },
  {
   "cell_type": "code",
   "execution_count": null,
   "metadata": {
    "ExecuteTime": {
     "end_time": "2018-05-28T11:35:22.864336Z",
     "start_time": "2018-05-28T11:35:19.382605Z"
    }
   },
   "outputs": [],
   "source": [
    "normTCRdfRA=TCRdfRA.div(TCRdfRA.sum(axis=1),axis=0)"
   ]
  },
  {
   "cell_type": "code",
   "execution_count": null,
   "metadata": {
    "ExecuteTime": {
     "end_time": "2018-05-28T11:39:47.564874Z",
     "start_time": "2018-05-28T11:39:43.597970Z"
    }
   },
   "outputs": [],
   "source": [
    "normTCRdfRA.sum(axis=1).head()"
   ]
  },
  {
   "cell_type": "code",
   "execution_count": null,
   "metadata": {
    "ExecuteTime": {
     "end_time": "2018-05-28T11:37:06.703635Z",
     "start_time": "2018-05-28T11:36:55.788725Z"
    }
   },
   "outputs": [],
   "source": [
    "file2='%s/sharingAnalysis/sharingMatrix_%s_minNshared%s_RA_onlyProductive%s_normed' %(dataset_folder,datasetName,minNshared,\n",
    "                                                                               onlyProductive)\n",
    "normTCRdfRA.to_pickle(file2)"
   ]
  },
  {
   "cell_type": "markdown",
   "metadata": {},
   "source": [
    "## only more than 1 copy:"
   ]
  },
  {
   "cell_type": "code",
   "execution_count": null,
   "metadata": {
    "ExecuteTime": {
     "end_time": "2018-05-28T11:41:34.501485Z",
     "start_time": "2018-05-28T11:41:27.131364Z"
    }
   },
   "outputs": [],
   "source": [
    "TCRdfRA[TCRdfRA>0].min().min()"
   ]
  },
  {
   "cell_type": "code",
   "execution_count": null,
   "metadata": {
    "ExecuteTime": {
     "end_time": "2018-05-28T11:42:58.189318Z",
     "start_time": "2018-05-28T11:42:49.173701Z"
    }
   },
   "outputs": [],
   "source": [
    "TCRdfRA2copies=TCRdfRA.replace(TCRdfRA[TCRdfRA>0].min().min(),0)"
   ]
  },
  {
   "cell_type": "code",
   "execution_count": null,
   "metadata": {
    "ExecuteTime": {
     "end_time": "2018-05-28T11:45:35.948928Z",
     "start_time": "2018-05-28T11:44:51.029921Z"
    }
   },
   "outputs": [],
   "source": [
    "checkShared=TCRdfRA2copies.apply(lambda x: True if len([i for i in x if i>0])>1 else False)\n",
    "shared=checkShared[checkShared]\n",
    "sharedTCRdfRA2copies=TCRdfRA2copies[shared.index]\n",
    "print sharedTCRdfRA2copies.shape\n",
    "sharedTCRdfRA2copies.head()"
   ]
  },
  {
   "cell_type": "code",
   "execution_count": null,
   "metadata": {
    "ExecuteTime": {
     "end_time": "2018-05-28T11:47:15.218597Z",
     "start_time": "2018-05-28T11:47:14.255976Z"
    }
   },
   "outputs": [],
   "source": [
    "file3='%s/sharingAnalysis/sharingMatrix_%s_minNshared%s_RA_onlyProductive%s_2copiesshared' %(dataset_folder,datasetName,minNshared,\n",
    "                                                                               onlyProductive)\n",
    "sharedTCRdfRA2copies.to_pickle(file3)"
   ]
  },
  {
   "cell_type": "code",
   "execution_count": null,
   "metadata": {
    "ExecuteTime": {
     "end_time": "2018-05-28T11:48:49.690614Z",
     "start_time": "2018-05-28T11:48:49.516086Z"
    }
   },
   "outputs": [],
   "source": [
    "TCRdfRA2copiesshared_normed=sharedTCRdfRA2copies.div(sharedTCRdfRA2copies.sum(axis=1),axis=0)"
   ]
  },
  {
   "cell_type": "code",
   "execution_count": null,
   "metadata": {
    "ExecuteTime": {
     "end_time": "2018-05-28T11:50:28.306992Z",
     "start_time": "2018-05-28T11:50:28.167748Z"
    }
   },
   "outputs": [],
   "source": [
    "TCRdfRA2copiesshared_normed.sum(axis=1).head()"
   ]
  },
  {
   "cell_type": "code",
   "execution_count": null,
   "metadata": {
    "ExecuteTime": {
     "end_time": "2018-05-28T11:52:05.310777Z",
     "start_time": "2018-05-28T11:52:04.346020Z"
    }
   },
   "outputs": [],
   "source": [
    "file2='%s/sharingAnalysis/sharingMatrix_%s_minNshared%s_RA_onlyProductive%s_2copiesshared_normed' %(dataset_folder,datasetName,minNshared,\n",
    "                                                                               onlyProductive)\n",
    "TCRdfRA2copiesshared_normed.to_pickle(file2)"
   ]
  },
  {
   "cell_type": "markdown",
   "metadata": {},
   "source": [
    "## no capping was done\n",
    "the minimal freq possible is 0.000067 (1/150000). "
   ]
  },
  {
   "cell_type": "markdown",
   "metadata": {},
   "source": [
    "## remove outliers (std>5)"
   ]
  },
  {
   "cell_type": "code",
   "execution_count": null,
   "metadata": {
    "ExecuteTime": {
     "end_time": "2018-05-27T16:34:22.780748Z",
     "start_time": "2018-05-27T16:34:22.778040Z"
    }
   },
   "outputs": [],
   "source": [
    "# TrimmedTCRdf=filter_outliers(df=TCRdfRA,outlierSTD=5,columnList=None,trim=True)"
   ]
  },
  {
   "cell_type": "code",
   "execution_count": null,
   "metadata": {
    "ExecuteTime": {
     "end_time": "2018-05-27T16:34:22.791573Z",
     "start_time": "2018-05-27T16:34:22.783071Z"
    }
   },
   "outputs": [],
   "source": [
    "# TCRdfRA.sum().sum()"
   ]
  },
  {
   "cell_type": "code",
   "execution_count": null,
   "metadata": {
    "ExecuteTime": {
     "end_time": "2018-05-27T16:34:22.806146Z",
     "start_time": "2018-05-27T16:34:22.793784Z"
    }
   },
   "outputs": [],
   "source": [
    "# TrimmedTCRdf.sum().sum()"
   ]
  },
  {
   "cell_type": "code",
   "execution_count": null,
   "metadata": {
    "ExecuteTime": {
     "end_time": "2018-05-27T16:34:22.815459Z",
     "start_time": "2018-05-27T16:34:22.808494Z"
    }
   },
   "outputs": [],
   "source": [
    "# TrimmedTCRdf.sum().sum()"
   ]
  },
  {
   "cell_type": "code",
   "execution_count": null,
   "metadata": {
    "ExecuteTime": {
     "end_time": "2018-05-27T16:34:23.037399Z",
     "start_time": "2018-05-27T16:34:22.817644Z"
    }
   },
   "outputs": [],
   "source": [
    "#TrimmedTCRdf.head()"
   ]
  },
  {
   "cell_type": "code",
   "execution_count": null,
   "metadata": {
    "ExecuteTime": {
     "end_time": "2018-05-27T16:34:23.038757Z",
     "start_time": "2018-05-27T16:34:12.383Z"
    }
   },
   "outputs": [],
   "source": [
    "# TrimmedTCRdf.index=TCRdfRA.index\n",
    "# TrimmedTCRdf.head()"
   ]
  },
  {
   "cell_type": "markdown",
   "metadata": {},
   "source": [
    "## save files"
   ]
  },
  {
   "cell_type": "code",
   "execution_count": null,
   "metadata": {
    "ExecuteTime": {
     "end_time": "2018-05-27T16:34:23.040672Z",
     "start_time": "2018-05-27T16:34:12.387Z"
    }
   },
   "outputs": [],
   "source": [
    "# file2='%s/sharingAnalysis/sharingMatrix_%s_minNshared%s_RA_onlyProductive%s_divided_trimmed' %(dataset_folder,datasetName,minNshared,\n",
    "#                                                                                onlyProductive)\n",
    "# TrimmedTCRdf.to_pickle(file2)\n",
    "                                                                                 "
   ]
  },
  {
   "cell_type": "markdown",
   "metadata": {},
   "source": [
    "## optional: normalize df to 1:"
   ]
  },
  {
   "cell_type": "code",
   "execution_count": null,
   "metadata": {
    "ExecuteTime": {
     "end_time": "2018-05-27T16:34:23.042417Z",
     "start_time": "2018-05-27T16:34:12.392Z"
    }
   },
   "outputs": [],
   "source": [
    "# normTrimmedTCRdf=TrimmedTCRdf.div(TrimmedTCRdf.sum(axis=1),axis=0)"
   ]
  },
  {
   "cell_type": "code",
   "execution_count": null,
   "metadata": {
    "ExecuteTime": {
     "end_time": "2018-05-27T16:34:23.044190Z",
     "start_time": "2018-05-27T16:34:12.397Z"
    }
   },
   "outputs": [],
   "source": [
    "# TrimmedTCRdf.sum(axis=1).head()"
   ]
  },
  {
   "cell_type": "code",
   "execution_count": null,
   "metadata": {
    "ExecuteTime": {
     "end_time": "2018-05-27T16:34:23.045891Z",
     "start_time": "2018-05-27T16:34:12.400Z"
    }
   },
   "outputs": [],
   "source": [
    "# normTrimmedTCRdf.sum(axis=1).head()"
   ]
  },
  {
   "cell_type": "markdown",
   "metadata": {},
   "source": [
    "### save file again:"
   ]
  },
  {
   "cell_type": "code",
   "execution_count": null,
   "metadata": {
    "ExecuteTime": {
     "end_time": "2018-05-27T16:34:23.047682Z",
     "start_time": "2018-05-27T16:34:12.405Z"
    }
   },
   "outputs": [],
   "source": [
    "# file3='%s/sharingAnalysis/sharingMatrix_%s_minNshared%s_RA_onlyProductive%s_divided_trimmed_normed' %(dataset_folder,datasetName,minNshared,\n",
    "#                                                                                onlyProductive)\n",
    "# normTrimmedTCRdf.to_pickle(file3)"
   ]
  },
  {
   "cell_type": "markdown",
   "metadata": {},
   "source": [
    "## optional: cap at minValue*2\n",
    "leave only sequences that appear at least in one sample in more than 1 copy:"
   ]
  },
  {
   "cell_type": "code",
   "execution_count": null,
   "metadata": {
    "ExecuteTime": {
     "end_time": "2018-05-27T16:34:23.049387Z",
     "start_time": "2018-05-27T16:34:12.410Z"
    }
   },
   "outputs": [],
   "source": [
    "1.0/15000"
   ]
  },
  {
   "cell_type": "code",
   "execution_count": null,
   "metadata": {
    "ExecuteTime": {
     "end_time": "2018-05-28T08:08:55.841470Z",
     "start_time": "2018-05-28T08:08:52.443396Z"
    }
   },
   "outputs": [],
   "source": [
    "cappedTCRdfRA=TCRdfRA.mask(TCRdfRA<0.000067)\n",
    "cappedTCRdfRA=cappedTCRdfRA.fillna(0.000067)\n",
    "cappedTCRdfRA.head()"
   ]
  },
  {
   "cell_type": "code",
   "execution_count": null,
   "metadata": {
    "ExecuteTime": {
     "end_time": "2018-05-28T08:10:15.283760Z",
     "start_time": "2018-05-28T08:09:44.620891Z"
    }
   },
   "outputs": [],
   "source": [
    "checkShared=cappedTCRdfRA.apply(lambda x: True if len([i for i in x if i>0.000067])>1 else False)\n",
    "shared=checkShared[checkShared]\n",
    "sharedTCRdfRA=cappedTCRdfRA[shared.index]\n",
    "print sharedTCRdfRA.shape\n",
    "sharedTCRdfRA.head()"
   ]
  },
  {
   "cell_type": "markdown",
   "metadata": {},
   "source": [
    "### trim the capped df:"
   ]
  },
  {
   "cell_type": "code",
   "execution_count": null,
   "metadata": {
    "ExecuteTime": {
     "end_time": "2018-05-28T08:12:44.246038Z",
     "start_time": "2018-05-28T08:10:59.393302Z"
    }
   },
   "outputs": [],
   "source": [
    "TrimmedSharedTCRdf=filter_outliers(df=sharedTCRdfRA,outlierSTD=5,columnList=None,trim=True)"
   ]
  },
  {
   "cell_type": "code",
   "execution_count": null,
   "metadata": {
    "ExecuteTime": {
     "end_time": "2018-05-28T08:13:26.848297Z",
     "start_time": "2018-05-28T08:13:26.782359Z"
    }
   },
   "outputs": [],
   "source": [
    "TrimmedSharedTCRdf.head()"
   ]
  },
  {
   "cell_type": "code",
   "execution_count": null,
   "metadata": {
    "ExecuteTime": {
     "end_time": "2018-05-28T08:14:09.075332Z",
     "start_time": "2018-05-28T08:14:08.288266Z"
    }
   },
   "outputs": [],
   "source": [
    "sharedTCRdfRA.sum().sum()"
   ]
  },
  {
   "cell_type": "code",
   "execution_count": null,
   "metadata": {
    "ExecuteTime": {
     "end_time": "2018-05-28T08:14:52.953457Z",
     "start_time": "2018-05-28T08:14:52.571794Z"
    }
   },
   "outputs": [],
   "source": [
    "TrimmedSharedTCRdf.sum().sum()"
   ]
  },
  {
   "cell_type": "code",
   "execution_count": null,
   "metadata": {
    "ExecuteTime": {
     "end_time": "2018-05-28T08:15:36.808185Z",
     "start_time": "2018-05-28T08:15:35.851696Z"
    }
   },
   "outputs": [],
   "source": [
    "file3='%s/sharingAnalysis/sharingMatrix_%s_minNshared%s_RA_onlyProductive%s_divided_trimmed_capped' %(dataset_folder,datasetName,minNshared,\n",
    "                                                                               onlyProductive)\n",
    "TrimmedSharedTCRdf.to_pickle(file3)"
   ]
  },
  {
   "cell_type": "markdown",
   "metadata": {},
   "source": [
    "### normalize the trimmed capped TCRdf:"
   ]
  },
  {
   "cell_type": "code",
   "execution_count": null,
   "metadata": {
    "ExecuteTime": {
     "end_time": "2018-05-28T08:16:18.956747Z",
     "start_time": "2018-05-28T08:16:18.548098Z"
    }
   },
   "outputs": [],
   "source": [
    "normTrimmedSharedTCRdf=TrimmedSharedTCRdf.div(TrimmedSharedTCRdf.sum(axis=1),axis=0)"
   ]
  },
  {
   "cell_type": "code",
   "execution_count": null,
   "metadata": {
    "ExecuteTime": {
     "end_time": "2018-05-28T08:17:05.985694Z",
     "start_time": "2018-05-28T08:17:05.815120Z"
    }
   },
   "outputs": [],
   "source": [
    "TrimmedSharedTCRdf.sum(axis=1).head()"
   ]
  },
  {
   "cell_type": "code",
   "execution_count": null,
   "metadata": {
    "ExecuteTime": {
     "end_time": "2018-05-28T08:17:50.432020Z",
     "start_time": "2018-05-28T08:17:50.135974Z"
    }
   },
   "outputs": [],
   "source": [
    "normTrimmedSharedTCRdf.sum(axis=1).head()"
   ]
  },
  {
   "cell_type": "code",
   "execution_count": null,
   "metadata": {
    "ExecuteTime": {
     "end_time": "2018-05-28T08:18:35.203914Z",
     "start_time": "2018-05-28T08:18:35.115141Z"
    }
   },
   "outputs": [],
   "source": [
    "normTrimmedSharedTCRdf.head()"
   ]
  },
  {
   "cell_type": "code",
   "execution_count": null,
   "metadata": {
    "ExecuteTime": {
     "end_time": "2018-05-28T08:19:23.369612Z",
     "start_time": "2018-05-28T08:19:20.855630Z"
    }
   },
   "outputs": [],
   "source": [
    "file4='%s/sharingAnalysis/sharingMatrix_%s_minNshared%s_RA_onlyProductive%s_divided_trimmed_capped_normed' %(dataset_folder,datasetName,minNshared,\n",
    "                                                                               onlyProductive)\n",
    "normTrimmedSharedTCRdf.to_pickle(file4)"
   ]
  },
  {
   "cell_type": "markdown",
   "metadata": {},
   "source": [
    "# prepare Mb matrix for distance correlation analysis:"
   ]
  },
  {
   "cell_type": "code",
   "execution_count": null,
   "metadata": {},
   "outputs": [],
   "source": []
  },
  {
   "cell_type": "markdown",
   "metadata": {},
   "source": [
    "## prepare MbDF table (mergedOnBD using noOutlierMean"
   ]
  },
  {
   "cell_type": "code",
   "execution_count": null,
   "metadata": {
    "ExecuteTime": {
     "end_time": "2018-05-28T08:20:09.994275Z",
     "start_time": "2018-05-28T08:20:08.816064Z"
    }
   },
   "outputs": [],
   "source": [
    "#load PNP515 sample list:\n",
    "with open('/net/mraid08/export/genie/Lab/Personal/ShaniBAF/Sample files/BD lists/PNP515','rb') as fp:\n",
    "    PNP515=pickle.load(fp)\n",
    "    \n",
    "#DEFINE PARAMETERS:\n",
    "mbLevel='s'\n",
    "mbDataFolder='AllSeqProjects'\n",
    "SampleList=PNP515\n",
    "SampleListName='PNP515'\n",
    "filterGenotek=True\n",
    "filterMinimalReads=9000000\n",
    "filterlibPrepMethod=None\n",
    "groupFunction='noOutlierMean'\n",
    "nSTD=5\n",
    "nMinSamples=3"
   ]
  },
  {
   "cell_type": "markdown",
   "metadata": {},
   "source": [
    "the function genFilterMergeMbData was copied to TCR_microbiome_interactions_functions.py"
   ]
  },
  {
   "cell_type": "code",
   "execution_count": null,
   "metadata": {
    "ExecuteTime": {
     "end_time": "2018-05-28T08:32:14.201480Z",
     "start_time": "2018-05-28T08:20:54.937679Z"
    }
   },
   "outputs": [],
   "source": [
    "groupedFilteredMB=genFilterMergeMbData(mbLevel,mbDataFolder,SampleList,SampleListName,filterGenotek,filterMinimalReads,filterlibPrepMethod,\n",
    "                        groupFunction,nSTD,nMinSamples)"
   ]
  },
  {
   "cell_type": "code",
   "execution_count": null,
   "metadata": {
    "deletable": false,
    "editable": false
   },
   "outputs": [],
   "source": []
  },
  {
   "cell_type": "code",
   "execution_count": null,
   "metadata": {
    "ExecuteTime": {
     "end_time": "2018-05-28T08:32:59.552423Z",
     "start_time": "2018-05-28T08:32:59.498782Z"
    },
    "scrolled": true
   },
   "outputs": [],
   "source": [
    "groupedFilteredMB.head()"
   ]
  },
  {
   "cell_type": "markdown",
   "metadata": {},
   "source": [
    "## normalize MbDFold:"
   ]
  },
  {
   "cell_type": "code",
   "execution_count": null,
   "metadata": {
    "ExecuteTime": {
     "end_time": "2018-05-29T05:51:18.405336Z",
     "start_time": "2018-05-29T05:51:18.394902Z"
    }
   },
   "outputs": [],
   "source": [
    "groupedFilteredMB.sum().sum()"
   ]
  },
  {
   "cell_type": "code",
   "execution_count": null,
   "metadata": {
    "ExecuteTime": {
     "end_time": "2018-05-29T05:51:25.456982Z",
     "start_time": "2018-05-29T05:51:25.399828Z"
    }
   },
   "outputs": [],
   "source": [
    "groupedFilteredMB.head()"
   ]
  },
  {
   "cell_type": "code",
   "execution_count": null,
   "metadata": {
    "ExecuteTime": {
     "end_time": "2018-05-29T05:51:32.024831Z",
     "start_time": "2018-05-29T05:51:32.015014Z"
    }
   },
   "outputs": [],
   "source": [
    "normMbDF=groupedFilteredMB.div(groupedFilteredMB.sum(axis=1),axis=0)"
   ]
  },
  {
   "cell_type": "code",
   "execution_count": null,
   "metadata": {
    "ExecuteTime": {
     "end_time": "2018-05-29T05:51:38.988320Z",
     "start_time": "2018-05-29T05:51:38.975345Z"
    }
   },
   "outputs": [],
   "source": [
    "normMbDF.sum(axis=1).head()"
   ]
  },
  {
   "cell_type": "code",
   "execution_count": null,
   "metadata": {
    "ExecuteTime": {
     "end_time": "2018-05-29T05:51:45.886430Z",
     "start_time": "2018-05-29T05:51:45.842766Z"
    }
   },
   "outputs": [],
   "source": [
    "file2='%s/MicrobiomeDataTables/ForAnalysis/normMbDF' %MyPath\n",
    "normMbDF.to_pickle(file2)"
   ]
  },
  {
   "cell_type": "markdown",
   "metadata": {},
   "source": [
    "## only more than 0.0001:"
   ]
  },
  {
   "cell_type": "code",
   "execution_count": null,
   "metadata": {
    "ExecuteTime": {
     "end_time": "2018-05-29T05:48:41.793500Z",
     "start_time": "2018-05-29T05:48:41.775507Z"
    }
   },
   "outputs": [],
   "source": [
    "file1='%s/MicrobiomeDataTables/FilteredAndMergedOnBD/MPA_s_AllSeqProjects_SampleListPNP515_filterGenotekTrue_filterMinimalRead9000000\\\n",
    "_libMethNone_noOutlierMeannSTD5nMinSamples3_fOutlierSampleFalse_fSamePersonFalse' %MyPath\n",
    "groupedFilteredMB=pd.read_pickle(file1)"
   ]
  },
  {
   "cell_type": "code",
   "execution_count": null,
   "metadata": {
    "ExecuteTime": {
     "end_time": "2018-05-29T05:48:48.088120Z",
     "start_time": "2018-05-29T05:48:48.021037Z"
    }
   },
   "outputs": [],
   "source": [
    "groupedFilteredMB0001=groupedFilteredMB.mask(groupedFilteredMB<0.0001)\n",
    "groupedFilteredMB0001=groupedFilteredMB0001.fillna(0)\n",
    "groupedFilteredMB0001.head()\n"
   ]
  },
  {
   "cell_type": "code",
   "execution_count": null,
   "metadata": {
    "ExecuteTime": {
     "end_time": "2018-05-29T05:48:54.467376Z",
     "start_time": "2018-05-29T05:48:54.235498Z"
    }
   },
   "outputs": [],
   "source": [
    "checkShared=groupedFilteredMB0001.apply(lambda x: True if len([i for i in x if i>0])>1 else False)\n",
    "shared=checkShared[checkShared]\n",
    "sharedgroupedFilteredMB0001=groupedFilteredMB0001[shared.index]\n",
    "print sharedgroupedFilteredMB0001.shape\n",
    "sharedgroupedFilteredMB0001.head()"
   ]
  },
  {
   "cell_type": "code",
   "execution_count": null,
   "metadata": {
    "ExecuteTime": {
     "end_time": "2018-05-29T05:49:01.749695Z",
     "start_time": "2018-05-29T05:49:01.721624Z"
    }
   },
   "outputs": [],
   "source": [
    "file3='%s/MicrobiomeDataTables/ForAnalysis/MbDF_00001shared' %MyPath\n",
    "sharedgroupedFilteredMB0001.to_pickle(file3)"
   ]
  },
  {
   "cell_type": "code",
   "execution_count": null,
   "metadata": {
    "ExecuteTime": {
     "end_time": "2018-05-29T05:49:08.369944Z",
     "start_time": "2018-05-29T05:49:08.364548Z"
    }
   },
   "outputs": [],
   "source": [
    "sharedgroupedFilteredMB0001_normed=sharedgroupedFilteredMB0001.div(sharedgroupedFilteredMB0001.sum(axis=1),axis=0)"
   ]
  },
  {
   "cell_type": "code",
   "execution_count": null,
   "metadata": {
    "ExecuteTime": {
     "end_time": "2018-05-29T05:49:14.961615Z",
     "start_time": "2018-05-29T05:49:14.954188Z"
    }
   },
   "outputs": [],
   "source": [
    "sharedgroupedFilteredMB0001_normed.sum(axis=1).head()"
   ]
  },
  {
   "cell_type": "code",
   "execution_count": null,
   "metadata": {
    "ExecuteTime": {
     "end_time": "2018-05-29T05:49:21.509650Z",
     "start_time": "2018-05-29T05:49:21.487169Z"
    }
   },
   "outputs": [],
   "source": [
    "file2='%s/MicrobiomeDataTables/ForAnalysis/MbDF_00001shared_normed' %MyPath\n",
    "sharedgroupedFilteredMB0001_normed.to_pickle(file2)"
   ]
  },
  {
   "cell_type": "code",
   "execution_count": null,
   "metadata": {},
   "outputs": [],
   "source": []
  },
  {
   "cell_type": "code",
   "execution_count": null,
   "metadata": {},
   "outputs": [],
   "source": []
  },
  {
   "cell_type": "markdown",
   "metadata": {},
   "source": [
    "## cap frequencies at 0.0001"
   ]
  },
  {
   "cell_type": "code",
   "execution_count": null,
   "metadata": {
    "ExecuteTime": {
     "end_time": "2018-05-28T08:33:43.954845Z",
     "start_time": "2018-05-28T08:33:43.927951Z"
    }
   },
   "outputs": [],
   "source": [
    "# df[df > .01].min(axis=1)\n",
    "\n",
    "groupedFilteredMB[groupedFilteredMB>0].min().mean()"
   ]
  },
  {
   "cell_type": "code",
   "execution_count": null,
   "metadata": {
    "ExecuteTime": {
     "end_time": "2018-05-28T08:34:28.347847Z",
     "start_time": "2018-05-28T08:34:28.256536Z"
    }
   },
   "outputs": [],
   "source": [
    "# df = df.mask(df < df.quantile())\n",
    "cappedMbDF=groupedFilteredMB.mask(groupedFilteredMB<0.0001)\n",
    "cappedMbDF=cappedMbDF.fillna(0.0001)\n",
    "cappedMbDF.head()"
   ]
  },
  {
   "cell_type": "markdown",
   "metadata": {},
   "source": [
    "## remove outliers (std>5) using trimming"
   ]
  },
  {
   "cell_type": "code",
   "execution_count": null,
   "metadata": {
    "ExecuteTime": {
     "end_time": "2018-05-28T08:35:14.092904Z",
     "start_time": "2018-05-28T08:35:14.035837Z"
    }
   },
   "outputs": [],
   "source": [
    "cappedMbDF.head()"
   ]
  },
  {
   "cell_type": "code",
   "execution_count": null,
   "metadata": {
    "ExecuteTime": {
     "end_time": "2018-05-28T08:36:00.335511Z",
     "start_time": "2018-05-28T08:36:00.328712Z"
    }
   },
   "outputs": [],
   "source": [
    "cappedMbDF.index"
   ]
  },
  {
   "cell_type": "code",
   "execution_count": null,
   "metadata": {
    "ExecuteTime": {
     "end_time": "2018-05-28T08:36:46.437392Z",
     "start_time": "2018-05-28T08:36:46.420182Z"
    }
   },
   "outputs": [],
   "source": [
    "def filter_outliers(df,outlierSTD,columnList=None,trim=None):\n",
    "    \n",
    "    df2=pd.DataFrame()\n",
    "    if columnList is None:\n",
    "        columnList=df.columns.values\n",
    "    for column in columnList:\n",
    "        columnMean=df[column].mean()\n",
    "        columnSTD=df[column].std()\n",
    "        upperThreshold=columnMean+outlierSTD*columnSTD\n",
    "        bottomThreshold=columnMean-outlierSTD*columnSTD\n",
    "        \n",
    "        if trim:\n",
    "            bottomValue=bottomThreshold\n",
    "            upperValue=upperThreshold\n",
    "        else:\n",
    "            bottomValue=np.nan\n",
    "            upperValue=np.nan\n",
    "#         print column,columnMean,columnSTD,bottomThreshold,upperThreshold\n",
    "        df2[column]=np.where(df[column]<bottomThreshold,bottomValue,df[column])\n",
    "        df2[column]=np.where(df[column]>upperThreshold,upperValue,df[column])\n",
    "        df2.index=df.index\n",
    "    return df2"
   ]
  },
  {
   "cell_type": "code",
   "execution_count": null,
   "metadata": {
    "ExecuteTime": {
     "end_time": "2018-05-28T08:37:33.404849Z",
     "start_time": "2018-05-28T08:37:32.047606Z"
    }
   },
   "outputs": [],
   "source": [
    "cappedTrimmedMbdf=filter_outliers(df=cappedMbDF,outlierSTD=5,columnList=None,trim=True)"
   ]
  },
  {
   "cell_type": "code",
   "execution_count": null,
   "metadata": {
    "ExecuteTime": {
     "end_time": "2018-05-28T08:38:20.038744Z",
     "start_time": "2018-05-28T08:38:19.974234Z"
    }
   },
   "outputs": [],
   "source": [
    "cappedTrimmedMbdf.head()"
   ]
  },
  {
   "cell_type": "code",
   "execution_count": null,
   "metadata": {
    "ExecuteTime": {
     "end_time": "2018-05-28T08:39:07.000656Z",
     "start_time": "2018-05-28T08:39:06.995686Z"
    }
   },
   "outputs": [],
   "source": [
    "cappedTrimmedMbdf.shape"
   ]
  },
  {
   "cell_type": "markdown",
   "metadata": {},
   "source": [
    "## leave only shared species (treat 0.0001 as 0)"
   ]
  },
  {
   "cell_type": "code",
   "execution_count": null,
   "metadata": {
    "ExecuteTime": {
     "end_time": "2018-05-28T08:39:54.209006Z",
     "start_time": "2018-05-28T08:39:54.023269Z"
    }
   },
   "outputs": [],
   "source": [
    "checkShared=cappedTrimmedMbdf.apply(lambda x: True if len([i for i in x if i>0.0001])>1 else False)\n",
    "shared=checkShared[checkShared]\n",
    "sharedCappedTrimmedMbdf=cappedTrimmedMbdf[shared.index]\n",
    "print sharedCappedTrimmedMbdf.shape\n",
    "sharedCappedTrimmedMbdf.head()\n"
   ]
  },
  {
   "cell_type": "markdown",
   "metadata": {},
   "source": [
    "### save file:"
   ]
  },
  {
   "cell_type": "code",
   "execution_count": null,
   "metadata": {
    "ExecuteTime": {
     "end_time": "2018-05-28T08:40:42.864542Z",
     "start_time": "2018-05-28T08:40:42.838217Z"
    }
   },
   "outputs": [],
   "source": [
    "file1='%s/MicrobiomeDataTables/ForAnalysis/sharedCappedTrimmedMbdf' %MyPath\n",
    "sharedCappedTrimmedMbdf.to_pickle(file1)"
   ]
  },
  {
   "cell_type": "markdown",
   "metadata": {},
   "source": [
    "## optional: normalize df:"
   ]
  },
  {
   "cell_type": "code",
   "execution_count": null,
   "metadata": {
    "ExecuteTime": {
     "end_time": "2018-05-28T08:41:30.494130Z",
     "start_time": "2018-05-28T08:41:30.486825Z"
    }
   },
   "outputs": [],
   "source": [
    "normSharedCappedTrimmedMbdf=sharedCappedTrimmedMbdf.div(sharedCappedTrimmedMbdf.sum(axis=1),axis=0)"
   ]
  },
  {
   "cell_type": "code",
   "execution_count": null,
   "metadata": {
    "ExecuteTime": {
     "end_time": "2018-05-28T08:42:19.506006Z",
     "start_time": "2018-05-28T08:42:19.498165Z"
    }
   },
   "outputs": [],
   "source": [
    "sharedCappedTrimmedMbdf.sum(axis=1).head()"
   ]
  },
  {
   "cell_type": "code",
   "execution_count": null,
   "metadata": {
    "ExecuteTime": {
     "end_time": "2018-05-28T08:43:07.617652Z",
     "start_time": "2018-05-28T08:43:07.608967Z"
    }
   },
   "outputs": [],
   "source": [
    "normSharedCappedTrimmedMbdf.sum(axis=1).head()"
   ]
  },
  {
   "cell_type": "markdown",
   "metadata": {},
   "source": [
    "### save file:"
   ]
  },
  {
   "cell_type": "code",
   "execution_count": null,
   "metadata": {
    "ExecuteTime": {
     "end_time": "2018-05-28T08:43:56.259021Z",
     "start_time": "2018-05-28T08:43:56.234572Z"
    }
   },
   "outputs": [],
   "source": [
    "file1='%s/MicrobiomeDataTables/ForAnalysis/normSharedCappedTrimmedMbdf' %MyPath\n",
    "normSharedCappedTrimmedMbdf.to_pickle(file1)"
   ]
  },
  {
   "cell_type": "markdown",
   "metadata": {},
   "source": [
    "# prepare Mb matrix for distance correlation analysis - repeat for genus"
   ]
  },
  {
   "cell_type": "code",
   "execution_count": null,
   "metadata": {},
   "outputs": [],
   "source": []
  },
  {
   "cell_type": "markdown",
   "metadata": {},
   "source": [
    "## prepare MbDF table (mergedOnBD using noOutlierMean"
   ]
  },
  {
   "cell_type": "code",
   "execution_count": null,
   "metadata": {
    "ExecuteTime": {
     "end_time": "2018-05-29T05:42:17.777504Z",
     "start_time": "2018-05-29T05:42:17.746743Z"
    }
   },
   "outputs": [],
   "source": [
    "#load PNP515 sample list:\n",
    "with open('/net/mraid08/export/genie/Lab/Personal/ShaniBAF/Sample files/BD lists/PNP515','rb') as fp:\n",
    "    PNP515=pickle.load(fp)\n",
    "    \n",
    "#DEFINE PARAMETERS:\n",
    "mbLevel='g'\n",
    "mbDataFolder='AllSeqProjects'\n",
    "SampleList=PNP515\n",
    "SampleListName='PNP515'\n",
    "filterGenotek=True\n",
    "filterMinimalReads=9000000\n",
    "filterlibPrepMethod=None\n",
    "groupFunction='noOutlierMean'\n",
    "nSTD=5\n",
    "nMinSamples=3"
   ]
  },
  {
   "cell_type": "markdown",
   "metadata": {},
   "source": [
    "the function genFilterMergeMbData was copied to TCR_microbiome_interactions_functions.py"
   ]
  },
  {
   "cell_type": "code",
   "execution_count": null,
   "metadata": {
    "ExecuteTime": {
     "end_time": "2018-05-29T05:44:10.015528Z",
     "start_time": "2018-05-29T05:42:20.018213Z"
    }
   },
   "outputs": [],
   "source": [
    "groupedFilteredMB=genFilterMergeMbData(mbLevel,mbDataFolder,SampleList,SampleListName,filterGenotek,filterMinimalReads,filterlibPrepMethod,\n",
    "                        groupFunction,nSTD,nMinSamples)"
   ]
  },
  {
   "cell_type": "code",
   "execution_count": null,
   "metadata": {
    "deletable": false,
    "editable": false
   },
   "outputs": [],
   "source": []
  },
  {
   "cell_type": "code",
   "execution_count": null,
   "metadata": {
    "ExecuteTime": {
     "end_time": "2018-05-29T05:44:22.657295Z",
     "start_time": "2018-05-29T05:44:22.573362Z"
    },
    "scrolled": true
   },
   "outputs": [],
   "source": [
    "groupedFilteredMB.head()"
   ]
  },
  {
   "cell_type": "markdown",
   "metadata": {},
   "source": [
    "## normalize MbDFold:"
   ]
  },
  {
   "cell_type": "code",
   "execution_count": null,
   "metadata": {
    "ExecuteTime": {
     "end_time": "2018-05-29T05:44:24.771736Z",
     "start_time": "2018-05-29T05:44:24.765569Z"
    }
   },
   "outputs": [],
   "source": [
    "groupedFilteredMB.sum().sum()"
   ]
  },
  {
   "cell_type": "code",
   "execution_count": null,
   "metadata": {
    "ExecuteTime": {
     "end_time": "2018-05-29T05:44:24.832911Z",
     "start_time": "2018-05-29T05:44:24.774215Z"
    }
   },
   "outputs": [],
   "source": [
    "groupedFilteredMB.head()"
   ]
  },
  {
   "cell_type": "code",
   "execution_count": null,
   "metadata": {
    "ExecuteTime": {
     "end_time": "2018-05-29T05:44:26.015971Z",
     "start_time": "2018-05-29T05:44:26.009348Z"
    }
   },
   "outputs": [],
   "source": [
    "normMbDF=groupedFilteredMB.div(groupedFilteredMB.sum(axis=1),axis=0)"
   ]
  },
  {
   "cell_type": "code",
   "execution_count": null,
   "metadata": {
    "ExecuteTime": {
     "end_time": "2018-05-29T05:44:26.030737Z",
     "start_time": "2018-05-29T05:44:26.018390Z"
    }
   },
   "outputs": [],
   "source": [
    "normMbDF.sum(axis=1).head()"
   ]
  },
  {
   "cell_type": "code",
   "execution_count": null,
   "metadata": {
    "ExecuteTime": {
     "end_time": "2018-05-29T05:44:26.367936Z",
     "start_time": "2018-05-29T05:44:26.332387Z"
    }
   },
   "outputs": [],
   "source": [
    "file2='%s/MicrobiomeDataTables/ForAnalysis/normMbDFgenus' %MyPath\n",
    "normMbDF.to_pickle(file2)"
   ]
  },
  {
   "cell_type": "markdown",
   "metadata": {},
   "source": [
    "## only more than 0.0001:"
   ]
  },
  {
   "cell_type": "code",
   "execution_count": null,
   "metadata": {
    "ExecuteTime": {
     "end_time": "2018-05-29T05:45:11.801782Z",
     "start_time": "2018-05-29T05:45:11.729588Z"
    }
   },
   "outputs": [],
   "source": [
    "groupedFilteredMB0001=groupedFilteredMB.mask(groupedFilteredMB<0.0001)\n",
    "groupedFilteredMB0001=groupedFilteredMB0001.fillna(0)\n",
    "groupedFilteredMB0001.head()\n"
   ]
  },
  {
   "cell_type": "code",
   "execution_count": null,
   "metadata": {
    "ExecuteTime": {
     "end_time": "2018-05-29T05:46:33.165731Z",
     "start_time": "2018-05-29T05:46:33.009216Z"
    }
   },
   "outputs": [],
   "source": [
    "checkShared=groupedFilteredMB0001.apply(lambda x: True if len([i for i in x if i>0])>1 else False)\n",
    "shared=checkShared[checkShared]\n",
    "sharedgroupedFilteredMB0001=groupedFilteredMB0001[shared.index]\n",
    "print sharedgroupedFilteredMB0001.shape\n",
    "sharedgroupedFilteredMB0001.head()"
   ]
  },
  {
   "cell_type": "code",
   "execution_count": null,
   "metadata": {
    "ExecuteTime": {
     "end_time": "2018-05-29T05:46:38.099573Z",
     "start_time": "2018-05-29T05:46:38.086053Z"
    }
   },
   "outputs": [],
   "source": [
    "file3='%s/MicrobiomeDataTables/ForAnalysis/MbDFgenus_00001shared' %MyPath\n",
    "sharedgroupedFilteredMB0001.to_pickle(file3)"
   ]
  },
  {
   "cell_type": "code",
   "execution_count": null,
   "metadata": {
    "ExecuteTime": {
     "end_time": "2018-05-29T05:46:45.737808Z",
     "start_time": "2018-05-29T05:46:45.728358Z"
    }
   },
   "outputs": [],
   "source": [
    "sharedgroupedFilteredMB0001_normed=sharedgroupedFilteredMB0001.div(sharedgroupedFilteredMB0001.sum(axis=1),axis=0)"
   ]
  },
  {
   "cell_type": "code",
   "execution_count": null,
   "metadata": {
    "ExecuteTime": {
     "end_time": "2018-05-29T05:46:51.711163Z",
     "start_time": "2018-05-29T05:46:51.704448Z"
    }
   },
   "outputs": [],
   "source": [
    "sharedgroupedFilteredMB0001_normed.sum(axis=1).head()"
   ]
  },
  {
   "cell_type": "code",
   "execution_count": null,
   "metadata": {
    "ExecuteTime": {
     "end_time": "2018-05-29T05:46:57.241048Z",
     "start_time": "2018-05-29T05:46:57.228134Z"
    }
   },
   "outputs": [],
   "source": [
    "file2='%s/MicrobiomeDataTables/ForAnalysis/MbDFgenus_00001shared_normed' %MyPath\n",
    "sharedgroupedFilteredMB0001_normed.to_pickle(file2)"
   ]
  },
  {
   "cell_type": "code",
   "execution_count": null,
   "metadata": {},
   "outputs": [],
   "source": []
  },
  {
   "cell_type": "markdown",
   "metadata": {},
   "source": [
    "## cap frequencies at 0.0001"
   ]
  },
  {
   "cell_type": "code",
   "execution_count": null,
   "metadata": {
    "ExecuteTime": {
     "end_time": "2018-05-28T08:49:06.759959Z",
     "start_time": "2018-05-28T08:49:06.747914Z"
    }
   },
   "outputs": [],
   "source": [
    "# df[df > .01].min(axis=1)\n",
    "\n",
    "groupedFilteredMB[groupedFilteredMB>0].min().mean()"
   ]
  },
  {
   "cell_type": "code",
   "execution_count": null,
   "metadata": {
    "ExecuteTime": {
     "end_time": "2018-05-28T08:49:57.283111Z",
     "start_time": "2018-05-28T08:49:57.227034Z"
    }
   },
   "outputs": [],
   "source": [
    "# df = df.mask(df < df.quantile())\n",
    "cappedMbDF=groupedFilteredMB.mask(groupedFilteredMB<0.0001)\n",
    "cappedMbDF=cappedMbDF.fillna(0.0001)\n",
    "cappedMbDF.head()"
   ]
  },
  {
   "cell_type": "markdown",
   "metadata": {},
   "source": [
    "## remove outliers (std>5) using trimming"
   ]
  },
  {
   "cell_type": "code",
   "execution_count": null,
   "metadata": {
    "ExecuteTime": {
     "end_time": "2018-05-28T08:50:46.361125Z",
     "start_time": "2018-05-28T08:50:45.950653Z"
    }
   },
   "outputs": [],
   "source": [
    "cappedTrimmedMbdf=filter_outliers(df=cappedMbDF,outlierSTD=5,columnList=None,trim=True)"
   ]
  },
  {
   "cell_type": "code",
   "execution_count": null,
   "metadata": {
    "ExecuteTime": {
     "end_time": "2018-05-28T08:51:33.148336Z",
     "start_time": "2018-05-28T08:51:33.143546Z"
    }
   },
   "outputs": [],
   "source": [
    "cappedTrimmedMbdf.shape"
   ]
  },
  {
   "cell_type": "markdown",
   "metadata": {},
   "source": [
    "## leave only shared species (treat 0.0001 as 0)"
   ]
  },
  {
   "cell_type": "code",
   "execution_count": null,
   "metadata": {
    "ExecuteTime": {
     "end_time": "2018-05-28T08:52:20.811269Z",
     "start_time": "2018-05-28T08:52:20.714629Z"
    }
   },
   "outputs": [],
   "source": [
    "checkShared=cappedTrimmedMbdf.apply(lambda x: True if len([i for i in x if i>0.0001])>1 else False)\n",
    "shared=checkShared[checkShared]\n",
    "sharedCappedTrimmedMbdf=cappedTrimmedMbdf[shared.index]\n",
    "print sharedCappedTrimmedMbdf.shape\n",
    "sharedCappedTrimmedMbdf.head()\n"
   ]
  },
  {
   "cell_type": "markdown",
   "metadata": {},
   "source": [
    "### save file:"
   ]
  },
  {
   "cell_type": "code",
   "execution_count": null,
   "metadata": {
    "ExecuteTime": {
     "end_time": "2018-05-28T08:53:08.664613Z",
     "start_time": "2018-05-28T08:53:08.650627Z"
    }
   },
   "outputs": [],
   "source": [
    "file1='%s/MicrobiomeDataTables/ForAnalysis/sharedCappedTrimmedMbdf_genus' %MyPath\n",
    "sharedCappedTrimmedMbdf.to_pickle(file1)"
   ]
  },
  {
   "cell_type": "markdown",
   "metadata": {},
   "source": [
    "## optional: normalize df:"
   ]
  },
  {
   "cell_type": "code",
   "execution_count": null,
   "metadata": {
    "ExecuteTime": {
     "end_time": "2018-05-28T08:53:57.802758Z",
     "start_time": "2018-05-28T08:53:57.798231Z"
    }
   },
   "outputs": [],
   "source": [
    "normSharedCappedTrimmedMbdf=sharedCappedTrimmedMbdf.div(sharedCappedTrimmedMbdf.sum(axis=1),axis=0)"
   ]
  },
  {
   "cell_type": "code",
   "execution_count": null,
   "metadata": {
    "ExecuteTime": {
     "end_time": "2018-05-28T08:54:44.338372Z",
     "start_time": "2018-05-28T08:54:44.331366Z"
    }
   },
   "outputs": [],
   "source": [
    "sharedCappedTrimmedMbdf.sum(axis=1).head()"
   ]
  },
  {
   "cell_type": "code",
   "execution_count": null,
   "metadata": {
    "ExecuteTime": {
     "end_time": "2018-05-28T08:55:31.060217Z",
     "start_time": "2018-05-28T08:55:31.052794Z"
    }
   },
   "outputs": [],
   "source": [
    "normSharedCappedTrimmedMbdf.sum(axis=1).head()"
   ]
  },
  {
   "cell_type": "markdown",
   "metadata": {},
   "source": [
    "### save file:"
   ]
  },
  {
   "cell_type": "code",
   "execution_count": null,
   "metadata": {
    "ExecuteTime": {
     "end_time": "2018-05-28T08:56:19.601600Z",
     "start_time": "2018-05-28T08:56:19.587445Z"
    }
   },
   "outputs": [],
   "source": [
    "file1='%s/MicrobiomeDataTables/ForAnalysis/normSharedCappedTrimmedMbdf_genus' %MyPath\n",
    "normSharedCappedTrimmedMbdf.to_pickle(file1)"
   ]
  },
  {
   "cell_type": "code",
   "execution_count": null,
   "metadata": {},
   "outputs": [],
   "source": []
  },
  {
   "cell_type": "markdown",
   "metadata": {},
   "source": [
    "# compare MB and TCR histograms for some samples"
   ]
  },
  {
   "cell_type": "code",
   "execution_count": null,
   "metadata": {
    "ExecuteTime": {
     "end_time": "2018-05-28T08:57:06.673533Z",
     "start_time": "2018-05-28T08:57:06.616919Z"
    }
   },
   "outputs": [],
   "source": [
    "file1='%s/MicrobiomeDataTables/ForAnalysis/normSharedCappedTrimmedMbdf' %MyPath\n",
    "MbDF=pd.read_pickle(file1)\n",
    "MbDF.head()"
   ]
  },
  {
   "cell_type": "code",
   "execution_count": null,
   "metadata": {
    "ExecuteTime": {
     "end_time": "2018-05-28T08:57:54.508158Z",
     "start_time": "2018-05-28T08:57:54.453645Z"
    }
   },
   "outputs": [],
   "source": [
    "file3='%s/MicrobiomeDataTables/ForAnalysis/normSharedCappedTrimmedMbdf_genus' %MyPath\n",
    "MbDFgenus=pd.read_pickle(file3)\n",
    "MbDFgenus.head()"
   ]
  },
  {
   "cell_type": "code",
   "execution_count": null,
   "metadata": {
    "ExecuteTime": {
     "end_time": "2018-05-28T08:58:43.780828Z",
     "start_time": "2018-05-28T08:58:42.800593Z"
    }
   },
   "outputs": [],
   "source": [
    "file2='%s/sharingAnalysis/sharingMatrix_%s_minNshared%s_RA_onlyProductive%s_divided_trimmed_capped_normed' %(dataset_folder,datasetName,minNshared,\n",
    "                                                                               onlyProductive)\n",
    "TCRdf=pd.read_pickle(file2)\n",
    "TCRdf.head()"
   ]
  },
  {
   "cell_type": "code",
   "execution_count": null,
   "metadata": {
    "ExecuteTime": {
     "end_time": "2018-05-27T16:34:23.128680Z",
     "start_time": "2018-05-27T16:34:12.628Z"
    }
   },
   "outputs": [],
   "source": [
    "TCRdfmax=TCRdf.max(axis=1).sort_values(ascending=False)\n",
    "TCRdfmax"
   ]
  },
  {
   "cell_type": "code",
   "execution_count": null,
   "metadata": {
    "ExecuteTime": {
     "end_time": "2018-05-27T16:34:23.132307Z",
     "start_time": "2018-05-27T16:34:12.637Z"
    }
   },
   "outputs": [],
   "source": [
    "MbDF.max(axis=1).sort_values(ascending=False).head()"
   ]
  },
  {
   "cell_type": "code",
   "execution_count": null,
   "metadata": {
    "ExecuteTime": {
     "end_time": "2018-05-27T16:34:23.133994Z",
     "start_time": "2018-05-27T16:34:12.641Z"
    }
   },
   "outputs": [],
   "source": [
    "MbDFgenus.max(axis=1).sort_values(ascending=False).head()"
   ]
  },
  {
   "cell_type": "code",
   "execution_count": null,
   "metadata": {},
   "outputs": [],
   "source": []
  },
  {
   "cell_type": "code",
   "execution_count": null,
   "metadata": {
    "ExecuteTime": {
     "end_time": "2018-05-27T16:34:23.135720Z",
     "start_time": "2018-05-27T16:34:12.647Z"
    }
   },
   "outputs": [],
   "source": [
    "TCRdf.loc['BD19',:].sum()"
   ]
  },
  {
   "cell_type": "code",
   "execution_count": null,
   "metadata": {
    "ExecuteTime": {
     "end_time": "2018-05-28T08:59:38.404326Z",
     "start_time": "2018-05-28T08:59:36.083939Z"
    }
   },
   "outputs": [],
   "source": [
    "fig, axes=plt.subplots(nrows=3,ncols=4, figsize=(32,15))\n",
    "\n",
    "# print axes\n",
    "\n",
    "sampleList=['BD696','BD3','BD461','BD428']\n",
    "\n",
    "for n,sample in enumerate(sampleList):\n",
    "    ax1=axes[0,n]\n",
    "    ax1.hist(list(TCRdf.loc[sample,:]),bins=100,color='red',alpha=0.5)\n",
    "    ax1.xaxis.set_major_locator(plt.MaxNLocator(5))\n",
    "    ax1.set_yscale('log')\n",
    "    ax1.set_title(sample)\n",
    "    ax1.set_xlabel('TCR RA')\n",
    "    ax1.set_ylabel('Frequency')\n",
    "    ax1.set_xlim(0,0.002)\n",
    "    \n",
    "    ax2=axes[1,n]\n",
    "    ax2.hist(list(MbDF.loc[sample,:]),bins=100,color='blue',alpha=0.5)\n",
    "    ax2.xaxis.set_major_locator(plt.MaxNLocator(5))\n",
    "    ax2.set_yscale('log')\n",
    "    ax2.set_title(sample)\n",
    "    ax2.set_xlabel('Species RA')\n",
    "    ax2.set_ylabel('Frequency')\n",
    "    ax2.set_xlim(0,0.08)\n",
    "\n",
    "    ax3=axes[2,n]\n",
    "    ax3.hist(list(MbDFgenus.loc[sample,:]),bins=100,color='blue',alpha=0.5)\n",
    "    ax3.xaxis.set_major_locator(plt.MaxNLocator(5))\n",
    "    ax3.set_yscale('log')\n",
    "    ax3.set_title(sample)\n",
    "    ax3.set_xlabel('Genus RA')\n",
    "    ax3.set_ylabel('Frequency')\n",
    "    ax3.set_xlim(0,0.08)\n",
    "    \n",
    "    "
   ]
  },
  {
   "cell_type": "code",
   "execution_count": null,
   "metadata": {
    "ExecuteTime": {
     "end_time": "2018-05-28T09:00:34.726930Z",
     "start_time": "2018-05-28T09:00:29.034189Z"
    }
   },
   "outputs": [],
   "source": [
    "plt.show()"
   ]
  },
  {
   "cell_type": "code",
   "execution_count": null,
   "metadata": {
    "ExecuteTime": {
     "end_time": "2018-05-28T09:01:28.920475Z",
     "start_time": "2018-05-28T09:01:26.040280Z"
    }
   },
   "outputs": [],
   "source": [
    "file4='%s/TCR_mb_results/distCorrelations/TCR&MbFreq' %dataset_folder\n",
    "fig.savefig(file4, dpi=200)"
   ]
  },
  {
   "cell_type": "markdown",
   "metadata": {},
   "source": [
    "# generate distance matrices"
   ]
  },
  {
   "cell_type": "markdown",
   "metadata": {},
   "source": [
    "## define functions:"
   ]
  },
  {
   "cell_type": "code",
   "execution_count": null,
   "metadata": {},
   "outputs": [],
   "source": [
    "the functions genDistMat and genDistMatsForAll were copied to feature_phenotype_functions.py"
   ]
  },
  {
   "cell_type": "code",
   "execution_count": null,
   "metadata": {
    "ExecuteTime": {
     "end_time": "2018-05-29T07:50:16.170542Z",
     "start_time": "2018-05-29T07:50:16.139222Z"
    }
   },
   "outputs": [],
   "source": [
    "def genDistMatsForAll(df,dfName):\n",
    "    TCR_distMatFolder='%s/distanceMatrices' %dataset_folder\n",
    "    MB_distMatFolder='%s/MicrobiomeDataTables/distanceMatrices' %MyPath\n",
    "    \n",
    "    print 'generating distance matrix for RA data, df=%s' %dfName\n",
    "    metric1='braycurtis'\n",
    "    df_condensed_org, df_distMat_square=genDistMat(df,metric=metric1)\n",
    "    \n",
    "    print 'saving RA distMat CONDENSED'\n",
    "    \n",
    "    df_condensed_org.to_pickle(file1)\n",
    "    \n",
    "    if 'Mbdf' in dfName:\n",
    "        folder=MB_distMatFolder   \n",
    "    else:\n",
    "        folder=TCR_distMatFolder\n",
    "    \n",
    "    print 'saving RA distMat'\n",
    "    file1='%s/%s_%s_distMat' %(folder,dfName,metric1)\n",
    "    file2='%s/%s_%s_distMat_CONDENSED' %(folder,dfName,metric1)\n",
    "    df_distMat_square.to_pickle(file1)\n",
    "    df_condensed_org.to_pickle(file2)\n",
    "    \n",
    "    if 'norm' not in dfName:\n",
    "        print 'converting data to binary'\n",
    "        minVal=df.min().min()\n",
    "        print 'the min value of this df is %s' %minVal\n",
    "        df2=df.copy()\n",
    "        df2=(df2>minVal).astype(int)\n",
    "        print df2.iloc[:3,:3]\n",
    "\n",
    "        print 'saving binary df...'\n",
    "        file2='%s/%s_binary' %(folder,dfName)\n",
    "        df2.to_pickle(file2)\n",
    "\n",
    "        print 'generating binary distance metric, df=%s' %dfName\n",
    "        metric2='jaccard'\n",
    "\n",
    "        df_condensed_org_binary, df_distMat_square_binary=genDistMat(df2,metric=metric2)\n",
    "        print 'saving binary distMat'\n",
    "        file3='%s/%s_binary_%s_distMat' %(folder,dfName,metric2)\n",
    "        df_distMat_square_binary.to_pickle(file3)\n",
    "    else:\n",
    "        df_distMat_square_binary=pd.DataFrame()\n",
    "        print 'No binary df for normed df!'\n",
    "        \n",
    "    print 'DONE!'\n",
    "    \n",
    "    return df_distMat_square,df_distMat_square_binary\n",
    "    "
   ]
  },
  {
   "cell_type": "markdown",
   "metadata": {},
   "source": [
    "## run trial:"
   ]
  },
  {
   "cell_type": "code",
   "execution_count": null,
   "metadata": {
    "ExecuteTime": {
     "end_time": "2018-05-29T07:50:23.312063Z",
     "start_time": "2018-05-29T07:50:21.852574Z"
    }
   },
   "outputs": [],
   "source": [
    "file1='%s/MicrobiomeDataTables/FilteredAndMergedOnBD/MPA_s_AllSeqProjects_SampleListPNP515_filterGenotekTrue_filterMinimalRead9000000_libMethNone_noOutlierMeannSTD5nMinSamples3_fOutlierSampleFalse_fSamePersonFalse' %MyPath\n",
    "\n",
    "df=pd.read_pickle(file1)\n",
    "dfName='MbdfOld'\n",
    "\n",
    "df_distMat_square,df_distMat_square_binary=genDistMatsForAll(df,dfName)"
   ]
  },
  {
   "cell_type": "markdown",
   "metadata": {},
   "source": [
    "## run for all TCR and MB dfs:"
   ]
  },
  {
   "cell_type": "code",
   "execution_count": null,
   "metadata": {
    "ExecuteTime": {
     "end_time": "2018-05-29T07:59:38.795630Z",
     "start_time": "2018-05-29T07:50:28.217238Z"
    }
   },
   "outputs": [],
   "source": [
    "dfNameList=['normSharedCappedTrimmedMbdf','normSharedCappedTrimmedMbdf_genus','sharedCappedTrimmedMbdf',\n",
    "           'sharedCappedTrimmedMbdf_genus','TCRonlyProductiveTrue',\n",
    "           'TCRonlyProductiveTrue_divided_trimmed','TCRonlyProductiveTrue_divided_trimmed_capped',\n",
    "           'TCRonlyProductiveTrue_divided_trimmed_capped_normed']\n",
    "\n",
    "for n,dfName in enumerate(dfNameList):\n",
    "    print n,dfName\n",
    "    \n",
    "    if 'Mbdf' in dfName:\n",
    "        folder='%s/MicrobiomeDataTables/ForAnalysis' %MyPath\n",
    "        file1='%s/%s' %(folder, dfName)\n",
    "    else:\n",
    "        folder='%s/sharingAnalysis' %dataset_folder\n",
    "        f=dfName.replace('TCR','')\n",
    "        file1='%s/sharingMatrix_PNP515_ss15000_rep2_minNshared2_RA_%s' %(folder, f)\n",
    "\n",
    "    df=pd.read_pickle(file1)\n",
    "\n",
    "    df_distMat_square,df_distMat_square_binary=genDistMatsForAll(df,dfName)\n"
   ]
  },
  {
   "cell_type": "markdown",
   "metadata": {},
   "source": [
    "## run for new TCR and MB dfs:"
   ]
  },
  {
   "cell_type": "code",
   "execution_count": null,
   "metadata": {
    "ExecuteTime": {
     "end_time": "2018-05-29T08:01:15.737259Z",
     "start_time": "2018-05-29T07:59:46.130796Z"
    }
   },
   "outputs": [],
   "source": [
    "dfNameList=['normMbDF','MbDF_00001shared','MbDF_00001shared_normed',\n",
    "            'MbdfOldgenus','normMbDFgenus','MbDFgenus_00001shared','MbDFgenus_00001shared_normed',\n",
    "            'TCRonlyProductiveTrue_normed','TCRonlyProductiveTrue_2copiesshared','TCRonlyProductiveTrue_2copiesshared_normed']\n",
    "\n",
    "for n,dfName in enumerate(dfNameList):\n",
    "    print n,dfName\n",
    "    \n",
    "    if ('Mbdf' in dfName) or ('MbDF' in dfName):\n",
    "        folder='%s/MicrobiomeDataTables/ForAnalysis' %MyPath\n",
    "        file1='%s/%s' %(folder, dfName)\n",
    "    else:\n",
    "        folder='%s/sharingAnalysis' %dataset_folder\n",
    "        f=dfName.replace('TCR','')\n",
    "        file1='%s/sharingMatrix_PNP515_ss15000_rep2_minNshared2_RA_%s' %(folder, f)\n",
    "\n",
    "    df=pd.read_pickle(file1)\n",
    "\n",
    "    df_distMat_square,df_distMat_square_binary=genDistMatsForAll(df,dfName)"
   ]
  },
  {
   "cell_type": "markdown",
   "metadata": {},
   "source": [
    "# run mantel"
   ]
  },
  {
   "cell_type": "markdown",
   "metadata": {},
   "source": [
    "## run for all binary distMat pairs:"
   ]
  },
  {
   "cell_type": "code",
   "execution_count": null,
   "metadata": {
    "ExecuteTime": {
     "end_time": "2018-05-28T10:19:25.589374Z",
     "start_time": "2018-05-28T10:19:25.583355Z"
    }
   },
   "outputs": [],
   "source": [
    "method='spearman'\n",
    "n_permut=999\n",
    "alternative='greater'\n",
    "removeSameUser=True"
   ]
  },
  {
   "cell_type": "code",
   "execution_count": null,
   "metadata": {
    "ExecuteTime": {
     "end_time": "2018-05-29T06:49:37.435251Z",
     "start_time": "2018-05-29T06:47:38.134776Z"
    }
   },
   "outputs": [],
   "source": [
    "MantelList=[('TCRonlyProductiveTrue_binary_jaccard_distMat','MbdfOld_binary_jaccard_distMat'),\n",
    "           ('TCRonlyProductiveTrue_binary_jaccard_distMat','sharedCappedTrimmedMbdf_binary_jaccard_distMat'),\n",
    "           ('TCRonlyProductiveTrue_binary_jaccard_distMat','sharedCappedTrimmedMbdf_genus_binary_jaccard_distMat'),\n",
    "            ('TCRonlyProductiveTrue_divided_trimmed_binary_jaccard_distMat','sharedCappedTrimmedMbdf_binary_jaccard_distMat'),\n",
    "            ('TCRonlyProductiveTrue_divided_trimmed_binary_jaccard_distMat','sharedCappedTrimmedMbdf_genus_binary_jaccard_distMat'),\n",
    "           ('TCRonlyProductiveTrue_divided_trimmed_capped_binary_jaccard_distMat','sharedCappedTrimmedMbdf_binary_jaccard_distMat'),\n",
    "            ('TCRonlyProductiveTrue_divided_trimmed_capped_binary_jaccard_distMat','sharedCappedTrimmedMbdf_genus_binary_jaccard_distMat')]\n",
    "            \n",
    "\n",
    "for n,mantel in enumerate(MantelList):\n",
    "    \n",
    "    print n,mantel\n",
    "    \n",
    "    distMat1name=mantel[0]\n",
    "    distMat2name=mantel[1]\n",
    "    \n",
    "    TCR_distMatFolder='%s/distanceMatrices' %dataset_folder\n",
    "    MB_distMatFolder='%s/MicrobiomeDataTables/distanceMatrices' %MyPath\n",
    "    \n",
    "    TCRfile='%s/%s' %(TCR_distMatFolder,distMat1name)\n",
    "    MBfile='%s/%s' %(MB_distMatFolder,distMat2name)\n",
    "    \n",
    "    distMat1=pd.read_pickle(TCRfile)\n",
    "    distMat2=pd.read_pickle(MBfile)\n",
    "    \n",
    "    MantelFolder='%s/TCR_mb_results/distCorrelations/MantelDFs' %dataset_folder\n",
    "    if not isdir(MantelFolder):\n",
    "        makedirs(MantelFolder)\n",
    "    \n",
    "    mantelDF=mantelTest_feature_phenotype(distMat1, distMat2,distMat1name, distMat2name, MantelFolder,method,n_permut,alternative,removeSameUser)\n",
    "    mantelDF.loc[0,'datasetName']=datasetName\n",
    "    mantelDF.loc[0,'removeSameUser']=removeSameUser\n",
    "    \n",
    "    mantelFile='%s/%s_%s' %(MantelFolder,distMat1name,distMat2name)\n",
    "    mantelDF.to_pickle(mantelFile)\n",
    "    "
   ]
  },
  {
   "cell_type": "markdown",
   "metadata": {},
   "source": [
    "## run for all RA distMat pairs:"
   ]
  },
  {
   "cell_type": "code",
   "execution_count": null,
   "metadata": {
    "ExecuteTime": {
     "end_time": "2018-05-28T10:25:35.072567Z",
     "start_time": "2018-05-28T10:25:35.066515Z"
    }
   },
   "outputs": [],
   "source": [
    "method='spearman'\n",
    "n_permut=999\n",
    "alternative='greater'\n",
    "removeSameUser=True"
   ]
  },
  {
   "cell_type": "code",
   "execution_count": null,
   "metadata": {
    "ExecuteTime": {
     "end_time": "2018-05-29T06:52:30.839998Z",
     "start_time": "2018-05-29T06:49:49.847193Z"
    }
   },
   "outputs": [],
   "source": [
    "MantelList=[('TCRonlyProductiveTrue_braycurtis_distMat','MbdfOld_braycurtis_distMat'),\n",
    "            ('TCRonlyProductiveTrue_braycurtis_distMat','sharedCappedTrimmedMbdf_braycurtis_distMat'),\n",
    "            ('TCRonlyProductiveTrue_braycurtis_distMat','sharedCappedTrimmedMbdf_genus_braycurtis_distMat'),\n",
    "            ('TCRonlyProductiveTrue_divided_trimmed_braycurtis_distMat','sharedCappedTrimmedMbdf_braycurtis_distMat'),\n",
    "            ('TCRonlyProductiveTrue_divided_trimmed_braycurtis_distMat','sharedCappedTrimmedMbdf_genus_braycurtis_distMat'),\n",
    "            ('TCRonlyProductiveTrue_divided_trimmed_capped_braycurtis_distMat','sharedCappedTrimmedMbdf_braycurtis_distMat'),\n",
    "            ('TCRonlyProductiveTrue_divided_trimmed_capped_braycurtis_distMat','sharedCappedTrimmedMbdf_genus_braycurtis_distMat'),\n",
    "            ('TCRonlyProductiveTrue_divided_trimmed_capped_normed_braycurtis_distMat','normSharedCappedTrimmedMbdf_braycurtis_distMat'),\n",
    "            ('TCRonlyProductiveTrue_divided_trimmed_capped_normed_braycurtis_distMat','normSharedCappedTrimmedMbdf_genus_braycurtis_distMat')]\n",
    "            \n",
    "\n",
    "for n,mantel in enumerate(MantelList):\n",
    "    \n",
    "    print n,mantel\n",
    "    \n",
    "    distMat1name=mantel[0]\n",
    "    distMat2name=mantel[1]\n",
    "    \n",
    "    TCR_distMatFolder='%s/distanceMatrices' %dataset_folder\n",
    "    MB_distMatFolder='%s/MicrobiomeDataTables/distanceMatrices' %MyPath\n",
    "    \n",
    "    TCRfile='%s/%s' %(TCR_distMatFolder,distMat1name)\n",
    "    MBfile='%s/%s' %(MB_distMatFolder,distMat2name)\n",
    "    \n",
    "    distMat1=pd.read_pickle(TCRfile)\n",
    "    distMat2=pd.read_pickle(MBfile)\n",
    "    \n",
    "    MantelFolder='%s/TCR_mb_results/distCorrelations/MantelDFs' %dataset_folder\n",
    "    if not isdir(MantelFolder):\n",
    "        makedirs(MantelFolder)\n",
    "    \n",
    "    mantelDF=mantelTest_feature_phenotype(distMat1, distMat2,distMat1name, distMat2name, MantelFolder,method,n_permut,alternative,removeSameUser)\n",
    "    mantelDF.loc[0,'datasetName']=datasetName\n",
    "    mantelDF.loc[0,'removeSameUser']=removeSameUser\n",
    "    \n",
    "    mantelFile='%s/%s_%s' %(MantelFolder,distMat1name,distMat2name)\n",
    "    mantelDF.to_pickle(mantelFile)\n",
    "    "
   ]
  },
  {
   "cell_type": "markdown",
   "metadata": {},
   "source": [
    "## New mantel tests - RA"
   ]
  },
  {
   "cell_type": "code",
   "execution_count": null,
   "metadata": {
    "ExecuteTime": {
     "end_time": "2018-05-29T06:31:38.216031Z",
     "start_time": "2018-05-29T06:31:38.211493Z"
    }
   },
   "outputs": [],
   "source": [
    "method='spearman'\n",
    "n_permut=999\n",
    "alternative='greater'\n",
    "removeSameUser=True"
   ]
  },
  {
   "cell_type": "code",
   "execution_count": null,
   "metadata": {
    "ExecuteTime": {
     "end_time": "2018-05-29T06:55:06.460678Z",
     "start_time": "2018-05-29T06:52:42.897011Z"
    }
   },
   "outputs": [],
   "source": [
    "MantelList=[('TCRonlyProductiveTrue_normed_braycurtis_distMat','normMbDF_braycurtis_distMat'),\n",
    "            ('TCRonlyProductiveTrue_normed_braycurtis_distMat','normMbDFgenus_braycurtis_distMat'),\n",
    "            ('TCRonlyProductiveTrue_braycurtis_distMat','MbdfOld_braycurtis_distMat'),\n",
    "            ('TCRonlyProductiveTrue_braycurtis_distMat','MbdfOldgenus_braycurtis_distMat'),\n",
    "            ('TCRonlyProductiveTrue_2copiesshared_braycurtis_distMat','MbDF_00001shared_braycurtis_distMat'),\n",
    "            ('TCRonlyProductiveTrue_2copiesshared_braycurtis_distMat','MbDFgenus_00001shared_braycurtis_distMat'),\n",
    "            ('TCRonlyProductiveTrue_2copiesshared_normed_braycurtis_distMat','MbDF_00001shared_normed_braycurtis_distMat'),\n",
    "            ('TCRonlyProductiveTrue_2copiesshared_normed_braycurtis_distMat','MbDFgenus_00001shared_normed_braycurtis_distMat')]\n",
    "            \n",
    "            \n",
    "            \n",
    "for n,mantel in enumerate(MantelList):\n",
    "    \n",
    "    print n,mantel\n",
    "    \n",
    "    distMat1name=mantel[0]\n",
    "    distMat2name=mantel[1]\n",
    "    \n",
    "    TCR_distMatFolder='%s/distanceMatrices' %dataset_folder\n",
    "    MB_distMatFolder='%s/MicrobiomeDataTables/distanceMatrices' %MyPath\n",
    "    \n",
    "    TCRfile='%s/%s' %(TCR_distMatFolder,distMat1name)\n",
    "    MBfile='%s/%s' %(MB_distMatFolder,distMat2name)\n",
    "    \n",
    "    distMat1=pd.read_pickle(TCRfile)\n",
    "    distMat2=pd.read_pickle(MBfile)\n",
    "    \n",
    "    MantelFolder='%s/TCR_mb_results/distCorrelations/MantelDFs' %dataset_folder\n",
    "    if not isdir(MantelFolder):\n",
    "        makedirs(MantelFolder)\n",
    "    \n",
    "    mantelDF=mantelTest_feature_phenotype(distMat1, distMat2,distMat1name, distMat2name, MantelFolder,method,n_permut,alternative,removeSameUser)\n",
    "    mantelDF.loc[0,'datasetName']=datasetName\n",
    "    mantelDF.loc[0,'removeSameUser']=removeSameUser\n",
    "    \n",
    "    mantelFile='%s/%s_%s' %(MantelFolder,distMat1name,distMat2name)\n",
    "    mantelDF.to_pickle(mantelFile)"
   ]
  },
  {
   "cell_type": "markdown",
   "metadata": {},
   "source": [
    "## New mantel tests - binary"
   ]
  },
  {
   "cell_type": "code",
   "execution_count": null,
   "metadata": {
    "ExecuteTime": {
     "end_time": "2018-05-29T06:31:38.216031Z",
     "start_time": "2018-05-29T06:31:38.211493Z"
    }
   },
   "outputs": [],
   "source": [
    "method='spearman'\n",
    "n_permut=999\n",
    "alternative='greater'\n",
    "removeSameUser=True"
   ]
  },
  {
   "cell_type": "code",
   "execution_count": null,
   "metadata": {
    "ExecuteTime": {
     "end_time": "2018-05-29T06:56:23.600598Z",
     "start_time": "2018-05-29T06:55:18.561699Z"
    }
   },
   "outputs": [],
   "source": [
    "MantelList=[('TCRonlyProductiveTrue_binary_jaccard_distMat','MbdfOldgenus_binary_jaccard_distMat'),\n",
    "            ('TCRonlyProductiveTrue_binary_jaccard_distMat','MbdfOld_binary_jaccard_distMat'),\n",
    "            ('TCRonlyProductiveTrue_2copiesshared_binary_jaccard_distMat','MbDF_00001shared_binary_jaccard_distMat'),\n",
    "            ('TCRonlyProductiveTrue_2copiesshared_binary_jaccard_distMat','MbDFgenus_00001shared_binary_jaccard_distMat')]\n",
    "            \n",
    "            \n",
    "            \n",
    "for n,mantel in enumerate(MantelList):\n",
    "    \n",
    "    print n,mantel\n",
    "    \n",
    "    distMat1name=mantel[0]\n",
    "    distMat2name=mantel[1]\n",
    "    \n",
    "    TCR_distMatFolder='%s/distanceMatrices' %dataset_folder\n",
    "    MB_distMatFolder='%s/MicrobiomeDataTables/distanceMatrices' %MyPath\n",
    "    \n",
    "    TCRfile='%s/%s' %(TCR_distMatFolder,distMat1name)\n",
    "    MBfile='%s/%s' %(MB_distMatFolder,distMat2name)\n",
    "    \n",
    "    distMat1=pd.read_pickle(TCRfile)\n",
    "    distMat2=pd.read_pickle(MBfile)\n",
    "    \n",
    "    MantelFolder='%s/TCR_mb_results/distCorrelations/MantelDFs' %dataset_folder\n",
    "    if not isdir(MantelFolder):\n",
    "        makedirs(MantelFolder)\n",
    "    \n",
    "    mantelDF=mantelTest_feature_phenotype(distMat1, distMat2,distMat1name, distMat2name, MantelFolder,method,n_permut,alternative,removeSameUser)\n",
    "    mantelDF.loc[0,'datasetName']=datasetName\n",
    "    mantelDF.loc[0,'removeSameUser']=removeSameUser\n",
    "    \n",
    "    mantelFile='%s/%s_%s' %(MantelFolder,distMat1name,distMat2name)\n",
    "    mantelDF.to_pickle(mantelFile)"
   ]
  },
  {
   "cell_type": "markdown",
   "metadata": {},
   "source": [
    "## run again excluding problematic samples"
   ]
  },
  {
   "cell_type": "code",
   "execution_count": 7,
   "metadata": {
    "ExecuteTime": {
     "end_time": "2018-05-30T20:37:05.441808Z",
     "start_time": "2018-05-30T20:37:05.427780Z"
    }
   },
   "outputs": [
    {
     "name": "stdout",
     "output_type": "stream",
     "text": [
      "['BD133', 'BD139', 'BD144', 'BD153', 'BD188']\n",
      "36\n"
     ]
    }
   ],
   "source": [
    "file1='%s/Sample files/BDnoSameYearMatch.xlsx' %MyPath\n",
    "BDnoSameYearMatch=gen_py_BD_list(file1)\n",
    "print BDnoSameYearMatch[:5]\n",
    "print len(BDnoSameYearMatch)"
   ]
  },
  {
   "cell_type": "code",
   "execution_count": 8,
   "metadata": {
    "ExecuteTime": {
     "end_time": "2018-05-30T20:37:05.676607Z",
     "start_time": "2018-05-30T20:37:05.672542Z"
    }
   },
   "outputs": [],
   "source": [
    "method='spearman'\n",
    "n_permut=999\n",
    "alternative='greater'\n",
    "removeSameUser=True"
   ]
  },
  {
   "cell_type": "code",
   "execution_count": 15,
   "metadata": {
    "ExecuteTime": {
     "end_time": "2018-05-30T20:47:32.346378Z",
     "start_time": "2018-05-30T20:44:57.544124Z"
    }
   },
   "outputs": [
    {
     "name": "stdout",
     "output_type": "stream",
     "text": [
      "0 ('TCRonlyProductiveTrue_braycurtis_distMat', 'MbdfOld_braycurtis_distMat')\n",
      "removing problematic samples...\n",
      "distMat1 shape before samples removal is 392_392\n",
      "distMat2 shape before samples removal is 447_447\n",
      "distMat1 shape AFTER samples removal is 373_373\n",
      "distMat2 shape AFTER samples removal is 428_428\n",
      "original x array shape is 373_373\n",
      "original y array shape is 428_428\n",
      "loading and processing distance matrix files...\n",
      "verifying same samples in compared distance matrices:\n",
      "filtering same person samples\n",
      "loading BD_FD table\n",
      "number of BD-UserID pairs is 1099\n",
      "merging UserID info to BDgrouped table:\n",
      "0 UserIDs have more than one BD\n",
      "groupedDF length before dropping same person samples is 321\n",
      "removing UserIDs: []\n",
      "removing BD: []\n",
      "groupedDF shape after dropping same person samples is 321_321\n",
      "loading BD_FD table\n",
      "number of BD-UserID pairs is 1099\n",
      "merging UserID info to BDgrouped table:\n",
      "0 UserIDs have more than one BD\n",
      "groupedDF length before dropping same person samples is 321\n",
      "removing UserIDs: []\n",
      "removing BD: []\n",
      "groupedDF shape after dropping same person samples is 321_321\n",
      "new x array shape is 321_321\n",
      "new y array shape is 321_321\n",
      "            BD1      BD10     BD101     BD105     BD106\n",
      "BD                                                     \n",
      "BD1    0.000000  0.981428  0.987870  0.981535  0.980251\n",
      "BD10   0.981428  0.000000  0.984689  0.984928  0.981023\n",
      "BD101  0.987870  0.984689  0.000000  0.990815  0.990722\n",
      "BD105  0.981535  0.984928  0.990815  0.000000  0.984438\n",
      "BD106  0.980251  0.981023  0.990722  0.984438  0.000000\n",
      "            BD1      BD10     BD101     BD105     BD106\n",
      "BD                                                     \n",
      "BD1    0.000000  0.742968  0.589122  0.627649  0.662968\n",
      "BD10   0.742968  0.000000  0.642699  0.672368  0.703266\n",
      "BD101  0.589122  0.642699  0.000000  0.688721  0.573151\n",
      "BD105  0.627649  0.672368  0.688721  0.000000  0.723674\n",
      "BD106  0.662968  0.703266  0.573151  0.723674  0.000000\n",
      "make sure matrices dimensions and heads are identical!\n",
      "running mantel test...\n",
      "0.02872907542886474 0.174\n",
      "saving mantel results\n",
      "DONE!\n",
      "1 ('TCRonlyProductiveTrue_braycurtis_distMat', 'sharedCappedTrimmedMbdf_braycurtis_distMat')\n",
      "removing problematic samples...\n",
      "distMat1 shape before samples removal is 392_392\n",
      "distMat2 shape before samples removal is 447_447\n",
      "distMat1 shape AFTER samples removal is 373_373\n",
      "distMat2 shape AFTER samples removal is 428_428\n",
      "original x array shape is 373_373\n",
      "original y array shape is 428_428\n",
      "loading and processing distance matrix files...\n",
      "verifying same samples in compared distance matrices:\n",
      "filtering same person samples\n",
      "loading BD_FD table\n",
      "number of BD-UserID pairs is 1099\n",
      "merging UserID info to BDgrouped table:\n",
      "0 UserIDs have more than one BD\n",
      "groupedDF length before dropping same person samples is 321\n",
      "removing UserIDs: []\n",
      "removing BD: []\n",
      "groupedDF shape after dropping same person samples is 321_321\n",
      "loading BD_FD table\n",
      "number of BD-UserID pairs is 1099\n",
      "merging UserID info to BDgrouped table:\n",
      "0 UserIDs have more than one BD\n",
      "groupedDF length before dropping same person samples is 321\n",
      "removing UserIDs: []\n",
      "removing BD: []\n",
      "groupedDF shape after dropping same person samples is 321_321\n",
      "new x array shape is 321_321\n",
      "new y array shape is 321_321\n",
      "            BD1      BD10     BD101     BD105     BD106\n",
      "BD                                                     \n",
      "BD1    0.000000  0.981428  0.987870  0.981535  0.980251\n",
      "BD10   0.981428  0.000000  0.984689  0.984928  0.981023\n",
      "BD101  0.987870  0.984689  0.000000  0.990815  0.990722\n",
      "BD105  0.981535  0.984928  0.990815  0.000000  0.984438\n",
      "BD106  0.980251  0.981023  0.990722  0.984438  0.000000\n",
      "            BD1      BD10     BD101     BD105     BD106\n",
      "BD                                                     \n",
      "BD1    0.000000  0.696976  0.560676  0.600362  0.638222\n",
      "BD10   0.696976  0.000000  0.590118  0.622986  0.658945\n",
      "BD101  0.560676  0.590118  0.000000  0.658897  0.548296\n",
      "BD105  0.600362  0.622986  0.658897  0.000000  0.697122\n",
      "BD106  0.638222  0.658945  0.548296  0.697122  0.000000\n",
      "make sure matrices dimensions and heads are identical!\n",
      "running mantel test...\n",
      "0.024549241643730575 0.191\n",
      "saving mantel results\n",
      "DONE!\n",
      "2 ('TCRonlyProductiveTrue_braycurtis_distMat', 'sharedCappedTrimmedMbdf_genus_braycurtis_distMat')\n",
      "removing problematic samples...\n",
      "distMat1 shape before samples removal is 392_392\n",
      "distMat2 shape before samples removal is 447_447\n",
      "distMat1 shape AFTER samples removal is 373_373\n",
      "distMat2 shape AFTER samples removal is 428_428\n",
      "original x array shape is 373_373\n",
      "original y array shape is 428_428\n",
      "loading and processing distance matrix files...\n",
      "verifying same samples in compared distance matrices:\n",
      "filtering same person samples\n",
      "loading BD_FD table\n",
      "number of BD-UserID pairs is 1099\n",
      "merging UserID info to BDgrouped table:\n",
      "0 UserIDs have more than one BD\n",
      "groupedDF length before dropping same person samples is 321\n",
      "removing UserIDs: []\n",
      "removing BD: []\n",
      "groupedDF shape after dropping same person samples is 321_321\n",
      "loading BD_FD table\n",
      "number of BD-UserID pairs is 1099\n",
      "merging UserID info to BDgrouped table:\n",
      "0 UserIDs have more than one BD\n",
      "groupedDF length before dropping same person samples is 321\n",
      "removing UserIDs: []\n",
      "removing BD: []\n",
      "groupedDF shape after dropping same person samples is 321_321\n",
      "new x array shape is 321_321\n",
      "new y array shape is 321_321\n",
      "            BD1      BD10     BD101     BD105     BD106\n",
      "BD                                                     \n",
      "BD1    0.000000  0.981428  0.987870  0.981535  0.980251\n",
      "BD10   0.981428  0.000000  0.984689  0.984928  0.981023\n",
      "BD101  0.987870  0.984689  0.000000  0.990815  0.990722\n",
      "BD105  0.981535  0.984928  0.990815  0.000000  0.984438\n",
      "BD106  0.980251  0.981023  0.990722  0.984438  0.000000\n",
      "            BD1      BD10     BD101     BD105     BD106\n",
      "BD                                                     \n",
      "BD1    0.000000  0.515170  0.343964  0.475611  0.539634\n",
      "BD10   0.515170  0.000000  0.447700  0.493252  0.565639\n",
      "BD101  0.343964  0.447700  0.000000  0.521586  0.406740\n",
      "BD105  0.475611  0.493252  0.521586  0.000000  0.663909\n",
      "BD106  0.539634  0.565639  0.406740  0.663909  0.000000\n",
      "make sure matrices dimensions and heads are identical!\n",
      "running mantel test...\n",
      "0.05099955931939529 0.05\n",
      "saving mantel results\n",
      "DONE!\n",
      "3 ('TCRonlyProductiveTrue_divided_trimmed_braycurtis_distMat', 'sharedCappedTrimmedMbdf_braycurtis_distMat')\n",
      "removing problematic samples...\n",
      "distMat1 shape before samples removal is 392_392\n",
      "distMat2 shape before samples removal is 447_447\n",
      "distMat1 shape AFTER samples removal is 373_373\n",
      "distMat2 shape AFTER samples removal is 428_428\n",
      "original x array shape is 373_373\n",
      "original y array shape is 428_428\n",
      "loading and processing distance matrix files...\n",
      "verifying same samples in compared distance matrices:\n",
      "filtering same person samples\n",
      "loading BD_FD table\n",
      "number of BD-UserID pairs is 1099\n",
      "merging UserID info to BDgrouped table:\n",
      "0 UserIDs have more than one BD\n",
      "groupedDF length before dropping same person samples is 321\n",
      "removing UserIDs: []\n",
      "removing BD: []\n",
      "groupedDF shape after dropping same person samples is 321_321\n",
      "loading BD_FD table\n",
      "number of BD-UserID pairs is 1099\n",
      "merging UserID info to BDgrouped table:\n",
      "0 UserIDs have more than one BD\n",
      "groupedDF length before dropping same person samples is 321\n",
      "removing UserIDs: []\n",
      "removing BD: []\n",
      "groupedDF shape after dropping same person samples is 321_321\n",
      "new x array shape is 321_321\n",
      "new y array shape is 321_321\n",
      "            BD1      BD10     BD101     BD105     BD106\n",
      "BD                                                     \n",
      "BD1    0.000000  0.971007  0.980580  0.970759  0.968951\n",
      "BD10   0.971007  0.000000  0.974638  0.975249  0.969812\n",
      "BD101  0.980580  0.974638  0.000000  0.984808  0.985011\n",
      "BD105  0.970759  0.975249  0.984808  0.000000  0.973847\n",
      "BD106  0.968951  0.969812  0.985011  0.973847  0.000000\n",
      "            BD1      BD10     BD101     BD105     BD106\n",
      "BD                                                     \n",
      "BD1    0.000000  0.696976  0.560676  0.600362  0.638222\n",
      "BD10   0.696976  0.000000  0.590118  0.622986  0.658945\n",
      "BD101  0.560676  0.590118  0.000000  0.658897  0.548296\n",
      "BD105  0.600362  0.622986  0.658897  0.000000  0.697122\n",
      "BD106  0.638222  0.658945  0.548296  0.697122  0.000000\n",
      "make sure matrices dimensions and heads are identical!\n",
      "running mantel test...\n"
     ]
    },
    {
     "name": "stdout",
     "output_type": "stream",
     "text": [
      "0.016829416425405107 0.266\n",
      "saving mantel results\n",
      "DONE!\n",
      "4 ('TCRonlyProductiveTrue_divided_trimmed_braycurtis_distMat', 'sharedCappedTrimmedMbdf_genus_braycurtis_distMat')\n",
      "removing problematic samples...\n",
      "distMat1 shape before samples removal is 392_392\n",
      "distMat2 shape before samples removal is 447_447\n",
      "distMat1 shape AFTER samples removal is 373_373\n",
      "distMat2 shape AFTER samples removal is 428_428\n",
      "original x array shape is 373_373\n",
      "original y array shape is 428_428\n",
      "loading and processing distance matrix files...\n",
      "verifying same samples in compared distance matrices:\n",
      "filtering same person samples\n",
      "loading BD_FD table\n",
      "number of BD-UserID pairs is 1099\n",
      "merging UserID info to BDgrouped table:\n",
      "0 UserIDs have more than one BD\n",
      "groupedDF length before dropping same person samples is 321\n",
      "removing UserIDs: []\n",
      "removing BD: []\n",
      "groupedDF shape after dropping same person samples is 321_321\n",
      "loading BD_FD table\n",
      "number of BD-UserID pairs is 1099\n",
      "merging UserID info to BDgrouped table:\n",
      "0 UserIDs have more than one BD\n",
      "groupedDF length before dropping same person samples is 321\n",
      "removing UserIDs: []\n",
      "removing BD: []\n",
      "groupedDF shape after dropping same person samples is 321_321\n",
      "new x array shape is 321_321\n",
      "new y array shape is 321_321\n",
      "            BD1      BD10     BD101     BD105     BD106\n",
      "BD                                                     \n",
      "BD1    0.000000  0.971007  0.980580  0.970759  0.968951\n",
      "BD10   0.971007  0.000000  0.974638  0.975249  0.969812\n",
      "BD101  0.980580  0.974638  0.000000  0.984808  0.985011\n",
      "BD105  0.970759  0.975249  0.984808  0.000000  0.973847\n",
      "BD106  0.968951  0.969812  0.985011  0.973847  0.000000\n",
      "            BD1      BD10     BD101     BD105     BD106\n",
      "BD                                                     \n",
      "BD1    0.000000  0.515170  0.343964  0.475611  0.539634\n",
      "BD10   0.515170  0.000000  0.447700  0.493252  0.565639\n",
      "BD101  0.343964  0.447700  0.000000  0.521586  0.406740\n",
      "BD105  0.475611  0.493252  0.521586  0.000000  0.663909\n",
      "BD106  0.539634  0.565639  0.406740  0.663909  0.000000\n",
      "make sure matrices dimensions and heads are identical!\n",
      "running mantel test...\n",
      "0.041017873228157836 0.076\n",
      "saving mantel results\n",
      "DONE!\n",
      "5 ('TCRonlyProductiveTrue_divided_trimmed_capped_braycurtis_distMat', 'sharedCappedTrimmedMbdf_braycurtis_distMat')\n",
      "removing problematic samples...\n",
      "distMat1 shape before samples removal is 392_392\n",
      "distMat2 shape before samples removal is 447_447\n",
      "distMat1 shape AFTER samples removal is 373_373\n",
      "distMat2 shape AFTER samples removal is 428_428\n",
      "original x array shape is 373_373\n",
      "original y array shape is 428_428\n",
      "loading and processing distance matrix files...\n",
      "verifying same samples in compared distance matrices:\n",
      "filtering same person samples\n",
      "loading BD_FD table\n",
      "number of BD-UserID pairs is 1099\n",
      "merging UserID info to BDgrouped table:\n",
      "0 UserIDs have more than one BD\n",
      "groupedDF length before dropping same person samples is 321\n",
      "removing UserIDs: []\n",
      "removing BD: []\n",
      "groupedDF shape after dropping same person samples is 321_321\n",
      "loading BD_FD table\n",
      "number of BD-UserID pairs is 1099\n",
      "merging UserID info to BDgrouped table:\n",
      "0 UserIDs have more than one BD\n",
      "groupedDF length before dropping same person samples is 321\n",
      "removing UserIDs: []\n",
      "removing BD: []\n",
      "groupedDF shape after dropping same person samples is 321_321\n",
      "new x array shape is 321_321\n",
      "new y array shape is 321_321\n",
      "            BD1      BD10     BD101     BD105     BD106\n",
      "BD                                                     \n",
      "BD1    0.000000  0.009753  0.006529  0.008245  0.008886\n",
      "BD10   0.009753  0.000000  0.009347  0.011003  0.011697\n",
      "BD101  0.006529  0.009347  0.000000  0.007783  0.008606\n",
      "BD105  0.008245  0.011003  0.007783  0.000000  0.010309\n",
      "BD106  0.008886  0.011697  0.008606  0.010309  0.000000\n",
      "            BD1      BD10     BD101     BD105     BD106\n",
      "BD                                                     \n",
      "BD1    0.000000  0.696976  0.560676  0.600362  0.638222\n",
      "BD10   0.696976  0.000000  0.590118  0.622986  0.658945\n",
      "BD101  0.560676  0.590118  0.000000  0.658897  0.548296\n",
      "BD105  0.600362  0.622986  0.658897  0.000000  0.697122\n",
      "BD106  0.638222  0.658945  0.548296  0.697122  0.000000\n",
      "make sure matrices dimensions and heads are identical!\n",
      "running mantel test...\n",
      "0.04756437594681479 0.087\n",
      "saving mantel results\n",
      "DONE!\n",
      "6 ('TCRonlyProductiveTrue_divided_trimmed_capped_braycurtis_distMat', 'sharedCappedTrimmedMbdf_genus_braycurtis_distMat')\n",
      "removing problematic samples...\n",
      "distMat1 shape before samples removal is 392_392\n",
      "distMat2 shape before samples removal is 447_447\n",
      "distMat1 shape AFTER samples removal is 373_373\n",
      "distMat2 shape AFTER samples removal is 428_428\n",
      "original x array shape is 373_373\n",
      "original y array shape is 428_428\n",
      "loading and processing distance matrix files...\n",
      "verifying same samples in compared distance matrices:\n",
      "filtering same person samples\n",
      "loading BD_FD table\n",
      "number of BD-UserID pairs is 1099\n",
      "merging UserID info to BDgrouped table:\n",
      "0 UserIDs have more than one BD\n",
      "groupedDF length before dropping same person samples is 321\n",
      "removing UserIDs: []\n",
      "removing BD: []\n",
      "groupedDF shape after dropping same person samples is 321_321\n",
      "loading BD_FD table\n",
      "number of BD-UserID pairs is 1099\n",
      "merging UserID info to BDgrouped table:\n",
      "0 UserIDs have more than one BD\n",
      "groupedDF length before dropping same person samples is 321\n",
      "removing UserIDs: []\n",
      "removing BD: []\n",
      "groupedDF shape after dropping same person samples is 321_321\n",
      "new x array shape is 321_321\n",
      "new y array shape is 321_321\n",
      "            BD1      BD10     BD101     BD105     BD106\n",
      "BD                                                     \n",
      "BD1    0.000000  0.009753  0.006529  0.008245  0.008886\n",
      "BD10   0.009753  0.000000  0.009347  0.011003  0.011697\n",
      "BD101  0.006529  0.009347  0.000000  0.007783  0.008606\n",
      "BD105  0.008245  0.011003  0.007783  0.000000  0.010309\n",
      "BD106  0.008886  0.011697  0.008606  0.010309  0.000000\n",
      "            BD1      BD10     BD101     BD105     BD106\n",
      "BD                                                     \n",
      "BD1    0.000000  0.515170  0.343964  0.475611  0.539634\n",
      "BD10   0.515170  0.000000  0.447700  0.493252  0.565639\n",
      "BD101  0.343964  0.447700  0.000000  0.521586  0.406740\n",
      "BD105  0.475611  0.493252  0.521586  0.000000  0.663909\n",
      "BD106  0.539634  0.565639  0.406740  0.663909  0.000000\n",
      "make sure matrices dimensions and heads are identical!\n",
      "running mantel test...\n",
      "0.061286860068656544 0.045\n",
      "saving mantel results\n",
      "DONE!\n",
      "7 ('TCRonlyProductiveTrue_divided_trimmed_capped_normed_braycurtis_distMat', 'normSharedCappedTrimmedMbdf_braycurtis_distMat')\n",
      "removing problematic samples...\n",
      "distMat1 shape before samples removal is 392_392\n",
      "distMat2 shape before samples removal is 447_447\n",
      "distMat1 shape AFTER samples removal is 373_373\n",
      "distMat2 shape AFTER samples removal is 428_428\n",
      "original x array shape is 373_373\n",
      "original y array shape is 428_428\n",
      "loading and processing distance matrix files...\n",
      "verifying same samples in compared distance matrices:\n",
      "filtering same person samples\n",
      "loading BD_FD table\n",
      "number of BD-UserID pairs is 1099\n",
      "merging UserID info to BDgrouped table:\n",
      "0 UserIDs have more than one BD\n",
      "groupedDF length before dropping same person samples is 321\n",
      "removing UserIDs: []\n",
      "removing BD: []\n",
      "groupedDF shape after dropping same person samples is 321_321\n",
      "loading BD_FD table\n",
      "number of BD-UserID pairs is 1099\n",
      "merging UserID info to BDgrouped table:\n",
      "0 UserIDs have more than one BD\n",
      "groupedDF length before dropping same person samples is 321\n",
      "removing UserIDs: []\n",
      "removing BD: []\n",
      "groupedDF shape after dropping same person samples is 321_321\n",
      "new x array shape is 321_321\n",
      "new y array shape is 321_321\n",
      "            BD1      BD10     BD101     BD105     BD106\n",
      "BD                                                     \n",
      "BD1    0.000000  0.012596  0.006930  0.009560  0.010945\n",
      "BD10   0.012596  0.000000  0.012585  0.012535  0.012490\n",
      "BD101  0.006930  0.012585  0.000000  0.009495  0.011061\n",
      "BD105  0.009560  0.012535  0.009495  0.000000  0.011051\n",
      "BD106  0.010945  0.012490  0.011061  0.011051  0.000000\n",
      "            BD1      BD10     BD101     BD105     BD106\n",
      "BD                                                     \n",
      "BD1    0.000000  0.693762  0.560204  0.600385  0.638892\n",
      "BD10   0.693762  0.000000  0.575518  0.627576  0.649034\n",
      "BD101  0.560204  0.575518  0.000000  0.659476  0.548479\n",
      "BD105  0.600385  0.627576  0.659476  0.000000  0.696573\n",
      "BD106  0.638892  0.649034  0.548479  0.696573  0.000000\n",
      "make sure matrices dimensions and heads are identical!\n",
      "running mantel test...\n"
     ]
    },
    {
     "name": "stdout",
     "output_type": "stream",
     "text": [
      "0.04121868539753553 0.128\n",
      "saving mantel results\n",
      "DONE!\n",
      "8 ('TCRonlyProductiveTrue_divided_trimmed_capped_normed_braycurtis_distMat', 'normSharedCappedTrimmedMbdf_genus_braycurtis_distMat')\n",
      "removing problematic samples...\n",
      "distMat1 shape before samples removal is 392_392\n",
      "distMat2 shape before samples removal is 447_447\n",
      "distMat1 shape AFTER samples removal is 373_373\n",
      "distMat2 shape AFTER samples removal is 428_428\n",
      "original x array shape is 373_373\n",
      "original y array shape is 428_428\n",
      "loading and processing distance matrix files...\n",
      "verifying same samples in compared distance matrices:\n",
      "filtering same person samples\n",
      "loading BD_FD table\n",
      "number of BD-UserID pairs is 1099\n",
      "merging UserID info to BDgrouped table:\n",
      "0 UserIDs have more than one BD\n",
      "groupedDF length before dropping same person samples is 321\n",
      "removing UserIDs: []\n",
      "removing BD: []\n",
      "groupedDF shape after dropping same person samples is 321_321\n",
      "loading BD_FD table\n",
      "number of BD-UserID pairs is 1099\n",
      "merging UserID info to BDgrouped table:\n",
      "0 UserIDs have more than one BD\n",
      "groupedDF length before dropping same person samples is 321\n",
      "removing UserIDs: []\n",
      "removing BD: []\n",
      "groupedDF shape after dropping same person samples is 321_321\n",
      "new x array shape is 321_321\n",
      "new y array shape is 321_321\n",
      "            BD1      BD10     BD101     BD105     BD106\n",
      "BD                                                     \n",
      "BD1    0.000000  0.012596  0.006930  0.009560  0.010945\n",
      "BD10   0.012596  0.000000  0.012585  0.012535  0.012490\n",
      "BD101  0.006930  0.012585  0.000000  0.009495  0.011061\n",
      "BD105  0.009560  0.012535  0.009495  0.000000  0.011051\n",
      "BD106  0.010945  0.012490  0.011061  0.011051  0.000000\n",
      "            BD1      BD10     BD101     BD105     BD106\n",
      "BD                                                     \n",
      "BD1    0.000000  0.506998  0.343959  0.474684  0.539720\n",
      "BD10   0.506998  0.000000  0.431074  0.486204  0.565682\n",
      "BD101  0.343959  0.431074  0.000000  0.521890  0.406894\n",
      "BD105  0.474684  0.486204  0.521890  0.000000  0.663622\n",
      "BD106  0.539720  0.565682  0.406894  0.663622  0.000000\n",
      "make sure matrices dimensions and heads are identical!\n",
      "running mantel test...\n",
      "0.05954250996462701 0.054\n",
      "saving mantel results\n",
      "DONE!\n"
     ]
    }
   ],
   "source": [
    "MantelList=[('TCRonlyProductiveTrue_braycurtis_distMat','MbdfOld_braycurtis_distMat'),\n",
    "            ('TCRonlyProductiveTrue_braycurtis_distMat','sharedCappedTrimmedMbdf_braycurtis_distMat'),\n",
    "            ('TCRonlyProductiveTrue_braycurtis_distMat','sharedCappedTrimmedMbdf_genus_braycurtis_distMat'),\n",
    "            ('TCRonlyProductiveTrue_divided_trimmed_braycurtis_distMat','sharedCappedTrimmedMbdf_braycurtis_distMat'),\n",
    "            ('TCRonlyProductiveTrue_divided_trimmed_braycurtis_distMat','sharedCappedTrimmedMbdf_genus_braycurtis_distMat'),\n",
    "            ('TCRonlyProductiveTrue_divided_trimmed_capped_braycurtis_distMat','sharedCappedTrimmedMbdf_braycurtis_distMat'),\n",
    "            ('TCRonlyProductiveTrue_divided_trimmed_capped_braycurtis_distMat','sharedCappedTrimmedMbdf_genus_braycurtis_distMat'),\n",
    "            ('TCRonlyProductiveTrue_divided_trimmed_capped_normed_braycurtis_distMat','normSharedCappedTrimmedMbdf_braycurtis_distMat'),\n",
    "            ('TCRonlyProductiveTrue_divided_trimmed_capped_normed_braycurtis_distMat','normSharedCappedTrimmedMbdf_genus_braycurtis_distMat')]\n",
    "            \n",
    "\n",
    "for n,mantel in enumerate(MantelList):\n",
    "    \n",
    "    print n,mantel\n",
    "    \n",
    "    distMat1name=mantel[0]\n",
    "    distMat2name=mantel[1]\n",
    "    \n",
    "    \n",
    "    \n",
    "    TCR_distMatFolder='%s/distanceMatrices' %dataset_folder\n",
    "    MB_distMatFolder='%s/MicrobiomeDataTables/distanceMatrices' %MyPath\n",
    "    \n",
    "    TCRfile='%s/%s' %(TCR_distMatFolder,distMat1name)\n",
    "    MBfile='%s/%s' %(MB_distMatFolder,distMat2name)\n",
    "    \n",
    "    \n",
    "    distMat1=pd.read_pickle(TCRfile)\n",
    "    distMat2=pd.read_pickle(MBfile)\n",
    "    \n",
    "    print 'removing problematic samples...'\n",
    "    print 'distMat1 shape before samples removal is %s_%s' %(distMat1.shape[0],distMat1.shape[1])\n",
    "    print 'distMat2 shape before samples removal is %s_%s' %(distMat2.shape[0],distMat2.shape[1])\n",
    "    \n",
    "    for sample in BDnoSameYearMatch:\n",
    "#         print sample\n",
    "        if sample in list(distMat1.index):\n",
    "#             print 'samples %s is in distMat1 index' %sample\n",
    "            distMat1=distMat1.drop(sample,axis=0)\n",
    "            distMat1=distMat1.drop(sample,axis=1)\n",
    "        if sample in list(distMat2.index):\n",
    "#             print 'samples %s is in distMat2 index' %sample\n",
    "            distMat2=distMat2.drop(sample,axis=0)\n",
    "            distMat2=distMat2.drop(sample,axis=1)\n",
    "\n",
    "    \n",
    "    print 'distMat1 shape AFTER samples removal is %s_%s' %(distMat1.shape[0],distMat1.shape[1])\n",
    "    print 'distMat2 shape AFTER samples removal is %s_%s' %(distMat2.shape[0],distMat2.shape[1])\n",
    "    \n",
    "    MantelFolder='%s/TCR_mb_results/distCorrelations/MantelDFs' %dataset_folder\n",
    "    if not isdir(MantelFolder):\n",
    "        makedirs(MantelFolder)\n",
    "    \n",
    "    mantelDF=mantelTest_feature_phenotype(distMat1, distMat2,distMat1name, distMat2name, MantelFolder,method,n_permut,alternative,removeSameUser)\n",
    "    mantelDF.loc[0,'datasetName']=datasetName\n",
    "    mantelDF.loc[0,'removeSameUser']=removeSameUser\n",
    "    mantelDF.loc[0,'noProblematic']='True'\n",
    "    \n",
    "    \n",
    "    mantelFile='%s/%s_%s_noProblematic' %(MantelFolder,distMat1name,distMat2name)\n",
    "    mantelDF.to_pickle(mantelFile)\n",
    "    "
   ]
  },
  {
   "cell_type": "code",
   "execution_count": null,
   "metadata": {},
   "outputs": [],
   "source": []
  },
  {
   "cell_type": "code",
   "execution_count": null,
   "metadata": {},
   "outputs": [],
   "source": []
  },
  {
   "cell_type": "code",
   "execution_count": null,
   "metadata": {},
   "outputs": [],
   "source": []
  },
  {
   "cell_type": "markdown",
   "metadata": {},
   "source": [
    "## merge Mantel results"
   ]
  },
  {
   "cell_type": "code",
   "execution_count": 16,
   "metadata": {
    "ExecuteTime": {
     "end_time": "2018-05-30T20:48:03.355562Z",
     "start_time": "2018-05-30T20:48:03.294415Z"
    }
   },
   "outputs": [
    {
     "data": {
      "text/html": [
       "<div>\n",
       "<style>\n",
       "    .dataframe thead tr:only-child th {\n",
       "        text-align: right;\n",
       "    }\n",
       "\n",
       "    .dataframe thead th {\n",
       "        text-align: left;\n",
       "    }\n",
       "\n",
       "    .dataframe tbody tr th {\n",
       "        vertical-align: top;\n",
       "    }\n",
       "</style>\n",
       "<table border=\"1\" class=\"dataframe\">\n",
       "  <thead>\n",
       "    <tr style=\"text-align: right;\">\n",
       "      <th></th>\n",
       "      <th>distMat1name</th>\n",
       "      <th>distMat2name</th>\n",
       "      <th>method</th>\n",
       "      <th>n_permut</th>\n",
       "      <th>alternative</th>\n",
       "      <th>corr_coeff</th>\n",
       "      <th>p_value</th>\n",
       "      <th>N</th>\n",
       "      <th>datasetName</th>\n",
       "      <th>removeSameUser</th>\n",
       "    </tr>\n",
       "  </thead>\n",
       "  <tbody>\n",
       "    <tr>\n",
       "      <th>0</th>\n",
       "      <td>TCRonlyProductiveTrue_2copiesshared_binary_jac...</td>\n",
       "      <td>MbDF_00001shared_binary_jaccard_distMat</td>\n",
       "      <td>spearman</td>\n",
       "      <td>999.0</td>\n",
       "      <td>greater</td>\n",
       "      <td>-0.002018</td>\n",
       "      <td>0.541</td>\n",
       "      <td>336.0</td>\n",
       "      <td>PNP515_ss15000_rep2</td>\n",
       "      <td>True</td>\n",
       "    </tr>\n",
       "  </tbody>\n",
       "</table>\n",
       "</div>"
      ],
      "text/plain": [
       "                                        distMat1name  \\\n",
       "0  TCRonlyProductiveTrue_2copiesshared_binary_jac...   \n",
       "\n",
       "                              distMat2name    method  n_permut alternative  \\\n",
       "0  MbDF_00001shared_binary_jaccard_distMat  spearman     999.0     greater   \n",
       "\n",
       "   corr_coeff  p_value      N          datasetName  removeSameUser  \n",
       "0   -0.002018    0.541  336.0  PNP515_ss15000_rep2            True  "
      ]
     },
     "execution_count": 16,
     "metadata": {},
     "output_type": "execute_result"
    }
   ],
   "source": [
    "MantelFolder='%s/TCR_mb_results/distCorrelations/MantelDFs' %dataset_folder\n",
    "file1='%s/TCRonlyProductiveTrue_2copiesshared_binary_jaccard_distMat_MbDF_00001shared_binary_jaccard_distMat' %MantelFolder\n",
    "mantel1=pd.read_pickle(file1)\n",
    "mantel1"
   ]
  },
  {
   "cell_type": "code",
   "execution_count": null,
   "metadata": {},
   "outputs": [],
   "source": []
  },
  {
   "cell_type": "code",
   "execution_count": null,
   "metadata": {},
   "outputs": [],
   "source": []
  },
  {
   "cell_type": "code",
   "execution_count": null,
   "metadata": {},
   "outputs": [],
   "source": []
  },
  {
   "cell_type": "code",
   "execution_count": 17,
   "metadata": {
    "ExecuteTime": {
     "end_time": "2018-05-30T20:48:08.662499Z",
     "start_time": "2018-05-30T20:48:08.174891Z"
    }
   },
   "outputs": [
    {
     "name": "stdout",
     "output_type": "stream",
     "text": [
      "number of dfs in directory: 35\n",
      "the length of df list is 35\n"
     ]
    }
   ],
   "source": [
    "MantelFolder='%s/TCR_mb_results/distCorrelations/MantelDFs' %dataset_folder\n",
    "MantelResults=concat_summarizing_dfs_excel(MantelFolder)"
   ]
  },
  {
   "cell_type": "code",
   "execution_count": 18,
   "metadata": {
    "ExecuteTime": {
     "end_time": "2018-05-30T20:48:14.156816Z",
     "start_time": "2018-05-30T20:48:13.825291Z"
    }
   },
   "outputs": [],
   "source": [
    "MantelResults=MantelResults.sort_values(by='p_value')\n",
    "MantelResults=add_corrected_pValues(MantelResults,pValueColumn='p_value',nTests=len(MantelResults),FDR=0.1)"
   ]
  },
  {
   "cell_type": "code",
   "execution_count": 19,
   "metadata": {
    "ExecuteTime": {
     "end_time": "2018-05-30T20:48:20.706598Z",
     "start_time": "2018-05-30T20:48:20.650581Z"
    }
   },
   "outputs": [],
   "source": [
    "file1='%s/TCR_mb_results/distCorrelations/MantelResults290518.xlsx' %dataset_folder\n",
    "MantelResults.to_excel(file1)"
   ]
  },
  {
   "cell_type": "markdown",
   "metadata": {},
   "source": [
    "# plot correlations, with relationships colors"
   ]
  },
  {
   "cell_type": "code",
   "execution_count": null,
   "metadata": {},
   "outputs": [],
   "source": []
  },
  {
   "cell_type": "markdown",
   "metadata": {},
   "source": [
    "# continue to edit TCRdf and MbDF for specific seq-species pair analysis"
   ]
  },
  {
   "cell_type": "code",
   "execution_count": null,
   "metadata": {},
   "outputs": [],
   "source": []
  },
  {
   "cell_type": "markdown",
   "metadata": {},
   "source": [
    "# run seq-species pair analysis (no permutations)"
   ]
  },
  {
   "cell_type": "code",
   "execution_count": null,
   "metadata": {},
   "outputs": [],
   "source": []
  }
 ],
 "metadata": {
  "kernelspec": {
   "display_name": "Python 2",
   "language": "python",
   "name": "python2"
  },
  "language_info": {
   "codemirror_mode": {
    "name": "ipython",
    "version": 2
   },
   "file_extension": ".py",
   "mimetype": "text/x-python",
   "name": "python",
   "nbconvert_exporter": "python",
   "pygments_lexer": "ipython2",
   "version": "2.7.8"
  },
  "toc": {
   "nav_menu": {},
   "number_sections": true,
   "sideBar": true,
   "skip_h1_title": false,
   "toc_cell": false,
   "toc_position": {
    "height": "920px",
    "left": "0px",
    "right": "1306.46px",
    "top": "134px",
    "width": "369px"
   },
   "toc_section_display": "block",
   "toc_window_display": true
  },
  "varInspector": {
   "cols": {
    "lenName": 16,
    "lenType": 16,
    "lenVar": 40
   },
   "kernels_config": {
    "python": {
     "delete_cmd_postfix": "",
     "delete_cmd_prefix": "del ",
     "library": "var_list.py",
     "varRefreshCmd": "print(var_dic_list())"
    },
    "r": {
     "delete_cmd_postfix": ") ",
     "delete_cmd_prefix": "rm(",
     "library": "var_list.r",
     "varRefreshCmd": "cat(var_dic_list()) "
    }
   },
   "types_to_exclude": [
    "module",
    "function",
    "builtin_function_or_method",
    "instance",
    "_Feature"
   ],
   "window_display": false
  }
 },
 "nbformat": 4,
 "nbformat_minor": 2
}
