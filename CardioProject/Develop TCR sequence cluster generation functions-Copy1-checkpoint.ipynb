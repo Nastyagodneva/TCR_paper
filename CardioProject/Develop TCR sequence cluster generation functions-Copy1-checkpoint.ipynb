{
 "cells": [
  {
   "cell_type": "markdown",
   "metadata": {},
   "source": [
    "# imports:"
   ]
  },
  {
   "cell_type": "code",
   "execution_count": 38,
   "metadata": {
    "ExecuteTime": {
     "end_time": "2018-11-27T11:26:41.076465Z",
     "start_time": "2018-11-27T11:26:41.015921Z"
    }
   },
   "outputs": [],
   "source": [
    "from os import listdir,mkdir,makedirs\n",
    "from os.path import isfile, join, isdir,exists\n",
    "import pandas as pd\n",
    "import numpy as np\n",
    "from scipy import stats\n",
    "import re\n",
    "import matplotlib.pyplot as plt\n",
    "from matplotlib.backends.backend_pdf import PdfPages\n",
    "from myplots import roundup, rounddown, find_decimal_fold, percentile_cut_off, rarefaction_calc, rarefaction_plot,draw_correlation_scatter\n",
    "from matplotlib.ticker import FormatStrFormatter\n",
    "import cPickle as pickle\n",
    "from Bio.SeqUtils import GC\n",
    "import seaborn as sns\n",
    "import random\n",
    "from scipy.stats import pearsonr,fisher_exact\n",
    "from skbio.diversity.alpha import shannon, simpson, berger_parker_d\n",
    "\n",
    "from pop_organize import get_sample_data, get_sample_with_dfs\n",
    "from SufficientStatistics import *\n",
    "from MyFunctionsShani import *\n",
    "import math\n",
    "from myplots import roundup, rounddown, find_decimal_fold\n",
    "from skbio.stats.distance import mantel\n",
    "from scipy.spatial.distance import braycurtis, pdist, euclidean\n",
    "\n",
    "\n",
    "from GeneralFeaturePhenotypeInteractions.Feature_phenotype_functions import * \n",
    "from TCR_microbiome_interactions.TCR_microbiome_interactions_functions import *\n",
    "from TCR_microbiome_interactions.TCR_microbiome_interactions_functions2 import *\n",
    "from SampleLists.SampleFileFunctions import *\n",
    "from PhenotypicData.PhenotypeGenerationFunctions import *\n",
    "from CardioProject.CardioFunctions import *\n",
    "from PredictionPipeline.PredictionFunctions import *\n",
    "from TCR_feature_generation.SubsamplingFunctions import *\n",
    "\n",
    "import os\n",
    "from Utils import cacheOnDisk\n",
    "from queue.qp import qp,fakeqp\n",
    "from addloglevels import sethandlers\n",
    "\n",
    "#ML imports:\n",
    "from xgboost import XGBClassifier\n",
    "import lightgbm as lgb\n",
    "from collections import OrderedDict\n",
    "from sklearn.model_selection import GroupKFold,StratifiedKFold, KFold\n",
    "import statsmodels.formula.api as sm\n",
    "from sklearn.linear_model import LogisticRegression, LinearRegression\n",
    "import shap\n",
    "from sklearn import metrics, preprocessing\n",
    "from sklearn.svm import LinearSVC\n",
    "from sklearn.feature_selection import SelectFromModel,SelectKBest,chi2,mutual_info_classif,f_classif\n",
    "from sklearn.naive_bayes import GaussianNB\n",
    "from sklearn.metrics import *\n",
    "\n",
    "from Levenshtein import distance\n",
    "from scipy.spatial.distance import pdist, squareform\n",
    "\n",
    "MyPath='/net/mraid08/export/genie/Lab/Personal/ShaniBAF'\n",
    "\n",
    "with open('/net/mraid08/export/genie/Lab/Personal/ShaniBAF/Sample files/BD lists/PNP530','rb') as fp:\n",
    "    PNP530=pickle.load(fp)\n",
    "with open('/net/mraid08/export/genie/Lab/Personal/ShaniBAF/Sample files/BD lists/Cardio126','rb') as fp:\n",
    "    Cardio126=pickle.load(fp)\n",
    "PNP530Cardio126=PNP530+Cardio126\n"
   ]
  },
  {
   "cell_type": "code",
   "execution_count": 20,
   "metadata": {
    "ExecuteTime": {
     "end_time": "2018-11-27T09:40:37.977053Z",
     "start_time": "2018-11-27T09:40:37.961498Z"
    }
   },
   "outputs": [
    {
     "data": {
      "text/plain": [
       "'27112018'"
      ]
     },
     "execution_count": 20,
     "metadata": {},
     "output_type": "execute_result"
    }
   ],
   "source": [
    "import time\n",
    "cdate=str(time.strftime(\"%d%m%Y\"))\n",
    "cdate"
   ]
  },
  {
   "cell_type": "markdown",
   "metadata": {},
   "source": [
    "# plan:"
   ]
  },
  {
   "cell_type": "markdown",
   "metadata": {},
   "source": [
    "1. load the unique aa table and generate something similar but very small. (enable selection of productive/non productive or both).\n",
    "2. generate distance matrix with metric=hamming distance\n",
    "3. new matrix: 1 for each cell with value<2 in old matrix. change col names to c1,c2..... \n",
    "4. filter out columns with sum=1\n",
    "5. calculate euclidean distance between remaining columns, in a pair with dist=1 or -1 or 0, delete the second cluster (check this!!!)\n",
    "6. end up with cluster matrix: seqeunces by clusters (c1,c2...) and values represent 'appear in cluster'\n",
    "7. this matrix can be then merge with each sample sequence list to yield a df showing which clusters are present in the sample.\n",
    "8. generate 1-row df for each sample, with 1 for any clusters that appear in the sample.\n",
    "9. concat all dfs, to get a matrix of samples X clusters. \n",
    "\n",
    "10 .this procedures should be modular so I can change the following parameters: initial sample folder (defines the dataset or defined by the dataset name), hamming distance threshold <2 or <3, info to collect - presence/absence of cluster or also frequency (for frequency, need to add a stage after 7 in which a new df is generated, and for each '1' in the former df, we extract the frequency of the sequence in the sample. that in #8, we summarize the frequencies and not just marking 1. "
   ]
  },
  {
   "cell_type": "markdown",
   "metadata": {},
   "source": [
    "# get small dataset:"
   ]
  },
  {
   "cell_type": "markdown",
   "metadata": {},
   "source": [
    "## load all unique with counts:"
   ]
  },
  {
   "cell_type": "code",
   "execution_count": 21,
   "metadata": {
    "ExecuteTime": {
     "end_time": "2018-11-27T11:04:51.677520Z",
     "start_time": "2018-11-27T11:04:35.485442Z"
    }
   },
   "outputs": [],
   "source": [
    "f1='%s/TCR_real_data/PNP530Cardio126Combined/sharingAnalysis/AllUniqueWithCounts' %MyPath\n",
    "AllUniqueWithCounts=pd.read_pickle(f1)"
   ]
  },
  {
   "cell_type": "code",
   "execution_count": 23,
   "metadata": {
    "ExecuteTime": {
     "end_time": "2018-11-27T11:05:48.611583Z",
     "start_time": "2018-11-27T11:05:48.523791Z"
    }
   },
   "outputs": [],
   "source": [
    "import modin as pd1\n"
   ]
  },
  {
   "cell_type": "code",
   "execution_count": 25,
   "metadata": {
    "ExecuteTime": {
     "end_time": "2018-11-27T11:10:59.760384Z",
     "start_time": "2018-11-27T11:10:59.756154Z"
    }
   },
   "outputs": [
    {
     "name": "stdout",
     "output_type": "stream",
     "text": [
      "(7864153, 5)\n"
     ]
    }
   ],
   "source": [
    "print AllUniqueWithCounts.shape"
   ]
  },
  {
   "cell_type": "code",
   "execution_count": 26,
   "metadata": {
    "ExecuteTime": {
     "end_time": "2018-11-27T11:11:13.407064Z",
     "start_time": "2018-11-27T11:11:13.376268Z"
    }
   },
   "outputs": [
    {
     "data": {
      "text/html": [
       "<div>\n",
       "<style scoped>\n",
       "    .dataframe tbody tr th:only-of-type {\n",
       "        vertical-align: middle;\n",
       "    }\n",
       "\n",
       "    .dataframe tbody tr th {\n",
       "        vertical-align: top;\n",
       "    }\n",
       "\n",
       "    .dataframe thead th {\n",
       "        text-align: right;\n",
       "    }\n",
       "</style>\n",
       "<table border=\"1\" class=\"dataframe\">\n",
       "  <thead>\n",
       "    <tr style=\"text-align: right;\">\n",
       "      <th></th>\n",
       "      <th>frequencyCount (%)</th>\n",
       "      <th>prod_stat</th>\n",
       "      <th>Sample</th>\n",
       "      <th>nShared</th>\n",
       "      <th>isPublic</th>\n",
       "    </tr>\n",
       "  </thead>\n",
       "  <tbody>\n",
       "    <tr>\n",
       "      <th>***ADGPYEQYV</th>\n",
       "      <td>0.009748</td>\n",
       "      <td>0</td>\n",
       "      <td>BD463</td>\n",
       "      <td>1</td>\n",
       "      <td>0</td>\n",
       "    </tr>\n",
       "    <tr>\n",
       "      <th>**AGGEQYF</th>\n",
       "      <td>0.003249</td>\n",
       "      <td>0</td>\n",
       "      <td>BD856</td>\n",
       "      <td>1</td>\n",
       "      <td>0</td>\n",
       "    </tr>\n",
       "    <tr>\n",
       "      <th>**EDKSGPQYF</th>\n",
       "      <td>0.003275</td>\n",
       "      <td>0</td>\n",
       "      <td>BD944</td>\n",
       "      <td>1</td>\n",
       "      <td>0</td>\n",
       "    </tr>\n",
       "    <tr>\n",
       "      <th>**EQFF</th>\n",
       "      <td>0.003405</td>\n",
       "      <td>0</td>\n",
       "      <td>BD845</td>\n",
       "      <td>1</td>\n",
       "      <td>0</td>\n",
       "    </tr>\n",
       "    <tr>\n",
       "      <th>**ERWVPDTQYF</th>\n",
       "      <td>0.003868</td>\n",
       "      <td>0</td>\n",
       "      <td>BD565</td>\n",
       "      <td>1</td>\n",
       "      <td>0</td>\n",
       "    </tr>\n",
       "  </tbody>\n",
       "</table>\n",
       "</div>"
      ],
      "text/plain": [
       "              frequencyCount (%)  prod_stat Sample  nShared  isPublic\n",
       "***ADGPYEQYV            0.009748          0  BD463        1         0\n",
       "**AGGEQYF               0.003249          0  BD856        1         0\n",
       "**EDKSGPQYF             0.003275          0  BD944        1         0\n",
       "**EQFF                  0.003405          0  BD845        1         0\n",
       "**ERWVPDTQYF            0.003868          0  BD565        1         0"
      ]
     },
     "execution_count": 26,
     "metadata": {},
     "output_type": "execute_result"
    }
   ],
   "source": [
    "AllUniqueWithCounts.head()"
   ]
  },
  {
   "cell_type": "markdown",
   "metadata": {},
   "source": [
    "## sample 5 samples, 5000 aa seqeunces from each:"
   ]
  },
  {
   "cell_type": "code",
   "execution_count": 29,
   "metadata": {
    "ExecuteTime": {
     "end_time": "2018-11-27T11:15:32.020524Z",
     "start_time": "2018-11-27T11:15:29.176519Z"
    }
   },
   "outputs": [
    {
     "name": "stdout",
     "output_type": "stream",
     "text": [
      "656\n"
     ]
    }
   ],
   "source": [
    "UniqueSeqProd=AllUniqueWithCounts[AllUniqueWithCounts['prod_stat']==1]\n",
    "samples=UniqueSeqProd['Sample'].unique().tolist()\n",
    "print len(samples)"
   ]
  },
  {
   "cell_type": "code",
   "execution_count": 30,
   "metadata": {
    "ExecuteTime": {
     "end_time": "2018-11-27T11:16:41.034948Z",
     "start_time": "2018-11-27T11:16:41.028982Z"
    }
   },
   "outputs": [
    {
     "data": {
      "text/html": [
       "['BD551', 'BD434', 'BD870', 'BD158', 'BD875']"
      ],
      "text/plain": [
       "['BD551', 'BD434', 'BD870', 'BD158', 'BD875']"
      ]
     },
     "execution_count": 30,
     "metadata": {},
     "output_type": "execute_result"
    }
   ],
   "source": [
    "randSamples=random.sample(samples, 5)\n",
    "randSamples"
   ]
  },
  {
   "cell_type": "code",
   "execution_count": 36,
   "metadata": {
    "ExecuteTime": {
     "end_time": "2018-11-27T11:23:38.474039Z",
     "start_time": "2018-11-27T11:23:33.447333Z"
    }
   },
   "outputs": [
    {
     "name": "stdout",
     "output_type": "stream",
     "text": [
      "(25000, 5)\n",
      "                        frequencyCount (%)  prod_stat Sample  nShared  \\\n",
      "CASSLPNDRGRVSLATYNEQFF            0.000048          1  BD551        1   \n",
      "CASTKTGQSSYNSPLHF                 0.000096          1  BD551        1   \n",
      "CATSRTGTEKLFF                     0.000096          1  BD551        1   \n",
      "CAISGGLNTEAFF                     0.000048          1  BD551        5   \n",
      "CASSTGRLSGANVLTF                  0.000144          1  BD551        8   \n",
      "\n",
      "                        isPublic  \n",
      "CASSLPNDRGRVSLATYNEQFF         0  \n",
      "CASTKTGQSSYNSPLHF              0  \n",
      "CATSRTGTEKLFF                  0  \n",
      "CAISGGLNTEAFF                  1  \n",
      "CASSTGRLSGANVLTF               1  \n"
     ]
    }
   ],
   "source": [
    "#generate dataset with 5000 random seqeunces per sample\n",
    "smallDataset5000=pd.DataFrame()\n",
    "for sample in randSamples:\n",
    "    df=UniqueSeqProd[UniqueSeqProd['Sample']==sample]\n",
    "#     print ('number of sequences in %s sample is %s' %(sample, len(df)))\n",
    "    randDF=df.sample(5000)\n",
    "#     print randDF.head()\n",
    "#     print ('number of random sequences selected is %s' % len(randDF))\n",
    "    smallDataset5000=pd.concat([smallDataset5000,randDF])\n",
    "print smallDataset5000.shape\n",
    "print smallDataset5000.head()"
   ]
  },
  {
   "cell_type": "code",
   "execution_count": 37,
   "metadata": {
    "ExecuteTime": {
     "end_time": "2018-11-27T11:24:04.302130Z",
     "start_time": "2018-11-27T11:23:59.429864Z"
    }
   },
   "outputs": [
    {
     "name": "stdout",
     "output_type": "stream",
     "text": [
      "(50, 5)\n",
      "                  frequencyCount (%)  prod_stat Sample  nShared  isPublic\n",
      "CASRGQGASDTQYF              0.000096          1  BD551        7         1\n",
      "CASSYTRTGGGYGYTF            0.000048          1  BD551       12         1\n",
      "CASGGGTRDGNEQFF             0.000096          1  BD551        1         0\n",
      "CASSFSRDVYNEQFF             0.000048          1  BD551        1         0\n",
      "CASRLTVNYGYTF               0.000048          1  BD551        8         1\n"
     ]
    }
   ],
   "source": [
    "#generate dataset with 10 random seqeunces per sample\n",
    "smallDataset10=pd.DataFrame()\n",
    "for sample in randSamples:\n",
    "    df=UniqueSeqProd[UniqueSeqProd['Sample']==sample]\n",
    "#     print ('number of sequences in %s sample is %s' %(sample, len(df)))\n",
    "    randDF=df.sample(10)\n",
    "#     print randDF.head()\n",
    "#     print ('number of random sequences selected is %s' % len(randDF))\n",
    "    smallDataset10=pd.concat([smallDataset10,randDF])\n",
    "print smallDataset10.shape\n",
    "print smallDataset10.head()"
   ]
  },
  {
   "cell_type": "markdown",
   "metadata": {},
   "source": [
    "# calculate hamming distnace on small datasets:"
   ]
  },
  {
   "cell_type": "code",
   "execution_count": 41,
   "metadata": {
    "ExecuteTime": {
     "end_time": "2018-11-27T11:29:22.769166Z",
     "start_time": "2018-11-27T11:29:22.764256Z"
    }
   },
   "outputs": [
    {
     "data": {
      "text/plain": [
       "pandas.core.frame.DataFrame"
      ]
     },
     "execution_count": 41,
     "metadata": {},
     "output_type": "execute_result"
    }
   ],
   "source": [
    "type(smallDataset10)"
   ]
  },
  {
   "cell_type": "code",
   "execution_count": 43,
   "metadata": {
    "ExecuteTime": {
     "end_time": "2018-11-27T11:30:04.388006Z",
     "start_time": "2018-11-27T11:30:04.381978Z"
    }
   },
   "outputs": [
    {
     "data": {
      "text/plain": [
       "list"
      ]
     },
     "execution_count": 43,
     "metadata": {},
     "output_type": "execute_result"
    }
   ],
   "source": [
    "seqs=smallDataset10.index.tolist()\n",
    "type(seqs)"
   ]
  },
  {
   "cell_type": "code",
   "execution_count": 51,
   "metadata": {
    "ExecuteTime": {
     "end_time": "2018-11-27T11:36:13.365150Z",
     "start_time": "2018-11-27T11:36:13.349780Z"
    }
   },
   "outputs": [],
   "source": [
    "def gen_hamming_square_distMat(seqs):\n",
    "    if type(seqs)==list:\n",
    "        print 'seqs type is a list'\n",
    "    elif type(seqs)==pd.core.frame.DataFrame:\n",
    "        try:\n",
    "            seqs=seqs.index.tolist()\n",
    "            print 'seqs type is a dataframe'\n",
    "        except: \n",
    "            print 'couldnt identify seqs type'\n",
    "            return\n",
    "\n",
    "\n",
    "\n",
    "\n",
    "    # prepare 2 dimensional array M x N (M entries (3) with N dimensions (1)) \n",
    "    transformed_seqs = np.array(seqs).reshape(-1,1)\n",
    "\n",
    "    # calculate condensed distance matrix by wrapping the Levenshtein distance function\n",
    "    distance_matrix = pdist(transformed_seqs,lambda x,y: distance(x[0],y[0]))\n",
    "\n",
    "    # get square matrix\n",
    "    # print distance_matrix\n",
    "    distance_df=pd.DataFrame(squareform(distance_matrix),index=seqs,columns=seqs)\n",
    "    print 'distMat header:'\n",
    "    print distance_df.iloc[:4,:4]\n",
    "    \n",
    "    return distance_df"
   ]
  },
  {
   "cell_type": "code",
   "execution_count": 52,
   "metadata": {
    "ExecuteTime": {
     "end_time": "2018-11-27T11:36:14.689246Z",
     "start_time": "2018-11-27T11:36:14.673469Z"
    }
   },
   "outputs": [
    {
     "name": "stdout",
     "output_type": "stream",
     "text": [
      "seqs type is a dataframe\n",
      "distMat header:\n",
      "                  CASRGQGASDTQYF  CASSYTRTGGGYGYTF  CASGGGTRDGNEQFF  \\\n",
      "CASRGQGASDTQYF               0.0              10.0              8.0   \n",
      "CASSYTRTGGGYGYTF            10.0               0.0             10.0   \n",
      "CASGGGTRDGNEQFF              8.0              10.0              0.0   \n",
      "CASSFSRDVYNEQFF             10.0              10.0              6.0   \n",
      "\n",
      "                  CASSFSRDVYNEQFF  \n",
      "CASRGQGASDTQYF               10.0  \n",
      "CASSYTRTGGGYGYTF             10.0  \n",
      "CASGGGTRDGNEQFF               6.0  \n",
      "CASSFSRDVYNEQFF               0.0  \n"
     ]
    }
   ],
   "source": [
    "hamming_distMat_10=gen_hamming_square_distMat(smallDataset10)"
   ]
  },
  {
   "cell_type": "code",
   "execution_count": 53,
   "metadata": {
    "ExecuteTime": {
     "end_time": "2018-11-27T11:46:37.268876Z",
     "start_time": "2018-11-27T11:36:16.990695Z"
    }
   },
   "outputs": [
    {
     "name": "stdout",
     "output_type": "stream",
     "text": [
      "seqs type is a dataframe\n",
      "distMat header:\n",
      "                        CASSLPNDRGRVSLATYNEQFF  CASTKTGQSSYNSPLHF  \\\n",
      "CASSLPNDRGRVSLATYNEQFF                     0.0               15.0   \n",
      "CASTKTGQSSYNSPLHF                         15.0                0.0   \n",
      "CATSRTGTEKLFF                             15.0               11.0   \n",
      "CAISGGLNTEAFF                             13.0               12.0   \n",
      "\n",
      "                        CATSRTGTEKLFF  CAISGGLNTEAFF  \n",
      "CASSLPNDRGRVSLATYNEQFF           15.0           13.0  \n",
      "CASTKTGQSSYNSPLHF                11.0           12.0  \n",
      "CATSRTGTEKLFF                     0.0            7.0  \n",
      "CAISGGLNTEAFF                     7.0            0.0  \n"
     ]
    }
   ],
   "source": [
    "hamming_distMat_5000=gen_hamming_square_distMat(smallDataset5000)"
   ]
  },
  {
   "cell_type": "code",
   "execution_count": 83,
   "metadata": {
    "ExecuteTime": {
     "end_time": "2018-11-27T12:39:23.744330Z",
     "start_time": "2018-11-27T12:39:23.732736Z"
    }
   },
   "outputs": [],
   "source": [
    "def convert_hammingDistMat_to_ClusterMatrix(hamming_distMat,hammingDistThresh):\n",
    "\n",
    "    clusterMatrix_cols=['C'+str(n) for n in range(len(hamming_distMat.columns))]\n",
    "    clusterMatrix=(hamming_distMat<(hammingDistThresh+1)).astype(int)\n",
    "    clusterMatrix.columns=clusterMatrix_cols\n",
    "    \n",
    "    singeltons=(clusterMatrix.sum()[clusterMatrix.sum()<2]).index.tolist()\n",
    "    multiSeqs=(clusterMatrix.sum()[clusterMatrix.sum()>1]).index.tolist()\n",
    "    print ('number of singelton clusters: ',len(singeltons))\n",
    "    print ('number of multiseq clusters: ', len(multiSeqs))\n",
    "                           \n",
    "    return clusterMatrix,singeltons,multiSeqs\n"
   ]
  },
  {
   "cell_type": "code",
   "execution_count": 85,
   "metadata": {
    "ExecuteTime": {
     "end_time": "2018-11-27T12:51:22.313686Z",
     "start_time": "2018-11-27T12:47:41.236453Z"
    }
   },
   "outputs": [
    {
     "name": "stdout",
     "output_type": "stream",
     "text": [
      "('number of singelton clusters: ', 19451)\n",
      "('number of multiseq clusters: ', 5549)\n"
     ]
    },
    {
     "data": {
      "text/html": [
       "<div>\n",
       "<style scoped>\n",
       "    .dataframe tbody tr th:only-of-type {\n",
       "        vertical-align: middle;\n",
       "    }\n",
       "\n",
       "    .dataframe tbody tr th {\n",
       "        vertical-align: top;\n",
       "    }\n",
       "\n",
       "    .dataframe thead th {\n",
       "        text-align: right;\n",
       "    }\n",
       "</style>\n",
       "<table border=\"1\" class=\"dataframe\">\n",
       "  <thead>\n",
       "    <tr style=\"text-align: right;\">\n",
       "      <th></th>\n",
       "      <th>C0</th>\n",
       "      <th>C1</th>\n",
       "      <th>C2</th>\n",
       "      <th>C3</th>\n",
       "      <th>C4</th>\n",
       "      <th>C5</th>\n",
       "      <th>C6</th>\n",
       "      <th>C7</th>\n",
       "      <th>C8</th>\n",
       "      <th>C9</th>\n",
       "    </tr>\n",
       "  </thead>\n",
       "  <tbody>\n",
       "    <tr>\n",
       "      <th>CASSLPNDRGRVSLATYNEQFF</th>\n",
       "      <td>1</td>\n",
       "      <td>0</td>\n",
       "      <td>0</td>\n",
       "      <td>0</td>\n",
       "      <td>0</td>\n",
       "      <td>0</td>\n",
       "      <td>0</td>\n",
       "      <td>0</td>\n",
       "      <td>0</td>\n",
       "      <td>0</td>\n",
       "    </tr>\n",
       "    <tr>\n",
       "      <th>CASTKTGQSSYNSPLHF</th>\n",
       "      <td>0</td>\n",
       "      <td>1</td>\n",
       "      <td>0</td>\n",
       "      <td>0</td>\n",
       "      <td>0</td>\n",
       "      <td>0</td>\n",
       "      <td>0</td>\n",
       "      <td>0</td>\n",
       "      <td>0</td>\n",
       "      <td>0</td>\n",
       "    </tr>\n",
       "    <tr>\n",
       "      <th>CATSRTGTEKLFF</th>\n",
       "      <td>0</td>\n",
       "      <td>0</td>\n",
       "      <td>1</td>\n",
       "      <td>0</td>\n",
       "      <td>0</td>\n",
       "      <td>0</td>\n",
       "      <td>0</td>\n",
       "      <td>0</td>\n",
       "      <td>0</td>\n",
       "      <td>0</td>\n",
       "    </tr>\n",
       "    <tr>\n",
       "      <th>CAISGGLNTEAFF</th>\n",
       "      <td>0</td>\n",
       "      <td>0</td>\n",
       "      <td>0</td>\n",
       "      <td>1</td>\n",
       "      <td>0</td>\n",
       "      <td>0</td>\n",
       "      <td>0</td>\n",
       "      <td>0</td>\n",
       "      <td>0</td>\n",
       "      <td>0</td>\n",
       "    </tr>\n",
       "    <tr>\n",
       "      <th>CASSTGRLSGANVLTF</th>\n",
       "      <td>0</td>\n",
       "      <td>0</td>\n",
       "      <td>0</td>\n",
       "      <td>0</td>\n",
       "      <td>1</td>\n",
       "      <td>0</td>\n",
       "      <td>0</td>\n",
       "      <td>0</td>\n",
       "      <td>0</td>\n",
       "      <td>0</td>\n",
       "    </tr>\n",
       "    <tr>\n",
       "      <th>CASSFSGQGPTNEKLFF</th>\n",
       "      <td>0</td>\n",
       "      <td>0</td>\n",
       "      <td>0</td>\n",
       "      <td>0</td>\n",
       "      <td>0</td>\n",
       "      <td>1</td>\n",
       "      <td>0</td>\n",
       "      <td>0</td>\n",
       "      <td>0</td>\n",
       "      <td>0</td>\n",
       "    </tr>\n",
       "    <tr>\n",
       "      <th>CASSPDRGQHTF</th>\n",
       "      <td>0</td>\n",
       "      <td>0</td>\n",
       "      <td>0</td>\n",
       "      <td>0</td>\n",
       "      <td>0</td>\n",
       "      <td>0</td>\n",
       "      <td>1</td>\n",
       "      <td>0</td>\n",
       "      <td>0</td>\n",
       "      <td>0</td>\n",
       "    </tr>\n",
       "    <tr>\n",
       "      <th>CASSHGTSGSGANVLTF</th>\n",
       "      <td>0</td>\n",
       "      <td>0</td>\n",
       "      <td>0</td>\n",
       "      <td>0</td>\n",
       "      <td>0</td>\n",
       "      <td>0</td>\n",
       "      <td>0</td>\n",
       "      <td>1</td>\n",
       "      <td>0</td>\n",
       "      <td>0</td>\n",
       "    </tr>\n",
       "    <tr>\n",
       "      <th>CASSLGFTGELFF</th>\n",
       "      <td>0</td>\n",
       "      <td>0</td>\n",
       "      <td>0</td>\n",
       "      <td>0</td>\n",
       "      <td>0</td>\n",
       "      <td>0</td>\n",
       "      <td>0</td>\n",
       "      <td>0</td>\n",
       "      <td>1</td>\n",
       "      <td>0</td>\n",
       "    </tr>\n",
       "    <tr>\n",
       "      <th>CASSPYVSGGAEQYF</th>\n",
       "      <td>0</td>\n",
       "      <td>0</td>\n",
       "      <td>0</td>\n",
       "      <td>0</td>\n",
       "      <td>0</td>\n",
       "      <td>0</td>\n",
       "      <td>0</td>\n",
       "      <td>0</td>\n",
       "      <td>0</td>\n",
       "      <td>1</td>\n",
       "    </tr>\n",
       "  </tbody>\n",
       "</table>\n",
       "</div>"
      ],
      "text/plain": [
       "                        C0  C1  C2  C3  C4  C5  C6  C7  C8  C9\n",
       "CASSLPNDRGRVSLATYNEQFF   1   0   0   0   0   0   0   0   0   0\n",
       "CASTKTGQSSYNSPLHF        0   1   0   0   0   0   0   0   0   0\n",
       "CATSRTGTEKLFF            0   0   1   0   0   0   0   0   0   0\n",
       "CAISGGLNTEAFF            0   0   0   1   0   0   0   0   0   0\n",
       "CASSTGRLSGANVLTF         0   0   0   0   1   0   0   0   0   0\n",
       "CASSFSGQGPTNEKLFF        0   0   0   0   0   1   0   0   0   0\n",
       "CASSPDRGQHTF             0   0   0   0   0   0   1   0   0   0\n",
       "CASSHGTSGSGANVLTF        0   0   0   0   0   0   0   1   0   0\n",
       "CASSLGFTGELFF            0   0   0   0   0   0   0   0   1   0\n",
       "CASSPYVSGGAEQYF          0   0   0   0   0   0   0   0   0   1"
      ]
     },
     "execution_count": 85,
     "metadata": {},
     "output_type": "execute_result"
    }
   ],
   "source": [
    "clusterMatrix_small5000,singeltons_small5000,multiSeqs_small5000=convert_hammingDistMat_to_CluasterMatrix(hamming_distMat_5000,1)\n",
    "clusterMatrix_small5000.iloc[:10,:10]"
   ]
  },
  {
   "cell_type": "code",
   "execution_count": 125,
   "metadata": {
    "ExecuteTime": {
     "end_time": "2018-11-28T09:24:22.785028Z",
     "start_time": "2018-11-28T09:24:22.766987Z"
    }
   },
   "outputs": [
    {
     "ename": "SyntaxError",
     "evalue": "invalid syntax (<ipython-input-125-3a244547041b>, line 9)",
     "output_type": "error",
     "traceback": [
      "\u001b[0;36m  File \u001b[0;32m\"<ipython-input-125-3a244547041b>\"\u001b[0;36m, line \u001b[0;32m9\u001b[0m\n\u001b[0;31m    for in in range(1000):\u001b[0m\n\u001b[0m         ^\u001b[0m\n\u001b[0;31mSyntaxError\u001b[0m\u001b[0;31m:\u001b[0m invalid syntax\n"
     ]
    }
   ],
   "source": [
    "def filter_identical_clusters(clusterMatrix,multiSeqs):\n",
    "    clusterMatrixMulti=clusterMatrix.loc[multiSeqs]\n",
    "    print ('clusterMatrixMulti.shape: ',clusterMatrixMulti.shape)\n",
    "    clustersToDrop=[]\n",
    "    cols=multiSeqs\n",
    "    print ('length of mutliSeqs is: ', len(multiSeqs))\n",
    "    print ('last multiSeq cluster is: ', multiSeqs[-1])\n",
    "#     for i in range(len(multiSeqs)):\n",
    "    for i in range(1000):\n",
    "        colA=cols[i]\n",
    "        if colA in clustersToDrop:\n",
    "#             print ('col %s cant be found' %colA)\n",
    "            continue\n",
    "        else:\n",
    "            \n",
    "            for j in range (i+1,len(multiSeqs)):\n",
    "                colB=cols[j]\n",
    "                if colB in clustersToDrop:\n",
    "#                     print ('col %s cant be found' %colB)\n",
    "                    continue\n",
    "                else:\n",
    "                    a=clusterMatrixMulti.loc[:,colA]\n",
    "                    b=clusterMatrixMulti.loc[:,colB]\n",
    "                    val = pdist(np.stack((a,b),axis=1).T,'cityblock')\n",
    "                    if val<2:\n",
    "                        print multiSeqs[i],multiSeqs[j],val,a.sum(),b.sum()\n",
    "                        if a.sum()<b.sum():\n",
    "                            clustersToDrop.append(multiSeqs[i])\n",
    "                            print ('drop a')\n",
    "                        else:\n",
    "                            clustersToDrop.append(multiSeqs[j])\n",
    "                            print ('drop b')\n",
    "\n",
    "\n",
    "    print clustersToDrop\n",
    "    print len(clustersToDrop)\n",
    "            \n",
    "            "
   ]
  },
  {
   "cell_type": "code",
   "execution_count": 121,
   "metadata": {
    "ExecuteTime": {
     "end_time": "2018-11-28T08:52:34.706738Z",
     "start_time": "2018-11-28T08:52:29.397018Z"
    }
   },
   "outputs": [
    {
     "data": {
      "text/plain": [
       "Index([u'C3', u'C4', u'C8', u'C13', u'C19', u'C28', u'C33', u'C34', u'C35',\n",
       "       u'C38'],\n",
       "      dtype='object')"
      ]
     },
     "execution_count": 121,
     "metadata": {},
     "output_type": "execute_result"
    }
   ],
   "source": [
    "clusterMatrix_small5000[multiSeqs_small5000].columns[:10]"
   ]
  },
  {
   "cell_type": "code",
   "execution_count": 124,
   "metadata": {
    "ExecuteTime": {
     "end_time": "2018-11-28T09:19:58.320123Z",
     "start_time": "2018-11-28T08:55:13.039398Z"
    }
   },
   "outputs": [
    {
     "name": "stdout",
     "output_type": "stream",
     "text": [
      "('clusterMatrixMulti.shape: ', (25000, 5549))\n",
      "C4 C2659 [0.] 2 2\n",
      "drop b\n",
      "C8 C22322 [0.] 9 9\n",
      "drop b\n",
      "C33 C2252 [0.] 2 2\n",
      "drop b\n",
      "C34 C11010 [1.] 4 3\n",
      "drop b\n",
      "C35 C15672 [1.] 2 3\n",
      "drop a\n",
      "C40 C21649 [0.] 2 2\n",
      "drop b\n",
      "C52 C11407 [1.] 3 2\n",
      "drop b\n",
      "C52 C14238 [1.] 3 2\n",
      "drop b\n",
      "C55 C11813 [0.] 2 2\n",
      "drop b\n",
      "C70 C12405 [0.] 2 2\n",
      "drop b\n",
      "C89 C7845 [0.] 2 2\n",
      "drop b\n",
      "C95 C2603 [1.] 3 2\n",
      "drop b\n",
      "C113 C24950 [0.] 2 2\n",
      "drop b\n",
      "C117 C13752 [0.] 2 2\n",
      "drop b\n",
      "C139 C1292 [1.] 4 3\n",
      "drop b\n",
      "C139 C6392 [1.] 4 3\n",
      "drop b\n",
      "C144 C2276 [0.] 3 3\n",
      "drop b\n",
      "C144 C15661 [0.] 3 3\n",
      "drop b\n",
      "C149 C1355 [0.] 2 2\n",
      "drop b\n",
      "C154 C18212 [0.] 24 24\n",
      "drop b\n",
      "C154 C22385 [0.] 24 24\n",
      "drop b\n",
      "C162 C11953 [0.] 2 2\n",
      "drop b\n",
      "C179 C646 [1.] 2 3\n",
      "drop a\n",
      "C182 C2983 [1.] 2 3\n",
      "drop a\n",
      "C186 C9024 [1.] 3 4\n",
      "drop a\n",
      "C210 C3125 [0.] 2 2\n",
      "drop b\n",
      "C244 C23913 [0.] 2 2\n",
      "drop b\n",
      "C259 C7626 [1.] 4 3\n",
      "drop b\n",
      "C261 C15801 [1.] 3 2\n",
      "drop b\n",
      "C264 C24557 [0.] 3 3\n",
      "drop b\n",
      "C269 C18509 [1.] 2 3\n",
      "drop a\n",
      "C278 C24239 [0.] 2 2\n",
      "drop b\n",
      "C294 C8664 [0.] 2 2\n",
      "drop b\n",
      "C295 C6076 [0.] 2 2\n",
      "drop b\n",
      "C302 C13058 [0.] 2 2\n",
      "drop b\n",
      "C314 C13789 [1.] 2 3\n",
      "drop a\n",
      "C326 C17543 [1.] 4 3\n",
      "drop b\n",
      "C328 C7160 [1.] 3 2\n",
      "drop b\n",
      "C334 C842 [1.] 3 2\n",
      "drop b\n",
      "C334 C14138 [1.] 3 2\n",
      "drop b\n",
      "C339 C10750 [1.] 2 3\n",
      "drop a\n",
      "C345 C589 [1.] 3 2\n",
      "drop b\n",
      "C345 C13175 [1.] 3 2\n",
      "drop b\n",
      "C346 C11016 [1.] 2 3\n",
      "drop a\n",
      "C352 C1688 [1.] 3 2\n",
      "drop b\n",
      "C352 C8660 [1.] 3 2\n",
      "drop b\n",
      "C355 C11678 [1.] 4 3\n",
      "drop b\n",
      "C365 C24372 [1.] 3 4\n",
      "drop a\n",
      "C382 C7233 [1.] 3 2\n",
      "drop b\n",
      "C382 C16785 [1.] 3 2\n",
      "drop b\n",
      "C384 C2543 [1.] 2 3\n",
      "drop a\n",
      "C403 C22118 [1.] 3 2\n",
      "drop b\n",
      "C408 C2362 [1.] 2 3\n",
      "drop a\n",
      "C413 C14554 [1.] 2 3\n",
      "drop a\n",
      "C432 C5252 [0.] 2 2\n",
      "drop b\n",
      "C434 C10428 [1.] 2 3\n",
      "drop a\n",
      "C445 C2048 [1.] 2 3\n",
      "drop a\n",
      "C452 C8674 [1.] 2 3\n",
      "drop a\n",
      "C454 C4875 [0.] 2 2\n",
      "drop b\n",
      "C458 C5104 [1.] 3 2\n",
      "drop b\n",
      "C470 C1220 [1.] 3 2\n",
      "drop b\n",
      "C487 C8791 [0.] 4 4\n",
      "drop b\n",
      "C487 C15655 [0.] 4 4\n",
      "drop b\n",
      "C489 C24439 [1.] 2 3\n",
      "drop a\n",
      "C490 C5429 [0.] 3 3\n",
      "drop b\n",
      "C494 C5884 [1.] 4 5\n",
      "drop a\n",
      "C499 C16485 [1.] 3 2\n",
      "drop b\n",
      "C499 C23420 [1.] 3 2\n",
      "drop b\n",
      "C516 C7242 [1.] 3 2\n",
      "drop b\n",
      "C518 C10984 [0.] 2 2\n",
      "drop b\n",
      "C538 C2921 [1.] 3 2\n",
      "drop b\n",
      "C544 C5198 [1.] 4 3\n",
      "drop b\n",
      "C544 C23302 [1.] 4 3\n",
      "drop b\n",
      "C550 C10488 [0.] 3 3\n",
      "drop b\n",
      "C551 C9259 [0.] 2 2\n",
      "drop b\n",
      "C563 C24714 [0.] 6 6\n",
      "drop b\n",
      "C579 C12837 [1.] 4 3\n",
      "drop b\n",
      "C579 C21582 [1.] 4 3\n",
      "drop b\n",
      "C592 C22825 [0.] 2 2\n",
      "drop b\n",
      "C593 C5958 [1.] 5 4\n",
      "drop b\n",
      "C593 C20797 [0.] 5 5\n",
      "drop b\n",
      "C614 C13930 [0.] 2 2\n",
      "drop b\n",
      "C619 C8023 [0.] 2 2\n",
      "drop b\n",
      "C623 C9976 [0.] 2 2\n",
      "drop b\n",
      "C627 C17200 [0.] 4 4\n",
      "drop b\n",
      "C629 C21512 [1.] 4 3\n",
      "drop b\n",
      "C639 C20816 [1.] 5 4\n",
      "drop b\n",
      "C646 C4145 [1.] 3 2\n",
      "drop b\n",
      "C659 C7461 [1.] 5 6\n",
      "drop a\n",
      "C660 C14616 [1.] 4 5\n",
      "drop a\n",
      "C660 C22347 [1.] 4 5\n",
      "drop a\n",
      "C660 C22522 [0.] 4 4\n",
      "drop b\n",
      "C665 C16760 [0.] 2 2\n",
      "drop b\n",
      "C675 C17557 [0.] 3 3\n",
      "drop b\n",
      "C675 C19220 [0.] 3 3\n",
      "drop b\n",
      "C681 C23526 [1.] 3 2\n",
      "drop b\n",
      "C698 C21700 [0.] 3 3\n",
      "drop b\n",
      "C730 C2717 [0.] 2 2\n",
      "drop b\n",
      "C734 C12494 [1.] 5 4\n",
      "drop b\n",
      "C736 C912 [0.] 3 3\n",
      "drop b\n",
      "C742 C20130 [1.] 3 2\n",
      "drop b\n",
      "C758 C15002 [1.] 3 2\n",
      "drop b\n",
      "C765 C18600 [0.] 2 2\n",
      "drop b\n",
      "C766 C24884 [0.] 2 2\n",
      "drop b\n",
      "C777 C4309 [0.] 2 2\n",
      "drop b\n",
      "C780 C2547 [1.] 6 5\n",
      "drop b\n",
      "C782 C6409 [1.] 2 3\n",
      "drop a\n",
      "C792 C22930 [1.] 3 2\n",
      "drop b\n",
      "C802 C24981 [1.] 2 3\n",
      "drop a\n",
      "C806 C15478 [0.] 2 2\n",
      "drop b\n",
      "C808 C6333 [0.] 2 2\n",
      "drop b\n",
      "C812 C19407 [0.] 2 2\n",
      "drop b\n",
      "C816 C8655 [0.] 2 2\n",
      "drop b\n",
      "C840 C24710 [0.] 8 8\n",
      "drop b\n",
      "C850 C21509 [1.] 3 4\n",
      "drop a\n",
      "C851 C23190 [0.] 4 4\n",
      "drop b\n",
      "C851 C24348 [1.] 4 5\n",
      "drop a\n",
      "C855 C19405 [0.] 2 2\n",
      "drop b\n",
      "C860 C18300 [0.] 2 2\n",
      "drop b\n",
      "C871 C24568 [1.] 2 3\n",
      "drop a\n",
      "C874 C24663 [0.] 2 2\n",
      "drop b\n",
      "C878 C14026 [0.] 4 4\n",
      "drop b\n",
      "C911 C12545 [1.] 3 2\n",
      "drop b\n",
      "C930 C4023 [1.] 2 3\n",
      "drop a\n",
      "C944 C15230 [0.] 10 10\n",
      "drop b\n",
      "C949 C5118 [0.] 2 2\n",
      "drop b\n",
      "C950 C5239 [1.] 2 3\n",
      "drop a\n",
      "C956 C9150 [0.] 18 18\n",
      "drop b\n",
      "C958 C21480 [0.] 2 2\n",
      "drop b\n",
      "C982 C10044 [0.] 2 2\n",
      "drop b\n",
      "C984 C17411 [1.] 4 3\n",
      "drop b\n",
      "C984 C21385 [1.] 4 3\n",
      "drop b\n",
      "C987 C8384 [1.] 2 3\n",
      "drop a\n",
      "C988 C14322 [0.] 2 2\n",
      "drop b\n",
      "C1009 C5381 [0.] 2 2\n",
      "drop b\n",
      "C1032 C11422 [0.] 2 2\n",
      "drop b\n",
      "C1044 C18577 [0.] 2 2\n",
      "drop b\n",
      "C1053 C19397 [0.] 2 2\n",
      "drop b\n",
      "C1069 C18462 [0.] 2 2\n",
      "drop b\n",
      "C1072 C2654 [1.] 3 4\n",
      "drop a\n",
      "C1072 C3215 [0.] 3 3\n",
      "drop b\n",
      "C1074 C13235 [0.] 2 2\n",
      "drop b\n",
      "C1103 C7114 [0.] 2 2\n",
      "drop b\n",
      "C1109 C22401 [1.] 2 3\n",
      "drop a\n",
      "C1133 C10308 [1.] 3 2\n",
      "drop b\n",
      "C1141 C11346 [0.] 2 2\n",
      "drop b\n",
      "C1149 C7843 [0.] 3 3\n",
      "drop b\n",
      "C1188 C13399 [0.] 2 2\n",
      "drop b\n",
      "C1195 C4308 [1.] 5 4\n",
      "drop b\n",
      "C1198 C16662 [1.] 3 2\n",
      "drop b\n",
      "C1199 C13897 [0.] 2 2\n",
      "drop b\n",
      "C1211 C12819 [1.] 3 2\n",
      "drop b\n",
      "C1211 C23942 [1.] 3 2\n",
      "drop b\n",
      "C1215 C17593 [1.] 5 6\n",
      "drop a\n",
      "C1217 C5025 [1.] 2 3\n",
      "drop a\n",
      "C1221 C6776 [0.] 3 3\n",
      "drop b\n",
      "C1222 C24092 [1.] 2 3\n",
      "drop a\n",
      "C1246 C15722 [1.] 3 2\n",
      "drop b\n",
      "C1247 C7940 [0.] 2 2\n",
      "drop b\n",
      "C1249 C24680 [1.] 2 3\n",
      "drop a\n",
      "C1254 C17544 [1.] 3 2\n",
      "drop b\n",
      "C1260 C4902 [0.] 2 2\n",
      "drop b\n",
      "C1271 C20986 [0.] 2 2\n",
      "drop b\n",
      "C1274 C10528 [0.] 2 2\n",
      "drop b\n",
      "C1298 C15819 [0.] 2 2\n",
      "drop b\n",
      "C1301 C6296 [1.] 5 4\n",
      "drop b\n",
      "C1306 C18819 [1.] 3 4\n",
      "drop a\n",
      "C1307 C21322 [1.] 2 3\n",
      "drop a\n",
      "C1336 C18822 [0.] 3 3\n",
      "drop b\n",
      "C1343 C18309 [1.] 2 3\n",
      "drop a\n",
      "C1346 C21417 [0.] 3 3\n",
      "drop b\n",
      "C1352 C13094 [1.] 3 2\n",
      "drop b\n",
      "C1353 C6475 [0.] 2 2\n",
      "drop b\n",
      "C1368 C3410 [0.] 3 3\n",
      "drop b\n",
      "C1368 C7902 [0.] 3 3\n",
      "drop b\n",
      "C1395 C2500 [0.] 2 2\n",
      "drop b\n",
      "C1399 C8130 [0.] 2 2\n",
      "drop b\n",
      "C1407 C16440 [1.] 4 3\n",
      "drop b\n",
      "C1407 C23262 [0.] 4 4\n",
      "drop b\n",
      "C1411 C20056 [1.] 3 2\n",
      "drop b\n",
      "C1422 C17291 [1.] 3 2\n",
      "drop b\n",
      "C1425 C15802 [0.] 2 2\n",
      "drop b\n",
      "C1434 C21849 [0.] 2 2\n",
      "drop b\n",
      "C1444 C1482 [0.] 2 2\n",
      "drop b\n",
      "C1462 C12587 [1.] 4 3\n",
      "drop b\n",
      "C1463 C17774 [0.] 2 2\n",
      "drop b\n",
      "C1466 C14463 [0.] 2 2\n",
      "drop b\n",
      "C1467 C11249 [1.] 3 2\n",
      "drop b\n",
      "C1467 C15141 [1.] 3 2\n",
      "drop b\n",
      "C1475 C9583 [0.] 2 2\n",
      "drop b\n",
      "C1478 C21653 [0.] 2 2\n",
      "drop b\n",
      "C1494 C2971 [0.] 2 2\n",
      "drop b\n",
      "C1504 C23990 [1.] 2 3\n",
      "drop a\n",
      "C1505 C15356 [1.] 2 3\n",
      "drop a\n",
      "C1507 C2090 [0.] 2 2\n",
      "drop b\n",
      "C1516 C15987 [0.] 2 2\n",
      "drop b\n",
      "C1518 C11231 [1.] 6 7\n",
      "drop a\n",
      "C1524 C20549 [1.] 2 3\n",
      "drop a\n",
      "C1526 C13345 [1.] 4 5\n",
      "drop a\n",
      "C1526 C13822 [1.] 4 5\n",
      "drop a\n",
      "C1540 C9209 [0.] 2 2\n",
      "drop b\n",
      "C1583 C13194 [1.] 3 2\n",
      "drop b\n",
      "C1598 C22099 [1.] 3 2\n",
      "drop b\n",
      "C1604 C4495 [0.] 2 2\n",
      "drop b\n",
      "C1607 C12757 [0.] 5 5\n",
      "drop b\n",
      "C1607 C12863 [1.] 5 4\n",
      "drop b\n",
      "C1611 C3364 [0.] 2 2\n",
      "drop b\n",
      "C1612 C13394 [0.] 2 2\n",
      "drop b\n",
      "C1619 C21905 [0.] 2 2\n",
      "drop b\n",
      "C1642 C20196 [1.] 4 3\n",
      "drop b\n",
      "C1643 C15356 [1.] 2 3\n",
      "drop a\n",
      "C1646 C12611 [0.] 2 2\n",
      "drop b\n",
      "C1686 C13917 [1.] 2 3\n",
      "drop a\n",
      "C1700 C13311 [1.] 2 3\n",
      "drop a\n",
      "C1712 C20894 [1.] 2 3\n",
      "drop a\n",
      "C1714 C19291 [0.] 16 16\n",
      "drop b\n",
      "C1720 C24981 [1.] 2 3\n",
      "drop a\n",
      "C1730 C12840 [1.] 3 2\n",
      "drop b\n",
      "C1778 C6048 [0.] 2 2\n",
      "drop b\n",
      "C1781 C24253 [1.] 3 2\n",
      "drop b\n",
      "C1782 C13031 [0.] 3 3\n",
      "drop b\n",
      "C1785 C9105 [0.] 2 2\n",
      "drop b\n",
      "C1799 C8843 [1.] 3 2\n",
      "drop b\n",
      "C1799 C24976 [1.] 3 2\n",
      "drop b\n",
      "C1813 C21791 [0.] 2 2\n",
      "drop b\n",
      "C1814 C7581 [0.] 2 2\n",
      "drop b\n",
      "C1837 C22446 [0.] 2 2\n",
      "drop b\n",
      "C1839 C12921 [1.] 3 2\n",
      "drop b\n",
      "C1841 C18867 [1.] 2 3\n",
      "drop a\n",
      "C1850 C11883 [0.] 2 2\n",
      "drop b\n",
      "C1851 C3609 [0.] 2 2\n",
      "drop b\n",
      "C1862 C6593 [0.] 2 2\n",
      "drop b\n",
      "C1870 C8634 [1.] 2 3\n",
      "drop a\n",
      "C1879 C9519 [0.] 8 8\n",
      "drop b\n",
      "C1880 C13124 [0.] 2 2\n",
      "drop b\n",
      "C1881 C20261 [0.] 2 2\n",
      "drop b\n",
      "C1896 C12140 [1.] 2 3\n",
      "drop a\n",
      "C1914 C5486 [0.] 2 2\n",
      "drop b\n",
      "C1946 C2411 [0.] 4 4\n",
      "drop b\n",
      "C1946 C22377 [1.] 4 5\n",
      "drop a\n",
      "C1949 C16905 [0.] 2 2\n",
      "drop b\n",
      "C1955 C11059 [0.] 2 2\n",
      "drop b\n",
      "C1967 C20469 [0.] 11 11\n",
      "drop b\n",
      "C1977 C18959 [0.] 2 2\n",
      "drop b\n",
      "C1987 C6989 [0.] 2 2\n",
      "drop b\n",
      "C1991 C13542 [1.] 2 3\n",
      "drop a\n",
      "C2001 C11739 [0.] 2 2\n",
      "drop b\n",
      "C2008 C7558 [0.] 2 2\n",
      "drop b\n",
      "C2011 C17154 [1.] 2 3\n",
      "drop a\n",
      "C2026 C24801 [0.] 8 8\n",
      "drop b\n",
      "C2048 C6127 [1.] 3 2\n",
      "drop b\n",
      "C2065 C18750 [0.] 2 2\n",
      "drop b\n",
      "C2146 C22570 [1.] 2 3\n",
      "drop a\n",
      "C2148 C23021 [0.] 2 2\n",
      "drop b\n",
      "C2151 C3524 [0.] 2 2\n",
      "drop b\n",
      "C2153 C18014 [0.] 2 2\n",
      "drop b\n",
      "C2156 C22460 [1.] 3 4\n",
      "drop a\n",
      "C2160 C14395 [1.] 2 3\n",
      "drop a\n",
      "C2164 C2485 [0.] 3 3\n",
      "drop b\n",
      "C2169 C23127 [0.] 2 2\n",
      "drop b\n",
      "C2183 C17915 [0.] 2 2\n",
      "drop b\n",
      "C2186 C10842 [1.] 3 4\n",
      "drop a\n",
      "C2192 C8621 [1.] 4 3\n",
      "drop b\n",
      "C2196 C24277 [0.] 2 2\n",
      "drop b\n",
      "C2198 C3213 [1.] 3 4\n",
      "drop a\n",
      "C2210 C7377 [0.] 3 3\n",
      "drop b\n",
      "C2215 C3766 [1.] 2 3\n",
      "drop a\n",
      "C2227 C23291 [0.] 2 2\n",
      "drop b\n",
      "C2244 C8593 [1.] 3 2\n",
      "drop b\n",
      "C2249 C6560 [1.] 3 2\n",
      "drop b\n",
      "C2250 C4655 [0.] 3 3\n",
      "drop b\n",
      "C2250 C22928 [1.] 3 4\n",
      "drop a\n",
      "C2256 C16231 [0.] 2 2\n",
      "drop b\n",
      "C2263 C24798 [0.] 2 2\n",
      "drop b\n",
      "C2267 C3590 [0.] 3 3\n",
      "drop b\n",
      "C2267 C16568 [1.] 3 4\n",
      "drop a\n",
      "C2268 C14936 [0.] 2 2\n",
      "drop b\n",
      "C2292 C9953 [1.] 3 2\n",
      "drop b\n",
      "C2292 C20568 [1.] 3 2\n",
      "drop b\n",
      "C2308 C23189 [0.] 3 3\n",
      "drop b\n",
      "C2308 C24231 [0.] 3 3\n",
      "drop b\n",
      "C2321 C15458 [1.] 2 3\n",
      "drop a\n",
      "C2329 C2373 [0.] 3 3\n",
      "drop b\n",
      "C2329 C4249 [0.] 3 3\n",
      "drop b\n",
      "C2365 C14174 [0.] 2 2\n",
      "drop b\n",
      "C2378 C8194 [1.] 3 2\n",
      "drop b\n",
      "C2384 C15385 [1.] 4 3\n",
      "drop b\n",
      "C2386 C2666 [1.] 3 2\n",
      "drop b\n",
      "C2400 C11142 [0.] 3 3\n",
      "drop b\n",
      "C2412 C20418 [1.] 2 3\n",
      "drop a\n"
     ]
    },
    {
     "name": "stdout",
     "output_type": "stream",
     "text": [
      "C2435 C7567 [1.] 3 2\n",
      "drop b\n",
      "C2438 C19076 [0.] 2 2\n",
      "drop b\n",
      "C2444 C3258 [0.] 2 2\n",
      "drop b\n",
      "C2445 C9063 [0.] 2 2\n",
      "drop b\n",
      "C2456 C9941 [1.] 2 3\n",
      "drop a\n",
      "C2478 C19885 [0.] 2 2\n",
      "drop b\n",
      "C2492 C20594 [0.] 2 2\n",
      "drop b\n",
      "C2498 C23170 [0.] 3 3\n",
      "drop b\n",
      "C2499 C10832 [0.] 2 2\n",
      "drop b\n",
      "C2504 C20744 [1.] 2 3\n",
      "drop a\n",
      "C2511 C3316 [0.] 2 2\n",
      "drop b\n",
      "C2516 C3063 [1.] 3 2\n",
      "drop b\n",
      "C2518 C2708 [0.] 2 2\n",
      "drop b\n",
      "C2522 C5092 [1.] 3 2\n",
      "drop b\n",
      "C2523 C13324 [0.] 3 3\n",
      "drop b\n",
      "C2523 C17985 [0.] 3 3\n",
      "drop b\n",
      "C2533 C18894 [0.] 2 2\n",
      "drop b\n",
      "C2534 C17480 [0.] 3 3\n",
      "drop b\n",
      "C2544 C13354 [1.] 4 5\n",
      "drop a\n",
      "C2554 C8832 [1.] 4 3\n",
      "drop b\n",
      "C2563 C7290 [0.] 5 5\n",
      "drop b\n",
      "C2577 C15671 [1.] 2 3\n",
      "drop a\n",
      "C2582 C12585 [0.] 2 2\n",
      "drop b\n",
      "C2605 C4342 [0.] 3 3\n",
      "drop b\n",
      "C2605 C24715 [0.] 3 3\n",
      "drop b\n",
      "C2612 C4627 [0.] 2 2\n",
      "drop b\n",
      "C2614 C21156 [0.] 2 2\n",
      "drop b\n",
      "C2619 C5208 [0.] 2 2\n",
      "drop b\n",
      "C2627 C20172 [0.] 2 2\n",
      "drop b\n",
      "C2628 C16385 [1.] 2 3\n",
      "drop a\n",
      "C2631 C15144 [0.] 2 2\n",
      "drop b\n",
      "C2644 C20865 [0.] 2 2\n",
      "drop b\n"
     ]
    },
    {
     "ename": "KeyboardInterrupt",
     "evalue": "",
     "output_type": "error",
     "traceback": [
      "\u001b[0;31m---------------------------------------------------------------------------\u001b[0m",
      "\u001b[0;31mKeyboardInterrupt\u001b[0m                         Traceback (most recent call last)",
      "\u001b[0;32m<ipython-input-124-ebe9b0a2c5c7>\u001b[0m in \u001b[0;36m<module>\u001b[0;34m()\u001b[0m\n\u001b[0;32m----> 1\u001b[0;31m \u001b[0mfilter_identical_clusters\u001b[0m\u001b[0;34m(\u001b[0m\u001b[0mclusterMatrix_small5000\u001b[0m\u001b[0;34m,\u001b[0m\u001b[0mmultiSeqs_small5000\u001b[0m\u001b[0;34m)\u001b[0m\u001b[0;34m\u001b[0m\u001b[0m\n\u001b[0m",
      "\u001b[0;32m<ipython-input-123-dd87b2cf5ef8>\u001b[0m in \u001b[0;36mfilter_identical_clusters\u001b[0;34m(clusterMatrix, multiSeqs)\u001b[0m\n\u001b[1;32m     19\u001b[0m                     \u001b[0ma\u001b[0m\u001b[0;34m=\u001b[0m\u001b[0mclusterMatrixMulti\u001b[0m\u001b[0;34m.\u001b[0m\u001b[0mloc\u001b[0m\u001b[0;34m[\u001b[0m\u001b[0;34m:\u001b[0m\u001b[0;34m,\u001b[0m\u001b[0mcolA\u001b[0m\u001b[0;34m]\u001b[0m\u001b[0;34m\u001b[0m\u001b[0m\n\u001b[1;32m     20\u001b[0m                     \u001b[0mb\u001b[0m\u001b[0;34m=\u001b[0m\u001b[0mclusterMatrixMulti\u001b[0m\u001b[0;34m.\u001b[0m\u001b[0mloc\u001b[0m\u001b[0;34m[\u001b[0m\u001b[0;34m:\u001b[0m\u001b[0;34m,\u001b[0m\u001b[0mcolB\u001b[0m\u001b[0;34m]\u001b[0m\u001b[0;34m\u001b[0m\u001b[0m\n\u001b[0;32m---> 21\u001b[0;31m                     \u001b[0mval\u001b[0m \u001b[0;34m=\u001b[0m \u001b[0mpdist\u001b[0m\u001b[0;34m(\u001b[0m\u001b[0mnp\u001b[0m\u001b[0;34m.\u001b[0m\u001b[0mstack\u001b[0m\u001b[0;34m(\u001b[0m\u001b[0;34m(\u001b[0m\u001b[0ma\u001b[0m\u001b[0;34m,\u001b[0m\u001b[0mb\u001b[0m\u001b[0;34m)\u001b[0m\u001b[0;34m,\u001b[0m\u001b[0maxis\u001b[0m\u001b[0;34m=\u001b[0m\u001b[0;36m1\u001b[0m\u001b[0;34m)\u001b[0m\u001b[0;34m.\u001b[0m\u001b[0mT\u001b[0m\u001b[0;34m,\u001b[0m\u001b[0;34m'cityblock'\u001b[0m\u001b[0;34m)\u001b[0m\u001b[0;34m\u001b[0m\u001b[0m\n\u001b[0m\u001b[1;32m     22\u001b[0m                     \u001b[0;32mif\u001b[0m \u001b[0mval\u001b[0m\u001b[0;34m<\u001b[0m\u001b[0;36m2\u001b[0m\u001b[0;34m:\u001b[0m\u001b[0;34m\u001b[0m\u001b[0m\n\u001b[1;32m     23\u001b[0m                         \u001b[0;32mprint\u001b[0m \u001b[0mmultiSeqs\u001b[0m\u001b[0;34m[\u001b[0m\u001b[0mi\u001b[0m\u001b[0;34m]\u001b[0m\u001b[0;34m,\u001b[0m\u001b[0mmultiSeqs\u001b[0m\u001b[0;34m[\u001b[0m\u001b[0mj\u001b[0m\u001b[0;34m]\u001b[0m\u001b[0;34m,\u001b[0m\u001b[0mval\u001b[0m\u001b[0;34m,\u001b[0m\u001b[0ma\u001b[0m\u001b[0;34m.\u001b[0m\u001b[0msum\u001b[0m\u001b[0;34m(\u001b[0m\u001b[0;34m)\u001b[0m\u001b[0;34m,\u001b[0m\u001b[0mb\u001b[0m\u001b[0;34m.\u001b[0m\u001b[0msum\u001b[0m\u001b[0;34m(\u001b[0m\u001b[0;34m)\u001b[0m\u001b[0;34m\u001b[0m\u001b[0m\n",
      "\u001b[0;32m/usr/wisdom/python/lib/python2.7/site-packages/scipy/spatial/distance.pyc\u001b[0m in \u001b[0;36mpdist\u001b[0;34m(X, metric, *args, **kwargs)\u001b[0m\n\u001b[1;32m   1932\u001b[0m         \u001b[0;32mif\u001b[0m \u001b[0mmetric_name\u001b[0m \u001b[0;32mis\u001b[0m \u001b[0;32mnot\u001b[0m \u001b[0mNone\u001b[0m\u001b[0;34m:\u001b[0m\u001b[0;34m\u001b[0m\u001b[0m\n\u001b[1;32m   1933\u001b[0m             X, typ, kwargs = _validate_pdist_input(X, m, n,\n\u001b[0;32m-> 1934\u001b[0;31m                                                    metric_name, **kwargs)\n\u001b[0m\u001b[1;32m   1935\u001b[0m \u001b[0;34m\u001b[0m\u001b[0m\n\u001b[1;32m   1936\u001b[0m             \u001b[0;31m# get pdist wrapper\u001b[0m\u001b[0;34m\u001b[0m\u001b[0;34m\u001b[0m\u001b[0m\n",
      "\u001b[0;32m/usr/wisdom/python/lib/python2.7/site-packages/scipy/spatial/distance.pyc\u001b[0m in \u001b[0;36m_validate_pdist_input\u001b[0;34m(X, m, n, metric_name, **kwargs)\u001b[0m\n\u001b[1;32m    287\u001b[0m         \u001b[0mtyp\u001b[0m \u001b[0;34m=\u001b[0m \u001b[0mtypes\u001b[0m\u001b[0;34m[\u001b[0m\u001b[0mtypes\u001b[0m\u001b[0;34m.\u001b[0m\u001b[0mindex\u001b[0m\u001b[0;34m(\u001b[0m\u001b[0mX\u001b[0m\u001b[0;34m.\u001b[0m\u001b[0mdtype\u001b[0m\u001b[0;34m)\u001b[0m\u001b[0;34m]\u001b[0m \u001b[0;32mif\u001b[0m \u001b[0mX\u001b[0m\u001b[0;34m.\u001b[0m\u001b[0mdtype\u001b[0m \u001b[0;32min\u001b[0m \u001b[0mtypes\u001b[0m \u001b[0;32melse\u001b[0m \u001b[0mtypes\u001b[0m\u001b[0;34m[\u001b[0m\u001b[0;36m0\u001b[0m\u001b[0;34m]\u001b[0m\u001b[0;34m\u001b[0m\u001b[0m\n\u001b[1;32m    288\u001b[0m         \u001b[0;31m# validate data\u001b[0m\u001b[0;34m\u001b[0m\u001b[0;34m\u001b[0m\u001b[0m\n\u001b[0;32m--> 289\u001b[0;31m         \u001b[0mX\u001b[0m \u001b[0;34m=\u001b[0m \u001b[0m_convert_to_type\u001b[0m\u001b[0;34m(\u001b[0m\u001b[0mX\u001b[0m\u001b[0;34m,\u001b[0m \u001b[0mout_type\u001b[0m\u001b[0;34m=\u001b[0m\u001b[0mtyp\u001b[0m\u001b[0;34m)\u001b[0m\u001b[0;34m\u001b[0m\u001b[0m\n\u001b[0m\u001b[1;32m    290\u001b[0m \u001b[0;34m\u001b[0m\u001b[0m\n\u001b[1;32m    291\u001b[0m         \u001b[0;31m# validate kwargs\u001b[0m\u001b[0;34m\u001b[0m\u001b[0;34m\u001b[0m\u001b[0m\n",
      "\u001b[0;32m/usr/wisdom/python/lib/python2.7/site-packages/scipy/spatial/distance.pyc\u001b[0m in \u001b[0;36m_convert_to_type\u001b[0;34m(X, out_type)\u001b[0m\n\u001b[1;32m    182\u001b[0m \u001b[0;34m\u001b[0m\u001b[0m\n\u001b[1;32m    183\u001b[0m \u001b[0;32mdef\u001b[0m \u001b[0m_convert_to_type\u001b[0m\u001b[0;34m(\u001b[0m\u001b[0mX\u001b[0m\u001b[0;34m,\u001b[0m \u001b[0mout_type\u001b[0m\u001b[0;34m)\u001b[0m\u001b[0;34m:\u001b[0m\u001b[0;34m\u001b[0m\u001b[0m\n\u001b[0;32m--> 184\u001b[0;31m     \u001b[0;32mreturn\u001b[0m \u001b[0mnp\u001b[0m\u001b[0;34m.\u001b[0m\u001b[0mascontiguousarray\u001b[0m\u001b[0;34m(\u001b[0m\u001b[0mX\u001b[0m\u001b[0;34m,\u001b[0m \u001b[0mdtype\u001b[0m\u001b[0;34m=\u001b[0m\u001b[0mout_type\u001b[0m\u001b[0;34m)\u001b[0m\u001b[0;34m\u001b[0m\u001b[0m\n\u001b[0m\u001b[1;32m    185\u001b[0m \u001b[0;34m\u001b[0m\u001b[0m\n\u001b[1;32m    186\u001b[0m \u001b[0;34m\u001b[0m\u001b[0m\n",
      "\u001b[0;32m/usr/wisdom/python/lib/python2.7/site-packages/numpy/core/numeric.pyc\u001b[0m in \u001b[0;36mascontiguousarray\u001b[0;34m(a, dtype)\u001b[0m\n\u001b[1;32m    579\u001b[0m \u001b[0;34m\u001b[0m\u001b[0m\n\u001b[1;32m    580\u001b[0m     \"\"\"\n\u001b[0;32m--> 581\u001b[0;31m     \u001b[0;32mreturn\u001b[0m \u001b[0marray\u001b[0m\u001b[0;34m(\u001b[0m\u001b[0ma\u001b[0m\u001b[0;34m,\u001b[0m \u001b[0mdtype\u001b[0m\u001b[0;34m,\u001b[0m \u001b[0mcopy\u001b[0m\u001b[0;34m=\u001b[0m\u001b[0mFalse\u001b[0m\u001b[0;34m,\u001b[0m \u001b[0morder\u001b[0m\u001b[0;34m=\u001b[0m\u001b[0;34m'C'\u001b[0m\u001b[0;34m,\u001b[0m \u001b[0mndmin\u001b[0m\u001b[0;34m=\u001b[0m\u001b[0;36m1\u001b[0m\u001b[0;34m)\u001b[0m\u001b[0;34m\u001b[0m\u001b[0m\n\u001b[0m\u001b[1;32m    582\u001b[0m \u001b[0;34m\u001b[0m\u001b[0m\n\u001b[1;32m    583\u001b[0m \u001b[0;34m\u001b[0m\u001b[0m\n",
      "\u001b[0;31mKeyboardInterrupt\u001b[0m: "
     ]
    }
   ],
   "source": [
    "filter_identical_clusters(clusterMatrix_small5000,multiSeqs_small5000)"
   ]
  },
  {
   "cell_type": "code",
   "execution_count": 104,
   "metadata": {
    "ExecuteTime": {
     "end_time": "2018-11-27T13:53:13.767617Z",
     "start_time": "2018-11-27T13:53:13.758636Z"
    }
   },
   "outputs": [],
   "source": [
    "a1=[1,1,0,0,0]\n",
    "a2=[1,1,1,1,0]\n",
    "a3=[0,1,1,0,0]\n",
    "a4=[0,1,0,1,1]\n",
    "a5=[0,0,0,1,1]\n",
    "\n"
   ]
  },
  {
   "cell_type": "code",
   "execution_count": 105,
   "metadata": {
    "ExecuteTime": {
     "end_time": "2018-11-27T13:53:18.598024Z",
     "start_time": "2018-11-27T13:53:18.582049Z"
    }
   },
   "outputs": [
    {
     "name": "stdout",
     "output_type": "stream",
     "text": [
      "[1.41421356]\n",
      "[1.41421356]\n",
      "[1.73205081]\n",
      "[2.]\n",
      "[1.41421356]\n",
      "[1.73205081]\n",
      "[2.]\n",
      "[1.73205081]\n",
      "[2.]\n",
      "[1.]\n"
     ]
    }
   ],
   "source": [
    "print pdist(np.stack((a1,a2),axis=1).T,'euclidean')\n",
    "print pdist(np.stack((a1,a3),axis=1).T,'euclidean')\n",
    "print pdist(np.stack((a1,a4),axis=1).T,'euclidean')\n",
    "print pdist(np.stack((a1,a5),axis=1).T,'euclidean')\n",
    "print pdist(np.stack((a2,a3),axis=1).T,'euclidean')\n",
    "print pdist(np.stack((a2,a4),axis=1).T,'euclidean')\n",
    "print pdist(np.stack((a2,a5),axis=1).T,'euclidean')\n",
    "print pdist(np.stack((a3,a4),axis=1).T,'euclidean')\n",
    "print pdist(np.stack((a3,a5),axis=1).T,'euclidean')\n",
    "print pdist(np.stack((a4,a5),axis=1).T,'euclidean')"
   ]
  },
  {
   "cell_type": "code",
   "execution_count": 106,
   "metadata": {
    "ExecuteTime": {
     "end_time": "2018-11-27T13:53:23.182915Z",
     "start_time": "2018-11-27T13:53:23.167034Z"
    }
   },
   "outputs": [
    {
     "name": "stdout",
     "output_type": "stream",
     "text": [
      "[2.]\n",
      "[2.]\n",
      "[3.]\n",
      "[4.]\n",
      "[2.]\n",
      "[3.]\n",
      "[4.]\n",
      "[3.]\n",
      "[4.]\n",
      "[1.]\n"
     ]
    }
   ],
   "source": [
    "print pdist(np.stack((a1,a2),axis=1).T,'cityblock')\n",
    "print pdist(np.stack((a1,a3),axis=1).T,'cityblock')\n",
    "print pdist(np.stack((a1,a4),axis=1).T,'cityblock')\n",
    "print pdist(np.stack((a1,a5),axis=1).T,'cityblock')\n",
    "print pdist(np.stack((a2,a3),axis=1).T,'cityblock')\n",
    "print pdist(np.stack((a2,a4),axis=1).T,'cityblock')\n",
    "print pdist(np.stack((a2,a5),axis=1).T,'cityblock')\n",
    "print pdist(np.stack((a3,a4),axis=1).T,'cityblock')\n",
    "print pdist(np.stack((a3,a5),axis=1).T,'cityblock')\n",
    "print pdist(np.stack((a4,a5),axis=1).T,'cityblock')"
   ]
  },
  {
   "cell_type": "code",
   "execution_count": null,
   "metadata": {},
   "outputs": [],
   "source": []
  },
  {
   "cell_type": "code",
   "execution_count": null,
   "metadata": {},
   "outputs": [],
   "source": []
  },
  {
   "cell_type": "code",
   "execution_count": null,
   "metadata": {},
   "outputs": [],
   "source": []
  },
  {
   "cell_type": "code",
   "execution_count": null,
   "metadata": {},
   "outputs": [],
   "source": []
  },
  {
   "cell_type": "code",
   "execution_count": null,
   "metadata": {},
   "outputs": [],
   "source": []
  },
  {
   "cell_type": "code",
   "execution_count": null,
   "metadata": {},
   "outputs": [],
   "source": []
  },
  {
   "cell_type": "code",
   "execution_count": null,
   "metadata": {},
   "outputs": [],
   "source": []
  },
  {
   "cell_type": "code",
   "execution_count": null,
   "metadata": {},
   "outputs": [],
   "source": []
  },
  {
   "cell_type": "code",
   "execution_count": null,
   "metadata": {},
   "outputs": [],
   "source": []
  },
  {
   "cell_type": "code",
   "execution_count": null,
   "metadata": {},
   "outputs": [],
   "source": []
  },
  {
   "cell_type": "code",
   "execution_count": null,
   "metadata": {},
   "outputs": [],
   "source": []
  },
  {
   "cell_type": "code",
   "execution_count": null,
   "metadata": {},
   "outputs": [],
   "source": []
  },
  {
   "cell_type": "code",
   "execution_count": null,
   "metadata": {},
   "outputs": [],
   "source": [
    " "
   ]
  },
  {
   "cell_type": "code",
   "execution_count": null,
   "metadata": {},
   "outputs": [],
   "source": []
  },
  {
   "cell_type": "code",
   "execution_count": null,
   "metadata": {},
   "outputs": [],
   "source": []
  },
  {
   "cell_type": "code",
   "execution_count": null,
   "metadata": {},
   "outputs": [],
   "source": []
  },
  {
   "cell_type": "code",
   "execution_count": null,
   "metadata": {},
   "outputs": [],
   "source": []
  },
  {
   "cell_type": "code",
   "execution_count": null,
   "metadata": {},
   "outputs": [],
   "source": []
  },
  {
   "cell_type": "code",
   "execution_count": null,
   "metadata": {},
   "outputs": [],
   "source": []
  },
  {
   "cell_type": "code",
   "execution_count": null,
   "metadata": {},
   "outputs": [],
   "source": []
  },
  {
   "cell_type": "code",
   "execution_count": null,
   "metadata": {},
   "outputs": [],
   "source": []
  },
  {
   "cell_type": "code",
   "execution_count": null,
   "metadata": {},
   "outputs": [],
   "source": []
  },
  {
   "cell_type": "code",
   "execution_count": null,
   "metadata": {},
   "outputs": [],
   "source": []
  },
  {
   "cell_type": "code",
   "execution_count": null,
   "metadata": {},
   "outputs": [],
   "source": []
  },
  {
   "cell_type": "code",
   "execution_count": null,
   "metadata": {},
   "outputs": [],
   "source": []
  },
  {
   "cell_type": "code",
   "execution_count": null,
   "metadata": {},
   "outputs": [],
   "source": []
  },
  {
   "cell_type": "code",
   "execution_count": null,
   "metadata": {},
   "outputs": [],
   "source": []
  },
  {
   "cell_type": "code",
   "execution_count": null,
   "metadata": {},
   "outputs": [],
   "source": []
  },
  {
   "cell_type": "code",
   "execution_count": null,
   "metadata": {},
   "outputs": [],
   "source": []
  },
  {
   "cell_type": "code",
   "execution_count": null,
   "metadata": {},
   "outputs": [],
   "source": []
  },
  {
   "cell_type": "code",
   "execution_count": null,
   "metadata": {},
   "outputs": [],
   "source": []
  },
  {
   "cell_type": "code",
   "execution_count": null,
   "metadata": {},
   "outputs": [],
   "source": []
  },
  {
   "cell_type": "code",
   "execution_count": null,
   "metadata": {},
   "outputs": [],
   "source": []
  },
  {
   "cell_type": "code",
   "execution_count": null,
   "metadata": {},
   "outputs": [],
   "source": []
  },
  {
   "cell_type": "code",
   "execution_count": null,
   "metadata": {},
   "outputs": [],
   "source": []
  },
  {
   "cell_type": "code",
   "execution_count": 3,
   "metadata": {
    "ExecuteTime": {
     "end_time": "2018-11-13T20:25:31.128540Z",
     "start_time": "2018-11-13T20:25:25.541051Z"
    }
   },
   "outputs": [
    {
     "name": "stdout",
     "output_type": "stream",
     "text": [
      "Requirement already satisfied: python-Levenshtein in /usr/wisdom/python/lib/python2.7/site-packages (0.12.0)\n",
      "Requirement already satisfied: setuptools in /usr/wisdom/python/lib/python2.7/site-packages (from python-Levenshtein) (36.5.0)\n",
      "\u001b[33mYou are using pip version 18.0, however version 18.1 is available.\n",
      "You should consider upgrading via the 'pip install --upgrade pip' command.\u001b[0m\n"
     ]
    }
   ],
   "source": [
    "!pip install python-Levenshtein"
   ]
  },
  {
   "cell_type": "code",
   "execution_count": 5,
   "metadata": {
    "ExecuteTime": {
     "end_time": "2018-11-13T20:25:53.493416Z",
     "start_time": "2018-11-13T20:25:53.454477Z"
    }
   },
   "outputs": [],
   "source": [
    "import Levenshtein"
   ]
  },
  {
   "cell_type": "code",
   "execution_count": 6,
   "metadata": {
    "ExecuteTime": {
     "end_time": "2018-11-13T20:26:36.379502Z",
     "start_time": "2018-11-13T20:26:36.358017Z"
    }
   },
   "outputs": [
    {
     "data": {
      "text/plain": [
       "1"
      ]
     },
     "execution_count": 6,
     "metadata": {},
     "output_type": "execute_result"
    }
   ],
   "source": [
    "Levenshtein.distance('text','test')"
   ]
  },
  {
   "cell_type": "code",
   "execution_count": 7,
   "metadata": {
    "ExecuteTime": {
     "end_time": "2018-11-13T20:26:49.393699Z",
     "start_time": "2018-11-13T20:26:49.388562Z"
    }
   },
   "outputs": [
    {
     "data": {
      "text/plain": [
       "1"
      ]
     },
     "execution_count": 7,
     "metadata": {},
     "output_type": "execute_result"
    }
   ],
   "source": [
    "Levenshtein.distance('text','textt')"
   ]
  },
  {
   "cell_type": "code",
   "execution_count": 10,
   "metadata": {
    "ExecuteTime": {
     "end_time": "2018-11-13T20:27:18.805526Z",
     "start_time": "2018-11-13T20:27:18.800060Z"
    }
   },
   "outputs": [
    {
     "data": {
      "text/plain": [
       "2"
      ]
     },
     "execution_count": 10,
     "metadata": {},
     "output_type": "execute_result"
    }
   ],
   "source": [
    "Levenshtein.distance('text','ttt')"
   ]
  },
  {
   "cell_type": "markdown",
   "metadata": {},
   "source": [
    "1. get all unique aa sequences\n",
    "2. loop over all sequences ("
   ]
  },
  {
   "cell_type": "code",
   "execution_count": 11,
   "metadata": {
    "ExecuteTime": {
     "end_time": "2018-11-13T21:04:45.866552Z",
     "start_time": "2018-11-13T21:04:45.862976Z"
    }
   },
   "outputs": [],
   "source": [
    "seqs=['AAAAA','AAAAT','TAAAA','TAAAT','TAGAT']"
   ]
  },
  {
   "cell_type": "code",
   "execution_count": 18,
   "metadata": {
    "ExecuteTime": {
     "end_time": "2018-11-13T21:23:53.388790Z",
     "start_time": "2018-11-13T21:23:53.367826Z"
    }
   },
   "outputs": [
    {
     "name": "stdout",
     "output_type": "stream",
     "text": [
      "[1. 1. 2. 3. 2. 1. 2. 1. 2. 1.]\n",
      "       AAAAA  AAAAT  TAAAA  TAAAT  TAGAT\n",
      "AAAAA    0.0    1.0    1.0    2.0    3.0\n",
      "AAAAT    1.0    0.0    2.0    1.0    2.0\n",
      "TAAAA    1.0    2.0    0.0    1.0    2.0\n",
      "TAAAT    2.0    1.0    1.0    0.0    1.0\n",
      "TAGAT    3.0    2.0    2.0    1.0    0.0\n"
     ]
    }
   ],
   "source": [
    "import numpy as np    \n",
    "from Levenshtein import distance\n",
    "from scipy.spatial.distance import pdist, squareform\n",
    "\n",
    "# my list of strings\n",
    "strings = seqs\n",
    "\n",
    "# prepare 2 dimensional array M x N (M entries (3) with N dimensions (1)) \n",
    "transformed_strings = np.array(strings).reshape(-1,1)\n",
    "\n",
    "# calculate condensed distance matrix by wrapping the Levenshtein distance function\n",
    "distance_matrix = pdist(transformed_strings,lambda x,y: distance(x[0],y[0]))\n",
    "\n",
    "# get square matrix\n",
    "print distance_matrix\n",
    "\n",
    "distance_df=pd.DataFrame(squareform(distance_matrix),index=seqs,columns=seqs)\n",
    "print distance_df\n",
    "    "
   ]
  },
  {
   "cell_type": "code",
   "execution_count": null,
   "metadata": {},
   "outputs": [],
   "source": []
  },
  {
   "cell_type": "code",
   "execution_count": null,
   "metadata": {},
   "outputs": [],
   "source": []
  },
  {
   "cell_type": "code",
   "execution_count": null,
   "metadata": {},
   "outputs": [],
   "source": []
  }
 ],
 "metadata": {
  "kernelspec": {
   "display_name": "Python 2",
   "language": "python",
   "name": "python2"
  },
  "language_info": {
   "codemirror_mode": {
    "name": "ipython",
    "version": 2
   },
   "file_extension": ".py",
   "mimetype": "text/x-python",
   "name": "python",
   "nbconvert_exporter": "python",
   "pygments_lexer": "ipython2",
   "version": "2.7.8"
  },
  "toc": {
   "nav_menu": {},
   "number_sections": true,
   "sideBar": true,
   "skip_h1_title": false,
   "toc_cell": false,
   "toc_position": {},
   "toc_section_display": "block",
   "toc_window_display": false
  },
  "varInspector": {
   "cols": {
    "lenName": 16,
    "lenType": 16,
    "lenVar": 40
   },
   "kernels_config": {
    "python": {
     "delete_cmd_postfix": "",
     "delete_cmd_prefix": "del ",
     "library": "var_list.py",
     "varRefreshCmd": "print(var_dic_list())"
    },
    "r": {
     "delete_cmd_postfix": ") ",
     "delete_cmd_prefix": "rm(",
     "library": "var_list.r",
     "varRefreshCmd": "cat(var_dic_list()) "
    }
   },
   "types_to_exclude": [
    "module",
    "function",
    "builtin_function_or_method",
    "instance",
    "_Feature"
   ],
   "window_display": false
  }
 },
 "nbformat": 4,
 "nbformat_minor": 2
}
