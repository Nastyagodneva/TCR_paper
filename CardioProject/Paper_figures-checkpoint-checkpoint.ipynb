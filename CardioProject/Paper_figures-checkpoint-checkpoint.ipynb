{
 "cells": [
  {
   "cell_type": "markdown",
   "metadata": {},
   "source": [
    "# imports:"
   ]
  },
  {
   "cell_type": "code",
   "execution_count": 1,
   "metadata": {
    "ExecuteTime": {
     "end_time": "2019-02-24T10:07:21.896641Z",
     "start_time": "2019-02-24T10:07:14.737690Z"
    }
   },
   "outputs": [
    {
     "name": "stdout",
     "output_type": "stream",
     "text": [
      "done1\n",
      "stop\n",
      "stop\n",
      "done1\n",
      "stop\n",
      "done\n",
      "done\n",
      "done\n",
      "done\n",
      "stop\n",
      "stop\n",
      "end of function!!!\n",
      "end of function!!!\n"
     ]
    }
   ],
   "source": [
    "from os import listdir,mkdir,makedirs\n",
    "from os.path import isfile, join, isdir,exists\n",
    "import pandas as pd\n",
    "import numpy as np\n",
    "from scipy import stats\n",
    "import re\n",
    "import matplotlib.pyplot as plt\n",
    "from matplotlib.backends.backend_pdf import PdfPages\n",
    "from myplots import roundup, rounddown, find_decimal_fold, percentile_cut_off, rarefaction_calc, rarefaction_plot,draw_correlation_scatter\n",
    "from matplotlib.ticker import FormatStrFormatter\n",
    "import cPickle as pickle\n",
    "from Bio.SeqUtils import GC\n",
    "import seaborn as sns\n",
    "import random\n",
    "from scipy.stats import pearsonr,fisher_exact\n",
    "from skbio.diversity.alpha import shannon, simpson, berger_parker_d\n",
    "\n",
    "from pop_organize import get_sample_data, get_sample_with_dfs\n",
    "from SufficientStatistics import *\n",
    "from MyFunctionsShani import *\n",
    "import math\n",
    "from myplots import roundup, rounddown, find_decimal_fold, adjusted_roundup\n",
    "from skbio.stats.distance import mantel\n",
    "from scipy.spatial.distance import braycurtis, pdist, euclidean\n",
    "\n",
    "\n",
    "from GeneralFeaturePhenotypeInteractions.Feature_phenotype_functions import * \n",
    "from TCR_microbiome_interactions.TCR_microbiome_interactions_functions import *\n",
    "from TCR_microbiome_interactions.TCR_microbiome_interactions_functions2 import *\n",
    "from SampleLists.SampleFileFunctions import *\n",
    "from PhenotypicData.PhenotypeGenerationFunctions import *\n",
    "from CardioProject.CardioFunctions import *\n",
    "from PredictionPipeline.PredictionFunctions import *\n",
    "from TCR_feature_generation.SubsamplingFunctions import *\n",
    "\n",
    "import os\n",
    "from Utils import cacheOnDisk, Load\n",
    "from queue.qp import qp,fakeqp\n",
    "from addloglevels import sethandlers\n",
    "\n",
    "#ML imports:\n",
    "from xgboost import XGBClassifier\n",
    "import lightgbm as lgb\n",
    "from collections import OrderedDict\n",
    "from sklearn.model_selection import GroupKFold,StratifiedKFold, KFold\n",
    "import statsmodels.formula.api as sm\n",
    "from sklearn.linear_model import LogisticRegression, LinearRegression\n",
    "import shap\n",
    "from sklearn import metrics, preprocessing\n",
    "from sklearn.svm import LinearSVC\n",
    "from sklearn.feature_selection import SelectFromModel,SelectKBest,chi2,mutual_info_classif,f_classif\n",
    "from sklearn.naive_bayes import GaussianNB\n",
    "from sklearn.metrics import *\n",
    "\n",
    "MyPath='/net/mraid08/export/genie/Lab/Personal/ShaniBAF'\n",
    "\n",
    "with open('/net/mraid08/export/genie/Lab/Personal/ShaniBAF/Sample files/BD lists/PNP530','rb') as fp:\n",
    "    PNP530=pickle.load(fp)\n",
    "with open('/net/mraid08/export/genie/Lab/Personal/ShaniBAF/Sample files/BD lists/Cardio126','rb') as fp:\n",
    "    Cardio126=pickle.load(fp)\n",
    "PNP530Cardio126=PNP530+Cardio126\n",
    "\n",
    "pd.set_option('display.expand_frame_repr', False)\n"
   ]
  },
  {
   "cell_type": "code",
   "execution_count": 2,
   "metadata": {
    "ExecuteTime": {
     "end_time": "2019-02-24T10:07:22.093102Z",
     "start_time": "2019-02-24T10:07:22.085694Z"
    }
   },
   "outputs": [
    {
     "data": {
      "text/plain": [
       "'24022019'"
      ]
     },
     "execution_count": 2,
     "metadata": {},
     "output_type": "execute_result"
    }
   ],
   "source": [
    "import time\n",
    "cdate=str(time.strftime(\"%d%m%Y\"))\n",
    "cdate"
   ]
  },
  {
   "cell_type": "markdown",
   "metadata": {},
   "source": [
    "# figure 3 - binary patients' phenotype prediction"
   ]
  },
  {
   "cell_type": "markdown",
   "metadata": {},
   "source": [
    "## get data: Y, Y pred, shap values for each phenotype"
   ]
  },
  {
   "cell_type": "code",
   "execution_count": 3,
   "metadata": {
    "ExecuteTime": {
     "end_time": "2019-02-24T10:07:47.165176Z",
     "start_time": "2019-02-24T10:07:22.273580Z"
    }
   },
   "outputs": [
    {
     "name": "stdout",
     "output_type": "stream",
     "text": [
      "DischargeClopidogrel\n",
      "loading Y data\n",
      "loading Y_pred data\n",
      "loading importance data\n",
      "AdmissionAspirin\n",
      "loading Y data\n",
      "loading Y_pred data\n",
      "loading importance data\n",
      "AdmissionBetaBlockers\n",
      "loading Y data\n",
      "loading Y_pred data\n",
      "loading importance data\n",
      "DischargeMerformin\n",
      "loading Y data\n",
      "loading Y_pred data\n",
      "loading importance data\n",
      "OstialCXDisease\n",
      "loading Y data\n",
      "loading Y_pred data\n",
      "loading importance data\n",
      "MaximalTroponin\n",
      "loading Y data\n",
      "loading Y_pred data\n",
      "loading importance data\n",
      "ChiefComplaintmapped_anginalpain\n",
      "loading Y data\n",
      "loading Y_pred data\n",
      "loading importance data\n",
      "PCI1_CABG\n",
      "loading Y data\n",
      "loading Y_pred data\n",
      "loading importance data\n",
      "isCardio\n",
      "loading Y data\n",
      "couldnt get Y data\n",
      "loading Y_pred data\n",
      "loading importance data\n",
      "total_ostial_cont\n",
      "loading Y data\n",
      "loading Y_pred data\n",
      "loading importance data\n"
     ]
    }
   ],
   "source": [
    "phen_list=[('Discharge Clopidogrel','Discharge Clopidogrel',\n",
    "    '/net/mraid08/export/jafar/Microbiome/Analyses/ShaniBAF/predictions2/Cardio126_diseasePhenotypes/DischargeClopidogrel_XGB20_randomSearch_25_byRepFeatPCA10percVDJ0999PredictedAgeGender_optByAUC/'),\n",
    "          ('Admission Aspirin','Admission Aspirin',\n",
    "    '/net/mraid08/export/jafar/Microbiome/Analyses/ShaniBAF/predictions2/Cardio126_diseasePhenotypes/AdmissionAspirinBetaBlockersDischargeMerformin_XGB100_randomSearch_25_byNewX_AUC/'),\n",
    "        ('Admission Beta Blockers','Admission Beta Blockers',\n",
    "    '/net/mraid08/export/jafar/Microbiome/Analyses/ShaniBAF/predictions2/Cardio126_diseasePhenotypes/AdmissionAspirinBetaBlockersDischargeMerformin_XGB100_randomSearch_25_byNewX_AUC/'),\n",
    "        ('Discharge Merformin','Discharge Merformin',\n",
    "    '/net/mraid08/export/jafar/Microbiome/Analyses/ShaniBAF/predictions2/Cardio126_diseasePhenotypes/AdmissionAspirinBetaBlockersDischargeMerformin_XGB100_randomSearch_25_byNewX_AUC/'),\n",
    "        ('Ostial CX Disease','Ostial CX Disease',\n",
    "    '/net/mraid08/export/jafar/Microbiome/Analyses/ShaniBAF/predictions2/Cardio126_diseasePhenotypes/XGBreg50LOO_randomSearch_25_byRepFeatPCA10percVDJ0999PredictedAgeGender_expVar/'),\n",
    "         ('Maximal Troponin','Maximal Troponin',\n",
    "    '/net/mraid08/export/jafar/Microbiome/Analyses/ShaniBAF/predictions2/Cardio126_diseasePhenotypes/XGBreg20LOO_randomSearch_25_byRepFeatPCA10percVDJ0999PredictedAgeGender_expVar/'),\n",
    "          ('Chief Complaint mapped_anginal pain','Chief complaint – anginal pain',\n",
    "    '/net/mraid08/export/jafar/Microbiome/Analyses/ShaniBAF/predictions2/Cardio126_diseasePhenotypes/ChiefComplaintmapped_anginalpain_logReg100_randomSearch_25_byRepFeatPCA10percVDJ0999PredictedAgeGender_optByAUC/'),\n",
    "           ('PCI1_CABG','Previous PCI/CABG',\n",
    "    '/net/mraid08/export/jafar/Microbiome/Analyses/ShaniBAF/predictions2/Cardio126_diseasePhenotypes/XGBStrat_randomSearch_25_byRepFeatPCA10percVDJ0999PredictedAgeGender_kappa/'),\n",
    "             ('isCardio','isCardio',\n",
    "    '/net/mraid08/export/jafar/Microbiome/Analyses/ShaniBAF/predictions2/isCardio/XGB_randomSearch_25_byRepFeatPCA10percVDJ0999PredictedAgeGender/'),\n",
    "           ('total_ostial_cont','total_ostial_cont',\n",
    "            '/net/mraid08/export/jafar/Microbiome/Analyses/ShaniBAF/predictions2/Cardio126_diseasePhenotypes/total_ostial_cont_XGB100_randomSearch_25_byNewX_kappa/')]\n",
    "            \n",
    "data_dir='/net/mraid08/export/genie/Lab/Personal/ShaniBAF/Presentations and Manuscripts/CardioTCR paper/data/'\n",
    "fig_data_dir='/net/mraid08/export/genie/Lab/Personal/ShaniBAF/Presentations and Manuscripts/CardioTCR paper/FigureDraft_Jan19/'\n",
    "\n",
    "\n",
    "for item in phen_list:\n",
    "    phen2=item[0]\n",
    "    phen=item[0].replace(' ','')\n",
    "    print phen\n",
    "    phen_name=item[1]\n",
    "    pred_dir=item[2]\n",
    "    \n",
    "    print 'loading Y data'\n",
    "    try:\n",
    "        Y=pd.read_excel('/net/mraid08/export/genie/Lab/Personal/ShaniBAF/TCR_real_data/CardioSamples/phenotypicData/%s.xlsx' %phen.replace(' ','')).set_index('BD')\n",
    "        Y.to_excel(data_dir+'%s.xlsx' %phen)\n",
    "    except:\n",
    "        print 'couldnt get Y data'\n",
    "    \n",
    "    print 'loading Y_pred data'\n",
    "    \n",
    "    try:\n",
    "        Y_pred=pd.read_pickle(pred_dir+'predictions_df.pkl')[phen].sort_index()\n",
    "    except:\n",
    "        Y_pred=pd.read_pickle(pred_dir+'predictions_df.pkl')[phen2].sort_index()\n",
    "    Y_pred.to_pickle(data_dir+'%s_predictions_df.pkl' %phen.replace(' ',''))\n",
    "    \n",
    "    print 'loading importance data'  \n",
    "    if 'logReg' in pred_dir:\n",
    "        importance_values=pd.read_pickle(pred_dir+'coef_values.pkl')[phen].sort_index()\n",
    "    elif 'XGB' in pred_dir:\n",
    "        try:\n",
    "            \n",
    "            importance_values=pd.read_pickle(pred_dir+'shap_values.pkl')[phen].sort_index()\n",
    "        except:\n",
    "            importance_values=pd.read_pickle(pred_dir+'shap_values.pkl')[phen2].sort_index()\n",
    "    else:\n",
    "        print 'cant identify model,breaking...'\n",
    "        \n",
    "    importance_values.to_pickle(data_dir+'%s_importance_values.pkl'%phen.replace(' ',''))\n",
    "\n",
    "\n",
    "\n",
    "    \n",
    "\n",
    "    \n",
    "##############save data!!!###############################\n",
    "    "
   ]
  },
  {
   "cell_type": "code",
   "execution_count": 4,
   "metadata": {
    "ExecuteTime": {
     "end_time": "2019-02-24T10:07:47.578821Z",
     "start_time": "2019-02-24T10:07:47.522773Z"
    }
   },
   "outputs": [],
   "source": [
    "gdir='/net/mraid08/export/jafar/Microbiome/Analyses/ShaniBAF/predictions2/\\\n",
    "Cardio126_diseasePhenotypes/AdmissionAspirinBetaBlockersDischargeMerformin_XGB100_randomSearch_25_byNewX_AUC/'\n",
    "\n",
    "shap=pd.read_pickle(gdir+'shap_values.pkl')"
   ]
  },
  {
   "cell_type": "code",
   "execution_count": 5,
   "metadata": {
    "ExecuteTime": {
     "end_time": "2019-02-24T10:07:48.322691Z",
     "start_time": "2019-02-24T10:07:48.313112Z"
    }
   },
   "outputs": [
    {
     "data": {
      "text/plain": [
       "(126, 137)"
      ]
     },
     "execution_count": 5,
     "metadata": {},
     "output_type": "execute_result"
    }
   ],
   "source": [
    "shap['AdmissionAspirin'].shape"
   ]
  },
  {
   "cell_type": "code",
   "execution_count": 6,
   "metadata": {
    "ExecuteTime": {
     "end_time": "2019-02-24T10:07:49.174321Z",
     "start_time": "2019-02-24T10:07:49.167345Z"
    }
   },
   "outputs": [],
   "source": [
    "df=shap['AdmissionAspirin']\n",
    "df2=df.loc[:,df.sum()>0]"
   ]
  },
  {
   "cell_type": "code",
   "execution_count": 7,
   "metadata": {
    "ExecuteTime": {
     "end_time": "2019-02-24T10:07:50.258516Z",
     "start_time": "2019-02-24T10:07:50.254082Z"
    }
   },
   "outputs": [
    {
     "data": {
      "text/plain": [
       "(126, 137)"
      ]
     },
     "execution_count": 7,
     "metadata": {},
     "output_type": "execute_result"
    }
   ],
   "source": [
    "df2.shape"
   ]
  },
  {
   "cell_type": "code",
   "execution_count": 8,
   "metadata": {
    "ExecuteTime": {
     "end_time": "2019-02-24T10:07:51.193079Z",
     "start_time": "2019-02-24T10:07:51.186871Z"
    }
   },
   "outputs": [
    {
     "name": "stdout",
     "output_type": "stream",
     "text": [
      "(126, 137)\n"
     ]
    },
    {
     "data": {
      "text/plain": [
       "-1.5542106016073376"
      ]
     },
     "execution_count": 8,
     "metadata": {},
     "output_type": "execute_result"
    }
   ],
   "source": [
    "print df2.shape\n",
    "df2.sum(axis=1).min()"
   ]
  },
  {
   "cell_type": "markdown",
   "metadata": {},
   "source": [
    "## get best coefs/shap:"
   ]
  },
  {
   "cell_type": "code",
   "execution_count": 10,
   "metadata": {
    "ExecuteTime": {
     "end_time": "2019-02-04T19:13:17.685918Z",
     "start_time": "2019-02-04T19:13:17.616155Z"
    }
   },
   "outputs": [
    {
     "name": "stdout",
     "output_type": "stream",
     "text": [
      "Discharge Clopidogrel\n",
      "top abs:\n",
      "d3Deletion_mean_1    68.528129\n",
      "V19_J02_1            47.851988\n",
      "V29_J01_0            47.177606\n",
      "PC2                  41.325441\n",
      "V30_J01_1            23.697058\n",
      "D01_J02-01_1         10.353311\n",
      "J02-01_0             10.347071\n",
      "D01_J01-02_0         10.334197\n",
      "V10_J02_0             9.900018\n",
      "D02_J02-07_1          9.831374\n",
      "dtype: float64\n",
      "top mean\n",
      "V07-08_0        0.032494\n",
      "J01-06_1        0.029787\n",
      "J02-01_0        0.028037\n",
      "J02-07_0        0.022556\n",
      "D02_J02-07_0    0.018142\n",
      "V30-01_1        0.013587\n",
      "V28-01_1        0.013541\n",
      "D01_J01-01_1    0.012387\n",
      "D02_J01-06_1    0.008147\n",
      "D02_J02-01_0    0.007947\n",
      "dtype: float64\n",
      "bottom mean\n",
      "V10_J02_0           -0.030197\n",
      "V06-05_1            -0.038009\n",
      "D01_J02-01_1        -0.038304\n",
      "V30_J01_1           -0.042050\n",
      "V11_J01_1           -0.042808\n",
      "d3Deletion_mean_0   -0.093922\n",
      "V19_J02_1           -0.127151\n",
      "V29_J01_0           -0.151906\n",
      "d3Deletion_mean_1   -0.167311\n",
      "PC2                 -0.175879\n",
      "dtype: float64\n",
      "\n",
      "Chief Complaint mapped_anginal pain\n",
      "top abs:\n",
      "DENV_rel_cum_freq(perc)                 59.936849\n",
      "gc_content_0                            57.994053\n",
      "PC10                                    45.413123\n",
      "HomoSapiens_rel_cum_freq(perc)          42.034730\n",
      "V27-01_1                                39.140993\n",
      "PC4                                     37.734792\n",
      "D02_J02-04_1                            36.654652\n",
      "Multiplesclerosis_rel_cum_freq(perc)    36.613457\n",
      "vDeletion_mean_0                        21.500426\n",
      "Influenza_rel_seq_count                 20.194557\n",
      "dtype: float64\n",
      "top mean\n",
      "n1Insertion_max_1                 0.657613\n",
      "DENV_rel_cum_freq(perc)           0.530415\n",
      "D02_J02-05_0                      0.465054\n",
      "gc_content_0                      0.460270\n",
      "PC4                               0.428804\n",
      "PC10                              0.360422\n",
      "HomoSapiens_rel_cum_freq(perc)    0.333609\n",
      "V27-01_1                          0.310643\n",
      "D01_J01-04_1                      0.291670\n",
      "D02_J02-04_1                      0.290910\n",
      "dtype: float64\n",
      "bottom mean\n",
      "totalAnnotateSeqs            0.020752\n",
      "V27_J02_1                    0.020710\n",
      "SIV_rel_seq_count            0.018756\n",
      "V04-03_1                     0.013247\n",
      "mean_nt_per_aa_0             0.012320\n",
      "V29-01_1                     0.011911\n",
      "V07-08_1                     0.010937\n",
      "V28-01_0                     0.009911\n",
      "frequencyCount (%)_mean_1    0.009390\n",
      "D02_J01-01_0                 0.009253\n",
      "dtype: float64\n",
      "\n",
      "PCI1_CABG\n",
      "top abs:\n",
      "V05-06_0           34.148644\n",
      "D02_J02-03_1       18.668214\n",
      "vDeletion_std_1    15.858144\n",
      "V25_1              14.969364\n",
      "V13_J02_1          12.961578\n",
      "V04_J01_0          12.244502\n",
      "V05-08_0           11.984273\n",
      "V07-02_1           11.169080\n",
      "V21_J02_0          10.929758\n",
      "D01_J02-07_0       10.248596\n",
      "dtype: float64\n",
      "top mean\n",
      "D01_0                      0.004142\n",
      "V02_J02_0                  0.003261\n",
      "D02_J02-04_1               0.003241\n",
      "J01-04_0                   0.002984\n",
      "V12-02_0                   0.002539\n",
      "V07_0                      0.002354\n",
      "Influenza_rel_seq_count    0.002232\n",
      "V30_J02_1                  0.002196\n",
      "AA count_1                 0.002180\n",
      "V23_J02_0                  0.002114\n",
      "dtype: float64\n",
      "bottom mean\n",
      "EBV_rel_seq_count   -0.012551\n",
      "V04_J02_0           -0.014152\n",
      "D02_J01-01_1        -0.014622\n",
      "V06-06_0            -0.014716\n",
      "D02_J02-03_1        -0.018294\n",
      "D01_J02-07_0        -0.020434\n",
      "V07-02_1            -0.022586\n",
      "vDeletion_std_1     -0.027946\n",
      "V05-08_0            -0.032369\n",
      "V05-06_0            -0.033308\n",
      "dtype: float64\n",
      "\n"
     ]
    }
   ],
   "source": [
    "phen_list=[('Discharge Clopidogrel','Discharge Clopidogrel','/net/mraid08/export/jafar/Microbiome/Analyses/ShaniBAF/predictions2/Cardio126_diseasePhenotypes/logReg20_gridSearch_byRepFeatPCA10percVDJ0999PredictedAgeGender_expVar/'),\n",
    "           ('Chief Complaint mapped_anginal pain','Chief complaint – anginal pain','/net/mraid08/export/jafar/Microbiome/Analyses/ShaniBAF/predictions2/Cardio126_diseasePhenotypes/logRegStrat_gridSearch_byRepFeatPCA10percVDJ0999PredictedAgeGender_optByKappa/'),\n",
    "           ('PCI1_CABG','Previous PCI/CABG','/net/mraid08/export/jafar/Microbiome/Analyses/ShaniBAF/predictions2/Cardio126_diseasePhenotypes/XGBStrat_randomSearch_25_byRepFeatPCA10percVDJ0999PredictedAgeGender_kappa/')]\n",
    "            \n",
    "            \n",
    "data_dir='/net/mraid08/export/genie/Lab/Personal/ShaniBAF/Presentations and Manuscripts/CardioTCR paper/data/'\n",
    "fig_data_dir='/net/mraid08/export/genie/Lab/Personal/ShaniBAF/Presentations and Manuscripts/CardioTCR paper/FigureDraft_Jan19/'\n",
    "\n",
    "\n",
    "for item in phen_list:\n",
    "    phen=item[0]\n",
    "    phen_name=item[1]\n",
    "    pred_dir=item[2]\n",
    "    \n",
    "    imp_values=pd.read_pickle(data_dir+'%s_importance_values.pkl'%phen.replace(' ',''))\n",
    "    \n",
    "    best_features=imp_values.abs().sum().sort_values(ascending=False).head(20)\n",
    "    \n",
    "    print phen\n",
    "    print 'top abs:'\n",
    "    print imp_values.abs().sum().sort_values(ascending=False).head(10)\n",
    "    print 'top mean'\n",
    "    print imp_values.mean().sort_values(ascending=False).head(10)\n",
    "    print 'bottom mean'\n",
    "    print imp_values.mean().sort_values(ascending=False).dropna().tail(10)\n",
    "    print ''"
   ]
  },
  {
   "cell_type": "markdown",
   "metadata": {},
   "source": [
    "## define functions:"
   ]
  },
  {
   "cell_type": "markdown",
   "metadata": {},
   "source": [
    "us the function: plot_ROC_PR_AUC(y, y_pred_df, ax,color1='mediumorchid',color2='navy')"
   ]
  },
  {
   "cell_type": "markdown",
   "metadata": {},
   "source": [
    "### plot AUC_PR per phen"
   ]
  },
  {
   "cell_type": "code",
   "execution_count": 9,
   "metadata": {
    "ExecuteTime": {
     "end_time": "2019-02-24T10:07:52.155592Z",
     "start_time": "2019-02-24T10:07:52.147207Z"
    }
   },
   "outputs": [],
   "source": [
    "def plot_AUC_PR_per_phen(phen,ax):\n",
    "    Y=pd.read_excel(data_dir+'%s.xlsx' %phen.replace(' ','')).set_index('BD')[phen]\n",
    "    Y=Y.dropna()\n",
    "    print Y.value_counts(dropna=False)\n",
    "\n",
    "    Y_pred=pd.read_pickle(data_dir+'%s_predictions_df.pkl' %phen.replace(' ',''))\n",
    "    Y_pred=pd.DataFrame(Y_pred.rename('pred_proba'))\n",
    "\n",
    "    ax, roc_auc, pr_auc = plot_ROC_PR_AUC(Y,Y_pred, ax,color1='darkred',color2='black')\n",
    "    return ax, roc_auc, pr_auc"
   ]
  },
  {
   "cell_type": "markdown",
   "metadata": {},
   "source": [
    "### plot Y_Ypred correlation per phen"
   ]
  },
  {
   "cell_type": "code",
   "execution_count": 10,
   "metadata": {
    "ExecuteTime": {
     "end_time": "2019-02-24T10:07:53.233374Z",
     "start_time": "2019-02-24T10:07:53.225854Z"
    }
   },
   "outputs": [],
   "source": [
    "def adjusted_roundup(num,use1LevelBelow=False):\n",
    "    s_num=str(num)\n",
    "    fraction=s_num.split('.')[0]\n",
    "    fold=len(fraction)\n",
    "    if use1LevelBelow:\n",
    "        fold=fold-1\n",
    "    roundup_fold=10**(fold-1)\n",
    "    print ('roundup_fold:',roundup_fold)\n",
    "    return int(math.ceil(float(num) / roundup_fold)) * roundup_fold\n"
   ]
  },
  {
   "cell_type": "code",
   "execution_count": 11,
   "metadata": {
    "ExecuteTime": {
     "end_time": "2019-02-24T10:07:54.315182Z",
     "start_time": "2019-02-24T10:07:54.281937Z"
    }
   },
   "outputs": [],
   "source": [
    "def plot_Ypred_corr_per_phen(phen,ax,addTitle=False,toAnnotate=True,use1LevelBelow=False):\n",
    "    \n",
    "    #get data:\n",
    "    phen=phen.replace(' ','')\n",
    "    Y=pd.read_excel(data_dir+'%s.xlsx' %phen.replace(' ','')).set_index('BD')[phen]\n",
    "    Y=Y.dropna()\n",
    "#     print Y.value_counts(dropna=False)\n",
    "\n",
    "    Y_pred=pd.read_pickle(data_dir+'%s_predictions_df.pkl' %phen.replace(' ','')).rename('pred')\n",
    "\n",
    "    #equalize data length:\n",
    "    merged=pd.merge(pd.DataFrame(Y),pd.DataFrame(Y_pred), how='inner', left_index=True,right_index=True)\n",
    "    print merged.shape\n",
    "    \n",
    "    data1=merged[phen]\n",
    "    data2=merged['pred']\n",
    "    max_val=np.max([data1.max(),data2.max()])\n",
    "    max_val_round=adjusted_roundup(max_val,use1LevelBelow)\n",
    "    print (max_val_round)\n",
    "    data1name = 'Y values'\n",
    "    data2name = 'Predicted Y values'\n",
    "    \n",
    "    if addTitle:\n",
    "        title = \"%s prediction by TCR features\\n(Pearson's correlation test\" % phen\n",
    "    else:\n",
    "        title=''\n",
    "    corrType = 'pearson'\n",
    "    data1name = 'Y values'\n",
    "\n",
    "    ax, nsamples, r_pear, p_pear, text2 = plot_corr(data1,data2, data1name, data2name, ax, title, corrType,\n",
    "                                          toAnnotate=False, text_kws={'color':'black','fontsize':'large',\n",
    "                                        'fontweight': 'bold'}, scatter_kws={'color':'darkred','s':100,'alpha':0.4})\n",
    "#     plt.gca().set_aspect('equal', adjustable='box')\n",
    "    ax.set_xlim(0,max_val_round)\n",
    "    ax.set_ylim(0,max_val_round)\n",
    "#     plt.gca().set_aspect('equal', adjustable='box')\n",
    "    r_spear, p_spear = MySpearmanr(data1, data2)\n",
    "\n",
    "    return ax, r_pear, p_pear"
   ]
  },
  {
   "cell_type": "code",
   "execution_count": 12,
   "metadata": {
    "ExecuteTime": {
     "end_time": "2019-02-24T10:07:56.266511Z",
     "start_time": "2019-02-24T10:07:55.301650Z"
    }
   },
   "outputs": [
    {
     "name": "stdout",
     "output_type": "stream",
     "text": [
      "(121, 2)\n",
      "('roundup_fold:', 10000)\n",
      "20000\n",
      "121\n",
      "121\n"
     ]
    },
    {
     "ename": "ValueError",
     "evalue": "too many values to unpack",
     "output_type": "error",
     "traceback": [
      "\u001b[0;31m---------------------------------------------------------------------------\u001b[0m",
      "\u001b[0;31mValueError\u001b[0m                                Traceback (most recent call last)",
      "\u001b[0;32m<ipython-input-12-238268e0a31e>\u001b[0m in \u001b[0;36m<module>\u001b[0;34m()\u001b[0m\n\u001b[1;32m      1\u001b[0m \u001b[0mphen\u001b[0m\u001b[0;34m=\u001b[0m\u001b[0;34m'Maximal Troponin'\u001b[0m\u001b[0;34m\u001b[0m\u001b[0m\n\u001b[1;32m      2\u001b[0m \u001b[0mfig\u001b[0m\u001b[0;34m,\u001b[0m\u001b[0max\u001b[0m\u001b[0;34m=\u001b[0m\u001b[0mplt\u001b[0m\u001b[0;34m.\u001b[0m\u001b[0msubplots\u001b[0m\u001b[0;34m(\u001b[0m\u001b[0;34m)\u001b[0m\u001b[0;34m\u001b[0m\u001b[0m\n\u001b[0;32m----> 3\u001b[0;31m \u001b[0mplot_Ypred_corr_per_phen\u001b[0m\u001b[0;34m(\u001b[0m\u001b[0mphen\u001b[0m\u001b[0;34m,\u001b[0m\u001b[0max\u001b[0m\u001b[0;34m)\u001b[0m\u001b[0;34m\u001b[0m\u001b[0m\n\u001b[0m\u001b[1;32m      4\u001b[0m \u001b[0mplt\u001b[0m\u001b[0;34m.\u001b[0m\u001b[0mshow\u001b[0m\u001b[0;34m(\u001b[0m\u001b[0;34m)\u001b[0m\u001b[0;34m\u001b[0m\u001b[0m\n",
      "\u001b[0;32m<ipython-input-11-e08cf3c86664>\u001b[0m in \u001b[0;36mplot_Ypred_corr_per_phen\u001b[0;34m(phen, ax, addTitle, toAnnotate, use1LevelBelow)\u001b[0m\n\u001b[1;32m     30\u001b[0m     ax, nsamples, r_pear, p_pear, text2 = plot_corr(data1,data2, data1name, data2name, ax, title, corrType,\n\u001b[1;32m     31\u001b[0m                                           toAnnotate=False, text_kws={'color':'black','fontsize':'large',\n\u001b[0;32m---> 32\u001b[0;31m                                         'fontweight': 'bold'}, scatter_kws={'color':'darkred','s':100,'alpha':0.4})\n\u001b[0m\u001b[1;32m     33\u001b[0m \u001b[0;31m#     plt.gca().set_aspect('equal', adjustable='box')\u001b[0m\u001b[0;34m\u001b[0m\u001b[0;34m\u001b[0m\u001b[0m\n\u001b[1;32m     34\u001b[0m     \u001b[0max\u001b[0m\u001b[0;34m.\u001b[0m\u001b[0mset_xlim\u001b[0m\u001b[0;34m(\u001b[0m\u001b[0;36m0\u001b[0m\u001b[0;34m,\u001b[0m\u001b[0mmax_val_round\u001b[0m\u001b[0;34m)\u001b[0m\u001b[0;34m\u001b[0m\u001b[0m\n",
      "\u001b[0;31mValueError\u001b[0m: too many values to unpack"
     ]
    }
   ],
   "source": [
    "phen='Maximal Troponin'\n",
    "fig,ax=plt.subplots()\n",
    "plot_Ypred_corr_per_phen(phen,ax)\n",
    "plt.show()"
   ]
  },
  {
   "cell_type": "markdown",
   "metadata": {},
   "source": [
    "### plot coefs/shap  - seperate plot per feature"
   ]
  },
  {
   "cell_type": "code",
   "execution_count": 14,
   "metadata": {
    "ExecuteTime": {
     "end_time": "2019-02-24T10:08:25.008164Z",
     "start_time": "2019-02-24T10:08:24.971871Z"
    }
   },
   "outputs": [],
   "source": [
    "def plot_importance_per_phen(phen,ax,X_path,feature,isShap):\n",
    "    import matplotlib.cm as cm\n",
    "    cmap=cm.seismic\n",
    "\n",
    "    Y_pred=pd.read_pickle(fig_data_dir+'%s_predictions_df.pkl' %phen.replace(' ',''))\n",
    "    Y_pred=pd.DataFrame(Y_pred.rename('pred_proba').astype(float))\n",
    "    X=pd.read_pickle(X_path)\n",
    "    feature_data=pd.DataFrame(X[feature].astype(float))\n",
    "    imp_values=pd.DataFrame(pd.read_pickle(data_dir+'%s_importance_values.pkl'%phen.replace(' ',''))[feature].astype(float).rename('importance_value'))\n",
    "    \n",
    "    merged=pd.merge(Y_pred,feature_data,how='inner',left_index=True,right_index=True)\n",
    "    merged=pd.merge(merged,imp_values,how='inner',left_index=True,right_index=True)\n",
    "    merged=merged.sort_values(by='importance_value',ascending=False)\n",
    "    \n",
    "    if isShap:   \n",
    "#         plot_corr(merged[feature],merged['pred_proba'],data1name=feature,data2name='pred_proba',ax=ax,title=None,corrType='pearson',toAnnotate=True,plotTrendLine=True,s=100,alpha=0.4,c='importance_value',cmap=cmap)\n",
    "        merged.plot(feature,'pred_proba',kind='scatter',ax=ax,c='importance_value',cmap=cmap,s=100,alpha=0.4)\n",
    "    else:\n",
    "        plot_corr(merged[feature],merged['pred_proba'],data1name=feature,data2name='pred_proba',ax=ax,title=None,corrType='pearson',toAnnotate=True,plotTrendLine=True,s=100,alpha=0.4)\n",
    "#         merged.plot(feature,'pred_proba',kind='scatter',ax=ax,s=100,alpha=0.4) \n",
    "    return ax"
   ]
  },
  {
   "cell_type": "markdown",
   "metadata": {},
   "source": [
    "### plot coef/shap - one summarizing plot for all top features"
   ]
  },
  {
   "cell_type": "code",
   "execution_count": 15,
   "metadata": {
    "ExecuteTime": {
     "end_time": "2019-02-24T10:08:26.496294Z",
     "start_time": "2019-02-24T10:08:26.465953Z"
    }
   },
   "outputs": [],
   "source": [
    "def plot_importance_per_phen_bar(phen,ax,nTop=10,color='grey',fontcolor='black',tickpad=0):\n",
    "    import matplotlib.cm as cm\n",
    "    cmap=cm.seismic\n",
    "\n",
    "    imp_values=pd.read_pickle(data_dir+'%s_importance_values.pkl'%phen.replace(' ',''))\n",
    "    best_features=imp_values.abs().sum().sort_values(ascending=False).head(nTop)\n",
    "    best_features_values=best_features.values.tolist()\n",
    "    best_features_names=best_features.index.tolist()\n",
    "    \n",
    "    print 'top features:'\n",
    "    print best_features_names\n",
    "    print 'top features:'\n",
    "    print best_features_values\n",
    "    \n",
    "    ax.bar(range(len(best_features_names)),best_features_values,color=color)\n",
    "#     best_features.plot(kind='bar',ax=ax,color='white')\n",
    "    ax.set_xticks([x+0.5 for x in range(len(best_features_names))])\n",
    "    ax.set_xticklabels(best_features_names,rotation=90)\n",
    "#     ax.tick_params(axis=\"x\",direction=\"in\", pad=tickpad,labelcolor='black')\n",
    "#     plt.rcParams[\"axes.axisbelow\"] = True\n",
    "    \n",
    "    return ax,topFeatures"
   ]
  },
  {
   "cell_type": "code",
   "execution_count": 16,
   "metadata": {
    "ExecuteTime": {
     "end_time": "2019-02-24T10:08:27.851240Z",
     "start_time": "2019-02-24T10:08:27.631612Z"
    },
    "scrolled": true
   },
   "outputs": [
    {
     "name": "stdout",
     "output_type": "stream",
     "text": [
      "top features:\n",
      "['V02_J02_0', 'V02-01_0', u'LCMV_rel_cum_freq(perc)', 'D02_J02-05_0', 'V15-01_1', 'D01_J01-04_0', 'V25_J02_0', 'V29_J01_0', u'Celiacdisease_rel_cum_freq(perc)', 'n2Insertion_max_1']\n",
      "top features:\n",
      "[28094.1743619442, 27160.450207412243, 18734.78192472458, 17234.28675031662, 16997.205611228943, 13908.790066957474, 10244.485007286072, 8805.74830403924, 8424.127440959215, 7965.39126726985]\n"
     ]
    },
    {
     "ename": "NameError",
     "evalue": "global name 'topFeatures' is not defined",
     "output_type": "error",
     "traceback": [
      "\u001b[0;31m---------------------------------------------------------------------------\u001b[0m",
      "\u001b[0;31mNameError\u001b[0m                                 Traceback (most recent call last)",
      "\u001b[0;32m<ipython-input-16-bec00e9376aa>\u001b[0m in \u001b[0;36m<module>\u001b[0;34m()\u001b[0m\n\u001b[1;32m      3\u001b[0m \u001b[0;34m\u001b[0m\u001b[0m\n\u001b[1;32m      4\u001b[0m \u001b[0mfig\u001b[0m\u001b[0;34m,\u001b[0m\u001b[0max\u001b[0m\u001b[0;34m=\u001b[0m\u001b[0mplt\u001b[0m\u001b[0;34m.\u001b[0m\u001b[0msubplots\u001b[0m\u001b[0;34m(\u001b[0m\u001b[0;34m)\u001b[0m\u001b[0;34m\u001b[0m\u001b[0m\n\u001b[0;32m----> 5\u001b[0;31m \u001b[0mplot_importance_per_phen_bar\u001b[0m\u001b[0;34m(\u001b[0m\u001b[0mphen\u001b[0m\u001b[0;34m,\u001b[0m\u001b[0max\u001b[0m\u001b[0;34m,\u001b[0m\u001b[0mtickpad\u001b[0m\u001b[0;34m=\u001b[0m\u001b[0mtickpad\u001b[0m\u001b[0;34m)\u001b[0m\u001b[0;34m\u001b[0m\u001b[0m\n\u001b[0m\u001b[1;32m      6\u001b[0m \u001b[0mplt\u001b[0m\u001b[0;34m.\u001b[0m\u001b[0mshow\u001b[0m\u001b[0;34m(\u001b[0m\u001b[0;34m)\u001b[0m\u001b[0;34m\u001b[0m\u001b[0m\n",
      "\u001b[0;32m<ipython-input-15-967f9798572e>\u001b[0m in \u001b[0;36mplot_importance_per_phen_bar\u001b[0;34m(phen, ax, nTop, color, fontcolor, tickpad)\u001b[0m\n\u001b[1;32m     20\u001b[0m \u001b[0;31m#     plt.rcParams[\"axes.axisbelow\"] = True\u001b[0m\u001b[0;34m\u001b[0m\u001b[0;34m\u001b[0m\u001b[0m\n\u001b[1;32m     21\u001b[0m \u001b[0;34m\u001b[0m\u001b[0m\n\u001b[0;32m---> 22\u001b[0;31m     \u001b[0;32mreturn\u001b[0m \u001b[0max\u001b[0m\u001b[0;34m,\u001b[0m\u001b[0mtopFeatures\u001b[0m\u001b[0;34m\u001b[0m\u001b[0m\n\u001b[0m",
      "\u001b[0;31mNameError\u001b[0m: global name 'topFeatures' is not defined"
     ]
    }
   ],
   "source": [
    "phen='MaximalTroponin'\n",
    "tickpad=-75\n",
    "\n",
    "fig,ax=plt.subplots()\n",
    "plot_importance_per_phen_bar(phen,ax,tickpad=tickpad)\n",
    "plt.show()\n"
   ]
  },
  {
   "cell_type": "markdown",
   "metadata": {},
   "source": [
    "### plot sequence cluster heatmap:"
   ]
  },
  {
   "cell_type": "code",
   "execution_count": 17,
   "metadata": {
    "ExecuteTime": {
     "end_time": "2019-02-24T10:08:44.456491Z",
     "start_time": "2019-02-24T10:08:44.366443Z"
    }
   },
   "outputs": [],
   "source": [
    "def plot_sequence_cluster_heatmap(phen,sampleByClusterDF,cluster_list,data_dir,ax1,ax2,showPredCbar=True,\n",
    "                                 max_val=6,binary=True):\n",
    "\n",
    "    ##max_val can be None and then will be set to the maximal value if the data\n",
    "    \n",
    "    phen=phen.replace(' ','')\n",
    "    #get Y data:\n",
    "    Y=pd.read_excel(data_dir+'%s.xlsx' %phen).set_index('BD')[phen]\n",
    "    Y=pd.DataFrame(Y.dropna())\n",
    "    \n",
    "    # get Y_pred data:\n",
    "    Y_pred=pd.read_pickle(data_dir+'%s_predictions_df.pkl' %phen.replace(' ',''))\n",
    "    Y_pred=pd.DataFrame(Y_pred.rename('pred_proba').astype(float))\n",
    "    \n",
    "    #get cluster info:\n",
    "    clusters_info=sampleByClusterDF.loc[Cardio126,cluster_list].fillna(0)\n",
    "    \n",
    "    #merge all and sort by Y and Y_pred:\n",
    "    merged=pd.merge(Y,Y_pred,how='inner',left_index=True,right_index=True)\n",
    "    merged=pd.merge(merged,clusters_info,how='inner',left_index=True,right_index=True)\n",
    "    merged=merged.sort_values(by=[phen,'pred_proba'],ascending=False)\n",
    "    \n",
    "    df =  merged[[phen,'pred_proba']]\n",
    "    df2 = merged[cluster_list]\n",
    "\n",
    "        #generate figure:\n",
    "    print ('max val is: ',df2.max().max())\n",
    "    if max_val is None:\n",
    "        max_val=int(df2.max().max())\n",
    "    min_val=0\n",
    "    dif=max_val-min_val\n",
    "#     print dif\n",
    "\n",
    "    cmap_2 = plt.get_cmap('Reds', dif+1)\n",
    "\n",
    "#     fig.subplots_adjust(hspace=0.02)\n",
    "    hp1=sns.heatmap(df.T, cmap=\"Greys\", ax=ax1, cbar=False,linewidth=0.05,vmin=min_val)\n",
    "    if showPredCbar:\n",
    "        cbar_1=fig.colorbar(ax1.collections[0],ax=ax1,location=\"top\", use_gridspec=False, pad=0.08,fraction=0.3,aspect=30)\n",
    "        if binary:\n",
    "            cbar_1.set_ticks([0,0.5,1])\n",
    "        else:\n",
    "            cbar_1.set_ticklabels(range(dif+1))\n",
    "    hp2=sns.heatmap(df2.T, cmap=cmap_2, ax=ax2, cbar=False,linewidth=0.05,vmin = min_val, vmax = max_val)\n",
    "    cbar_2=fig.colorbar(ax2.collections[0], ax=ax2,location=\"bottom\", use_gridspec=False, pad=0.08, fraction=0.1, aspect=20)\n",
    "    cbar_2.set_ticks([float(dif)/12 + float(dif)*x/(dif+1) for x in range(dif+1)])\n",
    "    cbar_2.set_ticklabels(range(dif+1))\n",
    "\n",
    "    ax1.tick_params(axis='both', which='both', bottom=False, top=False, labelbottom=False, labelleft=False) \n",
    "    ax2.tick_params(axis='both', which='both', bottom=False, top=False, labelbottom=False, labelleft=False)\n",
    "   \n",
    "    return ax1,ax2\n",
    "    "
   ]
  },
  {
   "cell_type": "markdown",
   "metadata": {},
   "source": [
    "#### usage example:"
   ]
  },
  {
   "cell_type": "code",
   "execution_count": 18,
   "metadata": {
    "ExecuteTime": {
     "end_time": "2019-02-24T10:08:48.797547Z",
     "start_time": "2019-02-24T10:08:46.993378Z"
    }
   },
   "outputs": [],
   "source": [
    "sampleByClusterDF=pd.read_pickle('/net/mraid08/export/jafar/Microbiome/Analyses/ShaniBAF/\\\n",
    "sharingAnalysis/seqClusters_allProd_maxdist1/sampleByClusterDF_cohortfiltering005-085perc_dropped.dat')"
   ]
  },
  {
   "cell_type": "code",
   "execution_count": 19,
   "metadata": {
    "ExecuteTime": {
     "end_time": "2019-02-24T10:10:29.627310Z",
     "start_time": "2019-02-24T10:10:27.090455Z"
    }
   },
   "outputs": [
    {
     "name": "stdout",
     "output_type": "stream",
     "text": [
      "('max val is: ', 5.0)\n"
     ]
    },
    {
     "data": {
      "image/png": "[encoded data removed]",
      "text/plain": [
       "<matplotlib.figure.Figure at 0x7fb890dada10>"
      ]
     },
     "metadata": {},
     "output_type": "display_data"
    },
    {
     "data": {
      "image/png": "[encoded data removed]",
      "text/plain": [
       "<matplotlib.figure.Figure at 0x7fb890c49ed0>"
      ]
     },
     "metadata": {},
     "output_type": "display_data"
    },
    {
     "data": {
      "image/png": "[encoded data removed]",
      "text/plain": [
       "<matplotlib.figure.Figure at 0x7fb8636ac590>"
      ]
     },
     "metadata": {},
     "output_type": "display_data"
    }
   ],
   "source": [
    "from matplotlib import gridspec\n",
    "\n",
    "phen='Discharge Clopidogrel'\n",
    "phen=phen.replace(' ','')\n",
    "cluster_list=['CASSGGAFYEQYF','CASSLGVGNEQFF','CASSLSPYEQYF','CASSDSAGSTDTQYF']\n",
    "\n",
    "f=plt.figure(figsize=(15,3))\n",
    "gs00=gridspec.GridSpec(4,1)\n",
    "\n",
    "ax1=plt.Subplot(f,gs00[0,:])\n",
    "f.add_subplot(ax1)\n",
    "ax2=plt.Subplot(f,gs00[1:,:])\n",
    "f.add_subplot(ax2)\n",
    "\n",
    "plot_sequence_cluster_heatmap(phen,sampleByClusterDF,cluster_list,data_dir,ax1,ax2)\n",
    "plt.show()"
   ]
  },
  {
   "cell_type": "markdown",
   "metadata": {},
   "source": [
    "### plot permutation distribution:"
   ]
  },
  {
   "cell_type": "code",
   "execution_count": null,
   "metadata": {
    "ExecuteTime": {
     "end_time": "2019-02-04T19:13:35.718414Z",
     "start_time": "2019-02-04T19:13:30.884Z"
    }
   },
   "outputs": [],
   "source": [
    "def plot_hist_for_2000perms(phen,dir1,metric,ax):\n",
    "    sum_df=pd.read_excel('/net/mraid08/export/jafar/Microbiome/Analyses/ShaniBAF/predictions2/Cardio126_diseasePhenotypes/FinalCandidates/%s/sum_df_%s.xlsx' %(dir1,phen))\n",
    "    sum_df_shuf=sum_df[(sum_df.index.str.contains('shuf'))&(~sum_df.index.str.contains('mean'))]\n",
    "    print sum_df_shuf.head()\n",
    "    \n",
    "    if metric is None:\n",
    "        metric=sum_df.columns.tolist()[0]\n",
    "        print ('metric: ',metric)\n",
    "    real=sum_df.loc['real',metric]\n",
    "    predicted=sum_df.loc['predAgeGender',metric]\n",
    "    \n",
    "    if (metric=='f1scoreMacro') | (metric=='AUC'):\n",
    "        xmin=0\n",
    "        xmax=1\n",
    "        n=11\n",
    "    else:\n",
    "        xmin=-1\n",
    "        xmax=1\n",
    "        n=21\n",
    "    xticks=np.linspace(xmin, xmax, 11)\n",
    "    bins=np.linspace(xmin, xmax, 41)\n",
    "    \n",
    "    sum_df_shuf[metric].hist(ax=ax,color='grey', alpha=0.5,bins=bins)\n",
    "    ax.set_xticks(xticks)\n",
    "    \n",
    "    ymin,ymax=ax.get_ylim()\n",
    "    arrow_top=ymin+((ymax-ymin)/2)\n",
    "    \n",
    "    ax.annotate(\"\", xy=(real, 0), xytext=(real, arrow_top),arrowprops={'facecolor':'red'},fontweight='bold')\n",
    "    ax.annotate(\"\", xy=(predicted, 0), xytext=(predicted, arrow_top),arrowprops={'facecolor':'blue'},fontweight='bold')\n",
    "#      ax.annotate(\"real\", xy=(real, 0), xytext=(real, arrow_top),arrowprops={'facecolor':'red'},fontweight='bold')\n",
    "#     ax.annotate(\"predicted\", xy=(predicted, 0), xytext=(predicted, arrow_top),arrowprops={'facecolor':'blue'},fontweight='bold')\n",
    "    \n",
    "    \n",
    "    return fig,ax,metric\n"
   ]
  },
  {
   "cell_type": "markdown",
   "metadata": {},
   "source": [
    "## plot:"
   ]
  },
  {
   "cell_type": "markdown",
   "metadata": {},
   "source": [
    "### using seperate plots per feature"
   ]
  },
  {
   "cell_type": "code",
   "execution_count": null,
   "metadata": {
    "ExecuteTime": {
     "end_time": "2019-02-04T19:12:59.171116Z",
     "start_time": "2019-02-04T19:12:28.798Z"
    }
   },
   "outputs": [],
   "source": [
    "new_phen_list=[('Discharge Clopidogrel','Discharge Clopidogrel',\n",
    "                '/net/mraid08/export/jafar/Microbiome/Analyses/ShaniBAF/predictions2/Cardio126_diseasePhenotypes/logReg20_gridSearch_byRepFeatPCA10percVDJ0999PredictedAgeGender_expVar/',\n",
    "               ['d3Deletion_mean_1','PC2','V29_J01_0']),\n",
    "           ('Chief Complaint mapped_anginal pain','Chief complaint – anginal pain',\n",
    "            '/net/mraid08/export/jafar/Microbiome/Analyses/ShaniBAF/predictions2/Cardio126_diseasePhenotypes/logRegStrat_gridSearch_byRepFeatPCA10percVDJ0999PredictedAgeGender_optByKappa/',\n",
    "            ['V21_J01_0','V09-01_0','Multiplesclerosis_rel_cum_freq(perc)']),\n",
    "           ('PCI1_CABG','Previous PCI/CABG',\n",
    "            '/net/mraid08/export/jafar/Microbiome/Analyses/ShaniBAF/predictions2/Cardio126_diseasePhenotypes/XGBStrat_randomSearch_25_byRepFeatPCA10percVDJ0999PredictedAgeGender_kappa/',\n",
    "            ['V05-06_0','D02_J02-03_1','vDeletion_std_1'])]\n",
    "\n",
    "fig = plt.figure(figsize=(35,12))\n",
    "for n,item in enumerate(new_phen_list):\n",
    "    print n\n",
    "    #plot AUC:\n",
    "    phen=item[0].replace(' ','')\n",
    "    ax1 = fig.add_subplot(3,7,7*n+1)\n",
    "    ax, roc_auc, pr_auc=plot_AUC_PR_per_phen(phen,ax1)\n",
    "    \n",
    "    #plot importance values:\n",
    "    if 'logReg' in item[2]: isShap=False\n",
    "    else: isShap=True\n",
    "    feature_list=item[3]\n",
    "    for i,feature in enumerate(feature_list):\n",
    "        ax2 = fig.add_subplot(3,7,7*n+2+i)\n",
    "        ax=plot_importance_per_phen(phen,ax2,X_path,feature,isShap)\n",
    "    \n",
    "plt.subplots_adjust(left=None, bottom=None, right=None, top=None, wspace=0.45, hspace=0.45)\n",
    "plt.show()            "
   ]
  },
  {
   "cell_type": "markdown",
   "metadata": {},
   "source": [
    "### using seperate plots per feature"
   ]
  },
  {
   "cell_type": "code",
   "execution_count": null,
   "metadata": {
    "ExecuteTime": {
     "end_time": "2019-02-04T19:12:59.172976Z",
     "start_time": "2019-02-04T19:12:28.808Z"
    }
   },
   "outputs": [],
   "source": [
    "new_phen_list=[('Discharge Clopidogrel','Discharge Clopidogrel',\n",
    "                '/net/mraid08/export/jafar/Microbiome/Analyses/ShaniBAF/predictions2/Cardio126_diseasePhenotypes/logReg20_gridSearch_byRepFeatPCA10percVDJ0999PredictedAgeGender_expVar/',\n",
    "               ['d3Deletion_mean_1','PC2','V29_J01_0'],['CASSGGAFYEQYF','CASSLGVGNEQFF','CASSLSPYEQYF','CASSDSAGSTDTQYF']),\n",
    "           ('Chief Complaint mapped_anginal pain','Chief complaint – anginal pain',\n",
    "            '/net/mraid08/export/jafar/Microbiome/Analyses/ShaniBAF/predictions2/Cardio126_diseasePhenotypes/logRegStrat_gridSearch_byRepFeatPCA10percVDJ0999PredictedAgeGender_optByKappa/',\n",
    "            ['V21_J01_0','V09-01_0','Multiplesclerosis_rel_cum_freq(perc)'],['CASSGGAFYEQYF','CASSLGVGNEQFF','CASSLSPYEQYF','CASSDSAGSTDTQYF']),\n",
    "           ('PCI1_CABG','Previous PCI/CABG',\n",
    "            '/net/mraid08/export/jafar/Microbiome/Analyses/ShaniBAF/predictions2/Cardio126_diseasePhenotypes/XGBStrat_randomSearch_25_byRepFeatPCA10percVDJ0999PredictedAgeGender_kappa/',\n",
    "            ['V05-06_0','D02_J02-03_1','vDeletion_std_1'],['CASSGGAFYEQYF','CASSLGVGNEQFF','CASSLSPYEQYF','CASSDSAGSTDTQYF'])]\n",
    "\n",
    "# define figure structure:\n",
    "fig = plt.figure(figsize=(21,12))\n",
    "gs0=gridspec.GridSpec(3,4)\n",
    "gs1=gridspec.GridSpec(3,2)\n",
    "\n",
    "\n",
    "for n,item in enumerate(new_phen_list):\n",
    "    print n\n",
    "    \n",
    "    phen=item[0].replace(' ','')\n",
    "    cluster_list=item[4]\n",
    "    \n",
    "    #continue to define figure structure\n",
    "    ax1=plt.Subplot(fig, gs0[n,0])\n",
    "    ax2=plt.Subplot(fig, gs0[n,1])\n",
    "    gs00 = gridspec.GridSpecFromSubplotSpec(4,1,subplot_spec=gs1[2*n+1], hspace=0.02,height_ratios=[1,1,2,2])\n",
    "    print gs00\n",
    "    ax3=plt.Subplot(fig, gs00[1,0])\n",
    "    ax4=plt.Subplot(fig, gs00[2,0])\n",
    "    fig.add_subplot(ax1); fig.add_subplot(ax2); fig.add_subplot(ax3); fig.add_subplot(ax4);   \n",
    "    \n",
    "    #plot AUC:\n",
    "    ax10, roc_auc, pr_auc=plot_AUC_PR_per_phen(phen,ax1)\n",
    "    \n",
    "    #plot importance values:\n",
    "    if 'logReg' in item[2]: isShap=False\n",
    "    else: isShap=True\n",
    "    plot_importance_per_phen_bar(phen,ax2)\n",
    "    \n",
    "    #plot sequence heatmap:\n",
    "    if n==1: showPredCbar=True\n",
    "    else: showPredCbar=False\n",
    "    plot_sequence_cluster_heatmap(phen,sampleByClusterDF,cluster_list,data_dir,ax3,ax4,showPredCbar)\n",
    "  \n",
    "# plt.subplots_adjust(left=None, bottom=None, right=None, top=None, wspace=0.45, hspace=0.45)\n",
    "plt.show()            "
   ]
  },
  {
   "cell_type": "code",
   "execution_count": null,
   "metadata": {},
   "outputs": [],
   "source": []
  },
  {
   "cell_type": "code",
   "execution_count": null,
   "metadata": {},
   "outputs": [],
   "source": []
  },
  {
   "cell_type": "code",
   "execution_count": null,
   "metadata": {},
   "outputs": [],
   "source": []
  },
  {
   "cell_type": "code",
   "execution_count": null,
   "metadata": {},
   "outputs": [],
   "source": []
  },
  {
   "cell_type": "markdown",
   "metadata": {},
   "source": [
    "# figure for the presentation:\n"
   ]
  },
  {
   "cell_type": "markdown",
   "metadata": {},
   "source": [
    "## drug prediction:"
   ]
  },
  {
   "cell_type": "markdown",
   "metadata": {},
   "source": [
    "### AUC_PR graphs+permuations:"
   ]
  },
  {
   "cell_type": "code",
   "execution_count": null,
   "metadata": {
    "ExecuteTime": {
     "end_time": "2019-02-04T19:12:59.174788Z",
     "start_time": "2019-02-04T19:12:28.826Z"
    }
   },
   "outputs": [],
   "source": [
    "drug_phen_list=[ \n",
    "                ('Admission Aspirin','AUC',\n",
    "                'AdmissionAspirin_XGB100_1999perms'),\n",
    "                ('Admission Beta Blockers','AUC',\n",
    "                'AdmissionBetaBlockers_XGB100_1999perms'),\n",
    "                ('Discharge Clopidogrel','AUC',\n",
    "                'DischargeClopidogrel_logReg20_AUC'),\n",
    "               ('Discharge Merformin','AUC',\n",
    "                 'DischargeMerformin_XGB100_1999perms'),]\n",
    "\n",
    "phen_list=drug_phen_list\n",
    "num_phen=len(phen_list)\n",
    "\n",
    "fig = plt.figure(figsize=(num_phen*5,8))\n",
    "for n,item in enumerate(phen_list):\n",
    "    print n\n",
    "    \n",
    "    phen=item[0].replace(' ','')\n",
    "    metric=item[1]\n",
    "    dir1=item[2]\n",
    "    \n",
    "    #plot AUC:\n",
    "    ax1 = fig.add_subplot(2,num_phen,n+1)\n",
    "    ax, roc_auc, pr_auc=plot_AUC_PR_per_phen(phen,ax1)\n",
    "    if n%num_phen!=0: ax.set_ylabel('')\n",
    "    ax.set_title(item[0],fontsize='x-large')\n",
    "    \n",
    "    #plot permutations: \n",
    "    ax2=fig.add_subplot(4,num_phen,n+num_phen*2+1)\n",
    "    fig,ax,metric=plot_hist_for_2000perms(phen,dir1,metric,ax2)\n",
    "    ax.set_xlabel (metric)\n",
    "    ax.yaxis.set_major_locator(plt.MaxNLocator(5))\n",
    "    if n%num_phen==0: ax.set_ylabel('Num Permutations')\n",
    "\n",
    "plt.subplots_adjust(left=None, bottom=None, right=None, top=None, wspace=None, hspace=0.4)  \n",
    "\n",
    "fig.savefig(fig_data_dir+'Patients medication fig/Drugs_AUC_PR_perms.png',dpi=300)\n",
    "plt.show()"
   ]
  },
  {
   "cell_type": "markdown",
   "metadata": {
    "ExecuteTime": {
     "end_time": "2019-01-15T12:56:40.110616Z",
     "start_time": "2019-01-15T12:56:40.106833Z"
    }
   },
   "source": [
    "### AUC_PR + feature importance"
   ]
  },
  {
   "cell_type": "code",
   "execution_count": null,
   "metadata": {
    "ExecuteTime": {
     "end_time": "2019-02-04T19:12:59.176605Z",
     "start_time": "2019-02-04T19:12:28.835Z"
    },
    "scrolled": true
   },
   "outputs": [],
   "source": [
    "drug_phen_list=[ \n",
    "                ('Admission Aspirin','AUC',\n",
    "                'AdmissionAspirin_XGB100_1999perms'),\n",
    "                ('Admission Beta Blockers','AUC',\n",
    "                'AdmissionBetaBlockers_XGB100_1999perms'),\n",
    "                ('Discharge Clopidogrel','AUC',\n",
    "                'DischargeClopidogrel_logReg20_AUC'),\n",
    "               ('Discharge Merformin','AUC',\n",
    "                 'DischargeMerformin_XGB100_1999perms')]\n",
    "#     ('Discharge Clopidogrel','AUC',\n",
    "#                  'DischargeClopidogrel_XGB20_randomSearch_25_byRepFeatPCA10percVDJ0999PredictedAgeGender_optByAUC')\n",
    "               \n",
    "\n",
    "phen_list=drug_phen_list\n",
    "num_phen=len(phen_list)\n",
    "\n",
    "fig = plt.figure(figsize=(num_phen*5,8))\n",
    "for n,item in enumerate(phen_list):\n",
    "    print n\n",
    "    \n",
    "    phen=item[0].replace(' ','')\n",
    "    metric=item[1]\n",
    "    dir1=item[2]\n",
    "    \n",
    "    #plot AUC:\n",
    "    ax1 = fig.add_subplot(2,num_phen,n+1)\n",
    "    ax1, roc_auc, pr_auc=plot_AUC_PR_per_phen(phen,ax1)\n",
    "    if n%num_phen!=0: ax1.set_ylabel('')\n",
    "    ax1.set_title(item[0])\n",
    "    \n",
    "    #plot permutations: \n",
    "    ax2=fig.add_subplot(2,num_phen,n+num_phen+1)\n",
    "    ax2,topFeatures=plot_importance_per_phen_bar(phen,ax2,10)\n",
    "    \n",
    "    #get top features cluster out of the MW file:\n",
    "    MW=pd.read_excel('/net/mraid08/export/jafar/Microbiome/Analyses/ShaniBAF/sharingAnalysis/seqClusters_allProd_maxdist1/\\\n",
    "Fisher_MW_comparisons/Fisher_MW_results_%s0samples_%s1samples_percShared025_percTooMany095.xlsx' %(phen,phen))\n",
    "    MW_topFeatures=MW[MW['cluster_head'].isin(topFeatures)]\n",
    "    print  ('MW_topFeatures length:',len(MW_topFeatures))\n",
    "    MW_topFeatures.to_excel('/net/mraid08/export/jafar/Microbiome/Analyses/ShaniBAF/sharingAnalysis/\\\n",
    "seqClusters_allProd_maxdist1/Cluster_list_analysis/%s_topFeatures.xlsx' %phen)\n",
    "#     ax.set_xlabel (metric)\n",
    "#     ax.yaxis.set_major_locator(plt.MaxNLocator(5))\n",
    "plt.subplots_adjust(left=None, bottom=None, right=None, top=None, wspace=None, hspace=0.4)  \n",
    "plt.show()"
   ]
  },
  {
   "cell_type": "markdown",
   "metadata": {},
   "source": [
    "### plot medication usage, Age, Gender, PCI1_CABG"
   ]
  },
  {
   "cell_type": "code",
   "execution_count": null,
   "metadata": {
    "ExecuteTime": {
     "end_time": "2019-02-04T19:12:59.178420Z",
     "start_time": "2019-02-04T19:12:28.843Z"
    }
   },
   "outputs": [],
   "source": [
    "phen_list=['Age','Gender_Male','PCI1_CABG','Admission Aspirin','Admission Beta Blockers','Discharge Clopidogrel',\n",
    "          'Discharge Merformin']"
   ]
  },
  {
   "cell_type": "code",
   "execution_count": null,
   "metadata": {
    "ExecuteTime": {
     "end_time": "2019-02-04T19:12:59.180241Z",
     "start_time": "2019-02-04T19:12:28.849Z"
    }
   },
   "outputs": [],
   "source": [
    "for n, phen in enumerate(phen_list):\n",
    "    Y=pd.read_excel('/net/mraid08/export/genie/Lab/Personal/ShaniBAF/TCR_real_data/CardioSamples/\\\n",
    "phenotypicData/%s.xlsx' %phen.replace(' ','')).set_index('BD')\n",
    "#     print phen\n",
    "#     print ''\n",
    "    if phen=='Gender_Male':\n",
    "        Y['Gender_Male']=np.where(Y['Gender_Male']==2,0,Y['Gender_Male'])\n",
    "#     print Y.head()               \n",
    "    if n==0:\n",
    "        merged=Y\n",
    "    else:\n",
    "        merged=pd.merge(merged,Y,how='outer',left_index=True,right_index=True)\n",
    "\n",
    "print merged.shape\n",
    "print merged.head()"
   ]
  },
  {
   "cell_type": "code",
   "execution_count": null,
   "metadata": {
    "ExecuteTime": {
     "end_time": "2019-02-04T19:12:59.181988Z",
     "start_time": "2019-02-04T19:12:28.854Z"
    }
   },
   "outputs": [],
   "source": [
    "import distance\n",
    "\n",
    "pearsonDF=pd.DataFrame()\n",
    "\n",
    "pearson_p=pd.DataFrame()\n",
    "for i in range(len(phen_list)):\n",
    "    for j in range(i,len(phen_list)):\n",
    "        x=merged.iloc[:,i]\n",
    "        y=merged.iloc[:,j]\n",
    "        r,p=MyPearsonr(x,y)\n",
    "        jaccard=distance.jaccard(x, y)\n",
    "        \n",
    "        pearsonDF.loc[phen_list[i],phen_list[j]]=r\n",
    "        pearson_p.loc[phen_list[i],phen_list[j]]=p\n",
    "        \n",
    "pearsonDF\n",
    "\n",
    "        "
   ]
  },
  {
   "cell_type": "code",
   "execution_count": null,
   "metadata": {
    "ExecuteTime": {
     "end_time": "2019-02-04T19:12:59.183756Z",
     "start_time": "2019-02-04T19:12:28.861Z"
    }
   },
   "outputs": [],
   "source": [
    "pearson_p"
   ]
  },
  {
   "cell_type": "code",
   "execution_count": null,
   "metadata": {
    "ExecuteTime": {
     "end_time": "2019-02-04T19:12:59.185526Z",
     "start_time": "2019-02-04T19:12:28.867Z"
    }
   },
   "outputs": [],
   "source": [
    "#sig with bonferroni correction:\n",
    "0.05/21"
   ]
  },
  {
   "cell_type": "code",
   "execution_count": null,
   "metadata": {
    "ExecuteTime": {
     "end_time": "2019-02-04T19:12:59.187313Z",
     "start_time": "2019-02-04T19:12:28.872Z"
    }
   },
   "outputs": [],
   "source": [
    "pearsonDF=pearsonDF.round(2)\n",
    "pearsonDF"
   ]
  },
  {
   "cell_type": "code",
   "execution_count": null,
   "metadata": {
    "ExecuteTime": {
     "end_time": "2019-02-04T19:12:59.189078Z",
     "start_time": "2019-02-04T19:12:28.878Z"
    }
   },
   "outputs": [],
   "source": [
    "# Compute the correlation matrix\n",
    "corr = merged.corr()\n",
    "cmap = sns.diverging_palette(220, 10, as_cmap=True)\n",
    "\n",
    "# # Generate a mask for the upper triangle\n",
    "mask = np.zeros_like(corr)\n",
    "mask[np.triu_indices_from(mask)] = True\n",
    "## plot:\n",
    "with sns.axes_style(\"white\"):\n",
    "    ax = sns.heatmap(corr, mask=mask, cmap=cmap, annot=True,vmax=1, center=0,annot_kws={'color':'black'},fmt=\".2f\",\n",
    "            square=True, linewidths=.5, cbar_kws={\"shrink\": .7})\n",
    "\n",
    "f.savefig(fig_data_dir+'medication correlation.png',dpi=300)\n",
    "plt.setp(ax.get_xticklabels(), rotation=45, ha=\"right\",\n",
    "         rotation_mode=\"anchor\",fontsize='large',fontweight='bold')\n",
    "plt.setp(ax.get_yticklabels(), fontsize='large',fontweight='bold')\n",
    "plt.show()"
   ]
  },
  {
   "cell_type": "code",
   "execution_count": null,
   "metadata": {
    "ExecuteTime": {
     "end_time": "2019-02-04T19:12:59.190871Z",
     "start_time": "2019-02-04T19:12:28.882Z"
    }
   },
   "outputs": [],
   "source": [
    "corr"
   ]
  },
  {
   "cell_type": "markdown",
   "metadata": {},
   "source": [
    "### topFeature heatmap:"
   ]
  },
  {
   "cell_type": "code",
   "execution_count": null,
   "metadata": {
    "ExecuteTime": {
     "end_time": "2019-02-04T19:12:59.192769Z",
     "start_time": "2019-02-04T19:12:28.889Z"
    }
   },
   "outputs": [],
   "source": [
    "sampleByClusterDF=pd.read_pickle('/net/mraid08/export/jafar/Microbiome/Analyses/ShaniBAF/\\\n",
    "sharingAnalysis/seqClusters_allProd_maxdist1/sampleByClusterDF_cohortfiltering005-085perc_dropped.dat')"
   ]
  },
  {
   "cell_type": "markdown",
   "metadata": {},
   "source": [
    "#### discharge merformin"
   ]
  },
  {
   "cell_type": "code",
   "execution_count": null,
   "metadata": {
    "ExecuteTime": {
     "end_time": "2019-02-04T19:12:59.194630Z",
     "start_time": "2019-02-04T19:12:28.897Z"
    }
   },
   "outputs": [],
   "source": [
    "#topFeatures:\n",
    "\n",
    "from matplotlib import gridspec\n",
    "\n",
    "phen='Discharge Merformin'\n",
    "phen=phen.replace(' ','')\n",
    "cluster_list=['CASSSWTGGTEAFF', 'CASSLVGTYEQYF', 'CASSPGQGIHEQYF', 'CASSQGGGREQYF', 'CASSNQGRETQYF',\n",
    "              'CASSAGGSETQYF', 'CASSRTSYEQFF', 'CASTFGGTEAFF', 'CASSLKRGTYNEQFF', 'CASSIAYQETQYF']\n",
    "\n",
    "f=plt.figure(figsize=(12,3))\n",
    "gs00=gridspec.GridSpec(4,1)\n",
    "\n",
    "ax1=plt.Subplot(f,gs00[0,:])\n",
    "f.add_subplot(ax1)\n",
    "ax2=plt.Subplot(f,gs00[1:,:])\n",
    "f.add_subplot(ax2)\n",
    "\n",
    "plot_sequence_cluster_heatmap(phen,sampleByClusterDF,cluster_list,data_dir,ax1,ax2)\n",
    "fig.subplots_adjust(hspace=0.02)\n",
    "fig.savefig(fig_data_dir+'Patients medication fig/Drugs_cluster_heatmap_DischargeMerformin_topFeatures.png',dpi=300)\n",
    "plt.show()"
   ]
  },
  {
   "cell_type": "code",
   "execution_count": null,
   "metadata": {
    "ExecuteTime": {
     "end_time": "2019-02-04T19:12:59.196403Z",
     "start_time": "2019-02-04T19:12:28.903Z"
    },
    "scrolled": false
   },
   "outputs": [],
   "source": [
    "#10 sig by MW and Fisher test\n",
    "\n",
    "from matplotlib import gridspec\n",
    "\n",
    "phen='Discharge Merformin'\n",
    "phen=phen.replace(' ','')\n",
    "cluster_list=['CASSTGQNYGYTF','CASSQRGEQFF','CASSETGGSGELFF','CASSTTGGSGELFF','CASSDTGGSGELFF','CASSQTGGSGELFF',\n",
    "     'CASSEGGRAFF','CASSITGGSGELFF','CASSKTGGSGELFF','CASSHGTQETQYF']\n",
    "f=plt.figure(figsize=(12,3))\n",
    "gs00=gridspec.GridSpec(4,1)\n",
    "\n",
    "ax1=plt.Subplot(f,gs00[0,:])\n",
    "f.add_subplot(ax1)\n",
    "ax2=plt.Subplot(f,gs00[1:,:])\n",
    "f.add_subplot(ax2)\n",
    "\n",
    "plot_sequence_cluster_heatmap(phen,sampleByClusterDF,cluster_list,data_dir,ax1,ax2)\n",
    "fig.subplots_adjust(hspace=0.02)\n",
    "fig.savefig(fig_data_dir+'Patients medication fig/Drugs_cluster_heatmap_DischargeMerformin_manual.png',dpi=300)\n",
    "plt.show()"
   ]
  },
  {
   "cell_type": "markdown",
   "metadata": {},
   "source": [
    "#### discharge Clopidogrel"
   ]
  },
  {
   "cell_type": "code",
   "execution_count": null,
   "metadata": {
    "ExecuteTime": {
     "end_time": "2019-02-04T19:12:59.198129Z",
     "start_time": "2019-02-04T19:12:28.909Z"
    }
   },
   "outputs": [],
   "source": [
    "#topFeatures:\n",
    "\n",
    "# no clusters in top features!"
   ]
  },
  {
   "cell_type": "code",
   "execution_count": null,
   "metadata": {
    "ExecuteTime": {
     "end_time": "2019-02-04T19:12:59.199871Z",
     "start_time": "2019-02-04T19:12:28.914Z"
    },
    "scrolled": false
   },
   "outputs": [],
   "source": [
    "#10 sig by MW and Fisher test\n",
    "\n",
    "from matplotlib import gridspec\n",
    "\n",
    "phen='Discharge Clopidogrel'\n",
    "phen=phen.replace(' ','')\n",
    "cluster_list=['CASSGGAFYEQYF','CASRLGANEQFF','CASSTPTGDEQYF','CASSRTPSTEAFF','CASSSRTSDTDTQYF','CASSFWRSTDTQYF',\n",
    "'CASSLGPGDPYEQYF','CASSYLGTYEQYF','CASSLGVGNEQFF','CASSDSAGSTDTQYF']\n",
    "f=plt.figure(figsize=(12,3))\n",
    "gs00=gridspec.GridSpec(4,1)\n",
    "\n",
    "ax1=plt.Subplot(f,gs00[0,:])\n",
    "f.add_subplot(ax1)\n",
    "ax2=plt.Subplot(f,gs00[1:,:])\n",
    "f.add_subplot(ax2)\n",
    "\n",
    "plot_sequence_cluster_heatmap(phen,sampleByClusterDF,cluster_list,data_dir,ax1,ax2)\n",
    "fig.subplots_adjust(hspace=0.02)\n",
    "fig.savefig(fig_data_dir+'Patients medication fig/Drugs_cluster_heatmap_DischargeClopidogrel_manual.png',dpi=300)\n",
    "plt.show()"
   ]
  },
  {
   "cell_type": "markdown",
   "metadata": {},
   "source": [
    "#### admission aspirin:"
   ]
  },
  {
   "cell_type": "code",
   "execution_count": null,
   "metadata": {
    "ExecuteTime": {
     "end_time": "2019-02-04T19:12:59.201705Z",
     "start_time": "2019-02-04T19:12:28.921Z"
    }
   },
   "outputs": [],
   "source": [
    "#topFeatures:\n",
    "\n",
    "from matplotlib import gridspec\n",
    "\n",
    "phen='Admission Aspirin'\n",
    "phen=phen.replace(' ','')\n",
    "cluster_list=['CASSPGREQYF', 'CASSPTGGQETQYF', 'CASSEGTGGTGELFF', 'CASSLGGGNQETQYF', 'CASSPGLAGAQETQYF',\n",
    "              'CASSPGQGAYEQYF', 'CASSEADTEAFF', 'CASSSGDRGYEQYF', 'CASSPHGNTEAFF', 'CASSRDRRNTEAFF']\n",
    "\n",
    "f=plt.figure(figsize=(12,3))\n",
    "gs00=gridspec.GridSpec(4,1)\n",
    "\n",
    "ax1=plt.Subplot(f,gs00[0,:])\n",
    "f.add_subplot(ax1)\n",
    "ax2=plt.Subplot(f,gs00[1:,:])\n",
    "f.add_subplot(ax2)\n",
    "\n",
    "plot_sequence_cluster_heatmap(phen,sampleByClusterDF,cluster_list,data_dir,ax1,ax2)\n",
    "fig.subplots_adjust(hspace=0.02)\n",
    "fig.savefig(fig_data_dir+'Patients medication fig/Drugs_cluster_heatmap_Admission Aspirin_TopFeatures.png',dpi=300)\n",
    "plt.show()"
   ]
  },
  {
   "cell_type": "code",
   "execution_count": null,
   "metadata": {
    "ExecuteTime": {
     "end_time": "2019-02-04T19:12:59.203434Z",
     "start_time": "2019-02-04T19:12:28.926Z"
    },
    "scrolled": false
   },
   "outputs": [],
   "source": [
    "#10 sig by MW and Fisher test\n",
    "#same as top features"
   ]
  },
  {
   "cell_type": "markdown",
   "metadata": {},
   "source": [
    "#### Admission Beta Blockers"
   ]
  },
  {
   "cell_type": "code",
   "execution_count": null,
   "metadata": {
    "ExecuteTime": {
     "end_time": "2019-02-04T19:12:59.205246Z",
     "start_time": "2019-02-04T19:12:28.934Z"
    }
   },
   "outputs": [],
   "source": [
    "#topFeatures:\n",
    "\n",
    "from matplotlib import gridspec\n",
    "\n",
    "phen='Admission Beta Blockers'\n",
    "phen=phen.replace(' ','')\n",
    "cluster_list=['CASSLGDTDTQYF', 'CASSTTMNTEAFF', 'CASSLDPQETQYF', 'CASSLRSGATDTQYF', 'CASSYSVGTDTQYF', 'CASSSRQEQYF',\n",
    "              'CASRPTNEKLFF', 'CASSTGRIYEQYF', 'CASSRRPRETQYF', 'CASSIAGGDEQYF']\n",
    "\n",
    "f=plt.figure(figsize=(12,3))\n",
    "gs00=gridspec.GridSpec(4,1)\n",
    "\n",
    "ax1=plt.Subplot(f,gs00[0,:])\n",
    "f.add_subplot(ax1)\n",
    "ax2=plt.Subplot(f,gs00[1:,:])\n",
    "f.add_subplot(ax2)\n",
    "\n",
    "plot_sequence_cluster_heatmap(phen,sampleByClusterDF,cluster_list,data_dir,ax1,ax2)\n",
    "fig.subplots_adjust(hspace=0.02)\n",
    "fig.savefig(fig_data_dir+'Patients medication fig/Drugs_cluster_heatmap_AdmissionBetaBlockers_TopFeatures.png',dpi=300)\n",
    "plt.show()"
   ]
  },
  {
   "cell_type": "code",
   "execution_count": null,
   "metadata": {
    "ExecuteTime": {
     "end_time": "2019-02-04T19:12:59.207025Z",
     "start_time": "2019-02-04T19:12:28.940Z"
    },
    "scrolled": false
   },
   "outputs": [],
   "source": [
    "#10 sig by MW and Fisher test\n",
    "\n",
    "from matplotlib import gridspec\n",
    "\n",
    "phen='Admission Beta Blockers'\n",
    "phen=phen.replace(' ','')\n",
    "cluster_list=['CASSLGDTDTQYF', 'CASSLDPQETQYF', 'CASSLRSGATDTQYF', 'CASSYSVGTDTQYF', 'CASSSRQEQYF',\n",
    "              'CASSTGRIYEQYF', 'CASSRRPRETQYF', 'CASSIAGGDEQYF','CASSRTSNEQYF','CASSRTSYEQFF']\n",
    "\n",
    "f=plt.figure(figsize=(12,3))\n",
    "gs00=gridspec.GridSpec(4,1)\n",
    "\n",
    "ax1=plt.Subplot(f,gs00[0,:])\n",
    "f.add_subplot(ax1)\n",
    "ax2=plt.Subplot(f,gs00[1:,:])\n",
    "f.add_subplot(ax2)\n",
    "\n",
    "plot_sequence_cluster_heatmap(phen,sampleByClusterDF,cluster_list,data_dir,ax1,ax2)\n",
    "fig.subplots_adjust(hspace=0.02)\n",
    "fig.savefig(fig_data_dir+'Patients medication fig/Drugs_cluster_heatmap_AdmissionBetaBlockers_manual.png',dpi=300)\n",
    "plt.show()"
   ]
  },
  {
   "cell_type": "markdown",
   "metadata": {
    "ExecuteTime": {
     "end_time": "2019-01-15T12:56:40.110616Z",
     "start_time": "2019-01-15T12:56:40.106833Z"
    }
   },
   "source": [
    "### AUC_PR + feature importance"
   ]
  },
  {
   "cell_type": "code",
   "execution_count": null,
   "metadata": {
    "ExecuteTime": {
     "end_time": "2019-02-04T19:12:59.208852Z",
     "start_time": "2019-02-04T19:12:28.946Z"
    },
    "scrolled": true
   },
   "outputs": [],
   "source": [
    "drug_phen_list=[ \n",
    "                ('Admission Aspirin','AUC',\n",
    "                'AdmissionAspirin_XGB100_1999perms'),\n",
    "                ('Admission Beta Blockers','AUC',\n",
    "                'AdmissionBetaBlockers_XGB100_1999perms'),\n",
    "                ('Discharge Clopidogrel','AUC',\n",
    "                'DischargeClopidogrel_logReg20_AUC'),\n",
    "               ('Discharge Merformin','AUC',\n",
    "                 'DischargeMerformin_XGB100_1999perms')]\n",
    "#     ('Discharge Clopidogrel','AUC',\n",
    "#                  'DischargeClopidogrel_XGB20_randomSearch_25_byRepFeatPCA10percVDJ0999PredictedAgeGender_optByAUC')\n",
    "               \n",
    "\n",
    "phen_list=drug_phen_list\n",
    "num_phen=len(phen_list)\n",
    "\n",
    "fig = plt.figure(figsize=(num_phen*5,8))\n",
    "for n,item in enumerate(phen_list):\n",
    "    print n\n",
    "    \n",
    "    phen=item[0].replace(' ','')\n",
    "    metric=item[1]\n",
    "    dir1=item[2]\n",
    "    \n",
    "    #plot AUC:\n",
    "    ax1 = fig.add_subplot(2,num_phen,n+1)\n",
    "    ax1, roc_auc, pr_auc=plot_AUC_PR_per_phen(phen,ax1)\n",
    "    if n%num_phen!=0: ax1.set_ylabel('')\n",
    "    ax1.set_title(item[0])\n",
    "    \n",
    "    #plot permutations: \n",
    "    ax2=fig.add_subplot(2,num_phen,n+num_phen+1)\n",
    "    ax2,topFeatures=plot_importance_per_phen_bar(phen,ax2,10)\n",
    "    \n",
    "    #get top features cluster out of the MW file:\n",
    "    MW=pd.read_excel('/net/mraid08/export/jafar/Microbiome/Analyses/ShaniBAF/sharingAnalysis/seqClusters_allProd_maxdist1/\\\n",
    "Fisher_MW_comparisons/Fisher_MW_results_%s0samples_%s1samples_percShared025_percTooMany095.xlsx' %(phen,phen))\n",
    "    MW_topFeatures=MW[MW['cluster_head'].isin(topFeatures)]\n",
    "    print  ('MW_topFeatures length:',len(MW_topFeatures))\n",
    "    MW_topFeatures.to_excel('/net/mraid08/export/jafar/Microbiome/Analyses/ShaniBAF/sharingAnalysis/\\\n",
    "seqClusters_allProd_maxdist1/Cluster_list_analysis/%s_topFeatures.xlsx' %phen)\n",
    "#     ax.set_xlabel (metric)\n",
    "#     ax.yaxis.set_major_locator(plt.MaxNLocator(5))\n",
    "plt.subplots_adjust(left=None, bottom=None, right=None, top=None, wspace=None, hspace=0.4)  \n",
    "plt.show()"
   ]
  },
  {
   "cell_type": "markdown",
   "metadata": {},
   "source": [
    "## current disease status"
   ]
  },
  {
   "cell_type": "markdown",
   "metadata": {},
   "source": [
    "### AUC_PR graphs+corr plots+permuations:"
   ]
  },
  {
   "cell_type": "code",
   "execution_count": null,
   "metadata": {
    "ExecuteTime": {
     "end_time": "2019-02-04T19:12:59.210651Z",
     "start_time": "2019-02-04T19:12:28.951Z"
    }
   },
   "outputs": [],
   "source": [
    "def add_margin(ax,x=0.05,y=0.05):\n",
    "    # This will, by default, add 5% to the x and y margins. You \n",
    "    # can customise this using the x and y arguments when you call it.\n",
    "\n",
    "    xlim = ax.get_xlim()\n",
    "    ylim = ax.get_ylim()\n",
    "\n",
    "    xmargin = (xlim[1]-xlim[0])*x\n",
    "    ymargin = (ylim[1]-ylim[0])*y\n",
    "\n",
    "    ax.set_xlim(xlim[0]-xmargin,xlim[1]+xmargin)\n",
    "    ax.set_ylim(ylim[0]-ymargin,ylim[1]+ymargin)"
   ]
  },
  {
   "cell_type": "code",
   "execution_count": null,
   "metadata": {
    "ExecuteTime": {
     "end_time": "2019-02-04T19:12:59.212464Z",
     "start_time": "2019-02-04T19:12:28.956Z"
    }
   },
   "outputs": [],
   "source": [
    "disease_situation_list=[ \n",
    "                ('OstialCXDisease','pearson_r',\n",
    "                'OstialCXDisease'),\n",
    "                ('Maximal Troponin','pearson_r',\n",
    "                'MaximalTroponin_XGB20LOO'),\n",
    "                 ('ChiefComplaintmapped_anginalpain','AUC',\n",
    "                 'ChiefComplaintmapped_anginalpain_logReg100_AUC'),]\n",
    "\n",
    "phen_list=disease_situation_list\n",
    "num_phen=len(phen_list)\n",
    "\n",
    "fig = plt.figure(figsize=(num_phen*5,8))\n",
    "for n,item in enumerate(phen_list):\n",
    "    print n\n",
    "    \n",
    "    phen=item[0].replace(' ','')\n",
    "    metric=item[1]\n",
    "    dir1=item[2]\n",
    "    \n",
    "    #plot AUC/correlation:\n",
    "    ax1 = fig.add_subplot(2,num_phen,n+1)\n",
    "    if metric=='AUC':\n",
    "        ax1, roc_auc, pr_auc=plot_AUC_PR_per_phen(phen,ax1)\n",
    "        if n%num_phen!=0: ax1.set_ylabel('')\n",
    "        ax1.set_title(item[0],fontsize='x-large')\n",
    "    elif metric=='pearson_r':\n",
    "        if phen=='MaximalTroponin': \n",
    "            use1LevelBelow=True\n",
    "            print 'using 1 level below'\n",
    "        else: \n",
    "            use1LevelBelow=False\n",
    "        ax1,r,p=plot_Ypred_corr_per_phen(phen,ax1,use1LevelBelow=use1LevelBelow)\n",
    "        if n%num_phen!=0: ax1.set_ylabel('')\n",
    "        ax1.set_title(item[0],fontsize='x-large')\n",
    "        add_margin(ax1)\n",
    "        print r,p\n",
    "        \n",
    "    #plot permutations: \n",
    "    ax2=fig.add_subplot(4,num_phen,n+num_phen*2+1)\n",
    "    fig,ax2,metric=plot_hist_for_2000perms(phen,dir1,metric,ax2)\n",
    "    ax2.set_xlabel (metric)\n",
    "    ax2.yaxis.set_major_locator(plt.MaxNLocator(5))\n",
    "    if n%num_phen==0: ax.set_ylabel('Num Permutations')\n",
    "\n",
    "plt.subplots_adjust(left=None, bottom=None, right=None, top=None, wspace=None, hspace=0.4)  \n",
    "\n",
    "fig.savefig(fig_data_dir+'current_disease_situation_fig/AUC_PR_corr_perms.png',dpi=300)\n",
    "plt.show()"
   ]
  },
  {
   "cell_type": "markdown",
   "metadata": {
    "ExecuteTime": {
     "end_time": "2019-01-15T12:56:40.110616Z",
     "start_time": "2019-01-15T12:56:40.106833Z"
    }
   },
   "source": [
    "### AUC_PR + feature importance"
   ]
  },
  {
   "cell_type": "code",
   "execution_count": null,
   "metadata": {
    "ExecuteTime": {
     "end_time": "2019-02-04T19:12:59.214299Z",
     "start_time": "2019-02-04T19:12:28.961Z"
    },
    "scrolled": true
   },
   "outputs": [],
   "source": [
    "disease_situation_list=[ \n",
    "   ('total_ostial_cont','pearson_r','total_ostial_cont',\n",
    "    'Fisher_MW_results_total_ostial_binary0samples_total_ostial_binary1samples_percShared025_percTooMany095'),\n",
    "    ('Maximal Troponin','pearson_r','MaximalTroponin_XGB20LOO',\n",
    "    'Fisher_MW_results_Cardio126_bottom20MaximalTroponin_Cardio126_top20MaximalTroponin_percShared025_percTooMany095'),\n",
    "     ('ChiefComplaintmapped_anginalpain','AUC','ChiefComplaintmapped_anginalpain_logReg100_AUC',\n",
    "     'ChiefComplaintmapped_anginalpain0samples_ChiefComplaintmapped_anginalpain1samples_percShared025_percTooMany095')]\n",
    "\n",
    "phen_list=disease_situation_list\n",
    "num_phen=len(phen_list)\n",
    "\n",
    "fig = plt.figure(figsize=(num_phen*5,8))\n",
    "for n,item in enumerate(phen_list):\n",
    "    print n\n",
    "    \n",
    "    phen=item[0].replace(' ','')\n",
    "    metric=item[1]\n",
    "    dir1=item[2]\n",
    "    file_name=item[3]\n",
    "    \n",
    "    print phen\n",
    "    \n",
    "   #plot AUC/correlation:\n",
    "    ax1 = fig.add_subplot(2,num_phen,n+1)\n",
    "    if metric=='AUC':\n",
    "        ax1, roc_auc, pr_auc=plot_AUC_PR_per_phen(phen,ax1)\n",
    "        if n%num_phen!=0: ax1.set_ylabel('')\n",
    "        ax1.set_title(item[0],fontsize='x-large')\n",
    "    elif metric=='pearson_r':\n",
    "        if phen=='MaximalTroponin': \n",
    "            use1LevelBelow=True\n",
    "            print 'using 1 level below'\n",
    "        else: \n",
    "            use1LevelBelow=False\n",
    "        ax1,r,p=plot_Ypred_corr_per_phen(phen,ax1,use1LevelBelow=use1LevelBelow)\n",
    "        if n%num_phen!=0: ax1.set_ylabel('')\n",
    "        ax1.set_title(item[0],fontsize='x-large')\n",
    "        add_margin(ax1)\n",
    "        print r,p\n",
    "        \n",
    "    #plot important features:  \n",
    "    ax2=fig.add_subplot(2,num_phen,n+num_phen+1)\n",
    "    ax2,topFeatures=plot_importance_per_phen_bar(phen,ax2,tickpad=-75)\n",
    "    \n",
    "    #get top features cluster out of the MW file:\n",
    "    MW=pd.read_excel('/net/mraid08/export/jafar/Microbiome/Analyses/ShaniBAF/sharingAnalysis/seqClusters_allProd_maxdist1/\\\n",
    "Fisher_MW_comparisons/%s.xlsx' %file_name)\n",
    "    MW_topFeatures=MW[MW['cluster_head'].isin(topFeatures)]\n",
    "    print  ('MW_topFeatures length:',len(MW_topFeatures))\n",
    "    MW_topFeatures.to_excel('/net/mraid08/export/jafar/Microbiome/Analyses/ShaniBAF/sharingAnalysis/\\\n",
    "seqClusters_allProd_maxdist1/Cluster_list_analysis/%s_topFeatures.xlsx' %phen)\n",
    "#     ax.set_xlabel (metric)\n",
    "#     ax.yaxis.set_major_locator(plt.MaxNLocator(5))\n",
    "plt.subplots_adjust(left=None, bottom=None, right=None, top=None, wspace=None, hspace=0.4) \n",
    "fig.savefig(fig_data_dir+'current_disease_situation_fig/AUC_PR_corr_shap.png',dpi=300)\n",
    "plt.show()"
   ]
  },
  {
   "cell_type": "code",
   "execution_count": null,
   "metadata": {},
   "outputs": [],
   "source": []
  },
  {
   "cell_type": "markdown",
   "metadata": {},
   "source": [
    "### topFeature heatmap:"
   ]
  },
  {
   "cell_type": "code",
   "execution_count": null,
   "metadata": {
    "ExecuteTime": {
     "end_time": "2019-02-04T19:12:59.216088Z",
     "start_time": "2019-02-04T19:12:28.967Z"
    }
   },
   "outputs": [],
   "source": [
    "sampleByClusterDF=pd.read_pickle('/net/mraid08/export/jafar/Microbiome/Analyses/ShaniBAF/\\\n",
    "sharingAnalysis/seqClusters_allProd_maxdist1/sampleByClusterDF_cohortfiltering005-085perc_dropped.dat')"
   ]
  },
  {
   "cell_type": "markdown",
   "metadata": {},
   "source": [
    "#### 'OstialCXDisease"
   ]
  },
  {
   "cell_type": "code",
   "execution_count": null,
   "metadata": {
    "ExecuteTime": {
     "end_time": "2019-02-04T19:12:59.217902Z",
     "start_time": "2019-02-04T19:12:28.970Z"
    }
   },
   "outputs": [],
   "source": [
    "#topFeatures:\n",
    "\n",
    "# no clusters in top features"
   ]
  },
  {
   "cell_type": "code",
   "execution_count": null,
   "metadata": {
    "ExecuteTime": {
     "end_time": "2019-02-04T19:12:59.219656Z",
     "start_time": "2019-02-04T19:12:28.974Z"
    },
    "scrolled": false
   },
   "outputs": [],
   "source": [
    "#10 sig by MW and Fisher test\n",
    "\n",
    "from matplotlib import gridspec\n",
    "\n",
    "phen='Ostial CX Disease'\n",
    "phen=phen.replace(' ','')\n",
    "cluster_list=['CATSPRDSYGYTF','CASSRTEYTEAFF','CASSVQGRTTEAFF','CASSRGVGTNEKLFF','CASSKDRDYEQYF',\n",
    "              'CASSSTGYGYTF','CASSLAGGPYEQYF','CASSLGSGEQYF','CASSLQGVEQYF','CASSPRADTQYF']\n",
    "\n",
    "f=plt.figure(figsize=(12,3))\n",
    "gs00=gridspec.GridSpec(4,1)\n",
    "\n",
    "ax1=plt.Subplot(f,gs00[0,:])\n",
    "f.add_subplot(ax1)\n",
    "ax2=plt.Subplot(f,gs00[1:,:])\n",
    "f.add_subplot(ax2)\n",
    "\n",
    "plot_sequence_cluster_heatmap(phen,sampleByClusterDF,cluster_list,data_dir,ax1,ax2,binary=False)\n",
    "fig.subplots_adjust(hspace=0.02)\n",
    "fig.savefig(fig_data_dir+'current_disease_situation_fig/cluster_heatmap_%s_manual.png' %phen,dpi=300)\n",
    "plt.show()"
   ]
  },
  {
   "cell_type": "markdown",
   "metadata": {},
   "source": [
    "#### Maximal Troponin"
   ]
  },
  {
   "cell_type": "code",
   "execution_count": null,
   "metadata": {
    "ExecuteTime": {
     "end_time": "2019-02-04T19:12:59.221462Z",
     "start_time": "2019-02-04T19:12:28.980Z"
    }
   },
   "outputs": [],
   "source": [
    "#topFeatures:\n",
    "\n",
    "# no clusters in top features"
   ]
  },
  {
   "cell_type": "code",
   "execution_count": null,
   "metadata": {
    "ExecuteTime": {
     "end_time": "2019-02-04T19:12:59.223301Z",
     "start_time": "2019-02-04T19:12:28.985Z"
    },
    "scrolled": false
   },
   "outputs": [],
   "source": [
    "#10 sig by MW and Fisher test\n",
    "\n",
    "from matplotlib import gridspec\n",
    "\n",
    "phen='Maximal Troponin'\n",
    "phen=phen.replace(' ','')\n",
    "cluster_list=['CASSTQGNEQYF','CASSLAFPYEQYF','CASSLAARYEQYF','CASSLIGPYEQYF','CASSPEGGDTQYF',\n",
    "            'CASSSPGGYEQYF','CASSSGPYYGYTF','CSARVGGSYEQYF','CASSHTGSYEQYF','CASSLVDNYGYTF']\n",
    "\n",
    "f=plt.figure(figsize=(12,3))\n",
    "gs00=gridspec.GridSpec(4,1)\n",
    "\n",
    "ax1=plt.Subplot(f,gs00[0,:])\n",
    "f.add_subplot(ax1)\n",
    "ax2=plt.Subplot(f,gs00[1:,:])\n",
    "f.add_subplot(ax2)\n",
    "\n",
    "plot_sequence_cluster_heatmap(phen,sampleByClusterDF,cluster_list,data_dir,ax1,ax2,binary=False)\n",
    "fig.subplots_adjust(hspace=0.02)\n",
    "fig.savefig(fig_data_dir+'current_disease_situation_fig/cluster_heatmap_%s_manual.png' %phen,dpi=300)\n",
    "plt.show()"
   ]
  },
  {
   "cell_type": "markdown",
   "metadata": {},
   "source": [
    "#### ChiefComplaintmapped_anginalpain"
   ]
  },
  {
   "cell_type": "code",
   "execution_count": null,
   "metadata": {
    "ExecuteTime": {
     "end_time": "2019-02-04T19:12:59.225161Z",
     "start_time": "2019-02-04T19:12:28.990Z"
    }
   },
   "outputs": [],
   "source": [
    "#topFeatures:\n",
    "\n",
    "# no clusters in top features"
   ]
  },
  {
   "cell_type": "code",
   "execution_count": null,
   "metadata": {
    "ExecuteTime": {
     "end_time": "2019-02-04T19:12:59.226960Z",
     "start_time": "2019-02-04T19:12:28.994Z"
    },
    "scrolled": false
   },
   "outputs": [],
   "source": [
    "#10 sig by MW and Fisher test\n",
    "\n",
    "from matplotlib import gridspec\n",
    "\n",
    "phen='Chief Complaint mapped_anginal pain'\n",
    "phen=phen.replace(' ','')\n",
    "cluster_list=['CASSPQGGGNYGYTF','CASTPLRGTDTQYF','CASRAGHGYTF','CASSQRVTSYEQYF','CATSPGTGGGYTF','CASSQAGRNTEAFF',\n",
    "              'CASSLDRGKGYTF','CASSEASGSTDTQYF','CASSLDRGTGYTF','CASSIGQGSTDTQYF']\n",
    "\n",
    "\n",
    "f=plt.figure(figsize=(12,3))\n",
    "gs00=gridspec.GridSpec(4,1)\n",
    "\n",
    "ax1=plt.Subplot(f,gs00[0,:])\n",
    "f.add_subplot(ax1)\n",
    "ax2=plt.Subplot(f,gs00[1:,:])\n",
    "f.add_subplot(ax2)\n",
    "\n",
    "plot_sequence_cluster_heatmap(phen,sampleByClusterDF,cluster_list,data_dir,ax1,ax2,binary=False)\n",
    "fig.subplots_adjust(hspace=0.02)\n",
    "fig.savefig(fig_data_dir+'current_disease_situation_fig/cluster_heatmap_%s_manual.png' %phen,dpi=300)\n",
    "plt.show()"
   ]
  },
  {
   "cell_type": "markdown",
   "metadata": {},
   "source": [
    "#### total_ostial_cont"
   ]
  },
  {
   "cell_type": "code",
   "execution_count": null,
   "metadata": {
    "ExecuteTime": {
     "end_time": "2019-02-04T19:12:59.228726Z",
     "start_time": "2019-02-04T19:12:28.999Z"
    }
   },
   "outputs": [],
   "source": [
    "#topFeatures:\n",
    "\n",
    "from matplotlib import gridspec\n",
    "\n",
    "phen='total_ostial_cont'\n",
    "phen=phen.replace(' ','')\n",
    "cluster_list=['CASSRDSTSPLHF', 'CASSDTGTGNEKLFF', 'CASSLTAGYTEAFF', 'CASSYSGDTYEQYF', 'CASSRGLAGNQETQYF',\n",
    "              'CASRRTGVNTGELFF', 'CASSDTSGGGETQYF', 'CASSYSGGDSPLHF', 'CASSQQRSYGYTF', 'CASSLNTEETQYF']\n",
    "\n",
    "f=plt.figure(figsize=(12,3))\n",
    "gs00=gridspec.GridSpec(4,1)\n",
    "\n",
    "ax1=plt.Subplot(f,gs00[0,:])\n",
    "f.add_subplot(ax1)\n",
    "ax2=plt.Subplot(f,gs00[1:,:])\n",
    "f.add_subplot(ax2)\n",
    "\n",
    "plot_sequence_cluster_heatmap(phen,sampleByClusterDF,cluster_list,data_dir,ax1,ax2,showPredCbar=True,\n",
    "                                 max_val=None,binary=False)\n",
    "fig.subplots_adjust(hspace=0.02)\n",
    "\n",
    "fig.savefig(fig_data_dir+'current_disease_situation_fig/cluster_heatmap_DischargeMerformin_total_ostial_cont.png',dpi=300)\n",
    "plt.show()"
   ]
  },
  {
   "cell_type": "code",
   "execution_count": null,
   "metadata": {
    "ExecuteTime": {
     "end_time": "2019-02-04T19:12:59.230575Z",
     "start_time": "2019-02-04T19:12:29.003Z"
    },
    "scrolled": false
   },
   "outputs": [],
   "source": [
    "#10 sig by MW and Fisher test\n",
    "\n",
    "from matplotlib import gridspec\n",
    "\n",
    "phen='Discharge Merformin'\n",
    "phen=phen.replace(' ','')\n",
    "cluster_list=['CASSTGQNYGYTF','CASSQRGEQFF','CASSETGGSGELFF','CASSTTGGSGELFF','CASSDTGGSGELFF','CASSQTGGSGELFF',\n",
    "     'CASSEGGRAFF','CASSITGGSGELFF','CASSKTGGSGELFF','CASSHGTQETQYF']\n",
    "f=plt.figure(figsize=(12,3))\n",
    "gs00=gridspec.GridSpec(4,1)\n",
    "\n",
    "ax1=plt.Subplot(f,gs00[0,:])\n",
    "f.add_subplot(ax1)\n",
    "ax2=plt.Subplot(f,gs00[1:,:])\n",
    "f.add_subplot(ax2)\n",
    "\n",
    "plot_sequence_cluster_heatmap(phen,sampleByClusterDF,cluster_list,data_dir,ax1,ax2)\n",
    "fig.subplots_adjust(hspace=0.02)\n",
    "fig.savefig(fig_data_dir+'Patients medication fig/Drugs_cluster_heatmap_DischargeMerformin_manual.png',dpi=300)\n",
    "plt.show()"
   ]
  },
  {
   "cell_type": "markdown",
   "metadata": {},
   "source": [
    "## re-vascularization"
   ]
  },
  {
   "cell_type": "markdown",
   "metadata": {
    "ExecuteTime": {
     "end_time": "2019-01-15T12:56:40.110616Z",
     "start_time": "2019-01-15T12:56:40.106833Z"
    }
   },
   "source": [
    "### AUC_PR + feature importance"
   ]
  },
  {
   "cell_type": "code",
   "execution_count": null,
   "metadata": {
    "ExecuteTime": {
     "end_time": "2019-02-04T19:12:59.232407Z",
     "start_time": "2019-02-04T19:12:29.008Z"
    },
    "scrolled": true
   },
   "outputs": [],
   "source": [
    "disease_situation_list=[ \n",
    "   ('PCI1_CABG','AUC','PCI1_CABG',\n",
    "    'Fisher_MW_results_PCI1_CABG0samples_PCI1_CABG1samples_percShared025_percTooMany095')]\n",
    "    \n",
    "phen_list=disease_situation_list\n",
    "num_phen=len(phen_list)\n",
    "\n",
    "fig = plt.figure(figsize=(num_phen*5,8))\n",
    "for n,item in enumerate(phen_list):\n",
    "    print n\n",
    "    \n",
    "    phen=item[0].replace(' ','')\n",
    "    metric=item[1]\n",
    "    dir1=item[2]\n",
    "    file_name=item[3]\n",
    "    \n",
    "    print phen\n",
    "    \n",
    "   #plot AUC/correlation:\n",
    "    ax1 = fig.add_subplot(2,num_phen,n+1)\n",
    "    if metric=='AUC':\n",
    "        ax1, roc_auc, pr_auc=plot_AUC_PR_per_phen(phen,ax1)\n",
    "        if n%num_phen!=0: ax1.set_ylabel('')\n",
    "        ax1.set_title(item[0],fontsize='x-large')\n",
    "    elif metric=='pearson_r':\n",
    "        if phen=='MaximalTroponin': \n",
    "            use1LevelBelow=True\n",
    "            print 'using 1 level below'\n",
    "        else: \n",
    "            use1LevelBelow=False\n",
    "        ax1,r,p=plot_Ypred_corr_per_phen(phen,ax1,use1LevelBelow=use1LevelBelow)\n",
    "        if n%num_phen!=0: ax1.set_ylabel('')\n",
    "        ax1.set_title(item[0],fontsize='x-large')\n",
    "        add_margin(ax1)\n",
    "        print r,p\n",
    "        \n",
    "    #plot important features:  \n",
    "    ax2=fig.add_subplot(2,num_phen,n+num_phen+1)\n",
    "    ax2,topFeatures=plot_importance_per_phen_bar(phen,ax2,tickpad=-75)\n",
    "    \n",
    "    #get top features cluster out of the MW file:\n",
    "    MW=pd.read_excel('/net/mraid08/export/jafar/Microbiome/Analyses/ShaniBAF/sharingAnalysis/seqClusters_allProd_maxdist1/\\\n",
    "Fisher_MW_comparisons/%s.xlsx' %file_name)\n",
    "    MW_topFeatures=MW[MW['cluster_head'].isin(topFeatures)]\n",
    "    print  ('MW_topFeatures length:',len(MW_topFeatures))\n",
    "    MW_topFeatures.to_excel('/net/mraid08/export/jafar/Microbiome/Analyses/ShaniBAF/sharingAnalysis/\\\n",
    "seqClusters_allProd_maxdist1/Cluster_list_analysis/%s_topFeatures.xlsx' %phen)\n",
    "#     ax.set_xlabel (metric)\n",
    "#     ax.yaxis.set_major_locator(plt.MaxNLocator(5))\n",
    "plt.subplots_adjust(left=None, bottom=None, right=None, top=None, wspace=None, hspace=0.4)  \n",
    "plt.show()"
   ]
  },
  {
   "cell_type": "markdown",
   "metadata": {},
   "source": [
    "# PNP530 - Cardio126 sequence heatmap"
   ]
  },
  {
   "cell_type": "markdown",
   "metadata": {},
   "source": [
    "## balanced"
   ]
  },
  {
   "cell_type": "markdown",
   "metadata": {},
   "source": [
    "only 2 are significant"
   ]
  },
  {
   "cell_type": "code",
   "execution_count": null,
   "metadata": {
    "ExecuteTime": {
     "end_time": "2019-02-04T19:12:59.234264Z",
     "start_time": "2019-02-04T19:12:29.015Z"
    },
    "scrolled": false
   },
   "outputs": [],
   "source": [
    "#10 sig by MW and Fisher test\n",
    "\n",
    "from matplotlib import gridspec\n",
    "\n",
    "phen='isCardio'\n",
    "phen=phen.replace(' ','')\n",
    "cluster_list=['CASSLRGQANEKLFF','CASSADGSSYNEQFF','CASSWTGWNSPLHF','CATSRDTGYEQYF','CASSPPSGGYNEQFF',\n",
    "    'CASSDWTGETQYF','CASSPFLAKNIQYF','CSVGGKNTEAFF','CASSIPTSTDTQYF','CASSLARGSTGELFF','CASSLMAGNEQFF','CASSLVQGPNTEAFF']\n",
    "\n",
    "f=plt.figure(figsize=(12,3))\n",
    "gs00=gridspec.GridSpec(4,1)\n",
    "\n",
    "ax1=plt.Subplot(f,gs00[0,:])\n",
    "f.add_subplot(ax1)\n",
    "ax2=plt.Subplot(f,gs00[1:,:])\n",
    "f.add_subplot(ax2)\n",
    "\n",
    "plot_sequence_cluster_heatmap(phen,sampleByClusterDF,cluster_list,data_dir,ax1,ax2)\n",
    "fig.subplots_adjust(hspace=0.02)\n",
    "fig.savefig(fig_data_dir+'PNP530Cardio126/cluster_heatmap_balancedMales_manual.png',dpi=300)\n",
    "plt.show()"
   ]
  },
  {
   "cell_type": "markdown",
   "metadata": {},
   "source": [
    "## not balanced:"
   ]
  },
  {
   "cell_type": "markdown",
   "metadata": {},
   "source": [
    "### get Y and Y pred data into data folder"
   ]
  },
  {
   "cell_type": "code",
   "execution_count": null,
   "metadata": {
    "ExecuteTime": {
     "end_time": "2019-02-04T19:12:59.236057Z",
     "start_time": "2019-02-04T19:12:29.020Z"
    }
   },
   "outputs": [],
   "source": [
    "Y_file='net/mraid08/export/jafar/Microbiome/Analyses/ShaniBAF/predictions2/TargetDFs/isCardio.xlsx'\n",
    "Y=pd.read_excel(Y_file)."
   ]
  },
  {
   "cell_type": "markdown",
   "metadata": {},
   "source": [
    "all info was copied to the data folder using the regular function..."
   ]
  },
  {
   "cell_type": "markdown",
   "metadata": {},
   "source": [
    "### find sequences"
   ]
  },
  {
   "cell_type": "code",
   "execution_count": null,
   "metadata": {
    "ExecuteTime": {
     "end_time": "2019-02-04T19:12:59.237874Z",
     "start_time": "2019-02-04T19:12:29.025Z"
    }
   },
   "outputs": [],
   "source": [
    "isCardio=pd.read_pickle('/net/mraid08/export/genie/Lab/Personal/ShaniBAF/TCR_real_data/Predictions/\\\n",
    "featureDFs/newX_withPredictedAgeGender.dat')\n",
    "isCardio=isCardio.fillna(0)\n",
    "isCardio.to_pickle('/net/mraid08/export/genie/Lab/Personal/ShaniBAF/TCR_real_data/Predictions/\\\n",
    "featureDFs/newX_withPredictedAgeGender_noNans.dat')"
   ]
  },
  {
   "cell_type": "markdown",
   "metadata": {},
   "source": [
    "### run plotting function with sequences found manually"
   ]
  }
 ],
 "metadata": {
  "kernelspec": {
   "display_name": "Python 2",
   "language": "python",
   "name": "python2"
  },
  "language_info": {
   "codemirror_mode": {
    "name": "ipython",
    "version": 2
   },
   "file_extension": ".py",
   "mimetype": "text/x-python",
   "name": "python",
   "nbconvert_exporter": "python",
   "pygments_lexer": "ipython2",
   "version": "2.7.8"
  },
  "toc": {
   "nav_menu": {},
   "number_sections": true,
   "sideBar": true,
   "skip_h1_title": false,
   "toc_cell": false,
   "toc_position": {
    "height": "521px",
    "left": "0px",
    "right": "20px",
    "top": "135px",
    "width": "217px"
   },
   "toc_section_display": "block",
   "toc_window_display": true
  },
  "varInspector": {
   "cols": {
    "lenName": 16,
    "lenType": 16,
    "lenVar": 40
   },
   "kernels_config": {
    "python": {
     "delete_cmd_postfix": "",
     "delete_cmd_prefix": "del ",
     "library": "var_list.py",
     "varRefreshCmd": "print(var_dic_list())"
    },
    "r": {
     "delete_cmd_postfix": ") ",
     "delete_cmd_prefix": "rm(",
     "library": "var_list.r",
     "varRefreshCmd": "cat(var_dic_list()) "
    }
   },
   "types_to_exclude": [
    "module",
    "function",
    "builtin_function_or_method",
    "instance",
    "_Feature"
   ],
   "window_display": false
  }
 },
 "nbformat": 4,
 "nbformat_minor": 2
}
