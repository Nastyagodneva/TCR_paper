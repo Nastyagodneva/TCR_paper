{
 "cells": [
  {
   "cell_type": "markdown",
   "metadata": {},
   "source": [
    "# import:"
   ]
  },
  {
   "cell_type": "code",
   "execution_count": 1,
   "metadata": {
    "ExecuteTime": {
     "end_time": "2018-05-07T13:02:05.584162Z",
     "start_time": "2018-05-07T13:02:02.091601Z"
    }
   },
   "outputs": [
    {
     "name": "stdout",
     "output_type": "stream",
     "text": [
      "done1\n",
      "stop\n",
      "stop\n",
      "done1\n",
      "stop\n",
      "done\n",
      "done\n"
     ]
    }
   ],
   "source": [
    "from os import listdir,mkdir\n",
    "from os.path import isfile, join, isdir,exists\n",
    "import pandas as pd\n",
    "import numpy as np\n",
    "from scipy import stats\n",
    "from scipy.stats import pearsonr\n",
    "from scipy.spatial.distance import braycurtis, pdist\n",
    "import re\n",
    "import math\n",
    "import cPickle as pickle\n",
    "import random\n",
    "\n",
    "\n",
    "import matplotlib.pyplot as plt\n",
    "from matplotlib.ticker import FormatStrFormatter\n",
    "from matplotlib.backends.backend_pdf import PdfPages\n",
    "import seaborn as sns\n",
    "\n",
    "from skbio.diversity.alpha import shannon, simpson, berger_parker_d\n",
    "from skbio.stats.distance import mantel\n",
    "from Bio.SeqUtils import GC\n",
    "\n",
    "from MyFunctionsShani import *\n",
    "from myplots import roundup, rounddown, find_decimal_fold, percentile_cut_off, rarefaction_calc, rarefaction_plot,draw_correlation_scatter\n",
    "from GeneralFeaturePhenotypeInteractions.Feature_phenotype_functions import common_processing_feature_phenotype_matrices, editSampleNames,process_sample_matrix,compute_distance_matrix_general, add_corrected_pValues \n",
    "from TCR_microbiome_interactions.TCR_microbiome_interactions_functions import *\n",
    "\n",
    "\n",
    "from tunneltoamazondb import getengine\n",
    "from pandas import concat, read_csv, Series, read_sql\n",
    "\n",
    "MyPath='/net/mraid08/export/genie/Lab/Personal/ShaniBAF'"
   ]
  },
  {
   "cell_type": "code",
   "execution_count": 2,
   "metadata": {
    "ExecuteTime": {
     "end_time": "2018-05-07T13:02:05.811458Z",
     "start_time": "2018-05-07T13:02:05.802543Z"
    }
   },
   "outputs": [
    {
     "data": {
      "text/plain": [
       "'07052018'"
      ]
     },
     "execution_count": 2,
     "metadata": {},
     "output_type": "execute_result"
    }
   ],
   "source": [
    "import time\n",
    "cdate=str(time.strftime(\"%d%m%Y\"))\n",
    "cdate"
   ]
  },
  {
   "cell_type": "markdown",
   "metadata": {},
   "source": [
    "# generate micrbiome species table:"
   ]
  },
  {
   "cell_type": "markdown",
   "metadata": {},
   "source": [
    "## function:\n"
   ]
  },
  {
   "cell_type": "code",
   "execution_count": null,
   "metadata": {},
   "outputs": [],
   "source": [
    "the function gen_mb_df was copied to TCR_microbiome_interactions_functions.py"
   ]
  },
  {
   "cell_type": "markdown",
   "metadata": {},
   "source": [
    "## run function:"
   ]
  },
  {
   "cell_type": "code",
   "execution_count": null,
   "metadata": {},
   "outputs": [],
   "source": [
    "MPAlevel,MPAlevelBinary=gen_mb_df('s','AllSeqProjects')"
   ]
  },
  {
   "cell_type": "code",
   "execution_count": null,
   "metadata": {},
   "outputs": [],
   "source": [
    "MPAlevel,MPAlevelBinary=gen_mb_df('s','Metabolon2')"
   ]
  },
  {
   "cell_type": "markdown",
   "metadata": {},
   "source": []
  },
  {
   "cell_type": "code",
   "execution_count": null,
   "metadata": {},
   "outputs": [],
   "source": []
  },
  {
   "cell_type": "markdown",
   "metadata": {},
   "source": [
    "# filter MPA table:"
   ]
  },
  {
   "cell_type": "code",
   "execution_count": null,
   "metadata": {
    "ExecuteTime": {
     "end_time": "2018-04-30T11:45:26.579252Z",
     "start_time": "2018-04-30T11:45:26.336329Z"
    }
   },
   "outputs": [],
   "source": [
    "# SPECIES LEVEL, PNP515samples, no additional filtering:\n",
    "\n",
    "#load MPA table\n",
    "f1='/net/mraid08/export/genie/Lab/Personal/ShaniBAF/MicrobiomeDataTables/notFiltered/MPA_s_Metabolon2_RA'\n",
    "MPAlevel=pd.read_pickle(f1)\n",
    "\n",
    "#load PNP515 sample list:\n",
    "with open('/net/mraid08/export/genie/Lab/Personal/ShaniBAF/Sample files/BD lists/PNP515','rb') as fp:\n",
    "    PNP515=pickle.load(fp)\n",
    "    \n",
    "\n",
    "readCountFolder='Metabolon2'\n",
    "dataDF=MPAlevel.reset_index()\n",
    "dataDFname='MPA_s_Metabolon2'\n",
    "dataMergeOn='FD'\n",
    "BDFDMergeOn='FD'\n",
    "SampleList=PNP515\n",
    "SampleListName='PNP515'\n",
    "filterGenotek=False\n",
    "filterMinimalReads=None\n",
    "filterlibPrepMethod=None\n",
    "folderToSave='/net/mraid08/export/genie/Lab/Personal/ShaniBAF/MicrobiomeDataTables/Filtered'\n",
    "\n",
    "\n",
    "\n",
    "dataWithMeta=filter_data_on_FDproperties(dataDF,dataDFname,dataMergeOn,BDFDMergeOn,SampleList=SampleList,\n",
    "                                SampleListName=SampleListName,filterGenotek=filterGenotek, \n",
    "                                filterMinimalReads=filterMinimalReads,filterlibPrepMethod=filterlibPrepMethod,\n",
    "                               folderToSave=folderToSave)"
   ]
  },
  {
   "cell_type": "code",
   "execution_count": null,
   "metadata": {
    "ExecuteTime": {
     "end_time": "2018-04-30T11:45:32.993060Z",
     "start_time": "2018-04-30T11:45:32.797251Z"
    }
   },
   "outputs": [],
   "source": [
    "# SPECIES LEVEL, PNP515samples,  swabs only, 9000000 reads\n",
    "\n",
    "#load MPA table\n",
    "f1='/net/mraid08/export/genie/Lab/Personal/ShaniBAF/MicrobiomeDataTables/notFiltered/MPA_s_Metabolon2_RA'\n",
    "MPAlevel=pd.read_pickle(f1)\n",
    "\n",
    "#load PNP515 sample list:\n",
    "with open('/net/mraid08/export/genie/Lab/Personal/ShaniBAF/Sample files/BD lists/PNP515','rb') as fp:\n",
    "    PNP515=pickle.load(fp)\n",
    "    \n",
    "\n",
    "readCountFolder='Metabolon2'\n",
    "dataDF=MPAlevel.reset_index()\n",
    "dataDFname='MPA_s_Metabolon2'\n",
    "dataMergeOn='FD'\n",
    "BDFDMergeOn='FD'\n",
    "SampleList=PNP515\n",
    "SampleListName='PNP515'\n",
    "filterGenotek=True\n",
    "filterMinimalReads=9000000\n",
    "filterlibPrepMethod=None\n",
    "folderToSave='/net/mraid08/export/genie/Lab/Personal/ShaniBAF/MicrobiomeDataTables/Filtered'\n",
    "\n",
    "\n",
    "\n",
    "dataWithMeta=filter_data_on_FDproperties(dataDF,dataDFname,dataMergeOn,BDFDMergeOn,SampleList=SampleList,\n",
    "                                SampleListName=SampleListName,filterGenotek=filterGenotek, \n",
    "                                filterMinimalReads=filterMinimalReads,filterlibPrepMethod=filterlibPrepMethod,\n",
    "                               folderToSave=folderToSave)"
   ]
  },
  {
   "cell_type": "code",
   "execution_count": null,
   "metadata": {
    "ExecuteTime": {
     "end_time": "2018-04-30T11:45:35.723726Z",
     "start_time": "2018-04-30T11:45:35.586553Z"
    }
   },
   "outputs": [],
   "source": [
    "# SPECIES LEVEL, PNP515samples,  swabs only, 9000000 reads ####only TrueSeq!####\n",
    "\n",
    "#load MPA table\n",
    "f1='/net/mraid08/export/genie/Lab/Personal/ShaniBAF/MicrobiomeDataTables/notFiltered/MPA_s_Metabolon2_RA'\n",
    "MPAlevel=pd.read_pickle(f1)\n",
    "\n",
    "#load PNP515 sample list:\n",
    "with open('/net/mraid08/export/genie/Lab/Personal/ShaniBAF/Sample files/BD lists/PNP515','rb') as fp:\n",
    "    PNP515=pickle.load(fp)\n",
    "    \n",
    "\n",
    "readCountFolder='Metabolon2'\n",
    "dataDF=MPAlevel.reset_index()\n",
    "dataDFname='MPA_s_Metabolon2'\n",
    "dataMergeOn='FD'\n",
    "BDFDMergeOn='FD'\n",
    "SampleList=PNP515\n",
    "SampleListName='PNP515'\n",
    "filterGenotek=True\n",
    "filterMinimalReads=9000000\n",
    "filterlibPrepMethod='TrueSeq'\n",
    "folderToSave='/net/mraid08/export/genie/Lab/Personal/ShaniBAF/MicrobiomeDataTables/Filtered'\n",
    "\n",
    "\n",
    "\n",
    "dataWithMeta=filter_data_on_FDproperties(dataDF,dataDFname,dataMergeOn,BDFDMergeOn,SampleList=SampleList,\n",
    "                                SampleListName=SampleListName,filterGenotek=filterGenotek, \n",
    "                                filterMinimalReads=filterMinimalReads,filterlibPrepMethod=filterlibPrepMethod,\n",
    "                               folderToSave=folderToSave)"
   ]
  },
  {
   "cell_type": "code",
   "execution_count": null,
   "metadata": {
    "ExecuteTime": {
     "end_time": "2018-04-30T11:46:38.870968Z",
     "start_time": "2018-04-30T11:46:38.693739Z"
    }
   },
   "outputs": [],
   "source": [
    "# SPECIES LEVEL, PNP515samples,  swabs only, 9000000 reads ####only Nextera!####\n",
    "\n",
    "#load MPA table\n",
    "f1='/net/mraid08/export/genie/Lab/Personal/ShaniBAF/MicrobiomeDataTables/notFiltered/MPA_s_Metabolon2_RA'\n",
    "MPAlevel=pd.read_pickle(f1)\n",
    "\n",
    "#load PNP515 sample list:\n",
    "with open('/net/mraid08/export/genie/Lab/Personal/ShaniBAF/Sample files/BD lists/PNP515','rb') as fp:\n",
    "    PNP515=pickle.load(fp)\n",
    "    \n",
    "\n",
    "readCountFolder='Metabolon2'\n",
    "dataDF=MPAlevel.reset_index()\n",
    "dataDFname='MPA_s_Metabolon2'\n",
    "dataMergeOn='FD'\n",
    "BDFDMergeOn='FD'\n",
    "SampleList=PNP515\n",
    "SampleListName='PNP515'\n",
    "filterGenotek=True\n",
    "filterMinimalReads=9000000\n",
    "filterlibPrepMethod='Nextera'\n",
    "folderToSave='/net/mraid08/export/genie/Lab/Personal/ShaniBAF/MicrobiomeDataTables/Filtered'\n",
    "\n",
    "\n",
    "\n",
    "dataWithMeta=filter_data_on_FDproperties(dataDF,dataDFname,dataMergeOn,BDFDMergeOn,SampleList=SampleList,\n",
    "                                SampleListName=SampleListName,filterGenotek=filterGenotek, \n",
    "                                filterMinimalReads=filterMinimalReads,filterlibPrepMethod=filterlibPrepMethod,\n",
    "                               folderToSave=folderToSave)"
   ]
  },
  {
   "cell_type": "code",
   "execution_count": null,
   "metadata": {
    "ExecuteTime": {
     "end_time": "2018-04-30T11:52:08.785291Z",
     "start_time": "2018-04-30T11:52:08.616674Z"
    }
   },
   "outputs": [],
   "source": [
    "# SPECIES LEVEL, PNP515samples,  swabs only, 9000000 reads ####only Nextera!####\n",
    "\n",
    "#load MPA table\n",
    "f1='/net/mraid08/export/genie/Lab/Personal/ShaniBAF/MicrobiomeDataTables/notFiltered/MPA_s_Metabolon2_RA'\n",
    "MPAlevel=pd.read_pickle(f1)\n",
    "\n",
    "#load PNP515 sample list:\n",
    "with open('/net/mraid08/export/genie/Lab/Personal/ShaniBAF/Sample files/BD lists/PNP515','rb') as fp:\n",
    "    PNP515=pickle.load(fp)\n",
    "    \n",
    "\n",
    "readCountFolder='Metabolon2'\n",
    "dataDF=MPAlevel.reset_index()\n",
    "dataDFname='MPA_s_Metabolon2'\n",
    "dataMergeOn='FD'\n",
    "BDFDMergeOn='FD'\n",
    "SampleList=PNP515\n",
    "SampleListName='PNP515'\n",
    "filterGenotek=True\n",
    "filterMinimalReads=9000000\n",
    "filterlibPrepMethod='Both'\n",
    "folderToSave='/net/mraid08/export/genie/Lab/Personal/ShaniBAF/MicrobiomeDataTables/Filtered'\n",
    "\n",
    "\n",
    "\n",
    "dataWithMeta=filter_data_on_FDproperties(dataDF,dataDFname,dataMergeOn,BDFDMergeOn,SampleList=SampleList,\n",
    "                                SampleListName=SampleListName,filterGenotek=filterGenotek, \n",
    "                                filterMinimalReads=filterMinimalReads,filterlibPrepMethod=filterlibPrepMethod,\n",
    "                               folderToSave=folderToSave)"
   ]
  },
  {
   "cell_type": "code",
   "execution_count": null,
   "metadata": {},
   "outputs": [],
   "source": []
  },
  {
   "cell_type": "code",
   "execution_count": null,
   "metadata": {},
   "outputs": [],
   "source": []
  },
  {
   "cell_type": "markdown",
   "metadata": {},
   "source": [
    "# compare MPA and read count info between matabolon2 and AllSeq FOLDERS:\n"
   ]
  },
  {
   "cell_type": "markdown",
   "metadata": {},
   "source": [
    "## metabolon2"
   ]
  },
  {
   "cell_type": "code",
   "execution_count": null,
   "metadata": {},
   "outputs": [],
   "source": [
    "#load species info:\n",
    "f1='/net/mraid08/export/jafar/Microbiome/Analyses/Metabolon2/DFOut/MPA.dat'\n",
    "MPA_Metabolon2=pd.read_pickle(f1)\n",
    "print len(MPA_Metabolon2)\n",
    "MPA_Metabolon2.head()\n"
   ]
  },
  {
   "cell_type": "code",
   "execution_count": null,
   "metadata": {},
   "outputs": [],
   "source": [
    "#take only data for the desired tax level ()\n",
    "\n",
    "level='s'\n",
    "\n",
    "MPA_Metabolon2=MPA_Metabolon2.reset_index()\n",
    "MPAlevel=MPA_Metabolon2[MPA_Metabolon2['TaxLevel']==level]\n",
    "MPAlevel=MPAlevel.set_index('Tax')\n",
    "\n",
    "MPAlevel=MPAlevel.drop('TaxLevel',axis=1)\n",
    "print len(MPAlevel)\n",
    "# print MPAlevel.head(20)"
   ]
  },
  {
   "cell_type": "code",
   "execution_count": null,
   "metadata": {},
   "outputs": [],
   "source": [
    "print len(MPAlevel.columns.values)"
   ]
  },
  {
   "cell_type": "code",
   "execution_count": null,
   "metadata": {},
   "outputs": [],
   "source": [
    "#correct column names:\n",
    "for column in MPAlevel.columns.values:\n",
    "    newColumn=column.split('_')[0]\n",
    "#     print column\n",
    "#     print newColumn\n",
    "    MPAlevel=MPAlevel.rename(columns={column:newColumn})\n",
    "MPAlevel.head()"
   ]
  },
  {
   "cell_type": "code",
   "execution_count": null,
   "metadata": {},
   "outputs": [],
   "source": [
    "MPAlevel=MPAlevel.T\n",
    "MPAlevel.head()"
   ]
  },
  {
   "cell_type": "code",
   "execution_count": null,
   "metadata": {},
   "outputs": [],
   "source": [
    "MPAlevel.index.nunique()"
   ]
  },
  {
   "cell_type": "code",
   "execution_count": null,
   "metadata": {},
   "outputs": [],
   "source": []
  },
  {
   "cell_type": "code",
   "execution_count": null,
   "metadata": {},
   "outputs": [],
   "source": [
    "#load species info:\n",
    "f1='/net/mraid08/export/jafar/Microbiome/Analyses/Metabolon2/DFOut/ReadCountDF.dat'\n",
    "ReadCountDF=pd.read_pickle(f1)\n",
    "print len(ReadCountDF)\n",
    "ReadCountDF.head()\n"
   ]
  },
  {
   "cell_type": "code",
   "execution_count": null,
   "metadata": {},
   "outputs": [],
   "source": [
    "ReadCountDF=ReadCountDF.reset_index()\n",
    "ReadCountDF.head()"
   ]
  },
  {
   "cell_type": "code",
   "execution_count": null,
   "metadata": {},
   "outputs": [],
   "source": [
    "ReadCountDF['FD'].nunique()"
   ]
  },
  {
   "cell_type": "code",
   "execution_count": null,
   "metadata": {},
   "outputs": [],
   "source": [
    "'FD2128' in list(ReadCountDF['FD'])"
   ]
  },
  {
   "cell_type": "code",
   "execution_count": null,
   "metadata": {},
   "outputs": [],
   "source": [
    "'FD2128' in list(MPAlevel.index)"
   ]
  },
  {
   "cell_type": "code",
   "execution_count": null,
   "metadata": {},
   "outputs": [],
   "source": [
    "missingList=['FD2128','FD2118','FD2220','FD2082','FD505','FD33','FDNAS2','FD235',\n",
    "            'FDNAS4','FD2243','FD1171','FD1128','FD1585','FD2205']\n",
    "for sample in missingList:\n",
    "    print sample, sample in list(ReadCountDF['FD']),sample in list(MPAlevel.index)"
   ]
  },
  {
   "cell_type": "code",
   "execution_count": null,
   "metadata": {},
   "outputs": [],
   "source": [
    "f1='/net/mraid08/export/genie/Lab/Personal/ShaniBAF/Sample files/updatedBDandFDlists/final_BD_FD_converter_mergedOnYear_16032018'\n",
    "BD_FD=pd.read_pickle(f1)"
   ]
  },
  {
   "cell_type": "code",
   "execution_count": null,
   "metadata": {},
   "outputs": [],
   "source": [
    "readCountFD=list(ReadCountDF['FD'].unique())\n",
    "MPAFD=list(MPAlevel.index.unique())\n",
    "converterFD=list(BD_FD['FD'].unique())"
   ]
  },
  {
   "cell_type": "code",
   "execution_count": null,
   "metadata": {},
   "outputs": [],
   "source": [
    "print len(set(readCountFD).intersection(MPAFD))"
   ]
  },
  {
   "cell_type": "code",
   "execution_count": null,
   "metadata": {},
   "outputs": [],
   "source": [
    "print len(set(readCountFD).intersection(converterFD))"
   ]
  },
  {
   "cell_type": "code",
   "execution_count": null,
   "metadata": {},
   "outputs": [],
   "source": [
    "print len(set(MPAFD).intersection(converterFD))"
   ]
  },
  {
   "cell_type": "code",
   "execution_count": null,
   "metadata": {},
   "outputs": [],
   "source": [
    "print len(readCountFD)\n",
    "print len(MPAFD)\n",
    "print len(converterFD)"
   ]
  },
  {
   "cell_type": "markdown",
   "metadata": {},
   "source": [
    "## AllSeqProjects"
   ]
  },
  {
   "cell_type": "code",
   "execution_count": null,
   "metadata": {},
   "outputs": [],
   "source": [
    "#load species info:\n",
    "f1='/net/mraid08/export/jafar/Microbiome/Analyses/AllSeqProjects/DFOut/MPASpid.dat'\n",
    "MPA_AllSeqProjects=pd.read_pickle(f1)\n",
    "print len(MPA_AllSeqProjects)\n",
    "MPA_AllSeqProjects.head()\n"
   ]
  },
  {
   "cell_type": "code",
   "execution_count": null,
   "metadata": {},
   "outputs": [],
   "source": [
    "#take only data for the desired tax level ()\n",
    "\n",
    "level='s'\n",
    "\n",
    "MPA_AllSeqProjects=MPA_AllSeqProjects.reset_index()\n",
    "MPAlevel_AllSeqProjects=MPA_AllSeqProjects[MPA_AllSeqProjects['TaxLevel']==level]\n",
    "MPAlevel_AllSeqProjects=MPAlevel_AllSeqProjects.set_index('Tax')\n",
    "\n",
    "MPAlevel_AllSeqProjects=MPAlevel_AllSeqProjects.drop('TaxLevel',axis=1)\n",
    "print len(MPAlevel_AllSeqProjects)\n",
    "# print MPAlevel.head(20)"
   ]
  },
  {
   "cell_type": "code",
   "execution_count": null,
   "metadata": {},
   "outputs": [],
   "source": [
    "print len(MPAlevel_AllSeqProjects.columns.values)"
   ]
  },
  {
   "cell_type": "code",
   "execution_count": null,
   "metadata": {},
   "outputs": [],
   "source": [
    "#correct column names:\n",
    "for column in MPAlevel_AllSeqProjects.columns.values:\n",
    "    newColumn=column.split('_')[0]\n",
    "#     print column\n",
    "#     print newColumn\n",
    "    MPAlevel_AllSeqProjects=MPAlevel_AllSeqProjects.rename(columns={column:newColumn})\n",
    "MPAlevel_AllSeqProjects.head()"
   ]
  },
  {
   "cell_type": "code",
   "execution_count": null,
   "metadata": {},
   "outputs": [],
   "source": [
    "MPAlevel_AllSeqProjects=MPAlevel_AllSeqProjects.T\n",
    "MPAlevel_AllSeqProjects.head()"
   ]
  },
  {
   "cell_type": "code",
   "execution_count": null,
   "metadata": {},
   "outputs": [],
   "source": [
    "MPAlevel_AllSeqProjects.index.nunique()"
   ]
  },
  {
   "cell_type": "code",
   "execution_count": null,
   "metadata": {},
   "outputs": [],
   "source": []
  },
  {
   "cell_type": "code",
   "execution_count": null,
   "metadata": {},
   "outputs": [],
   "source": [
    "#load readcount info:\n",
    "f1='/net/mraid08/export/jafar/Microbiome/Analyses/AllSeqProjects/DFOut/ReadCountSpidDF.dat'\n",
    "ReadCountDF_AllSeqProjects=pd.read_pickle(f1)\n",
    "print len(ReadCountDF_AllSeqProjects)\n",
    "ReadCountDF_AllSeqProjects.head()\n"
   ]
  },
  {
   "cell_type": "code",
   "execution_count": null,
   "metadata": {},
   "outputs": [],
   "source": [
    "ReadCountDF_AllSeqProjects=ReadCountDF_AllSeqProjects.reset_index()\n",
    "ReadCountDF_AllSeqProjects.head()"
   ]
  },
  {
   "cell_type": "code",
   "execution_count": null,
   "metadata": {},
   "outputs": [],
   "source": [
    "ReadCountDF_AllSeqProjects['FD'].nunique()"
   ]
  },
  {
   "cell_type": "code",
   "execution_count": null,
   "metadata": {},
   "outputs": [],
   "source": [
    "'FD2128' in list(ReadCountDF_AllSeqProjects['FD'])"
   ]
  },
  {
   "cell_type": "code",
   "execution_count": null,
   "metadata": {},
   "outputs": [],
   "source": [
    "'FD2128' in list(MPAlevel_AllSeqProjects.index)"
   ]
  },
  {
   "cell_type": "code",
   "execution_count": null,
   "metadata": {},
   "outputs": [],
   "source": [
    "missingList=['FD2128','FD2118','FD2220','FD2082','FD505','FD33','FDNAS2','FD235',\n",
    "            'FDNAS4','FD2243','FD1171','FD1128','FD1585','FD2205']\n",
    "for sample in missingList:\n",
    "    print sample, sample in list(ReadCountDF_AllSeqProjects['FD']),sample in list(MPAlevel_AllSeqProjects.index)"
   ]
  },
  {
   "cell_type": "code",
   "execution_count": null,
   "metadata": {},
   "outputs": [],
   "source": []
  },
  {
   "cell_type": "code",
   "execution_count": null,
   "metadata": {},
   "outputs": [],
   "source": [
    "f1='/net/mraid08/export/genie/Lab/Personal/ShaniBAF/Sample files/updatedBDandFDlists/final_BD_FD_converter_mergedOnYear_16032018'\n",
    "BD_FD=pd.read_pickle(f1)"
   ]
  },
  {
   "cell_type": "code",
   "execution_count": null,
   "metadata": {},
   "outputs": [],
   "source": [
    "readCountFD_AllSeqProjects=list(ReadCountDF_AllSeqProjects['FD'].unique())\n",
    "MPAFD_AllSeqProjects=list(MPAlevel_AllSeqProjects.index.unique())\n",
    "converterFD=list(BD_FD['FD'].unique())"
   ]
  },
  {
   "cell_type": "code",
   "execution_count": null,
   "metadata": {},
   "outputs": [],
   "source": [
    "print len(set(readCountFD_AllSeqProjects).intersection(MPAFD_AllSeqProjects))"
   ]
  },
  {
   "cell_type": "code",
   "execution_count": null,
   "metadata": {},
   "outputs": [],
   "source": [
    "print len(set(readCountFD_AllSeqProjects).intersection(converterFD))"
   ]
  },
  {
   "cell_type": "code",
   "execution_count": null,
   "metadata": {},
   "outputs": [],
   "source": [
    "print len(set(MPAFD_AllSeqProjects).intersection(converterFD))"
   ]
  },
  {
   "cell_type": "code",
   "execution_count": null,
   "metadata": {},
   "outputs": [],
   "source": [
    "print len(readCountFD_AllSeqProjects)\n",
    "print len(MPAFD_AllSeqProjects)\n",
    "print len(converterFD)"
   ]
  },
  {
   "cell_type": "code",
   "execution_count": null,
   "metadata": {},
   "outputs": [],
   "source": []
  },
  {
   "cell_type": "markdown",
   "metadata": {},
   "source": [
    "## generate missing samples DFs"
   ]
  },
  {
   "cell_type": "markdown",
   "metadata": {},
   "source": [
    "as of 11/4/18, there are 119 FD samples linked to PNP BD samples that can't be found in AllSeqProject (comparing to 249 samples that can't be found in metabolon2)\n",
    "\n",
    "I generate here a df containing all these 119 samples, and some information about them:\n"
   ]
  },
  {
   "cell_type": "code",
   "execution_count": null,
   "metadata": {},
   "outputs": [],
   "source": [
    "MyMissingFDs=list(set(converterFD)-set(MPAFD_AllSeqProjects).intersection(converterFD))\n",
    "print len(MyMissingFDs)\n",
    "print MyMissingFDs [:5]"
   ]
  },
  {
   "cell_type": "code",
   "execution_count": null,
   "metadata": {},
   "outputs": [],
   "source": [
    "MyMissingFDs=[str(x) for x in MyMissingFDs]\n",
    "MyMissingFDs[:5]"
   ]
  },
  {
   "cell_type": "code",
   "execution_count": null,
   "metadata": {},
   "outputs": [],
   "source": [
    "missingFDinfo = read_sql('select DnaID,TubeID,UserID,ConnectionID,SPID ExpID,\\\n",
    "Blacklisted from Lab.dna WHERE DnaID in '+str(tuple(MyMissingFDs)), getengine())"
   ]
  },
  {
   "cell_type": "code",
   "execution_count": null,
   "metadata": {},
   "outputs": [],
   "source": [
    "missingFDinfo"
   ]
  },
  {
   "cell_type": "code",
   "execution_count": null,
   "metadata": {},
   "outputs": [],
   "source": [
    "file1='%s/Sample files/updatedBDandFDlists/missingFDinfo.xlsx' %MyPath\n",
    "missingFDinfo.to_excel(file1)"
   ]
  },
  {
   "cell_type": "markdown",
   "metadata": {},
   "source": [
    "### look for this samples in Yaara's lists and in blacklisted lists:"
   ]
  },
  {
   "cell_type": "code",
   "execution_count": null,
   "metadata": {},
   "outputs": [],
   "source": [
    "MyMissingFDsDF=pd.DataFrame({'FD':MyMissingFDs})\n",
    "MyMissingFDsDF=MyMissingFDsDF.sort_values(by='FD')\n",
    "MyMissingFDsDF.head()"
   ]
  },
  {
   "cell_type": "code",
   "execution_count": null,
   "metadata": {},
   "outputs": [],
   "source": [
    "file1='%s/Sample files/updatedBDandFDlists/MyMissingFDsDF.xlsx' %MyPath\n",
    "MyMissingFDsDF.to_excel(file1)"
   ]
  },
  {
   "cell_type": "code",
   "execution_count": null,
   "metadata": {},
   "outputs": [],
   "source": [
    "file1='%s/Sample files/updatedBDandFDlists/MyMissingFDsDF.xlsx' %MyPath\n",
    "MyMissingFDsDF=pd.read_excel(file1)"
   ]
  },
  {
   "cell_type": "code",
   "execution_count": null,
   "metadata": {},
   "outputs": [],
   "source": [
    "blackListed = read_sql('select DnaID,TubeID,UserID,ExpID,Blacklisted from Lab.dna WHERE Blacklisted=1', getengine())\n"
   ]
  },
  {
   "cell_type": "code",
   "execution_count": null,
   "metadata": {},
   "outputs": [],
   "source": [
    "blackListed"
   ]
  },
  {
   "cell_type": "code",
   "execution_count": null,
   "metadata": {},
   "outputs": [],
   "source": [
    "folder='/net/mraid08/export/jafar/Microbiome/Analyses/AllSeqProjects/DFOut'\n",
    "Files = [f for f in listdir(folder) if isfile(join(folder, f))]\n",
    "Files"
   ]
  },
  {
   "cell_type": "code",
   "execution_count": null,
   "metadata": {},
   "outputs": [],
   "source": [
    "file1='%s/StoolMetadataSpidDF.dat' %folder\n",
    "StoolMetadataSpidDF=pd.read_pickle(file1)\n",
    "StoolMetadataSpidDF"
   ]
  },
  {
   "cell_type": "code",
   "execution_count": null,
   "metadata": {},
   "outputs": [],
   "source": [
    "print len(StoolMetadataSpidDF)"
   ]
  },
  {
   "cell_type": "code",
   "execution_count": null,
   "metadata": {},
   "outputs": [],
   "source": [
    "list1=['FD101','FD102']\n",
    "list2=list(MyMissingFDsDF['FD'])\n",
    "print list1\n",
    "\n",
    "\n",
    "\n",
    "# queryString = 'SELECT * FROM tableA WHERE sec_code in '+tuple(MyMissingFDsDF['FD'])"
   ]
  },
  {
   "cell_type": "code",
   "execution_count": null,
   "metadata": {},
   "outputs": [],
   "source": [
    "MyMissingFDs=[str(x) for x in MyMissingFDs]\n",
    "MyMissingFDs"
   ]
  },
  {
   "cell_type": "code",
   "execution_count": null,
   "metadata": {},
   "outputs": [],
   "source": [
    "missingFDinfo = read_sql('select DnaID,TubeID,UserID,ConnectionID,SPID ExpID,\\\n",
    "Blacklisted from Lab.dna WHERE DnaID in '+str(tuple(MyMissingFDs)), getengine())"
   ]
  },
  {
   "cell_type": "code",
   "execution_count": null,
   "metadata": {},
   "outputs": [],
   "source": [
    "missingFDinfo"
   ]
  },
  {
   "cell_type": "code",
   "execution_count": null,
   "metadata": {},
   "outputs": [],
   "source": [
    "file1='%s/Sample files/updatedBDandFDlists/missingFDinfo.xlsx' %MyPath\n",
    "missingFDinfo.to_excel(file1)"
   ]
  },
  {
   "cell_type": "markdown",
   "metadata": {},
   "source": [
    "### see if all ths missing samples are also missing from metabolon2:"
   ]
  },
  {
   "cell_type": "code",
   "execution_count": null,
   "metadata": {},
   "outputs": [],
   "source": [
    "MyMissingFDs_metabolon2=list(set(converterFD)-set(MPAFD).intersection(converterFD))\n",
    "print len(MyMissingFDs_metabolon2)\n",
    "print MyMissingFDs_metabolon2 [:5]"
   ]
  },
  {
   "cell_type": "code",
   "execution_count": null,
   "metadata": {},
   "outputs": [],
   "source": [
    "AllSeqAbsent_metabolonPresent=[x for x in MyMissingFDs if x not in MyMissingFDs_metabolon2]\n",
    "print len(AllSeqAbsent_metabolonPresent)"
   ]
  },
  {
   "cell_type": "code",
   "execution_count": null,
   "metadata": {},
   "outputs": [],
   "source": [
    "print AllSeqAbsent_metabolonPresent"
   ]
  },
  {
   "cell_type": "code",
   "execution_count": null,
   "metadata": {},
   "outputs": [],
   "source": []
  }
 ],
 "metadata": {
  "kernelspec": {
   "display_name": "Python 2",
   "language": "python",
   "name": "python2"
  },
  "language_info": {
   "codemirror_mode": {
    "name": "ipython",
    "version": 2
   },
   "file_extension": ".py",
   "mimetype": "text/x-python",
   "name": "python",
   "nbconvert_exporter": "python",
   "pygments_lexer": "ipython2",
   "version": "2.7.8"
  },
  "toc": {
   "nav_menu": {},
   "number_sections": true,
   "sideBar": false,
   "skip_h1_title": false,
   "toc_cell": false,
   "toc_position": {
    "height": "627px",
    "left": "2.97917px",
    "right": "20px",
    "top": "110.972px",
    "width": "261px"
   },
   "toc_section_display": "block",
   "toc_window_display": true
  },
  "varInspector": {
   "cols": {
    "lenName": 16,
    "lenType": 16,
    "lenVar": 40
   },
   "kernels_config": {
    "python": {
     "delete_cmd_postfix": "",
     "delete_cmd_prefix": "del ",
     "library": "var_list.py",
     "varRefreshCmd": "print(var_dic_list())"
    },
    "r": {
     "delete_cmd_postfix": ") ",
     "delete_cmd_prefix": "rm(",
     "library": "var_list.r",
     "varRefreshCmd": "cat(var_dic_list()) "
    }
   },
   "types_to_exclude": [
    "module",
    "function",
    "builtin_function_or_method",
    "instance",
    "_Feature"
   ],
   "window_display": false
  }
 },
 "nbformat": 4,
 "nbformat_minor": 2
}
