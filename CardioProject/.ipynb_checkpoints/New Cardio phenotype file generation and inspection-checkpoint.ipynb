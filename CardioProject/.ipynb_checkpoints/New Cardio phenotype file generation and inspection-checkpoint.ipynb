{
 "cells": [
  {
   "cell_type": "markdown",
   "metadata": {},
   "source": [
    "# import"
   ]
  },
  {
   "cell_type": "code",
   "execution_count": 1,
   "metadata": {
    "ExecuteTime": {
     "end_time": "2019-05-15T17:09:29.161675Z",
     "start_time": "2019-05-15T17:09:26.835869Z"
    }
   },
   "outputs": [
    {
     "ename": "ImportError",
     "evalue": "No module named sufficientStatistics",
     "output_type": "error",
     "traceback": [
      "\u001b[0;31m---------------------------------------------------------------------------\u001b[0m",
      "\u001b[0;31mImportError\u001b[0m                               Traceback (most recent call last)",
      "\u001b[0;32m<ipython-input-1-2b8ce2a3eee6>\u001b[0m in \u001b[0;36m<module>\u001b[0;34m()\u001b[0m\n\u001b[1;32m     17\u001b[0m \u001b[0;34m\u001b[0m\u001b[0m\n\u001b[1;32m     18\u001b[0m \u001b[0;32mfrom\u001b[0m \u001b[0mpop_organize\u001b[0m \u001b[0;32mimport\u001b[0m \u001b[0mget_sample_data\u001b[0m\u001b[0;34m,\u001b[0m \u001b[0mget_sample_with_dfs\u001b[0m\u001b[0;34m\u001b[0m\u001b[0m\n\u001b[0;32m---> 19\u001b[0;31m \u001b[0;32mfrom\u001b[0m \u001b[0mSufficientStatistics\u001b[0m\u001b[0;34m.\u001b[0m\u001b[0msufficientStatistics\u001b[0m \u001b[0;32mimport\u001b[0m \u001b[0;34m*\u001b[0m\u001b[0;34m\u001b[0m\u001b[0m\n\u001b[0m\u001b[1;32m     20\u001b[0m \u001b[0;32mfrom\u001b[0m \u001b[0mMyFunctionsShani\u001b[0m \u001b[0;32mimport\u001b[0m \u001b[0;34m*\u001b[0m\u001b[0;34m\u001b[0m\u001b[0m\n\u001b[1;32m     21\u001b[0m \u001b[0;32mimport\u001b[0m \u001b[0mmath\u001b[0m\u001b[0;34m\u001b[0m\u001b[0m\n",
      "\u001b[0;31mImportError\u001b[0m: No module named sufficientStatistics"
     ]
    }
   ],
   "source": [
    "from os import listdir,mkdir,makedirs\n",
    "from os.path import isfile, join, isdir,exists\n",
    "import pandas as pd\n",
    "import numpy as np\n",
    "from scipy import stats\n",
    "import re\n",
    "import matplotlib.pyplot as plt\n",
    "from matplotlib.backends.backend_pdf import PdfPages\n",
    "from myplots import roundup, rounddown, find_decimal_fold, percentile_cut_off, rarefaction_calc, rarefaction_plot,draw_correlation_scatter\n",
    "from matplotlib.ticker import FormatStrFormatter\n",
    "import cPickle as pickle\n",
    "from Bio.SeqUtils import GC\n",
    "import seaborn as sns\n",
    "import random\n",
    "from scipy.stats import pearsonr,fisher_exact\n",
    "from skbio.diversity.alpha import shannon, simpson, berger_parker_d\n",
    "\n",
    "from pop_organize import get_sample_data, get_sample_with_dfs\n",
    "from SufficientStatistics.sufficientStatistics import *\n",
    "from MyFunctionsShani import *\n",
    "import math\n",
    "from myplots import roundup, rounddown, find_decimal_fold\n",
    "from skbio.stats.distance import mantel\n",
    "from scipy.spatial.distance import braycurtis, pdist, euclidean\n",
    "\n",
    "\n",
    "from GeneralFeaturePhenotypeInteractions.Feature_phenotype_functions import * \n",
    "from TCR_microbiome_interactions.TCR_microbiome_interactions_functions import *\n",
    "from TCR_microbiome_interactions.TCR_microbiome_interactions_functions2 import *\n",
    "from SampleLists.SampleFileFunctions import *\n",
    "from PhenotypicData.PhenotypeGenerationFunctions import *\n",
    "from CardioProject.CardioFunctions import *\n",
    "from PredictionPipeline.PredictionFunctions import *\n",
    "from TCR_feature_generation.SubsamplingFunctions import *\n",
    "\n",
    "import os\n",
    "from Utils import cacheOnDisk\n",
    "from SegalQueue.qp import qp,fakeqp\n",
    "from addloglevels import sethandlers\n",
    "\n",
    "#ML imports:\n",
    "from xgboost import XGBClassifier\n",
    "import lightgbm as lgb\n",
    "from collections import OrderedDict\n",
    "from sklearn.model_selection import GroupKFold,StratifiedKFold, KFold\n",
    "import statsmodels.formula.api as sm\n",
    "from sklearn.linear_model import LogisticRegression\n",
    "import shap\n",
    "from sklearn import metrics, preprocessing\n",
    "from sklearn.svm import LinearSVC\n",
    "from sklearn.feature_selection import SelectFromModel,SelectKBest,chi2,mutual_info_classif,f_classif\n",
    "from sklearn.naive_bayes import GaussianNB\n",
    "\n",
    "MyPath='/net/mraid08/export/genie/Lab/Personal/ShaniBAF'"
   ]
  },
  {
   "cell_type": "code",
   "execution_count": null,
   "metadata": {
    "ExecuteTime": {
     "end_time": "2019-05-15T17:09:29.167983Z",
     "start_time": "2019-05-15T17:09:28.332Z"
    }
   },
   "outputs": [],
   "source": [
    "import time\n",
    "cdate=str(time.strftime(\"%d%m%Y\"))\n",
    "cdate"
   ]
  },
  {
   "cell_type": "markdown",
   "metadata": {},
   "source": [
    "# plan\n",
    "\n",
    "1. load most updated file\n",
    "2. replace 9999 with nans\n",
    "3. generate BMI column\n",
    "4. generate Age column\n",
    "5. generate eGFR column\n",
    "6. inspect columns and divide to continous, binary, multiclass and constant\n",
    "7. remove constant values\n",
    "8. save file\n",
    "9. choose only interesting phenotypes\n",
    "10. for continous columns: look for non-numeric values and replace with nans or correct, look for outliers and replace with nans/correct\n",
    "11. for binary/multiclass columns: look for wrong values and replace with nans or correct\n",
    "12. explore how many missing values exist and see wheter to use old phenotypic data as well\n",
    "13. save phen file\n",
    "14. generate dummy/mapped variables\n",
    "15. save again\n"
   ]
  },
  {
   "cell_type": "markdown",
   "metadata": {},
   "source": [
    "# load file, replace 9999 and generate Age and BMI columns:"
   ]
  },
  {
   "cell_type": "code",
   "execution_count": null,
   "metadata": {
    "ExecuteTime": {
     "end_time": "2018-12-02T11:49:05.429472Z",
     "start_time": "2018-12-02T11:49:04.652946Z"
    }
   },
   "outputs": [],
   "source": [
    "f2='/net/mraid08/export/genie/Lab/Personal/ShaniBAF/TCR_real_data/CardioSamples/phenotypicData/Medical_database_20-08-2018.xlsx'\n",
    "Medical_database=pd.read_excel(f2)\n",
    "Medical_database.head()"
   ]
  },
  {
   "cell_type": "code",
   "execution_count": null,
   "metadata": {
    "ExecuteTime": {
     "end_time": "2018-12-02T11:49:07.093477Z",
     "start_time": "2018-12-02T11:49:07.073871Z"
    }
   },
   "outputs": [],
   "source": [
    "Medical_database=Medical_database.replace(9999,np.nan)"
   ]
  },
  {
   "cell_type": "markdown",
   "metadata": {},
   "source": [
    "## generate BMI column"
   ]
  },
  {
   "cell_type": "code",
   "execution_count": null,
   "metadata": {
    "ExecuteTime": {
     "end_time": "2018-12-02T11:49:09.009460Z",
     "start_time": "2018-12-02T11:49:08.743052Z"
    }
   },
   "outputs": [],
   "source": [
    "Medical_database['BMI']=Medical_database['Weight (kg)']/((Medical_database['Height (cm)']/100)**2)\n",
    "Medical_database['BMI'].hist()\n",
    "plt.show()"
   ]
  },
  {
   "cell_type": "markdown",
   "metadata": {},
   "source": [
    "## generate age column:"
   ]
  },
  {
   "cell_type": "code",
   "execution_count": null,
   "metadata": {
    "ExecuteTime": {
     "end_time": "2018-12-02T11:49:10.744300Z",
     "start_time": "2018-12-02T11:49:10.722828Z"
    }
   },
   "outputs": [],
   "source": [
    "#extract year of birth\n",
    "Medical_database['year of Birth']=((Medical_database['Date of Birth'].astype(str)).str.split('-')).str[0]\n",
    "Medical_database['year of Birth']=np.where(Medical_database['year of Birth'].str.contains('/'),\n",
    "                                          ((Medical_database['year of Birth'].astype(str)).str.split('/')).str[2],\n",
    "                                          Medical_database['year of Birth'])\n",
    "Medical_database['year of Birth']=pd.to_numeric(Medical_database['year of Birth'], errors='coerce')\n",
    "print Medical_database['year of Birth'].describe()"
   ]
  },
  {
   "cell_type": "code",
   "execution_count": null,
   "metadata": {
    "ExecuteTime": {
     "end_time": "2018-12-02T11:49:12.360919Z",
     "start_time": "2018-12-02T11:49:12.342870Z"
    }
   },
   "outputs": [],
   "source": [
    "#extract year admission\n",
    "Medical_database['Admission Year']=((Medical_database['Admission Date'].astype(str)).str.split('-')).str[0]\n",
    "Medical_database['Admission Year']=np.where(Medical_database['Admission Year'].str.contains('/'),\n",
    "                                          ((Medical_database['Admission Year'].astype(str)).str.split('/')).str[2],\n",
    "                                          Medical_database['Admission Year'])\n",
    "Medical_database['Admission Year']=pd.to_numeric(Medical_database['Admission Year'], errors='coerce')\n",
    "print Medical_database['Admission Year'].describe()"
   ]
  },
  {
   "cell_type": "code",
   "execution_count": null,
   "metadata": {
    "ExecuteTime": {
     "end_time": "2018-12-02T11:49:14.038230Z",
     "start_time": "2018-12-02T11:49:14.026830Z"
    }
   },
   "outputs": [],
   "source": [
    "Medical_database['Age']=Medical_database['Admission Year']-Medical_database['year of Birth']\n",
    "print Medical_database['Age'].describe()"
   ]
  },
  {
   "cell_type": "markdown",
   "metadata": {},
   "source": [
    "## generate eGFR column:"
   ]
  },
  {
   "cell_type": "code",
   "execution_count": null,
   "metadata": {
    "ExecuteTime": {
     "end_time": "2018-12-02T11:49:15.626435Z",
     "start_time": "2018-12-02T11:49:15.623604Z"
    }
   },
   "outputs": [],
   "source": [
    "# already got this info from Yeela"
   ]
  },
  {
   "cell_type": "code",
   "execution_count": null,
   "metadata": {},
   "outputs": [],
   "source": []
  },
  {
   "cell_type": "markdown",
   "metadata": {},
   "source": [
    "# Analyze medical database file:"
   ]
  },
  {
   "cell_type": "code",
   "execution_count": null,
   "metadata": {
    "ExecuteTime": {
     "end_time": "2018-12-02T11:49:17.202523Z",
     "start_time": "2018-12-02T11:49:17.196065Z"
    }
   },
   "outputs": [],
   "source": [
    "# Medical_database_copy=Medical_database.copy()\n",
    "\n",
    "\n",
    "# df=pd.DataFrame()\n",
    "# for n,col in enumerate(Medical_database_copy.columns):\n",
    "#     nans=len(Medical_database_copy[Medical_database_copy[col].isnull()])\n",
    "#     n9999=len(Medical_database_copy[Medical_database_copy[col]==9999])\n",
    "#     nCategs=len(Medical_database_copy[col].value_counts())\n",
    "# #     print col,nans,n9999,nCategs\n",
    "#     df.loc[n,'number of Nans']=nans\n",
    "#     df.loc[n,'number of 9999s']=n9999\n",
    "#     df.loc[n,'number of categories']=nCategs\n",
    "#     df.loc[n,'columns']=col\n",
    "# df['total nans']=df['number of Nans']+df['number of 9999s']\n",
    "# df['Type']=df['number of categories'].apply(lambda x: 'constant' if x<2 else ('binary' if x==2 else ('categorial' if (x>2)&\\\n",
    "# (x<6) else 'Continuous')))\n",
    "\n",
    "# f3='%s/TCR_real_data/CardioSamples/phenotypicData/Medical_database_20-08-2018_ANALYSIS.xlsx' %MyPath\n",
    "# df.to_excel(f3)"
   ]
  },
  {
   "cell_type": "code",
   "execution_count": null,
   "metadata": {
    "ExecuteTime": {
     "end_time": "2018-12-02T11:49:18.771426Z",
     "start_time": "2018-12-02T11:49:18.767708Z"
    }
   },
   "outputs": [],
   "source": [
    "# # remove constant columns:\n",
    "# constantdf=df[df['Type']=='constant']\n",
    "# constantVars=constantdf['columns'].tolist()\n",
    "# print Medical_database.shape\n",
    "# Medical_database=Medical_database.drop(constantVars,axis=1)\n",
    "# print Medical_database.shape"
   ]
  },
  {
   "cell_type": "code",
   "execution_count": null,
   "metadata": {
    "ExecuteTime": {
     "end_time": "2018-12-02T11:49:20.409785Z",
     "start_time": "2018-12-02T11:49:20.406630Z"
    }
   },
   "outputs": [],
   "source": [
    "# # save medical database with no 9999 values, with no constant columns and with Age and BMI columns:\n",
    "# f2='/net/mraid08/export/genie/Lab/Personal/ShaniBAF/TCR_real_data/CardioSamples/phenotypicData/Medical_database_20-08-2018_clean.xlsx'\n",
    "# Medical_database.to_excel(f2)"
   ]
  },
  {
   "cell_type": "markdown",
   "metadata": {},
   "source": [
    "# new analysis - 28.11.18"
   ]
  },
  {
   "cell_type": "code",
   "execution_count": null,
   "metadata": {
    "ExecuteTime": {
     "end_time": "2018-12-02T11:49:22.038482Z",
     "start_time": "2018-12-02T11:49:21.983364Z"
    }
   },
   "outputs": [],
   "source": [
    "Medical_database.head()"
   ]
  },
  {
   "cell_type": "code",
   "execution_count": null,
   "metadata": {
    "ExecuteTime": {
     "end_time": "2018-12-02T11:49:23.603752Z",
     "start_time": "2018-12-02T11:49:23.588923Z"
    }
   },
   "outputs": [],
   "source": [
    "Medical_database.columns.tolist()"
   ]
  },
  {
   "cell_type": "code",
   "execution_count": null,
   "metadata": {
    "ExecuteTime": {
     "end_time": "2018-12-02T11:49:25.166033Z",
     "start_time": "2018-12-02T11:49:25.160794Z"
    }
   },
   "outputs": [],
   "source": [
    "Medical_database['Discharge Calcium Channel Blockers'].dtype"
   ]
  },
  {
   "cell_type": "code",
   "execution_count": null,
   "metadata": {
    "ExecuteTime": {
     "end_time": "2018-12-02T11:49:26.759531Z",
     "start_time": "2018-12-02T11:49:26.752597Z"
    }
   },
   "outputs": [],
   "source": [
    "Medical_database=Medical_database.drop(['Timestamp','ID', 'Hospital', 'Admission Date', 'Admission Time', 'Discharge Date','Date of Birth','year of Birth',\n",
    "                                       'Admission Year','Discharge Medications'],axis=1)"
   ]
  },
  {
   "cell_type": "code",
   "execution_count": null,
   "metadata": {
    "ExecuteTime": {
     "end_time": "2018-12-02T11:49:37.090687Z",
     "start_time": "2018-12-02T11:49:28.290242Z"
    }
   },
   "outputs": [],
   "source": [
    "Medical_database_nov_clean,analysisDF, Medical_database_nov_nameAddition=process_featureDF(Medical_database,corrThreshold=1,\n",
    "        removeCorr=True,exploreDF=True,deleteConsts=True,fillnans=False)"
   ]
  },
  {
   "cell_type": "code",
   "execution_count": null,
   "metadata": {
    "ExecuteTime": {
     "end_time": "2018-12-02T11:49:39.670282Z",
     "start_time": "2018-12-02T11:49:39.665752Z"
    }
   },
   "outputs": [],
   "source": [
    "Medical_database_nov_nameAddition"
   ]
  },
  {
   "cell_type": "code",
   "execution_count": null,
   "metadata": {
    "ExecuteTime": {
     "end_time": "2018-12-02T11:49:43.432333Z",
     "start_time": "2018-12-02T11:49:42.231930Z"
    }
   },
   "outputs": [],
   "source": [
    "f2='/net/mraid08/export/genie/Lab/Personal/ShaniBAF/TCR_real_data/CardioSamples/phenotypicData/Medical_database_20-08-2018_%s.xlsx' %Medical_database_nov_nameAddition\n",
    "Medical_database_nov_clean.to_excel(f2)"
   ]
  },
  {
   "cell_type": "code",
   "execution_count": null,
   "metadata": {
    "ExecuteTime": {
     "end_time": "2018-12-02T11:49:46.114285Z",
     "start_time": "2018-12-02T11:49:46.017142Z"
    }
   },
   "outputs": [],
   "source": [
    "f2='/net/mraid08/export/genie/Lab/Personal/ShaniBAF/TCR_real_data/CardioSamples/phenotypicData/Medical_database_20-08-2018_novANALYSIS.xlsx'\n",
    "analysisDF.to_excel(f2)"
   ]
  },
  {
   "cell_type": "code",
   "execution_count": null,
   "metadata": {},
   "outputs": [],
   "source": []
  },
  {
   "cell_type": "code",
   "execution_count": null,
   "metadata": {},
   "outputs": [],
   "source": []
  },
  {
   "cell_type": "markdown",
   "metadata": {},
   "source": [
    "# choose interesting columns"
   ]
  },
  {
   "cell_type": "code",
   "execution_count": null,
   "metadata": {
    "ExecuteTime": {
     "end_time": "2018-12-02T11:49:48.684171Z",
     "start_time": "2018-12-02T11:49:48.659245Z"
    }
   },
   "outputs": [],
   "source": [
    "f2='/net/mraid08/export/genie/Lab/Personal/ShaniBAF/TCR_real_data/CardioSamples/phenotypicData/interestingColumns.xlsx'\n",
    "interestingColumns = pd.read_excel(f2)\n",
    "interestingColumns_list = list(interestingColumns.iloc[:, 0].astype(str))\n",
    "interestingColumns_list"
   ]
  },
  {
   "cell_type": "code",
   "execution_count": null,
   "metadata": {
    "ExecuteTime": {
     "end_time": "2018-12-02T11:49:51.626295Z",
     "start_time": "2018-12-02T11:49:51.060693Z"
    }
   },
   "outputs": [],
   "source": [
    "f2='/net/mraid08/export/genie/Lab/Personal/ShaniBAF/TCR_real_data/CardioSamples/phenotypicData/Medical_database_20-08-2018_%s.xlsx' %Medical_database_nov_nameAddition\n",
    "Medical_database_nov_clean=pd.read_excel(f2)\n",
    "Medical_database_clean_int=Medical_database_nov_clean[interestingColumns_list]\n",
    "print Medical_database_clean_int.shape"
   ]
  },
  {
   "cell_type": "code",
   "execution_count": null,
   "metadata": {},
   "outputs": [],
   "source": []
  },
  {
   "cell_type": "markdown",
   "metadata": {},
   "source": [
    "# merge with BD numbers and stay only with relevant samples:"
   ]
  },
  {
   "cell_type": "code",
   "execution_count": null,
   "metadata": {
    "ExecuteTime": {
     "end_time": "2019-02-05T09:44:23.783290Z",
     "start_time": "2019-02-05T09:44:23.474664Z"
    }
   },
   "outputs": [],
   "source": [
    "#load Cardio126 sample list:\n",
    "with open('/net/mraid08/export/genie/Lab/Personal/ShaniBAF/Sample files/BD lists/Cardio126','rb') as fp:\n",
    "    Cardio126=pickle.load(fp)\n",
    "Cardio126 [:5]"
   ]
  },
  {
   "cell_type": "code",
   "execution_count": null,
   "metadata": {
    "ExecuteTime": {
     "end_time": "2019-02-05T09:44:25.263503Z",
     "start_time": "2019-02-05T09:44:24.742850Z"
    }
   },
   "outputs": [],
   "source": [
    "#load BD SAMPLE FILE:\n",
    "f1 = '/net/mraid08/export/genie/Lab/Personal/ShaniBAF/Sample files/updatedBDandFDlists/BDfile_31052018.xlsx'          \n",
    "BDfile = pd.read_excel(f1)\n",
    "BDfile.head()"
   ]
  },
  {
   "cell_type": "code",
   "execution_count": null,
   "metadata": {
    "ExecuteTime": {
     "end_time": "2019-02-05T09:44:26.294904Z",
     "start_time": "2019-02-05T09:44:26.281177Z"
    }
   },
   "outputs": [],
   "source": [
    "BDfile_small=BDfile[['DnaID','corrected_regCode']]\n",
    "print len(BDfile_small)\n",
    "BDfile_small=BDfile_small.drop_duplicates()\n",
    "BDfile_small=BDfile_small.rename(columns={'DnaID':'BD'})\n",
    "BDfile_small.head()\n",
    "print len(BDfile_small)"
   ]
  },
  {
   "cell_type": "code",
   "execution_count": null,
   "metadata": {
    "ExecuteTime": {
     "end_time": "2019-02-05T09:44:27.362888Z",
     "start_time": "2019-02-05T09:44:27.355125Z"
    }
   },
   "outputs": [],
   "source": [
    "cardio126regs=BDfile_small[BDfile_small['BD'].isin(Cardio126)]\n",
    "print len(cardio126regs)"
   ]
  },
  {
   "cell_type": "code",
   "execution_count": null,
   "metadata": {
    "ExecuteTime": {
     "end_time": "2018-12-02T11:50:10.536575Z",
     "start_time": "2018-12-02T11:50:10.480028Z"
    }
   },
   "outputs": [],
   "source": [
    "# get the phenotypic data only for Cardio126 samples and index by BD:\n",
    "Cardio126phen=pd.merge(cardio126regs,Medical_database_clean_int,how='left', left_on='corrected_regCode',right_on='RegistrationCode')\n",
    "print Cardio126phen.shape\n",
    "Cardio126phen.head()"
   ]
  },
  {
   "cell_type": "code",
   "execution_count": null,
   "metadata": {
    "ExecuteTime": {
     "end_time": "2018-12-02T11:50:15.295785Z",
     "start_time": "2018-12-02T11:50:15.246514Z"
    }
   },
   "outputs": [],
   "source": [
    "Cardio126phen=Cardio126phen.drop('corrected_regCode',axis=1)\n",
    "Cardio126phen.head()"
   ]
  },
  {
   "cell_type": "markdown",
   "metadata": {},
   "source": [
    "# add more info "
   ]
  },
  {
   "cell_type": "code",
   "execution_count": null,
   "metadata": {
    "ExecuteTime": {
     "end_time": "2018-12-02T11:50:19.839065Z",
     "start_time": "2018-12-02T11:50:19.767610Z"
    }
   },
   "outputs": [],
   "source": [
    "f1='/net/mraid08/export/genie/Lab/Personal/ShaniBAF/TCR_real_data/CardioSamples/phenotypicData/Cardio126phen.xlsx' \n",
    "Cardio126phenOld=pd.read_excel(f1)\n",
    "Cardio126phenOld.head()"
   ]
  },
  {
   "cell_type": "code",
   "execution_count": null,
   "metadata": {
    "ExecuteTime": {
     "end_time": "2018-12-02T11:50:24.861985Z",
     "start_time": "2018-12-02T11:50:24.807054Z"
    }
   },
   "outputs": [],
   "source": [
    "Cardio126phen=pd.merge(Cardio126phen,Cardio126phenOld[['BD','nTemplates']],how='left', left_on='BD',right_on='BD')\n",
    "Cardio126phen.head()\n"
   ]
  },
  {
   "cell_type": "code",
   "execution_count": null,
   "metadata": {},
   "outputs": [],
   "source": []
  },
  {
   "cell_type": "markdown",
   "metadata": {},
   "source": [
    "## correct eeror values:"
   ]
  },
  {
   "cell_type": "code",
   "execution_count": null,
   "metadata": {
    "ExecuteTime": {
     "end_time": "2018-12-02T11:50:29.717453Z",
     "start_time": "2018-12-02T11:50:29.709621Z"
    }
   },
   "outputs": [],
   "source": [
    "Cardio126phen['LVEF'].value_counts()"
   ]
  },
  {
   "cell_type": "code",
   "execution_count": null,
   "metadata": {
    "ExecuteTime": {
     "end_time": "2018-12-02T11:50:34.532422Z",
     "start_time": "2018-12-02T11:50:34.528216Z"
    }
   },
   "outputs": [],
   "source": [
    "Cardio126phen['LVEF']=np.where(Cardio126phen['LVEF']=='4)',4,Cardio126phen['LVEF'])"
   ]
  },
  {
   "cell_type": "code",
   "execution_count": null,
   "metadata": {
    "ExecuteTime": {
     "end_time": "2018-12-02T11:50:39.528415Z",
     "start_time": "2018-12-02T11:50:39.519894Z"
    }
   },
   "outputs": [],
   "source": [
    "Cardio126phen['LVEF'].value_counts()"
   ]
  },
  {
   "cell_type": "code",
   "execution_count": null,
   "metadata": {
    "ExecuteTime": {
     "end_time": "2018-12-02T11:50:44.465365Z",
     "start_time": "2018-12-02T11:50:44.460080Z"
    }
   },
   "outputs": [],
   "source": [
    "Cardio126phen=Cardio126phen.drop('Hospitalization during Past Year',axis=1)"
   ]
  },
  {
   "cell_type": "code",
   "execution_count": null,
   "metadata": {
    "ExecuteTime": {
     "end_time": "2018-12-02T11:50:49.536121Z",
     "start_time": "2018-12-02T11:50:49.531140Z"
    }
   },
   "outputs": [],
   "source": [
    "Cardio126phen=Cardio126phen.set_index('BD')"
   ]
  },
  {
   "cell_type": "code",
   "execution_count": null,
   "metadata": {},
   "outputs": [],
   "source": []
  },
  {
   "cell_type": "code",
   "execution_count": null,
   "metadata": {
    "ExecuteTime": {
     "end_time": "2018-12-02T11:50:54.973323Z",
     "start_time": "2018-12-02T11:50:54.616280Z"
    }
   },
   "outputs": [],
   "source": [
    "f1 = '/net/mraid08/export/genie/Lab/Personal/ShaniBAF/TCR_real_data/CardioSamples/phenotypicData/Cardio126phenAllInfo'          \n",
    "Cardio126phen.to_pickle(f1)\n",
    "\n",
    "f2 = '/net/mraid08/export/genie/Lab/Personal/ShaniBAF/TCR_real_data/CardioSamples/phenotypicData/Cardio126phenAllInfo.xlsx'          \n",
    "Cardio126phen.to_excel(f2)"
   ]
  },
  {
   "cell_type": "markdown",
   "metadata": {},
   "source": [
    "# analyze phenotypic data and remove constant columns:"
   ]
  },
  {
   "cell_type": "code",
   "execution_count": null,
   "metadata": {
    "ExecuteTime": {
     "end_time": "2018-12-02T11:51:01.792241Z",
     "start_time": "2018-12-02T11:50:59.908610Z"
    }
   },
   "outputs": [],
   "source": [
    "Cardio126phen_org,analysisDF, Cardio126phen_nameAddition=process_featureDF(Cardio126phen,corrThreshold=1,\n",
    "        removeCorr=True,exploreDF=True,deleteConsts=True,fillnans=False)"
   ]
  },
  {
   "cell_type": "markdown",
   "metadata": {},
   "source": [
    "# generate dummy variables:"
   ]
  },
  {
   "cell_type": "code",
   "execution_count": null,
   "metadata": {
    "ExecuteTime": {
     "end_time": "2018-12-02T11:51:07.538779Z",
     "start_time": "2018-12-02T11:51:07.535674Z"
    }
   },
   "outputs": [],
   "source": [
    "df=analysisDF"
   ]
  },
  {
   "cell_type": "code",
   "execution_count": null,
   "metadata": {
    "ExecuteTime": {
     "end_time": "2018-12-02T11:51:13.563134Z",
     "start_time": "2018-12-02T11:51:13.500406Z"
    }
   },
   "outputs": [],
   "source": [
    "#binary variables all make sense with 0,1 values except for gender which I want to have as male/female\n",
    "binaryVars=df[df['Type']=='binary']\n",
    "binaryCols=binaryVars['columns'].tolist()\n",
    "print len(binaryCols)\n",
    "for col in binaryCols:\n",
    "    print col\n",
    "    print Cardio126phen[col].value_counts(dropna=False)"
   ]
  },
  {
   "cell_type": "code",
   "execution_count": null,
   "metadata": {
    "ExecuteTime": {
     "end_time": "2018-12-02T11:51:19.657625Z",
     "start_time": "2018-12-02T11:51:19.614546Z"
    }
   },
   "outputs": [],
   "source": [
    "multiVars=df[df['Type']=='categorial']\n",
    "multiCols=multiVars['columns'].tolist()\n",
    "print len(multiCols)\n",
    "for col in multiCols:\n",
    "    print col\n",
    "    print Cardio126phen[col].value_counts(dropna=False)"
   ]
  },
  {
   "cell_type": "markdown",
   "metadata": {},
   "source": [
    "## mapping the Gender variable"
   ]
  },
  {
   "cell_type": "code",
   "execution_count": null,
   "metadata": {
    "ExecuteTime": {
     "end_time": "2018-12-02T11:51:25.850507Z",
     "start_time": "2018-12-02T11:51:25.840549Z"
    }
   },
   "outputs": [],
   "source": [
    "Cardio126phen['Gender']=Cardio126phen['Gender'].map({1:'Male',2:'Female'})\n",
    "print Cardio126phen['Gender'].value_counts(dropna=False)"
   ]
  },
  {
   "cell_type": "markdown",
   "metadata": {},
   "source": [
    "## mapping categorial variables:"
   ]
  },
  {
   "cell_type": "code",
   "execution_count": null,
   "metadata": {
    "ExecuteTime": {
     "end_time": "2018-12-02T11:51:32.061955Z",
     "start_time": "2018-12-02T11:51:32.049101Z"
    }
   },
   "outputs": [],
   "source": [
    "PCIdict={0:0,1:0,2:2,3:2,4:2,np.nan:np.nan}\n",
    "Cardio126phen['PreviousPCImapped']=Cardio126phen['Previous PCI'].map(PCIdict)\n",
    "\n",
    "PCIbinarydict={0:0,1:1,2:1,3:1,4:1,np.nan:np.nan}\n",
    "Cardio126phen['PCI_binary']=Cardio126phen['Previous PCI'].map(PCIbinarydict)\n",
    "\n",
    "LVEFdict={0:1,1:1,2:1,3:2,4:2,5:2,6:1,np.nan:np.nan}\n",
    "Cardio126phen['LVEFmapped']=Cardio126phen['LVEF'].map(LVEFdict) \n"
   ]
  },
  {
   "cell_type": "code",
   "execution_count": null,
   "metadata": {
    "ExecuteTime": {
     "end_time": "2018-12-02T11:51:38.351035Z",
     "start_time": "2018-12-02T11:51:38.339420Z"
    }
   },
   "outputs": [],
   "source": [
    "Smokingdict={0:'No',1:'Yes',2:'Past',np.nan:np.nan}\n",
    "Cardio126phen['Smoking Status mapped']=Cardio126phen['Smoking Status'].map(Smokingdict)\n",
    "Cardio126phen['Smoking Status mapped'].value_counts(dropna=False)"
   ]
  },
  {
   "cell_type": "code",
   "execution_count": null,
   "metadata": {
    "ExecuteTime": {
     "end_time": "2018-12-02T11:51:44.709516Z",
     "start_time": "2018-12-02T11:51:44.705376Z"
    }
   },
   "outputs": [],
   "source": [
    "# GlucoseDisorderdict={0:'No',1:'DM1',2:'DM2',3:'PreDM',np.nan:np.nan}\n",
    "# Cardio126phen['Glucose Disorder']=Cardio126phen['Glucose Disorder'].map(GlucoseDisorderdict)\n",
    "# Cardio126phen['Glucose Disorder'].value_counts(dropna=False)"
   ]
  },
  {
   "cell_type": "code",
   "execution_count": null,
   "metadata": {
    "ExecuteTime": {
     "end_time": "2018-12-02T11:51:50.921967Z",
     "start_time": "2018-12-02T11:51:50.910615Z"
    }
   },
   "outputs": [],
   "source": [
    "AdmissionDiagnosisdict={1:'NA_',2:'NSTEMI',3:'STEMI',np.nan:np.nan}\n",
    "Cardio126phen['Admission Diagnosis mapped']=Cardio126phen['Admission Diagnosis'].map(AdmissionDiagnosisdict)\n",
    "Cardio126phen['Admission Diagnosis mapped'].value_counts(dropna=False)"
   ]
  },
  {
   "cell_type": "code",
   "execution_count": null,
   "metadata": {
    "ExecuteTime": {
     "end_time": "2018-12-02T11:51:57.157887Z",
     "start_time": "2018-12-02T11:51:57.145515Z"
    }
   },
   "outputs": [],
   "source": [
    "ChiefComplaintdict={1:'anginal pain',2:'atypical pain',3:'dyspnea',4:'abdominal pain',5:'other',np.nan:np.nan}\n",
    "Cardio126phen['Chief Complaint mapped']=Cardio126phen['Chief Complaint'].map(ChiefComplaintdict)\n",
    "Cardio126phen['Chief Complaint mapped'].value_counts(dropna=False)"
   ]
  },
  {
   "cell_type": "code",
   "execution_count": null,
   "metadata": {
    "ExecuteTime": {
     "end_time": "2018-12-02T11:52:03.661043Z",
     "start_time": "2018-12-02T11:52:03.578888Z"
    }
   },
   "outputs": [],
   "source": [
    "# toDummyColList=['Gender','Smoking Status','Glucose Disorder','Admission Diagnosis','PreviousPCImapped','LVEFmapped','Chief Complaint']\n",
    "# toDummyColList=['Gender','Smoking Status mapped','Admission Diagnosis mapped','Chief Complaint mapped']\n",
    "toDummyColList=['Smoking Status mapped','Admission Diagnosis mapped','Chief Complaint mapped']\n",
    "df=Cardio126phen.copy()\n",
    "Cardio126phen=gen_dummies(df,toDummyColList)\n",
    "Cardio126phen.head()\n",
    "\n",
    "for col in Cardio126phen.columns:\n",
    "    Cardio126phen=Cardio126phen.rename(columns={col:col.replace('.0','')})"
   ]
  },
  {
   "cell_type": "code",
   "execution_count": null,
   "metadata": {
    "ExecuteTime": {
     "end_time": "2018-12-02T11:52:10.325646Z",
     "start_time": "2018-12-02T11:52:10.318724Z"
    }
   },
   "outputs": [],
   "source": [
    "Cardio126phen=Cardio126phen.drop(['Smoking Status mapped','Admission Diagnosis mapped','Chief Complaint mapped'],axis=1)"
   ]
  },
  {
   "cell_type": "code",
   "execution_count": null,
   "metadata": {
    "ExecuteTime": {
     "end_time": "2018-12-02T11:52:17.002304Z",
     "start_time": "2018-12-02T11:52:16.953790Z"
    }
   },
   "outputs": [],
   "source": [
    "Cardio126phen.head()"
   ]
  },
  {
   "cell_type": "code",
   "execution_count": null,
   "metadata": {
    "ExecuteTime": {
     "end_time": "2018-12-02T11:52:23.612016Z",
     "start_time": "2018-12-02T11:52:23.604720Z"
    }
   },
   "outputs": [],
   "source": [
    "Cardio126phen['PreviousPCImapped'].value_counts()"
   ]
  },
  {
   "cell_type": "code",
   "execution_count": null,
   "metadata": {
    "ExecuteTime": {
     "end_time": "2018-12-02T11:59:18.171768Z",
     "start_time": "2018-12-02T11:59:18.166601Z"
    }
   },
   "outputs": [],
   "source": [
    "Cardio126phen=Cardio126phen.drop(['Chief Complaint mapped_dyspnea','Chief Complaint mapped_other'],axis=1)"
   ]
  },
  {
   "cell_type": "markdown",
   "metadata": {},
   "source": [
    "## saving df with dummies:"
   ]
  },
  {
   "cell_type": "code",
   "execution_count": null,
   "metadata": {
    "ExecuteTime": {
     "end_time": "2018-12-02T12:00:37.924155Z",
     "start_time": "2018-12-02T12:00:37.522202Z"
    }
   },
   "outputs": [],
   "source": [
    "try:\n",
    "    Cardio126phen=Cardio126phen.set_index('BD')\n",
    "except:\n",
    "    print 'index is already BD'\n",
    "    \n",
    "try:\n",
    "    Cardio126phen=Cardio126phen.drop('Gender',axis=1)\n",
    "except:\n",
    "    print 'gender columns doesnt exist'\n",
    "\n",
    "f1 = '/net/mraid08/export/genie/Lab/Personal/ShaniBAF/TCR_real_data/CardioSamples/phenotypicData/Cardio126phenAllInfo_Nov18'          \n",
    "Cardio126phen.to_pickle(f1)\n",
    "\n",
    "f2 = '/net/mraid08/export/genie/Lab/Personal/ShaniBAF/TCR_real_data/CardioSamples/phenotypicData/Cardio126phenAllInfo_Nov18.xlsx'          \n",
    "Cardio126phen.to_excel(f2)"
   ]
  },
  {
   "cell_type": "markdown",
   "metadata": {},
   "source": [
    "# generating new PCI+LVEF+CVA binary info"
   ]
  },
  {
   "cell_type": "markdown",
   "metadata": {},
   "source": [
    "1. get CABG and CVA info and convert to BD numbers.\n",
    "2. merge with PCI, LVEF and CVA info\n",
    "3. generate columns - previousPCI 1,2,3,4 LVEF1,2,3  CVA\n",
    "4. save in one file to be used as target for predictions"
   ]
  },
  {
   "cell_type": "code",
   "execution_count": null,
   "metadata": {
    "ExecuteTime": {
     "end_time": "2019-01-07T09:55:43.337845Z",
     "start_time": "2019-01-07T09:55:42.523044Z"
    }
   },
   "outputs": [],
   "source": [
    "f1='/net/mraid08/export/genie/Lab/Personal/ShaniBAF/TCR_real_data/CardioSamples/phenotypicData/Medical_database_20-08-2018.xlsx'\n",
    "database=pd.read_excel(f1)\n",
    "database.head()\n"
   ]
  },
  {
   "cell_type": "code",
   "execution_count": null,
   "metadata": {
    "ExecuteTime": {
     "end_time": "2019-01-07T10:08:27.863076Z",
     "start_time": "2019-01-07T10:08:27.831026Z"
    }
   },
   "outputs": [],
   "source": [
    "CABG=database[['RegistrationCode','Previous CABG','Past CVA/TIA']].set_index('RegistrationCode')\n",
    "CABG.head()"
   ]
  },
  {
   "cell_type": "code",
   "execution_count": null,
   "metadata": {
    "ExecuteTime": {
     "end_time": "2019-01-07T10:08:28.764119Z",
     "start_time": "2019-01-07T10:08:28.755632Z"
    }
   },
   "outputs": [],
   "source": [
    "CABG['Previous CABG'].value_counts(dropna=False)"
   ]
  },
  {
   "cell_type": "code",
   "execution_count": null,
   "metadata": {
    "ExecuteTime": {
     "end_time": "2019-01-07T10:08:29.899904Z",
     "start_time": "2019-01-07T10:08:29.892587Z"
    }
   },
   "outputs": [],
   "source": [
    "#load Cardio126 sample list:\n",
    "with open('/net/mraid08/export/genie/Lab/Personal/ShaniBAF/Sample files/BD lists/Cardio126','rb') as fp:\n",
    "    Cardio126=pickle.load(fp)\n",
    "Cardio126 [:5]"
   ]
  },
  {
   "cell_type": "code",
   "execution_count": null,
   "metadata": {
    "ExecuteTime": {
     "end_time": "2019-01-07T10:08:32.344598Z",
     "start_time": "2019-01-07T10:08:32.040673Z"
    }
   },
   "outputs": [],
   "source": [
    "#load BD SAMPLE FILE:\n",
    "f1 = '/net/mraid08/export/genie/Lab/Personal/ShaniBAF/Sample files/updatedBDandFDlists/BDfile_31052018.xlsx'          \n",
    "BDfile = pd.read_excel(f1)\n",
    "BDfile.head()"
   ]
  },
  {
   "cell_type": "code",
   "execution_count": null,
   "metadata": {
    "ExecuteTime": {
     "end_time": "2019-01-07T10:08:34.002325Z",
     "start_time": "2019-01-07T10:08:33.991310Z"
    }
   },
   "outputs": [],
   "source": [
    "BDfile_small=BDfile[['DnaID','corrected_regCode']]\n",
    "print len(BDfile_small)\n",
    "BDfile_small=BDfile_small.drop_duplicates()\n",
    "BDfile_small=BDfile_small.rename(columns={'DnaID':'BD'})\n",
    "BDfile_small.head()\n",
    "print len(BDfile_small)"
   ]
  },
  {
   "cell_type": "code",
   "execution_count": null,
   "metadata": {
    "ExecuteTime": {
     "end_time": "2019-01-07T10:08:34.666448Z",
     "start_time": "2019-01-07T10:08:34.660765Z"
    }
   },
   "outputs": [],
   "source": [
    "cardio126regs=BDfile_small[BDfile_small['BD'].isin(Cardio126)]\n",
    "print len(cardio126regs)"
   ]
  },
  {
   "cell_type": "code",
   "execution_count": null,
   "metadata": {
    "ExecuteTime": {
     "end_time": "2019-01-07T10:08:35.351626Z",
     "start_time": "2019-01-07T10:08:35.331975Z"
    }
   },
   "outputs": [],
   "source": [
    "# get the phenotypic data only for Cardio126 samples and index by BD:\n",
    "new_CABG=pd.merge(cardio126regs,CABG,how='left', left_on='corrected_regCode',right_index=True)\n",
    "print new_CABG.shape\n",
    "new_CABG.head()"
   ]
  },
  {
   "cell_type": "code",
   "execution_count": null,
   "metadata": {
    "ExecuteTime": {
     "end_time": "2019-01-07T10:08:38.346001Z",
     "start_time": "2019-01-07T10:08:38.330239Z"
    }
   },
   "outputs": [],
   "source": [
    "new_CABG=new_CABG.drop('corrected_regCode',axis=1).set_index('BD')\n",
    "new_CABG.head()"
   ]
  },
  {
   "cell_type": "code",
   "execution_count": null,
   "metadata": {
    "ExecuteTime": {
     "end_time": "2019-01-07T10:09:37.881834Z",
     "start_time": "2019-01-07T10:09:37.820551Z"
    }
   },
   "outputs": [],
   "source": [
    "f1='/net/mraid08/export/genie/Lab/Personal/ShaniBAF/TCR_real_data/CardioSamples/phenotypicData/PastCVATIA.xlsx'\n",
    "pd.DataFrame(new_CABG['Past CVA/TIA']).to_excel(f1)"
   ]
  },
  {
   "cell_type": "code",
   "execution_count": null,
   "metadata": {
    "ExecuteTime": {
     "end_time": "2019-01-07T10:09:38.656754Z",
     "start_time": "2019-01-07T10:09:38.616567Z"
    }
   },
   "outputs": [],
   "source": [
    "f1='/net/mraid08/export/genie/Lab/Personal/ShaniBAF/TCR_real_data/CardioSamples/phenotypicData/PreviousCABG.xlsx'\n",
    "pd.DataFrame(new_CABG['Previous CABG']).to_excel(f1)"
   ]
  },
  {
   "cell_type": "code",
   "execution_count": null,
   "metadata": {
    "ExecuteTime": {
     "end_time": "2019-01-07T10:09:41.702083Z",
     "start_time": "2019-01-07T10:09:41.687568Z"
    }
   },
   "outputs": [],
   "source": [
    "new_CABG['Previous CABG'].value_counts(dropna=False)"
   ]
  },
  {
   "cell_type": "code",
   "execution_count": null,
   "metadata": {
    "ExecuteTime": {
     "end_time": "2019-01-07T10:09:49.528754Z",
     "start_time": "2019-01-07T10:09:49.513404Z"
    }
   },
   "outputs": [],
   "source": [
    "new_CABG['Past CVA/TIA'].value_counts(dropna=False)"
   ]
  },
  {
   "cell_type": "code",
   "execution_count": null,
   "metadata": {
    "ExecuteTime": {
     "end_time": "2019-01-07T10:11:51.193736Z",
     "start_time": "2019-01-07T10:11:51.155098Z"
    }
   },
   "outputs": [],
   "source": [
    "PCI=pd.read_excel('/net/mraid08/export/genie/Lab/Personal/ShaniBAF/TCR_real_data/CardioSamples/phenotypicData/PreviousPCI.xlsx').set_index('BD')\n",
    "LVEF=pd.read_excel('/net/mraid08/export/genie/Lab/Personal/ShaniBAF/TCR_real_data/CardioSamples/phenotypicData/LVEF.xlsx').set_index('BD')"
   ]
  },
  {
   "cell_type": "code",
   "execution_count": null,
   "metadata": {
    "ExecuteTime": {
     "end_time": "2019-01-07T10:28:50.804371Z",
     "start_time": "2019-01-07T10:28:50.762373Z"
    }
   },
   "outputs": [],
   "source": [
    "merged=pd.merge(new_CABG,PCI, how='outer',left_index=True,right_index=True)\n",
    "merged=pd.merge(merged,LVEF,how='outer',left_index=True,right_index=True)\n",
    "print merged.shape\n",
    "merged.head()"
   ]
  },
  {
   "cell_type": "code",
   "execution_count": null,
   "metadata": {
    "ExecuteTime": {
     "end_time": "2019-01-07T10:30:32.590703Z",
     "start_time": "2019-01-07T10:30:32.499518Z"
    }
   },
   "outputs": [],
   "source": [
    "merged['PreviousPCI1']=np.where(merged['PreviousPCI']>0,1,np.where(merged['PreviousPCI'].isnull(),np.nan,0))\n",
    "merged['PreviousPCI2']=np.where(merged['PreviousPCI']>1,1,np.where(merged['PreviousPCI'].isnull(),np.nan,0))\n",
    "merged['PreviousPCI3']=np.where(merged['PreviousPCI']>2,1,np.where(merged['PreviousPCI'].isnull(),np.nan,0))\n",
    "\n",
    "merged['LVEF1']=np.where(merged['LVEF']>0,1,np.where(merged['PreviousPCI'].isnull(),np.nan,0))\n",
    "merged['LVEF2']=np.where((merged['LVEF']==0)|(merged['LVEF']==6),0,np.where(merged['PreviousPCI'].isnull(),np.nan,1))\n",
    "merged['LVEF3']=np.where((merged['LVEF']>1)&(merged['LVEF']<6),0,np.where(merged['PreviousPCI'].isnull(),np.nan,1))\n",
    "\n",
    "merged['PastCVATIA1']=np.where(merged['Past CVA/TIA']>0,1,np.where(merged['PreviousPCI'].isnull(),np.nan,0))\n",
    "\n",
    "\n",
    "merged.head()"
   ]
  },
  {
   "cell_type": "code",
   "execution_count": null,
   "metadata": {
    "ExecuteTime": {
     "end_time": "2019-01-07T10:34:33.072989Z",
     "start_time": "2019-01-07T10:34:32.949985Z"
    }
   },
   "outputs": [],
   "source": [
    "merged['PCI1_CABG']=np.where((merged['PreviousPCI']>0) | (merged['Previous CABG']>0),1,np.where(merged['PreviousPCI'].isnull(),np.nan,0))\n",
    "merged['PCI1_CABG_cont']=merged['PreviousPCI']+merged['Previous CABG']\n",
    "merged.head()"
   ]
  },
  {
   "cell_type": "code",
   "execution_count": null,
   "metadata": {
    "ExecuteTime": {
     "end_time": "2019-01-07T10:34:38.790222Z",
     "start_time": "2019-01-07T10:34:38.732581Z"
    }
   },
   "outputs": [],
   "source": [
    "for col in merged.columns:\n",
    "    print merged[col].value_counts(dropna=False)\n",
    "    print ''"
   ]
  },
  {
   "cell_type": "code",
   "execution_count": null,
   "metadata": {
    "ExecuteTime": {
     "end_time": "2019-01-07T10:37:14.790354Z",
     "start_time": "2019-01-07T10:37:14.784767Z"
    }
   },
   "outputs": [],
   "source": [
    "merged_final=merged.drop(['Past CVA/TIA','PreviousPCI','LVEF'],axis=1)"
   ]
  },
  {
   "cell_type": "code",
   "execution_count": null,
   "metadata": {
    "ExecuteTime": {
     "end_time": "2019-01-07T10:37:25.501865Z",
     "start_time": "2019-01-07T10:37:25.433350Z"
    }
   },
   "outputs": [],
   "source": [
    "f3='/net/mraid08/export/genie/Lab/Personal/ShaniBAF/TCR_real_data/CardioSamples/phenotypicData/PCI_LVEF_CVA_CABG.xlsx'\n",
    "merged_final.to_excel(f3)"
   ]
  },
  {
   "cell_type": "markdown",
   "metadata": {},
   "source": [
    "# generating new ostial disease phenotypes:"
   ]
  },
  {
   "cell_type": "markdown",
   "metadata": {},
   "source": [
    "1. get all ostial disease info and convert to BD numbers.\n",
    "2. calculate summarizing continous and binary variables\n",
    "4. save "
   ]
  },
  {
   "cell_type": "code",
   "execution_count": null,
   "metadata": {
    "ExecuteTime": {
     "end_time": "2019-01-17T00:29:41.418500Z",
     "start_time": "2019-01-17T00:29:40.538919Z"
    }
   },
   "outputs": [],
   "source": [
    "f1='/net/mraid08/export/genie/Lab/Personal/ShaniBAF/TCR_real_data/CardioSamples/phenotypicData/Medical_database_20-08-2018.xlsx'\n",
    "database=pd.read_excel(f1)\n",
    "database.head()\n"
   ]
  },
  {
   "cell_type": "code",
   "execution_count": null,
   "metadata": {
    "ExecuteTime": {
     "end_time": "2019-01-17T00:31:02.747966Z",
     "start_time": "2019-01-17T00:31:02.715403Z"
    }
   },
   "outputs": [],
   "source": [
    "ostial=database[[x for x in database.columns if 'Ostial' in x]+['RegistrationCode']].set_index('RegistrationCode')\n",
    "ostial=ostial.replace(9999,6)\n",
    "\n",
    "ostial.head()"
   ]
  },
  {
   "cell_type": "code",
   "execution_count": null,
   "metadata": {
    "ExecuteTime": {
     "end_time": "2019-01-17T00:31:03.702062Z",
     "start_time": "2019-01-17T00:31:03.682254Z"
    }
   },
   "outputs": [],
   "source": [
    "for col in ostial:\n",
    "    print col\n",
    "    print ostial[col].value_counts(dropna=False)"
   ]
  },
  {
   "cell_type": "code",
   "execution_count": null,
   "metadata": {
    "ExecuteTime": {
     "end_time": "2019-01-17T00:31:04.465995Z",
     "start_time": "2019-01-17T00:31:04.456611Z"
    }
   },
   "outputs": [],
   "source": [
    "#load Cardio126 sample list:\n",
    "with open('/net/mraid08/export/genie/Lab/Personal/ShaniBAF/Sample files/BD lists/Cardio126','rb') as fp:\n",
    "    Cardio126=pickle.load(fp)\n",
    "Cardio126 [:5]"
   ]
  },
  {
   "cell_type": "code",
   "execution_count": null,
   "metadata": {
    "ExecuteTime": {
     "end_time": "2019-01-17T00:31:05.559122Z",
     "start_time": "2019-01-17T00:31:05.232439Z"
    }
   },
   "outputs": [],
   "source": [
    "#load BD SAMPLE FILE:\n",
    "f1 = '/net/mraid08/export/genie/Lab/Personal/ShaniBAF/Sample files/updatedBDandFDlists/BDfile_31052018.xlsx'          \n",
    "BDfile = pd.read_excel(f1)\n",
    "BDfile.head()"
   ]
  },
  {
   "cell_type": "code",
   "execution_count": null,
   "metadata": {
    "ExecuteTime": {
     "end_time": "2019-01-17T00:31:06.314917Z",
     "start_time": "2019-01-17T00:31:06.302738Z"
    }
   },
   "outputs": [],
   "source": [
    "BDfile_small=BDfile[['DnaID','corrected_regCode']]\n",
    "print len(BDfile_small)\n",
    "BDfile_small=BDfile_small.drop_duplicates()\n",
    "BDfile_small=BDfile_small.rename(columns={'DnaID':'BD'})\n",
    "BDfile_small.head()\n",
    "print len(BDfile_small)"
   ]
  },
  {
   "cell_type": "code",
   "execution_count": null,
   "metadata": {
    "ExecuteTime": {
     "end_time": "2019-01-17T00:31:07.071866Z",
     "start_time": "2019-01-17T00:31:07.064603Z"
    }
   },
   "outputs": [],
   "source": [
    "cardio126regs=BDfile_small[BDfile_small['BD'].isin(Cardio126)]\n",
    "print len(cardio126regs)"
   ]
  },
  {
   "cell_type": "code",
   "execution_count": null,
   "metadata": {
    "ExecuteTime": {
     "end_time": "2019-01-17T00:31:07.838909Z",
     "start_time": "2019-01-17T00:31:07.811779Z"
    }
   },
   "outputs": [],
   "source": [
    "# get the phenotypic data only for Cardio126 samples and index by BD:\n",
    "new_ostial=pd.merge(cardio126regs,ostial,how='left', left_on='corrected_regCode',right_index=True)\n",
    "print new_ostial.shape\n",
    "new_ostial.head()"
   ]
  },
  {
   "cell_type": "code",
   "execution_count": null,
   "metadata": {
    "ExecuteTime": {
     "end_time": "2019-01-17T00:31:08.586852Z",
     "start_time": "2019-01-17T00:31:08.564386Z"
    }
   },
   "outputs": [],
   "source": [
    "new_ostial=new_ostial.drop('corrected_regCode',axis=1).set_index('BD')\n",
    "new_ostial.head()"
   ]
  },
  {
   "cell_type": "code",
   "execution_count": null,
   "metadata": {
    "ExecuteTime": {
     "end_time": "2019-01-17T00:31:09.327298Z",
     "start_time": "2019-01-17T00:31:09.303270Z"
    }
   },
   "outputs": [],
   "source": [
    "new_ostial2=new_ostial.copy()\n",
    "new_ostial2['total_ostial_cont']=new_ostial2.sum(axis=1)\n",
    "new_ostial2.head()"
   ]
  },
  {
   "cell_type": "code",
   "execution_count": null,
   "metadata": {
    "ExecuteTime": {
     "end_time": "2019-01-17T00:31:10.063775Z",
     "start_time": "2019-01-17T00:31:10.051786Z"
    }
   },
   "outputs": [],
   "source": [
    "new_ostial2['total_ostial_cont'].value_counts(dropna=False)"
   ]
  },
  {
   "cell_type": "code",
   "execution_count": null,
   "metadata": {
    "ExecuteTime": {
     "end_time": "2019-01-17T00:31:10.830823Z",
     "start_time": "2019-01-17T00:31:10.804439Z"
    }
   },
   "outputs": [],
   "source": [
    "new_ostial2['total_ostial_binary']=np.where(new_ostial2['total_ostial_cont']>0,1,0)\n",
    "new_ostial2.head()"
   ]
  },
  {
   "cell_type": "code",
   "execution_count": null,
   "metadata": {
    "ExecuteTime": {
     "end_time": "2019-01-17T00:31:11.591960Z",
     "start_time": "2019-01-17T00:31:11.584207Z"
    }
   },
   "outputs": [],
   "source": [
    "new_ostial2['total_ostial_binary'].value_counts()"
   ]
  },
  {
   "cell_type": "code",
   "execution_count": null,
   "metadata": {
    "ExecuteTime": {
     "end_time": "2019-01-17T00:31:12.453548Z",
     "start_time": "2019-01-17T00:31:12.353112Z"
    }
   },
   "outputs": [],
   "source": [
    "new_ostial2['total_ostial_binary'].to_excel('/net/mraid08/export/genie/Lab/Personal/ShaniBAF/TCR_real_data/CardioSamples/\\\n",
    "phenotypicData/total_ostial_binary.xlsx')"
   ]
  },
  {
   "cell_type": "code",
   "execution_count": null,
   "metadata": {
    "ExecuteTime": {
     "end_time": "2019-01-17T00:31:13.214170Z",
     "start_time": "2019-01-17T00:31:13.176861Z"
    }
   },
   "outputs": [],
   "source": [
    "new_ostial2['total_ostial_cont'].to_excel('/net/mraid08/export/genie/Lab/Personal/ShaniBAF/TCR_real_data/CardioSamples/\\\n",
    "phenotypicData/total_ostial_cont.xlsx')"
   ]
  },
  {
   "cell_type": "markdown",
   "metadata": {},
   "source": [
    "# generate timeToBlood phenotype\n",
    "this phenotype is the time from admission to blood sampling"
   ]
  },
  {
   "cell_type": "markdown",
   "metadata": {},
   "source": [
    "## get timeToBlood excel file:"
   ]
  },
  {
   "cell_type": "code",
   "execution_count": null,
   "metadata": {
    "ExecuteTime": {
     "end_time": "2019-02-05T09:56:58.535364Z",
     "start_time": "2019-02-05T09:56:58.361576Z"
    }
   },
   "outputs": [],
   "source": [
    "#get excel file:\n",
    "timeToBlood=pd.read_excel('%s/TCR_real_data/CardioSamples/phenotypicData/TimeToBlood2.xlsx' %MyPath)\n",
    "timeToBlood.head()"
   ]
  },
  {
   "cell_type": "markdown",
   "metadata": {},
   "source": [
    "## calculate time difference:"
   ]
  },
  {
   "cell_type": "code",
   "execution_count": null,
   "metadata": {
    "ExecuteTime": {
     "end_time": "2019-02-05T09:57:01.993902Z",
     "start_time": "2019-02-05T09:57:01.512798Z"
    }
   },
   "outputs": [],
   "source": [
    "#convert date columns to date format:\n",
    "for col in ['Admission Date','blood sample - production date']:\n",
    "    timeToBlood[col+'2']=pd.to_datetime(timeToBlood[col])\n",
    "    \n",
    "df=timeToBlood\n",
    "#convery hour columns to timedelta format:\n",
    "df['Admission Time2'] = pd.to_timedelta(df['Admission Time'].astype(str))\n",
    "df['blood sample - production hour2'] = pd.to_timedelta(df['blood sample - production hour'].astype(str))\n",
    "\n",
    "#calculate differences between hours only:\n",
    "df['time diff']=df['blood sample - production hour2']-df['Admission Time2']\n",
    "\n",
    "#calculate differences between dates only:\n",
    "df['Days']=df['blood sample - production date2']-df['Admission Date2']\n",
    "\n",
    "#combine day and hour differences:\n",
    "df['total diff']=df['time diff']+df['Days']\n",
    "\n",
    "#convery difference to hours:\n",
    "df['total diff']=df['total diff'].astype('<m8[h]')\n",
    "\n",
    "#organise file and save - this file is for correcting manually!\n",
    "# df=df[['RegistrationCode','total diff']]\n",
    "\n",
    "# get the phenotypic data only for Cardio126 samples and index by BD:\n",
    "TimeToBlood_Cardio126=pd.merge(cardio126regs,df,how='left', left_on='corrected_regCode',right_on='RegistrationCode') ## cardio126regs is from #7\n",
    "print TimeToBlood_Cardio126.shape\n",
    "\n",
    "TimeToBlood_Cardio126=TimeToBlood_Cardio126.rename(columns={'total diff':'timeToBlood(h)'}).set_index('BD')\n",
    "TimeToBlood_Cardio126['timeToBlood(h)_corr']=np.where((TimeToBlood_Cardio126['timeToBlood(h)']>160) | (TimeToBlood_Cardio126['timeToBlood(h)']<0) ,np.nan,TimeToBlood_Cardio126['timeToBlood(h)'])\n",
    "\n",
    "# print TimeToBlood_Cardio126['timeToBlood(h)'].value_counts(dropna=False)\n",
    "print TimeToBlood_Cardio126.head(10)\n",
    "#save file:\n",
    "TimeToBlood_Cardio126.to_excel('%s/TCR_real_data/CardioSamples/phenotypicData/TimeToBlood2_fullCalcs.xlsx' %MyPath)\n",
    "\n",
    "\n"
   ]
  },
  {
   "cell_type": "markdown",
   "metadata": {},
   "source": [
    "this dataframe was saved to excel and then manipulated manually to yield timeToBlood_final"
   ]
  },
  {
   "cell_type": "markdown",
   "metadata": {},
   "source": [
    "## calculate timeToBlood_categorial:"
   ]
  },
  {
   "cell_type": "code",
   "execution_count": null,
   "metadata": {
    "ExecuteTime": {
     "end_time": "2019-02-06T11:35:23.826981Z",
     "start_time": "2019-02-06T11:35:23.768563Z"
    }
   },
   "outputs": [],
   "source": [
    "timeToBlood_Final=pd.read_excel('%s/TCR_real_data/CardioSamples/phenotypicData/TimeToBlood2_Final.xlsx' %MyPath)\n",
    "timeToBlood_Final.head()"
   ]
  },
  {
   "cell_type": "code",
   "execution_count": null,
   "metadata": {
    "ExecuteTime": {
     "end_time": "2019-02-06T11:35:25.150078Z",
     "start_time": "2019-02-06T11:35:24.946013Z"
    }
   },
   "outputs": [],
   "source": [
    "timeToBlood_Final2=timeToBlood_Final\n",
    "timeToBlood_Final2['timeToBlood_cat']=pd.cut(timeToBlood_Final2['timeToBlood(h)_corr'], [0,8,24,48,72,9999], right=False, labels=['0_7','8_23','24_47','48_71','72+'])\n",
    "print timeToBlood_Final2['timeToBlood_cat'].value_counts(dropna=False)\n",
    "timeToBlood_Final2=timeToBlood_Final2.drop('timeToBlood(h)_corr',axis=1)\n",
    "timeToBlood_Final2.to_excel('%s/TCR_real_data/CardioSamples/phenotypicData/TimeToBlood2_cat.xlsx' %MyPath)\n",
    "timeToBlood_Final2.head()"
   ]
  },
  {
   "cell_type": "markdown",
   "metadata": {},
   "source": [
    "# generating correct ostial phenotype and n of vessles phenotype:"
   ]
  },
  {
   "cell_type": "code",
   "execution_count": null,
   "metadata": {
    "ExecuteTime": {
     "end_time": "2019-03-20T15:28:34.980110Z",
     "start_time": "2019-03-20T15:28:34.909005Z"
    }
   },
   "outputs": [],
   "source": [
    "f1='/net/mraid08/export/genie/Lab/Personal/ShaniBAF/TCR_real_data/CardioSamples/phenotypicData/OstialCorrect_nVessels.xlsx'\n",
    "ost_n_vessles=pd.read_excel(f1)\n",
    "print ost_n_vessles['RegistrationCode'].dtype\n",
    "ost_n_vessles=ost_n_vessles.set_index('RegistrationCode')\n",
    "ost_n_vessles.head()\n"
   ]
  },
  {
   "cell_type": "code",
   "execution_count": null,
   "metadata": {
    "ExecuteTime": {
     "end_time": "2019-03-20T15:28:35.328067Z",
     "start_time": "2019-03-20T15:28:35.319616Z"
    }
   },
   "outputs": [],
   "source": [
    "#load Cardio126 sample list:\n",
    "with open('/net/mraid08/export/genie/Lab/Personal/ShaniBAF/Sample files/BD lists/Cardio126','rb') as fp:\n",
    "    Cardio126=pickle.load(fp)\n",
    "Cardio126 [:5]"
   ]
  },
  {
   "cell_type": "code",
   "execution_count": null,
   "metadata": {
    "ExecuteTime": {
     "end_time": "2019-03-20T15:28:35.904589Z",
     "start_time": "2019-03-20T15:28:35.554826Z"
    }
   },
   "outputs": [],
   "source": [
    "#load BD SAMPLE FILE:\n",
    "f1 = '/net/mraid08/export/genie/Lab/Personal/ShaniBAF/Sample files/updatedBDandFDlists/BDfile_31052018.xlsx'          \n",
    "BDfile = pd.read_excel(f1)\n",
    "print BDfile['corrected_regCode'].dtype\n",
    "BDfile.head()"
   ]
  },
  {
   "cell_type": "code",
   "execution_count": null,
   "metadata": {
    "ExecuteTime": {
     "end_time": "2019-03-20T15:28:36.137070Z",
     "start_time": "2019-03-20T15:28:36.126701Z"
    }
   },
   "outputs": [],
   "source": [
    "BDfile_small=BDfile[['DnaID','corrected_regCode']]\n",
    "print len(BDfile_small)\n",
    "BDfile_small=BDfile_small.drop_duplicates()\n",
    "BDfile_small=BDfile_small.rename(columns={'DnaID':'BD'})\n",
    "BDfile_small.head()\n",
    "print len(BDfile_small)"
   ]
  },
  {
   "cell_type": "code",
   "execution_count": null,
   "metadata": {
    "ExecuteTime": {
     "end_time": "2019-03-20T15:28:36.344269Z",
     "start_time": "2019-03-20T15:28:36.330420Z"
    }
   },
   "outputs": [],
   "source": [
    "cardio126regs=BDfile_small[BDfile_small['BD'].isin(Cardio126)]\n",
    "print len(cardio126regs)\n",
    "cardio126regs.head()"
   ]
  },
  {
   "cell_type": "code",
   "execution_count": null,
   "metadata": {
    "ExecuteTime": {
     "end_time": "2019-03-20T15:28:36.366165Z",
     "start_time": "2019-03-20T15:28:36.346648Z"
    }
   },
   "outputs": [],
   "source": [
    "# get the phenotypic data only for Cardio126 samples and index by BD:\n",
    "ost_n_vessles_bd=pd.merge(cardio126regs,ost_n_vessles,how='left', left_on='corrected_regCode',right_index=True)\n",
    "print ost_n_vessles_bd.shape\n",
    "\n",
    "ost_n_vessles_bd.head()"
   ]
  },
  {
   "cell_type": "code",
   "execution_count": null,
   "metadata": {
    "ExecuteTime": {
     "end_time": "2019-03-20T15:28:37.032892Z",
     "start_time": "2019-03-20T15:28:37.005116Z"
    }
   },
   "outputs": [],
   "source": [
    "ost_n_vessles_bd=ost_n_vessles_bd.drop('corrected_regCode',axis=1).set_index('BD')\n",
    "ost_n_vessles_bd.head()"
   ]
  },
  {
   "cell_type": "code",
   "execution_count": null,
   "metadata": {
    "ExecuteTime": {
     "end_time": "2019-03-20T15:28:39.910023Z",
     "start_time": "2019-03-20T15:28:39.885117Z"
    }
   },
   "outputs": [],
   "source": [
    "ost_n_vessles_bd=ost_n_vessles_bd.rename(columns={'number of vessels - disease':'nVessles_disease','ostial disease 3-6 (yes=1;no=0)':'OstialDiseaseCorrect_binary'})\n",
    "ost_n_vessles_bd.head()\n"
   ]
  },
  {
   "cell_type": "code",
   "execution_count": null,
   "metadata": {
    "ExecuteTime": {
     "end_time": "2019-03-20T15:31:15.837340Z",
     "start_time": "2019-03-20T15:31:15.790382Z"
    }
   },
   "outputs": [],
   "source": [
    "ost_n_vessles_bd['nVessles_disease_binary']=np.where(ost_n_vessles_bd['nVessles_disease']>1,1,0)\n",
    "print ost_n_vessles_bd.shape\n",
    "ost_n_vessles_bd = ost_n_vessles_bd.reset_index().drop_duplicates(subset='BD', keep='last').set_index('BD')\n",
    "print ost_n_vessles_bd.shape\n",
    "ost_n_vessles_bd.head()"
   ]
  },
  {
   "cell_type": "code",
   "execution_count": null,
   "metadata": {
    "ExecuteTime": {
     "end_time": "2019-03-20T15:31:19.842352Z",
     "start_time": "2019-03-20T15:31:19.814092Z"
    }
   },
   "outputs": [],
   "source": [
    "ost_n_vessles_bd.loc[['BD1045','BD1047'],:]"
   ]
  },
  {
   "cell_type": "code",
   "execution_count": null,
   "metadata": {
    "ExecuteTime": {
     "end_time": "2019-03-20T15:31:23.628442Z",
     "start_time": "2019-03-20T15:31:23.605292Z"
    }
   },
   "outputs": [],
   "source": [
    "for col in ost_n_vessles_bd.columns:\n",
    "    print col\n",
    "    print ost_n_vessles_bd[col].value_counts(dropna=False)\n"
   ]
  },
  {
   "cell_type": "code",
   "execution_count": null,
   "metadata": {
    "ExecuteTime": {
     "end_time": "2019-03-20T15:32:05.732503Z",
     "start_time": "2019-03-20T15:32:05.609785Z"
    }
   },
   "outputs": [],
   "source": [
    "for col in ost_n_vessles_bd.columns:\n",
    "    print col\n",
    "    print ost_n_vessles_bd[col].shape\n",
    "    ost_n_vessles_bd[col].to_excel('/net/mraid08/export/genie/Lab/Personal/ShaniBAF/TCR_real_data/CardioSamples/\\\n",
    "phenotypicData/%s.xlsx' %col)"
   ]
  },
  {
   "cell_type": "code",
   "execution_count": null,
   "metadata": {
    "ExecuteTime": {
     "end_time": "2019-03-20T15:28:21.171405Z",
     "start_time": "2019-03-20T15:28:21.157697Z"
    }
   },
   "outputs": [],
   "source": [
    "ost_n_vessles_bd.loc['BD1047',:]"
   ]
  },
  {
   "cell_type": "markdown",
   "metadata": {},
   "source": [
    "# generate new discahrge phenotype"
   ]
  },
  {
   "cell_type": "markdown",
   "metadata": {},
   "source": [
    "originally, all medications are listed as 'admission' or discharge'.\n",
    "I will now categorize them as chronic (=admission) or acute (=discharge but not admission)"
   ]
  },
  {
   "cell_type": "markdown",
   "metadata": {},
   "source": [
    "1. merge original database with BD\n",
    "2. select only admission phenotypes and check for # positive. make sure I tested all admission that was needed\n",
    "3. generate the acute medication phenotypes and check for % positive\n",
    "4. select phenotypes for futher analysis\n",
    "5. make original predictions using old without age and gender, new without, new with (\"old new\") / XGB or logReg and choose predictions to continue with. "
   ]
  },
  {
   "cell_type": "markdown",
   "metadata": {},
   "source": [
    "## read original database and merge with BD:"
   ]
  },
  {
   "cell_type": "code",
   "execution_count": 26,
   "metadata": {
    "ExecuteTime": {
     "end_time": "2019-05-15T17:21:21.065816Z",
     "start_time": "2019-05-15T17:21:21.034078Z"
    }
   },
   "outputs": [],
   "source": [
    "def merge_with_cardioBD(phenDF):\n",
    "    #load Cardio126 sample list:\n",
    "    with open('/net/mraid08/export/genie/Lab/Personal/ShaniBAF/Sample files/BD lists/Cardio126','rb') as fp:\n",
    "        Cardio126=pickle.load(fp)\n",
    "    #load BD SAMPLE FILE:\n",
    "    f1 = '/net/mraid08/export/genie/Lab/Personal/ShaniBAF/Sample files/updatedBDandFDlists/BDfile_31052018.xlsx'          \n",
    "    BDfile = pd.read_excel(f1)\n",
    "    \n",
    "    BDfile_small=BDfile[['DnaID','corrected_regCode']]\n",
    "#     print len(BDfile_small)\n",
    "    BDfile_small=BDfile_small.drop_duplicates()\n",
    "    BDfile_small=BDfile_small.rename(columns={'DnaID':'BD'})\n",
    "    \n",
    "    cardio126regs=BDfile_small[BDfile_small['BD'].isin(Cardio126)]\n",
    "    \n",
    "    # get the phenotypic data only for Cardio126 samples and index by BD:\n",
    "    phen_with_cardioBD=pd.merge(cardio126regs,phenDF,how='left', left_on='corrected_regCode',right_index=True)\n",
    "    phen_with_cardioBD=phen_with_cardioBD.drop('corrected_regCode',axis=1).set_index('BD')\n",
    "    \n",
    "    print ('phen_with_cardioBD.shape: ',phen_with_cardioBD.shape)\n",
    "    if phen_with_cardioBD.shape[0]==126:\n",
    "        print 'df length is ok'\n",
    "    else:\n",
    "        print phen_with_cardioBD.head()\n",
    "        print 'df length is not 126, removing duplicates:'\n",
    "        print 'those are the duplicates:'\n",
    "        phen_with_cardioBD = phen_with_cardioBD.reset_index()\n",
    "        print phen_with_cardioBD[phen_with_cardioBD.duplicated(subset='BD', keep=False)]\n",
    "        phen_with_cardioBD = phen_with_cardioBD.reset_index().drop_duplicates(subset='BD', keep='last').set_index('BD')\n",
    "        print ('phen_with_cardioBD.shape now is: ',phen_with_cardioBD.shape)\n",
    " \n",
    "    \n",
    "    return phen_with_cardioBD\n",
    "        \n",
    "    \n",
    "    "
   ]
  },
  {
   "cell_type": "markdown",
   "metadata": {},
   "source": [
    "## get only admission and discharge columns:"
   ]
  },
  {
   "cell_type": "code",
   "execution_count": 3,
   "metadata": {
    "ExecuteTime": {
     "end_time": "2019-05-15T17:09:36.433430Z",
     "start_time": "2019-05-15T17:09:35.522336Z"
    }
   },
   "outputs": [
    {
     "data": {
      "text/html": [
       "<div>\n",
       "<style scoped>\n",
       "    .dataframe tbody tr th:only-of-type {\n",
       "        vertical-align: middle;\n",
       "    }\n",
       "\n",
       "    .dataframe tbody tr th {\n",
       "        vertical-align: top;\n",
       "    }\n",
       "\n",
       "    .dataframe thead th {\n",
       "        text-align: right;\n",
       "    }\n",
       "</style>\n",
       "<table border=\"1\" class=\"dataframe\">\n",
       "  <thead>\n",
       "    <tr style=\"text-align: right;\">\n",
       "      <th></th>\n",
       "      <th>ID</th>\n",
       "      <th>Timestamp</th>\n",
       "      <th>Hospital</th>\n",
       "      <th>Admission Date</th>\n",
       "      <th>Admission Time</th>\n",
       "      <th>Discharge Date</th>\n",
       "      <th>Gender</th>\n",
       "      <th>Date of Birth</th>\n",
       "      <th>Religion</th>\n",
       "      <th>Marital Status</th>\n",
       "      <th>...</th>\n",
       "      <th>Discharge AADs</th>\n",
       "      <th>Discharge Statins</th>\n",
       "      <th>Discharge PPI</th>\n",
       "      <th>Discharge Insulin</th>\n",
       "      <th>Discharge Sulfunylurea</th>\n",
       "      <th>Discharge Merformin</th>\n",
       "      <th>Discharge DPP-4 Blockers</th>\n",
       "      <th>Discharge GLP-1 Analogs</th>\n",
       "      <th>Discharge SGLT-2 Blockers</th>\n",
       "      <th>Discharge Medications</th>\n",
       "    </tr>\n",
       "    <tr>\n",
       "      <th>RegistrationCode</th>\n",
       "      <th></th>\n",
       "      <th></th>\n",
       "      <th></th>\n",
       "      <th></th>\n",
       "      <th></th>\n",
       "      <th></th>\n",
       "      <th></th>\n",
       "      <th></th>\n",
       "      <th></th>\n",
       "      <th></th>\n",
       "      <th></th>\n",
       "      <th></th>\n",
       "      <th></th>\n",
       "      <th></th>\n",
       "      <th></th>\n",
       "      <th></th>\n",
       "      <th></th>\n",
       "      <th></th>\n",
       "      <th></th>\n",
       "      <th></th>\n",
       "      <th></th>\n",
       "    </tr>\n",
       "  </thead>\n",
       "  <tbody>\n",
       "    <tr>\n",
       "      <th>3705508</th>\n",
       "      <td>5549636.0</td>\n",
       "      <td>2017-10-17 17:47:09</td>\n",
       "      <td>1.0</td>\n",
       "      <td>2017-02-17 00:00:00</td>\n",
       "      <td>15:00:00</td>\n",
       "      <td>2017-02-20 00:00:00</td>\n",
       "      <td>1.0</td>\n",
       "      <td>1958-10-21 00:00:00</td>\n",
       "      <td>1.0</td>\n",
       "      <td>9999</td>\n",
       "      <td>...</td>\n",
       "      <td>0.0</td>\n",
       "      <td>1.0</td>\n",
       "      <td>1.0</td>\n",
       "      <td>1.0</td>\n",
       "      <td>0.0</td>\n",
       "      <td>1.0</td>\n",
       "      <td>0.0</td>\n",
       "      <td>0.0</td>\n",
       "      <td>1.0</td>\n",
       "      <td>NaN</td>\n",
       "    </tr>\n",
       "    <tr>\n",
       "      <th>3401349</th>\n",
       "      <td>5470590.0</td>\n",
       "      <td>2017-10-17 18:07:06</td>\n",
       "      <td>1.0</td>\n",
       "      <td>2017-02-21 00:00:00</td>\n",
       "      <td>14:00:00</td>\n",
       "      <td>2017-02-24 00:00:00</td>\n",
       "      <td>1.0</td>\n",
       "      <td>1953-02-23 00:00:00</td>\n",
       "      <td>1.0</td>\n",
       "      <td>1</td>\n",
       "      <td>...</td>\n",
       "      <td>0.0</td>\n",
       "      <td>1.0</td>\n",
       "      <td>0.0</td>\n",
       "      <td>0.0</td>\n",
       "      <td>0.0</td>\n",
       "      <td>0.0</td>\n",
       "      <td>0.0</td>\n",
       "      <td>0.0</td>\n",
       "      <td>0.0</td>\n",
       "      <td>NaN</td>\n",
       "    </tr>\n",
       "    <tr>\n",
       "      <th>3697558</th>\n",
       "      <td>6725342.0</td>\n",
       "      <td>2017-10-17 18:38:37</td>\n",
       "      <td>1.0</td>\n",
       "      <td>2017-02-22 00:00:00</td>\n",
       "      <td>18:00:00</td>\n",
       "      <td>2017-02-24 00:00:00</td>\n",
       "      <td>2.0</td>\n",
       "      <td>1951-11-22 00:00:00</td>\n",
       "      <td>1.0</td>\n",
       "      <td>9999</td>\n",
       "      <td>...</td>\n",
       "      <td>0.0</td>\n",
       "      <td>1.0</td>\n",
       "      <td>1.0</td>\n",
       "      <td>0.0</td>\n",
       "      <td>0.0</td>\n",
       "      <td>0.0</td>\n",
       "      <td>0.0</td>\n",
       "      <td>0.0</td>\n",
       "      <td>0.0</td>\n",
       "      <td>Telfast</td>\n",
       "    </tr>\n",
       "    <tr>\n",
       "      <th>3485604</th>\n",
       "      <td>5397149.0</td>\n",
       "      <td>2017-10-17 18:55:36</td>\n",
       "      <td>1.0</td>\n",
       "      <td>2017-02-26 00:00:00</td>\n",
       "      <td>04:00:00</td>\n",
       "      <td>2017-02-28 00:00:00</td>\n",
       "      <td>1.0</td>\n",
       "      <td>1956-01-05 00:00:00</td>\n",
       "      <td>1.0</td>\n",
       "      <td>1</td>\n",
       "      <td>...</td>\n",
       "      <td>0.0</td>\n",
       "      <td>1.0</td>\n",
       "      <td>1.0</td>\n",
       "      <td>0.0</td>\n",
       "      <td>0.0</td>\n",
       "      <td>0.0</td>\n",
       "      <td>0.0</td>\n",
       "      <td>0.0</td>\n",
       "      <td>0.0</td>\n",
       "      <td>NaN</td>\n",
       "    </tr>\n",
       "    <tr>\n",
       "      <th>3434612</th>\n",
       "      <td>5579533.0</td>\n",
       "      <td>2017-10-17 19:22:35</td>\n",
       "      <td>1.0</td>\n",
       "      <td>2017-03-03 00:00:00</td>\n",
       "      <td>16:00:00</td>\n",
       "      <td>2017-03-06 00:00:00</td>\n",
       "      <td>1.0</td>\n",
       "      <td>1959-09-19 00:00:00</td>\n",
       "      <td>2.0</td>\n",
       "      <td>1</td>\n",
       "      <td>...</td>\n",
       "      <td>0.0</td>\n",
       "      <td>1.0</td>\n",
       "      <td>0.0</td>\n",
       "      <td>0.0</td>\n",
       "      <td>1.0</td>\n",
       "      <td>1.0</td>\n",
       "      <td>0.0</td>\n",
       "      <td>0.0</td>\n",
       "      <td>0.0</td>\n",
       "      <td>Eltroxin</td>\n",
       "    </tr>\n",
       "  </tbody>\n",
       "</table>\n",
       "<p>5 rows × 221 columns</p>\n",
       "</div>"
      ],
      "text/plain": [
       "                         ID           Timestamp  Hospital  \\\n",
       "RegistrationCode                                            \n",
       "3705508           5549636.0 2017-10-17 17:47:09       1.0   \n",
       "3401349           5470590.0 2017-10-17 18:07:06       1.0   \n",
       "3697558           6725342.0 2017-10-17 18:38:37       1.0   \n",
       "3485604           5397149.0 2017-10-17 18:55:36       1.0   \n",
       "3434612           5579533.0 2017-10-17 19:22:35       1.0   \n",
       "\n",
       "                       Admission Date Admission Time       Discharge Date  \\\n",
       "RegistrationCode                                                            \n",
       "3705508           2017-02-17 00:00:00       15:00:00  2017-02-20 00:00:00   \n",
       "3401349           2017-02-21 00:00:00       14:00:00  2017-02-24 00:00:00   \n",
       "3697558           2017-02-22 00:00:00       18:00:00  2017-02-24 00:00:00   \n",
       "3485604           2017-02-26 00:00:00       04:00:00  2017-02-28 00:00:00   \n",
       "3434612           2017-03-03 00:00:00       16:00:00  2017-03-06 00:00:00   \n",
       "\n",
       "                  Gender        Date of Birth  Religion Marital Status  \\\n",
       "RegistrationCode                                                         \n",
       "3705508              1.0  1958-10-21 00:00:00       1.0           9999   \n",
       "3401349              1.0  1953-02-23 00:00:00       1.0              1   \n",
       "3697558              2.0  1951-11-22 00:00:00       1.0           9999   \n",
       "3485604              1.0  1956-01-05 00:00:00       1.0              1   \n",
       "3434612              1.0  1959-09-19 00:00:00       2.0              1   \n",
       "\n",
       "                          ...            Discharge AADs  Discharge Statins  \\\n",
       "RegistrationCode          ...                                                \n",
       "3705508                   ...                       0.0                1.0   \n",
       "3401349                   ...                       0.0                1.0   \n",
       "3697558                   ...                       0.0                1.0   \n",
       "3485604                   ...                       0.0                1.0   \n",
       "3434612                   ...                       0.0                1.0   \n",
       "\n",
       "                  Discharge PPI  Discharge Insulin  Discharge Sulfunylurea  \\\n",
       "RegistrationCode                                                             \n",
       "3705508                     1.0                1.0                     0.0   \n",
       "3401349                     0.0                0.0                     0.0   \n",
       "3697558                     1.0                0.0                     0.0   \n",
       "3485604                     1.0                0.0                     0.0   \n",
       "3434612                     0.0                0.0                     1.0   \n",
       "\n",
       "                  Discharge Merformin  Discharge DPP-4 Blockers  \\\n",
       "RegistrationCode                                                  \n",
       "3705508                           1.0                       0.0   \n",
       "3401349                           0.0                       0.0   \n",
       "3697558                           0.0                       0.0   \n",
       "3485604                           0.0                       0.0   \n",
       "3434612                           1.0                       0.0   \n",
       "\n",
       "                  Discharge GLP-1 Analogs Discharge SGLT-2 Blockers  \\\n",
       "RegistrationCode                                                      \n",
       "3705508                               0.0                       1.0   \n",
       "3401349                               0.0                       0.0   \n",
       "3697558                               0.0                       0.0   \n",
       "3485604                               0.0                       0.0   \n",
       "3434612                               0.0                       0.0   \n",
       "\n",
       "                  Discharge Medications  \n",
       "RegistrationCode                         \n",
       "3705508                             NaN  \n",
       "3401349                             NaN  \n",
       "3697558                         Telfast  \n",
       "3485604                             NaN  \n",
       "3434612                        Eltroxin  \n",
       "\n",
       "[5 rows x 221 columns]"
      ]
     },
     "execution_count": 3,
     "metadata": {},
     "output_type": "execute_result"
    }
   ],
   "source": [
    "f2='/net/mraid08/export/genie/Lab/Personal/ShaniBAF/TCR_real_data/CardioSamples/phenotypicData/Medical_database_20-08-2018.xlsx'\n",
    "Medical_database=pd.read_excel(f2).set_index('RegistrationCode')\n",
    "Medical_database.head()"
   ]
  },
  {
   "cell_type": "code",
   "execution_count": 4,
   "metadata": {
    "ExecuteTime": {
     "end_time": "2019-05-15T17:09:37.193971Z",
     "start_time": "2019-05-15T17:09:37.186518Z"
    }
   },
   "outputs": [
    {
     "name": "stdout",
     "output_type": "stream",
     "text": [
      "[u'Admission Date', u'Admission Time', u'Discharge Date', u'Admission Statins', u'Admission Beta Blockers', u'Admission PPI', u'Admission ACEI', u'Admission ARB', u'Admission Spironolactone', u'Admission AADs', u'Admission Calcium Channel Blockers', u'Admission Nitrates', u'Admission Diuretics', u'Admission Insulin', u'Admission Sulfunylurea', u'Admission Metformin', u'Admission DPP-4 Blockers', u'Admission GLP-1 Analogs', u'Admission SGLT-2 Blockers', u'Admission Aspirin', u'Admission Clopidogrel', u'Admission Ticagrelor', u'Admission Prasugrel', u'Admission Warfarin', u'Admission NOACs', u'Admission LMWH', u'Admission Medications', u'Admission Diagnosis', u'Admission Systolic BP', u'Admission Diastolic BP', u'Admission Pulse Rate', u'Admission Saturation', u'Admission Saturation Value', u'Admission Temperature', u'Admission ECG', u'Discharge Aspirin', u'Discharge Clopidogrel', u'Discharge Ticagrelor', u'Discharge Prasugrel', u'Discharge Warfarin', u'Discharge Apixaban', u'Discharge Dabigatran', u'Discharge Rivaroxaban', u'Discharge LMWH', u'Discharge ACEI', u'Discharge ARB', u'Discharge Beta Blockes', u'Discharge Spironolactone', u'Discharge Diuretics', u'Discharge Calcium Channel Blockers', u'Discharge Nitrates', u'Discharge AADs', u'Discharge Statins', u'Discharge PPI', u'Discharge Insulin', u'Discharge Sulfunylurea', u'Discharge Merformin', u'Discharge DPP-4 Blockers', u'Discharge GLP-1 Analogs', u'Discharge SGLT-2 Blockers', u'Discharge Medications']\n"
     ]
    }
   ],
   "source": [
    "cols=[col for col in Medical_database.columns if ('Admission' in col) or ('Discharge' in col) or ('RegistrationCode' in col)]\n",
    "print cols"
   ]
  },
  {
   "cell_type": "code",
   "execution_count": 5,
   "metadata": {
    "ExecuteTime": {
     "end_time": "2019-05-15T17:09:37.557536Z",
     "start_time": "2019-05-15T17:09:37.551020Z"
    }
   },
   "outputs": [
    {
     "name": "stdout",
     "output_type": "stream",
     "text": [
      "(164, 61)\n"
     ]
    }
   ],
   "source": [
    "Medical_database_drugs=Medical_database[cols]\n",
    "print Medical_database_drugs.shape"
   ]
  },
  {
   "cell_type": "code",
   "execution_count": 6,
   "metadata": {
    "ExecuteTime": {
     "end_time": "2019-05-15T17:09:38.946609Z",
     "start_time": "2019-05-15T17:09:38.932277Z"
    }
   },
   "outputs": [
    {
     "name": "stdout",
     "output_type": "stream",
     "text": [
      "(164, 55)\n"
     ]
    }
   ],
   "source": [
    "cols2=[col for col in Medical_database_drugs.columns if ('Date' not in col) and ('Time' not in col) and \\\n",
    "('Diagnosis' not in col) and ('Medications' not in col)]\n",
    "Medical_database_drugs=Medical_database_drugs[cols2]\n",
    "print Medical_database_drugs.shape"
   ]
  },
  {
   "cell_type": "code",
   "execution_count": null,
   "metadata": {},
   "outputs": [],
   "source": []
  },
  {
   "cell_type": "code",
   "execution_count": null,
   "metadata": {},
   "outputs": [],
   "source": []
  },
  {
   "cell_type": "code",
   "execution_count": 12,
   "metadata": {
    "ExecuteTime": {
     "end_time": "2019-05-15T17:16:06.240347Z",
     "start_time": "2019-05-15T17:16:05.832599Z"
    }
   },
   "outputs": [
    {
     "name": "stdout",
     "output_type": "stream",
     "text": [
      "('phen_with_cardioBD.shape: ', (126, 55))\n",
      "df length is ok\n",
      "(126, 55)\n"
     ]
    },
    {
     "data": {
      "text/html": [
       "<div>\n",
       "<style scoped>\n",
       "    .dataframe tbody tr th:only-of-type {\n",
       "        vertical-align: middle;\n",
       "    }\n",
       "\n",
       "    .dataframe tbody tr th {\n",
       "        vertical-align: top;\n",
       "    }\n",
       "\n",
       "    .dataframe thead th {\n",
       "        text-align: right;\n",
       "    }\n",
       "</style>\n",
       "<table border=\"1\" class=\"dataframe\">\n",
       "  <thead>\n",
       "    <tr style=\"text-align: right;\">\n",
       "      <th></th>\n",
       "      <th>Admission Statins</th>\n",
       "      <th>Admission Beta Blockers</th>\n",
       "      <th>Admission PPI</th>\n",
       "      <th>Admission ACEI</th>\n",
       "      <th>Admission ARB</th>\n",
       "      <th>Admission Spironolactone</th>\n",
       "      <th>Admission AADs</th>\n",
       "      <th>Admission Calcium Channel Blockers</th>\n",
       "      <th>Admission Nitrates</th>\n",
       "      <th>Admission Diuretics</th>\n",
       "      <th>...</th>\n",
       "      <th>Discharge Nitrates</th>\n",
       "      <th>Discharge AADs</th>\n",
       "      <th>Discharge Statins</th>\n",
       "      <th>Discharge PPI</th>\n",
       "      <th>Discharge Insulin</th>\n",
       "      <th>Discharge Sulfunylurea</th>\n",
       "      <th>Discharge Merformin</th>\n",
       "      <th>Discharge DPP-4 Blockers</th>\n",
       "      <th>Discharge GLP-1 Analogs</th>\n",
       "      <th>Discharge SGLT-2 Blockers</th>\n",
       "    </tr>\n",
       "    <tr>\n",
       "      <th>BD</th>\n",
       "      <th></th>\n",
       "      <th></th>\n",
       "      <th></th>\n",
       "      <th></th>\n",
       "      <th></th>\n",
       "      <th></th>\n",
       "      <th></th>\n",
       "      <th></th>\n",
       "      <th></th>\n",
       "      <th></th>\n",
       "      <th></th>\n",
       "      <th></th>\n",
       "      <th></th>\n",
       "      <th></th>\n",
       "      <th></th>\n",
       "      <th></th>\n",
       "      <th></th>\n",
       "      <th></th>\n",
       "      <th></th>\n",
       "      <th></th>\n",
       "      <th></th>\n",
       "    </tr>\n",
       "  </thead>\n",
       "  <tbody>\n",
       "    <tr>\n",
       "      <th>BD950</th>\n",
       "      <td>1.0</td>\n",
       "      <td>1.0</td>\n",
       "      <td>1.0</td>\n",
       "      <td>0.0</td>\n",
       "      <td>1.0</td>\n",
       "      <td>0.0</td>\n",
       "      <td>0.0</td>\n",
       "      <td>1.0</td>\n",
       "      <td>0.0</td>\n",
       "      <td>0.0</td>\n",
       "      <td>...</td>\n",
       "      <td>0.0</td>\n",
       "      <td>0.0</td>\n",
       "      <td>1.0</td>\n",
       "      <td>1.0</td>\n",
       "      <td>1.0</td>\n",
       "      <td>0.0</td>\n",
       "      <td>1.0</td>\n",
       "      <td>0.0</td>\n",
       "      <td>0.0</td>\n",
       "      <td>1.0</td>\n",
       "    </tr>\n",
       "    <tr>\n",
       "      <th>BD951</th>\n",
       "      <td>0.0</td>\n",
       "      <td>0.0</td>\n",
       "      <td>0.0</td>\n",
       "      <td>0.0</td>\n",
       "      <td>0.0</td>\n",
       "      <td>0.0</td>\n",
       "      <td>0.0</td>\n",
       "      <td>0.0</td>\n",
       "      <td>0.0</td>\n",
       "      <td>0.0</td>\n",
       "      <td>...</td>\n",
       "      <td>0.0</td>\n",
       "      <td>0.0</td>\n",
       "      <td>1.0</td>\n",
       "      <td>0.0</td>\n",
       "      <td>0.0</td>\n",
       "      <td>0.0</td>\n",
       "      <td>0.0</td>\n",
       "      <td>0.0</td>\n",
       "      <td>0.0</td>\n",
       "      <td>0.0</td>\n",
       "    </tr>\n",
       "    <tr>\n",
       "      <th>BD952</th>\n",
       "      <td>1.0</td>\n",
       "      <td>0.0</td>\n",
       "      <td>1.0</td>\n",
       "      <td>0.0</td>\n",
       "      <td>0.0</td>\n",
       "      <td>0.0</td>\n",
       "      <td>0.0</td>\n",
       "      <td>0.0</td>\n",
       "      <td>0.0</td>\n",
       "      <td>0.0</td>\n",
       "      <td>...</td>\n",
       "      <td>0.0</td>\n",
       "      <td>0.0</td>\n",
       "      <td>1.0</td>\n",
       "      <td>1.0</td>\n",
       "      <td>0.0</td>\n",
       "      <td>0.0</td>\n",
       "      <td>0.0</td>\n",
       "      <td>0.0</td>\n",
       "      <td>0.0</td>\n",
       "      <td>0.0</td>\n",
       "    </tr>\n",
       "    <tr>\n",
       "      <th>BD953</th>\n",
       "      <td>0.0</td>\n",
       "      <td>0.0</td>\n",
       "      <td>0.0</td>\n",
       "      <td>0.0</td>\n",
       "      <td>0.0</td>\n",
       "      <td>0.0</td>\n",
       "      <td>0.0</td>\n",
       "      <td>0.0</td>\n",
       "      <td>0.0</td>\n",
       "      <td>0.0</td>\n",
       "      <td>...</td>\n",
       "      <td>0.0</td>\n",
       "      <td>0.0</td>\n",
       "      <td>1.0</td>\n",
       "      <td>1.0</td>\n",
       "      <td>0.0</td>\n",
       "      <td>0.0</td>\n",
       "      <td>0.0</td>\n",
       "      <td>0.0</td>\n",
       "      <td>0.0</td>\n",
       "      <td>0.0</td>\n",
       "    </tr>\n",
       "    <tr>\n",
       "      <th>BD955</th>\n",
       "      <td>1.0</td>\n",
       "      <td>1.0</td>\n",
       "      <td>0.0</td>\n",
       "      <td>1.0</td>\n",
       "      <td>0.0</td>\n",
       "      <td>0.0</td>\n",
       "      <td>0.0</td>\n",
       "      <td>0.0</td>\n",
       "      <td>0.0</td>\n",
       "      <td>0.0</td>\n",
       "      <td>...</td>\n",
       "      <td>0.0</td>\n",
       "      <td>0.0</td>\n",
       "      <td>1.0</td>\n",
       "      <td>0.0</td>\n",
       "      <td>0.0</td>\n",
       "      <td>0.0</td>\n",
       "      <td>0.0</td>\n",
       "      <td>0.0</td>\n",
       "      <td>0.0</td>\n",
       "      <td>0.0</td>\n",
       "    </tr>\n",
       "  </tbody>\n",
       "</table>\n",
       "<p>5 rows × 55 columns</p>\n",
       "</div>"
      ],
      "text/plain": [
       "       Admission Statins  Admission Beta Blockers  Admission PPI  \\\n",
       "BD                                                                 \n",
       "BD950                1.0                      1.0            1.0   \n",
       "BD951                0.0                      0.0            0.0   \n",
       "BD952                1.0                      0.0            1.0   \n",
       "BD953                0.0                      0.0            0.0   \n",
       "BD955                1.0                      1.0            0.0   \n",
       "\n",
       "       Admission ACEI  Admission ARB  Admission Spironolactone  \\\n",
       "BD                                                               \n",
       "BD950             0.0            1.0                       0.0   \n",
       "BD951             0.0            0.0                       0.0   \n",
       "BD952             0.0            0.0                       0.0   \n",
       "BD953             0.0            0.0                       0.0   \n",
       "BD955             1.0            0.0                       0.0   \n",
       "\n",
       "       Admission AADs  Admission Calcium Channel Blockers  Admission Nitrates  \\\n",
       "BD                                                                              \n",
       "BD950             0.0                                 1.0                 0.0   \n",
       "BD951             0.0                                 0.0                 0.0   \n",
       "BD952             0.0                                 0.0                 0.0   \n",
       "BD953             0.0                                 0.0                 0.0   \n",
       "BD955             0.0                                 0.0                 0.0   \n",
       "\n",
       "       Admission Diuretics            ...              Discharge Nitrates  \\\n",
       "BD                                    ...                                   \n",
       "BD950                  0.0            ...                             0.0   \n",
       "BD951                  0.0            ...                             0.0   \n",
       "BD952                  0.0            ...                             0.0   \n",
       "BD953                  0.0            ...                             0.0   \n",
       "BD955                  0.0            ...                             0.0   \n",
       "\n",
       "       Discharge AADs  Discharge Statins  Discharge PPI  Discharge Insulin  \\\n",
       "BD                                                                           \n",
       "BD950             0.0                1.0            1.0                1.0   \n",
       "BD951             0.0                1.0            0.0                0.0   \n",
       "BD952             0.0                1.0            1.0                0.0   \n",
       "BD953             0.0                1.0            1.0                0.0   \n",
       "BD955             0.0                1.0            0.0                0.0   \n",
       "\n",
       "       Discharge Sulfunylurea  Discharge Merformin  Discharge DPP-4 Blockers  \\\n",
       "BD                                                                             \n",
       "BD950                     0.0                  1.0                       0.0   \n",
       "BD951                     0.0                  0.0                       0.0   \n",
       "BD952                     0.0                  0.0                       0.0   \n",
       "BD953                     0.0                  0.0                       0.0   \n",
       "BD955                     0.0                  0.0                       0.0   \n",
       "\n",
       "       Discharge GLP-1 Analogs  Discharge SGLT-2 Blockers  \n",
       "BD                                                         \n",
       "BD950                      0.0                        1.0  \n",
       "BD951                      0.0                        0.0  \n",
       "BD952                      0.0                        0.0  \n",
       "BD953                      0.0                        0.0  \n",
       "BD955                      0.0                        0.0  \n",
       "\n",
       "[5 rows x 55 columns]"
      ]
     },
     "execution_count": 12,
     "metadata": {},
     "output_type": "execute_result"
    }
   ],
   "source": [
    "Medical_database_drugs_CardioBD=merge_with_cardioBD(Medical_database_drugs)\n",
    "print Medical_database_drugs_CardioBD.shape\n",
    "Medical_database_drugs_CardioBD.head()"
   ]
  },
  {
   "cell_type": "code",
   "execution_count": null,
   "metadata": {
    "ExecuteTime": {
     "end_time": "2019-03-23T17:01:58.350767Z",
     "start_time": "2019-03-23T17:01:57.979746Z"
    }
   },
   "outputs": [],
   "source": [
    "df=pd.DataFrame()\n",
    "for col in Medical_database_drugs_CardioBD.columns:\n",
    "#     print col\n",
    "#     print Medical_database_drugs_CardioBD[col].value_counts(dropna=False)\n",
    "    for label in [1.0,0.0,np.nan]:\n",
    "        try:\n",
    "            df.loc[col,label]= Medical_database_drugs_CardioBD[col].value_counts(dropna=False).loc[label]\n",
    "        except:\n",
    "             df.loc[col,label]= np.nan\n",
    "df[df[1.0]>12]"
   ]
  },
  {
   "cell_type": "markdown",
   "metadata": {},
   "source": [
    "conclusions: no admission column is missing!"
   ]
  },
  {
   "cell_type": "markdown",
   "metadata": {},
   "source": [
    "## find columns with admission and discharge info:"
   ]
  },
  {
   "cell_type": "code",
   "execution_count": null,
   "metadata": {
    "ExecuteTime": {
     "end_time": "2019-03-23T17:12:24.236008Z",
     "start_time": "2019-03-23T17:12:23.892949Z"
    }
   },
   "outputs": [],
   "source": [
    "Acute_medication_df=pd.DataFrame(index=Medical_database_drugs_CardioBD.index)\n",
    "cols_to_use=[]\n",
    "for col in Medical_database_drugs_CardioBD.columns:\n",
    "    if 'Discharge' in col:\n",
    "        drug=col.replace('Discharge ','')\n",
    "        print drug\n",
    "        \n",
    "        for col2 in Medical_database_drugs_CardioBD.columns: \n",
    "            if (drug in col2) and ('Admission' in col2):\n",
    "                print col,col2\n",
    "                \n",
    "                Acute=Medical_database_drugs_CardioBD[col]-Medical_database_drugs_CardioBD[col2]\n",
    "                Acute_medication_df=pd.merge(Acute_medication_df,pd.DataFrame(Acute),how='left',left_index=True,right_index=True)\n",
    "                Acute_medication_df=Acute_medication_df.rename(columns={0:'Acute '+drug})\n",
    "                cols_to_use.append(col)\n",
    "                cols_to_use.append(col2)\n",
    "Acute_medication_df=Acute_medication_df.replace(-1.0,0.0)               \n",
    "Acute_medication_df"
   ]
  },
  {
   "cell_type": "code",
   "execution_count": null,
   "metadata": {
    "ExecuteTime": {
     "end_time": "2019-03-23T17:12:25.248214Z",
     "start_time": "2019-03-23T17:12:25.096477Z"
    }
   },
   "outputs": [],
   "source": [
    "df2=pd.DataFrame()\n",
    "for col in Acute_medication_df.columns:\n",
    "\n",
    "    for label in [1.0,0.0,np.nan]:\n",
    "        try:\n",
    "            df2.loc[col,label]= Acute_medication_df[col].value_counts(dropna=False).loc[label]\n",
    "        except:\n",
    "             df2.loc[col,label]= np.nan\n",
    "df2[df2[1.0]>12]"
   ]
  },
  {
   "cell_type": "code",
   "execution_count": null,
   "metadata": {
    "ExecuteTime": {
     "end_time": "2019-03-23T17:12:26.263337Z",
     "start_time": "2019-03-23T17:12:26.109706Z"
    }
   },
   "outputs": [],
   "source": [
    "Acute_medication_phenotypes=Acute_medication_df[df2[df2[1.0]>12].index]\n",
    "Acute_medication_phenotypes.to_excel('/net/mraid08/export/genie/Lab/Personal/ShaniBAF/\\\n",
    "TCR_real_data/CardioSamples/phenotypicData/Acute_medication_phenotypes.xlsx')\n",
    "Acute_medication_phenotypes"
   ]
  },
  {
   "cell_type": "markdown",
   "metadata": {},
   "source": [
    "# outcome phenotypes:"
   ]
  },
  {
   "cell_type": "markdown",
   "metadata": {},
   "source": [
    "## get onlynew outcome columns:"
   ]
  },
  {
   "cell_type": "code",
   "execution_count": 21,
   "metadata": {
    "ExecuteTime": {
     "end_time": "2019-05-15T17:19:40.155786Z",
     "start_time": "2019-05-15T17:19:39.361643Z"
    }
   },
   "outputs": [
    {
     "data": {
      "text/html": [
       "<div>\n",
       "<style scoped>\n",
       "    .dataframe tbody tr th:only-of-type {\n",
       "        vertical-align: middle;\n",
       "    }\n",
       "\n",
       "    .dataframe tbody tr th {\n",
       "        vertical-align: top;\n",
       "    }\n",
       "\n",
       "    .dataframe thead th {\n",
       "        text-align: right;\n",
       "    }\n",
       "</style>\n",
       "<table border=\"1\" class=\"dataframe\">\n",
       "  <thead>\n",
       "    <tr style=\"text-align: right;\">\n",
       "      <th></th>\n",
       "      <th>ID</th>\n",
       "      <th>Timestamp</th>\n",
       "      <th>Hospital</th>\n",
       "      <th>Admission Date</th>\n",
       "      <th>Admission Time</th>\n",
       "      <th>Discharge Date</th>\n",
       "      <th>Gender</th>\n",
       "      <th>Date of Birth</th>\n",
       "      <th>Religion</th>\n",
       "      <th>Marital Status</th>\n",
       "      <th>...</th>\n",
       "      <th>Acute MI</th>\n",
       "      <th>Acute stroke</th>\n",
       "      <th>Acute limb event</th>\n",
       "      <th>Unplanned PCI</th>\n",
       "      <th>New-onset HF</th>\n",
       "      <th>New-onset Afib</th>\n",
       "      <th>CV hospitalization including chest pain</th>\n",
       "      <th>CV death</th>\n",
       "      <th>Non-CV death</th>\n",
       "      <th>all until 1/5/2019</th>\n",
       "    </tr>\n",
       "    <tr>\n",
       "      <th>RegistrationCode</th>\n",
       "      <th></th>\n",
       "      <th></th>\n",
       "      <th></th>\n",
       "      <th></th>\n",
       "      <th></th>\n",
       "      <th></th>\n",
       "      <th></th>\n",
       "      <th></th>\n",
       "      <th></th>\n",
       "      <th></th>\n",
       "      <th></th>\n",
       "      <th></th>\n",
       "      <th></th>\n",
       "      <th></th>\n",
       "      <th></th>\n",
       "      <th></th>\n",
       "      <th></th>\n",
       "      <th></th>\n",
       "      <th></th>\n",
       "      <th></th>\n",
       "      <th></th>\n",
       "    </tr>\n",
       "  </thead>\n",
       "  <tbody>\n",
       "    <tr>\n",
       "      <th>3705508</th>\n",
       "      <td>5549636.0</td>\n",
       "      <td>2017-10-17 17:47:09</td>\n",
       "      <td>1.0</td>\n",
       "      <td>2017-02-17 00:00:00</td>\n",
       "      <td>15:00:00</td>\n",
       "      <td>2017-02-20 00:00:00</td>\n",
       "      <td>1.0</td>\n",
       "      <td>1958-10-21 00:00:00</td>\n",
       "      <td>1.0</td>\n",
       "      <td>9999</td>\n",
       "      <td>...</td>\n",
       "      <td>0.0</td>\n",
       "      <td>0.0</td>\n",
       "      <td>0.0</td>\n",
       "      <td>0.0</td>\n",
       "      <td>0.0</td>\n",
       "      <td>0.0</td>\n",
       "      <td>0.0</td>\n",
       "      <td>0.0</td>\n",
       "      <td>0.0</td>\n",
       "      <td>NaN</td>\n",
       "    </tr>\n",
       "    <tr>\n",
       "      <th>3401349</th>\n",
       "      <td>5470590.0</td>\n",
       "      <td>2017-10-17 18:07:06</td>\n",
       "      <td>1.0</td>\n",
       "      <td>2017-02-21 00:00:00</td>\n",
       "      <td>14:00:00</td>\n",
       "      <td>2017-02-24 00:00:00</td>\n",
       "      <td>1.0</td>\n",
       "      <td>1953-02-23 00:00:00</td>\n",
       "      <td>1.0</td>\n",
       "      <td>1</td>\n",
       "      <td>...</td>\n",
       "      <td>0.0</td>\n",
       "      <td>0.0</td>\n",
       "      <td>0.0</td>\n",
       "      <td>0.0</td>\n",
       "      <td>0.0</td>\n",
       "      <td>0.0</td>\n",
       "      <td>0.0</td>\n",
       "      <td>0.0</td>\n",
       "      <td>0.0</td>\n",
       "      <td>NaN</td>\n",
       "    </tr>\n",
       "    <tr>\n",
       "      <th>3697558</th>\n",
       "      <td>6725342.0</td>\n",
       "      <td>2017-10-17 18:38:37</td>\n",
       "      <td>1.0</td>\n",
       "      <td>2017-02-22 00:00:00</td>\n",
       "      <td>18:00:00</td>\n",
       "      <td>2017-02-24 00:00:00</td>\n",
       "      <td>2.0</td>\n",
       "      <td>1951-11-22 00:00:00</td>\n",
       "      <td>1.0</td>\n",
       "      <td>9999</td>\n",
       "      <td>...</td>\n",
       "      <td>0.0</td>\n",
       "      <td>0.0</td>\n",
       "      <td>0.0</td>\n",
       "      <td>0.0</td>\n",
       "      <td>0.0</td>\n",
       "      <td>0.0</td>\n",
       "      <td>0.0</td>\n",
       "      <td>0.0</td>\n",
       "      <td>0.0</td>\n",
       "      <td>NaN</td>\n",
       "    </tr>\n",
       "    <tr>\n",
       "      <th>3485604</th>\n",
       "      <td>5397149.0</td>\n",
       "      <td>2017-10-17 18:55:36</td>\n",
       "      <td>1.0</td>\n",
       "      <td>2017-02-26 00:00:00</td>\n",
       "      <td>04:00:00</td>\n",
       "      <td>2017-02-28 00:00:00</td>\n",
       "      <td>1.0</td>\n",
       "      <td>1956-01-05 00:00:00</td>\n",
       "      <td>1.0</td>\n",
       "      <td>1</td>\n",
       "      <td>...</td>\n",
       "      <td>0.0</td>\n",
       "      <td>0.0</td>\n",
       "      <td>0.0</td>\n",
       "      <td>0.0</td>\n",
       "      <td>0.0</td>\n",
       "      <td>0.0</td>\n",
       "      <td>0.0</td>\n",
       "      <td>0.0</td>\n",
       "      <td>0.0</td>\n",
       "      <td>NaN</td>\n",
       "    </tr>\n",
       "    <tr>\n",
       "      <th>3434612</th>\n",
       "      <td>5579533.0</td>\n",
       "      <td>2017-10-17 19:22:35</td>\n",
       "      <td>1.0</td>\n",
       "      <td>2017-03-03 00:00:00</td>\n",
       "      <td>16:00:00</td>\n",
       "      <td>2017-03-06 00:00:00</td>\n",
       "      <td>1.0</td>\n",
       "      <td>1959-09-19 00:00:00</td>\n",
       "      <td>2.0</td>\n",
       "      <td>1</td>\n",
       "      <td>...</td>\n",
       "      <td>0.0</td>\n",
       "      <td>0.0</td>\n",
       "      <td>0.0</td>\n",
       "      <td>0.0</td>\n",
       "      <td>0.0</td>\n",
       "      <td>0.0</td>\n",
       "      <td>1.0</td>\n",
       "      <td>0.0</td>\n",
       "      <td>0.0</td>\n",
       "      <td>NaN</td>\n",
       "    </tr>\n",
       "  </tbody>\n",
       "</table>\n",
       "<p>5 rows × 231 columns</p>\n",
       "</div>"
      ],
      "text/plain": [
       "                         ID           Timestamp  Hospital  \\\n",
       "RegistrationCode                                            \n",
       "3705508           5549636.0 2017-10-17 17:47:09       1.0   \n",
       "3401349           5470590.0 2017-10-17 18:07:06       1.0   \n",
       "3697558           6725342.0 2017-10-17 18:38:37       1.0   \n",
       "3485604           5397149.0 2017-10-17 18:55:36       1.0   \n",
       "3434612           5579533.0 2017-10-17 19:22:35       1.0   \n",
       "\n",
       "                       Admission Date Admission Time       Discharge Date  \\\n",
       "RegistrationCode                                                            \n",
       "3705508           2017-02-17 00:00:00       15:00:00  2017-02-20 00:00:00   \n",
       "3401349           2017-02-21 00:00:00       14:00:00  2017-02-24 00:00:00   \n",
       "3697558           2017-02-22 00:00:00       18:00:00  2017-02-24 00:00:00   \n",
       "3485604           2017-02-26 00:00:00       04:00:00  2017-02-28 00:00:00   \n",
       "3434612           2017-03-03 00:00:00       16:00:00  2017-03-06 00:00:00   \n",
       "\n",
       "                  Gender        Date of Birth  Religion Marital Status  \\\n",
       "RegistrationCode                                                         \n",
       "3705508              1.0  1958-10-21 00:00:00       1.0           9999   \n",
       "3401349              1.0  1953-02-23 00:00:00       1.0              1   \n",
       "3697558              2.0  1951-11-22 00:00:00       1.0           9999   \n",
       "3485604              1.0  1956-01-05 00:00:00       1.0              1   \n",
       "3434612              1.0  1959-09-19 00:00:00       2.0              1   \n",
       "\n",
       "                         ...          Acute MI  Acute stroke  \\\n",
       "RegistrationCode         ...                                   \n",
       "3705508                  ...               0.0           0.0   \n",
       "3401349                  ...               0.0           0.0   \n",
       "3697558                  ...               0.0           0.0   \n",
       "3485604                  ...               0.0           0.0   \n",
       "3434612                  ...               0.0           0.0   \n",
       "\n",
       "                  Acute limb event  Unplanned PCI  New-onset HF  \\\n",
       "RegistrationCode                                                  \n",
       "3705508                        0.0            0.0           0.0   \n",
       "3401349                        0.0            0.0           0.0   \n",
       "3697558                        0.0            0.0           0.0   \n",
       "3485604                        0.0            0.0           0.0   \n",
       "3434612                        0.0            0.0           0.0   \n",
       "\n",
       "                  New-onset Afib  CV hospitalization including chest pain  \\\n",
       "RegistrationCode                                                            \n",
       "3705508                      0.0                                      0.0   \n",
       "3401349                      0.0                                      0.0   \n",
       "3697558                      0.0                                      0.0   \n",
       "3485604                      0.0                                      0.0   \n",
       "3434612                      0.0                                      1.0   \n",
       "\n",
       "                  CV death  Non-CV death  all until 1/5/2019  \n",
       "RegistrationCode                                              \n",
       "3705508                0.0           0.0                 NaN  \n",
       "3401349                0.0           0.0                 NaN  \n",
       "3697558                0.0           0.0                 NaN  \n",
       "3485604                0.0           0.0                 NaN  \n",
       "3434612                0.0           0.0                 NaN  \n",
       "\n",
       "[5 rows x 231 columns]"
      ]
     },
     "execution_count": 21,
     "metadata": {},
     "output_type": "execute_result"
    }
   ],
   "source": [
    "f2='/net/mraid08/export/genie/Lab/Personal/ShaniBAF/TCR_real_data/CardioSamples/phenotypicData/Medical_database_13-05-2019.xlsx'\n",
    "new_medical_database=pd.read_excel(f2).set_index('RegistrationCode')\n",
    "new_medical_database.head()"
   ]
  },
  {
   "cell_type": "code",
   "execution_count": 22,
   "metadata": {
    "ExecuteTime": {
     "end_time": "2019-05-15T17:19:41.263088Z",
     "start_time": "2019-05-15T17:19:41.245584Z"
    }
   },
   "outputs": [
    {
     "data": {
      "text/plain": [
       "[u'ID',\n",
       " u'Timestamp',\n",
       " u'Hospital',\n",
       " u'Admission Date',\n",
       " u'Admission Time',\n",
       " u'Discharge Date',\n",
       " u'Gender',\n",
       " u'Date of Birth',\n",
       " u'Religion',\n",
       " u'Marital Status',\n",
       " u'Occupational Status',\n",
       " u'Hypertension',\n",
       " u'Dyslipidemia',\n",
       " u'Glucose Disorder',\n",
       " u'Microvascular Complications',\n",
       " u'Past CVA/TIA',\n",
       " u'Time Elapsed since CVA/TIA (years)',\n",
       " u'PVD',\n",
       " u'Familiy History of CAD',\n",
       " u'Known CAD',\n",
       " u'Previous Angiography',\n",
       " u'Year of Last Angiography',\n",
       " u'Previous PCI',\n",
       " u'Year of Last PCI',\n",
       " u'Previous CABG',\n",
       " u'Year of Last CABG',\n",
       " u'Previous Gestational Diabetes',\n",
       " u'Previous Pre-eclampsia',\n",
       " u'Smoking Status',\n",
       " u'Pack Years',\n",
       " u'Alcohol Consumption',\n",
       " u'Drug Use',\n",
       " u'Drug Type',\n",
       " u'Hospitalization during Past Year',\n",
       " u'Hospitalization Duration in Past 3 Months (days)',\n",
       " u'Last Hospitalization Reason',\n",
       " u'Antibiotic Tx in Last Year',\n",
       " u'Time elapsed from Antibiotic Tx (months)',\n",
       " u'Antiobiotic Tx Duration (days)',\n",
       " u'Antibiotic Name',\n",
       " u'Admission Statins',\n",
       " u'Admission Beta Blockers',\n",
       " u'Admission PPI',\n",
       " u'Admission ACEI',\n",
       " u'Admission ARB',\n",
       " u'Admission Spironolactone',\n",
       " u'Admission AADs',\n",
       " u'Admission Calcium Channel Blockers',\n",
       " u'Admission Nitrates',\n",
       " u'Admission Diuretics',\n",
       " u'Admission Insulin',\n",
       " u'Admission Sulfunylurea',\n",
       " u'Admission Metformin',\n",
       " u'Admission DPP-4 Blockers',\n",
       " u'Admission GLP-1 Analogs',\n",
       " u'Admission SGLT-2 Blockers',\n",
       " u'Admission Aspirin',\n",
       " u'Admission Clopidogrel',\n",
       " u'Admission Ticagrelor',\n",
       " u'Admission Prasugrel',\n",
       " u'Admission Warfarin',\n",
       " u'Admission NOACs',\n",
       " u'Admission LMWH',\n",
       " u'Admission Medications',\n",
       " u'Chief Complaint',\n",
       " u'Admission Diagnosis',\n",
       " u'GRACE Score',\n",
       " u'Killip Score',\n",
       " u'Admission Systolic BP',\n",
       " u'Admission Diastolic BP',\n",
       " u'Admission Pulse Rate',\n",
       " u'Admission Saturation',\n",
       " u'Admission Saturation Value',\n",
       " u'Admission Temperature',\n",
       " u'Height (cm)',\n",
       " u'Weight (kg)',\n",
       " u'Hemoglobin',\n",
       " u'Initial Troponin',\n",
       " u'Maximal Troponin',\n",
       " u'Initial CPK',\n",
       " u'Maximal CPK',\n",
       " u'LDH',\n",
       " u'AST',\n",
       " u'Creatinine',\n",
       " u'eGFR by CKD-EPI',\n",
       " u'Glucose',\n",
       " u'Total Cholesterol',\n",
       " u'LDL',\n",
       " u'HDL',\n",
       " u'Triglycerides',\n",
       " u'CRP',\n",
       " u'BNP',\n",
       " u'HbA1C',\n",
       " u'WBC',\n",
       " u'PLT',\n",
       " u'Admission ECG',\n",
       " u'ST-T Changes [I]',\n",
       " u'ST-T Changes [II]',\n",
       " u'ST-T Changes [III]',\n",
       " u'ST-T Changes [V1]',\n",
       " u'ST-T Changes [aVR]',\n",
       " u'ST-T Changes [aVL]',\n",
       " u'ST-T Changes [aVF]',\n",
       " u'ST-T Changes [V2]',\n",
       " u'ST-T Changes [V3]',\n",
       " u'ST-T Changes [V4]',\n",
       " u'ST-T Changes [V5]',\n",
       " u'ST-T Changes [V6]',\n",
       " u'ST-T Changes [V7]',\n",
       " u'ST-T Changes [V8]',\n",
       " u'ST-T Changes [V9]',\n",
       " u'ST-T Changes [V3R]',\n",
       " u'ST-T Changes [V4R]',\n",
       " u'LVEF',\n",
       " u'Diastolic Funcion',\n",
       " u'RWMA [Anterior]',\n",
       " u'RWMA [Lateral]',\n",
       " u'RWMA [Posterior]',\n",
       " u'RWMA [Inferior]',\n",
       " u'RWMA [Septal]',\n",
       " u'RWMA [Anteroseptal]',\n",
       " u'RV function',\n",
       " u'Pericardial Effusion',\n",
       " u'Aortic Stenosis',\n",
       " u'Aortic Regurgitation',\n",
       " u'Mitral Stenosis',\n",
       " u'Mitral Regurgitation',\n",
       " u'Tricuspid Regurgitation',\n",
       " u'SPAP (Systolic Pulmonary Arterial Pressure)',\n",
       " u'IV Septum (mm)',\n",
       " u'Posterior Wall (mm)',\n",
       " u'MAC',\n",
       " u'CCTA [ostial LM]',\n",
       " u'CCTA [proximal LM]',\n",
       " u'CCTA [distal LM]',\n",
       " u'CCTA [ostial LAD]',\n",
       " u'CCTA [proximal LAD]',\n",
       " u'CCTA [mid LAD]',\n",
       " u'CCTA [distal LAD]',\n",
       " u'CCTA [D1]',\n",
       " u'CCTA [D2]',\n",
       " u'CCTA [Intermediate branch]',\n",
       " u'CCTA [ostial CX]',\n",
       " u'CCTA [proximal CX]',\n",
       " u'CCTA [distal CX]',\n",
       " u'CCTA [M1]',\n",
       " u'CCTA [M2]',\n",
       " u'CCTA [LT PDA]',\n",
       " u'CCTA [LT PLB]',\n",
       " u'CCTA [ostial RCA]',\n",
       " u'CCTA [proximal RCA]',\n",
       " u'CCTA [mid RCA]',\n",
       " u'CCTA [distal RCA]',\n",
       " u'CCTA [RT PDA]',\n",
       " u'CCTA [RT PLB]',\n",
       " u'CCTA [Bypass to LAD]',\n",
       " u'CCTA [Bypass to Marginal ]',\n",
       " u'CCTA [Bypass to PDA]',\n",
       " u'CCTA [LIMA]',\n",
       " u'CCTA [RIMA]',\n",
       " u'CCTA [VG]',\n",
       " u'CCTA [Radial]',\n",
       " u'D1 Disease',\n",
       " u'D2 Disease',\n",
       " u'Ostial LM Disease',\n",
       " u'proximal LM Disease',\n",
       " u'Distal LM Disease',\n",
       " u'Ostial LAD Disease',\n",
       " u'Proximal LAD Disease',\n",
       " u'Middle LAD Disease',\n",
       " u'Distal LAD Disease',\n",
       " u'Ostial CX Disease',\n",
       " u'Proximal CX Disease',\n",
       " u'Distal CX Disease',\n",
       " u'Left PDA Disease',\n",
       " u'Left PLB Disease',\n",
       " u'Ostial RCA Disease',\n",
       " u'Proximal RCA Disease',\n",
       " u'Middle RCA Disease',\n",
       " u'Distal RCA Disease',\n",
       " u'Right PDA Disease',\n",
       " u'Right PLB Disease',\n",
       " u'LIMA Disease',\n",
       " u'RIMA Disease',\n",
       " u'Vein Graft Disease',\n",
       " u'Radial Graft Disease',\n",
       " u'Bypass to LAD Disease',\n",
       " u'Bypass to Marginal Disease',\n",
       " u'Bypass to PDA Disease',\n",
       " u'Ostial Marginal1 Disease',\n",
       " u'Marginal1 Disease',\n",
       " u'Marginal2 Disease',\n",
       " u'Intermediate Branch Disease',\n",
       " u'Intervention following Angiography',\n",
       " u'ST Resolution',\n",
       " u'Discharge Aspirin',\n",
       " u'Discharge Clopidogrel',\n",
       " u'Discharge Ticagrelor',\n",
       " u'Discharge Prasugrel',\n",
       " u'Discharge Warfarin',\n",
       " u'Discharge Apixaban',\n",
       " u'Discharge Dabigatran',\n",
       " u'Discharge Rivaroxaban',\n",
       " u'Discharge LMWH',\n",
       " u'Discharge ACEI',\n",
       " u'Discharge ARB',\n",
       " u'Discharge Beta Blockes',\n",
       " u'Discharge Spironolactone',\n",
       " u'Discharge Diuretics',\n",
       " u'Discharge Calcium Channel Blockers',\n",
       " u'Discharge Nitrates',\n",
       " u'Discharge AADs',\n",
       " u'Discharge Statins',\n",
       " u'Discharge PPI',\n",
       " u'Discharge Insulin',\n",
       " u'Discharge Sulfunylurea',\n",
       " u'Discharge Merformin',\n",
       " u'Discharge DPP-4 Blockers',\n",
       " u'Discharge GLP-1 Analogs',\n",
       " u'Discharge SGLT-2 Blockers',\n",
       " u'Discharge Medications',\n",
       " u'Acute MI',\n",
       " u'Acute stroke',\n",
       " u'Acute limb event',\n",
       " u'Unplanned PCI',\n",
       " u'New-onset HF',\n",
       " u'New-onset Afib',\n",
       " u'CV hospitalization including chest pain',\n",
       " u'CV death',\n",
       " u'Non-CV death',\n",
       " u'all until 1/5/2019']"
      ]
     },
     "execution_count": 22,
     "metadata": {},
     "output_type": "execute_result"
    }
   ],
   "source": [
    "new_medical_database.columns.tolist()"
   ]
  },
  {
   "cell_type": "code",
   "execution_count": 27,
   "metadata": {
    "ExecuteTime": {
     "end_time": "2019-05-15T17:21:26.736375Z",
     "start_time": "2019-05-15T17:21:26.729142Z"
    }
   },
   "outputs": [],
   "source": [
    "outcomeDF=new_medical_database[['Acute MI','Acute stroke','Unplanned PCI','CV hospitalization including chest pain']]"
   ]
  },
  {
   "cell_type": "code",
   "execution_count": 28,
   "metadata": {
    "ExecuteTime": {
     "end_time": "2019-05-15T17:21:27.918607Z",
     "start_time": "2019-05-15T17:21:27.898049Z"
    }
   },
   "outputs": [
    {
     "data": {
      "text/html": [
       "<div>\n",
       "<style scoped>\n",
       "    .dataframe tbody tr th:only-of-type {\n",
       "        vertical-align: middle;\n",
       "    }\n",
       "\n",
       "    .dataframe tbody tr th {\n",
       "        vertical-align: top;\n",
       "    }\n",
       "\n",
       "    .dataframe thead th {\n",
       "        text-align: right;\n",
       "    }\n",
       "</style>\n",
       "<table border=\"1\" class=\"dataframe\">\n",
       "  <thead>\n",
       "    <tr style=\"text-align: right;\">\n",
       "      <th></th>\n",
       "      <th>Acute MI</th>\n",
       "      <th>Acute stroke</th>\n",
       "      <th>Unplanned PCI</th>\n",
       "      <th>CV hospitalization including chest pain</th>\n",
       "    </tr>\n",
       "    <tr>\n",
       "      <th>RegistrationCode</th>\n",
       "      <th></th>\n",
       "      <th></th>\n",
       "      <th></th>\n",
       "      <th></th>\n",
       "    </tr>\n",
       "  </thead>\n",
       "  <tbody>\n",
       "    <tr>\n",
       "      <th>3705508</th>\n",
       "      <td>0.0</td>\n",
       "      <td>0.0</td>\n",
       "      <td>0.0</td>\n",
       "      <td>0.0</td>\n",
       "    </tr>\n",
       "    <tr>\n",
       "      <th>3401349</th>\n",
       "      <td>0.0</td>\n",
       "      <td>0.0</td>\n",
       "      <td>0.0</td>\n",
       "      <td>0.0</td>\n",
       "    </tr>\n",
       "    <tr>\n",
       "      <th>3697558</th>\n",
       "      <td>0.0</td>\n",
       "      <td>0.0</td>\n",
       "      <td>0.0</td>\n",
       "      <td>0.0</td>\n",
       "    </tr>\n",
       "    <tr>\n",
       "      <th>3485604</th>\n",
       "      <td>0.0</td>\n",
       "      <td>0.0</td>\n",
       "      <td>0.0</td>\n",
       "      <td>0.0</td>\n",
       "    </tr>\n",
       "    <tr>\n",
       "      <th>3434612</th>\n",
       "      <td>0.0</td>\n",
       "      <td>0.0</td>\n",
       "      <td>0.0</td>\n",
       "      <td>1.0</td>\n",
       "    </tr>\n",
       "  </tbody>\n",
       "</table>\n",
       "</div>"
      ],
      "text/plain": [
       "                  Acute MI  Acute stroke  Unplanned PCI  \\\n",
       "RegistrationCode                                          \n",
       "3705508                0.0           0.0            0.0   \n",
       "3401349                0.0           0.0            0.0   \n",
       "3697558                0.0           0.0            0.0   \n",
       "3485604                0.0           0.0            0.0   \n",
       "3434612                0.0           0.0            0.0   \n",
       "\n",
       "                  CV hospitalization including chest pain  \n",
       "RegistrationCode                                           \n",
       "3705508                                               0.0  \n",
       "3401349                                               0.0  \n",
       "3697558                                               0.0  \n",
       "3485604                                               0.0  \n",
       "3434612                                               1.0  "
      ]
     },
     "execution_count": 28,
     "metadata": {},
     "output_type": "execute_result"
    }
   ],
   "source": [
    "outcomeDF.head()"
   ]
  },
  {
   "cell_type": "code",
   "execution_count": 30,
   "metadata": {
    "ExecuteTime": {
     "end_time": "2019-05-15T17:21:56.844358Z",
     "start_time": "2019-05-15T17:21:56.466559Z"
    }
   },
   "outputs": [
    {
     "name": "stdout",
     "output_type": "stream",
     "text": [
      "('phen_with_cardioBD.shape: ', (127, 4))\n",
      "       Acute MI  Acute stroke  Unplanned PCI  \\\n",
      "BD                                             \n",
      "BD950       0.0           0.0            0.0   \n",
      "BD951       0.0           0.0            0.0   \n",
      "BD952       0.0           0.0            0.0   \n",
      "BD953       0.0           0.0            0.0   \n",
      "BD955       0.0           1.0            0.0   \n",
      "\n",
      "       CV hospitalization including chest pain  \n",
      "BD                                              \n",
      "BD950                                      0.0  \n",
      "BD951                                      0.0  \n",
      "BD952                                      0.0  \n",
      "BD953                                      0.0  \n",
      "BD955                                      0.0  \n",
      "df length is not 126, removing duplicates:\n",
      "those are the duplicates:\n",
      "        BD  Acute MI  Acute stroke  Unplanned PCI  \\\n",
      "78  BD1045       0.0           0.0            0.0   \n",
      "79  BD1045       NaN           NaN            NaN   \n",
      "\n",
      "    CV hospitalization including chest pain  \n",
      "78                                      0.0  \n",
      "79                                      NaN  \n",
      "('phen_with_cardioBD.shape now is: ', (126, 5))\n",
      "(126, 5)\n"
     ]
    },
    {
     "data": {
      "text/html": [
       "<div>\n",
       "<style scoped>\n",
       "    .dataframe tbody tr th:only-of-type {\n",
       "        vertical-align: middle;\n",
       "    }\n",
       "\n",
       "    .dataframe tbody tr th {\n",
       "        vertical-align: top;\n",
       "    }\n",
       "\n",
       "    .dataframe thead th {\n",
       "        text-align: right;\n",
       "    }\n",
       "</style>\n",
       "<table border=\"1\" class=\"dataframe\">\n",
       "  <thead>\n",
       "    <tr style=\"text-align: right;\">\n",
       "      <th></th>\n",
       "      <th>Acute MI</th>\n",
       "      <th>Acute stroke</th>\n",
       "      <th>Unplanned PCI</th>\n",
       "      <th>CV hospitalization including chest pain</th>\n",
       "    </tr>\n",
       "    <tr>\n",
       "      <th>BD</th>\n",
       "      <th></th>\n",
       "      <th></th>\n",
       "      <th></th>\n",
       "      <th></th>\n",
       "    </tr>\n",
       "  </thead>\n",
       "  <tbody>\n",
       "    <tr>\n",
       "      <th>BD950</th>\n",
       "      <td>0.0</td>\n",
       "      <td>0.0</td>\n",
       "      <td>0.0</td>\n",
       "      <td>0.0</td>\n",
       "    </tr>\n",
       "    <tr>\n",
       "      <th>BD951</th>\n",
       "      <td>0.0</td>\n",
       "      <td>0.0</td>\n",
       "      <td>0.0</td>\n",
       "      <td>0.0</td>\n",
       "    </tr>\n",
       "    <tr>\n",
       "      <th>BD952</th>\n",
       "      <td>0.0</td>\n",
       "      <td>0.0</td>\n",
       "      <td>0.0</td>\n",
       "      <td>0.0</td>\n",
       "    </tr>\n",
       "    <tr>\n",
       "      <th>BD953</th>\n",
       "      <td>0.0</td>\n",
       "      <td>0.0</td>\n",
       "      <td>0.0</td>\n",
       "      <td>0.0</td>\n",
       "    </tr>\n",
       "    <tr>\n",
       "      <th>BD955</th>\n",
       "      <td>0.0</td>\n",
       "      <td>1.0</td>\n",
       "      <td>0.0</td>\n",
       "      <td>0.0</td>\n",
       "    </tr>\n",
       "  </tbody>\n",
       "</table>\n",
       "</div>"
      ],
      "text/plain": [
       "       Acute MI  Acute stroke  Unplanned PCI  \\\n",
       "BD                                             \n",
       "BD950       0.0           0.0            0.0   \n",
       "BD951       0.0           0.0            0.0   \n",
       "BD952       0.0           0.0            0.0   \n",
       "BD953       0.0           0.0            0.0   \n",
       "BD955       0.0           1.0            0.0   \n",
       "\n",
       "       CV hospitalization including chest pain  \n",
       "BD                                              \n",
       "BD950                                      0.0  \n",
       "BD951                                      0.0  \n",
       "BD952                                      0.0  \n",
       "BD953                                      0.0  \n",
       "BD955                                      0.0  "
      ]
     },
     "execution_count": 30,
     "metadata": {},
     "output_type": "execute_result"
    }
   ],
   "source": [
    "outcomeDF_CardioBD=merge_with_cardioBD(outcomeDF)\n",
    "print outcomeDF_CardioBD.shape\n",
    "outcomeDF_CardioBD = outcomeDF_CardioBD.drop('index',axis=1)\n",
    "outcomeDF_CardioBD.head()"
   ]
  },
  {
   "cell_type": "code",
   "execution_count": 31,
   "metadata": {
    "ExecuteTime": {
     "end_time": "2019-05-15T17:22:36.182564Z",
     "start_time": "2019-05-15T17:22:36.058475Z"
    }
   },
   "outputs": [],
   "source": [
    "outcomeDF_CardioBD.to_excel('/net/mraid08/export/genie/Lab/Personal/ShaniBAF/\\\n",
    "TCR_real_data/CardioSamples/phenotypicData/outcomeDF.xlsx')"
   ]
  },
  {
   "cell_type": "code",
   "execution_count": null,
   "metadata": {},
   "outputs": [],
   "source": []
  }
 ],
 "metadata": {
  "kernelspec": {
   "display_name": "Python 2",
   "language": "python",
   "name": "python2"
  },
  "language_info": {
   "codemirror_mode": {
    "name": "ipython",
    "version": 2
   },
   "file_extension": ".py",
   "mimetype": "text/x-python",
   "name": "python",
   "nbconvert_exporter": "python",
   "pygments_lexer": "ipython2",
   "version": "2.7.8"
  },
  "toc": {
   "nav_menu": {},
   "number_sections": true,
   "sideBar": true,
   "skip_h1_title": false,
   "toc_cell": false,
   "toc_position": {
    "height": "976px",
    "left": "0px",
    "right": "1286.89px",
    "top": "134px",
    "width": "383px"
   },
   "toc_section_display": "block",
   "toc_window_display": true
  },
  "varInspector": {
   "cols": {
    "lenName": 16,
    "lenType": 16,
    "lenVar": 40
   },
   "kernels_config": {
    "python": {
     "delete_cmd_postfix": "",
     "delete_cmd_prefix": "del ",
     "library": "var_list.py",
     "varRefreshCmd": "print(var_dic_list())"
    },
    "r": {
     "delete_cmd_postfix": ") ",
     "delete_cmd_prefix": "rm(",
     "library": "var_list.r",
     "varRefreshCmd": "cat(var_dic_list()) "
    }
   },
   "types_to_exclude": [
    "module",
    "function",
    "builtin_function_or_method",
    "instance",
    "_Feature"
   ],
   "window_display": false
  }
 },
 "nbformat": 4,
 "nbformat_minor": 2
}
