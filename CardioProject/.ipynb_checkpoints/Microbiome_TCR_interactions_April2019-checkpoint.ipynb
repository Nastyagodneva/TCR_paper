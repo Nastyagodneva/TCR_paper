{
 "cells": [
  {
   "cell_type": "markdown",
   "metadata": {},
   "source": [
    "# imports:"
   ]
  },
  {
   "cell_type": "code",
   "execution_count": 1,
   "metadata": {
    "ExecuteTime": {
     "end_time": "2019-05-05T13:41:24.366250Z",
     "start_time": "2019-05-05T13:41:19.505666Z"
    }
   },
   "outputs": [
    {
     "name": "stdout",
     "output_type": "stream",
     "text": [
      "stop\n",
      "done1\n",
      "stop\n",
      "done\n",
      "done\n",
      "stop\n",
      "end of function!!!\n",
      "end of function!!!\n",
      "trial\n"
     ]
    }
   ],
   "source": [
    "from os import listdir, mkdir, makedirs\n",
    "from os.path import isfile, join, isdir, exists\n",
    "import pandas as pd\n",
    "import numpy as np\n",
    "from scipy import stats\n",
    "import re\n",
    "import time\n",
    "import matplotlib.pyplot as plt\n",
    "from matplotlib.backends.backend_pdf import PdfPages\n",
    "from myplots import roundup, rounddown, find_decimal_fold, percentile_cut_off, rarefaction_calc, rarefaction_plot, draw_correlation_scatter\n",
    "from matplotlib.ticker import FormatStrFormatter\n",
    "import pickle as pickle\n",
    "from Bio.SeqUtils import GC\n",
    "import seaborn as sns\n",
    "# import random\n",
    "from scipy.stats import pearsonr, fisher_exact, ttest_ind, mannwhitneyu, sem\n",
    "from skbio.diversity.alpha import shannon, simpson, berger_parker_d\n",
    "\n",
    "# from pop_organize import get_sample_data, get_sample_with_dfs\n",
    "# from SufficientStatistics import *\n",
    "# from MyFunctionsShani import *\n",
    "import math\n",
    "# from myplots import roundup, rounddown, find_decimal_fold\n",
    "from skbio.stats.distance import mantel\n",
    "from scipy.spatial.distance import braycurtis, pdist, euclidean\n",
    "\n",
    "# from GeneralFeaturePhenotypeInteractions.Feature_phenotype_functions import *\n",
    "# from TCR_microbiome_interactions.TCR_microbiome_interactions_functions import *\n",
    "# from TCR_microbiome_interactions.TCR_microbiome_interactions_functions2 import *\n",
    "from SampleLists.SampleFileFunctions import *\n",
    "# from PhenotypicData.PhenotypeGenerationFunctions import *\n",
    "from CardioProject.CardioFunctions import *\n",
    "from PredictionPipeline.PredictionFunctions import *\n",
    "from TCR_feature_generation.SubsamplingFunctions import *\n",
    "from TCR_feature_generation.SequenceClusteringModule import *\n",
    "\n",
    "import os\n",
    "# from Utils import cacheOnDisk, Load\n",
    "from SegalQueue.qp import qp, fakeqp\n",
    "# from addloglevels import sethandlers\n",
    "\n",
    "#ML imports:\n",
    "# from xgboost import XGBClassifier\n",
    "# import lightgbm as lgb\n",
    "# from collections import OrderedDict\n",
    "# from sklearn.model_selection import GroupKFold, StratifiedKFold, KFold\n",
    "import statsmodels.formula.api as sm\n",
    "# from sklearn.linear_model import LogisticRegression, LinearRegression\n",
    "# import shap\n",
    "# from sklearn import metrics, preprocessing\n",
    "# from sklearn.svm import LinearSVC\n",
    "# from sklearn.feature_selection import SelectFromModel, SelectKBest, chi2, mutual_info_classif, f_classif\n",
    "# from sklearn.naive_bayes import GaussianNB\n",
    "# from sklearn.metrics import *"
   ]
  },
  {
   "cell_type": "markdown",
   "metadata": {},
   "source": [
    "# definitions:"
   ]
  },
  {
   "cell_type": "code",
   "execution_count": 2,
   "metadata": {
    "ExecuteTime": {
     "end_time": "2019-05-05T13:41:24.627871Z",
     "start_time": "2019-05-05T13:41:24.602828Z"
    }
   },
   "outputs": [
    {
     "data": {
      "text/plain": [
       "'07052019'"
      ]
     },
     "execution_count": 2,
     "metadata": {},
     "output_type": "execute_result"
    }
   ],
   "source": [
    "#####path definitions:\n",
    "MyPath = '/net/mraid08/export/genie/Lab/Personal/ShaniBAF'\n",
    "\n",
    "with open(\n",
    "        '/net/mraid08/export/genie/Lab/Personal/ShaniBAF/Sample files/BD lists/PNP530',\n",
    "        'rb') as fp:\n",
    "    PNP530 = pickle.load(fp)\n",
    "with open(\n",
    "        '/net/mraid08/export/genie/Lab/Personal/ShaniBAF/Sample files/BD lists/Cardio126',\n",
    "        'rb') as fp:\n",
    "    Cardio126 = pickle.load(fp)\n",
    "PNP530Cardio126 = PNP530 + Cardio126\n",
    "\n",
    "PRED_RESULTS_DIR = '/net/mraid08/export/jafar/Microbiome/Analyses/ShaniBAF/predictions2/'\n",
    "FEATURES_DIR = '/net/mraid08/export/genie/Lab/Personal/ShaniBAF/TCR_real_data/Predictions/featureDFs/'\n",
    "SAMPLE_LIST_DIR = '/net/mraid08/export/genie/Lab/Personal/ShaniBAF/Sample files/BD lists/'\n",
    "CARDIO_PHEN_DIR = '/net/mraid08/export/genie/Lab/Personal/ShaniBAF/TCR_real_data/CardioSamples/phenotypicData/'\n",
    "CLUSTER_ANALYSIS_DIR = '/net/mraid08/export/jafar/Microbiome/Analyses/ShaniBAF/sharingAnalysis/seqClusters_allProd_maxdist1/'\n",
    "TCR_MB_DIR = '%s/TCR_real_data/TCR_mb_results/TCRclusters_MBsega_associations_April2019/' % MyPath\n",
    "NEW_FEATURES_DIR = '/net/mraid08/export/jafar/Microbiome/Analyses/TCR/'\n",
    "\n",
    "##### general definitions:\n",
    "pd.set_option('display.expand_frame_repr', False)\n",
    "pd.set_option('display.width', 1000)\n",
    "np.set_printoptions(precision=4, linewidth=200)\n",
    "\n",
    "cdate = str(time.strftime(\"%d%m%Y\"))\n",
    "cdate"
   ]
  },
  {
   "cell_type": "code",
   "execution_count": 5,
   "metadata": {},
   "outputs": [
    {
     "name": "stdout",
     "output_type": "stream",
     "text": [
      "can you see me?\n"
     ]
    }
   ],
   "source": [
    "print 'can you see me?'"
   ]
  },
  {
   "cell_type": "markdown",
   "metadata": {},
   "source": [
    "# predict TCR features using microbiome data:"
   ]
  },
  {
   "cell_type": "markdown",
   "metadata": {},
   "source": [
    "## prepare table with all species appearing in more than 5% and less than 95% of samples:"
   ]
  },
  {
   "cell_type": "code",
   "execution_count": 3,
   "metadata": {
    "ExecuteTime": {
     "end_time": "2019-05-07T08:46:22.151249Z",
     "start_time": "2019-05-07T08:46:21.871138Z"
    }
   },
   "outputs": [],
   "source": [
    "def process_sega_data(sega_table,isGenotek,FD_samples,BD_FD,minSharedPerc,maxSharedPerc):\n",
    "    \n",
    "    if isGenotek: tableType='genotek'\n",
    "    else: tableType='swab'\n",
    "        \n",
    "    # print table parameters:\n",
    "    print ''\n",
    "    print '**************************'\n",
    "    print ('table type= ', tableType)\n",
    "    print ('index length: ',len(sega_table.index.tolist()))\n",
    "    print ('FD_samples length: ',len(FD_samples))\n",
    "    print '**************************'\n",
    "    \n",
    "    # add BD number to each sample (if some has the same BD number, group all and use mean value)\n",
    "    # get only PNP530Cardio126 samples:\n",
    "    \n",
    "    sega_withBD=pd.merge(sega_table.loc[FD_samples,:].dropna(how='any'),BD_FD[['BD','FD']],how='left',left_index=True,right_on='FD')\n",
    "    print ('sega_withBD.shape: ',sega_withBD.shape)\n",
    "    sega_withBD=sega_withBD.set_index('BD').drop(['FD','Sample'],axis=1)\n",
    "    sega_withBD_PNP530Cardio126=sega_withBD.loc[PNP530+Cardio126,:].dropna(how='any')\n",
    "    print ('sega_withBD_PNP530Cardio126.shape: ',sega_withBD_PNP530Cardio126.shape)\n",
    "    print ('sega_withBD_PNP530Cardio126.index.nunique(): ',sega_withBD_PNP530Cardio126.index.nunique())\n",
    "    sega_withBD_PNP530Cardio126_merged=sega_withBD_PNP530Cardio126.reset_index().groupby('BD').mean()\n",
    "    print ('sega_withBD_PNP530Cardio126_merged.shape: ',sega_withBD_PNP530Cardio126_merged.shape)\n",
    "    sega_withBD_PNP530Cardio126_merged=sega_withBD_PNP530Cardio126_merged.fillna(0.0001)\n",
    "\n",
    "    df2=sega_withBD_PNP530Cardio126_merged\n",
    "    print ('rows with nas shape:',df2[df2.isnull().any(axis=1)].shape)\n",
    "\n",
    "    f1='/net/mraid08/export/jafar/Microbiome/Analyses/TCR/Mb_data_by_BD/%s_byBD_PNP530Cardio126_%s.xlsx' %(table_name,tableType)\n",
    "    f1=f1.replace('0.','0')\n",
    "    sega_withBD_PNP530Cardio126_merged.to_excel(f1)\n",
    "    \n",
    "       \n",
    "    \n",
    "    #calculate basic MBfeatures:\n",
    "    MBDF=sega_withBD_PNP530Cardio126_merged.copy()\n",
    "    MBfeatures=pd.DataFrame(index=MBDF.index)\n",
    "    MBfeatures['MaxFreq']=MBDF.max(axis=1)\n",
    "    MBfeatures['MeanFreq']=MBDF.mean(axis=1)\n",
    "    MBfeatures['top10Freq']=MBDF.apply(lambda x: x.sort_values(ascending=False)[:10].sum(),axis=1)\n",
    "    MBfeatures['top100Freq']=MBDF.apply(lambda x: x.sort_values(ascending=False)[:100].sum(),axis=1)\n",
    "    MBfeatures['nSpecies']=(MBDF>0.0001).astype(int).sum(axis=1)\n",
    "    \n",
    "    \n",
    "    \n",
    "    for cohort in ['PNP530','Cardio126']:\n",
    "        print (' \\n%s' %cohort)\n",
    "        \n",
    "        if cohort=='PNP530': sample_list=PNP530\n",
    "        elif cohort == 'Cardio126': sample_list=Cardio126\n",
    "        \n",
    "        ## get only samples that are in the cohort:\n",
    "        df=sega_withBD_PNP530Cardio126_merged.loc[sample_list,:].dropna(how='any')\n",
    "        \n",
    "        #leave only columns in which species is present in more than 5% of samples and less than 95% of samples:\n",
    "        cols=[col for col in df.columns if len(df[df[col]>0.0001])>minSharedPerc*len(df) and len(df[df[col]>0.0001])<maxSharedPerc*len(df)]\n",
    "        print ('number of columns with %s-%s sharing: ' %(minSharedPerc,maxSharedPerc),len(cols))\n",
    "\n",
    "        sega_withBD_merged_min_max=df.loc[:,cols]\n",
    "        print ('sega_withBD_%s_merged_%s_%s.shape: ' %(cohort,str(minSharedPerc).replace('.',''),str(maxSharedPerc).replace('.','')),\n",
    "               sega_withBD_merged_min_max.shape)\n",
    "        f3='/net/mraid08/export/jafar/Microbiome/\\\n",
    "Analyses/TCR/Mb_data_by_BD/%s_byBD_%s_%s_%s_%s.xlsx' %(table_name,cohort,minSharedPerc,maxSharedPerc,tableType)\n",
    "        f3=f3.replace('0.','0')\n",
    "        sega_withBD_merged_min_max.to_excel(f3)\n",
    "        \n",
    "        #binarize:\n",
    "        sega_withBD_merged_min_max_binary=(sega_withBD_merged_min_max>0.0001).astype(int)\n",
    "        print ('sega_withBD_merged_min_max_binary.shape: ',sega_withBD_merged_min_max_binary.shape)\n",
    "\n",
    "        f4='/net/mraid08/export/jafar/Microbiome/\\\n",
    "Analyses/TCR/Mb_data_by_BD/%s_byBD_%s_%s_%s_binary_%s.xlsx' %(table_name,cohort,minSharedPerc,maxSharedPerc,tableType)\n",
    "        f4=f4.replace('0.','0')\n",
    "        sega_withBD_merged_min_max_binary.to_excel(f4) \n",
    "    \n",
    "    \n",
    "        ##add features:\n",
    "        sega_withBD_merged_min_max_withFeatures=pd.merge(sega_withBD_merged_min_max,MBfeatures,how='left',left_index=True,right_index=True)\n",
    "        f5='/net/mraid08/export/jafar/Microbiome/\\\n",
    "Analyses/TCR/Mb_data_by_BD/%s_byBD_%s_%s_%s_%s_withFeatures.xlsx' %(table_name,cohort,minSharedPerc,maxSharedPerc,tableType)\n",
    "        f5=f5.replace('0.','0')\n",
    "        sega_withBD_merged_min_max_withFeatures.to_excel(f5)\n",
    "\n",
    "        sega_withBD_merged_min_max_binary_withFeatures=pd.merge(sega_withBD_merged_min_max_binary,MBfeatures,how='left',left_index=True,right_index=True)\n",
    "        f6='/net/mraid08/export/jafar/Microbiome/\\\n",
    "Analyses/TCR/Mb_data_by_BD/%s_byBD_%s_%s_%s_binary_%s_withFeatures.xlsx' %(table_name,cohort,minSharedPerc,maxSharedPerc,tableType)\n",
    "        f6=f6.replace('0.','0')\n",
    "        sega_withBD_merged_min_max_binary_withFeatures.to_excel(f6)\n",
    "\n",
    "            \n",
    "    return\n",
    "\n",
    "\n",
    "\n",
    "def add_BD_for_sega_table(table_path,table_name,minSharedPerc=0.05,maxSharedPerc=0.95):\n",
    "\n",
    "    sega=pd.read_csv(table_path)\n",
    "    print ('original table shape: ',sega.shape)\n",
    "    sega=sega.rename(columns={'Unnamed: 0':'Sample'})\n",
    "    sega['Sample2']=sega.Sample.apply(lambda x: str(x).split('_')[1])\n",
    "    sega=sega.set_index('Sample2')\n",
    "    \n",
    "    #load swab/genotek info:\n",
    "    FDtable=pd.read_excel('%s/Sample files/updatedBDandFDlists/FDfile_RCfolderAllSeqProjects_31052018.xlsx' %MyPath)\n",
    "    FD_method=FDtable[['DnaID','isGenotek']]\n",
    "    FD_method['isGenotek'].value_counts(dropna=False)\n",
    "    FD_genotek_samples=FD_method[FD_method['isGenotek']==1]['DnaID'].tolist()\n",
    "    FD_swab_samples=FD_method[FD_method['isGenotek']==0]['DnaID'].tolist()\n",
    "    print ('number of genotek samples: ',len(FD_genotek_samples))\n",
    "    print ('number of swab samples: ',len(FD_swab_samples))\n",
    "                          \n",
    "    # load BD_FD sample:\n",
    "    BD_FD=pd.read_excel('%s/Sample files/updatedBDandFDlists/final_BD_FD_converter_mergedOnDate_RCfolderAllSeqProjects_31052018.xlsx' %MyPath)\n",
    "                          \n",
    "    process_sega_data(sega_table=sega,isGenotek=False,FD_samples=FD_swab_samples,BD_FD=BD_FD,\n",
    "                                                             minSharedPerc=minSharedPerc,maxSharedPerc=maxSharedPerc)\n",
    "    process_sega_data(sega_table=sega,isGenotek=True,FD_samples=FD_genotek_samples,BD_FD=BD_FD,\n",
    "                                                             minSharedPerc=minSharedPerc,maxSharedPerc=maxSharedPerc)\n",
    "    \n",
    "    return \n",
    "\n",
    "    \n",
    "                          \n",
    "    "
   ]
  },
  {
   "cell_type": "markdown",
   "metadata": {},
   "source": [
    "### 10m subsampling, species"
   ]
  },
  {
   "cell_type": "code",
   "execution_count": 15,
   "metadata": {
    "ExecuteTime": {
     "end_time": "2019-05-07T08:46:22.825148Z",
     "start_time": "2019-05-07T08:46:22.821165Z"
    },
    "scrolled": true
   },
   "outputs": [],
   "source": [
    "# table_path='%s/MicrobiomeDataTables/SegaTablesFromDaphna/LargeOrNewGenusSGBs_10MSubsampling_0.0001threshold_Noneratio_sSGB.csv' %MyPath\n",
    "# table_name='LargeOrNewGenusSGBs_10MSubsampling_0.0001threshold_Noneratio_sSGB'\n",
    "# sega_withBD_swab_PNP530_merged_min_max,sega_withBD_genotek_PNP530_merged_min_max=add_BD_for_sega_table(table_path,table_name)"
   ]
  },
  {
   "cell_type": "markdown",
   "metadata": {},
   "source": [
    "### 5m subsampling, species"
   ]
  },
  {
   "cell_type": "code",
   "execution_count": 4,
   "metadata": {
    "ExecuteTime": {
     "end_time": "2019-05-07T08:49:11.907424Z",
     "start_time": "2019-05-07T08:46:24.334044Z"
    },
    "scrolled": true
   },
   "outputs": [
    {
     "name": "stdout",
     "output_type": "stream",
     "text": [
      "('original table shape: ', (18049, 2632))\n",
      "('number of genotek samples: ', 681)\n",
      "('number of swab samples: ', 2205)\n",
      "\n",
      "**************************\n",
      "('table type= ', 'swab')\n",
      "('index length: ', 18049)\n",
      "('FD_samples length: ', 2205)\n",
      "**************************\n"
     ]
    },
    {
     "name": "stderr",
     "output_type": "stream",
     "text": [
      "/usr/wisdom/python/lib/python2.7/site-packages/pandas/core/indexing.py:1472: FutureWarning: \n",
      "Passing list-likes to .loc or [] with any missing label will raise\n",
      "KeyError in the future, you can use .reindex() as an alternative.\n",
      "\n",
      "See the documentation here:\n",
      "https://pandas.pydata.org/pandas-docs/stable/indexing.html#deprecate-loc-reindex-listlike\n",
      "  return self._getitem_tuple(key)\n"
     ]
    },
    {
     "name": "stdout",
     "output_type": "stream",
     "text": [
      "('sega_withBD.shape: ', (1373, 2634))\n",
      "('sega_withBD_PNP530Cardio126.shape: ', (655, 2631))\n",
      "('sega_withBD_PNP530Cardio126.index.nunique(): ', 603)\n",
      "('sega_withBD_PNP530Cardio126_merged.shape: ', (603, 2631))\n",
      "('rows with nas shape:', (0, 2631))\n",
      " \n",
      "PNP530\n",
      "('number of columns with 0.05-0.95 sharing: ', 685)\n",
      "('sega_withBD_PNP530_merged_005_095.shape: ', (478, 685))\n",
      "('sega_withBD_merged_min_max_binary.shape: ', (478, 685))\n",
      " \n",
      "Cardio126\n",
      "('number of columns with 0.05-0.95 sharing: ', 703)\n",
      "('sega_withBD_Cardio126_merged_005_095.shape: ', (125, 703))\n",
      "('sega_withBD_merged_min_max_binary.shape: ', (125, 703))\n",
      "\n",
      "**************************\n",
      "('table type= ', 'genotek')\n",
      "('index length: ', 18049)\n",
      "('FD_samples length: ', 681)\n",
      "**************************\n",
      "('sega_withBD.shape: ', (640, 2634))\n",
      "('sega_withBD_PNP530Cardio126.shape: ', (262, 2631))\n",
      "('sega_withBD_PNP530Cardio126.index.nunique(): ', 256)\n",
      "('sega_withBD_PNP530Cardio126_merged.shape: ', (256, 2631))\n",
      "('rows with nas shape:', (0, 2631))\n",
      " \n",
      "PNP530\n",
      "('number of columns with 0.05-0.95 sharing: ', 601)\n",
      "('sega_withBD_PNP530_merged_005_095.shape: ', (256, 601))\n",
      "('sega_withBD_merged_min_max_binary.shape: ', (256, 601))\n",
      " \n",
      "Cardio126\n"
     ]
    },
    {
     "ename": "KeyError",
     "evalue": "u\"None of [['BD1014', 'BD1068', 'BD1013', 'BD1061', 'BD1066', 'BD996', 'BD1053', 'BD1082', 'BD991', 'BD1054', 'BD1028', 'BD1026', 'BD1021', 'BD998', 'BD1030', 'BD989', 'BD958', 'BD1037', 'BD1094', 'BD1045', 'BD980', 'BD951', 'BD1093', 'BD1042', 'BD987', 'BD956', 'BD1077', 'BD963', 'BD1070', 'BD964', 'BD1002', 'BD1005', 'BD1079', 'BD1020', 'BD999', 'BD990', 'BD1084', 'BD1029', 'BD997', 'BD1052', 'BD1083', 'BD973', 'BD1067', 'BD974', 'BD1060', 'BD1012', 'BD1015', 'BD1069', 'BD1004', 'BD1078', 'BD1003', 'BD1071', 'BD965', 'BD1076', 'BD962', 'BD1092', 'BD986', 'BD957', 'BD1095', 'BD981', 'BD950', 'BD1036', 'BD1031', 'BD959', 'BD968', 'BD1000', 'BD1007', 'BD1009', 'BD1075', 'BD961', 'BD1072', 'BD1096', 'BD1047', 'BD982', 'BD953', 'BD985', 'BD1032', 'BD1098', 'BD1049', 'BD1035', 'BD1058', 'BD1089', 'BD1051', 'BD993', 'BD1056', 'BD1087', 'BD977', 'BD1063', 'BD1018', 'BD970', 'BD1064', 'BD1016', 'BD979', 'BD1011', 'BD1099', 'BD1048', 'BD1034', 'BD1033', 'BD1090', 'BD984', 'BD955', 'BD1097', 'BD983', 'BD952', 'BD1073', 'BD967', 'BD1008', 'BD1074', 'BD960', 'BD1006', 'BD969', 'BD1001', 'BD978', 'BD1010', 'BD1017', 'BD1019', 'BD971', 'BD1065', 'BD976', 'BD1062', 'BD992', 'BD1086', 'BD995', 'BD1050', 'BD1081', 'BD1088']] are in the [index]\"",
     "output_type": "error",
     "traceback": [
      "\u001b[0;31m---------------------------------------------------------------------------\u001b[0m",
      "\u001b[0;31mKeyError\u001b[0m                                  Traceback (most recent call last)",
      "\u001b[0;32m<ipython-input-4-f49cbb663819>\u001b[0m in \u001b[0;36m<module>\u001b[0;34m()\u001b[0m\n\u001b[1;32m      1\u001b[0m \u001b[0mtable_path\u001b[0m\u001b[0;34m=\u001b[0m\u001b[0;34m'/net/mraid08/export/jafar/Microbiome/Analyses/Unicorn/AbundanceEstimation/Abundances/LargeOrNewGenusSGBs_5MSubsampling/stage1/LargeOrNewGenusSGBs_5MSubsampling_0.0001threshold_Noneratio_sSGB.csv'\u001b[0m\u001b[0;34m\u001b[0m\u001b[0m\n\u001b[1;32m      2\u001b[0m \u001b[0mtable_name\u001b[0m\u001b[0;34m=\u001b[0m\u001b[0;34m'LargeOrNewGenusSGBs_5MSubsampling_0.0001threshold_Noneratio_sSGB'\u001b[0m\u001b[0;34m\u001b[0m\u001b[0m\n\u001b[0;32m----> 3\u001b[0;31m \u001b[0madd_BD_for_sega_table\u001b[0m\u001b[0;34m(\u001b[0m\u001b[0mtable_path\u001b[0m\u001b[0;34m,\u001b[0m\u001b[0mtable_name\u001b[0m\u001b[0;34m)\u001b[0m\u001b[0;34m\u001b[0m\u001b[0m\n\u001b[0m",
      "\u001b[0;32m<ipython-input-3-4fe993d81ff6>\u001b[0m in \u001b[0;36madd_BD_for_sega_table\u001b[0;34m(table_path, table_name, minSharedPerc, maxSharedPerc)\u001b[0m\n\u001b[1;32m    113\u001b[0m                                                              minSharedPerc=minSharedPerc,maxSharedPerc=maxSharedPerc)\n\u001b[1;32m    114\u001b[0m     process_sega_data(sega_table=sega,isGenotek=True,FD_samples=FD_genotek_samples,BD_FD=BD_FD,\n\u001b[0;32m--> 115\u001b[0;31m                                                              minSharedPerc=minSharedPerc,maxSharedPerc=maxSharedPerc)\n\u001b[0m\u001b[1;32m    116\u001b[0m \u001b[0;34m\u001b[0m\u001b[0m\n\u001b[1;32m    117\u001b[0m     \u001b[0;32mreturn\u001b[0m\u001b[0;34m\u001b[0m\u001b[0m\n",
      "\u001b[0;32m<ipython-input-3-4fe993d81ff6>\u001b[0m in \u001b[0;36mprocess_sega_data\u001b[0;34m(sega_table, isGenotek, FD_samples, BD_FD, minSharedPerc, maxSharedPerc)\u001b[0m\n\u001b[1;32m     52\u001b[0m \u001b[0;34m\u001b[0m\u001b[0m\n\u001b[1;32m     53\u001b[0m         \u001b[0;31m## get only samples that are in the cohort:\u001b[0m\u001b[0;34m\u001b[0m\u001b[0;34m\u001b[0m\u001b[0m\n\u001b[0;32m---> 54\u001b[0;31m         \u001b[0mdf\u001b[0m\u001b[0;34m=\u001b[0m\u001b[0msega_withBD_PNP530Cardio126_merged\u001b[0m\u001b[0;34m.\u001b[0m\u001b[0mloc\u001b[0m\u001b[0;34m[\u001b[0m\u001b[0msample_list\u001b[0m\u001b[0;34m,\u001b[0m\u001b[0;34m:\u001b[0m\u001b[0;34m]\u001b[0m\u001b[0;34m.\u001b[0m\u001b[0mdropna\u001b[0m\u001b[0;34m(\u001b[0m\u001b[0mhow\u001b[0m\u001b[0;34m=\u001b[0m\u001b[0;34m'any'\u001b[0m\u001b[0;34m)\u001b[0m\u001b[0;34m\u001b[0m\u001b[0m\n\u001b[0m\u001b[1;32m     55\u001b[0m \u001b[0;34m\u001b[0m\u001b[0m\n\u001b[1;32m     56\u001b[0m         \u001b[0;31m#leave only columns in which species is present in more than 5% of samples and less than 95% of samples:\u001b[0m\u001b[0;34m\u001b[0m\u001b[0;34m\u001b[0m\u001b[0m\n",
      "\u001b[0;32m/usr/wisdom/python/lib/python2.7/site-packages/pandas/core/indexing.pyc\u001b[0m in \u001b[0;36m__getitem__\u001b[0;34m(self, key)\u001b[0m\n\u001b[1;32m   1470\u001b[0m             \u001b[0;32mexcept\u001b[0m \u001b[0;34m(\u001b[0m\u001b[0mKeyError\u001b[0m\u001b[0;34m,\u001b[0m \u001b[0mIndexError\u001b[0m\u001b[0;34m)\u001b[0m\u001b[0;34m:\u001b[0m\u001b[0;34m\u001b[0m\u001b[0m\n\u001b[1;32m   1471\u001b[0m                 \u001b[0;32mpass\u001b[0m\u001b[0;34m\u001b[0m\u001b[0m\n\u001b[0;32m-> 1472\u001b[0;31m             \u001b[0;32mreturn\u001b[0m \u001b[0mself\u001b[0m\u001b[0;34m.\u001b[0m\u001b[0m_getitem_tuple\u001b[0m\u001b[0;34m(\u001b[0m\u001b[0mkey\u001b[0m\u001b[0;34m)\u001b[0m\u001b[0;34m\u001b[0m\u001b[0m\n\u001b[0m\u001b[1;32m   1473\u001b[0m         \u001b[0;32melse\u001b[0m\u001b[0;34m:\u001b[0m\u001b[0;34m\u001b[0m\u001b[0m\n\u001b[1;32m   1474\u001b[0m             \u001b[0;31m# we by definition only have the 0th axis\u001b[0m\u001b[0;34m\u001b[0m\u001b[0;34m\u001b[0m\u001b[0m\n",
      "\u001b[0;32m/usr/wisdom/python/lib/python2.7/site-packages/pandas/core/indexing.pyc\u001b[0m in \u001b[0;36m_getitem_tuple\u001b[0;34m(self, tup)\u001b[0m\n\u001b[1;32m    888\u001b[0m                 \u001b[0;32mcontinue\u001b[0m\u001b[0;34m\u001b[0m\u001b[0m\n\u001b[1;32m    889\u001b[0m \u001b[0;34m\u001b[0m\u001b[0m\n\u001b[0;32m--> 890\u001b[0;31m             \u001b[0mretval\u001b[0m \u001b[0;34m=\u001b[0m \u001b[0mgetattr\u001b[0m\u001b[0;34m(\u001b[0m\u001b[0mretval\u001b[0m\u001b[0;34m,\u001b[0m \u001b[0mself\u001b[0m\u001b[0;34m.\u001b[0m\u001b[0mname\u001b[0m\u001b[0;34m)\u001b[0m\u001b[0;34m.\u001b[0m\u001b[0m_getitem_axis\u001b[0m\u001b[0;34m(\u001b[0m\u001b[0mkey\u001b[0m\u001b[0;34m,\u001b[0m \u001b[0maxis\u001b[0m\u001b[0;34m=\u001b[0m\u001b[0mi\u001b[0m\u001b[0;34m)\u001b[0m\u001b[0;34m\u001b[0m\u001b[0m\n\u001b[0m\u001b[1;32m    891\u001b[0m \u001b[0;34m\u001b[0m\u001b[0m\n\u001b[1;32m    892\u001b[0m         \u001b[0;32mreturn\u001b[0m \u001b[0mretval\u001b[0m\u001b[0;34m\u001b[0m\u001b[0m\n",
      "\u001b[0;32m/usr/wisdom/python/lib/python2.7/site-packages/pandas/core/indexing.pyc\u001b[0m in \u001b[0;36m_getitem_axis\u001b[0;34m(self, key, axis)\u001b[0m\n\u001b[1;32m   1899\u001b[0m                     \u001b[0;32mraise\u001b[0m \u001b[0mValueError\u001b[0m\u001b[0;34m(\u001b[0m\u001b[0;34m'Cannot index with multidimensional key'\u001b[0m\u001b[0;34m)\u001b[0m\u001b[0;34m\u001b[0m\u001b[0m\n\u001b[1;32m   1900\u001b[0m \u001b[0;34m\u001b[0m\u001b[0m\n\u001b[0;32m-> 1901\u001b[0;31m                 \u001b[0;32mreturn\u001b[0m \u001b[0mself\u001b[0m\u001b[0;34m.\u001b[0m\u001b[0m_getitem_iterable\u001b[0m\u001b[0;34m(\u001b[0m\u001b[0mkey\u001b[0m\u001b[0;34m,\u001b[0m \u001b[0maxis\u001b[0m\u001b[0;34m=\u001b[0m\u001b[0maxis\u001b[0m\u001b[0;34m)\u001b[0m\u001b[0;34m\u001b[0m\u001b[0m\n\u001b[0m\u001b[1;32m   1902\u001b[0m \u001b[0;34m\u001b[0m\u001b[0m\n\u001b[1;32m   1903\u001b[0m             \u001b[0;31m# nested tuple slicing\u001b[0m\u001b[0;34m\u001b[0m\u001b[0;34m\u001b[0m\u001b[0m\n",
      "\u001b[0;32m/usr/wisdom/python/lib/python2.7/site-packages/pandas/core/indexing.pyc\u001b[0m in \u001b[0;36m_getitem_iterable\u001b[0;34m(self, key, axis)\u001b[0m\n\u001b[1;32m   1141\u001b[0m             \u001b[0;32mif\u001b[0m \u001b[0mlabels\u001b[0m\u001b[0;34m.\u001b[0m\u001b[0mis_unique\u001b[0m \u001b[0;32mand\u001b[0m \u001b[0mIndex\u001b[0m\u001b[0;34m(\u001b[0m\u001b[0mkeyarr\u001b[0m\u001b[0;34m)\u001b[0m\u001b[0;34m.\u001b[0m\u001b[0mis_unique\u001b[0m\u001b[0;34m:\u001b[0m\u001b[0;34m\u001b[0m\u001b[0m\n\u001b[1;32m   1142\u001b[0m                 \u001b[0mindexer\u001b[0m \u001b[0;34m=\u001b[0m \u001b[0max\u001b[0m\u001b[0;34m.\u001b[0m\u001b[0mget_indexer_for\u001b[0m\u001b[0;34m(\u001b[0m\u001b[0mkey\u001b[0m\u001b[0;34m)\u001b[0m\u001b[0;34m\u001b[0m\u001b[0m\n\u001b[0;32m-> 1143\u001b[0;31m                 \u001b[0mself\u001b[0m\u001b[0;34m.\u001b[0m\u001b[0m_validate_read_indexer\u001b[0m\u001b[0;34m(\u001b[0m\u001b[0mkey\u001b[0m\u001b[0;34m,\u001b[0m \u001b[0mindexer\u001b[0m\u001b[0;34m,\u001b[0m \u001b[0maxis\u001b[0m\u001b[0;34m)\u001b[0m\u001b[0;34m\u001b[0m\u001b[0m\n\u001b[0m\u001b[1;32m   1144\u001b[0m \u001b[0;34m\u001b[0m\u001b[0m\n\u001b[1;32m   1145\u001b[0m                 \u001b[0md\u001b[0m \u001b[0;34m=\u001b[0m \u001b[0;34m{\u001b[0m\u001b[0maxis\u001b[0m\u001b[0;34m:\u001b[0m \u001b[0;34m[\u001b[0m\u001b[0max\u001b[0m\u001b[0;34m.\u001b[0m\u001b[0mreindex\u001b[0m\u001b[0;34m(\u001b[0m\u001b[0mkeyarr\u001b[0m\u001b[0;34m)\u001b[0m\u001b[0;34m[\u001b[0m\u001b[0;36m0\u001b[0m\u001b[0;34m]\u001b[0m\u001b[0;34m,\u001b[0m \u001b[0mindexer\u001b[0m\u001b[0;34m]\u001b[0m\u001b[0;34m}\u001b[0m\u001b[0;34m\u001b[0m\u001b[0m\n",
      "\u001b[0;32m/usr/wisdom/python/lib/python2.7/site-packages/pandas/core/indexing.pyc\u001b[0m in \u001b[0;36m_validate_read_indexer\u001b[0;34m(self, key, indexer, axis)\u001b[0m\n\u001b[1;32m   1204\u001b[0m                 raise KeyError(\n\u001b[1;32m   1205\u001b[0m                     u\"None of [{key}] are in the [{axis}]\".format(\n\u001b[0;32m-> 1206\u001b[0;31m                         key=key, axis=self.obj._get_axis_name(axis)))\n\u001b[0m\u001b[1;32m   1207\u001b[0m \u001b[0;34m\u001b[0m\u001b[0m\n\u001b[1;32m   1208\u001b[0m             \u001b[0;31m# we skip the warning on Categorical/Interval\u001b[0m\u001b[0;34m\u001b[0m\u001b[0;34m\u001b[0m\u001b[0m\n",
      "\u001b[0;31mKeyError\u001b[0m: u\"None of [['BD1014', 'BD1068', 'BD1013', 'BD1061', 'BD1066', 'BD996', 'BD1053', 'BD1082', 'BD991', 'BD1054', 'BD1028', 'BD1026', 'BD1021', 'BD998', 'BD1030', 'BD989', 'BD958', 'BD1037', 'BD1094', 'BD1045', 'BD980', 'BD951', 'BD1093', 'BD1042', 'BD987', 'BD956', 'BD1077', 'BD963', 'BD1070', 'BD964', 'BD1002', 'BD1005', 'BD1079', 'BD1020', 'BD999', 'BD990', 'BD1084', 'BD1029', 'BD997', 'BD1052', 'BD1083', 'BD973', 'BD1067', 'BD974', 'BD1060', 'BD1012', 'BD1015', 'BD1069', 'BD1004', 'BD1078', 'BD1003', 'BD1071', 'BD965', 'BD1076', 'BD962', 'BD1092', 'BD986', 'BD957', 'BD1095', 'BD981', 'BD950', 'BD1036', 'BD1031', 'BD959', 'BD968', 'BD1000', 'BD1007', 'BD1009', 'BD1075', 'BD961', 'BD1072', 'BD1096', 'BD1047', 'BD982', 'BD953', 'BD985', 'BD1032', 'BD1098', 'BD1049', 'BD1035', 'BD1058', 'BD1089', 'BD1051', 'BD993', 'BD1056', 'BD1087', 'BD977', 'BD1063', 'BD1018', 'BD970', 'BD1064', 'BD1016', 'BD979', 'BD1011', 'BD1099', 'BD1048', 'BD1034', 'BD1033', 'BD1090', 'BD984', 'BD955', 'BD1097', 'BD983', 'BD952', 'BD1073', 'BD967', 'BD1008', 'BD1074', 'BD960', 'BD1006', 'BD969', 'BD1001', 'BD978', 'BD1010', 'BD1017', 'BD1019', 'BD971', 'BD1065', 'BD976', 'BD1062', 'BD992', 'BD1086', 'BD995', 'BD1050', 'BD1081', 'BD1088']] are in the [index]\""
     ]
    }
   ],
   "source": [
    "table_path='/net/mraid08/export/jafar/Microbiome/Analyses/Unicorn/AbundanceEstimation/Abundances/LargeOrNewGenusSGBs_5MSubsampling/\\\n",
    "stage1/LargeOrNewGenusSGBs_5MSubsampling_0.0001threshold_Noneratio_sSGB.csv'\n",
    "table_name='LargeOrNewGenusSGBs_5MSubsampling_0.0001threshold_Noneratio_sSGB'\n",
    "add_BD_for_sega_table(table_path,table_name)"
   ]
  },
  {
   "cell_type": "raw",
   "metadata": {},
   "source": [
    "interestingly, there are more species shared by patients than by controls,probbaly due to the lower number of patients (thus in order to be shared by 5% or more, a species need to be shared by only 7 patients in contrast to 24 controls."
   ]
  },
  {
   "cell_type": "markdown",
   "metadata": {},
   "source": [
    "### 5m subsampling, genus"
   ]
  },
  {
   "cell_type": "code",
   "execution_count": 17,
   "metadata": {
    "ExecuteTime": {
     "end_time": "2019-05-07T09:02:35.651755Z",
     "start_time": "2019-05-07T09:00:24.891128Z"
    },
    "scrolled": true
   },
   "outputs": [
    {
     "name": "stdout",
     "output_type": "stream",
     "text": [
      "('original table shape: ', (18049, 2212))\n",
      "('number of genotek samples: ', 681)\n",
      "('number of swab samples: ', 2205)\n",
      "\n",
      "**************************\n",
      "('table type= ', 'swab')\n",
      "('index length: ', 18049)\n",
      "('FD_samples length: ', 2205)\n",
      "**************************\n",
      "('sega_withBD.shape: ', (1373, 2214))\n",
      "('sega_withBD_PNP530Cardio126.shape: ', (655, 2211))\n",
      "('sega_withBD_PNP530Cardio126.index.nunique(): ', 603)\n",
      "('sega_withBD_PNP530Cardio126_merged.shape: ', (603, 2211))\n",
      "('rows with nas shape:', (0, 2211))\n",
      " \n",
      "PNP530\n",
      "('number of columns with 0.05-0.95 sharing: ', 498)\n",
      "('sega_withBD_PNP530_merged_005_095.shape: ', (478, 498))\n",
      "('sega_withBD_merged_min_max_binary.shape: ', (478, 498))\n",
      " \n",
      "Cardio126\n",
      "('number of columns with 0.05-0.95 sharing: ', 511)\n",
      "('sega_withBD_Cardio126_merged_005_095.shape: ', (125, 511))\n",
      "('sega_withBD_merged_min_max_binary.shape: ', (125, 511))\n",
      "\n",
      "**************************\n",
      "('table type= ', 'genotek')\n",
      "('index length: ', 18049)\n",
      "('FD_samples length: ', 681)\n",
      "**************************\n",
      "('sega_withBD.shape: ', (640, 2214))\n",
      "('sega_withBD_PNP530Cardio126.shape: ', (262, 2211))\n",
      "('sega_withBD_PNP530Cardio126.index.nunique(): ', 256)\n",
      "('sega_withBD_PNP530Cardio126_merged.shape: ', (256, 2211))\n",
      "('rows with nas shape:', (0, 2211))\n",
      " \n",
      "PNP530\n",
      "('number of columns with 0.05-0.95 sharing: ', 448)\n",
      "('sega_withBD_PNP530_merged_005_095.shape: ', (256, 448))\n",
      "('sega_withBD_merged_min_max_binary.shape: ', (256, 448))\n",
      " \n",
      "Cardio126\n"
     ]
    },
    {
     "ename": "KeyError",
     "evalue": "u\"None of [['BD1014', 'BD1068', 'BD1013', 'BD1061', 'BD1066', 'BD996', 'BD1053', 'BD1082', 'BD991', 'BD1054', 'BD1028', 'BD1026', 'BD1021', 'BD998', 'BD1030', 'BD989', 'BD958', 'BD1037', 'BD1094', 'BD1045', 'BD980', 'BD951', 'BD1093', 'BD1042', 'BD987', 'BD956', 'BD1077', 'BD963', 'BD1070', 'BD964', 'BD1002', 'BD1005', 'BD1079', 'BD1020', 'BD999', 'BD990', 'BD1084', 'BD1029', 'BD997', 'BD1052', 'BD1083', 'BD973', 'BD1067', 'BD974', 'BD1060', 'BD1012', 'BD1015', 'BD1069', 'BD1004', 'BD1078', 'BD1003', 'BD1071', 'BD965', 'BD1076', 'BD962', 'BD1092', 'BD986', 'BD957', 'BD1095', 'BD981', 'BD950', 'BD1036', 'BD1031', 'BD959', 'BD968', 'BD1000', 'BD1007', 'BD1009', 'BD1075', 'BD961', 'BD1072', 'BD1096', 'BD1047', 'BD982', 'BD953', 'BD985', 'BD1032', 'BD1098', 'BD1049', 'BD1035', 'BD1058', 'BD1089', 'BD1051', 'BD993', 'BD1056', 'BD1087', 'BD977', 'BD1063', 'BD1018', 'BD970', 'BD1064', 'BD1016', 'BD979', 'BD1011', 'BD1099', 'BD1048', 'BD1034', 'BD1033', 'BD1090', 'BD984', 'BD955', 'BD1097', 'BD983', 'BD952', 'BD1073', 'BD967', 'BD1008', 'BD1074', 'BD960', 'BD1006', 'BD969', 'BD1001', 'BD978', 'BD1010', 'BD1017', 'BD1019', 'BD971', 'BD1065', 'BD976', 'BD1062', 'BD992', 'BD1086', 'BD995', 'BD1050', 'BD1081', 'BD1088']] are in the [index]\"",
     "output_type": "error",
     "traceback": [
      "\u001b[0;31m---------------------------------------------------------------------------\u001b[0m",
      "\u001b[0;31mKeyError\u001b[0m                                  Traceback (most recent call last)",
      "\u001b[0;32m<ipython-input-17-d4c7489b8342>\u001b[0m in \u001b[0;36m<module>\u001b[0;34m()\u001b[0m\n\u001b[1;32m      1\u001b[0m \u001b[0mtable_path\u001b[0m\u001b[0;34m=\u001b[0m\u001b[0;34m'/net/mraid08/export/jafar/Microbiome/Analyses/Unicorn/AbundanceEstimation/Abundances/LargeOrNewGenusSGBs_5MSubsampling/stage1/LargeOrNewGenusSGBs_5MSubsampling_0.0001threshold_Noneratio_gSGB.csv'\u001b[0m\u001b[0;34m\u001b[0m\u001b[0m\n\u001b[1;32m      2\u001b[0m \u001b[0mtable_name\u001b[0m\u001b[0;34m=\u001b[0m\u001b[0;34m'LargeOrNewGenusSGBs_5MSubsampling_0.0001threshold_Noneratio_gSGB'\u001b[0m\u001b[0;34m\u001b[0m\u001b[0m\n\u001b[0;32m----> 3\u001b[0;31m \u001b[0madd_BD_for_sega_table\u001b[0m\u001b[0;34m(\u001b[0m\u001b[0mtable_path\u001b[0m\u001b[0;34m,\u001b[0m\u001b[0mtable_name\u001b[0m\u001b[0;34m)\u001b[0m\u001b[0;34m\u001b[0m\u001b[0m\n\u001b[0m",
      "\u001b[0;32m<ipython-input-14-4fe993d81ff6>\u001b[0m in \u001b[0;36madd_BD_for_sega_table\u001b[0;34m(table_path, table_name, minSharedPerc, maxSharedPerc)\u001b[0m\n\u001b[1;32m    113\u001b[0m                                                              minSharedPerc=minSharedPerc,maxSharedPerc=maxSharedPerc)\n\u001b[1;32m    114\u001b[0m     process_sega_data(sega_table=sega,isGenotek=True,FD_samples=FD_genotek_samples,BD_FD=BD_FD,\n\u001b[0;32m--> 115\u001b[0;31m                                                              minSharedPerc=minSharedPerc,maxSharedPerc=maxSharedPerc)\n\u001b[0m\u001b[1;32m    116\u001b[0m \u001b[0;34m\u001b[0m\u001b[0m\n\u001b[1;32m    117\u001b[0m     \u001b[0;32mreturn\u001b[0m\u001b[0;34m\u001b[0m\u001b[0m\n",
      "\u001b[0;32m<ipython-input-14-4fe993d81ff6>\u001b[0m in \u001b[0;36mprocess_sega_data\u001b[0;34m(sega_table, isGenotek, FD_samples, BD_FD, minSharedPerc, maxSharedPerc)\u001b[0m\n\u001b[1;32m     52\u001b[0m \u001b[0;34m\u001b[0m\u001b[0m\n\u001b[1;32m     53\u001b[0m         \u001b[0;31m## get only samples that are in the cohort:\u001b[0m\u001b[0;34m\u001b[0m\u001b[0;34m\u001b[0m\u001b[0m\n\u001b[0;32m---> 54\u001b[0;31m         \u001b[0mdf\u001b[0m\u001b[0;34m=\u001b[0m\u001b[0msega_withBD_PNP530Cardio126_merged\u001b[0m\u001b[0;34m.\u001b[0m\u001b[0mloc\u001b[0m\u001b[0;34m[\u001b[0m\u001b[0msample_list\u001b[0m\u001b[0;34m,\u001b[0m\u001b[0;34m:\u001b[0m\u001b[0;34m]\u001b[0m\u001b[0;34m.\u001b[0m\u001b[0mdropna\u001b[0m\u001b[0;34m(\u001b[0m\u001b[0mhow\u001b[0m\u001b[0;34m=\u001b[0m\u001b[0;34m'any'\u001b[0m\u001b[0;34m)\u001b[0m\u001b[0;34m\u001b[0m\u001b[0m\n\u001b[0m\u001b[1;32m     55\u001b[0m \u001b[0;34m\u001b[0m\u001b[0m\n\u001b[1;32m     56\u001b[0m         \u001b[0;31m#leave only columns in which species is present in more than 5% of samples and less than 95% of samples:\u001b[0m\u001b[0;34m\u001b[0m\u001b[0;34m\u001b[0m\u001b[0m\n",
      "\u001b[0;32m/usr/wisdom/python/lib/python2.7/site-packages/pandas/core/indexing.pyc\u001b[0m in \u001b[0;36m__getitem__\u001b[0;34m(self, key)\u001b[0m\n\u001b[1;32m   1470\u001b[0m             \u001b[0;32mexcept\u001b[0m \u001b[0;34m(\u001b[0m\u001b[0mKeyError\u001b[0m\u001b[0;34m,\u001b[0m \u001b[0mIndexError\u001b[0m\u001b[0;34m)\u001b[0m\u001b[0;34m:\u001b[0m\u001b[0;34m\u001b[0m\u001b[0m\n\u001b[1;32m   1471\u001b[0m                 \u001b[0;32mpass\u001b[0m\u001b[0;34m\u001b[0m\u001b[0m\n\u001b[0;32m-> 1472\u001b[0;31m             \u001b[0;32mreturn\u001b[0m \u001b[0mself\u001b[0m\u001b[0;34m.\u001b[0m\u001b[0m_getitem_tuple\u001b[0m\u001b[0;34m(\u001b[0m\u001b[0mkey\u001b[0m\u001b[0;34m)\u001b[0m\u001b[0;34m\u001b[0m\u001b[0m\n\u001b[0m\u001b[1;32m   1473\u001b[0m         \u001b[0;32melse\u001b[0m\u001b[0;34m:\u001b[0m\u001b[0;34m\u001b[0m\u001b[0m\n\u001b[1;32m   1474\u001b[0m             \u001b[0;31m# we by definition only have the 0th axis\u001b[0m\u001b[0;34m\u001b[0m\u001b[0;34m\u001b[0m\u001b[0m\n",
      "\u001b[0;32m/usr/wisdom/python/lib/python2.7/site-packages/pandas/core/indexing.pyc\u001b[0m in \u001b[0;36m_getitem_tuple\u001b[0;34m(self, tup)\u001b[0m\n\u001b[1;32m    888\u001b[0m                 \u001b[0;32mcontinue\u001b[0m\u001b[0;34m\u001b[0m\u001b[0m\n\u001b[1;32m    889\u001b[0m \u001b[0;34m\u001b[0m\u001b[0m\n\u001b[0;32m--> 890\u001b[0;31m             \u001b[0mretval\u001b[0m \u001b[0;34m=\u001b[0m \u001b[0mgetattr\u001b[0m\u001b[0;34m(\u001b[0m\u001b[0mretval\u001b[0m\u001b[0;34m,\u001b[0m \u001b[0mself\u001b[0m\u001b[0;34m.\u001b[0m\u001b[0mname\u001b[0m\u001b[0;34m)\u001b[0m\u001b[0;34m.\u001b[0m\u001b[0m_getitem_axis\u001b[0m\u001b[0;34m(\u001b[0m\u001b[0mkey\u001b[0m\u001b[0;34m,\u001b[0m \u001b[0maxis\u001b[0m\u001b[0;34m=\u001b[0m\u001b[0mi\u001b[0m\u001b[0;34m)\u001b[0m\u001b[0;34m\u001b[0m\u001b[0m\n\u001b[0m\u001b[1;32m    891\u001b[0m \u001b[0;34m\u001b[0m\u001b[0m\n\u001b[1;32m    892\u001b[0m         \u001b[0;32mreturn\u001b[0m \u001b[0mretval\u001b[0m\u001b[0;34m\u001b[0m\u001b[0m\n",
      "\u001b[0;32m/usr/wisdom/python/lib/python2.7/site-packages/pandas/core/indexing.pyc\u001b[0m in \u001b[0;36m_getitem_axis\u001b[0;34m(self, key, axis)\u001b[0m\n\u001b[1;32m   1899\u001b[0m                     \u001b[0;32mraise\u001b[0m \u001b[0mValueError\u001b[0m\u001b[0;34m(\u001b[0m\u001b[0;34m'Cannot index with multidimensional key'\u001b[0m\u001b[0;34m)\u001b[0m\u001b[0;34m\u001b[0m\u001b[0m\n\u001b[1;32m   1900\u001b[0m \u001b[0;34m\u001b[0m\u001b[0m\n\u001b[0;32m-> 1901\u001b[0;31m                 \u001b[0;32mreturn\u001b[0m \u001b[0mself\u001b[0m\u001b[0;34m.\u001b[0m\u001b[0m_getitem_iterable\u001b[0m\u001b[0;34m(\u001b[0m\u001b[0mkey\u001b[0m\u001b[0;34m,\u001b[0m \u001b[0maxis\u001b[0m\u001b[0;34m=\u001b[0m\u001b[0maxis\u001b[0m\u001b[0;34m)\u001b[0m\u001b[0;34m\u001b[0m\u001b[0m\n\u001b[0m\u001b[1;32m   1902\u001b[0m \u001b[0;34m\u001b[0m\u001b[0m\n\u001b[1;32m   1903\u001b[0m             \u001b[0;31m# nested tuple slicing\u001b[0m\u001b[0;34m\u001b[0m\u001b[0;34m\u001b[0m\u001b[0m\n",
      "\u001b[0;32m/usr/wisdom/python/lib/python2.7/site-packages/pandas/core/indexing.pyc\u001b[0m in \u001b[0;36m_getitem_iterable\u001b[0;34m(self, key, axis)\u001b[0m\n\u001b[1;32m   1141\u001b[0m             \u001b[0;32mif\u001b[0m \u001b[0mlabels\u001b[0m\u001b[0;34m.\u001b[0m\u001b[0mis_unique\u001b[0m \u001b[0;32mand\u001b[0m \u001b[0mIndex\u001b[0m\u001b[0;34m(\u001b[0m\u001b[0mkeyarr\u001b[0m\u001b[0;34m)\u001b[0m\u001b[0;34m.\u001b[0m\u001b[0mis_unique\u001b[0m\u001b[0;34m:\u001b[0m\u001b[0;34m\u001b[0m\u001b[0m\n\u001b[1;32m   1142\u001b[0m                 \u001b[0mindexer\u001b[0m \u001b[0;34m=\u001b[0m \u001b[0max\u001b[0m\u001b[0;34m.\u001b[0m\u001b[0mget_indexer_for\u001b[0m\u001b[0;34m(\u001b[0m\u001b[0mkey\u001b[0m\u001b[0;34m)\u001b[0m\u001b[0;34m\u001b[0m\u001b[0m\n\u001b[0;32m-> 1143\u001b[0;31m                 \u001b[0mself\u001b[0m\u001b[0;34m.\u001b[0m\u001b[0m_validate_read_indexer\u001b[0m\u001b[0;34m(\u001b[0m\u001b[0mkey\u001b[0m\u001b[0;34m,\u001b[0m \u001b[0mindexer\u001b[0m\u001b[0;34m,\u001b[0m \u001b[0maxis\u001b[0m\u001b[0;34m)\u001b[0m\u001b[0;34m\u001b[0m\u001b[0m\n\u001b[0m\u001b[1;32m   1144\u001b[0m \u001b[0;34m\u001b[0m\u001b[0m\n\u001b[1;32m   1145\u001b[0m                 \u001b[0md\u001b[0m \u001b[0;34m=\u001b[0m \u001b[0;34m{\u001b[0m\u001b[0maxis\u001b[0m\u001b[0;34m:\u001b[0m \u001b[0;34m[\u001b[0m\u001b[0max\u001b[0m\u001b[0;34m.\u001b[0m\u001b[0mreindex\u001b[0m\u001b[0;34m(\u001b[0m\u001b[0mkeyarr\u001b[0m\u001b[0;34m)\u001b[0m\u001b[0;34m[\u001b[0m\u001b[0;36m0\u001b[0m\u001b[0;34m]\u001b[0m\u001b[0;34m,\u001b[0m \u001b[0mindexer\u001b[0m\u001b[0;34m]\u001b[0m\u001b[0;34m}\u001b[0m\u001b[0;34m\u001b[0m\u001b[0m\n",
      "\u001b[0;32m/usr/wisdom/python/lib/python2.7/site-packages/pandas/core/indexing.pyc\u001b[0m in \u001b[0;36m_validate_read_indexer\u001b[0;34m(self, key, indexer, axis)\u001b[0m\n\u001b[1;32m   1204\u001b[0m                 raise KeyError(\n\u001b[1;32m   1205\u001b[0m                     u\"None of [{key}] are in the [{axis}]\".format(\n\u001b[0;32m-> 1206\u001b[0;31m                         key=key, axis=self.obj._get_axis_name(axis)))\n\u001b[0m\u001b[1;32m   1207\u001b[0m \u001b[0;34m\u001b[0m\u001b[0m\n\u001b[1;32m   1208\u001b[0m             \u001b[0;31m# we skip the warning on Categorical/Interval\u001b[0m\u001b[0;34m\u001b[0m\u001b[0;34m\u001b[0m\u001b[0m\n",
      "\u001b[0;31mKeyError\u001b[0m: u\"None of [['BD1014', 'BD1068', 'BD1013', 'BD1061', 'BD1066', 'BD996', 'BD1053', 'BD1082', 'BD991', 'BD1054', 'BD1028', 'BD1026', 'BD1021', 'BD998', 'BD1030', 'BD989', 'BD958', 'BD1037', 'BD1094', 'BD1045', 'BD980', 'BD951', 'BD1093', 'BD1042', 'BD987', 'BD956', 'BD1077', 'BD963', 'BD1070', 'BD964', 'BD1002', 'BD1005', 'BD1079', 'BD1020', 'BD999', 'BD990', 'BD1084', 'BD1029', 'BD997', 'BD1052', 'BD1083', 'BD973', 'BD1067', 'BD974', 'BD1060', 'BD1012', 'BD1015', 'BD1069', 'BD1004', 'BD1078', 'BD1003', 'BD1071', 'BD965', 'BD1076', 'BD962', 'BD1092', 'BD986', 'BD957', 'BD1095', 'BD981', 'BD950', 'BD1036', 'BD1031', 'BD959', 'BD968', 'BD1000', 'BD1007', 'BD1009', 'BD1075', 'BD961', 'BD1072', 'BD1096', 'BD1047', 'BD982', 'BD953', 'BD985', 'BD1032', 'BD1098', 'BD1049', 'BD1035', 'BD1058', 'BD1089', 'BD1051', 'BD993', 'BD1056', 'BD1087', 'BD977', 'BD1063', 'BD1018', 'BD970', 'BD1064', 'BD1016', 'BD979', 'BD1011', 'BD1099', 'BD1048', 'BD1034', 'BD1033', 'BD1090', 'BD984', 'BD955', 'BD1097', 'BD983', 'BD952', 'BD1073', 'BD967', 'BD1008', 'BD1074', 'BD960', 'BD1006', 'BD969', 'BD1001', 'BD978', 'BD1010', 'BD1017', 'BD1019', 'BD971', 'BD1065', 'BD976', 'BD1062', 'BD992', 'BD1086', 'BD995', 'BD1050', 'BD1081', 'BD1088']] are in the [index]\""
     ]
    }
   ],
   "source": [
    "table_path='/net/mraid08/export/jafar/Microbiome/Analyses/Unicorn/AbundanceEstimation/Abundances/LargeOrNewGenusSGBs_5MSubsampling/\\\n",
    "stage1/LargeOrNewGenusSGBs_5MSubsampling_0.0001threshold_Noneratio_gSGB.csv'\n",
    "table_name='LargeOrNewGenusSGBs_5MSubsampling_0.0001threshold_Noneratio_gSGB'\n",
    "add_BD_for_sega_table(table_path,table_name)"
   ]
  },
  {
   "cell_type": "raw",
   "metadata": {},
   "source": [
    "interestingly, there are more genus shared by patients than by controls,probbaly due to the lower number of patients (thus in order to be shared by 5% or more, a species need to be shared by only 7 patients in contrast to 24 controls."
   ]
  },
  {
   "cell_type": "markdown",
   "metadata": {},
   "source": [
    "## prepare Mb_feature_matrix:"
   ]
  },
  {
   "cell_type": "markdown",
   "metadata": {},
   "source": [
    "max freq, mean freq, top10freq,top100freq,shannon,simpson, berger"
   ]
  },
  {
   "cell_type": "code",
   "execution_count": null,
   "metadata": {
    "ExecuteTime": {
     "end_time": "2019-04-10T20:39:46.094635Z",
     "start_time": "2019-04-10T20:39:46.088469Z"
    }
   },
   "outputs": [],
   "source": [
    "basic_MB_file='/net/mraid08/export/jafar/Microbiome/\\\n",
    "Analyses/TCR/Mb_data_by_BD/LargeOrNewGenusSGBs_10MSubsampling_00001threshold_Noneratio_sSGB_byBD_PNP530Cardio126_swab.xlsx'"
   ]
  },
  {
   "cell_type": "code",
   "execution_count": null,
   "metadata": {
    "ExecuteTime": {
     "end_time": "2019-04-10T20:38:39.367230Z",
     "start_time": "2019-04-10T20:38:29.246643Z"
    }
   },
   "outputs": [],
   "source": [
    "\n",
    "\n",
    "MBDF=pd.read_excel(basic_MB_file).set_index('BD')\n",
    "MBfeatures=pd.DataFrame(index=MBDF.index)\n",
    "MBfeatures['MaxFreq']=MBDF.max(axis=1)\n",
    "MBfeatures['MeanFreq']=MBDF.mean(axis=1)\n",
    "MBfeatures['top10Freq']=MBDF.apply(lambda x: x.sort_values(ascending=False)[:10].sum(),axis=1)\n",
    "MBfeatures['top100Freq']=MBDF.apply(lambda x: x.sort_values(ascending=False)[:100].sum(),axis=1)\n",
    "MBfeatures['nSpecies']=(MBDF>0.0001).astype(int).sum(axis=1)                                \n",
    "\n",
    "                                    \n",
    "                                    # MBDF.max(axis=1)\n",
    "\n",
    "\n",
    "MBfeatures.head()"
   ]
  },
  {
   "cell_type": "code",
   "execution_count": null,
   "metadata": {
    "ExecuteTime": {
     "end_time": "2019-04-10T20:35:08.206932Z",
     "start_time": "2019-04-10T20:35:08.130487Z"
    }
   },
   "outputs": [],
   "source": [
    "MBDF3=MBDF * MBDF.sum(axis=1)\n",
    "MBDF3.head()\n",
    "# MBDF.iloc[:,-1]"
   ]
  },
  {
   "cell_type": "code",
   "execution_count": null,
   "metadata": {
    "ExecuteTime": {
     "end_time": "2019-04-10T20:14:16.714166Z",
     "start_time": "2019-04-10T20:14:16.695760Z"
    }
   },
   "outputs": [],
   "source": [
    "df.apply(lambda x: x.sort_values(ascending=False)[:3].sum(),axis=1)"
   ]
  },
  {
   "cell_type": "markdown",
   "metadata": {},
   "source": [
    "## prepare top20isCardio feature table:"
   ]
  },
  {
   "cell_type": "code",
   "execution_count": null,
   "metadata": {},
   "outputs": [],
   "source": [
    "featureDF=pd.read_excel('/net/mraid08/export/jafar/Microbiome/Analyses/TCR/TCRfeatures/TCRfeaturesNoT_PCA10percShared_withRels_VDJ_noCorr0-999_nanFilled_noConsts_PNP530.xlsx').set_index('BD')\n",
    "isCardioShap=pd.read_excel(PRED_RESULTS_DIR + 'isCardio/XGB_randomSearch_25_byRepFeatPCA10percVDJ0999PredictedAgeGender/shap_values_abs_sum_isCardio.xlsx')\n",
    "isCardioShap.head()\n"
   ]
  },
  {
   "cell_type": "code",
   "execution_count": null,
   "metadata": {},
   "outputs": [],
   "source": [
    "featureDF_top20isCardioFeatures=featureDF"
   ]
  },
  {
   "cell_type": "code",
   "execution_count": null,
   "metadata": {},
   "outputs": [],
   "source": []
  },
  {
   "cell_type": "markdown",
   "metadata": {},
   "source": [
    "## check prediction results:"
   ]
  },
  {
   "cell_type": "markdown",
   "metadata": {},
   "source": [
    "###  - all features, no feature selection, species"
   ]
  },
  {
   "cell_type": "code",
   "execution_count": null,
   "metadata": {
    "ExecuteTime": {
     "end_time": "2019-04-17T09:45:56.986891Z",
     "start_time": "2019-04-17T09:45:56.223002Z"
    }
   },
   "outputs": [],
   "source": [
    "AUC_threshold=0.6\n",
    "kappa_threshold=0.2\n",
    "r_threshold=0\n",
    "p_r_threshold=0.05\n",
    "\n",
    "pd.set_option('display.max_colwidth', -1)\n",
    "\n",
    "dir1='/net/mraid08/export/jafar/Microbiome/Analyses/ShaniBAF/predictions2/TCR_features_updated/'\n",
    "prediction_dirs=listdir(dir1)\n",
    "#     'TCRfeatures_XGB50_randomSearch_25_by_optByExpVar/',\n",
    "#     'TCRfeatures_XGB100_randomSearch_25_by_optByExpVar'\n",
    "#            ]\n",
    "\n",
    "summaryDF=pd.DataFrame()\n",
    "problematic_dirs=[]\n",
    "for pred_dir in prediction_dirs:\n",
    "#     f2=dir1+pred_dir+'/predictions_df.pkl'\n",
    "#     predDF=pd.read_pickle(f2)\n",
    "#     print ('predDF shape=',predDF.shape)\n",
    "#     print predDF.tail(10)\n",
    "    \n",
    "    f1=dir1+pred_dir+'/results_df.pkl'\n",
    "#     print d\n",
    "    try:\n",
    "        df= pd.read_pickle(f1)\n",
    "        df['dir']=pred_dir.replace('Acute_medication_phenotypes_','')\n",
    "        summaryDF=pd.concat([summaryDF,df])\n",
    "    except:\n",
    "        print ' couldnt get results from %s' %pred_dir\n",
    "        problematic_dirs.append(pred_dir)\n",
    "    print pred_dir\n",
    "    print ('results_df.shape: ',df.shape)\n",
    "#     print df.head()\n",
    "        \n",
    "print ('number of problematic dirs=',len(problematic_dirs))\n",
    "\n",
    "interesting_cols=['dir','pearson_r','pearson_p']\n",
    "summaryDF=summaryDF.reset_index().sort_values(by=['pearson_r'],ascending=False).set_index('index')[interesting_cols]\n",
    "\n",
    "# [interesting_cols]\n",
    "# .set_index('dir')\n",
    "\n",
    "# for phen in summaryDF.index.unique():\n",
    "#     print phen\n",
    "#     print summaryDF[summaryDF.index==phen]\n",
    "# \n",
    "summaryDF=add_corrected_pValues(summaryDF, pValueColumn='pearson_p', nTests=len(summaryDF), FDR=0.1)\n",
    "summaryDF"
   ]
  },
  {
   "cell_type": "markdown",
   "metadata": {},
   "source": [
    "###  - all features, no feature selection, genus"
   ]
  },
  {
   "cell_type": "code",
   "execution_count": null,
   "metadata": {
    "ExecuteTime": {
     "end_time": "2019-04-17T09:51:52.148115Z",
     "start_time": "2019-04-17T09:51:51.768360Z"
    }
   },
   "outputs": [],
   "source": [
    "AUC_threshold=0.6\n",
    "kappa_threshold=0.2\n",
    "r_threshold=0\n",
    "p_r_threshold=0.05\n",
    "\n",
    "pd.set_option('display.max_colwidth', -1)\n",
    "\n",
    "dir1='/net/mraid08/export/jafar/Microbiome/Analyses/ShaniBAF/predictions2/TCR_features_updated/byMBgenus/'\n",
    "prediction_dirs=listdir(dir1)\n",
    "#     'TCRfeatures_XGB50_randomSearch_25_by_optByExpVar/',\n",
    "#     'TCRfeatures_XGB100_randomSearch_25_by_optByExpVar'\n",
    "#            ]\n",
    "\n",
    "summaryDF=pd.DataFrame()\n",
    "problematic_dirs=[]\n",
    "for pred_dir in prediction_dirs:\n",
    "#     f2=dir1+pred_dir+'/predictions_df.pkl'\n",
    "#     predDF=pd.read_pickle(f2)\n",
    "#     print ('predDF shape=',predDF.shape)\n",
    "#     print predDF.tail(10)\n",
    "    \n",
    "    f1=dir1+pred_dir+'/results_df.pkl'\n",
    "#     print d\n",
    "    try:\n",
    "        df= pd.read_pickle(f1)\n",
    "        df['dir']=pred_dir.replace('Acute_medication_phenotypes_','')\n",
    "        summaryDF=pd.concat([summaryDF,df])\n",
    "    except:\n",
    "        print ' couldnt get results from %s' %pred_dir\n",
    "        problematic_dirs.append(pred_dir)\n",
    "    print pred_dir\n",
    "    print ('results_df.shape: ',df.shape)\n",
    "#     print df.head()\n",
    "        \n",
    "print ('number of problematic dirs=',len(problematic_dirs))\n",
    "\n",
    "interesting_cols=['dir','pearson_r','pearson_p']\n",
    "summaryDF=summaryDF.reset_index().sort_values(by=['pearson_r'],ascending=False).set_index('index')[interesting_cols]\n",
    "\n",
    "# [interesting_cols]\n",
    "# .set_index('dir')\n",
    "\n",
    "# for phen in summaryDF.index.unique():\n",
    "#     print phen\n",
    "#     print summaryDF[summaryDF.index==phen]\n",
    "# \n",
    "summaryDF=add_corrected_pValues(summaryDF, pValueColumn='pearson_p', nTests=len(summaryDF), FDR=0.1)\n",
    "summaryDF"
   ]
  },
  {
   "cell_type": "markdown",
   "metadata": {},
   "source": [
    "### top20isCardio features, feature selection=50"
   ]
  },
  {
   "cell_type": "code",
   "execution_count": null,
   "metadata": {
    "ExecuteTime": {
     "end_time": "2019-04-17T09:47:42.804978Z",
     "start_time": "2019-04-17T09:47:42.342302Z"
    }
   },
   "outputs": [],
   "source": [
    "AUC_threshold=0.6\n",
    "kappa_threshold=0.2\n",
    "r_threshold=0\n",
    "p_r_threshold=0.05\n",
    "\n",
    "pd.set_option('display.max_colwidth', -1)\n",
    "\n",
    "dir1='/net/mraid08/export/jafar/Microbiome/Analyses/ShaniBAF/predictions2/TCR_features_updated/top20isCardioShapFeatures/'\n",
    "prediction_dirs=listdir(dir1)\n",
    "#     'TCRfeatures_XGB50_randomSearch_25_by_optByExpVar/',\n",
    "#     'TCRfeatures_XGB100_randomSearch_25_by_optByExpVar'\n",
    "#            ]\n",
    "\n",
    "summaryDF=pd.DataFrame()\n",
    "problematic_dirs=[]\n",
    "for pred_dir in prediction_dirs:\n",
    "#     f2=dir1+pred_dir+'/predictions_df.pkl'\n",
    "#     predDF=pd.read_pickle(f2)\n",
    "#     print ('predDF shape=',predDF.shape)\n",
    "#     print predDF.tail(10)\n",
    "    \n",
    "    f1=dir1+pred_dir+'/results_df.pkl'\n",
    "#     print d\n",
    "    try:\n",
    "        df= pd.read_pickle(f1)\n",
    "        df['dir']=pred_dir.replace('Acute_medication_phenotypes_','')\n",
    "        summaryDF=pd.concat([summaryDF,df])\n",
    "    except:\n",
    "        print ' couldnt get results from %s' %pred_dir\n",
    "        problematic_dirs.append(pred_dir)\n",
    "    print pred_dir\n",
    "    print ('results_df.shape: ',df.shape)\n",
    "#     print df.head()\n",
    "        \n",
    "print ('number of problematic dirs=',len(problematic_dirs))\n",
    "\n",
    "interesting_cols=['dir','pearson_r','pearson_p']\n",
    "summaryDF=summaryDF.reset_index().sort_values(by=['pearson_r'],ascending=False).set_index('index')[interesting_cols]\n",
    "\n",
    "# [interesting_cols]\n",
    "# .set_index('dir')\n",
    "\n",
    "# for phen in summaryDF.index.unique():\n",
    "#     print phen\n",
    "#     print summaryDF[summaryDF.index==phen]\n",
    "# \n",
    "summaryDF=add_corrected_pValues(summaryDF, pValueColumn='pearson_p', nTests=len(summaryDF), FDR=0.1)\n",
    "summaryDF"
   ]
  },
  {
   "cell_type": "markdown",
   "metadata": {},
   "source": [
    "## get shap values:"
   ]
  },
  {
   "cell_type": "code",
   "execution_count": null,
   "metadata": {
    "ExecuteTime": {
     "end_time": "2019-04-18T12:19:21.256771Z",
     "start_time": "2019-04-18T12:18:19.259247Z"
    }
   },
   "outputs": [],
   "source": [
    "dir_list=[('shannon_aa_1',PRED_RESULTS_DIR + 'TCR_features_updated/TCRfeatures_XGB_randomSearch_25_bySpecies5Mssgenotek_optByExpVar/'),\n",
    "         ('Influenza_rel_cum_freq(perc)',PRED_RESULTS_DIR + 'TCR_features_updated/TCRfeatures_XGB_randomSearch_25_bySpecies5Mssgenotek_binary_optByExpVar/'),\n",
    "          ('WestNilevirus_rel_cum_freq(perc)',PRED_RESULTS_DIR + 'TCR_features_updated/TCRfeatures_XGB_randomSearch_25_bySpecies5Mssswab_optByExpVar/'),\n",
    "           ('top1000clonal_aa_1',PRED_RESULTS_DIR + 'TCR_features_updated/byMBgenus/TCRfeatures_XGB99999_randomSearch_25_byGenus5Mssgenotek_binary_optByExpVar/'),\n",
    "          ('normSeqNums_per2000_NT_1',PRED_RESULTS_DIR + 'TCR_features_updated/top20isCardioShapFeatures/top100Clusters_XGB50_randomSearch_25_byGenus5Mssgenotek_binary_optByExpVar/'),\n",
    "                  ]\n",
    "\n",
    "shap_values_list=[]\n",
    "shap_values_rank_list=[]\n",
    "shap_values_top20=[]\n",
    "for item in dir_list:\n",
    "    print ''\n",
    "    print item[0]\n",
    "    df=pd.read_pickle(item[1]+'shap_values.pkl')[item[0]]\n",
    "#     print df.head()\n",
    "    shap_values=df.abs().sum().sort_values(ascending=False).rename(item[0])\n",
    "    print shap_values.head(20)\n",
    "    shap_values_list.append(shap_values)\n",
    "    shap_values.to_excel(item[1]+'shap_values_abs_sum_%s.xlsx' %item[0])\n",
    "    shap_values_rank=pd.DataFrame(index=shap_values.index,data={'%s_rank' %item[0]:range(shap_values.shape[0])})\n",
    "    shap_values_rank_list.append(shap_values_rank)\n",
    "    shap_values_top20.append(shap_values[:20])\n",
    "    \n",
    "all_shap=pd.concat(shap_values_list,axis=1)\n",
    "all_shap_ranks=pd.concat(shap_values_rank_list,axis=1)\n",
    "all_shap_values_top20=pd.concat(shap_values_top20,axis=1)\n",
    "all_shap_ranks.head()\n",
    "\n",
    "\n",
    "    \n",
    "\n"
   ]
  },
  {
   "cell_type": "code",
   "execution_count": null,
   "metadata": {
    "ExecuteTime": {
     "end_time": "2019-04-18T12:44:10.998064Z",
     "start_time": "2019-04-18T12:44:10.528775Z"
    }
   },
   "outputs": [],
   "source": [
    "all_shap=all_shap.sort_values(by=['top1000clonal_aa_1','normSeqNums_per2000_NT_1'],ascending=False)\n",
    "# all_shap_values_top20=all_shap_values_top20.sort_values(by=['top1000clonal_aa_1','normSeqNums_per2000_NT_1'],ascending=False)\n",
    "# all_shap_ranks=all_shap_ranks.sort_values(by=['top1000Clonal_aa_1','normSeqNums_per2000_NT_1'])\n",
    "all_shap_normed=all_shap / all_shap.sum()\n",
    "all_shap_values_top20_normed = all_shap_values_top20 / all_shap_values_top20.sum()\n",
    "\n",
    "all_shap_normed.to_excel(PRED_RESULTS_DIR+'TCR_features/topPredictedFeatures_shapSummart_%s.xlsx' %cdate)\n",
    "all_shap_ranks.to_excel(PRED_RESULTS_DIR+'TCR_features/topPredictedFeatures_shapRanksSummary_%s.xlsx' %cdate)\n",
    "all_shap_values_top20_normed.to_excel(PRED_RESULTS_DIR+'TCR_features/top20PredictedFeatures_shapSummary_%s.xlsx' %cdate)\n",
    "\n",
    "all_shap_normed=all_shap_normed.fillna(0)\n",
    "all_shap_normed_corr=all_shap_normed.corr()\n",
    "all_shap_normed_corr\n"
   ]
  },
  {
   "cell_type": "code",
   "execution_count": null,
   "metadata": {
    "ExecuteTime": {
     "end_time": "2019-04-18T12:49:52.903155Z",
     "start_time": "2019-04-18T12:49:50.964063Z"
    }
   },
   "outputs": [],
   "source": [
    "fig,ax=plt.subplots(figsize=(10,10))\n",
    "sns.heatmap(all_shap_values_top20_normed, vmin=None, vmax=None, cmap='Reds', center=None,ax=ax)\n",
    "fig.savefig(PRED_RESULTS_DIR+'TCR_features/top20PredictedFeaturesNormed_shapSummary_%s.png')\n",
    "plt.show()"
   ]
  },
  {
   "cell_type": "code",
   "execution_count": null,
   "metadata": {},
   "outputs": [],
   "source": []
  },
  {
   "cell_type": "markdown",
   "metadata": {},
   "source": [
    "## run 25 permutations and 25 bs to confirm top results:"
   ]
  },
  {
   "cell_type": "markdown",
   "metadata": {},
   "source": [
    "V12_J01_0,\n",
    "YellowFeverVirus_rel_seq_count\t"
   ]
  },
  {
   "cell_type": "markdown",
   "metadata": {},
   "source": [
    "### get permutation results manually for some features:\n"
   ]
  },
  {
   "cell_type": "markdown",
   "metadata": {},
   "source": [
    "there are some features with parenthesis in the names which makes troubles for the script:"
   ]
  },
  {
   "cell_type": "code",
   "execution_count": null,
   "metadata": {
    "ExecuteTime": {
     "end_time": "2019-04-18T10:53:45.736544Z",
     "start_time": "2019-04-18T10:53:45.442444Z"
    }
   },
   "outputs": [],
   "source": [
    "feature='Influenza_rel_cum_freq'\n",
    "pred_dir='/net/mraid08/export/jafar/Microbiome/Analyses/ShaniBAF/predictions2/TCR_features_updated/TCRfeatures_XGB_randomSearch_25_bySpecies5Mssgenotek_binary_optByExpVar/'\n",
    "\n",
    "dir1=PRED_RESULTS_DIR+'TCR_features/permutations/%s_bySpecies5Mssgenotek_XGB_optByExpVar/' %feature\n",
    "\n",
    "dir_list=[x for x in listdir(dir1) if 'bs' in x or 'shuf' in x]\n",
    "pearson_list_bs=[]\n",
    "pearson_list_shuf=[]\n",
    "\n",
    "for d in dir_list:\n",
    "    f1=dir1+d+'/results_df.pkl'\n",
    "    df=pd.read_pickle(f1)\n",
    "    pearson=df.loc[feature,'pearson_r']\n",
    "    if 'bs' in d:\n",
    "        pearson_list_bs.append(pearson)\n",
    "    elif 'shuf' in d:\n",
    "        pearson_list_shuf.append(pearson)\n",
    "        \n",
    "real=pd.read_pickle(pred_dir+'/results_df.pkl')\n",
    "pearson_real=real.loc[feature+'(perc)','pearson_r']\n",
    "\n",
    "print ('pearson_Real= ', pearson_real)\n",
    "\n",
    "mean_bs=np.mean(pearson_list_bs)\n",
    "print ('mean_bs: ',mean_bs)\n",
    "mean_shuf=np.mean(pearson_list_shuf)\n",
    "print ('mean_shuf: ',mean_shuf)\n",
    "max_bs=np.max(pearson_list_bs)\n",
    "print ('max_bs: ',max_bs)\n",
    "max_shuf=np.max(pearson_list_shuf)\n",
    "print ('max_shuf: ',max_shuf)\n",
    "\n",
    "s_MW,P_MW=mannwhitneyu(pearson_list_bs,pearson_list_shuf)\n",
    "print ('mann whitnety p= ',P_MW)\n",
    "s_t,P_t=ttest_ind(pearson_list_bs,pearson_list_shuf)\n",
    "print ('ttest p= ',P_t)\n",
    "\n",
    "        "
   ]
  },
  {
   "cell_type": "code",
   "execution_count": null,
   "metadata": {
    "ExecuteTime": {
     "end_time": "2019-04-18T10:54:43.170102Z",
     "start_time": "2019-04-18T10:54:42.099785Z"
    }
   },
   "outputs": [],
   "source": [
    "feature='WestNilevirus_rel_cum_freq'\n",
    "pred_dir='/net/mraid08/export/jafar/Microbiome/Analyses/ShaniBAF/predictions2/TCR_features_updated/TCRfeatures_XGB_randomSearch_25_bySpecies5Mssswab_optByExpVar/'\n",
    "\n",
    "dir1=PRED_RESULTS_DIR+'TCR_features/permutations/%s_bySpecies5Mssgenotek_XGB_optByExpVar/' %feature\n",
    "\n",
    "dir_list=[x for x in listdir(dir1) if 'bs' in x or 'shuf' in x]\n",
    "pearson_list_bs=[]\n",
    "pearson_list_shuf=[]\n",
    "\n",
    "for d in dir_list:\n",
    "    f1=dir1+d+'/results_df.pkl'\n",
    "    df=pd.read_pickle(f1)\n",
    "    pearson=df.loc[feature,'pearson_r']\n",
    "    if 'bs' in d:\n",
    "        pearson_list_bs.append(pearson)\n",
    "    elif 'shuf' in d:\n",
    "        pearson_list_shuf.append(pearson)\n",
    "        \n",
    "real=pd.read_pickle(pred_dir+'/results_df.pkl')\n",
    "pearson_real=real.loc[feature+'(perc)','pearson_r']\n",
    "\n",
    "print ('pearson_Real= ', pearson_real)\n",
    "\n",
    "mean_bs=np.mean(pearson_list_bs)\n",
    "print ('mean_bs: ',mean_bs)\n",
    "mean_shuf=np.mean(pearson_list_shuf)\n",
    "print ('mean_shuf: ',mean_shuf)\n",
    "max_bs=np.max(pearson_list_bs)\n",
    "print ('max_bs: ',max_bs)\n",
    "max_shuf=np.max(pearson_list_shuf)\n",
    "print ('max_shuf: ',max_shuf)\n",
    "\n",
    "s_MW,P_MW=mannwhitneyu(pearson_list_bs,pearson_list_shuf)\n",
    "print ('mann whitnety p= ',P_MW)\n",
    "s_t,P_t=ttest_ind(pearson_list_bs,pearson_list_shuf)\n",
    "print ('ttest p= ',P_t)\n",
    "\n",
    "        "
   ]
  },
  {
   "cell_type": "code",
   "execution_count": null,
   "metadata": {},
   "outputs": [],
   "source": []
  },
  {
   "cell_type": "code",
   "execution_count": null,
   "metadata": {},
   "outputs": [],
   "source": []
  },
  {
   "cell_type": "code",
   "execution_count": null,
   "metadata": {},
   "outputs": [],
   "source": []
  },
  {
   "cell_type": "markdown",
   "metadata": {},
   "source": [
    "# predict TCR clusters using MB data"
   ]
  },
  {
   "cell_type": "markdown",
   "metadata": {},
   "source": [
    "## prepare table with top 100 differentiating clusters:"
   ]
  },
  {
   "cell_type": "code",
   "execution_count": null,
   "metadata": {
    "ExecuteTime": {
     "end_time": "2019-05-01T20:11:02.744227Z",
     "start_time": "2019-05-01T20:11:02.378829Z"
    }
   },
   "outputs": [],
   "source": [
    "#get top 100 clusters:\n",
    "top_diff_clusters=pd.read_excel(CLUSTER_ANALYSIS_DIR+'Fisher_MW_comparisons/PNP530_balancedAge_males_prodClusRed\\\n",
    "_Cardio126_balancedAge_males_prodClusRed_percShared01_percTooMany085_top100p05_analyzed.xlsx')\n",
    "cluster_list=top_diff_clusters['cluster_head'].dropna().tolist()\n",
    "print ('begning of cluster list: ',cluster_list[:10])\n"
   ]
  },
  {
   "cell_type": "code",
   "execution_count": null,
   "metadata": {
    "ExecuteTime": {
     "end_time": "2019-05-01T20:12:03.947779Z",
     "start_time": "2019-05-01T20:12:03.878596Z"
    }
   },
   "outputs": [],
   "source": [
    "top_diff_clusters.head()"
   ]
  },
  {
   "cell_type": "code",
   "execution_count": null,
   "metadata": {
    "ExecuteTime": {
     "end_time": "2019-04-08T20:38:25.269549Z",
     "start_time": "2019-04-08T20:38:10.045556Z"
    }
   },
   "outputs": [],
   "source": [
    "#get data:\n",
    "print 'getting data...'\n",
    "sampleByClusterDF=pd.read_pickle('/net/mraid08/export/jafar/Microbiome/Analyses/ShaniBAF/\\\n",
    "sharingAnalysis/seqClusters_allProd_maxdist1/sampleByClusterDF_cohortfiltering005-085perc_dropped.dat')"
   ]
  },
  {
   "cell_type": "code",
   "execution_count": null,
   "metadata": {
    "ExecuteTime": {
     "end_time": "2019-04-08T20:42:16.446094Z",
     "start_time": "2019-04-08T20:42:14.597127Z"
    }
   },
   "outputs": [],
   "source": [
    "top100_clsuterDF_PNP530=sampleByClusterDF.loc[PNP530,cluster_list].fillna(0)\n",
    "print top100_clsuterDF_PNP530.shape\n",
    "top100_clsuterDF_PNP530.head()\n",
    "\n",
    "top100_clsuterDF_PNP530.to_excel('/net/mraid08/export/jafar/Microbiome/Analyses/TCR/TCR_seqs_clusters/top100_clusterDF_PNP530.xlsx')"
   ]
  },
  {
   "cell_type": "markdown",
   "metadata": {},
   "source": [
    "## prepare binary version of this table:"
   ]
  },
  {
   "cell_type": "code",
   "execution_count": null,
   "metadata": {
    "ExecuteTime": {
     "end_time": "2019-04-08T20:42:43.940182Z",
     "start_time": "2019-04-08T20:42:42.492943Z"
    }
   },
   "outputs": [],
   "source": [
    "top100_clsuterDF_PNP530_binary=(top100_clsuterDF_PNP530>0).astype(int)\n",
    "print top100_clsuterDF_PNP530_binary.shape\n",
    "top100_clsuterDF_PNP530_binary.head()\n",
    "top100_clsuterDF_PNP530_binary.to_excel('/net/mraid08/export/jafar/Microbiome/Analyses/TCR/TCR_seqs_clusters/top100_clusterDF_PNP530_binary.xlsx')"
   ]
  },
  {
   "cell_type": "markdown",
   "metadata": {},
   "source": [
    "## predict top 100 features using microbiome RA and binary data:"
   ]
  },
  {
   "cell_type": "markdown",
   "metadata": {},
   "source": [
    "## check prediction results:"
   ]
  },
  {
   "cell_type": "markdown",
   "metadata": {},
   "source": [
    "### species"
   ]
  },
  {
   "cell_type": "code",
   "execution_count": null,
   "metadata": {
    "ExecuteTime": {
     "end_time": "2019-04-17T10:10:10.827219Z",
     "start_time": "2019-04-17T10:10:10.524042Z"
    }
   },
   "outputs": [],
   "source": [
    "AUC_threshold=0.6\n",
    "kappa_threshold=0.2\n",
    "r_threshold=0\n",
    "p_r_threshold=0.05\n",
    "\n",
    "pd.set_option('display.max_colwidth', -1)\n",
    "\n",
    "dir1='/net/mraid08/export/jafar/Microbiome/Analyses/ShaniBAF/predictions2/TCR_seqs_clusters/'\n",
    "prediction_dirs=['top100Clusters_XGB_randomSearch_25_bySpecies5Mssswab_binary_optByExpVar/',\n",
    "    'top100Clusters_XGB_randomSearch_25_bySpecies5Mssswab_optByExpVar',\n",
    "                 'top100Clusters_XGB_randomSearch_25_bySpecies5Mssgenotek_binary_optByExpVar',\n",
    "                 'top100Clusters_XGB_randomSearch_25_bySpecies5Mssgenotek_optByExpVar'\n",
    "           ]\n",
    "\n",
    "summaryDF=pd.DataFrame()\n",
    "problematic_dirs=[]\n",
    "for pred_dir in prediction_dirs:\n",
    "#     f2=dir1+pred_dir+'/predictions_df.pkl'\n",
    "#     predDF=pd.read_pickle(f2)\n",
    "#     print ('predDF shape=',predDF.shape)\n",
    "#     print predDF.tail(10)\n",
    "    \n",
    "    f1=dir1+pred_dir+'/results_df.pkl'\n",
    "#     print d\n",
    "    try:\n",
    "        df= pd.read_pickle(f1)\n",
    "        df['dir']=pred_dir.replace('Acute_medication_phenotypes_','')\n",
    "        summaryDF=pd.concat([summaryDF,df])\n",
    "    except:\n",
    "        print ' couldnt get results from %s' %pred_dir\n",
    "        problematic_dirs.append(pred_dir)\n",
    "    print pred_dir\n",
    "    print ('results_df.shape: ',df.shape)\n",
    "#     print df.head()\n",
    "        \n",
    "print ('number of problematic dirs=',len(problematic_dirs))\n",
    "\n",
    "interesting_cols=['dir','AUC','prevalence','Precision_Recall','kappa']\n",
    "summaryDF=summaryDF.reset_index().sort_values(by=['AUC'],ascending=False).set_index('index')[interesting_cols]\n",
    "\n",
    "summaryDF"
   ]
  },
  {
   "cell_type": "markdown",
   "metadata": {},
   "source": [
    "### genus"
   ]
  },
  {
   "cell_type": "code",
   "execution_count": null,
   "metadata": {
    "ExecuteTime": {
     "end_time": "2019-04-15T13:59:59.089554Z",
     "start_time": "2019-04-15T13:59:58.812197Z"
    }
   },
   "outputs": [],
   "source": [
    "AUC_threshold=0.6\n",
    "kappa_threshold=0.2\n",
    "r_threshold=0\n",
    "p_r_threshold=0.05\n",
    "\n",
    "pd.set_option('display.max_colwidth', -1)\n",
    "\n",
    "dir1='/net/mraid08/export/jafar/Microbiome/Analyses/ShaniBAF/predictions2/TCR_seqs_clusters/byMBgenus/'\n",
    "prediction_dirs=listdir(dir1)\n",
    "# ['top100Clusters_XGB50_randomSearch_25_byGenus5Mssswab_binary_optByExpVar/',\n",
    "#     'top100Clusters_XGB50_randomSearch_25_byGenus5Mssswab_optByExpVar',\n",
    "#                  'top100Clusters_XGB50_randomSearch_25_byGenus5Mssgenotek_binary_optByExpVar',\n",
    "#                  'top100Clusters_XGB50_randomSearch_25_byGenus5Mssgenotek_optByExpVar'\n",
    "#            ]\n",
    "\n",
    "summaryDF=pd.DataFrame()\n",
    "problematic_dirs=[]\n",
    "for pred_dir in prediction_dirs:\n",
    "#     f2=dir1+pred_dir+'/predictions_df.pkl'\n",
    "#     predDF=pd.read_pickle(f2)\n",
    "#     print ('predDF shape=',predDF.shape)\n",
    "#     print predDF.tail(10)\n",
    "    \n",
    "    f1=dir1+pred_dir+'/results_df.pkl'\n",
    "#     print d\n",
    "#     try:\n",
    "    df= pd.read_pickle(f1)\n",
    "    df['dir']=pred_dir.replace('Acute_medication_phenotypes_','')\n",
    "    summaryDF=pd.concat([summaryDF,df])\n",
    "#     except:\n",
    "#         print ' couldnt get results from %s' %pred_dir\n",
    "#         problematic_dirs.append(pred_dir)\n",
    "    print pred_dir\n",
    "    print ('results_df.shape: ',df.shape)\n",
    "#     print df.head()\n",
    "        \n",
    "print ('number of problematic dirs=',len(problematic_dirs))\n",
    "\n",
    "interesting_cols=['dir','AUC','prevalence','Precision_Recall','kappa']\n",
    "summaryDF=summaryDF.reset_index().sort_values(by=['AUC'],ascending=False).set_index('index')[interesting_cols]\n",
    "\n",
    "summaryDF"
   ]
  },
  {
   "cell_type": "code",
   "execution_count": null,
   "metadata": {},
   "outputs": [],
   "source": []
  },
  {
   "cell_type": "markdown",
   "metadata": {},
   "source": [
    "# check cluster-species pairwise associations"
   ]
  },
  {
   "cell_type": "code",
   "execution_count": null,
   "metadata": {
    "ExecuteTime": {
     "end_time": "2019-04-16T10:31:46.417481Z",
     "start_time": "2019-04-16T10:31:46.240526Z"
    }
   },
   "outputs": [],
   "source": [
    "def analyze_tcr_Mb_relations(MBdf,TCRdf_binary,nShared_perSpecies,nShared_perTCR,binary_zero=0.0001):\n",
    "    \n",
    "    #this function calculate the associations between TCR sequenceses and microbial species. the TCRdf should be binary and the MBdf should not be binary.\n",
    "    # Fisher test is calculated for binarized species data and mann-whitney for not-binarized data\n",
    "    #binary_zero - the value that will be regarded as zero for binarizing the df. for Mb\n",
    "    # data it is usually 0.0001\n",
    "    ######### this function was written for analyzing Ravid's sample - check if it really generalizes ########\n",
    "    \n",
    "    #filter species and generate binary df:\n",
    "    sample_count=MBdf.count()\n",
    "    species_filtered=MBdf.loc[:,sample_count[(sample_count>=nShared_perSpecies)&(sample_count<len(MBdf)+1)].index].fillna(0)\n",
    "    print ('species shape after filtering only for species that appear in more than %s: ' %nShared_perSpecies,species_filtered.shape)\n",
    "#     print species_filtered.iloc[:4,:4]\n",
    "    species_filtered_binary=(species_filtered>binary_zero).astype(int)\n",
    "    print 'binary:'\n",
    "#     print species_filtered_binary.iloc[:4,:4]\n",
    "    \n",
    "    #filter TCRs:\n",
    "    cols_to_use=[col for col in TCRdf_binary if (TCRdf_binary[col].sum()>=nShared_perTCR) & (TCRdf_binary[col].sum()<len(TCRdf_binary))]\n",
    "    TCRdf_binary_filtered=TCRdf_binary[cols_to_use]\n",
    "    print ('TCRdf shape after filtering only for seqs that appear in more than %s: ' %nShared_perTCR,TCRdf_binary_filtered.shape)\n",
    "#     print TCRdf_binary_filtered.iloc[:4,:4]\n",
    "\n",
    "    print ('total number of tests: ',TCRdf_binary_filtered.shape[1]*species_filtered.shape[1] )\n",
    "    \n",
    "    #run over all seqs and species and calculate MW and fisher test:\n",
    "    summary_df=pd.DataFrame()\n",
    "    count=0\n",
    "    for i, seq in enumerate(TCRdf_binary_filtered.columns):\n",
    "        print i, seq\n",
    "    #     print i,seq\n",
    "        for j, s in enumerate(species_filtered.columns):\n",
    "            \n",
    "            #calculate mann-whitney:\n",
    "            merged1=pd.merge(pd.DataFrame(TCRdf_binary_filtered[seq]),pd.DataFrame(species_filtered[s]),\n",
    "                                            how='inner',left_index=True,right_index=True)\n",
    "#             print ('merged1 shape: ', merged1.shape)\n",
    "#             print 'merged1'\n",
    "#             print merged1.head()\n",
    "            data={}\n",
    "            names=[]\n",
    "            for name,group in merged1.groupby(seq):\n",
    "                data[name]=group[s].tolist()\n",
    "                names.append(name)\n",
    "            try:\n",
    "                MW_s, MW_p=mannwhitneyu(data[names[0]],data[names[1]])          \n",
    "                mean_speciesFreq_seqAbs=np.mean(data[0])\n",
    "                mean_speciesFreq_seqPres=np.mean(data[1])\n",
    "            except:\n",
    "                print 'MW test failed, probably this clusters doesnt exist in samples'\n",
    "                MW_s=np.nan; MW_p=np.nan; mean_speciesFreq_seqAbs=np.nan; mean_speciesFreq_seqPres=np.nan\n",
    "            \n",
    "            #calculate Fisher:\n",
    "            merged2=pd.merge(pd.DataFrame(TCRdf_binary_filtered[seq]),pd.DataFrame(species_filtered_binary[s]),\n",
    "                                            how='inner',left_index=True,right_index=True)\n",
    "#             print 'merged2'\n",
    "#             print merged2.head()\n",
    "            if (merged2[s].sum()<len(merged2)) | (merged2[seq].sum()<len(merged2)):\n",
    "                tab = pd.crosstab(merged2[seq],merged2[s], dropna=False).fillna(0)\n",
    "                seqAbs_speciesAbs=tab.iloc[0,0]\n",
    "                seqAbs_speciesPres=tab.iloc[0,1]\n",
    "                seqPres_speciesAbs=tab.iloc[1,0]\n",
    "                seqPres_speciesPres=tab.iloc[1,1]\n",
    "                \n",
    "    #             print (tab)\n",
    "                try:\n",
    "                    fisher_OR, fisher_p = fisher_exact(tab, alternative='two-sided')\n",
    "                except:\n",
    "                    print ('couldnt execute fisher test for seq %s and species %s' %(seq,s))\n",
    "#                     print (tab)\n",
    "                    fisher_OR= 999999; fisher_p=1\n",
    "            else:\n",
    "                fisher_OR= 999999; fisher_p=1\n",
    "                seqAbs_speciesAbs=np.nan; seqAbs_speciesPres=np.nan\n",
    "                seqPres_speciesAbs=np.nan; seqPres_speciesPres=np.nan\n",
    "              \n",
    "            #update summary_df:\n",
    "            summary_df.loc[count,'seq']=seq\n",
    "            summary_df.loc[count,'species']=s\n",
    "            summary_df.loc[count,'mean_speciesFreq_seqAbs']=mean_speciesFreq_seqAbs\n",
    "            summary_df.loc[count,'mean_speciesFreq_seqPres']=mean_speciesFreq_seqPres\n",
    "            summary_df.loc[count,'MW_s']=MW_s\n",
    "            summary_df.loc[count,'MW_p']=MW_p\n",
    "            summary_df.loc[count,'MW_s']=MW_s\n",
    "            summary_df.loc[count,'MW_p']=MW_p\n",
    "            summary_df.loc[count,'seqAbs_speciesAbs']=seqAbs_speciesAbs\n",
    "            summary_df.loc[count,'seqAbs_speciesPres']=seqAbs_speciesPres\n",
    "            summary_df.loc[count,'seqPres_speciesAbs']=seqPres_speciesAbs\n",
    "            summary_df.loc[count,'seqPres_speciesPres']=seqPres_speciesPres\n",
    "            summary_df.loc[count,'fisher_OR']=fisher_OR\n",
    "            summary_df.loc[count,'fisher_p']=fisher_p\n",
    "\n",
    "            #update count:\n",
    "            count=count+1\n",
    "\n",
    "    summary_df=add_corrected_pValues(summary_df,pValueColumn='MW_p',nTests=summary_df.shape[0],FDR=0.01)\n",
    "    \n",
    "    summary_df=add_corrected_pValues(summary_df,pValueColumn='fisher_p',nTests=summary_df.shape[0],FDR=0.01)\n",
    "    summary_df=summary_df.sort_values(by='MW_p')\n",
    "\n",
    "\n",
    "    return summary_df"
   ]
  },
  {
   "cell_type": "code",
   "execution_count": null,
   "metadata": {
    "ExecuteTime": {
     "end_time": "2019-04-15T14:22:53.270438Z",
     "start_time": "2019-04-15T14:22:53.266730Z"
    }
   },
   "outputs": [],
   "source": [
    "TCR_MB_DIR='%s/TCR_real_data/TCR_mb_results/TCRclusters_MBsega_associations_April2019/' %MyPath"
   ]
  },
  {
   "cell_type": "code",
   "execution_count": null,
   "metadata": {
    "ExecuteTime": {
     "end_time": "2019-04-15T14:29:59.345956Z",
     "start_time": "2019-04-15T14:29:43.618855Z"
    }
   },
   "outputs": [],
   "source": [
    "sega_species_genotek_005095=pd.read_excel('/net/mraid08/export/jafar/Microbiome/Analyses/TCR/Mb_data_by_BD/\\\n",
    "LargeOrNewGenusSGBs_5MSubsampling_00001threshold_Noneratio_sSGB_byBD_PNP530_005_095_genotek.xlsx').set_index('BD')\n",
    "print ('sega_species_genotek_005095.shape: ',sega_species_genotek_005095.shape) \n",
    "\n",
    "sega_species_swab_005095=pd.read_excel('/net/mraid08/export/jafar/Microbiome/Analyses/TCR/Mb_data_by_BD/\\\n",
    "LargeOrNewGenusSGBs_5MSubsampling_00001threshold_Noneratio_sSGB_byBD_PNP530_005_095_swab.xlsx').set_index('BD')\n",
    "print ('sega_species_swab_005095.shape: ',sega_species_swab_005095.shape) \n",
    "\n",
    "sega_genus_genotek_005095=pd.read_excel('/net/mraid08/export/jafar/Microbiome/Analyses/TCR/Mb_data_by_BD/\\\n",
    "LargeOrNewGenusSGBs_5MSubsampling_00001threshold_Noneratio_gSGB_byBD_PNP530_005_095_genotek.xlsx').set_index('BD')\n",
    "print ('sega_genus_genotek_005095.shape: ',sega_genus_genotek_005095.shape) \n",
    "\n",
    "sega_genus_swab_005095=pd.read_excel('/net/mraid08/export/jafar/Microbiome/Analyses/TCR/Mb_data_by_BD/\\\n",
    "LargeOrNewGenusSGBs_5MSubsampling_00001threshold_Noneratio_gSGB_byBD_PNP530_005_095_swab.xlsx').set_index('BD')\n",
    "print ('sega_genus_swab_005095.shape: ',sega_genus_swab_005095.shape) \n",
    "\n"
   ]
  },
  {
   "cell_type": "code",
   "execution_count": null,
   "metadata": {
    "ExecuteTime": {
     "end_time": "2019-04-16T10:12:37.380576Z",
     "start_time": "2019-04-16T10:12:36.441096Z"
    }
   },
   "outputs": [],
   "source": [
    "top100_clsuterDF_PNP530_binary=pd.read_excel('/net/mraid08/export/jafar/Microbiome/Analyses/TCR/TCR_seqs_clusters/top100_clusterDF_PNP530_binary.xlsx').set_index('BD')"
   ]
  },
  {
   "cell_type": "markdown",
   "metadata": {},
   "source": [
    "## TOP100 SEQSx species genotek 5Mss"
   ]
  },
  {
   "cell_type": "code",
   "execution_count": null,
   "metadata": {
    "ExecuteTime": {
     "end_time": "2019-04-16T11:18:31.231085Z",
     "start_time": "2019-04-16T10:32:06.636906Z"
    }
   },
   "outputs": [],
   "source": [
    "MBdf=sega_species_genotek_005095\n",
    "TCRdf_binary=top100_clsuterDF_PNP530_binary\n",
    "nShared_perSpecies=0\n",
    "nShared_perTCR=0\n",
    "binary_zero=0.0001\n",
    "\n",
    "summary_df_top100clusters_species_genotek_5M=analyze_tcr_Mb_relations(MBdf,TCRdf_binary,nShared_perSpecies,nShared_perTCR,binary_zero)"
   ]
  },
  {
   "cell_type": "code",
   "execution_count": null,
   "metadata": {
    "ExecuteTime": {
     "end_time": "2019-04-16T11:33:01.655626Z",
     "start_time": "2019-04-16T11:33:01.396391Z"
    }
   },
   "outputs": [],
   "source": [
    "summary_df_top100clusters_species_genotek_5M"
   ]
  },
  {
   "cell_type": "code",
   "execution_count": null,
   "metadata": {
    "ExecuteTime": {
     "end_time": "2019-04-16T11:36:04.240237Z",
     "start_time": "2019-04-16T11:35:27.187865Z"
    }
   },
   "outputs": [],
   "source": [
    "summary_df_top100clusters_species_genotek_5M.to_excel(TCR_MB_DIR+'summary_df_top100clusters_species_genotek_5M.xlsx')"
   ]
  },
  {
   "cell_type": "markdown",
   "metadata": {},
   "source": [
    "## TOP100 SEQS x species swab 5Mss"
   ]
  },
  {
   "cell_type": "code",
   "execution_count": null,
   "metadata": {
    "ExecuteTime": {
     "end_time": "2019-04-16T14:29:55.468064Z",
     "start_time": "2019-04-16T13:29:32.570501Z"
    }
   },
   "outputs": [],
   "source": [
    "MBdf=sega_species_swab_005095\n",
    "TCRdf_binary=top100_clsuterDF_PNP530_binary\n",
    "nShared_perSpecies=0\n",
    "nShared_perTCR=0\n",
    "binary_zero=0.0001\n",
    "\n",
    "summary_df_top100clusters_species_swab_5M=analyze_tcr_Mb_relations(MBdf,TCRdf_binary,nShared_perSpecies,nShared_perTCR,binary_zero)"
   ]
  },
  {
   "cell_type": "code",
   "execution_count": null,
   "metadata": {
    "ExecuteTime": {
     "end_time": "2019-04-16T14:37:12.072069Z",
     "start_time": "2019-04-16T14:37:11.816042Z"
    }
   },
   "outputs": [],
   "source": [
    "summary_df_top100clusters_species_swab_5M"
   ]
  },
  {
   "cell_type": "code",
   "execution_count": null,
   "metadata": {
    "ExecuteTime": {
     "end_time": "2019-04-16T14:38:30.981049Z",
     "start_time": "2019-04-16T14:37:46.267949Z"
    }
   },
   "outputs": [],
   "source": [
    "summary_df_top100clusters_species_swab_5M.to_excel(TCR_MB_DIR+'summary_df_top100clusters_species_swab_5M.xlsx')"
   ]
  },
  {
   "cell_type": "markdown",
   "metadata": {},
   "source": [
    "## TOP100 SEQSx genus genotek 5Mss"
   ]
  },
  {
   "cell_type": "code",
   "execution_count": null,
   "metadata": {
    "ExecuteTime": {
     "end_time": "2019-04-16T12:09:28.639127Z",
     "start_time": "2019-04-16T11:36:53.315588Z"
    }
   },
   "outputs": [],
   "source": [
    "MBdf=sega_genus_genotek_005095\n",
    "TCRdf_binary=top100_clsuterDF_PNP530_binary\n",
    "nShared_perSpecies=0\n",
    "nShared_perTCR=0\n",
    "binary_zero=0.0001\n",
    "\n",
    "summary_df_top100clusters_genus_genotek_5M=analyze_tcr_Mb_relations(MBdf,TCRdf_binary,nShared_perSpecies,nShared_perTCR,binary_zero)"
   ]
  },
  {
   "cell_type": "code",
   "execution_count": null,
   "metadata": {
    "ExecuteTime": {
     "end_time": "2019-04-16T12:24:18.419786Z",
     "start_time": "2019-04-16T12:24:18.175376Z"
    }
   },
   "outputs": [],
   "source": [
    "print summary_df_top100clusters_genus_genotek_5M.shape\n",
    "summary_df_top100clusters_genus_genotek_5M"
   ]
  },
  {
   "cell_type": "code",
   "execution_count": null,
   "metadata": {
    "ExecuteTime": {
     "end_time": "2019-04-16T12:25:07.723620Z",
     "start_time": "2019-04-16T12:25:07.714060Z"
    }
   },
   "outputs": [],
   "source": [
    "0.05/48000"
   ]
  },
  {
   "cell_type": "code",
   "execution_count": null,
   "metadata": {
    "ExecuteTime": {
     "end_time": "2019-04-16T12:27:22.315300Z",
     "start_time": "2019-04-16T12:26:54.368032Z"
    }
   },
   "outputs": [],
   "source": [
    "summary_df_top100clusters_genus_genotek_5M.to_excel(TCR_MB_DIR+'summary_df_top100clusters_genus_genotek_5M.xlsx')"
   ]
  },
  {
   "cell_type": "code",
   "execution_count": null,
   "metadata": {
    "ExecuteTime": {
     "end_time": "2019-04-16T12:32:07.615545Z",
     "start_time": "2019-04-16T12:32:07.601271Z"
    }
   },
   "outputs": [],
   "source": [
    "df=pd.DataFrame(summary_df_top100clusters_genus_genotek_5M[['fisher_p','MW_p']])\n",
    "df.head()"
   ]
  },
  {
   "cell_type": "code",
   "execution_count": null,
   "metadata": {
    "ExecuteTime": {
     "end_time": "2019-04-16T12:30:52.653638Z",
     "start_time": "2019-04-16T12:30:52.570674Z"
    }
   },
   "outputs": [],
   "source": [
    "df=add_corrected_pValues(df,pValueColumn='fisher_p',nTests=df.shape[0],FDR=0.1)\n",
    "df=df.sort_values(by='fisher_p')\n",
    "df.head(20)"
   ]
  },
  {
   "cell_type": "code",
   "execution_count": null,
   "metadata": {},
   "outputs": [],
   "source": []
  },
  {
   "cell_type": "markdown",
   "metadata": {},
   "source": [
    "## TOP100 SEQS x genus swab 5Mss"
   ]
  },
  {
   "cell_type": "code",
   "execution_count": null,
   "metadata": {
    "ExecuteTime": {
     "end_time": "2019-04-17T10:24:18.100905Z",
     "start_time": "2019-04-17T10:24:08.356013Z"
    }
   },
   "outputs": [],
   "source": [
    "MBdf=sega_genus_swab_005095\n",
    "TCRdf_binary=top100_clsuterDF_PNP530_binary\n",
    "nShared_perSpecies=0\n",
    "nShared_perTCR=0\n",
    "binary_zero=0.0001\n",
    "\n",
    "summary_df_top100clusters_genus_swab_5M=analyze_tcr_Mb_relations(MBdf,TCRdf_binary,nShared_perSpecies,nShared_perTCR,binary_zero)"
   ]
  },
  {
   "cell_type": "code",
   "execution_count": null,
   "metadata": {
    "ExecuteTime": {
     "end_time": "2019-04-17T10:24:22.845504Z",
     "start_time": "2019-04-17T10:24:22.596372Z"
    }
   },
   "outputs": [],
   "source": [
    "summary_df_top100clusters_genus_swab_5M"
   ]
  },
  {
   "cell_type": "code",
   "execution_count": null,
   "metadata": {
    "ExecuteTime": {
     "end_time": "2019-04-17T10:25:14.097097Z",
     "start_time": "2019-04-17T10:24:42.833488Z"
    }
   },
   "outputs": [],
   "source": [
    "summary_df_top100clusters_genus_swab_5M.to_excel(TCR_MB_DIR+'summary_df_top100clusters_genus_swab_5M.xlsx')"
   ]
  },
  {
   "cell_type": "code",
   "execution_count": null,
   "metadata": {},
   "outputs": [],
   "source": []
  },
  {
   "cell_type": "markdown",
   "metadata": {},
   "source": []
  },
  {
   "cell_type": "markdown",
   "metadata": {},
   "source": [
    "# merge top100-Mb associations with Noam's results:"
   ]
  },
  {
   "cell_type": "code",
   "execution_count": 5,
   "metadata": {
    "ExecuteTime": {
     "end_time": "2019-05-05T13:46:05.964943Z",
     "start_time": "2019-05-05T13:46:05.892088Z"
    }
   },
   "outputs": [],
   "source": [
    "def explore_TCR_MB_disease_associations(TCR_MB_results_file_list,\n",
    "                                        MB_disease_file,\n",
    "                                        TCR_MB_DIR,\n",
    "                                        pFDRthreshold=0.1):\n",
    "\n",
    "    #get all significant TCR_MB_association:\n",
    "    print('getting all significant TCR_MB_association...')\n",
    "    TCRMbDF_sig_small_list = []\n",
    "    for f in TCR_MB_results_file_list:\n",
    "        TCRMbDF = pd.read_excel(TCR_MB_DIR + f)\n",
    "        TCRMbDF = TCRMbDF.rename(columns={\n",
    "            'MW_p_corrPval_DR0.01':\n",
    "            'MW_p_corrPval_DR0.1',\n",
    "            'fisher_p_corrPval_DR0.01':\n",
    "            'fisher_p_corrPval_DR0.1'\n",
    "        })\n",
    "        TCRMbDF_sig = TCRMbDF[(TCRMbDF['MW_p_corrPval_DR0.1'] <= pFDRthreshold)\n",
    "                              | (TCRMbDF['fisher_p_corrPval_DR0.1'] <=\n",
    "                                 pFDRthreshold)]\n",
    "        TCRMbDF_sig_small = TCRMbDF_sig[[\n",
    "            'seq', 'species', 'MW_p_corrPval_DR0.1', 'fisher_p_corrPval_DR0.1',\n",
    "            'fisher_OR'\n",
    "        ]]\n",
    "        TCRMbDF_sig_small['pos assoc between seq and species'] = np.where(\n",
    "            TCRMbDF_sig_small['fisher_OR'] > 1, True, False)\n",
    "        print(('TCRMbDF_sig_small.shape: ', TCRMbDF_sig_small.shape))\n",
    "        TCRMbDF_sig_small_list.append(TCRMbDF_sig_small)\n",
    "\n",
    "    TCRMbDF_all = pd.concat(TCRMbDF_sig_small_list)\n",
    "\n",
    "    #get significant MB_disease associations:\n",
    "    print('get significant MB_disease associations...')\n",
    "    ACS_mb_df = pd.read_csv(TCR_MB_DIR + MB_disease_file)\n",
    "    ACS_mb_df = ACS_mb_df.rename(columns={\n",
    "        'P value':\n",
    "        'log10pvalue',\n",
    "        'Enriched in ACS':\n",
    "        'species enriched in ACS Noam'\n",
    "    })\n",
    "    ACS_mb_df['MW_mb_p'] = ACS_mb_df['log10pvalue'].apply(\n",
    "        lambda x: 10**-np.abs(x))\n",
    "    ACS_mb_df = add_corrected_pValues(\n",
    "        ACS_mb_df, pValueColumn='MW_mb_p', nTests=len(ACS_mb_df), FDR=0.1)\n",
    "    ACS_mb_df_sig = ACS_mb_df[ACS_mb_df['MW_mb_p_corrPval_DR0.1'] <= pFDRthreshold]\n",
    "                             \n",
    "    print(('ACS_mb_df_sig.shape: ', ACS_mb_df_sig.shape))\n",
    "    ACS_mb_df.tail()\n",
    "\n",
    "    #merge\n",
    "    print('merging...')\n",
    "    TCRMbDF_withNoam = pd.merge(\n",
    "        TCRMbDF_all,\n",
    "        ACS_mb_df_sig,\n",
    "        how='left',\n",
    "        left_on='species',\n",
    "        right_on='Microbiome')\n",
    "    \n",
    "    TCRMbDF_withNoam=TCRMbDF_withNoam.dropna(how='any')\n",
    "    ##add identities:\n",
    "    print('getting idnetities...')\n",
    "    output_dir = CLUSTER_ANALYSIS_DIR\n",
    "    TCRMbDF_withNoam_withident, phen_related_identites = get_annot_for_seqs_in_cluster(\n",
    "        TCRMbDF_withNoam, 'seq', output_dir)\n",
    "    \n",
    "    # drop columns:\n",
    "    cols_to_use=['seq', 'species', 'MW_p_corrPval_DR0.1', 'fisher_OR', 'pos assoc between seq and species', 'species enriched in ACS Noam', 'MW_mb_p', 'MW_mb_p_corrPval_DR0.1', 'n sequences in cluster', 'cluster sequences', 'annotation summary']\n",
    "    TCRMbDF_withNoam_withident=TCRMbDF_withNoam_withident[cols_to_use]\n",
    "    \n",
    "    \n",
    "    return TCRMbDF_withNoam_withident"
   ]
  },
  {
   "cell_type": "code",
   "execution_count": null,
   "metadata": {},
   "outputs": [],
   "source": []
  },
  {
   "cell_type": "code",
   "execution_count": 6,
   "metadata": {
    "ExecuteTime": {
     "end_time": "2019-05-05T13:47:25.412609Z",
     "start_time": "2019-05-05T13:46:07.331472Z"
    }
   },
   "outputs": [
    {
     "name": "stdout",
     "output_type": "stream",
     "text": [
      "getting all significant TCR_MB_association...\n"
     ]
    },
    {
     "name": "stderr",
     "output_type": "stream",
     "text": [
      "/usr/wisdom/python/lib/python2.7/site-packages/ipykernel_launcher.py:25: SettingWithCopyWarning: \n",
      "A value is trying to be set on a copy of a slice from a DataFrame.\n",
      "Try using .loc[row_indexer,col_indexer] = value instead\n",
      "\n",
      "See the caveats in the documentation: http://pandas.pydata.org/pandas-docs/stable/indexing.html#indexing-view-versus-copy\n"
     ]
    },
    {
     "name": "stdout",
     "output_type": "stream",
     "text": [
      "('TCRMbDF_sig_small.shape: ', (9, 6))\n",
      "('TCRMbDF_sig_small.shape: ', (4, 6))\n",
      "get significant MB_disease associations...\n",
      "('ACS_mb_df_sig.shape: ', (398, 7))\n",
      "merging...\n",
      "getting idnetities...\n",
      "getting seqID info\n",
      "getting info for each cluster...\n",
      "1\n",
      "2\n",
      "3\n",
      "4\n",
      "5\n",
      "6\n",
      "7\n",
      "8\n",
      "9\n",
      "12\n"
     ]
    },
    {
     "data": {
      "text/html": [
       "<div>\n",
       "<style scoped>\n",
       "    .dataframe tbody tr th:only-of-type {\n",
       "        vertical-align: middle;\n",
       "    }\n",
       "\n",
       "    .dataframe tbody tr th {\n",
       "        vertical-align: top;\n",
       "    }\n",
       "\n",
       "    .dataframe thead th {\n",
       "        text-align: right;\n",
       "    }\n",
       "</style>\n",
       "<table border=\"1\" class=\"dataframe\">\n",
       "  <thead>\n",
       "    <tr style=\"text-align: right;\">\n",
       "      <th></th>\n",
       "      <th>seq</th>\n",
       "      <th>species</th>\n",
       "      <th>MW_p_corrPval_DR0.1</th>\n",
       "      <th>fisher_OR</th>\n",
       "      <th>pos assoc between seq and species</th>\n",
       "      <th>species enriched in ACS Noam</th>\n",
       "      <th>MW_mb_p</th>\n",
       "      <th>MW_mb_p_corrPval_DR0.1</th>\n",
       "      <th>n sequences in cluster</th>\n",
       "      <th>cluster sequences</th>\n",
       "      <th>annotation summary</th>\n",
       "    </tr>\n",
       "  </thead>\n",
       "  <tbody>\n",
       "    <tr>\n",
       "      <th>1</th>\n",
       "      <td>CASSTGQGGNEKLFF</td>\n",
       "      <td>k__Bacteria|p__Firmicutes|c__Clostridia|o__Clo...</td>\n",
       "      <td>0.075675</td>\n",
       "      <td>9.058201</td>\n",
       "      <td>True</td>\n",
       "      <td>False</td>\n",
       "      <td>0.047898</td>\n",
       "      <td>0.119051</td>\n",
       "      <td>21.0</td>\n",
       "      <td>CASSTGQGANEKLFF,CASSYGQGGNEKLFF,CASSTGQGPNEKLF...</td>\n",
       "      <td>,None:21</td>\n",
       "    </tr>\n",
       "    <tr>\n",
       "      <th>2</th>\n",
       "      <td>CASSAGGTGGEKLFF</td>\n",
       "      <td>k__Bacteria|p__Firmicutes|c__Negativicutes|o__...</td>\n",
       "      <td>0.094858</td>\n",
       "      <td>8.555556</td>\n",
       "      <td>True</td>\n",
       "      <td>True</td>\n",
       "      <td>0.006617</td>\n",
       "      <td>0.031970</td>\n",
       "      <td>25.0</td>\n",
       "      <td>CASSAHGTGGEKLFF,CASSAGGTRGEKLFF,CASSVGGTGGEKLF...</td>\n",
       "      <td>,None:25</td>\n",
       "    </tr>\n",
       "    <tr>\n",
       "      <th>3</th>\n",
       "      <td>CASSVEAGGTGELFF</td>\n",
       "      <td>k__unknown|p__unknown|c__unknown|o__unknown|f_...</td>\n",
       "      <td>0.094858</td>\n",
       "      <td>9.557143</td>\n",
       "      <td>True</td>\n",
       "      <td>True</td>\n",
       "      <td>0.086061</td>\n",
       "      <td>0.178832</td>\n",
       "      <td>22.0</td>\n",
       "      <td>CASSVEAGETGELFF,CASSVGAGGTGELFF,CASSVEAAGTGELF...</td>\n",
       "      <td>,None:22</td>\n",
       "    </tr>\n",
       "    <tr>\n",
       "      <th>4</th>\n",
       "      <td>CSVVLGYEQYF</td>\n",
       "      <td>k__Bacteria|p__Firmicutes|c__Clostridia|o__Clo...</td>\n",
       "      <td>0.123826</td>\n",
       "      <td>5.137097</td>\n",
       "      <td>True</td>\n",
       "      <td>False</td>\n",
       "      <td>0.098355</td>\n",
       "      <td>0.194945</td>\n",
       "      <td>25.0</td>\n",
       "      <td>CSVVMGYEQYF,CSVVLGSEQYF,CSVVLGVEQYF,CSVVFGYEQY...</td>\n",
       "      <td>,Influenza:1,None:24</td>\n",
       "    </tr>\n",
       "    <tr>\n",
       "      <th>5</th>\n",
       "      <td>CASSGGLATYNEQFF</td>\n",
       "      <td>k__Bacteria|p__Proteobacteria|c__Betaproteobac...</td>\n",
       "      <td>0.165131</td>\n",
       "      <td>5.555556</td>\n",
       "      <td>True</td>\n",
       "      <td>True</td>\n",
       "      <td>0.045211</td>\n",
       "      <td>0.113468</td>\n",
       "      <td>32.0</td>\n",
       "      <td>CASSGGLATDNEQFF,CASSGGLASYNEQFF,CASSGGAATYNEQF...</td>\n",
       "      <td>,None:32</td>\n",
       "    </tr>\n",
       "    <tr>\n",
       "      <th>6</th>\n",
       "      <td>CASSDRFTGELFF</td>\n",
       "      <td>k__Bacteria|p__Firmicutes|c__Clostridia|o__Clo...</td>\n",
       "      <td>0.177094</td>\n",
       "      <td>3.456929</td>\n",
       "      <td>True</td>\n",
       "      <td>True</td>\n",
       "      <td>0.077010</td>\n",
       "      <td>0.168159</td>\n",
       "      <td>35.0</td>\n",
       "      <td>CASKDRFTGELFF,CASSDRGTGELFF,CASSDRWTGELFF,CASS...</td>\n",
       "      <td>,Influenza:1,None:34</td>\n",
       "    </tr>\n",
       "    <tr>\n",
       "      <th>7</th>\n",
       "      <td>CASSYGRSTDTQYF</td>\n",
       "      <td>k__Bacteria|p__Firmicutes|c__Clostridia|o__Clo...</td>\n",
       "      <td>0.177094</td>\n",
       "      <td>0.080818</td>\n",
       "      <td>False</td>\n",
       "      <td>True</td>\n",
       "      <td>0.009711</td>\n",
       "      <td>0.040144</td>\n",
       "      <td>47.0</td>\n",
       "      <td>CASSQGRSTDTQYF,CASSVGRSTDTQYF,CASSYGWSTDTQYF,C...</td>\n",
       "      <td>,None:47</td>\n",
       "    </tr>\n",
       "    <tr>\n",
       "      <th>8</th>\n",
       "      <td>CSVERGTDTQYF</td>\n",
       "      <td>k__unknown|p__unknown|c__unknown|o__unknown|f_...</td>\n",
       "      <td>0.177094</td>\n",
       "      <td>6.235294</td>\n",
       "      <td>True</td>\n",
       "      <td>True</td>\n",
       "      <td>0.024009</td>\n",
       "      <td>0.075351</td>\n",
       "      <td>19.0</td>\n",
       "      <td>CSGERGTDTQYF,CSVERGPDTQYF,CSVEKGTDTQYF,CSVEEGT...</td>\n",
       "      <td>,None:19</td>\n",
       "    </tr>\n",
       "    <tr>\n",
       "      <th>9</th>\n",
       "      <td>CSVGGKNTEAFF</td>\n",
       "      <td>k__unknown|p__unknown|c__unknown|o__unknown|f_...</td>\n",
       "      <td>0.019015</td>\n",
       "      <td>6.184143</td>\n",
       "      <td>True</td>\n",
       "      <td>True</td>\n",
       "      <td>0.035459</td>\n",
       "      <td>0.096176</td>\n",
       "      <td>22.0</td>\n",
       "      <td>CSVGGKTTEAFF,CSVGSKNTEAFF,CSVLGKNTEAFF,CSVGGFN...</td>\n",
       "      <td>,None:22</td>\n",
       "    </tr>\n",
       "    <tr>\n",
       "      <th>12</th>\n",
       "      <td>CASSQARPGELFF</td>\n",
       "      <td>k__Bacteria|p__Tenericutes|c__Mollicutes|o__My...</td>\n",
       "      <td>0.126986</td>\n",
       "      <td>4.615385</td>\n",
       "      <td>True</td>\n",
       "      <td>False</td>\n",
       "      <td>0.098106</td>\n",
       "      <td>0.194945</td>\n",
       "      <td>17.0</td>\n",
       "      <td>CASSQAFPGELFF,CASSQAGPGELFF,CASSSARPGELFF,CASS...</td>\n",
       "      <td>,None:17</td>\n",
       "    </tr>\n",
       "    <tr>\n",
       "      <th>summary</th>\n",
       "      <td>NaN</td>\n",
       "      <td>NaN</td>\n",
       "      <td>NaN</td>\n",
       "      <td>NaN</td>\n",
       "      <td>NaN</td>\n",
       "      <td>NaN</td>\n",
       "      <td>NaN</td>\n",
       "      <td>NaN</td>\n",
       "      <td>NaN</td>\n",
       "      <td>NaN</td>\n",
       "      <td>,Influenza:2</td>\n",
       "    </tr>\n",
       "  </tbody>\n",
       "</table>\n",
       "</div>"
      ],
      "text/plain": [
       "                     seq                                            species  MW_p_corrPval_DR0.1  fisher_OR pos assoc between seq and species species enriched in ACS Noam   MW_mb_p  MW_mb_p_corrPval_DR0.1  n sequences in cluster                                  cluster sequences    annotation summary\n",
       "1        CASSTGQGGNEKLFF  k__Bacteria|p__Firmicutes|c__Clostridia|o__Clo...             0.075675   9.058201                              True                        False  0.047898                0.119051                    21.0  CASSTGQGANEKLFF,CASSYGQGGNEKLFF,CASSTGQGPNEKLF...              ,None:21\n",
       "2        CASSAGGTGGEKLFF  k__Bacteria|p__Firmicutes|c__Negativicutes|o__...             0.094858   8.555556                              True                         True  0.006617                0.031970                    25.0  CASSAHGTGGEKLFF,CASSAGGTRGEKLFF,CASSVGGTGGEKLF...              ,None:25\n",
       "3        CASSVEAGGTGELFF  k__unknown|p__unknown|c__unknown|o__unknown|f_...             0.094858   9.557143                              True                         True  0.086061                0.178832                    22.0  CASSVEAGETGELFF,CASSVGAGGTGELFF,CASSVEAAGTGELF...              ,None:22\n",
       "4            CSVVLGYEQYF  k__Bacteria|p__Firmicutes|c__Clostridia|o__Clo...             0.123826   5.137097                              True                        False  0.098355                0.194945                    25.0  CSVVMGYEQYF,CSVVLGSEQYF,CSVVLGVEQYF,CSVVFGYEQY...  ,Influenza:1,None:24\n",
       "5        CASSGGLATYNEQFF  k__Bacteria|p__Proteobacteria|c__Betaproteobac...             0.165131   5.555556                              True                         True  0.045211                0.113468                    32.0  CASSGGLATDNEQFF,CASSGGLASYNEQFF,CASSGGAATYNEQF...              ,None:32\n",
       "6          CASSDRFTGELFF  k__Bacteria|p__Firmicutes|c__Clostridia|o__Clo...             0.177094   3.456929                              True                         True  0.077010                0.168159                    35.0  CASKDRFTGELFF,CASSDRGTGELFF,CASSDRWTGELFF,CASS...  ,Influenza:1,None:34\n",
       "7         CASSYGRSTDTQYF  k__Bacteria|p__Firmicutes|c__Clostridia|o__Clo...             0.177094   0.080818                             False                         True  0.009711                0.040144                    47.0  CASSQGRSTDTQYF,CASSVGRSTDTQYF,CASSYGWSTDTQYF,C...              ,None:47\n",
       "8           CSVERGTDTQYF  k__unknown|p__unknown|c__unknown|o__unknown|f_...             0.177094   6.235294                              True                         True  0.024009                0.075351                    19.0  CSGERGTDTQYF,CSVERGPDTQYF,CSVEKGTDTQYF,CSVEEGT...              ,None:19\n",
       "9           CSVGGKNTEAFF  k__unknown|p__unknown|c__unknown|o__unknown|f_...             0.019015   6.184143                              True                         True  0.035459                0.096176                    22.0  CSVGGKTTEAFF,CSVGSKNTEAFF,CSVLGKNTEAFF,CSVGGFN...              ,None:22\n",
       "12         CASSQARPGELFF  k__Bacteria|p__Tenericutes|c__Mollicutes|o__My...             0.126986   4.615385                              True                        False  0.098106                0.194945                    17.0  CASSQAFPGELFF,CASSQAGPGELFF,CASSSARPGELFF,CASS...              ,None:17\n",
       "summary              NaN                                                NaN                  NaN        NaN                               NaN                          NaN       NaN                     NaN                     NaN                                                NaN          ,Influenza:2"
      ]
     },
     "execution_count": 6,
     "metadata": {},
     "output_type": "execute_result"
    }
   ],
   "source": [
    "MB_disease_file='mb_mwu_df_nextera.csv'\n",
    "TCR_MB_results_file_list=['summary_df_top100clusters_species_genotek_5M.xlsx','summary_df_top100clusters_species_swab_5M.xlsx']\n",
    "pFDRthreshold=0.2\n",
    "\n",
    "TCRMbDF_withNoam_withident =  explore_TCR_MB_disease_associations(TCR_MB_results_file_list,\n",
    "                                        MB_disease_file,\n",
    "                                        TCR_MB_DIR,\n",
    "                                        pFDRthreshold)\n",
    "\n",
    "TCRMbDF_withNoam_withident"
   ]
  },
  {
   "cell_type": "code",
   "execution_count": 7,
   "metadata": {
    "ExecuteTime": {
     "end_time": "2019-05-05T13:48:34.089081Z",
     "start_time": "2019-05-05T13:48:33.982996Z"
    }
   },
   "outputs": [],
   "source": [
    "TCRMbDF_withNoam_withident.to_excel(TCR_MB_DIR + 'TCR_MB_disease_associations_basedOnNoamsData_FDR%s.xlsx' %str(pFDRthreshold).replace('.',''))"
   ]
  },
  {
   "cell_type": "code",
   "execution_count": null,
   "metadata": {},
   "outputs": [],
   "source": []
  },
  {
   "cell_type": "code",
   "execution_count": 8,
   "metadata": {
    "ExecuteTime": {
     "end_time": "2019-05-05T13:52:27.813769Z",
     "start_time": "2019-05-05T13:51:29.166350Z"
    }
   },
   "outputs": [
    {
     "name": "stdout",
     "output_type": "stream",
     "text": [
      "getting all significant TCR_MB_association...\n"
     ]
    },
    {
     "name": "stderr",
     "output_type": "stream",
     "text": [
      "/usr/wisdom/python/lib/python2.7/site-packages/ipykernel_launcher.py:25: SettingWithCopyWarning: \n",
      "A value is trying to be set on a copy of a slice from a DataFrame.\n",
      "Try using .loc[row_indexer,col_indexer] = value instead\n",
      "\n",
      "See the caveats in the documentation: http://pandas.pydata.org/pandas-docs/stable/indexing.html#indexing-view-versus-copy\n"
     ]
    },
    {
     "name": "stdout",
     "output_type": "stream",
     "text": [
      "('TCRMbDF_sig_small.shape: ', (4, 6))\n",
      "('TCRMbDF_sig_small.shape: ', (2, 6))\n",
      "get significant MB_disease associations...\n",
      "('ACS_mb_df_sig.shape: ', (290, 7))\n",
      "merging...\n",
      "getting idnetities...\n",
      "getting seqID info\n",
      "getting info for each cluster...\n",
      "2\n",
      "4\n"
     ]
    },
    {
     "data": {
      "text/html": [
       "<div>\n",
       "<style scoped>\n",
       "    .dataframe tbody tr th:only-of-type {\n",
       "        vertical-align: middle;\n",
       "    }\n",
       "\n",
       "    .dataframe tbody tr th {\n",
       "        vertical-align: top;\n",
       "    }\n",
       "\n",
       "    .dataframe thead th {\n",
       "        text-align: right;\n",
       "    }\n",
       "</style>\n",
       "<table border=\"1\" class=\"dataframe\">\n",
       "  <thead>\n",
       "    <tr style=\"text-align: right;\">\n",
       "      <th></th>\n",
       "      <th>seq</th>\n",
       "      <th>species</th>\n",
       "      <th>MW_p_corrPval_DR0.1</th>\n",
       "      <th>fisher_OR</th>\n",
       "      <th>pos assoc between seq and species</th>\n",
       "      <th>species enriched in ACS Noam</th>\n",
       "      <th>MW_mb_p</th>\n",
       "      <th>MW_mb_p_corrPval_DR0.1</th>\n",
       "      <th>n sequences in cluster</th>\n",
       "      <th>cluster sequences</th>\n",
       "      <th>annotation summary</th>\n",
       "    </tr>\n",
       "  </thead>\n",
       "  <tbody>\n",
       "    <tr>\n",
       "      <th>2</th>\n",
       "      <td>CASSAGGTGGEKLFF</td>\n",
       "      <td>k__Bacteria|p__Firmicutes|c__Negativicutes|o__...</td>\n",
       "      <td>0.094858</td>\n",
       "      <td>8.555556</td>\n",
       "      <td>True</td>\n",
       "      <td>True</td>\n",
       "      <td>0.006617</td>\n",
       "      <td>0.031970</td>\n",
       "      <td>25.0</td>\n",
       "      <td>CASSAHGTGGEKLFF,CASSAGGTRGEKLFF,CASSVGGTGGEKLF...</td>\n",
       "      <td>,None:25</td>\n",
       "    </tr>\n",
       "    <tr>\n",
       "      <th>4</th>\n",
       "      <td>CSVGGKNTEAFF</td>\n",
       "      <td>k__unknown|p__unknown|c__unknown|o__unknown|f_...</td>\n",
       "      <td>0.019015</td>\n",
       "      <td>6.184143</td>\n",
       "      <td>True</td>\n",
       "      <td>True</td>\n",
       "      <td>0.035459</td>\n",
       "      <td>0.096176</td>\n",
       "      <td>22.0</td>\n",
       "      <td>CSVGGKTTEAFF,CSVGSKNTEAFF,CSVLGKNTEAFF,CSVGGFN...</td>\n",
       "      <td>,None:22</td>\n",
       "    </tr>\n",
       "    <tr>\n",
       "      <th>summary</th>\n",
       "      <td>NaN</td>\n",
       "      <td>NaN</td>\n",
       "      <td>NaN</td>\n",
       "      <td>NaN</td>\n",
       "      <td>NaN</td>\n",
       "      <td>NaN</td>\n",
       "      <td>NaN</td>\n",
       "      <td>NaN</td>\n",
       "      <td>NaN</td>\n",
       "      <td>NaN</td>\n",
       "      <td></td>\n",
       "    </tr>\n",
       "  </tbody>\n",
       "</table>\n",
       "</div>"
      ],
      "text/plain": [
       "                     seq                                            species  MW_p_corrPval_DR0.1  fisher_OR pos assoc between seq and species species enriched in ACS Noam   MW_mb_p  MW_mb_p_corrPval_DR0.1  n sequences in cluster                                  cluster sequences annotation summary\n",
       "2        CASSAGGTGGEKLFF  k__Bacteria|p__Firmicutes|c__Negativicutes|o__...             0.094858   8.555556                              True                         True  0.006617                0.031970                    25.0  CASSAHGTGGEKLFF,CASSAGGTRGEKLFF,CASSVGGTGGEKLF...           ,None:25\n",
       "4           CSVGGKNTEAFF  k__unknown|p__unknown|c__unknown|o__unknown|f_...             0.019015   6.184143                              True                         True  0.035459                0.096176                    22.0  CSVGGKTTEAFF,CSVGSKNTEAFF,CSVLGKNTEAFF,CSVGGFN...           ,None:22\n",
       "summary              NaN                                                NaN                  NaN        NaN                               NaN                          NaN       NaN                     NaN                     NaN                                                NaN                   "
      ]
     },
     "execution_count": 8,
     "metadata": {},
     "output_type": "execute_result"
    }
   ],
   "source": [
    "MB_disease_file='mb_mwu_df_nextera.csv'\n",
    "TCR_MB_results_file_list=['summary_df_top100clusters_species_genotek_5M.xlsx','summary_df_top100clusters_species_swab_5M.xlsx']\n",
    "pFDRthreshold=0.1\n",
    "\n",
    "TCRMbDF_withNoam_withident =  explore_TCR_MB_disease_associations(TCR_MB_results_file_list,\n",
    "                                        MB_disease_file,\n",
    "                                        TCR_MB_DIR,\n",
    "                                        pFDRthreshold)\n",
    "TCRMbDF_withNoam_withident.to_excel(TCR_MB_DIR + 'TCR_MB_disease_associations_basedOnNoamsData_FDR%s.xlsx' %str(pFDRthreshold).replace('.',''))\n",
    "TCRMbDF_withNoam_withident"
   ]
  },
  {
   "cell_type": "markdown",
   "metadata": {},
   "source": [
    "## merge all association files\n",
    "use sequences as index, get the p-value columns and rename them"
   ]
  },
  {
   "cell_type": "code",
   "execution_count": null,
   "metadata": {
    "ExecuteTime": {
     "end_time": "2019-05-01T20:18:06.710711Z",
     "start_time": "2019-05-01T20:17:23.086858Z"
    }
   },
   "outputs": [],
   "source": [
    "pFDRthreshold=0.2\n",
    "\n",
    "###### correct to take only significant pairs, and merge them by seq-species index and not just seq  or something else #######\n",
    "file_list=['summary_df_top100clusters_species_genotek_5M.xlsx','summary_df_top100clusters_species_swab_5M.xlsx',\n",
    "#            'summary_df_top100clusters_genus_genotek_5M.xlsx','summary_df_top100clusters_genus_swab_5M.xlsx'\n",
    "          ]\n",
    "\n",
    "TCRMbDF_sig_small_list=[]\n",
    "for f in file_list:\n",
    "    TCRMbDF=pd.read_excel(TCR_MB_DIR+f)\n",
    "    TCRMbDF=TCRMbDF.rename(columns={'MW_p_corrPval_DR0.01':'MW_p_corrPval_DR0.1','fisher_p_corrPval_DR0.01':'fisher_p_corrPval_DR0.1'})\n",
    "    TCRMbDF_sig=TCRMbDF[(TCRMbDF['MW_p_corrPval_DR0.1']<=pFDRthreshold) | (TCRMbDF['fisher_p_corrPval_DR0.1']<=pFDRthreshold)]\n",
    "    TCRMbDF_sig_small=TCRMbDF_sig[['seq','species','MW_p_corrPval_DR0.1','fisher_p_corrPval_DR0.1','fisher_OR']]\n",
    "    TCRMbDF_sig_small['seq enriched in ACS']=np.where(TCRMbDF_sig_small['fisher_OR']<1,True,False)\n",
    "    \n",
    "    print('TCRMbDF_sig_small.shape: ',TCRMbDF_sig_small.shape)\n",
    "    TCRMbDF_sig_small_list.append(TCRMbDF_sig_small)\n",
    "\n",
    "TCRMbDF_all=pd.concat(TCRMbDF_sig_small_list)\n",
    "TCRMbDF_all\n",
    "    "
   ]
  },
  {
   "cell_type": "markdown",
   "metadata": {},
   "source": [
    "## get Noam's data"
   ]
  },
  {
   "cell_type": "code",
   "execution_count": null,
   "metadata": {
    "ExecuteTime": {
     "end_time": "2019-05-01T20:18:32.169655Z",
     "start_time": "2019-05-01T20:18:32.097750Z"
    }
   },
   "outputs": [],
   "source": [
    "ACS_mb_df = pd.read_csv(TCR_MB_DIR + 'mb_mwu_df_nextera.csv')\n",
    "ACS_mb_df=ACS_mb_df.rename(columns={'P value':'log10pvalue'})\n",
    "ACS_mb_df['MW_mb_p']=ACS_mb_df['log10pvalue'].apply(lambda x: 10**-np.abs(x))\n",
    "ACS_mb_df=add_corrected_pValues(ACS_mb_df, pValueColumn='MW_mb_p', nTests=len(ACS_mb_df), FDR=0.1)\n",
    "print(ACS_mb_df.shape)\n",
    "ACS_mb_df.tail()"
   ]
  },
  {
   "cell_type": "markdown",
   "metadata": {},
   "source": [
    "## merge by species?"
   ]
  },
  {
   "cell_type": "code",
   "execution_count": null,
   "metadata": {
    "ExecuteTime": {
     "end_time": "2019-05-05T13:41:03.063102Z",
     "start_time": "2019-05-05T13:41:02.950384Z"
    }
   },
   "outputs": [],
   "source": [
    "TCRMbDF_withNoam=pd.merge(TCRMbDF_all,ACS_mb_df,how='left',left_on='species',right_on='Microbiome')\n",
    "TCRMbDF_withNoam"
   ]
  },
  {
   "cell_type": "markdown",
   "metadata": {},
   "source": [
    "there are 4 sequences that are associated with species enriched in patients. \n",
    "However, these sequences,except for one, are positively associated with the species, and in the same time are enriched in healthy people and not diseased. "
   ]
  },
  {
   "cell_type": "code",
   "execution_count": null,
   "metadata": {},
   "outputs": [],
   "source": []
  }
 ],
 "metadata": {
  "kernelspec": {
   "display_name": "Python 2",
   "language": "python",
   "name": "python2"
  },
  "language_info": {
   "codemirror_mode": {
    "name": "ipython",
    "version": 2
   },
   "file_extension": ".py",
   "mimetype": "text/x-python",
   "name": "python",
   "nbconvert_exporter": "python",
   "pygments_lexer": "ipython2",
   "version": "2.7.8"
  },
  "toc": {
   "nav_menu": {
    "height": "13px",
    "width": "160px"
   },
   "number_sections": true,
   "sideBar": true,
   "skip_h1_title": false,
   "toc_cell": false,
   "toc_position": {
    "height": "976px",
    "left": "0px",
    "right": "20px",
    "top": "134px",
    "width": "381px"
   },
   "toc_section_display": "block",
   "toc_window_display": true
  },
  "varInspector": {
   "cols": {
    "lenName": 16,
    "lenType": 16,
    "lenVar": 40
   },
   "kernels_config": {
    "python": {
     "delete_cmd_postfix": "",
     "delete_cmd_prefix": "del ",
     "library": "var_list.py",
     "varRefreshCmd": "print(var_dic_list())"
    },
    "r": {
     "delete_cmd_postfix": ") ",
     "delete_cmd_prefix": "rm(",
     "library": "var_list.r",
     "varRefreshCmd": "cat(var_dic_list()) "
    }
   },
   "types_to_exclude": [
    "module",
    "function",
    "builtin_function_or_method",
    "instance",
    "_Feature"
   ],
   "window_display": false
  }
 },
 "nbformat": 4,
 "nbformat_minor": 2
}
