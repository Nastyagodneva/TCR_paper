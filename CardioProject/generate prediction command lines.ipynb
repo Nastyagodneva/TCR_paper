{
 "cells": [
  {
   "cell_type": "markdown",
   "metadata": {},
   "source": [
    "# imports:"
   ]
  },
  {
   "cell_type": "code",
   "execution_count": 1,
   "metadata": {
    "ExecuteTime": {
     "end_time": "2019-04-10T15:25:32.733298Z",
     "start_time": "2019-04-10T15:25:29.317978Z"
    }
   },
   "outputs": [
    {
     "name": "stdout",
     "output_type": "stream",
     "text": [
      "done1\n",
      "stop\n",
      "stop\n",
      "done1\n",
      "stop\n",
      "done\n",
      "done\n",
      "done\n",
      "done\n",
      "stop\n",
      "stop\n",
      "end of function!!!\n",
      "end of function!!!\n"
     ]
    }
   ],
   "source": [
    "from os import listdir,mkdir,makedirs\n",
    "from os.path import isfile, join, isdir,exists\n",
    "import pandas as pd\n",
    "import numpy as np\n",
    "from scipy import stats\n",
    "import re\n",
    "import time\n",
    "import matplotlib.pyplot as plt\n",
    "from matplotlib.backends.backend_pdf import PdfPages\n",
    "from myplots import roundup, rounddown, find_decimal_fold, percentile_cut_off, rarefaction_calc, rarefaction_plot,draw_correlation_scatter\n",
    "from matplotlib.ticker import FormatStrFormatter\n",
    "import cPickle as pickle\n",
    "from Bio.SeqUtils import GC\n",
    "import seaborn as sns\n",
    "import random\n",
    "from scipy.stats import pearsonr,fisher_exact,ttest_ind,mannwhitneyu, sem\n",
    "from skbio.diversity.alpha import shannon, simpson, berger_parker_d\n",
    "\n",
    "from pop_organize import get_sample_data, get_sample_with_dfs\n",
    "from SufficientStatistics.SufficientStatistics import *\n",
    "from MyFunctionsShani import *\n",
    "import math\n",
    "from myplots import roundup, rounddown, find_decimal_fold\n",
    "from skbio.stats.distance import mantel\n",
    "from scipy.spatial.distance import braycurtis, pdist, euclidean\n",
    "\n",
    "\n",
    "from GeneralFeaturePhenotypeInteractions.Feature_phenotype_functions import * \n",
    "from TCR_microbiome_interactions.TCR_microbiome_interactions_functions import *\n",
    "from TCR_microbiome_interactions.TCR_microbiome_interactions_functions2 import *\n",
    "from SampleLists.SampleFileFunctions import *\n",
    "from PhenotypicData.PhenotypeGenerationFunctions import *\n",
    "from CardioProject.CardioFunctions import *\n",
    "from PredictionPipeline.PredictionFunctions import *\n",
    "from TCR_feature_generation.SubsamplingFunctions import *\n",
    "\n",
    "import os\n",
    "from Utils import cacheOnDisk, Load\n",
    "from SegalQueue.qp import qp,fakeqp\n",
    "from addloglevels import sethandlers\n",
    "\n",
    "#ML imports:\n",
    "from xgboost import XGBClassifier\n",
    "import lightgbm as lgb\n",
    "from collections import OrderedDict\n",
    "from sklearn.model_selection import GroupKFold,StratifiedKFold, KFold\n",
    "import statsmodels.formula.api as sm\n",
    "from sklearn.linear_model import LogisticRegression, LinearRegression\n",
    "import shap\n",
    "from sklearn import metrics, preprocessing\n",
    "from sklearn.svm import LinearSVC\n",
    "from sklearn.feature_selection import SelectFromModel,SelectKBest,chi2,mutual_info_classif,f_classif\n",
    "from sklearn.naive_bayes import GaussianNB\n",
    "from sklearn.metrics import *\n",
    "\n",
    "MyPath='/net/mraid08/export/genie/Lab/Personal/ShaniBAF'\n",
    "\n",
    "with open('/net/mraid08/export/genie/Lab/Personal/ShaniBAF/Sample files/BD lists/PNP530','rb') as fp:\n",
    "    PNP530=pickle.load(fp)\n",
    "with open('/net/mraid08/export/genie/Lab/Personal/ShaniBAF/Sample files/BD lists/Cardio126','rb') as fp:\n",
    "    Cardio126=pickle.load(fp)\n",
    "PNP530Cardio126=PNP530+Cardio126\n",
    "\n",
    "pd.set_option('display.expand_frame_repr', False)\n"
   ]
  },
  {
   "cell_type": "markdown",
   "metadata": {},
   "source": [
    "# definitions:"
   ]
  },
  {
   "cell_type": "code",
   "execution_count": 2,
   "metadata": {
    "ExecuteTime": {
     "end_time": "2019-04-10T15:25:33.107716Z",
     "start_time": "2019-04-10T15:25:33.083534Z"
    }
   },
   "outputs": [
    {
     "data": {
      "text/plain": [
       "'10042019'"
      ]
     },
     "execution_count": 2,
     "metadata": {},
     "output_type": "execute_result"
    }
   ],
   "source": [
    "#####path definitions:\n",
    "MyPath = '/net/mraid08/export/genie/Lab/Personal/ShaniBAF'\n",
    "\n",
    "with open('/net/mraid08/export/genie/Lab/Personal/ShaniBAF/Sample files/BD lists/PNP530', 'rb') as fp:\n",
    "    PNP530 = pickle.load(fp)\n",
    "with open('/net/mraid08/export/genie/Lab/Personal/ShaniBAF/Sample files/BD lists/Cardio126', 'rb') as fp:\n",
    "    Cardio126 = pickle.load(fp)\n",
    "PNP530Cardio126 = PNP530 + Cardio126\n",
    "\n",
    "PRED_RESULTS_DIR='/net/mraid08/export/jafar/Microbiome/Analyses/ShaniBAF/predictions2/'\n",
    "FEATURES_DIR='/net/mraid08/export/genie/Lab/Personal/ShaniBAF/TCR_real_data/Predictions/featureDFs/'\n",
    "SAMPLE_LIST_DIR='/net/mraid08/export/genie/Lab/Personal/ShaniBAF/Sample files/BD lists/'\n",
    "CARDIO_PHEN_DIR='/net/mraid08/export/genie/Lab/Personal/ShaniBAF/TCR_real_data/CardioSamples/phenotypicData/'\n",
    "CLUSTER_ANALYSIS_DIR='/net/mraid08/export/jafar/Microbiome/Analyses/ShaniBAF/sharingAnalysis/seqClusters_allProd_maxdist1/'\n",
    "\n",
    "NEW_FEATURES_DIR='/net/mraid08/export/jafar/Microbiome/Analyses/TCR/'\n",
    "\n",
    "##### general definitions:\n",
    "pd.set_option('display.expand_frame_repr', False)\n",
    "pd.set_option('display.width', 1000)\n",
    "np.set_printoptions(precision=4, linewidth=200)\n",
    "\n",
    "cdate = str(time.strftime(\"%d%m%Y\"))\n",
    "cdate"
   ]
  },
  {
   "cell_type": "code",
   "execution_count": null,
   "metadata": {
    "ExecuteTime": {
     "end_time": "2019-04-10T19:39:50.851365Z",
     "start_time": "2019-04-10T19:39:50.842862Z"
    }
   },
   "outputs": [],
   "source": [
    "\n",
    "    "
   ]
  },
  {
   "cell_type": "markdown",
   "metadata": {},
   "source": [
    "# FOR TCR feature prediction - 5Mss with MB features"
   ]
  },
  {
   "cell_type": "markdown",
   "metadata": {},
   "source": [
    "## species"
   ]
  },
  {
   "cell_type": "code",
   "execution_count": 50,
   "metadata": {
    "ExecuteTime": {
     "end_time": "2019-04-16T11:05:10.509906Z",
     "start_time": "2019-04-16T11:05:10.474498Z"
    }
   },
   "outputs": [
    {
     "name": "stdout",
     "output_type": "stream",
     "text": [
      "python /home/sbenari/workspace/Microbiome/ShaniBA/PredictionPipeline/PredictionModuleShani.py /net/mraid08/export/jafar/Microbiome/Analyses/ShaniBAF/predictions2/TCR_features_updated/TCRfeatures_XGB50_randomSearch_25_bySpecies5Mssgenotek_optByExpVar/ -path_to_X /net/mraid08/export/jafar/Microbiome/Analyses/TCR/Mb_data_by_BD/LargeOrNewGenusSGBs_5MSubsampling_00001threshold_Noneratio_sSGB_byBD_PNP530_005_095_genotek_withFeatures.xlsx -path_to_Y /net/mraid08/export/jafar/Microbiome/Analyses/TCR/TCRfeatures/TCRfeaturesNoT_PCA10percShared_withRels_VDJ_noCorr0-999_nanFilled_noConsts_PNP530.xlsx -parameter_search_type randomSearch -n_random 25 -model XGB -pathToModelParams /net/mraid08/export/jafar/Microbiome/Analyses/ShaniBAF/predictions2/Model_params_files/XGB_model_params_1.xlsx -mem_def 2 -n_cols_per_job 1 -nPreSelectedFeatures 50\n"
     ]
    }
   ],
   "source": [
    "#change for every run:\n",
    "\n",
    "target_name='TCRfeatures'\n",
    "task='reg'  ##'clas'/'reg'\n",
    "nPreSelectedFeatures=50\n",
    "isBinary=False\n",
    "isGenotek=True\n",
    "mother_pred_dir='TCR_features_updated'\n",
    "\n",
    "taxLevel='Species' #'Species'/'Genus'\n",
    "subsampling=5 #5/10/None\n",
    "\n",
    "\n",
    "\n",
    "score_binclass='AUC'\n",
    "score_reg='ExpVar'\n",
    "\n",
    "minShared=0.05\n",
    "maxShared=0.95\n",
    "Ypath='/net/mraid08/export/jafar/Microbiome/Analyses/TCR/TCRfeatures/TCRfeaturesNoT_PCA10percShared_withRels_VDJ_noCorr0-999_nanFilled_noConsts_PNP530.xlsx'\n",
    "mem_def=2\n",
    "\n",
    "#do not change these arameters!\n",
    "if task == 'clas': \n",
    "    score=score_binclass\n",
    "    score_name=score\n",
    "else: \n",
    "    score=None\n",
    "    score_name=score_reg\n",
    "\n",
    "minShared=str(minShared).replace('.','')\n",
    "maxShared=str(maxShared).replace('.','')\n",
    "\n",
    "if isBinary: isBinary='_binary'\n",
    "else: isBinary=''\n",
    "if isGenotek: isGenotek='genotek'\n",
    "else: isGenotek='swab'\n",
    "\n",
    "# print isBinary\n",
    "# print isGenotek\n",
    "    \n",
    "XfileName=taxLevel+'%sMss' %subsampling+str(isGenotek)+str(isBinary)\n",
    "\n",
    "output_dir=('/net/mraid08/export/jafar/Microbiome/Analyses/ShaniBAF/predictions2/%(mother_pred_dir)s/%(target_name)s_XGB%(nPreSelectedFeatures)s\\\n",
    "_randomSearch_25_by%(XfileName)s_optBy%(score_name)s/' %{'mother_pred_dir':mother_pred_dir,'target_name':target_name,'nPreSelectedFeatures':nPreSelectedFeatures,\n",
    "                                                        'XfileName':XfileName, 'score_name':score_name})\n",
    "Xpath=('/net/mraid08/export/jafar/Microbiome/Analyses/TCR/Mb_data_by_BD/\\\n",
    "LargeOrNewGenusSGBs_5MSubsampling_00001threshold_Noneratio_sSGB_byBD_PNP530_%(minShared)s_%(maxShared)s\\\n",
    "%(isBinary)s_%(isGenotek)s_withFeatures.xlsx' %{'minShared':minShared,'maxShared':maxShared,'isBinary':isBinary,'isGenotek':isGenotek})\n",
    "\n",
    "pathToModelParams='/net/mraid08/export/jafar/Microbiome/Analyses/ShaniBAF/predictions2/Model_params_files/XGB_model_params_1.xlsx'\n",
    "\n",
    "command = ('python /home/sbenari/workspace/Microbiome/ShaniBA/PredictionPipeline/PredictionModuleShani.py %(output_dir)s \\\n",
    "-path_to_X %(Xpath)s -path_to_Y %(Ypath)s -parameter_search_type randomSearch -n_random 25 -model XGB \\\n",
    "-pathToModelParams %(pathToModelParams)s -mem_def %(mem_def)s -n_cols_per_job 1 -nPreSelectedFeatures %(nPreSelectedFeatures)s'\\\n",
    "%{'output_dir': output_dir, 'Xpath':Xpath, 'Ypath': Ypath, 'pathToModelParams':pathToModelParams, 'nPreSelectedFeatures':nPreSelectedFeatures,\n",
    "   'pathToModelParams':pathToModelParams, 'mem_def':mem_def})\n",
    "\n",
    "print command"
   ]
  },
  {
   "cell_type": "markdown",
   "metadata": {},
   "source": [
    "## genus"
   ]
  },
  {
   "cell_type": "code",
   "execution_count": 57,
   "metadata": {
    "ExecuteTime": {
     "end_time": "2019-04-16T11:07:54.824231Z",
     "start_time": "2019-04-16T11:07:54.788095Z"
    }
   },
   "outputs": [
    {
     "name": "stdout",
     "output_type": "stream",
     "text": [
      "python /home/sbenari/workspace/Microbiome/ShaniBA/PredictionPipeline/PredictionModuleShani.py /net/mraid08/export/jafar/Microbiome/Analyses/ShaniBAF/predictions2/TCR_features_updated/byMBgenus/TCRfeatures_XGB99999_randomSearch_25_byGenus5Mssgenotek_optByExpVar/ -path_to_X /net/mraid08/export/jafar/Microbiome/Analyses/TCR/Mb_data_by_BD/LargeOrNewGenusSGBs_5MSubsampling_00001threshold_Noneratio_gSGB_byBD_PNP530_005_095_genotek_withFeatures.xlsx -path_to_Y /net/mraid08/export/jafar/Microbiome/Analyses/TCR/TCRfeatures/TCRfeaturesNoT_PCA10percShared_withRels_VDJ_noCorr0-999_nanFilled_noConsts_PNP530.xlsx -parameter_search_type randomSearch -n_random 25 -model XGB -pathToModelParams /net/mraid08/export/jafar/Microbiome/Analyses/ShaniBAF/predictions2/Model_params_files/XGB_model_params_1.xlsx -mem_def 2 -n_cols_per_job 1 -nPreSelectedFeatures 99999\n"
     ]
    }
   ],
   "source": [
    "#change for every run:\n",
    "\n",
    "target_name='TCRfeatures'\n",
    "task='reg'  ##'clas'/'reg'\n",
    "nPreSelectedFeatures=99999\n",
    "isBinary=False\n",
    "isGenotek=True\n",
    "mother_pred_dir='TCR_features_updated/byMBgenus'\n",
    "\n",
    "taxLevel='Genus' #'Species'/'Genus'\n",
    "subsampling=5 #5/10/None\n",
    "\n",
    "\n",
    "\n",
    "score_binclass='AUC'\n",
    "score_reg='ExpVar'\n",
    "\n",
    "minShared=0.05\n",
    "maxShared=0.95\n",
    "Ypath='/net/mraid08/export/jafar/Microbiome/Analyses/TCR/TCRfeatures/TCRfeaturesNoT_PCA10percShared_withRels_VDJ_noCorr0-999_nanFilled_noConsts_PNP530.xlsx'\n",
    "mem_def=2\n",
    "\n",
    "#do not change these arameters!\n",
    "if task == 'clas': \n",
    "    score=score_binclass\n",
    "    score_name=score\n",
    "else: \n",
    "    score=None\n",
    "    score_name=score_reg\n",
    "\n",
    "minShared=str(minShared).replace('.','')\n",
    "maxShared=str(maxShared).replace('.','')\n",
    "\n",
    "if isBinary: isBinary='_binary'\n",
    "else: isBinary=''\n",
    "if isGenotek: isGenotek='genotek'\n",
    "else: isGenotek='swab'\n",
    "\n",
    "# print isBinary\n",
    "# print isGenotek\n",
    "    \n",
    "XfileName=taxLevel+'%sMss' %subsampling+str(isGenotek)+str(isBinary)\n",
    "\n",
    "output_dir=('/net/mraid08/export/jafar/Microbiome/Analyses/ShaniBAF/predictions2/%(mother_pred_dir)s/%(target_name)s_XGB%(nPreSelectedFeatures)s\\\n",
    "_randomSearch_25_by%(XfileName)s_optBy%(score_name)s/' %{'mother_pred_dir':mother_pred_dir,'target_name':target_name,'nPreSelectedFeatures':nPreSelectedFeatures,\n",
    "                                                        'XfileName':XfileName, 'score_name':score_name})\n",
    "Xpath=('/net/mraid08/export/jafar/Microbiome/Analyses/TCR/Mb_data_by_BD/\\\n",
    "LargeOrNewGenusSGBs_5MSubsampling_00001threshold_Noneratio_gSGB_byBD_PNP530_%(minShared)s_%(maxShared)s\\\n",
    "%(isBinary)s_%(isGenotek)s_withFeatures.xlsx' %{'minShared':minShared,'maxShared':maxShared,'isBinary':isBinary,'isGenotek':isGenotek})\n",
    "\n",
    "pathToModelParams='/net/mraid08/export/jafar/Microbiome/Analyses/ShaniBAF/predictions2/Model_params_files/XGB_model_params_1.xlsx'\n",
    "\n",
    "command = ('python /home/sbenari/workspace/Microbiome/ShaniBA/PredictionPipeline/PredictionModuleShani.py %(output_dir)s \\\n",
    "-path_to_X %(Xpath)s -path_to_Y %(Ypath)s -parameter_search_type randomSearch -n_random 25 -model XGB \\\n",
    "-pathToModelParams %(pathToModelParams)s -mem_def %(mem_def)s -n_cols_per_job 1 -nPreSelectedFeatures %(nPreSelectedFeatures)s'\\\n",
    "%{'output_dir': output_dir, 'Xpath':Xpath, 'Ypath': Ypath, 'pathToModelParams':pathToModelParams, 'nPreSelectedFeatures':nPreSelectedFeatures,\n",
    "   'pathToModelParams':pathToModelParams, 'mem_def':mem_def})\n",
    "\n",
    "print command"
   ]
  },
  {
   "cell_type": "markdown",
   "metadata": {},
   "source": [
    "# FOR top100 clusters binary prediction - 5Mss,  with MB features"
   ]
  },
  {
   "cell_type": "markdown",
   "metadata": {},
   "source": [
    "## SPECIES:"
   ]
  },
  {
   "cell_type": "code",
   "execution_count": 52,
   "metadata": {
    "ExecuteTime": {
     "end_time": "2019-04-16T11:05:42.809669Z",
     "start_time": "2019-04-16T11:05:42.771315Z"
    }
   },
   "outputs": [
    {
     "name": "stdout",
     "output_type": "stream",
     "text": [
      "python /home/sbenari/workspace/Microbiome/ShaniBA/PredictionPipeline/PredictionModuleShani.py /net/mraid08/export/jafar/Microbiome/Analyses/ShaniBAF/predictions2/TCR_seqs_clusters/top100Clusters_XGB50_randomSearch_25_bySpecies5Mssgenotek_optByExpVar/ -path_to_X /net/mraid08/export/jafar/Microbiome/Analyses/TCR/Mb_data_by_BD/LargeOrNewGenusSGBs_5MSubsampling_00001threshold_Noneratio_sSGB_byBD_PNP530_005_095_genotek_withFeatures.xlsx -path_to_Y /net/mraid08/export/jafar/Microbiome/Analyses/TCR/TCR_seqs_clusters/top100_clusterDF_PNP530_binary.xlsx -parameter_search_type randomSearch -n_random 25 -model XGB -pathToModelParams /net/mraid08/export/jafar/Microbiome/Analyses/ShaniBAF/predictions2/Model_params_files/XGB_model_params_1.xlsx -mem_def 2 -n_cols_per_job 1 -nPreSelectedFeatures 50\n"
     ]
    }
   ],
   "source": [
    "#change for every run:\n",
    "\n",
    "target_name='top100Clusters'\n",
    "task='reg'  ##'clas'/'reg'\n",
    "nPreSelectedFeatures=50\n",
    "isBinary=False\n",
    "isGenotek=True\n",
    "mother_pred_dir='TCR_seqs_clusters'\n",
    "\n",
    "taxLevel='Species' #'Species'/'Genus'\n",
    "subsampling=5 #5/10/None\n",
    "\n",
    "\n",
    "\n",
    "score_binclass='AUC'\n",
    "score_reg='ExpVar'\n",
    "\n",
    "minShared=0.05\n",
    "maxShared=0.95\n",
    "Ypath='/net/mraid08/export/jafar/Microbiome/Analyses/TCR/TCR_seqs_clusters/top100_clusterDF_PNP530_binary.xlsx'\n",
    "mem_def=2\n",
    "\n",
    "#do not change these arameters!\n",
    "if task == 'clas': \n",
    "    score=score_binclass\n",
    "    score_name=score\n",
    "else: \n",
    "    score=None\n",
    "    score_name=score_reg\n",
    "\n",
    "minShared=str(minShared).replace('.','')\n",
    "maxShared=str(maxShared).replace('.','')\n",
    "\n",
    "if isBinary: isBinary='_binary'\n",
    "else: isBinary=''\n",
    "if isGenotek: isGenotek='genotek'\n",
    "else: isGenotek='swab'\n",
    "\n",
    "# print isBinary\n",
    "# print isGenotek\n",
    "    \n",
    "XfileName=taxLevel+'%sMss' %subsampling+str(isGenotek)+str(isBinary)\n",
    "\n",
    "output_dir=('/net/mraid08/export/jafar/Microbiome/Analyses/ShaniBAF/predictions2/%(mother_pred_dir)s/%(target_name)s_XGB%(nPreSelectedFeatures)s\\\n",
    "_randomSearch_25_by%(XfileName)s_optBy%(score_name)s/' %{'mother_pred_dir':mother_pred_dir,'target_name':target_name,'nPreSelectedFeatures':nPreSelectedFeatures,\n",
    "                                                        'XfileName':XfileName, 'score_name':score_name})\n",
    "Xpath=('/net/mraid08/export/jafar/Microbiome/Analyses/TCR/Mb_data_by_BD/\\\n",
    "LargeOrNewGenusSGBs_5MSubsampling_00001threshold_Noneratio_sSGB_byBD_PNP530_%(minShared)s_%(maxShared)s\\\n",
    "%(isBinary)s_%(isGenotek)s_withFeatures.xlsx' %{'minShared':minShared,'maxShared':maxShared,'isBinary':isBinary,'isGenotek':isGenotek})\n",
    "\n",
    "pathToModelParams='/net/mraid08/export/jafar/Microbiome/Analyses/ShaniBAF/predictions2/Model_params_files/XGB_model_params_1.xlsx'\n",
    "\n",
    "command = ('python /home/sbenari/workspace/Microbiome/ShaniBA/PredictionPipeline/PredictionModuleShani.py %(output_dir)s \\\n",
    "-path_to_X %(Xpath)s -path_to_Y %(Ypath)s -parameter_search_type randomSearch -n_random 25 -model XGB \\\n",
    "-pathToModelParams %(pathToModelParams)s -mem_def %(mem_def)s -n_cols_per_job 1 -nPreSelectedFeatures %(nPreSelectedFeatures)s'\\\n",
    "%{'output_dir': output_dir, 'Xpath':Xpath, 'Ypath': Ypath, 'pathToModelParams':pathToModelParams, 'nPreSelectedFeatures':nPreSelectedFeatures,\n",
    "   'pathToModelParams':pathToModelParams, 'mem_def':mem_def})\n",
    "\n",
    "print command"
   ]
  },
  {
   "cell_type": "markdown",
   "metadata": {},
   "source": [
    "## GEUNS:"
   ]
  },
  {
   "cell_type": "code",
   "execution_count": 53,
   "metadata": {
    "ExecuteTime": {
     "end_time": "2019-04-16T11:05:55.926271Z",
     "start_time": "2019-04-16T11:05:55.890501Z"
    }
   },
   "outputs": [
    {
     "name": "stdout",
     "output_type": "stream",
     "text": [
      "python /home/sbenari/workspace/Microbiome/ShaniBA/PredictionPipeline/PredictionModuleShani.py /net/mraid08/export/jafar/Microbiome/Analyses/ShaniBAF/predictions2/TCR_seqs_clusters/byMBgenus/top100Clusters_XGB50_randomSearch_25_byGenus5Mssswab_optByExpVar/ -path_to_X /net/mraid08/export/jafar/Microbiome/Analyses/TCR/Mb_data_by_BD/LargeOrNewGenusSGBs_5MSubsampling_00001threshold_Noneratio_gSGB_byBD_PNP530_005_095_swab_withFeatures.xlsx -path_to_Y /net/mraid08/export/jafar/Microbiome/Analyses/TCR/TCR_seqs_clusters/top100_clusterDF_PNP530_binary.xlsx -parameter_search_type randomSearch -n_random 25 -model XGB -pathToModelParams /net/mraid08/export/jafar/Microbiome/Analyses/ShaniBAF/predictions2/Model_params_files/XGB_model_params_1.xlsx -mem_def 2 -n_cols_per_job 1 -nPreSelectedFeatures 50\n"
     ]
    }
   ],
   "source": [
    "#change for every run:\n",
    "\n",
    "target_name='top100Clusters'\n",
    "task='reg'  ##'clas'/'reg'\n",
    "nPreSelectedFeatures=50\n",
    "isBinary=False\n",
    "isGenotek=False\n",
    "mother_pred_dir='TCR_seqs_clusters/byMBgenus'\n",
    "\n",
    "taxLevel='Genus' #'Species'/'Genus'\n",
    "subsampling=5 #5/10/None\n",
    "\n",
    "\n",
    "\n",
    "score_binclass='AUC'\n",
    "score_reg='ExpVar'\n",
    "\n",
    "minShared=0.05\n",
    "maxShared=0.95\n",
    "Ypath='/net/mraid08/export/jafar/Microbiome/Analyses/TCR/TCR_seqs_clusters/top100_clusterDF_PNP530_binary.xlsx'\n",
    "mem_def=2\n",
    "\n",
    "\n",
    "\n",
    "#do not change these arameters!\n",
    "if task == 'clas': \n",
    "    score=score_binclass\n",
    "    score_name=score\n",
    "else: \n",
    "    score=None\n",
    "    score_name=score_reg\n",
    "\n",
    "minShared=str(minShared).replace('.','')\n",
    "maxShared=str(maxShared).replace('.','')\n",
    "\n",
    "if isBinary: isBinary='_binary'\n",
    "else: isBinary=''\n",
    "if isGenotek: isGenotek='genotek'\n",
    "else: isGenotek='swab'\n",
    "\n",
    "# print isBinary\n",
    "# print isGenotek\n",
    "    \n",
    "XfileName=taxLevel+'%sMss' %subsampling+str(isGenotek)+str(isBinary)\n",
    "\n",
    "output_dir=('/net/mraid08/export/jafar/Microbiome/Analyses/ShaniBAF/predictions2/%(mother_pred_dir)s/%(target_name)s_XGB%(nPreSelectedFeatures)s\\\n",
    "_randomSearch_25_by%(XfileName)s_optBy%(score_name)s/' %{'mother_pred_dir':mother_pred_dir,'target_name':target_name,'nPreSelectedFeatures':nPreSelectedFeatures,\n",
    "                                                        'XfileName':XfileName, 'score_name':score_name})\n",
    "Xpath=('/net/mraid08/export/jafar/Microbiome/Analyses/TCR/Mb_data_by_BD/\\\n",
    "LargeOrNewGenusSGBs_5MSubsampling_00001threshold_Noneratio_gSGB_byBD_PNP530_%(minShared)s_%(maxShared)s\\\n",
    "%(isBinary)s_%(isGenotek)s_withFeatures.xlsx' %{'minShared':minShared,'maxShared':maxShared,'isBinary':isBinary,'isGenotek':isGenotek})\n",
    "\n",
    "pathToModelParams='/net/mraid08/export/jafar/Microbiome/Analyses/ShaniBAF/predictions2/Model_params_files/XGB_model_params_1.xlsx'\n",
    "\n",
    "command = ('python /home/sbenari/workspace/Microbiome/ShaniBA/PredictionPipeline/PredictionModuleShani.py %(output_dir)s \\\n",
    "-path_to_X %(Xpath)s -path_to_Y %(Ypath)s -parameter_search_type randomSearch -n_random 25 -model XGB \\\n",
    "-pathToModelParams %(pathToModelParams)s -mem_def %(mem_def)s -n_cols_per_job 1 -nPreSelectedFeatures %(nPreSelectedFeatures)s'\\\n",
    "%{'output_dir': output_dir, 'Xpath':Xpath, 'Ypath': Ypath, 'pathToModelParams':pathToModelParams, 'nPreSelectedFeatures':nPreSelectedFeatures,\n",
    "   'pathToModelParams':pathToModelParams, 'mem_def':mem_def})\n",
    "\n",
    "print command"
   ]
  },
  {
   "cell_type": "markdown",
   "metadata": {},
   "source": [
    "# predict top20isCardio features:"
   ]
  },
  {
   "cell_type": "markdown",
   "metadata": {},
   "source": [
    "## by species"
   ]
  },
  {
   "cell_type": "code",
   "execution_count": 59,
   "metadata": {
    "ExecuteTime": {
     "end_time": "2019-04-16T11:10:51.564922Z",
     "start_time": "2019-04-16T11:10:51.526418Z"
    }
   },
   "outputs": [
    {
     "name": "stdout",
     "output_type": "stream",
     "text": [
      "python /home/sbenari/workspace/Microbiome/ShaniBA/PredictionPipeline/PredictionModuleShani.py /net/mraid08/export/jafar/Microbiome/Analyses/ShaniBAF/predictions2/TCR_features_updated/top20isCardioShapFeatures/top100Clusters_XGB50_randomSearch_25_bySpecies5Mssgenotek_binary_optByExpVar/ -path_to_X /net/mraid08/export/jafar/Microbiome/Analyses/TCR/Mb_data_by_BD/LargeOrNewGenusSGBs_5MSubsampling_00001threshold_Noneratio_sSGB_byBD_PNP530_005_095_binary_genotek_withFeatures.xlsx -path_to_Y /net/mraid08/export/jafar/Microbiome/Analyses/TCR/TCRfeatures/TCRfeaturesNoT_PCA10percShared_withRels_VDJ_noCorr0-999_nanFilled_noConsts_PNP530_top20isCardioShapFeatures.xlsx -parameter_search_type randomSearch -n_random 25 -model XGB -pathToModelParams /net/mraid08/export/jafar/Microbiome/Analyses/ShaniBAF/predictions2/Model_params_files/XGB_model_params_1.xlsx -mem_def 2 -n_cols_per_job 1 -nPreSelectedFeatures 50\n"
     ]
    }
   ],
   "source": [
    "#change for every run:\n",
    "\n",
    "target_name='top100Clusters'\n",
    "task='reg'  ##'clas'/'reg'\n",
    "nPreSelectedFeatures=50\n",
    "isBinary=True\n",
    "isGenotek=True\n",
    "mother_pred_dir='TCR_features_updated/top20isCardioShapFeatures'\n",
    "\n",
    "taxLevel='Species' #'Species'/'Genus'\n",
    "subsampling=5 #5/10/None\n",
    "\n",
    "\n",
    "\n",
    "score_binclass='AUC'\n",
    "score_reg='ExpVar'\n",
    "\n",
    "minShared=0.05\n",
    "maxShared=0.95\n",
    "Ypath='/net/mraid08/export/jafar/Microbiome/Analyses/TCR/TCRfeatures/TCRfeaturesNoT_PCA10percShared_withRels_VDJ_noCorr0-999_nanFilled_noConsts_PNP530_top20isCardioShapFeatures.xlsx'\n",
    "mem_def=2\n",
    "\n",
    "\n",
    "\n",
    "#do not change these arameters!\n",
    "if task == 'clas': \n",
    "    score=score_binclass\n",
    "    score_name=score\n",
    "else: \n",
    "    score=None\n",
    "    score_name=score_reg\n",
    "\n",
    "minShared=str(minShared).replace('.','')\n",
    "maxShared=str(maxShared).replace('.','')\n",
    "\n",
    "if isBinary: isBinary='_binary'\n",
    "else: isBinary=''\n",
    "if isGenotek: isGenotek='genotek'\n",
    "else: isGenotek='swab'\n",
    "\n",
    "# print isBinary\n",
    "# print isGenotek\n",
    "    \n",
    "XfileName=taxLevel+'%sMss' %subsampling+str(isGenotek)+str(isBinary)\n",
    "\n",
    "output_dir=('/net/mraid08/export/jafar/Microbiome/Analyses/ShaniBAF/predictions2/%(mother_pred_dir)s/%(target_name)s_XGB%(nPreSelectedFeatures)s\\\n",
    "_randomSearch_25_by%(XfileName)s_optBy%(score_name)s/' %{'mother_pred_dir':mother_pred_dir,'target_name':target_name,'nPreSelectedFeatures':nPreSelectedFeatures,\n",
    "                                                        'XfileName':XfileName, 'score_name':score_name})\n",
    "Xpath=('/net/mraid08/export/jafar/Microbiome/Analyses/TCR/Mb_data_by_BD/\\\n",
    "LargeOrNewGenusSGBs_5MSubsampling_00001threshold_Noneratio_sSGB_byBD_PNP530_%(minShared)s_%(maxShared)s\\\n",
    "%(isBinary)s_%(isGenotek)s_withFeatures.xlsx' %{'minShared':minShared,'maxShared':maxShared,'isBinary':isBinary,'isGenotek':isGenotek})\n",
    "\n",
    "pathToModelParams='/net/mraid08/export/jafar/Microbiome/Analyses/ShaniBAF/predictions2/Model_params_files/XGB_model_params_1.xlsx'\n",
    "\n",
    "command = ('python /home/sbenari/workspace/Microbiome/ShaniBA/PredictionPipeline/PredictionModuleShani.py %(output_dir)s \\\n",
    "-path_to_X %(Xpath)s -path_to_Y %(Ypath)s -parameter_search_type randomSearch -n_random 25 -model XGB \\\n",
    "-pathToModelParams %(pathToModelParams)s -mem_def %(mem_def)s -n_cols_per_job 1 -nPreSelectedFeatures %(nPreSelectedFeatures)s'\\\n",
    "%{'output_dir': output_dir, 'Xpath':Xpath, 'Ypath': Ypath, 'pathToModelParams':pathToModelParams, 'nPreSelectedFeatures':nPreSelectedFeatures,\n",
    "   'pathToModelParams':pathToModelParams, 'mem_def':mem_def})\n",
    "\n",
    "print command"
   ]
  },
  {
   "cell_type": "markdown",
   "metadata": {},
   "source": [
    "## by genus"
   ]
  },
  {
   "cell_type": "code",
   "execution_count": 61,
   "metadata": {
    "ExecuteTime": {
     "end_time": "2019-04-16T11:12:29.853006Z",
     "start_time": "2019-04-16T11:12:29.815119Z"
    }
   },
   "outputs": [
    {
     "name": "stdout",
     "output_type": "stream",
     "text": [
      "python /home/sbenari/workspace/Microbiome/ShaniBA/PredictionPipeline/PredictionModuleShani.py /net/mraid08/export/jafar/Microbiome/Analyses/ShaniBAF/predictions2/TCR_features_updated/top20isCardioShapFeatures/top100Clusters_XGB50_randomSearch_25_byGenus5Mssgenotek_optByExpVar/ -path_to_X /net/mraid08/export/jafar/Microbiome/Analyses/TCR/Mb_data_by_BD/LargeOrNewGenusSGBs_5MSubsampling_00001threshold_Noneratio_gSGB_byBD_PNP530_005_095_genotek_withFeatures.xlsx -path_to_Y /net/mraid08/export/jafar/Microbiome/Analyses/TCR/TCRfeatures/TCRfeaturesNoT_PCA10percShared_withRels_VDJ_noCorr0-999_nanFilled_noConsts_PNP530_top20isCardioShapFeatures.xlsx -parameter_search_type randomSearch -n_random 25 -model XGB -pathToModelParams /net/mraid08/export/jafar/Microbiome/Analyses/ShaniBAF/predictions2/Model_params_files/XGB_model_params_1.xlsx -mem_def 2 -n_cols_per_job 1 -nPreSelectedFeatures 50\n"
     ]
    }
   ],
   "source": [
    "#change for every run:\n",
    "\n",
    "target_name='top100Clusters'\n",
    "task='reg'  ##'clas'/'reg'\n",
    "nPreSelectedFeatures=50\n",
    "isBinary=False\n",
    "isGenotek=True\n",
    "mother_pred_dir='TCR_features_updated/top20isCardioShapFeatures'\n",
    "\n",
    "taxLevel='Genus' #'Species'/'Genus'\n",
    "subsampling=5 #5/10/None\n",
    "\n",
    "\n",
    "\n",
    "score_binclass='AUC'\n",
    "score_reg='ExpVar'\n",
    "\n",
    "minShared=0.05\n",
    "maxShared=0.95\n",
    "Ypath='/net/mraid08/export/jafar/Microbiome/Analyses/TCR/TCRfeatures/TCRfeaturesNoT_PCA10percShared_withRels_VDJ_noCorr0-999_nanFilled_noConsts_PNP530_top20isCardioShapFeatures.xlsx'\n",
    "mem_def=2\n",
    "\n",
    "\n",
    "\n",
    "#do not change these arameters!\n",
    "if task == 'clas': \n",
    "    score=score_binclass\n",
    "    score_name=score\n",
    "else: \n",
    "    score=None\n",
    "    score_name=score_reg\n",
    "\n",
    "minShared=str(minShared).replace('.','')\n",
    "maxShared=str(maxShared).replace('.','')\n",
    "\n",
    "if isBinary: isBinary='_binary'\n",
    "else: isBinary=''\n",
    "if isGenotek: isGenotek='genotek'\n",
    "else: isGenotek='swab'\n",
    "\n",
    "# print isBinary\n",
    "# print isGenotek\n",
    "    \n",
    "XfileName=taxLevel+'%sMss' %subsampling+str(isGenotek)+str(isBinary)\n",
    "\n",
    "output_dir=('/net/mraid08/export/jafar/Microbiome/Analyses/ShaniBAF/predictions2/%(mother_pred_dir)s/%(target_name)s_XGB%(nPreSelectedFeatures)s\\\n",
    "_randomSearch_25_by%(XfileName)s_optBy%(score_name)s/' %{'mother_pred_dir':mother_pred_dir,'target_name':target_name,'nPreSelectedFeatures':nPreSelectedFeatures,\n",
    "                                                        'XfileName':XfileName, 'score_name':score_name})\n",
    "Xpath=('/net/mraid08/export/jafar/Microbiome/Analyses/TCR/Mb_data_by_BD/\\\n",
    "LargeOrNewGenusSGBs_5MSubsampling_00001threshold_Noneratio_gSGB_byBD_PNP530_%(minShared)s_%(maxShared)s\\\n",
    "%(isBinary)s_%(isGenotek)s_withFeatures.xlsx' %{'minShared':minShared,'maxShared':maxShared,'isBinary':isBinary,'isGenotek':isGenotek})\n",
    "\n",
    "pathToModelParams='/net/mraid08/export/jafar/Microbiome/Analyses/ShaniBAF/predictions2/Model_params_files/XGB_model_params_1.xlsx'\n",
    "\n",
    "command = ('python /home/sbenari/workspace/Microbiome/ShaniBA/PredictionPipeline/PredictionModuleShani.py %(output_dir)s \\\n",
    "-path_to_X %(Xpath)s -path_to_Y %(Ypath)s -parameter_search_type randomSearch -n_random 25 -model XGB \\\n",
    "-pathToModelParams %(pathToModelParams)s -mem_def %(mem_def)s -n_cols_per_job 1 -nPreSelectedFeatures %(nPreSelectedFeatures)s'\\\n",
    "%{'output_dir': output_dir, 'Xpath':Xpath, 'Ypath': Ypath, 'pathToModelParams':pathToModelParams, 'nPreSelectedFeatures':nPreSelectedFeatures,\n",
    "   'pathToModelParams':pathToModelParams, 'mem_def':mem_def})\n",
    "\n",
    "print command"
   ]
  },
  {
   "cell_type": "code",
   "execution_count": null,
   "metadata": {},
   "outputs": [],
   "source": []
  }
 ],
 "metadata": {
  "kernelspec": {
   "display_name": "Python 2",
   "language": "python",
   "name": "python2"
  },
  "language_info": {
   "codemirror_mode": {
    "name": "ipython",
    "version": 2
   },
   "file_extension": ".py",
   "mimetype": "text/x-python",
   "name": "python",
   "nbconvert_exporter": "python",
   "pygments_lexer": "ipython2",
   "version": "2.7.8"
  },
  "toc": {
   "nav_menu": {},
   "number_sections": true,
   "sideBar": true,
   "skip_h1_title": false,
   "toc_cell": false,
   "toc_position": {
    "height": "668px",
    "left": "0px",
    "right": "20px",
    "top": "134px",
    "width": "381px"
   },
   "toc_section_display": "block",
   "toc_window_display": true
  },
  "varInspector": {
   "cols": {
    "lenName": 16,
    "lenType": 16,
    "lenVar": 40
   },
   "kernels_config": {
    "python": {
     "delete_cmd_postfix": "",
     "delete_cmd_prefix": "del ",
     "library": "var_list.py",
     "varRefreshCmd": "print(var_dic_list())"
    },
    "r": {
     "delete_cmd_postfix": ") ",
     "delete_cmd_prefix": "rm(",
     "library": "var_list.r",
     "varRefreshCmd": "cat(var_dic_list()) "
    }
   },
   "types_to_exclude": [
    "module",
    "function",
    "builtin_function_or_method",
    "instance",
    "_Feature"
   ],
   "window_display": false
  }
 },
 "nbformat": 4,
 "nbformat_minor": 2
}
