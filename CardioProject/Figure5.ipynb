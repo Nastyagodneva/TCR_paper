{
 "cells": [
  {
   "cell_type": "markdown",
   "metadata": {},
   "source": [
    "# imports"
   ]
  },
  {
   "cell_type": "code",
   "execution_count": 1,
   "metadata": {
    "ExecuteTime": {
     "end_time": "2019-03-26T09:35:29.667126Z",
     "start_time": "2019-03-26T09:35:27.030172Z"
    }
   },
   "outputs": [
    {
     "name": "stdout",
     "output_type": "stream",
     "text": [
      "stop\n",
      "done1\n",
      "stop\n",
      "done\n",
      "done\n",
      "stop\n",
      "end of function!!!\n"
     ]
    },
    {
     "name": "stderr",
     "output_type": "stream",
     "text": [
      "/usr/wisdom/python/lib/python2.7/site-packages/matplotlib/__init__.py:1357: UserWarning:  This call to matplotlib.use() has no effect\n",
      "because the backend has already been chosen;\n",
      "matplotlib.use() must be called *before* pylab, matplotlib.pyplot,\n",
      "or matplotlib.backends is imported for the first time.\n",
      "\n",
      "  warnings.warn(_use_error_msg)\n"
     ]
    }
   ],
   "source": [
    "# system & general:\n",
    "from os import listdir, mkdir, makedirs\n",
    "from os.path import isfile, join, isdir, exists\n",
    "import cPickle as pickle\n",
    "import os\n",
    "import re\n",
    "import time\n",
    "\n",
    "# data analysis and statistics:\n",
    "import pandas as pd\n",
    "import numpy as np\n",
    "from scipy import stats\n",
    "import random\n",
    "from scipy.stats import pearsonr, fisher_exact, mannwhitneyu, sem\n",
    "import math\n",
    "from scipy.spatial.distance import braycurtis, pdist, euclidean\n",
    "\n",
    "# figures:\n",
    "import matplotlib as mpl\n",
    "# mpl.use('Agg')\n",
    "\n",
    "import matplotlib.pyplot as plt\n",
    "from matplotlib.backends.backend_pdf import PdfPages\n",
    "import seaborn as sns \n",
    "from matplotlib.ticker import FormatStrFormatter\n",
    "from matplotlib import gridspec\n",
    "# from PNPChip.ForPaper.Figures.nature_guidline_utils import m2inch\n",
    "import matplotlib.cm as cm\n",
    "from mpl_toolkits.axes_grid1 import make_axes_locatable\n",
    "\n",
    "# my functions:\n",
    "from ShaniBA.myplots import roundup, rounddown, find_decimal_fold, percentile_cut_off, rarefaction_calc, rarefaction_plot, adjusted_roundup\n",
    "from ShaniBA.MyFunctionsShani import *\n",
    "from ShaniBA.GeneralFeaturePhenotypeInteractions.Feature_phenotype_functions import * \n",
    "from ShaniBA.TCR_microbiome_interactions.TCR_microbiome_interactions_functions import *\n",
    "from ShaniBA.TCR_microbiome_interactions.TCR_microbiome_interactions_functions2 import *\n",
    "from ShaniBA.SampleLists.SampleFileFunctions import *\n",
    "from ShaniBA.PhenotypicData.PhenotypeGenerationFunctions import *\n",
    "from ShaniBA.CardioProject.CardioFunctions import *\n",
    "from ShaniBA.PredictionPipeline.PredictionFunctions import *\n",
    "from ShaniBA.TCR_feature_generation.SubsamplingFunctions import *\n",
    "from ShaniBA.CardioProject.Figures.GeneralFigureFunctions import *\n",
    "from ShaniBA.CardioProject.Figures.Figure1 import *\n",
    "\n",
    "#ML:\n",
    "from sklearn.linear_model import LogisticRegression, LinearRegression\n"
   ]
  },
  {
   "cell_type": "markdown",
   "metadata": {},
   "source": [
    "# Definitions"
   ]
  },
  {
   "cell_type": "code",
   "execution_count": 2,
   "metadata": {
    "ExecuteTime": {
     "end_time": "2019-03-26T09:35:29.694565Z",
     "start_time": "2019-03-26T09:35:29.670666Z"
    }
   },
   "outputs": [
    {
     "data": {
      "text/plain": [
       "'26032019'"
      ]
     },
     "execution_count": 2,
     "metadata": {},
     "output_type": "execute_result"
    }
   ],
   "source": [
    "#####path definitions:\n",
    "MyPath = '/net/mraid08/export/genie/Lab/Personal/ShaniBAF'\n",
    "\n",
    "with open('/net/mraid08/export/genie/Lab/Personal/ShaniBAF/Sample files/BD lists/PNP530', 'rb') as fp:\n",
    "    PNP530 = pickle.load(fp)\n",
    "with open('/net/mraid08/export/genie/Lab/Personal/ShaniBAF/Sample files/BD lists/Cardio126', 'rb') as fp:\n",
    "    Cardio126 = pickle.load(fp)\n",
    "PNP530Cardio126 = PNP530 + Cardio126\n",
    "\n",
    "FIG5_DIR = '/net/mraid08/export/genie/Lab/Personal/ShaniBAF/Presentations and Manuscripts/CardioTCR paper/FigureDraft_Jan19/\\\n",
    "Fig5_clinicalPhens/'\n",
    "PRED_RESULTS_DIR='/net/mraid08/export/jafar/Microbiome/Analyses/ShaniBAF/predictions2/'\n",
    "FEATURES_DIR='/net/mraid08/export/genie/Lab/Personal/ShaniBAF/TCR_real_data/Predictions/featureDFs/'\n",
    "SAMPLE_LIST_DIR='/net/mraid08/export/genie/Lab/Personal/ShaniBAF/Sample files/BD lists/'\n",
    "CARDIO_PHEN_DIR='/net/mraid08/export/genie/Lab/Personal/ShaniBAF/TCR_real_data/CardioSamples/phenotypicData/'\n",
    "CLUSTER_ANALYSIS_DIR='/net/mraid08/export/jafar/Microbiome/Analyses/ShaniBAF/sharingAnalysis/seqClusters_allProd_maxdist1/'\n",
    "\n",
    "##### general definitions:\n",
    "pd.set_option('display.expand_frame_repr', False)\n",
    "pd.set_option('display.width', 1000)\n",
    "np.set_printoptions(precision=4, linewidth=200)\n",
    "\n",
    "cdate = str(time.strftime(\"%d%m%Y\"))\n",
    "cdate"
   ]
  },
  {
   "cell_type": "code",
   "execution_count": 3,
   "metadata": {
    "ExecuteTime": {
     "end_time": "2019-03-26T09:35:29.703427Z",
     "start_time": "2019-03-26T09:35:29.697848Z"
    }
   },
   "outputs": [
    {
     "data": {
      "text/plain": [
       "'/net/mraid08/export/jafar/Microbiome/Analyses/ShaniBAF/predictions2/'"
      ]
     },
     "execution_count": 3,
     "metadata": {},
     "output_type": "execute_result"
    }
   ],
   "source": [
    "PRED_RESULTS_DIR"
   ]
  },
  {
   "cell_type": "markdown",
   "metadata": {},
   "source": [
    "# general functions:"
   ]
  },
  {
   "cell_type": "markdown",
   "metadata": {
    "ExecuteTime": {
     "end_time": "2019-03-25T22:24:57.996189Z",
     "start_time": "2019-03-25T22:24:57.991439Z"
    }
   },
   "source": [
    "the function remove_spines was copied to GenderalFigureFunctions.py"
   ]
  },
  {
   "cell_type": "markdown",
   "metadata": {},
   "source": [
    "# general settings"
   ]
  },
  {
   "cell_type": "markdown",
   "metadata": {},
   "source": [
    "## figure definitions"
   ]
  },
  {
   "cell_type": "code",
   "execution_count": 4,
   "metadata": {
    "ExecuteTime": {
     "end_time": "2019-03-26T09:35:29.720713Z",
     "start_time": "2019-03-26T09:35:29.706805Z"
    }
   },
   "outputs": [],
   "source": [
    "def set_fig5_definitions():\n",
    "    params = {\n",
    "   'axes.labelsize': 16,\n",
    "   'font.size': 12,\n",
    "   'legend.fontsize': 14,\n",
    "    'axes.titlesize':16,\n",
    "    'axes.titleweight':'bold',\n",
    "   'xtick.labelsize': 14,\n",
    "   'ytick.labelsize': 14,\n",
    "   'text.usetex': False,\n",
    "#    'figure.figsize': [m2inch(183), m2inch(247)],#[4.5, 4.5]\n",
    "#    'figure.dpi': 300,\n",
    "   'xtick.direction':'out'}\n",
    "\n",
    "\n",
    "    mpl.rcParams.update(params)\n",
    "    mpl.rcParams['axes.linewidth'] = 0.5\n",
    "    mpl.rcParams['axes.edgecolor'] = 'black'\n",
    "    mpl.rcParams['axes.facecolor'] = 'white'\n",
    "    mpl.rcParams['xtick.direction'] = 'out'\n",
    "    mpl.rcParams['xtick.minor.pad'] = 4\n",
    "\n",
    "    return"
   ]
  },
  {
   "cell_type": "code",
   "execution_count": 5,
   "metadata": {
    "ExecuteTime": {
     "end_time": "2019-03-26T09:35:29.744773Z",
     "start_time": "2019-03-26T09:35:29.723697Z"
    }
   },
   "outputs": [
    {
     "data": {
      "text/html": [
       "[u'agg.path.chunksize', u'animation.avconv_args', u'animation.avconv_path', u'animation.bitrate', u'animation.codec', u'animation.convert_args', u'animation.convert_path', u'animation.ffmpeg_args', u'animation.ffmpeg_path', u'animation.frame_format', u'animation.html', u'animation.mencoder_args', u'animation.mencoder_path', u'animation.writer', u'axes.axisbelow', u'axes.edgecolor', u'axes.facecolor', u'axes.formatter.limits', u'axes.formatter.use_locale', u'axes.formatter.use_mathtext', u'axes.formatter.useoffset', u'axes.grid', u'axes.grid.axis', u'axes.grid.which', u'axes.hold', u'axes.labelcolor', u'axes.labelpad', u'axes.labelsize', u'axes.labelweight', u'axes.linewidth', u'axes.prop_cycle', u'axes.spines.bottom', u'axes.spines.left', u'axes.spines.right', u'axes.spines.top', u'axes.titlesize', u'axes.titleweight', u'axes.unicode_minus', u'axes.xmargin', u'axes.ymargin', u'axes3d.grid', u'backend', u'backend.qt4', u'backend.qt5', u'backend_fallback', u'boxplot.bootstrap', u'boxplot.boxprops.color', u'boxplot.boxprops.linestyle', u'boxplot.boxprops.linewidth', u'boxplot.capprops.color', u'boxplot.capprops.linestyle', u'boxplot.capprops.linewidth', u'boxplot.flierprops.color', u'boxplot.flierprops.linestyle', u'boxplot.flierprops.linewidth', u'boxplot.flierprops.marker', u'boxplot.flierprops.markeredgecolor', u'boxplot.flierprops.markerfacecolor', u'boxplot.flierprops.markersize', u'boxplot.meanline', u'boxplot.meanprops.color', u'boxplot.meanprops.linestyle', u'boxplot.meanprops.linewidth', u'boxplot.medianprops.color', u'boxplot.medianprops.linestyle', u'boxplot.medianprops.linewidth', u'boxplot.notch', u'boxplot.patchartist', u'boxplot.showbox', u'boxplot.showcaps', u'boxplot.showfliers', u'boxplot.showmeans', u'boxplot.vertical', u'boxplot.whiskerprops.color', u'boxplot.whiskerprops.linestyle', u'boxplot.whiskerprops.linewidth', u'boxplot.whiskers', u'contour.corner_mask', u'contour.negative_linestyle', u'datapath', u'docstring.hardcopy', u'errorbar.capsize', u'examples.directory', u'figure.autolayout', u'figure.dpi', u'figure.edgecolor', u'figure.facecolor', u'figure.figsize', u'figure.frameon', u'figure.max_open_warning', u'figure.subplot.bottom', u'figure.subplot.hspace', u'figure.subplot.left', u'figure.subplot.right', u'figure.subplot.top', u'figure.subplot.wspace', u'figure.titlesize', u'figure.titleweight', u'font.cursive', u'font.family', u'font.fantasy', u'font.monospace', u'font.sans-serif', u'font.serif', u'font.size', u'font.stretch', u'font.style', u'font.variant', u'font.weight', u'grid.alpha', u'grid.color', u'grid.linestyle', u'grid.linewidth', u'image.aspect', u'image.cmap', u'image.composite_image', u'image.interpolation', u'image.lut', u'image.origin', u'image.resample', u'interactive', u'keymap.all_axes', u'keymap.back', u'keymap.forward', u'keymap.fullscreen', u'keymap.grid', u'keymap.home', u'keymap.pan', u'keymap.quit', u'keymap.save', u'keymap.xscale', u'keymap.yscale', u'keymap.zoom', u'legend.borderaxespad', u'legend.borderpad', u'legend.columnspacing', u'legend.edgecolor', u'legend.facecolor', u'legend.fancybox', u'legend.fontsize', u'legend.framealpha', u'legend.frameon', u'legend.handleheight', u'legend.handlelength', u'legend.handletextpad', u'legend.isaxes', u'legend.labelspacing', u'legend.loc', u'legend.markerscale', u'legend.numpoints', u'legend.scatterpoints', u'legend.shadow', u'lines.antialiased', u'lines.color', u'lines.dash_capstyle', u'lines.dash_joinstyle', u'lines.linestyle', u'lines.linewidth', u'lines.marker', u'lines.markeredgewidth', u'lines.markersize', u'lines.solid_capstyle', u'lines.solid_joinstyle', u'markers.fillstyle', u'mathtext.bf', u'mathtext.cal', u'mathtext.default', u'mathtext.fallback_to_cm', u'mathtext.fontset', u'mathtext.it', u'mathtext.rm', u'mathtext.sf', u'mathtext.tt', u'nbagg.transparent', u'patch.antialiased', u'patch.edgecolor', u'patch.facecolor', u'patch.linewidth', u'path.effects', u'path.simplify', u'path.simplify_threshold', u'path.sketch', u'path.snap', u'pdf.compression', u'pdf.fonttype', u'pdf.inheritcolor', u'pdf.use14corefonts', u'pgf.debug', u'pgf.preamble', u'pgf.rcfonts', u'pgf.texsystem', u'plugins.directory', u'polaraxes.grid', u'ps.distiller.res', u'ps.fonttype', u'ps.papersize', u'ps.useafm', u'ps.usedistiller', u'savefig.bbox', u'savefig.directory', u'savefig.dpi', u'savefig.edgecolor', u'savefig.facecolor', u'savefig.format', u'savefig.frameon', u'savefig.jpeg_quality', u'savefig.orientation', u'savefig.pad_inches', u'savefig.transparent', u'svg.fonttype', u'svg.image_inline', u'svg.image_noscale', u'text.antialiased', u'text.color', u'text.dvipnghack', u'text.hinting', u'text.hinting_factor', u'text.latex.preamble', u'text.latex.preview', u'text.latex.unicode', u'text.usetex', u'timezone', u'tk.window_focus', u'toolbar', u'verbose.fileo', u'verbose.level', u'webagg.open_in_browser', u'webagg.port', u'webagg.port_retries', u'xtick.color', u'xtick.direction', u'xtick.labelsize', u'xtick.major.pad', u'xtick.major.size', u'xtick.major.width', u'xtick.minor.pad', u'xtick.minor.size', u'xtick.minor.visible', u'xtick.minor.width', u'ytick.color', u'ytick.direction', u'ytick.labelsize', u'ytick.major.pad', u'ytick.major.size', u'ytick.major.width', u'ytick.minor.pad', u'ytick.minor.size', u'ytick.minor.visible', u'ytick.minor.width']"
      ],
      "text/plain": [
       "[u'agg.path.chunksize',\n",
       " u'animation.avconv_args',\n",
       " u'animation.avconv_path',\n",
       " u'animation.bitrate',\n",
       " u'animation.codec',\n",
       " u'animation.convert_args',\n",
       " u'animation.convert_path',\n",
       " u'animation.ffmpeg_args',\n",
       " u'animation.ffmpeg_path',\n",
       " u'animation.frame_format',\n",
       " u'animation.html',\n",
       " u'animation.mencoder_args',\n",
       " u'animation.mencoder_path',\n",
       " u'animation.writer',\n",
       " u'axes.axisbelow',\n",
       " u'axes.edgecolor',\n",
       " u'axes.facecolor',\n",
       " u'axes.formatter.limits',\n",
       " u'axes.formatter.use_locale',\n",
       " u'axes.formatter.use_mathtext',\n",
       " u'axes.formatter.useoffset',\n",
       " u'axes.grid',\n",
       " u'axes.grid.axis',\n",
       " u'axes.grid.which',\n",
       " u'axes.hold',\n",
       " u'axes.labelcolor',\n",
       " u'axes.labelpad',\n",
       " u'axes.labelsize',\n",
       " u'axes.labelweight',\n",
       " u'axes.linewidth',\n",
       " u'axes.prop_cycle',\n",
       " u'axes.spines.bottom',\n",
       " u'axes.spines.left',\n",
       " u'axes.spines.right',\n",
       " u'axes.spines.top',\n",
       " u'axes.titlesize',\n",
       " u'axes.titleweight',\n",
       " u'axes.unicode_minus',\n",
       " u'axes.xmargin',\n",
       " u'axes.ymargin',\n",
       " u'axes3d.grid',\n",
       " u'backend',\n",
       " u'backend.qt4',\n",
       " u'backend.qt5',\n",
       " u'backend_fallback',\n",
       " u'boxplot.bootstrap',\n",
       " u'boxplot.boxprops.color',\n",
       " u'boxplot.boxprops.linestyle',\n",
       " u'boxplot.boxprops.linewidth',\n",
       " u'boxplot.capprops.color',\n",
       " u'boxplot.capprops.linestyle',\n",
       " u'boxplot.capprops.linewidth',\n",
       " u'boxplot.flierprops.color',\n",
       " u'boxplot.flierprops.linestyle',\n",
       " u'boxplot.flierprops.linewidth',\n",
       " u'boxplot.flierprops.marker',\n",
       " u'boxplot.flierprops.markeredgecolor',\n",
       " u'boxplot.flierprops.markerfacecolor',\n",
       " u'boxplot.flierprops.markersize',\n",
       " u'boxplot.meanline',\n",
       " u'boxplot.meanprops.color',\n",
       " u'boxplot.meanprops.linestyle',\n",
       " u'boxplot.meanprops.linewidth',\n",
       " u'boxplot.medianprops.color',\n",
       " u'boxplot.medianprops.linestyle',\n",
       " u'boxplot.medianprops.linewidth',\n",
       " u'boxplot.notch',\n",
       " u'boxplot.patchartist',\n",
       " u'boxplot.showbox',\n",
       " u'boxplot.showcaps',\n",
       " u'boxplot.showfliers',\n",
       " u'boxplot.showmeans',\n",
       " u'boxplot.vertical',\n",
       " u'boxplot.whiskerprops.color',\n",
       " u'boxplot.whiskerprops.linestyle',\n",
       " u'boxplot.whiskerprops.linewidth',\n",
       " u'boxplot.whiskers',\n",
       " u'contour.corner_mask',\n",
       " u'contour.negative_linestyle',\n",
       " u'datapath',\n",
       " u'docstring.hardcopy',\n",
       " u'errorbar.capsize',\n",
       " u'examples.directory',\n",
       " u'figure.autolayout',\n",
       " u'figure.dpi',\n",
       " u'figure.edgecolor',\n",
       " u'figure.facecolor',\n",
       " u'figure.figsize',\n",
       " u'figure.frameon',\n",
       " u'figure.max_open_warning',\n",
       " u'figure.subplot.bottom',\n",
       " u'figure.subplot.hspace',\n",
       " u'figure.subplot.left',\n",
       " u'figure.subplot.right',\n",
       " u'figure.subplot.top',\n",
       " u'figure.subplot.wspace',\n",
       " u'figure.titlesize',\n",
       " u'figure.titleweight',\n",
       " u'font.cursive',\n",
       " u'font.family',\n",
       " u'font.fantasy',\n",
       " u'font.monospace',\n",
       " u'font.sans-serif',\n",
       " u'font.serif',\n",
       " u'font.size',\n",
       " u'font.stretch',\n",
       " u'font.style',\n",
       " u'font.variant',\n",
       " u'font.weight',\n",
       " u'grid.alpha',\n",
       " u'grid.color',\n",
       " u'grid.linestyle',\n",
       " u'grid.linewidth',\n",
       " u'image.aspect',\n",
       " u'image.cmap',\n",
       " u'image.composite_image',\n",
       " u'image.interpolation',\n",
       " u'image.lut',\n",
       " u'image.origin',\n",
       " u'image.resample',\n",
       " u'interactive',\n",
       " u'keymap.all_axes',\n",
       " u'keymap.back',\n",
       " u'keymap.forward',\n",
       " u'keymap.fullscreen',\n",
       " u'keymap.grid',\n",
       " u'keymap.home',\n",
       " u'keymap.pan',\n",
       " u'keymap.quit',\n",
       " u'keymap.save',\n",
       " u'keymap.xscale',\n",
       " u'keymap.yscale',\n",
       " u'keymap.zoom',\n",
       " u'legend.borderaxespad',\n",
       " u'legend.borderpad',\n",
       " u'legend.columnspacing',\n",
       " u'legend.edgecolor',\n",
       " u'legend.facecolor',\n",
       " u'legend.fancybox',\n",
       " u'legend.fontsize',\n",
       " u'legend.framealpha',\n",
       " u'legend.frameon',\n",
       " u'legend.handleheight',\n",
       " u'legend.handlelength',\n",
       " u'legend.handletextpad',\n",
       " u'legend.isaxes',\n",
       " u'legend.labelspacing',\n",
       " u'legend.loc',\n",
       " u'legend.markerscale',\n",
       " u'legend.numpoints',\n",
       " u'legend.scatterpoints',\n",
       " u'legend.shadow',\n",
       " u'lines.antialiased',\n",
       " u'lines.color',\n",
       " u'lines.dash_capstyle',\n",
       " u'lines.dash_joinstyle',\n",
       " u'lines.linestyle',\n",
       " u'lines.linewidth',\n",
       " u'lines.marker',\n",
       " u'lines.markeredgewidth',\n",
       " u'lines.markersize',\n",
       " u'lines.solid_capstyle',\n",
       " u'lines.solid_joinstyle',\n",
       " u'markers.fillstyle',\n",
       " u'mathtext.bf',\n",
       " u'mathtext.cal',\n",
       " u'mathtext.default',\n",
       " u'mathtext.fallback_to_cm',\n",
       " u'mathtext.fontset',\n",
       " u'mathtext.it',\n",
       " u'mathtext.rm',\n",
       " u'mathtext.sf',\n",
       " u'mathtext.tt',\n",
       " u'nbagg.transparent',\n",
       " u'patch.antialiased',\n",
       " u'patch.edgecolor',\n",
       " u'patch.facecolor',\n",
       " u'patch.linewidth',\n",
       " u'path.effects',\n",
       " u'path.simplify',\n",
       " u'path.simplify_threshold',\n",
       " u'path.sketch',\n",
       " u'path.snap',\n",
       " u'pdf.compression',\n",
       " u'pdf.fonttype',\n",
       " u'pdf.inheritcolor',\n",
       " u'pdf.use14corefonts',\n",
       " u'pgf.debug',\n",
       " u'pgf.preamble',\n",
       " u'pgf.rcfonts',\n",
       " u'pgf.texsystem',\n",
       " u'plugins.directory',\n",
       " u'polaraxes.grid',\n",
       " u'ps.distiller.res',\n",
       " u'ps.fonttype',\n",
       " u'ps.papersize',\n",
       " u'ps.useafm',\n",
       " u'ps.usedistiller',\n",
       " u'savefig.bbox',\n",
       " u'savefig.directory',\n",
       " u'savefig.dpi',\n",
       " u'savefig.edgecolor',\n",
       " u'savefig.facecolor',\n",
       " u'savefig.format',\n",
       " u'savefig.frameon',\n",
       " u'savefig.jpeg_quality',\n",
       " u'savefig.orientation',\n",
       " u'savefig.pad_inches',\n",
       " u'savefig.transparent',\n",
       " u'svg.fonttype',\n",
       " u'svg.image_inline',\n",
       " u'svg.image_noscale',\n",
       " u'text.antialiased',\n",
       " u'text.color',\n",
       " u'text.dvipnghack',\n",
       " u'text.hinting',\n",
       " u'text.hinting_factor',\n",
       " u'text.latex.preamble',\n",
       " u'text.latex.preview',\n",
       " u'text.latex.unicode',\n",
       " u'text.usetex',\n",
       " u'timezone',\n",
       " u'tk.window_focus',\n",
       " u'toolbar',\n",
       " u'verbose.fileo',\n",
       " u'verbose.level',\n",
       " u'webagg.open_in_browser',\n",
       " u'webagg.port',\n",
       " u'webagg.port_retries',\n",
       " u'xtick.color',\n",
       " u'xtick.direction',\n",
       " u'xtick.labelsize',\n",
       " u'xtick.major.pad',\n",
       " u'xtick.major.size',\n",
       " u'xtick.major.width',\n",
       " u'xtick.minor.pad',\n",
       " u'xtick.minor.size',\n",
       " u'xtick.minor.visible',\n",
       " u'xtick.minor.width',\n",
       " u'ytick.color',\n",
       " u'ytick.direction',\n",
       " u'ytick.labelsize',\n",
       " u'ytick.major.pad',\n",
       " u'ytick.major.size',\n",
       " u'ytick.major.width',\n",
       " u'ytick.minor.pad',\n",
       " u'ytick.minor.size',\n",
       " u'ytick.minor.visible',\n",
       " u'ytick.minor.width']"
      ]
     },
     "execution_count": 5,
     "metadata": {},
     "output_type": "execute_result"
    }
   ],
   "source": [
    "mpl.rcParams.keys()"
   ]
  },
  {
   "cell_type": "code",
   "execution_count": 6,
   "metadata": {
    "ExecuteTime": {
     "end_time": "2019-03-26T09:35:29.751286Z",
     "start_time": "2019-03-26T09:35:29.747598Z"
    }
   },
   "outputs": [],
   "source": [
    "set_fig5_definitions()"
   ]
  },
  {
   "cell_type": "markdown",
   "metadata": {},
   "source": [
    "## figure design"
   ]
  },
  {
   "cell_type": "code",
   "execution_count": 7,
   "metadata": {
    "ExecuteTime": {
     "end_time": "2019-03-26T09:35:31.207072Z",
     "start_time": "2019-03-26T09:35:29.754187Z"
    }
   },
   "outputs": [
    {
     "data": {
      "image/png": "[encoded data removed]",
      "text/plain": [
       "<matplotlib.figure.Figure at 0x7fc0dbcbdd90>"
      ]
     },
     "metadata": {},
     "output_type": "display_data"
    }
   ],
   "source": [
    "fig = plt.figure(figsize=(25, 16))\n",
    "gs0 = gridspec.GridSpec(2, 4, wspace=0.5, hspace=0.5)\n",
    "\n",
    "### A:\n",
    "ax1 = plt.Subplot(fig, gs0[0, 0])\n",
    "fig.add_subplot(ax1)\n",
    "\n",
    "ax2 = plt.Subplot(fig, gs0[0, 1])\n",
    "fig.add_subplot(ax2)\n",
    "\n",
    "ax3 = plt.Subplot(fig, gs0[0, 2])\n",
    "fig.add_subplot(ax3)\n",
    "\n",
    "ax4 = plt.Subplot(fig, gs0[0, 3])\n",
    "fig.add_subplot(ax4)\n",
    "\n",
    "### B:\n",
    "ax5 = plt.Subplot(fig, gs0[1, 0])\n",
    "fig.add_subplot(ax5)\n",
    "\n",
    "ax6 = plt.Subplot(fig, gs0[1, 1])\n",
    "fig.add_subplot(ax6)\n",
    "\n",
    "ax7 = plt.Subplot(fig, gs0[1, 2])\n",
    "fig.add_subplot(ax7)\n",
    "\n",
    "ax8 = plt.Subplot(fig, gs0[1, 3])\n",
    "fig.add_subplot(ax8)\n",
    "\n",
    "\n",
    "plt.show()"
   ]
  },
  {
   "cell_type": "markdown",
   "metadata": {},
   "source": [
    "# plot functions"
   ]
  },
  {
   "cell_type": "markdown",
   "metadata": {},
   "source": [
    "## fig 5a: roc+PR curve for clinical phenotype prediction:"
   ]
  },
  {
   "cell_type": "code",
   "execution_count": 8,
   "metadata": {
    "ExecuteTime": {
     "end_time": "2019-03-26T09:35:31.272337Z",
     "start_time": "2019-03-26T09:35:31.209895Z"
    }
   },
   "outputs": [],
   "source": [
    "def plot_phen_prediction_ROC_PR(ax,phen,pred_dir,pVal):\n",
    "    \n",
    "    #get pred_proba data for phenotype\n",
    "    dir2 = PRED_RESULTS_DIR + 'Cardio126_diseasePhenotypes/' + pred_dir\n",
    "    try:\n",
    "        phen_pred_proba = pd.read_pickle(dir2 + 'predictions_df.pkl').astype('float').rename(columns={phen:'pred_proba'})\n",
    "    except:\n",
    "        phen_pred_proba = pd.read_pickle(dir2 + 'predictions_df.pkl').astype('float').rename(columns={phen.replace(' ',''):'pred_proba'})\n",
    "    print 'phen_pred_proba.columns:'\n",
    "    print phen_pred_proba.columns\n",
    "    phen_pred_proba=pd.DataFrame(phen_pred_proba['pred_proba'])\n",
    "    print phen_pred_proba.head()\n",
    "    \n",
    "    # get phenotype data\n",
    "    phen_file = CARDIO_PHEN_DIR+phen.replace(' ','')+'.xlsx'\n",
    "    phenDF = pd.read_excel(phen_file).dropna().set_index('BD').astype('float')\n",
    "\n",
    "    merged = pd.merge(phenDF, phen_pred_proba, how='inner', left_index=True, right_index=True)\n",
    "\n",
    "    print 'merged'\n",
    "    print merged.head()\n",
    "\n",
    "    # #plot:\n",
    "    pos_label = 1\n",
    "    ax, inset_axes,roc_auc, pr_auc, prevalence = plot_ROC_PR_AUC(y=pd.DataFrame(merged[phen.replace(' ','')]), y_pred_df=pd.DataFrame(merged['pred_proba']),\n",
    "                                    ax=ax, color1='darkred', color2='grey', ticklabelsize=mpl.rcParams['xtick.labelsize'],\n",
    "                                      textsize=mpl.rcParams['font.size'], labelsize=mpl.rcParams['axes.labelsize'], add_texts=False)\n",
    "    ax.annotate('ROC AUC=%s\\nObserved p=%s\\nPR AUC=%s' % (round(roc_auc, 3), pVal, round(pr_auc, 2)), xy=(0.04, 0.98), xycoords='axes fraction',\n",
    "                 fontsize=mpl.rcParams['font.size'], xytext=(0, 0), textcoords='offset points', fontweight='bold', ha='left', va='top')\n",
    "    ax.set_xlabel('False Positive Rate')\n",
    "    ax.set_ylabel('True Positive Rate')\n",
    "    inset_axes.text(0.01,prevalence-0.01,'Prevalence=%s' %prevalence,transform=inset_axes.transAxes,ha='left',va='top',\n",
    "                    fontsize=mpl.rcParams['font.size']-2)\n",
    "    \n",
    "    return ax\n",
    "\n",
    "\n",
    "\n",
    "def plot_5a(ax1,ax2,ax3,ax4):\n",
    "    \n",
    "    ### plot ROC+PR CURVES:\n",
    "    subplot_list=[(ax1,'AdmissionAspirin','Chronic Aspirin',\n",
    "                   'AdmissionAspirinBetaBlockersDischargeMerformin_XGB100_randomSearch_25_byNewX_AUC/','0.0005'),\n",
    "                 (ax2,'Acute Aspirin','Acute Aspirin',\n",
    "                  'Acute_medication_phenotypes_XGB50_randomSearch_25_bynewXonlySeqsCardio126040085noNans_optByAUC/','0.002'),\n",
    "                 (ax3,'AdmissionBetaBlockers','Chronic Beta Blockers',\n",
    "                  'AdmissionAspirinBetaBlockersDischargeMerformin_XGB100_randomSearch_25_byNewX_kappa/','0.0025'),\n",
    "                 (ax4,'Acute Ticagrelor','Acute Ticagrelor',\n",
    "                 'Acute_medication_phenotypes_XGB50_randomSearch_25_bynewXonlySeqsCardio126040085noNans_optByAUC/',0.004)]\n",
    "    \n",
    "    for item in subplot_list:\n",
    "        print item[1]\n",
    "        phen_niceName=item[2]\n",
    "        ax=plot_phen_prediction_ROC_PR(ax=item[0],phen=item[1],pred_dir=item[3],pVal=item[4])\n",
    "        \n",
    "        ax.set_title(phen_niceName,fontsize='xx-large', y=1.05)\n",
    "        \n",
    "    return ax1,ax2,ax3,ax4"
   ]
  },
  {
   "cell_type": "markdown",
   "metadata": {},
   "source": [
    "## fig 5b: shap graphs:"
   ]
  },
  {
   "cell_type": "code",
   "execution_count": 9,
   "metadata": {
    "ExecuteTime": {
     "end_time": "2019-03-26T09:35:31.330849Z",
     "start_time": "2019-03-26T09:35:31.275015Z"
    }
   },
   "outputs": [],
   "source": [
    "def plot5b(fig,ax5,ax6,ax7,ax8):\n",
    "    \n",
    "    subplot_list=[\n",
    "#         (ax5,'Admission Aspirin','Chronic Aspirin',\n",
    "#                    'AdmissionAspirinBetaBlockersDischargeMerformin_XGB100_randomSearch_25_byNewX_AUC/',True),\n",
    "                 (ax6,'Acute Aspirin','Acute Aspirin',\n",
    "                  'Acute_medication_phenotypes_XGB50_randomSearch_25_bynewXonlySeqsCardio126040085noNans_optByAUC/',True),\n",
    "#                  (ax7,'Admission BetaBlockers','Chronic Beta Blockers',\n",
    "#                   'AdmissionAspirinBetaBlockersDischargeMerformin_XGB100_randomSearch_25_byNewX_kappa/',True),\n",
    "                 (ax8,'Acute Ticagrelor','Acute Ticagrelor',\n",
    "                 'Acute_medication_phenotypes_XGB50_randomSearch_25_bynewXonlySeqsCardio126040085noNans_optByAUC/',True)\n",
    "    ]\n",
    "     \n",
    "    \n",
    "    Xfeatures_file_onlySeq='/net/mraid08/export/genie/Lab/Personal/ShaniBAF/TCR_real_data/Predictions/featureDFs/newX_onlySeqs_Cardio126_040_085_noNans.dat'\n",
    "    Xfeatures_onlySeq = pd.read_pickle(Xfeatures_file_onlySeq)\n",
    "    for col in Xfeatures_onlySeq.columns:\n",
    "            Xfeatures_onlySeq[col] = Xfeatures_onlySeq[col].fillna(Xfeatures_onlySeq[col].median())\n",
    "            \n",
    "    #define parameters for shap plot:\n",
    "    nTopFeatures = 10\n",
    "    features_df = Xfeatures_onlySeq\n",
    "    jitter = 0.1\n",
    "    sample_num = None\n",
    "    scalingMethod = 'perc'\n",
    "    \n",
    "\n",
    "    # ## plot ax8:\n",
    "    mpl.rcParams['ytick.labelsize']=14\n",
    "    mpl.rcParams['axes.labelsize']=16\n",
    "        \n",
    "    ###plot shap plot for each phenotype:\n",
    "    for item in subplot_list:\n",
    "        ax=item[0]; phen=item[1]; phen_niceName=item[2]; pred_dir=item[3]; isShap=item[4]\n",
    "        print phen\n",
    "    \n",
    "        # load shap/coef values:\n",
    "        dir2 = PRED_RESULTS_DIR + 'Cardio126_diseasePhenotypes/' + pred_dir\n",
    "        if isShap:\n",
    "            pred_shap = pd.read_pickle(dir2 + 'shap_values.pkl')[phen].astype('float').rename(columns={phen:'shap'})\n",
    "            shap_df = pd.DataFrame(pred_shap)\n",
    "            target_name = phen\n",
    "            if ax==ax8: addColorBar=True\n",
    "            else: addColorBar=False\n",
    "\n",
    "            ax, fig = gen_shap_summary_to_axes(ax, fig, target_name, nTopFeatures, shap_df, features_df,\n",
    "                                               jitter=jitter, sample_num=sample_num, scalingMethod=scalingMethod,\n",
    "                                              addColorBar=addColorBar)\n",
    "        else:\n",
    "            pred_coef=pd.read_pickle(dir2 + 'coef_values.pkl')[phen].astype('float').rename(columns={phen:'coef'})\n",
    "            coef_df = pd.DataFrame(pred_coef)\n",
    "#             print coef_df.fillna(0).max()\n",
    "            target_name = phen\n",
    "    \n",
    "    \n",
    "        ###some more edits:\n",
    "        if ax==ax5: ax.set_ylabel('Shap Value')\n",
    "        else: ax.set_ylabel('')\n",
    "        plt.setp(ax.get_xticklabels(), rotation=90, ha=\"left\",\n",
    "         rotation_mode=\"anchor\", fontsize=mpl.rcParams['font.size'], fontweight='bold')\n",
    "    \n",
    "\n",
    "            \n",
    "    return fig,ax5,ax6,ax7,ax8"
   ]
  },
  {
   "cell_type": "markdown",
   "metadata": {},
   "source": [
    "## run within figure:"
   ]
  },
  {
   "cell_type": "code",
   "execution_count": 10,
   "metadata": {
    "ExecuteTime": {
     "end_time": "2019-03-26T09:35:42.725828Z",
     "start_time": "2019-03-26T09:35:31.333558Z"
    }
   },
   "outputs": [
    {
     "name": "stdout",
     "output_type": "stream",
     "text": [
      "AdmissionAspirin\n",
      "phen_pred_proba.columns:\n",
      "Index([u'AdmissionBetaBlockers', u'DischargeMerformin', u'pred_proba'], dtype='object')\n",
      "       pred_proba\n",
      "BD               \n",
      "BD950    0.701651\n",
      "BD951    0.222958\n",
      "BD952    0.200335\n",
      "BD953    0.495530\n",
      "BD955    0.445686\n",
      "merged\n",
      "       AdmissionAspirin  pred_proba\n",
      "BD                                 \n",
      "BD950               0.0    0.701651\n",
      "BD951               0.0    0.222958\n",
      "BD952               1.0    0.200335\n",
      "BD953               0.0    0.495530\n",
      "BD955               0.0    0.445686\n",
      "Acute Aspirin\n",
      "phen_pred_proba.columns:\n",
      "Index([u'Acute Clopidogrel', u'Acute PPI', u'pred_proba', u'Acute Prasugrel', u'Acute ACEI', u'Acute Statins', u'Acute Ticagrelor'], dtype='object')\n",
      "       pred_proba\n",
      "BD               \n",
      "BD950    0.166410\n",
      "BD951    0.665294\n",
      "BD952    0.339251\n",
      "BD953    0.097787\n",
      "BD955    0.178532\n",
      "merged\n",
      "       AcuteAspirin  pred_proba\n",
      "BD                             \n",
      "BD950           1.0    0.166410\n",
      "BD951           1.0    0.665294\n",
      "BD952           0.0    0.339251\n",
      "BD953           1.0    0.097787\n",
      "BD955           0.0    0.178532\n",
      "AdmissionBetaBlockers\n",
      "phen_pred_proba.columns:\n",
      "Index([u'pred_proba', u'AdmissionAspirin', u'DischargeMerformin'], dtype='object')\n",
      "       pred_proba\n",
      "BD               \n",
      "BD950    0.650613\n",
      "BD951    0.025141\n",
      "BD952    0.037516\n",
      "BD953    0.214272\n",
      "BD955    0.085482\n",
      "merged\n",
      "       AdmissionBetaBlockers  pred_proba\n",
      "BD                                      \n",
      "BD950                    1.0    0.650613\n",
      "BD951                    0.0    0.025141\n",
      "BD952                    0.0    0.037516\n",
      "BD953                    0.0    0.214272\n",
      "BD955                    1.0    0.085482\n",
      "Acute Ticagrelor\n",
      "phen_pred_proba.columns:\n",
      "Index([u'Acute Clopidogrel', u'Acute PPI', u'Acute Aspirin', u'Acute Prasugrel', u'Acute ACEI', u'Acute Statins', u'pred_proba'], dtype='object')\n",
      "       pred_proba\n",
      "BD               \n",
      "BD950    0.627844\n",
      "BD951    0.994809\n",
      "BD952    0.210584\n",
      "BD953    0.700443\n",
      "BD955    0.795507\n",
      "merged\n",
      "       AcuteTicagrelor  pred_proba\n",
      "BD                                \n",
      "BD950              1.0    0.627844\n",
      "BD951              0.0    0.994809\n",
      "BD952              1.0    0.210584\n",
      "BD953              1.0    0.700443\n",
      "BD955              1.0    0.795507\n",
      "Acute Aspirin\n",
      "['CASSFGSTYEQYF', 'CASSLTRSSYNEQFF', 'CASSLRGYYEQYF', 'CASSLVGNEQYF', 'CASSPQSSGANVLTF', 'CASSLVLGETQYF', 'CASSLLGGSYNEQFF', 'CASSLFRDTEAFF', 'CASSQGLGYGYTF', 'CASSTGGDTQYF']\n",
      "['Cassfgstyeqyf', 'Cassltrssyneqff', 'Casslrgyyeqyf', 'Casslvgneqyf', 'Casspqssganvltf', 'Casslvlgetqyf', 'Cassllggsyneqff', 'Casslfrdteaff', 'Cassqglgygytf', 'Casstggdtqyf']\n",
      "Acute Ticagrelor\n",
      "['CASSLRQETQYF', 'CASSLGVGNEQFF', 'CASSGHYEQYF', 'CASSKGGGSYNEQFF', 'CASSTYTGELFF', 'CASSLGYEQYV', 'CASSLGSHNEQFF', 'CASSSTSTDTQYF', 'CASSFAGELFF', 'CASSYRSNTEAFF']\n",
      "['Casslrqetqyf', 'Casslgvgneqff', 'Cassghyeqyf', 'Casskgggsyneqff', 'Casstytgelff', 'Casslgyeqyv', 'Casslgshneqff', 'Cassststdtqyf', 'Cassfagelff', 'Cassyrsnteaff']\n"
     ]
    },
    {
     "ename": "IOError",
     "evalue": "[Errno 2] No such file or directory: '/net/mraid08/export/genie/Lab/Personal/ShaniBAF/Presentations and Manuscripts/CardioTCR paper/FigureDraft_Jan19/Fig5_clinicalPhens/figure5_26032019.png'",
     "output_type": "error",
     "traceback": [
      "\u001b[0;31m---------------------------------------------------------------------------\u001b[0m",
      "\u001b[0;31mIOError\u001b[0m                                   Traceback (most recent call last)",
      "\u001b[0;32m<ipython-input-10-ccaf3442ef8d>\u001b[0m in \u001b[0;36m<module>\u001b[0;34m()\u001b[0m\n\u001b[1;32m     41\u001b[0m \u001b[0;34m\u001b[0m\u001b[0m\n\u001b[1;32m     42\u001b[0m \u001b[0;34m\u001b[0m\u001b[0m\n\u001b[0;32m---> 43\u001b[0;31m \u001b[0mfig\u001b[0m\u001b[0;34m.\u001b[0m\u001b[0msavefig\u001b[0m\u001b[0;34m(\u001b[0m\u001b[0mFIG5_DIR\u001b[0m \u001b[0;34m+\u001b[0m \u001b[0;34m'figure5_%s.png'\u001b[0m \u001b[0;34m%\u001b[0m \u001b[0mcdate\u001b[0m\u001b[0;34m,\u001b[0m \u001b[0mdpi\u001b[0m\u001b[0;34m=\u001b[0m\u001b[0;36m300\u001b[0m\u001b[0;34m)\u001b[0m\u001b[0;34m\u001b[0m\u001b[0m\n\u001b[0m\u001b[1;32m     44\u001b[0m \u001b[0;34m\u001b[0m\u001b[0m\n\u001b[1;32m     45\u001b[0m \u001b[0;32mprint\u001b[0m \u001b[0;34m'Finished figure 5!!'\u001b[0m\u001b[0;34m\u001b[0m\u001b[0m\n",
      "\u001b[0;32m/usr/wisdom/python/lib/python2.7/site-packages/matplotlib/figure.pyc\u001b[0m in \u001b[0;36msavefig\u001b[0;34m(self, *args, **kwargs)\u001b[0m\n\u001b[1;32m   1561\u001b[0m             \u001b[0mself\u001b[0m\u001b[0;34m.\u001b[0m\u001b[0mset_frameon\u001b[0m\u001b[0;34m(\u001b[0m\u001b[0mframeon\u001b[0m\u001b[0;34m)\u001b[0m\u001b[0;34m\u001b[0m\u001b[0m\n\u001b[1;32m   1562\u001b[0m \u001b[0;34m\u001b[0m\u001b[0m\n\u001b[0;32m-> 1563\u001b[0;31m         \u001b[0mself\u001b[0m\u001b[0;34m.\u001b[0m\u001b[0mcanvas\u001b[0m\u001b[0;34m.\u001b[0m\u001b[0mprint_figure\u001b[0m\u001b[0;34m(\u001b[0m\u001b[0;34m*\u001b[0m\u001b[0margs\u001b[0m\u001b[0;34m,\u001b[0m \u001b[0;34m**\u001b[0m\u001b[0mkwargs\u001b[0m\u001b[0;34m)\u001b[0m\u001b[0;34m\u001b[0m\u001b[0m\n\u001b[0m\u001b[1;32m   1564\u001b[0m \u001b[0;34m\u001b[0m\u001b[0m\n\u001b[1;32m   1565\u001b[0m         \u001b[0;32mif\u001b[0m \u001b[0mframeon\u001b[0m\u001b[0;34m:\u001b[0m\u001b[0;34m\u001b[0m\u001b[0m\n",
      "\u001b[0;32m/usr/wisdom/python/lib/python2.7/site-packages/matplotlib/backend_bases.pyc\u001b[0m in \u001b[0;36mprint_figure\u001b[0;34m(self, filename, dpi, facecolor, edgecolor, orientation, format, **kwargs)\u001b[0m\n\u001b[1;32m   2230\u001b[0m                 \u001b[0morientation\u001b[0m\u001b[0;34m=\u001b[0m\u001b[0morientation\u001b[0m\u001b[0;34m,\u001b[0m\u001b[0;34m\u001b[0m\u001b[0m\n\u001b[1;32m   2231\u001b[0m                 \u001b[0mbbox_inches_restore\u001b[0m\u001b[0;34m=\u001b[0m\u001b[0m_bbox_inches_restore\u001b[0m\u001b[0;34m,\u001b[0m\u001b[0;34m\u001b[0m\u001b[0m\n\u001b[0;32m-> 2232\u001b[0;31m                 **kwargs)\n\u001b[0m\u001b[1;32m   2233\u001b[0m         \u001b[0;32mfinally\u001b[0m\u001b[0;34m:\u001b[0m\u001b[0;34m\u001b[0m\u001b[0m\n\u001b[1;32m   2234\u001b[0m             \u001b[0;32mif\u001b[0m \u001b[0mbbox_inches\u001b[0m \u001b[0;32mand\u001b[0m \u001b[0mrestore_bbox\u001b[0m\u001b[0;34m:\u001b[0m\u001b[0;34m\u001b[0m\u001b[0m\n",
      "\u001b[0;32m/usr/wisdom/python/lib/python2.7/site-packages/matplotlib/backends/backend_agg.pyc\u001b[0m in \u001b[0;36mprint_png\u001b[0;34m(self, filename_or_obj, *args, **kwargs)\u001b[0m\n\u001b[1;32m    530\u001b[0m         \u001b[0mrenderer\u001b[0m\u001b[0;34m.\u001b[0m\u001b[0mdpi\u001b[0m \u001b[0;34m=\u001b[0m \u001b[0mself\u001b[0m\u001b[0;34m.\u001b[0m\u001b[0mfigure\u001b[0m\u001b[0;34m.\u001b[0m\u001b[0mdpi\u001b[0m\u001b[0;34m\u001b[0m\u001b[0m\n\u001b[1;32m    531\u001b[0m         \u001b[0;32mif\u001b[0m \u001b[0mis_string_like\u001b[0m\u001b[0;34m(\u001b[0m\u001b[0mfilename_or_obj\u001b[0m\u001b[0;34m)\u001b[0m\u001b[0;34m:\u001b[0m\u001b[0;34m\u001b[0m\u001b[0m\n\u001b[0;32m--> 532\u001b[0;31m             \u001b[0mfilename_or_obj\u001b[0m \u001b[0;34m=\u001b[0m \u001b[0mopen\u001b[0m\u001b[0;34m(\u001b[0m\u001b[0mfilename_or_obj\u001b[0m\u001b[0;34m,\u001b[0m \u001b[0;34m'wb'\u001b[0m\u001b[0;34m)\u001b[0m\u001b[0;34m\u001b[0m\u001b[0m\n\u001b[0m\u001b[1;32m    533\u001b[0m             \u001b[0mclose\u001b[0m \u001b[0;34m=\u001b[0m \u001b[0mTrue\u001b[0m\u001b[0;34m\u001b[0m\u001b[0m\n\u001b[1;32m    534\u001b[0m         \u001b[0;32melse\u001b[0m\u001b[0;34m:\u001b[0m\u001b[0;34m\u001b[0m\u001b[0m\n",
      "\u001b[0;31mIOError\u001b[0m: [Errno 2] No such file or directory: '/net/mraid08/export/genie/Lab/Personal/ShaniBAF/Presentations and Manuscripts/CardioTCR paper/FigureDraft_Jan19/Fig5_clinicalPhens/figure5_26032019.png'"
     ]
    }
   ],
   "source": [
    "fig = plt.figure(figsize=(30, 10))\n",
    "gs0 = gridspec.GridSpec(2, 4, wspace=0.2, hspace=0.3)\n",
    "\n",
    "#add sub-figure letters and remove spines:\n",
    "ax = plt.gca()\n",
    "plt.text(0,1.01,'A',ha='right',va='bottom',transform=ax.transAxes,fontsize='xx-large',fontweight='bold')\n",
    "plt.text(0,0.46,'B',ha='right',va='bottom',transform=ax.transAxes,fontsize='xx-large',fontweight='bold')\n",
    "remove_spines()\n",
    "\n",
    "### A:\n",
    "ax1 = plt.Subplot(fig, gs0[0, 0])\n",
    "fig.add_subplot(ax1)\n",
    "\n",
    "ax2 = plt.Subplot(fig, gs0[0, 1])\n",
    "fig.add_subplot(ax2)\n",
    "\n",
    "ax3 = plt.Subplot(fig, gs0[0, 2])\n",
    "fig.add_subplot(ax3)\n",
    "\n",
    "ax4 = plt.Subplot(fig, gs0[0, 3])\n",
    "fig.add_subplot(ax4)\n",
    "\n",
    "ax1,ax2,ax3,ax4=plot_5a(ax1,ax2,ax3,ax4)\n",
    "\n",
    "\n",
    "### B:\n",
    "ax5 = plt.Subplot(fig, gs0[1, 0])\n",
    "fig.add_subplot(ax5)\n",
    "\n",
    "ax6 = plt.Subplot(fig, gs0[1, 1])\n",
    "fig.add_subplot(ax6)\n",
    "\n",
    "ax7 = plt.Subplot(fig, gs0[1, 2])\n",
    "fig.add_subplot(ax7)\n",
    "\n",
    "ax8 = plt.Subplot(fig, gs0[1, 3])\n",
    "fig.add_subplot(ax8)\n",
    "\n",
    "\n",
    "fig,ax5,ax6,ax7,ax8=plot5b(fig,ax5,ax6,ax7,ax8)\n",
    "\n",
    "\n",
    "fig.savefig(FIG5_DIR + 'figure5_%s.png' % cdate, dpi=300)\n",
    "\n",
    "print 'Finished figure 5!!'\n",
    "\n",
    "\n",
    "plt.show()"
   ]
  },
  {
   "cell_type": "code",
   "execution_count": null,
   "metadata": {
    "ExecuteTime": {
     "end_time": "2019-03-26T09:35:42.727963Z",
     "start_time": "2019-03-26T09:35:27.016Z"
    }
   },
   "outputs": [],
   "source": [
    "mpl.rcParams['ytick.labelsize']"
   ]
  },
  {
   "cell_type": "code",
   "execution_count": null,
   "metadata": {},
   "outputs": [],
   "source": []
  },
  {
   "cell_type": "markdown",
   "metadata": {},
   "source": [
    "#  copy all necessary functions to .py files! generate .py file for figure 4 and execute!!!!!"
   ]
  },
  {
   "cell_type": "code",
   "execution_count": null,
   "metadata": {},
   "outputs": [],
   "source": []
  },
  {
   "cell_type": "code",
   "execution_count": null,
   "metadata": {},
   "outputs": [],
   "source": []
  }
 ],
 "metadata": {
  "kernelspec": {
   "display_name": "Python 2",
   "language": "python",
   "name": "python2"
  },
  "language_info": {
   "codemirror_mode": {
    "name": "ipython",
    "version": 2
   },
   "file_extension": ".py",
   "mimetype": "text/x-python",
   "name": "python",
   "nbconvert_exporter": "python",
   "pygments_lexer": "ipython2",
   "version": "2.7.8"
  },
  "toc": {
   "nav_menu": {},
   "number_sections": false,
   "sideBar": true,
   "skip_h1_title": false,
   "toc_cell": false,
   "toc_position": {
    "height": "573px",
    "left": "0px",
    "right": "20px",
    "top": "135px",
    "width": "267px"
   },
   "toc_section_display": "block",
   "toc_window_display": true
  },
  "varInspector": {
   "cols": {
    "lenName": 16,
    "lenType": 16,
    "lenVar": 40
   },
   "kernels_config": {
    "python": {
     "delete_cmd_postfix": "",
     "delete_cmd_prefix": "del ",
     "library": "var_list.py",
     "varRefreshCmd": "print(var_dic_list())"
    },
    "r": {
     "delete_cmd_postfix": ") ",
     "delete_cmd_prefix": "rm(",
     "library": "var_list.r",
     "varRefreshCmd": "cat(var_dic_list()) "
    }
   },
   "types_to_exclude": [
    "module",
    "function",
    "builtin_function_or_method",
    "instance",
    "_Feature"
   ],
   "window_display": false
  }
 },
 "nbformat": 4,
 "nbformat_minor": 2
}
