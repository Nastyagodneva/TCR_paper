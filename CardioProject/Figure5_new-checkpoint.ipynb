{
 "cells": [
  {
   "cell_type": "markdown",
   "metadata": {},
   "source": [
    "# imports"
   ]
  },
  {
   "cell_type": "code",
   "execution_count": 1,
   "metadata": {
    "ExecuteTime": {
     "end_time": "2019-03-30T17:38:55.496271Z",
     "start_time": "2019-03-30T17:38:52.665663Z"
    }
   },
   "outputs": [
    {
     "name": "stdout",
     "output_type": "stream",
     "text": [
      "stop\n",
      "done1\n",
      "stop\n",
      "done\n",
      "done\n",
      "stop\n",
      "end of function!!!\n"
     ]
    },
    {
     "name": "stderr",
     "output_type": "stream",
     "text": [
      "/usr/wisdom/python/lib/python2.7/site-packages/matplotlib/__init__.py:1357: UserWarning:  This call to matplotlib.use() has no effect\n",
      "because the backend has already been chosen;\n",
      "matplotlib.use() must be called *before* pylab, matplotlib.pyplot,\n",
      "or matplotlib.backends is imported for the first time.\n",
      "\n",
      "  warnings.warn(_use_error_msg)\n"
     ]
    }
   ],
   "source": [
    "# system & general:\n",
    "from os import listdir, mkdir, makedirs\n",
    "from os.path import isfile, join, isdir, exists\n",
    "import cPickle as pickle\n",
    "import os\n",
    "import re\n",
    "import time\n",
    "\n",
    "# data analysis and statistics:\n",
    "import pandas as pd\n",
    "import numpy as np\n",
    "from scipy import stats\n",
    "import random\n",
    "from scipy.stats import pearsonr, fisher_exact, mannwhitneyu, sem\n",
    "import math\n",
    "from scipy.spatial.distance import braycurtis, pdist, euclidean\n",
    "\n",
    "# figures:\n",
    "import matplotlib as mpl\n",
    "# mpl.use('Agg')\n",
    "\n",
    "import matplotlib.pyplot as plt\n",
    "from matplotlib.backends.backend_pdf import PdfPages\n",
    "import seaborn as sns \n",
    "from matplotlib.ticker import FormatStrFormatter\n",
    "from matplotlib import gridspec\n",
    "# from PNPChip.ForPaper.Figures.nature_guidline_utils import m2inch\n",
    "import matplotlib.cm as cm\n",
    "from mpl_toolkits.axes_grid1 import make_axes_locatable\n",
    "\n",
    "# my functions:\n",
    "from ShaniBA.myplots import roundup, rounddown, find_decimal_fold, percentile_cut_off, rarefaction_calc, rarefaction_plot, adjusted_roundup\n",
    "from ShaniBA.MyFunctionsShani import *\n",
    "from ShaniBA.GeneralFeaturePhenotypeInteractions.Feature_phenotype_functions import * \n",
    "from ShaniBA.TCR_microbiome_interactions.TCR_microbiome_interactions_functions import *\n",
    "from ShaniBA.TCR_microbiome_interactions.TCR_microbiome_interactions_functions2 import *\n",
    "from ShaniBA.SampleLists.SampleFileFunctions import *\n",
    "from ShaniBA.PhenotypicData.PhenotypeGenerationFunctions import *\n",
    "from ShaniBA.CardioProject.CardioFunctions import *\n",
    "from ShaniBA.PredictionPipeline.PredictionFunctions import *\n",
    "from ShaniBA.TCR_feature_generation.SubsamplingFunctions import *\n",
    "from ShaniBA.TCR_feature_generation.SequenceClusteringModule import *\n",
    "from ShaniBA.CardioProject.Figures.GeneralFigureFunctions import *\n",
    "from ShaniBA.CardioProject.Figures.Figure1 import *\n",
    "\n",
    "#ML:\n",
    "from sklearn.linear_model import LogisticRegression, LinearRegression\n"
   ]
  },
  {
   "cell_type": "markdown",
   "metadata": {},
   "source": [
    "# Definitions"
   ]
  },
  {
   "cell_type": "code",
   "execution_count": 2,
   "metadata": {
    "ExecuteTime": {
     "end_time": "2019-03-30T17:38:55.531587Z",
     "start_time": "2019-03-30T17:38:55.499364Z"
    }
   },
   "outputs": [
    {
     "data": {
      "text/plain": [
       "'30032019'"
      ]
     },
     "execution_count": 2,
     "metadata": {},
     "output_type": "execute_result"
    }
   ],
   "source": [
    "#####path definitions:\n",
    "MyPath = '/net/mraid08/export/genie/Lab/Personal/ShaniBAF'\n",
    "\n",
    "with open('/net/mraid08/export/genie/Lab/Personal/ShaniBAF/Sample files/BD lists/PNP530', 'rb') as fp:\n",
    "    PNP530 = pickle.load(fp)\n",
    "with open('/net/mraid08/export/genie/Lab/Personal/ShaniBAF/Sample files/BD lists/Cardio126', 'rb') as fp:\n",
    "    Cardio126 = pickle.load(fp)\n",
    "PNP530Cardio126 = PNP530 + Cardio126\n",
    "\n",
    "FIG5_DIR = '/net/mraid08/export/genie/Lab/Personal/ShaniBAF/Presentations and Manuscripts/CardioTCR paper/FigureDraft_Jan19/\\\n",
    "Fig5_drugs/'\n",
    "PRED_RESULTS_DIR='/net/mraid08/export/jafar/Microbiome/Analyses/ShaniBAF/predictions2/'\n",
    "FEATURES_DIR='/net/mraid08/export/genie/Lab/Personal/ShaniBAF/TCR_real_data/Predictions/featureDFs/'\n",
    "SAMPLE_LIST_DIR='/net/mraid08/export/genie/Lab/Personal/ShaniBAF/Sample files/BD lists/'\n",
    "CARDIO_PHEN_DIR='/net/mraid08/export/genie/Lab/Personal/ShaniBAF/TCR_real_data/CardioSamples/phenotypicData/'\n",
    "CLUSTER_ANALYSIS_DIR='/net/mraid08/export/jafar/Microbiome/Analyses/ShaniBAF/sharingAnalysis/seqClusters_allProd_maxdist1/'\n",
    "\n",
    "##### general definitions:\n",
    "pd.set_option('display.expand_frame_repr', False)\n",
    "pd.set_option('display.width', 1000)\n",
    "np.set_printoptions(precision=4, linewidth=200)\n",
    "\n",
    "cdate = str(time.strftime(\"%d%m%Y\"))\n",
    "cdate"
   ]
  },
  {
   "cell_type": "code",
   "execution_count": 3,
   "metadata": {
    "ExecuteTime": {
     "end_time": "2019-03-30T17:38:55.539793Z",
     "start_time": "2019-03-30T17:38:55.534590Z"
    }
   },
   "outputs": [
    {
     "data": {
      "text/plain": [
       "'/net/mraid08/export/jafar/Microbiome/Analyses/ShaniBAF/predictions2/'"
      ]
     },
     "execution_count": 3,
     "metadata": {},
     "output_type": "execute_result"
    }
   ],
   "source": [
    "PRED_RESULTS_DIR"
   ]
  },
  {
   "cell_type": "markdown",
   "metadata": {},
   "source": [
    "# general functions:"
   ]
  },
  {
   "cell_type": "markdown",
   "metadata": {
    "ExecuteTime": {
     "end_time": "2019-03-25T22:24:57.996189Z",
     "start_time": "2019-03-25T22:24:57.991439Z"
    }
   },
   "source": [
    "the function remove_spines was copied to GenderalFigureFunctions.py"
   ]
  },
  {
   "cell_type": "markdown",
   "metadata": {},
   "source": [
    "# general settings"
   ]
  },
  {
   "cell_type": "markdown",
   "metadata": {},
   "source": [
    "## figure definitions"
   ]
  },
  {
   "cell_type": "code",
   "execution_count": 4,
   "metadata": {
    "ExecuteTime": {
     "end_time": "2019-03-30T17:38:55.555658Z",
     "start_time": "2019-03-30T17:38:55.542515Z"
    }
   },
   "outputs": [],
   "source": [
    "def set_fig5_definitions():\n",
    "    params = {\n",
    "   'axes.labelsize': 16,\n",
    "   'font.size': 12,\n",
    "   'legend.fontsize': 14,\n",
    "    'axes.titlesize':16,\n",
    "    'axes.titleweight':'bold',\n",
    "   'xtick.labelsize': 14,\n",
    "   'ytick.labelsize': 14,\n",
    "   'text.usetex': False,\n",
    "#    'figure.figsize': [m2inch(183), m2inch(247)],#[4.5, 4.5]\n",
    "#    'figure.dpi': 300,\n",
    "   'xtick.direction':'out'}\n",
    "\n",
    "\n",
    "    mpl.rcParams.update(params)\n",
    "    mpl.rcParams['axes.linewidth'] = 0.5\n",
    "    mpl.rcParams['axes.edgecolor'] = 'black'\n",
    "    mpl.rcParams['axes.facecolor'] = 'white'\n",
    "    mpl.rcParams['xtick.direction'] = 'out'\n",
    "    mpl.rcParams['xtick.minor.pad'] = 4\n",
    "\n",
    "    return"
   ]
  },
  {
   "cell_type": "code",
   "execution_count": 5,
   "metadata": {
    "ExecuteTime": {
     "end_time": "2019-03-30T17:38:55.582126Z",
     "start_time": "2019-03-30T17:38:55.558618Z"
    }
   },
   "outputs": [
    {
     "data": {
      "text/html": [
       "[u'agg.path.chunksize', u'animation.avconv_args', u'animation.avconv_path', u'animation.bitrate', u'animation.codec', u'animation.convert_args', u'animation.convert_path', u'animation.ffmpeg_args', u'animation.ffmpeg_path', u'animation.frame_format', u'animation.html', u'animation.mencoder_args', u'animation.mencoder_path', u'animation.writer', u'axes.axisbelow', u'axes.edgecolor', u'axes.facecolor', u'axes.formatter.limits', u'axes.formatter.use_locale', u'axes.formatter.use_mathtext', u'axes.formatter.useoffset', u'axes.grid', u'axes.grid.axis', u'axes.grid.which', u'axes.hold', u'axes.labelcolor', u'axes.labelpad', u'axes.labelsize', u'axes.labelweight', u'axes.linewidth', u'axes.prop_cycle', u'axes.spines.bottom', u'axes.spines.left', u'axes.spines.right', u'axes.spines.top', u'axes.titlesize', u'axes.titleweight', u'axes.unicode_minus', u'axes.xmargin', u'axes.ymargin', u'axes3d.grid', u'backend', u'backend.qt4', u'backend.qt5', u'backend_fallback', u'boxplot.bootstrap', u'boxplot.boxprops.color', u'boxplot.boxprops.linestyle', u'boxplot.boxprops.linewidth', u'boxplot.capprops.color', u'boxplot.capprops.linestyle', u'boxplot.capprops.linewidth', u'boxplot.flierprops.color', u'boxplot.flierprops.linestyle', u'boxplot.flierprops.linewidth', u'boxplot.flierprops.marker', u'boxplot.flierprops.markeredgecolor', u'boxplot.flierprops.markerfacecolor', u'boxplot.flierprops.markersize', u'boxplot.meanline', u'boxplot.meanprops.color', u'boxplot.meanprops.linestyle', u'boxplot.meanprops.linewidth', u'boxplot.medianprops.color', u'boxplot.medianprops.linestyle', u'boxplot.medianprops.linewidth', u'boxplot.notch', u'boxplot.patchartist', u'boxplot.showbox', u'boxplot.showcaps', u'boxplot.showfliers', u'boxplot.showmeans', u'boxplot.vertical', u'boxplot.whiskerprops.color', u'boxplot.whiskerprops.linestyle', u'boxplot.whiskerprops.linewidth', u'boxplot.whiskers', u'contour.corner_mask', u'contour.negative_linestyle', u'datapath', u'docstring.hardcopy', u'errorbar.capsize', u'examples.directory', u'figure.autolayout', u'figure.dpi', u'figure.edgecolor', u'figure.facecolor', u'figure.figsize', u'figure.frameon', u'figure.max_open_warning', u'figure.subplot.bottom', u'figure.subplot.hspace', u'figure.subplot.left', u'figure.subplot.right', u'figure.subplot.top', u'figure.subplot.wspace', u'figure.titlesize', u'figure.titleweight', u'font.cursive', u'font.family', u'font.fantasy', u'font.monospace', u'font.sans-serif', u'font.serif', u'font.size', u'font.stretch', u'font.style', u'font.variant', u'font.weight', u'grid.alpha', u'grid.color', u'grid.linestyle', u'grid.linewidth', u'image.aspect', u'image.cmap', u'image.composite_image', u'image.interpolation', u'image.lut', u'image.origin', u'image.resample', u'interactive', u'keymap.all_axes', u'keymap.back', u'keymap.forward', u'keymap.fullscreen', u'keymap.grid', u'keymap.home', u'keymap.pan', u'keymap.quit', u'keymap.save', u'keymap.xscale', u'keymap.yscale', u'keymap.zoom', u'legend.borderaxespad', u'legend.borderpad', u'legend.columnspacing', u'legend.edgecolor', u'legend.facecolor', u'legend.fancybox', u'legend.fontsize', u'legend.framealpha', u'legend.frameon', u'legend.handleheight', u'legend.handlelength', u'legend.handletextpad', u'legend.isaxes', u'legend.labelspacing', u'legend.loc', u'legend.markerscale', u'legend.numpoints', u'legend.scatterpoints', u'legend.shadow', u'lines.antialiased', u'lines.color', u'lines.dash_capstyle', u'lines.dash_joinstyle', u'lines.linestyle', u'lines.linewidth', u'lines.marker', u'lines.markeredgewidth', u'lines.markersize', u'lines.solid_capstyle', u'lines.solid_joinstyle', u'markers.fillstyle', u'mathtext.bf', u'mathtext.cal', u'mathtext.default', u'mathtext.fallback_to_cm', u'mathtext.fontset', u'mathtext.it', u'mathtext.rm', u'mathtext.sf', u'mathtext.tt', u'nbagg.transparent', u'patch.antialiased', u'patch.edgecolor', u'patch.facecolor', u'patch.linewidth', u'path.effects', u'path.simplify', u'path.simplify_threshold', u'path.sketch', u'path.snap', u'pdf.compression', u'pdf.fonttype', u'pdf.inheritcolor', u'pdf.use14corefonts', u'pgf.debug', u'pgf.preamble', u'pgf.rcfonts', u'pgf.texsystem', u'plugins.directory', u'polaraxes.grid', u'ps.distiller.res', u'ps.fonttype', u'ps.papersize', u'ps.useafm', u'ps.usedistiller', u'savefig.bbox', u'savefig.directory', u'savefig.dpi', u'savefig.edgecolor', u'savefig.facecolor', u'savefig.format', u'savefig.frameon', u'savefig.jpeg_quality', u'savefig.orientation', u'savefig.pad_inches', u'savefig.transparent', u'svg.fonttype', u'svg.image_inline', u'svg.image_noscale', u'text.antialiased', u'text.color', u'text.dvipnghack', u'text.hinting', u'text.hinting_factor', u'text.latex.preamble', u'text.latex.preview', u'text.latex.unicode', u'text.usetex', u'timezone', u'tk.window_focus', u'toolbar', u'verbose.fileo', u'verbose.level', u'webagg.open_in_browser', u'webagg.port', u'webagg.port_retries', u'xtick.color', u'xtick.direction', u'xtick.labelsize', u'xtick.major.pad', u'xtick.major.size', u'xtick.major.width', u'xtick.minor.pad', u'xtick.minor.size', u'xtick.minor.visible', u'xtick.minor.width', u'ytick.color', u'ytick.direction', u'ytick.labelsize', u'ytick.major.pad', u'ytick.major.size', u'ytick.major.width', u'ytick.minor.pad', u'ytick.minor.size', u'ytick.minor.visible', u'ytick.minor.width']"
      ],
      "text/plain": [
       "[u'agg.path.chunksize',\n",
       " u'animation.avconv_args',\n",
       " u'animation.avconv_path',\n",
       " u'animation.bitrate',\n",
       " u'animation.codec',\n",
       " u'animation.convert_args',\n",
       " u'animation.convert_path',\n",
       " u'animation.ffmpeg_args',\n",
       " u'animation.ffmpeg_path',\n",
       " u'animation.frame_format',\n",
       " u'animation.html',\n",
       " u'animation.mencoder_args',\n",
       " u'animation.mencoder_path',\n",
       " u'animation.writer',\n",
       " u'axes.axisbelow',\n",
       " u'axes.edgecolor',\n",
       " u'axes.facecolor',\n",
       " u'axes.formatter.limits',\n",
       " u'axes.formatter.use_locale',\n",
       " u'axes.formatter.use_mathtext',\n",
       " u'axes.formatter.useoffset',\n",
       " u'axes.grid',\n",
       " u'axes.grid.axis',\n",
       " u'axes.grid.which',\n",
       " u'axes.hold',\n",
       " u'axes.labelcolor',\n",
       " u'axes.labelpad',\n",
       " u'axes.labelsize',\n",
       " u'axes.labelweight',\n",
       " u'axes.linewidth',\n",
       " u'axes.prop_cycle',\n",
       " u'axes.spines.bottom',\n",
       " u'axes.spines.left',\n",
       " u'axes.spines.right',\n",
       " u'axes.spines.top',\n",
       " u'axes.titlesize',\n",
       " u'axes.titleweight',\n",
       " u'axes.unicode_minus',\n",
       " u'axes.xmargin',\n",
       " u'axes.ymargin',\n",
       " u'axes3d.grid',\n",
       " u'backend',\n",
       " u'backend.qt4',\n",
       " u'backend.qt5',\n",
       " u'backend_fallback',\n",
       " u'boxplot.bootstrap',\n",
       " u'boxplot.boxprops.color',\n",
       " u'boxplot.boxprops.linestyle',\n",
       " u'boxplot.boxprops.linewidth',\n",
       " u'boxplot.capprops.color',\n",
       " u'boxplot.capprops.linestyle',\n",
       " u'boxplot.capprops.linewidth',\n",
       " u'boxplot.flierprops.color',\n",
       " u'boxplot.flierprops.linestyle',\n",
       " u'boxplot.flierprops.linewidth',\n",
       " u'boxplot.flierprops.marker',\n",
       " u'boxplot.flierprops.markeredgecolor',\n",
       " u'boxplot.flierprops.markerfacecolor',\n",
       " u'boxplot.flierprops.markersize',\n",
       " u'boxplot.meanline',\n",
       " u'boxplot.meanprops.color',\n",
       " u'boxplot.meanprops.linestyle',\n",
       " u'boxplot.meanprops.linewidth',\n",
       " u'boxplot.medianprops.color',\n",
       " u'boxplot.medianprops.linestyle',\n",
       " u'boxplot.medianprops.linewidth',\n",
       " u'boxplot.notch',\n",
       " u'boxplot.patchartist',\n",
       " u'boxplot.showbox',\n",
       " u'boxplot.showcaps',\n",
       " u'boxplot.showfliers',\n",
       " u'boxplot.showmeans',\n",
       " u'boxplot.vertical',\n",
       " u'boxplot.whiskerprops.color',\n",
       " u'boxplot.whiskerprops.linestyle',\n",
       " u'boxplot.whiskerprops.linewidth',\n",
       " u'boxplot.whiskers',\n",
       " u'contour.corner_mask',\n",
       " u'contour.negative_linestyle',\n",
       " u'datapath',\n",
       " u'docstring.hardcopy',\n",
       " u'errorbar.capsize',\n",
       " u'examples.directory',\n",
       " u'figure.autolayout',\n",
       " u'figure.dpi',\n",
       " u'figure.edgecolor',\n",
       " u'figure.facecolor',\n",
       " u'figure.figsize',\n",
       " u'figure.frameon',\n",
       " u'figure.max_open_warning',\n",
       " u'figure.subplot.bottom',\n",
       " u'figure.subplot.hspace',\n",
       " u'figure.subplot.left',\n",
       " u'figure.subplot.right',\n",
       " u'figure.subplot.top',\n",
       " u'figure.subplot.wspace',\n",
       " u'figure.titlesize',\n",
       " u'figure.titleweight',\n",
       " u'font.cursive',\n",
       " u'font.family',\n",
       " u'font.fantasy',\n",
       " u'font.monospace',\n",
       " u'font.sans-serif',\n",
       " u'font.serif',\n",
       " u'font.size',\n",
       " u'font.stretch',\n",
       " u'font.style',\n",
       " u'font.variant',\n",
       " u'font.weight',\n",
       " u'grid.alpha',\n",
       " u'grid.color',\n",
       " u'grid.linestyle',\n",
       " u'grid.linewidth',\n",
       " u'image.aspect',\n",
       " u'image.cmap',\n",
       " u'image.composite_image',\n",
       " u'image.interpolation',\n",
       " u'image.lut',\n",
       " u'image.origin',\n",
       " u'image.resample',\n",
       " u'interactive',\n",
       " u'keymap.all_axes',\n",
       " u'keymap.back',\n",
       " u'keymap.forward',\n",
       " u'keymap.fullscreen',\n",
       " u'keymap.grid',\n",
       " u'keymap.home',\n",
       " u'keymap.pan',\n",
       " u'keymap.quit',\n",
       " u'keymap.save',\n",
       " u'keymap.xscale',\n",
       " u'keymap.yscale',\n",
       " u'keymap.zoom',\n",
       " u'legend.borderaxespad',\n",
       " u'legend.borderpad',\n",
       " u'legend.columnspacing',\n",
       " u'legend.edgecolor',\n",
       " u'legend.facecolor',\n",
       " u'legend.fancybox',\n",
       " u'legend.fontsize',\n",
       " u'legend.framealpha',\n",
       " u'legend.frameon',\n",
       " u'legend.handleheight',\n",
       " u'legend.handlelength',\n",
       " u'legend.handletextpad',\n",
       " u'legend.isaxes',\n",
       " u'legend.labelspacing',\n",
       " u'legend.loc',\n",
       " u'legend.markerscale',\n",
       " u'legend.numpoints',\n",
       " u'legend.scatterpoints',\n",
       " u'legend.shadow',\n",
       " u'lines.antialiased',\n",
       " u'lines.color',\n",
       " u'lines.dash_capstyle',\n",
       " u'lines.dash_joinstyle',\n",
       " u'lines.linestyle',\n",
       " u'lines.linewidth',\n",
       " u'lines.marker',\n",
       " u'lines.markeredgewidth',\n",
       " u'lines.markersize',\n",
       " u'lines.solid_capstyle',\n",
       " u'lines.solid_joinstyle',\n",
       " u'markers.fillstyle',\n",
       " u'mathtext.bf',\n",
       " u'mathtext.cal',\n",
       " u'mathtext.default',\n",
       " u'mathtext.fallback_to_cm',\n",
       " u'mathtext.fontset',\n",
       " u'mathtext.it',\n",
       " u'mathtext.rm',\n",
       " u'mathtext.sf',\n",
       " u'mathtext.tt',\n",
       " u'nbagg.transparent',\n",
       " u'patch.antialiased',\n",
       " u'patch.edgecolor',\n",
       " u'patch.facecolor',\n",
       " u'patch.linewidth',\n",
       " u'path.effects',\n",
       " u'path.simplify',\n",
       " u'path.simplify_threshold',\n",
       " u'path.sketch',\n",
       " u'path.snap',\n",
       " u'pdf.compression',\n",
       " u'pdf.fonttype',\n",
       " u'pdf.inheritcolor',\n",
       " u'pdf.use14corefonts',\n",
       " u'pgf.debug',\n",
       " u'pgf.preamble',\n",
       " u'pgf.rcfonts',\n",
       " u'pgf.texsystem',\n",
       " u'plugins.directory',\n",
       " u'polaraxes.grid',\n",
       " u'ps.distiller.res',\n",
       " u'ps.fonttype',\n",
       " u'ps.papersize',\n",
       " u'ps.useafm',\n",
       " u'ps.usedistiller',\n",
       " u'savefig.bbox',\n",
       " u'savefig.directory',\n",
       " u'savefig.dpi',\n",
       " u'savefig.edgecolor',\n",
       " u'savefig.facecolor',\n",
       " u'savefig.format',\n",
       " u'savefig.frameon',\n",
       " u'savefig.jpeg_quality',\n",
       " u'savefig.orientation',\n",
       " u'savefig.pad_inches',\n",
       " u'savefig.transparent',\n",
       " u'svg.fonttype',\n",
       " u'svg.image_inline',\n",
       " u'svg.image_noscale',\n",
       " u'text.antialiased',\n",
       " u'text.color',\n",
       " u'text.dvipnghack',\n",
       " u'text.hinting',\n",
       " u'text.hinting_factor',\n",
       " u'text.latex.preamble',\n",
       " u'text.latex.preview',\n",
       " u'text.latex.unicode',\n",
       " u'text.usetex',\n",
       " u'timezone',\n",
       " u'tk.window_focus',\n",
       " u'toolbar',\n",
       " u'verbose.fileo',\n",
       " u'verbose.level',\n",
       " u'webagg.open_in_browser',\n",
       " u'webagg.port',\n",
       " u'webagg.port_retries',\n",
       " u'xtick.color',\n",
       " u'xtick.direction',\n",
       " u'xtick.labelsize',\n",
       " u'xtick.major.pad',\n",
       " u'xtick.major.size',\n",
       " u'xtick.major.width',\n",
       " u'xtick.minor.pad',\n",
       " u'xtick.minor.size',\n",
       " u'xtick.minor.visible',\n",
       " u'xtick.minor.width',\n",
       " u'ytick.color',\n",
       " u'ytick.direction',\n",
       " u'ytick.labelsize',\n",
       " u'ytick.major.pad',\n",
       " u'ytick.major.size',\n",
       " u'ytick.major.width',\n",
       " u'ytick.minor.pad',\n",
       " u'ytick.minor.size',\n",
       " u'ytick.minor.visible',\n",
       " u'ytick.minor.width']"
      ]
     },
     "execution_count": 5,
     "metadata": {},
     "output_type": "execute_result"
    }
   ],
   "source": [
    "mpl.rcParams.keys()"
   ]
  },
  {
   "cell_type": "code",
   "execution_count": 6,
   "metadata": {
    "ExecuteTime": {
     "end_time": "2019-03-30T17:38:55.589820Z",
     "start_time": "2019-03-30T17:38:55.584814Z"
    }
   },
   "outputs": [],
   "source": [
    "set_fig5_definitions()"
   ]
  },
  {
   "cell_type": "markdown",
   "metadata": {},
   "source": [
    "## figure design"
   ]
  },
  {
   "cell_type": "code",
   "execution_count": 7,
   "metadata": {
    "ExecuteTime": {
     "end_time": "2019-03-30T17:38:58.342651Z",
     "start_time": "2019-03-30T17:38:55.592763Z"
    }
   },
   "outputs": [
    {
     "data": {
      "image/png": "[encoded data removed]",
      "text/plain": [
       "<matplotlib.figure.Figure at 0x7f6e0ca98ad0>"
      ]
     },
     "metadata": {},
     "output_type": "display_data"
    }
   ],
   "source": [
    "def divide_to_subplots_fig5b(gs):\n",
    "    gs01 = gridspec.GridSpecFromSubplotSpec(14, 10, subplot_spec=gs,wspace=0, hspace=0)\n",
    "    ax1=plt.Subplot(fig,gs01[:2,:9]) ## prediction heatmap\n",
    "    fig.add_subplot(ax1)\n",
    "    ax2=plt.Subplot(fig,gs01[4:14,:9]) ## clusters heatmap\n",
    "    fig.add_subplot(ax2)\n",
    "    ax3=plt.Subplot(fig,gs01[:6,9]) ## ## prediction colorbar\n",
    "    fig.add_subplot(ax3)\n",
    "    ax4=plt.Subplot(fig,gs01[8:,9]) ## ## cluster colorbar\n",
    "    fig.add_subplot(ax4)\n",
    "    \n",
    "    return ax1,ax2,ax3,ax4\n",
    "    \n",
    "    \n",
    "\n",
    "\n",
    "\n",
    "fig = plt.figure(figsize=(30, 10))\n",
    "gs0 = gridspec.GridSpec(2, 4, wspace=0.25, hspace=0.25)\n",
    "\n",
    "### A:\n",
    "ax1 = plt.Subplot(fig, gs0[0, 0])\n",
    "fig.add_subplot(ax1)\n",
    "\n",
    "ax2 = plt.Subplot(fig, gs0[0, 1])\n",
    "fig.add_subplot(ax2)\n",
    "\n",
    "ax3 = plt.Subplot(fig, gs0[0, 2])\n",
    "fig.add_subplot(ax3)\n",
    "\n",
    "ax4 = plt.Subplot(fig, gs0[0, 3])\n",
    "fig.add_subplot(ax4)\n",
    "\n",
    "### B:\n",
    "# ax5 = plt.Subplot(fig, gs0[1, 0])\n",
    "# fig.add_subplot(ax5)\n",
    "ax51,ax52,ax53,ax54=divide_to_subplots_fig5b(gs0[1, 0])\n",
    "\n",
    "# ax6 = plt.Subplot(fig, gs0[1, 1])\n",
    "# fig.add_subplot(ax6)\n",
    "ax61,ax62,ax63,ax64=divide_to_subplots_fig5b(gs0[1, 1])\n",
    "\n",
    "# ax7 = plt.Subplot(fig, gs0[1, 2])\n",
    "# fig.add_subplot(ax7)\n",
    "ax71,ax72,ax73,ax74=divide_to_subplots_fig5b(gs0[1, 2])\n",
    "\n",
    "\n",
    "# ax8 = plt.Subplot(fig, gs0[1, 3])\n",
    "# fig.add_subplot(ax8)\n",
    "ax81,ax82,ax83,ax84=divide_to_subplots_fig5b(gs0[1, 3])\n",
    "\n",
    "\n",
    "plt.show()"
   ]
  },
  {
   "cell_type": "markdown",
   "metadata": {},
   "source": [
    "# plot functions"
   ]
  },
  {
   "cell_type": "markdown",
   "metadata": {},
   "source": [
    "1. copy ROC+PR plotting function from fig1 and modify\n",
    "2. copy shap plot from fig2 and modify"
   ]
  },
  {
   "cell_type": "markdown",
   "metadata": {},
   "source": [
    "## fig 5a: roc+PR curve for clinical phenotype prediction:"
   ]
  },
  {
   "cell_type": "markdown",
   "metadata": {},
   "source": [
    "first 3 columns: auc, last column-correlation"
   ]
  },
  {
   "cell_type": "code",
   "execution_count": 8,
   "metadata": {
    "ExecuteTime": {
     "end_time": "2019-03-30T17:38:58.410885Z",
     "start_time": "2019-03-30T17:38:58.345359Z"
    }
   },
   "outputs": [],
   "source": [
    "def plot_phen_prediction_ROC_PR(ax,phen,pred_dir,pVal):\n",
    "    \n",
    "    #get pred_proba data for phenotype\n",
    "    dir2 = PRED_RESULTS_DIR + 'Cardio126_diseasePhenotypes/' + pred_dir\n",
    "    phen_pred_proba = pd.read_pickle(dir2 + 'predictions_df.pkl').astype('float').rename(columns={phen:'pred_proba',\n",
    "                                                                                                 phen.replace(' ',''):'pred_proba',\n",
    "                                                                                        phen.replace('Acute','Acute '):'pred_proba'})\n",
    "    print 'phen_pred_proba.columns:'\n",
    "    print phen_pred_proba.columns\n",
    "    phen_pred_proba=pd.DataFrame(phen_pred_proba['pred_proba'])\n",
    "#     print phen_pred_proba.head()\n",
    "    \n",
    "    # get phenotype data\n",
    "    phen_file = CARDIO_PHEN_DIR+phen.replace(' ','')+'.xlsx'\n",
    "    phenDF = pd.read_excel(phen_file).set_index('BD').astype('float')\n",
    "\n",
    "    merged = pd.merge(phenDF, phen_pred_proba, how='inner', left_index=True, right_index=True)\n",
    "    print ('merged.shape before dropna ',merged.shape)\n",
    "    merged=merged.dropna(how='any')\n",
    "    print ('merged.shape after dropna ',merged.shape)\n",
    "    \n",
    "\n",
    "#     print 'merged'\n",
    "#     print merged.head()\n",
    "#     print merged[merged.isnull().any(axis=1)]\n",
    "\n",
    "    # #plot:\n",
    "    pos_label = 1\n",
    "    ax, inset_axes,roc_auc, pr_auc, prevalence = plot_ROC_PR_AUC(y=pd.DataFrame(merged[phen.replace(' ','')]), y_pred_df=pd.DataFrame(merged['pred_proba']),\n",
    "                                    ax=ax, color1='darkred', color2='grey', ticklabelsize=mpl.rcParams['xtick.labelsize'],\n",
    "                                      textsize=mpl.rcParams['font.size'], labelsize=mpl.rcParams['axes.labelsize'], add_texts=False)\n",
    "    ax.annotate('ROC AUC=%s\\nObserved p=%s\\nPR AUC=%s' % (round(roc_auc, 3), pVal, round(pr_auc, 2)), xy=(0.04, 0.98), xycoords='axes fraction',\n",
    "                 fontsize=mpl.rcParams['font.size'], xytext=(0, 0), textcoords='offset points', fontweight='bold', ha='left', va='top')\n",
    "    ax.set_xlabel('False Positive Rate')\n",
    "    ax.set_ylabel('True Positive Rate')\n",
    "    inset_axes.text(0.01,prevalence-0.01,'Prevalence=%s' %prevalence,transform=inset_axes.transAxes,ha='left',va='top',\n",
    "                    fontsize=mpl.rcParams['font.size']-2)\n",
    "    \n",
    "    return ax\n",
    "\n",
    "\n",
    "def plot5a(subplot_list,ax1,ax2,ax3,ax4):\n",
    "    \n",
    "    ### plot ROC+PR CURVES:\n",
    "    print 'plotting ROC-PR / correlation curves...'\n",
    "    for n,item in enumerate(subplot_list):\n",
    "        ax_5a=item[0];  phen=item[1]; phen_niceName=item[2]; pred_dir=item[3]; pVal=item[4]\n",
    "\n",
    "        print item[2]\n",
    "\n",
    "        ax=plot_phen_prediction_ROC_PR(ax=ax_5a,phen=phen,pred_dir=pred_dir,pVal=pVal)  \n",
    "        \n",
    "        if ax_5a==ax1: ax_5a.set_ylabel('True Positive Rate')\n",
    "        else: ax_5a.set_ylabel('')\n",
    "        ax_5a.set_title(phen_niceName,fontsize='xx-large', y=1.05)\n",
    "        \n",
    "        \n",
    "    return ax1,ax2,ax3,ax4"
   ]
  },
  {
   "cell_type": "markdown",
   "metadata": {},
   "source": [
    "## fig 5b: heat maps"
   ]
  },
  {
   "cell_type": "code",
   "execution_count": 9,
   "metadata": {
    "ExecuteTime": {
     "end_time": "2019-03-30T17:38:58.434968Z",
     "start_time": "2019-03-30T17:38:58.413346Z"
    }
   },
   "outputs": [],
   "source": [
    "def plot_fig5(fig,nTopFeatures,ax1,ax2,ax3,ax4,ax51,ax52,ax53,ax54,ax61,ax62,ax63,ax64,ax71,ax72,ax73,ax74,ax81,ax82,ax83,ax84):\n",
    "    subplot_list=[(ax1,'AdmissionAspirin','Aspirin (Chronic)',\n",
    "                   'AdmissionAspirinBetaBlockersDischargeMerformin_XGB100_randomSearch_25_byNewX_AUC/',0.0005,[ax51,ax52,ax53,ax54]),\n",
    "                 (ax2,'AcuteAspirin','# Aspirin (Acute)',\n",
    "                  'Acute_medication_phenotypes_XGB50_randomSearch_25_bynewXonlySeqsCardio126040085noNans_optByAUC/',0.002,[ax61,ax62,ax63,ax64]),\n",
    "                 (ax3,'AdmissionBetaBlockers','Beta blockers (Chronic)',\n",
    "                  'AdmissionAspirinBetaBlockersDischargeMerformin_XGB100_randomSearch_25_byNewX_AUC/',0.0025,[ax71,ax72,ax73,ax74]),\n",
    "                 (ax4,'AcuteTicagrelor','Ticagrelor (Acute)',\n",
    "                  'Acute_medication_phenotypes_XGB50_randomSearch_25_bynewXonlySeqsCardio126040085noNans_optByAUC/',0.004,[ax81,ax82,ax83,ax84])\n",
    "                 ]\n",
    "    \n",
    "    ax1,ax2,ax3,ax_5=plot5a(subplot_list,ax1,ax2,ax3,ax4)\n",
    "#     fig,ax5,ax6,ax7,ax8=plot5b(subplot_list,fig,ax5,ax6,ax7,ax8)\n",
    "    ax51,ax52,ax53,ax54,ax61,ax62,ax63,ax64,ax71,ax72,ax73,ax74,ax81,ax82,ax83,ax84=fig5B_topClusters_heatmap(nTopFeatures,subplot_list)\n",
    "    \n",
    "    return fig,ax1,ax2,ax3,ax4,ax51,ax52,ax53,ax54,ax61,ax62,ax63,ax64,ax71,ax72,ax73,ax74,ax81,ax82,ax83,ax84\n",
    "    \n",
    "    \n",
    "#    'AdmissionAspirinBetaBlockersDischargeMerformin_XGB100_randomSearch_25_byNewX_kappa/'  \n",
    "    "
   ]
  },
  {
   "cell_type": "code",
   "execution_count": 10,
   "metadata": {
    "ExecuteTime": {
     "end_time": "2019-03-30T17:38:58.505758Z",
     "start_time": "2019-03-30T17:38:58.437315Z"
    }
   },
   "outputs": [],
   "source": [
    "topN_features=['trial','trial','trial','trial','trial']\n",
    "pd.Series(topN_features).to_excel(FIG5_DIR+'trial.xlsx')"
   ]
  },
  {
   "cell_type": "code",
   "execution_count": 11,
   "metadata": {
    "ExecuteTime": {
     "end_time": "2019-03-30T17:38:58.628152Z",
     "start_time": "2019-03-30T17:38:58.508503Z"
    }
   },
   "outputs": [],
   "source": [
    "def fig5B_topClusters_heatmap(nTopFeatures,subplot_list):\n",
    "    \n",
    "    print 'getting cluster data...'\n",
    "    sampleByClusterDF=pd.read_pickle('/net/mraid08/export/jafar/Microbiome/Analyses/ShaniBAF/\\\n",
    "sharingAnalysis/seqClusters_allProd_maxdist1/sampleByClusterDF_cohortfiltering005-085perc_dropped.dat')\n",
    "    \n",
    "    \n",
    "    print 'start plotting for each phenotype seperately..'\n",
    "    \n",
    "    for n,item in enumerate(subplot_list):\n",
    "     \n",
    "        phen=item[1]\n",
    "        phen_niceName=item[2]\n",
    "        pred_dir=item[3]\n",
    "        ax_heatmap1=item[5][0]\n",
    "        ax_heatmap2=item[5][1]\n",
    "        ax_colorbar1=item[5][2]\n",
    "        ax_colorbar2=item[5][3]\n",
    "        \n",
    "        if n!=4: showPredCbar=False\n",
    "        else: showPredCbar=True\n",
    "        \n",
    "        print phen\n",
    "    \n",
    "        ###get top 10 clusters:\n",
    "\n",
    "        #get top 10 shap values:\n",
    "        dir2 = PRED_RESULTS_DIR + 'Cardio126_diseasePhenotypes/' + pred_dir\n",
    "        try:\n",
    "            shap_df = pd.read_pickle(dir2 + 'shap_values.pkl')[phen]\n",
    "        except:\n",
    "            try:\n",
    "                shap_df = pd.read_pickle(dir2 + 'shap_values.pkl')[phen.replace(' ','')]\n",
    "            except:\n",
    "                shap_df = pd.read_pickle(dir2 + 'shap_values.pkl')[phen.replace('Acute','Acute ')]\n",
    "\n",
    "        topN_features = shap_df.abs().sum().sort_values(ascending=False)[:nTopFeatures].index.tolist()  \n",
    "        print topN_features\n",
    "        pd.Series(topN_features).to_excel(FIG5_DIR+phen+'_top%s_shapvalues_clusters.xlsx' %nTopFeatures)\n",
    "    \n",
    "        cluster_list=topN_features\n",
    "    \n",
    "        #get data:\n",
    "        #get target data:\n",
    "        phen_file = CARDIO_PHEN_DIR+phen.replace(' ','')+'.xlsx'\n",
    "        phenDF = pd.read_excel(phen_file).set_index('BD').astype('float')\n",
    "        print ('phenDF.shape: ',phenDF.shape)\n",
    "        #get pred_proba data for phenotype\n",
    "        dir2 = PRED_RESULTS_DIR + 'Cardio126_diseasePhenotypes/' + pred_dir\n",
    "        phen_pred_proba = pd.DataFrame(pd.read_pickle(dir2 + 'predictions_df.pkl').astype('float').rename(columns={phen:'pred_proba',\n",
    "                                                                                                     phen.replace(' ',''):'pred_proba',\n",
    "                                                                                            phen.replace('Acute','Acute '):'pred_proba'})['pred_proba'])\n",
    "        print ('phen_pred_proba.shape: ',phen_pred_proba.shape) \n",
    "        #GET CLUSTER DATA:\n",
    "        sampleByClusterDF_small=sampleByClusterDF.loc[Cardio126,cluster_list].fillna(0)\n",
    "        print ('sampleByClusterDF_small.shape: ',sampleByClusterDF_small.shape)\n",
    "        sampleByClusterDF=sampleByClusterDF_small\n",
    "    \n",
    "#     #plot basic heatmap:\n",
    "        print 'plotting...'\n",
    "        targetDF=phenDF \n",
    "        Y_pred=phen_pred_proba\n",
    "        showPredCbar=showPredCbar\n",
    "        max_val=None\n",
    "        binary=True\n",
    "\n",
    "        ax_heatmap1,ax_heatmap2,ax_colorbar1,ax_colorbar2=plot_sequence_cluster_heatmap_fig5(targetDF,\n",
    "                                    Y_pred,sampleByClusterDF,ax_heatmap1,ax_heatmap2,\n",
    "                                    ax_colorbar1,ax_colorbar2,showPredCbar,max_val,binary)\n",
    "\n",
    "    #     ###add titles for sub-plots:\n",
    "\n",
    "    #     # add vertical lines for all 3 heatmaps and titles for heatmap 1\n",
    "    #     for ax in [ax_heatmap1,ax_heatmap2,ax_heatmap3]:\n",
    "    #         ax.axvline(x=len(Cardio126_balancedAge_males),color='red')\n",
    "\n",
    "    #         if ax==ax_heatmap1:\n",
    "    #             x_patients=len(Cardio126_balancedAge_males)/2\n",
    "    #             x_healthy=len(Cardio126_balancedAge_males)+len(PNP530_balancedAge_males)/2\n",
    "    #             ax.text(x_patients,5,'Patients',ha='center',va='top',fontsize='x-large')\n",
    "    #             ax.text(x_healthy,5,'Healthy',ha='center',va='top',fontsize='x-large')\n",
    "\n",
    "    #     # add titles for colorbars and for the different heatmaps:\n",
    "    #     heatmap_item_list=[(ax_heatmap1,ax_colorbar1,'Healthy (0) / Patient (1)'),\n",
    "    #                        (ax_heatmap2,ax_colorbar2,'# present sequences per cluster'),\n",
    "    #                        (ax_heatmap3,ax_colorbar3,'Total # of clusters per sample')]\n",
    "\n",
    "    #     for item in heatmap_item_list:\n",
    "    #         ax_heatmap=item[0]; ax_cb=item[1]; text=item[2]\n",
    "    #         ax_cb.text(0.5,0.65,text, transform=ax_cb.transAxes,ha='center',va='top')\n",
    "    #         ax_heatmap.text(0,1,text,transform=ax_heatmap.transAxes,ha='left',va='bottom')\n",
    "\n",
    "    #     ax_heatmap1.text(-0.075,0.75,'Real',transform=ax_heatmap1.transAxes,ha='left',va='center')\n",
    "    #     ax_heatmap1.text(-0.075,0.25,'Predicted',transform=ax_heatmap1.transAxes,ha='left',va='center')\n",
    "    #     ax_heatmap2.text(-0.03,0.5,'Top 100 differentiating sequence clusters',transform=ax_heatmap2.transAxes,\n",
    "    #                      ha='left',va='center',rotation=90,fontsize='large')\n",
    "\n",
    "\n",
    "    \n",
    "    return ax51,ax52,ax53,ax54,ax61,ax62,ax63,ax64,ax71,ax72,ax73,ax74,ax81,ax82,ax83,ax84\n",
    "    "
   ]
  },
  {
   "cell_type": "code",
   "execution_count": 12,
   "metadata": {
    "ExecuteTime": {
     "end_time": "2019-03-30T17:38:58.694346Z",
     "start_time": "2019-03-30T17:38:58.630900Z"
    }
   },
   "outputs": [],
   "source": [
    "def plot_sequence_cluster_heatmap_fig5(targetDF,Y_pred,sampleByClusterDF,\n",
    "                                ax_heatmap1,ax_heatmap2,\n",
    "                                ax_colorbar1,ax_colorbar2,\n",
    "                                  showPredCbar=True,max_val=6,binary=True):\n",
    "    \n",
    "    ### inputs are: targetDF = (Y_true), Y_pred, sampleByClusterDF, \n",
    "    ### make sure all of the above 3 dfs include the same clusters (cluster list) and do not include nans\n",
    "    ### Y_pred should be astype 'float'\n",
    "\n",
    "    ##max_val can be None and then will be set to the maximal value if the data\n",
    "    \n",
    "    print 'get data...'\n",
    "    Yname=targetDF.columns.tolist()[0]\n",
    "    \n",
    "    # get Y_pred data:\n",
    "    Y_pred=Y_pred.rename(columns={Y_pred.columns[0]:'pred_proba'}).astype('float')\n",
    "    Y_pred=pd.DataFrame(Y_pred)\n",
    "    \n",
    "           \n",
    "    print 'merging info...'\n",
    "    #merge all and sort by Y and Y_pred:\n",
    "    merged=pd.merge(targetDF,Y_pred,how='inner',left_index=True,right_index=True)\n",
    "    merged=pd.merge(merged,sampleByClusterDF,how='inner',left_index=True,right_index=True)\n",
    "   \n",
    "    print ('merged.shape: ',merged.shape)\n",
    "    print merged.head()   \n",
    "    merged=merged.sort_values(by=[Yname,'pred_proba'],ascending=False)\n",
    "\n",
    "     #generate seperate df for each part of the image:\n",
    "    df =  merged[[Yname,'pred_proba']]\n",
    "    print 'df:'\n",
    "    print df.head()\n",
    "    df2 = merged.iloc[:,2:]\n",
    "    print 'df2:'\n",
    "    print df2.head()\n",
    "\n",
    "\n",
    "    #generate figure:\n",
    "    print 'generating figure...'\n",
    "    print ('max val is: ',df2.max().max())\n",
    "    if max_val is None:\n",
    "        max_val=int(df2.max().max())\n",
    "    min_val=0\n",
    "    dif=max_val-min_val\n",
    "#     print dif\n",
    "    \n",
    "    print 'generating heat map1'\n",
    "    hp1=sns.heatmap(df.T, cmap=\"Greys\", ax=ax_heatmap1, cbar=False,linewidth=0.05)\n",
    "    if showPredCbar:\n",
    "        cbar_1=fig.colorbar(ax_heatmap1.collections[0],ax=ax_colorbar1,use_gridspec=False,location='bottom', pad=0.08,fraction=0.4,aspect=10)\n",
    "        if binary:\n",
    "            cbar_1.set_ticks([0,0.5,1])\n",
    "        else:\n",
    "            cbar_1.set_ticklabels(range(dif+1))\n",
    "    \n",
    "    print 'generating heat map2...'\n",
    "    cmap_2 = plt.get_cmap('Reds', dif+1)\n",
    "    hp2=sns.heatmap(df2.T, cmap=cmap_2, ax=ax_heatmap2, cbar=False,linewidth=0.05,vmin = min_val, vmax = max_val)\n",
    "    cbar_2=fig.colorbar(ax_heatmap2.collections[0], ax=ax_colorbar2, use_gridspec=False,location='bottom', pad=0.08, fraction=0.4, aspect=10)\n",
    "    cbar_2.set_ticks([float(dif)/12 + float(dif)*x/(dif+1) for x in range(dif+1)])\n",
    "    cbar_2.set_ticklabels(range(dif+1))\n",
    "    \n",
    "        \n",
    "    for ax in [ax_heatmap1,ax_heatmap2,ax_colorbar1,ax_colorbar2]:\n",
    "        ax= remove_spines(ax)  \n",
    "              \n",
    "    return  ax_heatmap1,ax_heatmap2,ax_colorbar1,ax_colorbar2\n"
   ]
  },
  {
   "cell_type": "code",
   "execution_count": null,
   "metadata": {},
   "outputs": [],
   "source": []
  },
  {
   "cell_type": "code",
   "execution_count": null,
   "metadata": {},
   "outputs": [],
   "source": []
  },
  {
   "cell_type": "code",
   "execution_count": null,
   "metadata": {},
   "outputs": [],
   "source": []
  },
  {
   "cell_type": "markdown",
   "metadata": {},
   "source": [
    "## run within figure:"
   ]
  },
  {
   "cell_type": "code",
   "execution_count": 13,
   "metadata": {
    "ExecuteTime": {
     "end_time": "2019-03-30T17:38:58.703095Z",
     "start_time": "2019-03-30T17:38:58.696700Z"
    }
   },
   "outputs": [],
   "source": [
    "plt.show()"
   ]
  },
  {
   "cell_type": "code",
   "execution_count": 14,
   "metadata": {
    "ExecuteTime": {
     "end_time": "2019-03-30T17:39:05.253865Z",
     "start_time": "2019-03-30T17:38:58.705427Z"
    }
   },
   "outputs": [
    {
     "name": "stdout",
     "output_type": "stream",
     "text": [
      "plotting ROC-PR / correlation curves...\n",
      "Aspirin (Chronic)\n",
      "phen_pred_proba.columns:\n",
      "Index([u'AdmissionBetaBlockers', u'DischargeMerformin', u'pred_proba'], dtype='object')\n",
      "('merged.shape before dropna ', (126, 2))\n",
      "('merged.shape after dropna ', (125, 2))\n",
      "# Aspirin (Acute)\n",
      "phen_pred_proba.columns:\n",
      "Index([u'Acute Clopidogrel', u'Acute PPI', u'pred_proba', u'Acute Prasugrel', u'Acute ACEI', u'Acute Statins', u'Acute Ticagrelor'], dtype='object')\n",
      "('merged.shape before dropna ', (126, 2))\n",
      "('merged.shape after dropna ', (125, 2))\n",
      "Beta blockers (Chronic)\n",
      "phen_pred_proba.columns:\n",
      "Index([u'pred_proba', u'DischargeMerformin', u'AdmissionAspirin'], dtype='object')\n",
      "('merged.shape before dropna ', (126, 2))\n",
      "('merged.shape after dropna ', (125, 2))\n",
      "Ticagrelor (Acute)\n",
      "phen_pred_proba.columns:\n",
      "Index([u'Acute Clopidogrel', u'Acute PPI', u'Acute Aspirin', u'Acute Prasugrel', u'Acute ACEI', u'Acute Statins', u'pred_proba'], dtype='object')\n",
      "('merged.shape before dropna ', (126, 2))\n",
      "('merged.shape after dropna ', (125, 2))\n",
      "getting cluster data...\n",
      "start plotting for each phenotype seperately..\n",
      "AdmissionAspirin\n",
      "['CASSLGGGNQETQYF', 'CASSSTVDTQYF', 'CASSPGLAGAQETQYF', 'CASSLSTSGYEQYF', 'CASSETGLYGYTF', 'CASSSERTDTQYF', 'CASSTGQGISYEQYF', 'CASSRDRRNTEAFF', 'CASSHGQAYGYTF', 'CASSQTGGQETQYF']\n",
      "('phenDF.shape: ', (126, 1))\n",
      "('phen_pred_proba.shape: ', (126, 1))\n",
      "('sampleByClusterDF_small.shape: ', (126, 10))\n",
      "plotting...\n",
      "get data...\n",
      "merging info...\n",
      "('merged.shape: ', (126, 12))\n",
      "       AdmissionAspirin  pred_proba  CASSLGGGNQETQYF  CASSSTVDTQYF  CASSPGLAGAQETQYF  CASSLSTSGYEQYF  CASSETGLYGYTF  CASSSERTDTQYF  CASSTGQGISYEQYF  CASSRDRRNTEAFF  CASSHGQAYGYTF  CASSQTGGQETQYF\n",
      "BD950               0.0    0.701651              1.0           0.0               0.0             0.0            1.0            1.0              0.0             0.0            0.0             2.0\n",
      "BD951               0.0    0.222958              0.0           0.0               1.0             0.0            0.0            0.0              0.0             0.0            0.0             1.0\n",
      "BD952               1.0    0.200335              0.0           0.0               2.0             0.0            0.0            0.0              0.0             0.0            0.0             0.0\n",
      "BD953               0.0    0.495530              0.0           0.0               1.0             0.0            0.0            0.0              0.0             0.0            0.0             0.0\n",
      "BD955               0.0    0.445686              0.0           0.0               0.0             0.0            0.0            0.0              0.0             0.0            0.0             0.0\n",
      "df:\n",
      "        AdmissionAspirin  pred_proba\n",
      "BD980                1.0    0.888990\n",
      "BD1079               1.0    0.884774\n",
      "BD1032               1.0    0.820793\n",
      "BD1012               1.0    0.806451\n",
      "BD987                1.0    0.793385\n",
      "df2:\n",
      "        CASSLGGGNQETQYF  CASSSTVDTQYF  CASSPGLAGAQETQYF  CASSLSTSGYEQYF  CASSETGLYGYTF  CASSSERTDTQYF  CASSTGQGISYEQYF  CASSRDRRNTEAFF  CASSHGQAYGYTF  CASSQTGGQETQYF\n",
      "BD980               0.0           0.0               0.0             0.0            0.0            0.0              0.0             0.0            0.0             0.0\n",
      "BD1079              1.0           0.0               0.0             0.0            0.0            1.0              0.0             0.0            0.0             0.0\n",
      "BD1032              0.0           0.0               0.0             0.0            0.0            0.0              0.0             0.0            0.0             0.0\n",
      "BD1012              0.0           0.0               0.0             0.0            0.0            0.0              0.0             0.0            0.0             1.0\n",
      "BD987               0.0           0.0               0.0             0.0            0.0            0.0              0.0             0.0            0.0             0.0\n",
      "generating figure...\n",
      "('max val is: ', 3.0)\n",
      "generating heat map1\n",
      "generating heat map2...\n",
      "AcuteAspirin\n",
      "['CASSFGSTYEQYF', 'CASSLTRSSYNEQFF', 'CASSLRGYYEQYF', 'CASSLVGNEQYF', 'CASSPQSSGANVLTF', 'CASSLVLGETQYF', 'CASSLLGGSYNEQFF', 'CASSLFRDTEAFF', 'CASSQGLGYGYTF', 'CASSTGGDTQYF']\n",
      "('phenDF.shape: ', (126, 1))\n",
      "('phen_pred_proba.shape: ', (126, 1))\n"
     ]
    },
    {
     "ename": "KeyError",
     "evalue": "KeyError(u\"None of [Index([u'CASSFGSTYEQYF', u'CASSLTRSSYNEQFF', u'CASSLRGYYEQYF', u'CASSLVGNEQYF', u'CASSPQSSGANVLTF', u'CASSLVLGETQYF', u'CASSLLGGSYNEQFF', u'CASSLFRDTEAFF', u'CASSQGLGYGYTF', u'CASSTGGDTQYF'], dtype='object')] are in the [columns]\",)",
     "output_type": "error",
     "traceback": [
      "\u001b[0;31m---------------------------------------------------------------------------\u001b[0m",
      "\u001b[0;31mKeyError\u001b[0m                                  Traceback (most recent call last)",
      "\u001b[0;32m<ipython-input-14-e21840649be3>\u001b[0m in \u001b[0;36m<module>\u001b[0;34m()\u001b[0m\n\u001b[1;32m     41\u001b[0m \u001b[0;34m\u001b[0m\u001b[0m\n\u001b[1;32m     42\u001b[0m \u001b[0mnTopFeatures\u001b[0m\u001b[0;34m=\u001b[0m\u001b[0;36m10\u001b[0m\u001b[0;34m\u001b[0m\u001b[0m\n\u001b[0;32m---> 43\u001b[0;31m \u001b[0mfig\u001b[0m\u001b[0;34m,\u001b[0m\u001b[0max1\u001b[0m\u001b[0;34m,\u001b[0m\u001b[0max2\u001b[0m\u001b[0;34m,\u001b[0m\u001b[0max3\u001b[0m\u001b[0;34m,\u001b[0m\u001b[0max4\u001b[0m\u001b[0;34m,\u001b[0m\u001b[0max51\u001b[0m\u001b[0;34m,\u001b[0m\u001b[0max52\u001b[0m\u001b[0;34m,\u001b[0m\u001b[0max53\u001b[0m\u001b[0;34m,\u001b[0m\u001b[0max54\u001b[0m\u001b[0;34m,\u001b[0m\u001b[0max61\u001b[0m\u001b[0;34m,\u001b[0m\u001b[0max62\u001b[0m\u001b[0;34m,\u001b[0m\u001b[0max63\u001b[0m\u001b[0;34m,\u001b[0m\u001b[0max64\u001b[0m\u001b[0;34m,\u001b[0m\u001b[0max71\u001b[0m\u001b[0;34m,\u001b[0m\u001b[0max72\u001b[0m\u001b[0;34m,\u001b[0m\u001b[0max73\u001b[0m\u001b[0;34m,\u001b[0m\u001b[0max74\u001b[0m\u001b[0;34m,\u001b[0m\u001b[0max81\u001b[0m\u001b[0;34m,\u001b[0m\u001b[0max82\u001b[0m\u001b[0;34m,\u001b[0m\u001b[0max83\u001b[0m\u001b[0;34m,\u001b[0m\u001b[0max84\u001b[0m\u001b[0;34m=\u001b[0m\u001b[0mplot_fig5\u001b[0m\u001b[0;34m(\u001b[0m\u001b[0mfig\u001b[0m\u001b[0;34m,\u001b[0m\u001b[0mnTopFeatures\u001b[0m\u001b[0;34m,\u001b[0m\u001b[0max1\u001b[0m\u001b[0;34m,\u001b[0m\u001b[0max2\u001b[0m\u001b[0;34m,\u001b[0m\u001b[0max3\u001b[0m\u001b[0;34m,\u001b[0m\u001b[0max4\u001b[0m\u001b[0;34m,\u001b[0m\u001b[0max51\u001b[0m\u001b[0;34m,\u001b[0m\u001b[0max52\u001b[0m\u001b[0;34m,\u001b[0m\u001b[0max53\u001b[0m\u001b[0;34m,\u001b[0m\u001b[0max54\u001b[0m\u001b[0;34m,\u001b[0m\u001b[0max61\u001b[0m\u001b[0;34m,\u001b[0m\u001b[0max62\u001b[0m\u001b[0;34m,\u001b[0m\u001b[0max63\u001b[0m\u001b[0;34m,\u001b[0m\u001b[0max64\u001b[0m\u001b[0;34m,\u001b[0m\u001b[0max71\u001b[0m\u001b[0;34m,\u001b[0m\u001b[0max72\u001b[0m\u001b[0;34m,\u001b[0m\u001b[0max73\u001b[0m\u001b[0;34m,\u001b[0m\u001b[0max74\u001b[0m\u001b[0;34m,\u001b[0m\u001b[0max81\u001b[0m\u001b[0;34m,\u001b[0m\u001b[0max82\u001b[0m\u001b[0;34m,\u001b[0m\u001b[0max83\u001b[0m\u001b[0;34m,\u001b[0m\u001b[0max84\u001b[0m\u001b[0;34m)\u001b[0m\u001b[0;34m\u001b[0m\u001b[0m\n\u001b[0m\u001b[1;32m     44\u001b[0m \u001b[0;32mfor\u001b[0m \u001b[0max\u001b[0m \u001b[0;32min\u001b[0m \u001b[0;34m[\u001b[0m\u001b[0max1\u001b[0m\u001b[0;34m,\u001b[0m\u001b[0max2\u001b[0m\u001b[0;34m,\u001b[0m\u001b[0max3\u001b[0m\u001b[0;34m,\u001b[0m\u001b[0max4\u001b[0m\u001b[0;34m]\u001b[0m\u001b[0;34m:\u001b[0m\u001b[0;34m\u001b[0m\u001b[0m\n\u001b[1;32m     45\u001b[0m     \u001b[0mremove_spines\u001b[0m\u001b[0;34m(\u001b[0m\u001b[0max\u001b[0m\u001b[0;34m,\u001b[0m\u001b[0mremoveTicklabels\u001b[0m\u001b[0;34m=\u001b[0m\u001b[0mTrue\u001b[0m\u001b[0;34m)\u001b[0m\u001b[0;34m\u001b[0m\u001b[0m\n",
      "\u001b[0;32m<ipython-input-9-572cb752168a>\u001b[0m in \u001b[0;36mplot_fig5\u001b[0;34m(fig, nTopFeatures, ax1, ax2, ax3, ax4, ax51, ax52, ax53, ax54, ax61, ax62, ax63, ax64, ax71, ax72, ax73, ax74, ax81, ax82, ax83, ax84)\u001b[0m\n\u001b[1;32m     12\u001b[0m     \u001b[0max1\u001b[0m\u001b[0;34m,\u001b[0m\u001b[0max2\u001b[0m\u001b[0;34m,\u001b[0m\u001b[0max3\u001b[0m\u001b[0;34m,\u001b[0m\u001b[0max_5\u001b[0m\u001b[0;34m=\u001b[0m\u001b[0mplot5a\u001b[0m\u001b[0;34m(\u001b[0m\u001b[0msubplot_list\u001b[0m\u001b[0;34m,\u001b[0m\u001b[0max1\u001b[0m\u001b[0;34m,\u001b[0m\u001b[0max2\u001b[0m\u001b[0;34m,\u001b[0m\u001b[0max3\u001b[0m\u001b[0;34m,\u001b[0m\u001b[0max4\u001b[0m\u001b[0;34m)\u001b[0m\u001b[0;34m\u001b[0m\u001b[0m\n\u001b[1;32m     13\u001b[0m \u001b[0;31m#     fig,ax5,ax6,ax7,ax8=plot5b(subplot_list,fig,ax5,ax6,ax7,ax8)\u001b[0m\u001b[0;34m\u001b[0m\u001b[0;34m\u001b[0m\u001b[0m\n\u001b[0;32m---> 14\u001b[0;31m     \u001b[0max51\u001b[0m\u001b[0;34m,\u001b[0m\u001b[0max52\u001b[0m\u001b[0;34m,\u001b[0m\u001b[0max53\u001b[0m\u001b[0;34m,\u001b[0m\u001b[0max54\u001b[0m\u001b[0;34m,\u001b[0m\u001b[0max61\u001b[0m\u001b[0;34m,\u001b[0m\u001b[0max62\u001b[0m\u001b[0;34m,\u001b[0m\u001b[0max63\u001b[0m\u001b[0;34m,\u001b[0m\u001b[0max64\u001b[0m\u001b[0;34m,\u001b[0m\u001b[0max71\u001b[0m\u001b[0;34m,\u001b[0m\u001b[0max72\u001b[0m\u001b[0;34m,\u001b[0m\u001b[0max73\u001b[0m\u001b[0;34m,\u001b[0m\u001b[0max74\u001b[0m\u001b[0;34m,\u001b[0m\u001b[0max81\u001b[0m\u001b[0;34m,\u001b[0m\u001b[0max82\u001b[0m\u001b[0;34m,\u001b[0m\u001b[0max83\u001b[0m\u001b[0;34m,\u001b[0m\u001b[0max84\u001b[0m\u001b[0;34m=\u001b[0m\u001b[0mfig5B_topClusters_heatmap\u001b[0m\u001b[0;34m(\u001b[0m\u001b[0mnTopFeatures\u001b[0m\u001b[0;34m,\u001b[0m\u001b[0msubplot_list\u001b[0m\u001b[0;34m)\u001b[0m\u001b[0;34m\u001b[0m\u001b[0m\n\u001b[0m\u001b[1;32m     15\u001b[0m \u001b[0;34m\u001b[0m\u001b[0m\n\u001b[1;32m     16\u001b[0m     \u001b[0;32mreturn\u001b[0m \u001b[0mfig\u001b[0m\u001b[0;34m,\u001b[0m\u001b[0max1\u001b[0m\u001b[0;34m,\u001b[0m\u001b[0max2\u001b[0m\u001b[0;34m,\u001b[0m\u001b[0max3\u001b[0m\u001b[0;34m,\u001b[0m\u001b[0max4\u001b[0m\u001b[0;34m,\u001b[0m\u001b[0max51\u001b[0m\u001b[0;34m,\u001b[0m\u001b[0max52\u001b[0m\u001b[0;34m,\u001b[0m\u001b[0max53\u001b[0m\u001b[0;34m,\u001b[0m\u001b[0max54\u001b[0m\u001b[0;34m,\u001b[0m\u001b[0max61\u001b[0m\u001b[0;34m,\u001b[0m\u001b[0max62\u001b[0m\u001b[0;34m,\u001b[0m\u001b[0max63\u001b[0m\u001b[0;34m,\u001b[0m\u001b[0max64\u001b[0m\u001b[0;34m,\u001b[0m\u001b[0max71\u001b[0m\u001b[0;34m,\u001b[0m\u001b[0max72\u001b[0m\u001b[0;34m,\u001b[0m\u001b[0max73\u001b[0m\u001b[0;34m,\u001b[0m\u001b[0max74\u001b[0m\u001b[0;34m,\u001b[0m\u001b[0max81\u001b[0m\u001b[0;34m,\u001b[0m\u001b[0max82\u001b[0m\u001b[0;34m,\u001b[0m\u001b[0max83\u001b[0m\u001b[0;34m,\u001b[0m\u001b[0max84\u001b[0m\u001b[0;34m\u001b[0m\u001b[0m\n",
      "\u001b[0;32m<ipython-input-11-e7cafaf4ec28>\u001b[0m in \u001b[0;36mfig5B_topClusters_heatmap\u001b[0;34m(nTopFeatures, subplot_list)\u001b[0m\n\u001b[1;32m     52\u001b[0m         \u001b[0;32mprint\u001b[0m \u001b[0;34m(\u001b[0m\u001b[0;34m'phen_pred_proba.shape: '\u001b[0m\u001b[0;34m,\u001b[0m\u001b[0mphen_pred_proba\u001b[0m\u001b[0;34m.\u001b[0m\u001b[0mshape\u001b[0m\u001b[0;34m)\u001b[0m\u001b[0;34m\u001b[0m\u001b[0m\n\u001b[1;32m     53\u001b[0m         \u001b[0;31m#GET CLUSTER DATA:\u001b[0m\u001b[0;34m\u001b[0m\u001b[0;34m\u001b[0m\u001b[0m\n\u001b[0;32m---> 54\u001b[0;31m         \u001b[0msampleByClusterDF_small\u001b[0m\u001b[0;34m=\u001b[0m\u001b[0msampleByClusterDF\u001b[0m\u001b[0;34m.\u001b[0m\u001b[0mloc\u001b[0m\u001b[0;34m[\u001b[0m\u001b[0mCardio126\u001b[0m\u001b[0;34m,\u001b[0m\u001b[0mcluster_list\u001b[0m\u001b[0;34m]\u001b[0m\u001b[0;34m.\u001b[0m\u001b[0mfillna\u001b[0m\u001b[0;34m(\u001b[0m\u001b[0;36m0\u001b[0m\u001b[0;34m)\u001b[0m\u001b[0;34m\u001b[0m\u001b[0m\n\u001b[0m\u001b[1;32m     55\u001b[0m         \u001b[0;32mprint\u001b[0m \u001b[0;34m(\u001b[0m\u001b[0;34m'sampleByClusterDF_small.shape: '\u001b[0m\u001b[0;34m,\u001b[0m\u001b[0msampleByClusterDF_small\u001b[0m\u001b[0;34m.\u001b[0m\u001b[0mshape\u001b[0m\u001b[0;34m)\u001b[0m\u001b[0;34m\u001b[0m\u001b[0m\n\u001b[1;32m     56\u001b[0m         \u001b[0msampleByClusterDF\u001b[0m\u001b[0;34m=\u001b[0m\u001b[0msampleByClusterDF_small\u001b[0m\u001b[0;34m\u001b[0m\u001b[0m\n",
      "\u001b[0;32m/usr/wisdom/python/lib/python2.7/site-packages/pandas/core/indexing.pyc\u001b[0m in \u001b[0;36m__getitem__\u001b[0;34m(self, key)\u001b[0m\n\u001b[1;32m   1470\u001b[0m             \u001b[0;32mexcept\u001b[0m \u001b[0;34m(\u001b[0m\u001b[0mKeyError\u001b[0m\u001b[0;34m,\u001b[0m \u001b[0mIndexError\u001b[0m\u001b[0;34m)\u001b[0m\u001b[0;34m:\u001b[0m\u001b[0;34m\u001b[0m\u001b[0m\n\u001b[1;32m   1471\u001b[0m                 \u001b[0;32mpass\u001b[0m\u001b[0;34m\u001b[0m\u001b[0m\n\u001b[0;32m-> 1472\u001b[0;31m             \u001b[0;32mreturn\u001b[0m \u001b[0mself\u001b[0m\u001b[0;34m.\u001b[0m\u001b[0m_getitem_tuple\u001b[0m\u001b[0;34m(\u001b[0m\u001b[0mkey\u001b[0m\u001b[0;34m)\u001b[0m\u001b[0;34m\u001b[0m\u001b[0m\n\u001b[0m\u001b[1;32m   1473\u001b[0m         \u001b[0;32melse\u001b[0m\u001b[0;34m:\u001b[0m\u001b[0;34m\u001b[0m\u001b[0m\n\u001b[1;32m   1474\u001b[0m             \u001b[0;31m# we by definition only have the 0th axis\u001b[0m\u001b[0;34m\u001b[0m\u001b[0;34m\u001b[0m\u001b[0m\n",
      "\u001b[0;32m/usr/wisdom/python/lib/python2.7/site-packages/pandas/core/indexing.pyc\u001b[0m in \u001b[0;36m_getitem_tuple\u001b[0;34m(self, tup)\u001b[0m\n\u001b[1;32m    877\u001b[0m         \u001b[0;31m# ugly hack for GH #836\u001b[0m\u001b[0;34m\u001b[0m\u001b[0;34m\u001b[0m\u001b[0m\n\u001b[1;32m    878\u001b[0m         \u001b[0;32mif\u001b[0m \u001b[0mself\u001b[0m\u001b[0;34m.\u001b[0m\u001b[0m_multi_take_opportunity\u001b[0m\u001b[0;34m(\u001b[0m\u001b[0mtup\u001b[0m\u001b[0;34m)\u001b[0m\u001b[0;34m:\u001b[0m\u001b[0;34m\u001b[0m\u001b[0m\n\u001b[0;32m--> 879\u001b[0;31m             \u001b[0;32mreturn\u001b[0m \u001b[0mself\u001b[0m\u001b[0;34m.\u001b[0m\u001b[0m_multi_take\u001b[0m\u001b[0;34m(\u001b[0m\u001b[0mtup\u001b[0m\u001b[0;34m)\u001b[0m\u001b[0;34m\u001b[0m\u001b[0m\n\u001b[0m\u001b[1;32m    880\u001b[0m \u001b[0;34m\u001b[0m\u001b[0m\n\u001b[1;32m    881\u001b[0m         \u001b[0;31m# no shortcut needed\u001b[0m\u001b[0;34m\u001b[0m\u001b[0;34m\u001b[0m\u001b[0m\n",
      "\u001b[0;32m/usr/wisdom/python/lib/python2.7/site-packages/pandas/core/indexing.pyc\u001b[0m in \u001b[0;36m_multi_take\u001b[0;34m(self, tup)\u001b[0m\n\u001b[1;32m    943\u001b[0m             \u001b[0;32mreturn\u001b[0m \u001b[0mo\u001b[0m\u001b[0;34m.\u001b[0m\u001b[0m_reindex_with_indexers\u001b[0m\u001b[0;34m(\u001b[0m\u001b[0md\u001b[0m\u001b[0;34m,\u001b[0m \u001b[0mcopy\u001b[0m\u001b[0;34m=\u001b[0m\u001b[0mTrue\u001b[0m\u001b[0;34m,\u001b[0m \u001b[0mallow_dups\u001b[0m\u001b[0;34m=\u001b[0m\u001b[0mTrue\u001b[0m\u001b[0;34m)\u001b[0m\u001b[0;34m\u001b[0m\u001b[0m\n\u001b[1;32m    944\u001b[0m         \u001b[0;32mexcept\u001b[0m \u001b[0;34m(\u001b[0m\u001b[0mKeyError\u001b[0m\u001b[0;34m,\u001b[0m \u001b[0mIndexingError\u001b[0m\u001b[0;34m)\u001b[0m \u001b[0;32mas\u001b[0m \u001b[0mdetail\u001b[0m\u001b[0;34m:\u001b[0m\u001b[0;34m\u001b[0m\u001b[0m\n\u001b[0;32m--> 945\u001b[0;31m             \u001b[0;32mraise\u001b[0m \u001b[0mself\u001b[0m\u001b[0;34m.\u001b[0m\u001b[0m_exception\u001b[0m\u001b[0;34m(\u001b[0m\u001b[0mdetail\u001b[0m\u001b[0;34m)\u001b[0m\u001b[0;34m\u001b[0m\u001b[0m\n\u001b[0m\u001b[1;32m    946\u001b[0m \u001b[0;34m\u001b[0m\u001b[0m\n\u001b[1;32m    947\u001b[0m     \u001b[0;32mdef\u001b[0m \u001b[0m_convert_for_reindex\u001b[0m\u001b[0;34m(\u001b[0m\u001b[0mself\u001b[0m\u001b[0;34m,\u001b[0m \u001b[0mkey\u001b[0m\u001b[0;34m,\u001b[0m \u001b[0maxis\u001b[0m\u001b[0;34m=\u001b[0m\u001b[0mNone\u001b[0m\u001b[0;34m)\u001b[0m\u001b[0;34m:\u001b[0m\u001b[0;34m\u001b[0m\u001b[0m\n",
      "\u001b[0;31mKeyError\u001b[0m: KeyError(u\"None of [Index([u'CASSFGSTYEQYF', u'CASSLTRSSYNEQFF', u'CASSLRGYYEQYF', u'CASSLVGNEQYF', u'CASSPQSSGANVLTF', u'CASSLVLGETQYF', u'CASSLLGGSYNEQFF', u'CASSLFRDTEAFF', u'CASSQGLGYGYTF', u'CASSTGGDTQYF'], dtype='object')] are in the [columns]\",)"
     ]
    }
   ],
   "source": [
    "fig = plt.figure(figsize=(30, 10))\n",
    "gs0 = gridspec.GridSpec(2, 4, wspace=0.25, hspace=0.25)\n",
    "\n",
    "#add sub-figure letters and remove spines:\n",
    "ax = plt.gca()\n",
    "plt.text(0,1.01,'A',ha='right',va='bottom',transform=ax.transAxes,fontsize='xx-large',fontweight='bold')\n",
    "plt.text(0,0.46,'B',ha='right',va='bottom',transform=ax.transAxes,fontsize='xx-large',fontweight='bold')\n",
    "remove_spines(removeFigBorders=True)\n",
    "\n",
    "### A:\n",
    "ax1 = plt.Subplot(fig, gs0[0, 0])\n",
    "fig.add_subplot(ax1)\n",
    "\n",
    "ax2 = plt.Subplot(fig, gs0[0, 1])\n",
    "fig.add_subplot(ax2)\n",
    "\n",
    "ax3 = plt.Subplot(fig, gs0[0, 2])\n",
    "fig.add_subplot(ax3)\n",
    "\n",
    "ax4 = plt.Subplot(fig, gs0[0, 3])\n",
    "fig.add_subplot(ax4)\n",
    "\n",
    "### B:\n",
    "# ax5 = plt.Subplot(fig, gs0[1, 0])\n",
    "# fig.add_subplot(ax5)\n",
    "ax51,ax52,ax53,ax54=divide_to_subplots_fig5b(gs0[1, 0])\n",
    "\n",
    "# ax6 = plt.Subplot(fig, gs0[1, 1])\n",
    "# fig.add_subplot(ax6)\n",
    "ax61,ax62,ax63,ax64=divide_to_subplots_fig5b(gs0[1, 1])\n",
    "\n",
    "# ax7 = plt.Subplot(fig, gs0[1, 2])\n",
    "# fig.add_subplot(ax7)\n",
    "ax71,ax72,ax73,ax74=divide_to_subplots_fig5b(gs0[1, 2])\n",
    "\n",
    "\n",
    "# ax8 = plt.Subplot(fig, gs0[1, 3])\n",
    "# fig.add_subplot(ax8)\n",
    "ax81,ax82,ax83,ax84=divide_to_subplots_fig5b(gs0[1, 3])\n",
    "\n",
    "\n",
    "nTopFeatures=10\n",
    "fig,ax1,ax2,ax3,ax4,ax51,ax52,ax53,ax54,ax61,ax62,ax63,ax64,ax71,ax72,ax73,ax74,ax81,ax82,ax83,ax84=plot_fig5(fig,nTopFeatures,ax1,ax2,ax3,ax4,ax51,ax52,ax53,ax54,ax61,ax62,ax63,ax64,ax71,ax72,ax73,ax74,ax81,ax82,ax83,ax84)\n",
    "for ax in [ax1,ax2,ax3,ax4]:\n",
    "    remove_spines(ax,removeTicklabels=True)\n",
    "for ax in [ax5,ax6,ax7,ax8]:\n",
    "     remove_spines(ax,removeTicklabels=False)\n",
    "        \n",
    "# fig.align_ylabels(axes=[ax_PCoA,ax_PCoA_dist])\n",
    "ax1.yaxis.set_label_coords(-0.15, 0.5)\n",
    "ax5.yaxis.set_label_coords(-0.15, 0.5)\n",
    "\n",
    "fig.savefig(FIG5_DIR + 'figure5_%s.png' % cdate, dpi=300)\n",
    "\n",
    "print 'Finished figure 5!!'\n",
    "\n",
    "\n",
    "\n",
    "plt.show()"
   ]
  },
  {
   "cell_type": "code",
   "execution_count": null,
   "metadata": {
    "ExecuteTime": {
     "end_time": "2019-03-30T17:39:05.256705Z",
     "start_time": "2019-03-30T17:38:52.410Z"
    }
   },
   "outputs": [],
   "source": [
    "mpl.rcParams['ytick.labelsize']"
   ]
  },
  {
   "cell_type": "code",
   "execution_count": null,
   "metadata": {},
   "outputs": [],
   "source": []
  },
  {
   "cell_type": "markdown",
   "metadata": {},
   "source": [
    "#  copy all necessary functions to .py files! generate .py file for figure 5 and execute!!!!!"
   ]
  },
  {
   "cell_type": "code",
   "execution_count": 15,
   "metadata": {
    "ExecuteTime": {
     "end_time": "2019-03-30T17:39:12.266608Z",
     "start_time": "2019-03-30T17:39:12.260493Z"
    }
   },
   "outputs": [],
   "source": [
    "subplot_list=[('AdmissionAspirin','Aspirin (Chronic)',\n",
    "                   'AdmissionAspirinBetaBlockersDischargeMerformin_XGB100_randomSearch_25_byNewX_AUC/'),\n",
    "                 ('AcuteAspirin','# Aspirin (Acute)',\n",
    "                  'Acute_medication_phenotypes_XGB50_randomSearch_25_bynewXonlySeqsCardio126040085noNans_optByAUC/'),\n",
    "                 ('AdmissionBetaBlockers','Beta blockers (Chronic)',\n",
    "                  'AdmissionAspirinBetaBlockersDischargeMerformin_XGB100_randomSearch_25_byNewX_AUC/'),\n",
    "                 ('AcuteTicagrelor','Ticagrelor (Acute)',\n",
    "                  'Acute_medication_phenotypes_XGB50_randomSearch_25_bynewXonlySeqsCardio126040085noNans_optByAUC/')\n",
    "                 ]"
   ]
  },
  {
   "cell_type": "code",
   "execution_count": 21,
   "metadata": {
    "ExecuteTime": {
     "end_time": "2019-03-30T18:03:16.047067Z",
     "start_time": "2019-03-30T18:03:13.039400Z"
    }
   },
   "outputs": [
    {
     "name": "stdout",
     "output_type": "stream",
     "text": [
      "                combined annotation_list_clean\n",
      "CAAAAGNTGKLIF                              CMV\n",
      "CAAAASGGSYIPTF                             EBV\n",
      "CAAADDKIIF                    YellowFeverVirus\n",
      "CAAADEEIGNQPQHF                            HCV\n",
      "CAAAGGNNKLTF                               CMV\n",
      "0 AdmissionAspirin\n",
      "1 AcuteAspirin\n",
      "2 AdmissionBetaBlockers\n",
      "3 AcuteTicagrelor\n"
     ]
    }
   ],
   "source": [
    "phenList=['Admission Aspirin','Acute Aspirin','AdmissionBetaBlockers','Acute Ticagrelor']\n",
    "PRED_RESULTS_DIR='/net/mraid08/export/jafar/Microbiome/Analyses/ShaniBAF/predictions2/'\n",
    "nTopFeatures=50\n",
    "output_dir='/net/mraid08/export/jafar/Microbiome/Analyses/ShaniBAF/sharingAnalysis/seqClusters_allProd_maxdist1/'\n",
    "identities=pd.read_excel('%s/TCR CDR3 sequence databases/combined annotation_list_clean_popped.xlsx' %MyPath)\n",
    "print identities.head()\n",
    "\n",
    "top_list={}\n",
    "\n",
    "for n,item in enumerate(subplot_list):\n",
    " \n",
    "        phen=item[0]\n",
    "        phen_niceName=item[1]\n",
    "        pred_dir=item[2]\n",
    "        ###get top 10 clusters:\n",
    "        print n,phen\n",
    "\n",
    "        #get top 10 shap values:\n",
    "        dir2 = PRED_RESULTS_DIR + 'Cardio126_diseasePhenotypes/' + pred_dir\n",
    "        try:\n",
    "            shap_df = pd.read_pickle(dir2 + 'shap_values.pkl')[phen]\n",
    "        except:\n",
    "            try:\n",
    "                shap_df = pd.read_pickle(dir2 + 'shap_values.pkl')[phen.replace(' ','')]\n",
    "            except:\n",
    "                shap_df = pd.read_pickle(dir2 + 'shap_values.pkl')[phen.replace('Acute','Acute ')]\n",
    "\n",
    "        topN_features = shap_df.abs().sum().sort_values(ascending=False)[:nTopFeatures].index.tolist()  \n",
    "#         print topN_features\n",
    "        pd.Series(topN_features).to_excel(FIG5_DIR+phen+'_top%s_shapvalues_clusters.xlsx' %nTopFeatures)\n",
    "        top_list[phen]=topN_features\n",
    "        \n",
    "#         for head in topN_features:\n",
    "#             clusterhead, seqs=get_cluster_seqeunces_per_clusterheadID(output_dir, head, isSeq=True)\n",
    "#             print clusterhead, len(seqs)\n",
    "#             ident=identities.loc[seqs,:]\n",
    "#             print ident\n",
    "            \n"
   ]
  },
  {
   "cell_type": "code",
   "execution_count": 22,
   "metadata": {
    "ExecuteTime": {
     "end_time": "2019-03-30T18:03:17.951785Z",
     "start_time": "2019-03-30T18:03:17.931046Z"
    }
   },
   "outputs": [
    {
     "name": "stdout",
     "output_type": "stream",
     "text": [
      "AcuteAspirin AdmissionAspirin\n",
      "set(['CASSYGQGNYGYTF', 'CASSSRYEQYF'])\n",
      "AcuteAspirin AdmissionBetaBlockers\n",
      "set([])\n",
      "AcuteAspirin AcuteTicagrelor\n",
      "set([])\n",
      "AdmissionAspirin AcuteAspirin\n",
      "set(['CASSYGQGNYGYTF', 'CASSSRYEQYF'])\n",
      "AdmissionAspirin AdmissionBetaBlockers\n",
      "set([])\n",
      "AdmissionAspirin AcuteTicagrelor\n",
      "set([])\n",
      "AdmissionBetaBlockers AcuteAspirin\n",
      "set([])\n",
      "AdmissionBetaBlockers AdmissionAspirin\n",
      "set([])\n",
      "AdmissionBetaBlockers AcuteTicagrelor\n",
      "set([])\n",
      "AcuteTicagrelor AcuteAspirin\n",
      "set([])\n",
      "AcuteTicagrelor AdmissionAspirin\n",
      "set([])\n",
      "AcuteTicagrelor AdmissionBetaBlockers\n",
      "set([])\n"
     ]
    }
   ],
   "source": [
    "for i in top_list.keys():\n",
    "    for j in top_list.keys():\n",
    "        if i!=j:\n",
    "            print i,j\n",
    "            print  set(top_list[i]).intersection(set(top_list[j]))"
   ]
  },
  {
   "cell_type": "code",
   "execution_count": null,
   "metadata": {
    "ExecuteTime": {
     "end_time": "2019-03-30T17:39:05.264970Z",
     "start_time": "2019-03-30T17:38:52.431Z"
    }
   },
   "outputs": [],
   "source": [
    "Z:\\Microbiome\\Analyses\\ShaniBAF\\sharingAnalysis\\seqClusters_allProd_maxdist1"
   ]
  },
  {
   "cell_type": "markdown",
   "metadata": {},
   "source": [
    "the function get_annot_for_seqs_in_cluster was copied to sequenceClusterModule"
   ]
  },
  {
   "cell_type": "code",
   "execution_count": 43,
   "metadata": {
    "ExecuteTime": {
     "end_time": "2019-03-30T18:14:23.580246Z",
     "start_time": "2019-03-30T18:14:15.054481Z"
    }
   },
   "outputs": [
    {
     "name": "stdout",
     "output_type": "stream",
     "text": [
      "     cluster_head\n",
      "0  CASSYGQGNYGYTF\n",
      "1     CASSSRYEQYF\n",
      "getting seqID info\n",
      "getting info for each cluster...\n",
      "0\n",
      "1\n"
     ]
    }
   ],
   "source": [
    "df=None\n",
    "cluster_head_col=None\n",
    "output_dir='/net/mraid08/export/jafar/Microbiome/Analyses/ShaniBAF/sharingAnalysis/seqClusters_allProd_maxdist1/'\n",
    "getIdentities=True\n",
    "cluster_head_list=['CASSYGQGNYGYTF', 'CASSSRYEQYF']\n",
    "\n",
    "df2=get_annot_for_seqs_in_cluster(df,cluster_head_col,output_dir,getIdentities,cluster_head_list)"
   ]
  },
  {
   "cell_type": "code",
   "execution_count": 44,
   "metadata": {
    "ExecuteTime": {
     "end_time": "2019-03-30T18:14:25.168979Z",
     "start_time": "2019-03-30T18:14:25.141825Z"
    }
   },
   "outputs": [
    {
     "data": {
      "text/html": [
       "<div>\n",
       "<style scoped>\n",
       "    .dataframe tbody tr th:only-of-type {\n",
       "        vertical-align: middle;\n",
       "    }\n",
       "\n",
       "    .dataframe tbody tr th {\n",
       "        vertical-align: top;\n",
       "    }\n",
       "\n",
       "    .dataframe thead th {\n",
       "        text-align: right;\n",
       "    }\n",
       "</style>\n",
       "<table border=\"1\" class=\"dataframe\">\n",
       "  <thead>\n",
       "    <tr style=\"text-align: right;\">\n",
       "      <th></th>\n",
       "      <th>cluster_head</th>\n",
       "      <th>n sequences in cluster</th>\n",
       "      <th>cluster sequences</th>\n",
       "      <th>annotation summary</th>\n",
       "    </tr>\n",
       "  </thead>\n",
       "  <tbody>\n",
       "    <tr>\n",
       "      <th>0</th>\n",
       "      <td>CASSYGQGNYGYTF</td>\n",
       "      <td>64.0</td>\n",
       "      <td>CASSYSQGNYGYTF,CASSYGAGNYGYTF,CASSIGQGNYGYTF,C...</td>\n",
       "      <td>,CMV:1,None:63</td>\n",
       "    </tr>\n",
       "    <tr>\n",
       "      <th>1</th>\n",
       "      <td>CASSSRYEQYF</td>\n",
       "      <td>47.0</td>\n",
       "      <td>CASSSPYEQYF,CASSKRYEQYF,CASSSRQEQYF,CASGSRYEQY...</td>\n",
       "      <td>,Influenza:1,Plasmodiumberghei:1,None:45</td>\n",
       "    </tr>\n",
       "  </tbody>\n",
       "</table>\n",
       "</div>"
      ],
      "text/plain": [
       "     cluster_head  n sequences in cluster                                  cluster sequences                        annotation summary\n",
       "0  CASSYGQGNYGYTF                    64.0  CASSYSQGNYGYTF,CASSYGAGNYGYTF,CASSIGQGNYGYTF,C...                            ,CMV:1,None:63\n",
       "1     CASSSRYEQYF                    47.0  CASSSPYEQYF,CASSKRYEQYF,CASSSRQEQYF,CASGSRYEQY...  ,Influenza:1,Plasmodiumberghei:1,None:45"
      ]
     },
     "execution_count": 44,
     "metadata": {},
     "output_type": "execute_result"
    }
   ],
   "source": [
    "df2"
   ]
  },
  {
   "cell_type": "code",
   "execution_count": null,
   "metadata": {},
   "outputs": [],
   "source": []
  },
  {
   "cell_type": "code",
   "execution_count": null,
   "metadata": {},
   "outputs": [],
   "source": []
  }
 ],
 "metadata": {
  "kernelspec": {
   "display_name": "Python 2",
   "language": "python",
   "name": "python2"
  },
  "language_info": {
   "codemirror_mode": {
    "name": "ipython",
    "version": 2
   },
   "file_extension": ".py",
   "mimetype": "text/x-python",
   "name": "python",
   "nbconvert_exporter": "python",
   "pygments_lexer": "ipython2",
   "version": "2.7.8"
  },
  "toc": {
   "nav_menu": {},
   "number_sections": false,
   "sideBar": true,
   "skip_h1_title": false,
   "toc_cell": false,
   "toc_position": {
    "height": "746px",
    "left": "0px",
    "right": "20px",
    "top": "134px",
    "width": "304px"
   },
   "toc_section_display": "block",
   "toc_window_display": true
  },
  "varInspector": {
   "cols": {
    "lenName": 16,
    "lenType": 16,
    "lenVar": 40
   },
   "kernels_config": {
    "python": {
     "delete_cmd_postfix": "",
     "delete_cmd_prefix": "del ",
     "library": "var_list.py",
     "varRefreshCmd": "print(var_dic_list())"
    },
    "r": {
     "delete_cmd_postfix": ") ",
     "delete_cmd_prefix": "rm(",
     "library": "var_list.r",
     "varRefreshCmd": "cat(var_dic_list()) "
    }
   },
   "types_to_exclude": [
    "module",
    "function",
    "builtin_function_or_method",
    "instance",
    "_Feature"
   ],
   "window_display": false
  }
 },
 "nbformat": 4,
 "nbformat_minor": 2
}
