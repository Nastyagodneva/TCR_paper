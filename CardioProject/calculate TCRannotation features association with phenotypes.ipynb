{
 "cells": [
  {
   "cell_type": "markdown",
   "metadata": {},
   "source": [
    "# imports:"
   ]
  },
  {
   "cell_type": "code",
   "execution_count": 1,
   "metadata": {
    "ExecuteTime": {
     "end_time": "2018-10-12T19:24:08.590691Z",
     "start_time": "2018-10-12T19:24:03.989192Z"
    }
   },
   "outputs": [
    {
     "name": "stdout",
     "output_type": "stream",
     "text": [
      "done1\n",
      "stop\n",
      "stop\n",
      "done1\n",
      "stop\n",
      "done\n",
      "done\n",
      "done\n",
      "done\n",
      "stop\n",
      "stop\n",
      "end of function!!!\n"
     ]
    },
    {
     "name": "stderr",
     "output_type": "stream",
     "text": [
      "/usr/wisdom/python/lib/python2.7/site-packages/h5py/__init__.py:36: FutureWarning: Conversion of the second argument of issubdtype from `float` to `np.floating` is deprecated. In future, it will be treated as `np.float64 == np.dtype(float).type`.\n",
      "  from ._conv import register_converters as _register_converters\n"
     ]
    },
    {
     "name": "stdout",
     "output_type": "stream",
     "text": [
      "end of function!!!\n"
     ]
    }
   ],
   "source": [
    "from os import listdir,mkdir,makedirs\n",
    "from os.path import isfile, join, isdir,exists\n",
    "import pandas as pd\n",
    "import numpy as np\n",
    "from scipy import stats\n",
    "import re\n",
    "import matplotlib.pyplot as plt\n",
    "from matplotlib.backends.backend_pdf import PdfPages\n",
    "from myplots import roundup, rounddown, find_decimal_fold, percentile_cut_off, rarefaction_calc, rarefaction_plot,draw_correlation_scatter\n",
    "from matplotlib.ticker import FormatStrFormatter\n",
    "import cPickle as pickle\n",
    "from Bio.SeqUtils import GC\n",
    "import seaborn as sns\n",
    "import random\n",
    "from scipy.stats import pearsonr,fisher_exact\n",
    "from skbio.diversity.alpha import shannon, simpson, berger_parker_d\n",
    "\n",
    "from pop_organize import get_sample_data, get_sample_with_dfs\n",
    "from SufficientStatistics.SufficientStatistics import *\n",
    "from MyFunctionsShani import *\n",
    "import math\n",
    "from myplots import roundup, rounddown, find_decimal_fold\n",
    "from skbio.stats.distance import mantel\n",
    "from scipy.spatial.distance import braycurtis, pdist, euclidean\n",
    "\n",
    "\n",
    "from GeneralFeaturePhenotypeInteractions.Feature_phenotype_functions import * \n",
    "from TCR_microbiome_interactions.TCR_microbiome_interactions_functions import *\n",
    "from TCR_microbiome_interactions.TCR_microbiome_interactions_functions2 import *\n",
    "from SampleLists.SampleFileFunctions import *\n",
    "from PhenotypicData.PhenotypeGenerationFunctions import *\n",
    "from CardioProject.CardioFunctions import *\n",
    "from PredictionPipeline.PredictionFunctions import *\n",
    "from TCR_feature_generation.SubsamplingFunctions import *\n",
    "\n",
    "import os\n",
    "from Utils import cacheOnDisk\n",
    "from SegalQueue.qp import qp,fakeqp\n",
    "from addloglevels import sethandlers\n",
    "\n",
    "#ML imports:\n",
    "from xgboost import XGBClassifier\n",
    "import lightgbm as lgb\n",
    "from collections import OrderedDict\n",
    "from sklearn.model_selection import GroupKFold,StratifiedKFold, KFold\n",
    "import statsmodels.formula.api as sm\n",
    "from sklearn.linear_model import LogisticRegression\n",
    "import shap\n",
    "from sklearn import metrics, preprocessing\n",
    "from sklearn.svm import LinearSVC\n",
    "from sklearn.feature_selection import SelectFromModel,SelectKBest,chi2,mutual_info_classif,f_classif\n",
    "from sklearn.naive_bayes import GaussianNB\n",
    "\n",
    "MyPath='/net/mraid08/export/genie/Lab/Personal/ShaniBAF'\n"
   ]
  },
  {
   "cell_type": "code",
   "execution_count": 2,
   "metadata": {
    "ExecuteTime": {
     "end_time": "2018-10-12T19:24:09.192839Z",
     "start_time": "2018-10-12T19:24:09.185352Z"
    }
   },
   "outputs": [
    {
     "data": {
      "text/plain": [
       "'12102018'"
      ]
     },
     "execution_count": 2,
     "metadata": {},
     "output_type": "execute_result"
    }
   ],
   "source": [
    "import time\n",
    "cdate=str(time.strftime(\"%d%m%Y\"))\n",
    "cdate"
   ]
  },
  {
   "cell_type": "markdown",
   "metadata": {},
   "source": [
    "# get DFs:"
   ]
  },
  {
   "cell_type": "code",
   "execution_count": 3,
   "metadata": {
    "ExecuteTime": {
     "end_time": "2018-10-12T19:24:16.688756Z",
     "start_time": "2018-10-12T19:24:16.683053Z"
    }
   },
   "outputs": [],
   "source": [
    "with open('/net/mraid08/export/genie/Lab/Personal/ShaniBAF/Sample files/BD lists/PNP530','rb') as fp:\n",
    "    PNP530=pickle.load(fp)\n",
    "sampleList=PNP530"
   ]
  },
  {
   "cell_type": "code",
   "execution_count": 12,
   "metadata": {
    "ExecuteTime": {
     "end_time": "2018-10-12T19:31:47.742284Z",
     "start_time": "2018-10-12T19:31:47.324822Z"
    }
   },
   "outputs": [
    {
     "name": "stdout",
     "output_type": "stream",
     "text": [
      "(530, 21)\n",
      "        Age  Gender        BMI  Creatinine\n",
      "BD                                        \n",
      "BD406  65.0  Female  27.181630       1.070\n",
      "BD228  32.0    Male  28.727377       1.080\n",
      "BD714  39.0    Male  27.216277       1.015\n",
      "BD808  26.0  Female  18.423259       0.910\n"
     ]
    }
   ],
   "source": [
    "#get PNP phenotype df:\n",
    "datasetFolder='%s/TCR_real_data' %MyPath\n",
    "f2='%s/NewPhenotypicData/newPhenotypesPNPAllInfo_withDummies.xlsx' %datasetFolder\n",
    "phenotypeDF=pd.read_excel(f2).set_index('BD')\n",
    "\n",
    "phenotypeDF=phenotypeDF.loc[PNP530,:]\n",
    "print phenotypeDF.shape\n",
    "print phenotypeDF.iloc[:4,:4]\n"
   ]
  },
  {
   "cell_type": "code",
   "execution_count": 13,
   "metadata": {
    "ExecuteTime": {
     "end_time": "2018-10-12T19:32:02.868703Z",
     "start_time": "2018-10-12T19:32:02.447526Z"
    }
   },
   "outputs": [
    {
     "name": "stdout",
     "output_type": "stream",
     "text": [
      "(530, 671)\n",
      "       AA count_0  AA count_1  AA count_T     D01_0\n",
      "BD406       190.0      8017.0      8207.0  0.381305\n",
      "BD228       357.0     12365.0     12722.0  0.383422\n",
      "BD714       208.0     10560.0     10768.0  0.459386\n",
      "BD808       359.0     19513.0     19872.0  0.508576\n"
     ]
    }
   ],
   "source": [
    "#get TCRfeature df:\n",
    "f3='%s/TCR_real_data/Predictions/featureDFs/allTCRfeatures_percShared10_.dat' %MyPath\n",
    "allFeatures_PNP530=pd.read_pickle(f3).loc[PNP530,:]\n",
    "print allFeatures_PNP530.shape\n",
    "print allFeatures_PNP530.iloc[:4,:4]"
   ]
  },
  {
   "cell_type": "code",
   "execution_count": 9,
   "metadata": {
    "ExecuteTime": {
     "end_time": "2018-10-12T19:30:20.280375Z",
     "start_time": "2018-10-12T19:30:20.273607Z"
    }
   },
   "outputs": [],
   "source": [
    "num_phens=['Age','BMI','Hemoglobin','WBC','CRP_wr','AST', 'HDL', 'Total Cholesterol','eGFR by CKD-EPI',\n",
    "      'HbA1C', 'Glucose','WakeupGlucose']\n",
    "cat_phens=['Smoking Status_Past','Smoking Status_Yes','Gender_Male']\n",
    "\n",
    "featurelist=['normSeqNums_per2000_NT_T','top10clonal_nt_T','top1000clonal_nt_T','frequencyCount (%)_mean_T',\n",
    "              'frequencyCount (%)_max_T','frequencyCount (%)_std_T','shannon_nt_T','cdr3Length_mean_T',\n",
    "              'n1Insertion_mean_T','n2Insertion_mean_T','mean_nt_per_aa_T','NT count_T','gc_content_T','PC1','PC2']\n"
   ]
  },
  {
   "cell_type": "markdown",
   "metadata": {},
   "source": [
    "# calculate association with binary variables:"
   ]
  },
  {
   "cell_type": "markdown",
   "metadata": {},
   "source": [
    "## using ROC_AUC"
   ]
  },
  {
   "cell_type": "code",
   "execution_count": null,
   "metadata": {
    "ExecuteTime": {
     "end_time": "2018-10-10T15:53:09.092168Z",
     "start_time": "2018-10-10T15:53:06.779716Z"
    }
   },
   "outputs": [],
   "source": [
    "feature_auc_df = pd.DataFrame()\n",
    "annDF2=allFeatures_PNP530[featurelist].copy()\n",
    "phenotypeDF2 = phenotypeDF[cat_phens].copy().loc[annDF2.index,:]\n",
    "\n",
    "print phenotypeDF2.head()\n",
    "\n",
    "print annDF2.index[:10]\n",
    "print phenotypeDF2.index[:10]\n",
    "print annDF2.shape\n",
    "print phenotypeDF2.shape\n",
    "\n",
    "for n,feature in enumerate(annDF2.columns):\n",
    "    annDF2[feature]=annDF2[feature].fillna(0)\n",
    "    for k,phen in enumerate(phenotypeDF2.columns):\n",
    "        df=pd.DataFrame()\n",
    "        phenotypeDF2[phen]=phenotypeDF2[phen].fillna(phenotypeDF2[phen].median())    \n",
    "        print n,feature,k,phen\n",
    "\n",
    "        fpr, tpr, thresholds = metrics.roc_curve(phenotypeDF2[phen], annDF2[feature])\n",
    "        roc_auc = metrics.auc(fpr, tpr)\n",
    "        df.loc[0,'Feature']=feature\n",
    "        df.loc[0,'Phenotype']=phen\n",
    "        df.loc[0,'ROC-AUC']=max(roc_auc, 1-roc_auc)\n",
    "\n",
    "        feature_auc_df=pd.concat([feature_auc_df,df])\n"
   ]
  },
  {
   "cell_type": "code",
   "execution_count": null,
   "metadata": {
    "ExecuteTime": {
     "end_time": "2018-10-10T15:53:17.543729Z",
     "start_time": "2018-10-10T15:53:17.526394Z"
    }
   },
   "outputs": [],
   "source": [
    "feature_auc_df=feature_auc_df.sort_values(by='ROC-AUC',ascending=False)\n",
    "feature_auc_df.head()"
   ]
  },
  {
   "cell_type": "code",
   "execution_count": null,
   "metadata": {
    "ExecuteTime": {
     "end_time": "2018-10-10T15:54:14.716063Z",
     "start_time": "2018-10-10T15:54:14.655869Z"
    }
   },
   "outputs": [],
   "source": [
    "f7='%s/TCR_real_data/TCR_phenotype_relations/feature_phen_auc_df.xlsx' %MyPath\n",
    "feature_auc_df.to_excel(f7)"
   ]
  },
  {
   "cell_type": "markdown",
   "metadata": {},
   "source": [
    "## using t-test"
   ]
  },
  {
   "cell_type": "markdown",
   "metadata": {},
   "source": [
    "the function calc_catPhens_TCRfeatures_associations_ttest was copied to feature_phenotype_functions.py"
   ]
  },
  {
   "cell_type": "code",
   "execution_count": 17,
   "metadata": {
    "ExecuteTime": {
     "end_time": "2018-10-12T19:34:18.038215Z",
     "start_time": "2018-10-12T19:34:17.390016Z"
    }
   },
   "outputs": [
    {
     "name": "stdout",
     "output_type": "stream",
     "text": [
      "('featureDF shape is', (530, 15))\n",
      "('fisrt samples in featureDF are:', Index([u'BD406', u'BD228', u'BD714', u'BD808'], dtype='object'))\n",
      "('phenDF shape is', (530, 3))\n",
      "('fisrt samples in phenDF are:', Index([u'BD406', u'BD228', u'BD714', u'BD808'], dtype='object'))\n"
     ]
    }
   ],
   "source": [
    "featureDF=allFeatures_PNP530[featurelist].copy()\n",
    "featureDFname='mostInteresting'\n",
    "phenDF = phenotypeDF[cat_phens].copy()\n",
    "phenDFname='catPhens'\n",
    "FDR=0.1\n",
    "\n",
    "feature_phen_ttest=calc_catPhens_TCRfeatures_associations_ttest(featureDF,featureDFname,phenDF,phenDFname,FDR)\n",
    "\n",
    "f1='%s/TCR_real_data/TCR_phenotype_relations/%sTCRfeatures_%s_ttest.xlsx' %(MyPath,featureDFname,phenDFname)\n",
    "feature_phen_ttest.to_excel(f1)"
   ]
  },
  {
   "cell_type": "markdown",
   "metadata": {},
   "source": [
    "# calculate association with continous variables:"
   ]
  },
  {
   "cell_type": "code",
   "execution_count": null,
   "metadata": {},
   "outputs": [],
   "source": [
    "the function calc_numPhens_TCRfeatures_associations_correlation was copied to feature_phenotype_functions.py"
   ]
  },
  {
   "cell_type": "code",
   "execution_count": 25,
   "metadata": {
    "ExecuteTime": {
     "end_time": "2018-10-12T19:38:56.688592Z",
     "start_time": "2018-10-12T19:38:53.711901Z"
    }
   },
   "outputs": [
    {
     "name": "stdout",
     "output_type": "stream",
     "text": [
      "('featureDF shape is', (530, 15))\n",
      "('fisrt samples in featureDF are:', Index([u'BD406', u'BD228', u'BD714', u'BD808'], dtype='object'))\n",
      "('phenDF shape is', (530, 12))\n",
      "('fisrt samples in phenDF are:', Index([u'BD406', u'BD228', u'BD714', u'BD808'], dtype='object'))\n"
     ]
    }
   ],
   "source": [
    "featureDF=allFeatures_PNP530[featurelist].copy()\n",
    "featureDFname='mostInteresting'\n",
    "phenDF = phenotypeDF[num_phens].copy()\n",
    "phenDFname='num_phens'\n",
    "testType='pearson'\n",
    "FDR=0.1\n",
    "\n",
    "\n",
    "feature_phen_pearson=calc_numPhens_TCRfeatures_associations_correlation(featureDF,featureDFname,phenDF,phenDFname,testType,FDR=0.1)\n",
    "\n",
    "f2='%s/TCR_real_data/TCR_phenotype_relations/%sTCRfeatures_%s_%sTest.xlsx' %(MyPath,featureDFname,phenDFname,testType)\n",
    "feature_phen_pearson.to_excel(f2)"
   ]
  },
  {
   "cell_type": "code",
   "execution_count": 26,
   "metadata": {
    "ExecuteTime": {
     "end_time": "2018-10-14T09:23:47.719124Z",
     "start_time": "2018-10-14T09:23:47.673450Z"
    }
   },
   "outputs": [
    {
     "data": {
      "text/html": [
       "<div>\n",
       "<style scoped>\n",
       "    .dataframe tbody tr th:only-of-type {\n",
       "        vertical-align: middle;\n",
       "    }\n",
       "\n",
       "    .dataframe tbody tr th {\n",
       "        vertical-align: top;\n",
       "    }\n",
       "\n",
       "    .dataframe thead th {\n",
       "        text-align: right;\n",
       "    }\n",
       "</style>\n",
       "<table border=\"1\" class=\"dataframe\">\n",
       "  <thead>\n",
       "    <tr style=\"text-align: right;\">\n",
       "      <th></th>\n",
       "      <th>Feature</th>\n",
       "      <th>Phenotype</th>\n",
       "      <th>r</th>\n",
       "      <th>p</th>\n",
       "      <th>testType</th>\n",
       "      <th>Sig by bonferroni corrected pVal</th>\n",
       "      <th>sig. by FDR=0.1</th>\n",
       "    </tr>\n",
       "  </thead>\n",
       "  <tbody>\n",
       "    <tr>\n",
       "      <th>0</th>\n",
       "      <td>PC2</td>\n",
       "      <td>Age</td>\n",
       "      <td>-0.347063</td>\n",
       "      <td>2.309359e-16</td>\n",
       "      <td>pearson</td>\n",
       "      <td>1</td>\n",
       "      <td>1</td>\n",
       "    </tr>\n",
       "    <tr>\n",
       "      <th>0</th>\n",
       "      <td>top1000clonal_nt_T</td>\n",
       "      <td>Age</td>\n",
       "      <td>0.324330</td>\n",
       "      <td>2.255600e-14</td>\n",
       "      <td>pearson</td>\n",
       "      <td>1</td>\n",
       "      <td>1</td>\n",
       "    </tr>\n",
       "    <tr>\n",
       "      <th>0</th>\n",
       "      <td>shannon_nt_T</td>\n",
       "      <td>Age</td>\n",
       "      <td>-0.321041</td>\n",
       "      <td>4.242588e-14</td>\n",
       "      <td>pearson</td>\n",
       "      <td>1</td>\n",
       "      <td>1</td>\n",
       "    </tr>\n",
       "    <tr>\n",
       "      <th>0</th>\n",
       "      <td>PC1</td>\n",
       "      <td>Age</td>\n",
       "      <td>-0.297256</td>\n",
       "      <td>3.265018e-12</td>\n",
       "      <td>pearson</td>\n",
       "      <td>1</td>\n",
       "      <td>1</td>\n",
       "    </tr>\n",
       "    <tr>\n",
       "      <th>0</th>\n",
       "      <td>top10clonal_nt_T</td>\n",
       "      <td>Age</td>\n",
       "      <td>0.289176</td>\n",
       "      <td>1.307272e-11</td>\n",
       "      <td>pearson</td>\n",
       "      <td>1</td>\n",
       "      <td>1</td>\n",
       "    </tr>\n",
       "  </tbody>\n",
       "</table>\n",
       "</div>"
      ],
      "text/plain": [
       "              Feature Phenotype         r             p testType  \\\n",
       "0                 PC2       Age -0.347063  2.309359e-16  pearson   \n",
       "0  top1000clonal_nt_T       Age  0.324330  2.255600e-14  pearson   \n",
       "0        shannon_nt_T       Age -0.321041  4.242588e-14  pearson   \n",
       "0                 PC1       Age -0.297256  3.265018e-12  pearson   \n",
       "0    top10clonal_nt_T       Age  0.289176  1.307272e-11  pearson   \n",
       "\n",
       "   Sig by bonferroni corrected pVal  sig. by FDR=0.1  \n",
       "0                                 1                1  \n",
       "0                                 1                1  \n",
       "0                                 1                1  \n",
       "0                                 1                1  \n",
       "0                                 1                1  "
      ]
     },
     "execution_count": 26,
     "metadata": {},
     "output_type": "execute_result"
    }
   ],
   "source": [
    "feature_phen_pearson.head()"
   ]
  },
  {
   "cell_type": "code",
   "execution_count": null,
   "metadata": {},
   "outputs": [],
   "source": []
  }
 ],
 "metadata": {
  "kernelspec": {
   "display_name": "Python 2",
   "language": "python",
   "name": "python2"
  },
  "language_info": {
   "codemirror_mode": {
    "name": "ipython",
    "version": 2
   },
   "file_extension": ".py",
   "mimetype": "text/x-python",
   "name": "python",
   "nbconvert_exporter": "python",
   "pygments_lexer": "ipython2",
   "version": "2.7.8"
  },
  "toc": {
   "nav_menu": {},
   "number_sections": true,
   "sideBar": true,
   "skip_h1_title": false,
   "toc_cell": false,
   "toc_position": {},
   "toc_section_display": "block",
   "toc_window_display": true
  },
  "varInspector": {
   "cols": {
    "lenName": 16.0,
    "lenType": 16.0,
    "lenVar": 40.0
   },
   "kernels_config": {
    "python": {
     "delete_cmd_postfix": "",
     "delete_cmd_prefix": "del ",
     "library": "var_list.py",
     "varRefreshCmd": "print(var_dic_list())"
    },
    "r": {
     "delete_cmd_postfix": ") ",
     "delete_cmd_prefix": "rm(",
     "library": "var_list.r",
     "varRefreshCmd": "cat(var_dic_list()) "
    }
   },
   "types_to_exclude": [
    "module",
    "function",
    "builtin_function_or_method",
    "instance",
    "_Feature"
   ],
   "window_display": false
  }
 },
 "nbformat": 4,
 "nbformat_minor": 2
}
