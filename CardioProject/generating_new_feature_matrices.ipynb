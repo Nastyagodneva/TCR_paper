{
 "cells": [
  {
   "cell_type": "markdown",
   "metadata": {},
   "source": [
    "# imports:"
   ]
  },
  {
   "cell_type": "code",
   "execution_count": 1,
   "metadata": {
    "ExecuteTime": {
     "end_time": "2018-11-11T15:12:20.199399Z",
     "start_time": "2018-11-11T15:12:15.762536Z"
    }
   },
   "outputs": [
    {
     "name": "stdout",
     "output_type": "stream",
     "text": [
      "done1\n",
      "stop\n",
      "stop\n",
      "done1\n",
      "stop\n",
      "done\n",
      "done\n",
      "done\n",
      "done\n",
      "stop\n",
      "stop\n",
      "end of function!!!\n"
     ]
    },
    {
     "name": "stderr",
     "output_type": "stream",
     "text": [
      "/usr/wisdom/python/lib/python2.7/site-packages/h5py/__init__.py:36: FutureWarning: Conversion of the second argument of issubdtype from `float` to `np.floating` is deprecated. In future, it will be treated as `np.float64 == np.dtype(float).type`.\n",
      "  from ._conv import register_converters as _register_converters\n"
     ]
    },
    {
     "name": "stdout",
     "output_type": "stream",
     "text": [
      "end of function!!!\n"
     ]
    }
   ],
   "source": [
    "from os import listdir,mkdir,makedirs\n",
    "from os.path import isfile, join, isdir,exists\n",
    "import pandas as pd\n",
    "import numpy as np\n",
    "from scipy import stats\n",
    "import re\n",
    "import matplotlib.pyplot as plt\n",
    "from matplotlib.backends.backend_pdf import PdfPages\n",
    "from myplots import roundup, rounddown, find_decimal_fold, percentile_cut_off, rarefaction_calc, rarefaction_plot,draw_correlation_scatter\n",
    "from matplotlib.ticker import FormatStrFormatter\n",
    "import cPickle as pickle\n",
    "from Bio.SeqUtils import GC\n",
    "import seaborn as sns\n",
    "import random\n",
    "from scipy.stats import pearsonr,fisher_exact\n",
    "from skbio.diversity.alpha import shannon, simpson, berger_parker_d\n",
    "\n",
    "from pop_organize import get_sample_data, get_sample_with_dfs\n",
    "from SufficientStatistics import *\n",
    "from MyFunctionsShani import *\n",
    "import math\n",
    "from myplots import roundup, rounddown, find_decimal_fold\n",
    "from skbio.stats.distance import mantel\n",
    "from scipy.spatial.distance import braycurtis, pdist, euclidean\n",
    "\n",
    "\n",
    "from GeneralFeaturePhenotypeInteractions.Feature_phenotype_functions import * \n",
    "from TCR_microbiome_interactions.TCR_microbiome_interactions_functions import *\n",
    "from TCR_microbiome_interactions.TCR_microbiome_interactions_functions2 import *\n",
    "from SampleLists.SampleFileFunctions import *\n",
    "from PhenotypicData.PhenotypeGenerationFunctions import *\n",
    "from CardioProject.CardioFunctions import *\n",
    "from PredictionPipeline.PredictionFunctions import *\n",
    "from TCR_feature_generation.SubsamplingFunctions import *\n",
    "\n",
    "import os\n",
    "from Utils import cacheOnDisk\n",
    "from SegalQueue.qp import qp,fakeqp\n",
    "from addloglevels import sethandlers\n",
    "\n",
    "#ML imports:\n",
    "from xgboost import XGBClassifier\n",
    "import lightgbm as lgb\n",
    "from collections import OrderedDict\n",
    "from sklearn.model_selection import GroupKFold,StratifiedKFold, KFold\n",
    "import statsmodels.formula.api as sm\n",
    "from sklearn.linear_model import LogisticRegression, LinearRegression\n",
    "import shap\n",
    "from sklearn import metrics, preprocessing\n",
    "from sklearn.svm import LinearSVC\n",
    "from sklearn.feature_selection import SelectFromModel,SelectKBest,chi2,mutual_info_classif,f_classif\n",
    "from sklearn.naive_bayes import GaussianNB\n",
    "\n",
    "MyPath='/net/mraid08/export/genie/Lab/Personal/ShaniBAF'\n",
    "\n",
    "with open('/net/mraid08/export/genie/Lab/Personal/ShaniBAF/Sample files/BD lists/PNP530','rb') as fp:\n",
    "    PNP530=pickle.load(fp)\n",
    "with open('/net/mraid08/export/genie/Lab/Personal/ShaniBAF/Sample files/BD lists/Cardio126','rb') as fp:\n",
    "    Cardio126=pickle.load(fp)\n",
    "PNP530Cardio126=PNP530+Cardio126\n"
   ]
  },
  {
   "cell_type": "code",
   "execution_count": 2,
   "metadata": {
    "ExecuteTime": {
     "end_time": "2018-11-11T15:12:20.636516Z",
     "start_time": "2018-11-11T15:12:20.628246Z"
    }
   },
   "outputs": [
    {
     "data": {
      "text/plain": [
       "'11112018'"
      ]
     },
     "execution_count": 2,
     "metadata": {},
     "output_type": "execute_result"
    }
   ],
   "source": [
    "import time\n",
    "cdate=str(time.strftime(\"%d%m%Y\"))\n",
    "cdate"
   ]
  },
  {
   "cell_type": "markdown",
   "metadata": {},
   "source": [
    "# generate new feature matrices:"
   ]
  },
  {
   "cell_type": "markdown",
   "metadata": {},
   "source": [
    "## seperate VDJ from rep features and delete all T features"
   ]
  },
  {
   "cell_type": "code",
   "execution_count": 3,
   "metadata": {
    "ExecuteTime": {
     "end_time": "2018-11-11T15:12:21.535639Z",
     "start_time": "2018-11-11T15:12:21.063904Z"
    }
   },
   "outputs": [
    {
     "name": "stdout",
     "output_type": "stream",
     "text": [
      "('df shape before processing is', (656, 658))\n",
      "('df shape after _T removal is', (656, 455))\n",
      "('vFamily', 'V.._0')\n",
      "sample sum:\n",
      "BD406    0.729657\n",
      "BD228    0.685586\n",
      "BD714    0.705802\n",
      "BD808    0.747204\n",
      "BD144    0.752444\n",
      "BD617    0.729953\n",
      "BD143    0.760222\n",
      "BD195    0.697622\n",
      "BD673    0.754687\n",
      "BD401    0.712963\n",
      "dtype: float64\n",
      "('vGene', 'V..-.._0')\n",
      "sample sum:\n",
      "BD406    0.997983\n",
      "BD228    0.998775\n",
      "BD714    0.997952\n",
      "BD808    0.998881\n",
      "BD144    0.999302\n",
      "BD617    0.998821\n",
      "BD143    0.999307\n",
      "BD195    0.998393\n",
      "BD673    1.000000\n",
      "BD401    0.998457\n",
      "dtype: float64\n",
      "('jGene', 'J..-.._0')\n",
      "sample sum:\n",
      "BD406    1.0\n",
      "BD228    1.0\n",
      "BD714    1.0\n",
      "BD808    1.0\n",
      "BD144    1.0\n",
      "BD617    1.0\n",
      "BD143    1.0\n",
      "BD195    1.0\n",
      "BD673    1.0\n",
      "BD401    1.0\n",
      "dtype: float64\n",
      "('dFamily', 'D.._0')\n",
      "sample sum:\n",
      "BD406    1.0\n",
      "BD228    1.0\n",
      "BD714    1.0\n",
      "BD808    1.0\n",
      "BD144    1.0\n",
      "BD617    1.0\n",
      "BD143    1.0\n",
      "BD195    1.0\n",
      "BD673    1.0\n",
      "BD401    1.0\n",
      "dtype: float64\n",
      "('VJ', 'V.._J.._0')\n",
      "sample sum:\n",
      "BD406    0.997983\n",
      "BD228    0.999183\n",
      "BD714    0.998635\n",
      "BD808    0.999254\n",
      "BD144    0.999651\n",
      "BD617    0.998821\n",
      "BD143    1.000000\n",
      "BD195    0.999036\n",
      "BD673    1.000000\n",
      "BD401    0.999486\n",
      "dtype: float64\n",
      "('DJ', 'D.._J..-.._0')\n",
      "sample sum:\n",
      "BD406    1.0\n",
      "BD228    1.0\n",
      "BD714    1.0\n",
      "BD808    1.0\n",
      "BD144    1.0\n",
      "BD617    1.0\n",
      "BD143    1.0\n",
      "BD195    1.0\n",
      "BD673    1.0\n",
      "BD401    1.0\n",
      "dtype: float64\n",
      "('vFamily', 'V.._1')\n",
      "sample sum:\n",
      "BD406    0.592696\n",
      "BD228    0.551560\n",
      "BD714    0.626160\n",
      "BD808    0.653651\n",
      "BD144    0.662755\n",
      "BD617    0.630611\n",
      "BD143    0.651510\n",
      "BD195    0.560004\n",
      "BD673    0.643720\n",
      "BD401    0.598307\n",
      "dtype: float64\n",
      "('vGene', 'V..-.._1')\n",
      "sample sum:\n",
      "BD406    1.000000\n",
      "BD228    1.000000\n",
      "BD714    1.000000\n",
      "BD808    1.000000\n",
      "BD144    1.000000\n",
      "BD617    1.000000\n",
      "BD143    1.000000\n",
      "BD195    0.999824\n",
      "BD673    0.999634\n",
      "BD401    1.000000\n",
      "dtype: float64\n",
      "('jGene', 'J..-.._1')\n",
      "sample sum:\n",
      "BD406    1.0\n",
      "BD228    1.0\n",
      "BD714    1.0\n",
      "BD808    1.0\n",
      "BD144    1.0\n",
      "BD617    1.0\n",
      "BD143    1.0\n",
      "BD195    1.0\n",
      "BD673    1.0\n",
      "BD401    1.0\n",
      "dtype: float64\n",
      "('dFamily', 'D.._1')\n",
      "sample sum:\n",
      "BD406    1.0\n",
      "BD228    1.0\n",
      "BD714    1.0\n",
      "BD808    1.0\n",
      "BD144    1.0\n",
      "BD617    1.0\n",
      "BD143    1.0\n",
      "BD195    1.0\n",
      "BD673    1.0\n",
      "BD401    1.0\n",
      "dtype: float64\n",
      "('VJ', 'V.._J.._1')\n",
      "sample sum:\n",
      "BD406    1.000000\n",
      "BD228    1.000000\n",
      "BD714    1.000000\n",
      "BD808    1.000000\n",
      "BD144    1.000000\n",
      "BD617    1.000000\n",
      "BD143    1.000000\n",
      "BD195    0.999824\n",
      "BD673    0.999634\n",
      "BD401    1.000000\n",
      "dtype: float64\n",
      "('DJ', 'D.._J..-.._1')\n",
      "sample sum:\n",
      "BD406    1.0\n",
      "BD228    1.0\n",
      "BD714    1.0\n",
      "BD808    1.0\n",
      "BD144    1.0\n",
      "BD617    1.0\n",
      "BD143    1.0\n",
      "BD195    1.0\n",
      "BD673    1.0\n",
      "BD401    1.0\n",
      "dtype: float64\n",
      "('df shape after processing is', (656, 147))\n",
      "('VDJ_df shape after processing is', (656, 308))\n"
     ]
    }
   ],
   "source": [
    "#load full X:\n",
    "f='allTCRfeatures_percShared10__withRels.dat'\n",
    "folder='%s/TCR_real_data/Predictions/featureDFs/' %MyPath\n",
    "f1=folder+f\n",
    "\n",
    "df=pd.read_pickle(f1)\n",
    "print ('df shape before processing is', df.shape)\n",
    "\n",
    "## delete all _T columns\n",
    "for col in df.columns:\n",
    "    if col.endswith('_T'):\n",
    "        df=df.drop(col,axis=1)\n",
    "    \n",
    "print ('df shape after _T removal is', df.shape)\n",
    "\n",
    "\n",
    "## remove all VDJ_0 and VDJ_1 columns to new df\n",
    "suffix_list=['0','1']\n",
    "VDJ_df=pd.DataFrame(index=df.index)\n",
    "df_list=[]\n",
    "for suffix in suffix_list:\n",
    "    regexList = [('vFamily', 'V.._%s' %suffix), ('vGene', 'V..-.._%s' %suffix), ('jGene', 'J..-.._%s' %suffix),\n",
    "                 ('dFamily', 'D.._%s' %suffix), ('VJ', 'V.._J.._%s' %suffix), ('DJ', 'D.._J..-.._%s' %suffix)]\n",
    "    for regex in regexList:\n",
    "        print regex\n",
    "        regex_item = re.compile(regex[1])\n",
    "        indices = [n for n in df.columns if re.match(regex_item, n)]\n",
    "        if regex[0] == 'VJ':\n",
    "            if 'VA_J01_%s' %suffix in df.columns:\n",
    "                indices=indices+['VA_J01_%s' %suffix]\n",
    "        df2 = df.loc[:,indices]\n",
    "        print 'sample sum:'\n",
    "        print df2.sum(axis=1).head(10)\n",
    "#         print df2.iloc[:4,:4]\n",
    "        df=df.drop(indices,axis=1)\n",
    "        df_list.append(df2)\n",
    "        VDJ_df=pd.merge(VDJ_df,df2,how='inner',left_index=True,right_index=True)\n",
    "           \n",
    "print ('df shape after processing is', df.shape)\n",
    "print ('VDJ_df shape after processing is', VDJ_df.shape)"
   ]
  },
  {
   "cell_type": "code",
   "execution_count": 4,
   "metadata": {
    "ExecuteTime": {
     "end_time": "2018-11-11T15:12:28.616446Z",
     "start_time": "2018-11-11T15:12:25.373031Z"
    }
   },
   "outputs": [],
   "source": [
    "# save small rep feature:\n",
    "folder='%s/TCR_real_data/Predictions/featureDFs/' %MyPath\n",
    "\n",
    "F1='allTCRfeatures_percShared10__withRels_noT.dat'\n",
    "f1=folder+F1\n",
    "df.to_pickle(f1)\n",
    "\n",
    "F2='allTCRfeatures_percShared10__withRels_noT.xlsx'\n",
    "f2=folder+F2\n",
    "df.to_excel(f2)"
   ]
  },
  {
   "cell_type": "code",
   "execution_count": 5,
   "metadata": {
    "ExecuteTime": {
     "end_time": "2018-11-11T15:12:32.394124Z",
     "start_time": "2018-11-11T15:12:32.380764Z"
    }
   },
   "outputs": [
    {
     "data": {
      "text/html": [
       "['AA count_0', 'AA count_1', 'NT count_0', 'NT count_1', 'berger_aa_0', 'berger_aa_1', 'berger_nt_0', 'berger_nt_1', 'cdr3Length_max_0', 'cdr3Length_max_1', 'cdr3Length_mean_0', 'cdr3Length_mean_1', 'cdr3Length_std_0', 'cdr3Length_std_1', 'count (templates)_max_0', 'count (templates)_max_1', 'count (templates)_mean_0', 'count (templates)_mean_1', 'count (templates)_std_0', 'count (templates)_std_1', 'd3Deletion_mean_0', 'd3Deletion_mean_1', 'd3Deletion_std_0', 'd3Deletion_std_1', 'd5Deletion_mean_0', 'd5Deletion_mean_1', 'd5Deletion_std_0', 'd5Deletion_std_1', 'frequencyCount (%)_max_0', 'frequencyCount (%)_max_1', 'frequencyCount (%)_mean_0', 'frequencyCount (%)_mean_1', 'frequencyCount (%)_std_0', 'frequencyCount (%)_std_1', 'gc_content_0', 'gc_content_1', 'jDeletion_max_0', 'jDeletion_max_1', 'jDeletion_mean_0', 'jDeletion_mean_1', 'jDeletion_std_0', 'jDeletion_std_1', 'max_nt_per_aa_0', 'max_nt_per_aa_1', 'mean_nt_per_aa_0', 'mean_nt_per_aa_1', 'n1Insertion_max_0', 'n1Insertion_max_1', 'n1Insertion_mean_0', 'n1Insertion_mean_1', 'n1Insertion_std_0', 'n1Insertion_std_1', 'n2Insertion_max_0', 'n2Insertion_max_1', 'n2Insertion_mean_0', 'n2Insertion_mean_1', 'n2Insertion_std_0', 'n2Insertion_std_1', 'normSeqNums_per2000_NT_0', 'normSeqNums_per2000_NT_1', 'normSeqNums_per200_AA_0', 'normSeqNums_per200_AA_1', 'shannon_aa_0', 'shannon_aa_1', 'shannon_nt_0', 'shannon_nt_1', 'simpson_aa_0', 'simpson_aa_1', 'simpson_nt_0', 'simpson_nt_1', 'top1000clonal_aa_1', 'top1000clonal_nt_0', 'top1000clonal_nt_1', 'top10clonal_aa_0', 'top10clonal_aa_1', 'top10clonal_nt_0', 'top10clonal_nt_1', 'vDeletion_max_0', 'vDeletion_max_1', 'vDeletion_mean_0', 'vDeletion_mean_1', 'vDeletion_std_0', 'vDeletion_std_1', u'Allergy_rel_cum_freq(perc)', u'Allergy_rel_seq_count', u'BreastCancer_rel_cum_freq(perc)', u'BreastCancer_rel_seq_count', u'CMV_rel_cum_freq(perc)', u'CMV_rel_seq_count', u'CalcifiedAorticStenosisdisease_rel_cum_freq(perc)', u'CalcifiedAorticStenosisdisease_rel_seq_count', u'Carcinoma_rel_cum_freq(perc)', u'Carcinoma_rel_seq_count', u'Celiacdisease_rel_cum_freq(perc)', u'Celiacdisease_rel_seq_count', u'Colorectalcancer_rel_cum_freq(perc)', u'Colorectalcancer_rel_seq_count', u'DENV_rel_cum_freq(perc)', u'DENV_rel_seq_count', u'DiabetesType1_rel_cum_freq(perc)', u'DiabetesType1_rel_seq_count', u'EBV_rel_cum_freq(perc)', u'EBV_rel_seq_count', u'GraftVsHostDisease_rel_cum_freq(perc)', u'HCV_rel_cum_freq(perc)', u'HCV_rel_seq_count', u'HIV_rel_cum_freq(perc)', u'HIV_rel_seq_count', u'HSV_rel_cum_freq(perc)', u'HTLV_rel_seq_count', u'HomoSapiens_rel_cum_freq(perc)', u'HomoSapiens_rel_seq_count', u'Influenza_rel_cum_freq(perc)', u'Influenza_rel_seq_count', u'LCMV_rel_cum_freq(perc)', u'LCMV_rel_seq_count', u'Leukemia_rel_cum_freq(perc)', u'Lungcancer_rel_cum_freq(perc)', u'Lupus_rel_cum_freq(perc)', u'M.tuberculosis_rel_cum_freq(perc)', u'M.tuberculosis_rel_seq_count', u'Melanoma_rel_cum_freq(perc)', u'Melanoma_rel_seq_count', u'Multiplesclerosis_rel_cum_freq(perc)', u'Multiplesclerosis_rel_seq_count', u'Plasmodiumberghei_rel_cum_freq(perc)', u'RSV_rel_cum_freq(perc)', u'RheumatoidArthritis_rel_cum_freq(perc)', u'RheumatoidArthritis_rel_seq_count', u'SIV_rel_cum_freq(perc)', u'SIV_rel_seq_count', u'WestNilevirus_rel_cum_freq(perc)', u'WestNilevirus_rel_seq_count', u'YellowFeverVirus_rel_cum_freq(perc)', u'YellowFeverVirus_rel_seq_count', u'totalAnnotateSeqs', u'totalAnnotatefreqs', 'PC1', 'PC2', 'PC3', 'PC4', 'PC5', 'PC6', 'PC7', 'PC8', 'PC9', 'PC10']"
      ],
      "text/plain": [
       "['AA count_0',\n",
       " 'AA count_1',\n",
       " 'NT count_0',\n",
       " 'NT count_1',\n",
       " 'berger_aa_0',\n",
       " 'berger_aa_1',\n",
       " 'berger_nt_0',\n",
       " 'berger_nt_1',\n",
       " 'cdr3Length_max_0',\n",
       " 'cdr3Length_max_1',\n",
       " 'cdr3Length_mean_0',\n",
       " 'cdr3Length_mean_1',\n",
       " 'cdr3Length_std_0',\n",
       " 'cdr3Length_std_1',\n",
       " 'count (templates)_max_0',\n",
       " 'count (templates)_max_1',\n",
       " 'count (templates)_mean_0',\n",
       " 'count (templates)_mean_1',\n",
       " 'count (templates)_std_0',\n",
       " 'count (templates)_std_1',\n",
       " 'd3Deletion_mean_0',\n",
       " 'd3Deletion_mean_1',\n",
       " 'd3Deletion_std_0',\n",
       " 'd3Deletion_std_1',\n",
       " 'd5Deletion_mean_0',\n",
       " 'd5Deletion_mean_1',\n",
       " 'd5Deletion_std_0',\n",
       " 'd5Deletion_std_1',\n",
       " 'frequencyCount (%)_max_0',\n",
       " 'frequencyCount (%)_max_1',\n",
       " 'frequencyCount (%)_mean_0',\n",
       " 'frequencyCount (%)_mean_1',\n",
       " 'frequencyCount (%)_std_0',\n",
       " 'frequencyCount (%)_std_1',\n",
       " 'gc_content_0',\n",
       " 'gc_content_1',\n",
       " 'jDeletion_max_0',\n",
       " 'jDeletion_max_1',\n",
       " 'jDeletion_mean_0',\n",
       " 'jDeletion_mean_1',\n",
       " 'jDeletion_std_0',\n",
       " 'jDeletion_std_1',\n",
       " 'max_nt_per_aa_0',\n",
       " 'max_nt_per_aa_1',\n",
       " 'mean_nt_per_aa_0',\n",
       " 'mean_nt_per_aa_1',\n",
       " 'n1Insertion_max_0',\n",
       " 'n1Insertion_max_1',\n",
       " 'n1Insertion_mean_0',\n",
       " 'n1Insertion_mean_1',\n",
       " 'n1Insertion_std_0',\n",
       " 'n1Insertion_std_1',\n",
       " 'n2Insertion_max_0',\n",
       " 'n2Insertion_max_1',\n",
       " 'n2Insertion_mean_0',\n",
       " 'n2Insertion_mean_1',\n",
       " 'n2Insertion_std_0',\n",
       " 'n2Insertion_std_1',\n",
       " 'normSeqNums_per2000_NT_0',\n",
       " 'normSeqNums_per2000_NT_1',\n",
       " 'normSeqNums_per200_AA_0',\n",
       " 'normSeqNums_per200_AA_1',\n",
       " 'shannon_aa_0',\n",
       " 'shannon_aa_1',\n",
       " 'shannon_nt_0',\n",
       " 'shannon_nt_1',\n",
       " 'simpson_aa_0',\n",
       " 'simpson_aa_1',\n",
       " 'simpson_nt_0',\n",
       " 'simpson_nt_1',\n",
       " 'top1000clonal_aa_1',\n",
       " 'top1000clonal_nt_0',\n",
       " 'top1000clonal_nt_1',\n",
       " 'top10clonal_aa_0',\n",
       " 'top10clonal_aa_1',\n",
       " 'top10clonal_nt_0',\n",
       " 'top10clonal_nt_1',\n",
       " 'vDeletion_max_0',\n",
       " 'vDeletion_max_1',\n",
       " 'vDeletion_mean_0',\n",
       " 'vDeletion_mean_1',\n",
       " 'vDeletion_std_0',\n",
       " 'vDeletion_std_1',\n",
       " u'Allergy_rel_cum_freq(perc)',\n",
       " u'Allergy_rel_seq_count',\n",
       " u'BreastCancer_rel_cum_freq(perc)',\n",
       " u'BreastCancer_rel_seq_count',\n",
       " u'CMV_rel_cum_freq(perc)',\n",
       " u'CMV_rel_seq_count',\n",
       " u'CalcifiedAorticStenosisdisease_rel_cum_freq(perc)',\n",
       " u'CalcifiedAorticStenosisdisease_rel_seq_count',\n",
       " u'Carcinoma_rel_cum_freq(perc)',\n",
       " u'Carcinoma_rel_seq_count',\n",
       " u'Celiacdisease_rel_cum_freq(perc)',\n",
       " u'Celiacdisease_rel_seq_count',\n",
       " u'Colorectalcancer_rel_cum_freq(perc)',\n",
       " u'Colorectalcancer_rel_seq_count',\n",
       " u'DENV_rel_cum_freq(perc)',\n",
       " u'DENV_rel_seq_count',\n",
       " u'DiabetesType1_rel_cum_freq(perc)',\n",
       " u'DiabetesType1_rel_seq_count',\n",
       " u'EBV_rel_cum_freq(perc)',\n",
       " u'EBV_rel_seq_count',\n",
       " u'GraftVsHostDisease_rel_cum_freq(perc)',\n",
       " u'HCV_rel_cum_freq(perc)',\n",
       " u'HCV_rel_seq_count',\n",
       " u'HIV_rel_cum_freq(perc)',\n",
       " u'HIV_rel_seq_count',\n",
       " u'HSV_rel_cum_freq(perc)',\n",
       " u'HTLV_rel_seq_count',\n",
       " u'HomoSapiens_rel_cum_freq(perc)',\n",
       " u'HomoSapiens_rel_seq_count',\n",
       " u'Influenza_rel_cum_freq(perc)',\n",
       " u'Influenza_rel_seq_count',\n",
       " u'LCMV_rel_cum_freq(perc)',\n",
       " u'LCMV_rel_seq_count',\n",
       " u'Leukemia_rel_cum_freq(perc)',\n",
       " u'Lungcancer_rel_cum_freq(perc)',\n",
       " u'Lupus_rel_cum_freq(perc)',\n",
       " u'M.tuberculosis_rel_cum_freq(perc)',\n",
       " u'M.tuberculosis_rel_seq_count',\n",
       " u'Melanoma_rel_cum_freq(perc)',\n",
       " u'Melanoma_rel_seq_count',\n",
       " u'Multiplesclerosis_rel_cum_freq(perc)',\n",
       " u'Multiplesclerosis_rel_seq_count',\n",
       " u'Plasmodiumberghei_rel_cum_freq(perc)',\n",
       " u'RSV_rel_cum_freq(perc)',\n",
       " u'RheumatoidArthritis_rel_cum_freq(perc)',\n",
       " u'RheumatoidArthritis_rel_seq_count',\n",
       " u'SIV_rel_cum_freq(perc)',\n",
       " u'SIV_rel_seq_count',\n",
       " u'WestNilevirus_rel_cum_freq(perc)',\n",
       " u'WestNilevirus_rel_seq_count',\n",
       " u'YellowFeverVirus_rel_cum_freq(perc)',\n",
       " u'YellowFeverVirus_rel_seq_count',\n",
       " u'totalAnnotateSeqs',\n",
       " u'totalAnnotatefreqs',\n",
       " 'PC1',\n",
       " 'PC2',\n",
       " 'PC3',\n",
       " 'PC4',\n",
       " 'PC5',\n",
       " 'PC6',\n",
       " 'PC7',\n",
       " 'PC8',\n",
       " 'PC9',\n",
       " 'PC10']"
      ]
     },
     "execution_count": 5,
     "metadata": {},
     "output_type": "execute_result"
    }
   ],
   "source": [
    "df.columns.tolist()"
   ]
  },
  {
   "cell_type": "code",
   "execution_count": 6,
   "metadata": {
    "ExecuteTime": {
     "end_time": "2018-11-11T15:12:36.215624Z",
     "start_time": "2018-11-11T15:12:36.194862Z"
    }
   },
   "outputs": [
    {
     "data": {
      "text/html": [
       "['V03_0', 'V04_0', 'V05_0', 'V06_0', 'V07_0', 'V10_0', 'V11_0', 'V12_0', 'V21_0', 'V23_0', 'V25_0', 'V29_0', 'V01-01_0', 'V02-01_0', 'V03-01_0', 'V03-02_0', 'V04-01_0', 'V04-02_0', 'V04-03_0', 'V05-01_0', 'V05-03_0', 'V05-04_0', 'V05-05_0', 'V05-06_0', 'V05-07_0', 'V05-08_0', 'V06-01_0', 'V06-04_0', 'V06-05_0', 'V06-06_0', 'V06-07_0', 'V06-08_0', 'V06-09_0', 'V07-02_0', 'V07-03_0', 'V07-04_0', 'V07-05_0', 'V07-06_0', 'V07-07_0', 'V07-08_0', 'V07-09_0', 'V09-01_0', 'V10-01_0', 'V10-02_0', 'V10-03_0', 'V11-01_0', 'V11-02_0', 'V11-03_0', 'V12-01_0', 'V12-02_0', 'V12-05_0', 'V13-01_0', 'V14-01_0', 'V15-01_0', 'V18-01_0', 'V19-01_0', 'V20-01_0', 'V21-01_0', 'V23-01_0', 'V25-01_0', 'V27-01_0', 'V28-01_0', 'V29-01_0', 'V30-01_0', 'J01-01_0', 'J01-02_0', 'J01-03_0', 'J01-04_0', 'J01-05_0', 'J01-06_0', 'J02-01_0', 'J02-02_0', 'J02-03_0', 'J02-04_0', 'J02-05_0', 'J02-06_0', 'J02-07_0', 'D01_0', 'D02_0', 'V01_J01_0', 'V01_J02_0', 'V02_J01_0', 'V02_J02_0', 'V03_J01_0', 'V03_J02_0', 'V04_J01_0', 'V04_J02_0', 'V05_J01_0', 'V05_J02_0', 'V06_J01_0', 'V06_J02_0', 'V07_J01_0', 'V07_J02_0', 'V09_J01_0', 'V09_J02_0', 'V10_J01_0', 'V10_J02_0', 'V11_J01_0', 'V11_J02_0', 'V12_J01_0', 'V12_J02_0', 'V13_J01_0', 'V13_J02_0', 'V14_J01_0', 'V14_J02_0', 'V15_J01_0', 'V15_J02_0', 'V16_J01_0', 'V18_J01_0', 'V18_J02_0', 'V19_J01_0', 'V19_J02_0', 'V20_J01_0', 'V20_J02_0', 'V21_J01_0', 'V21_J02_0', 'V23_J01_0', 'V23_J02_0', 'V25_J01_0', 'V25_J02_0', 'V27_J01_0', 'V27_J02_0', 'V28_J01_0', 'V28_J02_0', 'V29_J01_0', 'V29_J02_0', 'V30_J01_0', 'V30_J02_0', 'VA_J01_0', 'D01_J01-01_0', 'D01_J01-02_0', 'D01_J01-03_0', 'D01_J01-04_0', 'D01_J01-05_0', 'D01_J01-06_0', 'D01_J02-01_0', 'D01_J02-02_0', 'D01_J02-03_0', 'D01_J02-04_0', 'D01_J02-05_0', 'D01_J02-06_0', 'D01_J02-07_0', 'D02_J01-01_0', 'D02_J01-02_0', 'D02_J01-03_0', 'D02_J01-04_0', 'D02_J01-05_0', 'D02_J01-06_0', 'D02_J02-01_0', 'D02_J02-02_0', 'D02_J02-03_0', 'D02_J02-04_0', 'D02_J02-05_0', 'D02_J02-06_0', 'D02_J02-07_0', 'V03_1', 'V04_1', 'V05_1', 'V06_1', 'V07_1', 'V10_1', 'V11_1', 'V12_1', 'V20_1', 'V25_1', 'V01-01_1', 'V02-01_1', 'V03-02_1', 'V04-01_1', 'V04-02_1', 'V04-03_1', 'V05-01_1', 'V05-02_1', 'V05-03_1', 'V05-04_1', 'V05-05_1', 'V05-06_1', 'V05-07_1', 'V05-08_1', 'V06-01_1', 'V06-04_1', 'V06-05_1', 'V06-06_1', 'V06-07_1', 'V06-08_1', 'V06-09_1', 'V07-01_1', 'V07-02_1', 'V07-03_1', 'V07-04_1', 'V07-05_1', 'V07-06_1', 'V07-07_1', 'V07-08_1', 'V07-09_1', 'V09-01_1', 'V10-01_1', 'V10-02_1', 'V10-03_1', 'V11-01_1', 'V11-02_1', 'V11-03_1', 'V12-01_1', 'V12-02_1', 'V12-05_1', 'V13-01_1', 'V14-01_1', 'V15-01_1', 'V16-01_1', 'V18-01_1', 'V19-01_1', 'V20-01_1', 'V21-01_1', 'V23-01_1', 'V25-01_1', 'V27-01_1', 'V28-01_1', 'V29-01_1', 'V30-01_1', 'J01-01_1', 'J01-02_1', 'J01-03_1', 'J01-04_1', 'J01-05_1', 'J01-06_1', 'J02-01_1', 'J02-02_1', 'J02-03_1', 'J02-04_1', 'J02-05_1', 'J02-06_1', 'J02-07_1', 'D01_1', 'D02_1', 'V01_J01_1', 'V01_J02_1', 'V02_J01_1', 'V02_J02_1', 'V04_J01_1', 'V04_J02_1', 'V05_J01_1', 'V05_J02_1', 'V06_J01_1', 'V06_J02_1', 'V07_J01_1', 'V07_J02_1', 'V09_J01_1', 'V09_J02_1', 'V10_J01_1', 'V10_J02_1', 'V11_J01_1', 'V11_J02_1', 'V12_J01_1', 'V12_J02_1', 'V13_J01_1', 'V13_J02_1', 'V14_J01_1', 'V14_J02_1', 'V15_J01_1', 'V15_J02_1', 'V16_J01_1', 'V16_J02_1', 'V18_J01_1', 'V18_J02_1', 'V19_J01_1', 'V19_J02_1', 'V20_J01_1', 'V20_J02_1', 'V21_J01_1', 'V21_J02_1', 'V23_J01_1', 'V23_J02_1', 'V25_J01_1', 'V25_J02_1', 'V27_J01_1', 'V27_J02_1', 'V28_J01_1', 'V28_J02_1', 'V29_J01_1', 'V29_J02_1', 'V30_J01_1', 'V30_J02_1', 'D01_J01-01_1', 'D01_J01-02_1', 'D01_J01-03_1', 'D01_J01-04_1', 'D01_J01-05_1', 'D01_J01-06_1', 'D01_J02-01_1', 'D01_J02-02_1', 'D01_J02-03_1', 'D01_J02-04_1', 'D01_J02-05_1', 'D01_J02-06_1', 'D01_J02-07_1', 'D02_J01-01_1', 'D02_J01-02_1', 'D02_J01-03_1', 'D02_J01-04_1', 'D02_J01-05_1', 'D02_J01-06_1', 'D02_J02-01_1', 'D02_J02-02_1', 'D02_J02-03_1', 'D02_J02-04_1', 'D02_J02-05_1', 'D02_J02-06_1', 'D02_J02-07_1']"
      ],
      "text/plain": [
       "['V03_0',\n",
       " 'V04_0',\n",
       " 'V05_0',\n",
       " 'V06_0',\n",
       " 'V07_0',\n",
       " 'V10_0',\n",
       " 'V11_0',\n",
       " 'V12_0',\n",
       " 'V21_0',\n",
       " 'V23_0',\n",
       " 'V25_0',\n",
       " 'V29_0',\n",
       " 'V01-01_0',\n",
       " 'V02-01_0',\n",
       " 'V03-01_0',\n",
       " 'V03-02_0',\n",
       " 'V04-01_0',\n",
       " 'V04-02_0',\n",
       " 'V04-03_0',\n",
       " 'V05-01_0',\n",
       " 'V05-03_0',\n",
       " 'V05-04_0',\n",
       " 'V05-05_0',\n",
       " 'V05-06_0',\n",
       " 'V05-07_0',\n",
       " 'V05-08_0',\n",
       " 'V06-01_0',\n",
       " 'V06-04_0',\n",
       " 'V06-05_0',\n",
       " 'V06-06_0',\n",
       " 'V06-07_0',\n",
       " 'V06-08_0',\n",
       " 'V06-09_0',\n",
       " 'V07-02_0',\n",
       " 'V07-03_0',\n",
       " 'V07-04_0',\n",
       " 'V07-05_0',\n",
       " 'V07-06_0',\n",
       " 'V07-07_0',\n",
       " 'V07-08_0',\n",
       " 'V07-09_0',\n",
       " 'V09-01_0',\n",
       " 'V10-01_0',\n",
       " 'V10-02_0',\n",
       " 'V10-03_0',\n",
       " 'V11-01_0',\n",
       " 'V11-02_0',\n",
       " 'V11-03_0',\n",
       " 'V12-01_0',\n",
       " 'V12-02_0',\n",
       " 'V12-05_0',\n",
       " 'V13-01_0',\n",
       " 'V14-01_0',\n",
       " 'V15-01_0',\n",
       " 'V18-01_0',\n",
       " 'V19-01_0',\n",
       " 'V20-01_0',\n",
       " 'V21-01_0',\n",
       " 'V23-01_0',\n",
       " 'V25-01_0',\n",
       " 'V27-01_0',\n",
       " 'V28-01_0',\n",
       " 'V29-01_0',\n",
       " 'V30-01_0',\n",
       " 'J01-01_0',\n",
       " 'J01-02_0',\n",
       " 'J01-03_0',\n",
       " 'J01-04_0',\n",
       " 'J01-05_0',\n",
       " 'J01-06_0',\n",
       " 'J02-01_0',\n",
       " 'J02-02_0',\n",
       " 'J02-03_0',\n",
       " 'J02-04_0',\n",
       " 'J02-05_0',\n",
       " 'J02-06_0',\n",
       " 'J02-07_0',\n",
       " 'D01_0',\n",
       " 'D02_0',\n",
       " 'V01_J01_0',\n",
       " 'V01_J02_0',\n",
       " 'V02_J01_0',\n",
       " 'V02_J02_0',\n",
       " 'V03_J01_0',\n",
       " 'V03_J02_0',\n",
       " 'V04_J01_0',\n",
       " 'V04_J02_0',\n",
       " 'V05_J01_0',\n",
       " 'V05_J02_0',\n",
       " 'V06_J01_0',\n",
       " 'V06_J02_0',\n",
       " 'V07_J01_0',\n",
       " 'V07_J02_0',\n",
       " 'V09_J01_0',\n",
       " 'V09_J02_0',\n",
       " 'V10_J01_0',\n",
       " 'V10_J02_0',\n",
       " 'V11_J01_0',\n",
       " 'V11_J02_0',\n",
       " 'V12_J01_0',\n",
       " 'V12_J02_0',\n",
       " 'V13_J01_0',\n",
       " 'V13_J02_0',\n",
       " 'V14_J01_0',\n",
       " 'V14_J02_0',\n",
       " 'V15_J01_0',\n",
       " 'V15_J02_0',\n",
       " 'V16_J01_0',\n",
       " 'V18_J01_0',\n",
       " 'V18_J02_0',\n",
       " 'V19_J01_0',\n",
       " 'V19_J02_0',\n",
       " 'V20_J01_0',\n",
       " 'V20_J02_0',\n",
       " 'V21_J01_0',\n",
       " 'V21_J02_0',\n",
       " 'V23_J01_0',\n",
       " 'V23_J02_0',\n",
       " 'V25_J01_0',\n",
       " 'V25_J02_0',\n",
       " 'V27_J01_0',\n",
       " 'V27_J02_0',\n",
       " 'V28_J01_0',\n",
       " 'V28_J02_0',\n",
       " 'V29_J01_0',\n",
       " 'V29_J02_0',\n",
       " 'V30_J01_0',\n",
       " 'V30_J02_0',\n",
       " 'VA_J01_0',\n",
       " 'D01_J01-01_0',\n",
       " 'D01_J01-02_0',\n",
       " 'D01_J01-03_0',\n",
       " 'D01_J01-04_0',\n",
       " 'D01_J01-05_0',\n",
       " 'D01_J01-06_0',\n",
       " 'D01_J02-01_0',\n",
       " 'D01_J02-02_0',\n",
       " 'D01_J02-03_0',\n",
       " 'D01_J02-04_0',\n",
       " 'D01_J02-05_0',\n",
       " 'D01_J02-06_0',\n",
       " 'D01_J02-07_0',\n",
       " 'D02_J01-01_0',\n",
       " 'D02_J01-02_0',\n",
       " 'D02_J01-03_0',\n",
       " 'D02_J01-04_0',\n",
       " 'D02_J01-05_0',\n",
       " 'D02_J01-06_0',\n",
       " 'D02_J02-01_0',\n",
       " 'D02_J02-02_0',\n",
       " 'D02_J02-03_0',\n",
       " 'D02_J02-04_0',\n",
       " 'D02_J02-05_0',\n",
       " 'D02_J02-06_0',\n",
       " 'D02_J02-07_0',\n",
       " 'V03_1',\n",
       " 'V04_1',\n",
       " 'V05_1',\n",
       " 'V06_1',\n",
       " 'V07_1',\n",
       " 'V10_1',\n",
       " 'V11_1',\n",
       " 'V12_1',\n",
       " 'V20_1',\n",
       " 'V25_1',\n",
       " 'V01-01_1',\n",
       " 'V02-01_1',\n",
       " 'V03-02_1',\n",
       " 'V04-01_1',\n",
       " 'V04-02_1',\n",
       " 'V04-03_1',\n",
       " 'V05-01_1',\n",
       " 'V05-02_1',\n",
       " 'V05-03_1',\n",
       " 'V05-04_1',\n",
       " 'V05-05_1',\n",
       " 'V05-06_1',\n",
       " 'V05-07_1',\n",
       " 'V05-08_1',\n",
       " 'V06-01_1',\n",
       " 'V06-04_1',\n",
       " 'V06-05_1',\n",
       " 'V06-06_1',\n",
       " 'V06-07_1',\n",
       " 'V06-08_1',\n",
       " 'V06-09_1',\n",
       " 'V07-01_1',\n",
       " 'V07-02_1',\n",
       " 'V07-03_1',\n",
       " 'V07-04_1',\n",
       " 'V07-05_1',\n",
       " 'V07-06_1',\n",
       " 'V07-07_1',\n",
       " 'V07-08_1',\n",
       " 'V07-09_1',\n",
       " 'V09-01_1',\n",
       " 'V10-01_1',\n",
       " 'V10-02_1',\n",
       " 'V10-03_1',\n",
       " 'V11-01_1',\n",
       " 'V11-02_1',\n",
       " 'V11-03_1',\n",
       " 'V12-01_1',\n",
       " 'V12-02_1',\n",
       " 'V12-05_1',\n",
       " 'V13-01_1',\n",
       " 'V14-01_1',\n",
       " 'V15-01_1',\n",
       " 'V16-01_1',\n",
       " 'V18-01_1',\n",
       " 'V19-01_1',\n",
       " 'V20-01_1',\n",
       " 'V21-01_1',\n",
       " 'V23-01_1',\n",
       " 'V25-01_1',\n",
       " 'V27-01_1',\n",
       " 'V28-01_1',\n",
       " 'V29-01_1',\n",
       " 'V30-01_1',\n",
       " 'J01-01_1',\n",
       " 'J01-02_1',\n",
       " 'J01-03_1',\n",
       " 'J01-04_1',\n",
       " 'J01-05_1',\n",
       " 'J01-06_1',\n",
       " 'J02-01_1',\n",
       " 'J02-02_1',\n",
       " 'J02-03_1',\n",
       " 'J02-04_1',\n",
       " 'J02-05_1',\n",
       " 'J02-06_1',\n",
       " 'J02-07_1',\n",
       " 'D01_1',\n",
       " 'D02_1',\n",
       " 'V01_J01_1',\n",
       " 'V01_J02_1',\n",
       " 'V02_J01_1',\n",
       " 'V02_J02_1',\n",
       " 'V04_J01_1',\n",
       " 'V04_J02_1',\n",
       " 'V05_J01_1',\n",
       " 'V05_J02_1',\n",
       " 'V06_J01_1',\n",
       " 'V06_J02_1',\n",
       " 'V07_J01_1',\n",
       " 'V07_J02_1',\n",
       " 'V09_J01_1',\n",
       " 'V09_J02_1',\n",
       " 'V10_J01_1',\n",
       " 'V10_J02_1',\n",
       " 'V11_J01_1',\n",
       " 'V11_J02_1',\n",
       " 'V12_J01_1',\n",
       " 'V12_J02_1',\n",
       " 'V13_J01_1',\n",
       " 'V13_J02_1',\n",
       " 'V14_J01_1',\n",
       " 'V14_J02_1',\n",
       " 'V15_J01_1',\n",
       " 'V15_J02_1',\n",
       " 'V16_J01_1',\n",
       " 'V16_J02_1',\n",
       " 'V18_J01_1',\n",
       " 'V18_J02_1',\n",
       " 'V19_J01_1',\n",
       " 'V19_J02_1',\n",
       " 'V20_J01_1',\n",
       " 'V20_J02_1',\n",
       " 'V21_J01_1',\n",
       " 'V21_J02_1',\n",
       " 'V23_J01_1',\n",
       " 'V23_J02_1',\n",
       " 'V25_J01_1',\n",
       " 'V25_J02_1',\n",
       " 'V27_J01_1',\n",
       " 'V27_J02_1',\n",
       " 'V28_J01_1',\n",
       " 'V28_J02_1',\n",
       " 'V29_J01_1',\n",
       " 'V29_J02_1',\n",
       " 'V30_J01_1',\n",
       " 'V30_J02_1',\n",
       " 'D01_J01-01_1',\n",
       " 'D01_J01-02_1',\n",
       " 'D01_J01-03_1',\n",
       " 'D01_J01-04_1',\n",
       " 'D01_J01-05_1',\n",
       " 'D01_J01-06_1',\n",
       " 'D01_J02-01_1',\n",
       " 'D01_J02-02_1',\n",
       " 'D01_J02-03_1',\n",
       " 'D01_J02-04_1',\n",
       " 'D01_J02-05_1',\n",
       " 'D01_J02-06_1',\n",
       " 'D01_J02-07_1',\n",
       " 'D02_J01-01_1',\n",
       " 'D02_J01-02_1',\n",
       " 'D02_J01-03_1',\n",
       " 'D02_J01-04_1',\n",
       " 'D02_J01-05_1',\n",
       " 'D02_J01-06_1',\n",
       " 'D02_J02-01_1',\n",
       " 'D02_J02-02_1',\n",
       " 'D02_J02-03_1',\n",
       " 'D02_J02-04_1',\n",
       " 'D02_J02-05_1',\n",
       " 'D02_J02-06_1',\n",
       " 'D02_J02-07_1']"
      ]
     },
     "execution_count": 6,
     "metadata": {},
     "output_type": "execute_result"
    }
   ],
   "source": [
    "VDJ_df.columns.tolist()"
   ]
  },
  {
   "cell_type": "markdown",
   "metadata": {},
   "source": [
    "## remove rare VDJ columns"
   ]
  },
  {
   "cell_type": "markdown",
   "metadata": {},
   "source": [
    "### check what is a good threshold for 'rare' V/D/J freq:"
   ]
  },
  {
   "cell_type": "code",
   "execution_count": 7,
   "metadata": {
    "ExecuteTime": {
     "end_time": "2018-11-11T15:12:40.870297Z",
     "start_time": "2018-11-11T15:12:39.958752Z"
    }
   },
   "outputs": [
    {
     "data": {
      "image/png": "[encoded data removed]",
      "text/plain": [
       "<matplotlib.figure.Figure at 0x7f6a65b2c490>"
      ]
     },
     "metadata": {},
     "output_type": "display_data"
    }
   ],
   "source": [
    "VDJ_df.max(axis=0).hist(bins=200)\n",
    "plt.show()"
   ]
  },
  {
   "cell_type": "code",
   "execution_count": 8,
   "metadata": {
    "ExecuteTime": {
     "end_time": "2018-11-11T15:12:44.714014Z",
     "start_time": "2018-11-11T15:12:44.653570Z"
    }
   },
   "outputs": [
    {
     "name": "stdout",
     "output_type": "stream",
     "text": [
      "V03_0\n",
      "V03-01_0\n",
      "V03-02_0\n",
      "V05-07_0\n",
      "V01_J01_0\n",
      "V03_J01_0\n",
      "V03_J02_0\n",
      "V16_J01_0\n",
      "V20_J01_0\n",
      "V20_J02_0\n",
      "VA_J01_0\n",
      "V03_1\n",
      "V01-01_1\n",
      "V03-02_1\n",
      "V05-02_1\n",
      "V05-03_1\n",
      "V05-07_1\n",
      "V06-07_1\n",
      "V06-08_1\n",
      "V06-09_1\n",
      "V07-01_1\n",
      "V07-04_1\n",
      "V07-05_1\n",
      "V07-07_1\n",
      "V12-01_1\n",
      "V12-02_1\n",
      "V16-01_1\n",
      "V23-01_1\n",
      "V01_J01_1\n",
      "V01_J02_1\n",
      "V12_J01_1\n",
      "V13_J01_1\n",
      "V16_J01_1\n",
      "V16_J02_1\n",
      "V20_J01_1\n",
      "V20_J02_1\n",
      "V21_J01_1\n",
      "V23_J01_1\n",
      "V23_J02_1\n",
      "V25_J01_1\n",
      "('total col number: ', 308)\n",
      "('number of cols with max smaller than ', 0.01, ' ', 40)\n"
     ]
    }
   ],
   "source": [
    "t=0.01\n",
    "count=0\n",
    "for col in VDJ_df.columns:\n",
    "    if VDJ_df[col].max()<t:\n",
    "        print col\n",
    "        count=count+1\n",
    "\n",
    "print ('total col number: ', len(VDJ_df.columns))\n",
    "print ('number of cols with max smaller than ',t,' ',count)"
   ]
  },
  {
   "cell_type": "markdown",
   "metadata": {},
   "source": [
    "CONCLUSION: 0.01 is a good threshold- removing 40 columns out of 308"
   ]
  },
  {
   "cell_type": "markdown",
   "metadata": {},
   "source": [
    "### remove rare columns from VDJ_db:"
   ]
  },
  {
   "cell_type": "code",
   "execution_count": 9,
   "metadata": {
    "ExecuteTime": {
     "end_time": "2018-11-11T15:12:48.575864Z",
     "start_time": "2018-11-11T15:12:48.453119Z"
    }
   },
   "outputs": [
    {
     "name": "stdout",
     "output_type": "stream",
     "text": [
      "('n columns in VDJ_df', 308)\n",
      "('n columns in VDJ_db', 268)\n"
     ]
    }
   ],
   "source": [
    "print ('n columns in VDJ_df',len(VDJ_df.columns))\n",
    "for col in VDJ_df.columns:\n",
    "    if VDJ_df[col].max()<0.01:\n",
    "        VDJ_df=VDJ_df.drop(col,axis=1)\n",
    "print ('n columns in VDJ_db',len(VDJ_df.columns))      "
   ]
  },
  {
   "cell_type": "code",
   "execution_count": 10,
   "metadata": {
    "ExecuteTime": {
     "end_time": "2018-11-11T15:12:58.172964Z",
     "start_time": "2018-11-11T15:12:52.321276Z"
    }
   },
   "outputs": [],
   "source": [
    "# save small rep feature:\n",
    "folder='%s/TCR_real_data/Predictions/featureDFs/' %MyPath\n",
    "\n",
    "F3='VDJ_no0-01rare.dat'\n",
    "f3=folder+F3\n",
    "VDJ_df.to_pickle(f3)\n",
    "\n",
    "F4='VDJ_no0-01rare.xlsx'\n",
    "f4=folder+F4\n",
    "VDJ_df.to_excel(f4)"
   ]
  },
  {
   "cell_type": "markdown",
   "metadata": {},
   "source": [
    "## analyze and process rep_features and VDJ dfs (remove correlated, fillnas, remove constant)"
   ]
  },
  {
   "cell_type": "markdown",
   "metadata": {},
   "source": [
    "### small rep_feature df:"
   ]
  },
  {
   "cell_type": "code",
   "execution_count": 11,
   "metadata": {
    "ExecuteTime": {
     "end_time": "2018-11-11T15:13:10.266576Z",
     "start_time": "2018-11-11T15:13:01.952558Z"
    }
   },
   "outputs": [
    {
     "name": "stdout",
     "output_type": "stream",
     "text": [
      "removing all columns correlated to other column by r=1 or more\n",
      "TCR feature DF shape after loading and before any removal  is 656_147\n",
      "removing feature columns with less than 5 samples that are not nan...\n",
      "[]\n",
      "number of such columns is 0\n",
      "TCRfeatureDF shape after removing all columns that dont have at least 5 valid values is 656_147\n",
      "TCRfeatureDF2 shape before dropping highly correlated columns=656_147\n",
      "filtering out columns with correlation larger than 1\n",
      "TCRfeatureDF3 shape after dropping highly correlated columns=656_147\n",
      "colToDrop list length with repeats: 0\n",
      "colToDrop list length without repeats: 0\n",
      "colToDrop list length without repeats and with nan columns: 0\n",
      "[]\n",
      "filling nans with 0...\n",
      "number of columns to fill nans=143\n",
      "total numvber of columns=147\n",
      "exploring feature df...\n",
      "(656, 147)\n",
      "deleting constant variables...\n",
      "constant variables are: []\n",
      "featureDF shape before constant features removal is 656_147\n",
      "Final featureDF shape  is 656_147\n",
      "end of function!\n"
     ]
    }
   ],
   "source": [
    "folder='%s/TCR_real_data/Predictions/featureDFs/' %MyPath\n",
    "\n",
    "F1='allTCRfeatures_percShared10__withRels_noT.dat'\n",
    "f1=folder+F1\n",
    "allTCRfeatures_percShared10__withRels_noT=pd.read_pickle(f1)\n",
    "\n",
    "featureDF=allTCRfeatures_percShared10__withRels_noT\n",
    "featureDF,analysisDF, featureDFnameAddition=process_featureDF(featureDF,corrThreshold=1,removeCorr=True,exploreDF=True,deleteConsts=True,fillnans=True)\n",
    "\n",
    "F2='allTCRfeatures_percShared10__withRels_noT_ANALYSIS.xlsx'\n",
    "f2=folder+F2\n",
    "analysisDF.to_excel(f2)\n",
    "\n",
    "F3='allTCRfeatures_percShared10__withRels_noT'+featureDFnameAddition+'.dat'\n",
    "f3=folder+F3\n",
    "featureDF.to_pickle(f3)"
   ]
  },
  {
   "cell_type": "markdown",
   "metadata": {},
   "source": [
    "### VDJ df:"
   ]
  },
  {
   "cell_type": "code",
   "execution_count": 12,
   "metadata": {
    "ExecuteTime": {
     "end_time": "2018-11-11T15:14:08.949330Z",
     "start_time": "2018-11-11T15:13:43.803237Z"
    }
   },
   "outputs": [
    {
     "name": "stdout",
     "output_type": "stream",
     "text": [
      "removing all columns correlated to other column by r=1 or more\n",
      "TCR feature DF shape after loading and before any removal  is 656_268\n",
      "removing feature columns with less than 5 samples that are not nan...\n",
      "[]\n",
      "number of such columns is 0\n",
      "TCRfeatureDF shape after removing all columns that dont have at least 5 valid values is 656_268\n",
      "TCRfeatureDF2 shape before dropping highly correlated columns=656_268\n",
      "filtering out columns with correlation larger than 1\n",
      "TCRfeatureDF3 shape after dropping highly correlated columns=656_268\n",
      "colToDrop list length with repeats: 0\n",
      "colToDrop list length without repeats: 0\n",
      "colToDrop list length without repeats and with nan columns: 0\n",
      "[]\n",
      "filling nans with 0...\n",
      "number of columns to fill nans=268\n",
      "total numvber of columns=268\n",
      "exploring feature df...\n",
      "(656, 268)\n",
      "deleting constant variables...\n",
      "constant variables are: []\n",
      "featureDF shape before constant features removal is 656_268\n",
      "Final featureDF shape  is 656_268\n",
      "end of function!\n"
     ]
    }
   ],
   "source": [
    "folder='%s/TCR_real_data/Predictions/featureDFs/' %MyPath\n",
    "\n",
    "F1='VDJ_no0-01rare.dat'\n",
    "f1=folder+F1\n",
    "VDJ_df=pd.read_pickle(f1)\n",
    "\n",
    "featureDF=VDJ_df\n",
    "featureDF,analysisDF, featureDFnameAddition=process_featureDF(featureDF,corrThreshold=1,removeCorr=True,exploreDF=True,deleteConsts=True,fillnans=True)\n",
    "\n",
    "F2='VDJ_df_ANALYSIS.xlsx'\n",
    "f2=folder+F2\n",
    "analysisDF.to_excel(f2)\n",
    "\n",
    "F3='VDJ_df'+featureDFnameAddition+'.dat'\n",
    "f3=folder+F3\n",
    "featureDF.to_pickle(f3)"
   ]
  },
  {
   "cell_type": "markdown",
   "metadata": {},
   "source": [
    "## binarize VDJ_df:"
   ]
  },
  {
   "cell_type": "code",
   "execution_count": 13,
   "metadata": {
    "ExecuteTime": {
     "end_time": "2018-11-13T20:00:31.365150Z",
     "start_time": "2018-11-13T20:00:31.324003Z"
    }
   },
   "outputs": [],
   "source": [
    "F1='VDJ_no0-01rare.dat'\n",
    "f1=folder+F1\n",
    "VDJ_df=pd.read_pickle(f1)"
   ]
  },
  {
   "cell_type": "code",
   "execution_count": 15,
   "metadata": {
    "ExecuteTime": {
     "end_time": "2018-11-13T20:03:52.256071Z",
     "start_time": "2018-11-13T20:03:52.251689Z"
    }
   },
   "outputs": [],
   "source": [
    "VDJ_df_binary=pd.DataFrame(np.where(VDJ_df, 1, 0), VDJ_df.index, VDJ_df.columns)"
   ]
  },
  {
   "cell_type": "code",
   "execution_count": 22,
   "metadata": {
    "ExecuteTime": {
     "end_time": "2018-11-14T08:17:23.934652Z",
     "start_time": "2018-11-14T08:17:23.900727Z"
    }
   },
   "outputs": [],
   "source": [
    "folder='%s/TCR_real_data/Predictions/featureDFs/' %MyPath\n",
    "\n",
    "F1='VDJ_no0-01rare_binary.dat'\n",
    "f1=folder+F1\n",
    "VDJ_df_binary.to_pickle(f1)"
   ]
  },
  {
   "cell_type": "code",
   "execution_count": null,
   "metadata": {},
   "outputs": [],
   "source": []
  },
  {
   "cell_type": "code",
   "execution_count": null,
   "metadata": {},
   "outputs": [],
   "source": []
  },
  {
   "cell_type": "markdown",
   "metadata": {},
   "source": [
    "## generate seq cluster dfs"
   ]
  },
  {
   "cell_type": "markdown",
   "metadata": {},
   "source": [
    "## correct for age, gender and eGFR: rep_features, VDJ, seqs, seq_clusters"
   ]
  },
  {
   "cell_type": "code",
   "execution_count": null,
   "metadata": {},
   "outputs": [],
   "source": []
  }
 ],
 "metadata": {
  "kernelspec": {
   "display_name": "Python 2",
   "language": "python",
   "name": "python2"
  },
  "language_info": {
   "codemirror_mode": {
    "name": "ipython",
    "version": 2
   },
   "file_extension": ".py",
   "mimetype": "text/x-python",
   "name": "python",
   "nbconvert_exporter": "python",
   "pygments_lexer": "ipython2",
   "version": "2.7.8"
  },
  "toc": {
   "nav_menu": {},
   "number_sections": true,
   "sideBar": true,
   "skip_h1_title": false,
   "toc_cell": false,
   "toc_position": {
    "height": "785px",
    "left": "0px",
    "right": "1666px",
    "top": "134px",
    "width": "227px"
   },
   "toc_section_display": "block",
   "toc_window_display": true
  },
  "varInspector": {
   "cols": {
    "lenName": 16,
    "lenType": 16,
    "lenVar": 40
   },
   "kernels_config": {
    "python": {
     "delete_cmd_postfix": "",
     "delete_cmd_prefix": "del ",
     "library": "var_list.py",
     "varRefreshCmd": "print(var_dic_list())"
    },
    "r": {
     "delete_cmd_postfix": ") ",
     "delete_cmd_prefix": "rm(",
     "library": "var_list.r",
     "varRefreshCmd": "cat(var_dic_list()) "
    }
   },
   "types_to_exclude": [
    "module",
    "function",
    "builtin_function_or_method",
    "instance",
    "_Feature"
   ],
   "window_display": false
  }
 },
 "nbformat": 4,
 "nbformat_minor": 2
}
