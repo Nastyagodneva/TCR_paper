{
 "cells": [
  {
   "cell_type": "markdown",
   "metadata": {},
   "source": [
    "# imports"
   ]
  },
  {
   "cell_type": "code",
   "execution_count": 2,
   "metadata": {
    "ExecuteTime": {
     "end_time": "2019-04-03T10:54:49.355577Z",
     "start_time": "2019-04-03T10:54:47.066372Z"
    }
   },
   "outputs": [
    {
     "name": "stdout",
     "output_type": "stream",
     "text": [
      "done1\n",
      "stop\n",
      "stop\n",
      "done1\n",
      "done\n",
      "done\n",
      "stop\n"
     ]
    }
   ],
   "source": [
    "from os import listdir,mkdir\n",
    "from os.path import isfile, join, isdir,exists\n",
    "import pandas as pd\n",
    "import numpy as np\n",
    "from scipy import stats\n",
    "import re\n",
    "import matplotlib.pyplot as plt\n",
    "from matplotlib.backends.backend_pdf import PdfPages\n",
    "from myplots import roundup, rounddown, find_decimal_fold, percentile_cut_off, rarefaction_calc, rarefaction_plot,draw_correlation_scatter\n",
    "from matplotlib.ticker import FormatStrFormatter\n",
    "import cPickle as pickle\n",
    "from Bio.SeqUtils import GC\n",
    "import seaborn as sns\n",
    "import random\n",
    "from scipy.stats import pearsonr\n",
    "from skbio.diversity.alpha import shannon, simpson, berger_parker_d\n",
    "\n",
    "from pop_organize import get_sample_data, get_sample_with_dfs\n",
    "from SufficientStatistics.SufficientStatistics import *\n",
    "from MyFunctionsShani import *\n",
    "import math\n",
    "from myplots import roundup, rounddown, find_decimal_fold\n",
    "from skbio.stats.distance import mantel\n",
    "from scipy.spatial.distance import braycurtis, pdist\n",
    "from ShaniBA.GeneralFeaturePhenotypeInteractions.Feature_phenotype_functions import *\n",
    "from ShaniBA.TCR_microbiome_interactions.TCR_microbiome_interactions_functions import *\n",
    "from tunneltoamazondb import getengine\n",
    "from pandas import concat, read_csv, Series, read_sql\n",
    "from ShaniBA.PhenotypicData.PhenotypeGenerationFunctions import *\n",
    "from ShaniBA.SampleLists.SampleFileFunctions import *\n",
    "\n",
    "MyPath='/net/mraid08/export/genie/Lab/Personal/ShaniBAF'\n",
    "\n",
    "# from SampleFileFunctions import *"
   ]
  },
  {
   "cell_type": "code",
   "execution_count": null,
   "metadata": {
    "ExecuteTime": {
     "end_time": "2018-09-13T06:24:16.812591Z",
     "start_time": "2018-09-13T06:24:16.803855Z"
    }
   },
   "outputs": [],
   "source": [
    "import time\n",
    "cdate=str(time.strftime(\"%d%m%Y\"))\n",
    "cdate"
   ]
  },
  {
   "cell_type": "markdown",
   "metadata": {},
   "source": []
  },
  {
   "cell_type": "markdown",
   "metadata": {},
   "source": [
    "# Get glucose info from Nastya:"
   ]
  },
  {
   "cell_type": "markdown",
   "metadata": {
    "ExecuteTime": {
     "end_time": "2018-09-13T06:24:16.820728Z",
     "start_time": "2018-09-13T06:24:16.815564Z"
    }
   },
   "source": [
    "the get_glucoseInfo_fromNastya was copied to PhenotypeGenerationFunctions.py"
   ]
  },
  {
   "cell_type": "code",
   "execution_count": 33,
   "metadata": {
    "ExecuteTime": {
     "end_time": "2018-09-13T07:27:44.022876Z",
     "start_time": "2018-09-13T07:25:33.796765Z"
    }
   },
   "outputs": [
    {
     "name": "stdout",
     "output_type": "stream",
     "text": [
      "getting interesting continuous phenotypes from table...\n",
      "grouping glucsoe info by connection ID....\n",
      "merging with BD info...\n",
      "grouping info by BD...\n",
      "remove outliers...\n",
      "NastyaPhensBDgrouped describe:\n",
      "              BMI     BodyFat      HbA1C%        Hips  Max_Glucose  \\\n",
      "count  892.000000  887.000000  909.000000  904.000000   929.000000   \n",
      "mean    26.622670   30.048843    5.462959  104.688187   163.678897   \n",
      "std      5.177717    9.314041    0.464185   11.977085    36.785429   \n",
      "min     16.359310   11.481172    4.100000   62.000000   100.000000   \n",
      "25%     23.050535   22.702578    5.190000   98.000000   139.000000   \n",
      "50%     25.654372   30.270595    5.400000  103.000000   155.000000   \n",
      "75%     29.320139   36.370689    5.700000  110.000000   181.000000   \n",
      "max     50.452738   64.484954    8.000000  300.000000   400.000000   \n",
      "\n",
      "       Median_Glucose  Min_Glucose       Waist  WakeupGlucose       UserID  \n",
      "count      929.000000   929.000000  893.000000     920.000000   929.000000  \n",
      "mean        95.362656    63.602181   87.984784      92.793528  2447.296017  \n",
      "std         10.819668     6.136718   13.677226      11.542712  1783.412643  \n",
      "min         56.000000    60.000000   61.000000      66.000000    12.000000  \n",
      "25%         89.000000    60.000000   78.000000      84.948611  1119.000000  \n",
      "50%         94.000000    60.000000   86.000000      91.361111  2068.000000  \n",
      "75%        100.000000    66.000000   96.000000      98.553125  3635.000000  \n",
      "max        209.000000   119.000000  147.000000     195.464286  9381.000000  \n",
      "NastyaPhensBDgroupedOLremoved describe:\n",
      "              BMI     BodyFat      HbA1C%        Hips  Max_Glucose  \\\n",
      "count  888.000000  887.000000  907.000000  902.000000   922.000000   \n",
      "mean    26.517395   30.048843    5.457916  104.415877   162.330472   \n",
      "std      4.945162    9.314041    0.451922    9.927092    33.400225   \n",
      "min     16.359310   11.481172    4.100000   62.000000   100.000000   \n",
      "25%     23.037950   22.702578    5.190000   98.000000   139.000000   \n",
      "50%     25.648918   30.270595    5.400000  103.000000   154.000000   \n",
      "75%     29.183691   36.370689    5.700000  110.000000   180.000000   \n",
      "max     47.015611   64.484954    7.300000  150.000000   304.000000   \n",
      "\n",
      "       Median_Glucose  Min_Glucose       Waist  WakeupGlucose       UserID  \n",
      "count      922.000000   925.000000  892.000000     915.000000   929.000000  \n",
      "mean        94.873002    63.429650   87.918624      92.416655  2447.296017  \n",
      "std          9.052018     5.515813   13.541168      10.275344  1783.412643  \n",
      "min         56.000000    60.000000   61.000000      66.000000    12.000000  \n",
      "25%         89.000000    60.000000   78.000000      84.936508  1119.000000  \n",
      "50%         94.000000    60.000000   86.000000      91.250000  2068.000000  \n",
      "75%         99.875000    66.000000   96.000000      98.428571  3635.000000  \n",
      "max        133.000000    87.000000  137.000000     134.500000  9381.000000  \n",
      "NastyaSmokingInfoBDgrouped describe:\n",
      "       Ever smoked  Currently smokes       UserID\n",
      "count   923.000000        923.000000   929.000000\n",
      "mean      0.356446          0.101842  2447.296017\n",
      "std       0.479209          0.302604  1783.412643\n",
      "min       0.000000          0.000000    12.000000\n",
      "25%       0.000000          0.000000  1119.000000\n",
      "50%       0.000000          0.000000  2068.000000\n",
      "75%       1.000000          0.000000  3635.000000\n",
      "max       1.000000          1.000000  9381.000000\n",
      "saving files...\n",
      "done!\n"
     ]
    }
   ],
   "source": [
    "NastyaPhensBDgrouped, NastyaPhensBDgroupedOLremoved,NastyaSmokingInfoBDgrouped=get_glucoseInfo_fromNastya()"
   ]
  },
  {
   "cell_type": "code",
   "execution_count": null,
   "metadata": {},
   "outputs": [],
   "source": []
  },
  {
   "cell_type": "markdown",
   "metadata": {},
   "source": [
    "# new phenotype extraction from the db - 140618:"
   ]
  },
  {
   "cell_type": "markdown",
   "metadata": {},
   "source": [
    "## extract blood and urine info from the DB"
   ]
  },
  {
   "cell_type": "markdown",
   "metadata": {},
   "source": [
    "the function extract_blood_and_urine_data_fromDB was copied to PhenotypeGenerationFunctions.py"
   ]
  },
  {
   "cell_type": "code",
   "execution_count": null,
   "metadata": {
    "ExecuteTime": {
     "end_time": "2018-09-13T06:24:16.824263Z",
     "start_time": "2018-09-13T06:24:14.114Z"
    }
   },
   "outputs": [],
   "source": [
    "questWithLookup_Interesting2=extract_blood_and_urine_data_fromDB()"
   ]
  },
  {
   "cell_type": "markdown",
   "metadata": {},
   "source": [
    "## extract age information:"
   ]
  },
  {
   "cell_type": "markdown",
   "metadata": {},
   "source": [
    "the function extract_age_DB and its helper function getCorrectYear were copied to PhenotypeGenerationFunctions.py"
   ]
  },
  {
   "cell_type": "code",
   "execution_count": 29,
   "metadata": {
    "ExecuteTime": {
     "end_time": "2018-09-13T07:18:40.133201Z",
     "start_time": "2018-09-13T07:18:40.003335Z"
    }
   },
   "outputs": [],
   "source": [
    "def getCorrectYear(x):  # helper function for extract_age_DB function\n",
    "    try:\n",
    "        y1 = str(x)[-2:]\n",
    "        y2 = int(y1)\n",
    "    except:\n",
    "        try:\n",
    "            y1 = str(int(float(x)))[-2:]\n",
    "            y2 = int(y1)\n",
    "        except:\n",
    "            y2 = np.nan\n",
    "    return y2\n",
    "\n",
    "\n",
    "def extract_age_DB():\n",
    "    # extract age information from DF:\n",
    "    print 'extracting age info from DB'\n",
    "    Age = read_sql('select  UserID, QuestionID, Answer,TimeStamp from pnp.questionnaire WHERE QuestionID=415 or QuestionID=517 ', getengine())\n",
    "    print 'number of answers is %s' % len(Age)\n",
    "    \n",
    "    # extract answer's year:\n",
    "    print 'extracting answers year'\n",
    "    for n in Age.index:\n",
    "        m = re.search('(?<=20)\\w+', Age.loc[n, 'TimeStamp'])\n",
    "        if m is not None:\n",
    "            Age.loc[n, 'year'] = '20' + m.group(0)\n",
    "    Age.year=pd.to_numeric(Age.year, errors='coerce')\n",
    "    Age.year=Age.year.apply(lambda x: getCorrectYear(x))\n",
    "    Age.Answer=pd.to_numeric(Age.Answer, errors='coerce')\n",
    "    Age.Answer=Age.Answer.apply(lambda x: getCorrectYear(x))\n",
    "    print 'years are:'\n",
    "    print Age.year.unique().tolist()\n",
    "    print Age.head()\n",
    "    \n",
    "    print Age.dtypes\n",
    "      \n",
    "    \n",
    "    print 'extracting the correct age per User...'\n",
    "    Age = Age.drop_duplicates(subset=['UserID', 'QuestionID'])\n",
    "    Age['Calculated Age']= np.where(Age['Answer'] > 18, (Age.year+2000) - (Age['Answer']+1900), \n",
    "                                                        (Age.year+2000) - (Age['Answer']+2000))\n",
    "    print 'calculated ages are:'\n",
    "    print Age['Calculated Age'].value_counts(dropna=False).sort_index()\n",
    "   \n",
    "\n",
    "    Age2 = Age.pivot(index='UserID', columns='QuestionID', values='Calculated Age')\n",
    "    Age2['Age'] = np.where(Age2[415].notnull(), Age2[415], Age2[517])\n",
    "#     Age2['YOB2'] = Age2['YOB'].apply(lambda x: getCorrectYear(x))\n",
    "#     Age2['Age'] = np.where(Age2['YOB2'] > 18, (Age2.year+2000) - (Age2['YOB2'] + 1900), \n",
    "#                                                (Age2.year - 2000 - Age2['YOB2'])\n",
    "\n",
    "    print 'Ages are:'\n",
    "    print Age2['Age'].value_counts(dropna=False).sort_index()\n",
    "   \n",
    "    \n",
    "    \n",
    "    print 'converting Users to BD samples...'\n",
    "    \n",
    "    Age3 = pd.DataFrame(Age2['Age'])\n",
    "    \n",
    "    # add BD:\n",
    "    # load BD SAMPLE FILE:\n",
    "    f1 = '/net/mraid08/export/genie/Lab/Personal/ShaniBAF/Sample files/updatedBDandFDlists/BDfile_31052018.xlsx'          \n",
    "    BDfile = pd.read_excel(f1)\n",
    "    BDfile_small = BDfile[['DnaID', 'UserID']]\n",
    "    BDfile_small = BDfile_small.drop_duplicates()\n",
    "    BDfile_small = BDfile_small.rename(columns={'DnaID':'BD'})\n",
    "    Age4 = pd.merge(BDfile_small, Age3, how='left', left_on='UserID', right_index=True)\n",
    "    \n",
    "    Age5 = Age4[Age4.Age.notnull()]\n",
    "    print Age5.head()\n",
    "    \n",
    "    print 'the youngest subjects are:'\n",
    "    print Age5.sort_values(by='Age').head()\n",
    "    \n",
    "    print 'the oldest subjects are:'\n",
    "    print Age5.sort_values(by='Age').tail()\n",
    "    \n",
    "    print 'subjects with no indicated age are:'\n",
    "    print Age5[Age5['Age'].isnull()]\n",
    "    \n",
    "    print 'number of BD samples with age is %s' % len(Age5)\n",
    "\n",
    "    print 'saving into excel file...'\n",
    "    f1 = '/net/mraid08/export/genie/Lab/Personal/ShaniBAF/TCR_real_data/NewPhenotypicData/PNPage.xlsx'          \n",
    "    Age5.to_excel(f1)\n",
    "    \n",
    "    print 'done'\n",
    "    \n",
    "    return Age5\n"
   ]
  },
  {
   "cell_type": "code",
   "execution_count": 30,
   "metadata": {
    "ExecuteTime": {
     "end_time": "2018-09-13T07:18:50.580469Z",
     "start_time": "2018-09-13T07:18:40.722624Z"
    }
   },
   "outputs": [
    {
     "name": "stdout",
     "output_type": "stream",
     "text": [
      "extracting age info from DB\n",
      "number of answers is 3314\n",
      "extracting answers year\n",
      "years are:\n",
      "[13, 14, 15, 16, 17, 18]\n",
      "   UserID  QuestionID  Answer           TimeStamp  year\n",
      "0      39         415    78.0   7/1/2013 10:54:12    13\n",
      "1      40         415    84.0  6/30/2013 14:14:19    13\n",
      "2      26         415    87.0  6/26/2013 14:19:35    13\n",
      "3      52         415    91.0   7/7/2013 10:04:57    13\n",
      "4      22         415    72.0  7/14/2013 12:53:52    13\n",
      "UserID          int64\n",
      "QuestionID      int64\n",
      "Answer        float64\n",
      "TimeStamp      object\n",
      "year            int64\n",
      "dtype: object\n",
      "extracting the correct age per User...\n",
      "calculated ages are:\n",
      " 4.0      1\n",
      " 5.0      2\n",
      " 8.0      4\n",
      " 9.0      1\n",
      " 10.0     4\n",
      " 11.0     6\n",
      " 12.0     6\n",
      " 13.0     3\n",
      " 14.0     5\n",
      " 15.0     7\n",
      " 17.0     4\n",
      " 18.0    12\n",
      " 19.0     9\n",
      " 20.0     9\n",
      " 21.0    16\n",
      " 22.0    11\n",
      " 23.0    20\n",
      " 24.0    28\n",
      " 25.0    36\n",
      " 26.0    48\n",
      " 27.0    59\n",
      " 28.0    66\n",
      " 29.0    66\n",
      " 30.0    83\n",
      " 31.0    73\n",
      " 32.0    75\n",
      " 33.0    69\n",
      " 34.0    77\n",
      " 35.0    59\n",
      " 36.0    70\n",
      "         ..\n",
      " 46.0    97\n",
      " 47.0    57\n",
      " 48.0    64\n",
      " 49.0    76\n",
      " 50.0    84\n",
      " 51.0    82\n",
      " 52.0    74\n",
      " 53.0    77\n",
      " 54.0    59\n",
      " 55.0    75\n",
      " 56.0    57\n",
      " 57.0    65\n",
      " 58.0    60\n",
      " 59.0    73\n",
      " 60.0    40\n",
      " 61.0    62\n",
      " 62.0    39\n",
      " 63.0    38\n",
      " 64.0    38\n",
      " 65.0    36\n",
      " 66.0    18\n",
      " 67.0    24\n",
      " 68.0    22\n",
      " 69.0    11\n",
      " 70.0     5\n",
      " 72.0     1\n",
      " 73.0     1\n",
      " 74.0     2\n",
      " 77.0     1\n",
      "NaN      28\n",
      "Name: Calculated Age, Length: 69, dtype: int64\n",
      "Ages are:\n",
      " 4.0      1\n",
      " 5.0      2\n",
      " 8.0      4\n",
      " 9.0      1\n",
      " 10.0     4\n",
      " 11.0     6\n",
      " 12.0     6\n",
      " 13.0     3\n",
      " 14.0     5\n",
      " 15.0     7\n",
      " 17.0     4\n",
      " 18.0    12\n",
      " 19.0     9\n",
      " 20.0     9\n",
      " 21.0    16\n",
      " 22.0    11\n",
      " 23.0    20\n",
      " 24.0    28\n",
      " 25.0    36\n",
      " 26.0    47\n",
      " 27.0    59\n",
      " 28.0    66\n",
      " 29.0    64\n",
      " 30.0    83\n",
      " 31.0    73\n",
      " 32.0    74\n",
      " 33.0    69\n",
      " 34.0    77\n",
      " 35.0    59\n",
      " 36.0    70\n",
      "         ..\n",
      " 46.0    96\n",
      " 47.0    57\n",
      " 48.0    63\n",
      " 49.0    76\n",
      " 50.0    84\n",
      " 51.0    81\n",
      " 52.0    74\n",
      " 53.0    77\n",
      " 54.0    59\n",
      " 55.0    75\n",
      " 56.0    57\n",
      " 57.0    65\n",
      " 58.0    60\n",
      " 59.0    73\n",
      " 60.0    40\n",
      " 61.0    62\n",
      " 62.0    39\n",
      " 63.0    38\n",
      " 64.0    38\n",
      " 65.0    36\n",
      " 66.0    18\n",
      " 67.0    24\n",
      " 68.0    22\n",
      " 69.0    11\n",
      " 70.0     5\n",
      " 72.0     1\n",
      " 73.0     1\n",
      " 74.0     2\n",
      " 77.0     1\n",
      "NaN      26\n",
      "Name: Age, Length: 69, dtype: int64\n",
      "converting Users to BD samples...\n",
      "    BD  UserID   Age\n",
      "1  BD2    1879  34.0\n",
      "2  BD3    2314  57.0\n",
      "3  BD4    2238  59.0\n",
      "4  BD5    2465  37.0\n",
      "5  BD6    2571  32.0\n",
      "the youngest subjects are:\n",
      "        BD  UserID   Age\n",
      "45    BD45    2411  17.0\n",
      "91    BD91    1692  18.0\n",
      "430  BD430    4629  18.0\n",
      "182  BD186    1094  19.0\n",
      "399  BD401     252  19.0\n",
      "the oldest subjects are:\n",
      "        BD  UserID   Age\n",
      "748  BD733    2620  69.0\n",
      "573  BD573     994  69.0\n",
      "811  BD811    1334  69.0\n",
      "828  BD828    1858  69.0\n",
      "202  BD206     795  70.0\n",
      "subjects with no indicated age are:\n",
      "Empty DataFrame\n",
      "Columns: [BD, UserID, Age]\n",
      "Index: []\n",
      "number of BD samples with age is 943\n",
      "saving into excel file...\n",
      "done\n"
     ]
    }
   ],
   "source": [
    "Age5=extract_age_DB()"
   ]
  },
  {
   "cell_type": "code",
   "execution_count": null,
   "metadata": {},
   "outputs": [],
   "source": []
  },
  {
   "cell_type": "markdown",
   "metadata": {},
   "source": [
    "## extract gender info."
   ]
  },
  {
   "cell_type": "code",
   "execution_count": null,
   "metadata": {
    "ExecuteTime": {
     "end_time": "2018-09-13T06:24:16.845385Z",
     "start_time": "2018-09-13T06:24:14.147Z"
    }
   },
   "outputs": [],
   "source": [
    "the function extract_Gender_DB and its helper function getCorrectYear were copied to PhenotypeGenerationFunctions.py"
   ]
  },
  {
   "cell_type": "code",
   "execution_count": 31,
   "metadata": {
    "ExecuteTime": {
     "end_time": "2018-09-13T07:19:50.047543Z",
     "start_time": "2018-09-13T07:19:42.972230Z"
    }
   },
   "outputs": [
    {
     "name": "stdout",
     "output_type": "stream",
     "text": [
      "extracting Gender info from DB\n",
      "number of answers is 3343\n",
      "extracting the correct answer per User...\n",
      "check users with ambigiuos answers:...\n",
      "QuestionID     414     516    2342  notNone\n",
      "UserID                                     \n",
      "60            Male    Male     NaN        2\n",
      "2146        Female  Female     NaN        2\n",
      "4567        Female  Female     NaN        2\n",
      "4873        Female  Female     NaN        2\n",
      "8123        Female  Female     NaN        2\n",
      "8367        Female  Female     NaN        2\n",
      "8397           NaN    male    Male        2\n",
      "8494           NaN    male    Male        2\n",
      "8495           NaN    male    Male        2\n",
      "8496           NaN  female  Female        2\n",
      "8497           NaN    male    Male        2\n",
      "8498           NaN  female  Female        2\n",
      "8499           NaN  female  Female        2\n",
      "8500           NaN  female  Female        2\n",
      "8501           NaN    male    Male        2\n",
      "8502           NaN  female  Female        2\n",
      "8503           NaN  female  Female        2\n",
      "8504           NaN    male    Male        2\n",
      "8505           NaN  female  Female        2\n",
      "8506           NaN    male    Male        2\n",
      "9407          Male    Male     NaN        2\n",
      "10129          NaN  female  Female        2\n",
      "10130          NaN    male    Male        2\n",
      "10131          NaN  female  Female        2\n",
      "10136          NaN    male    Male        2\n",
      "10137          NaN  female  Female        2\n",
      "10145          NaN  female  Female        2\n",
      "10626       Female  Female     NaN        2\n",
      "11152          NaN  female  Female        2\n",
      "11767       Female  Female     NaN        2\n",
      "choose for each user the first value which is not None:\n",
      "converting Users to BD samples...\n",
      "number of BD samples with Gender is 922\n",
      "number of unique BD samples is 922\n",
      "saving into excel file...\n",
      "done\n",
      "922\n"
     ]
    },
    {
     "data": {
      "text/html": [
       "<div>\n",
       "<style scoped>\n",
       "    .dataframe tbody tr th:only-of-type {\n",
       "        vertical-align: middle;\n",
       "    }\n",
       "\n",
       "    .dataframe tbody tr th {\n",
       "        vertical-align: top;\n",
       "    }\n",
       "\n",
       "    .dataframe thead th {\n",
       "        text-align: right;\n",
       "    }\n",
       "</style>\n",
       "<table border=\"1\" class=\"dataframe\">\n",
       "  <thead>\n",
       "    <tr style=\"text-align: right;\">\n",
       "      <th></th>\n",
       "      <th>BD</th>\n",
       "      <th>UserID</th>\n",
       "      <th>Gender</th>\n",
       "    </tr>\n",
       "  </thead>\n",
       "  <tbody>\n",
       "    <tr>\n",
       "      <th>0</th>\n",
       "      <td>BD1</td>\n",
       "      <td>2252</td>\n",
       "      <td>Female</td>\n",
       "    </tr>\n",
       "    <tr>\n",
       "      <th>1</th>\n",
       "      <td>BD2</td>\n",
       "      <td>1879</td>\n",
       "      <td>Male</td>\n",
       "    </tr>\n",
       "    <tr>\n",
       "      <th>2</th>\n",
       "      <td>BD3</td>\n",
       "      <td>2314</td>\n",
       "      <td>Female</td>\n",
       "    </tr>\n",
       "    <tr>\n",
       "      <th>3</th>\n",
       "      <td>BD4</td>\n",
       "      <td>2238</td>\n",
       "      <td>Female</td>\n",
       "    </tr>\n",
       "    <tr>\n",
       "      <th>4</th>\n",
       "      <td>BD5</td>\n",
       "      <td>2465</td>\n",
       "      <td>Male</td>\n",
       "    </tr>\n",
       "  </tbody>\n",
       "</table>\n",
       "</div>"
      ],
      "text/plain": [
       "    BD  UserID  Gender\n",
       "0  BD1    2252  Female\n",
       "1  BD2    1879    Male\n",
       "2  BD3    2314  Female\n",
       "3  BD4    2238  Female\n",
       "4  BD5    2465    Male"
      ]
     },
     "execution_count": 31,
     "metadata": {},
     "output_type": "execute_result"
    }
   ],
   "source": [
    "GenderDF6=extract_Gender_DB()\n",
    "print len(GenderDF6)\n",
    "GenderDF6.head()"
   ]
  },
  {
   "cell_type": "code",
   "execution_count": null,
   "metadata": {},
   "outputs": [],
   "source": []
  },
  {
   "cell_type": "markdown",
   "metadata": {},
   "source": [
    "## extracting BMI info"
   ]
  },
  {
   "cell_type": "code",
   "execution_count": null,
   "metadata": {
    "ExecuteTime": {
     "end_time": "2018-09-13T06:24:16.849396Z",
     "start_time": "2018-09-13T06:24:14.152Z"
    }
   },
   "outputs": [],
   "source": [
    "the function extract_BMI_DB and its helper function getCorrectYear were copied to PhenotypeGenerationFunctions.py"
   ]
  },
  {
   "cell_type": "code",
   "execution_count": 32,
   "metadata": {
    "ExecuteTime": {
     "end_time": "2018-09-13T07:19:59.067395Z",
     "start_time": "2018-09-13T07:19:55.595832Z"
    },
    "scrolled": true
   },
   "outputs": [
    {
     "name": "stdout",
     "output_type": "stream",
     "text": [
      "extracting BMI info from DB...\n",
      "2675\n",
      "fixing nonsense height and weight data...\n",
      "calculating BMI...\n",
      "adding BD info and converting to BD-based data\n",
      "n samples after merging is 2708\n",
      "n samples after nan removal is 1314\n"
     ]
    },
    {
     "name": "stderr",
     "output_type": "stream",
     "text": [
      "/usr/wisdom/python/lib/python2.7/site-packages/numpy/core/fromnumeric.py:2957: RuntimeWarning: Mean of empty slice.\n",
      "  out=out, **kwargs)\n",
      "/usr/wisdom/python/lib/python2.7/site-packages/numpy/core/_methods.py:80: RuntimeWarning: invalid value encountered in double_scalars\n",
      "  ret = ret.dtype.type(ret / rcount)\n"
     ]
    },
    {
     "name": "stdout",
     "output_type": "stream",
     "text": [
      "number of BD samples after grouping is 949\n",
      "number of BD samples with either weight or height info is 942\n",
      "number of BD samples with BMI info is 887\n",
      "remove outliers...\n",
      "BMIgrouped describe:\n",
      "            UserID      weight      height         BMI\n",
      "count   942.000000  925.000000  904.000000  887.000000\n",
      "mean   2437.267516   74.827387  167.431416   26.623058\n",
      "std    1781.143157   16.539618    9.059282    5.160374\n",
      "min      12.000000   42.000000  147.000000   16.359310\n",
      "25%    1112.750000   63.000000  161.000000   23.069812\n",
      "50%    2064.000000   72.000000  167.000000   25.711662\n",
      "75%    3614.500000   84.000000  174.000000   29.338726\n",
      "max    9381.000000  151.000000  194.000000   50.452738\n",
      "BMIgroupedOLremoved describe:\n",
      "            UserID      weight      height         BMI\n",
      "count   942.000000  923.000000  904.000000  883.000000\n",
      "mean   2437.267516   74.668833  167.431416   26.518107\n",
      "std    1781.143157   16.201644    9.059282    4.929931\n",
      "min      12.000000   42.000000  147.000000   16.359310\n",
      "25%    1112.750000   63.000000  161.000000   23.051755\n",
      "50%    2064.000000   72.000000  167.000000   25.689562\n",
      "75%    3614.500000   84.000000  174.000000   29.320422\n",
      "max    9381.000000  139.000000  194.000000   47.015611\n",
      "saving files...\n",
      "done....\n"
     ]
    }
   ],
   "source": [
    "BMIgrouped,BMIgroupedOLremoved=extract_BMI_DB()"
   ]
  },
  {
   "cell_type": "markdown",
   "metadata": {},
   "source": [
    "## general function to extract single-question info from the DB:"
   ]
  },
  {
   "cell_type": "code",
   "execution_count": null,
   "metadata": {
    "ExecuteTime": {
     "end_time": "2018-09-13T06:24:16.853203Z",
     "start_time": "2018-09-13T06:24:14.157Z"
    }
   },
   "outputs": [],
   "source": [
    "the function extract_singleQinfo_DB and its helper function getCorrectYear were copied to PhenotypeGenerationFunctions.py"
   ]
  },
  {
   "cell_type": "markdown",
   "metadata": {},
   "source": [
    "### extract creatinine info:"
   ]
  },
  {
   "cell_type": "code",
   "execution_count": null,
   "metadata": {
    "ExecuteTime": {
     "end_time": "2018-09-13T06:24:16.854989Z",
     "start_time": "2018-09-13T06:24:14.161Z"
    }
   },
   "outputs": [],
   "source": [
    "creatinine, creatinineremoved=extract_singleQinfo_DB(QuestionID=1012, QuestionName='Creatinine')"
   ]
  },
  {
   "cell_type": "markdown",
   "metadata": {},
   "source": [
    "### extract WBC info:"
   ]
  },
  {
   "cell_type": "code",
   "execution_count": null,
   "metadata": {
    "ExecuteTime": {
     "end_time": "2018-09-13T06:24:16.856822Z",
     "start_time": "2018-09-13T06:24:14.168Z"
    }
   },
   "outputs": [],
   "source": [
    "WBC, WBCremoved=extract_singleQinfo_DB(QuestionID=1038, QuestionName='WBC')\n",
    "WBC.head()"
   ]
  },
  {
   "cell_type": "markdown",
   "metadata": {},
   "source": [
    "### extract CRP (WIDE RANGE) info:"
   ]
  },
  {
   "cell_type": "code",
   "execution_count": null,
   "metadata": {
    "ExecuteTime": {
     "end_time": "2018-09-13T06:24:16.858641Z",
     "start_time": "2018-09-13T06:24:14.170Z"
    },
    "scrolled": true
   },
   "outputs": [],
   "source": [
    "CRP_wr, CRP_wrremoved=extract_singleQinfo_DB(QuestionID=1013, QuestionName='CRP_wr')\n",
    "CRP_wr.head()"
   ]
  },
  {
   "cell_type": "markdown",
   "metadata": {},
   "source": [
    "### extract CRP info:"
   ]
  },
  {
   "cell_type": "code",
   "execution_count": null,
   "metadata": {
    "ExecuteTime": {
     "end_time": "2018-09-13T06:24:16.860466Z",
     "start_time": "2018-09-13T06:24:14.173Z"
    },
    "scrolled": true
   },
   "outputs": [],
   "source": [
    "CRP_hs, CRP_hsremoved=extract_singleQinfo_DB(QuestionID=1014, QuestionName='CRP_hs')\n",
    "CRP_hs.head()"
   ]
  },
  {
   "cell_type": "markdown",
   "metadata": {},
   "source": [
    "### extract hemoglobin info:"
   ]
  },
  {
   "cell_type": "code",
   "execution_count": null,
   "metadata": {
    "ExecuteTime": {
     "end_time": "2018-09-13T06:24:16.862395Z",
     "start_time": "2018-09-13T06:24:14.177Z"
    },
    "scrolled": true
   },
   "outputs": [],
   "source": [
    "Hemoglobin, Hemoglobinremoved=extract_singleQinfo_DB(QuestionID=1018, QuestionName='Hemoglobin')\n",
    "Hemoglobin.head()"
   ]
  },
  {
   "cell_type": "markdown",
   "metadata": {},
   "source": [
    "### extract INFO FOR MORE BLOOD COUNT PARAMETERS:"
   ]
  },
  {
   "cell_type": "code",
   "execution_count": null,
   "metadata": {
    "ExecuteTime": {
     "end_time": "2018-09-13T06:24:16.864255Z",
     "start_time": "2018-09-13T06:24:14.182Z"
    },
    "scrolled": true
   },
   "outputs": [],
   "source": [
    "qList=[('LDH',1084),('AST',1007),('LDL',1086),('HDL',1017),('Triglycerides',1088),('glucose',1045),('Total Cholesterol',1011)]\n",
    "\n",
    "for q in qList:\n",
    "    \n",
    "    QuestionID=q[1]\n",
    "    QuestionName=q[0]\n",
    "    print '*******%s*******' %QuestionName\n",
    "\n",
    "    phen,phenRemoved=extract_singleQinfo_DB(QuestionID=QuestionID, QuestionName=QuestionName)\n",
    "    print phen.head()"
   ]
  },
  {
   "cell_type": "code",
   "execution_count": null,
   "metadata": {},
   "outputs": [],
   "source": []
  },
  {
   "cell_type": "code",
   "execution_count": null,
   "metadata": {
    "ExecuteTime": {
     "end_time": "2018-09-12T17:13:40.371820Z",
     "start_time": "2018-09-12T17:13:40.248641Z"
    }
   },
   "outputs": [],
   "source": []
  },
  {
   "cell_type": "code",
   "execution_count": null,
   "metadata": {},
   "outputs": [],
   "source": []
  },
  {
   "cell_type": "code",
   "execution_count": null,
   "metadata": {},
   "outputs": [],
   "source": []
  },
  {
   "cell_type": "code",
   "execution_count": null,
   "metadata": {},
   "outputs": [],
   "source": []
  },
  {
   "cell_type": "code",
   "execution_count": null,
   "metadata": {},
   "outputs": [],
   "source": []
  },
  {
   "cell_type": "markdown",
   "metadata": {},
   "source": [
    "# extract blood pressure data:"
   ]
  },
  {
   "cell_type": "code",
   "execution_count": 3,
   "metadata": {
    "ExecuteTime": {
     "end_time": "2019-04-03T10:54:50.741380Z",
     "start_time": "2019-04-03T10:54:50.714113Z"
    }
   },
   "outputs": [
    {
     "data": {
      "text/html": [
       "<div>\n",
       "<style scoped>\n",
       "    .dataframe tbody tr th:only-of-type {\n",
       "        vertical-align: middle;\n",
       "    }\n",
       "\n",
       "    .dataframe tbody tr th {\n",
       "        vertical-align: top;\n",
       "    }\n",
       "\n",
       "    .dataframe thead th {\n",
       "        text-align: right;\n",
       "    }\n",
       "</style>\n",
       "<table border=\"1\" class=\"dataframe\">\n",
       "  <thead>\n",
       "    <tr style=\"text-align: right;\">\n",
       "      <th></th>\n",
       "      <th>UserID</th>\n",
       "      <th>BP</th>\n",
       "    </tr>\n",
       "  </thead>\n",
       "  <tbody>\n",
       "    <tr>\n",
       "      <th>0</th>\n",
       "      <td>26</td>\n",
       "      <td>148/84</td>\n",
       "    </tr>\n",
       "    <tr>\n",
       "      <th>1</th>\n",
       "      <td>39</td>\n",
       "      <td>122/63</td>\n",
       "    </tr>\n",
       "    <tr>\n",
       "      <th>2</th>\n",
       "      <td>40</td>\n",
       "      <td>129/76</td>\n",
       "    </tr>\n",
       "    <tr>\n",
       "      <th>3</th>\n",
       "      <td>52</td>\n",
       "      <td>107/67</td>\n",
       "    </tr>\n",
       "    <tr>\n",
       "      <th>4</th>\n",
       "      <td>33</td>\n",
       "      <td>104/63</td>\n",
       "    </tr>\n",
       "  </tbody>\n",
       "</table>\n",
       "</div>"
      ],
      "text/plain": [
       "   UserID      BP\n",
       "0      26  148/84\n",
       "1      39  122/63\n",
       "2      40  129/76\n",
       "3      52  107/67\n",
       "4      33  104/63"
      ]
     },
     "execution_count": 3,
     "metadata": {},
     "output_type": "execute_result"
    }
   ],
   "source": [
    "f1='%s/TCR_real_data/NewPhenotypicData/BPinfo.csv' %MyPath\n",
    "BPinfo=pd.read_csv(f1)\n",
    "BPinfo.head()"
   ]
  },
  {
   "cell_type": "code",
   "execution_count": 6,
   "metadata": {
    "ExecuteTime": {
     "end_time": "2019-04-03T10:59:09.999875Z",
     "start_time": "2019-04-03T10:59:09.652939Z"
    }
   },
   "outputs": [
    {
     "data": {
      "text/html": [
       "<div>\n",
       "<style scoped>\n",
       "    .dataframe tbody tr th:only-of-type {\n",
       "        vertical-align: middle;\n",
       "    }\n",
       "\n",
       "    .dataframe tbody tr th {\n",
       "        vertical-align: top;\n",
       "    }\n",
       "\n",
       "    .dataframe thead th {\n",
       "        text-align: right;\n",
       "    }\n",
       "</style>\n",
       "<table border=\"1\" class=\"dataframe\">\n",
       "  <thead>\n",
       "    <tr style=\"text-align: right;\">\n",
       "      <th></th>\n",
       "      <th>DnaID</th>\n",
       "      <th>storageDT</th>\n",
       "      <th>UserID</th>\n",
       "      <th>corrected_regCode</th>\n",
       "      <th>correction status (reg number)</th>\n",
       "      <th>Blood_Year</th>\n",
       "      <th>Blood_Date</th>\n",
       "      <th>UserID_bYear</th>\n",
       "      <th>UserID_bDate</th>\n",
       "    </tr>\n",
       "  </thead>\n",
       "  <tbody>\n",
       "    <tr>\n",
       "      <th>0</th>\n",
       "      <td>BD1</td>\n",
       "      <td>2014-09-10 17:13:12</td>\n",
       "      <td>2252</td>\n",
       "      <td>738601</td>\n",
       "      <td>same</td>\n",
       "      <td>2014</td>\n",
       "      <td>2014-09-10</td>\n",
       "      <td>2252_2014</td>\n",
       "      <td>2252_2014-09-10</td>\n",
       "    </tr>\n",
       "    <tr>\n",
       "      <th>1</th>\n",
       "      <td>BD2</td>\n",
       "      <td>2014-09-10 17:12:22</td>\n",
       "      <td>1879</td>\n",
       "      <td>450464</td>\n",
       "      <td>same</td>\n",
       "      <td>2014</td>\n",
       "      <td>2014-09-10</td>\n",
       "      <td>1879_2014</td>\n",
       "      <td>1879_2014-09-10</td>\n",
       "    </tr>\n",
       "    <tr>\n",
       "      <th>2</th>\n",
       "      <td>BD3</td>\n",
       "      <td>2014-09-10 17:12:45</td>\n",
       "      <td>2314</td>\n",
       "      <td>127686</td>\n",
       "      <td>same</td>\n",
       "      <td>2014</td>\n",
       "      <td>2014-09-10</td>\n",
       "      <td>2314_2014</td>\n",
       "      <td>2314_2014-09-10</td>\n",
       "    </tr>\n",
       "    <tr>\n",
       "      <th>3</th>\n",
       "      <td>BD4</td>\n",
       "      <td>2014-09-17 18:40:53</td>\n",
       "      <td>2238</td>\n",
       "      <td>134681</td>\n",
       "      <td>same</td>\n",
       "      <td>2014</td>\n",
       "      <td>2014-09-17</td>\n",
       "      <td>2238_2014</td>\n",
       "      <td>2238_2014-09-17</td>\n",
       "    </tr>\n",
       "    <tr>\n",
       "      <th>4</th>\n",
       "      <td>BD5</td>\n",
       "      <td>2014-09-17 18:44:08</td>\n",
       "      <td>2465</td>\n",
       "      <td>462009</td>\n",
       "      <td>same</td>\n",
       "      <td>2014</td>\n",
       "      <td>2014-09-17</td>\n",
       "      <td>2465_2014</td>\n",
       "      <td>2465_2014-09-17</td>\n",
       "    </tr>\n",
       "  </tbody>\n",
       "</table>\n",
       "</div>"
      ],
      "text/plain": [
       "  DnaID            storageDT  UserID  corrected_regCode  \\\n",
       "0   BD1  2014-09-10 17:13:12    2252             738601   \n",
       "1   BD2  2014-09-10 17:12:22    1879             450464   \n",
       "2   BD3  2014-09-10 17:12:45    2314             127686   \n",
       "3   BD4  2014-09-17 18:40:53    2238             134681   \n",
       "4   BD5  2014-09-17 18:44:08    2465             462009   \n",
       "\n",
       "  correction status (reg number) Blood_Year  Blood_Date UserID_bYear  \\\n",
       "0                           same       2014  2014-09-10    2252_2014   \n",
       "1                           same       2014  2014-09-10    1879_2014   \n",
       "2                           same       2014  2014-09-10    2314_2014   \n",
       "3                           same       2014  2014-09-17    2238_2014   \n",
       "4                           same       2014  2014-09-17    2465_2014   \n",
       "\n",
       "      UserID_bDate  \n",
       "0  2252_2014-09-10  \n",
       "1  1879_2014-09-10  \n",
       "2  2314_2014-09-10  \n",
       "3  2238_2014-09-17  \n",
       "4  2465_2014-09-17  "
      ]
     },
     "execution_count": 6,
     "metadata": {},
     "output_type": "execute_result"
    }
   ],
   "source": [
    "f1 = '/net/mraid08/export/genie/Lab/Personal/ShaniBAF/Sample files/updatedBDandFDlists/BDfile_31052018.xlsx'          \n",
    "BDfile = pd.read_excel(f1)\n",
    "BDfile.head()"
   ]
  },
  {
   "cell_type": "code",
   "execution_count": 19,
   "metadata": {
    "ExecuteTime": {
     "end_time": "2019-04-03T11:07:03.800221Z",
     "start_time": "2019-04-03T11:07:03.768458Z"
    }
   },
   "outputs": [],
   "source": [
    "def merge_with_PNP530Cardio126BD(phenDF,phenDF_colToMerge='UserID',BDfile_colToMerge='UserID'):\n",
    "    #load PNP530Cardio126 sample list:\n",
    "    with open('/net/mraid08/export/genie/Lab/Personal/ShaniBAF/Sample files/BD lists/PNP530','rb') as fp:\n",
    "        PNP530=pickle.load(fp)\n",
    "    with open('/net/mraid08/export/genie/Lab/Personal/ShaniBAF/Sample files/BD lists/Cardio126','rb') as fp:\n",
    "        Cardio126=pickle.load(fp)\n",
    "    #load BD SAMPLE FILE:\n",
    "    f1 = '/net/mraid08/export/genie/Lab/Personal/ShaniBAF/Sample files/updatedBDandFDlists/BDfile_31052018.xlsx'          \n",
    "    BDfile = pd.read_excel(f1)\n",
    "    \n",
    "    BDfile_small=BDfile[['DnaID',BDfile_colToMerge]]\n",
    "#     print len(BDfile_small)\n",
    "    BDfile_small=BDfile_small.drop_duplicates()\n",
    "    BDfile_small=BDfile_small.rename(columns={'DnaID':'BD'})\n",
    "    \n",
    "    PNP530Cardio126regs=BDfile_small[BDfile_small['BD'].isin(Cardio126+PNP530)]\n",
    "    \n",
    "    # get the phenotypic data only for pnp530Cardio126 samples and index by BD:\n",
    "    phen_with_PNP530Cardio126BD=pd.merge(PNP530Cardio126regs,phenDF,how='left', left_on=BDfile_colToMerge,right_on=phenDF_colToMerge)\n",
    "    phen_with_PNP530Cardio126BD=phen_with_PNP530Cardio126BD.drop(BDfile_colToMerge,axis=1).set_index('BD')\n",
    "    \n",
    "    print ('phen_with_PNP530Cardio126BD.shape: ',phen_with_PNP530Cardio126BD.shape)\n",
    "    if phen_with_PNP530Cardio126BD.shape[0]==656:\n",
    "        print 'df length is ok'\n",
    "    else:\n",
    "        print 'df length is not 656, removing duplicates:'\n",
    "        print 'those are the duplicates:'\n",
    "        df=phen_with_PNP530Cardio126BD.reset_index()\n",
    "        print df[df.duplicated(subset='BD', keep=False)]\n",
    "#         phen_with_PNP530Cardio126BD = phen_with_PNP530Cardio126BD.reset_index().drop_duplicates(subset='BD', keep='last').set_index('BD')\n",
    "#         print ('phen_with_PNP530Cardio126BD.shape now is: ',phen_with_PNP530Cardio126BD.shape)\n",
    " \n",
    "    \n",
    "    return phen_with_PNP530Cardio126BD\n",
    "        \n",
    "    \n",
    "    "
   ]
  },
  {
   "cell_type": "code",
   "execution_count": 20,
   "metadata": {
    "ExecuteTime": {
     "end_time": "2019-04-03T11:07:05.136103Z",
     "start_time": "2019-04-03T11:07:04.817668Z"
    }
   },
   "outputs": [
    {
     "name": "stdout",
     "output_type": "stream",
     "text": [
      "('phen_with_PNP530Cardio126BD.shape: ', (883, 1))\n",
      "df length is not 656, removing duplicates:\n",
      "those are the duplicates:\n",
      "        BD       BP\n",
      "7      BD8      NaN\n",
      "8      BD8   123/74\n",
      "9      BD8   126/69\n",
      "12    BD11   117/77\n",
      "13    BD11    99/70\n",
      "14    BD12      NaN\n",
      "15    BD12   119/75\n",
      "16    BD12   110/61\n",
      "49   BD108   101/65\n",
      "50   BD108      NaN\n",
      "59   BD123   127/83\n",
      "60   BD123  135/118\n",
      "81   BD149      NaN\n",
      "82   BD149   120/78\n",
      "83   BD149   120/78\n",
      "98   BD199   104/60\n",
      "99   BD199   139/87\n",
      "115  BD275  147/101\n",
      "116  BD275   115/75\n",
      "117  BD275      NaN\n",
      "118  BD275      NaN\n",
      "121  BD292   142/76\n",
      "122  BD292      NaN\n",
      "123  BD292  128/103\n",
      "124  BD292  143/101\n",
      "125  BD292      NaN\n",
      "126  BD292      NaN\n",
      "127  BD292  146/106\n",
      "143  BD339   130/87\n",
      "144  BD339   120/74\n",
      "..     ...      ...\n",
      "660  BD868      NaN\n",
      "661  BD868   124/76\n",
      "662  BD868   111/79\n",
      "663  BD870   130/73\n",
      "664  BD870      NaN\n",
      "665  BD870   108/62\n",
      "666  BD870   111/57\n",
      "667  BD870      NaN\n",
      "668  BD870      NaN\n",
      "669  BD870      NaN\n",
      "670  BD875      NaN\n",
      "671  BD875      NaN\n",
      "672  BD875   108/73\n",
      "673  BD875      NaN\n",
      "674  BD875   120/78\n",
      "675  BD875      NaN\n",
      "676  BD875   116/83\n",
      "677  BD875   112/71\n",
      "678  BD875   110/71\n",
      "736  BD936      NaN\n",
      "737  BD936   120/71\n",
      "740  BD939      NaN\n",
      "741  BD939      NaN\n",
      "742  BD939      NaN\n",
      "743  BD939      NaN\n",
      "744  BD939   147/90\n",
      "745  BD939   136/92\n",
      "746  BD939   155/96\n",
      "747  BD939   136/83\n",
      "748  BD939   146/90\n",
      "\n",
      "[299 rows x 2 columns]\n"
     ]
    }
   ],
   "source": [
    "BP=merge_with_PNP530Cardio126BD(BPinfo)"
   ]
  },
  {
   "cell_type": "code",
   "execution_count": 15,
   "metadata": {
    "ExecuteTime": {
     "end_time": "2019-04-03T11:04:17.804213Z",
     "start_time": "2019-04-03T11:04:17.798170Z"
    }
   },
   "outputs": [
    {
     "data": {
      "text/plain": [
       "(883, 1)"
      ]
     },
     "execution_count": 15,
     "metadata": {},
     "output_type": "execute_result"
    }
   ],
   "source": [
    "BP.shape"
   ]
  },
  {
   "cell_type": "code",
   "execution_count": 16,
   "metadata": {
    "ExecuteTime": {
     "end_time": "2019-04-03T11:04:23.892899Z",
     "start_time": "2019-04-03T11:04:23.871483Z"
    }
   },
   "outputs": [
    {
     "data": {
      "text/html": [
       "<div>\n",
       "<style scoped>\n",
       "    .dataframe tbody tr th:only-of-type {\n",
       "        vertical-align: middle;\n",
       "    }\n",
       "\n",
       "    .dataframe tbody tr th {\n",
       "        vertical-align: top;\n",
       "    }\n",
       "\n",
       "    .dataframe thead th {\n",
       "        text-align: right;\n",
       "    }\n",
       "</style>\n",
       "<table border=\"1\" class=\"dataframe\">\n",
       "  <thead>\n",
       "    <tr style=\"text-align: right;\">\n",
       "      <th></th>\n",
       "      <th>BP</th>\n",
       "    </tr>\n",
       "    <tr>\n",
       "      <th>BD</th>\n",
       "      <th></th>\n",
       "    </tr>\n",
       "  </thead>\n",
       "  <tbody>\n",
       "    <tr>\n",
       "      <th>BD1</th>\n",
       "      <td>115/83</td>\n",
       "    </tr>\n",
       "    <tr>\n",
       "      <th>BD2</th>\n",
       "      <td>133/74</td>\n",
       "    </tr>\n",
       "    <tr>\n",
       "      <th>BD3</th>\n",
       "      <td>132/75</td>\n",
       "    </tr>\n",
       "    <tr>\n",
       "      <th>BD4</th>\n",
       "      <td>122/78</td>\n",
       "    </tr>\n",
       "    <tr>\n",
       "      <th>BD5</th>\n",
       "      <td>137/73</td>\n",
       "    </tr>\n",
       "  </tbody>\n",
       "</table>\n",
       "</div>"
      ],
      "text/plain": [
       "         BP\n",
       "BD         \n",
       "BD1  115/83\n",
       "BD2  133/74\n",
       "BD3  132/75\n",
       "BD4  122/78\n",
       "BD5  137/73"
      ]
     },
     "execution_count": 16,
     "metadata": {},
     "output_type": "execute_result"
    }
   ],
   "source": [
    "BP.head()"
   ]
  },
  {
   "cell_type": "markdown",
   "metadata": {},
   "source": [
    "# general function to extract multiple-questions info from the db: < not finished >"
   ]
  },
  {
   "cell_type": "code",
   "execution_count": null,
   "metadata": {
    "ExecuteTime": {
     "end_time": "2018-09-13T06:24:16.870146Z",
     "start_time": "2018-09-13T06:24:14.198Z"
    }
   },
   "outputs": [],
   "source": [
    "# to find questionID, start with:\n",
    "# lookup = read_sql('select  QuestionID,Question, QuestionType from pnp.questions', getengine())\n",
    "# search=lookup[lookup.Question.str.contains(questionWord)]\n",
    "#and examine the questions. then use the following function with the selected questionIDlist\n",
    "\n",
    "def extract_phenotype_DB(questionIDlist,phenotypeName):\n",
    "    lookup = read_sql('select  QuestionID,Question, QuestionType from pnp.questions', getengine())\n",
    "    print 'lookup list length is %s' %len(lookup)\n",
    "    for n,questionID in enumerate(questionIDlist): \n",
    "        print n,questionID\n",
    "        answers = read_sql('select  UserID, QuestionID, Answer from pnp.questionnaire WHERE QuestionID=%s' %questionID, getengine())\n",
    "        if n==0:\n",
    "            answerDF=answers\n",
    "        else:\n",
    "            answerDF=pd.concat([answerDF,answers])\n",
    "            \n",
    "    return answerDF\n",
    "        \n",
    "    \n",
    "    \n",
    "#print 'question list length is %s' %len(Age)"
   ]
  },
  {
   "cell_type": "code",
   "execution_count": null,
   "metadata": {},
   "outputs": [],
   "source": []
  },
  {
   "cell_type": "code",
   "execution_count": null,
   "metadata": {},
   "outputs": [],
   "source": []
  },
  {
   "cell_type": "code",
   "execution_count": null,
   "metadata": {},
   "outputs": [],
   "source": []
  },
  {
   "cell_type": "code",
   "execution_count": null,
   "metadata": {
    "ExecuteTime": {
     "end_time": "2018-09-13T06:24:16.872004Z",
     "start_time": "2018-09-13T06:24:14.203Z"
    }
   },
   "outputs": [],
   "source": [
    "# extract all answers for this question"
   ]
  },
  {
   "cell_type": "code",
   "execution_count": null,
   "metadata": {
    "ExecuteTime": {
     "end_time": "2018-09-13T06:24:16.873770Z",
     "start_time": "2018-09-13T06:24:14.206Z"
    }
   },
   "outputs": [],
   "source": [
    "# add BDs based on UserIDs"
   ]
  },
  {
   "cell_type": "code",
   "execution_count": null,
   "metadata": {
    "ExecuteTime": {
     "end_time": "2018-09-13T06:24:16.875549Z",
     "start_time": "2018-09-13T06:24:14.208Z"
    }
   },
   "outputs": [],
   "source": [
    "#merge answers based on BDs:"
   ]
  }
 ],
 "metadata": {
  "kernelspec": {
   "display_name": "Python 2",
   "language": "python",
   "name": "python2"
  },
  "language_info": {
   "codemirror_mode": {
    "name": "ipython",
    "version": 2
   },
   "file_extension": ".py",
   "mimetype": "text/x-python",
   "name": "python",
   "nbconvert_exporter": "python",
   "pygments_lexer": "ipython2",
   "version": "2.7.8"
  },
  "toc": {
   "nav_menu": {},
   "number_sections": true,
   "sideBar": false,
   "skip_h1_title": false,
   "toc_cell": false,
   "toc_position": {
    "height": "395px",
    "left": "1px",
    "right": "20px",
    "top": "161px",
    "width": "257px"
   },
   "toc_section_display": "block",
   "toc_window_display": true
  },
  "varInspector": {
   "cols": {
    "lenName": 16,
    "lenType": 16,
    "lenVar": 40
   },
   "kernels_config": {
    "python": {
     "delete_cmd_postfix": "",
     "delete_cmd_prefix": "del ",
     "library": "var_list.py",
     "varRefreshCmd": "print(var_dic_list())"
    },
    "r": {
     "delete_cmd_postfix": ") ",
     "delete_cmd_prefix": "rm(",
     "library": "var_list.r",
     "varRefreshCmd": "cat(var_dic_list()) "
    }
   },
   "types_to_exclude": [
    "module",
    "function",
    "builtin_function_or_method",
    "instance",
    "_Feature"
   ],
   "window_display": false
  }
 },
 "nbformat": 4,
 "nbformat_minor": 2
}
