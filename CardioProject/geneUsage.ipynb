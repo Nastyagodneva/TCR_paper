{
 "cells": [
  {
   "cell_type": "code",
   "execution_count": 1,
   "metadata": {
    "collapsed": true
   },
   "outputs": [],
   "source": [
    "from os import listdir\n",
    "from os.path import isfile, join\n",
    "# from Utils import Load, Write\n",
    "import pandas as pd\n",
    "import numpy as np\n",
    "from scipy import stats\n",
    "# import math\n",
    "import re\n",
    "import matplotlib.pyplot as plt\n",
    "from matplotlib.backends.backend_pdf import PdfPages\n",
    "# from matplotlib import cm\n",
    "# import plotly.plotly as py\n",
    "from myplots import roundup, rounddown, find_decimal_fold, percentile_cut_off, rarefaction_calc, rarefaction_plot\n",
    "from matplotlib.ticker import FormatStrFormatter\n",
    "import cPickle as pickle\n",
    "from Bio.SeqUtils import GC\n",
    "from pop_calcs import *\n",
    "from pop_organize import *\n",
    "from skbio.diversity.alpha import shannon, simpson, berger_parker_d"
   ]
  },
  {
   "cell_type": "code",
   "execution_count": 2,
   "metadata": {
    "collapsed": false
   },
   "outputs": [
    {
     "name": "stdout",
     "output_type": "stream",
     "text": [
      "getting list of samples that have dfs...\n",
      "finished getting list of samples that have dfs\n"
     ]
    }
   ],
   "source": [
    "#########################\n",
    "#    main function      #\n",
    "#########################\n",
    "\n",
    "##generate list of sample file names:\n",
    "onlyfiles = [f for f in listdir(\"/net/mraid08/export/genie/Lab/Personal/ShaniBAF/TCR_demo_data/CSVfiles\") if isfile(join(\"/net/mraid08/export/genie/Lab/Personal/ShaniBAF/TCR_demo_data/CSVfiles\", f))]\n",
    "onlyfiles = [datafile for datafile in onlyfiles if datafile.startswith ('HIP') and datafile.endswith('.csv')]\n",
    "sample_names=[re.sub('.csv', '', datafile) for datafile in onlyfiles] ## generate list of \n",
    "                                                                      ## sample names out \n",
    "                                                                      ##of the sample file names\n",
    "df_file_names,samples_with_df=get_sample_with_dfs() ## check which samples have df\n",
    "generate_dfs=False ##False=load them from pickles, True=generate them. \n",
    "\n",
    "df_n=2 ## define number of dfs (prod, non-prod) *** check for update!***"
   ]
  },
  {
   "cell_type": "code",
   "execution_count": 1,
   "metadata": {
    "collapsed": false
   },
   "outputs": [
    {
     "ename": "SyntaxError",
     "evalue": "invalid syntax (<ipython-input-1-00fe2da0ed50>, line 3)",
     "output_type": "error",
     "traceback": [
      "\u001b[0;36m  File \u001b[0;32m\"<ipython-input-1-00fe2da0ed50>\"\u001b[0;36m, line \u001b[0;32m3\u001b[0m\n\u001b[0;31m    'vGeneName','vFamilyName', 'jGeneName', 'jFamilyName','dGeneName', 'v-j','v-j-family']\u001b[0m\n\u001b[0m                                                                                         ^\u001b[0m\n\u001b[0;31mSyntaxError\u001b[0m\u001b[0;31m:\u001b[0m invalid syntax\n"
     ]
    }
   ],
   "source": [
    "##length functions: \n",
    "\n",
    "'vGeneName','vFamilyName', 'jGeneName', 'jFamilyName','dGeneName', 'v-j','v-j-family']\n",
    "\n",
    "def mean_cdr3(df):\n",
    "    mean_cdr3=np.mean(df['cdr3Length'])\n",
    "    return mean_cdr3\n",
    "\n",
    "def sv_cdr3(df):\n",
    "    sv_cdr3=np.std(df['cdr3Length'])/np.mean(df['cdr3Length'])\n",
    "    return sv_cdr3\n",
    "\n",
    "def mean_vDeletion(df):\n",
    "    mean_vDeletion=np.mean(df['vDeletion'])\n",
    "    return mean_vDeletion\n",
    "\n",
    "def sv_vDeletion(df):\n",
    "    sv_vDeletion=np.std(df['vDeletion'])/np.mean(df['vDeletion'])\n",
    "    return sv_vDeletion\n",
    "\n",
    "def mean_n1Insertion(df):\n",
    "    mean_n1Insertion=np.mean(df['n1Insertion'])\n",
    "    return mean_n1Insertion\n",
    "\n",
    "def sv_n1Insertion(df):\n",
    "    sv_n1Insertion=np.std(df['n1Insertion'])/np.mean(df['n1Insertion'])\n",
    "    return sv_n1Insertion\n",
    "\n",
    "def mean_d5Deletion(df):\n",
    "    mean_d5Deletion=np.mean(df['d5Deletion'])\n",
    "    return mean_d5Deletion\n",
    "\n",
    "def sv_d5Deletion(df):\n",
    "    sv_d5Deletion=np.std(df['d5Deletion'])/np.mean(df['d5Deletion'])\n",
    "    return sv_d5Deletion\n",
    "\n",
    "def mean_d3Deletion(df):\n",
    "    mean_d3Deletion=np.mean(df['d3Deletion'])\n",
    "    return mean_d3Deletion\n",
    "\n",
    "def sv_d3Deletion(df):\n",
    "    sv_d3Deletion=np.std(df['d3Deletion'])/np.mean(df['d3Deletion'])\n",
    "    return sv_d3Deletion\n",
    "\n",
    "def mean_n2Insertion(df):\n",
    "    mean_n2Insertion=np.mean(df['n2Insertion'])\n",
    "    return mean_n2Insertion\n",
    "\n",
    "def sv_n2Insertion(df):\n",
    "    sv_n2Insertion=np.std(df['n2Insertion'])/np.mean(df['n2Insertion'])\n",
    "    return sv_n2Insertion\n",
    "\n",
    "def mean_jDeletion(df):\n",
    "    mean_jDeletion=np.mean(df['jDeletion'])\n",
    "    return mean_jDeletion\n",
    "\n",
    "def sv_jDeletion(df):\n",
    "    sv_jDeletion=np.std(df['jDeletion'])/np.mean(df['jDeletion'])\n",
    "    return sv_jDeletion\n"
   ]
  },
  {
   "cell_type": "code",
   "execution_count": 5,
   "metadata": {
    "collapsed": false
   },
   "outputs": [],
   "source": [
    "length_func_list=[mean_cdr3, sv_cdr3, mean_vDeletion, sv_vDeletion, mean_n1Insertion, sv_n1Insertion, mean_d5Deletion, sv_d5Deletion, \n",
    "                  mean_d3Deletion, sv_d3Deletion, mean_n2Insertion, sv_n2Insertion, mean_jDeletion, sv_jDeletion]"
   ]
  },
  {
   "cell_type": "code",
   "execution_count": 6,
   "metadata": {
    "collapsed": true
   },
   "outputs": [],
   "source": [
    "def generate_res_DF(sample_names, function_list, df_n):\n",
    "    print 'generating result dataframe...'\n",
    "    result_df=pd.DataFrame({'Sample': sample_names})\n",
    "    result_df=result_df.set_index('Sample')\n",
    "    function_names=[f.__name__ for f in function_list]\n",
    "    for function in function_names:\n",
    "        for i in range(df_n):\n",
    "            col_title=function+'_df_%s' %str(i)\n",
    "            result_df[col_title]=np.NaN\n",
    "    print 'finished generating result dataframe'\n",
    "    return result_df\n"
   ]
  },
  {
   "cell_type": "code",
   "execution_count": 7,
   "metadata": {
    "collapsed": false
   },
   "outputs": [
    {
     "name": "stdout",
     "output_type": "stream",
     "text": [
      "generating result dataframe...\n",
      "finished generating result dataframe\n"
     ]
    }
   ],
   "source": [
    "length_res_df=generate_res_DF(samples_with_df, length_func_list, df_n)"
   ]
  },
  {
   "cell_type": "code",
   "execution_count": 8,
   "metadata": {
    "collapsed": true
   },
   "outputs": [],
   "source": [
    "def get_sample_data(sample_name, generate_dfs): \n",
    "## this function generates dfs (general, only productive and only non productive) for each sample, and save\n",
    "## as pickles. alternatively, it loads these dfs from pickles. \n",
    "    \n",
    "    print 'getting sample data...'\n",
    "    \n",
    "    if generate_dfs:\n",
    "        sample_df=pd.read_table(\"/net/mraid08/export/genie/Lab/Personal/ShaniBAF/TCR_demo_data/%s.tsv\" %sample_name)  \n",
    "        sample_df_prod = sample_df[sample_df['sequenceStatus'] == 'In']\n",
    "        sample_df_non_prod = sample_df[sample_df['sequenceStatus'] != 'In']\n",
    "        \n",
    "        pickle.dump(sample_df, open('/net/mraid08/export/genie/Lab/Personal/ShaniBAF/TCR_demo_data/Pickles/sample_df_%s' %sample_name, \"wb\"))\n",
    "        pickle.dump(sample_df_prod, open('/net/mraid08/export/genie/Lab/Personal/ShaniBAF/TCR_demo_data/Pickles/sample_df_prod_%s' %sample_name, \"wb\"))\n",
    "        pickle.dump(sample_df_non_prod, open('/net/mraid08/export/genie/Lab/Personal/ShaniBAF/TCR_demo_data/Pickles/sample_df_non_prod_%s' %sample_name, \"wb\"))\n",
    "    else:\n",
    "        sample_df= pickle.load( open('/net/mraid08/export/genie/Lab/Personal/ShaniBAF/TCR_demo_data/Pickles/sample_df_%s' %sample_name,\"rb\" ))\n",
    "        sample_df_prod= pickle.load( open('/net/mraid08/export/genie/Lab/Personal/ShaniBAF/TCR_demo_data/Pickles/sample_df_prod_%s' %sample_name,\"rb\" ))\n",
    "        sample_df_non_prod= pickle.load( open('/net/mraid08/export/genie/Lab/Personal/ShaniBAF/TCR_demo_data/Pickles/sample_df_non_prod_%s' %sample_name,\"rb\" ))\n",
    "    \n",
    "    print 'finished getting sample data'\n",
    "    return sample_df, sample_df_prod, sample_df_non_prod\n",
    "\n",
    "#_________________________________________________________________"
   ]
  },
  {
   "cell_type": "code",
   "execution_count": 9,
   "metadata": {
    "collapsed": true
   },
   "outputs": [],
   "source": [
    "def calculate_res_df(result_df,function_list, sample_name, sample_df_prod, sample_df_non_prod, **kwargs):\n",
    "    ind=0\n",
    "    df_list=[sample_df_prod, sample_df_non_prod] ## df list is generated here and doesnt come \n",
    "                                                 ## as input as it contains the specfic dfs\n",
    "                                                 ##for each sample   \n",
    "    \n",
    "    for j, func in enumerate(function_list):\n",
    "        for i, df in enumerate(df_list):\n",
    "            result=func(df, **kwargs)\n",
    "            result_df.loc[sample_name, result_df.columns[ind]]=result\n",
    "            ind+=1\n",
    "    return result_df\n",
    "\n"
   ]
  },
  {
   "cell_type": "code",
   "execution_count": 10,
   "metadata": {
    "collapsed": true
   },
   "outputs": [],
   "source": [
    "n_samples=4"
   ]
  },
  {
   "cell_type": "code",
   "execution_count": null,
   "metadata": {
    "collapsed": false
   },
   "outputs": [
    {
     "name": "stdout",
     "output_type": "stream",
     "text": [
      "1\n",
      "HIP11513\n",
      "getting sample data...\n"
     ]
    }
   ],
   "source": [
    "n=1\n",
    "for d in range(len(samples_with_df[:n_samples])): ##***change here for more samples!***\n",
    "    sample_name=samples_with_df[d]\n",
    "    print n\n",
    "    print sample_name\n",
    "## extract prod and non-prod dfs: \n",
    "    sample_df, sample_df_prod, sample_df_non_prod=get_sample_data(sample_name, generate_dfs)\n",
    "    percent_prod=perc_prod(sample_df)\n",
    "#    perProd_res_df.loc[sample_name, 'perc_prod_df_0']=percent_prod\n",
    "#    general_res_df=calculate_res_df(general_res_df,general_function_list, sample_name, sample_df_prod, sample_df_non_prod) \n",
    "#    clonality_res_df=calculate_res_df(clonality_res_df,clonality_func_list, sample_name, sample_df_prod, sample_df_non_prod)\n",
    "#    diversity_res_df=calculate_res_df(diversity_res_df,diversity_func_list, sample_name, sample_df_prod, sample_df_non_prod)\n",
    "    length_res_df=calculate_res_df(length_res_df,length_func_list, sample_name, sample_df_prod, sample_df_non_prod)\n",
    "    n=n+1\n",
    "#with open('/net/mraid08/export/genie/Lab/Personal/ShaniBAF/TCR_demo_data/Pickles/general_res_df_%s_samples' %n_samples, \"wb\") as f1:\n",
    "#    pickle.dump(general_res_df, f1)\n",
    "#with open('/net/mraid08/export/genie/Lab/Personal/ShaniBAF/TCR_demo_data/Pickles/perProd_res_df_%s_samples' %n_samples, \"wb\") as f2:\n",
    "#    pickle.dump(perProd_res_df, f2)\n",
    "#with open('/net/mraid08/export/genie/Lab/Personal/ShaniBAF/TCR_demo_data/Pickles/clonality_res_df_%s_samples' %n_samples, \"wb\") as f3:\n",
    "#    pickle.dump(clonality_res_df, f3)\n",
    "#with open('/net/mraid08/export/genie/Lab/Personal/ShaniBAF/TCR_demo_data/Pickles/diversity_res_df_%s_samples' %n_samples, \"wb\") as f4:\n",
    "    pickle.dump(diversity_res_df, f4)\n",
    "with open('/net/mraid08/export/genie/Lab/Personal/ShaniBAF/TCR_demo_data/Pickles/length_res_df_%s_samples' %n_samples, \"wb\") as f5:\n",
    "    pickle.dump(length_res_df, f5)\n"
   ]
  },
  {
   "cell_type": "code",
   "execution_count": null,
   "metadata": {
    "collapsed": true
   },
   "outputs": [],
   "source": []
  }
 ],
 "metadata": {
  "kernelspec": {
   "display_name": "Python 2",
   "language": "python",
   "name": "python2"
  },
  "language_info": {
   "codemirror_mode": {
    "name": "ipython",
    "version": 2
   },
   "file_extension": ".py",
   "mimetype": "text/x-python",
   "name": "python",
   "nbconvert_exporter": "python",
   "pygments_lexer": "ipython2",
   "version": "2.7.8"
  }
 },
 "nbformat": 4,
 "nbformat_minor": 1
}
