{
 "cells": [
  {
   "cell_type": "markdown",
   "metadata": {},
   "source": [
    "# IMPORTS"
   ]
  },
  {
   "cell_type": "code",
   "execution_count": 1,
   "metadata": {
    "ExecuteTime": {
     "end_time": "2018-05-16T16:08:15.081635Z",
     "start_time": "2018-05-16T16:08:12.423682Z"
    }
   },
   "outputs": [
    {
     "name": "stdout",
     "output_type": "stream",
     "text": [
      "done1\n",
      "stop\n",
      "stop\n",
      "done1\n",
      "stop\n",
      "done\n",
      "done\n"
     ]
    }
   ],
   "source": [
    "from os import listdir,mkdir,makedirs\n",
    "from os.path import isfile, join, isdir,exists\n",
    "import pandas as pd\n",
    "import numpy as np\n",
    "from scipy import stats\n",
    "import re\n",
    "import matplotlib.pyplot as plt\n",
    "from matplotlib.backends.backend_pdf import PdfPages\n",
    "from myplots import roundup, rounddown, find_decimal_fold, percentile_cut_off, rarefaction_calc, rarefaction_plot,draw_correlation_scatter\n",
    "from matplotlib.ticker import FormatStrFormatter\n",
    "import cPickle as pickle\n",
    "from Bio.SeqUtils import GC\n",
    "import seaborn as sns\n",
    "import random\n",
    "from scipy.stats import pearsonr,fisher_exact\n",
    "from skbio.diversity.alpha import shannon, simpson, berger_parker_d\n",
    "\n",
    "from pop_organize import get_sample_data, get_sample_with_dfs\n",
    "from SufficientStatistics import *\n",
    "from MyFunctionsShani import *\n",
    "import math\n",
    "from myplots import roundup, rounddown, find_decimal_fold\n",
    "from skbio.stats.distance import mantel\n",
    "from scipy.spatial.distance import braycurtis, pdist\n",
    "from GeneralFeaturePhenotypeInteractions.Feature_phenotype_functions import * \n",
    "from TCR_microbiome_interactions.TCR_microbiome_interactions_functions import *\n",
    "from SampleLists.SampleFileFunctions import *\n",
    "\n",
    "import os\n",
    "from Utils import cacheOnDisk\n",
    "from queue.qp import qp,fakeqp\n",
    "from addloglevels import sethandlers\n",
    "\n",
    "MyPath='/net/mraid08/export/genie/Lab/Personal/ShaniBAF'"
   ]
  },
  {
   "cell_type": "code",
   "execution_count": 2,
   "metadata": {
    "ExecuteTime": {
     "end_time": "2018-05-16T16:08:16.279614Z",
     "start_time": "2018-05-16T16:08:16.271123Z"
    },
    "scrolled": true
   },
   "outputs": [
    {
     "data": {
      "text/plain": [
       "'16052018'"
      ]
     },
     "execution_count": 2,
     "metadata": {},
     "output_type": "execute_result"
    }
   ],
   "source": [
    "import time\n",
    "cdate=str(time.strftime(\"%d%m%Y\"))\n",
    "cdate\n"
   ]
  },
  {
   "cell_type": "markdown",
   "metadata": {},
   "source": [
    "# plan"
   ]
  },
  {
   "cell_type": "markdown",
   "metadata": {},
   "source": [
    "\n",
    "#some ideas and code are taken from notebook: 'Feature-Phenotype interactions in the PNP cohort-2-Copy1'\n",
    "\n",
    "\n",
    "1. load TCR sharing matrix - take subset according to threshold\n",
    "2. load Mb table  - take subset according to the same threshold\n",
    "3. filter same sample, outliers-yes/no\n",
    "3. calculate features per sample:\n",
    "n common seqs/species, mean RA, top RA, shannon, simpson, berger\n",
    "4. calculate correlations between parameters within dataset\n",
    "5. calculate correlations between parameters between TCR and Mb\n",
    "6. calculate distance matrix for TCR and Mb and correlate (braycurtis, euclidean, jaccard)"
   ]
  },
  {
   "cell_type": "markdown",
   "metadata": {},
   "source": [
    "# TCR-Mb repertoire diversity correlations - devlope"
   ]
  },
  {
   "cell_type": "markdown",
   "metadata": {},
   "source": [
    "### load and prepare Mb file:"
   ]
  },
  {
   "cell_type": "code",
   "execution_count": null,
   "metadata": {
    "ExecuteTime": {
     "end_time": "2018-05-16T15:59:41.248298Z",
     "start_time": "2018-05-16T15:59:41.133624Z"
    }
   },
   "outputs": [],
   "source": [
    "print 'loading most updated Mb file...'\n",
    "f1 = '%s/MicrobiomeDataTables/FilteredAndMergedOnBD/MPA_s_AllSeqProjects_SampleListPNP515_filterGenotekTrue_filterMinimalRead9000000_meannSTDNonenMinSamplesNone_filterOutlierSampleFalse_filterSamePersonFalse' % MyPath\n",
    "groupedFilteredMB = pd.read_pickle(f1)\n",
    "filterGenotek = True\n",
    "filterMinimalReads = 9000000\n",
    "\n",
    "MbDFName = 'Mb_Swabs%sMinReads%s' % (filterGenotek, filterMinimalReads)"
   ]
  },
  {
   "cell_type": "code",
   "execution_count": null,
   "metadata": {},
   "outputs": [],
   "source": [
    "groupedFilteredMB.head()"
   ]
  },
  {
   "cell_type": "code",
   "execution_count": null,
   "metadata": {
    "ExecuteTime": {
     "end_time": "2018-05-16T15:59:34.644804Z",
     "start_time": "2018-05-16T15:59:34.128583Z"
    }
   },
   "outputs": [],
   "source": [
    "# prepare MB file:\n",
    "# load BD_FD converter, to make sure we remove BD_FD columns from the MB file:\n",
    "f1 = '%s/Sample files/updatedBDandFDlists/final_BD_FD_converter_mergedOnYear_RCfolderAllSeqProjects_17042018' % MyPath\n",
    "BD_FD = pd.read_pickle(f1)\n",
    "\n",
    "try:\n",
    "    MbDF_RA = groupedFilteredMB.set_index('BD')  #### very important!!\n",
    "except KeyError:\n",
    "    print 'couldnt reset index to BD,probably BD is already the index'\n",
    "    MbDF_RA = groupedFilteredMB\n",
    "\n",
    "\n",
    "# remove unnecessary columns:\n",
    "for column in BD_FD.columns.values:\n",
    "    if column in MbDF_RA.columns.values:\n",
    "        print 'dropping %s column' % column\n",
    "        MbDF_RA = MbDF_RA.drop(column, axis=1)"
   ]
  },
  {
   "cell_type": "markdown",
   "metadata": {},
   "source": [
    "### loading and preparing TCR file"
   ]
  },
  {
   "cell_type": "code",
   "execution_count": null,
   "metadata": {},
   "outputs": [],
   "source": [
    "datasetFolder='%s/TCR_real_data/SubSampled15000data_rep2' %MyPath\n",
    "datasetName='PNP515_ss15000_rep2'\n",
    "\n",
    "minNshared = 50  # add to function variables if necessary\n",
    "file1 = '%s/sharingAnalysis/sharingMatrix_%s_minNshared%s_RA' % (datasetFolder, datasetName, minNshared)\n",
    "TCRdf_RA = pd.read_pickle(file1)\n",
    "\n",
    "TCRdfName = 'TCRminNshared%s' % minNshared"
   ]
  },
  {
   "cell_type": "markdown",
   "metadata": {},
   "source": [
    "### define cutoffs for TCR and Mb matrix:"
   ]
  },
  {
   "cell_type": "code",
   "execution_count": null,
   "metadata": {},
   "outputs": [],
   "source": [
    "thresholdList=[(None,None,50,50)]\n",
    "outlierSTD=3\n",
    "\n",
    "for t in thresholdList:\n",
    "        NsharedSamplesForSpecies = t[0]\n",
    "        NsharedSamplesForSeqs = t[1]\n",
    "        topNspecies = t[2]\n",
    "        topNseqs = t[3]\n",
    "        print 'threshold parameters are:'\n",
    "        print NsharedSamplesForSpecies, NsharedSamplesForSeqs, topNspecies, topNseqs"
   ]
  },
  {
   "cell_type": "markdown",
   "metadata": {},
   "source": [
    "### prepare TCR and Mb tables according to the cutoffs:"
   ]
  },
  {
   "cell_type": "markdown",
   "metadata": {},
   "source": [
    "*get only relevant sequences and species according to the thresholds\n",
    "*remove same person\n",
    "*merge table and ensure the same samples appear in both tables, in the same order\n",
    "*filter outliers"
   ]
  },
  {
   "cell_type": "code",
   "execution_count": null,
   "metadata": {},
   "outputs": [],
   "source": [
    "species_sequences_df, speciesList, sequenceList=prepare_MbDF_and_TCRdf_for_analysis(MbDF_RA, MbDFName, TCRdf_RA, TCRdfName, NsharedSamplesForSpecies, NsharedSamplesForSeqs,\n",
    "                                          topNspecies, topNseqs)"
   ]
  },
  {
   "cell_type": "code",
   "execution_count": null,
   "metadata": {},
   "outputs": [],
   "source": [
    "print len(species_sequences_df)\n",
    "if outlierSTD is not None:\n",
    "    print 'filtering outliers...'\n",
    "    species_sequences_df_filtered = filter_outliers(df=species_sequences_df, \n",
    "                                    outlierSTD=outlierSTD, columnList=species_sequences_df.columns.values)\n",
    "else:\n",
    "    species_sequences_df_filtered=species_sequences_df\n",
    "print len(species_sequences_df_filtered)  "
   ]
  },
  {
   "cell_type": "code",
   "execution_count": null,
   "metadata": {},
   "outputs": [],
   "source": [
    "# get seperate Mb table:\n",
    "species_df=species_sequences_df_filtered[speciesList]\n",
    "print species_df.shape\n",
    "print species_df.index[:5]\n",
    "print species_df.index[-5:]\n",
    "# print species_df.head()\n"
   ]
  },
  {
   "cell_type": "code",
   "execution_count": null,
   "metadata": {},
   "outputs": [],
   "source": [
    "# get seperate TCR table:\n",
    "seq_df=species_sequences_df_filtered[sequenceList]\n",
    "print seq_df.shape\n",
    "print seq_df.index[:5]\n",
    "print seq_df.index[-5:]\n",
    "# print species_df.head()"
   ]
  },
  {
   "cell_type": "markdown",
   "metadata": {},
   "source": [
    "### calculate features for both dfs:\n",
    "n common seqs/species, mean RA, top RA, shannon, simpson, berger\n"
   ]
  },
  {
   "cell_type": "code",
   "execution_count": null,
   "metadata": {},
   "outputs": [],
   "source": [
    "seqFeatureDF=calc_diversity_features_for_public_matrix(seq_df)"
   ]
  },
  {
   "cell_type": "code",
   "execution_count": null,
   "metadata": {},
   "outputs": [],
   "source": [
    "speciesFeatureDF=calc_diversity_features_for_public_matrix(species_df)"
   ]
  },
  {
   "cell_type": "markdown",
   "metadata": {},
   "source": [
    "### calculate correlations between TCR and Mb:"
   ]
  },
  {
   "cell_type": "code",
   "execution_count": null,
   "metadata": {},
   "outputs": [],
   "source": [
    "for column in seqFeatureDF.columns:\n",
    "    r,p=MyPearsonr(seqFeatureDF[column],speciesFeatureDF[column])\n",
    "    print column,r,p"
   ]
  },
  {
   "cell_type": "markdown",
   "metadata": {},
   "source": [
    "### define functions:"
   ]
  },
  {
   "cell_type": "code",
   "execution_count": null,
   "metadata": {},
   "outputs": [],
   "source": [
    "def calc_diversity_features_for_public_matrix(df):\n",
    "#     print 'calculate diversity features for df...'\n",
    "    featureDF=pd.DataFrame(index=df.index)\n",
    "    featureDF['nCom']=df.apply(lambda x: len([i for i in x if i>0]),axis=1)\n",
    "    featureDF['meanRA']=df.apply(np.mean,axis=1)\n",
    "    featureDF['maxRA']=df.apply(np.max,axis=1)\n",
    "    featureDF['simpson']=df.apply(lambda x: simpson([int(i*1000) for i in x if not np.isnan(i)]),axis=1)\n",
    "    featureDF['berger_parker_d']=df.apply(lambda x: berger_parker_d([int(i*1000) for i in x if not np.isnan(i)]),axis=1)\n",
    "    featureDF['shannon']=df.apply(lambda x: shannon([int(i*1000) for i in x if not np.isnan(i)],base=2),axis=1)\n",
    "#     print featureDF.head()\n",
    "    \n",
    "    print 'calculate features correlations...'\n",
    "    for i in range(len(featureDF.columns)):\n",
    "        for j in range(i+1,len(featureDF.columns)):\n",
    "            column1=featureDF.columns[i]\n",
    "            column2=featureDF.columns[j]\n",
    "            r,p=MyPearsonr(featureDF[column1],featureDF[column2])\n",
    "#             print column1, column2, r,p\n",
    "            \n",
    "    return featureDF"
   ]
  },
  {
   "cell_type": "code",
   "execution_count": null,
   "metadata": {},
   "outputs": [],
   "source": [
    "def calc_diversity_correlations_TCR_Mb(datasetFolder,MbDF_RA,MbDFName,TCRdf_RA,TCRdfName,thresholdList,\n",
    "                                      outlierSTD,minNshared):\n",
    "    \n",
    "    #(1) prepare MB file:\n",
    "    # load BD_FD converter, to make sure we remove BD_FD columns from the MB file:\n",
    "    f1 = '%s/Sample files/updatedBDandFDlists/final_BD_FD_converter_mergedOnYear_RCfolderAllSeqProjects_17042018' % MyPath\n",
    "    BD_FD = pd.read_pickle(f1)\n",
    "\n",
    "    try:\n",
    "        MbDF_RA = MbDF_RA.set_index('BD')  #### very important!!\n",
    "    except KeyError:\n",
    "        print 'couldnt reset index to BD,probably BD is already the index'\n",
    "        MbDF_RA = MbDF_RA\n",
    "\n",
    "\n",
    "    # remove unnecessary columns:\n",
    "    for column in BD_FD.columns.values:\n",
    "        if column in MbDF_RA.columns.values:\n",
    "            print 'dropping %s column' % column\n",
    "            MbDF_RA = MbDF_RA.drop(column, axis=1)\n",
    "                                       \n",
    "    ### (2) define cutoffs for TCR and Mb matrix:\n",
    "    for t in thresholdList:\n",
    "        NsharedSamplesForSpecies = t[0]\n",
    "        NsharedSamplesForSeqs = t[1]\n",
    "        topNspecies = t[2]\n",
    "        topNseqs = t[3]\n",
    "        print 'threshold parameters are:'\n",
    "        print NsharedSamplesForSpecies, NsharedSamplesForSeqs, topNspecies, topNseqs\n",
    "    \n",
    "        ### (3) prepare TCR and Mb tables according to the cutoffs:\n",
    "        species_sequences_df, speciesList, sequenceList=prepare_MbDF_and_TCRdf_for_analysis(MbDF_RA, MbDFName, TCRdf_RA, TCRdfName, NsharedSamplesForSpecies, NsharedSamplesForSeqs,\n",
    "                                              topNspecies, topNseqs)\n",
    "        print 'species_sequences_df length is %s' %len(species_sequences_df)\n",
    "        if outlierSTD is not None:\n",
    "            print 'filtering outliers...'\n",
    "            species_sequences_df_filtered = filter_outliers(df=species_sequences_df, \n",
    "                                            outlierSTD=outlierSTD, columnList=species_sequences_df.columns.values)\n",
    "        else:\n",
    "            species_sequences_df_filtered=species_sequences_df\n",
    "        print 'species_sequences_df length is %s' %len(species_sequences_df_filtered)\n",
    "\n",
    "        # get seperate Mb table:\n",
    "        species_df=species_sequences_df_filtered[speciesList]\n",
    "        print 'species_df shape is %s_%s' %(species_df.shape[0],species_df.shape[1])\n",
    "    #     print species_df.index[:5]\n",
    "    #     print species_df.index[-5:]\n",
    "    #     # print species_df.head()\n",
    "\n",
    "        # get seperate TCR table:\n",
    "        seq_df=species_sequences_df_filtered[sequenceList]\n",
    "        print 'seq_df shape is %s_%s' %(seq_df.shape[0],seq_df.shape[1])\n",
    "    #     print seq_df.index[:5]\n",
    "    #     print seq_df.index[-5:]\n",
    "    #     # print species_df.head()\n",
    "\n",
    "        ### (4) calculate features for both dfs:\n",
    "        print 'calculating features for seqDF...'\n",
    "        seqFeatureDF=calc_diversity_features_for_public_matrix(seq_df)\n",
    "        print 'calculating features for speciesDF...'\n",
    "        speciesFeatureDF=calc_diversity_features_for_public_matrix(species_df)\n",
    "\n",
    "        ### (5) calculate correlations between TCR and Mb:\n",
    "        print 'calculating correlation between TCR and MB...'\n",
    "        divCorrTCR_MB=pd.DataFrame()\n",
    "        for n,column in enumerate(seqFeatureDF.columns):\n",
    "            r,p=MyPearsonr(seqFeatureDF[column],speciesFeatureDF[column])\n",
    "            print column,r,p\n",
    "            divCorrTCR_MB.loc[n,'column']=column\n",
    "            divCorrTCR_MB.loc[n,'r']=r\n",
    "            divCorrTCR_MB.loc[n,'p']=p\n",
    "\n",
    "        ### save diversity correlation df....\n",
    "        minP=round(divCorrTCR_MB['p'].min(),3)\n",
    "        print 'the best p-value is %s' %minP\n",
    "        print 'saving file...'\n",
    "        parameters='t(%s%s%s%s)_std%s_minNshared%s' %(NsharedSamplesForSpecies, NsharedSamplesForSeqs, topNspecies, \n",
    "                                         topNseqs,outlierSTD,minNshared)\n",
    "        folder='%s/TCR_mb_results/divCorrTCR_MB_dfs' %datasetFolder\n",
    "        if not isdir(folder):\n",
    "            makedirs(folder)\n",
    "        file1='%s/divCorrTCR_MB_%s_minP%s.xlsx' %(folder,parameters,minP)\n",
    "        divCorrTCR_MB.to_excel(file1)\n",
    "                                       \n",
    "    return divCorrTCR_MB\n",
    "    \n",
    "\n",
    "    \n",
    "    "
   ]
  },
  {
   "cell_type": "markdown",
   "metadata": {},
   "source": [
    "# TCR-Mb diversity correlation - run function"
   ]
  },
  {
   "cell_type": "markdown",
   "metadata": {},
   "source": [
    "### try to run from .py"
   ]
  },
  {
   "cell_type": "code",
   "execution_count": null,
   "metadata": {},
   "outputs": [],
   "source": [
    "stdList=[None]\n",
    "thresholdList=[(None,None,50,50)]\n",
    "\n",
    "datasetFolder='%s/TCR_real_data/SubSampled12500data_rep2' %MyPath\n",
    "datasetName='PNP515_ss12500_rep2'\n",
    "\n",
    "f1 = '%s/MicrobiomeDataTables/FilteredAndMergedOnBD/MPA_s_AllSeqProjects_SampleListPNP515_filterGenotekTrue_filterMinimalRead9000000_meannSTDNonenMinSamplesNone_filterOutlierSampleFalse_filterSamePersonFalse' % MyPath\n",
    "MbDF_RA = pd.read_pickle(f1)\n",
    "filterGenotek = True\n",
    "filterMinimalReads = 9000000\n",
    "MbDFName = 'Mb_Swabs%sMinReads%s' % (filterGenotek, filterMinimalReads)\n",
    "\n",
    "minNshared = 50  # add to function variables if necessary\n",
    "file1 = '%s/sharingAnalysis/sharingMatrix_%s_minNshared%s_RA' % (datasetFolder, datasetName, minNshared)\n",
    "TCRdf_RA = pd.read_pickle(file1)\n",
    "TCRdfName = 'TCRminNshared%s' % minNshared\n",
    "\n",
    "for outlierSTD in stdList:\n",
    "    print 'outlierSTD=%s' %outlierSTD\n",
    "    divCorrTCR_MB=calc_diversity_correlations_TCR_Mb(datasetFolder,MbDF_RA,MbDFName,TCRdf_RA,\n",
    "                                                 TCRdfName,thresholdList,outlierSTD,minNshared)"
   ]
  },
  {
   "cell_type": "markdown",
   "metadata": {},
   "source": [
    "### datasetPNP515_ss18000_rep2\n",
    "run from .py file:"
   ]
  },
  {
   "cell_type": "code",
   "execution_count": null,
   "metadata": {},
   "outputs": [],
   "source": [
    "\n",
    "stdList=[None]\n",
    "thresholdList=[(None,None,400,400),(None,None,1000,1000)]\n",
    "\n",
    "datasetFolder='%s/TCR_real_data/SubSampled18000data_rep2' %MyPath\n",
    "datasetName='PNP515_ss18000_rep2'\n",
    "\n",
    "f1 = '%s/MicrobiomeDataTables/FilteredAndMergedOnBD/MPA_s_AllSeqProjects_SampleListPNP515_filterGenotekTrue_filterMinimalRead9000000_meannSTDNonenMinSamplesNone_filterOutlierSampleFalse_filterSamePersonFalse' % MyPath\n",
    "MbDF_RA = pd.read_pickle(f1)\n",
    "filterGenotek = True\n",
    "filterMinimalReads = 9000000\n",
    "MbDFName = 'Mb_Swabs%sMinReads%s' % (filterGenotek, filterMinimalReads)\n",
    "\n",
    "minNshared = 2  # add to function variables if necessary\n",
    "file1 = '%s/sharingAnalysis/sharingMatrix_%s_minNshared%s_RA' % (datasetFolder, datasetName, minNshared)\n",
    "TCRdf_RA = pd.read_pickle(file1)\n",
    "TCRdfName = 'TCRminNshared%s' % minNshared\n",
    "\n",
    "for outlierSTD in stdList:\n",
    "    print 'outlierSTD=%s' %outlierSTD\n",
    "    divCorrTCR_MB=calc_diversity_correlations_TCR_Mb(datasetFolder,MbDF_RA,MbDFName,TCRdf_RA,\n",
    "                                                 TCRdfName,thresholdList,outlierSTD,minNshared)"
   ]
  },
  {
   "cell_type": "markdown",
   "metadata": {},
   "source": [
    "### run for all public seq and species:"
   ]
  },
  {
   "cell_type": "markdown",
   "metadata": {},
   "source": [
    "main outline of the following code:\n",
    "1. load TCRdf and MbDF with all common sequences and species (minNshared=2)\n",
    "2. clean matrices - remove unnecssary columns, set sample names as index\n",
    "3. if desired, zeros all RA values that are below 0.0001 (?)\n",
    "4. equalzie the matrices so they will include the same samples, in the same order\n",
    "5. calculates diversity and clonality features for each matrix\n",
    "6. calculate correlation between the diversity features\n",
    "7. plots the distributions and correlations of all diversity features.\n",
    "\n",
    "NOTES:\n",
    "files are saved! load instead of recalculating next time\n",
    "option to plot all distributions first"
   ]
  },
  {
   "cell_type": "code",
   "execution_count": null,
   "metadata": {},
   "outputs": [],
   "source": []
  },
  {
   "cell_type": "code",
   "execution_count": null,
   "metadata": {},
   "outputs": [],
   "source": []
  },
  {
   "cell_type": "markdown",
   "metadata": {},
   "source": [
    "#### load TCRdf and MbDF matrices that contains all seqs/species common to two samples or more:"
   ]
  },
  {
   "cell_type": "code",
   "execution_count": 3,
   "metadata": {
    "ExecuteTime": {
     "end_time": "2018-05-16T16:08:48.716037Z",
     "start_time": "2018-05-16T16:08:22.907540Z"
    }
   },
   "outputs": [
    {
     "name": "stdout",
     "output_type": "stream",
     "text": [
      "loading TCRdf and MbDF files...\n",
      "loading TCRdf_RA...\n",
      "done...\n",
      "loading TCRdf_binary...\n",
      "done\n",
      "checking for same-person pairs within the dataset:\n",
      "number of samples in the dataset - 392\n",
      "the sample pair BD617 and BD838 are in the dataset\n",
      "only sample BD714 is in the dataset\n",
      "loading MbDF_RA...\n",
      "       Abiotrophia_defectiva  Acidaminococcus_fermentans  \\\n",
      "BD                                                         \n",
      "BD1                      0.0                         0.0   \n",
      "BD10                     0.0                         0.0   \n",
      "BD101                    0.0                         0.0   \n",
      "BD105                    0.0                         0.0   \n",
      "BD106                    0.0                         0.0   \n",
      "\n",
      "       Acidaminococcus_intestini  Acidaminococcus_sp_BV3L6  \\\n",
      "BD                                                           \n",
      "BD1                          0.0                       0.0   \n",
      "BD10                         0.0                       0.0   \n",
      "BD101                        0.0                       0.0   \n",
      "BD105                        0.0                       0.0   \n",
      "BD106                        0.0                       0.0   \n",
      "\n",
      "       Acidaminococcus_sp_D21  \n",
      "BD                             \n",
      "BD1                       0.0  \n",
      "BD10                      0.0  \n",
      "BD101                     0.0  \n",
      "BD105                     0.0  \n",
      "BD106                     0.0  \n",
      "done...\n",
      "loading MbDF_binary...\n",
      "done\n",
      "       Abiotrophia_defectiva  Acidaminococcus_fermentans  \\\n",
      "BD                                                         \n",
      "BD1                        0                           0   \n",
      "BD10                       0                           0   \n",
      "BD101                      0                           0   \n",
      "BD105                      0                           0   \n",
      "BD106                      0                           0   \n",
      "\n",
      "       Acidaminococcus_intestini  Acidaminococcus_sp_BV3L6  \\\n",
      "BD                                                           \n",
      "BD1                            0                         0   \n",
      "BD10                           0                         0   \n",
      "BD101                          0                         0   \n",
      "BD105                          0                         0   \n",
      "BD106                          0                         0   \n",
      "\n",
      "       Acidaminococcus_sp_D21  \n",
      "BD                             \n",
      "BD1                         0  \n",
      "BD10                        0  \n",
      "BD101                       0  \n",
      "BD105                       0  \n",
      "BD106                       0  \n",
      "filtering species df according to minimal number of shared samples by species=2\n",
      "410\n",
      "checking for same-person pairs within the dataset:\n",
      "number of samples in the dataset - 447\n",
      "the sample pair BD617 and BD838 are in the dataset\n",
      "only sample BD714 is in the dataset\n",
      "loading BD_FD table\n",
      "number of BD-UserID pairs is 1099\n",
      "merging UserID info to BDgrouped table:\n",
      "1 UserIDs have more than one BD\n",
      "groupedDF length before dropping same person samples is 392\n",
      "removing UserIDs: [447]\n",
      "removing BD: [u'BD838']\n",
      "groupedDF shape after dropping same person samples is 391_276117\n",
      "loading BD_FD table\n",
      "number of BD-UserID pairs is 1099\n",
      "merging UserID info to BDgrouped table:\n",
      "1 UserIDs have more than one BD\n",
      "groupedDF length before dropping same person samples is 447\n",
      "removing UserIDs: [447]\n",
      "removing BD: [u'BD838']\n",
      "groupedDF shape after dropping same person samples is 446_410\n"
     ]
    }
   ],
   "source": [
    "#load files:\n",
    "datasetFolder='%s/TCR_real_data/SubSampled15000data_rep2' %MyPath\n",
    "datasetName='PNP515_ss15000_rep2'\n",
    "minNshared=2\n",
    "libPrepMethod=None\n",
    "\n",
    "\n",
    "print 'loading TCRdf and MbDF files...'\n",
    "#load files:\n",
    "TCRdf_RA,TCRdf_binary=prepare_TCRdfRA_TCRdfbinary_for_distMat(datasetFolder,datasetName,minNshared)\n",
    "MbDF_RA,MbDF_binary=prepare_MbDFRA_MbDFbinary_for_distMat(libPrepMethod)\n",
    "\n",
    "TCRdf_RA=filterSamePerson(TCRdf_RA,[0])\n",
    "MbDF_RA=filterSamePerson(MbDF_RA,[0])"
   ]
  },
  {
   "cell_type": "markdown",
   "metadata": {},
   "source": [
    "#### re-calculate relative abundances to sum-up to 1"
   ]
  },
  {
   "cell_type": "code",
   "execution_count": 35,
   "metadata": {
    "ExecuteTime": {
     "end_time": "2018-05-16T20:20:31.964961Z",
     "start_time": "2018-05-16T20:20:15.879830Z"
    }
   },
   "outputs": [
    {
     "name": "stdout",
     "output_type": "stream",
     "text": [
      "BD\n",
      "BD1      22.766667\n",
      "BD10     26.080000\n",
      "BD101    15.746667\n",
      "BD105    23.473333\n",
      "BD106    24.540000\n",
      "dtype: float64\n",
      "BD\n",
      "BD1      1.0\n",
      "BD10     1.0\n",
      "BD101    1.0\n",
      "BD105    1.0\n",
      "BD106    1.0\n",
      "dtype: float64\n"
     ]
    }
   ],
   "source": [
    "print TCRdf_RA.sum(axis=1)[:5]\n",
    "TCRdf_RA_norm=TCRdf_RA.div(TCRdf_RA.sum(axis=1),axis=0)\n",
    "\n",
    "\n",
    "print TCRdf_RA_norm.sum(axis=1)[:5]"
   ]
  },
  {
   "cell_type": "code",
   "execution_count": 34,
   "metadata": {
    "ExecuteTime": {
     "end_time": "2018-05-16T20:18:37.949923Z",
     "start_time": "2018-05-16T20:18:37.936198Z"
    }
   },
   "outputs": [
    {
     "name": "stdout",
     "output_type": "stream",
     "text": [
      "BD\n",
      "BD1       99.92777\n",
      "BD10      99.80338\n",
      "BD101     99.99996\n",
      "BD105    100.00006\n",
      "BD106    100.00002\n",
      "dtype: float64\n",
      "BD\n",
      "BD1      1.0\n",
      "BD10     1.0\n",
      "BD101    1.0\n",
      "BD105    1.0\n",
      "BD106    1.0\n",
      "dtype: float64\n"
     ]
    }
   ],
   "source": [
    "print MbDF_RA.sum(axis=1)[:5]\n",
    "MbDF_RA_norm=MbDF_RA.div(MbDF_RA.sum(axis=1),axis=0)\n",
    "\n",
    "\n",
    "print MbDF_RA_norm.sum(axis=1)[:5]"
   ]
  },
  {
   "cell_type": "code",
   "execution_count": 41,
   "metadata": {
    "ExecuteTime": {
     "end_time": "2018-05-16T20:30:10.796461Z",
     "start_time": "2018-05-16T20:30:10.608134Z"
    }
   },
   "outputs": [],
   "source": [
    "MbDF_RA_binary=MbDF_RA.applymap(lambda x: 1 if x>0 else 0)\n",
    "#df.applymap(lambda x: 0 if x=='None' else 1)"
   ]
  },
  {
   "cell_type": "code",
   "execution_count": 42,
   "metadata": {
    "ExecuteTime": {
     "end_time": "2018-05-16T20:37:05.597760Z",
     "start_time": "2018-05-16T20:37:05.541471Z"
    }
   },
   "outputs": [
    {
     "data": {
      "text/html": [
       "<div>\n",
       "<style>\n",
       "    .dataframe thead tr:only-child th {\n",
       "        text-align: right;\n",
       "    }\n",
       "\n",
       "    .dataframe thead th {\n",
       "        text-align: left;\n",
       "    }\n",
       "\n",
       "    .dataframe tbody tr th {\n",
       "        vertical-align: top;\n",
       "    }\n",
       "</style>\n",
       "<table border=\"1\" class=\"dataframe\">\n",
       "  <thead>\n",
       "    <tr style=\"text-align: right;\">\n",
       "      <th></th>\n",
       "      <th>Acidaminococcus_fermentans</th>\n",
       "      <th>Acidaminococcus_intestini</th>\n",
       "      <th>Acidaminococcus_sp_BV3L6</th>\n",
       "      <th>Acidaminococcus_sp_D21</th>\n",
       "      <th>Acidaminococcus_sp_HPA0509</th>\n",
       "      <th>Acidaminococcus_unclassified</th>\n",
       "      <th>Actinobacillus_unclassified</th>\n",
       "      <th>Actinomyces_graevenitzii</th>\n",
       "      <th>Actinomyces_johnsonii</th>\n",
       "      <th>Actinomyces_odontolyticus</th>\n",
       "      <th>...</th>\n",
       "      <th>Ureaplasma_unclassified</th>\n",
       "      <th>Ureaplasma_urealyticum</th>\n",
       "      <th>Varibaculum_cambriense</th>\n",
       "      <th>Veillonella_atypica</th>\n",
       "      <th>Veillonella_dispar</th>\n",
       "      <th>Veillonella_parvula</th>\n",
       "      <th>Veillonella_unclassified</th>\n",
       "      <th>Weissella_cibaria</th>\n",
       "      <th>Weissella_confusa</th>\n",
       "      <th>Weissella_unclassified</th>\n",
       "    </tr>\n",
       "    <tr>\n",
       "      <th>BD</th>\n",
       "      <th></th>\n",
       "      <th></th>\n",
       "      <th></th>\n",
       "      <th></th>\n",
       "      <th></th>\n",
       "      <th></th>\n",
       "      <th></th>\n",
       "      <th></th>\n",
       "      <th></th>\n",
       "      <th></th>\n",
       "      <th></th>\n",
       "      <th></th>\n",
       "      <th></th>\n",
       "      <th></th>\n",
       "      <th></th>\n",
       "      <th></th>\n",
       "      <th></th>\n",
       "      <th></th>\n",
       "      <th></th>\n",
       "      <th></th>\n",
       "      <th></th>\n",
       "    </tr>\n",
       "  </thead>\n",
       "  <tbody>\n",
       "    <tr>\n",
       "      <th>BD1</th>\n",
       "      <td>0</td>\n",
       "      <td>0</td>\n",
       "      <td>0</td>\n",
       "      <td>0</td>\n",
       "      <td>0</td>\n",
       "      <td>0</td>\n",
       "      <td>0</td>\n",
       "      <td>0</td>\n",
       "      <td>0</td>\n",
       "      <td>0</td>\n",
       "      <td>...</td>\n",
       "      <td>0</td>\n",
       "      <td>0</td>\n",
       "      <td>0</td>\n",
       "      <td>0</td>\n",
       "      <td>0</td>\n",
       "      <td>1</td>\n",
       "      <td>1</td>\n",
       "      <td>0</td>\n",
       "      <td>0</td>\n",
       "      <td>0</td>\n",
       "    </tr>\n",
       "    <tr>\n",
       "      <th>BD10</th>\n",
       "      <td>0</td>\n",
       "      <td>0</td>\n",
       "      <td>0</td>\n",
       "      <td>0</td>\n",
       "      <td>0</td>\n",
       "      <td>1</td>\n",
       "      <td>0</td>\n",
       "      <td>0</td>\n",
       "      <td>0</td>\n",
       "      <td>0</td>\n",
       "      <td>...</td>\n",
       "      <td>0</td>\n",
       "      <td>0</td>\n",
       "      <td>0</td>\n",
       "      <td>0</td>\n",
       "      <td>0</td>\n",
       "      <td>0</td>\n",
       "      <td>0</td>\n",
       "      <td>0</td>\n",
       "      <td>0</td>\n",
       "      <td>0</td>\n",
       "    </tr>\n",
       "    <tr>\n",
       "      <th>BD101</th>\n",
       "      <td>0</td>\n",
       "      <td>0</td>\n",
       "      <td>0</td>\n",
       "      <td>0</td>\n",
       "      <td>0</td>\n",
       "      <td>1</td>\n",
       "      <td>0</td>\n",
       "      <td>0</td>\n",
       "      <td>0</td>\n",
       "      <td>0</td>\n",
       "      <td>...</td>\n",
       "      <td>0</td>\n",
       "      <td>0</td>\n",
       "      <td>0</td>\n",
       "      <td>0</td>\n",
       "      <td>0</td>\n",
       "      <td>1</td>\n",
       "      <td>1</td>\n",
       "      <td>0</td>\n",
       "      <td>0</td>\n",
       "      <td>0</td>\n",
       "    </tr>\n",
       "    <tr>\n",
       "      <th>BD105</th>\n",
       "      <td>0</td>\n",
       "      <td>0</td>\n",
       "      <td>0</td>\n",
       "      <td>0</td>\n",
       "      <td>0</td>\n",
       "      <td>1</td>\n",
       "      <td>0</td>\n",
       "      <td>0</td>\n",
       "      <td>0</td>\n",
       "      <td>0</td>\n",
       "      <td>...</td>\n",
       "      <td>0</td>\n",
       "      <td>0</td>\n",
       "      <td>0</td>\n",
       "      <td>0</td>\n",
       "      <td>0</td>\n",
       "      <td>0</td>\n",
       "      <td>0</td>\n",
       "      <td>0</td>\n",
       "      <td>0</td>\n",
       "      <td>0</td>\n",
       "    </tr>\n",
       "    <tr>\n",
       "      <th>BD106</th>\n",
       "      <td>0</td>\n",
       "      <td>0</td>\n",
       "      <td>0</td>\n",
       "      <td>0</td>\n",
       "      <td>0</td>\n",
       "      <td>0</td>\n",
       "      <td>0</td>\n",
       "      <td>0</td>\n",
       "      <td>0</td>\n",
       "      <td>0</td>\n",
       "      <td>...</td>\n",
       "      <td>0</td>\n",
       "      <td>0</td>\n",
       "      <td>0</td>\n",
       "      <td>0</td>\n",
       "      <td>0</td>\n",
       "      <td>0</td>\n",
       "      <td>0</td>\n",
       "      <td>0</td>\n",
       "      <td>0</td>\n",
       "      <td>0</td>\n",
       "    </tr>\n",
       "  </tbody>\n",
       "</table>\n",
       "<p>5 rows × 402 columns</p>\n",
       "</div>"
      ],
      "text/plain": [
       "       Acidaminococcus_fermentans  Acidaminococcus_intestini  \\\n",
       "BD                                                             \n",
       "BD1                             0                          0   \n",
       "BD10                            0                          0   \n",
       "BD101                           0                          0   \n",
       "BD105                           0                          0   \n",
       "BD106                           0                          0   \n",
       "\n",
       "       Acidaminococcus_sp_BV3L6  Acidaminococcus_sp_D21  \\\n",
       "BD                                                        \n",
       "BD1                           0                       0   \n",
       "BD10                          0                       0   \n",
       "BD101                         0                       0   \n",
       "BD105                         0                       0   \n",
       "BD106                         0                       0   \n",
       "\n",
       "       Acidaminococcus_sp_HPA0509  Acidaminococcus_unclassified  \\\n",
       "BD                                                                \n",
       "BD1                             0                             0   \n",
       "BD10                            0                             1   \n",
       "BD101                           0                             1   \n",
       "BD105                           0                             1   \n",
       "BD106                           0                             0   \n",
       "\n",
       "       Actinobacillus_unclassified  Actinomyces_graevenitzii  \\\n",
       "BD                                                             \n",
       "BD1                              0                         0   \n",
       "BD10                             0                         0   \n",
       "BD101                            0                         0   \n",
       "BD105                            0                         0   \n",
       "BD106                            0                         0   \n",
       "\n",
       "       Actinomyces_johnsonii  Actinomyces_odontolyticus  \\\n",
       "BD                                                        \n",
       "BD1                        0                          0   \n",
       "BD10                       0                          0   \n",
       "BD101                      0                          0   \n",
       "BD105                      0                          0   \n",
       "BD106                      0                          0   \n",
       "\n",
       "                ...            Ureaplasma_unclassified  \\\n",
       "BD              ...                                      \n",
       "BD1             ...                                  0   \n",
       "BD10            ...                                  0   \n",
       "BD101           ...                                  0   \n",
       "BD105           ...                                  0   \n",
       "BD106           ...                                  0   \n",
       "\n",
       "       Ureaplasma_urealyticum  Varibaculum_cambriense  Veillonella_atypica  \\\n",
       "BD                                                                           \n",
       "BD1                         0                       0                    0   \n",
       "BD10                        0                       0                    0   \n",
       "BD101                       0                       0                    0   \n",
       "BD105                       0                       0                    0   \n",
       "BD106                       0                       0                    0   \n",
       "\n",
       "       Veillonella_dispar  Veillonella_parvula  Veillonella_unclassified  \\\n",
       "BD                                                                         \n",
       "BD1                     0                    1                         1   \n",
       "BD10                    0                    0                         0   \n",
       "BD101                   0                    1                         1   \n",
       "BD105                   0                    0                         0   \n",
       "BD106                   0                    0                         0   \n",
       "\n",
       "       Weissella_cibaria  Weissella_confusa  Weissella_unclassified  \n",
       "BD                                                                   \n",
       "BD1                    0                  0                       0  \n",
       "BD10                   0                  0                       0  \n",
       "BD101                  0                  0                       0  \n",
       "BD105                  0                  0                       0  \n",
       "BD106                  0                  0                       0  \n",
       "\n",
       "[5 rows x 402 columns]"
      ]
     },
     "execution_count": 42,
     "metadata": {},
     "output_type": "execute_result"
    }
   ],
   "source": [
    "MbDF_RA_binary.head()"
   ]
  },
  {
   "cell_type": "code",
   "execution_count": 43,
   "metadata": {
    "ExecuteTime": {
     "end_time": "2018-05-16T20:38:46.798234Z",
     "start_time": "2018-05-16T20:38:46.790855Z"
    }
   },
   "outputs": [
    {
     "data": {
      "text/plain": [
       "52"
      ]
     },
     "execution_count": 43,
     "metadata": {},
     "output_type": "execute_result"
    }
   ],
   "source": [
    "MbDF_RA_binary.sum(axis=1).min()\n"
   ]
  },
  {
   "cell_type": "code",
   "execution_count": null,
   "metadata": {
    "ExecuteTime": {
     "end_time": "2018-05-16T20:22:42.070230Z",
     "start_time": "2018-05-16T20:21:15.100Z"
    }
   },
   "outputs": [],
   "source": [
    "TCRdf_RA_binary=TCRdf_RA.apply(lambda x: 0 for i in x if i>0 else 1)"
   ]
  },
  {
   "cell_type": "code",
   "execution_count": null,
   "metadata": {
    "ExecuteTime": {
     "end_time": "2018-05-16T20:22:42.092002Z",
     "start_time": "2018-05-16T20:21:15.710Z"
    }
   },
   "outputs": [],
   "source": [
    "TCRdf_RA_binary.sum(axis=1).min()"
   ]
  },
  {
   "cell_type": "markdown",
   "metadata": {},
   "source": [
    "#### clean and order matrices:\n",
    "\n"
   ]
  },
  {
   "cell_type": "code",
   "execution_count": 4,
   "metadata": {
    "ExecuteTime": {
     "end_time": "2018-05-16T16:10:25.995809Z",
     "start_time": "2018-05-16T16:10:25.823937Z"
    }
   },
   "outputs": [
    {
     "name": "stdout",
     "output_type": "stream",
     "text": [
      "couldnt reset index to BD,probably BD is already the index\n",
      "dropping SPID column\n",
      "dropping connectionID column\n",
      "dropping PostHGF column\n",
      "dropping PostSubSamp column\n",
      "dropping BDrepeats column\n",
      "dropping FDrepeats column\n",
      "dropping manyToMany column\n",
      "dropping BD_index column\n"
     ]
    }
   ],
   "source": [
    "# remove unnecssary columns from MbDF:\n",
    "# load BD_FD converter, to make sure we remove BD_FD columns from the MB file:\n",
    "f1 = '%s/Sample files/updatedBDandFDlists/final_BD_FD_converter_mergedOnDate_RCfolderAllSeqProjects_13052018' % MyPath\n",
    "BD_FD = pd.read_pickle(f1)\n",
    "\n",
    "try:\n",
    "    MbDF_RA = MbDF_RA.set_index('BD')  #### very important!!\n",
    "except KeyError:\n",
    "    print 'couldnt reset index to BD,probably BD is already the index'\n",
    "    MbDF_RA = MbDF_RA\n",
    "\n",
    "\n",
    "# remove unnecessary columns:\n",
    "for column in BD_FD.columns.values:\n",
    "    if column in MbDF_RA.columns.values:\n",
    "        print 'dropping %s column' % column\n",
    "        MbDF_RA = MbDF_RA.drop(column, axis=1)\n",
    "        \n",
    "#convert data to percent:\n",
    "\n",
    "MbDF_RA=MbDF_RA.apply(lambda x:x*100)"
   ]
  },
  {
   "cell_type": "code",
   "execution_count": 5,
   "metadata": {
    "ExecuteTime": {
     "end_time": "2018-05-16T16:11:20.479290Z",
     "start_time": "2018-05-16T16:11:20.413531Z"
    }
   },
   "outputs": [
    {
     "data": {
      "text/html": [
       "<div>\n",
       "<style>\n",
       "    .dataframe thead tr:only-child th {\n",
       "        text-align: right;\n",
       "    }\n",
       "\n",
       "    .dataframe thead th {\n",
       "        text-align: left;\n",
       "    }\n",
       "\n",
       "    .dataframe tbody tr th {\n",
       "        vertical-align: top;\n",
       "    }\n",
       "</style>\n",
       "<table border=\"1\" class=\"dataframe\">\n",
       "  <thead>\n",
       "    <tr style=\"text-align: right;\">\n",
       "      <th></th>\n",
       "      <th>Acidaminococcus_fermentans</th>\n",
       "      <th>Acidaminococcus_intestini</th>\n",
       "      <th>Acidaminococcus_sp_BV3L6</th>\n",
       "      <th>Acidaminococcus_sp_D21</th>\n",
       "      <th>Acidaminococcus_sp_HPA0509</th>\n",
       "      <th>Acidaminococcus_unclassified</th>\n",
       "      <th>Actinobacillus_unclassified</th>\n",
       "      <th>Actinomyces_graevenitzii</th>\n",
       "      <th>Actinomyces_johnsonii</th>\n",
       "      <th>Actinomyces_odontolyticus</th>\n",
       "      <th>...</th>\n",
       "      <th>Ureaplasma_unclassified</th>\n",
       "      <th>Ureaplasma_urealyticum</th>\n",
       "      <th>Varibaculum_cambriense</th>\n",
       "      <th>Veillonella_atypica</th>\n",
       "      <th>Veillonella_dispar</th>\n",
       "      <th>Veillonella_parvula</th>\n",
       "      <th>Veillonella_unclassified</th>\n",
       "      <th>Weissella_cibaria</th>\n",
       "      <th>Weissella_confusa</th>\n",
       "      <th>Weissella_unclassified</th>\n",
       "    </tr>\n",
       "    <tr>\n",
       "      <th>BD</th>\n",
       "      <th></th>\n",
       "      <th></th>\n",
       "      <th></th>\n",
       "      <th></th>\n",
       "      <th></th>\n",
       "      <th></th>\n",
       "      <th></th>\n",
       "      <th></th>\n",
       "      <th></th>\n",
       "      <th></th>\n",
       "      <th></th>\n",
       "      <th></th>\n",
       "      <th></th>\n",
       "      <th></th>\n",
       "      <th></th>\n",
       "      <th></th>\n",
       "      <th></th>\n",
       "      <th></th>\n",
       "      <th></th>\n",
       "      <th></th>\n",
       "      <th></th>\n",
       "    </tr>\n",
       "  </thead>\n",
       "  <tbody>\n",
       "    <tr>\n",
       "      <th>BD1</th>\n",
       "      <td>0.0</td>\n",
       "      <td>0.0</td>\n",
       "      <td>0.0</td>\n",
       "      <td>0.0</td>\n",
       "      <td>0.0</td>\n",
       "      <td>0.00000</td>\n",
       "      <td>0.0</td>\n",
       "      <td>0.0</td>\n",
       "      <td>0.0</td>\n",
       "      <td>0.0</td>\n",
       "      <td>...</td>\n",
       "      <td>0.0</td>\n",
       "      <td>0.0</td>\n",
       "      <td>0.0</td>\n",
       "      <td>0.0</td>\n",
       "      <td>0.0</td>\n",
       "      <td>0.00577</td>\n",
       "      <td>0.01166</td>\n",
       "      <td>0.0</td>\n",
       "      <td>0.0</td>\n",
       "      <td>0.0</td>\n",
       "    </tr>\n",
       "    <tr>\n",
       "      <th>BD10</th>\n",
       "      <td>0.0</td>\n",
       "      <td>0.0</td>\n",
       "      <td>0.0</td>\n",
       "      <td>0.0</td>\n",
       "      <td>0.0</td>\n",
       "      <td>7.78724</td>\n",
       "      <td>0.0</td>\n",
       "      <td>0.0</td>\n",
       "      <td>0.0</td>\n",
       "      <td>0.0</td>\n",
       "      <td>...</td>\n",
       "      <td>0.0</td>\n",
       "      <td>0.0</td>\n",
       "      <td>0.0</td>\n",
       "      <td>0.0</td>\n",
       "      <td>0.0</td>\n",
       "      <td>0.00000</td>\n",
       "      <td>0.00000</td>\n",
       "      <td>0.0</td>\n",
       "      <td>0.0</td>\n",
       "      <td>0.0</td>\n",
       "    </tr>\n",
       "    <tr>\n",
       "      <th>BD101</th>\n",
       "      <td>0.0</td>\n",
       "      <td>0.0</td>\n",
       "      <td>0.0</td>\n",
       "      <td>0.0</td>\n",
       "      <td>0.0</td>\n",
       "      <td>0.08498</td>\n",
       "      <td>0.0</td>\n",
       "      <td>0.0</td>\n",
       "      <td>0.0</td>\n",
       "      <td>0.0</td>\n",
       "      <td>...</td>\n",
       "      <td>0.0</td>\n",
       "      <td>0.0</td>\n",
       "      <td>0.0</td>\n",
       "      <td>0.0</td>\n",
       "      <td>0.0</td>\n",
       "      <td>0.02648</td>\n",
       "      <td>0.00287</td>\n",
       "      <td>0.0</td>\n",
       "      <td>0.0</td>\n",
       "      <td>0.0</td>\n",
       "    </tr>\n",
       "    <tr>\n",
       "      <th>BD105</th>\n",
       "      <td>0.0</td>\n",
       "      <td>0.0</td>\n",
       "      <td>0.0</td>\n",
       "      <td>0.0</td>\n",
       "      <td>0.0</td>\n",
       "      <td>4.04655</td>\n",
       "      <td>0.0</td>\n",
       "      <td>0.0</td>\n",
       "      <td>0.0</td>\n",
       "      <td>0.0</td>\n",
       "      <td>...</td>\n",
       "      <td>0.0</td>\n",
       "      <td>0.0</td>\n",
       "      <td>0.0</td>\n",
       "      <td>0.0</td>\n",
       "      <td>0.0</td>\n",
       "      <td>0.00000</td>\n",
       "      <td>0.00000</td>\n",
       "      <td>0.0</td>\n",
       "      <td>0.0</td>\n",
       "      <td>0.0</td>\n",
       "    </tr>\n",
       "    <tr>\n",
       "      <th>BD106</th>\n",
       "      <td>0.0</td>\n",
       "      <td>0.0</td>\n",
       "      <td>0.0</td>\n",
       "      <td>0.0</td>\n",
       "      <td>0.0</td>\n",
       "      <td>0.00000</td>\n",
       "      <td>0.0</td>\n",
       "      <td>0.0</td>\n",
       "      <td>0.0</td>\n",
       "      <td>0.0</td>\n",
       "      <td>...</td>\n",
       "      <td>0.0</td>\n",
       "      <td>0.0</td>\n",
       "      <td>0.0</td>\n",
       "      <td>0.0</td>\n",
       "      <td>0.0</td>\n",
       "      <td>0.00000</td>\n",
       "      <td>0.00000</td>\n",
       "      <td>0.0</td>\n",
       "      <td>0.0</td>\n",
       "      <td>0.0</td>\n",
       "    </tr>\n",
       "  </tbody>\n",
       "</table>\n",
       "<p>5 rows × 402 columns</p>\n",
       "</div>"
      ],
      "text/plain": [
       "       Acidaminococcus_fermentans  Acidaminococcus_intestini  \\\n",
       "BD                                                             \n",
       "BD1                           0.0                        0.0   \n",
       "BD10                          0.0                        0.0   \n",
       "BD101                         0.0                        0.0   \n",
       "BD105                         0.0                        0.0   \n",
       "BD106                         0.0                        0.0   \n",
       "\n",
       "       Acidaminococcus_sp_BV3L6  Acidaminococcus_sp_D21  \\\n",
       "BD                                                        \n",
       "BD1                         0.0                     0.0   \n",
       "BD10                        0.0                     0.0   \n",
       "BD101                       0.0                     0.0   \n",
       "BD105                       0.0                     0.0   \n",
       "BD106                       0.0                     0.0   \n",
       "\n",
       "       Acidaminococcus_sp_HPA0509  Acidaminococcus_unclassified  \\\n",
       "BD                                                                \n",
       "BD1                           0.0                       0.00000   \n",
       "BD10                          0.0                       7.78724   \n",
       "BD101                         0.0                       0.08498   \n",
       "BD105                         0.0                       4.04655   \n",
       "BD106                         0.0                       0.00000   \n",
       "\n",
       "       Actinobacillus_unclassified  Actinomyces_graevenitzii  \\\n",
       "BD                                                             \n",
       "BD1                            0.0                       0.0   \n",
       "BD10                           0.0                       0.0   \n",
       "BD101                          0.0                       0.0   \n",
       "BD105                          0.0                       0.0   \n",
       "BD106                          0.0                       0.0   \n",
       "\n",
       "       Actinomyces_johnsonii  Actinomyces_odontolyticus  \\\n",
       "BD                                                        \n",
       "BD1                      0.0                        0.0   \n",
       "BD10                     0.0                        0.0   \n",
       "BD101                    0.0                        0.0   \n",
       "BD105                    0.0                        0.0   \n",
       "BD106                    0.0                        0.0   \n",
       "\n",
       "                ...            Ureaplasma_unclassified  \\\n",
       "BD              ...                                      \n",
       "BD1             ...                                0.0   \n",
       "BD10            ...                                0.0   \n",
       "BD101           ...                                0.0   \n",
       "BD105           ...                                0.0   \n",
       "BD106           ...                                0.0   \n",
       "\n",
       "       Ureaplasma_urealyticum  Varibaculum_cambriense  Veillonella_atypica  \\\n",
       "BD                                                                           \n",
       "BD1                       0.0                     0.0                  0.0   \n",
       "BD10                      0.0                     0.0                  0.0   \n",
       "BD101                     0.0                     0.0                  0.0   \n",
       "BD105                     0.0                     0.0                  0.0   \n",
       "BD106                     0.0                     0.0                  0.0   \n",
       "\n",
       "       Veillonella_dispar  Veillonella_parvula  Veillonella_unclassified  \\\n",
       "BD                                                                         \n",
       "BD1                   0.0              0.00577                   0.01166   \n",
       "BD10                  0.0              0.00000                   0.00000   \n",
       "BD101                 0.0              0.02648                   0.00287   \n",
       "BD105                 0.0              0.00000                   0.00000   \n",
       "BD106                 0.0              0.00000                   0.00000   \n",
       "\n",
       "       Weissella_cibaria  Weissella_confusa  Weissella_unclassified  \n",
       "BD                                                                   \n",
       "BD1                  0.0                0.0                     0.0  \n",
       "BD10                 0.0                0.0                     0.0  \n",
       "BD101                0.0                0.0                     0.0  \n",
       "BD105                0.0                0.0                     0.0  \n",
       "BD106                0.0                0.0                     0.0  \n",
       "\n",
       "[5 rows x 402 columns]"
      ]
     },
     "execution_count": 5,
     "metadata": {},
     "output_type": "execute_result"
    }
   ],
   "source": [
    "MbDF_RA.head()"
   ]
  },
  {
   "cell_type": "code",
   "execution_count": 6,
   "metadata": {
    "ExecuteTime": {
     "end_time": "2018-05-16T16:12:12.726694Z",
     "start_time": "2018-05-16T16:12:09.929261Z"
    }
   },
   "outputs": [
    {
     "name": "stdout",
     "output_type": "stream",
     "text": [
      "couldnt reset index to BD,probably BD is already the index\n"
     ]
    }
   ],
   "source": [
    "try:\n",
    "    TCRdf_RA = TCRdf_RA.set_index('BD')  #### very important!!\n",
    "except KeyError:\n",
    "    print 'couldnt reset index to BD,probably BD is already the index'\n",
    "    TCRdf_RA = TCRdf_RA\n"
   ]
  },
  {
   "cell_type": "code",
   "execution_count": null,
   "metadata": {},
   "outputs": [],
   "source": []
  },
  {
   "cell_type": "code",
   "execution_count": null,
   "metadata": {},
   "outputs": [],
   "source": []
  },
  {
   "cell_type": "code",
   "execution_count": null,
   "metadata": {},
   "outputs": [],
   "source": []
  },
  {
   "cell_type": "code",
   "execution_count": null,
   "metadata": {
    "ExecuteTime": {
     "end_time": "2018-05-16T09:03:44.665527Z",
     "start_time": "2018-05-16T09:03:19.517Z"
    }
   },
   "outputs": [],
   "source": [
    "hsize=40\n",
    "vsize=30\n",
    "fig, axes=plt.subplots(nrows=20, ncols=20,figsize=(hsize,vsize))\n",
    "ax=axes.flatten(0)"
   ]
  },
  {
   "cell_type": "code",
   "execution_count": null,
   "metadata": {
    "ExecuteTime": {
     "end_time": "2018-05-16T09:03:44.677929Z",
     "start_time": "2018-05-16T09:03:20.015Z"
    }
   },
   "outputs": [],
   "source": [
    "#plot RA histograms per sample:\n",
    "\n",
    "hsize=40\n",
    "vsize=30\n",
    "fig, axes=plt.subplots(nrows=20, ncols=20,figsize=(hsize,vsize))\n",
    "\n",
    "for n,sample in enumerate(TCRdf_RA.index[:5]):\n",
    "    print sample\n",
    "    ax=axes.flatten(n)\n",
    "    \n",
    "    sampleRAs=list(TCRdf_RA.loc[sample,:])\n",
    "    print sampleRAs[:5]\n",
    "    \n",
    "    ax.hist(sampleRAs)\n",
    "    ax.set_title(sample)\n",
    "    \n",
    "plt.show()"
   ]
  },
  {
   "cell_type": "code",
   "execution_count": null,
   "metadata": {
    "ExecuteTime": {
     "end_time": "2018-05-16T09:03:44.690481Z",
     "start_time": "2018-05-16T09:03:20.683Z"
    }
   },
   "outputs": [],
   "source": [
    "TCRdf_RA.apply(lambda x: np.percentile(x,1),axis=1)"
   ]
  },
  {
   "cell_type": "code",
   "execution_count": null,
   "metadata": {
    "ExecuteTime": {
     "end_time": "2018-05-16T09:03:44.702723Z",
     "start_time": "2018-05-16T09:03:21.240Z"
    }
   },
   "outputs": [],
   "source": [
    "MbDF_RA.apply(lambda x: np.percentile(x,1),axis=1)"
   ]
  },
  {
   "cell_type": "code",
   "execution_count": null,
   "metadata": {},
   "outputs": [],
   "source": []
  },
  {
   "cell_type": "markdown",
   "metadata": {},
   "source": [
    "#### calculate diversity features for TCRdf"
   ]
  },
  {
   "cell_type": "code",
   "execution_count": 7,
   "metadata": {
    "ExecuteTime": {
     "end_time": "2018-05-16T16:13:05.961162Z",
     "start_time": "2018-05-16T16:13:05.954780Z"
    }
   },
   "outputs": [],
   "source": [
    "datasetFolder='%s/TCR_real_data/SubSampled15000data_rep2' %MyPath\n",
    "datasetName='PNP515_ss15000_rep2'\n",
    "species_df=MbDF_RA\n",
    "MbDFName='Filtered_libMethNone'\n",
    "seq_df=TCRdf_RA\n",
    "TCRdfName='PNP515_ss15000_rep2'\n",
    "# thresholdList=[(2,2,None,None)]\n",
    "outlierSTD=None\n",
    "minNshared=2\n"
   ]
  },
  {
   "cell_type": "code",
   "execution_count": 12,
   "metadata": {
    "ExecuteTime": {
     "end_time": "2018-05-16T19:12:44.382697Z",
     "start_time": "2018-05-16T18:48:07.459284Z"
    }
   },
   "outputs": [
    {
     "name": "stdout",
     "output_type": "stream",
     "text": [
      "calculating features for seqDF...\n",
      "calculate features correlations...\n",
      "nCom nCom_stringest 0.22545907631606854 6.732118752752951e-06\n",
      "nCom meanRA0 -0.030071987372943 0.5532712715881213\n",
      "nCom meanRA -0.6701203565817767 2.6532013775270326e-52\n",
      "nCom meanRA_stringent -0.6083946193767629 5.930020236973113e-41\n",
      "nCom meanLogRA0 0.0031746999002198436 0.950105097448508\n",
      "nCom maxRA -0.46902689395162317 8.821183082741211e-23\n",
      "nCom maxRA_stringent -0.46902689395162317 8.821183082741211e-23\n",
      "nCom max/meanRA -0.42453085831023674 1.5393130049670846e-18\n",
      "nCom max/meanRA0 -0.42453085831023674 1.5393130049670846e-18\n",
      "nCom max/meanRA_stringent -0.3983462887755049 2.545084399357586e-16\n",
      "nCom simpson 0.46618970859449654 1.7177457469648985e-22\n",
      "nCom simpson_stringent 0.4296607754640171 5.364378022674147e-19\n",
      "nCom berger_parker_d -0.5276081128496827 2.1071209704469082e-29\n",
      "nCom berger_parker_d_stringent -0.4528583186618269 3.625399559060353e-21\n",
      "nCom shannon 0.735172491909315 1.1424194988351224e-67\n",
      "nCom shannon_stringent 0.5686545327369106 7.130403453275241e-35\n",
      "nCom_stringest meanRA0 0.17179605645280702 0.0006459021077187475\n",
      "nCom_stringest meanRA -0.08511439381877171 0.09282299581468068\n",
      "nCom_stringest meanRA_stringent -0.297092131005753 2.0775788739441964e-09\n",
      "nCom_stringest meanLogRA0 0.20754355695222196 3.535829903206622e-05\n",
      "nCom_stringest maxRA -0.20134136235846045 6.080692969154823e-05\n",
      "nCom_stringest maxRA_stringent -0.20134136235846045 6.080692969154823e-05\n",
      "nCom_stringest max/meanRA -0.21261360540579674 2.2424979510546123e-05\n",
      "nCom_stringest max/meanRA0 -0.21261360540579674 2.2424979510546123e-05\n",
      "nCom_stringest max/meanRA_stringent -0.1070250217904743 0.03437994332649789\n",
      "nCom_stringest simpson 0.22078321831695114 1.0519047075869862e-05\n",
      "nCom_stringest simpson_stringent 0.29686769955858316 2.1390362154620654e-09\n",
      "nCom_stringest berger_parker_d -0.24587944893662278 8.559784122923114e-07\n",
      "nCom_stringest berger_parker_d_stringent -0.3220386677184651 6.934307254360467e-11\n",
      "nCom_stringest shannon 0.23520175135016128 2.575647619938103e-06\n",
      "nCom_stringest shannon_stringent 0.517976924009754 3.178086874207532e-28\n",
      "meanRA0 meanRA 0.7188035724494817 2.1525540805539084e-63\n",
      "meanRA0 meanRA_stringent 0.7113933195022908 1.4778563287216887e-61\n",
      "meanRA0 meanLogRA0 0.9843269586007606 2.861527884173942e-295\n",
      "meanRA0 maxRA 0.6969869535551769 3.793069325092431e-58\n",
      "meanRA0 maxRA_stringent 0.6969869535551769 3.793069325092431e-58\n",
      "meanRA0 max/meanRA 0.6282361404047733 2.528556270908683e-44\n",
      "meanRA0 max/meanRA0 0.6282361404047733 2.528556270908683e-44\n",
      "meanRA0 max/meanRA_stringent 0.5628002410229616 4.791108028802746e-34\n",
      "meanRA0 simpson -0.6206852767977785 5.174831456970041e-43\n",
      "meanRA0 simpson_stringent -0.5464378397568396 8.083503922058517e-32\n",
      "meanRA0 berger_parker_d 0.6101367524179966 3.0665828920189944e-41\n",
      "meanRA0 berger_parker_d_stringent 0.5060949752239355 8.039326987079418e-27\n",
      "meanRA0 shannon -0.6350452796165439 1.5462467421926518e-45\n",
      "meanRA0 shannon_stringent -0.5349539750018887 2.5069666549336747e-30\n",
      "meanRA meanRA_stringent 0.9406394673853531 1.2125889350872486e-184\n",
      "meanRA meanLogRA0 0.6899654849906722 1.4727782820228796e-56\n",
      "meanRA maxRA 0.8214399976770559 6.520669603448875e-97\n",
      "meanRA maxRA_stringent 0.8214399976770559 6.520669603448875e-97\n",
      "meanRA max/meanRA 0.6949581433068235 1.1037681175870123e-57\n",
      "meanRA max/meanRA0 0.6949581433068235 1.1037681175870123e-57\n",
      "meanRA max/meanRA_stringent 0.6199257961534672 6.97892523170026e-43\n",
      "meanRA simpson -0.7885646905569904 3.7013290314638448e-84\n",
      "meanRA simpson_stringent -0.6699354872359887 2.8964303346917412e-52\n",
      "meanRA berger_parker_d 0.7853983341183169 4.742710477669562e-83\n",
      "meanRA berger_parker_d_stringent 0.6404083394134787 1.6284455115416863e-46\n",
      "meanRA shannon -0.9361007487381896 1.2930665140140382e-178\n",
      "meanRA shannon_stringent -0.7436338084931557 5.2589876111683054e-70\n",
      "meanRA_stringent meanLogRA0 0.6810418307713475 1.3288327950389895e-54\n",
      "meanRA_stringent maxRA 0.8511191308719168 6.447987819822299e-111\n",
      "meanRA_stringent maxRA_stringent 0.8511191308719168 6.447987819822299e-111\n",
      "meanRA_stringent max/meanRA 0.7621251530012423 1.895821380794156e-75\n",
      "meanRA_stringent max/meanRA0 0.7621251530012423 1.895821380794156e-75\n",
      "meanRA_stringent max/meanRA_stringent 0.6366169791192138 8.031846215101435e-46\n",
      "meanRA_stringent simpson -0.8169825373783702 4.925386889487067e-95\n",
      "meanRA_stringent simpson_stringent -0.753892784825046 5.765194213896681e-73\n",
      "meanRA_stringent berger_parker_d 0.8299080146315865 1.2521475470602447e-100\n",
      "meanRA_stringent berger_parker_d_stringent 0.7255092077565923 4.16019737772768e-65\n",
      "meanRA_stringent shannon -0.9441672091984015 1.1485924936729558e-189\n",
      "meanRA_stringent shannon_stringent -0.858394320815445 8.037291841711487e-115\n",
      "meanLogRA0 maxRA 0.6625632129113604 9.09559799751902e-51\n",
      "meanLogRA0 maxRA_stringent 0.6625632129113604 9.09559799751902e-51\n",
      "meanLogRA0 max/meanRA 0.6159608619871075 3.282198369462708e-42\n",
      "meanLogRA0 max/meanRA0 0.6159608619871075 3.282198369462708e-42\n",
      "meanLogRA0 max/meanRA_stringent 0.560524283348976 9.94610425911182e-34\n",
      "meanLogRA0 simpson -0.5874706987130526 1.199052241514899e-37\n",
      "meanLogRA0 simpson_stringent -0.5291323232828414 1.3605310647380646e-29\n",
      "meanLogRA0 berger_parker_d 0.5917128333053066 2.67953392347972e-38\n",
      "meanLogRA0 berger_parker_d_stringent 0.49523163814055854 1.3827431309724703e-25\n",
      "meanLogRA0 shannon -0.6087644681578781 5.157062785151337e-41\n",
      "meanLogRA0 shannon_stringent -0.512074125684719 1.6072012230943115e-27\n",
      "maxRA maxRA_stringent 1.0 0.0\n",
      "maxRA max/meanRA 0.939042836687726 1.8068228077393285e-182\n",
      "maxRA max/meanRA0 0.939042836687726 1.8068228077393285e-182\n",
      "maxRA max/meanRA_stringent 0.8628747855942489 2.4569681852741723e-117\n",
      "maxRA simpson -0.9755199672085012 5.641096385401257e-258\n",
      "maxRA simpson_stringent -0.9370671156898989 7.34682539629339e-180\n",
      "maxRA berger_parker_d 0.9707996570066059 2.788736836786828e-243\n",
      "maxRA berger_parker_d_stringent 0.8918680354180066 4.125150780339468e-136\n",
      "maxRA shannon -0.8869209679847666 1.497656235061723e-132\n",
      "maxRA shannon_stringent -0.8466044059543684 1.3455233171185499e-108\n",
      "maxRA_stringent max/meanRA 0.939042836687726 1.8068228077393285e-182\n",
      "maxRA_stringent max/meanRA0 0.939042836687726 1.8068228077393285e-182\n",
      "maxRA_stringent max/meanRA_stringent 0.8628747855942489 2.4569681852741723e-117\n",
      "maxRA_stringent simpson -0.9755199672085012 5.641096385401257e-258\n",
      "maxRA_stringent simpson_stringent -0.9370671156898989 7.34682539629339e-180\n",
      "maxRA_stringent berger_parker_d 0.9707996570066059 2.788736836786828e-243\n",
      "maxRA_stringent berger_parker_d_stringent 0.8918680354180066 4.125150780339468e-136\n",
      "maxRA_stringent shannon -0.8869209679847666 1.497656235061723e-132\n",
      "maxRA_stringent shannon_stringent -0.8466044059543684 1.3455233171185499e-108\n",
      "max/meanRA max/meanRA0 1.0 0.0\n",
      "max/meanRA max/meanRA_stringent 0.9622270970615462 6.677793876853835e-222\n",
      "max/meanRA simpson -0.8844045607905727 8.376526465523512e-131\n",
      "max/meanRA simpson_stringent -0.9633563563249505 2.0364893434882798e-224\n",
      "max/meanRA berger_parker_d 0.9777444342426301 6.285259380452548e-266\n",
      "max/meanRA berger_parker_d_stringent 0.9763592813612545 6.91735866365708e-261\n",
      "max/meanRA shannon -0.8466741126923957 1.2406526295851986e-108\n",
      "max/meanRA shannon_stringent -0.8890135272710671 4.9003706230974205e-134\n",
      "max/meanRA0 max/meanRA_stringent 0.9622270970615462 6.677793876853835e-222\n",
      "max/meanRA0 simpson -0.8844045607905727 8.376526465523512e-131\n",
      "max/meanRA0 simpson_stringent -0.9633563563249505 2.0364893434882798e-224\n",
      "max/meanRA0 berger_parker_d 0.9777444342426301 6.285259380452548e-266\n",
      "max/meanRA0 berger_parker_d_stringent 0.9763592813612545 6.91735866365708e-261\n",
      "max/meanRA0 shannon -0.8466741126923957 1.2406526295851986e-108\n",
      "max/meanRA0 shannon_stringent -0.8890135272710671 4.9003706230974205e-134\n",
      "max/meanRA_stringent simpson -0.7858387604540947 3.334906660137153e-83\n",
      "max/meanRA_stringent simpson_stringent -0.8846171540177288 5.984059447437423e-131\n",
      "max/meanRA_stringent berger_parker_d 0.9245410817332225 4.538538130000485e-165\n",
      "max/meanRA_stringent berger_parker_d_stringent 0.951683296224702 1.4778158923117586e-201\n",
      "max/meanRA_stringent shannon -0.7735441162500348 4.5871065401182995e-79\n",
      "max/meanRA_stringent shannon_stringent -0.814758343123114 4.078705417337971e-94\n",
      "simpson simpson_stringent 0.9354063255032081 9.877905021755117e-178\n",
      "simpson berger_parker_d -0.9401428112597078 5.836122260630921e-184\n",
      "simpson berger_parker_d_stringent -0.8394902947638198 4.3238694481954564e-105\n",
      "simpson shannon 0.8503518855008916 1.618034401249377e-110\n",
      "simpson shannon_stringent 0.7982610104587627 1.133420034813962e-87\n",
      "simpson_stringent berger_parker_d -0.9671510354729398 1.7219340062530867e-233\n",
      "simpson_stringent berger_parker_d_stringent -0.9518614241667936 7.33261403369934e-202\n",
      "simpson_stringent shannon 0.8247192661740445 2.5049034796717972e-98\n"
     ]
    },
    {
     "name": "stdout",
     "output_type": "stream",
     "text": [
      "simpson_stringent shannon_stringent 0.8776329480997055 2.698161054943591e-126\n",
      "berger_parker_d berger_parker_d_stringent 0.9610873919505816 1.936684655472461e-219\n",
      "berger_parker_d shannon -0.904620628015849 3.7723823065563927e-146\n",
      "berger_parker_d shannon_stringent -0.9005457712880355 8.540445593094959e-143\n",
      "berger_parker_d_stringent shannon -0.8160715619774941 1.1748178952393052e-94\n",
      "berger_parker_d_stringent shannon_stringent -0.9084995284891462 1.736080753225917e-149\n",
      "shannon shannon_stringent 0.9034823928753875 3.3786571138898595e-145\n"
     ]
    },
    {
     "data": {
      "text/html": [
       "<div>\n",
       "<style>\n",
       "    .dataframe thead tr:only-child th {\n",
       "        text-align: right;\n",
       "    }\n",
       "\n",
       "    .dataframe thead th {\n",
       "        text-align: left;\n",
       "    }\n",
       "\n",
       "    .dataframe tbody tr th {\n",
       "        vertical-align: top;\n",
       "    }\n",
       "</style>\n",
       "<table border=\"1\" class=\"dataframe\">\n",
       "  <thead>\n",
       "    <tr style=\"text-align: right;\">\n",
       "      <th></th>\n",
       "      <th>nCom</th>\n",
       "      <th>nCom_stringest</th>\n",
       "      <th>meanRA0</th>\n",
       "      <th>meanRA</th>\n",
       "      <th>meanRA_stringent</th>\n",
       "      <th>meanLogRA0</th>\n",
       "      <th>maxRA</th>\n",
       "      <th>maxRA_stringent</th>\n",
       "      <th>max/meanRA</th>\n",
       "      <th>max/meanRA0</th>\n",
       "      <th>max/meanRA_stringent</th>\n",
       "      <th>simpson</th>\n",
       "      <th>simpson_stringent</th>\n",
       "      <th>berger_parker_d</th>\n",
       "      <th>berger_parker_d_stringent</th>\n",
       "      <th>shannon</th>\n",
       "      <th>shannon_stringent</th>\n",
       "    </tr>\n",
       "    <tr>\n",
       "      <th>BD</th>\n",
       "      <th></th>\n",
       "      <th></th>\n",
       "      <th></th>\n",
       "      <th></th>\n",
       "      <th></th>\n",
       "      <th></th>\n",
       "      <th></th>\n",
       "      <th></th>\n",
       "      <th></th>\n",
       "      <th></th>\n",
       "      <th></th>\n",
       "      <th></th>\n",
       "      <th></th>\n",
       "      <th></th>\n",
       "      <th></th>\n",
       "      <th></th>\n",
       "      <th></th>\n",
       "    </tr>\n",
       "  </thead>\n",
       "  <tbody>\n",
       "    <tr>\n",
       "      <th>BD1</th>\n",
       "      <td>2831</td>\n",
       "      <td>308</td>\n",
       "      <td>0.000082</td>\n",
       "      <td>0.008042</td>\n",
       "      <td>0.019307</td>\n",
       "      <td>-4.083794</td>\n",
       "      <td>0.733333</td>\n",
       "      <td>0.733333</td>\n",
       "      <td>91.188873</td>\n",
       "      <td>91.188873</td>\n",
       "      <td>37.982063</td>\n",
       "      <td>0.997954</td>\n",
       "      <td>0.976259</td>\n",
       "      <td>0.034943</td>\n",
       "      <td>0.125535</td>\n",
       "      <td>11.078033</td>\n",
       "      <td>7.435008</td>\n",
       "    </tr>\n",
       "    <tr>\n",
       "      <th>BD10</th>\n",
       "      <td>2705</td>\n",
       "      <td>512</td>\n",
       "      <td>0.000094</td>\n",
       "      <td>0.009641</td>\n",
       "      <td>0.022383</td>\n",
       "      <td>-4.024786</td>\n",
       "      <td>0.520000</td>\n",
       "      <td>0.520000</td>\n",
       "      <td>53.934049</td>\n",
       "      <td>53.934049</td>\n",
       "      <td>23.232112</td>\n",
       "      <td>0.998586</td>\n",
       "      <td>0.993978</td>\n",
       "      <td>0.021247</td>\n",
       "      <td>0.046056</td>\n",
       "      <td>10.861346</td>\n",
       "      <td>8.425949</td>\n",
       "    </tr>\n",
       "    <tr>\n",
       "      <th>BD101</th>\n",
       "      <td>1641</td>\n",
       "      <td>276</td>\n",
       "      <td>0.000057</td>\n",
       "      <td>0.009596</td>\n",
       "      <td>0.024082</td>\n",
       "      <td>-4.243905</td>\n",
       "      <td>1.100000</td>\n",
       "      <td>1.100000</td>\n",
       "      <td>114.633785</td>\n",
       "      <td>114.633785</td>\n",
       "      <td>45.677031</td>\n",
       "      <td>0.992794</td>\n",
       "      <td>0.964649</td>\n",
       "      <td>0.074632</td>\n",
       "      <td>0.167965</td>\n",
       "      <td>9.860504</td>\n",
       "      <td>6.937053</td>\n",
       "    </tr>\n",
       "    <tr>\n",
       "      <th>BD105</th>\n",
       "      <td>2513</td>\n",
       "      <td>499</td>\n",
       "      <td>0.000085</td>\n",
       "      <td>0.009341</td>\n",
       "      <td>0.020134</td>\n",
       "      <td>-4.070518</td>\n",
       "      <td>1.373333</td>\n",
       "      <td>1.373333</td>\n",
       "      <td>147.025845</td>\n",
       "      <td>147.025845</td>\n",
       "      <td>68.211015</td>\n",
       "      <td>0.995372</td>\n",
       "      <td>0.977855</td>\n",
       "      <td>0.062528</td>\n",
       "      <td>0.139052</td>\n",
       "      <td>10.659291</td>\n",
       "      <td>8.064338</td>\n",
       "    </tr>\n",
       "    <tr>\n",
       "      <th>BD106</th>\n",
       "      <td>2734</td>\n",
       "      <td>464</td>\n",
       "      <td>0.000089</td>\n",
       "      <td>0.008976</td>\n",
       "      <td>0.020273</td>\n",
       "      <td>-4.051219</td>\n",
       "      <td>0.326667</td>\n",
       "      <td>0.326667</td>\n",
       "      <td>36.393915</td>\n",
       "      <td>36.393915</td>\n",
       "      <td>16.113395</td>\n",
       "      <td>0.998712</td>\n",
       "      <td>0.993076</td>\n",
       "      <td>0.014258</td>\n",
       "      <td>0.035266</td>\n",
       "      <td>10.959505</td>\n",
       "      <td>8.273451</td>\n",
       "    </tr>\n",
       "  </tbody>\n",
       "</table>\n",
       "</div>"
      ],
      "text/plain": [
       "       nCom  nCom_stringest   meanRA0    meanRA  meanRA_stringent  meanLogRA0  \\\n",
       "BD                                                                              \n",
       "BD1    2831             308  0.000082  0.008042          0.019307   -4.083794   \n",
       "BD10   2705             512  0.000094  0.009641          0.022383   -4.024786   \n",
       "BD101  1641             276  0.000057  0.009596          0.024082   -4.243905   \n",
       "BD105  2513             499  0.000085  0.009341          0.020134   -4.070518   \n",
       "BD106  2734             464  0.000089  0.008976          0.020273   -4.051219   \n",
       "\n",
       "          maxRA  maxRA_stringent  max/meanRA  max/meanRA0  \\\n",
       "BD                                                          \n",
       "BD1    0.733333         0.733333   91.188873    91.188873   \n",
       "BD10   0.520000         0.520000   53.934049    53.934049   \n",
       "BD101  1.100000         1.100000  114.633785   114.633785   \n",
       "BD105  1.373333         1.373333  147.025845   147.025845   \n",
       "BD106  0.326667         0.326667   36.393915    36.393915   \n",
       "\n",
       "       max/meanRA_stringent   simpson  simpson_stringent  berger_parker_d  \\\n",
       "BD                                                                          \n",
       "BD1               37.982063  0.997954           0.976259         0.034943   \n",
       "BD10              23.232112  0.998586           0.993978         0.021247   \n",
       "BD101             45.677031  0.992794           0.964649         0.074632   \n",
       "BD105             68.211015  0.995372           0.977855         0.062528   \n",
       "BD106             16.113395  0.998712           0.993076         0.014258   \n",
       "\n",
       "       berger_parker_d_stringent    shannon  shannon_stringent  \n",
       "BD                                                              \n",
       "BD1                     0.125535  11.078033           7.435008  \n",
       "BD10                    0.046056  10.861346           8.425949  \n",
       "BD101                   0.167965   9.860504           6.937053  \n",
       "BD105                   0.139052  10.659291           8.064338  \n",
       "BD106                   0.035266  10.959505           8.273451  "
      ]
     },
     "execution_count": 12,
     "metadata": {},
     "output_type": "execute_result"
    }
   ],
   "source": [
    "print 'calculating features for seqDF...'\n",
    "TCRThreshold=0.0067\n",
    "seqFeatureDF = calc_diversity_features_for_public_matrix(seq_df,threshold=TCRThreshold)\n",
    "seqFeatureDF.head()"
   ]
  },
  {
   "cell_type": "code",
   "execution_count": 13,
   "metadata": {
    "ExecuteTime": {
     "end_time": "2018-05-16T19:18:15.399283Z",
     "start_time": "2018-05-16T19:18:14.757562Z"
    }
   },
   "outputs": [],
   "source": [
    "isStringent=False\n",
    "TCRThreshold=0.0067\n",
    "file1='%s/TCR_mb_results/divCorrTCR_MB_dfs/minNshared2_seqFeatureDF_stringent%s_threshold%s.xlsx' %(datasetFolder, \n",
    "                                                                                isStringent,TCRThreshold)\n",
    "seqFeatureDF.to_excel(file1)"
   ]
  },
  {
   "cell_type": "code",
   "execution_count": null,
   "metadata": {
    "ExecuteTime": {
     "end_time": "2018-05-16T13:45:35.079619Z",
     "start_time": "2018-05-16T13:45:35.076212Z"
    }
   },
   "outputs": [],
   "source": [
    "isStringent=False"
   ]
  },
  {
   "cell_type": "code",
   "execution_count": 14,
   "metadata": {
    "ExecuteTime": {
     "end_time": "2018-05-16T19:19:25.383948Z",
     "start_time": "2018-05-16T19:19:25.227594Z"
    }
   },
   "outputs": [],
   "source": [
    "isStringent=False\n",
    "TCRThreshold=0.0067\n",
    "file1='%s/TCR_mb_results/divCorrTCR_MB_dfs/minNshared2_seqFeatureDF_stringent%s_threshold%s.xlsx' %(datasetFolder, \n",
    "                                                                                isStringent,TCRThreshold)\n",
    "seqFeatureDF=pd.read_excel(file1)"
   ]
  },
  {
   "cell_type": "markdown",
   "metadata": {},
   "source": [
    "#### calculate diveristy features for MbDF:"
   ]
  },
  {
   "cell_type": "code",
   "execution_count": 8,
   "metadata": {
    "ExecuteTime": {
     "end_time": "2018-05-16T16:14:25.175645Z",
     "start_time": "2018-05-16T16:14:21.331550Z"
    }
   },
   "outputs": [
    {
     "name": "stdout",
     "output_type": "stream",
     "text": [
      "calculating features for speciesDF...\n",
      "calculate features correlations...\n",
      "nCom nCom_stringest 0.9285082584896999 3.7500833331948082e-193\n",
      "nCom meanRA0 -0.031526186153198035 0.5066332762227707\n",
      "nCom meanRA -0.9652750596126726 5.697426388833941e-261\n",
      "nCom meanRA_stringent -0.8920518200746678 3.0220268707606595e-155\n",
      "nCom meanLogRA0 -0.029475538040408252 0.5346829061809151\n",
      "nCom maxRA -0.2130811531433996 5.635863370727254e-06\n",
      "nCom maxRA_stringent -0.2130811531433996 5.635863370727254e-06\n",
      "nCom max/meanRA 0.06130170147217072 0.19628946990466922\n",
      "nCom max/meanRA0 0.06130170147217072 0.19628946990466922\n",
      "nCom max/meanRA_stringent 0.0322810687814291 0.4965052996349527\n",
      "nCom simpson 0.22997631520990358 9.148283217652227e-07\n",
      "nCom simpson_stringent 0.2296956505354649 9.439833300592563e-07\n",
      "nCom berger_parker_d -0.20957094495588352 8.078035762662696e-06\n",
      "nCom berger_parker_d_stringent -0.209378575971978 8.237550797085646e-06\n",
      "nCom shannon 0.3758746161889805 2.051574339900533e-16\n",
      "nCom shannon_stringent 0.37362213298735286 3.191397018909246e-16\n",
      "nCom_stringest meanRA0 0.03866644085256631 0.4153021675088101\n",
      "nCom_stringest meanRA -0.9033128453236696 2.6611865766178905e-165\n",
      "nCom_stringest meanRA_stringent -0.9622803155129894 3.8519845243169527e-253\n",
      "nCom_stringest meanLogRA0 0.042571294516123306 0.3697538332099214\n",
      "nCom_stringest maxRA -0.2586151800004119 3.01040660624162e-08\n",
      "nCom_stringest maxRA_stringent -0.2586151800004119 3.01040660624162e-08\n",
      "nCom_stringest max/meanRA -0.014357524789763385 0.7623646019524304\n",
      "nCom_stringest max/meanRA0 -0.014357524789763385 0.7623646019524304\n",
      "nCom_stringest max/meanRA_stringent -0.0018729209849216264 0.9685374258175115\n",
      "nCom_stringest simpson 0.27880919787215397 2.088529570521706e-09\n",
      "nCom_stringest simpson_stringent 0.27872735480446276 2.112183655238749e-09\n",
      "nCom_stringest berger_parker_d -0.26119980322927194 2.1659000750932e-08\n",
      "nCom_stringest berger_parker_d_stringent -0.2611407667608121 2.182336402812973e-08\n",
      "nCom_stringest shannon 0.46695350711512285 1.5544803686447461e-25\n",
      "nCom_stringest shannon_stringent 0.46606668484182967 1.969518601187732e-25\n",
      "meanRA0 meanRA 0.16663908072066957 0.00040921709397828617\n",
      "meanRA0 meanRA_stringent 0.12035347096843438 0.010964435524350905\n",
      "meanRA0 meanLogRA0 0.998499506231121 0.0\n",
      "meanRA0 maxRA -0.028458980283358113 0.5488716451295939\n",
      "meanRA0 maxRA_stringent -0.028458980283358113 0.5488716451295939\n",
      "meanRA0 max/meanRA -0.13263760221832943 0.005021043195211863\n",
      "meanRA0 max/meanRA0 -0.13263760221832943 0.005021043195211863\n",
      "meanRA0 max/meanRA_stringent -0.08686502752788064 0.06683305794657726\n",
      "meanRA0 simpson 0.11147979396007256 0.0185203228637255\n"
     ]
    },
    {
     "name": "stderr",
     "output_type": "stream",
     "text": [
      "/usr/wisdom/python/lib/python2.7/site-packages/pandas/core/computation/expressions.py:183: UserWarning: evaluating in Python space because the '+' operator is not supported by numexpr for the bool dtype, use '|' instead\n",
      "  unsupported[op_str]))\n"
     ]
    },
    {
     "name": "stdout",
     "output_type": "stream",
     "text": [
      "meanRA0 simpson_stringent 0.11191848180414965 0.01806058040507777\n",
      "meanRA0 berger_parker_d -0.10906798282679199 0.021234551785929683\n",
      "meanRA0 berger_parker_d_stringent -0.10931835679405141 0.02093757084833754\n",
      "meanRA0 shannon 0.09965237052865744 0.035390390586582963\n",
      "meanRA0 shannon_stringent 0.10086135599280116 0.03321147697053637\n",
      "meanRA meanRA_stringent 0.9333230190270503 1.2304547077087902e-199\n",
      "meanRA meanLogRA0 0.16432982862694898 0.0004932211232510317\n",
      "meanRA maxRA 0.2408794883066055 2.621655606087004e-07\n",
      "meanRA maxRA_stringent 0.2408794883066055 2.621655606087004e-07\n",
      "meanRA max/meanRA -0.04891927545418443 0.3026204890677052\n",
      "meanRA max/meanRA0 -0.04891927545418443 0.3026204890677052\n",
      "meanRA max/meanRA_stringent -0.017250160507249385 0.7163764128061161\n",
      "meanRA simpson -0.2603511398344778 2.4141191896872e-08\n",
      "meanRA simpson_stringent -0.26001697631565945 2.5192233842892964e-08\n",
      "meanRA berger_parker_d 0.22630660619819182 1.3744234385184704e-06\n",
      "meanRA berger_parker_d_stringent 0.2260898647969015 1.4075683490971887e-06\n",
      "meanRA shannon -0.4032616957984072 7.18378835578622e-19\n",
      "meanRA shannon_stringent -0.40103808392484364 1.1598157412698358e-18\n",
      "meanRA_stringent meanLogRA0 0.11668789441075196 0.01367033379281753\n",
      "meanRA_stringent maxRA 0.2745531536184563 3.733064389986266e-09\n",
      "meanRA_stringent maxRA_stringent 0.2745531536184563 3.733064389986266e-09\n",
      "meanRA_stringent max/meanRA 0.013331222764907431 0.7788939881425463\n",
      "meanRA_stringent max/meanRA0 0.013331222764907431 0.7788939881425463\n",
      "meanRA_stringent max/meanRA_stringent 0.00551538126321973 0.9075322682516463\n",
      "meanRA_stringent simpson -0.2934332592550079 2.629610143981705e-10\n",
      "meanRA_stringent simpson_stringent -0.29328707593159586 2.686244650735615e-10\n",
      "meanRA_stringent berger_parker_d 0.2639640496294733 1.5170505107489366e-08\n",
      "meanRA_stringent berger_parker_d_stringent 0.2638728380817106 1.5350799116291785e-08\n",
      "meanRA_stringent shannon -0.47657940479795863 1.1389538593254893e-26\n",
      "meanRA_stringent shannon_stringent -0.475630492818299 1.4791290786855786e-26\n",
      "meanLogRA0 maxRA -0.032989692431548354 0.4870967692999172\n",
      "meanLogRA0 maxRA_stringent -0.032989692431548354 0.4870967692999172\n",
      "meanLogRA0 max/meanRA -0.13887250415090113 0.003294531691915811\n",
      "meanLogRA0 max/meanRA0 -0.13887250415090113 0.003294531691915811\n",
      "meanLogRA0 max/meanRA_stringent -0.09197655504420549 0.05224717573237724\n",
      "meanLogRA0 simpson 0.11628653147131682 0.013999676395189987\n",
      "meanLogRA0 simpson_stringent 0.11673510108312297 0.0136320497011199\n",
      "meanLogRA0 berger_parker_d -0.11488691926295623 0.015203386574015773\n",
      "meanLogRA0 berger_parker_d_stringent -0.1151427849330017 0.014976777201726401\n",
      "meanLogRA0 shannon 0.10586113559667766 0.025373905712441688\n",
      "meanLogRA0 shannon_stringent 0.1070903764167944 0.023711506997093932\n",
      "maxRA maxRA_stringent 1.0 0.0\n",
      "maxRA max/meanRA 0.9415847866157667 5.539836061041135e-212\n",
      "maxRA max/meanRA0 0.9415847866157667 5.539836061041135e-212\n",
      "maxRA max/meanRA_stringent 0.9495764162487067 8.949313577279076e-226\n",
      "maxRA simpson -0.9429142515286352 3.883886145482636e-214\n",
      "maxRA simpson_stringent -0.9429003133420807 4.0937267967679595e-214\n",
      "maxRA berger_parker_d 0.9963717579068646 0.0\n",
      "maxRA berger_parker_d_stringent 0.9963484168660027 0.0\n",
      "maxRA shannon -0.9035387627454213 1.6250596115358317e-165\n",
      "maxRA shannon_stringent -0.9034067270549452 2.16832599818804e-165\n",
      "maxRA_stringent max/meanRA 0.9415847866157667 5.539836061041135e-212\n",
      "maxRA_stringent max/meanRA0 0.9415847866157667 5.539836061041135e-212\n",
      "maxRA_stringent max/meanRA_stringent 0.9495764162487067 8.949313577279076e-226\n",
      "maxRA_stringent simpson -0.9429142515286352 3.883886145482636e-214\n",
      "maxRA_stringent simpson_stringent -0.9429003133420807 4.0937267967679595e-214\n",
      "maxRA_stringent berger_parker_d 0.9963717579068646 0.0\n",
      "maxRA_stringent berger_parker_d_stringent 0.9963484168660027 0.0\n",
      "maxRA_stringent shannon -0.9035387627454213 1.6250596115358317e-165\n",
      "maxRA_stringent shannon_stringent -0.9034067270549452 2.16832599818804e-165\n",
      "max/meanRA max/meanRA0 1.0 0.0\n",
      "max/meanRA max/meanRA_stringent 0.991760287157234 0.0\n",
      "max/meanRA simpson -0.8599061468481292 9.446152727895314e-132\n",
      "max/meanRA simpson_stringent -0.8600658585256876 7.472679635160485e-132\n",
      "max/meanRA berger_parker_d 0.9477401746158697 2.0435123013036788e-222\n",
      "max/meanRA berger_parker_d_stringent 0.9478193988937259 1.4722856366475583e-222\n",
      "max/meanRA shannon -0.8095462351747247 9.18342035444476e-105\n",
      "max/meanRA shannon_stringent -0.8102062853059423 4.603592219042258e-105\n",
      "max/meanRA0 max/meanRA_stringent 0.991760287157234 0.0\n",
      "max/meanRA0 simpson -0.8599061468481292 9.446152727895314e-132\n",
      "max/meanRA0 simpson_stringent -0.8600658585256876 7.472679635160485e-132\n",
      "max/meanRA0 berger_parker_d 0.9477401746158697 2.0435123013036788e-222\n",
      "max/meanRA0 berger_parker_d_stringent 0.9478193988937259 1.4722856366475583e-222\n",
      "max/meanRA0 shannon -0.8095462351747247 9.18342035444476e-105\n",
      "max/meanRA0 shannon_stringent -0.8102062853059423 4.603592219042258e-105\n",
      "max/meanRA_stringent simpson -0.8623183426838572 2.657434688820818e-133\n",
      "max/meanRA_stringent simpson_stringent -0.8623874563058984 2.396603144224744e-133\n",
      "max/meanRA_stringent berger_parker_d 0.9514365046360972 2.6242839081293213e-229\n",
      "max/meanRA_stringent berger_parker_d_stringent 0.9514585516327659 2.3785380152682607e-229\n",
      "max/meanRA_stringent shannon -0.8010150780236361 5.45443930468383e-101\n",
      "max/meanRA_stringent shannon_stringent -0.8012315146603048 4.3983835581609633e-101\n",
      "simpson simpson_stringent 0.9999996526131826 0.0\n",
      "simpson berger_parker_d -0.9467125701555098 1.3720818980203855e-220\n",
      "simpson berger_parker_d_stringent -0.946704073834628 1.4201504548884527e-220\n",
      "simpson shannon 0.9134266068971509 1.8997844341212992e-175\n",
      "simpson shannon_stringent 0.9133354861926462 2.3745433726862846e-175\n",
      "simpson_stringent berger_parker_d -0.9467391848093591 1.2317423260335523e-220\n",
      "simpson_stringent berger_parker_d_stringent -0.9467311044030319 1.272768757232082e-220\n",
      "simpson_stringent shannon 0.9134606898243061 1.7475969177617366e-175\n",
      "simpson_stringent shannon_stringent 0.913372493010081 2.1689466701426537e-175\n",
      "berger_parker_d berger_parker_d_stringent 0.9999998711398094 0.0\n",
      "berger_parker_d shannon -0.907106163742658 5.707541302297058e-169\n",
      "berger_parker_d shannon_stringent -0.9070834455023622 6.010179714267669e-169\n",
      "berger_parker_d_stringent shannon -0.9071147274856225 5.597438219813452e-169\n",
      "berger_parker_d_stringent shannon_stringent -0.9070939479819827 5.868337285723253e-169\n",
      "shannon shannon_stringent 0.9999904403813346 0.0\n"
     ]
    },
    {
     "data": {
      "text/html": [
       "<div>\n",
       "<style>\n",
       "    .dataframe thead tr:only-child th {\n",
       "        text-align: right;\n",
       "    }\n",
       "\n",
       "    .dataframe thead th {\n",
       "        text-align: left;\n",
       "    }\n",
       "\n",
       "    .dataframe tbody tr th {\n",
       "        vertical-align: top;\n",
       "    }\n",
       "</style>\n",
       "<table border=\"1\" class=\"dataframe\">\n",
       "  <thead>\n",
       "    <tr style=\"text-align: right;\">\n",
       "      <th></th>\n",
       "      <th>nCom</th>\n",
       "      <th>nCom_stringest</th>\n",
       "      <th>meanRA0</th>\n",
       "      <th>meanRA</th>\n",
       "      <th>meanRA_stringent</th>\n",
       "      <th>meanLogRA0</th>\n",
       "      <th>maxRA</th>\n",
       "      <th>maxRA_stringent</th>\n",
       "      <th>max/meanRA</th>\n",
       "      <th>max/meanRA0</th>\n",
       "      <th>max/meanRA_stringent</th>\n",
       "      <th>simpson</th>\n",
       "      <th>simpson_stringent</th>\n",
       "      <th>berger_parker_d</th>\n",
       "      <th>berger_parker_d_stringent</th>\n",
       "      <th>shannon</th>\n",
       "      <th>shannon_stringent</th>\n",
       "    </tr>\n",
       "    <tr>\n",
       "      <th>BD</th>\n",
       "      <th></th>\n",
       "      <th></th>\n",
       "      <th></th>\n",
       "      <th></th>\n",
       "      <th></th>\n",
       "      <th></th>\n",
       "      <th></th>\n",
       "      <th></th>\n",
       "      <th></th>\n",
       "      <th></th>\n",
       "      <th></th>\n",
       "      <th></th>\n",
       "      <th></th>\n",
       "      <th></th>\n",
       "      <th></th>\n",
       "      <th></th>\n",
       "      <th></th>\n",
       "    </tr>\n",
       "  </thead>\n",
       "  <tbody>\n",
       "    <tr>\n",
       "      <th>BD1</th>\n",
       "      <td>83</td>\n",
       "      <td>78</td>\n",
       "      <td>0.248577</td>\n",
       "      <td>1.203949</td>\n",
       "      <td>1.280750</td>\n",
       "      <td>-0.604540</td>\n",
       "      <td>15.31839</td>\n",
       "      <td>15.31839</td>\n",
       "      <td>12.723454</td>\n",
       "      <td>12.723454</td>\n",
       "      <td>11.960480</td>\n",
       "      <td>0.948123</td>\n",
       "      <td>0.948096</td>\n",
       "      <td>0.153359</td>\n",
       "      <td>0.153399</td>\n",
       "      <td>4.985070</td>\n",
       "      <td>4.982342</td>\n",
       "    </tr>\n",
       "    <tr>\n",
       "      <th>BD10</th>\n",
       "      <td>65</td>\n",
       "      <td>64</td>\n",
       "      <td>0.248267</td>\n",
       "      <td>1.535437</td>\n",
       "      <td>1.559381</td>\n",
       "      <td>-0.605081</td>\n",
       "      <td>16.00208</td>\n",
       "      <td>16.00208</td>\n",
       "      <td>10.421843</td>\n",
       "      <td>10.421843</td>\n",
       "      <td>10.261815</td>\n",
       "      <td>0.921323</td>\n",
       "      <td>0.921320</td>\n",
       "      <td>0.160389</td>\n",
       "      <td>0.160392</td>\n",
       "      <td>4.350640</td>\n",
       "      <td>4.350385</td>\n",
       "    </tr>\n",
       "    <tr>\n",
       "      <th>BD101</th>\n",
       "      <td>96</td>\n",
       "      <td>76</td>\n",
       "      <td>0.248756</td>\n",
       "      <td>1.041666</td>\n",
       "      <td>1.314541</td>\n",
       "      <td>-0.604226</td>\n",
       "      <td>12.85359</td>\n",
       "      <td>12.85359</td>\n",
       "      <td>12.339451</td>\n",
       "      <td>12.339451</td>\n",
       "      <td>9.778003</td>\n",
       "      <td>0.944320</td>\n",
       "      <td>0.944226</td>\n",
       "      <td>0.128588</td>\n",
       "      <td>0.128697</td>\n",
       "      <td>4.877573</td>\n",
       "      <td>4.868458</td>\n",
       "    </tr>\n",
       "    <tr>\n",
       "      <th>BD105</th>\n",
       "      <td>90</td>\n",
       "      <td>77</td>\n",
       "      <td>0.248756</td>\n",
       "      <td>1.111112</td>\n",
       "      <td>1.297876</td>\n",
       "      <td>-0.604226</td>\n",
       "      <td>9.92074</td>\n",
       "      <td>9.92074</td>\n",
       "      <td>8.928661</td>\n",
       "      <td>8.928661</td>\n",
       "      <td>7.643827</td>\n",
       "      <td>0.957160</td>\n",
       "      <td>0.957110</td>\n",
       "      <td>0.099240</td>\n",
       "      <td>0.099297</td>\n",
       "      <td>5.054048</td>\n",
       "      <td>5.047913</td>\n",
       "    </tr>\n",
       "    <tr>\n",
       "      <th>BD106</th>\n",
       "      <td>63</td>\n",
       "      <td>54</td>\n",
       "      <td>0.248756</td>\n",
       "      <td>1.587302</td>\n",
       "      <td>1.850822</td>\n",
       "      <td>-0.604226</td>\n",
       "      <td>38.64532</td>\n",
       "      <td>38.64532</td>\n",
       "      <td>24.346547</td>\n",
       "      <td>24.346547</td>\n",
       "      <td>20.880080</td>\n",
       "      <td>0.828518</td>\n",
       "      <td>0.828346</td>\n",
       "      <td>0.386566</td>\n",
       "      <td>0.386759</td>\n",
       "      <td>3.809526</td>\n",
       "      <td>3.803739</td>\n",
       "    </tr>\n",
       "  </tbody>\n",
       "</table>\n",
       "</div>"
      ],
      "text/plain": [
       "       nCom  nCom_stringest   meanRA0    meanRA  meanRA_stringent  meanLogRA0  \\\n",
       "BD                                                                              \n",
       "BD1      83              78  0.248577  1.203949          1.280750   -0.604540   \n",
       "BD10     65              64  0.248267  1.535437          1.559381   -0.605081   \n",
       "BD101    96              76  0.248756  1.041666          1.314541   -0.604226   \n",
       "BD105    90              77  0.248756  1.111112          1.297876   -0.604226   \n",
       "BD106    63              54  0.248756  1.587302          1.850822   -0.604226   \n",
       "\n",
       "          maxRA  maxRA_stringent  max/meanRA  max/meanRA0  \\\n",
       "BD                                                          \n",
       "BD1    15.31839         15.31839   12.723454    12.723454   \n",
       "BD10   16.00208         16.00208   10.421843    10.421843   \n",
       "BD101  12.85359         12.85359   12.339451    12.339451   \n",
       "BD105   9.92074          9.92074    8.928661     8.928661   \n",
       "BD106  38.64532         38.64532   24.346547    24.346547   \n",
       "\n",
       "       max/meanRA_stringent   simpson  simpson_stringent  berger_parker_d  \\\n",
       "BD                                                                          \n",
       "BD1               11.960480  0.948123           0.948096         0.153359   \n",
       "BD10              10.261815  0.921323           0.921320         0.160389   \n",
       "BD101              9.778003  0.944320           0.944226         0.128588   \n",
       "BD105              7.643827  0.957160           0.957110         0.099240   \n",
       "BD106             20.880080  0.828518           0.828346         0.386566   \n",
       "\n",
       "       berger_parker_d_stringent   shannon  shannon_stringent  \n",
       "BD                                                             \n",
       "BD1                     0.153399  4.985070           4.982342  \n",
       "BD10                    0.160392  4.350640           4.350385  \n",
       "BD101                   0.128697  4.877573           4.868458  \n",
       "BD105                   0.099297  5.054048           5.047913  \n",
       "BD106                   0.386759  3.809526           3.803739  "
      ]
     },
     "execution_count": 8,
     "metadata": {},
     "output_type": "execute_result"
    }
   ],
   "source": [
    "print 'calculating features for speciesDF...'\n",
    "MbThreshold=0.01\n",
    "speciesFeatureDF = calc_diversity_features_for_public_matrix(species_df,threshold=MbThreshold)\n",
    "speciesFeatureDF.head()\n"
   ]
  },
  {
   "cell_type": "code",
   "execution_count": 10,
   "metadata": {
    "ExecuteTime": {
     "end_time": "2018-05-16T18:45:48.496525Z",
     "start_time": "2018-05-16T18:45:48.096941Z"
    }
   },
   "outputs": [],
   "source": [
    "isStringent=False\n",
    "file1='%s/TCR_mb_results/divCorrTCR_MB_dfs/libPrepMethodNone_speciesFeatureDF_stringent%s_threshold%s.xlsx' %(datasetFolder, \n",
    "                                                                                isStringent,MbThreshold)\n",
    "speciesFeatureDF.to_excel(file1)"
   ]
  },
  {
   "cell_type": "code",
   "execution_count": 11,
   "metadata": {
    "ExecuteTime": {
     "end_time": "2018-05-16T18:46:58.122492Z",
     "start_time": "2018-05-16T18:46:57.944045Z"
    }
   },
   "outputs": [],
   "source": [
    "MbThreshold=0.01\n",
    "file1='%s/TCR_mb_results/divCorrTCR_MB_dfs/libPrepMethodNone_speciesFeatureDF_stringent%s_threshold%s.xlsx' %(datasetFolder, \n",
    "                                                                                isStringent,MbThreshold)\n",
    "\n",
    "speciesFeatureDF=pd.read_excel(file1)"
   ]
  },
  {
   "cell_type": "markdown",
   "metadata": {},
   "source": [
    "#### calculate correlations between TCR and Mb:"
   ]
  },
  {
   "cell_type": "code",
   "execution_count": 15,
   "metadata": {
    "ExecuteTime": {
     "end_time": "2018-05-16T19:20:34.615106Z",
     "start_time": "2018-05-16T19:20:34.565754Z"
    }
   },
   "outputs": [
    {
     "name": "stdout",
     "output_type": "stream",
     "text": [
      "446\n",
      "391\n",
      "336\n",
      "336\n",
      "       nCom  nCom_stringest   meanRA0    meanRA  meanRA_stringent\n",
      "BD                                                               \n",
      "BD1      83              78  0.248577  1.203949          1.280750\n",
      "BD10     65              64  0.248267  1.535437          1.559381\n",
      "BD101    96              76  0.248756  1.041666          1.314541\n",
      "BD105    90              77  0.248756  1.111112          1.297876\n",
      "BD106    63              54  0.248756  1.587302          1.850822\n",
      "       nCom  nCom_stringest   meanRA0    meanRA  meanRA_stringent\n",
      "BD                                                               \n",
      "BD1    2831             308  0.000082  0.008042          0.019307\n",
      "BD10   2705             512  0.000094  0.009641          0.022383\n",
      "BD101  1641             276  0.000057  0.009596          0.024082\n",
      "BD105  2513             499  0.000085  0.009341          0.020134\n",
      "BD106  2734             464  0.000089  0.008976          0.020273\n",
      "       nCom  nCom_stringest   meanRA0    meanRA  meanRA_stringent\n",
      "BD                                                               \n",
      "BD932   103              92  0.248691  0.970621          1.086053\n",
      "BD933    75              68  0.248756  1.333333          1.470067\n",
      "BD937    87              72  0.248698  1.149156          1.387776\n",
      "BD943    67              61  0.248756  1.492537          1.638886\n",
      "BD945    73              64  0.248756  1.369862          1.561720\n",
      "       nCom  nCom_stringest   meanRA0    meanRA  meanRA_stringent\n",
      "BD                                                               \n",
      "BD932  2647             488  0.000084  0.008812          0.018306\n",
      "BD933  2213             340  0.000083  0.010381          0.030843\n",
      "BD937  2412             301  0.000071  0.008096          0.018117\n",
      "BD943  2431             342  0.000113  0.012834          0.050507\n",
      "BD945  2899             335  0.000086  0.008157          0.019562\n"
     ]
    }
   ],
   "source": [
    "#MAKE SURE SAMPLE NAMES ARE IDENTICAL:\n",
    "try:\n",
    "    speciesFeatureDF = speciesFeatureDF.set_index('BD')  #### very important!!\n",
    "except KeyError:\n",
    "    print 'couldnt reset index to BD in speciesFeatureDF,probably BD is already the index'\n",
    "    speciesFeatureDF = speciesFeatureDF\n",
    "    \n",
    "try:\n",
    "    seqFeatureDF = seqFeatureDF.set_index('BD')  #### very important!!\n",
    "except KeyError:\n",
    "    print 'couldnt reset index to BD in seqFeatureDF,probably BD is already the index'\n",
    "    seqFeatureDF = seqFeatureDF\n",
    "    \n",
    "    \n",
    "    \n",
    "print len(speciesFeatureDF)\n",
    "print len(seqFeatureDF)\n",
    "\n",
    "speciesFeatureDF2=speciesFeatureDF[speciesFeatureDF.index.isin(list(seqFeatureDF.index))]\n",
    "seqFeatureDF2=seqFeatureDF[seqFeatureDF.index.isin(list(speciesFeatureDF.index))]\n",
    "\n",
    "speciesFeatureDF2=speciesFeatureDF2.sort_index()\n",
    "seqFeatureDF2=seqFeatureDF2.sort_index()\n",
    "\n",
    "print len(speciesFeatureDF2)\n",
    "print len(seqFeatureDF2)\n",
    "\n",
    "print speciesFeatureDF2.iloc[:5,:5]\n",
    "print seqFeatureDF2.iloc[:5,:5]\n",
    "\n",
    "print speciesFeatureDF2.iloc[-5:,:5]\n",
    "print seqFeatureDF2.iloc[-5:,:5]"
   ]
  },
  {
   "cell_type": "code",
   "execution_count": null,
   "metadata": {},
   "outputs": [],
   "source": []
  },
  {
   "cell_type": "code",
   "execution_count": 16,
   "metadata": {
    "ExecuteTime": {
     "end_time": "2018-05-16T19:21:45.960654Z",
     "start_time": "2018-05-16T19:21:45.761209Z"
    }
   },
   "outputs": [
    {
     "name": "stdout",
     "output_type": "stream",
     "text": [
      "calculating correlation between TCR and MB...\n",
      "nCom\n",
      "Spearman\n",
      "-0.025815494983016947 0.6372687453550995\n",
      "nCom_stringest\n",
      "Spearman\n",
      "0.02041524634421388 0.7092511976316115\n",
      "meanRA0\n",
      "Spearman\n",
      "-0.06587830951337284 0.22844354097975922\n",
      "meanRA\n",
      "Spearman\n",
      "-0.006805640333006775 0.901088837187577\n",
      "meanRA_stringent\n",
      "Spearman\n",
      "0.022116315413184182 0.6862587508308746\n",
      "meanLogRA0\n",
      "Spearman\n",
      "-0.06497224645768664 0.23492085812797006\n",
      "maxRA\n",
      "Spearman\n",
      "0.0815629463007724 0.1357020955826212\n",
      "maxRA_stringent\n",
      "Spearman\n",
      "0.0815629463007724 0.1357020955826212\n",
      "max/meanRA\n",
      "Spearman\n",
      "0.0853071438061916 0.11858872985422461\n",
      "max/meanRA0\n",
      "Spearman\n",
      "0.0853071438061916 0.11858872985422461\n",
      "max/meanRA_stringent\n",
      "Spearman\n",
      "0.08966928815017748 0.1008292176821725\n",
      "simpson\n",
      "Spearman\n",
      "0.06218040783787717 0.2556895048136254\n",
      "simpson_stringent\n",
      "Spearman\n",
      "0.04052279931415412 0.4590990490185526\n",
      "berger_parker_d\n",
      "Spearman\n",
      "0.07856415253111299 0.15072939351683956\n",
      "berger_parker_d_stringent\n",
      "Spearman\n",
      "0.0618700689009383 0.2580742339996452\n",
      "shannon\n",
      "Spearman\n",
      "0.03710812195908968 0.49783397658148953\n",
      "shannon_stringent\n",
      "Spearman\n",
      "0.017904120769615256 0.7436745899273698\n",
      "the best p-value is 0.101\n"
     ]
    }
   ],
   "source": [
    "# corrType='pearson'\n",
    "corrType='Spearman'\n",
    "\n",
    "\n",
    "print 'calculating correlation between TCR and MB...'\n",
    "divCorrTCR_MB = pd.DataFrame()\n",
    "for n, column in enumerate(seqFeatureDF2.columns):\n",
    "#     print column\n",
    "    if corrType=='pearson':\n",
    "        r, p = MyPearsonr(seqFeatureDF2[column], speciesFeatureDF2[column])\n",
    "    else:\n",
    "        r, p = MySpearmanr(seqFeatureDF2[column], speciesFeatureDF2[column])\n",
    "    print corrType\n",
    "    print r, p\n",
    "    divCorrTCR_MB.loc[n, 'column'] = column\n",
    "    divCorrTCR_MB.loc[n, 'r'] = r\n",
    "    divCorrTCR_MB.loc[n, 'p'] = p\n",
    "\n",
    "# ## save diversity correlation df....\n",
    "minP = round(divCorrTCR_MB['p'].min(), 3)\n",
    "print 'the best p-value is %s' % minP\n",
    "\n",
    "file1='%s/TCR_mb_results/divCorrTCR_MB_dfs/libPrepMethodNone_minNshared2_divCorrTCR_MB_%s.xlsx' %(datasetFolder, corrType)\n",
    "divCorrTCR_MB.to_excel(file1)"
   ]
  },
  {
   "cell_type": "code",
   "execution_count": null,
   "metadata": {
    "ExecuteTime": {
     "end_time": "2018-05-16T14:09:21.430698Z",
     "start_time": "2018-05-16T14:09:20.859771Z"
    }
   },
   "outputs": [],
   "source": [
    "corrType='pearson'\n",
    "# corrType='Spearman'\n",
    "\n",
    "\n",
    "print 'calculating correlation between TCR and MB...'\n",
    "divCorrTCR_MB = pd.DataFrame()\n",
    "for n, column in enumerate(seqFeatureDF2.columns):\n",
    "    if corrType=='pearson':\n",
    "        r, p = MyPearsonr(seqFeatureDF2[column], speciesFeatureDF2[column])\n",
    "    else:\n",
    "        r, p = MySpearmanr(seqFeatureDF2[column], speciesFeatureDF2[column])\n",
    "    print corrType\n",
    "    print column, r, p\n",
    "    divCorrTCR_MB.loc[n, 'column'] = column\n",
    "    divCorrTCR_MB.loc[n, 'r'] = r\n",
    "    divCorrTCR_MB.loc[n, 'p'] = p\n",
    "\n",
    "# ## save diversity correlation df....\n",
    "minP = round(divCorrTCR_MB['p'].min(), 3)\n",
    "print 'the best p-value is %s' % minP\n",
    "\n",
    "file1='%s/TCR_mb_results/divCorrTCR_MB_dfs/libPrepMethodNone_minNshared2_divCorrTCR_MB_%s.xlsx' %(datasetFolder, corrType)\n",
    "divCorrTCR_MB.to_excel(file1)"
   ]
  },
  {
   "cell_type": "markdown",
   "metadata": {},
   "source": [
    "#### plot features:"
   ]
  },
  {
   "cell_type": "markdown",
   "metadata": {},
   "source": [
    "****** CHOOSE PARAMETERS TO PLOT!! ******"
   ]
  },
  {
   "cell_type": "code",
   "execution_count": 17,
   "metadata": {
    "ExecuteTime": {
     "end_time": "2018-05-16T19:28:32.199498Z",
     "start_time": "2018-05-16T19:28:32.195223Z"
    }
   },
   "outputs": [],
   "source": [
    "toPlotList=['meanRA0','meanRA','meanRA_stringent','maxRA','max/meanRA_stringent','simpson','berger_parker_d','shannon']"
   ]
  },
  {
   "cell_type": "code",
   "execution_count": 18,
   "metadata": {
    "ExecuteTime": {
     "end_time": "2018-05-16T19:29:43.900320Z",
     "start_time": "2018-05-16T19:29:43.891879Z"
    }
   },
   "outputs": [],
   "source": [
    "seqFeatureDF3=seqFeatureDF2[toPlotList]\n",
    "speciesFeatureDF3=speciesFeatureDF2[toPlotList]"
   ]
  },
  {
   "cell_type": "code",
   "execution_count": 19,
   "metadata": {
    "ExecuteTime": {
     "end_time": "2018-05-16T19:31:00.655694Z",
     "start_time": "2018-05-16T19:30:56.240744Z"
    }
   },
   "outputs": [
    {
     "data": {
      "image/png": "[encoded data removed]",
      "text/plain": [
       "<matplotlib.figure.Figure at 0x7f663e187d50>"
      ]
     },
     "metadata": {},
     "output_type": "display_data"
    }
   ],
   "source": [
    "nPlots=len(seqFeatureDF3.columns)\n",
    "\n",
    "hsize=4*nPlots\n",
    "vsize=9\n",
    "fig, axes=plt.subplots(nrows=3, ncols=nPlots,figsize=(hsize,vsize))\n",
    "\n",
    "for n,column in enumerate(seqFeatureDF3.columns.values):\n",
    "    \n",
    "    r_p, p_p = MyPearsonr(seqFeatureDF3[column], speciesFeatureDF3[column])\n",
    "    r_s, p_s = MySpearmanr(seqFeatureDF3[column], speciesFeatureDF3[column])\n",
    "        \n",
    "        \n",
    "    ax1=axes[0,n]\n",
    "    seqFeatureDF3[column].hist(ax=ax1)\n",
    "    ax1.set_title('%s\\nSpearman: r= %s,p= %s\\nPearson: r= %s,p= %s' % (column,round(r_s, 2), round(p_s, 6),\n",
    "                   round(r_p, 2), round(p_p, 6)),fontsize=14)\n",
    "    ax1.xaxis.set_major_locator(plt.MaxNLocator(5))\n",
    "#     for tick in ax1.get_xticklabels():\n",
    "#         tick.set_rotation(90)\n",
    "    xmax1 = round(np.max(seqFeatureDF3[column]) * 1.05, 4)\n",
    "    xmin1 = round(np.min(seqFeatureDF3[column]) * 0.95, 4)\n",
    "    ax1.set_xlim(xmin1,xmax1)\n",
    "   \n",
    "    \n",
    "    ax2=axes[1,n]\n",
    "    speciesFeatureDF3[column].hist(ax=ax2)\n",
    "    ax2.xaxis.set_major_locator(plt.MaxNLocator(5))\n",
    "    xmax2 = round(np.max(speciesFeatureDF3[column]) * 1.05, 4)\n",
    "    xmin2 = round(np.min(speciesFeatureDF3[column]) * 0.95, 4)\n",
    "    ax2.set_xlim(xmin2,xmax2)\n",
    "    \n",
    "    \n",
    "    ax3=axes[2,n]\n",
    "    ax3.scatter(seqFeatureDF3[column],speciesFeatureDF3[column],alpha=0.3)\n",
    "    ax3.set_xlabel('TCR seqs')\n",
    "    ax3.set_ylabel('Mb Species')\n",
    "    plot_bestFitLine(seqFeatureDF3[column], speciesFeatureDF3[column], ax=ax3, color='black')\n",
    "    ax3.set_xlim(xmin1,xmax1)\n",
    "    ax3.set_ylim(xmin2,xmax2)\n",
    "    \n",
    "    \n",
    "    if n==0:\n",
    "        ax1.set_ylabel('TCR seqs')\n",
    "        ax2.set_ylabel('Mb species')\n",
    "        \n",
    "fig.subplots_adjust(left=0.04, bottom=None, right=0.99, top=0.95,\n",
    "    wspace=0.3, hspace=0.3)\n",
    "\n",
    "    \n",
    "plt.show()\n",
    "    \n",
    "\n"
   ]
  },
  {
   "cell_type": "code",
   "execution_count": 20,
   "metadata": {
    "ExecuteTime": {
     "end_time": "2018-05-16T19:32:15.111772Z",
     "start_time": "2018-05-16T19:32:13.411943Z"
    }
   },
   "outputs": [],
   "source": [
    "file1='%s/TCR_mb_results/divCorrTCR_MB_dfs/libPrepMethodNone_minNshared2_divCorrTCRMBplot_%s_stringent%s_new' %(datasetFolder, \n",
    "                                                corrType,isStringent)\n",
    "fig.savefig(file1,dpi=200)"
   ]
  },
  {
   "cell_type": "markdown",
   "metadata": {},
   "source": [
    "#### repeat with sample outlier removal:"
   ]
  },
  {
   "cell_type": "code",
   "execution_count": 28,
   "metadata": {
    "ExecuteTime": {
     "end_time": "2018-05-16T20:04:53.627561Z",
     "start_time": "2018-05-16T20:04:53.503006Z"
    }
   },
   "outputs": [
    {
     "name": "stdout",
     "output_type": "stream",
     "text": [
      "446\n",
      "391\n",
      "446\n",
      "391\n",
      "336\n",
      "336\n",
      "       nCom  nCom_stringest   meanRA0    meanRA  meanRA_stringent\n",
      "BD                                                               \n",
      "BD1    83.0       78.000000  0.248577  1.203949          1.280750\n",
      "BD10   65.0       64.000000  0.248267  1.535437          1.559381\n",
      "BD101  96.0       76.000000  0.248756  1.041666          1.314541\n",
      "BD105  90.0       77.000000  0.248756  1.111112          1.297876\n",
      "BD106  63.0       54.652518  0.248756  1.554333          1.749109\n",
      "              nCom  nCom_stringest   meanRA0    meanRA  meanRA_stringent\n",
      "BD                                                                      \n",
      "BD1    2831.000000           308.0  0.000082  0.008042          0.019307\n",
      "BD10   2705.000000           512.0  0.000094  0.009641          0.022383\n",
      "BD101  1755.986618           276.0  0.000060  0.009596          0.024082\n",
      "BD105  2513.000000           499.0  0.000085  0.009341          0.020134\n",
      "BD106  2734.000000           464.0  0.000089  0.008976          0.020273\n",
      "        nCom  nCom_stringest   meanRA0    meanRA  meanRA_stringent\n",
      "BD                                                                \n",
      "BD932  103.0            92.0  0.248691  0.970621          1.086053\n",
      "BD933   75.0            68.0  0.248756  1.333333          1.470067\n",
      "BD937   87.0            72.0  0.248698  1.149156          1.387776\n",
      "BD943   67.0            61.0  0.248756  1.492537          1.638886\n",
      "BD945   73.0            64.0  0.248756  1.369862          1.561720\n",
      "         nCom  nCom_stringest   meanRA0    meanRA  meanRA_stringent\n",
      "BD                                                                 \n",
      "BD932  2647.0           488.0  0.000084  0.008812          0.018306\n",
      "BD933  2213.0           340.0  0.000083  0.010381          0.030843\n",
      "BD937  2412.0           301.0  0.000071  0.008096          0.018117\n",
      "BD943  2431.0           342.0  0.000113  0.012834          0.050507\n",
      "BD945  2899.0           335.0  0.000086  0.008157          0.019562\n"
     ]
    }
   ],
   "source": [
    "print len(speciesFeatureDF)\n",
    "print len(seqFeatureDF)\n",
    "outlierSTD=5\n",
    "\n",
    "speciesFeatureDF4 = filter_outliers(df=speciesFeatureDF, \n",
    "                                    outlierSTD=outlierSTD, columnList=None,trim=True)\n",
    "seqFeatureDF4 = filter_outliers(df=seqFeatureDF, \n",
    "                                    outlierSTD=outlierSTD, columnList=None,trim=True)\n",
    "\n",
    "print len(speciesFeatureDF4)\n",
    "print len(seqFeatureDF4)\n",
    "\n",
    "speciesFeatureDF4=speciesFeatureDF4[speciesFeatureDF4.index.isin(list(seqFeatureDF4.index))]\n",
    "seqFeatureDF4=seqFeatureDF4[seqFeatureDF4.index.isin(list(speciesFeatureDF4.index))]\n",
    "\n",
    "speciesFeatureDF4=speciesFeatureDF4.sort_index()\n",
    "seqFeatureDF4=seqFeatureDF4.sort_index()\n",
    "\n",
    "print len(speciesFeatureDF4)\n",
    "print len(seqFeatureDF4)\n",
    "\n",
    "print speciesFeatureDF4.iloc[:5,:5]\n",
    "print seqFeatureDF4.iloc[:5,:5]\n",
    "\n",
    "print speciesFeatureDF4.iloc[-5:,:5]\n",
    "print seqFeatureDF4.iloc[-5:,:5]\n",
    "\n",
    "# speciesFeatureDF=speciesFeatureDF.fillna(0)\n",
    "# seqFeatureDF=seqFeatureDF.fillna(0)"
   ]
  },
  {
   "cell_type": "code",
   "execution_count": 29,
   "metadata": {
    "ExecuteTime": {
     "end_time": "2018-05-16T20:06:08.757174Z",
     "start_time": "2018-05-16T20:06:08.580109Z"
    }
   },
   "outputs": [
    {
     "name": "stdout",
     "output_type": "stream",
     "text": [
      "calculating correlation between TCR and MB...\n",
      "nCom -0.025888193447646278 0.6363207278203609\n",
      "nCom_stringest 0.01964385636272731 0.7197667206588263\n",
      "meanRA0 -0.06596096006086559 0.22785904832082918\n",
      "meanRA -0.007184998080247768 0.8956059612796936\n",
      "meanRA_stringent 0.022964581389863174 0.6748987332684181\n",
      "meanLogRA0 -0.06497899326531319 0.2348721525988246\n",
      "maxRA 0.08055261849464124 0.140630636549177\n",
      "maxRA_stringent 0.08055261849464124 0.140630636549177\n",
      "max/meanRA 0.08496900973781006 0.12006141641433242\n",
      "max/meanRA0 0.08496900973781006 0.12006141641433242\n",
      "max/meanRA_stringent 0.08768413441990636 0.10863063580124845\n",
      "simpson 0.06273576464135487 0.251460135217128\n",
      "simpson_stringent 0.04101925554026889 0.4536108419904902\n",
      "berger_parker_d 0.07910793829945181 0.1479145535990564\n",
      "berger_parker_d_stringent 0.0630574980686671 0.24903229257829548\n",
      "shannon 0.03628531256403299 0.5074199443453689\n",
      "shannon_stringent 0.01777108960301373 0.7455132411451231\n",
      "the best p-value is 0.109\n"
     ]
    }
   ],
   "source": [
    "# corrType='pearson'\n",
    "corrType='Spearman'\n",
    "\n",
    "\n",
    "print 'calculating correlation between TCR and MB...'\n",
    "divCorrTCR_MB = pd.DataFrame()\n",
    "for n, column in enumerate(seqFeatureDF4.columns):\n",
    "    if corrType=='pearson':\n",
    "        r, p = MyPearsonr(seqFeatureDF4[column], speciesFeatureDF4[column])\n",
    "    else:\n",
    "        r, p = MySpearmanr(seqFeatureDF4[column], speciesFeatureDF4[column])\n",
    "#     print corrType\n",
    "    print column, r, p\n",
    "    divCorrTCR_MB.loc[n, 'column'] = column\n",
    "    divCorrTCR_MB.loc[n, 'r'] = r\n",
    "    divCorrTCR_MB.loc[n, 'p'] = p\n",
    "\n",
    "# ## save diversity correlation df....\n",
    "minP = round(divCorrTCR_MB['p'].min(), 3)\n",
    "print 'the best p-value is %s' % minP\n",
    "\n",
    "file1='%s/TCR_mb_results/divCorrTCR_MB_dfs/libPrepMethodNone_minNshared2_divCorrTCR_MB_%s_std%s.xlsx' %(datasetFolder, corrType,outlierSTD)\n",
    "divCorrTCR_MB.to_excel(file1)"
   ]
  },
  {
   "cell_type": "code",
   "execution_count": null,
   "metadata": {
    "ExecuteTime": {
     "start_time": "2018-05-16T12:59:44.818Z"
    }
   },
   "outputs": [],
   "source": [
    "corrType='pearson'\n",
    "# corrType='Spearman'\n",
    "\n",
    "\n",
    "print 'calculating correlation between TCR and MB...'\n",
    "divCorrTCR_MB = pd.DataFrame()\n",
    "for n, column in enumerate(seqFeatureDF4.columns):\n",
    "    if corrType=='pearson':\n",
    "        r, p = MyPearsonr(seqFeatureDF4[column], speciesFeatureDF4[column])\n",
    "    else:\n",
    "        r, p = MySpearmanr(seqFeatureDF4[column], speciesFeatureDF4[column])\n",
    "#     print corrType\n",
    "    print column, r, p\n",
    "    divCorrTCR_MB.loc[n, 'column'] = column\n",
    "    divCorrTCR_MB.loc[n, 'r'] = r\n",
    "    divCorrTCR_MB.loc[n, 'p'] = p\n",
    "\n",
    "# ## save diversity correlation df....\n",
    "minP = round(divCorrTCR_MB['p'].min(), 3)\n",
    "print 'the best p-value is %s' % minP\n",
    "\n",
    "file1='%s/TCR_mb_results/divCorrTCR_MB_dfs/libPrepMethodNone_minNshared2_divCorrTCR_MB_%s_std%s.xlsx' %(datasetFolder, corrType,outlierSTD)\n",
    "divCorrTCR_MB.to_excel(file1)"
   ]
  },
  {
   "cell_type": "code",
   "execution_count": 25,
   "metadata": {
    "ExecuteTime": {
     "end_time": "2018-05-16T19:38:57.960192Z",
     "start_time": "2018-05-16T19:38:57.956294Z"
    }
   },
   "outputs": [],
   "source": [
    "toPlotList=['meanRA0','meanRA','meanRA_stringent','maxRA','max/meanRA_stringent','simpson','berger_parker_d','shannon']"
   ]
  },
  {
   "cell_type": "code",
   "execution_count": 26,
   "metadata": {
    "ExecuteTime": {
     "end_time": "2018-05-16T19:40:13.437138Z",
     "start_time": "2018-05-16T19:40:13.431456Z"
    }
   },
   "outputs": [],
   "source": [
    "seqFeatureDF5=seqFeatureDF4[toPlotList]\n",
    "speciesFeatureDF5=speciesFeatureDF4[toPlotList]"
   ]
  },
  {
   "cell_type": "code",
   "execution_count": 32,
   "metadata": {
    "ExecuteTime": {
     "end_time": "2018-05-16T20:15:07.368370Z",
     "start_time": "2018-05-16T20:15:02.876568Z"
    }
   },
   "outputs": [
    {
     "data": {
      "image/png": "[encoded data removed]",
      "text/plain": [
       "<matplotlib.figure.Figure at 0x7f6630ce9bd0>"
      ]
     },
     "metadata": {},
     "output_type": "display_data"
    }
   ],
   "source": [
    "nPlots=len(seqFeatureDF5.columns)\n",
    "\n",
    "\n",
    "\n",
    "hsize=4*nPlots\n",
    "vsize=9\n",
    "fig, axes=plt.subplots(nrows=3, ncols=nPlots,figsize=(hsize,vsize))\n",
    "\n",
    "for n,column in enumerate(seqFeatureDF5.columns.values):\n",
    "    \n",
    "    r_p, p_p = MyPearsonr(seqFeatureDF5[column], speciesFeatureDF5[column])\n",
    "    r_s, p_s = MySpearmanr(seqFeatureDF5[column], speciesFeatureDF5[column])\n",
    "        \n",
    "        \n",
    "    ax1=axes[0,n]\n",
    "    seqFeatureDF5[column].hist(ax=ax1)\n",
    "    ax1.set_title('%s\\nSpearman: r= %s,p= %s\\nPearson: r= %s,p= %s' % (column,round(r_s, 2), round(p_s, 6),\n",
    "                   round(r_p, 2), round(p_p, 6)),fontsize=14)\n",
    "    ax1.xaxis.set_major_locator(plt.MaxNLocator(5))\n",
    "#     for tick in ax1.get_xticklabels():\n",
    "#         tick.set_rotation(90)\n",
    "    xmax1 = round(np.max(seqFeatureDF5[column]) * 1.05, 4)\n",
    "    xmin1 = round(np.min(seqFeatureDF5[column]) * 0.95, 4)\n",
    "    ax1.set_xlim(xmin1,xmax1)\n",
    "   \n",
    "    \n",
    "    ax2=axes[1,n]\n",
    "    speciesFeatureDF5[column].hist(ax=ax2)\n",
    "    ax2.xaxis.set_major_locator(plt.MaxNLocator(5))\n",
    "    xmax2 = round(np.max(speciesFeatureDF5[column]) * 1.05, 4)\n",
    "    xmin2 = round(np.min(speciesFeatureDF5[column]) * 0.95, 4)\n",
    "    ax2.set_xlim(xmin2,xmax2)\n",
    "    \n",
    "    \n",
    "    ax3=axes[2,n]\n",
    "    ax3.scatter(seqFeatureDF5[column],speciesFeatureDF5[column],alpha=0.3)\n",
    "    ax3.set_xlabel('TCR seqs')\n",
    "    ax3.set_ylabel('Mb Species')\n",
    "    plot_bestFitLine(seqFeatureDF5[column], speciesFeatureDF5[column], ax=ax3, color='black')\n",
    "    ax3.set_xlim(xmin1,xmax1)\n",
    "    ax3.set_ylim(xmin2,xmax2)\n",
    "    \n",
    "    \n",
    "    if n==0:\n",
    "        ax1.set_ylabel('TCR seqs')\n",
    "        ax2.set_ylabel('Mb species')\n",
    "        \n",
    "fig.subplots_adjust(left=0.04, bottom=None, right=0.99, top=0.95,\n",
    "    wspace=0.3, hspace=0.3)\n",
    "\n",
    "    \n",
    "plt.show()\n",
    "    \n",
    "\n"
   ]
  },
  {
   "cell_type": "markdown",
   "metadata": {},
   "source": [
    "#### look at specific cases:"
   ]
  },
  {
   "cell_type": "code",
   "execution_count": null,
   "metadata": {
    "ExecuteTime": {
     "end_time": "2018-05-16T13:07:10.162481Z",
     "start_time": "2018-05-16T13:07:09.977723Z"
    }
   },
   "outputs": [],
   "source": [
    "seqFeatureDF2.sort_values(by='meanRA',ascending=False)"
   ]
  },
  {
   "cell_type": "code",
   "execution_count": null,
   "metadata": {},
   "outputs": [],
   "source": []
  },
  {
   "cell_type": "markdown",
   "metadata": {},
   "source": [
    "#### filter outlier in RA data:"
   ]
  },
  {
   "cell_type": "code",
   "execution_count": null,
   "metadata": {},
   "outputs": [],
   "source": []
  }
 ],
 "metadata": {
  "kernelspec": {
   "display_name": "Python 2",
   "language": "python",
   "name": "python2"
  },
  "language_info": {
   "codemirror_mode": {
    "name": "ipython",
    "version": 2
   },
   "file_extension": ".py",
   "mimetype": "text/x-python",
   "name": "python",
   "nbconvert_exporter": "python",
   "pygments_lexer": "ipython2",
   "version": "2.7.8"
  },
  "toc": {
   "nav_menu": {},
   "number_sections": true,
   "sideBar": true,
   "skip_h1_title": false,
   "toc_cell": false,
   "toc_position": {
    "height": "520px",
    "left": "0px",
    "right": "20px",
    "top": "134px",
    "width": "270px"
   },
   "toc_section_display": "block",
   "toc_window_display": true
  },
  "varInspector": {
   "cols": {
    "lenName": 16,
    "lenType": 16,
    "lenVar": 40
   },
   "kernels_config": {
    "python": {
     "delete_cmd_postfix": "",
     "delete_cmd_prefix": "del ",
     "library": "var_list.py",
     "varRefreshCmd": "print(var_dic_list())"
    },
    "r": {
     "delete_cmd_postfix": ") ",
     "delete_cmd_prefix": "rm(",
     "library": "var_list.r",
     "varRefreshCmd": "cat(var_dic_list()) "
    }
   },
   "types_to_exclude": [
    "module",
    "function",
    "builtin_function_or_method",
    "instance",
    "_Feature"
   ],
   "window_display": false
  }
 },
 "nbformat": 4,
 "nbformat_minor": 2
}
