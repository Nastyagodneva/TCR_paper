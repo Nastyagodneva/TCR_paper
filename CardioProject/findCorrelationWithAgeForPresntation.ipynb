{
 "cells": [
  {
   "cell_type": "markdown",
   "metadata": {},
   "source": [
    "# imports"
   ]
  },
  {
   "cell_type": "code",
   "execution_count": null,
   "metadata": {},
   "outputs": [],
   "source": [
    "from os import listdir,mkdir,makedirs\n",
    "from os.path import isfile, join, isdir,exists\n",
    "import pandas as pd\n",
    "import numpy as np\n",
    "from scipy import stats\n",
    "import re\n",
    "import matplotlib.pyplot as plt\n",
    "from matplotlib.backends.backend_pdf import PdfPages\n",
    "from myplots import roundup, rounddown, find_decimal_fold, percentile_cut_off, rarefaction_calc, rarefaction_plot,draw_correlation_scatter\n",
    "from matplotlib.ticker import FormatStrFormatter\n",
    "import cPickle as pickle\n",
    "from Bio.SeqUtils import GC\n",
    "import seaborn as sns\n",
    "import random\n",
    "from scipy.stats import pearsonr\n",
    "from skbio.diversity.alpha import shannon, simpson, berger_parker_d\n",
    "\n",
    "from pop_organize import get_sample_data, get_sample_with_dfs\n",
    "from SufficientStatistics.SufficientStatistics import *\n",
    "from MyFunctionsShani import *\n",
    "import math\n",
    "from myplots import roundup, rounddown, find_decimal_fold\n",
    "from skbio.stats.distance import mantel\n",
    "from scipy.spatial.distance import braycurtis, pdist\n",
    "from GeneralFeaturePhenotypeInteractions.Feature_phenotype_functions import * \n",
    "from TCR_microbiome_interactions.TCR_microbiome_interactions_functions import *"
   ]
  },
  {
   "cell_type": "code",
   "execution_count": null,
   "metadata": {},
   "outputs": [],
   "source": [
    "import time\n",
    "cdate=str(time.strftime(\"%d%m%Y\"))\n",
    "cdate"
   ]
  },
  {
   "cell_type": "markdown",
   "metadata": {},
   "source": [
    "# get distance matrices:"
   ]
  },
  {
   "cell_type": "code",
   "execution_count": null,
   "metadata": {},
   "outputs": [],
   "source": [
    "#sequences:\n",
    "f1='/net/mraid08/export/genie/Lab/Personal/ShaniBAF/TCR_real_data/Distance Matrices/distMat_PNP434_TCRdfRA_more50_braycurtis'\n",
    "distMat_PNP434_TCRdfRA_more50_braycurtis=pd.read_pickle(f1)\n",
    "distMat_PNP434_TCRdfRA_more50_braycurtis.head()"
   ]
  },
  {
   "cell_type": "code",
   "execution_count": null,
   "metadata": {},
   "outputs": [],
   "source": [
    "distMat_PNP434_TCRdfRA_more50_braycurtis.iloc[-5:,-5:]"
   ]
  },
  {
   "cell_type": "code",
   "execution_count": null,
   "metadata": {},
   "outputs": [],
   "source": [
    "#cholesterol:\n",
    "f1='/net/mraid08/export/genie/Lab/Personal/ShaniBAF/TCR_real_data/Distance Matrices/newPhenotypes/distMat_PNP434_Cholesterol, total - blood_euclidean'\n",
    "distMat_PNP434_cholesterol_euclidean=pd.read_pickle(f1)\n",
    "distMat_PNP434_cholesterol_euclidean.head()\n"
   ]
  },
  {
   "cell_type": "code",
   "execution_count": null,
   "metadata": {},
   "outputs": [],
   "source": [
    "#age:\n",
    "f1='/net/mraid08/export/genie/Lab/Personal/ShaniBAF/TCR_real_data/Distance Matrices/newPhenotypes/distMat_PNP434_Age_euclidean'\n",
    "distMat_PNP434_Age_euclidean=pd.read_pickle(f1)\n",
    "distMat_PNP434_Age_euclidean.head()"
   ]
  },
  {
   "cell_type": "markdown",
   "metadata": {},
   "source": [
    "## remove same person:"
   ]
  },
  {
   "cell_type": "code",
   "execution_count": null,
   "metadata": {},
   "outputs": [],
   "source": [
    "distMat_PNP434_TCRdfRA_more50_braycurtis_noSame=filterSamePerson(distMat_PNP434_TCRdfRA_more50_braycurtis,axisList=[0,1])"
   ]
  },
  {
   "cell_type": "code",
   "execution_count": null,
   "metadata": {},
   "outputs": [],
   "source": [
    "distMat_PNP434_Age_euclidean_noSame=filterSamePerson(distMat_PNP434_Age_euclidean,axisList=[0,1])"
   ]
  },
  {
   "cell_type": "markdown",
   "metadata": {},
   "source": [
    "## save to files:"
   ]
  },
  {
   "cell_type": "code",
   "execution_count": null,
   "metadata": {},
   "outputs": [],
   "source": [
    "f1='/net/mraid08/export/genie/Lab/Personal/ShaniBAF/TCR_real_data/Distance Matrices/newPhenotypes/distMat_PNP434_Age_euclidean_noSame'\n",
    "distMat_PNP434_Age_euclidean_noSame.to_pickle(f1)\n",
    "\n",
    "f1='/net/mraid08/export/genie/Lab/Personal/ShaniBAF/TCR_real_data/Distance Matrices/distMat_PNP434_TCRdfRA_more50_braycurtis_noSame'\n",
    "distMat_PNP434_TCRdfRA_more50_braycurtis_noSame.to_pickle(f1)\n",
    "\n"
   ]
  },
  {
   "cell_type": "markdown",
   "metadata": {},
   "source": [
    "## run mantel:"
   ]
  },
  {
   "cell_type": "code",
   "execution_count": null,
   "metadata": {},
   "outputs": [],
   "source": [
    "method='spearman'\n",
    "n_permut=9999\n",
    "alternative='two-sided'\n",
    "\n",
    "fileNameP='distMat_PNP434_Age_euclidean_noSame'\n",
    "fileNameF='distMat_PNP434_TCRdfRA_more50_braycurtis_noSame'\n",
    "\n",
    "feature_dist_file='/net/mraid08/export/genie/Lab/Personal/ShaniBAF/TCR_real_data/Distance Matrices/%s' %fileNameF\n",
    "feature_name=fileNameF.split('_')[-2]+'_'+fileNameF.split('_')[-1]\n",
    "\n",
    "phenotype_dist_file='/net/mraid08/export/genie/Lab/Personal/ShaniBAF/TCR_real_data/Distance Matrices/newPhenotypes/%s' %fileNameP\n",
    "phenotype_name=fileNameP.split('_')[-2]+'_'+fileNameP.split('_')[-1]\n",
    "          \n",
    "df=mantelTest_feature_phenotype(feature_dist_file, phenotype_dist_file,feature_name,phenotype_name, method,n_permut,alternative,\n",
    "                            removeSameUser=False)\n"
   ]
  },
  {
   "cell_type": "code",
   "execution_count": null,
   "metadata": {},
   "outputs": [],
   "source": [
    "method='spearman'\n",
    "n_permut=9999\n",
    "alternative='two-sided'\n",
    "\n",
    "fileNameP='distMat_PNP434_Cholesterol, total - blood_euclidean'\n",
    "fileNameF='distMat_PNP434_TCRdfRA_more50_braycurtis_noSame'\n",
    "\n",
    "feature_dist_file='/net/mraid08/export/genie/Lab/Personal/ShaniBAF/TCR_real_data/Distance Matrices/%s' %fileNameF\n",
    "feature_name=fileNameF.split('_')[-2]+'_'+fileNameF.split('_')[-1]\n",
    "\n",
    "phenotype_dist_file='/net/mraid08/export/genie/Lab/Personal/ShaniBAF/TCR_real_data/Distance Matrices/newPhenotypes/%s' %fileNameP\n",
    "phenotype_name=fileNameP.split('_')[-2]+'_'+fileNameP.split('_')[-1]\n",
    "          \n",
    "df=mantelTest_feature_phenotype(feature_dist_file, phenotype_dist_file,feature_name,phenotype_name, method,n_permut,alternative,\n",
    "                            removeSameUser=False)\n"
   ]
  },
  {
   "cell_type": "markdown",
   "metadata": {},
   "source": [
    "## plot correlation:"
   ]
  },
  {
   "cell_type": "code",
   "execution_count": null,
   "metadata": {},
   "outputs": [],
   "source": [
    "featureDistMat=distMat_PNP434_TCRdfRA_more50_braycurtis_noSame\n",
    "PhenotypeDistMat=distMat_PNP434_cholesterol_euclidean\n",
    "FeatureName='distMat_PNP434_TCRdfRA_more50_braycurtis_noSame'\n",
    "PhenotypeName='distMat_PNP434_cholesterol_euclidean'\n",
    "minPhenotypeValue=None\n",
    "\n",
    "\n",
    "fig1=plot_corr_for_distMats(featureDistMat,PhenotypeDistMat,FeatureName,PhenotypeName,minPhenotypeValue)"
   ]
  },
  {
   "cell_type": "code",
   "execution_count": null,
   "metadata": {},
   "outputs": [],
   "source": [
    "featureDistMat=distMat_PNP434_TCRdfRA_more50_braycurtis_noSame\n",
    "PhenotypeDistMat=distMat_PNP434_Age_euclidean_noSame\n",
    "FeatureName='distMat_PNP434_TCRdfRA_more50_braycurtis_noSame'\n",
    "PhenotypeName='distMat_PNP434_Age_euclidean_noSame'\n",
    "minPhenotypeValue=None\n",
    "\n",
    "\n",
    "fig1=plot_corr_for_distMats(featureDistMat,PhenotypeDistMat,FeatureName,PhenotypeName,minPhenotypeValue)"
   ]
  },
  {
   "cell_type": "code",
   "execution_count": null,
   "metadata": {},
   "outputs": [],
   "source": [
    "plt.show()"
   ]
  },
  {
   "cell_type": "code",
   "execution_count": null,
   "metadata": {},
   "outputs": [],
   "source": []
  }
 ],
 "metadata": {
  "kernelspec": {
   "display_name": "Python 2",
   "language": "python",
   "name": "python2"
  },
  "language_info": {
   "codemirror_mode": {
    "name": "ipython",
    "version": 2
   },
   "file_extension": ".py",
   "mimetype": "text/x-python",
   "name": "python",
   "nbconvert_exporter": "python",
   "pygments_lexer": "ipython2",
   "version": "2.7.8"
  },
  "toc": {
   "nav_menu": {},
   "number_sections": true,
   "sideBar": true,
   "skip_h1_title": false,
   "toc_cell": false,
   "toc_position": {},
   "toc_section_display": "block",
   "toc_window_display": false
  }
 },
 "nbformat": 4,
 "nbformat_minor": 2
}
