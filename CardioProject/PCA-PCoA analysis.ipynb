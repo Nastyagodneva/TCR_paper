{
 "cells": [
  {
   "cell_type": "markdown",
   "metadata": {},
   "source": [
    "# imports:"
   ]
  },
  {
   "cell_type": "code",
   "execution_count": 1,
   "metadata": {
    "ExecuteTime": {
     "end_time": "2019-03-05T09:53:18.569589Z",
     "start_time": "2019-03-05T09:53:15.524881Z"
    }
   },
   "outputs": [
    {
     "name": "stdout",
     "output_type": "stream",
     "text": [
      "done1\n",
      "stop\n",
      "stop\n",
      "done1\n",
      "stop\n",
      "done\n",
      "done\n",
      "done\n",
      "done\n",
      "stop\n",
      "stop\n",
      "end of function!!!\n",
      "end of function!!!\n"
     ]
    }
   ],
   "source": [
    "from os import listdir,mkdir,makedirs\n",
    "from os.path import isfile, join, isdir,exists\n",
    "import pandas as pd\n",
    "import numpy as np\n",
    "from scipy import stats\n",
    "import re\n",
    "import matplotlib.pyplot as plt\n",
    "from matplotlib.backends.backend_pdf import PdfPages\n",
    "from myplots import roundup, rounddown, find_decimal_fold, percentile_cut_off, rarefaction_calc, rarefaction_plot,draw_correlation_scatter\n",
    "from matplotlib.ticker import FormatStrFormatter\n",
    "import cPickle as pickle\n",
    "from Bio.SeqUtils import GC\n",
    "import seaborn as sns\n",
    "import random\n",
    "from scipy.stats import pearsonr,fisher_exact,mannwhitneyu\n",
    "from skbio.diversity.alpha import shannon, simpson, berger_parker_d\n",
    "\n",
    "from pop_organize import get_sample_data, get_sample_with_dfs\n",
    "from SufficientStatistics.SufficientStatistics import *\n",
    "from MyFunctionsShani import *\n",
    "import math\n",
    "from myplots import roundup, rounddown, find_decimal_fold, adjusted_roundup\n",
    "from skbio.stats.distance import mantel\n",
    "from scipy.spatial.distance import braycurtis, pdist, euclidean\n",
    "\n",
    "\n",
    "from GeneralFeaturePhenotypeInteractions.Feature_phenotype_functions import * \n",
    "from TCR_microbiome_interactions.TCR_microbiome_interactions_functions import *\n",
    "from TCR_microbiome_interactions.TCR_microbiome_interactions_functions2 import *\n",
    "from SampleLists.SampleFileFunctions import *\n",
    "from PhenotypicData.PhenotypeGenerationFunctions import *\n",
    "from CardioProject.CardioFunctions import *\n",
    "from PredictionPipeline.PredictionFunctions import *\n",
    "from TCR_feature_generation.SubsamplingFunctions import *\n",
    "\n",
    "import os\n",
    "from Utils import cacheOnDisk, Load\n",
    "from SegalQueue.qp import qp,fakeqp\n",
    "from addloglevels import sethandlers\n",
    "\n",
    "#ML imports:\n",
    "from xgboost import XGBClassifier\n",
    "import lightgbm as lgb\n",
    "from collections import OrderedDict\n",
    "from sklearn.model_selection import GroupKFold,StratifiedKFold, KFold\n",
    "import statsmodels.formula.api as sm\n",
    "from sklearn.linear_model import LogisticRegression, LinearRegression\n",
    "import shap\n",
    "from sklearn import metrics, preprocessing\n",
    "from sklearn.svm import LinearSVC\n",
    "from sklearn.feature_selection import SelectFromModel,SelectKBest,chi2,mutual_info_classif,f_classif\n",
    "from sklearn.naive_bayes import GaussianNB\n",
    "from sklearn.metrics import *\n",
    "\n",
    "MyPath='/net/mraid08/export/genie/Lab/Personal/ShaniBAF'\n",
    "\n",
    "with open('/net/mraid08/export/genie/Lab/Personal/ShaniBAF/Sample files/BD lists/PNP530','rb') as fp:\n",
    "    PNP530=pickle.load(fp)\n",
    "with open('/net/mraid08/export/genie/Lab/Personal/ShaniBAF/Sample files/BD lists/Cardio126','rb') as fp:\n",
    "    Cardio126=pickle.load(fp)\n",
    "PNP530Cardio126=PNP530+Cardio126\n",
    "\n",
    "pd.set_option('display.expand_frame_repr', False)\n"
   ]
  },
  {
   "cell_type": "code",
   "execution_count": 2,
   "metadata": {
    "ExecuteTime": {
     "end_time": "2019-03-05T09:53:18.906148Z",
     "start_time": "2019-03-05T09:53:18.897106Z"
    }
   },
   "outputs": [
    {
     "data": {
      "text/plain": [
       "'05032019'"
      ]
     },
     "execution_count": 2,
     "metadata": {},
     "output_type": "execute_result"
    }
   ],
   "source": [
    "import time\n",
    "cdate=str(time.strftime(\"%d%m%Y\"))\n",
    "cdate"
   ]
  },
  {
   "cell_type": "code",
   "execution_count": 3,
   "metadata": {
    "ExecuteTime": {
     "end_time": "2019-03-05T09:53:24.112440Z",
     "start_time": "2019-03-05T09:53:19.225261Z"
    }
   },
   "outputs": [
    {
     "name": "stderr",
     "output_type": "stream",
     "text": [
      "/usr/wisdom/python/lib/python2.7/site-packages/h5py/__init__.py:36: FutureWarning: Conversion of the second argument of issubdtype from `float` to `np.floating` is deprecated. In future, it will be treated as `np.float64 == np.dtype(float).type`.\n",
      "  from ._conv import register_converters as _register_converters\n"
     ]
    }
   ],
   "source": [
    "from DNN.dnn_utils import PCA as PCA_DNN\n"
   ]
  },
  {
   "cell_type": "markdown",
   "metadata": {},
   "source": [
    "# define functions:"
   ]
  },
  {
   "cell_type": "code",
   "execution_count": null,
   "metadata": {
    "ExecuteTime": {
     "end_time": "2019-01-20T15:15:01.808813Z",
     "start_time": "2019-01-20T15:15:01.794128Z"
    }
   },
   "outputs": [],
   "source": [
    "def newPCA(df,n_comp,isSparse=True):\n",
    "    from sklearn.decomposition import PCA\n",
    "    from sklearn.decomposition import TruncatedSVD\n",
    "    print 'df shape is %s_%s' %(df.shape[0],df.shape[1])\n",
    "    if isSparse:\n",
    "        pca= TruncatedSVD(n_comp, random_state=42)\n",
    "    else:\n",
    "        pca = PCA(n_comp)\n",
    "    pca.fit(df.T)\n",
    "    print 'PCA explained variance:'\n",
    "    expVar=(pca.explained_variance_)[:10]\n",
    "    print expVar\n",
    "    PCAdf=pd.DataFrame(pca.components_).T\n",
    "    PCAdf.index=df.index\n",
    "    \n",
    "    for column in PCAdf.columns:\n",
    "        PCAdf=PCAdf.rename(columns={column:'PC'+str(column+1)})\n",
    "    PCAdf['BDindex']=PCAdf.index.str.replace('BD','').astype(int)\n",
    "    \n",
    "    return PCAdf,expVar"
   ]
  },
  {
   "cell_type": "code",
   "execution_count": null,
   "metadata": {},
   "outputs": [],
   "source": []
  },
  {
   "cell_type": "code",
   "execution_count": null,
   "metadata": {
    "ExecuteTime": {
     "end_time": "2019-01-20T15:49:53.059886Z",
     "start_time": "2019-01-20T15:49:52.952776Z"
    }
   },
   "outputs": [],
   "source": [
    "def PCAwrapper(ax,df,n_comp,associatedVariableDF, associatedVariableName,isSparse=True,\n",
    "              scatter_kws={'s':100,'alpha':0.5},cmap=None,PCAdf=None):\n",
    "    if PCAdf is None:\n",
    "        print 'calculating PCA...'\n",
    "        PCAdf,expVar=newPCA(df,n_comp,isSparse=isSparse)\n",
    "    else:\n",
    "        print 'using existing PCAdf'\n",
    "        expVar=[]\n",
    "    vmax=associatedVariableDF[associatedVariableName].max()\n",
    "    vmin=associatedVariableDF[associatedVariableName].min()     \n",
    "    merged=pd.merge(PCAdf,pd.DataFrame(associatedVariableDF[associatedVariableName]),how='left',left_index=True,right_index=True)\n",
    "    \n",
    "    if associatedVariableDF[associatedVariableName].nunique()<2:\n",
    "        print 'not enough values to color'\n",
    "    elif associatedVariableDF[associatedVariableName].nunique()==2:\n",
    "        pearson_results=np.nan\n",
    "        varType='Binary'\n",
    "        print 'var is binary'\n",
    "        \n",
    "        merged['color']=np.where(merged[associatedVariableName]==merged[associatedVariableName].unique()[0],'white',\n",
    "                                np.where(merged[associatedVariableName]==merged[associatedVariableName].unique()[1],'black','grey'))\n",
    "        \n",
    "        x=merged.iloc[:,0] \n",
    "        y=merged.iloc[:,1] \n",
    "        \n",
    "        print 'plotting and calculating MW test...'\n",
    "#         ax.scatter(x,y,c=merged['color'],**scatter_kws)\n",
    "        ax.scatter(x,y,c=merged[associatedVariableName],cmap=cmap,**scatter_kws)  \n",
    "        \n",
    "        MW_results=[]\n",
    "        for col in merged.columns.tolist()[:2]:\n",
    "            names=[]; data={}\n",
    "            for name, group in merged.groupby(associatedVariableName):\n",
    "                data[name] =  list(group[col])\n",
    "                names.append(name)\n",
    "            s_mw,p_mw=stats.mannwhitneyu(data[names[0]], data[names[1]])\n",
    "            MW_results.append(tuple([col,s_mw,p_mw]))\n",
    "                \n",
    "    else:\n",
    "        MW_results=np.nan\n",
    "        varType='cont'                      \n",
    "        if cmap is None:\n",
    "            cmap=plt.get_cmap('Reds', (vmax-vmin)+1)\n",
    "        print 'vat is continuous'\n",
    "        x=merged.iloc[:,0] \n",
    "        y=merged.iloc[:,1] \n",
    "        print 'plotting and calculating pearson test...'\n",
    "        ax.scatter(x,y,c=merged[associatedVariableName],cmap=cmap,**scatter_kws)  \n",
    "        pearson_results=[]\n",
    "        for col in merged.columns.tolist()[:2]:\n",
    "            names=[]\n",
    "            r,p=MyPearsonr(merged[col],merged[associatedVariableName])\n",
    "            pearson_results.append(tuple([col,r,p]))\n",
    "    \n",
    "    return fig,ax, PCAdf,expVar,pearson_results,MW_results\n",
    "    "
   ]
  },
  {
   "cell_type": "code",
   "execution_count": null,
   "metadata": {
    "ExecuteTime": {
     "end_time": "2019-01-20T15:15:02.392962Z",
     "start_time": "2019-01-20T15:15:02.251064Z"
    }
   },
   "outputs": [],
   "source": [
    "## phen1 - categorial, such as isCardio, admission diagnosis\n",
    "## phen2 - categorial/continuous\n",
    "## phen3 - binary\n",
    "\n",
    "def colorPCA(ax,PCAdf,phen1DF,phen1name,phen2DF,phen2name,phen3DF,phen3name,cmap_names_list=None,marker_type_list=None,\n",
    "              scatter_kws={'s':100,'alpha':0.5}):\n",
    "    if cmap_names_list is None:\n",
    "        cmap_names_list=['Greys','Reds','Blues','Greens','Oranges']\n",
    "    if marker_type_list is None:\n",
    "        marker_type_list=[u'o',u'D',u'S',u'P',u'v',u'x']\n",
    "        \n",
    "    ###definitions:\n",
    "    pearson_results=[]\n",
    "    MW_results=[]\n",
    "    print 'merging info...'\n",
    "    merged=pd.merge(PCAdf,pd.DataFrame(phen1DF[phen1name]),how='left',left_index=True,right_index=True)\n",
    "    merged=pd.merge(merged,pd.DataFrame(phen2DF[phen2name]),how='left',left_index=True,right_index=True)\n",
    "    merged=pd.merge(merged,pd.DataFrame(phen3DF[phen3name]),how='left',left_index=True,right_index=True)\n",
    "       \n",
    "    marker_type_df=pd.DataFrame(index=phen3DF[phen3name].unique(),columns=['marker_type'],data=marker_type_list[:len(phen3DF[phen3name].unique())])\n",
    "    merged=pd.merge(merged,marker_type_df,how='left',left_on=phen3name,right_index=True)\n",
    "    \n",
    "    vmax=phen2DF[phen2name].max()\n",
    "    vmin=phen2DF[phen2name].min()\n",
    "    print ('vmin-vmax:', vmin, vmax)\n",
    "    \n",
    "    count=0\n",
    "    for name1,group1 in merged.groupby(phen1name):\n",
    "        cmap_name=cmap_names_list[count]\n",
    "        print ('cmap_name:',cmap_name)\n",
    "        cmap=plt.get_cmap(cmap_name, (vmax-vmin)+1)\n",
    "        \n",
    "        count3=0\n",
    "        for name3,group3 in merged.groupby(phen3name):\n",
    "            x=group3.iloc[:,0]\n",
    "            y=group3.iloc[:,1]\n",
    "            marker=marker_type_list[count3]\n",
    "            print ('marker=',marker)\n",
    "            ax=ax.scatter(x,y,c=group3[phen2name],cmap=cmap,marker=marker,**scatter_kws)  \n",
    "            count3=count3+1\n",
    "            \n",
    "            plt.show()\n",
    "        count=count+1\n",
    "    \n",
    "#     print 'merged head:'\n",
    "#     print merged.head()\n",
    "#     print ('merged.shape: ', merged.shape)\n",
    "    \n",
    "#     #define min,max values for cmap hues based on phen2\n",
    "    \n",
    "    \n",
    "#     # define number of different cmaps based on number of categories in phen1\n",
    "#     groups=phen1DF[phen1name].unique().tolist()\n",
    "    \n",
    "    \n",
    "#     ### loop over categories of phen1:\n",
    "#     print 'plotting scatter plots for all data groups:'\n",
    "#     for n,group in enumerate(groups):\n",
    "#         print group\n",
    "#         cmap_name=cmap_names_list[n]\n",
    "#         print ('cmap_name:',cmap_name)\n",
    "#         cmap=plt.get_cmap(cmap_name, (vmax-vmin)+1)\n",
    "#         print cmap\n",
    "        \n",
    "#         x=merged[merged[phen1name]==group].iloc[:,0] \n",
    "#         y=merged[merged[phen1name]==group].iloc[:,1] \n",
    "#         ax.scatter(x,y,c=merged[phen2name],cmap=cmap,**scatter_kws) \n",
    "#         ax.scatter(x,y,c=merged[associatedVariableName],cmap=cmap,**scatter_kws)  \n",
    "# #         for _s, c,l, _x, _y in zip(merged['marker_type'],merged[phen2name],merged[phen3name],x, y):\n",
    "# #             plt.scatter(_x, _y, marker=_s, c=c,cmap=cmap,label=l,**scatter_kws)\n",
    "#         ax.legend()\n",
    "        \n",
    "# #         if merged[phen2name].nunique()==2:\n",
    "# #             print 'var2 is binary'\n",
    "# #             for col in merged.columns.tolist()[:2]:\n",
    "# #                 names=[]; data={}\n",
    "# #                 for name, group in merged.groupby(phen2name):\n",
    "# #                     data[name] =  list(group[col])\n",
    "# #                     names.append(name)\n",
    "# #                 s_mw,p_mw=stats.mannwhitneyu(data[names[0]], data[names[1]])\n",
    "# #                 MW_results.append(tuple([col,s_mw,p_mw]))\n",
    "                \n",
    "                \n",
    "# #         else:\n",
    "# #             print 'var2 is cont'\n",
    "# #             for col in merged.columns.tolist()[:2]:\n",
    "# #                 names=[]\n",
    "# #                 r,p=MyPearsonr(merged[col],merged[associatedVariableName])\n",
    "# #                 pearson_results.append(tuple([col,r,p]))\n",
    "                \n",
    "    return fig,ax,MW_results,pearson_results\n",
    "                \n",
    "        \n",
    "            \n",
    "        \n",
    "        \n",
    "        \n",
    "    \n",
    "    \n",
    "    "
   ]
  },
  {
   "cell_type": "markdown",
   "metadata": {},
   "source": [
    "# calculate PCA"
   ]
  },
  {
   "cell_type": "markdown",
   "metadata": {},
   "source": [
    "## get cluster df"
   ]
  },
  {
   "cell_type": "code",
   "execution_count": null,
   "metadata": {
    "ExecuteTime": {
     "end_time": "2019-01-20T15:15:04.273755Z",
     "start_time": "2019-01-20T15:15:02.589683Z"
    }
   },
   "outputs": [],
   "source": [
    "sampleByClusterDF=pd.read_pickle('/net/mraid08/export/jafar/Microbiome/Analyses/ShaniBAF/\\\n",
    "sharingAnalysis/seqClusters_allProd_maxdist1/sampleByClusterDF_cohortfiltering005-09perc_dropped.dat')"
   ]
  },
  {
   "cell_type": "code",
   "execution_count": null,
   "metadata": {
    "ExecuteTime": {
     "end_time": "2019-01-20T09:15:07.090392Z",
     "start_time": "2019-01-20T09:15:07.084532Z"
    }
   },
   "outputs": [],
   "source": [
    "sampleByClusterDF.shape"
   ]
  },
  {
   "cell_type": "code",
   "execution_count": null,
   "metadata": {
    "ExecuteTime": {
     "end_time": "2019-01-20T09:21:28.904866Z",
     "start_time": "2019-01-20T09:21:19.697725Z"
    }
   },
   "outputs": [],
   "source": [
    "sampleByClusterDF.max().max()"
   ]
  },
  {
   "cell_type": "code",
   "execution_count": null,
   "metadata": {
    "ExecuteTime": {
     "end_time": "2019-01-20T15:19:03.900832Z",
     "start_time": "2019-01-20T15:19:02.150281Z"
    }
   },
   "outputs": [],
   "source": [
    "sampleByClusterDF=sampleByClusterDF.fillna(0)"
   ]
  },
  {
   "cell_type": "markdown",
   "metadata": {},
   "source": [
    "## binarize sampleByClusterDF and save"
   ]
  },
  {
   "cell_type": "code",
   "execution_count": null,
   "metadata": {
    "ExecuteTime": {
     "end_time": "2019-01-20T15:15:55.679681Z",
     "start_time": "2019-01-20T15:15:54.075887Z"
    }
   },
   "outputs": [],
   "source": [
    "sampleByClusterDF_binary=(sampleByClusterDF>0).astype(int)"
   ]
  },
  {
   "cell_type": "code",
   "execution_count": null,
   "metadata": {
    "ExecuteTime": {
     "end_time": "2019-01-20T15:16:51.268529Z",
     "start_time": "2019-01-20T15:16:51.209666Z"
    }
   },
   "outputs": [],
   "source": [
    "sampleByClusterDF_binary.head()"
   ]
  },
  {
   "cell_type": "code",
   "execution_count": null,
   "metadata": {
    "ExecuteTime": {
     "end_time": "2019-01-20T15:17:12.814839Z",
     "start_time": "2019-01-20T15:17:06.432170Z"
    }
   },
   "outputs": [],
   "source": [
    "sampleByClusterDF_binary.max().max()"
   ]
  },
  {
   "cell_type": "code",
   "execution_count": null,
   "metadata": {
    "ExecuteTime": {
     "end_time": "2019-01-20T15:17:30.123826Z",
     "start_time": "2019-01-20T15:17:28.010291Z"
    }
   },
   "outputs": [],
   "source": [
    "sampleByClusterDF_binary.to_pickle('/net/mraid08/export/jafar/Microbiome/Analyses/ShaniBAF/\\\n",
    "sharingAnalysis/seqClusters_allProd_maxdist1/sampleByClusterDF_005-09_dropped_binary.dat')"
   ]
  },
  {
   "cell_type": "markdown",
   "metadata": {},
   "source": [
    "## get phenotype dfs:"
   ]
  },
  {
   "cell_type": "code",
   "execution_count": null,
   "metadata": {
    "ExecuteTime": {
     "end_time": "2019-01-20T15:17:41.175816Z",
     "start_time": "2019-01-20T15:17:40.486162Z"
    }
   },
   "outputs": [],
   "source": [
    "# GET PHENOTYPES:\n",
    "phenDF=pd.read_excel('%s/TCR_real_data/PNP530Cardio126Combined/Phenotypes/PNP530Cardio126_AllInfo_withDummies.xlsx' %MyPath).set_index('BD')\n",
    "phenDF.head()                                                                                                                                "
   ]
  },
  {
   "cell_type": "code",
   "execution_count": null,
   "metadata": {
    "ExecuteTime": {
     "end_time": "2019-01-20T15:17:57.261123Z",
     "start_time": "2019-01-20T15:17:57.246052Z"
    }
   },
   "outputs": [],
   "source": [
    "# get isCardio:\n",
    "isCardio=pd.read_pickle('%s/TCR_real_data/CardioSamples/phenotypicData/isCardio.dat' %MyPath)\n",
    "isCardio.head()"
   ]
  },
  {
   "cell_type": "markdown",
   "metadata": {},
   "source": [
    "## plot PCA using continuous df"
   ]
  },
  {
   "cell_type": "code",
   "execution_count": null,
   "metadata": {
    "ExecuteTime": {
     "end_time": "2019-01-20T15:21:11.870535Z",
     "start_time": "2019-01-20T15:20:54.614010Z"
    }
   },
   "outputs": [],
   "source": [
    "df=sampleByClusterDF\n",
    "n_comp=10\n",
    "\n",
    "PCAdf_all,expVar=newPCA(df,n_comp,isSparse=True)"
   ]
  },
  {
   "cell_type": "markdown",
   "metadata": {},
   "source": [
    "### only healthy:"
   ]
  },
  {
   "cell_type": "code",
   "execution_count": null,
   "metadata": {
    "ExecuteTime": {
     "end_time": "2019-01-20T15:30:09.394808Z",
     "start_time": "2019-01-20T15:30:08.022330Z"
    }
   },
   "outputs": [],
   "source": [
    "associatedVariableName='Age'\n",
    "vmax=phenDF[associatedVariableName].max()\n",
    "vmin=phenDF[associatedVariableName].min()\n",
    "\n",
    "\n",
    "fig,ax=plt.subplots()\n",
    "df=sampleByClusterDF.loc[PNP530,:]\n",
    "n_comp=10\n",
    "PCAdf=PCAdf_all.loc[PNP530,:]\n",
    "cmap=plt.get_cmap('Greys', (vmax-vmin)+1)\n",
    "\n",
    "\n",
    "fig,ax, PCAdf,expVar,pearson_results,MW_results=PCAwrapper(ax,df,n_comp,associatedVariableDF, associatedVariableName,isSparse=True,\n",
    "              scatter_kws={'s':100,'alpha':1},cmap=cmap,PCAdf=PCAdf)\n",
    "\n",
    "print ('controls only:')\n",
    "print ('pearson results:',pearson_results)\n",
    "print ('MW_results:',MW_results)\n",
    "\n",
    "ax.set_xlim(0,0.12)\n",
    "ax.set_ylim(-0.2,0.2)\n",
    "\n",
    "plt.show()"
   ]
  },
  {
   "cell_type": "markdown",
   "metadata": {},
   "source": [
    "### only patients:"
   ]
  },
  {
   "cell_type": "code",
   "execution_count": null,
   "metadata": {
    "ExecuteTime": {
     "end_time": "2019-01-20T15:31:22.642689Z",
     "start_time": "2019-01-20T15:31:20.740227Z"
    }
   },
   "outputs": [],
   "source": [
    "associatedVariableName='Age'\n",
    "vmax=phenDF[associatedVariableName].max()\n",
    "vmin=phenDF[associatedVariableName].min()\n",
    "\n",
    "\n",
    "fig,ax=plt.subplots()\n",
    "df=sampleByClusterDF.loc[Cardio126,:]\n",
    "n_comp=10\n",
    "PCAdf=PCAdf_all.loc[Cardio126,:]\n",
    "cmap=plt.get_cmap('Reds', (vmax-vmin)+1)\n",
    "\n",
    "\n",
    "fig,ax, PCAdf,expVar,pearson_results,MW_results=PCAwrapper(ax,df,n_comp,associatedVariableDF, associatedVariableName,isSparse=True,\n",
    "              scatter_kws={'s':100,'alpha':1},cmap=cmap,PCAdf=PCAdf)\n",
    "\n",
    "print ('controls only:')\n",
    "print ('pearson results:',pearson_results)\n",
    "print ('MW_results:',MW_results)\n",
    "\n",
    "ax.set_xlim(0,0.12)\n",
    "ax.set_ylim(-0.2,0.2)\n",
    "\n",
    "plt.show()"
   ]
  },
  {
   "cell_type": "markdown",
   "metadata": {},
   "source": [
    "### combined:"
   ]
  },
  {
   "cell_type": "code",
   "execution_count": null,
   "metadata": {
    "ExecuteTime": {
     "end_time": "2019-01-20T15:32:31.022680Z",
     "start_time": "2019-01-20T15:32:28.057808Z"
    }
   },
   "outputs": [],
   "source": [
    "associatedVariableName='Age'\n",
    "vmax=phenDF[associatedVariableName].max()\n",
    "vmin=phenDF[associatedVariableName].min()\n",
    "\n",
    "\n",
    "fig,ax=plt.subplots()\n",
    "df=sampleByClusterDF.loc[PNP530,:]\n",
    "n_comp=10\n",
    "PCAdf=PCAdf_all.loc[PNP530,:]\n",
    "cmap=plt.get_cmap('Greys', (vmax-vmin)+1)\n",
    "\n",
    "\n",
    "fig,ax, PCAdf,expVar,pearson_results,MW_results=PCAwrapper(ax,df,n_comp,associatedVariableDF, associatedVariableName,isSparse=True,\n",
    "              scatter_kws={'s':100,'alpha':1},cmap=cmap,PCAdf=PCAdf)\n",
    "\n",
    "print ('controls only:')\n",
    "print ('pearson results:',pearson_results)\n",
    "print ('MW_results:',MW_results)\n",
    "\n",
    "df=sampleByClusterDF.loc[Cardio126,:]\n",
    "n_comp=10\n",
    "PCAdf=PCAdf_all.loc[Cardio126,:]\n",
    "cmap=plt.get_cmap('Reds', (vmax-vmin)+1)\n",
    "\n",
    "\n",
    "fig,ax, PCAdf,expVar,pearson_results,MW_results=PCAwrapper(ax,df,n_comp,associatedVariableDF, associatedVariableName,isSparse=True,\n",
    "              scatter_kws={'s':100,'alpha':1},cmap=cmap,PCAdf=PCAdf)\n",
    "\n",
    "print ('patients only:')\n",
    "print ('pearson results:',pearson_results)\n",
    "print ('MW_results:',MW_results)\n",
    "\n",
    "\n",
    "\n",
    "ax.set_xlim(0,0.12)\n",
    "ax.set_ylim(-0.2,0.2)\n",
    "\n",
    "plt.show()"
   ]
  },
  {
   "cell_type": "markdown",
   "metadata": {},
   "source": [
    "## plot PCA using binary df"
   ]
  },
  {
   "cell_type": "code",
   "execution_count": null,
   "metadata": {
    "ExecuteTime": {
     "end_time": "2019-01-20T15:33:54.933737Z",
     "start_time": "2019-01-20T15:33:35.891688Z"
    }
   },
   "outputs": [],
   "source": [
    "df=sampleByClusterDF_binary\n",
    "n_comp=10\n",
    "\n",
    "PCAdf_all_binary,expVar=newPCA(df,n_comp,isSparse=True)"
   ]
  },
  {
   "cell_type": "markdown",
   "metadata": {},
   "source": [
    "### only healthy:"
   ]
  },
  {
   "cell_type": "code",
   "execution_count": null,
   "metadata": {
    "ExecuteTime": {
     "end_time": "2019-01-20T15:34:24.146525Z",
     "start_time": "2019-01-20T15:34:23.110468Z"
    }
   },
   "outputs": [],
   "source": [
    "associatedVariableName='Age'\n",
    "vmax=phenDF[associatedVariableName].max()\n",
    "vmin=phenDF[associatedVariableName].min()\n",
    "\n",
    "\n",
    "fig,ax=plt.subplots()\n",
    "df=sampleByClusterDF.loc[PNP530,:]\n",
    "n_comp=10\n",
    "PCAdf=PCAdf_all_binary.loc[PNP530,:]\n",
    "cmap=plt.get_cmap('Greys', (vmax-vmin)+1)\n",
    "\n",
    "\n",
    "fig,ax, PCAdf,expVar,pearson_results,MW_results=PCAwrapper(ax,df,n_comp,associatedVariableDF, associatedVariableName,isSparse=True,\n",
    "              scatter_kws={'s':100,'alpha':1},cmap=cmap,PCAdf=PCAdf)\n",
    "\n",
    "print ('controls only:')\n",
    "print ('pearson results:',pearson_results)\n",
    "print ('MW_results:',MW_results)\n",
    "\n",
    "ax.set_xlim(0,0.12)\n",
    "ax.set_ylim(-0.2,0.2)\n",
    "\n",
    "plt.show()"
   ]
  },
  {
   "cell_type": "markdown",
   "metadata": {},
   "source": [
    "### only patients:"
   ]
  },
  {
   "cell_type": "code",
   "execution_count": null,
   "metadata": {
    "ExecuteTime": {
     "end_time": "2019-01-20T15:35:31.347844Z",
     "start_time": "2019-01-20T15:35:29.115656Z"
    }
   },
   "outputs": [],
   "source": [
    "associatedVariableName='Age'\n",
    "vmax=phenDF[associatedVariableName].max()\n",
    "vmin=phenDF[associatedVariableName].min()\n",
    "\n",
    "\n",
    "fig,ax=plt.subplots()\n",
    "df=sampleByClusterDF.loc[Cardio126,:]\n",
    "n_comp=10\n",
    "PCAdf=PCAdf_all_binary.loc[Cardio126,:]\n",
    "cmap=plt.get_cmap('Reds', (vmax-vmin)+1)\n",
    "\n",
    "\n",
    "fig,ax, PCAdf,expVar,pearson_results,MW_results=PCAwrapper(ax,df,n_comp,associatedVariableDF, associatedVariableName,isSparse=True,\n",
    "              scatter_kws={'s':100,'alpha':1},cmap=cmap,PCAdf=PCAdf)\n",
    "\n",
    "print ('controls only:')\n",
    "print ('pearson results:',pearson_results)\n",
    "print ('MW_results:',MW_results)\n",
    "\n",
    "ax.set_xlim(0,0.12)\n",
    "ax.set_ylim(-0.2,0.2)\n",
    "\n",
    "plt.show()"
   ]
  },
  {
   "cell_type": "markdown",
   "metadata": {},
   "source": [
    "### combined:"
   ]
  },
  {
   "cell_type": "code",
   "execution_count": null,
   "metadata": {
    "ExecuteTime": {
     "end_time": "2019-01-20T15:36:39.300858Z",
     "start_time": "2019-01-20T15:36:36.378999Z"
    }
   },
   "outputs": [],
   "source": [
    "associatedVariableName='Age'\n",
    "vmax=phenDF[associatedVariableName].max()\n",
    "vmin=phenDF[associatedVariableName].min()\n",
    "\n",
    "\n",
    "fig,ax=plt.subplots()\n",
    "df=sampleByClusterDF.loc[PNP530,:]\n",
    "n_comp=10\n",
    "PCAdf=PCAdf_all_binary.loc[PNP530,:]\n",
    "cmap=plt.get_cmap('Greys', (vmax-vmin)+1)\n",
    "\n",
    "\n",
    "fig,ax, PCAdf,expVar,pearson_results,MW_results=PCAwrapper(ax,df,n_comp,associatedVariableDF, associatedVariableName,isSparse=True,\n",
    "              scatter_kws={'s':100,'alpha':1},cmap=cmap,PCAdf=PCAdf)\n",
    "\n",
    "print ('controls only:')\n",
    "print ('pearson results:',pearson_results)\n",
    "print ('MW_results:',MW_results)\n",
    "\n",
    "df=sampleByClusterDF.loc[Cardio126,:]\n",
    "n_comp=10\n",
    "PCAdf=PCAdf_all_binary.loc[Cardio126,:]\n",
    "cmap=plt.get_cmap('Reds', (vmax-vmin)+1)\n",
    "\n",
    "\n",
    "fig,ax, PCAdf,expVar,pearson_results,MW_results=PCAwrapper(ax,df,n_comp,associatedVariableDF, associatedVariableName,isSparse=True,\n",
    "              scatter_kws={'s':100,'alpha':1},cmap=cmap,PCAdf=PCAdf)\n",
    "\n",
    "print ('patients only:')\n",
    "print ('pearson results:',pearson_results)\n",
    "print ('MW_results:',MW_results)\n",
    "\n",
    "\n",
    "\n",
    "ax.set_xlim(0,0.12)\n",
    "ax.set_ylim(-0.2,0.2)\n",
    "\n",
    "plt.show()"
   ]
  },
  {
   "cell_type": "markdown",
   "metadata": {},
   "source": [
    "## everything together:"
   ]
  },
  {
   "cell_type": "code",
   "execution_count": null,
   "metadata": {
    "ExecuteTime": {
     "end_time": "2019-01-20T15:55:13.061283Z",
     "start_time": "2019-01-20T15:55:08.835134Z"
    }
   },
   "outputs": [],
   "source": [
    "fig,axes=plt.subplots(nrows=3,ncols=2, figsize=(12,12),sharey=True,sharex=True)\n",
    "df=sampleByClusterDF.loc[PNP530,:]\n",
    "n_comp=10\n",
    "\n",
    "for n,phen in enumerate(['Age','Gender_Male']):\n",
    "    print phen\n",
    "    associatedVariableName=phen\n",
    "    vmax=phenDF[associatedVariableName].max()\n",
    "    vmin=phenDF[associatedVariableName].min()\n",
    "\n",
    "    ax=axes[0,n]\n",
    "    PCAdf=PCAdf_all.loc[PNP530,:]\n",
    "    cmap=plt.get_cmap('Greys', (vmax-vmin)+1)\n",
    "    fig,ax, PCAdf,expVar,pearson_results,MW_results=PCAwrapper(ax,df,n_comp,associatedVariableDF, associatedVariableName,isSparse=True,\n",
    "                  scatter_kws={'s':100,'alpha':1},cmap=cmap,PCAdf=PCAdf)\n",
    "    ax.set_xlim(0,0.12)\n",
    "    ax.set_ylim(-0.2,0.2)\n",
    "    ax.set_title(phen, fontsize='xx-large')\n",
    "    if n==0:\n",
    "        ax.set_ylabel ('Controls only',fontsize='xx-large' )\n",
    "    \n",
    "    ax=axes[1,n]\n",
    "    PCAdf=PCAdf_all.loc[Cardio126,:]\n",
    "    cmap=plt.get_cmap('Reds', (vmax-vmin)+1)\n",
    "    fig,ax, PCAdf,expVar,pearson_results,MW_results=PCAwrapper(ax,df,n_comp,associatedVariableDF, associatedVariableName,isSparse=True,\n",
    "              scatter_kws={'s':100,'alpha':1},cmap=cmap,PCAdf=PCAdf)\n",
    "    ax.set_xlim(0,0.12)\n",
    "    ax.set_ylim(-0.2,0.2)\n",
    "    if n==0:\n",
    "        ax.set_ylabel ('Patients only',fontsize='xx-large' )\n",
    "    \n",
    "    ax=axes[2,n]\n",
    "    \n",
    "    PCAdf=PCAdf_all.loc[PNP530,:]\n",
    "    cmap=plt.get_cmap('Greys', (vmax-vmin)+1)\n",
    "    fig,ax, PCAdf,expVar,pearson_results,MW_results=PCAwrapper(ax,df,n_comp,associatedVariableDF, associatedVariableName,isSparse=True,\n",
    "                  scatter_kws={'s':100,'alpha':1},cmap=cmap,PCAdf=PCAdf)\n",
    "    print ('controls only:')\n",
    "    print ('pearson results:',pearson_results)\n",
    "    print ('MW_results:',MW_results)\n",
    "\n",
    "    df=sampleByClusterDF.loc[Cardio126,:]\n",
    "    n_comp=10\n",
    "    PCAdf=PCAdf_all.loc[Cardio126,:]\n",
    "    cmap=plt.get_cmap('Reds', (vmax-vmin)+1)\n",
    "    fig,ax, PCAdf,expVar,pearson_results,MW_results=PCAwrapper(ax,df,n_comp,associatedVariableDF, associatedVariableName,isSparse=True,\n",
    "                  scatter_kws={'s':100,'alpha':1},cmap=cmap,PCAdf=PCAdf)\n",
    "    print ('patients only:')\n",
    "    print ('pearson results:',pearson_results)\n",
    "    print ('MW_results:',MW_results)\n",
    "    ax.set_xlim(0,0.12)\n",
    "    ax.set_ylim(-0.2,0.2)\n",
    "    if n==0:\n",
    "        ax.set_ylabel ('Controls and\\npatients combined',fontsize='xx-large' )\n",
    "    \n",
    "    \n",
    "    \n",
    "plt.show()\n",
    "    \n",
    "    "
   ]
  },
  {
   "cell_type": "markdown",
   "metadata": {},
   "source": [
    "## everything together for balanced males:"
   ]
  },
  {
   "cell_type": "code",
   "execution_count": null,
   "metadata": {
    "ExecuteTime": {
     "end_time": "2019-01-20T16:32:23.951970Z",
     "start_time": "2019-01-20T16:32:23.943696Z"
    }
   },
   "outputs": [],
   "source": [
    "# get samples lists:\n",
    "with open('/net/mraid08/export/genie/Lab/Personal/ShaniBAF/Sample files/BD lists/PNP530_balancedAge_males') as fp:\n",
    "    PNP530_balancedAge_males=pickle.load(fp)\n",
    "with open('/net/mraid08/export/genie/Lab/Personal/ShaniBAF/Sample files/BD lists/Cardio126_balancedAge_males') as fp:\n",
    "    Cardio126_balancedAge_males=pickle.load(fp)"
   ]
  },
  {
   "cell_type": "code",
   "execution_count": null,
   "metadata": {
    "ExecuteTime": {
     "end_time": "2019-01-20T16:33:50.495733Z",
     "start_time": "2019-01-20T16:33:42.850724Z"
    }
   },
   "outputs": [],
   "source": [
    "sampleByClusterDF_balanced=sampleByClusterDF.loc[PNP530_balancedAge_males+Cardio126_balancedAge_males,:]\n",
    "\n",
    "df=sampleByClusterDF_balanced\n",
    "n_comp=10\n",
    "\n",
    "PCAdf_all_balanced,expVar=newPCA(df,n_comp,isSparse=True)"
   ]
  },
  {
   "cell_type": "code",
   "execution_count": null,
   "metadata": {
    "ExecuteTime": {
     "end_time": "2019-01-20T16:39:06.507472Z",
     "start_time": "2019-01-20T16:39:06.503733Z"
    }
   },
   "outputs": [],
   "source": [
    "associatedVariableDF=phenDF"
   ]
  },
  {
   "cell_type": "code",
   "execution_count": null,
   "metadata": {
    "ExecuteTime": {
     "end_time": "2019-01-20T16:39:50.347400Z",
     "start_time": "2019-01-20T16:39:50.291393Z"
    }
   },
   "outputs": [],
   "source": [
    "associatedVariableDF.head()"
   ]
  },
  {
   "cell_type": "code",
   "execution_count": null,
   "metadata": {
    "ExecuteTime": {
     "end_time": "2019-01-27T16:54:48.800165Z",
     "start_time": "2019-01-27T16:54:48.444597Z"
    }
   },
   "outputs": [],
   "source": [
    "fig,axes=plt.subplots(nrows=3,ncols=1, figsize=(4,10),sharey=True,sharex=True)\n",
    "fig.suptitle('Balanced age_gender samples',fontsize='xx-large')\n",
    "df=sampleByClusterDF_balanced\n",
    "n_comp=10\n",
    "\n",
    "associatedVariableDF=phenDF\n",
    "associatedVariableName='Age'\n",
    "\n",
    "\n",
    "print phen\n",
    "associatedVariableName=phen\n",
    "vmax=phenDF[associatedVariableName].max()\n",
    "vmin=phenDF[associatedVariableName].min()\n",
    "\n",
    "ax=axes[0]\n",
    "PCAdf=PCAdf_all_balanced.loc[PNP530_balancedAge_males,:]\n",
    "cmap=plt.get_cmap('Greys', (vmax-vmin)+1)\n",
    "fig,ax, PCAdf,expVar,pearson_results,MW_results=PCAwrapper(ax,df,n_comp,associatedVariableDF, associatedVariableName,isSparse=True,\n",
    "              scatter_kws={'s':100,'alpha':1},cmap=cmap,PCAdf=PCAdf)\n",
    "ax.set_xlim(0,0.2)\n",
    "ax.set_ylim(-0.12,0.12)\n",
    "#     ax.set_title(phen, fontsize='xx-large')\n",
    "if n==0:\n",
    "    ax.set_ylabel ('Controls only',fontsize='xx-large' )\n",
    "\n",
    "ax=axes[1]\n",
    "PCAdf=PCAdf_all_balanced.loc[Cardio126_balancedAge_males,:]\n",
    "cmap=plt.get_cmap('Reds', (vmax-vmin)+1)\n",
    "fig,ax, PCAdf,expVar,pearson_results,MW_results=PCAwrapper(ax,df,n_comp,associatedVariableDF, associatedVariableName,isSparse=True,\n",
    "          scatter_kws={'s':100,'alpha':0.5},cmap=cmap,PCAdf=PCAdf)\n",
    "ax.set_xlim(0,0.2)\n",
    "ax.set_ylim(-0.12,0.12)\n",
    "if n==0:\n",
    "    ax.set_ylabel ('Patients only',fontsize='xx-large' )\n",
    "\n",
    "ax=axes[2]\n",
    "\n",
    "PCAdf=PCAdf_all_balanced\n",
    "cmap=plt.get_cmap('Greys', (vmax-vmin)+1)\n",
    "fig,ax, PCAdf,expVar,pearson_results,MW_results=PCAwrapper(ax,df,n_comp,associatedVariableDF, associatedVariableName,isSparse=True,\n",
    "              scatter_kws={'s':100,'alpha':1},cmap=cmap,PCAdf=PCAdf)\n",
    "print ('controls only:')\n",
    "print ('pearson results:',pearson_results)\n",
    "print ('MW_results:',MW_results)\n",
    "\n",
    "df=sampleByClusterDF.loc[Cardio126_balancedAge_males,:]\n",
    "n_comp=10\n",
    "PCAdf=PCAdf_all_balanced.loc[Cardio126_balancedAge_males,:]\n",
    "cmap=plt.get_cmap('Reds', (vmax-vmin)+1)\n",
    "fig,ax, PCAdf,expVar,pearson_results,MW_results=PCAwrapper(ax,df,n_comp,associatedVariableDF, associatedVariableName,isSparse=True,\n",
    "              scatter_kws={'s':100,'alpha':0.5},cmap=cmap,PCAdf=PCAdf)\n",
    "print ('patients only:')\n",
    "print ('pearson results:',pearson_results)\n",
    "print ('MW_results:',MW_results)\n",
    "ax.set_xlim(0,0.2)\n",
    "ax.set_ylim(-0.12,0.12)\n",
    "if n==0:\n",
    "    ax.set_ylabel ('Controls and\\npatients combined',fontsize='xx-large' )\n",
    "    \n",
    "    \n",
    "    \n",
    "plt.show()\n",
    "    \n",
    "    "
   ]
  },
  {
   "cell_type": "code",
   "execution_count": null,
   "metadata": {
    "ExecuteTime": {
     "end_time": "2019-01-20T16:51:52.323222Z",
     "start_time": "2019-01-20T16:51:52.305783Z"
    }
   },
   "outputs": [],
   "source": [
    "associatedVariableDF.head()"
   ]
  },
  {
   "cell_type": "code",
   "execution_count": null,
   "metadata": {
    "ExecuteTime": {
     "end_time": "2019-01-20T16:56:04.468749Z",
     "start_time": "2019-01-20T16:56:04.235176Z"
    }
   },
   "outputs": [],
   "source": [
    "fig,ax=plt.subplots()\n",
    "fig.suptitle('')\n",
    "df=sampleByClusterDF_balanced\n",
    "n_comp=10\n",
    "\n",
    "associatedVariableDF=isCardio\n",
    "associatedVariableName='isCardio'\n",
    "\n",
    "vmax=associatedVariableDF[associatedVariableName].max()\n",
    "vmin=associatedVariableDF[associatedVariableName].min()\n",
    "\n",
    "\n",
    "PCAdf=PCAdf_all_balanced\n",
    "cmap=plt.get_cmap('Blues', (vmax-vmin)+1)\n",
    "fig,ax, PCAdf,expVar,pearson_results,MW_results=PCAwrapper(ax,df,n_comp,associatedVariableDF, associatedVariableName,isSparse=True,\n",
    "              scatter_kws={'s':100,'alpha':0.5},cmap=cmap,PCAdf=PCAdf)\n",
    "ax.set_xlim(0,0.2)\n",
    "ax.set_ylim(-0.12,0.12)\n",
    "print ('pearson results:',pearson_results)\n",
    "print ('MW_results:',MW_results)\n",
    "\n",
    "plt.show()\n",
    "\n",
    "    "
   ]
  },
  {
   "cell_type": "markdown",
   "metadata": {},
   "source": [
    "## everything together for non Prod sequences!"
   ]
  },
  {
   "cell_type": "code",
   "execution_count": null,
   "metadata": {
    "ExecuteTime": {
     "end_time": "2019-01-20T17:35:20.762691Z",
     "start_time": "2019-01-20T17:35:20.692617Z"
    }
   },
   "outputs": [],
   "source": [
    "#get df:\n",
    "sampleByClusterDF_nonProd=pd.read_pickle('/net/mraid08/export/jafar/Microbiome/Analyses/ShaniBAF/\\\n",
    "sharingAnalysis/seqClusters_allNonProd_maxdist1/sampleByClusterDF_cohortfiltering001-09perc_dropped.dat')\n",
    "sampleByClusterDF_nonProd.head()"
   ]
  },
  {
   "cell_type": "code",
   "execution_count": null,
   "metadata": {
    "ExecuteTime": {
     "end_time": "2019-01-20T17:35:24.885444Z",
     "start_time": "2019-01-20T17:35:24.861556Z"
    }
   },
   "outputs": [],
   "source": [
    "sampleByClusterDF_nonProd=sampleByClusterDF_nonProd.fillna(0)"
   ]
  },
  {
   "cell_type": "code",
   "execution_count": null,
   "metadata": {
    "ExecuteTime": {
     "end_time": "2019-01-20T17:35:29.543342Z",
     "start_time": "2019-01-20T17:35:29.444602Z"
    }
   },
   "outputs": [],
   "source": [
    "df=sampleByClusterDF_nonProd\n",
    "n_comp=10\n",
    "\n",
    "PCAdf_all_nonProd,expVar=newPCA(df,n_comp,isSparse=True)"
   ]
  },
  {
   "cell_type": "code",
   "execution_count": null,
   "metadata": {
    "ExecuteTime": {
     "end_time": "2019-01-20T17:35:36.426775Z",
     "start_time": "2019-01-20T17:35:35.070305Z"
    }
   },
   "outputs": [],
   "source": [
    "fig,axes=plt.subplots(nrows=3,ncols=2, figsize=(12,12),sharey=True,sharex=True)\n",
    "df=sampleByClusterDF_nonProd\n",
    "n_comp=10\n",
    "associatedVariableDF=phenDF\n",
    "\n",
    "\n",
    "for n,phen in enumerate(['Age','Gender_Male']):\n",
    "    print phen\n",
    "    associatedVariableName=phen\n",
    "    vmax=associatedVariableDF[associatedVariableName].max()\n",
    "    vmin=associatedVariableDF[associatedVariableName].min()\n",
    "\n",
    "    ax=axes[0,n]\n",
    "    PCAdf=PCAdf_all_nonProd.loc[PNP530,:]\n",
    "    cmap=plt.get_cmap('Greys', (vmax-vmin)+1)\n",
    "    fig,ax, PCAdf,expVar,pearson_results,MW_results=PCAwrapper(ax,df,n_comp,associatedVariableDF, associatedVariableName,isSparse=True,\n",
    "                  scatter_kws={'s':100,'alpha':1},cmap=cmap,PCAdf=PCAdf)\n",
    "#     ax.set_xlim(-0.05,0.20)\n",
    "#     ax.set_ylim(-0.2,0.2)\n",
    "    ax.set_title(phen, fontsize='xx-large')\n",
    "    if n==0:\n",
    "        ax.set_ylabel ('Controls only',fontsize='xx-large' )\n",
    "    \n",
    "    ax=axes[1,n]\n",
    "    PCAdf=PCAdf_all_nonProd.loc[Cardio126,:]\n",
    "    cmap=plt.get_cmap('Reds', (vmax-vmin)+1)\n",
    "    fig,ax, PCAdf,expVar,pearson_results,MW_results=PCAwrapper(ax,df,n_comp,associatedVariableDF, associatedVariableName,isSparse=True,\n",
    "              scatter_kws={'s':100,'alpha':1},cmap=cmap,PCAdf=PCAdf)\n",
    "#     ax.set_xlim(-0.05,0.20)\n",
    "#     ax.set_ylim(-0.2,0.2)\n",
    "    if n==0:\n",
    "        ax.set_ylabel ('Patients only',fontsize='xx-large' )\n",
    "    \n",
    "    ax=axes[2,n]\n",
    "    \n",
    "    PCAdf=PCAdf_all_nonProd.loc[PNP530,:]\n",
    "    cmap=plt.get_cmap('Greys', (vmax-vmin)+1)\n",
    "    fig,ax, PCAdf,expVar,pearson_results,MW_results=PCAwrapper(ax,df,n_comp,associatedVariableDF, associatedVariableName,isSparse=True,\n",
    "                  scatter_kws={'s':100,'alpha':1},cmap=cmap,PCAdf=PCAdf)\n",
    "    print ('controls only:')\n",
    "    print ('pearson results:',pearson_results)\n",
    "    print ('MW_results:',MW_results)\n",
    "\n",
    "    df=sampleByClusterDF_nonProd.loc[Cardio126,:]\n",
    "    n_comp=10\n",
    "    PCAdf=PCAdf_all_nonProd.loc[Cardio126,:]\n",
    "    cmap=plt.get_cmap('Reds', (vmax-vmin)+1)\n",
    "    fig,ax, PCAdf,expVar,pearson_results,MW_results=PCAwrapper(ax,df,n_comp,associatedVariableDF, associatedVariableName,isSparse=True,\n",
    "                  scatter_kws={'s':100,'alpha':1},cmap=cmap,PCAdf=PCAdf)\n",
    "    print ('patients only:')\n",
    "    print ('pearson results:',pearson_results)\n",
    "    print ('MW_results:',MW_results)\n",
    "#     ax.set_xlim(-0.05,0.20)\n",
    "#     ax.set_ylim(-0.2,0.2)\n",
    "    if n==0:\n",
    "        ax.set_ylabel ('Controls and\\npatients combined',fontsize='xx-large' )\n",
    "    \n",
    "    \n",
    "    \n",
    "plt.show()\n",
    "    \n",
    "    "
   ]
  },
  {
   "cell_type": "code",
   "execution_count": null,
   "metadata": {
    "ExecuteTime": {
     "end_time": "2019-01-20T17:36:31.670703Z",
     "start_time": "2019-01-20T17:36:31.374408Z"
    }
   },
   "outputs": [],
   "source": [
    "fig,ax=plt.subplots()\n",
    "fig.suptitle('')\n",
    "df=df=sampleByClusterDF_nonProd\n",
    "n_comp=10\n",
    "\n",
    "associatedVariableDF=isCardio\n",
    "associatedVariableName='isCardio'\n",
    "\n",
    "vmax=associatedVariableDF[associatedVariableName].max()\n",
    "vmin=associatedVariableDF[associatedVariableName].min()\n",
    "\n",
    "\n",
    "PCAdf=PCAdf_all_nonProd\n",
    "cmap=plt.get_cmap('Blues', (vmax-vmin)+1)\n",
    "fig,ax, PCAdf,expVar,pearson_results,MW_results=PCAwrapper(ax,df,n_comp,associatedVariableDF, associatedVariableName,isSparse=True,\n",
    "              scatter_kws={'s':100,'alpha':0.8},cmap=cmap,PCAdf=PCAdf)\n",
    "# ax.set_xlim(-0.05,0.2)\n",
    "# ax.set_ylim(-0.2,0.2)\n",
    "print ('pearson results:',pearson_results)\n",
    "print ('MW_results:',MW_results)\n",
    "\n",
    "plt.show()\n",
    "\n",
    "    "
   ]
  },
  {
   "cell_type": "markdown",
   "metadata": {},
   "source": [
    "## compare PCA for STEMI/NSTEMI/NA patients:"
   ]
  },
  {
   "cell_type": "code",
   "execution_count": null,
   "metadata": {
    "ExecuteTime": {
     "end_time": "2019-01-20T16:00:18.670466Z",
     "start_time": "2019-01-20T16:00:11.556683Z"
    }
   },
   "outputs": [],
   "source": [
    "df=sampleByClusterDF.loc[Cardio126,:]\n",
    "n_comp=10\n",
    "\n",
    "\n",
    "PCAdf_Cardio126,expVar=newPCA(df,n_comp,isSparse=True)"
   ]
  },
  {
   "cell_type": "code",
   "execution_count": null,
   "metadata": {
    "ExecuteTime": {
     "end_time": "2019-01-20T16:08:55.611641Z",
     "start_time": "2019-01-20T16:08:55.591883Z"
    }
   },
   "outputs": [],
   "source": [
    "#get admission digsnosis info:\n",
    "AD_df=pd.DataFrame(phenDF['Admission Diagnosis'].loc[Cardio126])\n",
    "AD_df['Admission Diagnosis Mapped']=np.where(AD_df['Admission Diagnosis']=='STEMI',0,np.where(AD_df['Admission Diagnosis']=='NSTEMI',1,2))\n",
    "AD_df.head()"
   ]
  },
  {
   "cell_type": "code",
   "execution_count": null,
   "metadata": {
    "ExecuteTime": {
     "end_time": "2019-01-20T16:09:21.982493Z",
     "start_time": "2019-01-20T16:09:19.947612Z"
    }
   },
   "outputs": [],
   "source": [
    "associatedVariableName='Admission Diagnosis Mapped'\n",
    "associatedVariableDF=AD_df\n",
    "vmax=AD_df[associatedVariableName].max()\n",
    "vmin=AD_df[associatedVariableName].min()\n",
    "\n",
    "\n",
    "fig,ax=plt.subplots()\n",
    "df=sampleByClusterDF.loc[Cardio126,:]\n",
    "n_comp=10\n",
    "PCAdf=PCAdf_all_binary.loc[Cardio126,:]\n",
    "cmap=plt.get_cmap('Reds', (vmax-vmin)+1)\n",
    "\n",
    "\n",
    "fig,ax, PCAdf,expVar,pearson_results,MW_results=PCAwrapper(ax,df,n_comp,associatedVariableDF, associatedVariableName,isSparse=True,\n",
    "              scatter_kws={'s':100,'alpha':1},cmap=cmap,PCAdf=PCAdf)\n",
    "\n",
    "print ('controls only:')\n",
    "print ('pearson results:',pearson_results)\n",
    "print ('MW_results:',MW_results)\n",
    "\n",
    "ax.set_xlim(0,0.12)\n",
    "ax.set_ylim(-0.2,0.2)\n",
    "\n",
    "plt.show()"
   ]
  },
  {
   "cell_type": "code",
   "execution_count": null,
   "metadata": {
    "ExecuteTime": {
     "end_time": "2019-01-20T17:32:19.048700Z",
     "start_time": "2019-01-20T17:32:18.396040Z"
    }
   },
   "outputs": [],
   "source": [
    "associatedVariableName='Admission Diagnosis Mapped'\n",
    "associatedVariableDF=AD_df\n",
    "vmax=AD_df[associatedVariableName].max()\n",
    "vmin=AD_df[associatedVariableName].min()\n",
    "\n",
    "\n",
    "fig,ax=plt.subplots()\n",
    "df=sampleByClusterDF.loc[Cardio126,:]\n",
    "n_comp=10\n",
    "PCAdf=PCAdf=PCAdf_all_nonProd.loc[Cardio126,:]\n",
    "cmap=plt.get_cmap('Reds', (vmax-vmin)+1)\n",
    "\n",
    "\n",
    "fig,ax, PCAdf,expVar,pearson_results,MW_results=PCAwrapper(ax,df,n_comp,associatedVariableDF, associatedVariableName,isSparse=True,\n",
    "              scatter_kws={'s':100,'alpha':1},cmap=cmap,PCAdf=PCAdf)\n",
    "\n",
    "print ('controls only:')\n",
    "print ('pearson results:',pearson_results)\n",
    "print ('MW_results:',MW_results)\n",
    "\n",
    "ax.set_xlim(-0.05,0.15)\n",
    "ax.set_ylim(-0.2,0.2)\n",
    "\n",
    "plt.show()"
   ]
  },
  {
   "cell_type": "markdown",
   "metadata": {},
   "source": [
    "# PCoA analysis"
   ]
  },
  {
   "cell_type": "markdown",
   "metadata": {},
   "source": [
    "## get sample By Cluster data"
   ]
  },
  {
   "cell_type": "code",
   "execution_count": 4,
   "metadata": {
    "ExecuteTime": {
     "end_time": "2019-03-05T09:53:38.116620Z",
     "start_time": "2019-03-05T09:53:24.432977Z"
    }
   },
   "outputs": [],
   "source": [
    "sampleByClusterDF=pd.read_pickle('/net/mraid08/export/jafar/Microbiome/Analyses/ShaniBAF/\\\n",
    "sharingAnalysis/seqClusters_allProd_maxdist1/sampleByClusterDF_cohortfiltering005-085perc_dropped.dat')"
   ]
  },
  {
   "cell_type": "code",
   "execution_count": 5,
   "metadata": {
    "ExecuteTime": {
     "end_time": "2019-03-05T09:54:32.067245Z",
     "start_time": "2019-03-05T09:54:30.494632Z"
    }
   },
   "outputs": [],
   "source": [
    "sampleByClusterDF_binary=(sampleByClusterDF>0).astype(int)"
   ]
  },
  {
   "cell_type": "markdown",
   "metadata": {},
   "source": [
    "## get only data for balanced lists:"
   ]
  },
  {
   "cell_type": "code",
   "execution_count": 6,
   "metadata": {
    "ExecuteTime": {
     "end_time": "2019-03-05T09:55:29.070395Z",
     "start_time": "2019-03-05T09:55:29.061142Z"
    }
   },
   "outputs": [],
   "source": [
    "# get samples lists:\n",
    "with open('/net/mraid08/export/genie/Lab/Personal/ShaniBAF/Sample files/BD lists/PNP530_balancedAge_males') as fp:\n",
    "    PNP530_balancedAge_males=pickle.load(fp)\n",
    "with open('/net/mraid08/export/genie/Lab/Personal/ShaniBAF/Sample files/BD lists/Cardio126_balancedAge_males') as fp:\n",
    "    Cardio126_balancedAge_males=pickle.load(fp)"
   ]
  },
  {
   "cell_type": "code",
   "execution_count": 7,
   "metadata": {
    "ExecuteTime": {
     "end_time": "2019-03-05T09:55:52.248520Z",
     "start_time": "2019-03-05T09:55:51.312688Z"
    }
   },
   "outputs": [
    {
     "name": "stdout",
     "output_type": "stream",
     "text": [
      "(150, 536761)\n"
     ]
    },
    {
     "data": {
      "text/html": [
       "<div>\n",
       "<style scoped>\n",
       "    .dataframe tbody tr th:only-of-type {\n",
       "        vertical-align: middle;\n",
       "    }\n",
       "\n",
       "    .dataframe tbody tr th {\n",
       "        vertical-align: top;\n",
       "    }\n",
       "\n",
       "    .dataframe thead th {\n",
       "        text-align: right;\n",
       "    }\n",
       "</style>\n",
       "<table border=\"1\" class=\"dataframe\">\n",
       "  <thead>\n",
       "    <tr style=\"text-align: right;\">\n",
       "      <th></th>\n",
       "      <th>CSARLVAETQYF</th>\n",
       "      <th>CASSSSGVTGELFF</th>\n",
       "      <th>CASSDRGRDEQYF</th>\n",
       "      <th>CSVSGSQETQYF</th>\n",
       "      <th>CASSVTSGSSYEQYF</th>\n",
       "    </tr>\n",
       "  </thead>\n",
       "  <tbody>\n",
       "    <tr>\n",
       "      <th>BD801</th>\n",
       "      <td>1</td>\n",
       "      <td>0</td>\n",
       "      <td>0</td>\n",
       "      <td>1</td>\n",
       "      <td>0</td>\n",
       "    </tr>\n",
       "    <tr>\n",
       "      <th>BD221</th>\n",
       "      <td>0</td>\n",
       "      <td>1</td>\n",
       "      <td>0</td>\n",
       "      <td>0</td>\n",
       "      <td>1</td>\n",
       "    </tr>\n",
       "    <tr>\n",
       "      <th>BD631</th>\n",
       "      <td>0</td>\n",
       "      <td>0</td>\n",
       "      <td>0</td>\n",
       "      <td>0</td>\n",
       "      <td>0</td>\n",
       "    </tr>\n",
       "    <tr>\n",
       "      <th>BD441</th>\n",
       "      <td>0</td>\n",
       "      <td>0</td>\n",
       "      <td>1</td>\n",
       "      <td>0</td>\n",
       "      <td>0</td>\n",
       "    </tr>\n",
       "    <tr>\n",
       "      <th>BD834</th>\n",
       "      <td>0</td>\n",
       "      <td>0</td>\n",
       "      <td>0</td>\n",
       "      <td>0</td>\n",
       "      <td>0</td>\n",
       "    </tr>\n",
       "  </tbody>\n",
       "</table>\n",
       "</div>"
      ],
      "text/plain": [
       "       CSARLVAETQYF  CASSSSGVTGELFF  CASSDRGRDEQYF  CSVSGSQETQYF  CASSVTSGSSYEQYF\n",
       "BD801             1               0              0             1                0\n",
       "BD221             0               1              0             0                1\n",
       "BD631             0               0              0             0                0\n",
       "BD441             0               0              1             0                0\n",
       "BD834             0               0              0             0                0"
      ]
     },
     "execution_count": 7,
     "metadata": {},
     "output_type": "execute_result"
    }
   ],
   "source": [
    "sampleByClusterDF_binary_balanced=sampleByClusterDF_binary.loc[PNP530_balancedAge_males+Cardio126_balancedAge_males,:].fillna(0)\n",
    "print sampleByClusterDF_binary_balanced.shape\n",
    "sampleByClusterDF_binary_balanced.iloc[:5,:5]"
   ]
  },
  {
   "cell_type": "code",
   "execution_count": 8,
   "metadata": {
    "ExecuteTime": {
     "end_time": "2019-03-05T09:57:09.692432Z",
     "start_time": "2019-03-05T09:57:08.885042Z"
    }
   },
   "outputs": [
    {
     "name": "stdout",
     "output_type": "stream",
     "text": [
      "(150, 536761)\n"
     ]
    },
    {
     "data": {
      "text/html": [
       "<div>\n",
       "<style scoped>\n",
       "    .dataframe tbody tr th:only-of-type {\n",
       "        vertical-align: middle;\n",
       "    }\n",
       "\n",
       "    .dataframe tbody tr th {\n",
       "        vertical-align: top;\n",
       "    }\n",
       "\n",
       "    .dataframe thead th {\n",
       "        text-align: right;\n",
       "    }\n",
       "</style>\n",
       "<table border=\"1\" class=\"dataframe\">\n",
       "  <thead>\n",
       "    <tr style=\"text-align: right;\">\n",
       "      <th></th>\n",
       "      <th>CSARLVAETQYF</th>\n",
       "      <th>CASSSSGVTGELFF</th>\n",
       "      <th>CASSDRGRDEQYF</th>\n",
       "      <th>CSVSGSQETQYF</th>\n",
       "      <th>CASSVTSGSSYEQYF</th>\n",
       "    </tr>\n",
       "  </thead>\n",
       "  <tbody>\n",
       "    <tr>\n",
       "      <th>BD801</th>\n",
       "      <td>1.0</td>\n",
       "      <td>0.0</td>\n",
       "      <td>0.0</td>\n",
       "      <td>1.0</td>\n",
       "      <td>0.0</td>\n",
       "    </tr>\n",
       "    <tr>\n",
       "      <th>BD221</th>\n",
       "      <td>0.0</td>\n",
       "      <td>1.0</td>\n",
       "      <td>0.0</td>\n",
       "      <td>0.0</td>\n",
       "      <td>1.0</td>\n",
       "    </tr>\n",
       "    <tr>\n",
       "      <th>BD631</th>\n",
       "      <td>0.0</td>\n",
       "      <td>0.0</td>\n",
       "      <td>0.0</td>\n",
       "      <td>0.0</td>\n",
       "      <td>0.0</td>\n",
       "    </tr>\n",
       "    <tr>\n",
       "      <th>BD441</th>\n",
       "      <td>0.0</td>\n",
       "      <td>0.0</td>\n",
       "      <td>2.0</td>\n",
       "      <td>0.0</td>\n",
       "      <td>0.0</td>\n",
       "    </tr>\n",
       "    <tr>\n",
       "      <th>BD834</th>\n",
       "      <td>0.0</td>\n",
       "      <td>0.0</td>\n",
       "      <td>0.0</td>\n",
       "      <td>0.0</td>\n",
       "      <td>0.0</td>\n",
       "    </tr>\n",
       "  </tbody>\n",
       "</table>\n",
       "</div>"
      ],
      "text/plain": [
       "       CSARLVAETQYF  CASSSSGVTGELFF  CASSDRGRDEQYF  CSVSGSQETQYF  CASSVTSGSSYEQYF\n",
       "BD801           1.0             0.0            0.0           1.0              0.0\n",
       "BD221           0.0             1.0            0.0           0.0              1.0\n",
       "BD631           0.0             0.0            0.0           0.0              0.0\n",
       "BD441           0.0             0.0            2.0           0.0              0.0\n",
       "BD834           0.0             0.0            0.0           0.0              0.0"
      ]
     },
     "execution_count": 8,
     "metadata": {},
     "output_type": "execute_result"
    }
   ],
   "source": [
    "sampleByClusterDF_balanced=sampleByClusterDF.loc[PNP530_balancedAge_males+Cardio126_balancedAge_males,:].fillna(0)\n",
    "print sampleByClusterDF_balanced.shape\n",
    "sampleByClusterDF_balanced.iloc[:5,:5]"
   ]
  },
  {
   "cell_type": "markdown",
   "metadata": {},
   "source": [
    "## calculate distance matrix  and PCoA:"
   ]
  },
  {
   "cell_type": "code",
   "execution_count": 9,
   "metadata": {
    "ExecuteTime": {
     "end_time": "2019-03-05T09:58:38.581192Z",
     "start_time": "2019-03-05T09:58:38.577330Z"
    }
   },
   "outputs": [
    {
     "name": "stdout",
     "output_type": "stream",
     "text": [
      "fgd\n"
     ]
    }
   ],
   "source": [
    "print 'fgd'"
   ]
  },
  {
   "cell_type": "markdown",
   "metadata": {},
   "source": [
    "### define function:"
   ]
  },
  {
   "cell_type": "code",
   "execution_count": 15,
   "metadata": {
    "ExecuteTime": {
     "end_time": "2019-03-12T14:03:21.124884Z",
     "start_time": "2019-03-12T14:03:21.057324Z"
    }
   },
   "outputs": [],
   "source": [
    "def calc_PCoA(df,metric,sample_list1,sample_list2,pcoa_n1_toplot=0,pcoa_n2_toplot=1):\n",
    "    from skbio.stats.ordination import PCoA\n",
    "    from skbio.stats.distance import DistanceMatrix\n",
    "    \n",
    "#     ### scale data:\n",
    "#     print 'scaling data'\n",
    "#     df=preprocessing.scale(df,copy=False)\n",
    "    \n",
    "    ###generate distance matrix:\n",
    "    print 'generating distance matrix...'\n",
    "    df_condensed_org, distMat_square=genDistMat(df,metric)\n",
    "    distMat_square_distmat=DistanceMatrix(distMat_square.values,distMat_square.index)\n",
    "    \n",
    "    ###calcualte PCoA:\n",
    "    print 'calculate PCoA'\n",
    "    pcoa = PCoA(distMat_square_distmat)\n",
    "    pcoa_df = pd.DataFrame(pcoa.scores().site, index=distMat_square_distmat.ids, columns=range(pcoa.scores().site.shape[1]))\n",
    "    \n",
    "    ###plot PCoA:\n",
    "    print 'plotting'\n",
    "    fig,ax=plt.subplots()\n",
    "    ax.scatter(pcoa_df.loc[sample_list1, pcoa_n1_toplot], pcoa_df.loc[sample_list1, pcoa_n2_toplot], color='blue', alpha=0.5, s=100, label='Healthy')\n",
    "    ax.scatter(pcoa_df.loc[sample_list2, pcoa_n1_toplot], pcoa_df.loc[sample_list2, pcoa_n2_toplot], color='red', alpha=0.5, s=100, label='Patients')\n",
    "    ax.set_title('PCoA', fontsize=30)\n",
    "    ax.set_xlabel('PC%s - %0.2f' %(pcoa_n1_toplot, pcoa.scores().proportion_explained[pcoa_n1_toplot]), fontsize=20)\n",
    "    ax.set_ylabel('PC%s- %0.2f' %(pcoa_n2_toplot, pcoa.scores().proportion_explained[pcoa_n2_toplot]), fontsize=20)\n",
    "#     ax.set_xticks(fontsize=15)\n",
    "#     ax.set_yticks(fontsize=15)\n",
    "    ax.legend(loc='upper right', fontsize=20)\n",
    "    plt.show()\n",
    "    \n",
    "    ### calculate PCoA seperation:\n",
    "    for n in range(10):\n",
    "        healthy_data_1=pcoa_df.loc[sample_list1, n].tolist()\n",
    "        patients_data_1=pcoa_df.loc[sample_list2, n].tolist()\n",
    "        MW_s1, p1 = mannwhitneyu(healthy_data_1, patients_data_1)\n",
    "        print ('healthy mean (PCo%s):' %n, np.mean(healthy_data_1))\n",
    "        print ('patients mean (PCo%s):' %n, np.mean(patients_data_1))\n",
    "        print MW_s1, p1\n",
    "        print ('proportion explained: ',pcoa.scores().proportion_explained[n] )\n",
    "    \n",
    "    \n",
    "    return pcoa_df,fig,ax"
   ]
  },
  {
   "cell_type": "code",
   "execution_count": 20,
   "metadata": {
    "ExecuteTime": {
     "end_time": "2019-03-12T14:18:00.791233Z",
     "start_time": "2019-03-12T14:18:00.691957Z"
    }
   },
   "outputs": [],
   "source": [
    "def calc_PCoA(df,metric,sample_list_list,color_list,pcoa_n1_toplot=0,pcoa_n2_toplot=1,toScale=False,\n",
    "             toAnnotate=False):\n",
    "    \n",
    "    ## sample_list_list = list of tuples, each tuple is composed of a string which is the name of the sample list, and the sample list\n",
    "    from skbio.stats.ordination import PCoA\n",
    "    from skbio.stats.distance import DistanceMatrix\n",
    "    \n",
    "    ### scale data:\n",
    "    if toScale:\n",
    "        print 'scaling data'\n",
    "        df=preprocessing.scale(df,copy=False)\n",
    "        print df\n",
    "    \n",
    "    ###generate distance matrix:\n",
    "    print 'generating distance matrix...'\n",
    "    df_condensed_org, distMat_square=genDistMat(df,metric)\n",
    "    distMat_square_distmat=DistanceMatrix(distMat_square.values,distMat_square.index)\n",
    "    \n",
    "    ###calcualte PCoA:\n",
    "    print 'calculate PCoA'\n",
    "    pcoa = PCoA(distMat_square_distmat)\n",
    "    pcoa_df = pd.DataFrame(pcoa.scores().site, index=distMat_square_distmat.ids, columns=range(pcoa.scores().site.shape[1]))\n",
    "    print pcoa_df\n",
    "    ###plot PCoA:\n",
    "    print 'plotting'\n",
    "    fig,ax=plt.subplots()\n",
    "    for n,item in enumerate(sample_list_list):\n",
    "        ax.scatter(pcoa_df.loc[item[1], pcoa_n1_toplot], pcoa_df.loc[item[1], pcoa_n2_toplot],\n",
    "                   color=color_list[n], alpha=1, s=100, label=item[0])\n",
    "   \n",
    "    ax.set_title('PCoA', fontsize=30)\n",
    "    ax.set_xlabel('PC%s (exp. var.=%0.2f)' %(pcoa_n1_toplot, pcoa.scores().proportion_explained[pcoa_n1_toplot]), fontsize=20)\n",
    "    ax.set_ylabel('PC%s (exp. var.=%0.2f)' %(pcoa_n2_toplot, pcoa.scores().proportion_explained[pcoa_n2_toplot]), fontsize=20)\n",
    "#     ax.set_xticks(fontsize=15)\n",
    "#     ax.set_yticks(fontsize=15)\n",
    "    ax.legend(bbox_to_anchor=(1.05, 0.95),loc='upper left', fontsize=12)\n",
    "    \n",
    "    ### calculate PCoA seperation:\n",
    "    if len(sample_list_list)==2:\n",
    "        for n in range(10):\n",
    "            try:\n",
    "                item1_data=pcoa_df.loc[sample_list_list[0][1], n].tolist()\n",
    "                item2_data=pcoa_df.loc[sample_list_list[1][1], n].tolist()\n",
    "                MW_s1, p1 = mannwhitneyu(item1_data,item2_data)\n",
    "                print ('%s mean (PCo%s):' %(sample_list_list[0][0],n), np.mean(item1_data))\n",
    "                print ('%s mean (PCo%s):' %(sample_list_list[1][0],n), np.mean(item2_data))\n",
    "                print MW_s1, p1\n",
    "                print ('proportion explained: ',pcoa.scores().proportion_explained[n] )\n",
    "            except:\n",
    "                print ' couldnt caclculate MW'\n",
    "    else:\n",
    "        print 'number of groups is %s' %len(sample_list_list)\n",
    "        \n",
    "    if toAnnotate:\n",
    "        print 'annotating'\n",
    "        for item in sample_list_list:\n",
    "            for sample in item[1]:\n",
    "                x=pcoa_df.loc[sample,pcoa_n1_toplot]\n",
    "                y=pcoa_df.loc[sample,pcoa_n2_toplot]\n",
    "                print (sample,x,y)\n",
    "                ax.annotate(sample,(x,y),xycoords='data',fontsize='medium')\n",
    "    \n",
    "    \n",
    "    return pcoa_df,fig,ax"
   ]
  },
  {
   "cell_type": "markdown",
   "metadata": {},
   "source": [
    "### calculate for binary matrix using jaccard:"
   ]
  },
  {
   "cell_type": "code",
   "execution_count": 26,
   "metadata": {
    "ExecuteTime": {
     "end_time": "2019-03-12T14:40:22.409524Z",
     "start_time": "2019-03-12T14:39:30.694213Z"
    }
   },
   "outputs": [
    {
     "name": "stdout",
     "output_type": "stream",
     "text": [
      "generating distance matrix...\n",
      "generating condensed distance matrix using jaccard\n",
      "top similar pairs:\n",
      "          dist sample1 sample2\n",
      "763   0.798177    BD27   BD124\n",
      "814   0.800100    BD27  BD1083\n",
      "769   0.813734    BD27   BD106\n",
      "4510  0.815050   BD124   BD106\n",
      "4555  0.816545   BD124  BD1083\n",
      "776   0.819343    BD27   BD150\n",
      "856   0.819679    BD27   BD984\n",
      "9136  0.823167  BD1083   BD984\n",
      "5224  0.824113   BD106  BD1083\n",
      "5959  0.824178   BD150  BD1083\n",
      "generating squareform distance matrix using jaccard\n",
      "calculate PCoA\n",
      "             0         1         2         3         4         5         6         7         8         9   ...        140       141       142       143       144       145       146       147       148  149\n",
      "BD801  -0.084166 -0.018515  0.004126 -0.010947  0.052520 -0.004264 -0.032504  0.015681 -0.000561  0.016503 ...   0.052695 -0.020790  0.005890 -0.063313  0.006901 -0.005874 -0.026643  0.028642 -0.005200 -0.0\n",
      "BD221  -0.119322 -0.001487  0.026497 -0.026498  0.035686 -0.012056 -0.025276  0.000241  0.004264 -0.011048 ...   0.019194 -0.094484  0.044772 -0.096070  0.162971  0.014707  0.046064  0.010922  0.012869 -0.0\n",
      "BD631   0.094230  0.080540 -0.024428  0.028280  0.006155 -0.030294 -0.144339  0.066039 -0.079760 -0.059380 ...   0.016634  0.013048 -0.016050  0.007537  0.006011  0.018608 -0.017460 -0.003814  0.010317 -0.0\n",
      "BD441  -0.023516  0.085471 -0.002834  0.033421  0.013378  0.038440  0.013606 -0.041852 -0.016782  0.028365 ...   0.050420  0.003626 -0.017165  0.015844 -0.030714 -0.011666  0.030536  0.015570 -0.012951 -0.0\n",
      "BD834  -0.062587 -0.090468 -0.008679 -0.004084 -0.035985 -0.061990 -0.015979 -0.013307  0.029693 -0.009026 ...  -0.067978 -0.005749  0.009721  0.004245  0.032581  0.003254 -0.000395 -0.004060 -0.004152 -0.0\n",
      "BD27   -0.214686 -0.057852  0.067573 -0.057665  0.001272  0.021112 -0.010364 -0.007297  0.022266  0.024233 ...   0.047087  0.028451 -0.021422  0.002195  0.002244 -0.025870 -0.223859 -0.073920  0.459516 -0.0\n",
      "BD339  -0.058237  0.035370  0.025839  0.005855 -0.011600  0.020158  0.002439  0.022352  0.031540  0.019628 ...   0.024730 -0.026864  0.013949  0.001903  0.011621 -0.036454  0.008446  0.009935  0.015123 -0.0\n",
      "BD600  -0.056669 -0.074659 -0.021182 -0.007287 -0.039515 -0.002842 -0.053792  0.014500 -0.025895 -0.005847 ...  -0.006376 -0.031747  0.060068 -0.035542  0.003051 -0.011114 -0.003381 -0.009535 -0.014992 -0.0\n",
      "BD908  -0.106393 -0.018588  0.019395 -0.018524  0.037914 -0.036979 -0.030765  0.000388 -0.004223  0.014099 ...   0.004038  0.032168 -0.105475  0.113742 -0.017603  0.032888  0.037789  0.045872 -0.004658 -0.0\n",
      "BD422  -0.086319 -0.087830 -0.007100 -0.009309 -0.018571 -0.029904 -0.001632 -0.008292 -0.000051  0.019545 ...   0.059090 -0.029017  0.000375  0.039517  0.048742 -0.039702 -0.012883  0.021756 -0.022279 -0.0\n",
      "BD488  -0.008018  0.035419 -0.040681 -0.011398 -0.060063 -0.041298  0.015399  0.029566 -0.047173 -0.054920 ...  -0.000901  0.005511  0.009181  0.010855 -0.018113 -0.004308 -0.017809  0.005367 -0.025131 -0.0\n",
      "BD859  -0.134474 -0.020642  0.030412 -0.005391 -0.001176  0.015352 -0.000690 -0.008540 -0.003345 -0.008679 ...  -0.053534 -0.062602  0.146012 -0.111150 -0.006544  0.061517  0.052175  0.014065  0.004786 -0.0\n",
      "BD810  -0.109426 -0.089925  0.009350  0.007802 -0.006668  0.021701  0.006028 -0.002546 -0.004373  0.011165 ...   0.033168 -0.097730 -0.057595  0.037102 -0.038569 -0.004130  0.016219  0.004068  0.003110 -0.0\n",
      "BD649   0.010793  0.033522 -0.024571  0.054963  0.001054 -0.035278 -0.005977  0.009955 -0.013468  0.006379 ...   0.001761  0.001457  0.005630 -0.002230 -0.000515  0.012206 -0.013690  0.001419  0.001892 -0.0\n",
      "BD71   -0.092926 -0.078185  0.010852 -0.000891 -0.009213 -0.015498 -0.019392  0.001142 -0.013057  0.021058 ...  -0.020473 -0.014894  0.027260  0.040705 -0.015147 -0.006814  0.016887 -0.027142  0.025372 -0.0\n",
      "BD865  -0.116817  0.071348  0.030845 -0.022906  0.012153  0.017921  0.010587 -0.007481 -0.001888 -0.016903 ...  -0.097374  0.097873  0.076809 -0.083588  0.030803  0.061792  0.024973 -0.038458  0.024774 -0.0\n",
      "BD432  -0.023305  0.094780  0.000499  0.006589  0.003343  0.047966  0.035620 -0.019918  0.010839 -0.006222 ...   0.021420  0.029646  0.002850  0.065851  0.003126 -0.029507 -0.014295  0.006098  0.006516 -0.0\n",
      "BD574  -0.113392 -0.012616  0.027880 -0.022937  0.028094 -0.003232 -0.015283  0.011361 -0.006891  0.013969 ...  -0.042107  0.057066  0.038215  0.022794  0.013838  0.064638  0.002698 -0.025159  0.009088 -0.0\n",
      "BD847  -0.024888  0.001201 -0.013388  0.026287 -0.016594 -0.001304 -0.011362  0.041733 -0.002430 -0.030960 ...   0.016781 -0.022175 -0.020876 -0.005365 -0.000709 -0.010705 -0.009173 -0.024284  0.001389 -0.0\n",
      "BD149  -0.106039  0.007442  0.007273 -0.032951  0.004483 -0.001647  0.015206 -0.012504  0.010928 -0.015796 ...   0.008984 -0.089868 -0.047303  0.025235  0.014661  0.017224 -0.005185 -0.022901 -0.017110 -0.0\n",
      "BD400  -0.052166  0.016587 -0.000126 -0.007815 -0.018660  0.009448 -0.016711 -0.011870  0.038638  0.005310 ...  -0.028469  0.026444 -0.028426  0.023021  0.045754  0.021113 -0.010185 -0.043774  0.019819 -0.0\n",
      "BD66    0.102316  0.083890  0.008448 -0.002715 -0.046653 -0.051970  0.102499  0.125506  0.045934  0.024729 ...  -0.018050  0.022445 -0.002000 -0.006641  0.004756  0.008935 -0.011119 -0.000793  0.003928 -0.0\n",
      "BD863   0.057716  0.089240  0.021440 -0.001542  0.166026 -0.078262 -0.004272  0.029621  0.011969  0.023068 ...  -0.014459  0.009823  0.004192 -0.014148  0.009055 -0.001277 -0.001855  0.000361  0.006165 -0.0\n",
      "BD579   0.101504 -0.042832 -0.040453  0.082149 -0.072373  0.046864  0.020009  0.020883 -0.035410 -0.100724 ...  -0.003732  0.000271  0.013935 -0.003066  0.002731 -0.009496  0.003409 -0.009395  0.010315 -0.0\n",
      "BD811   0.014470 -0.007748 -0.016018 -0.005699  0.004258  0.040903  0.025843  0.021502 -0.005260 -0.004246 ...  -0.017255  0.000280  0.036145 -0.017442  0.009270  0.001647  0.001609 -0.011934  0.010755 -0.0\n",
      "BD935  -0.141352  0.004289  0.036027 -0.032821 -0.011456  0.022843  0.002016  0.007509 -0.000540 -0.021021 ...   0.055812  0.055965 -0.228551  0.221379  0.031692  0.037880  0.063210 -0.014756 -0.006908 -0.0\n",
      "BD369  -0.126246  0.085020  0.026092 -0.042880  0.033912  0.017979 -0.023266 -0.002271 -0.014003 -0.012834 ...  -0.237307 -0.106849 -0.116388 -0.135799 -0.065422  0.077034 -0.037945 -0.008162 -0.007389 -0.0\n",
      "BD591   0.142896 -0.052384 -0.012452 -0.076185  0.093799 -0.103869 -0.085464  0.103781 -0.160873 -0.052386 ...   0.005291  0.015609 -0.008378  0.012252  0.001280 -0.008857  0.010086 -0.005924  0.003979 -0.0\n",
      "BD909  -0.129982 -0.003468  0.023800 -0.033987  0.019467  0.029069 -0.002006 -0.024279 -0.000452  0.025094 ...   0.153403 -0.073565  0.044114 -0.110261 -0.046301  0.145749  0.039364  0.001636 -0.036735 -0.0\n",
      "BD860   0.016502  0.138961 -0.015394 -0.073665 -0.006323 -0.057681 -0.008610 -0.010161 -0.067188 -0.055090 ...   0.011324 -0.010238  0.010239  0.004720  0.007426  0.007978 -0.019826  0.008334  0.006067 -0.0\n",
      "...          ...       ...       ...       ...       ...       ...       ...       ...       ...       ... ...        ...       ...       ...       ...       ...       ...       ...       ...       ...  ...\n",
      "BD1016  0.035514  0.062599 -0.003157  0.075074  0.067576  0.053443 -0.006091 -0.035827  0.063341  0.035671 ...   0.012169 -0.018019  0.022675 -0.012714 -0.034365  0.000614 -0.013738  0.005370 -0.014577 -0.0\n",
      "BD979  -0.023638  0.068605  0.033634  0.010410  0.010617  0.001509 -0.023173  0.015443 -0.000148 -0.022006 ...  -0.019454 -0.010374 -0.006144 -0.012562  0.002135 -0.006513  0.002059  0.005164 -0.003375 -0.0\n",
      "BD1011 -0.140092  0.027193  0.028347 -0.025830  0.039810  0.006764 -0.002550 -0.016338 -0.005473  0.022106 ...  -0.115472  0.171317  0.106210 -0.029370  0.249454 -0.033628  0.032327  0.005935  0.005482 -0.0\n",
      "BD1099 -0.150006 -0.019351  0.018519 -0.052573  0.036951 -0.015244 -0.024447  0.006624  0.003845  0.003127 ...  -0.089014 -0.013515 -0.005666 -0.016360 -0.378744  0.023437 -0.005927 -0.001480  0.003978 -0.0\n",
      "BD1048  0.090974 -0.024679  0.017221  0.120827  0.019455 -0.003062  0.042531  0.055159  0.093443  0.065426 ...   0.012354 -0.001250  0.008859 -0.014154 -0.006055  0.003641 -0.000561 -0.012646 -0.000115 -0.0\n",
      "BD1033  0.035296  0.052316 -0.018873  0.033922 -0.023703  0.062370  0.013329 -0.002823  0.004705 -0.000049 ...  -0.008947  0.049761 -0.026558  0.021677  0.009884  0.013312 -0.017202 -0.001861  0.001359 -0.0\n",
      "BD1090  0.004570 -0.057565 -0.042230  0.057009 -0.026341 -0.030698  0.018974 -0.009589 -0.011908 -0.032230 ...   0.000694 -0.018571  0.005410  0.008152  0.004053 -0.000773 -0.002956  0.004138  0.007248 -0.0\n",
      "BD984  -0.152489 -0.096669  0.030082 -0.015686 -0.021838  0.021643 -0.011691 -0.012661  0.014930  0.010604 ...   0.140058  0.261568 -0.241343 -0.293909 -0.010828  0.041026  0.124604 -0.022181 -0.019934 -0.0\n",
      "BD955   0.209176 -0.075115  0.056560 -0.178854  0.092883  0.000967  0.105981 -0.171300  0.154871 -0.205055 ...   0.008267 -0.014867 -0.006528  0.005650  0.010035 -0.000561 -0.002751  0.003699 -0.003875 -0.0\n",
      "BD1097 -0.105581  0.014131  0.001868 -0.016555  0.024606  0.027871 -0.010325 -0.005612 -0.006324 -0.014093 ...   0.063590 -0.002713  0.021790  0.091312 -0.002117 -0.030940  0.030064  0.038469  0.019173 -0.0\n",
      "BD983  -0.033346  0.111946 -0.014395 -0.019093  0.018725 -0.053357 -0.022932  0.000687 -0.011817 -0.022293 ...   0.014838  0.016105 -0.003718 -0.027554  0.007431  0.017573 -0.026257  0.001500  0.012722 -0.0\n",
      "BD1073 -0.031232 -0.073759 -0.037816  0.016785 -0.011292  0.006361 -0.011397 -0.021184 -0.009371 -0.008281 ...   0.004194 -0.012177  0.019353 -0.017785 -0.022468 -0.036308 -0.004560  0.018746 -0.003221 -0.0\n",
      "BD967  -0.015940 -0.032985  0.000601  0.063666 -0.008587  0.049151 -0.018822 -0.013710  0.000870  0.027083 ...  -0.025593 -0.041120 -0.007242 -0.024059 -0.003526 -0.019012 -0.013969 -0.002792  0.014247 -0.0\n",
      "BD1074 -0.004677  0.100286  0.011032  0.020384 -0.006519  0.009563 -0.012209 -0.000514 -0.003702 -0.069701 ...   0.019207  0.038788 -0.020194 -0.001448  0.006718 -0.014630  0.008589 -0.004276  0.002879 -0.0\n",
      "BD960  -0.094738  0.088645  0.033045 -0.009798 -0.009806  0.039904  0.018949 -0.037813  0.004189 -0.023163 ...   0.007512 -0.077431 -0.097418  0.004289  0.025997  0.015964  0.004890  0.028897 -0.030785 -0.0\n",
      "BD1006  0.025053 -0.055754 -0.037861 -0.016035 -0.032861 -0.019681 -0.085291  0.007494 -0.037471  0.010159 ...  -0.011606 -0.005676 -0.009036 -0.009308 -0.009182  0.008144 -0.000268 -0.017435  0.011395 -0.0\n",
      "BD1001  0.011498 -0.038289 -0.041829  0.001654 -0.024459  0.004726  0.024475 -0.040337  0.018207 -0.029909 ...   0.010809  0.018143  0.001672 -0.003991 -0.009696 -0.004015 -0.019470  0.004156  0.013363 -0.0\n",
      "BD1010  0.159296 -0.131217 -0.036034  0.064830  0.030704  0.198126  0.019194  0.084964  0.014841  0.175125 ...  -0.009281  0.005575 -0.002081 -0.002056  0.010480  0.014085  0.007459 -0.007132 -0.002282 -0.0\n",
      "BD1017  0.090831 -0.090131 -0.038307  0.081997  0.039257 -0.029978  0.079620 -0.009077  0.048048  0.075249 ...   0.007344  0.010072 -0.001066 -0.032303 -0.010180  0.005958  0.005046 -0.007157 -0.008813 -0.0\n",
      "BD1019  0.045663 -0.017491 -0.022866  0.067937 -0.019109  0.017046 -0.035030  0.025803 -0.002777 -0.055110 ...   0.005728  0.004728 -0.001964 -0.006835  0.011544 -0.006515 -0.006039 -0.001942  0.000210 -0.0\n",
      "BD971  -0.026549  0.038404  0.038349  0.010094 -0.000443  0.002890 -0.019105 -0.001299 -0.016353  0.015331 ...   0.004464  0.046460  0.010388  0.011132  0.026776 -0.028460 -0.025246 -0.002444  0.007619 -0.0\n",
      "BD1065  0.047339  0.080102 -0.015319  0.043791  0.035214 -0.021012 -0.024316 -0.038217  0.066556  0.043683 ...  -0.002066  0.002256  0.031207  0.016522  0.014582  0.002746  0.001385  0.001112  0.002219 -0.0\n",
      "BD976   0.002144  0.051151 -0.012771 -0.005027 -0.059390 -0.004089  0.051761  0.076730 -0.009706 -0.028270 ...   0.011795  0.000873  0.026875 -0.035990 -0.005300  0.011466 -0.019623 -0.000930 -0.017267 -0.0\n",
      "BD1062  0.001967 -0.059474 -0.012166  0.055112  0.001226  0.018209  0.033842  0.026634 -0.014703 -0.005361 ...  -0.016727  0.008746  0.002216 -0.005326  0.015587 -0.028754 -0.011057  0.014044 -0.005251 -0.0\n",
      "BD992   0.016974 -0.041371 -0.020636  0.059688 -0.029034 -0.041753  0.028387 -0.023639 -0.029707 -0.016234 ...   0.009902  0.007091 -0.007903  0.011378 -0.002011 -0.000369 -0.010280 -0.014612 -0.002140 -0.0\n",
      "BD1086 -0.096254  0.004649  0.026497 -0.026547 -0.015098 -0.012676  0.000743 -0.009386  0.004692 -0.022949 ...  -0.023054  0.093055  0.017381  0.010145  0.022903 -0.002109  0.002510 -0.003126 -0.001845 -0.0\n",
      "BD995   0.024443  0.021233 -0.023619  0.049233 -0.048688  0.000031 -0.008361 -0.036098  0.003883  0.009141 ...  -0.009330  0.012650  0.002565 -0.013792 -0.001414 -0.024026 -0.003908  0.004277  0.007481 -0.0\n",
      "BD1050  0.017406 -0.064006 -0.063696  0.053814 -0.034424 -0.020142  0.037733 -0.041576  0.010606  0.000296 ...  -0.015923 -0.015371 -0.034992 -0.019669  0.001229  0.009770 -0.002902 -0.018939  0.016778 -0.0\n",
      "BD1081 -0.139805 -0.082167  0.015175 -0.037975 -0.001965 -0.014992 -0.015037  0.007878 -0.009911  0.022877 ...   0.186439 -0.168352  0.104585 -0.042432  0.086004  0.037111  0.067196  0.059660  0.016641 -0.0\n",
      "BD1088 -0.072428  0.028144  0.009634  0.013352  0.008187  0.002319  0.010595 -0.014463 -0.002049  0.009629 ...   0.005328 -0.026599 -0.000202  0.016726 -0.028133  0.011112  0.003547  0.000676  0.010959 -0.0\n",
      "\n",
      "[150 rows x 150 columns]\n",
      "plotting\n",
      "('Healthy mean (PCo0):', -0.025329975297258178)\n",
      "('Patients mean (PCo0):', 0.015524823569287265)\n",
      "1995.0 0.005604906720804398\n",
      "('proportion explained: ', 0.02338312056676816)\n",
      "('Healthy mean (PCo1):', 0.0051857481353621716)\n",
      "('Patients mean (PCo1):', -0.0031783617603831525)\n",
      "2501.0 0.28199947741083725\n",
      "('proportion explained: ', 0.009154701328123209)\n",
      "('Healthy mean (PCo2):', -0.003172258427642641)\n",
      "('Patients mean (PCo2):', 0.001944287423393906)\n",
      "2500.0 0.280693081767475\n",
      "('proportion explained: ', 0.008192405257429366)\n",
      "('Healthy mean (PCo3):', -0.010818472756887638)\n",
      "('Patients mean (PCo3):', 0.006630676850995793)\n",
      "1863.0 0.0011550001745454061\n",
      "('proportion explained: ', 0.008098343038199165)\n",
      "('Healthy mean (PCo4):', 0.0024060447724752786)\n",
      "('Patients mean (PCo4):', -0.001474672602485045)\n",
      "2467.0 0.23929994505842322\n",
      "('proportion explained: ', 0.008026820778861637)\n",
      "('Healthy mean (PCo5):', -0.004852398081289504)\n",
      "('Patients mean (PCo5):', 0.002974050436919359)\n",
      "2415.0 0.18143903682866036\n",
      "('proportion explained: ', 0.007899868571016938)\n",
      "('Healthy mean (PCo6):', -0.012422304385319981)\n",
      "('Patients mean (PCo6):', 0.007613670429712378)\n",
      "2093.0 0.015516710393235069\n",
      "('proportion explained: ', 0.00781360059074899)\n",
      "('Healthy mean (PCo7):', 0.010364067838615782)\n",
      "('Patients mean (PCo7):', -0.006352170610764565)\n",
      "2258.0 0.06453471903185211\n",
      "('proportion explained: ', 0.007733026226646201)\n",
      "('Healthy mean (PCo8):', -0.001205162766216812)\n",
      "('Patients mean (PCo8):', 0.0007386481470359981)\n",
      "2294.0 0.08404090049540242\n",
      "('proportion explained: ', 0.007688927235502645)\n",
      "('Healthy mean (PCo9):', -0.00338858134569358)\n",
      "('Patients mean (PCo9):', 0.0020768724376830777)\n",
      "2593.0 0.4126638527059502\n",
      "('proportion explained: ', 0.007667539476646396)\n"
     ]
    },
    {
     "data": {
      "image/png": "[encoded data removed]",
      "text/plain": [
       "<matplotlib.figure.Figure at 0x7eff1a087b90>"
      ]
     },
     "metadata": {},
     "output_type": "display_data"
    }
   ],
   "source": [
    "df=sampleByClusterDF_binary_balanced\n",
    "metric='jaccard'\n",
    "sample_list_list=[('Healthy',PNP530_balancedAge_males),('Patients',Cardio126_balancedAge_males)]\n",
    "color_list=['grey','darkred']\n",
    "pcoa_n1_toplot=0\n",
    "pcoa_n2_toplot=1\n",
    "toScale=False,\n",
    "toAnnotate=False\n",
    "\n",
    "pcoa_df,fig,ax=calc_PCoA(df,metric,sample_list_list,color_list,pcoa_n1_toplot=0,pcoa_n2_toplot=1,toScale=False,\n",
    "             toAnnotate=False)\n",
    "\n",
    "plt.show()"
   ]
  },
  {
   "cell_type": "code",
   "execution_count": 27,
   "metadata": {
    "ExecuteTime": {
     "end_time": "2019-03-12T14:41:15.696514Z",
     "start_time": "2019-03-12T14:41:15.365536Z"
    }
   },
   "outputs": [
    {
     "data": {
      "image/png": "[encoded data removed]",
      "text/plain": [
       "<matplotlib.figure.Figure at 0x7eff19f6bf10>"
      ]
     },
     "metadata": {},
     "output_type": "display_data"
    }
   ],
   "source": [
    "#plot PCoA distributions:\n",
    "pcoa_n1_toplot=0\n",
    "sample_list1=PNP530_balancedAge_males\n",
    "sample_list2=Cardio126_balancedAge_males\n",
    "\n",
    "dataList=[('Healthy',pcoa_df.loc[sample_list1, pcoa_n1_toplot]),\n",
    "         ('Patients',pcoa_df.loc[sample_list2, pcoa_n1_toplot])]\n",
    "fig,ax=plt.subplots()\n",
    "title=''\n",
    "colorList=['grey','darkred']\n",
    "alpha=1\n",
    "text_kws={'fontsize':'large','fontweight':'bold','color':'red',\n",
    "                                'horizontalalignment':'left','verticalalignment':'top'}\n",
    "plotType='hist'\n",
    "\n",
    "\n",
    "\n",
    "ax,ks_p_cohort1_cohort2,t_p_cohort1_cohort2,p_Anov,filename=plotHistComprison(dataList,ax,title,showLegend=True,nBins=20,toAnnotate=True,\n",
    "                      colorList=colorList,alpha=alpha,\n",
    "                      text_kws=text_kws,plotType=plotType)\n",
    "\n",
    "plt.show()"
   ]
  },
  {
   "cell_type": "code",
   "execution_count": 23,
   "metadata": {
    "ExecuteTime": {
     "end_time": "2019-03-12T14:25:06.365784Z",
     "start_time": "2019-03-12T14:24:12.137137Z"
    }
   },
   "outputs": [
    {
     "name": "stdout",
     "output_type": "stream",
     "text": [
      "generating distance matrix...\n",
      "generating condensed distance matrix using jaccard\n",
      "top similar pairs:\n",
      "          dist sample1 sample2\n",
      "763   0.798177    BD27   BD124\n",
      "814   0.800100    BD27  BD1083\n",
      "769   0.813734    BD27   BD106\n",
      "4510  0.815050   BD124   BD106\n",
      "4555  0.816545   BD124  BD1083\n",
      "776   0.819343    BD27   BD150\n",
      "856   0.819679    BD27   BD984\n",
      "9136  0.823167  BD1083   BD984\n",
      "5224  0.824113   BD106  BD1083\n",
      "5959  0.824178   BD150  BD1083\n",
      "generating squareform distance matrix using jaccard\n",
      "calculate PCoA\n",
      "             0         1         2         3         4         5         6         7         8         9   ...        140       141       142       143       144       145       146       147       148  149\n",
      "BD801  -0.084166 -0.018515  0.004126 -0.010947  0.052520 -0.004264 -0.032504  0.015681 -0.000561  0.016503 ...   0.052695 -0.020790  0.005890 -0.063313  0.006901 -0.005874 -0.026643  0.028642 -0.005200 -0.0\n",
      "BD221  -0.119322 -0.001487  0.026497 -0.026498  0.035686 -0.012056 -0.025276  0.000241  0.004264 -0.011048 ...   0.019194 -0.094484  0.044772 -0.096070  0.162971  0.014707  0.046064  0.010922  0.012869 -0.0\n",
      "BD631   0.094230  0.080540 -0.024428  0.028280  0.006155 -0.030294 -0.144339  0.066039 -0.079760 -0.059380 ...   0.016634  0.013048 -0.016050  0.007537  0.006011  0.018608 -0.017460 -0.003814  0.010317 -0.0\n",
      "BD441  -0.023516  0.085471 -0.002834  0.033421  0.013378  0.038440  0.013606 -0.041852 -0.016782  0.028365 ...   0.050420  0.003626 -0.017165  0.015844 -0.030714 -0.011666  0.030536  0.015570 -0.012951 -0.0\n",
      "BD834  -0.062587 -0.090468 -0.008679 -0.004084 -0.035985 -0.061990 -0.015979 -0.013307  0.029693 -0.009026 ...  -0.067978 -0.005749  0.009721  0.004245  0.032581  0.003254 -0.000395 -0.004060 -0.004152 -0.0\n",
      "BD27   -0.214686 -0.057852  0.067573 -0.057665  0.001272  0.021112 -0.010364 -0.007297  0.022266  0.024233 ...   0.047087  0.028451 -0.021422  0.002195  0.002244 -0.025870 -0.223859 -0.073920  0.459516 -0.0\n",
      "BD339  -0.058237  0.035370  0.025839  0.005855 -0.011600  0.020158  0.002439  0.022352  0.031540  0.019628 ...   0.024730 -0.026864  0.013949  0.001903  0.011621 -0.036454  0.008446  0.009935  0.015123 -0.0\n",
      "BD600  -0.056669 -0.074659 -0.021182 -0.007287 -0.039515 -0.002842 -0.053792  0.014500 -0.025895 -0.005847 ...  -0.006376 -0.031747  0.060068 -0.035542  0.003051 -0.011114 -0.003381 -0.009535 -0.014992 -0.0\n",
      "BD908  -0.106393 -0.018588  0.019395 -0.018524  0.037914 -0.036979 -0.030765  0.000388 -0.004223  0.014099 ...   0.004038  0.032168 -0.105475  0.113742 -0.017603  0.032888  0.037789  0.045872 -0.004658 -0.0\n",
      "BD422  -0.086319 -0.087830 -0.007100 -0.009309 -0.018571 -0.029904 -0.001632 -0.008292 -0.000051  0.019545 ...   0.059090 -0.029017  0.000375  0.039517  0.048742 -0.039702 -0.012883  0.021756 -0.022279 -0.0\n",
      "BD488  -0.008018  0.035419 -0.040681 -0.011398 -0.060063 -0.041298  0.015399  0.029566 -0.047173 -0.054920 ...  -0.000901  0.005511  0.009181  0.010855 -0.018113 -0.004308 -0.017809  0.005367 -0.025131 -0.0\n",
      "BD859  -0.134474 -0.020642  0.030412 -0.005391 -0.001176  0.015352 -0.000690 -0.008540 -0.003345 -0.008679 ...  -0.053534 -0.062602  0.146012 -0.111150 -0.006544  0.061517  0.052175  0.014065  0.004786 -0.0\n",
      "BD810  -0.109426 -0.089925  0.009350  0.007802 -0.006668  0.021701  0.006028 -0.002546 -0.004373  0.011165 ...   0.033168 -0.097730 -0.057595  0.037102 -0.038569 -0.004130  0.016219  0.004068  0.003110 -0.0\n",
      "BD649   0.010793  0.033522 -0.024571  0.054963  0.001054 -0.035278 -0.005977  0.009955 -0.013468  0.006379 ...   0.001761  0.001457  0.005630 -0.002230 -0.000515  0.012206 -0.013690  0.001419  0.001892 -0.0\n",
      "BD71   -0.092926 -0.078185  0.010852 -0.000891 -0.009213 -0.015498 -0.019392  0.001142 -0.013057  0.021058 ...  -0.020473 -0.014894  0.027260  0.040705 -0.015147 -0.006814  0.016887 -0.027142  0.025372 -0.0\n",
      "BD865  -0.116817  0.071348  0.030845 -0.022906  0.012153  0.017921  0.010587 -0.007481 -0.001888 -0.016903 ...  -0.097374  0.097873  0.076809 -0.083588  0.030803  0.061792  0.024973 -0.038458  0.024774 -0.0\n",
      "BD432  -0.023305  0.094780  0.000499  0.006589  0.003343  0.047966  0.035620 -0.019918  0.010839 -0.006222 ...   0.021420  0.029646  0.002850  0.065851  0.003126 -0.029507 -0.014295  0.006098  0.006516 -0.0\n",
      "BD574  -0.113392 -0.012616  0.027880 -0.022937  0.028094 -0.003232 -0.015283  0.011361 -0.006891  0.013969 ...  -0.042107  0.057066  0.038215  0.022794  0.013838  0.064638  0.002698 -0.025159  0.009088 -0.0\n",
      "BD847  -0.024888  0.001201 -0.013388  0.026287 -0.016594 -0.001304 -0.011362  0.041733 -0.002430 -0.030960 ...   0.016781 -0.022175 -0.020876 -0.005365 -0.000709 -0.010705 -0.009173 -0.024284  0.001389 -0.0\n",
      "BD149  -0.106039  0.007442  0.007273 -0.032951  0.004483 -0.001647  0.015206 -0.012504  0.010928 -0.015796 ...   0.008984 -0.089868 -0.047303  0.025235  0.014661  0.017224 -0.005185 -0.022901 -0.017110 -0.0\n",
      "BD400  -0.052166  0.016587 -0.000126 -0.007815 -0.018660  0.009448 -0.016711 -0.011870  0.038638  0.005310 ...  -0.028469  0.026444 -0.028426  0.023021  0.045754  0.021113 -0.010185 -0.043774  0.019819 -0.0\n",
      "BD66    0.102316  0.083890  0.008448 -0.002715 -0.046653 -0.051970  0.102499  0.125506  0.045934  0.024729 ...  -0.018050  0.022445 -0.002000 -0.006641  0.004756  0.008935 -0.011119 -0.000793  0.003928 -0.0\n",
      "BD863   0.057716  0.089240  0.021440 -0.001542  0.166026 -0.078262 -0.004272  0.029621  0.011969  0.023068 ...  -0.014459  0.009823  0.004192 -0.014148  0.009055 -0.001277 -0.001855  0.000361  0.006165 -0.0\n",
      "BD579   0.101504 -0.042832 -0.040453  0.082149 -0.072373  0.046864  0.020009  0.020883 -0.035410 -0.100724 ...  -0.003732  0.000271  0.013935 -0.003066  0.002731 -0.009496  0.003409 -0.009395  0.010315 -0.0\n",
      "BD811   0.014470 -0.007748 -0.016018 -0.005699  0.004258  0.040903  0.025843  0.021502 -0.005260 -0.004246 ...  -0.017255  0.000280  0.036145 -0.017442  0.009270  0.001647  0.001609 -0.011934  0.010755 -0.0\n",
      "BD935  -0.141352  0.004289  0.036027 -0.032821 -0.011456  0.022843  0.002016  0.007509 -0.000540 -0.021021 ...   0.055812  0.055965 -0.228551  0.221379  0.031692  0.037880  0.063210 -0.014756 -0.006908 -0.0\n",
      "BD369  -0.126246  0.085020  0.026092 -0.042880  0.033912  0.017979 -0.023266 -0.002271 -0.014003 -0.012834 ...  -0.237307 -0.106849 -0.116388 -0.135799 -0.065422  0.077034 -0.037945 -0.008162 -0.007389 -0.0\n",
      "BD591   0.142896 -0.052384 -0.012452 -0.076185  0.093799 -0.103869 -0.085464  0.103781 -0.160873 -0.052386 ...   0.005291  0.015609 -0.008378  0.012252  0.001280 -0.008857  0.010086 -0.005924  0.003979 -0.0\n",
      "BD909  -0.129982 -0.003468  0.023800 -0.033987  0.019467  0.029069 -0.002006 -0.024279 -0.000452  0.025094 ...   0.153403 -0.073565  0.044114 -0.110261 -0.046301  0.145749  0.039364  0.001636 -0.036735 -0.0\n",
      "BD860   0.016502  0.138961 -0.015394 -0.073665 -0.006323 -0.057681 -0.008610 -0.010161 -0.067188 -0.055090 ...   0.011324 -0.010238  0.010239  0.004720  0.007426  0.007978 -0.019826  0.008334  0.006067 -0.0\n",
      "...          ...       ...       ...       ...       ...       ...       ...       ...       ...       ... ...        ...       ...       ...       ...       ...       ...       ...       ...       ...  ...\n",
      "BD1016  0.035514  0.062599 -0.003157  0.075074  0.067576  0.053443 -0.006091 -0.035827  0.063341  0.035671 ...   0.012169 -0.018019  0.022675 -0.012714 -0.034365  0.000614 -0.013738  0.005370 -0.014577 -0.0\n",
      "BD979  -0.023638  0.068605  0.033634  0.010410  0.010617  0.001509 -0.023173  0.015443 -0.000148 -0.022006 ...  -0.019454 -0.010374 -0.006144 -0.012562  0.002135 -0.006513  0.002059  0.005164 -0.003375 -0.0\n",
      "BD1011 -0.140092  0.027193  0.028347 -0.025830  0.039810  0.006764 -0.002550 -0.016338 -0.005473  0.022106 ...  -0.115472  0.171317  0.106210 -0.029370  0.249454 -0.033628  0.032327  0.005935  0.005482 -0.0\n",
      "BD1099 -0.150006 -0.019351  0.018519 -0.052573  0.036951 -0.015244 -0.024447  0.006624  0.003845  0.003127 ...  -0.089014 -0.013515 -0.005666 -0.016360 -0.378744  0.023437 -0.005927 -0.001480  0.003978 -0.0\n",
      "BD1048  0.090974 -0.024679  0.017221  0.120827  0.019455 -0.003062  0.042531  0.055159  0.093443  0.065426 ...   0.012354 -0.001250  0.008859 -0.014154 -0.006055  0.003641 -0.000561 -0.012646 -0.000115 -0.0\n",
      "BD1033  0.035296  0.052316 -0.018873  0.033922 -0.023703  0.062370  0.013329 -0.002823  0.004705 -0.000049 ...  -0.008947  0.049761 -0.026558  0.021677  0.009884  0.013312 -0.017202 -0.001861  0.001359 -0.0\n",
      "BD1090  0.004570 -0.057565 -0.042230  0.057009 -0.026341 -0.030698  0.018974 -0.009589 -0.011908 -0.032230 ...   0.000694 -0.018571  0.005410  0.008152  0.004053 -0.000773 -0.002956  0.004138  0.007248 -0.0\n",
      "BD984  -0.152489 -0.096669  0.030082 -0.015686 -0.021838  0.021643 -0.011691 -0.012661  0.014930  0.010604 ...   0.140058  0.261568 -0.241343 -0.293909 -0.010828  0.041026  0.124604 -0.022181 -0.019934 -0.0\n",
      "BD955   0.209176 -0.075115  0.056560 -0.178854  0.092883  0.000967  0.105981 -0.171300  0.154871 -0.205055 ...   0.008267 -0.014867 -0.006528  0.005650  0.010035 -0.000561 -0.002751  0.003699 -0.003875 -0.0\n",
      "BD1097 -0.105581  0.014131  0.001868 -0.016555  0.024606  0.027871 -0.010325 -0.005612 -0.006324 -0.014093 ...   0.063590 -0.002713  0.021790  0.091312 -0.002117 -0.030940  0.030064  0.038469  0.019173 -0.0\n",
      "BD983  -0.033346  0.111946 -0.014395 -0.019093  0.018725 -0.053357 -0.022932  0.000687 -0.011817 -0.022293 ...   0.014838  0.016105 -0.003718 -0.027554  0.007431  0.017573 -0.026257  0.001500  0.012722 -0.0\n",
      "BD1073 -0.031232 -0.073759 -0.037816  0.016785 -0.011292  0.006361 -0.011397 -0.021184 -0.009371 -0.008281 ...   0.004194 -0.012177  0.019353 -0.017785 -0.022468 -0.036308 -0.004560  0.018746 -0.003221 -0.0\n",
      "BD967  -0.015940 -0.032985  0.000601  0.063666 -0.008587  0.049151 -0.018822 -0.013710  0.000870  0.027083 ...  -0.025593 -0.041120 -0.007242 -0.024059 -0.003526 -0.019012 -0.013969 -0.002792  0.014247 -0.0\n",
      "BD1074 -0.004677  0.100286  0.011032  0.020384 -0.006519  0.009563 -0.012209 -0.000514 -0.003702 -0.069701 ...   0.019207  0.038788 -0.020194 -0.001448  0.006718 -0.014630  0.008589 -0.004276  0.002879 -0.0\n",
      "BD960  -0.094738  0.088645  0.033045 -0.009798 -0.009806  0.039904  0.018949 -0.037813  0.004189 -0.023163 ...   0.007512 -0.077431 -0.097418  0.004289  0.025997  0.015964  0.004890  0.028897 -0.030785 -0.0\n",
      "BD1006  0.025053 -0.055754 -0.037861 -0.016035 -0.032861 -0.019681 -0.085291  0.007494 -0.037471  0.010159 ...  -0.011606 -0.005676 -0.009036 -0.009308 -0.009182  0.008144 -0.000268 -0.017435  0.011395 -0.0\n",
      "BD1001  0.011498 -0.038289 -0.041829  0.001654 -0.024459  0.004726  0.024475 -0.040337  0.018207 -0.029909 ...   0.010809  0.018143  0.001672 -0.003991 -0.009696 -0.004015 -0.019470  0.004156  0.013363 -0.0\n",
      "BD1010  0.159296 -0.131217 -0.036034  0.064830  0.030704  0.198126  0.019194  0.084964  0.014841  0.175125 ...  -0.009281  0.005575 -0.002081 -0.002056  0.010480  0.014085  0.007459 -0.007132 -0.002282 -0.0\n",
      "BD1017  0.090831 -0.090131 -0.038307  0.081997  0.039257 -0.029978  0.079620 -0.009077  0.048048  0.075249 ...   0.007344  0.010072 -0.001066 -0.032303 -0.010180  0.005958  0.005046 -0.007157 -0.008813 -0.0\n",
      "BD1019  0.045663 -0.017491 -0.022866  0.067937 -0.019109  0.017046 -0.035030  0.025803 -0.002777 -0.055110 ...   0.005728  0.004728 -0.001964 -0.006835  0.011544 -0.006515 -0.006039 -0.001942  0.000210 -0.0\n",
      "BD971  -0.026549  0.038404  0.038349  0.010094 -0.000443  0.002890 -0.019105 -0.001299 -0.016353  0.015331 ...   0.004464  0.046460  0.010388  0.011132  0.026776 -0.028460 -0.025246 -0.002444  0.007619 -0.0\n",
      "BD1065  0.047339  0.080102 -0.015319  0.043791  0.035214 -0.021012 -0.024316 -0.038217  0.066556  0.043683 ...  -0.002066  0.002256  0.031207  0.016522  0.014582  0.002746  0.001385  0.001112  0.002219 -0.0\n",
      "BD976   0.002144  0.051151 -0.012771 -0.005027 -0.059390 -0.004089  0.051761  0.076730 -0.009706 -0.028270 ...   0.011795  0.000873  0.026875 -0.035990 -0.005300  0.011466 -0.019623 -0.000930 -0.017267 -0.0\n",
      "BD1062  0.001967 -0.059474 -0.012166  0.055112  0.001226  0.018209  0.033842  0.026634 -0.014703 -0.005361 ...  -0.016727  0.008746  0.002216 -0.005326  0.015587 -0.028754 -0.011057  0.014044 -0.005251 -0.0\n",
      "BD992   0.016974 -0.041371 -0.020636  0.059688 -0.029034 -0.041753  0.028387 -0.023639 -0.029707 -0.016234 ...   0.009902  0.007091 -0.007903  0.011378 -0.002011 -0.000369 -0.010280 -0.014612 -0.002140 -0.0\n",
      "BD1086 -0.096254  0.004649  0.026497 -0.026547 -0.015098 -0.012676  0.000743 -0.009386  0.004692 -0.022949 ...  -0.023054  0.093055  0.017381  0.010145  0.022903 -0.002109  0.002510 -0.003126 -0.001845 -0.0\n",
      "BD995   0.024443  0.021233 -0.023619  0.049233 -0.048688  0.000031 -0.008361 -0.036098  0.003883  0.009141 ...  -0.009330  0.012650  0.002565 -0.013792 -0.001414 -0.024026 -0.003908  0.004277  0.007481 -0.0\n",
      "BD1050  0.017406 -0.064006 -0.063696  0.053814 -0.034424 -0.020142  0.037733 -0.041576  0.010606  0.000296 ...  -0.015923 -0.015371 -0.034992 -0.019669  0.001229  0.009770 -0.002902 -0.018939  0.016778 -0.0\n",
      "BD1081 -0.139805 -0.082167  0.015175 -0.037975 -0.001965 -0.014992 -0.015037  0.007878 -0.009911  0.022877 ...   0.186439 -0.168352  0.104585 -0.042432  0.086004  0.037111  0.067196  0.059660  0.016641 -0.0\n",
      "BD1088 -0.072428  0.028144  0.009634  0.013352  0.008187  0.002319  0.010595 -0.014463 -0.002049  0.009629 ...   0.005328 -0.026599 -0.000202  0.016726 -0.028133  0.011112  0.003547  0.000676  0.010959 -0.0\n",
      "\n",
      "[150 rows x 150 columns]\n",
      "plotting\n",
      "('Healthy mean (PCo0):', -0.025329975297258178)\n",
      "('Patients mean (PCo0):', 0.015524823569287265)\n",
      "1995.0 0.005604906720804398\n",
      "('proportion explained: ', 0.02338312056676816)\n",
      "('Healthy mean (PCo1):', 0.0051857481353621716)\n",
      "('Patients mean (PCo1):', -0.0031783617603831525)\n",
      "2501.0 0.28199947741083725\n",
      "('proportion explained: ', 0.009154701328123209)\n",
      "('Healthy mean (PCo2):', -0.003172258427642641)\n",
      "('Patients mean (PCo2):', 0.001944287423393906)\n",
      "2500.0 0.280693081767475\n",
      "('proportion explained: ', 0.008192405257429366)\n",
      "('Healthy mean (PCo3):', -0.010818472756887638)\n",
      "('Patients mean (PCo3):', 0.006630676850995793)\n",
      "1863.0 0.0011550001745454061\n",
      "('proportion explained: ', 0.008098343038199165)\n",
      "('Healthy mean (PCo4):', 0.0024060447724752786)\n",
      "('Patients mean (PCo4):', -0.001474672602485045)\n",
      "2467.0 0.23929994505842322\n",
      "('proportion explained: ', 0.008026820778861637)\n",
      "('Healthy mean (PCo5):', -0.004852398081289504)\n",
      "('Patients mean (PCo5):', 0.002974050436919359)\n",
      "2415.0 0.18143903682866036\n",
      "('proportion explained: ', 0.007899868571016938)\n",
      "('Healthy mean (PCo6):', -0.012422304385319981)\n",
      "('Patients mean (PCo6):', 0.007613670429712378)\n",
      "2093.0 0.015516710393235069\n",
      "('proportion explained: ', 0.00781360059074899)\n",
      "('Healthy mean (PCo7):', 0.010364067838615782)\n",
      "('Patients mean (PCo7):', -0.006352170610764565)\n",
      "2258.0 0.06453471903185211\n",
      "('proportion explained: ', 0.007733026226646201)\n",
      "('Healthy mean (PCo8):', -0.001205162766216812)\n",
      "('Patients mean (PCo8):', 0.0007386481470359981)\n",
      "2294.0 0.08404090049540242\n",
      "('proportion explained: ', 0.007688927235502645)\n",
      "('Healthy mean (PCo9):', -0.00338858134569358)\n",
      "('Patients mean (PCo9):', 0.0020768724376830777)\n",
      "2593.0 0.4126638527059502\n",
      "('proportion explained: ', 0.007667539476646396)\n"
     ]
    },
    {
     "data": {
      "image/png": "[encoded data removed]",
      "text/plain": [
       "<matplotlib.figure.Figure at 0x7eff1a516210>"
      ]
     },
     "metadata": {},
     "output_type": "display_data"
    },
    {
     "data": {
      "image/png": "[encoded data removed]",
      "text/plain": [
       "<matplotlib.figure.Figure at 0x7eff1a3f6790>"
      ]
     },
     "metadata": {},
     "output_type": "display_data"
    }
   ],
   "source": [
    "df=sampleByClusterDF_binary_balanced\n",
    "metric='jaccard'\n",
    "sample_list_list=[('Healthy',PNP530_balancedAge_males),('Patients',Cardio126_balancedAge_males)]\n",
    "color_list=['grey','darkred']\n",
    "pcoa_n1_toplot=0\n",
    "pcoa_n2_toplot=3\n",
    "toScale=False,\n",
    "toAnnotate=False\n",
    "\n",
    "pcoa_df,fig,ax=calc_PCoA(df,metric,sample_list_list,color_list,pcoa_n1_toplot=0,pcoa_n2_toplot=1,toScale=False,\n",
    "             toAnnotate=False)\n",
    "\n",
    "plt.show()"
   ]
  },
  {
   "cell_type": "code",
   "execution_count": null,
   "metadata": {},
   "outputs": [],
   "source": [
    "#plot PCoA distributions:\n",
    "pcoa_n1_toplot=0\n",
    "sample_list1=PNP530_balancedAge_males\n",
    "sample_list2=Cardio126_balancedAge_males\n",
    "\n",
    "dataList=[('Healthy',pcoa_df.loc[sample_list1, pcoa_n1_toplot]),\n",
    "         ('Patients',pcoa_df.loc[sample_list2, pcoa_n1_toplot])]\n",
    "fig,ax=plt.subplots()\n",
    "title=''\n",
    "colorList=['grey','darkred']\n",
    "alpha=1\n",
    "text_kws={'fontsize':'large','fontweight':'bold','color':'red',\n",
    "                                'horizontalalignment':'left','verticalalignment':'top'}\n",
    "plotType='hist'\n",
    "\n",
    "\n",
    "\n",
    "ax,ks_p_cohort1_cohort2,t_p_cohort1_cohort2,p_Anov,filename=plotHistComprison(dataList,ax,title,showLegend=True,nBins=20,toAnnotate=True,\n",
    "                      colorList=colorList,alpha=alpha,\n",
    "                      text_kws=text_kws,plotType=plotType)\n",
    "\n",
    "plt.show()"
   ]
  },
  {
   "cell_type": "code",
   "execution_count": 24,
   "metadata": {
    "ExecuteTime": {
     "end_time": "2019-03-12T14:26:54.382473Z",
     "start_time": "2019-03-12T14:26:02.435948Z"
    }
   },
   "outputs": [
    {
     "name": "stdout",
     "output_type": "stream",
     "text": [
      "generating distance matrix...\n",
      "generating condensed distance matrix using jaccard\n",
      "top similar pairs:\n",
      "          dist sample1 sample2\n",
      "763   0.798177    BD27   BD124\n",
      "814   0.800100    BD27  BD1083\n",
      "769   0.813734    BD27   BD106\n",
      "4510  0.815050   BD124   BD106\n",
      "4555  0.816545   BD124  BD1083\n",
      "776   0.819343    BD27   BD150\n",
      "856   0.819679    BD27   BD984\n",
      "9136  0.823167  BD1083   BD984\n",
      "5224  0.824113   BD106  BD1083\n",
      "5959  0.824178   BD150  BD1083\n",
      "generating squareform distance matrix using jaccard\n",
      "calculate PCoA\n",
      "             0         1         2         3         4         5         6         7         8         9   ...        140       141       142       143       144       145       146       147       148  149\n",
      "BD801  -0.084166 -0.018515  0.004126 -0.010947  0.052520 -0.004264 -0.032504  0.015681 -0.000561  0.016503 ...   0.052695 -0.020790  0.005890 -0.063313  0.006901 -0.005874 -0.026643  0.028642 -0.005200 -0.0\n",
      "BD221  -0.119322 -0.001487  0.026497 -0.026498  0.035686 -0.012056 -0.025276  0.000241  0.004264 -0.011048 ...   0.019194 -0.094484  0.044772 -0.096070  0.162971  0.014707  0.046064  0.010922  0.012869 -0.0\n",
      "BD631   0.094230  0.080540 -0.024428  0.028280  0.006155 -0.030294 -0.144339  0.066039 -0.079760 -0.059380 ...   0.016634  0.013048 -0.016050  0.007537  0.006011  0.018608 -0.017460 -0.003814  0.010317 -0.0\n",
      "BD441  -0.023516  0.085471 -0.002834  0.033421  0.013378  0.038440  0.013606 -0.041852 -0.016782  0.028365 ...   0.050420  0.003626 -0.017165  0.015844 -0.030714 -0.011666  0.030536  0.015570 -0.012951 -0.0\n",
      "BD834  -0.062587 -0.090468 -0.008679 -0.004084 -0.035985 -0.061990 -0.015979 -0.013307  0.029693 -0.009026 ...  -0.067978 -0.005749  0.009721  0.004245  0.032581  0.003254 -0.000395 -0.004060 -0.004152 -0.0\n",
      "BD27   -0.214686 -0.057852  0.067573 -0.057665  0.001272  0.021112 -0.010364 -0.007297  0.022266  0.024233 ...   0.047087  0.028451 -0.021422  0.002195  0.002244 -0.025870 -0.223859 -0.073920  0.459516 -0.0\n",
      "BD339  -0.058237  0.035370  0.025839  0.005855 -0.011600  0.020158  0.002439  0.022352  0.031540  0.019628 ...   0.024730 -0.026864  0.013949  0.001903  0.011621 -0.036454  0.008446  0.009935  0.015123 -0.0\n",
      "BD600  -0.056669 -0.074659 -0.021182 -0.007287 -0.039515 -0.002842 -0.053792  0.014500 -0.025895 -0.005847 ...  -0.006376 -0.031747  0.060068 -0.035542  0.003051 -0.011114 -0.003381 -0.009535 -0.014992 -0.0\n",
      "BD908  -0.106393 -0.018588  0.019395 -0.018524  0.037914 -0.036979 -0.030765  0.000388 -0.004223  0.014099 ...   0.004038  0.032168 -0.105475  0.113742 -0.017603  0.032888  0.037789  0.045872 -0.004658 -0.0\n",
      "BD422  -0.086319 -0.087830 -0.007100 -0.009309 -0.018571 -0.029904 -0.001632 -0.008292 -0.000051  0.019545 ...   0.059090 -0.029017  0.000375  0.039517  0.048742 -0.039702 -0.012883  0.021756 -0.022279 -0.0\n",
      "BD488  -0.008018  0.035419 -0.040681 -0.011398 -0.060063 -0.041298  0.015399  0.029566 -0.047173 -0.054920 ...  -0.000901  0.005511  0.009181  0.010855 -0.018113 -0.004308 -0.017809  0.005367 -0.025131 -0.0\n",
      "BD859  -0.134474 -0.020642  0.030412 -0.005391 -0.001176  0.015352 -0.000690 -0.008540 -0.003345 -0.008679 ...  -0.053534 -0.062602  0.146012 -0.111150 -0.006544  0.061517  0.052175  0.014065  0.004786 -0.0\n",
      "BD810  -0.109426 -0.089925  0.009350  0.007802 -0.006668  0.021701  0.006028 -0.002546 -0.004373  0.011165 ...   0.033168 -0.097730 -0.057595  0.037102 -0.038569 -0.004130  0.016219  0.004068  0.003110 -0.0\n",
      "BD649   0.010793  0.033522 -0.024571  0.054963  0.001054 -0.035278 -0.005977  0.009955 -0.013468  0.006379 ...   0.001761  0.001457  0.005630 -0.002230 -0.000515  0.012206 -0.013690  0.001419  0.001892 -0.0\n",
      "BD71   -0.092926 -0.078185  0.010852 -0.000891 -0.009213 -0.015498 -0.019392  0.001142 -0.013057  0.021058 ...  -0.020473 -0.014894  0.027260  0.040705 -0.015147 -0.006814  0.016887 -0.027142  0.025372 -0.0\n",
      "BD865  -0.116817  0.071348  0.030845 -0.022906  0.012153  0.017921  0.010587 -0.007481 -0.001888 -0.016903 ...  -0.097374  0.097873  0.076809 -0.083588  0.030803  0.061792  0.024973 -0.038458  0.024774 -0.0\n",
      "BD432  -0.023305  0.094780  0.000499  0.006589  0.003343  0.047966  0.035620 -0.019918  0.010839 -0.006222 ...   0.021420  0.029646  0.002850  0.065851  0.003126 -0.029507 -0.014295  0.006098  0.006516 -0.0\n",
      "BD574  -0.113392 -0.012616  0.027880 -0.022937  0.028094 -0.003232 -0.015283  0.011361 -0.006891  0.013969 ...  -0.042107  0.057066  0.038215  0.022794  0.013838  0.064638  0.002698 -0.025159  0.009088 -0.0\n",
      "BD847  -0.024888  0.001201 -0.013388  0.026287 -0.016594 -0.001304 -0.011362  0.041733 -0.002430 -0.030960 ...   0.016781 -0.022175 -0.020876 -0.005365 -0.000709 -0.010705 -0.009173 -0.024284  0.001389 -0.0\n",
      "BD149  -0.106039  0.007442  0.007273 -0.032951  0.004483 -0.001647  0.015206 -0.012504  0.010928 -0.015796 ...   0.008984 -0.089868 -0.047303  0.025235  0.014661  0.017224 -0.005185 -0.022901 -0.017110 -0.0\n",
      "BD400  -0.052166  0.016587 -0.000126 -0.007815 -0.018660  0.009448 -0.016711 -0.011870  0.038638  0.005310 ...  -0.028469  0.026444 -0.028426  0.023021  0.045754  0.021113 -0.010185 -0.043774  0.019819 -0.0\n",
      "BD66    0.102316  0.083890  0.008448 -0.002715 -0.046653 -0.051970  0.102499  0.125506  0.045934  0.024729 ...  -0.018050  0.022445 -0.002000 -0.006641  0.004756  0.008935 -0.011119 -0.000793  0.003928 -0.0\n",
      "BD863   0.057716  0.089240  0.021440 -0.001542  0.166026 -0.078262 -0.004272  0.029621  0.011969  0.023068 ...  -0.014459  0.009823  0.004192 -0.014148  0.009055 -0.001277 -0.001855  0.000361  0.006165 -0.0\n",
      "BD579   0.101504 -0.042832 -0.040453  0.082149 -0.072373  0.046864  0.020009  0.020883 -0.035410 -0.100724 ...  -0.003732  0.000271  0.013935 -0.003066  0.002731 -0.009496  0.003409 -0.009395  0.010315 -0.0\n",
      "BD811   0.014470 -0.007748 -0.016018 -0.005699  0.004258  0.040903  0.025843  0.021502 -0.005260 -0.004246 ...  -0.017255  0.000280  0.036145 -0.017442  0.009270  0.001647  0.001609 -0.011934  0.010755 -0.0\n",
      "BD935  -0.141352  0.004289  0.036027 -0.032821 -0.011456  0.022843  0.002016  0.007509 -0.000540 -0.021021 ...   0.055812  0.055965 -0.228551  0.221379  0.031692  0.037880  0.063210 -0.014756 -0.006908 -0.0\n",
      "BD369  -0.126246  0.085020  0.026092 -0.042880  0.033912  0.017979 -0.023266 -0.002271 -0.014003 -0.012834 ...  -0.237307 -0.106849 -0.116388 -0.135799 -0.065422  0.077034 -0.037945 -0.008162 -0.007389 -0.0\n",
      "BD591   0.142896 -0.052384 -0.012452 -0.076185  0.093799 -0.103869 -0.085464  0.103781 -0.160873 -0.052386 ...   0.005291  0.015609 -0.008378  0.012252  0.001280 -0.008857  0.010086 -0.005924  0.003979 -0.0\n",
      "BD909  -0.129982 -0.003468  0.023800 -0.033987  0.019467  0.029069 -0.002006 -0.024279 -0.000452  0.025094 ...   0.153403 -0.073565  0.044114 -0.110261 -0.046301  0.145749  0.039364  0.001636 -0.036735 -0.0\n",
      "BD860   0.016502  0.138961 -0.015394 -0.073665 -0.006323 -0.057681 -0.008610 -0.010161 -0.067188 -0.055090 ...   0.011324 -0.010238  0.010239  0.004720  0.007426  0.007978 -0.019826  0.008334  0.006067 -0.0\n",
      "...          ...       ...       ...       ...       ...       ...       ...       ...       ...       ... ...        ...       ...       ...       ...       ...       ...       ...       ...       ...  ...\n",
      "BD1016  0.035514  0.062599 -0.003157  0.075074  0.067576  0.053443 -0.006091 -0.035827  0.063341  0.035671 ...   0.012169 -0.018019  0.022675 -0.012714 -0.034365  0.000614 -0.013738  0.005370 -0.014577 -0.0\n",
      "BD979  -0.023638  0.068605  0.033634  0.010410  0.010617  0.001509 -0.023173  0.015443 -0.000148 -0.022006 ...  -0.019454 -0.010374 -0.006144 -0.012562  0.002135 -0.006513  0.002059  0.005164 -0.003375 -0.0\n",
      "BD1011 -0.140092  0.027193  0.028347 -0.025830  0.039810  0.006764 -0.002550 -0.016338 -0.005473  0.022106 ...  -0.115472  0.171317  0.106210 -0.029370  0.249454 -0.033628  0.032327  0.005935  0.005482 -0.0\n",
      "BD1099 -0.150006 -0.019351  0.018519 -0.052573  0.036951 -0.015244 -0.024447  0.006624  0.003845  0.003127 ...  -0.089014 -0.013515 -0.005666 -0.016360 -0.378744  0.023437 -0.005927 -0.001480  0.003978 -0.0\n",
      "BD1048  0.090974 -0.024679  0.017221  0.120827  0.019455 -0.003062  0.042531  0.055159  0.093443  0.065426 ...   0.012354 -0.001250  0.008859 -0.014154 -0.006055  0.003641 -0.000561 -0.012646 -0.000115 -0.0\n",
      "BD1033  0.035296  0.052316 -0.018873  0.033922 -0.023703  0.062370  0.013329 -0.002823  0.004705 -0.000049 ...  -0.008947  0.049761 -0.026558  0.021677  0.009884  0.013312 -0.017202 -0.001861  0.001359 -0.0\n",
      "BD1090  0.004570 -0.057565 -0.042230  0.057009 -0.026341 -0.030698  0.018974 -0.009589 -0.011908 -0.032230 ...   0.000694 -0.018571  0.005410  0.008152  0.004053 -0.000773 -0.002956  0.004138  0.007248 -0.0\n",
      "BD984  -0.152489 -0.096669  0.030082 -0.015686 -0.021838  0.021643 -0.011691 -0.012661  0.014930  0.010604 ...   0.140058  0.261568 -0.241343 -0.293909 -0.010828  0.041026  0.124604 -0.022181 -0.019934 -0.0\n",
      "BD955   0.209176 -0.075115  0.056560 -0.178854  0.092883  0.000967  0.105981 -0.171300  0.154871 -0.205055 ...   0.008267 -0.014867 -0.006528  0.005650  0.010035 -0.000561 -0.002751  0.003699 -0.003875 -0.0\n",
      "BD1097 -0.105581  0.014131  0.001868 -0.016555  0.024606  0.027871 -0.010325 -0.005612 -0.006324 -0.014093 ...   0.063590 -0.002713  0.021790  0.091312 -0.002117 -0.030940  0.030064  0.038469  0.019173 -0.0\n",
      "BD983  -0.033346  0.111946 -0.014395 -0.019093  0.018725 -0.053357 -0.022932  0.000687 -0.011817 -0.022293 ...   0.014838  0.016105 -0.003718 -0.027554  0.007431  0.017573 -0.026257  0.001500  0.012722 -0.0\n",
      "BD1073 -0.031232 -0.073759 -0.037816  0.016785 -0.011292  0.006361 -0.011397 -0.021184 -0.009371 -0.008281 ...   0.004194 -0.012177  0.019353 -0.017785 -0.022468 -0.036308 -0.004560  0.018746 -0.003221 -0.0\n",
      "BD967  -0.015940 -0.032985  0.000601  0.063666 -0.008587  0.049151 -0.018822 -0.013710  0.000870  0.027083 ...  -0.025593 -0.041120 -0.007242 -0.024059 -0.003526 -0.019012 -0.013969 -0.002792  0.014247 -0.0\n",
      "BD1074 -0.004677  0.100286  0.011032  0.020384 -0.006519  0.009563 -0.012209 -0.000514 -0.003702 -0.069701 ...   0.019207  0.038788 -0.020194 -0.001448  0.006718 -0.014630  0.008589 -0.004276  0.002879 -0.0\n",
      "BD960  -0.094738  0.088645  0.033045 -0.009798 -0.009806  0.039904  0.018949 -0.037813  0.004189 -0.023163 ...   0.007512 -0.077431 -0.097418  0.004289  0.025997  0.015964  0.004890  0.028897 -0.030785 -0.0\n",
      "BD1006  0.025053 -0.055754 -0.037861 -0.016035 -0.032861 -0.019681 -0.085291  0.007494 -0.037471  0.010159 ...  -0.011606 -0.005676 -0.009036 -0.009308 -0.009182  0.008144 -0.000268 -0.017435  0.011395 -0.0\n",
      "BD1001  0.011498 -0.038289 -0.041829  0.001654 -0.024459  0.004726  0.024475 -0.040337  0.018207 -0.029909 ...   0.010809  0.018143  0.001672 -0.003991 -0.009696 -0.004015 -0.019470  0.004156  0.013363 -0.0\n",
      "BD1010  0.159296 -0.131217 -0.036034  0.064830  0.030704  0.198126  0.019194  0.084964  0.014841  0.175125 ...  -0.009281  0.005575 -0.002081 -0.002056  0.010480  0.014085  0.007459 -0.007132 -0.002282 -0.0\n",
      "BD1017  0.090831 -0.090131 -0.038307  0.081997  0.039257 -0.029978  0.079620 -0.009077  0.048048  0.075249 ...   0.007344  0.010072 -0.001066 -0.032303 -0.010180  0.005958  0.005046 -0.007157 -0.008813 -0.0\n",
      "BD1019  0.045663 -0.017491 -0.022866  0.067937 -0.019109  0.017046 -0.035030  0.025803 -0.002777 -0.055110 ...   0.005728  0.004728 -0.001964 -0.006835  0.011544 -0.006515 -0.006039 -0.001942  0.000210 -0.0\n",
      "BD971  -0.026549  0.038404  0.038349  0.010094 -0.000443  0.002890 -0.019105 -0.001299 -0.016353  0.015331 ...   0.004464  0.046460  0.010388  0.011132  0.026776 -0.028460 -0.025246 -0.002444  0.007619 -0.0\n",
      "BD1065  0.047339  0.080102 -0.015319  0.043791  0.035214 -0.021012 -0.024316 -0.038217  0.066556  0.043683 ...  -0.002066  0.002256  0.031207  0.016522  0.014582  0.002746  0.001385  0.001112  0.002219 -0.0\n",
      "BD976   0.002144  0.051151 -0.012771 -0.005027 -0.059390 -0.004089  0.051761  0.076730 -0.009706 -0.028270 ...   0.011795  0.000873  0.026875 -0.035990 -0.005300  0.011466 -0.019623 -0.000930 -0.017267 -0.0\n",
      "BD1062  0.001967 -0.059474 -0.012166  0.055112  0.001226  0.018209  0.033842  0.026634 -0.014703 -0.005361 ...  -0.016727  0.008746  0.002216 -0.005326  0.015587 -0.028754 -0.011057  0.014044 -0.005251 -0.0\n",
      "BD992   0.016974 -0.041371 -0.020636  0.059688 -0.029034 -0.041753  0.028387 -0.023639 -0.029707 -0.016234 ...   0.009902  0.007091 -0.007903  0.011378 -0.002011 -0.000369 -0.010280 -0.014612 -0.002140 -0.0\n",
      "BD1086 -0.096254  0.004649  0.026497 -0.026547 -0.015098 -0.012676  0.000743 -0.009386  0.004692 -0.022949 ...  -0.023054  0.093055  0.017381  0.010145  0.022903 -0.002109  0.002510 -0.003126 -0.001845 -0.0\n",
      "BD995   0.024443  0.021233 -0.023619  0.049233 -0.048688  0.000031 -0.008361 -0.036098  0.003883  0.009141 ...  -0.009330  0.012650  0.002565 -0.013792 -0.001414 -0.024026 -0.003908  0.004277  0.007481 -0.0\n",
      "BD1050  0.017406 -0.064006 -0.063696  0.053814 -0.034424 -0.020142  0.037733 -0.041576  0.010606  0.000296 ...  -0.015923 -0.015371 -0.034992 -0.019669  0.001229  0.009770 -0.002902 -0.018939  0.016778 -0.0\n",
      "BD1081 -0.139805 -0.082167  0.015175 -0.037975 -0.001965 -0.014992 -0.015037  0.007878 -0.009911  0.022877 ...   0.186439 -0.168352  0.104585 -0.042432  0.086004  0.037111  0.067196  0.059660  0.016641 -0.0\n",
      "BD1088 -0.072428  0.028144  0.009634  0.013352  0.008187  0.002319  0.010595 -0.014463 -0.002049  0.009629 ...   0.005328 -0.026599 -0.000202  0.016726 -0.028133  0.011112  0.003547  0.000676  0.010959 -0.0\n",
      "\n",
      "[150 rows x 150 columns]\n",
      "plotting\n",
      "('Healthy mean (PCo0):', -0.025329975297258178)\n",
      "('Patients mean (PCo0):', 0.015524823569287265)\n",
      "1995.0 0.005604906720804398\n",
      "('proportion explained: ', 0.02338312056676816)\n",
      "('Healthy mean (PCo1):', 0.0051857481353621716)\n",
      "('Patients mean (PCo1):', -0.0031783617603831525)\n",
      "2501.0 0.28199947741083725\n",
      "('proportion explained: ', 0.009154701328123209)\n",
      "('Healthy mean (PCo2):', -0.003172258427642641)\n",
      "('Patients mean (PCo2):', 0.001944287423393906)\n",
      "2500.0 0.280693081767475\n",
      "('proportion explained: ', 0.008192405257429366)\n",
      "('Healthy mean (PCo3):', -0.010818472756887638)\n",
      "('Patients mean (PCo3):', 0.006630676850995793)\n",
      "1863.0 0.0011550001745454061\n",
      "('proportion explained: ', 0.008098343038199165)\n",
      "('Healthy mean (PCo4):', 0.0024060447724752786)\n",
      "('Patients mean (PCo4):', -0.001474672602485045)\n",
      "2467.0 0.23929994505842322\n",
      "('proportion explained: ', 0.008026820778861637)\n",
      "('Healthy mean (PCo5):', -0.004852398081289504)\n",
      "('Patients mean (PCo5):', 0.002974050436919359)\n",
      "2415.0 0.18143903682866036\n",
      "('proportion explained: ', 0.007899868571016938)\n",
      "('Healthy mean (PCo6):', -0.012422304385319981)\n",
      "('Patients mean (PCo6):', 0.007613670429712378)\n",
      "2093.0 0.015516710393235069\n",
      "('proportion explained: ', 0.00781360059074899)\n",
      "('Healthy mean (PCo7):', 0.010364067838615782)\n",
      "('Patients mean (PCo7):', -0.006352170610764565)\n",
      "2258.0 0.06453471903185211\n",
      "('proportion explained: ', 0.007733026226646201)\n",
      "('Healthy mean (PCo8):', -0.001205162766216812)\n",
      "('Patients mean (PCo8):', 0.0007386481470359981)\n",
      "2294.0 0.08404090049540242\n",
      "('proportion explained: ', 0.007688927235502645)\n",
      "('Healthy mean (PCo9):', -0.00338858134569358)\n",
      "('Patients mean (PCo9):', 0.0020768724376830777)\n",
      "2593.0 0.4126638527059502\n",
      "('proportion explained: ', 0.007667539476646396)\n"
     ]
    },
    {
     "data": {
      "image/png": "[encoded data removed]",
      "text/plain": [
       "<matplotlib.figure.Figure at 0x7eff1a282f50>"
      ]
     },
     "metadata": {},
     "output_type": "display_data"
    }
   ],
   "source": [
    "df=sampleByClusterDF_binary_balanced\n",
    "metric='jaccard'\n",
    "sample_list_list=[('Healthy',PNP530_balancedAge_males),('Patients',Cardio126_balancedAge_males)]\n",
    "color_list=['grey','darkred']\n",
    "pcoa_n1_toplot=0\n",
    "pcoa_n2_toplot=6\n",
    "toScale=False,\n",
    "toAnnotate=False\n",
    "\n",
    "pcoa_df,fig,ax=calc_PCoA(df,metric,sample_list_list,color_list,pcoa_n1_toplot=0,pcoa_n2_toplot=1,toScale=False,\n",
    "             toAnnotate=False)\n",
    "\n",
    "plt.show()"
   ]
  },
  {
   "cell_type": "code",
   "execution_count": 25,
   "metadata": {
    "ExecuteTime": {
     "end_time": "2019-03-12T14:28:14.708360Z",
     "start_time": "2019-03-12T14:27:49.565451Z"
    }
   },
   "outputs": [
    {
     "name": "stdout",
     "output_type": "stream",
     "text": [
      "generating distance matrix...\n",
      "generating condensed distance matrix using dice\n",
      "top similar pairs:\n",
      "          dist sample1 sample2\n",
      "763   0.664138    BD27   BD124\n",
      "814   0.666806    BD27  BD1083\n",
      "769   0.685963    BD27   BD106\n",
      "4510  0.687835   BD124   BD106\n",
      "4555  0.689968   BD124  BD1083\n",
      "776   0.693973    BD27   BD150\n",
      "856   0.694454    BD27   BD984\n",
      "9136  0.699476  BD1083   BD984\n",
      "5224  0.700843   BD106  BD1083\n",
      "5959  0.700938   BD150  BD1083\n",
      "generating squareform distance matrix using dice\n",
      "calculate PCoA\n",
      "             0         1         2         3         4         5         6         7         8         9   ...        140       141       142       143       144       145       146       147       148  149\n",
      "BD801   0.095376  0.020576  0.002265 -0.039258  0.027317 -0.001880  0.035193  0.014203 -0.006491  0.017041 ...   0.047146 -0.025295  0.022365 -0.051182  0.000669 -0.004018 -0.023524  0.024230 -0.005079  0.0\n",
      "BD221   0.129115  0.001359 -0.010585 -0.017985  0.041757  0.000319  0.031509 -0.002574  0.004117 -0.009799 ...   0.016828 -0.074292 -0.000651 -0.113807  0.130315  0.008131  0.037609  0.009883  0.011334  0.0\n",
      "BD631  -0.103791 -0.084923  0.007761 -0.022726 -0.042277  0.040340  0.133259  0.049589 -0.084426 -0.073844 ...   0.017319  0.009179  0.009225  0.013183  0.007660  0.017766 -0.016432 -0.004577  0.010171  0.0\n",
      "BD441   0.031027 -0.080715 -0.007189 -0.027919 -0.029146 -0.025923 -0.019625 -0.040757 -0.015744  0.027860 ...   0.046558 -0.003086  0.008332  0.026793 -0.024720 -0.009624  0.026057  0.016452 -0.012621  0.0\n",
      "BD834   0.072537  0.088914  0.000796  0.045544  0.007351  0.058254  0.016869 -0.008568  0.026054 -0.001196 ...  -0.059716 -0.001693 -0.008226 -0.007938  0.028132  0.004132  0.001170 -0.003659 -0.003408  0.0\n",
      "BD27    0.226741  0.049219 -0.028977  0.024694  0.052020 -0.034672  0.019014 -0.008375  0.019108  0.025574 ...   0.043788  0.012309  0.015543  0.011897 -0.003339 -0.014037 -0.181023 -0.064517  0.380599  0.0\n",
      "BD339   0.067730 -0.035419 -0.022734  0.009758 -0.001865 -0.023420  0.000916  0.024091  0.027384  0.020848 ...   0.023184 -0.029090 -0.009671 -0.004367  0.010411 -0.029901  0.006649  0.009336  0.012925  0.0\n",
      "BD600   0.065146  0.072368  0.016161  0.041128 -0.018300 -0.000524  0.050891  0.008135 -0.028183 -0.017367 ...  -0.005838 -0.023943 -0.031891 -0.054604 -0.006025 -0.009269 -0.002610 -0.006121 -0.014598  0.0\n",
      "BD908   0.116999  0.018182 -0.010710 -0.018588  0.039556  0.025730  0.030977 -0.000634 -0.012392  0.007225 ...   0.000181  0.024984  0.030923  0.134921 -0.005437  0.023613  0.032131  0.040898 -0.006323  0.0\n",
      "BD422   0.095351  0.085885  0.005308  0.028086  0.010323  0.021999  0.001330 -0.004133 -0.004443  0.011432 ...   0.045825 -0.037495 -0.017197  0.025864  0.041118 -0.032914 -0.012999  0.019595 -0.020001  0.0\n",
      "BD488   0.013614 -0.033368  0.032535  0.051629 -0.007802  0.030831 -0.013124  0.019034 -0.033512 -0.040515 ...  -0.000282  0.005147 -0.011365  0.008019 -0.017323 -0.002804 -0.015368  0.004716 -0.023292  0.0\n",
      "BD859   0.145944  0.020507 -0.023355  0.004714  0.007383 -0.017368  0.002030 -0.010938 -0.000119 -0.006406 ...  -0.049301 -0.034120 -0.059109 -0.140668 -0.020380  0.048362  0.042876  0.013581  0.002405  0.0\n",
      "BD810   0.120259  0.087750 -0.012753  0.008305 -0.008863 -0.022092 -0.007602 -0.003037 -0.005062  0.009026 ...   0.017400 -0.090790  0.028043  0.051287 -0.029708 -0.002585  0.012782  0.007133  0.000664  0.0\n",
      "BD649  -0.006469 -0.030732 -0.005448 -0.018539 -0.039351  0.051775 -0.004383  0.010705 -0.017887 -0.000090 ...   0.000588  0.003723 -0.003815 -0.003858 -0.002710  0.011790 -0.011910  0.001589  0.001082  0.0\n",
      "BD71    0.102454  0.075436 -0.013185  0.017918  0.004336  0.010317  0.016049  0.001514 -0.019211  0.011954 ...  -0.018671 -0.013554 -0.038686  0.020119 -0.011467 -0.004525  0.017794 -0.019987  0.022137  0.0\n",
      "BD865   0.127288 -0.067862 -0.012779 -0.003031  0.027372 -0.024111 -0.004959 -0.011795  0.003897 -0.015231 ...  -0.064717  0.102241 -0.029386 -0.087428  0.028190  0.050121  0.023930 -0.035655  0.022143  0.0\n",
      "BD432   0.028987 -0.089789 -0.000285 -0.013181 -0.008151 -0.043411 -0.033404 -0.019747  0.021529 -0.006093 ...   0.020318  0.018742 -0.035217  0.051593  0.006905 -0.025503 -0.013521  0.004477  0.006702  0.0\n",
      "BD574   0.123040  0.010550 -0.012716 -0.011390  0.032419 -0.005154  0.015349  0.010652 -0.012756 -0.001931 ...  -0.031721  0.045831 -0.040057  0.000719  0.008318  0.051064  0.007458 -0.020800  0.008291  0.0\n",
      "BD847   0.032583  0.001292 -0.004240  0.004247 -0.023788  0.002401  0.011076  0.037559 -0.002520 -0.022974 ...   0.012383 -0.022553  0.018623  0.005300 -0.001349 -0.009043 -0.006904 -0.021008  0.000994  0.0\n",
      "BD149   0.115838 -0.006853  0.010671  0.007734  0.030647 -0.005524 -0.009239 -0.014407  0.014858 -0.018610 ...  -0.003351 -0.079232  0.021394  0.034539  0.009587  0.015396 -0.003928 -0.018528 -0.014216  0.0\n",
      "BD400   0.058486 -0.016406  0.004348  0.020594 -0.006612 -0.003244  0.018178 -0.008042  0.034360  0.010471 ...  -0.021834  0.025306  0.008337  0.027998  0.045941  0.018347 -0.005198 -0.039194  0.018965  0.0\n",
      "BD66   -0.113266 -0.093967 -0.007198  0.039640  0.011404  0.045608 -0.099274  0.138419  0.024980 -0.015432 ...  -0.014601  0.025334  0.003559 -0.003340  0.004741  0.008573 -0.010558 -0.002140  0.003812  0.0\n",
      "BD863  -0.060195 -0.088302 -0.015057 -0.144366  0.090256  0.062200  0.010350  0.029502 -0.006986  0.003665 ...  -0.012766  0.011178  0.001205 -0.014979  0.006717 -0.001735 -0.000650 -0.000145  0.006162  0.0\n",
      "BD579  -0.112966  0.044884 -0.001907  0.026144 -0.127490 -0.013872 -0.042429  0.011092 -0.014526 -0.120175 ...  -0.003003  0.002747 -0.009351 -0.008203  0.001354 -0.009153  0.004114 -0.008184  0.009964  0.0\n",
      "BD811  -0.010254  0.010882  0.015691 -0.002293  0.010679 -0.052434 -0.016092  0.011202  0.005986  0.004904 ...  -0.015523  0.003829 -0.021009 -0.032374  0.004310  0.001750  0.002690 -0.010948  0.009918  0.0\n",
      "BD935   0.152278 -0.004745 -0.014653  0.024186  0.025880 -0.034033  0.003220  0.000570  0.005055 -0.020952 ...   0.033118  0.021593  0.075758  0.248629  0.056443  0.025177  0.050397 -0.012377 -0.004638  0.0\n",
      "BD369   0.137265 -0.080525  0.002554 -0.017314  0.040118 -0.026165  0.027966 -0.009630 -0.011792 -0.017990 ...  -0.209720 -0.051102  0.146476 -0.055299 -0.063311  0.070233 -0.028091 -0.011214 -0.007252  0.0\n",
      "BD591  -0.164209  0.053469  0.041886 -0.052977  0.097860  0.081922  0.095141  0.082814 -0.182086 -0.094284 ...   0.006366  0.012104  0.001082  0.015170  0.002719 -0.009542  0.010026 -0.004935  0.004024  0.0\n",
      "BD909   0.141789  0.001805  0.000201 -0.004480  0.025238 -0.033653  0.003145 -0.025078 -0.004422  0.016666 ...   0.129274 -0.073018  0.013685 -0.099946 -0.046314  0.126591  0.035142  0.002810 -0.032477  0.0\n",
      "BD860  -0.014456 -0.139544  0.043509  0.025100  0.059863  0.033278  0.011216 -0.022596 -0.053545 -0.059121 ...   0.007979 -0.011422 -0.011572 -0.003508  0.008291  0.008972 -0.017857  0.006104  0.005899  0.0\n",
      "...          ...       ...       ...       ...       ...       ...       ...       ...       ...       ... ...        ...       ...       ...       ...       ...       ...       ...       ...       ...  ...\n",
      "BD1016 -0.035006 -0.057705 -0.021332 -0.091908 -0.047972 -0.021791  0.000583 -0.025242  0.058132  0.039726 ...   0.011048 -0.016892 -0.009674 -0.019068 -0.034368  0.002030 -0.012283  0.005030 -0.013280  0.0\n",
      "BD979   0.030608 -0.063777 -0.035000 -0.006065  0.013574 -0.009169  0.027539  0.007647  0.004097 -0.016033 ...  -0.019895 -0.006186  0.010518 -0.008924  0.000298 -0.004859  0.001751  0.003946 -0.003202  0.0\n",
      "BD1011  0.150853 -0.026722 -0.009006 -0.024862  0.035583 -0.009574  0.004636 -0.015063 -0.009278  0.017723 ...  -0.078144  0.160470 -0.081932 -0.073557  0.202672 -0.035024  0.023353  0.003661  0.006108  0.0\n",
      "BD1099  0.161306  0.017665  0.010175 -0.012320  0.055051  0.003461  0.030107  0.004494  0.000125 -0.001973 ...  -0.069314  0.011292  0.019761  0.011009 -0.314210  0.022173 -0.001323 -0.000778  0.004468  0.0\n",
      "BD1048 -0.098537  0.025501 -0.065316 -0.053911 -0.082059  0.040651 -0.058192  0.078907  0.061490  0.023646 ...   0.013834 -0.002941  0.000155 -0.014829 -0.006124  0.003721 -0.000055 -0.011837  0.000064  0.0\n",
      "BD1033 -0.035394 -0.048801  0.004798  0.002322 -0.044769 -0.048715 -0.015604 -0.006845  0.012758  0.014880 ...  -0.005196  0.042381  0.011478  0.032206  0.011297  0.012483 -0.014786 -0.002514  0.001048  0.0\n",
      "BD1090 -0.000214  0.061937  0.004973  0.006421 -0.057186  0.048787 -0.029435 -0.004273 -0.008465 -0.032726 ...  -0.000159 -0.019665 -0.009568  0.002704  0.003043  0.000582 -0.002333  0.005476  0.005974  0.0\n",
      "BD984   0.164802  0.089101 -0.019605  0.029034  0.004698 -0.025475  0.014038 -0.015109  0.013074  0.010012 ...   0.152962  0.220852  0.296100 -0.092506 -0.001042  0.032058  0.096501 -0.013665 -0.016125  0.0\n",
      "BD955  -0.251660  0.074814  0.041870 -0.016872  0.195537 -0.026659 -0.071446 -0.180485  0.224181 -0.241052 ...   0.006643 -0.015545  0.003014  0.006656  0.010537 -0.000978 -0.004203  0.003392 -0.003690  0.0\n",
      "BD1097  0.116651 -0.011671  0.009636 -0.019697  0.012438 -0.029147  0.014211 -0.009793 -0.000355 -0.012567 ...   0.050600 -0.014393 -0.055329  0.055811 -0.000713 -0.026825  0.023068  0.035545  0.015476  0.0\n",
      "BD983   0.040960 -0.108699  0.018936 -0.013944  0.025109  0.044118  0.023806  0.001674 -0.010529 -0.020313 ...   0.017102  0.013300  0.012506 -0.019978  0.006577  0.017732 -0.021860 -0.000362  0.011265  0.0\n",
      "BD1073  0.037298  0.074827  0.022342  0.003872 -0.025910  0.002384  0.009378 -0.021113 -0.005639  0.002861 ...   0.001947 -0.007155 -0.005494 -0.019660 -0.023167 -0.030302 -0.003170  0.018153 -0.004897  0.0\n",
      "BD967   0.021196  0.034858 -0.029291 -0.015497 -0.057407 -0.030683  0.015257 -0.013579  0.003335  0.040244 ...  -0.026303 -0.032382  0.015961 -0.019116 -0.004693 -0.013675 -0.010965 -0.003318  0.012844  0.0\n",
      "BD1074  0.009421 -0.097727 -0.018736 -0.005438 -0.009153 -0.010782  0.017270 -0.011154  0.015487 -0.050741 ...   0.019386  0.032496  0.017424  0.010897  0.008006 -0.013454  0.008037 -0.003579  0.003052  0.0\n",
      "BD960   0.105040 -0.083939 -0.018977  0.009284  0.001438 -0.036452 -0.017545 -0.039357  0.012892 -0.022880 ...  -0.006645 -0.066049  0.074076  0.038841  0.029599  0.017130  0.003627  0.024032 -0.028499  0.0\n",
      "BD1006 -0.024728  0.055104  0.031858  0.037891 -0.010736  0.011849  0.080589  0.004000 -0.042119 -0.001807 ...  -0.012127 -0.005710  0.010286 -0.006479 -0.009232  0.008665  0.002521 -0.015352  0.010735  0.0\n",
      "BD1001 -0.009112  0.041364  0.032697  0.016765 -0.020682  0.003114 -0.024045 -0.034553  0.028201 -0.014509 ...   0.010511  0.015124 -0.000083 -0.001941 -0.008601 -0.002216 -0.016410  0.003473  0.011696  0.0\n",
      "BD1010 -0.184451  0.143476  0.017234 -0.064448 -0.126336 -0.154893 -0.039922  0.093776 -0.006864  0.160931 ...  -0.008020  0.007595  0.001861 -0.001551  0.010652  0.013299  0.007589 -0.007183 -0.001893  0.0\n",
      "BD1017 -0.100051  0.098902 -0.003762 -0.058538 -0.048615  0.056821 -0.090333  0.018335  0.028643  0.085114 ...   0.009303  0.012202  0.015943 -0.025022 -0.010552  0.004488  0.005118 -0.006686 -0.008043  0.0\n",
      "BD1019 -0.047374  0.022973 -0.013660 -0.009934 -0.070927 -0.000491  0.024862  0.021928  0.003276 -0.039755 ...   0.005931  0.002636  0.004090 -0.005438  0.009563 -0.005986 -0.005330 -0.001362 -0.000230  0.0\n",
      "BD971   0.032643 -0.036262 -0.039824  0.005427  0.008974 -0.015040  0.018626 -0.003820 -0.014282  0.010657 ...   0.006784  0.037342 -0.015690  0.003802  0.024854 -0.025480 -0.022836 -0.003060  0.007467  0.0\n",
      "BD1065 -0.048095 -0.080649 -0.002687 -0.045253 -0.021831  0.038948  0.019297 -0.027060  0.053648  0.043342 ...  -0.002615 -0.000902 -0.032066 -0.001878  0.012123  0.002248  0.000703  0.001275  0.001775  0.0\n",
      "BD976   0.002704 -0.051669  0.008708  0.048121 -0.005157 -0.011266 -0.045474  0.070644 -0.004709 -0.023058 ...   0.011925  0.004046 -0.006053 -0.038939 -0.006397  0.011535 -0.016658 -0.002510 -0.016010  0.0\n",
      "BD1062  0.002047  0.064051 -0.018760 -0.016726 -0.026168 -0.016368 -0.029436  0.020708 -0.007663  0.007316 ...  -0.012509  0.007033  0.000256 -0.006132  0.013964 -0.025173 -0.011533  0.011296 -0.004437  0.0\n",
      "BD992  -0.014965  0.044532 -0.018470  0.008622 -0.036974  0.040854 -0.033223 -0.020404 -0.018788 -0.008627 ...   0.009463  0.002626  0.001850  0.014012 -0.000629 -0.000141 -0.007993 -0.013482 -0.002108  0.0\n",
      "BD1086  0.106264 -0.005360 -0.013898  0.028477  0.028420  0.000626  0.002556 -0.011907  0.012712 -0.024885 ...  -0.010179  0.082162 -0.019088  0.007895  0.024006 -0.003677  0.003697 -0.005069 -0.001042  0.0\n",
      "BD995  -0.022936 -0.019986 -0.004759  0.024354 -0.059016  0.016567  0.000220 -0.030795  0.007884  0.026370 ...  -0.008549  0.013329  0.003964 -0.011913 -0.003053 -0.021627 -0.004495  0.003934  0.006846  0.0\n",
      "BD1050 -0.015156  0.065957  0.024335  0.011300 -0.059831  0.037606 -0.045099 -0.030708  0.015816  0.011601 ...  -0.016259 -0.012711  0.035967 -0.002383  0.003155  0.010976 -0.000143 -0.017247  0.014630  0.0\n",
      "BD1081  0.151224  0.076524  0.002329  0.022420  0.034978  0.002184  0.017259  0.007562 -0.017949  0.017539 ...   0.140963 -0.134872 -0.058264 -0.081288  0.064995  0.028023  0.051003  0.054874  0.011734  0.0\n",
      "BD1088  0.083920 -0.027323 -0.013215 -0.011228 -0.005524  0.001515 -0.014254 -0.010708 -0.004446  0.000598 ...   0.001184 -0.024999 -0.008202  0.015177 -0.022275  0.010736  0.005729  0.001074  0.009035  0.0\n",
      "\n",
      "[150 rows x 150 columns]\n",
      "plotting\n",
      "('Healthy mean (PCo0):', 0.027938348877038492)\n",
      "('Patients mean (PCo0):', -0.017123504150443013)\n",
      "1995.0 0.005604906720804398\n",
      "('proportion explained: ', 0.03472433478855327)\n",
      "('Healthy mean (PCo1):', -0.005625902991705176)\n",
      "('Patients mean (PCo1):', 0.0034481340916900868)\n",
      "2496.0 0.27549697195934086\n",
      "('proportion explained: ', 0.011193524642586772)\n",
      "('Healthy mean (PCo2):', 0.00791965081046439)\n",
      "('Patients mean (PCo2):', -0.004853979528994336)\n",
      "2386.0 0.15334797168881747\n",
      "('proportion explained: ', 0.009602939542631724)\n",
      "('Healthy mean (PCo3):', 0.0010796835246824911)\n",
      "('Patients mean (PCo3):', -0.0006617415151281357)\n",
      "2434.0 0.2014850069881351\n",
      "('proportion explained: ', 0.009281636420958257)\n",
      "('Healthy mean (PCo4):', 0.005573446869077889)\n",
      "('Patients mean (PCo4):', -0.003415983564918863)\n",
      "2064.0 0.011636328717495353\n",
      "('proportion explained: ', 0.009215416498550883)\n",
      "('Healthy mean (PCo5):', 0.0037382208201379033)\n",
      "('Patients mean (PCo5):', -0.00229116759943913)\n",
      "2611.0 0.4399863621885458\n",
      "('proportion explained: ', 0.008984849369911311)\n",
      "('Healthy mean (PCo6):', 0.012671130191359178)\n",
      "('Patients mean (PCo6):', -0.0077661765688975875)\n",
      "2057.0 0.010837025272174589\n",
      "('proportion explained: ', 0.008834241610828223)\n",
      "('Healthy mean (PCo7):', 0.009541988219728818)\n",
      "('Patients mean (PCo7):', -0.005848315360479066)\n",
      "2341.0 0.11576739121186808\n",
      "('proportion explained: ', 0.008694631205726977)\n",
      "('Healthy mean (PCo8):', -0.0034559813903864674)\n",
      "('Patients mean (PCo8):', 0.0021181821424948086)\n",
      "2221.0 0.04835253446590693\n",
      "('proportion explained: ', 0.008610901257385943)\n",
      "('Healthy mean (PCo9):', -0.0066239204683887255)\n",
      "('Patients mean (PCo9):', 0.004059822222560893)\n",
      "2400.0 0.16652892024684446\n",
      "('proportion explained: ', 0.008550398392481694)\n"
     ]
    },
    {
     "data": {
      "image/png": "[encoded data removed]",
      "text/plain": [
       "<matplotlib.figure.Figure at 0x7eff1a135210>"
      ]
     },
     "metadata": {},
     "output_type": "display_data"
    }
   ],
   "source": [
    "df=sampleByClusterDF_binary_balanced\n",
    "metric='dice'\n",
    "sample_list_list=[('Healthy',PNP530_balancedAge_males),('Patients',Cardio126_balancedAge_males)]\n",
    "color_list=['grey','darkred']\n",
    "pcoa_n1_toplot=0\n",
    "pcoa_n2_toplot=1\n",
    "toScale=False,\n",
    "toAnnotate=False\n",
    "\n",
    "pcoa_df,fig,ax=calc_PCoA(df,metric,sample_list_list,color_list,pcoa_n1_toplot=0,pcoa_n2_toplot=1,toScale=False,\n",
    "             toAnnotate=False)\n",
    "\n",
    "plt.show()"
   ]
  },
  {
   "cell_type": "code",
   "execution_count": null,
   "metadata": {
    "ExecuteTime": {
     "end_time": "2019-03-05T11:10:05.536280Z",
     "start_time": "2019-03-05T11:09:08.612Z"
    }
   },
   "outputs": [],
   "source": [
    "#plot PCoA distributions:\n",
    "pcoa_n1_toplot=0\n",
    "sample_list1=PNP530_balancedAge_males\n",
    "sample_list2=Cardio126_balancedAge_males\n",
    "\n",
    "dataList=[('Healthy',pcoa_df.loc[sample_list1, pcoa_n1_toplot]),\n",
    "         ('Patients',pcoa_df.loc[sample_list2, pcoa_n1_toplot])]\n",
    "fig,ax=plt.subplots()\n",
    "title=''\n",
    "colorList=['grey','darkred']\n",
    "alpha=1\n",
    "text_kws={'fontsize':'large','fontweight':'bold','color':'red',\n",
    "                                'horizontalalignment':'left','verticalalignment':'top'}\n",
    "plotType='hist'\n",
    "\n",
    "\n",
    "\n",
    "ax,ks_p_cohort1_cohort2,t_p_cohort1_cohort2,p_Anov,filename=plotHistComprison(dataList,ax,title,showLegend=True,nBins=20,toAnnotate=True,\n",
    "                      colorList=colorList,alpha=alpha,\n",
    "                      text_kws=text_kws,plotType=plotType)\n",
    "\n",
    "plt.show()"
   ]
  },
  {
   "cell_type": "code",
   "execution_count": null,
   "metadata": {
    "ExecuteTime": {
     "end_time": "2019-03-05T11:10:05.543300Z",
     "start_time": "2019-03-05T11:09:09.539Z"
    }
   },
   "outputs": [],
   "source": [
    "#plot PCoA distributions:\n",
    "pcoa_n1_toplot=0\n",
    "sample_list1=PNP530_balancedAge_males\n",
    "sample_list2=Cardio126_balancedAge_males\n",
    "\n",
    "dataList=[('Healthy',pcoa_df.loc[sample_list1, pcoa_n1_toplot]),\n",
    "         ('Patients',pcoa_df.loc[sample_list2, pcoa_n1_toplot])]\n",
    "fig,ax=plt.subplots()\n",
    "title=''\n",
    "colorList=['grey','darkred']\n",
    "alpha=1\n",
    "text_kws={'fontsize':'large','fontweight':'bold','color':'red',\n",
    "                                'horizontalalignment':'left','verticalalignment':'top'}\n",
    "plotType='kde'\n",
    "\n",
    "\n",
    "\n",
    "ax,ks_p_cohort1_cohort2,t_p_cohort1_cohort2,p_Anov,filename=plotHistComprison(dataList,ax,title,showLegend=True,nBins=20,toAnnotate=True,\n",
    "                      colorList=colorList,alpha=alpha,\n",
    "                      text_kws=text_kws,plotType=plotType)\n",
    "\n",
    "plt.show()"
   ]
  },
  {
   "cell_type": "code",
   "execution_count": null,
   "metadata": {},
   "outputs": [],
   "source": []
  },
  {
   "cell_type": "code",
   "execution_count": null,
   "metadata": {
    "ExecuteTime": {
     "end_time": "2019-03-05T11:10:05.550122Z",
     "start_time": "2019-03-05T11:09:11.480Z"
    }
   },
   "outputs": [],
   "source": [
    "df=sampleByClusterDF_binary_balanced\n",
    "metric='jaccard'\n",
    "\n",
    "sample_list1=PNP530_balancedAge_males\n",
    "sample_list2=Cardio126_balancedAge_males\n",
    "\n",
    "pcoa_df,fig,ax= calc_PCoA(df,metric,sample_list1,sample_list2,pcoa_n1_toplot=0,pcoa_n2_toplot=3)"
   ]
  },
  {
   "cell_type": "markdown",
   "metadata": {},
   "source": [
    "## calculate pairwise distance distributions of healthy and patients"
   ]
  },
  {
   "cell_type": "markdown",
   "metadata": {},
   "source": [
    "### generate distance matrix and annotate pairs:"
   ]
  },
  {
   "cell_type": "code",
   "execution_count": 28,
   "metadata": {
    "ExecuteTime": {
     "end_time": "2019-03-24T22:18:20.247384Z",
     "start_time": "2019-03-24T22:17:33.256461Z"
    }
   },
   "outputs": [
    {
     "name": "stdout",
     "output_type": "stream",
     "text": [
      "generating distance matrix...\n",
      "generating condensed distance matrix using jaccard\n",
      "top similar pairs:\n",
      "          dist sample1 sample2\n",
      "763   0.798177    BD27   BD124\n",
      "814   0.800100    BD27  BD1083\n",
      "769   0.813734    BD27   BD106\n",
      "4510  0.815050   BD124   BD106\n",
      "4555  0.816545   BD124  BD1083\n",
      "776   0.819343    BD27   BD150\n",
      "856   0.819679    BD27   BD984\n",
      "9136  0.823167  BD1083   BD984\n",
      "5224  0.824113   BD106  BD1083\n",
      "5959  0.824178   BD150  BD1083\n",
      "generating squareform distance matrix using jaccard\n"
     ]
    }
   ],
   "source": [
    "df=sampleByClusterDF_binary_balanced\n",
    "metric='jaccard'\n",
    "print 'generating distance matrix...'\n",
    "df_condensed_org, distMat_square=genDistMat(df,metric)\n",
    "\n"
   ]
  },
  {
   "cell_type": "code",
   "execution_count": 39,
   "metadata": {
    "ExecuteTime": {
     "end_time": "2019-03-24T22:34:19.413657Z",
     "start_time": "2019-03-24T22:34:19.377119Z"
    }
   },
   "outputs": [
    {
     "data": {
      "text/html": [
       "<div>\n",
       "<style scoped>\n",
       "    .dataframe tbody tr th:only-of-type {\n",
       "        vertical-align: middle;\n",
       "    }\n",
       "\n",
       "    .dataframe tbody tr th {\n",
       "        vertical-align: top;\n",
       "    }\n",
       "\n",
       "    .dataframe thead th {\n",
       "        text-align: right;\n",
       "    }\n",
       "</style>\n",
       "<table border=\"1\" class=\"dataframe\">\n",
       "  <thead>\n",
       "    <tr style=\"text-align: right;\">\n",
       "      <th></th>\n",
       "      <th>dist</th>\n",
       "      <th>sample1</th>\n",
       "      <th>sample2</th>\n",
       "      <th>sample1_isPatient</th>\n",
       "      <th>sample2_isPatient</th>\n",
       "      <th>samples_isPatient_sum</th>\n",
       "      <th>samples_isPatient_mapped</th>\n",
       "    </tr>\n",
       "  </thead>\n",
       "  <tbody>\n",
       "    <tr>\n",
       "      <th>56</th>\n",
       "      <td>0.962041</td>\n",
       "      <td>BD801</td>\n",
       "      <td>BD1014</td>\n",
       "      <td>0</td>\n",
       "      <td>1</td>\n",
       "      <td>1</td>\n",
       "      <td>1 patient</td>\n",
       "    </tr>\n",
       "    <tr>\n",
       "      <th>57</th>\n",
       "      <td>0.928220</td>\n",
       "      <td>BD801</td>\n",
       "      <td>BD1068</td>\n",
       "      <td>0</td>\n",
       "      <td>1</td>\n",
       "      <td>1</td>\n",
       "      <td>1 patient</td>\n",
       "    </tr>\n",
       "    <tr>\n",
       "      <th>58</th>\n",
       "      <td>0.905631</td>\n",
       "      <td>BD801</td>\n",
       "      <td>BD1061</td>\n",
       "      <td>0</td>\n",
       "      <td>1</td>\n",
       "      <td>1</td>\n",
       "      <td>1 patient</td>\n",
       "    </tr>\n",
       "    <tr>\n",
       "      <th>59</th>\n",
       "      <td>0.898842</td>\n",
       "      <td>BD801</td>\n",
       "      <td>BD996</td>\n",
       "      <td>0</td>\n",
       "      <td>1</td>\n",
       "      <td>1</td>\n",
       "      <td>1 patient</td>\n",
       "    </tr>\n",
       "    <tr>\n",
       "      <th>60</th>\n",
       "      <td>0.871957</td>\n",
       "      <td>BD801</td>\n",
       "      <td>BD1053</td>\n",
       "      <td>0</td>\n",
       "      <td>1</td>\n",
       "      <td>1</td>\n",
       "      <td>1 patient</td>\n",
       "    </tr>\n",
       "  </tbody>\n",
       "</table>\n",
       "</div>"
      ],
      "text/plain": [
       "        dist sample1 sample2  sample1_isPatient  sample2_isPatient  samples_isPatient_sum samples_isPatient_mapped\n",
       "56  0.962041   BD801  BD1014                  0                  1                      1                1 patient\n",
       "57  0.928220   BD801  BD1068                  0                  1                      1                1 patient\n",
       "58  0.905631   BD801  BD1061                  0                  1                      1                1 patient\n",
       "59  0.898842   BD801   BD996                  0                  1                      1                1 patient\n",
       "60  0.871957   BD801  BD1053                  0                  1                      1                1 patient"
      ]
     },
     "execution_count": 39,
     "metadata": {},
     "output_type": "execute_result"
    }
   ],
   "source": [
    "df_condensed_org['sample1_isPatient']=np.where(df_condensed_org['sample1'].isin(Cardio126),1,0)\n",
    "df_condensed_org['sample2_isPatient']=np.where(df_condensed_org['sample2'].isin(Cardio126),1,0)\n",
    "df_condensed_org['samples_isPatient_sum']=df_condensed_org[['sample1_isPatient','sample2_isPatient']].sum(axis=1)\n",
    "df_condensed_org['samples_isPatient_mapped']=df_condensed_org['samples_isPatient_sum'].map({0:'Both healthy',\n",
    "                                           1:'1 patient',2:'Both patients' })\n",
    "df_condensed_org[(df_condensed_org['sample1_isPatient']==0)&(df_condensed_org['sample2_isPatient']==1)].head()\n"
   ]
  },
  {
   "cell_type": "markdown",
   "metadata": {},
   "source": [
    "### plot distributions"
   ]
  },
  {
   "cell_type": "code",
   "execution_count": 50,
   "metadata": {
    "ExecuteTime": {
     "end_time": "2019-03-24T22:45:33.827689Z",
     "start_time": "2019-03-24T22:45:33.550049Z"
    }
   },
   "outputs": [
    {
     "name": "stdout",
     "output_type": "stream",
     "text": [
      "generating kde plot\n",
      "generating kde plot\n",
      "generating kde plot\n"
     ]
    },
    {
     "data": {
      "image/png": "[encoded data removed]",
      "text/plain": [
       "<matplotlib.figure.Figure at 0x7eff195c46d0>"
      ]
     },
     "metadata": {},
     "output_type": "display_data"
    }
   ],
   "source": [
    "dataList=[('Both healthy',df_condensed_org[df_condensed_org['samples_isPatient_mapped']=='Both healthy']['dist']),\n",
    "         ('1 patient',df_condensed_org[df_condensed_org['samples_isPatient_mapped']=='1 patient']['dist']),\n",
    "          ('Both patients',df_condensed_org[df_condensed_org['samples_isPatient_mapped']=='Both patients']['dist'])]\n",
    "fig,ax=plt.subplots()\n",
    "title=''\n",
    "colorList=['grey','darkblue','darkred']\n",
    "alpha=1\n",
    "text_kws={'fontsize':'large','fontweight':'bold','color':'red',\n",
    "                                'horizontalalignment':'left','verticalalignment':'top'}\n",
    "plotType='kde'\n",
    "\n",
    "\n",
    "\n",
    "ax,ks_p_cohort1_cohort2,t_p_cohort1_cohort2,p_Anov,filename=plotHistComprison(dataList,ax,title,showLegend=True,nBins=20,toAnnotate=True,\n",
    "                      colorList=colorList,alpha=alpha,\n",
    "                      text_kws=text_kws,plotType=plotType)\n",
    "ax.legend('')\n",
    "handles,labels=ax.get_legend_handles_labels()\n",
    "ax.legend('')\n",
    "ax.legend(handles,labels,bbox_to_anchor=(0.05, 1.4),loc='upper left')\n",
    "plt.show()"
   ]
  },
  {
   "cell_type": "code",
   "execution_count": 51,
   "metadata": {
    "ExecuteTime": {
     "end_time": "2019-03-24T22:46:10.419578Z",
     "start_time": "2019-03-24T22:46:10.166744Z"
    }
   },
   "outputs": [
    {
     "name": "stdout",
     "output_type": "stream",
     "text": [
      "generating kde plot\n",
      "generating kde plot\n"
     ]
    },
    {
     "data": {
      "image/png": "[encoded data removed]",
      "text/plain": [
       "<matplotlib.figure.Figure at 0x7eff19ba92d0>"
      ]
     },
     "metadata": {},
     "output_type": "display_data"
    }
   ],
   "source": [
    "dataList=[('Both healthy',df_condensed_org[df_condensed_org['samples_isPatient_mapped']=='Both healthy']['dist']),\n",
    "          ('Both patients',df_condensed_org[df_condensed_org['samples_isPatient_mapped']=='Both patients']['dist'])]\n",
    "fig,ax=plt.subplots()\n",
    "title=''\n",
    "colorList=['grey','darkred']\n",
    "alpha=1\n",
    "text_kws={'fontsize':'large','fontweight':'bold','color':'red',\n",
    "                                'horizontalalignment':'left','verticalalignment':'top'}\n",
    "plotType='kde'\n",
    "\n",
    "\n",
    "\n",
    "ax,ks_p_cohort1_cohort2,t_p_cohort1_cohort2,p_Anov,filename=plotHistComprison(dataList,ax,title,showLegend=True,nBins=20,toAnnotate=False,\n",
    "                      colorList=colorList,alpha=alpha,\n",
    "                      text_kws=text_kws,plotType=plotType)\n",
    "ax.text \n",
    "plt.show()"
   ]
  },
  {
   "cell_type": "code",
   "execution_count": null,
   "metadata": {},
   "outputs": [],
   "source": []
  },
  {
   "cell_type": "markdown",
   "metadata": {},
   "source": [
    "# balanced group clustering:"
   ]
  },
  {
   "cell_type": "code",
   "execution_count": null,
   "metadata": {
    "ExecuteTime": {
     "end_time": "2019-03-05T11:10:05.556954Z",
     "start_time": "2019-03-05T11:09:16.158Z"
    }
   },
   "outputs": [],
   "source": [
    "def filter_matrix_by_sharing_perc(matrix, sample_list1,sample_list2,percShared=0.1,percTooMany=0.9):\n",
    "    # ##generate cluster list:\n",
    "    \n",
    "    # get clusters that appear in Xperc or nShared of samples in sample_list1:\n",
    "    print ('perc Shared is ', percShared)\n",
    "    matrix_group1 = matrix.loc[sample_list1, :]\n",
    "    nShared_group1 = math.ceil(len(matrix_group1) * percShared)\n",
    "\n",
    "    print ('nShared_group1= ', nShared_group1)\n",
    "    group1_percClusters = matrix_group1.loc[:, matrix_group1.count() >= nShared_group1].columns.tolist()\n",
    "    print ('n clusters shared by %s or more samples in group1= ' % nShared_group1, len(group1_percClusters))\n",
    "    \n",
    "    # get clusters that appear in Xperc of samples in sample_list2:\n",
    "    matrix_group2 = matrix.loc[sample_list2, :]\n",
    "    nShared_group2 = math.ceil(len(matrix_group2) * percShared)\n",
    "    print ('nShared_group2= ', nShared_group2)\n",
    "    group2_percClusters = matrix_group2.loc[:, matrix_group2.count() >= nShared_group2].columns.tolist()\n",
    "    print ('n clusters shared by %s or more samples in group2= ' % nShared_group2, len(group2_percClusters))\n",
    "    \n",
    "   \n",
    "    \n",
    "    # concatenate lists:\n",
    "    ClusterListShared = list(set(group1_percClusters + group2_percClusters))\n",
    "    print ('total number of clusters shared by more than %s ' % percShared, len(ClusterListShared))\n",
    "    \n",
    "    # filter table to have only those sequences\n",
    "    matrix_perc = matrix.loc[:, ClusterListShared]\n",
    "    # filter table to not include clusters that appear in more than percTooMany of samples:\n",
    "    nTooMany = math.ceil(len(matrix) * percTooMany)\n",
    "    print 'filtering out clusters that appear in more than %s (%s) samples' % (nTooMany, percTooMany)\n",
    "    matrix_perc = matrix_perc.loc[:, matrix_perc.count() < nTooMany]\n",
    "    print ('final matrix_perc shape is: ', matrix_perc.shape)\n",
    "                             \n",
    "                             \n",
    "    return matrix"
   ]
  },
  {
   "cell_type": "code",
   "execution_count": null,
   "metadata": {
    "ExecuteTime": {
     "end_time": "2019-03-05T11:10:05.563695Z",
     "start_time": "2019-03-05T11:09:16.842Z"
    }
   },
   "outputs": [],
   "source": [
    "#get cluster binary matrix\n",
    "sampleByClusterDF=pd.read_pickle('/net/mraid08/export/jafar/Microbiome/Analyses/ShaniBAF/\\\n",
    "sharingAnalysis/seqClusters_allProd_maxdist1/sampleByClusterDF_cohortfiltering005-085perc_dropped.dat')\n",
    "\n",
    "sampleByClusterDF_binary=(sampleByClusterDF>0).astype(int)"
   ]
  },
  {
   "cell_type": "code",
   "execution_count": null,
   "metadata": {
    "ExecuteTime": {
     "end_time": "2019-03-05T11:10:05.570752Z",
     "start_time": "2019-03-05T11:09:17.174Z"
    }
   },
   "outputs": [],
   "source": [
    "# get samples lists:\n",
    "with open('/net/mraid08/export/genie/Lab/Personal/ShaniBAF/Sample files/BD lists/PNP530_balancedAge_males') as fp:\n",
    "    PNP530_balancedAge_males=pickle.load(fp)\n",
    "with open('/net/mraid08/export/genie/Lab/Personal/ShaniBAF/Sample files/BD lists/Cardio126_balancedAge_males') as fp:\n",
    "    Cardio126_balancedAge_males=pickle.load(fp)"
   ]
  },
  {
   "cell_type": "code",
   "execution_count": null,
   "metadata": {
    "ExecuteTime": {
     "end_time": "2019-03-05T11:10:05.577931Z",
     "start_time": "2019-03-05T11:09:17.399Z"
    }
   },
   "outputs": [],
   "source": [
    "sampleByClusterDF_binary_balanced=sampleByClusterDF_binary.loc[PNP530_balancedAge_males+Cardio126_balancedAge_males,:].replace(0,np.nan)\n",
    "print sampleByClusterDF_binary_balanced.shape\n",
    "sampleByClusterDF_binary_balanced.iloc[:5,:5]"
   ]
  },
  {
   "cell_type": "code",
   "execution_count": null,
   "metadata": {
    "ExecuteTime": {
     "end_time": "2019-03-05T11:10:05.585054Z",
     "start_time": "2019-03-05T11:09:17.586Z"
    }
   },
   "outputs": [],
   "source": [
    "sampleByClusterDF_balanced=sampleByClusterDF.loc[PNP530_balancedAge_males+Cardio126_balancedAge_males,:].replace(0,np.nan)\n",
    "print sampleByClusterDF_binary_balanced.shape\n",
    "print sampleByClusterDF_balanced.shape\n",
    "sampleByClusterDF_balanced.iloc[:5,:5]"
   ]
  },
  {
   "cell_type": "code",
   "execution_count": null,
   "metadata": {
    "ExecuteTime": {
     "end_time": "2019-03-05T11:10:05.592205Z",
     "start_time": "2019-03-05T11:09:17.799Z"
    }
   },
   "outputs": [],
   "source": [
    "matrix=sampleByClusterDF_binary_balanced\n",
    "sample_list1=PNP530_balancedAge_males\n",
    "sample_list2=Cardio126_balancedAge_males\n",
    "\n",
    "#get iscardio\n",
    "PRED_RESULTS_DIR='/net/mraid08/export/jafar/Microbiome/Analyses/ShaniBAF/predictions2/'\n",
    "isCardio=pd.read_pickle(PRED_RESULTS_DIR+'TargetDFs/isCardio.dat')\n",
    "\n",
    "#extract only sequences shared by x percent in one of the groups:\n",
    "matrix_025_085=filter_matrix_by_sharing_perc(matrix, sample_list1,sample_list2,percShared=0.25,percTooMany=0.85)\n",
    "\n",
    "#clustermap"
   ]
  },
  {
   "cell_type": "code",
   "execution_count": null,
   "metadata": {
    "ExecuteTime": {
     "end_time": "2019-03-05T11:10:05.599241Z",
     "start_time": "2019-03-05T11:09:18.005Z"
    }
   },
   "outputs": [],
   "source": [
    "matrix=sampleByClusterDF_binary_balanced\n",
    "sample_list1=PNP530_balancedAge_males\n",
    "sample_list2=Cardio126_balancedAge_males\n",
    "\n",
    "#get iscardio\n",
    "PRED_RESULTS_DIR='/net/mraid08/export/jafar/Microbiome/Analyses/ShaniBAF/predictions2/'\n",
    "isCardio=pd.read_pickle(PRED_RESULTS_DIR+'TargetDFs/isCardio.dat')\n",
    "\n",
    "#extract only sequences shared by x percent in one of the groups:\n",
    "matrix_08_085=filter_matrix_by_sharing_perc(matrix, sample_list1,sample_list2,percShared=0.8,percTooMany=0.85)\n",
    "\n",
    "#clustermap"
   ]
  },
  {
   "cell_type": "code",
   "execution_count": null,
   "metadata": {
    "ExecuteTime": {
     "end_time": "2019-03-05T11:10:05.606066Z",
     "start_time": "2019-03-05T11:09:18.231Z"
    }
   },
   "outputs": [],
   "source": [
    "matrix_06_085_dc = matrix_06_085.apply(pd.to_numeric,downcast='float')"
   ]
  },
  {
   "cell_type": "code",
   "execution_count": null,
   "metadata": {
    "ExecuteTime": {
     "end_time": "2019-03-05T11:10:05.612997Z",
     "start_time": "2019-03-05T11:09:19.095Z"
    }
   },
   "outputs": [],
   "source": [
    "matrix_06_085_dc.iloc[:5,:5]"
   ]
  },
  {
   "cell_type": "code",
   "execution_count": null,
   "metadata": {
    "ExecuteTime": {
     "end_time": "2019-03-05T11:10:05.619714Z",
     "start_time": "2019-03-05T11:09:21.557Z"
    }
   },
   "outputs": [],
   "source": [
    "#plot clustermap:\n",
    "g = sns.clustermap(matrix_08_085, method='average', metric='jaccard', figsize=None,\n",
    "                   cbar_kws=None, row_cluster=True, col_cluster=True, row_linkage=None,\n",
    "                   col_linkage=None, row_colors=None, col_colors=None, mask=None)\n",
    "plt.show()"
   ]
  },
  {
   "cell_type": "code",
   "execution_count": null,
   "metadata": {},
   "outputs": [],
   "source": []
  },
  {
   "cell_type": "code",
   "execution_count": null,
   "metadata": {
    "ExecuteTime": {
     "end_time": "2019-02-21T09:43:58.244319Z",
     "start_time": "2019-02-21T09:43:46.755356Z"
    }
   },
   "outputs": [],
   "source": [
    "#get cluster binary matrix\n",
    "matrix=sampleByClusterDF_binary_balanced\n",
    "sample_list1=PNP530_balancedAge_males\n",
    "sample_list2=Cardio126_balancedAge_males\n",
    "\n",
    "#get iscardio\n",
    "PRED_RESULTS_DIR='/net/mraid08/export/jafar/Microbiome/Analyses/ShaniBAF/predictions2/'\n",
    "isCardio=pd.read_pickle(PRED_RESULTS_DIR+'TargetDFs/isCardio.dat')\n",
    "\n",
    "#extract only sequences shared by x percent in one of the groups:\n",
    "matrix_01_09=filter_matrix_by_sharing_perc(matrix, sample_list1,sample_list2,percShared=0.1,percTooMany=0.9)\n",
    "\n",
    "#clustermap"
   ]
  },
  {
   "cell_type": "code",
   "execution_count": null,
   "metadata": {},
   "outputs": [],
   "source": []
  },
  {
   "cell_type": "markdown",
   "metadata": {},
   "source": [
    "# old stuff:"
   ]
  },
  {
   "cell_type": "markdown",
   "metadata": {},
   "source": [
    "## function from Noam:"
   ]
  },
  {
   "cell_type": "code",
   "execution_count": null,
   "metadata": {
    "ExecuteTime": {
     "end_time": "2019-02-13T18:30:14.012657Z",
     "start_time": "2019-02-13T18:30:09.534604Z"
    }
   },
   "outputs": [],
   "source": [
    "!pip install tqdm"
   ]
  },
  {
   "cell_type": "code",
   "execution_count": null,
   "metadata": {
    "ExecuteTime": {
     "end_time": "2019-01-20T16:26:51.953097Z",
     "start_time": "2019-01-20T16:26:51.893958Z"
    }
   },
   "outputs": [],
   "source": [
    "def PCoA_analysis(base_data, rest_data, save2path=None, distance_method='BrayCurtis', do_binary=False):\n",
    "    \n",
    "    from datetime import datetime\n",
    "    from skbio.stats.ordination._principal_coordinate_analysis import PCoA\n",
    "    from scipy.spatial.distance import braycurtis, pdist, squareform, euclidean, cdist,jaccard\n",
    "    \n",
    "    print (\"PCoA_analysis\", str(datetime.now()))\n",
    "    # add check for distance method\n",
    "    distance_dict = {'BrayCurtis':braycurtis, 'Euclidean':pdist,'jaccard':jaccard}\n",
    "    if distance_method not in distance_dict:\n",
    "        print (\"distance_method must be one of: \" + \", \".join(distance_method.keys()))\n",
    "        return\n",
    "    # concat dataframes\n",
    "    joined_data = pd.concat((base_data, rest_data), axis=1).dropna(how='all').fillna(0)\n",
    "    # compute distance matries\n",
    "    print (\"Computing \" + distance_method + \" distances between samples. For datasets with many elements this will take a while.\")\n",
    "    dis_mat = compute_distance_matrix(joined_data, distance_meausere=BrayCurtis, do_binary=do_binary, transpose=False)\n",
    "    temp_dis = DistanceMatrix(dis_mat.values, dis_mat.index)\n",
    "    pcoa = PCoA(temp_dis)\n",
    "    pcoa_df = pd.DataFrame(pcoa.scores().site, index=temp_dis.ids, columns=range(pcoa.scores().site.shape[1]))\n",
    "\n",
    "    plt.figure(figsize=(12,8))\n",
    "    plt.scatter(pcoa_df.loc[base_data.columns, 0], pcoa_df.loc[base_data.columns, 1], color='blue', alpha=0.5, s=50, label='base')\n",
    "    plt.scatter(pcoa_df.loc[rest_data.columns, 0], pcoa_df.loc[rest_data.columns, 1], color='red', alpha=0.5, s=50, label='rest')\n",
    "    plt.title('PCoA', fontsize=30)\n",
    "    plt.xlabel('PC1 - %0.2f' % pcoa.scores().proportion_explained[0], fontsize=20)\n",
    "    plt.ylabel('PC2 - %0.2f' % pcoa.scores().proportion_explained[1], fontsize=20)\n",
    "    plt.xticks(fontsize=15)\n",
    "    plt.yticks(fontsize=15)\n",
    "    plt.legend(loc='upper right', fontsize=20)\n",
    "    if save2path is not None:\n",
    "        plt.savefig(save2path + 'PCoA_pc1-pc2.png', bbox_inches='tight')\n",
    "    plt.show()\n",
    "\n",
    "    mw_p = []\n",
    "    for i in range(10):\n",
    "        mw_p.append(directed_mannwhitneyu(pcoa_df.loc[base_data.columns, i], pcoa_df.loc[rest_data.columns, i])[1])\n",
    "    mw_p= -np.log10(np.array(mw_p))\n",
    "    plt.plot(range(1,11), mw_p, 'o',  range(1,11), mw_p, 'k')\n",
    "    plt.xlabel('PC', fontsize=15)\n",
    "    plt.ylabel('Mann-Whitney p-value [-log10]', fontsize=15)\n",
    "    plt.title('PCoA - Association of PC to dataset', fontsize=20)\n",
    "    if save2path is not None:\n",
    "        plt.savefig(save2path + 'mann_whitney-pc.png', bbox_inches='tight')\n",
    "    plt.show()\n",
    "    return"
   ]
  },
  {
   "cell_type": "code",
   "execution_count": null,
   "metadata": {
    "ExecuteTime": {
     "end_time": "2019-02-21T07:47:35.707004Z",
     "start_time": "2019-02-21T07:47:35.685536Z"
    }
   },
   "outputs": [],
   "source": [
    "def compute_distance_matrix(samps_by_features, distance_meausere, do_binary = False, \n",
    "                            check_for_na=False, transpose=True):\n",
    "    if transpose:\n",
    "        A = samps_by_features.T.copy()\n",
    "    else:\n",
    "        A = samps_by_features.copy()\n",
    "    temp_res = pd.DataFrame(1, index=A.columns, columns=A.columns, dtype=np.float64)\n",
    "    A = A.values\n",
    "    if do_binary:\n",
    "        A[A>0] = 1\n",
    "  \n",
    "#     quants = A.shape[1] / 10\n",
    "        \n",
    "    for i in tnrange(A.shape[1], desc='distance matrix computation'):\n",
    "        a = A[:,i]\n",
    "        vals = []\n",
    "#         if i % quants == 0:\n",
    "#             print (str(10 * i/quants) + '%')\n",
    "        for j in range(A.shape[1]):\n",
    "            b = A[:,j]\n",
    "            val = None\n",
    "            if check_for_na:\n",
    "                c = ~np.isnan(a) & ~np.isnan(b)\n",
    "                val = distance_meausere(np.stack((a[c],b[c]),axis=1).T)\n",
    "            else:\n",
    "                val = distance_meausere(np.stack((a,b),axis=1).T)\n",
    "            vals.append(val)\n",
    "        temp_res.iloc[i,:] = vals\n",
    "    return temp_res"
   ]
  },
  {
   "cell_type": "code",
   "execution_count": null,
   "metadata": {
    "ExecuteTime": {
     "end_time": "2019-01-20T16:20:46.446419Z",
     "start_time": "2019-01-20T16:20:45.316770Z"
    }
   },
   "outputs": [],
   "source": [
    "base_data=sampleByClusterDF.loc[PNP530,:]\n",
    "rest_data=sampleByClusterDF.loc[Cardio126,:]\n",
    "\n"
   ]
  },
  {
   "cell_type": "code",
   "execution_count": null,
   "metadata": {
    "ExecuteTime": {
     "end_time": "2019-01-20T16:30:32.829555Z",
     "start_time": "2019-01-20T16:29:58.706746Z"
    }
   },
   "outputs": [],
   "source": [
    "PCoA_analysis(base_data, rest_data, save2path=None, distance_method='Euclidean', do_binary=False)"
   ]
  },
  {
   "cell_type": "code",
   "execution_count": null,
   "metadata": {},
   "outputs": [],
   "source": []
  }
 ],
 "metadata": {
  "kernelspec": {
   "display_name": "Python 2",
   "language": "python",
   "name": "python2"
  },
  "language_info": {
   "codemirror_mode": {
    "name": "ipython",
    "version": 2
   },
   "file_extension": ".py",
   "mimetype": "text/x-python",
   "name": "python",
   "nbconvert_exporter": "python",
   "pygments_lexer": "ipython2",
   "version": "2.7.8"
  },
  "toc": {
   "nav_menu": {},
   "number_sections": true,
   "sideBar": true,
   "skip_h1_title": false,
   "toc_cell": false,
   "toc_position": {
    "height": "692px",
    "left": "0px",
    "right": "1533.47px",
    "top": "135px",
    "width": "383px"
   },
   "toc_section_display": "block",
   "toc_window_display": true
  },
  "varInspector": {
   "cols": {
    "lenName": 16,
    "lenType": 16,
    "lenVar": 40
   },
   "kernels_config": {
    "python": {
     "delete_cmd_postfix": "",
     "delete_cmd_prefix": "del ",
     "library": "var_list.py",
     "varRefreshCmd": "print(var_dic_list())"
    },
    "r": {
     "delete_cmd_postfix": ") ",
     "delete_cmd_prefix": "rm(",
     "library": "var_list.r",
     "varRefreshCmd": "cat(var_dic_list()) "
    }
   },
   "types_to_exclude": [
    "module",
    "function",
    "builtin_function_or_method",
    "instance",
    "_Feature"
   ],
   "window_display": false
  }
 },
 "nbformat": 4,
 "nbformat_minor": 2
}
