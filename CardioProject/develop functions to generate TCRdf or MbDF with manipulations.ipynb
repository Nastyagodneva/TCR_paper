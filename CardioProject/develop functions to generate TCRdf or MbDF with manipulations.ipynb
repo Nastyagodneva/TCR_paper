{
 "cells": [
  {
   "cell_type": "markdown",
   "metadata": {},
   "source": [
    "# imports"
   ]
  },
  {
   "cell_type": "code",
   "execution_count": 1,
   "metadata": {
    "ExecuteTime": {
     "end_time": "2019-02-13T13:33:07.111286Z",
     "start_time": "2019-02-13T13:33:04.108928Z"
    }
   },
   "outputs": [
    {
     "name": "stdout",
     "output_type": "stream",
     "text": [
      "done1\n",
      "stop\n",
      "stop\n",
      "done1\n",
      "stop\n",
      "done\n",
      "done\n",
      "done\n",
      "done\n"
     ]
    }
   ],
   "source": [
    "from os import listdir,mkdir,makedirs\n",
    "from os.path import isfile, join, isdir,exists\n",
    "import pandas as pd\n",
    "import numpy as np\n",
    "from scipy import stats\n",
    "import re\n",
    "import matplotlib.pyplot as plt\n",
    "from matplotlib.backends.backend_pdf import PdfPages\n",
    "from myplots import roundup, rounddown, find_decimal_fold, percentile_cut_off, rarefaction_calc, rarefaction_plot,draw_correlation_scatter\n",
    "from matplotlib.ticker import FormatStrFormatter\n",
    "import cPickle as pickle\n",
    "from Bio.SeqUtils import GC\n",
    "import seaborn as sns\n",
    "import random\n",
    "from scipy.stats import pearsonr,fisher_exact\n",
    "from skbio.diversity.alpha import shannon, simpson, berger_parker_d\n",
    "\n",
    "from pop_organize import get_sample_data, get_sample_with_dfs\n",
    "from SufficientStatistics.SufficientStatistics import *\n",
    "from MyFunctionsShani import *\n",
    "import math\n",
    "from myplots import roundup, rounddown, find_decimal_fold\n",
    "from skbio.stats.distance import mantel\n",
    "from scipy.spatial.distance import braycurtis, pdist\n",
    "from GeneralFeaturePhenotypeInteractions.Feature_phenotype_functions import * \n",
    "from TCR_microbiome_interactions.TCR_microbiome_interactions_functions import *\n",
    "from TCR_microbiome_interactions.TCR_microbiome_interactions_functions2 import *\n",
    "from SampleLists.SampleFileFunctions import *\n",
    "\n",
    "import os\n",
    "from Utils import cacheOnDisk\n",
    "from SegalQueue.qp import qp,fakeqp\n",
    "from addloglevels import sethandlers\n",
    "\n",
    "MyPath='/net/mraid08/export/genie/Lab/Personal/ShaniBAF'"
   ]
  },
  {
   "cell_type": "code",
   "execution_count": 2,
   "metadata": {
    "ExecuteTime": {
     "end_time": "2019-02-13T13:33:07.467797Z",
     "start_time": "2019-02-13T13:33:07.459112Z"
    }
   },
   "outputs": [
    {
     "data": {
      "text/plain": [
       "'13022019'"
      ]
     },
     "execution_count": 2,
     "metadata": {},
     "output_type": "execute_result"
    }
   ],
   "source": [
    "import time\n",
    "cdate=str(time.strftime(\"%d%m%Y\"))\n",
    "cdate\n"
   ]
  },
  {
   "cell_type": "markdown",
   "metadata": {},
   "source": [
    "# develop TCR/Mb generator"
   ]
  },
  {
   "cell_type": "markdown",
   "metadata": {},
   "source": [
    "## define parameters"
   ]
  },
  {
   "cell_type": "code",
   "execution_count": 10,
   "metadata": {
    "ExecuteTime": {
     "end_time": "2019-02-13T14:06:54.937310Z",
     "start_time": "2019-02-13T14:06:54.497491Z"
    }
   },
   "outputs": [],
   "source": [
    "\n",
    "# parameters to change:\n",
    "#general parameters:\n",
    "DFtype='TCR'\n",
    "genDF=True #False=generate new df\n",
    "toBinary=True\n",
    "\n",
    "#basic prameters for generating df:\n",
    "mbLevel='g'\n",
    "useShortName=True\n",
    "\n",
    "datasetFolder='%s/TCR_real_data/PNP530Cardio126Combined/nonMatched/ss5000_rep3' %MyPath\n",
    "datasetName='PNP530Cardio126_notMatched_ss5000rep2' \n",
    "\n",
    "#parameters for manipulations on df \n",
    "minVal=None    #minVal can be None,0, float, or 'dfMinVal' or dfMinVal2:\n",
    "minSharedT=None #minimal number of samples shared by seq/species required to leave sample in the database (int or None)\n",
    "percShared=10 #minimal number of samples shared by seq/species required to leave sample in the database (int [ percentage]\n",
    "                #or None)\n",
    "removeOutliers=True\n",
    "normData=False\n",
    "logTransform=False\n",
    "\n",
    "\n",
    "\n",
    "\n",
    "#constant parameters:\n",
    "extractUniqueAA=True # use True when this is the first time to analyze this dataset, otherwise, use False\n",
    "minNshared=2\n",
    "onlyProductive=True\n",
    "\n",
    "mbDataFolder='AllSeqProjects'\n",
    "with open('/net/mraid08/export/genie/Lab/Personal/ShaniBAF/Sample files/BD lists/PNP530','rb') as fp:\n",
    "    PNP530=pickle.load(fp)\n",
    "# with open('/net/mraid08/export/genie/Lab/Personal/ShaniBAF/Sample files/BD lists/Cardio126','rb') as fp:\n",
    "#     Cardio126=pickle.load(fp)\n",
    "# PNP530Cardio126list=PNP530+Cardio126\n",
    "SampleList=None\n",
    "SampleListName=None\n",
    "libPrepMethod=None\n",
    "filterGenotek=True\n",
    "filterMinimalReads=9000000\n",
    "filterlibPrepMethod=libPrepMethod\n",
    "groupFunction='noOutlierMean'\n",
    "nSTD=5\n",
    "nMinSamples=3\n",
    "ignoreNotSameYear=True\n",
    "removeSamePerson=False\n",
    "\n",
    "\n"
   ]
  },
  {
   "cell_type": "markdown",
   "metadata": {},
   "source": [
    "## load/generate df:"
   ]
  },
  {
   "cell_type": "code",
   "execution_count": null,
   "metadata": {
    "ExecuteTime": {
     "end_time": "2018-06-05T10:22:41.314400Z",
     "start_time": "2018-06-05T10:22:33.568928Z"
    }
   },
   "outputs": [],
   "source": [
    "# (1) load/ generate DF:\n",
    "\n",
    "if DFtype=='Mb':\n",
    "    if genDF:\n",
    "        print 'generating MbDF...'\n",
    "        df,filename=genFilterMergeMbData(mbLevel,mbDataFolder,SampleList,SampleListName,filterGenotek,filterMinimalReads,\n",
    "                                filterlibPrepMethod, groupFunction,nSTD,nMinSamples,ignoreNotSameYear,useShortName)\n",
    "    else:\n",
    "        folderToSave = '%s/MicrobiomeDataTables/FilteredAndMergedOnBD' % MyPath\n",
    "        try:\n",
    "            filename = '%s/MPA_%s_standardParams' % (folderToSave, mbLevel)\n",
    "            df=pd.read_pickle(filename)\n",
    "            print 'loading existing MbDF: level=%s, standard params...' %mbLevel\n",
    "        except:\n",
    "            filename=  '%s/MPA_%s_%s_%s_fGenotek%s_fMinimalRead%s_libMeth%s_igAnotherYear%s_%snSTD%snMinSamples%s_fSamePerson%s' %(folderToSave,\n",
    "                mbLevel,mbDataFolder,SampleListName,filterGenotek,filterMinimalReads,filterlibPrepMethod,ignoreNotSameYear,\n",
    "                groupFunction,nSTD,nMinSamples,removeSamePerson)\n",
    "            try:\n",
    "                df=pd.read_pickle(filename)\n",
    "                print 'loading existing MbDF: level=%s, long name...' %mbLevel\n",
    "            except:\n",
    "                print filename\n",
    "                print 'file was not found...'\n",
    "elif DFtype=='TCR':\n",
    "    if genDF:\n",
    "        minNsharedList=list(minNshared)\n",
    "        print 'preparing sharing Matrix'\n",
    "        TCRdf_RA,filename=gen_sharingMatrix_perDataset(datasetName,datasetFolder,minNsharedList,extractUniqueAA=False,\n",
    "                                              getSharingStatistics=True)\n",
    "    else:\n",
    "        print 'loading existing TCR: datasetName=%s, minNshared=%s' %(datasetName,minNshared)\n",
    "        try:\n",
    "            filename='%s/sharingAnalysis/sharingMatrix_%s_minNshared%s_RA_onlyProductiveTrue' %(datasetFolder,datasetName,minNshared)\n",
    "            print filename\n",
    "            df=pd.read_pickle(filename)\n",
    "            print 'load completed'\n",
    "        except:\n",
    "            print 'TCR file was not found'\n",
    "    \n",
    "    print 'checking if RA values are percentage values or real RA values:'\n",
    "    currMinVal=df[df>0].min().min()\n",
    "    print 'the minimal value of the DF is %s' %currMinVal\n",
    "    \n",
    "    if currMinVal>0.001:\n",
    "        print 'the minimal value is %s, which is higher than 0.001. this means that RA values are percentage. dividing by 100\\\n",
    "to get real RA values...' %currMinVal\n",
    "        df=df.div(100)\n",
    "    else:\n",
    "        print 'RA values are real RA values, no division is required'\n",
    "    \n",
    "else:\n",
    "    print 'DFtype is not known'\n",
    "    \n",
    "print 'Number of analyzed units (seqs/species/genus) is %s' %len(df.columns)\n",
    "print 'filename is %s' %filename\n",
    "\n",
    "\n",
    "            \n",
    "            \n",
    "    \n"
   ]
  },
  {
   "cell_type": "code",
   "execution_count": null,
   "metadata": {
    "ExecuteTime": {
     "end_time": "2018-06-05T10:22:41.331784Z",
     "start_time": "2018-06-05T10:22:41.317195Z"
    }
   },
   "outputs": [],
   "source": [
    "print df.shape\n",
    "print df.iloc[:5,:5]"
   ]
  },
  {
   "cell_type": "code",
   "execution_count": null,
   "metadata": {
    "ExecuteTime": {
     "end_time": "2018-06-05T10:22:41.743765Z",
     "start_time": "2018-06-05T10:22:41.334082Z"
    }
   },
   "outputs": [],
   "source": [
    "origDF=df.copy()"
   ]
  },
  {
   "cell_type": "markdown",
   "metadata": {},
   "source": [
    "## cap value to minVal"
   ]
  },
  {
   "cell_type": "markdown",
   "metadata": {},
   "source": [
    "### define minimal val:"
   ]
  },
  {
   "cell_type": "code",
   "execution_count": null,
   "metadata": {
    "ExecuteTime": {
     "end_time": "2018-06-05T10:22:48.381525Z",
     "start_time": "2018-06-05T10:22:41.746491Z"
    }
   },
   "outputs": [],
   "source": [
    "#minVal can be None,0, float, or 'dfMinVal' \n",
    "print 'setting minVal'\n",
    "if minVal=='dfMinVal':\n",
    "    minVal2=df[df>0].min().min()\n",
    "    print 'minVal is set to the existing df minimal value: %s' %minVal2\n",
    "elif minVal=='dfMinVal2':\n",
    "    minVal2=(df[df>0].min().min())*2\n",
    "    print 'minVal is set to the existing df minimal value: %s' %minVal2\n",
    "else:\n",
    "    minVal2=minVal\n",
    "    print 'minVal remains %s as defined by user' %minVal2\n",
    "    \n",
    "\n",
    "\n"
   ]
  },
  {
   "cell_type": "markdown",
   "metadata": {},
   "source": [
    "### cap all values to minimal val:"
   ]
  },
  {
   "cell_type": "code",
   "execution_count": null,
   "metadata": {
    "ExecuteTime": {
     "end_time": "2018-06-05T10:22:59.760115Z",
     "start_time": "2018-06-05T10:22:48.384175Z"
    }
   },
   "outputs": [],
   "source": [
    "if minVal is not None:\n",
    "    print 'capping to minVal=%s' %minVal2\n",
    "    print 'df sum before capping is %s' %df.sum().sum()\n",
    "    df=df.mask(df<minVal2)\n",
    "    df=df.fillna(minVal2)\n",
    "    df.head()\n",
    "    print 'df sum after capping is %s' %df.sum().sum()\n",
    "    name1='capped%s' %minVal\n",
    "else:\n",
    "    print 'no capping was applied'\n",
    "    minVal2=0\n",
    "    name1=''"
   ]
  },
  {
   "cell_type": "markdown",
   "metadata": {},
   "source": [
    "## Leave only seq/species appear in specific number of samples  (use '2' to leave only shared seqs/species"
   ]
  },
  {
   "cell_type": "code",
   "execution_count": null,
   "metadata": {
    "ExecuteTime": {
     "end_time": "2018-06-05T10:22:59.769704Z",
     "start_time": "2018-06-05T10:22:59.764220Z"
    }
   },
   "outputs": [],
   "source": [
    "print minVal2"
   ]
  },
  {
   "cell_type": "code",
   "execution_count": null,
   "metadata": {
    "ExecuteTime": {
     "end_time": "2018-06-05T10:23:22.829712Z",
     "start_time": "2018-06-05T10:22:59.772593Z"
    }
   },
   "outputs": [],
   "source": [
    "#define minSharedT=minimal number of shared samples by each seq/species to leave in df, or-\n",
    "# percShared = leave only seqs/species shared by specific percent of samples\n",
    "\n",
    "\n",
    "if (minSharedT is not None) or (percShared is not None):\n",
    "    print 'Number of analyzed units is %s' %len(df.columns)\n",
    "    if minSharedT is not None:\n",
    "        print 'leaving only units shared by %s samples or more' %minSharedT\n",
    "        checkShared=df.apply(lambda x: True if len([i for i in x if i>minVal2])>=minSharedT else False)\n",
    "        name2='minSharedT%s' %minSharedT\n",
    "    elif percShared is not None:\n",
    "        minSharedT=round(float(len(df))*percShared/100)\n",
    "        print 'leaving only units shared by more than %s percent of the samples (%s samples)' %(percShared,minSharedT)\n",
    "        checkShared=df.apply(lambda x: True if len([i for i in x if i>minVal2])>=minSharedT else False)\n",
    "        name2='percShared%s' %percShared\n",
    "    shared=checkShared[checkShared]\n",
    "    df=df[shared.index]\n",
    "    print 'number of analyzed units is now %s' %len(df.columns)\n",
    "else:\n",
    "    print 'no units were removed due to low sharing level, number of units remains %s'  %len(df.columns)\n",
    "    name2=''\n"
   ]
  },
  {
   "cell_type": "markdown",
   "metadata": {},
   "source": [
    "## Check outliers and trim to the maximal allowed value (not for binary!)"
   ]
  },
  {
   "cell_type": "markdown",
   "metadata": {},
   "source": [
    "## trim outliers"
   ]
  },
  {
   "cell_type": "code",
   "execution_count": null,
   "metadata": {
    "ExecuteTime": {
     "end_time": "2018-06-05T10:23:22.905449Z",
     "start_time": "2018-06-05T10:23:22.832167Z"
    }
   },
   "outputs": [],
   "source": [
    "if removeOutliers:\n",
    "    print 'removing outliers, outlierSTD=5, trim=True...'\n",
    "    df2=df.copy()\n",
    "    df=filter_outliers(df,outlierSTD=5,columnList=None,trim=True)\n",
    "    name3='OLtrimmed'\n",
    "else:\n",
    "    name3=''\n",
    "    "
   ]
  },
  {
   "cell_type": "markdown",
   "metadata": {},
   "source": [
    "### plot max and min values distribution to follow correct removal"
   ]
  },
  {
   "cell_type": "code",
   "execution_count": null,
   "metadata": {
    "ExecuteTime": {
     "end_time": "2018-06-05T10:23:24.010297Z",
     "start_time": "2018-06-05T10:23:22.907991Z"
    }
   },
   "outputs": [],
   "source": [
    "\n",
    "print 'plotting values distribution before and after trimming...'\n",
    "fig,axes=plt.subplots(nrows=1,ncols=2, figsize=(8,2))\n",
    "ax1=axes[0]\n",
    "x1=df2.min().tolist()\n",
    "y1=df.min().tolist()\n",
    "ax1.hist([x1,y1],color=['blue','red'],bins=20,label=['before trimming','after trimming'],alpha=0.5)\n",
    "print 'now the second'\n",
    "ax1.set_yscale('log')\n",
    "ax1.legend()\n",
    "ax1.set_title('max RA value distribution before\\nand after trimming')\n",
    "ax1.set_xlabel('RA values')\n",
    "ax1.set_ylabel('freq')\n",
    "ax1.xaxis.set_major_locator(plt.MaxNLocator(4))\n",
    "\n",
    "ax2=axes[1]\n",
    "x2=df2.max().tolist()\n",
    "y2=df.max().tolist()\n",
    "ax2.hist([x2,y2],color=['blue','red'],bins=20,label=['before trimming','after trimming'],alpha=0.5)\n",
    "print 'now the second'\n",
    "ax2.set_yscale('log')\n",
    "ax2.legend()\n",
    "ax2.set_title('min RA value distribution before\\nand after trimming')\n",
    "ax2.set_xlabel('RA values')\n",
    "ax2.set_ylabel('freq')\n",
    "ax2.xaxis.set_major_locator(plt.MaxNLocator(4))\n",
    "plt.show()"
   ]
  },
  {
   "cell_type": "markdown",
   "metadata": {},
   "source": [
    "## Binarize data (only if not normed, use minimal value as zero) t"
   ]
  },
  {
   "cell_type": "code",
   "execution_count": null,
   "metadata": {
    "ExecuteTime": {
     "end_time": "2018-06-05T10:23:24.049297Z",
     "start_time": "2018-06-05T10:23:24.013137Z"
    }
   },
   "outputs": [],
   "source": [
    "print df.iloc[:4,:4]\n",
    "if toBinary:\n",
    "    print 'binarizing df...'\n",
    "    dfBinary=df.mask(df<=minVal2)\n",
    "    dfBinary=dfBinary.fillna(0)\n",
    "    dfBinary=dfBinary.mask(dfBinary!=0)\n",
    "    dfBinary=dfBinary.fillna(1)\n",
    "    print 'existing values in df are now:'\n",
    "    print pd.unique(dfBinary.values.ravel('K'))\n",
    "    print df.iloc[:4,:4]\n",
    "    print dfBinary.iloc[:4,:4]\n",
    "    \n"
   ]
  },
  {
   "cell_type": "markdown",
   "metadata": {},
   "source": [
    "## Norm data (not for binary!)"
   ]
  },
  {
   "cell_type": "code",
   "execution_count": null,
   "metadata": {
    "ExecuteTime": {
     "end_time": "2018-06-05T10:23:24.056006Z",
     "start_time": "2018-06-05T10:23:24.051731Z"
    }
   },
   "outputs": [],
   "source": [
    "if normData:\n",
    "    normeddf=df.div(df.sum(axis=1),axis=0)\n",
    "    print df.sum(axis=1).head()\n",
    "    print normeddf.sum(axis=1).head()\n",
    "    "
   ]
  },
  {
   "cell_type": "markdown",
   "metadata": {},
   "source": [
    "##  log transformation (not for binary!)"
   ]
  },
  {
   "cell_type": "code",
   "execution_count": null,
   "metadata": {
    "ExecuteTime": {
     "end_time": "2018-06-05T10:23:24.064136Z",
     "start_time": "2018-06-05T10:23:24.058396Z"
    }
   },
   "outputs": [],
   "source": [
    "if logTransform:\n",
    "    logdf=df.apply(lambda x: np.log10(x))\n",
    "    logdf.describe()\n"
   ]
  },
  {
   "cell_type": "code",
   "execution_count": null,
   "metadata": {},
   "outputs": [],
   "source": []
  },
  {
   "cell_type": "markdown",
   "metadata": {},
   "source": [
    "## generate some summarizing parameters on the df and save"
   ]
  },
  {
   "cell_type": "markdown",
   "metadata": {},
   "source": [
    "### generate final filename"
   ]
  },
  {
   "cell_type": "code",
   "execution_count": null,
   "metadata": {
    "ExecuteTime": {
     "end_time": "2018-06-05T10:23:24.073554Z",
     "start_time": "2018-06-05T10:23:24.066547Z"
    }
   },
   "outputs": [],
   "source": [
    "finalFileName='%s_%s_%s_%s' %(filename, name1,name2,name3)\n",
    "finalFileName=finalFileName.replace('.','_')\n",
    "print finalFileName"
   ]
  },
  {
   "cell_type": "code",
   "execution_count": null,
   "metadata": {
    "ExecuteTime": {
     "end_time": "2018-06-05T10:23:24.080494Z",
     "start_time": "2018-06-05T10:23:24.075849Z"
    }
   },
   "outputs": [],
   "source": [
    "name=finalFileName.split('/')[-1]\n",
    "print name"
   ]
  },
  {
   "cell_type": "markdown",
   "metadata": {},
   "source": [
    "### plot mean sample value distribution for each df:"
   ]
  },
  {
   "cell_type": "code",
   "execution_count": null,
   "metadata": {
    "ExecuteTime": {
     "end_time": "2018-06-05T10:23:24.095422Z",
     "start_time": "2018-06-05T10:23:24.082793Z"
    }
   },
   "outputs": [],
   "source": [
    "dfList=[origDF,df]\n",
    "dfListNames=['origDF',name]\n",
    "try:\n",
    "    dfList.append(dfBinary)\n",
    "    dfListNames.append('dfBinary')\n",
    "except:\n",
    "    dfList.append(None)\n",
    "    dfListNames.append(None)\n",
    "\n",
    "try:\n",
    "    dfList.append(normeddf)\n",
    "    dfListNames.append('normeddf')\n",
    "except:\n",
    "    dfList.append(None)\n",
    "    dfListNames.append(None)\n",
    "\n",
    "try:\n",
    "    dfList.append(logdf)\n",
    "    dfListNames.append('logdf')\n",
    "except:\n",
    "    dfList.append(None)\n",
    "    dfListNames.append(None)\n",
    "    \n",
    "print len(dfList)"
   ]
  },
  {
   "cell_type": "code",
   "execution_count": null,
   "metadata": {
    "ExecuteTime": {
     "end_time": "2018-06-05T10:23:24.119899Z",
     "start_time": "2018-06-05T10:23:24.097700Z"
    }
   },
   "outputs": [],
   "source": [
    "for n,dfx in enumerate(dfList):\n",
    "    if dfx is not None:\n",
    "        print n\n",
    "        print dfListNames[n]\n",
    "        print dfx.iloc[:3,:3]"
   ]
  },
  {
   "cell_type": "code",
   "execution_count": null,
   "metadata": {
    "ExecuteTime": {
     "end_time": "2018-06-05T10:23:28.128678Z",
     "start_time": "2018-06-05T10:23:24.122238Z"
    }
   },
   "outputs": [],
   "source": [
    "print 'plotting mean sample distributions for all generated dfs...'\n",
    "dfListNew=[x for x in dfList if x is not None]\n",
    "dfListNamesNew=[x for x in dfListNames if x is not None]\n",
    "\n",
    "llen=len(dfListNew)\n",
    "fig,axes=plt.subplots(nrows=1, ncols=llen,figsize=(4*llen,2))\n",
    "fig.suptitle ('RA value distributions',fontweight='bold')\n",
    "for n,dfx in enumerate(dfListNew):\n",
    "    print n\n",
    "    print dfListNamesNew[n]\n",
    "    print dfx.iloc[:3,:3]\n",
    "    ax=axes[n]\n",
    "    x=dfx.mean(axis=1).tolist()\n",
    "    ax.hist(x)\n",
    "    ax.set_yscale('log')\n",
    "    ax.set_title(dfListNamesNew[n])\n",
    "#     ax.set_xlabel('RA values')\n",
    "    if n==0:\n",
    "        ax.set_ylabel('freq')\n",
    "    if n==1:\n",
    "        title=dfListNamesNew[n]\n",
    "        firstpart, secondpart =title[:len(title)/2], title[len(title)/2:]\n",
    "        ax.set_title('%s\\n%s' %(firstpart, secondpart))\n",
    "    ax.xaxis.set_major_locator(plt.MaxNLocator(3))\n",
    "    \n",
    "fig.subplots_adjust(top=0.7,wspace=0.4)\n",
    "    \n",
    "plt.show()\n",
    "\n",
    "    \n",
    "    "
   ]
  },
  {
   "cell_type": "code",
   "execution_count": null,
   "metadata": {
    "ExecuteTime": {
     "end_time": "2018-06-05T10:23:29.738318Z",
     "start_time": "2018-06-05T10:23:28.133433Z"
    }
   },
   "outputs": [],
   "source": [
    "print 'plotting RA value distributions for all generated dfs IN A RANDOM SAMPLE'\n",
    "import random\n",
    "dfListNew=[x for x in dfList if x is not None]\n",
    "dfListNamesNew=[x for x in dfListNames if x is not None]\n",
    "\n",
    "llen=len(dfListNew)\n",
    "fig,axes=plt.subplots(nrows=1, ncols=llen,figsize=(4*llen,2))\n",
    "\n",
    "sample=random.sample(df.index, 1)\n",
    "\n",
    "fig.suptitle ('RA value distributions in sample %s' %sample[0],fontweight='bold')\n",
    "for n,dfx in enumerate(dfListNew):\n",
    "    print n\n",
    "    print dfListNamesNew[n]\n",
    "    print dfx.iloc[:3,:3]\n",
    "    ax=axes[n]\n",
    "    x=dfx.loc[sample,:].values.flatten().tolist()\n",
    "    ax.hist(x,bins=20)\n",
    "    ax.set_yscale('log')\n",
    "    ax.set_title(dfListNamesNew[n])\n",
    "#     ax.set_xlabel('RA values')\n",
    "    if n==0:\n",
    "        ax.set_ylabel('freq')\n",
    "    if n==1:\n",
    "        title=dfListNamesNew[n]\n",
    "        firstpart, secondpart =title[:len(title)/2], title[len(title)/2:]\n",
    "        ax.set_title('%s\\n%s' %(firstpart, secondpart))\n",
    "    ax.xaxis.set_major_locator(plt.MaxNLocator(3))\n",
    "fig.subplots_adjust(top=0.62,wspace=0.4)\n",
    "    \n",
    "plt.show()"
   ]
  },
  {
   "cell_type": "markdown",
   "metadata": {},
   "source": [
    "## save files:"
   ]
  },
  {
   "cell_type": "code",
   "execution_count": null,
   "metadata": {
    "ExecuteTime": {
     "end_time": "2018-06-05T10:23:29.778595Z",
     "start_time": "2018-06-05T10:23:29.740901Z"
    }
   },
   "outputs": [],
   "source": [
    "print 'saving df to file...'\n",
    "df.to_pickle(finalFileName)\n",
    "\n",
    "try:\n",
    "    dfBinary.to_pickle('%s_binary' %finalFileName)\n",
    "    print 'saving binary df to file'\n",
    "except:\n",
    "    pass\n",
    "\n",
    "try:\n",
    "    normeddf.to_pickle('%s_normed' %finalFileName)\n",
    "    print 'saving normed df to file'\n",
    "except:\n",
    "    pass\n",
    "\n",
    "try:\n",
    "    logdf.to_pickle('%s_log' %finalFileName)\n",
    "    print 'saving log df to file'\n",
    "except:\n",
    "    pass\n",
    "\n",
    "\n",
    "print 'ALL is done!!!'\n"
   ]
  },
  {
   "cell_type": "code",
   "execution_count": null,
   "metadata": {
    "ExecuteTime": {
     "end_time": "2018-06-05T10:23:30.094844Z",
     "start_time": "2018-06-05T10:23:29.780900Z"
    }
   },
   "outputs": [],
   "source": [
    "print origDF.iloc[:3,:3]\n",
    "print df.iloc[:3,:3]\n",
    "print dfBinary.iloc[:3,:3]\n",
    "print normeddf.iloc[:3,:3]\n",
    "print logdf.iloc[:3,:3]\n",
    "\n"
   ]
  },
  {
   "cell_type": "code",
   "execution_count": null,
   "metadata": {},
   "outputs": [],
   "source": []
  },
  {
   "cell_type": "markdown",
   "metadata": {},
   "source": [
    "# define function:\n"
   ]
  },
  {
   "cell_type": "markdown",
   "metadata": {},
   "source": [
    "the function genTCRorMBdfWithManipulations was copied to TCR_microbiome_interactions_functions2\n",
    "\n",
    "the function is based on the development seen above"
   ]
  },
  {
   "cell_type": "markdown",
   "metadata": {},
   "source": [
    "# run function:"
   ]
  },
  {
   "cell_type": "code",
   "execution_count": null,
   "metadata": {
    "ExecuteTime": {
     "end_time": "2018-06-19T12:53:37.932908Z",
     "start_time": "2018-06-19T10:03:01.886045Z"
    }
   },
   "outputs": [],
   "source": [
    "df=genTCRorMBdfWithManipulations(DFtype,genDF,toBinary,removeOutliers,normData,logTransform,\n",
    "                                 minVal,minSharedT,percShared,\n",
    "                                 mbLevel,useShortName,datasetFolder,datasetName,extractUniqueAA,\n",
    "                                minNshared=2,onlyProductive=True,mbDataFolder='AllSeqProjects',SampleList=PNP530,\n",
    "                                  SampleListName='PNP530',filterlibPrepMethod=None,filterGenotek=True, \n",
    "                                  groupFunction='noOutlierMean', nSTD=5, nMinSamples=3, ignoreNotSameYear=True, removeSamePerson=False)\n"
   ]
  },
  {
   "cell_type": "markdown",
   "metadata": {},
   "source": [
    "## run for PNP530_ss9000"
   ]
  },
  {
   "cell_type": "code",
   "execution_count": null,
   "metadata": {},
   "outputs": [],
   "source": [
    "DFtype='TCR'\n",
    "genDF=True #False=generate new df\n",
    "toBinary=True\n",
    "\n",
    "datasetFolder='%s/TCR_real_data/PNP530_SubSampled9000data_rep1' %MyPath\n",
    "datasetName='PNP530_ss9000_rep1'\n",
    "\n",
    "#parameters for manipulations on df \n",
    "minVal=None    #minVal can be None,0, float, or 'dfMinVal' or dfMinVal2:\n",
    "minSharedT=None #minimal number of samples shared by seq/species required to leave sample in the database (int or None)\n",
    "percShared=10 #minimal number of samples shared by seq/species required to leave sample in the database (int [ percentage]\n",
    "                #or None)\n",
    "removeOutliers=True\n",
    "normData=True\n",
    "logTransform=True\n",
    "\n",
    "minNshared=50"
   ]
  },
  {
   "cell_type": "code",
   "execution_count": null,
   "metadata": {},
   "outputs": [],
   "source": [
    "df=genTCRorMBdfWithManipulations(DFtype,genDF,toBinary,removeOutliers,normData,logTransform,\n",
    "                                 minVal,minSharedT,percShared,\n",
    "                                 mbLevel,useShortName,datasetFolder,datasetName,extractUniqueAA,\n",
    "                                minNshared=2,onlyProductive=True,mbDataFolder='AllSeqProjects',SampleList=PNP530,\n",
    "                                  SampleListName='PNP530',filterlibPrepMethod=None,filterGenotek=True, \n",
    "                                  groupFunction='noOutlierMean', nSTD=5, nMinSamples=3, ignoreNotSameYear=True, removeSamePerson=False)\n"
   ]
  },
  {
   "cell_type": "markdown",
   "metadata": {},
   "source": [
    "## run for cardio126_ss9000"
   ]
  },
  {
   "cell_type": "code",
   "execution_count": null,
   "metadata": {},
   "outputs": [],
   "source": [
    "DFtype='TCR'\n",
    "genDF=True #False=generate new df\n",
    "toBinary=True\n",
    "\n",
    "datasetFolder='%s/TCR_real_data/CardioSamples/Cardio126_SubSampled9000data_rep1' %MyPath\n",
    "datasetName='Cardio126_ss9000_rep1'\n",
    "\n",
    "#parameters for manipulations on df \n",
    "minVal=None    #minVal can be None,0, float, or 'dfMinVal' or dfMinVal2:\n",
    "minSharedT=None #minimal number of samples shared by seq/species required to leave sample in the database (int or None)\n",
    "percShared=10 #minimal number of samples shared by seq/species required to leave sample in the database (int [ percentage]\n",
    "                #or None)\n",
    "removeOutliers=True\n",
    "normData=False\n",
    "logTransform=False\n",
    "\n",
    "minNshared=2\n",
    "\n",
    "df=genTCRorMBdfWithManipulations(DFtype,genDF,toBinary,removeOutliers,normData,logTransform,\n",
    "                                 minVal,minSharedT,percShared,\n",
    "                                 mbLevel,useShortName,datasetFolder,datasetName,extractUniqueAA,\n",
    "                                minNshared=2,onlyProductive=True,mbDataFolder='AllSeqProjects',SampleList=PNP530,\n",
    "                                  SampleListName='PNP530',filterlibPrepMethod=None,filterGenotek=True, \n",
    "                                  groupFunction='noOutlierMean', nSTD=5, nMinSamples=3, ignoreNotSameYear=True, removeSamePerson=False)\n"
   ]
  },
  {
   "cell_type": "code",
   "execution_count": null,
   "metadata": {},
   "outputs": [],
   "source": [
    "minSharedT=2 #minimal number of samples shared by seq/species required to leave sample in the database (int or None)\n",
    "percShared=None #minimal number of samples shared by seq/species required to leave sample in the database (int [ percentage]\n",
    "                #or None)\n",
    "\n",
    "df=genTCRorMBdfWithManipulations(DFtype,genDF,toBinary,removeOutliers,normData,logTransform,\n",
    "                                 minVal,minSharedT,percShared,\n",
    "                                 mbLevel,useShortName,datasetFolder,datasetName,extractUniqueAA,\n",
    "                                minNshared=2,onlyProductive=True,mbDataFolder='AllSeqProjects',SampleList=PNP530,\n",
    "                                  SampleListName='PNP530',filterlibPrepMethod=None,filterGenotek=True, \n",
    "                                  groupFunction='noOutlierMean', nSTD=5, nMinSamples=3, ignoreNotSameYear=True, removeSamePerson=False)\n"
   ]
  },
  {
   "cell_type": "markdown",
   "metadata": {},
   "source": [
    "## run for PNP530Cardio126"
   ]
  },
  {
   "cell_type": "code",
   "execution_count": null,
   "metadata": {
    "ExecuteTime": {
     "end_time": "2018-06-25T19:45:08.954641Z",
     "start_time": "2018-06-25T18:47:57.258404Z"
    }
   },
   "outputs": [],
   "source": [
    "df=genTCRorMBdfWithManipulations(DFtype,genDF,toBinary,removeOutliers,normData,logTransform,\n",
    "                                 minVal,minSharedT,percShared,\n",
    "                                 mbLevel,useShortName,datasetFolder,datasetName,extractUniqueAA,\n",
    "                                minNshared,onlyProductive,mbDataFolder,SampleList,\n",
    "                                  SampleListName,filterlibPrepMethod,filterGenotek, \n",
    "                                  groupFunction, nSTD, nMinSamples, ignoreNotSameYear, removeSamePerson)"
   ]
  },
  {
   "cell_type": "markdown",
   "metadata": {},
   "source": [
    "## run for PNP530_ss5000"
   ]
  },
  {
   "cell_type": "code",
   "execution_count": null,
   "metadata": {
    "ExecuteTime": {
     "end_time": "2018-07-13T10:42:58.993878Z",
     "start_time": "2018-07-13T08:51:49.733212Z"
    }
   },
   "outputs": [],
   "source": [
    "DFtype='TCR'\n",
    "genDF=True #False=generate new df\n",
    "toBinary=True\n",
    "\n",
    "datasetFolder='%s/TCR_real_data/PNP530_SubSampled5000data_rep1' %MyPath\n",
    "datasetName='PNP530_ss5000_rep1'\n",
    "\n",
    "#parameters for manipulations on df \n",
    "minVal=None    #minVal can be None,0, float, or 'dfMinVal' or dfMinVal2:\n",
    "minSharedT=2 #minimal number of samples shared by seq/species required to leave sample in the database (int or None)\n",
    "percShared=None #minimal number of samples shared by seq/species required to leave sample in the database (int [ percentage]\n",
    "                #or None)\n",
    "removeOutliers=True\n",
    "normData=True\n",
    "logTransform=True\n",
    "\n",
    "minNshared=2\n",
    "\n",
    "df=genTCRorMBdfWithManipulations(DFtype,genDF,toBinary,removeOutliers,normData,logTransform,\n",
    "                                 minVal,minSharedT,percShared,\n",
    "                                 mbLevel,useShortName,datasetFolder,datasetName,extractUniqueAA,\n",
    "                                minNshared,onlyProductive,mbDataFolder,SampleList,\n",
    "                                  SampleListName,filterlibPrepMethod,filterGenotek, \n",
    "                                  groupFunction, nSTD, nMinSamples, ignoreNotSameYear, removeSamePerson)\n"
   ]
  },
  {
   "cell_type": "code",
   "execution_count": null,
   "metadata": {},
   "outputs": [],
   "source": []
  },
  {
   "cell_type": "code",
   "execution_count": null,
   "metadata": {
    "ExecuteTime": {
     "end_time": "2018-07-15T05:17:51.298305Z",
     "start_time": "2018-07-15T05:17:12.222995Z"
    }
   },
   "outputs": [],
   "source": [
    "DFtype='TCR'\n",
    "genDF=False #False=generate new df\n",
    "toBinary=True\n",
    "\n",
    "datasetFolder='%s/TCR_real_data/PNP530_SubSampled5000data_rep1' %MyPath\n",
    "datasetName='PNP530_ss5000_rep1'\n",
    "\n",
    "#parameters for manipulations on df \n",
    "minVal=None    #minVal can be None,0, float, or 'dfMinVal' or dfMinVal2:\n",
    "minSharedT=None #minimal number of samples shared by seq/species required to leave sample in the database (int or None)\n",
    "percShared=10 #minimal number of samples shared by seq/species required to leave sample in the database (int [ percentage]\n",
    "                #or None)\n",
    "removeOutliers=True\n",
    "normData=True\n",
    "logTransform=True\n",
    "extractUniqueAA=False\n",
    "minNshared=2\n",
    "\n",
    "df=genTCRorMBdfWithManipulations(DFtype,genDF,toBinary,removeOutliers,normData,logTransform,\n",
    "                                 minVal,minSharedT,percShared,\n",
    "                                 mbLevel,useShortName,datasetFolder,datasetName,extractUniqueAA,\n",
    "                                minNshared,onlyProductive,mbDataFolder,SampleList,\n",
    "                                  SampleListName,filterlibPrepMethod,filterGenotek, \n",
    "                                  groupFunction, nSTD, nMinSamples, ignoreNotSameYear, removeSamePerson)\n"
   ]
  },
  {
   "cell_type": "code",
   "execution_count": null,
   "metadata": {},
   "outputs": [],
   "source": []
  },
  {
   "cell_type": "markdown",
   "metadata": {},
   "source": [
    "## run for Cardio126_ss5000"
   ]
  },
  {
   "cell_type": "code",
   "execution_count": null,
   "metadata": {
    "ExecuteTime": {
     "end_time": "2018-07-15T11:44:15.772659Z",
     "start_time": "2018-07-15T11:42:16.675588Z"
    }
   },
   "outputs": [],
   "source": [
    "# minNshared=2\n",
    "\n",
    "\n",
    "# parameters to change:\n",
    "#general parameters:\n",
    "DFtype='TCR'\n",
    "genDF=True #False=generate new df\n",
    "toBinary=True\n",
    "\n",
    "#basic prameters for generating df:\n",
    "mbLevel='g'\n",
    "useShortName=True\n",
    "\n",
    "datasetFolder='%s/TCR_real_data/CardioSamples/Cardio126_SubSampled5000data_rep1' %MyPath\n",
    "datasetName='Cardio126_ss5000_rep1' \n",
    "\n",
    "#parameters for manipulations on df \n",
    "minVal=None    #minVal can be None,0, float, or 'dfMinVal' or dfMinVal2:\n",
    "minSharedT=2 #minimal number of samples shared by seq/species required to leave sample in the database (int or None)\n",
    "percShared=None #minimal number of samples shared by seq/species required to leave sample in the database (int [ percentage]\n",
    "                #or None)\n",
    "removeOutliers=True\n",
    "normData=True\n",
    "logTransform=True\n",
    "\n",
    "\n",
    "\n",
    "\n",
    "#constant parameters:\n",
    "extractUniqueAA=True # use True when this is the first time to analyze this dataset, otherwise, use False\n",
    "minNshared=2\n",
    "onlyProductive=True\n",
    "\n",
    "mbDataFolder='AllSeqProjects'\n",
    "with open('/net/mraid08/export/genie/Lab/Personal/ShaniBAF/Sample files/BD lists/PNP530','rb') as fp:\n",
    "    PNP530=pickle.load(fp)\n",
    "with open('/net/mraid08/export/genie/Lab/Personal/ShaniBAF/Sample files/BD lists/Cardio126','rb') as fp:\n",
    "    Cardio126=pickle.load(fp)\n",
    "PNP530Cardio126list=PNP530+Cardio126\n",
    "SampleList=PNP530\n",
    "SampleListName='Cardio126'\n",
    "libPrepMethod=None\n",
    "filterGenotek=True\n",
    "filterMinimalReads=9000000\n",
    "filterlibPrepMethod=libPrepMethod\n",
    "groupFunction='noOutlierMean'\n",
    "nSTD=5\n",
    "nMinSamples=3\n",
    "ignoreNotSameYear=True\n",
    "removeSamePerson=False\n",
    "\n",
    "\n",
    "\n",
    "\n",
    "df=genTCRorMBdfWithManipulations(DFtype,genDF,toBinary,removeOutliers,normData,logTransform,\n",
    "                                 minVal,minSharedT,percShared,\n",
    "                                 mbLevel,useShortName,datasetFolder,datasetName,extractUniqueAA,\n",
    "                                minNshared,onlyProductive,mbDataFolder,SampleList,\n",
    "                                  SampleListName,filterlibPrepMethod,filterGenotek, \n",
    "                                  groupFunction, nSTD, nMinSamples, ignoreNotSameYear, removeSamePerson)\n"
   ]
  },
  {
   "cell_type": "code",
   "execution_count": null,
   "metadata": {},
   "outputs": [],
   "source": []
  },
  {
   "cell_type": "code",
   "execution_count": null,
   "metadata": {
    "ExecuteTime": {
     "end_time": "2018-07-16T18:35:33.218691Z",
     "start_time": "2018-07-16T18:35:27.350648Z"
    }
   },
   "outputs": [],
   "source": [
    "# min perc shared =10\n",
    "\n",
    "DFtype='TCR'\n",
    "genDF=False #False=generate new df\n",
    "toBinary=True\n",
    "\n",
    "\n",
    "#parameters for manipulations on df \n",
    "minVal=None    #minVal can be None,0, float, or 'dfMinVal' or dfMinVal2:\n",
    "minSharedT=None #minimal number of samples shared by seq/species required to leave sample in the database (int or None)\n",
    "percShared=10 #minimal number of samples shared by seq/species required to leave sample in the database (int [ percentage]\n",
    "                #or None)\n",
    "removeOutliers=True\n",
    "normData=True\n",
    "logTransform=True\n",
    "extractUniqueAA=False\n",
    "minNshared=2\n",
    "\n",
    "df=genTCRorMBdfWithManipulations(DFtype,genDF,toBinary,removeOutliers,normData,logTransform,\n",
    "                                 minVal,minSharedT,percShared,\n",
    "                                 mbLevel,useShortName,datasetFolder,datasetName,extractUniqueAA,\n",
    "                                minNshared,onlyProductive,mbDataFolder,SampleList,\n",
    "                                  SampleListName,filterlibPrepMethod,filterGenotek, \n",
    "                                  groupFunction, nSTD, nMinSamples, ignoreNotSameYear, removeSamePerson)\n"
   ]
  },
  {
   "cell_type": "markdown",
   "metadata": {},
   "source": [
    "# run for PNP530 (21102018)"
   ]
  },
  {
   "cell_type": "code",
   "execution_count": null,
   "metadata": {
    "ExecuteTime": {
     "end_time": "2018-10-23T12:26:38.534228Z",
     "start_time": "2018-10-23T12:23:48.347213Z"
    }
   },
   "outputs": [],
   "source": [
    "#TO GENERATE TCRDF WITH *ALL* shared sequences!! (nMinSahred=2)\n",
    "df=genTCRorMBdfWithManipulations(DFtype,genDF,toBinary,removeOutliers,normData,logTransform,\n",
    "                                 minVal,minSharedT,percShared,\n",
    "                                 mbLevel,useShortName,datasetFolder,datasetName,extractUniqueAA,\n",
    "                                minNshared,onlyProductive,mbDataFolder,SampleList,\n",
    "                                  SampleListName,filterlibPrepMethod,filterGenotek, \n",
    "                                  groupFunction, nSTD, nMinSamples, ignoreNotSameYear, removeSamePerson)\n"
   ]
  },
  {
   "cell_type": "code",
   "execution_count": null,
   "metadata": {},
   "outputs": [],
   "source": [
    "### save df in an efficient manner"
   ]
  },
  {
   "cell_type": "code",
   "execution_count": null,
   "metadata": {
    "ExecuteTime": {
     "end_time": "2018-08-25T22:25:34.649432Z",
     "start_time": "2018-08-25T22:25:34.447510Z"
    }
   },
   "outputs": [],
   "source": [
    "from pandas import HDFStore,DataFrame# create (or open) an hdf5 file and opens in append mode\n",
    "hdf =HDFStore('storage.h5')"
   ]
  },
  {
   "cell_type": "code",
   "execution_count": null,
   "metadata": {
    "ExecuteTime": {
     "end_time": "2018-08-25T22:27:09.588725Z",
     "start_time": "2018-08-25T22:27:09.533343Z"
    }
   },
   "outputs": [],
   "source": [
    "f1='%s/sharingMatrix_PNP530_minNshared2_RA_onlyProductiveTrue.h5' %MyPath\n",
    "hdf =HDFStore(f1)"
   ]
  },
  {
   "cell_type": "code",
   "execution_count": null,
   "metadata": {
    "ExecuteTime": {
     "end_time": "2018-08-25T22:28:00.069954Z",
     "start_time": "2018-08-25T22:28:00.013319Z"
    }
   },
   "outputs": [],
   "source": [
    "df.head()"
   ]
  },
  {
   "cell_type": "code",
   "execution_count": null,
   "metadata": {
    "ExecuteTime": {
     "end_time": "2018-08-25T22:28:24.280074Z",
     "start_time": "2018-08-25T22:28:24.258660Z"
    }
   },
   "outputs": [],
   "source": [
    "df.info()"
   ]
  },
  {
   "cell_type": "code",
   "execution_count": null,
   "metadata": {
    "ExecuteTime": {
     "end_time": "2018-08-25T22:27:33.616908Z",
     "start_time": "2018-08-25T22:27:29.454226Z"
    }
   },
   "outputs": [],
   "source": [
    "hdf.put('d1', df, format='table', data_columns=True)"
   ]
  },
  {
   "cell_type": "markdown",
   "metadata": {},
   "source": [
    "## run for Cardio126 (15082018)"
   ]
  },
  {
   "cell_type": "code",
   "execution_count": null,
   "metadata": {
    "ExecuteTime": {
     "end_time": "2018-08-15T14:37:39.358856Z",
     "start_time": "2018-08-15T14:36:42.760716Z"
    }
   },
   "outputs": [],
   "source": [
    "df=genTCRorMBdfWithManipulations(DFtype,genDF,toBinary,removeOutliers,normData,logTransform,\n",
    "                                 minVal,minSharedT,percShared,\n",
    "                                 mbLevel,useShortName,datasetFolder,datasetName,extractUniqueAA,\n",
    "                                minNshared,onlyProductive,mbDataFolder,SampleList,\n",
    "                                  SampleListName,filterlibPrepMethod,filterGenotek, \n",
    "                                  groupFunction, nSTD, nMinSamples, ignoreNotSameYear, removeSamePerson)\n"
   ]
  },
  {
   "cell_type": "markdown",
   "metadata": {},
   "source": [
    "## run for PNP530Cardio126 (11102018)"
   ]
  },
  {
   "cell_type": "code",
   "execution_count": 11,
   "metadata": {
    "ExecuteTime": {
     "end_time": "2019-02-13T14:23:27.978350Z",
     "start_time": "2019-02-13T14:06:58.417572Z"
    }
   },
   "outputs": [
    {
     "name": "stdout",
     "output_type": "stream",
     "text": [
      "preparing sharing Matrix\n",
      "extracting unique aa sequenecs from all samples...(n=646)\n",
      "0 BD1016_5000.tsv\n",
      "1 BD184_2_5000.tsv\n",
      "2 BD881_5000.tsv\n",
      "3 BD437_5000.tsv\n",
      "4 BD1019_5000.tsv\n",
      "5 BD161_322939_2_5000.tsv\n",
      "6 BD438_5000.tsv\n",
      "7 BD504_5000.tsv\n",
      "8 BD233_5000.tsv\n",
      "9 BD867_5000.tsv\n",
      "10 BD579_1_5000.tsv\n",
      "11 BD868_5000.tsv\n",
      "12 BD553_5000.tsv\n",
      "13 BD764_1_5000.tsv\n",
      "14 BD830_5000.tsv\n",
      "15 BD717_1_5000.tsv\n",
      "16 BD903_5000.tsv\n",
      "17 BD460_5000.tsv\n",
      "18 BD357_5000.tsv\n",
      "19 BD701_1_5000.tsv\n",
      "20 BD694_1_5000.tsv\n",
      "21 BD428_5000.tsv\n",
      "22 BD1009_5000.tsv\n",
      "23 BD664_1_5000.tsv\n",
      "24 BD891_5000.tsv\n",
      "25 BD427_5000.tsv\n",
      "26 BD1006_5000.tsv\n",
      "27 BD944_5000.tsv\n",
      "28 BD878_5000.tsv\n",
      "29 BD682_1_5000.tsv\n",
      "30 BD877_5000.tsv\n",
      "31 BD499_5000.tsv\n",
      "32 BD794_5000.tsv\n",
      "33 BD496_5000.tsv\n",
      "34 BD543_5000.tsv\n",
      "35 BD19_5000.tsv\n",
      "36 BD449_2_5000.tsv\n",
      "37 BD16_5000.tsv\n",
      "38 BD140_322939_2_5000.tsv\n",
      "39 BD292_5000.tsv\n",
      "40 BD913_5000.tsv\n",
      "41 BD1051_5000.tsv\n",
      "42 BD848_5000.tsv\n",
      "43 BD992_5000.tsv\n",
      "44 BD524_5000.tsv\n",
      "45 BD847_5000.tsv\n",
      "46 BD974_5000.tsv\n",
      "47 BD1036_5000.tsv\n",
      "48 BD417_5000.tsv\n",
      "49 BD71_5000.tsv\n",
      "50 BD378_5000.tsv\n",
      "51 BD29_5000.tsv\n",
      "52 BD689_1_5000.tsv\n",
      "53 BD1061_5000.tsv\n",
      "54 BD923_5000.tsv\n",
      "55 BD26_5000.tsv\n",
      "56 BD377_5000.tsv\n",
      "57 BD679_1_5000.tsv\n",
      "58 BD440_5000.tsv\n",
      "59 BD1088_5000.tsv\n",
      "60 BD1087_5000.tsv\n",
      "61 BD5_5000.tsv\n",
      "62 BD573_5000.tsv\n",
      "63 BD810_5000.tsv\n",
      "64 BD391_5000.tsv\n",
      "65 BD857_5000.tsv\n",
      "66 BD639_5000.tsv\n",
      "67 BD982_5000.tsv\n",
      "68 BD534_5000.tsv\n",
      "69 BD64_322939_2_5000.tsv\n",
      "70 BD789_1_5000.tsv\n",
      "71 BD858_5000.tsv\n",
      "72 BD101_5000.tsv\n",
      "73 BD964_5000.tsv\n",
      "74 BD1026_5000.tsv\n",
      "75 BD408_5000.tsv\n",
      "76 BD36_5000.tsv\n",
      "77 BD367_5000.tsv\n",
      "78 BD123_322939_2_5000.tsv\n",
      "79 BD1071_5000.tsv\n",
      "80 BD933_5000.tsv\n",
      "81 BD368_5000.tsv\n",
      "82 BD726_1_5000.tsv\n",
      "83 BD800_5000.tsv\n",
      "84 BD381_5000.tsv\n",
      "85 BD1097_5000.tsv\n",
      "86 BD563_5000.tsv\n",
      "87 BD136_322939_2_5000.tsv\n",
      "88 BD730_1_5000.tsv\n",
      "89 BD1098_5000.tsv\n",
      "90 BD420_5000.tsv\n",
      "91 BD896_5000.tsv\n",
      "92 BD943_5000.tsv\n",
      "93 BD1001_5000.tsv\n",
      "94 BD899_5000.tsv\n",
      "95 BD49_5000.tsv\n",
      "96 BD125_322939_2_5000.tsv\n",
      "97 BD870_5000.tsv\n",
      "98 BD445_2_5000.tsv\n",
      "99 BD130_322939_2_5000.tsv\n",
      "100 BD621_1_5000.tsv\n",
      "101 BD491_5000.tsv\n",
      "102 BD668_1_5000.tsv\n",
      "103 BD544_5000.tsv\n",
      "104 BD273_5000.tsv\n",
      "105 BD793_5000.tsv\n",
      "106 BD828_5000.tsv\n",
      "107 BD698_1_5000.tsv\n",
      "108 BD340_5000.tsv\n",
      "109 BD11_5000.tsv\n",
      "110 BD477_5000.tsv\n",
      "111 BD1056_5000.tsv\n",
      "112 BD914_5000.tsv\n",
      "113 BD478_5000.tsv\n",
      "114 BD889_5000.tsv\n",
      "115 BD308_5000.tsv\n",
      "116 BD1011_5000.tsv\n",
      "117 BD768_1_5000.tsv\n",
      "118 BD886_5000.tsv\n",
      "119 BD113_1rep_5000.tsv\n",
      "120 BD503_5000.tsv\n",
      "121 BD860_5000.tsv\n",
      "122 BD838_5000.tsv\n",
      "123 BD554_5000.tsv\n",
      "124 BD744_1_5000.tsv\n",
      "125 BD593_1_5000.tsv\n",
      "126 BD837_5000.tsv\n",
      "127 BD107_1rep_5000.tsv\n",
      "128 BD481_5000.tsv\n",
      "129 BD1049_5000.tsv\n",
      "130 BD468_5000.tsv\n",
      "131 BD904_5000.tsv\n",
      "132 BD467_5000.tsv\n",
      "133 BD585_1_5000.tsv\n",
      "134 BD106_5000.tsv\n",
      "135 BD153_322939_2_5000.tsv\n",
      "136 BD850_5000.tsv\n",
      "137 BD84_2_5000.tsv\n",
      "138 BD533_5000.tsv\n",
      "139 BD985_5000.tsv\n",
      "140 BD146_322939_2_5000.tsv\n",
      "141 BD568_1_5000.tsv\n",
      "142 BD66_5000.tsv\n",
      "143 BD598_1_5000.tsv\n",
      "144 BD337_5000.tsv\n",
      "145 BD400_5000.tsv\n",
      "146 BD1021_5000.tsv\n",
      "147 BD963_5000.tsv\n",
      "148 BD785_1_5000.tsv\n",
      "149 BD1079_5000.tsv\n",
      "150 BD706_1_5000.tsv\n",
      "151 BD934_5000.tsv\n",
      "152 BD1076_5000.tsv\n",
      "153 BD582_5000.tsv\n",
      "154 BD389_5000.tsv\n",
      "155 BD808_5000.tsv\n",
      "156 BD763_1_5000.tsv\n",
      "157 BD807_5000.tsv\n",
      "158 BD386_5000.tsv\n",
      "159 BD1090_5000.tsv\n",
      "160 BD564_5000.tsv\n",
      "161 BD995_5000.tsv\n",
      "162 BD840_5000.tsv\n",
      "163 BD606_1_5000.tsv\n",
      "164 BD1031_5000.tsv\n",
      "165 BD973_5000.tsv\n",
      "166 BD327_5000.tsv\n",
      "167 BD410_5000.tsv\n",
      "168 BD610_1_5000.tsv\n",
      "169 BD158_322939_2_5000.tsv\n",
      "170 BD924_5000.tsv\n",
      "171 BD1066_5000.tsv\n",
      "172 BD447_5000.tsv\n",
      "173 BD1069_5000.tsv\n",
      "174 BD2_5000.tsv\n",
      "175 BD396_5000.tsv\n",
      "176 BD399_5000.tsv\n",
      "177 BD70_5000.tsv\n",
      "178 BD321_5000.tsv\n",
      "179 BD603_1_5000.tsv\n",
      "180 BD416_5000.tsv\n",
      "181 BD1037_5000.tsv\n",
      "182 BD419_5000.tsv\n",
      "183 BD670_1_5000.tsv\n",
      "184 BD993_5000.tsv\n",
      "185 BD849_5000.tsv\n",
      "186 BD128_1rep_5000.tsv\n",
      "187 BD811_5000.tsv\n",
      "188 BD390_5000.tsv\n",
      "189 BD245_5000.tsv\n",
      "190 BD1086_5000.tsv\n",
      "191 BD4_5000.tsv\n",
      "192 BD1089_5000.tsv\n",
      "193 BD441_5000.tsv\n",
      "194 BD27_5000.tsv\n",
      "195 BD376_5000.tsv\n",
      "196 BD922_5000.tsv\n",
      "197 BD1060_5000.tsv\n",
      "198 BD379_5000.tsv\n",
      "199 BD28_5000.tsv\n",
      "200 BD1028_5000.tsv\n",
      "201 BD409_5000.tsv\n",
      "202 BD965_5000.tsv\n",
      "203 BD406_5000.tsv\n",
      "204 BD859_5000.tsv\n",
      "205 BD739_1_5000.tsv\n",
      "206 BD535_5000.tsv\n",
      "207 BD983_5000.tsv\n",
      "208 BD856_5000.tsv\n",
      "209 BD160_322939_2_5000.tsv\n",
      "210 BD1099_5000.tsv\n",
      "211 BD1096_5000.tsv\n",
      "212 BD703_1_5000.tsv\n",
      "213 BD801_5000.tsv\n",
      "214 BD380_5000.tsv\n",
      "215 BD766_1_5000.tsv\n",
      "216 BD369_5000.tsv\n",
      "217 BD932_5000.tsv\n",
      "218 BD1070_5000.tsv\n",
      "219 BD122_322939_2_5000.tsv\n",
      "220 BD232_5000.tsv\n",
      "221 BD505_5000.tsv\n",
      "222 BD439_5000.tsv\n",
      "223 BD1018_5000.tsv\n",
      "224 BD708_1_5000.tsv\n",
      "225 BD436_5000.tsv\n",
      "226 BD880_5000.tsv\n",
      "227 BD137_322939_2_5000.tsv\n",
      "228 BD1017_5000.tsv\n",
      "229 BD741_1_5000.tsv\n",
      "230 BD108_322939_2_5000.tsv\n",
      "231 BD596_1_5000.tsv\n",
      "232 BD461_5000.tsv\n",
      "233 BD702_2_5000.tsv\n",
      "234 BD902_5000.tsv\n",
      "235 BD488_5000.tsv\n",
      "236 BD580_1_5000.tsv\n",
      "237 BD831_5000.tsv\n",
      "238 BD487_5000.tsv\n",
      "239 BD570_1_5000.tsv\n",
      "240 BD714_2_5000.tsv\n",
      "241 BD724_1_5000.tsv\n",
      "242 BD222_5000.tsv\n",
      "243 BD618_5000.tsv\n",
      "244 BD876_5000.tsv\n",
      "245 BD671_2_5000.tsv\n",
      "246 BD945_5000.tsv\n",
      "247 BD1007_5000.tsv\n",
      "248 BD426_5000.tsv\n",
      "249 BD1008_5000.tsv\n",
      "250 BD657_1_5000.tsv\n",
      "251 BD429_5000.tsv\n",
      "252 BD111_1rep_5000.tsv\n",
      "253 BD1050_5000.tsv\n",
      "254 BD912_5000.tsv\n",
      "255 BD18_5000.tsv\n",
      "256 BD349_5000.tsv\n",
      "257 BD542_5000.tsv\n",
      "258 BD275_5000.tsv\n",
      "259 BD608_1_5000.tsv\n",
      "260 BD497_5000.tsv\n",
      "261 BD795_5000.tsv\n",
      "262 BD498_5000.tsv\n",
      "263 BD962_5000.tsv\n",
      "264 BD1020_5000.tsv\n",
      "265 BD401_5000.tsv\n",
      "266 BD339_5000.tsv\n",
      "267 BD984_5000.tsv\n",
      "268 BD851_5000.tsv\n",
      "269 BD57_322939_2_5000.tsv\n",
      "270 BD723_1_5000.tsv\n",
      "271 BD565_5000.tsv\n",
      "272 BD806_5000.tsv\n",
      "273 BD387_5000.tsv\n",
      "274 BD388_5000.tsv\n",
      "275 BD809_5000.tsv\n",
      "276 BD1077_5000.tsv\n",
      "277 BD935_5000.tsv\n",
      "278 BD30_5000.tsv\n",
      "279 BD1078_5000.tsv\n",
      "280 BD434_2_5000.tsv\n",
      "281 BD329_5000.tsv\n",
      "282 BD411_5000.tsv\n",
      "283 BD326_5000.tsv\n",
      "284 BD1030_5000.tsv\n",
      "285 BD623_1_5000.tsv\n",
      "286 BD646_1_5000.tsv\n",
      "287 BD841_5000.tsv\n",
      "288 BD398_5000.tsv\n",
      "289 BD124_322939_2_5000.tsv\n",
      "290 BD397_5000.tsv\n",
      "291 BD3_5000.tsv\n",
      "292 BD1081_5000.tsv\n",
      "293 BD131_322939_2_5000.tsv\n",
      "294 BD1068_5000.tsv\n",
      "295 BD691_5000.tsv\n",
      "296 BD20_5000.tsv\n",
      "297 BD371_5000.tsv\n",
      "298 BD202_2_5000.tsv\n",
      "299 BD1067_5000.tsv\n",
      "300 BD925_5000.tsv\n",
      "301 BD127_5000.tsv\n",
      "302 BD148b_05ug_5000.tsv\n",
      "303 BD225_5000.tsv\n",
      "304 BD612_1_5000.tsv\n",
      "305 BD677_1_5000.tsv\n",
      "306 BD898_5000.tsv\n",
      "307 BD1000_5000.tsv\n",
      "308 BD316_5000.tsv\n",
      "309 BD897_5000.tsv\n",
      "310 BD604_1_5000.tsv\n",
      "311 BD421_5000.tsv\n",
      "312 BD1058_5000.tsv\n",
      "313 BD479_5000.tsv\n",
      "314 BD915_5000.tsv\n",
      "315 BD199_5000.tsv\n",
      "316 BD476_5000.tsv\n",
      "317 BD10_5000.tsv\n",
      "318 BD159_322939_2_5000.tsv\n",
      "319 BD829_5000.tsv\n",
      "320 BD792_5000.tsv\n",
      "321 BD272_5000.tsv\n",
      "322 BD648_5000.tsv\n",
      "323 BD628_1_5000.tsv\n",
      "324 BD545_5000.tsv\n",
      "325 BD490_5000.tsv\n",
      "326 BD861_5000.tsv\n",
      "327 BD600_5000.tsv\n",
      "328 BD887_5000.tsv\n",
      "329 BD431_5000.tsv\n",
      "330 BD1010_5000.tsv\n",
      "331 BD728_1_5000.tsv\n",
      "332 BD952_5000.tsv\n",
      "333 BD58_5000.tsv\n",
      "334 BD888_5000.tsv\n",
      "335 BD712_1_5000.tsv\n",
      "336 BD351_5000.tsv\n",
      "337 BD905_5000.tsv\n",
      "338 BD1047_5000.tsv\n",
      "339 BD469_5000.tsv\n",
      "340 BD1048_5000.tsv\n",
      "341 BD480_5000.tsv\n",
      "342 BD704_1_5000.tsv\n",
      "343 BD836_5000.tsv\n",
      "344 BD839_5000.tsv\n",
      "345 BD782_5000.tsv\n",
      "346 BD147_322939_2_5000.tsv\n",
      "347 BD919_5000.tsv\n",
      "348 BD195_5000.tsv\n",
      "349 BD916_5000.tsv\n",
      "350 BD1054_5000.tsv\n",
      "351 BD13_5000.tsv\n",
      "352 BD549_5000.tsv\n",
      "353 BD791_5000.tsv\n",
      "354 BD546_5000.tsv\n",
      "355 BD134_322939_2_5000.tsv\n",
      "356 BD229_5000.tsv\n",
      "357 BD446_2_5000.tsv\n",
      "358 BD121_322939_2_5000.tsv\n",
      "359 BD1003_5000.tsv\n",
      "360 BD941_5000.tsv\n",
      "361 BD894_5000.tsv\n",
      "362 BD450_2_5000.tsv\n",
      "363 BD422_5000.tsv\n",
      "364 BD465_5000.tsv\n",
      "365 BD352_5000.tsv\n",
      "366 BD906_5000.tsv\n",
      "367 BD586_1_5000.tsv\n",
      "368 BD909_5000.tsv\n",
      "369 BD761_2_5000.tsv\n",
      "370 BD185_5000.tsv\n",
      "371 BD483_5000.tsv\n",
      "372 BD835_5000.tsv\n",
      "373 BD747_1_5000.tsv\n",
      "374 BD862_5000.tsv\n",
      "375 BD501_5000.tsv\n",
      "376 BD366_2_5000.tsv\n",
      "377 BD239_5000.tsv\n",
      "378 BD884_5000.tsv\n",
      "379 BD432_5000.tsv\n",
      "380 BD1013_5000.tsv\n",
      "381 BD951_5000.tsv\n",
      "382 BD1092_5000.tsv\n",
      "383 BD566_5000.tsv\n",
      "384 BD713_1_5000.tsv\n",
      "385 BD805_5000.tsv\n",
      "386 BD1074_5000.tsv\n",
      "387 BD936_5000.tsv\n",
      "388 BD705_1_5000.tsv\n",
      "389 BD33_5000.tsv\n",
      "390 BD362_5000.tsv\n",
      "391 BD939_5000.tsv\n",
      "392 BD139_2_5000.tsv\n",
      "393 BD961_5000.tsv\n",
      "394 BD402_5000.tsv\n",
      "395 BD170_2_5000.tsv\n",
      "396 BD142_322939_2_5000.tsv\n",
      "397 BD987_5000.tsv\n",
      "398 BD729_1_5000.tsv\n",
      "399 BD852_5000.tsv\n",
      "400 BD104_5000.tsv\n",
      "401 BD157_322939_2_5000.tsv\n",
      "402 BD143_5000.tsv\n",
      "403 BD1082_5000.tsv\n",
      "404 BD929_5000.tsv\n",
      "405 BD23_5000.tsv\n",
      "406 BD372_5000.tsv\n",
      "407 BD629_1_5000.tsv\n",
      "408 BD1064_5000.tsv\n",
      "409 BD926_5000.tsv\n",
      "410 BD650_2_5000.tsv\n",
      "411 BD412_5000.tsv\n"
     ]
    },
    {
     "name": "stdout",
     "output_type": "stream",
     "text": [
      "412 BD690_1_5000.tsv\n",
      "413 BD971_5000.tsv\n",
      "414 BD1033_5000.tsv\n",
      "415 BD149_322939_2_5000.tsv\n",
      "416 BD998_5000.tsv\n",
      "417 BD842_5000.tsv\n",
      "418 BD605_1_5000.tsv\n",
      "419 BD997_5000.tsv\n",
      "420 BD521_5000.tsv\n",
      "421 BD760_5000.tsv\n",
      "422 BD182_5000.tsv\n",
      "423 BD355_5000.tsv\n",
      "424 BD901_5000.tsv\n",
      "425 BD22_322939_2_5000.tsv\n",
      "426 BD832_5000.tsv\n",
      "427 BD484_5000.tsv\n",
      "428 BD551_5000.tsv\n",
      "429 BD865_5000.tsv\n",
      "430 BD231_5000.tsv\n",
      "431 BD506_5000.tsv\n",
      "432 BD959_5000.tsv\n",
      "433 BD435_5000.tsv\n",
      "434 BD883_5000.tsv\n",
      "435 BD956_5000.tsv\n",
      "436 BD1053_5000.tsv\n",
      "437 BD911_5000.tsv\n",
      "438 BD14_5000.tsv\n",
      "439 BD144_322939_2_5000.tsv\n",
      "440 BD541_5000.tsv\n",
      "441 BD276_5000.tsv\n",
      "442 BD151_322939_2_5000.tsv\n",
      "443 BD799_5000.tsv\n",
      "444 BD494_5000.tsv\n",
      "445 BD796_5000.tsv\n",
      "446 BD221_5000.tsv\n",
      "447 BD516_5000.tsv\n",
      "448 BD875_5000.tsv\n",
      "449 BD946_5000.tsv\n",
      "450 BD614_1_5000.tsv\n",
      "451 BD1004_5000.tsv\n",
      "452 BD697_1_5000.tsv\n",
      "453 BD425_5000.tsv\n",
      "454 BD893_5000.tsv\n",
      "455 BD949_5000.tsv\n",
      "456 BD667_1_5000.tsv\n",
      "457 BD727_5000.tsv\n",
      "458 BD393_5000.tsv\n",
      "459 BD7_5000.tsv\n",
      "460 BD8_5000.tsv\n",
      "461 BD442_5000.tsv\n",
      "462 BD24_5000.tsv\n",
      "463 BD375_5000.tsv\n",
      "464 BD921_5000.tsv\n",
      "465 BD1063_5000.tsv\n",
      "466 BD457_2_5000.tsv\n",
      "467 BD322_5000.tsv\n",
      "468 BD633_1_5000.tsv\n",
      "469 BD1034_5000.tsv\n",
      "470 BD976_5000.tsv\n",
      "471 BD979_5000.tsv\n",
      "472 BD640_1_5000.tsv\n",
      "473 BD845_5000.tsv\n",
      "474 BD696_2_5000.tsv\n",
      "475 BD526_5000.tsv\n",
      "476 BD990_5000.tsv\n",
      "477 BD656_1_5000.tsv\n",
      "478 BD597_1_5000.tsv\n",
      "479 BD1095_5000.tsv\n",
      "480 BD802_5000.tsv\n",
      "481 BD383_5000.tsv\n",
      "482 BD581_1_5000.tsv\n",
      "483 BD931_5000.tsv\n",
      "484 BD1073_5000.tsv\n",
      "485 BD452_5000.tsv\n",
      "486 BD34_5000.tsv\n",
      "487 BD725_1_5000.tsv\n",
      "488 BD969_5000.tsv\n",
      "489 BD118_322939_2_5000.tsv\n",
      "490 BD405_5000.tsv\n",
      "491 BD539_5000.tsv\n",
      "492 BD536_5000.tsv\n",
      "493 BD980_5000.tsv\n",
      "494 BD855_5000.tsv\n",
      "495 BD938_5000.tsv\n",
      "496 BD454_5000.tsv\n",
      "497 BD363_5000.tsv\n",
      "498 BD937_5000.tsv\n",
      "499 BD592_1_5000.tsv\n",
      "500 BD1075_5000.tsv\n",
      "501 BD574_1_5000.tsv\n",
      "502 BD804_5000.tsv\n",
      "503 BD385_5000.tsv\n",
      "504 BD1093_5000.tsv\n",
      "505 BD567_5000.tsv\n",
      "506 BD105_5000.tsv\n",
      "507 BD989_5000.tsv\n",
      "508 BD769_1_5000.tsv\n",
      "509 BD986_5000.tsv\n",
      "510 BD207_5000.tsv\n",
      "511 BD79_322939_2_5000.tsv\n",
      "512 BD317_2_5000.tsv\n",
      "513 BD334_5000.tsv\n",
      "514 BD403_5000.tsv\n",
      "515 BD960_5000.tsv\n",
      "516 BD927_5000.tsv\n",
      "517 BD1065_5000.tsv\n",
      "518 BD591_5000.tsv\n",
      "519 BD373_5000.tsv\n",
      "520 BD928_5000.tsv\n",
      "521 BD699_1_5000.tsv\n",
      "522 BD1083_5000.tsv\n",
      "523 BD1_5000.tsv\n",
      "524 BD577_5000.tsv\n",
      "525 BD395_5000.tsv\n",
      "526 BD578_5000.tsv\n",
      "527 BD120_322939_2_5000.tsv\n",
      "528 BD520_5000.tsv\n",
      "529 BD996_5000.tsv\n",
      "530 BD843_5000.tsv\n",
      "531 BD645_1_5000.tsv\n",
      "532 BD636_1_5000.tsv\n",
      "533 BD999_5000.tsv\n",
      "534 BD622_5000.tsv\n",
      "535 BD1032_5000.tsv\n",
      "536 BD970_5000.tsv\n",
      "537 BD413_5000.tsv\n",
      "538 BD444_2_5000.tsv\n",
      "539 BD620_1_5000.tsv\n",
      "540 BD492_5000.tsv\n",
      "541 BD547_5000.tsv\n",
      "542 BD790_5000.tsv\n",
      "543 BD548_5000.tsv\n",
      "544 BD343_5000.tsv\n",
      "545 BD12_5000.tsv\n",
      "546 BD474_5000.tsv\n",
      "547 BD917_5000.tsv\n",
      "548 BD918_5000.tsv\n",
      "549 BD423_5000.tsv\n",
      "550 BD314_5000.tsv\n",
      "551 BD895_5000.tsv\n",
      "552 BD940_5000.tsv\n",
      "553 BD674_1_5000.tsv\n",
      "554 BD1002_5000.tsv\n",
      "555 BD611_1_5000.tsv\n",
      "556 BD228_5000.tsv\n",
      "557 BD692_1_5000.tsv\n",
      "558 BD558_5000.tsv\n",
      "559 BD655_5000.tsv\n",
      "560 BD834_5000.tsv\n",
      "561 BD482_5000.tsv\n",
      "562 BD908_5000.tsv\n",
      "563 BD156_322939_2_5000.tsv\n",
      "564 BD762_1_5000.tsv\n",
      "565 BD1045_5000.tsv\n",
      "566 BD907_5000.tsv\n",
      "567 BD353_5000.tsv\n",
      "568 BD950_5000.tsv\n",
      "569 BD1012_5000.tsv\n",
      "570 BD433_5000.tsv\n",
      "571 BD885_5000.tsv\n",
      "572 BD238_5000.tsv\n",
      "573 BD418_322953_2_5000.tsv\n",
      "574 BD500_5000.tsv\n",
      "575 BD863_5000.tsv\n",
      "576 BD1062_5000.tsv\n",
      "577 BD920_5000.tsv\n",
      "578 BD25_5000.tsv\n",
      "579 BD374_5000.tsv\n",
      "580 BD443_5000.tsv\n",
      "581 BD649_1_5000.tsv\n",
      "582 BD9_5000.tsv\n",
      "583 BD6_5000.tsv\n",
      "584 BD1084_5000.tsv\n",
      "585 BD392_5000.tsv\n",
      "586 BD695_1_5000.tsv\n",
      "587 BD616_1_5000.tsv\n",
      "588 BD145_322939_2_5000.tsv\n",
      "589 BD844_5000.tsv\n",
      "590 BD978_5000.tsv\n",
      "591 BD977_5000.tsv\n",
      "592 BD150_322939_2_5000.tsv\n",
      "593 BD673_1_5000.tsv\n",
      "594 BD1035_5000.tsv\n",
      "595 BD414_5000.tsv\n",
      "596 BD35_5000.tsv\n",
      "597 BD453_5000.tsv\n",
      "598 BD1072_5000.tsv\n",
      "599 BD415_322953_2_5000.tsv\n",
      "600 BD765_1_5000.tsv\n",
      "601 BD803_5000.tsv\n",
      "602 BD382_5000.tsv\n",
      "603 BD1094_5000.tsv\n",
      "604 BD700_1_5000.tsv\n",
      "605 BD854_5000.tsv\n",
      "606 BD981_5000.tsv\n",
      "607 BD537_5000.tsv\n",
      "608 BD538_5000.tsv\n",
      "609 BD404_5000.tsv\n",
      "610 BD333_5000.tsv\n",
      "611 BD588_1_5000.tsv\n",
      "612 BD967_5000.tsv\n",
      "613 BD583_1_5000.tsv\n",
      "614 BD550_5000.tsv\n",
      "615 BD833_5000.tsv\n",
      "616 BD900_5000.tsv\n",
      "617 BD1042_5000.tsv\n",
      "618 BD463_5000.tsv\n",
      "619 BD354_5000.tsv\n",
      "620 BD1015_5000.tsv\n",
      "621 BD882_5000.tsv\n",
      "622 BD133_322939_2_5000.tsv\n",
      "623 BD788_1_5000.tsv\n",
      "624 BD958_5000.tsv\n",
      "625 BD507_5000.tsv\n",
      "626 BD126_322939_2_5000.tsv\n",
      "627 BD508_5000.tsv\n",
      "628 BD797_5000.tsv\n",
      "629 BD495_5000.tsv\n",
      "630 BD823_5000.tsv\n",
      "631 BD798_5000.tsv\n",
      "632 BD277_5000.tsv\n",
      "633 BD540_5000.tsv\n",
      "634 BD112_322939_2_5000.tsv\n",
      "635 BD771_5000.tsv\n",
      "636 BD473_5000.tsv\n",
      "637 BD910_5000.tsv\n",
      "638 BD1052_5000.tsv\n",
      "639 BD617_2_5000.tsv\n",
      "640 BD948_5000.tsv\n",
      "641 BD892_5000.tsv\n",
      "642 BD424_5000.tsv\n",
      "643 BD1005_5000.tsv\n",
      "644 BD631_1_5000.tsv\n",
      "645 BD517_5000.tsv\n",
      "generating a df with all sequences and number of samples shared...\n",
      "number of dfs in directory: 646\n",
      "the length of df list is 646\n",
      "                      frequencyCount (%)  prod_stat Sample\n",
      "aminoAcid                                                 \n",
      "*NRDKKTGELFF                        0.02          0   BD28\n",
      "CA*NRESYEQYF                        0.02          0   BD28\n",
      "CAAASGPFDGGRLSYNEQFF                0.02          1   BD28\n",
      "CAAGGKGQWLVYEQYF                    2.32          1   BD28\n",
      "CAAGRSETNYGYTF                      0.02          1   BD28\n",
      "USING ONLY PRODUCTIVE SEQUENCES TO GENERATE SHARING MATRIX!!!\n",
      "filtering out strange sequences:...\n",
      "maximal number of shared samples per sequence for dataset PNP530Cardio126_notMatched_ss5000rep2 (filtered by sample List None) is 197\n",
      "percPublic=8.502414528195185\n",
      "mean number of shared samples per sequence is 1.1992895246535737\n",
      "mean percPublic per sample=23.731466170803948\n",
      "mean nShared per sample=2.5852459748134105\n",
      "total number of unique aa seqeunces in the dataset is 1764734\n",
      "generating sharing matrix for minNshared=2...\n",
      "number of unique sequences shared by 2 samples or more is 150045\n",
      "isPublic status is 1.0 and should be 1\n",
      "sharingMatrix_RA shape is 646_150045\n",
      "checking if RA values are percentage values or real RA values:\n",
      "the minimal value of the DF is 0.0002\n",
      "RA values are real RA values, no division is required\n",
      "Number of analyzed units (seqs/species/genus) is 150045\n",
      "filename is /net/mraid08/export/genie/Lab/Personal/ShaniBAF/TCR_real_data/PNP530Cardio126Combined/nonMatched/ss5000_rep3/sharingAnalysis/sharingMatrix_PNP530Cardio126_notMatched_ss5000rep2_minNshared2_RA_onlyProductiveTrue\n",
      "df shape is 646_150045\n",
      "setting minVal\n",
      "minVal remains None as defined by user\n",
      "no capping was applied\n",
      "Number of analyzed units is 150045\n",
      "leaving only units shared by more than 10 percent of the samples (65.0 samples)\n",
      "number of analyzed units is now 69\n",
      "removing outliers, outlierSTD=5, trim=True...\n",
      "plotting values distribution before and after trimming...\n",
      "now the second\n",
      "now the second\n"
     ]
    },
    {
     "data": {
      "image/png": "[encoded data removed]",
      "text/plain": [
       "<matplotlib.figure.Figure at 0x7fc96976d950>"
      ]
     },
     "metadata": {},
     "output_type": "display_data"
    },
    {
     "name": "stdout",
     "output_type": "stream",
     "text": [
      "binarizing df...\n",
      "existing values in df are now:\n",
      "[0. 1.]\n",
      "final file name is:\n",
      "/net/mraid08/export/genie/Lab/Personal/ShaniBAF/TCR_real_data/PNP530Cardio126Combined/nonMatched/ss5000_rep3/sharingAnalysis/sharingMatrix_PNP530Cardio126_notMatched_ss5000rep2_minNshared2_RA_onlyProductiveTrue__percShared10_OLtrimmed\n",
      "plotting mean sample distributions for all generated dfs...\n",
      "0 (646, 150045)\n",
      "origDF is too big, plot was not generated\n",
      "1 (646, 69)\n",
      "2 (646, 69)\n"
     ]
    },
    {
     "data": {
      "image/png": "[encoded data removed]",
      "text/plain": [
       "<matplotlib.figure.Figure at 0x7fc96a30f810>"
      ]
     },
     "metadata": {},
     "output_type": "display_data"
    },
    {
     "name": "stdout",
     "output_type": "stream",
     "text": [
      "plotting RA value distributions for all generated dfs IN A RANDOM SAMPLE\n"
     ]
    },
    {
     "data": {
      "image/png": "[encoded data removed]",
      "text/plain": [
       "<matplotlib.figure.Figure at 0x7fc997787cd0>"
      ]
     },
     "metadata": {},
     "output_type": "display_data"
    },
    {
     "name": "stdout",
     "output_type": "stream",
     "text": [
      "saving df to file...\n",
      "saving binary df to file\n",
      "ALL is done!!!\n"
     ]
    }
   ],
   "source": [
    "df=genTCRorMBdfWithManipulations(DFtype,genDF,toBinary,removeOutliers,normData,logTransform,\n",
    "                                 minVal,minSharedT,percShared,\n",
    "                                 mbLevel,useShortName,datasetFolder,datasetName,extractUniqueAA,\n",
    "                                minNshared,onlyProductive,mbDataFolder,SampleList,\n",
    "                                  SampleListName,filterlibPrepMethod,filterGenotek, \n",
    "                                  groupFunction, nSTD, nMinSamples, ignoreNotSameYear, removeSamePerson)\n"
   ]
  },
  {
   "cell_type": "markdown",
   "metadata": {},
   "source": [
    "# improve function to enable filtering by sample List:"
   ]
  },
  {
   "cell_type": "code",
   "execution_count": null,
   "metadata": {
    "ExecuteTime": {
     "end_time": "2018-08-05T08:13:54.330860Z",
     "start_time": "2018-08-05T08:13:54.052393Z"
    }
   },
   "outputs": [],
   "source": [
    "def gen_sharingMatrix_perDataset(datasetName,dataset_folder,minNsharedList,sampleList=None,sampleListName=None,extractUniqueAA=True,getSharingStatistics=True,onlyProductive=True):\n",
    "    \n",
    "    #(1) define files and folders:\n",
    "    try:\n",
    "        sample_folder='%s/SamplesForAnalysis_corrected' %dataset_folder\n",
    "    except:\n",
    "        sample_folder='%s/SamplesForAnalysis' %dataset_folder\n",
    "    if sampleList is None:\n",
    "        sharingDFfolder='%s/sharingDFs' %dataset_folder\n",
    "        sharingAnalysisFolder='%s/sharingAnalysis' %dataset_folder\n",
    "    else:\n",
    "        print 'only samples included in %s sample list are included in the analysis' %sampleListName\n",
    "        sharingDFfolder='%s/%s_sharingDFs' %(dataset_folder,sampleListName)\n",
    "        sharingAnalysisFolder='%s/%s_sharingAnalysis' %(dataset_folder,sampleListName)\n",
    "     \n",
    "    if not isdir(sharingDFfolder):\n",
    "        makedirs(sharingDFfolder)\n",
    "    if not isdir(sharingAnalysisFolder):\n",
    "        makedirs(sharingAnalysisFolder)\n",
    "    \n",
    "    #(2) #get sample files:\n",
    "    sharingFiles=[f for f in listdir(sharingDFfolder) if isfile(join(sharingDFfolder, f))]\n",
    "    samples = [f for f in listdir(sample_folder) if isfile(join(sample_folder, f))]\n",
    "    \n",
    "    if sampleList is not None:\n",
    "        print 'getting all samples from the sampleList...'\n",
    "        #get 'clean name' samples to enable comparison\n",
    "        cleanSamples=editSampleNamesList(samples)\n",
    "        cleanSampleList=editSampleNamesList(sampleList)\n",
    "\n",
    "        filteredSamples=[]\n",
    "        for n,sample in enumerate(samples):\n",
    "            cleanSample=cleanSamples[n]\n",
    "            if cleanSample in cleanSampleList:\n",
    "                filteredSamples.append(sample)\n",
    "        samples=filteredSamples\n",
    "\n",
    "    \n",
    "    # (3)extract unique aa sequences from all samples:\n",
    "    if extractUniqueAA:\n",
    "        print 'extracting unique aa sequenecs from all samples...(n=%s)' %len(samples)\n",
    "        for n,sample in enumerate(samples):\n",
    "        #     if n<5:\n",
    "                print n,sample\n",
    "                uniqueAAfile='%s/%s' %(sharingDFfolder,sample)\n",
    "#                 if sampleList is not None:\n",
    "#                     uniqueAAfile='%s/%s_FsampleList%s' %(sharingDFfolder,sample,sampleListName)\n",
    "                if uniqueAAfile not in sharingFiles:\n",
    "#                     data_folder='TCR_real_data'\n",
    "                    sample_df=pd.read_table('%s/%s' %(sample_folder,sample))\n",
    "                    sample_df=sample_df.rename(columns={'count (templates/reads)':'count (templates)','count (reads)':'count (templates)'})\n",
    "                    sample_df['prod_stat']=np.where(sample_df['sequenceStatus'] == 'In',1,0)\n",
    "                    f={'frequencyCount (%)':'sum','prod_stat':'mean'}\n",
    "                    uniqAA=sample_df.groupby('aminoAcid').agg(f)\n",
    "        #             uniqAA=uniqAA.drop(('frequencyCount (%)','count'),axis=1)\n",
    "                    uniqAA['Sample']=sample.split('_')[0]\n",
    "                    uniqAA.to_pickle(uniqueAAfile)\n",
    "        #             print uniqAA.head()\n",
    "                else:\n",
    "                    print('found uniqueAAdf for this sample...')\n",
    "    else:\n",
    "        print 'skipping unique aa sequences extraction...'\n",
    "                \n",
    "    # (4) generate df with all sequences and nShared counts:\n",
    "    print 'generating a df with all sequences and number of samples shared...'\n",
    "    #concatenate all uniqueAA lists from all samples:\n",
    "    AllUnique=concat_summarizing_dfs(sharingDFfolder)\n",
    "    print AllUnique.head()\n",
    "#     if sampleList is not None:\n",
    "#         print 'but only samples in the sample list are used for sharing analysis:'\n",
    "# #         print 'samples:'\n",
    "# #         print samples\n",
    "# #         print 'AllUnique.sample values:'\n",
    "# #         print AllUnique['Sample'].unique()\n",
    "#         AllUnique=AllUnique[AllUnique['Sample'].isin(cleanSamples)]\n",
    "#         print AllUnique.head()\n",
    "        \n",
    "    #count number of repeats:\n",
    "    nSharedCount=AllUnique.index.value_counts()\n",
    "    #merge with former df:\n",
    "    AllUniqueWithCounts=pd.merge(AllUnique,pd.DataFrame(nSharedCount),how='left',left_index=True,right_index=True)\n",
    "    #edit df:\n",
    "    AllUniqueWithCounts=AllUniqueWithCounts.rename(columns={'aminoAcid':'nShared'})\n",
    "    AllUniqueWithCounts['isPublic']=np.where(AllUniqueWithCounts['nShared']>1,1,0)\n",
    "    #save AllUniqueWithCounts\n",
    "    file1='%s/AllUniqueWithCounts' %sharingAnalysisFolder\n",
    "#     if sampleList is not None:\n",
    "#         file1='%s/AllUniqueWithCounts_FsampleList%s' %(sharingAnalysisFolder,sampleListName)\n",
    "    AllUniqueWithCounts.to_pickle(file1)\n",
    "    \n",
    "    if onlyProductive:\n",
    "        print 'USING ONLY PRODUCTIVE SEQUENCES TO GENERATE SHARING MATRIX!!!'\n",
    "        AllUniqueWithCounts=AllUniqueWithCounts[AllUniqueWithCounts['prod_stat']==1]\n",
    "        print 'filtering out strange sequences:...'\n",
    "        AllUniqueWithCounts['seqLen']=AllUniqueWithCounts.index.str.len()\n",
    "        AllUniqueWithCounts[~((AllUniqueWithCounts['seqLen']<3)&(AllUniqueWithCounts['nShared']<3))]\n",
    "    \n",
    "    \n",
    "    #(5) get some sharing sequence statistics:\n",
    "    if getSharingStatistics:\n",
    "        print 'maximal number of shared samples per sequence for dataset %s (filtered by sample List %s) is %s' %(datasetName,sampleListName,AllUniqueWithCounts['nShared'].max())\n",
    "        noDups=AllUniqueWithCounts.reset_index().drop_duplicates(subset='index')\n",
    "        print 'percPublic=%s' %(noDups['isPublic'].mean()*100)\n",
    "        print 'mean number of shared samples per sequence is %s'%noDups['nShared'].mean()\n",
    "        print 'mean percPublic per sample=%s' %AllUniqueWithCounts.groupby('Sample')['isPublic'].apply(lambda x: np.mean(x)*100).mean()\n",
    "        print 'mean nShared per sample=%s' %AllUniqueWithCounts.groupby('Sample')['nShared'].apply(lambda x: np.mean(x)).mean()\n",
    "    \n",
    "    #get only sequences shared by more than minNshared:\n",
    "    print 'total number of unique aa seqeunces in the dataset is %s' %AllUniqueWithCounts.index.nunique()\n",
    "    for minNshared in minNsharedList:\n",
    "        print 'generating sharing matrix for minNshared=%s...' %minNshared\n",
    "        sharedSeqs=AllUniqueWithCounts[AllUniqueWithCounts['nShared']>=minNshared]\n",
    "        print 'number of unique sequences shared by %s samples or more is %s' %(minNshared,sharedSeqs.index.nunique())\n",
    "        sharedSeqsClean=sharedSeqs.reset_index().rename(columns={'index':'Sequence'})\n",
    "        \n",
    "        #generate pivot tables:\n",
    "        sharingMatrix_RA=sharedSeqsClean.pivot(index='Sample',columns='Sequence',values='frequencyCount (%)')\n",
    "        sharingMatrix_RA=sharingMatrix_RA.fillna(0)\n",
    "        sharingMatrix_RA=sharingMatrix_RA=editSampleNames(sharingMatrix_RA)\n",
    "        print 'isPublic status is %s and should be 1' %sharedSeqsClean['isPublic'].mean()\n",
    "        print 'sharingMatrix_RA shape is %s_%s' %(sharingMatrix_RA.shape[0],sharingMatrix_RA.shape[1])\n",
    "        \n",
    "        #divide all values by 100 in order to get real RA values and not percents\n",
    "        sharingMatrix_RA=sharingMatrix_RA.div(100)\n",
    "        \n",
    "        RA_file='%s/sharingMatrix_%s_minNshared%s_RA_onlyProductive%s' %(sharingAnalysisFolder,datasetName,minNshared,onlyProductive)\n",
    "#         if sampleList is not None:\n",
    "#             RA_file='%s/sharingMatrix_%s_minNshared%s_RA_onlyProductive%s_FsampleList%s' %(sharingAnalysisFolder,datasetName,minNshared,onlyProductive,\n",
    "#                                                                                        sampleListName)\n",
    "        try:\n",
    "            sharingMatrix_RA.to_pickle(RA_file)\n",
    "        except SystemError:\n",
    "            print '*****df is too big and was not saved****'\n",
    "    \n",
    "    return sharingMatrix_RA,RA_file "
   ]
  },
  {
   "cell_type": "markdown",
   "metadata": {},
   "source": [
    "## try the improved function:"
   ]
  },
  {
   "cell_type": "code",
   "execution_count": null,
   "metadata": {
    "ExecuteTime": {
     "end_time": "2018-08-05T08:05:48.232496Z",
     "start_time": "2018-08-05T08:04:55.787331Z"
    }
   },
   "outputs": [],
   "source": [
    "## all 12500rep1 matched samples:\n",
    "ss=12500\n",
    "repeat=1\n",
    "\n",
    "datasetFolder='%s/TCR_real_data/PNP530Cardio126Combined/MatchedSamples/ss%srep%s' %(MyPath,ss,repeat)\n",
    "datasetName='MatchedSamples_ss%srep%s' %(ss,repeat)\n",
    "minNsharedList=[2]\n",
    "matchedSampleFolder='%s/SamplesForAnalysis_corrected' %datasetFolder\n",
    "dataset_folder=datasetFolder\n",
    "\n",
    "SampleList=[f for f in listdir(matchedSampleFolder) if isfile(join(matchedSampleFolder,f))]\n",
    "SampleList=[f.replace('.tsv','') for f in SampleList]\n",
    "SampleListName='MatchedSamples_ss%srep%s' %(ss,repeat)\n",
    "extractUniqueAA=True\n",
    "getSharingStatistics=True\n",
    "onlyProductive=True\n",
    "\n",
    "\n",
    "\n",
    "\n",
    "sharingMatrix_RA,RA_file=gen_sharingMatrix_perDataset(datasetName,dataset_folder,minNsharedList,SampleList,SampleListName,extractUniqueAA,getSharingStatistics,onlyProductive)"
   ]
  },
  {
   "cell_type": "code",
   "execution_count": null,
   "metadata": {
    "ExecuteTime": {
     "end_time": "2018-08-05T08:14:19.345662Z",
     "start_time": "2018-08-05T08:14:00.513730Z"
    }
   },
   "outputs": [],
   "source": [
    "## only PNP-matched samples \n",
    "ss=12500\n",
    "repeat=1\n",
    "\n",
    "datasetFolder='%s/TCR_real_data/PNP530Cardio126Combined/MatchedSamples/ss%srep%s' %(MyPath,ss,repeat)\n",
    "datasetName='MatchedSamples_ss%srep%s' %(ss,repeat)\n",
    "minNsharedList=[2]\n",
    "dataset_folder=datasetFolder\n",
    "\n",
    "SampleListFile='%s/PNP530ss12500_samples_matchedTo_Cardio126ss12500_n70_resByGenderMaleAgeSmokingPastSmokingYes_rs5' %datasetFolder\n",
    "with open(SampleListFile,'rb') as fp:\n",
    "    SampleList=pickle.load(fp)\n",
    "print len(SampleList)\n",
    "print SampleList[:5]\n",
    "SampleListName='PNP_MatchedSamples_ss%srep%s' %(ss,repeat)\n",
    "extractUniqueAA=True\n",
    "getSharingStatistics=True\n",
    "onlyProductive=True\n",
    "\n",
    "\n",
    "\n",
    "\n",
    "sharingMatrix_RA,RA_file=gen_sharingMatrix_perDataset(datasetName,dataset_folder,minNsharedList,SampleList,SampleListName,extractUniqueAA,getSharingStatistics,onlyProductive)"
   ]
  },
  {
   "cell_type": "code",
   "execution_count": null,
   "metadata": {
    "ExecuteTime": {
     "end_time": "2018-08-05T08:15:46.734305Z",
     "start_time": "2018-08-05T08:15:30.729622Z"
    }
   },
   "outputs": [],
   "source": [
    "## only Cardio-matched samples \n",
    "ss=12500\n",
    "repeat=1\n",
    "\n",
    "datasetFolder='%s/TCR_real_data/PNP530Cardio126Combined/MatchedSamples/ss%srep%s' %(MyPath,ss,repeat)\n",
    "datasetName='MatchedSamples_ss%srep%s' %(ss,repeat)\n",
    "minNsharedList=[2]\n",
    "dataset_folder=datasetFolder\n",
    "\n",
    "SampleListFile='%s/Cardio126ss12500_samples_matchedTo_PNP530ss12500_n70_resByGenderMaleAgeSmokingPastSmokingYes_rs5' %datasetFolder\n",
    "with open(SampleListFile,'rb') as fp:\n",
    "    SampleList=pickle.load(fp)\n",
    "print len(SampleList)\n",
    "print SampleList[:5]\n",
    "SampleListName='Cardio_MatchedSamples_ss%srep%s' %(ss,repeat)\n",
    "extractUniqueAA=True\n",
    "getSharingStatistics=True\n",
    "onlyProductive=True\n",
    "\n",
    "\n",
    "\n",
    "\n",
    "sharingMatrix_RA,RA_file=gen_sharingMatrix_perDataset(datasetName,dataset_folder,minNsharedList,SampleList,SampleListName,extractUniqueAA,getSharingStatistics,onlyProductive)"
   ]
  },
  {
   "cell_type": "code",
   "execution_count": null,
   "metadata": {
    "ExecuteTime": {
     "end_time": "2018-10-11T06:52:30.026728Z",
     "start_time": "2018-10-11T06:52:24.082497Z"
    }
   },
   "outputs": [],
   "source": [
    "f1='%s/TCR_real_data/sharingAnalysis/AllUniqueWithCounts' %MyPath\n",
    "AllUniqueWithCounts=pd.read_pickle(f1)"
   ]
  },
  {
   "cell_type": "code",
   "execution_count": null,
   "metadata": {
    "ExecuteTime": {
     "end_time": "2018-10-11T06:52:33.776815Z",
     "start_time": "2018-10-11T06:52:33.752550Z"
    }
   },
   "outputs": [],
   "source": [
    "AllUniqueWithCounts.head()"
   ]
  },
  {
   "cell_type": "code",
   "execution_count": null,
   "metadata": {
    "ExecuteTime": {
     "end_time": "2018-10-11T06:53:01.111671Z",
     "start_time": "2018-10-11T06:52:56.001510Z"
    }
   },
   "outputs": [],
   "source": [
    "AllUniqueWithCounts[AllUniqueWithCounts['Sample'].str.contains('148')]"
   ]
  },
  {
   "cell_type": "code",
   "execution_count": null,
   "metadata": {},
   "outputs": [],
   "source": []
  }
 ],
 "metadata": {
  "kernelspec": {
   "display_name": "Python 2",
   "language": "python",
   "name": "python2"
  },
  "language_info": {
   "codemirror_mode": {
    "name": "ipython",
    "version": 2
   },
   "file_extension": ".py",
   "mimetype": "text/x-python",
   "name": "python",
   "nbconvert_exporter": "python",
   "pygments_lexer": "ipython2",
   "version": "2.7.8"
  },
  "toc": {
   "nav_menu": {},
   "number_sections": true,
   "sideBar": true,
   "skip_h1_title": false,
   "toc_cell": false,
   "toc_position": {
    "height": "804px",
    "left": "0px",
    "right": "1273.56px",
    "top": "134px",
    "width": "329px"
   },
   "toc_section_display": "block",
   "toc_window_display": true
  },
  "varInspector": {
   "cols": {
    "lenName": 16,
    "lenType": 16,
    "lenVar": 40
   },
   "kernels_config": {
    "python": {
     "delete_cmd_postfix": "",
     "delete_cmd_prefix": "del ",
     "library": "var_list.py",
     "varRefreshCmd": "print(var_dic_list())"
    },
    "r": {
     "delete_cmd_postfix": ") ",
     "delete_cmd_prefix": "rm(",
     "library": "var_list.r",
     "varRefreshCmd": "cat(var_dic_list()) "
    }
   },
   "types_to_exclude": [
    "module",
    "function",
    "builtin_function_or_method",
    "instance",
    "_Feature"
   ],
   "window_display": false
  }
 },
 "nbformat": 4,
 "nbformat_minor": 2
}
