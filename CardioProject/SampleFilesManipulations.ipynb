{
 "cells": [
  {
   "cell_type": "code",
   "execution_count": 1,
   "metadata": {},
   "outputs": [],
   "source": [
    "from os import listdir\n",
    "from os.path import isfile, join\n",
    "import pandas as pd\n",
    "import numpy as np\n",
    "from scipy import stats\n",
    "import re\n",
    "import matplotlib.pyplot as plt\n",
    "from matplotlib.backends.backend_pdf import PdfPages\n",
    "from myplots import roundup, rounddown, find_decimal_fold, percentile_cut_off, rarefaction_calc, rarefaction_plot\n",
    "from matplotlib.ticker import FormatStrFormatter\n",
    "import cPickle as pickle\n",
    "from Bio.SeqUtils import GC\n",
    "import seaborn as sns"
   ]
  },
  {
   "cell_type": "markdown",
   "metadata": {},
   "source": [
    "# finding the correct registration codes using Daphna's functions"
   ]
  },
  {
   "cell_type": "markdown",
   "metadata": {},
   "source": [
    "###### PNPChip.QC.getQCedMatchRegNum module from Daphna\n",
    "I copied it all to here because I had problems with the eclipse:"
   ]
  },
  {
   "cell_type": "code",
   "execution_count": null,
   "metadata": {},
   "outputs": [],
   "source": [
    "import pandas\n",
    "from _mysql_exceptions import Error\n",
    "from Utils import Load\n",
    "resultsExcel='/net/mraid08/export/jafar/Microbiome/Analyses/Daphna/PNPChip/tmpnonImputedChipFilesMAF_Single_StoolStoolVsChipAnalysis.xlsx'\n",
    "matchingResultsExcel=pandas.read_excel(resultsExcel,sheetname='All')\n",
    "matchingResultsExcel.index=matchingResultsExcel.index.astype('str')\n",
    "matchingResultsExcel.correctStool_id=matchingResultsExcel.correctStool_id#.astype('str')#.apply(lambda x: str(x).split('.')[0])\n",
    "matchingResultsExcel.batch_winners=matchingResultsExcel.batch_winners.apply(eval)\n",
    "resolved=['1','3!','6!!']\n",
    "multipleStoolForRegnum=Load('/net/mraid08/export/jafar/Microbiome/Analyses/Daphna/PNPChip/MultipleStoolForRegTableAllSamples.dat')\n",
    "locationAndDate=Load('/net/mraid08/export/genie/Microbiome/Analyses/Daphna/PNPChip/ParticipantsDateLocationInFridgeWithDates.dat').set_index('regNum')\n",
    "import numpy as np\n",
    "def resolvedType(conf):\n",
    "    return conf[0] in resolved or\\\n",
    "    conf[:2] in resolved or\\\n",
    "    conf[:3] in resolved\n",
    "    \n",
    "def fillCorrectStoolID(df):\n",
    "    df = df.reset_index()\n",
    "    df.loc[df['correctStool_id'].notnull(),'correctStool_id']=df.loc[df['correctStool_id'].notnull(),'correctStool_id'].\\\n",
    "                                                                apply(lambda x: str(x).split('.')[0]).astype('str')\n",
    "    df.loc[df['correctStool_id'].isnull(),'correctStool_id'] = df.loc[df['correctStool_id'].isnull(),'index'].\\\n",
    "                                                                apply(lambda x: str(x).split('@')[0]).astype('str')\n",
    "    df=df.set_index(\"correctStool_id\")\n",
    "    return df\n",
    "\n",
    "def participantHasNoStool_and_HisBlood_wasnt_assigned_to_someone_else(regNum,df):\n",
    "    winners=sum(df[df['resolved']].batch_winners.tolist(),[])\n",
    "    if regNum not in df.index and regNum not in winners:\n",
    "        return True\n",
    "    else:\n",
    "        return False\n",
    "\n",
    "def returnType(func):\n",
    "    def wrapFunc(regNum):\n",
    "        returnType=type(regNum)\n",
    "        if returnType!=str:\n",
    "            returnType=int\n",
    "        regNum=str(regNum).split(\".\")[0]\n",
    "        res=func(regNum)\n",
    "        typeres=returnType(str(res).split(\".\")[0]) if res is not None and res!='nan' else None\n",
    "#         if type(typeres)!=int:\n",
    "#             raise Error\n",
    "        return typeres\n",
    "    return wrapFunc\n",
    "\n",
    "@returnType\n",
    "def getQCedBloodRegNumByRegNum(regNum):\n",
    "    # tested in test_QCgetters \n",
    "    df = matchingResultsExcel\n",
    "    df =fillCorrectStoolID(df)\n",
    "    df['resolved']=df.confidenceBatch.apply(resolvedType)\n",
    "    if participantHasNoStool_and_HisBlood_wasnt_assigned_to_someone_else(regNum,df):\n",
    "        return regNum\n",
    "    winners=df[df['resolved']].batch_winners\n",
    "    if regNum in winners.index:\n",
    "        match=winners.loc[regNum]\n",
    "        if type(match)==list:\n",
    "            summed_match=match\n",
    "        else:\n",
    "            summed_match = list(set(sum(match.values,[]))) \n",
    "        if len(summed_match)==1:\n",
    "            return summed_match[0]\n",
    "        else:\n",
    "            raise Exception(\"Bad resolving, conflicting blood label for DB_ID %s\"%regNum)\n",
    "    return None\n",
    "\n",
    "def getLocationInFridge(regnum):\n",
    "    correctRegNum=getQCedBloodRegNumByRegNum(regnum)\n",
    "    return locationAndDate.loc[correctRegNum]\n",
    "@returnType\n",
    "def getQCedStoolRegNumByRegNum(regNum):\n",
    "    df = matchingResultsExcel\n",
    "    df =fillCorrectStoolID(df)\n",
    "    if regNum in df.index.values:\n",
    "        if type(df.loc[regNum]['index'])==str:\n",
    "            return df.loc[regNum]['index']\n",
    "        else:\n",
    "            res= set([val.split('@')[0] for val in list(set(df.loc[regNum]['index']))])\n",
    "#             try:\n",
    "#                 assert len(res)==1\n",
    "#             except:\n",
    "#                 print regNum\n",
    "            res = list(res)[0]\n",
    "            return res\n",
    "    if regNum in df[\"index\"].values:\n",
    "        return None\n",
    "    return regNum\n",
    "\n",
    "def getFDbySample(sampleID):\n",
    "    return 'FD'+multipleStoolForRegnum[multipleStoolForRegnum['outputRegNum']==sampleID.replace('@','_')]\\\n",
    "            .index.values[0].split('FD')[1].split('.')[0]\n",
    "            \n",
    "\n",
    "def getQCedAllStoolRegNumByRegNum(regNum):\n",
    "    df = matchingResultsExcel\n",
    "    df =fillCorrectStoolID(df).reset_index().set_index('index')\n",
    "    \n",
    "    df_reindexed = df.reset_index()\n",
    "    stool_ids = list(df_reindexed[df_reindexed['correctStool_id']==regNum]['index'].values)\n",
    "    stool_ids = list(set([x + '@0' if '@' not in x else x for x in stool_ids]))\n",
    "    stool_fds = [getFDbySample(x) for x in stool_ids]\n",
    "    print zip(stool_ids,stool_fds)\n",
    "    return stool_fds\n",
    "\n",
    "\n",
    "def getFDForBadStool():\n",
    "    signatureDF = pandas.read_excel('/net/mraid08/export/jafar/Microbiome/Analyses/Daphna/PNPChip/EladDaphaEran_Approved_and_Overriden.xlsx')\n",
    "    badStoolIds=signatureDF[signatureDF[\"correctStool_id\"]=='X']['stool_id'].values\n",
    "    multipleStoolForRegnum=Load('/net/mraid08/export/jafar/Microbiome/Analyses/Daphna/PNPChip/MultipleStoolForRegTableAllSamples.dat')\n",
    "    fdnames=[]\n",
    "    for badStool in badStoolIds:\n",
    "        if '@' in str(badStool):\n",
    "            regnum=badStool.split('@')[0]\n",
    "            fdname='FD'+multipleStoolForRegnum[multipleStoolForRegnum['outputRegNum']==badStool.replace('@','_')]\\\n",
    "            .index.values[0].split('FD')[1].split('.')[0]\n",
    "        else:\n",
    "            fdname='FD'+multipleStoolForRegnum[multipleStoolForRegnum['RegNum']==str(badStool)]\\\n",
    "            .index.values[0].split('FD')[1].split('.')[0]\n",
    "        fdnames.append(fdname)\n",
    "    return fdnames\n",
    "\n",
    "if __name__==\"__main__\":\n",
    "    getFDForBadStool()\n",
    "    regNums=pandas.read_csv('/net/mraid08/export/jafar/Microbiome/Analyses/PNPChip/rawData/phenotypes/regNums.csv')\n",
    "    regNums['registrationCode']=regNums['registrationCode'].apply(str) \n",
    "    regNums['correctStoolRegistrationCode']=regNums.registrationCode.apply(getQCedStoolRegNumByRegNum)\n",
    "    regNums['correctBloodRegistrationCode']=regNums.registrationCode.apply(getQCedBloodRegNumByRegNum)\n",
    "    print getQCedBloodRegNumByRegNum('3')\n",
    "    "
   ]
  },
  {
   "cell_type": "code",
   "execution_count": null,
   "metadata": {},
   "outputs": [],
   "source": [
    "## this is the function Daphna told me to use, but I have to run the whole module above everytime again\n",
    "## before running the function again:\n",
    "\n",
    "locationAndDate=getLocationInFridge(987069)"
   ]
  },
  {
   "cell_type": "code",
   "execution_count": null,
   "metadata": {},
   "outputs": [],
   "source": [
    "## tried to generate a loop for this problematic function:...\n",
    "\n",
    "\n",
    "reg_list=[738601,450464,127686,134681]\n",
    "\n",
    "for reg in reg_list:\n",
    "    locationAndDate=getLocationInFridge(reg)\n",
    "    DNAsample=str(locationAndDate['BD'])\n",
    "    print reg\n",
    "    print DNAsample\n",
    "    "
   ]
  },
  {
   "cell_type": "code",
   "execution_count": null,
   "metadata": {},
   "outputs": [],
   "source": [
    "# generating a list of all original registration codes:\n",
    "\n",
    "reg_list_3=list(BloodDNASamples_DBExtractedOn200717['RegistrationCode'])\n",
    "reg_list_4=list(set(reg_list_3))"
   ]
  },
  {
   "cell_type": "code",
   "execution_count": null,
   "metadata": {},
   "outputs": [],
   "source": [
    "print len(reg_list_3)\n",
    "print len(reg_list_4)"
   ]
  },
  {
   "cell_type": "code",
   "execution_count": null,
   "metadata": {},
   "outputs": [],
   "source": [
    "from PNP_QC.getQCedMatchRegNum import getQCedBloodRegNumByRegNum"
   ]
  },
  {
   "cell_type": "code",
   "execution_count": null,
   "metadata": {},
   "outputs": [],
   "source": [
    "## a loop to find the correct reg code for each original reg code:\n",
    "\n",
    "count=0\n",
    "correct_reg_list=[]\n",
    "CorrectionStatus_list=[]\n",
    "only_corrected=[]\n",
    "for reg in reg_list_4:\n",
    "    Correct=getQCedBloodRegNumByRegNum(reg)\n",
    "    \n",
    "    if Correct==reg:\n",
    "        CorrectionStatus_list.append('same')\n",
    "        correct_reg_list.append(Correct)\n",
    "    else:\n",
    "        count=count+1\n",
    "        if Correct==None:\n",
    "            CorrectionStatus_list.append('correct reg unknown')\n",
    "            correct_reg_list.append('unknown')\n",
    "        else:\n",
    "            CorrectionStatus_list.append('corrected')\n",
    "            correct_reg_list.append(Correct)\n",
    "            only_corrected.append(Correct)\n",
    "      \n",
    "    \n",
    "        \n",
    "        \n",
    "CorrectRegDF=pd.DataFrame({'original registration code': reg_list_4, \n",
    "                           'correct registration code':correct_reg_list,\n",
    "                           'correction status (reg number)': CorrectionStatus_list })\n",
    "\n",
    "CorrectRegDF.head()\n"
   ]
  },
  {
   "cell_type": "code",
   "execution_count": null,
   "metadata": {},
   "outputs": [],
   "source": [
    "CorrectRegDF[CorrectRegDF['correction status (reg number)'].isnull()]"
   ]
  },
  {
   "cell_type": "code",
   "execution_count": null,
   "metadata": {},
   "outputs": [],
   "source": [
    "grouping_count=CorrectRegDF.groupby('correction status (reg number)')['correct registration code'].count()\n",
    "groupingCountsDF=pd.DataFrame({'counts':grouping_count})\n",
    "groupingCountsDF['percentage']=(groupingCountsDF['counts'])*100/groupingCountsDF['counts'].sum()\n",
    "groupingCountsDF"
   ]
  },
  {
   "cell_type": "code",
   "execution_count": null,
   "metadata": {},
   "outputs": [],
   "source": [
    "## saving the correct Reg table to pickles and excel:\n",
    "\n",
    "with open('/net/mraid08/export/genie/Lab/Personal/ShaniBAF/Old Computer Files/Sample files/CorrectRegDF',\"wb\" ) as f:\n",
    "    pickle.dump(CorrectRegDF,f)\n",
    "f.close()\n",
    "\n",
    "\n",
    "writer='/net/mraid08/export/genie/Lab/Personal/ShaniBAF/Old Computer Files/Sample files/CorrectRegDF.xlsx'\n",
    "CorrectRegDF.to_excel(writer, sheet_name='Sheet1', na_rep='', float_format=None, columns=None, header=True, index=True, index_label=None, startrow=0, startcol=0, engine=None, merge_cells=True, encoding=None, inf_rep='inf', verbose=True)"
   ]
  },
  {
   "cell_type": "code",
   "execution_count": null,
   "metadata": {},
   "outputs": [],
   "source": []
  },
  {
   "cell_type": "markdown",
   "metadata": {},
   "source": [
    "## generating comprehensive list of DNA samples extracted from blood\n",
    "updated to 09/7/17"
   ]
  },
  {
   "cell_type": "markdown",
   "metadata": {},
   "source": [
    "downloading the list of blood samples extracted from the DB using the following SQL script:\n",
    "\n",
    "SELECT pnp.users.UserID, pnp.users.RegistrationCode, Lab.blood.UserID, \n",
    "Lab.blood.bid1, Lab.blood.bid2 \n",
    "\n",
    "FROM pnp.users\n",
    "LEFT JOIN Lab.blood ON pnp.users.UserID = Lab.blood.UserID\n"
   ]
  },
  {
   "cell_type": "code",
   "execution_count": null,
   "metadata": {},
   "outputs": [],
   "source": [
    "file_name='/net/mraid08/export/genie/Lab/Personal/ShaniBAF/Old Computer Files/Sample files/BloodSamples_DBExtractedOn200717.xlsx'\n",
    "BloodSamples_DBExtractedOn200717=pd.read_excel(file_name)\n",
    "BloodSamples_DBExtractedOn200717.head()\n"
   ]
  },
  {
   "cell_type": "code",
   "execution_count": null,
   "metadata": {},
   "outputs": [],
   "source": [
    "## removing samples with neither bid1 nor bid2, and dropping the UserID columns:\n",
    "\n",
    "CleanBloodSamples=BloodSamples_DBExtractedOn090717[(BloodSamples_DBExtractedOn090717['bid1'].notnull())|\n",
    "                                                  (BloodSamples_DBExtractedOn090717['bid2'].notnull())]\n",
    "CleanBloodSamples=CleanBloodSamples.drop(['UserID','UserID.1'], axis=1)\n",
    "CleanBloodSamples"
   ]
  },
  {
   "cell_type": "markdown",
   "metadata": {},
   "source": [
    "\n",
    "#downloading the list of blood DNA samples extracted from the DB using the following SQL script:\n",
    "\n",
    "SELECT pnp.users.UserID, pnp.users.RegistrationCode, Lab.hostdna.UserID,\n",
    "Lab.hostdna.DnaID\n",
    "\n",
    "FROM pnp.users\n",
    "LEFT JOIN Lab.hostdna ON pnp.users.UserID = Lab.hostdna.UserID\n"
   ]
  },
  {
   "cell_type": "code",
   "execution_count": null,
   "metadata": {},
   "outputs": [],
   "source": [
    "file_name='/net/mraid08/export/genie/Lab/Personal/ShaniBAF/Sample files/BloodDNASamples_DBExtractedOn200717.xlsx'\n",
    "BloodDNASamples_DBExtractedOn200717=pd.read_excel(file_name)\n",
    "BloodDNASamples_DBExtractedOn200717.head()\n"
   ]
  },
  {
   "cell_type": "code",
   "execution_count": null,
   "metadata": {},
   "outputs": [],
   "source": [
    "# drop all rows that don't have BD num\n",
    "BloodDNASamplesNoNan=BloodDNASamples_DBExtractedOn200717[~BloodDNASamples_DBExtractedOn200717['DnaID'].isnull()]\n",
    "\n",
    "\n",
    "\n",
    "BloodDNASamplesNoNan"
   ]
  },
  {
   "cell_type": "markdown",
   "metadata": {},
   "source": [
    "### downloading the correct reg number table that I generated using Daphna's function:\n",
    "\n",
    "\n",
    "\n"
   ]
  },
  {
   "cell_type": "code",
   "execution_count": null,
   "metadata": {},
   "outputs": [],
   "source": [
    "file_name='/net/mraid08/export/genie/Lab/Personal/ShaniBAF/Sample files/CorrectRegDF.xlsx'\n",
    "CorrectRegDF=pd.read_excel(file_name)\n",
    "CorrectRegDF.head()"
   ]
  },
  {
   "cell_type": "raw",
   "metadata": {},
   "source": [
    "#merging the blood DNA table with the correct reg numbers in order to correct this table:"
   ]
  },
  {
   "cell_type": "code",
   "execution_count": null,
   "metadata": {},
   "outputs": [],
   "source": [
    "CorrectBloodDNASamples=pd.merge(BloodDNASamplesNoNan,CorrectRegDF,how='left',\n",
    "                                    left_on='RegistrationCode',right_on='original registration code')\n",
    "CorrectBloodDNASamples.head()"
   ]
  },
  {
   "cell_type": "code",
   "execution_count": null,
   "metadata": {},
   "outputs": [],
   "source": []
  },
  {
   "cell_type": "code",
   "execution_count": null,
   "metadata": {},
   "outputs": [],
   "source": [
    "## make clean file with no wrong reg numbers and user IDs:\n",
    "CleanCorrectBloodDNASamples=CorrectBloodDNASamples.drop(['RegistrationCode','UserID.1'],axis=1)\n",
    "CleanCorrectBloodDNASamples.head()\n"
   ]
  },
  {
   "cell_type": "code",
   "execution_count": null,
   "metadata": {},
   "outputs": [],
   "source": [
    "CleanCorrectBloodDNASamples['DnaIndex']=CleanCorrectBloodDNASamples['DnaID'].str.replace(\"BD\",\"\")"
   ]
  },
  {
   "cell_type": "code",
   "execution_count": null,
   "metadata": {},
   "outputs": [],
   "source": [
    "CleanCorrectBloodDNASamples['DnaIndex']=CleanCorrectBloodDNASamples['DnaIndex'].astype(int)"
   ]
  },
  {
   "cell_type": "code",
   "execution_count": null,
   "metadata": {},
   "outputs": [],
   "source": [
    "CleanCorrectBloodDNASamples.head()"
   ]
  },
  {
   "cell_type": "code",
   "execution_count": null,
   "metadata": {},
   "outputs": [],
   "source": [
    "mask = CleanCorrectBloodDNASamples['DnaIndex']> 791\n",
    "column_name_to_replace = 'correct registration code'\n",
    "column_name_to_replaceWith = 'original registration code'\n",
    "CleanCorrectBloodDNASamples.loc[mask, column_name_to_replace] = CleanCorrectBloodDNASamples.loc[mask, column_name_to_replaceWith]"
   ]
  },
  {
   "cell_type": "code",
   "execution_count": null,
   "metadata": {},
   "outputs": [],
   "source": [
    "mask = CleanCorrectBloodDNASamples['DnaIndex']> 791\n",
    "column_name_to_replace = 'correction status (reg number)'\n",
    "CleanCorrectBloodDNASamples.loc[mask, column_name_to_replace] = 'RegNUM not checked'"
   ]
  },
  {
   "cell_type": "code",
   "execution_count": null,
   "metadata": {},
   "outputs": [],
   "source": [
    "CleanCorrectBloodDNASamples[CleanCorrectBloodDNASamples['DnaIndex']>791]"
   ]
  },
  {
   "cell_type": "code",
   "execution_count": null,
   "metadata": {},
   "outputs": [],
   "source": [
    "CleanCorrectBloodDNASamples"
   ]
  },
  {
   "cell_type": "code",
   "execution_count": null,
   "metadata": {},
   "outputs": [],
   "source": [
    "CleanCorrectBloodDNASamples.groupby('correction status (reg number)')['DnaID'].count()"
   ]
  },
  {
   "cell_type": "code",
   "execution_count": null,
   "metadata": {},
   "outputs": [],
   "source": [
    "## saving the CleanCorrectBloodDNASamples table to pickles and excel:\n",
    "\n",
    "with open('/net/mraid08/export/genie/Lab/Personal/ShaniBAF/Sample files/CleanCorrectBloodDNASamples',\"wb\" ) as f:\n",
    "    pickle.dump(CleanCorrectBloodDNASamples,f)\n",
    "f.close()\n",
    "\n",
    "writer='/net/mraid08/export/genie/Lab/Personal/ShaniBAF/Sample files/CleanCorrectBloodDNASamples.xlsx'\n",
    "CleanCorrectBloodDNASamples.to_excel(writer, sheet_name='Sheet1', na_rep='', float_format=None, columns=None, header=True, index=True, index_label=None, startrow=0, startcol=0, engine=None, merge_cells=True, encoding=None, inf_rep='inf', verbose=True)\n"
   ]
  },
  {
   "cell_type": "code",
   "execution_count": null,
   "metadata": {},
   "outputs": [],
   "source": [
    "## merge the clean blood DNA sample with the blood sample based on correct REG number:\n",
    "BloodDNASamples200717correctREG=pd.merge(CleanCorrectBloodDNASamples,CleanBloodSamples, how='left',\n",
    "                                        left_on='correct registration code',right_on='RegistrationCode')\n",
    "BloodDNASamples200717correctREG=BloodDNASamples200717correctREG.drop('RegistrationCode',axis=1)\n",
    "BloodDNASamples200717correctREG.head()"
   ]
  },
  {
   "cell_type": "code",
   "execution_count": null,
   "metadata": {},
   "outputs": [],
   "source": [
    "## downloading file with usersID and regCode:\n",
    "file_name='/net/mraid08/export/genie/Lab/Personal/ShaniBAF/Old Computer Files/Sample files/UserIDs_and_regNums_110717.xlsx'\n",
    "UserIDs_and_regNums_110717=pd.read_excel(file_name)\n",
    "UserIDs_and_regNums_110717.head()"
   ]
  },
  {
   "cell_type": "code",
   "execution_count": null,
   "metadata": {},
   "outputs": [],
   "source": [
    "#add user IDs to the blood DNA file:\n",
    "BloodDNASamples200717correctREGwithUserID=pd.merge(BloodDNASamples090717correctREG,UserIDs_and_regNums_110717, how='left',\n",
    "                                        left_on='correct registration code',right_on='RegistrationCode')\n",
    "\n",
    "BloodDNASamples200717correctREGwithUserID.head()\n"
   ]
  },
  {
   "cell_type": "code",
   "execution_count": null,
   "metadata": {},
   "outputs": [],
   "source": [
    "# remove redundent reg code column:\n",
    "BloodDNASamples200717correctREGwithUserID=BloodDNASamples200717correctREGwithUserID.drop('RegistrationCode', axis=1)\n",
    "BloodDNASamples200717correctREGwithUserID.head()"
   ]
  },
  {
   "cell_type": "code",
   "execution_count": null,
   "metadata": {},
   "outputs": [],
   "source": []
  },
  {
   "cell_type": "code",
   "execution_count": null,
   "metadata": {},
   "outputs": [],
   "source": [
    "#downloading those who signed helsinki:\n",
    "\n",
    "\n",
    "\n",
    "file_name='/net/mraid08/export/genie/Lab/Personal/ShaniBAF/Old Computer Files/Sample files/signedHelsinki (1).xlsx'\n",
    "signedHelsinki=pd.read_excel(file_name)\n",
    "signedHelsinki.head()\n",
    "\n",
    "\n",
    "\n"
   ]
  },
  {
   "cell_type": "code",
   "execution_count": null,
   "metadata": {},
   "outputs": [],
   "source": [
    "BloodDNASamples200717=pd.merge(BloodDNASamples090717correctREGwithUserID,signedHelsinki, how='left',\n",
    "                                    left_on='UserID',right_on='UserID')\n",
    "BloodDNASamples200717.head()"
   ]
  },
  {
   "cell_type": "code",
   "execution_count": null,
   "metadata": {},
   "outputs": [],
   "source": [
    "BloodDNASamples200717[BloodDNASamples200717['SignedGenHels']==0]"
   ]
  },
  {
   "cell_type": "code",
   "execution_count": null,
   "metadata": {},
   "outputs": [],
   "source": [
    "print len(BloodDNASamples200717[BloodDNASamples200717['SignedGenHels']!=1])"
   ]
  },
  {
   "cell_type": "code",
   "execution_count": null,
   "metadata": {},
   "outputs": [],
   "source": [
    "# remove duplicates:\n",
    "\n",
    "BloodDNASamples200717_2=BloodDNASamples200717.drop_duplicates()"
   ]
  },
  {
   "cell_type": "code",
   "execution_count": null,
   "metadata": {},
   "outputs": [],
   "source": [
    "print len(BloodDNASamples200717)\n",
    "print len(BloodDNASamples200717_2)"
   ]
  },
  {
   "cell_type": "code",
   "execution_count": null,
   "metadata": {},
   "outputs": [],
   "source": [
    "grouped_future_bids=BloodDNASamples200717.groupby('DnaID')['bid1'].apply(list)\n",
    "grouped_future_bids=grouped_future_bids.reset_index()\n",
    "grouped_future_bids[50:100]\n"
   ]
  },
  {
   "cell_type": "code",
   "execution_count": null,
   "metadata": {},
   "outputs": [],
   "source": [
    "print len(grouped_future_bids)"
   ]
  },
  {
   "cell_type": "code",
   "execution_count": null,
   "metadata": {},
   "outputs": [],
   "source": [
    "# MAKE THE BID1 column a summary of all bid1 samples per DNA sample:\n",
    "\n",
    "\n",
    "BloodDNASamples200717_3=pd.merge(BloodDNASamples200717_2,grouped_future_bids, how='left', \n",
    "                                    left_on='DnaID', right_on='DnaID')\n",
    "BloodDNASamples200717_3=BloodDNASamples200717_3.rename(columns={'bid1_y':'all bid1s'}).drop('bid1_x', axis=1)\n",
    "BloodDNASamples200717_3.head()"
   ]
  },
  {
   "cell_type": "code",
   "execution_count": null,
   "metadata": {},
   "outputs": [],
   "source": [
    "# remove duplicate lines for the same DNA sample:\n",
    "\n",
    "BloodDNASamples200717_4=BloodDNASamples200717_3.drop_duplicates(subset='DnaID')\n",
    "print len(BloodDNASamples200717_4)\n",
    "print len(BloodDNASamples200717_3)"
   ]
  },
  {
   "cell_type": "code",
   "execution_count": null,
   "metadata": {},
   "outputs": [],
   "source": [
    "\n",
    "BloodDNASamples200717_4.head()"
   ]
  },
  {
   "cell_type": "markdown",
   "metadata": {},
   "source": [
    "## this is the final table for samples extracted from the database\n",
    "\n",
    "this table can be merged with each updated file from Tali\n",
    "\n",
    "Save the final table:"
   ]
  },
  {
   "cell_type": "code",
   "execution_count": null,
   "metadata": {},
   "outputs": [],
   "source": [
    "with open('/net/mraid08/export/genie/Lab/Personal/ShaniBAF/Old Computer Files/Sample files/BloodDNASamples110717_4',\"wb\" ) as f:\n",
    "    pickle.dump(BloodDNASamples110717_4,f)\n",
    "f.close()\n",
    "\n",
    "\n",
    "writer='/net/mraid08/export/genie/Lab/Personal/ShaniBAF/Old Computer Files/Sample files/BloodDNASamples110717_4.xlsx'\n",
    "BloodDNASamples110717_4.to_excel(writer, sheet_name='Sheet1', na_rep='', float_format=None, columns=None, header=True, index=True, index_label=None, startrow=0, startcol=0, engine=None, merge_cells=True, encoding=None, inf_rep='inf', verbose=True)"
   ]
  },
  {
   "cell_type": "markdown",
   "metadata": {
    "collapsed": true
   },
   "source": [
    "## merge the correct blood and DNA samples with Tali's table:"
   ]
  },
  {
   "cell_type": "code",
   "execution_count": null,
   "metadata": {},
   "outputs": [],
   "source": [
    "#downloading samples that Tali already cleaned with their updated concentrations\n",
    "\n",
    "file_name='/net/mraid08/export/genie/Lab/Personal/ShaniBAF/Old Computer Files/Sample files/CleaningInfoFromTaliShort180717.xlsx'\n",
    "CleanedSamplesOnlyNamesConc=pd.read_excel(file_name)\n",
    "CleanedSamplesOnlyNamesConc.head()\n",
    "\n"
   ]
  },
  {
   "cell_type": "code",
   "execution_count": null,
   "metadata": {},
   "outputs": [],
   "source": [
    "print len(CleanedSamplesOnlyNamesConc)\n",
    "\n"
   ]
  },
  {
   "cell_type": "code",
   "execution_count": null,
   "metadata": {},
   "outputs": [],
   "source": [
    "## merge the correct blood and DNA samples with Tali's table:\n",
    "\n",
    "BloodDNASamplesCleaningInfoUpdated200717=pd.merge(BloodDNASamples200717_4,CleanedSamplesOnlyNamesConc,how='outer',\n",
    "                                    left_on='DnaID',right_on='BD')\n",
    "BloodDNASamplesCleaningInfoUpdated200717.head()"
   ]
  },
  {
   "cell_type": "code",
   "execution_count": null,
   "metadata": {},
   "outputs": [],
   "source": [
    "print len(BloodDNASamplesCleaningInfoUpdated200717)"
   ]
  },
  {
   "cell_type": "code",
   "execution_count": null,
   "metadata": {},
   "outputs": [],
   "source": [
    "mask = BloodDNASamplesCleaningInfoUpdated200717['#']> 875\n",
    "column_name_to_replace = 'DnaID'\n",
    "column_name_to_replaceWith = 'BD'\n",
    "BloodDNASamplesCleaningInfoUpdated200717.loc[mask, column_name_to_replace] = BloodDNASamplesCleaningInfoUpdated200717.loc[mask, column_name_to_replaceWith]"
   ]
  },
  {
   "cell_type": "code",
   "execution_count": null,
   "metadata": {},
   "outputs": [],
   "source": [
    "mask = BloodDNASamplesCleaningInfoUpdated200717['#']> 875\n",
    "column_name_to_replace = 'DnaIndex'\n",
    "column_name_to_replaceWith = '#'\n",
    "BloodDNASamplesCleaningInfoUpdated200717.loc[mask, column_name_to_replace] = BloodDNASamplesCleaningInfoUpdated200717.loc[mask, column_name_to_replaceWith]"
   ]
  },
  {
   "cell_type": "code",
   "execution_count": null,
   "metadata": {},
   "outputs": [],
   "source": [
    "BloodDNASamplesCleaningInfoUpdated200717[BloodDNASamplesCleaningInfoUpdated200717['#']> 875]"
   ]
  },
  {
   "cell_type": "code",
   "execution_count": null,
   "metadata": {},
   "outputs": [],
   "source": [
    "BloodDNASamplesCleaningInfoUpdated200717.set_index('DnaIndex')"
   ]
  },
  {
   "cell_type": "code",
   "execution_count": null,
   "metadata": {},
   "outputs": [],
   "source": [
    "BloodDNASamplesCleaningInfoUpdated200717_2=BloodDNASamplesCleaningInfoUpdated200717.drop(['#','BD'], axis=1)"
   ]
  },
  {
   "cell_type": "code",
   "execution_count": null,
   "metadata": {},
   "outputs": [],
   "source": [
    "BloodDNASamplesCleaningInfoUpdated200717_2.head()"
   ]
  },
  {
   "cell_type": "markdown",
   "metadata": {},
   "source": [
    "downloading and merging BDPure information:"
   ]
  },
  {
   "cell_type": "code",
   "execution_count": null,
   "metadata": {},
   "outputs": [],
   "source": [
    "file_name='/net/mraid08/export/genie/Lab/Personal/ShaniBAF/Old Computer Files/Sample files/Copy of Sum_Blood_DNA_Concentration2.xlsx'\n",
    "BDPureInfo=pd.read_excel(file_name)\n",
    "\n",
    "BDPureInfo.head()"
   ]
  },
  {
   "cell_type": "code",
   "execution_count": null,
   "metadata": {},
   "outputs": [],
   "source": [
    "BloodDNASamplesCleaningInfoUpdated200717_3=pd.merge(BloodDNASamplesCleaningInfoUpdated200717_2,BDPureInfo,how='left',\n",
    "                                    left_on='DnaID',right_on='Sample ID')\n",
    "BloodDNASamplesCleaningInfoUpdated200717_3.head()"
   ]
  },
  {
   "cell_type": "code",
   "execution_count": null,
   "metadata": {},
   "outputs": [],
   "source": [
    "BloodDNASamplesCleaningInfoUpdated200717_3.drop('Sample ID',axis=1, inplace=True)\n",
    "\n",
    "BloodDNASamplesCleaningInfoUpdated200717_3.head()"
   ]
  },
  {
   "cell_type": "code",
   "execution_count": null,
   "metadata": {},
   "outputs": [],
   "source": [
    "BloodDNASamplesCleaningInfoUpdated200717_3.set_index('DnaIndex',inplace=True)"
   ]
  },
  {
   "cell_type": "code",
   "execution_count": null,
   "metadata": {},
   "outputs": [],
   "source": [
    "BloodDNASamplesCleaningInfoUpdated200717_3['enough for 0.5ug']=np.where(BloodDNASamplesCleaningInfoUpdated200717_3[\n",
    "        'ng/ul after cleanUp']>32.25,1,0)"
   ]
  },
  {
   "cell_type": "code",
   "execution_count": null,
   "metadata": {},
   "outputs": [],
   "source": [
    "BloodDNASamplesCleaningInfoUpdated200717_3['need to re-clean']=np.where((BloodDNASamplesCleaningInfoUpdated200717_3[\n",
    "        'ng/ul after cleanUp']<32.25)&(BloodDNASamplesCleaningInfoUpdated200717_3['ng/ul after cleanUp'].notnull()),1,0)"
   ]
  },
  {
   "cell_type": "code",
   "execution_count": null,
   "metadata": {},
   "outputs": [],
   "source": [
    "a=BloodDNASamplesCleaningInfoUpdated200717_3.loc[109,'all bid1s']\n",
    "a"
   ]
  },
  {
   "cell_type": "markdown",
   "metadata": {},
   "source": [
    "## need to rewrite the condition for the 'need to rextract' column\n"
   ]
  },
  {
   "cell_type": "code",
   "execution_count": null,
   "metadata": {},
   "outputs": [],
   "source": [
    "BloodDNASamplesCleaningInfoUpdated200717_3['need to re-extract DNA from blood']=np.where(condition,1,0)"
   ]
  },
  {
   "cell_type": "code",
   "execution_count": null,
   "metadata": {},
   "outputs": [],
   "source": [
    "BloodDNASamplesCleaningInfoUpdated200717_3[BloodDNASamplesCleaningInfoUpdated200717_3['ng/ul after cleanUp'].isnull()].head()"
   ]
  },
  {
   "cell_type": "code",
   "execution_count": null,
   "metadata": {},
   "outputs": [],
   "source": [
    "SamplesToReextract=BloodDNASamplesCleaningInfoUpdated200717_3[BloodDNASamplesCleaningInfoUpdated200717_3['need to re-extract DNA from blood']==1]"
   ]
  },
  {
   "cell_type": "code",
   "execution_count": null,
   "metadata": {},
   "outputs": [],
   "source": [
    "SamplesToReClean=BloodDNASamplesCleaningInfoUpdated200717_3[BloodDNASamplesCleaningInfoUpdated200717_3['need to re-clean']==1]"
   ]
  },
  {
   "cell_type": "code",
   "execution_count": null,
   "metadata": {},
   "outputs": [],
   "source": [
    "print len(SamplesToReextract)"
   ]
  },
  {
   "cell_type": "code",
   "execution_count": null,
   "metadata": {},
   "outputs": [],
   "source": [
    "SamplesToReClean"
   ]
  },
  {
   "cell_type": "code",
   "execution_count": null,
   "metadata": {},
   "outputs": [],
   "source": [
    "print len(SamplesToReClean)"
   ]
  },
  {
   "cell_type": "code",
   "execution_count": null,
   "metadata": {},
   "outputs": [],
   "source": [
    "print len(BloodDNASamplesCleaningInfoUpdated200717_3)"
   ]
  },
  {
   "cell_type": "code",
   "execution_count": null,
   "metadata": {},
   "outputs": [],
   "source": [
    "BloodDNASamplesCleaningInfoUpdated200717_3.sort_index(inplace=True)\n",
    "BloodDNASamplesCleaningInfoUpdated200717_4=BloodDNASamplesCleaningInfoUpdated200717_3.drop_duplicates('DnaID')"
   ]
  },
  {
   "cell_type": "code",
   "execution_count": null,
   "metadata": {},
   "outputs": [],
   "source": [
    "print len(BloodDNASamplesCleaningInfoUpdated200717_4)"
   ]
  },
  {
   "cell_type": "code",
   "execution_count": null,
   "metadata": {},
   "outputs": [],
   "source": [
    "774-241"
   ]
  },
  {
   "cell_type": "code",
   "execution_count": null,
   "metadata": {},
   "outputs": [],
   "source": [
    "533./948"
   ]
  },
  {
   "cell_type": "code",
   "execution_count": null,
   "metadata": {},
   "outputs": [],
   "source": [
    "## saving:\n",
    "\n",
    "with open('/net/mraid08/export/genie/Lab/Personal/ShaniBAF/Old Computer Files/Sample files/BloodDNASamplesCleaningInfoUpdated200717_4',\"wb\" ) as f:\n",
    "    pickle.dump(BloodDNASamplesCleaningInfoUpdated200717_4,f)\n",
    "f.close()\n",
    "\n",
    "writer='/net/mraid08/export/genie/Lab/Personal/ShaniBAF/Old Computer Files/Sample files/BloodDNASamplesCleaningInfoUpdated200717_4.xlsx'\n",
    "BloodDNASamplesCleaningInfoUpdated200717_4.to_excel(writer, sheet_name='Sheet1', na_rep='', float_format=None, columns=None, header=True, index=True, index_label=None, startrow=0, startcol=0, engine=None, merge_cells=True, encoding=None, inf_rep='inf', verbose=True)\n",
    "\n",
    "writer='/net/mraid08/export/genie/Lab/Personal/ShaniBAF/Old Computer Files/Sample files/SamplesToReextract.xlsx'\n",
    "SamplesToReextract.to_excel(writer, sheet_name='Sheet1', na_rep='', float_format=None, columns=None, header=True, index=True, index_label=None, startrow=0, startcol=0, engine=None, merge_cells=True, encoding=None, inf_rep='inf', verbose=True)\n",
    "\n",
    "writer='/net/mraid08/export/genie/Lab/Personal/ShaniBAF/Old Computer Files/Sample files/SamplesToReClean.xlsx'\n",
    "SamplesToReClean.to_excel(writer, sheet_name='Sheet1', na_rep='', float_format=None, columns=None, header=True, index=True, index_label=None, startrow=0, startcol=0, engine=None, merge_cells=True, encoding=None, inf_rep='inf', verbose=True)\n"
   ]
  },
  {
   "cell_type": "code",
   "execution_count": null,
   "metadata": {},
   "outputs": [],
   "source": [
    "print len(BloodDNASamplesCleaningInfoUpdated200717_4[BloodDNASamplesCleaningInfoUpdated200717_4['ng/ul after cleanUp'].notnull()])"
   ]
  },
  {
   "cell_type": "code",
   "execution_count": null,
   "metadata": {},
   "outputs": [],
   "source": [
    "774.0/948\n"
   ]
  },
  {
   "cell_type": "markdown",
   "metadata": {
    "collapsed": true
   },
   "source": [
    "## adding UserIDs for new samples and adding  study type to all:"
   ]
  },
  {
   "cell_type": "code",
   "execution_count": null,
   "metadata": {},
   "outputs": [],
   "source": [
    "file_name='/net/mraid08/export/genie/Lab/Personal/ShaniBAF/Old Computer Files/Sample files/BDnumber_and_UserIDs_someAreWrong.xlsx'\n",
    "BDnumber_and_UserIDs_someAreWrong=pd.read_excel(file_name)\n",
    "BDnumber_and_UserIDs_someAreWrong.head()"
   ]
  },
  {
   "cell_type": "code",
   "execution_count": null,
   "metadata": {},
   "outputs": [],
   "source": [
    "BloodDNASamplesCleaningInfoUpdated200717_4.head()"
   ]
  },
  {
   "cell_type": "code",
   "execution_count": null,
   "metadata": {},
   "outputs": [],
   "source": [
    "BloodDNASamplesCleaningInfoUpdated200717_5=pd.merge(BloodDNASamplesCleaningInfoUpdated200717_4,BDnumber_and_UserIDs_someAreWrong,how='left',\n",
    "                                                   left_on='DnaID', right_on='DnaID')"
   ]
  },
  {
   "cell_type": "code",
   "execution_count": null,
   "metadata": {},
   "outputs": [],
   "source": [
    "BloodDNASamplesCleaningInfoUpdated200717_5['UserIDnew']=np.where(BloodDNASamplesCleaningInfoUpdated200717_5['UserID_x'].isnull(),\n",
    "                                                                BloodDNASamplesCleaningInfoUpdated200717_5['UserID_y'],\n",
    "                                                                BloodDNASamplesCleaningInfoUpdated200717_5['UserID_x'])\n"
   ]
  },
  {
   "cell_type": "code",
   "execution_count": null,
   "metadata": {},
   "outputs": [],
   "source": [
    "BloodDNASamplesCleaningInfoUpdated200717_5[850:900]"
   ]
  },
  {
   "cell_type": "code",
   "execution_count": null,
   "metadata": {},
   "outputs": [],
   "source": [
    "BloodDNASamplesCleaningInfoUpdated200717_6=BloodDNASamplesCleaningInfoUpdated200717_5.rename(columns={'UserIDnew':'UserID'})"
   ]
  },
  {
   "cell_type": "code",
   "execution_count": null,
   "metadata": {},
   "outputs": [],
   "source": [
    "BloodDNASamplesCleaningInfoUpdated200717_6=BloodDNASamplesCleaningInfoUpdated200717_6.drop(['UserID_x', 'UserID_y'], axis=1)"
   ]
  },
  {
   "cell_type": "code",
   "execution_count": null,
   "metadata": {},
   "outputs": [],
   "source": [
    "print len(BloodDNASamplesCleaningInfoUpdated200717_6)"
   ]
  },
  {
   "cell_type": "code",
   "execution_count": null,
   "metadata": {},
   "outputs": [],
   "source": [
    "file_name='/net/mraid08/export/genie/Lab/Personal/ShaniBAF/Old Computer Files/Sample files/UserIDs_studyType.xlsx'\n",
    "UserIDs_studyType=pd.read_excel(file_name)\n",
    "UserIDs_studyType.head()"
   ]
  },
  {
   "cell_type": "code",
   "execution_count": null,
   "metadata": {},
   "outputs": [],
   "source": [
    "BloodDNASamplesCleaningInfoUpdated200717_7=pd.merge(BloodDNASamplesCleaningInfoUpdated200717_6,UserIDs_studyType,how='left',\n",
    "                                                   left_on='UserID', right_on='UserID')"
   ]
  },
  {
   "cell_type": "code",
   "execution_count": null,
   "metadata": {},
   "outputs": [],
   "source": [
    "BloodDNASamplesCleaningInfoUpdated200717_7[950:1000]"
   ]
  },
  {
   "cell_type": "code",
   "execution_count": null,
   "metadata": {},
   "outputs": [],
   "source": [
    "print len(BloodDNASamplesCleaningInfoUpdated200717_7)"
   ]
  },
  {
   "cell_type": "code",
   "execution_count": null,
   "metadata": {},
   "outputs": [],
   "source": [
    "BloodDNASamplesCleaningInfoUpdated200717_8=BloodDNASamplesCleaningInfoUpdated200717_7.drop_duplicates('DnaID')"
   ]
  },
  {
   "cell_type": "code",
   "execution_count": null,
   "metadata": {},
   "outputs": [],
   "source": [
    "print len(BloodDNASamplesCleaningInfoUpdated200717_8)"
   ]
  },
  {
   "cell_type": "code",
   "execution_count": null,
   "metadata": {},
   "outputs": [],
   "source": [
    "BloodDNASamplesCleaningInfoUpdated200717_8['DnaIDindex']=BloodDNASamplesCleaningInfoUpdated200717_8['DnaID'].str.replace(\"BD\",\"\")"
   ]
  },
  {
   "cell_type": "code",
   "execution_count": null,
   "metadata": {},
   "outputs": [],
   "source": [
    "BloodDNASamplesCleaningInfoUpdated200717_8.head()"
   ]
  },
  {
   "cell_type": "code",
   "execution_count": null,
   "metadata": {},
   "outputs": [],
   "source": [
    "# downloading the lookup table for study types:\n",
    "file_name='/net/mraid08/export/genie/Lab/Personal/ShaniBAF/Old Computer Files/Sample files/studyTypeTable.xlsx'\n",
    "studyTypeTable=pd.read_excel(file_name)\n",
    "studyTypeTable.head()"
   ]
  },
  {
   "cell_type": "code",
   "execution_count": null,
   "metadata": {},
   "outputs": [],
   "source": [
    "BloodDNASamplesCleaningInfoUpdated200717_9=pd.merge(BloodDNASamplesCleaningInfoUpdated200717_8,studyTypeTable, how='left',\n",
    "                                                   left_on='StudyTypeID', right_on='StudyID')\n",
    "BloodDNASamplesCleaningInfoUpdated200717_9.head()"
   ]
  },
  {
   "cell_type": "code",
   "execution_count": null,
   "metadata": {},
   "outputs": [],
   "source": [
    "#BloodDNASamplesCleaningInfoUpdated200717_9=BloodDNASamplesCleaningInfoUpdated200717_9.drop(['StudyTypeID','StudyID'], axis=1)\n",
    "BloodDNASamplesCleaningInfoUpdated200717_9.set_index('DnaIDindex', inplace=True)\n",
    "BloodDNASamplesCleaningInfoUpdated200717_9"
   ]
  },
  {
   "cell_type": "code",
   "execution_count": null,
   "metadata": {},
   "outputs": [],
   "source": [
    "BloodDNASamplesCleaningInfoUpdated200717_9=BloodDNASamplesCleaningInfoUpdated200717_9[BloodDNASamplesCleaningInfoUpdated200717_9['DnaID'].notnull()]"
   ]
  },
  {
   "cell_type": "code",
   "execution_count": null,
   "metadata": {},
   "outputs": [],
   "source": [
    "BloodDNASamplesCleaningInfoUpdated200717_9.head()"
   ]
  },
  {
   "cell_type": "code",
   "execution_count": null,
   "metadata": {},
   "outputs": [],
   "source": [
    "with open('/net/mraid08/export/genie/Lab/Personal/ShaniBAF/Old Computer Files/Sample files/BloodDNASamplesCleaningInfoUpdated200717_9',\"wb\" ) as f:\n",
    "    pickle.dump(BloodDNASamplesCleaningInfoUpdated200717_9,f)\n",
    "f.close()\n",
    "\n",
    "writer='/net/mraid08/export/genie/Lab/Personal/ShaniBAF/Old Computer Files/Sample files/BloodDNASamplesCleaningInfoUpdated200717_9.xlsx'\n",
    "BloodDNASamplesCleaningInfoUpdated200717_9.to_excel(writer, sheet_name='Sheet1', na_rep='', float_format=None, columns=None, header=True, index=True, index_label=None, startrow=0, startcol=0, engine=None, merge_cells=True, encoding=None, inf_rep='inf', verbose=True)"
   ]
  },
  {
   "cell_type": "code",
   "execution_count": null,
   "metadata": {},
   "outputs": [],
   "source": []
  },
  {
   "cell_type": "markdown",
   "metadata": {},
   "source": [
    "## changes to correction status:\n",
    "there were reg nmbers reported as unknown by Daphna's function but lately she and Eran and decided to use them as correct numbers since they were not clearly defined as confused with other samples. Daphna gave me the list of all reg numbers that are considered to be correct and I need to cross it with my list and update this samples:"
   ]
  },
  {
   "cell_type": "code",
   "execution_count": null,
   "metadata": {},
   "outputs": [],
   "source": [
    "# load the most updated sample list that I have\n",
    "file1='/net/mraid08/export/genie/Lab/Personal/ShaniBAF/Sample files/BloodDNASamplesCleaningInfoUpdated200717_9'\n",
    "BloodDNASamplesCleaningInfoUpdated200717_9=pd.read_pickle(file1)\n"
   ]
  },
  {
   "cell_type": "code",
   "execution_count": null,
   "metadata": {},
   "outputs": [],
   "source": [
    "#load the list from Daphan:\n",
    "file1='/net/mraid08/export/genie/Lab/Personal/ShaniBAF/Sample files/correct_genotyped_registrationNumbers_fromDaphna200817.xlsx'\n",
    "CorrectRegNumsUpdated=pd.read_excel(file1)"
   ]
  },
  {
   "cell_type": "code",
   "execution_count": null,
   "metadata": {},
   "outputs": [],
   "source": [
    "CorrectRegNumsUpdated.head()"
   ]
  },
  {
   "cell_type": "code",
   "execution_count": null,
   "metadata": {},
   "outputs": [],
   "source": [
    "BloodDNASamplesCleaningInfoUpdated200817=pd.merge(BloodDNASamplesCleaningInfoUpdated200717_9,CorrectRegNumsUpdated,how='outer',\n",
    "                                                  left_on='original registration code', right_on=1,copy=False)"
   ]
  },
  {
   "cell_type": "code",
   "execution_count": null,
   "metadata": {},
   "outputs": [],
   "source": []
  },
  {
   "cell_type": "code",
   "execution_count": null,
   "metadata": {},
   "outputs": [],
   "source": [
    "#load the blood sample file extracted from the DB ON 200717::\n",
    "file1='/net/mraid08/export/genie/Lab/Personal/ShaniBAF/Sample files/BloodDNASamples_DBExtractedOn200717.xlsx'\n",
    "BloodDNASamples_DBExtractedOn200717=pd.read_excel(file1)\n",
    "\n"
   ]
  },
  {
   "cell_type": "code",
   "execution_count": null,
   "metadata": {},
   "outputs": [],
   "source": [
    "BloodDNASamplesCleaningInfoUpdated200817_3=pd.merge(BloodDNASamplesCleaningInfoUpdated200717_9,BloodDNASamples_DBExtractedOn200717,\n",
    "                                                   how='inner', left_on='DnaID',right_on='DnaID',copy=False)"
   ]
  },
  {
   "cell_type": "code",
   "execution_count": null,
   "metadata": {},
   "outputs": [],
   "source": [
    "print len(BloodDNASamplesCleaningInfoUpdated200817_3)"
   ]
  },
  {
   "cell_type": "code",
   "execution_count": null,
   "metadata": {},
   "outputs": [],
   "source": [
    "BloodDNASamplesCleaningInfoUpdated200817_3.head()"
   ]
  },
  {
   "cell_type": "code",
   "execution_count": null,
   "metadata": {},
   "outputs": [],
   "source": [
    "BloodDNASamplesCleaningInfoUpdated200817_3['UserID_x']=np.where(BloodDNASamplesCleaningInfoUpdated200817_3['UserID_x'].isnull(),\n",
    "                                                               BloodDNASamplesCleaningInfoUpdated200817_3['UserID_y'],\n",
    "                                                               BloodDNASamplesCleaningInfoUpdated200817_3['UserID_x'])"
   ]
  },
  {
   "cell_type": "code",
   "execution_count": null,
   "metadata": {},
   "outputs": [],
   "source": [
    "BloodDNASamplesCleaningInfoUpdated200817_3['correct registration code']=np.where(BloodDNASamplesCleaningInfoUpdated200817_3['correct registration code'].isnull(),\n",
    "                                                               BloodDNASamplesCleaningInfoUpdated200817_3['RegistrationCode'],\n",
    "                                                               BloodDNASamplesCleaningInfoUpdated200817_3['correct registration code'])"
   ]
  },
  {
   "cell_type": "code",
   "execution_count": null,
   "metadata": {},
   "outputs": [],
   "source": [
    "BloodDNASamplesCleaningInfoUpdated200817_3['original registration code']=np.where(BloodDNASamplesCleaningInfoUpdated200817_3['original registration code'].isnull(),\n",
    "                                                               BloodDNASamplesCleaningInfoUpdated200817_3['RegistrationCode'],\n",
    "                                                               BloodDNASamplesCleaningInfoUpdated200817_3['original registration code'])"
   ]
  },
  {
   "cell_type": "code",
   "execution_count": null,
   "metadata": {},
   "outputs": [],
   "source": [
    "BloodDNASamplesCleaningInfoUpdated200817_3['correction status (reg number)']=np.where(BloodDNASamplesCleaningInfoUpdated200817_3['correction status (reg number)'].isnull(),\n",
    "                                                               'RegNUM not checked',\n",
    "                                                               BloodDNASamplesCleaningInfoUpdated200817_3['correction status (reg number)'])"
   ]
  },
  {
   "cell_type": "code",
   "execution_count": null,
   "metadata": {},
   "outputs": [],
   "source": [
    "BloodDNASamplesCleaningInfoUpdated200817_3=BloodDNASamplesCleaningInfoUpdated200817_3.drop(['UserID_y','RegistrationCode','UserID.1'],axis=1)"
   ]
  },
  {
   "cell_type": "code",
   "execution_count": null,
   "metadata": {},
   "outputs": [],
   "source": [
    "BloodDNASamplesCleaningInfoUpdated200817_3=BloodDNASamplesCleaningInfoUpdated200817_3.rename(columns={'UserID_x':'UserID'})"
   ]
  },
  {
   "cell_type": "code",
   "execution_count": null,
   "metadata": {},
   "outputs": [],
   "source": []
  },
  {
   "cell_type": "code",
   "execution_count": null,
   "metadata": {},
   "outputs": [],
   "source": [
    "BloodDNASamplesCleaningInfoUpdated200817_3[BloodDNASamplesCleaningInfoUpdated200817_3['correction status (reg number)']!='same']"
   ]
  },
  {
   "cell_type": "code",
   "execution_count": null,
   "metadata": {},
   "outputs": [],
   "source": [
    "writer='/net/mraid08/export/genie/Lab/Personal/ShaniBAF/Sample files/NotCorrectedRegNums.xlsx'\n",
    "NotCorrectedRegNums.to_excel(writer, sheet_name='Sheet1', na_rep='', float_format=None, columns=None, header=True, index=True, index_label=None, startrow=0, startcol=0, engine=None, merge_cells=True, encoding=None, inf_rep='inf', verbose=True)"
   ]
  },
  {
   "cell_type": "code",
   "execution_count": null,
   "metadata": {},
   "outputs": [],
   "source": [
    "CorrectRegNumsUpdatedList=list(CorrectRegNumsUpdated[1])"
   ]
  },
  {
   "cell_type": "code",
   "execution_count": null,
   "metadata": {},
   "outputs": [],
   "source": [
    "for i in BloodDNASamplesCleaningInfoUpdated200817_3.index:\n",
    "    if BloodDNASamplesCleaningInfoUpdated200817_3.loc[i,'correct registration code'] in CorrectRegNumsUpdatedList:\n",
    "        BloodDNASamplesCleaningInfoUpdated200817_3.loc[i,'genotyped']=1\n",
    "    else:\n",
    "         BloodDNASamplesCleaningInfoUpdated200817_3.loc[i,'genotyped']=0"
   ]
  },
  {
   "cell_type": "code",
   "execution_count": null,
   "metadata": {},
   "outputs": [],
   "source": [
    "BloodDNASamplesCleaningInfoUpdated200817_3[(BloodDNASamplesCleaningInfoUpdated200817_3['genotyped']!=1)&(BloodDNASamplesCleaningInfoUpdated200817_3['correction status (reg number)']=='corrected')]"
   ]
  },
  {
   "cell_type": "code",
   "execution_count": null,
   "metadata": {},
   "outputs": [],
   "source": [
    "BloodDNASamplesCleaningInfoUpdated200817_3=BloodDNASamplesCleaningInfoUpdated200817_3.rename(columns={'SampleInDaphnasList':'RegCodeInDaphnasList'})"
   ]
  },
  {
   "cell_type": "code",
   "execution_count": null,
   "metadata": {},
   "outputs": [],
   "source": [
    "BloodDNASamplesCleaningInfoUpdated200817_3[(BloodDNASamplesCleaningInfoUpdated200817_3['genotyped']!=0)&(BloodDNASamplesCleaningInfoUpdated200817_3['correction status (reg number)']=='correct reg unknown')]"
   ]
  },
  {
   "cell_type": "code",
   "execution_count": null,
   "metadata": {},
   "outputs": [],
   "source": [
    "#GENERATING A LIST OF SAMPLES THAT WERE GENOTYPED:"
   ]
  },
  {
   "cell_type": "code",
   "execution_count": null,
   "metadata": {},
   "outputs": [],
   "source": [
    "sample_list=[]"
   ]
  },
  {
   "cell_type": "code",
   "execution_count": null,
   "metadata": {},
   "outputs": [],
   "source": [
    "sample_list"
   ]
  },
  {
   "cell_type": "code",
   "execution_count": null,
   "metadata": {},
   "outputs": [],
   "source": [
    "folder_list"
   ]
  },
  {
   "cell_type": "code",
   "execution_count": null,
   "metadata": {},
   "outputs": [],
   "source": [
    "folder_list=['Plate1','Plate2','Plate3','Plate4','Plate5-9']\n",
    "\n",
    "sample_list=[]\n",
    "nfiles=0\n",
    "for folder in folder_list:\n",
    "    curr_folder='/net/mraid08/export/jafar/Microbiome/Data/PNP/GeneByGeneData/%s' %folder\n",
    "    filenames = [f for f in listdir(curr_folder) if isfile(join(curr_folder, f))]\n",
    "    nfiles1=len(filenames)\n",
    "    nfiles=nfiles+nfiles1\n",
    "\n",
    "    \n",
    "    for file_name in filenames:\n",
    "        newf1=re.sub(\"\\w+\\-\\w+BD\", \"BD\", file_name)\n",
    "        newf2=newf1.replace('.txt','')\n",
    "        sample_list.append(newf2)\n",
    "        \n",
    "anotherfolder='/net/mraid08/export/jafar/Microbiome/Data/PNP/GeneByGeneData/Batch1442_MCM_1_1_Segal'\n",
    "\n",
    "filenames2 = [f for f in listdir(anotherfolder) if isfile(join(anotherfolder, f))]\n",
    "\n",
    "for file_name2 in filenames2:\n",
    "    nfiles2=len(filenames2)\n",
    "    nfiles=nfiles+nfiles2\n",
    "    newf1=re.sub(\"\\w+\\-BD\", \"BD\", file_name2)\n",
    "    newf2=newf1.replace('.txt','')\n",
    "    sample_list.append(newf2)\n",
    "    \n"
   ]
  },
  {
   "cell_type": "code",
   "execution_count": null,
   "metadata": {},
   "outputs": [],
   "source": [
    "print nfiles"
   ]
  },
  {
   "cell_type": "code",
   "execution_count": null,
   "metadata": {},
   "outputs": [],
   "source": [
    "print len(sample_list)"
   ]
  },
  {
   "cell_type": "code",
   "execution_count": null,
   "metadata": {},
   "outputs": [],
   "source": [
    "anotherfolder='/net/mraid08/export/jafar/Microbiome/Data/PNP/GeneByGeneData/Batch1442_MCM_1_1_Segal'\n",
    "\n",
    "filenames2 = [f for f in listdir(anotherfolder) if isfile(join(anotherfolder, f))]\n",
    "filenames2[0]"
   ]
  },
  {
   "cell_type": "code",
   "execution_count": null,
   "metadata": {},
   "outputs": [],
   "source": [
    "newf1=re.sub(\"\\w+\\-BD\", \"BD\", filenames2[0])\n",
    "newf2=newf1.replace('.txt','')\n",
    "newf2"
   ]
  },
  {
   "cell_type": "code",
   "execution_count": null,
   "metadata": {},
   "outputs": [],
   "source": []
  },
  {
   "cell_type": "code",
   "execution_count": null,
   "metadata": {},
   "outputs": [],
   "source": [
    "print nfiles"
   ]
  },
  {
   "cell_type": "code",
   "execution_count": null,
   "metadata": {},
   "outputs": [],
   "source": [
    "print len(sample_list)"
   ]
  },
  {
   "cell_type": "code",
   "execution_count": null,
   "metadata": {},
   "outputs": [],
   "source": [
    "with open('/net/mraid08/export/genie/Lab/Personal/ShaniBAF/Sample files/genotypedSamplesInFolders','wb') as f:\n",
    "       pickle.dump(sample_list,f)\n",
    "f.close()\n",
    "\n",
    "\n",
    "\n"
   ]
  },
  {
   "cell_type": "code",
   "execution_count": null,
   "metadata": {},
   "outputs": [],
   "source": [
    "for i in BloodDNASamplesCleaningInfoUpdated200817_3.index:\n",
    "    if BloodDNASamplesCleaningInfoUpdated200817_3.loc[i,'DnaID'] in sample_list:\n",
    "        BloodDNASamplesCleaningInfoUpdated200817_3.loc[i,'DnaIDinGenotypingFolder']=1\n",
    "    else:\n",
    "         BloodDNASamplesCleaningInfoUpdated200817_3.loc[i,'DnaIDinGenotypingFolder']=0"
   ]
  },
  {
   "cell_type": "code",
   "execution_count": null,
   "metadata": {},
   "outputs": [],
   "source": [
    "BloodDNASamplesCleaningInfoUpdated200817_3"
   ]
  },
  {
   "cell_type": "code",
   "execution_count": null,
   "metadata": {},
   "outputs": [],
   "source": [
    "BloodDNASamplesCleaningInfoUpdated200817_3[(BloodDNASamplesCleaningInfoUpdated200817_3['DnaIDinGenotypingFolder']==1)&(BloodDNASamplesCleaningInfoUpdated200817_3['RegCodeInDaphnasList']==0)]"
   ]
  },
  {
   "cell_type": "code",
   "execution_count": null,
   "metadata": {},
   "outputs": [],
   "source": [
    "checkWithDaphna=BloodDNASamplesCleaningInfoUpdated200817_3[(BloodDNASamplesCleaningInfoUpdated200817_3['DnaIDinGenotypingFolder']==1)&(BloodDNASamplesCleaningInfoUpdated200817_3['RegCodeInDaphnasList']==0) &((BloodDNASamplesCleaningInfoUpdated200817_3['correction status (reg number)']=='corrected')|(BloodDNASamplesCleaningInfoUpdated200817_3['correction status (reg number)']=='same'))]\n"
   ]
  },
  {
   "cell_type": "code",
   "execution_count": null,
   "metadata": {},
   "outputs": [],
   "source": [
    "checkWithDaphna"
   ]
  },
  {
   "cell_type": "code",
   "execution_count": null,
   "metadata": {},
   "outputs": [],
   "source": [
    "columns_to_keep=['DnaID','correct registration code','correction status (reg number)','original registration code','UserID',\n",
    "                 'RegCodeInDaphnasList','DnaIDinGenotypingFolder']"
   ]
  },
  {
   "cell_type": "code",
   "execution_count": null,
   "metadata": {},
   "outputs": [],
   "source": [
    "checkWithDaphna=checkWithDaphna[columns_to_keep]"
   ]
  },
  {
   "cell_type": "code",
   "execution_count": null,
   "metadata": {},
   "outputs": [],
   "source": [
    "writer='/net/mraid08/export/genie/Lab/Personal/ShaniBAF/Sample files/checkWithDaphna.xlsx'\n",
    "checkWithDaphna.to_excel(writer, sheet_name='Sheet1', na_rep='', float_format=None, columns=None, header=True, index=True, index_label=None, startrow=0, startcol=0, engine=None, merge_cells=True, encoding=None, inf_rep='inf', verbose=True)"
   ]
  },
  {
   "cell_type": "code",
   "execution_count": null,
   "metadata": {},
   "outputs": [],
   "source": [
    "150+86+92+71+96+388"
   ]
  },
  {
   "cell_type": "code",
   "execution_count": null,
   "metadata": {},
   "outputs": [],
   "source": [
    "print len(BloodDNASamplesCleaningInfoUpdated200817_3[BloodDNASamplesCleaningInfoUpdated200817_3['correction status (reg number)']=='correct reg unknown'])"
   ]
  },
  {
   "cell_type": "code",
   "execution_count": null,
   "metadata": {},
   "outputs": [],
   "source": [
    "for i in BloodDNASamplesCleaningInfoUpdated200817_3.index:\n",
    "    if (BloodDNASamplesCleaningInfoUpdated200817_3.loc[i,'correction status (reg number)']!='corrected')&\\\n",
    "        (BloodDNASamplesCleaningInfoUpdated200817_3.loc[i,'correction status (reg number)']!='same')&\\\n",
    "         (BloodDNASamplesCleaningInfoUpdated200817_3.loc[i,'DnaIDinGenotypingFolder']==0):\n",
    "            BloodDNASamplesCleaningInfoUpdated200817_3.loc[i,'correction status (reg number)']='Not Genotyped, assumed to be correct'\n",
    "            BloodDNASamplesCleaningInfoUpdated200817_3.loc[i,'correct registration code']=BloodDNASamplesCleaningInfoUpdated200817_3.loc[i,'original registration code']"
   ]
  },
  {
   "cell_type": "code",
   "execution_count": null,
   "metadata": {},
   "outputs": [],
   "source": [
    "BloodDNASamplesCleaningInfoUpdated200817_3[BloodDNASamplesCleaningInfoUpdated200817_3['correction status (reg number)']=='Not Genotyped, assumed to be correct']"
   ]
  },
  {
   "cell_type": "code",
   "execution_count": null,
   "metadata": {},
   "outputs": [],
   "source": [
    "BloodDNASamplesCleaningInfoUpdated200817_3[BloodDNASamplesCleaningInfoUpdated200817_3['correction status (reg number)']=='RegNUM not checked']"
   ]
  },
  {
   "cell_type": "code",
   "execution_count": null,
   "metadata": {},
   "outputs": [],
   "source": [
    "for i in BloodDNASamplesCleaningInfoUpdated200817_3.index:\n",
    "    if (BloodDNASamplesCleaningInfoUpdated200817_3.loc[i,'correction status (reg number)']=='RegNUM not checked')&\\\n",
    "        (BloodDNASamplesCleaningInfoUpdated200817_3.loc[i,'DnaIDinGenotypingFolder']==1)&\\\n",
    "        (BloodDNASamplesCleaningInfoUpdated200817_3.loc[i,'RegCodeInDaphnasList']==0):\n",
    "            BloodDNASamplesCleaningInfoUpdated200817_3.loc[i,'correction status (reg number)']='note! RegNum probably not correct!'\n",
    "    elif  (BloodDNASamplesCleaningInfoUpdated200817_3.loc[i,'correction status (reg number)']=='RegNUM not checked')&\\\n",
    "        (BloodDNASamplesCleaningInfoUpdated200817_3.loc[i,'DnaIDinGenotypingFolder']==1)&\\\n",
    "        (BloodDNASamplesCleaningInfoUpdated200817_3.loc[i,'RegCodeInDaphnasList']==1):\n",
    "            BloodDNASamplesCleaningInfoUpdated200817_3.loc[i,'correction status (reg number)']='same'      "
   ]
  },
  {
   "cell_type": "code",
   "execution_count": null,
   "metadata": {},
   "outputs": [],
   "source": [
    "BloodDNASamplesCleaningInfoUpdated200817_3[BloodDNASamplesCleaningInfoUpdated200817_3['correction status (reg number)']=='Not Genotyped, assumed to be correct']"
   ]
  },
  {
   "cell_type": "code",
   "execution_count": null,
   "metadata": {},
   "outputs": [],
   "source": [
    "with open('/net/mraid08/export/genie/Lab/Personal/ShaniBAF/Sample files/BloodDNASamplesCleaningInfoUpdated200817_3',\"wb\" ) as f:\n",
    "    pickle.dump(BloodDNASamplesCleaningInfoUpdated200817_3,f)\n",
    "f.close()\n",
    "\n",
    "writer='/net/mraid08/export/genie/Lab/Personal/ShaniBAF/Sample files/BloodDNASamplesCleaningInfoUpdated200817_3.xlsx'\n",
    "BloodDNASamplesCleaningInfoUpdated200817_3.to_excel(writer, sheet_name='Sheet1', na_rep='', float_format=None, columns=None, header=True, index=True, index_label=None, startrow=0, startcol=0, engine=None, merge_cells=True, encoding=None, inf_rep='inf', verbose=True)"
   ]
  },
  {
   "cell_type": "code",
   "execution_count": null,
   "metadata": {},
   "outputs": [],
   "source": [
    "BloodDNASamplesCleaningInfoUpdated200817_3.groupby('correction status (reg number)').count()['DnaID']"
   ]
  },
  {
   "cell_type": "markdown",
   "metadata": {},
   "source": [
    "### add Updated Helsinki status:\n"
   ]
  },
  {
   "cell_type": "code",
   "execution_count": null,
   "metadata": {},
   "outputs": [],
   "source": [
    "file1='/net/mraid08/export/genie/Lab/Personal/ShaniBAF/Sample files/signedHelsinki (1).xlsx'\n",
    "signed=pd.read_excel(file1)"
   ]
  },
  {
   "cell_type": "code",
   "execution_count": null,
   "metadata": {},
   "outputs": [],
   "source": [
    "BloodDNASamplesCleaningInfoUpdated200817_4=pd.merge(BloodDNASamplesCleaningInfoUpdated200817_3,signed,how='left', left_on='UserID',\n",
    "                                                   right_on='UserID')"
   ]
  },
  {
   "cell_type": "code",
   "execution_count": null,
   "metadata": {},
   "outputs": [],
   "source": [
    "print len(BloodDNASamplesCleaningInfoUpdated200817_3)\n",
    "print len(BloodDNASamplesCleaningInfoUpdated200817_4)"
   ]
  },
  {
   "cell_type": "code",
   "execution_count": null,
   "metadata": {},
   "outputs": [],
   "source": [
    "BloodDNASamplesCleaningInfoUpdated200817_4[BloodDNASamplesCleaningInfoUpdated200817_4.duplicated(subset='DnaID',keep=False)]"
   ]
  },
  {
   "cell_type": "code",
   "execution_count": null,
   "metadata": {},
   "outputs": [],
   "source": [
    "BloodDNASamplesCleaningInfoUpdated200817_4=BloodDNASamplesCleaningInfoUpdated200817_4.drop_duplicates(subset=columns_to_check)"
   ]
  },
  {
   "cell_type": "code",
   "execution_count": null,
   "metadata": {},
   "outputs": [],
   "source": [
    "BloodDNASamplesCleaningInfoUpdated200817_4.columns.values"
   ]
  },
  {
   "cell_type": "code",
   "execution_count": null,
   "metadata": {},
   "outputs": [],
   "source": [
    "columns_to_check=['DnaID', 'correct registration code',\n",
    "       'correction status (reg number)', 'original registration code',\n",
    "       'SignedGenHels_x', 'ng/ul after cleanUp',\n",
    "       'Batch name', 'enough for 0.5ug', 'need to re-clean',\n",
    "       'need to re-extract DNA from blood', 'UserID', 'StudyName',\n",
    "       'RegCodeInDaphnasList', 'DnaIDinGenotypingFolder',\n",
    "       'SignedGenHels_y']"
   ]
  },
  {
   "cell_type": "code",
   "execution_count": null,
   "metadata": {},
   "outputs": [],
   "source": [
    "BloodDNASamplesCleaningInfoUpdated200817_4=BloodDNASamplesCleaningInfoUpdated200817_4.drop('SignedGenHels_x', axis=1)"
   ]
  },
  {
   "cell_type": "code",
   "execution_count": null,
   "metadata": {},
   "outputs": [],
   "source": [
    "BloodDNASamplesCleaningInfoUpdated200817_4=BloodDNASamplesCleaningInfoUpdated200817_4.rename(columns={'SignedGenHels_y':'SignedGenHels'})"
   ]
  },
  {
   "cell_type": "code",
   "execution_count": null,
   "metadata": {},
   "outputs": [],
   "source": [
    "with open('/net/mraid08/export/genie/Lab/Personal/ShaniBAF/Sample files/BloodDNASamplesCleaningInfoUpdated200817_4',\"wb\" ) as f:\n",
    "    pickle.dump(BloodDNASamplesCleaningInfoUpdated200817_4,f)\n",
    "f.close()\n",
    "\n",
    "writer='/net/mraid08/export/genie/Lab/Personal/ShaniBAF/Sample files/BloodDNASamplesCleaningInfoUpdated200817_4.xlsx'\n",
    "BloodDNASamplesCleaningInfoUpdated200817_4.to_excel(writer, sheet_name='Sheet1', na_rep='', float_format=None, columns=None, header=True, index=True, index_label=None, startrow=0, startcol=0, engine=None, merge_cells=True, encoding=None, inf_rep='inf', verbose=True)"
   ]
  },
  {
   "cell_type": "code",
   "execution_count": null,
   "metadata": {},
   "outputs": [],
   "source": [
    "wrong=BloodDNASamplesCleaningInfoUpdated200817_4[BloodDNASamplesCleaningInfoUpdated200817_4['correction status (reg number)']=='note! RegNum probably not correct!']"
   ]
  },
  {
   "cell_type": "code",
   "execution_count": null,
   "metadata": {},
   "outputs": [],
   "source": [
    "wrongRegNums=list(wrong['original registration code'])"
   ]
  },
  {
   "cell_type": "code",
   "execution_count": null,
   "metadata": {},
   "outputs": [],
   "source": [
    "## a loop to find the correct reg code for each original reg code:\n",
    "\n",
    "count=0\n",
    "correct_reg_list=[]\n",
    "CorrectionStatus_list=[]\n",
    "only_corrected=[]\n",
    "for reg in wrongRegNums:\n",
    "    Correct=getQCedBloodRegNumByRegNum(reg)\n",
    "    \n",
    "    if Correct==reg:\n",
    "        CorrectionStatus_list.append('same')\n",
    "        correct_reg_list.append(Correct)\n",
    "    else:\n",
    "        count=count+1\n",
    "        if Correct==None:\n",
    "            CorrectionStatus_list.append('correct reg unknown')\n",
    "            correct_reg_list.append('unknown')\n",
    "        else:\n",
    "            CorrectionStatus_list.append('corrected')\n",
    "            correct_reg_list.append(Correct)\n",
    "            only_corrected.append(Correct)\n",
    "      \n",
    "    \n",
    "        \n",
    "        \n",
    "CorrectRegDF200817=pd.DataFrame({'original registration code': wrongRegNums, \n",
    "                           'correct registration code':correct_reg_list,\n",
    "                           'correction status (reg number)': CorrectionStatus_list })\n",
    "\n",
    "CorrectRegDF200817\n"
   ]
  },
  {
   "cell_type": "code",
   "execution_count": null,
   "metadata": {},
   "outputs": [],
   "source": []
  },
  {
   "cell_type": "code",
   "execution_count": null,
   "metadata": {},
   "outputs": [],
   "source": []
  },
  {
   "cell_type": "code",
   "execution_count": null,
   "metadata": {},
   "outputs": [],
   "source": []
  },
  {
   "cell_type": "markdown",
   "metadata": {},
   "source": [
    "## some old stuff:\n",
    "maybe some of the files or tables are not still valid:"
   ]
  },
  {
   "cell_type": "code",
   "execution_count": null,
   "metadata": {},
   "outputs": [],
   "source": [
    "#generate list of users that didnt sign:\n",
    "\n",
    "NotSignedGenHel=pd.merge(BloodAndDnaSamplesFromDB,signedHelsinki, how='outer',\n",
    "                                    left_on='UserID',right_on='UserID')\n",
    "NotSignedGenHel=NotSignedGenHel[NotSignedGenHel['SignedGenHels']!=1]\n",
    "NotSignedGenHel=NotSignedGenHel[pd.notnull(\n",
    "        NotSignedGenHel[['bid1-bloodTableDB','bid2-bloodTableDB','DnaID-hostDnaTableDB']]).any(axis=1)]\n",
    "NotSignedGenHel.head()\n",
    "    "
   ]
  },
  {
   "cell_type": "code",
   "execution_count": null,
   "metadata": {},
   "outputs": [],
   "source": [
    "#downloading the blood storage date table:\n",
    "\n",
    "\n",
    "file_name='/net/mraid08/export/genie/Lab/Personal/ShaniBAF/Old Computer Files/Sample files/BloodStorageDT.xlsx'\n",
    "BloodStorageDT=pd.read_excel(file_name)\n",
    "BloodStorageDT.head()\n"
   ]
  },
  {
   "cell_type": "code",
   "execution_count": null,
   "metadata": {},
   "outputs": [],
   "source": [
    "NotSignedGenHel=NotSignedGenHel.drop_duplicates('UserID')"
   ]
  },
  {
   "cell_type": "code",
   "execution_count": null,
   "metadata": {},
   "outputs": [],
   "source": [
    "BloodStorageDT=BloodStorageDT.drop_duplicates('UserID')"
   ]
  },
  {
   "cell_type": "code",
   "execution_count": null,
   "metadata": {},
   "outputs": [],
   "source": [
    "NotSignedGenHel2=pd.merge(NotSignedGenHel,BloodStorageDT, \n",
    "                          how='left', left_on='UserID', right_on='UserID')\n",
    "NotSignedGenHel2.head()"
   ]
  },
  {
   "cell_type": "code",
   "execution_count": null,
   "metadata": {},
   "outputs": [],
   "source": [
    "## saving the not-signed table to pickles and excel:\n",
    "\n",
    "with open('/net/mraid08/export/genie/Lab/Personal/ShaniBAF/Old Computer Files/Sample files/NotSignedGenHel2',\"wb\" ) as f:\n",
    "    pickle.dump(NotSignedGenHel2,f)\n",
    "f.close()\n",
    "\n",
    "writer='/net/mraid08/export/genie/Lab/Personal/ShaniBAF/Old Computer Files/Sample files/NotSignedGenHel2.xlsx'\n",
    "NotSignedGenHel2.to_excel(writer, sheet_name='Sheet1', na_rep='', float_format=None, columns=None, header=True, index=True, index_label=None, startrow=0, startcol=0, engine=None, merge_cells=True, encoding=None, inf_rep='inf', verbose=True)\n"
   ]
  },
  {
   "cell_type": "code",
   "execution_count": null,
   "metadata": {},
   "outputs": [],
   "source": [
    "groupedByCorrStat=AllBloodDnaSamples130617_9.groupby(['ExpName','correction status (reg number)'])['RegistrationCode'].count()\n",
    "CorrStatDF=pd.DataFrame({'counts':groupedByCorrStat})\n",
    "CorrStatDF['percentage']=CorrStatDF['counts']/CorrStatDF['counts'].sum(level=0)\n",
    "#groupedDFper=pd.DataFrame(groupedDF.groupby(level=1).apply(lambda x: 100 * x / float(x.sum())))\n",
    "\n",
    "CorrStatDF"
   ]
  },
  {
   "cell_type": "code",
   "execution_count": null,
   "metadata": {},
   "outputs": [],
   "source": [
    "file_name='/net/mraid08/export/genie/Lab/Personal/ShaniBAF/Old Computer Files/Sample files/signed list from Noa.xlsx'\n",
    "SignedNoa=pd.read_excel(file_name)"
   ]
  },
  {
   "cell_type": "code",
   "execution_count": null,
   "metadata": {},
   "outputs": [],
   "source": [
    "NotSignedGenHel2.head()"
   ]
  },
  {
   "cell_type": "code",
   "execution_count": null,
   "metadata": {},
   "outputs": [],
   "source": [
    "signedNoaList=list(SignedNoa['RegCode'])"
   ]
  },
  {
   "cell_type": "code",
   "execution_count": null,
   "metadata": {},
   "outputs": [],
   "source": [
    "count=0\n",
    "for code in signedNoaList:\n",
    "    if code in list(NotSignedGenHel2['RegistrationCode']):\n",
    "        print code\n",
    "        count+=1\n",
    "print count"
   ]
  },
  {
   "cell_type": "code",
   "execution_count": null,
   "metadata": {},
   "outputs": [],
   "source": [
    "import PNPChip_QC.getQCedMatchRegNum as pnpchip"
   ]
  },
  {
   "cell_type": "code",
   "execution_count": null,
   "metadata": {},
   "outputs": [],
   "source": [
    "a = pnpchip.getQCedBloodRegNumByRegNum(784215)\n",
    "a"
   ]
  },
  {
   "cell_type": "code",
   "execution_count": null,
   "metadata": {},
   "outputs": [],
   "source": [
    "import time\n",
    "cdate=str(time.strftime(\"%d%m%Y\"))\n",
    "cdate"
   ]
  },
  {
   "cell_type": "code",
   "execution_count": null,
   "metadata": {},
   "outputs": [],
   "source": [
    "writer='/net/mraid08/export/genie/Lab/Personal/ShaniBAF/Old Computer Files/Sample files/CorrectRegDF_%s.xlsx' %cdate"
   ]
  },
  {
   "cell_type": "code",
   "execution_count": null,
   "metadata": {},
   "outputs": [],
   "source": [
    "writer"
   ]
  },
  {
   "cell_type": "code",
   "execution_count": null,
   "metadata": {},
   "outputs": [],
   "source": [
    "getQCedBloodRegNumByRegNum(283785)"
   ]
  },
  {
   "cell_type": "code",
   "execution_count": null,
   "metadata": {},
   "outputs": [],
   "source": [
    "a=getQCedBloodRegNumByRegNum(608673)"
   ]
  },
  {
   "cell_type": "code",
   "execution_count": null,
   "metadata": {},
   "outputs": [],
   "source": [
    "a"
   ]
  },
  {
   "cell_type": "code",
   "execution_count": null,
   "metadata": {},
   "outputs": [],
   "source": []
  }
 ],
 "metadata": {
  "kernelspec": {
   "display_name": "Python 2",
   "language": "python",
   "name": "python2"
  },
  "language_info": {
   "codemirror_mode": {
    "name": "ipython",
    "version": 2
   },
   "file_extension": ".py",
   "mimetype": "text/x-python",
   "name": "python",
   "nbconvert_exporter": "python",
   "pygments_lexer": "ipython2",
   "version": "2.7.8"
  },
  "toc": {
   "nav_menu": {},
   "number_sections": true,
   "sideBar": true,
   "skip_h1_title": false,
   "toc_cell": false,
   "toc_position": {},
   "toc_section_display": "block",
   "toc_window_display": true
  }
 },
 "nbformat": 4,
 "nbformat_minor": 1
}
